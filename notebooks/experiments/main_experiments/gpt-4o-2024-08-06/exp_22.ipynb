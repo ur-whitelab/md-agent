{
 "cells": [
  {
   "cell_type": "code",
   "execution_count": 1,
   "metadata": {},
   "outputs": [],
   "source": [
    "import datetime\n",
    "import os\n",
    "from mdcrow import MDCrow"
   ]
  },
  {
   "cell_type": "code",
   "execution_count": 2,
   "metadata": {},
   "outputs": [
    {
     "name": "stdout",
     "output_type": "stream",
     "text": [
      "date and time: 2024-09-08\n",
      "time: 16:39:59\n",
      "LLM:  gpt-4o-2024-08-06 \n",
      "Temperature:  0.1\n"
     ]
    }
   ],
   "source": [
    "prompt22 = \"Perform a brief simulation of protein 1PQ2.\"\n",
    "llm_var = \"gpt-4o-2024-08-06\"\n",
    "tools = \"all\"\n",
    "agent = MDCrow(agent_type=\"Structured\", model=llm_var, top_k_tools=tools,ckpt_dir=\"ckpt_41\")\n",
    "now = datetime.datetime.now()\n",
    "date = now.strftime(\"%Y-%m-%d\")\n",
    "print(\"date and time:\",date)\n",
    "time = now.strftime(\"%H:%M:%S\")\n",
    "print(\"time:\",time)\n",
    "print(\"LLM: \",agent.llm.model_name,\"\\nTemperature: \",agent.llm.temperature)"
   ]
  },
  {
   "cell_type": "code",
   "execution_count": 3,
   "metadata": {},
   "outputs": [],
   "source": [
    "# agent.run(prompt22)"
   ]
  },
  {
   "cell_type": "markdown",
   "metadata": {},
   "source": [
    "### Final Answer\n",
    "```json\n",
    "{\n",
    "  \"action\": \"Final Answer\",\n",
    "  \"action_input\": \"The brief simulation of protein 1PQ2 has been successfully completed. The simulation trajectory, state log, and PDB frames have been generated. The standalone script for the simulation is saved with ID: sim0_111844, and the initial topology file is saved with ID: top_sim0_111844 in the files/pdb/ directory.\"\n",
    "}\n",
    "```\n",
    "\n",
    "Checkpint directory:  /gpfs/fs2/scratch/jmedina9/mdcrow/md-agent/ckpt/ckpt_41\n"
   ]
  },
  {
   "cell_type": "code",
   "execution_count": 4,
   "metadata": {},
   "outputs": [
    {
     "name": "stdout",
     "output_type": "stream",
     "text": [
      "date and time: 2024-09-08\n",
      "time: 16:39:59\n",
      "Files found in registry: 1PQ2_111704: PDB file downloaded from RSCB\n",
      " PDBFile ID: 1PQ2_111704\n",
      " 1PQ2_111840: Cleaned File:  Removed Heterogens\n",
      " and Water Removed.  Replaced Nonstandard Residues. Added Hydrogens at pH 7.0. Missing Atoms Added and replaces nonstandard residues. \n",
      " top_sim0_111844: Initial positions for simulation sim0_111844\n",
      " sim0_111844: Basic Simulation of Protein 1PQ2_111840\n",
      " rec0_111845: Simulation trajectory for protein 1PQ2_111840 and simulation sim0_111844\n",
      " rec1_111845: Simulation state log for protein 1PQ2_111840 and simulation sim0_111844\n",
      " rec2_111845: Simulation pdb frames for protein 1PQ2_111840 and simulation sim0_111844\n"
     ]
    }
   ],
   "source": [
    "now = datetime.datetime.now()\n",
    "date = now.strftime(\"%Y-%m-%d\")\n",
    "print(\"date and time:\",date)\n",
    "time = now.strftime(\"%H:%M:%S\")\n",
    "print(\"time:\",time)\n",
    "registry = agent.path_registry\n",
    "paths_and_descriptions = registry.list_path_names_and_descriptions()\n",
    "print(\"\\n\".join(paths_and_descriptions.split(\",\")))"
   ]
  },
  {
   "cell_type": "code",
   "execution_count": 5,
   "metadata": {},
   "outputs": [
    {
     "name": "stdout",
     "output_type": "stream",
     "text": [
      "Simulation with :15234 for 120 frames.\n"
     ]
    }
   ],
   "source": [
    "trajectory_path = registry.ckpt_dir + registry.get_mapped_path(\"rec0_111845\").split(\"ckpt_41\")[1]\n",
    "topology_path = registry.ckpt_dir + registry.get_mapped_path(\"top_sim0_111844\").split(\"ckpt_41\")[1]\n",
    "assert os.path.exists(trajectory_path), \"Trajectory file not found\"\n",
    "assert os.path.exists(topology_path), \"Topology file not found\"\n",
    "\n",
    "import mdtraj as md\n",
    "traj = md.load(trajectory_path, top=topology_path)\n",
    "print(f\"Simulation with :{traj.n_atoms} for {traj.n_frames} frames.\")"
   ]
  },
  {
   "cell_type": "markdown",
   "metadata": {},
   "source": [
    "# Experiment Result:\n",
    "### Completed without Exception or TimeOut Errors ✅\n",
    "### Attempted all necessary steps ✅\n",
    "### No hallucination ✅\n",
    "### Logic make sense ✅\n",
    "### Correct Answer  ✅\n",
    "### Number of steps completed: 2\n",
    "### % steps completed: 100%"
   ]
  }
 ],
 "metadata": {
  "kernelspec": {
   "display_name": "mdcrow2",
   "language": "python",
   "name": "python3"
  },
  "language_info": {
   "codemirror_mode": {
    "name": "ipython",
    "version": 3
   },
   "file_extension": ".py",
   "mimetype": "text/x-python",
   "name": "python",
   "nbconvert_exporter": "python",
   "pygments_lexer": "ipython3",
   "version": "3.11.9"
  }
 },
 "nbformat": 4,
 "nbformat_minor": 2
}
