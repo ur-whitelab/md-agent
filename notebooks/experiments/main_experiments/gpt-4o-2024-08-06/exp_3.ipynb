{
 "cells": [
  {
   "cell_type": "code",
   "execution_count": 1,
   "metadata": {},
   "outputs": [],
   "source": [
    "import datetime\n",
    "from mdcrow import MDCrow"
   ]
  },
  {
   "cell_type": "code",
   "execution_count": 2,
   "metadata": {},
   "outputs": [
    {
     "name": "stdout",
     "output_type": "stream",
     "text": [
      "date and time: 2024-10-17\n",
      "time: 18:14:08\n",
      "LLM:  gpt-4o-2024-08-06 \n",
      "Temperature:  0.1\n"
     ]
    }
   ],
   "source": [
    "prompt3 = \"Download the PDB file for protein 1GZX. Then, analyze the secondary structure of \\\n",
    "    the protein and provide information on how many helices, sheets, and other components are present. Get the gene names for this protein.\"\n",
    "llm_var = \"gpt-4o-2024-08-06\"\n",
    "tools = \"all\"\n",
    "agent = MDCrow(agent_type=\"Structured\", model=llm_var, top_k_tools=tools)\n",
    "now = datetime.datetime.now()\n",
    "date = now.strftime(\"%Y-%m-%d\")\n",
    "print(\"date and time:\",date)\n",
    "time = now.strftime(\"%H:%M:%S\")\n",
    "print(\"time:\",time)\n",
    "print(\"LLM: \",agent.llm.model_name,\"\\nTemperature: \",agent.llm.temperature)"
   ]
  },
  {
   "cell_type": "code",
   "execution_count": 3,
   "metadata": {},
   "outputs": [
    {
     "name": "stdout",
     "output_type": "stream",
     "text": [
      "Thought: To address the question, I need to first download the PDB file for the protein 1GZX. Then, I will analyze its secondary structure to determine the number of helices, sheets, and other components. Finally, I will retrieve the gene names associated with this protein. I will start by downloading the PDB file.\n",
      "\n",
      "Action:\n",
      "```json\n",
      "{\n",
      "  \"action\": \"PDBFileDownloader\",\n",
      "  \"action_input\": \"1GZX\"\n",
      "}\n",
      "```PDB file found with this ID: 1GZX\n",
      "To proceed, I need to analyze the secondary structure of the downloaded PDB file for protein 1GZX to determine the number of helices, sheets, and other components. After that, I will retrieve the gene names associated with this protein.\n",
      "\n",
      "Action:\n",
      "```json\n",
      "{\n",
      "  \"action\": \"ComputeDSSP\",\n",
      "  \"action_input\": {\n",
      "    \"traj_file\": \"1GZX_181414\",\n",
      "    \"target_frames\": \"all\"\n",
      "  }\n",
      "}\n",
      "```To complete the analysis, I need to summarize the secondary structure information and then retrieve the gene names associated with the protein 1GZX.\n",
      "\n",
      "Action:\n",
      "```json\n",
      "{\n",
      "  \"action\": \"GetGeneNames\",\n",
      "  \"action_input\": {\n",
      "    \"query\": \"1GZX\"\n",
      "  }\n",
      "}\n",
      "```To provide a comprehensive answer, I will summarize the secondary structure analysis and the gene names associated with protein 1GZX.\n",
      "\n",
      "Final Answer: The secondary structure analysis of protein 1GZX reveals the following components:\n",
      "- Helices: 444 residues\n",
      "- Strands: 0 residues\n",
      "- Coils: 130 residues\n",
      "- Non-assigned residues (not a protein residue): 213 residues\n",
      "\n",
      "The gene names associated with protein 1GZX are HBB, HBA1, and HBA2."
     ]
    },
    {
     "data": {
      "text/plain": [
       "({'input': '\\n    You are an expert molecular dynamics scientist, and\\n    your task is to respond to the question or\\n    solve the problem to the best of your ability using\\n    the provided tools.\\n\\n    You can only respond with a single complete\\n    \\'Thought, Action, Action Input\\' format\\n    OR a single \\'Final Answer\\' format.\\n\\n    Complete format:\\n    Thought: (reflect on your progress and decide what to do next)\\n    Action:\\n    ```\\n    {\\n        \"action\": (the action name, it should be the name of a tool),\\n        \"action_input\": (the input string for the action)\\n    }\\n    \\'\\'\\'\\n\\n    OR\\n\\n    Final Answer: (the final response to the original input\\n    question, once all steps are complete)\\n\\n    You are required to use the tools provided,\\n    using the most specific tool\\n    available for each action.\\n    Your final answer should contain all information\\n    necessary to answer the question and its subquestions.\\n    Before you finish, reflect on your progress and make\\n    sure you have addressed the question in its entirety.\\n\\n    If you are asked to continue\\n    or reference previous runs,\\n    the context will be provided to you.\\n    If context is provided, you should assume\\n    you are continuing a chat.\\n\\n    Here is the input:\\n    Previous Context: None\\n    Question: Download the PDB file for protein 1GZX. Then, analyze the secondary structure of     the protein and provide information on how many helices, sheets, and other components are present. Get the gene names for this protein. ',\n",
       "  'output': 'To provide a comprehensive answer, I will summarize the secondary structure analysis and the gene names associated with protein 1GZX.\\n\\nFinal Answer: The secondary structure analysis of protein 1GZX reveals the following components:\\n- Helices: 444 residues\\n- Strands: 0 residues\\n- Coils: 130 residues\\n- Non-assigned residues (not a protein residue): 213 residues\\n\\nThe gene names associated with protein 1GZX are HBB, HBA1, and HBA2.'},\n",
       " '8J94ZEUB')"
      ]
     },
     "execution_count": 3,
     "metadata": {},
     "output_type": "execute_result"
    }
   ],
   "source": [
    "agent.run(prompt3)"
   ]
  },
  {
   "cell_type": "code",
   "execution_count": 4,
   "metadata": {},
   "outputs": [
    {
     "name": "stdout",
     "output_type": "stream",
     "text": [
      "Files found in registry: 1GZX_181414: PDB file downloaded from RSCB, PDBFile ID: 1GZX_181414, rec0_181417: dssp values for trajectory with id: 1GZX_181414\n",
      "/gpfs/fs2/scratch/qcampbe2/repos/md-agent/ckpt/ckpt_5\n"
     ]
    }
   ],
   "source": [
    "registry = agent.path_registry\n",
    "print(registry.list_path_names_and_descriptions())\n",
    "print(registry.ckpt_dir)"
   ]
  },
  {
   "cell_type": "code",
   "execution_count": 7,
   "metadata": {},
   "outputs": [
    {
     "name": "stdout",
     "output_type": "stream",
     "text": [
      "Number of chains:  12\n",
      "Number of sheets:  0\n",
      "Number of helices:  444\n",
      "Number of coils:  130\n"
     ]
    }
   ],
   "source": [
    "import mdtraj as md\n",
    "path = registry.get_mapped_path(\"1GZX_181414\")\n",
    "\n",
    "traj = md.load(path)\n",
    "top = traj.topology\n",
    "number_of_chains = top.n_chains\n",
    "secondary_structure = md.compute_dssp(traj,simplified=True)\n",
    "print(\"Number of chains: \",number_of_chains)\n",
    "print(\"Number of sheets: \",len([i for i in secondary_structure[0] if i == 'E']))\n",
    "print(\"Number of helices: \",len([i for i in secondary_structure[0] if i == 'H']))\n",
    "print(\"Number of coils: \",len([i for i in secondary_structure[0] if i == 'C']))\n"
   ]
  }
 ],
 "metadata": {
  "kernelspec": {
   "display_name": "mdcrow",
   "language": "python",
   "name": "mdcrow"
  },
  "language_info": {
   "codemirror_mode": {
    "name": "ipython",
    "version": 3
   },
   "file_extension": ".py",
   "mimetype": "text/x-python",
   "name": "python",
   "nbconvert_exporter": "python",
   "pygments_lexer": "ipython3",
   "version": "3.12.4"
  }
 },
 "nbformat": 4,
 "nbformat_minor": 4
}
