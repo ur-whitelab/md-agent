{
 "cells": [
  {
   "cell_type": "code",
   "execution_count": 1,
   "id": "b0fcba3a",
   "metadata": {},
   "outputs": [],
   "source": [
    "import time \n",
    "# time.sleep(4000)"
   ]
  },
  {
   "cell_type": "code",
   "execution_count": 2,
   "id": "39451d99-005f-40b2-867e-fb955d63647d",
   "metadata": {},
   "outputs": [],
   "source": [
    "from mdcrow import MDCrow"
   ]
  },
  {
   "cell_type": "code",
   "execution_count": 3,
   "id": "d808d0af-27f5-4e95-87bf-beb2d72c9108",
   "metadata": {},
   "outputs": [
    {
     "name": "stdout",
     "output_type": "stream",
     "text": [
      "date: 2024-09-08\n",
      "time: 15:58:53\n"
     ]
    }
   ],
   "source": [
    "#todays date and time\n",
    "import datetime\n",
    "\n",
    "start = datetime.datetime.now()\n",
    "date = start.strftime(\"%Y-%m-%d\")\n",
    "print(\"date:\",date)\n",
    "time = start.strftime(\"%H:%M:%S\")\n",
    "print(\"time:\",time)"
   ]
  },
  {
   "cell_type": "code",
   "execution_count": 4,
   "id": "82be5f35-3197-49c7-9955-6707529f8691",
   "metadata": {},
   "outputs": [],
   "source": [
    "model='gpt-4o-2024-08-06 '"
   ]
  },
  {
   "cell_type": "code",
   "execution_count": 7,
   "id": "4b12fdc0-25be-4835-9e70-b3ea299bac9d",
   "metadata": {},
   "outputs": [
    {
     "name": "stdout",
     "output_type": "stream",
     "text": [
      "LLM:  gpt-4o-2024-08-06  \n",
      "Temperature:  0.1\n"
     ]
    }
   ],
   "source": [
    "mda = MDCrow(\n",
    "    agent_type='Structured', \n",
    "    model=model, \n",
    "    tools_model=model,\n",
    "    use_memory=False, \n",
    "    top_k_tools=\"all\",\n",
    "    ckpt_dir='ckpt_30'\n",
    ")\n",
    "\n",
    "print(\"LLM: \", mda.llm.model_name,\"\\nTemperature: \", mda.llm.temperature)"
   ]
  },
  {
   "cell_type": "code",
   "execution_count": 8,
   "id": "fe11721e-c775-40d3-9332-9f80820ccc95",
   "metadata": {},
   "outputs": [],
   "source": [
    "prompt = '''Download the PDB files for 8PFK and 8PFQ. Then, compare the secondary structures of the two proteins, including the number of atoms, secondary structures, number of chains, etc.'''\n",
    "# answer = mda.run(prompt)"
   ]
  },
  {
   "cell_type": "markdown",
   "id": "88e3cc36",
   "metadata": {},
   "source": [
    "Final Answer: The comparison of the two proteins, 8PFK and 8PFQ, is as follows:\n",
    "\n",
    "1. **8PFK:**\n",
    "   - Number of Atoms: 487\n",
    "   - Number of Residues: 109\n",
    "   - Number of Chains: 2\n",
    "   - Secondary Structure: No residues were assigned to helix, strand, or coil. All residues were not assigned as they are not protein residues.\n",
    "\n",
    "2. **8PFQ:**\n",
    "   - Number of Atoms: 950\n",
    "   - Number of Residues: 194\n",
    "   - Number of Chains: 6\n",
    "   - Secondary Structure: Similar to 8PFK, no residues were assigned to helix, strand, or coil. All residues were not assigned as they are not protein residues.\n",
    "\n",
    "Both proteins have no secondary structure assignments in terms of helices, strands, or coils, indicating that the residues are not recognized as typical protein residues in the DSSP analysis. The structural differences lie in the number of atoms, residues, and chains, with 8PFQ being larger in all aspects compared to 8PFK.Files found in registry: 8PFK_110515: PDB file downloaded from RSCB, PDBFile ID: 8PFK_110515, 8PFQ_110517: PDB file downloaded from RSCB, PDBFile ID: 8PFQ_110517, rec0_110522: dssp values for trajectory with id: 8PFK_110515, rec0_110523: dssp values for trajectory with id: 8PFQ_110517 \n",
    "\n",
    "\n",
    "Checkpint directory:  /gpfs/fs2/scratch/jmedina9/mdcrow/md-agent/ckpt/ckpt_30"
   ]
  },
  {
   "cell_type": "code",
   "execution_count": 6,
   "id": "81d4d4a1-091e-49db-8272-33c2a11a984b",
   "metadata": {},
   "outputs": [
    {
     "name": "stdout",
     "output_type": "stream",
     "text": [
      "duration: 0.33 minutes\n"
     ]
    }
   ],
   "source": [
    "end = datetime.datetime.now()\n",
    "elapsed = end - start\n",
    "print(f\"duration: {elapsed.total_seconds()/60:.2f} minutes\")"
   ]
  },
  {
   "cell_type": "markdown",
   "id": "1aab27b9-d320-46b3-805b-b953040b11e2",
   "metadata": {},
   "source": [
    "# Confirm that the file was downloaded and the counts were correct"
   ]
  },
  {
   "cell_type": "code",
   "execution_count": 12,
   "id": "0ba860e5-1dd0-4fcc-aa2f-d5e7f975cbae",
   "metadata": {},
   "outputs": [
    {
     "name": "stdout",
     "output_type": "stream",
     "text": [
      "Names found in registry: 8PFK_110515, 8PFQ_110517, rec0_110522, rec0_110523\n",
      "Files found in registry: 8PFK_110515: PDB file downloaded from RSCB\n",
      " PDBFile ID: 8PFK_110515\n",
      " 8PFQ_110517: PDB file downloaded from RSCB\n",
      " PDBFile ID: 8PFQ_110517\n",
      " rec0_110522: dssp values for trajectory with id: 8PFK_110515\n",
      " rec0_110523: dssp values for trajectory with id: 8PFQ_110517\n"
     ]
    }
   ],
   "source": [
    "registry = mda.path_registry\n",
    "all_names = registry.list_path_names()\n",
    "print(all_names)\n",
    "print(\"\\n\".join(registry.list_path_names_and_descriptions().split(\",\")))"
   ]
  },
  {
   "cell_type": "code",
   "execution_count": 13,
   "id": "c1e0e2bd",
   "metadata": {},
   "outputs": [
    {
     "data": {
      "text/plain": [
       "'/Users/jorgemedina/Desktop/md-agent/ckpt/ckpt_30'"
      ]
     },
     "execution_count": 13,
     "metadata": {},
     "output_type": "execute_result"
    }
   ],
   "source": [
    "registry.ckpt_dir"
   ]
  },
  {
   "cell_type": "code",
   "execution_count": 14,
   "id": "9f83919d",
   "metadata": {},
   "outputs": [],
   "source": [
    "import mdtraj as md\n",
    "path1_ = registry.get_mapped_path(\"8PFK_110515\")\n",
    "path2_ = registry.get_mapped_path(\"8PFQ_110517\")\n",
    "path_1 = '/Users/jorgemedina/Desktop/md-agent/ckpt/ckpt_30' + path1_.split('ckpt/ckpt_30')[1]\n",
    "path_2 = '/Users/jorgemedina/Desktop/md-agent/ckpt/ckpt_30' + path2_.split('ckpt/ckpt_30')[1]"
   ]
  },
  {
   "cell_type": "code",
   "execution_count": 17,
   "id": "806ce060",
   "metadata": {},
   "outputs": [
    {
     "name": "stdout",
     "output_type": "stream",
     "text": [
      "8PFK atoms:  487\n",
      "8PFQ atoms:  950\n",
      "8PFK chains:  2\n",
      "8PFQ chains:  6\n",
      "8PFK residues:  109\n",
      "8PFQ residues:  194\n"
     ]
    }
   ],
   "source": [
    "traj1 = md.load(path_1)\n",
    "traj2 = md.load(path_2)\n",
    "print(\"8PFK atoms: \", traj1.n_atoms)\n",
    "print(\"8PFQ atoms: \", traj2.n_atoms)\n",
    "print(\"8PFK chains: \", traj1.n_chains)\n",
    "print(\"8PFQ chains: \", traj2.n_chains)\n",
    "#count the number of residues\n",
    "n_residues1 = len([residue for residue in traj1.top.residues])\n",
    "n_residues2 = len([residue for residue in traj2.top.residues])\n",
    "print(\"8PFK residues: \", n_residues1)\n",
    "print(\"8PFQ residues: \", n_residues2)\n",
    "\n"
   ]
  },
  {
   "attachments": {},
   "cell_type": "markdown",
   "id": "790b786b-95e1-4359-a76b-55c20b4cb261",
   "metadata": {},
   "source": [
    "# Experiment Result:\n",
    "### Completed without Exception or TimeOut Errors ✅\n",
    "### Attempted all necessary steps ✅\n",
    "### No hallucinations ✅ \n",
    "### Logic make sense ✅\n",
    "### Correct Answer  ✅\n",
    "### Number of steps completed: 4\n",
    "### % steps completed: 100%"
   ]
  },
  {
   "cell_type": "markdown",
   "id": "7d032e29",
   "metadata": {},
   "source": []
  }
 ],
 "metadata": {
  "kernelspec": {
   "display_name": "mdcrow2",
   "language": "python",
   "name": "python3"
  },
  "language_info": {
   "codemirror_mode": {
    "name": "ipython",
    "version": 3
   },
   "file_extension": ".py",
   "mimetype": "text/x-python",
   "name": "python",
   "nbconvert_exporter": "python",
   "pygments_lexer": "ipython3",
   "version": "3.11.9"
  }
 },
 "nbformat": 4,
 "nbformat_minor": 5
}
