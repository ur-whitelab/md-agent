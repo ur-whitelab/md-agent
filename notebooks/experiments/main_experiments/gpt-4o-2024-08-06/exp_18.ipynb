{
 "cells": [
  {
   "cell_type": "code",
   "execution_count": 1,
   "id": "e5bff850",
   "metadata": {
    "editable": true,
    "execution": {
     "iopub.execute_input": "2024-10-09T00:40:56.370056Z",
     "iopub.status.busy": "2024-10-09T00:40:56.369726Z",
     "iopub.status.idle": "2024-10-09T00:41:04.796702Z",
     "shell.execute_reply": "2024-10-09T00:41:04.795862Z"
    },
    "papermill": {
     "duration": 8.434215,
     "end_time": "2024-10-09T00:41:04.799214",
     "exception": false,
     "start_time": "2024-10-09T00:40:56.364999",
     "status": "completed"
    },
    "slideshow": {
     "slide_type": ""
    },
    "tags": []
   },
   "outputs": [],
   "source": [
    "import datetime\n",
    "import os\n",
    "from mdcrow import MDCrow"
   ]
  },
  {
   "cell_type": "code",
   "execution_count": 2,
   "id": "4091ea84",
   "metadata": {
    "editable": true,
    "execution": {
     "iopub.execute_input": "2024-10-09T00:41:04.808811Z",
     "iopub.status.busy": "2024-10-09T00:41:04.807837Z",
     "iopub.status.idle": "2024-10-09T00:41:04.814830Z",
     "shell.execute_reply": "2024-10-09T00:41:04.813869Z"
    },
    "papermill": {
     "duration": 0.013408,
     "end_time": "2024-10-09T00:41:04.817141",
     "exception": false,
     "start_time": "2024-10-09T00:41:04.803733",
     "status": "completed"
    },
    "slideshow": {
     "slide_type": ""
    },
    "tags": [
     "parameters"
    ]
   },
   "outputs": [],
   "source": [
    "llm_var = \"accounts/fireworks/models/llama-v3p1-405b-instruct\""
   ]
  },
  {
   "cell_type": "code",
   "execution_count": 3,
   "id": "6b036003",
   "metadata": {
    "execution": {
     "iopub.execute_input": "2024-10-09T00:41:04.824638Z",
     "iopub.status.busy": "2024-10-09T00:41:04.824225Z",
     "iopub.status.idle": "2024-10-09T00:41:04.830444Z",
     "shell.execute_reply": "2024-10-09T00:41:04.829684Z"
    },
    "papermill": {
     "duration": 0.01275,
     "end_time": "2024-10-09T00:41:04.832695",
     "exception": false,
     "start_time": "2024-10-09T00:41:04.819945",
     "status": "completed"
    },
    "tags": [
     "injected-parameters"
    ]
   },
   "outputs": [],
   "source": [
    "# Parameters\n",
    "llm_var = \"gpt-4o-2024-08-06\"\n"
   ]
  },
  {
   "cell_type": "code",
   "execution_count": 4,
   "id": "0e2a9dce-a059-4b42-ad3f-d2c707c578c0",
   "metadata": {
    "execution": {
     "iopub.execute_input": "2024-10-09T00:41:04.839719Z",
     "iopub.status.busy": "2024-10-09T00:41:04.839388Z",
     "iopub.status.idle": "2024-10-09T00:41:05.347399Z",
     "shell.execute_reply": "2024-10-09T00:41:05.346638Z"
    },
    "papermill": {
     "duration": 0.514186,
     "end_time": "2024-10-09T00:41:05.349592",
     "exception": false,
     "start_time": "2024-10-09T00:41:04.835406",
     "status": "completed"
    },
    "tags": []
   },
   "outputs": [
    {
     "name": "stdout",
     "output_type": "stream",
     "text": [
      "date and time: 2024-10-08\n",
      "time: 20:41:05\n",
      "LLM:  gpt-4o-2024-08-06 \n",
      "Temperature:  0.1\n"
     ]
    }
   ],
   "source": [
    "prompt18 = \"Download the PDB for 2YXF. Tell me about its stability as found in the literature. Then, simulate it for 1 ns and plot its RMSD over time.\"\n",
    "paper_dir = \"paper_collection\"\n",
    "tools = \"all\"\n",
    "agent = MDCrow(agent_type=\"Structured\", model=llm_var, top_k_tools=tools, paper_dir=paper_dir)\n",
    "now = datetime.datetime.now()\n",
    "date = now.strftime(\"%Y-%m-%d\")\n",
    "print(\"date and time:\",date)\n",
    "time = now.strftime(\"%H:%M:%S\")\n",
    "print(\"time:\",time)\n",
    "print(\"LLM: \",agent.llm.model_name,\"\\nTemperature: \",agent.llm.temperature)"
   ]
  },
  {
   "cell_type": "code",
   "execution_count": 5,
   "id": "5966a086",
   "metadata": {
    "execution": {
     "iopub.execute_input": "2024-10-09T00:41:05.357279Z",
     "iopub.status.busy": "2024-10-09T00:41:05.356958Z",
     "iopub.status.idle": "2024-10-09T09:03:13.516514Z",
     "shell.execute_reply": "2024-10-09T09:03:13.515601Z"
    },
    "papermill": {
     "duration": 30128.166467,
     "end_time": "2024-10-09T09:03:13.519308",
     "exception": false,
     "start_time": "2024-10-09T00:41:05.352841",
     "status": "completed"
    },
    "tags": []
   },
   "outputs": [
    {
     "name": "stdout",
     "output_type": "stream",
     "text": [
      "Thought"
     ]
    },
    {
     "name": "stdout",
     "output_type": "stream",
     "text": [
      ":"
     ]
    },
    {
     "name": "stdout",
     "output_type": "stream",
     "text": [
      " I"
     ]
    },
    {
     "name": "stdout",
     "output_type": "stream",
     "text": [
      " will"
     ]
    },
    {
     "name": "stdout",
     "output_type": "stream",
     "text": [
      " start"
     ]
    },
    {
     "name": "stdout",
     "output_type": "stream",
     "text": [
      " by"
     ]
    },
    {
     "name": "stdout",
     "output_type": "stream",
     "text": [
      " downloading"
     ]
    },
    {
     "name": "stdout",
     "output_type": "stream",
     "text": [
      " the"
     ]
    },
    {
     "name": "stdout",
     "output_type": "stream",
     "text": [
      " P"
     ]
    },
    {
     "name": "stdout",
     "output_type": "stream",
     "text": [
      "DB"
     ]
    },
    {
     "name": "stdout",
     "output_type": "stream",
     "text": [
      " file"
     ]
    },
    {
     "name": "stdout",
     "output_type": "stream",
     "text": [
      " for"
     ]
    },
    {
     "name": "stdout",
     "output_type": "stream",
     "text": [
      " "
     ]
    },
    {
     "name": "stdout",
     "output_type": "stream",
     "text": [
      "2"
     ]
    },
    {
     "name": "stdout",
     "output_type": "stream",
     "text": [
      "Y"
     ]
    },
    {
     "name": "stdout",
     "output_type": "stream",
     "text": [
      "XF"
     ]
    },
    {
     "name": "stdout",
     "output_type": "stream",
     "text": [
      "."
     ]
    },
    {
     "name": "stdout",
     "output_type": "stream",
     "text": [
      " Then"
     ]
    },
    {
     "name": "stdout",
     "output_type": "stream",
     "text": [
      ","
     ]
    },
    {
     "name": "stdout",
     "output_type": "stream",
     "text": [
      " I"
     ]
    },
    {
     "name": "stdout",
     "output_type": "stream",
     "text": [
      " will"
     ]
    },
    {
     "name": "stdout",
     "output_type": "stream",
     "text": [
      " search"
     ]
    },
    {
     "name": "stdout",
     "output_type": "stream",
     "text": [
      " the"
     ]
    },
    {
     "name": "stdout",
     "output_type": "stream",
     "text": [
      " literature"
     ]
    },
    {
     "name": "stdout",
     "output_type": "stream",
     "text": [
      " for"
     ]
    },
    {
     "name": "stdout",
     "output_type": "stream",
     "text": [
      " information"
     ]
    },
    {
     "name": "stdout",
     "output_type": "stream",
     "text": [
      " about"
     ]
    },
    {
     "name": "stdout",
     "output_type": "stream",
     "text": [
      " its"
     ]
    },
    {
     "name": "stdout",
     "output_type": "stream",
     "text": [
      " stability"
     ]
    },
    {
     "name": "stdout",
     "output_type": "stream",
     "text": [
      "."
     ]
    },
    {
     "name": "stdout",
     "output_type": "stream",
     "text": [
      " After"
     ]
    },
    {
     "name": "stdout",
     "output_type": "stream",
     "text": [
      " that"
     ]
    },
    {
     "name": "stdout",
     "output_type": "stream",
     "text": [
      ","
     ]
    },
    {
     "name": "stdout",
     "output_type": "stream",
     "text": [
      " I"
     ]
    },
    {
     "name": "stdout",
     "output_type": "stream",
     "text": [
      " will"
     ]
    },
    {
     "name": "stdout",
     "output_type": "stream",
     "text": [
      " set"
     ]
    },
    {
     "name": "stdout",
     "output_type": "stream",
     "text": [
      " up"
     ]
    },
    {
     "name": "stdout",
     "output_type": "stream",
     "text": [
      " a"
     ]
    },
    {
     "name": "stdout",
     "output_type": "stream",
     "text": [
      " simulation"
     ]
    },
    {
     "name": "stdout",
     "output_type": "stream",
     "text": [
      " for"
     ]
    },
    {
     "name": "stdout",
     "output_type": "stream",
     "text": [
      " "
     ]
    },
    {
     "name": "stdout",
     "output_type": "stream",
     "text": [
      "1"
     ]
    },
    {
     "name": "stdout",
     "output_type": "stream",
     "text": [
      " ns"
     ]
    },
    {
     "name": "stdout",
     "output_type": "stream",
     "text": [
      " and"
     ]
    },
    {
     "name": "stdout",
     "output_type": "stream",
     "text": [
      " plot"
     ]
    },
    {
     "name": "stdout",
     "output_type": "stream",
     "text": [
      " its"
     ]
    },
    {
     "name": "stdout",
     "output_type": "stream",
     "text": [
      " RMS"
     ]
    },
    {
     "name": "stdout",
     "output_type": "stream",
     "text": [
      "D"
     ]
    },
    {
     "name": "stdout",
     "output_type": "stream",
     "text": [
      " over"
     ]
    },
    {
     "name": "stdout",
     "output_type": "stream",
     "text": [
      " time"
     ]
    },
    {
     "name": "stdout",
     "output_type": "stream",
     "text": [
      ".\n",
      "\n"
     ]
    },
    {
     "name": "stdout",
     "output_type": "stream",
     "text": [
      "Action"
     ]
    },
    {
     "name": "stdout",
     "output_type": "stream",
     "text": [
      ":\n"
     ]
    },
    {
     "name": "stdout",
     "output_type": "stream",
     "text": [
      "``"
     ]
    },
    {
     "name": "stdout",
     "output_type": "stream",
     "text": [
      "`\n"
     ]
    },
    {
     "name": "stdout",
     "output_type": "stream",
     "text": [
      "{\n"
     ]
    },
    {
     "name": "stdout",
     "output_type": "stream",
     "text": [
      " "
     ]
    },
    {
     "name": "stdout",
     "output_type": "stream",
     "text": [
      " \""
     ]
    },
    {
     "name": "stdout",
     "output_type": "stream",
     "text": [
      "action"
     ]
    },
    {
     "name": "stdout",
     "output_type": "stream",
     "text": [
      "\":"
     ]
    },
    {
     "name": "stdout",
     "output_type": "stream",
     "text": [
      " \""
     ]
    },
    {
     "name": "stdout",
     "output_type": "stream",
     "text": [
      "P"
     ]
    },
    {
     "name": "stdout",
     "output_type": "stream",
     "text": [
      "DB"
     ]
    },
    {
     "name": "stdout",
     "output_type": "stream",
     "text": [
      "File"
     ]
    },
    {
     "name": "stdout",
     "output_type": "stream",
     "text": [
      "Downloader"
     ]
    },
    {
     "name": "stdout",
     "output_type": "stream",
     "text": [
      "\",\n"
     ]
    },
    {
     "name": "stdout",
     "output_type": "stream",
     "text": [
      " "
     ]
    },
    {
     "name": "stdout",
     "output_type": "stream",
     "text": [
      " \""
     ]
    },
    {
     "name": "stdout",
     "output_type": "stream",
     "text": [
      "action"
     ]
    },
    {
     "name": "stdout",
     "output_type": "stream",
     "text": [
      "_input"
     ]
    },
    {
     "name": "stdout",
     "output_type": "stream",
     "text": [
      "\":"
     ]
    },
    {
     "name": "stdout",
     "output_type": "stream",
     "text": [
      " {\n"
     ]
    },
    {
     "name": "stdout",
     "output_type": "stream",
     "text": [
      "   "
     ]
    },
    {
     "name": "stdout",
     "output_type": "stream",
     "text": [
      " \""
     ]
    },
    {
     "name": "stdout",
     "output_type": "stream",
     "text": [
      "query"
     ]
    },
    {
     "name": "stdout",
     "output_type": "stream",
     "text": [
      "\":"
     ]
    },
    {
     "name": "stdout",
     "output_type": "stream",
     "text": [
      " \""
     ]
    },
    {
     "name": "stdout",
     "output_type": "stream",
     "text": [
      "2"
     ]
    },
    {
     "name": "stdout",
     "output_type": "stream",
     "text": [
      "Y"
     ]
    },
    {
     "name": "stdout",
     "output_type": "stream",
     "text": [
      "XF"
     ]
    },
    {
     "name": "stdout",
     "output_type": "stream",
     "text": [
      "\"\n"
     ]
    },
    {
     "name": "stdout",
     "output_type": "stream",
     "text": [
      " "
     ]
    },
    {
     "name": "stdout",
     "output_type": "stream",
     "text": [
      " }\n"
     ]
    },
    {
     "name": "stdout",
     "output_type": "stream",
     "text": [
      "}\n"
     ]
    },
    {
     "name": "stdout",
     "output_type": "stream",
     "text": [
      "```"
     ]
    },
    {
     "name": "stdout",
     "output_type": "stream",
     "text": [
      "PDB file found with this ID: 2YXF\n"
     ]
    },
    {
     "name": "stdout",
     "output_type": "stream",
     "text": [
      "Thought"
     ]
    },
    {
     "name": "stdout",
     "output_type": "stream",
     "text": [
      ":"
     ]
    },
    {
     "name": "stdout",
     "output_type": "stream",
     "text": [
      " Now"
     ]
    },
    {
     "name": "stdout",
     "output_type": "stream",
     "text": [
      " that"
     ]
    },
    {
     "name": "stdout",
     "output_type": "stream",
     "text": [
      " I"
     ]
    },
    {
     "name": "stdout",
     "output_type": "stream",
     "text": [
      " have"
     ]
    },
    {
     "name": "stdout",
     "output_type": "stream",
     "text": [
      " downloaded"
     ]
    },
    {
     "name": "stdout",
     "output_type": "stream",
     "text": [
      " the"
     ]
    },
    {
     "name": "stdout",
     "output_type": "stream",
     "text": [
      " P"
     ]
    },
    {
     "name": "stdout",
     "output_type": "stream",
     "text": [
      "DB"
     ]
    },
    {
     "name": "stdout",
     "output_type": "stream",
     "text": [
      " file"
     ]
    },
    {
     "name": "stdout",
     "output_type": "stream",
     "text": [
      " for"
     ]
    },
    {
     "name": "stdout",
     "output_type": "stream",
     "text": [
      " "
     ]
    },
    {
     "name": "stdout",
     "output_type": "stream",
     "text": [
      "2"
     ]
    },
    {
     "name": "stdout",
     "output_type": "stream",
     "text": [
      "Y"
     ]
    },
    {
     "name": "stdout",
     "output_type": "stream",
     "text": [
      "XF"
     ]
    },
    {
     "name": "stdout",
     "output_type": "stream",
     "text": [
      ","
     ]
    },
    {
     "name": "stdout",
     "output_type": "stream",
     "text": [
      " I"
     ]
    },
    {
     "name": "stdout",
     "output_type": "stream",
     "text": [
      " will"
     ]
    },
    {
     "name": "stdout",
     "output_type": "stream",
     "text": [
      " search"
     ]
    },
    {
     "name": "stdout",
     "output_type": "stream",
     "text": [
      " the"
     ]
    },
    {
     "name": "stdout",
     "output_type": "stream",
     "text": [
      " literature"
     ]
    },
    {
     "name": "stdout",
     "output_type": "stream",
     "text": [
      " for"
     ]
    },
    {
     "name": "stdout",
     "output_type": "stream",
     "text": [
      " information"
     ]
    },
    {
     "name": "stdout",
     "output_type": "stream",
     "text": [
      " about"
     ]
    },
    {
     "name": "stdout",
     "output_type": "stream",
     "text": [
      " its"
     ]
    },
    {
     "name": "stdout",
     "output_type": "stream",
     "text": [
      " stability"
     ]
    },
    {
     "name": "stdout",
     "output_type": "stream",
     "text": [
      "."
     ]
    },
    {
     "name": "stdout",
     "output_type": "stream",
     "text": [
      " After"
     ]
    },
    {
     "name": "stdout",
     "output_type": "stream",
     "text": [
      " gathering"
     ]
    },
    {
     "name": "stdout",
     "output_type": "stream",
     "text": [
      " this"
     ]
    },
    {
     "name": "stdout",
     "output_type": "stream",
     "text": [
      " information"
     ]
    },
    {
     "name": "stdout",
     "output_type": "stream",
     "text": [
      ","
     ]
    },
    {
     "name": "stdout",
     "output_type": "stream",
     "text": [
      " I"
     ]
    },
    {
     "name": "stdout",
     "output_type": "stream",
     "text": [
      " will"
     ]
    },
    {
     "name": "stdout",
     "output_type": "stream",
     "text": [
      " proceed"
     ]
    },
    {
     "name": "stdout",
     "output_type": "stream",
     "text": [
      " to"
     ]
    },
    {
     "name": "stdout",
     "output_type": "stream",
     "text": [
      " set"
     ]
    },
    {
     "name": "stdout",
     "output_type": "stream",
     "text": [
      " up"
     ]
    },
    {
     "name": "stdout",
     "output_type": "stream",
     "text": [
      " a"
     ]
    },
    {
     "name": "stdout",
     "output_type": "stream",
     "text": [
      " simulation"
     ]
    },
    {
     "name": "stdout",
     "output_type": "stream",
     "text": [
      " for"
     ]
    },
    {
     "name": "stdout",
     "output_type": "stream",
     "text": [
      " "
     ]
    },
    {
     "name": "stdout",
     "output_type": "stream",
     "text": [
      "1"
     ]
    },
    {
     "name": "stdout",
     "output_type": "stream",
     "text": [
      " ns"
     ]
    },
    {
     "name": "stdout",
     "output_type": "stream",
     "text": [
      " and"
     ]
    },
    {
     "name": "stdout",
     "output_type": "stream",
     "text": [
      " plot"
     ]
    },
    {
     "name": "stdout",
     "output_type": "stream",
     "text": [
      " its"
     ]
    },
    {
     "name": "stdout",
     "output_type": "stream",
     "text": [
      " RMS"
     ]
    },
    {
     "name": "stdout",
     "output_type": "stream",
     "text": [
      "D"
     ]
    },
    {
     "name": "stdout",
     "output_type": "stream",
     "text": [
      " over"
     ]
    },
    {
     "name": "stdout",
     "output_type": "stream",
     "text": [
      " time"
     ]
    },
    {
     "name": "stdout",
     "output_type": "stream",
     "text": [
      ".\n",
      "\n"
     ]
    },
    {
     "name": "stdout",
     "output_type": "stream",
     "text": [
      "Action"
     ]
    },
    {
     "name": "stdout",
     "output_type": "stream",
     "text": [
      ":\n"
     ]
    },
    {
     "name": "stdout",
     "output_type": "stream",
     "text": [
      "``"
     ]
    },
    {
     "name": "stdout",
     "output_type": "stream",
     "text": [
      "`\n"
     ]
    },
    {
     "name": "stdout",
     "output_type": "stream",
     "text": [
      "{\n"
     ]
    },
    {
     "name": "stdout",
     "output_type": "stream",
     "text": [
      " "
     ]
    },
    {
     "name": "stdout",
     "output_type": "stream",
     "text": [
      " \""
     ]
    },
    {
     "name": "stdout",
     "output_type": "stream",
     "text": [
      "action"
     ]
    },
    {
     "name": "stdout",
     "output_type": "stream",
     "text": [
      "\":"
     ]
    },
    {
     "name": "stdout",
     "output_type": "stream",
     "text": [
      " \""
     ]
    },
    {
     "name": "stdout",
     "output_type": "stream",
     "text": [
      "Liter"
     ]
    },
    {
     "name": "stdout",
     "output_type": "stream",
     "text": [
      "ature"
     ]
    },
    {
     "name": "stdout",
     "output_type": "stream",
     "text": [
      "Search"
     ]
    },
    {
     "name": "stdout",
     "output_type": "stream",
     "text": [
      "\",\n"
     ]
    },
    {
     "name": "stdout",
     "output_type": "stream",
     "text": [
      " "
     ]
    },
    {
     "name": "stdout",
     "output_type": "stream",
     "text": [
      " \""
     ]
    },
    {
     "name": "stdout",
     "output_type": "stream",
     "text": [
      "action"
     ]
    },
    {
     "name": "stdout",
     "output_type": "stream",
     "text": [
      "_input"
     ]
    },
    {
     "name": "stdout",
     "output_type": "stream",
     "text": [
      "\":"
     ]
    },
    {
     "name": "stdout",
     "output_type": "stream",
     "text": [
      " {\n"
     ]
    },
    {
     "name": "stdout",
     "output_type": "stream",
     "text": [
      "   "
     ]
    },
    {
     "name": "stdout",
     "output_type": "stream",
     "text": [
      " \""
     ]
    },
    {
     "name": "stdout",
     "output_type": "stream",
     "text": [
      "query"
     ]
    },
    {
     "name": "stdout",
     "output_type": "stream",
     "text": [
      "\":"
     ]
    },
    {
     "name": "stdout",
     "output_type": "stream",
     "text": [
      " \""
     ]
    },
    {
     "name": "stdout",
     "output_type": "stream",
     "text": [
      "2"
     ]
    },
    {
     "name": "stdout",
     "output_type": "stream",
     "text": [
      "Y"
     ]
    },
    {
     "name": "stdout",
     "output_type": "stream",
     "text": [
      "XF"
     ]
    },
    {
     "name": "stdout",
     "output_type": "stream",
     "text": [
      " protein"
     ]
    },
    {
     "name": "stdout",
     "output_type": "stream",
     "text": [
      " stability"
     ]
    },
    {
     "name": "stdout",
     "output_type": "stream",
     "text": [
      "\"\n"
     ]
    },
    {
     "name": "stdout",
     "output_type": "stream",
     "text": [
      " "
     ]
    },
    {
     "name": "stdout",
     "output_type": "stream",
     "text": [
      " }\n"
     ]
    },
    {
     "name": "stdout",
     "output_type": "stream",
     "text": [
      "}\n"
     ]
    },
    {
     "name": "stdout",
     "output_type": "stream",
     "text": [
      "```"
     ]
    },
    {
     "name": "stdout",
     "output_type": "stream",
     "text": [
      "Paper Directory /gpfs/fs2/scratch/qcampbe2/repos/md-agent_gpt_params/notebooks/experiments/experiment_k1/exp_box/paper_collection\n"
     ]
    },
    {
     "name": "stderr",
     "output_type": "stream",
     "text": [
      "/scratch/qcampbe2/myenvs/mdcrow/lib/python3.12/site-packages/pydantic/main.py:364: UserWarning: Pydantic serializer warnings:\n",
      "  Expected `PromptTokensDetails` but got `dict` - serialized value may not be as expected\n",
      "  return self.__pydantic_serializer__.to_python(\n"
     ]
    },
    {
     "data": {
      "text/html": [
       "<pre style=\"white-space:pre;overflow-x:auto;line-height:normal;font-family:Menlo,'DejaVu Sans Mono',consolas,'Courier New',monospace\"><span style=\"color: #7fbfbf; text-decoration-color: #7fbfbf\">[20:41:12] </span>Starting paper search for <span style=\"color: #008000; text-decoration-color: #008000\">'2YXF protein structure analysis, 2012-2024  '</span>.                               \n",
       "</pre>\n"
      ],
      "text/plain": [
       "\u001b[2;36m[20:41:12]\u001b[0m\u001b[2;36m \u001b[0mStarting paper search for \u001b[32m'2YXF protein structure analysis, 2012-2024  '\u001b[0m.                               \n"
      ]
     },
     "metadata": {},
     "output_type": "display_data"
    },
    {
     "data": {
      "text/html": [
       "<pre style=\"white-space:pre;overflow-x:auto;line-height:normal;font-family:Menlo,'DejaVu Sans Mono',consolas,'Courier New',monospace\"><span style=\"color: #7fbfbf; text-decoration-color: #7fbfbf\">           </span>paper_search for query <span style=\"color: #008000; text-decoration-color: #008000\">'2YXF protein structure analysis, 2012-2024  '</span> returned <span style=\"color: #008080; text-decoration-color: #008080; font-weight: bold\">8</span> papers.                \n",
       "</pre>\n"
      ],
      "text/plain": [
       "\u001b[2;36m          \u001b[0m\u001b[2;36m \u001b[0mpaper_search for query \u001b[32m'2YXF protein structure analysis, 2012-2024  '\u001b[0m returned \u001b[1;36m8\u001b[0m papers.                \n"
      ]
     },
     "metadata": {},
     "output_type": "display_data"
    },
    {
     "data": {
      "text/html": [
       "<pre style=\"white-space:pre;overflow-x:auto;line-height:normal;font-family:Menlo,'DejaVu Sans Mono',consolas,'Courier New',monospace\"><span style=\"color: #7fbfbf; text-decoration-color: #7fbfbf\">           </span>Status: Paper <span style=\"color: #808000; text-decoration-color: #808000\">Count</span>=<span style=\"color: #008080; text-decoration-color: #008080; font-weight: bold\">8</span> | Relevant <span style=\"color: #808000; text-decoration-color: #808000\">Papers</span>=<span style=\"color: #008080; text-decoration-color: #008080; font-weight: bold\">0</span> | Current <span style=\"color: #808000; text-decoration-color: #808000\">Evidence</span>=<span style=\"color: #008080; text-decoration-color: #008080; font-weight: bold\">0</span> | Current <span style=\"color: #808000; text-decoration-color: #808000\">Cost</span>=$<span style=\"color: #008080; text-decoration-color: #008080; font-weight: bold\">0.0000</span>                   \n",
       "</pre>\n"
      ],
      "text/plain": [
       "\u001b[2;36m          \u001b[0m\u001b[2;36m \u001b[0mStatus: Paper \u001b[33mCount\u001b[0m=\u001b[1;36m8\u001b[0m | Relevant \u001b[33mPapers\u001b[0m=\u001b[1;36m0\u001b[0m | Current \u001b[33mEvidence\u001b[0m=\u001b[1;36m0\u001b[0m | Current \u001b[33mCost\u001b[0m=$\u001b[1;36m0.0000\u001b[0m                   \n"
      ]
     },
     "metadata": {},
     "output_type": "display_data"
    },
    {
     "data": {
      "text/html": [
       "<pre style=\"white-space:pre;overflow-x:auto;line-height:normal;font-family:Menlo,'DejaVu Sans Mono',consolas,'Courier New',monospace\"><span style=\"color: #7fbfbf; text-decoration-color: #7fbfbf\">           </span>Starting paper search for <span style=\"color: #008000; text-decoration-color: #008000\">'protein stability factors, 2000-2010  '</span>.                                     \n",
       "</pre>\n"
      ],
      "text/plain": [
       "\u001b[2;36m          \u001b[0m\u001b[2;36m \u001b[0mStarting paper search for \u001b[32m'protein stability factors, 2000-2010  '\u001b[0m.                                     \n"
      ]
     },
     "metadata": {},
     "output_type": "display_data"
    },
    {
     "data": {
      "text/html": [
       "<pre style=\"white-space:pre;overflow-x:auto;line-height:normal;font-family:Menlo,'DejaVu Sans Mono',consolas,'Courier New',monospace\"><span style=\"color: #7fbfbf; text-decoration-color: #7fbfbf\">           </span>paper_search for query <span style=\"color: #008000; text-decoration-color: #008000\">'protein stability factors, 2000-2010  '</span> returned <span style=\"color: #008080; text-decoration-color: #008080; font-weight: bold\">8</span> papers.                      \n",
       "</pre>\n"
      ],
      "text/plain": [
       "\u001b[2;36m          \u001b[0m\u001b[2;36m \u001b[0mpaper_search for query \u001b[32m'protein stability factors, 2000-2010  '\u001b[0m returned \u001b[1;36m8\u001b[0m papers.                      \n"
      ]
     },
     "metadata": {},
     "output_type": "display_data"
    },
    {
     "data": {
      "text/html": [
       "<pre style=\"white-space:pre;overflow-x:auto;line-height:normal;font-family:Menlo,'DejaVu Sans Mono',consolas,'Courier New',monospace\"><span style=\"color: #7fbfbf; text-decoration-color: #7fbfbf\">           </span>Status: Paper <span style=\"color: #808000; text-decoration-color: #808000\">Count</span>=<span style=\"color: #008080; text-decoration-color: #008080; font-weight: bold\">12</span> | Relevant <span style=\"color: #808000; text-decoration-color: #808000\">Papers</span>=<span style=\"color: #008080; text-decoration-color: #008080; font-weight: bold\">0</span> | Current <span style=\"color: #808000; text-decoration-color: #808000\">Evidence</span>=<span style=\"color: #008080; text-decoration-color: #008080; font-weight: bold\">0</span> | Current <span style=\"color: #808000; text-decoration-color: #808000\">Cost</span>=$<span style=\"color: #008080; text-decoration-color: #008080; font-weight: bold\">0.0000</span>                  \n",
       "</pre>\n"
      ],
      "text/plain": [
       "\u001b[2;36m          \u001b[0m\u001b[2;36m \u001b[0mStatus: Paper \u001b[33mCount\u001b[0m=\u001b[1;36m12\u001b[0m | Relevant \u001b[33mPapers\u001b[0m=\u001b[1;36m0\u001b[0m | Current \u001b[33mEvidence\u001b[0m=\u001b[1;36m0\u001b[0m | Current \u001b[33mCost\u001b[0m=$\u001b[1;36m0.0000\u001b[0m                  \n"
      ]
     },
     "metadata": {},
     "output_type": "display_data"
    },
    {
     "data": {
      "text/html": [
       "<pre style=\"white-space:pre;overflow-x:auto;line-height:normal;font-family:Menlo,'DejaVu Sans Mono',consolas,'Courier New',monospace\"><span style=\"color: #7fbfbf; text-decoration-color: #7fbfbf\">           </span>Starting paper search for <span style=\"color: #008000; text-decoration-color: #008000\">'2YXF molecular dynamics simulations, 2015-2024  '</span>.                           \n",
       "</pre>\n"
      ],
      "text/plain": [
       "\u001b[2;36m          \u001b[0m\u001b[2;36m \u001b[0mStarting paper search for \u001b[32m'2YXF molecular dynamics simulations, 2015-2024  '\u001b[0m.                           \n"
      ]
     },
     "metadata": {},
     "output_type": "display_data"
    },
    {
     "data": {
      "text/html": [
       "<pre style=\"white-space:pre;overflow-x:auto;line-height:normal;font-family:Menlo,'DejaVu Sans Mono',consolas,'Courier New',monospace\"><span style=\"color: #7fbfbf; text-decoration-color: #7fbfbf\">           </span>paper_search for query <span style=\"color: #008000; text-decoration-color: #008000\">'2YXF molecular dynamics simulations, 2015-2024  '</span> returned <span style=\"color: #008080; text-decoration-color: #008080; font-weight: bold\">8</span> papers.            \n",
       "</pre>\n"
      ],
      "text/plain": [
       "\u001b[2;36m          \u001b[0m\u001b[2;36m \u001b[0mpaper_search for query \u001b[32m'2YXF molecular dynamics simulations, 2015-2024  '\u001b[0m returned \u001b[1;36m8\u001b[0m papers.            \n"
      ]
     },
     "metadata": {},
     "output_type": "display_data"
    },
    {
     "data": {
      "text/html": [
       "<pre style=\"white-space:pre;overflow-x:auto;line-height:normal;font-family:Menlo,'DejaVu Sans Mono',consolas,'Courier New',monospace\"><span style=\"color: #7fbfbf; text-decoration-color: #7fbfbf\">           </span>Status: Paper <span style=\"color: #808000; text-decoration-color: #808000\">Count</span>=<span style=\"color: #008080; text-decoration-color: #008080; font-weight: bold\">13</span> | Relevant <span style=\"color: #808000; text-decoration-color: #808000\">Papers</span>=<span style=\"color: #008080; text-decoration-color: #008080; font-weight: bold\">0</span> | Current <span style=\"color: #808000; text-decoration-color: #808000\">Evidence</span>=<span style=\"color: #008080; text-decoration-color: #008080; font-weight: bold\">0</span> | Current <span style=\"color: #808000; text-decoration-color: #808000\">Cost</span>=$<span style=\"color: #008080; text-decoration-color: #008080; font-weight: bold\">0.0000</span>                  \n",
       "</pre>\n"
      ],
      "text/plain": [
       "\u001b[2;36m          \u001b[0m\u001b[2;36m \u001b[0mStatus: Paper \u001b[33mCount\u001b[0m=\u001b[1;36m13\u001b[0m | Relevant \u001b[33mPapers\u001b[0m=\u001b[1;36m0\u001b[0m | Current \u001b[33mEvidence\u001b[0m=\u001b[1;36m0\u001b[0m | Current \u001b[33mCost\u001b[0m=$\u001b[1;36m0.0000\u001b[0m                  \n"
      ]
     },
     "metadata": {},
     "output_type": "display_data"
    },
    {
     "data": {
      "text/html": [
       "<pre style=\"white-space:pre;overflow-x:auto;line-height:normal;font-family:Menlo,'DejaVu Sans Mono',consolas,'Courier New',monospace\"><span style=\"color: #7fbfbf; text-decoration-color: #7fbfbf\">           </span>gather_evidence starting for question <span style=\"color: #008000; text-decoration-color: #008000\">'2YXF protein stability'</span>.                                         \n",
       "</pre>\n"
      ],
      "text/plain": [
       "\u001b[2;36m          \u001b[0m\u001b[2;36m \u001b[0mgather_evidence starting for question \u001b[32m'2YXF protein stability'\u001b[0m.                                         \n"
      ]
     },
     "metadata": {},
     "output_type": "display_data"
    },
    {
     "data": {
      "text/html": [
       "<pre style=\"white-space:pre;overflow-x:auto;line-height:normal;font-family:Menlo,'DejaVu Sans Mono',consolas,'Courier New',monospace\"><span style=\"color: #7fbfbf; text-decoration-color: #7fbfbf\">[20:41:19] </span>Status: Paper <span style=\"color: #808000; text-decoration-color: #808000\">Count</span>=<span style=\"color: #008080; text-decoration-color: #008080; font-weight: bold\">13</span> | Relevant <span style=\"color: #808000; text-decoration-color: #808000\">Papers</span>=<span style=\"color: #008080; text-decoration-color: #008080; font-weight: bold\">1</span> | Current <span style=\"color: #808000; text-decoration-color: #808000\">Evidence</span>=<span style=\"color: #008080; text-decoration-color: #008080; font-weight: bold\">3</span> | Current <span style=\"color: #808000; text-decoration-color: #808000\">Cost</span>=$<span style=\"color: #008080; text-decoration-color: #008080; font-weight: bold\">0.0384</span>                  \n",
       "</pre>\n"
      ],
      "text/plain": [
       "\u001b[2;36m[20:41:19]\u001b[0m\u001b[2;36m \u001b[0mStatus: Paper \u001b[33mCount\u001b[0m=\u001b[1;36m13\u001b[0m | Relevant \u001b[33mPapers\u001b[0m=\u001b[1;36m1\u001b[0m | Current \u001b[33mEvidence\u001b[0m=\u001b[1;36m3\u001b[0m | Current \u001b[33mCost\u001b[0m=$\u001b[1;36m0.0384\u001b[0m                  \n"
      ]
     },
     "metadata": {},
     "output_type": "display_data"
    },
    {
     "data": {
      "text/html": [
       "<pre style=\"white-space:pre;overflow-x:auto;line-height:normal;font-family:Menlo,'DejaVu Sans Mono',consolas,'Courier New',monospace\"><span style=\"color: #7fbfbf; text-decoration-color: #7fbfbf\">           </span>Generating answer for <span style=\"color: #008000; text-decoration-color: #008000\">'2YXF protein stability'</span>.                                                         \n",
       "</pre>\n"
      ],
      "text/plain": [
       "\u001b[2;36m          \u001b[0m\u001b[2;36m \u001b[0mGenerating answer for \u001b[32m'2YXF protein stability'\u001b[0m.                                                         \n"
      ]
     },
     "metadata": {},
     "output_type": "display_data"
    },
    {
     "data": {
      "text/html": [
       "<pre style=\"white-space:pre;overflow-x:auto;line-height:normal;font-family:Menlo,'DejaVu Sans Mono',consolas,'Courier New',monospace\"><span style=\"color: #7fbfbf; text-decoration-color: #7fbfbf\">[20:41:20] </span>Status: Paper <span style=\"color: #808000; text-decoration-color: #808000\">Count</span>=<span style=\"color: #008080; text-decoration-color: #008080; font-weight: bold\">13</span> | Relevant <span style=\"color: #808000; text-decoration-color: #808000\">Papers</span>=<span style=\"color: #008080; text-decoration-color: #008080; font-weight: bold\">0</span> | Current <span style=\"color: #808000; text-decoration-color: #808000\">Evidence</span>=<span style=\"color: #008080; text-decoration-color: #008080; font-weight: bold\">0</span> | Current <span style=\"color: #808000; text-decoration-color: #808000\">Cost</span>=$<span style=\"color: #008080; text-decoration-color: #008080; font-weight: bold\">0.0414</span>                  \n",
       "</pre>\n"
      ],
      "text/plain": [
       "\u001b[2;36m[20:41:20]\u001b[0m\u001b[2;36m \u001b[0mStatus: Paper \u001b[33mCount\u001b[0m=\u001b[1;36m13\u001b[0m | Relevant \u001b[33mPapers\u001b[0m=\u001b[1;36m0\u001b[0m | Current \u001b[33mEvidence\u001b[0m=\u001b[1;36m0\u001b[0m | Current \u001b[33mCost\u001b[0m=$\u001b[1;36m0.0414\u001b[0m                  \n"
      ]
     },
     "metadata": {},
     "output_type": "display_data"
    },
    {
     "data": {
      "text/html": [
       "<pre style=\"white-space:pre;overflow-x:auto;line-height:normal;font-family:Menlo,'DejaVu Sans Mono',consolas,'Courier New',monospace\"><span style=\"color: #7fbfbf; text-decoration-color: #7fbfbf\">           </span><span style=\"color: #000080; text-decoration-color: #000080; font-weight: bold\">Answer: I cannot answer.</span>                                                                                \n",
       "</pre>\n"
      ],
      "text/plain": [
       "\u001b[2;36m          \u001b[0m\u001b[2;36m \u001b[0m\u001b[1;34mAnswer: I cannot answer.\u001b[0m                                                                                \n"
      ]
     },
     "metadata": {},
     "output_type": "display_data"
    },
    {
     "name": "stdout",
     "output_type": "stream",
     "text": [
      "Question: 2YXF protein stability\n",
      "\n",
      "I cannot answer.\n",
      " Check to ensure there's papers in /gpfs/fs2/scratch/qcampbe2/repos/md-agent_gpt_params/notebooks/experiments/experiment_k1/exp_box/paper_collection\n"
     ]
    },
    {
     "name": "stdout",
     "output_type": "stream",
     "text": [
      "I"
     ]
    },
    {
     "name": "stdout",
     "output_type": "stream",
     "text": [
      " will"
     ]
    },
    {
     "name": "stdout",
     "output_type": "stream",
     "text": [
      " proceed"
     ]
    },
    {
     "name": "stdout",
     "output_type": "stream",
     "text": [
      " with"
     ]
    },
    {
     "name": "stdout",
     "output_type": "stream",
     "text": [
      " setting"
     ]
    },
    {
     "name": "stdout",
     "output_type": "stream",
     "text": [
      " up"
     ]
    },
    {
     "name": "stdout",
     "output_type": "stream",
     "text": [
      " a"
     ]
    },
    {
     "name": "stdout",
     "output_type": "stream",
     "text": [
      " simulation"
     ]
    },
    {
     "name": "stdout",
     "output_type": "stream",
     "text": [
      " for"
     ]
    },
    {
     "name": "stdout",
     "output_type": "stream",
     "text": [
      " "
     ]
    },
    {
     "name": "stdout",
     "output_type": "stream",
     "text": [
      "1"
     ]
    },
    {
     "name": "stdout",
     "output_type": "stream",
     "text": [
      " ns"
     ]
    },
    {
     "name": "stdout",
     "output_type": "stream",
     "text": [
      " and"
     ]
    },
    {
     "name": "stdout",
     "output_type": "stream",
     "text": [
      " then"
     ]
    },
    {
     "name": "stdout",
     "output_type": "stream",
     "text": [
      " plot"
     ]
    },
    {
     "name": "stdout",
     "output_type": "stream",
     "text": [
      " its"
     ]
    },
    {
     "name": "stdout",
     "output_type": "stream",
     "text": [
      " RMS"
     ]
    },
    {
     "name": "stdout",
     "output_type": "stream",
     "text": [
      "D"
     ]
    },
    {
     "name": "stdout",
     "output_type": "stream",
     "text": [
      " over"
     ]
    },
    {
     "name": "stdout",
     "output_type": "stream",
     "text": [
      " time"
     ]
    },
    {
     "name": "stdout",
     "output_type": "stream",
     "text": [
      ","
     ]
    },
    {
     "name": "stdout",
     "output_type": "stream",
     "text": [
      " as"
     ]
    },
    {
     "name": "stdout",
     "output_type": "stream",
     "text": [
      " the"
     ]
    },
    {
     "name": "stdout",
     "output_type": "stream",
     "text": [
      " literature"
     ]
    },
    {
     "name": "stdout",
     "output_type": "stream",
     "text": [
      " search"
     ]
    },
    {
     "name": "stdout",
     "output_type": "stream",
     "text": [
      " did"
     ]
    },
    {
     "name": "stdout",
     "output_type": "stream",
     "text": [
      " not"
     ]
    },
    {
     "name": "stdout",
     "output_type": "stream",
     "text": [
      " yield"
     ]
    },
    {
     "name": "stdout",
     "output_type": "stream",
     "text": [
      " results"
     ]
    },
    {
     "name": "stdout",
     "output_type": "stream",
     "text": [
      "."
     ]
    },
    {
     "name": "stdout",
     "output_type": "stream",
     "text": [
      " \n",
      "\n"
     ]
    },
    {
     "name": "stdout",
     "output_type": "stream",
     "text": [
      "Action"
     ]
    },
    {
     "name": "stdout",
     "output_type": "stream",
     "text": [
      ":\n"
     ]
    },
    {
     "name": "stdout",
     "output_type": "stream",
     "text": [
      "``"
     ]
    },
    {
     "name": "stdout",
     "output_type": "stream",
     "text": [
      "`\n"
     ]
    },
    {
     "name": "stdout",
     "output_type": "stream",
     "text": [
      "{\n"
     ]
    },
    {
     "name": "stdout",
     "output_type": "stream",
     "text": [
      " "
     ]
    },
    {
     "name": "stdout",
     "output_type": "stream",
     "text": [
      " \""
     ]
    },
    {
     "name": "stdout",
     "output_type": "stream",
     "text": [
      "action"
     ]
    },
    {
     "name": "stdout",
     "output_type": "stream",
     "text": [
      "\":"
     ]
    },
    {
     "name": "stdout",
     "output_type": "stream",
     "text": [
      " \""
     ]
    },
    {
     "name": "stdout",
     "output_type": "stream",
     "text": [
      "Set"
     ]
    },
    {
     "name": "stdout",
     "output_type": "stream",
     "text": [
      "Up"
     ]
    },
    {
     "name": "stdout",
     "output_type": "stream",
     "text": [
      "and"
     ]
    },
    {
     "name": "stdout",
     "output_type": "stream",
     "text": [
      "Run"
     ]
    },
    {
     "name": "stdout",
     "output_type": "stream",
     "text": [
      "Function"
     ]
    },
    {
     "name": "stdout",
     "output_type": "stream",
     "text": [
      "\",\n"
     ]
    },
    {
     "name": "stdout",
     "output_type": "stream",
     "text": [
      " "
     ]
    },
    {
     "name": "stdout",
     "output_type": "stream",
     "text": [
      " \""
     ]
    },
    {
     "name": "stdout",
     "output_type": "stream",
     "text": [
      "action"
     ]
    },
    {
     "name": "stdout",
     "output_type": "stream",
     "text": [
      "_input"
     ]
    },
    {
     "name": "stdout",
     "output_type": "stream",
     "text": [
      "\":"
     ]
    },
    {
     "name": "stdout",
     "output_type": "stream",
     "text": [
      " {\n"
     ]
    },
    {
     "name": "stdout",
     "output_type": "stream",
     "text": [
      "   "
     ]
    },
    {
     "name": "stdout",
     "output_type": "stream",
     "text": [
      " \""
     ]
    },
    {
     "name": "stdout",
     "output_type": "stream",
     "text": [
      "p"
     ]
    },
    {
     "name": "stdout",
     "output_type": "stream",
     "text": [
      "db"
     ]
    },
    {
     "name": "stdout",
     "output_type": "stream",
     "text": [
      "_id"
     ]
    },
    {
     "name": "stdout",
     "output_type": "stream",
     "text": [
      "\":"
     ]
    },
    {
     "name": "stdout",
     "output_type": "stream",
     "text": [
      " \""
     ]
    },
    {
     "name": "stdout",
     "output_type": "stream",
     "text": [
      "2"
     ]
    },
    {
     "name": "stdout",
     "output_type": "stream",
     "text": [
      "Y"
     ]
    },
    {
     "name": "stdout",
     "output_type": "stream",
     "text": [
      "XF"
     ]
    },
    {
     "name": "stdout",
     "output_type": "stream",
     "text": [
      "_"
     ]
    },
    {
     "name": "stdout",
     "output_type": "stream",
     "text": [
      "204"
     ]
    },
    {
     "name": "stdout",
     "output_type": "stream",
     "text": [
      "108"
     ]
    },
    {
     "name": "stdout",
     "output_type": "stream",
     "text": [
      "\",\n"
     ]
    },
    {
     "name": "stdout",
     "output_type": "stream",
     "text": [
      "   "
     ]
    },
    {
     "name": "stdout",
     "output_type": "stream",
     "text": [
      " \""
     ]
    },
    {
     "name": "stdout",
     "output_type": "stream",
     "text": [
      "force"
     ]
    },
    {
     "name": "stdout",
     "output_type": "stream",
     "text": [
      "field"
     ]
    },
    {
     "name": "stdout",
     "output_type": "stream",
     "text": [
      "_files"
     ]
    },
    {
     "name": "stdout",
     "output_type": "stream",
     "text": [
      "\":"
     ]
    },
    {
     "name": "stdout",
     "output_type": "stream",
     "text": [
      " [\""
     ]
    },
    {
     "name": "stdout",
     "output_type": "stream",
     "text": [
      "amber"
     ]
    },
    {
     "name": "stdout",
     "output_type": "stream",
     "text": [
      "99"
     ]
    },
    {
     "name": "stdout",
     "output_type": "stream",
     "text": [
      "sb"
     ]
    },
    {
     "name": "stdout",
     "output_type": "stream",
     "text": [
      ".xml"
     ]
    },
    {
     "name": "stdout",
     "output_type": "stream",
     "text": [
      "\","
     ]
    },
    {
     "name": "stdout",
     "output_type": "stream",
     "text": [
      " \""
     ]
    },
    {
     "name": "stdout",
     "output_type": "stream",
     "text": [
      "tip"
     ]
    },
    {
     "name": "stdout",
     "output_type": "stream",
     "text": [
      "3"
     ]
    },
    {
     "name": "stdout",
     "output_type": "stream",
     "text": [
      "p"
     ]
    },
    {
     "name": "stdout",
     "output_type": "stream",
     "text": [
      ".xml"
     ]
    },
    {
     "name": "stdout",
     "output_type": "stream",
     "text": [
      "\"],\n"
     ]
    },
    {
     "name": "stdout",
     "output_type": "stream",
     "text": [
      "   "
     ]
    },
    {
     "name": "stdout",
     "output_type": "stream",
     "text": [
      " \""
     ]
    },
    {
     "name": "stdout",
     "output_type": "stream",
     "text": [
      "save"
     ]
    },
    {
     "name": "stdout",
     "output_type": "stream",
     "text": [
      "\":"
     ]
    },
    {
     "name": "stdout",
     "output_type": "stream",
     "text": [
      " true"
     ]
    },
    {
     "name": "stdout",
     "output_type": "stream",
     "text": [
      ",\n"
     ]
    },
    {
     "name": "stdout",
     "output_type": "stream",
     "text": [
      "   "
     ]
    },
    {
     "name": "stdout",
     "output_type": "stream",
     "text": [
      " \""
     ]
    },
    {
     "name": "stdout",
     "output_type": "stream",
     "text": [
      "system"
     ]
    },
    {
     "name": "stdout",
     "output_type": "stream",
     "text": [
      "_params"
     ]
    },
    {
     "name": "stdout",
     "output_type": "stream",
     "text": [
      "\":"
     ]
    },
    {
     "name": "stdout",
     "output_type": "stream",
     "text": [
      " {\n"
     ]
    },
    {
     "name": "stdout",
     "output_type": "stream",
     "text": [
      "     "
     ]
    },
    {
     "name": "stdout",
     "output_type": "stream",
     "text": [
      " \""
     ]
    },
    {
     "name": "stdout",
     "output_type": "stream",
     "text": [
      "non"
     ]
    },
    {
     "name": "stdout",
     "output_type": "stream",
     "text": [
      "bond"
     ]
    },
    {
     "name": "stdout",
     "output_type": "stream",
     "text": [
      "ed"
     ]
    },
    {
     "name": "stdout",
     "output_type": "stream",
     "text": [
      "Method"
     ]
    },
    {
     "name": "stdout",
     "output_type": "stream",
     "text": [
      "\":"
     ]
    },
    {
     "name": "stdout",
     "output_type": "stream",
     "text": [
      " \""
     ]
    },
    {
     "name": "stdout",
     "output_type": "stream",
     "text": [
      "PM"
     ]
    },
    {
     "name": "stdout",
     "output_type": "stream",
     "text": [
      "E"
     ]
    },
    {
     "name": "stdout",
     "output_type": "stream",
     "text": [
      "\",\n"
     ]
    },
    {
     "name": "stdout",
     "output_type": "stream",
     "text": [
      "     "
     ]
    },
    {
     "name": "stdout",
     "output_type": "stream",
     "text": [
      " \""
     ]
    },
    {
     "name": "stdout",
     "output_type": "stream",
     "text": [
      "non"
     ]
    },
    {
     "name": "stdout",
     "output_type": "stream",
     "text": [
      "bond"
     ]
    },
    {
     "name": "stdout",
     "output_type": "stream",
     "text": [
      "ed"
     ]
    },
    {
     "name": "stdout",
     "output_type": "stream",
     "text": [
      "Cut"
     ]
    },
    {
     "name": "stdout",
     "output_type": "stream",
     "text": [
      "off"
     ]
    },
    {
     "name": "stdout",
     "output_type": "stream",
     "text": [
      "\":"
     ]
    },
    {
     "name": "stdout",
     "output_type": "stream",
     "text": [
      " \""
     ]
    },
    {
     "name": "stdout",
     "output_type": "stream",
     "text": [
      "1"
     ]
    },
    {
     "name": "stdout",
     "output_type": "stream",
     "text": [
      "."
     ]
    },
    {
     "name": "stdout",
     "output_type": "stream",
     "text": [
      "0"
     ]
    },
    {
     "name": "stdout",
     "output_type": "stream",
     "text": [
      " *"
     ]
    },
    {
     "name": "stdout",
     "output_type": "stream",
     "text": [
      " nan"
     ]
    },
    {
     "name": "stdout",
     "output_type": "stream",
     "text": [
      "ometers"
     ]
    },
    {
     "name": "stdout",
     "output_type": "stream",
     "text": [
      "\",\n"
     ]
    },
    {
     "name": "stdout",
     "output_type": "stream",
     "text": [
      "     "
     ]
    },
    {
     "name": "stdout",
     "output_type": "stream",
     "text": [
      " \""
     ]
    },
    {
     "name": "stdout",
     "output_type": "stream",
     "text": [
      "ew"
     ]
    },
    {
     "name": "stdout",
     "output_type": "stream",
     "text": [
      "ald"
     ]
    },
    {
     "name": "stdout",
     "output_type": "stream",
     "text": [
      "Error"
     ]
    },
    {
     "name": "stdout",
     "output_type": "stream",
     "text": [
      "Tolerance"
     ]
    },
    {
     "name": "stdout",
     "output_type": "stream",
     "text": [
      "\":"
     ]
    },
    {
     "name": "stdout",
     "output_type": "stream",
     "text": [
      " \""
     ]
    },
    {
     "name": "stdout",
     "output_type": "stream",
     "text": [
      "0"
     ]
    },
    {
     "name": "stdout",
     "output_type": "stream",
     "text": [
      "."
     ]
    },
    {
     "name": "stdout",
     "output_type": "stream",
     "text": [
      "000"
     ]
    },
    {
     "name": "stdout",
     "output_type": "stream",
     "text": [
      "5"
     ]
    },
    {
     "name": "stdout",
     "output_type": "stream",
     "text": [
      "\",\n"
     ]
    },
    {
     "name": "stdout",
     "output_type": "stream",
     "text": [
      "     "
     ]
    },
    {
     "name": "stdout",
     "output_type": "stream",
     "text": [
      " \""
     ]
    },
    {
     "name": "stdout",
     "output_type": "stream",
     "text": [
      "constraints"
     ]
    },
    {
     "name": "stdout",
     "output_type": "stream",
     "text": [
      "\":"
     ]
    },
    {
     "name": "stdout",
     "output_type": "stream",
     "text": [
      " \""
     ]
    },
    {
     "name": "stdout",
     "output_type": "stream",
     "text": [
      "HB"
     ]
    },
    {
     "name": "stdout",
     "output_type": "stream",
     "text": [
      "onds"
     ]
    },
    {
     "name": "stdout",
     "output_type": "stream",
     "text": [
      "\",\n"
     ]
    },
    {
     "name": "stdout",
     "output_type": "stream",
     "text": [
      "     "
     ]
    },
    {
     "name": "stdout",
     "output_type": "stream",
     "text": [
      " \""
     ]
    },
    {
     "name": "stdout",
     "output_type": "stream",
     "text": [
      "rig"
     ]
    },
    {
     "name": "stdout",
     "output_type": "stream",
     "text": [
      "id"
     ]
    },
    {
     "name": "stdout",
     "output_type": "stream",
     "text": [
      "Water"
     ]
    },
    {
     "name": "stdout",
     "output_type": "stream",
     "text": [
      "\":"
     ]
    },
    {
     "name": "stdout",
     "output_type": "stream",
     "text": [
      " true"
     ]
    },
    {
     "name": "stdout",
     "output_type": "stream",
     "text": [
      ",\n"
     ]
    },
    {
     "name": "stdout",
     "output_type": "stream",
     "text": [
      "     "
     ]
    },
    {
     "name": "stdout",
     "output_type": "stream",
     "text": [
      " \""
     ]
    },
    {
     "name": "stdout",
     "output_type": "stream",
     "text": [
      "constraint"
     ]
    },
    {
     "name": "stdout",
     "output_type": "stream",
     "text": [
      "Tolerance"
     ]
    },
    {
     "name": "stdout",
     "output_type": "stream",
     "text": [
      "\":"
     ]
    },
    {
     "name": "stdout",
     "output_type": "stream",
     "text": [
      " \""
     ]
    },
    {
     "name": "stdout",
     "output_type": "stream",
     "text": [
      "0"
     ]
    },
    {
     "name": "stdout",
     "output_type": "stream",
     "text": [
      "."
     ]
    },
    {
     "name": "stdout",
     "output_type": "stream",
     "text": [
      "000"
     ]
    },
    {
     "name": "stdout",
     "output_type": "stream",
     "text": [
      "01"
     ]
    },
    {
     "name": "stdout",
     "output_type": "stream",
     "text": [
      "\",\n"
     ]
    },
    {
     "name": "stdout",
     "output_type": "stream",
     "text": [
      "     "
     ]
    },
    {
     "name": "stdout",
     "output_type": "stream",
     "text": [
      " \""
     ]
    },
    {
     "name": "stdout",
     "output_type": "stream",
     "text": [
      "sol"
     ]
    },
    {
     "name": "stdout",
     "output_type": "stream",
     "text": [
      "vate"
     ]
    },
    {
     "name": "stdout",
     "output_type": "stream",
     "text": [
      "\":"
     ]
    },
    {
     "name": "stdout",
     "output_type": "stream",
     "text": [
      " true"
     ]
    },
    {
     "name": "stdout",
     "output_type": "stream",
     "text": [
      "\n"
     ]
    },
    {
     "name": "stdout",
     "output_type": "stream",
     "text": [
      "   "
     ]
    },
    {
     "name": "stdout",
     "output_type": "stream",
     "text": [
      " },\n"
     ]
    },
    {
     "name": "stdout",
     "output_type": "stream",
     "text": [
      "   "
     ]
    },
    {
     "name": "stdout",
     "output_type": "stream",
     "text": [
      " \""
     ]
    },
    {
     "name": "stdout",
     "output_type": "stream",
     "text": [
      "integr"
     ]
    },
    {
     "name": "stdout",
     "output_type": "stream",
     "text": [
      "ator"
     ]
    },
    {
     "name": "stdout",
     "output_type": "stream",
     "text": [
      "_params"
     ]
    },
    {
     "name": "stdout",
     "output_type": "stream",
     "text": [
      "\":"
     ]
    },
    {
     "name": "stdout",
     "output_type": "stream",
     "text": [
      " {\n"
     ]
    },
    {
     "name": "stdout",
     "output_type": "stream",
     "text": [
      "     "
     ]
    },
    {
     "name": "stdout",
     "output_type": "stream",
     "text": [
      " \""
     ]
    },
    {
     "name": "stdout",
     "output_type": "stream",
     "text": [
      "integr"
     ]
    },
    {
     "name": "stdout",
     "output_type": "stream",
     "text": [
      "ator"
     ]
    },
    {
     "name": "stdout",
     "output_type": "stream",
     "text": [
      "_type"
     ]
    },
    {
     "name": "stdout",
     "output_type": "stream",
     "text": [
      "\":"
     ]
    },
    {
     "name": "stdout",
     "output_type": "stream",
     "text": [
      " \""
     ]
    },
    {
     "name": "stdout",
     "output_type": "stream",
     "text": [
      "L"
     ]
    },
    {
     "name": "stdout",
     "output_type": "stream",
     "text": [
      "ange"
     ]
    },
    {
     "name": "stdout",
     "output_type": "stream",
     "text": [
      "vin"
     ]
    },
    {
     "name": "stdout",
     "output_type": "stream",
     "text": [
      "Middle"
     ]
    },
    {
     "name": "stdout",
     "output_type": "stream",
     "text": [
      "\",\n"
     ]
    },
    {
     "name": "stdout",
     "output_type": "stream",
     "text": [
      "     "
     ]
    },
    {
     "name": "stdout",
     "output_type": "stream",
     "text": [
      " \""
     ]
    },
    {
     "name": "stdout",
     "output_type": "stream",
     "text": [
      "Temperature"
     ]
    },
    {
     "name": "stdout",
     "output_type": "stream",
     "text": [
      "\":"
     ]
    },
    {
     "name": "stdout",
     "output_type": "stream",
     "text": [
      " \""
     ]
    },
    {
     "name": "stdout",
     "output_type": "stream",
     "text": [
      "300"
     ]
    },
    {
     "name": "stdout",
     "output_type": "stream",
     "text": [
      " *"
     ]
    },
    {
     "name": "stdout",
     "output_type": "stream",
     "text": [
      " kel"
     ]
    },
    {
     "name": "stdout",
     "output_type": "stream",
     "text": [
      "vin"
     ]
    },
    {
     "name": "stdout",
     "output_type": "stream",
     "text": [
      "\",\n"
     ]
    },
    {
     "name": "stdout",
     "output_type": "stream",
     "text": [
      "     "
     ]
    },
    {
     "name": "stdout",
     "output_type": "stream",
     "text": [
      " \""
     ]
    },
    {
     "name": "stdout",
     "output_type": "stream",
     "text": [
      "F"
     ]
    },
    {
     "name": "stdout",
     "output_type": "stream",
     "text": [
      "riction"
     ]
    },
    {
     "name": "stdout",
     "output_type": "stream",
     "text": [
      "\":"
     ]
    },
    {
     "name": "stdout",
     "output_type": "stream",
     "text": [
      " \""
     ]
    },
    {
     "name": "stdout",
     "output_type": "stream",
     "text": [
      "1"
     ]
    },
    {
     "name": "stdout",
     "output_type": "stream",
     "text": [
      "."
     ]
    },
    {
     "name": "stdout",
     "output_type": "stream",
     "text": [
      "0"
     ]
    },
    {
     "name": "stdout",
     "output_type": "stream",
     "text": [
      " /"
     ]
    },
    {
     "name": "stdout",
     "output_type": "stream",
     "text": [
      " pic"
     ]
    },
    {
     "name": "stdout",
     "output_type": "stream",
     "text": [
      "oseconds"
     ]
    },
    {
     "name": "stdout",
     "output_type": "stream",
     "text": [
      "\",\n"
     ]
    },
    {
     "name": "stdout",
     "output_type": "stream",
     "text": [
      "     "
     ]
    },
    {
     "name": "stdout",
     "output_type": "stream",
     "text": [
      " \""
     ]
    },
    {
     "name": "stdout",
     "output_type": "stream",
     "text": [
      "T"
     ]
    },
    {
     "name": "stdout",
     "output_type": "stream",
     "text": [
      "imestep"
     ]
    },
    {
     "name": "stdout",
     "output_type": "stream",
     "text": [
      "\":"
     ]
    },
    {
     "name": "stdout",
     "output_type": "stream",
     "text": [
      " \""
     ]
    },
    {
     "name": "stdout",
     "output_type": "stream",
     "text": [
      "0"
     ]
    },
    {
     "name": "stdout",
     "output_type": "stream",
     "text": [
      "."
     ]
    },
    {
     "name": "stdout",
     "output_type": "stream",
     "text": [
      "002"
     ]
    },
    {
     "name": "stdout",
     "output_type": "stream",
     "text": [
      " *"
     ]
    },
    {
     "name": "stdout",
     "output_type": "stream",
     "text": [
      " pic"
     ]
    },
    {
     "name": "stdout",
     "output_type": "stream",
     "text": [
      "oseconds"
     ]
    },
    {
     "name": "stdout",
     "output_type": "stream",
     "text": [
      "\",\n"
     ]
    },
    {
     "name": "stdout",
     "output_type": "stream",
     "text": [
      "     "
     ]
    },
    {
     "name": "stdout",
     "output_type": "stream",
     "text": [
      " \""
     ]
    },
    {
     "name": "stdout",
     "output_type": "stream",
     "text": [
      "Pressure"
     ]
    },
    {
     "name": "stdout",
     "output_type": "stream",
     "text": [
      "\":"
     ]
    },
    {
     "name": "stdout",
     "output_type": "stream",
     "text": [
      " \""
     ]
    },
    {
     "name": "stdout",
     "output_type": "stream",
     "text": [
      "1"
     ]
    },
    {
     "name": "stdout",
     "output_type": "stream",
     "text": [
      "."
     ]
    },
    {
     "name": "stdout",
     "output_type": "stream",
     "text": [
      "0"
     ]
    },
    {
     "name": "stdout",
     "output_type": "stream",
     "text": [
      " *"
     ]
    },
    {
     "name": "stdout",
     "output_type": "stream",
     "text": [
      " bar"
     ]
    },
    {
     "name": "stdout",
     "output_type": "stream",
     "text": [
      "\"\n"
     ]
    },
    {
     "name": "stdout",
     "output_type": "stream",
     "text": [
      "   "
     ]
    },
    {
     "name": "stdout",
     "output_type": "stream",
     "text": [
      " },\n"
     ]
    },
    {
     "name": "stdout",
     "output_type": "stream",
     "text": [
      "   "
     ]
    },
    {
     "name": "stdout",
     "output_type": "stream",
     "text": [
      " \""
     ]
    },
    {
     "name": "stdout",
     "output_type": "stream",
     "text": [
      "simulation"
     ]
    },
    {
     "name": "stdout",
     "output_type": "stream",
     "text": [
      "_params"
     ]
    },
    {
     "name": "stdout",
     "output_type": "stream",
     "text": [
      "\":"
     ]
    },
    {
     "name": "stdout",
     "output_type": "stream",
     "text": [
      " {\n"
     ]
    },
    {
     "name": "stdout",
     "output_type": "stream",
     "text": [
      "     "
     ]
    },
    {
     "name": "stdout",
     "output_type": "stream",
     "text": [
      " \""
     ]
    },
    {
     "name": "stdout",
     "output_type": "stream",
     "text": [
      "En"
     ]
    },
    {
     "name": "stdout",
     "output_type": "stream",
     "text": [
      "semble"
     ]
    },
    {
     "name": "stdout",
     "output_type": "stream",
     "text": [
      "\":"
     ]
    },
    {
     "name": "stdout",
     "output_type": "stream",
     "text": [
      " \""
     ]
    },
    {
     "name": "stdout",
     "output_type": "stream",
     "text": [
      "N"
     ]
    },
    {
     "name": "stdout",
     "output_type": "stream",
     "text": [
      "PT"
     ]
    },
    {
     "name": "stdout",
     "output_type": "stream",
     "text": [
      "\",\n"
     ]
    },
    {
     "name": "stdout",
     "output_type": "stream",
     "text": [
      "     "
     ]
    },
    {
     "name": "stdout",
     "output_type": "stream",
     "text": [
      " \""
     ]
    },
    {
     "name": "stdout",
     "output_type": "stream",
     "text": [
      "Number"
     ]
    },
    {
     "name": "stdout",
     "output_type": "stream",
     "text": [
      " of"
     ]
    },
    {
     "name": "stdout",
     "output_type": "stream",
     "text": [
      " Steps"
     ]
    },
    {
     "name": "stdout",
     "output_type": "stream",
     "text": [
      "\":"
     ]
    },
    {
     "name": "stdout",
     "output_type": "stream",
     "text": [
      " "
     ]
    },
    {
     "name": "stdout",
     "output_type": "stream",
     "text": [
      "500"
     ]
    },
    {
     "name": "stdout",
     "output_type": "stream",
     "text": [
      "000"
     ]
    },
    {
     "name": "stdout",
     "output_type": "stream",
     "text": [
      ",\n"
     ]
    },
    {
     "name": "stdout",
     "output_type": "stream",
     "text": [
      "     "
     ]
    },
    {
     "name": "stdout",
     "output_type": "stream",
     "text": [
      " \""
     ]
    },
    {
     "name": "stdout",
     "output_type": "stream",
     "text": [
      "record"
     ]
    },
    {
     "name": "stdout",
     "output_type": "stream",
     "text": [
      "_interval"
     ]
    },
    {
     "name": "stdout",
     "output_type": "stream",
     "text": [
      "_steps"
     ]
    },
    {
     "name": "stdout",
     "output_type": "stream",
     "text": [
      "\":"
     ]
    },
    {
     "name": "stdout",
     "output_type": "stream",
     "text": [
      " "
     ]
    },
    {
     "name": "stdout",
     "output_type": "stream",
     "text": [
      "500"
     ]
    },
    {
     "name": "stdout",
     "output_type": "stream",
     "text": [
      "0"
     ]
    },
    {
     "name": "stdout",
     "output_type": "stream",
     "text": [
      ",\n"
     ]
    },
    {
     "name": "stdout",
     "output_type": "stream",
     "text": [
      "     "
     ]
    },
    {
     "name": "stdout",
     "output_type": "stream",
     "text": [
      " \""
     ]
    },
    {
     "name": "stdout",
     "output_type": "stream",
     "text": [
      "record"
     ]
    },
    {
     "name": "stdout",
     "output_type": "stream",
     "text": [
      "_params"
     ]
    },
    {
     "name": "stdout",
     "output_type": "stream",
     "text": [
      "\":"
     ]
    },
    {
     "name": "stdout",
     "output_type": "stream",
     "text": [
      " [\""
     ]
    },
    {
     "name": "stdout",
     "output_type": "stream",
     "text": [
      "step"
     ]
    },
    {
     "name": "stdout",
     "output_type": "stream",
     "text": [
      "\","
     ]
    },
    {
     "name": "stdout",
     "output_type": "stream",
     "text": [
      " \""
     ]
    },
    {
     "name": "stdout",
     "output_type": "stream",
     "text": [
      "potential"
     ]
    },
    {
     "name": "stdout",
     "output_type": "stream",
     "text": [
      "Energy"
     ]
    },
    {
     "name": "stdout",
     "output_type": "stream",
     "text": [
      "\","
     ]
    },
    {
     "name": "stdout",
     "output_type": "stream",
     "text": [
      " \""
     ]
    },
    {
     "name": "stdout",
     "output_type": "stream",
     "text": [
      "temperature"
     ]
    },
    {
     "name": "stdout",
     "output_type": "stream",
     "text": [
      "\","
     ]
    },
    {
     "name": "stdout",
     "output_type": "stream",
     "text": [
      " \""
     ]
    },
    {
     "name": "stdout",
     "output_type": "stream",
     "text": [
      "R"
     ]
    },
    {
     "name": "stdout",
     "output_type": "stream",
     "text": [
      "MS"
     ]
    },
    {
     "name": "stdout",
     "output_type": "stream",
     "text": [
      "D"
     ]
    },
    {
     "name": "stdout",
     "output_type": "stream",
     "text": [
      "\"]\n"
     ]
    },
    {
     "name": "stdout",
     "output_type": "stream",
     "text": [
      "   "
     ]
    },
    {
     "name": "stdout",
     "output_type": "stream",
     "text": [
      " }\n"
     ]
    },
    {
     "name": "stdout",
     "output_type": "stream",
     "text": [
      " "
     ]
    },
    {
     "name": "stdout",
     "output_type": "stream",
     "text": [
      " }\n"
     ]
    },
    {
     "name": "stdout",
     "output_type": "stream",
     "text": [
      "}\n"
     ]
    },
    {
     "name": "stdout",
     "output_type": "stream",
     "text": [
      "```"
     ]
    },
    {
     "name": "stdout",
     "output_type": "stream",
     "text": [
      "Building system...\n"
     ]
    },
    {
     "name": "stdout",
     "output_type": "stream",
     "text": [
      "About to create system...\n",
      "Attempts at creating system: 0/3\n",
      "Error adding solvent ValueError – No template found for residue 1 (MET).  The set of atoms is similar to MET, but it is missing 9 hydrogen atoms.  For more information, see https://github.com/openmm/openmm/wiki/Frequently-Asked-Questions#template\n",
      "Residue code: MET\n",
      "Residue code not in solvent list. Adding forcefield                         not supported.\n"
     ]
    },
    {
     "name": "stdout",
     "output_type": "stream",
     "text": [
      "To"
     ]
    },
    {
     "name": "stdout",
     "output_type": "stream",
     "text": [
      " resolve"
     ]
    },
    {
     "name": "stdout",
     "output_type": "stream",
     "text": [
      " the"
     ]
    },
    {
     "name": "stdout",
     "output_type": "stream",
     "text": [
      " issue"
     ]
    },
    {
     "name": "stdout",
     "output_type": "stream",
     "text": [
      " with"
     ]
    },
    {
     "name": "stdout",
     "output_type": "stream",
     "text": [
      " missing"
     ]
    },
    {
     "name": "stdout",
     "output_type": "stream",
     "text": [
      " hydrogen"
     ]
    },
    {
     "name": "stdout",
     "output_type": "stream",
     "text": [
      " atoms"
     ]
    },
    {
     "name": "stdout",
     "output_type": "stream",
     "text": [
      " in"
     ]
    },
    {
     "name": "stdout",
     "output_type": "stream",
     "text": [
      " the"
     ]
    },
    {
     "name": "stdout",
     "output_type": "stream",
     "text": [
      " MET"
     ]
    },
    {
     "name": "stdout",
     "output_type": "stream",
     "text": [
      " residue"
     ]
    },
    {
     "name": "stdout",
     "output_type": "stream",
     "text": [
      ","
     ]
    },
    {
     "name": "stdout",
     "output_type": "stream",
     "text": [
      " I"
     ]
    },
    {
     "name": "stdout",
     "output_type": "stream",
     "text": [
      " will"
     ]
    },
    {
     "name": "stdout",
     "output_type": "stream",
     "text": [
      " use"
     ]
    },
    {
     "name": "stdout",
     "output_type": "stream",
     "text": [
      " the"
     ]
    },
    {
     "name": "stdout",
     "output_type": "stream",
     "text": [
      " Cleaning"
     ]
    },
    {
     "name": "stdout",
     "output_type": "stream",
     "text": [
      "Tool"
     ]
    },
    {
     "name": "stdout",
     "output_type": "stream",
     "text": [
      "Function"
     ]
    },
    {
     "name": "stdout",
     "output_type": "stream",
     "text": [
      " to"
     ]
    },
    {
     "name": "stdout",
     "output_type": "stream",
     "text": [
      " add"
     ]
    },
    {
     "name": "stdout",
     "output_type": "stream",
     "text": [
      " the"
     ]
    },
    {
     "name": "stdout",
     "output_type": "stream",
     "text": [
      " missing"
     ]
    },
    {
     "name": "stdout",
     "output_type": "stream",
     "text": [
      " atoms"
     ]
    },
    {
     "name": "stdout",
     "output_type": "stream",
     "text": [
      " and"
     ]
    },
    {
     "name": "stdout",
     "output_type": "stream",
     "text": [
      " hyd"
     ]
    },
    {
     "name": "stdout",
     "output_type": "stream",
     "text": [
      "rog"
     ]
    },
    {
     "name": "stdout",
     "output_type": "stream",
     "text": [
      "ens"
     ]
    },
    {
     "name": "stdout",
     "output_type": "stream",
     "text": [
      " to"
     ]
    },
    {
     "name": "stdout",
     "output_type": "stream",
     "text": [
      " the"
     ]
    },
    {
     "name": "stdout",
     "output_type": "stream",
     "text": [
      " P"
     ]
    },
    {
     "name": "stdout",
     "output_type": "stream",
     "text": [
      "DB"
     ]
    },
    {
     "name": "stdout",
     "output_type": "stream",
     "text": [
      " file"
     ]
    },
    {
     "name": "stdout",
     "output_type": "stream",
     "text": [
      "."
     ]
    },
    {
     "name": "stdout",
     "output_type": "stream",
     "text": [
      " After"
     ]
    },
    {
     "name": "stdout",
     "output_type": "stream",
     "text": [
      " that"
     ]
    },
    {
     "name": "stdout",
     "output_type": "stream",
     "text": [
      ","
     ]
    },
    {
     "name": "stdout",
     "output_type": "stream",
     "text": [
      " I"
     ]
    },
    {
     "name": "stdout",
     "output_type": "stream",
     "text": [
      " will"
     ]
    },
    {
     "name": "stdout",
     "output_type": "stream",
     "text": [
      " attempt"
     ]
    },
    {
     "name": "stdout",
     "output_type": "stream",
     "text": [
      " to"
     ]
    },
    {
     "name": "stdout",
     "output_type": "stream",
     "text": [
      " set"
     ]
    },
    {
     "name": "stdout",
     "output_type": "stream",
     "text": [
      " up"
     ]
    },
    {
     "name": "stdout",
     "output_type": "stream",
     "text": [
      " and"
     ]
    },
    {
     "name": "stdout",
     "output_type": "stream",
     "text": [
      " run"
     ]
    },
    {
     "name": "stdout",
     "output_type": "stream",
     "text": [
      " the"
     ]
    },
    {
     "name": "stdout",
     "output_type": "stream",
     "text": [
      " simulation"
     ]
    },
    {
     "name": "stdout",
     "output_type": "stream",
     "text": [
      " again"
     ]
    },
    {
     "name": "stdout",
     "output_type": "stream",
     "text": [
      ".\n",
      "\n"
     ]
    },
    {
     "name": "stdout",
     "output_type": "stream",
     "text": [
      "Action"
     ]
    },
    {
     "name": "stdout",
     "output_type": "stream",
     "text": [
      ":\n"
     ]
    },
    {
     "name": "stdout",
     "output_type": "stream",
     "text": [
      "```"
     ]
    },
    {
     "name": "stdout",
     "output_type": "stream",
     "text": [
      "json"
     ]
    },
    {
     "name": "stdout",
     "output_type": "stream",
     "text": [
      "\n"
     ]
    },
    {
     "name": "stdout",
     "output_type": "stream",
     "text": [
      "{\n"
     ]
    },
    {
     "name": "stdout",
     "output_type": "stream",
     "text": [
      " "
     ]
    },
    {
     "name": "stdout",
     "output_type": "stream",
     "text": [
      " \""
     ]
    },
    {
     "name": "stdout",
     "output_type": "stream",
     "text": [
      "action"
     ]
    },
    {
     "name": "stdout",
     "output_type": "stream",
     "text": [
      "\":"
     ]
    },
    {
     "name": "stdout",
     "output_type": "stream",
     "text": [
      " \""
     ]
    },
    {
     "name": "stdout",
     "output_type": "stream",
     "text": [
      "Cleaning"
     ]
    },
    {
     "name": "stdout",
     "output_type": "stream",
     "text": [
      "Tool"
     ]
    },
    {
     "name": "stdout",
     "output_type": "stream",
     "text": [
      "Function"
     ]
    },
    {
     "name": "stdout",
     "output_type": "stream",
     "text": [
      "\",\n"
     ]
    },
    {
     "name": "stdout",
     "output_type": "stream",
     "text": [
      " "
     ]
    },
    {
     "name": "stdout",
     "output_type": "stream",
     "text": [
      " \""
     ]
    },
    {
     "name": "stdout",
     "output_type": "stream",
     "text": [
      "action"
     ]
    },
    {
     "name": "stdout",
     "output_type": "stream",
     "text": [
      "_input"
     ]
    },
    {
     "name": "stdout",
     "output_type": "stream",
     "text": [
      "\":"
     ]
    },
    {
     "name": "stdout",
     "output_type": "stream",
     "text": [
      " {\n"
     ]
    },
    {
     "name": "stdout",
     "output_type": "stream",
     "text": [
      "   "
     ]
    },
    {
     "name": "stdout",
     "output_type": "stream",
     "text": [
      " \""
     ]
    },
    {
     "name": "stdout",
     "output_type": "stream",
     "text": [
      "p"
     ]
    },
    {
     "name": "stdout",
     "output_type": "stream",
     "text": [
      "db"
     ]
    },
    {
     "name": "stdout",
     "output_type": "stream",
     "text": [
      "_id"
     ]
    },
    {
     "name": "stdout",
     "output_type": "stream",
     "text": [
      "\":"
     ]
    },
    {
     "name": "stdout",
     "output_type": "stream",
     "text": [
      " \""
     ]
    },
    {
     "name": "stdout",
     "output_type": "stream",
     "text": [
      "2"
     ]
    },
    {
     "name": "stdout",
     "output_type": "stream",
     "text": [
      "Y"
     ]
    },
    {
     "name": "stdout",
     "output_type": "stream",
     "text": [
      "XF"
     ]
    },
    {
     "name": "stdout",
     "output_type": "stream",
     "text": [
      "_"
     ]
    },
    {
     "name": "stdout",
     "output_type": "stream",
     "text": [
      "204"
     ]
    },
    {
     "name": "stdout",
     "output_type": "stream",
     "text": [
      "108"
     ]
    },
    {
     "name": "stdout",
     "output_type": "stream",
     "text": [
      "\",\n"
     ]
    },
    {
     "name": "stdout",
     "output_type": "stream",
     "text": [
      "   "
     ]
    },
    {
     "name": "stdout",
     "output_type": "stream",
     "text": [
      " \""
     ]
    },
    {
     "name": "stdout",
     "output_type": "stream",
     "text": [
      "replace"
     ]
    },
    {
     "name": "stdout",
     "output_type": "stream",
     "text": [
      "_non"
     ]
    },
    {
     "name": "stdout",
     "output_type": "stream",
     "text": [
      "standard"
     ]
    },
    {
     "name": "stdout",
     "output_type": "stream",
     "text": [
      "_res"
     ]
    },
    {
     "name": "stdout",
     "output_type": "stream",
     "text": [
      "id"
     ]
    },
    {
     "name": "stdout",
     "output_type": "stream",
     "text": [
      "ues"
     ]
    },
    {
     "name": "stdout",
     "output_type": "stream",
     "text": [
      "\":"
     ]
    },
    {
     "name": "stdout",
     "output_type": "stream",
     "text": [
      " true"
     ]
    },
    {
     "name": "stdout",
     "output_type": "stream",
     "text": [
      ",\n"
     ]
    },
    {
     "name": "stdout",
     "output_type": "stream",
     "text": [
      "   "
     ]
    },
    {
     "name": "stdout",
     "output_type": "stream",
     "text": [
      " \""
     ]
    },
    {
     "name": "stdout",
     "output_type": "stream",
     "text": [
      "add"
     ]
    },
    {
     "name": "stdout",
     "output_type": "stream",
     "text": [
      "_missing"
     ]
    },
    {
     "name": "stdout",
     "output_type": "stream",
     "text": [
      "_atoms"
     ]
    },
    {
     "name": "stdout",
     "output_type": "stream",
     "text": [
      "\":"
     ]
    },
    {
     "name": "stdout",
     "output_type": "stream",
     "text": [
      " true"
     ]
    },
    {
     "name": "stdout",
     "output_type": "stream",
     "text": [
      ",\n"
     ]
    },
    {
     "name": "stdout",
     "output_type": "stream",
     "text": [
      "   "
     ]
    },
    {
     "name": "stdout",
     "output_type": "stream",
     "text": [
      " \""
     ]
    },
    {
     "name": "stdout",
     "output_type": "stream",
     "text": [
      "remove"
     ]
    },
    {
     "name": "stdout",
     "output_type": "stream",
     "text": [
      "_"
     ]
    },
    {
     "name": "stdout",
     "output_type": "stream",
     "text": [
      "heter"
     ]
    },
    {
     "name": "stdout",
     "output_type": "stream",
     "text": [
      "ogens"
     ]
    },
    {
     "name": "stdout",
     "output_type": "stream",
     "text": [
      "\":"
     ]
    },
    {
     "name": "stdout",
     "output_type": "stream",
     "text": [
      " true"
     ]
    },
    {
     "name": "stdout",
     "output_type": "stream",
     "text": [
      ",\n"
     ]
    },
    {
     "name": "stdout",
     "output_type": "stream",
     "text": [
      "   "
     ]
    },
    {
     "name": "stdout",
     "output_type": "stream",
     "text": [
      " \""
     ]
    },
    {
     "name": "stdout",
     "output_type": "stream",
     "text": [
      "remove"
     ]
    },
    {
     "name": "stdout",
     "output_type": "stream",
     "text": [
      "_water"
     ]
    },
    {
     "name": "stdout",
     "output_type": "stream",
     "text": [
      "\":"
     ]
    },
    {
     "name": "stdout",
     "output_type": "stream",
     "text": [
      " false"
     ]
    },
    {
     "name": "stdout",
     "output_type": "stream",
     "text": [
      ",\n"
     ]
    },
    {
     "name": "stdout",
     "output_type": "stream",
     "text": [
      "   "
     ]
    },
    {
     "name": "stdout",
     "output_type": "stream",
     "text": [
      " \""
     ]
    },
    {
     "name": "stdout",
     "output_type": "stream",
     "text": [
      "add"
     ]
    },
    {
     "name": "stdout",
     "output_type": "stream",
     "text": [
      "_h"
     ]
    },
    {
     "name": "stdout",
     "output_type": "stream",
     "text": [
      "yd"
     ]
    },
    {
     "name": "stdout",
     "output_type": "stream",
     "text": [
      "rog"
     ]
    },
    {
     "name": "stdout",
     "output_type": "stream",
     "text": [
      "ens"
     ]
    },
    {
     "name": "stdout",
     "output_type": "stream",
     "text": [
      "\":"
     ]
    },
    {
     "name": "stdout",
     "output_type": "stream",
     "text": [
      " true"
     ]
    },
    {
     "name": "stdout",
     "output_type": "stream",
     "text": [
      ",\n"
     ]
    },
    {
     "name": "stdout",
     "output_type": "stream",
     "text": [
      "   "
     ]
    },
    {
     "name": "stdout",
     "output_type": "stream",
     "text": [
      " \""
     ]
    },
    {
     "name": "stdout",
     "output_type": "stream",
     "text": [
      "add"
     ]
    },
    {
     "name": "stdout",
     "output_type": "stream",
     "text": [
      "_h"
     ]
    },
    {
     "name": "stdout",
     "output_type": "stream",
     "text": [
      "yd"
     ]
    },
    {
     "name": "stdout",
     "output_type": "stream",
     "text": [
      "rog"
     ]
    },
    {
     "name": "stdout",
     "output_type": "stream",
     "text": [
      "ens"
     ]
    },
    {
     "name": "stdout",
     "output_type": "stream",
     "text": [
      "_ph"
     ]
    },
    {
     "name": "stdout",
     "output_type": "stream",
     "text": [
      "\":"
     ]
    },
    {
     "name": "stdout",
     "output_type": "stream",
     "text": [
      " "
     ]
    },
    {
     "name": "stdout",
     "output_type": "stream",
     "text": [
      "7"
     ]
    },
    {
     "name": "stdout",
     "output_type": "stream",
     "text": [
      "."
     ]
    },
    {
     "name": "stdout",
     "output_type": "stream",
     "text": [
      "0"
     ]
    },
    {
     "name": "stdout",
     "output_type": "stream",
     "text": [
      "\n"
     ]
    },
    {
     "name": "stdout",
     "output_type": "stream",
     "text": [
      " "
     ]
    },
    {
     "name": "stdout",
     "output_type": "stream",
     "text": [
      " }\n"
     ]
    },
    {
     "name": "stdout",
     "output_type": "stream",
     "text": [
      "}\n"
     ]
    },
    {
     "name": "stdout",
     "output_type": "stream",
     "text": [
      "```"
     ]
    },
    {
     "name": "stdout",
     "output_type": "stream",
     "text": [
      "file path: /gpfs/fs2/scratch/qcampbe2/repos/md-agent_gpt_params/ckpt/ckpt_16/pdb/2YXF_raw_20241008_204108.pdb\n"
     ]
    },
    {
     "name": "stdout",
     "output_type": "stream",
     "text": [
      "To"
     ]
    },
    {
     "name": "stdout",
     "output_type": "stream",
     "text": [
      " proceed"
     ]
    },
    {
     "name": "stdout",
     "output_type": "stream",
     "text": [
      " with"
     ]
    },
    {
     "name": "stdout",
     "output_type": "stream",
     "text": [
      " the"
     ]
    },
    {
     "name": "stdout",
     "output_type": "stream",
     "text": [
      " simulation"
     ]
    },
    {
     "name": "stdout",
     "output_type": "stream",
     "text": [
      ","
     ]
    },
    {
     "name": "stdout",
     "output_type": "stream",
     "text": [
      " I"
     ]
    },
    {
     "name": "stdout",
     "output_type": "stream",
     "text": [
      " will"
     ]
    },
    {
     "name": "stdout",
     "output_type": "stream",
     "text": [
      " use"
     ]
    },
    {
     "name": "stdout",
     "output_type": "stream",
     "text": [
      " the"
     ]
    },
    {
     "name": "stdout",
     "output_type": "stream",
     "text": [
      " cleaned"
     ]
    },
    {
     "name": "stdout",
     "output_type": "stream",
     "text": [
      " P"
     ]
    },
    {
     "name": "stdout",
     "output_type": "stream",
     "text": [
      "DB"
     ]
    },
    {
     "name": "stdout",
     "output_type": "stream",
     "text": [
      " file"
     ]
    },
    {
     "name": "stdout",
     "output_type": "stream",
     "text": [
      " ("
     ]
    },
    {
     "name": "stdout",
     "output_type": "stream",
     "text": [
      "2"
     ]
    },
    {
     "name": "stdout",
     "output_type": "stream",
     "text": [
      "Y"
     ]
    },
    {
     "name": "stdout",
     "output_type": "stream",
     "text": [
      "XF"
     ]
    },
    {
     "name": "stdout",
     "output_type": "stream",
     "text": [
      "_"
     ]
    },
    {
     "name": "stdout",
     "output_type": "stream",
     "text": [
      "204"
     ]
    },
    {
     "name": "stdout",
     "output_type": "stream",
     "text": [
      "133"
     ]
    },
    {
     "name": "stdout",
     "output_type": "stream",
     "text": [
      ")"
     ]
    },
    {
     "name": "stdout",
     "output_type": "stream",
     "text": [
      " to"
     ]
    },
    {
     "name": "stdout",
     "output_type": "stream",
     "text": [
      " set"
     ]
    },
    {
     "name": "stdout",
     "output_type": "stream",
     "text": [
      " up"
     ]
    },
    {
     "name": "stdout",
     "output_type": "stream",
     "text": [
      " and"
     ]
    },
    {
     "name": "stdout",
     "output_type": "stream",
     "text": [
      " run"
     ]
    },
    {
     "name": "stdout",
     "output_type": "stream",
     "text": [
      " a"
     ]
    },
    {
     "name": "stdout",
     "output_type": "stream",
     "text": [
      " "
     ]
    },
    {
     "name": "stdout",
     "output_type": "stream",
     "text": [
      "1"
     ]
    },
    {
     "name": "stdout",
     "output_type": "stream",
     "text": [
      " ns"
     ]
    },
    {
     "name": "stdout",
     "output_type": "stream",
     "text": [
      " simulation"
     ]
    },
    {
     "name": "stdout",
     "output_type": "stream",
     "text": [
      "."
     ]
    },
    {
     "name": "stdout",
     "output_type": "stream",
     "text": [
      " After"
     ]
    },
    {
     "name": "stdout",
     "output_type": "stream",
     "text": [
      " the"
     ]
    },
    {
     "name": "stdout",
     "output_type": "stream",
     "text": [
      " simulation"
     ]
    },
    {
     "name": "stdout",
     "output_type": "stream",
     "text": [
      ","
     ]
    },
    {
     "name": "stdout",
     "output_type": "stream",
     "text": [
      " I"
     ]
    },
    {
     "name": "stdout",
     "output_type": "stream",
     "text": [
      " will"
     ]
    },
    {
     "name": "stdout",
     "output_type": "stream",
     "text": [
      " plot"
     ]
    },
    {
     "name": "stdout",
     "output_type": "stream",
     "text": [
      " the"
     ]
    },
    {
     "name": "stdout",
     "output_type": "stream",
     "text": [
      " RMS"
     ]
    },
    {
     "name": "stdout",
     "output_type": "stream",
     "text": [
      "D"
     ]
    },
    {
     "name": "stdout",
     "output_type": "stream",
     "text": [
      " over"
     ]
    },
    {
     "name": "stdout",
     "output_type": "stream",
     "text": [
      " time"
     ]
    },
    {
     "name": "stdout",
     "output_type": "stream",
     "text": [
      ".\n",
      "\n"
     ]
    },
    {
     "name": "stdout",
     "output_type": "stream",
     "text": [
      "Action"
     ]
    },
    {
     "name": "stdout",
     "output_type": "stream",
     "text": [
      ":\n"
     ]
    },
    {
     "name": "stdout",
     "output_type": "stream",
     "text": [
      "```"
     ]
    },
    {
     "name": "stdout",
     "output_type": "stream",
     "text": [
      "json"
     ]
    },
    {
     "name": "stdout",
     "output_type": "stream",
     "text": [
      "\n"
     ]
    },
    {
     "name": "stdout",
     "output_type": "stream",
     "text": [
      "{\n"
     ]
    },
    {
     "name": "stdout",
     "output_type": "stream",
     "text": [
      " "
     ]
    },
    {
     "name": "stdout",
     "output_type": "stream",
     "text": [
      " \""
     ]
    },
    {
     "name": "stdout",
     "output_type": "stream",
     "text": [
      "action"
     ]
    },
    {
     "name": "stdout",
     "output_type": "stream",
     "text": [
      "\":"
     ]
    },
    {
     "name": "stdout",
     "output_type": "stream",
     "text": [
      " \""
     ]
    },
    {
     "name": "stdout",
     "output_type": "stream",
     "text": [
      "Set"
     ]
    },
    {
     "name": "stdout",
     "output_type": "stream",
     "text": [
      "Up"
     ]
    },
    {
     "name": "stdout",
     "output_type": "stream",
     "text": [
      "and"
     ]
    },
    {
     "name": "stdout",
     "output_type": "stream",
     "text": [
      "Run"
     ]
    },
    {
     "name": "stdout",
     "output_type": "stream",
     "text": [
      "Function"
     ]
    },
    {
     "name": "stdout",
     "output_type": "stream",
     "text": [
      "\",\n"
     ]
    },
    {
     "name": "stdout",
     "output_type": "stream",
     "text": [
      " "
     ]
    },
    {
     "name": "stdout",
     "output_type": "stream",
     "text": [
      " \""
     ]
    },
    {
     "name": "stdout",
     "output_type": "stream",
     "text": [
      "action"
     ]
    },
    {
     "name": "stdout",
     "output_type": "stream",
     "text": [
      "_input"
     ]
    },
    {
     "name": "stdout",
     "output_type": "stream",
     "text": [
      "\":"
     ]
    },
    {
     "name": "stdout",
     "output_type": "stream",
     "text": [
      " {\n"
     ]
    },
    {
     "name": "stdout",
     "output_type": "stream",
     "text": [
      "   "
     ]
    },
    {
     "name": "stdout",
     "output_type": "stream",
     "text": [
      " \""
     ]
    },
    {
     "name": "stdout",
     "output_type": "stream",
     "text": [
      "p"
     ]
    },
    {
     "name": "stdout",
     "output_type": "stream",
     "text": [
      "db"
     ]
    },
    {
     "name": "stdout",
     "output_type": "stream",
     "text": [
      "_id"
     ]
    },
    {
     "name": "stdout",
     "output_type": "stream",
     "text": [
      "\":"
     ]
    },
    {
     "name": "stdout",
     "output_type": "stream",
     "text": [
      " \""
     ]
    },
    {
     "name": "stdout",
     "output_type": "stream",
     "text": [
      "2"
     ]
    },
    {
     "name": "stdout",
     "output_type": "stream",
     "text": [
      "Y"
     ]
    },
    {
     "name": "stdout",
     "output_type": "stream",
     "text": [
      "XF"
     ]
    },
    {
     "name": "stdout",
     "output_type": "stream",
     "text": [
      "_"
     ]
    },
    {
     "name": "stdout",
     "output_type": "stream",
     "text": [
      "204"
     ]
    },
    {
     "name": "stdout",
     "output_type": "stream",
     "text": [
      "133"
     ]
    },
    {
     "name": "stdout",
     "output_type": "stream",
     "text": [
      "\",\n"
     ]
    },
    {
     "name": "stdout",
     "output_type": "stream",
     "text": [
      "   "
     ]
    },
    {
     "name": "stdout",
     "output_type": "stream",
     "text": [
      " \""
     ]
    },
    {
     "name": "stdout",
     "output_type": "stream",
     "text": [
      "force"
     ]
    },
    {
     "name": "stdout",
     "output_type": "stream",
     "text": [
      "field"
     ]
    },
    {
     "name": "stdout",
     "output_type": "stream",
     "text": [
      "_files"
     ]
    },
    {
     "name": "stdout",
     "output_type": "stream",
     "text": [
      "\":"
     ]
    },
    {
     "name": "stdout",
     "output_type": "stream",
     "text": [
      " [\""
     ]
    },
    {
     "name": "stdout",
     "output_type": "stream",
     "text": [
      "amber"
     ]
    },
    {
     "name": "stdout",
     "output_type": "stream",
     "text": [
      "99"
     ]
    },
    {
     "name": "stdout",
     "output_type": "stream",
     "text": [
      "sb"
     ]
    },
    {
     "name": "stdout",
     "output_type": "stream",
     "text": [
      ".xml"
     ]
    },
    {
     "name": "stdout",
     "output_type": "stream",
     "text": [
      "\","
     ]
    },
    {
     "name": "stdout",
     "output_type": "stream",
     "text": [
      " \""
     ]
    },
    {
     "name": "stdout",
     "output_type": "stream",
     "text": [
      "tip"
     ]
    },
    {
     "name": "stdout",
     "output_type": "stream",
     "text": [
      "3"
     ]
    },
    {
     "name": "stdout",
     "output_type": "stream",
     "text": [
      "p"
     ]
    },
    {
     "name": "stdout",
     "output_type": "stream",
     "text": [
      ".xml"
     ]
    },
    {
     "name": "stdout",
     "output_type": "stream",
     "text": [
      "\"],\n"
     ]
    },
    {
     "name": "stdout",
     "output_type": "stream",
     "text": [
      "   "
     ]
    },
    {
     "name": "stdout",
     "output_type": "stream",
     "text": [
      " \""
     ]
    },
    {
     "name": "stdout",
     "output_type": "stream",
     "text": [
      "save"
     ]
    },
    {
     "name": "stdout",
     "output_type": "stream",
     "text": [
      "\":"
     ]
    },
    {
     "name": "stdout",
     "output_type": "stream",
     "text": [
      " true"
     ]
    },
    {
     "name": "stdout",
     "output_type": "stream",
     "text": [
      ",\n"
     ]
    },
    {
     "name": "stdout",
     "output_type": "stream",
     "text": [
      "   "
     ]
    },
    {
     "name": "stdout",
     "output_type": "stream",
     "text": [
      " \""
     ]
    },
    {
     "name": "stdout",
     "output_type": "stream",
     "text": [
      "system"
     ]
    },
    {
     "name": "stdout",
     "output_type": "stream",
     "text": [
      "_params"
     ]
    },
    {
     "name": "stdout",
     "output_type": "stream",
     "text": [
      "\":"
     ]
    },
    {
     "name": "stdout",
     "output_type": "stream",
     "text": [
      " {\n"
     ]
    },
    {
     "name": "stdout",
     "output_type": "stream",
     "text": [
      "     "
     ]
    },
    {
     "name": "stdout",
     "output_type": "stream",
     "text": [
      " \""
     ]
    },
    {
     "name": "stdout",
     "output_type": "stream",
     "text": [
      "non"
     ]
    },
    {
     "name": "stdout",
     "output_type": "stream",
     "text": [
      "bond"
     ]
    },
    {
     "name": "stdout",
     "output_type": "stream",
     "text": [
      "ed"
     ]
    },
    {
     "name": "stdout",
     "output_type": "stream",
     "text": [
      "Method"
     ]
    },
    {
     "name": "stdout",
     "output_type": "stream",
     "text": [
      "\":"
     ]
    },
    {
     "name": "stdout",
     "output_type": "stream",
     "text": [
      " \""
     ]
    },
    {
     "name": "stdout",
     "output_type": "stream",
     "text": [
      "PM"
     ]
    },
    {
     "name": "stdout",
     "output_type": "stream",
     "text": [
      "E"
     ]
    },
    {
     "name": "stdout",
     "output_type": "stream",
     "text": [
      "\",\n"
     ]
    },
    {
     "name": "stdout",
     "output_type": "stream",
     "text": [
      "     "
     ]
    },
    {
     "name": "stdout",
     "output_type": "stream",
     "text": [
      " \""
     ]
    },
    {
     "name": "stdout",
     "output_type": "stream",
     "text": [
      "non"
     ]
    },
    {
     "name": "stdout",
     "output_type": "stream",
     "text": [
      "bond"
     ]
    },
    {
     "name": "stdout",
     "output_type": "stream",
     "text": [
      "ed"
     ]
    },
    {
     "name": "stdout",
     "output_type": "stream",
     "text": [
      "Cut"
     ]
    },
    {
     "name": "stdout",
     "output_type": "stream",
     "text": [
      "off"
     ]
    },
    {
     "name": "stdout",
     "output_type": "stream",
     "text": [
      "\":"
     ]
    },
    {
     "name": "stdout",
     "output_type": "stream",
     "text": [
      " \""
     ]
    },
    {
     "name": "stdout",
     "output_type": "stream",
     "text": [
      "1"
     ]
    },
    {
     "name": "stdout",
     "output_type": "stream",
     "text": [
      "."
     ]
    },
    {
     "name": "stdout",
     "output_type": "stream",
     "text": [
      "0"
     ]
    },
    {
     "name": "stdout",
     "output_type": "stream",
     "text": [
      " *"
     ]
    },
    {
     "name": "stdout",
     "output_type": "stream",
     "text": [
      " nan"
     ]
    },
    {
     "name": "stdout",
     "output_type": "stream",
     "text": [
      "ometers"
     ]
    },
    {
     "name": "stdout",
     "output_type": "stream",
     "text": [
      "\",\n"
     ]
    },
    {
     "name": "stdout",
     "output_type": "stream",
     "text": [
      "     "
     ]
    },
    {
     "name": "stdout",
     "output_type": "stream",
     "text": [
      " \""
     ]
    },
    {
     "name": "stdout",
     "output_type": "stream",
     "text": [
      "ew"
     ]
    },
    {
     "name": "stdout",
     "output_type": "stream",
     "text": [
      "ald"
     ]
    },
    {
     "name": "stdout",
     "output_type": "stream",
     "text": [
      "Error"
     ]
    },
    {
     "name": "stdout",
     "output_type": "stream",
     "text": [
      "Tolerance"
     ]
    },
    {
     "name": "stdout",
     "output_type": "stream",
     "text": [
      "\":"
     ]
    },
    {
     "name": "stdout",
     "output_type": "stream",
     "text": [
      " \""
     ]
    },
    {
     "name": "stdout",
     "output_type": "stream",
     "text": [
      "0"
     ]
    },
    {
     "name": "stdout",
     "output_type": "stream",
     "text": [
      "."
     ]
    },
    {
     "name": "stdout",
     "output_type": "stream",
     "text": [
      "000"
     ]
    },
    {
     "name": "stdout",
     "output_type": "stream",
     "text": [
      "5"
     ]
    },
    {
     "name": "stdout",
     "output_type": "stream",
     "text": [
      "\",\n"
     ]
    },
    {
     "name": "stdout",
     "output_type": "stream",
     "text": [
      "     "
     ]
    },
    {
     "name": "stdout",
     "output_type": "stream",
     "text": [
      " \""
     ]
    },
    {
     "name": "stdout",
     "output_type": "stream",
     "text": [
      "constraints"
     ]
    },
    {
     "name": "stdout",
     "output_type": "stream",
     "text": [
      "\":"
     ]
    },
    {
     "name": "stdout",
     "output_type": "stream",
     "text": [
      " \""
     ]
    },
    {
     "name": "stdout",
     "output_type": "stream",
     "text": [
      "HB"
     ]
    },
    {
     "name": "stdout",
     "output_type": "stream",
     "text": [
      "onds"
     ]
    },
    {
     "name": "stdout",
     "output_type": "stream",
     "text": [
      "\",\n"
     ]
    },
    {
     "name": "stdout",
     "output_type": "stream",
     "text": [
      "     "
     ]
    },
    {
     "name": "stdout",
     "output_type": "stream",
     "text": [
      " \""
     ]
    },
    {
     "name": "stdout",
     "output_type": "stream",
     "text": [
      "rig"
     ]
    },
    {
     "name": "stdout",
     "output_type": "stream",
     "text": [
      "id"
     ]
    },
    {
     "name": "stdout",
     "output_type": "stream",
     "text": [
      "Water"
     ]
    },
    {
     "name": "stdout",
     "output_type": "stream",
     "text": [
      "\":"
     ]
    },
    {
     "name": "stdout",
     "output_type": "stream",
     "text": [
      " true"
     ]
    },
    {
     "name": "stdout",
     "output_type": "stream",
     "text": [
      ",\n"
     ]
    },
    {
     "name": "stdout",
     "output_type": "stream",
     "text": [
      "     "
     ]
    },
    {
     "name": "stdout",
     "output_type": "stream",
     "text": [
      " \""
     ]
    },
    {
     "name": "stdout",
     "output_type": "stream",
     "text": [
      "constraint"
     ]
    },
    {
     "name": "stdout",
     "output_type": "stream",
     "text": [
      "Tolerance"
     ]
    },
    {
     "name": "stdout",
     "output_type": "stream",
     "text": [
      "\":"
     ]
    },
    {
     "name": "stdout",
     "output_type": "stream",
     "text": [
      " \""
     ]
    },
    {
     "name": "stdout",
     "output_type": "stream",
     "text": [
      "0"
     ]
    },
    {
     "name": "stdout",
     "output_type": "stream",
     "text": [
      "."
     ]
    },
    {
     "name": "stdout",
     "output_type": "stream",
     "text": [
      "000"
     ]
    },
    {
     "name": "stdout",
     "output_type": "stream",
     "text": [
      "01"
     ]
    },
    {
     "name": "stdout",
     "output_type": "stream",
     "text": [
      "\",\n"
     ]
    },
    {
     "name": "stdout",
     "output_type": "stream",
     "text": [
      "     "
     ]
    },
    {
     "name": "stdout",
     "output_type": "stream",
     "text": [
      " \""
     ]
    },
    {
     "name": "stdout",
     "output_type": "stream",
     "text": [
      "sol"
     ]
    },
    {
     "name": "stdout",
     "output_type": "stream",
     "text": [
      "vate"
     ]
    },
    {
     "name": "stdout",
     "output_type": "stream",
     "text": [
      "\":"
     ]
    },
    {
     "name": "stdout",
     "output_type": "stream",
     "text": [
      " true"
     ]
    },
    {
     "name": "stdout",
     "output_type": "stream",
     "text": [
      "\n"
     ]
    },
    {
     "name": "stdout",
     "output_type": "stream",
     "text": [
      "   "
     ]
    },
    {
     "name": "stdout",
     "output_type": "stream",
     "text": [
      " },\n"
     ]
    },
    {
     "name": "stdout",
     "output_type": "stream",
     "text": [
      "   "
     ]
    },
    {
     "name": "stdout",
     "output_type": "stream",
     "text": [
      " \""
     ]
    },
    {
     "name": "stdout",
     "output_type": "stream",
     "text": [
      "integr"
     ]
    },
    {
     "name": "stdout",
     "output_type": "stream",
     "text": [
      "ator"
     ]
    },
    {
     "name": "stdout",
     "output_type": "stream",
     "text": [
      "_params"
     ]
    },
    {
     "name": "stdout",
     "output_type": "stream",
     "text": [
      "\":"
     ]
    },
    {
     "name": "stdout",
     "output_type": "stream",
     "text": [
      " {\n"
     ]
    },
    {
     "name": "stdout",
     "output_type": "stream",
     "text": [
      "     "
     ]
    },
    {
     "name": "stdout",
     "output_type": "stream",
     "text": [
      " \""
     ]
    },
    {
     "name": "stdout",
     "output_type": "stream",
     "text": [
      "integr"
     ]
    },
    {
     "name": "stdout",
     "output_type": "stream",
     "text": [
      "ator"
     ]
    },
    {
     "name": "stdout",
     "output_type": "stream",
     "text": [
      "_type"
     ]
    },
    {
     "name": "stdout",
     "output_type": "stream",
     "text": [
      "\":"
     ]
    },
    {
     "name": "stdout",
     "output_type": "stream",
     "text": [
      " \""
     ]
    },
    {
     "name": "stdout",
     "output_type": "stream",
     "text": [
      "L"
     ]
    },
    {
     "name": "stdout",
     "output_type": "stream",
     "text": [
      "ange"
     ]
    },
    {
     "name": "stdout",
     "output_type": "stream",
     "text": [
      "vin"
     ]
    },
    {
     "name": "stdout",
     "output_type": "stream",
     "text": [
      "Middle"
     ]
    },
    {
     "name": "stdout",
     "output_type": "stream",
     "text": [
      "\",\n"
     ]
    },
    {
     "name": "stdout",
     "output_type": "stream",
     "text": [
      "     "
     ]
    },
    {
     "name": "stdout",
     "output_type": "stream",
     "text": [
      " \""
     ]
    },
    {
     "name": "stdout",
     "output_type": "stream",
     "text": [
      "Temperature"
     ]
    },
    {
     "name": "stdout",
     "output_type": "stream",
     "text": [
      "\":"
     ]
    },
    {
     "name": "stdout",
     "output_type": "stream",
     "text": [
      " \""
     ]
    },
    {
     "name": "stdout",
     "output_type": "stream",
     "text": [
      "300"
     ]
    },
    {
     "name": "stdout",
     "output_type": "stream",
     "text": [
      " *"
     ]
    },
    {
     "name": "stdout",
     "output_type": "stream",
     "text": [
      " kel"
     ]
    },
    {
     "name": "stdout",
     "output_type": "stream",
     "text": [
      "vin"
     ]
    },
    {
     "name": "stdout",
     "output_type": "stream",
     "text": [
      "\",\n"
     ]
    },
    {
     "name": "stdout",
     "output_type": "stream",
     "text": [
      "     "
     ]
    },
    {
     "name": "stdout",
     "output_type": "stream",
     "text": [
      " \""
     ]
    },
    {
     "name": "stdout",
     "output_type": "stream",
     "text": [
      "F"
     ]
    },
    {
     "name": "stdout",
     "output_type": "stream",
     "text": [
      "riction"
     ]
    },
    {
     "name": "stdout",
     "output_type": "stream",
     "text": [
      "\":"
     ]
    },
    {
     "name": "stdout",
     "output_type": "stream",
     "text": [
      " \""
     ]
    },
    {
     "name": "stdout",
     "output_type": "stream",
     "text": [
      "1"
     ]
    },
    {
     "name": "stdout",
     "output_type": "stream",
     "text": [
      "."
     ]
    },
    {
     "name": "stdout",
     "output_type": "stream",
     "text": [
      "0"
     ]
    },
    {
     "name": "stdout",
     "output_type": "stream",
     "text": [
      " /"
     ]
    },
    {
     "name": "stdout",
     "output_type": "stream",
     "text": [
      " pic"
     ]
    },
    {
     "name": "stdout",
     "output_type": "stream",
     "text": [
      "oseconds"
     ]
    },
    {
     "name": "stdout",
     "output_type": "stream",
     "text": [
      "\",\n"
     ]
    },
    {
     "name": "stdout",
     "output_type": "stream",
     "text": [
      "     "
     ]
    },
    {
     "name": "stdout",
     "output_type": "stream",
     "text": [
      " \""
     ]
    },
    {
     "name": "stdout",
     "output_type": "stream",
     "text": [
      "T"
     ]
    },
    {
     "name": "stdout",
     "output_type": "stream",
     "text": [
      "imestep"
     ]
    },
    {
     "name": "stdout",
     "output_type": "stream",
     "text": [
      "\":"
     ]
    },
    {
     "name": "stdout",
     "output_type": "stream",
     "text": [
      " \""
     ]
    },
    {
     "name": "stdout",
     "output_type": "stream",
     "text": [
      "0"
     ]
    },
    {
     "name": "stdout",
     "output_type": "stream",
     "text": [
      "."
     ]
    },
    {
     "name": "stdout",
     "output_type": "stream",
     "text": [
      "002"
     ]
    },
    {
     "name": "stdout",
     "output_type": "stream",
     "text": [
      " *"
     ]
    },
    {
     "name": "stdout",
     "output_type": "stream",
     "text": [
      " pic"
     ]
    },
    {
     "name": "stdout",
     "output_type": "stream",
     "text": [
      "oseconds"
     ]
    },
    {
     "name": "stdout",
     "output_type": "stream",
     "text": [
      "\",\n"
     ]
    },
    {
     "name": "stdout",
     "output_type": "stream",
     "text": [
      "     "
     ]
    },
    {
     "name": "stdout",
     "output_type": "stream",
     "text": [
      " \""
     ]
    },
    {
     "name": "stdout",
     "output_type": "stream",
     "text": [
      "Pressure"
     ]
    },
    {
     "name": "stdout",
     "output_type": "stream",
     "text": [
      "\":"
     ]
    },
    {
     "name": "stdout",
     "output_type": "stream",
     "text": [
      " \""
     ]
    },
    {
     "name": "stdout",
     "output_type": "stream",
     "text": [
      "1"
     ]
    },
    {
     "name": "stdout",
     "output_type": "stream",
     "text": [
      "."
     ]
    },
    {
     "name": "stdout",
     "output_type": "stream",
     "text": [
      "0"
     ]
    },
    {
     "name": "stdout",
     "output_type": "stream",
     "text": [
      " *"
     ]
    },
    {
     "name": "stdout",
     "output_type": "stream",
     "text": [
      " bar"
     ]
    },
    {
     "name": "stdout",
     "output_type": "stream",
     "text": [
      "\"\n"
     ]
    },
    {
     "name": "stdout",
     "output_type": "stream",
     "text": [
      "   "
     ]
    },
    {
     "name": "stdout",
     "output_type": "stream",
     "text": [
      " },\n"
     ]
    },
    {
     "name": "stdout",
     "output_type": "stream",
     "text": [
      "   "
     ]
    },
    {
     "name": "stdout",
     "output_type": "stream",
     "text": [
      " \""
     ]
    },
    {
     "name": "stdout",
     "output_type": "stream",
     "text": [
      "simulation"
     ]
    },
    {
     "name": "stdout",
     "output_type": "stream",
     "text": [
      "_params"
     ]
    },
    {
     "name": "stdout",
     "output_type": "stream",
     "text": [
      "\":"
     ]
    },
    {
     "name": "stdout",
     "output_type": "stream",
     "text": [
      " {\n"
     ]
    },
    {
     "name": "stdout",
     "output_type": "stream",
     "text": [
      "     "
     ]
    },
    {
     "name": "stdout",
     "output_type": "stream",
     "text": [
      " \""
     ]
    },
    {
     "name": "stdout",
     "output_type": "stream",
     "text": [
      "En"
     ]
    },
    {
     "name": "stdout",
     "output_type": "stream",
     "text": [
      "semble"
     ]
    },
    {
     "name": "stdout",
     "output_type": "stream",
     "text": [
      "\":"
     ]
    },
    {
     "name": "stdout",
     "output_type": "stream",
     "text": [
      " \""
     ]
    },
    {
     "name": "stdout",
     "output_type": "stream",
     "text": [
      "N"
     ]
    },
    {
     "name": "stdout",
     "output_type": "stream",
     "text": [
      "PT"
     ]
    },
    {
     "name": "stdout",
     "output_type": "stream",
     "text": [
      "\",\n"
     ]
    },
    {
     "name": "stdout",
     "output_type": "stream",
     "text": [
      "     "
     ]
    },
    {
     "name": "stdout",
     "output_type": "stream",
     "text": [
      " \""
     ]
    },
    {
     "name": "stdout",
     "output_type": "stream",
     "text": [
      "Number"
     ]
    },
    {
     "name": "stdout",
     "output_type": "stream",
     "text": [
      " of"
     ]
    },
    {
     "name": "stdout",
     "output_type": "stream",
     "text": [
      " Steps"
     ]
    },
    {
     "name": "stdout",
     "output_type": "stream",
     "text": [
      "\":"
     ]
    },
    {
     "name": "stdout",
     "output_type": "stream",
     "text": [
      " "
     ]
    },
    {
     "name": "stdout",
     "output_type": "stream",
     "text": [
      "500"
     ]
    },
    {
     "name": "stdout",
     "output_type": "stream",
     "text": [
      "000"
     ]
    },
    {
     "name": "stdout",
     "output_type": "stream",
     "text": [
      ",\n"
     ]
    },
    {
     "name": "stdout",
     "output_type": "stream",
     "text": [
      "     "
     ]
    },
    {
     "name": "stdout",
     "output_type": "stream",
     "text": [
      " \""
     ]
    },
    {
     "name": "stdout",
     "output_type": "stream",
     "text": [
      "record"
     ]
    },
    {
     "name": "stdout",
     "output_type": "stream",
     "text": [
      "_interval"
     ]
    },
    {
     "name": "stdout",
     "output_type": "stream",
     "text": [
      "_steps"
     ]
    },
    {
     "name": "stdout",
     "output_type": "stream",
     "text": [
      "\":"
     ]
    },
    {
     "name": "stdout",
     "output_type": "stream",
     "text": [
      " "
     ]
    },
    {
     "name": "stdout",
     "output_type": "stream",
     "text": [
      "500"
     ]
    },
    {
     "name": "stdout",
     "output_type": "stream",
     "text": [
      "0"
     ]
    },
    {
     "name": "stdout",
     "output_type": "stream",
     "text": [
      ",\n"
     ]
    },
    {
     "name": "stdout",
     "output_type": "stream",
     "text": [
      "     "
     ]
    },
    {
     "name": "stdout",
     "output_type": "stream",
     "text": [
      " \""
     ]
    },
    {
     "name": "stdout",
     "output_type": "stream",
     "text": [
      "record"
     ]
    },
    {
     "name": "stdout",
     "output_type": "stream",
     "text": [
      "_params"
     ]
    },
    {
     "name": "stdout",
     "output_type": "stream",
     "text": [
      "\":"
     ]
    },
    {
     "name": "stdout",
     "output_type": "stream",
     "text": [
      " [\""
     ]
    },
    {
     "name": "stdout",
     "output_type": "stream",
     "text": [
      "step"
     ]
    },
    {
     "name": "stdout",
     "output_type": "stream",
     "text": [
      "\","
     ]
    },
    {
     "name": "stdout",
     "output_type": "stream",
     "text": [
      " \""
     ]
    },
    {
     "name": "stdout",
     "output_type": "stream",
     "text": [
      "potential"
     ]
    },
    {
     "name": "stdout",
     "output_type": "stream",
     "text": [
      "Energy"
     ]
    },
    {
     "name": "stdout",
     "output_type": "stream",
     "text": [
      "\","
     ]
    },
    {
     "name": "stdout",
     "output_type": "stream",
     "text": [
      " \""
     ]
    },
    {
     "name": "stdout",
     "output_type": "stream",
     "text": [
      "temperature"
     ]
    },
    {
     "name": "stdout",
     "output_type": "stream",
     "text": [
      "\","
     ]
    },
    {
     "name": "stdout",
     "output_type": "stream",
     "text": [
      " \""
     ]
    },
    {
     "name": "stdout",
     "output_type": "stream",
     "text": [
      "R"
     ]
    },
    {
     "name": "stdout",
     "output_type": "stream",
     "text": [
      "MS"
     ]
    },
    {
     "name": "stdout",
     "output_type": "stream",
     "text": [
      "D"
     ]
    },
    {
     "name": "stdout",
     "output_type": "stream",
     "text": [
      "\"]\n"
     ]
    },
    {
     "name": "stdout",
     "output_type": "stream",
     "text": [
      "   "
     ]
    },
    {
     "name": "stdout",
     "output_type": "stream",
     "text": [
      " }\n"
     ]
    },
    {
     "name": "stdout",
     "output_type": "stream",
     "text": [
      " "
     ]
    },
    {
     "name": "stdout",
     "output_type": "stream",
     "text": [
      " }\n"
     ]
    },
    {
     "name": "stdout",
     "output_type": "stream",
     "text": [
      "}\n"
     ]
    },
    {
     "name": "stdout",
     "output_type": "stream",
     "text": [
      "```"
     ]
    },
    {
     "name": "stdout",
     "output_type": "stream",
     "text": [
      "Building system...\n"
     ]
    },
    {
     "name": "stdout",
     "output_type": "stream",
     "text": [
      "About to create system...\n",
      "Attempts at creating system: 0/3\n"
     ]
    },
    {
     "name": "stdout",
     "output_type": "stream",
     "text": [
      "System built successfully\n",
      "<openmm.openmm.System; proxy of <Swig Object of type 'OpenMM::System *' at 0x2b480f103390> >\n",
      "Setting up integrator...\n",
      "Creating simulation...\n",
      "simulation set!\n",
      "Performing energy minimization...\n"
     ]
    },
    {
     "name": "stdout",
     "output_type": "stream",
     "text": [
      "Minimization complete!\n",
      "Initial Positions saved to initial_positions.pdb\n",
      "Equilibrating...\n"
     ]
    },
    {
     "name": "stdout",
     "output_type": "stream",
     "text": [
      "Simulating...\n"
     ]
    },
    {
     "name": "stdout",
     "output_type": "stream",
     "text": [
      "Done!\n",
      "Standalone simulation script written to /gpfs/fs2/scratch/qcampbe2/repos/md-agent_gpt_params/ckpt/ckpt_16/simulations/NPT_2YXF_204133_20241008_204136.py\n",
      "['TRAJ_sim0_214029_1FNF_214024_20241008_214029.dcd', 'TRAJ_sim0_210821_1TRN_210812_20241008_211016.dcd', 'out.exp_6_gpt3.5', 'out.exp_4_gpt4t', 'TOP_sim0_214029_1FNF_214024_20241008_214029.pdb', 'TRAJ_sim0_210813_1FNF_210809_20241008_210819.dcd', 'out.exp_12_gpt4o', 'out.exp_15_gpt4p', 'out.exp_6_405b', 'out.exp_12_gpt4t', 'submit_experiments.sh', 'TRAJ_sim0_204136_2YXF_204133_20241008_204139.dcd', 'results_gpt4t', 'single_job.sh', 'paper_collection', 'results_gpt4o', 'TOP_sim0_210813_1FNF_210809_20241008_210819.pdb', 'LOG_sim0_223445_7VDE_223440_20241008_223502.txt', '.ipynb_checkpoints', 'TOP_sim0_210245_1FNF_210241_20241008_210246.pdb', 'out.exp_6_gpt4o', 'out.exp_18_gpt4p', 'TRAJ_sim0_223445_7VDE_223440_20241008_223502.dcd', 'TRAJ_sim0_202020_1A3N_201853_20241008_202051.dcd', 'out.exp_18_gpt4o', 'LOG_sim0_210249_2YXF_210245_20241008_210252.txt', 'jobs_gpt3.5.sh', 'templates', 'log_submission', 'LOG_sim0_210245_1FNF_210241_20241008_210246.txt', 'TOP_sim0_202020_1A3N_201853_20241008_202051.pdb', 'TOP_sim0_204136_2YXF_204133_20241008_204139.pdb', 'out.exp_12_gpt4p', 'out.exp_6_gpt4p', 'out.exp_6_gpt4t', 'out.exp_4_gpt3.5', 'out.exp_7_gpt4t', 'LOG_sim0_210821_1TRN_210812_20241008_211016.txt', 'out.exp_18_gpt4t', 'LOG_sim0_204136_2YXF_204133_20241008_204139.txt', 'TRAJ_sim0_210245_1FNF_210241_20241008_210246.dcd', 'out.exp_18_gpt3.5', 'out.exp_3_gpt4p', 'results_gpt3.5', 'results_70b', 'out.exp_4_gpt4p', 'LOG_sim0_210813_1FNF_210809_20241008_210819.txt', 'TRAJ_sim0_210249_2YXF_210245_20241008_210252.dcd', 'LOG_sim0_203228_1TRN_203223_20241008_203229.txt', 'results_gpt4p', 'out.exp_14_gpt4t', 'TOP_sim0_203228_1TRN_203223_20241008_203229.pdb', 'out.exp_12_gpt3.5', 'results_405b', 'out.exp_3_gpt4t', 'LOG_sim0_214029_1FNF_214024_20241008_214029.txt', 'TOP_sim0_210249_2YXF_210245_20241008_210252.pdb', 'TRAJ_sim0_203228_1TRN_203223_20241008_203229.dcd', 'TOP_sim0_223445_7VDE_223440_20241008_223502.pdb', 'LOG_sim0_202020_1A3N_201853_20241008_202051.txt', 'out.exp_15_gpt4t', 'out.exp_4_gpt4o', 'TOP_sim0_210821_1TRN_210812_20241008_211016.pdb']\n"
     ]
    },
    {
     "name": "stdout",
     "output_type": "stream",
     "text": [
      "To"
     ]
    },
    {
     "name": "stdout",
     "output_type": "stream",
     "text": [
      " complete"
     ]
    },
    {
     "name": "stdout",
     "output_type": "stream",
     "text": [
      " the"
     ]
    },
    {
     "name": "stdout",
     "output_type": "stream",
     "text": [
      " task"
     ]
    },
    {
     "name": "stdout",
     "output_type": "stream",
     "text": [
      ","
     ]
    },
    {
     "name": "stdout",
     "output_type": "stream",
     "text": [
      " I"
     ]
    },
    {
     "name": "stdout",
     "output_type": "stream",
     "text": [
      " will"
     ]
    },
    {
     "name": "stdout",
     "output_type": "stream",
     "text": [
      " now"
     ]
    },
    {
     "name": "stdout",
     "output_type": "stream",
     "text": [
      " plot"
     ]
    },
    {
     "name": "stdout",
     "output_type": "stream",
     "text": [
      " the"
     ]
    },
    {
     "name": "stdout",
     "output_type": "stream",
     "text": [
      " RMS"
     ]
    },
    {
     "name": "stdout",
     "output_type": "stream",
     "text": [
      "D"
     ]
    },
    {
     "name": "stdout",
     "output_type": "stream",
     "text": [
      " over"
     ]
    },
    {
     "name": "stdout",
     "output_type": "stream",
     "text": [
      " time"
     ]
    },
    {
     "name": "stdout",
     "output_type": "stream",
     "text": [
      " using"
     ]
    },
    {
     "name": "stdout",
     "output_type": "stream",
     "text": [
      " the"
     ]
    },
    {
     "name": "stdout",
     "output_type": "stream",
     "text": [
      " simulation"
     ]
    },
    {
     "name": "stdout",
     "output_type": "stream",
     "text": [
      " trajectory"
     ]
    },
    {
     "name": "stdout",
     "output_type": "stream",
     "text": [
      " obtained"
     ]
    },
    {
     "name": "stdout",
     "output_type": "stream",
     "text": [
      " from"
     ]
    },
    {
     "name": "stdout",
     "output_type": "stream",
     "text": [
      " the"
     ]
    },
    {
     "name": "stdout",
     "output_type": "stream",
     "text": [
      " "
     ]
    },
    {
     "name": "stdout",
     "output_type": "stream",
     "text": [
      "1"
     ]
    },
    {
     "name": "stdout",
     "output_type": "stream",
     "text": [
      " ns"
     ]
    },
    {
     "name": "stdout",
     "output_type": "stream",
     "text": [
      " simulation"
     ]
    },
    {
     "name": "stdout",
     "output_type": "stream",
     "text": [
      "."
     ]
    },
    {
     "name": "stdout",
     "output_type": "stream",
     "text": [
      " \n",
      "\n"
     ]
    },
    {
     "name": "stdout",
     "output_type": "stream",
     "text": [
      "Action"
     ]
    },
    {
     "name": "stdout",
     "output_type": "stream",
     "text": [
      ":\n"
     ]
    },
    {
     "name": "stdout",
     "output_type": "stream",
     "text": [
      "```"
     ]
    },
    {
     "name": "stdout",
     "output_type": "stream",
     "text": [
      "json"
     ]
    },
    {
     "name": "stdout",
     "output_type": "stream",
     "text": [
      "\n"
     ]
    },
    {
     "name": "stdout",
     "output_type": "stream",
     "text": [
      "{\n"
     ]
    },
    {
     "name": "stdout",
     "output_type": "stream",
     "text": [
      " "
     ]
    },
    {
     "name": "stdout",
     "output_type": "stream",
     "text": [
      " \""
     ]
    },
    {
     "name": "stdout",
     "output_type": "stream",
     "text": [
      "action"
     ]
    },
    {
     "name": "stdout",
     "output_type": "stream",
     "text": [
      "\":"
     ]
    },
    {
     "name": "stdout",
     "output_type": "stream",
     "text": [
      " \""
     ]
    },
    {
     "name": "stdout",
     "output_type": "stream",
     "text": [
      "Compute"
     ]
    },
    {
     "name": "stdout",
     "output_type": "stream",
     "text": [
      "R"
     ]
    },
    {
     "name": "stdout",
     "output_type": "stream",
     "text": [
      "MS"
     ]
    },
    {
     "name": "stdout",
     "output_type": "stream",
     "text": [
      "D"
     ]
    },
    {
     "name": "stdout",
     "output_type": "stream",
     "text": [
      "\",\n"
     ]
    },
    {
     "name": "stdout",
     "output_type": "stream",
     "text": [
      " "
     ]
    },
    {
     "name": "stdout",
     "output_type": "stream",
     "text": [
      " \""
     ]
    },
    {
     "name": "stdout",
     "output_type": "stream",
     "text": [
      "action"
     ]
    },
    {
     "name": "stdout",
     "output_type": "stream",
     "text": [
      "_input"
     ]
    },
    {
     "name": "stdout",
     "output_type": "stream",
     "text": [
      "\":"
     ]
    },
    {
     "name": "stdout",
     "output_type": "stream",
     "text": [
      " {\n"
     ]
    },
    {
     "name": "stdout",
     "output_type": "stream",
     "text": [
      "   "
     ]
    },
    {
     "name": "stdout",
     "output_type": "stream",
     "text": [
      " \""
     ]
    },
    {
     "name": "stdout",
     "output_type": "stream",
     "text": [
      "top"
     ]
    },
    {
     "name": "stdout",
     "output_type": "stream",
     "text": [
      "_id"
     ]
    },
    {
     "name": "stdout",
     "output_type": "stream",
     "text": [
      "\":"
     ]
    },
    {
     "name": "stdout",
     "output_type": "stream",
     "text": [
      " \""
     ]
    },
    {
     "name": "stdout",
     "output_type": "stream",
     "text": [
      "top"
     ]
    },
    {
     "name": "stdout",
     "output_type": "stream",
     "text": [
      "_sim"
     ]
    },
    {
     "name": "stdout",
     "output_type": "stream",
     "text": [
      "0"
     ]
    },
    {
     "name": "stdout",
     "output_type": "stream",
     "text": [
      "_"
     ]
    },
    {
     "name": "stdout",
     "output_type": "stream",
     "text": [
      "204"
     ]
    },
    {
     "name": "stdout",
     "output_type": "stream",
     "text": [
      "136"
     ]
    },
    {
     "name": "stdout",
     "output_type": "stream",
     "text": [
      "\",\n"
     ]
    },
    {
     "name": "stdout",
     "output_type": "stream",
     "text": [
      "   "
     ]
    },
    {
     "name": "stdout",
     "output_type": "stream",
     "text": [
      " \""
     ]
    },
    {
     "name": "stdout",
     "output_type": "stream",
     "text": [
      "traj"
     ]
    },
    {
     "name": "stdout",
     "output_type": "stream",
     "text": [
      "_id"
     ]
    },
    {
     "name": "stdout",
     "output_type": "stream",
     "text": [
      "\":"
     ]
    },
    {
     "name": "stdout",
     "output_type": "stream",
     "text": [
      " \""
     ]
    },
    {
     "name": "stdout",
     "output_type": "stream",
     "text": [
      "rec"
     ]
    },
    {
     "name": "stdout",
     "output_type": "stream",
     "text": [
      "0"
     ]
    },
    {
     "name": "stdout",
     "output_type": "stream",
     "text": [
      "_"
     ]
    },
    {
     "name": "stdout",
     "output_type": "stream",
     "text": [
      "204"
     ]
    },
    {
     "name": "stdout",
     "output_type": "stream",
     "text": [
      "139"
     ]
    },
    {
     "name": "stdout",
     "output_type": "stream",
     "text": [
      "\",\n"
     ]
    },
    {
     "name": "stdout",
     "output_type": "stream",
     "text": [
      "   "
     ]
    },
    {
     "name": "stdout",
     "output_type": "stream",
     "text": [
      " \""
     ]
    },
    {
     "name": "stdout",
     "output_type": "stream",
     "text": [
      "select"
     ]
    },
    {
     "name": "stdout",
     "output_type": "stream",
     "text": [
      "\":"
     ]
    },
    {
     "name": "stdout",
     "output_type": "stream",
     "text": [
      " \""
     ]
    },
    {
     "name": "stdout",
     "output_type": "stream",
     "text": [
      "protein"
     ]
    },
    {
     "name": "stdout",
     "output_type": "stream",
     "text": [
      "\"\n"
     ]
    },
    {
     "name": "stdout",
     "output_type": "stream",
     "text": [
      " "
     ]
    },
    {
     "name": "stdout",
     "output_type": "stream",
     "text": [
      " }\n"
     ]
    },
    {
     "name": "stdout",
     "output_type": "stream",
     "text": [
      "}\n"
     ]
    },
    {
     "name": "stdout",
     "output_type": "stream",
     "text": [
      "```"
     ]
    },
    {
     "name": "stdout",
     "output_type": "stream",
     "text": [
      "Calculating RMSD...\n",
      "Data saved to /gpfs/fs2/scratch/qcampbe2/repos/md-agent_gpt_params/ckpt/ckpt_16/records/rmsd_204136.csv\n"
     ]
    },
    {
     "name": "stdout",
     "output_type": "stream",
     "text": [
      "Plot saved to /gpfs/fs2/scratch/qcampbe2/repos/md-agent_gpt_params/ckpt/ckpt_16/figures/FIG_rmsd_204136_20241009_050311.png\n"
     ]
    },
    {
     "name": "stdout",
     "output_type": "stream",
     "text": [
      "Action"
     ]
    },
    {
     "name": "stdout",
     "output_type": "stream",
     "text": [
      ":\n"
     ]
    },
    {
     "name": "stdout",
     "output_type": "stream",
     "text": [
      "```"
     ]
    },
    {
     "name": "stdout",
     "output_type": "stream",
     "text": [
      "json"
     ]
    },
    {
     "name": "stdout",
     "output_type": "stream",
     "text": [
      "\n"
     ]
    },
    {
     "name": "stdout",
     "output_type": "stream",
     "text": [
      "{\n"
     ]
    },
    {
     "name": "stdout",
     "output_type": "stream",
     "text": [
      " "
     ]
    },
    {
     "name": "stdout",
     "output_type": "stream",
     "text": [
      " \""
     ]
    },
    {
     "name": "stdout",
     "output_type": "stream",
     "text": [
      "action"
     ]
    },
    {
     "name": "stdout",
     "output_type": "stream",
     "text": [
      "\":"
     ]
    },
    {
     "name": "stdout",
     "output_type": "stream",
     "text": [
      " \""
     ]
    },
    {
     "name": "stdout",
     "output_type": "stream",
     "text": [
      "Final"
     ]
    },
    {
     "name": "stdout",
     "output_type": "stream",
     "text": [
      " Answer"
     ]
    },
    {
     "name": "stdout",
     "output_type": "stream",
     "text": [
      "\",\n"
     ]
    },
    {
     "name": "stdout",
     "output_type": "stream",
     "text": [
      " "
     ]
    },
    {
     "name": "stdout",
     "output_type": "stream",
     "text": [
      " \""
     ]
    },
    {
     "name": "stdout",
     "output_type": "stream",
     "text": [
      "action"
     ]
    },
    {
     "name": "stdout",
     "output_type": "stream",
     "text": [
      "_input"
     ]
    },
    {
     "name": "stdout",
     "output_type": "stream",
     "text": [
      "\":"
     ]
    },
    {
     "name": "stdout",
     "output_type": "stream",
     "text": [
      " \""
     ]
    },
    {
     "name": "stdout",
     "output_type": "stream",
     "text": [
      "The"
     ]
    },
    {
     "name": "stdout",
     "output_type": "stream",
     "text": [
      " P"
     ]
    },
    {
     "name": "stdout",
     "output_type": "stream",
     "text": [
      "DB"
     ]
    },
    {
     "name": "stdout",
     "output_type": "stream",
     "text": [
      " file"
     ]
    },
    {
     "name": "stdout",
     "output_type": "stream",
     "text": [
      " for"
     ]
    },
    {
     "name": "stdout",
     "output_type": "stream",
     "text": [
      " "
     ]
    },
    {
     "name": "stdout",
     "output_type": "stream",
     "text": [
      "2"
     ]
    },
    {
     "name": "stdout",
     "output_type": "stream",
     "text": [
      "Y"
     ]
    },
    {
     "name": "stdout",
     "output_type": "stream",
     "text": [
      "XF"
     ]
    },
    {
     "name": "stdout",
     "output_type": "stream",
     "text": [
      " was"
     ]
    },
    {
     "name": "stdout",
     "output_type": "stream",
     "text": [
      " successfully"
     ]
    },
    {
     "name": "stdout",
     "output_type": "stream",
     "text": [
      " downloaded"
     ]
    },
    {
     "name": "stdout",
     "output_type": "stream",
     "text": [
      " and"
     ]
    },
    {
     "name": "stdout",
     "output_type": "stream",
     "text": [
      " cleaned"
     ]
    },
    {
     "name": "stdout",
     "output_type": "stream",
     "text": [
      " to"
     ]
    },
    {
     "name": "stdout",
     "output_type": "stream",
     "text": [
      " address"
     ]
    },
    {
     "name": "stdout",
     "output_type": "stream",
     "text": [
      " missing"
     ]
    },
    {
     "name": "stdout",
     "output_type": "stream",
     "text": [
      " hydrogen"
     ]
    },
    {
     "name": "stdout",
     "output_type": "stream",
     "text": [
      " atoms"
     ]
    },
    {
     "name": "stdout",
     "output_type": "stream",
     "text": [
      "."
     ]
    },
    {
     "name": "stdout",
     "output_type": "stream",
     "text": [
      " A"
     ]
    },
    {
     "name": "stdout",
     "output_type": "stream",
     "text": [
      " "
     ]
    },
    {
     "name": "stdout",
     "output_type": "stream",
     "text": [
      "1"
     ]
    },
    {
     "name": "stdout",
     "output_type": "stream",
     "text": [
      " ns"
     ]
    },
    {
     "name": "stdout",
     "output_type": "stream",
     "text": [
      " molecular"
     ]
    },
    {
     "name": "stdout",
     "output_type": "stream",
     "text": [
      " dynamics"
     ]
    },
    {
     "name": "stdout",
     "output_type": "stream",
     "text": [
      " simulation"
     ]
    },
    {
     "name": "stdout",
     "output_type": "stream",
     "text": [
      " was"
     ]
    },
    {
     "name": "stdout",
     "output_type": "stream",
     "text": [
      " conducted"
     ]
    },
    {
     "name": "stdout",
     "output_type": "stream",
     "text": [
      " using"
     ]
    },
    {
     "name": "stdout",
     "output_type": "stream",
     "text": [
      " the"
     ]
    },
    {
     "name": "stdout",
     "output_type": "stream",
     "text": [
      " cleaned"
     ]
    },
    {
     "name": "stdout",
     "output_type": "stream",
     "text": [
      " P"
     ]
    },
    {
     "name": "stdout",
     "output_type": "stream",
     "text": [
      "DB"
     ]
    },
    {
     "name": "stdout",
     "output_type": "stream",
     "text": [
      " file"
     ]
    },
    {
     "name": "stdout",
     "output_type": "stream",
     "text": [
      "."
     ]
    },
    {
     "name": "stdout",
     "output_type": "stream",
     "text": [
      " The"
     ]
    },
    {
     "name": "stdout",
     "output_type": "stream",
     "text": [
      " RMS"
     ]
    },
    {
     "name": "stdout",
     "output_type": "stream",
     "text": [
      "D"
     ]
    },
    {
     "name": "stdout",
     "output_type": "stream",
     "text": [
      " over"
     ]
    },
    {
     "name": "stdout",
     "output_type": "stream",
     "text": [
      " time"
     ]
    },
    {
     "name": "stdout",
     "output_type": "stream",
     "text": [
      " was"
     ]
    },
    {
     "name": "stdout",
     "output_type": "stream",
     "text": [
      " calculated"
     ]
    },
    {
     "name": "stdout",
     "output_type": "stream",
     "text": [
      " and"
     ]
    },
    {
     "name": "stdout",
     "output_type": "stream",
     "text": [
      " plotted"
     ]
    },
    {
     "name": "stdout",
     "output_type": "stream",
     "text": [
      ","
     ]
    },
    {
     "name": "stdout",
     "output_type": "stream",
     "text": [
      " with"
     ]
    },
    {
     "name": "stdout",
     "output_type": "stream",
     "text": [
      " the"
     ]
    },
    {
     "name": "stdout",
     "output_type": "stream",
     "text": [
      " plot"
     ]
    },
    {
     "name": "stdout",
     "output_type": "stream",
     "text": [
      " saved"
     ]
    },
    {
     "name": "stdout",
     "output_type": "stream",
     "text": [
      " under"
     ]
    },
    {
     "name": "stdout",
     "output_type": "stream",
     "text": [
      " the"
     ]
    },
    {
     "name": "stdout",
     "output_type": "stream",
     "text": [
      " ID"
     ]
    },
    {
     "name": "stdout",
     "output_type": "stream",
     "text": [
      " fig"
     ]
    },
    {
     "name": "stdout",
     "output_type": "stream",
     "text": [
      "0"
     ]
    },
    {
     "name": "stdout",
     "output_type": "stream",
     "text": [
      "_"
     ]
    },
    {
     "name": "stdout",
     "output_type": "stream",
     "text": [
      "050"
     ]
    },
    {
     "name": "stdout",
     "output_type": "stream",
     "text": [
      "311"
     ]
    },
    {
     "name": "stdout",
     "output_type": "stream",
     "text": [
      "."
     ]
    },
    {
     "name": "stdout",
     "output_type": "stream",
     "text": [
      " Unfortunately"
     ]
    },
    {
     "name": "stdout",
     "output_type": "stream",
     "text": [
      ","
     ]
    },
    {
     "name": "stdout",
     "output_type": "stream",
     "text": [
      " the"
     ]
    },
    {
     "name": "stdout",
     "output_type": "stream",
     "text": [
      " literature"
     ]
    },
    {
     "name": "stdout",
     "output_type": "stream",
     "text": [
      " search"
     ]
    },
    {
     "name": "stdout",
     "output_type": "stream",
     "text": [
      " did"
     ]
    },
    {
     "name": "stdout",
     "output_type": "stream",
     "text": [
      " not"
     ]
    },
    {
     "name": "stdout",
     "output_type": "stream",
     "text": [
      " yield"
     ]
    },
    {
     "name": "stdout",
     "output_type": "stream",
     "text": [
      " specific"
     ]
    },
    {
     "name": "stdout",
     "output_type": "stream",
     "text": [
      " information"
     ]
    },
    {
     "name": "stdout",
     "output_type": "stream",
     "text": [
      " about"
     ]
    },
    {
     "name": "stdout",
     "output_type": "stream",
     "text": [
      " the"
     ]
    },
    {
     "name": "stdout",
     "output_type": "stream",
     "text": [
      " stability"
     ]
    },
    {
     "name": "stdout",
     "output_type": "stream",
     "text": [
      " of"
     ]
    },
    {
     "name": "stdout",
     "output_type": "stream",
     "text": [
      " "
     ]
    },
    {
     "name": "stdout",
     "output_type": "stream",
     "text": [
      "2"
     ]
    },
    {
     "name": "stdout",
     "output_type": "stream",
     "text": [
      "Y"
     ]
    },
    {
     "name": "stdout",
     "output_type": "stream",
     "text": [
      "XF"
     ]
    },
    {
     "name": "stdout",
     "output_type": "stream",
     "text": [
      ".\"\n"
     ]
    },
    {
     "name": "stdout",
     "output_type": "stream",
     "text": [
      "}\n"
     ]
    },
    {
     "name": "stdout",
     "output_type": "stream",
     "text": [
      "```"
     ]
    },
    {
     "data": {
      "text/plain": [
       "({'input': '\\n    You are an expert molecular dynamics scientist, and\\n    your task is to respond to the question or\\n    solve the problem to the best of your ability using\\n    the provided tools.\\n\\n    You can only respond with a single complete\\n    \\'Thought, Action, Action Input\\' format\\n    OR a single \\'Final Answer\\' format.\\n\\n    Complete format:\\n    Thought: (reflect on your progress and decide what to do next)\\n    Action:\\n    ```\\n    {\\n        \"action\": (the action name, it should be the name of a tool),\\n        \"action_input\": (the input string for the action)\\n    }\\n    \\'\\'\\'\\n\\n    OR\\n\\n    Final Answer: (the final response to the original input\\n    question, once all steps are complete)\\n\\n    You are required to use the tools provided,\\n    using the most specific tool\\n    available for each action.\\n    Your final answer should contain all information\\n    necessary to answer the question and its subquestions.\\n    Before you finish, reflect on your progress and make\\n    sure you have addressed the question in its entirety.\\n\\n    If you are asked to continue\\n    or reference previous runs,\\n    the context will be provided to you.\\n    If context is provided, you should assume\\n    you are continuing a chat.\\n\\n    Here is the input:\\n    Previous Context: None\\n    Question: Download the PDB for 2YXF. Tell me about its stability as found in the literature. Then, simulate it for 1 ns and plot its RMSD over time. ',\n",
       "  'output': 'The PDB file for 2YXF was successfully downloaded and cleaned to address missing hydrogen atoms. A 1 ns molecular dynamics simulation was conducted using the cleaned PDB file. The RMSD over time was calculated and plotted, with the plot saved under the ID fig0_050311. Unfortunately, the literature search did not yield specific information about the stability of 2YXF.'},\n",
       " 'BOGXEPQ7')"
      ]
     },
     "execution_count": 5,
     "metadata": {},
     "output_type": "execute_result"
    }
   ],
   "source": [
    "agent.run(prompt18)"
   ]
  },
  {
   "cell_type": "code",
   "execution_count": 6,
   "id": "b8dab48b",
   "metadata": {
    "execution": {
     "iopub.execute_input": "2024-10-09T09:03:13.712678Z",
     "iopub.status.busy": "2024-10-09T09:03:13.712328Z",
     "iopub.status.idle": "2024-10-09T09:03:13.721675Z",
     "shell.execute_reply": "2024-10-09T09:03:13.720489Z"
    },
    "papermill": {
     "duration": 0.107128,
     "end_time": "2024-10-09T09:03:13.724074",
     "exception": false,
     "start_time": "2024-10-09T09:03:13.616946",
     "status": "completed"
    },
    "tags": []
   },
   "outputs": [
    {
     "name": "stdout",
     "output_type": "stream",
     "text": [
      "date and time: 2024-10-09\n",
      "time: 05:03:13\n",
      "ckpt_dir: ckpt_16\n",
      "Files found in registry: 2YXF_204108: PDB file downloaded from RSCB\n",
      " PDBFile ID: 2YXF_204108\n",
      " 2YXF_204133: Cleaned File:  Removed Heterogens\n",
      " and Water Kept.  Replaced Nonstandard Residues. Added Hydrogens at pH 7.0. Missing Atoms Added and replaces nonstandard residues. \n",
      " top_sim0_204136: Initial positions for simulation sim0_204136\n",
      " sim0_204136: Basic Simulation of Protein 2YXF_204133\n",
      " rec0_204139: Simulation trajectory for protein 2YXF_204133 and simulation sim0_204136\n",
      " rec1_204139: Simulation state log for protein 2YXF_204133 and simulation sim0_204136\n",
      " rec2_204139: Simulation pdb frames for protein 2YXF_204133 and simulation sim0_204136\n",
      " rmsd_204136: RMSD for 204136\n",
      " fig0_050311: RMSD plot for 204136\n"
     ]
    }
   ],
   "source": [
    "now = datetime.datetime.now()\n",
    "date = now.strftime(\"%Y-%m-%d\")\n",
    "print(\"date and time:\",date)\n",
    "time = now.strftime(\"%H:%M:%S\")\n",
    "print(\"time:\",time)\n",
    "\n",
    "registry = agent.path_registry\n",
    "print('ckpt_dir:',os.path.basename(registry.ckpt_dir))\n",
    "paths_and_descriptions = registry.list_path_names_and_descriptions()\n",
    "print(\"\\n\".join(paths_and_descriptions.split(\",\")))"
   ]
  },
  {
   "cell_type": "code",
   "execution_count": 7,
   "id": "b2195e1f",
   "metadata": {
    "execution": {
     "iopub.execute_input": "2024-10-09T09:03:13.916173Z",
     "iopub.status.busy": "2024-10-09T09:03:13.915782Z",
     "iopub.status.idle": "2024-10-09T09:03:16.590280Z",
     "shell.execute_reply": "2024-10-09T09:03:16.589401Z"
    },
    "papermill": {
     "duration": 2.773051,
     "end_time": "2024-10-09T09:03:16.592555",
     "exception": false,
     "start_time": "2024-10-09T09:03:13.819504",
     "status": "completed"
    },
    "tags": []
   },
   "outputs": [
    {
     "name": "stdout",
     "output_type": "stream",
     "text": [
      "It is asserted that file path for fig0_050311 exists\n"
     ]
    }
   ],
   "source": [
    "import re\n",
    "import os\n",
    "match = re.search(r\"fig0_\\d+\", paths_and_descriptions)\n",
    "file_id = match.group(0)\n",
    "file_path = registry.get_mapped_path(file_id)\n",
    "assert os.path.exists(file_path)\n",
    "print(f'It is asserted that file path for {file_id} exists')"
   ]
  },
  {
   "cell_type": "code",
   "execution_count": 8,
   "id": "767d3d5c",
   "metadata": {
    "execution": {
     "iopub.execute_input": "2024-10-09T09:03:16.838787Z",
     "iopub.status.busy": "2024-10-09T09:03:16.838438Z",
     "iopub.status.idle": "2024-10-09T09:03:17.657293Z",
     "shell.execute_reply": "2024-10-09T09:03:17.656230Z"
    },
    "papermill": {
     "duration": 0.974513,
     "end_time": "2024-10-09T09:03:17.660022",
     "exception": false,
     "start_time": "2024-10-09T09:03:16.685509",
     "status": "completed"
    },
    "tags": []
   },
   "outputs": [
    {
     "data": {
      "image/png": "[encoded data removed]",
      "text/plain": [
       "<IPython.core.display.Image object>"
      ]
     },
     "execution_count": 8,
     "metadata": {},
     "output_type": "execute_result"
    }
   ],
   "source": [
    "from IPython.display import Image\n",
    "Image(filename=file_path)"
   ]
  }
 ],
 "metadata": {
  "kernelspec": {
   "display_name": "mdcrow",
   "language": "python",
   "name": "mdcrow"
  },
  "language_info": {
   "codemirror_mode": {
    "name": "ipython",
    "version": 3
   },
   "file_extension": ".py",
   "mimetype": "text/x-python",
   "name": "python",
   "nbconvert_exporter": "python",
   "pygments_lexer": "ipython3",
   "version": "3.12.4"
  },
  "papermill": {
   "default_parameters": {},
   "duration": 30144.984912,
   "end_time": "2024-10-09T09:03:19.630380",
   "environment_variables": {},
   "exception": null,
   "input_path": "templates/exp_18.ipynb",
   "output_path": "results_gpt4o/exp_18.ipynb",
   "parameters": {
    "llm_var": "gpt-4o-2024-08-06"
   },
   "start_time": "2024-10-09T00:40:54.645468",
   "version": "2.6.0"
  }
 },
 "nbformat": 4,
 "nbformat_minor": 5
}
