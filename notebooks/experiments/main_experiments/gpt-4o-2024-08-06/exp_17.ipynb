{
 "cells": [
  {
   "cell_type": "code",
   "execution_count": 1,
   "metadata": {},
   "outputs": [],
   "source": [
    "import datetime\n",
    "from mdcrow import MDCrow"
   ]
  },
  {
   "cell_type": "code",
   "execution_count": 3,
   "metadata": {},
   "outputs": [
    {
     "name": "stdout",
     "output_type": "stream",
     "text": [
      "date and time: 2024-09-08\n",
      "time: 16:30:02\n",
      "LLM:  gpt-4o-2024-08-06 \n",
      "Temperature:  0.1\n"
     ]
    }
   ],
   "source": [
    "prompt17 = \"Download the PDB file for 1XQ8, and then save the visualization for it.\"\n",
    "llm_var = \"gpt-4o-2024-08-06\"\n",
    "tools = \"all\"\n",
    "agent = MDCrow(agent_type=\"Structured\", model=llm_var, top_k_tools=tools,ckpt_dir='ckpt_36')\n",
    "now = datetime.datetime.now()\n",
    "date = now.strftime(\"%Y-%m-%d\")\n",
    "print(\"date and time:\",date)\n",
    "time = now.strftime(\"%H:%M:%S\")\n",
    "print(\"time:\",time)\n",
    "print(\"LLM: \",agent.llm.model_name,\"\\nTemperature: \",agent.llm.temperature)"
   ]
  },
  {
   "cell_type": "code",
   "execution_count": null,
   "metadata": {},
   "outputs": [],
   "source": [
    "# agent.run(prompt17)"
   ]
  },
  {
   "cell_type": "markdown",
   "metadata": {},
   "source": [
    "### Final Answer\n",
    "Final Answer: The PDB file for 1XQ8 has been successfully downloaded, and a visualization has been created as a notebook. You can open the notebook to view the visualization of the protein structure.Files found in registry: 1XQ8_111245: PDB file downloaded from RSCB, PDBFile ID: 1XQ8_111245, /gpfs/fs2/scratch/jmedina9/mdcrow/md-agent/ckpt/ckpt_36/figures/1XQ8_raw_20240821_111245_vis.ipynb: Notebook to visualize cif/pdb file 1XQ8_raw_20240821_111245.pdb using nglview. \n",
    "\n",
    "\n",
    "Checkpint directory:  /gpfs/fs2/scratch/jmedina9/mdcrow/md-agent/ckpt/ckpt_36"
   ]
  },
  {
   "cell_type": "code",
   "execution_count": 4,
   "metadata": {},
   "outputs": [
    {
     "name": "stdout",
     "output_type": "stream",
     "text": [
      "date and time: 2024-09-08\n",
      "time: 16:30:07\n",
      "Files found in registry: 1XQ8_111245: PDB file downloaded from RSCB\n",
      " PDBFile ID: 1XQ8_111245\n",
      " /gpfs/fs2/scratch/jmedina9/mdcrow/md-agent/ckpt/ckpt_36/figures/1XQ8_raw_20240821_111245_vis.ipynb: Notebook to visualize cif/pdb file 1XQ8_raw_20240821_111245.pdb using nglview.\n"
     ]
    }
   ],
   "source": [
    "now = datetime.datetime.now()\n",
    "date = now.strftime(\"%Y-%m-%d\")\n",
    "print(\"date and time:\",date)\n",
    "time = now.strftime(\"%H:%M:%S\")\n",
    "print(\"time:\",time)\n",
    "registry = agent.path_registry\n",
    "paths_and_descriptions = registry.list_path_names_and_descriptions()\n",
    "print(\"\\n\".join(paths_and_descriptions.split(\",\")))"
   ]
  },
  {
   "cell_type": "markdown",
   "metadata": {},
   "source": [
    "# Experiment Result:\n",
    "### Completed without Exception or TimeOut Errors ✅\n",
    "### Attempted all necessary steps ✅\n",
    "### No hallucination ✅\n",
    "### Logic make sense ✅\n",
    "### Correct Answer  ✅\n",
    "### Number of steps completed: 2\n",
    "### % steps completed: 100%"
   ]
  },
  {
   "cell_type": "code",
   "execution_count": null,
   "metadata": {},
   "outputs": [],
   "source": []
  }
 ],
 "metadata": {
  "kernelspec": {
   "display_name": "mdcrow2",
   "language": "python",
   "name": "python3"
  },
  "language_info": {
   "codemirror_mode": {
    "name": "ipython",
    "version": 3
   },
   "file_extension": ".py",
   "mimetype": "text/x-python",
   "name": "python",
   "nbconvert_exporter": "python",
   "pygments_lexer": "ipython3",
   "version": "3.11.9"
  }
 },
 "nbformat": 4,
 "nbformat_minor": 2
}
