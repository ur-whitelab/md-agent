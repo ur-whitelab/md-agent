{
 "cells": [
  {
   "cell_type": "code",
   "execution_count": 1,
   "metadata": {},
   "outputs": [],
   "source": [
    "import datetime\n",
    "from mdcrow import MDCrow"
   ]
  },
  {
   "cell_type": "code",
   "execution_count": 2,
   "metadata": {},
   "outputs": [
    {
     "name": "stdout",
     "output_type": "stream",
     "text": [
      "date and time: 2024-09-10\n",
      "time: 11:31:01\n",
      "LLM:  gpt-3.5-turbo-0125 \n",
      "Temperature:  0.1\n"
     ]
    }
   ],
   "source": [
    "prompt23 = \"Analyze the rdf of the simulation of 1A3N solvated in water\"\n",
    "llm_var = \"gpt-3.5-turbo-0125\"\n",
    "tools = \"all\"\n",
    "agent = MDCrow(\n",
    "    agent_type=\"Structured\", \n",
    "    model=llm_var, \n",
    "    top_k_tools=tools,\n",
    "    ckpt_dir='ckpt_90'\n",
    "    )\n",
    "now = datetime.datetime.now()\n",
    "date = now.strftime(\"%Y-%m-%d\")\n",
    "print(\"date and time:\",date)\n",
    "time = now.strftime(\"%H:%M:%S\")\n",
    "print(\"time:\",time)\n",
    "print(\"LLM: \",agent.llm.model_name,\"\\nTemperature: \",agent.llm.temperature)"
   ]
  },
  {
   "cell_type": "code",
   "execution_count": null,
   "metadata": {},
   "outputs": [],
   "source": [
    "# agent.run(prompt23)"
   ]
  },
  {
   "cell_type": "markdown",
   "metadata": {},
   "source": [
    "## Final Answer\n",
    "Action:\n",
    "```\n",
    "{\n",
    "    \"action\": \"Final Answer\",\n",
    "    \"action_input\": \"I need to download the trajectory file of the simulation of 1A3N solvated in water and ensure it is correctly registered in the path registry before proceeding with the RDF analysis.\"\n",
    "}\n",
    "```No names found. The JSON file is empty or does not contain name mappings. \n",
    "\n",
    "\n",
    "Checkpint directory:  /gpfs/fs2/scratch/jmedina9/mdcrow/md-agent/ckpt/ckpt_90\n"
   ]
  },
  {
   "cell_type": "code",
   "execution_count": 3,
   "metadata": {},
   "outputs": [
    {
     "name": "stdout",
     "output_type": "stream",
     "text": [
      "date and time: 2024-09-10\n",
      "time: 11:31:01\n",
      "No names found. The JSON file is empty or does not contain name mappings.\n"
     ]
    }
   ],
   "source": [
    "now = datetime.datetime.now()\n",
    "date = now.strftime(\"%Y-%m-%d\")\n",
    "print(\"date and time:\",date)\n",
    "time = now.strftime(\"%H:%M:%S\")\n",
    "print(\"time:\",time)\n",
    "registry = agent.path_registry\n",
    "paths_and_descriptions = registry.list_path_names_and_descriptions()\n",
    "print(\"\\n\".join(paths_and_descriptions.split(\",\")))"
   ]
  },
  {
   "cell_type": "code",
   "execution_count": null,
   "metadata": {},
   "outputs": [],
   "source": [
    "# path_traj = registry.get_mapped_path(\"\")\n",
    "# path_top = registry.get_mapped_path(\"\")\n",
    "# assert os.path.exists(path_traj)\n",
    "# assert os.path.exists(path_top)\n",
    "# assert path_traj != path_top\n",
    "\n",
    "# assert path_traj.endswith(\".dcd\")\n",
    "# assert path_top.endswith(\".pdb\")"
   ]
  },
  {
   "cell_type": "code",
   "execution_count": null,
   "metadata": {},
   "outputs": [],
   "source": [
    "# import mdtraj as md\n",
    "# traj = md.load(path_traj, top=path_top)\n",
    "# print(f\"Simulation with :{traj.n_atoms} for {traj.n_frames} frames. Total time: {traj.time[-1]*0.002} ps\")"
   ]
  },
  {
   "cell_type": "code",
   "execution_count": null,
   "metadata": {},
   "outputs": [],
   "source": [
    "# rdf_path = registry.get_mapped_path(\"fig0_231508\")\n",
    "# #Disclaimer: Theres a bug in the rdf path saving. The image was created correctly, but the path was not saved correctly.\n",
    "# from IPython.display import Image\n",
    "# Image(filename=rdf_path)"
   ]
  },
  {
   "cell_type": "markdown",
   "metadata": {},
   "source": [
    "# Experiment Result:\n",
    "### Completed without Exception or TimeOut Errors ❌\n",
    "### Attempted all necessary steps ❌\n",
    "### No hallucination ❌\n",
    "### Logic make sense ❌\n",
    "### Correct Answer  ❌\n",
    "### Number of steps completed: 0\n",
    "### % steps completed: 0%"
   ]
  },
  {
   "cell_type": "markdown",
   "metadata": {},
   "source": []
  }
 ],
 "metadata": {
  "kernelspec": {
   "display_name": "mdcrow2",
   "language": "python",
   "name": "python3"
  },
  "language_info": {
   "codemirror_mode": {
    "name": "ipython",
    "version": 3
   },
   "file_extension": ".py",
   "mimetype": "text/x-python",
   "name": "python",
   "nbconvert_exporter": "python",
   "pygments_lexer": "ipython3",
   "version": "3.11.9"
  }
 },
 "nbformat": 4,
 "nbformat_minor": 2
}
