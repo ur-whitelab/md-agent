{
 "cells": [
  {
   "cell_type": "code",
   "execution_count": null,
   "metadata": {},
   "outputs": [],
   "source": [
    "import datetime\n",
    "from mdcrow import MDCrow"
   ]
  },
  {
   "cell_type": "code",
   "execution_count": null,
   "metadata": {},
   "outputs": [],
   "source": [
    "#todays date and time\n",
    "now = datetime.datetime.now()\n",
    "date = now.strftime(\"%Y-%m-%d\")\n",
    "print(\"date and time:\",date)\n",
    "time = now.strftime(\"%H:%M:%S\")\n",
    "print(\"time:\",time)"
   ]
  },
  {
   "cell_type": "code",
   "execution_count": null,
   "metadata": {},
   "outputs": [],
   "source": [
    "prompt1 = \"Simulate pdb  1MBN at two different temperatures: 300K, 400K for 1ns seconds each. Plot RMSD of both over time, and compare the final secondary structures at the end of the simulations.\"\n",
    "llm_var = \"gpt-3.5-turbo-0125\"\n",
    "tools = \"all\"\n",
    "agent = MDCrow(agent_type=\"Structured\", model=llm_var, top_k_tools=tools)"
   ]
  },
  {
   "cell_type": "code",
   "execution_count": null,
   "metadata": {},
   "outputs": [],
   "source": [
    "print(\"LLM: \",agent.llm.model_name,\"\\nTemperature: \",agent.llm.temperature)"
   ]
  },
  {
   "cell_type": "code",
   "execution_count": null,
   "metadata": {},
   "outputs": [],
   "source": [
    "agent.run(prompt1)"
   ]
  },
  {
   "cell_type": "code",
   "execution_count": null,
   "metadata": {},
   "outputs": [],
   "source": [
    "#print final date and time\n",
    "now = datetime.datetime.now()\n",
    "date = now.strftime(\"%Y-%m-%d\")\n",
    "print(\"date and time:\",date)\n",
    "time = now.strftime(\"%H:%M:%S\")\n",
    "print(\"time:\",time)"
   ]
  },
  {
   "cell_type": "code",
   "execution_count": null,
   "metadata": {},
   "outputs": [],
   "source": [
    "registry = agent.path_registry\n",
    "print(registry.list_path_names_and_descriptions())"
   ]
  },
  {
   "cell_type": "code",
   "execution_count": null,
   "metadata": {},
   "outputs": [],
   "source": [
    "paths_and_descriptions = registry.list_path_names_and_descriptions()\n",
    "print(\"\\n\".join(paths_and_descriptions.split(\",\")))"
   ]
  },
  {
   "cell_type": "code",
   "execution_count": null,
   "metadata": {},
   "outputs": [],
   "source": [
    "#plotting rmsd of both simulations\n",
    "from IPython.display import Image\n",
    "rmsd1ID = 'fig0_200719'\n",
    "#rmsd2ID = 'fig0_165231'\n",
    "path1 = registry.get_mapped_path(rmsd1ID)\n",
    "#path2 = registry.get_mapped_path(rmsd2ID)\n",
    "#change the dir to \n",
    "Image(filename=path1)\n",
    "\n",
    "\n"
   ]
  },
  {
   "cell_type": "markdown",
   "metadata": {},
   "source": []
  },
  {
   "cell_type": "code",
   "execution_count": null,
   "metadata": {},
   "outputs": [],
   "source": [
    "import mdtraj as md\n",
    "\n",
    "traj_path_1 = registry.get_mapped_path(\"rec2_192450\")\n",
    "top_path_1 = registry.get_mapped_path(\"top_sim0_192450\")\n",
    "traj_1 = md.load(traj_path_1, top=top_path_1)\n",
    "\n",
    "traj_path_2 = registry.get_mapped_path(\"rec2_194650\")\n",
    "top_path_2 = registry.get_mapped_path(\"top_sim0_194650\")\n",
    "traj_2 = md.load(traj_path_2, top=top_path_2)\n",
    "\n",
    "\n",
    "# Compute the secondary structure of the trajectory\n",
    "dssp_300 = md.compute_dssp(traj_1, simplified=True)\n",
    "dssp_400 = md.compute_dssp(traj_2, simplified=True)\n",
    "print(\"number of residues: \", traj_1.n_residues)\n",
    "compl_list = ['E', 'H', 'C']\n",
    "print(\"Number of sheets 300K: \",len([i for i in dssp_300.flatten() if i == 'E' ])/traj_1.n_frames)\n",
    "print(\"Number of helices 300K: \",len([i for i in dssp_300.flatten() if i == 'H'])/traj_1.n_frames)\n",
    "print(\"Number of coils 300K: \",len([i for i in dssp_300.flatten() if i == 'C'])/traj_1.n_frames)\n",
    "print(\"Number of residues not in E, H, or C: \", len([i for i in dssp_300.flatten() if i not in compl_list])/traj_1.n_frames)\n",
    "\n",
    "print(\"number of residues: \", traj_2.n_residues)\n",
    "print(\"Number of sheets 400K: \",len([i for i in dssp_400.flatten() if i == 'E'])/traj_2.n_frames)\n",
    "print(\"Number of helices 400K: \",len([i for i in dssp_400.flatten() if i == 'H'])/traj_2.n_frames)\n",
    "print(\"Number of coils: 400k\",len([i for i in dssp_400.flatten() if i == 'C'])/traj_2.n_frames)\n",
    "print(\"Number of residues not in E, H, or C: \", len([i for i in dssp_400.flatten() if i not in compl_list])/traj_1.n_frames)\n",
    "\n",
    "print(\"Agent response: \", \"At 300K, there were 505,414 helices, 0 strands, and 261,116 coils. At 400K, there were 505,397 helices, 712 strands, and 260,421 coils.\")"
   ]
  },
  {
   "cell_type": "markdown",
   "metadata": {},
   "source": [
    "# Experiment Result:\n",
    "### Completed without Exception or TimeOut Errors ❌\n",
    "### Attempted all necessary steps ❌\n",
    "### Logic make sense ✅\n",
    "### Correct Answer  ❌\n",
    "### Number of steps completed: 3\n",
    "### % steps completed: 37.50%"
   ]
  },
  {
   "cell_type": "code",
   "execution_count": null,
   "metadata": {},
   "outputs": [],
   "source": []
  }
 ],
 "metadata": {
  "kernelspec": {
   "display_name": "mdcrow2",
   "language": "python",
   "name": "python3"
  },
  "language_info": {
   "codemirror_mode": {
    "name": "ipython",
    "version": 3
   },
   "file_extension": ".py",
   "mimetype": "text/x-python",
   "name": "python",
   "nbconvert_exporter": "python",
   "pygments_lexer": "ipython3",
   "version": "3.11.9"
  }
 },
 "nbformat": 4,
 "nbformat_minor": 2
}
