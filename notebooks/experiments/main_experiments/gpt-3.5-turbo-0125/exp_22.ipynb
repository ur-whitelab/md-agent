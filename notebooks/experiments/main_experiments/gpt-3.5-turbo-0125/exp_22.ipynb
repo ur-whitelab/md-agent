{
 "cells": [
  {
   "cell_type": "code",
   "execution_count": 1,
   "metadata": {},
   "outputs": [],
   "source": [
    "import datetime\n",
    "import os\n",
    "from mdcrow import MDCrow"
   ]
  },
  {
   "cell_type": "code",
   "execution_count": 3,
   "metadata": {},
   "outputs": [
    {
     "name": "stdout",
     "output_type": "stream",
     "text": [
      "date and time: 2024-09-10\n",
      "time: 11:27:44\n",
      "LLM:  gpt-3.5-turbo-0125 \n",
      "Temperature:  0.1\n"
     ]
    }
   ],
   "source": [
    "prompt22 = \"Perform a short simulation of protein 1PQ2\"\n",
    "llm_var = \"gpt-3.5-turbo-0125\"\n",
    "tools = \"all\"\n",
    "agent = MDCrow(\n",
    "    agent_type=\"Structured\", \n",
    "    model=llm_var, \n",
    "    top_k_tools=tools,\n",
    "    ckpt_dir = 'ckpt_89')\n",
    "now = datetime.datetime.now()\n",
    "date = now.strftime(\"%Y-%m-%d\")\n",
    "print(\"date and time:\",date)\n",
    "time = now.strftime(\"%H:%M:%S\")\n",
    "print(\"time:\",time)\n",
    "print(\"LLM: \",agent.llm.model_name,\"\\nTemperature: \",agent.llm.temperature)"
   ]
  },
  {
   "cell_type": "code",
   "execution_count": null,
   "metadata": {},
   "outputs": [],
   "source": [
    "# agent.run(prompt22)"
   ]
  },
  {
   "cell_type": "markdown",
   "metadata": {},
   "source": [
    "## Final Answer\n",
    "Final Answer: The brief simulation of protein 1PQ2 has been successfully completed. The simulation trajectory, state log, and PDB frames have been generated. You can access the results using the following IDs:\n",
    "\n",
    "1. Simulation trajectory: rec0_175015\n",
    "2. Simulation state log: rec1_175015\n",
    "3. Simulation PDB frames: rec2_175015\n",
    "\n",
    "Additionally, a standalone script has been written with the ID sim0_175013 for reproducing the simulation or further customization. The initial topology file ID is top_sim0_175013, saved in the files/pdb/ directory.\n",
    "\n",
    "Checkpint directory:  /gpfs/fs2/scratch/jmedina9/mdcrow/md-agent/ckpt/ckpt_89"
   ]
  },
  {
   "cell_type": "code",
   "execution_count": 4,
   "metadata": {},
   "outputs": [
    {
     "name": "stdout",
     "output_type": "stream",
     "text": [
      "date and time: 2024-09-10\n",
      "time: 11:27:47\n",
      "Files found in registry: 1PQ2_174844: PDB file downloaded from RSCB\n",
      " PDBFile ID: 1PQ2_174844\n",
      " 1PQ2_175010: Cleaned File:  Removed Heterogens\n",
      " and Water Removed.  Replaced Nonstandard Residues. Added Hydrogens at pH 7.0. Missing Atoms Added and replaces nonstandard residues. \n",
      " top_sim0_175013: Initial positions for simulation sim0_175013\n",
      " sim0_175013: Basic Simulation of Protein 1PQ2_175010\n",
      " rec0_175015: Simulation trajectory for protein 1PQ2_175010 and simulation sim0_175013\n",
      " rec1_175015: Simulation state log for protein 1PQ2_175010 and simulation sim0_175013\n",
      " rec2_175015: Simulation pdb frames for protein 1PQ2_175010 and simulation sim0_175013\n"
     ]
    }
   ],
   "source": [
    "now = datetime.datetime.now()\n",
    "date = now.strftime(\"%Y-%m-%d\")\n",
    "print(\"date and time:\",date)\n",
    "time = now.strftime(\"%H:%M:%S\")\n",
    "print(\"time:\",time)\n",
    "registry = agent.path_registry\n",
    "paths_and_descriptions = registry.list_path_names_and_descriptions()\n",
    "print(\"\\n\".join(paths_and_descriptions.split(\",\")))"
   ]
  },
  {
   "cell_type": "code",
   "execution_count": 6,
   "metadata": {},
   "outputs": [
    {
     "name": "stdout",
     "output_type": "stream",
     "text": [
      "Simulation with :15234 for 60 frames. Total time: 0.11800000000000001 ps\n"
     ]
    }
   ],
   "source": [
    "import mdtraj as md\n",
    "trajectory_path = registry.ckpt_dir + registry.get_mapped_path(\"rec0_175015\").split(\"ckpt_89\")[1]\n",
    "topology_path = registry.ckpt_dir + registry.get_mapped_path(\"top_sim0_175013\").split(\"ckpt_89\")[1]\n",
    "assert os.path.exists(trajectory_path), \"Trajectory file not found\"\n",
    "assert os.path.exists(topology_path), \"Topology file not found\"\n",
    "\n",
    "traj = md.load(trajectory_path, top=topology_path)\n",
    "print(f\"Simulation with :{traj.n_atoms} for {traj.n_frames} frames. Total time: {traj.time[-1]*0.002} ps\")"
   ]
  },
  {
   "cell_type": "markdown",
   "metadata": {},
   "source": [
    "# Experiment Result:\n",
    "### Completed without Exception or TimeOut Errors ✅\n",
    "### Attempted all necessary steps ✅\n",
    "### No hallucination ✅\n",
    "### Logic make sense ✅\n",
    "### Correct Answer  ✅\n",
    "### Number of steps completed: 2\n",
    "### % steps completed: 100%"
   ]
  },
  {
   "cell_type": "markdown",
   "metadata": {},
   "source": []
  }
 ],
 "metadata": {
  "kernelspec": {
   "display_name": "mdcrow2",
   "language": "python",
   "name": "python3"
  },
  "language_info": {
   "codemirror_mode": {
    "name": "ipython",
    "version": 3
   },
   "file_extension": ".py",
   "mimetype": "text/x-python",
   "name": "python",
   "nbconvert_exporter": "python",
   "pygments_lexer": "ipython3",
   "version": "3.11.9"
  }
 },
 "nbformat": 4,
 "nbformat_minor": 2
}
