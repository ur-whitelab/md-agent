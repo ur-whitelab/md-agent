{
 "cells": [
  {
   "cell_type": "code",
   "execution_count": 1,
   "metadata": {},
   "outputs": [],
   "source": [
    "import datetime\n",
    "import os\n",
    "from mdcrow import MDCrow"
   ]
  },
  {
   "cell_type": "code",
   "execution_count": 2,
   "metadata": {},
   "outputs": [
    {
     "name": "stdout",
     "output_type": "stream",
     "text": [
      "date and time: 2024-09-10\n",
      "time: 11:24:54\n",
      "LLM:  gpt-3.5-turbo-0125 \n",
      "Temperature:  0.1\n"
     ]
    }
   ],
   "source": [
    "prompt21 = \"Download and clean protein 1A3N\"\n",
    "llm_var = \"gpt-3.5-turbo-0125\"\n",
    "tools = \"all\"\n",
    "agent = MDCrow(\n",
    "    agent_type=\"Structured\", \n",
    "    model=llm_var, \n",
    "    top_k_tools=tools,\n",
    "    ckpt_dir=\"ckpt_88\")\n",
    "now = datetime.datetime.now()\n",
    "date = now.strftime(\"%Y-%m-%d\")\n",
    "print(\"date and time:\",date)\n",
    "time = now.strftime(\"%H:%M:%S\")\n",
    "print(\"time:\",time)\n",
    "print(\"LLM: \",agent.llm.model_name,\"\\nTemperature: \",agent.llm.temperature)"
   ]
  },
  {
   "cell_type": "code",
   "execution_count": 3,
   "metadata": {},
   "outputs": [],
   "source": [
    "# agent.run(prompt21)"
   ]
  },
  {
   "cell_type": "markdown",
   "metadata": {},
   "source": [
    "## Final Answer\n",
    "Action:\n",
    "```\n",
    "{\n",
    "    \"action\": \"Final Answer\",\n",
    "    \"action_input\": \"The cleaned PDB file for protein 1A3N is ready for further analysis. File ID: 1A3N_174815\"\n",
    "}\n",
    "```Files found in registry: 1A3N_174800: PDB file downloaded from RSCB, PDBFile ID: 1A3N_174800, 1A3N_174815: Cleaned File:  Removed Heterogens, and Water Removed.  Replaced Nonstandard Residues. Added Hydrogens at pH 7.0. Missing Atoms Added and replaces nonstandard residues.  \n",
    "\n",
    "\n",
    "Checkpint directory:  /gpfs/fs2/scratch/jmedina9/mdcrow/md-agent/ckpt/ckpt_88\n"
   ]
  },
  {
   "cell_type": "code",
   "execution_count": 4,
   "metadata": {},
   "outputs": [
    {
     "name": "stdout",
     "output_type": "stream",
     "text": [
      "date and time: 2024-09-10\n",
      "time: 11:24:54\n",
      "Files found in registry: 1A3N_174800: PDB file downloaded from RSCB\n",
      " PDBFile ID: 1A3N_174800\n",
      " 1A3N_174815: Cleaned File:  Removed Heterogens\n",
      " and Water Removed.  Replaced Nonstandard Residues. Added Hydrogens at pH 7.0. Missing Atoms Added and replaces nonstandard residues. \n"
     ]
    }
   ],
   "source": [
    "now = datetime.datetime.now()\n",
    "date = now.strftime(\"%Y-%m-%d\")\n",
    "print(\"date and time:\",date)\n",
    "time = now.strftime(\"%H:%M:%S\")\n",
    "print(\"time:\",time)\n",
    "registry = agent.path_registry\n",
    "paths_and_descriptions = registry.list_path_names_and_descriptions()\n",
    "print(\"\\n\".join(paths_and_descriptions.split(\",\")))"
   ]
  },
  {
   "cell_type": "code",
   "execution_count": 5,
   "metadata": {},
   "outputs": [],
   "source": [
    "path_before = registry.ckpt_dir + registry.get_mapped_path(\"1A3N_174800\").split(\"ckpt_88\")[1]\n",
    "path_after = registry.ckpt_dir + registry.get_mapped_path(\"1A3N_174815\").split(\"ckpt_88\")[1]\n",
    "assert os.path.exists(path_before)\n",
    "assert os.path.exists(path_after)\n",
    "assert path_before != path_after"
   ]
  },
  {
   "cell_type": "code",
   "execution_count": 6,
   "metadata": {},
   "outputs": [],
   "source": [
    "import mdtraj as md\n",
    "raw_file = md.load(path_before)\n",
    "clean_file = md.load(path_after)"
   ]
  },
  {
   "cell_type": "code",
   "execution_count": 7,
   "metadata": {},
   "outputs": [
    {
     "name": "stdout",
     "output_type": "stream",
     "text": [
      "Residues before: {'ALA', 'VAL', 'TYR', 'SER', 'HIS', 'TRP', 'THR', 'PRO', 'LEU', 'GLN', 'GLY', 'ASN', 'CYS', 'HEM', 'ASP', 'HOH', 'ARG', 'PHE', 'GLU', 'LYS', 'MET'}\n",
      "Residues after: {'ALA', 'VAL', 'TYR', 'SER', 'HIS', 'TRP', 'THR', 'PRO', 'LEU', 'GLN', 'GLY', 'ASN', 'CYS', 'ASP', 'ARG', 'PHE', 'GLU', 'LYS', 'MET'}\n",
      "Residues removed: {'HEM', 'HOH'}\n"
     ]
    }
   ],
   "source": [
    "#residues before\n",
    "residues_before = set([str(res)[:3] for res in raw_file.top.residues])\n",
    "residues_after = set([str(res)[:3] for res in clean_file.top.residues])\n",
    "print(\"Residues before:\",residues_before)\n",
    "print(\"Residues after:\",residues_after)\n",
    "print(\"Residues removed:\",residues_before - residues_after)"
   ]
  },
  {
   "cell_type": "markdown",
   "metadata": {},
   "source": [
    "# Experiment Result:\n",
    "# Experiment Result:\n",
    "### Completed without Exception or TimeOut Errors ✅\n",
    "### Attempted all necessary steps ✅\n",
    "### No hallucination ✅\n",
    "### Logic make sense ✅\n",
    "### Correct Answer  ✅\n",
    "### Number of steps completed: 2\n",
    "### % steps completed: 100%"
   ]
  },
  {
   "cell_type": "markdown",
   "metadata": {},
   "source": []
  }
 ],
 "metadata": {
  "kernelspec": {
   "display_name": "mdcrow2",
   "language": "python",
   "name": "python3"
  },
  "language_info": {
   "codemirror_mode": {
    "name": "ipython",
    "version": 3
   },
   "file_extension": ".py",
   "mimetype": "text/x-python",
   "name": "python",
   "nbconvert_exporter": "python",
   "pygments_lexer": "ipython3",
   "version": "3.11.9"
  }
 },
 "nbformat": 4,
 "nbformat_minor": 2
}
