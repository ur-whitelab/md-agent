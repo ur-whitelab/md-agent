{
 "cells": [
  {
   "cell_type": "code",
   "execution_count": 1,
   "metadata": {},
   "outputs": [],
   "source": [
    "import os\n",
    "from mdcrow import MDCrow"
   ]
  },
  {
   "cell_type": "code",
   "execution_count": 2,
   "metadata": {},
   "outputs": [
    {
     "name": "stdout",
     "output_type": "stream",
     "text": [
      "claude-3-5-sonnet-20240620\n"
     ]
    }
   ],
   "source": [
    "prompt13 = \"Perform a brief simulation of protein 1PQ2.\"\n",
    "llm_var = \"claude-3-5-sonnet-20240620\"\n",
    "tools = \"all\"\n",
    "agent = MDCrow(agent_type=\"Structured\", model=llm_var, top_k_tools=tools, use_memory=False)\n",
    "print(llm_var)"
   ]
  },
  {
   "cell_type": "code",
   "execution_count": 3,
   "metadata": {},
   "outputs": [
    {
     "name": "stdout",
     "output_type": "stream",
     "text": [
      "Thought: To perform a brief simulation of protein 1PQ2, we need to follow several steps. First, we need to download the PDB file for the protein, then set up and run a short simulation. Let's start by downloading the PDB file.\n",
      "\n",
      "Action:\n",
      "```\n",
      "{\n",
      "    \"action\": \"PDBFileDownloader\",\n",
      "    \"action_input\": \"1PQ2\"\n",
      "}\n",
      "```PDB file found with this ID: 1PQ2\n",
      "Thought: Great, we have successfully downloaded the PDB file for protein 1PQ2. Now, let's proceed with setting up and running a brief simulation using this PDB file. We'll use the SetUpandRunFunction tool for this purpose.\n",
      "\n",
      "Action:\n",
      "```\n",
      "{\n",
      "    \"action\": \"SetUpandRunFunction\",\n",
      "    \"action_input\": {\n",
      "        \"pdb_id\": \"1PQ2_000926\",\n",
      "        \"forcefield_files\": [\"amber14-all.xml\", \"amber14/tip3pfb.xml\"],\n",
      "        \"save\": true,\n",
      "        \"system_params\": {\n",
      "            \"nonbondedMethod\": \"PME\",\n",
      "            \"nonbondedCutoff\": \"1 * nanometers\",\n",
      "            \"constraints\": \"HBonds\",\n",
      "            \"rigidWater\": true,\n",
      "            \"ewaldErrorTolerance\": 0.0005,\n",
      "            \"constraintTolerance\": 0.000001,\n",
      "            \"solvate\": true\n",
      "        },\n",
      "        \"integrator_params\": {\n",
      "            \"integrator_type\": \"LangevinMiddle\",\n",
      "            \"Temperature\": \"300 * kelvin\",\n",
      "            \"Friction\": \"1.0 / picoseconds\",\n",
      "            \"Timestep\": \"0.002 * picoseconds\",\n",
      "            \"Pressure\": \"1.0 * bar\"\n",
      "        },\n",
      "        \"simulation_params\": {\n",
      "            \"Ensemble\": \"NPT\",\n",
      "            \"Number of Steps\": 5000,\n",
      "            \"record_interval_steps\": 50,\n",
      "            \"record_params\": [\"step\", \"potentialEnergy\", \"kineticEnergy\", \"totalEnergy\", \"temperature\", \"volume\", \"density\"]\n",
      "        }\n",
      "    }\n",
      "}\n",
      "```Building system...\n",
      "About to create system...\n",
      "Attempts at creating system: 0/3\n",
      "Error adding solvent ValueError – No template found for residue 1 (LYS).  The set of atoms is similar to HID, but it is missing 8 atoms.  For more information, see https://github.com/openmm/openmm/wiki/Frequently-Asked-Questions#template\n",
      "Residue code: LYS\n",
      "Residue code not in solvent list. Adding forcefield                         not supported.\n",
      "Thought: It seems we encountered an issue with the PDB file. The error message suggests that there might be missing atoms in the structure, particularly for the first residue (LYS). To address this, we should try cleaning the PDB file before running the simulation. Let's use the CleaningToolFunction to prepare the structure.\n",
      "\n",
      "Action:\n",
      "```\n",
      "{\n",
      "    \"action\": \"CleaningToolFunction\",\n",
      "    \"action_input\": {\n",
      "        \"pdb_id\": \"1PQ2_000926\",\n",
      "        \"replace_nonstandard_residues\": true,\n",
      "        \"add_missing_atoms\": true,\n",
      "        \"remove_heterogens\": true,\n",
      "        \"remove_water\": true,\n",
      "        \"add_hydrogens\": true,\n",
      "        \"add_hydrogens_ph\": 7.0\n",
      "    }\n",
      "}\n",
      "```file path: /Users/samanthacox/Desktop/md-agent/ckpt/ckpt_71/pdb/1PQ2_raw_20240913_000926.pdb\n",
      "Thought: Great, we have successfully cleaned the PDB file. Now that we have a cleaned version of the protein structure, let's try to set up and run the simulation again using the SetUpandRunFunction tool with our cleaned PDB file.\n",
      "\n",
      "Action:\n",
      "```\n",
      "{\n",
      "    \"action\": \"SetUpandRunFunction\",\n",
      "    \"action_input\": {\n",
      "        \"pdb_id\": \"1PQ2_001029\",\n",
      "        \"forcefield_files\": [\"amber14-all.xml\", \"amber14/tip3pfb.xml\"],\n",
      "        \"save\": true,\n",
      "        \"system_params\": {\n",
      "            \"nonbondedMethod\": \"PME\",\n",
      "            \"nonbondedCutoff\": \"1 * nanometers\",\n",
      "            \"constraints\": \"HBonds\",\n",
      "            \"rigidWater\": true,\n",
      "            \"ewaldErrorTolerance\": 0.0005,\n",
      "            \"constraintTolerance\": 0.000001,\n",
      "            \"solvate\": true\n",
      "        },\n",
      "        \"integrator_params\": {\n",
      "            \"integrator_type\": \"LangevinMiddle\",\n",
      "            \"Temperature\": \"300 * kelvin\",\n",
      "            \"Friction\": \"1.0 / picoseconds\",\n",
      "            \"Timestep\": \"0.002 * picoseconds\",\n",
      "            \"Pressure\": \"1.0 * bar\"\n",
      "        },\n",
      "        \"simulation_params\": {\n",
      "            \"Ensemble\": \"NPT\",\n",
      "            \"Number of Steps\": 5000,\n",
      "            \"record_interval_steps\": 50,\n",
      "            \"record_params\": [\"step\", \"potentialEnergy\", \"kineticEnergy\", \"totalEnergy\", \"temperature\", \"volume\", \"density\"]\n",
      "        }\n",
      "    }\n",
      "}\n",
      "```Building system...\n",
      "About to create system...\n",
      "Attempts at creating system: 0/3\n",
      "System built successfully\n",
      "<openmm.openmm.System; proxy of <Swig Object of type 'OpenMM::System *' at 0x18f70d6b0> >\n",
      "Setting up integrator...\n",
      "Creating simulation...\n",
      "simulation set!\n",
      "Performing energy minimization...\n",
      "Minimization complete!\n",
      "Initial Positions saved to initial_positions.pdb\n",
      "Equilibrating...\n",
      "Simulating...\n",
      "Done!\n",
      "Standalone simulation script written to /Users/samanthacox/Desktop/md-agent/ckpt/ckpt_71/simulations/NPT_1PQ2_001029_20240913_001035.py\n",
      "['exp_11.ipynb', 'exp_13.ipynb', 'TRAJ_sim0_002457_1A3N_002452_20240913_002521.dcd', 'exp_9.ipynb', 'exp_17.ipynb', 'TOP_sim0_001035_1PQ2_001029_20240913_001206.pdb', 'LOG_sim0_010250_1L6X_010244_20240913_010349.txt', 'exp_15.ipynb', 'TRAJ_sim0_010250_1L6X_010244_20240913_010349.dcd', 'exp_12.ipynb', 'exp_10.ipynb', 'TOP_sim0_010326_1A3N_010320_20240913_010356.pdb', 'exp_14.ipynb', 'LOG_sim0_002457_1A3N_002452_20240913_002521.txt', 'exp_16.ipynb', 'exp_8.ipynb', 'exp_4.ipynb', 'exp_25.ipynb', 'exp_18.ipynb', 'exp_6.ipynb', 'TRAJ_sim0_001035_1PQ2_001029_20240913_001206.dcd', 'exp_21.ipynb', 'exp_2.ipynb', 'TOP_sim0_002457_1A3N_002452_20240913_002521.pdb', 'exp_23.ipynb', 'LOG_sim0_010326_1A3N_010320_20240913_010356.txt', 'exp_7.ipynb', 'exp_19.ipynb', 'exp_24.ipynb', 'TRAJ_sim0_010326_1A3N_010320_20240913_010356.dcd', 'exp_5.ipynb', 'exp_22.ipynb', 'TOP_sim0_010250_1L6X_010244_20240913_010349.pdb', 'exp_1.ipynb', 'LOG_sim0_001035_1PQ2_001029_20240913_001206.txt', 'exp_3.ipynb', 'packmol.inp', 'exp_20.ipynb']\n",
      "Thought: Excellent! We have successfully performed a brief simulation of protein 1PQ2. Now, let's summarize our results and provide a final answer to the original question.\n",
      "\n",
      "Action:\n",
      "```\n",
      "{\n",
      "  \"action\": \"Final Answer\",\n",
      "  \"action_input\": \"We have successfully performed a brief simulation of protein 1PQ2. Here's a summary of the process and results:\n",
      "\n",
      "1. We initially downloaded the PDB file for protein 1PQ2 (file ID: 1PQ2_000926).\n",
      "\n",
      "2. We encountered an issue with missing atoms in the original PDB file, so we cleaned the structure using the CleaningToolFunction. This process replaced non-standard residues, added missing atoms, removed heterogens and water, and added hydrogens at pH 7.0. The cleaned PDB file was saved with ID: 1PQ2_001029.\n",
      "\n",
      "3. Using the cleaned PDB file, we set up and ran a brief molecular dynamics simulation with the following parameters:\n",
      "   - Forcefield: AMBER14 with TIP3P water model\n",
      "   - System: PME for long-range electrostatics, 1 nm nonbonded cutoff, H-bond constraints, rigid water, and solvation\n",
      "   - Integrator: Langevin Middle integrator at 300 K, with 1 ps^-1 friction and 2 fs timestep\n",
      "   - Ensemble: NPT (constant pressure and temperature)\n",
      "   - Simulation length: 5000 steps (10 ps)\n",
      "   - Recorded parameters: step, potential energy, kinetic energy, total energy, temperature, volume, and density\n",
      "\n",
      "4. The simulation was successful, and the following outputs were generated:\n",
      "   - Simulation trajectory (file ID: rec0_001206)\n",
      "   - Simulation state log (file ID: rec1_001206)\n",
      "   - Simulation PDB frames (file ID: rec2_001206)\n",
      "\n",
      "5. A standalone script to reproduce the simulation was created (file ID: sim0_001035).\n",
      "\n",
      "6. The initial topology file was saved (file ID: top_sim0_001035) in the files/pdb/ directory.\n",
      "\n",
      "This brief simulation provides a starting point for further analysis of protein 1PQ2's behavior in a simulated environment. The generated trajectory and log files can be used for more detailed investigations of the protein's structure, dynamics, and energetics.\"\n",
      "}\n",
      "```"
     ]
    },
    {
     "data": {
      "text/plain": [
       "({'input': '\\n    You are an expert molecular dynamics scientist, and\\n    your task is to respond to the question or\\n    solve the problem to the best of your ability using\\n    the provided tools.\\n\\n    You can only respond with a single complete\\n    \\'Thought, Action, Action Input\\' format\\n    OR a single \\'Final Answer\\' format.\\n\\n    Complete format:\\n    Thought: (reflect on your progress and decide what to do next)\\n    Action:\\n    ```\\n    {\\n        \"action\": (the action name, it should be the name of a tool),\\n        \"action_input\": (the input string for the action)\\n    }\\n    \\'\\'\\'\\n\\n    OR\\n\\n    Final Answer: (the final response to the original input\\n    question, once all steps are complete)\\n\\n    You are required to use the tools provided,\\n    using the most specific tool\\n    available for each action.\\n    Your final answer should contain all information\\n    necessary to answer the question and its subquestions.\\n    Before you finish, reflect on your progress and make\\n    sure you have addressed the question in its entirety.\\n\\n    If you are asked to continue\\n    or reference previous runs,\\n    the context will be provided to you.\\n    If context is provided, you should assume\\n    you are continuing a chat.\\n\\n    Here is the input:\\n    Previous Context: None\\n    Question: Perform a brief simulation of protein 1PQ2. ',\n",
       "  'output': \"We have successfully performed a brief simulation of protein 1PQ2. Here's a summary of the process and results:\\n\\n1. We initially downloaded the PDB file for protein 1PQ2 (file ID: 1PQ2_000926).\\n\\n2. We encountered an issue with missing atoms in the original PDB file, so we cleaned the structure using the CleaningToolFunction. This process replaced non-standard residues, added missing atoms, removed heterogens and water, and added hydrogens at pH 7.0. The cleaned PDB file was saved with ID: 1PQ2_001029.\\n\\n3. Using the cleaned PDB file, we set up and ran a brief molecular dynamics simulation with the following parameters:\\n   - Forcefield: AMBER14 with TIP3P water model\\n   - System: PME for long-range electrostatics, 1 nm nonbonded cutoff, H-bond constraints, rigid water, and solvation\\n   - Integrator: Langevin Middle integrator at 300 K, with 1 ps^-1 friction and 2 fs timestep\\n   - Ensemble: NPT (constant pressure and temperature)\\n   - Simulation length: 5000 steps (10 ps)\\n   - Recorded parameters: step, potential energy, kinetic energy, total energy, temperature, volume, and density\\n\\n4. The simulation was successful, and the following outputs were generated:\\n   - Simulation trajectory (file ID: rec0_001206)\\n   - Simulation state log (file ID: rec1_001206)\\n   - Simulation PDB frames (file ID: rec2_001206)\\n\\n5. A standalone script to reproduce the simulation was created (file ID: sim0_001035).\\n\\n6. The initial topology file was saved (file ID: top_sim0_001035) in the files/pdb/ directory.\\n\\nThis brief simulation provides a starting point for further analysis of protein 1PQ2's behavior in a simulated environment. The generated trajectory and log files can be used for more detailed investigations of the protein's structure, dynamics, and energetics.\"},\n",
       " '6CVDY2QS')"
      ]
     },
     "execution_count": 3,
     "metadata": {},
     "output_type": "execute_result"
    }
   ],
   "source": [
    "agent.run(prompt13)"
   ]
  },
  {
   "cell_type": "code",
   "execution_count": 4,
   "metadata": {},
   "outputs": [
    {
     "name": "stdout",
     "output_type": "stream",
     "text": [
      "ckpt_71\n",
      "Files found in registry: 1PQ2_000926: PDB file downloaded from RSCB\n",
      " PDBFile ID: 1PQ2_000926\n",
      " 1PQ2_001029: Cleaned File:  Removed Heterogens\n",
      " and Water Removed.  Replaced Nonstandard Residues. Added Hydrogens at pH 7.0. Missing Atoms Added and replaces nonstandard residues. \n",
      " top_sim0_001035: Initial positions for simulation sim0_001035\n",
      " sim0_001035: Basic Simulation of Protein 1PQ2_001029\n",
      " rec0_001206: Simulation trajectory for protein 1PQ2_001029 and simulation sim0_001035\n",
      " rec1_001206: Simulation state log for protein 1PQ2_001029 and simulation sim0_001035\n",
      " rec2_001206: Simulation pdb frames for protein 1PQ2_001029 and simulation sim0_001035\n"
     ]
    }
   ],
   "source": [
    "registry = agent.path_registry\n",
    "print(os.path.basename(registry.ckpt_dir))\n",
    "paths_and_descriptions = registry.list_path_names_and_descriptions()\n",
    "print(\"\\n\".join(paths_and_descriptions.split(\",\")))"
   ]
  }
 ],
 "metadata": {
  "kernelspec": {
   "display_name": "mda-aug20",
   "language": "python",
   "name": "python3"
  },
  "language_info": {
   "codemirror_mode": {
    "name": "ipython",
    "version": 3
   },
   "file_extension": ".py",
   "mimetype": "text/x-python",
   "name": "python",
   "nbconvert_exporter": "python",
   "pygments_lexer": "ipython3",
   "version": "3.12.5"
  }
 },
 "nbformat": 4,
 "nbformat_minor": 4
}
