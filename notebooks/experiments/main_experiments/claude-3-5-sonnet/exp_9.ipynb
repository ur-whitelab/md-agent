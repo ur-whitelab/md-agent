{
 "cells": [
  {
   "cell_type": "code",
   "execution_count": 1,
   "id": "39451d99-005f-40b2-867e-fb955d63647d",
   "metadata": {},
   "outputs": [],
   "source": [
    "from mdcrow import MDCrow"
   ]
  },
  {
   "cell_type": "code",
   "execution_count": 2,
   "id": "82be5f35-3197-49c7-9955-6707529f8691",
   "metadata": {},
   "outputs": [
    {
     "name": "stdout",
     "output_type": "stream",
     "text": [
      "claude-3-5-sonnet-20240620\n"
     ]
    }
   ],
   "source": [
    "prompt9 = \"Download the PDB file for 1AEE. Then, tell me how many chains and atoms are in the protein.\"\n",
    "llm_var = \"claude-3-5-sonnet-20240620\"\n",
    "tools = \"all\"\n",
    "agent = MDCrow(agent_type=\"Structured\", model=llm_var, top_k_tools=tools, use_memory=False)\n",
    "print(llm_var)"
   ]
  },
  {
   "cell_type": "code",
   "execution_count": 3,
   "id": "fe11721e-c775-40d3-9332-9f80820ccc95",
   "metadata": {},
   "outputs": [
    {
     "name": "stdout",
     "output_type": "stream",
     "text": [
      "Thought: To answer this question, I need to first download the PDB file for 1AEE and then analyze its structure. I'll start by using the PDBFileDownloader tool to get the file, and then use the SummarizeProteinStructure tool to get the information about chains and atoms.\n",
      "\n",
      "Action:\n",
      "```\n",
      "{\n",
      "    \"action\": \"PDBFileDownloader\",\n",
      "    \"action_input\": \"1AEE\"\n",
      "}\n",
      "```PDB file found with this ID: 1AEE\n",
      "Thought: Great, we have successfully downloaded the PDB file for 1AEE. Now, let's use the SummarizeProteinStructure tool to analyze the file and get the information about the number of chains and atoms in the protein.\n",
      "\n",
      "Action:\n",
      "```\n",
      "{\n",
      "    \"action\": \"SummarizeProteinStructure\",\n",
      "    \"action_input\": {\n",
      "        \"traj_file\": \"1AEE_221442\",\n",
      "        \"top_file\": \"1AEE_221442\"\n",
      "    }\n",
      "}\n",
      "```Thought: Now that we have the information about the structure of the protein 1AEE, I can provide a final answer to the question.\n",
      "\n",
      "Final Answer: The PDB file for 1AEE has been successfully downloaded and analyzed. The protein structure contains:\n",
      "\n",
      "1. Number of chains: 2\n",
      "2. Number of atoms: 2992\n",
      "\n",
      "This information was obtained by first downloading the PDB file using the PDBFileDownloader tool and then analyzing its structure using the SummarizeProteinStructure tool. The analysis shows that the protein 1AEE consists of two chains and has a total of 2,992 atoms."
     ]
    }
   ],
   "source": [
    "answer = agent.run(prompt9)"
   ]
  },
  {
   "cell_type": "code",
   "execution_count": 4,
   "id": "0ba860e5-1dd0-4fcc-aa2f-d5e7f975cbae",
   "metadata": {},
   "outputs": [
    {
     "name": "stdout",
     "output_type": "stream",
     "text": [
      "Files found in registry: 1AEE_221442: PDB file downloaded from RSCB\n",
      " PDBFile ID: 1AEE_221442\n"
     ]
    }
   ],
   "source": [
    "registry = agent.path_registry\n",
    "paths_and_descriptions = registry.list_path_names_and_descriptions()\n",
    "print(\"\\n\".join(paths_and_descriptions.split(\",\")))"
   ]
  },
  {
   "cell_type": "code",
   "execution_count": 5,
   "id": "4b9220de-6a3c-4db9-8768-68298ece63a6",
   "metadata": {},
   "outputs": [],
   "source": [
    "import re\n",
    "import os\n",
    "\n",
    "match = re.search(r\"1AEE_\\d+\", paths_and_descriptions)\n",
    "file_id = match.group(0)\n",
    "pdb_path = registry.get_mapped_path(file_id)\n",
    "assert os.path.exists(pdb_path)"
   ]
  },
  {
   "cell_type": "code",
   "execution_count": 6,
   "id": "ac6db7f4-0d84-4716-a04d-0ccdab56a36f",
   "metadata": {},
   "outputs": [
    {
     "name": "stdout",
     "output_type": "stream",
     "text": [
      "Number of chains:  2\n",
      "Number of atoms:  2992\n"
     ]
    }
   ],
   "source": [
    "import mdtraj as md\n",
    "\n",
    "traj = md.load(pdb_path)\n",
    "top = traj.topology\n",
    "number_of_chains = top.n_chains\n",
    "number_of_atoms = top.n_atoms\n",
    "print('Number of chains: ', number_of_chains)\n",
    "print('Number of atoms: ', number_of_atoms)"
   ]
  }
 ],
 "metadata": {
  "kernelspec": {
   "display_name": "mda-aug20",
   "language": "python",
   "name": "python3"
  },
  "language_info": {
   "codemirror_mode": {
    "name": "ipython",
    "version": 3
   },
   "file_extension": ".py",
   "mimetype": "text/x-python",
   "name": "python",
   "nbconvert_exporter": "python",
   "pygments_lexer": "ipython3",
   "version": "3.12.5"
  }
 },
 "nbformat": 4,
 "nbformat_minor": 5
}
