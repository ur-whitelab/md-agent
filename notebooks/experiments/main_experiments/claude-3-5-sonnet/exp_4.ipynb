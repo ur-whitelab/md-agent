{
 "cells": [
  {
   "cell_type": "code",
   "execution_count": 1,
   "metadata": {},
   "outputs": [],
   "source": [
    "from mdcrow import MDCrow"
   ]
  },
  {
   "cell_type": "code",
   "execution_count": 3,
   "metadata": {},
   "outputs": [
    {
     "name": "stdout",
     "output_type": "stream",
     "text": [
      "claude-3-5-sonnet-20240620\n"
     ]
    }
   ],
   "source": [
    "llm_var = \"claude-3-5-sonnet-20240620\"\n",
    "prompt4 = \"What are the common parameters used to simulate fibronectin?\"\n",
    "paper_dir = \"paper_collection\"\n",
    "tools = \"all\"\n",
    "agent = MDCrow(agent_type=\"Structured\", model=llm_var, top_k_tools=tools, paper_dir=paper_dir, use_memory=False)\n",
    "print (llm_var)"
   ]
  },
  {
   "cell_type": "code",
   "execution_count": 4,
   "metadata": {},
   "outputs": [
    {
     "name": "stdout",
     "output_type": "stream",
     "text": [
      "Thought: To answer this question about common parameters used to simulate fibronectin, I should first search for literature on fibronectin simulations. This will give me an overview of the typical approaches and parameters used by researchers in the field.\n",
      "\n",
      "Action:\n",
      "```\n",
      "{\n",
      "    \"action\": \"LiteratureSearch\",\n",
      "    \"action_input\": \"Common parameters for fibronectin molecular dynamics simulations\"\n",
      "}\n",
      "```Paper Directory /Users/samanthacox/Desktop/md-agent/notebooks/experiments/experiment_k1/claude-3-5-sonnet/paper_collection\n"
     ]
    },
    {
     "data": {
      "text/html": [
       "<pre style=\"white-space:pre;overflow-x:auto;line-height:normal;font-family:Menlo,'DejaVu Sans Mono',consolas,'Courier New',monospace\"><span style=\"color: #7fbfbf; text-decoration-color: #7fbfbf\">[23:54:34] </span>Starting paper search for <span style=\"color: #008000; text-decoration-color: #008000\">'Here are 3 unique keyword searches with year ranges to help answer the </span>      \n",
       "<span style=\"color: #7fbfbf; text-decoration-color: #7fbfbf\">           </span><span style=\"color: #008000; text-decoration-color: #008000\">question about common parameters for fibronectin molecular dynamics simulations:'</span>.                      \n",
       "</pre>\n"
      ],
      "text/plain": [
       "\u001b[2;36m[23:54:34]\u001b[0m\u001b[2;36m \u001b[0mStarting paper search for \u001b[32m'Here are 3 unique keyword searches with year ranges to help answer the \u001b[0m      \n",
       "\u001b[2;36m           \u001b[0m\u001b[32mquestion about common parameters for fibronectin molecular dynamics simulations:'\u001b[0m.                      \n"
      ]
     },
     "metadata": {},
     "output_type": "display_data"
    },
    {
     "data": {
      "text/html": [
       "<pre style=\"white-space:pre;overflow-x:auto;line-height:normal;font-family:Menlo,'DejaVu Sans Mono',consolas,'Courier New',monospace\"><span style=\"color: #7fbfbf; text-decoration-color: #7fbfbf\">           </span>New file to index: <span style=\"color: #008080; text-decoration-color: #008080; font-weight: bold\">10.</span>1002slct.<span style=\"color: #008080; text-decoration-color: #008080; font-weight: bold\">201801398.</span>pdf<span style=\"color: #808000; text-decoration-color: #808000\">...</span>                                                         \n",
       "</pre>\n"
      ],
      "text/plain": [
       "\u001b[2;36m          \u001b[0m\u001b[2;36m \u001b[0mNew file to index: \u001b[1;36m10.\u001b[0m1002slct.\u001b[1;36m201801398.\u001b[0mpdf\u001b[33m...\u001b[0m                                                         \n"
      ]
     },
     "metadata": {},
     "output_type": "display_data"
    },
    {
     "data": {
      "text/html": [
       "<pre style=\"white-space:pre;overflow-x:auto;line-height:normal;font-family:Menlo,'DejaVu Sans Mono',consolas,'Courier New',monospace\"><span style=\"color: #7fbfbf; text-decoration-color: #7fbfbf\">           </span>New file to index: oliveira_2021_b2m_2yxf.pdf<span style=\"color: #808000; text-decoration-color: #808000\">...</span>                                                        \n",
       "</pre>\n"
      ],
      "text/plain": [
       "\u001b[2;36m          \u001b[0m\u001b[2;36m \u001b[0mNew file to index: oliveira_2021_b2m_2yxf.pdf\u001b[33m...\u001b[0m                                                        \n"
      ]
     },
     "metadata": {},
     "output_type": "display_data"
    },
    {
     "data": {
      "text/html": [
       "<pre style=\"white-space:pre;overflow-x:auto;line-height:normal;font-family:Menlo,'DejaVu Sans Mono',consolas,'Courier New',monospace\"><span style=\"color: #7fbfbf; text-decoration-color: #7fbfbf\">           </span>New file to index: morand_2021_b2m_2yxf.pdf<span style=\"color: #808000; text-decoration-color: #808000\">...</span>                                                          \n",
       "</pre>\n"
      ],
      "text/plain": [
       "\u001b[2;36m          \u001b[0m\u001b[2;36m \u001b[0mNew file to index: morand_2021_b2m_2yxf.pdf\u001b[33m...\u001b[0m                                                          \n"
      ]
     },
     "metadata": {},
     "output_type": "display_data"
    },
    {
     "data": {
      "text/html": [
       "<pre style=\"white-space:pre;overflow-x:auto;line-height:normal;font-family:Menlo,'DejaVu Sans Mono',consolas,'Courier New',monospace\"><span style=\"color: #7fbfbf; text-decoration-color: #7fbfbf\">[23:54:35] </span>New file to index: cong_2017_trypsin-ligand.pdf<span style=\"color: #808000; text-decoration-color: #808000\">...</span>                                                      \n",
       "</pre>\n"
      ],
      "text/plain": [
       "\u001b[2;36m[23:54:35]\u001b[0m\u001b[2;36m \u001b[0mNew file to index: cong_2017_trypsin-ligand.pdf\u001b[33m...\u001b[0m                                                      \n"
      ]
     },
     "metadata": {},
     "output_type": "display_data"
    },
    {
     "data": {
      "text/html": [
       "<pre style=\"white-space:pre;overflow-x:auto;line-height:normal;font-family:Menlo,'DejaVu Sans Mono',consolas,'Courier New',monospace\"><span style=\"color: #7fbfbf; text-decoration-color: #7fbfbf\">           </span>New file to index:                                                                                      \n",
       "<span style=\"color: #7fbfbf; text-decoration-color: #7fbfbf\">           </span>mshirts%2C+<span style=\"color: #008080; text-decoration-color: #008080; font-weight: bold\">5957</span>-best-practices-for-foundations-in-molecular-simulations-article-v1-<span style=\"color: #008080; text-decoration-color: #008080; font-weight: bold\">0</span>+%<span style=\"color: #008080; text-decoration-color: #008080; font-weight: bold\">281</span>%<span style=\"color: #008080; text-decoration-color: #008080; font-weight: bold\">29.</span>pdf<span style=\"color: #808000; text-decoration-color: #808000\">...</span>     \n",
       "</pre>\n"
      ],
      "text/plain": [
       "\u001b[2;36m          \u001b[0m\u001b[2;36m \u001b[0mNew file to index:                                                                                      \n",
       "\u001b[2;36m           \u001b[0mmshirts%2C+\u001b[1;36m5957\u001b[0m-best-practices-for-foundations-in-molecular-simulations-article-v1-\u001b[1;36m0\u001b[0m+%\u001b[1;36m281\u001b[0m%\u001b[1;36m29.\u001b[0mpdf\u001b[33m...\u001b[0m     \n"
      ]
     },
     "metadata": {},
     "output_type": "display_data"
    },
    {
     "data": {
      "text/html": [
       "<pre style=\"white-space:pre;overflow-x:auto;line-height:normal;font-family:Menlo,'DejaVu Sans Mono',consolas,'Courier New',monospace\"><span style=\"color: #7fbfbf; text-decoration-color: #7fbfbf\">           </span>New file to index: liao_2014_fibronectin_sim.pdf<span style=\"color: #808000; text-decoration-color: #808000\">...</span>                                                     \n",
       "</pre>\n"
      ],
      "text/plain": [
       "\u001b[2;36m          \u001b[0m\u001b[2;36m \u001b[0mNew file to index: liao_2014_fibronectin_sim.pdf\u001b[33m...\u001b[0m                                                     \n"
      ]
     },
     "metadata": {},
     "output_type": "display_data"
    },
    {
     "data": {
      "text/html": [
       "<pre style=\"white-space:pre;overflow-x:auto;line-height:normal;font-family:Menlo,'DejaVu Sans Mono',consolas,'Courier New',monospace\"><span style=\"color: #7fbfbf; text-decoration-color: #7fbfbf\">           </span>New file to index: lemmon_2017_fibronectin.pdf<span style=\"color: #808000; text-decoration-color: #808000\">...</span>                                                       \n",
       "</pre>\n"
      ],
      "text/plain": [
       "\u001b[2;36m          \u001b[0m\u001b[2;36m \u001b[0mNew file to index: lemmon_2017_fibronectin.pdf\u001b[33m...\u001b[0m                                                       \n"
      ]
     },
     "metadata": {},
     "output_type": "display_data"
    },
    {
     "data": {
      "text/html": [
       "<pre style=\"white-space:pre;overflow-x:auto;line-height:normal;font-family:Menlo,'DejaVu Sans Mono',consolas,'Courier New',monospace\"><span style=\"color: #7fbfbf; text-decoration-color: #7fbfbf\">           </span>New file to index: clark_1985_hemoglobin.pdf<span style=\"color: #808000; text-decoration-color: #808000\">...</span>                                                         \n",
       "</pre>\n"
      ],
      "text/plain": [
       "\u001b[2;36m          \u001b[0m\u001b[2;36m \u001b[0mNew file to index: clark_1985_hemoglobin.pdf\u001b[33m...\u001b[0m                                                         \n"
      ]
     },
     "metadata": {},
     "output_type": "display_data"
    },
    {
     "data": {
      "text/html": [
       "<pre style=\"white-space:pre;overflow-x:auto;line-height:normal;font-family:Menlo,'DejaVu Sans Mono',consolas,'Courier New',monospace\"><span style=\"color: #7fbfbf; text-decoration-color: #7fbfbf\">           </span>New file to index: lucas_2012_hemoglobin_sim_SI.pdf<span style=\"color: #808000; text-decoration-color: #808000\">...</span>                                                  \n",
       "</pre>\n"
      ],
      "text/plain": [
       "\u001b[2;36m          \u001b[0m\u001b[2;36m \u001b[0mNew file to index: lucas_2012_hemoglobin_sim_SI.pdf\u001b[33m...\u001b[0m                                                  \n"
      ]
     },
     "metadata": {},
     "output_type": "display_data"
    },
    {
     "data": {
      "text/html": [
       "<pre style=\"white-space:pre;overflow-x:auto;line-height:normal;font-family:Menlo,'DejaVu Sans Mono',consolas,'Courier New',monospace\"><span style=\"color: #7fbfbf; text-decoration-color: #7fbfbf\">[23:54:36] </span>New file to index: hao_2021_fibronectin.pdf<span style=\"color: #808000; text-decoration-color: #808000\">...</span>                                                          \n",
       "</pre>\n"
      ],
      "text/plain": [
       "\u001b[2;36m[23:54:36]\u001b[0m\u001b[2;36m \u001b[0mNew file to index: hao_2021_fibronectin.pdf\u001b[33m...\u001b[0m                                                          \n"
      ]
     },
     "metadata": {},
     "output_type": "display_data"
    },
    {
     "data": {
      "text/html": [
       "<pre style=\"white-space:pre;overflow-x:auto;line-height:normal;font-family:Menlo,'DejaVu Sans Mono',consolas,'Courier New',monospace\"><span style=\"color: #7fbfbf; text-decoration-color: #7fbfbf\">           </span>New file to index: lucas_2012_hemoglobin_sim.pdf<span style=\"color: #808000; text-decoration-color: #808000\">...</span>                                                     \n",
       "</pre>\n"
      ],
      "text/plain": [
       "\u001b[2;36m          \u001b[0m\u001b[2;36m \u001b[0mNew file to index: lucas_2012_hemoglobin_sim.pdf\u001b[33m...\u001b[0m                                                     \n"
      ]
     },
     "metadata": {},
     "output_type": "display_data"
    },
    {
     "data": {
      "text/html": [
       "<pre style=\"white-space:pre;overflow-x:auto;line-height:normal;font-family:Menlo,'DejaVu Sans Mono',consolas,'Courier New',monospace\"><span style=\"color: #7fbfbf; text-decoration-color: #7fbfbf\">           </span>New file to index: raffaini-ganazzoli-<span style=\"color: #008080; text-decoration-color: #008080; font-weight: bold\">2004</span>-fibronectin_sim.pdf<span style=\"color: #808000; text-decoration-color: #808000\">...</span>                                       \n",
       "</pre>\n"
      ],
      "text/plain": [
       "\u001b[2;36m          \u001b[0m\u001b[2;36m \u001b[0mNew file to index: raffaini-ganazzoli-\u001b[1;36m2004\u001b[0m-fibronectin_sim.pdf\u001b[33m...\u001b[0m                                       \n"
      ]
     },
     "metadata": {},
     "output_type": "display_data"
    },
    {
     "data": {
      "text/html": [
       "<pre style=\"white-space:pre;overflow-x:auto;line-height:normal;font-family:Menlo,'DejaVu Sans Mono',consolas,'Courier New',monospace\"><span style=\"color: #7fbfbf; text-decoration-color: #7fbfbf\">           </span>New file to index: Vittaladevaram_2023_fibronectin.pdf<span style=\"color: #808000; text-decoration-color: #808000\">...</span>                                               \n",
       "</pre>\n"
      ],
      "text/plain": [
       "\u001b[2;36m          \u001b[0m\u001b[2;36m \u001b[0mNew file to index: Vittaladevaram_2023_fibronectin.pdf\u001b[33m...\u001b[0m                                               \n"
      ]
     },
     "metadata": {},
     "output_type": "display_data"
    },
    {
     "data": {
      "text/html": [
       "<pre style=\"white-space:pre;overflow-x:auto;line-height:normal;font-family:Menlo,'DejaVu Sans Mono',consolas,'Courier New',monospace\"><span style=\"color: #7fbfbf; text-decoration-color: #7fbfbf\">           </span>New file to index: sala_2018_proteinstability.pdf<span style=\"color: #808000; text-decoration-color: #808000\">...</span>                                                    \n",
       "</pre>\n"
      ],
      "text/plain": [
       "\u001b[2;36m          \u001b[0m\u001b[2;36m \u001b[0mNew file to index: sala_2018_proteinstability.pdf\u001b[33m...\u001b[0m                                                    \n"
      ]
     },
     "metadata": {},
     "output_type": "display_data"
    },
    {
     "data": {
      "text/html": [
       "<pre style=\"white-space:pre;overflow-x:auto;line-height:normal;font-family:Menlo,'DejaVu Sans Mono',consolas,'Courier New',monospace\"><span style=\"color: #7fbfbf; text-decoration-color: #7fbfbf\">[23:54:37] </span>New file to index: liamas_2018_fibronectin_1fnf.pdf<span style=\"color: #808000; text-decoration-color: #808000\">...</span>                                                  \n",
       "</pre>\n"
      ],
      "text/plain": [
       "\u001b[2;36m[23:54:37]\u001b[0m\u001b[2;36m \u001b[0mNew file to index: liamas_2018_fibronectin_1fnf.pdf\u001b[33m...\u001b[0m                                                  \n"
      ]
     },
     "metadata": {},
     "output_type": "display_data"
    },
    {
     "data": {
      "text/html": [
       "<pre style=\"white-space:pre;overflow-x:auto;line-height:normal;font-family:Menlo,'DejaVu Sans Mono',consolas,'Courier New',monospace\"><span style=\"color: #7fbfbf; text-decoration-color: #7fbfbf\">           </span>New file to index: sahoo-<span style=\"color: #008080; text-decoration-color: #008080; font-weight: bold\">2019</span>-unfolding-dynamics-of-ubiquitin.pdf<span style=\"color: #808000; text-decoration-color: #808000\">...</span>                                    \n",
       "</pre>\n"
      ],
      "text/plain": [
       "\u001b[2;36m          \u001b[0m\u001b[2;36m \u001b[0mNew file to index: sahoo-\u001b[1;36m2019\u001b[0m-unfolding-dynamics-of-ubiquitin.pdf\u001b[33m...\u001b[0m                                    \n"
      ]
     },
     "metadata": {},
     "output_type": "display_data"
    },
    {
     "data": {
      "text/html": [
       "<pre style=\"white-space:pre;overflow-x:auto;line-height:normal;font-family:Menlo,'DejaVu Sans Mono',consolas,'Courier New',monospace\"><span style=\"color: #7fbfbf; text-decoration-color: #7fbfbf\">           </span>New file to index: ganoth_2013_ubiquitin.pdf<span style=\"color: #808000; text-decoration-color: #808000\">...</span>                                                         \n",
       "</pre>\n"
      ],
      "text/plain": [
       "\u001b[2;36m          \u001b[0m\u001b[2;36m \u001b[0mNew file to index: ganoth_2013_ubiquitin.pdf\u001b[33m...\u001b[0m                                                         \n"
      ]
     },
     "metadata": {},
     "output_type": "display_data"
    },
    {
     "data": {
      "text/html": [
       "<pre style=\"white-space:pre;overflow-x:auto;line-height:normal;font-family:Menlo,'DejaVu Sans Mono',consolas,'Courier New',monospace\"><span style=\"color: #7fbfbf; text-decoration-color: #7fbfbf\">           </span>New file to index: dunkelberger-et-al-2018_hemoglobin.pdf<span style=\"color: #808000; text-decoration-color: #808000\">...</span>                                            \n",
       "</pre>\n"
      ],
      "text/plain": [
       "\u001b[2;36m          \u001b[0m\u001b[2;36m \u001b[0mNew file to index: dunkelberger-et-al-2018_hemoglobin.pdf\u001b[33m...\u001b[0m                                            \n"
      ]
     },
     "metadata": {},
     "output_type": "display_data"
    },
    {
     "data": {
      "text/html": [
       "<pre style=\"white-space:pre;overflow-x:auto;line-height:normal;font-family:Menlo,'DejaVu Sans Mono',consolas,'Courier New',monospace\"><span style=\"color: #7fbfbf; text-decoration-color: #7fbfbf\">           </span>New file to index: paci_1999_fibronectin_1fnf.pdf<span style=\"color: #808000; text-decoration-color: #808000\">...</span>                                                    \n",
       "</pre>\n"
      ],
      "text/plain": [
       "\u001b[2;36m          \u001b[0m\u001b[2;36m \u001b[0mNew file to index: paci_1999_fibronectin_1fnf.pdf\u001b[33m...\u001b[0m                                                    \n"
      ]
     },
     "metadata": {},
     "output_type": "display_data"
    },
    {
     "data": {
      "text/html": [
       "<pre style=\"white-space:pre;overflow-x:auto;line-height:normal;font-family:Menlo,'DejaVu Sans Mono',consolas,'Courier New',monospace\"><span style=\"color: #7fbfbf; text-decoration-color: #7fbfbf\">[23:54:38] </span>New file to index: mace_docs_2024.pdf<span style=\"color: #808000; text-decoration-color: #808000\">...</span>                                                                \n",
       "</pre>\n"
      ],
      "text/plain": [
       "\u001b[2;36m[23:54:38]\u001b[0m\u001b[2;36m \u001b[0mNew file to index: mace_docs_2024.pdf\u001b[33m...\u001b[0m                                                                \n"
      ]
     },
     "metadata": {},
     "output_type": "display_data"
    },
    {
     "data": {
      "text/html": [
       "<pre style=\"white-space:pre;overflow-x:auto;line-height:normal;font-family:Menlo,'DejaVu Sans Mono',consolas,'Courier New',monospace\"><span style=\"color: #7fbfbf; text-decoration-color: #7fbfbf\">           </span>New file to index: gee_2008_fibronectin_1fnf.pdf<span style=\"color: #808000; text-decoration-color: #808000\">...</span>                                                     \n",
       "</pre>\n"
      ],
      "text/plain": [
       "\u001b[2;36m          \u001b[0m\u001b[2;36m \u001b[0mNew file to index: gee_2008_fibronectin_1fnf.pdf\u001b[33m...\u001b[0m                                                     \n"
      ]
     },
     "metadata": {},
     "output_type": "display_data"
    },
    {
     "data": {
      "text/html": [
       "<pre style=\"white-space:pre;overflow-x:auto;line-height:normal;font-family:Menlo,'DejaVu Sans Mono',consolas,'Courier New',monospace\"><span style=\"color: #7fbfbf; text-decoration-color: #7fbfbf\">           </span>New file to index: laberge_2008_hemoglobin_sim.pdf<span style=\"color: #808000; text-decoration-color: #808000\">...</span>                                                   \n",
       "</pre>\n"
      ],
      "text/plain": [
       "\u001b[2;36m          \u001b[0m\u001b[2;36m \u001b[0mNew file to index: laberge_2008_hemoglobin_sim.pdf\u001b[33m...\u001b[0m                                                   \n"
      ]
     },
     "metadata": {},
     "output_type": "display_data"
    },
    {
     "data": {
      "text/html": [
       "<pre style=\"white-space:pre;overflow-x:auto;line-height:normal;font-family:Menlo,'DejaVu Sans Mono',consolas,'Courier New',monospace\"><span style=\"color: #7fbfbf; text-decoration-color: #7fbfbf\">           </span>New file to index: bringas_2017_hemoglobin.pdf<span style=\"color: #808000; text-decoration-color: #808000\">...</span>                                                       \n",
       "</pre>\n"
      ],
      "text/plain": [
       "\u001b[2;36m          \u001b[0m\u001b[2;36m \u001b[0mNew file to index: bringas_2017_hemoglobin.pdf\u001b[33m...\u001b[0m                                                       \n"
      ]
     },
     "metadata": {},
     "output_type": "display_data"
    },
    {
     "data": {
      "text/html": [
       "<pre style=\"white-space:pre;overflow-x:auto;line-height:normal;font-family:Menlo,'DejaVu Sans Mono',consolas,'Courier New',monospace\"><span style=\"color: #7fbfbf; text-decoration-color: #7fbfbf\">           </span>New file to index: hage_2018_hemoglobin_sim.pdf<span style=\"color: #808000; text-decoration-color: #808000\">...</span>                                                      \n",
       "</pre>\n"
      ],
      "text/plain": [
       "\u001b[2;36m          \u001b[0m\u001b[2;36m \u001b[0mNew file to index: hage_2018_hemoglobin_sim.pdf\u001b[33m...\u001b[0m                                                      \n"
      ]
     },
     "metadata": {},
     "output_type": "display_data"
    },
    {
     "data": {
      "text/html": [
       "<pre style=\"white-space:pre;overflow-x:auto;line-height:normal;font-family:Menlo,'DejaVu Sans Mono',consolas,'Courier New',monospace\"><span style=\"color: #7fbfbf; text-decoration-color: #7fbfbf\">           </span>New file to index: hage_2018_hemoglobin_sim_SI.pdf<span style=\"color: #808000; text-decoration-color: #808000\">...</span>                                                   \n",
       "</pre>\n"
      ],
      "text/plain": [
       "\u001b[2;36m          \u001b[0m\u001b[2;36m \u001b[0mNew file to index: hage_2018_hemoglobin_sim_SI.pdf\u001b[33m...\u001b[0m                                                   \n"
      ]
     },
     "metadata": {},
     "output_type": "display_data"
    },
    {
     "data": {
      "text/html": [
       "<pre style=\"white-space:pre;overflow-x:auto;line-height:normal;font-family:Menlo,'DejaVu Sans Mono',consolas,'Courier New',monospace\"><span style=\"color: #7fbfbf; text-decoration-color: #7fbfbf\">[23:54:41] </span>SEMANTIC_SCHOLAR_API_KEY environment variable not set. Semantic Scholar API rate limits may apply.      \n",
       "</pre>\n"
      ],
      "text/plain": [
       "\u001b[2;36m[23:54:41]\u001b[0m\u001b[2;36m \u001b[0mSEMANTIC_SCHOLAR_API_KEY environment variable not set. Semantic Scholar API rate limits may apply.      \n"
      ]
     },
     "metadata": {},
     "output_type": "display_data"
    },
    {
     "data": {
      "text/html": [
       "<pre style=\"white-space:pre;overflow-x:auto;line-height:normal;font-family:Menlo,'DejaVu Sans Mono',consolas,'Courier New',monospace\"><span style=\"color: #7fbfbf; text-decoration-color: #7fbfbf\">           </span>CROSSREF_MAILTO environment variable not set. Crossref API rate limits may apply.                       \n",
       "</pre>\n"
      ],
      "text/plain": [
       "\u001b[2;36m          \u001b[0m\u001b[2;36m \u001b[0mCROSSREF_MAILTO environment variable not set. Crossref API rate limits may apply.                       \n"
      ]
     },
     "metadata": {},
     "output_type": "display_data"
    },
    {
     "data": {
      "text/html": [
       "<pre style=\"white-space:pre;overflow-x:auto;line-height:normal;font-family:Menlo,'DejaVu Sans Mono',consolas,'Courier New',monospace\"><span style=\"color: #7fbfbf; text-decoration-color: #7fbfbf\">           </span>CROSSREF_API_KEY environment variable not set. Crossref API rate limits may apply.                      \n",
       "</pre>\n"
      ],
      "text/plain": [
       "\u001b[2;36m          \u001b[0m\u001b[2;36m \u001b[0mCROSSREF_API_KEY environment variable not set. Crossref API rate limits may apply.                      \n"
      ]
     },
     "metadata": {},
     "output_type": "display_data"
    },
    {
     "data": {
      "text/html": [
       "<pre style=\"white-space:pre;overflow-x:auto;line-height:normal;font-family:Menlo,'DejaVu Sans Mono',consolas,'Courier New',monospace\"><span style=\"color: #7fbfbf; text-decoration-color: #7fbfbf\">           </span>SEMANTIC_SCHOLAR_API_KEY environment variable not set. Semantic Scholar API rate limits may apply.      \n",
       "</pre>\n"
      ],
      "text/plain": [
       "\u001b[2;36m          \u001b[0m\u001b[2;36m \u001b[0mSEMANTIC_SCHOLAR_API_KEY environment variable not set. Semantic Scholar API rate limits may apply.      \n"
      ]
     },
     "metadata": {},
     "output_type": "display_data"
    },
    {
     "data": {
      "text/html": [
       "<pre style=\"white-space:pre;overflow-x:auto;line-height:normal;font-family:Menlo,'DejaVu Sans Mono',consolas,'Courier New',monospace\"><span style=\"color: #7fbfbf; text-decoration-color: #7fbfbf\">           </span>SEMANTIC_SCHOLAR_API_KEY environment variable not set. Semantic Scholar API rate limits may apply.      \n",
       "</pre>\n"
      ],
      "text/plain": [
       "\u001b[2;36m          \u001b[0m\u001b[2;36m \u001b[0mSEMANTIC_SCHOLAR_API_KEY environment variable not set. Semantic Scholar API rate limits may apply.      \n"
      ]
     },
     "metadata": {},
     "output_type": "display_data"
    },
    {
     "data": {
      "text/html": [
       "<pre style=\"white-space:pre;overflow-x:auto;line-height:normal;font-family:Menlo,'DejaVu Sans Mono',consolas,'Courier New',monospace\"><span style=\"color: #7fbfbf; text-decoration-color: #7fbfbf\">           </span>SEMANTIC_SCHOLAR_API_KEY environment variable not set. Semantic Scholar API rate limits may apply.      \n",
       "</pre>\n"
      ],
      "text/plain": [
       "\u001b[2;36m          \u001b[0m\u001b[2;36m \u001b[0mSEMANTIC_SCHOLAR_API_KEY environment variable not set. Semantic Scholar API rate limits may apply.      \n"
      ]
     },
     "metadata": {},
     "output_type": "display_data"
    },
    {
     "data": {
      "text/html": [
       "<pre style=\"white-space:pre;overflow-x:auto;line-height:normal;font-family:Menlo,'DejaVu Sans Mono',consolas,'Courier New',monospace\"><span style=\"color: #7fbfbf; text-decoration-color: #7fbfbf\">[23:54:42] </span>SEMANTIC_SCHOLAR_API_KEY environment variable not set. Semantic Scholar API rate limits may apply.      \n",
       "</pre>\n"
      ],
      "text/plain": [
       "\u001b[2;36m[23:54:42]\u001b[0m\u001b[2;36m \u001b[0mSEMANTIC_SCHOLAR_API_KEY environment variable not set. Semantic Scholar API rate limits may apply.      \n"
      ]
     },
     "metadata": {},
     "output_type": "display_data"
    },
    {
     "data": {
      "text/html": [
       "<pre style=\"white-space:pre;overflow-x:auto;line-height:normal;font-family:Menlo,'DejaVu Sans Mono',consolas,'Courier New',monospace\"><span style=\"color: #7fbfbf; text-decoration-color: #7fbfbf\">           </span>SEMANTIC_SCHOLAR_API_KEY environment variable not set. Semantic Scholar API rate limits may apply.      \n",
       "</pre>\n"
      ],
      "text/plain": [
       "\u001b[2;36m          \u001b[0m\u001b[2;36m \u001b[0mSEMANTIC_SCHOLAR_API_KEY environment variable not set. Semantic Scholar API rate limits may apply.      \n"
      ]
     },
     "metadata": {},
     "output_type": "display_data"
    },
    {
     "data": {
      "text/html": [
       "<pre style=\"white-space:pre;overflow-x:auto;line-height:normal;font-family:Menlo,'DejaVu Sans Mono',consolas,'Courier New',monospace\"><span style=\"color: #7fbfbf; text-decoration-color: #7fbfbf\">           </span>Metadata not found for Oxygen Delivery from Red Cells in SemanticScholarProvider.                       \n",
       "</pre>\n"
      ],
      "text/plain": [
       "\u001b[2;36m          \u001b[0m\u001b[2;36m \u001b[0mMetadata not found for Oxygen Delivery from Red Cells in SemanticScholarProvider.                       \n"
      ]
     },
     "metadata": {},
     "output_type": "display_data"
    },
    {
     "data": {
      "text/html": [
       "<pre style=\"white-space:pre;overflow-x:auto;line-height:normal;font-family:Menlo,'DejaVu Sans Mono',consolas,'Courier New',monospace\"><span style=\"color: #7fbfbf; text-decoration-color: #7fbfbf\">           </span>SEMANTIC_SCHOLAR_API_KEY environment variable not set. Semantic Scholar API rate limits may apply.      \n",
       "</pre>\n"
      ],
      "text/plain": [
       "\u001b[2;36m          \u001b[0m\u001b[2;36m \u001b[0mSEMANTIC_SCHOLAR_API_KEY environment variable not set. Semantic Scholar API rate limits may apply.      \n"
      ]
     },
     "metadata": {},
     "output_type": "display_data"
    },
    {
     "data": {
      "text/html": [
       "<pre style=\"white-space:pre;overflow-x:auto;line-height:normal;font-family:Menlo,'DejaVu Sans Mono',consolas,'Courier New',monospace\"><span style=\"color: #7fbfbf; text-decoration-color: #7fbfbf\">           </span>SEMANTIC_SCHOLAR_API_KEY environment variable not set. Semantic Scholar API rate limits may apply.      \n",
       "</pre>\n"
      ],
      "text/plain": [
       "\u001b[2;36m          \u001b[0m\u001b[2;36m \u001b[0mSEMANTIC_SCHOLAR_API_KEY environment variable not set. Semantic Scholar API rate limits may apply.      \n"
      ]
     },
     "metadata": {},
     "output_type": "display_data"
    },
    {
     "data": {
      "text/html": [
       "<pre style=\"white-space:pre;overflow-x:auto;line-height:normal;font-family:Menlo,'DejaVu Sans Mono',consolas,'Courier New',monospace\"><span style=\"color: #7fbfbf; text-decoration-color: #7fbfbf\">           </span>SEMANTIC_SCHOLAR_API_KEY environment variable not set. Semantic Scholar API rate limits may apply.      \n",
       "</pre>\n"
      ],
      "text/plain": [
       "\u001b[2;36m          \u001b[0m\u001b[2;36m \u001b[0mSEMANTIC_SCHOLAR_API_KEY environment variable not set. Semantic Scholar API rate limits may apply.      \n"
      ]
     },
     "metadata": {},
     "output_type": "display_data"
    },
    {
     "data": {
      "text/html": [
       "<pre style=\"white-space:pre;overflow-x:auto;line-height:normal;font-family:Menlo,'DejaVu Sans Mono',consolas,'Courier New',monospace\"><span style=\"color: #7fbfbf; text-decoration-color: #7fbfbf\">           </span>Metadata not found for Best Practices for Foundations in Molecular Simulations <span style=\"font-weight: bold\">[</span>Article v1.<span style=\"color: #008080; text-decoration-color: #008080; font-weight: bold\">0</span><span style=\"font-weight: bold\">]</span> in        \n",
       "<span style=\"color: #7fbfbf; text-decoration-color: #7fbfbf\">           </span>SemanticScholarProvider.                                                                                \n",
       "</pre>\n"
      ],
      "text/plain": [
       "\u001b[2;36m          \u001b[0m\u001b[2;36m \u001b[0mMetadata not found for Best Practices for Foundations in Molecular Simulations \u001b[1m[\u001b[0mArticle v1.\u001b[1;36m0\u001b[0m\u001b[1m]\u001b[0m in        \n",
       "\u001b[2;36m           \u001b[0mSemanticScholarProvider.                                                                                \n"
      ]
     },
     "metadata": {},
     "output_type": "display_data"
    },
    {
     "data": {
      "text/html": [
       "<pre style=\"white-space:pre;overflow-x:auto;line-height:normal;font-family:Menlo,'DejaVu Sans Mono',consolas,'Courier New',monospace\"><span style=\"color: #7fbfbf; text-decoration-color: #7fbfbf\">[23:54:43] </span>SEMANTIC_SCHOLAR_API_KEY environment variable not set. Semantic Scholar API rate limits may apply.      \n",
       "</pre>\n"
      ],
      "text/plain": [
       "\u001b[2;36m[23:54:43]\u001b[0m\u001b[2;36m \u001b[0mSEMANTIC_SCHOLAR_API_KEY environment variable not set. Semantic Scholar API rate limits may apply.      \n"
      ]
     },
     "metadata": {},
     "output_type": "display_data"
    },
    {
     "data": {
      "text/html": [
       "<pre style=\"white-space:pre;overflow-x:auto;line-height:normal;font-family:Menlo,'DejaVu Sans Mono',consolas,'Courier New',monospace\"><span style=\"color: #7fbfbf; text-decoration-color: #7fbfbf\">           </span>Metadata not found for An Atomistic View on Human Hemoglobin Carbon Monoxide Migration Processes in     \n",
       "<span style=\"color: #7fbfbf; text-decoration-color: #7fbfbf\">           </span>SemanticScholarProvider.                                                                                \n",
       "</pre>\n"
      ],
      "text/plain": [
       "\u001b[2;36m          \u001b[0m\u001b[2;36m \u001b[0mMetadata not found for An Atomistic View on Human Hemoglobin Carbon Monoxide Migration Processes in     \n",
       "\u001b[2;36m           \u001b[0mSemanticScholarProvider.                                                                                \n"
      ]
     },
     "metadata": {},
     "output_type": "display_data"
    },
    {
     "data": {
      "text/html": [
       "<pre style=\"white-space:pre;overflow-x:auto;line-height:normal;font-family:Menlo,'DejaVu Sans Mono',consolas,'Courier New',monospace\"><span style=\"color: #7fbfbf; text-decoration-color: #7fbfbf\">           </span>Metadata not found for Trypsin-Ligand binding affinities calculated using an effective interaction      \n",
       "<span style=\"color: #7fbfbf; text-decoration-color: #7fbfbf\">           </span>entropy method under polarized force field in SemanticScholarProvider.                                  \n",
       "</pre>\n"
      ],
      "text/plain": [
       "\u001b[2;36m          \u001b[0m\u001b[2;36m \u001b[0mMetadata not found for Trypsin-Ligand binding affinities calculated using an effective interaction      \n",
       "\u001b[2;36m           \u001b[0mentropy method under polarized force field in SemanticScholarProvider.                                  \n"
      ]
     },
     "metadata": {},
     "output_type": "display_data"
    },
    {
     "data": {
      "text/html": [
       "<pre style=\"white-space:pre;overflow-x:auto;line-height:normal;font-family:Menlo,'DejaVu Sans Mono',consolas,'Courier New',monospace\"><span style=\"color: #7fbfbf; text-decoration-color: #7fbfbf\">           </span>SEMANTIC_SCHOLAR_API_KEY environment variable not set. Semantic Scholar API rate limits may apply.      \n",
       "</pre>\n"
      ],
      "text/plain": [
       "\u001b[2;36m          \u001b[0m\u001b[2;36m \u001b[0mSEMANTIC_SCHOLAR_API_KEY environment variable not set. Semantic Scholar API rate limits may apply.      \n"
      ]
     },
     "metadata": {},
     "output_type": "display_data"
    },
    {
     "data": {
      "text/html": [
       "<pre style=\"white-space:pre;overflow-x:auto;line-height:normal;font-family:Menlo,'DejaVu Sans Mono',consolas,'Courier New',monospace\"><span style=\"color: #7fbfbf; text-decoration-color: #7fbfbf\">           </span>SEMANTIC_SCHOLAR_API_KEY environment variable not set. Semantic Scholar API rate limits may apply.      \n",
       "</pre>\n"
      ],
      "text/plain": [
       "\u001b[2;36m          \u001b[0m\u001b[2;36m \u001b[0mSEMANTIC_SCHOLAR_API_KEY environment variable not set. Semantic Scholar API rate limits may apply.      \n"
      ]
     },
     "metadata": {},
     "output_type": "display_data"
    },
    {
     "data": {
      "text/html": [
       "<pre style=\"white-space:pre;overflow-x:auto;line-height:normal;font-family:Menlo,'DejaVu Sans Mono',consolas,'Courier New',monospace\"><span style=\"color: #7fbfbf; text-decoration-color: #7fbfbf\">           </span>SEMANTIC_SCHOLAR_API_KEY environment variable not set. Semantic Scholar API rate limits may apply.      \n",
       "</pre>\n"
      ],
      "text/plain": [
       "\u001b[2;36m          \u001b[0m\u001b[2;36m \u001b[0mSEMANTIC_SCHOLAR_API_KEY environment variable not set. Semantic Scholar API rate limits may apply.      \n"
      ]
     },
     "metadata": {},
     "output_type": "display_data"
    },
    {
     "data": {
      "text/html": [
       "<pre style=\"white-space:pre;overflow-x:auto;line-height:normal;font-family:Menlo,'DejaVu Sans Mono',consolas,'Courier New',monospace\"><span style=\"color: #7fbfbf; text-decoration-color: #7fbfbf\">           </span>SEMANTIC_SCHOLAR_API_KEY environment variable not set. Semantic Scholar API rate limits may apply.      \n",
       "</pre>\n"
      ],
      "text/plain": [
       "\u001b[2;36m          \u001b[0m\u001b[2;36m \u001b[0mSEMANTIC_SCHOLAR_API_KEY environment variable not set. Semantic Scholar API rate limits may apply.      \n"
      ]
     },
     "metadata": {},
     "output_type": "display_data"
    },
    {
     "data": {
      "text/html": [
       "<pre style=\"white-space:pre;overflow-x:auto;line-height:normal;font-family:Menlo,'DejaVu Sans Mono',consolas,'Courier New',monospace\"><span style=\"color: #7fbfbf; text-decoration-color: #7fbfbf\">           </span>SEMANTIC_SCHOLAR_API_KEY environment variable not set. Semantic Scholar API rate limits may apply.      \n",
       "</pre>\n"
      ],
      "text/plain": [
       "\u001b[2;36m          \u001b[0m\u001b[2;36m \u001b[0mSEMANTIC_SCHOLAR_API_KEY environment variable not set. Semantic Scholar API rate limits may apply.      \n"
      ]
     },
     "metadata": {},
     "output_type": "display_data"
    },
    {
     "data": {
      "text/html": [
       "<pre style=\"white-space:pre;overflow-x:auto;line-height:normal;font-family:Menlo,'DejaVu Sans Mono',consolas,'Courier New',monospace\"><span style=\"color: #7fbfbf; text-decoration-color: #7fbfbf\">           </span>SEMANTIC_SCHOLAR_API_KEY environment variable not set. Semantic Scholar API rate limits may apply.      \n",
       "</pre>\n"
      ],
      "text/plain": [
       "\u001b[2;36m          \u001b[0m\u001b[2;36m \u001b[0mSEMANTIC_SCHOLAR_API_KEY environment variable not set. Semantic Scholar API rate limits may apply.      \n"
      ]
     },
     "metadata": {},
     "output_type": "display_data"
    },
    {
     "data": {
      "text/html": [
       "<pre style=\"white-space:pre;overflow-x:auto;line-height:normal;font-family:Menlo,'DejaVu Sans Mono',consolas,'Courier New',monospace\"><span style=\"color: #7fbfbf; text-decoration-color: #7fbfbf\">           </span>SEMANTIC_SCHOLAR_API_KEY environment variable not set. Semantic Scholar API rate limits may apply.      \n",
       "</pre>\n"
      ],
      "text/plain": [
       "\u001b[2;36m          \u001b[0m\u001b[2;36m \u001b[0mSEMANTIC_SCHOLAR_API_KEY environment variable not set. Semantic Scholar API rate limits may apply.      \n"
      ]
     },
     "metadata": {},
     "output_type": "display_data"
    },
    {
     "data": {
      "text/html": [
       "<pre style=\"white-space:pre;overflow-x:auto;line-height:normal;font-family:Menlo,'DejaVu Sans Mono',consolas,'Courier New',monospace\"><span style=\"color: #7fbfbf; text-decoration-color: #7fbfbf\">           </span>Metadata not found for <span style=\"color: #008080; text-decoration-color: #008080; font-weight: bold\">10.1021</span>/la035661z in SemanticScholarProvider.                                    \n",
       "</pre>\n"
      ],
      "text/plain": [
       "\u001b[2;36m          \u001b[0m\u001b[2;36m \u001b[0mMetadata not found for \u001b[1;36m10.1021\u001b[0m/la035661z in SemanticScholarProvider.                                    \n"
      ]
     },
     "metadata": {},
     "output_type": "display_data"
    },
    {
     "data": {
      "text/html": [
       "<pre style=\"white-space:pre;overflow-x:auto;line-height:normal;font-family:Menlo,'DejaVu Sans Mono',consolas,'Courier New',monospace\"><span style=\"color: #7fbfbf; text-decoration-color: #7fbfbf\">           </span>Metadata not found for <span style=\"color: #008080; text-decoration-color: #008080; font-weight: bold\">10.1021</span>/acs.jpcb.8b07094 in SemanticScholarProvider.                             \n",
       "</pre>\n"
      ],
      "text/plain": [
       "\u001b[2;36m          \u001b[0m\u001b[2;36m \u001b[0mMetadata not found for \u001b[1;36m10.1021\u001b[0m/acs.jpcb.8b07094 in SemanticScholarProvider.                             \n"
      ]
     },
     "metadata": {},
     "output_type": "display_data"
    },
    {
     "data": {
      "text/html": [
       "<pre style=\"white-space:pre;overflow-x:auto;line-height:normal;font-family:Menlo,'DejaVu Sans Mono',consolas,'Courier New',monospace\"><span style=\"color: #7fbfbf; text-decoration-color: #7fbfbf\">           </span>Metadata not found for <span style=\"color: #008080; text-decoration-color: #008080; font-weight: bold\">10.1021</span>/acs.jpcb.8b10860 in SemanticScholarProvider.                             \n",
       "</pre>\n"
      ],
      "text/plain": [
       "\u001b[2;36m          \u001b[0m\u001b[2;36m \u001b[0mMetadata not found for \u001b[1;36m10.1021\u001b[0m/acs.jpcb.8b10860 in SemanticScholarProvider.                             \n"
      ]
     },
     "metadata": {},
     "output_type": "display_data"
    },
    {
     "data": {
      "text/html": [
       "<pre style=\"white-space:pre;overflow-x:auto;line-height:normal;font-family:Menlo,'DejaVu Sans Mono',consolas,'Courier New',monospace\"><span style=\"color: #7fbfbf; text-decoration-color: #7fbfbf\">[23:54:44] </span>Metadata not found for Oxygen Delivery from Red Cells in CrossrefProvider.                              \n",
       "</pre>\n"
      ],
      "text/plain": [
       "\u001b[2;36m[23:54:44]\u001b[0m\u001b[2;36m \u001b[0mMetadata not found for Oxygen Delivery from Red Cells in CrossrefProvider.                              \n"
      ]
     },
     "metadata": {},
     "output_type": "display_data"
    },
    {
     "data": {
      "text/html": [
       "<pre style=\"white-space:pre;overflow-x:auto;line-height:normal;font-family:Menlo,'DejaVu Sans Mono',consolas,'Courier New',monospace\"><span style=\"color: #7fbfbf; text-decoration-color: #7fbfbf\">           </span>Metadata not found for Molecular Dynamics Simulations of Hemoglobin A in Different States and Bound to  \n",
       "<span style=\"color: #7fbfbf; text-decoration-color: #7fbfbf\">           </span>DPG: Effector-Linked Perturbation of Tertiary Conformations and HbA Concerted Dynamics in               \n",
       "<span style=\"color: #7fbfbf; text-decoration-color: #7fbfbf\">           </span>SemanticScholarProvider.                                                                                \n",
       "</pre>\n"
      ],
      "text/plain": [
       "\u001b[2;36m          \u001b[0m\u001b[2;36m \u001b[0mMetadata not found for Molecular Dynamics Simulations of Hemoglobin A in Different States and Bound to  \n",
       "\u001b[2;36m           \u001b[0mDPG: Effector-Linked Perturbation of Tertiary Conformations and HbA Concerted Dynamics in               \n",
       "\u001b[2;36m           \u001b[0mSemanticScholarProvider.                                                                                \n"
      ]
     },
     "metadata": {},
     "output_type": "display_data"
    },
    {
     "data": {
      "text/html": [
       "<pre style=\"white-space:pre;overflow-x:auto;line-height:normal;font-family:Menlo,'DejaVu Sans Mono',consolas,'Courier New',monospace\"><span style=\"color: #7fbfbf; text-decoration-color: #7fbfbf\">           </span>Metadata not found for Forced Unfolding of Fibronectin Type <span style=\"color: #008080; text-decoration-color: #008080; font-weight: bold\">3</span> Modules: An Analysis by Biased Molecular  \n",
       "<span style=\"color: #7fbfbf; text-decoration-color: #7fbfbf\">           </span>Dynamics Simulations in SemanticScholarProvider.                                                        \n",
       "</pre>\n"
      ],
      "text/plain": [
       "\u001b[2;36m          \u001b[0m\u001b[2;36m \u001b[0mMetadata not found for Forced Unfolding of Fibronectin Type \u001b[1;36m3\u001b[0m Modules: An Analysis by Biased Molecular  \n",
       "\u001b[2;36m           \u001b[0mDynamics Simulations in SemanticScholarProvider.                                                        \n"
      ]
     },
     "metadata": {},
     "output_type": "display_data"
    },
    {
     "data": {
      "text/html": [
       "<pre style=\"white-space:pre;overflow-x:auto;line-height:normal;font-family:Menlo,'DejaVu Sans Mono',consolas,'Courier New',monospace\"><span style=\"color: #7fbfbf; text-decoration-color: #7fbfbf\">           </span>Complete <span style=\"font-weight: bold\">(</span>hage_2018_hemoglobin_sim_SI.pdf<span style=\"font-weight: bold\">)</span>.                                                             \n",
       "</pre>\n"
      ],
      "text/plain": [
       "\u001b[2;36m          \u001b[0m\u001b[2;36m \u001b[0mComplete \u001b[1m(\u001b[0mhage_2018_hemoglobin_sim_SI.pdf\u001b[1m)\u001b[0m.                                                             \n"
      ]
     },
     "metadata": {},
     "output_type": "display_data"
    },
    {
     "data": {
      "text/html": [
       "<pre style=\"white-space:pre;overflow-x:auto;line-height:normal;font-family:Menlo,'DejaVu Sans Mono',consolas,'Courier New',monospace\"><span style=\"color: #7fbfbf; text-decoration-color: #7fbfbf\">           </span>Metadata not found for Dissecting Structural Aspects of Protein Stability in SemanticScholarProvider.   \n",
       "</pre>\n"
      ],
      "text/plain": [
       "\u001b[2;36m          \u001b[0m\u001b[2;36m \u001b[0mMetadata not found for Dissecting Structural Aspects of Protein Stability in SemanticScholarProvider.   \n"
      ]
     },
     "metadata": {},
     "output_type": "display_data"
    },
    {
     "data": {
      "text/html": [
       "<pre style=\"white-space:pre;overflow-x:auto;line-height:normal;font-family:Menlo,'DejaVu Sans Mono',consolas,'Courier New',monospace\"><span style=\"color: #7fbfbf; text-decoration-color: #7fbfbf\">           </span>Metadata not found for Predicting stable binding modes from simulated dimers of the D76N mutant of      \n",
       "<span style=\"color: #7fbfbf; text-decoration-color: #7fbfbf\">           </span>β2-microglobulin in SemanticScholarProvider.                                                            \n",
       "</pre>\n"
      ],
      "text/plain": [
       "\u001b[2;36m          \u001b[0m\u001b[2;36m \u001b[0mMetadata not found for Predicting stable binding modes from simulated dimers of the D76N mutant of      \n",
       "\u001b[2;36m           \u001b[0mβ2-microglobulin in SemanticScholarProvider.                                                            \n"
      ]
     },
     "metadata": {},
     "output_type": "display_data"
    },
    {
     "data": {
      "text/html": [
       "<pre style=\"white-space:pre;overflow-x:auto;line-height:normal;font-family:Menlo,'DejaVu Sans Mono',consolas,'Courier New',monospace\"><span style=\"color: #7fbfbf; text-decoration-color: #7fbfbf\">           </span>Metadata not found for Mechanistic insights into the adsorption and bioactivity of fibronectin on       \n",
       "<span style=\"color: #7fbfbf; text-decoration-color: #7fbfbf\">           </span>surfaces with varying chemistries by a combination of experimental strategies and molecular simulations \n",
       "<span style=\"color: #7fbfbf; text-decoration-color: #7fbfbf\">           </span>in SemanticScholarProvider.                                                                             \n",
       "</pre>\n"
      ],
      "text/plain": [
       "\u001b[2;36m          \u001b[0m\u001b[2;36m \u001b[0mMetadata not found for Mechanistic insights into the adsorption and bioactivity of fibronectin on       \n",
       "\u001b[2;36m           \u001b[0msurfaces with varying chemistries by a combination of experimental strategies and molecular simulations \n",
       "\u001b[2;36m           \u001b[0min SemanticScholarProvider.                                                                             \n"
      ]
     },
     "metadata": {},
     "output_type": "display_data"
    },
    {
     "data": {
      "text/html": [
       "<pre style=\"white-space:pre;overflow-x:auto;line-height:normal;font-family:Menlo,'DejaVu Sans Mono',consolas,'Courier New',monospace\"><span style=\"color: #7fbfbf; text-decoration-color: #7fbfbf\">           </span>Metadata not found for Supporting Information: An Atomistic View on Human Hemoglobin Carbon Monoxide    \n",
       "<span style=\"color: #7fbfbf; text-decoration-color: #7fbfbf\">           </span>Migration Processes in SemanticScholarProvider.                                                         \n",
       "</pre>\n"
      ],
      "text/plain": [
       "\u001b[2;36m          \u001b[0m\u001b[2;36m \u001b[0mMetadata not found for Supporting Information: An Atomistic View on Human Hemoglobin Carbon Monoxide    \n",
       "\u001b[2;36m           \u001b[0mMigration Processes in SemanticScholarProvider.                                                         \n"
      ]
     },
     "metadata": {},
     "output_type": "display_data"
    },
    {
     "data": {
      "text/html": [
       "<pre style=\"white-space:pre;overflow-x:auto;line-height:normal;font-family:Menlo,'DejaVu Sans Mono',consolas,'Courier New',monospace\"><span style=\"color: #7fbfbf; text-decoration-color: #7fbfbf\">           </span>SEMANTIC_SCHOLAR_API_KEY environment variable not set. Semantic Scholar API rate limits may apply.      \n",
       "</pre>\n"
      ],
      "text/plain": [
       "\u001b[2;36m          \u001b[0m\u001b[2;36m \u001b[0mSEMANTIC_SCHOLAR_API_KEY environment variable not set. Semantic Scholar API rate limits may apply.      \n"
      ]
     },
     "metadata": {},
     "output_type": "display_data"
    },
    {
     "data": {
      "text/html": [
       "<pre style=\"white-space:pre;overflow-x:auto;line-height:normal;font-family:Menlo,'DejaVu Sans Mono',consolas,'Courier New',monospace\"><span style=\"color: #7fbfbf; text-decoration-color: #7fbfbf\">           </span>Complete <span style=\"font-weight: bold\">(</span>morand_2021_b2m_2yxf.pdf<span style=\"font-weight: bold\">)</span>.                                                                    \n",
       "</pre>\n"
      ],
      "text/plain": [
       "\u001b[2;36m          \u001b[0m\u001b[2;36m \u001b[0mComplete \u001b[1m(\u001b[0mmorand_2021_b2m_2yxf.pdf\u001b[1m)\u001b[0m.                                                                    \n"
      ]
     },
     "metadata": {},
     "output_type": "display_data"
    },
    {
     "data": {
      "text/html": [
       "<pre style=\"white-space:pre;overflow-x:auto;line-height:normal;font-family:Menlo,'DejaVu Sans Mono',consolas,'Courier New',monospace\"><span style=\"color: #7fbfbf; text-decoration-color: #7fbfbf\">           </span>Complete <span style=\"font-weight: bold\">(</span>Vittaladevaram_2023_fibronectin.pdf<span style=\"font-weight: bold\">)</span>.                                                         \n",
       "</pre>\n"
      ],
      "text/plain": [
       "\u001b[2;36m          \u001b[0m\u001b[2;36m \u001b[0mComplete \u001b[1m(\u001b[0mVittaladevaram_2023_fibronectin.pdf\u001b[1m)\u001b[0m.                                                         \n"
      ]
     },
     "metadata": {},
     "output_type": "display_data"
    },
    {
     "data": {
      "text/html": [
       "<pre style=\"white-space:pre;overflow-x:auto;line-height:normal;font-family:Menlo,'DejaVu Sans Mono',consolas,'Courier New',monospace\"><span style=\"color: #7fbfbf; text-decoration-color: #7fbfbf\">[23:54:45] </span>Complete <span style=\"font-weight: bold\">(</span>mace_docs_2024.pdf<span style=\"font-weight: bold\">)</span>.                                                                          \n",
       "</pre>\n"
      ],
      "text/plain": [
       "\u001b[2;36m[23:54:45]\u001b[0m\u001b[2;36m \u001b[0mComplete \u001b[1m(\u001b[0mmace_docs_2024.pdf\u001b[1m)\u001b[0m.                                                                          \n"
      ]
     },
     "metadata": {},
     "output_type": "display_data"
    },
    {
     "data": {
      "text/html": [
       "<pre style=\"white-space:pre;overflow-x:auto;line-height:normal;font-family:Menlo,'DejaVu Sans Mono',consolas,'Courier New',monospace\"><span style=\"color: #7fbfbf; text-decoration-color: #7fbfbf\">           </span>Complete <span style=\"font-weight: bold\">(</span>liamas_2018_fibronectin_1fnf.pdf<span style=\"font-weight: bold\">)</span>.                                                            \n",
       "</pre>\n"
      ],
      "text/plain": [
       "\u001b[2;36m          \u001b[0m\u001b[2;36m \u001b[0mComplete \u001b[1m(\u001b[0mliamas_2018_fibronectin_1fnf.pdf\u001b[1m)\u001b[0m.                                                            \n"
      ]
     },
     "metadata": {},
     "output_type": "display_data"
    },
    {
     "data": {
      "text/html": [
       "<pre style=\"white-space:pre;overflow-x:auto;line-height:normal;font-family:Menlo,'DejaVu Sans Mono',consolas,'Courier New',monospace\"><span style=\"color: #7fbfbf; text-decoration-color: #7fbfbf\">           </span>Complete <span style=\"font-weight: bold\">(</span>Oxygen Delivery from Red Cells<span style=\"font-weight: bold\">)</span>.                                                              \n",
       "</pre>\n"
      ],
      "text/plain": [
       "\u001b[2;36m          \u001b[0m\u001b[2;36m \u001b[0mComplete \u001b[1m(\u001b[0mOxygen Delivery from Red Cells\u001b[1m)\u001b[0m.                                                              \n"
      ]
     },
     "metadata": {},
     "output_type": "display_data"
    },
    {
     "data": {
      "text/html": [
       "<pre style=\"white-space:pre;overflow-x:auto;line-height:normal;font-family:Menlo,'DejaVu Sans Mono',consolas,'Courier New',monospace\"><span style=\"color: #7fbfbf; text-decoration-color: #7fbfbf\">[23:54:47] </span>Complete <span style=\"font-weight: bold\">(</span>ganoth_2013_ubiquitin.pdf<span style=\"font-weight: bold\">)</span>.                                                                   \n",
       "</pre>\n"
      ],
      "text/plain": [
       "\u001b[2;36m[23:54:47]\u001b[0m\u001b[2;36m \u001b[0mComplete \u001b[1m(\u001b[0mganoth_2013_ubiquitin.pdf\u001b[1m)\u001b[0m.                                                                   \n"
      ]
     },
     "metadata": {},
     "output_type": "display_data"
    },
    {
     "data": {
      "text/html": [
       "<pre style=\"white-space:pre;overflow-x:auto;line-height:normal;font-family:Menlo,'DejaVu Sans Mono',consolas,'Courier New',monospace\"><span style=\"color: #7fbfbf; text-decoration-color: #7fbfbf\">           </span>Request to CrossrefProvider for Tertiary and quaternary structural basis of oxygen affinity in human    \n",
       "<span style=\"color: #7fbfbf; text-decoration-color: #7fbfbf\">           </span>hemoglobin as revealed by multiscale simulations timed out.                                             \n",
       "</pre>\n"
      ],
      "text/plain": [
       "\u001b[2;36m          \u001b[0m\u001b[2;36m \u001b[0mRequest to CrossrefProvider for Tertiary and quaternary structural basis of oxygen affinity in human    \n",
       "\u001b[2;36m           \u001b[0mhemoglobin as revealed by multiscale simulations timed out.                                             \n"
      ]
     },
     "metadata": {},
     "output_type": "display_data"
    },
    {
     "data": {
      "text/html": [
       "<pre style=\"white-space:pre;overflow-x:auto;line-height:normal;font-family:Menlo,'DejaVu Sans Mono',consolas,'Courier New',monospace\"><span style=\"color: #7fbfbf; text-decoration-color: #7fbfbf\">           </span>Request to CrossrefProvider for <span style=\"color: #008080; text-decoration-color: #008080; font-weight: bold\">10.1039</span>/c3ra47381c timed out.                                           \n",
       "</pre>\n"
      ],
      "text/plain": [
       "\u001b[2;36m          \u001b[0m\u001b[2;36m \u001b[0mRequest to CrossrefProvider for \u001b[1;36m10.1039\u001b[0m/c3ra47381c timed out.                                           \n"
      ]
     },
     "metadata": {},
     "output_type": "display_data"
    },
    {
     "data": {
      "text/html": [
       "<pre style=\"white-space:pre;overflow-x:auto;line-height:normal;font-family:Menlo,'DejaVu Sans Mono',consolas,'Courier New',monospace\"><span style=\"color: #7fbfbf; text-decoration-color: #7fbfbf\">           </span>Request to CrossrefProvider for Trypsin-Ligand binding affinities calculated using an effective         \n",
       "<span style=\"color: #7fbfbf; text-decoration-color: #7fbfbf\">           </span>interaction entropy method under polarized force field timed out.                                       \n",
       "</pre>\n"
      ],
      "text/plain": [
       "\u001b[2;36m          \u001b[0m\u001b[2;36m \u001b[0mRequest to CrossrefProvider for Trypsin-Ligand binding affinities calculated using an effective         \n",
       "\u001b[2;36m           \u001b[0minteraction entropy method under polarized force field timed out.                                       \n"
      ]
     },
     "metadata": {},
     "output_type": "display_data"
    },
    {
     "data": {
      "text/html": [
       "<pre style=\"white-space:pre;overflow-x:auto;line-height:normal;font-family:Menlo,'DejaVu Sans Mono',consolas,'Courier New',monospace\"><span style=\"color: #7fbfbf; text-decoration-color: #7fbfbf\">           </span>Request to CrossrefProvider for An Atomistic View on Human Hemoglobin Carbon Monoxide Migration         \n",
       "<span style=\"color: #7fbfbf; text-decoration-color: #7fbfbf\">           </span>Processes timed out.                                                                                    \n",
       "</pre>\n"
      ],
      "text/plain": [
       "\u001b[2;36m          \u001b[0m\u001b[2;36m \u001b[0mRequest to CrossrefProvider for An Atomistic View on Human Hemoglobin Carbon Monoxide Migration         \n",
       "\u001b[2;36m           \u001b[0mProcesses timed out.                                                                                    \n"
      ]
     },
     "metadata": {},
     "output_type": "display_data"
    },
    {
     "data": {
      "text/html": [
       "<pre style=\"white-space:pre;overflow-x:auto;line-height:normal;font-family:Menlo,'DejaVu Sans Mono',consolas,'Courier New',monospace\"><span style=\"color: #7fbfbf; text-decoration-color: #7fbfbf\">[23:54:48] </span>Request to CrossrefProvider for Multiple Cryptic Binding Sites are Necessary for Robust Fibronectin     \n",
       "<span style=\"color: #7fbfbf; text-decoration-color: #7fbfbf\">           </span>Assembly: An In Silico Study timed out.                                                                 \n",
       "</pre>\n"
      ],
      "text/plain": [
       "\u001b[2;36m[23:54:48]\u001b[0m\u001b[2;36m \u001b[0mRequest to CrossrefProvider for Multiple Cryptic Binding Sites are Necessary for Robust Fibronectin     \n",
       "\u001b[2;36m           \u001b[0mAssembly: An In Silico Study timed out.                                                                 \n"
      ]
     },
     "metadata": {},
     "output_type": "display_data"
    },
    {
     "data": {
      "text/html": [
       "<pre style=\"white-space:pre;overflow-x:auto;line-height:normal;font-family:Menlo,'DejaVu Sans Mono',consolas,'Courier New',monospace\"><span style=\"color: #7fbfbf; text-decoration-color: #7fbfbf\">           </span>Request to CrossrefProvider for Dissecting Structural Aspects of Protein Stability timed out.           \n",
       "</pre>\n"
      ],
      "text/plain": [
       "\u001b[2;36m          \u001b[0m\u001b[2;36m \u001b[0mRequest to CrossrefProvider for Dissecting Structural Aspects of Protein Stability timed out.           \n"
      ]
     },
     "metadata": {},
     "output_type": "display_data"
    },
    {
     "data": {
      "text/html": [
       "<pre style=\"white-space:pre;overflow-x:auto;line-height:normal;font-family:Menlo,'DejaVu Sans Mono',consolas,'Courier New',monospace\"><span style=\"color: #7fbfbf; text-decoration-color: #7fbfbf\">           </span>Request to CrossrefProvider for Supporting Information: An Atomistic View on Human Hemoglobin Carbon    \n",
       "<span style=\"color: #7fbfbf; text-decoration-color: #7fbfbf\">           </span>Monoxide Migration Processes timed out.                                                                 \n",
       "</pre>\n"
      ],
      "text/plain": [
       "\u001b[2;36m          \u001b[0m\u001b[2;36m \u001b[0mRequest to CrossrefProvider for Supporting Information: An Atomistic View on Human Hemoglobin Carbon    \n",
       "\u001b[2;36m           \u001b[0mMonoxide Migration Processes timed out.                                                                 \n"
      ]
     },
     "metadata": {},
     "output_type": "display_data"
    },
    {
     "data": {
      "text/html": [
       "<pre style=\"white-space:pre;overflow-x:auto;line-height:normal;font-family:Menlo,'DejaVu Sans Mono',consolas,'Courier New',monospace\"><span style=\"color: #7fbfbf; text-decoration-color: #7fbfbf\">           </span>Request to CrossrefProvider for Predicting stable binding modes from simulated dimers of the D76N mutant\n",
       "<span style=\"color: #7fbfbf; text-decoration-color: #7fbfbf\">           </span>of β2-microglobulin timed out.                                                                          \n",
       "</pre>\n"
      ],
      "text/plain": [
       "\u001b[2;36m          \u001b[0m\u001b[2;36m \u001b[0mRequest to CrossrefProvider for Predicting stable binding modes from simulated dimers of the D76N mutant\n",
       "\u001b[2;36m           \u001b[0mof β2-microglobulin timed out.                                                                          \n"
      ]
     },
     "metadata": {},
     "output_type": "display_data"
    },
    {
     "data": {
      "text/html": [
       "<pre style=\"white-space:pre;overflow-x:auto;line-height:normal;font-family:Menlo,'DejaVu Sans Mono',consolas,'Courier New',monospace\"><span style=\"color: #7fbfbf; text-decoration-color: #7fbfbf\">[23:54:49] </span>Complete <span style=\"font-weight: bold\">(</span>Trypsin-Ligand binding affinities calculated using an effective interaction entropy method    \n",
       "<span style=\"color: #7fbfbf; text-decoration-color: #7fbfbf\">           </span>under polarized force field<span style=\"font-weight: bold\">)</span>.                                                                           \n",
       "</pre>\n"
      ],
      "text/plain": [
       "\u001b[2;36m[23:54:49]\u001b[0m\u001b[2;36m \u001b[0mComplete \u001b[1m(\u001b[0mTrypsin-Ligand binding affinities calculated using an effective interaction entropy method    \n",
       "\u001b[2;36m           \u001b[0munder polarized force field\u001b[1m)\u001b[0m.                                                                           \n"
      ]
     },
     "metadata": {},
     "output_type": "display_data"
    },
    {
     "data": {
      "text/html": [
       "<pre style=\"white-space:pre;overflow-x:auto;line-height:normal;font-family:Menlo,'DejaVu Sans Mono',consolas,'Courier New',monospace\"><span style=\"color: #7fbfbf; text-decoration-color: #7fbfbf\">           </span>Request to CrossrefProvider for <span style=\"color: #008080; text-decoration-color: #008080; font-weight: bold\">10.1021</span>/acs.jpcb.8b10860 timed out.                                     \n",
       "</pre>\n"
      ],
      "text/plain": [
       "\u001b[2;36m          \u001b[0m\u001b[2;36m \u001b[0mRequest to CrossrefProvider for \u001b[1;36m10.1021\u001b[0m/acs.jpcb.8b10860 timed out.                                     \n"
      ]
     },
     "metadata": {},
     "output_type": "display_data"
    },
    {
     "data": {
      "text/html": [
       "<pre style=\"white-space:pre;overflow-x:auto;line-height:normal;font-family:Menlo,'DejaVu Sans Mono',consolas,'Courier New',monospace\"><span style=\"color: #7fbfbf; text-decoration-color: #7fbfbf\">           </span>Request to CrossrefProvider for <span style=\"color: #008080; text-decoration-color: #008080; font-weight: bold\">10.1021</span>/la035661z timed out.                                            \n",
       "</pre>\n"
      ],
      "text/plain": [
       "\u001b[2;36m          \u001b[0m\u001b[2;36m \u001b[0mRequest to CrossrefProvider for \u001b[1;36m10.1021\u001b[0m/la035661z timed out.                                            \n"
      ]
     },
     "metadata": {},
     "output_type": "display_data"
    },
    {
     "data": {
      "text/html": [
       "<pre style=\"white-space:pre;overflow-x:auto;line-height:normal;font-family:Menlo,'DejaVu Sans Mono',consolas,'Courier New',monospace\"><span style=\"color: #7fbfbf; text-decoration-color: #7fbfbf\">           </span>Request to CrossrefProvider for <span style=\"color: #008080; text-decoration-color: #008080; font-weight: bold\">10.1371</span>/journal.pone.<span style=\"color: #008080; text-decoration-color: #008080; font-weight: bold\">0002373</span> timed out.                                 \n",
       "</pre>\n"
      ],
      "text/plain": [
       "\u001b[2;36m          \u001b[0m\u001b[2;36m \u001b[0mRequest to CrossrefProvider for \u001b[1;36m10.1371\u001b[0m/journal.pone.\u001b[1;36m0002373\u001b[0m timed out.                                 \n"
      ]
     },
     "metadata": {},
     "output_type": "display_data"
    },
    {
     "data": {
      "text/html": [
       "<pre style=\"white-space:pre;overflow-x:auto;line-height:normal;font-family:Menlo,'DejaVu Sans Mono',consolas,'Courier New',monospace\"><span style=\"color: #7fbfbf; text-decoration-color: #7fbfbf\">           </span>Request to CrossrefProvider for Mechanistic insights into the adsorption and bioactivity of fibronectin \n",
       "<span style=\"color: #7fbfbf; text-decoration-color: #7fbfbf\">           </span>on surfaces with varying chemistries by a combination of experimental strategies and molecular          \n",
       "<span style=\"color: #7fbfbf; text-decoration-color: #7fbfbf\">           </span>simulations timed out.                                                                                  \n",
       "</pre>\n"
      ],
      "text/plain": [
       "\u001b[2;36m          \u001b[0m\u001b[2;36m \u001b[0mRequest to CrossrefProvider for Mechanistic insights into the adsorption and bioactivity of fibronectin \n",
       "\u001b[2;36m           \u001b[0mon surfaces with varying chemistries by a combination of experimental strategies and molecular          \n",
       "\u001b[2;36m           \u001b[0msimulations timed out.                                                                                  \n"
      ]
     },
     "metadata": {},
     "output_type": "display_data"
    },
    {
     "data": {
      "text/html": [
       "<pre style=\"white-space:pre;overflow-x:auto;line-height:normal;font-family:Menlo,'DejaVu Sans Mono',consolas,'Courier New',monospace\"><span style=\"color: #7fbfbf; text-decoration-color: #7fbfbf\">           </span>Request to CrossrefProvider for Forced Unfolding of Fibronectin Type <span style=\"color: #008080; text-decoration-color: #008080; font-weight: bold\">3</span> Modules: An Analysis by Biased   \n",
       "<span style=\"color: #7fbfbf; text-decoration-color: #7fbfbf\">           </span>Molecular Dynamics Simulations timed out.                                                               \n",
       "</pre>\n"
      ],
      "text/plain": [
       "\u001b[2;36m          \u001b[0m\u001b[2;36m \u001b[0mRequest to CrossrefProvider for Forced Unfolding of Fibronectin Type \u001b[1;36m3\u001b[0m Modules: An Analysis by Biased   \n",
       "\u001b[2;36m           \u001b[0mMolecular Dynamics Simulations timed out.                                                               \n"
      ]
     },
     "metadata": {},
     "output_type": "display_data"
    },
    {
     "data": {
      "text/html": [
       "<pre style=\"white-space:pre;overflow-x:auto;line-height:normal;font-family:Menlo,'DejaVu Sans Mono',consolas,'Courier New',monospace\"><span style=\"color: #7fbfbf; text-decoration-color: #7fbfbf\">           </span>Request to CrossrefProvider for Molecular Dynamics Simulations of Hemoglobin A in Different States and  \n",
       "<span style=\"color: #7fbfbf; text-decoration-color: #7fbfbf\">           </span>Bound to DPG: Effector-Linked Perturbation of Tertiary Conformations and HbA Concerted Dynamics timed   \n",
       "<span style=\"color: #7fbfbf; text-decoration-color: #7fbfbf\">           </span>out.                                                                                                    \n",
       "</pre>\n"
      ],
      "text/plain": [
       "\u001b[2;36m          \u001b[0m\u001b[2;36m \u001b[0mRequest to CrossrefProvider for Molecular Dynamics Simulations of Hemoglobin A in Different States and  \n",
       "\u001b[2;36m           \u001b[0mBound to DPG: Effector-Linked Perturbation of Tertiary Conformations and HbA Concerted Dynamics timed   \n",
       "\u001b[2;36m           \u001b[0mout.                                                                                                    \n"
      ]
     },
     "metadata": {},
     "output_type": "display_data"
    },
    {
     "data": {
      "text/html": [
       "<pre style=\"white-space:pre;overflow-x:auto;line-height:normal;font-family:Menlo,'DejaVu Sans Mono',consolas,'Courier New',monospace\"><span style=\"color: #7fbfbf; text-decoration-color: #7fbfbf\">           </span>Request to CrossrefProvider for <span style=\"color: #008080; text-decoration-color: #008080; font-weight: bold\">10.1021</span>/acs.jpcb.8b07094 timed out.                                     \n",
       "</pre>\n"
      ],
      "text/plain": [
       "\u001b[2;36m          \u001b[0m\u001b[2;36m \u001b[0mRequest to CrossrefProvider for \u001b[1;36m10.1021\u001b[0m/acs.jpcb.8b07094 timed out.                                     \n"
      ]
     },
     "metadata": {},
     "output_type": "display_data"
    },
    {
     "data": {
      "text/html": [
       "<pre style=\"white-space:pre;overflow-x:auto;line-height:normal;font-family:Menlo,'DejaVu Sans Mono',consolas,'Courier New',monospace\"><span style=\"color: #7fbfbf; text-decoration-color: #7fbfbf\">[23:54:50] </span>Complete <span style=\"font-weight: bold\">(</span>hage_2018_hemoglobin_sim.pdf<span style=\"font-weight: bold\">)</span>.                                                                \n",
       "</pre>\n"
      ],
      "text/plain": [
       "\u001b[2;36m[23:54:50]\u001b[0m\u001b[2;36m \u001b[0mComplete \u001b[1m(\u001b[0mhage_2018_hemoglobin_sim.pdf\u001b[1m)\u001b[0m.                                                                \n"
      ]
     },
     "metadata": {},
     "output_type": "display_data"
    },
    {
     "data": {
      "text/html": [
       "<pre style=\"white-space:pre;overflow-x:auto;line-height:normal;font-family:Menlo,'DejaVu Sans Mono',consolas,'Courier New',monospace\"><span style=\"color: #7fbfbf; text-decoration-color: #7fbfbf\">           </span>Request to CrossrefProvider for <span style=\"color: #008080; text-decoration-color: #008080; font-weight: bold\">10.1002</span>/slct.<span style=\"color: #008080; text-decoration-color: #008080; font-weight: bold\">201801398</span> timed out.                                       \n",
       "</pre>\n"
      ],
      "text/plain": [
       "\u001b[2;36m          \u001b[0m\u001b[2;36m \u001b[0mRequest to CrossrefProvider for \u001b[1;36m10.1002\u001b[0m/slct.\u001b[1;36m201801398\u001b[0m timed out.                                       \n"
      ]
     },
     "metadata": {},
     "output_type": "display_data"
    },
    {
     "data": {
      "text/html": [
       "<pre style=\"white-space:pre;overflow-x:auto;line-height:normal;font-family:Menlo,'DejaVu Sans Mono',consolas,'Courier New',monospace\"><span style=\"color: #7fbfbf; text-decoration-color: #7fbfbf\">           </span>Complete <span style=\"font-weight: bold\">(</span>An Atomistic View on Human Hemoglobin Carbon Monoxide Migration Processes<span style=\"font-weight: bold\">)</span>.                   \n",
       "</pre>\n"
      ],
      "text/plain": [
       "\u001b[2;36m          \u001b[0m\u001b[2;36m \u001b[0mComplete \u001b[1m(\u001b[0mAn Atomistic View on Human Hemoglobin Carbon Monoxide Migration Processes\u001b[1m)\u001b[0m.                   \n"
      ]
     },
     "metadata": {},
     "output_type": "display_data"
    },
    {
     "data": {
      "text/html": [
       "<pre style=\"white-space:pre;overflow-x:auto;line-height:normal;font-family:Menlo,'DejaVu Sans Mono',consolas,'Courier New',monospace\"><span style=\"color: #7fbfbf; text-decoration-color: #7fbfbf\">           </span>Complete <span style=\"font-weight: bold\">(</span>Predicting stable binding modes from simulated dimers of the D76N mutant of β2-microglobulin<span style=\"font-weight: bold\">)</span>.\n",
       "</pre>\n"
      ],
      "text/plain": [
       "\u001b[2;36m          \u001b[0m\u001b[2;36m \u001b[0mComplete \u001b[1m(\u001b[0mPredicting stable binding modes from simulated dimers of the D76N mutant of β2-microglobulin\u001b[1m)\u001b[0m.\n"
      ]
     },
     "metadata": {},
     "output_type": "display_data"
    },
    {
     "data": {
      "text/html": [
       "<pre style=\"white-space:pre;overflow-x:auto;line-height:normal;font-family:Menlo,'DejaVu Sans Mono',consolas,'Courier New',monospace\"><span style=\"color: #7fbfbf; text-decoration-color: #7fbfbf\">           </span>Complete <span style=\"font-weight: bold\">(</span>Best Practices for Foundations in Molecular Simulations <span style=\"font-weight: bold\">[</span>Article v1.<span style=\"color: #008080; text-decoration-color: #008080; font-weight: bold\">0</span><span style=\"font-weight: bold\">])</span>.                      \n",
       "</pre>\n"
      ],
      "text/plain": [
       "\u001b[2;36m          \u001b[0m\u001b[2;36m \u001b[0mComplete \u001b[1m(\u001b[0mBest Practices for Foundations in Molecular Simulations \u001b[1m[\u001b[0mArticle v1.\u001b[1;36m0\u001b[0m\u001b[1m]\u001b[0m\u001b[1m)\u001b[0m.                      \n"
      ]
     },
     "metadata": {},
     "output_type": "display_data"
    },
    {
     "data": {
      "text/html": [
       "<pre style=\"white-space:pre;overflow-x:auto;line-height:normal;font-family:Menlo,'DejaVu Sans Mono',consolas,'Courier New',monospace\"><span style=\"color: #7fbfbf; text-decoration-color: #7fbfbf\">           </span>Complete <span style=\"font-weight: bold\">(</span>Unfolding Dynamics of Ubiquitin from Constant Force MD Simulation: Entropy−Enthalpy Interplay \n",
       "<span style=\"color: #7fbfbf; text-decoration-color: #7fbfbf\">           </span>Shapes the Free-Energy Landscape<span style=\"font-weight: bold\">)</span>.                                                                      \n",
       "</pre>\n"
      ],
      "text/plain": [
       "\u001b[2;36m          \u001b[0m\u001b[2;36m \u001b[0mComplete \u001b[1m(\u001b[0mUnfolding Dynamics of Ubiquitin from Constant Force MD Simulation: Entropy−Enthalpy Interplay \n",
       "\u001b[2;36m           \u001b[0mShapes the Free-Energy Landscape\u001b[1m)\u001b[0m.                                                                      \n"
      ]
     },
     "metadata": {},
     "output_type": "display_data"
    },
    {
     "data": {
      "text/html": [
       "<pre style=\"white-space:pre;overflow-x:auto;line-height:normal;font-family:Menlo,'DejaVu Sans Mono',consolas,'Courier New',monospace\"><span style=\"color: #7fbfbf; text-decoration-color: #7fbfbf\">[23:54:51] </span>Complete <span style=\"font-weight: bold\">(</span>Supporting Information: An Atomistic View on Human Hemoglobin Carbon Monoxide Migration       \n",
       "<span style=\"color: #7fbfbf; text-decoration-color: #7fbfbf\">           </span>Processes<span style=\"font-weight: bold\">)</span>.                                                                                             \n",
       "</pre>\n"
      ],
      "text/plain": [
       "\u001b[2;36m[23:54:51]\u001b[0m\u001b[2;36m \u001b[0mComplete \u001b[1m(\u001b[0mSupporting Information: An Atomistic View on Human Hemoglobin Carbon Monoxide Migration       \n",
       "\u001b[2;36m           \u001b[0mProcesses\u001b[1m)\u001b[0m.                                                                                             \n"
      ]
     },
     "metadata": {},
     "output_type": "display_data"
    },
    {
     "data": {
      "text/html": [
       "<pre style=\"white-space:pre;overflow-x:auto;line-height:normal;font-family:Menlo,'DejaVu Sans Mono',consolas,'Courier New',monospace\"><span style=\"color: #7fbfbf; text-decoration-color: #7fbfbf\">           </span>Complete <span style=\"font-weight: bold\">(</span>Molecular Dynamics Simulations of Hemoglobin A in Different States and Bound to DPG:          \n",
       "<span style=\"color: #7fbfbf; text-decoration-color: #7fbfbf\">           </span>Effector-Linked Perturbation of Tertiary Conformations and HbA Concerted Dynamics<span style=\"font-weight: bold\">)</span>.                     \n",
       "</pre>\n"
      ],
      "text/plain": [
       "\u001b[2;36m          \u001b[0m\u001b[2;36m \u001b[0mComplete \u001b[1m(\u001b[0mMolecular Dynamics Simulations of Hemoglobin A in Different States and Bound to DPG:          \n",
       "\u001b[2;36m           \u001b[0mEffector-Linked Perturbation of Tertiary Conformations and HbA Concerted Dynamics\u001b[1m)\u001b[0m.                     \n"
      ]
     },
     "metadata": {},
     "output_type": "display_data"
    },
    {
     "data": {
      "text/html": [
       "<pre style=\"white-space:pre;overflow-x:auto;line-height:normal;font-family:Menlo,'DejaVu Sans Mono',consolas,'Courier New',monospace\"><span style=\"color: #7fbfbf; text-decoration-color: #7fbfbf\">           </span>Complete <span style=\"font-weight: bold\">(</span>Mechanistic insights into the adsorption and bioactivity of fibronectin on surfaces with      \n",
       "<span style=\"color: #7fbfbf; text-decoration-color: #7fbfbf\">           </span>varying chemistries by a combination of experimental strategies and molecular simulations<span style=\"font-weight: bold\">)</span>.             \n",
       "</pre>\n"
      ],
      "text/plain": [
       "\u001b[2;36m          \u001b[0m\u001b[2;36m \u001b[0mComplete \u001b[1m(\u001b[0mMechanistic insights into the adsorption and bioactivity of fibronectin on surfaces with      \n",
       "\u001b[2;36m           \u001b[0mvarying chemistries by a combination of experimental strategies and molecular simulations\u001b[1m)\u001b[0m.             \n"
      ]
     },
     "metadata": {},
     "output_type": "display_data"
    },
    {
     "data": {
      "text/html": [
       "<pre style=\"white-space:pre;overflow-x:auto;line-height:normal;font-family:Menlo,'DejaVu Sans Mono',consolas,'Courier New',monospace\"><span style=\"color: #7fbfbf; text-decoration-color: #7fbfbf\">           </span>Complete <span style=\"font-weight: bold\">(</span>Molecular Dynamics Simulation of the Adsorption of a Fibronectin Module on a Graphite         \n",
       "<span style=\"color: #7fbfbf; text-decoration-color: #7fbfbf\">           </span>Surface<span style=\"font-weight: bold\">)</span>.                                                                                               \n",
       "</pre>\n"
      ],
      "text/plain": [
       "\u001b[2;36m          \u001b[0m\u001b[2;36m \u001b[0mComplete \u001b[1m(\u001b[0mMolecular Dynamics Simulation of the Adsorption of a Fibronectin Module on a Graphite         \n",
       "\u001b[2;36m           \u001b[0mSurface\u001b[1m)\u001b[0m.                                                                                               \n"
      ]
     },
     "metadata": {},
     "output_type": "display_data"
    },
    {
     "data": {
      "text/html": [
       "<pre style=\"white-space:pre;overflow-x:auto;line-height:normal;font-family:Menlo,'DejaVu Sans Mono',consolas,'Courier New',monospace\"><span style=\"color: #7fbfbf; text-decoration-color: #7fbfbf\">           </span>Complete <span style=\"font-weight: bold\">(</span>Theoretical Simulation of Red Cell Sickling Upon Deoxygenation Based on the Physical Chemistry\n",
       "<span style=\"color: #7fbfbf; text-decoration-color: #7fbfbf\">           </span>of Sickle Hemoglobin Fiber Formation<span style=\"font-weight: bold\">)</span>.                                                                  \n",
       "</pre>\n"
      ],
      "text/plain": [
       "\u001b[2;36m          \u001b[0m\u001b[2;36m \u001b[0mComplete \u001b[1m(\u001b[0mTheoretical Simulation of Red Cell Sickling Upon Deoxygenation Based on the Physical Chemistry\n",
       "\u001b[2;36m           \u001b[0mof Sickle Hemoglobin Fiber Formation\u001b[1m)\u001b[0m.                                                                  \n"
      ]
     },
     "metadata": {},
     "output_type": "display_data"
    },
    {
     "data": {
      "text/html": [
       "<pre style=\"white-space:pre;overflow-x:auto;line-height:normal;font-family:Menlo,'DejaVu Sans Mono',consolas,'Courier New',monospace\"><span style=\"color: #7fbfbf; text-decoration-color: #7fbfbf\">[23:54:52] </span>Complete <span style=\"font-weight: bold\">(</span>Forced Unfolding of Fibronectin Type <span style=\"color: #008080; text-decoration-color: #008080; font-weight: bold\">3</span> Modules: An Analysis by Biased Molecular Dynamics      \n",
       "<span style=\"color: #7fbfbf; text-decoration-color: #7fbfbf\">           </span>Simulations<span style=\"font-weight: bold\">)</span>.                                                                                           \n",
       "</pre>\n"
      ],
      "text/plain": [
       "\u001b[2;36m[23:54:52]\u001b[0m\u001b[2;36m \u001b[0mComplete \u001b[1m(\u001b[0mForced Unfolding of Fibronectin Type \u001b[1;36m3\u001b[0m Modules: An Analysis by Biased Molecular Dynamics      \n",
       "\u001b[2;36m           \u001b[0mSimulations\u001b[1m)\u001b[0m.                                                                                           \n"
      ]
     },
     "metadata": {},
     "output_type": "display_data"
    },
    {
     "data": {
      "text/html": [
       "<pre style=\"white-space:pre;overflow-x:auto;line-height:normal;font-family:Menlo,'DejaVu Sans Mono',consolas,'Courier New',monospace\"><span style=\"color: #7fbfbf; text-decoration-color: #7fbfbf\">[23:54:54] </span>Complete <span style=\"font-weight: bold\">(</span>Computer simulations of fibronectin adsorption on hydroxyapatite surfaces<span style=\"font-weight: bold\">)</span>.                   \n",
       "</pre>\n"
      ],
      "text/plain": [
       "\u001b[2;36m[23:54:54]\u001b[0m\u001b[2;36m \u001b[0mComplete \u001b[1m(\u001b[0mComputer simulations of fibronectin adsorption on hydroxyapatite surfaces\u001b[1m)\u001b[0m.                   \n"
      ]
     },
     "metadata": {},
     "output_type": "display_data"
    },
    {
     "data": {
      "text/html": [
       "<pre style=\"white-space:pre;overflow-x:auto;line-height:normal;font-family:Menlo,'DejaVu Sans Mono',consolas,'Courier New',monospace\"><span style=\"color: #7fbfbf; text-decoration-color: #7fbfbf\">           </span>Complete <span style=\"font-weight: bold\">(</span>Dissecting Structural Aspects of Protein Stability<span style=\"font-weight: bold\">)</span>.                                          \n",
       "</pre>\n"
      ],
      "text/plain": [
       "\u001b[2;36m          \u001b[0m\u001b[2;36m \u001b[0mComplete \u001b[1m(\u001b[0mDissecting Structural Aspects of Protein Stability\u001b[1m)\u001b[0m.                                          \n"
      ]
     },
     "metadata": {},
     "output_type": "display_data"
    },
    {
     "data": {
      "text/html": [
       "<pre style=\"white-space:pre;overflow-x:auto;line-height:normal;font-family:Menlo,'DejaVu Sans Mono',consolas,'Courier New',monospace\"><span style=\"color: #7fbfbf; text-decoration-color: #7fbfbf\">[23:54:55] </span>Complete <span style=\"font-weight: bold\">(</span>Fibronectin Unfolding Revisited: Modeling Cell Traction-Mediated Unfolding of the Tenth       \n",
       "<span style=\"color: #7fbfbf; text-decoration-color: #7fbfbf\">           </span>Type-III Repeat<span style=\"font-weight: bold\">)</span>.                                                                                       \n",
       "</pre>\n"
      ],
      "text/plain": [
       "\u001b[2;36m[23:54:55]\u001b[0m\u001b[2;36m \u001b[0mComplete \u001b[1m(\u001b[0mFibronectin Unfolding Revisited: Modeling Cell Traction-Mediated Unfolding of the Tenth       \n",
       "\u001b[2;36m           \u001b[0mType-III Repeat\u001b[1m)\u001b[0m.                                                                                       \n"
      ]
     },
     "metadata": {},
     "output_type": "display_data"
    },
    {
     "data": {
      "text/html": [
       "<pre style=\"white-space:pre;overflow-x:auto;line-height:normal;font-family:Menlo,'DejaVu Sans Mono',consolas,'Courier New',monospace\"><span style=\"color: #7fbfbf; text-decoration-color: #7fbfbf\">           </span>Complete <span style=\"font-weight: bold\">(</span>Multiple Cryptic Binding Sites are Necessary for Robust Fibronectin Assembly: An In Silico    \n",
       "<span style=\"color: #7fbfbf; text-decoration-color: #7fbfbf\">           </span>Study<span style=\"font-weight: bold\">)</span>.                                                                                                 \n",
       "</pre>\n"
      ],
      "text/plain": [
       "\u001b[2;36m          \u001b[0m\u001b[2;36m \u001b[0mComplete \u001b[1m(\u001b[0mMultiple Cryptic Binding Sites are Necessary for Robust Fibronectin Assembly: An In Silico    \n",
       "\u001b[2;36m           \u001b[0mStudy\u001b[1m)\u001b[0m.                                                                                                 \n"
      ]
     },
     "metadata": {},
     "output_type": "display_data"
    },
    {
     "data": {
      "text/html": [
       "<pre style=\"white-space:pre;overflow-x:auto;line-height:normal;font-family:Menlo,'DejaVu Sans Mono',consolas,'Courier New',monospace\"><span style=\"color: #7fbfbf; text-decoration-color: #7fbfbf\">[23:54:56] </span>Complete <span style=\"font-weight: bold\">(</span>Tertiary and quaternary structural basis of oxygen affinity in human hemoglobin as revealed by\n",
       "<span style=\"color: #7fbfbf; text-decoration-color: #7fbfbf\">           </span>multiscale simulations<span style=\"font-weight: bold\">)</span>.                                                                                \n",
       "</pre>\n"
      ],
      "text/plain": [
       "\u001b[2;36m[23:54:56]\u001b[0m\u001b[2;36m \u001b[0mComplete \u001b[1m(\u001b[0mTertiary and quaternary structural basis of oxygen affinity in human hemoglobin as revealed by\n",
       "\u001b[2;36m           \u001b[0mmultiscale simulations\u001b[1m)\u001b[0m.                                                                                \n"
      ]
     },
     "metadata": {},
     "output_type": "display_data"
    },
    {
     "data": {
      "text/html": [
       "<pre style=\"white-space:pre;overflow-x:auto;line-height:normal;font-family:Menlo,'DejaVu Sans Mono',consolas,'Courier New',monospace\"><span style=\"color: #7fbfbf; text-decoration-color: #7fbfbf\">           </span>Complete <span style=\"font-weight: bold\">(</span>Anti-Inflammatory, Radical Scavenging Mechanism of New <span style=\"color: #008080; text-decoration-color: #008080; font-weight: bold\">4</span>-Aryl-<span style=\"font-weight: bold\">[</span><span style=\"color: #008080; text-decoration-color: #008080; font-weight: bold\">1</span>,<span style=\"color: #008080; text-decoration-color: #008080; font-weight: bold\">3</span><span style=\"font-weight: bold\">]</span>-thiazol-<span style=\"color: #008080; text-decoration-color: #008080; font-weight: bold\">2</span>-yl-<span style=\"color: #008080; text-decoration-color: #008080; font-weight: bold\">2</span>-quinoline  \n",
       "<span style=\"color: #7fbfbf; text-decoration-color: #7fbfbf\">           </span>Carbohydrazides and Quinolinyl<span style=\"font-weight: bold\">[</span><span style=\"color: #008080; text-decoration-color: #008080; font-weight: bold\">1</span>,<span style=\"color: #008080; text-decoration-color: #008080; font-weight: bold\">3</span><span style=\"font-weight: bold\">]</span>-thiazolo<span style=\"font-weight: bold\">[</span><span style=\"color: #008080; text-decoration-color: #008080; font-weight: bold\">3</span>,<span style=\"color: #008080; text-decoration-color: #008080; font-weight: bold\">2</span>-b                                                      \n",
       "<span style=\"color: #7fbfbf; text-decoration-color: #7fbfbf\">           </span><span style=\"font-weight: bold\">][</span><span style=\"color: #008080; text-decoration-color: #008080; font-weight: bold\">1</span>,<span style=\"color: #008080; text-decoration-color: #008080; font-weight: bold\">2</span>,<span style=\"color: #008080; text-decoration-color: #008080; font-weight: bold\">4</span><span style=\"font-weight: bold\">]</span>triazoles<span style=\"font-weight: bold\">)</span>.                                                                                     \n",
       "</pre>\n"
      ],
      "text/plain": [
       "\u001b[2;36m          \u001b[0m\u001b[2;36m \u001b[0mComplete \u001b[1m(\u001b[0mAnti-Inflammatory, Radical Scavenging Mechanism of New \u001b[1;36m4\u001b[0m-Aryl-\u001b[1m[\u001b[0m\u001b[1;36m1\u001b[0m,\u001b[1;36m3\u001b[0m\u001b[1m]\u001b[0m-thiazol-\u001b[1;36m2\u001b[0m-yl-\u001b[1;36m2\u001b[0m-quinoline  \n",
       "\u001b[2;36m           \u001b[0mCarbohydrazides and Quinolinyl\u001b[1m[\u001b[0m\u001b[1;36m1\u001b[0m,\u001b[1;36m3\u001b[0m\u001b[1m]\u001b[0m-thiazolo\u001b[1m[\u001b[0m\u001b[1;36m3\u001b[0m,\u001b[1;36m2\u001b[0m-b                                                      \n",
       "\u001b[2;36m           \u001b[0m\u001b[1m]\u001b[0m\u001b[1m[\u001b[0m\u001b[1;36m1\u001b[0m,\u001b[1;36m2\u001b[0m,\u001b[1;36m4\u001b[0m\u001b[1m]\u001b[0mtriazoles\u001b[1m)\u001b[0m.                                                                                     \n"
      ]
     },
     "metadata": {},
     "output_type": "display_data"
    },
    {
     "data": {
      "text/html": [
       "<pre style=\"white-space:pre;overflow-x:auto;line-height:normal;font-family:Menlo,'DejaVu Sans Mono',consolas,'Courier New',monospace\"><span style=\"color: #7fbfbf; text-decoration-color: #7fbfbf\">           </span>paper_search for query <span style=\"color: #008000; text-decoration-color: #008000\">'Here are 3 unique keyword searches with year ranges to help answer the question </span>\n",
       "<span style=\"color: #7fbfbf; text-decoration-color: #7fbfbf\">           </span><span style=\"color: #008000; text-decoration-color: #008000\">about common parameters for fibronectin molecular dynamics simulations:'</span> returned <span style=\"color: #008080; text-decoration-color: #008080; font-weight: bold\">8</span> papers.             \n",
       "</pre>\n"
      ],
      "text/plain": [
       "\u001b[2;36m          \u001b[0m\u001b[2;36m \u001b[0mpaper_search for query \u001b[32m'Here are 3 unique keyword searches with year ranges to help answer the question \u001b[0m\n",
       "\u001b[2;36m           \u001b[0m\u001b[32mabout common parameters for fibronectin molecular dynamics simulations:'\u001b[0m returned \u001b[1;36m8\u001b[0m papers.             \n"
      ]
     },
     "metadata": {},
     "output_type": "display_data"
    },
    {
     "data": {
      "text/html": [
       "<pre style=\"white-space:pre;overflow-x:auto;line-height:normal;font-family:Menlo,'DejaVu Sans Mono',consolas,'Courier New',monospace\"><span style=\"color: #7fbfbf; text-decoration-color: #7fbfbf\">           </span>Status: Paper <span style=\"color: #808000; text-decoration-color: #808000\">Count</span>=<span style=\"color: #008080; text-decoration-color: #008080; font-weight: bold\">8</span> | Relevant <span style=\"color: #808000; text-decoration-color: #808000\">Papers</span>=<span style=\"color: #008080; text-decoration-color: #008080; font-weight: bold\">0</span> | Current <span style=\"color: #808000; text-decoration-color: #808000\">Evidence</span>=<span style=\"color: #008080; text-decoration-color: #008080; font-weight: bold\">0</span> | Current <span style=\"color: #808000; text-decoration-color: #808000\">Cost</span>=$<span style=\"color: #008080; text-decoration-color: #008080; font-weight: bold\">0.0000</span>                   \n",
       "</pre>\n"
      ],
      "text/plain": [
       "\u001b[2;36m          \u001b[0m\u001b[2;36m \u001b[0mStatus: Paper \u001b[33mCount\u001b[0m=\u001b[1;36m8\u001b[0m | Relevant \u001b[33mPapers\u001b[0m=\u001b[1;36m0\u001b[0m | Current \u001b[33mEvidence\u001b[0m=\u001b[1;36m0\u001b[0m | Current \u001b[33mCost\u001b[0m=$\u001b[1;36m0.0000\u001b[0m                   \n"
      ]
     },
     "metadata": {},
     "output_type": "display_data"
    },
    {
     "data": {
      "text/html": [
       "<pre style=\"white-space:pre;overflow-x:auto;line-height:normal;font-family:Menlo,'DejaVu Sans Mono',consolas,'Courier New',monospace\"><span style=\"color: #7fbfbf; text-decoration-color: #7fbfbf\">           </span>Starting paper search for <span style=\"color: #008000; text-decoration-color: #008000\">'fibronectin molecular dynamics simulation parameters, 2010-2020'</span>.            \n",
       "</pre>\n"
      ],
      "text/plain": [
       "\u001b[2;36m          \u001b[0m\u001b[2;36m \u001b[0mStarting paper search for \u001b[32m'fibronectin molecular dynamics simulation parameters, 2010-2020'\u001b[0m.            \n"
      ]
     },
     "metadata": {},
     "output_type": "display_data"
    },
    {
     "data": {
      "text/html": [
       "<pre style=\"white-space:pre;overflow-x:auto;line-height:normal;font-family:Menlo,'DejaVu Sans Mono',consolas,'Courier New',monospace\"><span style=\"color: #7fbfbf; text-decoration-color: #7fbfbf\">           </span>paper_search for query <span style=\"color: #008000; text-decoration-color: #008000\">'fibronectin molecular dynamics simulation parameters, 2010-2020'</span> returned <span style=\"color: #008080; text-decoration-color: #008080; font-weight: bold\">8</span>     \n",
       "<span style=\"color: #7fbfbf; text-decoration-color: #7fbfbf\">           </span>papers.                                                                                                 \n",
       "</pre>\n"
      ],
      "text/plain": [
       "\u001b[2;36m          \u001b[0m\u001b[2;36m \u001b[0mpaper_search for query \u001b[32m'fibronectin molecular dynamics simulation parameters, 2010-2020'\u001b[0m returned \u001b[1;36m8\u001b[0m     \n",
       "\u001b[2;36m           \u001b[0mpapers.                                                                                                 \n"
      ]
     },
     "metadata": {},
     "output_type": "display_data"
    },
    {
     "data": {
      "text/html": [
       "<pre style=\"white-space:pre;overflow-x:auto;line-height:normal;font-family:Menlo,'DejaVu Sans Mono',consolas,'Courier New',monospace\"><span style=\"color: #7fbfbf; text-decoration-color: #7fbfbf\">           </span>Status: Paper <span style=\"color: #808000; text-decoration-color: #808000\">Count</span>=<span style=\"color: #008080; text-decoration-color: #008080; font-weight: bold\">10</span> | Relevant <span style=\"color: #808000; text-decoration-color: #808000\">Papers</span>=<span style=\"color: #008080; text-decoration-color: #008080; font-weight: bold\">0</span> | Current <span style=\"color: #808000; text-decoration-color: #808000\">Evidence</span>=<span style=\"color: #008080; text-decoration-color: #008080; font-weight: bold\">0</span> | Current <span style=\"color: #808000; text-decoration-color: #808000\">Cost</span>=$<span style=\"color: #008080; text-decoration-color: #008080; font-weight: bold\">0.0000</span>                  \n",
       "</pre>\n"
      ],
      "text/plain": [
       "\u001b[2;36m          \u001b[0m\u001b[2;36m \u001b[0mStatus: Paper \u001b[33mCount\u001b[0m=\u001b[1;36m10\u001b[0m | Relevant \u001b[33mPapers\u001b[0m=\u001b[1;36m0\u001b[0m | Current \u001b[33mEvidence\u001b[0m=\u001b[1;36m0\u001b[0m | Current \u001b[33mCost\u001b[0m=$\u001b[1;36m0.0000\u001b[0m                  \n"
      ]
     },
     "metadata": {},
     "output_type": "display_data"
    },
    {
     "data": {
      "text/html": [
       "<pre style=\"white-space:pre;overflow-x:auto;line-height:normal;font-family:Menlo,'DejaVu Sans Mono',consolas,'Courier New',monospace\"><span style=\"color: #7fbfbf; text-decoration-color: #7fbfbf\">           </span>Starting paper search for <span style=\"color: #008000; text-decoration-color: #008000\">'protein force fields fibronectin MD, 2015-2024'</span>.                             \n",
       "</pre>\n"
      ],
      "text/plain": [
       "\u001b[2;36m          \u001b[0m\u001b[2;36m \u001b[0mStarting paper search for \u001b[32m'protein force fields fibronectin MD, 2015-2024'\u001b[0m.                             \n"
      ]
     },
     "metadata": {},
     "output_type": "display_data"
    },
    {
     "data": {
      "text/html": [
       "<pre style=\"white-space:pre;overflow-x:auto;line-height:normal;font-family:Menlo,'DejaVu Sans Mono',consolas,'Courier New',monospace\"><span style=\"color: #7fbfbf; text-decoration-color: #7fbfbf\">           </span>paper_search for query <span style=\"color: #008000; text-decoration-color: #008000\">'protein force fields fibronectin MD, 2015-2024'</span> returned <span style=\"color: #008080; text-decoration-color: #008080; font-weight: bold\">8</span> papers.              \n",
       "</pre>\n"
      ],
      "text/plain": [
       "\u001b[2;36m          \u001b[0m\u001b[2;36m \u001b[0mpaper_search for query \u001b[32m'protein force fields fibronectin MD, 2015-2024'\u001b[0m returned \u001b[1;36m8\u001b[0m papers.              \n"
      ]
     },
     "metadata": {},
     "output_type": "display_data"
    },
    {
     "data": {
      "text/html": [
       "<pre style=\"white-space:pre;overflow-x:auto;line-height:normal;font-family:Menlo,'DejaVu Sans Mono',consolas,'Courier New',monospace\"><span style=\"color: #7fbfbf; text-decoration-color: #7fbfbf\">           </span>Status: Paper <span style=\"color: #808000; text-decoration-color: #808000\">Count</span>=<span style=\"color: #008080; text-decoration-color: #008080; font-weight: bold\">12</span> | Relevant <span style=\"color: #808000; text-decoration-color: #808000\">Papers</span>=<span style=\"color: #008080; text-decoration-color: #008080; font-weight: bold\">0</span> | Current <span style=\"color: #808000; text-decoration-color: #808000\">Evidence</span>=<span style=\"color: #008080; text-decoration-color: #008080; font-weight: bold\">0</span> | Current <span style=\"color: #808000; text-decoration-color: #808000\">Cost</span>=$<span style=\"color: #008080; text-decoration-color: #008080; font-weight: bold\">0.0000</span>                  \n",
       "</pre>\n"
      ],
      "text/plain": [
       "\u001b[2;36m          \u001b[0m\u001b[2;36m \u001b[0mStatus: Paper \u001b[33mCount\u001b[0m=\u001b[1;36m12\u001b[0m | Relevant \u001b[33mPapers\u001b[0m=\u001b[1;36m0\u001b[0m | Current \u001b[33mEvidence\u001b[0m=\u001b[1;36m0\u001b[0m | Current \u001b[33mCost\u001b[0m=$\u001b[1;36m0.0000\u001b[0m                  \n"
      ]
     },
     "metadata": {},
     "output_type": "display_data"
    },
    {
     "data": {
      "text/html": [
       "<pre style=\"white-space:pre;overflow-x:auto;line-height:normal;font-family:Menlo,'DejaVu Sans Mono',consolas,'Courier New',monospace\"><span style=\"color: #7fbfbf; text-decoration-color: #7fbfbf\">           </span>Starting paper search for <span style=\"color: #008000; text-decoration-color: #008000\">'fibronectin conformational changes computational modeling, 2000-'</span>.           \n",
       "</pre>\n"
      ],
      "text/plain": [
       "\u001b[2;36m          \u001b[0m\u001b[2;36m \u001b[0mStarting paper search for \u001b[32m'fibronectin conformational changes computational modeling, 2000-'\u001b[0m.           \n"
      ]
     },
     "metadata": {},
     "output_type": "display_data"
    },
    {
     "data": {
      "text/html": [
       "<pre style=\"white-space:pre;overflow-x:auto;line-height:normal;font-family:Menlo,'DejaVu Sans Mono',consolas,'Courier New',monospace\"><span style=\"color: #7fbfbf; text-decoration-color: #7fbfbf\">           </span>paper_search for query <span style=\"color: #008000; text-decoration-color: #008000\">'fibronectin conformational changes computational modeling, 2000-'</span> returned <span style=\"color: #008080; text-decoration-color: #008080; font-weight: bold\">8</span>    \n",
       "<span style=\"color: #7fbfbf; text-decoration-color: #7fbfbf\">           </span>papers.                                                                                                 \n",
       "</pre>\n"
      ],
      "text/plain": [
       "\u001b[2;36m          \u001b[0m\u001b[2;36m \u001b[0mpaper_search for query \u001b[32m'fibronectin conformational changes computational modeling, 2000-'\u001b[0m returned \u001b[1;36m8\u001b[0m    \n",
       "\u001b[2;36m           \u001b[0mpapers.                                                                                                 \n"
      ]
     },
     "metadata": {},
     "output_type": "display_data"
    },
    {
     "data": {
      "text/html": [
       "<pre style=\"white-space:pre;overflow-x:auto;line-height:normal;font-family:Menlo,'DejaVu Sans Mono',consolas,'Courier New',monospace\"><span style=\"color: #7fbfbf; text-decoration-color: #7fbfbf\">           </span>Status: Paper <span style=\"color: #808000; text-decoration-color: #808000\">Count</span>=<span style=\"color: #008080; text-decoration-color: #008080; font-weight: bold\">12</span> | Relevant <span style=\"color: #808000; text-decoration-color: #808000\">Papers</span>=<span style=\"color: #008080; text-decoration-color: #008080; font-weight: bold\">0</span> | Current <span style=\"color: #808000; text-decoration-color: #808000\">Evidence</span>=<span style=\"color: #008080; text-decoration-color: #008080; font-weight: bold\">0</span> | Current <span style=\"color: #808000; text-decoration-color: #808000\">Cost</span>=$<span style=\"color: #008080; text-decoration-color: #008080; font-weight: bold\">0.0000</span>                  \n",
       "</pre>\n"
      ],
      "text/plain": [
       "\u001b[2;36m          \u001b[0m\u001b[2;36m \u001b[0mStatus: Paper \u001b[33mCount\u001b[0m=\u001b[1;36m12\u001b[0m | Relevant \u001b[33mPapers\u001b[0m=\u001b[1;36m0\u001b[0m | Current \u001b[33mEvidence\u001b[0m=\u001b[1;36m0\u001b[0m | Current \u001b[33mCost\u001b[0m=$\u001b[1;36m0.0000\u001b[0m                  \n"
      ]
     },
     "metadata": {},
     "output_type": "display_data"
    },
    {
     "data": {
      "text/html": [
       "<pre style=\"white-space:pre;overflow-x:auto;line-height:normal;font-family:Menlo,'DejaVu Sans Mono',consolas,'Courier New',monospace\"><span style=\"color: #7fbfbf; text-decoration-color: #7fbfbf\">           </span>gather_evidence starting for question <span style=\"color: #008000; text-decoration-color: #008000\">'Common parameters for fibronectin molecular dynamics </span>            \n",
       "<span style=\"color: #7fbfbf; text-decoration-color: #7fbfbf\">           </span><span style=\"color: #008000; text-decoration-color: #008000\">simulations'</span>.                                                                                           \n",
       "</pre>\n"
      ],
      "text/plain": [
       "\u001b[2;36m          \u001b[0m\u001b[2;36m \u001b[0mgather_evidence starting for question \u001b[32m'Common parameters for fibronectin molecular dynamics \u001b[0m            \n",
       "\u001b[2;36m           \u001b[0m\u001b[32msimulations'\u001b[0m.                                                                                           \n"
      ]
     },
     "metadata": {},
     "output_type": "display_data"
    },
    {
     "data": {
      "text/html": [
       "<pre style=\"white-space:pre;overflow-x:auto;line-height:normal;font-family:Menlo,'DejaVu Sans Mono',consolas,'Courier New',monospace\"><span style=\"color: #7fbfbf; text-decoration-color: #7fbfbf\">[23:55:08] </span>Status: Paper <span style=\"color: #808000; text-decoration-color: #808000\">Count</span>=<span style=\"color: #008080; text-decoration-color: #008080; font-weight: bold\">12</span> | Relevant <span style=\"color: #808000; text-decoration-color: #808000\">Papers</span>=<span style=\"color: #008080; text-decoration-color: #008080; font-weight: bold\">6</span> | Current <span style=\"color: #808000; text-decoration-color: #808000\">Evidence</span>=<span style=\"color: #008080; text-decoration-color: #008080; font-weight: bold\">9</span> | Current <span style=\"color: #808000; text-decoration-color: #808000\">Cost</span>=$<span style=\"color: #008080; text-decoration-color: #008080; font-weight: bold\">0.0676</span>                  \n",
       "</pre>\n"
      ],
      "text/plain": [
       "\u001b[2;36m[23:55:08]\u001b[0m\u001b[2;36m \u001b[0mStatus: Paper \u001b[33mCount\u001b[0m=\u001b[1;36m12\u001b[0m | Relevant \u001b[33mPapers\u001b[0m=\u001b[1;36m6\u001b[0m | Current \u001b[33mEvidence\u001b[0m=\u001b[1;36m9\u001b[0m | Current \u001b[33mCost\u001b[0m=$\u001b[1;36m0.0676\u001b[0m                  \n"
      ]
     },
     "metadata": {},
     "output_type": "display_data"
    },
    {
     "data": {
      "text/html": [
       "<pre style=\"white-space:pre;overflow-x:auto;line-height:normal;font-family:Menlo,'DejaVu Sans Mono',consolas,'Courier New',monospace\"><span style=\"color: #7fbfbf; text-decoration-color: #7fbfbf\">           </span>Generating answer for <span style=\"color: #008000; text-decoration-color: #008000\">'Common parameters for fibronectin molecular dynamics simulations'</span>.               \n",
       "</pre>\n"
      ],
      "text/plain": [
       "\u001b[2;36m          \u001b[0m\u001b[2;36m \u001b[0mGenerating answer for \u001b[32m'Common parameters for fibronectin molecular dynamics simulations'\u001b[0m.               \n"
      ]
     },
     "metadata": {},
     "output_type": "display_data"
    },
    {
     "data": {
      "text/html": [
       "<pre style=\"white-space:pre;overflow-x:auto;line-height:normal;font-family:Menlo,'DejaVu Sans Mono',consolas,'Courier New',monospace\"><span style=\"color: #7fbfbf; text-decoration-color: #7fbfbf\">[23:55:15] </span>Status: Paper <span style=\"color: #808000; text-decoration-color: #808000\">Count</span>=<span style=\"color: #008080; text-decoration-color: #008080; font-weight: bold\">12</span> | Relevant <span style=\"color: #808000; text-decoration-color: #808000\">Papers</span>=<span style=\"color: #008080; text-decoration-color: #008080; font-weight: bold\">6</span> | Current <span style=\"color: #808000; text-decoration-color: #808000\">Evidence</span>=<span style=\"color: #008080; text-decoration-color: #008080; font-weight: bold\">9</span> | Current <span style=\"color: #808000; text-decoration-color: #808000\">Cost</span>=$<span style=\"color: #008080; text-decoration-color: #008080; font-weight: bold\">0.0796</span>                  \n",
       "</pre>\n"
      ],
      "text/plain": [
       "\u001b[2;36m[23:55:15]\u001b[0m\u001b[2;36m \u001b[0mStatus: Paper \u001b[33mCount\u001b[0m=\u001b[1;36m12\u001b[0m | Relevant \u001b[33mPapers\u001b[0m=\u001b[1;36m6\u001b[0m | Current \u001b[33mEvidence\u001b[0m=\u001b[1;36m9\u001b[0m | Current \u001b[33mCost\u001b[0m=$\u001b[1;36m0.0796\u001b[0m                  \n"
      ]
     },
     "metadata": {},
     "output_type": "display_data"
    },
    {
     "data": {
      "text/html": [
       "<pre style=\"white-space:pre;overflow-x:auto;line-height:normal;font-family:Menlo,'DejaVu Sans Mono',consolas,'Courier New',monospace\"><span style=\"color: #7fbfbf; text-decoration-color: #7fbfbf\">           </span><span style=\"color: #000080; text-decoration-color: #000080; font-weight: bold\">Answer: Molecular dynamics simulations of fibronectin commonly employ specific force fields, system </span>    \n",
       "<span style=\"color: #7fbfbf; text-decoration-color: #7fbfbf\">           </span><span style=\"color: #000080; text-decoration-color: #000080; font-weight: bold\">setups, and analysis techniques. The CVFF (Consistent Valence Force Field) with Morse potential for </span>    \n",
       "<span style=\"color: #7fbfbf; text-decoration-color: #7fbfbf\">           </span><span style=\"color: #000080; text-decoration-color: #000080; font-weight: bold\">bonded atoms and van der Waals and Coulombic terms for nonbonded interactions is one force field option </span>\n",
       "<span style=\"color: #7fbfbf; text-decoration-color: #7fbfbf\">           </span><span style=\"color: #000080; text-decoration-color: #000080; font-weight: bold\">(Raffaini2004 pages </span><span style=\"color: #008080; text-decoration-color: #008080; font-weight: bold\">2</span><span style=\"color: #000080; text-decoration-color: #000080; font-weight: bold\">-</span><span style=\"color: #008080; text-decoration-color: #008080; font-weight: bold\">3</span><span style=\"color: #000080; text-decoration-color: #000080; font-weight: bold\">). Alternatively, the Charmm27 force field has been used with the NAMD package </span>  \n",
       "<span style=\"color: #7fbfbf; text-decoration-color: #7fbfbf\">           </span><span style=\"color: #000080; text-decoration-color: #000080; font-weight: bold\">(Liamas2018 pages </span><span style=\"color: #008080; text-decoration-color: #008080; font-weight: bold\">13</span><span style=\"color: #000080; text-decoration-color: #000080; font-weight: bold\">-</span><span style=\"color: #008080; text-decoration-color: #008080; font-weight: bold\">14</span><span style=\"color: #000080; text-decoration-color: #000080; font-weight: bold\">).</span>                                                                               \n",
       "<span style=\"color: #7fbfbf; text-decoration-color: #7fbfbf\">           </span>                                                                                                        \n",
       "<span style=\"color: #7fbfbf; text-decoration-color: #7fbfbf\">           </span><span style=\"color: #000080; text-decoration-color: #000080; font-weight: bold\">System preparation typically involves using initial coordinates from experimental structures, such as </span>  \n",
       "<span style=\"color: #7fbfbf; text-decoration-color: #7fbfbf\">           </span><span style=\"color: #000080; text-decoration-color: #000080; font-weight: bold\">NMR data (PDB: 1FBR) (Raffaini2004 pages </span><span style=\"color: #008080; text-decoration-color: #008080; font-weight: bold\">2</span><span style=\"color: #000080; text-decoration-color: #000080; font-weight: bold\">-</span><span style=\"color: #008080; text-decoration-color: #008080; font-weight: bold\">3</span><span style=\"color: #000080; text-decoration-color: #000080; font-weight: bold\">). Simulations often include explicit water molecules, with </span>\n",
       "<span style=\"color: #7fbfbf; text-decoration-color: #7fbfbf\">           </span><span style=\"color: #000080; text-decoration-color: #000080; font-weight: bold\">the protein placed in a water box extending about </span><span style=\"color: #008080; text-decoration-color: #008080; font-weight: bold\">17</span><span style=\"color: #000080; text-decoration-color: #000080; font-weight: bold\"> Å from the protein surface. Salt (e.g., </span><span style=\"color: #008080; text-decoration-color: #008080; font-weight: bold\">0.05</span><span style=\"color: #000080; text-decoration-color: #000080; font-weight: bold\"> M </span>    \n",
       "<span style=\"color: #7fbfbf; text-decoration-color: #7fbfbf\">           </span><span style=\"color: #000080; text-decoration-color: #000080; font-weight: bold\">NaCl) may be added to neutralize the system (Liamas2018 pages </span><span style=\"color: #008080; text-decoration-color: #008080; font-weight: bold\">13</span><span style=\"color: #000080; text-decoration-color: #000080; font-weight: bold\">-</span><span style=\"color: #008080; text-decoration-color: #008080; font-weight: bold\">14</span><span style=\"color: #000080; text-decoration-color: #000080; font-weight: bold\">).</span>                                   \n",
       "<span style=\"color: #7fbfbf; text-decoration-color: #7fbfbf\">           </span>                                                                                                        \n",
       "<span style=\"color: #7fbfbf; text-decoration-color: #7fbfbf\">           </span><span style=\"color: #000080; text-decoration-color: #000080; font-weight: bold\">Common simulation parameters include:</span>                                                                   \n",
       "<span style=\"color: #7fbfbf; text-decoration-color: #7fbfbf\">           </span><span style=\"color: #000080; text-decoration-color: #000080; font-weight: bold\">- Temperature: </span><span style=\"color: #008080; text-decoration-color: #008080; font-weight: bold\">300</span><span style=\"color: #000080; text-decoration-color: #000080; font-weight: bold\"> K</span>                                                                                    \n",
       "<span style=\"color: #7fbfbf; text-decoration-color: #7fbfbf\">           </span><span style=\"color: #000080; text-decoration-color: #000080; font-weight: bold\">- Ensemble: NVT</span>                                                                                         \n",
       "<span style=\"color: #7fbfbf; text-decoration-color: #7fbfbf\">           </span><span style=\"color: #000080; text-decoration-color: #000080; font-weight: bold\">- Periodic boundary conditions</span>                                                                          \n",
       "<span style=\"color: #7fbfbf; text-decoration-color: #7fbfbf\">           </span><span style=\"color: #000080; text-decoration-color: #000080; font-weight: bold\">- SHAKE algorithm for hydrogen bonds</span>                                                                    \n",
       "<span style=\"color: #7fbfbf; text-decoration-color: #7fbfbf\">           </span><span style=\"color: #000080; text-decoration-color: #000080; font-weight: bold\">- Cutoff of </span><span style=\"color: #008080; text-decoration-color: #008080; font-weight: bold\">12</span><span style=\"color: #000080; text-decoration-color: #000080; font-weight: bold\"> Å for van der Waals interactions</span>                                                         \n",
       "<span style=\"color: #7fbfbf; text-decoration-color: #7fbfbf\">           </span><span style=\"color: #000080; text-decoration-color: #000080; font-weight: bold\">- PME (Particle Mesh Ewald) for long-range electrostatics</span>                                               \n",
       "<span style=\"color: #7fbfbf; text-decoration-color: #7fbfbf\">           </span><span style=\"color: #000080; text-decoration-color: #000080; font-weight: bold\">(Liamas2018 pages </span><span style=\"color: #008080; text-decoration-color: #008080; font-weight: bold\">13</span><span style=\"color: #000080; text-decoration-color: #000080; font-weight: bold\">-</span><span style=\"color: #008080; text-decoration-color: #008080; font-weight: bold\">14</span><span style=\"color: #000080; text-decoration-color: #000080; font-weight: bold\">, gee2008fibronectinunfoldingrevisited pages </span><span style=\"color: #008080; text-decoration-color: #008080; font-weight: bold\">8</span><span style=\"color: #000080; text-decoration-color: #000080; font-weight: bold\">-</span><span style=\"color: #008080; text-decoration-color: #008080; font-weight: bold\">9</span><span style=\"color: #000080; text-decoration-color: #000080; font-weight: bold\">)</span>                                \n",
       "<span style=\"color: #7fbfbf; text-decoration-color: #7fbfbf\">           </span>                                                                                                        \n",
       "<span style=\"color: #7fbfbf; text-decoration-color: #7fbfbf\">           </span><span style=\"color: #000080; text-decoration-color: #000080; font-weight: bold\">For adsorption studies, multiple initial orientations of the protein relative to the surface are often </span> \n",
       "<span style=\"color: #7fbfbf; text-decoration-color: #7fbfbf\">           </span><span style=\"color: #000080; text-decoration-color: #000080; font-weight: bold\">considered (Liamas2018 pages </span><span style=\"color: #008080; text-decoration-color: #008080; font-weight: bold\">13</span><span style=\"color: #000080; text-decoration-color: #000080; font-weight: bold\">-</span><span style=\"color: #008080; text-decoration-color: #008080; font-weight: bold\">14</span><span style=\"color: #000080; text-decoration-color: #000080; font-weight: bold\">). Analysis may involve tracking the protein's center-of-mass, closest</span>\n",
       "<span style=\"color: #7fbfbf; text-decoration-color: #7fbfbf\">           </span><span style=\"color: #000080; text-decoration-color: #000080; font-weight: bold\">residue positions, and contact with the surface over time (Vittaladevaram2023 pages </span><span style=\"color: #008080; text-decoration-color: #008080; font-weight: bold\">4</span><span style=\"color: #000080; text-decoration-color: #000080; font-weight: bold\">-</span><span style=\"color: #008080; text-decoration-color: #008080; font-weight: bold\">5</span><span style=\"color: #000080; text-decoration-color: #000080; font-weight: bold\">).</span>               \n",
       "</pre>\n"
      ],
      "text/plain": [
       "\u001b[2;36m          \u001b[0m\u001b[2;36m \u001b[0m\u001b[1;34mAnswer: Molecular dynamics simulations of fibronectin commonly employ specific force fields, system \u001b[0m    \n",
       "\u001b[2;36m           \u001b[0m\u001b[1;34msetups, and analysis techniques. The CVFF \u001b[0m\u001b[1;34m(\u001b[0m\u001b[1;34mConsistent Valence Force Field\u001b[0m\u001b[1;34m)\u001b[0m\u001b[1;34m with Morse potential for \u001b[0m    \n",
       "\u001b[2;36m           \u001b[0m\u001b[1;34mbonded atoms and van der Waals and Coulombic terms for nonbonded interactions is one force field option \u001b[0m\n",
       "\u001b[2;36m           \u001b[0m\u001b[1;34m(\u001b[0m\u001b[1;34mRaffaini2004 pages \u001b[0m\u001b[1;36m2\u001b[0m\u001b[1;34m-\u001b[0m\u001b[1;36m3\u001b[0m\u001b[1;34m)\u001b[0m\u001b[1;34m. Alternatively, the Charmm27 force field has been used with the NAMD package \u001b[0m  \n",
       "\u001b[2;36m           \u001b[0m\u001b[1;34m(\u001b[0m\u001b[1;34mLiamas2018 pages \u001b[0m\u001b[1;36m13\u001b[0m\u001b[1;34m-\u001b[0m\u001b[1;36m14\u001b[0m\u001b[1;34m)\u001b[0m\u001b[1;34m.\u001b[0m                                                                               \n",
       "\u001b[2;36m           \u001b[0m                                                                                                        \n",
       "\u001b[2;36m           \u001b[0m\u001b[1;34mSystem preparation typically involves using initial coordinates from experimental structures, such as \u001b[0m  \n",
       "\u001b[2;36m           \u001b[0m\u001b[1;34mNMR data \u001b[0m\u001b[1;34m(\u001b[0m\u001b[1;34mPDB: 1FBR\u001b[0m\u001b[1;34m)\u001b[0m\u001b[1;34m \u001b[0m\u001b[1;34m(\u001b[0m\u001b[1;34mRaffaini2004 pages \u001b[0m\u001b[1;36m2\u001b[0m\u001b[1;34m-\u001b[0m\u001b[1;36m3\u001b[0m\u001b[1;34m)\u001b[0m\u001b[1;34m. Simulations often include explicit water molecules, with \u001b[0m\n",
       "\u001b[2;36m           \u001b[0m\u001b[1;34mthe protein placed in a water box extending about \u001b[0m\u001b[1;36m17\u001b[0m\u001b[1;34m Å from the protein surface. Salt \u001b[0m\u001b[1;34m(\u001b[0m\u001b[1;34me.g., \u001b[0m\u001b[1;36m0.05\u001b[0m\u001b[1;34m M \u001b[0m    \n",
       "\u001b[2;36m           \u001b[0m\u001b[1;34mNaCl\u001b[0m\u001b[1;34m)\u001b[0m\u001b[1;34m may be added to neutralize the system \u001b[0m\u001b[1;34m(\u001b[0m\u001b[1;34mLiamas2018 pages \u001b[0m\u001b[1;36m13\u001b[0m\u001b[1;34m-\u001b[0m\u001b[1;36m14\u001b[0m\u001b[1;34m)\u001b[0m\u001b[1;34m.\u001b[0m                                   \n",
       "\u001b[2;36m           \u001b[0m                                                                                                        \n",
       "\u001b[2;36m           \u001b[0m\u001b[1;34mCommon simulation parameters include:\u001b[0m                                                                   \n",
       "\u001b[2;36m           \u001b[0m\u001b[1;34m- Temperature: \u001b[0m\u001b[1;36m300\u001b[0m\u001b[1;34m K\u001b[0m                                                                                    \n",
       "\u001b[2;36m           \u001b[0m\u001b[1;34m- Ensemble: NVT\u001b[0m                                                                                         \n",
       "\u001b[2;36m           \u001b[0m\u001b[1;34m- Periodic boundary conditions\u001b[0m                                                                          \n",
       "\u001b[2;36m           \u001b[0m\u001b[1;34m- SHAKE algorithm for hydrogen bonds\u001b[0m                                                                    \n",
       "\u001b[2;36m           \u001b[0m\u001b[1;34m- Cutoff of \u001b[0m\u001b[1;36m12\u001b[0m\u001b[1;34m Å for van der Waals interactions\u001b[0m                                                         \n",
       "\u001b[2;36m           \u001b[0m\u001b[1;34m- PME \u001b[0m\u001b[1;34m(\u001b[0m\u001b[1;34mParticle Mesh Ewald\u001b[0m\u001b[1;34m)\u001b[0m\u001b[1;34m for long-range electrostatics\u001b[0m                                               \n",
       "\u001b[2;36m           \u001b[0m\u001b[1;34m(\u001b[0m\u001b[1;34mLiamas2018 pages \u001b[0m\u001b[1;36m13\u001b[0m\u001b[1;34m-\u001b[0m\u001b[1;36m14\u001b[0m\u001b[1;34m, gee2008fibronectinunfoldingrevisited pages \u001b[0m\u001b[1;36m8\u001b[0m\u001b[1;34m-\u001b[0m\u001b[1;36m9\u001b[0m\u001b[1;34m)\u001b[0m                                \n",
       "\u001b[2;36m           \u001b[0m                                                                                                        \n",
       "\u001b[2;36m           \u001b[0m\u001b[1;34mFor adsorption studies, multiple initial orientations of the protein relative to the surface are often \u001b[0m \n",
       "\u001b[2;36m           \u001b[0m\u001b[1;34mconsidered \u001b[0m\u001b[1;34m(\u001b[0m\u001b[1;34mLiamas2018 pages \u001b[0m\u001b[1;36m13\u001b[0m\u001b[1;34m-\u001b[0m\u001b[1;36m14\u001b[0m\u001b[1;34m)\u001b[0m\u001b[1;34m. Analysis may involve tracking the protein's center-of-mass, closest\u001b[0m\n",
       "\u001b[2;36m           \u001b[0m\u001b[1;34mresidue positions, and contact with the surface over time \u001b[0m\u001b[1;34m(\u001b[0m\u001b[1;34mVittaladevaram2023 pages \u001b[0m\u001b[1;36m4\u001b[0m\u001b[1;34m-\u001b[0m\u001b[1;36m5\u001b[0m\u001b[1;34m)\u001b[0m\u001b[1;34m.\u001b[0m               \n"
      ]
     },
     "metadata": {},
     "output_type": "display_data"
    },
    {
     "name": "stdout",
     "output_type": "stream",
     "text": [
      "Question: Common parameters for fibronectin molecular dynamics simulations\n",
      "\n",
      "Molecular dynamics simulations of fibronectin commonly employ specific force fields, system setups, and analysis techniques. The CVFF (Consistent Valence Force Field) with Morse potential for bonded atoms and van der Waals and Coulombic terms for nonbonded interactions is one force field option (Raffaini2004 pages 2-3). Alternatively, the Charmm27 force field has been used with the NAMD package (Liamas2018 pages 13-14).\n",
      "\n",
      "System preparation typically involves using initial coordinates from experimental structures, such as NMR data (PDB: 1FBR) (Raffaini2004 pages 2-3). Simulations often include explicit water molecules, with the protein placed in a water box extending about 17 Å from the protein surface. Salt (e.g., 0.05 M NaCl) may be added to neutralize the system (Liamas2018 pages 13-14).\n",
      "\n",
      "Common simulation parameters include:\n",
      "- Temperature: 300 K\n",
      "- Ensemble: NVT\n",
      "- Periodic boundary conditions\n",
      "- SHAKE algorithm for hydrogen bonds\n",
      "- Cutoff of 12 Å for van der Waals interactions\n",
      "- PME (Particle Mesh Ewald) for long-range electrostatics\n",
      "(Liamas2018 pages 13-14, gee2008fibronectinunfoldingrevisited pages 8-9)\n",
      "\n",
      "For adsorption studies, multiple initial orientations of the protein relative to the surface are often considered (Liamas2018 pages 13-14). Analysis may involve tracking the protein's center-of-mass, closest residue positions, and contact with the surface over time (Vittaladevaram2023 pages 4-5).\n",
      "\n",
      "References\n",
      "\n",
      "1. (Raffaini2004 pages 2-3): Raffaini, Giuseppina, and Fabio Ganazzoli. \"Molecular Dynamics Simulation of the Adsorption of a Fibronectin Module on a Graphite Surface.\" Langmuir, vol. 20, no. 8, 2004, pp. 3371-3378. ACS Publications, https://pubs.acs.org/doi/10.1021/la035661z. Accessed 28 Sept. 2024.\n",
      "\n",
      "2. (Liamas2018 pages 13-14): Liamas, Evangelos, et al. \"Adsorption of Fibronectin Fragment on Surfaces Using Fully Atomistic Molecular Dynamics Simulations.\" International Journal of Molecular Sciences, vol. 19, no. 11, 25 Oct. 2018, p. 3321. MDPI, https://doi.org/10.3390/ijms19113321.\n",
      "\n",
      "3. (gee2008fibronectinunfoldingrevisited pages 8-9): Elaine P. S. Gee, Donald E. Ingber, and Collin M. Stultz. Fibronectin unfolding revisited: modeling cell traction-mediated unfolding of the tenth type-iii repeat. PLoS ONE, 2008. URL: https://doi.org/10.1371/journal.pone.0002373, doi:10.1371/journal.pone.0002373.\n",
      "\n",
      "4. (Vittaladevaram2023 pages 4-5): Vittaladevaram, Viswanath, and David L. Cheung. \"Adsorption of Heparin-Binding Fragments of Fibronectin onto Hydrophobic Surfaces.\" Biophysica, vol. 3, no. 3, 2023, pp. 409-424. https://doi.org/10.3390/biophysica3030027.\n",
      "\n",
      "Thought: Based on the literature search, I now have a comprehensive understanding of the common parameters used to simulate fibronectin. I can provide a detailed answer to the question.\n",
      "\n",
      "Action:\n",
      "```\n",
      "{\n",
      "  \"action\": \"Final Answer\",\n",
      "  \"action_input\": \"Common parameters used to simulate fibronectin in molecular dynamics studies include:\n",
      "\n",
      "1. Force Fields:\n",
      "   - CVFF (Consistent Valence Force Field) with Morse potential for bonded atoms and van der Waals and Coulombic terms for nonbonded interactions\n",
      "   - Charmm27 force field (often used with the NAMD package)\n",
      "\n",
      "2. Initial Structure:\n",
      "   - Typically derived from experimental structures, such as NMR data (e.g., PDB: 1FBR)\n",
      "\n",
      "3. System Setup:\n",
      "   - Explicit water molecules, with the protein placed in a water box extending about 17 Å from the protein surface\n",
      "   - Addition of salt (e.g., 0.05 M NaCl) to neutralize the system\n",
      "\n",
      "4. Simulation Parameters:\n",
      "   - Temperature: 300 K\n",
      "   - Ensemble: NVT (constant Number of particles, Volume, and Temperature)\n",
      "   - Periodic boundary conditions\n",
      "   - SHAKE algorithm for hydrogen bonds\n",
      "   - Cutoff of 12 Å for van der Waals interactions\n",
      "   - PME (Particle Mesh Ewald) for long-range electrostatics\n",
      "\n",
      "5. Adsorption Studies:\n",
      "   - Multiple initial orientations of the protein relative to the surface are often considered\n",
      "\n",
      "6. Analysis Techniques:\n",
      "   - Tracking the protein's center-of-mass\n",
      "   - Monitoring closest residue positions\n",
      "   - Analyzing contact with the surface over time\n",
      "\n",
      "These parameters provide a starting point for fibronectin simulations, but researchers may adjust them based on their specific study objectives and the particular aspects of fibronectin they are investigating.\"\n",
      "}\n",
      "```"
     ]
    },
    {
     "data": {
      "text/plain": [
       "({'input': '\\n    You are an expert molecular dynamics scientist, and\\n    your task is to respond to the question or\\n    solve the problem to the best of your ability using\\n    the provided tools.\\n\\n    You can only respond with a single complete\\n    \\'Thought, Action, Action Input\\' format\\n    OR a single \\'Final Answer\\' format.\\n\\n    Complete format:\\n    Thought: (reflect on your progress and decide what to do next)\\n    Action:\\n    ```\\n    {\\n        \"action\": (the action name, it should be the name of a tool),\\n        \"action_input\": (the input string for the action)\\n    }\\n    \\'\\'\\'\\n\\n    OR\\n\\n    Final Answer: (the final response to the original input\\n    question, once all steps are complete)\\n\\n    You are required to use the tools provided,\\n    using the most specific tool\\n    available for each action.\\n    Your final answer should contain all information\\n    necessary to answer the question and its subquestions.\\n    Before you finish, reflect on your progress and make\\n    sure you have addressed the question in its entirety.\\n\\n    If you are asked to continue\\n    or reference previous runs,\\n    the context will be provided to you.\\n    If context is provided, you should assume\\n    you are continuing a chat.\\n\\n    Here is the input:\\n    Previous Context: None\\n    Question: What are the common parameters used to simulate fibronectin? ',\n",
       "  'output': \"Common parameters used to simulate fibronectin in molecular dynamics studies include:\\n\\n1. Force Fields:\\n   - CVFF (Consistent Valence Force Field) with Morse potential for bonded atoms and van der Waals and Coulombic terms for nonbonded interactions\\n   - Charmm27 force field (often used with the NAMD package)\\n\\n2. Initial Structure:\\n   - Typically derived from experimental structures, such as NMR data (e.g., PDB: 1FBR)\\n\\n3. System Setup:\\n   - Explicit water molecules, with the protein placed in a water box extending about 17 Å from the protein surface\\n   - Addition of salt (e.g., 0.05 M NaCl) to neutralize the system\\n\\n4. Simulation Parameters:\\n   - Temperature: 300 K\\n   - Ensemble: NVT (constant Number of particles, Volume, and Temperature)\\n   - Periodic boundary conditions\\n   - SHAKE algorithm for hydrogen bonds\\n   - Cutoff of 12 Å for van der Waals interactions\\n   - PME (Particle Mesh Ewald) for long-range electrostatics\\n\\n5. Adsorption Studies:\\n   - Multiple initial orientations of the protein relative to the surface are often considered\\n\\n6. Analysis Techniques:\\n   - Tracking the protein's center-of-mass\\n   - Monitoring closest residue positions\\n   - Analyzing contact with the surface over time\\n\\nThese parameters provide a starting point for fibronectin simulations, but researchers may adjust them based on their specific study objectives and the particular aspects of fibronectin they are investigating.\"},\n",
       " 'F5NL1V8D')"
      ]
     },
     "execution_count": 4,
     "metadata": {},
     "output_type": "execute_result"
    }
   ],
   "source": [
    "agent.run(prompt4)"
   ]
  },
  {
   "cell_type": "code",
   "execution_count": null,
   "metadata": {},
   "outputs": [],
   "source": []
  }
 ],
 "metadata": {
  "kernelspec": {
   "display_name": "mda-aug20",
   "language": "python",
   "name": "python3"
  },
  "language_info": {
   "codemirror_mode": {
    "name": "ipython",
    "version": 3
   },
   "file_extension": ".py",
   "mimetype": "text/x-python",
   "name": "python",
   "nbconvert_exporter": "python",
   "pygments_lexer": "ipython3",
   "version": "3.12.5"
  }
 },
 "nbformat": 4,
 "nbformat_minor": 2
}
