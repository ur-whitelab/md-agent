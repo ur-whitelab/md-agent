{
 "cells": [
  {
   "cell_type": "code",
   "execution_count": 1,
   "metadata": {},
   "outputs": [],
   "source": [
    "import os\n",
    "from mdcrow import MDCrow"
   ]
  },
  {
   "cell_type": "code",
   "execution_count": 2,
   "metadata": {},
   "outputs": [
    {
     "name": "stdout",
     "output_type": "stream",
     "text": [
      "claude-3-5-sonnet-20240620\n"
     ]
    }
   ],
   "source": [
    "prompt13 = \"Download and clean protein 1A3N.\"\n",
    "llm_var = \"claude-3-5-sonnet-20240620\"\n",
    "tools = \"all\"\n",
    "agent = MDCrow(agent_type=\"Structured\", model=llm_var, top_k_tools=tools, use_memory=False)\n",
    "print(llm_var)"
   ]
  },
  {
   "cell_type": "code",
   "execution_count": 3,
   "metadata": {},
   "outputs": [
    {
     "name": "stdout",
     "output_type": "stream",
     "text": [
      "Thought: To download and clean protein 1A3N, I need to first download the PDB file and then use the cleaning tool to process it. Let's start by downloading the PDB file.\n",
      "\n",
      "Action:\n",
      "```\n",
      "{\n",
      "    \"action\": \"PDBFileDownloader\",\n",
      "    \"action_input\": \"1A3N\"\n",
      "}\n",
      "```PDB file found with this ID: 1A3N\n",
      "Thought: Great, we have successfully downloaded the PDB file for protein 1A3N. Now, let's proceed with cleaning the protein structure using the CleaningToolFunction.\n",
      "\n",
      "Action:\n",
      "```\n",
      "{\n",
      "    \"action\": \"CleaningToolFunction\",\n",
      "    \"action_input\": {\n",
      "        \"pdb_id\": \"1A3N_233134\",\n",
      "        \"replace_nonstandard_residues\": true,\n",
      "        \"add_missing_atoms\": true,\n",
      "        \"remove_heterogens\": true,\n",
      "        \"remove_water\": true,\n",
      "        \"add_hydrogens\": true,\n",
      "        \"add_hydrogens_ph\": 7.0\n",
      "    }\n",
      "}\n",
      "```file path: /Users/samanthacox/Desktop/md-agent/ckpt/ckpt_70/pdb/1A3N_raw_20240912_233134.pdb\n",
      "Thought: We have successfully downloaded and cleaned the protein 1A3N. Now, I can provide a final answer summarizing what we've done.\n",
      "\n",
      "Final Answer: The protein 1A3N has been successfully downloaded and cleaned. Here's a summary of the process:\n",
      "\n",
      "1. Download: The PDB file for protein 1A3N was downloaded using the PDBFileDownloader tool. The downloaded file was assigned the ID \"1A3N_233134\".\n",
      "\n",
      "2. Cleaning: The downloaded PDB file was then cleaned using the CleaningToolFunction with the following parameters:\n",
      "   - Replaced nonstandard residues\n",
      "   - Added missing atoms\n",
      "   - Removed heterogens\n",
      "   - Removed water molecules\n",
      "   - Added hydrogen atoms at pH 7.0\n",
      "\n",
      "The cleaning process was successful, and the cleaned file was assigned the ID \"1A3N_233220\".\n",
      "\n",
      "The protein 1A3N is now ready for further analysis or use in molecular dynamics simulations. The cleaned structure should have a more standardized and complete representation of the protein, with non-protein elements removed and hydrogen atoms added at physiological pH."
     ]
    },
    {
     "data": {
      "text/plain": [
       "({'input': '\\n    You are an expert molecular dynamics scientist, and\\n    your task is to respond to the question or\\n    solve the problem to the best of your ability using\\n    the provided tools.\\n\\n    You can only respond with a single complete\\n    \\'Thought, Action, Action Input\\' format\\n    OR a single \\'Final Answer\\' format.\\n\\n    Complete format:\\n    Thought: (reflect on your progress and decide what to do next)\\n    Action:\\n    ```\\n    {\\n        \"action\": (the action name, it should be the name of a tool),\\n        \"action_input\": (the input string for the action)\\n    }\\n    \\'\\'\\'\\n\\n    OR\\n\\n    Final Answer: (the final response to the original input\\n    question, once all steps are complete)\\n\\n    You are required to use the tools provided,\\n    using the most specific tool\\n    available for each action.\\n    Your final answer should contain all information\\n    necessary to answer the question and its subquestions.\\n    Before you finish, reflect on your progress and make\\n    sure you have addressed the question in its entirety.\\n\\n    If you are asked to continue\\n    or reference previous runs,\\n    the context will be provided to you.\\n    If context is provided, you should assume\\n    you are continuing a chat.\\n\\n    Here is the input:\\n    Previous Context: None\\n    Question: Download and clean protein 1A3N. ',\n",
       "  'output': 'Thought: We have successfully downloaded and cleaned the protein 1A3N. Now, I can provide a final answer summarizing what we\\'ve done.\\n\\nFinal Answer: The protein 1A3N has been successfully downloaded and cleaned. Here\\'s a summary of the process:\\n\\n1. Download: The PDB file for protein 1A3N was downloaded using the PDBFileDownloader tool. The downloaded file was assigned the ID \"1A3N_233134\".\\n\\n2. Cleaning: The downloaded PDB file was then cleaned using the CleaningToolFunction with the following parameters:\\n   - Replaced nonstandard residues\\n   - Added missing atoms\\n   - Removed heterogens\\n   - Removed water molecules\\n   - Added hydrogen atoms at pH 7.0\\n\\nThe cleaning process was successful, and the cleaned file was assigned the ID \"1A3N_233220\".\\n\\nThe protein 1A3N is now ready for further analysis or use in molecular dynamics simulations. The cleaned structure should have a more standardized and complete representation of the protein, with non-protein elements removed and hydrogen atoms added at physiological pH.'},\n",
       " 'RIMA0VRI')"
      ]
     },
     "execution_count": 3,
     "metadata": {},
     "output_type": "execute_result"
    }
   ],
   "source": [
    "agent.run(prompt13)"
   ]
  },
  {
   "cell_type": "code",
   "execution_count": 4,
   "metadata": {},
   "outputs": [
    {
     "name": "stdout",
     "output_type": "stream",
     "text": [
      "ckpt_70\n",
      "Files found in registry: 1A3N_233134: PDB file downloaded from RSCB\n",
      " PDBFile ID: 1A3N_233134\n",
      " 1A3N_233220: Cleaned File:  Removed Heterogens\n",
      " and Water Removed.  Replaced Nonstandard Residues. Added Hydrogens at pH 7.0. Missing Atoms Added and replaces nonstandard residues. \n"
     ]
    }
   ],
   "source": [
    "registry = agent.path_registry\n",
    "print(os.path.basename(registry.ckpt_dir))\n",
    "paths_and_descriptions = registry.list_path_names_and_descriptions()\n",
    "print(\"\\n\".join(paths_and_descriptions.split(\",\")))"
   ]
  }
 ],
 "metadata": {
  "kernelspec": {
   "display_name": "mda-aug20",
   "language": "python",
   "name": "python3"
  },
  "language_info": {
   "codemirror_mode": {
    "name": "ipython",
    "version": 3
   },
   "file_extension": ".py",
   "mimetype": "text/x-python",
   "name": "python",
   "nbconvert_exporter": "python",
   "pygments_lexer": "ipython3",
   "version": "3.12.5"
  }
 },
 "nbformat": 4,
 "nbformat_minor": 4
}
