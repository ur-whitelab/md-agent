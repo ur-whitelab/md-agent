{
 "cells": [
  {
   "cell_type": "code",
   "execution_count": 1,
   "metadata": {},
   "outputs": [],
   "source": [
    "import os\n",
    "from mdcrow import MDCrow"
   ]
  },
  {
   "cell_type": "code",
   "execution_count": 2,
   "metadata": {},
   "outputs": [
    {
     "name": "stdout",
     "output_type": "stream",
     "text": [
      "claude-3-5-sonnet-20240620\n"
     ]
    }
   ],
   "source": [
    "prompt2 = \"Download the PDB file for protein 1LYZ.\"\n",
    "llm_var = \"claude-3-5-sonnet-20240620\"\n",
    "tools = \"all\"\n",
    "agent = MDCrow(agent_type=\"Structured\", model=llm_var, top_k_tools=tools, use_memory=False)\n",
    "print(llm_var)"
   ]
  },
  {
   "cell_type": "code",
   "execution_count": 3,
   "metadata": {},
   "outputs": [
    {
     "name": "stdout",
     "output_type": "stream",
     "text": [
      "Certainly! I'll download the PDB file for protein 1LYZ using the PDBFileDownloader tool.\n",
      "\n",
      "Thought: To download the PDB file for protein 1LYZ, I need to use the PDBFileDownloader tool. The input should be the PDB ID, which is 1LYZ in this case.\n",
      "\n",
      "Action:\n",
      "```\n",
      "{\n",
      "    \"action\": \"PDBFileDownloader\",\n",
      "    \"action_input\": \"1LYZ\"\n",
      "}\n",
      "```PDB file found with this ID: 1LYZ\n",
      "Thought: The PDB file for protein 1LYZ has been successfully downloaded. Now I should provide a final answer summarizing the action taken and the result.\n",
      "\n",
      "Final Answer: The PDB file for protein 1LYZ has been successfully downloaded using the PDBFileDownloader tool. The downloaded file is named \"1LYZ_214250\" and is now available for further analysis or use in molecular dynamics simulations. This file contains the three-dimensional structural information of the protein, including the coordinates of all atoms in the molecule. The \"_214250\" suffix is likely a unique identifier added to the filename to avoid conflicts with other downloads."
     ]
    },
    {
     "data": {
      "text/plain": [
       "({'input': '\\n    You are an expert molecular dynamics scientist, and\\n    your task is to respond to the question or\\n    solve the problem to the best of your ability using\\n    the provided tools.\\n\\n    You can only respond with a single complete\\n    \\'Thought, Action, Action Input\\' format\\n    OR a single \\'Final Answer\\' format.\\n\\n    Complete format:\\n    Thought: (reflect on your progress and decide what to do next)\\n    Action:\\n    ```\\n    {\\n        \"action\": (the action name, it should be the name of a tool),\\n        \"action_input\": (the input string for the action)\\n    }\\n    \\'\\'\\'\\n\\n    OR\\n\\n    Final Answer: (the final response to the original input\\n    question, once all steps are complete)\\n\\n    You are required to use the tools provided,\\n    using the most specific tool\\n    available for each action.\\n    Your final answer should contain all information\\n    necessary to answer the question and its subquestions.\\n    Before you finish, reflect on your progress and make\\n    sure you have addressed the question in its entirety.\\n\\n    If you are asked to continue\\n    or reference previous runs,\\n    the context will be provided to you.\\n    If context is provided, you should assume\\n    you are continuing a chat.\\n\\n    Here is the input:\\n    Previous Context: None\\n    Question: Download the PDB file for protein 1LYZ. ',\n",
       "  'output': 'Thought: The PDB file for protein 1LYZ has been successfully downloaded. Now I should provide a final answer summarizing the action taken and the result.\\n\\nFinal Answer: The PDB file for protein 1LYZ has been successfully downloaded using the PDBFileDownloader tool. The downloaded file is named \"1LYZ_214250\" and is now available for further analysis or use in molecular dynamics simulations. This file contains the three-dimensional structural information of the protein, including the coordinates of all atoms in the molecule. The \"_214250\" suffix is likely a unique identifier added to the filename to avoid conflicts with other downloads.'},\n",
       " 'YZAN2R1R')"
      ]
     },
     "execution_count": 3,
     "metadata": {},
     "output_type": "execute_result"
    }
   ],
   "source": [
    "agent.run(prompt2)"
   ]
  },
  {
   "cell_type": "code",
   "execution_count": 4,
   "metadata": {},
   "outputs": [
    {
     "name": "stdout",
     "output_type": "stream",
     "text": [
      "Files found in registry: 1LYZ_214250: PDB file downloaded from RSCB, PDBFile ID: 1LYZ_214250\n"
     ]
    }
   ],
   "source": [
    "registry = agent.path_registry\n",
    "all_paths = registry.list_path_names_and_descriptions()\n",
    "print (all_paths)\n",
    "assert \"1LYZ\" in all_paths\n",
    "file_id = all_paths.split(\"Files found in registry: \")[1].split(\":\")[0]"
   ]
  },
  {
   "cell_type": "code",
   "execution_count": 5,
   "metadata": {},
   "outputs": [],
   "source": [
    "pdb_path = registry.get_mapped_path(file_id)\n",
    "assert os.path.exists(pdb_path)"
   ]
  }
 ],
 "metadata": {
  "kernelspec": {
   "display_name": "mda-aug20",
   "language": "python",
   "name": "python3"
  },
  "language_info": {
   "codemirror_mode": {
    "name": "ipython",
    "version": 3
   },
   "file_extension": ".py",
   "mimetype": "text/x-python",
   "name": "python",
   "nbconvert_exporter": "python",
   "pygments_lexer": "ipython3",
   "version": "3.12.5"
  }
 },
 "nbformat": 4,
 "nbformat_minor": 4
}
