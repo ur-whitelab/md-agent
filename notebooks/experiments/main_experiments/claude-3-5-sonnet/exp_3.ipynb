{
 "cells": [
  {
   "cell_type": "code",
   "execution_count": 2,
   "metadata": {},
   "outputs": [],
   "source": [
    "from mdcrow import MDCrow"
   ]
  },
  {
   "cell_type": "code",
   "execution_count": 3,
   "metadata": {},
   "outputs": [
    {
     "name": "stdout",
     "output_type": "stream",
     "text": [
      "claude-3-5-sonnet-20240620\n"
     ]
    }
   ],
   "source": [
    "prompt3 = \"Download the PDB file for protein 1GZX. Then, analyze the secondary structure of the protein and provide information on how many helices, sheets, and other components are present. Get the gene names for this protein.\"\n",
    "llm_var = \"claude-3-5-sonnet-20240620\"\n",
    "tools = \"all\"\n",
    "agent = MDCrow(agent_type=\"Structured\", model=llm_var, top_k_tools=tools, use_memory=False)\n",
    "print (llm_var)"
   ]
  },
  {
   "cell_type": "code",
   "execution_count": 4,
   "metadata": {},
   "outputs": [
    {
     "name": "stdout",
     "output_type": "stream",
     "text": [
      "Thought: To answer this question, I need to follow these steps:\n",
      "1. Download the PDB file for protein 1GZX\n",
      "2. Analyze the secondary structure of the protein\n",
      "3. Get the gene names for this protein\n",
      "\n",
      "Let's start by downloading the PDB file.\n",
      "\n",
      "Action:\n",
      "```\n",
      "{\n",
      "    \"action\": \"PDBFileDownloader\",\n",
      "    \"action_input\": \"1GZX\"\n",
      "}\n",
      "```PDB file found with this ID: 1GZX\n",
      "Thought: Great, we have successfully downloaded the PDB file for protein 1GZX. Now, let's analyze the secondary structure of the protein using the ComputeDSSP tool. This tool will provide information about the secondary structure elements, including helices and sheets.\n",
      "\n",
      "Action:\n",
      "```\n",
      "{\n",
      "    \"action\": \"ComputeDSSP\",\n",
      "    \"action_input\": {\n",
      "        \"traj_file\": \"1GZX_201328\",\n",
      "        \"top_file\": \"1GZX_201328\",\n",
      "        \"target_frames\": \"all\"\n",
      "    }\n",
      "}\n",
      "```\n",
      "\n",
      "Thought: We've successfully analyzed the secondary structure of the protein 1GZX. Now, let's get the gene names for this protein using the GetGeneNames tool. After that, we'll have all the information needed to provide a final answer.\n",
      "\n",
      "Action:\n",
      "```\n",
      "{\n",
      "    \"action\": \"GetGeneNames\",\n",
      "    \"action_input\": {\n",
      "        \"query\": \"1GZX\"\n",
      "    }\n",
      "}\n",
      "```\n",
      "\n",
      "Thought: Now that we have all the necessary information, we can provide a final answer to the question.\n",
      "\n",
      "Final Answer: The PDB file for protein 1GZX was successfully downloaded and analyzed. Here's the information requested:\n",
      "\n",
      "1. Secondary Structure Analysis:\n",
      "   - Helices: The protein contains 444 residues in helical structures.\n",
      "   - Sheets: There are 0 residues in beta-sheet structures.\n",
      "   - Other components: \n",
      "     - 130 residues are in coil structures.\n",
      "     - 213 residues were not assigned or are not protein residues.\n",
      "\n",
      "2. Gene Names:\n",
      "   The protein 1GZX is associated with the following genes:\n",
      "   - HBB\n",
      "   - HBA1\n",
      "   - HBA2\n",
      "\n",
      "In summary, the protein 1GZX is predominantly composed of helical structures, with no beta-sheets present. It also contains a significant number of coil structures and some unassigned or non-protein residues. The protein is encoded by three genes: HBB, HBA1, and HBA2, which are likely related to hemoglobin subunits (alpha and beta chains) based on their names."
     ]
    },
    {
     "data": {
      "text/plain": [
       "({'input': '\\n    You are an expert molecular dynamics scientist, and\\n    your task is to respond to the question or\\n    solve the problem to the best of your ability using\\n    the provided tools.\\n\\n    You can only respond with a single complete\\n    \\'Thought, Action, Action Input\\' format\\n    OR a single \\'Final Answer\\' format.\\n\\n    Complete format:\\n    Thought: (reflect on your progress and decide what to do next)\\n    Action:\\n    ```\\n    {\\n        \"action\": (the action name, it should be the name of a tool),\\n        \"action_input\": (the input string for the action)\\n    }\\n    \\'\\'\\'\\n\\n    OR\\n\\n    Final Answer: (the final response to the original input\\n    question, once all steps are complete)\\n\\n    You are required to use the tools provided,\\n    using the most specific tool\\n    available for each action.\\n    Your final answer should contain all information\\n    necessary to answer the question and its subquestions.\\n    Before you finish, reflect on your progress and make\\n    sure you have addressed the question in its entirety.\\n\\n    If you are asked to continue\\n    or reference previous runs,\\n    the context will be provided to you.\\n    If context is provided, you should assume\\n    you are continuing a chat.\\n\\n    Here is the input:\\n    Previous Context: None\\n    Question: Download the PDB file for protein 1GZX. Then, analyze the secondary structure of the protein and provide information on how many helices, sheets, and other components are present. Get the gene names for this protein. ',\n",
       "  'output': \"Thought: Now that we have all the necessary information, we can provide a final answer to the question.\\n\\nFinal Answer: The PDB file for protein 1GZX was successfully downloaded and analyzed. Here's the information requested:\\n\\n1. Secondary Structure Analysis:\\n   - Helices: The protein contains 444 residues in helical structures.\\n   - Sheets: There are 0 residues in beta-sheet structures.\\n   - Other components: \\n     - 130 residues are in coil structures.\\n     - 213 residues were not assigned or are not protein residues.\\n\\n2. Gene Names:\\n   The protein 1GZX is associated with the following genes:\\n   - HBB\\n   - HBA1\\n   - HBA2\\n\\nIn summary, the protein 1GZX is predominantly composed of helical structures, with no beta-sheets present. It also contains a significant number of coil structures and some unassigned or non-protein residues. The protein is encoded by three genes: HBB, HBA1, and HBA2, which are likely related to hemoglobin subunits (alpha and beta chains) based on their names.\"},\n",
       " 'ZKRY1OQL')"
      ]
     },
     "execution_count": 4,
     "metadata": {},
     "output_type": "execute_result"
    }
   ],
   "source": [
    "agent.run(prompt3)"
   ]
  },
  {
   "cell_type": "code",
   "execution_count": 5,
   "metadata": {},
   "outputs": [
    {
     "name": "stdout",
     "output_type": "stream",
     "text": [
      "Files found in registry: 1GZX_201328: PDB file downloaded from RSCB, PDBFile ID: 1GZX_201328, rec0_201332: dssp values for trajectory with id: 1GZX_201328\n"
     ]
    }
   ],
   "source": [
    "registry = agent.path_registry\n",
    "all_paths = registry.list_path_names_and_descriptions()\n",
    "print (all_paths)\n",
    "assert \"1GZX\" in all_paths\n",
    "file_id = all_paths.split(\"Files found in registry: \")[1].split(\":\")[0]"
   ]
  },
  {
   "cell_type": "code",
   "execution_count": 6,
   "metadata": {},
   "outputs": [
    {
     "name": "stdout",
     "output_type": "stream",
     "text": [
      "Number of residues in sheets:  0\n",
      "Number of residues in helices:  444\n",
      "Number of residues in coils:  130\n"
     ]
    }
   ],
   "source": [
    "import mdtraj as md\n",
    "file_path = registry.get_mapped_path(file_id)\n",
    "traj = md.load(file_path)\n",
    "top = traj.topology\n",
    "\n",
    "secondary_structure = md.compute_dssp(traj,simplified=True)\n",
    "print(\"Number of residues in sheets: \",len([i for i in secondary_structure[0] if i == 'E']))\n",
    "print(\"Number of residues in helices: \",len([i for i in secondary_structure[0] if i == 'H']))\n",
    "print(\"Number of residues in coils: \",len([i for i in secondary_structure[0] if i == 'C']))"
   ]
  },
  {
   "cell_type": "code",
   "execution_count": 10,
   "metadata": {},
   "outputs": [],
   "source": [
    "from mdcrow.tools.base_tools import GetGeneNames\n",
    "GetGeneNames().run(\"1GZX\")"
   ]
  },
  {
   "cell_type": "code",
   "execution_count": null,
   "metadata": {},
   "outputs": [],
   "source": []
  }
 ],
 "metadata": {
  "kernelspec": {
   "display_name": "mda-aug20",
   "language": "python",
   "name": "python3"
  },
  "language_info": {
   "codemirror_mode": {
    "name": "ipython",
    "version": 3
   },
   "file_extension": ".py",
   "mimetype": "text/x-python",
   "name": "python",
   "nbconvert_exporter": "python",
   "pygments_lexer": "ipython3",
   "version": "3.12.5"
  }
 },
 "nbformat": 4,
 "nbformat_minor": 4
}
