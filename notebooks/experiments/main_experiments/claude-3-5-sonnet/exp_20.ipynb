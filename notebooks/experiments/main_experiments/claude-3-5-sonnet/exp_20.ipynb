{
 "cells": [
  {
   "cell_type": "code",
   "execution_count": 1,
   "metadata": {},
   "outputs": [],
   "source": [
    "import os\n",
    "from mdcrow import MDCrow"
   ]
  },
  {
   "cell_type": "code",
   "execution_count": 2,
   "metadata": {},
   "outputs": [
    {
     "name": "stdout",
     "output_type": "stream",
     "text": [
      "claude-3-5-sonnet-20240620\n"
     ]
    }
   ],
   "source": [
    "prompt13 = \"Download protein 1ATN.\"\n",
    "llm_var = \"claude-3-5-sonnet-20240620\"\n",
    "tools = \"all\"\n",
    "agent = MDCrow(agent_type=\"Structured\", model=llm_var, top_k_tools=tools, use_memory=False)\n",
    "print(llm_var)"
   ]
  },
  {
   "cell_type": "code",
   "execution_count": 3,
   "metadata": {},
   "outputs": [
    {
     "name": "stdout",
     "output_type": "stream",
     "text": [
      "Certainly! I'll download the protein 1ATN using the PDBFileDownloader tool. This tool is specifically designed to download PDB (Protein Data Bank) files using a protein's common name or PDB ID.\n",
      "\n",
      "Thought: To download the protein 1ATN, I need to use the PDBFileDownloader tool and provide the PDB ID as input.\n",
      "\n",
      "Action:\n",
      "```\n",
      "{\n",
      "    \"action\": \"PDBFileDownloader\",\n",
      "    \"action_input\": \"1ATN\"\n",
      "}\n",
      "```PDB file found with this ID: 1ATN\n",
      "Thought: The PDBFileDownloader tool has successfully downloaded the protein 1ATN. The file has been saved with the identifier \"1ATN_225953\". Now that we have the protein file, I can provide a final answer to the question.\n",
      "\n",
      "Action:\n",
      "```\n",
      "{\n",
      "  \"action\": \"Final Answer\",\n",
      "  \"action_input\": \"The protein 1ATN has been successfully downloaded. The PDB file is now available in the system with the identifier '1ATN_225953'. This file contains the structural information for the protein 1ATN, which can be used for further analysis or molecular dynamics simulations. If you need to perform any operations or analyses on this protein structure, we can now use this file as input for other tools.\"\n",
      "}\n",
      "```"
     ]
    },
    {
     "data": {
      "text/plain": [
       "({'input': '\\n    You are an expert molecular dynamics scientist, and\\n    your task is to respond to the question or\\n    solve the problem to the best of your ability using\\n    the provided tools.\\n\\n    You can only respond with a single complete\\n    \\'Thought, Action, Action Input\\' format\\n    OR a single \\'Final Answer\\' format.\\n\\n    Complete format:\\n    Thought: (reflect on your progress and decide what to do next)\\n    Action:\\n    ```\\n    {\\n        \"action\": (the action name, it should be the name of a tool),\\n        \"action_input\": (the input string for the action)\\n    }\\n    \\'\\'\\'\\n\\n    OR\\n\\n    Final Answer: (the final response to the original input\\n    question, once all steps are complete)\\n\\n    You are required to use the tools provided,\\n    using the most specific tool\\n    available for each action.\\n    Your final answer should contain all information\\n    necessary to answer the question and its subquestions.\\n    Before you finish, reflect on your progress and make\\n    sure you have addressed the question in its entirety.\\n\\n    If you are asked to continue\\n    or reference previous runs,\\n    the context will be provided to you.\\n    If context is provided, you should assume\\n    you are continuing a chat.\\n\\n    Here is the input:\\n    Previous Context: None\\n    Question: Download protein 1ATN. ',\n",
       "  'output': \"The protein 1ATN has been successfully downloaded. The PDB file is now available in the system with the identifier '1ATN_225953'. This file contains the structural information for the protein 1ATN, which can be used for further analysis or molecular dynamics simulations. If you need to perform any operations or analyses on this protein structure, we can now use this file as input for other tools.\"},\n",
       " 'KLVIK6M2')"
      ]
     },
     "execution_count": 3,
     "metadata": {},
     "output_type": "execute_result"
    }
   ],
   "source": [
    "agent.run(prompt13)"
   ]
  },
  {
   "cell_type": "code",
   "execution_count": 4,
   "metadata": {},
   "outputs": [
    {
     "name": "stdout",
     "output_type": "stream",
     "text": [
      "ckpt_64\n",
      "Files found in registry: 1ATN_225953: PDB file downloaded from RSCB\n",
      " PDBFile ID: 1ATN_225953\n"
     ]
    }
   ],
   "source": [
    "registry = agent.path_registry\n",
    "print(os.path.basename(registry.ckpt_dir))\n",
    "paths_and_descriptions = registry.list_path_names_and_descriptions()\n",
    "print(\"\\n\".join(paths_and_descriptions.split(\",\")))"
   ]
  },
  {
   "cell_type": "code",
   "execution_count": null,
   "metadata": {},
   "outputs": [],
   "source": []
  }
 ],
 "metadata": {
  "kernelspec": {
   "display_name": "mda-aug20",
   "language": "python",
   "name": "python3"
  },
  "language_info": {
   "codemirror_mode": {
    "name": "ipython",
    "version": 3
   },
   "file_extension": ".py",
   "mimetype": "text/x-python",
   "name": "python",
   "nbconvert_exporter": "python",
   "pygments_lexer": "ipython3",
   "version": "3.12.5"
  }
 },
 "nbformat": 4,
 "nbformat_minor": 4
}
