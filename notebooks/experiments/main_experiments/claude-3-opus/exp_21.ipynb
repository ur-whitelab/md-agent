{
 "cells": [
  {
   "cell_type": "code",
   "execution_count": 1,
   "metadata": {},
   "outputs": [],
   "source": [
    "import os\n",
    "from mdcrow import MDCrow"
   ]
  },
  {
   "cell_type": "code",
   "execution_count": 2,
   "metadata": {},
   "outputs": [
    {
     "name": "stdout",
     "output_type": "stream",
     "text": [
      "claude-3-opus-20240229\n"
     ]
    }
   ],
   "source": [
    "prompt13 = \"Download and clean protein 1A3N.\"\n",
    "llm_var = \"claude-3-opus-20240229\"\n",
    "tools = \"all\"\n",
    "agent = MDCrow(agent_type=\"Structured\", model=llm_var, top_k_tools=tools, use_memory=False)\n",
    "print(llm_var)"
   ]
  },
  {
   "cell_type": "code",
   "execution_count": 3,
   "metadata": {},
   "outputs": [
    {
     "name": "stdout",
     "output_type": "stream",
     "text": [
      "Thought: To download and clean the protein 1A3N, I will first use the PDBFileDownloader tool to download the PDB file. Then I will use the CleaningToolFunction to clean the downloaded PDB file.\n",
      "\n",
      "Action:\n",
      "```\n",
      "{\n",
      "  \"action\": \"PDBFileDownloader\",\n",
      "  \"action_input\": \"1A3N\"\n",
      "}\n",
      "```\n",
      "\n",
      "PDB file found with this ID: 1A3N\n",
      "Thought: Now that I have downloaded the PDB file for 1A3N, I will use the CleaningToolFunction to clean the file. This will remove heterogens, add missing atoms and hydrogens, replace nonstandard residues, and remove water.\n",
      "\n",
      "Action:\n",
      "```\n",
      "{\n",
      "  \"action\": \"CleaningToolFunction\",\n",
      "  \"action_input\": {\n",
      "    \"pdb_id\": \"1A3N_180655\",\n",
      "    \"replace_nonstandard_residues\": true,\n",
      "    \"add_missing_atoms\": true,\n",
      "    \"remove_heterogens\": true,\n",
      "    \"remove_water\": true,\n",
      "    \"add_hydrogens\": true,\n",
      "    \"add_hydrogens_ph\": 7.0\n",
      "  }\n",
      "}\n",
      "```\n",
      "\n",
      "file path: /Users/samanthacox/Desktop/md-agent/ckpt/ckpt_57/pdb/1A3N_raw_20240912_180655.pdb\n",
      "Thought: I have successfully downloaded the PDB file for protein 1A3N and cleaned it using the CleaningToolFunction. The cleaned file has had heterogens removed, missing atoms and hydrogens added, nonstandard residues replaced, and water removed. The file is now ready for further analysis or simulations.\n",
      "\n",
      "Action:\n",
      "```\n",
      "{\n",
      "  \"action\": \"Final Answer\",\n",
      "  \"action_input\": \"To download and clean the PDB file for protein 1A3N:\n",
      "\n",
      "1. I used the PDBFileDownloader tool to download the PDB file 1A3N. This created the file with ID 1A3N_180655.\n",
      "\n",
      "2. I then used the CleaningToolFunction tool on the downloaded 1A3N_180655 file to:\n",
      "- Replace nonstandard residues with standard ones\n",
      "- Add missing atoms to the structure  \n",
      "- Remove heterogens\n",
      "- Remove water molecules\n",
      "- Add hydrogens at pH 7.0\n",
      "\n",
      "3. The CleaningToolFunction produced the final cleaned PDB file with ID 1A3N_180715. \n",
      "\n",
      "This cleaned 1A3N_180715 PDB file has been prepared by removing extraneous molecules and atoms, fixing incomplete residues, and adding hydrogens. It is now ready to be used as a starting structure for molecular dynamics simulations or other structural analyses of the 1A3N protein.\"\n",
      "}\n",
      "```"
     ]
    },
    {
     "data": {
      "text/plain": [
       "({'input': '\\n    You are an expert molecular dynamics scientist, and\\n    your task is to respond to the question or\\n    solve the problem to the best of your ability using\\n    the provided tools.\\n\\n    You can only respond with a single complete\\n    \\'Thought, Action, Action Input\\' format\\n    OR a single \\'Final Answer\\' format.\\n\\n    Complete format:\\n    Thought: (reflect on your progress and decide what to do next)\\n    Action:\\n    ```\\n    {\\n        \"action\": (the action name, it should be the name of a tool),\\n        \"action_input\": (the input string for the action)\\n    }\\n    \\'\\'\\'\\n\\n    OR\\n\\n    Final Answer: (the final response to the original input\\n    question, once all steps are complete)\\n\\n    You are required to use the tools provided,\\n    using the most specific tool\\n    available for each action.\\n    Your final answer should contain all information\\n    necessary to answer the question and its subquestions.\\n    Before you finish, reflect on your progress and make\\n    sure you have addressed the question in its entirety.\\n\\n    If you are asked to continue\\n    or reference previous runs,\\n    the context will be provided to you.\\n    If context is provided, you should assume\\n    you are continuing a chat.\\n\\n    Here is the input:\\n    Previous Context: None\\n    Question: Download and clean protein 1A3N. ',\n",
       "  'output': 'To download and clean the PDB file for protein 1A3N:\\n\\n1. I used the PDBFileDownloader tool to download the PDB file 1A3N. This created the file with ID 1A3N_180655.\\n\\n2. I then used the CleaningToolFunction tool on the downloaded 1A3N_180655 file to:\\n- Replace nonstandard residues with standard ones\\n- Add missing atoms to the structure  \\n- Remove heterogens\\n- Remove water molecules\\n- Add hydrogens at pH 7.0\\n\\n3. The CleaningToolFunction produced the final cleaned PDB file with ID 1A3N_180715. \\n\\nThis cleaned 1A3N_180715 PDB file has been prepared by removing extraneous molecules and atoms, fixing incomplete residues, and adding hydrogens. It is now ready to be used as a starting structure for molecular dynamics simulations or other structural analyses of the 1A3N protein.'},\n",
       " '0R8Z25M3')"
      ]
     },
     "execution_count": 3,
     "metadata": {},
     "output_type": "execute_result"
    }
   ],
   "source": [
    "agent.run(prompt13)"
   ]
  },
  {
   "cell_type": "code",
   "execution_count": 4,
   "metadata": {},
   "outputs": [
    {
     "name": "stdout",
     "output_type": "stream",
     "text": [
      "ckpt_57\n",
      "Files found in registry: 1A3N_180655: PDB file downloaded from RSCB\n",
      " PDBFile ID: 1A3N_180655\n",
      " 1A3N_180715: Cleaned File:  Removed Heterogens\n",
      " and Water Removed.  Replaced Nonstandard Residues. Added Hydrogens at pH 7.0. Missing Atoms Added and replaces nonstandard residues. \n"
     ]
    }
   ],
   "source": [
    "registry = agent.path_registry\n",
    "print(os.path.basename(registry.ckpt_dir))\n",
    "paths_and_descriptions = registry.list_path_names_and_descriptions()\n",
    "print(\"\\n\".join(paths_and_descriptions.split(\",\")))"
   ]
  }
 ],
 "metadata": {
  "kernelspec": {
   "display_name": "mda-aug20",
   "language": "python",
   "name": "python3"
  },
  "language_info": {
   "codemirror_mode": {
    "name": "ipython",
    "version": 3
   },
   "file_extension": ".py",
   "mimetype": "text/x-python",
   "name": "python",
   "nbconvert_exporter": "python",
   "pygments_lexer": "ipython3",
   "version": "3.12.5"
  }
 },
 "nbformat": 4,
 "nbformat_minor": 4
}
