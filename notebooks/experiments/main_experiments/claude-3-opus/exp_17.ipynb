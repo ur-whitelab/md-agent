{
 "cells": [
  {
   "cell_type": "code",
   "execution_count": 1,
   "metadata": {},
   "outputs": [],
   "source": [
    "import os\n",
    "from mdcrow import MDCrow"
   ]
  },
  {
   "cell_type": "code",
   "execution_count": 2,
   "metadata": {},
   "outputs": [
    {
     "name": "stdout",
     "output_type": "stream",
     "text": [
      "claude-3-opus-20240229\n"
     ]
    }
   ],
   "source": [
    "prompt13 = \"Download the PDB file for 1XQ8, and then save the visualization for it.\"\n",
    "llm_var = \"claude-3-opus-20240229\"\n",
    "tools = \"all\"\n",
    "agent = MDCrow(agent_type=\"Structured\", model=llm_var, top_k_tools=tools, use_memory=False)\n",
    "print(llm_var)"
   ]
  },
  {
   "cell_type": "code",
   "execution_count": 3,
   "metadata": {},
   "outputs": [
    {
     "name": "stdout",
     "output_type": "stream",
     "text": [
      "Thought: To download the PDB file for 1XQ8 and save a visualization for it, I will first use the PDBFileDownloader tool to download the PDB file. Then I will use the PDBVisualization tool to create a visualization of the PDB file and save it.\n",
      "\n",
      "Action:\n",
      "```\n",
      "{\n",
      "  \"action\": \"PDBFileDownloader\",\n",
      "  \"action_input\": \"1XQ8\"\n",
      "}\n",
      "```\n",
      "\n",
      "PDB file found with this ID: 1XQ8\n",
      "Thought: Now that I have downloaded the PDB file for 1XQ8, I can use the PDBVisualization tool to create a visualization of the file and save it.\n",
      "\n",
      "Action:\n",
      "```\n",
      "{\n",
      "  \"action\": \"PDBVisualization\",\n",
      "  \"action_input\": \"1XQ8_075553\"\n",
      "}\n",
      "```\n",
      "\n",
      "Error running molrender: [Errno 2] No such file or directory: 'molrender'. Using NGLView instead.\n",
      "Thought: I have now downloaded the PDB file for 1XQ8 and created a visualization of it using the provided tools. I believe I have completed the requested task.\n",
      "\n",
      "Action:\n",
      "```\n",
      "{\n",
      "  \"action\": \"Final Answer\",\n",
      "  \"action_input\": \"To summarize:\n",
      "\n",
      "1. I used the PDBFileDownloader tool to download the PDB file for the protein 1XQ8. The file was saved with the ID 1XQ8_075553.\n",
      "\n",
      "2. I then used the PDBVisualization tool to create a visualization of the 1XQ8 PDB file. The visualization was saved as a Jupyter notebook file. \n",
      "\n",
      "So in summary, I was able to download the requested PDB file and create a saved visualization of the 3D protein structure, completing the task as specified in the original question. The key files generated were:\n",
      "\n",
      "- PDB file for 1XQ8, saved as 1XQ8_075553\n",
      "- Jupyter notebook with 3D visualization of 1XQ8 structure\n",
      "\n",
      "Let me know if you need anything else!\"\n",
      "}\n",
      "```"
     ]
    },
    {
     "data": {
      "text/plain": [
       "({'input': '\\n    You are an expert molecular dynamics scientist, and\\n    your task is to respond to the question or\\n    solve the problem to the best of your ability using\\n    the provided tools.\\n\\n    You can only respond with a single complete\\n    \\'Thought, Action, Action Input\\' format\\n    OR a single \\'Final Answer\\' format.\\n\\n    Complete format:\\n    Thought: (reflect on your progress and decide what to do next)\\n    Action:\\n    ```\\n    {\\n        \"action\": (the action name, it should be the name of a tool),\\n        \"action_input\": (the input string for the action)\\n    }\\n    \\'\\'\\'\\n\\n    OR\\n\\n    Final Answer: (the final response to the original input\\n    question, once all steps are complete)\\n\\n    You are required to use the tools provided,\\n    using the most specific tool\\n    available for each action.\\n    Your final answer should contain all information\\n    necessary to answer the question and its subquestions.\\n    Before you finish, reflect on your progress and make\\n    sure you have addressed the question in its entirety.\\n\\n    If you are asked to continue\\n    or reference previous runs,\\n    the context will be provided to you.\\n    If context is provided, you should assume\\n    you are continuing a chat.\\n\\n    Here is the input:\\n    Previous Context: None\\n    Question: Download the PDB file for 1XQ8, and then save the visualization for it. ',\n",
       "  'output': 'To summarize:\\n\\n1. I used the PDBFileDownloader tool to download the PDB file for the protein 1XQ8. The file was saved with the ID 1XQ8_075553.\\n\\n2. I then used the PDBVisualization tool to create a visualization of the 1XQ8 PDB file. The visualization was saved as a Jupyter notebook file. \\n\\nSo in summary, I was able to download the requested PDB file and create a saved visualization of the 3D protein structure, completing the task as specified in the original question. The key files generated were:\\n\\n- PDB file for 1XQ8, saved as 1XQ8_075553\\n- Jupyter notebook with 3D visualization of 1XQ8 structure\\n\\nLet me know if you need anything else!'},\n",
       " 'WDDFPFR2')"
      ]
     },
     "execution_count": 3,
     "metadata": {},
     "output_type": "execute_result"
    }
   ],
   "source": [
    "agent.run(prompt13)"
   ]
  },
  {
   "cell_type": "code",
   "execution_count": 3,
   "metadata": {},
   "outputs": [
    {
     "name": "stdout",
     "output_type": "stream",
     "text": [
      "ckpt_53\n",
      "Files found in registry: 1XQ8_075553: PDB file downloaded from RSCB\n",
      " PDBFile ID: 1XQ8_075553\n",
      " /Users/samanthacox/Desktop/md-agent/ckpt/ckpt_53/figures/1XQ8_raw_20240912_075553_vis.ipynb: Notebook to visualize cif/pdb file 1XQ8_raw_20240912_075553.pdb using nglview.\n"
     ]
    }
   ],
   "source": [
    "registry = agent.path_registry\n",
    "print(os.path.basename(registry.ckpt_dir))\n",
    "paths_and_descriptions = registry.list_path_names_and_descriptions()\n",
    "print(\"\\n\".join(paths_and_descriptions.split(\",\")))"
   ]
  },
  {
   "cell_type": "code",
   "execution_count": null,
   "metadata": {},
   "outputs": [],
   "source": []
  }
 ],
 "metadata": {
  "kernelspec": {
   "display_name": "mda-aug20",
   "language": "python",
   "name": "python3"
  },
  "language_info": {
   "codemirror_mode": {
    "name": "ipython",
    "version": 3
   },
   "file_extension": ".py",
   "mimetype": "text/x-python",
   "name": "python",
   "nbconvert_exporter": "python",
   "pygments_lexer": "ipython3",
   "version": "3.12.5"
  }
 },
 "nbformat": 4,
 "nbformat_minor": 4
}
