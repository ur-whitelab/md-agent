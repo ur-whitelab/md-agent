{
 "cells": [
  {
   "cell_type": "code",
   "execution_count": 1,
   "metadata": {},
   "outputs": [],
   "source": [
    "import os\n",
    "from mdcrow import MDCrow"
   ]
  },
  {
   "cell_type": "code",
   "execution_count": 2,
   "metadata": {},
   "outputs": [
    {
     "name": "stdout",
     "output_type": "stream",
     "text": [
      "claude-3-opus-20240229\n"
     ]
    }
   ],
   "source": [
    "prompt13 = \"Perform a brief simulation of protein 1PQ2.\"\n",
    "llm_var = \"claude-3-opus-20240229\"\n",
    "tools = \"all\"\n",
    "agent = MDCrow(agent_type=\"Structured\", model=llm_var, top_k_tools=tools, use_memory=False)\n",
    "print(llm_var)"
   ]
  },
  {
   "cell_type": "code",
   "execution_count": 3,
   "metadata": {},
   "outputs": [
    {
     "name": "stdout",
     "output_type": "stream",
     "text": [
      "Thought: To perform a brief simulation of protein 1PQ2, I will first need to download the PDB file for this protein. Then I can use the SetUpandRunFunction tool to set up and run a short simulation.\n",
      "\n",
      "Action:\n",
      "```\n",
      "{\n",
      "  \"action\": \"PDBFileDownloader\",\n",
      "  \"action_input\": \"1PQ2\"\n",
      "}\n",
      "```\n",
      "\n",
      "PDB file found with this ID: 1PQ2\n",
      "Thought: Now that I have the PDB file for protein 1PQ2, I can use the SetUpandRunFunction tool to set up and run a brief simulation. I will use default parameters for the system, integrator, and simulation to keep it simple for this short simulation.\n",
      "\n",
      "Action:\n",
      "```\n",
      "{\n",
      "  \"action\": \"SetUpandRunFunction\",\n",
      "  \"action_input\": {\n",
      "    \"pdb_id\": \"1PQ2_180756\",\n",
      "    \"forcefield_files\": [\"amber14/protein.ff14SB.xml\", \"amber14/tip3p.xml\"],\n",
      "    \"save\": true,\n",
      "    \"system_params\": {\n",
      "      \"nonbondedMethod\": \"NoCutoff\",\n",
      "      \"constraints\": \"None\",\n",
      "      \"rigidWater\": false\n",
      "    },\n",
      "    \"integrator_params\": {\n",
      "      \"integrator_type\": \"LangevinMiddle\",\n",
      "      \"Temperature\": \"300 * kelvin\",\n",
      "      \"Friction\": \"1.0 / picoseconds\",\n",
      "      \"Timestep\": \"0.002 * picoseconds\"\n",
      "    },\n",
      "    \"simulation_params\": {\n",
      "      \"Ensemble\": \"NVT\",\n",
      "      \"Number of Steps\": 5000,\n",
      "      \"record_interval_steps\": 100,\n",
      "      \"record_params\": [\"step\", \"potentialEnergy\", \"temperature\"]\n",
      "    }\n",
      "  }\n",
      "}\n",
      "```\n",
      "\n",
      "Building system...\n",
      "About to create system...\n",
      "Attempts at creating system: 0/3\n",
      "adding system without solvent\n",
      "Trying to add component to Forcefield...\n",
      "Residue code: LYS\n",
      "Residue code not in solvent list. Adding forcefield                         not supported.\n",
      "Thought: The SetUpandRunFunction tool failed because there was an issue with the PDB file - some atoms were missing for residue 1 (LYS). To fix this, I should first clean up the PDB file using the CleaningToolFunction, which can add missing atoms. Then I can retry setting up and running the simulation.\n",
      "\n",
      "Action:\n",
      "```\n",
      "{\n",
      "  \"action\": \"CleaningToolFunction\",\n",
      "  \"action_input\": {\n",
      "    \"pdb_id\": \"1PQ2_180756\",\n",
      "    \"replace_nonstandard_residues\": true,\n",
      "    \"add_missing_atoms\": true,\n",
      "    \"remove_heterogens\": true,\n",
      "    \"remove_water\": true,\n",
      "    \"add_hydrogens\": true,\n",
      "    \"add_hydrogens_ph\": 7.0\n",
      "  }\n",
      "}\n",
      "```\n",
      "\n",
      "file path: /Users/samanthacox/Desktop/md-agent/ckpt/ckpt_58/pdb/1PQ2_raw_20240912_180756.pdb\n",
      "Thought: Now that the PDB file has been cleaned up, with missing atoms added, I can retry setting up and running the brief simulation of protein 1PQ2 using the SetUpandRunFunction tool with the cleaned PDB file.\n",
      "\n",
      "Action:\n",
      "```\n",
      "{\n",
      "  \"action\": \"SetUpandRunFunction\",\n",
      "  \"action_input\": {\n",
      "    \"pdb_id\": \"1PQ2_180836\",\n",
      "    \"forcefield_files\": [\"amber14/protein.ff14SB.xml\", \"amber14/tip3p.xml\"],\n",
      "    \"save\": true,\n",
      "    \"system_params\": {\n",
      "      \"nonbondedMethod\": \"NoCutoff\",\n",
      "      \"constraints\": \"None\",\n",
      "      \"rigidWater\": false\n",
      "    },\n",
      "    \"integrator_params\": {\n",
      "      \"integrator_type\": \"LangevinMiddle\",\n",
      "      \"Temperature\": \"300 * kelvin\",\n",
      "      \"Friction\": \"1.0 / picoseconds\",\n",
      "      \"Timestep\": \"0.002 * picoseconds\"\n",
      "    },\n",
      "    \"simulation_params\": {\n",
      "      \"Ensemble\": \"NVT\",\n",
      "      \"Number of Steps\": 5000,\n",
      "      \"record_interval_steps\": 100,\n",
      "      \"record_params\": [\"step\", \"potentialEnergy\", \"temperature\"]\n",
      "    }\n",
      "  }\n",
      "}\n",
      "```Building system...\n",
      "About to create system...\n",
      "Attempts at creating system: 0/3\n",
      "adding system without solvent\n",
      "System built successfully\n",
      "<openmm.openmm.System; proxy of <Swig Object of type 'OpenMM::System *' at 0x1850896e0> >\n",
      "Setting up integrator...\n",
      "Creating simulation...\n",
      "simulation set!\n",
      "Performing energy minimization...\n",
      "Minimization complete!\n",
      "Initial Positions saved to initial_positions.pdb\n",
      "Equilibrating...\n",
      "Simulating...\n",
      "Done!\n",
      "Standalone simulation script written to /Users/samanthacox/Desktop/md-agent/ckpt/ckpt_58/simulations/NVT_1PQ2_180836_20240912_180847.py\n",
      "['exp_11.ipynb', 'TOP_sim0_180847_1PQ2_180836_20240912_180849.pdb', 'exp_13.ipynb', 'LOG_sim0_182213_1A3N_182200_20240912_182221.txt', 'exp_9.ipynb', 'exp_17.ipynb', 'exp_15.ipynb', 'exp_12.ipynb', 'exp_10.ipynb', 'exp_14.ipynb', 'TRAJ_sim0_182213_1A3N_182200_20240912_182221.dcd', 'exp_16.ipynb', 'exp_8.ipynb', 'exp_4.ipynb', 'exp_25.ipynb', 'exp_18.ipynb', 'exp_6.ipynb', 'TRAJ_sim0_180847_1PQ2_180836_20240912_180849.dcd', 'exp_21.ipynb', 'exp_2.ipynb', 'exp_23.ipynb', 'exp_7.ipynb', 'TOP_sim0_182213_1A3N_182200_20240912_182221.pdb', 'exp_19.ipynb', 'exp_24.ipynb', 'LOG_sim0_180847_1PQ2_180836_20240912_180849.txt', 'exp_5.ipynb', 'exp_22.ipynb', 'exp_1.ipynb', 'exp_3.ipynb', 'exp_20.ipynb']\n",
      "Here is a summary of the steps I took to perform a brief simulation of protein 1PQ2:\n",
      "\n",
      "1. Downloaded the PDB file for protein 1PQ2 using the PDBFileDownloader tool. The downloaded file ID was 1PQ2_180756.\n",
      "\n",
      "2. Attempted to set up and run a simulation using the SetUpandRunFunction tool with default parameters. However, this failed due to missing atoms for residue 1 (LYS) in the PDB file. \n",
      "\n",
      "3. To fix the issue, I used the CleaningToolFunction tool to clean up the PDB file. This added the missing atoms and removed heterogens and water. The cleaned file ID was 1PQ2_180836.\n",
      "\n",
      "4. Retried setting up and running the simulation using the SetUpandRunFunction tool with the cleaned PDB file 1PQ2_180836. This time it succeeded.\n",
      "\n",
      "5. The simulation produced the following output files:\n",
      "- rec0_180849: Simulation trajectory \n",
      "- rec1_180849: Simulation state log\n",
      "- rec2_180849: Simulation PDB frames\n",
      "\n",
      "6. A standalone script to reproduce the simulation was also generated with ID sim0_180847. The initial topology file has ID top_sim0_180847.\n",
      "\n",
      "In summary, after downloading the PDB file and cleaning it up to fix missing atoms, I was able to successfully set up and run a brief 5000 step NVT simulation of protein 1PQ2 using default parameters. The simulation results and scripts to reproduce it are now available."
     ]
    },
    {
     "data": {
      "text/plain": [
       "({'input': '\\n    You are an expert molecular dynamics scientist, and\\n    your task is to respond to the question or\\n    solve the problem to the best of your ability using\\n    the provided tools.\\n\\n    You can only respond with a single complete\\n    \\'Thought, Action, Action Input\\' format\\n    OR a single \\'Final Answer\\' format.\\n\\n    Complete format:\\n    Thought: (reflect on your progress and decide what to do next)\\n    Action:\\n    ```\\n    {\\n        \"action\": (the action name, it should be the name of a tool),\\n        \"action_input\": (the input string for the action)\\n    }\\n    \\'\\'\\'\\n\\n    OR\\n\\n    Final Answer: (the final response to the original input\\n    question, once all steps are complete)\\n\\n    You are required to use the tools provided,\\n    using the most specific tool\\n    available for each action.\\n    Your final answer should contain all information\\n    necessary to answer the question and its subquestions.\\n    Before you finish, reflect on your progress and make\\n    sure you have addressed the question in its entirety.\\n\\n    If you are asked to continue\\n    or reference previous runs,\\n    the context will be provided to you.\\n    If context is provided, you should assume\\n    you are continuing a chat.\\n\\n    Here is the input:\\n    Previous Context: None\\n    Question: Perform a brief simulation of protein 1PQ2. ',\n",
       "  'output': 'Here is a summary of the steps I took to perform a brief simulation of protein 1PQ2:\\n\\n1. Downloaded the PDB file for protein 1PQ2 using the PDBFileDownloader tool. The downloaded file ID was 1PQ2_180756.\\n\\n2. Attempted to set up and run a simulation using the SetUpandRunFunction tool with default parameters. However, this failed due to missing atoms for residue 1 (LYS) in the PDB file. \\n\\n3. To fix the issue, I used the CleaningToolFunction tool to clean up the PDB file. This added the missing atoms and removed heterogens and water. The cleaned file ID was 1PQ2_180836.\\n\\n4. Retried setting up and running the simulation using the SetUpandRunFunction tool with the cleaned PDB file 1PQ2_180836. This time it succeeded.\\n\\n5. The simulation produced the following output files:\\n- rec0_180849: Simulation trajectory \\n- rec1_180849: Simulation state log\\n- rec2_180849: Simulation PDB frames\\n\\n6. A standalone script to reproduce the simulation was also generated with ID sim0_180847. The initial topology file has ID top_sim0_180847.\\n\\nIn summary, after downloading the PDB file and cleaning it up to fix missing atoms, I was able to successfully set up and run a brief 5000 step NVT simulation of protein 1PQ2 using default parameters. The simulation results and scripts to reproduce it are now available.'},\n",
       " 'DW576U8E')"
      ]
     },
     "execution_count": 3,
     "metadata": {},
     "output_type": "execute_result"
    }
   ],
   "source": [
    "agent.run(prompt13)"
   ]
  },
  {
   "cell_type": "code",
   "execution_count": 4,
   "metadata": {},
   "outputs": [
    {
     "name": "stdout",
     "output_type": "stream",
     "text": [
      "ckpt_58\n",
      "Files found in registry: 1PQ2_180756: PDB file downloaded from RSCB\n",
      " PDBFile ID: 1PQ2_180756\n",
      " 1PQ2_180836: Cleaned File:  Removed Heterogens\n",
      " and Water Removed.  Replaced Nonstandard Residues. Added Hydrogens at pH 7.0. Missing Atoms Added and replaces nonstandard residues. \n",
      " top_sim0_180847: Initial positions for simulation sim0_180847\n",
      " sim0_180847: Basic Simulation of Protein 1PQ2_180836\n",
      " rec0_180849: Simulation trajectory for protein 1PQ2_180836 and simulation sim0_180847\n",
      " rec1_180849: Simulation state log for protein 1PQ2_180836 and simulation sim0_180847\n",
      " rec2_180849: Simulation pdb frames for protein 1PQ2_180836 and simulation sim0_180847\n"
     ]
    }
   ],
   "source": [
    "registry = agent.path_registry\n",
    "print(os.path.basename(registry.ckpt_dir))\n",
    "paths_and_descriptions = registry.list_path_names_and_descriptions()\n",
    "print(\"\\n\".join(paths_and_descriptions.split(\",\")))"
   ]
  }
 ],
 "metadata": {
  "kernelspec": {
   "display_name": "mda-aug20",
   "language": "python",
   "name": "python3"
  },
  "language_info": {
   "codemirror_mode": {
    "name": "ipython",
    "version": 3
   },
   "file_extension": ".py",
   "mimetype": "text/x-python",
   "name": "python",
   "nbconvert_exporter": "python",
   "pygments_lexer": "ipython3",
   "version": "3.12.5"
  }
 },
 "nbformat": 4,
 "nbformat_minor": 4
}
