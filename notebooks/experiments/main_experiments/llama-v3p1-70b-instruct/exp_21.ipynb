{
 "cells": [
  {
   "cell_type": "code",
   "execution_count": 1,
   "metadata": {
    "execution": {
     "iopub.execute_input": "2024-09-08T21:34:38.513794Z",
     "iopub.status.busy": "2024-09-08T21:34:38.513662Z",
     "iopub.status.idle": "2024-09-08T21:34:43.922612Z",
     "shell.execute_reply": "2024-09-08T21:34:43.922140Z"
    }
   },
   "outputs": [],
   "source": [
    "import datetime\n",
    "import os\n",
    "from mdcrow import MDCrow"
   ]
  },
  {
   "cell_type": "code",
   "execution_count": 2,
   "metadata": {
    "execution": {
     "iopub.execute_input": "2024-09-08T21:34:43.925214Z",
     "iopub.status.busy": "2024-09-08T21:34:43.924852Z",
     "iopub.status.idle": "2024-09-08T21:34:44.184995Z",
     "shell.execute_reply": "2024-09-08T21:34:44.184540Z"
    }
   },
   "outputs": [
    {
     "name": "stdout",
     "output_type": "stream",
     "text": [
      "date and time: 2024-09-08\n",
      "time: 17:34:44\n",
      "LLM:  accounts/fireworks/models/llama-v3p1-70b-instruct \n",
      "Temperature:  0.1\n"
     ]
    }
   ],
   "source": [
    "prompt21 = \"Download and clean protein 1A3N.\"\n",
    "llm_var = \"accounts/fireworks/models/llama-v3p1-70b-instruct\"\n",
    "tools = \"all\"\n",
    "agent = MDCrow(agent_type=\"Structured\", model=llm_var, top_k_tools=tools)\n",
    "now = datetime.datetime.now()\n",
    "date = now.strftime(\"%Y-%m-%d\")\n",
    "print(\"date and time:\",date)\n",
    "time = now.strftime(\"%H:%M:%S\")\n",
    "print(\"time:\",time)\n",
    "print(\"LLM: \",agent.llm.model_name,\"\\nTemperature: \",agent.llm.temperature)"
   ]
  },
  {
   "cell_type": "code",
   "execution_count": 3,
   "metadata": {
    "execution": {
     "iopub.execute_input": "2024-09-08T21:34:44.186983Z",
     "iopub.status.busy": "2024-09-08T21:34:44.186840Z",
     "iopub.status.idle": "2024-09-08T21:35:05.872796Z",
     "shell.execute_reply": "2024-09-08T21:35:05.872363Z"
    }
   },
   "outputs": [
    {
     "name": "stdout",
     "output_type": "stream",
     "text": [
      "Thought:"
     ]
    },
    {
     "name": "stdout",
     "output_type": "stream",
     "text": [
      " To download"
     ]
    },
    {
     "name": "stdout",
     "output_type": "stream",
     "text": [
      " and clean protein "
     ]
    },
    {
     "name": "stdout",
     "output_type": "stream",
     "text": [
      "1A3N, I need"
     ]
    },
    {
     "name": "stdout",
     "output_type": "stream",
     "text": [
      " to first download"
     ]
    },
    {
     "name": "stdout",
     "output_type": "stream",
     "text": [
      " the protein structure from"
     ]
    },
    {
     "name": "stdout",
     "output_type": "stream",
     "text": [
      " the Protein Data Bank (P"
     ]
    },
    {
     "name": "stdout",
     "output_type": "stream",
     "text": [
      "DB) and then clean"
     ]
    },
    {
     "name": "stdout",
     "output_type": "stream",
     "text": [
      " it by removing any unnecessary"
     ]
    },
    {
     "name": "stdout",
     "output_type": "stream",
     "text": [
      " atoms or residues.\n",
      "\n",
      "Action:\n"
     ]
    },
    {
     "name": "stdout",
     "output_type": "stream",
     "text": [
      "```\n",
      "{\n",
      "  \"action\": \""
     ]
    },
    {
     "name": "stdout",
     "output_type": "stream",
     "text": [
      "PDBFileDownloader\",\n",
      "  \"action"
     ]
    },
    {
     "name": "stdout",
     "output_type": "stream",
     "text": [
      "_input\": \"1A3N"
     ]
    },
    {
     "name": "stdout",
     "output_type": "stream",
     "text": [
      "\"\n",
      "}\n",
      "```\n"
     ]
    },
    {
     "name": "stdout",
     "output_type": "stream",
     "text": [
      "PDB file found with this ID: 1A3N\n"
     ]
    },
    {
     "name": "stdout",
     "output_type": "stream",
     "text": [
      "Thought:"
     ]
    },
    {
     "name": "stdout",
     "output_type": "stream",
     "text": [
      " Now that I have downloaded the protein structure"
     ]
    },
    {
     "name": "stdout",
     "output_type": "stream",
     "text": [
      ", I need to clean it by removing any unnecessary atoms"
     ]
    },
    {
     "name": "stdout",
     "output_type": "stream",
     "text": [
      " or residues. I will use the CleaningToolFunction to"
     ]
    },
    {
     "name": "stdout",
     "output_type": "stream",
     "text": [
      " remove heterogens, add missing"
     ]
    },
    {
     "name": "stdout",
     "output_type": "stream",
     "text": [
      " atoms and hydrogens, replace non"
     ]
    },
    {
     "name": "stdout",
     "output_type": "stream",
     "text": [
      "standard residues, and remove"
     ]
    },
    {
     "name": "stdout",
     "output_type": "stream",
     "text": [
      " water.\n",
      "\n",
      "Action:\n",
      "```\n",
      "{\n",
      "  \"action"
     ]
    },
    {
     "name": "stdout",
     "output_type": "stream",
     "text": [
      "\": \"CleaningToolFunction\",\n",
      "  \"action"
     ]
    },
    {
     "name": "stdout",
     "output_type": "stream",
     "text": [
      "_input\": {\n",
      "    \"pdb_id\":"
     ]
    },
    {
     "name": "stdout",
     "output_type": "stream",
     "text": [
      " \"1A3N_173446\",\n"
     ]
    },
    {
     "name": "stdout",
     "output_type": "stream",
     "text": [
      "    \"replace_nonstandard_residues"
     ]
    },
    {
     "name": "stdout",
     "output_type": "stream",
     "text": [
      "\": true,\n",
      "    \"add_missing_atoms"
     ]
    },
    {
     "name": "stdout",
     "output_type": "stream",
     "text": [
      "\": true,\n",
      "    \"remove_h"
     ]
    },
    {
     "name": "stdout",
     "output_type": "stream",
     "text": [
      "eterogens\": true,\n",
      "    \"remove"
     ]
    },
    {
     "name": "stdout",
     "output_type": "stream",
     "text": [
      "_water\": true,\n",
      "    \"add_hydro"
     ]
    },
    {
     "name": "stdout",
     "output_type": "stream",
     "text": [
      "gens\": true,\n",
      "    \"add"
     ]
    },
    {
     "name": "stdout",
     "output_type": "stream",
     "text": [
      "_hydrogens_ph"
     ]
    },
    {
     "name": "stdout",
     "output_type": "stream",
     "text": [
      "\": 7.0\n",
      "  }\n"
     ]
    },
    {
     "name": "stdout",
     "output_type": "stream",
     "text": [
      "}\n",
      "```"
     ]
    },
    {
     "name": "stdout",
     "output_type": "stream",
     "text": [
      "file path: /gpfs/fs2/scratch/qcampbe2/repos/md-agent/ckpt/ckpt_122/pdb/1A3N_raw_20240908_173446.pdb\n"
     ]
    },
    {
     "name": "stdout",
     "output_type": "stream",
     "text": [
      "Thought:"
     ]
    },
    {
     "name": "stdout",
     "output_type": "stream",
     "text": [
      " Now that I have"
     ]
    },
    {
     "name": "stdout",
     "output_type": "stream",
     "text": [
      " cleaned the"
     ]
    },
    {
     "name": "stdout",
     "output_type": "stream",
     "text": [
      " protein structure,"
     ]
    },
    {
     "name": "stdout",
     "output_type": "stream",
     "text": [
      " I need to confirm that"
     ]
    },
    {
     "name": "stdout",
     "output_type": "stream",
     "text": [
      " the cleaning process"
     ]
    },
    {
     "name": "stdout",
     "output_type": "stream",
     "text": [
      " was successful"
     ]
    },
    {
     "name": "stdout",
     "output_type": "stream",
     "text": [
      " and the protein is"
     ]
    },
    {
     "name": "stdout",
     "output_type": "stream",
     "text": [
      " ready for further analysis"
     ]
    },
    {
     "name": "stdout",
     "output_type": "stream",
     "text": [
      ".\n",
      "\n",
      "Action:\n",
      "```\n",
      "{\n",
      " "
     ]
    },
    {
     "name": "stdout",
     "output_type": "stream",
     "text": [
      " \"action\": \"Final Answer"
     ]
    },
    {
     "name": "stdout",
     "output_type": "stream",
     "text": [
      "\",\n",
      " "
     ]
    },
    {
     "name": "stdout",
     "output_type": "stream",
     "text": [
      " \"action_input\": \"Protein"
     ]
    },
    {
     "name": "stdout",
     "output_type": "stream",
     "text": [
      " 1A3N has"
     ]
    },
    {
     "name": "stdout",
     "output_type": "stream",
     "text": [
      " been successfully downloaded"
     ]
    },
    {
     "name": "stdout",
     "output_type": "stream",
     "text": [
      " and cleaned. The cleaned file"
     ]
    },
    {
     "name": "stdout",
     "output_type": "stream",
     "text": [
      " ID is 1A3"
     ]
    },
    {
     "name": "stdout",
     "output_type": "stream",
     "text": [
      "N_173503"
     ]
    },
    {
     "name": "stdout",
     "output_type": "stream",
     "text": [
      ".\"\n",
      "}\n",
      "```"
     ]
    }
   ],
   "source": [
    "answer = agent.run(prompt21)"
   ]
  },
  {
   "cell_type": "code",
   "execution_count": 4,
   "metadata": {
    "execution": {
     "iopub.execute_input": "2024-09-08T21:35:05.875663Z",
     "iopub.status.busy": "2024-09-08T21:35:05.875494Z",
     "iopub.status.idle": "2024-09-08T21:35:05.880118Z",
     "shell.execute_reply": "2024-09-08T21:35:05.879810Z"
    }
   },
   "outputs": [
    {
     "name": "stdout",
     "output_type": "stream",
     "text": [
      "date and time: 2024-09-08\n",
      "time: 17:35:05\n",
      "ckpt_dir: ckpt_122\n",
      "Files found in registry: 1A3N_173446: PDB file downloaded from RSCB\n",
      " PDBFile ID: 1A3N_173446\n",
      " 1A3N_173503: Cleaned File:  Removed Heterogens\n",
      " and Water Removed.  Replaced Nonstandard Residues. Added Hydrogens at pH 7.0. Missing Atoms Added and replaces nonstandard residues. \n"
     ]
    }
   ],
   "source": [
    "now = datetime.datetime.now()\n",
    "date = now.strftime(\"%Y-%m-%d\")\n",
    "print(\"date and time:\",date)\n",
    "time = now.strftime(\"%H:%M:%S\")\n",
    "print(\"time:\",time)\n",
    "\n",
    "registry = agent.path_registry\n",
    "print('ckpt_dir:',os.path.basename(registry.ckpt_dir))\n",
    "paths_and_descriptions = registry.list_path_names_and_descriptions()\n",
    "print(\"\\n\".join(paths_and_descriptions.split(\",\")))"
   ]
  },
  {
   "cell_type": "code",
   "execution_count": 5,
   "metadata": {
    "execution": {
     "iopub.execute_input": "2024-09-08T21:35:05.881802Z",
     "iopub.status.busy": "2024-09-08T21:35:05.881666Z",
     "iopub.status.idle": "2024-09-08T21:35:05.905377Z",
     "shell.execute_reply": "2024-09-08T21:35:05.905036Z"
    },
    "scrolled": true
   },
   "outputs": [
    {
     "name": "stdout",
     "output_type": "stream",
     "text": [
      "It's asserted that file paths for 1A3N_173446 and 1A3N_173503 exist\n"
     ]
    }
   ],
   "source": [
    "import re\n",
    "import os\n",
    "\n",
    "matches = re.findall(r\"1A3N_\\d+\", paths_and_descriptions)\n",
    "file_id1 = matches[0]\n",
    "file_id2 = matches[2]\n",
    "file_path1 = registry.get_mapped_path(file_id1)\n",
    "file_path2 = registry.get_mapped_path(file_id2)\n",
    "assert os.path.exists(file_path1), \"Path does not exist\"\n",
    "assert os.path.exists(file_path2), \"Path does not exist\"\n",
    "assert file_path1 != file_path2\n",
    "print(f\"It's asserted that file paths for {file_id1} and {file_id2} exist\")"
   ]
  },
  {
   "cell_type": "code",
   "execution_count": 6,
   "metadata": {
    "execution": {
     "iopub.execute_input": "2024-09-08T21:35:05.907072Z",
     "iopub.status.busy": "2024-09-08T21:35:05.906941Z",
     "iopub.status.idle": "2024-09-08T21:35:06.335460Z",
     "shell.execute_reply": "2024-09-08T21:35:06.335115Z"
    }
   },
   "outputs": [],
   "source": [
    "import mdtraj as md\n",
    "raw_file = md.load(file_path1)\n",
    "clean_file = md.load(file_path2)"
   ]
  },
  {
   "cell_type": "code",
   "execution_count": 7,
   "metadata": {
    "execution": {
     "iopub.execute_input": "2024-09-08T21:35:06.337514Z",
     "iopub.status.busy": "2024-09-08T21:35:06.337370Z",
     "iopub.status.idle": "2024-09-08T21:35:06.341976Z",
     "shell.execute_reply": "2024-09-08T21:35:06.341687Z"
    }
   },
   "outputs": [
    {
     "name": "stdout",
     "output_type": "stream",
     "text": [
      "Residues before: {'LEU', 'HIS', 'THR', 'ALA', 'MET', 'CYS', 'GLN', 'HOH', 'LYS', 'SER', 'HEM', 'GLY', 'PHE', 'GLU', 'ASN', 'TRP', 'TYR', 'PRO', 'ARG', 'ASP', 'VAL'}\n",
      "Residues after: {'LEU', 'HIS', 'THR', 'ALA', 'MET', 'CYS', 'GLN', 'LYS', 'SER', 'GLY', 'PHE', 'GLU', 'ASN', 'TRP', 'TYR', 'PRO', 'ARG', 'ASP', 'VAL'}\n",
      "Residues removed: {'HEM', 'HOH'}\n"
     ]
    }
   ],
   "source": [
    "#residues before\n",
    "residues_before = set([str(res)[:3] for res in raw_file.top.residues])\n",
    "residues_after = set([str(res)[:3] for res in clean_file.top.residues])\n",
    "print(\"Residues before:\",residues_before)\n",
    "print(\"Residues after:\",residues_after)\n",
    "print(\"Residues removed:\",residues_before - residues_after)"
   ]
  },
  {
   "cell_type": "markdown",
   "metadata": {},
   "source": [
    "# Experiment Result: ✅❌\n",
    "\n",
    "1. Completed without Exception or TimeOut Errors ✅\n",
    "2. Attempted all necessary steps ✅\n",
    "3. Completed without Hallucination ✅\n",
    "4. Logic make sense ✅\n",
    "5. Correct Answer ✅"
   ]
  }
 ],
 "metadata": {
  "kernelspec": {
   "display_name": "mdcrow",
   "language": "python",
   "name": "mdcrow"
  },
  "language_info": {
   "codemirror_mode": {
    "name": "ipython",
    "version": 3
   },
   "file_extension": ".py",
   "mimetype": "text/x-python",
   "name": "python",
   "nbconvert_exporter": "python",
   "pygments_lexer": "ipython3",
   "version": "3.12.4"
  }
 },
 "nbformat": 4,
 "nbformat_minor": 4
}
