{
 "cells": [
  {
   "cell_type": "code",
   "execution_count": 1,
   "metadata": {
    "execution": {
     "iopub.execute_input": "2024-09-08T22:40:24.189778Z",
     "iopub.status.busy": "2024-09-08T22:40:24.189462Z",
     "iopub.status.idle": "2024-09-08T22:40:30.201234Z",
     "shell.execute_reply": "2024-09-08T22:40:30.200105Z"
    }
   },
   "outputs": [],
   "source": [
    "from mdcrow import MDCrow\n",
    "import os"
   ]
  },
  {
   "cell_type": "code",
   "execution_count": 2,
   "metadata": {
    "execution": {
     "iopub.execute_input": "2024-09-08T22:40:30.206066Z",
     "iopub.status.busy": "2024-09-08T22:40:30.205460Z",
     "iopub.status.idle": "2024-09-08T22:40:30.240192Z",
     "shell.execute_reply": "2024-09-08T22:40:30.239246Z"
    }
   },
   "outputs": [
    {
     "name": "stdout",
     "output_type": "stream",
     "text": [
      "date: 2024-09-08\n",
      "time: 18:40:30\n"
     ]
    }
   ],
   "source": [
    "#todays date and time\n",
    "import datetime\n",
    "\n",
    "start = datetime.datetime.now()\n",
    "date = start.strftime(\"%Y-%m-%d\")\n",
    "print(\"date:\",date)\n",
    "time = start.strftime(\"%H:%M:%S\")\n",
    "print(\"time:\",time)"
   ]
  },
  {
   "cell_type": "code",
   "execution_count": 3,
   "metadata": {
    "execution": {
     "iopub.execute_input": "2024-09-08T22:40:30.268269Z",
     "iopub.status.busy": "2024-09-08T22:40:30.267942Z",
     "iopub.status.idle": "2024-09-08T22:40:30.678660Z",
     "shell.execute_reply": "2024-09-08T22:40:30.677854Z"
    }
   },
   "outputs": [
    {
     "name": "stdout",
     "output_type": "stream",
     "text": [
      "LLM:  accounts/fireworks/models/llama-v3p1-70b-instruct \n",
      "Temperature:  0.1\n"
     ]
    }
   ],
   "source": [
    "model = \"accounts/fireworks/models/llama-v3p1-70b-instruct\"\n",
    "\n",
    "agent = MDCrow(\n",
    "    agent_type='Structured', \n",
    "    model=model, \n",
    "    tools_model=model,\n",
    "    top_k_tools=\"all\"\n",
    ")\n",
    "\n",
    "print(\"LLM: \", agent.llm.model_name,\"\\nTemperature: \", agent.llm.temperature)"
   ]
  },
  {
   "cell_type": "code",
   "execution_count": 4,
   "metadata": {
    "execution": {
     "iopub.execute_input": "2024-09-08T22:40:30.682821Z",
     "iopub.status.busy": "2024-09-08T22:40:30.682491Z",
     "iopub.status.idle": "2024-09-09T18:07:07.762007Z",
     "shell.execute_reply": "2024-09-09T18:07:07.761265Z"
    }
   },
   "outputs": [
    {
     "name": "stdout",
     "output_type": "stream",
     "text": [
      "Thought:"
     ]
    },
    {
     "name": "stdout",
     "output_type": "stream",
     "text": [
      " To simulate protein 1ZNI at"
     ]
    },
    {
     "name": "stdout",
     "output_type": "stream",
     "text": [
      " 300 K for 1 ns and"
     ]
    },
    {
     "name": "stdout",
     "output_type": "stream",
     "text": [
      " calculate the RMSD, I need"
     ]
    },
    {
     "name": "stdout",
     "output_type": "stream",
     "text": [
      " to first set up and run a simulation"
     ]
    },
    {
     "name": "stdout",
     "output_type": "stream",
     "text": [
      " of the protein. Then, I can"
     ]
    },
    {
     "name": "stdout",
     "output_type": "stream",
     "text": [
      " use the trajectory file from the"
     ]
    },
    {
     "name": "stdout",
     "output_type": "stream",
     "text": [
      " simulation to calculate the RMSD.\n",
      "\n",
      "Action"
     ]
    },
    {
     "name": "stdout",
     "output_type": "stream",
     "text": [
      ":\n",
      "```\n",
      "{\n",
      "  \"action\":"
     ]
    },
    {
     "name": "stdout",
     "output_type": "stream",
     "text": [
      " \"SetUpandRunFunction\",\n"
     ]
    },
    {
     "name": "stdout",
     "output_type": "stream",
     "text": [
      "  \"action_input\": {\n",
      "    \"pdb"
     ]
    },
    {
     "name": "stdout",
     "output_type": "stream",
     "text": [
      "_id\": \"1ZNI\",\n",
      "    \"force"
     ]
    },
    {
     "name": "stdout",
     "output_type": "stream",
     "text": [
      "field_files\": [\"amber99"
     ]
    },
    {
     "name": "stdout",
     "output_type": "stream",
     "text": [
      "sbildn.xml"
     ]
    },
    {
     "name": "stdout",
     "output_type": "stream",
     "text": [
      "\", \""
     ]
    },
    {
     "name": "stdout",
     "output_type": "stream",
     "text": [
      "tip3"
     ]
    },
    {
     "name": "stdout",
     "output_type": "stream",
     "text": [
      "p.xml\"],\n",
      "    \"save\":"
     ]
    },
    {
     "name": "stdout",
     "output_type": "stream",
     "text": [
      " true,\n",
      "   "
     ]
    },
    {
     "name": "stdout",
     "output_type": "stream",
     "text": [
      " \"system_params\": {\n",
      "      \"non"
     ]
    },
    {
     "name": "stdout",
     "output_type": "stream",
     "text": [
      "bondedMethod\": \"PME\",\n",
      "      \"non"
     ]
    },
    {
     "name": "stdout",
     "output_type": "stream",
     "text": [
      "bondedCutoff\": \"1"
     ]
    },
    {
     "name": "stdout",
     "output_type": "stream",
     "text": [
      ".0 * nanometers\",\n",
      "      \"ew"
     ]
    },
    {
     "name": "stdout",
     "output_type": "stream",
     "text": [
      "aldErrorTolerance"
     ]
    },
    {
     "name": "stdout",
     "output_type": "stream",
     "text": [
      "\": 0.00001,\n"
     ]
    },
    {
     "name": "stdout",
     "output_type": "stream",
     "text": [
      "      \"constraints\": \"HBonds\",\n"
     ]
    },
    {
     "name": "stdout",
     "output_type": "stream",
     "text": [
      "      \"rigidWater\": true,\n"
     ]
    },
    {
     "name": "stdout",
     "output_type": "stream",
     "text": [
      "      \"constraintTolerance\": 0."
     ]
    },
    {
     "name": "stdout",
     "output_type": "stream",
     "text": [
      "00001,\n",
      "      \"s"
     ]
    },
    {
     "name": "stdout",
     "output_type": "stream",
     "text": [
      "olvate\": true\n",
      "    },\n",
      "   "
     ]
    },
    {
     "name": "stdout",
     "output_type": "stream",
     "text": [
      " \"integrator_params\": {\n",
      "     "
     ]
    },
    {
     "name": "stdout",
     "output_type": "stream",
     "text": [
      " \"integrator_type"
     ]
    },
    {
     "name": "stdout",
     "output_type": "stream",
     "text": [
      "\": \"LangevinMiddle"
     ]
    },
    {
     "name": "stdout",
     "output_type": "stream",
     "text": [
      "\",\n",
      "      \"Temperature\": \"300 *"
     ]
    },
    {
     "name": "stdout",
     "output_type": "stream",
     "text": [
      " kelvin\",\n",
      "      \"Fr"
     ]
    },
    {
     "name": "stdout",
     "output_type": "stream",
     "text": [
      "iction\": \"1.0 / pic"
     ]
    },
    {
     "name": "stdout",
     "output_type": "stream",
     "text": [
      "oseconds\",\n",
      "      \"Timestep\": \"0."
     ]
    },
    {
     "name": "stdout",
     "output_type": "stream",
     "text": [
      "002 * picoseconds\",\n",
      "      \"Pressure"
     ]
    },
    {
     "name": "stdout",
     "output_type": "stream",
     "text": [
      "\": \"1.0 * bar\"\n"
     ]
    },
    {
     "name": "stdout",
     "output_type": "stream",
     "text": [
      "    },\n",
      "    \"simulation_params\": {\n",
      "     "
     ]
    },
    {
     "name": "stdout",
     "output_type": "stream",
     "text": [
      " \"En"
     ]
    },
    {
     "name": "stdout",
     "output_type": "stream",
     "text": [
      "semble\":"
     ]
    },
    {
     "name": "stdout",
     "output_type": "stream",
     "text": [
      " \"NPT\",\n"
     ]
    },
    {
     "name": "stdout",
     "output_type": "stream",
     "text": [
      "      \"Number of Steps\": 500000"
     ]
    },
    {
     "name": "stdout",
     "output_type": "stream",
     "text": [
      ",\n",
      "      \"record_interval_steps\":"
     ]
    },
    {
     "name": "stdout",
     "output_type": "stream",
     "text": [
      " 100,\n",
      "      \"record_params\":"
     ]
    },
    {
     "name": "stdout",
     "output_type": "stream",
     "text": [
      " [\"step\", \"potentialEnergy\","
     ]
    },
    {
     "name": "stdout",
     "output_type": "stream",
     "text": [
      " \"temperature\"]\n",
      "    }\n",
      "  }\n",
      "}\n",
      "```\n"
     ]
    },
    {
     "name": "stdout",
     "output_type": "stream",
     "text": [
      "Thought:"
     ]
    },
    {
     "name": "stdout",
     "output_type": "stream",
     "text": [
      " I need to download the PDB"
     ]
    },
    {
     "name": "stdout",
     "output_type": "stream",
     "text": [
      " file for 1ZNI and then"
     ]
    },
    {
     "name": "stdout",
     "output_type": "stream",
     "text": [
      " use the file ID to set up"
     ]
    },
    {
     "name": "stdout",
     "output_type": "stream",
     "text": [
      " and run the simulation.\n",
      "\n",
      "Action:\n",
      "```\n",
      "{\n",
      " "
     ]
    },
    {
     "name": "stdout",
     "output_type": "stream",
     "text": [
      " \"action\": \"PDBFileDownloader\",\n",
      " "
     ]
    },
    {
     "name": "stdout",
     "output_type": "stream",
     "text": [
      " \"action_input\": \"1ZNI\"\n"
     ]
    },
    {
     "name": "stdout",
     "output_type": "stream",
     "text": [
      "}\n",
      "```\n"
     ]
    },
    {
     "name": "stdout",
     "output_type": "stream",
     "text": [
      "PDB file found with this ID: 1ZNI\n"
     ]
    },
    {
     "name": "stdout",
     "output_type": "stream",
     "text": [
      "Thought:"
     ]
    },
    {
     "name": "stdout",
     "output_type": "stream",
     "text": [
      " Now that I have the PDB file ID"
     ]
    },
    {
     "name": "stdout",
     "output_type": "stream",
     "text": [
      ", I can use it to set up and run"
     ]
    },
    {
     "name": "stdout",
     "output_type": "stream",
     "text": [
      " the simulation.\n",
      "\n",
      "Action:\n",
      "```\n",
      "{\n",
      " "
     ]
    },
    {
     "name": "stdout",
     "output_type": "stream",
     "text": [
      " \"action\": \"SetUpandRunFunction"
     ]
    },
    {
     "name": "stdout",
     "output_type": "stream",
     "text": [
      "\",\n",
      "  \"action_input\": {\n",
      "   "
     ]
    },
    {
     "name": "stdout",
     "output_type": "stream",
     "text": [
      " \"pdb_id\": \"1ZNI_184"
     ]
    },
    {
     "name": "stdout",
     "output_type": "stream",
     "text": [
      "036\",\n",
      "    \"forcefield_files\": [\""
     ]
    },
    {
     "name": "stdout",
     "output_type": "stream",
     "text": [
      "amber99sbildn.xml"
     ]
    },
    {
     "name": "stdout",
     "output_type": "stream",
     "text": [
      "\", \"tip3p.xml\"],\n",
      "   "
     ]
    },
    {
     "name": "stdout",
     "output_type": "stream",
     "text": [
      " \"save\": true,\n",
      "    \"system"
     ]
    },
    {
     "name": "stdout",
     "output_type": "stream",
     "text": [
      "_params\": {\n",
      "      \"nonbonded"
     ]
    },
    {
     "name": "stdout",
     "output_type": "stream",
     "text": [
      "Method\": \"PME\",\n",
      "      \"nonbonded"
     ]
    },
    {
     "name": "stdout",
     "output_type": "stream",
     "text": [
      "Cutoff\": \"1.0 *"
     ]
    },
    {
     "name": "stdout",
     "output_type": "stream",
     "text": [
      " nanometers\",\n",
      "      \"ewaldError"
     ]
    },
    {
     "name": "stdout",
     "output_type": "stream",
     "text": [
      "Tolerance\": 0.00001"
     ]
    },
    {
     "name": "stdout",
     "output_type": "stream",
     "text": [
      ",\n",
      "      \"constraints\": \"HBonds"
     ]
    },
    {
     "name": "stdout",
     "output_type": "stream",
     "text": [
      "\",\n",
      "      \"rigidWater\":"
     ]
    },
    {
     "name": "stdout",
     "output_type": "stream",
     "text": [
      " true,\n",
      "      \"constraintTolerance\": "
     ]
    },
    {
     "name": "stdout",
     "output_type": "stream",
     "text": [
      "0.00001,\n",
      "      \"s"
     ]
    },
    {
     "name": "stdout",
     "output_type": "stream",
     "text": [
      "olvate\": true\n",
      "    },\n",
      "   "
     ]
    },
    {
     "name": "stdout",
     "output_type": "stream",
     "text": [
      " \"integrator_params\": {\n",
      "      \"integr"
     ]
    },
    {
     "name": "stdout",
     "output_type": "stream",
     "text": [
      "ator_type\": \"LangevinMiddle"
     ]
    },
    {
     "name": "stdout",
     "output_type": "stream",
     "text": [
      "\",\n",
      "      \"Temperature\":"
     ]
    },
    {
     "name": "stdout",
     "output_type": "stream",
     "text": [
      " \"300 * kelvin"
     ]
    },
    {
     "name": "stdout",
     "output_type": "stream",
     "text": [
      "\",\n",
      "      \"Friction\": \"1."
     ]
    },
    {
     "name": "stdout",
     "output_type": "stream",
     "text": [
      "0 / picoseconds\",\n",
      "      \"T"
     ]
    },
    {
     "name": "stdout",
     "output_type": "stream",
     "text": [
      "imestep\": \"0.002 * picoseconds"
     ]
    },
    {
     "name": "stdout",
     "output_type": "stream",
     "text": [
      "\",\n",
      "      \"Pressure\": \"1."
     ]
    },
    {
     "name": "stdout",
     "output_type": "stream",
     "text": [
      "0 * bar\"\n",
      "    },\n",
      "    \"simulation"
     ]
    },
    {
     "name": "stdout",
     "output_type": "stream",
     "text": [
      "_params\": {\n",
      "      \"Ensemble\": \""
     ]
    },
    {
     "name": "stdout",
     "output_type": "stream",
     "text": [
      "NPT\",\n",
      "      \"Number"
     ]
    },
    {
     "name": "stdout",
     "output_type": "stream",
     "text": [
      " of Steps\": 500000,\n",
      "      \"record_interval_steps\": 100,\n",
      "      \"record_params\": [\"step\", \"potentialEnergy\", \"temperature\"]\n",
      "    }\n",
      "  }\n",
      "}\n",
      "```\n",
      "\n"
     ]
    },
    {
     "name": "stdout",
     "output_type": "stream",
     "text": [
      "Building system...\n"
     ]
    },
    {
     "name": "stdout",
     "output_type": "stream",
     "text": [
      "About to create system...\n",
      "Attempts at creating system: 0/3\n"
     ]
    },
    {
     "name": "stdout",
     "output_type": "stream",
     "text": [
      "Error adding solvent ValueError – No template found for residue 1 (GLY).  The set of atoms is similar to GLY, but it is missing 3 hydrogen atoms.  For more information, see https://github.com/openmm/openmm/wiki/Frequently-Asked-Questions#template\n",
      "Residue code: GLY\n",
      "Residue code not in solvent list. Adding forcefield                         not supported.\n"
     ]
    },
    {
     "name": "stdout",
     "output_type": "stream",
     "text": [
      "Thought:"
     ]
    },
    {
     "name": "stdout",
     "output_type": "stream",
     "text": [
      " The simulation failed because the residue "
     ]
    },
    {
     "name": "stdout",
     "output_type": "stream",
     "text": [
      "1 (GLY) is missing "
     ]
    },
    {
     "name": "stdout",
     "output_type": "stream",
     "text": [
      "3 hydrogen atoms. I need"
     ]
    },
    {
     "name": "stdout",
     "output_type": "stream",
     "text": [
      " to clean the PDB file by adding"
     ]
    },
    {
     "name": "stdout",
     "output_type": "stream",
     "text": [
      " missing atoms and hydrogens before"
     ]
    },
    {
     "name": "stdout",
     "output_type": "stream",
     "text": [
      " setting up and running the simulation.\n",
      "\n"
     ]
    },
    {
     "name": "stdout",
     "output_type": "stream",
     "text": [
      "Action:\n",
      "```\n",
      "{\n",
      "  \"action\": \""
     ]
    },
    {
     "name": "stdout",
     "output_type": "stream",
     "text": [
      "CleaningToolFunction\",\n",
      "  \"action"
     ]
    },
    {
     "name": "stdout",
     "output_type": "stream",
     "text": [
      "_input\": {\n",
      "    \"pdb_id\":"
     ]
    },
    {
     "name": "stdout",
     "output_type": "stream",
     "text": [
      " \"1ZNI_184036\",\n"
     ]
    },
    {
     "name": "stdout",
     "output_type": "stream",
     "text": [
      "    \"replace_nonstandard_resid"
     ]
    },
    {
     "name": "stdout",
     "output_type": "stream",
     "text": [
      "ues\": true,\n",
      "    \"add_missing_atoms"
     ]
    },
    {
     "name": "stdout",
     "output_type": "stream",
     "text": [
      "\": true,\n",
      "    \"remove_heter"
     ]
    },
    {
     "name": "stdout",
     "output_type": "stream",
     "text": [
      "ogens\": true,\n",
      "    \"remove_water\":"
     ]
    },
    {
     "name": "stdout",
     "output_type": "stream",
     "text": [
      " true,\n",
      "    \"add_hydrogens\":"
     ]
    },
    {
     "name": "stdout",
     "output_type": "stream",
     "text": [
      " true,\n",
      "    \"add_hydrogens_ph\":"
     ]
    },
    {
     "name": "stdout",
     "output_type": "stream",
     "text": [
      " 7.0\n",
      "  }\n",
      "}\n",
      "```\n",
      "\n"
     ]
    },
    {
     "name": "stdout",
     "output_type": "stream",
     "text": [
      "file path: /gpfs/fs2/scratch/qcampbe2/repos/md-agent/ckpt/ckpt_134/pdb/1ZNI_raw_20240908_184036.pdb\n"
     ]
    },
    {
     "name": "stdout",
     "output_type": "stream",
     "text": [
      "Thought:"
     ]
    },
    {
     "name": "stdout",
     "output_type": "stream",
     "text": [
      " Now that the PDB file has been cleaned"
     ]
    },
    {
     "name": "stdout",
     "output_type": "stream",
     "text": [
      ", I can use the cleaned file"
     ]
    },
    {
     "name": "stdout",
     "output_type": "stream",
     "text": [
      " ID to set up and run the simulation.\n",
      "\n"
     ]
    },
    {
     "name": "stdout",
     "output_type": "stream",
     "text": [
      "Action:\n",
      "```\n",
      "{\n",
      "  \"action\": \""
     ]
    },
    {
     "name": "stdout",
     "output_type": "stream",
     "text": [
      "SetUpandRunFunction\",\n",
      "  \"action"
     ]
    },
    {
     "name": "stdout",
     "output_type": "stream",
     "text": [
      "_input\": {\n",
      "    \"pdb_id\":"
     ]
    },
    {
     "name": "stdout",
     "output_type": "stream",
     "text": [
      " \"1ZNI_184041\",\n"
     ]
    },
    {
     "name": "stdout",
     "output_type": "stream",
     "text": [
      "    \"forcefield_files\": [\"amber99"
     ]
    },
    {
     "name": "stdout",
     "output_type": "stream",
     "text": [
      "sbildn.xml\", \"tip3"
     ]
    },
    {
     "name": "stdout",
     "output_type": "stream",
     "text": [
      "p.xml"
     ]
    },
    {
     "name": "stdout",
     "output_type": "stream",
     "text": [
      "\"],\n",
      "    \"save\": true,\n",
      "   "
     ]
    },
    {
     "name": "stdout",
     "output_type": "stream",
     "text": [
      " \"system_params\": {\n",
      "      \"non"
     ]
    },
    {
     "name": "stdout",
     "output_type": "stream",
     "text": [
      "bondedMethod\": \"PME\",\n"
     ]
    },
    {
     "name": "stdout",
     "output_type": "stream",
     "text": [
      "      \"nonbondedCutoff\": \""
     ]
    },
    {
     "name": "stdout",
     "output_type": "stream",
     "text": [
      "1.0 * nanometers\",\n",
      "     "
     ]
    },
    {
     "name": "stdout",
     "output_type": "stream",
     "text": [
      " \"ewaldErrorTolerance\":"
     ]
    },
    {
     "name": "stdout",
     "output_type": "stream",
     "text": [
      " 0.00001,\n",
      "      \"constraints"
     ]
    },
    {
     "name": "stdout",
     "output_type": "stream",
     "text": [
      "\": \"HBonds\",\n",
      "      \"rig"
     ]
    },
    {
     "name": "stdout",
     "output_type": "stream",
     "text": [
      "idWater\": true,\n",
      "      \"constraint"
     ]
    },
    {
     "name": "stdout",
     "output_type": "stream",
     "text": [
      "Tolerance\": 0."
     ]
    },
    {
     "name": "stdout",
     "output_type": "stream",
     "text": [
      "00001"
     ]
    },
    {
     "name": "stdout",
     "output_type": "stream",
     "text": [
      ",\n",
      "      \"solvate\": true"
     ]
    },
    {
     "name": "stdout",
     "output_type": "stream",
     "text": [
      "\n",
      "    },\n",
      "    \"integrator_params"
     ]
    },
    {
     "name": "stdout",
     "output_type": "stream",
     "text": [
      "\": {\n",
      "      \"integrator_type\":"
     ]
    },
    {
     "name": "stdout",
     "output_type": "stream",
     "text": [
      " \"LangevinMiddle\",\n",
      "      \"Temperature"
     ]
    },
    {
     "name": "stdout",
     "output_type": "stream",
     "text": [
      "\": \"300 * kelvin\",\n"
     ]
    },
    {
     "name": "stdout",
     "output_type": "stream",
     "text": [
      "      \"Friction\": \"1."
     ]
    },
    {
     "name": "stdout",
     "output_type": "stream",
     "text": [
      "0 /"
     ]
    },
    {
     "name": "stdout",
     "output_type": "stream",
     "text": [
      " pic"
     ]
    },
    {
     "name": "stdout",
     "output_type": "stream",
     "text": [
      "oseconds\",\n",
      "      \"Timestep\": \"0"
     ]
    },
    {
     "name": "stdout",
     "output_type": "stream",
     "text": [
      ".002 * picoseconds\",\n",
      "      \"Pressure"
     ]
    },
    {
     "name": "stdout",
     "output_type": "stream",
     "text": [
      "\": \"1.0 *"
     ]
    },
    {
     "name": "stdout",
     "output_type": "stream",
     "text": [
      " bar\"\n",
      "    },\n",
      "    \"simulation_params\":"
     ]
    },
    {
     "name": "stdout",
     "output_type": "stream",
     "text": [
      " {\n",
      "      \"Ensemble"
     ]
    },
    {
     "name": "stdout",
     "output_type": "stream",
     "text": [
      "\": \"NPT\",\n",
      "      \"Number"
     ]
    },
    {
     "name": "stdout",
     "output_type": "stream",
     "text": [
      " of Steps\": 500000,\n",
      "      \"record"
     ]
    },
    {
     "name": "stdout",
     "output_type": "stream",
     "text": [
      "_interval_steps\": 100,\n"
     ]
    },
    {
     "name": "stdout",
     "output_type": "stream",
     "text": [
      "      \"record_params\": [\"step\", \""
     ]
    },
    {
     "name": "stdout",
     "output_type": "stream",
     "text": [
      "potentialEnergy\", \"temperature\"]\n",
      "    }\n",
      " "
     ]
    },
    {
     "name": "stdout",
     "output_type": "stream",
     "text": [
      " }\n",
      "}\n",
      "```"
     ]
    },
    {
     "name": "stdout",
     "output_type": "stream",
     "text": [
      "Building system...\n"
     ]
    },
    {
     "name": "stdout",
     "output_type": "stream",
     "text": [
      "About to create system...\n",
      "Attempts at creating system: 0/3\n"
     ]
    },
    {
     "name": "stdout",
     "output_type": "stream",
     "text": [
      "System built successfully\n",
      "<openmm.openmm.System; proxy of <Swig Object of type 'OpenMM::System *' at 0x2b500dbfee20> >\n",
      "Setting up integrator...\n",
      "Creating simulation...\n",
      "simulation set!\n",
      "Performing energy minimization...\n"
     ]
    },
    {
     "name": "stdout",
     "output_type": "stream",
     "text": [
      "Minimization complete!\n"
     ]
    },
    {
     "name": "stdout",
     "output_type": "stream",
     "text": [
      "Initial Positions saved to initial_positions.pdb\n",
      "Equilibrating...\n"
     ]
    },
    {
     "name": "stdout",
     "output_type": "stream",
     "text": [
      "Simulating...\n"
     ]
    },
    {
     "name": "stdout",
     "output_type": "stream",
     "text": [
      "Done!\n",
      "Standalone simulation script written to /gpfs/fs2/scratch/qcampbe2/repos/md-agent/ckpt/ckpt_134/simulations/NPT_1ZNI_184041_20240908_184045.py\n",
      "['LOG_sim0_161453_1XQ8_161450_20240908_161540.txt', 'batch5.sh', 'TOP_sim0_161453_1XQ8_161450_20240908_161540.pdb', 'exp_10.ipynb', 'LOG_sim0_120215_1C3W_120212_20240909_120219.txt', 'TOP_sim0_120215_1C3W_120212_20240909_120219.pdb', 'exp_13.ipynb', 'exp_22.ipynb', 'TRAJ_sim0_155242_1MBN_155238_20240908_155243.dcd', 'TRAJ_sim0_181258_1MBN_181255_20240908_181317.dcd', 'TRAJ_sim0_094939_1_094932_20240909_094940.dcd', 'exp_8.ipynb', 'TOP_sim0_184045_1ZNI_184041_20240908_184050.pdb', 'TRAJ_sim0_094431_1_094428_20240909_094434.dcd', 'out.batch2b', 'LOG_sim0_113712_1ZNI_113708_20240909_113716.txt', 'LOG_sim0_155242_1MBN_155238_20240908_155243.txt', 'TOP_sim0_094951_1_094932_20240909_094951.pdb', 'TOP_sim0_094911_1_094428_20240909_094911.pdb', 'exp_3.ipynb', 'exp_19_updated.ipynb', 'TOP_sim0_113712_1ZNI_113708_20240909_113716.pdb', 'LOG_sim0_165413_1ZNI_165348_20240908_165423.txt', 'exp_17.ipynb', 'exp_1.ipynb', 'LOG_sim0_094431_1_094428_20240909_094434.txt', '.ipynb_checkpoints', 'batch1b.sh', 'LOG_sim0_180548_1XQ8_180545_20240908_180638.txt', 'TRAJ_sim0_180548_1XQ8_180545_20240908_180638.dcd', 'exp_4.ipynb', 'packmol.inp', 'out.batch3', 'TRAJ_sim0_181252_1XQ8_181249_20240908_181442.dcd', 'exp_24.ipynb', 'TOP_sim0_181257_1ZNI_181254_20240908_181302.pdb', 'exp_12.ipynb', 'LOG_sim0_181258_1MBN_181255_20240908_181317.txt', 'batch4.sh', 'exp_19.ipynb', 'exp_9.ipynb', 'results', 'exp_5.ipynb', 'exp_7.ipynb', 'batch2b.sh', 'TOP_sim0_094431_1_094428_20240909_094434.pdb', 'TOP_sim0_181258_1MBN_181255_20240908_181317.pdb', 'batch1a.sh', 'exp_2.ipynb', 'TOP_sim0_155242_1MBN_155238_20240908_155243.pdb', 'TOP_sim0_094939_1_094932_20240909_094940.pdb', 'TRAJ_sim0_174601_1TRN_174558_20240908_174606.dcd', 'out.batch5', 'TOP_sim0_165413_1ZNI_165348_20240908_165423.pdb', 'exp_18.ipynb', 'exp_14.ipynb', 'batch2a.sh', 'TOP_sim0_180548_1XQ8_180545_20240908_180638.pdb', 'out.batch4', 'batch3.sh', 'out.batch1b', 'LOG_sim0_181252_1XQ8_181249_20240908_181442.txt', 'exp_15.ipynb', 'exp_6.ipynb', 'TOP_sim0_174601_1TRN_174558_20240908_174606.pdb', 'LOG_sim0_184045_1ZNI_184041_20240908_184050.txt', 'LOG_sim0_174601_1TRN_174558_20240908_174606.txt', 'exp_20.ipynb', 'TRAJ_sim0_120215_1C3W_120212_20240909_120219.dcd', 'exp_23.ipynb', 'TOP_sim0_181252_1XQ8_181249_20240908_181442.pdb', 'TRAJ_sim0_094911_1_094428_20240909_094911.dcd', 'LOG_sim0_094911_1_094428_20240909_094911.txt', 'TRAJ_sim0_113712_1ZNI_113708_20240909_113716.dcd', 'LOG_sim0_181257_1ZNI_181254_20240908_181302.txt', 'LOG_sim0_094939_1_094932_20240909_094940.txt', 'exp_16.ipynb', 'TRAJ_sim0_181257_1ZNI_181254_20240908_181302.dcd', 'exp_11.ipynb', 'TRAJ_sim0_184045_1ZNI_184041_20240908_184050.dcd', 'exp_21.ipynb', 'out.batch2a', 'TRAJ_sim0_094951_1_094932_20240909_094951.dcd', 'LOG_sim0_094951_1_094932_20240909_094951.txt', 'exp_25.ipynb', 'TRAJ_sim0_165413_1ZNI_165348_20240908_165423.dcd', '1_1_094428_v1.pdb', 'exp_23_gpt4o.ipynb', 'TRAJ_sim0_161453_1XQ8_161450_20240908_161540.dcd']\n"
     ]
    },
    {
     "name": "stdout",
     "output_type": "stream",
     "text": [
      "Thought:"
     ]
    },
    {
     "name": "stdout",
     "output_type": "stream",
     "text": [
      " Now that the simulation is complete,"
     ]
    },
    {
     "name": "stdout",
     "output_type": "stream",
     "text": [
      " I can use"
     ]
    },
    {
     "name": "stdout",
     "output_type": "stream",
     "text": [
      " the trajectory file to calculate the RMSD.\n",
      "\n"
     ]
    },
    {
     "name": "stdout",
     "output_type": "stream",
     "text": [
      "Action:\n",
      "``"
     ]
    },
    {
     "name": "stdout",
     "output_type": "stream",
     "text": [
      "`\n",
      "{\n",
      "  \"action\": \"ComputeR"
     ]
    },
    {
     "name": "stdout",
     "output_type": "stream",
     "text": [
      "MSD\",\n",
      "  \"action_input\":"
     ]
    },
    {
     "name": "stdout",
     "output_type": "stream",
     "text": [
      " {\n",
      "    \"top_id\": \"top"
     ]
    },
    {
     "name": "stdout",
     "output_type": "stream",
     "text": [
      "_sim0_184045\",\n",
      "    \"tr"
     ]
    },
    {
     "name": "stdout",
     "output_type": "stream",
     "text": [
      "aj_id\": \"rec0_"
     ]
    },
    {
     "name": "stdout",
     "output_type": "stream",
     "text": [
      "184050\",\n",
      "    \"select\": \""
     ]
    },
    {
     "name": "stdout",
     "output_type": "stream",
     "text": [
      "protein\",\n",
      "    \"mol_name\":"
     ]
    },
    {
     "name": "stdout",
     "output_type": "stream",
     "text": [
      " \"1ZNI_184041\"\n"
     ]
    },
    {
     "name": "stdout",
     "output_type": "stream",
     "text": [
      "  }\n",
      "}\n",
      "```"
     ]
    },
    {
     "name": "stdout",
     "output_type": "stream",
     "text": [
      "Calculating RMSD...\n"
     ]
    },
    {
     "name": "stdout",
     "output_type": "stream",
     "text": [
      "Data saved to /gpfs/fs2/scratch/qcampbe2/repos/md-agent/ckpt/ckpt_134/records/rmsd_1ZNI_184041.csv\n"
     ]
    },
    {
     "name": "stdout",
     "output_type": "stream",
     "text": [
      "Plot saved to /gpfs/fs2/scratch/qcampbe2/repos/md-agent/ckpt/ckpt_134/figures/FIG_rmsd_1ZNI_184041_20240909_140705.png\n"
     ]
    },
    {
     "name": "stdout",
     "output_type": "stream",
     "text": [
      "Final Answer"
     ]
    },
    {
     "name": "stdout",
     "output_type": "stream",
     "text": [
      ": The RMSD"
     ]
    },
    {
     "name": "stdout",
     "output_type": "stream",
     "text": [
      " of the protein 1ZNI"
     ]
    },
    {
     "name": "stdout",
     "output_type": "stream",
     "text": [
      " at 300 K for "
     ]
    },
    {
     "name": "stdout",
     "output_type": "stream",
     "text": [
      "1 ns is calculated and saved to csv"
     ]
    },
    {
     "name": "stdout",
     "output_type": "stream",
     "text": [
      " with file ID rmsd_1"
     ]
    },
    {
     "name": "stdout",
     "output_type": "stream",
     "text": [
      "ZNI_184041. The plot of"
     ]
    },
    {
     "name": "stdout",
     "output_type": "stream",
     "text": [
      " the RMSD is saved with plot"
     ]
    },
    {
     "name": "stdout",
     "output_type": "stream",
     "text": [
      " ID fig0_140"
     ]
    },
    {
     "name": "stdout",
     "output_type": "stream",
     "text": [
      "705."
     ]
    }
   ],
   "source": [
    "prompt10 = \"Simulate protein 1ZNI at 300 K for 1 ns and calculate the RMSD.\"\n",
    "answer = agent.run(prompt10)"
   ]
  },
  {
   "cell_type": "code",
   "execution_count": 5,
   "metadata": {
    "execution": {
     "iopub.execute_input": "2024-09-09T18:07:07.766210Z",
     "iopub.status.busy": "2024-09-09T18:07:07.765903Z",
     "iopub.status.idle": "2024-09-09T18:07:07.773425Z",
     "shell.execute_reply": "2024-09-09T18:07:07.772574Z"
    }
   },
   "outputs": [
    {
     "name": "stdout",
     "output_type": "stream",
     "text": [
      "duration: 1166.63 minutes\n"
     ]
    }
   ],
   "source": [
    "end = datetime.datetime.now()\n",
    "elapsed = end - start\n",
    "print(f\"duration: {elapsed.total_seconds()/60:.2f} minutes\")"
   ]
  },
  {
   "cell_type": "code",
   "execution_count": 6,
   "metadata": {
    "execution": {
     "iopub.execute_input": "2024-09-09T18:07:07.777164Z",
     "iopub.status.busy": "2024-09-09T18:07:07.776857Z",
     "iopub.status.idle": "2024-09-09T18:07:27.631171Z",
     "shell.execute_reply": "2024-09-09T18:07:27.630190Z"
    }
   },
   "outputs": [
    {
     "name": "stdout",
     "output_type": "stream",
     "text": [
      "ckpt_dir ckpt_134\n",
      "Files found in registry: 1ZNI_184036: PDB file downloaded from RSCB\n",
      " PDBFile ID: 1ZNI_184036\n",
      " 1ZNI_184041: Cleaned File:  Removed Heterogens\n",
      " and Water Removed.  Replaced Nonstandard Residues. Added Hydrogens at pH 7.0. Missing Atoms Added and replaces nonstandard residues. \n",
      " top_sim0_184045: Initial positions for simulation sim0_184045\n",
      " sim0_184045: Basic Simulation of Protein 1ZNI_184041\n",
      " rec0_184050: Simulation trajectory for protein 1ZNI_184041 and simulation sim0_184045\n",
      " rec1_184050: Simulation state log for protein 1ZNI_184041 and simulation sim0_184045\n",
      " rec2_184050: Simulation pdb frames for protein 1ZNI_184041 and simulation sim0_184045\n",
      " rmsd_1ZNI_184041: RMSD for 1ZNI_184041\n",
      " fig0_140705: RMSD plot for 1ZNI_184041\n"
     ]
    }
   ],
   "source": [
    "registry = agent.path_registry\n",
    "print(\"ckpt_dir\",os.path.basename(registry.ckpt_dir))\n",
    "paths_and_descriptions = registry.list_path_names_and_descriptions()\n",
    "print(\"\\n\".join(paths_and_descriptions.split(\",\")))"
   ]
  },
  {
   "cell_type": "code",
   "execution_count": 7,
   "metadata": {
    "execution": {
     "iopub.execute_input": "2024-09-09T18:07:27.635569Z",
     "iopub.status.busy": "2024-09-09T18:07:27.635244Z",
     "iopub.status.idle": "2024-09-09T18:07:27.646381Z",
     "shell.execute_reply": "2024-09-09T18:07:27.645428Z"
    }
   },
   "outputs": [],
   "source": [
    "#ensure all files are in path registry\n",
    "assert all(n in paths_and_descriptions for n in ['1ZNI', 'rmsd', 'sim0', 'top_sim0', 'fig0']), \"Not all file ids are present in path registry\""
   ]
  },
  {
   "cell_type": "code",
   "execution_count": 8,
   "metadata": {
    "execution": {
     "iopub.execute_input": "2024-09-09T18:07:27.650591Z",
     "iopub.status.busy": "2024-09-09T18:07:27.650273Z",
     "iopub.status.idle": "2024-09-09T18:07:27.661102Z",
     "shell.execute_reply": "2024-09-09T18:07:27.660187Z"
    }
   },
   "outputs": [],
   "source": [
    "# let's see if we can't grab the plot\n",
    "import re\n",
    "import os\n",
    "match = re.search(r\"fig0_\\d+\", paths_and_descriptions)\n",
    "plot_path = registry.get_mapped_path(match.group(0))\n",
    "assert os.path.exists(plot_path)"
   ]
  },
  {
   "cell_type": "code",
   "execution_count": 9,
   "metadata": {
    "execution": {
     "iopub.execute_input": "2024-09-09T18:07:27.665467Z",
     "iopub.status.busy": "2024-09-09T18:07:27.665122Z",
     "iopub.status.idle": "2024-09-09T18:07:27.679081Z",
     "shell.execute_reply": "2024-09-09T18:07:27.678336Z"
    }
   },
   "outputs": [
    {
     "data": {
      "image/png": "[encoded data removed]",
      "text/plain": [
       "<IPython.core.display.Image object>"
      ]
     },
     "execution_count": 9,
     "metadata": {},
     "output_type": "execute_result"
    }
   ],
   "source": [
    "from IPython.display import Image\n",
    "\n",
    "Image(filename=plot_path)"
   ]
  },
  {
   "cell_type": "markdown",
   "metadata": {},
   "source": [
    "# Experiment Result: ✅❌\n",
    "\n",
    "1. Completed without Exception or TimeOut Errors ✅\n",
    "2. Attempted all necessary steps ✅\n",
    "3. Completed without Hallucination ✅\n",
    "4. Logic make sense ✅\n",
    "5. Correct Answer ✅"
   ]
  }
 ],
 "metadata": {
  "kernelspec": {
   "display_name": "mdcrow",
   "language": "python",
   "name": "mdcrow"
  },
  "language_info": {
   "codemirror_mode": {
    "name": "ipython",
    "version": 3
   },
   "file_extension": ".py",
   "mimetype": "text/x-python",
   "name": "python",
   "nbconvert_exporter": "python",
   "pygments_lexer": "ipython3",
   "version": "3.12.4"
  }
 },
 "nbformat": 4,
 "nbformat_minor": 4
}
