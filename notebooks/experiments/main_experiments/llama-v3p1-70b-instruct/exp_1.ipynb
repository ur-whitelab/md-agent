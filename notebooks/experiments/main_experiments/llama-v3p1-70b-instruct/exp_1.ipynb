{
 "cells": [
  {
   "cell_type": "code",
   "execution_count": 1,
   "metadata": {},
   "outputs": [],
   "source": [
    "import datetime\n",
    "import os\n",
    "from mdcrow import MDCrow"
   ]
  },
  {
   "cell_type": "code",
   "execution_count": 2,
   "metadata": {},
   "outputs": [
    {
     "name": "stdout",
     "output_type": "stream",
     "text": [
      "date and time: 2024-09-11\n",
      "time: 18:27:19\n"
     ]
    }
   ],
   "source": [
    "#todays date and time\n",
    "now = datetime.datetime.now()\n",
    "date = now.strftime(\"%Y-%m-%d\")\n",
    "print(\"date and time:\",date)\n",
    "time = now.strftime(\"%H:%M:%S\")\n",
    "print(\"time:\",time)"
   ]
  },
  {
   "cell_type": "code",
   "execution_count": 3,
   "metadata": {},
   "outputs": [],
   "source": [
    "prompt1 = \"Simulate PDB ID 1MBN at two different temperatures: 300 K and 400 K for 1 ns each. Plot the RMSD of both over time and compare the final secondary structures at the end of the simulations. Get information about this protein, such as the number of residues and chains, etc.\"\n",
    "llm_var = \"accounts/fireworks/models/llama-v3p1-70b-instruct\"\n",
    "tools = \"all\"\n",
    "agent = MDCrow(agent_type=\"Structured\", model=llm_var, top_k_tools=tools)"
   ]
  },
  {
   "cell_type": "code",
   "execution_count": 4,
   "metadata": {},
   "outputs": [
    {
     "name": "stdout",
     "output_type": "stream",
     "text": [
      "LLM:  accounts/fireworks/models/llama-v3p1-70b-instruct \n",
      "Temperature:  0.1\n"
     ]
    }
   ],
   "source": [
    "print(\"LLM: \",agent.llm.model_name,\"\\nTemperature: \",agent.llm.temperature)"
   ]
  },
  {
   "cell_type": "code",
   "execution_count": 5,
   "metadata": {},
   "outputs": [
    {
     "name": "stdout",
     "output_type": "stream",
     "text": [
      "Thought: To solve this problem, I need to simulate the protein 1MBN at two different temperatures, calculate the RMSD over time, and compare the final secondary structures. I also need to get information about the protein.\n",
      "\n",
      "Action:\n",
      "```\n",
      "{\n",
      "  \"action\": \"PDBFileDownloader\",\n",
      "  \"action_input\": \"1MBN\"\n",
      "}\n",
      "```\n",
      "PDB file found with this ID: 1MBN\n",
      "Thought: Now that I have the PDB file, I need to simulate the protein at two different temperatures. I will use the SetUpandRunFunction tool to set up and run the simulations.\n",
      "\n",
      "Action:\n",
      "```\n",
      "{\n",
      "  \"action\": \"SetUpandRunFunction\",\n",
      "  \"action_input\": {\n",
      "    \"pdb_id\": \"1MBN_182724\",\n",
      "    \"forcefield_files\": [\"amber99sbildn.xml\", \"tip3p.xml\"],\n",
      "    \"save\": true,\n",
      "    \"system_params\": {\n",
      "      \"nonbondedMethod\": \"PME\",\n",
      "      \"nonbondedCutoff\": \"1.0 * nanometers\",\n",
      "      \"ewaldErrorTolerance\": 0.00001,\n",
      "      \"constraints\": \"HBonds\",\n",
      "      \"rigidWater\": true,\n",
      "      \"constraintTolerance\": 0.00001,\n",
      "      \"solvate\": true\n",
      "    },\n",
      "    \"integrator_params\": {\n",
      "      \"integrator_type\": \"LangevinMiddle\",\n",
      "      \"Temperature\": \"300 * kelvin\",\n",
      "      \"Friction\": \"1.0 / picoseconds\",\n",
      "      \"Timestep\": \"0.002 * picoseconds\",\n",
      "      \"Pressure\": \"1.0 * bar\"\n",
      "    },\n",
      "    \"simulation_params\": {\n",
      "      \"Ensemble\": \"NVT\",\n",
      "      \"Number of Steps\": 500000,\n",
      "      \"record_interval_steps\": 100,\n",
      "      \"record_params\": [\"step\", \"potentialEnergy\", \"temperature\"]\n",
      "    }\n",
      "  }\n",
      "}\n",
      "```\n",
      "\n",
      "Building system...\n",
      "About to create system...\n",
      "Attempts at creating system: 0/3\n",
      "Error adding solvent ValueError – No template found for residue 1 (VAL).  The set of atoms is similar to PRO, but it is missing 7 hydrogen atoms.  For more information, see https://github.com/openmm/openmm/wiki/Frequently-Asked-Questions#template\n",
      "Residue code: VAL\n",
      "Residue code not in solvent list. Adding forcefield                         not supported.\n",
      "Thought: The SetUpandRunFunction tool failed because the PDB file is missing some hydrogen atoms. I need to add the missing hydrogen atoms to the PDB file before running the simulation. I will use the CleaningToolFunction tool to add the missing hydrogen atoms.\n",
      "\n",
      "Action:\n",
      "```\n",
      "{\n",
      "  \"action\": \"CleaningToolFunction\",\n",
      "  \"action_input\": {\n",
      "    \"pdb_id\": \"1MBN_182724\",\n",
      "    \"replace_nonstandard_residues\": true,\n",
      "    \"add_missing_atoms\": true,\n",
      "    \"remove_heterogens\": true,\n",
      "    \"remove_water\": true,\n",
      "    \"add_hydrogens\": true,\n",
      "    \"add_hydrogens_ph\": 7.0\n",
      "  }\n",
      "}\n",
      "```\n",
      "\n",
      "file path: /Users/quinny/repos/md-agent/ckpt/ckpt_3/pdb/1MBN_raw_20240911_182724.pdb\n",
      "Thought: Now that I have the cleaned PDB file, I can simulate the protein at two different temperatures. I will use the SetUpandRunFunction tool to set up and run the simulations.\n",
      "\n",
      "Action:\n",
      "```\n",
      "{\n",
      "  \"action\": \"SetUpandRunFunction\",\n",
      "  \"action_input\": {\n",
      "    \"pdb_id\": \"1MBN_182742\",\n",
      "    \"forcefield_files\": [\"amber99sbildn.xml\", \"tip3p.xml\"],\n",
      "    \"save\": true,\n",
      "    \"system_params\": {\n",
      "      \"nonbondedMethod\": \"PME\",\n",
      "      \"nonbondedCutoff\": \"1.0 * nanometers\",\n",
      "      \"ewaldErrorTolerance\": 0.00001,\n",
      "      \"constraints\": \"HBonds\",\n",
      "      \"rigidWater\": true,\n",
      "      \"constraintTolerance\": 0.00001,\n",
      "      \"solvate\": true\n",
      "    },\n",
      "    \"integrator_params\": {\n",
      "      \"integrator_type\": \"LangevinMiddle\",\n",
      "      \"Temperature\": \"300 * kelvin\",\n",
      "      \"Friction\": \"1.0 / picoseconds\",\n",
      "      \"Timestep\": \"0.002 * picoseconds\",\n",
      "      \"Pressure\": \"1.0 * bar\"\n",
      "    },\n",
      "    \"simulation_params\": {\n",
      "      \"Ensemble\": \"NVT\",\n",
      "      \"Number of Steps\": 500000,\n",
      "      \"record_interval_steps\": 100,\n",
      "      \"record_params\": [\"step\", \"potentialEnergy\", \"temperature\"]\n",
      "    }\n",
      "  }\n",
      "}\n",
      "```\n",
      "\n",
      "Building system...\n",
      "About to create system...\n",
      "Attempts at creating system: 0/3\n",
      "System built successfully\n",
      "<openmm.openmm.System; proxy of <Swig Object of type 'OpenMM::System *' at 0x189e1c0c0> >\n",
      "Setting up integrator...\n",
      "Creating simulation...\n",
      "simulation set!\n",
      "Performing energy minimization...\n",
      "Minimization complete!\n",
      "Initial Positions saved to initial_positions.pdb\n",
      "Equilibrating...\n",
      "Simulating...\n",
      "Done!\n",
      "Standalone simulation script written to /Users/quinny/repos/md-agent/ckpt/ckpt_3/simulations/NVT_1MBN_182742_20240911_182746.py\n",
      "['TOP_sim0_182700_1ZNI_182657_20240911_182706.pdb', 'TRAJ_sim0_182746_1MBN_182742_20240911_182756.dcd', 'TOP_sim0_190557_1ZNI_190549_20240911_190603.pdb', 'LOG_sim0_182746_1MBN_182742_20240911_182756.txt', 'TOP_sim0_182547_1XQ8_182541_20240911_182733.pdb', 'TOP_sim0_182746_1MBN_182742_20240911_182756.pdb', 'TRAJ_sim0_190557_1ZNI_190549_20240911_190603.dcd', 'LOG_sim0_182547_1XQ8_182541_20240911_182733.txt', 'TRAJ_sim0_182700_1ZNI_182657_20240911_182706.dcd', 'exp_7.ipynb', 'LOG_sim0_182700_1ZNI_182657_20240911_182706.txt', 'TRAJ_sim0_182547_1XQ8_182541_20240911_182733.dcd', 'exp_5.ipynb', 'exp_1.ipynb', 'LOG_sim0_190557_1ZNI_190549_20240911_190603.txt']\n",
      "Thought: Now that I have the simulation results for the protein at 300 K, I need to simulate the protein at 400 K. I will use the SetUpandRunFunction tool to set up and run the simulation.\n",
      "\n",
      "Action:\n",
      "```\n",
      "{\n",
      "  \"action\": \"SetUpandRunFunction\",\n",
      "  \"action_input\": {\n",
      "    \"pdb_id\": \"1MBN_182742\",\n",
      "    \"forcefield_files\": [\"amber99sbildn.xml\", \"tip3p.xml\"],\n",
      "    \"save\": true,\n",
      "    \"system_params\": {\n",
      "      \"nonbondedMethod\": \"PME\",\n",
      "      \"nonbondedCutoff\": \"1.0 * nanometers\",\n",
      "      \"ewaldErrorTolerance\": 0.00001,\n",
      "      \"constraints\": \"HBonds\",\n",
      "      \"rigidWater\": true,\n",
      "      \"constraintTolerance\": 0.00001,\n",
      "      \"solvate\": true\n",
      "    },\n",
      "    \"integrator_params\": {\n",
      "      \"integrator_type\": \"LangevinMiddle\",\n",
      "      \"Temperature\": \"400 * kelvin\",\n",
      "      \"Friction\": \"1.0 / picoseconds\",\n",
      "      \"Timestep\": \"0.002 * picoseconds\",\n",
      "      \"Pressure\": \"1.0 * bar\"\n",
      "    },\n",
      "    \"simulation_params\": {\n",
      "      \"Ensemble\": \"NVT\",\n",
      "      \"Number of Steps\": 500000,\n",
      "      \"record_interval_steps\": 100,\n",
      "      \"record_params\": [\"step\", \"potentialEnergy\", \"temperature\"]\n",
      "    }\n",
      "  }\n",
      "}\n",
      "```Building system...\n",
      "About to create system...\n",
      "Attempts at creating system: 0/3\n",
      "System built successfully\n",
      "<openmm.openmm.System; proxy of <Swig Object of type 'OpenMM::System *' at 0x189e1e820> >\n",
      "Setting up integrator...\n",
      "Creating simulation...\n",
      "simulation set!\n",
      "Performing energy minimization...\n",
      "Minimization complete!\n",
      "Initial Positions saved to initial_positions.pdb\n",
      "Equilibrating...\n",
      "Simulating...\n",
      "Done!\n",
      "Standalone simulation script written to /Users/quinny/repos/md-agent/ckpt/ckpt_3/simulations/NVT_1MBN_182742_20240911_213932.py\n",
      "['TOP_sim0_213932_1MBN_182742_20240911_213934.pdb', 'TOP_sim0_182700_1ZNI_182657_20240911_182706.pdb', 'TOP_sim0_190557_1ZNI_190549_20240911_190603.pdb', 'TOP_sim0_182547_1XQ8_182541_20240911_182733.pdb', 'TRAJ_sim0_190557_1ZNI_190549_20240911_190603.dcd', 'TRAJ_sim0_213932_1MBN_182742_20240911_213934.dcd', 'LOG_sim0_182547_1XQ8_182541_20240911_182733.txt', 'TRAJ_sim0_182700_1ZNI_182657_20240911_182706.dcd', 'exp_7.ipynb', 'LOG_sim0_182700_1ZNI_182657_20240911_182706.txt', 'LOG_sim0_213932_1MBN_182742_20240911_213934.txt', 'TRAJ_sim0_182547_1XQ8_182541_20240911_182733.dcd', 'exp_5.ipynb', 'exp_1.ipynb', 'LOG_sim0_190557_1ZNI_190549_20240911_190603.txt']\n",
      "Thought: Now that I have the simulation results for the protein at both 300 K and 400 K, I need to calculate the RMSD over time for both simulations and compare the final secondary structures. I will use the ComputeRMSD tool to calculate the RMSD.\n",
      "\n",
      "Action:\n",
      "```\n",
      "{\n",
      "  \"action\": \"ComputeRMSD\",\n",
      "  \"action_input\": {\n",
      "    \"top_id\": \"top_sim0_182746\",\n",
      "    \"traj_id\": \"rec0_182756\",\n",
      "    \"ref_top_id\": \"top_sim0_182746\",\n",
      "    \"ref_traj_id\": \"rec0_182756\",\n",
      "    \"select\": \"protein\",\n",
      "    \"mol_name\": \"1MBN_182742\"\n",
      "  }\n",
      "}\n",
      "```\n",
      "Calculating RMSD...\n",
      "Data saved to /Users/quinny/repos/md-agent/ckpt/ckpt_3/records/rmsd_1MBN_182742.csv\n",
      "Plot saved to /Users/quinny/repos/md-agent/ckpt/ckpt_3/figures/FIG_rmsd_1MBN_182742_20240912_121737.png\n",
      "Thought: Now that I have calculated the RMSD for the simulation at 300 K, I need to calculate the RMSD for the simulation at 400 K.\n",
      "\n",
      "Action:\n",
      "```\n",
      "{\n",
      "  \"action\": \"ComputeRMSD\",\n",
      "  \"action_input\": {\n",
      "    \"top_id\": \"top_sim0_213932\",\n",
      "    \"traj_id\": \"rec0_213934\",\n",
      "    \"ref_top_id\": \"top_sim0_213932\",\n",
      "    \"ref_traj_id\": \"rec0_213934\",\n",
      "    \"select\": \"protein\",\n",
      "    \"mol_name\": \"1MBN_182742\"\n",
      "  }\n",
      "}\n",
      "```Calculating RMSD...\n",
      "Data saved to /Users/quinny/repos/md-agent/ckpt/ckpt_3/records/rmsd_1MBN_182742_1.csv\n",
      "Plot saved to /Users/quinny/repos/md-agent/ckpt/ckpt_3/figures/FIG_rmsd_1MBN_182742_20240912_121744.png\n",
      "Thought: Now that I have calculated the RMSD for both simulations, I need to compare the final secondary structures. I will use the ComputeDSSP tool to calculate the secondary structure for both simulations.\n",
      "\n",
      "Action:\n",
      "```\n",
      "{\n",
      "  \"action\": \"ComputeDSSP\",\n",
      "  \"action_input\": {\n",
      "    \"traj_file\": \"rec0_182756\",\n",
      "    \"top_file\": \"top_sim0_182746\",\n",
      "    \"target_frames\": \"last\"\n",
      "  }\n",
      "}\n",
      "```\n",
      "Thought: Now that I have calculated the secondary structure for the simulation at 300 K, I need to calculate the secondary structure for the simulation at 400 K.\n",
      "\n",
      "Action:\n",
      "```\n",
      "{\n",
      "  \"action\": \"ComputeDSSP\",\n",
      "  \"action_input\": {\n",
      "    \"traj_file\": \"rec0_213934\",\n",
      "    \"top_file\": \"top_sim0_213932\",\n",
      "    \"target_frames\": \"last\"\n",
      "  }\n",
      "}\n",
      "```\n",
      "Thought: Now that I have calculated the secondary structure for both simulations, I need to get information about the protein, such as the number of residues and chains. I will use the SummarizeProteinStructure tool to get this information.\n",
      "\n",
      "Action:\n",
      "```\n",
      "{\n",
      "  \"action\": \"SummarizeProteinStructure\",\n",
      "  \"action_input\": {\n",
      "    \"traj_file\": \"rec0_182756\",\n",
      "    \"top_file\": \"top_sim0_182746\"\n",
      "  }\n",
      "}\n",
      "```\n",
      "Thought: Now that I have all the necessary information, I can provide the final answer.\n",
      "\n",
      "Action:\n",
      "```\n",
      "{\n",
      "  \"action\": \"Final Answer\",\n",
      "  \"action_input\": \"The protein 1MBN was simulated at two different temperatures, 300 K and 400 K, for 1 ns each. The RMSD over time was calculated for both simulations and the final secondary structures were compared. The protein has 1164 residues, 3 chains, and 5488 atoms. The secondary structure of the protein at 300 K and 400 K is similar, with 109 residues in helix, 0 residues in strand, and 44 residues in coil. The RMSD plots for both simulations are saved with plot IDs fig0_121737 and fig0_121744, respectively.\"\n",
      "}\n",
      "```"
     ]
    },
    {
     "data": {
      "text/plain": [
       "({'input': '\\n    You are an expert molecular dynamics scientist, and\\n    your task is to respond to the question or\\n    solve the problem to the best of your ability using\\n    the provided tools.\\n\\n    You can only respond with a single complete\\n    \\'Thought, Action, Action Input\\' format\\n    OR a single \\'Final Answer\\' format.\\n\\n    Complete format:\\n    Thought: (reflect on your progress and decide what to do next)\\n    Action:\\n    ```\\n    {\\n        \"action\": (the action name, it should be the name of a tool),\\n        \"action_input\": (the input string for the action)\\n    }\\n    \\'\\'\\'\\n\\n    OR\\n\\n    Final Answer: (the final response to the original input\\n    question, once all steps are complete)\\n\\n    You are required to use the tools provided,\\n    using the most specific tool\\n    available for each action.\\n    Your final answer should contain all information\\n    necessary to answer the question and its subquestions.\\n    Before you finish, reflect on your progress and make\\n    sure you have addressed the question in its entirety.\\n\\n    If you are asked to continue\\n    or reference previous runs,\\n    the context will be provided to you.\\n    If context is provided, you should assume\\n    you are continuing a chat.\\n\\n    Here is the input:\\n    Previous Context: None\\n    Question: Simulate PDB ID 1MBN at two different temperatures: 300 K and 400 K for 1 ns each. Plot the RMSD of both over time and compare the final secondary structures at the end of the simulations. Get information about this protein, such as the number of residues and chains, etc. ',\n",
       "  'output': 'The protein 1MBN was simulated at two different temperatures, 300 K and 400 K, for 1 ns each. The RMSD over time was calculated for both simulations and the final secondary structures were compared. The protein has 1164 residues, 3 chains, and 5488 atoms. The secondary structure of the protein at 300 K and 400 K is similar, with 109 residues in helix, 0 residues in strand, and 44 residues in coil. The RMSD plots for both simulations are saved with plot IDs fig0_121737 and fig0_121744, respectively.'},\n",
       " 'MYRNPA33')"
      ]
     },
     "execution_count": 5,
     "metadata": {},
     "output_type": "execute_result"
    }
   ],
   "source": [
    "agent.run(prompt1)"
   ]
  },
  {
   "cell_type": "code",
   "execution_count": 6,
   "metadata": {},
   "outputs": [
    {
     "name": "stdout",
     "output_type": "stream",
     "text": [
      "date and time: 2024-09-12\n",
      "time: 12:17:55\n"
     ]
    }
   ],
   "source": [
    "#print final date and time\n",
    "now = datetime.datetime.now()\n",
    "date = now.strftime(\"%Y-%m-%d\")\n",
    "print(\"date and time:\",date)\n",
    "time = now.strftime(\"%H:%M:%S\")\n",
    "print(\"time:\",time)"
   ]
  },
  {
   "cell_type": "code",
   "execution_count": 7,
   "metadata": {},
   "outputs": [
    {
     "name": "stdout",
     "output_type": "stream",
     "text": [
      "Files found in registry: 1MBN_182724: PDB file downloaded from RSCB\n",
      " PDBFile ID: 1MBN_182724\n",
      " 1MBN_182742: Cleaned File:  Removed Heterogens\n",
      " and Water Removed.  Replaced Nonstandard Residues. Added Hydrogens at pH 7.0. Missing Atoms Added and replaces nonstandard residues. \n",
      " top_sim0_182746: Initial positions for simulation sim0_182746\n",
      " sim0_182746: Basic Simulation of Protein 1MBN_182742\n",
      " rec0_182756: Simulation trajectory for protein 1MBN_182742 and simulation sim0_182746\n",
      " rec1_182756: Simulation state log for protein 1MBN_182742 and simulation sim0_182746\n",
      " rec2_182756: Simulation pdb frames for protein 1MBN_182742 and simulation sim0_182746\n",
      " top_sim0_213932: Initial positions for simulation sim0_213932\n",
      " sim0_213932: Basic Simulation of Protein 1MBN_182742\n",
      " rec0_213934: Simulation trajectory for protein 1MBN_182742 and simulation sim0_213932\n",
      " rec1_213934: Simulation state log for protein 1MBN_182742 and simulation sim0_213932\n",
      " rec2_213934: Simulation pdb frames for protein 1MBN_182742 and simulation sim0_213932\n",
      " rmsd_1MBN_182742: RMSD for 1MBN_182742\n",
      " fig0_121737: RMSD plot for 1MBN_182742\n",
      " rmsd_1MBN_182742_1: RMSD for 1MBN_182742\n",
      " fig0_121744: RMSD plot for 1MBN_182742\n",
      " rec0_121747: dssp values for trajectory with id: rec0_182756\n",
      " rec0_121750: dssp values for trajectory with id: rec0_213934\n"
     ]
    }
   ],
   "source": [
    "registry = agent.path_registry\n",
    "paths_and_descriptions = registry.list_path_names_and_descriptions()\n",
    "print(\"\\n\".join(paths_and_descriptions.split(\",\")))"
   ]
  },
  {
   "cell_type": "code",
   "execution_count": 8,
   "metadata": {},
   "outputs": [
    {
     "name": "stdout",
     "output_type": "stream",
     "text": [
      "It's asserted that file paths for fig0_121737 and fig0_121744 exist\n"
     ]
    }
   ],
   "source": [
    "# let's see if we can't grab the plots\n",
    "\n",
    "import re\n",
    "matches = re.findall(r\"fig0_\\d+\", paths_and_descriptions)\n",
    "file_id1 = matches[0]\n",
    "file_id2 = matches[1]\n",
    "path1 = registry.get_mapped_path(file_id1)\n",
    "path2 = registry.get_mapped_path(file_id2)\n",
    "assert os.path.exists(path1)\n",
    "assert os.path.exists(path2)\n",
    "print(f\"It's asserted that file paths for {file_id1} and {file_id2} exist\")"
   ]
  },
  {
   "cell_type": "code",
   "execution_count": 11,
   "metadata": {},
   "outputs": [
    {
     "data": {
      "image/png": "[encoded data removed]",
      "text/plain": [
       "<IPython.core.display.Image object>"
      ]
     },
     "execution_count": 11,
     "metadata": {},
     "output_type": "execute_result"
    }
   ],
   "source": [
    "from IPython.display import Image\n",
    "Image(filename=path1)"
   ]
  },
  {
   "cell_type": "code",
   "execution_count": 12,
   "metadata": {},
   "outputs": [
    {
     "data": {
      "image/png": "[encoded data removed]",
      "text/plain": [
       "<IPython.core.display.Image object>"
      ]
     },
     "execution_count": 12,
     "metadata": {},
     "output_type": "execute_result"
    }
   ],
   "source": [
    "Image(filename=path2)"
   ]
  },
  {
   "cell_type": "code",
   "execution_count": 15,
   "metadata": {},
   "outputs": [
    {
     "name": "stdout",
     "output_type": "stream",
     "text": [
      "Files found in registry: 1MBN_182724: PDB file downloaded from RSCB\n",
      " PDBFile ID: 1MBN_182724\n",
      " 1MBN_182742: Cleaned File:  Removed Heterogens\n",
      " and Water Removed.  Replaced Nonstandard Residues. Added Hydrogens at pH 7.0. Missing Atoms Added and replaces nonstandard residues. \n",
      " top_sim0_182746: Initial positions for simulation sim0_182746\n",
      " sim0_182746: Basic Simulation of Protein 1MBN_182742\n",
      " rec0_182756: Simulation trajectory for protein 1MBN_182742 and simulation sim0_182746\n",
      " rec1_182756: Simulation state log for protein 1MBN_182742 and simulation sim0_182746\n",
      " rec2_182756: Simulation pdb frames for protein 1MBN_182742 and simulation sim0_182746\n",
      " top_sim0_213932: Initial positions for simulation sim0_213932\n",
      " sim0_213932: Basic Simulation of Protein 1MBN_182742\n",
      " rec0_213934: Simulation trajectory for protein 1MBN_182742 and simulation sim0_213932\n",
      " rec1_213934: Simulation state log for protein 1MBN_182742 and simulation sim0_213932\n",
      " rec2_213934: Simulation pdb frames for protein 1MBN_182742 and simulation sim0_213932\n",
      " rmsd_1MBN_182742: RMSD for 1MBN_182742\n",
      " fig0_121737: RMSD plot for 1MBN_182742\n",
      " rmsd_1MBN_182742_1: RMSD for 1MBN_182742\n",
      " fig0_121744: RMSD plot for 1MBN_182742\n",
      " rec0_121747: dssp values for trajectory with id: rec0_182756\n",
      " rec0_121750: dssp values for trajectory with id: rec0_213934\n"
     ]
    }
   ],
   "source": [
    "agent = MDCrow(ckpt_dir=\"ckpt_3\")\n",
    "registry = agent.path_registry\n",
    "paths_and_descriptions = registry.list_path_names_and_descriptions()\n",
    "print(\"\\n\".join(paths_and_descriptions.split(\",\")))"
   ]
  },
  {
   "cell_type": "code",
   "execution_count": 16,
   "metadata": {},
   "outputs": [
    {
     "name": "stdout",
     "output_type": "stream",
     "text": [
      "It's asserted that file paths for rec0_182756, rec0_213934, top_sim0_182746, and top_sim0_213932 exist\n"
     ]
    }
   ],
   "source": [
    "import re\n",
    "import os\n",
    "matches = re.findall(r\"rec0_\\d+\", paths_and_descriptions)\n",
    "traj_file_1 = matches[0]\n",
    "traj_file_2 = matches[1]\n",
    "traj_path1 = registry.get_mapped_path(traj_file_1)\n",
    "traj_path2 = registry.get_mapped_path(traj_file_2)\n",
    "assert os.path.exists(traj_path1)\n",
    "assert os.path.exists(traj_path2)\n",
    "\n",
    "matches = re.findall(r\"top_sim0_\\d+\", paths_and_descriptions)\n",
    "top_file_1 = matches[0]\n",
    "top_file_2 = matches[1]\n",
    "top_path1 = registry.get_mapped_path(top_file_1)\n",
    "top_path2 = registry.get_mapped_path(top_file_2)\n",
    "assert os.path.exists(top_path1)\n",
    "assert os.path.exists(top_path2)\n",
    "\n",
    "print(f\"It's asserted that file paths for {traj_file_1}, {traj_file_2}, {top_file_1}, and {top_file_2} exist\")"
   ]
  },
  {
   "cell_type": "code",
   "execution_count": 21,
   "metadata": {},
   "outputs": [
    {
     "name": "stdout",
     "output_type": "stream",
     "text": [
      "rec0_182756\n",
      "Number of residues in chains:  3\n",
      "Number of residues in sheets:  0\n",
      "Number of residues in helices:  109\n",
      "Number of residues in coils:  44\n"
     ]
    }
   ],
   "source": [
    "#secondary structure\n",
    "import mdtraj as md\n",
    "\n",
    "print(traj_file_1)\n",
    "traj = md.load(traj_path1, top=top_path1)\n",
    "top = traj.topology\n",
    "number_of_chains = top.n_chains\n",
    "secondary_structure = md.compute_dssp(traj[-1],simplified=True) # last frame\n",
    "print(\"Number of residues in chains: \",number_of_chains)\n",
    "print(\"Number of residues in sheets: \",len([i for i in secondary_structure[0] if i == 'E']))\n",
    "print(\"Number of residues in helices: \",len([i for i in secondary_structure[0] if i == 'H']))\n",
    "print(\"Number of residues in coils: \",len([i for i in secondary_structure[0] if i == 'C']))"
   ]
  },
  {
   "cell_type": "code",
   "execution_count": 23,
   "metadata": {},
   "outputs": [
    {
     "name": "stdout",
     "output_type": "stream",
     "text": [
      "rec0_213934\n",
      "Number of residues in chains:  3\n",
      "Number of residues in sheets:  0\n",
      "Number of residues in helices:  109\n",
      "Number of residues in coils:  44\n"
     ]
    }
   ],
   "source": [
    "print(traj_file_2)\n",
    "traj = md.load(traj_path2, top=top_path2)\n",
    "top = traj.topology\n",
    "number_of_chains = top.n_chains\n",
    "secondary_structure = md.compute_dssp(traj[-1],simplified=True) # last frame\n",
    "print(\"Number of residues in chains: \",number_of_chains)\n",
    "print(\"Number of residues in sheets: \",len([i for i in secondary_structure[0] if i == 'E']))\n",
    "print(\"Number of residues in helices: \",len([i for i in secondary_structure[0] if i == 'H']))\n",
    "print(\"Number of residues in coils: \",len([i for i in secondary_structure[0] if i == 'C']))"
   ]
  },
  {
   "cell_type": "markdown",
   "metadata": {},
   "source": [
    "# Experiment Result: ✅❌\n",
    "\n",
    "1. Completed without Exception or TimeOut Errors ✅\n",
    "2. Attempted all necessary steps ✅\n",
    "3. Completed without Hallucination ✅\n",
    "4. Logic make sense ✅\n",
    "5. Correct Answer ✅\n"
   ]
  }
 ],
 "metadata": {
  "kernelspec": {
   "display_name": "llama-mdcrow",
   "language": "python",
   "name": "python3"
  },
  "language_info": {
   "codemirror_mode": {
    "name": "ipython",
    "version": 3
   },
   "file_extension": ".py",
   "mimetype": "text/x-python",
   "name": "python",
   "nbconvert_exporter": "python",
   "pygments_lexer": "ipython3",
   "version": "3.11.8"
  }
 },
 "nbformat": 4,
 "nbformat_minor": 4
}
