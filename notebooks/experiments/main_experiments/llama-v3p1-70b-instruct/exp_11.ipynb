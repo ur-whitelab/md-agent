{
 "cells": [
  {
   "cell_type": "code",
   "execution_count": 1,
   "id": "8ff706fd-c267-4d05-af58-9a3848cce8ff",
   "metadata": {
    "execution": {
     "iopub.execute_input": "2024-09-08T21:41:12.812024Z",
     "iopub.status.busy": "2024-09-08T21:41:12.811883Z",
     "iopub.status.idle": "2024-09-08T21:41:15.804416Z",
     "shell.execute_reply": "2024-09-08T21:41:15.804071Z"
    }
   },
   "outputs": [],
   "source": [
    "from mdcrow import MDCrow\n",
    "import os"
   ]
  },
  {
   "cell_type": "code",
   "execution_count": 2,
   "id": "c86c88a1-f5f8-473a-8342-7364252bcfba",
   "metadata": {
    "execution": {
     "iopub.execute_input": "2024-09-08T21:41:15.806721Z",
     "iopub.status.busy": "2024-09-08T21:41:15.806424Z",
     "iopub.status.idle": "2024-09-08T21:41:15.810551Z",
     "shell.execute_reply": "2024-09-08T21:41:15.810259Z"
    }
   },
   "outputs": [
    {
     "name": "stdout",
     "output_type": "stream",
     "text": [
      "date: 2024-09-08\n",
      "time: 17:41:15\n"
     ]
    }
   ],
   "source": [
    "#todays date and time\n",
    "import datetime\n",
    "\n",
    "start = datetime.datetime.now()\n",
    "date = start.strftime(\"%Y-%m-%d\")\n",
    "print(\"date:\",date)\n",
    "time = start.strftime(\"%H:%M:%S\")\n",
    "print(\"time:\",time)"
   ]
  },
  {
   "cell_type": "code",
   "execution_count": 3,
   "id": "f62bfc17-854b-4152-bb82-7e9e0ec4b854",
   "metadata": {
    "execution": {
     "iopub.execute_input": "2024-09-08T21:41:15.812166Z",
     "iopub.status.busy": "2024-09-08T21:41:15.812029Z",
     "iopub.status.idle": "2024-09-08T21:41:16.016820Z",
     "shell.execute_reply": "2024-09-08T21:41:16.016487Z"
    }
   },
   "outputs": [
    {
     "name": "stdout",
     "output_type": "stream",
     "text": [
      "LLM:  accounts/fireworks/models/llama-v3p1-70b-instruct \n",
      "Temperature:  0.1\n"
     ]
    }
   ],
   "source": [
    "model=\"accounts/fireworks/models/llama-v3p1-70b-instruct\"\n",
    "\n",
    "agent = MDCrow(\n",
    "    agent_type='Structured', \n",
    "    model=model, \n",
    "    top_k_tools=\"all\"\n",
    ")\n",
    "print(\"LLM: \", agent.llm.model_name,\"\\nTemperature: \", agent.llm.temperature)"
   ]
  },
  {
   "cell_type": "code",
   "execution_count": 4,
   "id": "ad2f6f66-e6b8-4244-b908-68fbebbf6e8b",
   "metadata": {
    "execution": {
     "iopub.execute_input": "2024-09-08T21:41:16.018687Z",
     "iopub.status.busy": "2024-09-08T21:41:16.018537Z",
     "iopub.status.idle": "2024-09-08T21:41:27.520722Z",
     "shell.execute_reply": "2024-09-08T21:41:27.520390Z"
    }
   },
   "outputs": [
    {
     "name": "stdout",
     "output_type": "stream",
     "text": [
      "Thought:"
     ]
    },
    {
     "name": "stdout",
     "output_type": "stream",
     "text": [
      " To solve this problem, I need"
     ]
    },
    {
     "name": "stdout",
     "output_type": "stream",
     "text": [
      " to first download the PDB files for 8"
     ]
    },
    {
     "name": "stdout",
     "output_type": "stream",
     "text": [
      "PFK and 8PFQ using"
     ]
    },
    {
     "name": "stdout",
     "output_type": "stream",
     "text": [
      " the PDBFileDownloader tool. Then,"
     ]
    },
    {
     "name": "stdout",
     "output_type": "stream",
     "text": [
      " I can use the SummarizePro"
     ]
    },
    {
     "name": "stdout",
     "output_type": "stream",
     "text": [
      "teinStructure tool to compare"
     ]
    },
    {
     "name": "stdout",
     "output_type": "stream",
     "text": [
      " the secondary structures of the two proteins.\n",
      "\n",
      "Action:\n"
     ]
    },
    {
     "name": "stdout",
     "output_type": "stream",
     "text": [
      "```\n",
      "{\n",
      "  \"action\": \"P"
     ]
    },
    {
     "name": "stdout",
     "output_type": "stream",
     "text": [
      "DBFileDownloader\",\n",
      "  \"action_input\":"
     ]
    },
    {
     "name": "stdout",
     "output_type": "stream",
     "text": [
      " \"8PFK\"\n",
      "}\n",
      "```\n"
     ]
    },
    {
     "name": "stdout",
     "output_type": "stream",
     "text": [
      "PDB file found with this ID: 8PFK\n"
     ]
    },
    {
     "name": "stdout",
     "output_type": "stream",
     "text": [
      "Thought:"
     ]
    },
    {
     "name": "stdout",
     "output_type": "stream",
     "text": [
      " Now that I have downloaded the PDB"
     ]
    },
    {
     "name": "stdout",
     "output_type": "stream",
     "text": [
      " file for 8PFK, I"
     ]
    },
    {
     "name": "stdout",
     "output_type": "stream",
     "text": [
      " need to download the PDB file for"
     ]
    },
    {
     "name": "stdout",
     "output_type": "stream",
     "text": [
      " 8PFQ using the PDB"
     ]
    },
    {
     "name": "stdout",
     "output_type": "stream",
     "text": [
      "FileDownloader"
     ]
    },
    {
     "name": "stdout",
     "output_type": "stream",
     "text": [
      " tool.\n",
      "\n",
      "Action:\n",
      "```\n",
      "{\n",
      " "
     ]
    },
    {
     "name": "stdout",
     "output_type": "stream",
     "text": [
      " \"action\": \"PDBFileDownloader\",\n",
      " "
     ]
    },
    {
     "name": "stdout",
     "output_type": "stream",
     "text": [
      " \"action_input\": \"8PFQ"
     ]
    },
    {
     "name": "stdout",
     "output_type": "stream",
     "text": [
      "\"\n",
      "}\n",
      "```\n"
     ]
    },
    {
     "name": "stdout",
     "output_type": "stream",
     "text": [
      "PDB file found with this ID: 8PFQ\n"
     ]
    },
    {
     "name": "stdout",
     "output_type": "stream",
     "text": [
      "Thought:"
     ]
    },
    {
     "name": "stdout",
     "output_type": "stream",
     "text": [
      " Now that I have downloaded the PDB"
     ]
    },
    {
     "name": "stdout",
     "output_type": "stream",
     "text": [
      " files for both 8PFK and "
     ]
    },
    {
     "name": "stdout",
     "output_type": "stream",
     "text": [
      "8PFQ,"
     ]
    },
    {
     "name": "stdout",
     "output_type": "stream",
     "text": [
      " I can use the SummarizePro"
     ]
    },
    {
     "name": "stdout",
     "output_type": "stream",
     "text": [
      "teinStructure tool to compare the secondary structures of the"
     ]
    },
    {
     "name": "stdout",
     "output_type": "stream",
     "text": [
      " two proteins.\n",
      "\n",
      "Action:\n",
      "```\n",
      "{\n",
      " "
     ]
    },
    {
     "name": "stdout",
     "output_type": "stream",
     "text": [
      " \"action\": \"SummarizePro"
     ]
    },
    {
     "name": "stdout",
     "output_type": "stream",
     "text": [
      "teinStructure\",\n",
      "  \"action_input\": {\n"
     ]
    },
    {
     "name": "stdout",
     "output_type": "stream",
     "text": [
      "    \"traj_file\": \"8"
     ]
    },
    {
     "name": "stdout",
     "output_type": "stream",
     "text": [
      "PFK_174117\",\n",
      "    \"top"
     ]
    },
    {
     "name": "stdout",
     "output_type": "stream",
     "text": [
      "_file\": \"8PFK_174117\"\n"
     ]
    },
    {
     "name": "stdout",
     "output_type": "stream",
     "text": [
      "  }\n",
      "}\n",
      "```\n",
      "\n"
     ]
    },
    {
     "name": "stdout",
     "output_type": "stream",
     "text": [
      "Thought:"
     ]
    },
    {
     "name": "stdout",
     "output_type": "stream",
     "text": [
      " Now that I have the summary of"
     ]
    },
    {
     "name": "stdout",
     "output_type": "stream",
     "text": [
      " the protein structure for 8PFK,"
     ]
    },
    {
     "name": "stdout",
     "output_type": "stream",
     "text": [
      " I need to get the summary of the protein structure"
     ]
    },
    {
     "name": "stdout",
     "output_type": "stream",
     "text": [
      " for 8PFQ using the Summar"
     ]
    },
    {
     "name": "stdout",
     "output_type": "stream",
     "text": [
      "izeProteinStructure tool.\n",
      "\n",
      "Action:\n",
      "``"
     ]
    },
    {
     "name": "stdout",
     "output_type": "stream",
     "text": [
      "`\n",
      "{\n",
      "  \"action\": \"Summar"
     ]
    },
    {
     "name": "stdout",
     "output_type": "stream",
     "text": [
      "izeProteinStructure\",\n",
      "  \"action_input\": {\n",
      "   "
     ]
    },
    {
     "name": "stdout",
     "output_type": "stream",
     "text": [
      " \"traj_file\": \"8PF"
     ]
    },
    {
     "name": "stdout",
     "output_type": "stream",
     "text": [
      "Q_174119\",\n",
      "    \"top"
     ]
    },
    {
     "name": "stdout",
     "output_type": "stream",
     "text": [
      "_file\": \"8PFQ_174"
     ]
    },
    {
     "name": "stdout",
     "output_type": "stream",
     "text": [
      "119\"\n",
      "  }\n",
      "}\n",
      "```\n",
      "\n"
     ]
    },
    {
     "name": "stdout",
     "output_type": "stream",
     "text": [
      "Thought:"
     ]
    },
    {
     "name": "stdout",
     "output_type": "stream",
     "text": [
      " Now that I have"
     ]
    },
    {
     "name": "stdout",
     "output_type": "stream",
     "text": [
      " the summaries of the protein structures for both 8"
     ]
    },
    {
     "name": "stdout",
     "output_type": "stream",
     "text": [
      "PFK and 8PFQ,"
     ]
    },
    {
     "name": "stdout",
     "output_type": "stream",
     "text": [
      " I can compare the secondary structures of the"
     ]
    },
    {
     "name": "stdout",
     "output_type": "stream",
     "text": [
      " two proteins.\n",
      "\n",
      "Action:\n",
      "```\n",
      "{\n",
      " "
     ]
    },
    {
     "name": "stdout",
     "output_type": "stream",
     "text": [
      " \"action\": \"ComputeDSS"
     ]
    },
    {
     "name": "stdout",
     "output_type": "stream",
     "text": [
      "P\",\n",
      "  \"action_input\":"
     ]
    },
    {
     "name": "stdout",
     "output_type": "stream",
     "text": [
      " {\n",
      "   "
     ]
    },
    {
     "name": "stdout",
     "output_type": "stream",
     "text": [
      " \"traj_file\": \"8PF"
     ]
    },
    {
     "name": "stdout",
     "output_type": "stream",
     "text": [
      "K_174117\",\n",
      "    \"top_file"
     ]
    },
    {
     "name": "stdout",
     "output_type": "stream",
     "text": [
      "\": \"8PFK_174117\",\n"
     ]
    },
    {
     "name": "stdout",
     "output_type": "stream",
     "text": [
      "    \"target_frames\": \"all\"\n",
      "  }\n",
      "}\n"
     ]
    },
    {
     "name": "stdout",
     "output_type": "stream",
     "text": [
      "```\n",
      "\n"
     ]
    },
    {
     "name": "stdout",
     "output_type": "stream",
     "text": [
      "Thought:"
     ]
    },
    {
     "name": "stdout",
     "output_type": "stream",
     "text": [
      " Now that I have the DSS"
     ]
    },
    {
     "name": "stdout",
     "output_type": "stream",
     "text": [
      "P assignments for 8PFK"
     ]
    },
    {
     "name": "stdout",
     "output_type": "stream",
     "text": [
      ", I need to get the DSSP assignments for"
     ]
    },
    {
     "name": "stdout",
     "output_type": "stream",
     "text": [
      " 8PFQ using the ComputeD"
     ]
    },
    {
     "name": "stdout",
     "output_type": "stream",
     "text": [
      "SSP tool.\n",
      "\n",
      "Action:\n",
      "```\n",
      "{\n",
      "  \"action"
     ]
    },
    {
     "name": "stdout",
     "output_type": "stream",
     "text": [
      "\": \"ComputeDSSP\",\n",
      "  \"action"
     ]
    },
    {
     "name": "stdout",
     "output_type": "stream",
     "text": [
      "_input\": {\n",
      "    \"traj_file"
     ]
    },
    {
     "name": "stdout",
     "output_type": "stream",
     "text": [
      "\": \"8PFQ_174119\",\n"
     ]
    },
    {
     "name": "stdout",
     "output_type": "stream",
     "text": [
      "    \"top_file\": \"8PFQ"
     ]
    },
    {
     "name": "stdout",
     "output_type": "stream",
     "text": [
      "_174119\",\n"
     ]
    },
    {
     "name": "stdout",
     "output_type": "stream",
     "text": [
      "    \"target_frames\": \"all"
     ]
    },
    {
     "name": "stdout",
     "output_type": "stream",
     "text": [
      "\"\n",
      "  }\n",
      "}\n",
      "```"
     ]
    },
    {
     "name": "stdout",
     "output_type": "stream",
     "text": [
      "Thought:"
     ]
    },
    {
     "name": "stdout",
     "output_type": "stream",
     "text": [
      " Now that I have the DSSP assignments for"
     ]
    },
    {
     "name": "stdout",
     "output_type": "stream",
     "text": [
      " both 8PFK and 8"
     ]
    },
    {
     "name": "stdout",
     "output_type": "stream",
     "text": [
      "PFQ, I can compare the secondary structures"
     ]
    },
    {
     "name": "stdout",
     "output_type": "stream",
     "text": [
      " of the two proteins.\n",
      "\n",
      "Action:\n",
      "``"
     ]
    },
    {
     "name": "stdout",
     "output_type": "stream",
     "text": [
      "`\n",
      "{\n",
      "  \"action\": \"Final Answer"
     ]
    },
    {
     "name": "stdout",
     "output_type": "stream",
     "text": [
      "\",\n",
      "  \"action_input\": \"The"
     ]
    },
    {
     "name": "stdout",
     "output_type": "stream",
     "text": [
      " PDB files for 8PFK"
     ]
    },
    {
     "name": "stdout",
     "output_type": "stream",
     "text": [
      " and 8PFQ have been downloaded"
     ]
    },
    {
     "name": "stdout",
     "output_type": "stream",
     "text": [
      ". The summaries of the protein structures for both proteins"
     ]
    },
    {
     "name": "stdout",
     "output_type": "stream",
     "text": [
      " are: 8PFK"
     ]
    },
    {
     "name": "stdout",
     "output_type": "stream",
     "text": [
      " - {'n_atoms': 487,"
     ]
    },
    {
     "name": "stdout",
     "output_type": "stream",
     "text": [
      " 'n_residues':"
     ]
    },
    {
     "name": "stdout",
     "output_type": "stream",
     "text": [
      " 109, 'n_chains': "
     ]
    },
    {
     "name": "stdout",
     "output_type": "stream",
     "text": [
      "2, 'n_frames': 1"
     ]
    },
    {
     "name": "stdout",
     "output_type": "stream",
     "text": [
      ", 'n_bonds': 420}"
     ]
    },
    {
     "name": "stdout",
     "output_type": "stream",
     "text": [
      " and 8PFQ - {'"
     ]
    },
    {
     "name": "stdout",
     "output_type": "stream",
     "text": [
      "n_atoms': 950, 'n_resid"
     ]
    },
    {
     "name": "stdout",
     "output_type": "stream",
     "text": [
      "ues': 194, 'n_ch"
     ]
    },
    {
     "name": "stdout",
     "output_type": "stream",
     "text": [
      "ains': 6, 'n"
     ]
    },
    {
     "name": "stdout",
     "output_type": "stream",
     "text": [
      "_frames': 1, '"
     ]
    },
    {
     "name": "stdout",
     "output_type": "stream",
     "text": [
      "n_bonds': 833}. The"
     ]
    },
    {
     "name": "stdout",
     "output_type": "stream",
     "text": [
      " DSSP assignments for both"
     ]
    },
    {
     "name": "stdout",
     "output_type": "stream",
     "text": [
      " proteins are"
     ]
    },
    {
     "name": "stdout",
     "output_type": "stream",
     "text": [
      ": 8"
     ]
    },
    {
     "name": "stdout",
     "output_type": "stream",
     "text": [
      "PFK - {'"
     ]
    },
    {
     "name": "stdout",
     "output_type": "stream",
     "text": [
      "residues in helix': "
     ]
    },
    {
     "name": "stdout",
     "output_type": "stream",
     "text": [
      "0, 'residues in"
     ]
    },
    {
     "name": "stdout",
     "output_type": "stream",
     "text": [
      " strand':"
     ]
    },
    {
     "name": "stdout",
     "output_type": "stream",
     "text": [
      " 0"
     ]
    },
    {
     "name": "stdout",
     "output_type": "stream",
     "text": [
      ", 'residues in coil': "
     ]
    },
    {
     "name": "stdout",
     "output_type": "stream",
     "text": [
      "0, 'residues not assigned"
     ]
    },
    {
     "name": "stdout",
     "output_type": "stream",
     "text": [
      ", not a protein residue':"
     ]
    },
    {
     "name": "stdout",
     "output_type": "stream",
     "text": [
      " 109} and 8PFQ"
     ]
    },
    {
     "name": "stdout",
     "output_type": "stream",
     "text": [
      " - {'residues in helix"
     ]
    },
    {
     "name": "stdout",
     "output_type": "stream",
     "text": [
      "': 0, 'residues"
     ]
    },
    {
     "name": "stdout",
     "output_type": "stream",
     "text": [
      " in strand': 0, 'resid"
     ]
    },
    {
     "name": "stdout",
     "output_type": "stream",
     "text": [
      "ues in coil': 0"
     ]
    },
    {
     "name": "stdout",
     "output_type": "stream",
     "text": [
      ", '"
     ]
    },
    {
     "name": "stdout",
     "output_type": "stream",
     "text": [
      "residues not assigned, not"
     ]
    },
    {
     "name": "stdout",
     "output_type": "stream",
     "text": [
      " a protein residue': 194}.\"\n"
     ]
    },
    {
     "name": "stdout",
     "output_type": "stream",
     "text": [
      "}\n",
      "```"
     ]
    }
   ],
   "source": [
    "prompt11 = \"Download the PDB files for 8PFK and 8PFQ. Then, compare the secondary structures of the two proteins, including the number of atoms, secondary structures, number of chains, etc.\"\n",
    "answer = agent.run(prompt11)"
   ]
  },
  {
   "cell_type": "code",
   "execution_count": 5,
   "id": "d23fbcab-9ceb-46d5-ad3b-d6cf6687d1e4",
   "metadata": {
    "execution": {
     "iopub.execute_input": "2024-09-08T21:41:27.522786Z",
     "iopub.status.busy": "2024-09-08T21:41:27.522633Z",
     "iopub.status.idle": "2024-09-08T21:41:27.526431Z",
     "shell.execute_reply": "2024-09-08T21:41:27.526130Z"
    }
   },
   "outputs": [
    {
     "name": "stdout",
     "output_type": "stream",
     "text": [
      "duration: 0.20 minutes\n"
     ]
    }
   ],
   "source": [
    "end = datetime.datetime.now()\n",
    "elapsed = end - start\n",
    "print(f\"duration: {elapsed.total_seconds()/60:.2f} minutes\")"
   ]
  },
  {
   "cell_type": "code",
   "execution_count": 6,
   "id": "5d1f0c85-88d6-4d2a-aae1-6a2d763f280d",
   "metadata": {
    "execution": {
     "iopub.execute_input": "2024-09-08T21:41:27.528132Z",
     "iopub.status.busy": "2024-09-08T21:41:27.527986Z",
     "iopub.status.idle": "2024-09-08T21:41:27.534756Z",
     "shell.execute_reply": "2024-09-08T21:41:27.534465Z"
    }
   },
   "outputs": [
    {
     "name": "stdout",
     "output_type": "stream",
     "text": [
      "ckpt_dir ckpt_125\n",
      "Files found in registry: 8PFK_174117: PDB file downloaded from RSCB\n",
      " PDBFile ID: 8PFK_174117\n",
      " 8PFQ_174119: PDB file downloaded from RSCB\n",
      " PDBFile ID: 8PFQ_174119\n",
      " rec0_174122: dssp values for trajectory with id: 8PFK_174117\n",
      " rec0_174124: dssp values for trajectory with id: 8PFQ_174119\n"
     ]
    }
   ],
   "source": [
    "registry = agent.path_registry\n",
    "print(\"ckpt_dir\",os.path.basename(registry.ckpt_dir))\n",
    "paths_and_descriptions = registry.list_path_names_and_descriptions()\n",
    "print(\"\\n\".join(paths_and_descriptions.split(\",\")))"
   ]
  },
  {
   "cell_type": "code",
   "execution_count": 7,
   "id": "2ab4e124-2086-46ab-b747-28f6aebb850e",
   "metadata": {
    "execution": {
     "iopub.execute_input": "2024-09-08T21:41:27.536461Z",
     "iopub.status.busy": "2024-09-08T21:41:27.536328Z",
     "iopub.status.idle": "2024-09-08T21:41:27.541654Z",
     "shell.execute_reply": "2024-09-08T21:41:27.541349Z"
    }
   },
   "outputs": [
    {
     "name": "stdout",
     "output_type": "stream",
     "text": [
      "It is asserted that pdb files for 8PFK_174117 and 8PFQ_174119 exist\n"
     ]
    }
   ],
   "source": [
    "import re\n",
    "import os\n",
    "match = re.search(r\"8PFK_\\d+\", paths_and_descriptions)\n",
    "file_id1 = match.group(0)\n",
    "path1 = registry.get_mapped_path(file_id1)\n",
    "assert os.path.exists(path1)\n",
    "\n",
    "match = re.search(r\"8PFQ_\\d+\", paths_and_descriptions)\n",
    "file_id2 = match.group(0)\n",
    "path2 = registry.get_mapped_path(file_id2)\n",
    "assert os.path.exists(path2)\n",
    "print(f'It is asserted that pdb files for {file_id1} and {file_id2} exist')"
   ]
  },
  {
   "cell_type": "code",
   "execution_count": 8,
   "id": "5c9a6ace-69e8-4042-9d35-ca598f4d00c2",
   "metadata": {
    "execution": {
     "iopub.execute_input": "2024-09-08T21:41:27.543340Z",
     "iopub.status.busy": "2024-09-08T21:41:27.543207Z",
     "iopub.status.idle": "2024-09-08T21:41:27.579517Z",
     "shell.execute_reply": "2024-09-08T21:41:27.579206Z"
    }
   },
   "outputs": [
    {
     "name": "stdout",
     "output_type": "stream",
     "text": [
      "protein 8PFK\n",
      "Number of chains:  2\n",
      "Number of atoms:  487\n",
      "Number of residues in sheets:  0\n",
      "Number of residues in helices:  0\n",
      "Number of residues in coils:  0\n",
      "\n",
      "protein 8PFQ\n",
      "Number of chains:  6\n",
      "Number of atoms:  950\n",
      "Number of residues in sheets:  0\n",
      "Number of residues in helices:  0\n",
      "Number of residues in coils:  0\n"
     ]
    }
   ],
   "source": [
    "import mdtraj as md\n",
    "traj = md.load(path1)\n",
    "top = traj.topology\n",
    "number_of_chains = top.n_chains\n",
    "number_of_atoms = top.n_atoms\n",
    "print('protein 8PFK')\n",
    "print('Number of chains: ', number_of_chains)\n",
    "print('Number of atoms: ', number_of_atoms)\n",
    "secondary_structure = md.compute_dssp(traj,simplified=True)\n",
    "print(\"Number of residues in sheets: \",len([i for i in secondary_structure[0] if i == 'E']))\n",
    "print(\"Number of residues in helices: \",len([i for i in secondary_structure[0] if i == 'H']))\n",
    "print(\"Number of residues in coils: \",len([i for i in secondary_structure[0] if i == 'C']))\n",
    "\n",
    "traj = md.load(path2)\n",
    "top = traj.topology\n",
    "number_of_chains = top.n_chains\n",
    "number_of_atoms = top.n_atoms\n",
    "print('\\nprotein 8PFQ')\n",
    "print('Number of chains: ', number_of_chains)\n",
    "print('Number of atoms: ', number_of_atoms)\n",
    "secondary_structure = md.compute_dssp(traj,simplified=True)\n",
    "print(\"Number of residues in sheets: \",len([i for i in secondary_structure[0] if i == 'E']))\n",
    "print(\"Number of residues in helices: \",len([i for i in secondary_structure[0] if i == 'H']))\n",
    "print(\"Number of residues in coils: \",len([i for i in secondary_structure[0] if i == 'C']))"
   ]
  },
  {
   "cell_type": "markdown",
   "id": "541b835c",
   "metadata": {},
   "source": [
    "# Experiment Result: ✅❌\n",
    "\n",
    "1. Completed without Exception or TimeOut Errors ✅\n",
    "2. Attempted all necessary steps ✅\n",
    "3.  Completed without Hallucination ✅\n",
    "4. Logic make sense ✅\n",
    "5.  Correct Answer ✅"
   ]
  },
  {
   "cell_type": "code",
   "execution_count": null,
   "id": "05a624f4",
   "metadata": {},
   "outputs": [],
   "source": []
  }
 ],
 "metadata": {
  "kernelspec": {
   "display_name": "mdcrow",
   "language": "python",
   "name": "mdcrow"
  },
  "language_info": {
   "codemirror_mode": {
    "name": "ipython",
    "version": 3
   },
   "file_extension": ".py",
   "mimetype": "text/x-python",
   "name": "python",
   "nbconvert_exporter": "python",
   "pygments_lexer": "ipython3",
   "version": "3.12.4"
  }
 },
 "nbformat": 4,
 "nbformat_minor": 5
}
