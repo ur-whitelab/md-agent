{
 "cells": [
  {
   "cell_type": "code",
   "execution_count": 1,
   "metadata": {},
   "outputs": [],
   "source": [
    "import datetime\n",
    "import os\n",
    "from mdcrow import MDCrow"
   ]
  },
  {
   "cell_type": "code",
   "execution_count": 2,
   "metadata": {},
   "outputs": [
    {
     "name": "stdout",
     "output_type": "stream",
     "text": [
      "date and time: 2024-10-02\n",
      "time: 19:57:05\n",
      "LLM:  accounts/fireworks/models/llama-v3p1-70b-instruct \n",
      "Temperature:  0.1\n"
     ]
    }
   ],
   "source": [
    "prompt4 = \"What are the common parameters used to simulate fibronectin?\"\n",
    "paper_dir = \"paper_collection\"\n",
    "llm_var = \"accounts/fireworks/models/llama-v3p1-70b-instruct\"\n",
    "tools = \"all\"\n",
    "agent = MDCrow(agent_type=\"Structured\", model=llm_var, top_k_tools=tools, paper_dir=paper_dir)\n",
    "now = datetime.datetime.now()\n",
    "date = now.strftime(\"%Y-%m-%d\")\n",
    "print(\"date and time:\",date)\n",
    "time = now.strftime(\"%H:%M:%S\")\n",
    "print(\"time:\",time)\n",
    "print(\"LLM: \",agent.llm.model_name,\"\\nTemperature: \",agent.llm.temperature)"
   ]
  },
  {
   "cell_type": "code",
   "execution_count": 3,
   "metadata": {},
   "outputs": [
    {
     "name": "stdout",
     "output_type": "stream",
     "text": [
      "Thought: To answer this question, I need to search the literature for common parameters used to simulate fibronectin.\n",
      "\n",
      "Action:\n",
      "```\n",
      "{\n",
      "  \"action\": \"LiteratureSearch\",\n",
      "  \"action_input\": \"common parameters for simulating fibronectin\"\n",
      "}\n",
      "```Paper Directory /gpfs/fs2/scratch/qcampbe2/repos/md-agent_gpt_params/notebooks/experiments/experiment_k1/llama-v3p1-70b-instruct/paper_collection\n"
     ]
    },
    {
     "name": "stderr",
     "output_type": "stream",
     "text": [
      "/scratch/qcampbe2/myenvs/mdcrow/lib/python3.12/site-packages/pydantic/main.py:364: UserWarning: Pydantic serializer warnings:\n",
      "  Expected `PromptTokensDetails` but got `dict` - serialized value may not be as expected\n",
      "  return self.__pydantic_serializer__.to_python(\n"
     ]
    },
    {
     "data": {
      "text/html": [
       "<pre style=\"white-space:pre;overflow-x:auto;line-height:normal;font-family:Menlo,'DejaVu Sans Mono',consolas,'Courier New',monospace\"><span style=\"color: #7fbfbf; text-decoration-color: #7fbfbf\">[19:57:09] </span>Starting paper search for <span style=\"color: #008000; text-decoration-color: #008000\">'fibronectin simulation parameters, 2010-2024  '</span>.                             \n",
       "</pre>\n"
      ],
      "text/plain": [
       "\u001b[2;36m[19:57:09]\u001b[0m\u001b[2;36m \u001b[0mStarting paper search for \u001b[32m'fibronectin simulation parameters, 2010-2024  '\u001b[0m.                             \n"
      ]
     },
     "metadata": {},
     "output_type": "display_data"
    },
    {
     "data": {
      "text/html": [
       "<pre style=\"white-space:pre;overflow-x:auto;line-height:normal;font-family:Menlo,'DejaVu Sans Mono',consolas,'Courier New',monospace\"><span style=\"color: #7fbfbf; text-decoration-color: #7fbfbf\">           </span>New file to index: bringas_2017_hemoglobin.pdf<span style=\"color: #808000; text-decoration-color: #808000\">...</span>                                                       \n",
       "</pre>\n"
      ],
      "text/plain": [
       "\u001b[2;36m          \u001b[0m\u001b[2;36m \u001b[0mNew file to index: bringas_2017_hemoglobin.pdf\u001b[33m...\u001b[0m                                                       \n"
      ]
     },
     "metadata": {},
     "output_type": "display_data"
    },
    {
     "data": {
      "text/html": [
       "<pre style=\"white-space:pre;overflow-x:auto;line-height:normal;font-family:Menlo,'DejaVu Sans Mono',consolas,'Courier New',monospace\"><span style=\"color: #7fbfbf; text-decoration-color: #7fbfbf\">           </span>New file to index: cong_2017_trypsin-ligand.pdf<span style=\"color: #808000; text-decoration-color: #808000\">...</span>                                                      \n",
       "</pre>\n"
      ],
      "text/plain": [
       "\u001b[2;36m          \u001b[0m\u001b[2;36m \u001b[0mNew file to index: cong_2017_trypsin-ligand.pdf\u001b[33m...\u001b[0m                                                      \n"
      ]
     },
     "metadata": {},
     "output_type": "display_data"
    },
    {
     "data": {
      "text/html": [
       "<pre style=\"white-space:pre;overflow-x:auto;line-height:normal;font-family:Menlo,'DejaVu Sans Mono',consolas,'Courier New',monospace\"><span style=\"color: #7fbfbf; text-decoration-color: #7fbfbf\">           </span>New file to index: Vittaladevaram_2023_fibronectin.pdf<span style=\"color: #808000; text-decoration-color: #808000\">...</span>                                               \n",
       "</pre>\n"
      ],
      "text/plain": [
       "\u001b[2;36m          \u001b[0m\u001b[2;36m \u001b[0mNew file to index: Vittaladevaram_2023_fibronectin.pdf\u001b[33m...\u001b[0m                                               \n"
      ]
     },
     "metadata": {},
     "output_type": "display_data"
    },
    {
     "data": {
      "text/html": [
       "<pre style=\"white-space:pre;overflow-x:auto;line-height:normal;font-family:Menlo,'DejaVu Sans Mono',consolas,'Courier New',monospace\"><span style=\"color: #7fbfbf; text-decoration-color: #7fbfbf\">           </span>New file to index: sahoo-<span style=\"color: #008080; text-decoration-color: #008080; font-weight: bold\">2019</span>-unfolding-dynamics-of-ubiquitin.pdf<span style=\"color: #808000; text-decoration-color: #808000\">...</span>                                    \n",
       "</pre>\n"
      ],
      "text/plain": [
       "\u001b[2;36m          \u001b[0m\u001b[2;36m \u001b[0mNew file to index: sahoo-\u001b[1;36m2019\u001b[0m-unfolding-dynamics-of-ubiquitin.pdf\u001b[33m...\u001b[0m                                    \n"
      ]
     },
     "metadata": {},
     "output_type": "display_data"
    },
    {
     "data": {
      "text/html": [
       "<pre style=\"white-space:pre;overflow-x:auto;line-height:normal;font-family:Menlo,'DejaVu Sans Mono',consolas,'Courier New',monospace\"><span style=\"color: #7fbfbf; text-decoration-color: #7fbfbf\">           </span>New file to index: lemmon_2017_fibronectin.pdf<span style=\"color: #808000; text-decoration-color: #808000\">...</span>                                                       \n",
       "</pre>\n"
      ],
      "text/plain": [
       "\u001b[2;36m          \u001b[0m\u001b[2;36m \u001b[0mNew file to index: lemmon_2017_fibronectin.pdf\u001b[33m...\u001b[0m                                                       \n"
      ]
     },
     "metadata": {},
     "output_type": "display_data"
    },
    {
     "data": {
      "text/html": [
       "<pre style=\"white-space:pre;overflow-x:auto;line-height:normal;font-family:Menlo,'DejaVu Sans Mono',consolas,'Courier New',monospace\"><span style=\"color: #7fbfbf; text-decoration-color: #7fbfbf\">           </span>New file to index: ganoth_2013_ubiquitin.pdf<span style=\"color: #808000; text-decoration-color: #808000\">...</span>                                                         \n",
       "</pre>\n"
      ],
      "text/plain": [
       "\u001b[2;36m          \u001b[0m\u001b[2;36m \u001b[0mNew file to index: ganoth_2013_ubiquitin.pdf\u001b[33m...\u001b[0m                                                         \n"
      ]
     },
     "metadata": {},
     "output_type": "display_data"
    },
    {
     "data": {
      "text/html": [
       "<pre style=\"white-space:pre;overflow-x:auto;line-height:normal;font-family:Menlo,'DejaVu Sans Mono',consolas,'Courier New',monospace\"><span style=\"color: #7fbfbf; text-decoration-color: #7fbfbf\">           </span>New file to index: clark_1985_hemoglobin.pdf<span style=\"color: #808000; text-decoration-color: #808000\">...</span>                                                         \n",
       "</pre>\n"
      ],
      "text/plain": [
       "\u001b[2;36m          \u001b[0m\u001b[2;36m \u001b[0mNew file to index: clark_1985_hemoglobin.pdf\u001b[33m...\u001b[0m                                                         \n"
      ]
     },
     "metadata": {},
     "output_type": "display_data"
    },
    {
     "data": {
      "text/html": [
       "<pre style=\"white-space:pre;overflow-x:auto;line-height:normal;font-family:Menlo,'DejaVu Sans Mono',consolas,'Courier New',monospace\"><span style=\"color: #7fbfbf; text-decoration-color: #7fbfbf\">[19:57:10] </span>New file to index: sala_2018_proteinstability.pdf<span style=\"color: #808000; text-decoration-color: #808000\">...</span>                                                    \n",
       "</pre>\n"
      ],
      "text/plain": [
       "\u001b[2;36m[19:57:10]\u001b[0m\u001b[2;36m \u001b[0mNew file to index: sala_2018_proteinstability.pdf\u001b[33m...\u001b[0m                                                    \n"
      ]
     },
     "metadata": {},
     "output_type": "display_data"
    },
    {
     "data": {
      "text/html": [
       "<pre style=\"white-space:pre;overflow-x:auto;line-height:normal;font-family:Menlo,'DejaVu Sans Mono',consolas,'Courier New',monospace\"><span style=\"color: #7fbfbf; text-decoration-color: #7fbfbf\">           </span>New file to index: hage_2018_hemoglobin_sim_SI.pdf<span style=\"color: #808000; text-decoration-color: #808000\">...</span>                                                   \n",
       "</pre>\n"
      ],
      "text/plain": [
       "\u001b[2;36m          \u001b[0m\u001b[2;36m \u001b[0mNew file to index: hage_2018_hemoglobin_sim_SI.pdf\u001b[33m...\u001b[0m                                                   \n"
      ]
     },
     "metadata": {},
     "output_type": "display_data"
    },
    {
     "data": {
      "text/html": [
       "<pre style=\"white-space:pre;overflow-x:auto;line-height:normal;font-family:Menlo,'DejaVu Sans Mono',consolas,'Courier New',monospace\"><span style=\"color: #7fbfbf; text-decoration-color: #7fbfbf\">           </span>New file to index: <span style=\"color: #008080; text-decoration-color: #008080; font-weight: bold\">10.</span>1002slct.<span style=\"color: #008080; text-decoration-color: #008080; font-weight: bold\">201801398.</span>pdf<span style=\"color: #808000; text-decoration-color: #808000\">...</span>                                                         \n",
       "</pre>\n"
      ],
      "text/plain": [
       "\u001b[2;36m          \u001b[0m\u001b[2;36m \u001b[0mNew file to index: \u001b[1;36m10.\u001b[0m1002slct.\u001b[1;36m201801398.\u001b[0mpdf\u001b[33m...\u001b[0m                                                         \n"
      ]
     },
     "metadata": {},
     "output_type": "display_data"
    },
    {
     "data": {
      "text/html": [
       "<pre style=\"white-space:pre;overflow-x:auto;line-height:normal;font-family:Menlo,'DejaVu Sans Mono',consolas,'Courier New',monospace\"><span style=\"color: #7fbfbf; text-decoration-color: #7fbfbf\">           </span>New file to index: gee_2008_fibronectin_1fnf.pdf<span style=\"color: #808000; text-decoration-color: #808000\">...</span>                                                     \n",
       "</pre>\n"
      ],
      "text/plain": [
       "\u001b[2;36m          \u001b[0m\u001b[2;36m \u001b[0mNew file to index: gee_2008_fibronectin_1fnf.pdf\u001b[33m...\u001b[0m                                                     \n"
      ]
     },
     "metadata": {},
     "output_type": "display_data"
    },
    {
     "data": {
      "text/html": [
       "<pre style=\"white-space:pre;overflow-x:auto;line-height:normal;font-family:Menlo,'DejaVu Sans Mono',consolas,'Courier New',monospace\"><span style=\"color: #7fbfbf; text-decoration-color: #7fbfbf\">           </span>New file to index: dunkelberger-et-al-2018_hemoglobin.pdf<span style=\"color: #808000; text-decoration-color: #808000\">...</span>                                            \n",
       "</pre>\n"
      ],
      "text/plain": [
       "\u001b[2;36m          \u001b[0m\u001b[2;36m \u001b[0mNew file to index: dunkelberger-et-al-2018_hemoglobin.pdf\u001b[33m...\u001b[0m                                            \n"
      ]
     },
     "metadata": {},
     "output_type": "display_data"
    },
    {
     "data": {
      "text/html": [
       "<pre style=\"white-space:pre;overflow-x:auto;line-height:normal;font-family:Menlo,'DejaVu Sans Mono',consolas,'Courier New',monospace\"><span style=\"color: #7fbfbf; text-decoration-color: #7fbfbf\">           </span>New file to index: liao_2014_fibronectin_sim.pdf<span style=\"color: #808000; text-decoration-color: #808000\">...</span>                                                     \n",
       "</pre>\n"
      ],
      "text/plain": [
       "\u001b[2;36m          \u001b[0m\u001b[2;36m \u001b[0mNew file to index: liao_2014_fibronectin_sim.pdf\u001b[33m...\u001b[0m                                                     \n"
      ]
     },
     "metadata": {},
     "output_type": "display_data"
    },
    {
     "data": {
      "text/html": [
       "<pre style=\"white-space:pre;overflow-x:auto;line-height:normal;font-family:Menlo,'DejaVu Sans Mono',consolas,'Courier New',monospace\"><span style=\"color: #7fbfbf; text-decoration-color: #7fbfbf\">[19:57:11] </span>New file to index: lucas_2012_hemoglobin_sim.pdf<span style=\"color: #808000; text-decoration-color: #808000\">...</span>                                                     \n",
       "</pre>\n"
      ],
      "text/plain": [
       "\u001b[2;36m[19:57:11]\u001b[0m\u001b[2;36m \u001b[0mNew file to index: lucas_2012_hemoglobin_sim.pdf\u001b[33m...\u001b[0m                                                     \n"
      ]
     },
     "metadata": {},
     "output_type": "display_data"
    },
    {
     "data": {
      "text/html": [
       "<pre style=\"white-space:pre;overflow-x:auto;line-height:normal;font-family:Menlo,'DejaVu Sans Mono',consolas,'Courier New',monospace\"><span style=\"color: #7fbfbf; text-decoration-color: #7fbfbf\">           </span>New file to index: mace_docs_2024.pdf<span style=\"color: #808000; text-decoration-color: #808000\">...</span>                                                                \n",
       "</pre>\n"
      ],
      "text/plain": [
       "\u001b[2;36m          \u001b[0m\u001b[2;36m \u001b[0mNew file to index: mace_docs_2024.pdf\u001b[33m...\u001b[0m                                                                \n"
      ]
     },
     "metadata": {},
     "output_type": "display_data"
    },
    {
     "data": {
      "text/html": [
       "<pre style=\"white-space:pre;overflow-x:auto;line-height:normal;font-family:Menlo,'DejaVu Sans Mono',consolas,'Courier New',monospace\"><span style=\"color: #7fbfbf; text-decoration-color: #7fbfbf\">           </span>New file to index: oliveira_2021_b2m_2yxf.pdf<span style=\"color: #808000; text-decoration-color: #808000\">...</span>                                                        \n",
       "</pre>\n"
      ],
      "text/plain": [
       "\u001b[2;36m          \u001b[0m\u001b[2;36m \u001b[0mNew file to index: oliveira_2021_b2m_2yxf.pdf\u001b[33m...\u001b[0m                                                        \n"
      ]
     },
     "metadata": {},
     "output_type": "display_data"
    },
    {
     "data": {
      "text/html": [
       "<pre style=\"white-space:pre;overflow-x:auto;line-height:normal;font-family:Menlo,'DejaVu Sans Mono',consolas,'Courier New',monospace\"><span style=\"color: #7fbfbf; text-decoration-color: #7fbfbf\">           </span>New file to index: liamas_2018_fibronectin_1fnf.pdf<span style=\"color: #808000; text-decoration-color: #808000\">...</span>                                                  \n",
       "</pre>\n"
      ],
      "text/plain": [
       "\u001b[2;36m          \u001b[0m\u001b[2;36m \u001b[0mNew file to index: liamas_2018_fibronectin_1fnf.pdf\u001b[33m...\u001b[0m                                                  \n"
      ]
     },
     "metadata": {},
     "output_type": "display_data"
    },
    {
     "data": {
      "text/html": [
       "<pre style=\"white-space:pre;overflow-x:auto;line-height:normal;font-family:Menlo,'DejaVu Sans Mono',consolas,'Courier New',monospace\"><span style=\"color: #7fbfbf; text-decoration-color: #7fbfbf\">           </span>New file to index: morand_2021_b2m_2yxf.pdf<span style=\"color: #808000; text-decoration-color: #808000\">...</span>                                                          \n",
       "</pre>\n"
      ],
      "text/plain": [
       "\u001b[2;36m          \u001b[0m\u001b[2;36m \u001b[0mNew file to index: morand_2021_b2m_2yxf.pdf\u001b[33m...\u001b[0m                                                          \n"
      ]
     },
     "metadata": {},
     "output_type": "display_data"
    },
    {
     "data": {
      "text/html": [
       "<pre style=\"white-space:pre;overflow-x:auto;line-height:normal;font-family:Menlo,'DejaVu Sans Mono',consolas,'Courier New',monospace\"><span style=\"color: #7fbfbf; text-decoration-color: #7fbfbf\">           </span>New file to index:                                                                                      \n",
       "<span style=\"color: #7fbfbf; text-decoration-color: #7fbfbf\">           </span>mshirts%2C+<span style=\"color: #008080; text-decoration-color: #008080; font-weight: bold\">5957</span>-best-practices-for-foundations-in-molecular-simulations-article-v1-<span style=\"color: #008080; text-decoration-color: #008080; font-weight: bold\">0</span>+%<span style=\"color: #008080; text-decoration-color: #008080; font-weight: bold\">281</span>%<span style=\"color: #008080; text-decoration-color: #008080; font-weight: bold\">29.</span>pdf<span style=\"color: #808000; text-decoration-color: #808000\">...</span>     \n",
       "</pre>\n"
      ],
      "text/plain": [
       "\u001b[2;36m          \u001b[0m\u001b[2;36m \u001b[0mNew file to index:                                                                                      \n",
       "\u001b[2;36m           \u001b[0mmshirts%2C+\u001b[1;36m5957\u001b[0m-best-practices-for-foundations-in-molecular-simulations-article-v1-\u001b[1;36m0\u001b[0m+%\u001b[1;36m281\u001b[0m%\u001b[1;36m29.\u001b[0mpdf\u001b[33m...\u001b[0m     \n"
      ]
     },
     "metadata": {},
     "output_type": "display_data"
    },
    {
     "data": {
      "text/html": [
       "<pre style=\"white-space:pre;overflow-x:auto;line-height:normal;font-family:Menlo,'DejaVu Sans Mono',consolas,'Courier New',monospace\"><span style=\"color: #7fbfbf; text-decoration-color: #7fbfbf\">[19:57:12] </span>New file to index: laberge_2008_hemoglobin_sim.pdf<span style=\"color: #808000; text-decoration-color: #808000\">...</span>                                                   \n",
       "</pre>\n"
      ],
      "text/plain": [
       "\u001b[2;36m[19:57:12]\u001b[0m\u001b[2;36m \u001b[0mNew file to index: laberge_2008_hemoglobin_sim.pdf\u001b[33m...\u001b[0m                                                   \n"
      ]
     },
     "metadata": {},
     "output_type": "display_data"
    },
    {
     "data": {
      "text/html": [
       "<pre style=\"white-space:pre;overflow-x:auto;line-height:normal;font-family:Menlo,'DejaVu Sans Mono',consolas,'Courier New',monospace\"><span style=\"color: #7fbfbf; text-decoration-color: #7fbfbf\">           </span>New file to index: hage_2018_hemoglobin_sim.pdf<span style=\"color: #808000; text-decoration-color: #808000\">...</span>                                                      \n",
       "</pre>\n"
      ],
      "text/plain": [
       "\u001b[2;36m          \u001b[0m\u001b[2;36m \u001b[0mNew file to index: hage_2018_hemoglobin_sim.pdf\u001b[33m...\u001b[0m                                                      \n"
      ]
     },
     "metadata": {},
     "output_type": "display_data"
    },
    {
     "data": {
      "text/html": [
       "<pre style=\"white-space:pre;overflow-x:auto;line-height:normal;font-family:Menlo,'DejaVu Sans Mono',consolas,'Courier New',monospace\"><span style=\"color: #7fbfbf; text-decoration-color: #7fbfbf\">           </span>New file to index: lucas_2012_hemoglobin_sim_SI.pdf<span style=\"color: #808000; text-decoration-color: #808000\">...</span>                                                  \n",
       "</pre>\n"
      ],
      "text/plain": [
       "\u001b[2;36m          \u001b[0m\u001b[2;36m \u001b[0mNew file to index: lucas_2012_hemoglobin_sim_SI.pdf\u001b[33m...\u001b[0m                                                  \n"
      ]
     },
     "metadata": {},
     "output_type": "display_data"
    },
    {
     "data": {
      "text/html": [
       "<pre style=\"white-space:pre;overflow-x:auto;line-height:normal;font-family:Menlo,'DejaVu Sans Mono',consolas,'Courier New',monospace\"><span style=\"color: #7fbfbf; text-decoration-color: #7fbfbf\">           </span>New file to index: paci_1999_fibronectin_1fnf.pdf<span style=\"color: #808000; text-decoration-color: #808000\">...</span>                                                    \n",
       "</pre>\n"
      ],
      "text/plain": [
       "\u001b[2;36m          \u001b[0m\u001b[2;36m \u001b[0mNew file to index: paci_1999_fibronectin_1fnf.pdf\u001b[33m...\u001b[0m                                                    \n"
      ]
     },
     "metadata": {},
     "output_type": "display_data"
    },
    {
     "data": {
      "text/html": [
       "<pre style=\"white-space:pre;overflow-x:auto;line-height:normal;font-family:Menlo,'DejaVu Sans Mono',consolas,'Courier New',monospace\"><span style=\"color: #7fbfbf; text-decoration-color: #7fbfbf\">           </span>New file to index: hao_2021_fibronectin.pdf<span style=\"color: #808000; text-decoration-color: #808000\">...</span>                                                          \n",
       "</pre>\n"
      ],
      "text/plain": [
       "\u001b[2;36m          \u001b[0m\u001b[2;36m \u001b[0mNew file to index: hao_2021_fibronectin.pdf\u001b[33m...\u001b[0m                                                          \n"
      ]
     },
     "metadata": {},
     "output_type": "display_data"
    },
    {
     "data": {
      "text/html": [
       "<pre style=\"white-space:pre;overflow-x:auto;line-height:normal;font-family:Menlo,'DejaVu Sans Mono',consolas,'Courier New',monospace\"><span style=\"color: #7fbfbf; text-decoration-color: #7fbfbf\">           </span>New file to index: raffaini-ganazzoli-<span style=\"color: #008080; text-decoration-color: #008080; font-weight: bold\">2004</span>-fibronectin_sim.pdf<span style=\"color: #808000; text-decoration-color: #808000\">...</span>                                       \n",
       "</pre>\n"
      ],
      "text/plain": [
       "\u001b[2;36m          \u001b[0m\u001b[2;36m \u001b[0mNew file to index: raffaini-ganazzoli-\u001b[1;36m2004\u001b[0m-fibronectin_sim.pdf\u001b[33m...\u001b[0m                                       \n"
      ]
     },
     "metadata": {},
     "output_type": "display_data"
    },
    {
     "data": {
      "text/html": [
       "<pre style=\"white-space:pre;overflow-x:auto;line-height:normal;font-family:Menlo,'DejaVu Sans Mono',consolas,'Courier New',monospace\"><span style=\"color: #7fbfbf; text-decoration-color: #7fbfbf\">[19:57:14] </span>SEMANTIC_SCHOLAR_API_KEY environment variable not set. Semantic Scholar API rate limits may apply.      \n",
       "</pre>\n"
      ],
      "text/plain": [
       "\u001b[2;36m[19:57:14]\u001b[0m\u001b[2;36m \u001b[0mSEMANTIC_SCHOLAR_API_KEY environment variable not set. Semantic Scholar API rate limits may apply.      \n"
      ]
     },
     "metadata": {},
     "output_type": "display_data"
    },
    {
     "data": {
      "text/html": [
       "<pre style=\"white-space:pre;overflow-x:auto;line-height:normal;font-family:Menlo,'DejaVu Sans Mono',consolas,'Courier New',monospace\"><span style=\"color: #7fbfbf; text-decoration-color: #7fbfbf\">           </span>CROSSREF_MAILTO environment variable not set. Crossref API rate limits may apply.                       \n",
       "</pre>\n"
      ],
      "text/plain": [
       "\u001b[2;36m          \u001b[0m\u001b[2;36m \u001b[0mCROSSREF_MAILTO environment variable not set. Crossref API rate limits may apply.                       \n"
      ]
     },
     "metadata": {},
     "output_type": "display_data"
    },
    {
     "data": {
      "text/html": [
       "<pre style=\"white-space:pre;overflow-x:auto;line-height:normal;font-family:Menlo,'DejaVu Sans Mono',consolas,'Courier New',monospace\"><span style=\"color: #7fbfbf; text-decoration-color: #7fbfbf\">           </span>CROSSREF_API_KEY environment variable not set. Crossref API rate limits may apply.                      \n",
       "</pre>\n"
      ],
      "text/plain": [
       "\u001b[2;36m          \u001b[0m\u001b[2;36m \u001b[0mCROSSREF_API_KEY environment variable not set. Crossref API rate limits may apply.                      \n"
      ]
     },
     "metadata": {},
     "output_type": "display_data"
    },
    {
     "data": {
      "text/html": [
       "<pre style=\"white-space:pre;overflow-x:auto;line-height:normal;font-family:Menlo,'DejaVu Sans Mono',consolas,'Courier New',monospace\"><span style=\"color: #7fbfbf; text-decoration-color: #7fbfbf\">           </span>SEMANTIC_SCHOLAR_API_KEY environment variable not set. Semantic Scholar API rate limits may apply.      \n",
       "</pre>\n"
      ],
      "text/plain": [
       "\u001b[2;36m          \u001b[0m\u001b[2;36m \u001b[0mSEMANTIC_SCHOLAR_API_KEY environment variable not set. Semantic Scholar API rate limits may apply.      \n"
      ]
     },
     "metadata": {},
     "output_type": "display_data"
    },
    {
     "data": {
      "text/html": [
       "<pre style=\"white-space:pre;overflow-x:auto;line-height:normal;font-family:Menlo,'DejaVu Sans Mono',consolas,'Courier New',monospace\"><span style=\"color: #7fbfbf; text-decoration-color: #7fbfbf\">           </span>SEMANTIC_SCHOLAR_API_KEY environment variable not set. Semantic Scholar API rate limits may apply.      \n",
       "</pre>\n"
      ],
      "text/plain": [
       "\u001b[2;36m          \u001b[0m\u001b[2;36m \u001b[0mSEMANTIC_SCHOLAR_API_KEY environment variable not set. Semantic Scholar API rate limits may apply.      \n"
      ]
     },
     "metadata": {},
     "output_type": "display_data"
    },
    {
     "data": {
      "text/html": [
       "<pre style=\"white-space:pre;overflow-x:auto;line-height:normal;font-family:Menlo,'DejaVu Sans Mono',consolas,'Courier New',monospace\"><span style=\"color: #7fbfbf; text-decoration-color: #7fbfbf\">           </span>SEMANTIC_SCHOLAR_API_KEY environment variable not set. Semantic Scholar API rate limits may apply.      \n",
       "</pre>\n"
      ],
      "text/plain": [
       "\u001b[2;36m          \u001b[0m\u001b[2;36m \u001b[0mSEMANTIC_SCHOLAR_API_KEY environment variable not set. Semantic Scholar API rate limits may apply.      \n"
      ]
     },
     "metadata": {},
     "output_type": "display_data"
    },
    {
     "data": {
      "text/html": [
       "<pre style=\"white-space:pre;overflow-x:auto;line-height:normal;font-family:Menlo,'DejaVu Sans Mono',consolas,'Courier New',monospace\"><span style=\"color: #7fbfbf; text-decoration-color: #7fbfbf\">           </span>SEMANTIC_SCHOLAR_API_KEY environment variable not set. Semantic Scholar API rate limits may apply.      \n",
       "</pre>\n"
      ],
      "text/plain": [
       "\u001b[2;36m          \u001b[0m\u001b[2;36m \u001b[0mSEMANTIC_SCHOLAR_API_KEY environment variable not set. Semantic Scholar API rate limits may apply.      \n"
      ]
     },
     "metadata": {},
     "output_type": "display_data"
    },
    {
     "data": {
      "text/html": [
       "<pre style=\"white-space:pre;overflow-x:auto;line-height:normal;font-family:Menlo,'DejaVu Sans Mono',consolas,'Courier New',monospace\"><span style=\"color: #7fbfbf; text-decoration-color: #7fbfbf\">           </span>SEMANTIC_SCHOLAR_API_KEY environment variable not set. Semantic Scholar API rate limits may apply.      \n",
       "</pre>\n"
      ],
      "text/plain": [
       "\u001b[2;36m          \u001b[0m\u001b[2;36m \u001b[0mSEMANTIC_SCHOLAR_API_KEY environment variable not set. Semantic Scholar API rate limits may apply.      \n"
      ]
     },
     "metadata": {},
     "output_type": "display_data"
    },
    {
     "data": {
      "text/html": [
       "<pre style=\"white-space:pre;overflow-x:auto;line-height:normal;font-family:Menlo,'DejaVu Sans Mono',consolas,'Courier New',monospace\"><span style=\"color: #7fbfbf; text-decoration-color: #7fbfbf\">           </span>SEMANTIC_SCHOLAR_API_KEY environment variable not set. Semantic Scholar API rate limits may apply.      \n",
       "</pre>\n"
      ],
      "text/plain": [
       "\u001b[2;36m          \u001b[0m\u001b[2;36m \u001b[0mSEMANTIC_SCHOLAR_API_KEY environment variable not set. Semantic Scholar API rate limits may apply.      \n"
      ]
     },
     "metadata": {},
     "output_type": "display_data"
    },
    {
     "data": {
      "text/html": [
       "<pre style=\"white-space:pre;overflow-x:auto;line-height:normal;font-family:Menlo,'DejaVu Sans Mono',consolas,'Courier New',monospace\"><span style=\"color: #7fbfbf; text-decoration-color: #7fbfbf\">           </span>SEMANTIC_SCHOLAR_API_KEY environment variable not set. Semantic Scholar API rate limits may apply.      \n",
       "</pre>\n"
      ],
      "text/plain": [
       "\u001b[2;36m          \u001b[0m\u001b[2;36m \u001b[0mSEMANTIC_SCHOLAR_API_KEY environment variable not set. Semantic Scholar API rate limits may apply.      \n"
      ]
     },
     "metadata": {},
     "output_type": "display_data"
    },
    {
     "data": {
      "text/html": [
       "<pre style=\"white-space:pre;overflow-x:auto;line-height:normal;font-family:Menlo,'DejaVu Sans Mono',consolas,'Courier New',monospace\"><span style=\"color: #7fbfbf; text-decoration-color: #7fbfbf\">           </span>SEMANTIC_SCHOLAR_API_KEY environment variable not set. Semantic Scholar API rate limits may apply.      \n",
       "</pre>\n"
      ],
      "text/plain": [
       "\u001b[2;36m          \u001b[0m\u001b[2;36m \u001b[0mSEMANTIC_SCHOLAR_API_KEY environment variable not set. Semantic Scholar API rate limits may apply.      \n"
      ]
     },
     "metadata": {},
     "output_type": "display_data"
    },
    {
     "data": {
      "text/html": [
       "<pre style=\"white-space:pre;overflow-x:auto;line-height:normal;font-family:Menlo,'DejaVu Sans Mono',consolas,'Courier New',monospace\"><span style=\"color: #7fbfbf; text-decoration-color: #7fbfbf\">           </span>Metadata not found for <span style=\"color: #008080; text-decoration-color: #008080; font-weight: bold\">10.7554</span>/eLife.<span style=\"color: #008080; text-decoration-color: #008080; font-weight: bold\">35560.001</span> in SemanticScholarProvider.                              \n",
       "</pre>\n"
      ],
      "text/plain": [
       "\u001b[2;36m          \u001b[0m\u001b[2;36m \u001b[0mMetadata not found for \u001b[1;36m10.7554\u001b[0m/eLife.\u001b[1;36m35560.001\u001b[0m in SemanticScholarProvider.                              \n"
      ]
     },
     "metadata": {},
     "output_type": "display_data"
    },
    {
     "data": {
      "text/html": [
       "<pre style=\"white-space:pre;overflow-x:auto;line-height:normal;font-family:Menlo,'DejaVu Sans Mono',consolas,'Courier New',monospace\"><span style=\"color: #7fbfbf; text-decoration-color: #7fbfbf\">           </span>Metadata not found for eLife’s Transparent Reporting Form in SemanticScholarProvider.                   \n",
       "</pre>\n"
      ],
      "text/plain": [
       "\u001b[2;36m          \u001b[0m\u001b[2;36m \u001b[0mMetadata not found for eLife’s Transparent Reporting Form in SemanticScholarProvider.                   \n"
      ]
     },
     "metadata": {},
     "output_type": "display_data"
    },
    {
     "data": {
      "text/html": [
       "<pre style=\"white-space:pre;overflow-x:auto;line-height:normal;font-family:Menlo,'DejaVu Sans Mono',consolas,'Courier New',monospace\"><span style=\"color: #7fbfbf; text-decoration-color: #7fbfbf\">           </span>SEMANTIC_SCHOLAR_API_KEY environment variable not set. Semantic Scholar API rate limits may apply.      \n",
       "</pre>\n"
      ],
      "text/plain": [
       "\u001b[2;36m          \u001b[0m\u001b[2;36m \u001b[0mSEMANTIC_SCHOLAR_API_KEY environment variable not set. Semantic Scholar API rate limits may apply.      \n"
      ]
     },
     "metadata": {},
     "output_type": "display_data"
    },
    {
     "data": {
      "text/html": [
       "<pre style=\"white-space:pre;overflow-x:auto;line-height:normal;font-family:Menlo,'DejaVu Sans Mono',consolas,'Courier New',monospace\"><span style=\"color: #7fbfbf; text-decoration-color: #7fbfbf\">           </span>SEMANTIC_SCHOLAR_API_KEY environment variable not set. Semantic Scholar API rate limits may apply.      \n",
       "</pre>\n"
      ],
      "text/plain": [
       "\u001b[2;36m          \u001b[0m\u001b[2;36m \u001b[0mSEMANTIC_SCHOLAR_API_KEY environment variable not set. Semantic Scholar API rate limits may apply.      \n"
      ]
     },
     "metadata": {},
     "output_type": "display_data"
    },
    {
     "data": {
      "text/html": [
       "<pre style=\"white-space:pre;overflow-x:auto;line-height:normal;font-family:Menlo,'DejaVu Sans Mono',consolas,'Courier New',monospace\"><span style=\"color: #7fbfbf; text-decoration-color: #7fbfbf\">           </span>SEMANTIC_SCHOLAR_API_KEY environment variable not set. Semantic Scholar API rate limits may apply.      \n",
       "</pre>\n"
      ],
      "text/plain": [
       "\u001b[2;36m          \u001b[0m\u001b[2;36m \u001b[0mSEMANTIC_SCHOLAR_API_KEY environment variable not set. Semantic Scholar API rate limits may apply.      \n"
      ]
     },
     "metadata": {},
     "output_type": "display_data"
    },
    {
     "data": {
      "text/html": [
       "<pre style=\"white-space:pre;overflow-x:auto;line-height:normal;font-family:Menlo,'DejaVu Sans Mono',consolas,'Courier New',monospace\"><span style=\"color: #7fbfbf; text-decoration-color: #7fbfbf\">[19:57:15] </span>SEMANTIC_SCHOLAR_API_KEY environment variable not set. Semantic Scholar API rate limits may apply.      \n",
       "</pre>\n"
      ],
      "text/plain": [
       "\u001b[2;36m[19:57:15]\u001b[0m\u001b[2;36m \u001b[0mSEMANTIC_SCHOLAR_API_KEY environment variable not set. Semantic Scholar API rate limits may apply.      \n"
      ]
     },
     "metadata": {},
     "output_type": "display_data"
    },
    {
     "data": {
      "text/html": [
       "<pre style=\"white-space:pre;overflow-x:auto;line-height:normal;font-family:Menlo,'DejaVu Sans Mono',consolas,'Courier New',monospace\"><span style=\"color: #7fbfbf; text-decoration-color: #7fbfbf\">           </span>Metadata not found for Trypsin-Ligand Binding Affinities Calculated Using an Effective Interaction      \n",
       "<span style=\"color: #7fbfbf; text-decoration-color: #7fbfbf\">           </span>Entropy Method under Polarized Force Field in SemanticScholarProvider.                                  \n",
       "</pre>\n"
      ],
      "text/plain": [
       "\u001b[2;36m          \u001b[0m\u001b[2;36m \u001b[0mMetadata not found for Trypsin-Ligand Binding Affinities Calculated Using an Effective Interaction      \n",
       "\u001b[2;36m           \u001b[0mEntropy Method under Polarized Force Field in SemanticScholarProvider.                                  \n"
      ]
     },
     "metadata": {},
     "output_type": "display_data"
    },
    {
     "data": {
      "text/html": [
       "<pre style=\"white-space:pre;overflow-x:auto;line-height:normal;font-family:Menlo,'DejaVu Sans Mono',consolas,'Courier New',monospace\"><span style=\"color: #7fbfbf; text-decoration-color: #7fbfbf\">           </span>SEMANTIC_SCHOLAR_API_KEY environment variable not set. Semantic Scholar API rate limits may apply.      \n",
       "</pre>\n"
      ],
      "text/plain": [
       "\u001b[2;36m          \u001b[0m\u001b[2;36m \u001b[0mSEMANTIC_SCHOLAR_API_KEY environment variable not set. Semantic Scholar API rate limits may apply.      \n"
      ]
     },
     "metadata": {},
     "output_type": "display_data"
    },
    {
     "data": {
      "text/html": [
       "<pre style=\"white-space:pre;overflow-x:auto;line-height:normal;font-family:Menlo,'DejaVu Sans Mono',consolas,'Courier New',monospace\"><span style=\"color: #7fbfbf; text-decoration-color: #7fbfbf\">           </span>Metadata not found for Oxygen Delivery from Red Cells in SemanticScholarProvider.                       \n",
       "</pre>\n"
      ],
      "text/plain": [
       "\u001b[2;36m          \u001b[0m\u001b[2;36m \u001b[0mMetadata not found for Oxygen Delivery from Red Cells in SemanticScholarProvider.                       \n"
      ]
     },
     "metadata": {},
     "output_type": "display_data"
    },
    {
     "data": {
      "text/html": [
       "<pre style=\"white-space:pre;overflow-x:auto;line-height:normal;font-family:Menlo,'DejaVu Sans Mono',consolas,'Courier New',monospace\"><span style=\"color: #7fbfbf; text-decoration-color: #7fbfbf\">           </span>SEMANTIC_SCHOLAR_API_KEY environment variable not set. Semantic Scholar API rate limits may apply.      \n",
       "</pre>\n"
      ],
      "text/plain": [
       "\u001b[2;36m          \u001b[0m\u001b[2;36m \u001b[0mSEMANTIC_SCHOLAR_API_KEY environment variable not set. Semantic Scholar API rate limits may apply.      \n"
      ]
     },
     "metadata": {},
     "output_type": "display_data"
    },
    {
     "data": {
      "text/html": [
       "<pre style=\"white-space:pre;overflow-x:auto;line-height:normal;font-family:Menlo,'DejaVu Sans Mono',consolas,'Courier New',monospace\"><span style=\"color: #7fbfbf; text-decoration-color: #7fbfbf\">           </span>Metadata not found for Dissecting Structural Aspects of Protein Stability in SemanticScholarProvider.   \n",
       "</pre>\n"
      ],
      "text/plain": [
       "\u001b[2;36m          \u001b[0m\u001b[2;36m \u001b[0mMetadata not found for Dissecting Structural Aspects of Protein Stability in SemanticScholarProvider.   \n"
      ]
     },
     "metadata": {},
     "output_type": "display_data"
    },
    {
     "data": {
      "text/html": [
       "<pre style=\"white-space:pre;overflow-x:auto;line-height:normal;font-family:Menlo,'DejaVu Sans Mono',consolas,'Courier New',monospace\"><span style=\"color: #7fbfbf; text-decoration-color: #7fbfbf\">           </span>SEMANTIC_SCHOLAR_API_KEY environment variable not set. Semantic Scholar API rate limits may apply.      \n",
       "</pre>\n"
      ],
      "text/plain": [
       "\u001b[2;36m          \u001b[0m\u001b[2;36m \u001b[0mSEMANTIC_SCHOLAR_API_KEY environment variable not set. Semantic Scholar API rate limits may apply.      \n"
      ]
     },
     "metadata": {},
     "output_type": "display_data"
    },
    {
     "data": {
      "text/html": [
       "<pre style=\"white-space:pre;overflow-x:auto;line-height:normal;font-family:Menlo,'DejaVu Sans Mono',consolas,'Courier New',monospace\"><span style=\"color: #7fbfbf; text-decoration-color: #7fbfbf\">           </span>SEMANTIC_SCHOLAR_API_KEY environment variable not set. Semantic Scholar API rate limits may apply.      \n",
       "</pre>\n"
      ],
      "text/plain": [
       "\u001b[2;36m          \u001b[0m\u001b[2;36m \u001b[0mSEMANTIC_SCHOLAR_API_KEY environment variable not set. Semantic Scholar API rate limits may apply.      \n"
      ]
     },
     "metadata": {},
     "output_type": "display_data"
    },
    {
     "data": {
      "text/html": [
       "<pre style=\"white-space:pre;overflow-x:auto;line-height:normal;font-family:Menlo,'DejaVu Sans Mono',consolas,'Courier New',monospace\"><span style=\"color: #7fbfbf; text-decoration-color: #7fbfbf\">           </span>Metadata not found for <span style=\"color: #008080; text-decoration-color: #008080; font-weight: bold\">10.1021</span>/acs.jpcb.8b11542 in SemanticScholarProvider.                             \n",
       "</pre>\n"
      ],
      "text/plain": [
       "\u001b[2;36m          \u001b[0m\u001b[2;36m \u001b[0mMetadata not found for \u001b[1;36m10.1021\u001b[0m/acs.jpcb.8b11542 in SemanticScholarProvider.                             \n"
      ]
     },
     "metadata": {},
     "output_type": "display_data"
    },
    {
     "data": {
      "text/html": [
       "<pre style=\"white-space:pre;overflow-x:auto;line-height:normal;font-family:Menlo,'DejaVu Sans Mono',consolas,'Courier New',monospace\"><span style=\"color: #7fbfbf; text-decoration-color: #7fbfbf\">           </span>SEMANTIC_SCHOLAR_API_KEY environment variable not set. Semantic Scholar API rate limits may apply.      \n",
       "</pre>\n"
      ],
      "text/plain": [
       "\u001b[2;36m          \u001b[0m\u001b[2;36m \u001b[0mSEMANTIC_SCHOLAR_API_KEY environment variable not set. Semantic Scholar API rate limits may apply.      \n"
      ]
     },
     "metadata": {},
     "output_type": "display_data"
    },
    {
     "data": {
      "text/html": [
       "<pre style=\"white-space:pre;overflow-x:auto;line-height:normal;font-family:Menlo,'DejaVu Sans Mono',consolas,'Courier New',monospace\"><span style=\"color: #7fbfbf; text-decoration-color: #7fbfbf\">           </span>Metadata not found for Predicting Stable Binding Modes from Simulated Dimers of the D76N Mutant of      \n",
       "<span style=\"color: #7fbfbf; text-decoration-color: #7fbfbf\">           </span>β2-Microglobulin in SemanticScholarProvider.                                                            \n",
       "</pre>\n"
      ],
      "text/plain": [
       "\u001b[2;36m          \u001b[0m\u001b[2;36m \u001b[0mMetadata not found for Predicting Stable Binding Modes from Simulated Dimers of the D76N Mutant of      \n",
       "\u001b[2;36m           \u001b[0mβ2-Microglobulin in SemanticScholarProvider.                                                            \n"
      ]
     },
     "metadata": {},
     "output_type": "display_data"
    },
    {
     "data": {
      "text/html": [
       "<pre style=\"white-space:pre;overflow-x:auto;line-height:normal;font-family:Menlo,'DejaVu Sans Mono',consolas,'Courier New',monospace\"><span style=\"color: #7fbfbf; text-decoration-color: #7fbfbf\">           </span>SEMANTIC_SCHOLAR_API_KEY environment variable not set. Semantic Scholar API rate limits may apply.      \n",
       "</pre>\n"
      ],
      "text/plain": [
       "\u001b[2;36m          \u001b[0m\u001b[2;36m \u001b[0mSEMANTIC_SCHOLAR_API_KEY environment variable not set. Semantic Scholar API rate limits may apply.      \n"
      ]
     },
     "metadata": {},
     "output_type": "display_data"
    },
    {
     "data": {
      "text/html": [
       "<pre style=\"white-space:pre;overflow-x:auto;line-height:normal;font-family:Menlo,'DejaVu Sans Mono',consolas,'Courier New',monospace\"><span style=\"color: #7fbfbf; text-decoration-color: #7fbfbf\">           </span>SEMANTIC_SCHOLAR_API_KEY environment variable not set. Semantic Scholar API rate limits may apply.      \n",
       "</pre>\n"
      ],
      "text/plain": [
       "\u001b[2;36m          \u001b[0m\u001b[2;36m \u001b[0mSEMANTIC_SCHOLAR_API_KEY environment variable not set. Semantic Scholar API rate limits may apply.      \n"
      ]
     },
     "metadata": {},
     "output_type": "display_data"
    },
    {
     "data": {
      "text/html": [
       "<pre style=\"white-space:pre;overflow-x:auto;line-height:normal;font-family:Menlo,'DejaVu Sans Mono',consolas,'Courier New',monospace\"><span style=\"color: #7fbfbf; text-decoration-color: #7fbfbf\">           </span>SEMANTIC_SCHOLAR_API_KEY environment variable not set. Semantic Scholar API rate limits may apply.      \n",
       "</pre>\n"
      ],
      "text/plain": [
       "\u001b[2;36m          \u001b[0m\u001b[2;36m \u001b[0mSEMANTIC_SCHOLAR_API_KEY environment variable not set. Semantic Scholar API rate limits may apply.      \n"
      ]
     },
     "metadata": {},
     "output_type": "display_data"
    },
    {
     "data": {
      "text/html": [
       "<pre style=\"white-space:pre;overflow-x:auto;line-height:normal;font-family:Menlo,'DejaVu Sans Mono',consolas,'Courier New',monospace\"><span style=\"color: #7fbfbf; text-decoration-color: #7fbfbf\">           </span>SEMANTIC_SCHOLAR_API_KEY environment variable not set. Semantic Scholar API rate limits may apply.      \n",
       "</pre>\n"
      ],
      "text/plain": [
       "\u001b[2;36m          \u001b[0m\u001b[2;36m \u001b[0mSEMANTIC_SCHOLAR_API_KEY environment variable not set. Semantic Scholar API rate limits may apply.      \n"
      ]
     },
     "metadata": {},
     "output_type": "display_data"
    },
    {
     "data": {
      "text/html": [
       "<pre style=\"white-space:pre;overflow-x:auto;line-height:normal;font-family:Menlo,'DejaVu Sans Mono',consolas,'Courier New',monospace\"><span style=\"color: #7fbfbf; text-decoration-color: #7fbfbf\">           </span>Metadata not found for Molecular Dynamics Simulation of the Adsorption of a Fibronectin Module on a     \n",
       "<span style=\"color: #7fbfbf; text-decoration-color: #7fbfbf\">           </span>Graphite Surface in SemanticScholarProvider.                                                            \n",
       "</pre>\n"
      ],
      "text/plain": [
       "\u001b[2;36m          \u001b[0m\u001b[2;36m \u001b[0mMetadata not found for Molecular Dynamics Simulation of the Adsorption of a Fibronectin Module on a     \n",
       "\u001b[2;36m           \u001b[0mGraphite Surface in SemanticScholarProvider.                                                            \n"
      ]
     },
     "metadata": {},
     "output_type": "display_data"
    },
    {
     "data": {
      "text/html": [
       "<pre style=\"white-space:pre;overflow-x:auto;line-height:normal;font-family:Menlo,'DejaVu Sans Mono',consolas,'Courier New',monospace\"><span style=\"color: #7fbfbf; text-decoration-color: #7fbfbf\">           </span>SEMANTIC_SCHOLAR_API_KEY environment variable not set. Semantic Scholar API rate limits may apply.      \n",
       "</pre>\n"
      ],
      "text/plain": [
       "\u001b[2;36m          \u001b[0m\u001b[2;36m \u001b[0mSEMANTIC_SCHOLAR_API_KEY environment variable not set. Semantic Scholar API rate limits may apply.      \n"
      ]
     },
     "metadata": {},
     "output_type": "display_data"
    },
    {
     "data": {
      "text/html": [
       "<pre style=\"white-space:pre;overflow-x:auto;line-height:normal;font-family:Menlo,'DejaVu Sans Mono',consolas,'Courier New',monospace\"><span style=\"color: #7fbfbf; text-decoration-color: #7fbfbf\">           </span>Metadata not found for Forced Unfolding of Fibronectin Type <span style=\"color: #008080; text-decoration-color: #008080; font-weight: bold\">3</span> Modules: An Analysis by Biased Molecular  \n",
       "<span style=\"color: #7fbfbf; text-decoration-color: #7fbfbf\">           </span>Dynamics Simulations in SemanticScholarProvider.                                                        \n",
       "</pre>\n"
      ],
      "text/plain": [
       "\u001b[2;36m          \u001b[0m\u001b[2;36m \u001b[0mMetadata not found for Forced Unfolding of Fibronectin Type \u001b[1;36m3\u001b[0m Modules: An Analysis by Biased Molecular  \n",
       "\u001b[2;36m           \u001b[0mDynamics Simulations in SemanticScholarProvider.                                                        \n"
      ]
     },
     "metadata": {},
     "output_type": "display_data"
    },
    {
     "data": {
      "text/html": [
       "<pre style=\"white-space:pre;overflow-x:auto;line-height:normal;font-family:Menlo,'DejaVu Sans Mono',consolas,'Courier New',monospace\"><span style=\"color: #7fbfbf; text-decoration-color: #7fbfbf\">           </span>Metadata not found for Tertiary and Quaternary Structural Basis of Oxygen Affinity in Human Hemoglobin  \n",
       "<span style=\"color: #7fbfbf; text-decoration-color: #7fbfbf\">           </span>as Revealed by Multiscale Simulations in SemanticScholarProvider.                                       \n",
       "</pre>\n"
      ],
      "text/plain": [
       "\u001b[2;36m          \u001b[0m\u001b[2;36m \u001b[0mMetadata not found for Tertiary and Quaternary Structural Basis of Oxygen Affinity in Human Hemoglobin  \n",
       "\u001b[2;36m           \u001b[0mas Revealed by Multiscale Simulations in SemanticScholarProvider.                                       \n"
      ]
     },
     "metadata": {},
     "output_type": "display_data"
    },
    {
     "data": {
      "text/html": [
       "<pre style=\"white-space:pre;overflow-x:auto;line-height:normal;font-family:Menlo,'DejaVu Sans Mono',consolas,'Courier New',monospace\"><span style=\"color: #7fbfbf; text-decoration-color: #7fbfbf\">           </span>Metadata not found for eLife’s Transparent Reporting Form in CrossrefProvider.                          \n",
       "</pre>\n"
      ],
      "text/plain": [
       "\u001b[2;36m          \u001b[0m\u001b[2;36m \u001b[0mMetadata not found for eLife’s Transparent Reporting Form in CrossrefProvider.                          \n"
      ]
     },
     "metadata": {},
     "output_type": "display_data"
    },
    {
     "data": {
      "text/html": [
       "<pre style=\"white-space:pre;overflow-x:auto;line-height:normal;font-family:Menlo,'DejaVu Sans Mono',consolas,'Courier New',monospace\"><span style=\"color: #7fbfbf; text-decoration-color: #7fbfbf\">           </span>Metadata not found for Ubiquitin: Molecular Modeling and Simulations in SemanticScholarProvider.        \n",
       "</pre>\n"
      ],
      "text/plain": [
       "\u001b[2;36m          \u001b[0m\u001b[2;36m \u001b[0mMetadata not found for Ubiquitin: Molecular Modeling and Simulations in SemanticScholarProvider.        \n"
      ]
     },
     "metadata": {},
     "output_type": "display_data"
    },
    {
     "data": {
      "text/html": [
       "<pre style=\"white-space:pre;overflow-x:auto;line-height:normal;font-family:Menlo,'DejaVu Sans Mono',consolas,'Courier New',monospace\"><span style=\"color: #7fbfbf; text-decoration-color: #7fbfbf\">           </span>Metadata not found for Mechanistic Insights into the Adsorption and Bioactivity of Fibronectin on       \n",
       "<span style=\"color: #7fbfbf; text-decoration-color: #7fbfbf\">           </span>Surfaces with Varying Chemistries by a Combination of Experimental Strategies and Molecular Simulations \n",
       "<span style=\"color: #7fbfbf; text-decoration-color: #7fbfbf\">           </span>in SemanticScholarProvider.                                                                             \n",
       "</pre>\n"
      ],
      "text/plain": [
       "\u001b[2;36m          \u001b[0m\u001b[2;36m \u001b[0mMetadata not found for Mechanistic Insights into the Adsorption and Bioactivity of Fibronectin on       \n",
       "\u001b[2;36m           \u001b[0mSurfaces with Varying Chemistries by a Combination of Experimental Strategies and Molecular Simulations \n",
       "\u001b[2;36m           \u001b[0min SemanticScholarProvider.                                                                             \n"
      ]
     },
     "metadata": {},
     "output_type": "display_data"
    },
    {
     "data": {
      "text/html": [
       "<pre style=\"white-space:pre;overflow-x:auto;line-height:normal;font-family:Menlo,'DejaVu Sans Mono',consolas,'Courier New',monospace\"><span style=\"color: #7fbfbf; text-decoration-color: #7fbfbf\">           </span>Metadata not found for Supporting Information: An Atomistic View on Human Hemoglobin Carbon Monoxide    \n",
       "<span style=\"color: #7fbfbf; text-decoration-color: #7fbfbf\">           </span>Migration Processes in SemanticScholarProvider.                                                         \n",
       "</pre>\n"
      ],
      "text/plain": [
       "\u001b[2;36m          \u001b[0m\u001b[2;36m \u001b[0mMetadata not found for Supporting Information: An Atomistic View on Human Hemoglobin Carbon Monoxide    \n",
       "\u001b[2;36m           \u001b[0mMigration Processes in SemanticScholarProvider.                                                         \n"
      ]
     },
     "metadata": {},
     "output_type": "display_data"
    },
    {
     "data": {
      "text/html": [
       "<pre style=\"white-space:pre;overflow-x:auto;line-height:normal;font-family:Menlo,'DejaVu Sans Mono',consolas,'Courier New',monospace\"><span style=\"color: #7fbfbf; text-decoration-color: #7fbfbf\">[19:57:16] </span>SEMANTIC_SCHOLAR_API_KEY environment variable not set. Semantic Scholar API rate limits may apply.      \n",
       "</pre>\n"
      ],
      "text/plain": [
       "\u001b[2;36m[19:57:16]\u001b[0m\u001b[2;36m \u001b[0mSEMANTIC_SCHOLAR_API_KEY environment variable not set. Semantic Scholar API rate limits may apply.      \n"
      ]
     },
     "metadata": {},
     "output_type": "display_data"
    },
    {
     "data": {
      "text/html": [
       "<pre style=\"white-space:pre;overflow-x:auto;line-height:normal;font-family:Menlo,'DejaVu Sans Mono',consolas,'Courier New',monospace\"><span style=\"color: #7fbfbf; text-decoration-color: #7fbfbf\">           </span>Metadata not found for Molecular Dynamics Simulations of Hemoglobin A in Different States and Bound to  \n",
       "<span style=\"color: #7fbfbf; text-decoration-color: #7fbfbf\">           </span>DPG: Effector-Linked Perturbation of Tertiary Conformations and HbA Concerted Dynamics in               \n",
       "<span style=\"color: #7fbfbf; text-decoration-color: #7fbfbf\">           </span>SemanticScholarProvider.                                                                                \n",
       "</pre>\n"
      ],
      "text/plain": [
       "\u001b[2;36m          \u001b[0m\u001b[2;36m \u001b[0mMetadata not found for Molecular Dynamics Simulations of Hemoglobin A in Different States and Bound to  \n",
       "\u001b[2;36m           \u001b[0mDPG: Effector-Linked Perturbation of Tertiary Conformations and HbA Concerted Dynamics in               \n",
       "\u001b[2;36m           \u001b[0mSemanticScholarProvider.                                                                                \n"
      ]
     },
     "metadata": {},
     "output_type": "display_data"
    },
    {
     "name": "stderr",
     "output_type": "stream",
     "text": [
      "Failed to execute tool call for tool paper_search.\n",
      "Traceback (most recent call last):\n",
      "  File \"/scratch/qcampbe2/myenvs/mdcrow/lib/python3.12/site-packages/aviary/env.py\", line 197, in _exec_tool_call\n",
      "    content = await tool._tool_fn(\n",
      "              ^^^^^^^^^^^^^^^^^^^^\n",
      "  File \"/scratch/qcampbe2/myenvs/mdcrow/lib/python3.12/site-packages/paperqa/agents/tools.py\", line 127, in paper_search\n",
      "    index = await get_directory_index(settings=self.settings)\n",
      "            ^^^^^^^^^^^^^^^^^^^^^^^^^^^^^^^^^^^^^^^^^^^^^^^^^\n",
      "  File \"/scratch/qcampbe2/myenvs/mdcrow/lib/python3.12/site-packages/paperqa/agents/search.py\", line 481, in get_directory_index\n",
      "    async with anyio.create_task_group() as tg:\n",
      "  File \"/scratch/qcampbe2/myenvs/mdcrow/lib/python3.12/site-packages/anyio/_backends/_asyncio.py\", line 597, in __aexit__\n",
      "    raise exceptions[0]\n",
      "  File \"/scratch/qcampbe2/myenvs/mdcrow/lib/python3.12/asyncio/tasks.py\", line 316, in __step_run_and_handle_result\n",
      "    result = coro.throw(exc)\n",
      "             ^^^^^^^^^^^^^^^\n",
      "  File \"/scratch/qcampbe2/myenvs/mdcrow/lib/python3.12/site-packages/paperqa/agents/search.py\", line 377, in process_file\n",
      "    await tmp_docs.aadd(\n",
      "  File \"/scratch/qcampbe2/myenvs/mdcrow/lib/python3.12/site-packages/paperqa/docs.py\", line 346, in aadd\n",
      "    doc = await metadata_client.upgrade_doc_to_doc_details(\n",
      "          ^^^^^^^^^^^^^^^^^^^^^^^^^^^^^^^^^^^^^^^^^^^^^^^^^\n",
      "  File \"/scratch/qcampbe2/myenvs/mdcrow/lib/python3.12/site-packages/paperqa/clients/__init__.py\", line 202, in upgrade_doc_to_doc_details\n",
      "    if doc_details := await self.query(**kwargs):\n",
      "                      ^^^^^^^^^^^^^^^^^^^^^^^^^^\n",
      "  File \"/scratch/qcampbe2/myenvs/mdcrow/lib/python3.12/site-packages/paperqa/clients/__init__.py\", line 150, in query\n",
      "    await gather_with_concurrency(\n",
      "  File \"/scratch/qcampbe2/myenvs/mdcrow/lib/python3.12/site-packages/paperqa/utils.py\", line 111, in gather_with_concurrency\n",
      "    return await asyncio.gather(*(sem_coro(c) for c in coros))\n",
      "           ^^^^^^^^^^^^^^^^^^^^^^^^^^^^^^^^^^^^^^^^^^^^^^^^^^^\n",
      "  File \"/scratch/qcampbe2/myenvs/mdcrow/lib/python3.12/asyncio/tasks.py\", line 385, in __wakeup\n",
      "    future.result()\n",
      "  File \"/scratch/qcampbe2/myenvs/mdcrow/lib/python3.12/asyncio/tasks.py\", line 314, in __step_run_and_handle_result\n",
      "    result = coro.send(None)\n",
      "             ^^^^^^^^^^^^^^^\n",
      "  File \"/scratch/qcampbe2/myenvs/mdcrow/lib/python3.12/site-packages/paperqa/utils.py\", line 109, in sem_coro\n",
      "    return await coro\n",
      "           ^^^^^^^^^^\n",
      "  File \"/scratch/qcampbe2/myenvs/mdcrow/lib/python3.12/site-packages/paperqa/clients/client_models.py\", line 108, in query\n",
      "    return await self._query(client_query)\n",
      "           ^^^^^^^^^^^^^^^^^^^^^^^^^^^^^^^\n",
      "  File \"/scratch/qcampbe2/myenvs/mdcrow/lib/python3.12/site-packages/paperqa/clients/semantic_scholar.py\", line 321, in _query\n",
      "    return await get_s2_doc_details_from_title(\n",
      "           ^^^^^^^^^^^^^^^^^^^^^^^^^^^^^^^^^^^^\n",
      "  File \"/scratch/qcampbe2/myenvs/mdcrow/lib/python3.12/site-packages/paperqa/clients/semantic_scholar.py\", line 306, in get_s2_doc_details_from_title\n",
      "    return await s2_title_search(\n",
      "           ^^^^^^^^^^^^^^^^^^^^^^\n",
      "  File \"/scratch/qcampbe2/myenvs/mdcrow/lib/python3.12/site-packages/paperqa/clients/semantic_scholar.py\", line 218, in s2_title_search\n",
      "    data = await _get_with_retrying(\n",
      "           ^^^^^^^^^^^^^^^^^^^^^^^^^\n",
      "  File \"/scratch/qcampbe2/myenvs/mdcrow/lib/python3.12/site-packages/tenacity/asyncio/__init__.py\", line 189, in async_wrapped\n",
      "    return await copy(fn, *args, **kwargs)\n",
      "           ^^^^^^^^^^^^^^^^^^^^^^^^^^^^^^^\n",
      "  File \"/scratch/qcampbe2/myenvs/mdcrow/lib/python3.12/site-packages/tenacity/asyncio/__init__.py\", line 111, in __call__\n",
      "    do = await self.iter(retry_state=retry_state)\n",
      "         ^^^^^^^^^^^^^^^^^^^^^^^^^^^^^^^^^^^^^^^^\n",
      "  File \"/scratch/qcampbe2/myenvs/mdcrow/lib/python3.12/site-packages/tenacity/asyncio/__init__.py\", line 153, in iter\n",
      "    result = await action(retry_state)\n",
      "             ^^^^^^^^^^^^^^^^^^^^^^^^^\n",
      "  File \"/scratch/qcampbe2/myenvs/mdcrow/lib/python3.12/site-packages/tenacity/_utils.py\", line 99, in inner\n",
      "    return call(*args, **kwargs)\n",
      "           ^^^^^^^^^^^^^^^^^^^^^\n",
      "  File \"/scratch/qcampbe2/myenvs/mdcrow/lib/python3.12/site-packages/tenacity/__init__.py\", line 398, in <lambda>\n",
      "    self._add_action_func(lambda rs: rs.outcome.result())\n",
      "                                     ^^^^^^^^^^^^^^^^^^^\n",
      "  File \"/scratch/qcampbe2/myenvs/mdcrow/lib/python3.12/concurrent/futures/_base.py\", line 449, in result\n",
      "    return self.__get_result()\n",
      "           ^^^^^^^^^^^^^^^^^^^\n",
      "  File \"/scratch/qcampbe2/myenvs/mdcrow/lib/python3.12/concurrent/futures/_base.py\", line 401, in __get_result\n",
      "    raise self._exception\n",
      "  File \"/scratch/qcampbe2/myenvs/mdcrow/lib/python3.12/site-packages/tenacity/asyncio/__init__.py\", line 114, in __call__\n",
      "    result = await fn(*args, **kwargs)\n",
      "             ^^^^^^^^^^^^^^^^^^^^^^^^^\n",
      "  File \"/scratch/qcampbe2/myenvs/mdcrow/lib/python3.12/site-packages/paperqa/utils.py\", line 419, in _get_with_retrying\n",
      "    response.raise_for_status()\n",
      "  File \"/scratch/qcampbe2/myenvs/mdcrow/lib/python3.12/site-packages/aiohttp/client_reqrep.py\", line 1070, in raise_for_status\n",
      "    raise ClientResponseError(\n",
      "aiohttp.client_exceptions.ClientResponseError: 429, message='', url=URL('https://api.semanticscholar.org/graph/v1/paper/search/match?query=Mace:+Release+0.1.0&fields=authors,externalIds,journal,title,year')\n"
     ]
    },
    {
     "data": {
      "text/html": [
       "<pre style=\"white-space:pre;overflow-x:auto;line-height:normal;font-family:Menlo,'DejaVu Sans Mono',consolas,'Courier New',monospace\"><span style=\"color: #7fbfbf; text-decoration-color: #7fbfbf\">           </span>Starting paper search for <span style=\"color: #008000; text-decoration-color: #008000\">'computational modeling extracellular matrix fibronectin, 2015-2024  '</span>.       \n",
       "</pre>\n"
      ],
      "text/plain": [
       "\u001b[2;36m          \u001b[0m\u001b[2;36m \u001b[0mStarting paper search for \u001b[32m'computational modeling extracellular matrix fibronectin, 2015-2024  '\u001b[0m.       \n"
      ]
     },
     "metadata": {},
     "output_type": "display_data"
    },
    {
     "data": {
      "text/html": [
       "<pre style=\"white-space:pre;overflow-x:auto;line-height:normal;font-family:Menlo,'DejaVu Sans Mono',consolas,'Courier New',monospace\"><span style=\"color: #7fbfbf; text-decoration-color: #7fbfbf\">           </span>New file to index: lucas_2012_hemoglobin_sim.pdf<span style=\"color: #808000; text-decoration-color: #808000\">...</span>                                                     \n",
       "</pre>\n"
      ],
      "text/plain": [
       "\u001b[2;36m          \u001b[0m\u001b[2;36m \u001b[0mNew file to index: lucas_2012_hemoglobin_sim.pdf\u001b[33m...\u001b[0m                                                     \n"
      ]
     },
     "metadata": {},
     "output_type": "display_data"
    },
    {
     "data": {
      "text/html": [
       "<pre style=\"white-space:pre;overflow-x:auto;line-height:normal;font-family:Menlo,'DejaVu Sans Mono',consolas,'Courier New',monospace\"><span style=\"color: #7fbfbf; text-decoration-color: #7fbfbf\">           </span>New file to index: cong_2017_trypsin-ligand.pdf<span style=\"color: #808000; text-decoration-color: #808000\">...</span>                                                      \n",
       "</pre>\n"
      ],
      "text/plain": [
       "\u001b[2;36m          \u001b[0m\u001b[2;36m \u001b[0mNew file to index: cong_2017_trypsin-ligand.pdf\u001b[33m...\u001b[0m                                                      \n"
      ]
     },
     "metadata": {},
     "output_type": "display_data"
    },
    {
     "data": {
      "text/html": [
       "<pre style=\"white-space:pre;overflow-x:auto;line-height:normal;font-family:Menlo,'DejaVu Sans Mono',consolas,'Courier New',monospace\"><span style=\"color: #7fbfbf; text-decoration-color: #7fbfbf\">           </span>New file to index: Vittaladevaram_2023_fibronectin.pdf<span style=\"color: #808000; text-decoration-color: #808000\">...</span>                                               \n",
       "</pre>\n"
      ],
      "text/plain": [
       "\u001b[2;36m          \u001b[0m\u001b[2;36m \u001b[0mNew file to index: Vittaladevaram_2023_fibronectin.pdf\u001b[33m...\u001b[0m                                               \n"
      ]
     },
     "metadata": {},
     "output_type": "display_data"
    },
    {
     "data": {
      "text/html": [
       "<pre style=\"white-space:pre;overflow-x:auto;line-height:normal;font-family:Menlo,'DejaVu Sans Mono',consolas,'Courier New',monospace\"><span style=\"color: #7fbfbf; text-decoration-color: #7fbfbf\">           </span>New file to index: oliveira_2021_b2m_2yxf.pdf<span style=\"color: #808000; text-decoration-color: #808000\">...</span>                                                        \n",
       "</pre>\n"
      ],
      "text/plain": [
       "\u001b[2;36m          \u001b[0m\u001b[2;36m \u001b[0mNew file to index: oliveira_2021_b2m_2yxf.pdf\u001b[33m...\u001b[0m                                                        \n"
      ]
     },
     "metadata": {},
     "output_type": "display_data"
    },
    {
     "data": {
      "text/html": [
       "<pre style=\"white-space:pre;overflow-x:auto;line-height:normal;font-family:Menlo,'DejaVu Sans Mono',consolas,'Courier New',monospace\"><span style=\"color: #7fbfbf; text-decoration-color: #7fbfbf\">           </span>New file to index: ganoth_2013_ubiquitin.pdf<span style=\"color: #808000; text-decoration-color: #808000\">...</span>                                                         \n",
       "</pre>\n"
      ],
      "text/plain": [
       "\u001b[2;36m          \u001b[0m\u001b[2;36m \u001b[0mNew file to index: ganoth_2013_ubiquitin.pdf\u001b[33m...\u001b[0m                                                         \n"
      ]
     },
     "metadata": {},
     "output_type": "display_data"
    },
    {
     "data": {
      "text/html": [
       "<pre style=\"white-space:pre;overflow-x:auto;line-height:normal;font-family:Menlo,'DejaVu Sans Mono',consolas,'Courier New',monospace\"><span style=\"color: #7fbfbf; text-decoration-color: #7fbfbf\">           </span>New file to index: morand_2021_b2m_2yxf.pdf<span style=\"color: #808000; text-decoration-color: #808000\">...</span>                                                          \n",
       "</pre>\n"
      ],
      "text/plain": [
       "\u001b[2;36m          \u001b[0m\u001b[2;36m \u001b[0mNew file to index: morand_2021_b2m_2yxf.pdf\u001b[33m...\u001b[0m                                                          \n"
      ]
     },
     "metadata": {},
     "output_type": "display_data"
    },
    {
     "data": {
      "text/html": [
       "<pre style=\"white-space:pre;overflow-x:auto;line-height:normal;font-family:Menlo,'DejaVu Sans Mono',consolas,'Courier New',monospace\"><span style=\"color: #7fbfbf; text-decoration-color: #7fbfbf\">[19:57:17] </span>New file to index: clark_1985_hemoglobin.pdf<span style=\"color: #808000; text-decoration-color: #808000\">...</span>                                                         \n",
       "</pre>\n"
      ],
      "text/plain": [
       "\u001b[2;36m[19:57:17]\u001b[0m\u001b[2;36m \u001b[0mNew file to index: clark_1985_hemoglobin.pdf\u001b[33m...\u001b[0m                                                         \n"
      ]
     },
     "metadata": {},
     "output_type": "display_data"
    },
    {
     "data": {
      "text/html": [
       "<pre style=\"white-space:pre;overflow-x:auto;line-height:normal;font-family:Menlo,'DejaVu Sans Mono',consolas,'Courier New',monospace\"><span style=\"color: #7fbfbf; text-decoration-color: #7fbfbf\">           </span>New file to index: hage_2018_hemoglobin_sim_SI.pdf<span style=\"color: #808000; text-decoration-color: #808000\">...</span>                                                   \n",
       "</pre>\n"
      ],
      "text/plain": [
       "\u001b[2;36m          \u001b[0m\u001b[2;36m \u001b[0mNew file to index: hage_2018_hemoglobin_sim_SI.pdf\u001b[33m...\u001b[0m                                                   \n"
      ]
     },
     "metadata": {},
     "output_type": "display_data"
    },
    {
     "data": {
      "text/html": [
       "<pre style=\"white-space:pre;overflow-x:auto;line-height:normal;font-family:Menlo,'DejaVu Sans Mono',consolas,'Courier New',monospace\"><span style=\"color: #7fbfbf; text-decoration-color: #7fbfbf\">           </span>New file to index: <span style=\"color: #008080; text-decoration-color: #008080; font-weight: bold\">10.</span>1002slct.<span style=\"color: #008080; text-decoration-color: #008080; font-weight: bold\">201801398.</span>pdf<span style=\"color: #808000; text-decoration-color: #808000\">...</span>                                                         \n",
       "</pre>\n"
      ],
      "text/plain": [
       "\u001b[2;36m          \u001b[0m\u001b[2;36m \u001b[0mNew file to index: \u001b[1;36m10.\u001b[0m1002slct.\u001b[1;36m201801398.\u001b[0mpdf\u001b[33m...\u001b[0m                                                         \n"
      ]
     },
     "metadata": {},
     "output_type": "display_data"
    },
    {
     "data": {
      "text/html": [
       "<pre style=\"white-space:pre;overflow-x:auto;line-height:normal;font-family:Menlo,'DejaVu Sans Mono',consolas,'Courier New',monospace\"><span style=\"color: #7fbfbf; text-decoration-color: #7fbfbf\">           </span>New file to index: paci_1999_fibronectin_1fnf.pdf<span style=\"color: #808000; text-decoration-color: #808000\">...</span>                                                    \n",
       "</pre>\n"
      ],
      "text/plain": [
       "\u001b[2;36m          \u001b[0m\u001b[2;36m \u001b[0mNew file to index: paci_1999_fibronectin_1fnf.pdf\u001b[33m...\u001b[0m                                                    \n"
      ]
     },
     "metadata": {},
     "output_type": "display_data"
    },
    {
     "data": {
      "text/html": [
       "<pre style=\"white-space:pre;overflow-x:auto;line-height:normal;font-family:Menlo,'DejaVu Sans Mono',consolas,'Courier New',monospace\"><span style=\"color: #7fbfbf; text-decoration-color: #7fbfbf\">           </span>New file to index: hage_2018_hemoglobin_sim.pdf<span style=\"color: #808000; text-decoration-color: #808000\">...</span>                                                      \n",
       "</pre>\n"
      ],
      "text/plain": [
       "\u001b[2;36m          \u001b[0m\u001b[2;36m \u001b[0mNew file to index: hage_2018_hemoglobin_sim.pdf\u001b[33m...\u001b[0m                                                      \n"
      ]
     },
     "metadata": {},
     "output_type": "display_data"
    },
    {
     "data": {
      "text/html": [
       "<pre style=\"white-space:pre;overflow-x:auto;line-height:normal;font-family:Menlo,'DejaVu Sans Mono',consolas,'Courier New',monospace\"><span style=\"color: #7fbfbf; text-decoration-color: #7fbfbf\">           </span>New file to index: dunkelberger-et-al-2018_hemoglobin.pdf<span style=\"color: #808000; text-decoration-color: #808000\">...</span>                                            \n",
       "</pre>\n"
      ],
      "text/plain": [
       "\u001b[2;36m          \u001b[0m\u001b[2;36m \u001b[0mNew file to index: dunkelberger-et-al-2018_hemoglobin.pdf\u001b[33m...\u001b[0m                                            \n"
      ]
     },
     "metadata": {},
     "output_type": "display_data"
    },
    {
     "data": {
      "text/html": [
       "<pre style=\"white-space:pre;overflow-x:auto;line-height:normal;font-family:Menlo,'DejaVu Sans Mono',consolas,'Courier New',monospace\"><span style=\"color: #7fbfbf; text-decoration-color: #7fbfbf\">           </span>New file to index: liao_2014_fibronectin_sim.pdf<span style=\"color: #808000; text-decoration-color: #808000\">...</span>                                                     \n",
       "</pre>\n"
      ],
      "text/plain": [
       "\u001b[2;36m          \u001b[0m\u001b[2;36m \u001b[0mNew file to index: liao_2014_fibronectin_sim.pdf\u001b[33m...\u001b[0m                                                     \n"
      ]
     },
     "metadata": {},
     "output_type": "display_data"
    },
    {
     "data": {
      "text/html": [
       "<pre style=\"white-space:pre;overflow-x:auto;line-height:normal;font-family:Menlo,'DejaVu Sans Mono',consolas,'Courier New',monospace\"><span style=\"color: #7fbfbf; text-decoration-color: #7fbfbf\">           </span>New file to index: hao_2021_fibronectin.pdf<span style=\"color: #808000; text-decoration-color: #808000\">...</span>                                                          \n",
       "</pre>\n"
      ],
      "text/plain": [
       "\u001b[2;36m          \u001b[0m\u001b[2;36m \u001b[0mNew file to index: hao_2021_fibronectin.pdf\u001b[33m...\u001b[0m                                                          \n"
      ]
     },
     "metadata": {},
     "output_type": "display_data"
    },
    {
     "data": {
      "text/html": [
       "<pre style=\"white-space:pre;overflow-x:auto;line-height:normal;font-family:Menlo,'DejaVu Sans Mono',consolas,'Courier New',monospace\"><span style=\"color: #7fbfbf; text-decoration-color: #7fbfbf\">           </span>New file to index: mace_docs_2024.pdf<span style=\"color: #808000; text-decoration-color: #808000\">...</span>                                                                \n",
       "</pre>\n"
      ],
      "text/plain": [
       "\u001b[2;36m          \u001b[0m\u001b[2;36m \u001b[0mNew file to index: mace_docs_2024.pdf\u001b[33m...\u001b[0m                                                                \n"
      ]
     },
     "metadata": {},
     "output_type": "display_data"
    },
    {
     "data": {
      "text/html": [
       "<pre style=\"white-space:pre;overflow-x:auto;line-height:normal;font-family:Menlo,'DejaVu Sans Mono',consolas,'Courier New',monospace\"><span style=\"color: #7fbfbf; text-decoration-color: #7fbfbf\">           </span>New file to index: bringas_2017_hemoglobin.pdf<span style=\"color: #808000; text-decoration-color: #808000\">...</span>                                                       \n",
       "</pre>\n"
      ],
      "text/plain": [
       "\u001b[2;36m          \u001b[0m\u001b[2;36m \u001b[0mNew file to index: bringas_2017_hemoglobin.pdf\u001b[33m...\u001b[0m                                                       \n"
      ]
     },
     "metadata": {},
     "output_type": "display_data"
    },
    {
     "data": {
      "text/html": [
       "<pre style=\"white-space:pre;overflow-x:auto;line-height:normal;font-family:Menlo,'DejaVu Sans Mono',consolas,'Courier New',monospace\"><span style=\"color: #7fbfbf; text-decoration-color: #7fbfbf\">           </span>New file to index: sahoo-<span style=\"color: #008080; text-decoration-color: #008080; font-weight: bold\">2019</span>-unfolding-dynamics-of-ubiquitin.pdf<span style=\"color: #808000; text-decoration-color: #808000\">...</span>                                    \n",
       "</pre>\n"
      ],
      "text/plain": [
       "\u001b[2;36m          \u001b[0m\u001b[2;36m \u001b[0mNew file to index: sahoo-\u001b[1;36m2019\u001b[0m-unfolding-dynamics-of-ubiquitin.pdf\u001b[33m...\u001b[0m                                    \n"
      ]
     },
     "metadata": {},
     "output_type": "display_data"
    },
    {
     "data": {
      "text/html": [
       "<pre style=\"white-space:pre;overflow-x:auto;line-height:normal;font-family:Menlo,'DejaVu Sans Mono',consolas,'Courier New',monospace\"><span style=\"color: #7fbfbf; text-decoration-color: #7fbfbf\">[19:57:18] </span>New file to index: liamas_2018_fibronectin_1fnf.pdf<span style=\"color: #808000; text-decoration-color: #808000\">...</span>                                                  \n",
       "</pre>\n"
      ],
      "text/plain": [
       "\u001b[2;36m[19:57:18]\u001b[0m\u001b[2;36m \u001b[0mNew file to index: liamas_2018_fibronectin_1fnf.pdf\u001b[33m...\u001b[0m                                                  \n"
      ]
     },
     "metadata": {},
     "output_type": "display_data"
    },
    {
     "data": {
      "text/html": [
       "<pre style=\"white-space:pre;overflow-x:auto;line-height:normal;font-family:Menlo,'DejaVu Sans Mono',consolas,'Courier New',monospace\"><span style=\"color: #7fbfbf; text-decoration-color: #7fbfbf\">           </span>New file to index: sala_2018_proteinstability.pdf<span style=\"color: #808000; text-decoration-color: #808000\">...</span>                                                    \n",
       "</pre>\n"
      ],
      "text/plain": [
       "\u001b[2;36m          \u001b[0m\u001b[2;36m \u001b[0mNew file to index: sala_2018_proteinstability.pdf\u001b[33m...\u001b[0m                                                    \n"
      ]
     },
     "metadata": {},
     "output_type": "display_data"
    },
    {
     "data": {
      "text/html": [
       "<pre style=\"white-space:pre;overflow-x:auto;line-height:normal;font-family:Menlo,'DejaVu Sans Mono',consolas,'Courier New',monospace\"><span style=\"color: #7fbfbf; text-decoration-color: #7fbfbf\">           </span>New file to index: laberge_2008_hemoglobin_sim.pdf<span style=\"color: #808000; text-decoration-color: #808000\">...</span>                                                   \n",
       "</pre>\n"
      ],
      "text/plain": [
       "\u001b[2;36m          \u001b[0m\u001b[2;36m \u001b[0mNew file to index: laberge_2008_hemoglobin_sim.pdf\u001b[33m...\u001b[0m                                                   \n"
      ]
     },
     "metadata": {},
     "output_type": "display_data"
    },
    {
     "data": {
      "text/html": [
       "<pre style=\"white-space:pre;overflow-x:auto;line-height:normal;font-family:Menlo,'DejaVu Sans Mono',consolas,'Courier New',monospace\"><span style=\"color: #7fbfbf; text-decoration-color: #7fbfbf\">           </span>New file to index: gee_2008_fibronectin_1fnf.pdf<span style=\"color: #808000; text-decoration-color: #808000\">...</span>                                                     \n",
       "</pre>\n"
      ],
      "text/plain": [
       "\u001b[2;36m          \u001b[0m\u001b[2;36m \u001b[0mNew file to index: gee_2008_fibronectin_1fnf.pdf\u001b[33m...\u001b[0m                                                     \n"
      ]
     },
     "metadata": {},
     "output_type": "display_data"
    },
    {
     "data": {
      "text/html": [
       "<pre style=\"white-space:pre;overflow-x:auto;line-height:normal;font-family:Menlo,'DejaVu Sans Mono',consolas,'Courier New',monospace\"><span style=\"color: #7fbfbf; text-decoration-color: #7fbfbf\">           </span>New file to index: lucas_2012_hemoglobin_sim_SI.pdf<span style=\"color: #808000; text-decoration-color: #808000\">...</span>                                                  \n",
       "</pre>\n"
      ],
      "text/plain": [
       "\u001b[2;36m          \u001b[0m\u001b[2;36m \u001b[0mNew file to index: lucas_2012_hemoglobin_sim_SI.pdf\u001b[33m...\u001b[0m                                                  \n"
      ]
     },
     "metadata": {},
     "output_type": "display_data"
    },
    {
     "data": {
      "text/html": [
       "<pre style=\"white-space:pre;overflow-x:auto;line-height:normal;font-family:Menlo,'DejaVu Sans Mono',consolas,'Courier New',monospace\"><span style=\"color: #7fbfbf; text-decoration-color: #7fbfbf\">           </span>New file to index: lemmon_2017_fibronectin.pdf<span style=\"color: #808000; text-decoration-color: #808000\">...</span>                                                       \n",
       "</pre>\n"
      ],
      "text/plain": [
       "\u001b[2;36m          \u001b[0m\u001b[2;36m \u001b[0mNew file to index: lemmon_2017_fibronectin.pdf\u001b[33m...\u001b[0m                                                       \n"
      ]
     },
     "metadata": {},
     "output_type": "display_data"
    },
    {
     "data": {
      "text/html": [
       "<pre style=\"white-space:pre;overflow-x:auto;line-height:normal;font-family:Menlo,'DejaVu Sans Mono',consolas,'Courier New',monospace\"><span style=\"color: #7fbfbf; text-decoration-color: #7fbfbf\">[19:57:19] </span>New file to index:                                                                                      \n",
       "<span style=\"color: #7fbfbf; text-decoration-color: #7fbfbf\">           </span>mshirts%2C+<span style=\"color: #008080; text-decoration-color: #008080; font-weight: bold\">5957</span>-best-practices-for-foundations-in-molecular-simulations-article-v1-<span style=\"color: #008080; text-decoration-color: #008080; font-weight: bold\">0</span>+%<span style=\"color: #008080; text-decoration-color: #008080; font-weight: bold\">281</span>%<span style=\"color: #008080; text-decoration-color: #008080; font-weight: bold\">29.</span>pdf<span style=\"color: #808000; text-decoration-color: #808000\">...</span>     \n",
       "</pre>\n"
      ],
      "text/plain": [
       "\u001b[2;36m[19:57:19]\u001b[0m\u001b[2;36m \u001b[0mNew file to index:                                                                                      \n",
       "\u001b[2;36m           \u001b[0mmshirts%2C+\u001b[1;36m5957\u001b[0m-best-practices-for-foundations-in-molecular-simulations-article-v1-\u001b[1;36m0\u001b[0m+%\u001b[1;36m281\u001b[0m%\u001b[1;36m29.\u001b[0mpdf\u001b[33m...\u001b[0m     \n"
      ]
     },
     "metadata": {},
     "output_type": "display_data"
    },
    {
     "data": {
      "text/html": [
       "<pre style=\"white-space:pre;overflow-x:auto;line-height:normal;font-family:Menlo,'DejaVu Sans Mono',consolas,'Courier New',monospace\"><span style=\"color: #7fbfbf; text-decoration-color: #7fbfbf\">           </span>New file to index: raffaini-ganazzoli-<span style=\"color: #008080; text-decoration-color: #008080; font-weight: bold\">2004</span>-fibronectin_sim.pdf<span style=\"color: #808000; text-decoration-color: #808000\">...</span>                                       \n",
       "</pre>\n"
      ],
      "text/plain": [
       "\u001b[2;36m          \u001b[0m\u001b[2;36m \u001b[0mNew file to index: raffaini-ganazzoli-\u001b[1;36m2004\u001b[0m-fibronectin_sim.pdf\u001b[33m...\u001b[0m                                       \n"
      ]
     },
     "metadata": {},
     "output_type": "display_data"
    },
    {
     "data": {
      "text/html": [
       "<pre style=\"white-space:pre;overflow-x:auto;line-height:normal;font-family:Menlo,'DejaVu Sans Mono',consolas,'Courier New',monospace\"><span style=\"color: #7fbfbf; text-decoration-color: #7fbfbf\">[19:57:20] </span>SEMANTIC_SCHOLAR_API_KEY environment variable not set. Semantic Scholar API rate limits may apply.      \n",
       "</pre>\n"
      ],
      "text/plain": [
       "\u001b[2;36m[19:57:20]\u001b[0m\u001b[2;36m \u001b[0mSEMANTIC_SCHOLAR_API_KEY environment variable not set. Semantic Scholar API rate limits may apply.      \n"
      ]
     },
     "metadata": {},
     "output_type": "display_data"
    },
    {
     "data": {
      "text/html": [
       "<pre style=\"white-space:pre;overflow-x:auto;line-height:normal;font-family:Menlo,'DejaVu Sans Mono',consolas,'Courier New',monospace\"><span style=\"color: #7fbfbf; text-decoration-color: #7fbfbf\">           </span>SEMANTIC_SCHOLAR_API_KEY environment variable not set. Semantic Scholar API rate limits may apply.      \n",
       "</pre>\n"
      ],
      "text/plain": [
       "\u001b[2;36m          \u001b[0m\u001b[2;36m \u001b[0mSEMANTIC_SCHOLAR_API_KEY environment variable not set. Semantic Scholar API rate limits may apply.      \n"
      ]
     },
     "metadata": {},
     "output_type": "display_data"
    },
    {
     "data": {
      "text/html": [
       "<pre style=\"white-space:pre;overflow-x:auto;line-height:normal;font-family:Menlo,'DejaVu Sans Mono',consolas,'Courier New',monospace\"><span style=\"color: #7fbfbf; text-decoration-color: #7fbfbf\">           </span>SEMANTIC_SCHOLAR_API_KEY environment variable not set. Semantic Scholar API rate limits may apply.      \n",
       "</pre>\n"
      ],
      "text/plain": [
       "\u001b[2;36m          \u001b[0m\u001b[2;36m \u001b[0mSEMANTIC_SCHOLAR_API_KEY environment variable not set. Semantic Scholar API rate limits may apply.      \n"
      ]
     },
     "metadata": {},
     "output_type": "display_data"
    },
    {
     "data": {
      "text/html": [
       "<pre style=\"white-space:pre;overflow-x:auto;line-height:normal;font-family:Menlo,'DejaVu Sans Mono',consolas,'Courier New',monospace\"><span style=\"color: #7fbfbf; text-decoration-color: #7fbfbf\">[19:57:21] </span>SEMANTIC_SCHOLAR_API_KEY environment variable not set. Semantic Scholar API rate limits may apply.      \n",
       "</pre>\n"
      ],
      "text/plain": [
       "\u001b[2;36m[19:57:21]\u001b[0m\u001b[2;36m \u001b[0mSEMANTIC_SCHOLAR_API_KEY environment variable not set. Semantic Scholar API rate limits may apply.      \n"
      ]
     },
     "metadata": {},
     "output_type": "display_data"
    },
    {
     "data": {
      "text/html": [
       "<pre style=\"white-space:pre;overflow-x:auto;line-height:normal;font-family:Menlo,'DejaVu Sans Mono',consolas,'Courier New',monospace\"><span style=\"color: #7fbfbf; text-decoration-color: #7fbfbf\">           </span>SEMANTIC_SCHOLAR_API_KEY environment variable not set. Semantic Scholar API rate limits may apply.      \n",
       "</pre>\n"
      ],
      "text/plain": [
       "\u001b[2;36m          \u001b[0m\u001b[2;36m \u001b[0mSEMANTIC_SCHOLAR_API_KEY environment variable not set. Semantic Scholar API rate limits may apply.      \n"
      ]
     },
     "metadata": {},
     "output_type": "display_data"
    },
    {
     "name": "stderr",
     "output_type": "stream",
     "text": [
      "Failed to execute tool call for tool paper_search.\n",
      "Traceback (most recent call last):\n",
      "  File \"/scratch/qcampbe2/myenvs/mdcrow/lib/python3.12/site-packages/aviary/env.py\", line 197, in _exec_tool_call\n",
      "    content = await tool._tool_fn(\n",
      "              ^^^^^^^^^^^^^^^^^^^^\n",
      "  File \"/scratch/qcampbe2/myenvs/mdcrow/lib/python3.12/site-packages/paperqa/agents/tools.py\", line 127, in paper_search\n",
      "    index = await get_directory_index(settings=self.settings)\n",
      "            ^^^^^^^^^^^^^^^^^^^^^^^^^^^^^^^^^^^^^^^^^^^^^^^^^\n",
      "  File \"/scratch/qcampbe2/myenvs/mdcrow/lib/python3.12/site-packages/paperqa/agents/search.py\", line 481, in get_directory_index\n",
      "    async with anyio.create_task_group() as tg:\n",
      "  File \"/scratch/qcampbe2/myenvs/mdcrow/lib/python3.12/site-packages/anyio/_backends/_asyncio.py\", line 597, in __aexit__\n",
      "    raise exceptions[0]\n",
      "  File \"/scratch/qcampbe2/myenvs/mdcrow/lib/python3.12/asyncio/tasks.py\", line 316, in __step_run_and_handle_result\n",
      "    result = coro.throw(exc)\n",
      "             ^^^^^^^^^^^^^^^\n",
      "  File \"/scratch/qcampbe2/myenvs/mdcrow/lib/python3.12/site-packages/paperqa/agents/search.py\", line 377, in process_file\n",
      "    await tmp_docs.aadd(\n",
      "  File \"/scratch/qcampbe2/myenvs/mdcrow/lib/python3.12/site-packages/paperqa/docs.py\", line 346, in aadd\n",
      "    doc = await metadata_client.upgrade_doc_to_doc_details(\n",
      "          ^^^^^^^^^^^^^^^^^^^^^^^^^^^^^^^^^^^^^^^^^^^^^^^^^\n",
      "  File \"/scratch/qcampbe2/myenvs/mdcrow/lib/python3.12/site-packages/paperqa/clients/__init__.py\", line 202, in upgrade_doc_to_doc_details\n",
      "    if doc_details := await self.query(**kwargs):\n",
      "                      ^^^^^^^^^^^^^^^^^^^^^^^^^^\n",
      "  File \"/scratch/qcampbe2/myenvs/mdcrow/lib/python3.12/site-packages/paperqa/clients/__init__.py\", line 150, in query\n",
      "    await gather_with_concurrency(\n",
      "  File \"/scratch/qcampbe2/myenvs/mdcrow/lib/python3.12/site-packages/paperqa/utils.py\", line 111, in gather_with_concurrency\n",
      "    return await asyncio.gather(*(sem_coro(c) for c in coros))\n",
      "           ^^^^^^^^^^^^^^^^^^^^^^^^^^^^^^^^^^^^^^^^^^^^^^^^^^^\n",
      "  File \"/scratch/qcampbe2/myenvs/mdcrow/lib/python3.12/asyncio/tasks.py\", line 385, in __wakeup\n",
      "    future.result()\n",
      "  File \"/scratch/qcampbe2/myenvs/mdcrow/lib/python3.12/asyncio/tasks.py\", line 314, in __step_run_and_handle_result\n",
      "    result = coro.send(None)\n",
      "             ^^^^^^^^^^^^^^^\n",
      "  File \"/scratch/qcampbe2/myenvs/mdcrow/lib/python3.12/site-packages/paperqa/utils.py\", line 109, in sem_coro\n",
      "    return await coro\n",
      "           ^^^^^^^^^^\n",
      "  File \"/scratch/qcampbe2/myenvs/mdcrow/lib/python3.12/site-packages/paperqa/clients/client_models.py\", line 108, in query\n",
      "    return await self._query(client_query)\n",
      "           ^^^^^^^^^^^^^^^^^^^^^^^^^^^^^^^\n",
      "  File \"/scratch/qcampbe2/myenvs/mdcrow/lib/python3.12/site-packages/paperqa/clients/semantic_scholar.py\", line 321, in _query\n",
      "    return await get_s2_doc_details_from_title(\n",
      "           ^^^^^^^^^^^^^^^^^^^^^^^^^^^^^^^^^^^^\n",
      "  File \"/scratch/qcampbe2/myenvs/mdcrow/lib/python3.12/site-packages/paperqa/clients/semantic_scholar.py\", line 306, in get_s2_doc_details_from_title\n",
      "    return await s2_title_search(\n",
      "           ^^^^^^^^^^^^^^^^^^^^^^\n",
      "  File \"/scratch/qcampbe2/myenvs/mdcrow/lib/python3.12/site-packages/paperqa/clients/semantic_scholar.py\", line 218, in s2_title_search\n",
      "    data = await _get_with_retrying(\n",
      "           ^^^^^^^^^^^^^^^^^^^^^^^^^\n",
      "  File \"/scratch/qcampbe2/myenvs/mdcrow/lib/python3.12/site-packages/tenacity/asyncio/__init__.py\", line 189, in async_wrapped\n",
      "    return await copy(fn, *args, **kwargs)\n",
      "           ^^^^^^^^^^^^^^^^^^^^^^^^^^^^^^^\n",
      "  File \"/scratch/qcampbe2/myenvs/mdcrow/lib/python3.12/site-packages/tenacity/asyncio/__init__.py\", line 111, in __call__\n",
      "    do = await self.iter(retry_state=retry_state)\n",
      "         ^^^^^^^^^^^^^^^^^^^^^^^^^^^^^^^^^^^^^^^^\n",
      "  File \"/scratch/qcampbe2/myenvs/mdcrow/lib/python3.12/site-packages/tenacity/asyncio/__init__.py\", line 153, in iter\n",
      "    result = await action(retry_state)\n",
      "             ^^^^^^^^^^^^^^^^^^^^^^^^^\n",
      "  File \"/scratch/qcampbe2/myenvs/mdcrow/lib/python3.12/site-packages/tenacity/_utils.py\", line 99, in inner\n",
      "    return call(*args, **kwargs)\n",
      "           ^^^^^^^^^^^^^^^^^^^^^\n",
      "  File \"/scratch/qcampbe2/myenvs/mdcrow/lib/python3.12/site-packages/tenacity/__init__.py\", line 398, in <lambda>\n",
      "    self._add_action_func(lambda rs: rs.outcome.result())\n",
      "                                     ^^^^^^^^^^^^^^^^^^^\n",
      "  File \"/scratch/qcampbe2/myenvs/mdcrow/lib/python3.12/concurrent/futures/_base.py\", line 449, in result\n",
      "    return self.__get_result()\n",
      "           ^^^^^^^^^^^^^^^^^^^\n",
      "  File \"/scratch/qcampbe2/myenvs/mdcrow/lib/python3.12/concurrent/futures/_base.py\", line 401, in __get_result\n",
      "    raise self._exception\n",
      "  File \"/scratch/qcampbe2/myenvs/mdcrow/lib/python3.12/site-packages/tenacity/asyncio/__init__.py\", line 114, in __call__\n",
      "    result = await fn(*args, **kwargs)\n",
      "             ^^^^^^^^^^^^^^^^^^^^^^^^^\n",
      "  File \"/scratch/qcampbe2/myenvs/mdcrow/lib/python3.12/site-packages/paperqa/utils.py\", line 419, in _get_with_retrying\n",
      "    response.raise_for_status()\n",
      "  File \"/scratch/qcampbe2/myenvs/mdcrow/lib/python3.12/site-packages/aiohttp/client_reqrep.py\", line 1070, in raise_for_status\n",
      "    raise ClientResponseError(\n",
      "aiohttp.client_exceptions.ClientResponseError: 429, message='', url=URL('https://api.semanticscholar.org/graph/v1/paper/search/match?query=Dissecting+Structural+Aspects+of+Protein+Stability&fields=authors,externalIds,journal,title,year')\n"
     ]
    },
    {
     "data": {
      "text/html": [
       "<pre style=\"white-space:pre;overflow-x:auto;line-height:normal;font-family:Menlo,'DejaVu Sans Mono',consolas,'Courier New',monospace\"><span style=\"color: #7fbfbf; text-decoration-color: #7fbfbf\">           </span>Starting paper search for <span style=\"color: #008000; text-decoration-color: #008000\">'fibronectin biophysical properties simulation, 2018-2024  '</span>.                 \n",
       "</pre>\n"
      ],
      "text/plain": [
       "\u001b[2;36m          \u001b[0m\u001b[2;36m \u001b[0mStarting paper search for \u001b[32m'fibronectin biophysical properties simulation, 2018-2024  '\u001b[0m.                 \n"
      ]
     },
     "metadata": {},
     "output_type": "display_data"
    },
    {
     "data": {
      "text/html": [
       "<pre style=\"white-space:pre;overflow-x:auto;line-height:normal;font-family:Menlo,'DejaVu Sans Mono',consolas,'Courier New',monospace\"><span style=\"color: #7fbfbf; text-decoration-color: #7fbfbf\">           </span>New file to index: lucas_2012_hemoglobin_sim.pdf<span style=\"color: #808000; text-decoration-color: #808000\">...</span>                                                     \n",
       "</pre>\n"
      ],
      "text/plain": [
       "\u001b[2;36m          \u001b[0m\u001b[2;36m \u001b[0mNew file to index: lucas_2012_hemoglobin_sim.pdf\u001b[33m...\u001b[0m                                                     \n"
      ]
     },
     "metadata": {},
     "output_type": "display_data"
    },
    {
     "data": {
      "text/html": [
       "<pre style=\"white-space:pre;overflow-x:auto;line-height:normal;font-family:Menlo,'DejaVu Sans Mono',consolas,'Courier New',monospace\"><span style=\"color: #7fbfbf; text-decoration-color: #7fbfbf\">           </span>New file to index: bringas_2017_hemoglobin.pdf<span style=\"color: #808000; text-decoration-color: #808000\">...</span>                                                       \n",
       "</pre>\n"
      ],
      "text/plain": [
       "\u001b[2;36m          \u001b[0m\u001b[2;36m \u001b[0mNew file to index: bringas_2017_hemoglobin.pdf\u001b[33m...\u001b[0m                                                       \n"
      ]
     },
     "metadata": {},
     "output_type": "display_data"
    },
    {
     "data": {
      "text/html": [
       "<pre style=\"white-space:pre;overflow-x:auto;line-height:normal;font-family:Menlo,'DejaVu Sans Mono',consolas,'Courier New',monospace\"><span style=\"color: #7fbfbf; text-decoration-color: #7fbfbf\">           </span>New file to index: Vittaladevaram_2023_fibronectin.pdf<span style=\"color: #808000; text-decoration-color: #808000\">...</span>                                               \n",
       "</pre>\n"
      ],
      "text/plain": [
       "\u001b[2;36m          \u001b[0m\u001b[2;36m \u001b[0mNew file to index: Vittaladevaram_2023_fibronectin.pdf\u001b[33m...\u001b[0m                                               \n"
      ]
     },
     "metadata": {},
     "output_type": "display_data"
    },
    {
     "data": {
      "text/html": [
       "<pre style=\"white-space:pre;overflow-x:auto;line-height:normal;font-family:Menlo,'DejaVu Sans Mono',consolas,'Courier New',monospace\"><span style=\"color: #7fbfbf; text-decoration-color: #7fbfbf\">           </span>New file to index: sahoo-<span style=\"color: #008080; text-decoration-color: #008080; font-weight: bold\">2019</span>-unfolding-dynamics-of-ubiquitin.pdf<span style=\"color: #808000; text-decoration-color: #808000\">...</span>                                    \n",
       "</pre>\n"
      ],
      "text/plain": [
       "\u001b[2;36m          \u001b[0m\u001b[2;36m \u001b[0mNew file to index: sahoo-\u001b[1;36m2019\u001b[0m-unfolding-dynamics-of-ubiquitin.pdf\u001b[33m...\u001b[0m                                    \n"
      ]
     },
     "metadata": {},
     "output_type": "display_data"
    },
    {
     "data": {
      "text/html": [
       "<pre style=\"white-space:pre;overflow-x:auto;line-height:normal;font-family:Menlo,'DejaVu Sans Mono',consolas,'Courier New',monospace\"><span style=\"color: #7fbfbf; text-decoration-color: #7fbfbf\">           </span>New file to index: oliveira_2021_b2m_2yxf.pdf<span style=\"color: #808000; text-decoration-color: #808000\">...</span>                                                        \n",
       "</pre>\n"
      ],
      "text/plain": [
       "\u001b[2;36m          \u001b[0m\u001b[2;36m \u001b[0mNew file to index: oliveira_2021_b2m_2yxf.pdf\u001b[33m...\u001b[0m                                                        \n"
      ]
     },
     "metadata": {},
     "output_type": "display_data"
    },
    {
     "data": {
      "text/html": [
       "<pre style=\"white-space:pre;overflow-x:auto;line-height:normal;font-family:Menlo,'DejaVu Sans Mono',consolas,'Courier New',monospace\"><span style=\"color: #7fbfbf; text-decoration-color: #7fbfbf\">           </span>New file to index: lemmon_2017_fibronectin.pdf<span style=\"color: #808000; text-decoration-color: #808000\">...</span>                                                       \n",
       "</pre>\n"
      ],
      "text/plain": [
       "\u001b[2;36m          \u001b[0m\u001b[2;36m \u001b[0mNew file to index: lemmon_2017_fibronectin.pdf\u001b[33m...\u001b[0m                                                       \n"
      ]
     },
     "metadata": {},
     "output_type": "display_data"
    },
    {
     "data": {
      "text/html": [
       "<pre style=\"white-space:pre;overflow-x:auto;line-height:normal;font-family:Menlo,'DejaVu Sans Mono',consolas,'Courier New',monospace\"><span style=\"color: #7fbfbf; text-decoration-color: #7fbfbf\">[19:57:22] </span>New file to index: ganoth_2013_ubiquitin.pdf<span style=\"color: #808000; text-decoration-color: #808000\">...</span>                                                         \n",
       "</pre>\n"
      ],
      "text/plain": [
       "\u001b[2;36m[19:57:22]\u001b[0m\u001b[2;36m \u001b[0mNew file to index: ganoth_2013_ubiquitin.pdf\u001b[33m...\u001b[0m                                                         \n"
      ]
     },
     "metadata": {},
     "output_type": "display_data"
    },
    {
     "data": {
      "text/html": [
       "<pre style=\"white-space:pre;overflow-x:auto;line-height:normal;font-family:Menlo,'DejaVu Sans Mono',consolas,'Courier New',monospace\"><span style=\"color: #7fbfbf; text-decoration-color: #7fbfbf\">           </span>New file to index: morand_2021_b2m_2yxf.pdf<span style=\"color: #808000; text-decoration-color: #808000\">...</span>                                                          \n",
       "</pre>\n"
      ],
      "text/plain": [
       "\u001b[2;36m          \u001b[0m\u001b[2;36m \u001b[0mNew file to index: morand_2021_b2m_2yxf.pdf\u001b[33m...\u001b[0m                                                          \n"
      ]
     },
     "metadata": {},
     "output_type": "display_data"
    },
    {
     "data": {
      "text/html": [
       "<pre style=\"white-space:pre;overflow-x:auto;line-height:normal;font-family:Menlo,'DejaVu Sans Mono',consolas,'Courier New',monospace\"><span style=\"color: #7fbfbf; text-decoration-color: #7fbfbf\">           </span>New file to index: clark_1985_hemoglobin.pdf<span style=\"color: #808000; text-decoration-color: #808000\">...</span>                                                         \n",
       "</pre>\n"
      ],
      "text/plain": [
       "\u001b[2;36m          \u001b[0m\u001b[2;36m \u001b[0mNew file to index: clark_1985_hemoglobin.pdf\u001b[33m...\u001b[0m                                                         \n"
      ]
     },
     "metadata": {},
     "output_type": "display_data"
    },
    {
     "data": {
      "text/html": [
       "<pre style=\"white-space:pre;overflow-x:auto;line-height:normal;font-family:Menlo,'DejaVu Sans Mono',consolas,'Courier New',monospace\"><span style=\"color: #7fbfbf; text-decoration-color: #7fbfbf\">           </span>New file to index: hage_2018_hemoglobin_sim_SI.pdf<span style=\"color: #808000; text-decoration-color: #808000\">...</span>                                                   \n",
       "</pre>\n"
      ],
      "text/plain": [
       "\u001b[2;36m          \u001b[0m\u001b[2;36m \u001b[0mNew file to index: hage_2018_hemoglobin_sim_SI.pdf\u001b[33m...\u001b[0m                                                   \n"
      ]
     },
     "metadata": {},
     "output_type": "display_data"
    },
    {
     "data": {
      "text/html": [
       "<pre style=\"white-space:pre;overflow-x:auto;line-height:normal;font-family:Menlo,'DejaVu Sans Mono',consolas,'Courier New',monospace\"><span style=\"color: #7fbfbf; text-decoration-color: #7fbfbf\">           </span>New file to index: <span style=\"color: #008080; text-decoration-color: #008080; font-weight: bold\">10.</span>1002slct.<span style=\"color: #008080; text-decoration-color: #008080; font-weight: bold\">201801398.</span>pdf<span style=\"color: #808000; text-decoration-color: #808000\">...</span>                                                         \n",
       "</pre>\n"
      ],
      "text/plain": [
       "\u001b[2;36m          \u001b[0m\u001b[2;36m \u001b[0mNew file to index: \u001b[1;36m10.\u001b[0m1002slct.\u001b[1;36m201801398.\u001b[0mpdf\u001b[33m...\u001b[0m                                                         \n"
      ]
     },
     "metadata": {},
     "output_type": "display_data"
    },
    {
     "data": {
      "text/html": [
       "<pre style=\"white-space:pre;overflow-x:auto;line-height:normal;font-family:Menlo,'DejaVu Sans Mono',consolas,'Courier New',monospace\"><span style=\"color: #7fbfbf; text-decoration-color: #7fbfbf\">           </span>New file to index: gee_2008_fibronectin_1fnf.pdf<span style=\"color: #808000; text-decoration-color: #808000\">...</span>                                                     \n",
       "</pre>\n"
      ],
      "text/plain": [
       "\u001b[2;36m          \u001b[0m\u001b[2;36m \u001b[0mNew file to index: gee_2008_fibronectin_1fnf.pdf\u001b[33m...\u001b[0m                                                     \n"
      ]
     },
     "metadata": {},
     "output_type": "display_data"
    },
    {
     "data": {
      "text/html": [
       "<pre style=\"white-space:pre;overflow-x:auto;line-height:normal;font-family:Menlo,'DejaVu Sans Mono',consolas,'Courier New',monospace\"><span style=\"color: #7fbfbf; text-decoration-color: #7fbfbf\">           </span>New file to index: hage_2018_hemoglobin_sim.pdf<span style=\"color: #808000; text-decoration-color: #808000\">...</span>                                                      \n",
       "</pre>\n"
      ],
      "text/plain": [
       "\u001b[2;36m          \u001b[0m\u001b[2;36m \u001b[0mNew file to index: hage_2018_hemoglobin_sim.pdf\u001b[33m...\u001b[0m                                                      \n"
      ]
     },
     "metadata": {},
     "output_type": "display_data"
    },
    {
     "data": {
      "text/html": [
       "<pre style=\"white-space:pre;overflow-x:auto;line-height:normal;font-family:Menlo,'DejaVu Sans Mono',consolas,'Courier New',monospace\"><span style=\"color: #7fbfbf; text-decoration-color: #7fbfbf\">           </span>New file to index: dunkelberger-et-al-2018_hemoglobin.pdf<span style=\"color: #808000; text-decoration-color: #808000\">...</span>                                            \n",
       "</pre>\n"
      ],
      "text/plain": [
       "\u001b[2;36m          \u001b[0m\u001b[2;36m \u001b[0mNew file to index: dunkelberger-et-al-2018_hemoglobin.pdf\u001b[33m...\u001b[0m                                            \n"
      ]
     },
     "metadata": {},
     "output_type": "display_data"
    },
    {
     "data": {
      "text/html": [
       "<pre style=\"white-space:pre;overflow-x:auto;line-height:normal;font-family:Menlo,'DejaVu Sans Mono',consolas,'Courier New',monospace\"><span style=\"color: #7fbfbf; text-decoration-color: #7fbfbf\">           </span>New file to index: liao_2014_fibronectin_sim.pdf<span style=\"color: #808000; text-decoration-color: #808000\">...</span>                                                     \n",
       "</pre>\n"
      ],
      "text/plain": [
       "\u001b[2;36m          \u001b[0m\u001b[2;36m \u001b[0mNew file to index: liao_2014_fibronectin_sim.pdf\u001b[33m...\u001b[0m                                                     \n"
      ]
     },
     "metadata": {},
     "output_type": "display_data"
    },
    {
     "data": {
      "text/html": [
       "<pre style=\"white-space:pre;overflow-x:auto;line-height:normal;font-family:Menlo,'DejaVu Sans Mono',consolas,'Courier New',monospace\"><span style=\"color: #7fbfbf; text-decoration-color: #7fbfbf\">[19:57:23] </span>New file to index: lucas_2012_hemoglobin_sim_SI.pdf<span style=\"color: #808000; text-decoration-color: #808000\">...</span>                                                  \n",
       "</pre>\n"
      ],
      "text/plain": [
       "\u001b[2;36m[19:57:23]\u001b[0m\u001b[2;36m \u001b[0mNew file to index: lucas_2012_hemoglobin_sim_SI.pdf\u001b[33m...\u001b[0m                                                  \n"
      ]
     },
     "metadata": {},
     "output_type": "display_data"
    },
    {
     "data": {
      "text/html": [
       "<pre style=\"white-space:pre;overflow-x:auto;line-height:normal;font-family:Menlo,'DejaVu Sans Mono',consolas,'Courier New',monospace\"><span style=\"color: #7fbfbf; text-decoration-color: #7fbfbf\">           </span>New file to index: hao_2021_fibronectin.pdf<span style=\"color: #808000; text-decoration-color: #808000\">...</span>                                                          \n",
       "</pre>\n"
      ],
      "text/plain": [
       "\u001b[2;36m          \u001b[0m\u001b[2;36m \u001b[0mNew file to index: hao_2021_fibronectin.pdf\u001b[33m...\u001b[0m                                                          \n"
      ]
     },
     "metadata": {},
     "output_type": "display_data"
    },
    {
     "data": {
      "text/html": [
       "<pre style=\"white-space:pre;overflow-x:auto;line-height:normal;font-family:Menlo,'DejaVu Sans Mono',consolas,'Courier New',monospace\"><span style=\"color: #7fbfbf; text-decoration-color: #7fbfbf\">           </span>New file to index: mace_docs_2024.pdf<span style=\"color: #808000; text-decoration-color: #808000\">...</span>                                                                \n",
       "</pre>\n"
      ],
      "text/plain": [
       "\u001b[2;36m          \u001b[0m\u001b[2;36m \u001b[0mNew file to index: mace_docs_2024.pdf\u001b[33m...\u001b[0m                                                                \n"
      ]
     },
     "metadata": {},
     "output_type": "display_data"
    },
    {
     "data": {
      "text/html": [
       "<pre style=\"white-space:pre;overflow-x:auto;line-height:normal;font-family:Menlo,'DejaVu Sans Mono',consolas,'Courier New',monospace\"><span style=\"color: #7fbfbf; text-decoration-color: #7fbfbf\">           </span>New file to index: liamas_2018_fibronectin_1fnf.pdf<span style=\"color: #808000; text-decoration-color: #808000\">...</span>                                                  \n",
       "</pre>\n"
      ],
      "text/plain": [
       "\u001b[2;36m          \u001b[0m\u001b[2;36m \u001b[0mNew file to index: liamas_2018_fibronectin_1fnf.pdf\u001b[33m...\u001b[0m                                                  \n"
      ]
     },
     "metadata": {},
     "output_type": "display_data"
    },
    {
     "data": {
      "text/html": [
       "<pre style=\"white-space:pre;overflow-x:auto;line-height:normal;font-family:Menlo,'DejaVu Sans Mono',consolas,'Courier New',monospace\"><span style=\"color: #7fbfbf; text-decoration-color: #7fbfbf\">           </span>New file to index:                                                                                      \n",
       "<span style=\"color: #7fbfbf; text-decoration-color: #7fbfbf\">           </span>mshirts%2C+<span style=\"color: #008080; text-decoration-color: #008080; font-weight: bold\">5957</span>-best-practices-for-foundations-in-molecular-simulations-article-v1-<span style=\"color: #008080; text-decoration-color: #008080; font-weight: bold\">0</span>+%<span style=\"color: #008080; text-decoration-color: #008080; font-weight: bold\">281</span>%<span style=\"color: #008080; text-decoration-color: #008080; font-weight: bold\">29.</span>pdf<span style=\"color: #808000; text-decoration-color: #808000\">...</span>     \n",
       "</pre>\n"
      ],
      "text/plain": [
       "\u001b[2;36m          \u001b[0m\u001b[2;36m \u001b[0mNew file to index:                                                                                      \n",
       "\u001b[2;36m           \u001b[0mmshirts%2C+\u001b[1;36m5957\u001b[0m-best-practices-for-foundations-in-molecular-simulations-article-v1-\u001b[1;36m0\u001b[0m+%\u001b[1;36m281\u001b[0m%\u001b[1;36m29.\u001b[0mpdf\u001b[33m...\u001b[0m     \n"
      ]
     },
     "metadata": {},
     "output_type": "display_data"
    },
    {
     "data": {
      "text/html": [
       "<pre style=\"white-space:pre;overflow-x:auto;line-height:normal;font-family:Menlo,'DejaVu Sans Mono',consolas,'Courier New',monospace\"><span style=\"color: #7fbfbf; text-decoration-color: #7fbfbf\">           </span>New file to index: sala_2018_proteinstability.pdf<span style=\"color: #808000; text-decoration-color: #808000\">...</span>                                                    \n",
       "</pre>\n"
      ],
      "text/plain": [
       "\u001b[2;36m          \u001b[0m\u001b[2;36m \u001b[0mNew file to index: sala_2018_proteinstability.pdf\u001b[33m...\u001b[0m                                                    \n"
      ]
     },
     "metadata": {},
     "output_type": "display_data"
    },
    {
     "data": {
      "text/html": [
       "<pre style=\"white-space:pre;overflow-x:auto;line-height:normal;font-family:Menlo,'DejaVu Sans Mono',consolas,'Courier New',monospace\"><span style=\"color: #7fbfbf; text-decoration-color: #7fbfbf\">[19:57:24] </span>New file to index: cong_2017_trypsin-ligand.pdf<span style=\"color: #808000; text-decoration-color: #808000\">...</span>                                                      \n",
       "</pre>\n"
      ],
      "text/plain": [
       "\u001b[2;36m[19:57:24]\u001b[0m\u001b[2;36m \u001b[0mNew file to index: cong_2017_trypsin-ligand.pdf\u001b[33m...\u001b[0m                                                      \n"
      ]
     },
     "metadata": {},
     "output_type": "display_data"
    },
    {
     "data": {
      "text/html": [
       "<pre style=\"white-space:pre;overflow-x:auto;line-height:normal;font-family:Menlo,'DejaVu Sans Mono',consolas,'Courier New',monospace\"><span style=\"color: #7fbfbf; text-decoration-color: #7fbfbf\">           </span>New file to index: raffaini-ganazzoli-<span style=\"color: #008080; text-decoration-color: #008080; font-weight: bold\">2004</span>-fibronectin_sim.pdf<span style=\"color: #808000; text-decoration-color: #808000\">...</span>                                       \n",
       "</pre>\n"
      ],
      "text/plain": [
       "\u001b[2;36m          \u001b[0m\u001b[2;36m \u001b[0mNew file to index: raffaini-ganazzoli-\u001b[1;36m2004\u001b[0m-fibronectin_sim.pdf\u001b[33m...\u001b[0m                                       \n"
      ]
     },
     "metadata": {},
     "output_type": "display_data"
    },
    {
     "data": {
      "text/html": [
       "<pre style=\"white-space:pre;overflow-x:auto;line-height:normal;font-family:Menlo,'DejaVu Sans Mono',consolas,'Courier New',monospace\"><span style=\"color: #7fbfbf; text-decoration-color: #7fbfbf\">           </span>New file to index: laberge_2008_hemoglobin_sim.pdf<span style=\"color: #808000; text-decoration-color: #808000\">...</span>                                                   \n",
       "</pre>\n"
      ],
      "text/plain": [
       "\u001b[2;36m          \u001b[0m\u001b[2;36m \u001b[0mNew file to index: laberge_2008_hemoglobin_sim.pdf\u001b[33m...\u001b[0m                                                   \n"
      ]
     },
     "metadata": {},
     "output_type": "display_data"
    },
    {
     "data": {
      "text/html": [
       "<pre style=\"white-space:pre;overflow-x:auto;line-height:normal;font-family:Menlo,'DejaVu Sans Mono',consolas,'Courier New',monospace\"><span style=\"color: #7fbfbf; text-decoration-color: #7fbfbf\">           </span>New file to index: paci_1999_fibronectin_1fnf.pdf<span style=\"color: #808000; text-decoration-color: #808000\">...</span>                                                    \n",
       "</pre>\n"
      ],
      "text/plain": [
       "\u001b[2;36m          \u001b[0m\u001b[2;36m \u001b[0mNew file to index: paci_1999_fibronectin_1fnf.pdf\u001b[33m...\u001b[0m                                                    \n"
      ]
     },
     "metadata": {},
     "output_type": "display_data"
    },
    {
     "data": {
      "text/html": [
       "<pre style=\"white-space:pre;overflow-x:auto;line-height:normal;font-family:Menlo,'DejaVu Sans Mono',consolas,'Courier New',monospace\"><span style=\"color: #7fbfbf; text-decoration-color: #7fbfbf\">           </span>Request to CrossrefProvider for Mace: Release <span style=\"color: #008080; text-decoration-color: #008080; font-weight: bold\">0.1</span>.<span style=\"color: #008080; text-decoration-color: #008080; font-weight: bold\">0</span> timed out.                                          \n",
       "</pre>\n"
      ],
      "text/plain": [
       "\u001b[2;36m          \u001b[0m\u001b[2;36m \u001b[0mRequest to CrossrefProvider for Mace: Release \u001b[1;36m0.1\u001b[0m.\u001b[1;36m0\u001b[0m timed out.                                          \n"
      ]
     },
     "metadata": {},
     "output_type": "display_data"
    },
    {
     "data": {
      "text/html": [
       "<pre style=\"white-space:pre;overflow-x:auto;line-height:normal;font-family:Menlo,'DejaVu Sans Mono',consolas,'Courier New',monospace\"><span style=\"color: #7fbfbf; text-decoration-color: #7fbfbf\">           </span>Metadata not found for Dissecting Structural Aspects of Protein Stability in CrossrefProvider.          \n",
       "</pre>\n"
      ],
      "text/plain": [
       "\u001b[2;36m          \u001b[0m\u001b[2;36m \u001b[0mMetadata not found for Dissecting Structural Aspects of Protein Stability in CrossrefProvider.          \n"
      ]
     },
     "metadata": {},
     "output_type": "display_data"
    },
    {
     "data": {
      "text/html": [
       "<pre style=\"white-space:pre;overflow-x:auto;line-height:normal;font-family:Menlo,'DejaVu Sans Mono',consolas,'Courier New',monospace\"><span style=\"color: #7fbfbf; text-decoration-color: #7fbfbf\">[19:57:26] </span>SEMANTIC_SCHOLAR_API_KEY environment variable not set. Semantic Scholar API rate limits may apply.      \n",
       "</pre>\n"
      ],
      "text/plain": [
       "\u001b[2;36m[19:57:26]\u001b[0m\u001b[2;36m \u001b[0mSEMANTIC_SCHOLAR_API_KEY environment variable not set. Semantic Scholar API rate limits may apply.      \n"
      ]
     },
     "metadata": {},
     "output_type": "display_data"
    },
    {
     "data": {
      "text/html": [
       "<pre style=\"white-space:pre;overflow-x:auto;line-height:normal;font-family:Menlo,'DejaVu Sans Mono',consolas,'Courier New',monospace\"><span style=\"color: #7fbfbf; text-decoration-color: #7fbfbf\">           </span>SEMANTIC_SCHOLAR_API_KEY environment variable not set. Semantic Scholar API rate limits may apply.      \n",
       "</pre>\n"
      ],
      "text/plain": [
       "\u001b[2;36m          \u001b[0m\u001b[2;36m \u001b[0mSEMANTIC_SCHOLAR_API_KEY environment variable not set. Semantic Scholar API rate limits may apply.      \n"
      ]
     },
     "metadata": {},
     "output_type": "display_data"
    },
    {
     "data": {
      "text/html": [
       "<pre style=\"white-space:pre;overflow-x:auto;line-height:normal;font-family:Menlo,'DejaVu Sans Mono',consolas,'Courier New',monospace\"><span style=\"color: #7fbfbf; text-decoration-color: #7fbfbf\">           </span>SEMANTIC_SCHOLAR_API_KEY environment variable not set. Semantic Scholar API rate limits may apply.      \n",
       "</pre>\n"
      ],
      "text/plain": [
       "\u001b[2;36m          \u001b[0m\u001b[2;36m \u001b[0mSEMANTIC_SCHOLAR_API_KEY environment variable not set. Semantic Scholar API rate limits may apply.      \n"
      ]
     },
     "metadata": {},
     "output_type": "display_data"
    },
    {
     "data": {
      "text/html": [
       "<pre style=\"white-space:pre;overflow-x:auto;line-height:normal;font-family:Menlo,'DejaVu Sans Mono',consolas,'Courier New',monospace\"><span style=\"color: #7fbfbf; text-decoration-color: #7fbfbf\">           </span>SEMANTIC_SCHOLAR_API_KEY environment variable not set. Semantic Scholar API rate limits may apply.      \n",
       "</pre>\n"
      ],
      "text/plain": [
       "\u001b[2;36m          \u001b[0m\u001b[2;36m \u001b[0mSEMANTIC_SCHOLAR_API_KEY environment variable not set. Semantic Scholar API rate limits may apply.      \n"
      ]
     },
     "metadata": {},
     "output_type": "display_data"
    },
    {
     "data": {
      "text/html": [
       "<pre style=\"white-space:pre;overflow-x:auto;line-height:normal;font-family:Menlo,'DejaVu Sans Mono',consolas,'Courier New',monospace\"><span style=\"color: #7fbfbf; text-decoration-color: #7fbfbf\">           </span>SEMANTIC_SCHOLAR_API_KEY environment variable not set. Semantic Scholar API rate limits may apply.      \n",
       "</pre>\n"
      ],
      "text/plain": [
       "\u001b[2;36m          \u001b[0m\u001b[2;36m \u001b[0mSEMANTIC_SCHOLAR_API_KEY environment variable not set. Semantic Scholar API rate limits may apply.      \n"
      ]
     },
     "metadata": {},
     "output_type": "display_data"
    },
    {
     "data": {
      "text/html": [
       "<pre style=\"white-space:pre;overflow-x:auto;line-height:normal;font-family:Menlo,'DejaVu Sans Mono',consolas,'Courier New',monospace\"><span style=\"color: #7fbfbf; text-decoration-color: #7fbfbf\">           </span>SEMANTIC_SCHOLAR_API_KEY environment variable not set. Semantic Scholar API rate limits may apply.      \n",
       "</pre>\n"
      ],
      "text/plain": [
       "\u001b[2;36m          \u001b[0m\u001b[2;36m \u001b[0mSEMANTIC_SCHOLAR_API_KEY environment variable not set. Semantic Scholar API rate limits may apply.      \n"
      ]
     },
     "metadata": {},
     "output_type": "display_data"
    },
    {
     "data": {
      "text/html": [
       "<pre style=\"white-space:pre;overflow-x:auto;line-height:normal;font-family:Menlo,'DejaVu Sans Mono',consolas,'Courier New',monospace\"><span style=\"color: #7fbfbf; text-decoration-color: #7fbfbf\">           </span>SEMANTIC_SCHOLAR_API_KEY environment variable not set. Semantic Scholar API rate limits may apply.      \n",
       "</pre>\n"
      ],
      "text/plain": [
       "\u001b[2;36m          \u001b[0m\u001b[2;36m \u001b[0mSEMANTIC_SCHOLAR_API_KEY environment variable not set. Semantic Scholar API rate limits may apply.      \n"
      ]
     },
     "metadata": {},
     "output_type": "display_data"
    },
    {
     "data": {
      "text/html": [
       "<pre style=\"white-space:pre;overflow-x:auto;line-height:normal;font-family:Menlo,'DejaVu Sans Mono',consolas,'Courier New',monospace\"><span style=\"color: #7fbfbf; text-decoration-color: #7fbfbf\">           </span>SEMANTIC_SCHOLAR_API_KEY environment variable not set. Semantic Scholar API rate limits may apply.      \n",
       "</pre>\n"
      ],
      "text/plain": [
       "\u001b[2;36m          \u001b[0m\u001b[2;36m \u001b[0mSEMANTIC_SCHOLAR_API_KEY environment variable not set. Semantic Scholar API rate limits may apply.      \n"
      ]
     },
     "metadata": {},
     "output_type": "display_data"
    },
    {
     "data": {
      "text/html": [
       "<pre style=\"white-space:pre;overflow-x:auto;line-height:normal;font-family:Menlo,'DejaVu Sans Mono',consolas,'Courier New',monospace\"><span style=\"color: #7fbfbf; text-decoration-color: #7fbfbf\">           </span>SEMANTIC_SCHOLAR_API_KEY environment variable not set. Semantic Scholar API rate limits may apply.      \n",
       "</pre>\n"
      ],
      "text/plain": [
       "\u001b[2;36m          \u001b[0m\u001b[2;36m \u001b[0mSEMANTIC_SCHOLAR_API_KEY environment variable not set. Semantic Scholar API rate limits may apply.      \n"
      ]
     },
     "metadata": {},
     "output_type": "display_data"
    },
    {
     "data": {
      "text/html": [
       "<pre style=\"white-space:pre;overflow-x:auto;line-height:normal;font-family:Menlo,'DejaVu Sans Mono',consolas,'Courier New',monospace\"><span style=\"color: #7fbfbf; text-decoration-color: #7fbfbf\">           </span>SEMANTIC_SCHOLAR_API_KEY environment variable not set. Semantic Scholar API rate limits may apply.      \n",
       "</pre>\n"
      ],
      "text/plain": [
       "\u001b[2;36m          \u001b[0m\u001b[2;36m \u001b[0mSEMANTIC_SCHOLAR_API_KEY environment variable not set. Semantic Scholar API rate limits may apply.      \n"
      ]
     },
     "metadata": {},
     "output_type": "display_data"
    },
    {
     "data": {
      "text/html": [
       "<pre style=\"white-space:pre;overflow-x:auto;line-height:normal;font-family:Menlo,'DejaVu Sans Mono',consolas,'Courier New',monospace\"><span style=\"color: #7fbfbf; text-decoration-color: #7fbfbf\">[19:57:27] </span>SEMANTIC_SCHOLAR_API_KEY environment variable not set. Semantic Scholar API rate limits may apply.      \n",
       "</pre>\n"
      ],
      "text/plain": [
       "\u001b[2;36m[19:57:27]\u001b[0m\u001b[2;36m \u001b[0mSEMANTIC_SCHOLAR_API_KEY environment variable not set. Semantic Scholar API rate limits may apply.      \n"
      ]
     },
     "metadata": {},
     "output_type": "display_data"
    },
    {
     "data": {
      "text/html": [
       "<pre style=\"white-space:pre;overflow-x:auto;line-height:normal;font-family:Menlo,'DejaVu Sans Mono',consolas,'Courier New',monospace\"><span style=\"color: #7fbfbf; text-decoration-color: #7fbfbf\">           </span>SEMANTIC_SCHOLAR_API_KEY environment variable not set. Semantic Scholar API rate limits may apply.      \n",
       "</pre>\n"
      ],
      "text/plain": [
       "\u001b[2;36m          \u001b[0m\u001b[2;36m \u001b[0mSEMANTIC_SCHOLAR_API_KEY environment variable not set. Semantic Scholar API rate limits may apply.      \n"
      ]
     },
     "metadata": {},
     "output_type": "display_data"
    },
    {
     "data": {
      "text/html": [
       "<pre style=\"white-space:pre;overflow-x:auto;line-height:normal;font-family:Menlo,'DejaVu Sans Mono',consolas,'Courier New',monospace\"><span style=\"color: #7fbfbf; text-decoration-color: #7fbfbf\">           </span>Metadata not found for Ubiquitin: Molecular Modeling and Simulations in SemanticScholarProvider.        \n",
       "</pre>\n"
      ],
      "text/plain": [
       "\u001b[2;36m          \u001b[0m\u001b[2;36m \u001b[0mMetadata not found for Ubiquitin: Molecular Modeling and Simulations in SemanticScholarProvider.        \n"
      ]
     },
     "metadata": {},
     "output_type": "display_data"
    },
    {
     "data": {
      "text/html": [
       "<pre style=\"white-space:pre;overflow-x:auto;line-height:normal;font-family:Menlo,'DejaVu Sans Mono',consolas,'Courier New',monospace\"><span style=\"color: #7fbfbf; text-decoration-color: #7fbfbf\">           </span>SEMANTIC_SCHOLAR_API_KEY environment variable not set. Semantic Scholar API rate limits may apply.      \n",
       "</pre>\n"
      ],
      "text/plain": [
       "\u001b[2;36m          \u001b[0m\u001b[2;36m \u001b[0mSEMANTIC_SCHOLAR_API_KEY environment variable not set. Semantic Scholar API rate limits may apply.      \n"
      ]
     },
     "metadata": {},
     "output_type": "display_data"
    },
    {
     "data": {
      "text/html": [
       "<pre style=\"white-space:pre;overflow-x:auto;line-height:normal;font-family:Menlo,'DejaVu Sans Mono',consolas,'Courier New',monospace\"><span style=\"color: #7fbfbf; text-decoration-color: #7fbfbf\">           </span>Metadata not found for An Atomistic View on Human Hemoglobin Carbon Monoxide Migration Processes in     \n",
       "<span style=\"color: #7fbfbf; text-decoration-color: #7fbfbf\">           </span>SemanticScholarProvider.                                                                                \n",
       "</pre>\n"
      ],
      "text/plain": [
       "\u001b[2;36m          \u001b[0m\u001b[2;36m \u001b[0mMetadata not found for An Atomistic View on Human Hemoglobin Carbon Monoxide Migration Processes in     \n",
       "\u001b[2;36m           \u001b[0mSemanticScholarProvider.                                                                                \n"
      ]
     },
     "metadata": {},
     "output_type": "display_data"
    },
    {
     "name": "stderr",
     "output_type": "stream",
     "text": [
      "Failed to execute tool call for tool paper_search.\n",
      "Traceback (most recent call last):\n",
      "  File \"/scratch/qcampbe2/myenvs/mdcrow/lib/python3.12/site-packages/aviary/env.py\", line 197, in _exec_tool_call\n",
      "    content = await tool._tool_fn(\n",
      "              ^^^^^^^^^^^^^^^^^^^^\n",
      "  File \"/scratch/qcampbe2/myenvs/mdcrow/lib/python3.12/site-packages/paperqa/agents/tools.py\", line 127, in paper_search\n",
      "    index = await get_directory_index(settings=self.settings)\n",
      "            ^^^^^^^^^^^^^^^^^^^^^^^^^^^^^^^^^^^^^^^^^^^^^^^^^\n",
      "  File \"/scratch/qcampbe2/myenvs/mdcrow/lib/python3.12/site-packages/paperqa/agents/search.py\", line 481, in get_directory_index\n",
      "    async with anyio.create_task_group() as tg:\n",
      "  File \"/scratch/qcampbe2/myenvs/mdcrow/lib/python3.12/site-packages/anyio/_backends/_asyncio.py\", line 597, in __aexit__\n",
      "    raise exceptions[0]\n",
      "  File \"/scratch/qcampbe2/myenvs/mdcrow/lib/python3.12/asyncio/tasks.py\", line 316, in __step_run_and_handle_result\n",
      "    result = coro.throw(exc)\n",
      "             ^^^^^^^^^^^^^^^\n",
      "  File \"/scratch/qcampbe2/myenvs/mdcrow/lib/python3.12/site-packages/paperqa/agents/search.py\", line 377, in process_file\n",
      "    await tmp_docs.aadd(\n",
      "  File \"/scratch/qcampbe2/myenvs/mdcrow/lib/python3.12/site-packages/paperqa/docs.py\", line 346, in aadd\n",
      "    doc = await metadata_client.upgrade_doc_to_doc_details(\n",
      "          ^^^^^^^^^^^^^^^^^^^^^^^^^^^^^^^^^^^^^^^^^^^^^^^^^\n",
      "  File \"/scratch/qcampbe2/myenvs/mdcrow/lib/python3.12/site-packages/paperqa/clients/__init__.py\", line 202, in upgrade_doc_to_doc_details\n",
      "    if doc_details := await self.query(**kwargs):\n",
      "                      ^^^^^^^^^^^^^^^^^^^^^^^^^^\n",
      "  File \"/scratch/qcampbe2/myenvs/mdcrow/lib/python3.12/site-packages/paperqa/clients/__init__.py\", line 150, in query\n",
      "    await gather_with_concurrency(\n",
      "  File \"/scratch/qcampbe2/myenvs/mdcrow/lib/python3.12/site-packages/paperqa/utils.py\", line 111, in gather_with_concurrency\n",
      "    return await asyncio.gather(*(sem_coro(c) for c in coros))\n",
      "           ^^^^^^^^^^^^^^^^^^^^^^^^^^^^^^^^^^^^^^^^^^^^^^^^^^^\n",
      "  File \"/scratch/qcampbe2/myenvs/mdcrow/lib/python3.12/asyncio/tasks.py\", line 385, in __wakeup\n",
      "    future.result()\n",
      "  File \"/scratch/qcampbe2/myenvs/mdcrow/lib/python3.12/asyncio/tasks.py\", line 314, in __step_run_and_handle_result\n",
      "    result = coro.send(None)\n",
      "             ^^^^^^^^^^^^^^^\n",
      "  File \"/scratch/qcampbe2/myenvs/mdcrow/lib/python3.12/site-packages/paperqa/utils.py\", line 109, in sem_coro\n",
      "    return await coro\n",
      "           ^^^^^^^^^^\n",
      "  File \"/scratch/qcampbe2/myenvs/mdcrow/lib/python3.12/site-packages/paperqa/clients/client_models.py\", line 108, in query\n",
      "    return await self._query(client_query)\n",
      "           ^^^^^^^^^^^^^^^^^^^^^^^^^^^^^^^\n",
      "  File \"/scratch/qcampbe2/myenvs/mdcrow/lib/python3.12/site-packages/paperqa/clients/semantic_scholar.py\", line 321, in _query\n",
      "    return await get_s2_doc_details_from_title(\n",
      "           ^^^^^^^^^^^^^^^^^^^^^^^^^^^^^^^^^^^^\n",
      "  File \"/scratch/qcampbe2/myenvs/mdcrow/lib/python3.12/site-packages/paperqa/clients/semantic_scholar.py\", line 306, in get_s2_doc_details_from_title\n",
      "    return await s2_title_search(\n",
      "           ^^^^^^^^^^^^^^^^^^^^^^\n",
      "  File \"/scratch/qcampbe2/myenvs/mdcrow/lib/python3.12/site-packages/paperqa/clients/semantic_scholar.py\", line 218, in s2_title_search\n",
      "    data = await _get_with_retrying(\n",
      "           ^^^^^^^^^^^^^^^^^^^^^^^^^\n",
      "  File \"/scratch/qcampbe2/myenvs/mdcrow/lib/python3.12/site-packages/tenacity/asyncio/__init__.py\", line 189, in async_wrapped\n",
      "    return await copy(fn, *args, **kwargs)\n",
      "           ^^^^^^^^^^^^^^^^^^^^^^^^^^^^^^^\n",
      "  File \"/scratch/qcampbe2/myenvs/mdcrow/lib/python3.12/site-packages/tenacity/asyncio/__init__.py\", line 111, in __call__\n",
      "    do = await self.iter(retry_state=retry_state)\n",
      "         ^^^^^^^^^^^^^^^^^^^^^^^^^^^^^^^^^^^^^^^^\n",
      "  File \"/scratch/qcampbe2/myenvs/mdcrow/lib/python3.12/site-packages/tenacity/asyncio/__init__.py\", line 153, in iter\n",
      "    result = await action(retry_state)\n",
      "             ^^^^^^^^^^^^^^^^^^^^^^^^^\n",
      "  File \"/scratch/qcampbe2/myenvs/mdcrow/lib/python3.12/site-packages/tenacity/_utils.py\", line 99, in inner\n",
      "    return call(*args, **kwargs)\n",
      "           ^^^^^^^^^^^^^^^^^^^^^\n",
      "  File \"/scratch/qcampbe2/myenvs/mdcrow/lib/python3.12/site-packages/tenacity/__init__.py\", line 398, in <lambda>\n",
      "    self._add_action_func(lambda rs: rs.outcome.result())\n",
      "                                     ^^^^^^^^^^^^^^^^^^^\n",
      "  File \"/scratch/qcampbe2/myenvs/mdcrow/lib/python3.12/concurrent/futures/_base.py\", line 449, in result\n",
      "    return self.__get_result()\n",
      "           ^^^^^^^^^^^^^^^^^^^\n",
      "  File \"/scratch/qcampbe2/myenvs/mdcrow/lib/python3.12/concurrent/futures/_base.py\", line 401, in __get_result\n",
      "    raise self._exception\n",
      "  File \"/scratch/qcampbe2/myenvs/mdcrow/lib/python3.12/site-packages/tenacity/asyncio/__init__.py\", line 114, in __call__\n",
      "    result = await fn(*args, **kwargs)\n",
      "             ^^^^^^^^^^^^^^^^^^^^^^^^^\n",
      "  File \"/scratch/qcampbe2/myenvs/mdcrow/lib/python3.12/site-packages/paperqa/utils.py\", line 419, in _get_with_retrying\n",
      "    response.raise_for_status()\n",
      "  File \"/scratch/qcampbe2/myenvs/mdcrow/lib/python3.12/site-packages/aiohttp/client_reqrep.py\", line 1070, in raise_for_status\n",
      "    raise ClientResponseError(\n",
      "aiohttp.client_exceptions.ClientResponseError: 429, message='', url=URL('https://api.semanticscholar.org/graph/v1/paper/search/match?query=Mechanistic+Insights+into+the+Adsorption+and+Bioactivity+of+Fibronectin+on+Surfaces+with+Varying+Chemistries+by+a+Combination+of+Experimental+Strategies+and+Molecular+Simulations&fields=authors,externalIds,journal,title,year')\n",
      "Failed to execute tool call for tool gather_evidence.\n",
      "Traceback (most recent call last):\n",
      "  File \"/scratch/qcampbe2/myenvs/mdcrow/lib/python3.12/site-packages/aviary/env.py\", line 197, in _exec_tool_call\n",
      "    content = await tool._tool_fn(\n",
      "              ^^^^^^^^^^^^^^^^^^^^\n",
      "  File \"/scratch/qcampbe2/myenvs/mdcrow/lib/python3.12/site-packages/paperqa/agents/tools.py\", line 188, in gather_evidence\n",
      "    raise EmptyDocsError(\"Not gathering evidence due to having no papers.\")\n",
      "paperqa.agents.tools.EmptyDocsError: Not gathering evidence due to having no papers.\n"
     ]
    },
    {
     "data": {
      "text/html": [
       "<pre style=\"white-space:pre;overflow-x:auto;line-height:normal;font-family:Menlo,'DejaVu Sans Mono',consolas,'Courier New',monospace\"><span style=\"color: #7fbfbf; text-decoration-color: #7fbfbf\">           </span>Generating answer for <span style=\"color: #008000; text-decoration-color: #008000\">'common parameters for simulating fibronectin'</span>.                                   \n",
       "</pre>\n"
      ],
      "text/plain": [
       "\u001b[2;36m          \u001b[0m\u001b[2;36m \u001b[0mGenerating answer for \u001b[32m'common parameters for simulating fibronectin'\u001b[0m.                                   \n"
      ]
     },
     "metadata": {},
     "output_type": "display_data"
    },
    {
     "data": {
      "text/html": [
       "<pre style=\"white-space:pre;overflow-x:auto;line-height:normal;font-family:Menlo,'DejaVu Sans Mono',consolas,'Courier New',monospace\"><span style=\"color: #7fbfbf; text-decoration-color: #7fbfbf\">           </span>Status: Paper <span style=\"color: #808000; text-decoration-color: #808000\">Count</span>=<span style=\"color: #008080; text-decoration-color: #008080; font-weight: bold\">0</span> | Relevant <span style=\"color: #808000; text-decoration-color: #808000\">Papers</span>=<span style=\"color: #008080; text-decoration-color: #008080; font-weight: bold\">0</span> | Current <span style=\"color: #808000; text-decoration-color: #808000\">Evidence</span>=<span style=\"color: #008080; text-decoration-color: #008080; font-weight: bold\">0</span> | Current <span style=\"color: #808000; text-decoration-color: #808000\">Cost</span>=$<span style=\"color: #008080; text-decoration-color: #008080; font-weight: bold\">0.0006</span>                   \n",
       "</pre>\n"
      ],
      "text/plain": [
       "\u001b[2;36m          \u001b[0m\u001b[2;36m \u001b[0mStatus: Paper \u001b[33mCount\u001b[0m=\u001b[1;36m0\u001b[0m | Relevant \u001b[33mPapers\u001b[0m=\u001b[1;36m0\u001b[0m | Current \u001b[33mEvidence\u001b[0m=\u001b[1;36m0\u001b[0m | Current \u001b[33mCost\u001b[0m=$\u001b[1;36m0.0006\u001b[0m                   \n"
      ]
     },
     "metadata": {},
     "output_type": "display_data"
    },
    {
     "data": {
      "text/html": [
       "<pre style=\"white-space:pre;overflow-x:auto;line-height:normal;font-family:Menlo,'DejaVu Sans Mono',consolas,'Courier New',monospace\"><span style=\"color: #7fbfbf; text-decoration-color: #7fbfbf\">           </span><span style=\"color: #000080; text-decoration-color: #000080; font-weight: bold\">Answer: I cannot answer.</span>                                                                                \n",
       "</pre>\n"
      ],
      "text/plain": [
       "\u001b[2;36m          \u001b[0m\u001b[2;36m \u001b[0m\u001b[1;34mAnswer: I cannot answer.\u001b[0m                                                                                \n"
      ]
     },
     "metadata": {},
     "output_type": "display_data"
    },
    {
     "name": "stdout",
     "output_type": "stream",
     "text": [
      "Question: common parameters for simulating fibronectin\n",
      "\n",
      "I cannot answer.\n",
      " Check to ensure there's papers in /gpfs/fs2/scratch/qcampbe2/repos/md-agent_gpt_params/notebooks/experiments/experiment_k1/llama-v3p1-70b-instruct/paper_collection\n",
      "Thought: Since the literature search did not yield any results, I will try to provide a general answer based on my knowledge of molecular dynamics simulations. Fibronectin is a large protein that plays a crucial role in cell adhesion and migration. Simulating fibronectin requires careful consideration of various parameters, including the force field, simulation protocol, and system setup.\n",
      "\n",
      "Action:\n",
      "```\n",
      "{\n",
      "  \"action\": \"Final Answer\",\n",
      "  \"action_input\": \"Common parameters used to simulate fibronectin include the use of a suitable force field such as CHARMM or AMBER, a simulation protocol that includes energy minimization, equilibration, and production runs, and a system setup that includes explicit solvent and ions. The specific parameters may vary depending on the research question and the desired level of detail. However, a typical simulation protocol for fibronectin may include a force field with a time step of 2 fs, a cutoff distance of 10 Å for non-bonded interactions, and a simulation temperature of 300 K. The system setup may include a rectangular box with periodic boundary conditions, explicit solvent such as TIP3P water, and ions such as Na+ and Cl- to neutralize the system.\"\n",
      "}\n",
      "```"
     ]
    },
    {
     "data": {
      "text/plain": [
       "({'input': '\\n    You are an expert molecular dynamics scientist, and\\n    your task is to respond to the question or\\n    solve the problem to the best of your ability using\\n    the provided tools.\\n\\n    You can only respond with a single complete\\n    \\'Thought, Action, Action Input\\' format\\n    OR a single \\'Final Answer\\' format.\\n\\n    Complete format:\\n    Thought: (reflect on your progress and decide what to do next)\\n    Action:\\n    ```\\n    {\\n        \"action\": (the action name, it should be the name of a tool),\\n        \"action_input\": (the input string for the action)\\n    }\\n    \\'\\'\\'\\n\\n    OR\\n\\n    Final Answer: (the final response to the original input\\n    question, once all steps are complete)\\n\\n    You are required to use the tools provided,\\n    using the most specific tool\\n    available for each action.\\n    Your final answer should contain all information\\n    necessary to answer the question and its subquestions.\\n    Before you finish, reflect on your progress and make\\n    sure you have addressed the question in its entirety.\\n\\n    If you are asked to continue\\n    or reference previous runs,\\n    the context will be provided to you.\\n    If context is provided, you should assume\\n    you are continuing a chat.\\n\\n    Here is the input:\\n    Previous Context: None\\n    Question: What are the common parameters used to simulate fibronectin? ',\n",
       "  'output': 'Common parameters used to simulate fibronectin include the use of a suitable force field such as CHARMM or AMBER, a simulation protocol that includes energy minimization, equilibration, and production runs, and a system setup that includes explicit solvent and ions. The specific parameters may vary depending on the research question and the desired level of detail. However, a typical simulation protocol for fibronectin may include a force field with a time step of 2 fs, a cutoff distance of 10 Å for non-bonded interactions, and a simulation temperature of 300 K. The system setup may include a rectangular box with periodic boundary conditions, explicit solvent such as TIP3P water, and ions such as Na+ and Cl- to neutralize the system.'},\n",
       " 'D2SMSYZU')"
      ]
     },
     "execution_count": 3,
     "metadata": {},
     "output_type": "execute_result"
    }
   ],
   "source": [
    "agent.run(prompt4)"
   ]
  },
  {
   "cell_type": "code",
   "execution_count": 4,
   "metadata": {},
   "outputs": [
    {
     "name": "stdout",
     "output_type": "stream",
     "text": [
      "ckpt_dir: ckpt_2\n"
     ]
    }
   ],
   "source": [
    "print('ckpt_dir:',os.path.basename(agent.path_registry.ckpt_dir))"
   ]
  }
 ],
 "metadata": {
  "kernelspec": {
   "display_name": "mdcrow",
   "language": "python",
   "name": "mdcrow"
  },
  "language_info": {
   "codemirror_mode": {
    "name": "ipython",
    "version": 3
   },
   "file_extension": ".py",
   "mimetype": "text/x-python",
   "name": "python",
   "nbconvert_exporter": "python",
   "pygments_lexer": "ipython3",
   "version": "3.12.4"
  }
 },
 "nbformat": 4,
 "nbformat_minor": 4
}
