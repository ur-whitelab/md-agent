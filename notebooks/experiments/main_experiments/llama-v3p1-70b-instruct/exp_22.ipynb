{
 "cells": [
  {
   "cell_type": "code",
   "execution_count": 1,
   "metadata": {
    "execution": {
     "iopub.execute_input": "2024-09-08T21:35:10.439015Z",
     "iopub.status.busy": "2024-09-08T21:35:10.438874Z",
     "iopub.status.idle": "2024-09-08T21:35:13.924177Z",
     "shell.execute_reply": "2024-09-08T21:35:13.923805Z"
    }
   },
   "outputs": [],
   "source": [
    "import datetime\n",
    "import os\n",
    "from mdcrow import MDCrow"
   ]
  },
  {
   "cell_type": "code",
   "execution_count": 2,
   "metadata": {
    "execution": {
     "iopub.execute_input": "2024-09-08T21:35:13.926612Z",
     "iopub.status.busy": "2024-09-08T21:35:13.926308Z",
     "iopub.status.idle": "2024-09-08T21:35:14.125811Z",
     "shell.execute_reply": "2024-09-08T21:35:14.125434Z"
    }
   },
   "outputs": [
    {
     "name": "stdout",
     "output_type": "stream",
     "text": [
      "date and time: 2024-09-08\n",
      "time: 17:35:14\n",
      "LLM:  accounts/fireworks/models/llama-v3p1-70b-instruct \n",
      "Temperature:  0.1\n"
     ]
    }
   ],
   "source": [
    "prompt22 = \"Perform a brief simulation of protein 1PQ2.\"\n",
    "llm_var = \"accounts/fireworks/models/llama-v3p1-70b-instruct\"\n",
    "tools = \"all\"\n",
    "agent = MDCrow(agent_type=\"Structured\", model=llm_var, top_k_tools=tools)\n",
    "now = datetime.datetime.now()\n",
    "date = now.strftime(\"%Y-%m-%d\")\n",
    "print(\"date and time:\",date)\n",
    "time = now.strftime(\"%H:%M:%S\")\n",
    "print(\"time:\",time)\n",
    "print(\"LLM: \",agent.llm.model_name,\"\\nTemperature: \",agent.llm.temperature)"
   ]
  },
  {
   "cell_type": "code",
   "execution_count": 3,
   "metadata": {
    "execution": {
     "iopub.execute_input": "2024-09-08T21:35:14.127673Z",
     "iopub.status.busy": "2024-09-08T21:35:14.127532Z",
     "iopub.status.idle": "2024-09-09T06:27:38.567152Z",
     "shell.execute_reply": "2024-09-09T06:27:38.566772Z"
    }
   },
   "outputs": [
    {
     "name": "stdout",
     "output_type": "stream",
     "text": [
      "Thought:"
     ]
    },
    {
     "name": "stdout",
     "output_type": "stream",
     "text": [
      " To perform a brief simulation of"
     ]
    },
    {
     "name": "stdout",
     "output_type": "stream",
     "text": [
      " protein 1PQ2"
     ]
    },
    {
     "name": "stdout",
     "output_type": "stream",
     "text": [
      ", I need to set up"
     ]
    },
    {
     "name": "stdout",
     "output_type": "stream",
     "text": [
      " and run a short simulation"
     ]
    },
    {
     "name": "stdout",
     "output_type": "stream",
     "text": [
      " using the SetUpandRun"
     ]
    },
    {
     "name": "stdout",
     "output_type": "stream",
     "text": [
      "Function tool. This tool"
     ]
    },
    {
     "name": "stdout",
     "output_type": "stream",
     "text": [
      " will"
     ]
    },
    {
     "name": "stdout",
     "output_type": "stream",
     "text": [
      " allow me to"
     ]
    },
    {
     "name": "stdout",
     "output_type": "stream",
     "text": [
      " specify the protein's P"
     ]
    },
    {
     "name": "stdout",
     "output_type": "stream",
     "text": [
      "DB ID, forcefield"
     ]
    },
    {
     "name": "stdout",
     "output_type": "stream",
     "text": [
      " files,"
     ]
    },
    {
     "name": "stdout",
     "output_type": "stream",
     "text": [
      " and simulation parameters.\n",
      "\n",
      "Action"
     ]
    },
    {
     "name": "stdout",
     "output_type": "stream",
     "text": [
      ":\n",
      "```\n",
      "{\n",
      "  \""
     ]
    },
    {
     "name": "stdout",
     "output_type": "stream",
     "text": [
      "action\": \"SetUpandRun"
     ]
    },
    {
     "name": "stdout",
     "output_type": "stream",
     "text": [
      "Function\",\n",
      "  \"action_input\": {\n",
      "   "
     ]
    },
    {
     "name": "stdout",
     "output_type": "stream",
     "text": [
      " \"pdb_id\": \"1P"
     ]
    },
    {
     "name": "stdout",
     "output_type": "stream",
     "text": [
      "Q2\",\n",
      "    \"forcefield_files\":"
     ]
    },
    {
     "name": "stdout",
     "output_type": "stream",
     "text": [
      " [\"amber"
     ]
    },
    {
     "name": "stdout",
     "output_type": "stream",
     "text": [
      "99sbild"
     ]
    },
    {
     "name": "stdout",
     "output_type": "stream",
     "text": [
      "n"
     ]
    },
    {
     "name": "stdout",
     "output_type": "stream",
     "text": [
      ".xml\", \"amber99"
     ]
    },
    {
     "name": "stdout",
     "output_type": "stream",
     "text": [
      "_obc.xml"
     ]
    },
    {
     "name": "stdout",
     "output_type": "stream",
     "text": [
      "\"],\n"
     ]
    },
    {
     "name": "stdout",
     "output_type": "stream",
     "text": [
      "    \"save\": true,\n"
     ]
    },
    {
     "name": "stdout",
     "output_type": "stream",
     "text": [
      "    \"system_params\": {\n",
      "     "
     ]
    },
    {
     "name": "stdout",
     "output_type": "stream",
     "text": [
      " \"nonbondedMethod\":"
     ]
    },
    {
     "name": "stdout",
     "output_type": "stream",
     "text": [
      " \"NoCutoff\",\n",
      "     "
     ]
    },
    {
     "name": "stdout",
     "output_type": "stream",
     "text": [
      " \"nonbondedCutoff"
     ]
    },
    {
     "name": "stdout",
     "output_type": "stream",
     "text": [
      "\": \"1 * nan"
     ]
    },
    {
     "name": "stdout",
     "output_type": "stream",
     "text": [
      "ometers\",\n",
      "      \"ewald"
     ]
    },
    {
     "name": "stdout",
     "output_type": "stream",
     "text": [
      "ErrorTolerance"
     ]
    },
    {
     "name": "stdout",
     "output_type": "stream",
     "text": [
      "\": null,\n",
      "      \"constraints"
     ]
    },
    {
     "name": "stdout",
     "output_type": "stream",
     "text": [
      "\": \"None\",\n"
     ]
    },
    {
     "name": "stdout",
     "output_type": "stream",
     "text": [
      "      \"rigidWater\":"
     ]
    },
    {
     "name": "stdout",
     "output_type": "stream",
     "text": [
      " false,\n"
     ]
    },
    {
     "name": "stdout",
     "output_type": "stream",
     "text": [
      "      \"constraintTolerance"
     ]
    },
    {
     "name": "stdout",
     "output_type": "stream",
     "text": [
      "\": null,\n",
      "     "
     ]
    },
    {
     "name": "stdout",
     "output_type": "stream",
     "text": [
      " \"solvate\": false"
     ]
    },
    {
     "name": "stdout",
     "output_type": "stream",
     "text": [
      "\n",
      "    },\n",
      "    \"integr"
     ]
    },
    {
     "name": "stdout",
     "output_type": "stream",
     "text": [
      "ator_params\":"
     ]
    },
    {
     "name": "stdout",
     "output_type": "stream",
     "text": [
      " {\n",
      "      \"integrator_type\":"
     ]
    },
    {
     "name": "stdout",
     "output_type": "stream",
     "text": [
      " \"LangevinMiddle"
     ]
    },
    {
     "name": "stdout",
     "output_type": "stream",
     "text": [
      "\",\n",
      "      \"Temperature\": \""
     ]
    },
    {
     "name": "stdout",
     "output_type": "stream",
     "text": [
      "300 * kelvin"
     ]
    },
    {
     "name": "stdout",
     "output_type": "stream",
     "text": [
      "\",\n",
      "      \"Friction"
     ]
    },
    {
     "name": "stdout",
     "output_type": "stream",
     "text": [
      "\": \"1."
     ]
    },
    {
     "name": "stdout",
     "output_type": "stream",
     "text": [
      "0 / picoseconds\",\n",
      "      \"T"
     ]
    },
    {
     "name": "stdout",
     "output_type": "stream",
     "text": [
      "imestep\": \"0.002 *"
     ]
    },
    {
     "name": "stdout",
     "output_type": "stream",
     "text": [
      " picoseconds\",\n",
      "      \"Pressure"
     ]
    },
    {
     "name": "stdout",
     "output_type": "stream",
     "text": [
      "\": \"1.0 *"
     ]
    },
    {
     "name": "stdout",
     "output_type": "stream",
     "text": [
      " bar\"\n",
      "    },\n",
      "    \"simulation"
     ]
    },
    {
     "name": "stdout",
     "output_type": "stream",
     "text": [
      "_params\": {\n",
      "      \"En"
     ]
    },
    {
     "name": "stdout",
     "output_type": "stream",
     "text": [
      "semble\": \"NVT\",\n",
      "      \"Number"
     ]
    },
    {
     "name": "stdout",
     "output_type": "stream",
     "text": [
      " of Steps\": 500"
     ]
    },
    {
     "name": "stdout",
     "output_type": "stream",
     "text": [
      "0,\n",
      "      \"record"
     ]
    },
    {
     "name": "stdout",
     "output_type": "stream",
     "text": [
      "_interval_steps\":"
     ]
    },
    {
     "name": "stdout",
     "output_type": "stream",
     "text": [
      " 100,\n",
      "      \"record_params\":"
     ]
    },
    {
     "name": "stdout",
     "output_type": "stream",
     "text": [
      " [\"step\", \"potentialEnergy"
     ]
    },
    {
     "name": "stdout",
     "output_type": "stream",
     "text": [
      "\", \"temperature\"]\n",
      "    }\n",
      "  }\n",
      "}\n"
     ]
    },
    {
     "name": "stdout",
     "output_type": "stream",
     "text": [
      "```"
     ]
    },
    {
     "name": "stdout",
     "output_type": "stream",
     "text": [
      "error found: Invalid ewaldErrorTolerance: float() argument must be a string or a real number, not 'NoneType'. If you are using null or None, just dont include it as part of the parameters.\n",
      "Invalid constraintTolerance: float() argument must be a string or a real number, not 'NoneType'. If constraintTolerance is null or None, just dont include as part of the parameters.\n",
      "\n",
      " Correct this and try again. \n",
      " Everthing else is fine\n"
     ]
    },
    {
     "name": "stdout",
     "output_type": "stream",
     "text": [
      "Thought:"
     ]
    },
    {
     "name": "stdout",
     "output_type": "stream",
     "text": [
      " I need to correct the"
     ]
    },
    {
     "name": "stdout",
     "output_type": "stream",
     "text": [
      " SetUpandRunFunction tool"
     ]
    },
    {
     "name": "stdout",
     "output_type": "stream",
     "text": [
      " input to"
     ]
    },
    {
     "name": "stdout",
     "output_type": "stream",
     "text": [
      " remove the ewald"
     ]
    },
    {
     "name": "stdout",
     "output_type": "stream",
     "text": [
      "ErrorTolerance and constraintT"
     ]
    },
    {
     "name": "stdout",
     "output_type": "stream",
     "text": [
      "olerance parameters since"
     ]
    },
    {
     "name": "stdout",
     "output_type": "stream",
     "text": [
      " they are not required for"
     ]
    },
    {
     "name": "stdout",
     "output_type": "stream",
     "text": [
      " the NoCutoff nonbond"
     ]
    },
    {
     "name": "stdout",
     "output_type": "stream",
     "text": [
      "ed method"
     ]
    },
    {
     "name": "stdout",
     "output_type": "stream",
     "text": [
      ".\n",
      "\n",
      "Action:\n",
      "```\n",
      "{\n",
      " "
     ]
    },
    {
     "name": "stdout",
     "output_type": "stream",
     "text": [
      " \"action\": \"SetUpand"
     ]
    },
    {
     "name": "stdout",
     "output_type": "stream",
     "text": [
      "RunFunction\",\n",
      "  \"action"
     ]
    },
    {
     "name": "stdout",
     "output_type": "stream",
     "text": [
      "_input\": {\n",
      "    \"pdb"
     ]
    },
    {
     "name": "stdout",
     "output_type": "stream",
     "text": [
      "_id\": \"1PQ"
     ]
    },
    {
     "name": "stdout",
     "output_type": "stream",
     "text": [
      "2\",\n",
      "    \"forcefield_files\":"
     ]
    },
    {
     "name": "stdout",
     "output_type": "stream",
     "text": [
      " [\"amber99sbild"
     ]
    },
    {
     "name": "stdout",
     "output_type": "stream",
     "text": [
      "n.xml"
     ]
    },
    {
     "name": "stdout",
     "output_type": "stream",
     "text": [
      "\", \""
     ]
    },
    {
     "name": "stdout",
     "output_type": "stream",
     "text": [
      "amber99_obc.xml\"],\n"
     ]
    },
    {
     "name": "stdout",
     "output_type": "stream",
     "text": [
      "    \"save"
     ]
    },
    {
     "name": "stdout",
     "output_type": "stream",
     "text": [
      "\": true,\n",
      "   "
     ]
    },
    {
     "name": "stdout",
     "output_type": "stream",
     "text": [
      " \"system_params\":"
     ]
    },
    {
     "name": "stdout",
     "output_type": "stream",
     "text": [
      " {\n",
      "      \"non"
     ]
    },
    {
     "name": "stdout",
     "output_type": "stream",
     "text": [
      "bondedMethod\": \"NoCutoff\",\n",
      "      \"non"
     ]
    },
    {
     "name": "stdout",
     "output_type": "stream",
     "text": [
      "bondedCutoff\": \""
     ]
    },
    {
     "name": "stdout",
     "output_type": "stream",
     "text": [
      "1 * nanometers"
     ]
    },
    {
     "name": "stdout",
     "output_type": "stream",
     "text": [
      "\",\n",
      "      \"constraints\": \""
     ]
    },
    {
     "name": "stdout",
     "output_type": "stream",
     "text": [
      "None\",\n",
      "      \"rigid"
     ]
    },
    {
     "name": "stdout",
     "output_type": "stream",
     "text": [
      "Water\":"
     ]
    },
    {
     "name": "stdout",
     "output_type": "stream",
     "text": [
      " false,\n",
      "      \"s"
     ]
    },
    {
     "name": "stdout",
     "output_type": "stream",
     "text": [
      "olvate\": false"
     ]
    },
    {
     "name": "stdout",
     "output_type": "stream",
     "text": [
      "\n",
      "    },\n",
      "   "
     ]
    },
    {
     "name": "stdout",
     "output_type": "stream",
     "text": [
      " \"integrator_params\": {\n"
     ]
    },
    {
     "name": "stdout",
     "output_type": "stream",
     "text": [
      "      \"integrator_type\":"
     ]
    },
    {
     "name": "stdout",
     "output_type": "stream",
     "text": [
      " \"LangevinMiddle\",\n",
      "     "
     ]
    },
    {
     "name": "stdout",
     "output_type": "stream",
     "text": [
      " \"Temperature\": \""
     ]
    },
    {
     "name": "stdout",
     "output_type": "stream",
     "text": [
      "300 * kelvin\",\n",
      "     "
     ]
    },
    {
     "name": "stdout",
     "output_type": "stream",
     "text": [
      " \"Friction\": \""
     ]
    },
    {
     "name": "stdout",
     "output_type": "stream",
     "text": [
      "1.0 / picoseconds"
     ]
    },
    {
     "name": "stdout",
     "output_type": "stream",
     "text": [
      "\",\n",
      "     "
     ]
    },
    {
     "name": "stdout",
     "output_type": "stream",
     "text": [
      " \"Timestep\": \""
     ]
    },
    {
     "name": "stdout",
     "output_type": "stream",
     "text": [
      "0.002 *"
     ]
    },
    {
     "name": "stdout",
     "output_type": "stream",
     "text": [
      " picoseconds\",\n",
      "     "
     ]
    },
    {
     "name": "stdout",
     "output_type": "stream",
     "text": [
      " \"Pressure\": \"1."
     ]
    },
    {
     "name": "stdout",
     "output_type": "stream",
     "text": [
      "0 * bar\"\n"
     ]
    },
    {
     "name": "stdout",
     "output_type": "stream",
     "text": [
      "    },\n",
      "    \"simulation_params\": {\n"
     ]
    },
    {
     "name": "stdout",
     "output_type": "stream",
     "text": [
      "      \"En"
     ]
    },
    {
     "name": "stdout",
     "output_type": "stream",
     "text": [
      "semble\": \"NVT\",\n",
      "     "
     ]
    },
    {
     "name": "stdout",
     "output_type": "stream",
     "text": [
      " \"Number of Steps\": 500"
     ]
    },
    {
     "name": "stdout",
     "output_type": "stream",
     "text": [
      "0,\n",
      "      \"record_interval_steps"
     ]
    },
    {
     "name": "stdout",
     "output_type": "stream",
     "text": [
      "\": 100,\n",
      "      \"record"
     ]
    },
    {
     "name": "stdout",
     "output_type": "stream",
     "text": [
      "_params\": [\"step"
     ]
    },
    {
     "name": "stdout",
     "output_type": "stream",
     "text": [
      "\", \"potentialEnergy\", \""
     ]
    },
    {
     "name": "stdout",
     "output_type": "stream",
     "text": [
      "temperature\"]\n",
      "    }\n",
      "  }\n",
      "}\n"
     ]
    },
    {
     "name": "stdout",
     "output_type": "stream",
     "text": [
      "```"
     ]
    },
    {
     "name": "stdout",
     "output_type": "stream",
     "text": [
      "Thought:"
     ]
    },
    {
     "name": "stdout",
     "output_type": "stream",
     "text": [
      " I need"
     ]
    },
    {
     "name": "stdout",
     "output_type": "stream",
     "text": [
      " to find the file ID"
     ]
    },
    {
     "name": "stdout",
     "output_type": "stream",
     "text": [
      " of the PDB file for"
     ]
    },
    {
     "name": "stdout",
     "output_type": "stream",
     "text": [
      " protein"
     ]
    },
    {
     "name": "stdout",
     "output_type": "stream",
     "text": [
      " 1PQ2 using"
     ]
    },
    {
     "name": "stdout",
     "output_type": "stream",
     "text": [
      " the PDBFileDownloader"
     ]
    },
    {
     "name": "stdout",
     "output_type": "stream",
     "text": [
      " tool.\n",
      "\n"
     ]
    },
    {
     "name": "stdout",
     "output_type": "stream",
     "text": [
      "Action:\n",
      "```\n",
      "{\n",
      "  \""
     ]
    },
    {
     "name": "stdout",
     "output_type": "stream",
     "text": [
      "action\": \"PDBFileDownloader"
     ]
    },
    {
     "name": "stdout",
     "output_type": "stream",
     "text": [
      "\",\n",
      "  \"action"
     ]
    },
    {
     "name": "stdout",
     "output_type": "stream",
     "text": [
      "_input\": {\n",
      "    \"query"
     ]
    },
    {
     "name": "stdout",
     "output_type": "stream",
     "text": [
      "\": \"1P"
     ]
    },
    {
     "name": "stdout",
     "output_type": "stream",
     "text": [
      "Q2\"\n",
      " "
     ]
    },
    {
     "name": "stdout",
     "output_type": "stream",
     "text": [
      " }\n",
      "}\n",
      "```\n"
     ]
    },
    {
     "name": "stdout",
     "output_type": "stream",
     "text": [
      "PDB file found with this ID: 1PQ2\n"
     ]
    },
    {
     "name": "stdout",
     "output_type": "stream",
     "text": [
      "Thought:"
     ]
    },
    {
     "name": "stdout",
     "output_type": "stream",
     "text": [
      " Now that I have the file"
     ]
    },
    {
     "name": "stdout",
     "output_type": "stream",
     "text": [
      " ID of the PDB"
     ]
    },
    {
     "name": "stdout",
     "output_type": "stream",
     "text": [
      " file for protein "
     ]
    },
    {
     "name": "stdout",
     "output_type": "stream",
     "text": [
      "1PQ2, I"
     ]
    },
    {
     "name": "stdout",
     "output_type": "stream",
     "text": [
      " can use it to set up"
     ]
    },
    {
     "name": "stdout",
     "output_type": "stream",
     "text": [
      " and run a short simulation using"
     ]
    },
    {
     "name": "stdout",
     "output_type": "stream",
     "text": [
      " the SetUpandRunFunction tool"
     ]
    },
    {
     "name": "stdout",
     "output_type": "stream",
     "text": [
      ".\n",
      "\n",
      "Action:\n",
      "```\n",
      "{\n",
      " "
     ]
    },
    {
     "name": "stdout",
     "output_type": "stream",
     "text": [
      " \"action\": \"SetUpand"
     ]
    },
    {
     "name": "stdout",
     "output_type": "stream",
     "text": [
      "RunFunction\",\n",
      "  \"action"
     ]
    },
    {
     "name": "stdout",
     "output_type": "stream",
     "text": [
      "_input\": {\n",
      "   "
     ]
    },
    {
     "name": "stdout",
     "output_type": "stream",
     "text": [
      " \"pdb_id\": \"1PQ2"
     ]
    },
    {
     "name": "stdout",
     "output_type": "stream",
     "text": [
      "_173526\",\n"
     ]
    },
    {
     "name": "stdout",
     "output_type": "stream",
     "text": [
      "    \"forcefield_files\": [\""
     ]
    },
    {
     "name": "stdout",
     "output_type": "stream",
     "text": [
      "amber99"
     ]
    },
    {
     "name": "stdout",
     "output_type": "stream",
     "text": [
      "sbildn.xml\", \""
     ]
    },
    {
     "name": "stdout",
     "output_type": "stream",
     "text": [
      "amber99_obc"
     ]
    },
    {
     "name": "stdout",
     "output_type": "stream",
     "text": [
      ".xml\"],\n",
      "    \"save"
     ]
    },
    {
     "name": "stdout",
     "output_type": "stream",
     "text": [
      "\": true,\n",
      "    \"system"
     ]
    },
    {
     "name": "stdout",
     "output_type": "stream",
     "text": [
      "_params\": {\n",
      "      \"non"
     ]
    },
    {
     "name": "stdout",
     "output_type": "stream",
     "text": [
      "bondedMethod\":"
     ]
    },
    {
     "name": "stdout",
     "output_type": "stream",
     "text": [
      " \"NoCutoff\",\n",
      "      \"non"
     ]
    },
    {
     "name": "stdout",
     "output_type": "stream",
     "text": [
      "bondedCutoff\": \""
     ]
    },
    {
     "name": "stdout",
     "output_type": "stream",
     "text": [
      "1 * nanometers\",\n"
     ]
    },
    {
     "name": "stdout",
     "output_type": "stream",
     "text": [
      "      \"constraints\": \"None\",\n"
     ]
    },
    {
     "name": "stdout",
     "output_type": "stream",
     "text": [
      "      \"rig"
     ]
    },
    {
     "name": "stdout",
     "output_type": "stream",
     "text": [
      "idWater\": false,\n"
     ]
    },
    {
     "name": "stdout",
     "output_type": "stream",
     "text": [
      "      \"solvate\": false"
     ]
    },
    {
     "name": "stdout",
     "output_type": "stream",
     "text": [
      "\n",
      "   "
     ]
    },
    {
     "name": "stdout",
     "output_type": "stream",
     "text": [
      " },\n",
      "    \"integrator_params\": {\n",
      "      \"integrator_type\": \"LangevinMiddle\",\n",
      "      \"Temperature\":"
     ]
    },
    {
     "name": "stdout",
     "output_type": "stream",
     "text": [
      " \"300 * kelvin\",\n",
      "     "
     ]
    },
    {
     "name": "stdout",
     "output_type": "stream",
     "text": [
      " \"Friction\": \"1."
     ]
    },
    {
     "name": "stdout",
     "output_type": "stream",
     "text": [
      "0 / picoseconds\",\n"
     ]
    },
    {
     "name": "stdout",
     "output_type": "stream",
     "text": [
      "      \"Timestep\": \"0."
     ]
    },
    {
     "name": "stdout",
     "output_type": "stream",
     "text": [
      "002 *"
     ]
    },
    {
     "name": "stdout",
     "output_type": "stream",
     "text": [
      " picoseconds\",\n",
      "      \"Pressure"
     ]
    },
    {
     "name": "stdout",
     "output_type": "stream",
     "text": [
      "\": \"1.0 *"
     ]
    },
    {
     "name": "stdout",
     "output_type": "stream",
     "text": [
      " bar\"\n",
      "    },\n",
      "    \"simulation"
     ]
    },
    {
     "name": "stdout",
     "output_type": "stream",
     "text": [
      "_params\": {\n",
      "      \"Ensemble"
     ]
    },
    {
     "name": "stdout",
     "output_type": "stream",
     "text": [
      "\": \"NVT\",\n",
      "      \"Number"
     ]
    },
    {
     "name": "stdout",
     "output_type": "stream",
     "text": [
      " of Steps\": 5000,\n",
      "      \"record"
     ]
    },
    {
     "name": "stdout",
     "output_type": "stream",
     "text": [
      "_interval_steps\": 100,\n",
      "      \"record"
     ]
    },
    {
     "name": "stdout",
     "output_type": "stream",
     "text": [
      "_params\": [\"step\", \"potentialEnergy"
     ]
    },
    {
     "name": "stdout",
     "output_type": "stream",
     "text": [
      "\", \"temperature\"]\n",
      "    }\n",
      "  }\n",
      "}\n"
     ]
    },
    {
     "name": "stdout",
     "output_type": "stream",
     "text": [
      "```\n"
     ]
    },
    {
     "name": "stdout",
     "output_type": "stream",
     "text": [
      "Building system...\n"
     ]
    },
    {
     "name": "stdout",
     "output_type": "stream",
     "text": [
      "About to create system...\n",
      "Attempts at creating system: 0/3\n",
      "adding system without solvent\n",
      "Trying to add component to Forcefield...\n",
      "Residue code: LYS\n",
      "Residue code not in solvent list. Adding forcefield                         not supported.\n"
     ]
    },
    {
     "name": "stdout",
     "output_type": "stream",
     "text": [
      "Thought:"
     ]
    },
    {
     "name": "stdout",
     "output_type": "stream",
     "text": [
      " The SetUpandRunFunction tool"
     ]
    },
    {
     "name": "stdout",
     "output_type": "stream",
     "text": [
      " failed because it couldn't find a"
     ]
    },
    {
     "name": "stdout",
     "output_type": "stream",
     "text": [
      " template for residue 1 (LYS)"
     ]
    },
    {
     "name": "stdout",
     "output_type": "stream",
     "text": [
      " in the forcefield files. This is"
     ]
    },
    {
     "name": "stdout",
     "output_type": "stream",
     "text": [
      " likely due"
     ]
    },
    {
     "name": "stdout",
     "output_type": "stream",
     "text": [
      " to the fact that the PDB"
     ]
    },
    {
     "name": "stdout",
     "output_type": "stream",
     "text": [
      " file contains a non-standard residue. To fix this"
     ]
    },
    {
     "name": "stdout",
     "output_type": "stream",
     "text": [
      ", I need to clean the PDB"
     ]
    },
    {
     "name": "stdout",
     "output_type": "stream",
     "text": [
      " file using the CleaningToolFunction tool to"
     ]
    },
    {
     "name": "stdout",
     "output_type": "stream",
     "text": [
      " replace non-standard residues with standard"
     ]
    },
    {
     "name": "stdout",
     "output_type": "stream",
     "text": [
      " ones.\n",
      "\n",
      "Action:\n",
      "```\n",
      "{\n",
      " "
     ]
    },
    {
     "name": "stdout",
     "output_type": "stream",
     "text": [
      " \"action\": \"CleaningToolFunction\",\n"
     ]
    },
    {
     "name": "stdout",
     "output_type": "stream",
     "text": [
      "  \"action_input\": {\n",
      "    \"pdb"
     ]
    },
    {
     "name": "stdout",
     "output_type": "stream",
     "text": [
      "_id\": \"1PQ2_173"
     ]
    },
    {
     "name": "stdout",
     "output_type": "stream",
     "text": [
      "526\",\n",
      "    \"replace_nonstandard"
     ]
    },
    {
     "name": "stdout",
     "output_type": "stream",
     "text": [
      "_residues\": true"
     ]
    },
    {
     "name": "stdout",
     "output_type": "stream",
     "text": [
      ",\n",
      "    \"add_missing_atoms\":"
     ]
    },
    {
     "name": "stdout",
     "output_type": "stream",
     "text": [
      " true,\n",
      "    \"remove_heterogens\":"
     ]
    },
    {
     "name": "stdout",
     "output_type": "stream",
     "text": [
      " true,\n"
     ]
    },
    {
     "name": "stdout",
     "output_type": "stream",
     "text": [
      "    \"remove_water\": true,\n",
      "    \"add"
     ]
    },
    {
     "name": "stdout",
     "output_type": "stream",
     "text": [
      "_hydro"
     ]
    },
    {
     "name": "stdout",
     "output_type": "stream",
     "text": [
      "gens\": true,\n",
      "    \"add"
     ]
    },
    {
     "name": "stdout",
     "output_type": "stream",
     "text": [
      "_hydrogens_ph\":"
     ]
    },
    {
     "name": "stdout",
     "output_type": "stream",
     "text": [
      " 7.0"
     ]
    },
    {
     "name": "stdout",
     "output_type": "stream",
     "text": [
      "\n",
      "  }\n",
      "}\n",
      "```\n"
     ]
    },
    {
     "name": "stdout",
     "output_type": "stream",
     "text": [
      "file path: /gpfs/fs2/scratch/qcampbe2/repos/md-agent/ckpt/ckpt_123/pdb/1PQ2_raw_20240908_173526.pdb\n"
     ]
    },
    {
     "name": "stdout",
     "output_type": "stream",
     "text": [
      "Thought:"
     ]
    },
    {
     "name": "stdout",
     "output_type": "stream",
     "text": [
      " Now that the PDB file has"
     ]
    },
    {
     "name": "stdout",
     "output_type": "stream",
     "text": [
      " been cleaned, I can use the cleaned file"
     ]
    },
    {
     "name": "stdout",
     "output_type": "stream",
     "text": [
      " ID to set up and run"
     ]
    },
    {
     "name": "stdout",
     "output_type": "stream",
     "text": [
      " a short simulation using the SetUpandRun"
     ]
    },
    {
     "name": "stdout",
     "output_type": "stream",
     "text": [
      "Function tool.\n",
      "\n",
      "Action:\n",
      "```\n",
      "{\n",
      "  \"action"
     ]
    },
    {
     "name": "stdout",
     "output_type": "stream",
     "text": [
      "\": \"SetUpandRunFunction\",\n",
      " "
     ]
    },
    {
     "name": "stdout",
     "output_type": "stream",
     "text": [
      " \"action_input\": {\n",
      "    \"pdb"
     ]
    },
    {
     "name": "stdout",
     "output_type": "stream",
     "text": [
      "_id\": \"1PQ2_"
     ]
    },
    {
     "name": "stdout",
     "output_type": "stream",
     "text": [
      "173641\",\n",
      "    \"forcefield_files\":"
     ]
    },
    {
     "name": "stdout",
     "output_type": "stream",
     "text": [
      " [\"amber99sbildn.xml\","
     ]
    },
    {
     "name": "stdout",
     "output_type": "stream",
     "text": [
      " \"amber99_obc.xml\"],\n"
     ]
    },
    {
     "name": "stdout",
     "output_type": "stream",
     "text": [
      "    \"save\": true,\n",
      "    \"system"
     ]
    },
    {
     "name": "stdout",
     "output_type": "stream",
     "text": [
      "_params\": {\n",
      "      \"nonbonded"
     ]
    },
    {
     "name": "stdout",
     "output_type": "stream",
     "text": [
      "Method\": \"NoCutoff"
     ]
    },
    {
     "name": "stdout",
     "output_type": "stream",
     "text": [
      "\",\n",
      "      \"nonbondedCutoff"
     ]
    },
    {
     "name": "stdout",
     "output_type": "stream",
     "text": [
      "\": \"1 * nanometers\",\n"
     ]
    },
    {
     "name": "stdout",
     "output_type": "stream",
     "text": [
      "      \"constraints\": \"None\",\n",
      "      \"rig"
     ]
    },
    {
     "name": "stdout",
     "output_type": "stream",
     "text": [
      "idWater\": false,\n",
      "      \"s"
     ]
    },
    {
     "name": "stdout",
     "output_type": "stream",
     "text": [
      "olvate\": false\n",
      "    },\n",
      "   "
     ]
    },
    {
     "name": "stdout",
     "output_type": "stream",
     "text": [
      " \"integrator_params\": {\n",
      "      \"integr"
     ]
    },
    {
     "name": "stdout",
     "output_type": "stream",
     "text": [
      "ator_type\": \"Langevin"
     ]
    },
    {
     "name": "stdout",
     "output_type": "stream",
     "text": [
      "Middle\",\n",
      "      \"Temperature\": \"300"
     ]
    },
    {
     "name": "stdout",
     "output_type": "stream",
     "text": [
      " * kelvin\",\n",
      "      \"Friction"
     ]
    },
    {
     "name": "stdout",
     "output_type": "stream",
     "text": [
      "\": \"1.0 / pic"
     ]
    },
    {
     "name": "stdout",
     "output_type": "stream",
     "text": [
      "oseconds\",\n",
      "      \"Timestep\": \"0"
     ]
    },
    {
     "name": "stdout",
     "output_type": "stream",
     "text": [
      ".002 * picoseconds\",\n",
      "      \"Pressure"
     ]
    },
    {
     "name": "stdout",
     "output_type": "stream",
     "text": [
      "\": \"1.0 * bar\"\n"
     ]
    },
    {
     "name": "stdout",
     "output_type": "stream",
     "text": [
      "    },\n",
      "    \"simulation_params\": {\n",
      "     "
     ]
    },
    {
     "name": "stdout",
     "output_type": "stream",
     "text": [
      " \"Ensemble\": \"NVT"
     ]
    },
    {
     "name": "stdout",
     "output_type": "stream",
     "text": [
      "\",\n",
      "      \"Number of Steps\": 500"
     ]
    },
    {
     "name": "stdout",
     "output_type": "stream",
     "text": [
      "0,\n",
      "      \"record_interval_steps\": "
     ]
    },
    {
     "name": "stdout",
     "output_type": "stream",
     "text": [
      "100,\n",
      "      \"record_params\": [\"step"
     ]
    },
    {
     "name": "stdout",
     "output_type": "stream",
     "text": [
      "\", \"potentialEnergy\", \""
     ]
    },
    {
     "name": "stdout",
     "output_type": "stream",
     "text": [
      "temperature\"]\n",
      "    }\n",
      "  }\n",
      "}\n",
      "```\n"
     ]
    },
    {
     "name": "stdout",
     "output_type": "stream",
     "text": [
      "Building system...\n"
     ]
    },
    {
     "name": "stdout",
     "output_type": "stream",
     "text": [
      "About to create system...\n",
      "Attempts at creating system: 0/3\n",
      "adding system without solvent\n"
     ]
    },
    {
     "name": "stdout",
     "output_type": "stream",
     "text": [
      "System built successfully\n",
      "<openmm.openmm.System; proxy of <Swig Object of type 'OpenMM::System *' at 0x2b65bed151d0> >\n",
      "Setting up integrator...\n",
      "Creating simulation...\n",
      "simulation set!\n",
      "Performing energy minimization...\n"
     ]
    },
    {
     "name": "stdout",
     "output_type": "stream",
     "text": [
      "Minimization complete!\n"
     ]
    },
    {
     "name": "stdout",
     "output_type": "stream",
     "text": [
      "Initial Positions saved to initial_positions.pdb\n",
      "Equilibrating...\n"
     ]
    },
    {
     "name": "stdout",
     "output_type": "stream",
     "text": [
      "Simulating...\n"
     ]
    },
    {
     "name": "stdout",
     "output_type": "stream",
     "text": [
      "Done!\n",
      "Standalone simulation script written to /gpfs/fs2/scratch/qcampbe2/repos/md-agent/ckpt/ckpt_123/simulations/NVT_1PQ2_173641_20240908_173644.py\n",
      "['LOG_sim0_161453_1XQ8_161450_20240908_161540.txt', 'batch5.sh', 'TOP_sim0_161453_1XQ8_161450_20240908_161540.pdb', 'exp_10.ipynb', 'TOP_sim0_173644_1PQ2_173641_20240908_173645.pdb', 'exp_13.ipynb', 'exp_22.ipynb', 'TRAJ_sim0_155242_1MBN_155238_20240908_155243.dcd', 'TRAJ_sim0_181258_1MBN_181255_20240908_181317.dcd', 'exp_8.ipynb', 'TOP_sim0_184045_1ZNI_184041_20240908_184050.pdb', 'out.batch2b', 'LOG_sim0_155242_1MBN_155238_20240908_155243.txt', 'exp_3.ipynb', 'exp_19_updated.ipynb', 'LOG_sim0_165413_1ZNI_165348_20240908_165423.txt', 'exp_17.ipynb', 'exp_1.ipynb', '.ipynb_checkpoints', 'LOG_sim0_173644_1PQ2_173641_20240908_173645.txt', 'TOP_sim0_173949_1C3W_173946_20240908_173956.pdb', 'batch1b.sh', 'LOG_sim0_180548_1XQ8_180545_20240908_180638.txt', 'TRAJ_sim0_180548_1XQ8_180545_20240908_180638.dcd', 'exp_4.ipynb', 'out.batch3', 'TRAJ_sim0_181252_1XQ8_181249_20240908_181442.dcd', 'exp_24.ipynb', 'TOP_sim0_181257_1ZNI_181254_20240908_181302.pdb', 'exp_12.ipynb', 'TRAJ_sim0_173949_1C3W_173946_20240908_173956.dcd', 'LOG_sim0_181258_1MBN_181255_20240908_181317.txt', 'batch4.sh', 'exp_19.ipynb', 'exp_9.ipynb', 'results', 'exp_5.ipynb', 'exp_7.ipynb', 'batch2b.sh', 'TOP_sim0_181258_1MBN_181255_20240908_181317.pdb', 'batch1a.sh', 'exp_2.ipynb', 'TOP_sim0_155242_1MBN_155238_20240908_155243.pdb', 'TRAJ_sim0_174601_1TRN_174558_20240908_174606.dcd', 'out.batch5', 'TOP_sim0_165413_1ZNI_165348_20240908_165423.pdb', 'exp_18.ipynb', 'exp_14.ipynb', 'batch2a.sh', 'TOP_sim0_180548_1XQ8_180545_20240908_180638.pdb', 'out.batch4', 'batch3.sh', 'out.batch1b', 'LOG_sim0_181252_1XQ8_181249_20240908_181442.txt', 'exp_15.ipynb', 'exp_6.ipynb', 'TOP_sim0_174601_1TRN_174558_20240908_174606.pdb', 'LOG_sim0_184045_1ZNI_184041_20240908_184050.txt', 'LOG_sim0_174601_1TRN_174558_20240908_174606.txt', 'exp_20.ipynb', 'exp_23.ipynb', 'TOP_sim0_181252_1XQ8_181249_20240908_181442.pdb', 'LOG_sim0_181257_1ZNI_181254_20240908_181302.txt', 'LOG_sim0_173949_1C3W_173946_20240908_173956.txt', 'exp_16.ipynb', 'TRAJ_sim0_181257_1ZNI_181254_20240908_181302.dcd', 'exp_11.ipynb', 'TRAJ_sim0_184045_1ZNI_184041_20240908_184050.dcd', 'exp_21.ipynb', 'out.batch2a', 'TRAJ_sim0_173644_1PQ2_173641_20240908_173645.dcd', 'exp_25.ipynb', 'TRAJ_sim0_165413_1ZNI_165348_20240908_165423.dcd', 'exp_23_gpt4o.ipynb', 'TRAJ_sim0_161453_1XQ8_161450_20240908_161540.dcd']\n"
     ]
    },
    {
     "name": "stdout",
     "output_type": "stream",
     "text": [
      "Thought:"
     ]
    },
    {
     "name": "stdout",
     "output_type": "stream",
     "text": [
      " I have successfully performed a brief simulation"
     ]
    },
    {
     "name": "stdout",
     "output_type": "stream",
     "text": [
      " of protein 1PQ2"
     ]
    },
    {
     "name": "stdout",
     "output_type": "stream",
     "text": [
      " using the SetUpandRunFunction tool"
     ]
    },
    {
     "name": "stdout",
     "output_type": "stream",
     "text": [
      ". The simulation was"
     ]
    },
    {
     "name": "stdout",
     "output_type": "stream",
     "text": [
      " run for 5000 steps"
     ]
    },
    {
     "name": "stdout",
     "output_type": "stream",
     "text": [
      " with a time step of 0"
     ]
    },
    {
     "name": "stdout",
     "output_type": "stream",
     "text": [
      ".002 picoseconds and a temperature"
     ]
    },
    {
     "name": "stdout",
     "output_type": "stream",
     "text": [
      " of 300 Kelvin. The simulation trajectory"
     ]
    },
    {
     "name": "stdout",
     "output_type": "stream",
     "text": [
      ", state log"
     ]
    },
    {
     "name": "stdout",
     "output_type": "stream",
     "text": [
      ", and PDB frames were saved"
     ]
    },
    {
     "name": "stdout",
     "output_type": "stream",
     "text": [
      " to the registry. A standalone"
     ]
    },
    {
     "name": "stdout",
     "output_type": "stream",
     "text": [
      " script was also written to reproduce the"
     ]
    },
    {
     "name": "stdout",
     "output_type": "stream",
     "text": [
      " simulation.\n",
      "\n",
      "Action:\n",
      "```\n",
      "{\n",
      "  \"action"
     ]
    },
    {
     "name": "stdout",
     "output_type": "stream",
     "text": [
      "\": \"Final Answer\",\n",
      "  \"action"
     ]
    },
    {
     "name": "stdout",
     "output_type": "stream",
     "text": [
      "_input\": \"A brief simulation of"
     ]
    },
    {
     "name": "stdout",
     "output_type": "stream",
     "text": [
      " protein 1PQ2 was successfully performed"
     ]
    },
    {
     "name": "stdout",
     "output_type": "stream",
     "text": [
      " using the SetUpandRunFunction"
     ]
    },
    {
     "name": "stdout",
     "output_type": "stream",
     "text": [
      " tool. The simulation was run for 500"
     ]
    },
    {
     "name": "stdout",
     "output_type": "stream",
     "text": [
      "0 steps with a time step of "
     ]
    },
    {
     "name": "stdout",
     "output_type": "stream",
     "text": [
      "0.002 picoseconds and"
     ]
    },
    {
     "name": "stdout",
     "output_type": "stream",
     "text": [
      " a temperature of 300 Kelvin"
     ]
    },
    {
     "name": "stdout",
     "output_type": "stream",
     "text": [
      ". The simulation trajectory, state log, and"
     ]
    },
    {
     "name": "stdout",
     "output_type": "stream",
     "text": [
      " PDB frames were"
     ]
    },
    {
     "name": "stdout",
     "output_type": "stream",
     "text": [
      " saved to the registry. A standalone script"
     ]
    },
    {
     "name": "stdout",
     "output_type": "stream",
     "text": [
      " was also"
     ]
    },
    {
     "name": "stdout",
     "output_type": "stream",
     "text": [
      " written to reproduce the"
     ]
    },
    {
     "name": "stdout",
     "output_type": "stream",
     "text": [
      " simulation.\"\n",
      "}\n",
      "```"
     ]
    }
   ],
   "source": [
    "answer = agent.run(prompt22)"
   ]
  },
  {
   "cell_type": "code",
   "execution_count": 4,
   "metadata": {
    "execution": {
     "iopub.execute_input": "2024-09-09T06:27:38.569184Z",
     "iopub.status.busy": "2024-09-09T06:27:38.569034Z",
     "iopub.status.idle": "2024-09-09T06:27:38.573312Z",
     "shell.execute_reply": "2024-09-09T06:27:38.572995Z"
    }
   },
   "outputs": [
    {
     "name": "stdout",
     "output_type": "stream",
     "text": [
      "date and time: 2024-09-09\n",
      "time: 02:27:38\n",
      "ckpt_dir: ckpt_123\n",
      "Files found in registry: 1PQ2_173526: PDB file downloaded from RSCB\n",
      " PDBFile ID: 1PQ2_173526\n",
      " 1PQ2_173641: Cleaned File:  Removed Heterogens\n",
      " and Water Removed.  Replaced Nonstandard Residues. Added Hydrogens at pH 7.0. Missing Atoms Added and replaces nonstandard residues. \n",
      " top_sim0_173644: Initial positions for simulation sim0_173644\n",
      " sim0_173644: Basic Simulation of Protein 1PQ2_173641\n",
      " rec0_173645: Simulation trajectory for protein 1PQ2_173641 and simulation sim0_173644\n",
      " rec1_173645: Simulation state log for protein 1PQ2_173641 and simulation sim0_173644\n",
      " rec2_173645: Simulation pdb frames for protein 1PQ2_173641 and simulation sim0_173644\n"
     ]
    }
   ],
   "source": [
    "now = datetime.datetime.now()\n",
    "date = now.strftime(\"%Y-%m-%d\")\n",
    "print(\"date and time:\",date)\n",
    "time = now.strftime(\"%H:%M:%S\")\n",
    "print(\"time:\",time)\n",
    "\n",
    "registry = agent.path_registry\n",
    "print('ckpt_dir:',os.path.basename(registry.ckpt_dir))\n",
    "paths_and_descriptions = registry.list_path_names_and_descriptions()\n",
    "print(\"\\n\".join(paths_and_descriptions.split(\",\")))"
   ]
  },
  {
   "cell_type": "code",
   "execution_count": 5,
   "metadata": {
    "execution": {
     "iopub.execute_input": "2024-09-09T06:27:38.574968Z",
     "iopub.status.busy": "2024-09-09T06:27:38.574836Z",
     "iopub.status.idle": "2024-09-09T06:27:38.741943Z",
     "shell.execute_reply": "2024-09-09T06:27:38.741614Z"
    }
   },
   "outputs": [
    {
     "name": "stdout",
     "output_type": "stream",
     "text": [
      "It is asserted that file paths for rec0_173645 and top_sim0_173644 exist\n"
     ]
    }
   ],
   "source": [
    "import re\n",
    "import os\n",
    "\n",
    "match = re.search(r\"rec0_\\d+\", paths_and_descriptions)\n",
    "traj_id = match.group(0)\n",
    "traj_path = registry.get_mapped_path(traj_id)\n",
    "\n",
    "match = re.search(r\"top_sim0_\\d+\", paths_and_descriptions)\n",
    "top_id = match.group(0)\n",
    "top_path = registry.get_mapped_path(top_id)\n",
    "\n",
    "assert os.path.exists(traj_path), \"Trajectory file not found\"\n",
    "assert os.path.exists(top_path), \"Topology file not found\"\n",
    "print(f'It is asserted that file paths for {traj_id} and {top_id} exist')"
   ]
  },
  {
   "cell_type": "code",
   "execution_count": 6,
   "metadata": {
    "execution": {
     "iopub.execute_input": "2024-09-09T06:27:38.743796Z",
     "iopub.status.busy": "2024-09-09T06:27:38.743654Z",
     "iopub.status.idle": "2024-09-09T06:27:39.091045Z",
     "shell.execute_reply": "2024-09-09T06:27:39.090638Z"
    }
   },
   "outputs": [
    {
     "name": "stdout",
     "output_type": "stream",
     "text": [
      "Simulation with 15234 atoms for 60 frames.\n"
     ]
    }
   ],
   "source": [
    "import mdtraj as md\n",
    "traj = md.load(traj_path, top=top_path)\n",
    "print(f\"Simulation with {traj.n_atoms} atoms for {traj.n_frames} frames.\")"
   ]
  },
  {
   "cell_type": "markdown",
   "metadata": {},
   "source": [
    "# Experiment Result: ✅❌\n",
    "\n",
    "1. Completed without Exception or TimeOut Errors ✅\n",
    "2. Attempted all necessary steps ✅\n",
    "3. Completed without Hallucination ✅\n",
    "4. Logic make sense ✅\n",
    "5. Correct Answer ✅"
   ]
  }
 ],
 "metadata": {
  "kernelspec": {
   "display_name": "mdcrow",
   "language": "python",
   "name": "mdcrow"
  },
  "language_info": {
   "codemirror_mode": {
    "name": "ipython",
    "version": 3
   },
   "file_extension": ".py",
   "mimetype": "text/x-python",
   "name": "python",
   "nbconvert_exporter": "python",
   "pygments_lexer": "ipython3",
   "version": "3.12.4"
  }
 },
 "nbformat": 4,
 "nbformat_minor": 4
}
