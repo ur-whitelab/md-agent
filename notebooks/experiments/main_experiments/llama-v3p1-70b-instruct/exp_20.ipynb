{
 "cells": [
  {
   "cell_type": "code",
   "execution_count": 1,
   "metadata": {
    "execution": {
     "iopub.execute_input": "2024-09-09T13:50:13.034179Z",
     "iopub.status.busy": "2024-09-09T13:50:13.034024Z",
     "iopub.status.idle": "2024-09-09T13:50:16.093841Z",
     "shell.execute_reply": "2024-09-09T13:50:16.093485Z"
    }
   },
   "outputs": [],
   "source": [
    "import datetime\n",
    "import os\n",
    "from mdcrow import MDCrow"
   ]
  },
  {
   "cell_type": "code",
   "execution_count": 2,
   "metadata": {
    "execution": {
     "iopub.execute_input": "2024-09-09T13:50:16.096215Z",
     "iopub.status.busy": "2024-09-09T13:50:16.095893Z",
     "iopub.status.idle": "2024-09-09T13:50:16.301720Z",
     "shell.execute_reply": "2024-09-09T13:50:16.301142Z"
    }
   },
   "outputs": [
    {
     "name": "stdout",
     "output_type": "stream",
     "text": [
      "date and time: 2024-09-09\n",
      "time: 09:50:16\n",
      "LLM:  accounts/fireworks/models/llama-v3p1-70b-instruct \n",
      "Temperature:  0.1\n"
     ]
    }
   ],
   "source": [
    "prompt20 = \"Download protein 1ATN.\"\n",
    "llm_var = \"accounts/fireworks/models/llama-v3p1-70b-instruct\"\n",
    "tools = \"all\"\n",
    "agent = MDCrow(agent_type=\"Structured\", model=llm_var, top_k_tools=tools)\n",
    "now = datetime.datetime.now()\n",
    "date = now.strftime(\"%Y-%m-%d\")\n",
    "print(\"date and time:\",date)\n",
    "time = now.strftime(\"%H:%M:%S\")\n",
    "print(\"time:\",time)\n",
    "print(\"LLM: \",agent.llm.model_name,\"\\nTemperature: \",agent.llm.temperature)"
   ]
  },
  {
   "cell_type": "code",
   "execution_count": 3,
   "metadata": {
    "execution": {
     "iopub.execute_input": "2024-09-09T13:50:16.304130Z",
     "iopub.status.busy": "2024-09-09T13:50:16.303945Z",
     "iopub.status.idle": "2024-09-09T13:50:21.343647Z",
     "shell.execute_reply": "2024-09-09T13:50:21.343309Z"
    }
   },
   "outputs": [
    {
     "name": "stdout",
     "output_type": "stream",
     "text": [
      "Thought:"
     ]
    },
    {
     "name": "stdout",
     "output_type": "stream",
     "text": [
      " To download the protein 1AT"
     ]
    },
    {
     "name": "stdout",
     "output_type": "stream",
     "text": [
      "N, I need to use the PDB"
     ]
    },
    {
     "name": "stdout",
     "output_type": "stream",
     "text": [
      "FileDownloader tool, which downloads P"
     ]
    },
    {
     "name": "stdout",
     "output_type": "stream",
     "text": [
      "DB (Protein Data Bank)"
     ]
    },
    {
     "name": "stdout",
     "output_type": "stream",
     "text": [
      " or CIF (Crystallographic"
     ]
    },
    {
     "name": "stdout",
     "output_type": "stream",
     "text": [
      " Information File) files using"
     ]
    },
    {
     "name": "stdout",
     "output_type": "stream",
     "text": [
      " a protein"
     ]
    },
    {
     "name": "stdout",
     "output_type": "stream",
     "text": [
      "'s common name.\n",
      "\n",
      "Action:\n"
     ]
    },
    {
     "name": "stdout",
     "output_type": "stream",
     "text": [
      "```\n",
      "{\n",
      "  \"action\": \""
     ]
    },
    {
     "name": "stdout",
     "output_type": "stream",
     "text": [
      "PDBFileDownloader\",\n",
      "  \"action"
     ]
    },
    {
     "name": "stdout",
     "output_type": "stream",
     "text": [
      "_input\": \"1ATN"
     ]
    },
    {
     "name": "stdout",
     "output_type": "stream",
     "text": [
      "\"\n",
      "}\n",
      "```\n"
     ]
    },
    {
     "name": "stdout",
     "output_type": "stream",
     "text": [
      "PDB file found with this ID: 1ATN\n"
     ]
    },
    {
     "name": "stdout",
     "output_type": "stream",
     "text": [
      "Thought:"
     ]
    },
    {
     "name": "stdout",
     "output_type": "stream",
     "text": [
      " Now that I have downloaded the"
     ]
    },
    {
     "name": "stdout",
     "output_type": "stream",
     "text": [
      " protein 1ATN"
     ]
    },
    {
     "name": "stdout",
     "output_type": "stream",
     "text": [
      ", I need to visualize it"
     ]
    },
    {
     "name": "stdout",
     "output_type": "stream",
     "text": [
      " to understand its"
     ]
    },
    {
     "name": "stdout",
     "output_type": "stream",
     "text": [
      " structure. I can use the"
     ]
    },
    {
     "name": "stdout",
     "output_type": "stream",
     "text": [
      " PDBVisualization tool to create a"
     ]
    },
    {
     "name": "stdout",
     "output_type": "stream",
     "text": [
      " visualization of the PDB file.\n",
      "\n"
     ]
    },
    {
     "name": "stdout",
     "output_type": "stream",
     "text": [
      "Action:\n",
      "```\n",
      "{\n",
      "  \"action"
     ]
    },
    {
     "name": "stdout",
     "output_type": "stream",
     "text": [
      "\": \""
     ]
    },
    {
     "name": "stdout",
     "output_type": "stream",
     "text": [
      "PDBVisualization\",\n"
     ]
    },
    {
     "name": "stdout",
     "output_type": "stream",
     "text": [
      "  \"action_input\": \"1AT"
     ]
    },
    {
     "name": "stdout",
     "output_type": "stream",
     "text": [
      "N_095018\"\n",
      "}\n",
      "``"
     ]
    },
    {
     "name": "stdout",
     "output_type": "stream",
     "text": [
      "`\n"
     ]
    },
    {
     "name": "stdout",
     "output_type": "stream",
     "text": [
      "Error running molrender: [Errno 2] No such file or directory: 'molrender'. Using NGLView instead.\n"
     ]
    },
    {
     "name": "stdout",
     "output_type": "stream",
     "text": [
      "Thought:"
     ]
    },
    {
     "name": "stdout",
     "output_type": "stream",
     "text": [
      " Now that I have visualized"
     ]
    },
    {
     "name": "stdout",
     "output_type": "stream",
     "text": [
      " the protein 1ATN"
     ]
    },
    {
     "name": "stdout",
     "output_type": "stream",
     "text": [
      ", I can provide the final"
     ]
    },
    {
     "name": "stdout",
     "output_type": "stream",
     "text": [
      " answer to the question"
     ]
    },
    {
     "name": "stdout",
     "output_type": "stream",
     "text": [
      ".\n",
      "\n",
      "Action:\n",
      "```\n",
      "{\n",
      " "
     ]
    },
    {
     "name": "stdout",
     "output_type": "stream",
     "text": [
      " \"action\": \"Final Answer"
     ]
    },
    {
     "name": "stdout",
     "output_type": "stream",
     "text": [
      "\",\n",
      " "
     ]
    },
    {
     "name": "stdout",
     "output_type": "stream",
     "text": [
      " \"action_input\": \"The"
     ]
    },
    {
     "name": "stdout",
     "output_type": "stream",
     "text": [
      " protein 1ATN has been"
     ]
    },
    {
     "name": "stdout",
     "output_type": "stream",
     "text": [
      " successfully downloaded and visualized."
     ]
    },
    {
     "name": "stdout",
     "output_type": "stream",
     "text": [
      " The visualization is available"
     ]
    },
    {
     "name": "stdout",
     "output_type": "stream",
     "text": [
      " as a notebook.\"\n",
      "}\n"
     ]
    },
    {
     "name": "stdout",
     "output_type": "stream",
     "text": [
      "```"
     ]
    }
   ],
   "source": [
    "answer = agent.run(prompt20)"
   ]
  },
  {
   "cell_type": "code",
   "execution_count": 4,
   "metadata": {
    "execution": {
     "iopub.execute_input": "2024-09-09T13:50:21.345638Z",
     "iopub.status.busy": "2024-09-09T13:50:21.345486Z",
     "iopub.status.idle": "2024-09-09T13:50:21.349864Z",
     "shell.execute_reply": "2024-09-09T13:50:21.349554Z"
    }
   },
   "outputs": [
    {
     "name": "stdout",
     "output_type": "stream",
     "text": [
      "date and time: 2024-09-09\n",
      "time: 09:50:21\n",
      "ckpt_dir: ckpt_141\n",
      "Files found in registry: 1ATN_095018: PDB file downloaded from RSCB\n",
      " PDBFile ID: 1ATN_095018\n",
      " /gpfs/fs2/scratch/qcampbe2/repos/md-agent/ckpt/ckpt_141/figures/1ATN_raw_20240909_095018_vis.ipynb: Notebook to visualize cif/pdb file 1ATN_raw_20240909_095018.pdb using nglview.\n"
     ]
    }
   ],
   "source": [
    "now = datetime.datetime.now()\n",
    "date = now.strftime(\"%Y-%m-%d\")\n",
    "print(\"date and time:\",date)\n",
    "time = now.strftime(\"%H:%M:%S\")\n",
    "print(\"time:\",time)\n",
    "\n",
    "registry = agent.path_registry\n",
    "print('ckpt_dir:',os.path.basename(registry.ckpt_dir))\n",
    "paths_and_descriptions = registry.list_path_names_and_descriptions()\n",
    "print(\"\\n\".join(paths_and_descriptions.split(\",\")))"
   ]
  },
  {
   "cell_type": "code",
   "execution_count": 5,
   "metadata": {
    "execution": {
     "iopub.execute_input": "2024-09-09T13:50:21.351584Z",
     "iopub.status.busy": "2024-09-09T13:50:21.351446Z",
     "iopub.status.idle": "2024-09-09T13:50:21.357887Z",
     "shell.execute_reply": "2024-09-09T13:50:21.357564Z"
    }
   },
   "outputs": [
    {
     "name": "stdout",
     "output_type": "stream",
     "text": [
      "It is asserted that file path for 1ATN_095018 exists\n"
     ]
    }
   ],
   "source": [
    "import re\n",
    "import os\n",
    "match = re.search(r\"1ATN_\\d+\", paths_and_descriptions) \n",
    "file_id = match.group(0)\n",
    "pdb_path = registry.get_mapped_path(file_id)\n",
    "assert os.path.exists(pdb_path)\n",
    "print(f'It is asserted that file path for {file_id} exists')"
   ]
  },
  {
   "cell_type": "markdown",
   "metadata": {},
   "source": [
    "# Experiment Result: ✅❌\n",
    "\n",
    "1. Completed without Exception or TimeOut Errors ✅\n",
    "2. Attempted all necessary steps ✅\n",
    "3. Completed without Hallucination ✅\n",
    "4. Logic make sense ✅\n",
    "5. Correct Answer ✅"
   ]
  }
 ],
 "metadata": {
  "kernelspec": {
   "display_name": "mdcrow",
   "language": "python",
   "name": "mdcrow"
  },
  "language_info": {
   "codemirror_mode": {
    "name": "ipython",
    "version": 3
   },
   "file_extension": ".py",
   "mimetype": "text/x-python",
   "name": "python",
   "nbconvert_exporter": "python",
   "pygments_lexer": "ipython3",
   "version": "3.12.4"
  }
 },
 "nbformat": 4,
 "nbformat_minor": 4
}
