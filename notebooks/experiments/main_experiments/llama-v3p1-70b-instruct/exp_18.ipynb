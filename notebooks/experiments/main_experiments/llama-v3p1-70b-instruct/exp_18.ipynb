{
 "cells": [
  {
   "cell_type": "code",
   "execution_count": 1,
   "id": "83ea88d7",
   "metadata": {
    "execution": {
     "iopub.execute_input": "2024-10-03T01:38:22.453281Z",
     "iopub.status.busy": "2024-10-03T01:38:22.453067Z",
     "iopub.status.idle": "2024-10-03T01:38:27.937491Z",
     "shell.execute_reply": "2024-10-03T01:38:27.937055Z"
    },
    "papermill": {
     "duration": 5.488905,
     "end_time": "2024-10-03T01:38:27.939074",
     "exception": false,
     "start_time": "2024-10-03T01:38:22.450169",
     "status": "completed"
    },
    "tags": []
   },
   "outputs": [],
   "source": [
    "import datetime\n",
    "import os\n",
    "from mdcrow import MDCrow"
   ]
  },
  {
   "cell_type": "code",
   "execution_count": 2,
   "id": "7538b2b5",
   "metadata": {
    "execution": {
     "iopub.execute_input": "2024-10-03T01:38:27.945021Z",
     "iopub.status.busy": "2024-10-03T01:38:27.944340Z",
     "iopub.status.idle": "2024-10-03T01:38:28.197324Z",
     "shell.execute_reply": "2024-10-03T01:38:28.196934Z"
    },
    "papermill": {
     "duration": 0.25634,
     "end_time": "2024-10-03T01:38:28.198516",
     "exception": false,
     "start_time": "2024-10-03T01:38:27.942176",
     "status": "completed"
    },
    "tags": []
   },
   "outputs": [
    {
     "name": "stdout",
     "output_type": "stream",
     "text": [
      "date and time: 2024-10-02\n",
      "time: 21:38:28\n",
      "LLM:  accounts/fireworks/models/llama-v3p1-70b-instruct \n",
      "Temperature:  0.1\n"
     ]
    }
   ],
   "source": [
    "prompt18 = \"Download the PDB for 2YXF. Tell me about its stability as found in the literature. Then, simulate it for 1 ns and plot its RMSD over time.\"\n",
    "llm_var = \"accounts/fireworks/models/llama-v3p1-70b-instruct\"\n",
    "paper_dir = \"paper_collection\"\n",
    "tools = \"all\"\n",
    "agent = MDCrow(agent_type=\"Structured\", model=llm_var, top_k_tools=tools, paper_dir=paper_dir)\n",
    "now = datetime.datetime.now()\n",
    "date = now.strftime(\"%Y-%m-%d\")\n",
    "print(\"date and time:\",date)\n",
    "time = now.strftime(\"%H:%M:%S\")\n",
    "print(\"time:\",time)\n",
    "print(\"LLM: \",agent.llm.model_name,\"\\nTemperature: \",agent.llm.temperature)"
   ]
  },
  {
   "cell_type": "code",
   "execution_count": 3,
   "id": "967acda2",
   "metadata": {
    "execution": {
     "iopub.execute_input": "2024-10-03T01:38:28.202319Z",
     "iopub.status.busy": "2024-10-03T01:38:28.202152Z",
     "iopub.status.idle": "2024-10-03T03:32:05.463770Z",
     "shell.execute_reply": "2024-10-03T03:32:05.463294Z"
    },
    "papermill": {
     "duration": 6817.265043,
     "end_time": "2024-10-03T03:32:05.465156",
     "exception": false,
     "start_time": "2024-10-03T01:38:28.200113",
     "status": "completed"
    },
    "tags": []
   },
   "outputs": [
    {
     "name": "stdout",
     "output_type": "stream",
     "text": [
      "Thought:"
     ]
    },
    {
     "name": "stdout",
     "output_type": "stream",
     "text": [
      " To solve this problem, I need to"
     ]
    },
    {
     "name": "stdout",
     "output_type": "stream",
     "text": [
      " first download the PDB file for"
     ]
    },
    {
     "name": "stdout",
     "output_type": "stream",
     "text": [
      " 2YXF, then search the"
     ]
    },
    {
     "name": "stdout",
     "output_type": "stream",
     "text": [
      " literature for information about its stability, simulate"
     ]
    },
    {
     "name": "stdout",
     "output_type": "stream",
     "text": [
      " it"
     ]
    },
    {
     "name": "stdout",
     "output_type": "stream",
     "text": [
      " for 1 ns, and finally plot its"
     ]
    },
    {
     "name": "stdout",
     "output_type": "stream",
     "text": [
      " RMSD over time.\n",
      "\n",
      "Action:\n",
      "```\n",
      "{\n",
      "  \""
     ]
    },
    {
     "name": "stdout",
     "output_type": "stream",
     "text": [
      "action\": \"PDBFileDownloader\",\n",
      "  \"action_input"
     ]
    },
    {
     "name": "stdout",
     "output_type": "stream",
     "text": [
      "\": \"2YXF\"\n",
      "}\n",
      "``"
     ]
    },
    {
     "name": "stdout",
     "output_type": "stream",
     "text": [
      "`\n"
     ]
    },
    {
     "name": "stdout",
     "output_type": "stream",
     "text": [
      "PDB file found with this ID: 2YXF\n"
     ]
    },
    {
     "name": "stdout",
     "output_type": "stream",
     "text": [
      "Thought:"
     ]
    },
    {
     "name": "stdout",
     "output_type": "stream",
     "text": [
      " Now that I have the PDB file, I need"
     ]
    },
    {
     "name": "stdout",
     "output_type": "stream",
     "text": [
      " to search the literature for information about its stability.\n",
      "\n",
      "Action"
     ]
    },
    {
     "name": "stdout",
     "output_type": "stream",
     "text": [
      ":\n",
      "```\n",
      "{\n",
      "  \"action\":"
     ]
    },
    {
     "name": "stdout",
     "output_type": "stream",
     "text": [
      " \"LiteratureSearch"
     ]
    },
    {
     "name": "stdout",
     "output_type": "stream",
     "text": [
      "\",\n",
      "  \"action_input\": \"2"
     ]
    },
    {
     "name": "stdout",
     "output_type": "stream",
     "text": [
      "YXF stability\"\n",
      "}\n",
      "```\n",
      "\n"
     ]
    },
    {
     "name": "stdout",
     "output_type": "stream",
     "text": [
      "Paper Directory /gpfs/fs2/scratch/qcampbe2/repos/md-agent_gpt_params/notebooks/experiments/experiment_k1/llama-v3p1-70b-instruct/paper_collection\n"
     ]
    },
    {
     "name": "stderr",
     "output_type": "stream",
     "text": [
      "/scratch/qcampbe2/myenvs/mdcrow/lib/python3.12/site-packages/pydantic/main.py:364: UserWarning: Pydantic serializer warnings:\n",
      "  Expected `PromptTokensDetails` but got `dict` - serialized value may not be as expected\n",
      "  return self.__pydantic_serializer__.to_python(\n"
     ]
    },
    {
     "data": {
      "text/html": [
       "<pre style=\"white-space:pre;overflow-x:auto;line-height:normal;font-family:Menlo,'DejaVu Sans Mono',consolas,'Courier New',monospace\"><span style=\"color: #7fbfbf; text-decoration-color: #7fbfbf\">[21:38:32] </span>Starting paper search for <span style=\"color: #008000; text-decoration-color: #008000\">'protein 2YXF structural analysis, 2015-2024  '</span>.                              \n",
       "</pre>\n"
      ],
      "text/plain": [
       "\u001b[2;36m[21:38:32]\u001b[0m\u001b[2;36m \u001b[0mStarting paper search for \u001b[32m'protein 2YXF structural analysis, 2015-2024  '\u001b[0m.                              \n"
      ]
     },
     "metadata": {},
     "output_type": "display_data"
    },
    {
     "data": {
      "text/html": [
       "<pre style=\"white-space:pre;overflow-x:auto;line-height:normal;font-family:Menlo,'DejaVu Sans Mono',consolas,'Courier New',monospace\"><span style=\"color: #7fbfbf; text-decoration-color: #7fbfbf\">           </span>New file to index: bringas_2017_hemoglobin.pdf<span style=\"color: #808000; text-decoration-color: #808000\">...</span>                                                       \n",
       "</pre>\n"
      ],
      "text/plain": [
       "\u001b[2;36m          \u001b[0m\u001b[2;36m \u001b[0mNew file to index: bringas_2017_hemoglobin.pdf\u001b[33m...\u001b[0m                                                       \n"
      ]
     },
     "metadata": {},
     "output_type": "display_data"
    },
    {
     "data": {
      "text/html": [
       "<pre style=\"white-space:pre;overflow-x:auto;line-height:normal;font-family:Menlo,'DejaVu Sans Mono',consolas,'Courier New',monospace\"><span style=\"color: #7fbfbf; text-decoration-color: #7fbfbf\">[21:38:33] </span>New file to index: cong_2017_trypsin-ligand.pdf<span style=\"color: #808000; text-decoration-color: #808000\">...</span>                                                      \n",
       "</pre>\n"
      ],
      "text/plain": [
       "\u001b[2;36m[21:38:33]\u001b[0m\u001b[2;36m \u001b[0mNew file to index: cong_2017_trypsin-ligand.pdf\u001b[33m...\u001b[0m                                                      \n"
      ]
     },
     "metadata": {},
     "output_type": "display_data"
    },
    {
     "data": {
      "text/html": [
       "<pre style=\"white-space:pre;overflow-x:auto;line-height:normal;font-family:Menlo,'DejaVu Sans Mono',consolas,'Courier New',monospace\"><span style=\"color: #7fbfbf; text-decoration-color: #7fbfbf\">           </span>New file to index: Vittaladevaram_2023_fibronectin.pdf<span style=\"color: #808000; text-decoration-color: #808000\">...</span>                                               \n",
       "</pre>\n"
      ],
      "text/plain": [
       "\u001b[2;36m          \u001b[0m\u001b[2;36m \u001b[0mNew file to index: Vittaladevaram_2023_fibronectin.pdf\u001b[33m...\u001b[0m                                               \n"
      ]
     },
     "metadata": {},
     "output_type": "display_data"
    },
    {
     "data": {
      "text/html": [
       "<pre style=\"white-space:pre;overflow-x:auto;line-height:normal;font-family:Menlo,'DejaVu Sans Mono',consolas,'Courier New',monospace\"><span style=\"color: #7fbfbf; text-decoration-color: #7fbfbf\">           </span>New file to index: sahoo-<span style=\"color: #008080; text-decoration-color: #008080; font-weight: bold\">2019</span>-unfolding-dynamics-of-ubiquitin.pdf<span style=\"color: #808000; text-decoration-color: #808000\">...</span>                                    \n",
       "</pre>\n"
      ],
      "text/plain": [
       "\u001b[2;36m          \u001b[0m\u001b[2;36m \u001b[0mNew file to index: sahoo-\u001b[1;36m2019\u001b[0m-unfolding-dynamics-of-ubiquitin.pdf\u001b[33m...\u001b[0m                                    \n"
      ]
     },
     "metadata": {},
     "output_type": "display_data"
    },
    {
     "data": {
      "text/html": [
       "<pre style=\"white-space:pre;overflow-x:auto;line-height:normal;font-family:Menlo,'DejaVu Sans Mono',consolas,'Courier New',monospace\"><span style=\"color: #7fbfbf; text-decoration-color: #7fbfbf\">           </span>New file to index: oliveira_2021_b2m_2yxf.pdf<span style=\"color: #808000; text-decoration-color: #808000\">...</span>                                                        \n",
       "</pre>\n"
      ],
      "text/plain": [
       "\u001b[2;36m          \u001b[0m\u001b[2;36m \u001b[0mNew file to index: oliveira_2021_b2m_2yxf.pdf\u001b[33m...\u001b[0m                                                        \n"
      ]
     },
     "metadata": {},
     "output_type": "display_data"
    },
    {
     "data": {
      "text/html": [
       "<pre style=\"white-space:pre;overflow-x:auto;line-height:normal;font-family:Menlo,'DejaVu Sans Mono',consolas,'Courier New',monospace\"><span style=\"color: #7fbfbf; text-decoration-color: #7fbfbf\">           </span>New file to index: lemmon_2017_fibronectin.pdf<span style=\"color: #808000; text-decoration-color: #808000\">...</span>                                                       \n",
       "</pre>\n"
      ],
      "text/plain": [
       "\u001b[2;36m          \u001b[0m\u001b[2;36m \u001b[0mNew file to index: lemmon_2017_fibronectin.pdf\u001b[33m...\u001b[0m                                                       \n"
      ]
     },
     "metadata": {},
     "output_type": "display_data"
    },
    {
     "data": {
      "text/html": [
       "<pre style=\"white-space:pre;overflow-x:auto;line-height:normal;font-family:Menlo,'DejaVu Sans Mono',consolas,'Courier New',monospace\"><span style=\"color: #7fbfbf; text-decoration-color: #7fbfbf\">           </span>New file to index: liamas_2018_fibronectin_1fnf.pdf<span style=\"color: #808000; text-decoration-color: #808000\">...</span>                                                  \n",
       "</pre>\n"
      ],
      "text/plain": [
       "\u001b[2;36m          \u001b[0m\u001b[2;36m \u001b[0mNew file to index: liamas_2018_fibronectin_1fnf.pdf\u001b[33m...\u001b[0m                                                  \n"
      ]
     },
     "metadata": {},
     "output_type": "display_data"
    },
    {
     "data": {
      "text/html": [
       "<pre style=\"white-space:pre;overflow-x:auto;line-height:normal;font-family:Menlo,'DejaVu Sans Mono',consolas,'Courier New',monospace\"><span style=\"color: #7fbfbf; text-decoration-color: #7fbfbf\">           </span>New file to index: ganoth_2013_ubiquitin.pdf<span style=\"color: #808000; text-decoration-color: #808000\">...</span>                                                         \n",
       "</pre>\n"
      ],
      "text/plain": [
       "\u001b[2;36m          \u001b[0m\u001b[2;36m \u001b[0mNew file to index: ganoth_2013_ubiquitin.pdf\u001b[33m...\u001b[0m                                                         \n"
      ]
     },
     "metadata": {},
     "output_type": "display_data"
    },
    {
     "data": {
      "text/html": [
       "<pre style=\"white-space:pre;overflow-x:auto;line-height:normal;font-family:Menlo,'DejaVu Sans Mono',consolas,'Courier New',monospace\"><span style=\"color: #7fbfbf; text-decoration-color: #7fbfbf\">[21:38:34] </span>New file to index: morand_2021_b2m_2yxf.pdf<span style=\"color: #808000; text-decoration-color: #808000\">...</span>                                                          \n",
       "</pre>\n"
      ],
      "text/plain": [
       "\u001b[2;36m[21:38:34]\u001b[0m\u001b[2;36m \u001b[0mNew file to index: morand_2021_b2m_2yxf.pdf\u001b[33m...\u001b[0m                                                          \n"
      ]
     },
     "metadata": {},
     "output_type": "display_data"
    },
    {
     "data": {
      "text/html": [
       "<pre style=\"white-space:pre;overflow-x:auto;line-height:normal;font-family:Menlo,'DejaVu Sans Mono',consolas,'Courier New',monospace\"><span style=\"color: #7fbfbf; text-decoration-color: #7fbfbf\">           </span>New file to index: clark_1985_hemoglobin.pdf<span style=\"color: #808000; text-decoration-color: #808000\">...</span>                                                         \n",
       "</pre>\n"
      ],
      "text/plain": [
       "\u001b[2;36m          \u001b[0m\u001b[2;36m \u001b[0mNew file to index: clark_1985_hemoglobin.pdf\u001b[33m...\u001b[0m                                                         \n"
      ]
     },
     "metadata": {},
     "output_type": "display_data"
    },
    {
     "data": {
      "text/html": [
       "<pre style=\"white-space:pre;overflow-x:auto;line-height:normal;font-family:Menlo,'DejaVu Sans Mono',consolas,'Courier New',monospace\"><span style=\"color: #7fbfbf; text-decoration-color: #7fbfbf\">           </span>New file to index:                                                                                      \n",
       "<span style=\"color: #7fbfbf; text-decoration-color: #7fbfbf\">           </span>mshirts%2C+<span style=\"color: #008080; text-decoration-color: #008080; font-weight: bold\">5957</span>-best-practices-for-foundations-in-molecular-simulations-article-v1-<span style=\"color: #008080; text-decoration-color: #008080; font-weight: bold\">0</span>+%<span style=\"color: #008080; text-decoration-color: #008080; font-weight: bold\">281</span>%<span style=\"color: #008080; text-decoration-color: #008080; font-weight: bold\">29.</span>pdf<span style=\"color: #808000; text-decoration-color: #808000\">...</span>     \n",
       "</pre>\n"
      ],
      "text/plain": [
       "\u001b[2;36m          \u001b[0m\u001b[2;36m \u001b[0mNew file to index:                                                                                      \n",
       "\u001b[2;36m           \u001b[0mmshirts%2C+\u001b[1;36m5957\u001b[0m-best-practices-for-foundations-in-molecular-simulations-article-v1-\u001b[1;36m0\u001b[0m+%\u001b[1;36m281\u001b[0m%\u001b[1;36m29.\u001b[0mpdf\u001b[33m...\u001b[0m     \n"
      ]
     },
     "metadata": {},
     "output_type": "display_data"
    },
    {
     "data": {
      "text/html": [
       "<pre style=\"white-space:pre;overflow-x:auto;line-height:normal;font-family:Menlo,'DejaVu Sans Mono',consolas,'Courier New',monospace\"><span style=\"color: #7fbfbf; text-decoration-color: #7fbfbf\">           </span>New file to index: sala_2018_proteinstability.pdf<span style=\"color: #808000; text-decoration-color: #808000\">...</span>                                                    \n",
       "</pre>\n"
      ],
      "text/plain": [
       "\u001b[2;36m          \u001b[0m\u001b[2;36m \u001b[0mNew file to index: sala_2018_proteinstability.pdf\u001b[33m...\u001b[0m                                                    \n"
      ]
     },
     "metadata": {},
     "output_type": "display_data"
    },
    {
     "data": {
      "text/html": [
       "<pre style=\"white-space:pre;overflow-x:auto;line-height:normal;font-family:Menlo,'DejaVu Sans Mono',consolas,'Courier New',monospace\"><span style=\"color: #7fbfbf; text-decoration-color: #7fbfbf\">[21:38:35] </span>New file to index: hage_2018_hemoglobin_sim_SI.pdf<span style=\"color: #808000; text-decoration-color: #808000\">...</span>                                                   \n",
       "</pre>\n"
      ],
      "text/plain": [
       "\u001b[2;36m[21:38:35]\u001b[0m\u001b[2;36m \u001b[0mNew file to index: hage_2018_hemoglobin_sim_SI.pdf\u001b[33m...\u001b[0m                                                   \n"
      ]
     },
     "metadata": {},
     "output_type": "display_data"
    },
    {
     "data": {
      "text/html": [
       "<pre style=\"white-space:pre;overflow-x:auto;line-height:normal;font-family:Menlo,'DejaVu Sans Mono',consolas,'Courier New',monospace\"><span style=\"color: #7fbfbf; text-decoration-color: #7fbfbf\">           </span>New file to index: laberge_2008_hemoglobin_sim.pdf<span style=\"color: #808000; text-decoration-color: #808000\">...</span>                                                   \n",
       "</pre>\n"
      ],
      "text/plain": [
       "\u001b[2;36m          \u001b[0m\u001b[2;36m \u001b[0mNew file to index: laberge_2008_hemoglobin_sim.pdf\u001b[33m...\u001b[0m                                                   \n"
      ]
     },
     "metadata": {},
     "output_type": "display_data"
    },
    {
     "data": {
      "text/html": [
       "<pre style=\"white-space:pre;overflow-x:auto;line-height:normal;font-family:Menlo,'DejaVu Sans Mono',consolas,'Courier New',monospace\"><span style=\"color: #7fbfbf; text-decoration-color: #7fbfbf\">           </span>New file to index: <span style=\"color: #008080; text-decoration-color: #008080; font-weight: bold\">10.</span>1002slct.<span style=\"color: #008080; text-decoration-color: #008080; font-weight: bold\">201801398.</span>pdf<span style=\"color: #808000; text-decoration-color: #808000\">...</span>                                                         \n",
       "</pre>\n"
      ],
      "text/plain": [
       "\u001b[2;36m          \u001b[0m\u001b[2;36m \u001b[0mNew file to index: \u001b[1;36m10.\u001b[0m1002slct.\u001b[1;36m201801398.\u001b[0mpdf\u001b[33m...\u001b[0m                                                         \n"
      ]
     },
     "metadata": {},
     "output_type": "display_data"
    },
    {
     "data": {
      "text/html": [
       "<pre style=\"white-space:pre;overflow-x:auto;line-height:normal;font-family:Menlo,'DejaVu Sans Mono',consolas,'Courier New',monospace\"><span style=\"color: #7fbfbf; text-decoration-color: #7fbfbf\">           </span>New file to index: paci_1999_fibronectin_1fnf.pdf<span style=\"color: #808000; text-decoration-color: #808000\">...</span>                                                    \n",
       "</pre>\n"
      ],
      "text/plain": [
       "\u001b[2;36m          \u001b[0m\u001b[2;36m \u001b[0mNew file to index: paci_1999_fibronectin_1fnf.pdf\u001b[33m...\u001b[0m                                                    \n"
      ]
     },
     "metadata": {},
     "output_type": "display_data"
    },
    {
     "data": {
      "text/html": [
       "<pre style=\"white-space:pre;overflow-x:auto;line-height:normal;font-family:Menlo,'DejaVu Sans Mono',consolas,'Courier New',monospace\"><span style=\"color: #7fbfbf; text-decoration-color: #7fbfbf\">           </span>New file to index: gee_2008_fibronectin_1fnf.pdf<span style=\"color: #808000; text-decoration-color: #808000\">...</span>                                                     \n",
       "</pre>\n"
      ],
      "text/plain": [
       "\u001b[2;36m          \u001b[0m\u001b[2;36m \u001b[0mNew file to index: gee_2008_fibronectin_1fnf.pdf\u001b[33m...\u001b[0m                                                     \n"
      ]
     },
     "metadata": {},
     "output_type": "display_data"
    },
    {
     "data": {
      "text/html": [
       "<pre style=\"white-space:pre;overflow-x:auto;line-height:normal;font-family:Menlo,'DejaVu Sans Mono',consolas,'Courier New',monospace\"><span style=\"color: #7fbfbf; text-decoration-color: #7fbfbf\">           </span>New file to index: hage_2018_hemoglobin_sim.pdf<span style=\"color: #808000; text-decoration-color: #808000\">...</span>                                                      \n",
       "</pre>\n"
      ],
      "text/plain": [
       "\u001b[2;36m          \u001b[0m\u001b[2;36m \u001b[0mNew file to index: hage_2018_hemoglobin_sim.pdf\u001b[33m...\u001b[0m                                                      \n"
      ]
     },
     "metadata": {},
     "output_type": "display_data"
    },
    {
     "data": {
      "text/html": [
       "<pre style=\"white-space:pre;overflow-x:auto;line-height:normal;font-family:Menlo,'DejaVu Sans Mono',consolas,'Courier New',monospace\"><span style=\"color: #7fbfbf; text-decoration-color: #7fbfbf\">[21:38:36] </span>New file to index: dunkelberger-et-al-2018_hemoglobin.pdf<span style=\"color: #808000; text-decoration-color: #808000\">...</span>                                            \n",
       "</pre>\n"
      ],
      "text/plain": [
       "\u001b[2;36m[21:38:36]\u001b[0m\u001b[2;36m \u001b[0mNew file to index: dunkelberger-et-al-2018_hemoglobin.pdf\u001b[33m...\u001b[0m                                            \n"
      ]
     },
     "metadata": {},
     "output_type": "display_data"
    },
    {
     "data": {
      "text/html": [
       "<pre style=\"white-space:pre;overflow-x:auto;line-height:normal;font-family:Menlo,'DejaVu Sans Mono',consolas,'Courier New',monospace\"><span style=\"color: #7fbfbf; text-decoration-color: #7fbfbf\">           </span>New file to index: liao_2014_fibronectin_sim.pdf<span style=\"color: #808000; text-decoration-color: #808000\">...</span>                                                     \n",
       "</pre>\n"
      ],
      "text/plain": [
       "\u001b[2;36m          \u001b[0m\u001b[2;36m \u001b[0mNew file to index: liao_2014_fibronectin_sim.pdf\u001b[33m...\u001b[0m                                                     \n"
      ]
     },
     "metadata": {},
     "output_type": "display_data"
    },
    {
     "data": {
      "text/html": [
       "<pre style=\"white-space:pre;overflow-x:auto;line-height:normal;font-family:Menlo,'DejaVu Sans Mono',consolas,'Courier New',monospace\"><span style=\"color: #7fbfbf; text-decoration-color: #7fbfbf\">           </span>New file to index: lucas_2012_hemoglobin_sim_SI.pdf<span style=\"color: #808000; text-decoration-color: #808000\">...</span>                                                  \n",
       "</pre>\n"
      ],
      "text/plain": [
       "\u001b[2;36m          \u001b[0m\u001b[2;36m \u001b[0mNew file to index: lucas_2012_hemoglobin_sim_SI.pdf\u001b[33m...\u001b[0m                                                  \n"
      ]
     },
     "metadata": {},
     "output_type": "display_data"
    },
    {
     "data": {
      "text/html": [
       "<pre style=\"white-space:pre;overflow-x:auto;line-height:normal;font-family:Menlo,'DejaVu Sans Mono',consolas,'Courier New',monospace\"><span style=\"color: #7fbfbf; text-decoration-color: #7fbfbf\">           </span>New file to index: hao_2021_fibronectin.pdf<span style=\"color: #808000; text-decoration-color: #808000\">...</span>                                                          \n",
       "</pre>\n"
      ],
      "text/plain": [
       "\u001b[2;36m          \u001b[0m\u001b[2;36m \u001b[0mNew file to index: hao_2021_fibronectin.pdf\u001b[33m...\u001b[0m                                                          \n"
      ]
     },
     "metadata": {},
     "output_type": "display_data"
    },
    {
     "data": {
      "text/html": [
       "<pre style=\"white-space:pre;overflow-x:auto;line-height:normal;font-family:Menlo,'DejaVu Sans Mono',consolas,'Courier New',monospace\"><span style=\"color: #7fbfbf; text-decoration-color: #7fbfbf\">           </span>New file to index: mace_docs_2024.pdf<span style=\"color: #808000; text-decoration-color: #808000\">...</span>                                                                \n",
       "</pre>\n"
      ],
      "text/plain": [
       "\u001b[2;36m          \u001b[0m\u001b[2;36m \u001b[0mNew file to index: mace_docs_2024.pdf\u001b[33m...\u001b[0m                                                                \n"
      ]
     },
     "metadata": {},
     "output_type": "display_data"
    },
    {
     "data": {
      "text/html": [
       "<pre style=\"white-space:pre;overflow-x:auto;line-height:normal;font-family:Menlo,'DejaVu Sans Mono',consolas,'Courier New',monospace\"><span style=\"color: #7fbfbf; text-decoration-color: #7fbfbf\">           </span>New file to index: lucas_2012_hemoglobin_sim.pdf<span style=\"color: #808000; text-decoration-color: #808000\">...</span>                                                     \n",
       "</pre>\n"
      ],
      "text/plain": [
       "\u001b[2;36m          \u001b[0m\u001b[2;36m \u001b[0mNew file to index: lucas_2012_hemoglobin_sim.pdf\u001b[33m...\u001b[0m                                                     \n"
      ]
     },
     "metadata": {},
     "output_type": "display_data"
    },
    {
     "data": {
      "text/html": [
       "<pre style=\"white-space:pre;overflow-x:auto;line-height:normal;font-family:Menlo,'DejaVu Sans Mono',consolas,'Courier New',monospace\"><span style=\"color: #7fbfbf; text-decoration-color: #7fbfbf\">           </span>New file to index: raffaini-ganazzoli-<span style=\"color: #008080; text-decoration-color: #008080; font-weight: bold\">2004</span>-fibronectin_sim.pdf<span style=\"color: #808000; text-decoration-color: #808000\">...</span>                                       \n",
       "</pre>\n"
      ],
      "text/plain": [
       "\u001b[2;36m          \u001b[0m\u001b[2;36m \u001b[0mNew file to index: raffaini-ganazzoli-\u001b[1;36m2004\u001b[0m-fibronectin_sim.pdf\u001b[33m...\u001b[0m                                       \n"
      ]
     },
     "metadata": {},
     "output_type": "display_data"
    },
    {
     "data": {
      "text/html": [
       "<pre style=\"white-space:pre;overflow-x:auto;line-height:normal;font-family:Menlo,'DejaVu Sans Mono',consolas,'Courier New',monospace\"><span style=\"color: #7fbfbf; text-decoration-color: #7fbfbf\">[21:38:38] </span>SEMANTIC_SCHOLAR_API_KEY environment variable not set. Semantic Scholar API rate limits may apply.      \n",
       "</pre>\n"
      ],
      "text/plain": [
       "\u001b[2;36m[21:38:38]\u001b[0m\u001b[2;36m \u001b[0mSEMANTIC_SCHOLAR_API_KEY environment variable not set. Semantic Scholar API rate limits may apply.      \n"
      ]
     },
     "metadata": {},
     "output_type": "display_data"
    },
    {
     "data": {
      "text/html": [
       "<pre style=\"white-space:pre;overflow-x:auto;line-height:normal;font-family:Menlo,'DejaVu Sans Mono',consolas,'Courier New',monospace\"><span style=\"color: #7fbfbf; text-decoration-color: #7fbfbf\">           </span>CROSSREF_MAILTO environment variable not set. Crossref API rate limits may apply.                       \n",
       "</pre>\n"
      ],
      "text/plain": [
       "\u001b[2;36m          \u001b[0m\u001b[2;36m \u001b[0mCROSSREF_MAILTO environment variable not set. Crossref API rate limits may apply.                       \n"
      ]
     },
     "metadata": {},
     "output_type": "display_data"
    },
    {
     "data": {
      "text/html": [
       "<pre style=\"white-space:pre;overflow-x:auto;line-height:normal;font-family:Menlo,'DejaVu Sans Mono',consolas,'Courier New',monospace\"><span style=\"color: #7fbfbf; text-decoration-color: #7fbfbf\">           </span>CROSSREF_API_KEY environment variable not set. Crossref API rate limits may apply.                      \n",
       "</pre>\n"
      ],
      "text/plain": [
       "\u001b[2;36m          \u001b[0m\u001b[2;36m \u001b[0mCROSSREF_API_KEY environment variable not set. Crossref API rate limits may apply.                      \n"
      ]
     },
     "metadata": {},
     "output_type": "display_data"
    },
    {
     "data": {
      "text/html": [
       "<pre style=\"white-space:pre;overflow-x:auto;line-height:normal;font-family:Menlo,'DejaVu Sans Mono',consolas,'Courier New',monospace\"><span style=\"color: #7fbfbf; text-decoration-color: #7fbfbf\">           </span>SEMANTIC_SCHOLAR_API_KEY environment variable not set. Semantic Scholar API rate limits may apply.      \n",
       "</pre>\n"
      ],
      "text/plain": [
       "\u001b[2;36m          \u001b[0m\u001b[2;36m \u001b[0mSEMANTIC_SCHOLAR_API_KEY environment variable not set. Semantic Scholar API rate limits may apply.      \n"
      ]
     },
     "metadata": {},
     "output_type": "display_data"
    },
    {
     "data": {
      "text/html": [
       "<pre style=\"white-space:pre;overflow-x:auto;line-height:normal;font-family:Menlo,'DejaVu Sans Mono',consolas,'Courier New',monospace\"><span style=\"color: #7fbfbf; text-decoration-color: #7fbfbf\">           </span>SEMANTIC_SCHOLAR_API_KEY environment variable not set. Semantic Scholar API rate limits may apply.      \n",
       "</pre>\n"
      ],
      "text/plain": [
       "\u001b[2;36m          \u001b[0m\u001b[2;36m \u001b[0mSEMANTIC_SCHOLAR_API_KEY environment variable not set. Semantic Scholar API rate limits may apply.      \n"
      ]
     },
     "metadata": {},
     "output_type": "display_data"
    },
    {
     "data": {
      "text/html": [
       "<pre style=\"white-space:pre;overflow-x:auto;line-height:normal;font-family:Menlo,'DejaVu Sans Mono',consolas,'Courier New',monospace\"><span style=\"color: #7fbfbf; text-decoration-color: #7fbfbf\">           </span>SEMANTIC_SCHOLAR_API_KEY environment variable not set. Semantic Scholar API rate limits may apply.      \n",
       "</pre>\n"
      ],
      "text/plain": [
       "\u001b[2;36m          \u001b[0m\u001b[2;36m \u001b[0mSEMANTIC_SCHOLAR_API_KEY environment variable not set. Semantic Scholar API rate limits may apply.      \n"
      ]
     },
     "metadata": {},
     "output_type": "display_data"
    },
    {
     "data": {
      "text/html": [
       "<pre style=\"white-space:pre;overflow-x:auto;line-height:normal;font-family:Menlo,'DejaVu Sans Mono',consolas,'Courier New',monospace\"><span style=\"color: #7fbfbf; text-decoration-color: #7fbfbf\">           </span>SEMANTIC_SCHOLAR_API_KEY environment variable not set. Semantic Scholar API rate limits may apply.      \n",
       "</pre>\n"
      ],
      "text/plain": [
       "\u001b[2;36m          \u001b[0m\u001b[2;36m \u001b[0mSEMANTIC_SCHOLAR_API_KEY environment variable not set. Semantic Scholar API rate limits may apply.      \n"
      ]
     },
     "metadata": {},
     "output_type": "display_data"
    },
    {
     "data": {
      "text/html": [
       "<pre style=\"white-space:pre;overflow-x:auto;line-height:normal;font-family:Menlo,'DejaVu Sans Mono',consolas,'Courier New',monospace\"><span style=\"color: #7fbfbf; text-decoration-color: #7fbfbf\">           </span>SEMANTIC_SCHOLAR_API_KEY environment variable not set. Semantic Scholar API rate limits may apply.      \n",
       "</pre>\n"
      ],
      "text/plain": [
       "\u001b[2;36m          \u001b[0m\u001b[2;36m \u001b[0mSEMANTIC_SCHOLAR_API_KEY environment variable not set. Semantic Scholar API rate limits may apply.      \n"
      ]
     },
     "metadata": {},
     "output_type": "display_data"
    },
    {
     "data": {
      "text/html": [
       "<pre style=\"white-space:pre;overflow-x:auto;line-height:normal;font-family:Menlo,'DejaVu Sans Mono',consolas,'Courier New',monospace\"><span style=\"color: #7fbfbf; text-decoration-color: #7fbfbf\">           </span>SEMANTIC_SCHOLAR_API_KEY environment variable not set. Semantic Scholar API rate limits may apply.      \n",
       "</pre>\n"
      ],
      "text/plain": [
       "\u001b[2;36m          \u001b[0m\u001b[2;36m \u001b[0mSEMANTIC_SCHOLAR_API_KEY environment variable not set. Semantic Scholar API rate limits may apply.      \n"
      ]
     },
     "metadata": {},
     "output_type": "display_data"
    },
    {
     "data": {
      "text/html": [
       "<pre style=\"white-space:pre;overflow-x:auto;line-height:normal;font-family:Menlo,'DejaVu Sans Mono',consolas,'Courier New',monospace\"><span style=\"color: #7fbfbf; text-decoration-color: #7fbfbf\">           </span>SEMANTIC_SCHOLAR_API_KEY environment variable not set. Semantic Scholar API rate limits may apply.      \n",
       "</pre>\n"
      ],
      "text/plain": [
       "\u001b[2;36m          \u001b[0m\u001b[2;36m \u001b[0mSEMANTIC_SCHOLAR_API_KEY environment variable not set. Semantic Scholar API rate limits may apply.      \n"
      ]
     },
     "metadata": {},
     "output_type": "display_data"
    },
    {
     "data": {
      "text/html": [
       "<pre style=\"white-space:pre;overflow-x:auto;line-height:normal;font-family:Menlo,'DejaVu Sans Mono',consolas,'Courier New',monospace\"><span style=\"color: #7fbfbf; text-decoration-color: #7fbfbf\">[21:38:39] </span>SEMANTIC_SCHOLAR_API_KEY environment variable not set. Semantic Scholar API rate limits may apply.      \n",
       "</pre>\n"
      ],
      "text/plain": [
       "\u001b[2;36m[21:38:39]\u001b[0m\u001b[2;36m \u001b[0mSEMANTIC_SCHOLAR_API_KEY environment variable not set. Semantic Scholar API rate limits may apply.      \n"
      ]
     },
     "metadata": {},
     "output_type": "display_data"
    },
    {
     "data": {
      "text/html": [
       "<pre style=\"white-space:pre;overflow-x:auto;line-height:normal;font-family:Menlo,'DejaVu Sans Mono',consolas,'Courier New',monospace\"><span style=\"color: #7fbfbf; text-decoration-color: #7fbfbf\">           </span>SEMANTIC_SCHOLAR_API_KEY environment variable not set. Semantic Scholar API rate limits may apply.      \n",
       "</pre>\n"
      ],
      "text/plain": [
       "\u001b[2;36m          \u001b[0m\u001b[2;36m \u001b[0mSEMANTIC_SCHOLAR_API_KEY environment variable not set. Semantic Scholar API rate limits may apply.      \n"
      ]
     },
     "metadata": {},
     "output_type": "display_data"
    },
    {
     "data": {
      "text/html": [
       "<pre style=\"white-space:pre;overflow-x:auto;line-height:normal;font-family:Menlo,'DejaVu Sans Mono',consolas,'Courier New',monospace\"><span style=\"color: #7fbfbf; text-decoration-color: #7fbfbf\">           </span>SEMANTIC_SCHOLAR_API_KEY environment variable not set. Semantic Scholar API rate limits may apply.      \n",
       "</pre>\n"
      ],
      "text/plain": [
       "\u001b[2;36m          \u001b[0m\u001b[2;36m \u001b[0mSEMANTIC_SCHOLAR_API_KEY environment variable not set. Semantic Scholar API rate limits may apply.      \n"
      ]
     },
     "metadata": {},
     "output_type": "display_data"
    },
    {
     "data": {
      "text/html": [
       "<pre style=\"white-space:pre;overflow-x:auto;line-height:normal;font-family:Menlo,'DejaVu Sans Mono',consolas,'Courier New',monospace\"><span style=\"color: #7fbfbf; text-decoration-color: #7fbfbf\">           </span>SEMANTIC_SCHOLAR_API_KEY environment variable not set. Semantic Scholar API rate limits may apply.      \n",
       "</pre>\n"
      ],
      "text/plain": [
       "\u001b[2;36m          \u001b[0m\u001b[2;36m \u001b[0mSEMANTIC_SCHOLAR_API_KEY environment variable not set. Semantic Scholar API rate limits may apply.      \n"
      ]
     },
     "metadata": {},
     "output_type": "display_data"
    },
    {
     "data": {
      "text/html": [
       "<pre style=\"white-space:pre;overflow-x:auto;line-height:normal;font-family:Menlo,'DejaVu Sans Mono',consolas,'Courier New',monospace\"><span style=\"color: #7fbfbf; text-decoration-color: #7fbfbf\">           </span>SEMANTIC_SCHOLAR_API_KEY environment variable not set. Semantic Scholar API rate limits may apply.      \n",
       "</pre>\n"
      ],
      "text/plain": [
       "\u001b[2;36m          \u001b[0m\u001b[2;36m \u001b[0mSEMANTIC_SCHOLAR_API_KEY environment variable not set. Semantic Scholar API rate limits may apply.      \n"
      ]
     },
     "metadata": {},
     "output_type": "display_data"
    },
    {
     "data": {
      "text/html": [
       "<pre style=\"white-space:pre;overflow-x:auto;line-height:normal;font-family:Menlo,'DejaVu Sans Mono',consolas,'Courier New',monospace\"><span style=\"color: #7fbfbf; text-decoration-color: #7fbfbf\">           </span>SEMANTIC_SCHOLAR_API_KEY environment variable not set. Semantic Scholar API rate limits may apply.      \n",
       "</pre>\n"
      ],
      "text/plain": [
       "\u001b[2;36m          \u001b[0m\u001b[2;36m \u001b[0mSEMANTIC_SCHOLAR_API_KEY environment variable not set. Semantic Scholar API rate limits may apply.      \n"
      ]
     },
     "metadata": {},
     "output_type": "display_data"
    },
    {
     "data": {
      "text/html": [
       "<pre style=\"white-space:pre;overflow-x:auto;line-height:normal;font-family:Menlo,'DejaVu Sans Mono',consolas,'Courier New',monospace\"><span style=\"color: #7fbfbf; text-decoration-color: #7fbfbf\">           </span>SEMANTIC_SCHOLAR_API_KEY environment variable not set. Semantic Scholar API rate limits may apply.      \n",
       "</pre>\n"
      ],
      "text/plain": [
       "\u001b[2;36m          \u001b[0m\u001b[2;36m \u001b[0mSEMANTIC_SCHOLAR_API_KEY environment variable not set. Semantic Scholar API rate limits may apply.      \n"
      ]
     },
     "metadata": {},
     "output_type": "display_data"
    },
    {
     "data": {
      "text/html": [
       "<pre style=\"white-space:pre;overflow-x:auto;line-height:normal;font-family:Menlo,'DejaVu Sans Mono',consolas,'Courier New',monospace\"><span style=\"color: #7fbfbf; text-decoration-color: #7fbfbf\">           </span>SEMANTIC_SCHOLAR_API_KEY environment variable not set. Semantic Scholar API rate limits may apply.      \n",
       "</pre>\n"
      ],
      "text/plain": [
       "\u001b[2;36m          \u001b[0m\u001b[2;36m \u001b[0mSEMANTIC_SCHOLAR_API_KEY environment variable not set. Semantic Scholar API rate limits may apply.      \n"
      ]
     },
     "metadata": {},
     "output_type": "display_data"
    },
    {
     "data": {
      "text/html": [
       "<pre style=\"white-space:pre;overflow-x:auto;line-height:normal;font-family:Menlo,'DejaVu Sans Mono',consolas,'Courier New',monospace\"><span style=\"color: #7fbfbf; text-decoration-color: #7fbfbf\">           </span>SEMANTIC_SCHOLAR_API_KEY environment variable not set. Semantic Scholar API rate limits may apply.      \n",
       "</pre>\n"
      ],
      "text/plain": [
       "\u001b[2;36m          \u001b[0m\u001b[2;36m \u001b[0mSEMANTIC_SCHOLAR_API_KEY environment variable not set. Semantic Scholar API rate limits may apply.      \n"
      ]
     },
     "metadata": {},
     "output_type": "display_data"
    },
    {
     "data": {
      "text/html": [
       "<pre style=\"white-space:pre;overflow-x:auto;line-height:normal;font-family:Menlo,'DejaVu Sans Mono',consolas,'Courier New',monospace\"><span style=\"color: #7fbfbf; text-decoration-color: #7fbfbf\">           </span>SEMANTIC_SCHOLAR_API_KEY environment variable not set. Semantic Scholar API rate limits may apply.      \n",
       "</pre>\n"
      ],
      "text/plain": [
       "\u001b[2;36m          \u001b[0m\u001b[2;36m \u001b[0mSEMANTIC_SCHOLAR_API_KEY environment variable not set. Semantic Scholar API rate limits may apply.      \n"
      ]
     },
     "metadata": {},
     "output_type": "display_data"
    },
    {
     "data": {
      "text/html": [
       "<pre style=\"white-space:pre;overflow-x:auto;line-height:normal;font-family:Menlo,'DejaVu Sans Mono',consolas,'Courier New',monospace\"><span style=\"color: #7fbfbf; text-decoration-color: #7fbfbf\">           </span>SEMANTIC_SCHOLAR_API_KEY environment variable not set. Semantic Scholar API rate limits may apply.      \n",
       "</pre>\n"
      ],
      "text/plain": [
       "\u001b[2;36m          \u001b[0m\u001b[2;36m \u001b[0mSEMANTIC_SCHOLAR_API_KEY environment variable not set. Semantic Scholar API rate limits may apply.      \n"
      ]
     },
     "metadata": {},
     "output_type": "display_data"
    },
    {
     "data": {
      "text/html": [
       "<pre style=\"white-space:pre;overflow-x:auto;line-height:normal;font-family:Menlo,'DejaVu Sans Mono',consolas,'Courier New',monospace\"><span style=\"color: #7fbfbf; text-decoration-color: #7fbfbf\">           </span>Metadata not found for eLife’s Transparent Reporting Form in SemanticScholarProvider.                   \n",
       "</pre>\n"
      ],
      "text/plain": [
       "\u001b[2;36m          \u001b[0m\u001b[2;36m \u001b[0mMetadata not found for eLife’s Transparent Reporting Form in SemanticScholarProvider.                   \n"
      ]
     },
     "metadata": {},
     "output_type": "display_data"
    },
    {
     "data": {
      "text/html": [
       "<pre style=\"white-space:pre;overflow-x:auto;line-height:normal;font-family:Menlo,'DejaVu Sans Mono',consolas,'Courier New',monospace\"><span style=\"color: #7fbfbf; text-decoration-color: #7fbfbf\">           </span>Metadata not found for Dissecting Structural Aspects of Protein Stability in SemanticScholarProvider.   \n",
       "</pre>\n"
      ],
      "text/plain": [
       "\u001b[2;36m          \u001b[0m\u001b[2;36m \u001b[0mMetadata not found for Dissecting Structural Aspects of Protein Stability in SemanticScholarProvider.   \n"
      ]
     },
     "metadata": {},
     "output_type": "display_data"
    },
    {
     "data": {
      "text/html": [
       "<pre style=\"white-space:pre;overflow-x:auto;line-height:normal;font-family:Menlo,'DejaVu Sans Mono',consolas,'Courier New',monospace\"><span style=\"color: #7fbfbf; text-decoration-color: #7fbfbf\">           </span>Metadata not found for Mace: Release <span style=\"color: #008080; text-decoration-color: #008080; font-weight: bold\">0.1</span>.<span style=\"color: #008080; text-decoration-color: #008080; font-weight: bold\">0</span> in SemanticScholarProvider.                                  \n",
       "</pre>\n"
      ],
      "text/plain": [
       "\u001b[2;36m          \u001b[0m\u001b[2;36m \u001b[0mMetadata not found for Mace: Release \u001b[1;36m0.1\u001b[0m.\u001b[1;36m0\u001b[0m in SemanticScholarProvider.                                  \n"
      ]
     },
     "metadata": {},
     "output_type": "display_data"
    },
    {
     "data": {
      "text/html": [
       "<pre style=\"white-space:pre;overflow-x:auto;line-height:normal;font-family:Menlo,'DejaVu Sans Mono',consolas,'Courier New',monospace\"><span style=\"color: #7fbfbf; text-decoration-color: #7fbfbf\">           </span>Metadata not found for <span style=\"color: #008080; text-decoration-color: #008080; font-weight: bold\">10.7554</span>/eLife.<span style=\"color: #008080; text-decoration-color: #008080; font-weight: bold\">35560.001</span> in SemanticScholarProvider.                              \n",
       "</pre>\n"
      ],
      "text/plain": [
       "\u001b[2;36m          \u001b[0m\u001b[2;36m \u001b[0mMetadata not found for \u001b[1;36m10.7554\u001b[0m/eLife.\u001b[1;36m35560.001\u001b[0m in SemanticScholarProvider.                              \n"
      ]
     },
     "metadata": {},
     "output_type": "display_data"
    },
    {
     "data": {
      "text/html": [
       "<pre style=\"white-space:pre;overflow-x:auto;line-height:normal;font-family:Menlo,'DejaVu Sans Mono',consolas,'Courier New',monospace\"><span style=\"color: #7fbfbf; text-decoration-color: #7fbfbf\">           </span>Metadata not found for <span style=\"color: #008080; text-decoration-color: #008080; font-weight: bold\">10.1021</span>/acs.jpcb.8b08612 in SemanticScholarProvider.                             \n",
       "</pre>\n"
      ],
      "text/plain": [
       "\u001b[2;36m          \u001b[0m\u001b[2;36m \u001b[0mMetadata not found for \u001b[1;36m10.1021\u001b[0m/acs.jpcb.8b08612 in SemanticScholarProvider.                             \n"
      ]
     },
     "metadata": {},
     "output_type": "display_data"
    },
    {
     "data": {
      "text/html": [
       "<pre style=\"white-space:pre;overflow-x:auto;line-height:normal;font-family:Menlo,'DejaVu Sans Mono',consolas,'Courier New',monospace\"><span style=\"color: #7fbfbf; text-decoration-color: #7fbfbf\">           </span>SEMANTIC_SCHOLAR_API_KEY environment variable not set. Semantic Scholar API rate limits may apply.      \n",
       "</pre>\n"
      ],
      "text/plain": [
       "\u001b[2;36m          \u001b[0m\u001b[2;36m \u001b[0mSEMANTIC_SCHOLAR_API_KEY environment variable not set. Semantic Scholar API rate limits may apply.      \n"
      ]
     },
     "metadata": {},
     "output_type": "display_data"
    },
    {
     "data": {
      "text/html": [
       "<pre style=\"white-space:pre;overflow-x:auto;line-height:normal;font-family:Menlo,'DejaVu Sans Mono',consolas,'Courier New',monospace\"><span style=\"color: #7fbfbf; text-decoration-color: #7fbfbf\">           </span>Metadata not found for <span style=\"color: #008080; text-decoration-color: #008080; font-weight: bold\">10.1021</span>/acs.jpcb.8b12345 in SemanticScholarProvider.                             \n",
       "</pre>\n"
      ],
      "text/plain": [
       "\u001b[2;36m          \u001b[0m\u001b[2;36m \u001b[0mMetadata not found for \u001b[1;36m10.1021\u001b[0m/acs.jpcb.8b12345 in SemanticScholarProvider.                             \n"
      ]
     },
     "metadata": {},
     "output_type": "display_data"
    },
    {
     "data": {
      "text/html": [
       "<pre style=\"white-space:pre;overflow-x:auto;line-height:normal;font-family:Menlo,'DejaVu Sans Mono',consolas,'Courier New',monospace\"><span style=\"color: #7fbfbf; text-decoration-color: #7fbfbf\">           </span>Metadata not found for Oxygen Delivery from Red Cells in SemanticScholarProvider.                       \n",
       "</pre>\n"
      ],
      "text/plain": [
       "\u001b[2;36m          \u001b[0m\u001b[2;36m \u001b[0mMetadata not found for Oxygen Delivery from Red Cells in SemanticScholarProvider.                       \n"
      ]
     },
     "metadata": {},
     "output_type": "display_data"
    },
    {
     "data": {
      "text/html": [
       "<pre style=\"white-space:pre;overflow-x:auto;line-height:normal;font-family:Menlo,'DejaVu Sans Mono',consolas,'Courier New',monospace\"><span style=\"color: #7fbfbf; text-decoration-color: #7fbfbf\">           </span>SEMANTIC_SCHOLAR_API_KEY environment variable not set. Semantic Scholar API rate limits may apply.      \n",
       "</pre>\n"
      ],
      "text/plain": [
       "\u001b[2;36m          \u001b[0m\u001b[2;36m \u001b[0mSEMANTIC_SCHOLAR_API_KEY environment variable not set. Semantic Scholar API rate limits may apply.      \n"
      ]
     },
     "metadata": {},
     "output_type": "display_data"
    },
    {
     "data": {
      "text/html": [
       "<pre style=\"white-space:pre;overflow-x:auto;line-height:normal;font-family:Menlo,'DejaVu Sans Mono',consolas,'Courier New',monospace\"><span style=\"color: #7fbfbf; text-decoration-color: #7fbfbf\">           </span>Metadata not found for An Atomistic View on Human Hemoglobin Carbon Monoxide Migration Processes in     \n",
       "<span style=\"color: #7fbfbf; text-decoration-color: #7fbfbf\">           </span>SemanticScholarProvider.                                                                                \n",
       "</pre>\n"
      ],
      "text/plain": [
       "\u001b[2;36m          \u001b[0m\u001b[2;36m \u001b[0mMetadata not found for An Atomistic View on Human Hemoglobin Carbon Monoxide Migration Processes in     \n",
       "\u001b[2;36m           \u001b[0mSemanticScholarProvider.                                                                                \n"
      ]
     },
     "metadata": {},
     "output_type": "display_data"
    },
    {
     "data": {
      "text/html": [
       "<pre style=\"white-space:pre;overflow-x:auto;line-height:normal;font-family:Menlo,'DejaVu Sans Mono',consolas,'Courier New',monospace\"><span style=\"color: #7fbfbf; text-decoration-color: #7fbfbf\">           </span>SEMANTIC_SCHOLAR_API_KEY environment variable not set. Semantic Scholar API rate limits may apply.      \n",
       "</pre>\n"
      ],
      "text/plain": [
       "\u001b[2;36m          \u001b[0m\u001b[2;36m \u001b[0mSEMANTIC_SCHOLAR_API_KEY environment variable not set. Semantic Scholar API rate limits may apply.      \n"
      ]
     },
     "metadata": {},
     "output_type": "display_data"
    },
    {
     "data": {
      "text/html": [
       "<pre style=\"white-space:pre;overflow-x:auto;line-height:normal;font-family:Menlo,'DejaVu Sans Mono',consolas,'Courier New',monospace\"><span style=\"color: #7fbfbf; text-decoration-color: #7fbfbf\">           </span>SEMANTIC_SCHOLAR_API_KEY environment variable not set. Semantic Scholar API rate limits may apply.      \n",
       "</pre>\n"
      ],
      "text/plain": [
       "\u001b[2;36m          \u001b[0m\u001b[2;36m \u001b[0mSEMANTIC_SCHOLAR_API_KEY environment variable not set. Semantic Scholar API rate limits may apply.      \n"
      ]
     },
     "metadata": {},
     "output_type": "display_data"
    },
    {
     "data": {
      "text/html": [
       "<pre style=\"white-space:pre;overflow-x:auto;line-height:normal;font-family:Menlo,'DejaVu Sans Mono',consolas,'Courier New',monospace\"><span style=\"color: #7fbfbf; text-decoration-color: #7fbfbf\">           </span>Metadata not found for Molecular Dynamics Simulation of the Adsorption of a Fibronectin Module on a     \n",
       "<span style=\"color: #7fbfbf; text-decoration-color: #7fbfbf\">           </span>Graphite Surface in SemanticScholarProvider.                                                            \n",
       "</pre>\n"
      ],
      "text/plain": [
       "\u001b[2;36m          \u001b[0m\u001b[2;36m \u001b[0mMetadata not found for Molecular Dynamics Simulation of the Adsorption of a Fibronectin Module on a     \n",
       "\u001b[2;36m           \u001b[0mGraphite Surface in SemanticScholarProvider.                                                            \n"
      ]
     },
     "metadata": {},
     "output_type": "display_data"
    },
    {
     "data": {
      "text/html": [
       "<pre style=\"white-space:pre;overflow-x:auto;line-height:normal;font-family:Menlo,'DejaVu Sans Mono',consolas,'Courier New',monospace\"><span style=\"color: #7fbfbf; text-decoration-color: #7fbfbf\">           </span>Metadata not found for Ubiquitin: Molecular Modeling and Simulations in SemanticScholarProvider.        \n",
       "</pre>\n"
      ],
      "text/plain": [
       "\u001b[2;36m          \u001b[0m\u001b[2;36m \u001b[0mMetadata not found for Ubiquitin: Molecular Modeling and Simulations in SemanticScholarProvider.        \n"
      ]
     },
     "metadata": {},
     "output_type": "display_data"
    },
    {
     "data": {
      "text/html": [
       "<pre style=\"white-space:pre;overflow-x:auto;line-height:normal;font-family:Menlo,'DejaVu Sans Mono',consolas,'Courier New',monospace\"><span style=\"color: #7fbfbf; text-decoration-color: #7fbfbf\">[21:38:40] </span>SEMANTIC_SCHOLAR_API_KEY environment variable not set. Semantic Scholar API rate limits may apply.      \n",
       "</pre>\n"
      ],
      "text/plain": [
       "\u001b[2;36m[21:38:40]\u001b[0m\u001b[2;36m \u001b[0mSEMANTIC_SCHOLAR_API_KEY environment variable not set. Semantic Scholar API rate limits may apply.      \n"
      ]
     },
     "metadata": {},
     "output_type": "display_data"
    },
    {
     "data": {
      "text/html": [
       "<pre style=\"white-space:pre;overflow-x:auto;line-height:normal;font-family:Menlo,'DejaVu Sans Mono',consolas,'Courier New',monospace\"><span style=\"color: #7fbfbf; text-decoration-color: #7fbfbf\">           </span>Metadata not found for An Atomistic View on Human Hemoglobin Carbon Monoxide Migration Processes in     \n",
       "<span style=\"color: #7fbfbf; text-decoration-color: #7fbfbf\">           </span>SemanticScholarProvider.                                                                                \n",
       "</pre>\n"
      ],
      "text/plain": [
       "\u001b[2;36m          \u001b[0m\u001b[2;36m \u001b[0mMetadata not found for An Atomistic View on Human Hemoglobin Carbon Monoxide Migration Processes in     \n",
       "\u001b[2;36m           \u001b[0mSemanticScholarProvider.                                                                                \n"
      ]
     },
     "metadata": {},
     "output_type": "display_data"
    },
    {
     "data": {
      "text/html": [
       "<pre style=\"white-space:pre;overflow-x:auto;line-height:normal;font-family:Menlo,'DejaVu Sans Mono',consolas,'Courier New',monospace\"><span style=\"color: #7fbfbf; text-decoration-color: #7fbfbf\">           </span>Metadata not found for Predicting Stable Binding Modes from Simulated Dimers of the D76N Mutant of      \n",
       "<span style=\"color: #7fbfbf; text-decoration-color: #7fbfbf\">           </span>β2-Microglobulin in SemanticScholarProvider.                                                            \n",
       "</pre>\n"
      ],
      "text/plain": [
       "\u001b[2;36m          \u001b[0m\u001b[2;36m \u001b[0mMetadata not found for Predicting Stable Binding Modes from Simulated Dimers of the D76N Mutant of      \n",
       "\u001b[2;36m           \u001b[0mβ2-Microglobulin in SemanticScholarProvider.                                                            \n"
      ]
     },
     "metadata": {},
     "output_type": "display_data"
    },
    {
     "data": {
      "text/html": [
       "<pre style=\"white-space:pre;overflow-x:auto;line-height:normal;font-family:Menlo,'DejaVu Sans Mono',consolas,'Courier New',monospace\"><span style=\"color: #7fbfbf; text-decoration-color: #7fbfbf\">           </span>Metadata not found for Molecular Dynamics Simulations of Hemoglobin A in Different States and Bound to  \n",
       "<span style=\"color: #7fbfbf; text-decoration-color: #7fbfbf\">           </span>DPG: Effector-Linked Perturbation of Tertiary Conformations and HbA Concerted Dynamics in               \n",
       "<span style=\"color: #7fbfbf; text-decoration-color: #7fbfbf\">           </span>SemanticScholarProvider.                                                                                \n",
       "</pre>\n"
      ],
      "text/plain": [
       "\u001b[2;36m          \u001b[0m\u001b[2;36m \u001b[0mMetadata not found for Molecular Dynamics Simulations of Hemoglobin A in Different States and Bound to  \n",
       "\u001b[2;36m           \u001b[0mDPG: Effector-Linked Perturbation of Tertiary Conformations and HbA Concerted Dynamics in               \n",
       "\u001b[2;36m           \u001b[0mSemanticScholarProvider.                                                                                \n"
      ]
     },
     "metadata": {},
     "output_type": "display_data"
    },
    {
     "data": {
      "text/html": [
       "<pre style=\"white-space:pre;overflow-x:auto;line-height:normal;font-family:Menlo,'DejaVu Sans Mono',consolas,'Courier New',monospace\"><span style=\"color: #7fbfbf; text-decoration-color: #7fbfbf\">           </span>Metadata not found for Tertiary and Quaternary Structural Basis of Oxygen Affinity in Human Hemoglobin  \n",
       "<span style=\"color: #7fbfbf; text-decoration-color: #7fbfbf\">           </span>as Revealed by Multiscale Simulations in SemanticScholarProvider.                                       \n",
       "</pre>\n"
      ],
      "text/plain": [
       "\u001b[2;36m          \u001b[0m\u001b[2;36m \u001b[0mMetadata not found for Tertiary and Quaternary Structural Basis of Oxygen Affinity in Human Hemoglobin  \n",
       "\u001b[2;36m           \u001b[0mas Revealed by Multiscale Simulations in SemanticScholarProvider.                                       \n"
      ]
     },
     "metadata": {},
     "output_type": "display_data"
    },
    {
     "data": {
      "text/html": [
       "<pre style=\"white-space:pre;overflow-x:auto;line-height:normal;font-family:Menlo,'DejaVu Sans Mono',consolas,'Courier New',monospace\"><span style=\"color: #7fbfbf; text-decoration-color: #7fbfbf\">           </span>Metadata not found for Mechanistic Insights into the Adsorption and Bioactivity of Fibronectin on       \n",
       "<span style=\"color: #7fbfbf; text-decoration-color: #7fbfbf\">           </span>Surfaces with Varying Chemistries by a Combination of Experimental Strategies and Molecular Simulations \n",
       "<span style=\"color: #7fbfbf; text-decoration-color: #7fbfbf\">           </span>in SemanticScholarProvider.                                                                             \n",
       "</pre>\n"
      ],
      "text/plain": [
       "\u001b[2;36m          \u001b[0m\u001b[2;36m \u001b[0mMetadata not found for Mechanistic Insights into the Adsorption and Bioactivity of Fibronectin on       \n",
       "\u001b[2;36m           \u001b[0mSurfaces with Varying Chemistries by a Combination of Experimental Strategies and Molecular Simulations \n",
       "\u001b[2;36m           \u001b[0min SemanticScholarProvider.                                                                             \n"
      ]
     },
     "metadata": {},
     "output_type": "display_data"
    },
    {
     "data": {
      "text/html": [
       "<pre style=\"white-space:pre;overflow-x:auto;line-height:normal;font-family:Menlo,'DejaVu Sans Mono',consolas,'Courier New',monospace\"><span style=\"color: #7fbfbf; text-decoration-color: #7fbfbf\">           </span>Metadata not found for Trypsin-Ligand Binding Affinities Calculated Using an Effective Interaction      \n",
       "<span style=\"color: #7fbfbf; text-decoration-color: #7fbfbf\">           </span>Entropy Method under Polarized Force Field in SemanticScholarProvider.                                  \n",
       "</pre>\n"
      ],
      "text/plain": [
       "\u001b[2;36m          \u001b[0m\u001b[2;36m \u001b[0mMetadata not found for Trypsin-Ligand Binding Affinities Calculated Using an Effective Interaction      \n",
       "\u001b[2;36m           \u001b[0mEntropy Method under Polarized Force Field in SemanticScholarProvider.                                  \n"
      ]
     },
     "metadata": {},
     "output_type": "display_data"
    },
    {
     "data": {
      "text/html": [
       "<pre style=\"white-space:pre;overflow-x:auto;line-height:normal;font-family:Menlo,'DejaVu Sans Mono',consolas,'Courier New',monospace\"><span style=\"color: #7fbfbf; text-decoration-color: #7fbfbf\">           </span>Metadata not found for Forced Unfolding of Fibronectin Type <span style=\"color: #008080; text-decoration-color: #008080; font-weight: bold\">3</span> Modules: An Analysis by Biased Molecular  \n",
       "<span style=\"color: #7fbfbf; text-decoration-color: #7fbfbf\">           </span>Dynamics Simulations in SemanticScholarProvider.                                                        \n",
       "</pre>\n"
      ],
      "text/plain": [
       "\u001b[2;36m          \u001b[0m\u001b[2;36m \u001b[0mMetadata not found for Forced Unfolding of Fibronectin Type \u001b[1;36m3\u001b[0m Modules: An Analysis by Biased Molecular  \n",
       "\u001b[2;36m           \u001b[0mDynamics Simulations in SemanticScholarProvider.                                                        \n"
      ]
     },
     "metadata": {},
     "output_type": "display_data"
    },
    {
     "data": {
      "text/html": [
       "<pre style=\"white-space:pre;overflow-x:auto;line-height:normal;font-family:Menlo,'DejaVu Sans Mono',consolas,'Courier New',monospace\"><span style=\"color: #7fbfbf; text-decoration-color: #7fbfbf\">[21:38:41] </span>Metadata not found for Ubiquitin: Molecular Modeling and Simulations in CrossrefProvider.               \n",
       "</pre>\n"
      ],
      "text/plain": [
       "\u001b[2;36m[21:38:41]\u001b[0m\u001b[2;36m \u001b[0mMetadata not found for Ubiquitin: Molecular Modeling and Simulations in CrossrefProvider.               \n"
      ]
     },
     "metadata": {},
     "output_type": "display_data"
    },
    {
     "data": {
      "text/html": [
       "<pre style=\"white-space:pre;overflow-x:auto;line-height:normal;font-family:Menlo,'DejaVu Sans Mono',consolas,'Courier New',monospace\"><span style=\"color: #7fbfbf; text-decoration-color: #7fbfbf\">           </span>Metadata not found for Dissecting Structural Aspects of Protein Stability in CrossrefProvider.          \n",
       "</pre>\n"
      ],
      "text/plain": [
       "\u001b[2;36m          \u001b[0m\u001b[2;36m \u001b[0mMetadata not found for Dissecting Structural Aspects of Protein Stability in CrossrefProvider.          \n"
      ]
     },
     "metadata": {},
     "output_type": "display_data"
    },
    {
     "data": {
      "text/html": [
       "<pre style=\"white-space:pre;overflow-x:auto;line-height:normal;font-family:Menlo,'DejaVu Sans Mono',consolas,'Courier New',monospace\"><span style=\"color: #7fbfbf; text-decoration-color: #7fbfbf\">[21:38:43] </span>Metadata not found for Mace: Release <span style=\"color: #008080; text-decoration-color: #008080; font-weight: bold\">0.1</span>.<span style=\"color: #008080; text-decoration-color: #008080; font-weight: bold\">0</span> in CrossrefProvider.                                         \n",
       "</pre>\n"
      ],
      "text/plain": [
       "\u001b[2;36m[21:38:43]\u001b[0m\u001b[2;36m \u001b[0mMetadata not found for Mace: Release \u001b[1;36m0.1\u001b[0m.\u001b[1;36m0\u001b[0m in CrossrefProvider.                                         \n"
      ]
     },
     "metadata": {},
     "output_type": "display_data"
    },
    {
     "data": {
      "text/html": [
       "<pre style=\"white-space:pre;overflow-x:auto;line-height:normal;font-family:Menlo,'DejaVu Sans Mono',consolas,'Courier New',monospace\"><span style=\"color: #7fbfbf; text-decoration-color: #7fbfbf\">[21:38:45] </span>Request to CrossrefProvider for eLife’s Transparent Reporting Form timed out.                           \n",
       "</pre>\n"
      ],
      "text/plain": [
       "\u001b[2;36m[21:38:45]\u001b[0m\u001b[2;36m \u001b[0mRequest to CrossrefProvider for eLife’s Transparent Reporting Form timed out.                           \n"
      ]
     },
     "metadata": {},
     "output_type": "display_data"
    },
    {
     "data": {
      "text/html": [
       "<pre style=\"white-space:pre;overflow-x:auto;line-height:normal;font-family:Menlo,'DejaVu Sans Mono',consolas,'Courier New',monospace\"><span style=\"color: #7fbfbf; text-decoration-color: #7fbfbf\">           </span>Request to CrossrefProvider for Predicting Stable Binding Modes from Simulated Dimers of the D76N Mutant\n",
       "<span style=\"color: #7fbfbf; text-decoration-color: #7fbfbf\">           </span>of β2-Microglobulin timed out.                                                                          \n",
       "</pre>\n"
      ],
      "text/plain": [
       "\u001b[2;36m          \u001b[0m\u001b[2;36m \u001b[0mRequest to CrossrefProvider for Predicting Stable Binding Modes from Simulated Dimers of the D76N Mutant\n",
       "\u001b[2;36m           \u001b[0mof β2-Microglobulin timed out.                                                                          \n"
      ]
     },
     "metadata": {},
     "output_type": "display_data"
    },
    {
     "data": {
      "text/html": [
       "<pre style=\"white-space:pre;overflow-x:auto;line-height:normal;font-family:Menlo,'DejaVu Sans Mono',consolas,'Courier New',monospace\"><span style=\"color: #7fbfbf; text-decoration-color: #7fbfbf\">           </span>Request to CrossrefProvider for <span style=\"color: #008080; text-decoration-color: #008080; font-weight: bold\">10.1021</span>/acs.jpcb.8b08612 timed out.                                     \n",
       "</pre>\n"
      ],
      "text/plain": [
       "\u001b[2;36m          \u001b[0m\u001b[2;36m \u001b[0mRequest to CrossrefProvider for \u001b[1;36m10.1021\u001b[0m/acs.jpcb.8b08612 timed out.                                     \n"
      ]
     },
     "metadata": {},
     "output_type": "display_data"
    },
    {
     "data": {
      "text/html": [
       "<pre style=\"white-space:pre;overflow-x:auto;line-height:normal;font-family:Menlo,'DejaVu Sans Mono',consolas,'Courier New',monospace\"><span style=\"color: #7fbfbf; text-decoration-color: #7fbfbf\">           </span>Request to CrossrefProvider for Tertiary and Quaternary Structural Basis of Oxygen Affinity in Human    \n",
       "<span style=\"color: #7fbfbf; text-decoration-color: #7fbfbf\">           </span>Hemoglobin as Revealed by Multiscale Simulations timed out.                                             \n",
       "</pre>\n"
      ],
      "text/plain": [
       "\u001b[2;36m          \u001b[0m\u001b[2;36m \u001b[0mRequest to CrossrefProvider for Tertiary and Quaternary Structural Basis of Oxygen Affinity in Human    \n",
       "\u001b[2;36m           \u001b[0mHemoglobin as Revealed by Multiscale Simulations timed out.                                             \n"
      ]
     },
     "metadata": {},
     "output_type": "display_data"
    },
    {
     "data": {
      "text/html": [
       "<pre style=\"white-space:pre;overflow-x:auto;line-height:normal;font-family:Menlo,'DejaVu Sans Mono',consolas,'Courier New',monospace\"><span style=\"color: #7fbfbf; text-decoration-color: #7fbfbf\">           </span>Request to CrossrefProvider for Trypsin-Ligand Binding Affinities Calculated Using an Effective         \n",
       "<span style=\"color: #7fbfbf; text-decoration-color: #7fbfbf\">           </span>Interaction Entropy Method under Polarized Force Field timed out.                                       \n",
       "</pre>\n"
      ],
      "text/plain": [
       "\u001b[2;36m          \u001b[0m\u001b[2;36m \u001b[0mRequest to CrossrefProvider for Trypsin-Ligand Binding Affinities Calculated Using an Effective         \n",
       "\u001b[2;36m           \u001b[0mInteraction Entropy Method under Polarized Force Field timed out.                                       \n"
      ]
     },
     "metadata": {},
     "output_type": "display_data"
    },
    {
     "data": {
      "text/html": [
       "<pre style=\"white-space:pre;overflow-x:auto;line-height:normal;font-family:Menlo,'DejaVu Sans Mono',consolas,'Courier New',monospace\"><span style=\"color: #7fbfbf; text-decoration-color: #7fbfbf\">           </span>Request to CrossrefProvider for <span style=\"color: #008080; text-decoration-color: #008080; font-weight: bold\">10.3390</span>/biophysica3030027 timed out.                                    \n",
       "</pre>\n"
      ],
      "text/plain": [
       "\u001b[2;36m          \u001b[0m\u001b[2;36m \u001b[0mRequest to CrossrefProvider for \u001b[1;36m10.3390\u001b[0m/biophysica3030027 timed out.                                    \n"
      ]
     },
     "metadata": {},
     "output_type": "display_data"
    },
    {
     "data": {
      "text/html": [
       "<pre style=\"white-space:pre;overflow-x:auto;line-height:normal;font-family:Menlo,'DejaVu Sans Mono',consolas,'Courier New',monospace\"><span style=\"color: #7fbfbf; text-decoration-color: #7fbfbf\">           </span>Request to CrossrefProvider for An Atomistic View on Human Hemoglobin Carbon Monoxide Migration         \n",
       "<span style=\"color: #7fbfbf; text-decoration-color: #7fbfbf\">           </span>Processes timed out.                                                                                    \n",
       "</pre>\n"
      ],
      "text/plain": [
       "\u001b[2;36m          \u001b[0m\u001b[2;36m \u001b[0mRequest to CrossrefProvider for An Atomistic View on Human Hemoglobin Carbon Monoxide Migration         \n",
       "\u001b[2;36m           \u001b[0mProcesses timed out.                                                                                    \n"
      ]
     },
     "metadata": {},
     "output_type": "display_data"
    },
    {
     "data": {
      "text/html": [
       "<pre style=\"white-space:pre;overflow-x:auto;line-height:normal;font-family:Menlo,'DejaVu Sans Mono',consolas,'Courier New',monospace\"><span style=\"color: #7fbfbf; text-decoration-color: #7fbfbf\">           </span>Request to CrossrefProvider for <span style=\"color: #008080; text-decoration-color: #008080; font-weight: bold\">10.1039</span>/c3ra47381c timed out.                                           \n",
       "</pre>\n"
      ],
      "text/plain": [
       "\u001b[2;36m          \u001b[0m\u001b[2;36m \u001b[0mRequest to CrossrefProvider for \u001b[1;36m10.1039\u001b[0m/c3ra47381c timed out.                                           \n"
      ]
     },
     "metadata": {},
     "output_type": "display_data"
    },
    {
     "data": {
      "text/html": [
       "<pre style=\"white-space:pre;overflow-x:auto;line-height:normal;font-family:Menlo,'DejaVu Sans Mono',consolas,'Courier New',monospace\"><span style=\"color: #7fbfbf; text-decoration-color: #7fbfbf\">           </span>Request to CrossrefProvider for <span style=\"color: #008080; text-decoration-color: #008080; font-weight: bold\">10.7554</span>/eLife.<span style=\"color: #008080; text-decoration-color: #008080; font-weight: bold\">35560.001</span> timed out.                                      \n",
       "</pre>\n"
      ],
      "text/plain": [
       "\u001b[2;36m          \u001b[0m\u001b[2;36m \u001b[0mRequest to CrossrefProvider for \u001b[1;36m10.7554\u001b[0m/eLife.\u001b[1;36m35560.001\u001b[0m timed out.                                      \n"
      ]
     },
     "metadata": {},
     "output_type": "display_data"
    },
    {
     "data": {
      "text/html": [
       "<pre style=\"white-space:pre;overflow-x:auto;line-height:normal;font-family:Menlo,'DejaVu Sans Mono',consolas,'Courier New',monospace\"><span style=\"color: #7fbfbf; text-decoration-color: #7fbfbf\">           </span>Request to CrossrefProvider for Molecular Dynamics Simulations of Hemoglobin A in Different States and  \n",
       "<span style=\"color: #7fbfbf; text-decoration-color: #7fbfbf\">           </span>Bound to DPG: Effector-Linked Perturbation of Tertiary Conformations and HbA Concerted Dynamics timed   \n",
       "<span style=\"color: #7fbfbf; text-decoration-color: #7fbfbf\">           </span>out.                                                                                                    \n",
       "</pre>\n"
      ],
      "text/plain": [
       "\u001b[2;36m          \u001b[0m\u001b[2;36m \u001b[0mRequest to CrossrefProvider for Molecular Dynamics Simulations of Hemoglobin A in Different States and  \n",
       "\u001b[2;36m           \u001b[0mBound to DPG: Effector-Linked Perturbation of Tertiary Conformations and HbA Concerted Dynamics timed   \n",
       "\u001b[2;36m           \u001b[0mout.                                                                                                    \n"
      ]
     },
     "metadata": {},
     "output_type": "display_data"
    },
    {
     "data": {
      "text/html": [
       "<pre style=\"white-space:pre;overflow-x:auto;line-height:normal;font-family:Menlo,'DejaVu Sans Mono',consolas,'Courier New',monospace\"><span style=\"color: #7fbfbf; text-decoration-color: #7fbfbf\">           </span>Request to CrossrefProvider for Oxygen Delivery from Red Cells timed out.                               \n",
       "</pre>\n"
      ],
      "text/plain": [
       "\u001b[2;36m          \u001b[0m\u001b[2;36m \u001b[0mRequest to CrossrefProvider for Oxygen Delivery from Red Cells timed out.                               \n"
      ]
     },
     "metadata": {},
     "output_type": "display_data"
    },
    {
     "data": {
      "text/html": [
       "<pre style=\"white-space:pre;overflow-x:auto;line-height:normal;font-family:Menlo,'DejaVu Sans Mono',consolas,'Courier New',monospace\"><span style=\"color: #7fbfbf; text-decoration-color: #7fbfbf\">           </span>Request to CrossrefProvider for Multiple Cryptic Binding Sites are Necessary for Robust Fibronectin     \n",
       "<span style=\"color: #7fbfbf; text-decoration-color: #7fbfbf\">           </span>Assembly: An In Silico Study timed out.                                                                 \n",
       "</pre>\n"
      ],
      "text/plain": [
       "\u001b[2;36m          \u001b[0m\u001b[2;36m \u001b[0mRequest to CrossrefProvider for Multiple Cryptic Binding Sites are Necessary for Robust Fibronectin     \n",
       "\u001b[2;36m           \u001b[0mAssembly: An In Silico Study timed out.                                                                 \n"
      ]
     },
     "metadata": {},
     "output_type": "display_data"
    },
    {
     "data": {
      "text/html": [
       "<pre style=\"white-space:pre;overflow-x:auto;line-height:normal;font-family:Menlo,'DejaVu Sans Mono',consolas,'Courier New',monospace\"><span style=\"color: #7fbfbf; text-decoration-color: #7fbfbf\">           </span>Request to CrossrefProvider for Molecular Dynamics Simulation of the Adsorption of a Fibronectin Module \n",
       "<span style=\"color: #7fbfbf; text-decoration-color: #7fbfbf\">           </span>on a Graphite Surface timed out.                                                                        \n",
       "</pre>\n"
      ],
      "text/plain": [
       "\u001b[2;36m          \u001b[0m\u001b[2;36m \u001b[0mRequest to CrossrefProvider for Molecular Dynamics Simulation of the Adsorption of a Fibronectin Module \n",
       "\u001b[2;36m           \u001b[0mon a Graphite Surface timed out.                                                                        \n"
      ]
     },
     "metadata": {},
     "output_type": "display_data"
    },
    {
     "data": {
      "text/html": [
       "<pre style=\"white-space:pre;overflow-x:auto;line-height:normal;font-family:Menlo,'DejaVu Sans Mono',consolas,'Courier New',monospace\"><span style=\"color: #7fbfbf; text-decoration-color: #7fbfbf\">           </span>Request to CrossrefProvider for Best Practices for Foundations in Molecular Simulations <span style=\"font-weight: bold\">[</span>Article v1.<span style=\"color: #008080; text-decoration-color: #008080; font-weight: bold\">0</span><span style=\"font-weight: bold\">]</span>  \n",
       "<span style=\"color: #7fbfbf; text-decoration-color: #7fbfbf\">           </span>timed out.                                                                                              \n",
       "</pre>\n"
      ],
      "text/plain": [
       "\u001b[2;36m          \u001b[0m\u001b[2;36m \u001b[0mRequest to CrossrefProvider for Best Practices for Foundations in Molecular Simulations \u001b[1m[\u001b[0mArticle v1.\u001b[1;36m0\u001b[0m\u001b[1m]\u001b[0m  \n",
       "\u001b[2;36m           \u001b[0mtimed out.                                                                                              \n"
      ]
     },
     "metadata": {},
     "output_type": "display_data"
    },
    {
     "data": {
      "text/html": [
       "<pre style=\"white-space:pre;overflow-x:auto;line-height:normal;font-family:Menlo,'DejaVu Sans Mono',consolas,'Courier New',monospace\"><span style=\"color: #7fbfbf; text-decoration-color: #7fbfbf\">           </span>Request to CrossrefProvider for Forced Unfolding of Fibronectin Type <span style=\"color: #008080; text-decoration-color: #008080; font-weight: bold\">3</span> Modules: An Analysis by Biased   \n",
       "<span style=\"color: #7fbfbf; text-decoration-color: #7fbfbf\">           </span>Molecular Dynamics Simulations timed out.                                                               \n",
       "</pre>\n"
      ],
      "text/plain": [
       "\u001b[2;36m          \u001b[0m\u001b[2;36m \u001b[0mRequest to CrossrefProvider for Forced Unfolding of Fibronectin Type \u001b[1;36m3\u001b[0m Modules: An Analysis by Biased   \n",
       "\u001b[2;36m           \u001b[0mMolecular Dynamics Simulations timed out.                                                               \n"
      ]
     },
     "metadata": {},
     "output_type": "display_data"
    },
    {
     "data": {
      "text/html": [
       "<pre style=\"white-space:pre;overflow-x:auto;line-height:normal;font-family:Menlo,'DejaVu Sans Mono',consolas,'Courier New',monospace\"><span style=\"color: #7fbfbf; text-decoration-color: #7fbfbf\">           </span>Request to CrossrefProvider for <span style=\"color: #008080; text-decoration-color: #008080; font-weight: bold\">10.1088</span>/<span style=\"color: #008080; text-decoration-color: #008080; font-weight: bold\">1478</span>-<span style=\"color: #008080; text-decoration-color: #008080; font-weight: bold\">3975</span>/ac08ec timed out.                                     \n",
       "</pre>\n"
      ],
      "text/plain": [
       "\u001b[2;36m          \u001b[0m\u001b[2;36m \u001b[0mRequest to CrossrefProvider for \u001b[1;36m10.1088\u001b[0m/\u001b[1;36m1478\u001b[0m-\u001b[1;36m3975\u001b[0m/ac08ec timed out.                                     \n"
      ]
     },
     "metadata": {},
     "output_type": "display_data"
    },
    {
     "data": {
      "text/html": [
       "<pre style=\"white-space:pre;overflow-x:auto;line-height:normal;font-family:Menlo,'DejaVu Sans Mono',consolas,'Courier New',monospace\"><span style=\"color: #7fbfbf; text-decoration-color: #7fbfbf\">           </span>Request to CrossrefProvider for <span style=\"color: #008080; text-decoration-color: #008080; font-weight: bold\">10.1371</span>/journal.pone.<span style=\"color: #008080; text-decoration-color: #008080; font-weight: bold\">0002373</span> timed out.                                 \n",
       "</pre>\n"
      ],
      "text/plain": [
       "\u001b[2;36m          \u001b[0m\u001b[2;36m \u001b[0mRequest to CrossrefProvider for \u001b[1;36m10.1371\u001b[0m/journal.pone.\u001b[1;36m0002373\u001b[0m timed out.                                 \n"
      ]
     },
     "metadata": {},
     "output_type": "display_data"
    },
    {
     "data": {
      "text/html": [
       "<pre style=\"white-space:pre;overflow-x:auto;line-height:normal;font-family:Menlo,'DejaVu Sans Mono',consolas,'Courier New',monospace\"><span style=\"color: #7fbfbf; text-decoration-color: #7fbfbf\">           </span>Request to CrossrefProvider for <span style=\"color: #008080; text-decoration-color: #008080; font-weight: bold\">10.1021</span>/acs.jpcb.8b12345 timed out.                                     \n",
       "</pre>\n"
      ],
      "text/plain": [
       "\u001b[2;36m          \u001b[0m\u001b[2;36m \u001b[0mRequest to CrossrefProvider for \u001b[1;36m10.1021\u001b[0m/acs.jpcb.8b12345 timed out.                                     \n"
      ]
     },
     "metadata": {},
     "output_type": "display_data"
    },
    {
     "data": {
      "text/html": [
       "<pre style=\"white-space:pre;overflow-x:auto;line-height:normal;font-family:Menlo,'DejaVu Sans Mono',consolas,'Courier New',monospace\"><span style=\"color: #7fbfbf; text-decoration-color: #7fbfbf\">           </span>Request to CrossrefProvider for Mechanistic Insights into the Adsorption and Bioactivity of Fibronectin \n",
       "<span style=\"color: #7fbfbf; text-decoration-color: #7fbfbf\">           </span>on Surfaces with Varying Chemistries by a Combination of Experimental Strategies and Molecular          \n",
       "<span style=\"color: #7fbfbf; text-decoration-color: #7fbfbf\">           </span>Simulations timed out.                                                                                  \n",
       "</pre>\n"
      ],
      "text/plain": [
       "\u001b[2;36m          \u001b[0m\u001b[2;36m \u001b[0mRequest to CrossrefProvider for Mechanistic Insights into the Adsorption and Bioactivity of Fibronectin \n",
       "\u001b[2;36m           \u001b[0mon Surfaces with Varying Chemistries by a Combination of Experimental Strategies and Molecular          \n",
       "\u001b[2;36m           \u001b[0mSimulations timed out.                                                                                  \n"
      ]
     },
     "metadata": {},
     "output_type": "display_data"
    },
    {
     "data": {
      "text/html": [
       "<pre style=\"white-space:pre;overflow-x:auto;line-height:normal;font-family:Menlo,'DejaVu Sans Mono',consolas,'Courier New',monospace\"><span style=\"color: #7fbfbf; text-decoration-color: #7fbfbf\">           </span>SEMANTIC_SCHOLAR_API_KEY environment variable not set. Semantic Scholar API rate limits may apply.      \n",
       "</pre>\n"
      ],
      "text/plain": [
       "\u001b[2;36m          \u001b[0m\u001b[2;36m \u001b[0mSEMANTIC_SCHOLAR_API_KEY environment variable not set. Semantic Scholar API rate limits may apply.      \n"
      ]
     },
     "metadata": {},
     "output_type": "display_data"
    },
    {
     "data": {
      "text/html": [
       "<pre style=\"white-space:pre;overflow-x:auto;line-height:normal;font-family:Menlo,'DejaVu Sans Mono',consolas,'Courier New',monospace\"><span style=\"color: #7fbfbf; text-decoration-color: #7fbfbf\">[21:38:46] </span>Request to CrossrefProvider for <span style=\"color: #008080; text-decoration-color: #008080; font-weight: bold\">10.3390</span>/ijms19113371 timed out.                                         \n",
       "</pre>\n"
      ],
      "text/plain": [
       "\u001b[2;36m[21:38:46]\u001b[0m\u001b[2;36m \u001b[0mRequest to CrossrefProvider for \u001b[1;36m10.3390\u001b[0m/ijms19113371 timed out.                                         \n"
      ]
     },
     "metadata": {},
     "output_type": "display_data"
    },
    {
     "data": {
      "text/html": [
       "<pre style=\"white-space:pre;overflow-x:auto;line-height:normal;font-family:Menlo,'DejaVu Sans Mono',consolas,'Courier New',monospace\"><span style=\"color: #7fbfbf; text-decoration-color: #7fbfbf\">[21:38:47] </span>Complete <span style=\"font-weight: bold\">(</span>Ubiquitin: Molecular Modeling and Simulations<span style=\"font-weight: bold\">)</span>.                                               \n",
       "</pre>\n"
      ],
      "text/plain": [
       "\u001b[2;36m[21:38:47]\u001b[0m\u001b[2;36m \u001b[0mComplete \u001b[1m(\u001b[0mUbiquitin: Molecular Modeling and Simulations\u001b[1m)\u001b[0m.                                               \n"
      ]
     },
     "metadata": {},
     "output_type": "display_data"
    },
    {
     "data": {
      "text/html": [
       "<pre style=\"white-space:pre;overflow-x:auto;line-height:normal;font-family:Menlo,'DejaVu Sans Mono',consolas,'Courier New',monospace\"><span style=\"color: #7fbfbf; text-decoration-color: #7fbfbf\">           </span>Complete <span style=\"font-weight: bold\">(</span>eLife’s Transparent Reporting Form<span style=\"font-weight: bold\">)</span>.                                                          \n",
       "</pre>\n"
      ],
      "text/plain": [
       "\u001b[2;36m          \u001b[0m\u001b[2;36m \u001b[0mComplete \u001b[1m(\u001b[0meLife’s Transparent Reporting Form\u001b[1m)\u001b[0m.                                                          \n"
      ]
     },
     "metadata": {},
     "output_type": "display_data"
    },
    {
     "data": {
      "text/html": [
       "<pre style=\"white-space:pre;overflow-x:auto;line-height:normal;font-family:Menlo,'DejaVu Sans Mono',consolas,'Courier New',monospace\"><span style=\"color: #7fbfbf; text-decoration-color: #7fbfbf\">           </span>Complete <span style=\"font-weight: bold\">(</span>Molecular Dynamics Simulations of Hemoglobin A in Different States and Bound to DPG:          \n",
       "<span style=\"color: #7fbfbf; text-decoration-color: #7fbfbf\">           </span>Effector-Linked Perturbation of Tertiary Conformations and HbA Concerted Dynamics<span style=\"font-weight: bold\">)</span>.                     \n",
       "</pre>\n"
      ],
      "text/plain": [
       "\u001b[2;36m          \u001b[0m\u001b[2;36m \u001b[0mComplete \u001b[1m(\u001b[0mMolecular Dynamics Simulations of Hemoglobin A in Different States and Bound to DPG:          \n",
       "\u001b[2;36m           \u001b[0mEffector-Linked Perturbation of Tertiary Conformations and HbA Concerted Dynamics\u001b[1m)\u001b[0m.                     \n"
      ]
     },
     "metadata": {},
     "output_type": "display_data"
    },
    {
     "data": {
      "text/html": [
       "<pre style=\"white-space:pre;overflow-x:auto;line-height:normal;font-family:Menlo,'DejaVu Sans Mono',consolas,'Courier New',monospace\"><span style=\"color: #7fbfbf; text-decoration-color: #7fbfbf\">[21:38:48] </span>Complete <span style=\"font-weight: bold\">(</span>Valid Molecular Dynamics Simulations of Human Hemoglobin Require a Surprisingly Large Box     \n",
       "<span style=\"color: #7fbfbf; text-decoration-color: #7fbfbf\">           </span>Size<span style=\"font-weight: bold\">)</span>.                                                                                                  \n",
       "</pre>\n"
      ],
      "text/plain": [
       "\u001b[2;36m[21:38:48]\u001b[0m\u001b[2;36m \u001b[0mComplete \u001b[1m(\u001b[0mValid Molecular Dynamics Simulations of Human Hemoglobin Require a Surprisingly Large Box     \n",
       "\u001b[2;36m           \u001b[0mSize\u001b[1m)\u001b[0m.                                                                                                  \n"
      ]
     },
     "metadata": {},
     "output_type": "display_data"
    },
    {
     "data": {
      "text/html": [
       "<pre style=\"white-space:pre;overflow-x:auto;line-height:normal;font-family:Menlo,'DejaVu Sans Mono',consolas,'Courier New',monospace\"><span style=\"color: #7fbfbf; text-decoration-color: #7fbfbf\">           </span>Complete <span style=\"font-weight: bold\">(</span>Theoretical Simulation of Red Cell Sickling Upon Deoxygenation Based on the Physical Chemistry\n",
       "<span style=\"color: #7fbfbf; text-decoration-color: #7fbfbf\">           </span>of Sickle Hemoglobin Fiber Formation<span style=\"font-weight: bold\">)</span>.                                                                  \n",
       "</pre>\n"
      ],
      "text/plain": [
       "\u001b[2;36m          \u001b[0m\u001b[2;36m \u001b[0mComplete \u001b[1m(\u001b[0mTheoretical Simulation of Red Cell Sickling Upon Deoxygenation Based on the Physical Chemistry\n",
       "\u001b[2;36m           \u001b[0mof Sickle Hemoglobin Fiber Formation\u001b[1m)\u001b[0m.                                                                  \n"
      ]
     },
     "metadata": {},
     "output_type": "display_data"
    },
    {
     "data": {
      "text/html": [
       "<pre style=\"white-space:pre;overflow-x:auto;line-height:normal;font-family:Menlo,'DejaVu Sans Mono',consolas,'Courier New',monospace\"><span style=\"color: #7fbfbf; text-decoration-color: #7fbfbf\">           </span>Complete <span style=\"font-weight: bold\">(</span>Trypsin-Ligand Binding Affinities Calculated Using an Effective Interaction Entropy Method    \n",
       "<span style=\"color: #7fbfbf; text-decoration-color: #7fbfbf\">           </span>under Polarized Force Field<span style=\"font-weight: bold\">)</span>.                                                                           \n",
       "</pre>\n"
      ],
      "text/plain": [
       "\u001b[2;36m          \u001b[0m\u001b[2;36m \u001b[0mComplete \u001b[1m(\u001b[0mTrypsin-Ligand Binding Affinities Calculated Using an Effective Interaction Entropy Method    \n",
       "\u001b[2;36m           \u001b[0munder Polarized Force Field\u001b[1m)\u001b[0m.                                                                           \n"
      ]
     },
     "metadata": {},
     "output_type": "display_data"
    },
    {
     "data": {
      "text/html": [
       "<pre style=\"white-space:pre;overflow-x:auto;line-height:normal;font-family:Menlo,'DejaVu Sans Mono',consolas,'Courier New',monospace\"><span style=\"color: #7fbfbf; text-decoration-color: #7fbfbf\">           </span>Complete <span style=\"font-weight: bold\">(</span>Dissecting Structural Aspects of Protein Stability<span style=\"font-weight: bold\">)</span>.                                          \n",
       "</pre>\n"
      ],
      "text/plain": [
       "\u001b[2;36m          \u001b[0m\u001b[2;36m \u001b[0mComplete \u001b[1m(\u001b[0mDissecting Structural Aspects of Protein Stability\u001b[1m)\u001b[0m.                                          \n"
      ]
     },
     "metadata": {},
     "output_type": "display_data"
    },
    {
     "data": {
      "text/html": [
       "<pre style=\"white-space:pre;overflow-x:auto;line-height:normal;font-family:Menlo,'DejaVu Sans Mono',consolas,'Courier New',monospace\"><span style=\"color: #7fbfbf; text-decoration-color: #7fbfbf\">[21:38:51] </span>Request to CrossrefProvider for <span style=\"color: #008080; text-decoration-color: #008080; font-weight: bold\">10.1002</span>/slct.<span style=\"color: #008080; text-decoration-color: #008080; font-weight: bold\">201801398</span> timed out.                                       \n",
       "</pre>\n"
      ],
      "text/plain": [
       "\u001b[2;36m[21:38:51]\u001b[0m\u001b[2;36m \u001b[0mRequest to CrossrefProvider for \u001b[1;36m10.1002\u001b[0m/slct.\u001b[1;36m201801398\u001b[0m timed out.                                       \n"
      ]
     },
     "metadata": {},
     "output_type": "display_data"
    },
    {
     "data": {
      "text/html": [
       "<pre style=\"white-space:pre;overflow-x:auto;line-height:normal;font-family:Menlo,'DejaVu Sans Mono',consolas,'Courier New',monospace\"><span style=\"color: #7fbfbf; text-decoration-color: #7fbfbf\">           </span>Complete <span style=\"font-weight: bold\">(</span>Predicting Stable Binding Modes from Simulated Dimers of the D76N Mutant of β2-Microglobulin<span style=\"font-weight: bold\">)</span>.\n",
       "</pre>\n"
      ],
      "text/plain": [
       "\u001b[2;36m          \u001b[0m\u001b[2;36m \u001b[0mComplete \u001b[1m(\u001b[0mPredicting Stable Binding Modes from Simulated Dimers of the D76N Mutant of β2-Microglobulin\u001b[1m)\u001b[0m.\n"
      ]
     },
     "metadata": {},
     "output_type": "display_data"
    },
    {
     "data": {
      "text/html": [
       "<pre style=\"white-space:pre;overflow-x:auto;line-height:normal;font-family:Menlo,'DejaVu Sans Mono',consolas,'Courier New',monospace\"><span style=\"color: #7fbfbf; text-decoration-color: #7fbfbf\">           </span>Complete <span style=\"font-weight: bold\">(</span>Oxygen Delivery from Red Cells<span style=\"font-weight: bold\">)</span>.                                                              \n",
       "</pre>\n"
      ],
      "text/plain": [
       "\u001b[2;36m          \u001b[0m\u001b[2;36m \u001b[0mComplete \u001b[1m(\u001b[0mOxygen Delivery from Red Cells\u001b[1m)\u001b[0m.                                                              \n"
      ]
     },
     "metadata": {},
     "output_type": "display_data"
    },
    {
     "data": {
      "text/html": [
       "<pre style=\"white-space:pre;overflow-x:auto;line-height:normal;font-family:Menlo,'DejaVu Sans Mono',consolas,'Courier New',monospace\"><span style=\"color: #7fbfbf; text-decoration-color: #7fbfbf\">[21:38:52] </span>Complete <span style=\"font-weight: bold\">(</span>The folding space of protein β2-microglobulin is modulated by a single disulfide bridge<span style=\"font-weight: bold\">)</span>.     \n",
       "</pre>\n"
      ],
      "text/plain": [
       "\u001b[2;36m[21:38:52]\u001b[0m\u001b[2;36m \u001b[0mComplete \u001b[1m(\u001b[0mThe folding space of protein β2-microglobulin is modulated by a single disulfide bridge\u001b[1m)\u001b[0m.     \n"
      ]
     },
     "metadata": {},
     "output_type": "display_data"
    },
    {
     "data": {
      "text/html": [
       "<pre style=\"white-space:pre;overflow-x:auto;line-height:normal;font-family:Menlo,'DejaVu Sans Mono',consolas,'Courier New',monospace\"><span style=\"color: #7fbfbf; text-decoration-color: #7fbfbf\">[21:38:53] </span>Complete <span style=\"font-weight: bold\">(</span>Adsorption of Heparin-Binding Fragments of Fibronectin onto Hydrophobic Surfaces<span style=\"font-weight: bold\">)</span>.            \n",
       "</pre>\n"
      ],
      "text/plain": [
       "\u001b[2;36m[21:38:53]\u001b[0m\u001b[2;36m \u001b[0mComplete \u001b[1m(\u001b[0mAdsorption of Heparin-Binding Fragments of Fibronectin onto Hydrophobic Surfaces\u001b[1m)\u001b[0m.            \n"
      ]
     },
     "metadata": {},
     "output_type": "display_data"
    },
    {
     "data": {
      "text/html": [
       "<pre style=\"white-space:pre;overflow-x:auto;line-height:normal;font-family:Menlo,'DejaVu Sans Mono',consolas,'Courier New',monospace\"><span style=\"color: #7fbfbf; text-decoration-color: #7fbfbf\">           </span>Complete <span style=\"font-weight: bold\">(</span>Fibronectin Unfolding Revisited: Modeling Cell Traction-Mediated Unfolding of the Tenth       \n",
       "<span style=\"color: #7fbfbf; text-decoration-color: #7fbfbf\">           </span>Type-III Repeat<span style=\"font-weight: bold\">)</span>.                                                                                       \n",
       "</pre>\n"
      ],
      "text/plain": [
       "\u001b[2;36m          \u001b[0m\u001b[2;36m \u001b[0mComplete \u001b[1m(\u001b[0mFibronectin Unfolding Revisited: Modeling Cell Traction-Mediated Unfolding of the Tenth       \n",
       "\u001b[2;36m           \u001b[0mType-III Repeat\u001b[1m)\u001b[0m.                                                                                       \n"
      ]
     },
     "metadata": {},
     "output_type": "display_data"
    },
    {
     "data": {
      "text/html": [
       "<pre style=\"white-space:pre;overflow-x:auto;line-height:normal;font-family:Menlo,'DejaVu Sans Mono',consolas,'Courier New',monospace\"><span style=\"color: #7fbfbf; text-decoration-color: #7fbfbf\">           </span>Complete <span style=\"font-weight: bold\">(</span>Multiple Cryptic Binding Sites are Necessary for Robust Fibronectin Assembly: An In Silico    \n",
       "<span style=\"color: #7fbfbf; text-decoration-color: #7fbfbf\">           </span>Study<span style=\"font-weight: bold\">)</span>.                                                                                                 \n",
       "</pre>\n"
      ],
      "text/plain": [
       "\u001b[2;36m          \u001b[0m\u001b[2;36m \u001b[0mComplete \u001b[1m(\u001b[0mMultiple Cryptic Binding Sites are Necessary for Robust Fibronectin Assembly: An In Silico    \n",
       "\u001b[2;36m           \u001b[0mStudy\u001b[1m)\u001b[0m.                                                                                                 \n"
      ]
     },
     "metadata": {},
     "output_type": "display_data"
    },
    {
     "data": {
      "text/html": [
       "<pre style=\"white-space:pre;overflow-x:auto;line-height:normal;font-family:Menlo,'DejaVu Sans Mono',consolas,'Courier New',monospace\"><span style=\"color: #7fbfbf; text-decoration-color: #7fbfbf\">[21:38:55] </span>Complete <span style=\"font-weight: bold\">(</span>An Atomistic View on Human Hemoglobin Carbon Monoxide Migration Processes<span style=\"font-weight: bold\">)</span>.                   \n",
       "</pre>\n"
      ],
      "text/plain": [
       "\u001b[2;36m[21:38:55]\u001b[0m\u001b[2;36m \u001b[0mComplete \u001b[1m(\u001b[0mAn Atomistic View on Human Hemoglobin Carbon Monoxide Migration Processes\u001b[1m)\u001b[0m.                   \n"
      ]
     },
     "metadata": {},
     "output_type": "display_data"
    },
    {
     "data": {
      "text/html": [
       "<pre style=\"white-space:pre;overflow-x:auto;line-height:normal;font-family:Menlo,'DejaVu Sans Mono',consolas,'Courier New',monospace\"><span style=\"color: #7fbfbf; text-decoration-color: #7fbfbf\">[21:38:56] </span>Complete <span style=\"font-weight: bold\">(</span>Best Practices for Foundations in Molecular Simulations <span style=\"font-weight: bold\">[</span>Article v1.<span style=\"color: #008080; text-decoration-color: #008080; font-weight: bold\">0</span><span style=\"font-weight: bold\">]</span>.<span style=\"font-weight: bold\">)</span>.                     \n",
       "</pre>\n"
      ],
      "text/plain": [
       "\u001b[2;36m[21:38:56]\u001b[0m\u001b[2;36m \u001b[0mComplete \u001b[1m(\u001b[0mBest Practices for Foundations in Molecular Simulations \u001b[1m[\u001b[0mArticle v1.\u001b[1;36m0\u001b[0m\u001b[1m]\u001b[0m.\u001b[1m)\u001b[0m.                     \n"
      ]
     },
     "metadata": {},
     "output_type": "display_data"
    },
    {
     "data": {
      "text/html": [
       "<pre style=\"white-space:pre;overflow-x:auto;line-height:normal;font-family:Menlo,'DejaVu Sans Mono',consolas,'Courier New',monospace\"><span style=\"color: #7fbfbf; text-decoration-color: #7fbfbf\">[21:38:57] </span>Complete <span style=\"font-weight: bold\">(</span>Molecular Dynamics Simulation of the Adsorption of a Fibronectin Module on a Graphite         \n",
       "<span style=\"color: #7fbfbf; text-decoration-color: #7fbfbf\">           </span>Surface<span style=\"font-weight: bold\">)</span>.                                                                                               \n",
       "</pre>\n"
      ],
      "text/plain": [
       "\u001b[2;36m[21:38:57]\u001b[0m\u001b[2;36m \u001b[0mComplete \u001b[1m(\u001b[0mMolecular Dynamics Simulation of the Adsorption of a Fibronectin Module on a Graphite         \n",
       "\u001b[2;36m           \u001b[0mSurface\u001b[1m)\u001b[0m.                                                                                               \n"
      ]
     },
     "metadata": {},
     "output_type": "display_data"
    },
    {
     "data": {
      "text/html": [
       "<pre style=\"white-space:pre;overflow-x:auto;line-height:normal;font-family:Menlo,'DejaVu Sans Mono',consolas,'Courier New',monospace\"><span style=\"color: #7fbfbf; text-decoration-color: #7fbfbf\">           </span>Complete <span style=\"font-weight: bold\">(</span>Mace: Release <span style=\"color: #008080; text-decoration-color: #008080; font-weight: bold\">0.1</span>.<span style=\"color: #008080; text-decoration-color: #008080; font-weight: bold\">0</span><span style=\"font-weight: bold\">)</span>.                                                                         \n",
       "</pre>\n"
      ],
      "text/plain": [
       "\u001b[2;36m          \u001b[0m\u001b[2;36m \u001b[0mComplete \u001b[1m(\u001b[0mMace: Release \u001b[1;36m0.1\u001b[0m.\u001b[1;36m0\u001b[0m\u001b[1m)\u001b[0m.                                                                         \n"
      ]
     },
     "metadata": {},
     "output_type": "display_data"
    },
    {
     "data": {
      "text/html": [
       "<pre style=\"white-space:pre;overflow-x:auto;line-height:normal;font-family:Menlo,'DejaVu Sans Mono',consolas,'Courier New',monospace\"><span style=\"color: #7fbfbf; text-decoration-color: #7fbfbf\">           </span>Complete <span style=\"font-weight: bold\">(</span>Unfolding Dynamics of Ubiquitin from Constant Force MD Simulation: Entropy−Enthalpy Interplay \n",
       "<span style=\"color: #7fbfbf; text-decoration-color: #7fbfbf\">           </span>Shapes the Free-Energy Landscape<span style=\"font-weight: bold\">)</span>.                                                                      \n",
       "</pre>\n"
      ],
      "text/plain": [
       "\u001b[2;36m          \u001b[0m\u001b[2;36m \u001b[0mComplete \u001b[1m(\u001b[0mUnfolding Dynamics of Ubiquitin from Constant Force MD Simulation: Entropy−Enthalpy Interplay \n",
       "\u001b[2;36m           \u001b[0mShapes the Free-Energy Landscape\u001b[1m)\u001b[0m.                                                                      \n"
      ]
     },
     "metadata": {},
     "output_type": "display_data"
    },
    {
     "data": {
      "text/html": [
       "<pre style=\"white-space:pre;overflow-x:auto;line-height:normal;font-family:Menlo,'DejaVu Sans Mono',consolas,'Courier New',monospace\"><span style=\"color: #7fbfbf; text-decoration-color: #7fbfbf\">[21:38:58] </span>Complete <span style=\"font-weight: bold\">(</span>Anti-Inflammatory, Radical Scavenging Mechanism of New <span style=\"color: #008080; text-decoration-color: #008080; font-weight: bold\">4</span>-Aryl-<span style=\"font-weight: bold\">[</span><span style=\"color: #008080; text-decoration-color: #008080; font-weight: bold\">1</span>,<span style=\"color: #008080; text-decoration-color: #008080; font-weight: bold\">3</span><span style=\"font-weight: bold\">]</span>-thiazol-<span style=\"color: #008080; text-decoration-color: #008080; font-weight: bold\">2</span>-yl-<span style=\"color: #008080; text-decoration-color: #008080; font-weight: bold\">2</span>-quinoline  \n",
       "<span style=\"color: #7fbfbf; text-decoration-color: #7fbfbf\">           </span>Carbohydrazides and Quinolinyl<span style=\"font-weight: bold\">[</span><span style=\"color: #008080; text-decoration-color: #008080; font-weight: bold\">1</span>,<span style=\"color: #008080; text-decoration-color: #008080; font-weight: bold\">3</span><span style=\"font-weight: bold\">]</span>-thiazolo<span style=\"font-weight: bold\">[</span><span style=\"color: #008080; text-decoration-color: #008080; font-weight: bold\">3</span>,<span style=\"color: #008080; text-decoration-color: #008080; font-weight: bold\">2</span>-b                                                      \n",
       "<span style=\"color: #7fbfbf; text-decoration-color: #7fbfbf\">           </span><span style=\"font-weight: bold\">][</span><span style=\"color: #008080; text-decoration-color: #008080; font-weight: bold\">1</span>,<span style=\"color: #008080; text-decoration-color: #008080; font-weight: bold\">2</span>,<span style=\"color: #008080; text-decoration-color: #008080; font-weight: bold\">4</span><span style=\"font-weight: bold\">]</span>triazoles<span style=\"font-weight: bold\">)</span>.                                                                                     \n",
       "</pre>\n"
      ],
      "text/plain": [
       "\u001b[2;36m[21:38:58]\u001b[0m\u001b[2;36m \u001b[0mComplete \u001b[1m(\u001b[0mAnti-Inflammatory, Radical Scavenging Mechanism of New \u001b[1;36m4\u001b[0m-Aryl-\u001b[1m[\u001b[0m\u001b[1;36m1\u001b[0m,\u001b[1;36m3\u001b[0m\u001b[1m]\u001b[0m-thiazol-\u001b[1;36m2\u001b[0m-yl-\u001b[1;36m2\u001b[0m-quinoline  \n",
       "\u001b[2;36m           \u001b[0mCarbohydrazides and Quinolinyl\u001b[1m[\u001b[0m\u001b[1;36m1\u001b[0m,\u001b[1;36m3\u001b[0m\u001b[1m]\u001b[0m-thiazolo\u001b[1m[\u001b[0m\u001b[1;36m3\u001b[0m,\u001b[1;36m2\u001b[0m-b                                                      \n",
       "\u001b[2;36m           \u001b[0m\u001b[1m]\u001b[0m\u001b[1m[\u001b[0m\u001b[1;36m1\u001b[0m,\u001b[1;36m2\u001b[0m,\u001b[1;36m4\u001b[0m\u001b[1m]\u001b[0mtriazoles\u001b[1m)\u001b[0m.                                                                                     \n"
      ]
     },
     "metadata": {},
     "output_type": "display_data"
    },
    {
     "data": {
      "text/html": [
       "<pre style=\"white-space:pre;overflow-x:auto;line-height:normal;font-family:Menlo,'DejaVu Sans Mono',consolas,'Courier New',monospace\"><span style=\"color: #7fbfbf; text-decoration-color: #7fbfbf\">[21:38:59] </span>Complete <span style=\"font-weight: bold\">(</span>Tertiary and Quaternary Structural Basis of Oxygen Affinity in Human Hemoglobin as Revealed by\n",
       "<span style=\"color: #7fbfbf; text-decoration-color: #7fbfbf\">           </span>Multiscale Simulations<span style=\"font-weight: bold\">)</span>.                                                                                \n",
       "</pre>\n"
      ],
      "text/plain": [
       "\u001b[2;36m[21:38:59]\u001b[0m\u001b[2;36m \u001b[0mComplete \u001b[1m(\u001b[0mTertiary and Quaternary Structural Basis of Oxygen Affinity in Human Hemoglobin as Revealed by\n",
       "\u001b[2;36m           \u001b[0mMultiscale Simulations\u001b[1m)\u001b[0m.                                                                                \n"
      ]
     },
     "metadata": {},
     "output_type": "display_data"
    },
    {
     "data": {
      "text/html": [
       "<pre style=\"white-space:pre;overflow-x:auto;line-height:normal;font-family:Menlo,'DejaVu Sans Mono',consolas,'Courier New',monospace\"><span style=\"color: #7fbfbf; text-decoration-color: #7fbfbf\">           </span>Complete <span style=\"font-weight: bold\">(</span>Computer simulations of fibronectin adsorption on hydroxyapatite surfaces<span style=\"font-weight: bold\">)</span>.                   \n",
       "</pre>\n"
      ],
      "text/plain": [
       "\u001b[2;36m          \u001b[0m\u001b[2;36m \u001b[0mComplete \u001b[1m(\u001b[0mComputer simulations of fibronectin adsorption on hydroxyapatite surfaces\u001b[1m)\u001b[0m.                   \n"
      ]
     },
     "metadata": {},
     "output_type": "display_data"
    },
    {
     "data": {
      "text/html": [
       "<pre style=\"white-space:pre;overflow-x:auto;line-height:normal;font-family:Menlo,'DejaVu Sans Mono',consolas,'Courier New',monospace\"><span style=\"color: #7fbfbf; text-decoration-color: #7fbfbf\">[21:39:00] </span>Complete <span style=\"font-weight: bold\">(</span>Spatial Distribution of Glucan Type and Content between Caps and Stalks in Pleurotus eryngii: \n",
       "<span style=\"color: #7fbfbf; text-decoration-color: #7fbfbf\">           </span>Impact on the Anti-inflammatory Functionality<span style=\"font-weight: bold\">)</span>.                                                         \n",
       "</pre>\n"
      ],
      "text/plain": [
       "\u001b[2;36m[21:39:00]\u001b[0m\u001b[2;36m \u001b[0mComplete \u001b[1m(\u001b[0mSpatial Distribution of Glucan Type and Content between Caps and Stalks in Pleurotus eryngii: \n",
       "\u001b[2;36m           \u001b[0mImpact on the Anti-inflammatory Functionality\u001b[1m)\u001b[0m.                                                         \n"
      ]
     },
     "metadata": {},
     "output_type": "display_data"
    },
    {
     "data": {
      "text/html": [
       "<pre style=\"white-space:pre;overflow-x:auto;line-height:normal;font-family:Menlo,'DejaVu Sans Mono',consolas,'Courier New',monospace\"><span style=\"color: #7fbfbf; text-decoration-color: #7fbfbf\">[21:39:08] </span>Complete <span style=\"font-weight: bold\">(</span>An Atomistic View on Human Hemoglobin Carbon Monoxide Migration Processes<span style=\"font-weight: bold\">)</span>.                   \n",
       "</pre>\n"
      ],
      "text/plain": [
       "\u001b[2;36m[21:39:08]\u001b[0m\u001b[2;36m \u001b[0mComplete \u001b[1m(\u001b[0mAn Atomistic View on Human Hemoglobin Carbon Monoxide Migration Processes\u001b[1m)\u001b[0m.                   \n"
      ]
     },
     "metadata": {},
     "output_type": "display_data"
    },
    {
     "data": {
      "text/html": [
       "<pre style=\"white-space:pre;overflow-x:auto;line-height:normal;font-family:Menlo,'DejaVu Sans Mono',consolas,'Courier New',monospace\"><span style=\"color: #7fbfbf; text-decoration-color: #7fbfbf\">[21:39:10] </span>Complete <span style=\"font-weight: bold\">(</span>Mechanistic Insights into the Adsorption and Bioactivity of Fibronectin on Surfaces with      \n",
       "<span style=\"color: #7fbfbf; text-decoration-color: #7fbfbf\">           </span>Varying Chemistries by a Combination of Experimental Strategies and Molecular Simulations<span style=\"font-weight: bold\">)</span>.             \n",
       "</pre>\n"
      ],
      "text/plain": [
       "\u001b[2;36m[21:39:10]\u001b[0m\u001b[2;36m \u001b[0mComplete \u001b[1m(\u001b[0mMechanistic Insights into the Adsorption and Bioactivity of Fibronectin on Surfaces with      \n",
       "\u001b[2;36m           \u001b[0mVarying Chemistries by a Combination of Experimental Strategies and Molecular Simulations\u001b[1m)\u001b[0m.             \n"
      ]
     },
     "metadata": {},
     "output_type": "display_data"
    },
    {
     "data": {
      "text/html": [
       "<pre style=\"white-space:pre;overflow-x:auto;line-height:normal;font-family:Menlo,'DejaVu Sans Mono',consolas,'Courier New',monospace\"><span style=\"color: #7fbfbf; text-decoration-color: #7fbfbf\">[21:39:26] </span>Complete <span style=\"font-weight: bold\">(</span>Forced Unfolding of Fibronectin Type <span style=\"color: #008080; text-decoration-color: #008080; font-weight: bold\">3</span> Modules: An Analysis by Biased Molecular Dynamics      \n",
       "<span style=\"color: #7fbfbf; text-decoration-color: #7fbfbf\">           </span>Simulations<span style=\"font-weight: bold\">)</span>.                                                                                           \n",
       "</pre>\n"
      ],
      "text/plain": [
       "\u001b[2;36m[21:39:26]\u001b[0m\u001b[2;36m \u001b[0mComplete \u001b[1m(\u001b[0mForced Unfolding of Fibronectin Type \u001b[1;36m3\u001b[0m Modules: An Analysis by Biased Molecular Dynamics      \n",
       "\u001b[2;36m           \u001b[0mSimulations\u001b[1m)\u001b[0m.                                                                                           \n"
      ]
     },
     "metadata": {},
     "output_type": "display_data"
    },
    {
     "data": {
      "text/html": [
       "<pre style=\"white-space:pre;overflow-x:auto;line-height:normal;font-family:Menlo,'DejaVu Sans Mono',consolas,'Courier New',monospace\"><span style=\"color: #7fbfbf; text-decoration-color: #7fbfbf\">           </span>paper_search for query <span style=\"color: #008000; text-decoration-color: #008000\">'protein 2YXF structural analysis, 2015-2024  '</span> returned <span style=\"color: #008080; text-decoration-color: #008080; font-weight: bold\">8</span> papers.               \n",
       "</pre>\n"
      ],
      "text/plain": [
       "\u001b[2;36m          \u001b[0m\u001b[2;36m \u001b[0mpaper_search for query \u001b[32m'protein 2YXF structural analysis, 2015-2024  '\u001b[0m returned \u001b[1;36m8\u001b[0m papers.               \n"
      ]
     },
     "metadata": {},
     "output_type": "display_data"
    },
    {
     "data": {
      "text/html": [
       "<pre style=\"white-space:pre;overflow-x:auto;line-height:normal;font-family:Menlo,'DejaVu Sans Mono',consolas,'Courier New',monospace\"><span style=\"color: #7fbfbf; text-decoration-color: #7fbfbf\">           </span>Status: Paper <span style=\"color: #808000; text-decoration-color: #808000\">Count</span>=<span style=\"color: #008080; text-decoration-color: #008080; font-weight: bold\">7</span> | Relevant <span style=\"color: #808000; text-decoration-color: #808000\">Papers</span>=<span style=\"color: #008080; text-decoration-color: #008080; font-weight: bold\">0</span> | Current <span style=\"color: #808000; text-decoration-color: #808000\">Evidence</span>=<span style=\"color: #008080; text-decoration-color: #008080; font-weight: bold\">0</span> | Current <span style=\"color: #808000; text-decoration-color: #808000\">Cost</span>=$<span style=\"color: #008080; text-decoration-color: #008080; font-weight: bold\">0.0000</span>                   \n",
       "</pre>\n"
      ],
      "text/plain": [
       "\u001b[2;36m          \u001b[0m\u001b[2;36m \u001b[0mStatus: Paper \u001b[33mCount\u001b[0m=\u001b[1;36m7\u001b[0m | Relevant \u001b[33mPapers\u001b[0m=\u001b[1;36m0\u001b[0m | Current \u001b[33mEvidence\u001b[0m=\u001b[1;36m0\u001b[0m | Current \u001b[33mCost\u001b[0m=$\u001b[1;36m0.0000\u001b[0m                   \n"
      ]
     },
     "metadata": {},
     "output_type": "display_data"
    },
    {
     "data": {
      "text/html": [
       "<pre style=\"white-space:pre;overflow-x:auto;line-height:normal;font-family:Menlo,'DejaVu Sans Mono',consolas,'Courier New',monospace\"><span style=\"color: #7fbfbf; text-decoration-color: #7fbfbf\">           </span>Starting paper search for <span style=\"color: #008000; text-decoration-color: #008000\">'2YXF crystallography study, 2018-2022  '</span>.                                    \n",
       "</pre>\n"
      ],
      "text/plain": [
       "\u001b[2;36m          \u001b[0m\u001b[2;36m \u001b[0mStarting paper search for \u001b[32m'2YXF crystallography study, 2018-2022  '\u001b[0m.                                    \n"
      ]
     },
     "metadata": {},
     "output_type": "display_data"
    },
    {
     "data": {
      "text/html": [
       "<pre style=\"white-space:pre;overflow-x:auto;line-height:normal;font-family:Menlo,'DejaVu Sans Mono',consolas,'Courier New',monospace\"><span style=\"color: #7fbfbf; text-decoration-color: #7fbfbf\">[21:39:27] </span>paper_search for query <span style=\"color: #008000; text-decoration-color: #008000\">'2YXF crystallography study, 2018-2022  '</span> returned <span style=\"color: #008080; text-decoration-color: #008080; font-weight: bold\">8</span> papers.                     \n",
       "</pre>\n"
      ],
      "text/plain": [
       "\u001b[2;36m[21:39:27]\u001b[0m\u001b[2;36m \u001b[0mpaper_search for query \u001b[32m'2YXF crystallography study, 2018-2022  '\u001b[0m returned \u001b[1;36m8\u001b[0m papers.                     \n"
      ]
     },
     "metadata": {},
     "output_type": "display_data"
    },
    {
     "data": {
      "text/html": [
       "<pre style=\"white-space:pre;overflow-x:auto;line-height:normal;font-family:Menlo,'DejaVu Sans Mono',consolas,'Courier New',monospace\"><span style=\"color: #7fbfbf; text-decoration-color: #7fbfbf\">           </span>Status: Paper <span style=\"color: #808000; text-decoration-color: #808000\">Count</span>=<span style=\"color: #008080; text-decoration-color: #008080; font-weight: bold\">10</span> | Relevant <span style=\"color: #808000; text-decoration-color: #808000\">Papers</span>=<span style=\"color: #008080; text-decoration-color: #008080; font-weight: bold\">0</span> | Current <span style=\"color: #808000; text-decoration-color: #808000\">Evidence</span>=<span style=\"color: #008080; text-decoration-color: #008080; font-weight: bold\">0</span> | Current <span style=\"color: #808000; text-decoration-color: #808000\">Cost</span>=$<span style=\"color: #008080; text-decoration-color: #008080; font-weight: bold\">0.0000</span>                  \n",
       "</pre>\n"
      ],
      "text/plain": [
       "\u001b[2;36m          \u001b[0m\u001b[2;36m \u001b[0mStatus: Paper \u001b[33mCount\u001b[0m=\u001b[1;36m10\u001b[0m | Relevant \u001b[33mPapers\u001b[0m=\u001b[1;36m0\u001b[0m | Current \u001b[33mEvidence\u001b[0m=\u001b[1;36m0\u001b[0m | Current \u001b[33mCost\u001b[0m=$\u001b[1;36m0.0000\u001b[0m                  \n"
      ]
     },
     "metadata": {},
     "output_type": "display_data"
    },
    {
     "data": {
      "text/html": [
       "<pre style=\"white-space:pre;overflow-x:auto;line-height:normal;font-family:Menlo,'DejaVu Sans Mono',consolas,'Courier New',monospace\"><span style=\"color: #7fbfbf; text-decoration-color: #7fbfbf\">           </span>Starting paper search for <span style=\"color: #008000; text-decoration-color: #008000\">'protein stability factors 2YXF, 2020-2024  '</span>.                                \n",
       "</pre>\n"
      ],
      "text/plain": [
       "\u001b[2;36m          \u001b[0m\u001b[2;36m \u001b[0mStarting paper search for \u001b[32m'protein stability factors 2YXF, 2020-2024  '\u001b[0m.                                \n"
      ]
     },
     "metadata": {},
     "output_type": "display_data"
    },
    {
     "data": {
      "text/html": [
       "<pre style=\"white-space:pre;overflow-x:auto;line-height:normal;font-family:Menlo,'DejaVu Sans Mono',consolas,'Courier New',monospace\"><span style=\"color: #7fbfbf; text-decoration-color: #7fbfbf\">           </span>paper_search for query <span style=\"color: #008000; text-decoration-color: #008000\">'protein stability factors 2YXF, 2020-2024  '</span> returned <span style=\"color: #008080; text-decoration-color: #008080; font-weight: bold\">8</span> papers.                 \n",
       "</pre>\n"
      ],
      "text/plain": [
       "\u001b[2;36m          \u001b[0m\u001b[2;36m \u001b[0mpaper_search for query \u001b[32m'protein stability factors 2YXF, 2020-2024  '\u001b[0m returned \u001b[1;36m8\u001b[0m papers.                 \n"
      ]
     },
     "metadata": {},
     "output_type": "display_data"
    },
    {
     "data": {
      "text/html": [
       "<pre style=\"white-space:pre;overflow-x:auto;line-height:normal;font-family:Menlo,'DejaVu Sans Mono',consolas,'Courier New',monospace\"><span style=\"color: #7fbfbf; text-decoration-color: #7fbfbf\">           </span>Status: Paper <span style=\"color: #808000; text-decoration-color: #808000\">Count</span>=<span style=\"color: #008080; text-decoration-color: #008080; font-weight: bold\">12</span> | Relevant <span style=\"color: #808000; text-decoration-color: #808000\">Papers</span>=<span style=\"color: #008080; text-decoration-color: #008080; font-weight: bold\">0</span> | Current <span style=\"color: #808000; text-decoration-color: #808000\">Evidence</span>=<span style=\"color: #008080; text-decoration-color: #008080; font-weight: bold\">0</span> | Current <span style=\"color: #808000; text-decoration-color: #808000\">Cost</span>=$<span style=\"color: #008080; text-decoration-color: #008080; font-weight: bold\">0.0000</span>                  \n",
       "</pre>\n"
      ],
      "text/plain": [
       "\u001b[2;36m          \u001b[0m\u001b[2;36m \u001b[0mStatus: Paper \u001b[33mCount\u001b[0m=\u001b[1;36m12\u001b[0m | Relevant \u001b[33mPapers\u001b[0m=\u001b[1;36m0\u001b[0m | Current \u001b[33mEvidence\u001b[0m=\u001b[1;36m0\u001b[0m | Current \u001b[33mCost\u001b[0m=$\u001b[1;36m0.0000\u001b[0m                  \n"
      ]
     },
     "metadata": {},
     "output_type": "display_data"
    },
    {
     "data": {
      "text/html": [
       "<pre style=\"white-space:pre;overflow-x:auto;line-height:normal;font-family:Menlo,'DejaVu Sans Mono',consolas,'Courier New',monospace\"><span style=\"color: #7fbfbf; text-decoration-color: #7fbfbf\">           </span>gather_evidence starting for question <span style=\"color: #008000; text-decoration-color: #008000\">'2YXF stability'</span>.                                                 \n",
       "</pre>\n"
      ],
      "text/plain": [
       "\u001b[2;36m          \u001b[0m\u001b[2;36m \u001b[0mgather_evidence starting for question \u001b[32m'2YXF stability'\u001b[0m.                                                 \n"
      ]
     },
     "metadata": {},
     "output_type": "display_data"
    },
    {
     "data": {
      "text/html": [
       "<pre style=\"white-space:pre;overflow-x:auto;line-height:normal;font-family:Menlo,'DejaVu Sans Mono',consolas,'Courier New',monospace\"><span style=\"color: #7fbfbf; text-decoration-color: #7fbfbf\">[21:39:32] </span>Status: Paper <span style=\"color: #808000; text-decoration-color: #808000\">Count</span>=<span style=\"color: #008080; text-decoration-color: #008080; font-weight: bold\">12</span> | Relevant <span style=\"color: #808000; text-decoration-color: #808000\">Papers</span>=<span style=\"color: #008080; text-decoration-color: #008080; font-weight: bold\">2</span> | Current <span style=\"color: #808000; text-decoration-color: #808000\">Evidence</span>=<span style=\"color: #008080; text-decoration-color: #008080; font-weight: bold\">2</span> | Current <span style=\"color: #808000; text-decoration-color: #808000\">Cost</span>=$<span style=\"color: #008080; text-decoration-color: #008080; font-weight: bold\">0.0391</span>                  \n",
       "</pre>\n"
      ],
      "text/plain": [
       "\u001b[2;36m[21:39:32]\u001b[0m\u001b[2;36m \u001b[0mStatus: Paper \u001b[33mCount\u001b[0m=\u001b[1;36m12\u001b[0m | Relevant \u001b[33mPapers\u001b[0m=\u001b[1;36m2\u001b[0m | Current \u001b[33mEvidence\u001b[0m=\u001b[1;36m2\u001b[0m | Current \u001b[33mCost\u001b[0m=$\u001b[1;36m0.0391\u001b[0m                  \n"
      ]
     },
     "metadata": {},
     "output_type": "display_data"
    },
    {
     "data": {
      "text/html": [
       "<pre style=\"white-space:pre;overflow-x:auto;line-height:normal;font-family:Menlo,'DejaVu Sans Mono',consolas,'Courier New',monospace\"><span style=\"color: #7fbfbf; text-decoration-color: #7fbfbf\">           </span>Generating answer for <span style=\"color: #008000; text-decoration-color: #008000\">'2YXF stability'</span>.                                                                 \n",
       "</pre>\n"
      ],
      "text/plain": [
       "\u001b[2;36m          \u001b[0m\u001b[2;36m \u001b[0mGenerating answer for \u001b[32m'2YXF stability'\u001b[0m.                                                                 \n"
      ]
     },
     "metadata": {},
     "output_type": "display_data"
    },
    {
     "data": {
      "text/html": [
       "<pre style=\"white-space:pre;overflow-x:auto;line-height:normal;font-family:Menlo,'DejaVu Sans Mono',consolas,'Courier New',monospace\"><span style=\"color: #7fbfbf; text-decoration-color: #7fbfbf\">[21:39:33] </span>Status: Paper <span style=\"color: #808000; text-decoration-color: #808000\">Count</span>=<span style=\"color: #008080; text-decoration-color: #008080; font-weight: bold\">12</span> | Relevant <span style=\"color: #808000; text-decoration-color: #808000\">Papers</span>=<span style=\"color: #008080; text-decoration-color: #008080; font-weight: bold\">0</span> | Current <span style=\"color: #808000; text-decoration-color: #808000\">Evidence</span>=<span style=\"color: #008080; text-decoration-color: #008080; font-weight: bold\">0</span> | Current <span style=\"color: #808000; text-decoration-color: #808000\">Cost</span>=$<span style=\"color: #008080; text-decoration-color: #008080; font-weight: bold\">0.0424</span>                  \n",
       "</pre>\n"
      ],
      "text/plain": [
       "\u001b[2;36m[21:39:33]\u001b[0m\u001b[2;36m \u001b[0mStatus: Paper \u001b[33mCount\u001b[0m=\u001b[1;36m12\u001b[0m | Relevant \u001b[33mPapers\u001b[0m=\u001b[1;36m0\u001b[0m | Current \u001b[33mEvidence\u001b[0m=\u001b[1;36m0\u001b[0m | Current \u001b[33mCost\u001b[0m=$\u001b[1;36m0.0424\u001b[0m                  \n"
      ]
     },
     "metadata": {},
     "output_type": "display_data"
    },
    {
     "data": {
      "text/html": [
       "<pre style=\"white-space:pre;overflow-x:auto;line-height:normal;font-family:Menlo,'DejaVu Sans Mono',consolas,'Courier New',monospace\"><span style=\"color: #7fbfbf; text-decoration-color: #7fbfbf\">           </span><span style=\"color: #000080; text-decoration-color: #000080; font-weight: bold\">Answer: I cannot answer.</span>                                                                                \n",
       "</pre>\n"
      ],
      "text/plain": [
       "\u001b[2;36m          \u001b[0m\u001b[2;36m \u001b[0m\u001b[1;34mAnswer: I cannot answer.\u001b[0m                                                                                \n"
      ]
     },
     "metadata": {},
     "output_type": "display_data"
    },
    {
     "name": "stdout",
     "output_type": "stream",
     "text": [
      "Question: 2YXF stability\n",
      "\n",
      "I cannot answer.\n",
      " Check to ensure there's papers in /gpfs/fs2/scratch/qcampbe2/repos/md-agent_gpt_params/notebooks/experiments/experiment_k1/llama-v3p1-70b-instruct/paper_collection\n"
     ]
    },
    {
     "name": "stdout",
     "output_type": "stream",
     "text": [
      "Thought:"
     ]
    },
    {
     "name": "stdout",
     "output_type": "stream",
     "text": [
      " It seems that the literature search"
     ]
    },
    {
     "name": "stdout",
     "output_type": "stream",
     "text": [
      " did not yield any results."
     ]
    },
    {
     "name": "stdout",
     "output_type": "stream",
     "text": [
      " I will try"
     ]
    },
    {
     "name": "stdout",
     "output_type": "stream",
     "text": [
      " to simulate the protein for 1 ns and plot"
     ]
    },
    {
     "name": "stdout",
     "output_type": "stream",
     "text": [
      " its RMSD over time.\n",
      "\n",
      "Action:\n",
      "```\n",
      "{\n",
      " "
     ]
    },
    {
     "name": "stdout",
     "output_type": "stream",
     "text": [
      " \"action\": \"SetUpandRunFunction\",\n",
      " "
     ]
    },
    {
     "name": "stdout",
     "output_type": "stream",
     "text": [
      " \"action_input\": {\n",
      "    \"pdb_id\":"
     ]
    },
    {
     "name": "stdout",
     "output_type": "stream",
     "text": [
      " \"2YXF_213829\",\n",
      "    \""
     ]
    },
    {
     "name": "stdout",
     "output_type": "stream",
     "text": [
      "forcefield_files\": [\"amber14"
     ]
    },
    {
     "name": "stdout",
     "output_type": "stream",
     "text": [
      "/protein.ff14"
     ]
    },
    {
     "name": "stdout",
     "output_type": "stream",
     "text": [
      "SB.xml\"],\n"
     ]
    },
    {
     "name": "stdout",
     "output_type": "stream",
     "text": [
      "   "
     ]
    },
    {
     "name": "stdout",
     "output_type": "stream",
     "text": [
      " \"save\": true,\n",
      "    \"system_params"
     ]
    },
    {
     "name": "stdout",
     "output_type": "stream",
     "text": [
      "\": {\n",
      "      \"nonbondedMethod\": \""
     ]
    },
    {
     "name": "stdout",
     "output_type": "stream",
     "text": [
      "PME\",\n",
      "      \"nonbondedCutoff"
     ]
    },
    {
     "name": "stdout",
     "output_type": "stream",
     "text": [
      "\": \"1.0 * nanometers\",\n",
      "      \""
     ]
    },
    {
     "name": "stdout",
     "output_type": "stream",
     "text": [
      "ewaldErrorTolerance\": 0."
     ]
    },
    {
     "name": "stdout",
     "output_type": "stream",
     "text": [
      "00001,\n",
      "      \"constraints\": \"HBonds"
     ]
    },
    {
     "name": "stdout",
     "output_type": "stream",
     "text": [
      "\",\n",
      "      \"rigidWater\": true,\n"
     ]
    },
    {
     "name": "stdout",
     "output_type": "stream",
     "text": [
      "      \"constraintTolerance\": 0.00001,\n"
     ]
    },
    {
     "name": "stdout",
     "output_type": "stream",
     "text": [
      "      \"solvate\": true\n",
      "    },\n",
      "    \""
     ]
    },
    {
     "name": "stdout",
     "output_type": "stream",
     "text": [
      "integrator_params\": {\n",
      "      \"integrator_type"
     ]
    },
    {
     "name": "stdout",
     "output_type": "stream",
     "text": [
      "\": \"Lange"
     ]
    },
    {
     "name": "stdout",
     "output_type": "stream",
     "text": [
      "vinMiddle\",\n",
      "      \"Temperature\": \""
     ]
    },
    {
     "name": "stdout",
     "output_type": "stream",
     "text": [
      "300 * kelvin\",\n",
      "      \"Fr"
     ]
    },
    {
     "name": "stdout",
     "output_type": "stream",
     "text": [
      "iction\": \"1.0 / pic"
     ]
    },
    {
     "name": "stdout",
     "output_type": "stream",
     "text": [
      "oseconds\",\n",
      "      \"Timestep\": \""
     ]
    },
    {
     "name": "stdout",
     "output_type": "stream",
     "text": [
      "0.002 * picoseconds\",\n",
      "     "
     ]
    },
    {
     "name": "stdout",
     "output_type": "stream",
     "text": [
      " \"Pressure\": \""
     ]
    },
    {
     "name": "stdout",
     "output_type": "stream",
     "text": [
      "1.0 * bar\"\n",
      "    },\n"
     ]
    },
    {
     "name": "stdout",
     "output_type": "stream",
     "text": [
      "    \"simulation_params\": {\n",
      "      \""
     ]
    },
    {
     "name": "stdout",
     "output_type": "stream",
     "text": [
      "Ensemble\": \"NPT\",\n"
     ]
    },
    {
     "name": "stdout",
     "output_type": "stream",
     "text": [
      "      \"Number of"
     ]
    },
    {
     "name": "stdout",
     "output_type": "stream",
     "text": [
      " Steps\": 500000,\n"
     ]
    },
    {
     "name": "stdout",
     "output_type": "stream",
     "text": [
      "      \"record_interval_steps\": 100"
     ]
    },
    {
     "name": "stdout",
     "output_type": "stream",
     "text": [
      ",\n",
      "      \"record_params\": [\"step"
     ]
    },
    {
     "name": "stdout",
     "output_type": "stream",
     "text": [
      "\", \"potentialEnergy\", \"temperature\"]\n"
     ]
    },
    {
     "name": "stdout",
     "output_type": "stream",
     "text": [
      "    }\n",
      "  }\n",
      "}\n",
      "```\n",
      "\n"
     ]
    },
    {
     "name": "stdout",
     "output_type": "stream",
     "text": [
      "Building system...\n",
      "About to create system...\n",
      "Attempts at creating system: 0/3\n",
      "Error adding solvent ValueError – No template found for residue 1 (MET).  The set of atoms is similar to MET, but it is missing 9 hydrogen atoms.  For more information, see https://github.com/openmm/openmm/wiki/Frequently-Asked-Questions#template\n",
      "Residue code: MET\n",
      "Residue code not in solvent list. Adding forcefield                         not supported.\n"
     ]
    },
    {
     "name": "stdout",
     "output_type": "stream",
     "text": [
      "Thought:"
     ]
    },
    {
     "name": "stdout",
     "output_type": "stream",
     "text": [
      " The SetUpandRunFunction tool failed"
     ]
    },
    {
     "name": "stdout",
     "output_type": "stream",
     "text": [
      " because"
     ]
    },
    {
     "name": "stdout",
     "output_type": "stream",
     "text": [
      " the residue 1 (MET"
     ]
    },
    {
     "name": "stdout",
     "output_type": "stream",
     "text": [
      ") is missing 9 hydrogen atoms. I need"
     ]
    },
    {
     "name": "stdout",
     "output_type": "stream",
     "text": [
      " to add the missing hydrogen atoms to the"
     ]
    },
    {
     "name": "stdout",
     "output_type": "stream",
     "text": [
      " PDB file before simulating it.\n",
      "\n",
      "Action"
     ]
    },
    {
     "name": "stdout",
     "output_type": "stream",
     "text": [
      ":\n",
      "```\n",
      "{\n"
     ]
    },
    {
     "name": "stdout",
     "output_type": "stream",
     "text": [
      "  \"action\": \"CleaningToolFunction\",\n",
      "  \""
     ]
    },
    {
     "name": "stdout",
     "output_type": "stream",
     "text": [
      "action_input\": {\n",
      "    \"pdb_id\": \"2Y"
     ]
    },
    {
     "name": "stdout",
     "output_type": "stream",
     "text": [
      "XF_213829\",\n",
      "    \"replace_nonstandard_resid"
     ]
    },
    {
     "name": "stdout",
     "output_type": "stream",
     "text": [
      "ues\": true,\n",
      "    \"add_missing_atoms\": true,\n"
     ]
    },
    {
     "name": "stdout",
     "output_type": "stream",
     "text": [
      "    \"remove_heterogens\": true,\n",
      "    \"remove"
     ]
    },
    {
     "name": "stdout",
     "output_type": "stream",
     "text": [
      "_water\": true,\n",
      "    \"add_hydrogens\": true"
     ]
    },
    {
     "name": "stdout",
     "output_type": "stream",
     "text": [
      ",\n"
     ]
    },
    {
     "name": "stdout",
     "output_type": "stream",
     "text": [
      "    \"add_hydrogens_ph\": 7.0"
     ]
    },
    {
     "name": "stdout",
     "output_type": "stream",
     "text": [
      "\n",
      "  }\n",
      "}\n",
      "```"
     ]
    },
    {
     "name": "stdout",
     "output_type": "stream",
     "text": [
      "file path: /gpfs/fs2/scratch/qcampbe2/repos/md-agent_gpt_params/ckpt/ckpt_7/pdb/2YXF_raw_20241002_213829.pdb\n"
     ]
    },
    {
     "name": "stdout",
     "output_type": "stream",
     "text": [
      "Thought:"
     ]
    },
    {
     "name": "stdout",
     "output_type": "stream",
     "text": [
      " Now that"
     ]
    },
    {
     "name": "stdout",
     "output_type": "stream",
     "text": [
      " I have the cleaned PDB file, I can"
     ]
    },
    {
     "name": "stdout",
     "output_type": "stream",
     "text": [
      " simulate"
     ]
    },
    {
     "name": "stdout",
     "output_type": "stream",
     "text": [
      " it for 1 ns and plot its RMSD over time"
     ]
    },
    {
     "name": "stdout",
     "output_type": "stream",
     "text": [
      ".\n",
      "\n",
      "Action:\n",
      "``"
     ]
    },
    {
     "name": "stdout",
     "output_type": "stream",
     "text": [
      "`\n",
      "{\n",
      "  \"action\": \"SetUpand"
     ]
    },
    {
     "name": "stdout",
     "output_type": "stream",
     "text": [
      "RunFunction\",\n",
      "  \"action_input\": {\n",
      "    \"pdb"
     ]
    },
    {
     "name": "stdout",
     "output_type": "stream",
     "text": [
      "_id\": \"2YXF_213940\",\n",
      "    \""
     ]
    },
    {
     "name": "stdout",
     "output_type": "stream",
     "text": [
      "forcefield_files\": [\"amber14/protein.ff14SB"
     ]
    },
    {
     "name": "stdout",
     "output_type": "stream",
     "text": [
      ".xml\"],\n",
      "    \"save\": true,\n",
      "    \"system_params"
     ]
    },
    {
     "name": "stdout",
     "output_type": "stream",
     "text": [
      "\": {\n",
      "      \"nonbondedMethod\": \"PME"
     ]
    },
    {
     "name": "stdout",
     "output_type": "stream",
     "text": [
      "\",\n",
      "      \"nonbondedCutoff\": \"1."
     ]
    },
    {
     "name": "stdout",
     "output_type": "stream",
     "text": [
      "0 * nanometers"
     ]
    },
    {
     "name": "stdout",
     "output_type": "stream",
     "text": [
      "\",\n",
      "      \"ewaldErrorTolerance"
     ]
    },
    {
     "name": "stdout",
     "output_type": "stream",
     "text": [
      "\": 0."
     ]
    },
    {
     "name": "stdout",
     "output_type": "stream",
     "text": [
      "00001,\n",
      "      \"constraints\": \"HBonds\",\n",
      "     "
     ]
    },
    {
     "name": "stdout",
     "output_type": "stream",
     "text": [
      " \"rigidWater\": true,\n",
      "      \"constraintTolerance"
     ]
    },
    {
     "name": "stdout",
     "output_type": "stream",
     "text": [
      "\": 0.00001,\n",
      "      \"solvate"
     ]
    },
    {
     "name": "stdout",
     "output_type": "stream",
     "text": [
      "\": true\n",
      "    },\n",
      "    \"integrator_params\": {\n"
     ]
    },
    {
     "name": "stdout",
     "output_type": "stream",
     "text": [
      "      \"integrator_type\": \"LangevinMiddle\",\n"
     ]
    },
    {
     "name": "stdout",
     "output_type": "stream",
     "text": [
      "      \"Temperature\": \"300 * kelvin\",\n",
      "      \""
     ]
    },
    {
     "name": "stdout",
     "output_type": "stream",
     "text": [
      "Friction\": \"1.0 / picoseconds\",\n",
      "     "
     ]
    },
    {
     "name": "stdout",
     "output_type": "stream",
     "text": [
      " \"Timestep\": \"0.002 * picoseconds\",\n"
     ]
    },
    {
     "name": "stdout",
     "output_type": "stream",
     "text": [
      "      \"Pressure\": \"1.0 * bar\"\n",
      "   "
     ]
    },
    {
     "name": "stdout",
     "output_type": "stream",
     "text": [
      " },\n",
      "    \"simulation_params\": {\n",
      "      \"Ensemble\":"
     ]
    },
    {
     "name": "stdout",
     "output_type": "stream",
     "text": [
      " \"NPT\",\n",
      "      \"Number of Steps\": 500"
     ]
    },
    {
     "name": "stdout",
     "output_type": "stream",
     "text": [
      "000,\n",
      "      \"record_interval_steps\": "
     ]
    },
    {
     "name": "stdout",
     "output_type": "stream",
     "text": [
      "100,\n",
      "      \"record_params\": [\"step\", \"potential"
     ]
    },
    {
     "name": "stdout",
     "output_type": "stream",
     "text": [
      "Energy\", \"temperature\"]\n",
      "    }\n",
      " "
     ]
    },
    {
     "name": "stdout",
     "output_type": "stream",
     "text": [
      " }\n",
      "}\n",
      "```\n"
     ]
    },
    {
     "name": "stdout",
     "output_type": "stream",
     "text": [
      "Building system...\n",
      "About to create system...\n",
      "Attempts at creating system: 0/3\n"
     ]
    },
    {
     "name": "stdout",
     "output_type": "stream",
     "text": [
      "Error adding solvent ValueError – No template found for residue 101 (HOH).  This might mean your input topology is missing some atoms or bonds, or possibly that you are using the wrong force field.  For more information, see https://github.com/openmm/openmm/wiki/Frequently-Asked-Questions#template\n",
      "Residue code: HOH\n",
      "Trying to add missing component to Forcefield...\n",
      "Found SMILES from HET code: O\n"
     ]
    },
    {
     "name": "stdout",
     "output_type": "stream",
     "text": [
      "Attempt 1 to add small                                 molecules to forcefield.\n",
      "Attempts at creating system: 1/3\n"
     ]
    },
    {
     "data": {
      "application/vnd.jupyter.widget-view+json": {
       "model_id": "71ce0438c1dd4cadb0181317d97a6d8e",
       "version_major": 2,
       "version_minor": 0
      },
      "text/plain": []
     },
     "metadata": {},
     "output_type": "display_data"
    },
    {
     "name": "stderr",
     "output_type": "stream",
     "text": [
      "Did not recognize residue NA; did you forget to call .add_molecules() to add it?\n"
     ]
    },
    {
     "name": "stdout",
     "output_type": "stream",
     "text": [
      "Thought:"
     ]
    },
    {
     "name": "stdout",
     "output_type": "stream",
     "text": [
      " The SetUpandRunFunction tool"
     ]
    },
    {
     "name": "stdout",
     "output_type": "stream",
     "text": [
      " failed again because the residue"
     ]
    },
    {
     "name": "stdout",
     "output_type": "stream",
     "text": [
      " 34822 (NA) is missing"
     ]
    },
    {
     "name": "stdout",
     "output_type": "stream",
     "text": [
      " some atoms or bonds. I need to"
     ]
    },
    {
     "name": "stdout",
     "output_type": "stream",
     "text": [
      " remove the heterogens and water"
     ]
    },
    {
     "name": "stdout",
     "output_type": "stream",
     "text": [
      " from the"
     ]
    },
    {
     "name": "stdout",
     "output_type": "stream",
     "text": [
      " PDB file before"
     ]
    },
    {
     "name": "stdout",
     "output_type": "stream",
     "text": [
      " simulating it.\n",
      "\n",
      "Action:\n",
      "```\n"
     ]
    },
    {
     "name": "stdout",
     "output_type": "stream",
     "text": [
      "{\n",
      "  \"action\": \"CleaningTool"
     ]
    },
    {
     "name": "stdout",
     "output_type": "stream",
     "text": [
      "Function\",\n",
      "  \"action_input\": {\n"
     ]
    },
    {
     "name": "stdout",
     "output_type": "stream",
     "text": [
      "    \"pdb_id\": \"2Y"
     ]
    },
    {
     "name": "stdout",
     "output_type": "stream",
     "text": [
      "XF_213940\",\n",
      "    \"replace"
     ]
    },
    {
     "name": "stdout",
     "output_type": "stream",
     "text": [
      "_nonstandard_residues"
     ]
    },
    {
     "name": "stdout",
     "output_type": "stream",
     "text": [
      "\": true,\n",
      "    \"add_missing"
     ]
    },
    {
     "name": "stdout",
     "output_type": "stream",
     "text": [
      "_atoms\": true,\n",
      "    \"remove_h"
     ]
    },
    {
     "name": "stdout",
     "output_type": "stream",
     "text": [
      "eterogens\": true"
     ]
    },
    {
     "name": "stdout",
     "output_type": "stream",
     "text": [
      ",\n",
      "    \"remove_water\": true,\n",
      "    \"add_h"
     ]
    },
    {
     "name": "stdout",
     "output_type": "stream",
     "text": [
      "ydrogens\": true,\n",
      "    \"add_hydrogens_ph"
     ]
    },
    {
     "name": "stdout",
     "output_type": "stream",
     "text": [
      "\": 7.0\n",
      "  }\n",
      "}\n",
      "```\n"
     ]
    },
    {
     "name": "stdout",
     "output_type": "stream",
     "text": [
      "file path: /gpfs/fs2/scratch/qcampbe2/repos/md-agent_gpt_params/ckpt/ckpt_7/pdb/2YXF_Clean_20241002_213940.pdb\n"
     ]
    },
    {
     "name": "stdout",
     "output_type": "stream",
     "text": [
      "Thought:"
     ]
    },
    {
     "name": "stdout",
     "output_type": "stream",
     "text": [
      " Now that"
     ]
    },
    {
     "name": "stdout",
     "output_type": "stream",
     "text": [
      " I have the cleaned PDB file,"
     ]
    },
    {
     "name": "stdout",
     "output_type": "stream",
     "text": [
      " I can simulate it for 1 ns"
     ]
    },
    {
     "name": "stdout",
     "output_type": "stream",
     "text": [
      " and plot its RMSD over time.\n",
      "\n",
      "Action:\n",
      "```\n"
     ]
    },
    {
     "name": "stdout",
     "output_type": "stream",
     "text": [
      "{\n",
      "  \"action\": \"SetUpand"
     ]
    },
    {
     "name": "stdout",
     "output_type": "stream",
     "text": [
      "RunFunction\",\n",
      "  \"action_input\": {\n",
      "    \"pdb"
     ]
    },
    {
     "name": "stdout",
     "output_type": "stream",
     "text": [
      "_id\": \"2YXF_214005\",\n",
      "    \""
     ]
    },
    {
     "name": "stdout",
     "output_type": "stream",
     "text": [
      "forcefield_files\": [\"amber14/protein.ff14SB"
     ]
    },
    {
     "name": "stdout",
     "output_type": "stream",
     "text": [
      ".xml\"],\n",
      "    \"save\": true,\n",
      "    \"system_params"
     ]
    },
    {
     "name": "stdout",
     "output_type": "stream",
     "text": [
      "\": {\n",
      "      \"nonbondedMethod\": \"PME"
     ]
    },
    {
     "name": "stdout",
     "output_type": "stream",
     "text": [
      "\",\n",
      "      \"nonbondedCutoff\": \"1."
     ]
    },
    {
     "name": "stdout",
     "output_type": "stream",
     "text": [
      "0 * nanometers\",\n",
      "      \"ew"
     ]
    },
    {
     "name": "stdout",
     "output_type": "stream",
     "text": [
      "aldErrorTolerance\": 0.00001,\n",
      "     "
     ]
    },
    {
     "name": "stdout",
     "output_type": "stream",
     "text": [
      " \"constraints\": \""
     ]
    },
    {
     "name": "stdout",
     "output_type": "stream",
     "text": [
      "HBonds\",\n",
      "      \"rigidWater\": true,\n",
      "     "
     ]
    },
    {
     "name": "stdout",
     "output_type": "stream",
     "text": [
      " \"constraintTolerance\": 0.00001,\n",
      "     "
     ]
    },
    {
     "name": "stdout",
     "output_type": "stream",
     "text": [
      " \"solvate\": false\n",
      "    },\n",
      "    \""
     ]
    },
    {
     "name": "stdout",
     "output_type": "stream",
     "text": [
      "integrator_params\": {\n",
      "      \"integr"
     ]
    },
    {
     "name": "stdout",
     "output_type": "stream",
     "text": [
      "ator_type\": \"LangevinMiddle"
     ]
    },
    {
     "name": "stdout",
     "output_type": "stream",
     "text": [
      "\",\n",
      "      \"Temperature\": \"300 * kelvin\",\n",
      "     "
     ]
    },
    {
     "name": "stdout",
     "output_type": "stream",
     "text": [
      " \"Friction\":"
     ]
    },
    {
     "name": "stdout",
     "output_type": "stream",
     "text": [
      " \"1.0 / picoseconds\",\n",
      "      \"Timestep"
     ]
    },
    {
     "name": "stdout",
     "output_type": "stream",
     "text": [
      "\": \"0."
     ]
    },
    {
     "name": "stdout",
     "output_type": "stream",
     "text": [
      "002 * picoseconds\",\n",
      "      \"Pressure"
     ]
    },
    {
     "name": "stdout",
     "output_type": "stream",
     "text": [
      "\": \"1.0 * bar\"\n"
     ]
    },
    {
     "name": "stdout",
     "output_type": "stream",
     "text": [
      "    },\n",
      "    \"simulation_params\": {\n"
     ]
    },
    {
     "name": "stdout",
     "output_type": "stream",
     "text": [
      "      \"Ensemble\": \"NPT\",\n",
      "      \"Number"
     ]
    },
    {
     "name": "stdout",
     "output_type": "stream",
     "text": [
      " of Steps\": 500000,\n",
      "      \"record_interval_steps"
     ]
    },
    {
     "name": "stdout",
     "output_type": "stream",
     "text": [
      "\": 100,\n"
     ]
    },
    {
     "name": "stdout",
     "output_type": "stream",
     "text": [
      "      \"record_params"
     ]
    },
    {
     "name": "stdout",
     "output_type": "stream",
     "text": [
      "\": [\"step\", \"potentialEnergy\","
     ]
    },
    {
     "name": "stdout",
     "output_type": "stream",
     "text": [
      " \"temperature\"]\n",
      "    }\n",
      "  }\n",
      "}\n"
     ]
    },
    {
     "name": "stdout",
     "output_type": "stream",
     "text": [
      "```\n",
      "\n"
     ]
    },
    {
     "name": "stdout",
     "output_type": "stream",
     "text": [
      "Building system...\n"
     ]
    },
    {
     "name": "stdout",
     "output_type": "stream",
     "text": [
      "About to create system...\n",
      "Attempts at creating system: 0/3\n",
      "adding system without solvent\n"
     ]
    },
    {
     "name": "stdout",
     "output_type": "stream",
     "text": [
      "System built successfully\n",
      "<openmm.openmm.System; proxy of <Swig Object of type 'OpenMM::System *' at 0x2b9f6ecf1860> >\n",
      "Setting up integrator...\n",
      "Creating simulation...\n"
     ]
    },
    {
     "name": "stdout",
     "output_type": "stream",
     "text": [
      "simulation set!\n",
      "Performing energy minimization...\n"
     ]
    },
    {
     "name": "stdout",
     "output_type": "stream",
     "text": [
      "Minimization complete!\n",
      "Initial Positions saved to initial_positions.pdb\n",
      "Equilibrating...\n"
     ]
    },
    {
     "name": "stdout",
     "output_type": "stream",
     "text": [
      "Simulating...\n"
     ]
    },
    {
     "name": "stdout",
     "output_type": "stream",
     "text": [
      "Done!\n",
      "Standalone simulation script written to /gpfs/fs2/scratch/qcampbe2/repos/md-agent_gpt_params/ckpt/ckpt_7/simulations/NPT_2YXF_214005_20241002_214009.py\n",
      "['out.exp18_70b', 'TOP_sim0_214009_2YXF_214005_20241002_214009.pdb', 'paper_collection', '.ipynb_checkpoints', 'exp_4.ipynb', 'out.exp12_70b', 'exp_12.ipynb', 'exp18_70b.sh', 'results', 'out.exp6_70b', 'LOG_sim0_214009_2YXF_214005_20241002_214009.txt', 'exp6_70b.sh', 'TRAJ_sim0_213935_1FNF_213931_20241002_213947.dcd', 'exp_18.ipynb', 'TOP_sim0_213935_1FNF_213931_20241002_213947.pdb', 'TRAJ_sim0_214009_2YXF_214005_20241002_214009.dcd', 'exp_6.ipynb', 'exp_4-Copy1.ipynb', 'exp12_70b.sh', 'LOG_sim0_213935_1FNF_213931_20241002_213947.txt']\n"
     ]
    },
    {
     "name": "stdout",
     "output_type": "stream",
     "text": [
      "Thought:"
     ]
    },
    {
     "name": "stdout",
     "output_type": "stream",
     "text": [
      " Now that I have the simulation"
     ]
    },
    {
     "name": "stdout",
     "output_type": "stream",
     "text": [
      " results, I can plot"
     ]
    },
    {
     "name": "stdout",
     "output_type": "stream",
     "text": [
      " the RMSD over time.\n",
      "\n",
      "Action:\n",
      "``"
     ]
    },
    {
     "name": "stdout",
     "output_type": "stream",
     "text": [
      "`\n",
      "{\n",
      "  \"action\": \"PostSimulation"
     ]
    },
    {
     "name": "stdout",
     "output_type": "stream",
     "text": [
      "Figures\",\n",
      "  \"action_input\": \"rec"
     ]
    },
    {
     "name": "stdout",
     "output_type": "stream",
     "text": [
      "0_214009\"\n",
      "}\n",
      "```\n",
      "\n"
     ]
    },
    {
     "name": "stdout",
     "output_type": "stream",
     "text": [
      "Thought:"
     ]
    },
    {
     "name": "stdout",
     "output_type": "stream",
     "text": [
      " It seems that the PostSimulationFigures tool failed"
     ]
    },
    {
     "name": "stdout",
     "output_type": "stream",
     "text": [
      " due to an encoding issue. I will try"
     ]
    },
    {
     "name": "stdout",
     "output_type": "stream",
     "text": [
      " to plot the RMSD over time using a"
     ]
    },
    {
     "name": "stdout",
     "output_type": "stream",
     "text": [
      " different approach.\n",
      "\n",
      "Action:\n",
      "```\n",
      "{\n",
      " "
     ]
    },
    {
     "name": "stdout",
     "output_type": "stream",
     "text": [
      " \"action\": \"ComputeRMSD\",\n",
      " "
     ]
    },
    {
     "name": "stdout",
     "output_type": "stream",
     "text": [
      " \"action_input\": {\n",
      "    \"top_id\": \"top"
     ]
    },
    {
     "name": "stdout",
     "output_type": "stream",
     "text": [
      "_sim0_214009\",\n",
      "    \"tr"
     ]
    },
    {
     "name": "stdout",
     "output_type": "stream",
     "text": [
      "aj_id\": \"rec0_214009\",\n",
      "    \""
     ]
    },
    {
     "name": "stdout",
     "output_type": "stream",
     "text": [
      "ref_top_id\": \"top_sim0_214009\",\n"
     ]
    },
    {
     "name": "stdout",
     "output_type": "stream",
     "text": [
      "    \"ref_traj"
     ]
    },
    {
     "name": "stdout",
     "output_type": "stream",
     "text": [
      "_id\": \"rec0_214009\",\n",
      "    \"select"
     ]
    },
    {
     "name": "stdout",
     "output_type": "stream",
     "text": [
      "\": \"protein\",\n",
      "    \"mol_name\":"
     ]
    },
    {
     "name": "stdout",
     "output_type": "stream",
     "text": [
      " \"2YXF\"\n",
      "  }\n"
     ]
    },
    {
     "name": "stdout",
     "output_type": "stream",
     "text": [
      "}\n",
      "```"
     ]
    },
    {
     "name": "stdout",
     "output_type": "stream",
     "text": [
      "Calculating RMSD...\n"
     ]
    },
    {
     "name": "stdout",
     "output_type": "stream",
     "text": [
      "Data saved to /gpfs/fs2/scratch/qcampbe2/repos/md-agent_gpt_params/ckpt/ckpt_7/records/rmsd_2YXF.csv\n",
      "Plot saved to /gpfs/fs2/scratch/qcampbe2/repos/md-agent_gpt_params/ckpt/ckpt_7/figures/FIG_rmsd_2YXF_20241002_233203.png\n"
     ]
    },
    {
     "name": "stdout",
     "output_type": "stream",
     "text": [
      "Thought:"
     ]
    },
    {
     "name": "stdout",
     "output_type": "stream",
     "text": [
      " I have successfully simulated"
     ]
    },
    {
     "name": "stdout",
     "output_type": "stream",
     "text": [
      " the"
     ]
    },
    {
     "name": "stdout",
     "output_type": "stream",
     "text": [
      " protein 2YXF for 1 ns and plotted its"
     ]
    },
    {
     "name": "stdout",
     "output_type": "stream",
     "text": [
      " RMSD over time. However, I was unable"
     ]
    },
    {
     "name": "stdout",
     "output_type": "stream",
     "text": [
      " to find any"
     ]
    },
    {
     "name": "stdout",
     "output_type": "stream",
     "text": [
      " information about its stability in"
     ]
    },
    {
     "name": "stdout",
     "output_type": "stream",
     "text": [
      " the literature.\n",
      "\n",
      "Action:\n",
      "```\n",
      "{\n",
      "  \"action\":"
     ]
    },
    {
     "name": "stdout",
     "output_type": "stream",
     "text": [
      " \"Final Answer\",\n",
      "  \"action_input\": \"The"
     ]
    },
    {
     "name": "stdout",
     "output_type": "stream",
     "text": [
      " PDB file for 2"
     ]
    },
    {
     "name": "stdout",
     "output_type": "stream",
     "text": [
      "YXF was successfully downloaded and cleaned."
     ]
    },
    {
     "name": "stdout",
     "output_type": "stream",
     "text": [
      " The protein was simulated for 1 ns"
     ]
    },
    {
     "name": "stdout",
     "output_type": "stream",
     "text": [
      " and its RMSD over time was plotted. However, no"
     ]
    },
    {
     "name": "stdout",
     "output_type": "stream",
     "text": [
      " information about its stability was found in the literature."
     ]
    },
    {
     "name": "stdout",
     "output_type": "stream",
     "text": [
      " The RMSD plot can be"
     ]
    },
    {
     "name": "stdout",
     "output_type": "stream",
     "text": [
      " found with plot ID"
     ]
    },
    {
     "name": "stdout",
     "output_type": "stream",
     "text": [
      " fig0_233203.\"\n",
      "}\n",
      "```"
     ]
    },
    {
     "data": {
      "text/plain": [
       "({'input': '\\n    You are an expert molecular dynamics scientist, and\\n    your task is to respond to the question or\\n    solve the problem to the best of your ability using\\n    the provided tools.\\n\\n    You can only respond with a single complete\\n    \\'Thought, Action, Action Input\\' format\\n    OR a single \\'Final Answer\\' format.\\n\\n    Complete format:\\n    Thought: (reflect on your progress and decide what to do next)\\n    Action:\\n    ```\\n    {\\n        \"action\": (the action name, it should be the name of a tool),\\n        \"action_input\": (the input string for the action)\\n    }\\n    \\'\\'\\'\\n\\n    OR\\n\\n    Final Answer: (the final response to the original input\\n    question, once all steps are complete)\\n\\n    You are required to use the tools provided,\\n    using the most specific tool\\n    available for each action.\\n    Your final answer should contain all information\\n    necessary to answer the question and its subquestions.\\n    Before you finish, reflect on your progress and make\\n    sure you have addressed the question in its entirety.\\n\\n    If you are asked to continue\\n    or reference previous runs,\\n    the context will be provided to you.\\n    If context is provided, you should assume\\n    you are continuing a chat.\\n\\n    Here is the input:\\n    Previous Context: None\\n    Question: Download the PDB for 2YXF. Tell me about its stability as found in the literature. Then, simulate it for 1 ns and plot its RMSD over time. ',\n",
       "  'output': 'The PDB file for 2YXF was successfully downloaded and cleaned. The protein was simulated for 1 ns and its RMSD over time was plotted. However, no information about its stability was found in the literature. The RMSD plot can be found with plot ID fig0_233203.'},\n",
       " '9IS4K9JN')"
      ]
     },
     "execution_count": 3,
     "metadata": {},
     "output_type": "execute_result"
    }
   ],
   "source": [
    "agent.run(prompt18)"
   ]
  },
  {
   "cell_type": "code",
   "execution_count": 4,
   "id": "fbadd603",
   "metadata": {
    "execution": {
     "iopub.execute_input": "2024-10-03T03:32:05.499610Z",
     "iopub.status.busy": "2024-10-03T03:32:05.499193Z",
     "iopub.status.idle": "2024-10-03T03:32:05.504003Z",
     "shell.execute_reply": "2024-10-03T03:32:05.503579Z"
    },
    "papermill": {
     "duration": 0.023225,
     "end_time": "2024-10-03T03:32:05.505158",
     "exception": false,
     "start_time": "2024-10-03T03:32:05.481933",
     "status": "completed"
    },
    "tags": []
   },
   "outputs": [
    {
     "name": "stdout",
     "output_type": "stream",
     "text": [
      "date and time: 2024-10-02\n",
      "time: 23:32:05\n",
      "ckpt_dir: ckpt_7\n",
      "Files found in registry: 2YXF_213829: PDB file downloaded from RSCB\n",
      " PDBFile ID: 2YXF_213829\n",
      " 2YXF_213940: Cleaned File:  Removed Heterogens\n",
      " and Water Removed.  Replaced Nonstandard Residues. Added Hydrogens at pH 7.0. Missing Atoms Added and replaces nonstandard residues. \n",
      " 2YXF_214005: Cleaned File:  Removed Heterogens\n",
      " and Water Removed.  Replaced Nonstandard Residues. Added Hydrogens at pH 7.0. Missing Atoms Added and replaces nonstandard residues. \n",
      " top_sim0_214009: Initial positions for simulation sim0_214009\n",
      " sim0_214009: Basic Simulation of Protein 2YXF_214005\n",
      " rec0_214009: Simulation trajectory for protein 2YXF_214005 and simulation sim0_214009\n",
      " rec1_214009: Simulation state log for protein 2YXF_214005 and simulation sim0_214009\n",
      " rec2_214009: Simulation pdb frames for protein 2YXF_214005 and simulation sim0_214009\n",
      " rmsd_2YXF: RMSD for 2YXF\n",
      " fig0_233203: RMSD plot for 2YXF\n"
     ]
    }
   ],
   "source": [
    "now = datetime.datetime.now()\n",
    "date = now.strftime(\"%Y-%m-%d\")\n",
    "print(\"date and time:\",date)\n",
    "time = now.strftime(\"%H:%M:%S\")\n",
    "print(\"time:\",time)\n",
    "\n",
    "registry = agent.path_registry\n",
    "print('ckpt_dir:',os.path.basename(registry.ckpt_dir))\n",
    "paths_and_descriptions = registry.list_path_names_and_descriptions()\n",
    "print(\"\\n\".join(paths_and_descriptions.split(\",\")))"
   ]
  },
  {
   "cell_type": "code",
   "execution_count": 5,
   "id": "44e7fd5e",
   "metadata": {
    "execution": {
     "iopub.execute_input": "2024-10-03T03:32:05.539774Z",
     "iopub.status.busy": "2024-10-03T03:32:05.539565Z",
     "iopub.status.idle": "2024-10-03T03:32:05.589481Z",
     "shell.execute_reply": "2024-10-03T03:32:05.588958Z"
    },
    "papermill": {
     "duration": 0.068481,
     "end_time": "2024-10-03T03:32:05.590780",
     "exception": false,
     "start_time": "2024-10-03T03:32:05.522299",
     "status": "completed"
    },
    "tags": []
   },
   "outputs": [
    {
     "name": "stdout",
     "output_type": "stream",
     "text": [
      "It is asserted that file path for fig0_233203 exists\n"
     ]
    }
   ],
   "source": [
    "import re\n",
    "import os\n",
    "match = re.search(r\"fig0_\\d+\", paths_and_descriptions)\n",
    "file_id = match.group(0)\n",
    "file_path = registry.get_mapped_path(file_id)\n",
    "assert os.path.exists(file_path)\n",
    "print(f'It is asserted that file path for {file_id} exists')"
   ]
  },
  {
   "cell_type": "code",
   "execution_count": 6,
   "id": "2f12e496",
   "metadata": {
    "execution": {
     "iopub.execute_input": "2024-10-03T03:32:05.626826Z",
     "iopub.status.busy": "2024-10-03T03:32:05.626593Z",
     "iopub.status.idle": "2024-10-03T03:32:05.632612Z",
     "shell.execute_reply": "2024-10-03T03:32:05.632181Z"
    },
    "papermill": {
     "duration": 0.025396,
     "end_time": "2024-10-03T03:32:05.633835",
     "exception": false,
     "start_time": "2024-10-03T03:32:05.608439",
     "status": "completed"
    },
    "tags": []
   },
   "outputs": [
    {
     "data": {
      "image/png": "[encoded data removed]",
      "text/plain": [
       "<IPython.core.display.Image object>"
      ]
     },
     "execution_count": 6,
     "metadata": {},
     "output_type": "execute_result"
    }
   ],
   "source": [
    "from IPython.display import Image\n",
    "Image(filename=file_path)"
   ]
  }
 ],
 "metadata": {
  "kernelspec": {
   "display_name": "mdcrow",
   "language": "python",
   "name": "mdcrow"
  },
  "language_info": {
   "codemirror_mode": {
    "name": "ipython",
    "version": 3
   },
   "file_extension": ".py",
   "mimetype": "text/x-python",
   "name": "python",
   "nbconvert_exporter": "python",
   "pygments_lexer": "ipython3",
   "version": "3.12.4"
  },
  "papermill": {
   "default_parameters": {},
   "duration": 6826.988387,
   "end_time": "2024-10-03T03:32:08.030520",
   "environment_variables": {},
   "exception": null,
   "input_path": "exp_18.ipynb",
   "output_path": "results/exp_18.ipynb",
   "parameters": {},
   "start_time": "2024-10-03T01:38:21.042133",
   "version": "2.6.0"
  },
  "widgets": {
   "application/vnd.jupyter.widget-state+json": {
    "state": {
     "67f8d5a5f8184db1ae2c8257123a3eca": {
      "model_module": "@jupyter-widgets/base",
      "model_module_version": "2.0.0",
      "model_name": "LayoutModel",
      "state": {
       "_model_module": "@jupyter-widgets/base",
       "_model_module_version": "2.0.0",
       "_model_name": "LayoutModel",
       "_view_count": null,
       "_view_module": "@jupyter-widgets/base",
       "_view_module_version": "2.0.0",
       "_view_name": "LayoutView",
       "align_content": null,
       "align_items": null,
       "align_self": null,
       "border_bottom": null,
       "border_left": null,
       "border_right": null,
       "border_top": null,
       "bottom": null,
       "display": null,
       "flex": null,
       "flex_flow": null,
       "grid_area": null,
       "grid_auto_columns": null,
       "grid_auto_flow": null,
       "grid_auto_rows": null,
       "grid_column": null,
       "grid_gap": null,
       "grid_row": null,
       "grid_template_areas": null,
       "grid_template_columns": null,
       "grid_template_rows": null,
       "height": null,
       "justify_content": null,
       "justify_items": null,
       "left": null,
       "margin": null,
       "max_height": null,
       "max_width": null,
       "min_height": null,
       "min_width": null,
       "object_fit": null,
       "object_position": null,
       "order": null,
       "overflow": null,
       "padding": null,
       "right": null,
       "top": null,
       "visibility": null,
       "width": null
      }
     },
     "71ce0438c1dd4cadb0181317d97a6d8e": {
      "model_module": "nglview-js-widgets",
      "model_module_version": "3.1.0",
      "model_name": "ColormakerRegistryModel",
      "state": {
       "_dom_classes": [],
       "_model_module": "nglview-js-widgets",
       "_model_module_version": "3.1.0",
       "_model_name": "ColormakerRegistryModel",
       "_msg_ar": [],
       "_msg_q": [],
       "_ready": false,
       "_view_count": null,
       "_view_module": "nglview-js-widgets",
       "_view_module_version": "3.1.0",
       "_view_name": "ColormakerRegistryView",
       "layout": "IPY_MODEL_67f8d5a5f8184db1ae2c8257123a3eca",
       "tabbable": null,
       "tooltip": null
      }
     }
    },
    "version_major": 2,
    "version_minor": 0
   }
  }
 },
 "nbformat": 4,
 "nbformat_minor": 5
}
