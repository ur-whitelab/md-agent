{
 "cells": [
  {
   "cell_type": "code",
   "execution_count": 1,
   "id": "39451d99-005f-40b2-867e-fb955d63647d",
   "metadata": {},
   "outputs": [],
   "source": [
    "from mdcrow import MDCrow\n",
    "import os"
   ]
  },
  {
   "cell_type": "code",
   "execution_count": 2,
   "id": "d808d0af-27f5-4e95-87bf-beb2d72c9108",
   "metadata": {
    "execution": {
     "iopub.execute_input": "2024-09-08T22:40:12.106606Z",
     "iopub.status.busy": "2024-09-08T22:40:12.105985Z",
     "iopub.status.idle": "2024-09-08T22:40:12.115521Z",
     "shell.execute_reply": "2024-09-08T22:40:12.114593Z"
    }
   },
   "outputs": [
    {
     "name": "stdout",
     "output_type": "stream",
     "text": [
      "date and time: 2024-09-08\n",
      "time: 18:40:12\n"
     ]
    }
   ],
   "source": [
    "#todays date and time\n",
    "import datetime\n",
    "\n",
    "now = datetime.datetime.now()\n",
    "date = now.strftime(\"%Y-%m-%d\")\n",
    "print(\"date and time:\",date)\n",
    "time = now.strftime(\"%H:%M:%S\")\n",
    "print(\"time:\",time)"
   ]
  },
  {
   "cell_type": "code",
   "execution_count": 3,
   "id": "82be5f35-3197-49c7-9955-6707529f8691",
   "metadata": {
    "execution": {
     "iopub.execute_input": "2024-09-08T22:40:12.119496Z",
     "iopub.status.busy": "2024-09-08T22:40:12.119182Z",
     "iopub.status.idle": "2024-09-08T22:40:12.128284Z",
     "shell.execute_reply": "2024-09-08T22:40:12.127333Z"
    }
   },
   "outputs": [],
   "source": [
    "prompt9 = \"Download the PDB file for 1AEE. Then, tell me how many chains and atoms are in the protein.\"\n",
    "model = \"accounts/fireworks/models/llama-v3p1-70b-instruct\""
   ]
  },
  {
   "cell_type": "code",
   "execution_count": 4,
   "id": "4b12fdc0-25be-4835-9e70-b3ea299bac9d",
   "metadata": {
    "execution": {
     "iopub.execute_input": "2024-09-08T22:40:12.132419Z",
     "iopub.status.busy": "2024-09-08T22:40:12.132082Z",
     "iopub.status.idle": "2024-09-08T22:40:12.709485Z",
     "shell.execute_reply": "2024-09-08T22:40:12.708714Z"
    }
   },
   "outputs": [
    {
     "name": "stdout",
     "output_type": "stream",
     "text": [
      "LLM:  accounts/fireworks/models/llama-v3p1-70b-instruct \n",
      "Temperature:  0.1\n"
     ]
    }
   ],
   "source": [
    "agent = MDCrow(\n",
    "    agent_type='Structured', \n",
    "    model=model, \n",
    "    tools_model=model,\n",
    "    top_k_tools=\"all\"\n",
    ")\n",
    "\n",
    "print(\"LLM: \", agent.llm.model_name,\"\\nTemperature: \", agent.llm.temperature)"
   ]
  },
  {
   "cell_type": "code",
   "execution_count": 5,
   "id": "fe11721e-c775-40d3-9332-9f80820ccc95",
   "metadata": {
    "execution": {
     "iopub.execute_input": "2024-09-08T22:40:12.713451Z",
     "iopub.status.busy": "2024-09-08T22:40:12.713136Z",
     "iopub.status.idle": "2024-09-08T22:40:17.629753Z",
     "shell.execute_reply": "2024-09-08T22:40:17.629007Z"
    }
   },
   "outputs": [
    {
     "name": "stdout",
     "output_type": "stream",
     "text": [
      "Thought:"
     ]
    },
    {
     "name": "stdout",
     "output_type": "stream",
     "text": [
      " To solve this problem, I need"
     ]
    },
    {
     "name": "stdout",
     "output_type": "stream",
     "text": [
      " to first download the PDB file for 1"
     ]
    },
    {
     "name": "stdout",
     "output_type": "stream",
     "text": [
      "AEE using the PDBFileDownloader"
     ]
    },
    {
     "name": "stdout",
     "output_type": "stream",
     "text": [
      " tool. Then, I can use the"
     ]
    },
    {
     "name": "stdout",
     "output_type": "stream",
     "text": [
      " SummarizeProteinStructure tool to get"
     ]
    },
    {
     "name": "stdout",
     "output_type": "stream",
     "text": [
      " the number of chains and atoms in"
     ]
    },
    {
     "name": "stdout",
     "output_type": "stream",
     "text": [
      " the protein.\n",
      "\n",
      "Action:\n",
      "```\n",
      "{\n",
      "  \"action"
     ]
    },
    {
     "name": "stdout",
     "output_type": "stream",
     "text": [
      "\": \"PDBFileDownloader\",\n",
      " "
     ]
    },
    {
     "name": "stdout",
     "output_type": "stream",
     "text": [
      " \"action_input\": \"1AEE\"\n"
     ]
    },
    {
     "name": "stdout",
     "output_type": "stream",
     "text": [
      "}\n",
      "```\n"
     ]
    },
    {
     "name": "stdout",
     "output_type": "stream",
     "text": [
      "PDB file found with this ID: 1AEE\n"
     ]
    },
    {
     "name": "stdout",
     "output_type": "stream",
     "text": [
      "Thought:"
     ]
    },
    {
     "name": "stdout",
     "output_type": "stream",
     "text": [
      " Now that I have the P"
     ]
    },
    {
     "name": "stdout",
     "output_type": "stream",
     "text": [
      "DB file for 1A"
     ]
    },
    {
     "name": "stdout",
     "output_type": "stream",
     "text": [
      "EE, I can use the Summar"
     ]
    },
    {
     "name": "stdout",
     "output_type": "stream",
     "text": [
      "izeProteinStructure tool to get the number of"
     ]
    },
    {
     "name": "stdout",
     "output_type": "stream",
     "text": [
      " chains and atoms in the protein.\n",
      "\n",
      "Action:\n"
     ]
    },
    {
     "name": "stdout",
     "output_type": "stream",
     "text": [
      "```\n",
      "{\n",
      "  \"action\": \"Summar"
     ]
    },
    {
     "name": "stdout",
     "output_type": "stream",
     "text": [
      "izeProteinStructure\",\n",
      "  \"action_input\":"
     ]
    },
    {
     "name": "stdout",
     "output_type": "stream",
     "text": [
      " {\n",
      "    \"traj_file\":"
     ]
    },
    {
     "name": "stdout",
     "output_type": "stream",
     "text": [
      " \"1AEE_184015\",\n"
     ]
    },
    {
     "name": "stdout",
     "output_type": "stream",
     "text": [
      "    \"top_file\": \"1AEE_"
     ]
    },
    {
     "name": "stdout",
     "output_type": "stream",
     "text": [
      "184015\"\n",
      "  }\n",
      "}\n",
      "```\n",
      "\n"
     ]
    },
    {
     "name": "stdout",
     "output_type": "stream",
     "text": [
      "Action:\n"
     ]
    },
    {
     "name": "stdout",
     "output_type": "stream",
     "text": [
      "```\n",
      "{\n",
      "  \"action\": \"Final Answer"
     ]
    },
    {
     "name": "stdout",
     "output_type": "stream",
     "text": [
      "\",\n",
      "  \"action_input\": \"The"
     ]
    },
    {
     "name": "stdout",
     "output_type": "stream",
     "text": [
      " PDB file for 1"
     ]
    },
    {
     "name": "stdout",
     "output_type": "stream",
     "text": [
      "AEE has been downloaded and"
     ]
    },
    {
     "name": "stdout",
     "output_type": "stream",
     "text": [
      " analyzed. The protein contains"
     ]
    },
    {
     "name": "stdout",
     "output_type": "stream",
     "text": [
      " 2 chains and 299"
     ]
    },
    {
     "name": "stdout",
     "output_type": "stream",
     "text": [
      "2 atoms.\"\n",
      "}\n",
      "```"
     ]
    }
   ],
   "source": [
    "answer = agent.run(prompt9)"
   ]
  },
  {
   "cell_type": "code",
   "execution_count": 6,
   "id": "81d4d4a1-091e-49db-8272-33c2a11a984b",
   "metadata": {
    "execution": {
     "iopub.execute_input": "2024-09-08T22:40:17.633823Z",
     "iopub.status.busy": "2024-09-08T22:40:17.633491Z",
     "iopub.status.idle": "2024-09-08T22:40:17.645992Z",
     "shell.execute_reply": "2024-09-08T22:40:17.645150Z"
    }
   },
   "outputs": [
    {
     "data": {
      "text/plain": [
       "'18:40:17'"
      ]
     },
     "execution_count": 6,
     "metadata": {},
     "output_type": "execute_result"
    }
   ],
   "source": [
    "#print final date and time\n",
    "now = datetime.datetime.now()\n",
    "end_time = now.strftime(\"%H:%M:%S\")\n",
    "end_time"
   ]
  },
  {
   "cell_type": "code",
   "execution_count": null,
   "id": "26751bfe-c3dc-4ed0-a9b3-f4d029b70109",
   "metadata": {},
   "outputs": [],
   "source": []
  },
  {
   "cell_type": "code",
   "execution_count": 3,
   "id": "56d90276-262a-4850-af5e-47d02ed5f9bc",
   "metadata": {},
   "outputs": [],
   "source": [
    "agent = MDCrow(ckpt_dir=\"ckpt_133\")"
   ]
  },
  {
   "cell_type": "code",
   "execution_count": 4,
   "id": "0ba860e5-1dd0-4fcc-aa2f-d5e7f975cbae",
   "metadata": {},
   "outputs": [
    {
     "name": "stdout",
     "output_type": "stream",
     "text": [
      "ckpt_dir ckpt_133\n",
      "Files found in registry: 1AEE_184015: PDB file downloaded from RSCB\n",
      " PDBFile ID: 1AEE_184015\n"
     ]
    }
   ],
   "source": [
    "registry = agent.path_registry\n",
    "print(\"ckpt_dir\",os.path.basename(registry.ckpt_dir))\n",
    "paths_and_descriptions = registry.list_path_names_and_descriptions()\n",
    "print(\"\\n\".join(paths_and_descriptions.split(\",\")))"
   ]
  },
  {
   "cell_type": "code",
   "execution_count": 5,
   "id": "4b9220de-6a3c-4db9-8768-68298ece63a6",
   "metadata": {},
   "outputs": [
    {
     "name": "stdout",
     "output_type": "stream",
     "text": [
      "It is asserted that file path for 1AEE_184015 exists\n"
     ]
    }
   ],
   "source": [
    "import re\n",
    "import os\n",
    "\n",
    "match = re.search(r\"1AEE_\\d+\", paths_and_descriptions)\n",
    "file_id = match.group(0)\n",
    "pdb_path = registry.get_mapped_path(file_id)\n",
    "assert os.path.exists(pdb_path)\n",
    "print(f'It is asserted that file path for {file_id} exists')"
   ]
  },
  {
   "cell_type": "code",
   "execution_count": 6,
   "id": "ac6db7f4-0d84-4716-a04d-0ccdab56a36f",
   "metadata": {},
   "outputs": [
    {
     "name": "stdout",
     "output_type": "stream",
     "text": [
      "Number of chains:  2\n",
      "Number of atoms:  2992\n"
     ]
    }
   ],
   "source": [
    "import mdtraj as md\n",
    "\n",
    "traj = md.load(pdb_path)\n",
    "top = traj.topology\n",
    "number_of_chains = top.n_chains\n",
    "number_of_atoms = top.n_atoms\n",
    "print('Number of chains: ', number_of_chains)\n",
    "print('Number of atoms: ', number_of_atoms)"
   ]
  },
  {
   "cell_type": "markdown",
   "id": "25deff6d-6c2d-4b63-91df-1b7e109450dc",
   "metadata": {},
   "source": [
    "# Experiment Result: ✅❌\n",
    "\n",
    "1. Completed without Exception or TimeOut Errors ✅\n",
    "2. Attempted all necessary steps ✅\n",
    "3. Completed without Hallucination ✅\n",
    "4. Logic make sense ✅\n",
    "5. Correct Answer ✅"
   ]
  }
 ],
 "metadata": {
  "kernelspec": {
   "display_name": "mdcrow",
   "language": "python",
   "name": "mdcrow"
  },
  "language_info": {
   "codemirror_mode": {
    "name": "ipython",
    "version": 3
   },
   "file_extension": ".py",
   "mimetype": "text/x-python",
   "name": "python",
   "nbconvert_exporter": "python",
   "pygments_lexer": "ipython3",
   "version": "3.12.4"
  }
 },
 "nbformat": 4,
 "nbformat_minor": 5
}
