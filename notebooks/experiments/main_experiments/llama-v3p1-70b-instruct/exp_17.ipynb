{
 "cells": [
  {
   "cell_type": "code",
   "execution_count": 1,
   "metadata": {
    "execution": {
     "iopub.execute_input": "2024-09-09T13:43:07.517819Z",
     "iopub.status.busy": "2024-09-09T13:43:07.517681Z",
     "iopub.status.idle": "2024-09-09T13:43:27.039640Z",
     "shell.execute_reply": "2024-09-09T13:43:27.039259Z"
    }
   },
   "outputs": [],
   "source": [
    "import datetime\n",
    "import os\n",
    "from mdcrow import MDCrow"
   ]
  },
  {
   "cell_type": "code",
   "execution_count": 2,
   "metadata": {
    "execution": {
     "iopub.execute_input": "2024-09-09T13:43:27.042232Z",
     "iopub.status.busy": "2024-09-09T13:43:27.041877Z",
     "iopub.status.idle": "2024-09-09T13:43:27.927699Z",
     "shell.execute_reply": "2024-09-09T13:43:27.927177Z"
    }
   },
   "outputs": [
    {
     "name": "stdout",
     "output_type": "stream",
     "text": [
      "date and time: 2024-09-09\n",
      "time: 09:43:27\n",
      "LLM:  accounts/fireworks/models/llama-v3p1-70b-instruct \n",
      "Temperature:  0.1\n"
     ]
    }
   ],
   "source": [
    "prompt17 = \"Download the PDB file for 1XQ8, and then save the visualization for it.\"\n",
    "llm_var = \"accounts/fireworks/models/llama-v3p1-70b-instruct\"\n",
    "tools = \"all\"\n",
    "agent = MDCrow(agent_type=\"Structured\", model=llm_var, top_k_tools=tools)\n",
    "now = datetime.datetime.now()\n",
    "date = now.strftime(\"%Y-%m-%d\")\n",
    "print(\"date and time:\",date)\n",
    "time = now.strftime(\"%H:%M:%S\")\n",
    "print(\"time:\",time)\n",
    "print(\"LLM: \",agent.llm.model_name,\"\\nTemperature: \",agent.llm.temperature)"
   ]
  },
  {
   "cell_type": "code",
   "execution_count": 3,
   "metadata": {
    "execution": {
     "iopub.execute_input": "2024-09-09T13:43:27.931777Z",
     "iopub.status.busy": "2024-09-09T13:43:27.931636Z",
     "iopub.status.idle": "2024-09-09T13:43:33.083595Z",
     "shell.execute_reply": "2024-09-09T13:43:33.083257Z"
    }
   },
   "outputs": [
    {
     "name": "stdout",
     "output_type": "stream",
     "text": [
      "Thought:"
     ]
    },
    {
     "name": "stdout",
     "output_type": "stream",
     "text": [
      " To solve this problem, I need"
     ]
    },
    {
     "name": "stdout",
     "output_type": "stream",
     "text": [
      " to first download the PDB file for 1"
     ]
    },
    {
     "name": "stdout",
     "output_type": "stream",
     "text": [
      "XQ8 and then save the"
     ]
    },
    {
     "name": "stdout",
     "output_type": "stream",
     "text": [
      " visualization for it. I will"
     ]
    },
    {
     "name": "stdout",
     "output_type": "stream",
     "text": [
      " use the PDBFileDownloader tool to"
     ]
    },
    {
     "name": "stdout",
     "output_type": "stream",
     "text": [
      " download the PDB file and the"
     ]
    },
    {
     "name": "stdout",
     "output_type": "stream",
     "text": [
      " PDBVisualization tool"
     ]
    },
    {
     "name": "stdout",
     "output_type": "stream",
     "text": [
      " to save the visualization.\n",
      "\n",
      "Action:\n"
     ]
    },
    {
     "name": "stdout",
     "output_type": "stream",
     "text": [
      "```\n",
      "{\n",
      "  \"action\": \"P"
     ]
    },
    {
     "name": "stdout",
     "output_type": "stream",
     "text": [
      "DBFileDownloader\",\n",
      " "
     ]
    },
    {
     "name": "stdout",
     "output_type": "stream",
     "text": [
      " \"action_input\": \"1XQ8\"\n"
     ]
    },
    {
     "name": "stdout",
     "output_type": "stream",
     "text": [
      "}\n",
      "```\n"
     ]
    },
    {
     "name": "stdout",
     "output_type": "stream",
     "text": [
      "PDB file found with this ID: 1XQ8\n"
     ]
    },
    {
     "name": "stdout",
     "output_type": "stream",
     "text": [
      "Thought:"
     ]
    },
    {
     "name": "stdout",
     "output_type": "stream",
     "text": [
      " Now that I have"
     ]
    },
    {
     "name": "stdout",
     "output_type": "stream",
     "text": [
      " downloaded the PDB"
     ]
    },
    {
     "name": "stdout",
     "output_type": "stream",
     "text": [
      " file for "
     ]
    },
    {
     "name": "stdout",
     "output_type": "stream",
     "text": [
      "1X"
     ]
    },
    {
     "name": "stdout",
     "output_type": "stream",
     "text": [
      "Q8, I need to save the"
     ]
    },
    {
     "name": "stdout",
     "output_type": "stream",
     "text": [
      " visualization for it. I will use"
     ]
    },
    {
     "name": "stdout",
     "output_type": "stream",
     "text": [
      " the PDBVisualization tool to save the"
     ]
    },
    {
     "name": "stdout",
     "output_type": "stream",
     "text": [
      " visualization.\n",
      "\n",
      "Action:\n",
      "```\n",
      "{\n",
      " "
     ]
    },
    {
     "name": "stdout",
     "output_type": "stream",
     "text": [
      " \"action\": \"PDBVisualization\",\n"
     ]
    },
    {
     "name": "stdout",
     "output_type": "stream",
     "text": [
      "  \"action_input\": \"1"
     ]
    },
    {
     "name": "stdout",
     "output_type": "stream",
     "text": [
      "XQ8_094"
     ]
    },
    {
     "name": "stdout",
     "output_type": "stream",
     "text": [
      "330\"\n",
      "}\n",
      "```\n",
      "\n"
     ]
    },
    {
     "name": "stdout",
     "output_type": "stream",
     "text": [
      "Error running molrender: [Errno 2] No such file or directory: 'molrender'. Using NGLView instead.\n"
     ]
    },
    {
     "name": "stdout",
     "output_type": "stream",
     "text": [
      "Final Answer"
     ]
    },
    {
     "name": "stdout",
     "output_type": "stream",
     "text": [
      ": The PDB file for 1"
     ]
    },
    {
     "name": "stdout",
     "output_type": "stream",
     "text": [
      "XQ8 has"
     ]
    },
    {
     "name": "stdout",
     "output_type": "stream",
     "text": [
      " been downloaded and saved as 1"
     ]
    },
    {
     "name": "stdout",
     "output_type": "stream",
     "text": [
      "XQ8_094330. A"
     ]
    },
    {
     "name": "stdout",
     "output_type": "stream",
     "text": [
      " visualization of the PDB file has"
     ]
    },
    {
     "name": "stdout",
     "output_type": "stream",
     "text": [
      " also been created and"
     ]
    },
    {
     "name": "stdout",
     "output_type": "stream",
     "text": [
      " saved as a notebook."
     ]
    }
   ],
   "source": [
    "answer = agent.run(prompt17)"
   ]
  },
  {
   "cell_type": "code",
   "execution_count": 4,
   "metadata": {
    "execution": {
     "iopub.execute_input": "2024-09-09T13:43:33.085540Z",
     "iopub.status.busy": "2024-09-09T13:43:33.085383Z",
     "iopub.status.idle": "2024-09-09T13:43:33.089850Z",
     "shell.execute_reply": "2024-09-09T13:43:33.089538Z"
    },
    "scrolled": true
   },
   "outputs": [
    {
     "name": "stdout",
     "output_type": "stream",
     "text": [
      "date and time: 2024-09-09\n",
      "time: 09:43:33\n",
      "ckpt_dir: ckpt_138\n",
      "Files found in registry: 1XQ8_094330: PDB file downloaded from RSCB\n",
      " PDBFile ID: 1XQ8_094330\n",
      " /gpfs/fs2/scratch/qcampbe2/repos/md-agent/ckpt/ckpt_138/figures/1XQ8_raw_20240909_094330_vis.ipynb: Notebook to visualize cif/pdb file 1XQ8_raw_20240909_094330.pdb using nglview.\n"
     ]
    }
   ],
   "source": [
    "now = datetime.datetime.now()\n",
    "date = now.strftime(\"%Y-%m-%d\")\n",
    "print(\"date and time:\",date)\n",
    "time = now.strftime(\"%H:%M:%S\")\n",
    "print(\"time:\",time)\n",
    "\n",
    "registry = agent.path_registry\n",
    "print('ckpt_dir:',os.path.basename(registry.ckpt_dir))\n",
    "paths_and_descriptions = registry.list_path_names_and_descriptions()\n",
    "print(\"\\n\".join(paths_and_descriptions.split(\",\")))"
   ]
  },
  {
   "cell_type": "code",
   "execution_count": 5,
   "metadata": {
    "execution": {
     "iopub.execute_input": "2024-09-09T13:43:33.091748Z",
     "iopub.status.busy": "2024-09-09T13:43:33.091608Z",
     "iopub.status.idle": "2024-09-09T13:43:33.126985Z",
     "shell.execute_reply": "2024-09-09T13:43:33.126559Z"
    }
   },
   "outputs": [],
   "source": [
    "import os\n",
    "vis_path = \"/gpfs/fs2/scratch/qcampbe2/repos/md-agent/ckpt/ckpt_99/figures/1XQ8_raw_20240905_104856_vis.ipynb\"\n",
    "assert os.path.exists(vis_path)"
   ]
  },
  {
   "cell_type": "markdown",
   "metadata": {},
   "source": [
    "# Experiment Result: ✅❌\n",
    "\n",
    "1. Completed without Exception or TimeOut Errors ✅\n",
    "2. Attempted all necessary steps ✅\n",
    "3. Completed without Hallucination ✅\n",
    "4. Logic make sense ✅\n",
    "5. Correct Answer ✅"
   ]
  }
 ],
 "metadata": {
  "kernelspec": {
   "display_name": "mdcrow",
   "language": "python",
   "name": "mdcrow"
  },
  "language_info": {
   "codemirror_mode": {
    "name": "ipython",
    "version": 3
   },
   "file_extension": ".py",
   "mimetype": "text/x-python",
   "name": "python",
   "nbconvert_exporter": "python",
   "pygments_lexer": "ipython3",
   "version": "3.12.4"
  }
 },
 "nbformat": 4,
 "nbformat_minor": 4
}
