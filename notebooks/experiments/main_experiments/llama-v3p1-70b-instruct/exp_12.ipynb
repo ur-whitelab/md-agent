{
 "cells": [
  {
   "cell_type": "code",
   "execution_count": 1,
   "id": "8ff706fd-c267-4d05-af58-9a3848cce8ff",
   "metadata": {
    "execution": {
     "iopub.execute_input": "2024-10-03T01:37:46.860907Z",
     "iopub.status.busy": "2024-10-03T01:37:46.860689Z",
     "iopub.status.idle": "2024-10-03T01:37:51.615714Z",
     "shell.execute_reply": "2024-10-03T01:37:51.615289Z"
    },
    "papermill": {
     "duration": 4.759548,
     "end_time": "2024-10-03T01:37:51.617283",
     "exception": false,
     "start_time": "2024-10-03T01:37:46.857735",
     "status": "completed"
    },
    "tags": []
   },
   "outputs": [],
   "source": [
    "from mdcrow import MDCrow\n",
    "import os"
   ]
  },
  {
   "cell_type": "code",
   "execution_count": 2,
   "id": "02c5c1ac-426e-44fa-90d2-8dd1a1eefe9c",
   "metadata": {
    "execution": {
     "iopub.execute_input": "2024-10-03T01:37:51.621738Z",
     "iopub.status.busy": "2024-10-03T01:37:51.621166Z",
     "iopub.status.idle": "2024-10-03T01:37:51.626431Z",
     "shell.execute_reply": "2024-10-03T01:37:51.625945Z"
    },
    "papermill": {
     "duration": 0.008564,
     "end_time": "2024-10-03T01:37:51.627625",
     "exception": false,
     "start_time": "2024-10-03T01:37:51.619061",
     "status": "completed"
    },
    "tags": []
   },
   "outputs": [
    {
     "name": "stdout",
     "output_type": "stream",
     "text": [
      "date: 2024-10-02\n",
      "time: 21:37:51\n"
     ]
    }
   ],
   "source": [
    "#todays date and time\n",
    "import datetime\n",
    "\n",
    "start = datetime.datetime.now()\n",
    "date = start.strftime(\"%Y-%m-%d\")\n",
    "print(\"date:\",date)\n",
    "time = start.strftime(\"%H:%M:%S\")\n",
    "print(\"time:\",time)"
   ]
  },
  {
   "cell_type": "code",
   "execution_count": 3,
   "id": "f62bfc17-854b-4152-bb82-7e9e0ec4b854",
   "metadata": {
    "execution": {
     "iopub.execute_input": "2024-10-03T01:37:51.631326Z",
     "iopub.status.busy": "2024-10-03T01:37:51.631154Z",
     "iopub.status.idle": "2024-10-03T01:37:51.874205Z",
     "shell.execute_reply": "2024-10-03T01:37:51.873804Z"
    },
    "papermill": {
     "duration": 0.246389,
     "end_time": "2024-10-03T01:37:51.875426",
     "exception": false,
     "start_time": "2024-10-03T01:37:51.629037",
     "status": "completed"
    },
    "tags": []
   },
   "outputs": [
    {
     "name": "stdout",
     "output_type": "stream",
     "text": [
      "LLM:  accounts/fireworks/models/llama-v3p1-70b-instruct \n",
      "Temperature:  0.1\n"
     ]
    }
   ],
   "source": [
    "model = \"accounts/fireworks/models/llama-v3p1-70b-instruct\"\n",
    "paper_dir = \"paper_collection\"\n",
    "\n",
    "agent = MDCrow(\n",
    "    agent_type='Structured', \n",
    "    model=model, \n",
    "    tools_model=model,\n",
    "    use_memory=False, \n",
    "    top_k_tools=\"all\",\n",
    "    paper_dir=paper_dir,\n",
    ")\n",
    "print(\"LLM: \", agent.llm.model_name,\"\\nTemperature: \", agent.llm.temperature)"
   ]
  },
  {
   "cell_type": "code",
   "execution_count": 4,
   "id": "ad2f6f66-e6b8-4244-b908-68fbebbf6e8b",
   "metadata": {
    "execution": {
     "iopub.execute_input": "2024-10-03T01:37:51.879821Z",
     "iopub.status.busy": "2024-10-03T01:37:51.879643Z",
     "iopub.status.idle": "2024-10-06T01:25:38.952300Z",
     "shell.execute_reply": "2024-10-06T01:25:38.951115Z"
    },
    "papermill": {
     "duration": 258467.0878,
     "end_time": "2024-10-06T01:25:38.965117",
     "exception": false,
     "start_time": "2024-10-03T01:37:51.877317",
     "status": "completed"
    },
    "scrolled": true,
    "tags": []
   },
   "outputs": [
    {
     "name": "stdout",
     "output_type": "stream",
     "text": [
      "Thought:"
     ]
    },
    {
     "name": "stdout",
     "output_type": "stream",
     "text": [
      " To solve this"
     ]
    },
    {
     "name": "stdout",
     "output_type": "stream",
     "text": [
      " problem, I need to simulate fib"
     ]
    },
    {
     "name": "stdout",
     "output_type": "stream",
     "text": [
      "ronectin (P"
     ]
    },
    {
     "name": "stdout",
     "output_type": "stream",
     "text": [
      "DB ID 1FNF) for 1 ns,"
     ]
    },
    {
     "name": "stdout",
     "output_type": "stream",
     "text": [
      " compute the RMSD and the"
     ]
    },
    {
     "name": "stdout",
     "output_type": "stream",
     "text": [
      " final secondary structure, and compare this information to the structure obtained"
     ]
    },
    {
     "name": "stdout",
     "output_type": "stream",
     "text": [
      " from the Uniprot ID. First"
     ]
    },
    {
     "name": "stdout",
     "output_type": "stream",
     "text": [
      ","
     ]
    },
    {
     "name": "stdout",
     "output_type": "stream",
     "text": [
      " I need to find an appropriate"
     ]
    },
    {
     "name": "stdout",
     "output_type": "stream",
     "text": [
      " temperature for the simulation by searching the literature"
     ]
    },
    {
     "name": "stdout",
     "output_type": "stream",
     "text": [
      ".\n",
      "\n",
      "Action:\n",
      "```\n",
      "{\n",
      "  \"action\":"
     ]
    },
    {
     "name": "stdout",
     "output_type": "stream",
     "text": [
      " \"LiteratureSearch\",\n",
      "  \"action_input\": \"opt"
     ]
    },
    {
     "name": "stdout",
     "output_type": "stream",
     "text": [
      "imal temperature for fibronectin simulation\"\n"
     ]
    },
    {
     "name": "stdout",
     "output_type": "stream",
     "text": [
      "}\n",
      "```\n"
     ]
    },
    {
     "name": "stdout",
     "output_type": "stream",
     "text": [
      "Paper Directory /gpfs/fs2/scratch/qcampbe2/repos/md-agent_gpt_params/notebooks/experiments/experiment_k1/llama-v3p1-70b-instruct/paper_collection\n"
     ]
    },
    {
     "name": "stderr",
     "output_type": "stream",
     "text": [
      "/scratch/qcampbe2/myenvs/mdcrow/lib/python3.12/site-packages/pydantic/main.py:364: UserWarning: Pydantic serializer warnings:\n",
      "  Expected `PromptTokensDetails` but got `dict` - serialized value may not be as expected\n",
      "  return self.__pydantic_serializer__.to_python(\n"
     ]
    },
    {
     "data": {
      "text/html": [
       "<pre style=\"white-space:pre;overflow-x:auto;line-height:normal;font-family:Menlo,'DejaVu Sans Mono',consolas,'Courier New',monospace\"><span style=\"color: #7fbfbf; text-decoration-color: #7fbfbf\">[21:37:55] </span>Starting paper search for <span style=\"color: #008000; text-decoration-color: #008000\">'fibronectin protein dynamics, 2015-2024  '</span>.                                  \n",
       "</pre>\n"
      ],
      "text/plain": [
       "\u001b[2;36m[21:37:55]\u001b[0m\u001b[2;36m \u001b[0mStarting paper search for \u001b[32m'fibronectin protein dynamics, 2015-2024  '\u001b[0m.                                  \n"
      ]
     },
     "metadata": {},
     "output_type": "display_data"
    },
    {
     "data": {
      "text/html": [
       "<pre style=\"white-space:pre;overflow-x:auto;line-height:normal;font-family:Menlo,'DejaVu Sans Mono',consolas,'Courier New',monospace\"><span style=\"color: #7fbfbf; text-decoration-color: #7fbfbf\">           </span>New file to index: bringas_2017_hemoglobin.pdf<span style=\"color: #808000; text-decoration-color: #808000\">...</span>                                                       \n",
       "</pre>\n"
      ],
      "text/plain": [
       "\u001b[2;36m          \u001b[0m\u001b[2;36m \u001b[0mNew file to index: bringas_2017_hemoglobin.pdf\u001b[33m...\u001b[0m                                                       \n"
      ]
     },
     "metadata": {},
     "output_type": "display_data"
    },
    {
     "data": {
      "text/html": [
       "<pre style=\"white-space:pre;overflow-x:auto;line-height:normal;font-family:Menlo,'DejaVu Sans Mono',consolas,'Courier New',monospace\"><span style=\"color: #7fbfbf; text-decoration-color: #7fbfbf\">           </span>New file to index: cong_2017_trypsin-ligand.pdf<span style=\"color: #808000; text-decoration-color: #808000\">...</span>                                                      \n",
       "</pre>\n"
      ],
      "text/plain": [
       "\u001b[2;36m          \u001b[0m\u001b[2;36m \u001b[0mNew file to index: cong_2017_trypsin-ligand.pdf\u001b[33m...\u001b[0m                                                      \n"
      ]
     },
     "metadata": {},
     "output_type": "display_data"
    },
    {
     "data": {
      "text/html": [
       "<pre style=\"white-space:pre;overflow-x:auto;line-height:normal;font-family:Menlo,'DejaVu Sans Mono',consolas,'Courier New',monospace\"><span style=\"color: #7fbfbf; text-decoration-color: #7fbfbf\">           </span>New file to index: Vittaladevaram_2023_fibronectin.pdf<span style=\"color: #808000; text-decoration-color: #808000\">...</span>                                               \n",
       "</pre>\n"
      ],
      "text/plain": [
       "\u001b[2;36m          \u001b[0m\u001b[2;36m \u001b[0mNew file to index: Vittaladevaram_2023_fibronectin.pdf\u001b[33m...\u001b[0m                                               \n"
      ]
     },
     "metadata": {},
     "output_type": "display_data"
    },
    {
     "data": {
      "text/html": [
       "<pre style=\"white-space:pre;overflow-x:auto;line-height:normal;font-family:Menlo,'DejaVu Sans Mono',consolas,'Courier New',monospace\"><span style=\"color: #7fbfbf; text-decoration-color: #7fbfbf\">           </span>New file to index: sahoo-<span style=\"color: #008080; text-decoration-color: #008080; font-weight: bold\">2019</span>-unfolding-dynamics-of-ubiquitin.pdf<span style=\"color: #808000; text-decoration-color: #808000\">...</span>                                    \n",
       "</pre>\n"
      ],
      "text/plain": [
       "\u001b[2;36m          \u001b[0m\u001b[2;36m \u001b[0mNew file to index: sahoo-\u001b[1;36m2019\u001b[0m-unfolding-dynamics-of-ubiquitin.pdf\u001b[33m...\u001b[0m                                    \n"
      ]
     },
     "metadata": {},
     "output_type": "display_data"
    },
    {
     "data": {
      "text/html": [
       "<pre style=\"white-space:pre;overflow-x:auto;line-height:normal;font-family:Menlo,'DejaVu Sans Mono',consolas,'Courier New',monospace\"><span style=\"color: #7fbfbf; text-decoration-color: #7fbfbf\">           </span>New file to index: oliveira_2021_b2m_2yxf.pdf<span style=\"color: #808000; text-decoration-color: #808000\">...</span>                                                        \n",
       "</pre>\n"
      ],
      "text/plain": [
       "\u001b[2;36m          \u001b[0m\u001b[2;36m \u001b[0mNew file to index: oliveira_2021_b2m_2yxf.pdf\u001b[33m...\u001b[0m                                                        \n"
      ]
     },
     "metadata": {},
     "output_type": "display_data"
    },
    {
     "data": {
      "text/html": [
       "<pre style=\"white-space:pre;overflow-x:auto;line-height:normal;font-family:Menlo,'DejaVu Sans Mono',consolas,'Courier New',monospace\"><span style=\"color: #7fbfbf; text-decoration-color: #7fbfbf\">[21:37:56] </span>New file to index: lemmon_2017_fibronectin.pdf<span style=\"color: #808000; text-decoration-color: #808000\">...</span>                                                       \n",
       "</pre>\n"
      ],
      "text/plain": [
       "\u001b[2;36m[21:37:56]\u001b[0m\u001b[2;36m \u001b[0mNew file to index: lemmon_2017_fibronectin.pdf\u001b[33m...\u001b[0m                                                       \n"
      ]
     },
     "metadata": {},
     "output_type": "display_data"
    },
    {
     "data": {
      "text/html": [
       "<pre style=\"white-space:pre;overflow-x:auto;line-height:normal;font-family:Menlo,'DejaVu Sans Mono',consolas,'Courier New',monospace\"><span style=\"color: #7fbfbf; text-decoration-color: #7fbfbf\">           </span>New file to index: liamas_2018_fibronectin_1fnf.pdf<span style=\"color: #808000; text-decoration-color: #808000\">...</span>                                                  \n",
       "</pre>\n"
      ],
      "text/plain": [
       "\u001b[2;36m          \u001b[0m\u001b[2;36m \u001b[0mNew file to index: liamas_2018_fibronectin_1fnf.pdf\u001b[33m...\u001b[0m                                                  \n"
      ]
     },
     "metadata": {},
     "output_type": "display_data"
    },
    {
     "data": {
      "text/html": [
       "<pre style=\"white-space:pre;overflow-x:auto;line-height:normal;font-family:Menlo,'DejaVu Sans Mono',consolas,'Courier New',monospace\"><span style=\"color: #7fbfbf; text-decoration-color: #7fbfbf\">           </span>New file to index: ganoth_2013_ubiquitin.pdf<span style=\"color: #808000; text-decoration-color: #808000\">...</span>                                                         \n",
       "</pre>\n"
      ],
      "text/plain": [
       "\u001b[2;36m          \u001b[0m\u001b[2;36m \u001b[0mNew file to index: ganoth_2013_ubiquitin.pdf\u001b[33m...\u001b[0m                                                         \n"
      ]
     },
     "metadata": {},
     "output_type": "display_data"
    },
    {
     "data": {
      "text/html": [
       "<pre style=\"white-space:pre;overflow-x:auto;line-height:normal;font-family:Menlo,'DejaVu Sans Mono',consolas,'Courier New',monospace\"><span style=\"color: #7fbfbf; text-decoration-color: #7fbfbf\">           </span>New file to index: morand_2021_b2m_2yxf.pdf<span style=\"color: #808000; text-decoration-color: #808000\">...</span>                                                          \n",
       "</pre>\n"
      ],
      "text/plain": [
       "\u001b[2;36m          \u001b[0m\u001b[2;36m \u001b[0mNew file to index: morand_2021_b2m_2yxf.pdf\u001b[33m...\u001b[0m                                                          \n"
      ]
     },
     "metadata": {},
     "output_type": "display_data"
    },
    {
     "data": {
      "text/html": [
       "<pre style=\"white-space:pre;overflow-x:auto;line-height:normal;font-family:Menlo,'DejaVu Sans Mono',consolas,'Courier New',monospace\"><span style=\"color: #7fbfbf; text-decoration-color: #7fbfbf\">           </span>New file to index: clark_1985_hemoglobin.pdf<span style=\"color: #808000; text-decoration-color: #808000\">...</span>                                                         \n",
       "</pre>\n"
      ],
      "text/plain": [
       "\u001b[2;36m          \u001b[0m\u001b[2;36m \u001b[0mNew file to index: clark_1985_hemoglobin.pdf\u001b[33m...\u001b[0m                                                         \n"
      ]
     },
     "metadata": {},
     "output_type": "display_data"
    },
    {
     "data": {
      "text/html": [
       "<pre style=\"white-space:pre;overflow-x:auto;line-height:normal;font-family:Menlo,'DejaVu Sans Mono',consolas,'Courier New',monospace\"><span style=\"color: #7fbfbf; text-decoration-color: #7fbfbf\">           </span>New file to index:                                                                                      \n",
       "<span style=\"color: #7fbfbf; text-decoration-color: #7fbfbf\">           </span>mshirts%2C+<span style=\"color: #008080; text-decoration-color: #008080; font-weight: bold\">5957</span>-best-practices-for-foundations-in-molecular-simulations-article-v1-<span style=\"color: #008080; text-decoration-color: #008080; font-weight: bold\">0</span>+%<span style=\"color: #008080; text-decoration-color: #008080; font-weight: bold\">281</span>%<span style=\"color: #008080; text-decoration-color: #008080; font-weight: bold\">29.</span>pdf<span style=\"color: #808000; text-decoration-color: #808000\">...</span>     \n",
       "</pre>\n"
      ],
      "text/plain": [
       "\u001b[2;36m          \u001b[0m\u001b[2;36m \u001b[0mNew file to index:                                                                                      \n",
       "\u001b[2;36m           \u001b[0mmshirts%2C+\u001b[1;36m5957\u001b[0m-best-practices-for-foundations-in-molecular-simulations-article-v1-\u001b[1;36m0\u001b[0m+%\u001b[1;36m281\u001b[0m%\u001b[1;36m29.\u001b[0mpdf\u001b[33m...\u001b[0m     \n"
      ]
     },
     "metadata": {},
     "output_type": "display_data"
    },
    {
     "data": {
      "text/html": [
       "<pre style=\"white-space:pre;overflow-x:auto;line-height:normal;font-family:Menlo,'DejaVu Sans Mono',consolas,'Courier New',monospace\"><span style=\"color: #7fbfbf; text-decoration-color: #7fbfbf\">[21:37:57] </span>New file to index: sala_2018_proteinstability.pdf<span style=\"color: #808000; text-decoration-color: #808000\">...</span>                                                    \n",
       "</pre>\n"
      ],
      "text/plain": [
       "\u001b[2;36m[21:37:57]\u001b[0m\u001b[2;36m \u001b[0mNew file to index: sala_2018_proteinstability.pdf\u001b[33m...\u001b[0m                                                    \n"
      ]
     },
     "metadata": {},
     "output_type": "display_data"
    },
    {
     "data": {
      "text/html": [
       "<pre style=\"white-space:pre;overflow-x:auto;line-height:normal;font-family:Menlo,'DejaVu Sans Mono',consolas,'Courier New',monospace\"><span style=\"color: #7fbfbf; text-decoration-color: #7fbfbf\">           </span>New file to index: hage_2018_hemoglobin_sim_SI.pdf<span style=\"color: #808000; text-decoration-color: #808000\">...</span>                                                   \n",
       "</pre>\n"
      ],
      "text/plain": [
       "\u001b[2;36m          \u001b[0m\u001b[2;36m \u001b[0mNew file to index: hage_2018_hemoglobin_sim_SI.pdf\u001b[33m...\u001b[0m                                                   \n"
      ]
     },
     "metadata": {},
     "output_type": "display_data"
    },
    {
     "data": {
      "text/html": [
       "<pre style=\"white-space:pre;overflow-x:auto;line-height:normal;font-family:Menlo,'DejaVu Sans Mono',consolas,'Courier New',monospace\"><span style=\"color: #7fbfbf; text-decoration-color: #7fbfbf\">           </span>New file to index: laberge_2008_hemoglobin_sim.pdf<span style=\"color: #808000; text-decoration-color: #808000\">...</span>                                                   \n",
       "</pre>\n"
      ],
      "text/plain": [
       "\u001b[2;36m          \u001b[0m\u001b[2;36m \u001b[0mNew file to index: laberge_2008_hemoglobin_sim.pdf\u001b[33m...\u001b[0m                                                   \n"
      ]
     },
     "metadata": {},
     "output_type": "display_data"
    },
    {
     "data": {
      "text/html": [
       "<pre style=\"white-space:pre;overflow-x:auto;line-height:normal;font-family:Menlo,'DejaVu Sans Mono',consolas,'Courier New',monospace\"><span style=\"color: #7fbfbf; text-decoration-color: #7fbfbf\">           </span>New file to index: <span style=\"color: #008080; text-decoration-color: #008080; font-weight: bold\">10.</span>1002slct.<span style=\"color: #008080; text-decoration-color: #008080; font-weight: bold\">201801398.</span>pdf<span style=\"color: #808000; text-decoration-color: #808000\">...</span>                                                         \n",
       "</pre>\n"
      ],
      "text/plain": [
       "\u001b[2;36m          \u001b[0m\u001b[2;36m \u001b[0mNew file to index: \u001b[1;36m10.\u001b[0m1002slct.\u001b[1;36m201801398.\u001b[0mpdf\u001b[33m...\u001b[0m                                                         \n"
      ]
     },
     "metadata": {},
     "output_type": "display_data"
    },
    {
     "data": {
      "text/html": [
       "<pre style=\"white-space:pre;overflow-x:auto;line-height:normal;font-family:Menlo,'DejaVu Sans Mono',consolas,'Courier New',monospace\"><span style=\"color: #7fbfbf; text-decoration-color: #7fbfbf\">           </span>New file to index: paci_1999_fibronectin_1fnf.pdf<span style=\"color: #808000; text-decoration-color: #808000\">...</span>                                                    \n",
       "</pre>\n"
      ],
      "text/plain": [
       "\u001b[2;36m          \u001b[0m\u001b[2;36m \u001b[0mNew file to index: paci_1999_fibronectin_1fnf.pdf\u001b[33m...\u001b[0m                                                    \n"
      ]
     },
     "metadata": {},
     "output_type": "display_data"
    },
    {
     "data": {
      "text/html": [
       "<pre style=\"white-space:pre;overflow-x:auto;line-height:normal;font-family:Menlo,'DejaVu Sans Mono',consolas,'Courier New',monospace\"><span style=\"color: #7fbfbf; text-decoration-color: #7fbfbf\">[21:37:58] </span>New file to index: gee_2008_fibronectin_1fnf.pdf<span style=\"color: #808000; text-decoration-color: #808000\">...</span>                                                     \n",
       "</pre>\n"
      ],
      "text/plain": [
       "\u001b[2;36m[21:37:58]\u001b[0m\u001b[2;36m \u001b[0mNew file to index: gee_2008_fibronectin_1fnf.pdf\u001b[33m...\u001b[0m                                                     \n"
      ]
     },
     "metadata": {},
     "output_type": "display_data"
    },
    {
     "data": {
      "text/html": [
       "<pre style=\"white-space:pre;overflow-x:auto;line-height:normal;font-family:Menlo,'DejaVu Sans Mono',consolas,'Courier New',monospace\"><span style=\"color: #7fbfbf; text-decoration-color: #7fbfbf\">           </span>New file to index: hage_2018_hemoglobin_sim.pdf<span style=\"color: #808000; text-decoration-color: #808000\">...</span>                                                      \n",
       "</pre>\n"
      ],
      "text/plain": [
       "\u001b[2;36m          \u001b[0m\u001b[2;36m \u001b[0mNew file to index: hage_2018_hemoglobin_sim.pdf\u001b[33m...\u001b[0m                                                      \n"
      ]
     },
     "metadata": {},
     "output_type": "display_data"
    },
    {
     "data": {
      "text/html": [
       "<pre style=\"white-space:pre;overflow-x:auto;line-height:normal;font-family:Menlo,'DejaVu Sans Mono',consolas,'Courier New',monospace\"><span style=\"color: #7fbfbf; text-decoration-color: #7fbfbf\">           </span>New file to index: dunkelberger-et-al-2018_hemoglobin.pdf<span style=\"color: #808000; text-decoration-color: #808000\">...</span>                                            \n",
       "</pre>\n"
      ],
      "text/plain": [
       "\u001b[2;36m          \u001b[0m\u001b[2;36m \u001b[0mNew file to index: dunkelberger-et-al-2018_hemoglobin.pdf\u001b[33m...\u001b[0m                                            \n"
      ]
     },
     "metadata": {},
     "output_type": "display_data"
    },
    {
     "data": {
      "text/html": [
       "<pre style=\"white-space:pre;overflow-x:auto;line-height:normal;font-family:Menlo,'DejaVu Sans Mono',consolas,'Courier New',monospace\"><span style=\"color: #7fbfbf; text-decoration-color: #7fbfbf\">           </span>New file to index: liao_2014_fibronectin_sim.pdf<span style=\"color: #808000; text-decoration-color: #808000\">...</span>                                                     \n",
       "</pre>\n"
      ],
      "text/plain": [
       "\u001b[2;36m          \u001b[0m\u001b[2;36m \u001b[0mNew file to index: liao_2014_fibronectin_sim.pdf\u001b[33m...\u001b[0m                                                     \n"
      ]
     },
     "metadata": {},
     "output_type": "display_data"
    },
    {
     "data": {
      "text/html": [
       "<pre style=\"white-space:pre;overflow-x:auto;line-height:normal;font-family:Menlo,'DejaVu Sans Mono',consolas,'Courier New',monospace\"><span style=\"color: #7fbfbf; text-decoration-color: #7fbfbf\">           </span>New file to index: lucas_2012_hemoglobin_sim_SI.pdf<span style=\"color: #808000; text-decoration-color: #808000\">...</span>                                                  \n",
       "</pre>\n"
      ],
      "text/plain": [
       "\u001b[2;36m          \u001b[0m\u001b[2;36m \u001b[0mNew file to index: lucas_2012_hemoglobin_sim_SI.pdf\u001b[33m...\u001b[0m                                                  \n"
      ]
     },
     "metadata": {},
     "output_type": "display_data"
    },
    {
     "data": {
      "text/html": [
       "<pre style=\"white-space:pre;overflow-x:auto;line-height:normal;font-family:Menlo,'DejaVu Sans Mono',consolas,'Courier New',monospace\"><span style=\"color: #7fbfbf; text-decoration-color: #7fbfbf\">           </span>New file to index: hao_2021_fibronectin.pdf<span style=\"color: #808000; text-decoration-color: #808000\">...</span>                                                          \n",
       "</pre>\n"
      ],
      "text/plain": [
       "\u001b[2;36m          \u001b[0m\u001b[2;36m \u001b[0mNew file to index: hao_2021_fibronectin.pdf\u001b[33m...\u001b[0m                                                          \n"
      ]
     },
     "metadata": {},
     "output_type": "display_data"
    },
    {
     "data": {
      "text/html": [
       "<pre style=\"white-space:pre;overflow-x:auto;line-height:normal;font-family:Menlo,'DejaVu Sans Mono',consolas,'Courier New',monospace\"><span style=\"color: #7fbfbf; text-decoration-color: #7fbfbf\">           </span>New file to index: mace_docs_2024.pdf<span style=\"color: #808000; text-decoration-color: #808000\">...</span>                                                                \n",
       "</pre>\n"
      ],
      "text/plain": [
       "\u001b[2;36m          \u001b[0m\u001b[2;36m \u001b[0mNew file to index: mace_docs_2024.pdf\u001b[33m...\u001b[0m                                                                \n"
      ]
     },
     "metadata": {},
     "output_type": "display_data"
    },
    {
     "data": {
      "text/html": [
       "<pre style=\"white-space:pre;overflow-x:auto;line-height:normal;font-family:Menlo,'DejaVu Sans Mono',consolas,'Courier New',monospace\"><span style=\"color: #7fbfbf; text-decoration-color: #7fbfbf\">           </span>New file to index: lucas_2012_hemoglobin_sim.pdf<span style=\"color: #808000; text-decoration-color: #808000\">...</span>                                                     \n",
       "</pre>\n"
      ],
      "text/plain": [
       "\u001b[2;36m          \u001b[0m\u001b[2;36m \u001b[0mNew file to index: lucas_2012_hemoglobin_sim.pdf\u001b[33m...\u001b[0m                                                     \n"
      ]
     },
     "metadata": {},
     "output_type": "display_data"
    },
    {
     "data": {
      "text/html": [
       "<pre style=\"white-space:pre;overflow-x:auto;line-height:normal;font-family:Menlo,'DejaVu Sans Mono',consolas,'Courier New',monospace\"><span style=\"color: #7fbfbf; text-decoration-color: #7fbfbf\">           </span>New file to index: raffaini-ganazzoli-<span style=\"color: #008080; text-decoration-color: #008080; font-weight: bold\">2004</span>-fibronectin_sim.pdf<span style=\"color: #808000; text-decoration-color: #808000\">...</span>                                       \n",
       "</pre>\n"
      ],
      "text/plain": [
       "\u001b[2;36m          \u001b[0m\u001b[2;36m \u001b[0mNew file to index: raffaini-ganazzoli-\u001b[1;36m2004\u001b[0m-fibronectin_sim.pdf\u001b[33m...\u001b[0m                                       \n"
      ]
     },
     "metadata": {},
     "output_type": "display_data"
    },
    {
     "data": {
      "text/html": [
       "<pre style=\"white-space:pre;overflow-x:auto;line-height:normal;font-family:Menlo,'DejaVu Sans Mono',consolas,'Courier New',monospace\"><span style=\"color: #7fbfbf; text-decoration-color: #7fbfbf\">[21:38:00] </span>SEMANTIC_SCHOLAR_API_KEY environment variable not set. Semantic Scholar API rate limits may apply.      \n",
       "</pre>\n"
      ],
      "text/plain": [
       "\u001b[2;36m[21:38:00]\u001b[0m\u001b[2;36m \u001b[0mSEMANTIC_SCHOLAR_API_KEY environment variable not set. Semantic Scholar API rate limits may apply.      \n"
      ]
     },
     "metadata": {},
     "output_type": "display_data"
    },
    {
     "data": {
      "text/html": [
       "<pre style=\"white-space:pre;overflow-x:auto;line-height:normal;font-family:Menlo,'DejaVu Sans Mono',consolas,'Courier New',monospace\"><span style=\"color: #7fbfbf; text-decoration-color: #7fbfbf\">           </span>CROSSREF_MAILTO environment variable not set. Crossref API rate limits may apply.                       \n",
       "</pre>\n"
      ],
      "text/plain": [
       "\u001b[2;36m          \u001b[0m\u001b[2;36m \u001b[0mCROSSREF_MAILTO environment variable not set. Crossref API rate limits may apply.                       \n"
      ]
     },
     "metadata": {},
     "output_type": "display_data"
    },
    {
     "data": {
      "text/html": [
       "<pre style=\"white-space:pre;overflow-x:auto;line-height:normal;font-family:Menlo,'DejaVu Sans Mono',consolas,'Courier New',monospace\"><span style=\"color: #7fbfbf; text-decoration-color: #7fbfbf\">           </span>CROSSREF_API_KEY environment variable not set. Crossref API rate limits may apply.                      \n",
       "</pre>\n"
      ],
      "text/plain": [
       "\u001b[2;36m          \u001b[0m\u001b[2;36m \u001b[0mCROSSREF_API_KEY environment variable not set. Crossref API rate limits may apply.                      \n"
      ]
     },
     "metadata": {},
     "output_type": "display_data"
    },
    {
     "data": {
      "text/html": [
       "<pre style=\"white-space:pre;overflow-x:auto;line-height:normal;font-family:Menlo,'DejaVu Sans Mono',consolas,'Courier New',monospace\"><span style=\"color: #7fbfbf; text-decoration-color: #7fbfbf\">           </span>SEMANTIC_SCHOLAR_API_KEY environment variable not set. Semantic Scholar API rate limits may apply.      \n",
       "</pre>\n"
      ],
      "text/plain": [
       "\u001b[2;36m          \u001b[0m\u001b[2;36m \u001b[0mSEMANTIC_SCHOLAR_API_KEY environment variable not set. Semantic Scholar API rate limits may apply.      \n"
      ]
     },
     "metadata": {},
     "output_type": "display_data"
    },
    {
     "data": {
      "text/html": [
       "<pre style=\"white-space:pre;overflow-x:auto;line-height:normal;font-family:Menlo,'DejaVu Sans Mono',consolas,'Courier New',monospace\"><span style=\"color: #7fbfbf; text-decoration-color: #7fbfbf\">           </span>SEMANTIC_SCHOLAR_API_KEY environment variable not set. Semantic Scholar API rate limits may apply.      \n",
       "</pre>\n"
      ],
      "text/plain": [
       "\u001b[2;36m          \u001b[0m\u001b[2;36m \u001b[0mSEMANTIC_SCHOLAR_API_KEY environment variable not set. Semantic Scholar API rate limits may apply.      \n"
      ]
     },
     "metadata": {},
     "output_type": "display_data"
    },
    {
     "data": {
      "text/html": [
       "<pre style=\"white-space:pre;overflow-x:auto;line-height:normal;font-family:Menlo,'DejaVu Sans Mono',consolas,'Courier New',monospace\"><span style=\"color: #7fbfbf; text-decoration-color: #7fbfbf\">           </span>SEMANTIC_SCHOLAR_API_KEY environment variable not set. Semantic Scholar API rate limits may apply.      \n",
       "</pre>\n"
      ],
      "text/plain": [
       "\u001b[2;36m          \u001b[0m\u001b[2;36m \u001b[0mSEMANTIC_SCHOLAR_API_KEY environment variable not set. Semantic Scholar API rate limits may apply.      \n"
      ]
     },
     "metadata": {},
     "output_type": "display_data"
    },
    {
     "data": {
      "text/html": [
       "<pre style=\"white-space:pre;overflow-x:auto;line-height:normal;font-family:Menlo,'DejaVu Sans Mono',consolas,'Courier New',monospace\"><span style=\"color: #7fbfbf; text-decoration-color: #7fbfbf\">           </span>SEMANTIC_SCHOLAR_API_KEY environment variable not set. Semantic Scholar API rate limits may apply.      \n",
       "</pre>\n"
      ],
      "text/plain": [
       "\u001b[2;36m          \u001b[0m\u001b[2;36m \u001b[0mSEMANTIC_SCHOLAR_API_KEY environment variable not set. Semantic Scholar API rate limits may apply.      \n"
      ]
     },
     "metadata": {},
     "output_type": "display_data"
    },
    {
     "data": {
      "text/html": [
       "<pre style=\"white-space:pre;overflow-x:auto;line-height:normal;font-family:Menlo,'DejaVu Sans Mono',consolas,'Courier New',monospace\"><span style=\"color: #7fbfbf; text-decoration-color: #7fbfbf\">           </span>SEMANTIC_SCHOLAR_API_KEY environment variable not set. Semantic Scholar API rate limits may apply.      \n",
       "</pre>\n"
      ],
      "text/plain": [
       "\u001b[2;36m          \u001b[0m\u001b[2;36m \u001b[0mSEMANTIC_SCHOLAR_API_KEY environment variable not set. Semantic Scholar API rate limits may apply.      \n"
      ]
     },
     "metadata": {},
     "output_type": "display_data"
    },
    {
     "data": {
      "text/html": [
       "<pre style=\"white-space:pre;overflow-x:auto;line-height:normal;font-family:Menlo,'DejaVu Sans Mono',consolas,'Courier New',monospace\"><span style=\"color: #7fbfbf; text-decoration-color: #7fbfbf\">           </span>SEMANTIC_SCHOLAR_API_KEY environment variable not set. Semantic Scholar API rate limits may apply.      \n",
       "</pre>\n"
      ],
      "text/plain": [
       "\u001b[2;36m          \u001b[0m\u001b[2;36m \u001b[0mSEMANTIC_SCHOLAR_API_KEY environment variable not set. Semantic Scholar API rate limits may apply.      \n"
      ]
     },
     "metadata": {},
     "output_type": "display_data"
    },
    {
     "data": {
      "text/html": [
       "<pre style=\"white-space:pre;overflow-x:auto;line-height:normal;font-family:Menlo,'DejaVu Sans Mono',consolas,'Courier New',monospace\"><span style=\"color: #7fbfbf; text-decoration-color: #7fbfbf\">           </span>SEMANTIC_SCHOLAR_API_KEY environment variable not set. Semantic Scholar API rate limits may apply.      \n",
       "</pre>\n"
      ],
      "text/plain": [
       "\u001b[2;36m          \u001b[0m\u001b[2;36m \u001b[0mSEMANTIC_SCHOLAR_API_KEY environment variable not set. Semantic Scholar API rate limits may apply.      \n"
      ]
     },
     "metadata": {},
     "output_type": "display_data"
    },
    {
     "data": {
      "text/html": [
       "<pre style=\"white-space:pre;overflow-x:auto;line-height:normal;font-family:Menlo,'DejaVu Sans Mono',consolas,'Courier New',monospace\"><span style=\"color: #7fbfbf; text-decoration-color: #7fbfbf\">           </span>SEMANTIC_SCHOLAR_API_KEY environment variable not set. Semantic Scholar API rate limits may apply.      \n",
       "</pre>\n"
      ],
      "text/plain": [
       "\u001b[2;36m          \u001b[0m\u001b[2;36m \u001b[0mSEMANTIC_SCHOLAR_API_KEY environment variable not set. Semantic Scholar API rate limits may apply.      \n"
      ]
     },
     "metadata": {},
     "output_type": "display_data"
    },
    {
     "data": {
      "text/html": [
       "<pre style=\"white-space:pre;overflow-x:auto;line-height:normal;font-family:Menlo,'DejaVu Sans Mono',consolas,'Courier New',monospace\"><span style=\"color: #7fbfbf; text-decoration-color: #7fbfbf\">           </span>SEMANTIC_SCHOLAR_API_KEY environment variable not set. Semantic Scholar API rate limits may apply.      \n",
       "</pre>\n"
      ],
      "text/plain": [
       "\u001b[2;36m          \u001b[0m\u001b[2;36m \u001b[0mSEMANTIC_SCHOLAR_API_KEY environment variable not set. Semantic Scholar API rate limits may apply.      \n"
      ]
     },
     "metadata": {},
     "output_type": "display_data"
    },
    {
     "data": {
      "text/html": [
       "<pre style=\"white-space:pre;overflow-x:auto;line-height:normal;font-family:Menlo,'DejaVu Sans Mono',consolas,'Courier New',monospace\"><span style=\"color: #7fbfbf; text-decoration-color: #7fbfbf\">           </span>SEMANTIC_SCHOLAR_API_KEY environment variable not set. Semantic Scholar API rate limits may apply.      \n",
       "</pre>\n"
      ],
      "text/plain": [
       "\u001b[2;36m          \u001b[0m\u001b[2;36m \u001b[0mSEMANTIC_SCHOLAR_API_KEY environment variable not set. Semantic Scholar API rate limits may apply.      \n"
      ]
     },
     "metadata": {},
     "output_type": "display_data"
    },
    {
     "data": {
      "text/html": [
       "<pre style=\"white-space:pre;overflow-x:auto;line-height:normal;font-family:Menlo,'DejaVu Sans Mono',consolas,'Courier New',monospace\"><span style=\"color: #7fbfbf; text-decoration-color: #7fbfbf\">[21:38:01] </span>SEMANTIC_SCHOLAR_API_KEY environment variable not set. Semantic Scholar API rate limits may apply.      \n",
       "</pre>\n"
      ],
      "text/plain": [
       "\u001b[2;36m[21:38:01]\u001b[0m\u001b[2;36m \u001b[0mSEMANTIC_SCHOLAR_API_KEY environment variable not set. Semantic Scholar API rate limits may apply.      \n"
      ]
     },
     "metadata": {},
     "output_type": "display_data"
    },
    {
     "data": {
      "text/html": [
       "<pre style=\"white-space:pre;overflow-x:auto;line-height:normal;font-family:Menlo,'DejaVu Sans Mono',consolas,'Courier New',monospace\"><span style=\"color: #7fbfbf; text-decoration-color: #7fbfbf\">           </span>SEMANTIC_SCHOLAR_API_KEY environment variable not set. Semantic Scholar API rate limits may apply.      \n",
       "</pre>\n"
      ],
      "text/plain": [
       "\u001b[2;36m          \u001b[0m\u001b[2;36m \u001b[0mSEMANTIC_SCHOLAR_API_KEY environment variable not set. Semantic Scholar API rate limits may apply.      \n"
      ]
     },
     "metadata": {},
     "output_type": "display_data"
    },
    {
     "data": {
      "text/html": [
       "<pre style=\"white-space:pre;overflow-x:auto;line-height:normal;font-family:Menlo,'DejaVu Sans Mono',consolas,'Courier New',monospace\"><span style=\"color: #7fbfbf; text-decoration-color: #7fbfbf\">           </span>SEMANTIC_SCHOLAR_API_KEY environment variable not set. Semantic Scholar API rate limits may apply.      \n",
       "</pre>\n"
      ],
      "text/plain": [
       "\u001b[2;36m          \u001b[0m\u001b[2;36m \u001b[0mSEMANTIC_SCHOLAR_API_KEY environment variable not set. Semantic Scholar API rate limits may apply.      \n"
      ]
     },
     "metadata": {},
     "output_type": "display_data"
    },
    {
     "data": {
      "text/html": [
       "<pre style=\"white-space:pre;overflow-x:auto;line-height:normal;font-family:Menlo,'DejaVu Sans Mono',consolas,'Courier New',monospace\"><span style=\"color: #7fbfbf; text-decoration-color: #7fbfbf\">           </span>Metadata not found for Mace: Release <span style=\"color: #008080; text-decoration-color: #008080; font-weight: bold\">0.1</span>.<span style=\"color: #008080; text-decoration-color: #008080; font-weight: bold\">0</span> in SemanticScholarProvider.                                  \n",
       "</pre>\n"
      ],
      "text/plain": [
       "\u001b[2;36m          \u001b[0m\u001b[2;36m \u001b[0mMetadata not found for Mace: Release \u001b[1;36m0.1\u001b[0m.\u001b[1;36m0\u001b[0m in SemanticScholarProvider.                                  \n"
      ]
     },
     "metadata": {},
     "output_type": "display_data"
    },
    {
     "data": {
      "text/html": [
       "<pre style=\"white-space:pre;overflow-x:auto;line-height:normal;font-family:Menlo,'DejaVu Sans Mono',consolas,'Courier New',monospace\"><span style=\"color: #7fbfbf; text-decoration-color: #7fbfbf\">           </span>Metadata not found for Dissecting Structural Aspects of Protein Stability in SemanticScholarProvider.   \n",
       "</pre>\n"
      ],
      "text/plain": [
       "\u001b[2;36m          \u001b[0m\u001b[2;36m \u001b[0mMetadata not found for Dissecting Structural Aspects of Protein Stability in SemanticScholarProvider.   \n"
      ]
     },
     "metadata": {},
     "output_type": "display_data"
    },
    {
     "data": {
      "text/html": [
       "<pre style=\"white-space:pre;overflow-x:auto;line-height:normal;font-family:Menlo,'DejaVu Sans Mono',consolas,'Courier New',monospace\"><span style=\"color: #7fbfbf; text-decoration-color: #7fbfbf\">           </span>SEMANTIC_SCHOLAR_API_KEY environment variable not set. Semantic Scholar API rate limits may apply.      \n",
       "</pre>\n"
      ],
      "text/plain": [
       "\u001b[2;36m          \u001b[0m\u001b[2;36m \u001b[0mSEMANTIC_SCHOLAR_API_KEY environment variable not set. Semantic Scholar API rate limits may apply.      \n"
      ]
     },
     "metadata": {},
     "output_type": "display_data"
    },
    {
     "data": {
      "text/html": [
       "<pre style=\"white-space:pre;overflow-x:auto;line-height:normal;font-family:Menlo,'DejaVu Sans Mono',consolas,'Courier New',monospace\"><span style=\"color: #7fbfbf; text-decoration-color: #7fbfbf\">           </span>Metadata not found for An Atomistic View on Human Hemoglobin Carbon Monoxide Migration Processes in     \n",
       "<span style=\"color: #7fbfbf; text-decoration-color: #7fbfbf\">           </span>SemanticScholarProvider.                                                                                \n",
       "</pre>\n"
      ],
      "text/plain": [
       "\u001b[2;36m          \u001b[0m\u001b[2;36m \u001b[0mMetadata not found for An Atomistic View on Human Hemoglobin Carbon Monoxide Migration Processes in     \n",
       "\u001b[2;36m           \u001b[0mSemanticScholarProvider.                                                                                \n"
      ]
     },
     "metadata": {},
     "output_type": "display_data"
    },
    {
     "data": {
      "text/html": [
       "<pre style=\"white-space:pre;overflow-x:auto;line-height:normal;font-family:Menlo,'DejaVu Sans Mono',consolas,'Courier New',monospace\"><span style=\"color: #7fbfbf; text-decoration-color: #7fbfbf\">           </span>SEMANTIC_SCHOLAR_API_KEY environment variable not set. Semantic Scholar API rate limits may apply.      \n",
       "</pre>\n"
      ],
      "text/plain": [
       "\u001b[2;36m          \u001b[0m\u001b[2;36m \u001b[0mSEMANTIC_SCHOLAR_API_KEY environment variable not set. Semantic Scholar API rate limits may apply.      \n"
      ]
     },
     "metadata": {},
     "output_type": "display_data"
    },
    {
     "data": {
      "text/html": [
       "<pre style=\"white-space:pre;overflow-x:auto;line-height:normal;font-family:Menlo,'DejaVu Sans Mono',consolas,'Courier New',monospace\"><span style=\"color: #7fbfbf; text-decoration-color: #7fbfbf\">           </span>Metadata not found for Trypsin-Ligand Binding Affinities Calculated Using an Effective Interaction      \n",
       "<span style=\"color: #7fbfbf; text-decoration-color: #7fbfbf\">           </span>Entropy Method under Polarized Force Field in SemanticScholarProvider.                                  \n",
       "</pre>\n"
      ],
      "text/plain": [
       "\u001b[2;36m          \u001b[0m\u001b[2;36m \u001b[0mMetadata not found for Trypsin-Ligand Binding Affinities Calculated Using an Effective Interaction      \n",
       "\u001b[2;36m           \u001b[0mEntropy Method under Polarized Force Field in SemanticScholarProvider.                                  \n"
      ]
     },
     "metadata": {},
     "output_type": "display_data"
    },
    {
     "data": {
      "text/html": [
       "<pre style=\"white-space:pre;overflow-x:auto;line-height:normal;font-family:Menlo,'DejaVu Sans Mono',consolas,'Courier New',monospace\"><span style=\"color: #7fbfbf; text-decoration-color: #7fbfbf\">           </span>SEMANTIC_SCHOLAR_API_KEY environment variable not set. Semantic Scholar API rate limits may apply.      \n",
       "</pre>\n"
      ],
      "text/plain": [
       "\u001b[2;36m          \u001b[0m\u001b[2;36m \u001b[0mSEMANTIC_SCHOLAR_API_KEY environment variable not set. Semantic Scholar API rate limits may apply.      \n"
      ]
     },
     "metadata": {},
     "output_type": "display_data"
    },
    {
     "data": {
      "text/html": [
       "<pre style=\"white-space:pre;overflow-x:auto;line-height:normal;font-family:Menlo,'DejaVu Sans Mono',consolas,'Courier New',monospace\"><span style=\"color: #7fbfbf; text-decoration-color: #7fbfbf\">           </span>Metadata not found for eLife’s Transparent Reporting Form in SemanticScholarProvider.                   \n",
       "</pre>\n"
      ],
      "text/plain": [
       "\u001b[2;36m          \u001b[0m\u001b[2;36m \u001b[0mMetadata not found for eLife’s Transparent Reporting Form in SemanticScholarProvider.                   \n"
      ]
     },
     "metadata": {},
     "output_type": "display_data"
    },
    {
     "name": "stderr",
     "output_type": "stream",
     "text": [
      "Failed to execute tool call for tool paper_search.\n",
      "Traceback (most recent call last):\n",
      "  File \"/scratch/qcampbe2/myenvs/mdcrow/lib/python3.12/site-packages/aviary/env.py\", line 197, in _exec_tool_call\n",
      "    content = await tool._tool_fn(\n",
      "              ^^^^^^^^^^^^^^^^^^^^\n",
      "  File \"/scratch/qcampbe2/myenvs/mdcrow/lib/python3.12/site-packages/paperqa/agents/tools.py\", line 127, in paper_search\n",
      "    index = await get_directory_index(settings=self.settings)\n",
      "            ^^^^^^^^^^^^^^^^^^^^^^^^^^^^^^^^^^^^^^^^^^^^^^^^^\n",
      "  File \"/scratch/qcampbe2/myenvs/mdcrow/lib/python3.12/site-packages/paperqa/agents/search.py\", line 481, in get_directory_index\n",
      "    async with anyio.create_task_group() as tg:\n",
      "  File \"/scratch/qcampbe2/myenvs/mdcrow/lib/python3.12/site-packages/anyio/_backends/_asyncio.py\", line 597, in __aexit__\n",
      "    raise exceptions[0]\n",
      "  File \"/scratch/qcampbe2/myenvs/mdcrow/lib/python3.12/asyncio/tasks.py\", line 316, in __step_run_and_handle_result\n",
      "    result = coro.throw(exc)\n",
      "             ^^^^^^^^^^^^^^^\n",
      "  File \"/scratch/qcampbe2/myenvs/mdcrow/lib/python3.12/site-packages/paperqa/agents/search.py\", line 377, in process_file\n",
      "    await tmp_docs.aadd(\n",
      "  File \"/scratch/qcampbe2/myenvs/mdcrow/lib/python3.12/site-packages/paperqa/docs.py\", line 346, in aadd\n",
      "    doc = await metadata_client.upgrade_doc_to_doc_details(\n",
      "          ^^^^^^^^^^^^^^^^^^^^^^^^^^^^^^^^^^^^^^^^^^^^^^^^^\n",
      "  File \"/scratch/qcampbe2/myenvs/mdcrow/lib/python3.12/site-packages/paperqa/clients/__init__.py\", line 202, in upgrade_doc_to_doc_details\n",
      "    if doc_details := await self.query(**kwargs):\n",
      "                      ^^^^^^^^^^^^^^^^^^^^^^^^^^\n",
      "  File \"/scratch/qcampbe2/myenvs/mdcrow/lib/python3.12/site-packages/paperqa/clients/__init__.py\", line 150, in query\n",
      "    await gather_with_concurrency(\n",
      "  File \"/scratch/qcampbe2/myenvs/mdcrow/lib/python3.12/site-packages/paperqa/utils.py\", line 111, in gather_with_concurrency\n",
      "    return await asyncio.gather(*(sem_coro(c) for c in coros))\n",
      "           ^^^^^^^^^^^^^^^^^^^^^^^^^^^^^^^^^^^^^^^^^^^^^^^^^^^\n",
      "  File \"/scratch/qcampbe2/myenvs/mdcrow/lib/python3.12/asyncio/tasks.py\", line 385, in __wakeup\n",
      "    future.result()\n",
      "  File \"/scratch/qcampbe2/myenvs/mdcrow/lib/python3.12/asyncio/tasks.py\", line 314, in __step_run_and_handle_result\n",
      "    result = coro.send(None)\n",
      "             ^^^^^^^^^^^^^^^\n",
      "  File \"/scratch/qcampbe2/myenvs/mdcrow/lib/python3.12/site-packages/paperqa/utils.py\", line 109, in sem_coro\n",
      "    return await coro\n",
      "           ^^^^^^^^^^\n",
      "  File \"/scratch/qcampbe2/myenvs/mdcrow/lib/python3.12/site-packages/paperqa/clients/client_models.py\", line 108, in query\n",
      "    return await self._query(client_query)\n",
      "           ^^^^^^^^^^^^^^^^^^^^^^^^^^^^^^^\n",
      "  File \"/scratch/qcampbe2/myenvs/mdcrow/lib/python3.12/site-packages/paperqa/clients/semantic_scholar.py\", line 321, in _query\n",
      "    return await get_s2_doc_details_from_title(\n",
      "           ^^^^^^^^^^^^^^^^^^^^^^^^^^^^^^^^^^^^\n",
      "  File \"/scratch/qcampbe2/myenvs/mdcrow/lib/python3.12/site-packages/paperqa/clients/semantic_scholar.py\", line 306, in get_s2_doc_details_from_title\n",
      "    return await s2_title_search(\n",
      "           ^^^^^^^^^^^^^^^^^^^^^^\n",
      "  File \"/scratch/qcampbe2/myenvs/mdcrow/lib/python3.12/site-packages/paperqa/clients/semantic_scholar.py\", line 218, in s2_title_search\n",
      "    data = await _get_with_retrying(\n",
      "           ^^^^^^^^^^^^^^^^^^^^^^^^^\n",
      "  File \"/scratch/qcampbe2/myenvs/mdcrow/lib/python3.12/site-packages/tenacity/asyncio/__init__.py\", line 189, in async_wrapped\n",
      "    return await copy(fn, *args, **kwargs)\n",
      "           ^^^^^^^^^^^^^^^^^^^^^^^^^^^^^^^\n",
      "  File \"/scratch/qcampbe2/myenvs/mdcrow/lib/python3.12/site-packages/tenacity/asyncio/__init__.py\", line 111, in __call__\n",
      "    do = await self.iter(retry_state=retry_state)\n",
      "         ^^^^^^^^^^^^^^^^^^^^^^^^^^^^^^^^^^^^^^^^\n",
      "  File \"/scratch/qcampbe2/myenvs/mdcrow/lib/python3.12/site-packages/tenacity/asyncio/__init__.py\", line 153, in iter\n",
      "    result = await action(retry_state)\n",
      "             ^^^^^^^^^^^^^^^^^^^^^^^^^\n",
      "  File \"/scratch/qcampbe2/myenvs/mdcrow/lib/python3.12/site-packages/tenacity/_utils.py\", line 99, in inner\n",
      "    return call(*args, **kwargs)\n",
      "           ^^^^^^^^^^^^^^^^^^^^^\n",
      "  File \"/scratch/qcampbe2/myenvs/mdcrow/lib/python3.12/site-packages/tenacity/__init__.py\", line 398, in <lambda>\n",
      "    self._add_action_func(lambda rs: rs.outcome.result())\n",
      "                                     ^^^^^^^^^^^^^^^^^^^\n",
      "  File \"/scratch/qcampbe2/myenvs/mdcrow/lib/python3.12/concurrent/futures/_base.py\", line 449, in result\n",
      "    return self.__get_result()\n",
      "           ^^^^^^^^^^^^^^^^^^^\n",
      "  File \"/scratch/qcampbe2/myenvs/mdcrow/lib/python3.12/concurrent/futures/_base.py\", line 401, in __get_result\n",
      "    raise self._exception\n",
      "  File \"/scratch/qcampbe2/myenvs/mdcrow/lib/python3.12/site-packages/tenacity/asyncio/__init__.py\", line 114, in __call__\n",
      "    result = await fn(*args, **kwargs)\n",
      "             ^^^^^^^^^^^^^^^^^^^^^^^^^\n",
      "  File \"/scratch/qcampbe2/myenvs/mdcrow/lib/python3.12/site-packages/paperqa/utils.py\", line 419, in _get_with_retrying\n",
      "    response.raise_for_status()\n",
      "  File \"/scratch/qcampbe2/myenvs/mdcrow/lib/python3.12/site-packages/aiohttp/client_reqrep.py\", line 1070, in raise_for_status\n",
      "    raise ClientResponseError(\n",
      "aiohttp.client_exceptions.ClientResponseError: 429, message='', url=URL('https://api.semanticscholar.org/graph/v1/paper/search/match?query=Oxygen+Delivery+from+Red+Cells&fields=authors,externalIds,journal,title,year')\n"
     ]
    },
    {
     "data": {
      "text/html": [
       "<pre style=\"white-space:pre;overflow-x:auto;line-height:normal;font-family:Menlo,'DejaVu Sans Mono',consolas,'Courier New',monospace\"><span style=\"color: #7fbfbf; text-decoration-color: #7fbfbf\">           </span>Starting paper search for <span style=\"color: #008000; text-decoration-color: #008000\">'optimal temperature biomolecular simulation, 2010-2024  '</span>.                   \n",
       "</pre>\n"
      ],
      "text/plain": [
       "\u001b[2;36m          \u001b[0m\u001b[2;36m \u001b[0mStarting paper search for \u001b[32m'optimal temperature biomolecular simulation, 2010-2024  '\u001b[0m.                   \n"
      ]
     },
     "metadata": {},
     "output_type": "display_data"
    },
    {
     "data": {
      "text/html": [
       "<pre style=\"white-space:pre;overflow-x:auto;line-height:normal;font-family:Menlo,'DejaVu Sans Mono',consolas,'Courier New',monospace\"><span style=\"color: #7fbfbf; text-decoration-color: #7fbfbf\">           </span>New file to index: bringas_2017_hemoglobin.pdf<span style=\"color: #808000; text-decoration-color: #808000\">...</span>                                                       \n",
       "</pre>\n"
      ],
      "text/plain": [
       "\u001b[2;36m          \u001b[0m\u001b[2;36m \u001b[0mNew file to index: bringas_2017_hemoglobin.pdf\u001b[33m...\u001b[0m                                                       \n"
      ]
     },
     "metadata": {},
     "output_type": "display_data"
    },
    {
     "data": {
      "text/html": [
       "<pre style=\"white-space:pre;overflow-x:auto;line-height:normal;font-family:Menlo,'DejaVu Sans Mono',consolas,'Courier New',monospace\"><span style=\"color: #7fbfbf; text-decoration-color: #7fbfbf\">           </span>New file to index: cong_2017_trypsin-ligand.pdf<span style=\"color: #808000; text-decoration-color: #808000\">...</span>                                                      \n",
       "</pre>\n"
      ],
      "text/plain": [
       "\u001b[2;36m          \u001b[0m\u001b[2;36m \u001b[0mNew file to index: cong_2017_trypsin-ligand.pdf\u001b[33m...\u001b[0m                                                      \n"
      ]
     },
     "metadata": {},
     "output_type": "display_data"
    },
    {
     "data": {
      "text/html": [
       "<pre style=\"white-space:pre;overflow-x:auto;line-height:normal;font-family:Menlo,'DejaVu Sans Mono',consolas,'Courier New',monospace\"><span style=\"color: #7fbfbf; text-decoration-color: #7fbfbf\">           </span>New file to index: Vittaladevaram_2023_fibronectin.pdf<span style=\"color: #808000; text-decoration-color: #808000\">...</span>                                               \n",
       "</pre>\n"
      ],
      "text/plain": [
       "\u001b[2;36m          \u001b[0m\u001b[2;36m \u001b[0mNew file to index: Vittaladevaram_2023_fibronectin.pdf\u001b[33m...\u001b[0m                                               \n"
      ]
     },
     "metadata": {},
     "output_type": "display_data"
    },
    {
     "data": {
      "text/html": [
       "<pre style=\"white-space:pre;overflow-x:auto;line-height:normal;font-family:Menlo,'DejaVu Sans Mono',consolas,'Courier New',monospace\"><span style=\"color: #7fbfbf; text-decoration-color: #7fbfbf\">           </span>New file to index: sahoo-<span style=\"color: #008080; text-decoration-color: #008080; font-weight: bold\">2019</span>-unfolding-dynamics-of-ubiquitin.pdf<span style=\"color: #808000; text-decoration-color: #808000\">...</span>                                    \n",
       "</pre>\n"
      ],
      "text/plain": [
       "\u001b[2;36m          \u001b[0m\u001b[2;36m \u001b[0mNew file to index: sahoo-\u001b[1;36m2019\u001b[0m-unfolding-dynamics-of-ubiquitin.pdf\u001b[33m...\u001b[0m                                    \n"
      ]
     },
     "metadata": {},
     "output_type": "display_data"
    },
    {
     "data": {
      "text/html": [
       "<pre style=\"white-space:pre;overflow-x:auto;line-height:normal;font-family:Menlo,'DejaVu Sans Mono',consolas,'Courier New',monospace\"><span style=\"color: #7fbfbf; text-decoration-color: #7fbfbf\">           </span>New file to index: oliveira_2021_b2m_2yxf.pdf<span style=\"color: #808000; text-decoration-color: #808000\">...</span>                                                        \n",
       "</pre>\n"
      ],
      "text/plain": [
       "\u001b[2;36m          \u001b[0m\u001b[2;36m \u001b[0mNew file to index: oliveira_2021_b2m_2yxf.pdf\u001b[33m...\u001b[0m                                                        \n"
      ]
     },
     "metadata": {},
     "output_type": "display_data"
    },
    {
     "data": {
      "text/html": [
       "<pre style=\"white-space:pre;overflow-x:auto;line-height:normal;font-family:Menlo,'DejaVu Sans Mono',consolas,'Courier New',monospace\"><span style=\"color: #7fbfbf; text-decoration-color: #7fbfbf\">           </span>New file to index: lemmon_2017_fibronectin.pdf<span style=\"color: #808000; text-decoration-color: #808000\">...</span>                                                       \n",
       "</pre>\n"
      ],
      "text/plain": [
       "\u001b[2;36m          \u001b[0m\u001b[2;36m \u001b[0mNew file to index: lemmon_2017_fibronectin.pdf\u001b[33m...\u001b[0m                                                       \n"
      ]
     },
     "metadata": {},
     "output_type": "display_data"
    },
    {
     "data": {
      "text/html": [
       "<pre style=\"white-space:pre;overflow-x:auto;line-height:normal;font-family:Menlo,'DejaVu Sans Mono',consolas,'Courier New',monospace\"><span style=\"color: #7fbfbf; text-decoration-color: #7fbfbf\">[21:38:02] </span>New file to index: liamas_2018_fibronectin_1fnf.pdf<span style=\"color: #808000; text-decoration-color: #808000\">...</span>                                                  \n",
       "</pre>\n"
      ],
      "text/plain": [
       "\u001b[2;36m[21:38:02]\u001b[0m\u001b[2;36m \u001b[0mNew file to index: liamas_2018_fibronectin_1fnf.pdf\u001b[33m...\u001b[0m                                                  \n"
      ]
     },
     "metadata": {},
     "output_type": "display_data"
    },
    {
     "data": {
      "text/html": [
       "<pre style=\"white-space:pre;overflow-x:auto;line-height:normal;font-family:Menlo,'DejaVu Sans Mono',consolas,'Courier New',monospace\"><span style=\"color: #7fbfbf; text-decoration-color: #7fbfbf\">           </span>New file to index: ganoth_2013_ubiquitin.pdf<span style=\"color: #808000; text-decoration-color: #808000\">...</span>                                                         \n",
       "</pre>\n"
      ],
      "text/plain": [
       "\u001b[2;36m          \u001b[0m\u001b[2;36m \u001b[0mNew file to index: ganoth_2013_ubiquitin.pdf\u001b[33m...\u001b[0m                                                         \n"
      ]
     },
     "metadata": {},
     "output_type": "display_data"
    },
    {
     "data": {
      "text/html": [
       "<pre style=\"white-space:pre;overflow-x:auto;line-height:normal;font-family:Menlo,'DejaVu Sans Mono',consolas,'Courier New',monospace\"><span style=\"color: #7fbfbf; text-decoration-color: #7fbfbf\">           </span>New file to index: morand_2021_b2m_2yxf.pdf<span style=\"color: #808000; text-decoration-color: #808000\">...</span>                                                          \n",
       "</pre>\n"
      ],
      "text/plain": [
       "\u001b[2;36m          \u001b[0m\u001b[2;36m \u001b[0mNew file to index: morand_2021_b2m_2yxf.pdf\u001b[33m...\u001b[0m                                                          \n"
      ]
     },
     "metadata": {},
     "output_type": "display_data"
    },
    {
     "data": {
      "text/html": [
       "<pre style=\"white-space:pre;overflow-x:auto;line-height:normal;font-family:Menlo,'DejaVu Sans Mono',consolas,'Courier New',monospace\"><span style=\"color: #7fbfbf; text-decoration-color: #7fbfbf\">           </span>New file to index: clark_1985_hemoglobin.pdf<span style=\"color: #808000; text-decoration-color: #808000\">...</span>                                                         \n",
       "</pre>\n"
      ],
      "text/plain": [
       "\u001b[2;36m          \u001b[0m\u001b[2;36m \u001b[0mNew file to index: clark_1985_hemoglobin.pdf\u001b[33m...\u001b[0m                                                         \n"
      ]
     },
     "metadata": {},
     "output_type": "display_data"
    },
    {
     "data": {
      "text/html": [
       "<pre style=\"white-space:pre;overflow-x:auto;line-height:normal;font-family:Menlo,'DejaVu Sans Mono',consolas,'Courier New',monospace\"><span style=\"color: #7fbfbf; text-decoration-color: #7fbfbf\">           </span>New file to index:                                                                                      \n",
       "<span style=\"color: #7fbfbf; text-decoration-color: #7fbfbf\">           </span>mshirts%2C+<span style=\"color: #008080; text-decoration-color: #008080; font-weight: bold\">5957</span>-best-practices-for-foundations-in-molecular-simulations-article-v1-<span style=\"color: #008080; text-decoration-color: #008080; font-weight: bold\">0</span>+%<span style=\"color: #008080; text-decoration-color: #008080; font-weight: bold\">281</span>%<span style=\"color: #008080; text-decoration-color: #008080; font-weight: bold\">29.</span>pdf<span style=\"color: #808000; text-decoration-color: #808000\">...</span>     \n",
       "</pre>\n"
      ],
      "text/plain": [
       "\u001b[2;36m          \u001b[0m\u001b[2;36m \u001b[0mNew file to index:                                                                                      \n",
       "\u001b[2;36m           \u001b[0mmshirts%2C+\u001b[1;36m5957\u001b[0m-best-practices-for-foundations-in-molecular-simulations-article-v1-\u001b[1;36m0\u001b[0m+%\u001b[1;36m281\u001b[0m%\u001b[1;36m29.\u001b[0mpdf\u001b[33m...\u001b[0m     \n"
      ]
     },
     "metadata": {},
     "output_type": "display_data"
    },
    {
     "data": {
      "text/html": [
       "<pre style=\"white-space:pre;overflow-x:auto;line-height:normal;font-family:Menlo,'DejaVu Sans Mono',consolas,'Courier New',monospace\"><span style=\"color: #7fbfbf; text-decoration-color: #7fbfbf\">           </span>New file to index: sala_2018_proteinstability.pdf<span style=\"color: #808000; text-decoration-color: #808000\">...</span>                                                    \n",
       "</pre>\n"
      ],
      "text/plain": [
       "\u001b[2;36m          \u001b[0m\u001b[2;36m \u001b[0mNew file to index: sala_2018_proteinstability.pdf\u001b[33m...\u001b[0m                                                    \n"
      ]
     },
     "metadata": {},
     "output_type": "display_data"
    },
    {
     "data": {
      "text/html": [
       "<pre style=\"white-space:pre;overflow-x:auto;line-height:normal;font-family:Menlo,'DejaVu Sans Mono',consolas,'Courier New',monospace\"><span style=\"color: #7fbfbf; text-decoration-color: #7fbfbf\">[21:38:03] </span>New file to index: hage_2018_hemoglobin_sim_SI.pdf<span style=\"color: #808000; text-decoration-color: #808000\">...</span>                                                   \n",
       "</pre>\n"
      ],
      "text/plain": [
       "\u001b[2;36m[21:38:03]\u001b[0m\u001b[2;36m \u001b[0mNew file to index: hage_2018_hemoglobin_sim_SI.pdf\u001b[33m...\u001b[0m                                                   \n"
      ]
     },
     "metadata": {},
     "output_type": "display_data"
    },
    {
     "data": {
      "text/html": [
       "<pre style=\"white-space:pre;overflow-x:auto;line-height:normal;font-family:Menlo,'DejaVu Sans Mono',consolas,'Courier New',monospace\"><span style=\"color: #7fbfbf; text-decoration-color: #7fbfbf\">           </span>New file to index: laberge_2008_hemoglobin_sim.pdf<span style=\"color: #808000; text-decoration-color: #808000\">...</span>                                                   \n",
       "</pre>\n"
      ],
      "text/plain": [
       "\u001b[2;36m          \u001b[0m\u001b[2;36m \u001b[0mNew file to index: laberge_2008_hemoglobin_sim.pdf\u001b[33m...\u001b[0m                                                   \n"
      ]
     },
     "metadata": {},
     "output_type": "display_data"
    },
    {
     "data": {
      "text/html": [
       "<pre style=\"white-space:pre;overflow-x:auto;line-height:normal;font-family:Menlo,'DejaVu Sans Mono',consolas,'Courier New',monospace\"><span style=\"color: #7fbfbf; text-decoration-color: #7fbfbf\">           </span>New file to index: <span style=\"color: #008080; text-decoration-color: #008080; font-weight: bold\">10.</span>1002slct.<span style=\"color: #008080; text-decoration-color: #008080; font-weight: bold\">201801398.</span>pdf<span style=\"color: #808000; text-decoration-color: #808000\">...</span>                                                         \n",
       "</pre>\n"
      ],
      "text/plain": [
       "\u001b[2;36m          \u001b[0m\u001b[2;36m \u001b[0mNew file to index: \u001b[1;36m10.\u001b[0m1002slct.\u001b[1;36m201801398.\u001b[0mpdf\u001b[33m...\u001b[0m                                                         \n"
      ]
     },
     "metadata": {},
     "output_type": "display_data"
    },
    {
     "data": {
      "text/html": [
       "<pre style=\"white-space:pre;overflow-x:auto;line-height:normal;font-family:Menlo,'DejaVu Sans Mono',consolas,'Courier New',monospace\"><span style=\"color: #7fbfbf; text-decoration-color: #7fbfbf\">           </span>New file to index: paci_1999_fibronectin_1fnf.pdf<span style=\"color: #808000; text-decoration-color: #808000\">...</span>                                                    \n",
       "</pre>\n"
      ],
      "text/plain": [
       "\u001b[2;36m          \u001b[0m\u001b[2;36m \u001b[0mNew file to index: paci_1999_fibronectin_1fnf.pdf\u001b[33m...\u001b[0m                                                    \n"
      ]
     },
     "metadata": {},
     "output_type": "display_data"
    },
    {
     "data": {
      "text/html": [
       "<pre style=\"white-space:pre;overflow-x:auto;line-height:normal;font-family:Menlo,'DejaVu Sans Mono',consolas,'Courier New',monospace\"><span style=\"color: #7fbfbf; text-decoration-color: #7fbfbf\">           </span>New file to index: gee_2008_fibronectin_1fnf.pdf<span style=\"color: #808000; text-decoration-color: #808000\">...</span>                                                     \n",
       "</pre>\n"
      ],
      "text/plain": [
       "\u001b[2;36m          \u001b[0m\u001b[2;36m \u001b[0mNew file to index: gee_2008_fibronectin_1fnf.pdf\u001b[33m...\u001b[0m                                                     \n"
      ]
     },
     "metadata": {},
     "output_type": "display_data"
    },
    {
     "data": {
      "text/html": [
       "<pre style=\"white-space:pre;overflow-x:auto;line-height:normal;font-family:Menlo,'DejaVu Sans Mono',consolas,'Courier New',monospace\"><span style=\"color: #7fbfbf; text-decoration-color: #7fbfbf\">           </span>New file to index: hage_2018_hemoglobin_sim.pdf<span style=\"color: #808000; text-decoration-color: #808000\">...</span>                                                      \n",
       "</pre>\n"
      ],
      "text/plain": [
       "\u001b[2;36m          \u001b[0m\u001b[2;36m \u001b[0mNew file to index: hage_2018_hemoglobin_sim.pdf\u001b[33m...\u001b[0m                                                      \n"
      ]
     },
     "metadata": {},
     "output_type": "display_data"
    },
    {
     "data": {
      "text/html": [
       "<pre style=\"white-space:pre;overflow-x:auto;line-height:normal;font-family:Menlo,'DejaVu Sans Mono',consolas,'Courier New',monospace\"><span style=\"color: #7fbfbf; text-decoration-color: #7fbfbf\">           </span>New file to index: dunkelberger-et-al-2018_hemoglobin.pdf<span style=\"color: #808000; text-decoration-color: #808000\">...</span>                                            \n",
       "</pre>\n"
      ],
      "text/plain": [
       "\u001b[2;36m          \u001b[0m\u001b[2;36m \u001b[0mNew file to index: dunkelberger-et-al-2018_hemoglobin.pdf\u001b[33m...\u001b[0m                                            \n"
      ]
     },
     "metadata": {},
     "output_type": "display_data"
    },
    {
     "data": {
      "text/html": [
       "<pre style=\"white-space:pre;overflow-x:auto;line-height:normal;font-family:Menlo,'DejaVu Sans Mono',consolas,'Courier New',monospace\"><span style=\"color: #7fbfbf; text-decoration-color: #7fbfbf\">           </span>New file to index: liao_2014_fibronectin_sim.pdf<span style=\"color: #808000; text-decoration-color: #808000\">...</span>                                                     \n",
       "</pre>\n"
      ],
      "text/plain": [
       "\u001b[2;36m          \u001b[0m\u001b[2;36m \u001b[0mNew file to index: liao_2014_fibronectin_sim.pdf\u001b[33m...\u001b[0m                                                     \n"
      ]
     },
     "metadata": {},
     "output_type": "display_data"
    },
    {
     "data": {
      "text/html": [
       "<pre style=\"white-space:pre;overflow-x:auto;line-height:normal;font-family:Menlo,'DejaVu Sans Mono',consolas,'Courier New',monospace\"><span style=\"color: #7fbfbf; text-decoration-color: #7fbfbf\">           </span>New file to index: lucas_2012_hemoglobin_sim_SI.pdf<span style=\"color: #808000; text-decoration-color: #808000\">...</span>                                                  \n",
       "</pre>\n"
      ],
      "text/plain": [
       "\u001b[2;36m          \u001b[0m\u001b[2;36m \u001b[0mNew file to index: lucas_2012_hemoglobin_sim_SI.pdf\u001b[33m...\u001b[0m                                                  \n"
      ]
     },
     "metadata": {},
     "output_type": "display_data"
    },
    {
     "data": {
      "text/html": [
       "<pre style=\"white-space:pre;overflow-x:auto;line-height:normal;font-family:Menlo,'DejaVu Sans Mono',consolas,'Courier New',monospace\"><span style=\"color: #7fbfbf; text-decoration-color: #7fbfbf\">[21:38:04] </span>New file to index: hao_2021_fibronectin.pdf<span style=\"color: #808000; text-decoration-color: #808000\">...</span>                                                          \n",
       "</pre>\n"
      ],
      "text/plain": [
       "\u001b[2;36m[21:38:04]\u001b[0m\u001b[2;36m \u001b[0mNew file to index: hao_2021_fibronectin.pdf\u001b[33m...\u001b[0m                                                          \n"
      ]
     },
     "metadata": {},
     "output_type": "display_data"
    },
    {
     "data": {
      "text/html": [
       "<pre style=\"white-space:pre;overflow-x:auto;line-height:normal;font-family:Menlo,'DejaVu Sans Mono',consolas,'Courier New',monospace\"><span style=\"color: #7fbfbf; text-decoration-color: #7fbfbf\">           </span>New file to index: mace_docs_2024.pdf<span style=\"color: #808000; text-decoration-color: #808000\">...</span>                                                                \n",
       "</pre>\n"
      ],
      "text/plain": [
       "\u001b[2;36m          \u001b[0m\u001b[2;36m \u001b[0mNew file to index: mace_docs_2024.pdf\u001b[33m...\u001b[0m                                                                \n"
      ]
     },
     "metadata": {},
     "output_type": "display_data"
    },
    {
     "data": {
      "text/html": [
       "<pre style=\"white-space:pre;overflow-x:auto;line-height:normal;font-family:Menlo,'DejaVu Sans Mono',consolas,'Courier New',monospace\"><span style=\"color: #7fbfbf; text-decoration-color: #7fbfbf\">           </span>New file to index: lucas_2012_hemoglobin_sim.pdf<span style=\"color: #808000; text-decoration-color: #808000\">...</span>                                                     \n",
       "</pre>\n"
      ],
      "text/plain": [
       "\u001b[2;36m          \u001b[0m\u001b[2;36m \u001b[0mNew file to index: lucas_2012_hemoglobin_sim.pdf\u001b[33m...\u001b[0m                                                     \n"
      ]
     },
     "metadata": {},
     "output_type": "display_data"
    },
    {
     "data": {
      "text/html": [
       "<pre style=\"white-space:pre;overflow-x:auto;line-height:normal;font-family:Menlo,'DejaVu Sans Mono',consolas,'Courier New',monospace\"><span style=\"color: #7fbfbf; text-decoration-color: #7fbfbf\">           </span>New file to index: raffaini-ganazzoli-<span style=\"color: #008080; text-decoration-color: #008080; font-weight: bold\">2004</span>-fibronectin_sim.pdf<span style=\"color: #808000; text-decoration-color: #808000\">...</span>                                       \n",
       "</pre>\n"
      ],
      "text/plain": [
       "\u001b[2;36m          \u001b[0m\u001b[2;36m \u001b[0mNew file to index: raffaini-ganazzoli-\u001b[1;36m2004\u001b[0m-fibronectin_sim.pdf\u001b[33m...\u001b[0m                                       \n"
      ]
     },
     "metadata": {},
     "output_type": "display_data"
    },
    {
     "data": {
      "text/html": [
       "<pre style=\"white-space:pre;overflow-x:auto;line-height:normal;font-family:Menlo,'DejaVu Sans Mono',consolas,'Courier New',monospace\"><span style=\"color: #7fbfbf; text-decoration-color: #7fbfbf\">[21:38:05] </span>SEMANTIC_SCHOLAR_API_KEY environment variable not set. Semantic Scholar API rate limits may apply.      \n",
       "</pre>\n"
      ],
      "text/plain": [
       "\u001b[2;36m[21:38:05]\u001b[0m\u001b[2;36m \u001b[0mSEMANTIC_SCHOLAR_API_KEY environment variable not set. Semantic Scholar API rate limits may apply.      \n"
      ]
     },
     "metadata": {},
     "output_type": "display_data"
    },
    {
     "data": {
      "text/html": [
       "<pre style=\"white-space:pre;overflow-x:auto;line-height:normal;font-family:Menlo,'DejaVu Sans Mono',consolas,'Courier New',monospace\"><span style=\"color: #7fbfbf; text-decoration-color: #7fbfbf\">           </span>SEMANTIC_SCHOLAR_API_KEY environment variable not set. Semantic Scholar API rate limits may apply.      \n",
       "</pre>\n"
      ],
      "text/plain": [
       "\u001b[2;36m          \u001b[0m\u001b[2;36m \u001b[0mSEMANTIC_SCHOLAR_API_KEY environment variable not set. Semantic Scholar API rate limits may apply.      \n"
      ]
     },
     "metadata": {},
     "output_type": "display_data"
    },
    {
     "name": "stderr",
     "output_type": "stream",
     "text": [
      "Failed to execute tool call for tool paper_search.\n",
      "Traceback (most recent call last):\n",
      "  File \"/scratch/qcampbe2/myenvs/mdcrow/lib/python3.12/site-packages/aviary/env.py\", line 197, in _exec_tool_call\n",
      "    content = await tool._tool_fn(\n",
      "              ^^^^^^^^^^^^^^^^^^^^\n",
      "  File \"/scratch/qcampbe2/myenvs/mdcrow/lib/python3.12/site-packages/paperqa/agents/tools.py\", line 127, in paper_search\n",
      "    index = await get_directory_index(settings=self.settings)\n",
      "            ^^^^^^^^^^^^^^^^^^^^^^^^^^^^^^^^^^^^^^^^^^^^^^^^^\n",
      "  File \"/scratch/qcampbe2/myenvs/mdcrow/lib/python3.12/site-packages/paperqa/agents/search.py\", line 481, in get_directory_index\n",
      "    async with anyio.create_task_group() as tg:\n",
      "  File \"/scratch/qcampbe2/myenvs/mdcrow/lib/python3.12/site-packages/anyio/_backends/_asyncio.py\", line 597, in __aexit__\n",
      "    raise exceptions[0]\n",
      "  File \"/scratch/qcampbe2/myenvs/mdcrow/lib/python3.12/asyncio/tasks.py\", line 316, in __step_run_and_handle_result\n",
      "    result = coro.throw(exc)\n",
      "             ^^^^^^^^^^^^^^^\n",
      "  File \"/scratch/qcampbe2/myenvs/mdcrow/lib/python3.12/site-packages/paperqa/agents/search.py\", line 377, in process_file\n",
      "    await tmp_docs.aadd(\n",
      "  File \"/scratch/qcampbe2/myenvs/mdcrow/lib/python3.12/site-packages/paperqa/docs.py\", line 346, in aadd\n",
      "    doc = await metadata_client.upgrade_doc_to_doc_details(\n",
      "          ^^^^^^^^^^^^^^^^^^^^^^^^^^^^^^^^^^^^^^^^^^^^^^^^^\n",
      "  File \"/scratch/qcampbe2/myenvs/mdcrow/lib/python3.12/site-packages/paperqa/clients/__init__.py\", line 202, in upgrade_doc_to_doc_details\n",
      "    if doc_details := await self.query(**kwargs):\n",
      "                      ^^^^^^^^^^^^^^^^^^^^^^^^^^\n",
      "  File \"/scratch/qcampbe2/myenvs/mdcrow/lib/python3.12/site-packages/paperqa/clients/__init__.py\", line 150, in query\n",
      "    await gather_with_concurrency(\n",
      "  File \"/scratch/qcampbe2/myenvs/mdcrow/lib/python3.12/site-packages/paperqa/utils.py\", line 111, in gather_with_concurrency\n",
      "    return await asyncio.gather(*(sem_coro(c) for c in coros))\n",
      "           ^^^^^^^^^^^^^^^^^^^^^^^^^^^^^^^^^^^^^^^^^^^^^^^^^^^\n",
      "  File \"/scratch/qcampbe2/myenvs/mdcrow/lib/python3.12/asyncio/tasks.py\", line 385, in __wakeup\n",
      "    future.result()\n",
      "  File \"/scratch/qcampbe2/myenvs/mdcrow/lib/python3.12/asyncio/tasks.py\", line 314, in __step_run_and_handle_result\n",
      "    result = coro.send(None)\n",
      "             ^^^^^^^^^^^^^^^\n",
      "  File \"/scratch/qcampbe2/myenvs/mdcrow/lib/python3.12/site-packages/paperqa/utils.py\", line 109, in sem_coro\n",
      "    return await coro\n",
      "           ^^^^^^^^^^\n",
      "  File \"/scratch/qcampbe2/myenvs/mdcrow/lib/python3.12/site-packages/paperqa/clients/client_models.py\", line 108, in query\n",
      "    return await self._query(client_query)\n",
      "           ^^^^^^^^^^^^^^^^^^^^^^^^^^^^^^^\n",
      "  File \"/scratch/qcampbe2/myenvs/mdcrow/lib/python3.12/site-packages/paperqa/clients/semantic_scholar.py\", line 321, in _query\n",
      "    return await get_s2_doc_details_from_title(\n",
      "           ^^^^^^^^^^^^^^^^^^^^^^^^^^^^^^^^^^^^\n",
      "  File \"/scratch/qcampbe2/myenvs/mdcrow/lib/python3.12/site-packages/paperqa/clients/semantic_scholar.py\", line 306, in get_s2_doc_details_from_title\n",
      "    return await s2_title_search(\n",
      "           ^^^^^^^^^^^^^^^^^^^^^^\n",
      "  File \"/scratch/qcampbe2/myenvs/mdcrow/lib/python3.12/site-packages/paperqa/clients/semantic_scholar.py\", line 218, in s2_title_search\n",
      "    data = await _get_with_retrying(\n",
      "           ^^^^^^^^^^^^^^^^^^^^^^^^^\n",
      "  File \"/scratch/qcampbe2/myenvs/mdcrow/lib/python3.12/site-packages/tenacity/asyncio/__init__.py\", line 189, in async_wrapped\n",
      "    return await copy(fn, *args, **kwargs)\n",
      "           ^^^^^^^^^^^^^^^^^^^^^^^^^^^^^^^\n",
      "  File \"/scratch/qcampbe2/myenvs/mdcrow/lib/python3.12/site-packages/tenacity/asyncio/__init__.py\", line 111, in __call__\n",
      "    do = await self.iter(retry_state=retry_state)\n",
      "         ^^^^^^^^^^^^^^^^^^^^^^^^^^^^^^^^^^^^^^^^\n",
      "  File \"/scratch/qcampbe2/myenvs/mdcrow/lib/python3.12/site-packages/tenacity/asyncio/__init__.py\", line 153, in iter\n",
      "    result = await action(retry_state)\n",
      "             ^^^^^^^^^^^^^^^^^^^^^^^^^\n",
      "  File \"/scratch/qcampbe2/myenvs/mdcrow/lib/python3.12/site-packages/tenacity/_utils.py\", line 99, in inner\n",
      "    return call(*args, **kwargs)\n",
      "           ^^^^^^^^^^^^^^^^^^^^^\n",
      "  File \"/scratch/qcampbe2/myenvs/mdcrow/lib/python3.12/site-packages/tenacity/__init__.py\", line 398, in <lambda>\n",
      "    self._add_action_func(lambda rs: rs.outcome.result())\n",
      "                                     ^^^^^^^^^^^^^^^^^^^\n",
      "  File \"/scratch/qcampbe2/myenvs/mdcrow/lib/python3.12/concurrent/futures/_base.py\", line 449, in result\n",
      "    return self.__get_result()\n",
      "           ^^^^^^^^^^^^^^^^^^^\n",
      "  File \"/scratch/qcampbe2/myenvs/mdcrow/lib/python3.12/concurrent/futures/_base.py\", line 401, in __get_result\n",
      "    raise self._exception\n",
      "  File \"/scratch/qcampbe2/myenvs/mdcrow/lib/python3.12/site-packages/tenacity/asyncio/__init__.py\", line 114, in __call__\n",
      "    result = await fn(*args, **kwargs)\n",
      "             ^^^^^^^^^^^^^^^^^^^^^^^^^\n",
      "  File \"/scratch/qcampbe2/myenvs/mdcrow/lib/python3.12/site-packages/paperqa/utils.py\", line 419, in _get_with_retrying\n",
      "    response.raise_for_status()\n",
      "  File \"/scratch/qcampbe2/myenvs/mdcrow/lib/python3.12/site-packages/aiohttp/client_reqrep.py\", line 1070, in raise_for_status\n",
      "    raise ClientResponseError(\n",
      "aiohttp.client_exceptions.ClientResponseError: 429, message='', url=URL('https://api.semanticscholar.org/graph/v1/paper/search/match?query=Dissecting+Structural+Aspects+of+Protein+Stability&fields=authors,externalIds,journal,title,year')\n"
     ]
    },
    {
     "data": {
      "text/html": [
       "<pre style=\"white-space:pre;overflow-x:auto;line-height:normal;font-family:Menlo,'DejaVu Sans Mono',consolas,'Courier New',monospace\"><span style=\"color: #7fbfbf; text-decoration-color: #7fbfbf\">           </span>Starting paper search for <span style=\"color: #008000; text-decoration-color: #008000\">'fibronectin thermodynamics molecular modeling, 2020-2024'</span>.                   \n",
       "</pre>\n"
      ],
      "text/plain": [
       "\u001b[2;36m          \u001b[0m\u001b[2;36m \u001b[0mStarting paper search for \u001b[32m'fibronectin thermodynamics molecular modeling, 2020-2024'\u001b[0m.                   \n"
      ]
     },
     "metadata": {},
     "output_type": "display_data"
    },
    {
     "data": {
      "text/html": [
       "<pre style=\"white-space:pre;overflow-x:auto;line-height:normal;font-family:Menlo,'DejaVu Sans Mono',consolas,'Courier New',monospace\"><span style=\"color: #7fbfbf; text-decoration-color: #7fbfbf\">           </span>New file to index: bringas_2017_hemoglobin.pdf<span style=\"color: #808000; text-decoration-color: #808000\">...</span>                                                       \n",
       "</pre>\n"
      ],
      "text/plain": [
       "\u001b[2;36m          \u001b[0m\u001b[2;36m \u001b[0mNew file to index: bringas_2017_hemoglobin.pdf\u001b[33m...\u001b[0m                                                       \n"
      ]
     },
     "metadata": {},
     "output_type": "display_data"
    },
    {
     "data": {
      "text/html": [
       "<pre style=\"white-space:pre;overflow-x:auto;line-height:normal;font-family:Menlo,'DejaVu Sans Mono',consolas,'Courier New',monospace\"><span style=\"color: #7fbfbf; text-decoration-color: #7fbfbf\">[21:38:06] </span>New file to index: cong_2017_trypsin-ligand.pdf<span style=\"color: #808000; text-decoration-color: #808000\">...</span>                                                      \n",
       "</pre>\n"
      ],
      "text/plain": [
       "\u001b[2;36m[21:38:06]\u001b[0m\u001b[2;36m \u001b[0mNew file to index: cong_2017_trypsin-ligand.pdf\u001b[33m...\u001b[0m                                                      \n"
      ]
     },
     "metadata": {},
     "output_type": "display_data"
    },
    {
     "data": {
      "text/html": [
       "<pre style=\"white-space:pre;overflow-x:auto;line-height:normal;font-family:Menlo,'DejaVu Sans Mono',consolas,'Courier New',monospace\"><span style=\"color: #7fbfbf; text-decoration-color: #7fbfbf\">           </span>New file to index: Vittaladevaram_2023_fibronectin.pdf<span style=\"color: #808000; text-decoration-color: #808000\">...</span>                                               \n",
       "</pre>\n"
      ],
      "text/plain": [
       "\u001b[2;36m          \u001b[0m\u001b[2;36m \u001b[0mNew file to index: Vittaladevaram_2023_fibronectin.pdf\u001b[33m...\u001b[0m                                               \n"
      ]
     },
     "metadata": {},
     "output_type": "display_data"
    },
    {
     "data": {
      "text/html": [
       "<pre style=\"white-space:pre;overflow-x:auto;line-height:normal;font-family:Menlo,'DejaVu Sans Mono',consolas,'Courier New',monospace\"><span style=\"color: #7fbfbf; text-decoration-color: #7fbfbf\">           </span>New file to index: sahoo-<span style=\"color: #008080; text-decoration-color: #008080; font-weight: bold\">2019</span>-unfolding-dynamics-of-ubiquitin.pdf<span style=\"color: #808000; text-decoration-color: #808000\">...</span>                                    \n",
       "</pre>\n"
      ],
      "text/plain": [
       "\u001b[2;36m          \u001b[0m\u001b[2;36m \u001b[0mNew file to index: sahoo-\u001b[1;36m2019\u001b[0m-unfolding-dynamics-of-ubiquitin.pdf\u001b[33m...\u001b[0m                                    \n"
      ]
     },
     "metadata": {},
     "output_type": "display_data"
    },
    {
     "data": {
      "text/html": [
       "<pre style=\"white-space:pre;overflow-x:auto;line-height:normal;font-family:Menlo,'DejaVu Sans Mono',consolas,'Courier New',monospace\"><span style=\"color: #7fbfbf; text-decoration-color: #7fbfbf\">           </span>New file to index: oliveira_2021_b2m_2yxf.pdf<span style=\"color: #808000; text-decoration-color: #808000\">...</span>                                                        \n",
       "</pre>\n"
      ],
      "text/plain": [
       "\u001b[2;36m          \u001b[0m\u001b[2;36m \u001b[0mNew file to index: oliveira_2021_b2m_2yxf.pdf\u001b[33m...\u001b[0m                                                        \n"
      ]
     },
     "metadata": {},
     "output_type": "display_data"
    },
    {
     "data": {
      "text/html": [
       "<pre style=\"white-space:pre;overflow-x:auto;line-height:normal;font-family:Menlo,'DejaVu Sans Mono',consolas,'Courier New',monospace\"><span style=\"color: #7fbfbf; text-decoration-color: #7fbfbf\">           </span>New file to index: lemmon_2017_fibronectin.pdf<span style=\"color: #808000; text-decoration-color: #808000\">...</span>                                                       \n",
       "</pre>\n"
      ],
      "text/plain": [
       "\u001b[2;36m          \u001b[0m\u001b[2;36m \u001b[0mNew file to index: lemmon_2017_fibronectin.pdf\u001b[33m...\u001b[0m                                                       \n"
      ]
     },
     "metadata": {},
     "output_type": "display_data"
    },
    {
     "data": {
      "text/html": [
       "<pre style=\"white-space:pre;overflow-x:auto;line-height:normal;font-family:Menlo,'DejaVu Sans Mono',consolas,'Courier New',monospace\"><span style=\"color: #7fbfbf; text-decoration-color: #7fbfbf\">           </span>New file to index: liamas_2018_fibronectin_1fnf.pdf<span style=\"color: #808000; text-decoration-color: #808000\">...</span>                                                  \n",
       "</pre>\n"
      ],
      "text/plain": [
       "\u001b[2;36m          \u001b[0m\u001b[2;36m \u001b[0mNew file to index: liamas_2018_fibronectin_1fnf.pdf\u001b[33m...\u001b[0m                                                  \n"
      ]
     },
     "metadata": {},
     "output_type": "display_data"
    },
    {
     "data": {
      "text/html": [
       "<pre style=\"white-space:pre;overflow-x:auto;line-height:normal;font-family:Menlo,'DejaVu Sans Mono',consolas,'Courier New',monospace\"><span style=\"color: #7fbfbf; text-decoration-color: #7fbfbf\">           </span>New file to index: ganoth_2013_ubiquitin.pdf<span style=\"color: #808000; text-decoration-color: #808000\">...</span>                                                         \n",
       "</pre>\n"
      ],
      "text/plain": [
       "\u001b[2;36m          \u001b[0m\u001b[2;36m \u001b[0mNew file to index: ganoth_2013_ubiquitin.pdf\u001b[33m...\u001b[0m                                                         \n"
      ]
     },
     "metadata": {},
     "output_type": "display_data"
    },
    {
     "data": {
      "text/html": [
       "<pre style=\"white-space:pre;overflow-x:auto;line-height:normal;font-family:Menlo,'DejaVu Sans Mono',consolas,'Courier New',monospace\"><span style=\"color: #7fbfbf; text-decoration-color: #7fbfbf\">           </span>New file to index: morand_2021_b2m_2yxf.pdf<span style=\"color: #808000; text-decoration-color: #808000\">...</span>                                                          \n",
       "</pre>\n"
      ],
      "text/plain": [
       "\u001b[2;36m          \u001b[0m\u001b[2;36m \u001b[0mNew file to index: morand_2021_b2m_2yxf.pdf\u001b[33m...\u001b[0m                                                          \n"
      ]
     },
     "metadata": {},
     "output_type": "display_data"
    },
    {
     "data": {
      "text/html": [
       "<pre style=\"white-space:pre;overflow-x:auto;line-height:normal;font-family:Menlo,'DejaVu Sans Mono',consolas,'Courier New',monospace\"><span style=\"color: #7fbfbf; text-decoration-color: #7fbfbf\">[21:38:07] </span>New file to index: clark_1985_hemoglobin.pdf<span style=\"color: #808000; text-decoration-color: #808000\">...</span>                                                         \n",
       "</pre>\n"
      ],
      "text/plain": [
       "\u001b[2;36m[21:38:07]\u001b[0m\u001b[2;36m \u001b[0mNew file to index: clark_1985_hemoglobin.pdf\u001b[33m...\u001b[0m                                                         \n"
      ]
     },
     "metadata": {},
     "output_type": "display_data"
    },
    {
     "data": {
      "text/html": [
       "<pre style=\"white-space:pre;overflow-x:auto;line-height:normal;font-family:Menlo,'DejaVu Sans Mono',consolas,'Courier New',monospace\"><span style=\"color: #7fbfbf; text-decoration-color: #7fbfbf\">           </span>New file to index:                                                                                      \n",
       "<span style=\"color: #7fbfbf; text-decoration-color: #7fbfbf\">           </span>mshirts%2C+<span style=\"color: #008080; text-decoration-color: #008080; font-weight: bold\">5957</span>-best-practices-for-foundations-in-molecular-simulations-article-v1-<span style=\"color: #008080; text-decoration-color: #008080; font-weight: bold\">0</span>+%<span style=\"color: #008080; text-decoration-color: #008080; font-weight: bold\">281</span>%<span style=\"color: #008080; text-decoration-color: #008080; font-weight: bold\">29.</span>pdf<span style=\"color: #808000; text-decoration-color: #808000\">...</span>     \n",
       "</pre>\n"
      ],
      "text/plain": [
       "\u001b[2;36m          \u001b[0m\u001b[2;36m \u001b[0mNew file to index:                                                                                      \n",
       "\u001b[2;36m           \u001b[0mmshirts%2C+\u001b[1;36m5957\u001b[0m-best-practices-for-foundations-in-molecular-simulations-article-v1-\u001b[1;36m0\u001b[0m+%\u001b[1;36m281\u001b[0m%\u001b[1;36m29.\u001b[0mpdf\u001b[33m...\u001b[0m     \n"
      ]
     },
     "metadata": {},
     "output_type": "display_data"
    },
    {
     "data": {
      "text/html": [
       "<pre style=\"white-space:pre;overflow-x:auto;line-height:normal;font-family:Menlo,'DejaVu Sans Mono',consolas,'Courier New',monospace\"><span style=\"color: #7fbfbf; text-decoration-color: #7fbfbf\">           </span>New file to index: sala_2018_proteinstability.pdf<span style=\"color: #808000; text-decoration-color: #808000\">...</span>                                                    \n",
       "</pre>\n"
      ],
      "text/plain": [
       "\u001b[2;36m          \u001b[0m\u001b[2;36m \u001b[0mNew file to index: sala_2018_proteinstability.pdf\u001b[33m...\u001b[0m                                                    \n"
      ]
     },
     "metadata": {},
     "output_type": "display_data"
    },
    {
     "data": {
      "text/html": [
       "<pre style=\"white-space:pre;overflow-x:auto;line-height:normal;font-family:Menlo,'DejaVu Sans Mono',consolas,'Courier New',monospace\"><span style=\"color: #7fbfbf; text-decoration-color: #7fbfbf\">           </span>New file to index: hage_2018_hemoglobin_sim_SI.pdf<span style=\"color: #808000; text-decoration-color: #808000\">...</span>                                                   \n",
       "</pre>\n"
      ],
      "text/plain": [
       "\u001b[2;36m          \u001b[0m\u001b[2;36m \u001b[0mNew file to index: hage_2018_hemoglobin_sim_SI.pdf\u001b[33m...\u001b[0m                                                   \n"
      ]
     },
     "metadata": {},
     "output_type": "display_data"
    },
    {
     "data": {
      "text/html": [
       "<pre style=\"white-space:pre;overflow-x:auto;line-height:normal;font-family:Menlo,'DejaVu Sans Mono',consolas,'Courier New',monospace\"><span style=\"color: #7fbfbf; text-decoration-color: #7fbfbf\">           </span>New file to index: laberge_2008_hemoglobin_sim.pdf<span style=\"color: #808000; text-decoration-color: #808000\">...</span>                                                   \n",
       "</pre>\n"
      ],
      "text/plain": [
       "\u001b[2;36m          \u001b[0m\u001b[2;36m \u001b[0mNew file to index: laberge_2008_hemoglobin_sim.pdf\u001b[33m...\u001b[0m                                                   \n"
      ]
     },
     "metadata": {},
     "output_type": "display_data"
    },
    {
     "data": {
      "text/html": [
       "<pre style=\"white-space:pre;overflow-x:auto;line-height:normal;font-family:Menlo,'DejaVu Sans Mono',consolas,'Courier New',monospace\"><span style=\"color: #7fbfbf; text-decoration-color: #7fbfbf\">           </span>New file to index: <span style=\"color: #008080; text-decoration-color: #008080; font-weight: bold\">10.</span>1002slct.<span style=\"color: #008080; text-decoration-color: #008080; font-weight: bold\">201801398.</span>pdf<span style=\"color: #808000; text-decoration-color: #808000\">...</span>                                                         \n",
       "</pre>\n"
      ],
      "text/plain": [
       "\u001b[2;36m          \u001b[0m\u001b[2;36m \u001b[0mNew file to index: \u001b[1;36m10.\u001b[0m1002slct.\u001b[1;36m201801398.\u001b[0mpdf\u001b[33m...\u001b[0m                                                         \n"
      ]
     },
     "metadata": {},
     "output_type": "display_data"
    },
    {
     "data": {
      "text/html": [
       "<pre style=\"white-space:pre;overflow-x:auto;line-height:normal;font-family:Menlo,'DejaVu Sans Mono',consolas,'Courier New',monospace\"><span style=\"color: #7fbfbf; text-decoration-color: #7fbfbf\">[21:38:08] </span>New file to index: paci_1999_fibronectin_1fnf.pdf<span style=\"color: #808000; text-decoration-color: #808000\">...</span>                                                    \n",
       "</pre>\n"
      ],
      "text/plain": [
       "\u001b[2;36m[21:38:08]\u001b[0m\u001b[2;36m \u001b[0mNew file to index: paci_1999_fibronectin_1fnf.pdf\u001b[33m...\u001b[0m                                                    \n"
      ]
     },
     "metadata": {},
     "output_type": "display_data"
    },
    {
     "data": {
      "text/html": [
       "<pre style=\"white-space:pre;overflow-x:auto;line-height:normal;font-family:Menlo,'DejaVu Sans Mono',consolas,'Courier New',monospace\"><span style=\"color: #7fbfbf; text-decoration-color: #7fbfbf\">           </span>New file to index: gee_2008_fibronectin_1fnf.pdf<span style=\"color: #808000; text-decoration-color: #808000\">...</span>                                                     \n",
       "</pre>\n"
      ],
      "text/plain": [
       "\u001b[2;36m          \u001b[0m\u001b[2;36m \u001b[0mNew file to index: gee_2008_fibronectin_1fnf.pdf\u001b[33m...\u001b[0m                                                     \n"
      ]
     },
     "metadata": {},
     "output_type": "display_data"
    },
    {
     "data": {
      "text/html": [
       "<pre style=\"white-space:pre;overflow-x:auto;line-height:normal;font-family:Menlo,'DejaVu Sans Mono',consolas,'Courier New',monospace\"><span style=\"color: #7fbfbf; text-decoration-color: #7fbfbf\">           </span>New file to index: hage_2018_hemoglobin_sim.pdf<span style=\"color: #808000; text-decoration-color: #808000\">...</span>                                                      \n",
       "</pre>\n"
      ],
      "text/plain": [
       "\u001b[2;36m          \u001b[0m\u001b[2;36m \u001b[0mNew file to index: hage_2018_hemoglobin_sim.pdf\u001b[33m...\u001b[0m                                                      \n"
      ]
     },
     "metadata": {},
     "output_type": "display_data"
    },
    {
     "data": {
      "text/html": [
       "<pre style=\"white-space:pre;overflow-x:auto;line-height:normal;font-family:Menlo,'DejaVu Sans Mono',consolas,'Courier New',monospace\"><span style=\"color: #7fbfbf; text-decoration-color: #7fbfbf\">           </span>New file to index: dunkelberger-et-al-2018_hemoglobin.pdf<span style=\"color: #808000; text-decoration-color: #808000\">...</span>                                            \n",
       "</pre>\n"
      ],
      "text/plain": [
       "\u001b[2;36m          \u001b[0m\u001b[2;36m \u001b[0mNew file to index: dunkelberger-et-al-2018_hemoglobin.pdf\u001b[33m...\u001b[0m                                            \n"
      ]
     },
     "metadata": {},
     "output_type": "display_data"
    },
    {
     "data": {
      "text/html": [
       "<pre style=\"white-space:pre;overflow-x:auto;line-height:normal;font-family:Menlo,'DejaVu Sans Mono',consolas,'Courier New',monospace\"><span style=\"color: #7fbfbf; text-decoration-color: #7fbfbf\">           </span>New file to index: liao_2014_fibronectin_sim.pdf<span style=\"color: #808000; text-decoration-color: #808000\">...</span>                                                     \n",
       "</pre>\n"
      ],
      "text/plain": [
       "\u001b[2;36m          \u001b[0m\u001b[2;36m \u001b[0mNew file to index: liao_2014_fibronectin_sim.pdf\u001b[33m...\u001b[0m                                                     \n"
      ]
     },
     "metadata": {},
     "output_type": "display_data"
    },
    {
     "data": {
      "text/html": [
       "<pre style=\"white-space:pre;overflow-x:auto;line-height:normal;font-family:Menlo,'DejaVu Sans Mono',consolas,'Courier New',monospace\"><span style=\"color: #7fbfbf; text-decoration-color: #7fbfbf\">           </span>New file to index: lucas_2012_hemoglobin_sim_SI.pdf<span style=\"color: #808000; text-decoration-color: #808000\">...</span>                                                  \n",
       "</pre>\n"
      ],
      "text/plain": [
       "\u001b[2;36m          \u001b[0m\u001b[2;36m \u001b[0mNew file to index: lucas_2012_hemoglobin_sim_SI.pdf\u001b[33m...\u001b[0m                                                  \n"
      ]
     },
     "metadata": {},
     "output_type": "display_data"
    },
    {
     "data": {
      "text/html": [
       "<pre style=\"white-space:pre;overflow-x:auto;line-height:normal;font-family:Menlo,'DejaVu Sans Mono',consolas,'Courier New',monospace\"><span style=\"color: #7fbfbf; text-decoration-color: #7fbfbf\">           </span>New file to index: hao_2021_fibronectin.pdf<span style=\"color: #808000; text-decoration-color: #808000\">...</span>                                                          \n",
       "</pre>\n"
      ],
      "text/plain": [
       "\u001b[2;36m          \u001b[0m\u001b[2;36m \u001b[0mNew file to index: hao_2021_fibronectin.pdf\u001b[33m...\u001b[0m                                                          \n"
      ]
     },
     "metadata": {},
     "output_type": "display_data"
    },
    {
     "data": {
      "text/html": [
       "<pre style=\"white-space:pre;overflow-x:auto;line-height:normal;font-family:Menlo,'DejaVu Sans Mono',consolas,'Courier New',monospace\"><span style=\"color: #7fbfbf; text-decoration-color: #7fbfbf\">           </span>New file to index: mace_docs_2024.pdf<span style=\"color: #808000; text-decoration-color: #808000\">...</span>                                                                \n",
       "</pre>\n"
      ],
      "text/plain": [
       "\u001b[2;36m          \u001b[0m\u001b[2;36m \u001b[0mNew file to index: mace_docs_2024.pdf\u001b[33m...\u001b[0m                                                                \n"
      ]
     },
     "metadata": {},
     "output_type": "display_data"
    },
    {
     "data": {
      "text/html": [
       "<pre style=\"white-space:pre;overflow-x:auto;line-height:normal;font-family:Menlo,'DejaVu Sans Mono',consolas,'Courier New',monospace\"><span style=\"color: #7fbfbf; text-decoration-color: #7fbfbf\">           </span>New file to index: lucas_2012_hemoglobin_sim.pdf<span style=\"color: #808000; text-decoration-color: #808000\">...</span>                                                     \n",
       "</pre>\n"
      ],
      "text/plain": [
       "\u001b[2;36m          \u001b[0m\u001b[2;36m \u001b[0mNew file to index: lucas_2012_hemoglobin_sim.pdf\u001b[33m...\u001b[0m                                                     \n"
      ]
     },
     "metadata": {},
     "output_type": "display_data"
    },
    {
     "data": {
      "text/html": [
       "<pre style=\"white-space:pre;overflow-x:auto;line-height:normal;font-family:Menlo,'DejaVu Sans Mono',consolas,'Courier New',monospace\"><span style=\"color: #7fbfbf; text-decoration-color: #7fbfbf\">           </span>Metadata not found for Dissecting Structural Aspects of Protein Stability in CrossrefProvider.          \n",
       "</pre>\n"
      ],
      "text/plain": [
       "\u001b[2;36m          \u001b[0m\u001b[2;36m \u001b[0mMetadata not found for Dissecting Structural Aspects of Protein Stability in CrossrefProvider.          \n"
      ]
     },
     "metadata": {},
     "output_type": "display_data"
    },
    {
     "data": {
      "text/html": [
       "<pre style=\"white-space:pre;overflow-x:auto;line-height:normal;font-family:Menlo,'DejaVu Sans Mono',consolas,'Courier New',monospace\"><span style=\"color: #7fbfbf; text-decoration-color: #7fbfbf\">           </span>Request to CrossrefProvider for Oxygen Delivery from Red Cells timed out.                               \n",
       "</pre>\n"
      ],
      "text/plain": [
       "\u001b[2;36m          \u001b[0m\u001b[2;36m \u001b[0mRequest to CrossrefProvider for Oxygen Delivery from Red Cells timed out.                               \n"
      ]
     },
     "metadata": {},
     "output_type": "display_data"
    },
    {
     "data": {
      "text/html": [
       "<pre style=\"white-space:pre;overflow-x:auto;line-height:normal;font-family:Menlo,'DejaVu Sans Mono',consolas,'Courier New',monospace\"><span style=\"color: #7fbfbf; text-decoration-color: #7fbfbf\">           </span>New file to index: raffaini-ganazzoli-<span style=\"color: #008080; text-decoration-color: #008080; font-weight: bold\">2004</span>-fibronectin_sim.pdf<span style=\"color: #808000; text-decoration-color: #808000\">...</span>                                       \n",
       "</pre>\n"
      ],
      "text/plain": [
       "\u001b[2;36m          \u001b[0m\u001b[2;36m \u001b[0mNew file to index: raffaini-ganazzoli-\u001b[1;36m2004\u001b[0m-fibronectin_sim.pdf\u001b[33m...\u001b[0m                                       \n"
      ]
     },
     "metadata": {},
     "output_type": "display_data"
    },
    {
     "name": "stderr",
     "output_type": "stream",
     "text": [
      "Unclosed client session\n",
      "client_session: <aiohttp.client.ClientSession object at 0x2b48e83f79b0>\n"
     ]
    },
    {
     "name": "stderr",
     "output_type": "stream",
     "text": [
      "Unclosed connector\n",
      "connections: ['[(<aiohttp.client_proto.ResponseHandler object at 0x2b48e5aff170>, 2938744.447457049)]']\n",
      "connector: <aiohttp.connector.TCPConnector object at 0x2b48e83f7860>\n"
     ]
    },
    {
     "name": "stderr",
     "output_type": "stream",
     "text": [
      "Unclosed client session\n",
      "client_session: <aiohttp.client.ClientSession object at 0x2b49458e6540>\n"
     ]
    },
    {
     "name": "stderr",
     "output_type": "stream",
     "text": [
      "Unclosed connector\n",
      "connections: ['[(<aiohttp.client_proto.ResponseHandler object at 0x2b48e5c347d0>, 2938744.451349185)]']\n",
      "connector: <aiohttp.connector.TCPConnector object at 0x2b49458e5340>\n"
     ]
    },
    {
     "name": "stderr",
     "output_type": "stream",
     "text": [
      "Unclosed client session\n",
      "client_session: <aiohttp.client.ClientSession object at 0x2b48e85f1e50>\n"
     ]
    },
    {
     "name": "stderr",
     "output_type": "stream",
     "text": [
      "Unclosed connector\n",
      "connections: ['[(<aiohttp.client_proto.ResponseHandler object at 0x2b48e5cb2930>, 2938744.587448463)]']\n",
      "connector: <aiohttp.connector.TCPConnector object at 0x2b48e85f1e20>\n"
     ]
    },
    {
     "name": "stderr",
     "output_type": "stream",
     "text": [
      "Unclosed client session\n",
      "client_session: <aiohttp.client.ClientSession object at 0x2b48e84e7230>\n"
     ]
    },
    {
     "name": "stderr",
     "output_type": "stream",
     "text": [
      "Unclosed connector\n",
      "connections: ['[(<aiohttp.client_proto.ResponseHandler object at 0x2b48e5c35610>, 2938744.523834155)]']\n",
      "connector: <aiohttp.connector.TCPConnector object at 0x2b49458c7f50>\n"
     ]
    },
    {
     "name": "stderr",
     "output_type": "stream",
     "text": [
      "Unclosed client session\n",
      "client_session: <aiohttp.client.ClientSession object at 0x2b48e8692840>\n"
     ]
    },
    {
     "name": "stderr",
     "output_type": "stream",
     "text": [
      "Unclosed client session\n",
      "client_session: <aiohttp.client.ClientSession object at 0x2b48e820f920>\n"
     ]
    },
    {
     "name": "stderr",
     "output_type": "stream",
     "text": [
      "Unclosed client session\n",
      "client_session: <aiohttp.client.ClientSession object at 0x2b48e85956a0>\n"
     ]
    },
    {
     "name": "stderr",
     "output_type": "stream",
     "text": [
      "Unclosed client session\n",
      "client_session: <aiohttp.client.ClientSession object at 0x2b48e8523c50>\n"
     ]
    },
    {
     "name": "stderr",
     "output_type": "stream",
     "text": [
      "Unclosed client session\n",
      "client_session: <aiohttp.client.ClientSession object at 0x2b48e84d1850>\n"
     ]
    },
    {
     "name": "stderr",
     "output_type": "stream",
     "text": [
      "Unclosed client session\n",
      "client_session: <aiohttp.client.ClientSession object at 0x2b48e81d05c0>\n"
     ]
    },
    {
     "name": "stderr",
     "output_type": "stream",
     "text": [
      "Unclosed client session\n",
      "client_session: <aiohttp.client.ClientSession object at 0x2b48e84ab6e0>\n"
     ]
    },
    {
     "name": "stderr",
     "output_type": "stream",
     "text": [
      "Unclosed client session\n",
      "client_session: <aiohttp.client.ClientSession object at 0x2b48e83d6690>\n"
     ]
    },
    {
     "name": "stderr",
     "output_type": "stream",
     "text": [
      "Unclosed client session\n",
      "client_session: <aiohttp.client.ClientSession object at 0x2b49458c68a0>\n"
     ]
    },
    {
     "name": "stderr",
     "output_type": "stream",
     "text": [
      "Unclosed client session\n",
      "client_session: <aiohttp.client.ClientSession object at 0x2b48e7d13920>\n"
     ]
    },
    {
     "name": "stderr",
     "output_type": "stream",
     "text": [
      "Unclosed client session\n",
      "client_session: <aiohttp.client.ClientSession object at 0x2b48e8253410>\n"
     ]
    },
    {
     "name": "stderr",
     "output_type": "stream",
     "text": [
      "Unclosed client session\n",
      "client_session: <aiohttp.client.ClientSession object at 0x2b48e81aaff0>\n"
     ]
    },
    {
     "name": "stderr",
     "output_type": "stream",
     "text": [
      "Unclosed connector\n",
      "connections: ['[(<aiohttp.client_proto.ResponseHandler object at 0x2b4945b50230>, 2938744.643087533)]']\n",
      "connector: <aiohttp.connector.TCPConnector object at 0x2b48e85238f0>\n"
     ]
    },
    {
     "name": "stderr",
     "output_type": "stream",
     "text": [
      "Unclosed connector\n",
      "connections: ['[(<aiohttp.client_proto.ResponseHandler object at 0x2b4945b53a10>, 2938744.539156163)]']\n",
      "connector: <aiohttp.connector.TCPConnector object at 0x2b4945b125a0>\n"
     ]
    },
    {
     "name": "stderr",
     "output_type": "stream",
     "text": [
      "Unclosed connector\n",
      "connections: ['[(<aiohttp.client_proto.ResponseHandler object at 0x2b48e5c8ce90>, 2938744.585660589)]']\n",
      "connector: <aiohttp.connector.TCPConnector object at 0x2b48e83d66c0>\n"
     ]
    },
    {
     "name": "stderr",
     "output_type": "stream",
     "text": [
      "Unclosed connector\n",
      "connections: ['[(<aiohttp.client_proto.ResponseHandler object at 0x2b4945b53b30>, 2938744.611925375)]']\n",
      "connector: <aiohttp.connector.TCPConnector object at 0x2b4945815b20>\n"
     ]
    },
    {
     "name": "stderr",
     "output_type": "stream",
     "text": [
      "Unclosed connector\n",
      "connections: ['[(<aiohttp.client_proto.ResponseHandler object at 0x2b4945b51f10>, 2938744.304378161)]']\n",
      "connector: <aiohttp.connector.TCPConnector object at 0x2b48e84d3350>\n"
     ]
    },
    {
     "name": "stderr",
     "output_type": "stream",
     "text": [
      "Unclosed client session\n",
      "client_session: <aiohttp.client.ClientSession object at 0x2b4945b2ac00>\n"
     ]
    },
    {
     "name": "stderr",
     "output_type": "stream",
     "text": [
      "Unclosed connector\n",
      "connections: ['[(<aiohttp.client_proto.ResponseHandler object at 0x2b4945b84950>, 2938744.651821557)]']\n",
      "connector: <aiohttp.connector.TCPConnector object at 0x2b4945817a70>\n"
     ]
    },
    {
     "name": "stderr",
     "output_type": "stream",
     "text": [
      "Unclosed client session\n",
      "client_session: <aiohttp.client.ClientSession object at 0x2b4946edda60>\n"
     ]
    },
    {
     "name": "stderr",
     "output_type": "stream",
     "text": [
      "Unclosed connector\n",
      "connections: ['[(<aiohttp.client_proto.ResponseHandler object at 0x2b49b80123f0>, 2938749.145610754)]']\n",
      "connector: <aiohttp.connector.TCPConnector object at 0x2b49b800d520>\n"
     ]
    },
    {
     "name": "stderr",
     "output_type": "stream",
     "text": [
      "Unclosed client session\n",
      "client_session: <aiohttp.client.ClientSession object at 0x2b4946a65910>\n"
     ]
    },
    {
     "data": {
      "text/html": [
       "<pre style=\"white-space:pre;overflow-x:auto;line-height:normal;font-family:Menlo,'DejaVu Sans Mono',consolas,'Courier New',monospace\"><span style=\"color: #7fbfbf; text-decoration-color: #7fbfbf\">[21:38:10] </span>SEMANTIC_SCHOLAR_API_KEY environment variable not set. Semantic Scholar API rate limits may apply.      \n",
       "</pre>\n"
      ],
      "text/plain": [
       "\u001b[2;36m[21:38:10]\u001b[0m\u001b[2;36m \u001b[0mSEMANTIC_SCHOLAR_API_KEY environment variable not set. Semantic Scholar API rate limits may apply.      \n"
      ]
     },
     "metadata": {},
     "output_type": "display_data"
    },
    {
     "data": {
      "text/html": [
       "<pre style=\"white-space:pre;overflow-x:auto;line-height:normal;font-family:Menlo,'DejaVu Sans Mono',consolas,'Courier New',monospace\"><span style=\"color: #7fbfbf; text-decoration-color: #7fbfbf\">           </span>SEMANTIC_SCHOLAR_API_KEY environment variable not set. Semantic Scholar API rate limits may apply.      \n",
       "</pre>\n"
      ],
      "text/plain": [
       "\u001b[2;36m          \u001b[0m\u001b[2;36m \u001b[0mSEMANTIC_SCHOLAR_API_KEY environment variable not set. Semantic Scholar API rate limits may apply.      \n"
      ]
     },
     "metadata": {},
     "output_type": "display_data"
    },
    {
     "name": "stderr",
     "output_type": "stream",
     "text": [
      "Failed to execute tool call for tool paper_search.\n",
      "Traceback (most recent call last):\n",
      "  File \"/scratch/qcampbe2/myenvs/mdcrow/lib/python3.12/site-packages/aviary/env.py\", line 197, in _exec_tool_call\n",
      "    content = await tool._tool_fn(\n",
      "              ^^^^^^^^^^^^^^^^^^^^\n",
      "  File \"/scratch/qcampbe2/myenvs/mdcrow/lib/python3.12/site-packages/paperqa/agents/tools.py\", line 127, in paper_search\n",
      "    index = await get_directory_index(settings=self.settings)\n",
      "            ^^^^^^^^^^^^^^^^^^^^^^^^^^^^^^^^^^^^^^^^^^^^^^^^^\n",
      "  File \"/scratch/qcampbe2/myenvs/mdcrow/lib/python3.12/site-packages/paperqa/agents/search.py\", line 481, in get_directory_index\n",
      "    async with anyio.create_task_group() as tg:\n",
      "  File \"/scratch/qcampbe2/myenvs/mdcrow/lib/python3.12/site-packages/anyio/_backends/_asyncio.py\", line 597, in __aexit__\n",
      "    raise exceptions[0]\n",
      "  File \"/scratch/qcampbe2/myenvs/mdcrow/lib/python3.12/asyncio/tasks.py\", line 316, in __step_run_and_handle_result\n",
      "    result = coro.throw(exc)\n",
      "             ^^^^^^^^^^^^^^^\n",
      "  File \"/scratch/qcampbe2/myenvs/mdcrow/lib/python3.12/site-packages/paperqa/agents/search.py\", line 377, in process_file\n",
      "    await tmp_docs.aadd(\n",
      "  File \"/scratch/qcampbe2/myenvs/mdcrow/lib/python3.12/site-packages/paperqa/docs.py\", line 346, in aadd\n",
      "    doc = await metadata_client.upgrade_doc_to_doc_details(\n",
      "          ^^^^^^^^^^^^^^^^^^^^^^^^^^^^^^^^^^^^^^^^^^^^^^^^^\n",
      "  File \"/scratch/qcampbe2/myenvs/mdcrow/lib/python3.12/site-packages/paperqa/clients/__init__.py\", line 202, in upgrade_doc_to_doc_details\n",
      "    if doc_details := await self.query(**kwargs):\n",
      "                      ^^^^^^^^^^^^^^^^^^^^^^^^^^\n",
      "  File \"/scratch/qcampbe2/myenvs/mdcrow/lib/python3.12/site-packages/paperqa/clients/__init__.py\", line 150, in query\n",
      "    await gather_with_concurrency(\n",
      "  File \"/scratch/qcampbe2/myenvs/mdcrow/lib/python3.12/site-packages/paperqa/utils.py\", line 111, in gather_with_concurrency\n",
      "    return await asyncio.gather(*(sem_coro(c) for c in coros))\n",
      "           ^^^^^^^^^^^^^^^^^^^^^^^^^^^^^^^^^^^^^^^^^^^^^^^^^^^\n",
      "  File \"/scratch/qcampbe2/myenvs/mdcrow/lib/python3.12/asyncio/tasks.py\", line 385, in __wakeup\n",
      "    future.result()\n",
      "  File \"/scratch/qcampbe2/myenvs/mdcrow/lib/python3.12/asyncio/tasks.py\", line 314, in __step_run_and_handle_result\n",
      "    result = coro.send(None)\n",
      "             ^^^^^^^^^^^^^^^\n",
      "  File \"/scratch/qcampbe2/myenvs/mdcrow/lib/python3.12/site-packages/paperqa/utils.py\", line 109, in sem_coro\n",
      "    return await coro\n",
      "           ^^^^^^^^^^\n",
      "  File \"/scratch/qcampbe2/myenvs/mdcrow/lib/python3.12/site-packages/paperqa/clients/client_models.py\", line 108, in query\n",
      "    return await self._query(client_query)\n",
      "           ^^^^^^^^^^^^^^^^^^^^^^^^^^^^^^^\n",
      "  File \"/scratch/qcampbe2/myenvs/mdcrow/lib/python3.12/site-packages/paperqa/clients/semantic_scholar.py\", line 321, in _query\n",
      "    return await get_s2_doc_details_from_title(\n",
      "           ^^^^^^^^^^^^^^^^^^^^^^^^^^^^^^^^^^^^\n",
      "  File \"/scratch/qcampbe2/myenvs/mdcrow/lib/python3.12/site-packages/paperqa/clients/semantic_scholar.py\", line 306, in get_s2_doc_details_from_title\n",
      "    return await s2_title_search(\n",
      "           ^^^^^^^^^^^^^^^^^^^^^^\n",
      "  File \"/scratch/qcampbe2/myenvs/mdcrow/lib/python3.12/site-packages/paperqa/clients/semantic_scholar.py\", line 218, in s2_title_search\n",
      "    data = await _get_with_retrying(\n",
      "           ^^^^^^^^^^^^^^^^^^^^^^^^^\n",
      "  File \"/scratch/qcampbe2/myenvs/mdcrow/lib/python3.12/site-packages/tenacity/asyncio/__init__.py\", line 189, in async_wrapped\n",
      "    return await copy(fn, *args, **kwargs)\n",
      "           ^^^^^^^^^^^^^^^^^^^^^^^^^^^^^^^\n",
      "  File \"/scratch/qcampbe2/myenvs/mdcrow/lib/python3.12/site-packages/tenacity/asyncio/__init__.py\", line 111, in __call__\n",
      "    do = await self.iter(retry_state=retry_state)\n",
      "         ^^^^^^^^^^^^^^^^^^^^^^^^^^^^^^^^^^^^^^^^\n",
      "  File \"/scratch/qcampbe2/myenvs/mdcrow/lib/python3.12/site-packages/tenacity/asyncio/__init__.py\", line 153, in iter\n",
      "    result = await action(retry_state)\n",
      "             ^^^^^^^^^^^^^^^^^^^^^^^^^\n",
      "  File \"/scratch/qcampbe2/myenvs/mdcrow/lib/python3.12/site-packages/tenacity/_utils.py\", line 99, in inner\n",
      "    return call(*args, **kwargs)\n",
      "           ^^^^^^^^^^^^^^^^^^^^^\n",
      "  File \"/scratch/qcampbe2/myenvs/mdcrow/lib/python3.12/site-packages/tenacity/__init__.py\", line 398, in <lambda>\n",
      "    self._add_action_func(lambda rs: rs.outcome.result())\n",
      "                                     ^^^^^^^^^^^^^^^^^^^\n",
      "  File \"/scratch/qcampbe2/myenvs/mdcrow/lib/python3.12/concurrent/futures/_base.py\", line 449, in result\n",
      "    return self.__get_result()\n",
      "           ^^^^^^^^^^^^^^^^^^^\n",
      "  File \"/scratch/qcampbe2/myenvs/mdcrow/lib/python3.12/concurrent/futures/_base.py\", line 401, in __get_result\n",
      "    raise self._exception\n",
      "  File \"/scratch/qcampbe2/myenvs/mdcrow/lib/python3.12/site-packages/tenacity/asyncio/__init__.py\", line 114, in __call__\n",
      "    result = await fn(*args, **kwargs)\n",
      "             ^^^^^^^^^^^^^^^^^^^^^^^^^\n",
      "  File \"/scratch/qcampbe2/myenvs/mdcrow/lib/python3.12/site-packages/paperqa/utils.py\", line 419, in _get_with_retrying\n",
      "    response.raise_for_status()\n",
      "  File \"/scratch/qcampbe2/myenvs/mdcrow/lib/python3.12/site-packages/aiohttp/client_reqrep.py\", line 1070, in raise_for_status\n",
      "    raise ClientResponseError(\n",
      "aiohttp.client_exceptions.ClientResponseError: 429, message='', url=URL('https://api.semanticscholar.org/graph/v1/paper/search/match?query=Dissecting+Structural+Aspects+of+Protein+Stability&fields=authors,externalIds,journal,title,year')\n"
     ]
    },
    {
     "name": "stderr",
     "output_type": "stream",
     "text": [
      "Failed to execute tool call for tool gather_evidence.\n",
      "Traceback (most recent call last):\n",
      "  File \"/scratch/qcampbe2/myenvs/mdcrow/lib/python3.12/site-packages/aviary/env.py\", line 197, in _exec_tool_call\n",
      "    content = await tool._tool_fn(\n",
      "              ^^^^^^^^^^^^^^^^^^^^\n",
      "  File \"/scratch/qcampbe2/myenvs/mdcrow/lib/python3.12/site-packages/paperqa/agents/tools.py\", line 188, in gather_evidence\n",
      "    raise EmptyDocsError(\"Not gathering evidence due to having no papers.\")\n",
      "paperqa.agents.tools.EmptyDocsError: Not gathering evidence due to having no papers.\n"
     ]
    },
    {
     "data": {
      "text/html": [
       "<pre style=\"white-space:pre;overflow-x:auto;line-height:normal;font-family:Menlo,'DejaVu Sans Mono',consolas,'Courier New',monospace\"><span style=\"color: #7fbfbf; text-decoration-color: #7fbfbf\">           </span>Generating answer for <span style=\"color: #008000; text-decoration-color: #008000\">'optimal temperature for fibronectin simulation'</span>.                                 \n",
       "</pre>\n"
      ],
      "text/plain": [
       "\u001b[2;36m          \u001b[0m\u001b[2;36m \u001b[0mGenerating answer for \u001b[32m'optimal temperature for fibronectin simulation'\u001b[0m.                                 \n"
      ]
     },
     "metadata": {},
     "output_type": "display_data"
    },
    {
     "data": {
      "text/html": [
       "<pre style=\"white-space:pre;overflow-x:auto;line-height:normal;font-family:Menlo,'DejaVu Sans Mono',consolas,'Courier New',monospace\"><span style=\"color: #7fbfbf; text-decoration-color: #7fbfbf\">           </span>Status: Paper <span style=\"color: #808000; text-decoration-color: #808000\">Count</span>=<span style=\"color: #008080; text-decoration-color: #008080; font-weight: bold\">0</span> | Relevant <span style=\"color: #808000; text-decoration-color: #808000\">Papers</span>=<span style=\"color: #008080; text-decoration-color: #008080; font-weight: bold\">0</span> | Current <span style=\"color: #808000; text-decoration-color: #808000\">Evidence</span>=<span style=\"color: #008080; text-decoration-color: #008080; font-weight: bold\">0</span> | Current <span style=\"color: #808000; text-decoration-color: #808000\">Cost</span>=$<span style=\"color: #008080; text-decoration-color: #008080; font-weight: bold\">0.0006</span>                   \n",
       "</pre>\n"
      ],
      "text/plain": [
       "\u001b[2;36m          \u001b[0m\u001b[2;36m \u001b[0mStatus: Paper \u001b[33mCount\u001b[0m=\u001b[1;36m0\u001b[0m | Relevant \u001b[33mPapers\u001b[0m=\u001b[1;36m0\u001b[0m | Current \u001b[33mEvidence\u001b[0m=\u001b[1;36m0\u001b[0m | Current \u001b[33mCost\u001b[0m=$\u001b[1;36m0.0006\u001b[0m                   \n"
      ]
     },
     "metadata": {},
     "output_type": "display_data"
    },
    {
     "data": {
      "text/html": [
       "<pre style=\"white-space:pre;overflow-x:auto;line-height:normal;font-family:Menlo,'DejaVu Sans Mono',consolas,'Courier New',monospace\"><span style=\"color: #7fbfbf; text-decoration-color: #7fbfbf\">           </span><span style=\"color: #000080; text-decoration-color: #000080; font-weight: bold\">Answer: I cannot answer.</span>                                                                                \n",
       "</pre>\n"
      ],
      "text/plain": [
       "\u001b[2;36m          \u001b[0m\u001b[2;36m \u001b[0m\u001b[1;34mAnswer: I cannot answer.\u001b[0m                                                                                \n"
      ]
     },
     "metadata": {},
     "output_type": "display_data"
    },
    {
     "data": {
      "text/html": [
       "<pre style=\"white-space:pre;overflow-x:auto;line-height:normal;font-family:Menlo,'DejaVu Sans Mono',consolas,'Courier New',monospace\"><span style=\"color: #7fbfbf; text-decoration-color: #7fbfbf\">[21:38:35] </span>Request to CrossrefProvider for Dissecting Structural Aspects of Protein Stability timed out.           \n",
       "</pre>\n"
      ],
      "text/plain": [
       "\u001b[2;36m[21:38:35]\u001b[0m\u001b[2;36m \u001b[0mRequest to CrossrefProvider for Dissecting Structural Aspects of Protein Stability timed out.           \n"
      ]
     },
     "metadata": {},
     "output_type": "display_data"
    },
    {
     "name": "stdout",
     "output_type": "stream",
     "text": [
      "Question: optimal temperature for fibronectin simulation\n",
      "\n",
      "I cannot answer.\n",
      " Check to ensure there's papers in /gpfs/fs2/scratch/qcampbe2/repos/md-agent_gpt_params/notebooks/experiments/experiment_k1/llama-v3p1-70b-instruct/paper_collection\n"
     ]
    },
    {
     "name": "stdout",
     "output_type": "stream",
     "text": [
      "Thought:"
     ]
    },
    {
     "name": "stdout",
     "output_type": "stream",
     "text": [
      " The literature search did"
     ]
    },
    {
     "name": "stdout",
     "output_type": "stream",
     "text": [
      " not provide an optimal temperature for the simulation"
     ]
    },
    {
     "name": "stdout",
     "output_type": "stream",
     "text": [
      ". I will try to"
     ]
    },
    {
     "name": "stdout",
     "output_type": "stream",
     "text": [
      " find a suitable temperature range for"
     ]
    },
    {
     "name": "stdout",
     "output_type": "stream",
     "text": [
      " fibronectin simulation by searching"
     ]
    },
    {
     "name": "stdout",
     "output_type": "stream",
     "text": [
      " the literature again.\n",
      "\n",
      "Action:\n",
      "```\n",
      "{\n",
      "  \"action"
     ]
    },
    {
     "name": "stdout",
     "output_type": "stream",
     "text": [
      "\": \"LiteratureSearch\",\n",
      "  \"action_input\": \""
     ]
    },
    {
     "name": "stdout",
     "output_type": "stream",
     "text": [
      "temperature range for fibronectin simulation"
     ]
    },
    {
     "name": "stdout",
     "output_type": "stream",
     "text": [
      "\"\n",
      "}\n",
      "```\n"
     ]
    },
    {
     "name": "stdout",
     "output_type": "stream",
     "text": [
      "Paper Directory /gpfs/fs2/scratch/qcampbe2/repos/md-agent_gpt_params/notebooks/experiments/experiment_k1/llama-v3p1-70b-instruct/paper_collection\n"
     ]
    },
    {
     "name": "stderr",
     "output_type": "stream",
     "text": [
      "/scratch/qcampbe2/myenvs/mdcrow/lib/python3.12/site-packages/pydantic/main.py:364: UserWarning: Pydantic serializer warnings:\n",
      "  Expected `PromptTokensDetails` but got `dict` - serialized value may not be as expected\n",
      "  return self.__pydantic_serializer__.to_python(\n"
     ]
    },
    {
     "data": {
      "text/html": [
       "<pre style=\"white-space:pre;overflow-x:auto;line-height:normal;font-family:Menlo,'DejaVu Sans Mono',consolas,'Courier New',monospace\"><span style=\"color: #7fbfbf; text-decoration-color: #7fbfbf\">[21:38:37] </span>Starting paper search for <span style=\"color: #008000; text-decoration-color: #008000\">'fibronectin temperature simulation, 2010-2024  '</span>.                            \n",
       "</pre>\n"
      ],
      "text/plain": [
       "\u001b[2;36m[21:38:37]\u001b[0m\u001b[2;36m \u001b[0mStarting paper search for \u001b[32m'fibronectin temperature simulation, 2010-2024  '\u001b[0m.                            \n"
      ]
     },
     "metadata": {},
     "output_type": "display_data"
    },
    {
     "data": {
      "text/html": [
       "<pre style=\"white-space:pre;overflow-x:auto;line-height:normal;font-family:Menlo,'DejaVu Sans Mono',consolas,'Courier New',monospace\"><span style=\"color: #7fbfbf; text-decoration-color: #7fbfbf\">           </span>New file to index: bringas_2017_hemoglobin.pdf<span style=\"color: #808000; text-decoration-color: #808000\">...</span>                                                       \n",
       "</pre>\n"
      ],
      "text/plain": [
       "\u001b[2;36m          \u001b[0m\u001b[2;36m \u001b[0mNew file to index: bringas_2017_hemoglobin.pdf\u001b[33m...\u001b[0m                                                       \n"
      ]
     },
     "metadata": {},
     "output_type": "display_data"
    },
    {
     "data": {
      "text/html": [
       "<pre style=\"white-space:pre;overflow-x:auto;line-height:normal;font-family:Menlo,'DejaVu Sans Mono',consolas,'Courier New',monospace\"><span style=\"color: #7fbfbf; text-decoration-color: #7fbfbf\">           </span>New file to index: cong_2017_trypsin-ligand.pdf<span style=\"color: #808000; text-decoration-color: #808000\">...</span>                                                      \n",
       "</pre>\n"
      ],
      "text/plain": [
       "\u001b[2;36m          \u001b[0m\u001b[2;36m \u001b[0mNew file to index: cong_2017_trypsin-ligand.pdf\u001b[33m...\u001b[0m                                                      \n"
      ]
     },
     "metadata": {},
     "output_type": "display_data"
    },
    {
     "data": {
      "text/html": [
       "<pre style=\"white-space:pre;overflow-x:auto;line-height:normal;font-family:Menlo,'DejaVu Sans Mono',consolas,'Courier New',monospace\"><span style=\"color: #7fbfbf; text-decoration-color: #7fbfbf\">[21:38:38] </span>New file to index: Vittaladevaram_2023_fibronectin.pdf<span style=\"color: #808000; text-decoration-color: #808000\">...</span>                                               \n",
       "</pre>\n"
      ],
      "text/plain": [
       "\u001b[2;36m[21:38:38]\u001b[0m\u001b[2;36m \u001b[0mNew file to index: Vittaladevaram_2023_fibronectin.pdf\u001b[33m...\u001b[0m                                               \n"
      ]
     },
     "metadata": {},
     "output_type": "display_data"
    },
    {
     "data": {
      "text/html": [
       "<pre style=\"white-space:pre;overflow-x:auto;line-height:normal;font-family:Menlo,'DejaVu Sans Mono',consolas,'Courier New',monospace\"><span style=\"color: #7fbfbf; text-decoration-color: #7fbfbf\">           </span>New file to index: sahoo-<span style=\"color: #008080; text-decoration-color: #008080; font-weight: bold\">2019</span>-unfolding-dynamics-of-ubiquitin.pdf<span style=\"color: #808000; text-decoration-color: #808000\">...</span>                                    \n",
       "</pre>\n"
      ],
      "text/plain": [
       "\u001b[2;36m          \u001b[0m\u001b[2;36m \u001b[0mNew file to index: sahoo-\u001b[1;36m2019\u001b[0m-unfolding-dynamics-of-ubiquitin.pdf\u001b[33m...\u001b[0m                                    \n"
      ]
     },
     "metadata": {},
     "output_type": "display_data"
    },
    {
     "data": {
      "text/html": [
       "<pre style=\"white-space:pre;overflow-x:auto;line-height:normal;font-family:Menlo,'DejaVu Sans Mono',consolas,'Courier New',monospace\"><span style=\"color: #7fbfbf; text-decoration-color: #7fbfbf\">           </span>New file to index: oliveira_2021_b2m_2yxf.pdf<span style=\"color: #808000; text-decoration-color: #808000\">...</span>                                                        \n",
       "</pre>\n"
      ],
      "text/plain": [
       "\u001b[2;36m          \u001b[0m\u001b[2;36m \u001b[0mNew file to index: oliveira_2021_b2m_2yxf.pdf\u001b[33m...\u001b[0m                                                        \n"
      ]
     },
     "metadata": {},
     "output_type": "display_data"
    },
    {
     "data": {
      "text/html": [
       "<pre style=\"white-space:pre;overflow-x:auto;line-height:normal;font-family:Menlo,'DejaVu Sans Mono',consolas,'Courier New',monospace\"><span style=\"color: #7fbfbf; text-decoration-color: #7fbfbf\">           </span>New file to index: lemmon_2017_fibronectin.pdf<span style=\"color: #808000; text-decoration-color: #808000\">...</span>                                                       \n",
       "</pre>\n"
      ],
      "text/plain": [
       "\u001b[2;36m          \u001b[0m\u001b[2;36m \u001b[0mNew file to index: lemmon_2017_fibronectin.pdf\u001b[33m...\u001b[0m                                                       \n"
      ]
     },
     "metadata": {},
     "output_type": "display_data"
    },
    {
     "data": {
      "text/html": [
       "<pre style=\"white-space:pre;overflow-x:auto;line-height:normal;font-family:Menlo,'DejaVu Sans Mono',consolas,'Courier New',monospace\"><span style=\"color: #7fbfbf; text-decoration-color: #7fbfbf\">           </span>New file to index: liamas_2018_fibronectin_1fnf.pdf<span style=\"color: #808000; text-decoration-color: #808000\">...</span>                                                  \n",
       "</pre>\n"
      ],
      "text/plain": [
       "\u001b[2;36m          \u001b[0m\u001b[2;36m \u001b[0mNew file to index: liamas_2018_fibronectin_1fnf.pdf\u001b[33m...\u001b[0m                                                  \n"
      ]
     },
     "metadata": {},
     "output_type": "display_data"
    },
    {
     "data": {
      "text/html": [
       "<pre style=\"white-space:pre;overflow-x:auto;line-height:normal;font-family:Menlo,'DejaVu Sans Mono',consolas,'Courier New',monospace\"><span style=\"color: #7fbfbf; text-decoration-color: #7fbfbf\">           </span>New file to index: ganoth_2013_ubiquitin.pdf<span style=\"color: #808000; text-decoration-color: #808000\">...</span>                                                         \n",
       "</pre>\n"
      ],
      "text/plain": [
       "\u001b[2;36m          \u001b[0m\u001b[2;36m \u001b[0mNew file to index: ganoth_2013_ubiquitin.pdf\u001b[33m...\u001b[0m                                                         \n"
      ]
     },
     "metadata": {},
     "output_type": "display_data"
    },
    {
     "data": {
      "text/html": [
       "<pre style=\"white-space:pre;overflow-x:auto;line-height:normal;font-family:Menlo,'DejaVu Sans Mono',consolas,'Courier New',monospace\"><span style=\"color: #7fbfbf; text-decoration-color: #7fbfbf\">           </span>New file to index: morand_2021_b2m_2yxf.pdf<span style=\"color: #808000; text-decoration-color: #808000\">...</span>                                                          \n",
       "</pre>\n"
      ],
      "text/plain": [
       "\u001b[2;36m          \u001b[0m\u001b[2;36m \u001b[0mNew file to index: morand_2021_b2m_2yxf.pdf\u001b[33m...\u001b[0m                                                          \n"
      ]
     },
     "metadata": {},
     "output_type": "display_data"
    },
    {
     "data": {
      "text/html": [
       "<pre style=\"white-space:pre;overflow-x:auto;line-height:normal;font-family:Menlo,'DejaVu Sans Mono',consolas,'Courier New',monospace\"><span style=\"color: #7fbfbf; text-decoration-color: #7fbfbf\">[21:38:39] </span>New file to index: clark_1985_hemoglobin.pdf<span style=\"color: #808000; text-decoration-color: #808000\">...</span>                                                         \n",
       "</pre>\n"
      ],
      "text/plain": [
       "\u001b[2;36m[21:38:39]\u001b[0m\u001b[2;36m \u001b[0mNew file to index: clark_1985_hemoglobin.pdf\u001b[33m...\u001b[0m                                                         \n"
      ]
     },
     "metadata": {},
     "output_type": "display_data"
    },
    {
     "data": {
      "text/html": [
       "<pre style=\"white-space:pre;overflow-x:auto;line-height:normal;font-family:Menlo,'DejaVu Sans Mono',consolas,'Courier New',monospace\"><span style=\"color: #7fbfbf; text-decoration-color: #7fbfbf\">           </span>New file to index:                                                                                      \n",
       "<span style=\"color: #7fbfbf; text-decoration-color: #7fbfbf\">           </span>mshirts%2C+<span style=\"color: #008080; text-decoration-color: #008080; font-weight: bold\">5957</span>-best-practices-for-foundations-in-molecular-simulations-article-v1-<span style=\"color: #008080; text-decoration-color: #008080; font-weight: bold\">0</span>+%<span style=\"color: #008080; text-decoration-color: #008080; font-weight: bold\">281</span>%<span style=\"color: #008080; text-decoration-color: #008080; font-weight: bold\">29.</span>pdf<span style=\"color: #808000; text-decoration-color: #808000\">...</span>     \n",
       "</pre>\n"
      ],
      "text/plain": [
       "\u001b[2;36m          \u001b[0m\u001b[2;36m \u001b[0mNew file to index:                                                                                      \n",
       "\u001b[2;36m           \u001b[0mmshirts%2C+\u001b[1;36m5957\u001b[0m-best-practices-for-foundations-in-molecular-simulations-article-v1-\u001b[1;36m0\u001b[0m+%\u001b[1;36m281\u001b[0m%\u001b[1;36m29.\u001b[0mpdf\u001b[33m...\u001b[0m     \n"
      ]
     },
     "metadata": {},
     "output_type": "display_data"
    },
    {
     "data": {
      "text/html": [
       "<pre style=\"white-space:pre;overflow-x:auto;line-height:normal;font-family:Menlo,'DejaVu Sans Mono',consolas,'Courier New',monospace\"><span style=\"color: #7fbfbf; text-decoration-color: #7fbfbf\">           </span>New file to index: sala_2018_proteinstability.pdf<span style=\"color: #808000; text-decoration-color: #808000\">...</span>                                                    \n",
       "</pre>\n"
      ],
      "text/plain": [
       "\u001b[2;36m          \u001b[0m\u001b[2;36m \u001b[0mNew file to index: sala_2018_proteinstability.pdf\u001b[33m...\u001b[0m                                                    \n"
      ]
     },
     "metadata": {},
     "output_type": "display_data"
    },
    {
     "data": {
      "text/html": [
       "<pre style=\"white-space:pre;overflow-x:auto;line-height:normal;font-family:Menlo,'DejaVu Sans Mono',consolas,'Courier New',monospace\"><span style=\"color: #7fbfbf; text-decoration-color: #7fbfbf\">           </span>New file to index: hage_2018_hemoglobin_sim_SI.pdf<span style=\"color: #808000; text-decoration-color: #808000\">...</span>                                                   \n",
       "</pre>\n"
      ],
      "text/plain": [
       "\u001b[2;36m          \u001b[0m\u001b[2;36m \u001b[0mNew file to index: hage_2018_hemoglobin_sim_SI.pdf\u001b[33m...\u001b[0m                                                   \n"
      ]
     },
     "metadata": {},
     "output_type": "display_data"
    },
    {
     "data": {
      "text/html": [
       "<pre style=\"white-space:pre;overflow-x:auto;line-height:normal;font-family:Menlo,'DejaVu Sans Mono',consolas,'Courier New',monospace\"><span style=\"color: #7fbfbf; text-decoration-color: #7fbfbf\">           </span>New file to index: laberge_2008_hemoglobin_sim.pdf<span style=\"color: #808000; text-decoration-color: #808000\">...</span>                                                   \n",
       "</pre>\n"
      ],
      "text/plain": [
       "\u001b[2;36m          \u001b[0m\u001b[2;36m \u001b[0mNew file to index: laberge_2008_hemoglobin_sim.pdf\u001b[33m...\u001b[0m                                                   \n"
      ]
     },
     "metadata": {},
     "output_type": "display_data"
    },
    {
     "data": {
      "text/html": [
       "<pre style=\"white-space:pre;overflow-x:auto;line-height:normal;font-family:Menlo,'DejaVu Sans Mono',consolas,'Courier New',monospace\"><span style=\"color: #7fbfbf; text-decoration-color: #7fbfbf\">           </span>New file to index: <span style=\"color: #008080; text-decoration-color: #008080; font-weight: bold\">10.</span>1002slct.<span style=\"color: #008080; text-decoration-color: #008080; font-weight: bold\">201801398.</span>pdf<span style=\"color: #808000; text-decoration-color: #808000\">...</span>                                                         \n",
       "</pre>\n"
      ],
      "text/plain": [
       "\u001b[2;36m          \u001b[0m\u001b[2;36m \u001b[0mNew file to index: \u001b[1;36m10.\u001b[0m1002slct.\u001b[1;36m201801398.\u001b[0mpdf\u001b[33m...\u001b[0m                                                         \n"
      ]
     },
     "metadata": {},
     "output_type": "display_data"
    },
    {
     "data": {
      "text/html": [
       "<pre style=\"white-space:pre;overflow-x:auto;line-height:normal;font-family:Menlo,'DejaVu Sans Mono',consolas,'Courier New',monospace\"><span style=\"color: #7fbfbf; text-decoration-color: #7fbfbf\">           </span>New file to index: paci_1999_fibronectin_1fnf.pdf<span style=\"color: #808000; text-decoration-color: #808000\">...</span>                                                    \n",
       "</pre>\n"
      ],
      "text/plain": [
       "\u001b[2;36m          \u001b[0m\u001b[2;36m \u001b[0mNew file to index: paci_1999_fibronectin_1fnf.pdf\u001b[33m...\u001b[0m                                                    \n"
      ]
     },
     "metadata": {},
     "output_type": "display_data"
    },
    {
     "data": {
      "text/html": [
       "<pre style=\"white-space:pre;overflow-x:auto;line-height:normal;font-family:Menlo,'DejaVu Sans Mono',consolas,'Courier New',monospace\"><span style=\"color: #7fbfbf; text-decoration-color: #7fbfbf\">           </span>New file to index: gee_2008_fibronectin_1fnf.pdf<span style=\"color: #808000; text-decoration-color: #808000\">...</span>                                                     \n",
       "</pre>\n"
      ],
      "text/plain": [
       "\u001b[2;36m          \u001b[0m\u001b[2;36m \u001b[0mNew file to index: gee_2008_fibronectin_1fnf.pdf\u001b[33m...\u001b[0m                                                     \n"
      ]
     },
     "metadata": {},
     "output_type": "display_data"
    },
    {
     "data": {
      "text/html": [
       "<pre style=\"white-space:pre;overflow-x:auto;line-height:normal;font-family:Menlo,'DejaVu Sans Mono',consolas,'Courier New',monospace\"><span style=\"color: #7fbfbf; text-decoration-color: #7fbfbf\">[21:38:40] </span>New file to index: hage_2018_hemoglobin_sim.pdf<span style=\"color: #808000; text-decoration-color: #808000\">...</span>                                                      \n",
       "</pre>\n"
      ],
      "text/plain": [
       "\u001b[2;36m[21:38:40]\u001b[0m\u001b[2;36m \u001b[0mNew file to index: hage_2018_hemoglobin_sim.pdf\u001b[33m...\u001b[0m                                                      \n"
      ]
     },
     "metadata": {},
     "output_type": "display_data"
    },
    {
     "data": {
      "text/html": [
       "<pre style=\"white-space:pre;overflow-x:auto;line-height:normal;font-family:Menlo,'DejaVu Sans Mono',consolas,'Courier New',monospace\"><span style=\"color: #7fbfbf; text-decoration-color: #7fbfbf\">           </span>New file to index: dunkelberger-et-al-2018_hemoglobin.pdf<span style=\"color: #808000; text-decoration-color: #808000\">...</span>                                            \n",
       "</pre>\n"
      ],
      "text/plain": [
       "\u001b[2;36m          \u001b[0m\u001b[2;36m \u001b[0mNew file to index: dunkelberger-et-al-2018_hemoglobin.pdf\u001b[33m...\u001b[0m                                            \n"
      ]
     },
     "metadata": {},
     "output_type": "display_data"
    },
    {
     "data": {
      "text/html": [
       "<pre style=\"white-space:pre;overflow-x:auto;line-height:normal;font-family:Menlo,'DejaVu Sans Mono',consolas,'Courier New',monospace\"><span style=\"color: #7fbfbf; text-decoration-color: #7fbfbf\">           </span>New file to index: liao_2014_fibronectin_sim.pdf<span style=\"color: #808000; text-decoration-color: #808000\">...</span>                                                     \n",
       "</pre>\n"
      ],
      "text/plain": [
       "\u001b[2;36m          \u001b[0m\u001b[2;36m \u001b[0mNew file to index: liao_2014_fibronectin_sim.pdf\u001b[33m...\u001b[0m                                                     \n"
      ]
     },
     "metadata": {},
     "output_type": "display_data"
    },
    {
     "data": {
      "text/html": [
       "<pre style=\"white-space:pre;overflow-x:auto;line-height:normal;font-family:Menlo,'DejaVu Sans Mono',consolas,'Courier New',monospace\"><span style=\"color: #7fbfbf; text-decoration-color: #7fbfbf\">           </span>New file to index: lucas_2012_hemoglobin_sim_SI.pdf<span style=\"color: #808000; text-decoration-color: #808000\">...</span>                                                  \n",
       "</pre>\n"
      ],
      "text/plain": [
       "\u001b[2;36m          \u001b[0m\u001b[2;36m \u001b[0mNew file to index: lucas_2012_hemoglobin_sim_SI.pdf\u001b[33m...\u001b[0m                                                  \n"
      ]
     },
     "metadata": {},
     "output_type": "display_data"
    },
    {
     "data": {
      "text/html": [
       "<pre style=\"white-space:pre;overflow-x:auto;line-height:normal;font-family:Menlo,'DejaVu Sans Mono',consolas,'Courier New',monospace\"><span style=\"color: #7fbfbf; text-decoration-color: #7fbfbf\">           </span>New file to index: hao_2021_fibronectin.pdf<span style=\"color: #808000; text-decoration-color: #808000\">...</span>                                                          \n",
       "</pre>\n"
      ],
      "text/plain": [
       "\u001b[2;36m          \u001b[0m\u001b[2;36m \u001b[0mNew file to index: hao_2021_fibronectin.pdf\u001b[33m...\u001b[0m                                                          \n"
      ]
     },
     "metadata": {},
     "output_type": "display_data"
    },
    {
     "data": {
      "text/html": [
       "<pre style=\"white-space:pre;overflow-x:auto;line-height:normal;font-family:Menlo,'DejaVu Sans Mono',consolas,'Courier New',monospace\"><span style=\"color: #7fbfbf; text-decoration-color: #7fbfbf\">           </span>New file to index: mace_docs_2024.pdf<span style=\"color: #808000; text-decoration-color: #808000\">...</span>                                                                \n",
       "</pre>\n"
      ],
      "text/plain": [
       "\u001b[2;36m          \u001b[0m\u001b[2;36m \u001b[0mNew file to index: mace_docs_2024.pdf\u001b[33m...\u001b[0m                                                                \n"
      ]
     },
     "metadata": {},
     "output_type": "display_data"
    },
    {
     "data": {
      "text/html": [
       "<pre style=\"white-space:pre;overflow-x:auto;line-height:normal;font-family:Menlo,'DejaVu Sans Mono',consolas,'Courier New',monospace\"><span style=\"color: #7fbfbf; text-decoration-color: #7fbfbf\">           </span>New file to index: lucas_2012_hemoglobin_sim.pdf<span style=\"color: #808000; text-decoration-color: #808000\">...</span>                                                     \n",
       "</pre>\n"
      ],
      "text/plain": [
       "\u001b[2;36m          \u001b[0m\u001b[2;36m \u001b[0mNew file to index: lucas_2012_hemoglobin_sim.pdf\u001b[33m...\u001b[0m                                                     \n"
      ]
     },
     "metadata": {},
     "output_type": "display_data"
    },
    {
     "data": {
      "text/html": [
       "<pre style=\"white-space:pre;overflow-x:auto;line-height:normal;font-family:Menlo,'DejaVu Sans Mono',consolas,'Courier New',monospace\"><span style=\"color: #7fbfbf; text-decoration-color: #7fbfbf\">           </span>New file to index: raffaini-ganazzoli-<span style=\"color: #008080; text-decoration-color: #008080; font-weight: bold\">2004</span>-fibronectin_sim.pdf<span style=\"color: #808000; text-decoration-color: #808000\">...</span>                                       \n",
       "</pre>\n"
      ],
      "text/plain": [
       "\u001b[2;36m          \u001b[0m\u001b[2;36m \u001b[0mNew file to index: raffaini-ganazzoli-\u001b[1;36m2004\u001b[0m-fibronectin_sim.pdf\u001b[33m...\u001b[0m                                       \n"
      ]
     },
     "metadata": {},
     "output_type": "display_data"
    },
    {
     "data": {
      "text/html": [
       "<pre style=\"white-space:pre;overflow-x:auto;line-height:normal;font-family:Menlo,'DejaVu Sans Mono',consolas,'Courier New',monospace\"><span style=\"color: #7fbfbf; text-decoration-color: #7fbfbf\">[21:38:42] </span>SEMANTIC_SCHOLAR_API_KEY environment variable not set. Semantic Scholar API rate limits may apply.      \n",
       "</pre>\n"
      ],
      "text/plain": [
       "\u001b[2;36m[21:38:42]\u001b[0m\u001b[2;36m \u001b[0mSEMANTIC_SCHOLAR_API_KEY environment variable not set. Semantic Scholar API rate limits may apply.      \n"
      ]
     },
     "metadata": {},
     "output_type": "display_data"
    },
    {
     "data": {
      "text/html": [
       "<pre style=\"white-space:pre;overflow-x:auto;line-height:normal;font-family:Menlo,'DejaVu Sans Mono',consolas,'Courier New',monospace\"><span style=\"color: #7fbfbf; text-decoration-color: #7fbfbf\">           </span>SEMANTIC_SCHOLAR_API_KEY environment variable not set. Semantic Scholar API rate limits may apply.      \n",
       "</pre>\n"
      ],
      "text/plain": [
       "\u001b[2;36m          \u001b[0m\u001b[2;36m \u001b[0mSEMANTIC_SCHOLAR_API_KEY environment variable not set. Semantic Scholar API rate limits may apply.      \n"
      ]
     },
     "metadata": {},
     "output_type": "display_data"
    },
    {
     "data": {
      "text/html": [
       "<pre style=\"white-space:pre;overflow-x:auto;line-height:normal;font-family:Menlo,'DejaVu Sans Mono',consolas,'Courier New',monospace\"><span style=\"color: #7fbfbf; text-decoration-color: #7fbfbf\">           </span>SEMANTIC_SCHOLAR_API_KEY environment variable not set. Semantic Scholar API rate limits may apply.      \n",
       "</pre>\n"
      ],
      "text/plain": [
       "\u001b[2;36m          \u001b[0m\u001b[2;36m \u001b[0mSEMANTIC_SCHOLAR_API_KEY environment variable not set. Semantic Scholar API rate limits may apply.      \n"
      ]
     },
     "metadata": {},
     "output_type": "display_data"
    },
    {
     "data": {
      "text/html": [
       "<pre style=\"white-space:pre;overflow-x:auto;line-height:normal;font-family:Menlo,'DejaVu Sans Mono',consolas,'Courier New',monospace\"><span style=\"color: #7fbfbf; text-decoration-color: #7fbfbf\">           </span>SEMANTIC_SCHOLAR_API_KEY environment variable not set. Semantic Scholar API rate limits may apply.      \n",
       "</pre>\n"
      ],
      "text/plain": [
       "\u001b[2;36m          \u001b[0m\u001b[2;36m \u001b[0mSEMANTIC_SCHOLAR_API_KEY environment variable not set. Semantic Scholar API rate limits may apply.      \n"
      ]
     },
     "metadata": {},
     "output_type": "display_data"
    },
    {
     "data": {
      "text/html": [
       "<pre style=\"white-space:pre;overflow-x:auto;line-height:normal;font-family:Menlo,'DejaVu Sans Mono',consolas,'Courier New',monospace\"><span style=\"color: #7fbfbf; text-decoration-color: #7fbfbf\">           </span>SEMANTIC_SCHOLAR_API_KEY environment variable not set. Semantic Scholar API rate limits may apply.      \n",
       "</pre>\n"
      ],
      "text/plain": [
       "\u001b[2;36m          \u001b[0m\u001b[2;36m \u001b[0mSEMANTIC_SCHOLAR_API_KEY environment variable not set. Semantic Scholar API rate limits may apply.      \n"
      ]
     },
     "metadata": {},
     "output_type": "display_data"
    },
    {
     "data": {
      "text/html": [
       "<pre style=\"white-space:pre;overflow-x:auto;line-height:normal;font-family:Menlo,'DejaVu Sans Mono',consolas,'Courier New',monospace\"><span style=\"color: #7fbfbf; text-decoration-color: #7fbfbf\">           </span>SEMANTIC_SCHOLAR_API_KEY environment variable not set. Semantic Scholar API rate limits may apply.      \n",
       "</pre>\n"
      ],
      "text/plain": [
       "\u001b[2;36m          \u001b[0m\u001b[2;36m \u001b[0mSEMANTIC_SCHOLAR_API_KEY environment variable not set. Semantic Scholar API rate limits may apply.      \n"
      ]
     },
     "metadata": {},
     "output_type": "display_data"
    },
    {
     "data": {
      "text/html": [
       "<pre style=\"white-space:pre;overflow-x:auto;line-height:normal;font-family:Menlo,'DejaVu Sans Mono',consolas,'Courier New',monospace\"><span style=\"color: #7fbfbf; text-decoration-color: #7fbfbf\">           </span>SEMANTIC_SCHOLAR_API_KEY environment variable not set. Semantic Scholar API rate limits may apply.      \n",
       "</pre>\n"
      ],
      "text/plain": [
       "\u001b[2;36m          \u001b[0m\u001b[2;36m \u001b[0mSEMANTIC_SCHOLAR_API_KEY environment variable not set. Semantic Scholar API rate limits may apply.      \n"
      ]
     },
     "metadata": {},
     "output_type": "display_data"
    },
    {
     "data": {
      "text/html": [
       "<pre style=\"white-space:pre;overflow-x:auto;line-height:normal;font-family:Menlo,'DejaVu Sans Mono',consolas,'Courier New',monospace\"><span style=\"color: #7fbfbf; text-decoration-color: #7fbfbf\">           </span>SEMANTIC_SCHOLAR_API_KEY environment variable not set. Semantic Scholar API rate limits may apply.      \n",
       "</pre>\n"
      ],
      "text/plain": [
       "\u001b[2;36m          \u001b[0m\u001b[2;36m \u001b[0mSEMANTIC_SCHOLAR_API_KEY environment variable not set. Semantic Scholar API rate limits may apply.      \n"
      ]
     },
     "metadata": {},
     "output_type": "display_data"
    },
    {
     "data": {
      "text/html": [
       "<pre style=\"white-space:pre;overflow-x:auto;line-height:normal;font-family:Menlo,'DejaVu Sans Mono',consolas,'Courier New',monospace\"><span style=\"color: #7fbfbf; text-decoration-color: #7fbfbf\">           </span>SEMANTIC_SCHOLAR_API_KEY environment variable not set. Semantic Scholar API rate limits may apply.      \n",
       "</pre>\n"
      ],
      "text/plain": [
       "\u001b[2;36m          \u001b[0m\u001b[2;36m \u001b[0mSEMANTIC_SCHOLAR_API_KEY environment variable not set. Semantic Scholar API rate limits may apply.      \n"
      ]
     },
     "metadata": {},
     "output_type": "display_data"
    },
    {
     "data": {
      "text/html": [
       "<pre style=\"white-space:pre;overflow-x:auto;line-height:normal;font-family:Menlo,'DejaVu Sans Mono',consolas,'Courier New',monospace\"><span style=\"color: #7fbfbf; text-decoration-color: #7fbfbf\">           </span>SEMANTIC_SCHOLAR_API_KEY environment variable not set. Semantic Scholar API rate limits may apply.      \n",
       "</pre>\n"
      ],
      "text/plain": [
       "\u001b[2;36m          \u001b[0m\u001b[2;36m \u001b[0mSEMANTIC_SCHOLAR_API_KEY environment variable not set. Semantic Scholar API rate limits may apply.      \n"
      ]
     },
     "metadata": {},
     "output_type": "display_data"
    },
    {
     "data": {
      "text/html": [
       "<pre style=\"white-space:pre;overflow-x:auto;line-height:normal;font-family:Menlo,'DejaVu Sans Mono',consolas,'Courier New',monospace\"><span style=\"color: #7fbfbf; text-decoration-color: #7fbfbf\">           </span>SEMANTIC_SCHOLAR_API_KEY environment variable not set. Semantic Scholar API rate limits may apply.      \n",
       "</pre>\n"
      ],
      "text/plain": [
       "\u001b[2;36m          \u001b[0m\u001b[2;36m \u001b[0mSEMANTIC_SCHOLAR_API_KEY environment variable not set. Semantic Scholar API rate limits may apply.      \n"
      ]
     },
     "metadata": {},
     "output_type": "display_data"
    },
    {
     "data": {
      "text/html": [
       "<pre style=\"white-space:pre;overflow-x:auto;line-height:normal;font-family:Menlo,'DejaVu Sans Mono',consolas,'Courier New',monospace\"><span style=\"color: #7fbfbf; text-decoration-color: #7fbfbf\">           </span>SEMANTIC_SCHOLAR_API_KEY environment variable not set. Semantic Scholar API rate limits may apply.      \n",
       "</pre>\n"
      ],
      "text/plain": [
       "\u001b[2;36m          \u001b[0m\u001b[2;36m \u001b[0mSEMANTIC_SCHOLAR_API_KEY environment variable not set. Semantic Scholar API rate limits may apply.      \n"
      ]
     },
     "metadata": {},
     "output_type": "display_data"
    },
    {
     "data": {
      "text/html": [
       "<pre style=\"white-space:pre;overflow-x:auto;line-height:normal;font-family:Menlo,'DejaVu Sans Mono',consolas,'Courier New',monospace\"><span style=\"color: #7fbfbf; text-decoration-color: #7fbfbf\">           </span>SEMANTIC_SCHOLAR_API_KEY environment variable not set. Semantic Scholar API rate limits may apply.      \n",
       "</pre>\n"
      ],
      "text/plain": [
       "\u001b[2;36m          \u001b[0m\u001b[2;36m \u001b[0mSEMANTIC_SCHOLAR_API_KEY environment variable not set. Semantic Scholar API rate limits may apply.      \n"
      ]
     },
     "metadata": {},
     "output_type": "display_data"
    },
    {
     "name": "stderr",
     "output_type": "stream",
     "text": [
      "Failed to execute tool call for tool paper_search.\n",
      "Traceback (most recent call last):\n",
      "  File \"/scratch/qcampbe2/myenvs/mdcrow/lib/python3.12/site-packages/aviary/env.py\", line 197, in _exec_tool_call\n",
      "    content = await tool._tool_fn(\n",
      "              ^^^^^^^^^^^^^^^^^^^^\n",
      "  File \"/scratch/qcampbe2/myenvs/mdcrow/lib/python3.12/site-packages/paperqa/agents/tools.py\", line 127, in paper_search\n",
      "    index = await get_directory_index(settings=self.settings)\n",
      "            ^^^^^^^^^^^^^^^^^^^^^^^^^^^^^^^^^^^^^^^^^^^^^^^^^\n",
      "  File \"/scratch/qcampbe2/myenvs/mdcrow/lib/python3.12/site-packages/paperqa/agents/search.py\", line 481, in get_directory_index\n",
      "    async with anyio.create_task_group() as tg:\n",
      "  File \"/scratch/qcampbe2/myenvs/mdcrow/lib/python3.12/site-packages/anyio/_backends/_asyncio.py\", line 597, in __aexit__\n",
      "    raise exceptions[0]\n",
      "  File \"/scratch/qcampbe2/myenvs/mdcrow/lib/python3.12/asyncio/tasks.py\", line 316, in __step_run_and_handle_result\n",
      "    result = coro.throw(exc)\n",
      "             ^^^^^^^^^^^^^^^\n",
      "  File \"/scratch/qcampbe2/myenvs/mdcrow/lib/python3.12/site-packages/paperqa/agents/search.py\", line 377, in process_file\n",
      "    await tmp_docs.aadd(\n",
      "  File \"/scratch/qcampbe2/myenvs/mdcrow/lib/python3.12/site-packages/paperqa/docs.py\", line 346, in aadd\n",
      "    doc = await metadata_client.upgrade_doc_to_doc_details(\n",
      "          ^^^^^^^^^^^^^^^^^^^^^^^^^^^^^^^^^^^^^^^^^^^^^^^^^\n",
      "  File \"/scratch/qcampbe2/myenvs/mdcrow/lib/python3.12/site-packages/paperqa/clients/__init__.py\", line 202, in upgrade_doc_to_doc_details\n",
      "    if doc_details := await self.query(**kwargs):\n",
      "                      ^^^^^^^^^^^^^^^^^^^^^^^^^^\n",
      "  File \"/scratch/qcampbe2/myenvs/mdcrow/lib/python3.12/site-packages/paperqa/clients/__init__.py\", line 150, in query\n",
      "    await gather_with_concurrency(\n",
      "  File \"/scratch/qcampbe2/myenvs/mdcrow/lib/python3.12/site-packages/paperqa/utils.py\", line 111, in gather_with_concurrency\n",
      "    return await asyncio.gather(*(sem_coro(c) for c in coros))\n",
      "           ^^^^^^^^^^^^^^^^^^^^^^^^^^^^^^^^^^^^^^^^^^^^^^^^^^^\n",
      "  File \"/scratch/qcampbe2/myenvs/mdcrow/lib/python3.12/asyncio/tasks.py\", line 385, in __wakeup\n",
      "    future.result()\n",
      "  File \"/scratch/qcampbe2/myenvs/mdcrow/lib/python3.12/asyncio/tasks.py\", line 314, in __step_run_and_handle_result\n",
      "    result = coro.send(None)\n",
      "             ^^^^^^^^^^^^^^^\n",
      "  File \"/scratch/qcampbe2/myenvs/mdcrow/lib/python3.12/site-packages/paperqa/utils.py\", line 109, in sem_coro\n",
      "    return await coro\n",
      "           ^^^^^^^^^^\n",
      "  File \"/scratch/qcampbe2/myenvs/mdcrow/lib/python3.12/site-packages/paperqa/clients/client_models.py\", line 108, in query\n",
      "    return await self._query(client_query)\n",
      "           ^^^^^^^^^^^^^^^^^^^^^^^^^^^^^^^\n",
      "  File \"/scratch/qcampbe2/myenvs/mdcrow/lib/python3.12/site-packages/paperqa/clients/semantic_scholar.py\", line 321, in _query\n",
      "    return await get_s2_doc_details_from_title(\n",
      "           ^^^^^^^^^^^^^^^^^^^^^^^^^^^^^^^^^^^^\n",
      "  File \"/scratch/qcampbe2/myenvs/mdcrow/lib/python3.12/site-packages/paperqa/clients/semantic_scholar.py\", line 306, in get_s2_doc_details_from_title\n",
      "    return await s2_title_search(\n",
      "           ^^^^^^^^^^^^^^^^^^^^^^\n",
      "  File \"/scratch/qcampbe2/myenvs/mdcrow/lib/python3.12/site-packages/paperqa/clients/semantic_scholar.py\", line 218, in s2_title_search\n",
      "    data = await _get_with_retrying(\n",
      "           ^^^^^^^^^^^^^^^^^^^^^^^^^\n",
      "  File \"/scratch/qcampbe2/myenvs/mdcrow/lib/python3.12/site-packages/tenacity/asyncio/__init__.py\", line 189, in async_wrapped\n",
      "    return await copy(fn, *args, **kwargs)\n",
      "           ^^^^^^^^^^^^^^^^^^^^^^^^^^^^^^^\n",
      "  File \"/scratch/qcampbe2/myenvs/mdcrow/lib/python3.12/site-packages/tenacity/asyncio/__init__.py\", line 111, in __call__\n",
      "    do = await self.iter(retry_state=retry_state)\n",
      "         ^^^^^^^^^^^^^^^^^^^^^^^^^^^^^^^^^^^^^^^^\n",
      "  File \"/scratch/qcampbe2/myenvs/mdcrow/lib/python3.12/site-packages/tenacity/asyncio/__init__.py\", line 153, in iter\n",
      "    result = await action(retry_state)\n",
      "             ^^^^^^^^^^^^^^^^^^^^^^^^^\n",
      "  File \"/scratch/qcampbe2/myenvs/mdcrow/lib/python3.12/site-packages/tenacity/_utils.py\", line 99, in inner\n",
      "    return call(*args, **kwargs)\n",
      "           ^^^^^^^^^^^^^^^^^^^^^\n",
      "  File \"/scratch/qcampbe2/myenvs/mdcrow/lib/python3.12/site-packages/tenacity/__init__.py\", line 398, in <lambda>\n",
      "    self._add_action_func(lambda rs: rs.outcome.result())\n",
      "                                     ^^^^^^^^^^^^^^^^^^^\n",
      "  File \"/scratch/qcampbe2/myenvs/mdcrow/lib/python3.12/concurrent/futures/_base.py\", line 449, in result\n",
      "    return self.__get_result()\n",
      "           ^^^^^^^^^^^^^^^^^^^\n",
      "  File \"/scratch/qcampbe2/myenvs/mdcrow/lib/python3.12/concurrent/futures/_base.py\", line 401, in __get_result\n",
      "    raise self._exception\n",
      "  File \"/scratch/qcampbe2/myenvs/mdcrow/lib/python3.12/site-packages/tenacity/asyncio/__init__.py\", line 114, in __call__\n",
      "    result = await fn(*args, **kwargs)\n",
      "             ^^^^^^^^^^^^^^^^^^^^^^^^^\n",
      "  File \"/scratch/qcampbe2/myenvs/mdcrow/lib/python3.12/site-packages/paperqa/utils.py\", line 419, in _get_with_retrying\n",
      "    response.raise_for_status()\n",
      "  File \"/scratch/qcampbe2/myenvs/mdcrow/lib/python3.12/site-packages/aiohttp/client_reqrep.py\", line 1070, in raise_for_status\n",
      "    raise ClientResponseError(\n",
      "aiohttp.client_exceptions.ClientResponseError: 429, message='', url=URL('https://api.semanticscholar.org/graph/v1/paper/search/match?query=Predicting+Stable+Binding+Modes+from+Simulated+Dimers+of+the+D76N+Mutant+of+%CE%B22-Microglobulin&fields=authors,externalIds,journal,title,year')\n"
     ]
    },
    {
     "data": {
      "text/html": [
       "<pre style=\"white-space:pre;overflow-x:auto;line-height:normal;font-family:Menlo,'DejaVu Sans Mono',consolas,'Courier New',monospace\"><span style=\"color: #7fbfbf; text-decoration-color: #7fbfbf\">[21:38:43] </span>Starting paper search for <span style=\"color: #008000; text-decoration-color: #008000\">'molecular dynamics fibronectin thermodynamics, 2015-2024  '</span>.                 \n",
       "</pre>\n"
      ],
      "text/plain": [
       "\u001b[2;36m[21:38:43]\u001b[0m\u001b[2;36m \u001b[0mStarting paper search for \u001b[32m'molecular dynamics fibronectin thermodynamics, 2015-2024  '\u001b[0m.                 \n"
      ]
     },
     "metadata": {},
     "output_type": "display_data"
    },
    {
     "data": {
      "text/html": [
       "<pre style=\"white-space:pre;overflow-x:auto;line-height:normal;font-family:Menlo,'DejaVu Sans Mono',consolas,'Courier New',monospace\"><span style=\"color: #7fbfbf; text-decoration-color: #7fbfbf\">           </span>New file to index: bringas_2017_hemoglobin.pdf<span style=\"color: #808000; text-decoration-color: #808000\">...</span>                                                       \n",
       "</pre>\n"
      ],
      "text/plain": [
       "\u001b[2;36m          \u001b[0m\u001b[2;36m \u001b[0mNew file to index: bringas_2017_hemoglobin.pdf\u001b[33m...\u001b[0m                                                       \n"
      ]
     },
     "metadata": {},
     "output_type": "display_data"
    },
    {
     "data": {
      "text/html": [
       "<pre style=\"white-space:pre;overflow-x:auto;line-height:normal;font-family:Menlo,'DejaVu Sans Mono',consolas,'Courier New',monospace\"><span style=\"color: #7fbfbf; text-decoration-color: #7fbfbf\">           </span>New file to index: cong_2017_trypsin-ligand.pdf<span style=\"color: #808000; text-decoration-color: #808000\">...</span>                                                      \n",
       "</pre>\n"
      ],
      "text/plain": [
       "\u001b[2;36m          \u001b[0m\u001b[2;36m \u001b[0mNew file to index: cong_2017_trypsin-ligand.pdf\u001b[33m...\u001b[0m                                                      \n"
      ]
     },
     "metadata": {},
     "output_type": "display_data"
    },
    {
     "data": {
      "text/html": [
       "<pre style=\"white-space:pre;overflow-x:auto;line-height:normal;font-family:Menlo,'DejaVu Sans Mono',consolas,'Courier New',monospace\"><span style=\"color: #7fbfbf; text-decoration-color: #7fbfbf\">           </span>New file to index: Vittaladevaram_2023_fibronectin.pdf<span style=\"color: #808000; text-decoration-color: #808000\">...</span>                                               \n",
       "</pre>\n"
      ],
      "text/plain": [
       "\u001b[2;36m          \u001b[0m\u001b[2;36m \u001b[0mNew file to index: Vittaladevaram_2023_fibronectin.pdf\u001b[33m...\u001b[0m                                               \n"
      ]
     },
     "metadata": {},
     "output_type": "display_data"
    },
    {
     "data": {
      "text/html": [
       "<pre style=\"white-space:pre;overflow-x:auto;line-height:normal;font-family:Menlo,'DejaVu Sans Mono',consolas,'Courier New',monospace\"><span style=\"color: #7fbfbf; text-decoration-color: #7fbfbf\">           </span>New file to index: sahoo-<span style=\"color: #008080; text-decoration-color: #008080; font-weight: bold\">2019</span>-unfolding-dynamics-of-ubiquitin.pdf<span style=\"color: #808000; text-decoration-color: #808000\">...</span>                                    \n",
       "</pre>\n"
      ],
      "text/plain": [
       "\u001b[2;36m          \u001b[0m\u001b[2;36m \u001b[0mNew file to index: sahoo-\u001b[1;36m2019\u001b[0m-unfolding-dynamics-of-ubiquitin.pdf\u001b[33m...\u001b[0m                                    \n"
      ]
     },
     "metadata": {},
     "output_type": "display_data"
    },
    {
     "data": {
      "text/html": [
       "<pre style=\"white-space:pre;overflow-x:auto;line-height:normal;font-family:Menlo,'DejaVu Sans Mono',consolas,'Courier New',monospace\"><span style=\"color: #7fbfbf; text-decoration-color: #7fbfbf\">           </span>New file to index: oliveira_2021_b2m_2yxf.pdf<span style=\"color: #808000; text-decoration-color: #808000\">...</span>                                                        \n",
       "</pre>\n"
      ],
      "text/plain": [
       "\u001b[2;36m          \u001b[0m\u001b[2;36m \u001b[0mNew file to index: oliveira_2021_b2m_2yxf.pdf\u001b[33m...\u001b[0m                                                        \n"
      ]
     },
     "metadata": {},
     "output_type": "display_data"
    },
    {
     "data": {
      "text/html": [
       "<pre style=\"white-space:pre;overflow-x:auto;line-height:normal;font-family:Menlo,'DejaVu Sans Mono',consolas,'Courier New',monospace\"><span style=\"color: #7fbfbf; text-decoration-color: #7fbfbf\">           </span>New file to index: lemmon_2017_fibronectin.pdf<span style=\"color: #808000; text-decoration-color: #808000\">...</span>                                                       \n",
       "</pre>\n"
      ],
      "text/plain": [
       "\u001b[2;36m          \u001b[0m\u001b[2;36m \u001b[0mNew file to index: lemmon_2017_fibronectin.pdf\u001b[33m...\u001b[0m                                                       \n"
      ]
     },
     "metadata": {},
     "output_type": "display_data"
    },
    {
     "data": {
      "text/html": [
       "<pre style=\"white-space:pre;overflow-x:auto;line-height:normal;font-family:Menlo,'DejaVu Sans Mono',consolas,'Courier New',monospace\"><span style=\"color: #7fbfbf; text-decoration-color: #7fbfbf\">           </span>New file to index: liamas_2018_fibronectin_1fnf.pdf<span style=\"color: #808000; text-decoration-color: #808000\">...</span>                                                  \n",
       "</pre>\n"
      ],
      "text/plain": [
       "\u001b[2;36m          \u001b[0m\u001b[2;36m \u001b[0mNew file to index: liamas_2018_fibronectin_1fnf.pdf\u001b[33m...\u001b[0m                                                  \n"
      ]
     },
     "metadata": {},
     "output_type": "display_data"
    },
    {
     "data": {
      "text/html": [
       "<pre style=\"white-space:pre;overflow-x:auto;line-height:normal;font-family:Menlo,'DejaVu Sans Mono',consolas,'Courier New',monospace\"><span style=\"color: #7fbfbf; text-decoration-color: #7fbfbf\">           </span>New file to index: ganoth_2013_ubiquitin.pdf<span style=\"color: #808000; text-decoration-color: #808000\">...</span>                                                         \n",
       "</pre>\n"
      ],
      "text/plain": [
       "\u001b[2;36m          \u001b[0m\u001b[2;36m \u001b[0mNew file to index: ganoth_2013_ubiquitin.pdf\u001b[33m...\u001b[0m                                                         \n"
      ]
     },
     "metadata": {},
     "output_type": "display_data"
    },
    {
     "data": {
      "text/html": [
       "<pre style=\"white-space:pre;overflow-x:auto;line-height:normal;font-family:Menlo,'DejaVu Sans Mono',consolas,'Courier New',monospace\"><span style=\"color: #7fbfbf; text-decoration-color: #7fbfbf\">[21:38:44] </span>New file to index: morand_2021_b2m_2yxf.pdf<span style=\"color: #808000; text-decoration-color: #808000\">...</span>                                                          \n",
       "</pre>\n"
      ],
      "text/plain": [
       "\u001b[2;36m[21:38:44]\u001b[0m\u001b[2;36m \u001b[0mNew file to index: morand_2021_b2m_2yxf.pdf\u001b[33m...\u001b[0m                                                          \n"
      ]
     },
     "metadata": {},
     "output_type": "display_data"
    },
    {
     "data": {
      "text/html": [
       "<pre style=\"white-space:pre;overflow-x:auto;line-height:normal;font-family:Menlo,'DejaVu Sans Mono',consolas,'Courier New',monospace\"><span style=\"color: #7fbfbf; text-decoration-color: #7fbfbf\">           </span>New file to index: clark_1985_hemoglobin.pdf<span style=\"color: #808000; text-decoration-color: #808000\">...</span>                                                         \n",
       "</pre>\n"
      ],
      "text/plain": [
       "\u001b[2;36m          \u001b[0m\u001b[2;36m \u001b[0mNew file to index: clark_1985_hemoglobin.pdf\u001b[33m...\u001b[0m                                                         \n"
      ]
     },
     "metadata": {},
     "output_type": "display_data"
    },
    {
     "data": {
      "text/html": [
       "<pre style=\"white-space:pre;overflow-x:auto;line-height:normal;font-family:Menlo,'DejaVu Sans Mono',consolas,'Courier New',monospace\"><span style=\"color: #7fbfbf; text-decoration-color: #7fbfbf\">           </span>New file to index:                                                                                      \n",
       "<span style=\"color: #7fbfbf; text-decoration-color: #7fbfbf\">           </span>mshirts%2C+<span style=\"color: #008080; text-decoration-color: #008080; font-weight: bold\">5957</span>-best-practices-for-foundations-in-molecular-simulations-article-v1-<span style=\"color: #008080; text-decoration-color: #008080; font-weight: bold\">0</span>+%<span style=\"color: #008080; text-decoration-color: #008080; font-weight: bold\">281</span>%<span style=\"color: #008080; text-decoration-color: #008080; font-weight: bold\">29.</span>pdf<span style=\"color: #808000; text-decoration-color: #808000\">...</span>     \n",
       "</pre>\n"
      ],
      "text/plain": [
       "\u001b[2;36m          \u001b[0m\u001b[2;36m \u001b[0mNew file to index:                                                                                      \n",
       "\u001b[2;36m           \u001b[0mmshirts%2C+\u001b[1;36m5957\u001b[0m-best-practices-for-foundations-in-molecular-simulations-article-v1-\u001b[1;36m0\u001b[0m+%\u001b[1;36m281\u001b[0m%\u001b[1;36m29.\u001b[0mpdf\u001b[33m...\u001b[0m     \n"
      ]
     },
     "metadata": {},
     "output_type": "display_data"
    },
    {
     "data": {
      "text/html": [
       "<pre style=\"white-space:pre;overflow-x:auto;line-height:normal;font-family:Menlo,'DejaVu Sans Mono',consolas,'Courier New',monospace\"><span style=\"color: #7fbfbf; text-decoration-color: #7fbfbf\">           </span>New file to index: sala_2018_proteinstability.pdf<span style=\"color: #808000; text-decoration-color: #808000\">...</span>                                                    \n",
       "</pre>\n"
      ],
      "text/plain": [
       "\u001b[2;36m          \u001b[0m\u001b[2;36m \u001b[0mNew file to index: sala_2018_proteinstability.pdf\u001b[33m...\u001b[0m                                                    \n"
      ]
     },
     "metadata": {},
     "output_type": "display_data"
    },
    {
     "data": {
      "text/html": [
       "<pre style=\"white-space:pre;overflow-x:auto;line-height:normal;font-family:Menlo,'DejaVu Sans Mono',consolas,'Courier New',monospace\"><span style=\"color: #7fbfbf; text-decoration-color: #7fbfbf\">           </span>New file to index: hage_2018_hemoglobin_sim_SI.pdf<span style=\"color: #808000; text-decoration-color: #808000\">...</span>                                                   \n",
       "</pre>\n"
      ],
      "text/plain": [
       "\u001b[2;36m          \u001b[0m\u001b[2;36m \u001b[0mNew file to index: hage_2018_hemoglobin_sim_SI.pdf\u001b[33m...\u001b[0m                                                   \n"
      ]
     },
     "metadata": {},
     "output_type": "display_data"
    },
    {
     "data": {
      "text/html": [
       "<pre style=\"white-space:pre;overflow-x:auto;line-height:normal;font-family:Menlo,'DejaVu Sans Mono',consolas,'Courier New',monospace\"><span style=\"color: #7fbfbf; text-decoration-color: #7fbfbf\">           </span>New file to index: laberge_2008_hemoglobin_sim.pdf<span style=\"color: #808000; text-decoration-color: #808000\">...</span>                                                   \n",
       "</pre>\n"
      ],
      "text/plain": [
       "\u001b[2;36m          \u001b[0m\u001b[2;36m \u001b[0mNew file to index: laberge_2008_hemoglobin_sim.pdf\u001b[33m...\u001b[0m                                                   \n"
      ]
     },
     "metadata": {},
     "output_type": "display_data"
    },
    {
     "data": {
      "text/html": [
       "<pre style=\"white-space:pre;overflow-x:auto;line-height:normal;font-family:Menlo,'DejaVu Sans Mono',consolas,'Courier New',monospace\"><span style=\"color: #7fbfbf; text-decoration-color: #7fbfbf\">[21:38:45] </span>New file to index: <span style=\"color: #008080; text-decoration-color: #008080; font-weight: bold\">10.</span>1002slct.<span style=\"color: #008080; text-decoration-color: #008080; font-weight: bold\">201801398.</span>pdf<span style=\"color: #808000; text-decoration-color: #808000\">...</span>                                                         \n",
       "</pre>\n"
      ],
      "text/plain": [
       "\u001b[2;36m[21:38:45]\u001b[0m\u001b[2;36m \u001b[0mNew file to index: \u001b[1;36m10.\u001b[0m1002slct.\u001b[1;36m201801398.\u001b[0mpdf\u001b[33m...\u001b[0m                                                         \n"
      ]
     },
     "metadata": {},
     "output_type": "display_data"
    },
    {
     "data": {
      "text/html": [
       "<pre style=\"white-space:pre;overflow-x:auto;line-height:normal;font-family:Menlo,'DejaVu Sans Mono',consolas,'Courier New',monospace\"><span style=\"color: #7fbfbf; text-decoration-color: #7fbfbf\">           </span>New file to index: paci_1999_fibronectin_1fnf.pdf<span style=\"color: #808000; text-decoration-color: #808000\">...</span>                                                    \n",
       "</pre>\n"
      ],
      "text/plain": [
       "\u001b[2;36m          \u001b[0m\u001b[2;36m \u001b[0mNew file to index: paci_1999_fibronectin_1fnf.pdf\u001b[33m...\u001b[0m                                                    \n"
      ]
     },
     "metadata": {},
     "output_type": "display_data"
    },
    {
     "data": {
      "text/html": [
       "<pre style=\"white-space:pre;overflow-x:auto;line-height:normal;font-family:Menlo,'DejaVu Sans Mono',consolas,'Courier New',monospace\"><span style=\"color: #7fbfbf; text-decoration-color: #7fbfbf\">           </span>New file to index: gee_2008_fibronectin_1fnf.pdf<span style=\"color: #808000; text-decoration-color: #808000\">...</span>                                                     \n",
       "</pre>\n"
      ],
      "text/plain": [
       "\u001b[2;36m          \u001b[0m\u001b[2;36m \u001b[0mNew file to index: gee_2008_fibronectin_1fnf.pdf\u001b[33m...\u001b[0m                                                     \n"
      ]
     },
     "metadata": {},
     "output_type": "display_data"
    },
    {
     "data": {
      "text/html": [
       "<pre style=\"white-space:pre;overflow-x:auto;line-height:normal;font-family:Menlo,'DejaVu Sans Mono',consolas,'Courier New',monospace\"><span style=\"color: #7fbfbf; text-decoration-color: #7fbfbf\">           </span>New file to index: hage_2018_hemoglobin_sim.pdf<span style=\"color: #808000; text-decoration-color: #808000\">...</span>                                                      \n",
       "</pre>\n"
      ],
      "text/plain": [
       "\u001b[2;36m          \u001b[0m\u001b[2;36m \u001b[0mNew file to index: hage_2018_hemoglobin_sim.pdf\u001b[33m...\u001b[0m                                                      \n"
      ]
     },
     "metadata": {},
     "output_type": "display_data"
    },
    {
     "data": {
      "text/html": [
       "<pre style=\"white-space:pre;overflow-x:auto;line-height:normal;font-family:Menlo,'DejaVu Sans Mono',consolas,'Courier New',monospace\"><span style=\"color: #7fbfbf; text-decoration-color: #7fbfbf\">           </span>New file to index: dunkelberger-et-al-2018_hemoglobin.pdf<span style=\"color: #808000; text-decoration-color: #808000\">...</span>                                            \n",
       "</pre>\n"
      ],
      "text/plain": [
       "\u001b[2;36m          \u001b[0m\u001b[2;36m \u001b[0mNew file to index: dunkelberger-et-al-2018_hemoglobin.pdf\u001b[33m...\u001b[0m                                            \n"
      ]
     },
     "metadata": {},
     "output_type": "display_data"
    },
    {
     "data": {
      "text/html": [
       "<pre style=\"white-space:pre;overflow-x:auto;line-height:normal;font-family:Menlo,'DejaVu Sans Mono',consolas,'Courier New',monospace\"><span style=\"color: #7fbfbf; text-decoration-color: #7fbfbf\">           </span>New file to index: liao_2014_fibronectin_sim.pdf<span style=\"color: #808000; text-decoration-color: #808000\">...</span>                                                     \n",
       "</pre>\n"
      ],
      "text/plain": [
       "\u001b[2;36m          \u001b[0m\u001b[2;36m \u001b[0mNew file to index: liao_2014_fibronectin_sim.pdf\u001b[33m...\u001b[0m                                                     \n"
      ]
     },
     "metadata": {},
     "output_type": "display_data"
    },
    {
     "data": {
      "text/html": [
       "<pre style=\"white-space:pre;overflow-x:auto;line-height:normal;font-family:Menlo,'DejaVu Sans Mono',consolas,'Courier New',monospace\"><span style=\"color: #7fbfbf; text-decoration-color: #7fbfbf\">           </span>New file to index: lucas_2012_hemoglobin_sim_SI.pdf<span style=\"color: #808000; text-decoration-color: #808000\">...</span>                                                  \n",
       "</pre>\n"
      ],
      "text/plain": [
       "\u001b[2;36m          \u001b[0m\u001b[2;36m \u001b[0mNew file to index: lucas_2012_hemoglobin_sim_SI.pdf\u001b[33m...\u001b[0m                                                  \n"
      ]
     },
     "metadata": {},
     "output_type": "display_data"
    },
    {
     "data": {
      "text/html": [
       "<pre style=\"white-space:pre;overflow-x:auto;line-height:normal;font-family:Menlo,'DejaVu Sans Mono',consolas,'Courier New',monospace\"><span style=\"color: #7fbfbf; text-decoration-color: #7fbfbf\">           </span>New file to index: hao_2021_fibronectin.pdf<span style=\"color: #808000; text-decoration-color: #808000\">...</span>                                                          \n",
       "</pre>\n"
      ],
      "text/plain": [
       "\u001b[2;36m          \u001b[0m\u001b[2;36m \u001b[0mNew file to index: hao_2021_fibronectin.pdf\u001b[33m...\u001b[0m                                                          \n"
      ]
     },
     "metadata": {},
     "output_type": "display_data"
    },
    {
     "data": {
      "text/html": [
       "<pre style=\"white-space:pre;overflow-x:auto;line-height:normal;font-family:Menlo,'DejaVu Sans Mono',consolas,'Courier New',monospace\"><span style=\"color: #7fbfbf; text-decoration-color: #7fbfbf\">           </span>New file to index: mace_docs_2024.pdf<span style=\"color: #808000; text-decoration-color: #808000\">...</span>                                                                \n",
       "</pre>\n"
      ],
      "text/plain": [
       "\u001b[2;36m          \u001b[0m\u001b[2;36m \u001b[0mNew file to index: mace_docs_2024.pdf\u001b[33m...\u001b[0m                                                                \n"
      ]
     },
     "metadata": {},
     "output_type": "display_data"
    },
    {
     "data": {
      "text/html": [
       "<pre style=\"white-space:pre;overflow-x:auto;line-height:normal;font-family:Menlo,'DejaVu Sans Mono',consolas,'Courier New',monospace\"><span style=\"color: #7fbfbf; text-decoration-color: #7fbfbf\">           </span>New file to index: lucas_2012_hemoglobin_sim.pdf<span style=\"color: #808000; text-decoration-color: #808000\">...</span>                                                     \n",
       "</pre>\n"
      ],
      "text/plain": [
       "\u001b[2;36m          \u001b[0m\u001b[2;36m \u001b[0mNew file to index: lucas_2012_hemoglobin_sim.pdf\u001b[33m...\u001b[0m                                                     \n"
      ]
     },
     "metadata": {},
     "output_type": "display_data"
    },
    {
     "data": {
      "text/html": [
       "<pre style=\"white-space:pre;overflow-x:auto;line-height:normal;font-family:Menlo,'DejaVu Sans Mono',consolas,'Courier New',monospace\"><span style=\"color: #7fbfbf; text-decoration-color: #7fbfbf\">[21:38:46] </span>New file to index: raffaini-ganazzoli-<span style=\"color: #008080; text-decoration-color: #008080; font-weight: bold\">2004</span>-fibronectin_sim.pdf<span style=\"color: #808000; text-decoration-color: #808000\">...</span>                                       \n",
       "</pre>\n"
      ],
      "text/plain": [
       "\u001b[2;36m[21:38:46]\u001b[0m\u001b[2;36m \u001b[0mNew file to index: raffaini-ganazzoli-\u001b[1;36m2004\u001b[0m-fibronectin_sim.pdf\u001b[33m...\u001b[0m                                       \n"
      ]
     },
     "metadata": {},
     "output_type": "display_data"
    },
    {
     "data": {
      "text/html": [
       "<pre style=\"white-space:pre;overflow-x:auto;line-height:normal;font-family:Menlo,'DejaVu Sans Mono',consolas,'Courier New',monospace\"><span style=\"color: #7fbfbf; text-decoration-color: #7fbfbf\">[21:38:47] </span>SEMANTIC_SCHOLAR_API_KEY environment variable not set. Semantic Scholar API rate limits may apply.      \n",
       "</pre>\n"
      ],
      "text/plain": [
       "\u001b[2;36m[21:38:47]\u001b[0m\u001b[2;36m \u001b[0mSEMANTIC_SCHOLAR_API_KEY environment variable not set. Semantic Scholar API rate limits may apply.      \n"
      ]
     },
     "metadata": {},
     "output_type": "display_data"
    },
    {
     "name": "stderr",
     "output_type": "stream",
     "text": [
      "Failed to execute tool call for tool paper_search.\n",
      "Traceback (most recent call last):\n",
      "  File \"/scratch/qcampbe2/myenvs/mdcrow/lib/python3.12/site-packages/aviary/env.py\", line 197, in _exec_tool_call\n",
      "    content = await tool._tool_fn(\n",
      "              ^^^^^^^^^^^^^^^^^^^^\n",
      "  File \"/scratch/qcampbe2/myenvs/mdcrow/lib/python3.12/site-packages/paperqa/agents/tools.py\", line 127, in paper_search\n",
      "    index = await get_directory_index(settings=self.settings)\n",
      "            ^^^^^^^^^^^^^^^^^^^^^^^^^^^^^^^^^^^^^^^^^^^^^^^^^\n",
      "  File \"/scratch/qcampbe2/myenvs/mdcrow/lib/python3.12/site-packages/paperqa/agents/search.py\", line 481, in get_directory_index\n",
      "    async with anyio.create_task_group() as tg:\n",
      "  File \"/scratch/qcampbe2/myenvs/mdcrow/lib/python3.12/site-packages/anyio/_backends/_asyncio.py\", line 597, in __aexit__\n",
      "    raise exceptions[0]\n",
      "  File \"/scratch/qcampbe2/myenvs/mdcrow/lib/python3.12/asyncio/tasks.py\", line 316, in __step_run_and_handle_result\n",
      "    result = coro.throw(exc)\n",
      "             ^^^^^^^^^^^^^^^\n",
      "  File \"/scratch/qcampbe2/myenvs/mdcrow/lib/python3.12/site-packages/paperqa/agents/search.py\", line 377, in process_file\n",
      "    await tmp_docs.aadd(\n",
      "  File \"/scratch/qcampbe2/myenvs/mdcrow/lib/python3.12/site-packages/paperqa/docs.py\", line 346, in aadd\n",
      "    doc = await metadata_client.upgrade_doc_to_doc_details(\n",
      "          ^^^^^^^^^^^^^^^^^^^^^^^^^^^^^^^^^^^^^^^^^^^^^^^^^\n",
      "  File \"/scratch/qcampbe2/myenvs/mdcrow/lib/python3.12/site-packages/paperqa/clients/__init__.py\", line 202, in upgrade_doc_to_doc_details\n",
      "    if doc_details := await self.query(**kwargs):\n",
      "                      ^^^^^^^^^^^^^^^^^^^^^^^^^^\n",
      "  File \"/scratch/qcampbe2/myenvs/mdcrow/lib/python3.12/site-packages/paperqa/clients/__init__.py\", line 150, in query\n",
      "    await gather_with_concurrency(\n",
      "  File \"/scratch/qcampbe2/myenvs/mdcrow/lib/python3.12/site-packages/paperqa/utils.py\", line 111, in gather_with_concurrency\n",
      "    return await asyncio.gather(*(sem_coro(c) for c in coros))\n",
      "           ^^^^^^^^^^^^^^^^^^^^^^^^^^^^^^^^^^^^^^^^^^^^^^^^^^^\n",
      "  File \"/scratch/qcampbe2/myenvs/mdcrow/lib/python3.12/asyncio/tasks.py\", line 385, in __wakeup\n",
      "    future.result()\n",
      "  File \"/scratch/qcampbe2/myenvs/mdcrow/lib/python3.12/asyncio/tasks.py\", line 314, in __step_run_and_handle_result\n",
      "    result = coro.send(None)\n",
      "             ^^^^^^^^^^^^^^^\n",
      "  File \"/scratch/qcampbe2/myenvs/mdcrow/lib/python3.12/site-packages/paperqa/utils.py\", line 109, in sem_coro\n",
      "    return await coro\n",
      "           ^^^^^^^^^^\n",
      "  File \"/scratch/qcampbe2/myenvs/mdcrow/lib/python3.12/site-packages/paperqa/clients/client_models.py\", line 108, in query\n",
      "    return await self._query(client_query)\n",
      "           ^^^^^^^^^^^^^^^^^^^^^^^^^^^^^^^\n",
      "  File \"/scratch/qcampbe2/myenvs/mdcrow/lib/python3.12/site-packages/paperqa/clients/semantic_scholar.py\", line 321, in _query\n",
      "    return await get_s2_doc_details_from_title(\n",
      "           ^^^^^^^^^^^^^^^^^^^^^^^^^^^^^^^^^^^^\n",
      "  File \"/scratch/qcampbe2/myenvs/mdcrow/lib/python3.12/site-packages/paperqa/clients/semantic_scholar.py\", line 306, in get_s2_doc_details_from_title\n",
      "    return await s2_title_search(\n",
      "           ^^^^^^^^^^^^^^^^^^^^^^\n",
      "  File \"/scratch/qcampbe2/myenvs/mdcrow/lib/python3.12/site-packages/paperqa/clients/semantic_scholar.py\", line 218, in s2_title_search\n",
      "    data = await _get_with_retrying(\n",
      "           ^^^^^^^^^^^^^^^^^^^^^^^^^\n",
      "  File \"/scratch/qcampbe2/myenvs/mdcrow/lib/python3.12/site-packages/tenacity/asyncio/__init__.py\", line 189, in async_wrapped\n",
      "    return await copy(fn, *args, **kwargs)\n",
      "           ^^^^^^^^^^^^^^^^^^^^^^^^^^^^^^^\n",
      "  File \"/scratch/qcampbe2/myenvs/mdcrow/lib/python3.12/site-packages/tenacity/asyncio/__init__.py\", line 111, in __call__\n",
      "    do = await self.iter(retry_state=retry_state)\n",
      "         ^^^^^^^^^^^^^^^^^^^^^^^^^^^^^^^^^^^^^^^^\n",
      "  File \"/scratch/qcampbe2/myenvs/mdcrow/lib/python3.12/site-packages/tenacity/asyncio/__init__.py\", line 153, in iter\n",
      "    result = await action(retry_state)\n",
      "             ^^^^^^^^^^^^^^^^^^^^^^^^^\n",
      "  File \"/scratch/qcampbe2/myenvs/mdcrow/lib/python3.12/site-packages/tenacity/_utils.py\", line 99, in inner\n",
      "    return call(*args, **kwargs)\n",
      "           ^^^^^^^^^^^^^^^^^^^^^\n",
      "  File \"/scratch/qcampbe2/myenvs/mdcrow/lib/python3.12/site-packages/tenacity/__init__.py\", line 398, in <lambda>\n",
      "    self._add_action_func(lambda rs: rs.outcome.result())\n",
      "                                     ^^^^^^^^^^^^^^^^^^^\n",
      "  File \"/scratch/qcampbe2/myenvs/mdcrow/lib/python3.12/concurrent/futures/_base.py\", line 449, in result\n",
      "    return self.__get_result()\n",
      "           ^^^^^^^^^^^^^^^^^^^\n",
      "  File \"/scratch/qcampbe2/myenvs/mdcrow/lib/python3.12/concurrent/futures/_base.py\", line 401, in __get_result\n",
      "    raise self._exception\n",
      "  File \"/scratch/qcampbe2/myenvs/mdcrow/lib/python3.12/site-packages/tenacity/asyncio/__init__.py\", line 114, in __call__\n",
      "    result = await fn(*args, **kwargs)\n",
      "             ^^^^^^^^^^^^^^^^^^^^^^^^^\n",
      "  File \"/scratch/qcampbe2/myenvs/mdcrow/lib/python3.12/site-packages/paperqa/utils.py\", line 419, in _get_with_retrying\n",
      "    response.raise_for_status()\n",
      "  File \"/scratch/qcampbe2/myenvs/mdcrow/lib/python3.12/site-packages/aiohttp/client_reqrep.py\", line 1070, in raise_for_status\n",
      "    raise ClientResponseError(\n",
      "aiohttp.client_exceptions.ClientResponseError: 429, message='', url=URL('https://api.semanticscholar.org/graph/v1/paper/search/match?query=Dissecting+Structural+Aspects+of+Protein+Stability&fields=authors,externalIds,journal,title,year')\n"
     ]
    },
    {
     "data": {
      "text/html": [
       "<pre style=\"white-space:pre;overflow-x:auto;line-height:normal;font-family:Menlo,'DejaVu Sans Mono',consolas,'Courier New',monospace\"><span style=\"color: #7fbfbf; text-decoration-color: #7fbfbf\">           </span>Starting paper search for <span style=\"color: #008000; text-decoration-color: #008000\">'protein stability fibronectin computational studies, 2000-2010'</span>.             \n",
       "</pre>\n"
      ],
      "text/plain": [
       "\u001b[2;36m          \u001b[0m\u001b[2;36m \u001b[0mStarting paper search for \u001b[32m'protein stability fibronectin computational studies, 2000-2010'\u001b[0m.             \n"
      ]
     },
     "metadata": {},
     "output_type": "display_data"
    },
    {
     "data": {
      "text/html": [
       "<pre style=\"white-space:pre;overflow-x:auto;line-height:normal;font-family:Menlo,'DejaVu Sans Mono',consolas,'Courier New',monospace\"><span style=\"color: #7fbfbf; text-decoration-color: #7fbfbf\">           </span>New file to index: bringas_2017_hemoglobin.pdf<span style=\"color: #808000; text-decoration-color: #808000\">...</span>                                                       \n",
       "</pre>\n"
      ],
      "text/plain": [
       "\u001b[2;36m          \u001b[0m\u001b[2;36m \u001b[0mNew file to index: bringas_2017_hemoglobin.pdf\u001b[33m...\u001b[0m                                                       \n"
      ]
     },
     "metadata": {},
     "output_type": "display_data"
    },
    {
     "data": {
      "text/html": [
       "<pre style=\"white-space:pre;overflow-x:auto;line-height:normal;font-family:Menlo,'DejaVu Sans Mono',consolas,'Courier New',monospace\"><span style=\"color: #7fbfbf; text-decoration-color: #7fbfbf\">           </span>New file to index: cong_2017_trypsin-ligand.pdf<span style=\"color: #808000; text-decoration-color: #808000\">...</span>                                                      \n",
       "</pre>\n"
      ],
      "text/plain": [
       "\u001b[2;36m          \u001b[0m\u001b[2;36m \u001b[0mNew file to index: cong_2017_trypsin-ligand.pdf\u001b[33m...\u001b[0m                                                      \n"
      ]
     },
     "metadata": {},
     "output_type": "display_data"
    },
    {
     "data": {
      "text/html": [
       "<pre style=\"white-space:pre;overflow-x:auto;line-height:normal;font-family:Menlo,'DejaVu Sans Mono',consolas,'Courier New',monospace\"><span style=\"color: #7fbfbf; text-decoration-color: #7fbfbf\">           </span>New file to index: Vittaladevaram_2023_fibronectin.pdf<span style=\"color: #808000; text-decoration-color: #808000\">...</span>                                               \n",
       "</pre>\n"
      ],
      "text/plain": [
       "\u001b[2;36m          \u001b[0m\u001b[2;36m \u001b[0mNew file to index: Vittaladevaram_2023_fibronectin.pdf\u001b[33m...\u001b[0m                                               \n"
      ]
     },
     "metadata": {},
     "output_type": "display_data"
    },
    {
     "data": {
      "text/html": [
       "<pre style=\"white-space:pre;overflow-x:auto;line-height:normal;font-family:Menlo,'DejaVu Sans Mono',consolas,'Courier New',monospace\"><span style=\"color: #7fbfbf; text-decoration-color: #7fbfbf\">           </span>New file to index: sahoo-<span style=\"color: #008080; text-decoration-color: #008080; font-weight: bold\">2019</span>-unfolding-dynamics-of-ubiquitin.pdf<span style=\"color: #808000; text-decoration-color: #808000\">...</span>                                    \n",
       "</pre>\n"
      ],
      "text/plain": [
       "\u001b[2;36m          \u001b[0m\u001b[2;36m \u001b[0mNew file to index: sahoo-\u001b[1;36m2019\u001b[0m-unfolding-dynamics-of-ubiquitin.pdf\u001b[33m...\u001b[0m                                    \n"
      ]
     },
     "metadata": {},
     "output_type": "display_data"
    },
    {
     "data": {
      "text/html": [
       "<pre style=\"white-space:pre;overflow-x:auto;line-height:normal;font-family:Menlo,'DejaVu Sans Mono',consolas,'Courier New',monospace\"><span style=\"color: #7fbfbf; text-decoration-color: #7fbfbf\">[21:38:48] </span>New file to index: oliveira_2021_b2m_2yxf.pdf<span style=\"color: #808000; text-decoration-color: #808000\">...</span>                                                        \n",
       "</pre>\n"
      ],
      "text/plain": [
       "\u001b[2;36m[21:38:48]\u001b[0m\u001b[2;36m \u001b[0mNew file to index: oliveira_2021_b2m_2yxf.pdf\u001b[33m...\u001b[0m                                                        \n"
      ]
     },
     "metadata": {},
     "output_type": "display_data"
    },
    {
     "data": {
      "text/html": [
       "<pre style=\"white-space:pre;overflow-x:auto;line-height:normal;font-family:Menlo,'DejaVu Sans Mono',consolas,'Courier New',monospace\"><span style=\"color: #7fbfbf; text-decoration-color: #7fbfbf\">           </span>New file to index: lemmon_2017_fibronectin.pdf<span style=\"color: #808000; text-decoration-color: #808000\">...</span>                                                       \n",
       "</pre>\n"
      ],
      "text/plain": [
       "\u001b[2;36m          \u001b[0m\u001b[2;36m \u001b[0mNew file to index: lemmon_2017_fibronectin.pdf\u001b[33m...\u001b[0m                                                       \n"
      ]
     },
     "metadata": {},
     "output_type": "display_data"
    },
    {
     "data": {
      "text/html": [
       "<pre style=\"white-space:pre;overflow-x:auto;line-height:normal;font-family:Menlo,'DejaVu Sans Mono',consolas,'Courier New',monospace\"><span style=\"color: #7fbfbf; text-decoration-color: #7fbfbf\">           </span>New file to index: liamas_2018_fibronectin_1fnf.pdf<span style=\"color: #808000; text-decoration-color: #808000\">...</span>                                                  \n",
       "</pre>\n"
      ],
      "text/plain": [
       "\u001b[2;36m          \u001b[0m\u001b[2;36m \u001b[0mNew file to index: liamas_2018_fibronectin_1fnf.pdf\u001b[33m...\u001b[0m                                                  \n"
      ]
     },
     "metadata": {},
     "output_type": "display_data"
    },
    {
     "data": {
      "text/html": [
       "<pre style=\"white-space:pre;overflow-x:auto;line-height:normal;font-family:Menlo,'DejaVu Sans Mono',consolas,'Courier New',monospace\"><span style=\"color: #7fbfbf; text-decoration-color: #7fbfbf\">           </span>New file to index: ganoth_2013_ubiquitin.pdf<span style=\"color: #808000; text-decoration-color: #808000\">...</span>                                                         \n",
       "</pre>\n"
      ],
      "text/plain": [
       "\u001b[2;36m          \u001b[0m\u001b[2;36m \u001b[0mNew file to index: ganoth_2013_ubiquitin.pdf\u001b[33m...\u001b[0m                                                         \n"
      ]
     },
     "metadata": {},
     "output_type": "display_data"
    },
    {
     "data": {
      "text/html": [
       "<pre style=\"white-space:pre;overflow-x:auto;line-height:normal;font-family:Menlo,'DejaVu Sans Mono',consolas,'Courier New',monospace\"><span style=\"color: #7fbfbf; text-decoration-color: #7fbfbf\">           </span>New file to index: morand_2021_b2m_2yxf.pdf<span style=\"color: #808000; text-decoration-color: #808000\">...</span>                                                          \n",
       "</pre>\n"
      ],
      "text/plain": [
       "\u001b[2;36m          \u001b[0m\u001b[2;36m \u001b[0mNew file to index: morand_2021_b2m_2yxf.pdf\u001b[33m...\u001b[0m                                                          \n"
      ]
     },
     "metadata": {},
     "output_type": "display_data"
    },
    {
     "data": {
      "text/html": [
       "<pre style=\"white-space:pre;overflow-x:auto;line-height:normal;font-family:Menlo,'DejaVu Sans Mono',consolas,'Courier New',monospace\"><span style=\"color: #7fbfbf; text-decoration-color: #7fbfbf\">           </span>New file to index: clark_1985_hemoglobin.pdf<span style=\"color: #808000; text-decoration-color: #808000\">...</span>                                                         \n",
       "</pre>\n"
      ],
      "text/plain": [
       "\u001b[2;36m          \u001b[0m\u001b[2;36m \u001b[0mNew file to index: clark_1985_hemoglobin.pdf\u001b[33m...\u001b[0m                                                         \n"
      ]
     },
     "metadata": {},
     "output_type": "display_data"
    },
    {
     "data": {
      "text/html": [
       "<pre style=\"white-space:pre;overflow-x:auto;line-height:normal;font-family:Menlo,'DejaVu Sans Mono',consolas,'Courier New',monospace\"><span style=\"color: #7fbfbf; text-decoration-color: #7fbfbf\">[21:38:49] </span>New file to index:                                                                                      \n",
       "<span style=\"color: #7fbfbf; text-decoration-color: #7fbfbf\">           </span>mshirts%2C+<span style=\"color: #008080; text-decoration-color: #008080; font-weight: bold\">5957</span>-best-practices-for-foundations-in-molecular-simulations-article-v1-<span style=\"color: #008080; text-decoration-color: #008080; font-weight: bold\">0</span>+%<span style=\"color: #008080; text-decoration-color: #008080; font-weight: bold\">281</span>%<span style=\"color: #008080; text-decoration-color: #008080; font-weight: bold\">29.</span>pdf<span style=\"color: #808000; text-decoration-color: #808000\">...</span>     \n",
       "</pre>\n"
      ],
      "text/plain": [
       "\u001b[2;36m[21:38:49]\u001b[0m\u001b[2;36m \u001b[0mNew file to index:                                                                                      \n",
       "\u001b[2;36m           \u001b[0mmshirts%2C+\u001b[1;36m5957\u001b[0m-best-practices-for-foundations-in-molecular-simulations-article-v1-\u001b[1;36m0\u001b[0m+%\u001b[1;36m281\u001b[0m%\u001b[1;36m29.\u001b[0mpdf\u001b[33m...\u001b[0m     \n"
      ]
     },
     "metadata": {},
     "output_type": "display_data"
    },
    {
     "data": {
      "text/html": [
       "<pre style=\"white-space:pre;overflow-x:auto;line-height:normal;font-family:Menlo,'DejaVu Sans Mono',consolas,'Courier New',monospace\"><span style=\"color: #7fbfbf; text-decoration-color: #7fbfbf\">           </span>New file to index: sala_2018_proteinstability.pdf<span style=\"color: #808000; text-decoration-color: #808000\">...</span>                                                    \n",
       "</pre>\n"
      ],
      "text/plain": [
       "\u001b[2;36m          \u001b[0m\u001b[2;36m \u001b[0mNew file to index: sala_2018_proteinstability.pdf\u001b[33m...\u001b[0m                                                    \n"
      ]
     },
     "metadata": {},
     "output_type": "display_data"
    },
    {
     "data": {
      "text/html": [
       "<pre style=\"white-space:pre;overflow-x:auto;line-height:normal;font-family:Menlo,'DejaVu Sans Mono',consolas,'Courier New',monospace\"><span style=\"color: #7fbfbf; text-decoration-color: #7fbfbf\">           </span>New file to index: hage_2018_hemoglobin_sim_SI.pdf<span style=\"color: #808000; text-decoration-color: #808000\">...</span>                                                   \n",
       "</pre>\n"
      ],
      "text/plain": [
       "\u001b[2;36m          \u001b[0m\u001b[2;36m \u001b[0mNew file to index: hage_2018_hemoglobin_sim_SI.pdf\u001b[33m...\u001b[0m                                                   \n"
      ]
     },
     "metadata": {},
     "output_type": "display_data"
    },
    {
     "data": {
      "text/html": [
       "<pre style=\"white-space:pre;overflow-x:auto;line-height:normal;font-family:Menlo,'DejaVu Sans Mono',consolas,'Courier New',monospace\"><span style=\"color: #7fbfbf; text-decoration-color: #7fbfbf\">           </span>New file to index: laberge_2008_hemoglobin_sim.pdf<span style=\"color: #808000; text-decoration-color: #808000\">...</span>                                                   \n",
       "</pre>\n"
      ],
      "text/plain": [
       "\u001b[2;36m          \u001b[0m\u001b[2;36m \u001b[0mNew file to index: laberge_2008_hemoglobin_sim.pdf\u001b[33m...\u001b[0m                                                   \n"
      ]
     },
     "metadata": {},
     "output_type": "display_data"
    },
    {
     "data": {
      "text/html": [
       "<pre style=\"white-space:pre;overflow-x:auto;line-height:normal;font-family:Menlo,'DejaVu Sans Mono',consolas,'Courier New',monospace\"><span style=\"color: #7fbfbf; text-decoration-color: #7fbfbf\">           </span>New file to index: <span style=\"color: #008080; text-decoration-color: #008080; font-weight: bold\">10.</span>1002slct.<span style=\"color: #008080; text-decoration-color: #008080; font-weight: bold\">201801398.</span>pdf<span style=\"color: #808000; text-decoration-color: #808000\">...</span>                                                         \n",
       "</pre>\n"
      ],
      "text/plain": [
       "\u001b[2;36m          \u001b[0m\u001b[2;36m \u001b[0mNew file to index: \u001b[1;36m10.\u001b[0m1002slct.\u001b[1;36m201801398.\u001b[0mpdf\u001b[33m...\u001b[0m                                                         \n"
      ]
     },
     "metadata": {},
     "output_type": "display_data"
    },
    {
     "data": {
      "text/html": [
       "<pre style=\"white-space:pre;overflow-x:auto;line-height:normal;font-family:Menlo,'DejaVu Sans Mono',consolas,'Courier New',monospace\"><span style=\"color: #7fbfbf; text-decoration-color: #7fbfbf\">           </span>New file to index: paci_1999_fibronectin_1fnf.pdf<span style=\"color: #808000; text-decoration-color: #808000\">...</span>                                                    \n",
       "</pre>\n"
      ],
      "text/plain": [
       "\u001b[2;36m          \u001b[0m\u001b[2;36m \u001b[0mNew file to index: paci_1999_fibronectin_1fnf.pdf\u001b[33m...\u001b[0m                                                    \n"
      ]
     },
     "metadata": {},
     "output_type": "display_data"
    },
    {
     "data": {
      "text/html": [
       "<pre style=\"white-space:pre;overflow-x:auto;line-height:normal;font-family:Menlo,'DejaVu Sans Mono',consolas,'Courier New',monospace\"><span style=\"color: #7fbfbf; text-decoration-color: #7fbfbf\">           </span>New file to index: gee_2008_fibronectin_1fnf.pdf<span style=\"color: #808000; text-decoration-color: #808000\">...</span>                                                     \n",
       "</pre>\n"
      ],
      "text/plain": [
       "\u001b[2;36m          \u001b[0m\u001b[2;36m \u001b[0mNew file to index: gee_2008_fibronectin_1fnf.pdf\u001b[33m...\u001b[0m                                                     \n"
      ]
     },
     "metadata": {},
     "output_type": "display_data"
    },
    {
     "data": {
      "text/html": [
       "<pre style=\"white-space:pre;overflow-x:auto;line-height:normal;font-family:Menlo,'DejaVu Sans Mono',consolas,'Courier New',monospace\"><span style=\"color: #7fbfbf; text-decoration-color: #7fbfbf\">           </span>New file to index: hage_2018_hemoglobin_sim.pdf<span style=\"color: #808000; text-decoration-color: #808000\">...</span>                                                      \n",
       "</pre>\n"
      ],
      "text/plain": [
       "\u001b[2;36m          \u001b[0m\u001b[2;36m \u001b[0mNew file to index: hage_2018_hemoglobin_sim.pdf\u001b[33m...\u001b[0m                                                      \n"
      ]
     },
     "metadata": {},
     "output_type": "display_data"
    },
    {
     "data": {
      "text/html": [
       "<pre style=\"white-space:pre;overflow-x:auto;line-height:normal;font-family:Menlo,'DejaVu Sans Mono',consolas,'Courier New',monospace\"><span style=\"color: #7fbfbf; text-decoration-color: #7fbfbf\">           </span>New file to index: dunkelberger-et-al-2018_hemoglobin.pdf<span style=\"color: #808000; text-decoration-color: #808000\">...</span>                                            \n",
       "</pre>\n"
      ],
      "text/plain": [
       "\u001b[2;36m          \u001b[0m\u001b[2;36m \u001b[0mNew file to index: dunkelberger-et-al-2018_hemoglobin.pdf\u001b[33m...\u001b[0m                                            \n"
      ]
     },
     "metadata": {},
     "output_type": "display_data"
    },
    {
     "data": {
      "text/html": [
       "<pre style=\"white-space:pre;overflow-x:auto;line-height:normal;font-family:Menlo,'DejaVu Sans Mono',consolas,'Courier New',monospace\"><span style=\"color: #7fbfbf; text-decoration-color: #7fbfbf\">[21:38:50] </span>New file to index: liao_2014_fibronectin_sim.pdf<span style=\"color: #808000; text-decoration-color: #808000\">...</span>                                                     \n",
       "</pre>\n"
      ],
      "text/plain": [
       "\u001b[2;36m[21:38:50]\u001b[0m\u001b[2;36m \u001b[0mNew file to index: liao_2014_fibronectin_sim.pdf\u001b[33m...\u001b[0m                                                     \n"
      ]
     },
     "metadata": {},
     "output_type": "display_data"
    },
    {
     "data": {
      "text/html": [
       "<pre style=\"white-space:pre;overflow-x:auto;line-height:normal;font-family:Menlo,'DejaVu Sans Mono',consolas,'Courier New',monospace\"><span style=\"color: #7fbfbf; text-decoration-color: #7fbfbf\">           </span>New file to index: lucas_2012_hemoglobin_sim_SI.pdf<span style=\"color: #808000; text-decoration-color: #808000\">...</span>                                                  \n",
       "</pre>\n"
      ],
      "text/plain": [
       "\u001b[2;36m          \u001b[0m\u001b[2;36m \u001b[0mNew file to index: lucas_2012_hemoglobin_sim_SI.pdf\u001b[33m...\u001b[0m                                                  \n"
      ]
     },
     "metadata": {},
     "output_type": "display_data"
    },
    {
     "data": {
      "text/html": [
       "<pre style=\"white-space:pre;overflow-x:auto;line-height:normal;font-family:Menlo,'DejaVu Sans Mono',consolas,'Courier New',monospace\"><span style=\"color: #7fbfbf; text-decoration-color: #7fbfbf\">           </span>New file to index: hao_2021_fibronectin.pdf<span style=\"color: #808000; text-decoration-color: #808000\">...</span>                                                          \n",
       "</pre>\n"
      ],
      "text/plain": [
       "\u001b[2;36m          \u001b[0m\u001b[2;36m \u001b[0mNew file to index: hao_2021_fibronectin.pdf\u001b[33m...\u001b[0m                                                          \n"
      ]
     },
     "metadata": {},
     "output_type": "display_data"
    },
    {
     "data": {
      "text/html": [
       "<pre style=\"white-space:pre;overflow-x:auto;line-height:normal;font-family:Menlo,'DejaVu Sans Mono',consolas,'Courier New',monospace\"><span style=\"color: #7fbfbf; text-decoration-color: #7fbfbf\">           </span>New file to index: mace_docs_2024.pdf<span style=\"color: #808000; text-decoration-color: #808000\">...</span>                                                                \n",
       "</pre>\n"
      ],
      "text/plain": [
       "\u001b[2;36m          \u001b[0m\u001b[2;36m \u001b[0mNew file to index: mace_docs_2024.pdf\u001b[33m...\u001b[0m                                                                \n"
      ]
     },
     "metadata": {},
     "output_type": "display_data"
    },
    {
     "data": {
      "text/html": [
       "<pre style=\"white-space:pre;overflow-x:auto;line-height:normal;font-family:Menlo,'DejaVu Sans Mono',consolas,'Courier New',monospace\"><span style=\"color: #7fbfbf; text-decoration-color: #7fbfbf\">           </span>Request to CrossrefProvider for Predicting Stable Binding Modes from Simulated Dimers of the D76N Mutant\n",
       "<span style=\"color: #7fbfbf; text-decoration-color: #7fbfbf\">           </span>of β2-Microglobulin timed out.                                                                          \n",
       "</pre>\n"
      ],
      "text/plain": [
       "\u001b[2;36m          \u001b[0m\u001b[2;36m \u001b[0mRequest to CrossrefProvider for Predicting Stable Binding Modes from Simulated Dimers of the D76N Mutant\n",
       "\u001b[2;36m           \u001b[0mof β2-Microglobulin timed out.                                                                          \n"
      ]
     },
     "metadata": {},
     "output_type": "display_data"
    },
    {
     "data": {
      "text/html": [
       "<pre style=\"white-space:pre;overflow-x:auto;line-height:normal;font-family:Menlo,'DejaVu Sans Mono',consolas,'Courier New',monospace\"><span style=\"color: #7fbfbf; text-decoration-color: #7fbfbf\">           </span>New file to index: lucas_2012_hemoglobin_sim.pdf<span style=\"color: #808000; text-decoration-color: #808000\">...</span>                                                     \n",
       "</pre>\n"
      ],
      "text/plain": [
       "\u001b[2;36m          \u001b[0m\u001b[2;36m \u001b[0mNew file to index: lucas_2012_hemoglobin_sim.pdf\u001b[33m...\u001b[0m                                                     \n"
      ]
     },
     "metadata": {},
     "output_type": "display_data"
    },
    {
     "data": {
      "text/html": [
       "<pre style=\"white-space:pre;overflow-x:auto;line-height:normal;font-family:Menlo,'DejaVu Sans Mono',consolas,'Courier New',monospace\"><span style=\"color: #7fbfbf; text-decoration-color: #7fbfbf\">           </span>New file to index: raffaini-ganazzoli-<span style=\"color: #008080; text-decoration-color: #008080; font-weight: bold\">2004</span>-fibronectin_sim.pdf<span style=\"color: #808000; text-decoration-color: #808000\">...</span>                                       \n",
       "</pre>\n"
      ],
      "text/plain": [
       "\u001b[2;36m          \u001b[0m\u001b[2;36m \u001b[0mNew file to index: raffaini-ganazzoli-\u001b[1;36m2004\u001b[0m-fibronectin_sim.pdf\u001b[33m...\u001b[0m                                       \n"
      ]
     },
     "metadata": {},
     "output_type": "display_data"
    },
    {
     "name": "stderr",
     "output_type": "stream",
     "text": [
      "Unclosed client session\n",
      "client_session: <aiohttp.client.ClientSession object at 0x2b49b84bac00>\n"
     ]
    },
    {
     "name": "stderr",
     "output_type": "stream",
     "text": [
      "Unclosed client session\n",
      "client_session: <aiohttp.client.ClientSession object at 0x2b49b862b320>\n"
     ]
    },
    {
     "name": "stderr",
     "output_type": "stream",
     "text": [
      "Unclosed client session\n",
      "client_session: <aiohttp.client.ClientSession object at 0x2b49b956b5c0>\n"
     ]
    },
    {
     "name": "stderr",
     "output_type": "stream",
     "text": [
      "Unclosed connector\n",
      "connections: ['[(<aiohttp.client_proto.ResponseHandler object at 0x2b49b85fa2d0>, 2938786.273162508)]']\n",
      "connector: <aiohttp.connector.TCPConnector object at 0x2b49b80b9610>\n"
     ]
    },
    {
     "name": "stderr",
     "output_type": "stream",
     "text": [
      "Unclosed client session\n",
      "client_session: <aiohttp.client.ClientSession object at 0x2b49b95e5850>\n"
     ]
    },
    {
     "name": "stderr",
     "output_type": "stream",
     "text": [
      "Unclosed client session\n",
      "client_session: <aiohttp.client.ClientSession object at 0x2b49b940e0c0>\n"
     ]
    },
    {
     "name": "stderr",
     "output_type": "stream",
     "text": [
      "Unclosed client session\n",
      "client_session: <aiohttp.client.ClientSession object at 0x2b49458a4f50>\n"
     ]
    },
    {
     "name": "stderr",
     "output_type": "stream",
     "text": [
      "Unclosed client session\n",
      "client_session: <aiohttp.client.ClientSession object at 0x2b49b9561910>\n"
     ]
    },
    {
     "name": "stderr",
     "output_type": "stream",
     "text": [
      "Unclosed client session\n",
      "client_session: <aiohttp.client.ClientSession object at 0x2b49b981a2d0>\n"
     ]
    },
    {
     "name": "stderr",
     "output_type": "stream",
     "text": [
      "Unclosed client session\n",
      "client_session: <aiohttp.client.ClientSession object at 0x2b48e83f4f50>\n"
     ]
    },
    {
     "name": "stderr",
     "output_type": "stream",
     "text": [
      "Unclosed client session\n",
      "client_session: <aiohttp.client.ClientSession object at 0x2b49b86eab40>\n"
     ]
    },
    {
     "name": "stderr",
     "output_type": "stream",
     "text": [
      "Unclosed client session\n",
      "client_session: <aiohttp.client.ClientSession object at 0x2b49b95e6990>\n"
     ]
    },
    {
     "name": "stderr",
     "output_type": "stream",
     "text": [
      "Unclosed client session\n",
      "client_session: <aiohttp.client.ClientSession object at 0x2b49b95b8260>\n"
     ]
    },
    {
     "name": "stderr",
     "output_type": "stream",
     "text": [
      "Unclosed client session\n",
      "client_session: <aiohttp.client.ClientSession object at 0x2b49b94334a0>\n"
     ]
    },
    {
     "name": "stderr",
     "output_type": "stream",
     "text": [
      "Unclosed client session\n",
      "client_session: <aiohttp.client.ClientSession object at 0x2b49b981bb90>\n"
     ]
    },
    {
     "name": "stderr",
     "output_type": "stream",
     "text": [
      "Unclosed client session\n",
      "client_session: <aiohttp.client.ClientSession object at 0x2b49b86d6420>\n"
     ]
    },
    {
     "data": {
      "text/html": [
       "<pre style=\"white-space:pre;overflow-x:auto;line-height:normal;font-family:Menlo,'DejaVu Sans Mono',consolas,'Courier New',monospace\"><span style=\"color: #7fbfbf; text-decoration-color: #7fbfbf\">[21:38:52] </span>SEMANTIC_SCHOLAR_API_KEY environment variable not set. Semantic Scholar API rate limits may apply.      \n",
       "</pre>\n"
      ],
      "text/plain": [
       "\u001b[2;36m[21:38:52]\u001b[0m\u001b[2;36m \u001b[0mSEMANTIC_SCHOLAR_API_KEY environment variable not set. Semantic Scholar API rate limits may apply.      \n"
      ]
     },
     "metadata": {},
     "output_type": "display_data"
    },
    {
     "data": {
      "text/html": [
       "<pre style=\"white-space:pre;overflow-x:auto;line-height:normal;font-family:Menlo,'DejaVu Sans Mono',consolas,'Courier New',monospace\"><span style=\"color: #7fbfbf; text-decoration-color: #7fbfbf\">           </span>SEMANTIC_SCHOLAR_API_KEY environment variable not set. Semantic Scholar API rate limits may apply.      \n",
       "</pre>\n"
      ],
      "text/plain": [
       "\u001b[2;36m          \u001b[0m\u001b[2;36m \u001b[0mSEMANTIC_SCHOLAR_API_KEY environment variable not set. Semantic Scholar API rate limits may apply.      \n"
      ]
     },
     "metadata": {},
     "output_type": "display_data"
    },
    {
     "data": {
      "text/html": [
       "<pre style=\"white-space:pre;overflow-x:auto;line-height:normal;font-family:Menlo,'DejaVu Sans Mono',consolas,'Courier New',monospace\"><span style=\"color: #7fbfbf; text-decoration-color: #7fbfbf\">           </span>SEMANTIC_SCHOLAR_API_KEY environment variable not set. Semantic Scholar API rate limits may apply.      \n",
       "</pre>\n"
      ],
      "text/plain": [
       "\u001b[2;36m          \u001b[0m\u001b[2;36m \u001b[0mSEMANTIC_SCHOLAR_API_KEY environment variable not set. Semantic Scholar API rate limits may apply.      \n"
      ]
     },
     "metadata": {},
     "output_type": "display_data"
    },
    {
     "data": {
      "text/html": [
       "<pre style=\"white-space:pre;overflow-x:auto;line-height:normal;font-family:Menlo,'DejaVu Sans Mono',consolas,'Courier New',monospace\"><span style=\"color: #7fbfbf; text-decoration-color: #7fbfbf\">           </span>SEMANTIC_SCHOLAR_API_KEY environment variable not set. Semantic Scholar API rate limits may apply.      \n",
       "</pre>\n"
      ],
      "text/plain": [
       "\u001b[2;36m          \u001b[0m\u001b[2;36m \u001b[0mSEMANTIC_SCHOLAR_API_KEY environment variable not set. Semantic Scholar API rate limits may apply.      \n"
      ]
     },
     "metadata": {},
     "output_type": "display_data"
    },
    {
     "data": {
      "text/html": [
       "<pre style=\"white-space:pre;overflow-x:auto;line-height:normal;font-family:Menlo,'DejaVu Sans Mono',consolas,'Courier New',monospace\"><span style=\"color: #7fbfbf; text-decoration-color: #7fbfbf\">           </span>SEMANTIC_SCHOLAR_API_KEY environment variable not set. Semantic Scholar API rate limits may apply.      \n",
       "</pre>\n"
      ],
      "text/plain": [
       "\u001b[2;36m          \u001b[0m\u001b[2;36m \u001b[0mSEMANTIC_SCHOLAR_API_KEY environment variable not set. Semantic Scholar API rate limits may apply.      \n"
      ]
     },
     "metadata": {},
     "output_type": "display_data"
    },
    {
     "data": {
      "text/html": [
       "<pre style=\"white-space:pre;overflow-x:auto;line-height:normal;font-family:Menlo,'DejaVu Sans Mono',consolas,'Courier New',monospace\"><span style=\"color: #7fbfbf; text-decoration-color: #7fbfbf\">           </span>SEMANTIC_SCHOLAR_API_KEY environment variable not set. Semantic Scholar API rate limits may apply.      \n",
       "</pre>\n"
      ],
      "text/plain": [
       "\u001b[2;36m          \u001b[0m\u001b[2;36m \u001b[0mSEMANTIC_SCHOLAR_API_KEY environment variable not set. Semantic Scholar API rate limits may apply.      \n"
      ]
     },
     "metadata": {},
     "output_type": "display_data"
    },
    {
     "data": {
      "text/html": [
       "<pre style=\"white-space:pre;overflow-x:auto;line-height:normal;font-family:Menlo,'DejaVu Sans Mono',consolas,'Courier New',monospace\"><span style=\"color: #7fbfbf; text-decoration-color: #7fbfbf\">           </span>Metadata not found for eLife’s Transparent Reporting Form in SemanticScholarProvider.                   \n",
       "</pre>\n"
      ],
      "text/plain": [
       "\u001b[2;36m          \u001b[0m\u001b[2;36m \u001b[0mMetadata not found for eLife’s Transparent Reporting Form in SemanticScholarProvider.                   \n"
      ]
     },
     "metadata": {},
     "output_type": "display_data"
    },
    {
     "name": "stderr",
     "output_type": "stream",
     "text": [
      "Failed to execute tool call for tool paper_search.\n",
      "Traceback (most recent call last):\n",
      "  File \"/scratch/qcampbe2/myenvs/mdcrow/lib/python3.12/site-packages/aviary/env.py\", line 197, in _exec_tool_call\n",
      "    content = await tool._tool_fn(\n",
      "              ^^^^^^^^^^^^^^^^^^^^\n",
      "  File \"/scratch/qcampbe2/myenvs/mdcrow/lib/python3.12/site-packages/paperqa/agents/tools.py\", line 127, in paper_search\n",
      "    index = await get_directory_index(settings=self.settings)\n",
      "            ^^^^^^^^^^^^^^^^^^^^^^^^^^^^^^^^^^^^^^^^^^^^^^^^^\n",
      "  File \"/scratch/qcampbe2/myenvs/mdcrow/lib/python3.12/site-packages/paperqa/agents/search.py\", line 481, in get_directory_index\n",
      "    async with anyio.create_task_group() as tg:\n",
      "  File \"/scratch/qcampbe2/myenvs/mdcrow/lib/python3.12/site-packages/anyio/_backends/_asyncio.py\", line 597, in __aexit__\n",
      "    raise exceptions[0]\n",
      "  File \"/scratch/qcampbe2/myenvs/mdcrow/lib/python3.12/asyncio/tasks.py\", line 316, in __step_run_and_handle_result\n",
      "    result = coro.throw(exc)\n",
      "             ^^^^^^^^^^^^^^^\n",
      "  File \"/scratch/qcampbe2/myenvs/mdcrow/lib/python3.12/site-packages/paperqa/agents/search.py\", line 377, in process_file\n",
      "    await tmp_docs.aadd(\n",
      "  File \"/scratch/qcampbe2/myenvs/mdcrow/lib/python3.12/site-packages/paperqa/docs.py\", line 346, in aadd\n",
      "    doc = await metadata_client.upgrade_doc_to_doc_details(\n",
      "          ^^^^^^^^^^^^^^^^^^^^^^^^^^^^^^^^^^^^^^^^^^^^^^^^^\n",
      "  File \"/scratch/qcampbe2/myenvs/mdcrow/lib/python3.12/site-packages/paperqa/clients/__init__.py\", line 202, in upgrade_doc_to_doc_details\n",
      "    if doc_details := await self.query(**kwargs):\n",
      "                      ^^^^^^^^^^^^^^^^^^^^^^^^^^\n",
      "  File \"/scratch/qcampbe2/myenvs/mdcrow/lib/python3.12/site-packages/paperqa/clients/__init__.py\", line 150, in query\n",
      "    await gather_with_concurrency(\n",
      "  File \"/scratch/qcampbe2/myenvs/mdcrow/lib/python3.12/site-packages/paperqa/utils.py\", line 111, in gather_with_concurrency\n",
      "    return await asyncio.gather(*(sem_coro(c) for c in coros))\n",
      "           ^^^^^^^^^^^^^^^^^^^^^^^^^^^^^^^^^^^^^^^^^^^^^^^^^^^\n",
      "  File \"/scratch/qcampbe2/myenvs/mdcrow/lib/python3.12/asyncio/tasks.py\", line 385, in __wakeup\n",
      "    future.result()\n",
      "  File \"/scratch/qcampbe2/myenvs/mdcrow/lib/python3.12/asyncio/tasks.py\", line 314, in __step_run_and_handle_result\n",
      "    result = coro.send(None)\n",
      "             ^^^^^^^^^^^^^^^\n",
      "  File \"/scratch/qcampbe2/myenvs/mdcrow/lib/python3.12/site-packages/paperqa/utils.py\", line 109, in sem_coro\n",
      "    return await coro\n",
      "           ^^^^^^^^^^\n",
      "  File \"/scratch/qcampbe2/myenvs/mdcrow/lib/python3.12/site-packages/paperqa/clients/client_models.py\", line 108, in query\n",
      "    return await self._query(client_query)\n",
      "           ^^^^^^^^^^^^^^^^^^^^^^^^^^^^^^^\n",
      "  File \"/scratch/qcampbe2/myenvs/mdcrow/lib/python3.12/site-packages/paperqa/clients/semantic_scholar.py\", line 321, in _query\n",
      "    return await get_s2_doc_details_from_title(\n",
      "           ^^^^^^^^^^^^^^^^^^^^^^^^^^^^^^^^^^^^\n",
      "  File \"/scratch/qcampbe2/myenvs/mdcrow/lib/python3.12/site-packages/paperqa/clients/semantic_scholar.py\", line 306, in get_s2_doc_details_from_title\n",
      "    return await s2_title_search(\n",
      "           ^^^^^^^^^^^^^^^^^^^^^^\n",
      "  File \"/scratch/qcampbe2/myenvs/mdcrow/lib/python3.12/site-packages/paperqa/clients/semantic_scholar.py\", line 218, in s2_title_search\n",
      "    data = await _get_with_retrying(\n",
      "           ^^^^^^^^^^^^^^^^^^^^^^^^^\n",
      "  File \"/scratch/qcampbe2/myenvs/mdcrow/lib/python3.12/site-packages/tenacity/asyncio/__init__.py\", line 189, in async_wrapped\n",
      "    return await copy(fn, *args, **kwargs)\n",
      "           ^^^^^^^^^^^^^^^^^^^^^^^^^^^^^^^\n",
      "  File \"/scratch/qcampbe2/myenvs/mdcrow/lib/python3.12/site-packages/tenacity/asyncio/__init__.py\", line 111, in __call__\n",
      "    do = await self.iter(retry_state=retry_state)\n",
      "         ^^^^^^^^^^^^^^^^^^^^^^^^^^^^^^^^^^^^^^^^\n",
      "  File \"/scratch/qcampbe2/myenvs/mdcrow/lib/python3.12/site-packages/tenacity/asyncio/__init__.py\", line 153, in iter\n",
      "    result = await action(retry_state)\n",
      "             ^^^^^^^^^^^^^^^^^^^^^^^^^\n",
      "  File \"/scratch/qcampbe2/myenvs/mdcrow/lib/python3.12/site-packages/tenacity/_utils.py\", line 99, in inner\n",
      "    return call(*args, **kwargs)\n",
      "           ^^^^^^^^^^^^^^^^^^^^^\n",
      "  File \"/scratch/qcampbe2/myenvs/mdcrow/lib/python3.12/site-packages/tenacity/__init__.py\", line 398, in <lambda>\n",
      "    self._add_action_func(lambda rs: rs.outcome.result())\n",
      "                                     ^^^^^^^^^^^^^^^^^^^\n",
      "  File \"/scratch/qcampbe2/myenvs/mdcrow/lib/python3.12/concurrent/futures/_base.py\", line 449, in result\n",
      "    return self.__get_result()\n",
      "           ^^^^^^^^^^^^^^^^^^^\n",
      "  File \"/scratch/qcampbe2/myenvs/mdcrow/lib/python3.12/concurrent/futures/_base.py\", line 401, in __get_result\n",
      "    raise self._exception\n",
      "  File \"/scratch/qcampbe2/myenvs/mdcrow/lib/python3.12/site-packages/tenacity/asyncio/__init__.py\", line 114, in __call__\n",
      "    result = await fn(*args, **kwargs)\n",
      "             ^^^^^^^^^^^^^^^^^^^^^^^^^\n",
      "  File \"/scratch/qcampbe2/myenvs/mdcrow/lib/python3.12/site-packages/paperqa/utils.py\", line 419, in _get_with_retrying\n",
      "    response.raise_for_status()\n",
      "  File \"/scratch/qcampbe2/myenvs/mdcrow/lib/python3.12/site-packages/aiohttp/client_reqrep.py\", line 1070, in raise_for_status\n",
      "    raise ClientResponseError(\n",
      "aiohttp.client_exceptions.ClientResponseError: 429, message='', url=URL('https://api.semanticscholar.org/graph/v1/paper/search/match?query=Molecular+Dynamics+Simulations+of+Hemoglobin+A+in+Different+States+and+Bound+to+DPG:+Effector-Linked+Perturbation+of+Tertiary+Conformations+and+HbA+Concerted+Dynamics&fields=authors,externalIds,journal,title,year')\n"
     ]
    },
    {
     "name": "stderr",
     "output_type": "stream",
     "text": [
      "Failed to execute tool call for tool gather_evidence.\n",
      "Traceback (most recent call last):\n",
      "  File \"/scratch/qcampbe2/myenvs/mdcrow/lib/python3.12/site-packages/aviary/env.py\", line 197, in _exec_tool_call\n",
      "    content = await tool._tool_fn(\n",
      "              ^^^^^^^^^^^^^^^^^^^^\n",
      "  File \"/scratch/qcampbe2/myenvs/mdcrow/lib/python3.12/site-packages/paperqa/agents/tools.py\", line 188, in gather_evidence\n",
      "    raise EmptyDocsError(\"Not gathering evidence due to having no papers.\")\n",
      "paperqa.agents.tools.EmptyDocsError: Not gathering evidence due to having no papers.\n"
     ]
    },
    {
     "data": {
      "text/html": [
       "<pre style=\"white-space:pre;overflow-x:auto;line-height:normal;font-family:Menlo,'DejaVu Sans Mono',consolas,'Courier New',monospace\"><span style=\"color: #7fbfbf; text-decoration-color: #7fbfbf\">           </span>Generating answer for <span style=\"color: #008000; text-decoration-color: #008000\">'temperature range for fibronectin simulation'</span>.                                   \n",
       "</pre>\n"
      ],
      "text/plain": [
       "\u001b[2;36m          \u001b[0m\u001b[2;36m \u001b[0mGenerating answer for \u001b[32m'temperature range for fibronectin simulation'\u001b[0m.                                   \n"
      ]
     },
     "metadata": {},
     "output_type": "display_data"
    },
    {
     "data": {
      "text/html": [
       "<pre style=\"white-space:pre;overflow-x:auto;line-height:normal;font-family:Menlo,'DejaVu Sans Mono',consolas,'Courier New',monospace\"><span style=\"color: #7fbfbf; text-decoration-color: #7fbfbf\">           </span>Request to CrossrefProvider for Dissecting Structural Aspects of Protein Stability timed out.           \n",
       "</pre>\n"
      ],
      "text/plain": [
       "\u001b[2;36m          \u001b[0m\u001b[2;36m \u001b[0mRequest to CrossrefProvider for Dissecting Structural Aspects of Protein Stability timed out.           \n"
      ]
     },
     "metadata": {},
     "output_type": "display_data"
    },
    {
     "data": {
      "text/html": [
       "<pre style=\"white-space:pre;overflow-x:auto;line-height:normal;font-family:Menlo,'DejaVu Sans Mono',consolas,'Courier New',monospace\"><span style=\"color: #7fbfbf; text-decoration-color: #7fbfbf\">[21:38:53] </span>Status: Paper <span style=\"color: #808000; text-decoration-color: #808000\">Count</span>=<span style=\"color: #008080; text-decoration-color: #008080; font-weight: bold\">0</span> | Relevant <span style=\"color: #808000; text-decoration-color: #808000\">Papers</span>=<span style=\"color: #008080; text-decoration-color: #008080; font-weight: bold\">0</span> | Current <span style=\"color: #808000; text-decoration-color: #808000\">Evidence</span>=<span style=\"color: #008080; text-decoration-color: #008080; font-weight: bold\">0</span> | Current <span style=\"color: #808000; text-decoration-color: #808000\">Cost</span>=$<span style=\"color: #008080; text-decoration-color: #008080; font-weight: bold\">0.0006</span>                   \n",
       "</pre>\n"
      ],
      "text/plain": [
       "\u001b[2;36m[21:38:53]\u001b[0m\u001b[2;36m \u001b[0mStatus: Paper \u001b[33mCount\u001b[0m=\u001b[1;36m0\u001b[0m | Relevant \u001b[33mPapers\u001b[0m=\u001b[1;36m0\u001b[0m | Current \u001b[33mEvidence\u001b[0m=\u001b[1;36m0\u001b[0m | Current \u001b[33mCost\u001b[0m=$\u001b[1;36m0.0006\u001b[0m                   \n"
      ]
     },
     "metadata": {},
     "output_type": "display_data"
    },
    {
     "data": {
      "text/html": [
       "<pre style=\"white-space:pre;overflow-x:auto;line-height:normal;font-family:Menlo,'DejaVu Sans Mono',consolas,'Courier New',monospace\"><span style=\"color: #7fbfbf; text-decoration-color: #7fbfbf\">           </span><span style=\"color: #000080; text-decoration-color: #000080; font-weight: bold\">Answer: I cannot answer.</span>                                                                                \n",
       "</pre>\n"
      ],
      "text/plain": [
       "\u001b[2;36m          \u001b[0m\u001b[2;36m \u001b[0m\u001b[1;34mAnswer: I cannot answer.\u001b[0m                                                                                \n"
      ]
     },
     "metadata": {},
     "output_type": "display_data"
    },
    {
     "name": "stdout",
     "output_type": "stream",
     "text": [
      "Question: temperature range for fibronectin simulation\n",
      "\n",
      "I cannot answer.\n",
      " Check to ensure there's papers in /gpfs/fs2/scratch/qcampbe2/repos/md-agent_gpt_params/notebooks/experiments/experiment_k1/llama-v3p1-70b-instruct/paper_collection\n"
     ]
    },
    {
     "name": "stdout",
     "output_type": "stream",
     "text": [
      "Thought:"
     ]
    },
    {
     "name": "stdout",
     "output_type": "stream",
     "text": [
      " Since the"
     ]
    },
    {
     "name": "stdout",
     "output_type": "stream",
     "text": [
      " literature search did not provide a specific temperature"
     ]
    },
    {
     "name": "stdout",
     "output_type": "stream",
     "text": [
      " or temperature range for fibron"
     ]
    },
    {
     "name": "stdout",
     "output_type": "stream",
     "text": [
      "ectin simulation, I will use a commonly"
     ]
    },
    {
     "name": "stdout",
     "output_type": "stream",
     "text": [
      " used temperature for protein simulations, which is"
     ]
    },
    {
     "name": "stdout",
     "output_type": "stream",
     "text": [
      " 300 K. Next, I need to"
     ]
    },
    {
     "name": "stdout",
     "output_type": "stream",
     "text": [
      " download the PDB file for fibronectin"
     ]
    },
    {
     "name": "stdout",
     "output_type": "stream",
     "text": [
      " (PDB ID 1FNF) and set up"
     ]
    },
    {
     "name": "stdout",
     "output_type": "stream",
     "text": [
      " the simulation.\n",
      "\n",
      "Action:\n",
      "```\n",
      "{\n"
     ]
    },
    {
     "name": "stdout",
     "output_type": "stream",
     "text": [
      "  \"action\": \"PDBFileDownloader\",\n",
      " "
     ]
    },
    {
     "name": "stdout",
     "output_type": "stream",
     "text": [
      " \"action_input\": \"1FNF\"\n",
      "}\n",
      "``"
     ]
    },
    {
     "name": "stdout",
     "output_type": "stream",
     "text": [
      "`\n",
      "\n"
     ]
    },
    {
     "name": "stdout",
     "output_type": "stream",
     "text": [
      "PDB file found with this ID: 1FNF\n"
     ]
    },
    {
     "name": "stdout",
     "output_type": "stream",
     "text": [
      "Thought:"
     ]
    },
    {
     "name": "stdout",
     "output_type": "stream",
     "text": [
      " Now that I have the PDB file for fib"
     ]
    },
    {
     "name": "stdout",
     "output_type": "stream",
     "text": [
      "ronectin (PDB ID 1"
     ]
    },
    {
     "name": "stdout",
     "output_type": "stream",
     "text": [
      "FNF), I can set"
     ]
    },
    {
     "name": "stdout",
     "output_type": "stream",
     "text": [
      " up the simulation. I will use the SetUp"
     ]
    },
    {
     "name": "stdout",
     "output_type": "stream",
     "text": [
      "andRunFunction tool to set up and run"
     ]
    },
    {
     "name": "stdout",
     "output_type": "stream",
     "text": [
      " a short"
     ]
    },
    {
     "name": "stdout",
     "output_type": "stream",
     "text": [
      " simulation of fibronectin for 1 ns at "
     ]
    },
    {
     "name": "stdout",
     "output_type": "stream",
     "text": [
      "300 K.\n",
      "\n",
      "Action:\n",
      "```\n",
      "{\n",
      "  \"action\":"
     ]
    },
    {
     "name": "stdout",
     "output_type": "stream",
     "text": [
      " \"SetUpandRunFunction\",\n",
      "  \"action_input\": {\n"
     ]
    },
    {
     "name": "stdout",
     "output_type": "stream",
     "text": [
      "    \"pdb_id\": \"1FNF"
     ]
    },
    {
     "name": "stdout",
     "output_type": "stream",
     "text": [
      "_213855\",\n",
      "    \"forcefield_files\":"
     ]
    },
    {
     "name": "stdout",
     "output_type": "stream",
     "text": [
      " [\"amber14sb"
     ]
    },
    {
     "name": "stdout",
     "output_type": "stream",
     "text": [
      ".xml\", \"tip3p.xml"
     ]
    },
    {
     "name": "stdout",
     "output_type": "stream",
     "text": [
      "\"],\n",
      "    \"save\": true,\n"
     ]
    },
    {
     "name": "stdout",
     "output_type": "stream",
     "text": [
      "    \"system_params\": {\n",
      "      \"nonbond"
     ]
    },
    {
     "name": "stdout",
     "output_type": "stream",
     "text": [
      "edMethod\": \"PME\",\n",
      "      \"non"
     ]
    },
    {
     "name": "stdout",
     "output_type": "stream",
     "text": [
      "bondedCutoff\": \"1.0"
     ]
    },
    {
     "name": "stdout",
     "output_type": "stream",
     "text": [
      " * nanometers\",\n",
      "      \"ewaldErrorT"
     ]
    },
    {
     "name": "stdout",
     "output_type": "stream",
     "text": [
      "olerance\": 0.00001"
     ]
    },
    {
     "name": "stdout",
     "output_type": "stream",
     "text": [
      ",\n",
      "      \"constraints\": \"HBonds\",\n",
      "      \"rig"
     ]
    },
    {
     "name": "stdout",
     "output_type": "stream",
     "text": [
      "idWater\": true,\n",
      "      \"constraintT"
     ]
    },
    {
     "name": "stdout",
     "output_type": "stream",
     "text": [
      "olerance\": 0.00001,\n",
      "      \"solv"
     ]
    },
    {
     "name": "stdout",
     "output_type": "stream",
     "text": [
      "ate\": true\n"
     ]
    },
    {
     "name": "stdout",
     "output_type": "stream",
     "text": [
      "    },\n",
      "    \"integrator_params\": {\n",
      "     "
     ]
    },
    {
     "name": "stdout",
     "output_type": "stream",
     "text": [
      " \"integrator_type\": \"LangevinMiddle\",\n"
     ]
    },
    {
     "name": "stdout",
     "output_type": "stream",
     "text": [
      "      \"Temperature\": \"300 * kelvin\",\n"
     ]
    },
    {
     "name": "stdout",
     "output_type": "stream",
     "text": [
      "      \"Friction\": \"1.0 / picoseconds"
     ]
    },
    {
     "name": "stdout",
     "output_type": "stream",
     "text": [
      "\",\n",
      "      \"T"
     ]
    },
    {
     "name": "stdout",
     "output_type": "stream",
     "text": [
      "imestep\": \"0.002 * picoseconds\",\n",
      "      \""
     ]
    },
    {
     "name": "stdout",
     "output_type": "stream",
     "text": [
      "Pressure\": \"1.0 * bar\"\n",
      "    },\n",
      "   "
     ]
    },
    {
     "name": "stdout",
     "output_type": "stream",
     "text": [
      " \"simulation_params\": {\n",
      "      \"Ensemble\": \"N"
     ]
    },
    {
     "name": "stdout",
     "output_type": "stream",
     "text": [
      "PT\",\n",
      "      \"Number of Steps\": 500"
     ]
    },
    {
     "name": "stdout",
     "output_type": "stream",
     "text": [
      "000,\n",
      "      \"record_interval_steps\": 100"
     ]
    },
    {
     "name": "stdout",
     "output_type": "stream",
     "text": [
      ",\n",
      "      \"record_params\": [\"step\", \"potentialEnergy"
     ]
    },
    {
     "name": "stdout",
     "output_type": "stream",
     "text": [
      "\", \"temperature\"]\n"
     ]
    },
    {
     "name": "stdout",
     "output_type": "stream",
     "text": [
      "    }\n",
      "  }\n",
      "}\n",
      "```"
     ]
    },
    {
     "name": "stdout",
     "output_type": "stream",
     "text": [
      "error found: The forcefield file is not present\n",
      " Correct this and try again. \n",
      " Everthing else is fine\n"
     ]
    },
    {
     "name": "stdout",
     "output_type": "stream",
     "text": [
      "Thought:"
     ]
    },
    {
     "name": "stdout",
     "output_type": "stream",
     "text": [
      " The SetUpandRunFunction tool failed"
     ]
    },
    {
     "name": "stdout",
     "output_type": "stream",
     "text": [
      " because the forcefield file is not"
     ]
    },
    {
     "name": "stdout",
     "output_type": "stream",
     "text": [
      " present. I will"
     ]
    },
    {
     "name": "stdout",
     "output_type": "stream",
     "text": [
      " try again with the correct forcefield files."
     ]
    },
    {
     "name": "stdout",
     "output_type": "stream",
     "text": [
      " I will use the"
     ]
    },
    {
     "name": "stdout",
     "output_type": "stream",
     "text": [
      " amber14sb.xml and tip3p.xml force"
     ]
    },
    {
     "name": "stdout",
     "output_type": "stream",
     "text": [
      "field files, which are commonly used for"
     ]
    },
    {
     "name": "stdout",
     "output_type": "stream",
     "text": [
      " protein simulations.\n",
      "\n",
      "Action:\n",
      "```\n",
      "{\n",
      "  \"action\":"
     ]
    },
    {
     "name": "stdout",
     "output_type": "stream",
     "text": [
      " \"SetUpandRunFunction\",\n",
      " "
     ]
    },
    {
     "name": "stdout",
     "output_type": "stream",
     "text": [
      " \"action_input\": {\n",
      "    \"pdb"
     ]
    },
    {
     "name": "stdout",
     "output_type": "stream",
     "text": [
      "_id\": \"1FNF_213855\",\n",
      "    \""
     ]
    },
    {
     "name": "stdout",
     "output_type": "stream",
     "text": [
      "forcefield_files\": [\"amber14sb.xml\", \"tip"
     ]
    },
    {
     "name": "stdout",
     "output_type": "stream",
     "text": [
      "3p.xml\"],\n",
      "    \"save\": true,\n",
      "    \""
     ]
    },
    {
     "name": "stdout",
     "output_type": "stream",
     "text": [
      "system_params\": {\n",
      "      \"nonbondedMethod\": \""
     ]
    },
    {
     "name": "stdout",
     "output_type": "stream",
     "text": [
      "PME\",\n",
      "      \"nonbondedCutoff\": \""
     ]
    },
    {
     "name": "stdout",
     "output_type": "stream",
     "text": [
      "1.0 * nanometers\",\n",
      "      \"ewaldError"
     ]
    },
    {
     "name": "stdout",
     "output_type": "stream",
     "text": [
      "Tolerance\": 0.00001,\n",
      "      \"constraints"
     ]
    },
    {
     "name": "stdout",
     "output_type": "stream",
     "text": [
      "\": \"HBonds\",\n",
      "      \"rigidWater\": true"
     ]
    },
    {
     "name": "stdout",
     "output_type": "stream",
     "text": [
      ",\n",
      "      \"constraint"
     ]
    },
    {
     "name": "stdout",
     "output_type": "stream",
     "text": [
      "Tolerance\": 0.00001,\n",
      "      \"s"
     ]
    },
    {
     "name": "stdout",
     "output_type": "stream",
     "text": [
      "olvate\": true\n",
      "    },\n",
      "    \"integrator_params"
     ]
    },
    {
     "name": "stdout",
     "output_type": "stream",
     "text": [
      "\": {\n",
      "      \"integrator_type\": \"Langevin"
     ]
    },
    {
     "name": "stdout",
     "output_type": "stream",
     "text": [
      "Middle\",\n",
      "      \"Temperature\": \"300 * kelvin\",\n"
     ]
    },
    {
     "name": "stdout",
     "output_type": "stream",
     "text": [
      "      \"Friction\": \"1.0 / picoseconds"
     ]
    },
    {
     "name": "stdout",
     "output_type": "stream",
     "text": [
      "\",\n",
      "      \"Timestep\": \"0.002 * pic"
     ]
    },
    {
     "name": "stdout",
     "output_type": "stream",
     "text": [
      "oseconds\",\n",
      "      \"Pressure\": \"1.0 * bar"
     ]
    },
    {
     "name": "stdout",
     "output_type": "stream",
     "text": [
      "\"\n",
      "    },\n",
      "    \"simulation_params\": {\n",
      "      \"En"
     ]
    },
    {
     "name": "stdout",
     "output_type": "stream",
     "text": [
      "semble\": \"NPT\",\n",
      "      \"Number of Steps\":"
     ]
    },
    {
     "name": "stdout",
     "output_type": "stream",
     "text": [
      " 500000,\n",
      "      \"record_interval_steps\": 100"
     ]
    },
    {
     "name": "stdout",
     "output_type": "stream",
     "text": [
      ",\n",
      "      \"record_params\": [\"step\", \"potentialEnergy"
     ]
    },
    {
     "name": "stdout",
     "output_type": "stream",
     "text": [
      "\", \"temperature\"]\n",
      "    }\n",
      "  }\n",
      "}\n",
      "```\n"
     ]
    },
    {
     "name": "stdout",
     "output_type": "stream",
     "text": [
      "error found: The forcefield file is not present\n",
      " Correct this and try again. \n",
      " Everthing else is fine\n"
     ]
    },
    {
     "name": "stdout",
     "output_type": "stream",
     "text": [
      "Thought:"
     ]
    },
    {
     "name": "stdout",
     "output_type": "stream",
     "text": [
      " The SetUpandRunFunction tool"
     ]
    },
    {
     "name": "stdout",
     "output_type": "stream",
     "text": [
      " failed again because the forcefield file is not present."
     ]
    },
    {
     "name": "stdout",
     "output_type": "stream",
     "text": [
      " I will try to find the correct forcefield files by"
     ]
    },
    {
     "name": "stdout",
     "output_type": "stream",
     "text": [
      " searching the literature.\n",
      "\n",
      "Action:\n",
      "```\n",
      "{\n"
     ]
    },
    {
     "name": "stdout",
     "output_type": "stream",
     "text": [
      "  \"action\": \"LiteratureSearch\",\n",
      "  \"action"
     ]
    },
    {
     "name": "stdout",
     "output_type": "stream",
     "text": [
      "_input\": \"forcefield files for protein simulation"
     ]
    },
    {
     "name": "stdout",
     "output_type": "stream",
     "text": [
      "\"\n",
      "}\n",
      "```\n",
      "\n"
     ]
    },
    {
     "name": "stdout",
     "output_type": "stream",
     "text": [
      "Paper Directory /gpfs/fs2/scratch/qcampbe2/repos/md-agent_gpt_params/notebooks/experiments/experiment_k1/llama-v3p1-70b-instruct/paper_collection\n"
     ]
    },
    {
     "data": {
      "text/html": [
       "<pre style=\"white-space:pre;overflow-x:auto;line-height:normal;font-family:Menlo,'DejaVu Sans Mono',consolas,'Courier New',monospace\"><span style=\"color: #7fbfbf; text-decoration-color: #7fbfbf\">[21:39:01] </span>Request to CrossrefProvider for Molecular Dynamics Simulations of Hemoglobin A in Different States and  \n",
       "<span style=\"color: #7fbfbf; text-decoration-color: #7fbfbf\">           </span>Bound to DPG: Effector-Linked Perturbation of Tertiary Conformations and HbA Concerted Dynamics timed   \n",
       "<span style=\"color: #7fbfbf; text-decoration-color: #7fbfbf\">           </span>out.                                                                                                    \n",
       "</pre>\n"
      ],
      "text/plain": [
       "\u001b[2;36m[21:39:01]\u001b[0m\u001b[2;36m \u001b[0mRequest to CrossrefProvider for Molecular Dynamics Simulations of Hemoglobin A in Different States and  \n",
       "\u001b[2;36m           \u001b[0mBound to DPG: Effector-Linked Perturbation of Tertiary Conformations and HbA Concerted Dynamics timed   \n",
       "\u001b[2;36m           \u001b[0mout.                                                                                                    \n"
      ]
     },
     "metadata": {},
     "output_type": "display_data"
    },
    {
     "name": "stderr",
     "output_type": "stream",
     "text": [
      "/scratch/qcampbe2/myenvs/mdcrow/lib/python3.12/site-packages/pydantic/main.py:364: UserWarning: Pydantic serializer warnings:\n",
      "  Expected `PromptTokensDetails` but got `dict` - serialized value may not be as expected\n",
      "  return self.__pydantic_serializer__.to_python(\n"
     ]
    },
    {
     "data": {
      "text/html": [
       "<pre style=\"white-space:pre;overflow-x:auto;line-height:normal;font-family:Menlo,'DejaVu Sans Mono',consolas,'Courier New',monospace\"><span style=\"color: #7fbfbf; text-decoration-color: #7fbfbf\">           </span>Starting paper search for <span style=\"color: #008000; text-decoration-color: #008000\">'forcefield development protein simulations, 2015-2024  '</span>.                    \n",
       "</pre>\n"
      ],
      "text/plain": [
       "\u001b[2;36m          \u001b[0m\u001b[2;36m \u001b[0mStarting paper search for \u001b[32m'forcefield development protein simulations, 2015-2024  '\u001b[0m.                    \n"
      ]
     },
     "metadata": {},
     "output_type": "display_data"
    },
    {
     "data": {
      "text/html": [
       "<pre style=\"white-space:pre;overflow-x:auto;line-height:normal;font-family:Menlo,'DejaVu Sans Mono',consolas,'Courier New',monospace\"><span style=\"color: #7fbfbf; text-decoration-color: #7fbfbf\">           </span>New file to index: paci_1999_fibronectin_1fnf.pdf<span style=\"color: #808000; text-decoration-color: #808000\">...</span>                                                    \n",
       "</pre>\n"
      ],
      "text/plain": [
       "\u001b[2;36m          \u001b[0m\u001b[2;36m \u001b[0mNew file to index: paci_1999_fibronectin_1fnf.pdf\u001b[33m...\u001b[0m                                                    \n"
      ]
     },
     "metadata": {},
     "output_type": "display_data"
    },
    {
     "data": {
      "text/html": [
       "<pre style=\"white-space:pre;overflow-x:auto;line-height:normal;font-family:Menlo,'DejaVu Sans Mono',consolas,'Courier New',monospace\"><span style=\"color: #7fbfbf; text-decoration-color: #7fbfbf\">[21:39:02] </span>New file to index: lucas_2012_hemoglobin_sim_SI.pdf<span style=\"color: #808000; text-decoration-color: #808000\">...</span>                                                  \n",
       "</pre>\n"
      ],
      "text/plain": [
       "\u001b[2;36m[21:39:02]\u001b[0m\u001b[2;36m \u001b[0mNew file to index: lucas_2012_hemoglobin_sim_SI.pdf\u001b[33m...\u001b[0m                                                  \n"
      ]
     },
     "metadata": {},
     "output_type": "display_data"
    },
    {
     "data": {
      "text/html": [
       "<pre style=\"white-space:pre;overflow-x:auto;line-height:normal;font-family:Menlo,'DejaVu Sans Mono',consolas,'Courier New',monospace\"><span style=\"color: #7fbfbf; text-decoration-color: #7fbfbf\">           </span>New file to index: hao_2021_fibronectin.pdf<span style=\"color: #808000; text-decoration-color: #808000\">...</span>                                                          \n",
       "</pre>\n"
      ],
      "text/plain": [
       "\u001b[2;36m          \u001b[0m\u001b[2;36m \u001b[0mNew file to index: hao_2021_fibronectin.pdf\u001b[33m...\u001b[0m                                                          \n"
      ]
     },
     "metadata": {},
     "output_type": "display_data"
    },
    {
     "data": {
      "text/html": [
       "<pre style=\"white-space:pre;overflow-x:auto;line-height:normal;font-family:Menlo,'DejaVu Sans Mono',consolas,'Courier New',monospace\"><span style=\"color: #7fbfbf; text-decoration-color: #7fbfbf\">[21:39:04] </span>SEMANTIC_SCHOLAR_API_KEY environment variable not set. Semantic Scholar API rate limits may apply.      \n",
       "</pre>\n"
      ],
      "text/plain": [
       "\u001b[2;36m[21:39:04]\u001b[0m\u001b[2;36m \u001b[0mSEMANTIC_SCHOLAR_API_KEY environment variable not set. Semantic Scholar API rate limits may apply.      \n"
      ]
     },
     "metadata": {},
     "output_type": "display_data"
    },
    {
     "data": {
      "text/html": [
       "<pre style=\"white-space:pre;overflow-x:auto;line-height:normal;font-family:Menlo,'DejaVu Sans Mono',consolas,'Courier New',monospace\"><span style=\"color: #7fbfbf; text-decoration-color: #7fbfbf\">           </span>SEMANTIC_SCHOLAR_API_KEY environment variable not set. Semantic Scholar API rate limits may apply.      \n",
       "</pre>\n"
      ],
      "text/plain": [
       "\u001b[2;36m          \u001b[0m\u001b[2;36m \u001b[0mSEMANTIC_SCHOLAR_API_KEY environment variable not set. Semantic Scholar API rate limits may apply.      \n"
      ]
     },
     "metadata": {},
     "output_type": "display_data"
    },
    {
     "data": {
      "text/html": [
       "<pre style=\"white-space:pre;overflow-x:auto;line-height:normal;font-family:Menlo,'DejaVu Sans Mono',consolas,'Courier New',monospace\"><span style=\"color: #7fbfbf; text-decoration-color: #7fbfbf\">           </span>SEMANTIC_SCHOLAR_API_KEY environment variable not set. Semantic Scholar API rate limits may apply.      \n",
       "</pre>\n"
      ],
      "text/plain": [
       "\u001b[2;36m          \u001b[0m\u001b[2;36m \u001b[0mSEMANTIC_SCHOLAR_API_KEY environment variable not set. Semantic Scholar API rate limits may apply.      \n"
      ]
     },
     "metadata": {},
     "output_type": "display_data"
    },
    {
     "data": {
      "text/html": [
       "<pre style=\"white-space:pre;overflow-x:auto;line-height:normal;font-family:Menlo,'DejaVu Sans Mono',consolas,'Courier New',monospace\"><span style=\"color: #7fbfbf; text-decoration-color: #7fbfbf\">           </span>Metadata not found for Mechanistic Insights into the Adsorption and Bioactivity of Fibronectin on       \n",
       "<span style=\"color: #7fbfbf; text-decoration-color: #7fbfbf\">           </span>Surfaces with Varying Chemistries by a Combination of Experimental Strategies and Molecular Simulations \n",
       "<span style=\"color: #7fbfbf; text-decoration-color: #7fbfbf\">           </span>in SemanticScholarProvider.                                                                             \n",
       "</pre>\n"
      ],
      "text/plain": [
       "\u001b[2;36m          \u001b[0m\u001b[2;36m \u001b[0mMetadata not found for Mechanistic Insights into the Adsorption and Bioactivity of Fibronectin on       \n",
       "\u001b[2;36m           \u001b[0mSurfaces with Varying Chemistries by a Combination of Experimental Strategies and Molecular Simulations \n",
       "\u001b[2;36m           \u001b[0min SemanticScholarProvider.                                                                             \n"
      ]
     },
     "metadata": {},
     "output_type": "display_data"
    },
    {
     "data": {
      "text/html": [
       "<pre style=\"white-space:pre;overflow-x:auto;line-height:normal;font-family:Menlo,'DejaVu Sans Mono',consolas,'Courier New',monospace\"><span style=\"color: #7fbfbf; text-decoration-color: #7fbfbf\">           </span>Metadata not found for An Atomistic View on Human Hemoglobin Carbon Monoxide Migration Processes in     \n",
       "<span style=\"color: #7fbfbf; text-decoration-color: #7fbfbf\">           </span>SemanticScholarProvider.                                                                                \n",
       "</pre>\n"
      ],
      "text/plain": [
       "\u001b[2;36m          \u001b[0m\u001b[2;36m \u001b[0mMetadata not found for An Atomistic View on Human Hemoglobin Carbon Monoxide Migration Processes in     \n",
       "\u001b[2;36m           \u001b[0mSemanticScholarProvider.                                                                                \n"
      ]
     },
     "metadata": {},
     "output_type": "display_data"
    },
    {
     "data": {
      "text/html": [
       "<pre style=\"white-space:pre;overflow-x:auto;line-height:normal;font-family:Menlo,'DejaVu Sans Mono',consolas,'Courier New',monospace\"><span style=\"color: #7fbfbf; text-decoration-color: #7fbfbf\">[21:39:05] </span>Metadata not found for Forced Unfolding of Fibronectin Type <span style=\"color: #008080; text-decoration-color: #008080; font-weight: bold\">3</span> Modules: An Analysis by Biased Molecular  \n",
       "<span style=\"color: #7fbfbf; text-decoration-color: #7fbfbf\">           </span>Dynamics Simulations in SemanticScholarProvider.                                                        \n",
       "</pre>\n"
      ],
      "text/plain": [
       "\u001b[2;36m[21:39:05]\u001b[0m\u001b[2;36m \u001b[0mMetadata not found for Forced Unfolding of Fibronectin Type \u001b[1;36m3\u001b[0m Modules: An Analysis by Biased Molecular  \n",
       "\u001b[2;36m           \u001b[0mDynamics Simulations in SemanticScholarProvider.                                                        \n"
      ]
     },
     "metadata": {},
     "output_type": "display_data"
    },
    {
     "data": {
      "text/html": [
       "<pre style=\"white-space:pre;overflow-x:auto;line-height:normal;font-family:Menlo,'DejaVu Sans Mono',consolas,'Courier New',monospace\"><span style=\"color: #7fbfbf; text-decoration-color: #7fbfbf\">[21:39:07] </span>Metadata not found for Forced Unfolding of Fibronectin Type <span style=\"color: #008080; text-decoration-color: #008080; font-weight: bold\">3</span> Modules: An Analysis by Biased Molecular  \n",
       "<span style=\"color: #7fbfbf; text-decoration-color: #7fbfbf\">           </span>Dynamics Simulations in CrossrefProvider.                                                               \n",
       "</pre>\n"
      ],
      "text/plain": [
       "\u001b[2;36m[21:39:07]\u001b[0m\u001b[2;36m \u001b[0mMetadata not found for Forced Unfolding of Fibronectin Type \u001b[1;36m3\u001b[0m Modules: An Analysis by Biased Molecular  \n",
       "\u001b[2;36m           \u001b[0mDynamics Simulations in CrossrefProvider.                                                               \n"
      ]
     },
     "metadata": {},
     "output_type": "display_data"
    },
    {
     "data": {
      "text/html": [
       "<pre style=\"white-space:pre;overflow-x:auto;line-height:normal;font-family:Menlo,'DejaVu Sans Mono',consolas,'Courier New',monospace\"><span style=\"color: #7fbfbf; text-decoration-color: #7fbfbf\">[21:39:08] </span>Complete <span style=\"font-weight: bold\">(</span>An Atomistic View on Human Hemoglobin Carbon Monoxide Migration Processes<span style=\"font-weight: bold\">)</span>.                   \n",
       "</pre>\n"
      ],
      "text/plain": [
       "\u001b[2;36m[21:39:08]\u001b[0m\u001b[2;36m \u001b[0mComplete \u001b[1m(\u001b[0mAn Atomistic View on Human Hemoglobin Carbon Monoxide Migration Processes\u001b[1m)\u001b[0m.                   \n"
      ]
     },
     "metadata": {},
     "output_type": "display_data"
    },
    {
     "data": {
      "text/html": [
       "<pre style=\"white-space:pre;overflow-x:auto;line-height:normal;font-family:Menlo,'DejaVu Sans Mono',consolas,'Courier New',monospace\"><span style=\"color: #7fbfbf; text-decoration-color: #7fbfbf\">[21:39:09] </span>Complete <span style=\"font-weight: bold\">(</span>Forced Unfolding of Fibronectin Type <span style=\"color: #008080; text-decoration-color: #008080; font-weight: bold\">3</span> Modules: An Analysis by Biased Molecular Dynamics      \n",
       "<span style=\"color: #7fbfbf; text-decoration-color: #7fbfbf\">           </span>Simulations<span style=\"font-weight: bold\">)</span>.                                                                                           \n",
       "</pre>\n"
      ],
      "text/plain": [
       "\u001b[2;36m[21:39:09]\u001b[0m\u001b[2;36m \u001b[0mComplete \u001b[1m(\u001b[0mForced Unfolding of Fibronectin Type \u001b[1;36m3\u001b[0m Modules: An Analysis by Biased Molecular Dynamics      \n",
       "\u001b[2;36m           \u001b[0mSimulations\u001b[1m)\u001b[0m.                                                                                           \n"
      ]
     },
     "metadata": {},
     "output_type": "display_data"
    },
    {
     "data": {
      "text/html": [
       "<pre style=\"white-space:pre;overflow-x:auto;line-height:normal;font-family:Menlo,'DejaVu Sans Mono',consolas,'Courier New',monospace\"><span style=\"color: #7fbfbf; text-decoration-color: #7fbfbf\">           </span>Metadata not found for Mechanistic Insights into the Adsorption and Bioactivity of Fibronectin on       \n",
       "<span style=\"color: #7fbfbf; text-decoration-color: #7fbfbf\">           </span>Surfaces with Varying Chemistries by a Combination of Experimental Strategies and Molecular Simulations \n",
       "<span style=\"color: #7fbfbf; text-decoration-color: #7fbfbf\">           </span>in CrossrefProvider.                                                                                    \n",
       "</pre>\n"
      ],
      "text/plain": [
       "\u001b[2;36m          \u001b[0m\u001b[2;36m \u001b[0mMetadata not found for Mechanistic Insights into the Adsorption and Bioactivity of Fibronectin on       \n",
       "\u001b[2;36m           \u001b[0mSurfaces with Varying Chemistries by a Combination of Experimental Strategies and Molecular Simulations \n",
       "\u001b[2;36m           \u001b[0min CrossrefProvider.                                                                                    \n"
      ]
     },
     "metadata": {},
     "output_type": "display_data"
    },
    {
     "data": {
      "text/html": [
       "<pre style=\"white-space:pre;overflow-x:auto;line-height:normal;font-family:Menlo,'DejaVu Sans Mono',consolas,'Courier New',monospace\"><span style=\"color: #7fbfbf; text-decoration-color: #7fbfbf\">[21:39:11] </span>Complete <span style=\"font-weight: bold\">(</span>Mechanistic Insights into the Adsorption and Bioactivity of Fibronectin on Surfaces with      \n",
       "<span style=\"color: #7fbfbf; text-decoration-color: #7fbfbf\">           </span>Varying Chemistries by a Combination of Experimental Strategies and Molecular Simulations<span style=\"font-weight: bold\">)</span>.             \n",
       "</pre>\n"
      ],
      "text/plain": [
       "\u001b[2;36m[21:39:11]\u001b[0m\u001b[2;36m \u001b[0mComplete \u001b[1m(\u001b[0mMechanistic Insights into the Adsorption and Bioactivity of Fibronectin on Surfaces with      \n",
       "\u001b[2;36m           \u001b[0mVarying Chemistries by a Combination of Experimental Strategies and Molecular Simulations\u001b[1m)\u001b[0m.             \n"
      ]
     },
     "metadata": {},
     "output_type": "display_data"
    },
    {
     "data": {
      "text/html": [
       "<pre style=\"white-space:pre;overflow-x:auto;line-height:normal;font-family:Menlo,'DejaVu Sans Mono',consolas,'Courier New',monospace\"><span style=\"color: #7fbfbf; text-decoration-color: #7fbfbf\">           </span>paper_search for query <span style=\"color: #008000; text-decoration-color: #008000\">'forcefield development protein simulations, 2015-2024  '</span> returned <span style=\"color: #008080; text-decoration-color: #008080; font-weight: bold\">8</span> papers.     \n",
       "</pre>\n"
      ],
      "text/plain": [
       "\u001b[2;36m          \u001b[0m\u001b[2;36m \u001b[0mpaper_search for query \u001b[32m'forcefield development protein simulations, 2015-2024  '\u001b[0m returned \u001b[1;36m8\u001b[0m papers.     \n"
      ]
     },
     "metadata": {},
     "output_type": "display_data"
    },
    {
     "data": {
      "text/html": [
       "<pre style=\"white-space:pre;overflow-x:auto;line-height:normal;font-family:Menlo,'DejaVu Sans Mono',consolas,'Courier New',monospace\"><span style=\"color: #7fbfbf; text-decoration-color: #7fbfbf\">           </span>Status: Paper <span style=\"color: #808000; text-decoration-color: #808000\">Count</span>=<span style=\"color: #008080; text-decoration-color: #008080; font-weight: bold\">7</span> | Relevant <span style=\"color: #808000; text-decoration-color: #808000\">Papers</span>=<span style=\"color: #008080; text-decoration-color: #008080; font-weight: bold\">0</span> | Current <span style=\"color: #808000; text-decoration-color: #808000\">Evidence</span>=<span style=\"color: #008080; text-decoration-color: #008080; font-weight: bold\">0</span> | Current <span style=\"color: #808000; text-decoration-color: #808000\">Cost</span>=$<span style=\"color: #008080; text-decoration-color: #008080; font-weight: bold\">0.0000</span>                   \n",
       "</pre>\n"
      ],
      "text/plain": [
       "\u001b[2;36m          \u001b[0m\u001b[2;36m \u001b[0mStatus: Paper \u001b[33mCount\u001b[0m=\u001b[1;36m7\u001b[0m | Relevant \u001b[33mPapers\u001b[0m=\u001b[1;36m0\u001b[0m | Current \u001b[33mEvidence\u001b[0m=\u001b[1;36m0\u001b[0m | Current \u001b[33mCost\u001b[0m=$\u001b[1;36m0.0000\u001b[0m                   \n"
      ]
     },
     "metadata": {},
     "output_type": "display_data"
    },
    {
     "data": {
      "text/html": [
       "<pre style=\"white-space:pre;overflow-x:auto;line-height:normal;font-family:Menlo,'DejaVu Sans Mono',consolas,'Courier New',monospace\"><span style=\"color: #7fbfbf; text-decoration-color: #7fbfbf\">           </span>Starting paper search for <span style=\"color: #008000; text-decoration-color: #008000\">'protein simulation parameters GROMACS, 2018-2024  '</span>.                         \n",
       "</pre>\n"
      ],
      "text/plain": [
       "\u001b[2;36m          \u001b[0m\u001b[2;36m \u001b[0mStarting paper search for \u001b[32m'protein simulation parameters GROMACS, 2018-2024  '\u001b[0m.                         \n"
      ]
     },
     "metadata": {},
     "output_type": "display_data"
    },
    {
     "data": {
      "text/html": [
       "<pre style=\"white-space:pre;overflow-x:auto;line-height:normal;font-family:Menlo,'DejaVu Sans Mono',consolas,'Courier New',monospace\"><span style=\"color: #7fbfbf; text-decoration-color: #7fbfbf\">           </span>paper_search for query <span style=\"color: #008000; text-decoration-color: #008000\">'protein simulation parameters GROMACS, 2018-2024  '</span> returned <span style=\"color: #008080; text-decoration-color: #008080; font-weight: bold\">8</span> papers.          \n",
       "</pre>\n"
      ],
      "text/plain": [
       "\u001b[2;36m          \u001b[0m\u001b[2;36m \u001b[0mpaper_search for query \u001b[32m'protein simulation parameters GROMACS, 2018-2024  '\u001b[0m returned \u001b[1;36m8\u001b[0m papers.          \n"
      ]
     },
     "metadata": {},
     "output_type": "display_data"
    },
    {
     "data": {
      "text/html": [
       "<pre style=\"white-space:pre;overflow-x:auto;line-height:normal;font-family:Menlo,'DejaVu Sans Mono',consolas,'Courier New',monospace\"><span style=\"color: #7fbfbf; text-decoration-color: #7fbfbf\">           </span>Status: Paper <span style=\"color: #808000; text-decoration-color: #808000\">Count</span>=<span style=\"color: #008080; text-decoration-color: #008080; font-weight: bold\">11</span> | Relevant <span style=\"color: #808000; text-decoration-color: #808000\">Papers</span>=<span style=\"color: #008080; text-decoration-color: #008080; font-weight: bold\">0</span> | Current <span style=\"color: #808000; text-decoration-color: #808000\">Evidence</span>=<span style=\"color: #008080; text-decoration-color: #008080; font-weight: bold\">0</span> | Current <span style=\"color: #808000; text-decoration-color: #808000\">Cost</span>=$<span style=\"color: #008080; text-decoration-color: #008080; font-weight: bold\">0.0000</span>                  \n",
       "</pre>\n"
      ],
      "text/plain": [
       "\u001b[2;36m          \u001b[0m\u001b[2;36m \u001b[0mStatus: Paper \u001b[33mCount\u001b[0m=\u001b[1;36m11\u001b[0m | Relevant \u001b[33mPapers\u001b[0m=\u001b[1;36m0\u001b[0m | Current \u001b[33mEvidence\u001b[0m=\u001b[1;36m0\u001b[0m | Current \u001b[33mCost\u001b[0m=$\u001b[1;36m0.0000\u001b[0m                  \n"
      ]
     },
     "metadata": {},
     "output_type": "display_data"
    },
    {
     "data": {
      "text/html": [
       "<pre style=\"white-space:pre;overflow-x:auto;line-height:normal;font-family:Menlo,'DejaVu Sans Mono',consolas,'Courier New',monospace\"><span style=\"color: #7fbfbf; text-decoration-color: #7fbfbf\">           </span>Starting paper search for <span style=\"color: #008000; text-decoration-color: #008000\">'Amber forcefield updates, 2020-2024  '</span>.                                      \n",
       "</pre>\n"
      ],
      "text/plain": [
       "\u001b[2;36m          \u001b[0m\u001b[2;36m \u001b[0mStarting paper search for \u001b[32m'Amber forcefield updates, 2020-2024  '\u001b[0m.                                      \n"
      ]
     },
     "metadata": {},
     "output_type": "display_data"
    },
    {
     "data": {
      "text/html": [
       "<pre style=\"white-space:pre;overflow-x:auto;line-height:normal;font-family:Menlo,'DejaVu Sans Mono',consolas,'Courier New',monospace\"><span style=\"color: #7fbfbf; text-decoration-color: #7fbfbf\">           </span>paper_search for query <span style=\"color: #008000; text-decoration-color: #008000\">'Amber forcefield updates, 2020-2024  '</span> returned <span style=\"color: #008080; text-decoration-color: #008080; font-weight: bold\">7</span> papers.                       \n",
       "</pre>\n"
      ],
      "text/plain": [
       "\u001b[2;36m          \u001b[0m\u001b[2;36m \u001b[0mpaper_search for query \u001b[32m'Amber forcefield updates, 2020-2024  '\u001b[0m returned \u001b[1;36m7\u001b[0m papers.                       \n"
      ]
     },
     "metadata": {},
     "output_type": "display_data"
    },
    {
     "data": {
      "text/html": [
       "<pre style=\"white-space:pre;overflow-x:auto;line-height:normal;font-family:Menlo,'DejaVu Sans Mono',consolas,'Courier New',monospace\"><span style=\"color: #7fbfbf; text-decoration-color: #7fbfbf\">           </span>Status: Paper <span style=\"color: #808000; text-decoration-color: #808000\">Count</span>=<span style=\"color: #008080; text-decoration-color: #008080; font-weight: bold\">14</span> | Relevant <span style=\"color: #808000; text-decoration-color: #808000\">Papers</span>=<span style=\"color: #008080; text-decoration-color: #008080; font-weight: bold\">0</span> | Current <span style=\"color: #808000; text-decoration-color: #808000\">Evidence</span>=<span style=\"color: #008080; text-decoration-color: #008080; font-weight: bold\">0</span> | Current <span style=\"color: #808000; text-decoration-color: #808000\">Cost</span>=$<span style=\"color: #008080; text-decoration-color: #008080; font-weight: bold\">0.0000</span>                  \n",
       "</pre>\n"
      ],
      "text/plain": [
       "\u001b[2;36m          \u001b[0m\u001b[2;36m \u001b[0mStatus: Paper \u001b[33mCount\u001b[0m=\u001b[1;36m14\u001b[0m | Relevant \u001b[33mPapers\u001b[0m=\u001b[1;36m0\u001b[0m | Current \u001b[33mEvidence\u001b[0m=\u001b[1;36m0\u001b[0m | Current \u001b[33mCost\u001b[0m=$\u001b[1;36m0.0000\u001b[0m                  \n"
      ]
     },
     "metadata": {},
     "output_type": "display_data"
    },
    {
     "data": {
      "text/html": [
       "<pre style=\"white-space:pre;overflow-x:auto;line-height:normal;font-family:Menlo,'DejaVu Sans Mono',consolas,'Courier New',monospace\"><span style=\"color: #7fbfbf; text-decoration-color: #7fbfbf\">           </span>gather_evidence starting for question <span style=\"color: #008000; text-decoration-color: #008000\">'forcefield files for protein simulation'</span>.                        \n",
       "</pre>\n"
      ],
      "text/plain": [
       "\u001b[2;36m          \u001b[0m\u001b[2;36m \u001b[0mgather_evidence starting for question \u001b[32m'forcefield files for protein simulation'\u001b[0m.                        \n"
      ]
     },
     "metadata": {},
     "output_type": "display_data"
    },
    {
     "data": {
      "text/html": [
       "<pre style=\"white-space:pre;overflow-x:auto;line-height:normal;font-family:Menlo,'DejaVu Sans Mono',consolas,'Courier New',monospace\"><span style=\"color: #7fbfbf; text-decoration-color: #7fbfbf\">[21:39:16] </span>Status: Paper <span style=\"color: #808000; text-decoration-color: #808000\">Count</span>=<span style=\"color: #008080; text-decoration-color: #008080; font-weight: bold\">14</span> | Relevant <span style=\"color: #808000; text-decoration-color: #808000\">Papers</span>=<span style=\"color: #008080; text-decoration-color: #008080; font-weight: bold\">4</span> | Current <span style=\"color: #808000; text-decoration-color: #808000\">Evidence</span>=<span style=\"color: #008080; text-decoration-color: #008080; font-weight: bold\">8</span> | Current <span style=\"color: #808000; text-decoration-color: #808000\">Cost</span>=$<span style=\"color: #008080; text-decoration-color: #008080; font-weight: bold\">0.0397</span>                  \n",
       "</pre>\n"
      ],
      "text/plain": [
       "\u001b[2;36m[21:39:16]\u001b[0m\u001b[2;36m \u001b[0mStatus: Paper \u001b[33mCount\u001b[0m=\u001b[1;36m14\u001b[0m | Relevant \u001b[33mPapers\u001b[0m=\u001b[1;36m4\u001b[0m | Current \u001b[33mEvidence\u001b[0m=\u001b[1;36m8\u001b[0m | Current \u001b[33mCost\u001b[0m=$\u001b[1;36m0.0397\u001b[0m                  \n"
      ]
     },
     "metadata": {},
     "output_type": "display_data"
    },
    {
     "data": {
      "text/html": [
       "<pre style=\"white-space:pre;overflow-x:auto;line-height:normal;font-family:Menlo,'DejaVu Sans Mono',consolas,'Courier New',monospace\"><span style=\"color: #7fbfbf; text-decoration-color: #7fbfbf\">           </span>Generating answer for <span style=\"color: #008000; text-decoration-color: #008000\">'forcefield files for protein simulation'</span>.                                        \n",
       "</pre>\n"
      ],
      "text/plain": [
       "\u001b[2;36m          \u001b[0m\u001b[2;36m \u001b[0mGenerating answer for \u001b[32m'forcefield files for protein simulation'\u001b[0m.                                        \n"
      ]
     },
     "metadata": {},
     "output_type": "display_data"
    },
    {
     "data": {
      "text/html": [
       "<pre style=\"white-space:pre;overflow-x:auto;line-height:normal;font-family:Menlo,'DejaVu Sans Mono',consolas,'Courier New',monospace\"><span style=\"color: #7fbfbf; text-decoration-color: #7fbfbf\">[21:39:20] </span>Status: Paper <span style=\"color: #808000; text-decoration-color: #808000\">Count</span>=<span style=\"color: #008080; text-decoration-color: #008080; font-weight: bold\">14</span> | Relevant <span style=\"color: #808000; text-decoration-color: #808000\">Papers</span>=<span style=\"color: #008080; text-decoration-color: #008080; font-weight: bold\">4</span> | Current <span style=\"color: #808000; text-decoration-color: #808000\">Evidence</span>=<span style=\"color: #008080; text-decoration-color: #008080; font-weight: bold\">8</span> | Current <span style=\"color: #808000; text-decoration-color: #808000\">Cost</span>=$<span style=\"color: #008080; text-decoration-color: #008080; font-weight: bold\">0.0462</span>                  \n",
       "</pre>\n"
      ],
      "text/plain": [
       "\u001b[2;36m[21:39:20]\u001b[0m\u001b[2;36m \u001b[0mStatus: Paper \u001b[33mCount\u001b[0m=\u001b[1;36m14\u001b[0m | Relevant \u001b[33mPapers\u001b[0m=\u001b[1;36m4\u001b[0m | Current \u001b[33mEvidence\u001b[0m=\u001b[1;36m8\u001b[0m | Current \u001b[33mCost\u001b[0m=$\u001b[1;36m0.0462\u001b[0m                  \n"
      ]
     },
     "metadata": {},
     "output_type": "display_data"
    },
    {
     "data": {
      "text/html": [
       "<pre style=\"white-space:pre;overflow-x:auto;line-height:normal;font-family:Menlo,'DejaVu Sans Mono',consolas,'Courier New',monospace\"><span style=\"color: #7fbfbf; text-decoration-color: #7fbfbf\">           </span><span style=\"color: #000080; text-decoration-color: #000080; font-weight: bold\">Answer: Force field files are essential components in molecular simulations of proteins, providing the </span> \n",
       "<span style=\"color: #7fbfbf; text-decoration-color: #7fbfbf\">           </span><span style=\"color: #000080; text-decoration-color: #000080; font-weight: bold\">necessary parameters and equations to model atomic interactions. These files contain parameters for </span>    \n",
       "<span style=\"color: #7fbfbf; text-decoration-color: #7fbfbf\">           </span><span style=\"color: #000080; text-decoration-color: #000080; font-weight: bold\">atoms, bonds, and molecules, as well as point charges for electrostatic interactions, which are crucial </span>\n",
       "<span style=\"color: #7fbfbf; text-decoration-color: #7fbfbf\">           </span><span style=\"color: #000080; text-decoration-color: #000080; font-weight: bold\">for accurately simulating protein dynamics (braun2019bestpracticesfor pages </span><span style=\"color: #008080; text-decoration-color: #008080; font-weight: bold\">9</span><span style=\"color: #000080; text-decoration-color: #000080; font-weight: bold\">-</span><span style=\"color: #008080; text-decoration-color: #008080; font-weight: bold\">10</span><span style=\"color: #000080; text-decoration-color: #000080; font-weight: bold\">). </span>                     \n",
       "<span style=\"color: #7fbfbf; text-decoration-color: #7fbfbf\">           </span>                                                                                                        \n",
       "<span style=\"color: #7fbfbf; text-decoration-color: #7fbfbf\">           </span><span style=\"color: #000080; text-decoration-color: #000080; font-weight: bold\">In protein simulations, force fields like CHARMM are commonly used. The CHARMM polar hydrogen force </span>    \n",
       "<span style=\"color: #7fbfbf; text-decoration-color: #7fbfbf\">           </span><span style=\"color: #000080; text-decoration-color: #000080; font-weight: bold\">field, for instance, is employed in simulations of protein unfolding, such as in fibronectin type </span><span style=\"color: #008080; text-decoration-color: #008080; font-weight: bold\">3</span><span style=\"color: #000080; text-decoration-color: #000080; font-weight: bold\"> </span>    \n",
       "<span style=\"color: #7fbfbf; text-decoration-color: #7fbfbf\">           </span><span style=\"color: #000080; text-decoration-color: #000080; font-weight: bold\">modules, highlighting the role of hydrogen-bonding interactions in stabilizing protein structures </span>      \n",
       "<span style=\"color: #7fbfbf; text-decoration-color: #7fbfbf\">           </span><span style=\"color: #000080; text-decoration-color: #000080; font-weight: bold\">(Paci1999 pages </span><span style=\"color: #008080; text-decoration-color: #008080; font-weight: bold\">16</span><span style=\"color: #000080; text-decoration-color: #000080; font-weight: bold\">-</span><span style=\"color: #008080; text-decoration-color: #008080; font-weight: bold\">17</span><span style=\"color: #000080; text-decoration-color: #000080; font-weight: bold\">). The CHARMM general force field is compatible with all-atom additive biological </span> \n",
       "<span style=\"color: #7fbfbf; text-decoration-color: #7fbfbf\">           </span><span style=\"color: #000080; text-decoration-color: #000080; font-weight: bold\">force fields, facilitating its use in various protein modeling studies (Hao2021 pages </span><span style=\"color: #008080; text-decoration-color: #008080; font-weight: bold\">10</span><span style=\"color: #000080; text-decoration-color: #000080; font-weight: bold\">-</span><span style=\"color: #008080; text-decoration-color: #008080; font-weight: bold\">11</span><span style=\"color: #000080; text-decoration-color: #000080; font-weight: bold\">).</span>           \n",
       "<span style=\"color: #7fbfbf; text-decoration-color: #7fbfbf\">           </span>                                                                                                        \n",
       "<span style=\"color: #7fbfbf; text-decoration-color: #7fbfbf\">           </span><span style=\"color: #000080; text-decoration-color: #000080; font-weight: bold\">Force fields are often developed for specific systems, and most molecular dynamics (MD) simulation </span>     \n",
       "<span style=\"color: #7fbfbf; text-decoration-color: #7fbfbf\">           </span><span style=\"color: #000080; text-decoration-color: #000080; font-weight: bold\">engines support only a subset of functional forms. Therefore, users typically rely on existing force </span>   \n",
       "<span style=\"color: #7fbfbf; text-decoration-color: #7fbfbf\">           </span><span style=\"color: #000080; text-decoration-color: #000080; font-weight: bold\">fields available in their chosen simulation package, as developing new ones requires significant </span>       \n",
       "<span style=\"color: #7fbfbf; text-decoration-color: #7fbfbf\">           </span><span style=\"color: #000080; text-decoration-color: #000080; font-weight: bold\">expertise (braun2019bestpracticesfor pages </span><span style=\"color: #008080; text-decoration-color: #008080; font-weight: bold\">9</span><span style=\"color: #000080; text-decoration-color: #000080; font-weight: bold\">-</span><span style=\"color: #008080; text-decoration-color: #008080; font-weight: bold\">9</span><span style=\"color: #000080; text-decoration-color: #000080; font-weight: bold\">). Additionally, the choice of auxiliary parameters, such </span>\n",
       "<span style=\"color: #7fbfbf; text-decoration-color: #7fbfbf\">           </span><span style=\"color: #000080; text-decoration-color: #000080; font-weight: bold\">as constraints and cut-offs, is critical for ensuring accurate energy and force calculations, and these </span>\n",
       "<span style=\"color: #7fbfbf; text-decoration-color: #7fbfbf\">           </span><span style=\"color: #000080; text-decoration-color: #000080; font-weight: bold\">should align with prior work for consistency (braun2019bestpracticesfor pages </span><span style=\"color: #008080; text-decoration-color: #008080; font-weight: bold\">9</span><span style=\"color: #000080; text-decoration-color: #000080; font-weight: bold\">-</span><span style=\"color: #008080; text-decoration-color: #008080; font-weight: bold\">10</span><span style=\"color: #000080; text-decoration-color: #000080; font-weight: bold\">).</span>                    \n",
       "</pre>\n"
      ],
      "text/plain": [
       "\u001b[2;36m          \u001b[0m\u001b[2;36m \u001b[0m\u001b[1;34mAnswer: Force field files are essential components in molecular simulations of proteins, providing the \u001b[0m \n",
       "\u001b[2;36m           \u001b[0m\u001b[1;34mnecessary parameters and equations to model atomic interactions. These files contain parameters for \u001b[0m    \n",
       "\u001b[2;36m           \u001b[0m\u001b[1;34matoms, bonds, and molecules, as well as point charges for electrostatic interactions, which are crucial \u001b[0m\n",
       "\u001b[2;36m           \u001b[0m\u001b[1;34mfor accurately simulating protein dynamics \u001b[0m\u001b[1;34m(\u001b[0m\u001b[1;34mbraun2019bestpracticesfor pages \u001b[0m\u001b[1;36m9\u001b[0m\u001b[1;34m-\u001b[0m\u001b[1;36m10\u001b[0m\u001b[1;34m)\u001b[0m\u001b[1;34m. \u001b[0m                     \n",
       "\u001b[2;36m           \u001b[0m                                                                                                        \n",
       "\u001b[2;36m           \u001b[0m\u001b[1;34mIn protein simulations, force fields like CHARMM are commonly used. The CHARMM polar hydrogen force \u001b[0m    \n",
       "\u001b[2;36m           \u001b[0m\u001b[1;34mfield, for instance, is employed in simulations of protein unfolding, such as in fibronectin type \u001b[0m\u001b[1;36m3\u001b[0m\u001b[1;34m \u001b[0m    \n",
       "\u001b[2;36m           \u001b[0m\u001b[1;34mmodules, highlighting the role of hydrogen-bonding interactions in stabilizing protein structures \u001b[0m      \n",
       "\u001b[2;36m           \u001b[0m\u001b[1;34m(\u001b[0m\u001b[1;34mPaci1999 pages \u001b[0m\u001b[1;36m16\u001b[0m\u001b[1;34m-\u001b[0m\u001b[1;36m17\u001b[0m\u001b[1;34m)\u001b[0m\u001b[1;34m. The CHARMM general force field is compatible with all-atom additive biological \u001b[0m \n",
       "\u001b[2;36m           \u001b[0m\u001b[1;34mforce fields, facilitating its use in various protein modeling studies \u001b[0m\u001b[1;34m(\u001b[0m\u001b[1;34mHao2021 pages \u001b[0m\u001b[1;36m10\u001b[0m\u001b[1;34m-\u001b[0m\u001b[1;36m11\u001b[0m\u001b[1;34m)\u001b[0m\u001b[1;34m.\u001b[0m           \n",
       "\u001b[2;36m           \u001b[0m                                                                                                        \n",
       "\u001b[2;36m           \u001b[0m\u001b[1;34mForce fields are often developed for specific systems, and most molecular dynamics \u001b[0m\u001b[1;34m(\u001b[0m\u001b[1;34mMD\u001b[0m\u001b[1;34m)\u001b[0m\u001b[1;34m simulation \u001b[0m     \n",
       "\u001b[2;36m           \u001b[0m\u001b[1;34mengines support only a subset of functional forms. Therefore, users typically rely on existing force \u001b[0m   \n",
       "\u001b[2;36m           \u001b[0m\u001b[1;34mfields available in their chosen simulation package, as developing new ones requires significant \u001b[0m       \n",
       "\u001b[2;36m           \u001b[0m\u001b[1;34mexpertise \u001b[0m\u001b[1;34m(\u001b[0m\u001b[1;34mbraun2019bestpracticesfor pages \u001b[0m\u001b[1;36m9\u001b[0m\u001b[1;34m-\u001b[0m\u001b[1;36m9\u001b[0m\u001b[1;34m)\u001b[0m\u001b[1;34m. Additionally, the choice of auxiliary parameters, such \u001b[0m\n",
       "\u001b[2;36m           \u001b[0m\u001b[1;34mas constraints and cut-offs, is critical for ensuring accurate energy and force calculations, and these \u001b[0m\n",
       "\u001b[2;36m           \u001b[0m\u001b[1;34mshould align with prior work for consistency \u001b[0m\u001b[1;34m(\u001b[0m\u001b[1;34mbraun2019bestpracticesfor pages \u001b[0m\u001b[1;36m9\u001b[0m\u001b[1;34m-\u001b[0m\u001b[1;36m10\u001b[0m\u001b[1;34m)\u001b[0m\u001b[1;34m.\u001b[0m                    \n"
      ]
     },
     "metadata": {},
     "output_type": "display_data"
    },
    {
     "name": "stdout",
     "output_type": "stream",
     "text": [
      "Question: forcefield files for protein simulation\n",
      "\n",
      "Force field files are essential components in molecular simulations of proteins, providing the necessary parameters and equations to model atomic interactions. These files contain parameters for atoms, bonds, and molecules, as well as point charges for electrostatic interactions, which are crucial for accurately simulating protein dynamics (braun2019bestpracticesfor pages 9-10). \n",
      "\n",
      "In protein simulations, force fields like CHARMM are commonly used. The CHARMM polar hydrogen force field, for instance, is employed in simulations of protein unfolding, such as in fibronectin type 3 modules, highlighting the role of hydrogen-bonding interactions in stabilizing protein structures (Paci1999 pages 16-17). The CHARMM general force field is compatible with all-atom additive biological force fields, facilitating its use in various protein modeling studies (Hao2021 pages 10-11).\n",
      "\n",
      "Force fields are often developed for specific systems, and most molecular dynamics (MD) simulation engines support only a subset of functional forms. Therefore, users typically rely on existing force fields available in their chosen simulation package, as developing new ones requires significant expertise (braun2019bestpracticesfor pages 9-9). Additionally, the choice of auxiliary parameters, such as constraints and cut-offs, is critical for ensuring accurate energy and force calculations, and these should align with prior work for consistency (braun2019bestpracticesfor pages 9-10).\n",
      "\n",
      "References\n",
      "\n",
      "1. (Paci1999 pages 16-17): Paci, Emanuele, and Martin Karplus. \"Forced Unfolding of Fibronectin Type 3 Modules: An Analysis by Biased Molecular Dynamics Simulations.\" *Journal of Molecular Biology*, vol. 288, 1999, pp. 441-459. Academic Press, http://www.idealibrary.com. Accessed 2024.\n",
      "\n",
      "2. (braun2019bestpracticesfor pages 9-9): Efrem Braun, Justin B. Gilmer, H. Mayes, D. Mobley, Jacob I. Monroe, Samarjeet Prasad, and D. Zuckerman. Best practices for foundations in molecular simulations [article v1.0]. Living journal of computational molecular science, 2019. URL: https://doi.org/10.33011/livecoms.1.1.5957, doi:10.33011/livecoms.1.1.5957.\n",
      "\n",
      "3. (braun2019bestpracticesfor pages 9-10): Efrem Braun, Justin B. Gilmer, H. Mayes, D. Mobley, Jacob I. Monroe, Samarjeet Prasad, and D. Zuckerman. Best practices for foundations in molecular simulations [article v1.0]. Living journal of computational molecular science, 2019. URL: https://doi.org/10.33011/livecoms.1.1.5957, doi:10.33011/livecoms.1.1.5957.\n",
      "\n",
      "4. (Hao2021 pages 10-11): Hao, Lijing, et al. \"Mechanistic Insights into the Adsorption and Bioactivity of Fibronectin on Surfaces with Varying Chemistries by a Combination of Experimental Strategies and Molecular Simulations.\" *Bioactive Materials*, vol. 6, 2021, pp. 3125–3135. *ScienceDirect*, www.sciencedirect.com/journal/bioactive-materials. Accessed 2024.\n",
      "\n"
     ]
    },
    {
     "name": "stdout",
     "output_type": "stream",
     "text": [
      "Thought:"
     ]
    },
    {
     "name": "stdout",
     "output_type": "stream",
     "text": [
      " The literature search provided information on"
     ]
    },
    {
     "name": "stdout",
     "output_type": "stream",
     "text": [
      " the importance of force field files in protein simulations"
     ]
    },
    {
     "name": "stdout",
     "output_type": "stream",
     "text": [
      ", but it did not provide the specific force field files needed"
     ]
    },
    {
     "name": "stdout",
     "output_type": "stream",
     "text": [
      " for the simulation. However,"
     ]
    },
    {
     "name": "stdout",
     "output_type": "stream",
     "text": [
      " it mentioned that the CHAR"
     ]
    },
    {
     "name": "stdout",
     "output_type": "stream",
     "text": [
      "MM polar hydrogen force field is commonly used in protein simulations."
     ]
    },
    {
     "name": "stdout",
     "output_type": "stream",
     "text": [
      " I will try to use the"
     ]
    },
    {
     "name": "stdout",
     "output_type": "stream",
     "text": [
      " CHARMM force field files for the"
     ]
    },
    {
     "name": "stdout",
     "output_type": "stream",
     "text": [
      " simulation.\n",
      "\n",
      "Action:\n",
      "```\n",
      "{\n",
      "  \""
     ]
    },
    {
     "name": "stdout",
     "output_type": "stream",
     "text": [
      "action\": \"SetUpand"
     ]
    },
    {
     "name": "stdout",
     "output_type": "stream",
     "text": [
      "RunFunction\",\n",
      "  \"action_input\":"
     ]
    },
    {
     "name": "stdout",
     "output_type": "stream",
     "text": [
      " {\n",
      "    \"pdb_id\": \"1FNF_213"
     ]
    },
    {
     "name": "stdout",
     "output_type": "stream",
     "text": [
      "855\",\n",
      "    \"forcefield_files\": [\"charmm"
     ]
    },
    {
     "name": "stdout",
     "output_type": "stream",
     "text": [
      "36.xml\", \"charmm36"
     ]
    },
    {
     "name": "stdout",
     "output_type": "stream",
     "text": [
      "/water"
     ]
    },
    {
     "name": "stdout",
     "output_type": "stream",
     "text": [
      ".xml\"],\n",
      "    \"save\": true,\n",
      "    \"system_params"
     ]
    },
    {
     "name": "stdout",
     "output_type": "stream",
     "text": [
      "\": {\n",
      "      \"nonbondedMethod\": \"PME"
     ]
    },
    {
     "name": "stdout",
     "output_type": "stream",
     "text": [
      "\",\n",
      "      \"nonbondedCutoff\": \"1."
     ]
    },
    {
     "name": "stdout",
     "output_type": "stream",
     "text": [
      "0 * nanometers\",\n",
      "      \"ewaldErrorTolerance"
     ]
    },
    {
     "name": "stdout",
     "output_type": "stream",
     "text": [
      "\": 0.00001,\n",
      "      \"constraints\": \""
     ]
    },
    {
     "name": "stdout",
     "output_type": "stream",
     "text": [
      "HBonds\",\n",
      "      \"rigidWater\": true,\n",
      "     "
     ]
    },
    {
     "name": "stdout",
     "output_type": "stream",
     "text": [
      " \"constraintTolerance\": 0.00001,\n",
      "     "
     ]
    },
    {
     "name": "stdout",
     "output_type": "stream",
     "text": [
      " \"solvate"
     ]
    },
    {
     "name": "stdout",
     "output_type": "stream",
     "text": [
      "\": true\n",
      "    },\n",
      "    \"integr"
     ]
    },
    {
     "name": "stdout",
     "output_type": "stream",
     "text": [
      "ator_params\": {\n",
      "      \"integrator_type\": \"L"
     ]
    },
    {
     "name": "stdout",
     "output_type": "stream",
     "text": [
      "angevinMiddle\",\n",
      "      \"Temperature\": \"300 * kel"
     ]
    },
    {
     "name": "stdout",
     "output_type": "stream",
     "text": [
      "vin\",\n",
      "      \"Friction\": \"1.0 /"
     ]
    },
    {
     "name": "stdout",
     "output_type": "stream",
     "text": [
      " picoseconds\",\n",
      "      \"Timestep\":"
     ]
    },
    {
     "name": "stdout",
     "output_type": "stream",
     "text": [
      " \"0.002 * picoseconds\",\n",
      "      \"Pressure\":"
     ]
    },
    {
     "name": "stdout",
     "output_type": "stream",
     "text": [
      " \"1.0 * bar\"\n",
      "    },\n",
      "    \"simulation"
     ]
    },
    {
     "name": "stdout",
     "output_type": "stream",
     "text": [
      "_params\": {\n",
      "      \"Ensemble\": \"NPT\",\n"
     ]
    },
    {
     "name": "stdout",
     "output_type": "stream",
     "text": [
      "      \"Number of Steps\": 500000,\n",
      "      \""
     ]
    },
    {
     "name": "stdout",
     "output_type": "stream",
     "text": [
      "record_interval_steps\": 100,\n",
      "      \"record_params\":"
     ]
    },
    {
     "name": "stdout",
     "output_type": "stream",
     "text": [
      " [\"step\", \""
     ]
    },
    {
     "name": "stdout",
     "output_type": "stream",
     "text": [
      "potentialEnergy\", \"temperature\"]\n",
      "    }\n",
      "  }\n",
      "}\n",
      "```"
     ]
    },
    {
     "name": "stdout",
     "output_type": "stream",
     "text": [
      "Building system...\n"
     ]
    },
    {
     "name": "stderr",
     "output_type": "stream",
     "text": [
      "Unclosed client session\n",
      "client_session: <aiohttp.client.ClientSession object at 0x2b494585d670>\n"
     ]
    },
    {
     "name": "stderr",
     "output_type": "stream",
     "text": [
      "Unclosed client session\n",
      "client_session: <aiohttp.client.ClientSession object at 0x2b49b9f66120>\n"
     ]
    },
    {
     "name": "stderr",
     "output_type": "stream",
     "text": [
      "Unclosed client session\n",
      "client_session: <aiohttp.client.ClientSession object at 0x2b49b9d24c80>\n"
     ]
    },
    {
     "name": "stderr",
     "output_type": "stream",
     "text": [
      "Unclosed client session\n",
      "client_session: <aiohttp.client.ClientSession object at 0x2b49b9dd2c00>\n"
     ]
    },
    {
     "name": "stderr",
     "output_type": "stream",
     "text": [
      "Unclosed client session\n",
      "client_session: <aiohttp.client.ClientSession object at 0x2b49b9e18800>\n"
     ]
    },
    {
     "name": "stderr",
     "output_type": "stream",
     "text": [
      "Unclosed client session\n",
      "client_session: <aiohttp.client.ClientSession object at 0x2b49b981b2f0>\n"
     ]
    },
    {
     "name": "stderr",
     "output_type": "stream",
     "text": [
      "Unclosed client session\n",
      "client_session: <aiohttp.client.ClientSession object at 0x2b49b8758980>\n"
     ]
    },
    {
     "name": "stdout",
     "output_type": "stream",
     "text": [
      "About to create system...\n",
      "Attempts at creating system: 0/3\n"
     ]
    },
    {
     "name": "stdout",
     "output_type": "stream",
     "text": [
      "Error adding solvent ValueError – No template found for residue 1 (PRO).  The set of atoms is similar to 3HOP, but it is missing 3 hydrogen atoms.  For more information, see https://github.com/openmm/openmm/wiki/Frequently-Asked-Questions#template\n",
      "Residue code: PRO\n",
      "Residue code not in solvent list. Adding forcefield                         not supported.\n"
     ]
    },
    {
     "name": "stdout",
     "output_type": "stream",
     "text": [
      "Thought:"
     ]
    },
    {
     "name": "stdout",
     "output_type": "stream",
     "text": [
      " The SetUpandRunFunction tool failed"
     ]
    },
    {
     "name": "stdout",
     "output_type": "stream",
     "text": [
      " because it could not find a template for"
     ]
    },
    {
     "name": "stdout",
     "output_type": "stream",
     "text": [
      " residue 1 (PRO). The error"
     ]
    },
    {
     "name": "stdout",
     "output_type": "stream",
     "text": [
      " message suggests that the set of"
     ]
    },
    {
     "name": "stdout",
     "output_type": "stream",
     "text": [
      " atoms is similar to 3HOP, but it is"
     ]
    },
    {
     "name": "stdout",
     "output_type": "stream",
     "text": [
      " missing 3 hydrogen atoms. I will try to add the"
     ]
    },
    {
     "name": "stdout",
     "output_type": "stream",
     "text": [
      " missing hydrogen atoms to the PDB file using the"
     ]
    },
    {
     "name": "stdout",
     "output_type": "stream",
     "text": [
      " CleaningToolFunction.\n",
      "\n",
      "Action:\n",
      "```\n",
      "{\n"
     ]
    },
    {
     "name": "stdout",
     "output_type": "stream",
     "text": [
      "  \"action\": \"CleaningToolFunction\",\n",
      "  \"action"
     ]
    },
    {
     "name": "stdout",
     "output_type": "stream",
     "text": [
      "_input\": {\n",
      "   "
     ]
    },
    {
     "name": "stdout",
     "output_type": "stream",
     "text": [
      " \"pdb_id\": \"1FNF_213855\",\n"
     ]
    },
    {
     "name": "stdout",
     "output_type": "stream",
     "text": [
      "    \"replace_nonstandard_residues\": true,\n"
     ]
    },
    {
     "name": "stdout",
     "output_type": "stream",
     "text": [
      "    \"add_missing_atoms\": true,\n",
      "    \"remove_h"
     ]
    },
    {
     "name": "stdout",
     "output_type": "stream",
     "text": [
      "eterogens\": true,\n",
      "    \"remove_water\": true,\n"
     ]
    },
    {
     "name": "stdout",
     "output_type": "stream",
     "text": [
      "    \"add_h"
     ]
    },
    {
     "name": "stdout",
     "output_type": "stream",
     "text": [
      "ydrogens\": true,\n",
      "    \"add_hydrogens_ph"
     ]
    },
    {
     "name": "stdout",
     "output_type": "stream",
     "text": [
      "\": 7.0\n",
      "  }\n",
      "}\n",
      "```\n"
     ]
    },
    {
     "name": "stdout",
     "output_type": "stream",
     "text": [
      "file path: /gpfs/fs2/scratch/qcampbe2/repos/md-agent_gpt_params/ckpt/ckpt_4/pdb/1FNF_raw_20241002_213855.pdb\n"
     ]
    },
    {
     "name": "stdout",
     "output_type": "stream",
     "text": [
      "Thought:"
     ]
    },
    {
     "name": "stdout",
     "output_type": "stream",
     "text": [
      " Now that the PDB file has been"
     ]
    },
    {
     "name": "stdout",
     "output_type": "stream",
     "text": [
      " cleaned and the"
     ]
    },
    {
     "name": "stdout",
     "output_type": "stream",
     "text": [
      " missing hydrogen atoms have been added, I can try to"
     ]
    },
    {
     "name": "stdout",
     "output_type": "stream",
     "text": [
      " set up and run the simulation again using the"
     ]
    },
    {
     "name": "stdout",
     "output_type": "stream",
     "text": [
      " SetUpandRunFunction tool.\n",
      "\n",
      "Action:\n",
      "```\n",
      "{\n",
      " "
     ]
    },
    {
     "name": "stdout",
     "output_type": "stream",
     "text": [
      " \"action\": \"SetUpandRunFunction\",\n",
      "  \"action"
     ]
    },
    {
     "name": "stdout",
     "output_type": "stream",
     "text": [
      "_input\": {\n",
      "    \"pdb_id\": \"1FNF"
     ]
    },
    {
     "name": "stdout",
     "output_type": "stream",
     "text": [
      "_213931\",\n",
      "    \"forcefield_files\": [\"char"
     ]
    },
    {
     "name": "stdout",
     "output_type": "stream",
     "text": [
      "mm36.xml\", \"charmm36/w"
     ]
    },
    {
     "name": "stdout",
     "output_type": "stream",
     "text": [
      "ater.xml\"],\n",
      "    \"save\": true,\n",
      "    \"system"
     ]
    },
    {
     "name": "stdout",
     "output_type": "stream",
     "text": [
      "_params\": {\n",
      "      \"nonbondedMethod\": \"P"
     ]
    },
    {
     "name": "stdout",
     "output_type": "stream",
     "text": [
      "ME\",\n",
      "      \"nonbondedCutoff\": \"1"
     ]
    },
    {
     "name": "stdout",
     "output_type": "stream",
     "text": [
      ".0 * nanometers\",\n",
      "      \"ewaldErrorT"
     ]
    },
    {
     "name": "stdout",
     "output_type": "stream",
     "text": [
      "olerance\": 0.00001,\n",
      "      \"constraints\":"
     ]
    },
    {
     "name": "stdout",
     "output_type": "stream",
     "text": [
      " \"HBonds\",\n",
      "      \"rigid"
     ]
    },
    {
     "name": "stdout",
     "output_type": "stream",
     "text": [
      "Water\": true,\n",
      "      \"constraintTolerance\": 0"
     ]
    },
    {
     "name": "stdout",
     "output_type": "stream",
     "text": [
      ".00001,\n",
      "      \"solvate\": true\n"
     ]
    },
    {
     "name": "stdout",
     "output_type": "stream",
     "text": [
      "    },\n",
      "    \""
     ]
    },
    {
     "name": "stdout",
     "output_type": "stream",
     "text": [
      "integrator_params\":"
     ]
    },
    {
     "name": "stdout",
     "output_type": "stream",
     "text": [
      " {\n",
      "      \"integr"
     ]
    },
    {
     "name": "stdout",
     "output_type": "stream",
     "text": [
      "ator_type\": \"LangevinMiddle\",\n",
      "      \"Temperature"
     ]
    },
    {
     "name": "stdout",
     "output_type": "stream",
     "text": [
      "\": \"300 * kelvin\",\n",
      "     "
     ]
    },
    {
     "name": "stdout",
     "output_type": "stream",
     "text": [
      " \"Friction\": \"1.0"
     ]
    },
    {
     "name": "stdout",
     "output_type": "stream",
     "text": [
      " / picoseconds\",\n",
      "      \"Timestep\": \"0."
     ]
    },
    {
     "name": "stdout",
     "output_type": "stream",
     "text": [
      "002 * picoseconds\",\n",
      "      \"Pressure\": \"1."
     ]
    },
    {
     "name": "stdout",
     "output_type": "stream",
     "text": [
      "0 * bar\"\n",
      "    },\n",
      "    \"simulation_params\": {\n"
     ]
    },
    {
     "name": "stdout",
     "output_type": "stream",
     "text": [
      "      \"Ensemble\": \"NPT\",\n",
      "      \"Number"
     ]
    },
    {
     "name": "stdout",
     "output_type": "stream",
     "text": [
      " of Steps\": 500000,\n",
      "      \"record_interval_steps"
     ]
    },
    {
     "name": "stdout",
     "output_type": "stream",
     "text": [
      "\": 100,\n",
      "      \"record_params\": [\"step\","
     ]
    },
    {
     "name": "stdout",
     "output_type": "stream",
     "text": [
      " \"potentialEnergy\", \"temperature\"]\n",
      "    }\n",
      "  }\n",
      "}\n"
     ]
    },
    {
     "name": "stdout",
     "output_type": "stream",
     "text": [
      "```\n"
     ]
    },
    {
     "name": "stdout",
     "output_type": "stream",
     "text": [
      "Building system...\n"
     ]
    },
    {
     "name": "stdout",
     "output_type": "stream",
     "text": [
      "About to create system...\n",
      "Attempts at creating system: 0/3\n"
     ]
    },
    {
     "name": "stdout",
     "output_type": "stream",
     "text": [
      "System built successfully\n",
      "<openmm.openmm.System; proxy of <Swig Object of type 'OpenMM::System *' at 0x2b49ec689b60> >\n",
      "Setting up integrator...\n",
      "Creating simulation...\n",
      "simulation set!\n",
      "Performing energy minimization...\n"
     ]
    },
    {
     "name": "stdout",
     "output_type": "stream",
     "text": [
      "Minimization complete!\n"
     ]
    },
    {
     "name": "stdout",
     "output_type": "stream",
     "text": [
      "Initial Positions saved to initial_positions.pdb\n",
      "Equilibrating...\n"
     ]
    },
    {
     "name": "stdout",
     "output_type": "stream",
     "text": [
      "Simulating...\n"
     ]
    },
    {
     "name": "stdout",
     "output_type": "stream",
     "text": [
      "Done!\n",
      "Standalone simulation script written to /gpfs/fs2/scratch/qcampbe2/repos/md-agent_gpt_params/ckpt/ckpt_4/simulations/NPT_1FNF_213931_20241002_213935.py\n",
      "['out.exp18_70b', 'paper_collection', '.ipynb_checkpoints', 'exp_4.ipynb', 'out.exp12_70b', 'exp_12.ipynb', 'exp18_70b.sh', 'results', 'out.exp6_70b', 'exp6_70b.sh', 'TRAJ_sim0_213935_1FNF_213931_20241002_213947.dcd', 'exp_18.ipynb', 'TOP_sim0_213935_1FNF_213931_20241002_213947.pdb', 'exp_6.ipynb', 'exp_4-Copy1.ipynb', 'exp12_70b.sh', 'LOG_sim0_213935_1FNF_213931_20241002_213947.txt']\n"
     ]
    },
    {
     "name": "stdout",
     "output_type": "stream",
     "text": [
      "Thought:"
     ]
    },
    {
     "name": "stdout",
     "output_type": "stream",
     "text": [
      " Now that the simulation is complete, I can compute"
     ]
    },
    {
     "name": "stdout",
     "output_type": "stream",
     "text": [
      " the RMSD and the final secondary structure of"
     ]
    },
    {
     "name": "stdout",
     "output_type": "stream",
     "text": [
      " the protein. I will"
     ]
    },
    {
     "name": "stdout",
     "output_type": "stream",
     "text": [
      " use the ComputeRMSD tool to compute the RMSD"
     ]
    },
    {
     "name": "stdout",
     "output_type": "stream",
     "text": [
      " and the ComputeDSSP tool to compute"
     ]
    },
    {
     "name": "stdout",
     "output_type": "stream",
     "text": [
      " the final secondary structure.\n",
      "\n",
      "Action:\n",
      "```\n",
      "{\n",
      " "
     ]
    },
    {
     "name": "stdout",
     "output_type": "stream",
     "text": [
      " \"action\": \"ComputeRMSD"
     ]
    },
    {
     "name": "stdout",
     "output_type": "stream",
     "text": [
      "\",\n",
      "  \"action_input\": {\n",
      "    \"top_id\":"
     ]
    },
    {
     "name": "stdout",
     "output_type": "stream",
     "text": [
      " \"top_sim0_213935\",\n",
      "    \"traj"
     ]
    },
    {
     "name": "stdout",
     "output_type": "stream",
     "text": [
      "_id\": \"rec0_213947\",\n",
      "    \"ref"
     ]
    },
    {
     "name": "stdout",
     "output_type": "stream",
     "text": [
      "_top_id\": \"top_sim0_213935\",\n",
      "   "
     ]
    },
    {
     "name": "stdout",
     "output_type": "stream",
     "text": [
      " \"ref_traj_id\": \"rec0_"
     ]
    },
    {
     "name": "stdout",
     "output_type": "stream",
     "text": [
      "213947\",\n",
      "    \"select\":"
     ]
    },
    {
     "name": "stdout",
     "output_type": "stream",
     "text": [
      " \"protein\",\n",
      "    \"mol_name\": \"1F"
     ]
    },
    {
     "name": "stdout",
     "output_type": "stream",
     "text": [
      "NF_213931\"\n",
      "  }\n",
      "}\n",
      "```\n"
     ]
    },
    {
     "name": "stdout",
     "output_type": "stream",
     "text": [
      "Calculating RMSD...\n"
     ]
    },
    {
     "name": "stdout",
     "output_type": "stream",
     "text": [
      "Data saved to /gpfs/fs2/scratch/qcampbe2/repos/md-agent_gpt_params/ckpt/ckpt_4/records/rmsd_1FNF_213931.csv\n"
     ]
    },
    {
     "name": "stdout",
     "output_type": "stream",
     "text": [
      "Plot saved to /gpfs/fs2/scratch/qcampbe2/repos/md-agent_gpt_params/ckpt/ckpt_4/figures/FIG_rmsd_1FNF_213931_20241005_212516.png\n"
     ]
    },
    {
     "name": "stdout",
     "output_type": "stream",
     "text": [
      "Thought:"
     ]
    },
    {
     "name": "stdout",
     "output_type": "stream",
     "text": [
      " Now that I have computed the RMSD"
     ]
    },
    {
     "name": "stdout",
     "output_type": "stream",
     "text": [
      " of the protein, I can compute the"
     ]
    },
    {
     "name": "stdout",
     "output_type": "stream",
     "text": [
      " final secondary structure of the protein. I will use the Compute"
     ]
    },
    {
     "name": "stdout",
     "output_type": "stream",
     "text": [
      "DSSP tool to compute the final secondary structure.\n",
      "\n",
      "Action"
     ]
    },
    {
     "name": "stdout",
     "output_type": "stream",
     "text": [
      ":\n",
      "```\n",
      "{\n",
      "  \"action\": \"ComputeDSS"
     ]
    },
    {
     "name": "stdout",
     "output_type": "stream",
     "text": [
      "P\",\n",
      "  \"action_input\": {\n",
      "    \"traj"
     ]
    },
    {
     "name": "stdout",
     "output_type": "stream",
     "text": [
      "_file\": \"rec0_213947\",\n",
      "    \"top"
     ]
    },
    {
     "name": "stdout",
     "output_type": "stream",
     "text": [
      "_file\": \"top_sim0_213935\",\n",
      "    \""
     ]
    },
    {
     "name": "stdout",
     "output_type": "stream",
     "text": [
      "target_frames\": \"last\"\n"
     ]
    },
    {
     "name": "stdout",
     "output_type": "stream",
     "text": [
      "  }\n",
      "}\n",
      "```\n",
      "\n"
     ]
    },
    {
     "name": "stdout",
     "output_type": "stream",
     "text": [
      "Thought:"
     ]
    },
    {
     "name": "stdout",
     "output_type": "stream",
     "text": [
      " Now that I have computed the RMSD and the"
     ]
    },
    {
     "name": "stdout",
     "output_type": "stream",
     "text": [
      " final secondary structure of the protein, I can compare this information"
     ]
    },
    {
     "name": "stdout",
     "output_type": "stream",
     "text": [
      " to the structure obtained from the Uniprot ID. I"
     ]
    },
    {
     "name": "stdout",
     "output_type": "stream",
     "text": [
      " will use the GetUnip"
     ]
    },
    {
     "name": "stdout",
     "output_type": "stream",
     "text": [
      "rotID tool to get the Unip"
     ]
    },
    {
     "name": "stdout",
     "output_type": "stream",
     "text": [
      "rot ID of the protein, and then"
     ]
    },
    {
     "name": "stdout",
     "output_type": "stream",
     "text": [
      " use the GetSubunitStructure tool to get"
     ]
    },
    {
     "name": "stdout",
     "output_type": "stream",
     "text": [
      " the subunit structure of the protein.\n",
      "\n",
      "Action:\n"
     ]
    },
    {
     "name": "stdout",
     "output_type": "stream",
     "text": [
      "```\n",
      "{\n",
      "  \"action\": \"GetUniprot"
     ]
    },
    {
     "name": "stdout",
     "output_type": "stream",
     "text": [
      "ID\",\n",
      "  \"action_input\": {\n",
      "   "
     ]
    },
    {
     "name": "stdout",
     "output_type": "stream",
     "text": [
      " \"query\": \"fibronectin\",\n",
      "   "
     ]
    },
    {
     "name": "stdout",
     "output_type": "stream",
     "text": [
      " \"all_ids\": false\n",
      "  }\n",
      "}\n",
      "```"
     ]
    },
    {
     "name": "stdout",
     "output_type": "stream",
     "text": [
      "Thought:"
     ]
    },
    {
     "name": "stdout",
     "output_type": "stream",
     "text": [
      " Now that I have the Uniprot ID of"
     ]
    },
    {
     "name": "stdout",
     "output_type": "stream",
     "text": [
      " the protein, I can use the GetSubunitStructure tool"
     ]
    },
    {
     "name": "stdout",
     "output_type": "stream",
     "text": [
      " to get the subunit structure of the protein.\n",
      "\n",
      "Action:\n"
     ]
    },
    {
     "name": "stdout",
     "output_type": "stream",
     "text": [
      "```\n",
      "{\n",
      "  \"action\": \"GetSubunitStructure"
     ]
    },
    {
     "name": "stdout",
     "output_type": "stream",
     "text": [
      "\",\n",
      "  \"action_input\": {\n",
      "    \"query\":"
     ]
    },
    {
     "name": "stdout",
     "output_type": "stream",
     "text": [
      " \"fibronectin\",\n",
      "    \"primary_access"
     ]
    },
    {
     "name": "stdout",
     "output_type": "stream",
     "text": [
      "ion\": \"P02751\"\n",
      "  }\n",
      "}\n",
      "```\n"
     ]
    },
    {
     "name": "stdout",
     "output_type": "stream",
     "text": [
      "Thought:"
     ]
    },
    {
     "name": "stdout",
     "output_type": "stream",
     "text": [
      " Now that I have the subunit"
     ]
    },
    {
     "name": "stdout",
     "output_type": "stream",
     "text": [
      " structure of the protein, I can compare this information"
     ]
    },
    {
     "name": "stdout",
     "output_type": "stream",
     "text": [
      " to the structure obtained from the simulation. I will use the"
     ]
    },
    {
     "name": "stdout",
     "output_type": "stream",
     "text": [
      " GetTurnsBetaSheetsHelices tool to get"
     ]
    },
    {
     "name": "stdout",
     "output_type": "stream",
     "text": [
      " the number and location of turns, beta sheets, and hel"
     ]
    },
    {
     "name": "stdout",
     "output_type": "stream",
     "text": [
      "ices for the protein.\n",
      "\n",
      "Action:\n",
      "```\n",
      "{\n",
      "  \""
     ]
    },
    {
     "name": "stdout",
     "output_type": "stream",
     "text": [
      "action\": \"GetTurnsBetaSheetsHelices\",\n"
     ]
    },
    {
     "name": "stdout",
     "output_type": "stream",
     "text": [
      "  \"action_input\": {\n",
      "    \"query\":"
     ]
    },
    {
     "name": "stdout",
     "output_type": "stream",
     "text": [
      " \"fibronectin\",\n",
      "    \"primary_accession\":"
     ]
    },
    {
     "name": "stdout",
     "output_type": "stream",
     "text": [
      " \"P02751\"\n",
      "  }\n",
      "}\n",
      "```"
     ]
    },
    {
     "name": "stdout",
     "output_type": "stream",
     "text": [
      "Thought:"
     ]
    },
    {
     "name": "stdout",
     "output_type": "stream",
     "text": [
      " Now that"
     ]
    },
    {
     "name": "stdout",
     "output_type": "stream",
     "text": [
      " I have the number and"
     ]
    },
    {
     "name": "stdout",
     "output_type": "stream",
     "text": [
      " location of turns, beta"
     ]
    },
    {
     "name": "stdout",
     "output_type": "stream",
     "text": [
      " sheets, and helices for the protein, I can compare"
     ]
    },
    {
     "name": "stdout",
     "output_type": "stream",
     "text": [
      " this information to the structure obtained from the simulation."
     ]
    },
    {
     "name": "stdout",
     "output_type": "stream",
     "text": [
      " I will use the"
     ]
    },
    {
     "name": "stdout",
     "output_type": "stream",
     "text": [
      " ComputeDSSP tool to"
     ]
    },
    {
     "name": "stdout",
     "output_type": "stream",
     "text": [
      " compute the final secondary structure of the protein"
     ]
    },
    {
     "name": "stdout",
     "output_type": "stream",
     "text": [
      " from the simulation.\n",
      "\n",
      "Action:\n",
      "```\n",
      "{\n",
      " "
     ]
    },
    {
     "name": "stdout",
     "output_type": "stream",
     "text": [
      " \"action\": \""
     ]
    },
    {
     "name": "stdout",
     "output_type": "stream",
     "text": [
      "ComputeDSSP\",\n",
      "  \"action"
     ]
    },
    {
     "name": "stdout",
     "output_type": "stream",
     "text": [
      "_input\": {\n",
      "    \"traj_file\": \"rec0"
     ]
    },
    {
     "name": "stdout",
     "output_type": "stream",
     "text": [
      "_213947\",\n",
      "    \"top_file"
     ]
    },
    {
     "name": "stdout",
     "output_type": "stream",
     "text": [
      "\": \"top_sim0_213935\",\n",
      "    \"target"
     ]
    },
    {
     "name": "stdout",
     "output_type": "stream",
     "text": [
      "_frames\": \"last\"\n"
     ]
    },
    {
     "name": "stdout",
     "output_type": "stream",
     "text": [
      "  }\n",
      "}\n",
      "```\n",
      "\n"
     ]
    }
   ],
   "source": [
    "prompt12 = \"Simulate fibronectin (PDB ID 1FNF) for 1 ns, using an appropriate temperature found in the literature. Compute the RMSD and the final secondary structure. By using the PDB ID to get the Uniprot ID, obtain the subunit structure and the number of beta sheets, helices, etc. Compare this information to the structure we computed.\"\n",
    "answer = agent.run(prompt12)"
   ]
  },
  {
   "cell_type": "code",
   "execution_count": 5,
   "id": "a31fd85f-9466-41da-ada4-0b9f86427723",
   "metadata": {
    "execution": {
     "iopub.execute_input": "2024-10-06T01:25:39.054029Z",
     "iopub.status.busy": "2024-10-06T01:25:39.053832Z",
     "iopub.status.idle": "2024-10-06T01:25:39.061089Z",
     "shell.execute_reply": "2024-10-06T01:25:39.060602Z"
    },
    "papermill": {
     "duration": 0.046165,
     "end_time": "2024-10-06T01:25:39.062409",
     "exception": false,
     "start_time": "2024-10-06T01:25:39.016244",
     "status": "completed"
    },
    "tags": []
   },
   "outputs": [
    {
     "name": "stdout",
     "output_type": "stream",
     "text": [
      "duration: 4307.79 minutes\n"
     ]
    }
   ],
   "source": [
    "end = datetime.datetime.now()\n",
    "elapsed = end - start\n",
    "print(f\"duration: {elapsed.total_seconds()/60:.2f} minutes\")"
   ]
  },
  {
   "cell_type": "code",
   "execution_count": 6,
   "id": "55572852-a00c-498a-a60a-b366dc6a7db5",
   "metadata": {
    "execution": {
     "iopub.execute_input": "2024-10-06T01:25:39.809041Z",
     "iopub.status.busy": "2024-10-06T01:25:39.808848Z",
     "iopub.status.idle": "2024-10-06T01:25:40.263736Z",
     "shell.execute_reply": "2024-10-06T01:25:40.263224Z"
    },
    "papermill": {
     "duration": 1.174455,
     "end_time": "2024-10-06T01:25:40.264863",
     "exception": false,
     "start_time": "2024-10-06T01:25:39.090408",
     "status": "completed"
    },
    "tags": []
   },
   "outputs": [
    {
     "name": "stdout",
     "output_type": "stream",
     "text": [
      "ckpt_dir: ckpt_4\n",
      "Files found in registry: 1FNF_213855: PDB file downloaded from RSCB\n",
      " PDBFile ID: 1FNF_213855\n",
      " 1FNF_213931: Cleaned File:  Removed Heterogens\n",
      " and Water Removed.  Replaced Nonstandard Residues. Added Hydrogens at pH 7.0. Missing Atoms Added and replaces nonstandard residues. \n",
      " top_sim0_213935: Initial positions for simulation sim0_213935\n",
      " sim0_213935: Basic Simulation of Protein 1FNF_213931\n",
      " rec0_213947: Simulation trajectory for protein 1FNF_213931 and simulation sim0_213935\n",
      " rec1_213947: Simulation state log for protein 1FNF_213931 and simulation sim0_213935\n",
      " rec2_213947: Simulation pdb frames for protein 1FNF_213931 and simulation sim0_213935\n",
      " rmsd_1FNF_213931: RMSD for 1FNF_213931\n",
      " fig0_212516: RMSD plot for 1FNF_213931\n",
      " rec0_212527: dssp values for trajectory with id: rec0_213947\n",
      " rec0_212538: dssp values for trajectory with id: rec0_213947\n"
     ]
    }
   ],
   "source": [
    "registry = agent.path_registry\n",
    "print('ckpt_dir:',os.path.basename(agent.path_registry.ckpt_dir))\n",
    "paths_and_descriptions = registry.list_path_names_and_descriptions()\n",
    "print(\"\\n\".join(paths_and_descriptions.split(\",\")))"
   ]
  },
  {
   "cell_type": "code",
   "execution_count": 7,
   "id": "e5233722-daa3-457c-9e94-9f3905025270",
   "metadata": {
    "execution": {
     "iopub.execute_input": "2024-10-06T01:25:40.322031Z",
     "iopub.status.busy": "2024-10-06T01:25:40.321863Z",
     "iopub.status.idle": "2024-10-06T01:25:40.324715Z",
     "shell.execute_reply": "2024-10-06T01:25:40.324224Z"
    },
    "papermill": {
     "duration": 0.032042,
     "end_time": "2024-10-06T01:25:40.325784",
     "exception": false,
     "start_time": "2024-10-06T01:25:40.293742",
     "status": "completed"
    },
    "tags": []
   },
   "outputs": [],
   "source": [
    "# ensure all files are in path registry\n",
    "assert all(n in paths_and_descriptions for n in ['1FNF','sim0', 'top_sim0', 'rec0']), \"Not all file ids are present in path registry\""
   ]
  },
  {
   "cell_type": "code",
   "execution_count": 1,
   "id": "400bdc99-0a2f-4cee-bbaa-046ad92fbe50",
   "metadata": {},
   "outputs": [
    {
     "name": "stdout",
     "output_type": "stream",
     "text": [
      "It's asserted that file paths for rec0_213947 and top_sim0_213935 exist\n"
     ]
    }
   ],
   "source": [
    "from mdcrow import MDCrow\n",
    "import re\n",
    "import os\n",
    "\n",
    "registry = MDCrow(ckpt_dir=\"ckpt_4\").path_registry\n",
    "paths_and_descriptions = registry.list_path_names_and_descriptions()\n",
    "\n",
    "\n",
    "match = re.search(r\"rec0_\\d+\", paths_and_descriptions)\n",
    "traj_id = match.group(0)\n",
    "traj_path = registry.get_mapped_path(traj_id)\n",
    "match = re.search(r\"top_sim0_\\d+\", paths_and_descriptions)\n",
    "top_id = match.group(0)\n",
    "top_path = registry.get_mapped_path(top_id)\n",
    "assert os.path.exists(traj_path), \"Trajectory file doesn't exist\"\n",
    "assert os.path.exists(top_path), \"Topology file doesn't exist\"\n",
    "assert traj_path != top_path\n",
    "assert traj_path.endswith(\".dcd\")\n",
    "assert top_path.endswith(\".pdb\")\n",
    "print(f\"It's asserted that file paths for {traj_id} and {top_id} exist\")"
   ]
  },
  {
   "cell_type": "code",
   "execution_count": 2,
   "id": "29ea9d40-9ca0-4b18-8412-8c4f88e5639c",
   "metadata": {},
   "outputs": [
    {
     "name": "stdout",
     "output_type": "stream",
     "text": [
      "Simulation with 22042 atoms for 5010 frames.\n",
      "Number of residues in chains:  3\n",
      "Number of residues in sheets:  193\n",
      "Number of residues in helices:  3\n",
      "Number of residues in coils:  172\n"
     ]
    }
   ],
   "source": [
    "import mdtraj as md\n",
    "traj = md.load(traj_path, top=top_path)\n",
    "print(f\"Simulation with {traj.n_atoms} atoms for {traj.n_frames} frames.\")\n",
    "\n",
    "#secondary structure\n",
    "traj = traj[-1]\n",
    "top = traj.topology\n",
    "number_of_chains = top.n_chains\n",
    "secondary_structure = md.compute_dssp(traj,simplified=True)\n",
    "print(\"Number of residues in chains: \",number_of_chains)\n",
    "print(\"Number of residues in sheets: \",len([i for i in secondary_structure[0] if i == 'E']))\n",
    "print(\"Number of residues in helices: \",len([i for i in secondary_structure[0] if i == 'H']))\n",
    "print(\"Number of residues in coils: \",len([i for i in secondary_structure[0] if i == 'C']))"
   ]
  },
  {
   "cell_type": "code",
   "execution_count": 3,
   "id": "8520302d-6387-4b58-bee0-28c0adfc04cc",
   "metadata": {},
   "outputs": [
    {
     "name": "stdout",
     "output_type": "stream",
     "text": [
      "It is asserted that file path for fig0_212516 exist\n"
     ]
    }
   ],
   "source": [
    "import re\n",
    "import os\n",
    "\n",
    "matches = re.findall(r\"fig0_\\d+\", paths_and_descriptions)\n",
    "fig_id1 = matches[0]\n",
    "fig_path_1 = registry.get_mapped_path(fig_id1)\n",
    "\n",
    "assert os.path.exists(fig_path_1)\n",
    "print(f'It is asserted that file path for {fig_id1} exist')"
   ]
  },
  {
   "cell_type": "code",
   "execution_count": 4,
   "id": "ba0d56a1-793d-4702-91c2-ab7fe1b9cf33",
   "metadata": {},
   "outputs": [
    {
     "data": {
      "image/png": "[encoded data removed]",
      "text/plain": [
       "<IPython.core.display.Image object>"
      ]
     },
     "execution_count": 4,
     "metadata": {},
     "output_type": "execute_result"
    }
   ],
   "source": [
    "from IPython.display import Image\n",
    "Image(filename=fig_path_1)"
   ]
  }
 ],
 "metadata": {
  "kernelspec": {
   "display_name": "mdcrow",
   "language": "python",
   "name": "mdcrow"
  },
  "language_info": {
   "codemirror_mode": {
    "name": "ipython",
    "version": 3
   },
   "file_extension": ".py",
   "mimetype": "text/x-python",
   "name": "python",
   "nbconvert_exporter": "python",
   "pygments_lexer": "ipython3",
   "version": "3.12.4"
  },
  "papermill": {
   "default_parameters": {},
   "duration": 258477.980002,
   "end_time": "2024-10-06T01:25:43.796640",
   "environment_variables": {},
   "exception": null,
   "input_path": "exp_12.ipynb",
   "output_path": "results/exp_12.ipynb",
   "parameters": {},
   "start_time": "2024-10-03T01:37:45.816638",
   "version": "2.6.0"
  }
 },
 "nbformat": 4,
 "nbformat_minor": 5
}
