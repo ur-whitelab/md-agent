{
 "cells": [
  {
   "cell_type": "code",
   "execution_count": 1,
   "id": "9ad61b52",
   "metadata": {
    "editable": true,
    "execution": {
     "iopub.execute_input": "2024-10-18T03:39:19.901175Z",
     "iopub.status.busy": "2024-10-18T03:39:19.900821Z",
     "iopub.status.idle": "2024-10-18T03:39:34.797442Z",
     "shell.execute_reply": "2024-10-18T03:39:34.796527Z"
    },
    "papermill": {
     "duration": 14.905153,
     "end_time": "2024-10-18T03:39:34.800200",
     "exception": false,
     "start_time": "2024-10-18T03:39:19.895047",
     "status": "completed"
    },
    "slideshow": {
     "slide_type": ""
    },
    "tags": []
   },
   "outputs": [],
   "source": [
    "import datetime\n",
    "import os\n",
    "from mdcrow import MDCrow"
   ]
  },
  {
   "cell_type": "code",
   "execution_count": 2,
   "id": "9eb41760",
   "metadata": {
    "editable": true,
    "execution": {
     "iopub.execute_input": "2024-10-18T03:39:34.810987Z",
     "iopub.status.busy": "2024-10-18T03:39:34.809944Z",
     "iopub.status.idle": "2024-10-18T03:39:34.816845Z",
     "shell.execute_reply": "2024-10-18T03:39:34.816008Z"
    },
    "papermill": {
     "duration": 0.013824,
     "end_time": "2024-10-18T03:39:34.819159",
     "exception": false,
     "start_time": "2024-10-18T03:39:34.805335",
     "status": "completed"
    },
    "slideshow": {
     "slide_type": ""
    },
    "tags": [
     "parameters"
    ]
   },
   "outputs": [],
   "source": [
    "prompt5 = \"Simulate 1VII for 1 ns at a temperature of 300 K. Then, tell me if the secondary structure changed from the beginning of the simulation to the end of the simulation.\"\n",
    "llm_var = \"accounts/fireworks/models/llama-v3p1-405b-instruct\""
   ]
  },
  {
   "cell_type": "code",
   "execution_count": 3,
   "id": "1fe32c46",
   "metadata": {
    "execution": {
     "iopub.execute_input": "2024-10-18T03:39:34.827608Z",
     "iopub.status.busy": "2024-10-18T03:39:34.827265Z",
     "iopub.status.idle": "2024-10-18T03:39:34.855400Z",
     "shell.execute_reply": "2024-10-18T03:39:34.854440Z"
    },
    "papermill": {
     "duration": 0.035191,
     "end_time": "2024-10-18T03:39:34.857707",
     "exception": false,
     "start_time": "2024-10-18T03:39:34.822516",
     "status": "completed"
    },
    "tags": [
     "injected-parameters"
    ]
   },
   "outputs": [],
   "source": [
    "# Parameters\n",
    "llm_var = \"accounts/fireworks/models/llama-v3p1-70b-instruct\"\n"
   ]
  },
  {
   "cell_type": "code",
   "execution_count": 4,
   "id": "0faadc2c",
   "metadata": {
    "execution": {
     "iopub.execute_input": "2024-10-18T03:39:34.866156Z",
     "iopub.status.busy": "2024-10-18T03:39:34.865803Z",
     "iopub.status.idle": "2024-10-18T03:39:35.547373Z",
     "shell.execute_reply": "2024-10-18T03:39:35.546615Z"
    },
    "papermill": {
     "duration": 0.688514,
     "end_time": "2024-10-18T03:39:35.549645",
     "exception": false,
     "start_time": "2024-10-18T03:39:34.861131",
     "status": "completed"
    },
    "tags": []
   },
   "outputs": [
    {
     "name": "stdout",
     "output_type": "stream",
     "text": [
      "date and time: 2024-10-17\n",
      "time: 23:39:35\n",
      "LLM:  accounts/fireworks/models/llama-v3p1-70b-instruct \n",
      "Temperature:  0.1\n"
     ]
    }
   ],
   "source": [
    "tools = \"all\"\n",
    "agent = MDCrow(agent_type=\"Structured\", model=llm_var, top_k_tools=tools)\n",
    "now = datetime.datetime.now()\n",
    "date = now.strftime(\"%Y-%m-%d\")\n",
    "print(\"date and time:\",date)\n",
    "time = now.strftime(\"%H:%M:%S\")\n",
    "print(\"time:\",time)\n",
    "print(\"LLM: \",agent.llm.model_name,\"\\nTemperature: \",agent.llm.temperature)"
   ]
  },
  {
   "cell_type": "code",
   "execution_count": 5,
   "id": "3940e7f8",
   "metadata": {
    "execution": {
     "iopub.execute_input": "2024-10-18T03:39:35.558600Z",
     "iopub.status.busy": "2024-10-18T03:39:35.558245Z",
     "iopub.status.idle": "2024-10-18T11:05:04.653587Z",
     "shell.execute_reply": "2024-10-18T11:05:04.652847Z"
    },
    "papermill": {
     "duration": 26729.102458,
     "end_time": "2024-10-18T11:05:04.655807",
     "exception": false,
     "start_time": "2024-10-18T03:39:35.553349",
     "status": "completed"
    },
    "scrolled": true,
    "tags": []
   },
   "outputs": [
    {
     "name": "stdout",
     "output_type": "stream",
     "text": [
      "Thought:"
     ]
    },
    {
     "name": "stdout",
     "output_type": "stream",
     "text": [
      " To solve this"
     ]
    },
    {
     "name": "stdout",
     "output_type": "stream",
     "text": [
      " problem, I need to simulate the protein "
     ]
    },
    {
     "name": "stdout",
     "output_type": "stream",
     "text": [
      "1VII for 1 ns at a"
     ]
    },
    {
     "name": "stdout",
     "output_type": "stream",
     "text": [
      " temperature of 300"
     ]
    },
    {
     "name": "stdout",
     "output_type": "stream",
     "text": [
      " K, and then analyze the secondary structure at the"
     ]
    },
    {
     "name": "stdout",
     "output_type": "stream",
     "text": [
      " beginning and end of the simulation.\n",
      "\n",
      "Action:\n",
      "```\n",
      "{\n"
     ]
    },
    {
     "name": "stdout",
     "output_type": "stream",
     "text": [
      "  \"action\": \"SetUpandRunFunction\",\n",
      " "
     ]
    },
    {
     "name": "stdout",
     "output_type": "stream",
     "text": [
      " \"action_input\": {\n",
      "    \"pdb_id\":"
     ]
    },
    {
     "name": "stdout",
     "output_type": "stream",
     "text": [
      " \"1VII\",\n",
      "    \"forcefield_files\": [\""
     ]
    },
    {
     "name": "stdout",
     "output_type": "stream",
     "text": [
      "amber99sb"
     ]
    },
    {
     "name": "stdout",
     "output_type": "stream",
     "text": [
      "ildn.xml\", \"tip3"
     ]
    },
    {
     "name": "stdout",
     "output_type": "stream",
     "text": [
      "p.xml\"],\n",
      "    \"save\": true,\n",
      "   "
     ]
    },
    {
     "name": "stdout",
     "output_type": "stream",
     "text": [
      " \"system_params\": {\n",
      "      \"nonbondedMethod\":"
     ]
    },
    {
     "name": "stdout",
     "output_type": "stream",
     "text": [
      " \"PME\",\n",
      "      \"nonbondedCutoff"
     ]
    },
    {
     "name": "stdout",
     "output_type": "stream",
     "text": [
      "\": \"1.0 * nan"
     ]
    },
    {
     "name": "stdout",
     "output_type": "stream",
     "text": [
      "ometers\",\n",
      "      \"ewaldErrorTolerance\": 0"
     ]
    },
    {
     "name": "stdout",
     "output_type": "stream",
     "text": [
      ".00001,\n",
      "      \"constraints\": \"HBonds\",\n"
     ]
    },
    {
     "name": "stdout",
     "output_type": "stream",
     "text": [
      "      \"rigidWater\": true,\n",
      "      \"constraintT"
     ]
    },
    {
     "name": "stdout",
     "output_type": "stream",
     "text": [
      "olerance\": 0.00001,\n",
      "      \"solv"
     ]
    },
    {
     "name": "stdout",
     "output_type": "stream",
     "text": [
      "ate\": true\n"
     ]
    },
    {
     "name": "stdout",
     "output_type": "stream",
     "text": [
      "    },\n",
      "    \"integrator_params\": {\n",
      "     "
     ]
    },
    {
     "name": "stdout",
     "output_type": "stream",
     "text": [
      " \"integrator_type\": \"LangevinMiddle\",\n"
     ]
    },
    {
     "name": "stdout",
     "output_type": "stream",
     "text": [
      "      \"Temperature\": \"300 * kelvin\",\n",
      "      \""
     ]
    },
    {
     "name": "stdout",
     "output_type": "stream",
     "text": [
      "Friction\": \"1.0 / picoseconds\",\n",
      "     "
     ]
    },
    {
     "name": "stdout",
     "output_type": "stream",
     "text": [
      " \"Timestep\": \"0.002"
     ]
    },
    {
     "name": "stdout",
     "output_type": "stream",
     "text": [
      " * picoseconds\",\n",
      "      \"Pressure\": \"1.0"
     ]
    },
    {
     "name": "stdout",
     "output_type": "stream",
     "text": [
      " * bar\"\n",
      "   "
     ]
    },
    {
     "name": "stdout",
     "output_type": "stream",
     "text": [
      " },\n",
      "    \"simulation_params\": {\n",
      "      \"Ensemble\":"
     ]
    },
    {
     "name": "stdout",
     "output_type": "stream",
     "text": [
      " \"NPT\",\n",
      "      \"Number of Steps\": 500"
     ]
    },
    {
     "name": "stdout",
     "output_type": "stream",
     "text": [
      "000,\n",
      "      \"record_interval"
     ]
    },
    {
     "name": "stdout",
     "output_type": "stream",
     "text": [
      "_steps\": 100"
     ]
    },
    {
     "name": "stdout",
     "output_type": "stream",
     "text": [
      ",\n",
      "      \"record_params\": [\"step\", \"potentialEnergy"
     ]
    },
    {
     "name": "stdout",
     "output_type": "stream",
     "text": [
      "\", \"temperature\"]\n",
      "    }\n",
      "  }\n",
      "}\n",
      "```\n"
     ]
    },
    {
     "name": "stdout",
     "output_type": "stream",
     "text": [
      "Thought:"
     ]
    },
    {
     "name": "stdout",
     "output_type": "stream",
     "text": [
      " I need to download the PDB file for"
     ]
    },
    {
     "name": "stdout",
     "output_type": "stream",
     "text": [
      " 1VII and get its"
     ]
    },
    {
     "name": "stdout",
     "output_type": "stream",
     "text": [
      " file ID, then I can use it to simulate"
     ]
    },
    {
     "name": "stdout",
     "output_type": "stream",
     "text": [
      " the protein.\n",
      "\n",
      "Action:\n",
      "```\n",
      "{\n",
      "  \"action\":"
     ]
    },
    {
     "name": "stdout",
     "output_type": "stream",
     "text": [
      " \"PDBFileDownloader\",\n",
      "  \"action_input\": {\n"
     ]
    },
    {
     "name": "stdout",
     "output_type": "stream",
     "text": [
      "    \"query\": \"1VII\"\n",
      " "
     ]
    },
    {
     "name": "stdout",
     "output_type": "stream",
     "text": [
      " }\n",
      "}\n",
      "```\n",
      "\n"
     ]
    },
    {
     "name": "stdout",
     "output_type": "stream",
     "text": [
      "PDB file found with this ID: 1VII\n"
     ]
    },
    {
     "name": "stdout",
     "output_type": "stream",
     "text": [
      "Thought:"
     ]
    },
    {
     "name": "stdout",
     "output_type": "stream",
     "text": [
      " Now that I have the file ID"
     ]
    },
    {
     "name": "stdout",
     "output_type": "stream",
     "text": [
      " of the PDB file, I"
     ]
    },
    {
     "name": "stdout",
     "output_type": "stream",
     "text": [
      " can use it to simulate the protein 1VII for"
     ]
    },
    {
     "name": "stdout",
     "output_type": "stream",
     "text": [
      " 1 ns at a temperature of 300 K.\n",
      "\n",
      "Action"
     ]
    },
    {
     "name": "stdout",
     "output_type": "stream",
     "text": [
      ":\n",
      "```\n",
      "{\n"
     ]
    },
    {
     "name": "stdout",
     "output_type": "stream",
     "text": [
      "  \"action\": \"SetUpandRunFunction\",\n",
      "  \""
     ]
    },
    {
     "name": "stdout",
     "output_type": "stream",
     "text": [
      "action_input\": {\n",
      "    \"pdb_id"
     ]
    },
    {
     "name": "stdout",
     "output_type": "stream",
     "text": [
      "\": \"1VII_233940"
     ]
    },
    {
     "name": "stdout",
     "output_type": "stream",
     "text": [
      "\",\n",
      "    \"forcefield_files\": [\"amber99sbild"
     ]
    },
    {
     "name": "stdout",
     "output_type": "stream",
     "text": [
      "n.xml\", \"tip3p.xml\"],\n",
      "    \"save"
     ]
    },
    {
     "name": "stdout",
     "output_type": "stream",
     "text": [
      "\": true,\n",
      "    \"system_params\": {\n",
      "      \"non"
     ]
    },
    {
     "name": "stdout",
     "output_type": "stream",
     "text": [
      "bondedMethod\": \"PME\",\n",
      "      \"nonbond"
     ]
    },
    {
     "name": "stdout",
     "output_type": "stream",
     "text": [
      "edCutoff\": \"1.0 * nanometers\",\n"
     ]
    },
    {
     "name": "stdout",
     "output_type": "stream",
     "text": [
      "      \"ewaldErrorTolerance\": 0.000"
     ]
    },
    {
     "name": "stdout",
     "output_type": "stream",
     "text": [
      "01,\n",
      "      \"constraints\": \"HBonds\",\n",
      "      \""
     ]
    },
    {
     "name": "stdout",
     "output_type": "stream",
     "text": [
      "rigidWater\": true,\n",
      "      \"constraintTolerance\":"
     ]
    },
    {
     "name": "stdout",
     "output_type": "stream",
     "text": [
      " 0.00001,\n",
      "      \"solvate\":"
     ]
    },
    {
     "name": "stdout",
     "output_type": "stream",
     "text": [
      " true\n",
      "    },\n",
      "    \"integrator_params\": {\n",
      "     "
     ]
    },
    {
     "name": "stdout",
     "output_type": "stream",
     "text": [
      " \"integrator_type\": \"LangevinMiddle\",\n",
      "     "
     ]
    },
    {
     "name": "stdout",
     "output_type": "stream",
     "text": [
      " \"Temperature\": \"300 * kelvin\",\n",
      "      \"Fr"
     ]
    },
    {
     "name": "stdout",
     "output_type": "stream",
     "text": [
      "iction\": \"1"
     ]
    },
    {
     "name": "stdout",
     "output_type": "stream",
     "text": [
      ".0 / picoseconds\",\n",
      "      \"Timestep\": \""
     ]
    },
    {
     "name": "stdout",
     "output_type": "stream",
     "text": [
      "0.002 * picoseconds\",\n",
      "      \"Pressure\": \""
     ]
    },
    {
     "name": "stdout",
     "output_type": "stream",
     "text": [
      "1.0 * bar\"\n",
      "    },\n",
      "    \"simulation_params"
     ]
    },
    {
     "name": "stdout",
     "output_type": "stream",
     "text": [
      "\": {\n",
      "      \"Ensemble\": \"NPT\",\n",
      "     "
     ]
    },
    {
     "name": "stdout",
     "output_type": "stream",
     "text": [
      " \"Number of Steps\": 500000,\n",
      "      \"record"
     ]
    },
    {
     "name": "stdout",
     "output_type": "stream",
     "text": [
      "_interval_steps\": 100,\n",
      "      \"record_params\": [\""
     ]
    },
    {
     "name": "stdout",
     "output_type": "stream",
     "text": [
      "step\", \"potentialEnergy\", \"temperature\"]\n",
      "    }\n",
      " "
     ]
    },
    {
     "name": "stdout",
     "output_type": "stream",
     "text": [
      " }\n",
      "}\n",
      "```"
     ]
    },
    {
     "name": "stdout",
     "output_type": "stream",
     "text": [
      "Building system...\n"
     ]
    },
    {
     "name": "stdout",
     "output_type": "stream",
     "text": [
      "About to create system...\n",
      "Attempts at creating system: 0/3\n"
     ]
    },
    {
     "name": "stdout",
     "output_type": "stream",
     "text": [
      "System built successfully\n",
      "<openmm.openmm.System; proxy of <Swig Object of type 'OpenMM::System *' at 0x2abf9a5d3780> >\n",
      "Setting up integrator...\n",
      "Creating simulation...\n",
      "simulation set!\n",
      "Performing energy minimization...\n"
     ]
    },
    {
     "name": "stdout",
     "output_type": "stream",
     "text": [
      "Minimization complete!\n",
      "Initial Positions saved to initial_positions.pdb\n",
      "Equilibrating...\n"
     ]
    },
    {
     "name": "stdout",
     "output_type": "stream",
     "text": [
      "Simulating...\n"
     ]
    },
    {
     "name": "stdout",
     "output_type": "stream",
     "text": [
      "Done!\n",
      "Standalone simulation script written to /gpfs/fs2/scratch/qcampbe2/repos/md-agent/ckpt/ckpt_11/simulations/NPT_1VII_233940_20241017_233942.py\n",
      "['submit_experiments.sh', 'LOG_sim0_233942_1VII_233940_20241017_233945.txt', 'results_gpt4t', 'single_job.sh', 'paper_collection', 'results_gpt4o', '.ipynb_checkpoints', 'jobs_gpt3.5.sh', 'templates', 'log_submission', 'out', 'results_gpt3.5', 'results_70b', 'TRAJ_sim0_233942_1VII_233940_20241017_233945.dcd', 'results_gpt4p', 'results_405b', 'out.exp_5_gpt4t_v2', 'results_others', 'TOP_sim0_233942_1VII_233940_20241017_233945.pdb']\n"
     ]
    },
    {
     "name": "stdout",
     "output_type": "stream",
     "text": [
      "Thought:"
     ]
    },
    {
     "name": "stdout",
     "output_type": "stream",
     "text": [
      " Now that"
     ]
    },
    {
     "name": "stdout",
     "output_type": "stream",
     "text": [
      " the simulation"
     ]
    },
    {
     "name": "stdout",
     "output_type": "stream",
     "text": [
      " is done, I need"
     ]
    },
    {
     "name": "stdout",
     "output_type": "stream",
     "text": [
      " to analyze the secondary"
     ]
    },
    {
     "name": "stdout",
     "output_type": "stream",
     "text": [
      " structure at the beginning"
     ]
    },
    {
     "name": "stdout",
     "output_type": "stream",
     "text": [
      " and end of the"
     ]
    },
    {
     "name": "stdout",
     "output_type": "stream",
     "text": [
      " simulation.\n",
      "\n",
      "Action"
     ]
    },
    {
     "name": "stdout",
     "output_type": "stream",
     "text": [
      ":\n",
      "```\n",
      "{\n",
      "  \""
     ]
    },
    {
     "name": "stdout",
     "output_type": "stream",
     "text": [
      "action\": \"ComputeD"
     ]
    },
    {
     "name": "stdout",
     "output_type": "stream",
     "text": [
      "SSP\",\n",
      " "
     ]
    },
    {
     "name": "stdout",
     "output_type": "stream",
     "text": [
      " \"action_input\": {\n",
      "   "
     ]
    },
    {
     "name": "stdout",
     "output_type": "stream",
     "text": [
      " \"traj_file\": \""
     ]
    },
    {
     "name": "stdout",
     "output_type": "stream",
     "text": [
      "rec0_233945"
     ]
    },
    {
     "name": "stdout",
     "output_type": "stream",
     "text": [
      "\",\n",
      "    \""
     ]
    },
    {
     "name": "stdout",
     "output_type": "stream",
     "text": [
      "top_file\": \"top_sim"
     ]
    },
    {
     "name": "stdout",
     "output_type": "stream",
     "text": [
      "0_233942\",\n",
      "   "
     ]
    },
    {
     "name": "stdout",
     "output_type": "stream",
     "text": [
      " \"target_frames\": \"all"
     ]
    },
    {
     "name": "stdout",
     "output_type": "stream",
     "text": [
      "\"\n",
      " "
     ]
    },
    {
     "name": "stdout",
     "output_type": "stream",
     "text": [
      " }\n",
      "}\n",
      "```\n"
     ]
    },
    {
     "name": "stdout",
     "output_type": "stream",
     "text": [
      "Thought:"
     ]
    },
    {
     "name": "stdout",
     "output_type": "stream",
     "text": [
      " Now that I have the secondary"
     ]
    },
    {
     "name": "stdout",
     "output_type": "stream",
     "text": [
      " structure information for all"
     ]
    },
    {
     "name": "stdout",
     "output_type": "stream",
     "text": [
      " frames"
     ]
    },
    {
     "name": "stdout",
     "output_type": "stream",
     "text": [
      " in the simulation, I need to compare the secondary structure at the beginning and end of the simulation to see if it changed.\n",
      "\n",
      "Action"
     ]
    },
    {
     "name": "stdout",
     "output_type": "stream",
     "text": [
      ":\n",
      "```\n",
      "{\n",
      "  \"action\":"
     ]
    },
    {
     "name": "stdout",
     "output_type": "stream",
     "text": [
      " \"ComputeDSSP\",\n",
      "  \""
     ]
    },
    {
     "name": "stdout",
     "output_type": "stream",
     "text": [
      "action_input\": {\n",
      "    \"traj"
     ]
    },
    {
     "name": "stdout",
     "output_type": "stream",
     "text": [
      "_file\": \"rec"
     ]
    },
    {
     "name": "stdout",
     "output_type": "stream",
     "text": [
      "0_233945\",\n",
      "    \"top"
     ]
    },
    {
     "name": "stdout",
     "output_type": "stream",
     "text": [
      "_file\": \"top_sim0_233"
     ]
    },
    {
     "name": "stdout",
     "output_type": "stream",
     "text": [
      "942\",\n",
      "    \""
     ]
    },
    {
     "name": "stdout",
     "output_type": "stream",
     "text": [
      "target_frames\": \"first\"\n"
     ]
    },
    {
     "name": "stdout",
     "output_type": "stream",
     "text": [
      "  }\n",
      "}\n",
      "``"
     ]
    },
    {
     "name": "stdout",
     "output_type": "stream",
     "text": [
      "`\n"
     ]
    },
    {
     "name": "stdout",
     "output_type": "stream",
     "text": [
      "Thought:"
     ]
    },
    {
     "name": "stdout",
     "output_type": "stream",
     "text": [
      " Now that I have the secondary"
     ]
    },
    {
     "name": "stdout",
     "output_type": "stream",
     "text": [
      " structure information for the first"
     ]
    },
    {
     "name": "stdout",
     "output_type": "stream",
     "text": [
      " and last"
     ]
    },
    {
     "name": "stdout",
     "output_type": "stream",
     "text": [
      " frames of the simulation, I can compare"
     ]
    },
    {
     "name": "stdout",
     "output_type": "stream",
     "text": [
      " them to see if the secondary"
     ]
    },
    {
     "name": "stdout",
     "output_type": "stream",
     "text": [
      " structure changed.\n",
      "\n",
      "Action:\n",
      "```\n",
      "{\n"
     ]
    },
    {
     "name": "stdout",
     "output_type": "stream",
     "text": [
      "  \"action\": \"ComputeDSS"
     ]
    },
    {
     "name": "stdout",
     "output_type": "stream",
     "text": [
      "P\",\n",
      "  \"action_input\": {\n"
     ]
    },
    {
     "name": "stdout",
     "output_type": "stream",
     "text": [
      "    \"traj"
     ]
    },
    {
     "name": "stdout",
     "output_type": "stream",
     "text": [
      "_file\": \"rec0_233945"
     ]
    },
    {
     "name": "stdout",
     "output_type": "stream",
     "text": [
      "\",\n",
      "    \"top_file\": \"top"
     ]
    },
    {
     "name": "stdout",
     "output_type": "stream",
     "text": [
      "_sim0_233942\",\n",
      "    \""
     ]
    },
    {
     "name": "stdout",
     "output_type": "stream",
     "text": [
      "target_frames\": \"last\"\n",
      "  }\n"
     ]
    },
    {
     "name": "stdout",
     "output_type": "stream",
     "text": [
      "}\n",
      "```\n",
      "\n"
     ]
    },
    {
     "name": "stdout",
     "output_type": "stream",
     "text": [
      "Thought:"
     ]
    },
    {
     "name": "stdout",
     "output_type": "stream",
     "text": [
      " Now that I have the secondary"
     ]
    },
    {
     "name": "stdout",
     "output_type": "stream",
     "text": [
      " structure information for the first and last frames"
     ]
    },
    {
     "name": "stdout",
     "output_type": "stream",
     "text": [
      " of the simulation,"
     ]
    },
    {
     "name": "stdout",
     "output_type": "stream",
     "text": [
      " I can compare them to see if the"
     ]
    },
    {
     "name": "stdout",
     "output_type": "stream",
     "text": [
      " secondary structure changed.\n",
      "\n",
      "Action"
     ]
    },
    {
     "name": "stdout",
     "output_type": "stream",
     "text": [
      ":\n",
      "```\n",
      "{\n",
      "  \"action\":"
     ]
    },
    {
     "name": "stdout",
     "output_type": "stream",
     "text": [
      " \"Final Answer\",\n",
      "  \"action"
     ]
    },
    {
     "name": "stdout",
     "output_type": "stream",
     "text": [
      "_input\": \"The secondary"
     ]
    },
    {
     "name": "stdout",
     "output_type": "stream",
     "text": [
      " structure of the protein"
     ]
    },
    {
     "name": "stdout",
     "output_type": "stream",
     "text": [
      " 1VII changed from"
     ]
    },
    {
     "name": "stdout",
     "output_type": "stream",
     "text": [
      " the beginning to the end of the simulation"
     ]
    },
    {
     "name": "stdout",
     "output_type": "stream",
     "text": [
      ". At the"
     ]
    },
    {
     "name": "stdout",
     "output_type": "stream",
     "text": [
      " beginning of the simulation, there were"
     ]
    },
    {
     "name": "stdout",
     "output_type": "stream",
     "text": [
      " 24 residues in helix,"
     ]
    },
    {
     "name": "stdout",
     "output_type": "stream",
     "text": [
      " 0 residues in strand, 12"
     ]
    },
    {
     "name": "stdout",
     "output_type": "stream",
     "text": [
      " residues in coil, and 2666"
     ]
    },
    {
     "name": "stdout",
     "output_type": "stream",
     "text": [
      " residues not assigned or not"
     ]
    },
    {
     "name": "stdout",
     "output_type": "stream",
     "text": [
      " a protein residue. At the end of"
     ]
    },
    {
     "name": "stdout",
     "output_type": "stream",
     "text": [
      " the simulation, there"
     ]
    },
    {
     "name": "stdout",
     "output_type": "stream",
     "text": [
      " were 19 residues in helix,"
     ]
    },
    {
     "name": "stdout",
     "output_type": "stream",
     "text": [
      " 0 residues in strand, 17"
     ]
    },
    {
     "name": "stdout",
     "output_type": "stream",
     "text": [
      " residues in coil, and 2666"
     ]
    },
    {
     "name": "stdout",
     "output_type": "stream",
     "text": [
      " residues not assigned or not a protein residue"
     ]
    },
    {
     "name": "stdout",
     "output_type": "stream",
     "text": [
      ".\"\n",
      "}\n",
      "```"
     ]
    },
    {
     "data": {
      "text/plain": [
       "({'input': '\\n    You are an expert molecular dynamics scientist, and\\n    your task is to respond to the question or\\n    solve the problem to the best of your ability using\\n    the provided tools.\\n\\n    You can only respond with a single complete\\n    \\'Thought, Action, Action Input\\' format\\n    OR a single \\'Final Answer\\' format.\\n\\n    Complete format:\\n    Thought: (reflect on your progress and decide what to do next)\\n    Action:\\n    ```\\n    {\\n        \"action\": (the action name, it should be the name of a tool),\\n        \"action_input\": (the input string for the action)\\n    }\\n    \\'\\'\\'\\n\\n    OR\\n\\n    Final Answer: (the final response to the original input\\n    question, once all steps are complete)\\n\\n    You are required to use the tools provided,\\n    using the most specific tool\\n    available for each action.\\n    Your final answer should contain all information\\n    necessary to answer the question and its subquestions.\\n    Before you finish, reflect on your progress and make\\n    sure you have addressed the question in its entirety.\\n\\n    If you are asked to continue\\n    or reference previous runs,\\n    the context will be provided to you.\\n    If context is provided, you should assume\\n    you are continuing a chat.\\n\\n    Here is the input:\\n    Previous Context: None\\n    Question: Simulate 1VII for 1 ns at a temperature of 300 K. Then, tell me if the secondary structure changed from the beginning of the simulation to the end of the simulation. ',\n",
       "  'output': 'The secondary structure of the protein 1VII changed from the beginning to the end of the simulation. At the beginning of the simulation, there were 24 residues in helix, 0 residues in strand, 12 residues in coil, and 2666 residues not assigned or not a protein residue. At the end of the simulation, there were 19 residues in helix, 0 residues in strand, 17 residues in coil, and 2666 residues not assigned or not a protein residue.'},\n",
       " 'SLNLTTOX')"
      ]
     },
     "execution_count": 5,
     "metadata": {},
     "output_type": "execute_result"
    }
   ],
   "source": [
    "agent.run(prompt5)"
   ]
  },
  {
   "cell_type": "code",
   "execution_count": 6,
   "id": "6384cd5d",
   "metadata": {
    "execution": {
     "iopub.execute_input": "2024-10-18T11:05:04.689762Z",
     "iopub.status.busy": "2024-10-18T11:05:04.689431Z",
     "iopub.status.idle": "2024-10-18T11:05:04.696353Z",
     "shell.execute_reply": "2024-10-18T11:05:04.695625Z"
    },
    "papermill": {
     "duration": 0.025467,
     "end_time": "2024-10-18T11:05:04.698292",
     "exception": false,
     "start_time": "2024-10-18T11:05:04.672825",
     "status": "completed"
    },
    "tags": []
   },
   "outputs": [
    {
     "name": "stdout",
     "output_type": "stream",
     "text": [
      "date and time: 2024-10-18\n",
      "time: 07:05:04\n"
     ]
    }
   ],
   "source": [
    "now = datetime.datetime.now()\n",
    "date = now.strftime(\"%Y-%m-%d\")\n",
    "print(\"date and time:\",date)\n",
    "time = now.strftime(\"%H:%M:%S\")\n",
    "print(\"time:\",time)"
   ]
  },
  {
   "cell_type": "code",
   "execution_count": 7,
   "id": "1b1f443f",
   "metadata": {
    "execution": {
     "iopub.execute_input": "2024-10-18T11:05:04.730563Z",
     "iopub.status.busy": "2024-10-18T11:05:04.730232Z",
     "iopub.status.idle": "2024-10-18T11:05:04.862541Z",
     "shell.execute_reply": "2024-10-18T11:05:04.861829Z"
    },
    "papermill": {
     "duration": 0.150949,
     "end_time": "2024-10-18T11:05:04.864500",
     "exception": false,
     "start_time": "2024-10-18T11:05:04.713551",
     "status": "completed"
    },
    "tags": []
   },
   "outputs": [
    {
     "name": "stdout",
     "output_type": "stream",
     "text": [
      "ckpt_dir: ckpt_11\n",
      "Files found in registry: 1VII_233940: PDB file downloaded from RSCB\n",
      " PDBFile ID: 1VII_233940\n",
      " top_sim0_233942: Initial positions for simulation sim0_233942\n",
      " sim0_233942: Basic Simulation of Protein 1VII_233940\n",
      " rec0_233945: Simulation trajectory for protein 1VII_233940 and simulation sim0_233942\n",
      " rec1_233945: Simulation state log for protein 1VII_233940 and simulation sim0_233942\n",
      " rec2_233945: Simulation pdb frames for protein 1VII_233940 and simulation sim0_233942\n",
      " rec0_070448: dssp values for trajectory with id: rec0_233945\n",
      " rec0_070500: dssp values for trajectory with id: rec0_233945\n",
      " rec0_070502: dssp values for trajectory with id: rec0_233945\n"
     ]
    }
   ],
   "source": [
    "registry = agent.path_registry\n",
    "print('ckpt_dir:',os.path.basename(agent.path_registry.ckpt_dir))\n",
    "paths_and_descriptions = registry.list_path_names_and_descriptions()\n",
    "print(\"\\n\".join(paths_and_descriptions.split(\",\")))"
   ]
  },
  {
   "cell_type": "code",
   "execution_count": 8,
   "id": "d0676ca6",
   "metadata": {
    "execution": {
     "iopub.execute_input": "2024-10-18T11:05:04.896890Z",
     "iopub.status.busy": "2024-10-18T11:05:04.896561Z",
     "iopub.status.idle": "2024-10-18T11:05:04.918207Z",
     "shell.execute_reply": "2024-10-18T11:05:04.917360Z"
    },
    "papermill": {
     "duration": 0.040299,
     "end_time": "2024-10-18T11:05:04.920177",
     "exception": false,
     "start_time": "2024-10-18T11:05:04.879878",
     "status": "completed"
    },
    "tags": []
   },
   "outputs": [
    {
     "name": "stdout",
     "output_type": "stream",
     "text": [
      "It's asserted that file paths for rec0_233945 and top_sim0_233942 exist\n"
     ]
    }
   ],
   "source": [
    "import re\n",
    "import os\n",
    "\n",
    "match = re.search(r\"rec0_\\d+\", paths_and_descriptions)\n",
    "traj_id = match.group(0)\n",
    "traj_path = registry.get_mapped_path(traj_id)\n",
    "match = re.search(r\"top_sim0_\\d+\", paths_and_descriptions)\n",
    "top_id = match.group(0)\n",
    "top_path = registry.get_mapped_path(top_id)\n",
    "assert os.path.exists(traj_path), \"Trajectory file doesn't exist\"\n",
    "assert os.path.exists(top_path), \"Topology file doesn't exist\"\n",
    "assert traj_path != top_path\n",
    "assert traj_path.endswith(\".dcd\")\n",
    "assert top_path.endswith(\".pdb\")\n",
    "print(f\"It's asserted that file paths for {traj_id} and {top_id} exist\")"
   ]
  },
  {
   "cell_type": "code",
   "execution_count": 9,
   "id": "b9cdb858",
   "metadata": {
    "execution": {
     "iopub.execute_input": "2024-10-18T11:05:04.952891Z",
     "iopub.status.busy": "2024-10-18T11:05:04.952553Z",
     "iopub.status.idle": "2024-10-18T11:05:06.039074Z",
     "shell.execute_reply": "2024-10-18T11:05:06.038364Z"
    },
    "papermill": {
     "duration": 1.105553,
     "end_time": "2024-10-18T11:05:06.041174",
     "exception": false,
     "start_time": "2024-10-18T11:05:04.935621",
     "status": "completed"
    },
    "tags": []
   },
   "outputs": [
    {
     "name": "stdout",
     "output_type": "stream",
     "text": [
      "Number of initial sheets:  0\n",
      "Number of initial helices:  24\n",
      "Number of initial coils:  12\n",
      "Number of final sheets:  0\n",
      "Number of final helices:  19\n",
      "Number of final coils:  17\n"
     ]
    }
   ],
   "source": [
    "import mdtraj as md\n",
    "\n",
    "traj = md.load(traj_path, top=top_path)\n",
    "\n",
    "# Compute the secondary structure of the trajectory\n",
    "dssp_final = md.compute_dssp(traj[-1], simplified=True)\n",
    "dssp_initial = md.compute_dssp(traj[0], simplified=True)\n",
    "\n",
    "print(\"Number of initial sheets: \",len([i for i in dssp_initial[0] if i == 'E']))\n",
    "print(\"Number of initial helices: \",len([i for i in dssp_initial[0] if i == 'H']))\n",
    "print(\"Number of initial coils: \",len([i for i in dssp_initial[0] if i == 'C']))\n",
    "\n",
    "print(\"Number of final sheets: \",len([i for i in dssp_final[0] if i == 'E']))\n",
    "print(\"Number of final helices: \",len([i for i in dssp_final[0] if i == 'H']))\n",
    "print(\"Number of final coils: \",len([i for i in dssp_final[0] if i == 'C']))"
   ]
  }
 ],
 "metadata": {
  "kernelspec": {
   "display_name": "mdcrow",
   "language": "python",
   "name": "mdcrow"
  },
  "language_info": {
   "codemirror_mode": {
    "name": "ipython",
    "version": 3
   },
   "file_extension": ".py",
   "mimetype": "text/x-python",
   "name": "python",
   "nbconvert_exporter": "python",
   "pygments_lexer": "ipython3",
   "version": "3.12.4"
  },
  "papermill": {
   "default_parameters": {},
   "duration": 26751.621925,
   "end_time": "2024-10-18T11:05:08.500442",
   "environment_variables": {},
   "exception": null,
   "input_path": "templates/exp_5.ipynb",
   "output_path": "results_70b/exp_5.ipynb",
   "parameters": {
    "llm_var": "accounts/fireworks/models/llama-v3p1-70b-instruct"
   },
   "start_time": "2024-10-18T03:39:16.878517",
   "version": "2.6.0"
  }
 },
 "nbformat": 4,
 "nbformat_minor": 5
}
