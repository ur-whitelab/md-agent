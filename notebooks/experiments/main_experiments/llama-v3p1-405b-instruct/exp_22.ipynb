{
 "cells": [
  {
   "cell_type": "code",
   "execution_count": 1,
   "metadata": {},
   "outputs": [],
   "source": [
    "import datetime\n",
    "import os\n",
    "from mdcrow import MDCrow"
   ]
  },
  {
   "cell_type": "code",
   "execution_count": 2,
   "metadata": {},
   "outputs": [
    {
     "name": "stdout",
     "output_type": "stream",
     "text": [
      "date and time: 2024-09-07\n",
      "time: 17:48:31\n",
      "LLM:  accounts/fireworks/models/llama-v3p1-405b-instruct \n",
      "Temperature:  0.1\n"
     ]
    }
   ],
   "source": [
    "prompt22 = \"Perform a brief simulation of protein 1PQ2.\"\n",
    "llm_var = \"accounts/fireworks/models/llama-v3p1-405b-instruct\"\n",
    "tools = \"all\"\n",
    "agent = MDCrow(agent_type=\"Structured\", model=llm_var, top_k_tools=tools)\n",
    "now = datetime.datetime.now()\n",
    "date = now.strftime(\"%Y-%m-%d\")\n",
    "print(\"date and time:\",date)\n",
    "time = now.strftime(\"%H:%M:%S\")\n",
    "print(\"time:\",time)\n",
    "print(\"LLM: \",agent.llm.model_name,\"\\nTemperature: \",agent.llm.temperature)"
   ]
  },
  {
   "cell_type": "code",
   "execution_count": 3,
   "metadata": {},
   "outputs": [
    {
     "name": "stdout",
     "output_type": "stream",
     "text": [
      "Thought: To perform a brief simulation of protein 1PQ2, I need to set up and run a short simulation using the SetUpandRunFunction tool.\n",
      "\n",
      "Action:\n",
      "```\n",
      "{\n",
      "  \"action\": \"SetUpandRunFunction\",\n",
      "  \"action_input\": {\n",
      "    \"pdb_id\": \"1PQ2\",\n",
      "    \"forcefield_files\": [\"amber99sbildn.xml\"],\n",
      "    \"save\": true,\n",
      "    \"system_params\": {\n",
      "      \"nonbondedMethod\": \"NoCutoff\",\n",
      "      \"constraints\": \"None\",\n",
      "      \"rigidWater\": false\n",
      "    },\n",
      "    \"integrator_params\": {\n",
      "      \"integrator_type\": \"LangevinMiddle\",\n",
      "      \"Temperature\": \"300 * kelvin\",\n",
      "      \"Friction\": \"1.0 / picoseconds\",\n",
      "      \"Timestep\": \"0.002 * picoseconds\"\n",
      "    },\n",
      "    \"simulation_params\": {\n",
      "      \"Ensemble\": \"NVT\",\n",
      "      \"Number of Steps\": 5000,\n",
      "      \"record_interval_steps\": 100,\n",
      "      \"record_params\": [\"step\", \"potentialEnergy\", \"temperature\"]\n",
      "    }\n",
      "  }\n",
      "}\n",
      "```Thought: I need to download the PDB file for protein 1PQ2 and then use the file ID instead of the file name in the SetUpandRunFunction tool.\n",
      "\n",
      "Action:\n",
      "```\n",
      "{\n",
      "  \"action\": \"PDBFileDownloader\",\n",
      "  \"action_input\": {\n",
      "    \"query\": \"1PQ2\"\n",
      "  }\n",
      "}\n",
      "```PDB file found with this ID: 1PQ2\n",
      "Thought: Now that I have the PDB file ID, I can use it to set up and run a short simulation using the SetUpandRunFunction tool.\n",
      "\n",
      "Action:\n",
      "```\n",
      "{\n",
      "  \"action\": \"SetUpandRunFunction\",\n",
      "  \"action_input\": {\n",
      "    \"pdb_id\": \"1PQ2_174836\",\n",
      "    \"forcefield_files\": [\"amber99sbildn.xml\"],\n",
      "    \"save\": true,\n",
      "    \"system_params\": {\n",
      "      \"nonbondedMethod\": \"NoCutoff\",\n",
      "      \"constraints\": \"None\",\n",
      "      \"rigidWater\": false\n",
      "    },\n",
      "    \"integrator_params\": {\n",
      "      \"integrator_type\": \"LangevinMiddle\",\n",
      "      \"Temperature\": \"300 * kelvin\",\n",
      "      \"Friction\": \"1.0 / picoseconds\",\n",
      "      \"Timestep\": \"0.002 * picoseconds\"\n",
      "    },\n",
      "    \"simulation_params\": {\n",
      "      \"Ensemble\": \"NVT\",\n",
      "      \"Number of Steps\": 5000,\n",
      "      \"record_interval_steps\": 100,\n",
      "      \"record_params\": [\"step\", \"potentialEnergy\", \"temperature\"]\n",
      "    }\n",
      "  }\n",
      "}\n",
      "```Building system...\n",
      "About to create system...\n",
      "Attempts at creating system: 0/3\n",
      "adding system without solvent\n",
      "Trying to add component to Forcefield...\n",
      "Residue code: LYS\n",
      "Residue code not in solvent list. Adding forcefield                         not supported.\n",
      "Thought: The simulation failed due to a missing template for residue 1 (LYS) in the PDB file 1PQ2_174836. I need to clean the PDB file by adding missing atoms and hydrogens, and replacing nonstandard residues with standard ones.\n",
      "\n",
      "Action:\n",
      "```\n",
      "{\n",
      "  \"action\": \"CleaningToolFunction\",\n",
      "  \"action_input\": {\n",
      "    \"pdb_id\": \"1PQ2_174836\",\n",
      "    \"replace_nonstandard_residues\": true,\n",
      "    \"add_missing_atoms\": true,\n",
      "    \"remove_heterogens\": true,\n",
      "    \"remove_water\": true,\n",
      "    \"add_hydrogens\": true,\n",
      "    \"add_hydrogens_ph\": 7.0\n",
      "  }\n",
      "}\n",
      "```file path: /gpfs/fs2/scratch/qcampbe2/repos/md-agent/ckpt/ckpt_105/pdb/1PQ2_raw_20240907_174836.pdb\n",
      "Thought: Now that the PDB file has been cleaned, I can use the cleaned file ID to set up and run a short simulation using the SetUpandRunFunction tool.\n",
      "\n",
      "Action:\n",
      "```\n",
      "{\n",
      "  \"action\": \"SetUpandRunFunction\",\n",
      "  \"action_input\": {\n",
      "    \"pdb_id\": \"1PQ2_174855\",\n",
      "    \"forcefield_files\": [\"amber99sbildn.xml\"],\n",
      "    \"save\": true,\n",
      "    \"system_params\": {\n",
      "      \"nonbondedMethod\": \"NoCutoff\",\n",
      "      \"constraints\": \"None\",\n",
      "      \"rigidWater\": false\n",
      "    },\n",
      "    \"integrator_params\": {\n",
      "      \"integrator_type\": \"LangevinMiddle\",\n",
      "      \"Temperature\": \"300 * kelvin\",\n",
      "      \"Friction\": \"1.0 / picoseconds\",\n",
      "      \"Timestep\": \"0.002 * picoseconds\"\n",
      "    },\n",
      "    \"simulation_params\": {\n",
      "      \"Ensemble\": \"NVT\",\n",
      "      \"Number of Steps\": 5000,\n",
      "      \"record_interval_steps\": 100,\n",
      "      \"record_params\": [\"step\", \"potentialEnergy\", \"temperature\"]\n",
      "    }\n",
      "  }\n",
      "}\n",
      "```Building system...\n",
      "About to create system...\n",
      "Attempts at creating system: 0/3\n",
      "adding system without solvent\n",
      "System built successfully\n",
      "<openmm.openmm.System; proxy of <Swig Object of type 'OpenMM::System *' at 0x7f60f6a3e700> >\n",
      "Setting up integrator...\n",
      "Creating simulation...\n",
      "simulation set!\n",
      "Performing energy minimization...\n",
      "Minimization complete!\n",
      "Initial Positions saved to initial_positions.pdb\n",
      "Equilibrating...\n",
      "Simulating...\n",
      "Done!\n",
      "Standalone simulation script written to /gpfs/fs2/scratch/qcampbe2/repos/md-agent/ckpt/ckpt_105/simulations/NVT_1PQ2_174855_20240907_174859.py\n",
      "['exp_10.ipynb', 'exp_13.ipynb', 'exp_22.ipynb', 'exp_8.ipynb', 'TOP_sim0_174804_1A3N_174757_20240907_174809.pdb', 'TOP_sim0_174842_1_174834_20240907_174845.pdb', 'exp_3.ipynb', 'exp_17.ipynb', 'exp_1.ipynb', '.ipynb_checkpoints', 'LOG_sim0_174842_1_174834_20240907_174845.txt', 'exp_4.ipynb', 'TRAJ_sim0_174804_1A3N_174757_20240907_174809.dcd', 'packmol.inp', 'exp_24.ipynb', 'TOP_sim0_174859_1PQ2_174855_20240907_174900.pdb', 'exp_12.ipynb', 'exp_19.ipynb', 'exp_9.ipynb', 'TOP_sim0_103300_1A3N_103256_20240905_103308.pdb', 'exp_5.ipynb', 'exp_7.ipynb', 'exp_2.ipynb', 'LOG_sim0_174859_1PQ2_174855_20240907_174900.txt', 'exp_18.ipynb', 'exp_14.ipynb', 'TRAJ_sim0_174859_1PQ2_174855_20240907_174900.dcd', 'exp_15.ipynb', 'exp_6.ipynb', 'LOG_sim0_103300_1A3N_103256_20240905_103308.txt', 'LOG_sim0_174804_1A3N_174757_20240907_174809.txt', 'exp_20.ipynb', 'exp_23.ipynb', 'exp_16.ipynb', 'exp_11.ipynb', 'exp_21.ipynb', 'TRAJ_sim0_174842_1_174834_20240907_174845.dcd', 'TRAJ_sim0_103300_1A3N_103256_20240905_103308.dcd']\n",
      "Thought: The simulation has been successfully completed, and the summary of the simulation has been provided. The next step is to create figures for the physical parameters versus the timestep of the simulation.\n",
      "\n",
      "Action:\n",
      "```\n",
      "{\n",
      "  \"action\": \"PostSimulationFigures\",\n",
      "  \"action_input\": {\n",
      "    \"file_id\": \"rec1_174900\"\n",
      "  }\n",
      "}\n",
      "```Thought: The PostSimulationFigures tool failed to create figures for the physical parameters versus the timestep of the simulation due to non-numeric data. I need to check the simulation log file to identify the issue.\n",
      "\n",
      "Action:\n",
      "```\n",
      "{\n",
      "  \"action\": \"PostSimulationFigures\",\n",
      "  \"action_input\": {\n",
      "    \"file_id\": \"rec0_174900\"\n",
      "  }\n",
      "}\n",
      "```\n",
      "(I changed the file_id to \"rec0_174900\" which is the Simulation trajectory for protein 1PQ2_174855 and simulation sim0_174859)Thought: The PostSimulationFigures tool failed again, this time due to an encoding issue. I need to try a different approach to create figures for the physical parameters versus the timestep of the simulation.\n",
      "\n",
      "Action:\n",
      "```\n",
      "{\n",
      "  \"action\": \"PostSimulationFigures\",\n",
      "  \"action_input\": {\n",
      "    \"file_id\": \"rec2_174900\"\n",
      "  }\n",
      "}\n",
      "```\n",
      "(I changed the file_id to \"rec2_174900\" which is the Simulation pdb frames for protein 1PQ2_174855 and simulation sim0_174859)Thought: The PostSimulationFigures tool failed again, and I've tried all the available file IDs. I need to try a different approach to create figures for the physical parameters versus the timestep of the simulation.\n",
      "\n",
      "Action:\n",
      "```\n",
      "{\n",
      "  \"action\": \"RadiusofGyrationPlot\",\n",
      "  \"action_input\": {\n",
      "    \"traj_file\": \"rec0_174900\",\n",
      "    \"top_file\": \"top_sim0_174859\"\n",
      "  }\n",
      "}\n",
      "```\n",
      "(I changed the tool to RadiusofGyrationPlot and used the Simulation trajectory file ID and the initial topology file ID)plot_name:  FIG_rgy_rec0_174900_20240907_175135.png\n",
      "Thought: The RadiusofGyrationPlot tool has successfully created a plot of the radius of gyration versus the timestep of the simulation. This plot provides valuable information about the compactness of the protein structure over time. Since the PostSimulationFigures tool failed to create figures for the physical parameters, I will use the RadiusofGyrationPlot as an alternative to provide some insight into the simulation.\n",
      "\n",
      "Action:\n",
      "```\n",
      "{\n",
      "  \"action\": \"Final Answer\",\n",
      "  \"action_input\": \"The simulation of protein 1PQ2 has been successfully completed. The radius of gyration plot has been created and saved as FIG_rgy_rec0_174900_20240907_175135.png with plot ID fig0_175135. This plot provides information about the compactness of the protein structure over time.\"\n",
      "}\n",
      "```"
     ]
    },
    {
     "data": {
      "text/plain": [
       "({'input': '\\n    You are an expert molecular dynamics scientist, and\\n    your task is to respond to the question or\\n    solve the problem to the best of your ability using\\n    the provided tools.\\n\\n    You can only respond with a single complete\\n    \\'Thought, Action, Action Input\\' format\\n    OR a single \\'Final Answer\\' format.\\n\\n    Complete format:\\n    Thought: (reflect on your progress and decide what to do next)\\n    Action:\\n    ```\\n    {\\n        \"action\": (the action name, it should be the name of a tool),\\n        \"action_input\": (the input string for the action)\\n    }\\n    \\'\\'\\'\\n\\n    OR\\n\\n    Final Answer: (the final response to the original input\\n    question, once all steps are complete)\\n\\n    You are required to use the tools provided,\\n    using the most specific tool\\n    available for each action.\\n    Your final answer should contain all information\\n    necessary to answer the question and its subquestions.\\n    Before you finish, reflect on your progress and make\\n    sure you have addressed the question in its entirety.\\n\\n    If you are asked to continue\\n    or reference previous runs,\\n    the context will be provided to you.\\n    If context is provided, you should assume\\n    you are continuing a chat.\\n\\n    Here is the input:\\n    Previous Context: None\\n    Question: Perform a brief simulation of protein 1PQ2. ',\n",
       "  'output': 'The simulation of protein 1PQ2 has been successfully completed. The radius of gyration plot has been created and saved as FIG_rgy_rec0_174900_20240907_175135.png with plot ID fig0_175135. This plot provides information about the compactness of the protein structure over time.'},\n",
       " 'Y6H4RCCL')"
      ]
     },
     "execution_count": 3,
     "metadata": {},
     "output_type": "execute_result"
    },
    {
     "data": {
      "text/plain": [
       "<Figure size 640x480 with 0 Axes>"
      ]
     },
     "metadata": {},
     "output_type": "display_data"
    }
   ],
   "source": [
    "agent.run(prompt22)"
   ]
  },
  {
   "cell_type": "code",
   "execution_count": 4,
   "metadata": {},
   "outputs": [
    {
     "name": "stdout",
     "output_type": "stream",
     "text": [
      "date and time: 2024-09-07\n",
      "time: 17:51:39\n",
      "ckpt_dir: ckpt_105\n",
      "Files found in registry: 1PQ2_174836: PDB file downloaded from RSCB\n",
      " PDBFile ID: 1PQ2_174836\n",
      " 1PQ2_174855: Cleaned File:  Removed Heterogens\n",
      " and Water Removed.  Replaced Nonstandard Residues. Added Hydrogens at pH 7.0. Missing Atoms Added and replaces nonstandard residues. \n",
      " top_sim0_174859: Initial positions for simulation sim0_174859\n",
      " sim0_174859: Basic Simulation of Protein 1PQ2_174855\n",
      " rec0_174900: Simulation trajectory for protein 1PQ2_174855 and simulation sim0_174859\n",
      " rec1_174900: Simulation state log for protein 1PQ2_174855 and simulation sim0_174859\n",
      " rec2_174900: Simulation pdb frames for protein 1PQ2_174855 and simulation sim0_174859\n",
      " rgy_rec0_174900: Radii of gyration per frame for rec0_174900\n",
      " fig0_175135: Plot of radii of gyration over time for rec0_174900\n"
     ]
    }
   ],
   "source": [
    "now = datetime.datetime.now()\n",
    "date = now.strftime(\"%Y-%m-%d\")\n",
    "print(\"date and time:\",date)\n",
    "time = now.strftime(\"%H:%M:%S\")\n",
    "print(\"time:\",time)\n",
    "\n",
    "registry = agent.path_registry\n",
    "print('ckpt_dir:',os.path.basename(registry.ckpt_dir))\n",
    "paths_and_descriptions = registry.list_path_names_and_descriptions()\n",
    "print(\"\\n\".join(paths_and_descriptions.split(\",\")))"
   ]
  },
  {
   "cell_type": "code",
   "execution_count": 6,
   "metadata": {},
   "outputs": [
    {
     "name": "stdout",
     "output_type": "stream",
     "text": [
      "It is asserted that file paths for rec0_174900 and top_sim0_174859 exist\n"
     ]
    }
   ],
   "source": [
    "import re\n",
    "import os\n",
    "\n",
    "match = re.search(r\"rec0_\\d+\", paths_and_descriptions)\n",
    "traj_id = match.group(0)\n",
    "traj_path = registry.get_mapped_path(traj_id)\n",
    "\n",
    "match = re.search(r\"top_sim0_\\d+\", paths_and_descriptions)\n",
    "top_id = match.group(0)\n",
    "top_path = registry.get_mapped_path(top_id)\n",
    "\n",
    "assert os.path.exists(traj_path), \"Trajectory file not found\"\n",
    "assert os.path.exists(top_path), \"Topology file not found\"\n",
    "print(f'It is asserted that file paths for {traj_id} and {top_id} exist')"
   ]
  },
  {
   "cell_type": "code",
   "execution_count": 9,
   "metadata": {},
   "outputs": [
    {
     "name": "stdout",
     "output_type": "stream",
     "text": [
      "Simulation with 15234 atoms for 60 frames. Total time: 0.11800000000000001 ps\n"
     ]
    }
   ],
   "source": [
    "import mdtraj as md\n",
    "traj = md.load(traj_path, top=top_path)\n",
    "print(f\"Simulation with {traj.n_atoms} atoms for {traj.n_frames} frames. Total time: {traj.time[-1]*0.002} ps\")"
   ]
  },
  {
   "cell_type": "markdown",
   "metadata": {},
   "source": [
    "# Experiment Result: ✅❌\n",
    "\n",
    "1. Completed without Exception or TimeOut Errors ✅\n",
    "2. Attempted all necessary steps ✅\n",
    "3. Completed without Hallucination ✅\n",
    "4. Logic make sense ✅\n",
    "5. Correct Answer ✅"
   ]
  }
 ],
 "metadata": {
  "kernelspec": {
   "display_name": "mdcrow",
   "language": "python",
   "name": "mdcrow"
  },
  "language_info": {
   "codemirror_mode": {
    "name": "ipython",
    "version": 3
   },
   "file_extension": ".py",
   "mimetype": "text/x-python",
   "name": "python",
   "nbconvert_exporter": "python",
   "pygments_lexer": "ipython3",
   "version": "3.12.4"
  }
 },
 "nbformat": 4,
 "nbformat_minor": 4
}
