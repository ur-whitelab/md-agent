{
 "cells": [
  {
   "cell_type": "code",
   "execution_count": 1,
   "id": "8ff706fd-c267-4d05-af58-9a3848cce8ff",
   "metadata": {
    "execution": {
     "iopub.execute_input": "2024-10-03T01:37:39.800548Z",
     "iopub.status.busy": "2024-10-03T01:37:39.800324Z",
     "iopub.status.idle": "2024-10-03T01:38:21.730606Z",
     "shell.execute_reply": "2024-10-03T01:38:21.730146Z"
    },
    "papermill": {
     "duration": 41.937324,
     "end_time": "2024-10-03T01:38:21.732308",
     "exception": false,
     "start_time": "2024-10-03T01:37:39.794984",
     "status": "completed"
    },
    "tags": []
   },
   "outputs": [],
   "source": [
    "from mdcrow import MDCrow\n",
    "import os"
   ]
  },
  {
   "cell_type": "code",
   "execution_count": 2,
   "id": "02c5c1ac-426e-44fa-90d2-8dd1a1eefe9c",
   "metadata": {
    "execution": {
     "iopub.execute_input": "2024-10-03T01:38:21.740790Z",
     "iopub.status.busy": "2024-10-03T01:38:21.740040Z",
     "iopub.status.idle": "2024-10-03T01:38:21.745856Z",
     "shell.execute_reply": "2024-10-03T01:38:21.745474Z"
    },
    "papermill": {
     "duration": 0.009358,
     "end_time": "2024-10-03T01:38:21.747039",
     "exception": false,
     "start_time": "2024-10-03T01:38:21.737681",
     "status": "completed"
    },
    "tags": []
   },
   "outputs": [
    {
     "name": "stdout",
     "output_type": "stream",
     "text": [
      "date: 2024-10-02\n",
      "time: 21:38:21\n"
     ]
    }
   ],
   "source": [
    "#todays date and time\n",
    "import datetime\n",
    "\n",
    "start = datetime.datetime.now()\n",
    "date = start.strftime(\"%Y-%m-%d\")\n",
    "print(\"date:\",date)\n",
    "time = start.strftime(\"%H:%M:%S\")\n",
    "print(\"time:\",time)"
   ]
  },
  {
   "cell_type": "code",
   "execution_count": 3,
   "id": "f62bfc17-854b-4152-bb82-7e9e0ec4b854",
   "metadata": {
    "execution": {
     "iopub.execute_input": "2024-10-03T01:38:21.750877Z",
     "iopub.status.busy": "2024-10-03T01:38:21.750692Z",
     "iopub.status.idle": "2024-10-03T01:38:22.283818Z",
     "shell.execute_reply": "2024-10-03T01:38:22.283405Z"
    },
    "papermill": {
     "duration": 0.536489,
     "end_time": "2024-10-03T01:38:22.285075",
     "exception": false,
     "start_time": "2024-10-03T01:38:21.748586",
     "status": "completed"
    },
    "tags": []
   },
   "outputs": [
    {
     "name": "stdout",
     "output_type": "stream",
     "text": [
      "LLM:  accounts/fireworks/models/llama-v3p1-405b-instruct \n",
      "Temperature:  0.1\n"
     ]
    }
   ],
   "source": [
    "model = \"accounts/fireworks/models/llama-v3p1-405b-instruct\"\n",
    "paper_dir = \"paper_collection\"\n",
    "\n",
    "agent = MDCrow(\n",
    "    agent_type='Structured', \n",
    "    model=model, \n",
    "    tools_model=model,\n",
    "    use_memory=False, \n",
    "    top_k_tools=\"all\",\n",
    "    paper_dir=paper_dir,\n",
    ")\n",
    "print(\"LLM: \", agent.llm.model_name,\"\\nTemperature: \", agent.llm.temperature)"
   ]
  },
  {
   "cell_type": "code",
   "execution_count": 4,
   "id": "ad2f6f66-e6b8-4244-b908-68fbebbf6e8b",
   "metadata": {
    "execution": {
     "iopub.execute_input": "2024-10-03T01:38:22.289563Z",
     "iopub.status.busy": "2024-10-03T01:38:22.289353Z",
     "iopub.status.idle": "2024-10-03T08:24:20.468877Z",
     "shell.execute_reply": "2024-10-03T08:24:20.468443Z"
    },
    "papermill": {
     "duration": 24358.183446,
     "end_time": "2024-10-03T08:24:20.470305",
     "exception": false,
     "start_time": "2024-10-03T01:38:22.286859",
     "status": "completed"
    },
    "scrolled": true,
    "tags": []
   },
   "outputs": [
    {
     "name": "stdout",
     "output_type": "stream",
     "text": [
      "Thought:"
     ]
    },
    {
     "name": "stdout",
     "output_type": "stream",
     "text": [
      " First, I need to find"
     ]
    },
    {
     "name": "stdout",
     "output_type": "stream",
     "text": [
      " the appropriate temperature"
     ]
    },
    {
     "name": "stdout",
     "output_type": "stream",
     "text": [
      " for simulating fibronectin"
     ]
    },
    {
     "name": "stdout",
     "output_type": "stream",
     "text": [
      ". I will search"
     ]
    },
    {
     "name": "stdout",
     "output_type": "stream",
     "text": [
      " the literature for the temperature"
     ]
    },
    {
     "name": "stdout",
     "output_type": "stream",
     "text": [
      " used in"
     ]
    },
    {
     "name": "stdout",
     "output_type": "stream",
     "text": [
      " previous simulations of fibronectin.\n",
      "\n"
     ]
    },
    {
     "name": "stdout",
     "output_type": "stream",
     "text": [
      "Action:\n",
      "```\n",
      "{\n",
      "  \""
     ]
    },
    {
     "name": "stdout",
     "output_type": "stream",
     "text": [
      "action\": \"LiteratureSearch\",\n",
      " "
     ]
    },
    {
     "name": "stdout",
     "output_type": "stream",
     "text": [
      " \"action_input\": \"temperature used in"
     ]
    },
    {
     "name": "stdout",
     "output_type": "stream",
     "text": [
      " fibronectin simulations\"\n",
      "}\n",
      "```"
     ]
    },
    {
     "name": "stdout",
     "output_type": "stream",
     "text": [
      "Paper Directory /gpfs/fs2/scratch/qcampbe2/repos/md-agent_gpt_params/notebooks/experiments/experiment_k1/llama-v3p1-405b-instruct/paper_collection\n"
     ]
    },
    {
     "name": "stderr",
     "output_type": "stream",
     "text": [
      "/scratch/qcampbe2/myenvs/mdcrow/lib/python3.12/site-packages/pydantic/main.py:364: UserWarning: Pydantic serializer warnings:\n",
      "  Expected `PromptTokensDetails` but got `dict` - serialized value may not be as expected\n",
      "  return self.__pydantic_serializer__.to_python(\n"
     ]
    },
    {
     "data": {
      "text/html": [
       "<pre style=\"white-space:pre;overflow-x:auto;line-height:normal;font-family:Menlo,'DejaVu Sans Mono',consolas,'Courier New',monospace\"><span style=\"color: #7fbfbf; text-decoration-color: #7fbfbf\">[21:38:27] </span>Starting paper search for <span style=\"color: #008000; text-decoration-color: #008000\">'fibronectin molecular dynamics temperature, 2010-2024  '</span>.                    \n",
       "</pre>\n"
      ],
      "text/plain": [
       "\u001b[2;36m[21:38:27]\u001b[0m\u001b[2;36m \u001b[0mStarting paper search for \u001b[32m'fibronectin molecular dynamics temperature, 2010-2024  '\u001b[0m.                    \n"
      ]
     },
     "metadata": {},
     "output_type": "display_data"
    },
    {
     "data": {
      "text/html": [
       "<pre style=\"white-space:pre;overflow-x:auto;line-height:normal;font-family:Menlo,'DejaVu Sans Mono',consolas,'Courier New',monospace\"><span style=\"color: #7fbfbf; text-decoration-color: #7fbfbf\">[21:38:29] </span>paper_search for query <span style=\"color: #008000; text-decoration-color: #008000\">'fibronectin molecular dynamics temperature, 2010-2024  '</span> returned <span style=\"color: #008080; text-decoration-color: #008080; font-weight: bold\">8</span> papers.     \n",
       "</pre>\n"
      ],
      "text/plain": [
       "\u001b[2;36m[21:38:29]\u001b[0m\u001b[2;36m \u001b[0mpaper_search for query \u001b[32m'fibronectin molecular dynamics temperature, 2010-2024  '\u001b[0m returned \u001b[1;36m8\u001b[0m papers.     \n"
      ]
     },
     "metadata": {},
     "output_type": "display_data"
    },
    {
     "data": {
      "text/html": [
       "<pre style=\"white-space:pre;overflow-x:auto;line-height:normal;font-family:Menlo,'DejaVu Sans Mono',consolas,'Courier New',monospace\"><span style=\"color: #7fbfbf; text-decoration-color: #7fbfbf\">           </span>Status: Paper <span style=\"color: #808000; text-decoration-color: #808000\">Count</span>=<span style=\"color: #008080; text-decoration-color: #008080; font-weight: bold\">8</span> | Relevant <span style=\"color: #808000; text-decoration-color: #808000\">Papers</span>=<span style=\"color: #008080; text-decoration-color: #008080; font-weight: bold\">0</span> | Current <span style=\"color: #808000; text-decoration-color: #808000\">Evidence</span>=<span style=\"color: #008080; text-decoration-color: #008080; font-weight: bold\">0</span> | Current <span style=\"color: #808000; text-decoration-color: #808000\">Cost</span>=$<span style=\"color: #008080; text-decoration-color: #008080; font-weight: bold\">0.0000</span>                   \n",
       "</pre>\n"
      ],
      "text/plain": [
       "\u001b[2;36m          \u001b[0m\u001b[2;36m \u001b[0mStatus: Paper \u001b[33mCount\u001b[0m=\u001b[1;36m8\u001b[0m | Relevant \u001b[33mPapers\u001b[0m=\u001b[1;36m0\u001b[0m | Current \u001b[33mEvidence\u001b[0m=\u001b[1;36m0\u001b[0m | Current \u001b[33mCost\u001b[0m=$\u001b[1;36m0.0000\u001b[0m                   \n"
      ]
     },
     "metadata": {},
     "output_type": "display_data"
    },
    {
     "data": {
      "text/html": [
       "<pre style=\"white-space:pre;overflow-x:auto;line-height:normal;font-family:Menlo,'DejaVu Sans Mono',consolas,'Courier New',monospace\"><span style=\"color: #7fbfbf; text-decoration-color: #7fbfbf\">           </span>Starting paper search for <span style=\"color: #008000; text-decoration-color: #008000\">'temperature variations in fibronectin simulations, 2005-2015  '</span>.             \n",
       "</pre>\n"
      ],
      "text/plain": [
       "\u001b[2;36m          \u001b[0m\u001b[2;36m \u001b[0mStarting paper search for \u001b[32m'temperature variations in fibronectin simulations, 2005-2015  '\u001b[0m.             \n"
      ]
     },
     "metadata": {},
     "output_type": "display_data"
    },
    {
     "data": {
      "text/html": [
       "<pre style=\"white-space:pre;overflow-x:auto;line-height:normal;font-family:Menlo,'DejaVu Sans Mono',consolas,'Courier New',monospace\"><span style=\"color: #7fbfbf; text-decoration-color: #7fbfbf\">           </span>paper_search for query <span style=\"color: #008000; text-decoration-color: #008000\">'temperature variations in fibronectin simulations, 2005-2015  '</span> returned <span style=\"color: #008080; text-decoration-color: #008080; font-weight: bold\">8</span>      \n",
       "<span style=\"color: #7fbfbf; text-decoration-color: #7fbfbf\">           </span>papers.                                                                                                 \n",
       "</pre>\n"
      ],
      "text/plain": [
       "\u001b[2;36m          \u001b[0m\u001b[2;36m \u001b[0mpaper_search for query \u001b[32m'temperature variations in fibronectin simulations, 2005-2015  '\u001b[0m returned \u001b[1;36m8\u001b[0m      \n",
       "\u001b[2;36m           \u001b[0mpapers.                                                                                                 \n"
      ]
     },
     "metadata": {},
     "output_type": "display_data"
    },
    {
     "data": {
      "text/html": [
       "<pre style=\"white-space:pre;overflow-x:auto;line-height:normal;font-family:Menlo,'DejaVu Sans Mono',consolas,'Courier New',monospace\"><span style=\"color: #7fbfbf; text-decoration-color: #7fbfbf\">           </span>Status: Paper <span style=\"color: #808000; text-decoration-color: #808000\">Count</span>=<span style=\"color: #008080; text-decoration-color: #008080; font-weight: bold\">9</span> | Relevant <span style=\"color: #808000; text-decoration-color: #808000\">Papers</span>=<span style=\"color: #008080; text-decoration-color: #008080; font-weight: bold\">0</span> | Current <span style=\"color: #808000; text-decoration-color: #808000\">Evidence</span>=<span style=\"color: #008080; text-decoration-color: #008080; font-weight: bold\">0</span> | Current <span style=\"color: #808000; text-decoration-color: #808000\">Cost</span>=$<span style=\"color: #008080; text-decoration-color: #008080; font-weight: bold\">0.0000</span>                   \n",
       "</pre>\n"
      ],
      "text/plain": [
       "\u001b[2;36m          \u001b[0m\u001b[2;36m \u001b[0mStatus: Paper \u001b[33mCount\u001b[0m=\u001b[1;36m9\u001b[0m | Relevant \u001b[33mPapers\u001b[0m=\u001b[1;36m0\u001b[0m | Current \u001b[33mEvidence\u001b[0m=\u001b[1;36m0\u001b[0m | Current \u001b[33mCost\u001b[0m=$\u001b[1;36m0.0000\u001b[0m                   \n"
      ]
     },
     "metadata": {},
     "output_type": "display_data"
    },
    {
     "data": {
      "text/html": [
       "<pre style=\"white-space:pre;overflow-x:auto;line-height:normal;font-family:Menlo,'DejaVu Sans Mono',consolas,'Courier New',monospace\"><span style=\"color: #7fbfbf; text-decoration-color: #7fbfbf\">           </span>Starting paper search for <span style=\"color: #008000; text-decoration-color: #008000\">'all-atom simulation temperatures fibronectin, 2015-2024  '</span>.                  \n",
       "</pre>\n"
      ],
      "text/plain": [
       "\u001b[2;36m          \u001b[0m\u001b[2;36m \u001b[0mStarting paper search for \u001b[32m'all-atom simulation temperatures fibronectin, 2015-2024  '\u001b[0m.                  \n"
      ]
     },
     "metadata": {},
     "output_type": "display_data"
    },
    {
     "data": {
      "text/html": [
       "<pre style=\"white-space:pre;overflow-x:auto;line-height:normal;font-family:Menlo,'DejaVu Sans Mono',consolas,'Courier New',monospace\"><span style=\"color: #7fbfbf; text-decoration-color: #7fbfbf\">           </span>paper_search for query <span style=\"color: #008000; text-decoration-color: #008000\">'all-atom simulation temperatures fibronectin, 2015-2024  '</span> returned <span style=\"color: #008080; text-decoration-color: #008080; font-weight: bold\">8</span> papers.   \n",
       "</pre>\n"
      ],
      "text/plain": [
       "\u001b[2;36m          \u001b[0m\u001b[2;36m \u001b[0mpaper_search for query \u001b[32m'all-atom simulation temperatures fibronectin, 2015-2024  '\u001b[0m returned \u001b[1;36m8\u001b[0m papers.   \n"
      ]
     },
     "metadata": {},
     "output_type": "display_data"
    },
    {
     "data": {
      "text/html": [
       "<pre style=\"white-space:pre;overflow-x:auto;line-height:normal;font-family:Menlo,'DejaVu Sans Mono',consolas,'Courier New',monospace\"><span style=\"color: #7fbfbf; text-decoration-color: #7fbfbf\">           </span>Status: Paper <span style=\"color: #808000; text-decoration-color: #808000\">Count</span>=<span style=\"color: #008080; text-decoration-color: #008080; font-weight: bold\">10</span> | Relevant <span style=\"color: #808000; text-decoration-color: #808000\">Papers</span>=<span style=\"color: #008080; text-decoration-color: #008080; font-weight: bold\">0</span> | Current <span style=\"color: #808000; text-decoration-color: #808000\">Evidence</span>=<span style=\"color: #008080; text-decoration-color: #008080; font-weight: bold\">0</span> | Current <span style=\"color: #808000; text-decoration-color: #808000\">Cost</span>=$<span style=\"color: #008080; text-decoration-color: #008080; font-weight: bold\">0.0000</span>                  \n",
       "</pre>\n"
      ],
      "text/plain": [
       "\u001b[2;36m          \u001b[0m\u001b[2;36m \u001b[0mStatus: Paper \u001b[33mCount\u001b[0m=\u001b[1;36m10\u001b[0m | Relevant \u001b[33mPapers\u001b[0m=\u001b[1;36m0\u001b[0m | Current \u001b[33mEvidence\u001b[0m=\u001b[1;36m0\u001b[0m | Current \u001b[33mCost\u001b[0m=$\u001b[1;36m0.0000\u001b[0m                  \n"
      ]
     },
     "metadata": {},
     "output_type": "display_data"
    },
    {
     "data": {
      "text/html": [
       "<pre style=\"white-space:pre;overflow-x:auto;line-height:normal;font-family:Menlo,'DejaVu Sans Mono',consolas,'Courier New',monospace\"><span style=\"color: #7fbfbf; text-decoration-color: #7fbfbf\">           </span>gather_evidence starting for question <span style=\"color: #008000; text-decoration-color: #008000\">'temperature used in fibronectin simulations'</span>.                    \n",
       "</pre>\n"
      ],
      "text/plain": [
       "\u001b[2;36m          \u001b[0m\u001b[2;36m \u001b[0mgather_evidence starting for question \u001b[32m'temperature used in fibronectin simulations'\u001b[0m.                    \n"
      ]
     },
     "metadata": {},
     "output_type": "display_data"
    },
    {
     "data": {
      "text/html": [
       "<pre style=\"white-space:pre;overflow-x:auto;line-height:normal;font-family:Menlo,'DejaVu Sans Mono',consolas,'Courier New',monospace\"><span style=\"color: #7fbfbf; text-decoration-color: #7fbfbf\">[21:38:34] </span>Status: Paper <span style=\"color: #808000; text-decoration-color: #808000\">Count</span>=<span style=\"color: #008080; text-decoration-color: #008080; font-weight: bold\">10</span> | Relevant <span style=\"color: #808000; text-decoration-color: #808000\">Papers</span>=<span style=\"color: #008080; text-decoration-color: #008080; font-weight: bold\">1</span> | Current <span style=\"color: #808000; text-decoration-color: #808000\">Evidence</span>=<span style=\"color: #008080; text-decoration-color: #008080; font-weight: bold\">1</span> | Current <span style=\"color: #808000; text-decoration-color: #808000\">Cost</span>=$<span style=\"color: #008080; text-decoration-color: #008080; font-weight: bold\">0.0364</span>                  \n",
       "</pre>\n"
      ],
      "text/plain": [
       "\u001b[2;36m[21:38:34]\u001b[0m\u001b[2;36m \u001b[0mStatus: Paper \u001b[33mCount\u001b[0m=\u001b[1;36m10\u001b[0m | Relevant \u001b[33mPapers\u001b[0m=\u001b[1;36m1\u001b[0m | Current \u001b[33mEvidence\u001b[0m=\u001b[1;36m1\u001b[0m | Current \u001b[33mCost\u001b[0m=$\u001b[1;36m0.0364\u001b[0m                  \n"
      ]
     },
     "metadata": {},
     "output_type": "display_data"
    },
    {
     "data": {
      "text/html": [
       "<pre style=\"white-space:pre;overflow-x:auto;line-height:normal;font-family:Menlo,'DejaVu Sans Mono',consolas,'Courier New',monospace\"><span style=\"color: #7fbfbf; text-decoration-color: #7fbfbf\">           </span>Generating answer for <span style=\"color: #008000; text-decoration-color: #008000\">'temperature used in fibronectin simulations'</span>.                                    \n",
       "</pre>\n"
      ],
      "text/plain": [
       "\u001b[2;36m          \u001b[0m\u001b[2;36m \u001b[0mGenerating answer for \u001b[32m'temperature used in fibronectin simulations'\u001b[0m.                                    \n"
      ]
     },
     "metadata": {},
     "output_type": "display_data"
    },
    {
     "data": {
      "text/html": [
       "<pre style=\"white-space:pre;overflow-x:auto;line-height:normal;font-family:Menlo,'DejaVu Sans Mono',consolas,'Courier New',monospace\"><span style=\"color: #7fbfbf; text-decoration-color: #7fbfbf\">[21:38:37] </span>Status: Paper <span style=\"color: #808000; text-decoration-color: #808000\">Count</span>=<span style=\"color: #008080; text-decoration-color: #008080; font-weight: bold\">10</span> | Relevant <span style=\"color: #808000; text-decoration-color: #808000\">Papers</span>=<span style=\"color: #008080; text-decoration-color: #008080; font-weight: bold\">1</span> | Current <span style=\"color: #808000; text-decoration-color: #808000\">Evidence</span>=<span style=\"color: #008080; text-decoration-color: #008080; font-weight: bold\">1</span> | Current <span style=\"color: #808000; text-decoration-color: #808000\">Cost</span>=$<span style=\"color: #008080; text-decoration-color: #008080; font-weight: bold\">0.0422</span>                  \n",
       "</pre>\n"
      ],
      "text/plain": [
       "\u001b[2;36m[21:38:37]\u001b[0m\u001b[2;36m \u001b[0mStatus: Paper \u001b[33mCount\u001b[0m=\u001b[1;36m10\u001b[0m | Relevant \u001b[33mPapers\u001b[0m=\u001b[1;36m1\u001b[0m | Current \u001b[33mEvidence\u001b[0m=\u001b[1;36m1\u001b[0m | Current \u001b[33mCost\u001b[0m=$\u001b[1;36m0.0422\u001b[0m                  \n"
      ]
     },
     "metadata": {},
     "output_type": "display_data"
    },
    {
     "data": {
      "text/html": [
       "<pre style=\"white-space:pre;overflow-x:auto;line-height:normal;font-family:Menlo,'DejaVu Sans Mono',consolas,'Courier New',monospace\"><span style=\"color: #7fbfbf; text-decoration-color: #7fbfbf\">           </span><span style=\"color: #000080; text-decoration-color: #000080; font-weight: bold\">Answer: The temperature used in fibronectin simulations varies depending on the study and the specific </span> \n",
       "<span style=\"color: #7fbfbf; text-decoration-color: #7fbfbf\">           </span><span style=\"color: #000080; text-decoration-color: #000080; font-weight: bold\">conditions of the simulation. In the study by Liamas (</span><span style=\"color: #008080; text-decoration-color: #008080; font-weight: bold\">2018</span><span style=\"color: #000080; text-decoration-color: #000080; font-weight: bold\">), the fibronectin simulations were </span>          \n",
       "<span style=\"color: #7fbfbf; text-decoration-color: #7fbfbf\">           </span><span style=\"color: #000080; text-decoration-color: #000080; font-weight: bold\">consistently conducted at a temperature of </span><span style=\"color: #008080; text-decoration-color: #008080; font-weight: bold\">300</span><span style=\"color: #000080; text-decoration-color: #000080; font-weight: bold\"> K. The process began with </span><span style=\"color: #008080; text-decoration-color: #008080; font-weight: bold\">100</span><span style=\"color: #000080; text-decoration-color: #000080; font-weight: bold\"> ps of water equilibration </span> \n",
       "<span style=\"color: #7fbfbf; text-decoration-color: #7fbfbf\">           </span><span style=\"color: #000080; text-decoration-color: #000080; font-weight: bold\">at this temperature, followed by heating the system to </span><span style=\"color: #008080; text-decoration-color: #008080; font-weight: bold\">300</span><span style=\"color: #000080; text-decoration-color: #000080; font-weight: bold\"> K for </span><span style=\"color: #008080; text-decoration-color: #008080; font-weight: bold\">45</span><span style=\"color: #000080; text-decoration-color: #000080; font-weight: bold\"> ps, and then equilibrating it at a </span> \n",
       "<span style=\"color: #7fbfbf; text-decoration-color: #7fbfbf\">           </span><span style=\"color: #000080; text-decoration-color: #000080; font-weight: bold\">constant temperature of </span><span style=\"color: #008080; text-decoration-color: #008080; font-weight: bold\">300</span><span style=\"color: #000080; text-decoration-color: #000080; font-weight: bold\"> K for </span><span style=\"color: #008080; text-decoration-color: #008080; font-weight: bold\">555</span><span style=\"color: #000080; text-decoration-color: #000080; font-weight: bold\"> ps. The production of the trajectories was also performed at </span><span style=\"color: #008080; text-decoration-color: #008080; font-weight: bold\">300</span><span style=\"color: #000080; text-decoration-color: #000080; font-weight: bold\"> K</span>\n",
       "<span style=\"color: #7fbfbf; text-decoration-color: #7fbfbf\">           </span><span style=\"color: #000080; text-decoration-color: #000080; font-weight: bold\">within the NVT ensemble, indicating a stable simulation environment throughout the process </span>             \n",
       "<span style=\"color: #7fbfbf; text-decoration-color: #7fbfbf\">           </span><span style=\"color: #000080; text-decoration-color: #000080; font-weight: bold\">(liamas2018cellularsignalingpathways pages </span><span style=\"color: #008080; text-decoration-color: #008080; font-weight: bold\">13</span><span style=\"color: #000080; text-decoration-color: #000080; font-weight: bold\">-</span><span style=\"color: #008080; text-decoration-color: #008080; font-weight: bold\">14</span><span style=\"color: #000080; text-decoration-color: #000080; font-weight: bold\">).</span>                                                      \n",
       "<span style=\"color: #7fbfbf; text-decoration-color: #7fbfbf\">           </span>                                                                                                        \n",
       "<span style=\"color: #7fbfbf; text-decoration-color: #7fbfbf\">           </span><span style=\"color: #000080; text-decoration-color: #000080; font-weight: bold\">In contrast, the study by Raffaini and Ganazzoli (</span><span style=\"color: #008080; text-decoration-color: #008080; font-weight: bold\">2004</span><span style=\"color: #000080; text-decoration-color: #000080; font-weight: bold\">) mentions that during energy minimizations, the </span> \n",
       "<span style=\"color: #7fbfbf; text-decoration-color: #7fbfbf\">           </span><span style=\"color: #000080; text-decoration-color: #000080; font-weight: bold\">system was effectively </span><span style=\"color: #008000; text-decoration-color: #008000\">\"frozen\"</span><span style=\"color: #000080; text-decoration-color: #000080; font-weight: bold\"> at </span><span style=\"color: #008080; text-decoration-color: #008080; font-weight: bold\">0</span><span style=\"color: #000080; text-decoration-color: #000080; font-weight: bold\"> K. This was due to the dominant energy contribution from water </span>    \n",
       "<span style=\"color: #7fbfbf; text-decoration-color: #7fbfbf\">           </span><span style=\"color: #000080; text-decoration-color: #000080; font-weight: bold\">molecules, which does not reflect the relative stability of different adsorption geometries. Therefore, </span>\n",
       "<span style=\"color: #7fbfbf; text-decoration-color: #7fbfbf\">           </span><span style=\"color: #000080; text-decoration-color: #000080; font-weight: bold\">while the simulations in water were performed to assess stability and hydration, the energy </span>            \n",
       "<span style=\"color: #7fbfbf; text-decoration-color: #7fbfbf\">           </span><span style=\"color: #000080; text-decoration-color: #000080; font-weight: bold\">minimizations corresponded to a temperature of </span><span style=\"color: #008080; text-decoration-color: #008080; font-weight: bold\">0</span><span style=\"color: #000080; text-decoration-color: #000080; font-weight: bold\"> K (Raffaini2004 pages </span><span style=\"color: #008080; text-decoration-color: #008080; font-weight: bold\">3</span><span style=\"color: #000080; text-decoration-color: #000080; font-weight: bold\">-</span><span style=\"color: #008080; text-decoration-color: #008080; font-weight: bold\">3</span><span style=\"color: #000080; text-decoration-color: #000080; font-weight: bold\">). </span>                           \n",
       "<span style=\"color: #7fbfbf; text-decoration-color: #7fbfbf\">           </span>                                                                                                        \n",
       "<span style=\"color: #7fbfbf; text-decoration-color: #7fbfbf\">           </span><span style=\"color: #000080; text-decoration-color: #000080; font-weight: bold\">These studies illustrate the different approaches and conditions under which fibronectin simulations can</span>\n",
       "<span style=\"color: #7fbfbf; text-decoration-color: #7fbfbf\">           </span><span style=\"color: #000080; text-decoration-color: #000080; font-weight: bold\">be conducted, highlighting the importance of temperature control in molecular dynamics simulations.</span>     \n",
       "</pre>\n"
      ],
      "text/plain": [
       "\u001b[2;36m          \u001b[0m\u001b[2;36m \u001b[0m\u001b[1;34mAnswer: The temperature used in fibronectin simulations varies depending on the study and the specific \u001b[0m \n",
       "\u001b[2;36m           \u001b[0m\u001b[1;34mconditions of the simulation. In the study by Liamas \u001b[0m\u001b[1;34m(\u001b[0m\u001b[1;36m2018\u001b[0m\u001b[1;34m)\u001b[0m\u001b[1;34m, the fibronectin simulations were \u001b[0m          \n",
       "\u001b[2;36m           \u001b[0m\u001b[1;34mconsistently conducted at a temperature of \u001b[0m\u001b[1;36m300\u001b[0m\u001b[1;34m K. The process began with \u001b[0m\u001b[1;36m100\u001b[0m\u001b[1;34m ps of water equilibration \u001b[0m \n",
       "\u001b[2;36m           \u001b[0m\u001b[1;34mat this temperature, followed by heating the system to \u001b[0m\u001b[1;36m300\u001b[0m\u001b[1;34m K for \u001b[0m\u001b[1;36m45\u001b[0m\u001b[1;34m ps, and then equilibrating it at a \u001b[0m \n",
       "\u001b[2;36m           \u001b[0m\u001b[1;34mconstant temperature of \u001b[0m\u001b[1;36m300\u001b[0m\u001b[1;34m K for \u001b[0m\u001b[1;36m555\u001b[0m\u001b[1;34m ps. The production of the trajectories was also performed at \u001b[0m\u001b[1;36m300\u001b[0m\u001b[1;34m K\u001b[0m\n",
       "\u001b[2;36m           \u001b[0m\u001b[1;34mwithin the NVT ensemble, indicating a stable simulation environment throughout the process \u001b[0m             \n",
       "\u001b[2;36m           \u001b[0m\u001b[1;34m(\u001b[0m\u001b[1;34mliamas2018cellularsignalingpathways pages \u001b[0m\u001b[1;36m13\u001b[0m\u001b[1;34m-\u001b[0m\u001b[1;36m14\u001b[0m\u001b[1;34m)\u001b[0m\u001b[1;34m.\u001b[0m                                                      \n",
       "\u001b[2;36m           \u001b[0m                                                                                                        \n",
       "\u001b[2;36m           \u001b[0m\u001b[1;34mIn contrast, the study by Raffaini and Ganazzoli \u001b[0m\u001b[1;34m(\u001b[0m\u001b[1;36m2004\u001b[0m\u001b[1;34m)\u001b[0m\u001b[1;34m mentions that during energy minimizations, the \u001b[0m \n",
       "\u001b[2;36m           \u001b[0m\u001b[1;34msystem was effectively \u001b[0m\u001b[32m\"frozen\"\u001b[0m\u001b[1;34m at \u001b[0m\u001b[1;36m0\u001b[0m\u001b[1;34m K. This was due to the dominant energy contribution from water \u001b[0m    \n",
       "\u001b[2;36m           \u001b[0m\u001b[1;34mmolecules, which does not reflect the relative stability of different adsorption geometries. Therefore, \u001b[0m\n",
       "\u001b[2;36m           \u001b[0m\u001b[1;34mwhile the simulations in water were performed to assess stability and hydration, the energy \u001b[0m            \n",
       "\u001b[2;36m           \u001b[0m\u001b[1;34mminimizations corresponded to a temperature of \u001b[0m\u001b[1;36m0\u001b[0m\u001b[1;34m K \u001b[0m\u001b[1;34m(\u001b[0m\u001b[1;34mRaffaini2004 pages \u001b[0m\u001b[1;36m3\u001b[0m\u001b[1;34m-\u001b[0m\u001b[1;36m3\u001b[0m\u001b[1;34m)\u001b[0m\u001b[1;34m. \u001b[0m                           \n",
       "\u001b[2;36m           \u001b[0m                                                                                                        \n",
       "\u001b[2;36m           \u001b[0m\u001b[1;34mThese studies illustrate the different approaches and conditions under which fibronectin simulations can\u001b[0m\n",
       "\u001b[2;36m           \u001b[0m\u001b[1;34mbe conducted, highlighting the importance of temperature control in molecular dynamics simulations.\u001b[0m     \n"
      ]
     },
     "metadata": {},
     "output_type": "display_data"
    },
    {
     "name": "stdout",
     "output_type": "stream",
     "text": [
      "Question: temperature used in fibronectin simulations\n",
      "\n",
      "The temperature used in fibronectin simulations varies depending on the study and the specific conditions of the simulation. In the study by Liamas (2018), the fibronectin simulations were consistently conducted at a temperature of 300 K. The process began with 100 ps of water equilibration at this temperature, followed by heating the system to 300 K for 45 ps, and then equilibrating it at a constant temperature of 300 K for 555 ps. The production of the trajectories was also performed at 300 K within the NVT ensemble, indicating a stable simulation environment throughout the process (liamas2018cellularsignalingpathways pages 13-14).\n",
      "\n",
      "In contrast, the study by Raffaini and Ganazzoli (2004) mentions that during energy minimizations, the system was effectively \"frozen\" at 0 K. This was due to the dominant energy contribution from water molecules, which does not reflect the relative stability of different adsorption geometries. Therefore, while the simulations in water were performed to assess stability and hydration, the energy minimizations corresponded to a temperature of 0 K (Raffaini2004 pages 3-3). \n",
      "\n",
      "These studies illustrate the different approaches and conditions under which fibronectin simulations can be conducted, highlighting the importance of temperature control in molecular dynamics simulations.\n",
      "\n",
      "References\n",
      "\n",
      "1. (liamas2018cellularsignalingpathways pages 13-14): Evangelos Liamas. Cellular signaling pathways activated by functional graphene nanomaterials. International Journal of Molecular Sciences, 2018. URL: https://doi.org/10.3390/ijms19113365, doi:10.3390/ijms19113365.\n",
      "\n",
      "2. (Raffaini2004 pages 3-3): Raffaini, Giuseppina, and Fabio Ganazzoli. \"Molecular Dynamics Simulation of the Adsorption of a Fibronectin Module on a Graphite Surface.\" *Langmuir*, vol. 20, no. 9, 2004, pp. 3371-3378. Accessed 28 Sept. 2024.\n",
      "\n"
     ]
    },
    {
     "name": "stdout",
     "output_type": "stream",
     "text": [
      "Thought:"
     ]
    },
    {
     "name": "stdout",
     "output_type": "stream",
     "text": [
      " Now that I have found the"
     ]
    },
    {
     "name": "stdout",
     "output_type": "stream",
     "text": [
      " appropriate temperature for simulating fibronect"
     ]
    },
    {
     "name": "stdout",
     "output_type": "stream",
     "text": [
      "in, I can proceed"
     ]
    },
    {
     "name": "stdout",
     "output_type": "stream",
     "text": [
      " with setting up"
     ]
    },
    {
     "name": "stdout",
     "output_type": "stream",
     "text": [
      " and running the simulation. I"
     ]
    },
    {
     "name": "stdout",
     "output_type": "stream",
     "text": [
      " will use the SetUpandRunFunction tool"
     ]
    },
    {
     "name": "stdout",
     "output_type": "stream",
     "text": [
      " to simulate fibronectin for"
     ]
    },
    {
     "name": "stdout",
     "output_type": "stream",
     "text": [
      " 1 ns at a temperature"
     ]
    },
    {
     "name": "stdout",
     "output_type": "stream",
     "text": [
      " of 300 K.\n",
      "\n",
      "Action:\n",
      "``"
     ]
    },
    {
     "name": "stdout",
     "output_type": "stream",
     "text": [
      "`\n",
      "{\n",
      "  \"action\": \"SetUp"
     ]
    },
    {
     "name": "stdout",
     "output_type": "stream",
     "text": [
      "andRunFunction\",\n",
      "  \"action_input"
     ]
    },
    {
     "name": "stdout",
     "output_type": "stream",
     "text": [
      "\": {\n",
      "    \"pdb_id\": \""
     ]
    },
    {
     "name": "stdout",
     "output_type": "stream",
     "text": [
      "1FNF\",\n",
      "    \"forcefield"
     ]
    },
    {
     "name": "stdout",
     "output_type": "stream",
     "text": [
      "_files\": [\"amber99sbildn"
     ]
    },
    {
     "name": "stdout",
     "output_type": "stream",
     "text": [
      ".xml\", \"tip3"
     ]
    },
    {
     "name": "stdout",
     "output_type": "stream",
     "text": [
      "p.xml\"],\n",
      "    \"save\": true"
     ]
    },
    {
     "name": "stdout",
     "output_type": "stream",
     "text": [
      ",\n",
      "    \"system_params"
     ]
    },
    {
     "name": "stdout",
     "output_type": "stream",
     "text": [
      "\": {\n",
      "      \"nonbondedMethod"
     ]
    },
    {
     "name": "stdout",
     "output_type": "stream",
     "text": [
      "\": \"NoCutoff\",\n",
      "      \""
     ]
    },
    {
     "name": "stdout",
     "output_type": "stream",
     "text": [
      "constraints\": \"None\",\n",
      "     "
     ]
    },
    {
     "name": "stdout",
     "output_type": "stream",
     "text": [
      " \"rigidWater\": false\n"
     ]
    },
    {
     "name": "stdout",
     "output_type": "stream",
     "text": [
      "    },\n",
      "    \"integr"
     ]
    },
    {
     "name": "stdout",
     "output_type": "stream",
     "text": [
      "ator_params\": {\n",
      "      \"integrator"
     ]
    },
    {
     "name": "stdout",
     "output_type": "stream",
     "text": [
      "_type\": \"LangevinMiddle\",\n"
     ]
    },
    {
     "name": "stdout",
     "output_type": "stream",
     "text": [
      "      \"Temperature\": \"300 * kel"
     ]
    },
    {
     "name": "stdout",
     "output_type": "stream",
     "text": [
      "vin\",\n",
      "      \"Friction\": \""
     ]
    },
    {
     "name": "stdout",
     "output_type": "stream",
     "text": [
      "1.0 / picoseconds\",\n",
      "     "
     ]
    },
    {
     "name": "stdout",
     "output_type": "stream",
     "text": [
      " \"Timestep\": \"0.002"
     ]
    },
    {
     "name": "stdout",
     "output_type": "stream",
     "text": [
      " * picoseconds\",\n",
      "     "
     ]
    },
    {
     "name": "stdout",
     "output_type": "stream",
     "text": [
      " \"Pressure\": \"1.0 *"
     ]
    },
    {
     "name": "stdout",
     "output_type": "stream",
     "text": [
      " bar\"\n",
      "    },\n"
     ]
    },
    {
     "name": "stdout",
     "output_type": "stream",
     "text": [
      "    \"simulation_params\": {\n",
      "      \"Ensemble\": \""
     ]
    },
    {
     "name": "stdout",
     "output_type": "stream",
     "text": [
      "NVT\",\n",
      "     "
     ]
    },
    {
     "name": "stdout",
     "output_type": "stream",
     "text": [
      " \"Number of Steps\": 500000"
     ]
    },
    {
     "name": "stdout",
     "output_type": "stream",
     "text": [
      ",\n",
      "      \"record_interval"
     ]
    },
    {
     "name": "stdout",
     "output_type": "stream",
     "text": [
      "_steps\": 1000,\n"
     ]
    },
    {
     "name": "stdout",
     "output_type": "stream",
     "text": [
      "      \"record_params\": [\"step\","
     ]
    },
    {
     "name": "stdout",
     "output_type": "stream",
     "text": [
      " \"potentialEnergy\", \"temperature\"]\n",
      "   "
     ]
    },
    {
     "name": "stdout",
     "output_type": "stream",
     "text": [
      " }\n",
      "  }\n",
      "}\n",
      "```"
     ]
    },
    {
     "name": "stdout",
     "output_type": "stream",
     "text": [
      "Thought:"
     ]
    },
    {
     "name": "stdout",
     "output_type": "stream",
     "text": [
      " I need to download the"
     ]
    },
    {
     "name": "stdout",
     "output_type": "stream",
     "text": [
      " PDB file for fibronectin"
     ]
    },
    {
     "name": "stdout",
     "output_type": "stream",
     "text": [
      " (PDB ID 1FNF"
     ]
    },
    {
     "name": "stdout",
     "output_type": "stream",
     "text": [
      ") to obtain the"
     ]
    },
    {
     "name": "stdout",
     "output_type": "stream",
     "text": [
      " file ID, which will be"
     ]
    },
    {
     "name": "stdout",
     "output_type": "stream",
     "text": [
      " used as input for the SetUpandRun"
     ]
    },
    {
     "name": "stdout",
     "output_type": "stream",
     "text": [
      "Function tool.\n",
      "\n",
      "Action"
     ]
    },
    {
     "name": "stdout",
     "output_type": "stream",
     "text": [
      ":\n",
      "```\n",
      "{\n"
     ]
    },
    {
     "name": "stdout",
     "output_type": "stream",
     "text": [
      "  \"action\":"
     ]
    },
    {
     "name": "stdout",
     "output_type": "stream",
     "text": [
      " \"PDBFileDownloader\",\n",
      "  \""
     ]
    },
    {
     "name": "stdout",
     "output_type": "stream",
     "text": [
      "action_input\": \""
     ]
    },
    {
     "name": "stdout",
     "output_type": "stream",
     "text": [
      "1FNF\"\n",
      "}\n",
      "```"
     ]
    },
    {
     "name": "stdout",
     "output_type": "stream",
     "text": [
      "PDB file found with this ID: 1FNF\n"
     ]
    },
    {
     "name": "stdout",
     "output_type": "stream",
     "text": [
      "Thought:"
     ]
    },
    {
     "name": "stdout",
     "output_type": "stream",
     "text": [
      " Now that I have the file ID"
     ]
    },
    {
     "name": "stdout",
     "output_type": "stream",
     "text": [
      " for the PDB file, I can"
     ]
    },
    {
     "name": "stdout",
     "output_type": "stream",
     "text": [
      " proceed with setting up and running"
     ]
    },
    {
     "name": "stdout",
     "output_type": "stream",
     "text": [
      " the simulation. I will use the SetUp"
     ]
    },
    {
     "name": "stdout",
     "output_type": "stream",
     "text": [
      "andRunFunction tool to simulate fibron"
     ]
    },
    {
     "name": "stdout",
     "output_type": "stream",
     "text": [
      "ectin for 1 ns at a"
     ]
    },
    {
     "name": "stdout",
     "output_type": "stream",
     "text": [
      " temperature of 300 K.\n",
      "\n",
      "Action:\n"
     ]
    },
    {
     "name": "stdout",
     "output_type": "stream",
     "text": [
      "```\n",
      "{\n",
      "  \"action\": \""
     ]
    },
    {
     "name": "stdout",
     "output_type": "stream",
     "text": [
      "SetUpandRunFunction\",\n",
      "  \"action"
     ]
    },
    {
     "name": "stdout",
     "output_type": "stream",
     "text": [
      "_input\": {\n",
      "    \"pdb_id\":"
     ]
    },
    {
     "name": "stdout",
     "output_type": "stream",
     "text": [
      " \"1FNF_213844\",\n"
     ]
    },
    {
     "name": "stdout",
     "output_type": "stream",
     "text": [
      "    \"forcefield_files\": [\"amber"
     ]
    },
    {
     "name": "stdout",
     "output_type": "stream",
     "text": [
      "99sbildn.xml\", \"tip"
     ]
    },
    {
     "name": "stdout",
     "output_type": "stream",
     "text": [
      "3p.xml\"],\n",
      "    \"save\":"
     ]
    },
    {
     "name": "stdout",
     "output_type": "stream",
     "text": [
      " true,\n",
      "    \"system_params\": {\n"
     ]
    },
    {
     "name": "stdout",
     "output_type": "stream",
     "text": [
      "      \"nonbondedMethod\": \""
     ]
    },
    {
     "name": "stdout",
     "output_type": "stream",
     "text": [
      "NoCutoff\",\n",
      "      \"constraints\":"
     ]
    },
    {
     "name": "stdout",
     "output_type": "stream",
     "text": [
      " \"None\",\n",
      "      \"rigidWater"
     ]
    },
    {
     "name": "stdout",
     "output_type": "stream",
     "text": [
      "\": false\n",
      "    },\n",
      "    \"integr"
     ]
    },
    {
     "name": "stdout",
     "output_type": "stream",
     "text": [
      "ator_params\": {\n",
      "      \"integrator"
     ]
    },
    {
     "name": "stdout",
     "output_type": "stream",
     "text": [
      "_type\": \"LangevinMiddle\",\n"
     ]
    },
    {
     "name": "stdout",
     "output_type": "stream",
     "text": [
      "      \"Temperature\": \"300 * kel"
     ]
    },
    {
     "name": "stdout",
     "output_type": "stream",
     "text": [
      "vin\",\n",
      "      \""
     ]
    },
    {
     "name": "stdout",
     "output_type": "stream",
     "text": [
      "Friction\": \"1.0 /"
     ]
    },
    {
     "name": "stdout",
     "output_type": "stream",
     "text": [
      " picoseconds\",\n",
      "      \"Timestep\":"
     ]
    },
    {
     "name": "stdout",
     "output_type": "stream",
     "text": [
      " \"0.002 * picoseconds\",\n"
     ]
    },
    {
     "name": "stdout",
     "output_type": "stream",
     "text": [
      "      \"Pressure\": \"1.0"
     ]
    },
    {
     "name": "stdout",
     "output_type": "stream",
     "text": [
      " * bar\"\n",
      "    },\n",
      "    \"simulation"
     ]
    },
    {
     "name": "stdout",
     "output_type": "stream",
     "text": [
      "_params\": {\n",
      "      \"Ensemble\":"
     ]
    },
    {
     "name": "stdout",
     "output_type": "stream",
     "text": [
      " \"NVT\",\n",
      "      \"Number of"
     ]
    },
    {
     "name": "stdout",
     "output_type": "stream",
     "text": [
      " Steps\": 500000,\n",
      "      \""
     ]
    },
    {
     "name": "stdout",
     "output_type": "stream",
     "text": [
      "record_interval_steps\": 1000,\n"
     ]
    },
    {
     "name": "stdout",
     "output_type": "stream",
     "text": [
      "      \"record_params\": [\"step\","
     ]
    },
    {
     "name": "stdout",
     "output_type": "stream",
     "text": [
      " \"potentialEnergy\", \"temperature\"]\n",
      "   "
     ]
    },
    {
     "name": "stdout",
     "output_type": "stream",
     "text": [
      " }\n",
      "  }\n",
      "}\n",
      "```"
     ]
    },
    {
     "name": "stdout",
     "output_type": "stream",
     "text": [
      "Building system...\n"
     ]
    },
    {
     "name": "stdout",
     "output_type": "stream",
     "text": [
      "About to create system...\n",
      "Attempts at creating system: 0/3\n",
      "adding system without solvent\n",
      "Trying to add component to Forcefield...\n",
      "Residue code: PRO\n",
      "Residue code not in solvent list. Adding forcefield                         not supported.\n"
     ]
    },
    {
     "name": "stdout",
     "output_type": "stream",
     "text": [
      "Thought:"
     ]
    },
    {
     "name": "stdout",
     "output_type": "stream",
     "text": [
      " The simulation failed"
     ]
    },
    {
     "name": "stdout",
     "output_type": "stream",
     "text": [
      " due to missing hydrogen atoms in the"
     ]
    },
    {
     "name": "stdout",
     "output_type": "stream",
     "text": [
      " PRO residue. I will use the Cleaning"
     ]
    },
    {
     "name": "stdout",
     "output_type": "stream",
     "text": [
      "ToolFunction to add the missing hydrogen atoms"
     ]
    },
    {
     "name": "stdout",
     "output_type": "stream",
     "text": [
      " to the PDB file.\n",
      "\n",
      "Action:\n"
     ]
    },
    {
     "name": "stdout",
     "output_type": "stream",
     "text": [
      "```\n",
      "{\n",
      "  \"action\": \""
     ]
    },
    {
     "name": "stdout",
     "output_type": "stream",
     "text": [
      "CleaningToolFunction\",\n",
      "  \"action_input"
     ]
    },
    {
     "name": "stdout",
     "output_type": "stream",
     "text": [
      "\": {\n",
      "    \"pdb_id\": \""
     ]
    },
    {
     "name": "stdout",
     "output_type": "stream",
     "text": [
      "1FNF_213844\",\n",
      "   "
     ]
    },
    {
     "name": "stdout",
     "output_type": "stream",
     "text": [
      " \"replace_nonstandard_residues\":"
     ]
    },
    {
     "name": "stdout",
     "output_type": "stream",
     "text": [
      " true,\n",
      "    \"add_missing_atoms\":"
     ]
    },
    {
     "name": "stdout",
     "output_type": "stream",
     "text": [
      " true,\n",
      "    \"remove_heterogens"
     ]
    },
    {
     "name": "stdout",
     "output_type": "stream",
     "text": [
      "\": true,\n",
      "    \"remove_water\":"
     ]
    },
    {
     "name": "stdout",
     "output_type": "stream",
     "text": [
      " true,\n",
      "    \"add_hydrogens"
     ]
    },
    {
     "name": "stdout",
     "output_type": "stream",
     "text": [
      "\": true,\n",
      "    \"add_hydro"
     ]
    },
    {
     "name": "stdout",
     "output_type": "stream",
     "text": [
      "gens_ph\": 7.0\n"
     ]
    },
    {
     "name": "stdout",
     "output_type": "stream",
     "text": [
      "  }\n",
      "}\n",
      "```"
     ]
    },
    {
     "name": "stdout",
     "output_type": "stream",
     "text": [
      "file path: /gpfs/fs2/scratch/qcampbe2/repos/md-agent_gpt_params/ckpt/ckpt_5/pdb/1FNF_raw_20241002_213844.pdb\n"
     ]
    },
    {
     "name": "stdout",
     "output_type": "stream",
     "text": [
      "Thought:"
     ]
    },
    {
     "name": "stdout",
     "output_type": "stream",
     "text": [
      " Now that the PDB file has"
     ]
    },
    {
     "name": "stdout",
     "output_type": "stream",
     "text": [
      " been cleaned and the missing hydrogen"
     ]
    },
    {
     "name": "stdout",
     "output_type": "stream",
     "text": [
      " atoms have been added, I can proceed"
     ]
    },
    {
     "name": "stdout",
     "output_type": "stream",
     "text": [
      " with setting up and running the simulation."
     ]
    },
    {
     "name": "stdout",
     "output_type": "stream",
     "text": [
      " I will use the SetUpandRunFunction"
     ]
    },
    {
     "name": "stdout",
     "output_type": "stream",
     "text": [
      " tool to simulate fibronectin for"
     ]
    },
    {
     "name": "stdout",
     "output_type": "stream",
     "text": [
      " 1 ns at a temperature of "
     ]
    },
    {
     "name": "stdout",
     "output_type": "stream",
     "text": [
      "300 K.\n",
      "\n",
      "Action:\n",
      "```\n",
      "{\n"
     ]
    },
    {
     "name": "stdout",
     "output_type": "stream",
     "text": [
      "  \"action\": \"SetUpandRun"
     ]
    },
    {
     "name": "stdout",
     "output_type": "stream",
     "text": [
      "Function\",\n",
      "  \"action_input\": {\n"
     ]
    },
    {
     "name": "stdout",
     "output_type": "stream",
     "text": [
      "    \"pdb_id\": \"1F"
     ]
    },
    {
     "name": "stdout",
     "output_type": "stream",
     "text": [
      "NF_213852\",\n",
      "    \"force"
     ]
    },
    {
     "name": "stdout",
     "output_type": "stream",
     "text": [
      "field_files\": [\"amber99sbild"
     ]
    },
    {
     "name": "stdout",
     "output_type": "stream",
     "text": [
      "n.xml\", \"tip3p.xml"
     ]
    },
    {
     "name": "stdout",
     "output_type": "stream",
     "text": [
      "\"],\n",
      "    \"save\": true,\n",
      "   "
     ]
    },
    {
     "name": "stdout",
     "output_type": "stream",
     "text": [
      " \"system_params\": {\n",
      "      \"non"
     ]
    },
    {
     "name": "stdout",
     "output_type": "stream",
     "text": [
      "bondedMethod\": \"NoCutoff"
     ]
    },
    {
     "name": "stdout",
     "output_type": "stream",
     "text": [
      "\",\n",
      "      \"constraints\": \"None\",\n"
     ]
    },
    {
     "name": "stdout",
     "output_type": "stream",
     "text": [
      "      \"rigidWater\": false\n"
     ]
    },
    {
     "name": "stdout",
     "output_type": "stream",
     "text": [
      "    },\n",
      "    \"integrator_params\":"
     ]
    },
    {
     "name": "stdout",
     "output_type": "stream",
     "text": [
      " {\n",
      "      \"integrator_type\": \""
     ]
    },
    {
     "name": "stdout",
     "output_type": "stream",
     "text": [
      "LangevinMiddle\",\n",
      "      \"Temperature"
     ]
    },
    {
     "name": "stdout",
     "output_type": "stream",
     "text": [
      "\": \"300 * kelvin\",\n",
      "     "
     ]
    },
    {
     "name": "stdout",
     "output_type": "stream",
     "text": [
      " \"Friction\":"
     ]
    },
    {
     "name": "stdout",
     "output_type": "stream",
     "text": [
      " \"1.0 / picoseconds\",\n"
     ]
    },
    {
     "name": "stdout",
     "output_type": "stream",
     "text": [
      "      \"Timestep\": \"0."
     ]
    },
    {
     "name": "stdout",
     "output_type": "stream",
     "text": [
      "002 * picoseconds\",\n",
      "      \"Pressure"
     ]
    },
    {
     "name": "stdout",
     "output_type": "stream",
     "text": [
      "\": \"1.0 * bar\"\n"
     ]
    },
    {
     "name": "stdout",
     "output_type": "stream",
     "text": [
      "    },\n",
      "    \"simulation_params\": {\n"
     ]
    },
    {
     "name": "stdout",
     "output_type": "stream",
     "text": [
      "      \"Ensemble\": \"NVT"
     ]
    },
    {
     "name": "stdout",
     "output_type": "stream",
     "text": [
      "\",\n",
      "      \"Number of Steps\": "
     ]
    },
    {
     "name": "stdout",
     "output_type": "stream",
     "text": [
      "500000,\n",
      "      \"record_interval_steps"
     ]
    },
    {
     "name": "stdout",
     "output_type": "stream",
     "text": [
      "\": 1000,\n",
      "      \"record"
     ]
    },
    {
     "name": "stdout",
     "output_type": "stream",
     "text": [
      "_params\": [\"step\", \"potentialEnergy"
     ]
    },
    {
     "name": "stdout",
     "output_type": "stream",
     "text": [
      "\", \"temperature\"]\n",
      "    }\n",
      "  }\n"
     ]
    },
    {
     "name": "stdout",
     "output_type": "stream",
     "text": [
      "}\n",
      "```"
     ]
    },
    {
     "name": "stdout",
     "output_type": "stream",
     "text": [
      "Building system...\n"
     ]
    },
    {
     "name": "stdout",
     "output_type": "stream",
     "text": [
      "About to create system...\n",
      "Attempts at creating system: 0/3\n",
      "adding system without solvent\n"
     ]
    },
    {
     "name": "stdout",
     "output_type": "stream",
     "text": [
      "System built successfully\n",
      "<openmm.openmm.System; proxy of <Swig Object of type 'OpenMM::System *' at 0x2ac5525e72a0> >\n",
      "Setting up integrator...\n",
      "Creating simulation...\n"
     ]
    },
    {
     "name": "stdout",
     "output_type": "stream",
     "text": [
      "simulation set!\n",
      "Performing energy minimization...\n"
     ]
    },
    {
     "name": "stdout",
     "output_type": "stream",
     "text": [
      "Minimization complete!\n",
      "Initial Positions saved to initial_positions.pdb\n",
      "Equilibrating...\n"
     ]
    },
    {
     "name": "stdout",
     "output_type": "stream",
     "text": [
      "Simulating...\n"
     ]
    },
    {
     "name": "stdout",
     "output_type": "stream",
     "text": [
      "Done!\n",
      "Standalone simulation script written to /gpfs/fs2/scratch/qcampbe2/repos/md-agent_gpt_params/ckpt/ckpt_5/simulations/NVT_1FNF_213852_20241002_213855.py\n",
      "['out.exp18_405b', 'exp18_405b.sh', 'out.exp12_405b', 'exp6_405b.sh', 'paper_collection', '.ipynb_checkpoints', 'TOP_sim0_213855_1FNF_213852_20241002_213856.pdb', 'exp_4.ipynb', 'exp12_405b.sh', 'exp_12.ipynb', 'results', 'LOG_sim0_213855_1FNF_213852_20241002_213856.txt', 'out.exp6_405b', 'exp_18.ipynb', 'TRAJ_sim0_213855_1FNF_213852_20241002_213856.dcd', 'exp_6.ipynb']\n"
     ]
    },
    {
     "name": "stdout",
     "output_type": "stream",
     "text": [
      "Thought:"
     ]
    },
    {
     "name": "stdout",
     "output_type": "stream",
     "text": [
      " Now that the simulation is complete,"
     ]
    },
    {
     "name": "stdout",
     "output_type": "stream",
     "text": [
      " I can proceed with computing the RMSD"
     ]
    },
    {
     "name": "stdout",
     "output_type": "stream",
     "text": [
      " and the final secondary structure. I"
     ]
    },
    {
     "name": "stdout",
     "output_type": "stream",
     "text": [
      " will use the ComputeRMSD tool"
     ]
    },
    {
     "name": "stdout",
     "output_type": "stream",
     "text": [
      " to calculate the RMSD of the"
     ]
    },
    {
     "name": "stdout",
     "output_type": "stream",
     "text": [
      " simulated trajectory.\n",
      "\n"
     ]
    },
    {
     "name": "stdout",
     "output_type": "stream",
     "text": [
      "Action:\n",
      "```\n",
      "{\n",
      "  \"action"
     ]
    },
    {
     "name": "stdout",
     "output_type": "stream",
     "text": [
      "\": \"ComputeRMSD\",\n",
      " "
     ]
    },
    {
     "name": "stdout",
     "output_type": "stream",
     "text": [
      " \"action_input\": {\n",
      "    \"tr"
     ]
    },
    {
     "name": "stdout",
     "output_type": "stream",
     "text": [
      "aj_id\": \"rec"
     ]
    },
    {
     "name": "stdout",
     "output_type": "stream",
     "text": [
      "0_213856\",\n",
      "    \"top"
     ]
    },
    {
     "name": "stdout",
     "output_type": "stream",
     "text": [
      "_id\": \"top_sim"
     ]
    },
    {
     "name": "stdout",
     "output_type": "stream",
     "text": [
      "0_213855\",\n",
      "    \"ref"
     ]
    },
    {
     "name": "stdout",
     "output_type": "stream",
     "text": [
      "_top_id"
     ]
    },
    {
     "name": "stdout",
     "output_type": "stream",
     "text": [
      "\": \"top_sim0_213855"
     ]
    },
    {
     "name": "stdout",
     "output_type": "stream",
     "text": [
      "\",\n",
      "    \"ref_traj_id\": \""
     ]
    },
    {
     "name": "stdout",
     "output_type": "stream",
     "text": [
      "rec0_213856\",\n",
      "    \""
     ]
    },
    {
     "name": "stdout",
     "output_type": "stream",
     "text": [
      "select\": \"protein\",\n",
      "    \"mol"
     ]
    },
    {
     "name": "stdout",
     "output_type": "stream",
     "text": [
      "_name\": \"fibron"
     ]
    },
    {
     "name": "stdout",
     "output_type": "stream",
     "text": [
      "ectin\"\n",
      "  }\n",
      "}\n",
      "```"
     ]
    },
    {
     "name": "stdout",
     "output_type": "stream",
     "text": [
      "Calculating RMSD...\n"
     ]
    },
    {
     "name": "stdout",
     "output_type": "stream",
     "text": [
      "Data saved to /gpfs/fs2/scratch/qcampbe2/repos/md-agent_gpt_params/ckpt/ckpt_5/records/rmsd_fibronectin.csv\n"
     ]
    },
    {
     "name": "stdout",
     "output_type": "stream",
     "text": [
      "Plot saved to /gpfs/fs2/scratch/qcampbe2/repos/md-agent_gpt_params/ckpt/ckpt_5/figures/FIG_rmsd_fibronectin_20241003_042355.png\n"
     ]
    },
    {
     "name": "stdout",
     "output_type": "stream",
     "text": [
      "Thought:"
     ]
    },
    {
     "name": "stdout",
     "output_type": "stream",
     "text": [
      " Now that the RMS"
     ]
    },
    {
     "name": "stdout",
     "output_type": "stream",
     "text": [
      "D has been calculated, I can proceed"
     ]
    },
    {
     "name": "stdout",
     "output_type": "stream",
     "text": [
      " with computing the final secondary structure."
     ]
    },
    {
     "name": "stdout",
     "output_type": "stream",
     "text": [
      " I will use the ComputeDSSP"
     ]
    },
    {
     "name": "stdout",
     "output_type": "stream",
     "text": [
      " tool to calculate the final secondary"
     ]
    },
    {
     "name": "stdout",
     "output_type": "stream",
     "text": [
      " structure of the simulated trajectory.\n",
      "\n",
      "Action:\n"
     ]
    },
    {
     "name": "stdout",
     "output_type": "stream",
     "text": [
      "```\n",
      "{\n",
      "  \"action\": \""
     ]
    },
    {
     "name": "stdout",
     "output_type": "stream",
     "text": [
      "ComputeDSSP\",\n",
      "  \"action"
     ]
    },
    {
     "name": "stdout",
     "output_type": "stream",
     "text": [
      "_input\": {\n",
      "    \"traj_file"
     ]
    },
    {
     "name": "stdout",
     "output_type": "stream",
     "text": [
      "\": \"rec0_213856\",\n"
     ]
    },
    {
     "name": "stdout",
     "output_type": "stream",
     "text": [
      "    \"top_file\": \"top_sim"
     ]
    },
    {
     "name": "stdout",
     "output_type": "stream",
     "text": [
      "0_213855\",\n",
      "    \"target"
     ]
    },
    {
     "name": "stdout",
     "output_type": "stream",
     "text": [
      "_frames\": \"last\"\n",
      "  }\n",
      "}\n"
     ]
    },
    {
     "name": "stdout",
     "output_type": "stream",
     "text": [
      "```\n"
     ]
    },
    {
     "name": "stdout",
     "output_type": "stream",
     "text": [
      "Thought:"
     ]
    },
    {
     "name": "stdout",
     "output_type": "stream",
     "text": [
      " Now that I have the final secondary"
     ]
    },
    {
     "name": "stdout",
     "output_type": "stream",
     "text": [
      " structure of the simulated trajectory, I"
     ]
    },
    {
     "name": "stdout",
     "output_type": "stream",
     "text": [
      " can proceed with obtaining the subunit structure"
     ]
    },
    {
     "name": "stdout",
     "output_type": "stream",
     "text": [
      " and the number of beta sheets, hel"
     ]
    },
    {
     "name": "stdout",
     "output_type": "stream",
     "text": [
      "ices, etc. from the"
     ]
    },
    {
     "name": "stdout",
     "output_type": "stream",
     "text": [
      " UniProt database. I will use the"
     ]
    },
    {
     "name": "stdout",
     "output_type": "stream",
     "text": [
      " GetUnip"
     ]
    },
    {
     "name": "stdout",
     "output_type": "stream",
     "text": [
      "rotID tool to get the"
     ]
    },
    {
     "name": "stdout",
     "output_type": "stream",
     "text": [
      " UniProt ID for fibronectin"
     ]
    },
    {
     "name": "stdout",
     "output_type": "stream",
     "text": [
      ".\n",
      "\n",
      "Action:\n",
      "```\n",
      "{\n"
     ]
    },
    {
     "name": "stdout",
     "output_type": "stream",
     "text": [
      "  \"action\": \"GetUnip"
     ]
    },
    {
     "name": "stdout",
     "output_type": "stream",
     "text": [
      "rotID\",\n",
      "  \"action_input\":"
     ]
    },
    {
     "name": "stdout",
     "output_type": "stream",
     "text": [
      " {\n",
      "    \"query\": \""
     ]
    },
    {
     "name": "stdout",
     "output_type": "stream",
     "text": [
      "fibronectin\",\n",
      "    \"all"
     ]
    },
    {
     "name": "stdout",
     "output_type": "stream",
     "text": [
      "_ids\": false\n",
      "  }\n",
      "}\n",
      "```"
     ]
    },
    {
     "name": "stdout",
     "output_type": "stream",
     "text": [
      "Thought:"
     ]
    },
    {
     "name": "stdout",
     "output_type": "stream",
     "text": [
      " Now that I have the UniProt"
     ]
    },
    {
     "name": "stdout",
     "output_type": "stream",
     "text": [
      " ID for fibronectin, I"
     ]
    },
    {
     "name": "stdout",
     "output_type": "stream",
     "text": [
      " can proceed with obtaining the subunit structure"
     ]
    },
    {
     "name": "stdout",
     "output_type": "stream",
     "text": [
      " and the number of beta sheets, hel"
     ]
    },
    {
     "name": "stdout",
     "output_type": "stream",
     "text": [
      "ices, etc. from the UniProt"
     ]
    },
    {
     "name": "stdout",
     "output_type": "stream",
     "text": [
      " database. I will use the GetSub"
     ]
    },
    {
     "name": "stdout",
     "output_type": "stream",
     "text": [
      "unitStructure tool to get the subunit"
     ]
    },
    {
     "name": "stdout",
     "output_type": "stream",
     "text": [
      " structure information for fibronectin.\n",
      "\n"
     ]
    },
    {
     "name": "stdout",
     "output_type": "stream",
     "text": [
      "Action:\n",
      "```\n",
      "{\n",
      "  \"action"
     ]
    },
    {
     "name": "stdout",
     "output_type": "stream",
     "text": [
      "\": \"GetSubunitStructure\",\n",
      " "
     ]
    },
    {
     "name": "stdout",
     "output_type": "stream",
     "text": [
      " \"action_input\": {\n",
      "    \"query"
     ]
    },
    {
     "name": "stdout",
     "output_type": "stream",
     "text": [
      "\": \"fibronectin\",\n",
      "   "
     ]
    },
    {
     "name": "stdout",
     "output_type": "stream",
     "text": [
      " \"primary_accession\": \"P027"
     ]
    },
    {
     "name": "stdout",
     "output_type": "stream",
     "text": [
      "51\"\n",
      "  }\n",
      "}\n",
      "```\n"
     ]
    },
    {
     "name": "stdout",
     "output_type": "stream",
     "text": [
      "Thought:"
     ]
    },
    {
     "name": "stdout",
     "output_type": "stream",
     "text": [
      " Now that I"
     ]
    },
    {
     "name": "stdout",
     "output_type": "stream",
     "text": [
      " have the subunit"
     ]
    },
    {
     "name": "stdout",
     "output_type": "stream",
     "text": [
      " structure information for fib"
     ]
    },
    {
     "name": "stdout",
     "output_type": "stream",
     "text": [
      "ronectin,"
     ]
    },
    {
     "name": "stdout",
     "output_type": "stream",
     "text": [
      " I can proceed with"
     ]
    },
    {
     "name": "stdout",
     "output_type": "stream",
     "text": [
      " obtaining the"
     ]
    },
    {
     "name": "stdout",
     "output_type": "stream",
     "text": [
      " number of beta sheets"
     ]
    },
    {
     "name": "stdout",
     "output_type": "stream",
     "text": [
      ", helices,"
     ]
    },
    {
     "name": "stdout",
     "output_type": "stream",
     "text": [
      " etc. from the"
     ]
    },
    {
     "name": "stdout",
     "output_type": "stream",
     "text": [
      " UniProt database."
     ]
    },
    {
     "name": "stdout",
     "output_type": "stream",
     "text": [
      " I will use the"
     ]
    },
    {
     "name": "stdout",
     "output_type": "stream",
     "text": [
      " GetTurnsBeta"
     ]
    },
    {
     "name": "stdout",
     "output_type": "stream",
     "text": [
      "SheetsHelices"
     ]
    },
    {
     "name": "stdout",
     "output_type": "stream",
     "text": [
      " tool to get the"
     ]
    },
    {
     "name": "stdout",
     "output_type": "stream",
     "text": [
      " number and location of"
     ]
    },
    {
     "name": "stdout",
     "output_type": "stream",
     "text": [
      " turns, beta sheets"
     ]
    },
    {
     "name": "stdout",
     "output_type": "stream",
     "text": [
      ", and helices"
     ]
    },
    {
     "name": "stdout",
     "output_type": "stream",
     "text": [
      " for fibronect"
     ]
    },
    {
     "name": "stdout",
     "output_type": "stream",
     "text": [
      "in.\n",
      "\n",
      "Action:\n"
     ]
    },
    {
     "name": "stdout",
     "output_type": "stream",
     "text": [
      "```\n",
      "{\n",
      " "
     ]
    },
    {
     "name": "stdout",
     "output_type": "stream",
     "text": [
      " \"action\": \""
     ]
    },
    {
     "name": "stdout",
     "output_type": "stream",
     "text": [
      "GetTurnsBeta"
     ]
    },
    {
     "name": "stdout",
     "output_type": "stream",
     "text": [
      "SheetsHelices"
     ]
    },
    {
     "name": "stdout",
     "output_type": "stream",
     "text": [
      "\",\n",
      "  \"action"
     ]
    },
    {
     "name": "stdout",
     "output_type": "stream",
     "text": [
      "_input\": {\n",
      "   "
     ]
    },
    {
     "name": "stdout",
     "output_type": "stream",
     "text": [
      " \"query\": \""
     ]
    },
    {
     "name": "stdout",
     "output_type": "stream",
     "text": [
      "fibronectin"
     ]
    },
    {
     "name": "stdout",
     "output_type": "stream",
     "text": [
      "\",\n",
      "    \"primary"
     ]
    },
    {
     "name": "stdout",
     "output_type": "stream",
     "text": [
      "_accession\": \""
     ]
    },
    {
     "name": "stdout",
     "output_type": "stream",
     "text": [
      "P02751\"\n"
     ]
    },
    {
     "name": "stdout",
     "output_type": "stream",
     "text": [
      "  }\n",
      "}\n",
      "``"
     ]
    },
    {
     "name": "stdout",
     "output_type": "stream",
     "text": [
      "`\n"
     ]
    },
    {
     "name": "stdout",
     "output_type": "stream",
     "text": [
      "Thought:"
     ]
    },
    {
     "name": "stdout",
     "output_type": "stream",
     "text": [
      " Now that I"
     ]
    },
    {
     "name": "stdout",
     "output_type": "stream",
     "text": [
      " have the subunit"
     ]
    },
    {
     "name": "stdout",
     "output_type": "stream",
     "text": [
      " structure information and the"
     ]
    },
    {
     "name": "stdout",
     "output_type": "stream",
     "text": [
      " number of beta sheets"
     ]
    },
    {
     "name": "stdout",
     "output_type": "stream",
     "text": [
      ", helices,"
     ]
    },
    {
     "name": "stdout",
     "output_type": "stream",
     "text": [
      " etc. for fib"
     ]
    },
    {
     "name": "stdout",
     "output_type": "stream",
     "text": [
      "ronectin,"
     ]
    },
    {
     "name": "stdout",
     "output_type": "stream",
     "text": [
      " I can compare this"
     ]
    },
    {
     "name": "stdout",
     "output_type": "stream",
     "text": [
      " information to the structure"
     ]
    },
    {
     "name": "stdout",
     "output_type": "stream",
     "text": [
      " we computed.\n",
      "\n",
      "Action"
     ]
    },
    {
     "name": "stdout",
     "output_type": "stream",
     "text": [
      ":\n",
      "```\n",
      "{\n"
     ]
    },
    {
     "name": "stdout",
     "output_type": "stream",
     "text": [
      "  \"action\":"
     ]
    },
    {
     "name": "stdout",
     "output_type": "stream",
     "text": [
      " \"Final Answer\",\n"
     ]
    },
    {
     "name": "stdout",
     "output_type": "stream",
     "text": [
      "  \"action_input"
     ]
    },
    {
     "name": "stdout",
     "output_type": "stream",
     "text": [
      "\": \"The simulation"
     ]
    },
    {
     "name": "stdout",
     "output_type": "stream",
     "text": [
      " of"
     ]
    },
    {
     "name": "stdout",
     "output_type": "stream",
     "text": [
      " fib"
     ]
    },
    {
     "name": "stdout",
     "output_type": "stream",
     "text": [
      "ronectin ("
     ]
    },
    {
     "name": "stdout",
     "output_type": "stream",
     "text": [
      "P"
     ]
    },
    {
     "name": "stdout",
     "output_type": "stream",
     "text": [
      "DB ID 1"
     ]
    },
    {
     "name": "stdout",
     "output_type": "stream",
     "text": [
      "FNF) for"
     ]
    },
    {
     "name": "stdout",
     "output_type": "stream",
     "text": [
      " 1 ns at"
     ]
    },
    {
     "name": "stdout",
     "output_type": "stream",
     "text": [
      " a temperature of "
     ]
    },
    {
     "name": "stdout",
     "output_type": "stream",
     "text": [
      "300 K was successful"
     ]
    },
    {
     "name": "stdout",
     "output_type": "stream",
     "text": [
      ". The RMSD"
     ]
    },
    {
     "name": "stdout",
     "output_type": "stream",
     "text": [
      " of the"
     ]
    },
    {
     "name": "stdout",
     "output_type": "stream",
     "text": [
      " simulated trajectory was calculated"
     ]
    },
    {
     "name": "stdout",
     "output_type": "stream",
     "text": [
      " and saved to a"
     ]
    },
    {
     "name": "stdout",
     "output_type": "stream",
     "text": [
      " csv"
     ]
    },
    {
     "name": "stdout",
     "output_type": "stream",
     "text": [
      " file with file ID"
     ]
    },
    {
     "name": "stdout",
     "output_type": "stream",
     "text": [
      " rmsd_fib"
     ]
    },
    {
     "name": "stdout",
     "output_type": "stream",
     "text": [
      "ronectin."
     ]
    },
    {
     "name": "stdout",
     "output_type": "stream",
     "text": [
      " The final secondary structure"
     ]
    },
    {
     "name": "stdout",
     "output_type": "stream",
     "text": [
      " of the simulated trajectory"
     ]
    },
    {
     "name": "stdout",
     "output_type": "stream",
     "text": [
      " was also calculated"
     ]
    },
    {
     "name": "stdout",
     "output_type": "stream",
     "text": [
      ", with"
     ]
    },
    {
     "name": "stdout",
     "output_type": "stream",
     "text": [
      " "
     ]
    },
    {
     "name": "stdout",
     "output_type": "stream",
     "text": [
      "9 residues in hel"
     ]
    },
    {
     "name": "stdout",
     "output_type": "stream",
     "text": [
      "ix, 126"
     ]
    },
    {
     "name": "stdout",
     "output_type": "stream",
     "text": [
      " residues in strand,"
     ]
    },
    {
     "name": "stdout",
     "output_type": "stream",
     "text": [
      " and 233 residues"
     ]
    },
    {
     "name": "stdout",
     "output_type": "stream",
     "text": [
      " in coil. The"
     ]
    },
    {
     "name": "stdout",
     "output_type": "stream",
     "text": [
      " subunit structure information"
     ]
    },
    {
     "name": "stdout",
     "output_type": "stream",
     "text": [
      " for fibronect"
     ]
    },
    {
     "name": "stdout",
     "output_type": "stream",
     "text": [
      "in was obtained from"
     ]
    },
    {
     "name": "stdout",
     "output_type": "stream",
     "text": [
      " the UniProt database"
     ]
    },
    {
     "name": "stdout",
     "output_type": "stream",
     "text": [
      ", which showed"
     ]
    },
    {
     "name": "stdout",
     "output_type": "stream",
     "text": [
      " that fibronect"
     ]
    },
    {
     "name": "stdout",
     "output_type": "stream",
     "text": [
      "in is mostly composed"
     ]
    },
    {
     "name": "stdout",
     "output_type": "stream",
     "text": [
      " of"
     ]
    },
    {
     "name": "stdout",
     "output_type": "stream",
     "text": [
      " heterodimers or"
     ]
    },
    {
     "name": "stdout",
     "output_type": "stream",
     "text": [
      " multimers of alternatively"
     ]
    },
    {
     "name": "stdout",
     "output_type": "stream",
     "text": [
      " spliced variants,"
     ]
    },
    {
     "name": "stdout",
     "output_type": "stream",
     "text": [
      " connected by 2"
     ]
    },
    {
     "name": "stdout",
     "output_type": "stream",
     "text": [
      " disulfide bonds"
     ]
    },
    {
     "name": "stdout",
     "output_type": "stream",
     "text": [
      " near the carbox"
     ]
    },
    {
     "name": "stdout",
     "output_type": "stream",
     "text": [
      "yl ends. The"
     ]
    },
    {
     "name": "stdout",
     "output_type": "stream",
     "text": [
      " number and location"
     ]
    },
    {
     "name": "stdout",
     "output_type": "stream",
     "text": [
      " of turns, beta"
     ]
    },
    {
     "name": "stdout",
     "output_type": "stream",
     "text": [
      " sheets, and hel"
     ]
    },
    {
     "name": "stdout",
     "output_type": "stream",
     "text": [
      "ices for fibron"
     ]
    },
    {
     "name": "stdout",
     "output_type": "stream",
     "text": [
      "ectin were also"
     ]
    },
    {
     "name": "stdout",
     "output_type": "stream",
     "text": [
      " obtained from the Uni"
     ]
    },
    {
     "name": "stdout",
     "output_type": "stream",
     "text": [
      "Prot database.\"\n",
      "}\n"
     ]
    },
    {
     "name": "stdout",
     "output_type": "stream",
     "text": [
      "```"
     ]
    }
   ],
   "source": [
    "prompt12 = \"Simulate fibronectin (PDB ID 1FNF) for 1 ns, using an appropriate temperature found in the literature. Compute the RMSD and the final secondary structure. By using the PDB ID to get the Uniprot ID, obtain the subunit structure and the number of beta sheets, helices, etc. Compare this information to the structure we computed.\"\n",
    "answer = agent.run(prompt12)"
   ]
  },
  {
   "cell_type": "code",
   "execution_count": 5,
   "id": "a31fd85f-9466-41da-ada4-0b9f86427723",
   "metadata": {
    "execution": {
     "iopub.execute_input": "2024-10-03T08:24:20.498392Z",
     "iopub.status.busy": "2024-10-03T08:24:20.498181Z",
     "iopub.status.idle": "2024-10-03T08:24:20.502146Z",
     "shell.execute_reply": "2024-10-03T08:24:20.501723Z"
    },
    "papermill": {
     "duration": 0.019584,
     "end_time": "2024-10-03T08:24:20.503324",
     "exception": false,
     "start_time": "2024-10-03T08:24:20.483740",
     "status": "completed"
    },
    "tags": []
   },
   "outputs": [
    {
     "name": "stdout",
     "output_type": "stream",
     "text": [
      "duration: 405.98 minutes\n"
     ]
    }
   ],
   "source": [
    "end = datetime.datetime.now()\n",
    "elapsed = end - start\n",
    "print(f\"duration: {elapsed.total_seconds()/60:.2f} minutes\")"
   ]
  },
  {
   "cell_type": "code",
   "execution_count": 6,
   "id": "55572852-a00c-498a-a60a-b366dc6a7db5",
   "metadata": {
    "execution": {
     "iopub.execute_input": "2024-10-03T08:24:20.530393Z",
     "iopub.status.busy": "2024-10-03T08:24:20.530192Z",
     "iopub.status.idle": "2024-10-03T08:24:38.374491Z",
     "shell.execute_reply": "2024-10-03T08:24:38.373948Z"
    },
    "papermill": {
     "duration": 17.859142,
     "end_time": "2024-10-03T08:24:38.375748",
     "exception": false,
     "start_time": "2024-10-03T08:24:20.516606",
     "status": "completed"
    },
    "tags": []
   },
   "outputs": [
    {
     "name": "stdout",
     "output_type": "stream",
     "text": [
      "ckpt_dir: ckpt_5\n",
      "Files found in registry: 1FNF_213844: PDB file downloaded from RSCB\n",
      " PDBFile ID: 1FNF_213844\n",
      " 1FNF_213852: Cleaned File:  Removed Heterogens\n",
      " and Water Removed.  Replaced Nonstandard Residues. Added Hydrogens at pH 7.0. Missing Atoms Added and replaces nonstandard residues. \n",
      " top_sim0_213855: Initial positions for simulation sim0_213855\n",
      " sim0_213855: Basic Simulation of Protein 1FNF_213852\n",
      " rec0_213856: Simulation trajectory for protein 1FNF_213852 and simulation sim0_213855\n",
      " rec1_213856: Simulation state log for protein 1FNF_213852 and simulation sim0_213855\n",
      " rec2_213856: Simulation pdb frames for protein 1FNF_213852 and simulation sim0_213855\n",
      " rmsd_fibronectin: RMSD for fibronectin\n",
      " fig0_042355: RMSD plot for fibronectin\n",
      " rec0_042357: dssp values for trajectory with id: rec0_213856\n"
     ]
    }
   ],
   "source": [
    "registry = agent.path_registry\n",
    "print('ckpt_dir:',os.path.basename(agent.path_registry.ckpt_dir))\n",
    "paths_and_descriptions = registry.list_path_names_and_descriptions()\n",
    "print(\"\\n\".join(paths_and_descriptions.split(\",\")))"
   ]
  },
  {
   "cell_type": "code",
   "execution_count": 7,
   "id": "e5233722-daa3-457c-9e94-9f3905025270",
   "metadata": {
    "execution": {
     "iopub.execute_input": "2024-10-03T08:24:38.405105Z",
     "iopub.status.busy": "2024-10-03T08:24:38.404889Z",
     "iopub.status.idle": "2024-10-03T08:24:38.408293Z",
     "shell.execute_reply": "2024-10-03T08:24:38.407773Z"
    },
    "papermill": {
     "duration": 0.018954,
     "end_time": "2024-10-03T08:24:38.409473",
     "exception": false,
     "start_time": "2024-10-03T08:24:38.390519",
     "status": "completed"
    },
    "tags": []
   },
   "outputs": [],
   "source": [
    "# ensure all files are in path registry\n",
    "assert all(n in paths_and_descriptions for n in ['1FNF','sim0', 'top_sim0', 'rec0']), \"Not all file ids are present in path registry\""
   ]
  },
  {
   "cell_type": "code",
   "execution_count": 2,
   "id": "5fed4f2b-7299-4af0-8a3d-f65c4795a50f",
   "metadata": {},
   "outputs": [
    {
     "name": "stdout",
     "output_type": "stream",
     "text": [
      "It's asserted that file paths for rec0_213856 and top_sim0_213855 exist\n"
     ]
    }
   ],
   "source": [
    "from mdcrow import MDCrow\n",
    "import re\n",
    "import os\n",
    "\n",
    "registry = MDCrow(ckpt_dir=\"ckpt_5\").path_registry\n",
    "paths_and_descriptions = registry.list_path_names_and_descriptions()\n",
    "\n",
    "\n",
    "match = re.search(r\"rec0_\\d+\", paths_and_descriptions)\n",
    "traj_id = match.group(0)\n",
    "traj_path = registry.get_mapped_path(traj_id)\n",
    "match = re.search(r\"top_sim0_\\d+\", paths_and_descriptions)\n",
    "top_id = match.group(0)\n",
    "top_path = registry.get_mapped_path(top_id)\n",
    "assert os.path.exists(traj_path), \"Trajectory file doesn't exist\"\n",
    "assert os.path.exists(top_path), \"Topology file doesn't exist\"\n",
    "assert traj_path != top_path\n",
    "assert traj_path.endswith(\".dcd\")\n",
    "assert top_path.endswith(\".pdb\")\n",
    "print(f\"It's asserted that file paths for {traj_id} and {top_id} exist\")"
   ]
  },
  {
   "cell_type": "code",
   "execution_count": 3,
   "id": "625efbef-61a8-42e6-affd-65372d2f0545",
   "metadata": {},
   "outputs": [
    {
     "name": "stdout",
     "output_type": "stream",
     "text": [
      "Simulation with 5584 atoms for 501 frames.\n",
      "Number of residues in chains:  1\n",
      "Number of residues in sheets:  126\n",
      "Number of residues in helices:  9\n",
      "Number of residues in coils:  233\n"
     ]
    }
   ],
   "source": [
    "import mdtraj as md\n",
    "traj = md.load(traj_path, top=top_path)\n",
    "print(f\"Simulation with {traj.n_atoms} atoms for {traj.n_frames} frames.\")\n",
    "\n",
    "#secondary structure\n",
    "traj = traj[-1]\n",
    "top = traj.topology\n",
    "number_of_chains = top.n_chains\n",
    "secondary_structure = md.compute_dssp(traj,simplified=True)\n",
    "print(\"Number of residues in chains: \",number_of_chains)\n",
    "print(\"Number of residues in sheets: \",len([i for i in secondary_structure[0] if i == 'E']))\n",
    "print(\"Number of residues in helices: \",len([i for i in secondary_structure[0] if i == 'H']))\n",
    "print(\"Number of residues in coils: \",len([i for i in secondary_structure[0] if i == 'C']))"
   ]
  },
  {
   "cell_type": "code",
   "execution_count": 4,
   "id": "59995c96-c011-4a78-9958-b0d048b06627",
   "metadata": {},
   "outputs": [
    {
     "name": "stdout",
     "output_type": "stream",
     "text": [
      "It is asserted that file path for fig0_042355 exist\n"
     ]
    }
   ],
   "source": [
    "matches = re.findall(r\"fig0_\\d+\", paths_and_descriptions)\n",
    "fig_id1 = matches[0]\n",
    "fig_path_1 = registry.get_mapped_path(fig_id1)\n",
    "\n",
    "assert os.path.exists(fig_path_1)\n",
    "print(f'It is asserted that file path for {fig_id1} exist')"
   ]
  },
  {
   "cell_type": "code",
   "execution_count": 5,
   "id": "9054fe1b-4ebc-442b-940a-0152db2ff1b4",
   "metadata": {},
   "outputs": [
    {
     "data": {
      "image/png": "[encoded data removed]",
      "text/plain": [
       "<IPython.core.display.Image object>"
      ]
     },
     "execution_count": 5,
     "metadata": {},
     "output_type": "execute_result"
    }
   ],
   "source": [
    "from IPython.display import Image\n",
    "Image(filename=fig_path_1)"
   ]
  }
 ],
 "metadata": {
  "kernelspec": {
   "display_name": "mdcrow",
   "language": "python",
   "name": "mdcrow"
  },
  "language_info": {
   "codemirror_mode": {
    "name": "ipython",
    "version": 3
   },
   "file_extension": ".py",
   "mimetype": "text/x-python",
   "name": "python",
   "nbconvert_exporter": "python",
   "pygments_lexer": "ipython3",
   "version": "3.12.4"
  },
  "papermill": {
   "default_parameters": {},
   "duration": 24490.580725,
   "end_time": "2024-10-03T08:24:39.885511",
   "environment_variables": {},
   "exception": null,
   "input_path": "exp_12.ipynb",
   "output_path": "results/exp_12.ipynb",
   "parameters": {},
   "start_time": "2024-10-03T01:36:29.304786",
   "version": "2.6.0"
  }
 },
 "nbformat": 4,
 "nbformat_minor": 5
}
