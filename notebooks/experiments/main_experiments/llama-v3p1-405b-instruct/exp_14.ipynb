{
 "cells": [
  {
   "cell_type": "code",
   "execution_count": 1,
   "id": "a87b1eba",
   "metadata": {
    "execution": {
     "iopub.execute_input": "2024-09-28T15:58:59.239236Z",
     "iopub.status.busy": "2024-09-28T15:58:59.239068Z",
     "iopub.status.idle": "2024-09-28T15:59:02.727388Z",
     "shell.execute_reply": "2024-09-28T15:59:02.726965Z"
    },
    "papermill": {
     "duration": 3.492443,
     "end_time": "2024-09-28T15:59:02.728985",
     "exception": false,
     "start_time": "2024-09-28T15:58:59.236542",
     "status": "completed"
    },
    "tags": []
   },
   "outputs": [],
   "source": [
    "import datetime\n",
    "import os\n",
    "from mdcrow import MDCrow"
   ]
  },
  {
   "cell_type": "code",
   "execution_count": 2,
   "id": "5f207b50",
   "metadata": {
    "execution": {
     "iopub.execute_input": "2024-09-28T15:59:02.733153Z",
     "iopub.status.busy": "2024-09-28T15:59:02.732754Z",
     "iopub.status.idle": "2024-09-28T15:59:02.963669Z",
     "shell.execute_reply": "2024-09-28T15:59:02.963288Z"
    },
    "papermill": {
     "duration": 0.23418,
     "end_time": "2024-09-28T15:59:02.964865",
     "exception": false,
     "start_time": "2024-09-28T15:59:02.730685",
     "status": "completed"
    },
    "tags": []
   },
   "outputs": [
    {
     "name": "stdout",
     "output_type": "stream",
     "text": [
      "date and time: 2024-09-28\n",
      "time: 11:59:02\n",
      "LLM:  accounts/fireworks/models/llama-v3p1-405b-instruct \n",
      "Temperature:  0.1\n"
     ]
    }
   ],
   "source": [
    "prompt14 = \"Simulate deoxygenated hemoglobin (1A3N) and oxygenated hemoglobin (6BB5). Plot the PCA of both trajectories.\"\n",
    "llm_var = \"accounts/fireworks/models/llama-v3p1-405b-instruct\"\n",
    "tools = \"all\"\n",
    "agent = MDCrow(agent_type=\"Structured\", model=llm_var, top_k_tools=tools)\n",
    "now = datetime.datetime.now()\n",
    "date = now.strftime(\"%Y-%m-%d\")\n",
    "print(\"date and time:\",date)\n",
    "time = now.strftime(\"%H:%M:%S\")\n",
    "print(\"time:\",time)\n",
    "print(\"LLM: \",agent.llm.model_name,\"\\nTemperature: \",agent.llm.temperature)"
   ]
  },
  {
   "cell_type": "code",
   "execution_count": 3,
   "id": "1244189e",
   "metadata": {
    "execution": {
     "iopub.execute_input": "2024-09-28T15:59:02.968563Z",
     "iopub.status.busy": "2024-09-28T15:59:02.968392Z",
     "iopub.status.idle": "2024-09-28T16:13:35.770148Z",
     "shell.execute_reply": "2024-09-28T16:13:35.769770Z"
    },
    "papermill": {
     "duration": 872.804968,
     "end_time": "2024-09-28T16:13:35.771387",
     "exception": false,
     "start_time": "2024-09-28T15:59:02.966419",
     "status": "completed"
    },
    "tags": []
   },
   "outputs": [
    {
     "name": "stdout",
     "output_type": "stream",
     "text": [
      "Thought:"
     ]
    },
    {
     "name": "stdout",
     "output_type": "stream",
     "text": [
      " First, I need to download"
     ]
    },
    {
     "name": "stdout",
     "output_type": "stream",
     "text": [
      " the PDB files for deoxygen"
     ]
    },
    {
     "name": "stdout",
     "output_type": "stream",
     "text": [
      "ated hemoglobin (1A3N"
     ]
    },
    {
     "name": "stdout",
     "output_type": "stream",
     "text": [
      ") and oxygenated hemoglobin (6"
     ]
    },
    {
     "name": "stdout",
     "output_type": "stream",
     "text": [
      "BB5) using the PDBFile"
     ]
    },
    {
     "name": "stdout",
     "output_type": "stream",
     "text": [
      "Downloader tool.\n",
      "\n",
      "Action:\n",
      "```\n",
      "{\n"
     ]
    },
    {
     "name": "stdout",
     "output_type": "stream",
     "text": [
      "  \"action\": \"P"
     ]
    },
    {
     "name": "stdout",
     "output_type": "stream",
     "text": [
      "DBFileDownloader\",\n",
      "  \"action_input"
     ]
    },
    {
     "name": "stdout",
     "output_type": "stream",
     "text": [
      "\": \"1A3N\"\n",
      "}\n"
     ]
    },
    {
     "name": "stdout",
     "output_type": "stream",
     "text": [
      "```\n"
     ]
    },
    {
     "name": "stdout",
     "output_type": "stream",
     "text": [
      "PDB file found with this ID: 1A3N\n"
     ]
    },
    {
     "name": "stdout",
     "output_type": "stream",
     "text": [
      "Next,"
     ]
    },
    {
     "name": "stdout",
     "output_type": "stream",
     "text": [
      " I need to download the PDB file"
     ]
    },
    {
     "name": "stdout",
     "output_type": "stream",
     "text": [
      " for oxygenated hemoglobin (6BB"
     ]
    },
    {
     "name": "stdout",
     "output_type": "stream",
     "text": [
      "5) using the PDBFileDownloader"
     ]
    },
    {
     "name": "stdout",
     "output_type": "stream",
     "text": [
      " tool.\n",
      "\n",
      "Action:\n",
      "```\n",
      "{\n",
      " "
     ]
    },
    {
     "name": "stdout",
     "output_type": "stream",
     "text": [
      " \"action\": \"PDBFileDownloader"
     ]
    },
    {
     "name": "stdout",
     "output_type": "stream",
     "text": [
      "\",\n",
      "  \"action_input\": \"6"
     ]
    },
    {
     "name": "stdout",
     "output_type": "stream",
     "text": [
      "BB5\"\n",
      "}\n"
     ]
    },
    {
     "name": "stdout",
     "output_type": "stream",
     "text": [
      "```"
     ]
    },
    {
     "name": "stdout",
     "output_type": "stream",
     "text": [
      "PDB file found with this ID: 6BB5\n"
     ]
    },
    {
     "name": "stdout",
     "output_type": "stream",
     "text": [
      "Thought:"
     ]
    },
    {
     "name": "stdout",
     "output_type": "stream",
     "text": [
      " Now that I have the PDB files"
     ]
    },
    {
     "name": "stdout",
     "output_type": "stream",
     "text": [
      " for both deoxygenated and oxygen"
     ]
    },
    {
     "name": "stdout",
     "output_type": "stream",
     "text": [
      "ated hemoglobin, I need to set"
     ]
    },
    {
     "name": "stdout",
     "output_type": "stream",
     "text": [
      " up and run a simulation"
     ]
    },
    {
     "name": "stdout",
     "output_type": "stream",
     "text": [
      " for each of them"
     ]
    },
    {
     "name": "stdout",
     "output_type": "stream",
     "text": [
      " using the SetUpandRunFunction tool.\n",
      "\n"
     ]
    },
    {
     "name": "stdout",
     "output_type": "stream",
     "text": [
      "Action:\n",
      "```\n",
      "{\n",
      "  \"action"
     ]
    },
    {
     "name": "stdout",
     "output_type": "stream",
     "text": [
      "\": \"SetUpandRunFunction\",\n",
      " "
     ]
    },
    {
     "name": "stdout",
     "output_type": "stream",
     "text": [
      " \"action_input\": {\n",
      "   "
     ]
    },
    {
     "name": "stdout",
     "output_type": "stream",
     "text": [
      " \"pdb_id\": \"1A3"
     ]
    },
    {
     "name": "stdout",
     "output_type": "stream",
     "text": [
      "N_115905\",\n",
      "    \"force"
     ]
    },
    {
     "name": "stdout",
     "output_type": "stream",
     "text": [
      "field_files\": [\"amber99sbild"
     ]
    },
    {
     "name": "stdout",
     "output_type": "stream",
     "text": [
      "n.xml\"],\n",
      "    \"save\": true"
     ]
    },
    {
     "name": "stdout",
     "output_type": "stream",
     "text": [
      ",\n",
      "    \"system_params\": {\n",
      "     "
     ]
    },
    {
     "name": "stdout",
     "output_type": "stream",
     "text": [
      " \"nonbondedMethod\": \"No"
     ]
    },
    {
     "name": "stdout",
     "output_type": "stream",
     "text": [
      "Cutoff\",\n",
      "      \"constraints\":"
     ]
    },
    {
     "name": "stdout",
     "output_type": "stream",
     "text": [
      " \"None\",\n",
      "      \"rigidWater"
     ]
    },
    {
     "name": "stdout",
     "output_type": "stream",
     "text": [
      "\": false\n",
      "    },\n",
      "    \""
     ]
    },
    {
     "name": "stdout",
     "output_type": "stream",
     "text": [
      "integrator_params\": {\n",
      "      \"integr"
     ]
    },
    {
     "name": "stdout",
     "output_type": "stream",
     "text": [
      "ator_type\": \"LangevinMiddle"
     ]
    },
    {
     "name": "stdout",
     "output_type": "stream",
     "text": [
      "\",\n",
      "      \"Temperature\": \"300 *"
     ]
    },
    {
     "name": "stdout",
     "output_type": "stream",
     "text": [
      " kelvin\",\n",
      "      \"Friction\":"
     ]
    },
    {
     "name": "stdout",
     "output_type": "stream",
     "text": [
      " \"1.0 / picoseconds\",\n"
     ]
    },
    {
     "name": "stdout",
     "output_type": "stream",
     "text": [
      "      \"Timestep\": \"0."
     ]
    },
    {
     "name": "stdout",
     "output_type": "stream",
     "text": [
      "002 * picoseconds\",\n",
      "      \"Pressure"
     ]
    },
    {
     "name": "stdout",
     "output_type": "stream",
     "text": [
      "\": \"1.0 * bar\"\n"
     ]
    },
    {
     "name": "stdout",
     "output_type": "stream",
     "text": [
      "    },\n",
      "    \""
     ]
    },
    {
     "name": "stdout",
     "output_type": "stream",
     "text": [
      "simulation_params\": {\n",
      "      \"Ensemble"
     ]
    },
    {
     "name": "stdout",
     "output_type": "stream",
     "text": [
      "\": \"NVT\",\n",
      "      \"Number"
     ]
    },
    {
     "name": "stdout",
     "output_type": "stream",
     "text": [
      " of Steps\": 5000,\n",
      "     "
     ]
    },
    {
     "name": "stdout",
     "output_type": "stream",
     "text": [
      " \"record_interval_steps\": 100,\n"
     ]
    },
    {
     "name": "stdout",
     "output_type": "stream",
     "text": [
      "      \"record_params\": [\"step\","
     ]
    },
    {
     "name": "stdout",
     "output_type": "stream",
     "text": [
      " \"potentialEnergy\", \"temperature\"]\n",
      "   "
     ]
    },
    {
     "name": "stdout",
     "output_type": "stream",
     "text": [
      " }\n",
      "  }\n",
      "}\n",
      "```"
     ]
    },
    {
     "name": "stdout",
     "output_type": "stream",
     "text": [
      "Building system...\n"
     ]
    },
    {
     "name": "stdout",
     "output_type": "stream",
     "text": [
      "About to create system...\n",
      "Attempts at creating system: 0/3\n",
      "adding system without solvent\n",
      "Trying to add component to Forcefield...\n",
      "Residue code: VAL\n",
      "Residue code not in solvent list. Adding forcefield                         not supported.\n"
     ]
    },
    {
     "name": "stdout",
     "output_type": "stream",
     "text": [
      "Thought:"
     ]
    },
    {
     "name": "stdout",
     "output_type": "stream",
     "text": [
      " The simulation failed due"
     ]
    },
    {
     "name": "stdout",
     "output_type": "stream",
     "text": [
      " to a missing template for"
     ]
    },
    {
     "name": "stdout",
     "output_type": "stream",
     "text": [
      " residue 1 (VAL) in"
     ]
    },
    {
     "name": "stdout",
     "output_type": "stream",
     "text": [
      " the PDB file 1"
     ]
    },
    {
     "name": "stdout",
     "output_type": "stream",
     "text": [
      "A3N_115905. This"
     ]
    },
    {
     "name": "stdout",
     "output_type": "stream",
     "text": [
      " is likely"
     ]
    },
    {
     "name": "stdout",
     "output_type": "stream",
     "text": [
      " because the PDB file contains"
     ]
    },
    {
     "name": "stdout",
     "output_type": "stream",
     "text": [
      " a"
     ]
    },
    {
     "name": "stdout",
     "output_type": "stream",
     "text": [
      " non-standard residue or a"
     ]
    },
    {
     "name": "stdout",
     "output_type": "stream",
     "text": [
      " residue with missing atoms. To fix this"
     ]
    },
    {
     "name": "stdout",
     "output_type": "stream",
     "text": [
      ", I need to clean the"
     ]
    },
    {
     "name": "stdout",
     "output_type": "stream",
     "text": [
      " PDB file using the CleaningToolFunction"
     ]
    },
    {
     "name": "stdout",
     "output_type": "stream",
     "text": [
      " tool.\n",
      "\n",
      "Action:\n",
      "```\n",
      "{\n",
      " "
     ]
    },
    {
     "name": "stdout",
     "output_type": "stream",
     "text": [
      " \"action\": \"CleaningToolFunction\",\n"
     ]
    },
    {
     "name": "stdout",
     "output_type": "stream",
     "text": [
      "  \"action_input\": {\n",
      "    \""
     ]
    },
    {
     "name": "stdout",
     "output_type": "stream",
     "text": [
      "pdb_id\": \"1A3N"
     ]
    },
    {
     "name": "stdout",
     "output_type": "stream",
     "text": [
      "_115905\",\n",
      "    \"replace_non"
     ]
    },
    {
     "name": "stdout",
     "output_type": "stream",
     "text": [
      "standard_residues\": true,\n",
      "   "
     ]
    },
    {
     "name": "stdout",
     "output_type": "stream",
     "text": [
      " \"add_missing_atoms\": true,\n",
      "   "
     ]
    },
    {
     "name": "stdout",
     "output_type": "stream",
     "text": [
      " \"remove_heterogens\": true,\n"
     ]
    },
    {
     "name": "stdout",
     "output_type": "stream",
     "text": [
      "    \"remove_water\": true,\n",
      "   "
     ]
    },
    {
     "name": "stdout",
     "output_type": "stream",
     "text": [
      " \"add_hydrogens\": true,\n"
     ]
    },
    {
     "name": "stdout",
     "output_type": "stream",
     "text": [
      "    \"add_hydrogens_ph\":"
     ]
    },
    {
     "name": "stdout",
     "output_type": "stream",
     "text": [
      " 7.0\n",
      "  }\n",
      "}\n"
     ]
    },
    {
     "name": "stdout",
     "output_type": "stream",
     "text": [
      "```"
     ]
    },
    {
     "name": "stdout",
     "output_type": "stream",
     "text": [
      "file path: /gpfs/fs2/scratch/qcampbe2/repos/md-agent/ckpt/ckpt_18/pdb/1A3N_raw_20240928_115905.pdb\n"
     ]
    },
    {
     "name": "stdout",
     "output_type": "stream",
     "text": [
      "Thought:"
     ]
    },
    {
     "name": "stdout",
     "output_type": "stream",
     "text": [
      " Now that the PDB file for"
     ]
    },
    {
     "name": "stdout",
     "output_type": "stream",
     "text": [
      " deoxygenated hem"
     ]
    },
    {
     "name": "stdout",
     "output_type": "stream",
     "text": [
      "oglobin (1A3N) has"
     ]
    },
    {
     "name": "stdout",
     "output_type": "stream",
     "text": [
      " been cleaned, I can try"
     ]
    },
    {
     "name": "stdout",
     "output_type": "stream",
     "text": [
      " setting up"
     ]
    },
    {
     "name": "stdout",
     "output_type": "stream",
     "text": [
      " and running the simulation again using the SetUp"
     ]
    },
    {
     "name": "stdout",
     "output_type": "stream",
     "text": [
      "andRunFunction tool.\n",
      "\n",
      "Action:\n",
      "``"
     ]
    },
    {
     "name": "stdout",
     "output_type": "stream",
     "text": [
      "`\n",
      "{\n",
      "  \"action\": \"SetUp"
     ]
    },
    {
     "name": "stdout",
     "output_type": "stream",
     "text": [
      "andRunFunction\",\n",
      "  \"action_input"
     ]
    },
    {
     "name": "stdout",
     "output_type": "stream",
     "text": [
      "\": {\n",
      "    \"pdb_id\": \""
     ]
    },
    {
     "name": "stdout",
     "output_type": "stream",
     "text": [
      "1A3N_115928\",\n"
     ]
    },
    {
     "name": "stdout",
     "output_type": "stream",
     "text": [
      "    \"forcefield_files\": [\"amber"
     ]
    },
    {
     "name": "stdout",
     "output_type": "stream",
     "text": [
      "99sbildn.xml\"],\n",
      "    \""
     ]
    },
    {
     "name": "stdout",
     "output_type": "stream",
     "text": [
      "save\": true,\n",
      "    \"system_params"
     ]
    },
    {
     "name": "stdout",
     "output_type": "stream",
     "text": [
      "\": {\n",
      "      \"nonbondedMethod"
     ]
    },
    {
     "name": "stdout",
     "output_type": "stream",
     "text": [
      "\": \"NoCutoff\",\n",
      "      \""
     ]
    },
    {
     "name": "stdout",
     "output_type": "stream",
     "text": [
      "constraints\": \"None\",\n",
      "      \"rig"
     ]
    },
    {
     "name": "stdout",
     "output_type": "stream",
     "text": [
      "idWater\": false\n",
      "    },\n",
      "   "
     ]
    },
    {
     "name": "stdout",
     "output_type": "stream",
     "text": [
      " \"integrator_params\": {\n",
      "      \""
     ]
    },
    {
     "name": "stdout",
     "output_type": "stream",
     "text": [
      "integrator_type\": \"Langevin"
     ]
    },
    {
     "name": "stdout",
     "output_type": "stream",
     "text": [
      "Middle\",\n",
      "      \"Temperature\": \"300"
     ]
    },
    {
     "name": "stdout",
     "output_type": "stream",
     "text": [
      " * kelvin\",\n",
      "      \"Friction"
     ]
    },
    {
     "name": "stdout",
     "output_type": "stream",
     "text": [
      "\": \"1.0 / picoseconds"
     ]
    },
    {
     "name": "stdout",
     "output_type": "stream",
     "text": [
      "\",\n",
      "      \"Timestep\": \"0"
     ]
    },
    {
     "name": "stdout",
     "output_type": "stream",
     "text": [
      ".002 * picoseconds\",\n",
      "      \""
     ]
    },
    {
     "name": "stdout",
     "output_type": "stream",
     "text": [
      "Pressure\": \"1.0 * bar"
     ]
    },
    {
     "name": "stdout",
     "output_type": "stream",
     "text": [
      "\"\n",
      "    },\n",
      "    \"simulation_params\":"
     ]
    },
    {
     "name": "stdout",
     "output_type": "stream",
     "text": [
      " {\n",
      "      \"Ensemble\": \"N"
     ]
    },
    {
     "name": "stdout",
     "output_type": "stream",
     "text": [
      "VT\",\n",
      "      \"Number of Steps\":"
     ]
    },
    {
     "name": "stdout",
     "output_type": "stream",
     "text": [
      " 5000,\n",
      "      \"record_interval"
     ]
    },
    {
     "name": "stdout",
     "output_type": "stream",
     "text": [
      "_steps\": 100,\n",
      "      \"record"
     ]
    },
    {
     "name": "stdout",
     "output_type": "stream",
     "text": [
      "_params\": [\"step\", \"potentialEnergy"
     ]
    },
    {
     "name": "stdout",
     "output_type": "stream",
     "text": [
      "\", \"temperature\"]\n",
      "    }\n",
      "  }\n"
     ]
    },
    {
     "name": "stdout",
     "output_type": "stream",
     "text": [
      "}\n",
      "```"
     ]
    },
    {
     "name": "stdout",
     "output_type": "stream",
     "text": [
      "Building system...\n"
     ]
    },
    {
     "name": "stdout",
     "output_type": "stream",
     "text": [
      "About to create system...\n",
      "Attempts at creating system: 0/3\n",
      "adding system without solvent\n"
     ]
    },
    {
     "name": "stdout",
     "output_type": "stream",
     "text": [
      "System built successfully\n",
      "<openmm.openmm.System; proxy of <Swig Object of type 'OpenMM::System *' at 0x2b15b7887cc0> >\n",
      "Setting up integrator...\n",
      "Creating simulation...\n",
      "simulation set!\n",
      "Performing energy minimization...\n"
     ]
    },
    {
     "name": "stdout",
     "output_type": "stream",
     "text": [
      "Minimization complete!\n",
      "Initial Positions saved to initial_positions.pdb\n",
      "Equilibrating...\n"
     ]
    },
    {
     "name": "stdout",
     "output_type": "stream",
     "text": [
      "Simulating...\n"
     ]
    },
    {
     "name": "stdout",
     "output_type": "stream",
     "text": [
      "Done!\n",
      "Standalone simulation script written to /gpfs/fs2/scratch/qcampbe2/repos/md-agent/ckpt/ckpt_18/simulations/NVT_1A3N_115928_20240928_115931.py\n",
      "['exp_12_output.ipynb', 'exp_10.ipynb', 'out.exp12_405b', 'out.exp7_405b', 'exp_13.ipynb', 'exp_22.ipynb', 'exp_7-Copy1.ipynb', 'exp_8.ipynb', 'TRAJ_sim0_114506_1ZNI_114500_20240928_114508.dcd', 'exp_14-Copy1.ipynb', 'out.exp15_405b', 'exp14.sh', 'TOP_sim0_115618_1TRN_115615_20240928_115619.pdb', 'exp_14_output.ipynb', 'LOG_sim0_115815_1TRN_115812_20240928_115816.txt', 'TRAJ_sim0_115712_6BB5_115708_20240928_115713.dcd', 'LOG_sim0_114452_1FNF_114448_20240928_114453.txt', 'exp_3.ipynb', 'exp_19_updated.ipynb', 'exp_17.ipynb', 'exp_1.ipynb', 'TRAJ_sim0_115618_1TRN_115615_20240928_115619.dcd', '.ipynb_checkpoints', 'TOP_sim0_120158_1FNF_120154_20240928_120158.pdb', 'exp_15_output.ipynb', 'exp_4.ipynb', 'TRAJ_sim0_115815_1TRN_115812_20240928_115816.dcd', 'TRAJ_sim0_114452_1FNF_114448_20240928_114453.dcd', 'exp_24.ipynb', 'exp_3-Copy1.ipynb', 'exp12.sh', 'LOG_sim0_115712_6BB5_115708_20240928_115713.txt', 'exp_12.ipynb', 'exp_15-Copy1.ipynb', 'exp_12-Copy1.ipynb', 'exp_19.ipynb', 'LOG_sim0_115931_1A3N_115928_20240928_115932.txt', 'TOP_sim0_114506_1ZNI_114500_20240928_114508.pdb', 'exp_9.ipynb', 'exp_5.ipynb', 'exp_7.ipynb', 'TOP_sim0_115712_6BB5_115708_20240928_115713.pdb', 'TOP_sim0_114452_1FNF_114448_20240928_114453.pdb', 'LOG_sim0_114506_1ZNI_114500_20240928_114508.txt', 'exp_2.ipynb', 'TRAJ_sim0_115931_1A3N_115928_20240928_115932.dcd', 'LOG_sim0_120158_1FNF_120154_20240928_120158.txt', 'exp_18.ipynb', 'exp_14.ipynb', 'LOG_sim0_115618_1TRN_115615_20240928_115619.txt', 'TOP_sim0_115815_1TRN_115812_20240928_115816.pdb', 'exp15.sh', 'exp_15.ipynb', 'exp_6.ipynb', 'exp_7_output.ipynb', 'exp7.sh', 'exp_20.ipynb', 'exp_23.ipynb', 'exp_16.ipynb', 'exp_11.ipynb', 'exp_21.ipynb', 'TOP_sim0_115931_1A3N_115928_20240928_115932.pdb', 'exp_25.ipynb', 'TRAJ_sim0_120158_1FNF_120154_20240928_120158.dcd', 'out.exp14_405b']\n"
     ]
    },
    {
     "name": "stdout",
     "output_type": "stream",
     "text": [
      "Thought:"
     ]
    },
    {
     "name": "stdout",
     "output_type": "stream",
     "text": [
      " Now that the simulation"
     ]
    },
    {
     "name": "stdout",
     "output_type": "stream",
     "text": [
      " for deoxygenated hemoglobin ("
     ]
    },
    {
     "name": "stdout",
     "output_type": "stream",
     "text": [
      "1A3N) has been successfully"
     ]
    },
    {
     "name": "stdout",
     "output_type": "stream",
     "text": [
      " run, I need to set"
     ]
    },
    {
     "name": "stdout",
     "output_type": "stream",
     "text": [
      " up and run a simulation for oxygenated"
     ]
    },
    {
     "name": "stdout",
     "output_type": "stream",
     "text": [
      " hemoglobin (6BB5) using"
     ]
    },
    {
     "name": "stdout",
     "output_type": "stream",
     "text": [
      " the SetUpandRunFunction tool.\n",
      "\n",
      "Action"
     ]
    },
    {
     "name": "stdout",
     "output_type": "stream",
     "text": [
      ":\n",
      "```\n",
      "{\n",
      "  \"action\":"
     ]
    },
    {
     "name": "stdout",
     "output_type": "stream",
     "text": [
      " \"SetUpandRunFunction\",\n",
      "  \""
     ]
    },
    {
     "name": "stdout",
     "output_type": "stream",
     "text": [
      "action_input\": {\n",
      "    \"pdb_id"
     ]
    },
    {
     "name": "stdout",
     "output_type": "stream",
     "text": [
      "\": \"6BB5_115906"
     ]
    },
    {
     "name": "stdout",
     "output_type": "stream",
     "text": [
      "\",\n",
      "    \"forcefield_files\": [\""
     ]
    },
    {
     "name": "stdout",
     "output_type": "stream",
     "text": [
      "amber99sbildn.xml\"],\n",
      "   "
     ]
    },
    {
     "name": "stdout",
     "output_type": "stream",
     "text": [
      " \"save\": true,\n",
      "    \"system"
     ]
    },
    {
     "name": "stdout",
     "output_type": "stream",
     "text": [
      "_params\": {\n",
      "      \"nonbonded"
     ]
    },
    {
     "name": "stdout",
     "output_type": "stream",
     "text": [
      "Method\": \"NoCutoff\",\n",
      "     "
     ]
    },
    {
     "name": "stdout",
     "output_type": "stream",
     "text": [
      " \"constraints\": \"None\",\n",
      "      \""
     ]
    },
    {
     "name": "stdout",
     "output_type": "stream",
     "text": [
      "rigidWater\": false\n",
      "    },\n"
     ]
    },
    {
     "name": "stdout",
     "output_type": "stream",
     "text": [
      "    \"integrator_params\": {\n",
      "     "
     ]
    },
    {
     "name": "stdout",
     "output_type": "stream",
     "text": [
      " \"integrator_type\": \"Lange"
     ]
    },
    {
     "name": "stdout",
     "output_type": "stream",
     "text": [
      "vinMiddle\",\n",
      "      \"Temperature\": \""
     ]
    },
    {
     "name": "stdout",
     "output_type": "stream",
     "text": [
      "300 * kelvin\",\n",
      "      \"Fr"
     ]
    },
    {
     "name": "stdout",
     "output_type": "stream",
     "text": [
      "iction\": \"1.0 / pic"
     ]
    },
    {
     "name": "stdout",
     "output_type": "stream",
     "text": [
      "oseconds\",\n",
      "      \"Timestep\": \""
     ]
    },
    {
     "name": "stdout",
     "output_type": "stream",
     "text": [
      "0.002 * picoseconds\",\n",
      "     "
     ]
    },
    {
     "name": "stdout",
     "output_type": "stream",
     "text": [
      " \"Pressure\": \"1.0 *"
     ]
    },
    {
     "name": "stdout",
     "output_type": "stream",
     "text": [
      " bar\"\n",
      "    },\n",
      "    \"simulation_params"
     ]
    },
    {
     "name": "stdout",
     "output_type": "stream",
     "text": [
      "\": {\n",
      "      \"Ensemble\": \""
     ]
    },
    {
     "name": "stdout",
     "output_type": "stream",
     "text": [
      "NVT\",\n",
      "      \"Number of Steps"
     ]
    },
    {
     "name": "stdout",
     "output_type": "stream",
     "text": [
      "\": 5000,\n",
      "      \"record"
     ]
    },
    {
     "name": "stdout",
     "output_type": "stream",
     "text": [
      "_interval_steps\": 100,\n",
      "      \""
     ]
    },
    {
     "name": "stdout",
     "output_type": "stream",
     "text": [
      "record_params\": [\"step\", \"potential"
     ]
    },
    {
     "name": "stdout",
     "output_type": "stream",
     "text": [
      "Energy\", \"temperature\"]\n",
      "    }\n",
      " "
     ]
    },
    {
     "name": "stdout",
     "output_type": "stream",
     "text": [
      " }\n",
      "}\n",
      "```"
     ]
    },
    {
     "name": "stdout",
     "output_type": "stream",
     "text": [
      "Building system...\n"
     ]
    },
    {
     "name": "stdout",
     "output_type": "stream",
     "text": [
      "About to create system...\n",
      "Attempts at creating system: 0/3\n",
      "adding system without solvent\n",
      "Trying to add component to Forcefield...\n",
      "Residue code: LEU\n",
      "Residue code not in solvent list. Adding forcefield                         not supported.\n"
     ]
    },
    {
     "name": "stdout",
     "output_type": "stream",
     "text": [
      "Thought:"
     ]
    },
    {
     "name": "stdout",
     "output_type": "stream",
     "text": [
      " The simulation for oxygenated hemoglobin"
     ]
    },
    {
     "name": "stdout",
     "output_type": "stream",
     "text": [
      " (6BB5) failed due to"
     ]
    },
    {
     "name": "stdout",
     "output_type": "stream",
     "text": [
      " a missing template for residue 1 ("
     ]
    },
    {
     "name": "stdout",
     "output_type": "stream",
     "text": [
      "LEU) in"
     ]
    },
    {
     "name": "stdout",
     "output_type": "stream",
     "text": [
      " the PDB file 6BB5"
     ]
    },
    {
     "name": "stdout",
     "output_type": "stream",
     "text": [
      "_115906. This is likely because"
     ]
    },
    {
     "name": "stdout",
     "output_type": "stream",
     "text": [
      " the PDB file contains a non-standard"
     ]
    },
    {
     "name": "stdout",
     "output_type": "stream",
     "text": [
      " residue or a residue with missing atoms."
     ]
    },
    {
     "name": "stdout",
     "output_type": "stream",
     "text": [
      " To fix this, I need to clean"
     ]
    },
    {
     "name": "stdout",
     "output_type": "stream",
     "text": [
      " the PDB file using the CleaningTool"
     ]
    },
    {
     "name": "stdout",
     "output_type": "stream",
     "text": [
      "Function tool.\n",
      "\n",
      "Action:\n",
      "```\n",
      "{\n"
     ]
    },
    {
     "name": "stdout",
     "output_type": "stream",
     "text": [
      "  \"action\": \"CleaningToolFunction"
     ]
    },
    {
     "name": "stdout",
     "output_type": "stream",
     "text": [
      "\",\n",
      "  \"action_input\": {\n",
      "   "
     ]
    },
    {
     "name": "stdout",
     "output_type": "stream",
     "text": [
      " \"pdb_id\": \"6BB5"
     ]
    },
    {
     "name": "stdout",
     "output_type": "stream",
     "text": [
      "_115906\",\n",
      "    \"replace_non"
     ]
    },
    {
     "name": "stdout",
     "output_type": "stream",
     "text": [
      "standard_residues\": true,\n",
      "   "
     ]
    },
    {
     "name": "stdout",
     "output_type": "stream",
     "text": [
      " \"add_missing_atoms\": true,\n",
      "   "
     ]
    },
    {
     "name": "stdout",
     "output_type": "stream",
     "text": [
      " \"remove_heterogens\": true,\n"
     ]
    },
    {
     "name": "stdout",
     "output_type": "stream",
     "text": [
      "    \"remove_water\": true,\n",
      "   "
     ]
    },
    {
     "name": "stdout",
     "output_type": "stream",
     "text": [
      " \"add_hydrogens\": true,\n"
     ]
    },
    {
     "name": "stdout",
     "output_type": "stream",
     "text": [
      "    \"add_hydrogens_ph\":"
     ]
    },
    {
     "name": "stdout",
     "output_type": "stream",
     "text": [
      " 7.0\n",
      "  }\n",
      "}\n"
     ]
    },
    {
     "name": "stdout",
     "output_type": "stream",
     "text": [
      "```"
     ]
    },
    {
     "name": "stdout",
     "output_type": "stream",
     "text": [
      "file path: /gpfs/fs2/scratch/qcampbe2/repos/md-agent/ckpt/ckpt_18/pdb/6BB5_raw_20240928_115906.pdb\n"
     ]
    },
    {
     "name": "stdout",
     "output_type": "stream",
     "text": [
      "Thought:"
     ]
    },
    {
     "name": "stdout",
     "output_type": "stream",
     "text": [
      " Now that the PDB file for"
     ]
    },
    {
     "name": "stdout",
     "output_type": "stream",
     "text": [
      " oxygenated hemoglobin (6BB5"
     ]
    },
    {
     "name": "stdout",
     "output_type": "stream",
     "text": [
      ") has been cleaned, I can try"
     ]
    },
    {
     "name": "stdout",
     "output_type": "stream",
     "text": [
      " setting up and running the simulation again using"
     ]
    },
    {
     "name": "stdout",
     "output_type": "stream",
     "text": [
      " the SetUpandRunFunction tool.\n",
      "\n",
      "Action"
     ]
    },
    {
     "name": "stdout",
     "output_type": "stream",
     "text": [
      ":\n",
      "```\n",
      "{\n",
      "  \"action\":"
     ]
    },
    {
     "name": "stdout",
     "output_type": "stream",
     "text": [
      " \"SetUpandRunFunction\",\n",
      "  \""
     ]
    },
    {
     "name": "stdout",
     "output_type": "stream",
     "text": [
      "action_input\": {\n",
      "    \"pdb_id"
     ]
    },
    {
     "name": "stdout",
     "output_type": "stream",
     "text": [
      "\": \"6BB5_121010"
     ]
    },
    {
     "name": "stdout",
     "output_type": "stream",
     "text": [
      "\",\n",
      "    \"forcefield_files\": [\""
     ]
    },
    {
     "name": "stdout",
     "output_type": "stream",
     "text": [
      "amber99sbildn.xml\"],\n",
      "   "
     ]
    },
    {
     "name": "stdout",
     "output_type": "stream",
     "text": [
      " \"save\": true,\n",
      "    \"system"
     ]
    },
    {
     "name": "stdout",
     "output_type": "stream",
     "text": [
      "_params\": {\n",
      "     "
     ]
    },
    {
     "name": "stdout",
     "output_type": "stream",
     "text": [
      " \"nonbondedMethod\": \"No"
     ]
    },
    {
     "name": "stdout",
     "output_type": "stream",
     "text": [
      "Cutoff\",\n",
      "      \"constraints\": \""
     ]
    },
    {
     "name": "stdout",
     "output_type": "stream",
     "text": [
      "None\",\n",
      "      \"rigidWater\":"
     ]
    },
    {
     "name": "stdout",
     "output_type": "stream",
     "text": [
      " false\n",
      "    },\n",
      "    \"integrator"
     ]
    },
    {
     "name": "stdout",
     "output_type": "stream",
     "text": [
      "_params\": {\n",
      "      \"integrator_type"
     ]
    },
    {
     "name": "stdout",
     "output_type": "stream",
     "text": [
      "\": \"LangevinMiddle\",\n",
      "     "
     ]
    },
    {
     "name": "stdout",
     "output_type": "stream",
     "text": [
      " \"Temperature\": \"300 * kelvin"
     ]
    },
    {
     "name": "stdout",
     "output_type": "stream",
     "text": [
      "\",\n",
      "      \"Friction\": \"1"
     ]
    },
    {
     "name": "stdout",
     "output_type": "stream",
     "text": [
      ".0 / picoseconds\",\n",
      "      \""
     ]
    },
    {
     "name": "stdout",
     "output_type": "stream",
     "text": [
      "Timestep\": \"0.002 *"
     ]
    },
    {
     "name": "stdout",
     "output_type": "stream",
     "text": [
      " picoseconds\",\n",
      "      \"Pressure\": \""
     ]
    },
    {
     "name": "stdout",
     "output_type": "stream",
     "text": [
      "1.0 * bar\"\n",
      "    },\n"
     ]
    },
    {
     "name": "stdout",
     "output_type": "stream",
     "text": [
      "    \"simulation_params\": {\n",
      "      \""
     ]
    },
    {
     "name": "stdout",
     "output_type": "stream",
     "text": [
      "Ensemble\": \"NVT\",\n",
      "     "
     ]
    },
    {
     "name": "stdout",
     "output_type": "stream",
     "text": [
      " \"Number of Steps\": 5000"
     ]
    },
    {
     "name": "stdout",
     "output_type": "stream",
     "text": [
      ",\n",
      "      \"record_interval_steps\": "
     ]
    },
    {
     "name": "stdout",
     "output_type": "stream",
     "text": [
      "100,\n",
      "      \"record_params\": [\""
     ]
    },
    {
     "name": "stdout",
     "output_type": "stream",
     "text": [
      "step\", \"potentialEnergy\", \"temperature"
     ]
    },
    {
     "name": "stdout",
     "output_type": "stream",
     "text": [
      "\"]\n",
      "    }\n",
      "  }\n",
      "}\n",
      "```"
     ]
    },
    {
     "name": "stdout",
     "output_type": "stream",
     "text": [
      "Building system...\n"
     ]
    },
    {
     "name": "stdout",
     "output_type": "stream",
     "text": [
      "About to create system...\n",
      "Attempts at creating system: 0/3\n",
      "adding system without solvent\n",
      "System built successfully\n",
      "<openmm.openmm.System; proxy of <Swig Object of type 'OpenMM::System *' at 0x2b15b3c33ba0> >\n",
      "Setting up integrator...\n",
      "Creating simulation...\n",
      "simulation set!\n",
      "Performing energy minimization...\n"
     ]
    },
    {
     "name": "stdout",
     "output_type": "stream",
     "text": [
      "Minimization complete!\n",
      "Initial Positions saved to initial_positions.pdb\n",
      "Equilibrating...\n"
     ]
    },
    {
     "name": "stdout",
     "output_type": "stream",
     "text": [
      "Simulating...\n"
     ]
    },
    {
     "name": "stdout",
     "output_type": "stream",
     "text": [
      "Done!\n",
      "Standalone simulation script written to /gpfs/fs2/scratch/qcampbe2/repos/md-agent/ckpt/ckpt_18/simulations/NVT_6BB5_121010_20240928_121014.py\n",
      "['exp_12_output.ipynb', 'exp_10.ipynb', 'out.exp12_405b', 'out.exp7_405b', 'exp_13.ipynb', 'exp_22.ipynb', 'exp_7-Copy1.ipynb', 'exp_8.ipynb', 'TRAJ_sim0_114506_1ZNI_114500_20240928_114508.dcd', 'exp_14-Copy1.ipynb', 'out.exp15_405b', 'exp14.sh', 'TOP_sim0_115618_1TRN_115615_20240928_115619.pdb', 'exp_14_output.ipynb', 'LOG_sim0_115815_1TRN_115812_20240928_115816.txt', 'TRAJ_sim0_115712_6BB5_115708_20240928_115713.dcd', 'LOG_sim0_114452_1FNF_114448_20240928_114453.txt', 'TOP_sim0_121014_6BB5_121010_20240928_121014.pdb', 'exp_3.ipynb', 'exp_19_updated.ipynb', 'exp_17.ipynb', 'exp_1.ipynb', 'TRAJ_sim0_115618_1TRN_115615_20240928_115619.dcd', '.ipynb_checkpoints', 'LOG_sim0_121014_6BB5_121010_20240928_121014.txt', 'TOP_sim0_120158_1FNF_120154_20240928_120158.pdb', 'exp_15_output.ipynb', 'exp_4.ipynb', 'TRAJ_sim0_115815_1TRN_115812_20240928_115816.dcd', 'TRAJ_sim0_114452_1FNF_114448_20240928_114453.dcd', 'exp_24.ipynb', 'exp_3-Copy1.ipynb', 'exp12.sh', 'LOG_sim0_115712_6BB5_115708_20240928_115713.txt', 'exp_12.ipynb', 'exp_15-Copy1.ipynb', 'exp_12-Copy1.ipynb', 'exp_19.ipynb', 'TOP_sim0_114506_1ZNI_114500_20240928_114508.pdb', 'exp_9.ipynb', 'exp_5.ipynb', 'exp_7.ipynb', 'TOP_sim0_115712_6BB5_115708_20240928_115713.pdb', 'TOP_sim0_114452_1FNF_114448_20240928_114453.pdb', 'LOG_sim0_114506_1ZNI_114500_20240928_114508.txt', 'exp_2.ipynb', 'LOG_sim0_120158_1FNF_120154_20240928_120158.txt', 'TRAJ_sim0_121014_6BB5_121010_20240928_121014.dcd', 'exp_18.ipynb', 'exp_14.ipynb', 'LOG_sim0_115618_1TRN_115615_20240928_115619.txt', 'TOP_sim0_115815_1TRN_115812_20240928_115816.pdb', 'exp15.sh', 'exp_15.ipynb', 'exp_6.ipynb', 'exp_7_output.ipynb', 'exp7.sh', 'exp_20.ipynb', 'exp_23.ipynb', 'exp_16.ipynb', 'exp_11.ipynb', 'exp_21.ipynb', 'exp_25.ipynb', 'TRAJ_sim0_120158_1FNF_120154_20240928_120158.dcd', 'out.exp14_405b']\n"
     ]
    },
    {
     "name": "stdout",
     "output_type": "stream",
     "text": [
      "Thought:"
     ]
    },
    {
     "name": "stdout",
     "output_type": "stream",
     "text": [
      " Now that the simulations"
     ]
    },
    {
     "name": "stdout",
     "output_type": "stream",
     "text": [
      " for both deoxygenated hem"
     ]
    },
    {
     "name": "stdout",
     "output_type": "stream",
     "text": [
      "oglobin (1A3N) and"
     ]
    },
    {
     "name": "stdout",
     "output_type": "stream",
     "text": [
      " oxygenated hemoglobin (6BB5"
     ]
    },
    {
     "name": "stdout",
     "output_type": "stream",
     "text": [
      ") have been successfully run, I need"
     ]
    },
    {
     "name": "stdout",
     "output_type": "stream",
     "text": [
      " to plot the PCA of both trajectories"
     ]
    },
    {
     "name": "stdout",
     "output_type": "stream",
     "text": [
      " using the PCATool.\n",
      "\n",
      "Action"
     ]
    },
    {
     "name": "stdout",
     "output_type": "stream",
     "text": [
      ":\n",
      "```\n",
      "{\n",
      "  \"action\":"
     ]
    },
    {
     "name": "stdout",
     "output_type": "stream",
     "text": [
      " \"PCATool\",\n",
      "  \"action"
     ]
    },
    {
     "name": "stdout",
     "output_type": "stream",
     "text": [
      "_input\": {\n",
      "    \"input\": {\n"
     ]
    },
    {
     "name": "stdout",
     "output_type": "stream",
     "text": [
      "      \"trajectory_fileid\": \"rec"
     ]
    },
    {
     "name": "stdout",
     "output_type": "stream",
     "text": [
      "0_115932\",\n",
      "      \"top"
     ]
    },
    {
     "name": "stdout",
     "output_type": "stream",
     "text": [
      "ology_fileid\": \"top_sim0"
     ]
    },
    {
     "name": "stdout",
     "output_type": "stream",
     "text": [
      "_115931\"\n",
      "   "
     ]
    },
    {
     "name": "stdout",
     "output_type": "stream",
     "text": [
      " }\n",
      "  }\n",
      "}\n",
      "```\n"
     ]
    },
    {
     "name": "stdout",
     "output_type": "stream",
     "text": [
      "Thought:"
     ]
    },
    {
     "name": "stdout",
     "output_type": "stream",
     "text": [
      " Now that the PCA analysis for"
     ]
    },
    {
     "name": "stdout",
     "output_type": "stream",
     "text": [
      " deoxygenated hemoglobin (1"
     ]
    },
    {
     "name": "stdout",
     "output_type": "stream",
     "text": [
      "A3N) has been successfully run"
     ]
    },
    {
     "name": "stdout",
     "output_type": "stream",
     "text": [
      ", I need to plot the PCA of"
     ]
    },
    {
     "name": "stdout",
     "output_type": "stream",
     "text": [
      " the trajectory for oxygenated hemoglobin"
     ]
    },
    {
     "name": "stdout",
     "output_type": "stream",
     "text": [
      " (6BB5) using the PC"
     ]
    },
    {
     "name": "stdout",
     "output_type": "stream",
     "text": [
      "ATool.\n",
      "\n",
      "Action:\n",
      "```\n",
      "{\n"
     ]
    },
    {
     "name": "stdout",
     "output_type": "stream",
     "text": [
      "  \"action\": \"PCATool"
     ]
    },
    {
     "name": "stdout",
     "output_type": "stream",
     "text": [
      "\",\n",
      "  \"action_input\": {\n",
      "   "
     ]
    },
    {
     "name": "stdout",
     "output_type": "stream",
     "text": [
      " \"input\": {\n",
      "      \"trajectory_file"
     ]
    },
    {
     "name": "stdout",
     "output_type": "stream",
     "text": [
      "id\": \"rec0_121014"
     ]
    },
    {
     "name": "stdout",
     "output_type": "stream",
     "text": [
      "\",\n",
      "      \"topology_fileid\":"
     ]
    },
    {
     "name": "stdout",
     "output_type": "stream",
     "text": [
      " \"top_sim0_121014\"\n"
     ]
    },
    {
     "name": "stdout",
     "output_type": "stream",
     "text": [
      "    }\n",
      "  }\n",
      "}\n",
      "```"
     ]
    },
    {
     "name": "stdout",
     "output_type": "stream",
     "text": [
      "Thought:"
     ]
    },
    {
     "name": "stdout",
     "output_type": "stream",
     "text": [
      " Now that the"
     ]
    },
    {
     "name": "stdout",
     "output_type": "stream",
     "text": [
      " PCA"
     ]
    },
    {
     "name": "stdout",
     "output_type": "stream",
     "text": [
      " analysis for both de"
     ]
    },
    {
     "name": "stdout",
     "output_type": "stream",
     "text": [
      "oxygenated hem"
     ]
    },
    {
     "name": "stdout",
     "output_type": "stream",
     "text": [
      "oglobin (1A"
     ]
    },
    {
     "name": "stdout",
     "output_type": "stream",
     "text": [
      "3N) and"
     ]
    },
    {
     "name": "stdout",
     "output_type": "stream",
     "text": [
      " oxygenated hemoglobin"
     ]
    },
    {
     "name": "stdout",
     "output_type": "stream",
     "text": [
      " (6BB5"
     ]
    },
    {
     "name": "stdout",
     "output_type": "stream",
     "text": [
      ") has been successfully"
     ]
    },
    {
     "name": "stdout",
     "output_type": "stream",
     "text": [
      " run, I can"
     ]
    },
    {
     "name": "stdout",
     "output_type": "stream",
     "text": [
      " provide"
     ]
    },
    {
     "name": "stdout",
     "output_type": "stream",
     "text": [
      " the"
     ]
    },
    {
     "name": "stdout",
     "output_type": "stream",
     "text": [
      " final answer.\n",
      "\n",
      "Action"
     ]
    },
    {
     "name": "stdout",
     "output_type": "stream",
     "text": [
      ":\n",
      "```\n",
      "{\n"
     ]
    },
    {
     "name": "stdout",
     "output_type": "stream",
     "text": [
      "  \"action\":"
     ]
    },
    {
     "name": "stdout",
     "output_type": "stream",
     "text": [
      " \"Final Answer\",\n"
     ]
    },
    {
     "name": "stdout",
     "output_type": "stream",
     "text": [
      "  \"action_input"
     ]
    },
    {
     "name": "stdout",
     "output_type": "stream",
     "text": [
      "\": \"The PCA"
     ]
    },
    {
     "name": "stdout",
     "output_type": "stream",
     "text": [
      " analysis for deo"
     ]
    },
    {
     "name": "stdout",
     "output_type": "stream",
     "text": [
      "xygenated hemoglobin"
     ]
    },
    {
     "name": "stdout",
     "output_type": "stream",
     "text": [
      " (1A3"
     ]
    },
    {
     "name": "stdout",
     "output_type": "stream",
     "text": [
      "N) and oxygen"
     ]
    },
    {
     "name": "stdout",
     "output_type": "stream",
     "text": [
      "ated hemoglobin ("
     ]
    },
    {
     "name": "stdout",
     "output_type": "stream",
     "text": [
      "6BB5)"
     ]
    },
    {
     "name": "stdout",
     "output_type": "stream",
     "text": [
      " has been successfully run"
     ]
    },
    {
     "name": "stdout",
     "output_type": "stream",
     "text": [
      ". The Scree"
     ]
    },
    {
     "name": "stdout",
     "output_type": "stream",
     "text": [
      " Plots"
     ]
    },
    {
     "name": "stdout",
     "output_type": "stream",
     "text": [
      " and PCA plots for"
     ]
    },
    {
     "name": "stdout",
     "output_type": "stream",
     "text": [
      " both trajectories have"
     ]
    },
    {
     "name": "stdout",
     "output_type": "stream",
     "text": [
      " been saved as fig"
     ]
    },
    {
     "name": "stdout",
     "output_type": "stream",
     "text": [
      "0_121309"
     ]
    },
    {
     "name": "stdout",
     "output_type": "stream",
     "text": [
      ", fig"
     ]
    },
    {
     "name": "stdout",
     "output_type": "stream",
     "text": [
      "0_121310"
     ]
    },
    {
     "name": "stdout",
     "output_type": "stream",
     "text": [
      ", fig0_"
     ]
    },
    {
     "name": "stdout",
     "output_type": "stream",
     "text": [
      "121316, and"
     ]
    },
    {
     "name": "stdout",
     "output_type": "stream",
     "text": [
      " fig0_121"
     ]
    },
    {
     "name": "stdout",
     "output_type": "stream",
     "text": [
      "322. The"
     ]
    },
    {
     "name": "stdout",
     "output_type": "stream",
     "text": [
      " Cosine Content of"
     ]
    },
    {
     "name": "stdout",
     "output_type": "stream",
     "text": [
      " each PC for both"
     ]
    },
    {
     "name": "stdout",
     "output_type": "stream",
     "text": [
      " trajectories"
     ]
    },
    {
     "name": "stdout",
     "output_type": "stream",
     "text": [
      " has also"
     ]
    },
    {
     "name": "stdout",
     "output_type": "stream",
     "text": [
      " been calculated.\"\n",
      "}\n"
     ]
    },
    {
     "name": "stdout",
     "output_type": "stream",
     "text": [
      "```"
     ]
    },
    {
     "data": {
      "text/plain": [
       "({'input': '\\n    You are an expert molecular dynamics scientist, and\\n    your task is to respond to the question or\\n    solve the problem to the best of your ability using\\n    the provided tools.\\n\\n    You can only respond with a single complete\\n    \\'Thought, Action, Action Input\\' format\\n    OR a single \\'Final Answer\\' format.\\n\\n    Complete format:\\n    Thought: (reflect on your progress and decide what to do next)\\n    Action:\\n    ```\\n    {\\n        \"action\": (the action name, it should be the name of a tool),\\n        \"action_input\": (the input string for the action)\\n    }\\n    \\'\\'\\'\\n\\n    OR\\n\\n    Final Answer: (the final response to the original input\\n    question, once all steps are complete)\\n\\n    You are required to use the tools provided,\\n    using the most specific tool\\n    available for each action.\\n    Your final answer should contain all information\\n    necessary to answer the question and its subquestions.\\n    Before you finish, reflect on your progress and make\\n    sure you have addressed the question in its entirety.\\n\\n    If you are asked to continue\\n    or reference previous runs,\\n    the context will be provided to you.\\n    If context is provided, you should assume\\n    you are continuing a chat.\\n\\n    Here is the input:\\n    Previous Context: None\\n    Question: Simulate deoxygenated hemoglobin (1A3N) and oxygenated hemoglobin (6BB5). Plot the PCA of both trajectories. ',\n",
       "  'output': 'The PCA analysis for deoxygenated hemoglobin (1A3N) and oxygenated hemoglobin (6BB5) has been successfully run. The Scree Plots and PCA plots for both trajectories have been saved as fig0_121309, fig0_121310, fig0_121316, and fig0_121322. The Cosine Content of each PC for both trajectories has also been calculated.'},\n",
       " 'FV4CUB6P')"
      ]
     },
     "execution_count": 3,
     "metadata": {},
     "output_type": "execute_result"
    },
    {
     "data": {
      "image/png": "[encoded data removed]",
      "text/plain": [
       "<Figure size 640x480 with 1 Axes>"
      ]
     },
     "metadata": {},
     "output_type": "display_data"
    },
    {
     "data": {
      "image/png": "[encoded data removed]",
      "text/plain": [
       "<Figure size 750x750 with 9 Axes>"
      ]
     },
     "metadata": {},
     "output_type": "display_data"
    },
    {
     "data": {
      "image/png": "[encoded data removed]",
      "text/plain": [
       "<Figure size 750x750 with 9 Axes>"
      ]
     },
     "metadata": {},
     "output_type": "display_data"
    }
   ],
   "source": [
    "agent.run(prompt14)"
   ]
  },
  {
   "cell_type": "code",
   "execution_count": 4,
   "id": "863c1ca9",
   "metadata": {
    "execution": {
     "iopub.execute_input": "2024-09-28T16:13:35.799805Z",
     "iopub.status.busy": "2024-09-28T16:13:35.799623Z",
     "iopub.status.idle": "2024-09-28T16:13:35.804021Z",
     "shell.execute_reply": "2024-09-28T16:13:35.803617Z"
    },
    "papermill": {
     "duration": 0.018286,
     "end_time": "2024-09-28T16:13:35.805120",
     "exception": false,
     "start_time": "2024-09-28T16:13:35.786834",
     "status": "completed"
    },
    "scrolled": true,
    "tags": []
   },
   "outputs": [
    {
     "name": "stdout",
     "output_type": "stream",
     "text": [
      "date and time: 2024-09-28\n",
      "time: 12:13:35\n",
      "ckpt_dir: ckpt_18\n",
      "Files found in registry: 1A3N_115905: PDB file downloaded from RSCB\n",
      " PDBFile ID: 1A3N_115905\n",
      " 6BB5_115906: PDB file downloaded from RSCB\n",
      " PDBFile ID: 6BB5_115906\n",
      " 1A3N_115928: Cleaned File:  Removed Heterogens\n",
      " and Water Removed.  Replaced Nonstandard Residues. Added Hydrogens at pH 7.0. Missing Atoms Added and replaces nonstandard residues. \n",
      " top_sim0_115931: Initial positions for simulation sim0_115931\n",
      " sim0_115931: Basic Simulation of Protein 1A3N_115928\n",
      " rec0_115932: Simulation trajectory for protein 1A3N_115928 and simulation sim0_115931\n",
      " rec1_115932: Simulation state log for protein 1A3N_115928 and simulation sim0_115931\n",
      " rec2_115932: Simulation pdb frames for protein 1A3N_115928 and simulation sim0_115931\n",
      " 6BB5_121010: Cleaned File:  Removed Heterogens\n",
      " and Water Removed.  Replaced Nonstandard Residues. Added Hydrogens at pH 7.0. Missing Atoms Added and replaces nonstandard residues. \n",
      " top_sim0_121014: Initial positions for simulation sim0_121014\n",
      " sim0_121014: Basic Simulation of Protein 6BB5_121010\n",
      " rec0_121014: Simulation trajectory for protein 6BB5_121010 and simulation sim0_121014\n",
      " rec1_121014: Simulation state log for protein 6BB5_121010 and simulation sim0_121014\n",
      " rec2_121014: Simulation pdb frames for protein 6BB5_121010 and simulation sim0_121014\n",
      " fig0_121309: Scree Plot of the eigenvalues of simulation rec0_115932\n",
      " fig0_121310: PCA Plot comparing the top 3 principal components\n",
      " fig0_121316: Scree Plot of the eigenvalues of simulation rec0_121014\n",
      " fig0_121322: PCA Plot comparing the top 3 principal components\n"
     ]
    }
   ],
   "source": [
    "now = datetime.datetime.now()\n",
    "date = now.strftime(\"%Y-%m-%d\")\n",
    "print(\"date and time:\",date)\n",
    "time = now.strftime(\"%H:%M:%S\")\n",
    "print(\"time:\",time)\n",
    "\n",
    "registry = agent.path_registry\n",
    "print('ckpt_dir:',os.path.basename(registry.ckpt_dir))\n",
    "paths_and_descriptions = registry.list_path_names_and_descriptions()\n",
    "print(\"\\n\".join(paths_and_descriptions.split(\",\")))"
   ]
  },
  {
   "cell_type": "code",
   "execution_count": 5,
   "id": "8d056f0c",
   "metadata": {
    "execution": {
     "iopub.execute_input": "2024-09-28T16:13:35.830445Z",
     "iopub.status.busy": "2024-09-28T16:13:35.830283Z",
     "iopub.status.idle": "2024-09-28T16:13:35.903702Z",
     "shell.execute_reply": "2024-09-28T16:13:35.903228Z"
    },
    "papermill": {
     "duration": 0.087563,
     "end_time": "2024-09-28T16:13:35.904798",
     "exception": false,
     "start_time": "2024-09-28T16:13:35.817235",
     "status": "completed"
    },
    "tags": []
   },
   "outputs": [
    {
     "name": "stdout",
     "output_type": "stream",
     "text": [
      "It's asserted that file paths for rec0_115932 and rec0_121014 exist\n"
     ]
    }
   ],
   "source": [
    "import re\n",
    "import os\n",
    "\n",
    "matches = re.findall(r\"rec0_\\d+\", paths_and_descriptions)\n",
    "file_id1 = matches[0]\n",
    "file_id2 = matches[1]\n",
    "traj_path1 = registry.get_mapped_path(file_id1)\n",
    "traj_path2 = registry.get_mapped_path(file_id2)\n",
    "assert os.path.exists(traj_path1), \"Path does not exist\"\n",
    "assert os.path.exists(traj_path2), \"Path does not exist\"\n",
    "print(f\"It's asserted that file paths for {file_id1} and {file_id2} exist\")"
   ]
  },
  {
   "cell_type": "code",
   "execution_count": 6,
   "id": "08d2958e",
   "metadata": {
    "execution": {
     "iopub.execute_input": "2024-09-28T16:13:35.930148Z",
     "iopub.status.busy": "2024-09-28T16:13:35.929983Z",
     "iopub.status.idle": "2024-09-28T16:13:35.935342Z",
     "shell.execute_reply": "2024-09-28T16:13:35.934899Z"
    },
    "papermill": {
     "duration": 0.019137,
     "end_time": "2024-09-28T16:13:35.936446",
     "exception": false,
     "start_time": "2024-09-28T16:13:35.917309",
     "status": "completed"
    },
    "tags": []
   },
   "outputs": [
    {
     "name": "stdout",
     "output_type": "stream",
     "text": [
      "It's asserted that file paths for top_sim0_115931 and top_sim0_121014 exist\n"
     ]
    }
   ],
   "source": [
    "matches = re.findall(r\"top_sim0_\\d+\", paths_and_descriptions)\n",
    "file_id1 = matches[0]\n",
    "file_id2 = matches[1]\n",
    "top_path1 = registry.get_mapped_path(file_id1)\n",
    "top_path2 = registry.get_mapped_path(file_id2)\n",
    "assert os.path.exists(top_path1), \"Path does not exist\"\n",
    "assert os.path.exists(top_path2), \"Path does not exist\"\n",
    "print(f\"It's asserted that file paths for {file_id1} and {file_id2} exist\")"
   ]
  },
  {
   "cell_type": "code",
   "execution_count": 7,
   "id": "1ec95e97",
   "metadata": {
    "execution": {
     "iopub.execute_input": "2024-09-28T16:13:35.961781Z",
     "iopub.status.busy": "2024-09-28T16:13:35.961618Z",
     "iopub.status.idle": "2024-09-28T16:13:36.117704Z",
     "shell.execute_reply": "2024-09-28T16:13:36.117292Z"
    },
    "papermill": {
     "duration": 0.170258,
     "end_time": "2024-09-28T16:13:36.118992",
     "exception": false,
     "start_time": "2024-09-28T16:13:35.948734",
     "status": "completed"
    },
    "tags": []
   },
   "outputs": [
    {
     "name": "stdout",
     "output_type": "stream",
     "text": [
      "Number of frames in traj1:  60\n",
      "Number of frames in traj2:  60\n",
      "Number of residues in traj1:  574\n",
      "Number of residues in traj2:  284\n"
     ]
    }
   ],
   "source": [
    "import mdtraj as md\n",
    "\n",
    "traj1 = md.load(traj_path1, top=top_path1)\n",
    "traj2 = md.load(traj_path2, top=top_path2)\n",
    "\n",
    "#number of framees, adn total residues simulated\n",
    "print(\"Number of frames in traj1: \", traj1.n_frames)\n",
    "print(\"Number of frames in traj2: \", traj2.n_frames)\n",
    "print(\"Number of residues in traj1: \", traj1.n_residues)\n",
    "print(\"Number of residues in traj2: \", traj2.n_residues)\n"
   ]
  }
 ],
 "metadata": {
  "kernelspec": {
   "display_name": "mdcrow",
   "language": "python",
   "name": "mdcrow"
  },
  "language_info": {
   "codemirror_mode": {
    "name": "ipython",
    "version": 3
   },
   "file_extension": ".py",
   "mimetype": "text/x-python",
   "name": "python",
   "nbconvert_exporter": "python",
   "pygments_lexer": "ipython3",
   "version": "3.12.4"
  },
  "papermill": {
   "default_parameters": {},
   "duration": 880.211526,
   "end_time": "2024-09-28T16:13:38.199757",
   "environment_variables": {},
   "exception": null,
   "input_path": "exp_14.ipynb",
   "output_path": "exp_14_output.ipynb",
   "parameters": {},
   "start_time": "2024-09-28T15:58:57.988231",
   "version": "2.6.0"
  }
 },
 "nbformat": 4,
 "nbformat_minor": 5
}
