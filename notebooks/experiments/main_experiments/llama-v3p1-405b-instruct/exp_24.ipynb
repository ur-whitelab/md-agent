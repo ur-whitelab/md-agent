{
 "cells": [
  {
   "cell_type": "code",
   "execution_count": 1,
   "metadata": {},
   "outputs": [],
   "source": [
    "import datetime\n",
    "import os\n",
    "from mdcrow import MDCrow"
   ]
  },
  {
   "cell_type": "code",
   "execution_count": 2,
   "metadata": {},
   "outputs": [
    {
     "name": "stdout",
     "output_type": "stream",
     "text": [
      "date and time: 2024-09-07\n",
      "time: 18:16:50\n",
      "LLM:  accounts/fireworks/models/llama-v3p1-405b-instruct \n",
      "Temperature:  0.1\n"
     ]
    }
   ],
   "source": [
    "prompt24 = \"Simulate oxygenated hemoglobin (1A3N) and deoxygenated hemoglobin (6BB5). Then analyze the RDF of both.\"\n",
    "llm_var = \"accounts/fireworks/models/llama-v3p1-405b-instruct\"\n",
    "tools = \"all\"\n",
    "agent = MDCrow(agent_type=\"Structured\", model=llm_var, top_k_tools=tools)\n",
    "now = datetime.datetime.now()\n",
    "date = now.strftime(\"%Y-%m-%d\")\n",
    "print(\"date and time:\",date)\n",
    "time = now.strftime(\"%H:%M:%S\")\n",
    "print(\"time:\",time)\n",
    "print(\"LLM: \",agent.llm.model_name,\"\\nTemperature: \",agent.llm.temperature)"
   ]
  },
  {
   "cell_type": "code",
   "execution_count": 3,
   "metadata": {},
   "outputs": [
    {
     "name": "stdout",
     "output_type": "stream",
     "text": [
      "Thought: First, I need to download the PDB files for oxygenated hemoglobin (1A3N) and deoxygenated hemoglobin (6BB5) to simulate them. Then, I will use the RDF tool to analyze the radial distribution function of both.\n",
      "\n",
      "Action:\n",
      "```\n",
      "{\n",
      "  \"action\": \"PDBFileDownloader\",\n",
      "  \"action_input\": \"1A3N\"\n",
      "}\n",
      "```\n",
      "PDB file found with this ID: 1A3N\n",
      "Now that I have the PDB file for oxygenated hemoglobin (1A3N), I need to download the PDB file for deoxygenated hemoglobin (6BB5).\n",
      "\n",
      "Action:\n",
      "```\n",
      "{\n",
      "  \"action\": \"PDBFileDownloader\",\n",
      "  \"action_input\": \"6BB5\"\n",
      "}\n",
      "```PDB file found with this ID: 6BB5\n",
      "Now that I have the PDB files for both oxygenated hemoglobin (1A3N) and deoxygenated hemoglobin (6BB5), I need to simulate them using the SetUpandRunFunction tool.\n",
      "\n",
      "Action:\n",
      "```\n",
      "{\n",
      "  \"action\": \"SetUpandRunFunction\",\n",
      "  \"action_input\": {\n",
      "    \"pdb_id\": \"1A3N_181653\",\n",
      "    \"forcefield_files\": [\"amber99sbildn.xml\", \"tip3p.xml\"],\n",
      "    \"save\": true,\n",
      "    \"system_params\": {\n",
      "      \"nonbondedMethod\": \"NoCutoff\",\n",
      "      \"constraints\": \"None\",\n",
      "      \"rigidWater\": false\n",
      "    },\n",
      "    \"integrator_params\": {\n",
      "      \"integrator_type\": \"LangevinMiddle\",\n",
      "      \"Temperature\": \"300 * kelvin\",\n",
      "      \"Friction\": \"1.0 / picoseconds\",\n",
      "      \"Timestep\": \"0.002 * picoseconds\",\n",
      "      \"Pressure\": \"1.0 * bar\"\n",
      "    },\n",
      "    \"simulation_params\": {\n",
      "      \"Ensemble\": \"NVT\",\n",
      "      \"Number of Steps\": 5000,\n",
      "      \"record_interval_steps\": 100,\n",
      "      \"record_params\": [\"step\", \"potentialEnergy\", \"temperature\"]\n",
      "    }\n",
      "  }\n",
      "}\n",
      "```Building system...\n",
      "About to create system...\n",
      "Attempts at creating system: 0/3\n",
      "adding system without solvent\n",
      "Trying to add component to Forcefield...\n",
      "Residue code: VAL\n",
      "Residue code not in solvent list. Adding forcefield                         not supported.\n",
      "Thought: The simulation of oxygenated hemoglobin (1A3N) failed due to a missing template for residue 1 (VAL). I need to clean the PDB file to add the missing hydrogen atoms.\n",
      "\n",
      "Action:\n",
      "```\n",
      "{\n",
      "  \"action\": \"CleaningToolFunction\",\n",
      "  \"action_input\": {\n",
      "    \"pdb_id\": \"1A3N_181653\",\n",
      "    \"replace_nonstandard_residues\": true,\n",
      "    \"add_missing_atoms\": true,\n",
      "    \"remove_heterogens\": true,\n",
      "    \"remove_water\": true,\n",
      "    \"add_hydrogens\": true,\n",
      "    \"add_hydrogens_ph\": 7.0\n",
      "  }\n",
      "}\n",
      "```file path: /gpfs/fs2/scratch/qcampbe2/repos/md-agent/ckpt/ckpt_108/pdb/1A3N_raw_20240907_181653.pdb\n",
      "Thought: Now that the PDB file for oxygenated hemoglobin (1A3N) has been cleaned, I can simulate it using the SetUpandRunFunction tool.\n",
      "\n",
      "Action:\n",
      "```\n",
      "{\n",
      "  \"action\": \"SetUpandRunFunction\",\n",
      "  \"action_input\": {\n",
      "    \"pdb_id\": \"1A3N_181716\",\n",
      "    \"forcefield_files\": [\"amber99sbildn.xml\", \"tip3p.xml\"],\n",
      "    \"save\": true,\n",
      "    \"system_params\": {\n",
      "      \"nonbondedMethod\": \"NoCutoff\",\n",
      "      \"constraints\": \"None\",\n",
      "      \"rigidWater\": false\n",
      "    },\n",
      "    \"integrator_params\": {\n",
      "      \"integrator_type\": \"LangevinMiddle\",\n",
      "      \"Temperature\": \"300 * kelvin\",\n",
      "      \"Friction\": \"1.0 / picoseconds\",\n",
      "      \"Timestep\": \"0.002 * picoseconds\",\n",
      "      \"Pressure\": \"1.0 * bar\"\n",
      "    },\n",
      "    \"simulation_params\": {\n",
      "      \"Ensemble\": \"NVT\",\n",
      "      \"Number of Steps\": 5000,\n",
      "      \"record_interval_steps\": 100,\n",
      "      \"record_params\": [\"step\", \"potentialEnergy\", \"temperature\"]\n",
      "    }\n",
      "  }\n",
      "}\n",
      "```Building system...\n",
      "About to create system...\n",
      "Attempts at creating system: 0/3\n",
      "adding system without solvent\n",
      "System built successfully\n",
      "<openmm.openmm.System; proxy of <Swig Object of type 'OpenMM::System *' at 0x7f50dc8ddb60> >\n",
      "Setting up integrator...\n",
      "Creating simulation...\n",
      "simulation set!\n",
      "Performing energy minimization...\n",
      "Minimization complete!\n",
      "Initial Positions saved to initial_positions.pdb\n",
      "Equilibrating...\n",
      "Simulating...\n",
      "Done!\n",
      "Standalone simulation script written to /gpfs/fs2/scratch/qcampbe2/repos/md-agent/ckpt/ckpt_108/simulations/NVT_1A3N_181716_20240907_181719.py\n",
      "['exp_10.ipynb', 'exp_13.ipynb', 'exp_22.ipynb', 'exp_8.ipynb', 'TOP_sim0_174804_1A3N_174757_20240907_174809.pdb', 'exp_3.ipynb', 'exp_19_updated.ipynb', 'exp_17.ipynb', 'exp_1.ipynb', '.ipynb_checkpoints', 'exp_4.ipynb', 'TRAJ_sim0_174804_1A3N_174757_20240907_174809.dcd', 'packmol.inp', 'exp_24.ipynb', 'exp_12.ipynb', 'exp_19.ipynb', 'exp_9.ipynb', 'TOP_sim0_103300_1A3N_103256_20240905_103308.pdb', 'exp_5.ipynb', 'exp_7.ipynb', 'exp_2.ipynb', 'exp_18.ipynb', 'exp_14.ipynb', 'exp_15.ipynb', 'exp_6.ipynb', 'LOG_sim0_103300_1A3N_103256_20240905_103308.txt', 'TRAJ_sim0_181719_1A3N_181716_20240907_181720.dcd', 'LOG_sim0_174804_1A3N_174757_20240907_174809.txt', 'exp_20.ipynb', 'exp_23.ipynb', 'TOP_sim0_181719_1A3N_181716_20240907_181720.pdb', 'exp_16.ipynb', 'exp_11.ipynb', 'exp_21.ipynb', 'TRAJ_sim0_103300_1A3N_103256_20240905_103308.dcd', 'LOG_sim0_181719_1A3N_181716_20240907_181720.txt']\n",
      "Thought: Now that the simulation of oxygenated hemoglobin (1A3N) has been completed, I need to simulate deoxygenated hemoglobin (6BB5) using the SetUpandRunFunction tool.\n",
      "\n",
      "Action:\n",
      "```\n",
      "{\n",
      "  \"action\": \"SetUpandRunFunction\",\n",
      "  \"action_input\": {\n",
      "    \"pdb_id\": \"6BB5_181654\",\n",
      "    \"forcefield_files\": [\"amber99sbildn.xml\", \"tip3p.xml\"],\n",
      "    \"save\": true,\n",
      "    \"system_params\": {\n",
      "      \"nonbondedMethod\": \"NoCutoff\",\n",
      "      \"constraints\": \"None\",\n",
      "      \"rigidWater\": false\n",
      "    },\n",
      "    \"integrator_params\": {\n",
      "      \"integrator_type\": \"LangevinMiddle\",\n",
      "      \"Temperature\": \"300 * kelvin\",\n",
      "      \"Friction\": \"1.0 / picoseconds\",\n",
      "      \"Timestep\": \"0.002 * picoseconds\",\n",
      "      \"Pressure\": \"1.0 * bar\"\n",
      "    },\n",
      "    \"simulation_params\": {\n",
      "      \"Ensemble\": \"NVT\",\n",
      "      \"Number of Steps\": 5000,\n",
      "      \"record_interval_steps\": 100,\n",
      "      \"record_params\": [\"step\", \"potentialEnergy\", \"temperature\"]\n",
      "    }\n",
      "  }\n",
      "}\n",
      "```Building system...\n",
      "About to create system...\n",
      "Attempts at creating system: 0/3\n",
      "adding system without solvent\n",
      "Trying to add component to Forcefield...\n",
      "Residue code: LEU\n",
      "Residue code not in solvent list. Adding forcefield                         not supported.\n",
      "Thought: The simulation of deoxygenated hemoglobin (6BB5) failed due to a missing template for residue 1 (LEU). I need to clean the PDB file to add the missing hydrogen atoms.\n",
      "\n",
      "Action:\n",
      "```\n",
      "{\n",
      "  \"action\": \"CleaningToolFunction\",\n",
      "  \"action_input\": {\n",
      "    \"pdb_id\": \"6BB5_181654\",\n",
      "    \"replace_nonstandard_residues\": true,\n",
      "    \"add_missing_atoms\": true,\n",
      "    \"remove_heterogens\": true,\n",
      "    \"remove_water\": true,\n",
      "    \"add_hydrogens\": true,\n",
      "    \"add_hydrogens_ph\": 7.0\n",
      "  }\n",
      "}\n",
      "```file path: /gpfs/fs2/scratch/qcampbe2/repos/md-agent/ckpt/ckpt_108/pdb/6BB5_raw_20240907_181654.pdb\n",
      "Thought: Now that the PDB file for deoxygenated hemoglobin (6BB5) has been cleaned, I can simulate it using the SetUpandRunFunction tool.\n",
      "\n",
      "Action:\n",
      "```\n",
      "{\n",
      "  \"action\": \"SetUpandRunFunction\",\n",
      "  \"action_input\": {\n",
      "    \"pdb_id\": \"6BB5_181839\",\n",
      "    \"forcefield_files\": [\"amber99sbildn.xml\", \"tip3p.xml\"],\n",
      "    \"save\": true,\n",
      "    \"system_params\": {\n",
      "      \"nonbondedMethod\": \"NoCutoff\",\n",
      "      \"constraints\": \"None\",\n",
      "      \"rigidWater\": false\n",
      "    },\n",
      "    \"integrator_params\": {\n",
      "      \"integrator_type\": \"LangevinMiddle\",\n",
      "      \"Temperature\": \"300 * kelvin\",\n",
      "      \"Friction\": \"1.0 / picoseconds\",\n",
      "      \"Timestep\": \"0.002 * picoseconds\",\n",
      "      \"Pressure\": \"1.0 * bar\"\n",
      "    },\n",
      "    \"simulation_params\": {\n",
      "      \"Ensemble\": \"NVT\",\n",
      "      \"Number of Steps\": 5000,\n",
      "      \"record_interval_steps\": 100,\n",
      "      \"record_params\": [\"step\", \"potentialEnergy\", \"temperature\"]\n",
      "    }\n",
      "  }\n",
      "}\n",
      "```Building system...\n",
      "About to create system...\n",
      "Attempts at creating system: 0/3\n",
      "adding system without solvent\n",
      "System built successfully\n",
      "<openmm.openmm.System; proxy of <Swig Object of type 'OpenMM::System *' at 0x7f50dd424270> >\n",
      "Setting up integrator...\n",
      "Creating simulation...\n",
      "simulation set!\n",
      "Performing energy minimization...\n",
      "Minimization complete!\n",
      "Initial Positions saved to initial_positions.pdb\n",
      "Equilibrating...\n",
      "Simulating...\n",
      "Done!\n",
      "Standalone simulation script written to /gpfs/fs2/scratch/qcampbe2/repos/md-agent/ckpt/ckpt_108/simulations/NVT_6BB5_181839_20240907_181843.py\n",
      "['exp_10.ipynb', 'exp_13.ipynb', 'exp_22.ipynb', 'exp_8.ipynb', 'TOP_sim0_174804_1A3N_174757_20240907_174809.pdb', 'exp_3.ipynb', 'exp_19_updated.ipynb', 'exp_17.ipynb', 'exp_1.ipynb', '.ipynb_checkpoints', 'exp_4.ipynb', 'TRAJ_sim0_181843_6BB5_181839_20240907_181843.dcd', 'TRAJ_sim0_174804_1A3N_174757_20240907_174809.dcd', 'packmol.inp', 'exp_24.ipynb', 'exp_12.ipynb', 'TOP_sim0_181843_6BB5_181839_20240907_181843.pdb', 'exp_19.ipynb', 'exp_9.ipynb', 'TOP_sim0_103300_1A3N_103256_20240905_103308.pdb', 'exp_5.ipynb', 'exp_7.ipynb', 'exp_2.ipynb', 'exp_18.ipynb', 'exp_14.ipynb', 'exp_15.ipynb', 'exp_6.ipynb', 'LOG_sim0_103300_1A3N_103256_20240905_103308.txt', 'LOG_sim0_174804_1A3N_174757_20240907_174809.txt', 'exp_20.ipynb', 'exp_23.ipynb', 'exp_16.ipynb', 'exp_11.ipynb', 'exp_21.ipynb', 'TRAJ_sim0_103300_1A3N_103256_20240905_103308.dcd', 'LOG_sim0_181843_6BB5_181839_20240907_181843.txt']\n",
      "Thought: Now that the simulations of both oxygenated hemoglobin (1A3N) and deoxygenated hemoglobin (6BB5) have been completed, I need to analyze the radial distribution function (RDF) of both using the RDFTool.\n",
      "\n",
      "Action:\n",
      "```\n",
      "{\n",
      "  \"action\": \"RDFTool\",\n",
      "  \"action_input\": {\n",
      "    \"input\": {\n",
      "      \"trajectory_fileid\": \"rec0_181720\",\n",
      "      \"topology_fileid\": \"top_sim0_181719\"\n",
      "    }\n",
      "  }\n",
      "}\n",
      "```\n",
      "Note: I will analyze the RDF of oxygenated hemoglobin (1A3N) first. After this action, I will analyze the RDF of deoxygenated hemoglobin (6BB5) in the next step."
     ]
    },
    {
     "name": "stderr",
     "output_type": "stream",
     "text": [
      "/scratch/qcampbe2/myenvs/mdcrow/lib/python3.12/site-packages/mdtraj/geometry/rdf.py:103: RuntimeWarning: invalid value encountered in divide\n",
      "  g_r = g_r.astype(np.float64) / norm  # From int64.\n"
     ]
    },
    {
     "name": "stdout",
     "output_type": "stream",
     "text": [
      "Thought: Now that the RDF of oxygenated hemoglobin (1A3N) has been analyzed, I need to analyze the RDF of deoxygenated hemoglobin (6BB5) using the RDFTool.\n",
      "\n",
      "Action:\n",
      "```\n",
      "{\n",
      "  \"action\": \"RDFTool\",\n",
      "  \"action_input\": {\n",
      "    \"input\": {\n",
      "      \"trajectory_fileid\": \"rec0_181843\",\n",
      "      \"topology_fileid\": \"top_sim0_181843\"\n",
      "    }\n",
      "  }\n",
      "}\n",
      "```"
     ]
    },
    {
     "name": "stderr",
     "output_type": "stream",
     "text": [
      "/scratch/qcampbe2/myenvs/mdcrow/lib/python3.12/site-packages/mdtraj/geometry/rdf.py:103: RuntimeWarning: invalid value encountered in divide\n",
      "  g_r = g_r.astype(np.float64) / norm  # From int64.\n"
     ]
    },
    {
     "name": "stdout",
     "output_type": "stream",
     "text": [
      "Thought: Now that the RDF of both oxygenated hemoglobin (1A3N) and deoxygenated hemoglobin (6BB5) have been analyzed, I can provide the final answer.\n",
      "\n",
      "Action:\n",
      "```\n",
      "{\n",
      "  \"action\": \"Final Answer\",\n",
      "  \"action_input\": \"The RDF analysis of oxygenated hemoglobin (1A3N) and deoxygenated hemoglobin (6BB5) has been completed. The RDF plots for both proteins are available as fig0_181929 and fig0_181931, respectively.\"\n",
      "}\n",
      "```"
     ]
    },
    {
     "data": {
      "text/plain": [
       "({'input': '\\n    You are an expert molecular dynamics scientist, and\\n    your task is to respond to the question or\\n    solve the problem to the best of your ability using\\n    the provided tools.\\n\\n    You can only respond with a single complete\\n    \\'Thought, Action, Action Input\\' format\\n    OR a single \\'Final Answer\\' format.\\n\\n    Complete format:\\n    Thought: (reflect on your progress and decide what to do next)\\n    Action:\\n    ```\\n    {\\n        \"action\": (the action name, it should be the name of a tool),\\n        \"action_input\": (the input string for the action)\\n    }\\n    \\'\\'\\'\\n\\n    OR\\n\\n    Final Answer: (the final response to the original input\\n    question, once all steps are complete)\\n\\n    You are required to use the tools provided,\\n    using the most specific tool\\n    available for each action.\\n    Your final answer should contain all information\\n    necessary to answer the question and its subquestions.\\n    Before you finish, reflect on your progress and make\\n    sure you have addressed the question in its entirety.\\n\\n    If you are asked to continue\\n    or reference previous runs,\\n    the context will be provided to you.\\n    If context is provided, you should assume\\n    you are continuing a chat.\\n\\n    Here is the input:\\n    Previous Context: None\\n    Question: Simulate oxygenated hemoglobin (1A3N) and deoxygenated hemoglobin (6BB5). Then analyze the RDF of both. ',\n",
       "  'output': 'The RDF analysis of oxygenated hemoglobin (1A3N) and deoxygenated hemoglobin (6BB5) has been completed. The RDF plots for both proteins are available as fig0_181929 and fig0_181931, respectively.'},\n",
       " '0LP3DI7W')"
      ]
     },
     "execution_count": 3,
     "metadata": {},
     "output_type": "execute_result"
    }
   ],
   "source": [
    "agent.run(prompt24)"
   ]
  },
  {
   "cell_type": "code",
   "execution_count": 4,
   "metadata": {},
   "outputs": [
    {
     "name": "stdout",
     "output_type": "stream",
     "text": [
      "date and time: 2024-09-07\n",
      "time: 18:19:33\n",
      "ckpt_dir: ckpt_108\n",
      "Files found in registry: 1A3N_181653: PDB file downloaded from RSCB\n",
      " PDBFile ID: 1A3N_181653\n",
      " 6BB5_181654: PDB file downloaded from RSCB\n",
      " PDBFile ID: 6BB5_181654\n",
      " 1A3N_181716: Cleaned File:  Removed Heterogens\n",
      " and Water Removed.  Replaced Nonstandard Residues. Added Hydrogens at pH 7.0. Missing Atoms Added and replaces nonstandard residues. \n",
      " top_sim0_181719: Initial positions for simulation sim0_181719\n",
      " sim0_181719: Basic Simulation of Protein 1A3N_181716\n",
      " rec0_181720: Simulation trajectory for protein 1A3N_181716 and simulation sim0_181719\n",
      " rec1_181720: Simulation state log for protein 1A3N_181716 and simulation sim0_181719\n",
      " rec2_181720: Simulation pdb frames for protein 1A3N_181716 and simulation sim0_181719\n",
      " 6BB5_181839: Cleaned File:  Removed Heterogens\n",
      " and Water Removed.  Replaced Nonstandard Residues. Added Hydrogens at pH 7.0. Missing Atoms Added and replaces nonstandard residues. \n",
      " top_sim0_181843: Initial positions for simulation sim0_181843\n",
      " sim0_181843: Basic Simulation of Protein 6BB5_181839\n",
      " rec0_181843: Simulation trajectory for protein 6BB5_181839 and simulation sim0_181843\n",
      " rec1_181843: Simulation state log for protein 6BB5_181839 and simulation sim0_181843\n",
      " rec2_181843: Simulation pdb frames for protein 6BB5_181839 and simulation sim0_181843\n",
      " fig0_181929: RDF plot for the trajectory file with id: rec0_181720\n",
      " fig0_181931: RDF plot for the trajectory file with id: rec0_181843\n"
     ]
    }
   ],
   "source": [
    "now = datetime.datetime.now()\n",
    "date = now.strftime(\"%Y-%m-%d\")\n",
    "print(\"date and time:\",date)\n",
    "time = now.strftime(\"%H:%M:%S\")\n",
    "print(\"time:\",time)\n",
    "\n",
    "registry = agent.path_registry\n",
    "print('ckpt_dir:',os.path.basename(registry.ckpt_dir))\n",
    "paths_and_descriptions = registry.list_path_names_and_descriptions()\n",
    "print(\"\\n\".join(paths_and_descriptions.split(\",\")))"
   ]
  },
  {
   "cell_type": "code",
   "execution_count": 5,
   "metadata": {},
   "outputs": [
    {
     "name": "stdout",
     "output_type": "stream",
     "text": [
      "It is asserted that file paths for fig0_181929 and fig0_181931 exist\n"
     ]
    }
   ],
   "source": [
    "import re\n",
    "import os\n",
    "\n",
    "matches = re.findall(r\"fig0_\\d+\", paths_and_descriptions)\n",
    "fig_id1 = matches[0]\n",
    "fig_id2 = matches[1]\n",
    "fig_path_1 = registry.get_mapped_path(fig_id1)\n",
    "fig_path_2 = registry.get_mapped_path(fig_id2)\n",
    "\n",
    "assert os.path.exists(fig_path_1)\n",
    "assert os.path.exists(fig_path_2)\n",
    "assert fig_path_1 != fig_path_2\n",
    "print(f'It is asserted that file paths for {fig_id1} and {fig_id2} exist')"
   ]
  },
  {
   "cell_type": "code",
   "execution_count": 6,
   "metadata": {},
   "outputs": [
    {
     "data": {
      "image/png": "[encoded data removed]",
      "text/plain": [
       "<IPython.core.display.Image object>"
      ]
     },
     "execution_count": 6,
     "metadata": {},
     "output_type": "execute_result"
    }
   ],
   "source": [
    "from IPython.display import Image\n",
    "Image(filename=fig_path_1)"
   ]
  },
  {
   "cell_type": "code",
   "execution_count": 7,
   "metadata": {},
   "outputs": [
    {
     "data": {
      "image/png": "[encoded data removed]",
      "text/plain": [
       "<IPython.core.display.Image object>"
      ]
     },
     "execution_count": 7,
     "metadata": {},
     "output_type": "execute_result"
    }
   ],
   "source": [
    "Image(filename=fig_path_2)"
   ]
  },
  {
   "cell_type": "markdown",
   "metadata": {},
   "source": [
    "# Experiment Result: ✅❌\n",
    "\n",
    "1. Completed without Exception or TimeOut Errors ✅\n",
    "2. Attempted all necessary steps ✅\n",
    "3. Completed without Hallucination ✅\n",
    "4. Logic make sense ✅\n",
    "5. Correct Answer ❌"
   ]
  },
  {
   "cell_type": "markdown",
   "metadata": {},
   "source": []
  }
 ],
 "metadata": {
  "kernelspec": {
   "display_name": "mdcrow",
   "language": "python",
   "name": "mdcrow"
  },
  "language_info": {
   "codemirror_mode": {
    "name": "ipython",
    "version": 3
   },
   "file_extension": ".py",
   "mimetype": "text/x-python",
   "name": "python",
   "nbconvert_exporter": "python",
   "pygments_lexer": "ipython3",
   "version": "3.12.4"
  }
 },
 "nbformat": 4,
 "nbformat_minor": 4
}
