{
 "cells": [
  {
   "cell_type": "code",
   "execution_count": 1,
   "id": "e5bff850",
   "metadata": {
    "execution": {
     "iopub.execute_input": "2024-10-03T01:37:56.549490Z",
     "iopub.status.busy": "2024-10-03T01:37:56.549276Z",
     "iopub.status.idle": "2024-10-03T01:38:22.837290Z",
     "shell.execute_reply": "2024-10-03T01:38:22.836833Z"
    },
    "papermill": {
     "duration": 26.295119,
     "end_time": "2024-10-03T01:38:22.838998",
     "exception": false,
     "start_time": "2024-10-03T01:37:56.543879",
     "status": "completed"
    },
    "tags": []
   },
   "outputs": [],
   "source": [
    "import datetime\n",
    "import os\n",
    "from mdcrow import MDCrow"
   ]
  },
  {
   "cell_type": "code",
   "execution_count": 2,
   "id": "4091ea84",
   "metadata": {
    "execution": {
     "iopub.execute_input": "2024-10-03T01:38:22.845099Z",
     "iopub.status.busy": "2024-10-03T01:38:22.844292Z",
     "iopub.status.idle": "2024-10-03T01:38:23.167417Z",
     "shell.execute_reply": "2024-10-03T01:38:23.167024Z"
    },
    "papermill": {
     "duration": 0.326556,
     "end_time": "2024-10-03T01:38:23.168604",
     "exception": false,
     "start_time": "2024-10-03T01:38:22.842048",
     "status": "completed"
    },
    "tags": []
   },
   "outputs": [
    {
     "name": "stdout",
     "output_type": "stream",
     "text": [
      "date and time: 2024-10-02\n",
      "time: 21:38:23\n",
      "LLM:  accounts/fireworks/models/llama-v3p1-405b-instruct \n",
      "Temperature:  0.1\n"
     ]
    }
   ],
   "source": [
    "prompt18 = \"Download the PDB for 2YXF. Tell me about its stability as found in the literature. Then, simulate it for 1 ns and plot its RMSD over time.\"\n",
    "llm_var = \"accounts/fireworks/models/llama-v3p1-405b-instruct\"\n",
    "paper_dir = \"paper_collection\"\n",
    "tools = \"all\"\n",
    "agent = MDCrow(agent_type=\"Structured\", model=llm_var, top_k_tools=tools, paper_dir=paper_dir)\n",
    "now = datetime.datetime.now()\n",
    "date = now.strftime(\"%Y-%m-%d\")\n",
    "print(\"date and time:\",date)\n",
    "time = now.strftime(\"%H:%M:%S\")\n",
    "print(\"time:\",time)\n",
    "print(\"LLM: \",agent.llm.model_name,\"\\nTemperature: \",agent.llm.temperature)"
   ]
  },
  {
   "cell_type": "code",
   "execution_count": 3,
   "id": "5966a086",
   "metadata": {
    "execution": {
     "iopub.execute_input": "2024-10-03T01:38:23.172421Z",
     "iopub.status.busy": "2024-10-03T01:38:23.172236Z",
     "iopub.status.idle": "2024-10-03T02:31:37.191355Z",
     "shell.execute_reply": "2024-10-03T02:31:37.190989Z"
    },
    "papermill": {
     "duration": 3194.022364,
     "end_time": "2024-10-03T02:31:37.192582",
     "exception": false,
     "start_time": "2024-10-03T01:38:23.170218",
     "status": "completed"
    },
    "tags": []
   },
   "outputs": [
    {
     "name": "stdout",
     "output_type": "stream",
     "text": [
      "Thought:"
     ]
    },
    {
     "name": "stdout",
     "output_type": "stream",
     "text": [
      " First, I need to download"
     ]
    },
    {
     "name": "stdout",
     "output_type": "stream",
     "text": [
      " the PDB file for 2Y"
     ]
    },
    {
     "name": "stdout",
     "output_type": "stream",
     "text": [
      "XF. Then, I will search"
     ]
    },
    {
     "name": "stdout",
     "output_type": "stream",
     "text": [
      " the literature for information on its stability."
     ]
    },
    {
     "name": "stdout",
     "output_type": "stream",
     "text": [
      " After that, I will set up"
     ]
    },
    {
     "name": "stdout",
     "output_type": "stream",
     "text": [
      " and run a simulation for "
     ]
    },
    {
     "name": "stdout",
     "output_type": "stream",
     "text": [
      "1 ns and plot its RMSD over"
     ]
    },
    {
     "name": "stdout",
     "output_type": "stream",
     "text": [
      " time.\n",
      "\n",
      "Action:\n",
      "```\n",
      "{\n",
      " "
     ]
    },
    {
     "name": "stdout",
     "output_type": "stream",
     "text": [
      " \""
     ]
    },
    {
     "name": "stdout",
     "output_type": "stream",
     "text": [
      "action\": \"PDBFileDownloader\",\n"
     ]
    },
    {
     "name": "stdout",
     "output_type": "stream",
     "text": [
      "  \"action_input\": \"2Y"
     ]
    },
    {
     "name": "stdout",
     "output_type": "stream",
     "text": [
      "XF\"\n",
      "}\n",
      "```\n"
     ]
    },
    {
     "name": "stdout",
     "output_type": "stream",
     "text": [
      "PDB file found with this ID: 2YXF\n"
     ]
    },
    {
     "name": "stdout",
     "output_type": "stream",
     "text": [
      "Thought:"
     ]
    },
    {
     "name": "stdout",
     "output_type": "stream",
     "text": [
      " Now that I have the PDB file"
     ]
    },
    {
     "name": "stdout",
     "output_type": "stream",
     "text": [
      ", I need to search the literature for"
     ]
    },
    {
     "name": "stdout",
     "output_type": "stream",
     "text": [
      " information on its stability.\n",
      "\n",
      "Action"
     ]
    },
    {
     "name": "stdout",
     "output_type": "stream",
     "text": [
      ":\n",
      "```\n",
      "{\n",
      "  \"action\":"
     ]
    },
    {
     "name": "stdout",
     "output_type": "stream",
     "text": [
      " \"LiteratureSearch\",\n",
      "  \"action"
     ]
    },
    {
     "name": "stdout",
     "output_type": "stream",
     "text": [
      "_input\": \"stability of 2"
     ]
    },
    {
     "name": "stdout",
     "output_type": "stream",
     "text": [
      "YXF\"\n",
      "}\n",
      "```\n",
      "\n"
     ]
    },
    {
     "name": "stdout",
     "output_type": "stream",
     "text": [
      "Paper Directory /gpfs/fs2/scratch/qcampbe2/repos/md-agent_gpt_params/notebooks/experiments/experiment_k1/llama-v3p1-405b-instruct/paper_collection\n"
     ]
    },
    {
     "name": "stderr",
     "output_type": "stream",
     "text": [
      "/scratch/qcampbe2/myenvs/mdcrow/lib/python3.12/site-packages/pydantic/main.py:364: UserWarning: Pydantic serializer warnings:\n",
      "  Expected `PromptTokensDetails` but got `dict` - serialized value may not be as expected\n",
      "  return self.__pydantic_serializer__.to_python(\n"
     ]
    },
    {
     "data": {
      "text/html": [
       "<pre style=\"white-space:pre;overflow-x:auto;line-height:normal;font-family:Menlo,'DejaVu Sans Mono',consolas,'Courier New',monospace\"><span style=\"color: #7fbfbf; text-decoration-color: #7fbfbf\">[21:38:31] </span>Starting paper search for <span style=\"color: #008000; text-decoration-color: #008000\">'protein 2YXF stability analysis, 2010-2024  '</span>.                               \n",
       "</pre>\n"
      ],
      "text/plain": [
       "\u001b[2;36m[21:38:31]\u001b[0m\u001b[2;36m \u001b[0mStarting paper search for \u001b[32m'protein 2YXF stability analysis, 2010-2024  '\u001b[0m.                               \n"
      ]
     },
     "metadata": {},
     "output_type": "display_data"
    },
    {
     "data": {
      "text/html": [
       "<pre style=\"white-space:pre;overflow-x:auto;line-height:normal;font-family:Menlo,'DejaVu Sans Mono',consolas,'Courier New',monospace\"><span style=\"color: #7fbfbf; text-decoration-color: #7fbfbf\">           </span>paper_search for query <span style=\"color: #008000; text-decoration-color: #008000\">'protein 2YXF stability analysis, 2010-2024  '</span> returned <span style=\"color: #008080; text-decoration-color: #008080; font-weight: bold\">8</span> papers.                \n",
       "</pre>\n"
      ],
      "text/plain": [
       "\u001b[2;36m          \u001b[0m\u001b[2;36m \u001b[0mpaper_search for query \u001b[32m'protein 2YXF stability analysis, 2010-2024  '\u001b[0m returned \u001b[1;36m8\u001b[0m papers.                \n"
      ]
     },
     "metadata": {},
     "output_type": "display_data"
    },
    {
     "data": {
      "text/html": [
       "<pre style=\"white-space:pre;overflow-x:auto;line-height:normal;font-family:Menlo,'DejaVu Sans Mono',consolas,'Courier New',monospace\"><span style=\"color: #7fbfbf; text-decoration-color: #7fbfbf\">           </span>Status: Paper <span style=\"color: #808000; text-decoration-color: #808000\">Count</span>=<span style=\"color: #008080; text-decoration-color: #008080; font-weight: bold\">8</span> | Relevant <span style=\"color: #808000; text-decoration-color: #808000\">Papers</span>=<span style=\"color: #008080; text-decoration-color: #008080; font-weight: bold\">0</span> | Current <span style=\"color: #808000; text-decoration-color: #808000\">Evidence</span>=<span style=\"color: #008080; text-decoration-color: #008080; font-weight: bold\">0</span> | Current <span style=\"color: #808000; text-decoration-color: #808000\">Cost</span>=$<span style=\"color: #008080; text-decoration-color: #008080; font-weight: bold\">0.0000</span>                   \n",
       "</pre>\n"
      ],
      "text/plain": [
       "\u001b[2;36m          \u001b[0m\u001b[2;36m \u001b[0mStatus: Paper \u001b[33mCount\u001b[0m=\u001b[1;36m8\u001b[0m | Relevant \u001b[33mPapers\u001b[0m=\u001b[1;36m0\u001b[0m | Current \u001b[33mEvidence\u001b[0m=\u001b[1;36m0\u001b[0m | Current \u001b[33mCost\u001b[0m=$\u001b[1;36m0.0000\u001b[0m                   \n"
      ]
     },
     "metadata": {},
     "output_type": "display_data"
    },
    {
     "data": {
      "text/html": [
       "<pre style=\"white-space:pre;overflow-x:auto;line-height:normal;font-family:Menlo,'DejaVu Sans Mono',consolas,'Courier New',monospace\"><span style=\"color: #7fbfbf; text-decoration-color: #7fbfbf\">           </span>Starting paper search for <span style=\"color: #008000; text-decoration-color: #008000\">'dynamics of 2YXF protein structure, 2015-2024  '</span>.                            \n",
       "</pre>\n"
      ],
      "text/plain": [
       "\u001b[2;36m          \u001b[0m\u001b[2;36m \u001b[0mStarting paper search for \u001b[32m'dynamics of 2YXF protein structure, 2015-2024  '\u001b[0m.                            \n"
      ]
     },
     "metadata": {},
     "output_type": "display_data"
    },
    {
     "data": {
      "text/html": [
       "<pre style=\"white-space:pre;overflow-x:auto;line-height:normal;font-family:Menlo,'DejaVu Sans Mono',consolas,'Courier New',monospace\"><span style=\"color: #7fbfbf; text-decoration-color: #7fbfbf\">           </span>paper_search for query <span style=\"color: #008000; text-decoration-color: #008000\">'dynamics of 2YXF protein structure, 2015-2024  '</span> returned <span style=\"color: #008080; text-decoration-color: #008080; font-weight: bold\">8</span> papers.             \n",
       "</pre>\n"
      ],
      "text/plain": [
       "\u001b[2;36m          \u001b[0m\u001b[2;36m \u001b[0mpaper_search for query \u001b[32m'dynamics of 2YXF protein structure, 2015-2024  '\u001b[0m returned \u001b[1;36m8\u001b[0m papers.             \n"
      ]
     },
     "metadata": {},
     "output_type": "display_data"
    },
    {
     "data": {
      "text/html": [
       "<pre style=\"white-space:pre;overflow-x:auto;line-height:normal;font-family:Menlo,'DejaVu Sans Mono',consolas,'Courier New',monospace\"><span style=\"color: #7fbfbf; text-decoration-color: #7fbfbf\">           </span>Status: Paper <span style=\"color: #808000; text-decoration-color: #808000\">Count</span>=<span style=\"color: #008080; text-decoration-color: #008080; font-weight: bold\">11</span> | Relevant <span style=\"color: #808000; text-decoration-color: #808000\">Papers</span>=<span style=\"color: #008080; text-decoration-color: #008080; font-weight: bold\">0</span> | Current <span style=\"color: #808000; text-decoration-color: #808000\">Evidence</span>=<span style=\"color: #008080; text-decoration-color: #008080; font-weight: bold\">0</span> | Current <span style=\"color: #808000; text-decoration-color: #808000\">Cost</span>=$<span style=\"color: #008080; text-decoration-color: #008080; font-weight: bold\">0.0000</span>                  \n",
       "</pre>\n"
      ],
      "text/plain": [
       "\u001b[2;36m          \u001b[0m\u001b[2;36m \u001b[0mStatus: Paper \u001b[33mCount\u001b[0m=\u001b[1;36m11\u001b[0m | Relevant \u001b[33mPapers\u001b[0m=\u001b[1;36m0\u001b[0m | Current \u001b[33mEvidence\u001b[0m=\u001b[1;36m0\u001b[0m | Current \u001b[33mCost\u001b[0m=$\u001b[1;36m0.0000\u001b[0m                  \n"
      ]
     },
     "metadata": {},
     "output_type": "display_data"
    },
    {
     "data": {
      "text/html": [
       "<pre style=\"white-space:pre;overflow-x:auto;line-height:normal;font-family:Menlo,'DejaVu Sans Mono',consolas,'Courier New',monospace\"><span style=\"color: #7fbfbf; text-decoration-color: #7fbfbf\">           </span>Starting paper search for <span style=\"color: #008000; text-decoration-color: #008000\">'molecular stability studies 2YXF, 2020-2024  '</span>.                              \n",
       "</pre>\n"
      ],
      "text/plain": [
       "\u001b[2;36m          \u001b[0m\u001b[2;36m \u001b[0mStarting paper search for \u001b[32m'molecular stability studies 2YXF, 2020-2024  '\u001b[0m.                              \n"
      ]
     },
     "metadata": {},
     "output_type": "display_data"
    },
    {
     "data": {
      "text/html": [
       "<pre style=\"white-space:pre;overflow-x:auto;line-height:normal;font-family:Menlo,'DejaVu Sans Mono',consolas,'Courier New',monospace\"><span style=\"color: #7fbfbf; text-decoration-color: #7fbfbf\">           </span>paper_search for query <span style=\"color: #008000; text-decoration-color: #008000\">'molecular stability studies 2YXF, 2020-2024  '</span> returned <span style=\"color: #008080; text-decoration-color: #008080; font-weight: bold\">8</span> papers.               \n",
       "</pre>\n"
      ],
      "text/plain": [
       "\u001b[2;36m          \u001b[0m\u001b[2;36m \u001b[0mpaper_search for query \u001b[32m'molecular stability studies 2YXF, 2020-2024  '\u001b[0m returned \u001b[1;36m8\u001b[0m papers.               \n"
      ]
     },
     "metadata": {},
     "output_type": "display_data"
    },
    {
     "data": {
      "text/html": [
       "<pre style=\"white-space:pre;overflow-x:auto;line-height:normal;font-family:Menlo,'DejaVu Sans Mono',consolas,'Courier New',monospace\"><span style=\"color: #7fbfbf; text-decoration-color: #7fbfbf\">           </span>Status: Paper <span style=\"color: #808000; text-decoration-color: #808000\">Count</span>=<span style=\"color: #008080; text-decoration-color: #008080; font-weight: bold\">12</span> | Relevant <span style=\"color: #808000; text-decoration-color: #808000\">Papers</span>=<span style=\"color: #008080; text-decoration-color: #008080; font-weight: bold\">0</span> | Current <span style=\"color: #808000; text-decoration-color: #808000\">Evidence</span>=<span style=\"color: #008080; text-decoration-color: #008080; font-weight: bold\">0</span> | Current <span style=\"color: #808000; text-decoration-color: #808000\">Cost</span>=$<span style=\"color: #008080; text-decoration-color: #008080; font-weight: bold\">0.0000</span>                  \n",
       "</pre>\n"
      ],
      "text/plain": [
       "\u001b[2;36m          \u001b[0m\u001b[2;36m \u001b[0mStatus: Paper \u001b[33mCount\u001b[0m=\u001b[1;36m12\u001b[0m | Relevant \u001b[33mPapers\u001b[0m=\u001b[1;36m0\u001b[0m | Current \u001b[33mEvidence\u001b[0m=\u001b[1;36m0\u001b[0m | Current \u001b[33mCost\u001b[0m=$\u001b[1;36m0.0000\u001b[0m                  \n"
      ]
     },
     "metadata": {},
     "output_type": "display_data"
    },
    {
     "data": {
      "text/html": [
       "<pre style=\"white-space:pre;overflow-x:auto;line-height:normal;font-family:Menlo,'DejaVu Sans Mono',consolas,'Courier New',monospace\"><span style=\"color: #7fbfbf; text-decoration-color: #7fbfbf\">           </span>gather_evidence starting for question <span style=\"color: #008000; text-decoration-color: #008000\">'stability of 2YXF'</span>.                                              \n",
       "</pre>\n"
      ],
      "text/plain": [
       "\u001b[2;36m          \u001b[0m\u001b[2;36m \u001b[0mgather_evidence starting for question \u001b[32m'stability of 2YXF'\u001b[0m.                                              \n"
      ]
     },
     "metadata": {},
     "output_type": "display_data"
    },
    {
     "data": {
      "text/html": [
       "<pre style=\"white-space:pre;overflow-x:auto;line-height:normal;font-family:Menlo,'DejaVu Sans Mono',consolas,'Courier New',monospace\"><span style=\"color: #7fbfbf; text-decoration-color: #7fbfbf\">[21:38:37] </span>Status: Paper <span style=\"color: #808000; text-decoration-color: #808000\">Count</span>=<span style=\"color: #008080; text-decoration-color: #008080; font-weight: bold\">12</span> | Relevant <span style=\"color: #808000; text-decoration-color: #808000\">Papers</span>=<span style=\"color: #008080; text-decoration-color: #008080; font-weight: bold\">2</span> | Current <span style=\"color: #808000; text-decoration-color: #808000\">Evidence</span>=<span style=\"color: #008080; text-decoration-color: #008080; font-weight: bold\">3</span> | Current <span style=\"color: #808000; text-decoration-color: #808000\">Cost</span>=$<span style=\"color: #008080; text-decoration-color: #008080; font-weight: bold\">0.0366</span>                  \n",
       "</pre>\n"
      ],
      "text/plain": [
       "\u001b[2;36m[21:38:37]\u001b[0m\u001b[2;36m \u001b[0mStatus: Paper \u001b[33mCount\u001b[0m=\u001b[1;36m12\u001b[0m | Relevant \u001b[33mPapers\u001b[0m=\u001b[1;36m2\u001b[0m | Current \u001b[33mEvidence\u001b[0m=\u001b[1;36m3\u001b[0m | Current \u001b[33mCost\u001b[0m=$\u001b[1;36m0.0366\u001b[0m                  \n"
      ]
     },
     "metadata": {},
     "output_type": "display_data"
    },
    {
     "data": {
      "text/html": [
       "<pre style=\"white-space:pre;overflow-x:auto;line-height:normal;font-family:Menlo,'DejaVu Sans Mono',consolas,'Courier New',monospace\"><span style=\"color: #7fbfbf; text-decoration-color: #7fbfbf\">           </span>Generating answer for <span style=\"color: #008000; text-decoration-color: #008000\">'stability of 2YXF'</span>.                                                              \n",
       "</pre>\n"
      ],
      "text/plain": [
       "\u001b[2;36m          \u001b[0m\u001b[2;36m \u001b[0mGenerating answer for \u001b[32m'stability of 2YXF'\u001b[0m.                                                              \n"
      ]
     },
     "metadata": {},
     "output_type": "display_data"
    },
    {
     "data": {
      "text/html": [
       "<pre style=\"white-space:pre;overflow-x:auto;line-height:normal;font-family:Menlo,'DejaVu Sans Mono',consolas,'Courier New',monospace\"><span style=\"color: #7fbfbf; text-decoration-color: #7fbfbf\">[21:38:41] </span>Status: Paper <span style=\"color: #808000; text-decoration-color: #808000\">Count</span>=<span style=\"color: #008080; text-decoration-color: #008080; font-weight: bold\">12</span> | Relevant <span style=\"color: #808000; text-decoration-color: #808000\">Papers</span>=<span style=\"color: #008080; text-decoration-color: #008080; font-weight: bold\">2</span> | Current <span style=\"color: #808000; text-decoration-color: #808000\">Evidence</span>=<span style=\"color: #008080; text-decoration-color: #008080; font-weight: bold\">3</span> | Current <span style=\"color: #808000; text-decoration-color: #808000\">Cost</span>=$<span style=\"color: #008080; text-decoration-color: #008080; font-weight: bold\">0.0432</span>                  \n",
       "</pre>\n"
      ],
      "text/plain": [
       "\u001b[2;36m[21:38:41]\u001b[0m\u001b[2;36m \u001b[0mStatus: Paper \u001b[33mCount\u001b[0m=\u001b[1;36m12\u001b[0m | Relevant \u001b[33mPapers\u001b[0m=\u001b[1;36m2\u001b[0m | Current \u001b[33mEvidence\u001b[0m=\u001b[1;36m3\u001b[0m | Current \u001b[33mCost\u001b[0m=$\u001b[1;36m0.0432\u001b[0m                  \n"
      ]
     },
     "metadata": {},
     "output_type": "display_data"
    },
    {
     "data": {
      "text/html": [
       "<pre style=\"white-space:pre;overflow-x:auto;line-height:normal;font-family:Menlo,'DejaVu Sans Mono',consolas,'Courier New',monospace\"><span style=\"color: #7fbfbf; text-decoration-color: #7fbfbf\">           </span><span style=\"color: #000080; text-decoration-color: #000080; font-weight: bold\">Answer: The stability of the β2-microglobulin variant 2YXF can be inferred from studies on similar β2m </span> \n",
       "<span style=\"color: #7fbfbf; text-decoration-color: #7fbfbf\">           </span><span style=\"color: #000080; text-decoration-color: #000080; font-weight: bold\">mutants and structural analyses. The structural characterization of β2m surface mutants, such as V85E, </span> \n",
       "<span style=\"color: #7fbfbf; text-decoration-color: #7fbfbf\">           </span><span style=\"color: #000080; text-decoration-color: #000080; font-weight: bold\">W60G-N83V, and W60G-Y63W, provides insights into the conformational dynamics that may affect the </span>       \n",
       "<span style=\"color: #7fbfbf; text-decoration-color: #7fbfbf\">           </span><span style=\"color: #000080; text-decoration-color: #000080; font-weight: bold\">stability of 2YXF. These mutations are well tolerated within the β2m fold, with notable conformational </span> \n",
       "<span style=\"color: #7fbfbf; text-decoration-color: #7fbfbf\">           </span><span style=\"color: #000080; text-decoration-color: #000080; font-weight: bold\">changes observed in the AB loop, which can adopt either open or closed conformations. Specifically, the </span>\n",
       "<span style=\"color: #7fbfbf; text-decoration-color: #7fbfbf\">           </span><span style=\"color: #000080; text-decoration-color: #000080; font-weight: bold\">closed AB loop conformation was seen in the W60G-Y63W and V85E mutants, while the wild-type β2m, W60G, </span> \n",
       "<span style=\"color: #7fbfbf; text-decoration-color: #7fbfbf\">           </span><span style=\"color: #000080; text-decoration-color: #000080; font-weight: bold\">and W60G-N83V exhibited an open conformation (Sala2017 pages </span><span style=\"color: #008080; text-decoration-color: #008080; font-weight: bold\">28</span><span style=\"color: #000080; text-decoration-color: #000080; font-weight: bold\">-</span><span style=\"color: #008080; text-decoration-color: #008080; font-weight: bold\">29</span><span style=\"color: #000080; text-decoration-color: #000080; font-weight: bold\">).</span>                                    \n",
       "<span style=\"color: #7fbfbf; text-decoration-color: #7fbfbf\">           </span>                                                                                                        \n",
       "<span style=\"color: #7fbfbf; text-decoration-color: #7fbfbf\">           </span><span style=\"color: #000080; text-decoration-color: #000080; font-weight: bold\">Thermal denaturation studies of these mutants indicate that the V85E mutation slightly decreases the </span>   \n",
       "<span style=\"color: #7fbfbf; text-decoration-color: #7fbfbf\">           </span><span style=\"color: #000080; text-decoration-color: #000080; font-weight: bold\">stability of wild-type β2m, with a reduction in melting temperature (Tm) by approximately </span><span style=\"color: #008080; text-decoration-color: #008080; font-weight: bold\">3</span><span style=\"color: #000080; text-decoration-color: #000080; font-weight: bold\">°C, due to </span>  \n",
       "<span style=\"color: #7fbfbf; text-decoration-color: #7fbfbf\">           </span><span style=\"color: #000080; text-decoration-color: #000080; font-weight: bold\">electrostatic repulsion between E85 and D34. In contrast, the Y63W and N83V mutations, when combined </span>   \n",
       "<span style=\"color: #7fbfbf; text-decoration-color: #7fbfbf\">           </span><span style=\"color: #000080; text-decoration-color: #000080; font-weight: bold\">with W60G, do not significantly alter the Tm compared to the W60G mutant alone, suggesting that these </span>  \n",
       "<span style=\"color: #7fbfbf; text-decoration-color: #7fbfbf\">           </span><span style=\"color: #000080; text-decoration-color: #000080; font-weight: bold\">mutations maintain similar thermodynamic stability to the wild-type or W60G β2m (Sala2017 pages </span><span style=\"color: #008080; text-decoration-color: #008080; font-weight: bold\">29</span><span style=\"color: #000080; text-decoration-color: #000080; font-weight: bold\">-</span><span style=\"color: #008080; text-decoration-color: #008080; font-weight: bold\">30</span><span style=\"color: #000080; text-decoration-color: #000080; font-weight: bold\">). </span>\n",
       "<span style=\"color: #7fbfbf; text-decoration-color: #7fbfbf\">           </span><span style=\"color: #000080; text-decoration-color: #000080; font-weight: bold\">These findings suggest that 2YXF may exhibit similar stability characteristics, although direct data on </span>\n",
       "<span style=\"color: #7fbfbf; text-decoration-color: #7fbfbf\">           </span><span style=\"color: #000080; text-decoration-color: #000080; font-weight: bold\">2YXF is not provided.</span>                                                                                   \n",
       "</pre>\n"
      ],
      "text/plain": [
       "\u001b[2;36m          \u001b[0m\u001b[2;36m \u001b[0m\u001b[1;34mAnswer: The stability of the β2-microglobulin variant 2YXF can be inferred from studies on similar β2m \u001b[0m \n",
       "\u001b[2;36m           \u001b[0m\u001b[1;34mmutants and structural analyses. The structural characterization of β2m surface mutants, such as V85E, \u001b[0m \n",
       "\u001b[2;36m           \u001b[0m\u001b[1;34mW60G-N83V, and W60G-Y63W, provides insights into the conformational dynamics that may affect the \u001b[0m       \n",
       "\u001b[2;36m           \u001b[0m\u001b[1;34mstability of 2YXF. These mutations are well tolerated within the β2m fold, with notable conformational \u001b[0m \n",
       "\u001b[2;36m           \u001b[0m\u001b[1;34mchanges observed in the AB loop, which can adopt either open or closed conformations. Specifically, the \u001b[0m\n",
       "\u001b[2;36m           \u001b[0m\u001b[1;34mclosed AB loop conformation was seen in the W60G-Y63W and V85E mutants, while the wild-type β2m, W60G, \u001b[0m \n",
       "\u001b[2;36m           \u001b[0m\u001b[1;34mand W60G-N83V exhibited an open conformation \u001b[0m\u001b[1;34m(\u001b[0m\u001b[1;34mSala2017 pages \u001b[0m\u001b[1;36m28\u001b[0m\u001b[1;34m-\u001b[0m\u001b[1;36m29\u001b[0m\u001b[1;34m)\u001b[0m\u001b[1;34m.\u001b[0m                                    \n",
       "\u001b[2;36m           \u001b[0m                                                                                                        \n",
       "\u001b[2;36m           \u001b[0m\u001b[1;34mThermal denaturation studies of these mutants indicate that the V85E mutation slightly decreases the \u001b[0m   \n",
       "\u001b[2;36m           \u001b[0m\u001b[1;34mstability of wild-type β2m, with a reduction in melting temperature \u001b[0m\u001b[1;34m(\u001b[0m\u001b[1;34mTm\u001b[0m\u001b[1;34m)\u001b[0m\u001b[1;34m by approximately \u001b[0m\u001b[1;36m3\u001b[0m\u001b[1;34m°C, due to \u001b[0m  \n",
       "\u001b[2;36m           \u001b[0m\u001b[1;34melectrostatic repulsion between E85 and D34. In contrast, the Y63W and N83V mutations, when combined \u001b[0m   \n",
       "\u001b[2;36m           \u001b[0m\u001b[1;34mwith W60G, do not significantly alter the Tm compared to the W60G mutant alone, suggesting that these \u001b[0m  \n",
       "\u001b[2;36m           \u001b[0m\u001b[1;34mmutations maintain similar thermodynamic stability to the wild-type or W60G β2m \u001b[0m\u001b[1;34m(\u001b[0m\u001b[1;34mSala2017 pages \u001b[0m\u001b[1;36m29\u001b[0m\u001b[1;34m-\u001b[0m\u001b[1;36m30\u001b[0m\u001b[1;34m)\u001b[0m\u001b[1;34m. \u001b[0m\n",
       "\u001b[2;36m           \u001b[0m\u001b[1;34mThese findings suggest that 2YXF may exhibit similar stability characteristics, although direct data on \u001b[0m\n",
       "\u001b[2;36m           \u001b[0m\u001b[1;34m2YXF is not provided.\u001b[0m                                                                                   \n"
      ]
     },
     "metadata": {},
     "output_type": "display_data"
    },
    {
     "name": "stdout",
     "output_type": "stream",
     "text": [
      "Question: stability of 2YXF\n",
      "\n",
      "The stability of the β2-microglobulin variant 2YXF can be inferred from studies on similar β2m mutants and structural analyses. The structural characterization of β2m surface mutants, such as V85E, W60G-N83V, and W60G-Y63W, provides insights into the conformational dynamics that may affect the stability of 2YXF. These mutations are well tolerated within the β2m fold, with notable conformational changes observed in the AB loop, which can adopt either open or closed conformations. Specifically, the closed AB loop conformation was seen in the W60G-Y63W and V85E mutants, while the wild-type β2m, W60G, and W60G-N83V exhibited an open conformation (Sala2017 pages 28-29).\n",
      "\n",
      "Thermal denaturation studies of these mutants indicate that the V85E mutation slightly decreases the stability of wild-type β2m, with a reduction in melting temperature (Tm) by approximately 3°C, due to electrostatic repulsion between E85 and D34. In contrast, the Y63W and N83V mutations, when combined with W60G, do not significantly alter the Tm compared to the W60G mutant alone, suggesting that these mutations maintain similar thermodynamic stability to the wild-type or W60G β2m (Sala2017 pages 29-30). These findings suggest that 2YXF may exhibit similar stability characteristics, although direct data on 2YXF is not provided.\n",
      "\n",
      "References\n",
      "\n",
      "1. (Sala2017 pages 29-30): Sala, Benedetta Maria. \"Dissecting Structural Aspects of Protein Stability.\" PhD thesis, Università degli Studi di Milano, 2017.\n",
      "\n",
      "2. (Sala2017 pages 28-29): Sala, Benedetta Maria. \"Dissecting Structural Aspects of Protein Stability.\" PhD thesis, Università degli Studi di Milano, 2017.\n",
      "\n"
     ]
    },
    {
     "name": "stdout",
     "output_type": "stream",
     "text": [
      "Thought:"
     ]
    },
    {
     "name": "stdout",
     "output_type": "stream",
     "text": [
      " Now that I have the literature information on"
     ]
    },
    {
     "name": "stdout",
     "output_type": "stream",
     "text": [
      " the stability of 2YXF,"
     ]
    },
    {
     "name": "stdout",
     "output_type": "stream",
     "text": [
      " I need to set up"
     ]
    },
    {
     "name": "stdout",
     "output_type": "stream",
     "text": [
      " and run a simulation for 1 ns"
     ]
    },
    {
     "name": "stdout",
     "output_type": "stream",
     "text": [
      " and plot its RMSD over time.\n",
      "\n"
     ]
    },
    {
     "name": "stdout",
     "output_type": "stream",
     "text": [
      "Action:\n",
      "```\n"
     ]
    },
    {
     "name": "stdout",
     "output_type": "stream",
     "text": [
      "{\n",
      "  \"action"
     ]
    },
    {
     "name": "stdout",
     "output_type": "stream",
     "text": [
      "\": \"SetUpandRunFunction\",\n",
      " "
     ]
    },
    {
     "name": "stdout",
     "output_type": "stream",
     "text": [
      " \"action_input\": {\n",
      "    \"pdb"
     ]
    },
    {
     "name": "stdout",
     "output_type": "stream",
     "text": [
      "_id\": \"2YXF_213"
     ]
    },
    {
     "name": "stdout",
     "output_type": "stream",
     "text": [
      "827\",\n",
      "    \"forcefield_files\":"
     ]
    },
    {
     "name": "stdout",
     "output_type": "stream",
     "text": [
      " [\"amber99sbildn.xml\","
     ]
    },
    {
     "name": "stdout",
     "output_type": "stream",
     "text": [
      " \"tip3"
     ]
    },
    {
     "name": "stdout",
     "output_type": "stream",
     "text": [
      "p.xml\"],\n",
      "    \"save\": true"
     ]
    },
    {
     "name": "stdout",
     "output_type": "stream",
     "text": [
      ",\n",
      "    \"system"
     ]
    },
    {
     "name": "stdout",
     "output_type": "stream",
     "text": [
      "_params\": {\n",
      "      \"nonbonded"
     ]
    },
    {
     "name": "stdout",
     "output_type": "stream",
     "text": [
      "Method\": \"NoCutoff\",\n",
      "     "
     ]
    },
    {
     "name": "stdout",
     "output_type": "stream",
     "text": [
      " \"constraints\": \"None\",\n",
      "     "
     ]
    },
    {
     "name": "stdout",
     "output_type": "stream",
     "text": [
      " \"rigidWater\": false\n"
     ]
    },
    {
     "name": "stdout",
     "output_type": "stream",
     "text": [
      "    },\n",
      "    \"integrator_params\":"
     ]
    },
    {
     "name": "stdout",
     "output_type": "stream",
     "text": [
      " {\n",
      "      \"integrator_type\": \""
     ]
    },
    {
     "name": "stdout",
     "output_type": "stream",
     "text": [
      "LangevinMiddle\",\n",
      "      \"Temperature"
     ]
    },
    {
     "name": "stdout",
     "output_type": "stream",
     "text": [
      "\": \"300 * kelvin\",\n",
      "     "
     ]
    },
    {
     "name": "stdout",
     "output_type": "stream",
     "text": [
      " \"Friction\": \"1.0"
     ]
    },
    {
     "name": "stdout",
     "output_type": "stream",
     "text": [
      " / picoseconds\",\n",
      "      \"Timestep"
     ]
    },
    {
     "name": "stdout",
     "output_type": "stream",
     "text": [
      "\": \"0.002 * picoseconds"
     ]
    },
    {
     "name": "stdout",
     "output_type": "stream",
     "text": [
      "\",\n",
      "      \"Pressure\": \""
     ]
    },
    {
     "name": "stdout",
     "output_type": "stream",
     "text": [
      "1.0 * bar\"\n",
      "    },\n"
     ]
    },
    {
     "name": "stdout",
     "output_type": "stream",
     "text": [
      "    \"simulation_params\": {\n",
      "      \""
     ]
    },
    {
     "name": "stdout",
     "output_type": "stream",
     "text": [
      "Ensemble\": \"NVT\",\n",
      "     "
     ]
    },
    {
     "name": "stdout",
     "output_type": "stream",
     "text": [
      " \"Number of Steps\": 500000"
     ]
    },
    {
     "name": "stdout",
     "output_type": "stream",
     "text": [
      ",\n",
      "      \"record_interval"
     ]
    },
    {
     "name": "stdout",
     "output_type": "stream",
     "text": [
      "_steps\": 1000,\n",
      "      \""
     ]
    },
    {
     "name": "stdout",
     "output_type": "stream",
     "text": [
      "record_params\": [\"step\", \"potential"
     ]
    },
    {
     "name": "stdout",
     "output_type": "stream",
     "text": [
      "Energy\", \"temperature\"]\n",
      "    }\n",
      " "
     ]
    },
    {
     "name": "stdout",
     "output_type": "stream",
     "text": [
      " }\n",
      "}\n",
      "```"
     ]
    },
    {
     "name": "stdout",
     "output_type": "stream",
     "text": [
      "Building system...\n"
     ]
    },
    {
     "name": "stdout",
     "output_type": "stream",
     "text": [
      "About to create system...\n",
      "Attempts at creating system: 0/3\n",
      "adding system without solvent\n",
      "Trying to add component to Forcefield...\n",
      "Residue code: MET\n",
      "Residue code not in solvent list. Adding forcefield                         not supported.\n"
     ]
    },
    {
     "name": "stdout",
     "output_type": "stream",
     "text": [
      "Thought:"
     ]
    },
    {
     "name": "stdout",
     "output_type": "stream",
     "text": [
      " The simulation failed due to a missing template"
     ]
    },
    {
     "name": "stdout",
     "output_type": "stream",
     "text": [
      " for residue 1 ("
     ]
    },
    {
     "name": "stdout",
     "output_type": "stream",
     "text": [
      "MET). I need to clean the"
     ]
    },
    {
     "name": "stdout",
     "output_type": "stream",
     "text": [
      " PDB file by adding"
     ]
    },
    {
     "name": "stdout",
     "output_type": "stream",
     "text": [
      " missing atoms and hydrogens before"
     ]
    },
    {
     "name": "stdout",
     "output_type": "stream",
     "text": [
      " running the simulation.\n",
      "\n",
      "Action"
     ]
    },
    {
     "name": "stdout",
     "output_type": "stream",
     "text": [
      ":\n",
      "```\n",
      "{\n",
      "  \"action\":"
     ]
    },
    {
     "name": "stdout",
     "output_type": "stream",
     "text": [
      " \"CleaningToolFunction\",\n",
      "  \"action"
     ]
    },
    {
     "name": "stdout",
     "output_type": "stream",
     "text": [
      "_input\": {\n",
      "    \"pdb_id\":"
     ]
    },
    {
     "name": "stdout",
     "output_type": "stream",
     "text": [
      " \"2YXF_213827\",\n"
     ]
    },
    {
     "name": "stdout",
     "output_type": "stream",
     "text": [
      "    \"replace_nonstandard_residues"
     ]
    },
    {
     "name": "stdout",
     "output_type": "stream",
     "text": [
      "\": true,\n",
      "    \"add_missing_atoms"
     ]
    },
    {
     "name": "stdout",
     "output_type": "stream",
     "text": [
      "\": true,\n",
      "    \"remove_heter"
     ]
    },
    {
     "name": "stdout",
     "output_type": "stream",
     "text": [
      "ogens\": true,\n",
      "    \"remove_water"
     ]
    },
    {
     "name": "stdout",
     "output_type": "stream",
     "text": [
      "\": true,\n",
      "    \"add_hydro"
     ]
    },
    {
     "name": "stdout",
     "output_type": "stream",
     "text": [
      "gens\": true,\n",
      "    \"add_h"
     ]
    },
    {
     "name": "stdout",
     "output_type": "stream",
     "text": [
      "ydrogens_ph\": 7.0"
     ]
    },
    {
     "name": "stdout",
     "output_type": "stream",
     "text": [
      "\n",
      "  }\n",
      "}\n",
      "```"
     ]
    },
    {
     "name": "stdout",
     "output_type": "stream",
     "text": [
      "file path: /gpfs/fs2/scratch/qcampbe2/repos/md-agent_gpt_params/ckpt/ckpt_6/pdb/2YXF_raw_20241002_213827.pdb\n"
     ]
    },
    {
     "name": "stdout",
     "output_type": "stream",
     "text": [
      "Thought:"
     ]
    },
    {
     "name": "stdout",
     "output_type": "stream",
     "text": [
      " Now that the PDB file has been"
     ]
    },
    {
     "name": "stdout",
     "output_type": "stream",
     "text": [
      " cleaned, I can set up and run"
     ]
    },
    {
     "name": "stdout",
     "output_type": "stream",
     "text": [
      " a simulation for 1 ns"
     ]
    },
    {
     "name": "stdout",
     "output_type": "stream",
     "text": [
      " and plot its RMSD over time.\n",
      "\n"
     ]
    },
    {
     "name": "stdout",
     "output_type": "stream",
     "text": [
      "Action:\n",
      "```\n",
      "{\n",
      "  \"action"
     ]
    },
    {
     "name": "stdout",
     "output_type": "stream",
     "text": [
      "\": \"SetUpandRunFunction\",\n",
      " "
     ]
    },
    {
     "name": "stdout",
     "output_type": "stream",
     "text": [
      " \"action_input\": {\n",
      "    \"pdb"
     ]
    },
    {
     "name": "stdout",
     "output_type": "stream",
     "text": [
      "_id\": \"2YXF_213"
     ]
    },
    {
     "name": "stdout",
     "output_type": "stream",
     "text": [
      "850\",\n",
      "    \"forcefield_files\":"
     ]
    },
    {
     "name": "stdout",
     "output_type": "stream",
     "text": [
      " [\"amber99sbildn.xml\","
     ]
    },
    {
     "name": "stdout",
     "output_type": "stream",
     "text": [
      " \"tip3p.xml\"],\n",
      "    \""
     ]
    },
    {
     "name": "stdout",
     "output_type": "stream",
     "text": [
      "save\": true,\n",
      "    \"system_params"
     ]
    },
    {
     "name": "stdout",
     "output_type": "stream",
     "text": [
      "\": {\n",
      "      \"nonbondedMethod"
     ]
    },
    {
     "name": "stdout",
     "output_type": "stream",
     "text": [
      "\": \"NoCutoff\",\n",
      "      \""
     ]
    },
    {
     "name": "stdout",
     "output_type": "stream",
     "text": [
      "constraints\": \"None\",\n",
      "      \"rig"
     ]
    },
    {
     "name": "stdout",
     "output_type": "stream",
     "text": [
      "idWater\": false\n",
      "    },\n",
      "   "
     ]
    },
    {
     "name": "stdout",
     "output_type": "stream",
     "text": [
      " \"integrator_params\": {\n",
      "      \""
     ]
    },
    {
     "name": "stdout",
     "output_type": "stream",
     "text": [
      "integrator_type\": \"Langevin"
     ]
    },
    {
     "name": "stdout",
     "output_type": "stream",
     "text": [
      "Middle\",\n",
      "      \"Temperature\": \"300"
     ]
    },
    {
     "name": "stdout",
     "output_type": "stream",
     "text": [
      " * kelvin\",\n",
      "      \"Friction"
     ]
    },
    {
     "name": "stdout",
     "output_type": "stream",
     "text": [
      "\": \"1.0 / picoseconds"
     ]
    },
    {
     "name": "stdout",
     "output_type": "stream",
     "text": [
      "\",\n",
      "      \"Timestep\": \"0"
     ]
    },
    {
     "name": "stdout",
     "output_type": "stream",
     "text": [
      ".002 * picoseconds\",\n",
      "      \""
     ]
    },
    {
     "name": "stdout",
     "output_type": "stream",
     "text": [
      "Pressure\": \"1.0 * bar"
     ]
    },
    {
     "name": "stdout",
     "output_type": "stream",
     "text": [
      "\"\n",
      "    },\n",
      "    \"simulation_params\":"
     ]
    },
    {
     "name": "stdout",
     "output_type": "stream",
     "text": [
      " {\n",
      "      \"Ensemble\": \"N"
     ]
    },
    {
     "name": "stdout",
     "output_type": "stream",
     "text": [
      "VT\",\n",
      "      \"Number of Steps\":"
     ]
    },
    {
     "name": "stdout",
     "output_type": "stream",
     "text": [
      " 500000,\n",
      "      \"record_interval"
     ]
    },
    {
     "name": "stdout",
     "output_type": "stream",
     "text": [
      "_steps\": 1000,\n",
      "      \""
     ]
    },
    {
     "name": "stdout",
     "output_type": "stream",
     "text": [
      "record_params\": [\"step\", \"potential"
     ]
    },
    {
     "name": "stdout",
     "output_type": "stream",
     "text": [
      "Energy\", \"temperature"
     ]
    },
    {
     "name": "stdout",
     "output_type": "stream",
     "text": [
      "\"]\n",
      "    }\n",
      " "
     ]
    },
    {
     "name": "stdout",
     "output_type": "stream",
     "text": [
      " }\n",
      "}\n",
      "```"
     ]
    },
    {
     "name": "stdout",
     "output_type": "stream",
     "text": [
      "Building system...\n"
     ]
    },
    {
     "name": "stdout",
     "output_type": "stream",
     "text": [
      "About to create system...\n",
      "Attempts at creating system: 0/3\n",
      "adding system without solvent\n",
      "System built successfully\n",
      "<openmm.openmm.System; proxy of <Swig Object of type 'OpenMM::System *' at 0x2b5625ebfae0> >\n",
      "Setting up integrator...\n",
      "Creating simulation...\n",
      "simulation set!\n",
      "Performing energy minimization...\n"
     ]
    },
    {
     "name": "stdout",
     "output_type": "stream",
     "text": [
      "Minimization complete!\n",
      "Initial Positions saved to initial_positions.pdb\n",
      "Equilibrating...\n"
     ]
    },
    {
     "name": "stdout",
     "output_type": "stream",
     "text": [
      "Simulating...\n"
     ]
    },
    {
     "name": "stdout",
     "output_type": "stream",
     "text": [
      "Done!\n"
     ]
    },
    {
     "name": "stdout",
     "output_type": "stream",
     "text": [
      "Standalone simulation script written to /gpfs/fs2/scratch/qcampbe2/repos/md-agent_gpt_params/ckpt/ckpt_6/simulations/NVT_2YXF_213850_20241002_213854.py\n",
      "['out.exp18_405b', 'exp18_405b.sh', 'out.exp12_405b', 'exp6_405b.sh', 'paper_collection', '.ipynb_checkpoints', 'TOP_sim0_213855_1FNF_213852_20241002_213856.pdb', 'exp_4.ipynb', 'exp12_405b.sh', 'exp_12.ipynb', 'results', 'TOP_sim0_213854_2YXF_213850_20241002_213854.pdb', 'LOG_sim0_213855_1FNF_213852_20241002_213856.txt', 'out.exp6_405b', 'LOG_sim0_213854_2YXF_213850_20241002_213854.txt', 'exp_18.ipynb', 'TRAJ_sim0_213855_1FNF_213852_20241002_213856.dcd', 'exp_6.ipynb', 'TRAJ_sim0_213854_2YXF_213850_20241002_213854.dcd']\n"
     ]
    },
    {
     "name": "stdout",
     "output_type": "stream",
     "text": [
      "Thought:"
     ]
    },
    {
     "name": "stdout",
     "output_type": "stream",
     "text": [
      " Now that the simulation is complete,"
     ]
    },
    {
     "name": "stdout",
     "output_type": "stream",
     "text": [
      " I need to plot"
     ]
    },
    {
     "name": "stdout",
     "output_type": "stream",
     "text": [
      " the RMSD over time.\n",
      "\n",
      "Action:\n"
     ]
    },
    {
     "name": "stdout",
     "output_type": "stream",
     "text": [
      "```\n",
      "{\n",
      " "
     ]
    },
    {
     "name": "stdout",
     "output_type": "stream",
     "text": [
      " \"action\": \"ComputeR"
     ]
    },
    {
     "name": "stdout",
     "output_type": "stream",
     "text": [
      "MSD\",\n",
      "  \"action_input\":"
     ]
    },
    {
     "name": "stdout",
     "output_type": "stream",
     "text": [
      " {\n",
      "    \"top_id\": \"top"
     ]
    },
    {
     "name": "stdout",
     "output_type": "stream",
     "text": [
      "_sim0_213854\",\n",
      "    \""
     ]
    },
    {
     "name": "stdout",
     "output_type": "stream",
     "text": [
      "traj_id\": \"rec0_"
     ]
    },
    {
     "name": "stdout",
     "output_type": "stream",
     "text": [
      "213854\",\n",
      "    \"ref_top"
     ]
    },
    {
     "name": "stdout",
     "output_type": "stream",
     "text": [
      "_id\": \"top_sim0_213"
     ]
    },
    {
     "name": "stdout",
     "output_type": "stream",
     "text": [
      "854\",\n",
      "    \"ref_traj_id\":"
     ]
    },
    {
     "name": "stdout",
     "output_type": "stream",
     "text": [
      " \"rec0_213854\",\n",
      "   "
     ]
    },
    {
     "name": "stdout",
     "output_type": "stream",
     "text": [
      " \"select\": \"protein\",\n",
      "    \""
     ]
    },
    {
     "name": "stdout",
     "output_type": "stream",
     "text": [
      "mol_name\": \"2YXF\"\n"
     ]
    },
    {
     "name": "stdout",
     "output_type": "stream",
     "text": [
      "  }\n",
      "}\n",
      "```\n"
     ]
    },
    {
     "name": "stdout",
     "output_type": "stream",
     "text": [
      "Calculating RMSD...\n"
     ]
    },
    {
     "name": "stdout",
     "output_type": "stream",
     "text": [
      "Data saved to /gpfs/fs2/scratch/qcampbe2/repos/md-agent_gpt_params/ckpt/ckpt_6/records/rmsd_2YXF.csv\n"
     ]
    },
    {
     "name": "stdout",
     "output_type": "stream",
     "text": [
      "Plot saved to /gpfs/fs2/scratch/qcampbe2/repos/md-agent_gpt_params/ckpt/ckpt_6/figures/FIG_rmsd_2YXF_20241002_223133.png\n"
     ]
    },
    {
     "name": "stdout",
     "output_type": "stream",
     "text": [
      "Thought:"
     ]
    },
    {
     "name": "stdout",
     "output_type": "stream",
     "text": [
      " Now that I have the RMSD plot"
     ]
    },
    {
     "name": "stdout",
     "output_type": "stream",
     "text": [
      ", I can provide the"
     ]
    },
    {
     "name": "stdout",
     "output_type": "stream",
     "text": [
      " final answer to the user.\n",
      "\n"
     ]
    },
    {
     "name": "stdout",
     "output_type": "stream",
     "text": [
      "Action:\n",
      "```\n",
      "{\n",
      "  \"action"
     ]
    },
    {
     "name": "stdout",
     "output_type": "stream",
     "text": [
      "\": \"Final Answer\",\n",
      "  \"action"
     ]
    },
    {
     "name": "stdout",
     "output_type": "stream",
     "text": [
      "_input\": \"The PDB file for"
     ]
    },
    {
     "name": "stdout",
     "output_type": "stream",
     "text": [
      " 2YXF has been downloaded and"
     ]
    },
    {
     "name": "stdout",
     "output_type": "stream",
     "text": [
      " cleaned. According to the literature, the"
     ]
    },
    {
     "name": "stdout",
     "output_type": "stream",
     "text": [
      " stability of 2"
     ]
    },
    {
     "name": "stdout",
     "output_type": "stream",
     "text": [
      "YXF can be"
     ]
    },
    {
     "name": "stdout",
     "output_type": "stream",
     "text": [
      " inferred from studies on"
     ]
    },
    {
     "name": "stdout",
     "output_type": "stream",
     "text": [
      " similar β2m mutants and structural"
     ]
    },
    {
     "name": "stdout",
     "output_type": "stream",
     "text": [
      " analyses. The simulation for 1 ns"
     ]
    },
    {
     "name": "stdout",
     "output_type": "stream",
     "text": [
      " has been completed, and the RMSD"
     ]
    },
    {
     "name": "stdout",
     "output_type": "stream",
     "text": [
      " over time has been plotted."
     ]
    },
    {
     "name": "stdout",
     "output_type": "stream",
     "text": [
      " The RMSD plot is saved with"
     ]
    },
    {
     "name": "stdout",
     "output_type": "stream",
     "text": [
      " plot ID fig0_223133.\"\n"
     ]
    },
    {
     "name": "stdout",
     "output_type": "stream",
     "text": [
      "}\n",
      "```"
     ]
    },
    {
     "data": {
      "text/plain": [
       "({'input': '\\n    You are an expert molecular dynamics scientist, and\\n    your task is to respond to the question or\\n    solve the problem to the best of your ability using\\n    the provided tools.\\n\\n    You can only respond with a single complete\\n    \\'Thought, Action, Action Input\\' format\\n    OR a single \\'Final Answer\\' format.\\n\\n    Complete format:\\n    Thought: (reflect on your progress and decide what to do next)\\n    Action:\\n    ```\\n    {\\n        \"action\": (the action name, it should be the name of a tool),\\n        \"action_input\": (the input string for the action)\\n    }\\n    \\'\\'\\'\\n\\n    OR\\n\\n    Final Answer: (the final response to the original input\\n    question, once all steps are complete)\\n\\n    You are required to use the tools provided,\\n    using the most specific tool\\n    available for each action.\\n    Your final answer should contain all information\\n    necessary to answer the question and its subquestions.\\n    Before you finish, reflect on your progress and make\\n    sure you have addressed the question in its entirety.\\n\\n    If you are asked to continue\\n    or reference previous runs,\\n    the context will be provided to you.\\n    If context is provided, you should assume\\n    you are continuing a chat.\\n\\n    Here is the input:\\n    Previous Context: None\\n    Question: Download the PDB for 2YXF. Tell me about its stability as found in the literature. Then, simulate it for 1 ns and plot its RMSD over time. ',\n",
       "  'output': 'The PDB file for 2YXF has been downloaded and cleaned. According to the literature, the stability of 2YXF can be inferred from studies on similar β2m mutants and structural analyses. The simulation for 1 ns has been completed, and the RMSD over time has been plotted. The RMSD plot is saved with plot ID fig0_223133.'},\n",
       " 'H9AKK419')"
      ]
     },
     "execution_count": 3,
     "metadata": {},
     "output_type": "execute_result"
    }
   ],
   "source": [
    "agent.run(prompt18)"
   ]
  },
  {
   "cell_type": "code",
   "execution_count": 4,
   "id": "b8dab48b",
   "metadata": {
    "execution": {
     "iopub.execute_input": "2024-10-03T02:31:37.211327Z",
     "iopub.status.busy": "2024-10-03T02:31:37.211088Z",
     "iopub.status.idle": "2024-10-03T02:31:37.216226Z",
     "shell.execute_reply": "2024-10-03T02:31:37.215740Z"
    },
    "papermill": {
     "duration": 0.015827,
     "end_time": "2024-10-03T02:31:37.217597",
     "exception": false,
     "start_time": "2024-10-03T02:31:37.201770",
     "status": "completed"
    },
    "tags": []
   },
   "outputs": [
    {
     "name": "stdout",
     "output_type": "stream",
     "text": [
      "date and time: 2024-10-02\n",
      "time: 22:31:37\n",
      "ckpt_dir: ckpt_6\n",
      "Files found in registry: 2YXF_213827: PDB file downloaded from RSCB\n",
      " PDBFile ID: 2YXF_213827\n",
      " 2YXF_213850: Cleaned File:  Removed Heterogens\n",
      " and Water Removed.  Replaced Nonstandard Residues. Added Hydrogens at pH 7.0. Missing Atoms Added and replaces nonstandard residues. \n",
      " top_sim0_213854: Initial positions for simulation sim0_213854\n",
      " sim0_213854: Basic Simulation of Protein 2YXF_213850\n",
      " rec0_213854: Simulation trajectory for protein 2YXF_213850 and simulation sim0_213854\n",
      " rec1_213854: Simulation state log for protein 2YXF_213850 and simulation sim0_213854\n",
      " rec2_213854: Simulation pdb frames for protein 2YXF_213850 and simulation sim0_213854\n",
      " rmsd_2YXF: RMSD for 2YXF\n",
      " fig0_223133: RMSD plot for 2YXF\n"
     ]
    }
   ],
   "source": [
    "now = datetime.datetime.now()\n",
    "date = now.strftime(\"%Y-%m-%d\")\n",
    "print(\"date and time:\",date)\n",
    "time = now.strftime(\"%H:%M:%S\")\n",
    "print(\"time:\",time)\n",
    "\n",
    "registry = agent.path_registry\n",
    "print('ckpt_dir:',os.path.basename(registry.ckpt_dir))\n",
    "paths_and_descriptions = registry.list_path_names_and_descriptions()\n",
    "print(\"\\n\".join(paths_and_descriptions.split(\",\")))"
   ]
  },
  {
   "cell_type": "code",
   "execution_count": 5,
   "id": "b2195e1f",
   "metadata": {
    "execution": {
     "iopub.execute_input": "2024-10-03T02:31:37.236142Z",
     "iopub.status.busy": "2024-10-03T02:31:37.235921Z",
     "iopub.status.idle": "2024-10-03T02:31:37.308409Z",
     "shell.execute_reply": "2024-10-03T02:31:37.307837Z"
    },
    "papermill": {
     "duration": 0.083558,
     "end_time": "2024-10-03T02:31:37.309917",
     "exception": false,
     "start_time": "2024-10-03T02:31:37.226359",
     "status": "completed"
    },
    "tags": []
   },
   "outputs": [
    {
     "name": "stdout",
     "output_type": "stream",
     "text": [
      "It is asserted that file path for fig0_223133 exists\n"
     ]
    }
   ],
   "source": [
    "import re\n",
    "import os\n",
    "match = re.search(r\"fig0_\\d+\", paths_and_descriptions)\n",
    "file_id = match.group(0)\n",
    "file_path = registry.get_mapped_path(file_id)\n",
    "assert os.path.exists(file_path)\n",
    "print(f'It is asserted that file path for {file_id} exists')"
   ]
  },
  {
   "cell_type": "code",
   "execution_count": 6,
   "id": "767d3d5c",
   "metadata": {
    "execution": {
     "iopub.execute_input": "2024-10-03T02:31:37.329078Z",
     "iopub.status.busy": "2024-10-03T02:31:37.328839Z",
     "iopub.status.idle": "2024-10-03T02:31:37.338707Z",
     "shell.execute_reply": "2024-10-03T02:31:37.338277Z"
    },
    "papermill": {
     "duration": 0.0208,
     "end_time": "2024-10-03T02:31:37.339966",
     "exception": false,
     "start_time": "2024-10-03T02:31:37.319166",
     "status": "completed"
    },
    "tags": []
   },
   "outputs": [
    {
     "data": {
      "image/png": "[encoded data removed]",
      "text/plain": [
       "<IPython.core.display.Image object>"
      ]
     },
     "execution_count": 6,
     "metadata": {},
     "output_type": "execute_result"
    }
   ],
   "source": [
    "from IPython.display import Image\n",
    "Image(filename=file_path)"
   ]
  }
 ],
 "metadata": {
  "kernelspec": {
   "display_name": "mdcrow",
   "language": "python",
   "name": "mdcrow"
  },
  "language_info": {
   "codemirror_mode": {
    "name": "ipython",
    "version": 3
   },
   "file_extension": ".py",
   "mimetype": "text/x-python",
   "name": "python",
   "nbconvert_exporter": "python",
   "pygments_lexer": "ipython3",
   "version": "3.12.4"
  },
  "papermill": {
   "default_parameters": {},
   "duration": 3251.452192,
   "end_time": "2024-10-03T02:31:38.830862",
   "environment_variables": {},
   "exception": null,
   "input_path": "exp_18.ipynb",
   "output_path": "results/exp_18.ipynb",
   "parameters": {},
   "start_time": "2024-10-03T01:37:27.378670",
   "version": "2.6.0"
  }
 },
 "nbformat": 4,
 "nbformat_minor": 5
}
