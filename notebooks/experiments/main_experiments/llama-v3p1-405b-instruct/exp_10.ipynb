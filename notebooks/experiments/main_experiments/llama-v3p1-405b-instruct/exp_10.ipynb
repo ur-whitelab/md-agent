{
 "cells": [
  {
   "cell_type": "code",
   "execution_count": 7,
   "metadata": {},
   "outputs": [],
   "source": [
    "from mdcrow import MDCrow\n",
    "import os"
   ]
  },
  {
   "cell_type": "code",
   "execution_count": 2,
   "metadata": {},
   "outputs": [
    {
     "name": "stdout",
     "output_type": "stream",
     "text": [
      "date: 2024-08-19\n",
      "time: 15:42:40\n"
     ]
    }
   ],
   "source": [
    "#todays date and time\n",
    "import datetime\n",
    "\n",
    "start = datetime.datetime.now()\n",
    "date = start.strftime(\"%Y-%m-%d\")\n",
    "print(\"date:\",date)\n",
    "time = start.strftime(\"%H:%M:%S\")\n",
    "print(\"time:\",time)"
   ]
  },
  {
   "cell_type": "code",
   "execution_count": 3,
   "metadata": {},
   "outputs": [
    {
     "name": "stdout",
     "output_type": "stream",
     "text": [
      "LLM:  accounts/fireworks/models/llama-v3p1-405b-instruct \n",
      "Temperature:  0.1\n"
     ]
    }
   ],
   "source": [
    "model = \"accounts/fireworks/models/llama-v3p1-405b-instruct\"\n",
    "\n",
    "agent = MDCrow(\n",
    "    agent_type='Structured', \n",
    "    model=model, \n",
    "    tools_model=model,\n",
    "    top_k_tools=\"all\"\n",
    ")\n",
    "\n",
    "print(\"LLM: \", agent.llm.model_name,\"\\nTemperature: \", agent.llm.temperature)"
   ]
  },
  {
   "cell_type": "code",
   "execution_count": 4,
   "metadata": {},
   "outputs": [
    {
     "name": "stdout",
     "output_type": "stream",
     "text": [
      "Thought: First, I need to download the PDB file for protein 1ZNI.\n",
      "Action:\n",
      "```\n",
      "{\n",
      "  \"action\": \"PDBFileDownloader\",\n",
      "  \"action_input\": \"1ZNI\"\n",
      "}\n",
      "```PDB file found with this ID: 1ZNI\n",
      "Next, I need to set up and run a simulation of protein 1ZNI at 300 K for 1 ns.\n",
      "\n",
      "Action:\n",
      "```\n",
      "{\n",
      "  \"action\": \"SetUpandRunFunction\",\n",
      "  \"action_input\": {\n",
      "    \"pdb_id\": \"1ZNI_154244\",\n",
      "    \"forcefield_files\": [\"amber99sbildn.xml\"],\n",
      "    \"save\": true,\n",
      "    \"system_params\": {\n",
      "      \"nonbondedMethod\": \"NoCutoff\",\n",
      "      \"constraints\": \"None\",\n",
      "      \"rigidWater\": false\n",
      "    },\n",
      "    \"integrator_params\": {\n",
      "      \"integrator_type\": \"LangevinMiddle\",\n",
      "      \"Temperature\": \"300 * kelvin\",\n",
      "      \"Friction\": \"1.0 / picoseconds\",\n",
      "      \"Timestep\": \"0.002 * picoseconds\",\n",
      "      \"Pressure\": \"1.0 * bar\"\n",
      "    },\n",
      "    \"simulation_params\": {\n",
      "      \"Ensemble\": \"NVT\",\n",
      "      \"Number of Steps\": 500000,\n",
      "      \"record_interval_steps\": 1000,\n",
      "      \"record_params\": [\"step\", \"potentialEnergy\", \"temperature\"]\n",
      "    }\n",
      "  }\n",
      "}\n",
      "```Building system...\n",
      "About to create system...\n",
      "Attempts at creating system: 0/3\n",
      "adding system without solvent\n",
      "Trying to add component to Forcefield...\n",
      "Residue code: GLY\n",
      "Residue code not in solvent list. Adding forcefield                         not supported.\n",
      "Thought: The simulation failed due to missing hydrogen atoms in the residue GLY. I need to add the missing hydrogen atoms to the PDB file before running the simulation.\n",
      "\n",
      "Action:\n",
      "```\n",
      "{\n",
      "  \"action\": \"CleaningToolFunction\",\n",
      "  \"action_input\": {\n",
      "    \"pdb_id\": \"1ZNI_154244\",\n",
      "    \"replace_nonstandard_residues\": true,\n",
      "    \"add_missing_atoms\": true,\n",
      "    \"remove_heterogens\": true,\n",
      "    \"remove_water\": true,\n",
      "    \"add_hydrogens\": true,\n",
      "    \"add_hydrogens_ph\": 7.0\n",
      "  }\n",
      "}\n",
      "```file path: /gpfs/fs2/scratch/qcampbe2/repos/md-agent/ckpt/ckpt_91/pdb/1ZNI_raw_20240819_154244.pdb\n",
      "Thought: Now that the PDB file has been cleaned and the missing hydrogen atoms have been added, I can set up and run the simulation of protein 1ZNI at 300 K for 1 ns.\n",
      "\n",
      "Action:\n",
      "```\n",
      "{\n",
      "  \"action\": \"SetUpandRunFunction\",\n",
      "  \"action_input\": {\n",
      "    \"pdb_id\": \"1ZNI_154254\",\n",
      "    \"forcefield_files\": [\"amber99sbildn.xml\"],\n",
      "    \"save\": true,\n",
      "    \"system_params\": {\n",
      "      \"nonbondedMethod\": \"NoCutoff\",\n",
      "      \"constraints\": \"None\",\n",
      "      \"rigidWater\": false\n",
      "    },\n",
      "    \"integrator_params\": {\n",
      "      \"integrator_type\": \"LangevinMiddle\",\n",
      "      \"Temperature\": \"300 * kelvin\",\n",
      "      \"Friction\": \"1.0 / picoseconds\",\n",
      "      \"Timestep\": \"0.002 * picoseconds\",\n",
      "      \"Pressure\": \"1.0 * bar\"\n",
      "    },\n",
      "    \"simulation_params\": {\n",
      "      \"Ensemble\": \"NVT\",\n",
      "      \"Number of Steps\": 500000,\n",
      "      \"record_interval_steps\": 1000,\n",
      "      \"record_params\": [\"step\", \"potentialEnergy\", \"temperature\"]\n",
      "    }\n",
      "  }\n",
      "}\n",
      "```Building system...\n",
      "About to create system...\n",
      "Attempts at creating system: 0/3\n",
      "adding system without solvent\n",
      "System built successfully\n",
      "<openmm.openmm.System; proxy of <Swig Object of type 'OpenMM::System *' at 0x7f7da0fc3750> >\n",
      "Setting up integrator...\n",
      "Creating simulation...\n",
      "simulation set!\n",
      "Performing energy minimization...\n",
      "Minimization complete!\n",
      "Initial Positions saved to initial_positions.pdb\n",
      "Equilibrating...\n",
      "Simulating...\n",
      "Done!\n",
      "Standalone simulation script written to /gpfs/fs2/scratch/qcampbe2/repos/md-agent/ckpt/ckpt_91/simulations/NVT_1ZNI_154254_20240819_154258.py\n",
      "['exp_10.ipynb', 'TRAJ_sim0_160930_1FNF_160927_20240819_160931.dcd', 'TRAJ_sim0_161459_1UBQ_161452_20240819_161500.dcd', 'exp_13.ipynb', 'exp_22.ipynb', 'exp_8.ipynb', 'LOG_sim0_154258_1ZNI_154254_20240819_154259.txt', 'exp_3.ipynb', 'exp_17.ipynb', 'exp_1.ipynb', '.ipynb_checkpoints', 'TRAJ_sim0_154258_1ZNI_154254_20240819_154259.dcd', 'LOG_sim0_161459_1UBQ_161452_20240819_161500.txt', 'exp_4.ipynb', 'exp_24.ipynb', 'TOP_sim0_160930_1FNF_160927_20240819_160931.pdb', 'exp_12.ipynb', 'LOG_sim0_160930_1FNF_160927_20240819_160931.txt', 'TOP_sim0_154258_1ZNI_154254_20240819_154259.pdb', 'LOG_sim0_133020_1MBN_133016_20240819_133021.txt', 'exp_19.ipynb', 'TRAJ_sim0_133020_1MBN_133016_20240819_133021.dcd', 'exp_9.ipynb', 'exp_5.ipynb', 'exp_7.ipynb', 'TOP_sim0_134642_1MBN_134637_20240819_134642.pdb', 'TOP_sim0_161459_1UBQ_161452_20240819_161500.pdb', 'exp_2.ipynb', 'exp_18.ipynb', 'TOP_sim0_133020_1MBN_133016_20240819_133021.pdb', 'exp_15.ipynb', 'exp_6.ipynb', 'TRAJ_sim0_134642_1MBN_134637_20240819_134642.dcd', 'exp_20.ipynb', 'exp_23.ipynb', 'exp_16.ipynb', 'LOG_sim0_134642_1MBN_134637_20240819_134642.txt', 'exp_11.ipynb', 'exp_21.ipynb', 'exp_25.ipynb']\n",
      "Thought: Now that the simulation is complete, I need to calculate the RMSD of the protein 1ZNI.\n",
      "\n",
      "Action:\n",
      "```\n",
      "{\n",
      "  \"action\": \"ComputeRMSD\",\n",
      "  \"action_input\": {\n",
      "    \"top_id\": \"top_sim0_154258\",\n",
      "    \"traj_id\": \"rec0_154259\",\n",
      "    \"ref_top_id\": \"top_sim0_154258\",\n",
      "    \"ref_traj_id\": \"rec0_154259\",\n",
      "    \"select\": \"protein\",\n",
      "    \"mol_name\": \"1ZNI\"\n",
      "  }\n",
      "}\n",
      "```Calculating RMSD...\n",
      "Data saved to /gpfs/fs2/scratch/qcampbe2/repos/md-agent/ckpt/ckpt_91/records/rmsd_1ZNI.csv\n",
      "Plot saved to /gpfs/fs2/scratch/qcampbe2/repos/md-agent/ckpt/ckpt_91/figures/FIG_rmsd_1ZNI_20240819_161557.png\n",
      "Thought: The RMSD calculation is complete, and the results are saved in a CSV file with ID rmsd_1ZNI and a plot with ID fig0_161557. I can now provide the final answer.\n",
      "\n",
      "Action:\n",
      "```\n",
      "{\n",
      "  \"action\": \"Final Answer\",\n",
      "  \"action_input\": \"The RMSD of protein 1ZNI at 300 K for 1 ns is calculated and saved in a CSV file with ID rmsd_1ZNI and a plot with ID fig0_161557.\"\n",
      "}\n",
      "```"
     ]
    }
   ],
   "source": [
    "prompt10 = \"Simulate protein 1ZNI at 300 K for 1 ns and calculate the RMSD.\"\n",
    "answer = agent.run(prompt10)"
   ]
  },
  {
   "cell_type": "code",
   "execution_count": 5,
   "metadata": {},
   "outputs": [
    {
     "name": "stdout",
     "output_type": "stream",
     "text": [
      "duration: 33.34 minutes\n"
     ]
    }
   ],
   "source": [
    "end = datetime.datetime.now()\n",
    "elapsed = end - start\n",
    "print(f\"duration: {elapsed.total_seconds()/60:.2f} minutes\")"
   ]
  },
  {
   "cell_type": "code",
   "execution_count": 8,
   "metadata": {},
   "outputs": [
    {
     "name": "stdout",
     "output_type": "stream",
     "text": [
      "ckpt_91\n",
      "Files found in registry: 1ZNI_154244: PDB file downloaded from RSCB\n",
      " PDBFile ID: 1ZNI_154244\n",
      " 1ZNI_154254: Cleaned File:  Removed Heterogens\n",
      " and Water Removed.  Replaced Nonstandard Residues. Added Hydrogens at pH 7.0. Missing Atoms Added and replaces nonstandard residues. \n",
      " top_sim0_154258: Initial positions for simulation sim0_154258\n",
      " sim0_154258: Basic Simulation of Protein 1ZNI_154254\n",
      " rec0_154259: Simulation trajectory for protein 1ZNI_154254 and simulation sim0_154258\n",
      " rec1_154259: Simulation state log for protein 1ZNI_154254 and simulation sim0_154258\n",
      " rec2_154259: Simulation pdb frames for protein 1ZNI_154254 and simulation sim0_154258\n",
      " rmsd_1ZNI: RMSD for 1ZNI\n",
      " fig0_161557: RMSD plot for 1ZNI\n"
     ]
    }
   ],
   "source": [
    "registry = agent.path_registry\n",
    "print(os.path.basename(registry.ckpt_dir))\n",
    "paths_and_descriptions = registry.list_path_names_and_descriptions()\n",
    "print(\"\\n\".join(paths_and_descriptions.split(\",\")))"
   ]
  },
  {
   "cell_type": "code",
   "execution_count": 9,
   "metadata": {},
   "outputs": [],
   "source": [
    "#ensure all files are in path registry\n",
    "assert all(n in paths_and_descriptions for n in ['1ZNI', 'rmsd', 'sim0', 'top_sim0', 'fig0']), \"Not all file ids are present in path registry\""
   ]
  },
  {
   "cell_type": "code",
   "execution_count": 10,
   "metadata": {},
   "outputs": [],
   "source": [
    "# let's see if we can't grab the plot\n",
    "import re\n",
    "import os\n",
    "match = re.search(r\"fig0_\\d+\", paths_and_descriptions)\n",
    "plot_path = registry.get_mapped_path(match.group(0))\n",
    "assert os.path.exists(plot_path)"
   ]
  },
  {
   "cell_type": "code",
   "execution_count": 12,
   "metadata": {},
   "outputs": [
    {
     "data": {
      "image/png": "[encoded data removed]",
      "text/plain": [
       "<IPython.core.display.Image object>"
      ]
     },
     "execution_count": 12,
     "metadata": {},
     "output_type": "execute_result"
    }
   ],
   "source": [
    "from IPython.display import Image\n",
    "\n",
    "Image(filename=plot_path)"
   ]
  },
  {
   "cell_type": "markdown",
   "metadata": {},
   "source": [
    "# Experiment Result: ✅❌\n",
    "\n",
    "1. Completed without Exception or TimeOut Errors ✅\n",
    "2. Attempted all necessary steps ✅\n",
    "3.  Completed without Hallucination ✅\n",
    "4. Logic make sense ✅\n",
    "5.  Correct Answer ✅\n"
   ]
  }
 ],
 "metadata": {
  "kernelspec": {
   "display_name": "mdcrow",
   "language": "python",
   "name": "mdcrow"
  },
  "language_info": {
   "codemirror_mode": {
    "name": "ipython",
    "version": 3
   },
   "file_extension": ".py",
   "mimetype": "text/x-python",
   "name": "python",
   "nbconvert_exporter": "python",
   "pygments_lexer": "ipython3",
   "version": "3.12.4"
  }
 },
 "nbformat": 4,
 "nbformat_minor": 4
}
