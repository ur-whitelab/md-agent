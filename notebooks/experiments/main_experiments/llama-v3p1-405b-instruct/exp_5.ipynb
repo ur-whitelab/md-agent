{
 "cells": [
  {
   "cell_type": "code",
   "execution_count": 1,
   "id": "11bd7273",
   "metadata": {
    "editable": true,
    "execution": {
     "iopub.execute_input": "2024-10-18T03:39:24.288019Z",
     "iopub.status.busy": "2024-10-18T03:39:24.287744Z",
     "iopub.status.idle": "2024-10-18T03:39:46.614680Z",
     "shell.execute_reply": "2024-10-18T03:39:46.614115Z"
    },
    "papermill": {
     "duration": 22.334712,
     "end_time": "2024-10-18T03:39:46.616651",
     "exception": false,
     "start_time": "2024-10-18T03:39:24.281939",
     "status": "completed"
    },
    "slideshow": {
     "slide_type": ""
    },
    "tags": []
   },
   "outputs": [],
   "source": [
    "import datetime\n",
    "import os\n",
    "from mdcrow import MDCrow"
   ]
  },
  {
   "cell_type": "code",
   "execution_count": 2,
   "id": "4b7aeb82",
   "metadata": {
    "editable": true,
    "execution": {
     "iopub.execute_input": "2024-10-18T03:39:46.625379Z",
     "iopub.status.busy": "2024-10-18T03:39:46.624467Z",
     "iopub.status.idle": "2024-10-18T03:39:46.629897Z",
     "shell.execute_reply": "2024-10-18T03:39:46.629230Z"
    },
    "papermill": {
     "duration": 0.010168,
     "end_time": "2024-10-18T03:39:46.631623",
     "exception": false,
     "start_time": "2024-10-18T03:39:46.621455",
     "status": "completed"
    },
    "slideshow": {
     "slide_type": ""
    },
    "tags": [
     "parameters"
    ]
   },
   "outputs": [],
   "source": [
    "prompt5 = \"Simulate 1VII for 1 ns at a temperature of 300 K. Then, tell me if the secondary structure changed from the beginning of the simulation to the end of the simulation.\"\n",
    "llm_var = \"accounts/fireworks/models/llama-v3p1-405b-instruct\""
   ]
  },
  {
   "cell_type": "code",
   "execution_count": 3,
   "id": "3f63485d",
   "metadata": {
    "execution": {
     "iopub.execute_input": "2024-10-18T03:39:46.637120Z",
     "iopub.status.busy": "2024-10-18T03:39:46.636850Z",
     "iopub.status.idle": "2024-10-18T03:39:46.694702Z",
     "shell.execute_reply": "2024-10-18T03:39:46.693935Z"
    },
    "papermill": {
     "duration": 0.062855,
     "end_time": "2024-10-18T03:39:46.696694",
     "exception": false,
     "start_time": "2024-10-18T03:39:46.633839",
     "status": "completed"
    },
    "tags": [
     "injected-parameters"
    ]
   },
   "outputs": [],
   "source": [
    "# Parameters\n",
    "llm_var = \"accounts/fireworks/models/llama-v3p1-405b-instruct\"\n"
   ]
  },
  {
   "cell_type": "code",
   "execution_count": 4,
   "id": "7149cd6a",
   "metadata": {
    "execution": {
     "iopub.execute_input": "2024-10-18T03:39:46.702387Z",
     "iopub.status.busy": "2024-10-18T03:39:46.702095Z",
     "iopub.status.idle": "2024-10-18T03:39:47.095734Z",
     "shell.execute_reply": "2024-10-18T03:39:47.095123Z"
    },
    "papermill": {
     "duration": 0.398672,
     "end_time": "2024-10-18T03:39:47.097558",
     "exception": false,
     "start_time": "2024-10-18T03:39:46.698886",
     "status": "completed"
    },
    "tags": []
   },
   "outputs": [
    {
     "name": "stdout",
     "output_type": "stream",
     "text": [
      "date and time: 2024-10-17\n",
      "time: 23:39:47\n",
      "LLM:  accounts/fireworks/models/llama-v3p1-405b-instruct \n",
      "Temperature:  0.1\n"
     ]
    }
   ],
   "source": [
    "tools = \"all\"\n",
    "agent = MDCrow(agent_type=\"Structured\", model=llm_var, top_k_tools=tools)\n",
    "now = datetime.datetime.now()\n",
    "date = now.strftime(\"%Y-%m-%d\")\n",
    "print(\"date and time:\",date)\n",
    "time = now.strftime(\"%H:%M:%S\")\n",
    "print(\"time:\",time)\n",
    "print(\"LLM: \",agent.llm.model_name,\"\\nTemperature: \",agent.llm.temperature)"
   ]
  },
  {
   "cell_type": "code",
   "execution_count": 5,
   "id": "69b10052",
   "metadata": {
    "execution": {
     "iopub.execute_input": "2024-10-18T03:39:47.103671Z",
     "iopub.status.busy": "2024-10-18T03:39:47.103384Z",
     "iopub.status.idle": "2024-10-18T03:56:33.113570Z",
     "shell.execute_reply": "2024-10-18T03:56:33.112950Z"
    },
    "papermill": {
     "duration": 1006.015117,
     "end_time": "2024-10-18T03:56:33.115292",
     "exception": false,
     "start_time": "2024-10-18T03:39:47.100175",
     "status": "completed"
    },
    "scrolled": true,
    "tags": []
   },
   "outputs": [
    {
     "name": "stdout",
     "output_type": "stream",
     "text": [
      "Thought:"
     ]
    },
    {
     "name": "stdout",
     "output_type": "stream",
     "text": [
      " First, I need to set"
     ]
    },
    {
     "name": "stdout",
     "output_type": "stream",
     "text": [
      " up"
     ]
    },
    {
     "name": "stdout",
     "output_type": "stream",
     "text": [
      " and run a simulation of"
     ]
    },
    {
     "name": "stdout",
     "output_type": "stream",
     "text": [
      " 1VII for 1 ns"
     ]
    },
    {
     "name": "stdout",
     "output_type": "stream",
     "text": [
      " at a temperature of 300 K."
     ]
    },
    {
     "name": "stdout",
     "output_type": "stream",
     "text": [
      " Then, I will analyze"
     ]
    },
    {
     "name": "stdout",
     "output_type": "stream",
     "text": [
      " the secondary structure of the"
     ]
    },
    {
     "name": "stdout",
     "output_type": "stream",
     "text": [
      " protein at the beginning and end of the"
     ]
    },
    {
     "name": "stdout",
     "output_type": "stream",
     "text": [
      " simulation to see if it has changed"
     ]
    },
    {
     "name": "stdout",
     "output_type": "stream",
     "text": [
      ".\n",
      "\n",
      "Action:\n",
      "```\n",
      "{\n",
      "    \""
     ]
    },
    {
     "name": "stdout",
     "output_type": "stream",
     "text": [
      "action\": \"SetUpandRunFunction\",\n"
     ]
    },
    {
     "name": "stdout",
     "output_type": "stream",
     "text": [
      "    \"action_input\": {\n",
      "        \""
     ]
    },
    {
     "name": "stdout",
     "output_type": "stream",
     "text": [
      "pdb_id\": \"1VII\",\n"
     ]
    },
    {
     "name": "stdout",
     "output_type": "stream",
     "text": [
      "        \"forcefield_files\": [\"amber"
     ]
    },
    {
     "name": "stdout",
     "output_type": "stream",
     "text": [
      "99sbildn.xml\"],\n",
      "       "
     ]
    },
    {
     "name": "stdout",
     "output_type": "stream",
     "text": [
      " \"save\": true,\n"
     ]
    },
    {
     "name": "stdout",
     "output_type": "stream",
     "text": [
      "        \"system_params\": {\n",
      "            \""
     ]
    },
    {
     "name": "stdout",
     "output_type": "stream",
     "text": [
      "nonbondedMethod\": \"NoC"
     ]
    },
    {
     "name": "stdout",
     "output_type": "stream",
     "text": [
      "utoff\",\n",
      "            \"constraints\":"
     ]
    },
    {
     "name": "stdout",
     "output_type": "stream",
     "text": [
      " \"None\",\n",
      "            \"rigidWater"
     ]
    },
    {
     "name": "stdout",
     "output_type": "stream",
     "text": [
      "\": false\n",
      "       "
     ]
    },
    {
     "name": "stdout",
     "output_type": "stream",
     "text": [
      " },\n",
      "        \"integrator_params\": {\n"
     ]
    },
    {
     "name": "stdout",
     "output_type": "stream",
     "text": [
      "            \"integrator_type\": \"L"
     ]
    },
    {
     "name": "stdout",
     "output_type": "stream",
     "text": [
      "angevinMiddle\",\n",
      "            \"Temperature\":"
     ]
    },
    {
     "name": "stdout",
     "output_type": "stream",
     "text": [
      " \"300 * kelvin\",\n",
      "            \""
     ]
    },
    {
     "name": "stdout",
     "output_type": "stream",
     "text": [
      "Friction\": \"1."
     ]
    },
    {
     "name": "stdout",
     "output_type": "stream",
     "text": [
      "0 / picoseconds\",\n",
      "            \"T"
     ]
    },
    {
     "name": "stdout",
     "output_type": "stream",
     "text": [
      "imestep\": \"0.002 * pic"
     ]
    },
    {
     "name": "stdout",
     "output_type": "stream",
     "text": [
      "oseconds\",\n",
      "            \"Pressure\": \""
     ]
    },
    {
     "name": "stdout",
     "output_type": "stream",
     "text": [
      "1.0 * bar\"\n",
      "        },\n"
     ]
    },
    {
     "name": "stdout",
     "output_type": "stream",
     "text": [
      "        \"simulation_params\": {\n",
      "            \""
     ]
    },
    {
     "name": "stdout",
     "output_type": "stream",
     "text": [
      "Ensemble\": \"NVT\",\n",
      "           "
     ]
    },
    {
     "name": "stdout",
     "output_type": "stream",
     "text": [
      " \"Number of Steps\": 500000"
     ]
    },
    {
     "name": "stdout",
     "output_type": "stream",
     "text": [
      ",\n",
      "            \"record_interval"
     ]
    },
    {
     "name": "stdout",
     "output_type": "stream",
     "text": [
      "_steps\": 1000,\n"
     ]
    },
    {
     "name": "stdout",
     "output_type": "stream",
     "text": [
      "            \"record_params\": [\"step\","
     ]
    },
    {
     "name": "stdout",
     "output_type": "stream",
     "text": [
      " \"potentialEnergy\", \"temperature\"]\n",
      "       "
     ]
    },
    {
     "name": "stdout",
     "output_type": "stream",
     "text": [
      " }\n",
      "    }\n",
      "}\n",
      "```"
     ]
    },
    {
     "name": "stdout",
     "output_type": "stream",
     "text": [
      "Thought:"
     ]
    },
    {
     "name": "stdout",
     "output_type": "stream",
     "text": [
      " I need to download the"
     ]
    },
    {
     "name": "stdout",
     "output_type": "stream",
     "text": [
      " PDB file for 1VII"
     ]
    },
    {
     "name": "stdout",
     "output_type": "stream",
     "text": [
      " and get its file ID to use"
     ]
    },
    {
     "name": "stdout",
     "output_type": "stream",
     "text": [
      " in the simulation setup.\n",
      "\n",
      "Action:\n",
      "``"
     ]
    },
    {
     "name": "stdout",
     "output_type": "stream",
     "text": [
      "`\n",
      "{\n",
      "    \"action\": \"P"
     ]
    },
    {
     "name": "stdout",
     "output_type": "stream",
     "text": [
      "DBFileDownloader\",\n",
      "    \"action_input"
     ]
    },
    {
     "name": "stdout",
     "output_type": "stream",
     "text": [
      "\": {\n",
      "        \"query\": \""
     ]
    },
    {
     "name": "stdout",
     "output_type": "stream",
     "text": [
      "1VII\"\n",
      "    }\n",
      "}\n",
      "```"
     ]
    },
    {
     "name": "stdout",
     "output_type": "stream",
     "text": [
      "PDB file found with this ID: 1VII\n"
     ]
    },
    {
     "name": "stdout",
     "output_type": "stream",
     "text": [
      "Thought:"
     ]
    },
    {
     "name": "stdout",
     "output_type": "stream",
     "text": [
      " Now that I have the PDB file"
     ]
    },
    {
     "name": "stdout",
     "output_type": "stream",
     "text": [
      " ID for 1VII,"
     ]
    },
    {
     "name": "stdout",
     "output_type": "stream",
     "text": [
      " I can set up and run the simulation"
     ]
    },
    {
     "name": "stdout",
     "output_type": "stream",
     "text": [
      ".\n",
      "\n",
      "Action:\n",
      "```\n",
      "{\n"
     ]
    },
    {
     "name": "stdout",
     "output_type": "stream",
     "text": [
      "    \"action\": \"SetUpandRun"
     ]
    },
    {
     "name": "stdout",
     "output_type": "stream",
     "text": [
      "Function\",\n",
      "    \"action_input\": {\n"
     ]
    },
    {
     "name": "stdout",
     "output_type": "stream",
     "text": [
      "        \"pdb_id\": \"1V"
     ]
    },
    {
     "name": "stdout",
     "output_type": "stream",
     "text": [
      "II_233957\",\n",
      "        \"force"
     ]
    },
    {
     "name": "stdout",
     "output_type": "stream",
     "text": [
      "field_files\": [\"amber99sbild"
     ]
    },
    {
     "name": "stdout",
     "output_type": "stream",
     "text": [
      "n.xml\"],\n",
      "        \"save\": true"
     ]
    },
    {
     "name": "stdout",
     "output_type": "stream",
     "text": [
      ",\n",
      "        \"system_params\": {\n",
      "           "
     ]
    },
    {
     "name": "stdout",
     "output_type": "stream",
     "text": [
      " \"nonbondedMethod\": \"No"
     ]
    },
    {
     "name": "stdout",
     "output_type": "stream",
     "text": [
      "Cutoff\",\n",
      "            \"constraints\": \""
     ]
    },
    {
     "name": "stdout",
     "output_type": "stream",
     "text": [
      "None\",\n",
      "            \"rigidWater\":"
     ]
    },
    {
     "name": "stdout",
     "output_type": "stream",
     "text": [
      " false\n",
      "        },\n",
      "        \"integrator"
     ]
    },
    {
     "name": "stdout",
     "output_type": "stream",
     "text": [
      "_params\": {\n",
      "            \"integrator_type"
     ]
    },
    {
     "name": "stdout",
     "output_type": "stream",
     "text": [
      "\": \"LangevinMiddle\",\n",
      "           "
     ]
    },
    {
     "name": "stdout",
     "output_type": "stream",
     "text": [
      " \"Temperature\": \"300 * kelvin"
     ]
    },
    {
     "name": "stdout",
     "output_type": "stream",
     "text": [
      "\",\n",
      "            \"Friction\": \"1"
     ]
    },
    {
     "name": "stdout",
     "output_type": "stream",
     "text": [
      ".0 / picoseconds\",\n",
      "            \""
     ]
    },
    {
     "name": "stdout",
     "output_type": "stream",
     "text": [
      "Timestep\": \"0.002 *"
     ]
    },
    {
     "name": "stdout",
     "output_type": "stream",
     "text": [
      " picoseconds\",\n",
      "            \"Pressure\": \""
     ]
    },
    {
     "name": "stdout",
     "output_type": "stream",
     "text": [
      "1.0 * bar\"\n",
      "        },\n"
     ]
    },
    {
     "name": "stdout",
     "output_type": "stream",
     "text": [
      "        \"simulation_params\": {\n",
      "            \""
     ]
    },
    {
     "name": "stdout",
     "output_type": "stream",
     "text": [
      "Ensemble\": \"NVT\",\n",
      "           "
     ]
    },
    {
     "name": "stdout",
     "output_type": "stream",
     "text": [
      " \"Number of Steps\": 500000"
     ]
    },
    {
     "name": "stdout",
     "output_type": "stream",
     "text": [
      ",\n",
      "            \"record_interval_steps\": "
     ]
    },
    {
     "name": "stdout",
     "output_type": "stream",
     "text": [
      "1000,\n",
      "            \"record_params\":"
     ]
    },
    {
     "name": "stdout",
     "output_type": "stream",
     "text": [
      " [\"step\", \"potentialEnergy\", \""
     ]
    },
    {
     "name": "stdout",
     "output_type": "stream",
     "text": [
      "temperature\"]\n",
      "        }\n",
      "    }\n",
      "}\n",
      "```"
     ]
    },
    {
     "name": "stdout",
     "output_type": "stream",
     "text": [
      "Building system...\n"
     ]
    },
    {
     "name": "stdout",
     "output_type": "stream",
     "text": [
      "About to create system...\n",
      "Attempts at creating system: 0/3\n",
      "adding system without solvent\n",
      "System built successfully\n",
      "<openmm.openmm.System; proxy of <Swig Object of type 'OpenMM::System *' at 0x2b37a56627f0> >\n",
      "Setting up integrator...\n",
      "Creating simulation...\n",
      "simulation set!\n",
      "Performing energy minimization...\n"
     ]
    },
    {
     "name": "stdout",
     "output_type": "stream",
     "text": [
      "Minimization complete!\n",
      "Initial Positions saved to initial_positions.pdb\n",
      "Equilibrating...\n"
     ]
    },
    {
     "name": "stdout",
     "output_type": "stream",
     "text": [
      "Simulating...\n"
     ]
    },
    {
     "name": "stdout",
     "output_type": "stream",
     "text": [
      "Done!\n",
      "Standalone simulation script written to /gpfs/fs2/scratch/qcampbe2/repos/md-agent/ckpt/ckpt_13/simulations/NVT_1VII_233957_20241017_234002.py\n",
      "['TRAJ_sim0_230437_1VII_230411_20241017_230440.dcd', 'submit_experiments.sh', 'LOG_sim0_233942_1VII_233940_20241017_233945.txt', 'results_gpt4t', 'single_job.sh', 'paper_collection', 'results_gpt4o', '.ipynb_checkpoints', 'TOP_sim0_234043_1VII_234032_20241017_234046.pdb', 'TRAJ_sim0_233418_1VII_233414_20241017_233421.dcd', 'jobs_gpt3.5.sh', 'templates', 'log_submission', 'out', 'LOG_sim0_230437_1VII_230411_20241017_230440.txt', 'LOG_sim0_234043_1VII_234032_20241017_234046.txt', 'results_gpt3.5', 'results_70b', 'TRAJ_sim0_233942_1VII_233940_20241017_233945.dcd', 'results_gpt4p', 'results_405b', 'LOG_sim0_234002_1VII_233957_20241017_234002.txt', 'TRAJ_sim0_234043_1VII_234032_20241017_234046.dcd', 'TOP_sim0_233418_1VII_233414_20241017_233421.pdb', 'out.exp_5_gpt4t_v2', 'results_others', 'TOP_sim0_233942_1VII_233940_20241017_233945.pdb', 'TRAJ_sim0_234002_1VII_233957_20241017_234002.dcd', 'LOG_sim0_233418_1VII_233414_20241017_233421.txt', 'TOP_sim0_230437_1VII_230411_20241017_230440.pdb', 'TOP_sim0_234002_1VII_233957_20241017_234002.pdb']\n"
     ]
    },
    {
     "name": "stdout",
     "output_type": "stream",
     "text": [
      "Thought:"
     ]
    },
    {
     "name": "stdout",
     "output_type": "stream",
     "text": [
      " Now that the simulation is done,"
     ]
    },
    {
     "name": "stdout",
     "output_type": "stream",
     "text": [
      " I need to analyze the secondary structure of"
     ]
    },
    {
     "name": "stdout",
     "output_type": "stream",
     "text": [
      " the protein at the beginning and end of"
     ]
    },
    {
     "name": "stdout",
     "output_type": "stream",
     "text": [
      " the simulation to see if it has changed"
     ]
    },
    {
     "name": "stdout",
     "output_type": "stream",
     "text": [
      ".\n",
      "\n",
      "Action:\n",
      "```\n",
      "{\n",
      "    \""
     ]
    },
    {
     "name": "stdout",
     "output_type": "stream",
     "text": [
      "action\": \"ComputeDSSP\",\n"
     ]
    },
    {
     "name": "stdout",
     "output_type": "stream",
     "text": [
      "    \"action_input\": {\n",
      "        \""
     ]
    },
    {
     "name": "stdout",
     "output_type": "stream",
     "text": [
      "traj_file\": \"rec0_"
     ]
    },
    {
     "name": "stdout",
     "output_type": "stream",
     "text": [
      "234002\",\n",
      "        \"top_file\":"
     ]
    },
    {
     "name": "stdout",
     "output_type": "stream",
     "text": [
      " \"top_sim0_234002\",\n"
     ]
    },
    {
     "name": "stdout",
     "output_type": "stream",
     "text": [
      "        \"target_frames\": \"all\"\n"
     ]
    },
    {
     "name": "stdout",
     "output_type": "stream",
     "text": [
      "    }\n",
      "}\n",
      "```"
     ]
    },
    {
     "name": "stderr",
     "output_type": "stream",
     "text": [
      "/scratch/qcampbe2/myenvs/mdcrow/lib/python3.12/site-packages/mdtraj/formats/pdb/pdbfile.py:206: UserWarning: Unlikely unit cell vectors detected in PDB file likely resulting from a dummy CRYST1 record. Discarding unit cell vectors.\n",
      "  warnings.warn(\n"
     ]
    },
    {
     "name": "stdout",
     "output_type": "stream",
     "text": [
      "Thought:"
     ]
    },
    {
     "name": "stdout",
     "output_type": "stream",
     "text": [
      " Now that I have the secondary"
     ]
    },
    {
     "name": "stdout",
     "output_type": "stream",
     "text": [
      " structure analysis for"
     ]
    },
    {
     "name": "stdout",
     "output_type": "stream",
     "text": [
      " all frames"
     ]
    },
    {
     "name": "stdout",
     "output_type": "stream",
     "text": [
      ", I need to compare the results at"
     ]
    },
    {
     "name": "stdout",
     "output_type": "stream",
     "text": [
      " the beginning and end of the simulation to"
     ]
    },
    {
     "name": "stdout",
     "output_type": "stream",
     "text": [
      " see if the secondary structure has changed.\n",
      "\n"
     ]
    },
    {
     "name": "stdout",
     "output_type": "stream",
     "text": [
      "Action:\n",
      "```\n",
      "{\n",
      "    \"action"
     ]
    },
    {
     "name": "stdout",
     "output_type": "stream",
     "text": [
      "\": \"ComputeDSSP\",\n",
      "   "
     ]
    },
    {
     "name": "stdout",
     "output_type": "stream",
     "text": [
      " \"action_input\": {\n",
      "        \"tr"
     ]
    },
    {
     "name": "stdout",
     "output_type": "stream",
     "text": [
      "aj_file\": \"rec0_234"
     ]
    },
    {
     "name": "stdout",
     "output_type": "stream",
     "text": [
      "002\",\n",
      "        \"top_file\": \""
     ]
    },
    {
     "name": "stdout",
     "output_type": "stream",
     "text": [
      "top_sim0_234002\",\n",
      "       "
     ]
    },
    {
     "name": "stdout",
     "output_type": "stream",
     "text": [
      " \"target_frames\": \"first\"\n",
      "   "
     ]
    },
    {
     "name": "stdout",
     "output_type": "stream",
     "text": [
      " }\n",
      "}\n",
      "```\n"
     ]
    },
    {
     "name": "stderr",
     "output_type": "stream",
     "text": [
      "/scratch/qcampbe2/myenvs/mdcrow/lib/python3.12/site-packages/mdtraj/formats/pdb/pdbfile.py:206: UserWarning: Unlikely unit cell vectors detected in PDB file likely resulting from a dummy CRYST1 record. Discarding unit cell vectors.\n",
      "  warnings.warn(\n"
     ]
    },
    {
     "name": "stdout",
     "output_type": "stream",
     "text": [
      "Thought:"
     ]
    },
    {
     "name": "stdout",
     "output_type": "stream",
     "text": [
      " Now that I have the secondary"
     ]
    },
    {
     "name": "stdout",
     "output_type": "stream",
     "text": [
      " structure analysis for the first frame, I"
     ]
    },
    {
     "name": "stdout",
     "output_type": "stream",
     "text": [
      " need to compare it with the analysis for"
     ]
    },
    {
     "name": "stdout",
     "output_type": "stream",
     "text": [
      " the last frame to see if"
     ]
    },
    {
     "name": "stdout",
     "output_type": "stream",
     "text": [
      " the secondary structure has changed.\n",
      "\n",
      "Action:\n"
     ]
    },
    {
     "name": "stdout",
     "output_type": "stream",
     "text": [
      "```\n",
      "{\n",
      "    \"action\": \""
     ]
    },
    {
     "name": "stdout",
     "output_type": "stream",
     "text": [
      "ComputeDSSP\",\n",
      "    \"action"
     ]
    },
    {
     "name": "stdout",
     "output_type": "stream",
     "text": [
      "_input\": {\n",
      "        \"traj_file"
     ]
    },
    {
     "name": "stdout",
     "output_type": "stream",
     "text": [
      "\": \"rec0_234002\",\n"
     ]
    },
    {
     "name": "stdout",
     "output_type": "stream",
     "text": [
      "        \"top_file\": \"top_sim"
     ]
    },
    {
     "name": "stdout",
     "output_type": "stream",
     "text": [
      "0_234002\",\n",
      "        \"target"
     ]
    },
    {
     "name": "stdout",
     "output_type": "stream",
     "text": [
      "_frames\": \"last\"\n",
      "    }\n",
      "}\n"
     ]
    },
    {
     "name": "stdout",
     "output_type": "stream",
     "text": [
      "```\n"
     ]
    },
    {
     "name": "stderr",
     "output_type": "stream",
     "text": [
      "/scratch/qcampbe2/myenvs/mdcrow/lib/python3.12/site-packages/mdtraj/formats/pdb/pdbfile.py:206: UserWarning: Unlikely unit cell vectors detected in PDB file likely resulting from a dummy CRYST1 record. Discarding unit cell vectors.\n",
      "  warnings.warn(\n"
     ]
    },
    {
     "name": "stdout",
     "output_type": "stream",
     "text": [
      "Thought:"
     ]
    },
    {
     "name": "stdout",
     "output_type": "stream",
     "text": [
      " Now that I have the secondary"
     ]
    },
    {
     "name": "stdout",
     "output_type": "stream",
     "text": [
      " structure analysis for the first and last frames"
     ]
    },
    {
     "name": "stdout",
     "output_type": "stream",
     "text": [
      ", I can compare the results to see"
     ]
    },
    {
     "name": "stdout",
     "output_type": "stream",
     "text": [
      " if the secondary structure has changed.\n",
      "\n",
      "Action"
     ]
    },
    {
     "name": "stdout",
     "output_type": "stream",
     "text": [
      ":\n",
      "```\n",
      "{\n",
      "    \"action\":"
     ]
    },
    {
     "name": "stdout",
     "output_type": "stream",
     "text": [
      " \"Final Answer\",\n",
      "    \"action_input"
     ]
    },
    {
     "name": "stdout",
     "output_type": "stream",
     "text": [
      "\": \"The secondary structure of the protein"
     ]
    },
    {
     "name": "stdout",
     "output_type": "stream",
     "text": [
      " 1VII has changed"
     ]
    },
    {
     "name": "stdout",
     "output_type": "stream",
     "text": [
      " slightly from the beginning to the"
     ]
    },
    {
     "name": "stdout",
     "output_type": "stream",
     "text": [
      " end of the simulation. The"
     ]
    },
    {
     "name": "stdout",
     "output_type": "stream",
     "text": [
      " number of residues in helix has increased"
     ]
    },
    {
     "name": "stdout",
     "output_type": "stream",
     "text": [
      " from 20 to 22, and"
     ]
    },
    {
     "name": "stdout",
     "output_type": "stream",
     "text": [
      " the number of residues in"
     ]
    },
    {
     "name": "stdout",
     "output_type": "stream",
     "text": [
      " coil has decreased from 16 to "
     ]
    },
    {
     "name": "stdout",
     "output_type": "stream",
     "text": [
      "14. The number"
     ]
    },
    {
     "name": "stdout",
     "output_type": "stream",
     "text": [
      " of residues in strand remains the same at"
     ]
    },
    {
     "name": "stdout",
     "output_type": "stream",
     "text": [
      " 0.\"\n",
      "}\n",
      "```"
     ]
    },
    {
     "data": {
      "text/plain": [
       "({'input': '\\n    You are an expert molecular dynamics scientist, and\\n    your task is to respond to the question or\\n    solve the problem to the best of your ability using\\n    the provided tools.\\n\\n    You can only respond with a single complete\\n    \\'Thought, Action, Action Input\\' format\\n    OR a single \\'Final Answer\\' format.\\n\\n    Complete format:\\n    Thought: (reflect on your progress and decide what to do next)\\n    Action:\\n    ```\\n    {\\n        \"action\": (the action name, it should be the name of a tool),\\n        \"action_input\": (the input string for the action)\\n    }\\n    \\'\\'\\'\\n\\n    OR\\n\\n    Final Answer: (the final response to the original input\\n    question, once all steps are complete)\\n\\n    You are required to use the tools provided,\\n    using the most specific tool\\n    available for each action.\\n    Your final answer should contain all information\\n    necessary to answer the question and its subquestions.\\n    Before you finish, reflect on your progress and make\\n    sure you have addressed the question in its entirety.\\n\\n    If you are asked to continue\\n    or reference previous runs,\\n    the context will be provided to you.\\n    If context is provided, you should assume\\n    you are continuing a chat.\\n\\n    Here is the input:\\n    Previous Context: None\\n    Question: Simulate 1VII for 1 ns at a temperature of 300 K. Then, tell me if the secondary structure changed from the beginning of the simulation to the end of the simulation. ',\n",
       "  'output': 'The secondary structure of the protein 1VII has changed slightly from the beginning to the end of the simulation. The number of residues in helix has increased from 20 to 22, and the number of residues in coil has decreased from 16 to 14. The number of residues in strand remains the same at 0.'},\n",
       " 'CPNB6HDX')"
      ]
     },
     "execution_count": 5,
     "metadata": {},
     "output_type": "execute_result"
    }
   ],
   "source": [
    "agent.run(prompt5)"
   ]
  },
  {
   "cell_type": "code",
   "execution_count": 6,
   "id": "8bddedeb",
   "metadata": {
    "execution": {
     "iopub.execute_input": "2024-10-18T03:56:33.136874Z",
     "iopub.status.busy": "2024-10-18T03:56:33.136608Z",
     "iopub.status.idle": "2024-10-18T03:56:33.142627Z",
     "shell.execute_reply": "2024-10-18T03:56:33.141992Z"
    },
    "papermill": {
     "duration": 0.018009,
     "end_time": "2024-10-18T03:56:33.144448",
     "exception": false,
     "start_time": "2024-10-18T03:56:33.126439",
     "status": "completed"
    },
    "tags": []
   },
   "outputs": [
    {
     "name": "stdout",
     "output_type": "stream",
     "text": [
      "date and time: 2024-10-17\n",
      "time: 23:56:33\n"
     ]
    }
   ],
   "source": [
    "now = datetime.datetime.now()\n",
    "date = now.strftime(\"%Y-%m-%d\")\n",
    "print(\"date and time:\",date)\n",
    "time = now.strftime(\"%H:%M:%S\")\n",
    "print(\"time:\",time)"
   ]
  },
  {
   "cell_type": "code",
   "execution_count": 7,
   "id": "37fc4e4f",
   "metadata": {
    "execution": {
     "iopub.execute_input": "2024-10-18T03:56:33.164567Z",
     "iopub.status.busy": "2024-10-18T03:56:33.164279Z",
     "iopub.status.idle": "2024-10-18T03:56:33.203115Z",
     "shell.execute_reply": "2024-10-18T03:56:33.202490Z"
    },
    "papermill": {
     "duration": 0.051419,
     "end_time": "2024-10-18T03:56:33.204829",
     "exception": false,
     "start_time": "2024-10-18T03:56:33.153410",
     "status": "completed"
    },
    "tags": []
   },
   "outputs": [
    {
     "name": "stdout",
     "output_type": "stream",
     "text": [
      "ckpt_dir: ckpt_13\n",
      "Files found in registry: 1VII_233957: PDB file downloaded from RSCB\n",
      " PDBFile ID: 1VII_233957\n",
      " top_sim0_234002: Initial positions for simulation sim0_234002\n",
      " sim0_234002: Basic Simulation of Protein 1VII_233957\n",
      " rec0_234002: Simulation trajectory for protein 1VII_233957 and simulation sim0_234002\n",
      " rec1_234002: Simulation state log for protein 1VII_233957 and simulation sim0_234002\n",
      " rec2_234002: Simulation pdb frames for protein 1VII_233957 and simulation sim0_234002\n",
      " rec0_235626: dssp values for trajectory with id: rec0_234002\n",
      " rec0_235629: dssp values for trajectory with id: rec0_234002\n",
      " rec0_235631: dssp values for trajectory with id: rec0_234002\n"
     ]
    }
   ],
   "source": [
    "registry = agent.path_registry\n",
    "print('ckpt_dir:',os.path.basename(agent.path_registry.ckpt_dir))\n",
    "paths_and_descriptions = registry.list_path_names_and_descriptions()\n",
    "print(\"\\n\".join(paths_and_descriptions.split(\",\")))"
   ]
  },
  {
   "cell_type": "code",
   "execution_count": 8,
   "id": "adf1c147",
   "metadata": {
    "execution": {
     "iopub.execute_input": "2024-10-18T03:56:33.225678Z",
     "iopub.status.busy": "2024-10-18T03:56:33.225409Z",
     "iopub.status.idle": "2024-10-18T03:56:33.241367Z",
     "shell.execute_reply": "2024-10-18T03:56:33.240626Z"
    },
    "papermill": {
     "duration": 0.028723,
     "end_time": "2024-10-18T03:56:33.242996",
     "exception": false,
     "start_time": "2024-10-18T03:56:33.214273",
     "status": "completed"
    },
    "tags": []
   },
   "outputs": [
    {
     "name": "stdout",
     "output_type": "stream",
     "text": [
      "It's asserted that file paths for rec0_234002 and top_sim0_234002 exist\n"
     ]
    }
   ],
   "source": [
    "import re\n",
    "import os\n",
    "\n",
    "match = re.search(r\"rec0_\\d+\", paths_and_descriptions)\n",
    "traj_id = match.group(0)\n",
    "traj_path = registry.get_mapped_path(traj_id)\n",
    "match = re.search(r\"top_sim0_\\d+\", paths_and_descriptions)\n",
    "top_id = match.group(0)\n",
    "top_path = registry.get_mapped_path(top_id)\n",
    "assert os.path.exists(traj_path), \"Trajectory file doesn't exist\"\n",
    "assert os.path.exists(top_path), \"Topology file doesn't exist\"\n",
    "assert traj_path != top_path\n",
    "assert traj_path.endswith(\".dcd\")\n",
    "assert top_path.endswith(\".pdb\")\n",
    "print(f\"It's asserted that file paths for {traj_id} and {top_id} exist\")"
   ]
  },
  {
   "cell_type": "code",
   "execution_count": 9,
   "id": "a2ec4631",
   "metadata": {
    "execution": {
     "iopub.execute_input": "2024-10-18T03:56:33.263842Z",
     "iopub.status.busy": "2024-10-18T03:56:33.263530Z",
     "iopub.status.idle": "2024-10-18T03:56:33.301682Z",
     "shell.execute_reply": "2024-10-18T03:56:33.300916Z"
    },
    "papermill": {
     "duration": 0.050889,
     "end_time": "2024-10-18T03:56:33.303475",
     "exception": false,
     "start_time": "2024-10-18T03:56:33.252586",
     "status": "completed"
    },
    "tags": []
   },
   "outputs": [
    {
     "name": "stdout",
     "output_type": "stream",
     "text": [
      "Number of initial sheets:  0\n",
      "Number of initial helices:  20\n",
      "Number of initial coils:  16\n",
      "Number of final sheets:  0\n",
      "Number of final helices:  22\n",
      "Number of final coils:  14\n"
     ]
    },
    {
     "name": "stderr",
     "output_type": "stream",
     "text": [
      "/scratch/qcampbe2/myenvs/mdcrow/lib/python3.12/site-packages/mdtraj/formats/pdb/pdbfile.py:206: UserWarning: Unlikely unit cell vectors detected in PDB file likely resulting from a dummy CRYST1 record. Discarding unit cell vectors.\n",
      "  warnings.warn(\n"
     ]
    }
   ],
   "source": [
    "import mdtraj as md\n",
    "\n",
    "traj = md.load(traj_path, top=top_path)\n",
    "\n",
    "# Compute the secondary structure of the trajectory\n",
    "dssp_final = md.compute_dssp(traj[-1], simplified=True)\n",
    "dssp_initial = md.compute_dssp(traj[0], simplified=True)\n",
    "\n",
    "print(\"Number of initial sheets: \",len([i for i in dssp_initial[0] if i == 'E']))\n",
    "print(\"Number of initial helices: \",len([i for i in dssp_initial[0] if i == 'H']))\n",
    "print(\"Number of initial coils: \",len([i for i in dssp_initial[0] if i == 'C']))\n",
    "\n",
    "print(\"Number of final sheets: \",len([i for i in dssp_final[0] if i == 'E']))\n",
    "print(\"Number of final helices: \",len([i for i in dssp_final[0] if i == 'H']))\n",
    "print(\"Number of final coils: \",len([i for i in dssp_final[0] if i == 'C']))"
   ]
  }
 ],
 "metadata": {
  "kernelspec": {
   "display_name": "mdcrow",
   "language": "python",
   "name": "mdcrow"
  },
  "language_info": {
   "codemirror_mode": {
    "name": "ipython",
    "version": 3
   },
   "file_extension": ".py",
   "mimetype": "text/x-python",
   "name": "python",
   "nbconvert_exporter": "python",
   "pygments_lexer": "ipython3",
   "version": "3.12.4"
  },
  "papermill": {
   "default_parameters": {},
   "duration": 1033.722913,
   "end_time": "2024-10-18T03:56:34.889274",
   "environment_variables": {},
   "exception": null,
   "input_path": "templates/exp_5.ipynb",
   "output_path": "results_405b/exp_5.ipynb",
   "parameters": {
    "llm_var": "accounts/fireworks/models/llama-v3p1-405b-instruct"
   },
   "start_time": "2024-10-18T03:39:21.166361",
   "version": "2.6.0"
  }
 },
 "nbformat": 4,
 "nbformat_minor": 5
}
