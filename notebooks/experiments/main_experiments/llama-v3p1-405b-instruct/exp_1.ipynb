{
 "cells": [
  {
   "cell_type": "code",
   "execution_count": 1,
   "metadata": {},
   "outputs": [],
   "source": [
    "import datetime\n",
    "import os\n",
    "from mdcrow import MDCrow"
   ]
  },
  {
   "cell_type": "code",
   "execution_count": 2,
   "metadata": {},
   "outputs": [
    {
     "name": "stdout",
     "output_type": "stream",
     "text": [
      "date and time: 2024-08-19\n",
      "time: 13:53:53\n"
     ]
    }
   ],
   "source": [
    "#todays date and time\n",
    "now = datetime.datetime.now()\n",
    "date = now.strftime(\"%Y-%m-%d\")\n",
    "print(\"date and time:\",date)\n",
    "time = now.strftime(\"%H:%M:%S\")\n",
    "print(\"time:\",time)"
   ]
  },
  {
   "cell_type": "code",
   "execution_count": 3,
   "metadata": {},
   "outputs": [],
   "source": [
    "prompt1 = \"Simulate PDB ID 1MBN at two different temperatures: 300 K and 400 K for 1 ns each. Plot the RMSD of both over time and compare the final secondary structures at the end of the simulations. Get information about this protein, such as the number of residues and chains, etc.\"\n",
    "llm_var = \"accounts/fireworks/models/llama-v3p1-405b-instruct\"\n",
    "tools = \"all\"\n",
    "agent = MDCrow(agent_type=\"Structured\", model=llm_var, top_k_tools=tools)"
   ]
  },
  {
   "cell_type": "code",
   "execution_count": 4,
   "metadata": {},
   "outputs": [
    {
     "name": "stdout",
     "output_type": "stream",
     "text": [
      "LLM:  accounts/fireworks/models/llama-v3p1-405b-instruct \n",
      "Temperature:  0.1\n"
     ]
    }
   ],
   "source": [
    "print(\"LLM: \",agent.llm.model_name,\"\\nTemperature: \",agent.llm.temperature)"
   ]
  },
  {
   "cell_type": "code",
   "execution_count": 5,
   "metadata": {},
   "outputs": [
    {
     "name": "stdout",
     "output_type": "stream",
     "text": [
      "Thought: First, I need to download the PDB file for 1MBN and then set up and run two simulations at different temperatures. After the simulations, I will compute the RMSD for each simulation and plot them over time. I will also compute the DSSP for the final frame of each simulation to compare their secondary structures. Finally, I will get information about this protein.\n",
      "\n",
      "Action:\n",
      "```\n",
      "{\n",
      "    \"action\": \"PDBFileDownloader\",\n",
      "    \"action_input\": \"1MBN\"\n",
      "}\n",
      "```\n",
      "PDB file found with this ID: 1MBN\n",
      "Thought: Now that I have the PDB file, I can set up and run the simulations at different temperatures. I will use the SetUpandRunFunction tool to run the simulations.\n",
      "\n",
      "Action:\n",
      "```\n",
      "{\n",
      "    \"action\": \"SetUpandRunFunction\",\n",
      "    \"action_input\": {\n",
      "        \"pdb_id\": \"1MBN_135358\",\n",
      "        \"forcefield_files\": [\"amber99sbildn.xml\"],\n",
      "        \"save\": true,\n",
      "        \"system_params\": {\n",
      "            \"nonbondedMethod\": \"NoCutoff\",\n",
      "            \"constraints\": \"None\",\n",
      "            \"rigidWater\": false\n",
      "        },\n",
      "        \"integrator_params\": {\n",
      "            \"integrator_type\": \"LangevinMiddle\",\n",
      "            \"Temperature\": \"300 * kelvin\",\n",
      "            \"Friction\": \"1.0 / picoseconds\",\n",
      "            \"Timestep\": \"0.002 * picoseconds\",\n",
      "            \"Pressure\": \"1.0 * bar\"\n",
      "        },\n",
      "        \"simulation_params\": {\n",
      "            \"Ensemble\": \"NVT\",\n",
      "            \"Number of Steps\": 500000,\n",
      "            \"record_interval_steps\": 1000,\n",
      "            \"record_params\": [\"step\", \"potentialEnergy\", \"temperature\"]\n",
      "        }\n",
      "    }\n",
      "}\n",
      "```\n",
      "\n",
      "Note: This action will run the simulation at 300 K. I will repeat this action with a different temperature (400 K) in the next step.Building system...\n",
      "About to create system...\n",
      "Attempts at creating system: 0/3\n",
      "adding system without solvent\n",
      "Trying to add component to Forcefield...\n",
      "Residue code: VAL\n",
      "Residue code not in solvent list. Adding forcefield                         not supported.\n",
      "Thought: The simulation failed because the PDB file contains a residue (VAL) that is missing 7 hydrogen atoms. I need to clean the PDB file by adding the missing hydrogen atoms before running the simulation.\n",
      "\n",
      "Action:\n",
      "```\n",
      "{\n",
      "    \"action\": \"CleaningToolFunction\",\n",
      "    \"action_input\": {\n",
      "        \"pdb_id\": \"1MBN_135358\",\n",
      "        \"replace_nonstandard_residues\": true,\n",
      "        \"add_missing_atoms\": true,\n",
      "        \"remove_heterogens\": true,\n",
      "        \"remove_water\": true,\n",
      "        \"add_hydrogens\": true,\n",
      "        \"add_hydrogens_ph\": 7.0\n",
      "    }\n",
      "}\n",
      "```file path: /gpfs/fs2/scratch/qcampbe2/repos/md-agent/ckpt/ckpt_79/pdb/1MBN_raw_20240819_135358.pdb\n",
      "Thought: Now that the PDB file is cleaned, I can set up and run the simulations at different temperatures. I will use the SetUpandRunFunction tool to run the simulations.\n",
      "\n",
      "Action:\n",
      "```\n",
      "{\n",
      "    \"action\": \"SetUpandRunFunction\",\n",
      "    \"action_input\": {\n",
      "        \"pdb_id\": \"1MBN_135410\",\n",
      "        \"forcefield_files\": [\"amber99sbildn.xml\"],\n",
      "        \"save\": true,\n",
      "        \"system_params\": {\n",
      "            \"nonbondedMethod\": \"NoCutoff\",\n",
      "            \"constraints\": \"None\",\n",
      "            \"rigidWater\": false\n",
      "        },\n",
      "        \"integrator_params\": {\n",
      "            \"integrator_type\": \"LangevinMiddle\",\n",
      "            \"Temperature\": \"300 * kelvin\",\n",
      "            \"Friction\": \"1.0 / picoseconds\",\n",
      "            \"Timestep\": \"0.002 * picoseconds\",\n",
      "            \"Pressure\": \"1.0 * bar\"\n",
      "        },\n",
      "        \"simulation_params\": {\n",
      "            \"Ensemble\": \"NVT\",\n",
      "            \"Number of Steps\": 500000,\n",
      "            \"record_interval_steps\": 1000,\n",
      "            \"record_params\": [\"step\", \"potentialEnergy\", \"temperature\"]\n",
      "        }\n",
      "    }\n",
      "}\n",
      "```Building system...\n",
      "About to create system...\n",
      "Attempts at creating system: 0/3\n",
      "adding system without solvent\n",
      "System built successfully\n",
      "<openmm.openmm.System; proxy of <Swig Object of type 'OpenMM::System *' at 0x7f16b8899fb0> >\n",
      "Setting up integrator...\n",
      "Creating simulation...\n",
      "simulation set!\n",
      "Performing energy minimization...\n",
      "Minimization complete!\n",
      "Initial Positions saved to initial_positions.pdb\n",
      "Equilibrating...\n",
      "Simulating...\n",
      "Done!\n",
      "Standalone simulation script written to /gpfs/fs2/scratch/qcampbe2/repos/md-agent/ckpt/ckpt_79/simulations/NVT_1MBN_135410_20240819_135416.py\n",
      "['exp_10.ipynb', 'exp_13.ipynb', 'exp_22.ipynb', 'exp_8.ipynb', 'exp_3.ipynb', 'exp_17.ipynb', 'exp_1.ipynb', 'TOP_sim0_141106_1XQ8_141100_20240819_141106.pdb', '.ipynb_checkpoints', 'exp_4.ipynb', 'exp_24.ipynb', 'exp_12.ipynb', 'LOG_sim0_133020_1MBN_133016_20240819_133021.txt', 'exp_19.ipynb', 'TRAJ_sim0_133020_1MBN_133016_20240819_133021.dcd', 'exp_9.ipynb', 'exp_5.ipynb', 'exp_7.ipynb', 'TOP_sim0_134642_1MBN_134637_20240819_134642.pdb', 'exp_2.ipynb', 'exp_18.ipynb', 'exp_14.ipynb', 'TOP_sim0_133020_1MBN_133016_20240819_133021.pdb', 'TRAJ_sim0_135416_1MBN_135410_20240819_135416.dcd', 'exp_15.ipynb', 'exp_6.ipynb', 'TRAJ_sim0_134642_1MBN_134637_20240819_134642.dcd', 'exp_20.ipynb', 'exp_23.ipynb', 'LOG_sim0_141106_1XQ8_141100_20240819_141106.txt', 'TOP_sim0_135416_1MBN_135410_20240819_135416.pdb', 'LOG_sim0_135416_1MBN_135410_20240819_135416.txt', 'exp_16.ipynb', 'LOG_sim0_134642_1MBN_134637_20240819_134642.txt', 'exp_11.ipynb', 'exp_21.ipynb', 'exp_25.ipynb', 'TRAJ_sim0_141106_1XQ8_141100_20240819_141106.dcd']\n",
      "Thought: Now that the simulation at 300 K is done, I need to run another simulation at 400 K. I will use the SetUpandRunFunction tool again with a different temperature.\n",
      "\n",
      "Action:\n",
      "```\n",
      "{\n",
      "    \"action\": \"SetUpandRunFunction\",\n",
      "    \"action_input\": {\n",
      "        \"pdb_id\": \"1MBN_135410\",\n",
      "        \"forcefield_files\": [\"amber99sbildn.xml\"],\n",
      "        \"save\": true,\n",
      "        \"system_params\": {\n",
      "            \"nonbondedMethod\": \"NoCutoff\",\n",
      "            \"constraints\": \"None\",\n",
      "            \"rigidWater\": false\n",
      "        },\n",
      "        \"integrator_params\": {\n",
      "            \"integrator_type\": \"LangevinMiddle\",\n",
      "            \"Temperature\": \"400 * kelvin\",\n",
      "            \"Friction\": \"1.0 / picoseconds\",\n",
      "            \"Timestep\": \"0.002 * picoseconds\",\n",
      "            \"Pressure\": \"1.0 * bar\"\n",
      "        },\n",
      "        \"simulation_params\": {\n",
      "            \"Ensemble\": \"NVT\",\n",
      "            \"Number of Steps\": 500000,\n",
      "            \"record_interval_steps\": 1000,\n",
      "            \"record_params\": [\"step\", \"potentialEnergy\", \"temperature\"]\n",
      "        }\n",
      "    }\n",
      "}\n",
      "```Building system...\n",
      "About to create system...\n",
      "Attempts at creating system: 0/3\n",
      "adding system without solvent\n",
      "System built successfully\n",
      "<openmm.openmm.System; proxy of <Swig Object of type 'OpenMM::System *' at 0x7f16b8cf4750> >\n",
      "Setting up integrator...\n",
      "Creating simulation...\n",
      "simulation set!\n",
      "Performing energy minimization...\n",
      "Minimization complete!\n",
      "Initial Positions saved to initial_positions.pdb\n",
      "Equilibrating...\n",
      "Simulating...\n",
      "Done!\n",
      "Standalone simulation script written to /gpfs/fs2/scratch/qcampbe2/repos/md-agent/ckpt/ckpt_79/simulations/NVT_1MBN_135410_20240819_143106.py\n",
      "['TRAJ_sim0_143106_1MBN_135410_20240819_143107.dcd', 'exp_13.ipynb', 'exp_22.ipynb', 'exp_8.ipynb', 'exp_3.ipynb', 'exp_17.ipynb', 'exp_1.ipynb', '.ipynb_checkpoints', 'exp_4.ipynb', 'exp_24.ipynb', 'exp_12.ipynb', 'LOG_sim0_143106_1MBN_135410_20240819_143107.txt', 'LOG_sim0_133020_1MBN_133016_20240819_133021.txt', 'exp_19.ipynb', 'TRAJ_sim0_133020_1MBN_133016_20240819_133021.dcd', 'exp_9.ipynb', 'exp_5.ipynb', 'exp_7.ipynb', 'TOP_sim0_134642_1MBN_134637_20240819_134642.pdb', 'exp_2.ipynb', 'exp_18.ipynb', 'exp_14.ipynb', 'TOP_sim0_133020_1MBN_133016_20240819_133021.pdb', 'exp_15.ipynb', 'exp_6.ipynb', 'TRAJ_sim0_134642_1MBN_134637_20240819_134642.dcd', 'exp_20.ipynb', 'exp_23.ipynb', 'exp_16.ipynb', 'LOG_sim0_134642_1MBN_134637_20240819_134642.txt', 'exp_11.ipynb', 'TOP_sim0_143106_1MBN_135410_20240819_143107.pdb', 'exp_21.ipynb', 'exp_25.ipynb']\n",
      "Thought: Now that both simulations are done, I need to compute the RMSD for each simulation and plot them over time. I will use the ComputeRMSD tool to compute the RMSD for each simulation.\n",
      "\n",
      "Action:\n",
      "```\n",
      "{\n",
      "    \"action\": \"ComputeRMSD\",\n",
      "    \"action_input\": {\n",
      "        \"traj_id\": \"rec0_135416\",\n",
      "        \"top_id\": \"top_sim0_135416\",\n",
      "        \"ref_traj_id\": \"rec0_135416\",\n",
      "        \"ref_top_id\": \"top_sim0_135416\",\n",
      "        \"select\": \"protein\",\n",
      "        \"mol_name\": \"1MBN\"\n",
      "    }\n",
      "}\n",
      "```\n",
      "Note: This action will compute the RMSD for the simulation at 300 K. I will repeat this action for the simulation at 400 K in the next step.Calculating RMSD...\n",
      "Data saved to /gpfs/fs2/scratch/qcampbe2/repos/md-agent/ckpt/ckpt_79/records/rmsd_1MBN.csv\n",
      "Plot saved to /gpfs/fs2/scratch/qcampbe2/repos/md-agent/ckpt/ckpt_79/figures/FIG_rmsd_1MBN_20240819_150844.png\n",
      "Thought: Now that I have computed the RMSD for the simulation at 300 K, I need to compute the RMSD for the simulation at 400 K. I will use the ComputeRMSD tool again with the trajectory and topology files from the simulation at 400 K.\n",
      "\n",
      "Action:\n",
      "```\n",
      "{\n",
      "    \"action\": \"ComputeRMSD\",\n",
      "    \"action_input\": {\n",
      "        \"traj_id\": \"rec0_143107\",\n",
      "        \"top_id\": \"top_sim0_143106\",\n",
      "        \"ref_traj_id\": \"rec0_143107\",\n",
      "        \"ref_top_id\": \"top_sim0_143106\",\n",
      "        \"select\": \"protein\",\n",
      "        \"mol_name\": \"1MBN\"\n",
      "    }\n",
      "}\n",
      "```Calculating RMSD...\n",
      "Data saved to /gpfs/fs2/scratch/qcampbe2/repos/md-agent/ckpt/ckpt_79/records/rmsd_1MBN_1.csv\n",
      "Plot saved to /gpfs/fs2/scratch/qcampbe2/repos/md-agent/ckpt/ckpt_79/figures/FIG_rmsd_1MBN_20240819_150850.png\n",
      "Thought: Now that I have computed the RMSD for both simulations, I need to compare the final secondary structures at the end of the simulations. I will use the ComputeDSSP tool to compute the DSSP for the final frame of each simulation.\n",
      "\n",
      "Action:\n",
      "```\n",
      "{\n",
      "    \"action\": \"ComputeDSSP\",\n",
      "    \"action_input\": {\n",
      "        \"traj_file\": \"rec0_135416\",\n",
      "        \"top_file\": \"top_sim0_135416\",\n",
      "        \"target_frames\": \"last\"\n",
      "    }\n",
      "}\n",
      "```\n",
      "Note: This action will compute the DSSP for the final frame of the simulation at 300 K. I will repeat this action for the simulation at 400 K in the next step.Thought: Now that I have computed the DSSP for the final frame of the simulation at 300 K, I need to compute the DSSP for the final frame of the simulation at 400 K. I will use the ComputeDSSP tool again with the trajectory and topology files from the simulation at 400 K.\n",
      "\n",
      "Action:\n",
      "```\n",
      "{\n",
      "    \"action\": \"ComputeDSSP\",\n",
      "    \"action_input\": {\n",
      "        \"traj_file\": \"rec0_143107\",\n",
      "        \"top_file\": \"top_sim0_143106\",\n",
      "        \"target_frames\": \"last\"\n",
      "    }\n",
      "}\n",
      "```\n",
      "Thought: Now that I have computed the DSSP for the final frame of both simulations, I need to get information about this protein, such as the number of residues and chains, etc. I will use the SummarizeProteinStructure tool to get this information.\n",
      "\n",
      "Action:\n",
      "```\n",
      "{\n",
      "    \"action\": \"SummarizeProteinStructure\",\n",
      "    \"action_input\": {\n",
      "        \"traj_file\": \"rec0_135416\",\n",
      "        \"top_file\": \"top_sim0_135416\"\n",
      "    }\n",
      "}\n",
      "```\n",
      "Note: This action will give me the information about the protein structure.Thought: Now that I have all the necessary information, I can provide the final answer.\n",
      "\n",
      "Action:\n",
      "```\n",
      "{\n",
      "    \"action\": \"Final Answer\",\n",
      "    \"action_input\": \"The simulations of PDB ID 1MBN at 300 K and 400 K for 1 ns each have been completed. The RMSD plots over time for both simulations have been computed and saved. The final secondary structures at the end of the simulations have been compared using the DSSP tool. The protein information, such as the number of residues and chains, has been obtained using the SummarizeProteinStructure tool. The results are as follows: \n",
      "- RMSD plots: fig0_150844 and fig0_150850\n",
      "- DSSP results: \n",
      "  - 300 K: {'residues in helix': 86, 'residues in strand': 0, 'residues in coil': 67, 'residues not assigned, not a protein residue': 0}\n",
      "  - 400 K: {'residues in helix': 88, 'residues in strand': 0, 'residues in coil': 65, 'residues not assigned, not a protein residue': 0}\n",
      "- Protein information: {'n_atoms': 2459, 'n_residues': 153, 'n_chains': 1, 'n_frames': 501, 'n_bonds': 2487}\"\n",
      "}\n",
      "```"
     ]
    },
    {
     "data": {
      "text/plain": [
       "({'input': '\\n    You are an expert molecular dynamics scientist, and\\n    your task is to respond to the question or\\n    solve the problem to the best of your ability using\\n    the provided tools.\\n\\n    You can only respond with a single complete\\n    \\'Thought, Action, Action Input\\' format\\n    OR a single \\'Final Answer\\' format.\\n\\n    Complete format:\\n    Thought: (reflect on your progress and decide what to do next)\\n    Action:\\n    ```\\n    {\\n        \"action\": (the action name, it should be the name of a tool),\\n        \"action_input\": (the input string for the action)\\n    }\\n    \\'\\'\\'\\n\\n    OR\\n\\n    Final Answer: (the final response to the original input\\n    question, once all steps are complete)\\n\\n    You are required to use the tools provided,\\n    using the most specific tool\\n    available for each action.\\n    Your final answer should contain all information\\n    necessary to answer the question and its subquestions.\\n    Before you finish, reflect on your progress and make\\n    sure you have addressed the question in its entirety.\\n\\n    If you are asked to continue\\n    or reference previous runs,\\n    the context will be provided to you.\\n    If context is provided, you should assume\\n    you are continuing a chat.\\n\\n    Here is the input:\\n    Previous Context: None\\n    Question: Simulate PDB ID 1MBN at two different temperatures: 300 K and 400 K for 1 ns each. Plot the RMSD of both over time and compare the final secondary structures at the end of the simulations. Get information about this protein, such as the number of residues and chains, etc. ',\n",
       "  'output': \"The simulations of PDB ID 1MBN at 300 K and 400 K for 1 ns each have been completed. The RMSD plots over time for both simulations have been computed and saved. The final secondary structures at the end of the simulations have been compared using the DSSP tool. The protein information, such as the number of residues and chains, has been obtained using the SummarizeProteinStructure tool. The results are as follows: \\n- RMSD plots: fig0_150844 and fig0_150850\\n- DSSP results: \\n  - 300 K: {'residues in helix': 86, 'residues in strand': 0, 'residues in coil': 67, 'residues not assigned, not a protein residue': 0}\\n  - 400 K: {'residues in helix': 88, 'residues in strand': 0, 'residues in coil': 65, 'residues not assigned, not a protein residue': 0}\\n- Protein information: {'n_atoms': 2459, 'n_residues': 153, 'n_chains': 1, 'n_frames': 501, 'n_bonds': 2487}\"},\n",
       " 'XWJLO8FO')"
      ]
     },
     "execution_count": 5,
     "metadata": {},
     "output_type": "execute_result"
    }
   ],
   "source": [
    "agent.run(prompt1)"
   ]
  },
  {
   "cell_type": "code",
   "execution_count": 6,
   "metadata": {},
   "outputs": [
    {
     "name": "stdout",
     "output_type": "stream",
     "text": [
      "date and time: 2024-08-19\n",
      "time: 15:09:08\n"
     ]
    }
   ],
   "source": [
    "#print final date and time\n",
    "now = datetime.datetime.now()\n",
    "date = now.strftime(\"%Y-%m-%d\")\n",
    "print(\"date and time:\",date)\n",
    "time = now.strftime(\"%H:%M:%S\")\n",
    "print(\"time:\",time)"
   ]
  },
  {
   "cell_type": "code",
   "execution_count": 10,
   "metadata": {},
   "outputs": [
    {
     "name": "stdout",
     "output_type": "stream",
     "text": [
      "Files found in registry: 1MBN_135358: PDB file downloaded from RSCB\n",
      " PDBFile ID: 1MBN_135358\n",
      " 1MBN_135410: Cleaned File:  Removed Heterogens\n",
      " and Water Removed.  Replaced Nonstandard Residues. Added Hydrogens at pH 7.0. Missing Atoms Added and replaces nonstandard residues. \n",
      " top_sim0_135416: Initial positions for simulation sim0_135416\n",
      " sim0_135416: Basic Simulation of Protein 1MBN_135410\n",
      " rec0_135416: Simulation trajectory for protein 1MBN_135410 and simulation sim0_135416\n",
      " rec1_135416: Simulation state log for protein 1MBN_135410 and simulation sim0_135416\n",
      " rec2_135416: Simulation pdb frames for protein 1MBN_135410 and simulation sim0_135416\n",
      " top_sim0_143106: Initial positions for simulation sim0_143106\n",
      " sim0_143106: Basic Simulation of Protein 1MBN_135410\n",
      " rec0_143107: Simulation trajectory for protein 1MBN_135410 and simulation sim0_143106\n",
      " rec1_143107: Simulation state log for protein 1MBN_135410 and simulation sim0_143106\n",
      " rec2_143107: Simulation pdb frames for protein 1MBN_135410 and simulation sim0_143106\n",
      " rmsd_1MBN: RMSD for 1MBN\n",
      " fig0_150844: RMSD plot for 1MBN\n",
      " rmsd_1MBN_1: RMSD for 1MBN\n",
      " fig0_150850: RMSD plot for 1MBN\n",
      " rec0_150853: dssp values for trajectory with id: rec0_135416\n",
      " rec0_150858: dssp values for trajectory with id: rec0_143107\n"
     ]
    }
   ],
   "source": [
    "registry = agent.path_registry\n",
    "paths_and_descriptions = registry.list_path_names_and_descriptions()\n",
    "print(\"\\n\".join(paths_and_descriptions.split(\",\")))"
   ]
  },
  {
   "cell_type": "code",
   "execution_count": 16,
   "metadata": {},
   "outputs": [
    {
     "name": "stdout",
     "output_type": "stream",
     "text": [
      "It's asserted that file paths for fig0_150844 and fig0_150850 exist\n"
     ]
    }
   ],
   "source": [
    "# let's see if we can't grab the plots\n",
    "\n",
    "import re\n",
    "matches = re.findall(r\"fig0_\\d+\", paths_and_descriptions)\n",
    "file_id1 = matches[0]\n",
    "file_id2 = matches[1]\n",
    "path1 = registry.get_mapped_path(file_id1)\n",
    "path2 = registry.get_mapped_path(file_id2)\n",
    "assert os.path.exists(path1)\n",
    "assert os.path.exists(path2)\n",
    "print(f\"It's asserted that file paths for {file_id1} and {file_id2} exist\")"
   ]
  },
  {
   "cell_type": "code",
   "execution_count": 17,
   "metadata": {},
   "outputs": [
    {
     "data": {
      "image/png": "[encoded data removed]",
      "text/plain": [
       "<IPython.core.display.Image object>"
      ]
     },
     "execution_count": 17,
     "metadata": {},
     "output_type": "execute_result"
    }
   ],
   "source": [
    "Image(filename=path1)"
   ]
  },
  {
   "cell_type": "code",
   "execution_count": 18,
   "metadata": {},
   "outputs": [
    {
     "data": {
      "image/png": "[encoded data removed]",
      "text/plain": [
       "<IPython.core.display.Image object>"
      ]
     },
     "execution_count": 18,
     "metadata": {},
     "output_type": "execute_result"
    }
   ],
   "source": [
    "Image(filename=path2)"
   ]
  },
  {
   "cell_type": "code",
   "execution_count": 11,
   "metadata": {},
   "outputs": [],
   "source": [
    "from mdcrow import MDCrow\n",
    "agent = MDCrow(ckpt_dir=\"ckpt_79\")\n",
    "\n",
    "registry = agent.path_registry\n",
    "paths_and_descriptions = registry.list_path_names_and_descriptions()\n",
    "#print(\"\\n\".join(paths_and_descriptions.split(\",\")))"
   ]
  },
  {
   "cell_type": "code",
   "execution_count": 7,
   "metadata": {},
   "outputs": [
    {
     "name": "stdout",
     "output_type": "stream",
     "text": [
      "It's asserted that file paths for rec0_135416, rec0_143107, top_sim0_135416, and top_sim0_143106 exist\n"
     ]
    }
   ],
   "source": [
    "import re\n",
    "import os\n",
    "matches = re.findall(r\"rec0_\\d+\", paths_and_descriptions)\n",
    "traj_file_1 = matches[0]\n",
    "traj_file_2 = matches[1]\n",
    "traj_path1 = registry.get_mapped_path(traj_file_1)\n",
    "traj_path2 = registry.get_mapped_path(traj_file_2)\n",
    "assert os.path.exists(traj_path1)\n",
    "assert os.path.exists(traj_path2)\n",
    "\n",
    "matches = re.findall(r\"top_sim0_\\d+\", paths_and_descriptions)\n",
    "top_file_1 = matches[0]\n",
    "top_file_2 = matches[1]\n",
    "top_path1 = registry.get_mapped_path(top_file_1)\n",
    "top_path2 = registry.get_mapped_path(top_file_2)\n",
    "assert os.path.exists(top_path1)\n",
    "assert os.path.exists(top_path2)\n",
    "\n",
    "print(f\"It's asserted that file paths for {traj_file_1}, {traj_file_2}, {top_file_1}, and {top_file_2} exist\")"
   ]
  },
  {
   "cell_type": "code",
   "execution_count": 9,
   "metadata": {},
   "outputs": [
    {
     "name": "stdout",
     "output_type": "stream",
     "text": [
      "Number of residues in chains:  1\n",
      "Number of residues in sheets:  0\n",
      "Number of residues in helices:  86\n",
      "Number of residues in coils:  67\n"
     ]
    }
   ],
   "source": [
    "#secondary structure\n",
    "import mdtraj as md\n",
    "\n",
    "traj = md.load(traj_path1, top=top_path1)\n",
    "top = traj.topology\n",
    "number_of_chains = top.n_chains\n",
    "secondary_structure = md.compute_dssp(traj,simplified=True)[-1] # last frame\n",
    "print(\"Number of residues in chains: \",number_of_chains)\n",
    "print(\"Number of residues in sheets: \",len([i for i in secondary_structure if i == 'E']))\n",
    "print(\"Number of residues in helices: \",len([i for i in secondary_structure if i == 'H']))\n",
    "print(\"Number of residues in coils: \",len([i for i in secondary_structure if i == 'C']))"
   ]
  },
  {
   "cell_type": "code",
   "execution_count": 10,
   "metadata": {},
   "outputs": [
    {
     "name": "stdout",
     "output_type": "stream",
     "text": [
      "Number of residues in chains:  1\n",
      "Number of residues in sheets:  0\n",
      "Number of residues in helices:  88\n",
      "Number of residues in coils:  65\n"
     ]
    }
   ],
   "source": [
    "traj = md.load(traj_path2, top=top_path2)\n",
    "top = traj.topology\n",
    "number_of_chains = top.n_chains\n",
    "secondary_structure = md.compute_dssp(traj,simplified=True)[-1] # last frame\n",
    "print(\"Number of residues in chains: \",number_of_chains)\n",
    "print(\"Number of residues in sheets: \",len([i for i in secondary_structure if i == 'E']))\n",
    "print(\"Number of residues in helices: \",len([i for i in secondary_structure if i == 'H']))\n",
    "print(\"Number of residues in coils: \",len([i for i in secondary_structure if i == 'C']))"
   ]
  },
  {
   "cell_type": "markdown",
   "metadata": {},
   "source": [
    "# Experiment Result: ✅❌\n",
    "\n",
    "1. Completed without Exception or TimeOut Errors ✅\n",
    "2. Attempted all necessary steps ✅\n",
    "3. Completed without Hallucination ✅\n",
    "4. Logic make sense ✅\n",
    "5. Correct Answer ✅\n"
   ]
  }
 ],
 "metadata": {
  "kernelspec": {
   "display_name": "mdcrow",
   "language": "python",
   "name": "mdcrow"
  },
  "language_info": {
   "codemirror_mode": {
    "name": "ipython",
    "version": 3
   },
   "file_extension": ".py",
   "mimetype": "text/x-python",
   "name": "python",
   "nbconvert_exporter": "python",
   "pygments_lexer": "ipython3",
   "version": "3.12.4"
  }
 },
 "nbformat": 4,
 "nbformat_minor": 4
}
