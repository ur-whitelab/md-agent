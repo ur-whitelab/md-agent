{
 "cells": [
  {
   "cell_type": "code",
   "execution_count": 1,
   "id": "8ff706fd-c267-4d05-af58-9a3848cce8ff",
   "metadata": {},
   "outputs": [],
   "source": [
    "from mdcrow import MDCrow"
   ]
  },
  {
   "cell_type": "code",
   "execution_count": 2,
   "id": "c86c88a1-f5f8-473a-8342-7364252bcfba",
   "metadata": {},
   "outputs": [
    {
     "name": "stdout",
     "output_type": "stream",
     "text": [
      "date: 2024-09-09\n",
      "time: 12:32:32\n"
     ]
    }
   ],
   "source": [
    "#todays date and time\n",
    "import datetime\n",
    "\n",
    "start = datetime.datetime.now()\n",
    "date = start.strftime(\"%Y-%m-%d\")\n",
    "print(\"date:\",date)\n",
    "time = start.strftime(\"%H:%M:%S\")\n",
    "print(\"time:\",time)"
   ]
  },
  {
   "cell_type": "code",
   "execution_count": 3,
   "id": "f62bfc17-854b-4152-bb82-7e9e0ec4b854",
   "metadata": {},
   "outputs": [
    {
     "name": "stdout",
     "output_type": "stream",
     "text": [
      "LLM:  gpt-4-1106-preview \n",
      "Temperature:  0.1\n"
     ]
    }
   ],
   "source": [
    "model = \"gpt-4-1106-preview\"\n",
    "mda = MDCrow(\n",
    "    agent_type='Structured', \n",
    "    model=model, \n",
    "    tools_model=model,\n",
    "    use_memory=False, \n",
    "    top_k_tools=\"all\",\n",
    "    ckpt_dir=\"ckpt_55\"\n",
    ")\n",
    "print(\"LLM: \", mda.llm.model_name,\"\\nTemperature: \", mda.llm.temperature)"
   ]
  },
  {
   "cell_type": "code",
   "execution_count": 4,
   "id": "ad2f6f66-e6b8-4244-b908-68fbebbf6e8b",
   "metadata": {},
   "outputs": [],
   "source": [
    "prompt = 'Download the PDB files for 8PFK and 8PFQ. Then, compare the secondary structures of the two proteins, including the number of atoms, secondary structures, number of chains, etc.'\n",
    "# answer = mda.run(prompt)"
   ]
  },
  {
   "cell_type": "markdown",
   "id": "20b59485",
   "metadata": {},
   "source": [
    "### Final Answer\n",
    "Final Answer:\n",
    "The PDB files for proteins 8PFK and 8PFQ were successfully downloaded and cleaned to prepare for secondary structure analysis. However, the analysis using the ComputeDSSP tool revealed that both proteins have no residues in helix or strand secondary structures, and all residues are not assigned, suggesting that they may not be protein residues. This is an unusual result for protein structures and may indicate an issue with the PDB files or the analysis process. The summaries of the proteins before cleaning were as follows:\n",
    "\n",
    "- 8PFK: 487 atoms, 109 residues, 2 chains, 1 frame, 420 bonds.\n",
    "- 8PFQ: 950 atoms, 194 residues, 6 chains, 1 frame, 833 bonds.\n",
    "\n",
    "After cleaning, the DSSP analysis still showed no secondary structures for either protein, with 11 and 22 residues not assigned for 8PFK and 8PFQ, respectively. These findings suggest that the PDB files may not contain typical protein structures or that there may be a limitation in the analysis method used. Further investigation would be required to determine the nature of these structures and why they do not exhibit typical protein secondary structures.\n",
    "\n",
    "Checkpint directory:  /gpfs/fs2/scratch/jmedina9/mdcrow/md-agent/ckpt/ckpt_55"
   ]
  },
  {
   "cell_type": "code",
   "execution_count": 5,
   "id": "d23fbcab-9ceb-46d5-ad3b-d6cf6687d1e4",
   "metadata": {},
   "outputs": [
    {
     "name": "stdout",
     "output_type": "stream",
     "text": [
      "duration: 0.01 minutes\n"
     ]
    }
   ],
   "source": [
    "end = datetime.datetime.now()\n",
    "elapsed = end - start\n",
    "print(f\"duration: {elapsed.total_seconds()/60:.2f} minutes\")"
   ]
  },
  {
   "cell_type": "markdown",
   "id": "da5ba7ae-a3e7-4eec-b869-a884948231c4",
   "metadata": {},
   "source": [
    "# Confirm the downloaded files and their structures"
   ]
  },
  {
   "cell_type": "code",
   "execution_count": 6,
   "id": "5d1f0c85-88d6-4d2a-aae1-6a2d763f280d",
   "metadata": {},
   "outputs": [
    {
     "name": "stdout",
     "output_type": "stream",
     "text": [
      "Names found in registry: 8PFK_113023, 8PFQ_113027, rec0_113048, rec0_113055, 8PFK_113107, 8PFQ_113117, rec0_113122, rec0_113130\n"
     ]
    }
   ],
   "source": [
    "registry = mda.path_registry\n",
    "all_names = registry.list_path_names()\n",
    "print(all_names)"
   ]
  },
  {
   "cell_type": "code",
   "execution_count": 9,
   "id": "1b022c22",
   "metadata": {},
   "outputs": [],
   "source": [
    "all_paths = registry._list_all_paths()\n",
    "for i, path in enumerate(all_paths):\n",
    "    path = registry.ckpt_dir + path.split('ckpt_55')[1]\n",
    "    all_paths[i] = path"
   ]
  },
  {
   "cell_type": "code",
   "execution_count": 10,
   "id": "6684abd0-efd9-4add-bf1b-abfe1f664dbe",
   "metadata": {},
   "outputs": [
    {
     "name": "stdout",
     "output_type": "stream",
     "text": [
      "It is asserted that 8PFK and 8PFQ are in path_registry\n",
      "It is asserted these pdb files physically exist\n"
     ]
    }
   ],
   "source": [
    "import re\n",
    "import os\n",
    "pattern1 = re.compile(r\"8PFK_\\d+\")\n",
    "pattern2 = re.compile(r\"8PFQ_\\d+\")\n",
    "match1 = pattern1.search(all_names)\n",
    "match2 = pattern2.search(all_names)\n",
    "assert match1\n",
    "assert match2\n",
    "print('It is asserted that 8PFK and 8PFQ are in path_registry')\n",
    "\n",
    "assert os.path.exists(all_paths[0])\n",
    "assert os.path.exists(all_paths[1])\n",
    "print('It is asserted these pdb files physically exist')"
   ]
  },
  {
   "cell_type": "code",
   "execution_count": 11,
   "id": "8f612681",
   "metadata": {},
   "outputs": [
    {
     "name": "stdout",
     "output_type": "stream",
     "text": [
      "['/Users/jorgemedina/Desktop/md-agent/ckpt/ckpt_55/pdb/8PFK_raw_20240822_113023.pdb', '/Users/jorgemedina/Desktop/md-agent/ckpt/ckpt_55/pdb/8PFQ_raw_20240822_113027.pdb', '/Users/jorgemedina/Desktop/md-agent/ckpt/ckpt_55/records/dssp_20240822_113048.npy', '/Users/jorgemedina/Desktop/md-agent/ckpt/ckpt_55/records/dssp_20240822_113055.npy', '/Users/jorgemedina/Desktop/md-agent/ckpt/ckpt_55/pdb/8PFK_Clean_20240822_113107.pdb', '/Users/jorgemedina/Desktop/md-agent/ckpt/ckpt_55/pdb/8PFQ_Clean_20240822_113117.pdb', '/Users/jorgemedina/Desktop/md-agent/ckpt/ckpt_55/records/dssp_20240822_113122.npy', '/Users/jorgemedina/Desktop/md-agent/ckpt/ckpt_55/records/dssp_20240822_113130.npy']\n"
     ]
    }
   ],
   "source": [
    "print(all_paths)"
   ]
  },
  {
   "cell_type": "code",
   "execution_count": 13,
   "id": "5c9a6ace-69e8-4042-9d35-ca598f4d00c2",
   "metadata": {},
   "outputs": [
    {
     "name": "stdout",
     "output_type": "stream",
     "text": [
      "protein 8PFK\n",
      "Number of chains:  2\n",
      "Number of atoms:  487\n",
      "\n",
      "protein 8PFQ\n",
      "Number of chains:  6\n",
      "Number of atoms:  950\n"
     ]
    }
   ],
   "source": [
    "import mdtraj as md\n",
    "traj = md.load(all_paths[0])\n",
    "top = traj.topology\n",
    "number_of_chains = top.n_chains\n",
    "number_of_atoms = top.n_atoms\n",
    "print('protein 8PFK')\n",
    "print('Number of chains: ', number_of_chains)\n",
    "print('Number of atoms: ', number_of_atoms)\n",
    "traj = md.load(all_paths[1])\n",
    "top = traj.topology\n",
    "number_of_chains = top.n_chains\n",
    "number_of_atoms = top.n_atoms\n",
    "print('\\nprotein 8PFQ')\n",
    "print('Number of chains: ', number_of_chains)\n",
    "print('Number of atoms: ', number_of_atoms)"
   ]
  },
  {
   "cell_type": "markdown",
   "id": "cef131f3",
   "metadata": {},
   "source": [
    "# Experiment Result:\n",
    "### Completed without Exception or TimeOut Errors ✅\n",
    "### Attempted all necessary steps ✅\n",
    "### No Hallucination ✅\n",
    "### Logic make sense ✅\n",
    "### Correct Answer  ✅"
   ]
  },
  {
   "cell_type": "code",
   "execution_count": null,
   "id": "508cd9be",
   "metadata": {},
   "outputs": [],
   "source": []
  }
 ],
 "metadata": {
  "kernelspec": {
   "display_name": "mdcrow2",
   "language": "python",
   "name": "python3"
  },
  "language_info": {
   "codemirror_mode": {
    "name": "ipython",
    "version": 3
   },
   "file_extension": ".py",
   "mimetype": "text/x-python",
   "name": "python",
   "nbconvert_exporter": "python",
   "pygments_lexer": "ipython3",
   "version": "3.11.9"
  }
 },
 "nbformat": 4,
 "nbformat_minor": 5
}
