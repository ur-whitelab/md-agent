{
 "cells": [
  {
   "cell_type": "code",
   "execution_count": 1,
   "metadata": {},
   "outputs": [],
   "source": [
    "import datetime\n",
    "import os\n",
    "from mdcrow import MDCrow"
   ]
  },
  {
   "cell_type": "code",
   "execution_count": 2,
   "metadata": {},
   "outputs": [
    {
     "name": "stdout",
     "output_type": "stream",
     "text": [
      "date and time: 2024-09-09\n",
      "time: 21:49:53\n",
      "LLM:  gpt-4-turbo-2024-04-09 \n",
      "Temperature:  0.1\n"
     ]
    }
   ],
   "source": [
    "prompt22 = \"Perform a brief simulation of protein 1PQ2.\"\n",
    "llm_var = \"gpt-4-turbo-2024-04-09\"\n",
    "tools = \"all\"\n",
    "agent = MDCrow(agent_type=\"Structured\", model=llm_var, top_k_tools=tools)\n",
    "now = datetime.datetime.now()\n",
    "date = now.strftime(\"%Y-%m-%d\")\n",
    "print(\"date and time:\",date)\n",
    "time = now.strftime(\"%H:%M:%S\")\n",
    "print(\"time:\",time)\n",
    "print(\"LLM: \",agent.llm.model_name,\"\\nTemperature: \",agent.llm.temperature)"
   ]
  },
  {
   "cell_type": "code",
   "execution_count": 3,
   "metadata": {},
   "outputs": [
    {
     "name": "stdout",
     "output_type": "stream",
     "text": [
      "Thought: To perform a simulation of the protein with PDB ID 1PQ2, I need to set up and run a molecular dynamics simulation using the appropriate tools. First, I will download the PDB file for the protein 1PQ2.\n",
      "\n",
      "Action:\n",
      "```json\n",
      "{\n",
      "    \"action\": \"PDBFileDownloader\",\n",
      "    \"action_input\": {\n",
      "        \"query\": \"1PQ2\"\n",
      "    }\n",
      "}\n",
      "```PDB file found with this ID: 1PQ2\n",
      "Now that I have the PDB file for protein 1PQ2, the next step is to set up and run a brief molecular dynamics simulation. I will use the SetUpandRunFunction tool to perform this task, specifying the PDB ID and default parameters for a quick simulation.\n",
      "\n",
      "Action:\n",
      "```json\n",
      "{\n",
      "    \"action\": \"SetUpandRunFunction\",\n",
      "    \"action_input\": {\n",
      "        \"pdb_id\": \"1PQ2_214959\",\n",
      "        \"forcefield_files\": [],\n",
      "        \"save\": true,\n",
      "        \"system_params\": {\n",
      "            \"nonbondedMethod\": \"NoCutoff\",\n",
      "            \"constraints\": \"None\",\n",
      "            \"rigidWater\": false\n",
      "        },\n",
      "        \"integrator_params\": {\n",
      "            \"integrator_type\": \"LangevinMiddle\",\n",
      "            \"Temperature\": \"300 * kelvin\",\n",
      "            \"Friction\": \"1.0 / picoseconds\",\n",
      "            \"Timestep\": \"0.002 * picoseconds\"\n",
      "        },\n",
      "        \"simulation_params\": {\n",
      "            \"Ensemble\": \"NVT\",\n",
      "            \"Number of Steps\": 5000,\n",
      "            \"record_interval_steps\": 100,\n",
      "            \"record_params\": [\"step\", \"potentialEnergy\", \"temperature\"]\n",
      "        }\n",
      "    }\n",
      "}\n",
      "```Setting default forcefields v2\n",
      "Building system...\n",
      "About to create system...\n",
      "Attempts at creating system: 0/3\n",
      "adding system without solvent\n",
      "Trying to add component to Forcefield...\n",
      "Residue code: LYS\n",
      "Residue code not in solvent list. Adding forcefield                         not supported.\n",
      "The simulation setup failed due to a missing template for residue LYS in the protein 1PQ2. This issue typically arises from incomplete or nonstandard residues in the PDB file that are not recognized by the simulation software. To resolve this, I will use the CleaningToolFunction to clean the PDB file by adding missing atoms, replacing nonstandard residues, and preparing it properly for the simulation.\n",
      "\n",
      "Action:\n",
      "```json\n",
      "{\n",
      "    \"action\": \"CleaningToolFunction\",\n",
      "    \"action_input\": {\n",
      "        \"pdb_id\": \"1PQ2_214959\",\n",
      "        \"replace_nonstandard_residues\": true,\n",
      "        \"add_missing_atoms\": true,\n",
      "        \"remove_heterogens\": true,\n",
      "        \"remove_water\": true,\n",
      "        \"add_hydrogens\": true,\n",
      "        \"add_hydrogens_ph\": 7.0\n",
      "    }\n",
      "}\n",
      "```file path: /Users/jorgemedina/Desktop/md-agent/ckpt/ckpt_338/pdb/1PQ2_raw_20240909_214959.pdb\n",
      "With the PDB file for protein 1PQ2 now cleaned and prepared, I can proceed to set up and run the molecular dynamics simulation again. This time, I will use the cleaned file ID and ensure that the simulation parameters are correctly set to avoid any previous issues.\n",
      "\n",
      "Action:\n",
      "```json\n",
      "{\n",
      "    \"action\": \"SetUpandRunFunction\",\n",
      "    \"action_input\": {\n",
      "        \"pdb_id\": \"1PQ2_215056\",\n",
      "        \"forcefield_files\": [],\n",
      "        \"save\": true,\n",
      "        \"system_params\": {\n",
      "            \"nonbondedMethod\": \"NoCutoff\",\n",
      "            \"constraints\": \"None\",\n",
      "            \"rigidWater\": false\n",
      "        },\n",
      "        \"integrator_params\": {\n",
      "            \"integrator_type\": \"LangevinMiddle\",\n",
      "            \"Temperature\": \"300 * kelvin\",\n",
      "            \"Friction\": \"1.0 / picoseconds\",\n",
      "            \"Timestep\": \"0.002 * picoseconds\"\n",
      "        },\n",
      "        \"simulation_params\": {\n",
      "            \"Ensemble\": \"NVT\",\n",
      "            \"Number of Steps\": 5000,\n",
      "            \"record_interval_steps\": 100,\n",
      "            \"record_params\": [\"step\", \"potentialEnergy\", \"temperature\"]\n",
      "        }\n",
      "    }\n",
      "}\n",
      "```Setting default forcefields v2\n",
      "Building system...\n",
      "About to create system...\n",
      "Attempts at creating system: 0/3\n",
      "adding system without solvent\n",
      "System built successfully\n",
      "<openmm.openmm.System; proxy of <Swig Object of type 'OpenMM::System *' at 0x17fe33d80> >\n",
      "Setting up integrator...\n",
      "Creating simulation...\n",
      "simulation set!\n",
      "Performing energy minimization...\n",
      "Minimization complete!\n",
      "Initial Positions saved to initial_positions.pdb\n",
      "Equilibrating...\n",
      "Simulating...\n",
      "Done!\n",
      "Standalone simulation script written to /Users/jorgemedina/Desktop/md-agent/ckpt/ckpt_338/simulations/NVT_1PQ2_215056_20240909_215114.py\n",
      "['exp_11.ipynb', 'TRAJ_sim0_104637_1TRN_104626_20240909_104657.dcd', 'exp_13.ipynb', 'exp_22_gpt-4-turbo-2024-04-09.out', 'TOP_sim0_102718_1XQ8_102708_20240909_102752.pdb', 'exp_9.ipynb', 'exp_17.ipynb', 'TOP_sim0_220509_6BB5_220502_20240909_220523.pdb', 'exp_3_gpt-4-turbo-2024-04-09.out', 'exp_15.ipynb', 'exp_24_gpt-4-turbo-2024-04-09.out', 'exp_2_gpt-4-turbo-2024-04-09.out', 'exp_12.ipynb', 'exp_2_gpt-4-turbo-2024-04-09 1.out', 'exp_10.ipynb', 'TOP_sim0_215114_1PQ2_215056_20240909_215117.pdb', 'exp_14.ipynb', 'exp_5_gpt-4-turbo-2024-04-09.out', 'exp_16.ipynb', 'exp_8.ipynb', 'LOG_sim0_104637_1TRN_104626_20240909_104657.txt', 'exp_23_gpt-4-turbo-2024-04-09.out', 'TOP_sim0_103647_1ZNI_103634_20240909_103655.pdb', 'exp_16_gpt-4-turbo-2024-04-09.out', 'TRAJ_sim0_220509_6BB5_220502_20240909_220523.dcd', 'TRAJ_sim0_102718_1XQ8_102708_20240909_102752.dcd', 'exp_4.ipynb', 'exp_18.ipynb', 'exp_6.ipynb', 'exp_21.ipynb', 'exp_2.ipynb', 'TOP_sim0_104637_1TRN_104626_20240909_104657.pdb', 'exp_23.ipynb', 'LOG_sim0_215114_1PQ2_215056_20240909_215117.txt', 'exp_7.ipynb', 'exp_19.ipynb', 'exp_24.ipynb', 'TRAJ_sim0_215114_1PQ2_215056_20240909_215117.dcd', 'exp_19_gpt-4-turbo-2024-04-09.out', 'exp_25 copy.ipynb', 'TRAJ_sim0_103647_1ZNI_103634_20240909_103655.dcd', 'exp_6_gpt-4-turbo-2024-04-09.out', 'exp_5.ipynb', 'exp_22.ipynb', 'exp_1.ipynb', 'LOG_sim0_220509_6BB5_220502_20240909_220523.txt', 'LOG_sim0_102718_1XQ8_102708_20240909_102752.txt', 'exp_3.ipynb', 'exp_20.ipynb']\n",
      "The molecular dynamics simulation of protein 1PQ2 has been successfully completed after addressing the initial issue with missing atoms and nonstandard residues. The cleaned and prepared PDB file (ID: 1PQ2_215056) was used for the simulation, which was run using the Langevin integrator with a temperature of 300 K, no constraints, and no cutoff for nonbonded interactions. The simulation was performed under NVT conditions for 5000 steps, recording every 100 steps.\n",
      "\n",
      "The outputs from the simulation include:\n",
      "- Simulation trajectory (ID: rec0_215117)\n",
      "- Simulation state log (ID: rec1_215117)\n",
      "- Simulation PDB frames (ID: rec2_215117)\n",
      "\n",
      "A standalone script (ID: sim0_215114) was also generated, allowing for the reproduction of the simulation or further customization as needed. The initial topology file used in the simulation is saved under the ID top_sim0_215114 in the files/pdb/ directory.\n",
      "\n",
      "This completes the task of performing a brief simulation of protein 1PQ2, with all necessary files and logs generated and available for further analysis or reference."
     ]
    },
    {
     "data": {
      "text/plain": [
       "({'input': '\\n    You are an expert molecular dynamics scientist, and\\n    your task is to respond to the question or\\n    solve the problem to the best of your ability using\\n    the provided tools.\\n\\n    You can only respond with a single complete\\n    \\'Thought, Action, Action Input\\' format\\n    OR a single \\'Final Answer\\' format.\\n\\n    Complete format:\\n    Thought: (reflect on your progress and decide what to do next)\\n    Action:\\n    ```\\n    {\\n        \"action\": (the action name, it should be the name of a tool),\\n        \"action_input\": (the input string for the action)\\n    }\\n    \\'\\'\\'\\n\\n    OR\\n\\n    Final Answer: (the final response to the original input\\n    question, once all steps are complete)\\n\\n    You are required to use the tools provided,\\n    using the most specific tool\\n    available for each action.\\n    Your final answer should contain all information\\n    necessary to answer the question and its subquestions.\\n    Before you finish, reflect on your progress and make\\n    sure you have addressed the question in its entirety.\\n\\n    If you are asked to continue\\n    or reference previous runs,\\n    the context will be provided to you.\\n    If context is provided, you should assume\\n    you are continuing a chat.\\n\\n    Here is the input:\\n    Previous Context: None\\n    Question: Perform a brief simulation of protein 1PQ2. ',\n",
       "  'output': 'The molecular dynamics simulation of protein 1PQ2 has been successfully completed after addressing the initial issue with missing atoms and nonstandard residues. The cleaned and prepared PDB file (ID: 1PQ2_215056) was used for the simulation, which was run using the Langevin integrator with a temperature of 300 K, no constraints, and no cutoff for nonbonded interactions. The simulation was performed under NVT conditions for 5000 steps, recording every 100 steps.\\n\\nThe outputs from the simulation include:\\n- Simulation trajectory (ID: rec0_215117)\\n- Simulation state log (ID: rec1_215117)\\n- Simulation PDB frames (ID: rec2_215117)\\n\\nA standalone script (ID: sim0_215114) was also generated, allowing for the reproduction of the simulation or further customization as needed. The initial topology file used in the simulation is saved under the ID top_sim0_215114 in the files/pdb/ directory.\\n\\nThis completes the task of performing a brief simulation of protein 1PQ2, with all necessary files and logs generated and available for further analysis or reference.'},\n",
       " 'UODQVQ9H')"
      ]
     },
     "execution_count": 3,
     "metadata": {},
     "output_type": "execute_result"
    }
   ],
   "source": [
    "agent.run(prompt22)"
   ]
  },
  {
   "cell_type": "code",
   "execution_count": 4,
   "metadata": {},
   "outputs": [
    {
     "name": "stdout",
     "output_type": "stream",
     "text": [
      "date and time: 2024-09-09\n",
      "time: 22:08:02\n",
      "Files found in registry: 1PQ2_214959: PDB file downloaded from RSCB\n",
      " PDBFile ID: 1PQ2_214959\n",
      " 1PQ2_215056: Cleaned File:  Removed Heterogens\n",
      " and Water Removed.  Replaced Nonstandard Residues. Added Hydrogens at pH 7.0. Missing Atoms Added and replaces nonstandard residues. \n",
      " top_sim0_215114: Initial positions for simulation sim0_215114\n",
      " sim0_215114: Basic Simulation of Protein 1PQ2_215056\n",
      " rec0_215117: Simulation trajectory for protein 1PQ2_215056 and simulation sim0_215114\n",
      " rec1_215117: Simulation state log for protein 1PQ2_215056 and simulation sim0_215114\n",
      " rec2_215117: Simulation pdb frames for protein 1PQ2_215056 and simulation sim0_215114\n"
     ]
    }
   ],
   "source": [
    "now = datetime.datetime.now()\n",
    "date = now.strftime(\"%Y-%m-%d\")\n",
    "print(\"date and time:\",date)\n",
    "time = now.strftime(\"%H:%M:%S\")\n",
    "print(\"time:\",time)\n",
    "registry = agent.path_registry\n",
    "paths_and_descriptions = registry.list_path_names_and_descriptions()\n",
    "print(\"\\n\".join(paths_and_descriptions.split(\",\")))"
   ]
  },
  {
   "cell_type": "code",
   "execution_count": 5,
   "metadata": {},
   "outputs": [
    {
     "name": "stdout",
     "output_type": "stream",
     "text": [
      "Simulation with :15234 for 60 frames. Total time: 0.11800000000000001 ps\n"
     ]
    }
   ],
   "source": [
    "trajectory_path = registry.get_mapped_path(\"rec0_215117\")\n",
    "topology_path = registry.get_mapped_path(\"top_sim0_215114\")\n",
    "assert os.path.exists(trajectory_path), \"Trajectory file not found\"\n",
    "assert os.path.exists(topology_path), \"Topology file not found\"\n",
    "\n",
    "import mdtraj as md\n",
    "traj = md.load(trajectory_path, top=topology_path)\n",
    "print(f\"Simulation with :{traj.n_atoms} for {traj.n_frames} frames. Total time: {traj.time[-1]*0.002} ps\")"
   ]
  },
  {
   "cell_type": "markdown",
   "metadata": {},
   "source": [
    "# Experiment Result:\n",
    "### Completed without Exception or TimeOut Errors ✅  \n",
    "### Attempted all necessary steps ✅\n",
    "### No hallucination ✅\n",
    "### Logic make sense  ✅\n",
    "### Correct Answer  ✅ \n",
    "### Number of steps completed: 2\n",
    "### % steps completed: 100️%"
   ]
  },
  {
   "cell_type": "markdown",
   "metadata": {},
   "source": []
  }
 ],
 "metadata": {
  "kernelspec": {
   "display_name": "mdcrow2",
   "language": "python",
   "name": "python3"
  },
  "language_info": {
   "codemirror_mode": {
    "name": "ipython",
    "version": 3
   },
   "file_extension": ".py",
   "mimetype": "text/x-python",
   "name": "python",
   "nbconvert_exporter": "python",
   "pygments_lexer": "ipython3",
   "version": "3.11.9"
  }
 },
 "nbformat": 4,
 "nbformat_minor": 4
}
