{
 "cells": [
  {
   "cell_type": "code",
   "execution_count": 12,
   "id": "8ff706fd-c267-4d05-af58-9a3848cce8ff",
   "metadata": {},
   "outputs": [],
   "source": [
    "from mdcrow import MDCrow"
   ]
  },
  {
   "cell_type": "code",
   "execution_count": 13,
   "id": "b0d4ea60-212d-4a24-ad8f-0673323701cf",
   "metadata": {},
   "outputs": [
    {
     "name": "stdout",
     "output_type": "stream",
     "text": [
      "date: 2024-09-10\n",
      "time: 09:57:49\n"
     ]
    }
   ],
   "source": [
    "import datetime\n",
    "\n",
    "start = datetime.datetime.now()\n",
    "date = start.strftime(\"%Y-%m-%d\")\n",
    "print(\"date:\",date)\n",
    "time = start.strftime(\"%H:%M:%S\")\n",
    "print(\"time:\",time)"
   ]
  },
  {
   "cell_type": "code",
   "execution_count": 14,
   "id": "f62bfc17-854b-4152-bb82-7e9e0ec4b854",
   "metadata": {},
   "outputs": [
    {
     "name": "stdout",
     "output_type": "stream",
     "text": [
      "LLM:  gpt-4-turbo-2024-04-09 \n",
      "Temperature:  0.1\n"
     ]
    }
   ],
   "source": [
    "model='gpt-4-turbo-2024-04-09'\n",
    "mda = MDCrow(\n",
    "    agent_type='Structured', \n",
    "    model=model, \n",
    "    tools_model=model,\n",
    "    use_memory=False, \n",
    "    top_k_tools=\"all\"\n",
    ")\n",
    "print(\"LLM: \", mda.llm.model_name,\"\\nTemperature: \", mda.llm.temperature)"
   ]
  },
  {
   "cell_type": "code",
   "execution_count": 15,
   "id": "ad2f6f66-e6b8-4244-b908-68fbebbf6e8b",
   "metadata": {},
   "outputs": [
    {
     "name": "stdout",
     "output_type": "stream",
     "text": [
      "Thought: To simulate the protein 1MBN in water and methanol solutions, I need to first set up and run molecular dynamics simulations for each solvent environment. This involves preparing the protein structure, solvating it in both water and methanol, and then running the simulations using appropriate molecular dynamics parameters.\n",
      "\n",
      "Action:\n",
      "```json\n",
      "{\n",
      "    \"action\": \"SetUpandRunFunction\",\n",
      "    \"action_input\": {\n",
      "        \"pdb_id\": \"1MBN\",\n",
      "        \"forcefield_files\": [\"amber14-all.xml\", \"amber14/tip3p.xml\", \"amber14/tip3pfb.xml\"],\n",
      "        \"system_params\": {\n",
      "            \"nonbondedMethod\": \"PME\",\n",
      "            \"nonbondedCutoff\": \"1.0 * nanometers\",\n",
      "            \"constraints\": \"HBonds\",\n",
      "            \"rigidWater\": true,\n",
      "            \"solvate\": true\n",
      "        },\n",
      "        \"integrator_params\": {\n",
      "            \"integrator_type\": \"LangevinMiddle\",\n",
      "            \"Temperature\": \"300 * kelvin\",\n",
      "            \"Friction\": \"1.0 / picoseconds\",\n",
      "            \"Timestep\": \"0.002 * picoseconds\"\n",
      "        },\n",
      "        \"simulation_params\": {\n",
      "            \"Ensemble\": \"NVT\",\n",
      "            \"Number of Steps\": 5000,\n",
      "            \"record_interval_steps\": 50,\n",
      "            \"record_params\": [\"step\", \"potentialEnergy\", \"temperature\"]\n",
      "        }\n",
      "    }\n",
      "}\n",
      "```Setting default ewaldErrorTolerance: 0.0005 \n",
      "error found: constraintTolerance must be specified if rigidWater is True\n",
      " Correct this and try again. \n",
      " Everthing else is fine\n",
      "To proceed with the simulation of the protein 1MBN in water and methanol solutions, I need to correct the system parameters by specifying the constraint tolerance due to the rigid water model being used. I will update the system parameters and re-run the simulation setup.\n",
      "\n",
      "Action:\n",
      "```json\n",
      "{\n",
      "    \"action\": \"SetUpandRunFunction\",\n",
      "    \"action_input\": {\n",
      "        \"pdb_id\": \"1MBN\",\n",
      "        \"forcefield_files\": [\"amber14-all.xml\", \"amber14/tip3p.xml\", \"amber14/tip3pfb.xml\"],\n",
      "        \"system_params\": {\n",
      "            \"nonbondedMethod\": \"PME\",\n",
      "            \"nonbondedCutoff\": \"1.0 * nanometers\",\n",
      "            \"constraints\": \"HBonds\",\n",
      "            \"rigidWater\": true,\n",
      "            \"solvate\": true,\n",
      "            \"constraintTolerance\": \"0.00001\"\n",
      "        },\n",
      "        \"integrator_params\": {\n",
      "            \"integrator_type\": \"LangevinMiddle\",\n",
      "            \"Temperature\": \"300 * kelvin\",\n",
      "            \"Friction\": \"1.0 / picoseconds\",\n",
      "            \"Timestep\": \"0.002 * picoseconds\"\n",
      "        },\n",
      "        \"simulation_params\": {\n",
      "            \"Ensemble\": \"NVT\",\n",
      "            \"Number of Steps\": 5000,\n",
      "            \"record_interval_steps\": 50,\n",
      "            \"record_params\": [\"step\", \"potentialEnergy\", \"temperature\"]\n",
      "        }\n",
      "    }\n",
      "}\n",
      "```Setting default ewaldErrorTolerance: 0.0005 \n",
      "To proceed with the simulation of the protein 1MBN in water and methanol solutions, I need to obtain the file ID for the PDB file of 1MBN to correctly set up the simulation. I will use the PDBFileDownloader tool to download the PDB file for 1MBN and then proceed with the corrected simulation setup.\n",
      "\n",
      "Action:\n",
      "```json\n",
      "{\n",
      "    \"action\": \"PDBFileDownloader\",\n",
      "    \"action_input\": {\n",
      "        \"query\": \"1MBN\"\n",
      "    }\n",
      "}\n",
      "```PDB file found with this ID: 1MBN\n",
      "Now that I have the file ID for the PDB file of 1MBN, I can proceed with setting up and running the molecular dynamics simulations for the protein in both water and methanol solutions. I will update the simulation setup with the correct file ID and re-run the simulation setup.\n",
      "\n",
      "Action:\n",
      "```json\n",
      "{\n",
      "    \"action\": \"SetUpandRunFunction\",\n",
      "    \"action_input\": {\n",
      "        \"pdb_id\": \"1MBN_095823\",\n",
      "        \"forcefield_files\": [\"amber14-all.xml\", \"amber14/tip3p.xml\", \"amber14/tip3pfb.xml\"],\n",
      "        \"system_params\": {\n",
      "            \"nonbondedMethod\": \"PME\",\n",
      "            \"nonbondedCutoff\": \"1.0 * nanometers\",\n",
      "            \"constraints\": \"HBonds\",\n",
      "            \"rigidWater\": true,\n",
      "            \"solvate\": true,\n",
      "            \"constraintTolerance\": \"0.00001\"\n",
      "        },\n",
      "        \"integrator_params\": {\n",
      "            \"integrator_type\": \"LangevinMiddle\",\n",
      "            \"Temperature\": \"300 * kelvin\",\n",
      "            \"Friction\": \"1.0 / picoseconds\",\n",
      "            \"Timestep\": \"0.002 * picoseconds\"\n",
      "        },\n",
      "        \"simulation_params\": {\n",
      "            \"Ensemble\": \"NVT\",\n",
      "            \"Number of Steps\": 5000,\n",
      "            \"record_interval_steps\": 50,\n",
      "            \"record_params\": [\"step\", \"potentialEnergy\", \"temperature\"]\n",
      "        }\n",
      "    }\n",
      "}\n",
      "```Setting default ewaldErrorTolerance: 0.0005 \n",
      "Building system...\n",
      "To address the issue of the residue template conflict during the simulation setup, I need to clean the PDB file of 1MBN to ensure compatibility with the forcefield files. This involves removing nonstandard residues and possibly other heterogens that could be causing conflicts. I will use the CleaningToolFunction to clean the PDB file and then attempt to run the simulation again.\n",
      "\n",
      "Action:\n",
      "```json\n",
      "{\n",
      "    \"action\": \"CleaningToolFunction\",\n",
      "    \"action_input\": {\n",
      "        \"pdb_id\": \"1MBN_095823\",\n",
      "        \"replace_nonstandard_residues\": true,\n",
      "        \"add_missing_atoms\": true,\n",
      "        \"remove_heterogens\": true,\n",
      "        \"remove_water\": true,\n",
      "        \"add_hydrogens\": true,\n",
      "        \"add_hydrogens_ph\": 7.0\n",
      "    }\n",
      "}\n",
      "```file path: /Users/jorgemedina/Desktop/md-agent/ckpt/ckpt_343/pdb/1MBN_raw_20240910_095823.pdb\n",
      "Now that the PDB file of 1MBN has been cleaned and prepared, I can proceed with setting up and running the molecular dynamics simulations for the protein in both water and methanol solutions. I will update the simulation setup with the cleaned file ID and re-run the simulation setup.\n",
      "\n",
      "Action:\n",
      "```json\n",
      "{\n",
      "    \"action\": \"SetUpandRunFunction\",\n",
      "    \"action_input\": {\n",
      "        \"pdb_id\": \"1MBN_095845\",\n",
      "        \"forcefield_files\": [\"amber14-all.xml\", \"amber14/tip3p.xml\", \"amber14/tip3pfb.xml\"],\n",
      "        \"system_params\": {\n",
      "            \"nonbondedMethod\": \"PME\",\n",
      "            \"nonbondedCutoff\": \"1.0 * nanometers\",\n",
      "            \"constraints\": \"HBonds\",\n",
      "            \"rigidWater\": true,\n",
      "            \"solvate\": true,\n",
      "            \"constraintTolerance\": \"0.00001\"\n",
      "        },\n",
      "        \"integrator_params\": {\n",
      "            \"integrator_type\": \"LangevinMiddle\",\n",
      "            \"Temperature\": \"300 * kelvin\",\n",
      "            \"Friction\": \"1.0 / picoseconds\",\n",
      "            \"Timestep\": \"0.002 * picoseconds\"\n",
      "        },\n",
      "        \"simulation_params\": {\n",
      "            \"Ensemble\": \"NVT\",\n",
      "            \"Number of Steps\": 5000,\n",
      "            \"record_interval_steps\": 50,\n",
      "            \"record_params\": [\"step\", \"potentialEnergy\", \"temperature\"]\n",
      "        }\n",
      "    }\n",
      "}\n",
      "```Setting default ewaldErrorTolerance: 0.0005 \n",
      "Building system...\n",
      "Final Answer: The simulation setup for the protein 1MBN in water and methanol solutions encountered multiple issues. Initially, there was a failure due to the absence of a specified constraint tolerance when using a rigid water model. After correcting this and obtaining the correct PDB file ID, the simulation setup failed again due to residue template conflicts, even after cleaning the PDB file to ensure compatibility with the forcefield files. Further investigation and possibly alternative approaches or adjustments to the forcefield files might be necessary to successfully run the simulation."
     ]
    }
   ],
   "source": [
    "prompt = 'Simulate 1MBN in water and methanol solutions.'\n",
    "answer = mda.run(prompt)"
   ]
  },
  {
   "cell_type": "code",
   "execution_count": 16,
   "id": "a31fd85f-9466-41da-ada4-0b9f86427723",
   "metadata": {},
   "outputs": [
    {
     "name": "stdout",
     "output_type": "stream",
     "text": [
      "duration: 1.19 minutes\n"
     ]
    }
   ],
   "source": [
    "end = datetime.datetime.now()\n",
    "elapsed = end - start\n",
    "print(f\"duration: {elapsed.total_seconds()/60:.2f} minutes\")"
   ]
  },
  {
   "cell_type": "code",
   "execution_count": 17,
   "id": "1c69c417-e7a3-48cf-bb3e-46a52ea8e710",
   "metadata": {},
   "outputs": [
    {
     "name": "stdout",
     "output_type": "stream",
     "text": [
      "Names found in registry: 1MBN_095823, 1MBN_095845\n"
     ]
    }
   ],
   "source": [
    "registry = mda.path_registry\n",
    "all_names = registry.list_path_names()\n",
    "print(all_names)"
   ]
  },
  {
   "cell_type": "markdown",
   "id": "0e3cb28f-f60d-467b-8aa8-1842046d46d5",
   "metadata": {},
   "source": [
    "# Experiment Result:\n",
    "\n",
    "1. Completed without Exception or TimeOut Errors ✅\n",
    "2. Attempted all necessary steps ❌\n",
    "3. No hallucination ❌\n",
    "4. Logic make sense ❌\n",
    "5. Correct Answer ❌\n",
    "6. Number of steps completed: 1\n",
    "7. % steps completed: 25%"
   ]
  },
  {
   "cell_type": "code",
   "execution_count": null,
   "id": "08505bf4-7d5a-4e4d-b895-5e69172d869f",
   "metadata": {},
   "outputs": [],
   "source": []
  }
 ],
 "metadata": {
  "kernelspec": {
   "display_name": "mdcrow",
   "language": "python",
   "name": "mdcrow"
  },
  "language_info": {
   "codemirror_mode": {
    "name": "ipython",
    "version": 3
   },
   "file_extension": ".py",
   "mimetype": "text/x-python",
   "name": "python",
   "nbconvert_exporter": "python",
   "pygments_lexer": "ipython3",
   "version": "3.12.4"
  }
 },
 "nbformat": 4,
 "nbformat_minor": 5
}
