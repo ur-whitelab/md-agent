{
 "cells": [
  {
   "cell_type": "code",
   "execution_count": 1,
   "id": "39451d99-005f-40b2-867e-fb955d63647d",
   "metadata": {},
   "outputs": [],
   "source": [
    "from mdcrow import MDCrow"
   ]
  },
  {
   "cell_type": "code",
   "execution_count": 2,
   "id": "d808d0af-27f5-4e95-87bf-beb2d72c9108",
   "metadata": {},
   "outputs": [
    {
     "name": "stdout",
     "output_type": "stream",
     "text": [
      "date: 2024-09-09\n",
      "time: 10:35:56\n"
     ]
    }
   ],
   "source": [
    "#todays date and time\n",
    "import datetime\n",
    "\n",
    "start = datetime.datetime.now()\n",
    "date = start.strftime(\"%Y-%m-%d\")\n",
    "print(\"date:\",date)\n",
    "time = start.strftime(\"%H:%M:%S\")\n",
    "print(\"time:\",time)"
   ]
  },
  {
   "cell_type": "code",
   "execution_count": 3,
   "id": "82be5f35-3197-49c7-9955-6707529f8691",
   "metadata": {},
   "outputs": [],
   "source": [
    "model='gpt-4-turbo-2024-04-09'"
   ]
  },
  {
   "cell_type": "code",
   "execution_count": 4,
   "id": "4b12fdc0-25be-4835-9e70-b3ea299bac9d",
   "metadata": {},
   "outputs": [
    {
     "name": "stdout",
     "output_type": "stream",
     "text": [
      "LLM:  gpt-4-turbo-2024-04-09 \n",
      "Temperature:  0.1\n"
     ]
    }
   ],
   "source": [
    "mda = MDCrow(\n",
    "    agent_type='Structured', \n",
    "    model=model, \n",
    "    tools_model=model,\n",
    "    use_memory=False, \n",
    "    top_k_tools=\"all\"\n",
    ")\n",
    "\n",
    "print(\"LLM: \", mda.llm.model_name,\"\\nTemperature: \", mda.llm.temperature)"
   ]
  },
  {
   "cell_type": "code",
   "execution_count": 5,
   "id": "fe11721e-c775-40d3-9332-9f80820ccc95",
   "metadata": {},
   "outputs": [
    {
     "name": "stdout",
     "output_type": "stream",
     "text": [
      "Thought: To simulate the protein 1ZNI at 300 K for 1 ns and calculate the RMSD, I need to first set up and run the simulation using the appropriate molecular dynamics tools. After the simulation, I will compute the RMSD using the results obtained.\n",
      "\n",
      "Action:\n",
      "```json\n",
      "{\n",
      "    \"action\": \"SetUpandRunFunction\",\n",
      "    \"action_input\": {\n",
      "        \"pdb_id\": \"1ZNI\",\n",
      "        \"forcefield_files\": [\"amber14-all.xml\", \"amber14/tip3pfb.xml\"],\n",
      "        \"save\": true,\n",
      "        \"system_params\": {\n",
      "            \"nonbondedMethod\": \"PME\",\n",
      "            \"nonbondedCutoff\": \"1.0 * nanometers\",\n",
      "            \"constraints\": \"HBonds\",\n",
      "            \"rigidWater\": true,\n",
      "            \"constraintTolerance\": 0.00001,\n",
      "            \"solvate\": true\n",
      "        },\n",
      "        \"integrator_params\": {\n",
      "            \"integrator_type\": \"LangevinMiddle\",\n",
      "            \"Temperature\": \"300 * kelvin\",\n",
      "            \"Friction\": \"1.0 / picoseconds\",\n",
      "            \"Timestep\": \"0.002 * picoseconds\"\n",
      "        },\n",
      "        \"simulation_params\": {\n",
      "            \"Ensemble\": \"NVT\",\n",
      "            \"Number of Steps\": 500000,\n",
      "            \"record_interval_steps\": 5000,\n",
      "            \"record_params\": [\"step\", \"potentialEnergy\", \"temperature\"]\n",
      "        }\n",
      "    }\n",
      "}\n",
      "```Setting default ewaldErrorTolerance: 0.0005 \n",
      "To simulate the protein 1ZNI at 300 K for 1 ns and calculate the RMSD, I need to first download the PDB file for the protein using its common name, then set up and run the simulation, and finally compute the RMSD using the results obtained.\n",
      "\n",
      "Action:\n",
      "```json\n",
      "{\n",
      "    \"action\": \"PDBFileDownloader\",\n",
      "    \"action_input\": {\n",
      "        \"query\": \"1ZNI\"\n",
      "    }\n",
      "}\n",
      "```PDB file found with this ID: 1ZNI\n",
      "Now that I have the PDB file ID for protein 1ZNI, I can proceed to set up and run the molecular dynamics simulation at 300 K for 1 ns. I will use the downloaded PDB file ID to configure the simulation parameters.\n",
      "\n",
      "Action:\n",
      "```json\n",
      "{\n",
      "    \"action\": \"SetUpandRunFunction\",\n",
      "    \"action_input\": {\n",
      "        \"pdb_id\": \"1ZNI_103614\",\n",
      "        \"forcefield_files\": [\"amber14-all.xml\", \"amber14/tip3pfb.xml\"],\n",
      "        \"save\": true,\n",
      "        \"system_params\": {\n",
      "            \"nonbondedMethod\": \"PME\",\n",
      "            \"nonbondedCutoff\": \"1.0 * nanometers\",\n",
      "            \"constraints\": \"HBonds\",\n",
      "            \"rigidWater\": true,\n",
      "            \"constraintTolerance\": 0.00001,\n",
      "            \"solvate\": true\n",
      "        },\n",
      "        \"integrator_params\": {\n",
      "            \"integrator_type\": \"LangevinMiddle\",\n",
      "            \"Temperature\": \"300 * kelvin\",\n",
      "            \"Friction\": \"1.0 / picoseconds\",\n",
      "            \"Timestep\": \"0.002 * picoseconds\"\n",
      "        },\n",
      "        \"simulation_params\": {\n",
      "            \"Ensemble\": \"NVT\",\n",
      "            \"Number of Steps\": 500000,\n",
      "            \"record_interval_steps\": 5000,\n",
      "            \"record_params\": [\"step\", \"potentialEnergy\", \"temperature\"]\n",
      "        }\n",
      "    }\n",
      "}\n",
      "```Setting default ewaldErrorTolerance: 0.0005 \n",
      "Building system...\n",
      "About to create system...\n",
      "Attempts at creating system: 0/3\n",
      "Error adding solvent ValueError – No template found for residue 1 (GLY).  The set of atoms is similar to GLY, but it is missing 3 hydrogen atoms.  For more information, see https://github.com/openmm/openmm/wiki/Frequently-Asked-Questions#template\n",
      "Residue code: GLY\n",
      "Residue code not in solvent list. Adding forcefield                         not supported.\n",
      "To address the issue with the missing hydrogen atoms in the PDB file for protein 1ZNI, I will use the CleaningToolFunction to add the missing atoms, including hydrogens, and ensure the file is compatible with the simulation requirements.\n",
      "\n",
      "Action:\n",
      "```json\n",
      "{\n",
      "    \"action\": \"CleaningToolFunction\",\n",
      "    \"action_input\": {\n",
      "        \"pdb_id\": \"1ZNI_103614\",\n",
      "        \"add_missing_atoms\": true,\n",
      "        \"add_hydrogens\": true,\n",
      "        \"replace_nonstandard_residues\": true,\n",
      "        \"remove_heterogens\": true,\n",
      "        \"remove_water\": true\n",
      "    }\n",
      "}\n",
      "```file path: /Users/jorgemedina/Desktop/md-agent/ckpt/ckpt_325/pdb/1ZNI_raw_20240909_103614.pdb\n",
      "Now that the PDB file for protein 1ZNI has been cleaned and prepared, I can proceed to set up and run the molecular dynamics simulation at 300 K for 1 ns using the cleaned file. I will configure the simulation parameters using the cleaned PDB file ID.\n",
      "\n",
      "Action:\n",
      "```json\n",
      "{\n",
      "    \"action\": \"SetUpandRunFunction\",\n",
      "    \"action_input\": {\n",
      "        \"pdb_id\": \"1ZNI_103634\",\n",
      "        \"forcefield_files\": [\"amber14-all.xml\", \"amber14/tip3pfb.xml\"],\n",
      "        \"save\": true,\n",
      "        \"system_params\": {\n",
      "            \"nonbondedMethod\": \"PME\",\n",
      "            \"nonbondedCutoff\": \"1.0 * nanometers\",\n",
      "            \"constraints\": \"HBonds\",\n",
      "            \"rigidWater\": true,\n",
      "            \"constraintTolerance\": 0.00001,\n",
      "            \"solvate\": true\n",
      "        },\n",
      "        \"integrator_params\": {\n",
      "            \"integrator_type\": \"LangevinMiddle\",\n",
      "            \"Temperature\": \"300 * kelvin\",\n",
      "            \"Friction\": \"1.0 / picoseconds\",\n",
      "            \"Timestep\": \"0.002 * picoseconds\"\n",
      "        },\n",
      "        \"simulation_params\": {\n",
      "            \"Ensemble\": \"NVT\",\n",
      "            \"Number of Steps\": 500000,\n",
      "            \"record_interval_steps\": 5000,\n",
      "            \"record_params\": [\"step\", \"potentialEnergy\", \"temperature\"]\n",
      "        }\n",
      "    }\n",
      "}\n",
      "```Setting default ewaldErrorTolerance: 0.0005 \n",
      "Building system...\n",
      "About to create system...\n",
      "Attempts at creating system: 0/3\n",
      "System built successfully\n",
      "<openmm.openmm.System; proxy of <Swig Object of type 'OpenMM::System *' at 0x305193c60> >\n",
      "Setting up integrator...\n",
      "Creating simulation...\n",
      "simulation set!\n",
      "Performing energy minimization...\n",
      "Minimization complete!\n",
      "Initial Positions saved to initial_positions.pdb\n",
      "Equilibrating...\n",
      "Simulating...\n",
      "To address the issue of NaN particle coordinates in the simulation of protein 1ZNI, I will adjust the simulation parameters to ensure stability. I will change the nonbondedMethod to CutoffPeriodic, which might help manage the interactions better in a confined system, and slightly increase the nonbondedCutoff to provide more space for interactions, which could prevent the NaN issues.\n",
      "\n",
      "Action:\n",
      "```json\n",
      "{\n",
      "    \"action\": \"SetUpandRunFunction\",\n",
      "    \"action_input\": {\n",
      "        \"pdb_id\": \"1ZNI_103634\",\n",
      "        \"forcefield_files\": [\"amber14-all.xml\", \"amber14/tip3pfb.xml\"],\n",
      "        \"save\": true,\n",
      "        \"system_params\": {\n",
      "            \"nonbondedMethod\": \"CutoffPeriodic\",\n",
      "            \"nonbondedCutoff\": \"1.2 * nanometers\",\n",
      "            \"constraints\": \"HBonds\",\n",
      "            \"rigidWater\": true,\n",
      "            \"constraintTolerance\": 0.00001,\n",
      "            \"solvate\": true\n",
      "        },\n",
      "        \"integrator_params\": {\n",
      "            \"integrator_type\": \"LangevinMiddle\",\n",
      "            \"Temperature\": \"300 * kelvin\",\n",
      "            \"Friction\": \"1.0 / picoseconds\",\n",
      "            \"Timestep\": \"0.002 * picoseconds\"\n",
      "        },\n",
      "        \"simulation_params\": {\n",
      "            \"Ensemble\": \"NVT\",\n",
      "            \"Number of Steps\": 500000,\n",
      "            \"record_interval_steps\": 5000,\n",
      "            \"record_params\": [\"step\", \"potentialEnergy\", \"temperature\"]\n",
      "        }\n",
      "    }\n",
      "}\n",
      "```Building system...\n",
      "About to create system...\n",
      "Attempts at creating system: 0/3\n",
      "System built successfully\n",
      "<openmm.openmm.System; proxy of <Swig Object of type 'OpenMM::System *' at 0x3051cb750> >\n",
      "Setting up integrator...\n",
      "Creating simulation...\n",
      "simulation set!\n",
      "Performing energy minimization...\n",
      "Minimization complete!\n",
      "Initial Positions saved to initial_positions.pdb\n",
      "Equilibrating...\n",
      "Simulating...\n",
      "Done!\n",
      "Standalone simulation script written to /Users/jorgemedina/Desktop/md-agent/ckpt/ckpt_325/simulations/NVT_1ZNI_103634_20240909_110355.py\n",
      "['exp_11.ipynb', 'TRAJ_sim0_104637_1TRN_104626_20240909_104657.dcd', 'LOG_sim0_103311_1ZNI_103300_20240909_103315.txt', 'exp_13.ipynb', 'exp_22_gpt-4-turbo-2024-04-09.out', 'TOP_sim0_102718_1XQ8_102708_20240909_102752.pdb', 'TRAJ_sim0_110355_1ZNI_103634_20240909_110407.dcd', 'exp_9.ipynb', 'exp_17.ipynb', 'exp_3_gpt-4-turbo-2024-04-09.out', 'exp_15.ipynb', 'exp_24_gpt-4-turbo-2024-04-09.out', 'exp_2_gpt-4-turbo-2024-04-09.out', 'exp_12.ipynb', 'LOG_sim0_110355_1ZNI_103634_20240909_110407.txt', 'exp_2_gpt-4-turbo-2024-04-09 1.out', 'exp_10.ipynb', 'TRAJ_sim0_103311_1ZNI_103300_20240909_103315.dcd', 'exp_14.ipynb', 'exp_5_gpt-4-turbo-2024-04-09.out', 'exp_16.ipynb', 'exp_8.ipynb', 'LOG_sim0_104637_1TRN_104626_20240909_104657.txt', 'exp_23_gpt-4-turbo-2024-04-09.out', 'TOP_sim0_103647_1ZNI_103634_20240909_103655.pdb', 'exp_16_gpt-4-turbo-2024-04-09.out', 'TOP_sim0_110355_1ZNI_103634_20240909_110407.pdb', 'TRAJ_sim0_102718_1XQ8_102708_20240909_102752.dcd', 'exp_4.ipynb', 'exp_18.ipynb', 'exp_6.ipynb', 'LOG_sim0_103647_1ZNI_103634_20240909_103655.txt', 'exp_21.ipynb', 'exp_2.ipynb', 'TOP_sim0_104637_1TRN_104626_20240909_104657.pdb', 'exp_23.ipynb', 'exp_7.ipynb', 'exp_19.ipynb', 'exp_24.ipynb', 'TOP_sim0_103311_1ZNI_103300_20240909_103315.pdb', 'exp_19_gpt-4-turbo-2024-04-09.out', 'exp_25 copy.ipynb', 'TRAJ_sim0_103647_1ZNI_103634_20240909_103655.dcd', 'exp_6_gpt-4-turbo-2024-04-09.out', 'exp_5.ipynb', 'exp_22.ipynb', 'exp_1.ipynb', 'LOG_sim0_102718_1XQ8_102708_20240909_102752.txt', 'exp_3.ipynb', 'exp_20.ipynb']\n",
      "Now that the simulation has been successfully completed, I will proceed to calculate the root mean square deviation (RMSD) using the trajectory file obtained from the simulation. This will help in understanding the structural deviations over the course of the simulation.\n",
      "\n",
      "Action:\n",
      "```json\n",
      "{\n",
      "    \"action\": \"ComputeRMSD\",\n",
      "    \"action_input\": {\n",
      "        \"top_id\": \"top_sim0_110355\",\n",
      "        \"traj_id\": \"rec0_110407\",\n",
      "        \"ref_top_id\": \"top_sim0_110355\",\n",
      "        \"ref_traj_id\": \"rec2_110407\",\n",
      "        \"select\": \"protein\"\n",
      "    }\n",
      "}\n",
      "```Calculating RMSD...\n",
      "Data saved to /Users/jorgemedina/Desktop/md-agent/ckpt/ckpt_325/records/rmsd_110355.csv\n",
      "Plot saved to /Users/jorgemedina/Desktop/md-agent/ckpt/ckpt_325/figures/FIG_rmsd_110355_20240909_205013.png\n",
      "Final Answer: The molecular dynamics simulation of protein 1ZNI at 300 K for 1 ns was successfully completed. The simulation parameters were adjusted to use a CutoffPeriodic nonbonded method with a 1.2 nm cutoff, and the Langevin integrator was set with a timestep of 0.002 picoseconds. The simulation produced a trajectory file, a state log, and PDB frames, which were used to calculate the root mean square deviation (RMSD). The RMSD was calculated to assess structural deviations over the course of the simulation, providing insights into the protein's stability and conformational changes. The RMSD results were saved to a CSV file and visualized in a plot, indicating the dynamic behavior of the protein during the simulation."
     ]
    }
   ],
   "source": [
    "prompt = 'Simulate protein 1ZNI at 300 K for 1 ns and calculate the RMSD.'\n",
    "answer = mda.run(prompt)"
   ]
  },
  {
   "cell_type": "code",
   "execution_count": 6,
   "id": "81d4d4a1-091e-49db-8272-33c2a11a984b",
   "metadata": {},
   "outputs": [
    {
     "name": "stdout",
     "output_type": "stream",
     "text": [
      "duration: 614.42 minutes\n"
     ]
    }
   ],
   "source": [
    "end = datetime.datetime.now()\n",
    "elapsed = end - start\n",
    "print(f\"duration: {elapsed.total_seconds()/60:.2f} minutes\")"
   ]
  },
  {
   "cell_type": "markdown",
   "id": "1aab27b9-d320-46b3-805b-b953040b11e2",
   "metadata": {},
   "source": [
    "# Confirm the files were downloaded/made and check the plots"
   ]
  },
  {
   "cell_type": "code",
   "execution_count": 7,
   "id": "0ba860e5-1dd0-4fcc-aa2f-d5e7f975cbae",
   "metadata": {},
   "outputs": [
    {
     "name": "stdout",
     "output_type": "stream",
     "text": [
      "Names found in registry: 1ZNI_103614, 1ZNI_103634, top_sim0_103647, top_sim0_110355, sim0_110355, rec0_110407, rec1_110407, rec2_110407, rmsd_110355, fig0_205013\n"
     ]
    }
   ],
   "source": [
    "registry = mda.path_registry\n",
    "all_names = registry.list_path_names()\n",
    "print(all_names)"
   ]
  },
  {
   "cell_type": "code",
   "execution_count": 8,
   "id": "4b9220de-6a3c-4db9-8768-68298ece63a6",
   "metadata": {},
   "outputs": [],
   "source": [
    "# ensure all files are in path registry\n",
    "assert all(n in all_names for n in ['1ZNI', 'rmsd', 'sim0', 'top_sim0', 'fig0']), \"Not all file ids are present in path registry\""
   ]
  },
  {
   "cell_type": "code",
   "execution_count": 9,
   "id": "ac6db7f4-0d84-4716-a04d-0ccdab56a36f",
   "metadata": {},
   "outputs": [],
   "source": [
    "# let's see if we can't grab the plot\n",
    "import re\n",
    "import os\n",
    "match = re.search(r\"fig0_\\d+\", all_names)\n",
    "plot_path = registry.get_mapped_path(match.group(0))\n",
    "assert os.path.exists(plot_path)"
   ]
  },
  {
   "cell_type": "code",
   "execution_count": 10,
   "id": "bcb1817a-5a06-4e4b-b176-f4c811756acf",
   "metadata": {},
   "outputs": [
    {
     "data": {
      "image/png": "[encoded data removed]",
      "text/plain": [
       "<IPython.core.display.Image object>"
      ]
     },
     "execution_count": 10,
     "metadata": {},
     "output_type": "execute_result"
    }
   ],
   "source": [
    "from IPython.display import Image\n",
    "\n",
    "Image(filename=plot_path)"
   ]
  },
  {
   "attachments": {},
   "cell_type": "markdown",
   "id": "790b786b-95e1-4359-a76b-55c20b4cb261",
   "metadata": {
    "jp-MarkdownHeadingCollapsed": true
   },
   "source": [
    "# Experiment Result:\n",
    "\n",
    "1. Completed without Exception or TimeOut Errors ✅\n",
    "2. Attempted all necessary steps ✅\n",
    "3. No hallucination ✅\n",
    "4. Logic make sense ✅\n",
    "5. Correct Answer ✅\n",
    "6. Number of steps completed: 3\n",
    "7. % steps completed: 100️%"
   ]
  },
  {
   "cell_type": "markdown",
   "id": "ca0971c1",
   "metadata": {},
   "source": []
  }
 ],
 "metadata": {
  "kernelspec": {
   "display_name": "mdcrow2",
   "language": "python",
   "name": "python3"
  },
  "language_info": {
   "codemirror_mode": {
    "name": "ipython",
    "version": 3
   },
   "file_extension": ".py",
   "mimetype": "text/x-python",
   "name": "python",
   "nbconvert_exporter": "python",
   "pygments_lexer": "ipython3",
   "version": "3.11.9"
  }
 },
 "nbformat": 4,
 "nbformat_minor": 5
}
