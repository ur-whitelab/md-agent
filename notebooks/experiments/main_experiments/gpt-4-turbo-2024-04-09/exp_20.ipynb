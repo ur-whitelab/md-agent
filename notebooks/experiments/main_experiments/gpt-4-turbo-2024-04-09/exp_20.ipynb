{
 "cells": [
  {
   "cell_type": "code",
   "execution_count": 1,
   "metadata": {},
   "outputs": [],
   "source": [
    "import datetime\n",
    "import os\n",
    "from mdcrow import MDCrow"
   ]
  },
  {
   "cell_type": "code",
   "execution_count": 2,
   "metadata": {},
   "outputs": [
    {
     "name": "stdout",
     "output_type": "stream",
     "text": [
      "date and time: 2024-09-09\n",
      "time: 10:59:02\n",
      "LLM:  gpt-4-turbo-2024-04-09 \n",
      "Temperature:  0.1\n"
     ]
    }
   ],
   "source": [
    "prompt20 = \"Download protein 1ATN.\"\n",
    "llm_var = \"gpt-4-turbo-2024-04-09\"\n",
    "tools = \"all\"\n",
    "agent = MDCrow(agent_type=\"Structured\", model=llm_var, top_k_tools=tools)\n",
    "now = datetime.datetime.now()\n",
    "date = now.strftime(\"%Y-%m-%d\")\n",
    "print(\"date and time:\",date)\n",
    "time = now.strftime(\"%H:%M:%S\")\n",
    "print(\"time:\",time)\n",
    "print(\"LLM: \",agent.llm.model_name,\"\\nTemperature: \",agent.llm.temperature)"
   ]
  },
  {
   "cell_type": "code",
   "execution_count": 3,
   "metadata": {},
   "outputs": [
    {
     "name": "stdout",
     "output_type": "stream",
     "text": [
      "Action:\n",
      "```json\n",
      "{\n",
      "  \"action\": \"PDBFileDownloader\",\n",
      "  \"action_input\": {\n",
      "    \"query\": \"1ATN\"\n",
      "  }\n",
      "}\n",
      "```PDB file found with this ID: 1ATN\n",
      "Final Answer: The protein with PDB ID 1ATN has been successfully downloaded and is available under the file ID: 1ATN_105907."
     ]
    },
    {
     "data": {
      "text/plain": [
       "({'input': '\\n    You are an expert molecular dynamics scientist, and\\n    your task is to respond to the question or\\n    solve the problem to the best of your ability using\\n    the provided tools.\\n\\n    You can only respond with a single complete\\n    \\'Thought, Action, Action Input\\' format\\n    OR a single \\'Final Answer\\' format.\\n\\n    Complete format:\\n    Thought: (reflect on your progress and decide what to do next)\\n    Action:\\n    ```\\n    {\\n        \"action\": (the action name, it should be the name of a tool),\\n        \"action_input\": (the input string for the action)\\n    }\\n    \\'\\'\\'\\n\\n    OR\\n\\n    Final Answer: (the final response to the original input\\n    question, once all steps are complete)\\n\\n    You are required to use the tools provided,\\n    using the most specific tool\\n    available for each action.\\n    Your final answer should contain all information\\n    necessary to answer the question and its subquestions.\\n    Before you finish, reflect on your progress and make\\n    sure you have addressed the question in its entirety.\\n\\n    If you are asked to continue\\n    or reference previous runs,\\n    the context will be provided to you.\\n    If context is provided, you should assume\\n    you are continuing a chat.\\n\\n    Here is the input:\\n    Previous Context: None\\n    Question: Download protein 1ATN. ',\n",
       "  'output': 'Final Answer: The protein with PDB ID 1ATN has been successfully downloaded and is available under the file ID: 1ATN_105907.'},\n",
       " 'DVEESVG6')"
      ]
     },
     "execution_count": 3,
     "metadata": {},
     "output_type": "execute_result"
    }
   ],
   "source": [
    "agent.run(prompt20)"
   ]
  },
  {
   "cell_type": "code",
   "execution_count": 4,
   "metadata": {},
   "outputs": [
    {
     "name": "stdout",
     "output_type": "stream",
     "text": [
      "date and time: 2024-09-09\n",
      "time: 10:59:12\n",
      "Files found in registry: 1ATN_105907: PDB file downloaded from RSCB\n",
      " PDBFile ID: 1ATN_105907\n"
     ]
    }
   ],
   "source": [
    "now = datetime.datetime.now()\n",
    "date = now.strftime(\"%Y-%m-%d\")\n",
    "print(\"date and time:\",date)\n",
    "time = now.strftime(\"%H:%M:%S\")\n",
    "print(\"time:\",time)\n",
    "registry = agent.path_registry\n",
    "paths_and_descriptions = registry.list_path_names_and_descriptions()\n",
    "print(\"\\n\".join(paths_and_descriptions.split(\",\")))"
   ]
  },
  {
   "cell_type": "code",
   "execution_count": 6,
   "metadata": {},
   "outputs": [],
   "source": [
    "path = registry.get_mapped_path(\"1ATN_105907\")\n",
    "assert os.path.exists(path)"
   ]
  },
  {
   "cell_type": "markdown",
   "metadata": {},
   "source": [
    "# Experiment Result:\n",
    "### Completed without Exception or TimeOut Errors ✅\n",
    "### Attempted all necessary steps ✅\n",
    "### No Hallucination ✅\n",
    "### Logic make sense ✅\n",
    "### Correct Answer  ✅\n",
    "### Number of steps completed: 1️⃣\n",
    "### % steps completed: 1️⃣0️⃣0️⃣%"
   ]
  },
  {
   "cell_type": "markdown",
   "metadata": {},
   "source": []
  }
 ],
 "metadata": {
  "kernelspec": {
   "display_name": "mdcrow2",
   "language": "python",
   "name": "python3"
  },
  "language_info": {
   "codemirror_mode": {
    "name": "ipython",
    "version": 3
   },
   "file_extension": ".py",
   "mimetype": "text/x-python",
   "name": "python",
   "nbconvert_exporter": "python",
   "pygments_lexer": "ipython3",
   "version": "3.11.9"
  }
 },
 "nbformat": 4,
 "nbformat_minor": 4
}
