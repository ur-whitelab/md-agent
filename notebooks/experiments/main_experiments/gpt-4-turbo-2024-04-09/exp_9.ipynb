{
 "cells": [
  {
   "cell_type": "code",
   "execution_count": 1,
   "id": "39451d99-005f-40b2-867e-fb955d63647d",
   "metadata": {},
   "outputs": [],
   "source": [
    "from mdcrow import MDCrow"
   ]
  },
  {
   "cell_type": "code",
   "execution_count": 2,
   "id": "d808d0af-27f5-4e95-87bf-beb2d72c9108",
   "metadata": {},
   "outputs": [
    {
     "name": "stdout",
     "output_type": "stream",
     "text": [
      "date: 2024-09-09\n",
      "time: 10:34:42\n"
     ]
    }
   ],
   "source": [
    "#todays date and time\n",
    "import datetime\n",
    "\n",
    "start = datetime.datetime.now()\n",
    "date = start.strftime(\"%Y-%m-%d\")\n",
    "print(\"date:\",date)\n",
    "time = start.strftime(\"%H:%M:%S\")\n",
    "print(\"time:\",time)"
   ]
  },
  {
   "cell_type": "code",
   "execution_count": 3,
   "id": "82be5f35-3197-49c7-9955-6707529f8691",
   "metadata": {},
   "outputs": [],
   "source": [
    "prompt = 'Download the PDB file for 1AEE. Then tell me how many chains and atoms are present in the protein.'\n",
    "model='gpt-4-turbo-2024-04-09'"
   ]
  },
  {
   "cell_type": "code",
   "execution_count": 4,
   "id": "4b12fdc0-25be-4835-9e70-b3ea299bac9d",
   "metadata": {},
   "outputs": [
    {
     "name": "stdout",
     "output_type": "stream",
     "text": [
      "LLM:  gpt-4-turbo-2024-04-09 \n",
      "Temperature:  0.1\n"
     ]
    }
   ],
   "source": [
    "mda = MDCrow(\n",
    "    agent_type='Structured', \n",
    "    model=model, \n",
    "    tools_model=model,\n",
    "    use_memory=False, \n",
    "    top_k_tools=\"all\"\n",
    ")\n",
    "\n",
    "print(\"LLM: \", mda.llm.model_name,\"\\nTemperature: \", mda.llm.temperature)"
   ]
  },
  {
   "cell_type": "code",
   "execution_count": 5,
   "id": "fe11721e-c775-40d3-9332-9f80820ccc95",
   "metadata": {},
   "outputs": [
    {
     "name": "stdout",
     "output_type": "stream",
     "text": [
      "Thought: The task requires downloading the PDB file for the protein with the identifier \"1AEE\" and then analyzing it to determine the number of chains and atoms present. I will start by downloading the PDB file using the appropriate tool.\n",
      "\n",
      "Action:\n",
      "```json\n",
      "{\n",
      "    \"action\": \"PDBFileDownloader\",\n",
      "    \"action_input\": {\n",
      "        \"query\": \"1AEE\"\n",
      "    }\n",
      "}\n",
      "```PDB file found with this ID: 1AEE\n",
      "Now that the PDB file for 1AEE has been successfully downloaded, the next step is to analyze the file to determine the number of chains and atoms present in the protein. I will use the SummarizeProteinStructure tool to extract this information from the downloaded PDB file.\n",
      "\n",
      "Action:\n",
      "```json\n",
      "{\n",
      "    \"action\": \"SummarizeProteinStructure\",\n",
      "    \"action_input\": {\n",
      "        \"traj_file\": \"1AEE_103448\"\n",
      "    }\n",
      "}\n",
      "```Final Answer: The PDB file for the protein with the identifier \"1AEE\" contains 2 chains and 2992 atoms."
     ]
    }
   ],
   "source": [
    "answer = mda.run(prompt)"
   ]
  },
  {
   "cell_type": "code",
   "execution_count": 6,
   "id": "81d4d4a1-091e-49db-8272-33c2a11a984b",
   "metadata": {},
   "outputs": [
    {
     "name": "stdout",
     "output_type": "stream",
     "text": [
      "duration: 0.26 minutes\n"
     ]
    }
   ],
   "source": [
    "end = datetime.datetime.now()\n",
    "elapsed = end - start\n",
    "print(f\"duration: {elapsed.total_seconds()/60:.2f} minutes\")"
   ]
  },
  {
   "cell_type": "markdown",
   "id": "1aab27b9-d320-46b3-805b-b953040b11e2",
   "metadata": {},
   "source": [
    "# Confirm that the file was downloaded and the counts were correct"
   ]
  },
  {
   "cell_type": "code",
   "execution_count": 7,
   "id": "0ba860e5-1dd0-4fcc-aa2f-d5e7f975cbae",
   "metadata": {},
   "outputs": [
    {
     "name": "stdout",
     "output_type": "stream",
     "text": [
      "['/Users/jorgemedina/Desktop/md-agent/ckpt/ckpt_324/pdb/1AEE_raw_20240909_103448.pdb']\n"
     ]
    }
   ],
   "source": [
    "registry = mda.path_registry\n",
    "all_paths = registry._list_all_paths()\n",
    "print(all_paths)"
   ]
  },
  {
   "cell_type": "code",
   "execution_count": 9,
   "id": "4b9220de-6a3c-4db9-8768-68298ece63a6",
   "metadata": {},
   "outputs": [
    {
     "name": "stdout",
     "output_type": "stream",
     "text": [
      "It is asserted that 1AEE pdb is in path_registry and this file exists.\n"
     ]
    }
   ],
   "source": [
    "import re\n",
    "import os\n",
    "pattern = re.compile(r\"1AEE.*\\.pdb\")\n",
    "assert len(all_paths) > 0, \"Nothing is downloaded\"\n",
    "assert pattern.search(all_paths[0]), \"IAEE is not in path registry\"\n",
    "assert os.path.exists(all_paths[0]), \"This 1AEE pdb file doesn't physically exist\"\n",
    "print('It is asserted that 1AEE pdb is in path_registry and this file exists.')"
   ]
  },
  {
   "cell_type": "code",
   "execution_count": 8,
   "id": "ac6db7f4-0d84-4716-a04d-0ccdab56a36f",
   "metadata": {},
   "outputs": [
    {
     "name": "stdout",
     "output_type": "stream",
     "text": [
      "Number of chains:  2\n",
      "Number of atoms:  2992\n"
     ]
    }
   ],
   "source": [
    "import mdtraj as md\n",
    "traj = md.load(all_paths[0])\n",
    "top = traj.topology\n",
    "number_of_chains = top.n_chains\n",
    "number_of_atoms = top.n_atoms\n",
    "print('Number of chains: ', number_of_chains)\n",
    "print('Number of atoms: ', number_of_atoms)"
   ]
  },
  {
   "attachments": {},
   "cell_type": "markdown",
   "id": "790b786b-95e1-4359-a76b-55c20b4cb261",
   "metadata": {},
   "source": [
    "# Experiment Result:\n",
    "\n",
    "1. Completed without Exception or TimeOut Errors ✅\n",
    "2. Attempted all necessary steps ✅\n",
    "3. No hallucination ✅\n",
    "4. Logic make sense ✅\n",
    "5. Correct Answer ✅\n",
    "6. Number of steps completed: 2\n",
    "7. % steps completed: 100%"
   ]
  },
  {
   "cell_type": "markdown",
   "id": "77c9dc1f",
   "metadata": {},
   "source": []
  }
 ],
 "metadata": {
  "kernelspec": {
   "display_name": "mdcrow2",
   "language": "python",
   "name": "python3"
  },
  "language_info": {
   "codemirror_mode": {
    "name": "ipython",
    "version": 3
   },
   "file_extension": ".py",
   "mimetype": "text/x-python",
   "name": "python",
   "nbconvert_exporter": "python",
   "pygments_lexer": "ipython3",
   "version": "3.11.9"
  }
 },
 "nbformat": 4,
 "nbformat_minor": 5
}
