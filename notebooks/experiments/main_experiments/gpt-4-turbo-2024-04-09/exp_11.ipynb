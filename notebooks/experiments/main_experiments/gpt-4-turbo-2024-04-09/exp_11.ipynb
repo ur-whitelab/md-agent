{
 "cells": [
  {
   "cell_type": "code",
   "execution_count": 1,
   "id": "8ff706fd-c267-4d05-af58-9a3848cce8ff",
   "metadata": {},
   "outputs": [],
   "source": [
    "from mdcrow import MDCrow"
   ]
  },
  {
   "cell_type": "code",
   "execution_count": 2,
   "id": "c86c88a1-f5f8-473a-8342-7364252bcfba",
   "metadata": {},
   "outputs": [
    {
     "name": "stdout",
     "output_type": "stream",
     "text": [
      "date: 2024-09-09\n",
      "time: 10:37:20\n"
     ]
    }
   ],
   "source": [
    "#todays date and time\n",
    "import datetime\n",
    "\n",
    "start = datetime.datetime.now()\n",
    "date = start.strftime(\"%Y-%m-%d\")\n",
    "print(\"date:\",date)\n",
    "time = start.strftime(\"%H:%M:%S\")\n",
    "print(\"time:\",time)"
   ]
  },
  {
   "cell_type": "code",
   "execution_count": 3,
   "id": "f62bfc17-854b-4152-bb82-7e9e0ec4b854",
   "metadata": {},
   "outputs": [
    {
     "name": "stdout",
     "output_type": "stream",
     "text": [
      "LLM:  gpt-4-turbo-2024-04-09 \n",
      "Temperature:  0.1\n"
     ]
    }
   ],
   "source": [
    "model='gpt-4-turbo-2024-04-09'\n",
    "mda = MDCrow(\n",
    "    agent_type='Structured', \n",
    "    model=model, \n",
    "    tools_model=model,\n",
    "    use_memory=False, \n",
    "    top_k_tools=\"all\"\n",
    ")\n",
    "print(\"LLM: \", mda.llm.model_name,\"\\nTemperature: \", mda.llm.temperature)"
   ]
  },
  {
   "cell_type": "code",
   "execution_count": 4,
   "id": "ad2f6f66-e6b8-4244-b908-68fbebbf6e8b",
   "metadata": {},
   "outputs": [
    {
     "name": "stdout",
     "output_type": "stream",
     "text": [
      "Thought: To address the question, I need to first download the PDB files for the proteins 8PFK and 8PFQ. After obtaining these files, I will analyze their secondary structures and other requested properties.\n",
      "\n",
      "Action:\n",
      "```json\n",
      "{\n",
      "    \"action\": \"PDBFileDownloader\",\n",
      "    \"action_input\": {\n",
      "        \"query\": \"8PFK\"\n",
      "    }\n",
      "}\n",
      "```PDB file found with this ID: 8PFK\n",
      "Now that I have the PDB file for 8PFK, I need to download the PDB file for 8PFQ to proceed with the comparison of their secondary structures and other properties.\n",
      "\n",
      "Action:\n",
      "```json\n",
      "{\n",
      "    \"action\": \"PDBFileDownloader\",\n",
      "    \"action_input\": {\n",
      "        \"query\": \"8PFQ\"\n",
      "    }\n",
      "}\n",
      "```PDB file found with this ID: 8PFQ\n",
      "Now that I have the PDB files for both 8PFK and 8PFQ, I will proceed to analyze their secondary structures and summarize their properties such as the number of atoms, secondary structures, number of chains, etc. I will use the SummarizeProteinStructure tool for both PDB files.\n",
      "\n",
      "Action:\n",
      "```json\n",
      "{\n",
      "    \"action\": \"SummarizeProteinStructure\",\n",
      "    \"action_input\": {\n",
      "        \"traj_file\": \"8PFK_103726\"\n",
      "    }\n",
      "}\n",
      "```I have summarized the properties of the protein 8PFK. Next, I need to summarize the properties of the protein 8PFQ to compare their secondary structures and other properties.\n",
      "\n",
      "Action:\n",
      "```json\n",
      "{\n",
      "    \"action\": \"SummarizeProteinStructure\",\n",
      "    \"action_input\": {\n",
      "        \"traj_file\": \"8PFQ_103730\"\n",
      "    }\n",
      "}\n",
      "```I have summarized the properties of both proteins 8PFK and 8PFQ. The next step is to compare their secondary structures using the ComputeDSSP tool for both proteins.\n",
      "\n",
      "Action:\n",
      "```json\n",
      "{\n",
      "    \"action\": \"ComputeDSSP\",\n",
      "    \"action_input\": {\n",
      "        \"traj_file\": \"8PFK_103726\",\n",
      "        \"target_frames\": \"all\"\n",
      "    }\n",
      "}\n",
      "```The secondary structure analysis for 8PFK indicates that there are no residues in helices or strands, and all residues are either in coils or not assigned as protein residues. This suggests a lack of typical secondary structure elements or an error in the analysis. I will now perform the secondary structure analysis for 8PFQ to complete the comparison.\n",
      "\n",
      "Action:\n",
      "```json\n",
      "{\n",
      "    \"action\": \"ComputeDSSP\",\n",
      "    \"action_input\": {\n",
      "        \"traj_file\": \"8PFQ_103730\",\n",
      "        \"target_frames\": \"all\"\n",
      "    }\n",
      "}\n",
      "```The secondary structure analysis for 8PFQ also indicates that there are no residues in helices or strands, and all residues are either in coils or not assigned as protein residues. This suggests a lack of typical secondary structure elements or an error in the analysis for both proteins. Given the results, it appears that both 8PFK and 8PFQ may not have typical secondary structures or there might be an issue with the analysis or the protein models themselves.\n",
      "\n",
      "Final Answer: The PDB files for proteins 8PFK and 8PFQ were successfully downloaded and analyzed. The summary of their properties is as follows:\n",
      "- **8PFK**: 487 atoms, 109 residues, 2 chains, 1 frame, 420 bonds. The secondary structure analysis revealed no helices or strands, with all residues either in coils or not assigned as protein residues.\n",
      "- **8PFQ**: 950 atoms, 194 residues, 6 chains, 1 frame, 833 bonds. Similar to 8PFK, the secondary structure analysis showed no helices or strands, with all residues either in coils or not assigned as protein residues.\n",
      "\n",
      "This comparison indicates that neither protein displays typical secondary structure elements according to the DSSP analysis, which could suggest an issue with the protein models or the analysis method. Further investigation might be needed to confirm these findings or to correct any potential errors in the protein models or analysis tools."
     ]
    }
   ],
   "source": [
    "prompt = 'Download the PDB files for 8PFK and 8PFQ. Then, compare the secondary structures of the two proteins, including the number of atoms, secondary structures, number of chains, etc.'\n",
    "answer = mda.run(prompt)"
   ]
  },
  {
   "cell_type": "code",
   "execution_count": 5,
   "id": "d23fbcab-9ceb-46d5-ad3b-d6cf6687d1e4",
   "metadata": {},
   "outputs": [
    {
     "name": "stdout",
     "output_type": "stream",
     "text": [
      "duration: 0.75 minutes\n"
     ]
    }
   ],
   "source": [
    "end = datetime.datetime.now()\n",
    "elapsed = end - start\n",
    "print(f\"duration: {elapsed.total_seconds()/60:.2f} minutes\")"
   ]
  },
  {
   "cell_type": "markdown",
   "id": "da5ba7ae-a3e7-4eec-b869-a884948231c4",
   "metadata": {},
   "source": [
    "# Confirm the downloaded files and their structures"
   ]
  },
  {
   "cell_type": "code",
   "execution_count": 6,
   "id": "5d1f0c85-88d6-4d2a-aae1-6a2d763f280d",
   "metadata": {},
   "outputs": [
    {
     "name": "stdout",
     "output_type": "stream",
     "text": [
      "Names found in registry: 8PFK_103726, 8PFQ_103730, rec0_103744, rec0_103750\n"
     ]
    }
   ],
   "source": [
    "registry = mda.path_registry\n",
    "all_names = registry.list_path_names()\n",
    "print(all_names)"
   ]
  },
  {
   "cell_type": "code",
   "execution_count": 7,
   "id": "6684abd0-efd9-4add-bf1b-abfe1f664dbe",
   "metadata": {},
   "outputs": [
    {
     "name": "stdout",
     "output_type": "stream",
     "text": [
      "It is asserted that 8PFK and 8PFQ are in path_registry\n",
      "It is asserted these pdb files physically exist\n"
     ]
    }
   ],
   "source": [
    "import re\n",
    "import os\n",
    "pattern1 = re.compile(r\"8PFK_\\d+\")\n",
    "pattern2 = re.compile(r\"8PFQ_\\d+\")\n",
    "match1 = pattern1.search(all_names)\n",
    "match2 = pattern2.search(all_names)\n",
    "assert match1\n",
    "assert match2\n",
    "print('It is asserted that 8PFK and 8PFQ are in path_registry')\n",
    "path1 = registry.get_mapped_path(match1.group(0))\n",
    "path2 = registry.get_mapped_path(match2.group(0))\n",
    "assert os.path.exists(path1)\n",
    "assert os.path.exists(path2)\n",
    "print('It is asserted these pdb files physically exist')"
   ]
  },
  {
   "cell_type": "code",
   "execution_count": 8,
   "id": "aeedf6a8-8773-4402-81c9-81dea40844d6",
   "metadata": {},
   "outputs": [
    {
     "name": "stdout",
     "output_type": "stream",
     "text": [
      "protein 8PFK\n",
      "Number of chains:  2\n",
      "Number of atoms:  487\n",
      "\n",
      "protein 8PFQ\n",
      "Number of chains:  6\n",
      "Number of atoms:  950\n"
     ]
    }
   ],
   "source": [
    "import mdtraj as md\n",
    "traj = md.load(path1)\n",
    "top = traj.topology\n",
    "number_of_chains = top.n_chains\n",
    "number_of_atoms = top.n_atoms\n",
    "print('protein 8PFK')\n",
    "print('Number of chains: ', number_of_chains)\n",
    "print('Number of atoms: ', number_of_atoms)\n",
    "traj = md.load(path2)\n",
    "top = traj.topology\n",
    "number_of_chains = top.n_chains\n",
    "number_of_atoms = top.n_atoms\n",
    "print('\\nprotein 8PFQ')\n",
    "print('Number of chains: ', number_of_chains)\n",
    "print('Number of atoms: ', number_of_atoms)"
   ]
  },
  {
   "cell_type": "markdown",
   "id": "a8bcb320-b57c-4f53-8d77-f6bc500b55a5",
   "metadata": {},
   "source": [
    "# Experiment Result:\n",
    "\n",
    "1. Completed without Exception or TimeOut Errors ✅\n",
    "2. Attempted all necessary steps ✅\n",
    "3. No hallucination ✅\n",
    "4. Logic make sense ✅\n",
    "5. Correct Answer ✅\n",
    "6. Number of steps completed: 4\n",
    "7. % steps completed: 100️%"
   ]
  },
  {
   "cell_type": "markdown",
   "id": "28356a9b",
   "metadata": {},
   "source": []
  }
 ],
 "metadata": {
  "kernelspec": {
   "display_name": "mdcrow2",
   "language": "python",
   "name": "python3"
  },
  "language_info": {
   "codemirror_mode": {
    "name": "ipython",
    "version": 3
   },
   "file_extension": ".py",
   "mimetype": "text/x-python",
   "name": "python",
   "nbconvert_exporter": "python",
   "pygments_lexer": "ipython3",
   "version": "3.11.9"
  }
 },
 "nbformat": 4,
 "nbformat_minor": 5
}
