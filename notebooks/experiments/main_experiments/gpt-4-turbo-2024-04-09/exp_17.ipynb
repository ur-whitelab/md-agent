{
 "cells": [
  {
   "cell_type": "code",
   "execution_count": 1,
   "id": "39451d99-005f-40b2-867e-fb955d63647d",
   "metadata": {},
   "outputs": [],
   "source": [
    "from mdcrow import MDCrow"
   ]
  },
  {
   "cell_type": "code",
   "execution_count": 2,
   "id": "d808d0af-27f5-4e95-87bf-beb2d72c9108",
   "metadata": {},
   "outputs": [
    {
     "name": "stdout",
     "output_type": "stream",
     "text": [
      "date: 2024-09-09\n",
      "time: 10:53:49\n"
     ]
    }
   ],
   "source": [
    "#todays date and time\n",
    "import datetime\n",
    "\n",
    "start = datetime.datetime.now()\n",
    "date = start.strftime(\"%Y-%m-%d\")\n",
    "print(\"date:\",date)\n",
    "time = start.strftime(\"%H:%M:%S\")\n",
    "print(\"time:\",time)"
   ]
  },
  {
   "cell_type": "code",
   "execution_count": 3,
   "id": "82be5f35-3197-49c7-9955-6707529f8691",
   "metadata": {},
   "outputs": [],
   "source": [
    "model='gpt-4-turbo-2024-04-09'"
   ]
  },
  {
   "cell_type": "code",
   "execution_count": 4,
   "id": "4b12fdc0-25be-4835-9e70-b3ea299bac9d",
   "metadata": {},
   "outputs": [
    {
     "name": "stdout",
     "output_type": "stream",
     "text": [
      "LLM:  gpt-4-turbo-2024-04-09 \n",
      "Temperature:  0.1\n"
     ]
    }
   ],
   "source": [
    "mda = MDCrow(\n",
    "    agent_type='Structured', \n",
    "    model=model, \n",
    "    tools_model=model,\n",
    "    use_memory=False, \n",
    "    top_k_tools=\"all\"\n",
    ")\n",
    "\n",
    "print(\"LLM: \", mda.llm.model_name,\"\\nTemperature: \", mda.llm.temperature)"
   ]
  },
  {
   "cell_type": "code",
   "execution_count": 5,
   "id": "fe11721e-c775-40d3-9332-9f80820ccc95",
   "metadata": {},
   "outputs": [
    {
     "name": "stdout",
     "output_type": "stream",
     "text": [
      "Thought: To address the request, I need to first download the PDB file for the protein with the identifier \"1XQ8\". After downloading the file, I will then proceed to create a visualization of it.\n",
      "\n",
      "Action:\n",
      "```json\n",
      "{\n",
      "    \"action\": \"PDBFileDownloader\",\n",
      "    \"action_input\": {\n",
      "        \"query\": \"1XQ8\"\n",
      "    }\n",
      "}\n",
      "```PDB file found with this ID: 1XQ8\n",
      "Now that the PDB file for 1XQ8 has been successfully downloaded, the next step is to create a visualization of this file. I will use the PDBVisualization tool to generate a visualization and save it as a PNG file.\n",
      "\n",
      "Action:\n",
      "```json\n",
      "{\n",
      "    \"action\": \"PDBVisualization\",\n",
      "    \"action_input\": {\n",
      "        \"cif_file_name\": \"1XQ8_105355\"\n",
      "    }\n",
      "}\n",
      "```Error running molrender: [Errno 2] No such file or directory: 'molrender'. Using NGLView instead.\n",
      "Final Answer: The PDB file for the protein with the identifier \"1XQ8\" has been successfully downloaded and visualized. The visualization has been created and saved as a notebook, which allows for interactive exploration of the protein structure."
     ]
    }
   ],
   "source": [
    "prompt = 'Download the PDB file for 1XQ8, and then save the visualization for it.'\n",
    "answer = mda.run(prompt)"
   ]
  },
  {
   "cell_type": "code",
   "execution_count": 6,
   "id": "81d4d4a1-091e-49db-8272-33c2a11a984b",
   "metadata": {},
   "outputs": [
    {
     "name": "stdout",
     "output_type": "stream",
     "text": [
      "duration: 0.24 minutes\n"
     ]
    }
   ],
   "source": [
    "end = datetime.datetime.now()\n",
    "elapsed = end - start\n",
    "print(f\"duration: {elapsed.total_seconds()/60:.2f} minutes\")"
   ]
  },
  {
   "cell_type": "markdown",
   "id": "1aab27b9-d320-46b3-805b-b953040b11e2",
   "metadata": {},
   "source": [
    "# Confirm the files were downloaded/made and check the visualization"
   ]
  },
  {
   "cell_type": "code",
   "execution_count": 7,
   "id": "0ba860e5-1dd0-4fcc-aa2f-d5e7f975cbae",
   "metadata": {},
   "outputs": [
    {
     "name": "stdout",
     "output_type": "stream",
     "text": [
      "Names found in registry: 1XQ8_105355, /Users/jorgemedina/Desktop/md-agent/ckpt/ckpt_330/figures/1XQ8_raw_20240909_105355_vis.ipynb\n"
     ]
    }
   ],
   "source": [
    "registry = mda.path_registry\n",
    "all_names = registry.list_path_names()\n",
    "print(all_names)"
   ]
  },
  {
   "cell_type": "code",
   "execution_count": null,
   "id": "4b9220de-6a3c-4db9-8768-68298ece63a6",
   "metadata": {},
   "outputs": [],
   "source": [
    "# other verification code coming up"
   ]
  },
  {
   "attachments": {},
   "cell_type": "markdown",
   "id": "790b786b-95e1-4359-a76b-55c20b4cb261",
   "metadata": {
    "jp-MarkdownHeadingCollapsed": true
   },
   "source": [
    "# Experiment Result:\n",
    "\n",
    "1. Completed without Exception or TimeOut Errors ✅\n",
    "2. Attempted all necessary steps ✅\n",
    "3. No hallucination ✅\n",
    "4. Logic make sense ✅\n",
    "5. Correct Answer ✅\n",
    "6. Number of steps completed: 2\n",
    "7. % steps completed:100️%"
   ]
  },
  {
   "cell_type": "markdown",
   "id": "19683a30",
   "metadata": {},
   "source": []
  }
 ],
 "metadata": {
  "kernelspec": {
   "display_name": "mdcrow2",
   "language": "python",
   "name": "python3"
  },
  "language_info": {
   "codemirror_mode": {
    "name": "ipython",
    "version": 3
   },
   "file_extension": ".py",
   "mimetype": "text/x-python",
   "name": "python",
   "nbconvert_exporter": "python",
   "pygments_lexer": "ipython3",
   "version": "3.11.9"
  }
 },
 "nbformat": 4,
 "nbformat_minor": 5
}
