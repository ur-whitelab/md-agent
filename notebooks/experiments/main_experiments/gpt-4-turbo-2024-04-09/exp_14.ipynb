{
 "cells": [
  {
   "cell_type": "code",
   "execution_count": 1,
   "id": "a87b1eba",
   "metadata": {
    "execution": {
     "iopub.execute_input": "2024-10-09T01:07:29.007558Z",
     "iopub.status.busy": "2024-10-09T01:07:29.007217Z",
     "iopub.status.idle": "2024-10-09T01:07:37.423504Z",
     "shell.execute_reply": "2024-10-09T01:07:37.422695Z"
    },
    "papermill": {
     "duration": 8.425087,
     "end_time": "2024-10-09T01:07:37.426159",
     "exception": false,
     "start_time": "2024-10-09T01:07:29.001072",
     "status": "completed"
    },
    "tags": []
   },
   "outputs": [],
   "source": [
    "import datetime\n",
    "import os\n",
    "from mdcrow import MDCrow"
   ]
  },
  {
   "cell_type": "code",
   "execution_count": 3,
   "id": "b990566b",
   "metadata": {
    "execution": {
     "iopub.execute_input": "2024-10-09T01:07:37.454012Z",
     "iopub.status.busy": "2024-10-09T01:07:37.453687Z",
     "iopub.status.idle": "2024-10-09T01:07:37.494017Z",
     "shell.execute_reply": "2024-10-09T01:07:37.493175Z"
    },
    "papermill": {
     "duration": 0.047534,
     "end_time": "2024-10-09T01:07:37.496463",
     "exception": false,
     "start_time": "2024-10-09T01:07:37.448929",
     "status": "completed"
    },
    "tags": [
     "injected-parameters"
    ]
   },
   "outputs": [],
   "source": [
    "# Parameters\n",
    "llm_var = \"gpt-4-turbo-2024-04-09\"\n"
   ]
  },
  {
   "cell_type": "code",
   "execution_count": 4,
   "id": "9734a2e2-55e1-4990-a041-8a56d5886211",
   "metadata": {
    "execution": {
     "iopub.execute_input": "2024-10-09T01:07:37.504526Z",
     "iopub.status.busy": "2024-10-09T01:07:37.504160Z",
     "iopub.status.idle": "2024-10-09T01:07:37.616500Z",
     "shell.execute_reply": "2024-10-09T01:07:37.615701Z"
    },
    "papermill": {
     "duration": 0.119209,
     "end_time": "2024-10-09T01:07:37.618865",
     "exception": false,
     "start_time": "2024-10-09T01:07:37.499656",
     "status": "completed"
    },
    "tags": []
   },
   "outputs": [
    {
     "name": "stdout",
     "output_type": "stream",
     "text": [
      "date and time: 2024-10-08\n",
      "time: 21:07:37\n",
      "LLM:  gpt-4-turbo-2024-04-09 \n",
      "Temperature:  0.1\n"
     ]
    }
   ],
   "source": [
    "prompt14 = \"Simulate deoxygenated hemoglobin (1A3N) and oxygenated hemoglobin (6BB5). Plot the PCA of both trajectories.\"\n",
    "tools = \"all\"\n",
    "agent = MDCrow(agent_type=\"Structured\", model=llm_var, top_k_tools=tools)\n",
    "now = datetime.datetime.now()\n",
    "date = now.strftime(\"%Y-%m-%d\")\n",
    "print(\"date and time:\",date)\n",
    "time = now.strftime(\"%H:%M:%S\")\n",
    "print(\"time:\",time)\n",
    "print(\"LLM: \",agent.llm.model_name,\"\\nTemperature: \",agent.llm.temperature)"
   ]
  },
  {
   "cell_type": "code",
   "execution_count": 5,
   "id": "1244189e",
   "metadata": {
    "execution": {
     "iopub.execute_input": "2024-10-09T01:07:37.627537Z",
     "iopub.status.busy": "2024-10-09T01:07:37.627209Z",
     "iopub.status.idle": "2024-10-09T01:10:03.335874Z",
     "shell.execute_reply": "2024-10-09T01:10:03.334805Z"
    },
    "papermill": {
     "duration": 145.715965,
     "end_time": "2024-10-09T01:10:03.338386",
     "exception": false,
     "start_time": "2024-10-09T01:07:37.622421",
     "status": "completed"
    },
    "scrolled": true,
    "tags": []
   },
   "outputs": [
    {
     "name": "stdout",
     "output_type": "stream",
     "text": [
      "Thought"
     ]
    },
    {
     "name": "stdout",
     "output_type": "stream",
     "text": [
      ":"
     ]
    },
    {
     "name": "stdout",
     "output_type": "stream",
     "text": [
      " To"
     ]
    },
    {
     "name": "stdout",
     "output_type": "stream",
     "text": [
      " simulate"
     ]
    },
    {
     "name": "stdout",
     "output_type": "stream",
     "text": [
      " de"
     ]
    },
    {
     "name": "stdout",
     "output_type": "stream",
     "text": [
      "o"
     ]
    },
    {
     "name": "stdout",
     "output_type": "stream",
     "text": [
      "xygen"
     ]
    },
    {
     "name": "stdout",
     "output_type": "stream",
     "text": [
      "ated"
     ]
    },
    {
     "name": "stdout",
     "output_type": "stream",
     "text": [
      " hem"
     ]
    },
    {
     "name": "stdout",
     "output_type": "stream",
     "text": [
      "oglobin"
     ]
    },
    {
     "name": "stdout",
     "output_type": "stream",
     "text": [
      " ("
     ]
    },
    {
     "name": "stdout",
     "output_type": "stream",
     "text": [
      "P"
     ]
    },
    {
     "name": "stdout",
     "output_type": "stream",
     "text": [
      "DB"
     ]
    },
    {
     "name": "stdout",
     "output_type": "stream",
     "text": [
      " ID"
     ]
    },
    {
     "name": "stdout",
     "output_type": "stream",
     "text": [
      ":"
     ]
    },
    {
     "name": "stdout",
     "output_type": "stream",
     "text": [
      " "
     ]
    },
    {
     "name": "stdout",
     "output_type": "stream",
     "text": [
      "1"
     ]
    },
    {
     "name": "stdout",
     "output_type": "stream",
     "text": [
      "A"
     ]
    },
    {
     "name": "stdout",
     "output_type": "stream",
     "text": [
      "3"
     ]
    },
    {
     "name": "stdout",
     "output_type": "stream",
     "text": [
      "N"
     ]
    },
    {
     "name": "stdout",
     "output_type": "stream",
     "text": [
      ")"
     ]
    },
    {
     "name": "stdout",
     "output_type": "stream",
     "text": [
      " and"
     ]
    },
    {
     "name": "stdout",
     "output_type": "stream",
     "text": [
      " oxygen"
     ]
    },
    {
     "name": "stdout",
     "output_type": "stream",
     "text": [
      "ated"
     ]
    },
    {
     "name": "stdout",
     "output_type": "stream",
     "text": [
      " hem"
     ]
    },
    {
     "name": "stdout",
     "output_type": "stream",
     "text": [
      "oglobin"
     ]
    },
    {
     "name": "stdout",
     "output_type": "stream",
     "text": [
      " ("
     ]
    },
    {
     "name": "stdout",
     "output_type": "stream",
     "text": [
      "P"
     ]
    },
    {
     "name": "stdout",
     "output_type": "stream",
     "text": [
      "DB"
     ]
    },
    {
     "name": "stdout",
     "output_type": "stream",
     "text": [
      " ID"
     ]
    },
    {
     "name": "stdout",
     "output_type": "stream",
     "text": [
      ":"
     ]
    },
    {
     "name": "stdout",
     "output_type": "stream",
     "text": [
      " "
     ]
    },
    {
     "name": "stdout",
     "output_type": "stream",
     "text": [
      "6"
     ]
    },
    {
     "name": "stdout",
     "output_type": "stream",
     "text": [
      "BB"
     ]
    },
    {
     "name": "stdout",
     "output_type": "stream",
     "text": [
      "5"
     ]
    },
    {
     "name": "stdout",
     "output_type": "stream",
     "text": [
      ")"
     ]
    },
    {
     "name": "stdout",
     "output_type": "stream",
     "text": [
      " and"
     ]
    },
    {
     "name": "stdout",
     "output_type": "stream",
     "text": [
      " plot"
     ]
    },
    {
     "name": "stdout",
     "output_type": "stream",
     "text": [
      " the"
     ]
    },
    {
     "name": "stdout",
     "output_type": "stream",
     "text": [
      " PCA"
     ]
    },
    {
     "name": "stdout",
     "output_type": "stream",
     "text": [
      " of"
     ]
    },
    {
     "name": "stdout",
     "output_type": "stream",
     "text": [
      " both"
     ]
    },
    {
     "name": "stdout",
     "output_type": "stream",
     "text": [
      " trajectories"
     ]
    },
    {
     "name": "stdout",
     "output_type": "stream",
     "text": [
      ","
     ]
    },
    {
     "name": "stdout",
     "output_type": "stream",
     "text": [
      " I"
     ]
    },
    {
     "name": "stdout",
     "output_type": "stream",
     "text": [
      " need"
     ]
    },
    {
     "name": "stdout",
     "output_type": "stream",
     "text": [
      " to"
     ]
    },
    {
     "name": "stdout",
     "output_type": "stream",
     "text": [
      " first"
     ]
    },
    {
     "name": "stdout",
     "output_type": "stream",
     "text": [
      " set"
     ]
    },
    {
     "name": "stdout",
     "output_type": "stream",
     "text": [
      " up"
     ]
    },
    {
     "name": "stdout",
     "output_type": "stream",
     "text": [
      " and"
     ]
    },
    {
     "name": "stdout",
     "output_type": "stream",
     "text": [
      " run"
     ]
    },
    {
     "name": "stdout",
     "output_type": "stream",
     "text": [
      " molecular"
     ]
    },
    {
     "name": "stdout",
     "output_type": "stream",
     "text": [
      " dynamics"
     ]
    },
    {
     "name": "stdout",
     "output_type": "stream",
     "text": [
      " simulations"
     ]
    },
    {
     "name": "stdout",
     "output_type": "stream",
     "text": [
      " for"
     ]
    },
    {
     "name": "stdout",
     "output_type": "stream",
     "text": [
      " both"
     ]
    },
    {
     "name": "stdout",
     "output_type": "stream",
     "text": [
      " structures"
     ]
    },
    {
     "name": "stdout",
     "output_type": "stream",
     "text": [
      "."
     ]
    },
    {
     "name": "stdout",
     "output_type": "stream",
     "text": [
      " After"
     ]
    },
    {
     "name": "stdout",
     "output_type": "stream",
     "text": [
      " obtaining"
     ]
    },
    {
     "name": "stdout",
     "output_type": "stream",
     "text": [
      " the"
     ]
    },
    {
     "name": "stdout",
     "output_type": "stream",
     "text": [
      " trajectories"
     ]
    },
    {
     "name": "stdout",
     "output_type": "stream",
     "text": [
      ","
     ]
    },
    {
     "name": "stdout",
     "output_type": "stream",
     "text": [
      " I"
     ]
    },
    {
     "name": "stdout",
     "output_type": "stream",
     "text": [
      " will"
     ]
    },
    {
     "name": "stdout",
     "output_type": "stream",
     "text": [
      " perform"
     ]
    },
    {
     "name": "stdout",
     "output_type": "stream",
     "text": [
      " PCA"
     ]
    },
    {
     "name": "stdout",
     "output_type": "stream",
     "text": [
      " analysis"
     ]
    },
    {
     "name": "stdout",
     "output_type": "stream",
     "text": [
      " on"
     ]
    },
    {
     "name": "stdout",
     "output_type": "stream",
     "text": [
      " them"
     ]
    },
    {
     "name": "stdout",
     "output_type": "stream",
     "text": [
      ".\n",
      "\n"
     ]
    },
    {
     "name": "stdout",
     "output_type": "stream",
     "text": [
      "Action"
     ]
    },
    {
     "name": "stdout",
     "output_type": "stream",
     "text": [
      ":\n"
     ]
    },
    {
     "name": "stdout",
     "output_type": "stream",
     "text": [
      "```"
     ]
    },
    {
     "name": "stdout",
     "output_type": "stream",
     "text": [
      "json"
     ]
    },
    {
     "name": "stdout",
     "output_type": "stream",
     "text": [
      "\n"
     ]
    },
    {
     "name": "stdout",
     "output_type": "stream",
     "text": [
      "{\n"
     ]
    },
    {
     "name": "stdout",
     "output_type": "stream",
     "text": [
      "   "
     ]
    },
    {
     "name": "stdout",
     "output_type": "stream",
     "text": [
      " \""
     ]
    },
    {
     "name": "stdout",
     "output_type": "stream",
     "text": [
      "action"
     ]
    },
    {
     "name": "stdout",
     "output_type": "stream",
     "text": [
      "\":"
     ]
    },
    {
     "name": "stdout",
     "output_type": "stream",
     "text": [
      " \""
     ]
    },
    {
     "name": "stdout",
     "output_type": "stream",
     "text": [
      "SetUp"
     ]
    },
    {
     "name": "stdout",
     "output_type": "stream",
     "text": [
      "and"
     ]
    },
    {
     "name": "stdout",
     "output_type": "stream",
     "text": [
      "Run"
     ]
    },
    {
     "name": "stdout",
     "output_type": "stream",
     "text": [
      "Function"
     ]
    },
    {
     "name": "stdout",
     "output_type": "stream",
     "text": [
      "\",\n"
     ]
    },
    {
     "name": "stdout",
     "output_type": "stream",
     "text": [
      "   "
     ]
    },
    {
     "name": "stdout",
     "output_type": "stream",
     "text": [
      " \""
     ]
    },
    {
     "name": "stdout",
     "output_type": "stream",
     "text": [
      "action"
     ]
    },
    {
     "name": "stdout",
     "output_type": "stream",
     "text": [
      "_input"
     ]
    },
    {
     "name": "stdout",
     "output_type": "stream",
     "text": [
      "\":"
     ]
    },
    {
     "name": "stdout",
     "output_type": "stream",
     "text": [
      " {\n"
     ]
    },
    {
     "name": "stdout",
     "output_type": "stream",
     "text": [
      "       "
     ]
    },
    {
     "name": "stdout",
     "output_type": "stream",
     "text": [
      " \""
     ]
    },
    {
     "name": "stdout",
     "output_type": "stream",
     "text": [
      "pdb"
     ]
    },
    {
     "name": "stdout",
     "output_type": "stream",
     "text": [
      "_id"
     ]
    },
    {
     "name": "stdout",
     "output_type": "stream",
     "text": [
      "\":"
     ]
    },
    {
     "name": "stdout",
     "output_type": "stream",
     "text": [
      " \""
     ]
    },
    {
     "name": "stdout",
     "output_type": "stream",
     "text": [
      "1"
     ]
    },
    {
     "name": "stdout",
     "output_type": "stream",
     "text": [
      "A"
     ]
    },
    {
     "name": "stdout",
     "output_type": "stream",
     "text": [
      "3"
     ]
    },
    {
     "name": "stdout",
     "output_type": "stream",
     "text": [
      "N"
     ]
    },
    {
     "name": "stdout",
     "output_type": "stream",
     "text": [
      "\",\n"
     ]
    },
    {
     "name": "stdout",
     "output_type": "stream",
     "text": [
      "       "
     ]
    },
    {
     "name": "stdout",
     "output_type": "stream",
     "text": [
      " \""
     ]
    },
    {
     "name": "stdout",
     "output_type": "stream",
     "text": [
      "force"
     ]
    },
    {
     "name": "stdout",
     "output_type": "stream",
     "text": [
      "field"
     ]
    },
    {
     "name": "stdout",
     "output_type": "stream",
     "text": [
      "_files"
     ]
    },
    {
     "name": "stdout",
     "output_type": "stream",
     "text": [
      "\":"
     ]
    },
    {
     "name": "stdout",
     "output_type": "stream",
     "text": [
      " [\""
     ]
    },
    {
     "name": "stdout",
     "output_type": "stream",
     "text": [
      "amber"
     ]
    },
    {
     "name": "stdout",
     "output_type": "stream",
     "text": [
      "99"
     ]
    },
    {
     "name": "stdout",
     "output_type": "stream",
     "text": [
      "sb"
     ]
    },
    {
     "name": "stdout",
     "output_type": "stream",
     "text": [
      "-"
     ]
    },
    {
     "name": "stdout",
     "output_type": "stream",
     "text": [
      "ild"
     ]
    },
    {
     "name": "stdout",
     "output_type": "stream",
     "text": [
      "n"
     ]
    },
    {
     "name": "stdout",
     "output_type": "stream",
     "text": [
      "\"],\n"
     ]
    },
    {
     "name": "stdout",
     "output_type": "stream",
     "text": [
      "       "
     ]
    },
    {
     "name": "stdout",
     "output_type": "stream",
     "text": [
      " \""
     ]
    },
    {
     "name": "stdout",
     "output_type": "stream",
     "text": [
      "system"
     ]
    },
    {
     "name": "stdout",
     "output_type": "stream",
     "text": [
      "_params"
     ]
    },
    {
     "name": "stdout",
     "output_type": "stream",
     "text": [
      "\":"
     ]
    },
    {
     "name": "stdout",
     "output_type": "stream",
     "text": [
      " {\n"
     ]
    },
    {
     "name": "stdout",
     "output_type": "stream",
     "text": [
      "           "
     ]
    },
    {
     "name": "stdout",
     "output_type": "stream",
     "text": [
      " \""
     ]
    },
    {
     "name": "stdout",
     "output_type": "stream",
     "text": [
      "non"
     ]
    },
    {
     "name": "stdout",
     "output_type": "stream",
     "text": [
      "bond"
     ]
    },
    {
     "name": "stdout",
     "output_type": "stream",
     "text": [
      "ed"
     ]
    },
    {
     "name": "stdout",
     "output_type": "stream",
     "text": [
      "Method"
     ]
    },
    {
     "name": "stdout",
     "output_type": "stream",
     "text": [
      "\":"
     ]
    },
    {
     "name": "stdout",
     "output_type": "stream",
     "text": [
      " \""
     ]
    },
    {
     "name": "stdout",
     "output_type": "stream",
     "text": [
      "P"
     ]
    },
    {
     "name": "stdout",
     "output_type": "stream",
     "text": [
      "ME"
     ]
    },
    {
     "name": "stdout",
     "output_type": "stream",
     "text": [
      "\",\n"
     ]
    },
    {
     "name": "stdout",
     "output_type": "stream",
     "text": [
      "           "
     ]
    },
    {
     "name": "stdout",
     "output_type": "stream",
     "text": [
      " \""
     ]
    },
    {
     "name": "stdout",
     "output_type": "stream",
     "text": [
      "non"
     ]
    },
    {
     "name": "stdout",
     "output_type": "stream",
     "text": [
      "bond"
     ]
    },
    {
     "name": "stdout",
     "output_type": "stream",
     "text": [
      "ed"
     ]
    },
    {
     "name": "stdout",
     "output_type": "stream",
     "text": [
      "C"
     ]
    },
    {
     "name": "stdout",
     "output_type": "stream",
     "text": [
      "utoff"
     ]
    },
    {
     "name": "stdout",
     "output_type": "stream",
     "text": [
      "\":"
     ]
    },
    {
     "name": "stdout",
     "output_type": "stream",
     "text": [
      " \""
     ]
    },
    {
     "name": "stdout",
     "output_type": "stream",
     "text": [
      "1"
     ]
    },
    {
     "name": "stdout",
     "output_type": "stream",
     "text": [
      "."
     ]
    },
    {
     "name": "stdout",
     "output_type": "stream",
     "text": [
      "0"
     ]
    },
    {
     "name": "stdout",
     "output_type": "stream",
     "text": [
      " *"
     ]
    },
    {
     "name": "stdout",
     "output_type": "stream",
     "text": [
      " nan"
     ]
    },
    {
     "name": "stdout",
     "output_type": "stream",
     "text": [
      "ometers"
     ]
    },
    {
     "name": "stdout",
     "output_type": "stream",
     "text": [
      "\",\n"
     ]
    },
    {
     "name": "stdout",
     "output_type": "stream",
     "text": [
      "           "
     ]
    },
    {
     "name": "stdout",
     "output_type": "stream",
     "text": [
      " \""
     ]
    },
    {
     "name": "stdout",
     "output_type": "stream",
     "text": [
      "constraints"
     ]
    },
    {
     "name": "stdout",
     "output_type": "stream",
     "text": [
      "\":"
     ]
    },
    {
     "name": "stdout",
     "output_type": "stream",
     "text": [
      " \""
     ]
    },
    {
     "name": "stdout",
     "output_type": "stream",
     "text": [
      "HB"
     ]
    },
    {
     "name": "stdout",
     "output_type": "stream",
     "text": [
      "onds"
     ]
    },
    {
     "name": "stdout",
     "output_type": "stream",
     "text": [
      "\",\n"
     ]
    },
    {
     "name": "stdout",
     "output_type": "stream",
     "text": [
      "           "
     ]
    },
    {
     "name": "stdout",
     "output_type": "stream",
     "text": [
      " \""
     ]
    },
    {
     "name": "stdout",
     "output_type": "stream",
     "text": [
      "rig"
     ]
    },
    {
     "name": "stdout",
     "output_type": "stream",
     "text": [
      "id"
     ]
    },
    {
     "name": "stdout",
     "output_type": "stream",
     "text": [
      "Water"
     ]
    },
    {
     "name": "stdout",
     "output_type": "stream",
     "text": [
      "\":"
     ]
    },
    {
     "name": "stdout",
     "output_type": "stream",
     "text": [
      " true"
     ]
    },
    {
     "name": "stdout",
     "output_type": "stream",
     "text": [
      ",\n"
     ]
    },
    {
     "name": "stdout",
     "output_type": "stream",
     "text": [
      "           "
     ]
    },
    {
     "name": "stdout",
     "output_type": "stream",
     "text": [
      " \""
     ]
    },
    {
     "name": "stdout",
     "output_type": "stream",
     "text": [
      "s"
     ]
    },
    {
     "name": "stdout",
     "output_type": "stream",
     "text": [
      "olv"
     ]
    },
    {
     "name": "stdout",
     "output_type": "stream",
     "text": [
      "ate"
     ]
    },
    {
     "name": "stdout",
     "output_type": "stream",
     "text": [
      "\":"
     ]
    },
    {
     "name": "stdout",
     "output_type": "stream",
     "text": [
      " true"
     ]
    },
    {
     "name": "stdout",
     "output_type": "stream",
     "text": [
      "\n"
     ]
    },
    {
     "name": "stdout",
     "output_type": "stream",
     "text": [
      "       "
     ]
    },
    {
     "name": "stdout",
     "output_type": "stream",
     "text": [
      " },\n"
     ]
    },
    {
     "name": "stdout",
     "output_type": "stream",
     "text": [
      "       "
     ]
    },
    {
     "name": "stdout",
     "output_type": "stream",
     "text": [
      " \""
     ]
    },
    {
     "name": "stdout",
     "output_type": "stream",
     "text": [
      "integr"
     ]
    },
    {
     "name": "stdout",
     "output_type": "stream",
     "text": [
      "ator"
     ]
    },
    {
     "name": "stdout",
     "output_type": "stream",
     "text": [
      "_params"
     ]
    },
    {
     "name": "stdout",
     "output_type": "stream",
     "text": [
      "\":"
     ]
    },
    {
     "name": "stdout",
     "output_type": "stream",
     "text": [
      " {\n"
     ]
    },
    {
     "name": "stdout",
     "output_type": "stream",
     "text": [
      "           "
     ]
    },
    {
     "name": "stdout",
     "output_type": "stream",
     "text": [
      " \""
     ]
    },
    {
     "name": "stdout",
     "output_type": "stream",
     "text": [
      "integr"
     ]
    },
    {
     "name": "stdout",
     "output_type": "stream",
     "text": [
      "ator"
     ]
    },
    {
     "name": "stdout",
     "output_type": "stream",
     "text": [
      "_type"
     ]
    },
    {
     "name": "stdout",
     "output_type": "stream",
     "text": [
      "\":"
     ]
    },
    {
     "name": "stdout",
     "output_type": "stream",
     "text": [
      " \""
     ]
    },
    {
     "name": "stdout",
     "output_type": "stream",
     "text": [
      "L"
     ]
    },
    {
     "name": "stdout",
     "output_type": "stream",
     "text": [
      "ange"
     ]
    },
    {
     "name": "stdout",
     "output_type": "stream",
     "text": [
      "vin"
     ]
    },
    {
     "name": "stdout",
     "output_type": "stream",
     "text": [
      "Middle"
     ]
    },
    {
     "name": "stdout",
     "output_type": "stream",
     "text": [
      "\",\n"
     ]
    },
    {
     "name": "stdout",
     "output_type": "stream",
     "text": [
      "           "
     ]
    },
    {
     "name": "stdout",
     "output_type": "stream",
     "text": [
      " \""
     ]
    },
    {
     "name": "stdout",
     "output_type": "stream",
     "text": [
      "Temperature"
     ]
    },
    {
     "name": "stdout",
     "output_type": "stream",
     "text": [
      "\":"
     ]
    },
    {
     "name": "stdout",
     "output_type": "stream",
     "text": [
      " \""
     ]
    },
    {
     "name": "stdout",
     "output_type": "stream",
     "text": [
      "300"
     ]
    },
    {
     "name": "stdout",
     "output_type": "stream",
     "text": [
      " *"
     ]
    },
    {
     "name": "stdout",
     "output_type": "stream",
     "text": [
      " kel"
     ]
    },
    {
     "name": "stdout",
     "output_type": "stream",
     "text": [
      "vin"
     ]
    },
    {
     "name": "stdout",
     "output_type": "stream",
     "text": [
      "\",\n"
     ]
    },
    {
     "name": "stdout",
     "output_type": "stream",
     "text": [
      "           "
     ]
    },
    {
     "name": "stdout",
     "output_type": "stream",
     "text": [
      " \""
     ]
    },
    {
     "name": "stdout",
     "output_type": "stream",
     "text": [
      "Fr"
     ]
    },
    {
     "name": "stdout",
     "output_type": "stream",
     "text": [
      "iction"
     ]
    },
    {
     "name": "stdout",
     "output_type": "stream",
     "text": [
      "\":"
     ]
    },
    {
     "name": "stdout",
     "output_type": "stream",
     "text": [
      " \""
     ]
    },
    {
     "name": "stdout",
     "output_type": "stream",
     "text": [
      "1"
     ]
    },
    {
     "name": "stdout",
     "output_type": "stream",
     "text": [
      "."
     ]
    },
    {
     "name": "stdout",
     "output_type": "stream",
     "text": [
      "0"
     ]
    },
    {
     "name": "stdout",
     "output_type": "stream",
     "text": [
      " /"
     ]
    },
    {
     "name": "stdout",
     "output_type": "stream",
     "text": [
      " pic"
     ]
    },
    {
     "name": "stdout",
     "output_type": "stream",
     "text": [
      "oseconds"
     ]
    },
    {
     "name": "stdout",
     "output_type": "stream",
     "text": [
      "\",\n"
     ]
    },
    {
     "name": "stdout",
     "output_type": "stream",
     "text": [
      "           "
     ]
    },
    {
     "name": "stdout",
     "output_type": "stream",
     "text": [
      " \""
     ]
    },
    {
     "name": "stdout",
     "output_type": "stream",
     "text": [
      "T"
     ]
    },
    {
     "name": "stdout",
     "output_type": "stream",
     "text": [
      "imestep"
     ]
    },
    {
     "name": "stdout",
     "output_type": "stream",
     "text": [
      "\":"
     ]
    },
    {
     "name": "stdout",
     "output_type": "stream",
     "text": [
      " \""
     ]
    },
    {
     "name": "stdout",
     "output_type": "stream",
     "text": [
      "0"
     ]
    },
    {
     "name": "stdout",
     "output_type": "stream",
     "text": [
      "."
     ]
    },
    {
     "name": "stdout",
     "output_type": "stream",
     "text": [
      "002"
     ]
    },
    {
     "name": "stdout",
     "output_type": "stream",
     "text": [
      " *"
     ]
    },
    {
     "name": "stdout",
     "output_type": "stream",
     "text": [
      " pic"
     ]
    },
    {
     "name": "stdout",
     "output_type": "stream",
     "text": [
      "oseconds"
     ]
    },
    {
     "name": "stdout",
     "output_type": "stream",
     "text": [
      "\"\n"
     ]
    },
    {
     "name": "stdout",
     "output_type": "stream",
     "text": [
      "       "
     ]
    },
    {
     "name": "stdout",
     "output_type": "stream",
     "text": [
      " },\n"
     ]
    },
    {
     "name": "stdout",
     "output_type": "stream",
     "text": [
      "       "
     ]
    },
    {
     "name": "stdout",
     "output_type": "stream",
     "text": [
      " \""
     ]
    },
    {
     "name": "stdout",
     "output_type": "stream",
     "text": [
      "simulation"
     ]
    },
    {
     "name": "stdout",
     "output_type": "stream",
     "text": [
      "_params"
     ]
    },
    {
     "name": "stdout",
     "output_type": "stream",
     "text": [
      "\":"
     ]
    },
    {
     "name": "stdout",
     "output_type": "stream",
     "text": [
      " {\n"
     ]
    },
    {
     "name": "stdout",
     "output_type": "stream",
     "text": [
      "           "
     ]
    },
    {
     "name": "stdout",
     "output_type": "stream",
     "text": [
      " \""
     ]
    },
    {
     "name": "stdout",
     "output_type": "stream",
     "text": [
      "En"
     ]
    },
    {
     "name": "stdout",
     "output_type": "stream",
     "text": [
      "semble"
     ]
    },
    {
     "name": "stdout",
     "output_type": "stream",
     "text": [
      "\":"
     ]
    },
    {
     "name": "stdout",
     "output_type": "stream",
     "text": [
      " \""
     ]
    },
    {
     "name": "stdout",
     "output_type": "stream",
     "text": [
      "N"
     ]
    },
    {
     "name": "stdout",
     "output_type": "stream",
     "text": [
      "VT"
     ]
    },
    {
     "name": "stdout",
     "output_type": "stream",
     "text": [
      "\",\n"
     ]
    },
    {
     "name": "stdout",
     "output_type": "stream",
     "text": [
      "           "
     ]
    },
    {
     "name": "stdout",
     "output_type": "stream",
     "text": [
      " \""
     ]
    },
    {
     "name": "stdout",
     "output_type": "stream",
     "text": [
      "Number"
     ]
    },
    {
     "name": "stdout",
     "output_type": "stream",
     "text": [
      " of"
     ]
    },
    {
     "name": "stdout",
     "output_type": "stream",
     "text": [
      " Steps"
     ]
    },
    {
     "name": "stdout",
     "output_type": "stream",
     "text": [
      "\":"
     ]
    },
    {
     "name": "stdout",
     "output_type": "stream",
     "text": [
      " "
     ]
    },
    {
     "name": "stdout",
     "output_type": "stream",
     "text": [
      "500"
     ]
    },
    {
     "name": "stdout",
     "output_type": "stream",
     "text": [
      "00"
     ]
    },
    {
     "name": "stdout",
     "output_type": "stream",
     "text": [
      ",\n"
     ]
    },
    {
     "name": "stdout",
     "output_type": "stream",
     "text": [
      "           "
     ]
    },
    {
     "name": "stdout",
     "output_type": "stream",
     "text": [
      " \""
     ]
    },
    {
     "name": "stdout",
     "output_type": "stream",
     "text": [
      "record"
     ]
    },
    {
     "name": "stdout",
     "output_type": "stream",
     "text": [
      "_interval"
     ]
    },
    {
     "name": "stdout",
     "output_type": "stream",
     "text": [
      "_steps"
     ]
    },
    {
     "name": "stdout",
     "output_type": "stream",
     "text": [
      "\":"
     ]
    },
    {
     "name": "stdout",
     "output_type": "stream",
     "text": [
      " "
     ]
    },
    {
     "name": "stdout",
     "output_type": "stream",
     "text": [
      "500"
     ]
    },
    {
     "name": "stdout",
     "output_type": "stream",
     "text": [
      ",\n"
     ]
    },
    {
     "name": "stdout",
     "output_type": "stream",
     "text": [
      "           "
     ]
    },
    {
     "name": "stdout",
     "output_type": "stream",
     "text": [
      " \""
     ]
    },
    {
     "name": "stdout",
     "output_type": "stream",
     "text": [
      "record"
     ]
    },
    {
     "name": "stdout",
     "output_type": "stream",
     "text": [
      "_params"
     ]
    },
    {
     "name": "stdout",
     "output_type": "stream",
     "text": [
      "\":"
     ]
    },
    {
     "name": "stdout",
     "output_type": "stream",
     "text": [
      " [\""
     ]
    },
    {
     "name": "stdout",
     "output_type": "stream",
     "text": [
      "step"
     ]
    },
    {
     "name": "stdout",
     "output_type": "stream",
     "text": [
      "\","
     ]
    },
    {
     "name": "stdout",
     "output_type": "stream",
     "text": [
      " \""
     ]
    },
    {
     "name": "stdout",
     "output_type": "stream",
     "text": [
      "potential"
     ]
    },
    {
     "name": "stdout",
     "output_type": "stream",
     "text": [
      "Energy"
     ]
    },
    {
     "name": "stdout",
     "output_type": "stream",
     "text": [
      "\","
     ]
    },
    {
     "name": "stdout",
     "output_type": "stream",
     "text": [
      " \""
     ]
    },
    {
     "name": "stdout",
     "output_type": "stream",
     "text": [
      "temperature"
     ]
    },
    {
     "name": "stdout",
     "output_type": "stream",
     "text": [
      "\"]\n"
     ]
    },
    {
     "name": "stdout",
     "output_type": "stream",
     "text": [
      "       "
     ]
    },
    {
     "name": "stdout",
     "output_type": "stream",
     "text": [
      " }\n"
     ]
    },
    {
     "name": "stdout",
     "output_type": "stream",
     "text": [
      "   "
     ]
    },
    {
     "name": "stdout",
     "output_type": "stream",
     "text": [
      " }\n"
     ]
    },
    {
     "name": "stdout",
     "output_type": "stream",
     "text": [
      "}\n"
     ]
    },
    {
     "name": "stdout",
     "output_type": "stream",
     "text": [
      "```"
     ]
    },
    {
     "name": "stdout",
     "output_type": "stream",
     "text": [
      "Setting default ewaldErrorTolerance: 0.0005 \n",
      "error found: constraintTolerance must be specified if rigidWater is TrueThe forcefield file is not present\n",
      " Correct this and try again. \n",
      " Everthing else is fine\n"
     ]
    },
    {
     "name": "stdout",
     "output_type": "stream",
     "text": [
      "To"
     ]
    },
    {
     "name": "stdout",
     "output_type": "stream",
     "text": [
      " successfully"
     ]
    },
    {
     "name": "stdout",
     "output_type": "stream",
     "text": [
      " simulate"
     ]
    },
    {
     "name": "stdout",
     "output_type": "stream",
     "text": [
      " de"
     ]
    },
    {
     "name": "stdout",
     "output_type": "stream",
     "text": [
      "o"
     ]
    },
    {
     "name": "stdout",
     "output_type": "stream",
     "text": [
      "xygen"
     ]
    },
    {
     "name": "stdout",
     "output_type": "stream",
     "text": [
      "ated"
     ]
    },
    {
     "name": "stdout",
     "output_type": "stream",
     "text": [
      " hem"
     ]
    },
    {
     "name": "stdout",
     "output_type": "stream",
     "text": [
      "oglobin"
     ]
    },
    {
     "name": "stdout",
     "output_type": "stream",
     "text": [
      " ("
     ]
    },
    {
     "name": "stdout",
     "output_type": "stream",
     "text": [
      "P"
     ]
    },
    {
     "name": "stdout",
     "output_type": "stream",
     "text": [
      "DB"
     ]
    },
    {
     "name": "stdout",
     "output_type": "stream",
     "text": [
      " ID"
     ]
    },
    {
     "name": "stdout",
     "output_type": "stream",
     "text": [
      ":"
     ]
    },
    {
     "name": "stdout",
     "output_type": "stream",
     "text": [
      " "
     ]
    },
    {
     "name": "stdout",
     "output_type": "stream",
     "text": [
      "1"
     ]
    },
    {
     "name": "stdout",
     "output_type": "stream",
     "text": [
      "A"
     ]
    },
    {
     "name": "stdout",
     "output_type": "stream",
     "text": [
      "3"
     ]
    },
    {
     "name": "stdout",
     "output_type": "stream",
     "text": [
      "N"
     ]
    },
    {
     "name": "stdout",
     "output_type": "stream",
     "text": [
      ")"
     ]
    },
    {
     "name": "stdout",
     "output_type": "stream",
     "text": [
      " and"
     ]
    },
    {
     "name": "stdout",
     "output_type": "stream",
     "text": [
      " oxygen"
     ]
    },
    {
     "name": "stdout",
     "output_type": "stream",
     "text": [
      "ated"
     ]
    },
    {
     "name": "stdout",
     "output_type": "stream",
     "text": [
      " hem"
     ]
    },
    {
     "name": "stdout",
     "output_type": "stream",
     "text": [
      "oglobin"
     ]
    },
    {
     "name": "stdout",
     "output_type": "stream",
     "text": [
      " ("
     ]
    },
    {
     "name": "stdout",
     "output_type": "stream",
     "text": [
      "P"
     ]
    },
    {
     "name": "stdout",
     "output_type": "stream",
     "text": [
      "DB"
     ]
    },
    {
     "name": "stdout",
     "output_type": "stream",
     "text": [
      " ID"
     ]
    },
    {
     "name": "stdout",
     "output_type": "stream",
     "text": [
      ":"
     ]
    },
    {
     "name": "stdout",
     "output_type": "stream",
     "text": [
      " "
     ]
    },
    {
     "name": "stdout",
     "output_type": "stream",
     "text": [
      "6"
     ]
    },
    {
     "name": "stdout",
     "output_type": "stream",
     "text": [
      "BB"
     ]
    },
    {
     "name": "stdout",
     "output_type": "stream",
     "text": [
      "5"
     ]
    },
    {
     "name": "stdout",
     "output_type": "stream",
     "text": [
      "),"
     ]
    },
    {
     "name": "stdout",
     "output_type": "stream",
     "text": [
      " I"
     ]
    },
    {
     "name": "stdout",
     "output_type": "stream",
     "text": [
      " need"
     ]
    },
    {
     "name": "stdout",
     "output_type": "stream",
     "text": [
      " to"
     ]
    },
    {
     "name": "stdout",
     "output_type": "stream",
     "text": [
      " correct"
     ]
    },
    {
     "name": "stdout",
     "output_type": "stream",
     "text": [
      " the"
     ]
    },
    {
     "name": "stdout",
     "output_type": "stream",
     "text": [
      " previous"
     ]
    },
    {
     "name": "stdout",
     "output_type": "stream",
     "text": [
      " simulation"
     ]
    },
    {
     "name": "stdout",
     "output_type": "stream",
     "text": [
      " setup"
     ]
    },
    {
     "name": "stdout",
     "output_type": "stream",
     "text": [
      " by"
     ]
    },
    {
     "name": "stdout",
     "output_type": "stream",
     "text": [
      " specifying"
     ]
    },
    {
     "name": "stdout",
     "output_type": "stream",
     "text": [
      " the"
     ]
    },
    {
     "name": "stdout",
     "output_type": "stream",
     "text": [
      " constraint"
     ]
    },
    {
     "name": "stdout",
     "output_type": "stream",
     "text": [
      " tolerance"
     ]
    },
    {
     "name": "stdout",
     "output_type": "stream",
     "text": [
      " and"
     ]
    },
    {
     "name": "stdout",
     "output_type": "stream",
     "text": [
      " ensuring"
     ]
    },
    {
     "name": "stdout",
     "output_type": "stream",
     "text": [
      " the"
     ]
    },
    {
     "name": "stdout",
     "output_type": "stream",
     "text": [
      " force"
     ]
    },
    {
     "name": "stdout",
     "output_type": "stream",
     "text": [
      "field"
     ]
    },
    {
     "name": "stdout",
     "output_type": "stream",
     "text": [
      " file"
     ]
    },
    {
     "name": "stdout",
     "output_type": "stream",
     "text": [
      " is"
     ]
    },
    {
     "name": "stdout",
     "output_type": "stream",
     "text": [
      " available"
     ]
    },
    {
     "name": "stdout",
     "output_type": "stream",
     "text": [
      "."
     ]
    },
    {
     "name": "stdout",
     "output_type": "stream",
     "text": [
      " I"
     ]
    },
    {
     "name": "stdout",
     "output_type": "stream",
     "text": [
      " will"
     ]
    },
    {
     "name": "stdout",
     "output_type": "stream",
     "text": [
      " adjust"
     ]
    },
    {
     "name": "stdout",
     "output_type": "stream",
     "text": [
      " the"
     ]
    },
    {
     "name": "stdout",
     "output_type": "stream",
     "text": [
      " system"
     ]
    },
    {
     "name": "stdout",
     "output_type": "stream",
     "text": [
      " parameters"
     ]
    },
    {
     "name": "stdout",
     "output_type": "stream",
     "text": [
      " to"
     ]
    },
    {
     "name": "stdout",
     "output_type": "stream",
     "text": [
      " include"
     ]
    },
    {
     "name": "stdout",
     "output_type": "stream",
     "text": [
      " the"
     ]
    },
    {
     "name": "stdout",
     "output_type": "stream",
     "text": [
      " constraint"
     ]
    },
    {
     "name": "stdout",
     "output_type": "stream",
     "text": [
      " tolerance"
     ]
    },
    {
     "name": "stdout",
     "output_type": "stream",
     "text": [
      " and"
     ]
    },
    {
     "name": "stdout",
     "output_type": "stream",
     "text": [
      " verify"
     ]
    },
    {
     "name": "stdout",
     "output_type": "stream",
     "text": [
      " the"
     ]
    },
    {
     "name": "stdout",
     "output_type": "stream",
     "text": [
      " force"
     ]
    },
    {
     "name": "stdout",
     "output_type": "stream",
     "text": [
      "field"
     ]
    },
    {
     "name": "stdout",
     "output_type": "stream",
     "text": [
      " file"
     ]
    },
    {
     "name": "stdout",
     "output_type": "stream",
     "text": [
      "."
     ]
    },
    {
     "name": "stdout",
     "output_type": "stream",
     "text": [
      " Then"
     ]
    },
    {
     "name": "stdout",
     "output_type": "stream",
     "text": [
      ","
     ]
    },
    {
     "name": "stdout",
     "output_type": "stream",
     "text": [
      " I"
     ]
    },
    {
     "name": "stdout",
     "output_type": "stream",
     "text": [
      " will"
     ]
    },
    {
     "name": "stdout",
     "output_type": "stream",
     "text": [
      " proceed"
     ]
    },
    {
     "name": "stdout",
     "output_type": "stream",
     "text": [
      " with"
     ]
    },
    {
     "name": "stdout",
     "output_type": "stream",
     "text": [
      " the"
     ]
    },
    {
     "name": "stdout",
     "output_type": "stream",
     "text": [
      " simulation"
     ]
    },
    {
     "name": "stdout",
     "output_type": "stream",
     "text": [
      " setup"
     ]
    },
    {
     "name": "stdout",
     "output_type": "stream",
     "text": [
      " for"
     ]
    },
    {
     "name": "stdout",
     "output_type": "stream",
     "text": [
      " both"
     ]
    },
    {
     "name": "stdout",
     "output_type": "stream",
     "text": [
      " P"
     ]
    },
    {
     "name": "stdout",
     "output_type": "stream",
     "text": [
      "DB"
     ]
    },
    {
     "name": "stdout",
     "output_type": "stream",
     "text": [
      " IDs"
     ]
    },
    {
     "name": "stdout",
     "output_type": "stream",
     "text": [
      ".\n",
      "\n"
     ]
    },
    {
     "name": "stdout",
     "output_type": "stream",
     "text": [
      "Action"
     ]
    },
    {
     "name": "stdout",
     "output_type": "stream",
     "text": [
      ":\n"
     ]
    },
    {
     "name": "stdout",
     "output_type": "stream",
     "text": [
      "```"
     ]
    },
    {
     "name": "stdout",
     "output_type": "stream",
     "text": [
      "json"
     ]
    },
    {
     "name": "stdout",
     "output_type": "stream",
     "text": [
      "\n"
     ]
    },
    {
     "name": "stdout",
     "output_type": "stream",
     "text": [
      "{\n"
     ]
    },
    {
     "name": "stdout",
     "output_type": "stream",
     "text": [
      "   "
     ]
    },
    {
     "name": "stdout",
     "output_type": "stream",
     "text": [
      " \""
     ]
    },
    {
     "name": "stdout",
     "output_type": "stream",
     "text": [
      "action"
     ]
    },
    {
     "name": "stdout",
     "output_type": "stream",
     "text": [
      "\":"
     ]
    },
    {
     "name": "stdout",
     "output_type": "stream",
     "text": [
      " \""
     ]
    },
    {
     "name": "stdout",
     "output_type": "stream",
     "text": [
      "SetUp"
     ]
    },
    {
     "name": "stdout",
     "output_type": "stream",
     "text": [
      "and"
     ]
    },
    {
     "name": "stdout",
     "output_type": "stream",
     "text": [
      "Run"
     ]
    },
    {
     "name": "stdout",
     "output_type": "stream",
     "text": [
      "Function"
     ]
    },
    {
     "name": "stdout",
     "output_type": "stream",
     "text": [
      "\",\n"
     ]
    },
    {
     "name": "stdout",
     "output_type": "stream",
     "text": [
      "   "
     ]
    },
    {
     "name": "stdout",
     "output_type": "stream",
     "text": [
      " \""
     ]
    },
    {
     "name": "stdout",
     "output_type": "stream",
     "text": [
      "action"
     ]
    },
    {
     "name": "stdout",
     "output_type": "stream",
     "text": [
      "_input"
     ]
    },
    {
     "name": "stdout",
     "output_type": "stream",
     "text": [
      "\":"
     ]
    },
    {
     "name": "stdout",
     "output_type": "stream",
     "text": [
      " {\n"
     ]
    },
    {
     "name": "stdout",
     "output_type": "stream",
     "text": [
      "       "
     ]
    },
    {
     "name": "stdout",
     "output_type": "stream",
     "text": [
      " \""
     ]
    },
    {
     "name": "stdout",
     "output_type": "stream",
     "text": [
      "pdb"
     ]
    },
    {
     "name": "stdout",
     "output_type": "stream",
     "text": [
      "_id"
     ]
    },
    {
     "name": "stdout",
     "output_type": "stream",
     "text": [
      "\":"
     ]
    },
    {
     "name": "stdout",
     "output_type": "stream",
     "text": [
      " \""
     ]
    },
    {
     "name": "stdout",
     "output_type": "stream",
     "text": [
      "1"
     ]
    },
    {
     "name": "stdout",
     "output_type": "stream",
     "text": [
      "A"
     ]
    },
    {
     "name": "stdout",
     "output_type": "stream",
     "text": [
      "3"
     ]
    },
    {
     "name": "stdout",
     "output_type": "stream",
     "text": [
      "N"
     ]
    },
    {
     "name": "stdout",
     "output_type": "stream",
     "text": [
      "\",\n"
     ]
    },
    {
     "name": "stdout",
     "output_type": "stream",
     "text": [
      "       "
     ]
    },
    {
     "name": "stdout",
     "output_type": "stream",
     "text": [
      " \""
     ]
    },
    {
     "name": "stdout",
     "output_type": "stream",
     "text": [
      "force"
     ]
    },
    {
     "name": "stdout",
     "output_type": "stream",
     "text": [
      "field"
     ]
    },
    {
     "name": "stdout",
     "output_type": "stream",
     "text": [
      "_files"
     ]
    },
    {
     "name": "stdout",
     "output_type": "stream",
     "text": [
      "\":"
     ]
    },
    {
     "name": "stdout",
     "output_type": "stream",
     "text": [
      " [\""
     ]
    },
    {
     "name": "stdout",
     "output_type": "stream",
     "text": [
      "amber"
     ]
    },
    {
     "name": "stdout",
     "output_type": "stream",
     "text": [
      "99"
     ]
    },
    {
     "name": "stdout",
     "output_type": "stream",
     "text": [
      "sb"
     ]
    },
    {
     "name": "stdout",
     "output_type": "stream",
     "text": [
      "-"
     ]
    },
    {
     "name": "stdout",
     "output_type": "stream",
     "text": [
      "ild"
     ]
    },
    {
     "name": "stdout",
     "output_type": "stream",
     "text": [
      "n"
     ]
    },
    {
     "name": "stdout",
     "output_type": "stream",
     "text": [
      "\"],\n"
     ]
    },
    {
     "name": "stdout",
     "output_type": "stream",
     "text": [
      "       "
     ]
    },
    {
     "name": "stdout",
     "output_type": "stream",
     "text": [
      " \""
     ]
    },
    {
     "name": "stdout",
     "output_type": "stream",
     "text": [
      "system"
     ]
    },
    {
     "name": "stdout",
     "output_type": "stream",
     "text": [
      "_params"
     ]
    },
    {
     "name": "stdout",
     "output_type": "stream",
     "text": [
      "\":"
     ]
    },
    {
     "name": "stdout",
     "output_type": "stream",
     "text": [
      " {\n"
     ]
    },
    {
     "name": "stdout",
     "output_type": "stream",
     "text": [
      "           "
     ]
    },
    {
     "name": "stdout",
     "output_type": "stream",
     "text": [
      " \""
     ]
    },
    {
     "name": "stdout",
     "output_type": "stream",
     "text": [
      "non"
     ]
    },
    {
     "name": "stdout",
     "output_type": "stream",
     "text": [
      "bond"
     ]
    },
    {
     "name": "stdout",
     "output_type": "stream",
     "text": [
      "ed"
     ]
    },
    {
     "name": "stdout",
     "output_type": "stream",
     "text": [
      "Method"
     ]
    },
    {
     "name": "stdout",
     "output_type": "stream",
     "text": [
      "\":"
     ]
    },
    {
     "name": "stdout",
     "output_type": "stream",
     "text": [
      " \""
     ]
    },
    {
     "name": "stdout",
     "output_type": "stream",
     "text": [
      "P"
     ]
    },
    {
     "name": "stdout",
     "output_type": "stream",
     "text": [
      "ME"
     ]
    },
    {
     "name": "stdout",
     "output_type": "stream",
     "text": [
      "\",\n"
     ]
    },
    {
     "name": "stdout",
     "output_type": "stream",
     "text": [
      "           "
     ]
    },
    {
     "name": "stdout",
     "output_type": "stream",
     "text": [
      " \""
     ]
    },
    {
     "name": "stdout",
     "output_type": "stream",
     "text": [
      "non"
     ]
    },
    {
     "name": "stdout",
     "output_type": "stream",
     "text": [
      "bond"
     ]
    },
    {
     "name": "stdout",
     "output_type": "stream",
     "text": [
      "ed"
     ]
    },
    {
     "name": "stdout",
     "output_type": "stream",
     "text": [
      "C"
     ]
    },
    {
     "name": "stdout",
     "output_type": "stream",
     "text": [
      "utoff"
     ]
    },
    {
     "name": "stdout",
     "output_type": "stream",
     "text": [
      "\":"
     ]
    },
    {
     "name": "stdout",
     "output_type": "stream",
     "text": [
      " \""
     ]
    },
    {
     "name": "stdout",
     "output_type": "stream",
     "text": [
      "1"
     ]
    },
    {
     "name": "stdout",
     "output_type": "stream",
     "text": [
      "."
     ]
    },
    {
     "name": "stdout",
     "output_type": "stream",
     "text": [
      "0"
     ]
    },
    {
     "name": "stdout",
     "output_type": "stream",
     "text": [
      " *"
     ]
    },
    {
     "name": "stdout",
     "output_type": "stream",
     "text": [
      " nan"
     ]
    },
    {
     "name": "stdout",
     "output_type": "stream",
     "text": [
      "ometers"
     ]
    },
    {
     "name": "stdout",
     "output_type": "stream",
     "text": [
      "\",\n"
     ]
    },
    {
     "name": "stdout",
     "output_type": "stream",
     "text": [
      "           "
     ]
    },
    {
     "name": "stdout",
     "output_type": "stream",
     "text": [
      " \""
     ]
    },
    {
     "name": "stdout",
     "output_type": "stream",
     "text": [
      "constraints"
     ]
    },
    {
     "name": "stdout",
     "output_type": "stream",
     "text": [
      "\":"
     ]
    },
    {
     "name": "stdout",
     "output_type": "stream",
     "text": [
      " \""
     ]
    },
    {
     "name": "stdout",
     "output_type": "stream",
     "text": [
      "HB"
     ]
    },
    {
     "name": "stdout",
     "output_type": "stream",
     "text": [
      "onds"
     ]
    },
    {
     "name": "stdout",
     "output_type": "stream",
     "text": [
      "\",\n"
     ]
    },
    {
     "name": "stdout",
     "output_type": "stream",
     "text": [
      "           "
     ]
    },
    {
     "name": "stdout",
     "output_type": "stream",
     "text": [
      " \""
     ]
    },
    {
     "name": "stdout",
     "output_type": "stream",
     "text": [
      "rig"
     ]
    },
    {
     "name": "stdout",
     "output_type": "stream",
     "text": [
      "id"
     ]
    },
    {
     "name": "stdout",
     "output_type": "stream",
     "text": [
      "Water"
     ]
    },
    {
     "name": "stdout",
     "output_type": "stream",
     "text": [
      "\":"
     ]
    },
    {
     "name": "stdout",
     "output_type": "stream",
     "text": [
      " true"
     ]
    },
    {
     "name": "stdout",
     "output_type": "stream",
     "text": [
      ",\n"
     ]
    },
    {
     "name": "stdout",
     "output_type": "stream",
     "text": [
      "           "
     ]
    },
    {
     "name": "stdout",
     "output_type": "stream",
     "text": [
      " \""
     ]
    },
    {
     "name": "stdout",
     "output_type": "stream",
     "text": [
      "s"
     ]
    },
    {
     "name": "stdout",
     "output_type": "stream",
     "text": [
      "olv"
     ]
    },
    {
     "name": "stdout",
     "output_type": "stream",
     "text": [
      "ate"
     ]
    },
    {
     "name": "stdout",
     "output_type": "stream",
     "text": [
      "\":"
     ]
    },
    {
     "name": "stdout",
     "output_type": "stream",
     "text": [
      " true"
     ]
    },
    {
     "name": "stdout",
     "output_type": "stream",
     "text": [
      ",\n"
     ]
    },
    {
     "name": "stdout",
     "output_type": "stream",
     "text": [
      "           "
     ]
    },
    {
     "name": "stdout",
     "output_type": "stream",
     "text": [
      " \""
     ]
    },
    {
     "name": "stdout",
     "output_type": "stream",
     "text": [
      "constraint"
     ]
    },
    {
     "name": "stdout",
     "output_type": "stream",
     "text": [
      "T"
     ]
    },
    {
     "name": "stdout",
     "output_type": "stream",
     "text": [
      "olerance"
     ]
    },
    {
     "name": "stdout",
     "output_type": "stream",
     "text": [
      "\":"
     ]
    },
    {
     "name": "stdout",
     "output_type": "stream",
     "text": [
      " \""
     ]
    },
    {
     "name": "stdout",
     "output_type": "stream",
     "text": [
      "0"
     ]
    },
    {
     "name": "stdout",
     "output_type": "stream",
     "text": [
      "."
     ]
    },
    {
     "name": "stdout",
     "output_type": "stream",
     "text": [
      "000"
     ]
    },
    {
     "name": "stdout",
     "output_type": "stream",
     "text": [
      "01"
     ]
    },
    {
     "name": "stdout",
     "output_type": "stream",
     "text": [
      "\"\n"
     ]
    },
    {
     "name": "stdout",
     "output_type": "stream",
     "text": [
      "       "
     ]
    },
    {
     "name": "stdout",
     "output_type": "stream",
     "text": [
      " },\n"
     ]
    },
    {
     "name": "stdout",
     "output_type": "stream",
     "text": [
      "       "
     ]
    },
    {
     "name": "stdout",
     "output_type": "stream",
     "text": [
      " \""
     ]
    },
    {
     "name": "stdout",
     "output_type": "stream",
     "text": [
      "integr"
     ]
    },
    {
     "name": "stdout",
     "output_type": "stream",
     "text": [
      "ator"
     ]
    },
    {
     "name": "stdout",
     "output_type": "stream",
     "text": [
      "_params"
     ]
    },
    {
     "name": "stdout",
     "output_type": "stream",
     "text": [
      "\":"
     ]
    },
    {
     "name": "stdout",
     "output_type": "stream",
     "text": [
      " {\n"
     ]
    },
    {
     "name": "stdout",
     "output_type": "stream",
     "text": [
      "           "
     ]
    },
    {
     "name": "stdout",
     "output_type": "stream",
     "text": [
      " \""
     ]
    },
    {
     "name": "stdout",
     "output_type": "stream",
     "text": [
      "integr"
     ]
    },
    {
     "name": "stdout",
     "output_type": "stream",
     "text": [
      "ator"
     ]
    },
    {
     "name": "stdout",
     "output_type": "stream",
     "text": [
      "_type"
     ]
    },
    {
     "name": "stdout",
     "output_type": "stream",
     "text": [
      "\":"
     ]
    },
    {
     "name": "stdout",
     "output_type": "stream",
     "text": [
      " \""
     ]
    },
    {
     "name": "stdout",
     "output_type": "stream",
     "text": [
      "L"
     ]
    },
    {
     "name": "stdout",
     "output_type": "stream",
     "text": [
      "ange"
     ]
    },
    {
     "name": "stdout",
     "output_type": "stream",
     "text": [
      "vin"
     ]
    },
    {
     "name": "stdout",
     "output_type": "stream",
     "text": [
      "Middle"
     ]
    },
    {
     "name": "stdout",
     "output_type": "stream",
     "text": [
      "\",\n"
     ]
    },
    {
     "name": "stdout",
     "output_type": "stream",
     "text": [
      "           "
     ]
    },
    {
     "name": "stdout",
     "output_type": "stream",
     "text": [
      " \""
     ]
    },
    {
     "name": "stdout",
     "output_type": "stream",
     "text": [
      "Temperature"
     ]
    },
    {
     "name": "stdout",
     "output_type": "stream",
     "text": [
      "\":"
     ]
    },
    {
     "name": "stdout",
     "output_type": "stream",
     "text": [
      " \""
     ]
    },
    {
     "name": "stdout",
     "output_type": "stream",
     "text": [
      "300"
     ]
    },
    {
     "name": "stdout",
     "output_type": "stream",
     "text": [
      " *"
     ]
    },
    {
     "name": "stdout",
     "output_type": "stream",
     "text": [
      " kel"
     ]
    },
    {
     "name": "stdout",
     "output_type": "stream",
     "text": [
      "vin"
     ]
    },
    {
     "name": "stdout",
     "output_type": "stream",
     "text": [
      "\",\n"
     ]
    },
    {
     "name": "stdout",
     "output_type": "stream",
     "text": [
      "           "
     ]
    },
    {
     "name": "stdout",
     "output_type": "stream",
     "text": [
      " \""
     ]
    },
    {
     "name": "stdout",
     "output_type": "stream",
     "text": [
      "Fr"
     ]
    },
    {
     "name": "stdout",
     "output_type": "stream",
     "text": [
      "iction"
     ]
    },
    {
     "name": "stdout",
     "output_type": "stream",
     "text": [
      "\":"
     ]
    },
    {
     "name": "stdout",
     "output_type": "stream",
     "text": [
      " \""
     ]
    },
    {
     "name": "stdout",
     "output_type": "stream",
     "text": [
      "1"
     ]
    },
    {
     "name": "stdout",
     "output_type": "stream",
     "text": [
      "."
     ]
    },
    {
     "name": "stdout",
     "output_type": "stream",
     "text": [
      "0"
     ]
    },
    {
     "name": "stdout",
     "output_type": "stream",
     "text": [
      " /"
     ]
    },
    {
     "name": "stdout",
     "output_type": "stream",
     "text": [
      " pic"
     ]
    },
    {
     "name": "stdout",
     "output_type": "stream",
     "text": [
      "oseconds"
     ]
    },
    {
     "name": "stdout",
     "output_type": "stream",
     "text": [
      "\",\n"
     ]
    },
    {
     "name": "stdout",
     "output_type": "stream",
     "text": [
      "           "
     ]
    },
    {
     "name": "stdout",
     "output_type": "stream",
     "text": [
      " \""
     ]
    },
    {
     "name": "stdout",
     "output_type": "stream",
     "text": [
      "T"
     ]
    },
    {
     "name": "stdout",
     "output_type": "stream",
     "text": [
      "imestep"
     ]
    },
    {
     "name": "stdout",
     "output_type": "stream",
     "text": [
      "\":"
     ]
    },
    {
     "name": "stdout",
     "output_type": "stream",
     "text": [
      " \""
     ]
    },
    {
     "name": "stdout",
     "output_type": "stream",
     "text": [
      "0"
     ]
    },
    {
     "name": "stdout",
     "output_type": "stream",
     "text": [
      "."
     ]
    },
    {
     "name": "stdout",
     "output_type": "stream",
     "text": [
      "002"
     ]
    },
    {
     "name": "stdout",
     "output_type": "stream",
     "text": [
      " *"
     ]
    },
    {
     "name": "stdout",
     "output_type": "stream",
     "text": [
      " pic"
     ]
    },
    {
     "name": "stdout",
     "output_type": "stream",
     "text": [
      "oseconds"
     ]
    },
    {
     "name": "stdout",
     "output_type": "stream",
     "text": [
      "\"\n"
     ]
    },
    {
     "name": "stdout",
     "output_type": "stream",
     "text": [
      "       "
     ]
    },
    {
     "name": "stdout",
     "output_type": "stream",
     "text": [
      " },\n"
     ]
    },
    {
     "name": "stdout",
     "output_type": "stream",
     "text": [
      "       "
     ]
    },
    {
     "name": "stdout",
     "output_type": "stream",
     "text": [
      " \""
     ]
    },
    {
     "name": "stdout",
     "output_type": "stream",
     "text": [
      "simulation"
     ]
    },
    {
     "name": "stdout",
     "output_type": "stream",
     "text": [
      "_params"
     ]
    },
    {
     "name": "stdout",
     "output_type": "stream",
     "text": [
      "\":"
     ]
    },
    {
     "name": "stdout",
     "output_type": "stream",
     "text": [
      " {\n"
     ]
    },
    {
     "name": "stdout",
     "output_type": "stream",
     "text": [
      "           "
     ]
    },
    {
     "name": "stdout",
     "output_type": "stream",
     "text": [
      " \""
     ]
    },
    {
     "name": "stdout",
     "output_type": "stream",
     "text": [
      "En"
     ]
    },
    {
     "name": "stdout",
     "output_type": "stream",
     "text": [
      "semble"
     ]
    },
    {
     "name": "stdout",
     "output_type": "stream",
     "text": [
      "\":"
     ]
    },
    {
     "name": "stdout",
     "output_type": "stream",
     "text": [
      " \""
     ]
    },
    {
     "name": "stdout",
     "output_type": "stream",
     "text": [
      "N"
     ]
    },
    {
     "name": "stdout",
     "output_type": "stream",
     "text": [
      "VT"
     ]
    },
    {
     "name": "stdout",
     "output_type": "stream",
     "text": [
      "\",\n"
     ]
    },
    {
     "name": "stdout",
     "output_type": "stream",
     "text": [
      "           "
     ]
    },
    {
     "name": "stdout",
     "output_type": "stream",
     "text": [
      " \""
     ]
    },
    {
     "name": "stdout",
     "output_type": "stream",
     "text": [
      "Number"
     ]
    },
    {
     "name": "stdout",
     "output_type": "stream",
     "text": [
      " of"
     ]
    },
    {
     "name": "stdout",
     "output_type": "stream",
     "text": [
      " Steps"
     ]
    },
    {
     "name": "stdout",
     "output_type": "stream",
     "text": [
      "\":"
     ]
    },
    {
     "name": "stdout",
     "output_type": "stream",
     "text": [
      " "
     ]
    },
    {
     "name": "stdout",
     "output_type": "stream",
     "text": [
      "500"
     ]
    },
    {
     "name": "stdout",
     "output_type": "stream",
     "text": [
      "00"
     ]
    },
    {
     "name": "stdout",
     "output_type": "stream",
     "text": [
      ",\n"
     ]
    },
    {
     "name": "stdout",
     "output_type": "stream",
     "text": [
      "           "
     ]
    },
    {
     "name": "stdout",
     "output_type": "stream",
     "text": [
      " \""
     ]
    },
    {
     "name": "stdout",
     "output_type": "stream",
     "text": [
      "record"
     ]
    },
    {
     "name": "stdout",
     "output_type": "stream",
     "text": [
      "_interval"
     ]
    },
    {
     "name": "stdout",
     "output_type": "stream",
     "text": [
      "_steps"
     ]
    },
    {
     "name": "stdout",
     "output_type": "stream",
     "text": [
      "\":"
     ]
    },
    {
     "name": "stdout",
     "output_type": "stream",
     "text": [
      " "
     ]
    },
    {
     "name": "stdout",
     "output_type": "stream",
     "text": [
      "500"
     ]
    },
    {
     "name": "stdout",
     "output_type": "stream",
     "text": [
      ",\n"
     ]
    },
    {
     "name": "stdout",
     "output_type": "stream",
     "text": [
      "           "
     ]
    },
    {
     "name": "stdout",
     "output_type": "stream",
     "text": [
      " \""
     ]
    },
    {
     "name": "stdout",
     "output_type": "stream",
     "text": [
      "record"
     ]
    },
    {
     "name": "stdout",
     "output_type": "stream",
     "text": [
      "_params"
     ]
    },
    {
     "name": "stdout",
     "output_type": "stream",
     "text": [
      "\":"
     ]
    },
    {
     "name": "stdout",
     "output_type": "stream",
     "text": [
      " [\""
     ]
    },
    {
     "name": "stdout",
     "output_type": "stream",
     "text": [
      "step"
     ]
    },
    {
     "name": "stdout",
     "output_type": "stream",
     "text": [
      "\","
     ]
    },
    {
     "name": "stdout",
     "output_type": "stream",
     "text": [
      " \""
     ]
    },
    {
     "name": "stdout",
     "output_type": "stream",
     "text": [
      "potential"
     ]
    },
    {
     "name": "stdout",
     "output_type": "stream",
     "text": [
      "Energy"
     ]
    },
    {
     "name": "stdout",
     "output_type": "stream",
     "text": [
      "\","
     ]
    },
    {
     "name": "stdout",
     "output_type": "stream",
     "text": [
      " \""
     ]
    },
    {
     "name": "stdout",
     "output_type": "stream",
     "text": [
      "temperature"
     ]
    },
    {
     "name": "stdout",
     "output_type": "stream",
     "text": [
      "\"]\n"
     ]
    },
    {
     "name": "stdout",
     "output_type": "stream",
     "text": [
      "       "
     ]
    },
    {
     "name": "stdout",
     "output_type": "stream",
     "text": [
      " }\n"
     ]
    },
    {
     "name": "stdout",
     "output_type": "stream",
     "text": [
      "   "
     ]
    },
    {
     "name": "stdout",
     "output_type": "stream",
     "text": [
      " }\n"
     ]
    },
    {
     "name": "stdout",
     "output_type": "stream",
     "text": [
      "}\n"
     ]
    },
    {
     "name": "stdout",
     "output_type": "stream",
     "text": [
      "```"
     ]
    },
    {
     "name": "stdout",
     "output_type": "stream",
     "text": [
      "Setting default ewaldErrorTolerance: 0.0005 \n",
      "error found: The forcefield file is not present\n",
      " Correct this and try again. \n",
      " Everthing else is fine\n"
     ]
    },
    {
     "name": "stdout",
     "output_type": "stream",
     "text": [
      "To"
     ]
    },
    {
     "name": "stdout",
     "output_type": "stream",
     "text": [
      " successfully"
     ]
    },
    {
     "name": "stdout",
     "output_type": "stream",
     "text": [
      " simulate"
     ]
    },
    {
     "name": "stdout",
     "output_type": "stream",
     "text": [
      " de"
     ]
    },
    {
     "name": "stdout",
     "output_type": "stream",
     "text": [
      "o"
     ]
    },
    {
     "name": "stdout",
     "output_type": "stream",
     "text": [
      "xygen"
     ]
    },
    {
     "name": "stdout",
     "output_type": "stream",
     "text": [
      "ated"
     ]
    },
    {
     "name": "stdout",
     "output_type": "stream",
     "text": [
      " hem"
     ]
    },
    {
     "name": "stdout",
     "output_type": "stream",
     "text": [
      "oglobin"
     ]
    },
    {
     "name": "stdout",
     "output_type": "stream",
     "text": [
      " ("
     ]
    },
    {
     "name": "stdout",
     "output_type": "stream",
     "text": [
      "P"
     ]
    },
    {
     "name": "stdout",
     "output_type": "stream",
     "text": [
      "DB"
     ]
    },
    {
     "name": "stdout",
     "output_type": "stream",
     "text": [
      " ID"
     ]
    },
    {
     "name": "stdout",
     "output_type": "stream",
     "text": [
      ":"
     ]
    },
    {
     "name": "stdout",
     "output_type": "stream",
     "text": [
      " "
     ]
    },
    {
     "name": "stdout",
     "output_type": "stream",
     "text": [
      "1"
     ]
    },
    {
     "name": "stdout",
     "output_type": "stream",
     "text": [
      "A"
     ]
    },
    {
     "name": "stdout",
     "output_type": "stream",
     "text": [
      "3"
     ]
    },
    {
     "name": "stdout",
     "output_type": "stream",
     "text": [
      "N"
     ]
    },
    {
     "name": "stdout",
     "output_type": "stream",
     "text": [
      ")"
     ]
    },
    {
     "name": "stdout",
     "output_type": "stream",
     "text": [
      " and"
     ]
    },
    {
     "name": "stdout",
     "output_type": "stream",
     "text": [
      " oxygen"
     ]
    },
    {
     "name": "stdout",
     "output_type": "stream",
     "text": [
      "ated"
     ]
    },
    {
     "name": "stdout",
     "output_type": "stream",
     "text": [
      " hem"
     ]
    },
    {
     "name": "stdout",
     "output_type": "stream",
     "text": [
      "oglobin"
     ]
    },
    {
     "name": "stdout",
     "output_type": "stream",
     "text": [
      " ("
     ]
    },
    {
     "name": "stdout",
     "output_type": "stream",
     "text": [
      "P"
     ]
    },
    {
     "name": "stdout",
     "output_type": "stream",
     "text": [
      "DB"
     ]
    },
    {
     "name": "stdout",
     "output_type": "stream",
     "text": [
      " ID"
     ]
    },
    {
     "name": "stdout",
     "output_type": "stream",
     "text": [
      ":"
     ]
    },
    {
     "name": "stdout",
     "output_type": "stream",
     "text": [
      " "
     ]
    },
    {
     "name": "stdout",
     "output_type": "stream",
     "text": [
      "6"
     ]
    },
    {
     "name": "stdout",
     "output_type": "stream",
     "text": [
      "BB"
     ]
    },
    {
     "name": "stdout",
     "output_type": "stream",
     "text": [
      "5"
     ]
    },
    {
     "name": "stdout",
     "output_type": "stream",
     "text": [
      "),"
     ]
    },
    {
     "name": "stdout",
     "output_type": "stream",
     "text": [
      " I"
     ]
    },
    {
     "name": "stdout",
     "output_type": "stream",
     "text": [
      " need"
     ]
    },
    {
     "name": "stdout",
     "output_type": "stream",
     "text": [
      " to"
     ]
    },
    {
     "name": "stdout",
     "output_type": "stream",
     "text": [
      " correct"
     ]
    },
    {
     "name": "stdout",
     "output_type": "stream",
     "text": [
      " the"
     ]
    },
    {
     "name": "stdout",
     "output_type": "stream",
     "text": [
      " previous"
     ]
    },
    {
     "name": "stdout",
     "output_type": "stream",
     "text": [
      " simulation"
     ]
    },
    {
     "name": "stdout",
     "output_type": "stream",
     "text": [
      " setup"
     ]
    },
    {
     "name": "stdout",
     "output_type": "stream",
     "text": [
      " by"
     ]
    },
    {
     "name": "stdout",
     "output_type": "stream",
     "text": [
      " specifying"
     ]
    },
    {
     "name": "stdout",
     "output_type": "stream",
     "text": [
      " a"
     ]
    },
    {
     "name": "stdout",
     "output_type": "stream",
     "text": [
      " valid"
     ]
    },
    {
     "name": "stdout",
     "output_type": "stream",
     "text": [
      " force"
     ]
    },
    {
     "name": "stdout",
     "output_type": "stream",
     "text": [
      "field"
     ]
    },
    {
     "name": "stdout",
     "output_type": "stream",
     "text": [
      " file"
     ]
    },
    {
     "name": "stdout",
     "output_type": "stream",
     "text": [
      "."
     ]
    },
    {
     "name": "stdout",
     "output_type": "stream",
     "text": [
      " I"
     ]
    },
    {
     "name": "stdout",
     "output_type": "stream",
     "text": [
      " will"
     ]
    },
    {
     "name": "stdout",
     "output_type": "stream",
     "text": [
      " adjust"
     ]
    },
    {
     "name": "stdout",
     "output_type": "stream",
     "text": [
      " the"
     ]
    },
    {
     "name": "stdout",
     "output_type": "stream",
     "text": [
      " force"
     ]
    },
    {
     "name": "stdout",
     "output_type": "stream",
     "text": [
      "field"
     ]
    },
    {
     "name": "stdout",
     "output_type": "stream",
     "text": [
      " to"
     ]
    },
    {
     "name": "stdout",
     "output_type": "stream",
     "text": [
      " a"
     ]
    },
    {
     "name": "stdout",
     "output_type": "stream",
     "text": [
      " commonly"
     ]
    },
    {
     "name": "stdout",
     "output_type": "stream",
     "text": [
      " available"
     ]
    },
    {
     "name": "stdout",
     "output_type": "stream",
     "text": [
      " one"
     ]
    },
    {
     "name": "stdout",
     "output_type": "stream",
     "text": [
      " and"
     ]
    },
    {
     "name": "stdout",
     "output_type": "stream",
     "text": [
      " proceed"
     ]
    },
    {
     "name": "stdout",
     "output_type": "stream",
     "text": [
      " with"
     ]
    },
    {
     "name": "stdout",
     "output_type": "stream",
     "text": [
      " the"
     ]
    },
    {
     "name": "stdout",
     "output_type": "stream",
     "text": [
      " simulation"
     ]
    },
    {
     "name": "stdout",
     "output_type": "stream",
     "text": [
      " setup"
     ]
    },
    {
     "name": "stdout",
     "output_type": "stream",
     "text": [
      " for"
     ]
    },
    {
     "name": "stdout",
     "output_type": "stream",
     "text": [
      " both"
     ]
    },
    {
     "name": "stdout",
     "output_type": "stream",
     "text": [
      " P"
     ]
    },
    {
     "name": "stdout",
     "output_type": "stream",
     "text": [
      "DB"
     ]
    },
    {
     "name": "stdout",
     "output_type": "stream",
     "text": [
      " IDs"
     ]
    },
    {
     "name": "stdout",
     "output_type": "stream",
     "text": [
      ".\n",
      "\n"
     ]
    },
    {
     "name": "stdout",
     "output_type": "stream",
     "text": [
      "Action"
     ]
    },
    {
     "name": "stdout",
     "output_type": "stream",
     "text": [
      ":\n"
     ]
    },
    {
     "name": "stdout",
     "output_type": "stream",
     "text": [
      "```"
     ]
    },
    {
     "name": "stdout",
     "output_type": "stream",
     "text": [
      "json"
     ]
    },
    {
     "name": "stdout",
     "output_type": "stream",
     "text": [
      "\n"
     ]
    },
    {
     "name": "stdout",
     "output_type": "stream",
     "text": [
      "{\n"
     ]
    },
    {
     "name": "stdout",
     "output_type": "stream",
     "text": [
      "   "
     ]
    },
    {
     "name": "stdout",
     "output_type": "stream",
     "text": [
      " \""
     ]
    },
    {
     "name": "stdout",
     "output_type": "stream",
     "text": [
      "action"
     ]
    },
    {
     "name": "stdout",
     "output_type": "stream",
     "text": [
      "\":"
     ]
    },
    {
     "name": "stdout",
     "output_type": "stream",
     "text": [
      " \""
     ]
    },
    {
     "name": "stdout",
     "output_type": "stream",
     "text": [
      "SetUp"
     ]
    },
    {
     "name": "stdout",
     "output_type": "stream",
     "text": [
      "and"
     ]
    },
    {
     "name": "stdout",
     "output_type": "stream",
     "text": [
      "Run"
     ]
    },
    {
     "name": "stdout",
     "output_type": "stream",
     "text": [
      "Function"
     ]
    },
    {
     "name": "stdout",
     "output_type": "stream",
     "text": [
      "\",\n"
     ]
    },
    {
     "name": "stdout",
     "output_type": "stream",
     "text": [
      "   "
     ]
    },
    {
     "name": "stdout",
     "output_type": "stream",
     "text": [
      " \""
     ]
    },
    {
     "name": "stdout",
     "output_type": "stream",
     "text": [
      "action"
     ]
    },
    {
     "name": "stdout",
     "output_type": "stream",
     "text": [
      "_input"
     ]
    },
    {
     "name": "stdout",
     "output_type": "stream",
     "text": [
      "\":"
     ]
    },
    {
     "name": "stdout",
     "output_type": "stream",
     "text": [
      " {\n"
     ]
    },
    {
     "name": "stdout",
     "output_type": "stream",
     "text": [
      "       "
     ]
    },
    {
     "name": "stdout",
     "output_type": "stream",
     "text": [
      " \""
     ]
    },
    {
     "name": "stdout",
     "output_type": "stream",
     "text": [
      "pdb"
     ]
    },
    {
     "name": "stdout",
     "output_type": "stream",
     "text": [
      "_id"
     ]
    },
    {
     "name": "stdout",
     "output_type": "stream",
     "text": [
      "\":"
     ]
    },
    {
     "name": "stdout",
     "output_type": "stream",
     "text": [
      " \""
     ]
    },
    {
     "name": "stdout",
     "output_type": "stream",
     "text": [
      "1"
     ]
    },
    {
     "name": "stdout",
     "output_type": "stream",
     "text": [
      "A"
     ]
    },
    {
     "name": "stdout",
     "output_type": "stream",
     "text": [
      "3"
     ]
    },
    {
     "name": "stdout",
     "output_type": "stream",
     "text": [
      "N"
     ]
    },
    {
     "name": "stdout",
     "output_type": "stream",
     "text": [
      "\",\n"
     ]
    },
    {
     "name": "stdout",
     "output_type": "stream",
     "text": [
      "       "
     ]
    },
    {
     "name": "stdout",
     "output_type": "stream",
     "text": [
      " \""
     ]
    },
    {
     "name": "stdout",
     "output_type": "stream",
     "text": [
      "force"
     ]
    },
    {
     "name": "stdout",
     "output_type": "stream",
     "text": [
      "field"
     ]
    },
    {
     "name": "stdout",
     "output_type": "stream",
     "text": [
      "_files"
     ]
    },
    {
     "name": "stdout",
     "output_type": "stream",
     "text": [
      "\":"
     ]
    },
    {
     "name": "stdout",
     "output_type": "stream",
     "text": [
      " [\""
     ]
    },
    {
     "name": "stdout",
     "output_type": "stream",
     "text": [
      "amber"
     ]
    },
    {
     "name": "stdout",
     "output_type": "stream",
     "text": [
      "14"
     ]
    },
    {
     "name": "stdout",
     "output_type": "stream",
     "text": [
      "-all"
     ]
    },
    {
     "name": "stdout",
     "output_type": "stream",
     "text": [
      "\"],\n"
     ]
    },
    {
     "name": "stdout",
     "output_type": "stream",
     "text": [
      "       "
     ]
    },
    {
     "name": "stdout",
     "output_type": "stream",
     "text": [
      " \""
     ]
    },
    {
     "name": "stdout",
     "output_type": "stream",
     "text": [
      "system"
     ]
    },
    {
     "name": "stdout",
     "output_type": "stream",
     "text": [
      "_params"
     ]
    },
    {
     "name": "stdout",
     "output_type": "stream",
     "text": [
      "\":"
     ]
    },
    {
     "name": "stdout",
     "output_type": "stream",
     "text": [
      " {\n"
     ]
    },
    {
     "name": "stdout",
     "output_type": "stream",
     "text": [
      "           "
     ]
    },
    {
     "name": "stdout",
     "output_type": "stream",
     "text": [
      " \""
     ]
    },
    {
     "name": "stdout",
     "output_type": "stream",
     "text": [
      "non"
     ]
    },
    {
     "name": "stdout",
     "output_type": "stream",
     "text": [
      "bond"
     ]
    },
    {
     "name": "stdout",
     "output_type": "stream",
     "text": [
      "ed"
     ]
    },
    {
     "name": "stdout",
     "output_type": "stream",
     "text": [
      "Method"
     ]
    },
    {
     "name": "stdout",
     "output_type": "stream",
     "text": [
      "\":"
     ]
    },
    {
     "name": "stdout",
     "output_type": "stream",
     "text": [
      " \""
     ]
    },
    {
     "name": "stdout",
     "output_type": "stream",
     "text": [
      "P"
     ]
    },
    {
     "name": "stdout",
     "output_type": "stream",
     "text": [
      "ME"
     ]
    },
    {
     "name": "stdout",
     "output_type": "stream",
     "text": [
      "\",\n"
     ]
    },
    {
     "name": "stdout",
     "output_type": "stream",
     "text": [
      "           "
     ]
    },
    {
     "name": "stdout",
     "output_type": "stream",
     "text": [
      " \""
     ]
    },
    {
     "name": "stdout",
     "output_type": "stream",
     "text": [
      "non"
     ]
    },
    {
     "name": "stdout",
     "output_type": "stream",
     "text": [
      "bond"
     ]
    },
    {
     "name": "stdout",
     "output_type": "stream",
     "text": [
      "ed"
     ]
    },
    {
     "name": "stdout",
     "output_type": "stream",
     "text": [
      "C"
     ]
    },
    {
     "name": "stdout",
     "output_type": "stream",
     "text": [
      "utoff"
     ]
    },
    {
     "name": "stdout",
     "output_type": "stream",
     "text": [
      "\":"
     ]
    },
    {
     "name": "stdout",
     "output_type": "stream",
     "text": [
      " \""
     ]
    },
    {
     "name": "stdout",
     "output_type": "stream",
     "text": [
      "1"
     ]
    },
    {
     "name": "stdout",
     "output_type": "stream",
     "text": [
      "."
     ]
    },
    {
     "name": "stdout",
     "output_type": "stream",
     "text": [
      "0"
     ]
    },
    {
     "name": "stdout",
     "output_type": "stream",
     "text": [
      " *"
     ]
    },
    {
     "name": "stdout",
     "output_type": "stream",
     "text": [
      " nan"
     ]
    },
    {
     "name": "stdout",
     "output_type": "stream",
     "text": [
      "ometers"
     ]
    },
    {
     "name": "stdout",
     "output_type": "stream",
     "text": [
      "\",\n"
     ]
    },
    {
     "name": "stdout",
     "output_type": "stream",
     "text": [
      "           "
     ]
    },
    {
     "name": "stdout",
     "output_type": "stream",
     "text": [
      " \""
     ]
    },
    {
     "name": "stdout",
     "output_type": "stream",
     "text": [
      "constraints"
     ]
    },
    {
     "name": "stdout",
     "output_type": "stream",
     "text": [
      "\":"
     ]
    },
    {
     "name": "stdout",
     "output_type": "stream",
     "text": [
      " \""
     ]
    },
    {
     "name": "stdout",
     "output_type": "stream",
     "text": [
      "HB"
     ]
    },
    {
     "name": "stdout",
     "output_type": "stream",
     "text": [
      "onds"
     ]
    },
    {
     "name": "stdout",
     "output_type": "stream",
     "text": [
      "\",\n"
     ]
    },
    {
     "name": "stdout",
     "output_type": "stream",
     "text": [
      "           "
     ]
    },
    {
     "name": "stdout",
     "output_type": "stream",
     "text": [
      " \""
     ]
    },
    {
     "name": "stdout",
     "output_type": "stream",
     "text": [
      "rig"
     ]
    },
    {
     "name": "stdout",
     "output_type": "stream",
     "text": [
      "id"
     ]
    },
    {
     "name": "stdout",
     "output_type": "stream",
     "text": [
      "Water"
     ]
    },
    {
     "name": "stdout",
     "output_type": "stream",
     "text": [
      "\":"
     ]
    },
    {
     "name": "stdout",
     "output_type": "stream",
     "text": [
      " true"
     ]
    },
    {
     "name": "stdout",
     "output_type": "stream",
     "text": [
      ",\n"
     ]
    },
    {
     "name": "stdout",
     "output_type": "stream",
     "text": [
      "           "
     ]
    },
    {
     "name": "stdout",
     "output_type": "stream",
     "text": [
      " \""
     ]
    },
    {
     "name": "stdout",
     "output_type": "stream",
     "text": [
      "s"
     ]
    },
    {
     "name": "stdout",
     "output_type": "stream",
     "text": [
      "olv"
     ]
    },
    {
     "name": "stdout",
     "output_type": "stream",
     "text": [
      "ate"
     ]
    },
    {
     "name": "stdout",
     "output_type": "stream",
     "text": [
      "\":"
     ]
    },
    {
     "name": "stdout",
     "output_type": "stream",
     "text": [
      " true"
     ]
    },
    {
     "name": "stdout",
     "output_type": "stream",
     "text": [
      ",\n"
     ]
    },
    {
     "name": "stdout",
     "output_type": "stream",
     "text": [
      "           "
     ]
    },
    {
     "name": "stdout",
     "output_type": "stream",
     "text": [
      " \""
     ]
    },
    {
     "name": "stdout",
     "output_type": "stream",
     "text": [
      "constraint"
     ]
    },
    {
     "name": "stdout",
     "output_type": "stream",
     "text": [
      "T"
     ]
    },
    {
     "name": "stdout",
     "output_type": "stream",
     "text": [
      "olerance"
     ]
    },
    {
     "name": "stdout",
     "output_type": "stream",
     "text": [
      "\":"
     ]
    },
    {
     "name": "stdout",
     "output_type": "stream",
     "text": [
      " \""
     ]
    },
    {
     "name": "stdout",
     "output_type": "stream",
     "text": [
      "0"
     ]
    },
    {
     "name": "stdout",
     "output_type": "stream",
     "text": [
      "."
     ]
    },
    {
     "name": "stdout",
     "output_type": "stream",
     "text": [
      "000"
     ]
    },
    {
     "name": "stdout",
     "output_type": "stream",
     "text": [
      "01"
     ]
    },
    {
     "name": "stdout",
     "output_type": "stream",
     "text": [
      "\"\n"
     ]
    },
    {
     "name": "stdout",
     "output_type": "stream",
     "text": [
      "       "
     ]
    },
    {
     "name": "stdout",
     "output_type": "stream",
     "text": [
      " },\n"
     ]
    },
    {
     "name": "stdout",
     "output_type": "stream",
     "text": [
      "       "
     ]
    },
    {
     "name": "stdout",
     "output_type": "stream",
     "text": [
      " \""
     ]
    },
    {
     "name": "stdout",
     "output_type": "stream",
     "text": [
      "integr"
     ]
    },
    {
     "name": "stdout",
     "output_type": "stream",
     "text": [
      "ator"
     ]
    },
    {
     "name": "stdout",
     "output_type": "stream",
     "text": [
      "_params"
     ]
    },
    {
     "name": "stdout",
     "output_type": "stream",
     "text": [
      "\":"
     ]
    },
    {
     "name": "stdout",
     "output_type": "stream",
     "text": [
      " {\n"
     ]
    },
    {
     "name": "stdout",
     "output_type": "stream",
     "text": [
      "           "
     ]
    },
    {
     "name": "stdout",
     "output_type": "stream",
     "text": [
      " \""
     ]
    },
    {
     "name": "stdout",
     "output_type": "stream",
     "text": [
      "integr"
     ]
    },
    {
     "name": "stdout",
     "output_type": "stream",
     "text": [
      "ator"
     ]
    },
    {
     "name": "stdout",
     "output_type": "stream",
     "text": [
      "_type"
     ]
    },
    {
     "name": "stdout",
     "output_type": "stream",
     "text": [
      "\":"
     ]
    },
    {
     "name": "stdout",
     "output_type": "stream",
     "text": [
      " \""
     ]
    },
    {
     "name": "stdout",
     "output_type": "stream",
     "text": [
      "L"
     ]
    },
    {
     "name": "stdout",
     "output_type": "stream",
     "text": [
      "ange"
     ]
    },
    {
     "name": "stdout",
     "output_type": "stream",
     "text": [
      "vin"
     ]
    },
    {
     "name": "stdout",
     "output_type": "stream",
     "text": [
      "Middle"
     ]
    },
    {
     "name": "stdout",
     "output_type": "stream",
     "text": [
      "\",\n"
     ]
    },
    {
     "name": "stdout",
     "output_type": "stream",
     "text": [
      "           "
     ]
    },
    {
     "name": "stdout",
     "output_type": "stream",
     "text": [
      " \""
     ]
    },
    {
     "name": "stdout",
     "output_type": "stream",
     "text": [
      "Temperature"
     ]
    },
    {
     "name": "stdout",
     "output_type": "stream",
     "text": [
      "\":"
     ]
    },
    {
     "name": "stdout",
     "output_type": "stream",
     "text": [
      " \""
     ]
    },
    {
     "name": "stdout",
     "output_type": "stream",
     "text": [
      "300"
     ]
    },
    {
     "name": "stdout",
     "output_type": "stream",
     "text": [
      " *"
     ]
    },
    {
     "name": "stdout",
     "output_type": "stream",
     "text": [
      " kel"
     ]
    },
    {
     "name": "stdout",
     "output_type": "stream",
     "text": [
      "vin"
     ]
    },
    {
     "name": "stdout",
     "output_type": "stream",
     "text": [
      "\",\n"
     ]
    },
    {
     "name": "stdout",
     "output_type": "stream",
     "text": [
      "           "
     ]
    },
    {
     "name": "stdout",
     "output_type": "stream",
     "text": [
      " \""
     ]
    },
    {
     "name": "stdout",
     "output_type": "stream",
     "text": [
      "Fr"
     ]
    },
    {
     "name": "stdout",
     "output_type": "stream",
     "text": [
      "iction"
     ]
    },
    {
     "name": "stdout",
     "output_type": "stream",
     "text": [
      "\":"
     ]
    },
    {
     "name": "stdout",
     "output_type": "stream",
     "text": [
      " \""
     ]
    },
    {
     "name": "stdout",
     "output_type": "stream",
     "text": [
      "1"
     ]
    },
    {
     "name": "stdout",
     "output_type": "stream",
     "text": [
      "."
     ]
    },
    {
     "name": "stdout",
     "output_type": "stream",
     "text": [
      "0"
     ]
    },
    {
     "name": "stdout",
     "output_type": "stream",
     "text": [
      " /"
     ]
    },
    {
     "name": "stdout",
     "output_type": "stream",
     "text": [
      " pic"
     ]
    },
    {
     "name": "stdout",
     "output_type": "stream",
     "text": [
      "oseconds"
     ]
    },
    {
     "name": "stdout",
     "output_type": "stream",
     "text": [
      "\",\n"
     ]
    },
    {
     "name": "stdout",
     "output_type": "stream",
     "text": [
      "           "
     ]
    },
    {
     "name": "stdout",
     "output_type": "stream",
     "text": [
      " \""
     ]
    },
    {
     "name": "stdout",
     "output_type": "stream",
     "text": [
      "T"
     ]
    },
    {
     "name": "stdout",
     "output_type": "stream",
     "text": [
      "imestep"
     ]
    },
    {
     "name": "stdout",
     "output_type": "stream",
     "text": [
      "\":"
     ]
    },
    {
     "name": "stdout",
     "output_type": "stream",
     "text": [
      " \""
     ]
    },
    {
     "name": "stdout",
     "output_type": "stream",
     "text": [
      "0"
     ]
    },
    {
     "name": "stdout",
     "output_type": "stream",
     "text": [
      "."
     ]
    },
    {
     "name": "stdout",
     "output_type": "stream",
     "text": [
      "002"
     ]
    },
    {
     "name": "stdout",
     "output_type": "stream",
     "text": [
      " *"
     ]
    },
    {
     "name": "stdout",
     "output_type": "stream",
     "text": [
      " pic"
     ]
    },
    {
     "name": "stdout",
     "output_type": "stream",
     "text": [
      "oseconds"
     ]
    },
    {
     "name": "stdout",
     "output_type": "stream",
     "text": [
      "\"\n"
     ]
    },
    {
     "name": "stdout",
     "output_type": "stream",
     "text": [
      "       "
     ]
    },
    {
     "name": "stdout",
     "output_type": "stream",
     "text": [
      " },\n"
     ]
    },
    {
     "name": "stdout",
     "output_type": "stream",
     "text": [
      "       "
     ]
    },
    {
     "name": "stdout",
     "output_type": "stream",
     "text": [
      " \""
     ]
    },
    {
     "name": "stdout",
     "output_type": "stream",
     "text": [
      "simulation"
     ]
    },
    {
     "name": "stdout",
     "output_type": "stream",
     "text": [
      "_params"
     ]
    },
    {
     "name": "stdout",
     "output_type": "stream",
     "text": [
      "\":"
     ]
    },
    {
     "name": "stdout",
     "output_type": "stream",
     "text": [
      " {\n"
     ]
    },
    {
     "name": "stdout",
     "output_type": "stream",
     "text": [
      "           "
     ]
    },
    {
     "name": "stdout",
     "output_type": "stream",
     "text": [
      " \""
     ]
    },
    {
     "name": "stdout",
     "output_type": "stream",
     "text": [
      "En"
     ]
    },
    {
     "name": "stdout",
     "output_type": "stream",
     "text": [
      "semble"
     ]
    },
    {
     "name": "stdout",
     "output_type": "stream",
     "text": [
      "\":"
     ]
    },
    {
     "name": "stdout",
     "output_type": "stream",
     "text": [
      " \""
     ]
    },
    {
     "name": "stdout",
     "output_type": "stream",
     "text": [
      "N"
     ]
    },
    {
     "name": "stdout",
     "output_type": "stream",
     "text": [
      "VT"
     ]
    },
    {
     "name": "stdout",
     "output_type": "stream",
     "text": [
      "\",\n"
     ]
    },
    {
     "name": "stdout",
     "output_type": "stream",
     "text": [
      "           "
     ]
    },
    {
     "name": "stdout",
     "output_type": "stream",
     "text": [
      " \""
     ]
    },
    {
     "name": "stdout",
     "output_type": "stream",
     "text": [
      "Number"
     ]
    },
    {
     "name": "stdout",
     "output_type": "stream",
     "text": [
      " of"
     ]
    },
    {
     "name": "stdout",
     "output_type": "stream",
     "text": [
      " Steps"
     ]
    },
    {
     "name": "stdout",
     "output_type": "stream",
     "text": [
      "\":"
     ]
    },
    {
     "name": "stdout",
     "output_type": "stream",
     "text": [
      " "
     ]
    },
    {
     "name": "stdout",
     "output_type": "stream",
     "text": [
      "500"
     ]
    },
    {
     "name": "stdout",
     "output_type": "stream",
     "text": [
      "00"
     ]
    },
    {
     "name": "stdout",
     "output_type": "stream",
     "text": [
      ",\n"
     ]
    },
    {
     "name": "stdout",
     "output_type": "stream",
     "text": [
      "           "
     ]
    },
    {
     "name": "stdout",
     "output_type": "stream",
     "text": [
      " \""
     ]
    },
    {
     "name": "stdout",
     "output_type": "stream",
     "text": [
      "record"
     ]
    },
    {
     "name": "stdout",
     "output_type": "stream",
     "text": [
      "_interval"
     ]
    },
    {
     "name": "stdout",
     "output_type": "stream",
     "text": [
      "_steps"
     ]
    },
    {
     "name": "stdout",
     "output_type": "stream",
     "text": [
      "\":"
     ]
    },
    {
     "name": "stdout",
     "output_type": "stream",
     "text": [
      " "
     ]
    },
    {
     "name": "stdout",
     "output_type": "stream",
     "text": [
      "500"
     ]
    },
    {
     "name": "stdout",
     "output_type": "stream",
     "text": [
      ",\n"
     ]
    },
    {
     "name": "stdout",
     "output_type": "stream",
     "text": [
      "           "
     ]
    },
    {
     "name": "stdout",
     "output_type": "stream",
     "text": [
      " \""
     ]
    },
    {
     "name": "stdout",
     "output_type": "stream",
     "text": [
      "record"
     ]
    },
    {
     "name": "stdout",
     "output_type": "stream",
     "text": [
      "_params"
     ]
    },
    {
     "name": "stdout",
     "output_type": "stream",
     "text": [
      "\":"
     ]
    },
    {
     "name": "stdout",
     "output_type": "stream",
     "text": [
      " [\""
     ]
    },
    {
     "name": "stdout",
     "output_type": "stream",
     "text": [
      "step"
     ]
    },
    {
     "name": "stdout",
     "output_type": "stream",
     "text": [
      "\","
     ]
    },
    {
     "name": "stdout",
     "output_type": "stream",
     "text": [
      " \""
     ]
    },
    {
     "name": "stdout",
     "output_type": "stream",
     "text": [
      "potential"
     ]
    },
    {
     "name": "stdout",
     "output_type": "stream",
     "text": [
      "Energy"
     ]
    },
    {
     "name": "stdout",
     "output_type": "stream",
     "text": [
      "\","
     ]
    },
    {
     "name": "stdout",
     "output_type": "stream",
     "text": [
      " \""
     ]
    },
    {
     "name": "stdout",
     "output_type": "stream",
     "text": [
      "temperature"
     ]
    },
    {
     "name": "stdout",
     "output_type": "stream",
     "text": [
      "\"]\n"
     ]
    },
    {
     "name": "stdout",
     "output_type": "stream",
     "text": [
      "       "
     ]
    },
    {
     "name": "stdout",
     "output_type": "stream",
     "text": [
      " }\n"
     ]
    },
    {
     "name": "stdout",
     "output_type": "stream",
     "text": [
      "   "
     ]
    },
    {
     "name": "stdout",
     "output_type": "stream",
     "text": [
      " }\n"
     ]
    },
    {
     "name": "stdout",
     "output_type": "stream",
     "text": [
      "}\n"
     ]
    },
    {
     "name": "stdout",
     "output_type": "stream",
     "text": [
      "```"
     ]
    },
    {
     "name": "stdout",
     "output_type": "stream",
     "text": [
      "Setting default ewaldErrorTolerance: 0.0005 \n"
     ]
    },
    {
     "name": "stdout",
     "output_type": "stream",
     "text": [
      "To"
     ]
    },
    {
     "name": "stdout",
     "output_type": "stream",
     "text": [
      " successfully"
     ]
    },
    {
     "name": "stdout",
     "output_type": "stream",
     "text": [
      " simulate"
     ]
    },
    {
     "name": "stdout",
     "output_type": "stream",
     "text": [
      " de"
     ]
    },
    {
     "name": "stdout",
     "output_type": "stream",
     "text": [
      "o"
     ]
    },
    {
     "name": "stdout",
     "output_type": "stream",
     "text": [
      "xygen"
     ]
    },
    {
     "name": "stdout",
     "output_type": "stream",
     "text": [
      "ated"
     ]
    },
    {
     "name": "stdout",
     "output_type": "stream",
     "text": [
      " hem"
     ]
    },
    {
     "name": "stdout",
     "output_type": "stream",
     "text": [
      "oglobin"
     ]
    },
    {
     "name": "stdout",
     "output_type": "stream",
     "text": [
      " ("
     ]
    },
    {
     "name": "stdout",
     "output_type": "stream",
     "text": [
      "P"
     ]
    },
    {
     "name": "stdout",
     "output_type": "stream",
     "text": [
      "DB"
     ]
    },
    {
     "name": "stdout",
     "output_type": "stream",
     "text": [
      " ID"
     ]
    },
    {
     "name": "stdout",
     "output_type": "stream",
     "text": [
      ":"
     ]
    },
    {
     "name": "stdout",
     "output_type": "stream",
     "text": [
      " "
     ]
    },
    {
     "name": "stdout",
     "output_type": "stream",
     "text": [
      "1"
     ]
    },
    {
     "name": "stdout",
     "output_type": "stream",
     "text": [
      "A"
     ]
    },
    {
     "name": "stdout",
     "output_type": "stream",
     "text": [
      "3"
     ]
    },
    {
     "name": "stdout",
     "output_type": "stream",
     "text": [
      "N"
     ]
    },
    {
     "name": "stdout",
     "output_type": "stream",
     "text": [
      ")"
     ]
    },
    {
     "name": "stdout",
     "output_type": "stream",
     "text": [
      " and"
     ]
    },
    {
     "name": "stdout",
     "output_type": "stream",
     "text": [
      " oxygen"
     ]
    },
    {
     "name": "stdout",
     "output_type": "stream",
     "text": [
      "ated"
     ]
    },
    {
     "name": "stdout",
     "output_type": "stream",
     "text": [
      " hem"
     ]
    },
    {
     "name": "stdout",
     "output_type": "stream",
     "text": [
      "oglobin"
     ]
    },
    {
     "name": "stdout",
     "output_type": "stream",
     "text": [
      " ("
     ]
    },
    {
     "name": "stdout",
     "output_type": "stream",
     "text": [
      "P"
     ]
    },
    {
     "name": "stdout",
     "output_type": "stream",
     "text": [
      "DB"
     ]
    },
    {
     "name": "stdout",
     "output_type": "stream",
     "text": [
      " ID"
     ]
    },
    {
     "name": "stdout",
     "output_type": "stream",
     "text": [
      ":"
     ]
    },
    {
     "name": "stdout",
     "output_type": "stream",
     "text": [
      " "
     ]
    },
    {
     "name": "stdout",
     "output_type": "stream",
     "text": [
      "6"
     ]
    },
    {
     "name": "stdout",
     "output_type": "stream",
     "text": [
      "BB"
     ]
    },
    {
     "name": "stdout",
     "output_type": "stream",
     "text": [
      "5"
     ]
    },
    {
     "name": "stdout",
     "output_type": "stream",
     "text": [
      "),"
     ]
    },
    {
     "name": "stdout",
     "output_type": "stream",
     "text": [
      " I"
     ]
    },
    {
     "name": "stdout",
     "output_type": "stream",
     "text": [
      " need"
     ]
    },
    {
     "name": "stdout",
     "output_type": "stream",
     "text": [
      " to"
     ]
    },
    {
     "name": "stdout",
     "output_type": "stream",
     "text": [
      " correct"
     ]
    },
    {
     "name": "stdout",
     "output_type": "stream",
     "text": [
      " the"
     ]
    },
    {
     "name": "stdout",
     "output_type": "stream",
     "text": [
      " previous"
     ]
    },
    {
     "name": "stdout",
     "output_type": "stream",
     "text": [
      " simulation"
     ]
    },
    {
     "name": "stdout",
     "output_type": "stream",
     "text": [
      " setup"
     ]
    },
    {
     "name": "stdout",
     "output_type": "stream",
     "text": [
      " by"
     ]
    },
    {
     "name": "stdout",
     "output_type": "stream",
     "text": [
      " specifying"
     ]
    },
    {
     "name": "stdout",
     "output_type": "stream",
     "text": [
      " a"
     ]
    },
    {
     "name": "stdout",
     "output_type": "stream",
     "text": [
      " valid"
     ]
    },
    {
     "name": "stdout",
     "output_type": "stream",
     "text": [
      " force"
     ]
    },
    {
     "name": "stdout",
     "output_type": "stream",
     "text": [
      "field"
     ]
    },
    {
     "name": "stdout",
     "output_type": "stream",
     "text": [
      " file"
     ]
    },
    {
     "name": "stdout",
     "output_type": "stream",
     "text": [
      " and"
     ]
    },
    {
     "name": "stdout",
     "output_type": "stream",
     "text": [
      " using"
     ]
    },
    {
     "name": "stdout",
     "output_type": "stream",
     "text": [
      " the"
     ]
    },
    {
     "name": "stdout",
     "output_type": "stream",
     "text": [
      " correct"
     ]
    },
    {
     "name": "stdout",
     "output_type": "stream",
     "text": [
      " file"
     ]
    },
    {
     "name": "stdout",
     "output_type": "stream",
     "text": [
      " ID"
     ]
    },
    {
     "name": "stdout",
     "output_type": "stream",
     "text": [
      " for"
     ]
    },
    {
     "name": "stdout",
     "output_type": "stream",
     "text": [
      " the"
     ]
    },
    {
     "name": "stdout",
     "output_type": "stream",
     "text": [
      " P"
     ]
    },
    {
     "name": "stdout",
     "output_type": "stream",
     "text": [
      "DB"
     ]
    },
    {
     "name": "stdout",
     "output_type": "stream",
     "text": [
      " files"
     ]
    },
    {
     "name": "stdout",
     "output_type": "stream",
     "text": [
      "."
     ]
    },
    {
     "name": "stdout",
     "output_type": "stream",
     "text": [
      " I"
     ]
    },
    {
     "name": "stdout",
     "output_type": "stream",
     "text": [
      " will"
     ]
    },
    {
     "name": "stdout",
     "output_type": "stream",
     "text": [
      " adjust"
     ]
    },
    {
     "name": "stdout",
     "output_type": "stream",
     "text": [
      " the"
     ]
    },
    {
     "name": "stdout",
     "output_type": "stream",
     "text": [
      " force"
     ]
    },
    {
     "name": "stdout",
     "output_type": "stream",
     "text": [
      "field"
     ]
    },
    {
     "name": "stdout",
     "output_type": "stream",
     "text": [
      " to"
     ]
    },
    {
     "name": "stdout",
     "output_type": "stream",
     "text": [
      " a"
     ]
    },
    {
     "name": "stdout",
     "output_type": "stream",
     "text": [
      " commonly"
     ]
    },
    {
     "name": "stdout",
     "output_type": "stream",
     "text": [
      " available"
     ]
    },
    {
     "name": "stdout",
     "output_type": "stream",
     "text": [
      " one"
     ]
    },
    {
     "name": "stdout",
     "output_type": "stream",
     "text": [
      " and"
     ]
    },
    {
     "name": "stdout",
     "output_type": "stream",
     "text": [
      " ensure"
     ]
    },
    {
     "name": "stdout",
     "output_type": "stream",
     "text": [
      " that"
     ]
    },
    {
     "name": "stdout",
     "output_type": "stream",
     "text": [
      " the"
     ]
    },
    {
     "name": "stdout",
     "output_type": "stream",
     "text": [
      " P"
     ]
    },
    {
     "name": "stdout",
     "output_type": "stream",
     "text": [
      "DB"
     ]
    },
    {
     "name": "stdout",
     "output_type": "stream",
     "text": [
      " IDs"
     ]
    },
    {
     "name": "stdout",
     "output_type": "stream",
     "text": [
      " are"
     ]
    },
    {
     "name": "stdout",
     "output_type": "stream",
     "text": [
      " correctly"
     ]
    },
    {
     "name": "stdout",
     "output_type": "stream",
     "text": [
      " used"
     ]
    },
    {
     "name": "stdout",
     "output_type": "stream",
     "text": [
      " as"
     ]
    },
    {
     "name": "stdout",
     "output_type": "stream",
     "text": [
      " file"
     ]
    },
    {
     "name": "stdout",
     "output_type": "stream",
     "text": [
      " IDs"
     ]
    },
    {
     "name": "stdout",
     "output_type": "stream",
     "text": [
      " in"
     ]
    },
    {
     "name": "stdout",
     "output_type": "stream",
     "text": [
      " the"
     ]
    },
    {
     "name": "stdout",
     "output_type": "stream",
     "text": [
      " simulation"
     ]
    },
    {
     "name": "stdout",
     "output_type": "stream",
     "text": [
      " setup"
     ]
    },
    {
     "name": "stdout",
     "output_type": "stream",
     "text": [
      "."
     ]
    },
    {
     "name": "stdout",
     "output_type": "stream",
     "text": [
      " I"
     ]
    },
    {
     "name": "stdout",
     "output_type": "stream",
     "text": [
      " will"
     ]
    },
    {
     "name": "stdout",
     "output_type": "stream",
     "text": [
      " proceed"
     ]
    },
    {
     "name": "stdout",
     "output_type": "stream",
     "text": [
      " with"
     ]
    },
    {
     "name": "stdout",
     "output_type": "stream",
     "text": [
      " the"
     ]
    },
    {
     "name": "stdout",
     "output_type": "stream",
     "text": [
      " simulation"
     ]
    },
    {
     "name": "stdout",
     "output_type": "stream",
     "text": [
      " setup"
     ]
    },
    {
     "name": "stdout",
     "output_type": "stream",
     "text": [
      " for"
     ]
    },
    {
     "name": "stdout",
     "output_type": "stream",
     "text": [
      " both"
     ]
    },
    {
     "name": "stdout",
     "output_type": "stream",
     "text": [
      " P"
     ]
    },
    {
     "name": "stdout",
     "output_type": "stream",
     "text": [
      "DB"
     ]
    },
    {
     "name": "stdout",
     "output_type": "stream",
     "text": [
      " IDs"
     ]
    },
    {
     "name": "stdout",
     "output_type": "stream",
     "text": [
      ".\n",
      "\n"
     ]
    },
    {
     "name": "stdout",
     "output_type": "stream",
     "text": [
      "Action"
     ]
    },
    {
     "name": "stdout",
     "output_type": "stream",
     "text": [
      ":\n"
     ]
    },
    {
     "name": "stdout",
     "output_type": "stream",
     "text": [
      "```"
     ]
    },
    {
     "name": "stdout",
     "output_type": "stream",
     "text": [
      "json"
     ]
    },
    {
     "name": "stdout",
     "output_type": "stream",
     "text": [
      "\n"
     ]
    },
    {
     "name": "stdout",
     "output_type": "stream",
     "text": [
      "{\n"
     ]
    },
    {
     "name": "stdout",
     "output_type": "stream",
     "text": [
      "   "
     ]
    },
    {
     "name": "stdout",
     "output_type": "stream",
     "text": [
      " \""
     ]
    },
    {
     "name": "stdout",
     "output_type": "stream",
     "text": [
      "action"
     ]
    },
    {
     "name": "stdout",
     "output_type": "stream",
     "text": [
      "\":"
     ]
    },
    {
     "name": "stdout",
     "output_type": "stream",
     "text": [
      " \""
     ]
    },
    {
     "name": "stdout",
     "output_type": "stream",
     "text": [
      "SetUp"
     ]
    },
    {
     "name": "stdout",
     "output_type": "stream",
     "text": [
      "and"
     ]
    },
    {
     "name": "stdout",
     "output_type": "stream",
     "text": [
      "Run"
     ]
    },
    {
     "name": "stdout",
     "output_type": "stream",
     "text": [
      "Function"
     ]
    },
    {
     "name": "stdout",
     "output_type": "stream",
     "text": [
      "\",\n"
     ]
    },
    {
     "name": "stdout",
     "output_type": "stream",
     "text": [
      "   "
     ]
    },
    {
     "name": "stdout",
     "output_type": "stream",
     "text": [
      " \""
     ]
    },
    {
     "name": "stdout",
     "output_type": "stream",
     "text": [
      "action"
     ]
    },
    {
     "name": "stdout",
     "output_type": "stream",
     "text": [
      "_input"
     ]
    },
    {
     "name": "stdout",
     "output_type": "stream",
     "text": [
      "\":"
     ]
    },
    {
     "name": "stdout",
     "output_type": "stream",
     "text": [
      " {\n"
     ]
    },
    {
     "name": "stdout",
     "output_type": "stream",
     "text": [
      "       "
     ]
    },
    {
     "name": "stdout",
     "output_type": "stream",
     "text": [
      " \""
     ]
    },
    {
     "name": "stdout",
     "output_type": "stream",
     "text": [
      "pdb"
     ]
    },
    {
     "name": "stdout",
     "output_type": "stream",
     "text": [
      "_id"
     ]
    },
    {
     "name": "stdout",
     "output_type": "stream",
     "text": [
      "\":"
     ]
    },
    {
     "name": "stdout",
     "output_type": "stream",
     "text": [
      " \""
     ]
    },
    {
     "name": "stdout",
     "output_type": "stream",
     "text": [
      "1"
     ]
    },
    {
     "name": "stdout",
     "output_type": "stream",
     "text": [
      "A"
     ]
    },
    {
     "name": "stdout",
     "output_type": "stream",
     "text": [
      "3"
     ]
    },
    {
     "name": "stdout",
     "output_type": "stream",
     "text": [
      "N"
     ]
    },
    {
     "name": "stdout",
     "output_type": "stream",
     "text": [
      "\",\n"
     ]
    },
    {
     "name": "stdout",
     "output_type": "stream",
     "text": [
      "       "
     ]
    },
    {
     "name": "stdout",
     "output_type": "stream",
     "text": [
      " \""
     ]
    },
    {
     "name": "stdout",
     "output_type": "stream",
     "text": [
      "force"
     ]
    },
    {
     "name": "stdout",
     "output_type": "stream",
     "text": [
      "field"
     ]
    },
    {
     "name": "stdout",
     "output_type": "stream",
     "text": [
      "_files"
     ]
    },
    {
     "name": "stdout",
     "output_type": "stream",
     "text": [
      "\":"
     ]
    },
    {
     "name": "stdout",
     "output_type": "stream",
     "text": [
      " [\""
     ]
    },
    {
     "name": "stdout",
     "output_type": "stream",
     "text": [
      "amber"
     ]
    },
    {
     "name": "stdout",
     "output_type": "stream",
     "text": [
      "14"
     ]
    },
    {
     "name": "stdout",
     "output_type": "stream",
     "text": [
      "-all"
     ]
    },
    {
     "name": "stdout",
     "output_type": "stream",
     "text": [
      "\"],\n"
     ]
    },
    {
     "name": "stdout",
     "output_type": "stream",
     "text": [
      "       "
     ]
    },
    {
     "name": "stdout",
     "output_type": "stream",
     "text": [
      " \""
     ]
    },
    {
     "name": "stdout",
     "output_type": "stream",
     "text": [
      "system"
     ]
    },
    {
     "name": "stdout",
     "output_type": "stream",
     "text": [
      "_params"
     ]
    },
    {
     "name": "stdout",
     "output_type": "stream",
     "text": [
      "\":"
     ]
    },
    {
     "name": "stdout",
     "output_type": "stream",
     "text": [
      " {\n"
     ]
    },
    {
     "name": "stdout",
     "output_type": "stream",
     "text": [
      "           "
     ]
    },
    {
     "name": "stdout",
     "output_type": "stream",
     "text": [
      " \""
     ]
    },
    {
     "name": "stdout",
     "output_type": "stream",
     "text": [
      "non"
     ]
    },
    {
     "name": "stdout",
     "output_type": "stream",
     "text": [
      "bond"
     ]
    },
    {
     "name": "stdout",
     "output_type": "stream",
     "text": [
      "ed"
     ]
    },
    {
     "name": "stdout",
     "output_type": "stream",
     "text": [
      "Method"
     ]
    },
    {
     "name": "stdout",
     "output_type": "stream",
     "text": [
      "\":"
     ]
    },
    {
     "name": "stdout",
     "output_type": "stream",
     "text": [
      " \""
     ]
    },
    {
     "name": "stdout",
     "output_type": "stream",
     "text": [
      "P"
     ]
    },
    {
     "name": "stdout",
     "output_type": "stream",
     "text": [
      "ME"
     ]
    },
    {
     "name": "stdout",
     "output_type": "stream",
     "text": [
      "\",\n"
     ]
    },
    {
     "name": "stdout",
     "output_type": "stream",
     "text": [
      "           "
     ]
    },
    {
     "name": "stdout",
     "output_type": "stream",
     "text": [
      " \""
     ]
    },
    {
     "name": "stdout",
     "output_type": "stream",
     "text": [
      "non"
     ]
    },
    {
     "name": "stdout",
     "output_type": "stream",
     "text": [
      "bond"
     ]
    },
    {
     "name": "stdout",
     "output_type": "stream",
     "text": [
      "ed"
     ]
    },
    {
     "name": "stdout",
     "output_type": "stream",
     "text": [
      "C"
     ]
    },
    {
     "name": "stdout",
     "output_type": "stream",
     "text": [
      "utoff"
     ]
    },
    {
     "name": "stdout",
     "output_type": "stream",
     "text": [
      "\":"
     ]
    },
    {
     "name": "stdout",
     "output_type": "stream",
     "text": [
      " \""
     ]
    },
    {
     "name": "stdout",
     "output_type": "stream",
     "text": [
      "1"
     ]
    },
    {
     "name": "stdout",
     "output_type": "stream",
     "text": [
      "."
     ]
    },
    {
     "name": "stdout",
     "output_type": "stream",
     "text": [
      "0"
     ]
    },
    {
     "name": "stdout",
     "output_type": "stream",
     "text": [
      " *"
     ]
    },
    {
     "name": "stdout",
     "output_type": "stream",
     "text": [
      " nan"
     ]
    },
    {
     "name": "stdout",
     "output_type": "stream",
     "text": [
      "ometers"
     ]
    },
    {
     "name": "stdout",
     "output_type": "stream",
     "text": [
      "\",\n"
     ]
    },
    {
     "name": "stdout",
     "output_type": "stream",
     "text": [
      "           "
     ]
    },
    {
     "name": "stdout",
     "output_type": "stream",
     "text": [
      " \""
     ]
    },
    {
     "name": "stdout",
     "output_type": "stream",
     "text": [
      "constraints"
     ]
    },
    {
     "name": "stdout",
     "output_type": "stream",
     "text": [
      "\":"
     ]
    },
    {
     "name": "stdout",
     "output_type": "stream",
     "text": [
      " \""
     ]
    },
    {
     "name": "stdout",
     "output_type": "stream",
     "text": [
      "HB"
     ]
    },
    {
     "name": "stdout",
     "output_type": "stream",
     "text": [
      "onds"
     ]
    },
    {
     "name": "stdout",
     "output_type": "stream",
     "text": [
      "\",\n"
     ]
    },
    {
     "name": "stdout",
     "output_type": "stream",
     "text": [
      "           "
     ]
    },
    {
     "name": "stdout",
     "output_type": "stream",
     "text": [
      " \""
     ]
    },
    {
     "name": "stdout",
     "output_type": "stream",
     "text": [
      "rig"
     ]
    },
    {
     "name": "stdout",
     "output_type": "stream",
     "text": [
      "id"
     ]
    },
    {
     "name": "stdout",
     "output_type": "stream",
     "text": [
      "Water"
     ]
    },
    {
     "name": "stdout",
     "output_type": "stream",
     "text": [
      "\":"
     ]
    },
    {
     "name": "stdout",
     "output_type": "stream",
     "text": [
      " true"
     ]
    },
    {
     "name": "stdout",
     "output_type": "stream",
     "text": [
      ",\n"
     ]
    },
    {
     "name": "stdout",
     "output_type": "stream",
     "text": [
      "           "
     ]
    },
    {
     "name": "stdout",
     "output_type": "stream",
     "text": [
      " \""
     ]
    },
    {
     "name": "stdout",
     "output_type": "stream",
     "text": [
      "s"
     ]
    },
    {
     "name": "stdout",
     "output_type": "stream",
     "text": [
      "olv"
     ]
    },
    {
     "name": "stdout",
     "output_type": "stream",
     "text": [
      "ate"
     ]
    },
    {
     "name": "stdout",
     "output_type": "stream",
     "text": [
      "\":"
     ]
    },
    {
     "name": "stdout",
     "output_type": "stream",
     "text": [
      " true"
     ]
    },
    {
     "name": "stdout",
     "output_type": "stream",
     "text": [
      ",\n"
     ]
    },
    {
     "name": "stdout",
     "output_type": "stream",
     "text": [
      "           "
     ]
    },
    {
     "name": "stdout",
     "output_type": "stream",
     "text": [
      " \""
     ]
    },
    {
     "name": "stdout",
     "output_type": "stream",
     "text": [
      "constraint"
     ]
    },
    {
     "name": "stdout",
     "output_type": "stream",
     "text": [
      "T"
     ]
    },
    {
     "name": "stdout",
     "output_type": "stream",
     "text": [
      "olerance"
     ]
    },
    {
     "name": "stdout",
     "output_type": "stream",
     "text": [
      "\":"
     ]
    },
    {
     "name": "stdout",
     "output_type": "stream",
     "text": [
      " \""
     ]
    },
    {
     "name": "stdout",
     "output_type": "stream",
     "text": [
      "0"
     ]
    },
    {
     "name": "stdout",
     "output_type": "stream",
     "text": [
      "."
     ]
    },
    {
     "name": "stdout",
     "output_type": "stream",
     "text": [
      "000"
     ]
    },
    {
     "name": "stdout",
     "output_type": "stream",
     "text": [
      "01"
     ]
    },
    {
     "name": "stdout",
     "output_type": "stream",
     "text": [
      "\"\n"
     ]
    },
    {
     "name": "stdout",
     "output_type": "stream",
     "text": [
      "       "
     ]
    },
    {
     "name": "stdout",
     "output_type": "stream",
     "text": [
      " },\n"
     ]
    },
    {
     "name": "stdout",
     "output_type": "stream",
     "text": [
      "       "
     ]
    },
    {
     "name": "stdout",
     "output_type": "stream",
     "text": [
      " \""
     ]
    },
    {
     "name": "stdout",
     "output_type": "stream",
     "text": [
      "integr"
     ]
    },
    {
     "name": "stdout",
     "output_type": "stream",
     "text": [
      "ator"
     ]
    },
    {
     "name": "stdout",
     "output_type": "stream",
     "text": [
      "_params"
     ]
    },
    {
     "name": "stdout",
     "output_type": "stream",
     "text": [
      "\":"
     ]
    },
    {
     "name": "stdout",
     "output_type": "stream",
     "text": [
      " {\n"
     ]
    },
    {
     "name": "stdout",
     "output_type": "stream",
     "text": [
      "           "
     ]
    },
    {
     "name": "stdout",
     "output_type": "stream",
     "text": [
      " \""
     ]
    },
    {
     "name": "stdout",
     "output_type": "stream",
     "text": [
      "integr"
     ]
    },
    {
     "name": "stdout",
     "output_type": "stream",
     "text": [
      "ator"
     ]
    },
    {
     "name": "stdout",
     "output_type": "stream",
     "text": [
      "_type"
     ]
    },
    {
     "name": "stdout",
     "output_type": "stream",
     "text": [
      "\":"
     ]
    },
    {
     "name": "stdout",
     "output_type": "stream",
     "text": [
      " \""
     ]
    },
    {
     "name": "stdout",
     "output_type": "stream",
     "text": [
      "L"
     ]
    },
    {
     "name": "stdout",
     "output_type": "stream",
     "text": [
      "ange"
     ]
    },
    {
     "name": "stdout",
     "output_type": "stream",
     "text": [
      "vin"
     ]
    },
    {
     "name": "stdout",
     "output_type": "stream",
     "text": [
      "Middle"
     ]
    },
    {
     "name": "stdout",
     "output_type": "stream",
     "text": [
      "\",\n"
     ]
    },
    {
     "name": "stdout",
     "output_type": "stream",
     "text": [
      "           "
     ]
    },
    {
     "name": "stdout",
     "output_type": "stream",
     "text": [
      " \""
     ]
    },
    {
     "name": "stdout",
     "output_type": "stream",
     "text": [
      "Temperature"
     ]
    },
    {
     "name": "stdout",
     "output_type": "stream",
     "text": [
      "\":"
     ]
    },
    {
     "name": "stdout",
     "output_type": "stream",
     "text": [
      " \""
     ]
    },
    {
     "name": "stdout",
     "output_type": "stream",
     "text": [
      "300"
     ]
    },
    {
     "name": "stdout",
     "output_type": "stream",
     "text": [
      " *"
     ]
    },
    {
     "name": "stdout",
     "output_type": "stream",
     "text": [
      " kel"
     ]
    },
    {
     "name": "stdout",
     "output_type": "stream",
     "text": [
      "vin"
     ]
    },
    {
     "name": "stdout",
     "output_type": "stream",
     "text": [
      "\",\n"
     ]
    },
    {
     "name": "stdout",
     "output_type": "stream",
     "text": [
      "           "
     ]
    },
    {
     "name": "stdout",
     "output_type": "stream",
     "text": [
      " \""
     ]
    },
    {
     "name": "stdout",
     "output_type": "stream",
     "text": [
      "Fr"
     ]
    },
    {
     "name": "stdout",
     "output_type": "stream",
     "text": [
      "iction"
     ]
    },
    {
     "name": "stdout",
     "output_type": "stream",
     "text": [
      "\":"
     ]
    },
    {
     "name": "stdout",
     "output_type": "stream",
     "text": [
      " \""
     ]
    },
    {
     "name": "stdout",
     "output_type": "stream",
     "text": [
      "1"
     ]
    },
    {
     "name": "stdout",
     "output_type": "stream",
     "text": [
      "."
     ]
    },
    {
     "name": "stdout",
     "output_type": "stream",
     "text": [
      "0"
     ]
    },
    {
     "name": "stdout",
     "output_type": "stream",
     "text": [
      " /"
     ]
    },
    {
     "name": "stdout",
     "output_type": "stream",
     "text": [
      " pic"
     ]
    },
    {
     "name": "stdout",
     "output_type": "stream",
     "text": [
      "oseconds"
     ]
    },
    {
     "name": "stdout",
     "output_type": "stream",
     "text": [
      "\",\n"
     ]
    },
    {
     "name": "stdout",
     "output_type": "stream",
     "text": [
      "           "
     ]
    },
    {
     "name": "stdout",
     "output_type": "stream",
     "text": [
      " \""
     ]
    },
    {
     "name": "stdout",
     "output_type": "stream",
     "text": [
      "T"
     ]
    },
    {
     "name": "stdout",
     "output_type": "stream",
     "text": [
      "imestep"
     ]
    },
    {
     "name": "stdout",
     "output_type": "stream",
     "text": [
      "\":"
     ]
    },
    {
     "name": "stdout",
     "output_type": "stream",
     "text": [
      " \""
     ]
    },
    {
     "name": "stdout",
     "output_type": "stream",
     "text": [
      "0"
     ]
    },
    {
     "name": "stdout",
     "output_type": "stream",
     "text": [
      "."
     ]
    },
    {
     "name": "stdout",
     "output_type": "stream",
     "text": [
      "002"
     ]
    },
    {
     "name": "stdout",
     "output_type": "stream",
     "text": [
      " *"
     ]
    },
    {
     "name": "stdout",
     "output_type": "stream",
     "text": [
      " pic"
     ]
    },
    {
     "name": "stdout",
     "output_type": "stream",
     "text": [
      "oseconds"
     ]
    },
    {
     "name": "stdout",
     "output_type": "stream",
     "text": [
      "\"\n"
     ]
    },
    {
     "name": "stdout",
     "output_type": "stream",
     "text": [
      "       "
     ]
    },
    {
     "name": "stdout",
     "output_type": "stream",
     "text": [
      " },\n"
     ]
    },
    {
     "name": "stdout",
     "output_type": "stream",
     "text": [
      "       "
     ]
    },
    {
     "name": "stdout",
     "output_type": "stream",
     "text": [
      " \""
     ]
    },
    {
     "name": "stdout",
     "output_type": "stream",
     "text": [
      "simulation"
     ]
    },
    {
     "name": "stdout",
     "output_type": "stream",
     "text": [
      "_params"
     ]
    },
    {
     "name": "stdout",
     "output_type": "stream",
     "text": [
      "\":"
     ]
    },
    {
     "name": "stdout",
     "output_type": "stream",
     "text": [
      " {\n"
     ]
    },
    {
     "name": "stdout",
     "output_type": "stream",
     "text": [
      "           "
     ]
    },
    {
     "name": "stdout",
     "output_type": "stream",
     "text": [
      " \""
     ]
    },
    {
     "name": "stdout",
     "output_type": "stream",
     "text": [
      "En"
     ]
    },
    {
     "name": "stdout",
     "output_type": "stream",
     "text": [
      "semble"
     ]
    },
    {
     "name": "stdout",
     "output_type": "stream",
     "text": [
      "\":"
     ]
    },
    {
     "name": "stdout",
     "output_type": "stream",
     "text": [
      " \""
     ]
    },
    {
     "name": "stdout",
     "output_type": "stream",
     "text": [
      "N"
     ]
    },
    {
     "name": "stdout",
     "output_type": "stream",
     "text": [
      "VT"
     ]
    },
    {
     "name": "stdout",
     "output_type": "stream",
     "text": [
      "\",\n"
     ]
    },
    {
     "name": "stdout",
     "output_type": "stream",
     "text": [
      "           "
     ]
    },
    {
     "name": "stdout",
     "output_type": "stream",
     "text": [
      " \""
     ]
    },
    {
     "name": "stdout",
     "output_type": "stream",
     "text": [
      "Number"
     ]
    },
    {
     "name": "stdout",
     "output_type": "stream",
     "text": [
      " of"
     ]
    },
    {
     "name": "stdout",
     "output_type": "stream",
     "text": [
      " Steps"
     ]
    },
    {
     "name": "stdout",
     "output_type": "stream",
     "text": [
      "\":"
     ]
    },
    {
     "name": "stdout",
     "output_type": "stream",
     "text": [
      " "
     ]
    },
    {
     "name": "stdout",
     "output_type": "stream",
     "text": [
      "500"
     ]
    },
    {
     "name": "stdout",
     "output_type": "stream",
     "text": [
      "00"
     ]
    },
    {
     "name": "stdout",
     "output_type": "stream",
     "text": [
      ",\n"
     ]
    },
    {
     "name": "stdout",
     "output_type": "stream",
     "text": [
      "           "
     ]
    },
    {
     "name": "stdout",
     "output_type": "stream",
     "text": [
      " \""
     ]
    },
    {
     "name": "stdout",
     "output_type": "stream",
     "text": [
      "record"
     ]
    },
    {
     "name": "stdout",
     "output_type": "stream",
     "text": [
      "_interval"
     ]
    },
    {
     "name": "stdout",
     "output_type": "stream",
     "text": [
      "_steps"
     ]
    },
    {
     "name": "stdout",
     "output_type": "stream",
     "text": [
      "\":"
     ]
    },
    {
     "name": "stdout",
     "output_type": "stream",
     "text": [
      " "
     ]
    },
    {
     "name": "stdout",
     "output_type": "stream",
     "text": [
      "500"
     ]
    },
    {
     "name": "stdout",
     "output_type": "stream",
     "text": [
      ",\n"
     ]
    },
    {
     "name": "stdout",
     "output_type": "stream",
     "text": [
      "           "
     ]
    },
    {
     "name": "stdout",
     "output_type": "stream",
     "text": [
      " \""
     ]
    },
    {
     "name": "stdout",
     "output_type": "stream",
     "text": [
      "record"
     ]
    },
    {
     "name": "stdout",
     "output_type": "stream",
     "text": [
      "_params"
     ]
    },
    {
     "name": "stdout",
     "output_type": "stream",
     "text": [
      "\":"
     ]
    },
    {
     "name": "stdout",
     "output_type": "stream",
     "text": [
      " [\""
     ]
    },
    {
     "name": "stdout",
     "output_type": "stream",
     "text": [
      "step"
     ]
    },
    {
     "name": "stdout",
     "output_type": "stream",
     "text": [
      "\","
     ]
    },
    {
     "name": "stdout",
     "output_type": "stream",
     "text": [
      " \""
     ]
    },
    {
     "name": "stdout",
     "output_type": "stream",
     "text": [
      "potential"
     ]
    },
    {
     "name": "stdout",
     "output_type": "stream",
     "text": [
      "Energy"
     ]
    },
    {
     "name": "stdout",
     "output_type": "stream",
     "text": [
      "\","
     ]
    },
    {
     "name": "stdout",
     "output_type": "stream",
     "text": [
      " \""
     ]
    },
    {
     "name": "stdout",
     "output_type": "stream",
     "text": [
      "temperature"
     ]
    },
    {
     "name": "stdout",
     "output_type": "stream",
     "text": [
      "\"]\n"
     ]
    },
    {
     "name": "stdout",
     "output_type": "stream",
     "text": [
      "       "
     ]
    },
    {
     "name": "stdout",
     "output_type": "stream",
     "text": [
      " }\n"
     ]
    },
    {
     "name": "stdout",
     "output_type": "stream",
     "text": [
      "   "
     ]
    },
    {
     "name": "stdout",
     "output_type": "stream",
     "text": [
      " }\n"
     ]
    },
    {
     "name": "stdout",
     "output_type": "stream",
     "text": [
      "}\n"
     ]
    },
    {
     "name": "stdout",
     "output_type": "stream",
     "text": [
      "```"
     ]
    },
    {
     "name": "stdout",
     "output_type": "stream",
     "text": [
      "Setting default ewaldErrorTolerance: 0.0005 \n"
     ]
    },
    {
     "name": "stdout",
     "output_type": "stream",
     "text": [
      "To"
     ]
    },
    {
     "name": "stdout",
     "output_type": "stream",
     "text": [
      " successfully"
     ]
    },
    {
     "name": "stdout",
     "output_type": "stream",
     "text": [
      " simulate"
     ]
    },
    {
     "name": "stdout",
     "output_type": "stream",
     "text": [
      " de"
     ]
    },
    {
     "name": "stdout",
     "output_type": "stream",
     "text": [
      "o"
     ]
    },
    {
     "name": "stdout",
     "output_type": "stream",
     "text": [
      "xygen"
     ]
    },
    {
     "name": "stdout",
     "output_type": "stream",
     "text": [
      "ated"
     ]
    },
    {
     "name": "stdout",
     "output_type": "stream",
     "text": [
      " hem"
     ]
    },
    {
     "name": "stdout",
     "output_type": "stream",
     "text": [
      "oglobin"
     ]
    },
    {
     "name": "stdout",
     "output_type": "stream",
     "text": [
      " ("
     ]
    },
    {
     "name": "stdout",
     "output_type": "stream",
     "text": [
      "P"
     ]
    },
    {
     "name": "stdout",
     "output_type": "stream",
     "text": [
      "DB"
     ]
    },
    {
     "name": "stdout",
     "output_type": "stream",
     "text": [
      " ID"
     ]
    },
    {
     "name": "stdout",
     "output_type": "stream",
     "text": [
      ":"
     ]
    },
    {
     "name": "stdout",
     "output_type": "stream",
     "text": [
      " "
     ]
    },
    {
     "name": "stdout",
     "output_type": "stream",
     "text": [
      "1"
     ]
    },
    {
     "name": "stdout",
     "output_type": "stream",
     "text": [
      "A"
     ]
    },
    {
     "name": "stdout",
     "output_type": "stream",
     "text": [
      "3"
     ]
    },
    {
     "name": "stdout",
     "output_type": "stream",
     "text": [
      "N"
     ]
    },
    {
     "name": "stdout",
     "output_type": "stream",
     "text": [
      ")"
     ]
    },
    {
     "name": "stdout",
     "output_type": "stream",
     "text": [
      " and"
     ]
    },
    {
     "name": "stdout",
     "output_type": "stream",
     "text": [
      " oxygen"
     ]
    },
    {
     "name": "stdout",
     "output_type": "stream",
     "text": [
      "ated"
     ]
    },
    {
     "name": "stdout",
     "output_type": "stream",
     "text": [
      " hem"
     ]
    },
    {
     "name": "stdout",
     "output_type": "stream",
     "text": [
      "oglobin"
     ]
    },
    {
     "name": "stdout",
     "output_type": "stream",
     "text": [
      " ("
     ]
    },
    {
     "name": "stdout",
     "output_type": "stream",
     "text": [
      "P"
     ]
    },
    {
     "name": "stdout",
     "output_type": "stream",
     "text": [
      "DB"
     ]
    },
    {
     "name": "stdout",
     "output_type": "stream",
     "text": [
      " ID"
     ]
    },
    {
     "name": "stdout",
     "output_type": "stream",
     "text": [
      ":"
     ]
    },
    {
     "name": "stdout",
     "output_type": "stream",
     "text": [
      " "
     ]
    },
    {
     "name": "stdout",
     "output_type": "stream",
     "text": [
      "6"
     ]
    },
    {
     "name": "stdout",
     "output_type": "stream",
     "text": [
      "BB"
     ]
    },
    {
     "name": "stdout",
     "output_type": "stream",
     "text": [
      "5"
     ]
    },
    {
     "name": "stdout",
     "output_type": "stream",
     "text": [
      "),"
     ]
    },
    {
     "name": "stdout",
     "output_type": "stream",
     "text": [
      " I"
     ]
    },
    {
     "name": "stdout",
     "output_type": "stream",
     "text": [
      " need"
     ]
    },
    {
     "name": "stdout",
     "output_type": "stream",
     "text": [
      " to"
     ]
    },
    {
     "name": "stdout",
     "output_type": "stream",
     "text": [
      " first"
     ]
    },
    {
     "name": "stdout",
     "output_type": "stream",
     "text": [
      " download"
     ]
    },
    {
     "name": "stdout",
     "output_type": "stream",
     "text": [
      " the"
     ]
    },
    {
     "name": "stdout",
     "output_type": "stream",
     "text": [
      " P"
     ]
    },
    {
     "name": "stdout",
     "output_type": "stream",
     "text": [
      "DB"
     ]
    },
    {
     "name": "stdout",
     "output_type": "stream",
     "text": [
      " files"
     ]
    },
    {
     "name": "stdout",
     "output_type": "stream",
     "text": [
      " for"
     ]
    },
    {
     "name": "stdout",
     "output_type": "stream",
     "text": [
      " both"
     ]
    },
    {
     "name": "stdout",
     "output_type": "stream",
     "text": [
      " structures"
     ]
    },
    {
     "name": "stdout",
     "output_type": "stream",
     "text": [
      " using"
     ]
    },
    {
     "name": "stdout",
     "output_type": "stream",
     "text": [
      " their"
     ]
    },
    {
     "name": "stdout",
     "output_type": "stream",
     "text": [
      " P"
     ]
    },
    {
     "name": "stdout",
     "output_type": "stream",
     "text": [
      "DB"
     ]
    },
    {
     "name": "stdout",
     "output_type": "stream",
     "text": [
      " IDs"
     ]
    },
    {
     "name": "stdout",
     "output_type": "stream",
     "text": [
      "."
     ]
    },
    {
     "name": "stdout",
     "output_type": "stream",
     "text": [
      " After"
     ]
    },
    {
     "name": "stdout",
     "output_type": "stream",
     "text": [
      " obtaining"
     ]
    },
    {
     "name": "stdout",
     "output_type": "stream",
     "text": [
      " the"
     ]
    },
    {
     "name": "stdout",
     "output_type": "stream",
     "text": [
      " files"
     ]
    },
    {
     "name": "stdout",
     "output_type": "stream",
     "text": [
      ","
     ]
    },
    {
     "name": "stdout",
     "output_type": "stream",
     "text": [
      " I"
     ]
    },
    {
     "name": "stdout",
     "output_type": "stream",
     "text": [
      " will"
     ]
    },
    {
     "name": "stdout",
     "output_type": "stream",
     "text": [
      " proceed"
     ]
    },
    {
     "name": "stdout",
     "output_type": "stream",
     "text": [
      " with"
     ]
    },
    {
     "name": "stdout",
     "output_type": "stream",
     "text": [
      " setting"
     ]
    },
    {
     "name": "stdout",
     "output_type": "stream",
     "text": [
      " up"
     ]
    },
    {
     "name": "stdout",
     "output_type": "stream",
     "text": [
      " and"
     ]
    },
    {
     "name": "stdout",
     "output_type": "stream",
     "text": [
      " running"
     ]
    },
    {
     "name": "stdout",
     "output_type": "stream",
     "text": [
      " the"
     ]
    },
    {
     "name": "stdout",
     "output_type": "stream",
     "text": [
      " molecular"
     ]
    },
    {
     "name": "stdout",
     "output_type": "stream",
     "text": [
      " dynamics"
     ]
    },
    {
     "name": "stdout",
     "output_type": "stream",
     "text": [
      " simulations"
     ]
    },
    {
     "name": "stdout",
     "output_type": "stream",
     "text": [
      " using"
     ]
    },
    {
     "name": "stdout",
     "output_type": "stream",
     "text": [
      " a"
     ]
    },
    {
     "name": "stdout",
     "output_type": "stream",
     "text": [
      " valid"
     ]
    },
    {
     "name": "stdout",
     "output_type": "stream",
     "text": [
      " force"
     ]
    },
    {
     "name": "stdout",
     "output_type": "stream",
     "text": [
      "field"
     ]
    },
    {
     "name": "stdout",
     "output_type": "stream",
     "text": [
      ".\n",
      "\n"
     ]
    },
    {
     "name": "stdout",
     "output_type": "stream",
     "text": [
      "Action"
     ]
    },
    {
     "name": "stdout",
     "output_type": "stream",
     "text": [
      ":\n"
     ]
    },
    {
     "name": "stdout",
     "output_type": "stream",
     "text": [
      "```"
     ]
    },
    {
     "name": "stdout",
     "output_type": "stream",
     "text": [
      "json"
     ]
    },
    {
     "name": "stdout",
     "output_type": "stream",
     "text": [
      "\n"
     ]
    },
    {
     "name": "stdout",
     "output_type": "stream",
     "text": [
      "{\n"
     ]
    },
    {
     "name": "stdout",
     "output_type": "stream",
     "text": [
      "   "
     ]
    },
    {
     "name": "stdout",
     "output_type": "stream",
     "text": [
      " \""
     ]
    },
    {
     "name": "stdout",
     "output_type": "stream",
     "text": [
      "action"
     ]
    },
    {
     "name": "stdout",
     "output_type": "stream",
     "text": [
      "\":"
     ]
    },
    {
     "name": "stdout",
     "output_type": "stream",
     "text": [
      " \""
     ]
    },
    {
     "name": "stdout",
     "output_type": "stream",
     "text": [
      "P"
     ]
    },
    {
     "name": "stdout",
     "output_type": "stream",
     "text": [
      "DB"
     ]
    },
    {
     "name": "stdout",
     "output_type": "stream",
     "text": [
      "File"
     ]
    },
    {
     "name": "stdout",
     "output_type": "stream",
     "text": [
      "Downloader"
     ]
    },
    {
     "name": "stdout",
     "output_type": "stream",
     "text": [
      "\",\n"
     ]
    },
    {
     "name": "stdout",
     "output_type": "stream",
     "text": [
      "   "
     ]
    },
    {
     "name": "stdout",
     "output_type": "stream",
     "text": [
      " \""
     ]
    },
    {
     "name": "stdout",
     "output_type": "stream",
     "text": [
      "action"
     ]
    },
    {
     "name": "stdout",
     "output_type": "stream",
     "text": [
      "_input"
     ]
    },
    {
     "name": "stdout",
     "output_type": "stream",
     "text": [
      "\":"
     ]
    },
    {
     "name": "stdout",
     "output_type": "stream",
     "text": [
      " {\n"
     ]
    },
    {
     "name": "stdout",
     "output_type": "stream",
     "text": [
      "       "
     ]
    },
    {
     "name": "stdout",
     "output_type": "stream",
     "text": [
      " \""
     ]
    },
    {
     "name": "stdout",
     "output_type": "stream",
     "text": [
      "query"
     ]
    },
    {
     "name": "stdout",
     "output_type": "stream",
     "text": [
      "\":"
     ]
    },
    {
     "name": "stdout",
     "output_type": "stream",
     "text": [
      " \""
     ]
    },
    {
     "name": "stdout",
     "output_type": "stream",
     "text": [
      "1"
     ]
    },
    {
     "name": "stdout",
     "output_type": "stream",
     "text": [
      "A"
     ]
    },
    {
     "name": "stdout",
     "output_type": "stream",
     "text": [
      "3"
     ]
    },
    {
     "name": "stdout",
     "output_type": "stream",
     "text": [
      "N"
     ]
    },
    {
     "name": "stdout",
     "output_type": "stream",
     "text": [
      "\"\n"
     ]
    },
    {
     "name": "stdout",
     "output_type": "stream",
     "text": [
      "   "
     ]
    },
    {
     "name": "stdout",
     "output_type": "stream",
     "text": [
      " }\n"
     ]
    },
    {
     "name": "stdout",
     "output_type": "stream",
     "text": [
      "}\n"
     ]
    },
    {
     "name": "stdout",
     "output_type": "stream",
     "text": [
      "```"
     ]
    },
    {
     "name": "stdout",
     "output_type": "stream",
     "text": [
      "PDB file found with this ID: 1A3N\n"
     ]
    },
    {
     "name": "stdout",
     "output_type": "stream",
     "text": [
      "To"
     ]
    },
    {
     "name": "stdout",
     "output_type": "stream",
     "text": [
      " successfully"
     ]
    },
    {
     "name": "stdout",
     "output_type": "stream",
     "text": [
      " simulate"
     ]
    },
    {
     "name": "stdout",
     "output_type": "stream",
     "text": [
      " de"
     ]
    },
    {
     "name": "stdout",
     "output_type": "stream",
     "text": [
      "o"
     ]
    },
    {
     "name": "stdout",
     "output_type": "stream",
     "text": [
      "xygen"
     ]
    },
    {
     "name": "stdout",
     "output_type": "stream",
     "text": [
      "ated"
     ]
    },
    {
     "name": "stdout",
     "output_type": "stream",
     "text": [
      " hem"
     ]
    },
    {
     "name": "stdout",
     "output_type": "stream",
     "text": [
      "oglobin"
     ]
    },
    {
     "name": "stdout",
     "output_type": "stream",
     "text": [
      " ("
     ]
    },
    {
     "name": "stdout",
     "output_type": "stream",
     "text": [
      "P"
     ]
    },
    {
     "name": "stdout",
     "output_type": "stream",
     "text": [
      "DB"
     ]
    },
    {
     "name": "stdout",
     "output_type": "stream",
     "text": [
      " ID"
     ]
    },
    {
     "name": "stdout",
     "output_type": "stream",
     "text": [
      ":"
     ]
    },
    {
     "name": "stdout",
     "output_type": "stream",
     "text": [
      " "
     ]
    },
    {
     "name": "stdout",
     "output_type": "stream",
     "text": [
      "1"
     ]
    },
    {
     "name": "stdout",
     "output_type": "stream",
     "text": [
      "A"
     ]
    },
    {
     "name": "stdout",
     "output_type": "stream",
     "text": [
      "3"
     ]
    },
    {
     "name": "stdout",
     "output_type": "stream",
     "text": [
      "N"
     ]
    },
    {
     "name": "stdout",
     "output_type": "stream",
     "text": [
      ")"
     ]
    },
    {
     "name": "stdout",
     "output_type": "stream",
     "text": [
      " and"
     ]
    },
    {
     "name": "stdout",
     "output_type": "stream",
     "text": [
      " oxygen"
     ]
    },
    {
     "name": "stdout",
     "output_type": "stream",
     "text": [
      "ated"
     ]
    },
    {
     "name": "stdout",
     "output_type": "stream",
     "text": [
      " hem"
     ]
    },
    {
     "name": "stdout",
     "output_type": "stream",
     "text": [
      "oglobin"
     ]
    },
    {
     "name": "stdout",
     "output_type": "stream",
     "text": [
      " ("
     ]
    },
    {
     "name": "stdout",
     "output_type": "stream",
     "text": [
      "P"
     ]
    },
    {
     "name": "stdout",
     "output_type": "stream",
     "text": [
      "DB"
     ]
    },
    {
     "name": "stdout",
     "output_type": "stream",
     "text": [
      " ID"
     ]
    },
    {
     "name": "stdout",
     "output_type": "stream",
     "text": [
      ":"
     ]
    },
    {
     "name": "stdout",
     "output_type": "stream",
     "text": [
      " "
     ]
    },
    {
     "name": "stdout",
     "output_type": "stream",
     "text": [
      "6"
     ]
    },
    {
     "name": "stdout",
     "output_type": "stream",
     "text": [
      "BB"
     ]
    },
    {
     "name": "stdout",
     "output_type": "stream",
     "text": [
      "5"
     ]
    },
    {
     "name": "stdout",
     "output_type": "stream",
     "text": [
      "),"
     ]
    },
    {
     "name": "stdout",
     "output_type": "stream",
     "text": [
      " I"
     ]
    },
    {
     "name": "stdout",
     "output_type": "stream",
     "text": [
      " need"
     ]
    },
    {
     "name": "stdout",
     "output_type": "stream",
     "text": [
      " to"
     ]
    },
    {
     "name": "stdout",
     "output_type": "stream",
     "text": [
      " download"
     ]
    },
    {
     "name": "stdout",
     "output_type": "stream",
     "text": [
      " the"
     ]
    },
    {
     "name": "stdout",
     "output_type": "stream",
     "text": [
      " P"
     ]
    },
    {
     "name": "stdout",
     "output_type": "stream",
     "text": [
      "DB"
     ]
    },
    {
     "name": "stdout",
     "output_type": "stream",
     "text": [
      " file"
     ]
    },
    {
     "name": "stdout",
     "output_type": "stream",
     "text": [
      " for"
     ]
    },
    {
     "name": "stdout",
     "output_type": "stream",
     "text": [
      " the"
     ]
    },
    {
     "name": "stdout",
     "output_type": "stream",
     "text": [
      " oxygen"
     ]
    },
    {
     "name": "stdout",
     "output_type": "stream",
     "text": [
      "ated"
     ]
    },
    {
     "name": "stdout",
     "output_type": "stream",
     "text": [
      " hem"
     ]
    },
    {
     "name": "stdout",
     "output_type": "stream",
     "text": [
      "oglobin"
     ]
    },
    {
     "name": "stdout",
     "output_type": "stream",
     "text": [
      " as"
     ]
    },
    {
     "name": "stdout",
     "output_type": "stream",
     "text": [
      " well"
     ]
    },
    {
     "name": "stdout",
     "output_type": "stream",
     "text": [
      ","
     ]
    },
    {
     "name": "stdout",
     "output_type": "stream",
     "text": [
      " and"
     ]
    },
    {
     "name": "stdout",
     "output_type": "stream",
     "text": [
      " then"
     ]
    },
    {
     "name": "stdout",
     "output_type": "stream",
     "text": [
      " proceed"
     ]
    },
    {
     "name": "stdout",
     "output_type": "stream",
     "text": [
      " with"
     ]
    },
    {
     "name": "stdout",
     "output_type": "stream",
     "text": [
      " setting"
     ]
    },
    {
     "name": "stdout",
     "output_type": "stream",
     "text": [
      " up"
     ]
    },
    {
     "name": "stdout",
     "output_type": "stream",
     "text": [
      " and"
     ]
    },
    {
     "name": "stdout",
     "output_type": "stream",
     "text": [
      " running"
     ]
    },
    {
     "name": "stdout",
     "output_type": "stream",
     "text": [
      " the"
     ]
    },
    {
     "name": "stdout",
     "output_type": "stream",
     "text": [
      " molecular"
     ]
    },
    {
     "name": "stdout",
     "output_type": "stream",
     "text": [
      " dynamics"
     ]
    },
    {
     "name": "stdout",
     "output_type": "stream",
     "text": [
      " simulations"
     ]
    },
    {
     "name": "stdout",
     "output_type": "stream",
     "text": [
      " using"
     ]
    },
    {
     "name": "stdout",
     "output_type": "stream",
     "text": [
      " a"
     ]
    },
    {
     "name": "stdout",
     "output_type": "stream",
     "text": [
      " valid"
     ]
    },
    {
     "name": "stdout",
     "output_type": "stream",
     "text": [
      " force"
     ]
    },
    {
     "name": "stdout",
     "output_type": "stream",
     "text": [
      "field"
     ]
    },
    {
     "name": "stdout",
     "output_type": "stream",
     "text": [
      ".\n",
      "\n"
     ]
    },
    {
     "name": "stdout",
     "output_type": "stream",
     "text": [
      "Action"
     ]
    },
    {
     "name": "stdout",
     "output_type": "stream",
     "text": [
      ":\n"
     ]
    },
    {
     "name": "stdout",
     "output_type": "stream",
     "text": [
      "```"
     ]
    },
    {
     "name": "stdout",
     "output_type": "stream",
     "text": [
      "json"
     ]
    },
    {
     "name": "stdout",
     "output_type": "stream",
     "text": [
      "\n"
     ]
    },
    {
     "name": "stdout",
     "output_type": "stream",
     "text": [
      "{\n"
     ]
    },
    {
     "name": "stdout",
     "output_type": "stream",
     "text": [
      "   "
     ]
    },
    {
     "name": "stdout",
     "output_type": "stream",
     "text": [
      " \""
     ]
    },
    {
     "name": "stdout",
     "output_type": "stream",
     "text": [
      "action"
     ]
    },
    {
     "name": "stdout",
     "output_type": "stream",
     "text": [
      "\":"
     ]
    },
    {
     "name": "stdout",
     "output_type": "stream",
     "text": [
      " \""
     ]
    },
    {
     "name": "stdout",
     "output_type": "stream",
     "text": [
      "P"
     ]
    },
    {
     "name": "stdout",
     "output_type": "stream",
     "text": [
      "DB"
     ]
    },
    {
     "name": "stdout",
     "output_type": "stream",
     "text": [
      "File"
     ]
    },
    {
     "name": "stdout",
     "output_type": "stream",
     "text": [
      "Downloader"
     ]
    },
    {
     "name": "stdout",
     "output_type": "stream",
     "text": [
      "\",\n"
     ]
    },
    {
     "name": "stdout",
     "output_type": "stream",
     "text": [
      "   "
     ]
    },
    {
     "name": "stdout",
     "output_type": "stream",
     "text": [
      " \""
     ]
    },
    {
     "name": "stdout",
     "output_type": "stream",
     "text": [
      "action"
     ]
    },
    {
     "name": "stdout",
     "output_type": "stream",
     "text": [
      "_input"
     ]
    },
    {
     "name": "stdout",
     "output_type": "stream",
     "text": [
      "\":"
     ]
    },
    {
     "name": "stdout",
     "output_type": "stream",
     "text": [
      " {\n"
     ]
    },
    {
     "name": "stdout",
     "output_type": "stream",
     "text": [
      "       "
     ]
    },
    {
     "name": "stdout",
     "output_type": "stream",
     "text": [
      " \""
     ]
    },
    {
     "name": "stdout",
     "output_type": "stream",
     "text": [
      "query"
     ]
    },
    {
     "name": "stdout",
     "output_type": "stream",
     "text": [
      "\":"
     ]
    },
    {
     "name": "stdout",
     "output_type": "stream",
     "text": [
      " \""
     ]
    },
    {
     "name": "stdout",
     "output_type": "stream",
     "text": [
      "6"
     ]
    },
    {
     "name": "stdout",
     "output_type": "stream",
     "text": [
      "BB"
     ]
    },
    {
     "name": "stdout",
     "output_type": "stream",
     "text": [
      "5"
     ]
    },
    {
     "name": "stdout",
     "output_type": "stream",
     "text": [
      "\"\n"
     ]
    },
    {
     "name": "stdout",
     "output_type": "stream",
     "text": [
      "   "
     ]
    },
    {
     "name": "stdout",
     "output_type": "stream",
     "text": [
      " }\n"
     ]
    },
    {
     "name": "stdout",
     "output_type": "stream",
     "text": [
      "}\n"
     ]
    },
    {
     "name": "stdout",
     "output_type": "stream",
     "text": [
      "```"
     ]
    },
    {
     "name": "stdout",
     "output_type": "stream",
     "text": [
      "PDB file found with this ID: 6BB5\n"
     ]
    },
    {
     "name": "stdout",
     "output_type": "stream",
     "text": [
      "To"
     ]
    },
    {
     "name": "stdout",
     "output_type": "stream",
     "text": [
      " successfully"
     ]
    },
    {
     "name": "stdout",
     "output_type": "stream",
     "text": [
      " simulate"
     ]
    },
    {
     "name": "stdout",
     "output_type": "stream",
     "text": [
      " de"
     ]
    },
    {
     "name": "stdout",
     "output_type": "stream",
     "text": [
      "o"
     ]
    },
    {
     "name": "stdout",
     "output_type": "stream",
     "text": [
      "xygen"
     ]
    },
    {
     "name": "stdout",
     "output_type": "stream",
     "text": [
      "ated"
     ]
    },
    {
     "name": "stdout",
     "output_type": "stream",
     "text": [
      " hem"
     ]
    },
    {
     "name": "stdout",
     "output_type": "stream",
     "text": [
      "oglobin"
     ]
    },
    {
     "name": "stdout",
     "output_type": "stream",
     "text": [
      " ("
     ]
    },
    {
     "name": "stdout",
     "output_type": "stream",
     "text": [
      "P"
     ]
    },
    {
     "name": "stdout",
     "output_type": "stream",
     "text": [
      "DB"
     ]
    },
    {
     "name": "stdout",
     "output_type": "stream",
     "text": [
      " ID"
     ]
    },
    {
     "name": "stdout",
     "output_type": "stream",
     "text": [
      ":"
     ]
    },
    {
     "name": "stdout",
     "output_type": "stream",
     "text": [
      " "
     ]
    },
    {
     "name": "stdout",
     "output_type": "stream",
     "text": [
      "1"
     ]
    },
    {
     "name": "stdout",
     "output_type": "stream",
     "text": [
      "A"
     ]
    },
    {
     "name": "stdout",
     "output_type": "stream",
     "text": [
      "3"
     ]
    },
    {
     "name": "stdout",
     "output_type": "stream",
     "text": [
      "N"
     ]
    },
    {
     "name": "stdout",
     "output_type": "stream",
     "text": [
      ")"
     ]
    },
    {
     "name": "stdout",
     "output_type": "stream",
     "text": [
      " and"
     ]
    },
    {
     "name": "stdout",
     "output_type": "stream",
     "text": [
      " oxygen"
     ]
    },
    {
     "name": "stdout",
     "output_type": "stream",
     "text": [
      "ated"
     ]
    },
    {
     "name": "stdout",
     "output_type": "stream",
     "text": [
      " hem"
     ]
    },
    {
     "name": "stdout",
     "output_type": "stream",
     "text": [
      "oglobin"
     ]
    },
    {
     "name": "stdout",
     "output_type": "stream",
     "text": [
      " ("
     ]
    },
    {
     "name": "stdout",
     "output_type": "stream",
     "text": [
      "P"
     ]
    },
    {
     "name": "stdout",
     "output_type": "stream",
     "text": [
      "DB"
     ]
    },
    {
     "name": "stdout",
     "output_type": "stream",
     "text": [
      " ID"
     ]
    },
    {
     "name": "stdout",
     "output_type": "stream",
     "text": [
      ":"
     ]
    },
    {
     "name": "stdout",
     "output_type": "stream",
     "text": [
      " "
     ]
    },
    {
     "name": "stdout",
     "output_type": "stream",
     "text": [
      "6"
     ]
    },
    {
     "name": "stdout",
     "output_type": "stream",
     "text": [
      "BB"
     ]
    },
    {
     "name": "stdout",
     "output_type": "stream",
     "text": [
      "5"
     ]
    },
    {
     "name": "stdout",
     "output_type": "stream",
     "text": [
      "),"
     ]
    },
    {
     "name": "stdout",
     "output_type": "stream",
     "text": [
      " I"
     ]
    },
    {
     "name": "stdout",
     "output_type": "stream",
     "text": [
      " now"
     ]
    },
    {
     "name": "stdout",
     "output_type": "stream",
     "text": [
      " have"
     ]
    },
    {
     "name": "stdout",
     "output_type": "stream",
     "text": [
      " the"
     ]
    },
    {
     "name": "stdout",
     "output_type": "stream",
     "text": [
      " downloaded"
     ]
    },
    {
     "name": "stdout",
     "output_type": "stream",
     "text": [
      " P"
     ]
    },
    {
     "name": "stdout",
     "output_type": "stream",
     "text": [
      "DB"
     ]
    },
    {
     "name": "stdout",
     "output_type": "stream",
     "text": [
      " files"
     ]
    },
    {
     "name": "stdout",
     "output_type": "stream",
     "text": [
      " for"
     ]
    },
    {
     "name": "stdout",
     "output_type": "stream",
     "text": [
      " both"
     ]
    },
    {
     "name": "stdout",
     "output_type": "stream",
     "text": [
      " structures"
     ]
    },
    {
     "name": "stdout",
     "output_type": "stream",
     "text": [
      "."
     ]
    },
    {
     "name": "stdout",
     "output_type": "stream",
     "text": [
      " Next"
     ]
    },
    {
     "name": "stdout",
     "output_type": "stream",
     "text": [
      ","
     ]
    },
    {
     "name": "stdout",
     "output_type": "stream",
     "text": [
      " I"
     ]
    },
    {
     "name": "stdout",
     "output_type": "stream",
     "text": [
      " will"
     ]
    },
    {
     "name": "stdout",
     "output_type": "stream",
     "text": [
      " set"
     ]
    },
    {
     "name": "stdout",
     "output_type": "stream",
     "text": [
      " up"
     ]
    },
    {
     "name": "stdout",
     "output_type": "stream",
     "text": [
      " and"
     ]
    },
    {
     "name": "stdout",
     "output_type": "stream",
     "text": [
      " run"
     ]
    },
    {
     "name": "stdout",
     "output_type": "stream",
     "text": [
      " molecular"
     ]
    },
    {
     "name": "stdout",
     "output_type": "stream",
     "text": [
      " dynamics"
     ]
    },
    {
     "name": "stdout",
     "output_type": "stream",
     "text": [
      " simulations"
     ]
    },
    {
     "name": "stdout",
     "output_type": "stream",
     "text": [
      " for"
     ]
    },
    {
     "name": "stdout",
     "output_type": "stream",
     "text": [
      " both"
     ]
    },
    {
     "name": "stdout",
     "output_type": "stream",
     "text": [
      " structures"
     ]
    },
    {
     "name": "stdout",
     "output_type": "stream",
     "text": [
      " using"
     ]
    },
    {
     "name": "stdout",
     "output_type": "stream",
     "text": [
      " a"
     ]
    },
    {
     "name": "stdout",
     "output_type": "stream",
     "text": [
      " valid"
     ]
    },
    {
     "name": "stdout",
     "output_type": "stream",
     "text": [
      " force"
     ]
    },
    {
     "name": "stdout",
     "output_type": "stream",
     "text": [
      "field"
     ]
    },
    {
     "name": "stdout",
     "output_type": "stream",
     "text": [
      " and"
     ]
    },
    {
     "name": "stdout",
     "output_type": "stream",
     "text": [
      " the"
     ]
    },
    {
     "name": "stdout",
     "output_type": "stream",
     "text": [
      " correct"
     ]
    },
    {
     "name": "stdout",
     "output_type": "stream",
     "text": [
      " file"
     ]
    },
    {
     "name": "stdout",
     "output_type": "stream",
     "text": [
      " IDs"
     ]
    },
    {
     "name": "stdout",
     "output_type": "stream",
     "text": [
      " obtained"
     ]
    },
    {
     "name": "stdout",
     "output_type": "stream",
     "text": [
      " from"
     ]
    },
    {
     "name": "stdout",
     "output_type": "stream",
     "text": [
      " the"
     ]
    },
    {
     "name": "stdout",
     "output_type": "stream",
     "text": [
      " downloads"
     ]
    },
    {
     "name": "stdout",
     "output_type": "stream",
     "text": [
      ".\n",
      "\n"
     ]
    },
    {
     "name": "stdout",
     "output_type": "stream",
     "text": [
      "Action"
     ]
    },
    {
     "name": "stdout",
     "output_type": "stream",
     "text": [
      ":\n"
     ]
    },
    {
     "name": "stdout",
     "output_type": "stream",
     "text": [
      "```"
     ]
    },
    {
     "name": "stdout",
     "output_type": "stream",
     "text": [
      "json"
     ]
    },
    {
     "name": "stdout",
     "output_type": "stream",
     "text": [
      "\n"
     ]
    },
    {
     "name": "stdout",
     "output_type": "stream",
     "text": [
      "{\n"
     ]
    },
    {
     "name": "stdout",
     "output_type": "stream",
     "text": [
      "   "
     ]
    },
    {
     "name": "stdout",
     "output_type": "stream",
     "text": [
      " \""
     ]
    },
    {
     "name": "stdout",
     "output_type": "stream",
     "text": [
      "action"
     ]
    },
    {
     "name": "stdout",
     "output_type": "stream",
     "text": [
      "\":"
     ]
    },
    {
     "name": "stdout",
     "output_type": "stream",
     "text": [
      " \""
     ]
    },
    {
     "name": "stdout",
     "output_type": "stream",
     "text": [
      "SetUp"
     ]
    },
    {
     "name": "stdout",
     "output_type": "stream",
     "text": [
      "and"
     ]
    },
    {
     "name": "stdout",
     "output_type": "stream",
     "text": [
      "Run"
     ]
    },
    {
     "name": "stdout",
     "output_type": "stream",
     "text": [
      "Function"
     ]
    },
    {
     "name": "stdout",
     "output_type": "stream",
     "text": [
      "\",\n"
     ]
    },
    {
     "name": "stdout",
     "output_type": "stream",
     "text": [
      "   "
     ]
    },
    {
     "name": "stdout",
     "output_type": "stream",
     "text": [
      " \""
     ]
    },
    {
     "name": "stdout",
     "output_type": "stream",
     "text": [
      "action"
     ]
    },
    {
     "name": "stdout",
     "output_type": "stream",
     "text": [
      "_input"
     ]
    },
    {
     "name": "stdout",
     "output_type": "stream",
     "text": [
      "\":"
     ]
    },
    {
     "name": "stdout",
     "output_type": "stream",
     "text": [
      " {\n"
     ]
    },
    {
     "name": "stdout",
     "output_type": "stream",
     "text": [
      "       "
     ]
    },
    {
     "name": "stdout",
     "output_type": "stream",
     "text": [
      " \""
     ]
    },
    {
     "name": "stdout",
     "output_type": "stream",
     "text": [
      "pdb"
     ]
    },
    {
     "name": "stdout",
     "output_type": "stream",
     "text": [
      "_id"
     ]
    },
    {
     "name": "stdout",
     "output_type": "stream",
     "text": [
      "\":"
     ]
    },
    {
     "name": "stdout",
     "output_type": "stream",
     "text": [
      " \""
     ]
    },
    {
     "name": "stdout",
     "output_type": "stream",
     "text": [
      "1"
     ]
    },
    {
     "name": "stdout",
     "output_type": "stream",
     "text": [
      "A"
     ]
    },
    {
     "name": "stdout",
     "output_type": "stream",
     "text": [
      "3"
     ]
    },
    {
     "name": "stdout",
     "output_type": "stream",
     "text": [
      "N"
     ]
    },
    {
     "name": "stdout",
     "output_type": "stream",
     "text": [
      "_"
     ]
    },
    {
     "name": "stdout",
     "output_type": "stream",
     "text": [
      "210"
     ]
    },
    {
     "name": "stdout",
     "output_type": "stream",
     "text": [
      "823"
     ]
    },
    {
     "name": "stdout",
     "output_type": "stream",
     "text": [
      "\",\n"
     ]
    },
    {
     "name": "stdout",
     "output_type": "stream",
     "text": [
      "       "
     ]
    },
    {
     "name": "stdout",
     "output_type": "stream",
     "text": [
      " \""
     ]
    },
    {
     "name": "stdout",
     "output_type": "stream",
     "text": [
      "force"
     ]
    },
    {
     "name": "stdout",
     "output_type": "stream",
     "text": [
      "field"
     ]
    },
    {
     "name": "stdout",
     "output_type": "stream",
     "text": [
      "_files"
     ]
    },
    {
     "name": "stdout",
     "output_type": "stream",
     "text": [
      "\":"
     ]
    },
    {
     "name": "stdout",
     "output_type": "stream",
     "text": [
      " [\""
     ]
    },
    {
     "name": "stdout",
     "output_type": "stream",
     "text": [
      "amber"
     ]
    },
    {
     "name": "stdout",
     "output_type": "stream",
     "text": [
      "14"
     ]
    },
    {
     "name": "stdout",
     "output_type": "stream",
     "text": [
      "-all"
     ]
    },
    {
     "name": "stdout",
     "output_type": "stream",
     "text": [
      "\"],\n"
     ]
    },
    {
     "name": "stdout",
     "output_type": "stream",
     "text": [
      "       "
     ]
    },
    {
     "name": "stdout",
     "output_type": "stream",
     "text": [
      " \""
     ]
    },
    {
     "name": "stdout",
     "output_type": "stream",
     "text": [
      "system"
     ]
    },
    {
     "name": "stdout",
     "output_type": "stream",
     "text": [
      "_params"
     ]
    },
    {
     "name": "stdout",
     "output_type": "stream",
     "text": [
      "\":"
     ]
    },
    {
     "name": "stdout",
     "output_type": "stream",
     "text": [
      " {\n"
     ]
    },
    {
     "name": "stdout",
     "output_type": "stream",
     "text": [
      "           "
     ]
    },
    {
     "name": "stdout",
     "output_type": "stream",
     "text": [
      " \""
     ]
    },
    {
     "name": "stdout",
     "output_type": "stream",
     "text": [
      "non"
     ]
    },
    {
     "name": "stdout",
     "output_type": "stream",
     "text": [
      "bond"
     ]
    },
    {
     "name": "stdout",
     "output_type": "stream",
     "text": [
      "ed"
     ]
    },
    {
     "name": "stdout",
     "output_type": "stream",
     "text": [
      "Method"
     ]
    },
    {
     "name": "stdout",
     "output_type": "stream",
     "text": [
      "\":"
     ]
    },
    {
     "name": "stdout",
     "output_type": "stream",
     "text": [
      " \""
     ]
    },
    {
     "name": "stdout",
     "output_type": "stream",
     "text": [
      "P"
     ]
    },
    {
     "name": "stdout",
     "output_type": "stream",
     "text": [
      "ME"
     ]
    },
    {
     "name": "stdout",
     "output_type": "stream",
     "text": [
      "\",\n"
     ]
    },
    {
     "name": "stdout",
     "output_type": "stream",
     "text": [
      "           "
     ]
    },
    {
     "name": "stdout",
     "output_type": "stream",
     "text": [
      " \""
     ]
    },
    {
     "name": "stdout",
     "output_type": "stream",
     "text": [
      "non"
     ]
    },
    {
     "name": "stdout",
     "output_type": "stream",
     "text": [
      "bond"
     ]
    },
    {
     "name": "stdout",
     "output_type": "stream",
     "text": [
      "ed"
     ]
    },
    {
     "name": "stdout",
     "output_type": "stream",
     "text": [
      "C"
     ]
    },
    {
     "name": "stdout",
     "output_type": "stream",
     "text": [
      "utoff"
     ]
    },
    {
     "name": "stdout",
     "output_type": "stream",
     "text": [
      "\":"
     ]
    },
    {
     "name": "stdout",
     "output_type": "stream",
     "text": [
      " \""
     ]
    },
    {
     "name": "stdout",
     "output_type": "stream",
     "text": [
      "1"
     ]
    },
    {
     "name": "stdout",
     "output_type": "stream",
     "text": [
      "."
     ]
    },
    {
     "name": "stdout",
     "output_type": "stream",
     "text": [
      "0"
     ]
    },
    {
     "name": "stdout",
     "output_type": "stream",
     "text": [
      " *"
     ]
    },
    {
     "name": "stdout",
     "output_type": "stream",
     "text": [
      " nan"
     ]
    },
    {
     "name": "stdout",
     "output_type": "stream",
     "text": [
      "ometers"
     ]
    },
    {
     "name": "stdout",
     "output_type": "stream",
     "text": [
      "\",\n"
     ]
    },
    {
     "name": "stdout",
     "output_type": "stream",
     "text": [
      "           "
     ]
    },
    {
     "name": "stdout",
     "output_type": "stream",
     "text": [
      " \""
     ]
    },
    {
     "name": "stdout",
     "output_type": "stream",
     "text": [
      "constraints"
     ]
    },
    {
     "name": "stdout",
     "output_type": "stream",
     "text": [
      "\":"
     ]
    },
    {
     "name": "stdout",
     "output_type": "stream",
     "text": [
      " \""
     ]
    },
    {
     "name": "stdout",
     "output_type": "stream",
     "text": [
      "HB"
     ]
    },
    {
     "name": "stdout",
     "output_type": "stream",
     "text": [
      "onds"
     ]
    },
    {
     "name": "stdout",
     "output_type": "stream",
     "text": [
      "\",\n"
     ]
    },
    {
     "name": "stdout",
     "output_type": "stream",
     "text": [
      "           "
     ]
    },
    {
     "name": "stdout",
     "output_type": "stream",
     "text": [
      " \""
     ]
    },
    {
     "name": "stdout",
     "output_type": "stream",
     "text": [
      "rig"
     ]
    },
    {
     "name": "stdout",
     "output_type": "stream",
     "text": [
      "id"
     ]
    },
    {
     "name": "stdout",
     "output_type": "stream",
     "text": [
      "Water"
     ]
    },
    {
     "name": "stdout",
     "output_type": "stream",
     "text": [
      "\":"
     ]
    },
    {
     "name": "stdout",
     "output_type": "stream",
     "text": [
      " true"
     ]
    },
    {
     "name": "stdout",
     "output_type": "stream",
     "text": [
      ",\n"
     ]
    },
    {
     "name": "stdout",
     "output_type": "stream",
     "text": [
      "           "
     ]
    },
    {
     "name": "stdout",
     "output_type": "stream",
     "text": [
      " \""
     ]
    },
    {
     "name": "stdout",
     "output_type": "stream",
     "text": [
      "s"
     ]
    },
    {
     "name": "stdout",
     "output_type": "stream",
     "text": [
      "olv"
     ]
    },
    {
     "name": "stdout",
     "output_type": "stream",
     "text": [
      "ate"
     ]
    },
    {
     "name": "stdout",
     "output_type": "stream",
     "text": [
      "\":"
     ]
    },
    {
     "name": "stdout",
     "output_type": "stream",
     "text": [
      " true"
     ]
    },
    {
     "name": "stdout",
     "output_type": "stream",
     "text": [
      ",\n"
     ]
    },
    {
     "name": "stdout",
     "output_type": "stream",
     "text": [
      "           "
     ]
    },
    {
     "name": "stdout",
     "output_type": "stream",
     "text": [
      " \""
     ]
    },
    {
     "name": "stdout",
     "output_type": "stream",
     "text": [
      "constraint"
     ]
    },
    {
     "name": "stdout",
     "output_type": "stream",
     "text": [
      "T"
     ]
    },
    {
     "name": "stdout",
     "output_type": "stream",
     "text": [
      "olerance"
     ]
    },
    {
     "name": "stdout",
     "output_type": "stream",
     "text": [
      "\":"
     ]
    },
    {
     "name": "stdout",
     "output_type": "stream",
     "text": [
      " \""
     ]
    },
    {
     "name": "stdout",
     "output_type": "stream",
     "text": [
      "0"
     ]
    },
    {
     "name": "stdout",
     "output_type": "stream",
     "text": [
      "."
     ]
    },
    {
     "name": "stdout",
     "output_type": "stream",
     "text": [
      "000"
     ]
    },
    {
     "name": "stdout",
     "output_type": "stream",
     "text": [
      "01"
     ]
    },
    {
     "name": "stdout",
     "output_type": "stream",
     "text": [
      "\"\n"
     ]
    },
    {
     "name": "stdout",
     "output_type": "stream",
     "text": [
      "       "
     ]
    },
    {
     "name": "stdout",
     "output_type": "stream",
     "text": [
      " },\n"
     ]
    },
    {
     "name": "stdout",
     "output_type": "stream",
     "text": [
      "       "
     ]
    },
    {
     "name": "stdout",
     "output_type": "stream",
     "text": [
      " \""
     ]
    },
    {
     "name": "stdout",
     "output_type": "stream",
     "text": [
      "integr"
     ]
    },
    {
     "name": "stdout",
     "output_type": "stream",
     "text": [
      "ator"
     ]
    },
    {
     "name": "stdout",
     "output_type": "stream",
     "text": [
      "_params"
     ]
    },
    {
     "name": "stdout",
     "output_type": "stream",
     "text": [
      "\":"
     ]
    },
    {
     "name": "stdout",
     "output_type": "stream",
     "text": [
      " {\n"
     ]
    },
    {
     "name": "stdout",
     "output_type": "stream",
     "text": [
      "           "
     ]
    },
    {
     "name": "stdout",
     "output_type": "stream",
     "text": [
      " \""
     ]
    },
    {
     "name": "stdout",
     "output_type": "stream",
     "text": [
      "integr"
     ]
    },
    {
     "name": "stdout",
     "output_type": "stream",
     "text": [
      "ator"
     ]
    },
    {
     "name": "stdout",
     "output_type": "stream",
     "text": [
      "_type"
     ]
    },
    {
     "name": "stdout",
     "output_type": "stream",
     "text": [
      "\":"
     ]
    },
    {
     "name": "stdout",
     "output_type": "stream",
     "text": [
      " \""
     ]
    },
    {
     "name": "stdout",
     "output_type": "stream",
     "text": [
      "L"
     ]
    },
    {
     "name": "stdout",
     "output_type": "stream",
     "text": [
      "ange"
     ]
    },
    {
     "name": "stdout",
     "output_type": "stream",
     "text": [
      "vin"
     ]
    },
    {
     "name": "stdout",
     "output_type": "stream",
     "text": [
      "Middle"
     ]
    },
    {
     "name": "stdout",
     "output_type": "stream",
     "text": [
      "\",\n"
     ]
    },
    {
     "name": "stdout",
     "output_type": "stream",
     "text": [
      "           "
     ]
    },
    {
     "name": "stdout",
     "output_type": "stream",
     "text": [
      " \""
     ]
    },
    {
     "name": "stdout",
     "output_type": "stream",
     "text": [
      "Temperature"
     ]
    },
    {
     "name": "stdout",
     "output_type": "stream",
     "text": [
      "\":"
     ]
    },
    {
     "name": "stdout",
     "output_type": "stream",
     "text": [
      " \""
     ]
    },
    {
     "name": "stdout",
     "output_type": "stream",
     "text": [
      "300"
     ]
    },
    {
     "name": "stdout",
     "output_type": "stream",
     "text": [
      " *"
     ]
    },
    {
     "name": "stdout",
     "output_type": "stream",
     "text": [
      " kel"
     ]
    },
    {
     "name": "stdout",
     "output_type": "stream",
     "text": [
      "vin"
     ]
    },
    {
     "name": "stdout",
     "output_type": "stream",
     "text": [
      "\",\n"
     ]
    },
    {
     "name": "stdout",
     "output_type": "stream",
     "text": [
      "           "
     ]
    },
    {
     "name": "stdout",
     "output_type": "stream",
     "text": [
      " \""
     ]
    },
    {
     "name": "stdout",
     "output_type": "stream",
     "text": [
      "Fr"
     ]
    },
    {
     "name": "stdout",
     "output_type": "stream",
     "text": [
      "iction"
     ]
    },
    {
     "name": "stdout",
     "output_type": "stream",
     "text": [
      "\":"
     ]
    },
    {
     "name": "stdout",
     "output_type": "stream",
     "text": [
      " \""
     ]
    },
    {
     "name": "stdout",
     "output_type": "stream",
     "text": [
      "1"
     ]
    },
    {
     "name": "stdout",
     "output_type": "stream",
     "text": [
      "."
     ]
    },
    {
     "name": "stdout",
     "output_type": "stream",
     "text": [
      "0"
     ]
    },
    {
     "name": "stdout",
     "output_type": "stream",
     "text": [
      " /"
     ]
    },
    {
     "name": "stdout",
     "output_type": "stream",
     "text": [
      " pic"
     ]
    },
    {
     "name": "stdout",
     "output_type": "stream",
     "text": [
      "oseconds"
     ]
    },
    {
     "name": "stdout",
     "output_type": "stream",
     "text": [
      "\",\n"
     ]
    },
    {
     "name": "stdout",
     "output_type": "stream",
     "text": [
      "           "
     ]
    },
    {
     "name": "stdout",
     "output_type": "stream",
     "text": [
      " \""
     ]
    },
    {
     "name": "stdout",
     "output_type": "stream",
     "text": [
      "T"
     ]
    },
    {
     "name": "stdout",
     "output_type": "stream",
     "text": [
      "imestep"
     ]
    },
    {
     "name": "stdout",
     "output_type": "stream",
     "text": [
      "\":"
     ]
    },
    {
     "name": "stdout",
     "output_type": "stream",
     "text": [
      " \""
     ]
    },
    {
     "name": "stdout",
     "output_type": "stream",
     "text": [
      "0"
     ]
    },
    {
     "name": "stdout",
     "output_type": "stream",
     "text": [
      "."
     ]
    },
    {
     "name": "stdout",
     "output_type": "stream",
     "text": [
      "002"
     ]
    },
    {
     "name": "stdout",
     "output_type": "stream",
     "text": [
      " *"
     ]
    },
    {
     "name": "stdout",
     "output_type": "stream",
     "text": [
      " pic"
     ]
    },
    {
     "name": "stdout",
     "output_type": "stream",
     "text": [
      "oseconds"
     ]
    },
    {
     "name": "stdout",
     "output_type": "stream",
     "text": [
      "\"\n"
     ]
    },
    {
     "name": "stdout",
     "output_type": "stream",
     "text": [
      "       "
     ]
    },
    {
     "name": "stdout",
     "output_type": "stream",
     "text": [
      " },\n"
     ]
    },
    {
     "name": "stdout",
     "output_type": "stream",
     "text": [
      "       "
     ]
    },
    {
     "name": "stdout",
     "output_type": "stream",
     "text": [
      " \""
     ]
    },
    {
     "name": "stdout",
     "output_type": "stream",
     "text": [
      "simulation"
     ]
    },
    {
     "name": "stdout",
     "output_type": "stream",
     "text": [
      "_params"
     ]
    },
    {
     "name": "stdout",
     "output_type": "stream",
     "text": [
      "\":"
     ]
    },
    {
     "name": "stdout",
     "output_type": "stream",
     "text": [
      " {\n"
     ]
    },
    {
     "name": "stdout",
     "output_type": "stream",
     "text": [
      "           "
     ]
    },
    {
     "name": "stdout",
     "output_type": "stream",
     "text": [
      " \""
     ]
    },
    {
     "name": "stdout",
     "output_type": "stream",
     "text": [
      "En"
     ]
    },
    {
     "name": "stdout",
     "output_type": "stream",
     "text": [
      "semble"
     ]
    },
    {
     "name": "stdout",
     "output_type": "stream",
     "text": [
      "\":"
     ]
    },
    {
     "name": "stdout",
     "output_type": "stream",
     "text": [
      " \""
     ]
    },
    {
     "name": "stdout",
     "output_type": "stream",
     "text": [
      "N"
     ]
    },
    {
     "name": "stdout",
     "output_type": "stream",
     "text": [
      "VT"
     ]
    },
    {
     "name": "stdout",
     "output_type": "stream",
     "text": [
      "\",\n"
     ]
    },
    {
     "name": "stdout",
     "output_type": "stream",
     "text": [
      "           "
     ]
    },
    {
     "name": "stdout",
     "output_type": "stream",
     "text": [
      " \""
     ]
    },
    {
     "name": "stdout",
     "output_type": "stream",
     "text": [
      "Number"
     ]
    },
    {
     "name": "stdout",
     "output_type": "stream",
     "text": [
      " of"
     ]
    },
    {
     "name": "stdout",
     "output_type": "stream",
     "text": [
      " Steps"
     ]
    },
    {
     "name": "stdout",
     "output_type": "stream",
     "text": [
      "\":"
     ]
    },
    {
     "name": "stdout",
     "output_type": "stream",
     "text": [
      " "
     ]
    },
    {
     "name": "stdout",
     "output_type": "stream",
     "text": [
      "500"
     ]
    },
    {
     "name": "stdout",
     "output_type": "stream",
     "text": [
      "00"
     ]
    },
    {
     "name": "stdout",
     "output_type": "stream",
     "text": [
      ",\n"
     ]
    },
    {
     "name": "stdout",
     "output_type": "stream",
     "text": [
      "           "
     ]
    },
    {
     "name": "stdout",
     "output_type": "stream",
     "text": [
      " \""
     ]
    },
    {
     "name": "stdout",
     "output_type": "stream",
     "text": [
      "record"
     ]
    },
    {
     "name": "stdout",
     "output_type": "stream",
     "text": [
      "_interval"
     ]
    },
    {
     "name": "stdout",
     "output_type": "stream",
     "text": [
      "_steps"
     ]
    },
    {
     "name": "stdout",
     "output_type": "stream",
     "text": [
      "\":"
     ]
    },
    {
     "name": "stdout",
     "output_type": "stream",
     "text": [
      " "
     ]
    },
    {
     "name": "stdout",
     "output_type": "stream",
     "text": [
      "500"
     ]
    },
    {
     "name": "stdout",
     "output_type": "stream",
     "text": [
      ",\n"
     ]
    },
    {
     "name": "stdout",
     "output_type": "stream",
     "text": [
      "           "
     ]
    },
    {
     "name": "stdout",
     "output_type": "stream",
     "text": [
      " \""
     ]
    },
    {
     "name": "stdout",
     "output_type": "stream",
     "text": [
      "record"
     ]
    },
    {
     "name": "stdout",
     "output_type": "stream",
     "text": [
      "_params"
     ]
    },
    {
     "name": "stdout",
     "output_type": "stream",
     "text": [
      "\":"
     ]
    },
    {
     "name": "stdout",
     "output_type": "stream",
     "text": [
      " [\""
     ]
    },
    {
     "name": "stdout",
     "output_type": "stream",
     "text": [
      "step"
     ]
    },
    {
     "name": "stdout",
     "output_type": "stream",
     "text": [
      "\","
     ]
    },
    {
     "name": "stdout",
     "output_type": "stream",
     "text": [
      " \""
     ]
    },
    {
     "name": "stdout",
     "output_type": "stream",
     "text": [
      "potential"
     ]
    },
    {
     "name": "stdout",
     "output_type": "stream",
     "text": [
      "Energy"
     ]
    },
    {
     "name": "stdout",
     "output_type": "stream",
     "text": [
      "\","
     ]
    },
    {
     "name": "stdout",
     "output_type": "stream",
     "text": [
      " \""
     ]
    },
    {
     "name": "stdout",
     "output_type": "stream",
     "text": [
      "temperature"
     ]
    },
    {
     "name": "stdout",
     "output_type": "stream",
     "text": [
      "\"]\n"
     ]
    },
    {
     "name": "stdout",
     "output_type": "stream",
     "text": [
      "       "
     ]
    },
    {
     "name": "stdout",
     "output_type": "stream",
     "text": [
      " }\n"
     ]
    },
    {
     "name": "stdout",
     "output_type": "stream",
     "text": [
      "   "
     ]
    },
    {
     "name": "stdout",
     "output_type": "stream",
     "text": [
      " }\n"
     ]
    },
    {
     "name": "stdout",
     "output_type": "stream",
     "text": [
      "}\n"
     ]
    },
    {
     "name": "stdout",
     "output_type": "stream",
     "text": [
      "```"
     ]
    },
    {
     "name": "stdout",
     "output_type": "stream",
     "text": [
      "Setting default ewaldErrorTolerance: 0.0005 \n",
      "Building system...\n"
     ]
    },
    {
     "name": "stdout",
     "output_type": "stream",
     "text": [
      "To"
     ]
    },
    {
     "name": "stdout",
     "output_type": "stream",
     "text": [
      " successfully"
     ]
    },
    {
     "name": "stdout",
     "output_type": "stream",
     "text": [
      " simulate"
     ]
    },
    {
     "name": "stdout",
     "output_type": "stream",
     "text": [
      " de"
     ]
    },
    {
     "name": "stdout",
     "output_type": "stream",
     "text": [
      "o"
     ]
    },
    {
     "name": "stdout",
     "output_type": "stream",
     "text": [
      "xygen"
     ]
    },
    {
     "name": "stdout",
     "output_type": "stream",
     "text": [
      "ated"
     ]
    },
    {
     "name": "stdout",
     "output_type": "stream",
     "text": [
      " hem"
     ]
    },
    {
     "name": "stdout",
     "output_type": "stream",
     "text": [
      "oglobin"
     ]
    },
    {
     "name": "stdout",
     "output_type": "stream",
     "text": [
      " ("
     ]
    },
    {
     "name": "stdout",
     "output_type": "stream",
     "text": [
      "P"
     ]
    },
    {
     "name": "stdout",
     "output_type": "stream",
     "text": [
      "DB"
     ]
    },
    {
     "name": "stdout",
     "output_type": "stream",
     "text": [
      " ID"
     ]
    },
    {
     "name": "stdout",
     "output_type": "stream",
     "text": [
      ":"
     ]
    },
    {
     "name": "stdout",
     "output_type": "stream",
     "text": [
      " "
     ]
    },
    {
     "name": "stdout",
     "output_type": "stream",
     "text": [
      "1"
     ]
    },
    {
     "name": "stdout",
     "output_type": "stream",
     "text": [
      "A"
     ]
    },
    {
     "name": "stdout",
     "output_type": "stream",
     "text": [
      "3"
     ]
    },
    {
     "name": "stdout",
     "output_type": "stream",
     "text": [
      "N"
     ]
    },
    {
     "name": "stdout",
     "output_type": "stream",
     "text": [
      ")"
     ]
    },
    {
     "name": "stdout",
     "output_type": "stream",
     "text": [
      " and"
     ]
    },
    {
     "name": "stdout",
     "output_type": "stream",
     "text": [
      " oxygen"
     ]
    },
    {
     "name": "stdout",
     "output_type": "stream",
     "text": [
      "ated"
     ]
    },
    {
     "name": "stdout",
     "output_type": "stream",
     "text": [
      " hem"
     ]
    },
    {
     "name": "stdout",
     "output_type": "stream",
     "text": [
      "oglobin"
     ]
    },
    {
     "name": "stdout",
     "output_type": "stream",
     "text": [
      " ("
     ]
    },
    {
     "name": "stdout",
     "output_type": "stream",
     "text": [
      "P"
     ]
    },
    {
     "name": "stdout",
     "output_type": "stream",
     "text": [
      "DB"
     ]
    },
    {
     "name": "stdout",
     "output_type": "stream",
     "text": [
      " ID"
     ]
    },
    {
     "name": "stdout",
     "output_type": "stream",
     "text": [
      ":"
     ]
    },
    {
     "name": "stdout",
     "output_type": "stream",
     "text": [
      " "
     ]
    },
    {
     "name": "stdout",
     "output_type": "stream",
     "text": [
      "6"
     ]
    },
    {
     "name": "stdout",
     "output_type": "stream",
     "text": [
      "BB"
     ]
    },
    {
     "name": "stdout",
     "output_type": "stream",
     "text": [
      "5"
     ]
    },
    {
     "name": "stdout",
     "output_type": "stream",
     "text": [
      "),"
     ]
    },
    {
     "name": "stdout",
     "output_type": "stream",
     "text": [
      " I"
     ]
    },
    {
     "name": "stdout",
     "output_type": "stream",
     "text": [
      " need"
     ]
    },
    {
     "name": "stdout",
     "output_type": "stream",
     "text": [
      " to"
     ]
    },
    {
     "name": "stdout",
     "output_type": "stream",
     "text": [
      " correct"
     ]
    },
    {
     "name": "stdout",
     "output_type": "stream",
     "text": [
      " the"
     ]
    },
    {
     "name": "stdout",
     "output_type": "stream",
     "text": [
      " previous"
     ]
    },
    {
     "name": "stdout",
     "output_type": "stream",
     "text": [
      " simulation"
     ]
    },
    {
     "name": "stdout",
     "output_type": "stream",
     "text": [
      " setup"
     ]
    },
    {
     "name": "stdout",
     "output_type": "stream",
     "text": [
      " by"
     ]
    },
    {
     "name": "stdout",
     "output_type": "stream",
     "text": [
      " specifying"
     ]
    },
    {
     "name": "stdout",
     "output_type": "stream",
     "text": [
      " a"
     ]
    },
    {
     "name": "stdout",
     "output_type": "stream",
     "text": [
      " valid"
     ]
    },
    {
     "name": "stdout",
     "output_type": "stream",
     "text": [
      " force"
     ]
    },
    {
     "name": "stdout",
     "output_type": "stream",
     "text": [
      "field"
     ]
    },
    {
     "name": "stdout",
     "output_type": "stream",
     "text": [
      " file"
     ]
    },
    {
     "name": "stdout",
     "output_type": "stream",
     "text": [
      "."
     ]
    },
    {
     "name": "stdout",
     "output_type": "stream",
     "text": [
      " I"
     ]
    },
    {
     "name": "stdout",
     "output_type": "stream",
     "text": [
      " will"
     ]
    },
    {
     "name": "stdout",
     "output_type": "stream",
     "text": [
      " adjust"
     ]
    },
    {
     "name": "stdout",
     "output_type": "stream",
     "text": [
      " the"
     ]
    },
    {
     "name": "stdout",
     "output_type": "stream",
     "text": [
      " force"
     ]
    },
    {
     "name": "stdout",
     "output_type": "stream",
     "text": [
      "field"
     ]
    },
    {
     "name": "stdout",
     "output_type": "stream",
     "text": [
      " to"
     ]
    },
    {
     "name": "stdout",
     "output_type": "stream",
     "text": [
      " a"
     ]
    },
    {
     "name": "stdout",
     "output_type": "stream",
     "text": [
      " commonly"
     ]
    },
    {
     "name": "stdout",
     "output_type": "stream",
     "text": [
      " available"
     ]
    },
    {
     "name": "stdout",
     "output_type": "stream",
     "text": [
      " one"
     ]
    },
    {
     "name": "stdout",
     "output_type": "stream",
     "text": [
      " and"
     ]
    },
    {
     "name": "stdout",
     "output_type": "stream",
     "text": [
      " proceed"
     ]
    },
    {
     "name": "stdout",
     "output_type": "stream",
     "text": [
      " with"
     ]
    },
    {
     "name": "stdout",
     "output_type": "stream",
     "text": [
      " the"
     ]
    },
    {
     "name": "stdout",
     "output_type": "stream",
     "text": [
      " simulation"
     ]
    },
    {
     "name": "stdout",
     "output_type": "stream",
     "text": [
      " setup"
     ]
    },
    {
     "name": "stdout",
     "output_type": "stream",
     "text": [
      " for"
     ]
    },
    {
     "name": "stdout",
     "output_type": "stream",
     "text": [
      " both"
     ]
    },
    {
     "name": "stdout",
     "output_type": "stream",
     "text": [
      " P"
     ]
    },
    {
     "name": "stdout",
     "output_type": "stream",
     "text": [
      "DB"
     ]
    },
    {
     "name": "stdout",
     "output_type": "stream",
     "text": [
      " IDs"
     ]
    },
    {
     "name": "stdout",
     "output_type": "stream",
     "text": [
      ".\n",
      "\n"
     ]
    },
    {
     "name": "stdout",
     "output_type": "stream",
     "text": [
      "Action"
     ]
    },
    {
     "name": "stdout",
     "output_type": "stream",
     "text": [
      ":\n"
     ]
    },
    {
     "name": "stdout",
     "output_type": "stream",
     "text": [
      "```"
     ]
    },
    {
     "name": "stdout",
     "output_type": "stream",
     "text": [
      "json"
     ]
    },
    {
     "name": "stdout",
     "output_type": "stream",
     "text": [
      "\n"
     ]
    },
    {
     "name": "stdout",
     "output_type": "stream",
     "text": [
      "{\n"
     ]
    },
    {
     "name": "stdout",
     "output_type": "stream",
     "text": [
      "   "
     ]
    },
    {
     "name": "stdout",
     "output_type": "stream",
     "text": [
      " \""
     ]
    },
    {
     "name": "stdout",
     "output_type": "stream",
     "text": [
      "action"
     ]
    },
    {
     "name": "stdout",
     "output_type": "stream",
     "text": [
      "\":"
     ]
    },
    {
     "name": "stdout",
     "output_type": "stream",
     "text": [
      " \""
     ]
    },
    {
     "name": "stdout",
     "output_type": "stream",
     "text": [
      "SetUp"
     ]
    },
    {
     "name": "stdout",
     "output_type": "stream",
     "text": [
      "and"
     ]
    },
    {
     "name": "stdout",
     "output_type": "stream",
     "text": [
      "Run"
     ]
    },
    {
     "name": "stdout",
     "output_type": "stream",
     "text": [
      "Function"
     ]
    },
    {
     "name": "stdout",
     "output_type": "stream",
     "text": [
      "\",\n"
     ]
    },
    {
     "name": "stdout",
     "output_type": "stream",
     "text": [
      "   "
     ]
    },
    {
     "name": "stdout",
     "output_type": "stream",
     "text": [
      " \""
     ]
    },
    {
     "name": "stdout",
     "output_type": "stream",
     "text": [
      "action"
     ]
    },
    {
     "name": "stdout",
     "output_type": "stream",
     "text": [
      "_input"
     ]
    },
    {
     "name": "stdout",
     "output_type": "stream",
     "text": [
      "\":"
     ]
    },
    {
     "name": "stdout",
     "output_type": "stream",
     "text": [
      " {\n"
     ]
    },
    {
     "name": "stdout",
     "output_type": "stream",
     "text": [
      "       "
     ]
    },
    {
     "name": "stdout",
     "output_type": "stream",
     "text": [
      " \""
     ]
    },
    {
     "name": "stdout",
     "output_type": "stream",
     "text": [
      "pdb"
     ]
    },
    {
     "name": "stdout",
     "output_type": "stream",
     "text": [
      "_id"
     ]
    },
    {
     "name": "stdout",
     "output_type": "stream",
     "text": [
      "\":"
     ]
    },
    {
     "name": "stdout",
     "output_type": "stream",
     "text": [
      " \""
     ]
    },
    {
     "name": "stdout",
     "output_type": "stream",
     "text": [
      "1"
     ]
    },
    {
     "name": "stdout",
     "output_type": "stream",
     "text": [
      "A"
     ]
    },
    {
     "name": "stdout",
     "output_type": "stream",
     "text": [
      "3"
     ]
    },
    {
     "name": "stdout",
     "output_type": "stream",
     "text": [
      "N"
     ]
    },
    {
     "name": "stdout",
     "output_type": "stream",
     "text": [
      "_"
     ]
    },
    {
     "name": "stdout",
     "output_type": "stream",
     "text": [
      "210"
     ]
    },
    {
     "name": "stdout",
     "output_type": "stream",
     "text": [
      "823"
     ]
    },
    {
     "name": "stdout",
     "output_type": "stream",
     "text": [
      "\",\n"
     ]
    },
    {
     "name": "stdout",
     "output_type": "stream",
     "text": [
      "       "
     ]
    },
    {
     "name": "stdout",
     "output_type": "stream",
     "text": [
      " \""
     ]
    },
    {
     "name": "stdout",
     "output_type": "stream",
     "text": [
      "force"
     ]
    },
    {
     "name": "stdout",
     "output_type": "stream",
     "text": [
      "field"
     ]
    },
    {
     "name": "stdout",
     "output_type": "stream",
     "text": [
      "_files"
     ]
    },
    {
     "name": "stdout",
     "output_type": "stream",
     "text": [
      "\":"
     ]
    },
    {
     "name": "stdout",
     "output_type": "stream",
     "text": [
      " [\""
     ]
    },
    {
     "name": "stdout",
     "output_type": "stream",
     "text": [
      "amber"
     ]
    },
    {
     "name": "stdout",
     "output_type": "stream",
     "text": [
      "14"
     ]
    },
    {
     "name": "stdout",
     "output_type": "stream",
     "text": [
      "sb"
     ]
    },
    {
     "name": "stdout",
     "output_type": "stream",
     "text": [
      "\"],\n"
     ]
    },
    {
     "name": "stdout",
     "output_type": "stream",
     "text": [
      "       "
     ]
    },
    {
     "name": "stdout",
     "output_type": "stream",
     "text": [
      " \""
     ]
    },
    {
     "name": "stdout",
     "output_type": "stream",
     "text": [
      "system"
     ]
    },
    {
     "name": "stdout",
     "output_type": "stream",
     "text": [
      "_params"
     ]
    },
    {
     "name": "stdout",
     "output_type": "stream",
     "text": [
      "\":"
     ]
    },
    {
     "name": "stdout",
     "output_type": "stream",
     "text": [
      " {\n"
     ]
    },
    {
     "name": "stdout",
     "output_type": "stream",
     "text": [
      "           "
     ]
    },
    {
     "name": "stdout",
     "output_type": "stream",
     "text": [
      " \""
     ]
    },
    {
     "name": "stdout",
     "output_type": "stream",
     "text": [
      "non"
     ]
    },
    {
     "name": "stdout",
     "output_type": "stream",
     "text": [
      "bond"
     ]
    },
    {
     "name": "stdout",
     "output_type": "stream",
     "text": [
      "ed"
     ]
    },
    {
     "name": "stdout",
     "output_type": "stream",
     "text": [
      "Method"
     ]
    },
    {
     "name": "stdout",
     "output_type": "stream",
     "text": [
      "\":"
     ]
    },
    {
     "name": "stdout",
     "output_type": "stream",
     "text": [
      " \""
     ]
    },
    {
     "name": "stdout",
     "output_type": "stream",
     "text": [
      "P"
     ]
    },
    {
     "name": "stdout",
     "output_type": "stream",
     "text": [
      "ME"
     ]
    },
    {
     "name": "stdout",
     "output_type": "stream",
     "text": [
      "\",\n"
     ]
    },
    {
     "name": "stdout",
     "output_type": "stream",
     "text": [
      "           "
     ]
    },
    {
     "name": "stdout",
     "output_type": "stream",
     "text": [
      " \""
     ]
    },
    {
     "name": "stdout",
     "output_type": "stream",
     "text": [
      "non"
     ]
    },
    {
     "name": "stdout",
     "output_type": "stream",
     "text": [
      "bond"
     ]
    },
    {
     "name": "stdout",
     "output_type": "stream",
     "text": [
      "ed"
     ]
    },
    {
     "name": "stdout",
     "output_type": "stream",
     "text": [
      "C"
     ]
    },
    {
     "name": "stdout",
     "output_type": "stream",
     "text": [
      "utoff"
     ]
    },
    {
     "name": "stdout",
     "output_type": "stream",
     "text": [
      "\":"
     ]
    },
    {
     "name": "stdout",
     "output_type": "stream",
     "text": [
      " \""
     ]
    },
    {
     "name": "stdout",
     "output_type": "stream",
     "text": [
      "1"
     ]
    },
    {
     "name": "stdout",
     "output_type": "stream",
     "text": [
      "."
     ]
    },
    {
     "name": "stdout",
     "output_type": "stream",
     "text": [
      "0"
     ]
    },
    {
     "name": "stdout",
     "output_type": "stream",
     "text": [
      " *"
     ]
    },
    {
     "name": "stdout",
     "output_type": "stream",
     "text": [
      " nan"
     ]
    },
    {
     "name": "stdout",
     "output_type": "stream",
     "text": [
      "ometers"
     ]
    },
    {
     "name": "stdout",
     "output_type": "stream",
     "text": [
      "\",\n"
     ]
    },
    {
     "name": "stdout",
     "output_type": "stream",
     "text": [
      "           "
     ]
    },
    {
     "name": "stdout",
     "output_type": "stream",
     "text": [
      " \""
     ]
    },
    {
     "name": "stdout",
     "output_type": "stream",
     "text": [
      "constraints"
     ]
    },
    {
     "name": "stdout",
     "output_type": "stream",
     "text": [
      "\":"
     ]
    },
    {
     "name": "stdout",
     "output_type": "stream",
     "text": [
      " \""
     ]
    },
    {
     "name": "stdout",
     "output_type": "stream",
     "text": [
      "HB"
     ]
    },
    {
     "name": "stdout",
     "output_type": "stream",
     "text": [
      "onds"
     ]
    },
    {
     "name": "stdout",
     "output_type": "stream",
     "text": [
      "\",\n"
     ]
    },
    {
     "name": "stdout",
     "output_type": "stream",
     "text": [
      "           "
     ]
    },
    {
     "name": "stdout",
     "output_type": "stream",
     "text": [
      " \""
     ]
    },
    {
     "name": "stdout",
     "output_type": "stream",
     "text": [
      "rig"
     ]
    },
    {
     "name": "stdout",
     "output_type": "stream",
     "text": [
      "id"
     ]
    },
    {
     "name": "stdout",
     "output_type": "stream",
     "text": [
      "Water"
     ]
    },
    {
     "name": "stdout",
     "output_type": "stream",
     "text": [
      "\":"
     ]
    },
    {
     "name": "stdout",
     "output_type": "stream",
     "text": [
      " true"
     ]
    },
    {
     "name": "stdout",
     "output_type": "stream",
     "text": [
      ",\n"
     ]
    },
    {
     "name": "stdout",
     "output_type": "stream",
     "text": [
      "           "
     ]
    },
    {
     "name": "stdout",
     "output_type": "stream",
     "text": [
      " \""
     ]
    },
    {
     "name": "stdout",
     "output_type": "stream",
     "text": [
      "s"
     ]
    },
    {
     "name": "stdout",
     "output_type": "stream",
     "text": [
      "olv"
     ]
    },
    {
     "name": "stdout",
     "output_type": "stream",
     "text": [
      "ate"
     ]
    },
    {
     "name": "stdout",
     "output_type": "stream",
     "text": [
      "\":"
     ]
    },
    {
     "name": "stdout",
     "output_type": "stream",
     "text": [
      " true"
     ]
    },
    {
     "name": "stdout",
     "output_type": "stream",
     "text": [
      ",\n"
     ]
    },
    {
     "name": "stdout",
     "output_type": "stream",
     "text": [
      "           "
     ]
    },
    {
     "name": "stdout",
     "output_type": "stream",
     "text": [
      " \""
     ]
    },
    {
     "name": "stdout",
     "output_type": "stream",
     "text": [
      "constraint"
     ]
    },
    {
     "name": "stdout",
     "output_type": "stream",
     "text": [
      "T"
     ]
    },
    {
     "name": "stdout",
     "output_type": "stream",
     "text": [
      "olerance"
     ]
    },
    {
     "name": "stdout",
     "output_type": "stream",
     "text": [
      "\":"
     ]
    },
    {
     "name": "stdout",
     "output_type": "stream",
     "text": [
      " \""
     ]
    },
    {
     "name": "stdout",
     "output_type": "stream",
     "text": [
      "0"
     ]
    },
    {
     "name": "stdout",
     "output_type": "stream",
     "text": [
      "."
     ]
    },
    {
     "name": "stdout",
     "output_type": "stream",
     "text": [
      "000"
     ]
    },
    {
     "name": "stdout",
     "output_type": "stream",
     "text": [
      "01"
     ]
    },
    {
     "name": "stdout",
     "output_type": "stream",
     "text": [
      "\"\n"
     ]
    },
    {
     "name": "stdout",
     "output_type": "stream",
     "text": [
      "       "
     ]
    },
    {
     "name": "stdout",
     "output_type": "stream",
     "text": [
      " },\n"
     ]
    },
    {
     "name": "stdout",
     "output_type": "stream",
     "text": [
      "       "
     ]
    },
    {
     "name": "stdout",
     "output_type": "stream",
     "text": [
      " \""
     ]
    },
    {
     "name": "stdout",
     "output_type": "stream",
     "text": [
      "integr"
     ]
    },
    {
     "name": "stdout",
     "output_type": "stream",
     "text": [
      "ator"
     ]
    },
    {
     "name": "stdout",
     "output_type": "stream",
     "text": [
      "_params"
     ]
    },
    {
     "name": "stdout",
     "output_type": "stream",
     "text": [
      "\":"
     ]
    },
    {
     "name": "stdout",
     "output_type": "stream",
     "text": [
      " {\n"
     ]
    },
    {
     "name": "stdout",
     "output_type": "stream",
     "text": [
      "           "
     ]
    },
    {
     "name": "stdout",
     "output_type": "stream",
     "text": [
      " \""
     ]
    },
    {
     "name": "stdout",
     "output_type": "stream",
     "text": [
      "integr"
     ]
    },
    {
     "name": "stdout",
     "output_type": "stream",
     "text": [
      "ator"
     ]
    },
    {
     "name": "stdout",
     "output_type": "stream",
     "text": [
      "_type"
     ]
    },
    {
     "name": "stdout",
     "output_type": "stream",
     "text": [
      "\":"
     ]
    },
    {
     "name": "stdout",
     "output_type": "stream",
     "text": [
      " \""
     ]
    },
    {
     "name": "stdout",
     "output_type": "stream",
     "text": [
      "L"
     ]
    },
    {
     "name": "stdout",
     "output_type": "stream",
     "text": [
      "ange"
     ]
    },
    {
     "name": "stdout",
     "output_type": "stream",
     "text": [
      "vin"
     ]
    },
    {
     "name": "stdout",
     "output_type": "stream",
     "text": [
      "Middle"
     ]
    },
    {
     "name": "stdout",
     "output_type": "stream",
     "text": [
      "\",\n"
     ]
    },
    {
     "name": "stdout",
     "output_type": "stream",
     "text": [
      "           "
     ]
    },
    {
     "name": "stdout",
     "output_type": "stream",
     "text": [
      " \""
     ]
    },
    {
     "name": "stdout",
     "output_type": "stream",
     "text": [
      "Temperature"
     ]
    },
    {
     "name": "stdout",
     "output_type": "stream",
     "text": [
      "\":"
     ]
    },
    {
     "name": "stdout",
     "output_type": "stream",
     "text": [
      " \""
     ]
    },
    {
     "name": "stdout",
     "output_type": "stream",
     "text": [
      "300"
     ]
    },
    {
     "name": "stdout",
     "output_type": "stream",
     "text": [
      " *"
     ]
    },
    {
     "name": "stdout",
     "output_type": "stream",
     "text": [
      " kel"
     ]
    },
    {
     "name": "stdout",
     "output_type": "stream",
     "text": [
      "vin"
     ]
    },
    {
     "name": "stdout",
     "output_type": "stream",
     "text": [
      "\",\n"
     ]
    },
    {
     "name": "stdout",
     "output_type": "stream",
     "text": [
      "           "
     ]
    },
    {
     "name": "stdout",
     "output_type": "stream",
     "text": [
      " \""
     ]
    },
    {
     "name": "stdout",
     "output_type": "stream",
     "text": [
      "Fr"
     ]
    },
    {
     "name": "stdout",
     "output_type": "stream",
     "text": [
      "iction"
     ]
    },
    {
     "name": "stdout",
     "output_type": "stream",
     "text": [
      "\":"
     ]
    },
    {
     "name": "stdout",
     "output_type": "stream",
     "text": [
      " \""
     ]
    },
    {
     "name": "stdout",
     "output_type": "stream",
     "text": [
      "1"
     ]
    },
    {
     "name": "stdout",
     "output_type": "stream",
     "text": [
      "."
     ]
    },
    {
     "name": "stdout",
     "output_type": "stream",
     "text": [
      "0"
     ]
    },
    {
     "name": "stdout",
     "output_type": "stream",
     "text": [
      " /"
     ]
    },
    {
     "name": "stdout",
     "output_type": "stream",
     "text": [
      " pic"
     ]
    },
    {
     "name": "stdout",
     "output_type": "stream",
     "text": [
      "oseconds"
     ]
    },
    {
     "name": "stdout",
     "output_type": "stream",
     "text": [
      "\",\n"
     ]
    },
    {
     "name": "stdout",
     "output_type": "stream",
     "text": [
      "           "
     ]
    },
    {
     "name": "stdout",
     "output_type": "stream",
     "text": [
      " \""
     ]
    },
    {
     "name": "stdout",
     "output_type": "stream",
     "text": [
      "T"
     ]
    },
    {
     "name": "stdout",
     "output_type": "stream",
     "text": [
      "imestep"
     ]
    },
    {
     "name": "stdout",
     "output_type": "stream",
     "text": [
      "\":"
     ]
    },
    {
     "name": "stdout",
     "output_type": "stream",
     "text": [
      " \""
     ]
    },
    {
     "name": "stdout",
     "output_type": "stream",
     "text": [
      "0"
     ]
    },
    {
     "name": "stdout",
     "output_type": "stream",
     "text": [
      "."
     ]
    },
    {
     "name": "stdout",
     "output_type": "stream",
     "text": [
      "002"
     ]
    },
    {
     "name": "stdout",
     "output_type": "stream",
     "text": [
      " *"
     ]
    },
    {
     "name": "stdout",
     "output_type": "stream",
     "text": [
      " pic"
     ]
    },
    {
     "name": "stdout",
     "output_type": "stream",
     "text": [
      "oseconds"
     ]
    },
    {
     "name": "stdout",
     "output_type": "stream",
     "text": [
      "\"\n"
     ]
    },
    {
     "name": "stdout",
     "output_type": "stream",
     "text": [
      "       "
     ]
    },
    {
     "name": "stdout",
     "output_type": "stream",
     "text": [
      " },\n"
     ]
    },
    {
     "name": "stdout",
     "output_type": "stream",
     "text": [
      "       "
     ]
    },
    {
     "name": "stdout",
     "output_type": "stream",
     "text": [
      " \""
     ]
    },
    {
     "name": "stdout",
     "output_type": "stream",
     "text": [
      "simulation"
     ]
    },
    {
     "name": "stdout",
     "output_type": "stream",
     "text": [
      "_params"
     ]
    },
    {
     "name": "stdout",
     "output_type": "stream",
     "text": [
      "\":"
     ]
    },
    {
     "name": "stdout",
     "output_type": "stream",
     "text": [
      " {\n"
     ]
    },
    {
     "name": "stdout",
     "output_type": "stream",
     "text": [
      "           "
     ]
    },
    {
     "name": "stdout",
     "output_type": "stream",
     "text": [
      " \""
     ]
    },
    {
     "name": "stdout",
     "output_type": "stream",
     "text": [
      "En"
     ]
    },
    {
     "name": "stdout",
     "output_type": "stream",
     "text": [
      "semble"
     ]
    },
    {
     "name": "stdout",
     "output_type": "stream",
     "text": [
      "\":"
     ]
    },
    {
     "name": "stdout",
     "output_type": "stream",
     "text": [
      " \""
     ]
    },
    {
     "name": "stdout",
     "output_type": "stream",
     "text": [
      "N"
     ]
    },
    {
     "name": "stdout",
     "output_type": "stream",
     "text": [
      "VT"
     ]
    },
    {
     "name": "stdout",
     "output_type": "stream",
     "text": [
      "\",\n"
     ]
    },
    {
     "name": "stdout",
     "output_type": "stream",
     "text": [
      "           "
     ]
    },
    {
     "name": "stdout",
     "output_type": "stream",
     "text": [
      " \""
     ]
    },
    {
     "name": "stdout",
     "output_type": "stream",
     "text": [
      "Number"
     ]
    },
    {
     "name": "stdout",
     "output_type": "stream",
     "text": [
      " of"
     ]
    },
    {
     "name": "stdout",
     "output_type": "stream",
     "text": [
      " Steps"
     ]
    },
    {
     "name": "stdout",
     "output_type": "stream",
     "text": [
      "\":"
     ]
    },
    {
     "name": "stdout",
     "output_type": "stream",
     "text": [
      " "
     ]
    },
    {
     "name": "stdout",
     "output_type": "stream",
     "text": [
      "500"
     ]
    },
    {
     "name": "stdout",
     "output_type": "stream",
     "text": [
      "00"
     ]
    },
    {
     "name": "stdout",
     "output_type": "stream",
     "text": [
      ",\n"
     ]
    },
    {
     "name": "stdout",
     "output_type": "stream",
     "text": [
      "           "
     ]
    },
    {
     "name": "stdout",
     "output_type": "stream",
     "text": [
      " \""
     ]
    },
    {
     "name": "stdout",
     "output_type": "stream",
     "text": [
      "record"
     ]
    },
    {
     "name": "stdout",
     "output_type": "stream",
     "text": [
      "_interval"
     ]
    },
    {
     "name": "stdout",
     "output_type": "stream",
     "text": [
      "_steps"
     ]
    },
    {
     "name": "stdout",
     "output_type": "stream",
     "text": [
      "\":"
     ]
    },
    {
     "name": "stdout",
     "output_type": "stream",
     "text": [
      " "
     ]
    },
    {
     "name": "stdout",
     "output_type": "stream",
     "text": [
      "500"
     ]
    },
    {
     "name": "stdout",
     "output_type": "stream",
     "text": [
      ",\n"
     ]
    },
    {
     "name": "stdout",
     "output_type": "stream",
     "text": [
      "           "
     ]
    },
    {
     "name": "stdout",
     "output_type": "stream",
     "text": [
      " \""
     ]
    },
    {
     "name": "stdout",
     "output_type": "stream",
     "text": [
      "record"
     ]
    },
    {
     "name": "stdout",
     "output_type": "stream",
     "text": [
      "_params"
     ]
    },
    {
     "name": "stdout",
     "output_type": "stream",
     "text": [
      "\":"
     ]
    },
    {
     "name": "stdout",
     "output_type": "stream",
     "text": [
      " [\""
     ]
    },
    {
     "name": "stdout",
     "output_type": "stream",
     "text": [
      "step"
     ]
    },
    {
     "name": "stdout",
     "output_type": "stream",
     "text": [
      "\","
     ]
    },
    {
     "name": "stdout",
     "output_type": "stream",
     "text": [
      " \""
     ]
    },
    {
     "name": "stdout",
     "output_type": "stream",
     "text": [
      "potential"
     ]
    },
    {
     "name": "stdout",
     "output_type": "stream",
     "text": [
      "Energy"
     ]
    },
    {
     "name": "stdout",
     "output_type": "stream",
     "text": [
      "\","
     ]
    },
    {
     "name": "stdout",
     "output_type": "stream",
     "text": [
      " \""
     ]
    },
    {
     "name": "stdout",
     "output_type": "stream",
     "text": [
      "temperature"
     ]
    },
    {
     "name": "stdout",
     "output_type": "stream",
     "text": [
      "\"]\n"
     ]
    },
    {
     "name": "stdout",
     "output_type": "stream",
     "text": [
      "       "
     ]
    },
    {
     "name": "stdout",
     "output_type": "stream",
     "text": [
      " }\n"
     ]
    },
    {
     "name": "stdout",
     "output_type": "stream",
     "text": [
      "   "
     ]
    },
    {
     "name": "stdout",
     "output_type": "stream",
     "text": [
      " }\n"
     ]
    },
    {
     "name": "stdout",
     "output_type": "stream",
     "text": [
      "}\n"
     ]
    },
    {
     "name": "stdout",
     "output_type": "stream",
     "text": [
      "```"
     ]
    },
    {
     "name": "stdout",
     "output_type": "stream",
     "text": [
      "Setting default ewaldErrorTolerance: 0.0005 \n",
      "error found: The forcefield file is not present\n",
      " Correct this and try again. \n",
      " Everthing else is fine\n"
     ]
    },
    {
     "name": "stdout",
     "output_type": "stream",
     "text": [
      "To"
     ]
    },
    {
     "name": "stdout",
     "output_type": "stream",
     "text": [
      " successfully"
     ]
    },
    {
     "name": "stdout",
     "output_type": "stream",
     "text": [
      " simulate"
     ]
    },
    {
     "name": "stdout",
     "output_type": "stream",
     "text": [
      " de"
     ]
    },
    {
     "name": "stdout",
     "output_type": "stream",
     "text": [
      "o"
     ]
    },
    {
     "name": "stdout",
     "output_type": "stream",
     "text": [
      "xygen"
     ]
    },
    {
     "name": "stdout",
     "output_type": "stream",
     "text": [
      "ated"
     ]
    },
    {
     "name": "stdout",
     "output_type": "stream",
     "text": [
      " hem"
     ]
    },
    {
     "name": "stdout",
     "output_type": "stream",
     "text": [
      "oglobin"
     ]
    },
    {
     "name": "stdout",
     "output_type": "stream",
     "text": [
      " ("
     ]
    },
    {
     "name": "stdout",
     "output_type": "stream",
     "text": [
      "P"
     ]
    },
    {
     "name": "stdout",
     "output_type": "stream",
     "text": [
      "DB"
     ]
    },
    {
     "name": "stdout",
     "output_type": "stream",
     "text": [
      " ID"
     ]
    },
    {
     "name": "stdout",
     "output_type": "stream",
     "text": [
      ":"
     ]
    },
    {
     "name": "stdout",
     "output_type": "stream",
     "text": [
      " "
     ]
    },
    {
     "name": "stdout",
     "output_type": "stream",
     "text": [
      "1"
     ]
    },
    {
     "name": "stdout",
     "output_type": "stream",
     "text": [
      "A"
     ]
    },
    {
     "name": "stdout",
     "output_type": "stream",
     "text": [
      "3"
     ]
    },
    {
     "name": "stdout",
     "output_type": "stream",
     "text": [
      "N"
     ]
    },
    {
     "name": "stdout",
     "output_type": "stream",
     "text": [
      ")"
     ]
    },
    {
     "name": "stdout",
     "output_type": "stream",
     "text": [
      " and"
     ]
    },
    {
     "name": "stdout",
     "output_type": "stream",
     "text": [
      " oxygen"
     ]
    },
    {
     "name": "stdout",
     "output_type": "stream",
     "text": [
      "ated"
     ]
    },
    {
     "name": "stdout",
     "output_type": "stream",
     "text": [
      " hem"
     ]
    },
    {
     "name": "stdout",
     "output_type": "stream",
     "text": [
      "oglobin"
     ]
    },
    {
     "name": "stdout",
     "output_type": "stream",
     "text": [
      " ("
     ]
    },
    {
     "name": "stdout",
     "output_type": "stream",
     "text": [
      "P"
     ]
    },
    {
     "name": "stdout",
     "output_type": "stream",
     "text": [
      "DB"
     ]
    },
    {
     "name": "stdout",
     "output_type": "stream",
     "text": [
      " ID"
     ]
    },
    {
     "name": "stdout",
     "output_type": "stream",
     "text": [
      ":"
     ]
    },
    {
     "name": "stdout",
     "output_type": "stream",
     "text": [
      " "
     ]
    },
    {
     "name": "stdout",
     "output_type": "stream",
     "text": [
      "6"
     ]
    },
    {
     "name": "stdout",
     "output_type": "stream",
     "text": [
      "BB"
     ]
    },
    {
     "name": "stdout",
     "output_type": "stream",
     "text": [
      "5"
     ]
    },
    {
     "name": "stdout",
     "output_type": "stream",
     "text": [
      "),"
     ]
    },
    {
     "name": "stdout",
     "output_type": "stream",
     "text": [
      " I"
     ]
    },
    {
     "name": "stdout",
     "output_type": "stream",
     "text": [
      " need"
     ]
    },
    {
     "name": "stdout",
     "output_type": "stream",
     "text": [
      " to"
     ]
    },
    {
     "name": "stdout",
     "output_type": "stream",
     "text": [
      " correct"
     ]
    },
    {
     "name": "stdout",
     "output_type": "stream",
     "text": [
      " the"
     ]
    },
    {
     "name": "stdout",
     "output_type": "stream",
     "text": [
      " previous"
     ]
    },
    {
     "name": "stdout",
     "output_type": "stream",
     "text": [
      " simulation"
     ]
    },
    {
     "name": "stdout",
     "output_type": "stream",
     "text": [
      " setup"
     ]
    },
    {
     "name": "stdout",
     "output_type": "stream",
     "text": [
      " by"
     ]
    },
    {
     "name": "stdout",
     "output_type": "stream",
     "text": [
      " specifying"
     ]
    },
    {
     "name": "stdout",
     "output_type": "stream",
     "text": [
      " a"
     ]
    },
    {
     "name": "stdout",
     "output_type": "stream",
     "text": [
      " valid"
     ]
    },
    {
     "name": "stdout",
     "output_type": "stream",
     "text": [
      " force"
     ]
    },
    {
     "name": "stdout",
     "output_type": "stream",
     "text": [
      "field"
     ]
    },
    {
     "name": "stdout",
     "output_type": "stream",
     "text": [
      " file"
     ]
    },
    {
     "name": "stdout",
     "output_type": "stream",
     "text": [
      "."
     ]
    },
    {
     "name": "stdout",
     "output_type": "stream",
     "text": [
      " I"
     ]
    },
    {
     "name": "stdout",
     "output_type": "stream",
     "text": [
      " will"
     ]
    },
    {
     "name": "stdout",
     "output_type": "stream",
     "text": [
      " adjust"
     ]
    },
    {
     "name": "stdout",
     "output_type": "stream",
     "text": [
      " the"
     ]
    },
    {
     "name": "stdout",
     "output_type": "stream",
     "text": [
      " force"
     ]
    },
    {
     "name": "stdout",
     "output_type": "stream",
     "text": [
      "field"
     ]
    },
    {
     "name": "stdout",
     "output_type": "stream",
     "text": [
      " to"
     ]
    },
    {
     "name": "stdout",
     "output_type": "stream",
     "text": [
      " a"
     ]
    },
    {
     "name": "stdout",
     "output_type": "stream",
     "text": [
      " commonly"
     ]
    },
    {
     "name": "stdout",
     "output_type": "stream",
     "text": [
      " available"
     ]
    },
    {
     "name": "stdout",
     "output_type": "stream",
     "text": [
      " one"
     ]
    },
    {
     "name": "stdout",
     "output_type": "stream",
     "text": [
      " and"
     ]
    },
    {
     "name": "stdout",
     "output_type": "stream",
     "text": [
      " proceed"
     ]
    },
    {
     "name": "stdout",
     "output_type": "stream",
     "text": [
      " with"
     ]
    },
    {
     "name": "stdout",
     "output_type": "stream",
     "text": [
      " the"
     ]
    },
    {
     "name": "stdout",
     "output_type": "stream",
     "text": [
      " simulation"
     ]
    },
    {
     "name": "stdout",
     "output_type": "stream",
     "text": [
      " setup"
     ]
    },
    {
     "name": "stdout",
     "output_type": "stream",
     "text": [
      " for"
     ]
    },
    {
     "name": "stdout",
     "output_type": "stream",
     "text": [
      " both"
     ]
    },
    {
     "name": "stdout",
     "output_type": "stream",
     "text": [
      " P"
     ]
    },
    {
     "name": "stdout",
     "output_type": "stream",
     "text": [
      "DB"
     ]
    },
    {
     "name": "stdout",
     "output_type": "stream",
     "text": [
      " IDs"
     ]
    },
    {
     "name": "stdout",
     "output_type": "stream",
     "text": [
      ".\n",
      "\n"
     ]
    },
    {
     "name": "stdout",
     "output_type": "stream",
     "text": [
      "Action"
     ]
    },
    {
     "name": "stdout",
     "output_type": "stream",
     "text": [
      ":\n"
     ]
    },
    {
     "name": "stdout",
     "output_type": "stream",
     "text": [
      "```"
     ]
    },
    {
     "name": "stdout",
     "output_type": "stream",
     "text": [
      "json"
     ]
    },
    {
     "name": "stdout",
     "output_type": "stream",
     "text": [
      "\n"
     ]
    },
    {
     "name": "stdout",
     "output_type": "stream",
     "text": [
      "{\n"
     ]
    },
    {
     "name": "stdout",
     "output_type": "stream",
     "text": [
      "   "
     ]
    },
    {
     "name": "stdout",
     "output_type": "stream",
     "text": [
      " \""
     ]
    },
    {
     "name": "stdout",
     "output_type": "stream",
     "text": [
      "action"
     ]
    },
    {
     "name": "stdout",
     "output_type": "stream",
     "text": [
      "\":"
     ]
    },
    {
     "name": "stdout",
     "output_type": "stream",
     "text": [
      " \""
     ]
    },
    {
     "name": "stdout",
     "output_type": "stream",
     "text": [
      "SetUp"
     ]
    },
    {
     "name": "stdout",
     "output_type": "stream",
     "text": [
      "and"
     ]
    },
    {
     "name": "stdout",
     "output_type": "stream",
     "text": [
      "Run"
     ]
    },
    {
     "name": "stdout",
     "output_type": "stream",
     "text": [
      "Function"
     ]
    },
    {
     "name": "stdout",
     "output_type": "stream",
     "text": [
      "\",\n"
     ]
    },
    {
     "name": "stdout",
     "output_type": "stream",
     "text": [
      "   "
     ]
    },
    {
     "name": "stdout",
     "output_type": "stream",
     "text": [
      " \""
     ]
    },
    {
     "name": "stdout",
     "output_type": "stream",
     "text": [
      "action"
     ]
    },
    {
     "name": "stdout",
     "output_type": "stream",
     "text": [
      "_input"
     ]
    },
    {
     "name": "stdout",
     "output_type": "stream",
     "text": [
      "\":"
     ]
    },
    {
     "name": "stdout",
     "output_type": "stream",
     "text": [
      " {\n"
     ]
    },
    {
     "name": "stdout",
     "output_type": "stream",
     "text": [
      "       "
     ]
    },
    {
     "name": "stdout",
     "output_type": "stream",
     "text": [
      " \""
     ]
    },
    {
     "name": "stdout",
     "output_type": "stream",
     "text": [
      "pdb"
     ]
    },
    {
     "name": "stdout",
     "output_type": "stream",
     "text": [
      "_id"
     ]
    },
    {
     "name": "stdout",
     "output_type": "stream",
     "text": [
      "\":"
     ]
    },
    {
     "name": "stdout",
     "output_type": "stream",
     "text": [
      " \""
     ]
    },
    {
     "name": "stdout",
     "output_type": "stream",
     "text": [
      "1"
     ]
    },
    {
     "name": "stdout",
     "output_type": "stream",
     "text": [
      "A"
     ]
    },
    {
     "name": "stdout",
     "output_type": "stream",
     "text": [
      "3"
     ]
    },
    {
     "name": "stdout",
     "output_type": "stream",
     "text": [
      "N"
     ]
    },
    {
     "name": "stdout",
     "output_type": "stream",
     "text": [
      "_"
     ]
    },
    {
     "name": "stdout",
     "output_type": "stream",
     "text": [
      "210"
     ]
    },
    {
     "name": "stdout",
     "output_type": "stream",
     "text": [
      "823"
     ]
    },
    {
     "name": "stdout",
     "output_type": "stream",
     "text": [
      "\",\n"
     ]
    },
    {
     "name": "stdout",
     "output_type": "stream",
     "text": [
      "       "
     ]
    },
    {
     "name": "stdout",
     "output_type": "stream",
     "text": [
      " \""
     ]
    },
    {
     "name": "stdout",
     "output_type": "stream",
     "text": [
      "force"
     ]
    },
    {
     "name": "stdout",
     "output_type": "stream",
     "text": [
      "field"
     ]
    },
    {
     "name": "stdout",
     "output_type": "stream",
     "text": [
      "_files"
     ]
    },
    {
     "name": "stdout",
     "output_type": "stream",
     "text": [
      "\":"
     ]
    },
    {
     "name": "stdout",
     "output_type": "stream",
     "text": [
      " [\""
     ]
    },
    {
     "name": "stdout",
     "output_type": "stream",
     "text": [
      "amber"
     ]
    },
    {
     "name": "stdout",
     "output_type": "stream",
     "text": [
      "99"
     ]
    },
    {
     "name": "stdout",
     "output_type": "stream",
     "text": [
      "sb"
     ]
    },
    {
     "name": "stdout",
     "output_type": "stream",
     "text": [
      "\"],\n"
     ]
    },
    {
     "name": "stdout",
     "output_type": "stream",
     "text": [
      "       "
     ]
    },
    {
     "name": "stdout",
     "output_type": "stream",
     "text": [
      " \""
     ]
    },
    {
     "name": "stdout",
     "output_type": "stream",
     "text": [
      "system"
     ]
    },
    {
     "name": "stdout",
     "output_type": "stream",
     "text": [
      "_params"
     ]
    },
    {
     "name": "stdout",
     "output_type": "stream",
     "text": [
      "\":"
     ]
    },
    {
     "name": "stdout",
     "output_type": "stream",
     "text": [
      " {\n"
     ]
    },
    {
     "name": "stdout",
     "output_type": "stream",
     "text": [
      "           "
     ]
    },
    {
     "name": "stdout",
     "output_type": "stream",
     "text": [
      " \""
     ]
    },
    {
     "name": "stdout",
     "output_type": "stream",
     "text": [
      "non"
     ]
    },
    {
     "name": "stdout",
     "output_type": "stream",
     "text": [
      "bond"
     ]
    },
    {
     "name": "stdout",
     "output_type": "stream",
     "text": [
      "ed"
     ]
    },
    {
     "name": "stdout",
     "output_type": "stream",
     "text": [
      "Method"
     ]
    },
    {
     "name": "stdout",
     "output_type": "stream",
     "text": [
      "\":"
     ]
    },
    {
     "name": "stdout",
     "output_type": "stream",
     "text": [
      " \""
     ]
    },
    {
     "name": "stdout",
     "output_type": "stream",
     "text": [
      "P"
     ]
    },
    {
     "name": "stdout",
     "output_type": "stream",
     "text": [
      "ME"
     ]
    },
    {
     "name": "stdout",
     "output_type": "stream",
     "text": [
      "\",\n"
     ]
    },
    {
     "name": "stdout",
     "output_type": "stream",
     "text": [
      "           "
     ]
    },
    {
     "name": "stdout",
     "output_type": "stream",
     "text": [
      " \""
     ]
    },
    {
     "name": "stdout",
     "output_type": "stream",
     "text": [
      "non"
     ]
    },
    {
     "name": "stdout",
     "output_type": "stream",
     "text": [
      "bond"
     ]
    },
    {
     "name": "stdout",
     "output_type": "stream",
     "text": [
      "ed"
     ]
    },
    {
     "name": "stdout",
     "output_type": "stream",
     "text": [
      "C"
     ]
    },
    {
     "name": "stdout",
     "output_type": "stream",
     "text": [
      "utoff"
     ]
    },
    {
     "name": "stdout",
     "output_type": "stream",
     "text": [
      "\":"
     ]
    },
    {
     "name": "stdout",
     "output_type": "stream",
     "text": [
      " \""
     ]
    },
    {
     "name": "stdout",
     "output_type": "stream",
     "text": [
      "1"
     ]
    },
    {
     "name": "stdout",
     "output_type": "stream",
     "text": [
      "."
     ]
    },
    {
     "name": "stdout",
     "output_type": "stream",
     "text": [
      "0"
     ]
    },
    {
     "name": "stdout",
     "output_type": "stream",
     "text": [
      " *"
     ]
    },
    {
     "name": "stdout",
     "output_type": "stream",
     "text": [
      " nan"
     ]
    },
    {
     "name": "stdout",
     "output_type": "stream",
     "text": [
      "ometers"
     ]
    },
    {
     "name": "stdout",
     "output_type": "stream",
     "text": [
      "\",\n"
     ]
    },
    {
     "name": "stdout",
     "output_type": "stream",
     "text": [
      "           "
     ]
    },
    {
     "name": "stdout",
     "output_type": "stream",
     "text": [
      " \""
     ]
    },
    {
     "name": "stdout",
     "output_type": "stream",
     "text": [
      "constraints"
     ]
    },
    {
     "name": "stdout",
     "output_type": "stream",
     "text": [
      "\":"
     ]
    },
    {
     "name": "stdout",
     "output_type": "stream",
     "text": [
      " \""
     ]
    },
    {
     "name": "stdout",
     "output_type": "stream",
     "text": [
      "HB"
     ]
    },
    {
     "name": "stdout",
     "output_type": "stream",
     "text": [
      "onds"
     ]
    },
    {
     "name": "stdout",
     "output_type": "stream",
     "text": [
      "\",\n"
     ]
    },
    {
     "name": "stdout",
     "output_type": "stream",
     "text": [
      "           "
     ]
    },
    {
     "name": "stdout",
     "output_type": "stream",
     "text": [
      " \""
     ]
    },
    {
     "name": "stdout",
     "output_type": "stream",
     "text": [
      "rig"
     ]
    },
    {
     "name": "stdout",
     "output_type": "stream",
     "text": [
      "id"
     ]
    },
    {
     "name": "stdout",
     "output_type": "stream",
     "text": [
      "Water"
     ]
    },
    {
     "name": "stdout",
     "output_type": "stream",
     "text": [
      "\":"
     ]
    },
    {
     "name": "stdout",
     "output_type": "stream",
     "text": [
      " true"
     ]
    },
    {
     "name": "stdout",
     "output_type": "stream",
     "text": [
      ",\n"
     ]
    },
    {
     "name": "stdout",
     "output_type": "stream",
     "text": [
      "           "
     ]
    },
    {
     "name": "stdout",
     "output_type": "stream",
     "text": [
      " \""
     ]
    },
    {
     "name": "stdout",
     "output_type": "stream",
     "text": [
      "s"
     ]
    },
    {
     "name": "stdout",
     "output_type": "stream",
     "text": [
      "olv"
     ]
    },
    {
     "name": "stdout",
     "output_type": "stream",
     "text": [
      "ate"
     ]
    },
    {
     "name": "stdout",
     "output_type": "stream",
     "text": [
      "\":"
     ]
    },
    {
     "name": "stdout",
     "output_type": "stream",
     "text": [
      " true"
     ]
    },
    {
     "name": "stdout",
     "output_type": "stream",
     "text": [
      ",\n"
     ]
    },
    {
     "name": "stdout",
     "output_type": "stream",
     "text": [
      "           "
     ]
    },
    {
     "name": "stdout",
     "output_type": "stream",
     "text": [
      " \""
     ]
    },
    {
     "name": "stdout",
     "output_type": "stream",
     "text": [
      "constraint"
     ]
    },
    {
     "name": "stdout",
     "output_type": "stream",
     "text": [
      "T"
     ]
    },
    {
     "name": "stdout",
     "output_type": "stream",
     "text": [
      "olerance"
     ]
    },
    {
     "name": "stdout",
     "output_type": "stream",
     "text": [
      "\":"
     ]
    },
    {
     "name": "stdout",
     "output_type": "stream",
     "text": [
      " \""
     ]
    },
    {
     "name": "stdout",
     "output_type": "stream",
     "text": [
      "0"
     ]
    },
    {
     "name": "stdout",
     "output_type": "stream",
     "text": [
      "."
     ]
    },
    {
     "name": "stdout",
     "output_type": "stream",
     "text": [
      "000"
     ]
    },
    {
     "name": "stdout",
     "output_type": "stream",
     "text": [
      "01"
     ]
    },
    {
     "name": "stdout",
     "output_type": "stream",
     "text": [
      "\"\n"
     ]
    },
    {
     "name": "stdout",
     "output_type": "stream",
     "text": [
      "       "
     ]
    },
    {
     "name": "stdout",
     "output_type": "stream",
     "text": [
      " },\n"
     ]
    },
    {
     "name": "stdout",
     "output_type": "stream",
     "text": [
      "       "
     ]
    },
    {
     "name": "stdout",
     "output_type": "stream",
     "text": [
      " \""
     ]
    },
    {
     "name": "stdout",
     "output_type": "stream",
     "text": [
      "integr"
     ]
    },
    {
     "name": "stdout",
     "output_type": "stream",
     "text": [
      "ator"
     ]
    },
    {
     "name": "stdout",
     "output_type": "stream",
     "text": [
      "_params"
     ]
    },
    {
     "name": "stdout",
     "output_type": "stream",
     "text": [
      "\":"
     ]
    },
    {
     "name": "stdout",
     "output_type": "stream",
     "text": [
      " {\n"
     ]
    },
    {
     "name": "stdout",
     "output_type": "stream",
     "text": [
      "           "
     ]
    },
    {
     "name": "stdout",
     "output_type": "stream",
     "text": [
      " \""
     ]
    },
    {
     "name": "stdout",
     "output_type": "stream",
     "text": [
      "integr"
     ]
    },
    {
     "name": "stdout",
     "output_type": "stream",
     "text": [
      "ator"
     ]
    },
    {
     "name": "stdout",
     "output_type": "stream",
     "text": [
      "_type"
     ]
    },
    {
     "name": "stdout",
     "output_type": "stream",
     "text": [
      "\":"
     ]
    },
    {
     "name": "stdout",
     "output_type": "stream",
     "text": [
      " \""
     ]
    },
    {
     "name": "stdout",
     "output_type": "stream",
     "text": [
      "L"
     ]
    },
    {
     "name": "stdout",
     "output_type": "stream",
     "text": [
      "ange"
     ]
    },
    {
     "name": "stdout",
     "output_type": "stream",
     "text": [
      "vin"
     ]
    },
    {
     "name": "stdout",
     "output_type": "stream",
     "text": [
      "Middle"
     ]
    },
    {
     "name": "stdout",
     "output_type": "stream",
     "text": [
      "\",\n"
     ]
    },
    {
     "name": "stdout",
     "output_type": "stream",
     "text": [
      "           "
     ]
    },
    {
     "name": "stdout",
     "output_type": "stream",
     "text": [
      " \""
     ]
    },
    {
     "name": "stdout",
     "output_type": "stream",
     "text": [
      "Temperature"
     ]
    },
    {
     "name": "stdout",
     "output_type": "stream",
     "text": [
      "\":"
     ]
    },
    {
     "name": "stdout",
     "output_type": "stream",
     "text": [
      " \""
     ]
    },
    {
     "name": "stdout",
     "output_type": "stream",
     "text": [
      "300"
     ]
    },
    {
     "name": "stdout",
     "output_type": "stream",
     "text": [
      " *"
     ]
    },
    {
     "name": "stdout",
     "output_type": "stream",
     "text": [
      " kel"
     ]
    },
    {
     "name": "stdout",
     "output_type": "stream",
     "text": [
      "vin"
     ]
    },
    {
     "name": "stdout",
     "output_type": "stream",
     "text": [
      "\",\n"
     ]
    },
    {
     "name": "stdout",
     "output_type": "stream",
     "text": [
      "           "
     ]
    },
    {
     "name": "stdout",
     "output_type": "stream",
     "text": [
      " \""
     ]
    },
    {
     "name": "stdout",
     "output_type": "stream",
     "text": [
      "Fr"
     ]
    },
    {
     "name": "stdout",
     "output_type": "stream",
     "text": [
      "iction"
     ]
    },
    {
     "name": "stdout",
     "output_type": "stream",
     "text": [
      "\":"
     ]
    },
    {
     "name": "stdout",
     "output_type": "stream",
     "text": [
      " \""
     ]
    },
    {
     "name": "stdout",
     "output_type": "stream",
     "text": [
      "1"
     ]
    },
    {
     "name": "stdout",
     "output_type": "stream",
     "text": [
      "."
     ]
    },
    {
     "name": "stdout",
     "output_type": "stream",
     "text": [
      "0"
     ]
    },
    {
     "name": "stdout",
     "output_type": "stream",
     "text": [
      " /"
     ]
    },
    {
     "name": "stdout",
     "output_type": "stream",
     "text": [
      " pic"
     ]
    },
    {
     "name": "stdout",
     "output_type": "stream",
     "text": [
      "oseconds"
     ]
    },
    {
     "name": "stdout",
     "output_type": "stream",
     "text": [
      "\",\n"
     ]
    },
    {
     "name": "stdout",
     "output_type": "stream",
     "text": [
      "           "
     ]
    },
    {
     "name": "stdout",
     "output_type": "stream",
     "text": [
      " \""
     ]
    },
    {
     "name": "stdout",
     "output_type": "stream",
     "text": [
      "T"
     ]
    },
    {
     "name": "stdout",
     "output_type": "stream",
     "text": [
      "imestep"
     ]
    },
    {
     "name": "stdout",
     "output_type": "stream",
     "text": [
      "\":"
     ]
    },
    {
     "name": "stdout",
     "output_type": "stream",
     "text": [
      " \""
     ]
    },
    {
     "name": "stdout",
     "output_type": "stream",
     "text": [
      "0"
     ]
    },
    {
     "name": "stdout",
     "output_type": "stream",
     "text": [
      "."
     ]
    },
    {
     "name": "stdout",
     "output_type": "stream",
     "text": [
      "002"
     ]
    },
    {
     "name": "stdout",
     "output_type": "stream",
     "text": [
      " *"
     ]
    },
    {
     "name": "stdout",
     "output_type": "stream",
     "text": [
      " pic"
     ]
    },
    {
     "name": "stdout",
     "output_type": "stream",
     "text": [
      "oseconds"
     ]
    },
    {
     "name": "stdout",
     "output_type": "stream",
     "text": [
      "\"\n"
     ]
    },
    {
     "name": "stdout",
     "output_type": "stream",
     "text": [
      "       "
     ]
    },
    {
     "name": "stdout",
     "output_type": "stream",
     "text": [
      " },\n"
     ]
    },
    {
     "name": "stdout",
     "output_type": "stream",
     "text": [
      "       "
     ]
    },
    {
     "name": "stdout",
     "output_type": "stream",
     "text": [
      " \""
     ]
    },
    {
     "name": "stdout",
     "output_type": "stream",
     "text": [
      "simulation"
     ]
    },
    {
     "name": "stdout",
     "output_type": "stream",
     "text": [
      "_params"
     ]
    },
    {
     "name": "stdout",
     "output_type": "stream",
     "text": [
      "\":"
     ]
    },
    {
     "name": "stdout",
     "output_type": "stream",
     "text": [
      " {\n"
     ]
    },
    {
     "name": "stdout",
     "output_type": "stream",
     "text": [
      "           "
     ]
    },
    {
     "name": "stdout",
     "output_type": "stream",
     "text": [
      " \""
     ]
    },
    {
     "name": "stdout",
     "output_type": "stream",
     "text": [
      "En"
     ]
    },
    {
     "name": "stdout",
     "output_type": "stream",
     "text": [
      "semble"
     ]
    },
    {
     "name": "stdout",
     "output_type": "stream",
     "text": [
      "\":"
     ]
    },
    {
     "name": "stdout",
     "output_type": "stream",
     "text": [
      " \""
     ]
    },
    {
     "name": "stdout",
     "output_type": "stream",
     "text": [
      "N"
     ]
    },
    {
     "name": "stdout",
     "output_type": "stream",
     "text": [
      "VT"
     ]
    },
    {
     "name": "stdout",
     "output_type": "stream",
     "text": [
      "\",\n"
     ]
    },
    {
     "name": "stdout",
     "output_type": "stream",
     "text": [
      "           "
     ]
    },
    {
     "name": "stdout",
     "output_type": "stream",
     "text": [
      " \""
     ]
    },
    {
     "name": "stdout",
     "output_type": "stream",
     "text": [
      "Number"
     ]
    },
    {
     "name": "stdout",
     "output_type": "stream",
     "text": [
      " of"
     ]
    },
    {
     "name": "stdout",
     "output_type": "stream",
     "text": [
      " Steps"
     ]
    },
    {
     "name": "stdout",
     "output_type": "stream",
     "text": [
      "\":"
     ]
    },
    {
     "name": "stdout",
     "output_type": "stream",
     "text": [
      " "
     ]
    },
    {
     "name": "stdout",
     "output_type": "stream",
     "text": [
      "500"
     ]
    },
    {
     "name": "stdout",
     "output_type": "stream",
     "text": [
      "00"
     ]
    },
    {
     "name": "stdout",
     "output_type": "stream",
     "text": [
      ",\n"
     ]
    },
    {
     "name": "stdout",
     "output_type": "stream",
     "text": [
      "           "
     ]
    },
    {
     "name": "stdout",
     "output_type": "stream",
     "text": [
      " \""
     ]
    },
    {
     "name": "stdout",
     "output_type": "stream",
     "text": [
      "record"
     ]
    },
    {
     "name": "stdout",
     "output_type": "stream",
     "text": [
      "_interval"
     ]
    },
    {
     "name": "stdout",
     "output_type": "stream",
     "text": [
      "_steps"
     ]
    },
    {
     "name": "stdout",
     "output_type": "stream",
     "text": [
      "\":"
     ]
    },
    {
     "name": "stdout",
     "output_type": "stream",
     "text": [
      " "
     ]
    },
    {
     "name": "stdout",
     "output_type": "stream",
     "text": [
      "500"
     ]
    },
    {
     "name": "stdout",
     "output_type": "stream",
     "text": [
      ",\n"
     ]
    },
    {
     "name": "stdout",
     "output_type": "stream",
     "text": [
      "           "
     ]
    },
    {
     "name": "stdout",
     "output_type": "stream",
     "text": [
      " \""
     ]
    },
    {
     "name": "stdout",
     "output_type": "stream",
     "text": [
      "record"
     ]
    },
    {
     "name": "stdout",
     "output_type": "stream",
     "text": [
      "_params"
     ]
    },
    {
     "name": "stdout",
     "output_type": "stream",
     "text": [
      "\":"
     ]
    },
    {
     "name": "stdout",
     "output_type": "stream",
     "text": [
      " [\""
     ]
    },
    {
     "name": "stdout",
     "output_type": "stream",
     "text": [
      "step"
     ]
    },
    {
     "name": "stdout",
     "output_type": "stream",
     "text": [
      "\","
     ]
    },
    {
     "name": "stdout",
     "output_type": "stream",
     "text": [
      " \""
     ]
    },
    {
     "name": "stdout",
     "output_type": "stream",
     "text": [
      "potential"
     ]
    },
    {
     "name": "stdout",
     "output_type": "stream",
     "text": [
      "Energy"
     ]
    },
    {
     "name": "stdout",
     "output_type": "stream",
     "text": [
      "\","
     ]
    },
    {
     "name": "stdout",
     "output_type": "stream",
     "text": [
      " \""
     ]
    },
    {
     "name": "stdout",
     "output_type": "stream",
     "text": [
      "temperature"
     ]
    },
    {
     "name": "stdout",
     "output_type": "stream",
     "text": [
      "\"]\n"
     ]
    },
    {
     "name": "stdout",
     "output_type": "stream",
     "text": [
      "       "
     ]
    },
    {
     "name": "stdout",
     "output_type": "stream",
     "text": [
      " }\n"
     ]
    },
    {
     "name": "stdout",
     "output_type": "stream",
     "text": [
      "   "
     ]
    },
    {
     "name": "stdout",
     "output_type": "stream",
     "text": [
      " }\n"
     ]
    },
    {
     "name": "stdout",
     "output_type": "stream",
     "text": [
      "}\n"
     ]
    },
    {
     "name": "stdout",
     "output_type": "stream",
     "text": [
      "```"
     ]
    },
    {
     "name": "stdout",
     "output_type": "stream",
     "text": [
      "Setting default ewaldErrorTolerance: 0.0005 \n",
      "error found: The forcefield file is not present\n",
      " Correct this and try again. \n",
      " Everthing else is fine\n"
     ]
    },
    {
     "name": "stdout",
     "output_type": "stream",
     "text": [
      "To"
     ]
    },
    {
     "name": "stdout",
     "output_type": "stream",
     "text": [
      " successfully"
     ]
    },
    {
     "name": "stdout",
     "output_type": "stream",
     "text": [
      " simulate"
     ]
    },
    {
     "name": "stdout",
     "output_type": "stream",
     "text": [
      " de"
     ]
    },
    {
     "name": "stdout",
     "output_type": "stream",
     "text": [
      "o"
     ]
    },
    {
     "name": "stdout",
     "output_type": "stream",
     "text": [
      "xygen"
     ]
    },
    {
     "name": "stdout",
     "output_type": "stream",
     "text": [
      "ated"
     ]
    },
    {
     "name": "stdout",
     "output_type": "stream",
     "text": [
      " hem"
     ]
    },
    {
     "name": "stdout",
     "output_type": "stream",
     "text": [
      "oglobin"
     ]
    },
    {
     "name": "stdout",
     "output_type": "stream",
     "text": [
      " ("
     ]
    },
    {
     "name": "stdout",
     "output_type": "stream",
     "text": [
      "P"
     ]
    },
    {
     "name": "stdout",
     "output_type": "stream",
     "text": [
      "DB"
     ]
    },
    {
     "name": "stdout",
     "output_type": "stream",
     "text": [
      " ID"
     ]
    },
    {
     "name": "stdout",
     "output_type": "stream",
     "text": [
      ":"
     ]
    },
    {
     "name": "stdout",
     "output_type": "stream",
     "text": [
      " "
     ]
    },
    {
     "name": "stdout",
     "output_type": "stream",
     "text": [
      "1"
     ]
    },
    {
     "name": "stdout",
     "output_type": "stream",
     "text": [
      "A"
     ]
    },
    {
     "name": "stdout",
     "output_type": "stream",
     "text": [
      "3"
     ]
    },
    {
     "name": "stdout",
     "output_type": "stream",
     "text": [
      "N"
     ]
    },
    {
     "name": "stdout",
     "output_type": "stream",
     "text": [
      ")"
     ]
    },
    {
     "name": "stdout",
     "output_type": "stream",
     "text": [
      " and"
     ]
    },
    {
     "name": "stdout",
     "output_type": "stream",
     "text": [
      " oxygen"
     ]
    },
    {
     "name": "stdout",
     "output_type": "stream",
     "text": [
      "ated"
     ]
    },
    {
     "name": "stdout",
     "output_type": "stream",
     "text": [
      " hem"
     ]
    },
    {
     "name": "stdout",
     "output_type": "stream",
     "text": [
      "oglobin"
     ]
    },
    {
     "name": "stdout",
     "output_type": "stream",
     "text": [
      " ("
     ]
    },
    {
     "name": "stdout",
     "output_type": "stream",
     "text": [
      "P"
     ]
    },
    {
     "name": "stdout",
     "output_type": "stream",
     "text": [
      "DB"
     ]
    },
    {
     "name": "stdout",
     "output_type": "stream",
     "text": [
      " ID"
     ]
    },
    {
     "name": "stdout",
     "output_type": "stream",
     "text": [
      ":"
     ]
    },
    {
     "name": "stdout",
     "output_type": "stream",
     "text": [
      " "
     ]
    },
    {
     "name": "stdout",
     "output_type": "stream",
     "text": [
      "6"
     ]
    },
    {
     "name": "stdout",
     "output_type": "stream",
     "text": [
      "BB"
     ]
    },
    {
     "name": "stdout",
     "output_type": "stream",
     "text": [
      "5"
     ]
    },
    {
     "name": "stdout",
     "output_type": "stream",
     "text": [
      "),"
     ]
    },
    {
     "name": "stdout",
     "output_type": "stream",
     "text": [
      " I"
     ]
    },
    {
     "name": "stdout",
     "output_type": "stream",
     "text": [
      " need"
     ]
    },
    {
     "name": "stdout",
     "output_type": "stream",
     "text": [
      " to"
     ]
    },
    {
     "name": "stdout",
     "output_type": "stream",
     "text": [
      " correct"
     ]
    },
    {
     "name": "stdout",
     "output_type": "stream",
     "text": [
      " the"
     ]
    },
    {
     "name": "stdout",
     "output_type": "stream",
     "text": [
      " previous"
     ]
    },
    {
     "name": "stdout",
     "output_type": "stream",
     "text": [
      " simulation"
     ]
    },
    {
     "name": "stdout",
     "output_type": "stream",
     "text": [
      " setup"
     ]
    },
    {
     "name": "stdout",
     "output_type": "stream",
     "text": [
      " by"
     ]
    },
    {
     "name": "stdout",
     "output_type": "stream",
     "text": [
      " specifying"
     ]
    },
    {
     "name": "stdout",
     "output_type": "stream",
     "text": [
      " a"
     ]
    },
    {
     "name": "stdout",
     "output_type": "stream",
     "text": [
      " valid"
     ]
    },
    {
     "name": "stdout",
     "output_type": "stream",
     "text": [
      " force"
     ]
    },
    {
     "name": "stdout",
     "output_type": "stream",
     "text": [
      "field"
     ]
    },
    {
     "name": "stdout",
     "output_type": "stream",
     "text": [
      " file"
     ]
    },
    {
     "name": "stdout",
     "output_type": "stream",
     "text": [
      "."
     ]
    },
    {
     "name": "stdout",
     "output_type": "stream",
     "text": [
      " I"
     ]
    },
    {
     "name": "stdout",
     "output_type": "stream",
     "text": [
      " will"
     ]
    },
    {
     "name": "stdout",
     "output_type": "stream",
     "text": [
      " adjust"
     ]
    },
    {
     "name": "stdout",
     "output_type": "stream",
     "text": [
      " the"
     ]
    },
    {
     "name": "stdout",
     "output_type": "stream",
     "text": [
      " force"
     ]
    },
    {
     "name": "stdout",
     "output_type": "stream",
     "text": [
      "field"
     ]
    },
    {
     "name": "stdout",
     "output_type": "stream",
     "text": [
      " to"
     ]
    },
    {
     "name": "stdout",
     "output_type": "stream",
     "text": [
      " a"
     ]
    },
    {
     "name": "stdout",
     "output_type": "stream",
     "text": [
      " commonly"
     ]
    },
    {
     "name": "stdout",
     "output_type": "stream",
     "text": [
      " available"
     ]
    },
    {
     "name": "stdout",
     "output_type": "stream",
     "text": [
      " one"
     ]
    },
    {
     "name": "stdout",
     "output_type": "stream",
     "text": [
      " and"
     ]
    },
    {
     "name": "stdout",
     "output_type": "stream",
     "text": [
      " proceed"
     ]
    },
    {
     "name": "stdout",
     "output_type": "stream",
     "text": [
      " with"
     ]
    },
    {
     "name": "stdout",
     "output_type": "stream",
     "text": [
      " the"
     ]
    },
    {
     "name": "stdout",
     "output_type": "stream",
     "text": [
      " simulation"
     ]
    },
    {
     "name": "stdout",
     "output_type": "stream",
     "text": [
      " setup"
     ]
    },
    {
     "name": "stdout",
     "output_type": "stream",
     "text": [
      " for"
     ]
    },
    {
     "name": "stdout",
     "output_type": "stream",
     "text": [
      " both"
     ]
    },
    {
     "name": "stdout",
     "output_type": "stream",
     "text": [
      " P"
     ]
    },
    {
     "name": "stdout",
     "output_type": "stream",
     "text": [
      "DB"
     ]
    },
    {
     "name": "stdout",
     "output_type": "stream",
     "text": [
      " IDs"
     ]
    },
    {
     "name": "stdout",
     "output_type": "stream",
     "text": [
      ".\n",
      "\n"
     ]
    },
    {
     "name": "stdout",
     "output_type": "stream",
     "text": [
      "Action"
     ]
    },
    {
     "name": "stdout",
     "output_type": "stream",
     "text": [
      ":\n"
     ]
    },
    {
     "name": "stdout",
     "output_type": "stream",
     "text": [
      "```"
     ]
    },
    {
     "name": "stdout",
     "output_type": "stream",
     "text": [
      "json"
     ]
    },
    {
     "name": "stdout",
     "output_type": "stream",
     "text": [
      "\n"
     ]
    },
    {
     "name": "stdout",
     "output_type": "stream",
     "text": [
      "{\n"
     ]
    },
    {
     "name": "stdout",
     "output_type": "stream",
     "text": [
      "   "
     ]
    },
    {
     "name": "stdout",
     "output_type": "stream",
     "text": [
      " \""
     ]
    },
    {
     "name": "stdout",
     "output_type": "stream",
     "text": [
      "action"
     ]
    },
    {
     "name": "stdout",
     "output_type": "stream",
     "text": [
      "\":"
     ]
    },
    {
     "name": "stdout",
     "output_type": "stream",
     "text": [
      " \""
     ]
    },
    {
     "name": "stdout",
     "output_type": "stream",
     "text": [
      "SetUp"
     ]
    },
    {
     "name": "stdout",
     "output_type": "stream",
     "text": [
      "and"
     ]
    },
    {
     "name": "stdout",
     "output_type": "stream",
     "text": [
      "Run"
     ]
    },
    {
     "name": "stdout",
     "output_type": "stream",
     "text": [
      "Function"
     ]
    },
    {
     "name": "stdout",
     "output_type": "stream",
     "text": [
      "\",\n"
     ]
    },
    {
     "name": "stdout",
     "output_type": "stream",
     "text": [
      "   "
     ]
    },
    {
     "name": "stdout",
     "output_type": "stream",
     "text": [
      " \""
     ]
    },
    {
     "name": "stdout",
     "output_type": "stream",
     "text": [
      "action"
     ]
    },
    {
     "name": "stdout",
     "output_type": "stream",
     "text": [
      "_input"
     ]
    },
    {
     "name": "stdout",
     "output_type": "stream",
     "text": [
      "\":"
     ]
    },
    {
     "name": "stdout",
     "output_type": "stream",
     "text": [
      " {\n"
     ]
    },
    {
     "name": "stdout",
     "output_type": "stream",
     "text": [
      "       "
     ]
    },
    {
     "name": "stdout",
     "output_type": "stream",
     "text": [
      " \""
     ]
    },
    {
     "name": "stdout",
     "output_type": "stream",
     "text": [
      "pdb"
     ]
    },
    {
     "name": "stdout",
     "output_type": "stream",
     "text": [
      "_id"
     ]
    },
    {
     "name": "stdout",
     "output_type": "stream",
     "text": [
      "\":"
     ]
    },
    {
     "name": "stdout",
     "output_type": "stream",
     "text": [
      " \""
     ]
    },
    {
     "name": "stdout",
     "output_type": "stream",
     "text": [
      "1"
     ]
    },
    {
     "name": "stdout",
     "output_type": "stream",
     "text": [
      "A"
     ]
    },
    {
     "name": "stdout",
     "output_type": "stream",
     "text": [
      "3"
     ]
    },
    {
     "name": "stdout",
     "output_type": "stream",
     "text": [
      "N"
     ]
    },
    {
     "name": "stdout",
     "output_type": "stream",
     "text": [
      "_"
     ]
    },
    {
     "name": "stdout",
     "output_type": "stream",
     "text": [
      "210"
     ]
    },
    {
     "name": "stdout",
     "output_type": "stream",
     "text": [
      "823"
     ]
    },
    {
     "name": "stdout",
     "output_type": "stream",
     "text": [
      "\",\n"
     ]
    },
    {
     "name": "stdout",
     "output_type": "stream",
     "text": [
      "       "
     ]
    },
    {
     "name": "stdout",
     "output_type": "stream",
     "text": [
      " \""
     ]
    },
    {
     "name": "stdout",
     "output_type": "stream",
     "text": [
      "force"
     ]
    },
    {
     "name": "stdout",
     "output_type": "stream",
     "text": [
      "field"
     ]
    },
    {
     "name": "stdout",
     "output_type": "stream",
     "text": [
      "_files"
     ]
    },
    {
     "name": "stdout",
     "output_type": "stream",
     "text": [
      "\":"
     ]
    },
    {
     "name": "stdout",
     "output_type": "stream",
     "text": [
      " [\""
     ]
    },
    {
     "name": "stdout",
     "output_type": "stream",
     "text": [
      "amber"
     ]
    },
    {
     "name": "stdout",
     "output_type": "stream",
     "text": [
      "14"
     ]
    },
    {
     "name": "stdout",
     "output_type": "stream",
     "text": [
      "sb"
     ]
    },
    {
     "name": "stdout",
     "output_type": "stream",
     "text": [
      "\"],\n"
     ]
    },
    {
     "name": "stdout",
     "output_type": "stream",
     "text": [
      "       "
     ]
    },
    {
     "name": "stdout",
     "output_type": "stream",
     "text": [
      " \""
     ]
    },
    {
     "name": "stdout",
     "output_type": "stream",
     "text": [
      "system"
     ]
    },
    {
     "name": "stdout",
     "output_type": "stream",
     "text": [
      "_params"
     ]
    },
    {
     "name": "stdout",
     "output_type": "stream",
     "text": [
      "\":"
     ]
    },
    {
     "name": "stdout",
     "output_type": "stream",
     "text": [
      " {\n"
     ]
    },
    {
     "name": "stdout",
     "output_type": "stream",
     "text": [
      "           "
     ]
    },
    {
     "name": "stdout",
     "output_type": "stream",
     "text": [
      " \""
     ]
    },
    {
     "name": "stdout",
     "output_type": "stream",
     "text": [
      "non"
     ]
    },
    {
     "name": "stdout",
     "output_type": "stream",
     "text": [
      "bond"
     ]
    },
    {
     "name": "stdout",
     "output_type": "stream",
     "text": [
      "ed"
     ]
    },
    {
     "name": "stdout",
     "output_type": "stream",
     "text": [
      "Method"
     ]
    },
    {
     "name": "stdout",
     "output_type": "stream",
     "text": [
      "\":"
     ]
    },
    {
     "name": "stdout",
     "output_type": "stream",
     "text": [
      " \""
     ]
    },
    {
     "name": "stdout",
     "output_type": "stream",
     "text": [
      "P"
     ]
    },
    {
     "name": "stdout",
     "output_type": "stream",
     "text": [
      "ME"
     ]
    },
    {
     "name": "stdout",
     "output_type": "stream",
     "text": [
      "\",\n"
     ]
    },
    {
     "name": "stdout",
     "output_type": "stream",
     "text": [
      "           "
     ]
    },
    {
     "name": "stdout",
     "output_type": "stream",
     "text": [
      " \""
     ]
    },
    {
     "name": "stdout",
     "output_type": "stream",
     "text": [
      "non"
     ]
    },
    {
     "name": "stdout",
     "output_type": "stream",
     "text": [
      "bond"
     ]
    },
    {
     "name": "stdout",
     "output_type": "stream",
     "text": [
      "ed"
     ]
    },
    {
     "name": "stdout",
     "output_type": "stream",
     "text": [
      "C"
     ]
    },
    {
     "name": "stdout",
     "output_type": "stream",
     "text": [
      "utoff"
     ]
    },
    {
     "name": "stdout",
     "output_type": "stream",
     "text": [
      "\":"
     ]
    },
    {
     "name": "stdout",
     "output_type": "stream",
     "text": [
      " \""
     ]
    },
    {
     "name": "stdout",
     "output_type": "stream",
     "text": [
      "1"
     ]
    },
    {
     "name": "stdout",
     "output_type": "stream",
     "text": [
      "."
     ]
    },
    {
     "name": "stdout",
     "output_type": "stream",
     "text": [
      "0"
     ]
    },
    {
     "name": "stdout",
     "output_type": "stream",
     "text": [
      " *"
     ]
    },
    {
     "name": "stdout",
     "output_type": "stream",
     "text": [
      " nan"
     ]
    },
    {
     "name": "stdout",
     "output_type": "stream",
     "text": [
      "ometers"
     ]
    },
    {
     "name": "stdout",
     "output_type": "stream",
     "text": [
      "\",\n"
     ]
    },
    {
     "name": "stdout",
     "output_type": "stream",
     "text": [
      "           "
     ]
    },
    {
     "name": "stdout",
     "output_type": "stream",
     "text": [
      " \""
     ]
    },
    {
     "name": "stdout",
     "output_type": "stream",
     "text": [
      "constraints"
     ]
    },
    {
     "name": "stdout",
     "output_type": "stream",
     "text": [
      "\":"
     ]
    },
    {
     "name": "stdout",
     "output_type": "stream",
     "text": [
      " \""
     ]
    },
    {
     "name": "stdout",
     "output_type": "stream",
     "text": [
      "HB"
     ]
    },
    {
     "name": "stdout",
     "output_type": "stream",
     "text": [
      "onds"
     ]
    },
    {
     "name": "stdout",
     "output_type": "stream",
     "text": [
      "\",\n"
     ]
    },
    {
     "name": "stdout",
     "output_type": "stream",
     "text": [
      "           "
     ]
    },
    {
     "name": "stdout",
     "output_type": "stream",
     "text": [
      " \""
     ]
    },
    {
     "name": "stdout",
     "output_type": "stream",
     "text": [
      "rig"
     ]
    },
    {
     "name": "stdout",
     "output_type": "stream",
     "text": [
      "id"
     ]
    },
    {
     "name": "stdout",
     "output_type": "stream",
     "text": [
      "Water"
     ]
    },
    {
     "name": "stdout",
     "output_type": "stream",
     "text": [
      "\":"
     ]
    },
    {
     "name": "stdout",
     "output_type": "stream",
     "text": [
      " true"
     ]
    },
    {
     "name": "stdout",
     "output_type": "stream",
     "text": [
      ",\n"
     ]
    },
    {
     "name": "stdout",
     "output_type": "stream",
     "text": [
      "           "
     ]
    },
    {
     "name": "stdout",
     "output_type": "stream",
     "text": [
      " \""
     ]
    },
    {
     "name": "stdout",
     "output_type": "stream",
     "text": [
      "s"
     ]
    },
    {
     "name": "stdout",
     "output_type": "stream",
     "text": [
      "olv"
     ]
    },
    {
     "name": "stdout",
     "output_type": "stream",
     "text": [
      "ate"
     ]
    },
    {
     "name": "stdout",
     "output_type": "stream",
     "text": [
      "\":"
     ]
    },
    {
     "name": "stdout",
     "output_type": "stream",
     "text": [
      " true"
     ]
    },
    {
     "name": "stdout",
     "output_type": "stream",
     "text": [
      ",\n"
     ]
    },
    {
     "name": "stdout",
     "output_type": "stream",
     "text": [
      "           "
     ]
    },
    {
     "name": "stdout",
     "output_type": "stream",
     "text": [
      " \""
     ]
    },
    {
     "name": "stdout",
     "output_type": "stream",
     "text": [
      "constraint"
     ]
    },
    {
     "name": "stdout",
     "output_type": "stream",
     "text": [
      "T"
     ]
    },
    {
     "name": "stdout",
     "output_type": "stream",
     "text": [
      "olerance"
     ]
    },
    {
     "name": "stdout",
     "output_type": "stream",
     "text": [
      "\":"
     ]
    },
    {
     "name": "stdout",
     "output_type": "stream",
     "text": [
      " \""
     ]
    },
    {
     "name": "stdout",
     "output_type": "stream",
     "text": [
      "0"
     ]
    },
    {
     "name": "stdout",
     "output_type": "stream",
     "text": [
      "."
     ]
    },
    {
     "name": "stdout",
     "output_type": "stream",
     "text": [
      "000"
     ]
    },
    {
     "name": "stdout",
     "output_type": "stream",
     "text": [
      "01"
     ]
    },
    {
     "name": "stdout",
     "output_type": "stream",
     "text": [
      "\"\n"
     ]
    },
    {
     "name": "stdout",
     "output_type": "stream",
     "text": [
      "       "
     ]
    },
    {
     "name": "stdout",
     "output_type": "stream",
     "text": [
      " },\n"
     ]
    },
    {
     "name": "stdout",
     "output_type": "stream",
     "text": [
      "       "
     ]
    },
    {
     "name": "stdout",
     "output_type": "stream",
     "text": [
      " \""
     ]
    },
    {
     "name": "stdout",
     "output_type": "stream",
     "text": [
      "integr"
     ]
    },
    {
     "name": "stdout",
     "output_type": "stream",
     "text": [
      "ator"
     ]
    },
    {
     "name": "stdout",
     "output_type": "stream",
     "text": [
      "_params"
     ]
    },
    {
     "name": "stdout",
     "output_type": "stream",
     "text": [
      "\":"
     ]
    },
    {
     "name": "stdout",
     "output_type": "stream",
     "text": [
      " {\n"
     ]
    },
    {
     "name": "stdout",
     "output_type": "stream",
     "text": [
      "           "
     ]
    },
    {
     "name": "stdout",
     "output_type": "stream",
     "text": [
      " \""
     ]
    },
    {
     "name": "stdout",
     "output_type": "stream",
     "text": [
      "integr"
     ]
    },
    {
     "name": "stdout",
     "output_type": "stream",
     "text": [
      "ator"
     ]
    },
    {
     "name": "stdout",
     "output_type": "stream",
     "text": [
      "_type"
     ]
    },
    {
     "name": "stdout",
     "output_type": "stream",
     "text": [
      "\":"
     ]
    },
    {
     "name": "stdout",
     "output_type": "stream",
     "text": [
      " \""
     ]
    },
    {
     "name": "stdout",
     "output_type": "stream",
     "text": [
      "L"
     ]
    },
    {
     "name": "stdout",
     "output_type": "stream",
     "text": [
      "ange"
     ]
    },
    {
     "name": "stdout",
     "output_type": "stream",
     "text": [
      "vin"
     ]
    },
    {
     "name": "stdout",
     "output_type": "stream",
     "text": [
      "Middle"
     ]
    },
    {
     "name": "stdout",
     "output_type": "stream",
     "text": [
      "\",\n"
     ]
    },
    {
     "name": "stdout",
     "output_type": "stream",
     "text": [
      "           "
     ]
    },
    {
     "name": "stdout",
     "output_type": "stream",
     "text": [
      " \""
     ]
    },
    {
     "name": "stdout",
     "output_type": "stream",
     "text": [
      "Temperature"
     ]
    },
    {
     "name": "stdout",
     "output_type": "stream",
     "text": [
      "\":"
     ]
    },
    {
     "name": "stdout",
     "output_type": "stream",
     "text": [
      " \""
     ]
    },
    {
     "name": "stdout",
     "output_type": "stream",
     "text": [
      "300"
     ]
    },
    {
     "name": "stdout",
     "output_type": "stream",
     "text": [
      " *"
     ]
    },
    {
     "name": "stdout",
     "output_type": "stream",
     "text": [
      " kel"
     ]
    },
    {
     "name": "stdout",
     "output_type": "stream",
     "text": [
      "vin"
     ]
    },
    {
     "name": "stdout",
     "output_type": "stream",
     "text": [
      "\",\n"
     ]
    },
    {
     "name": "stdout",
     "output_type": "stream",
     "text": [
      "           "
     ]
    },
    {
     "name": "stdout",
     "output_type": "stream",
     "text": [
      " \""
     ]
    },
    {
     "name": "stdout",
     "output_type": "stream",
     "text": [
      "Fr"
     ]
    },
    {
     "name": "stdout",
     "output_type": "stream",
     "text": [
      "iction"
     ]
    },
    {
     "name": "stdout",
     "output_type": "stream",
     "text": [
      "\":"
     ]
    },
    {
     "name": "stdout",
     "output_type": "stream",
     "text": [
      " \""
     ]
    },
    {
     "name": "stdout",
     "output_type": "stream",
     "text": [
      "1"
     ]
    },
    {
     "name": "stdout",
     "output_type": "stream",
     "text": [
      "."
     ]
    },
    {
     "name": "stdout",
     "output_type": "stream",
     "text": [
      "0"
     ]
    },
    {
     "name": "stdout",
     "output_type": "stream",
     "text": [
      " /"
     ]
    },
    {
     "name": "stdout",
     "output_type": "stream",
     "text": [
      " pic"
     ]
    },
    {
     "name": "stdout",
     "output_type": "stream",
     "text": [
      "oseconds"
     ]
    },
    {
     "name": "stdout",
     "output_type": "stream",
     "text": [
      "\",\n"
     ]
    },
    {
     "name": "stdout",
     "output_type": "stream",
     "text": [
      "           "
     ]
    },
    {
     "name": "stdout",
     "output_type": "stream",
     "text": [
      " \""
     ]
    },
    {
     "name": "stdout",
     "output_type": "stream",
     "text": [
      "T"
     ]
    },
    {
     "name": "stdout",
     "output_type": "stream",
     "text": [
      "imestep"
     ]
    },
    {
     "name": "stdout",
     "output_type": "stream",
     "text": [
      "\":"
     ]
    },
    {
     "name": "stdout",
     "output_type": "stream",
     "text": [
      " \""
     ]
    },
    {
     "name": "stdout",
     "output_type": "stream",
     "text": [
      "0"
     ]
    },
    {
     "name": "stdout",
     "output_type": "stream",
     "text": [
      "."
     ]
    },
    {
     "name": "stdout",
     "output_type": "stream",
     "text": [
      "002"
     ]
    },
    {
     "name": "stdout",
     "output_type": "stream",
     "text": [
      " *"
     ]
    },
    {
     "name": "stdout",
     "output_type": "stream",
     "text": [
      " pic"
     ]
    },
    {
     "name": "stdout",
     "output_type": "stream",
     "text": [
      "oseconds"
     ]
    },
    {
     "name": "stdout",
     "output_type": "stream",
     "text": [
      "\"\n"
     ]
    },
    {
     "name": "stdout",
     "output_type": "stream",
     "text": [
      "       "
     ]
    },
    {
     "name": "stdout",
     "output_type": "stream",
     "text": [
      " },\n"
     ]
    },
    {
     "name": "stdout",
     "output_type": "stream",
     "text": [
      "       "
     ]
    },
    {
     "name": "stdout",
     "output_type": "stream",
     "text": [
      " \""
     ]
    },
    {
     "name": "stdout",
     "output_type": "stream",
     "text": [
      "simulation"
     ]
    },
    {
     "name": "stdout",
     "output_type": "stream",
     "text": [
      "_params"
     ]
    },
    {
     "name": "stdout",
     "output_type": "stream",
     "text": [
      "\":"
     ]
    },
    {
     "name": "stdout",
     "output_type": "stream",
     "text": [
      " {\n"
     ]
    },
    {
     "name": "stdout",
     "output_type": "stream",
     "text": [
      "           "
     ]
    },
    {
     "name": "stdout",
     "output_type": "stream",
     "text": [
      " \""
     ]
    },
    {
     "name": "stdout",
     "output_type": "stream",
     "text": [
      "En"
     ]
    },
    {
     "name": "stdout",
     "output_type": "stream",
     "text": [
      "semble"
     ]
    },
    {
     "name": "stdout",
     "output_type": "stream",
     "text": [
      "\":"
     ]
    },
    {
     "name": "stdout",
     "output_type": "stream",
     "text": [
      " \""
     ]
    },
    {
     "name": "stdout",
     "output_type": "stream",
     "text": [
      "N"
     ]
    },
    {
     "name": "stdout",
     "output_type": "stream",
     "text": [
      "VT"
     ]
    },
    {
     "name": "stdout",
     "output_type": "stream",
     "text": [
      "\",\n"
     ]
    },
    {
     "name": "stdout",
     "output_type": "stream",
     "text": [
      "           "
     ]
    },
    {
     "name": "stdout",
     "output_type": "stream",
     "text": [
      " \""
     ]
    },
    {
     "name": "stdout",
     "output_type": "stream",
     "text": [
      "Number"
     ]
    },
    {
     "name": "stdout",
     "output_type": "stream",
     "text": [
      " of"
     ]
    },
    {
     "name": "stdout",
     "output_type": "stream",
     "text": [
      " Steps"
     ]
    },
    {
     "name": "stdout",
     "output_type": "stream",
     "text": [
      "\":"
     ]
    },
    {
     "name": "stdout",
     "output_type": "stream",
     "text": [
      " "
     ]
    },
    {
     "name": "stdout",
     "output_type": "stream",
     "text": [
      "500"
     ]
    },
    {
     "name": "stdout",
     "output_type": "stream",
     "text": [
      "00"
     ]
    },
    {
     "name": "stdout",
     "output_type": "stream",
     "text": [
      ",\n"
     ]
    },
    {
     "name": "stdout",
     "output_type": "stream",
     "text": [
      "           "
     ]
    },
    {
     "name": "stdout",
     "output_type": "stream",
     "text": [
      " \""
     ]
    },
    {
     "name": "stdout",
     "output_type": "stream",
     "text": [
      "record"
     ]
    },
    {
     "name": "stdout",
     "output_type": "stream",
     "text": [
      "_interval"
     ]
    },
    {
     "name": "stdout",
     "output_type": "stream",
     "text": [
      "_steps"
     ]
    },
    {
     "name": "stdout",
     "output_type": "stream",
     "text": [
      "\":"
     ]
    },
    {
     "name": "stdout",
     "output_type": "stream",
     "text": [
      " "
     ]
    },
    {
     "name": "stdout",
     "output_type": "stream",
     "text": [
      "500"
     ]
    },
    {
     "name": "stdout",
     "output_type": "stream",
     "text": [
      ",\n"
     ]
    },
    {
     "name": "stdout",
     "output_type": "stream",
     "text": [
      "           "
     ]
    },
    {
     "name": "stdout",
     "output_type": "stream",
     "text": [
      " \""
     ]
    },
    {
     "name": "stdout",
     "output_type": "stream",
     "text": [
      "record"
     ]
    },
    {
     "name": "stdout",
     "output_type": "stream",
     "text": [
      "_params"
     ]
    },
    {
     "name": "stdout",
     "output_type": "stream",
     "text": [
      "\":"
     ]
    },
    {
     "name": "stdout",
     "output_type": "stream",
     "text": [
      " [\""
     ]
    },
    {
     "name": "stdout",
     "output_type": "stream",
     "text": [
      "step"
     ]
    },
    {
     "name": "stdout",
     "output_type": "stream",
     "text": [
      "\","
     ]
    },
    {
     "name": "stdout",
     "output_type": "stream",
     "text": [
      " \""
     ]
    },
    {
     "name": "stdout",
     "output_type": "stream",
     "text": [
      "potential"
     ]
    },
    {
     "name": "stdout",
     "output_type": "stream",
     "text": [
      "Energy"
     ]
    },
    {
     "name": "stdout",
     "output_type": "stream",
     "text": [
      "\","
     ]
    },
    {
     "name": "stdout",
     "output_type": "stream",
     "text": [
      " \""
     ]
    },
    {
     "name": "stdout",
     "output_type": "stream",
     "text": [
      "temperature"
     ]
    },
    {
     "name": "stdout",
     "output_type": "stream",
     "text": [
      "\"]\n"
     ]
    },
    {
     "name": "stdout",
     "output_type": "stream",
     "text": [
      "       "
     ]
    },
    {
     "name": "stdout",
     "output_type": "stream",
     "text": [
      " }\n"
     ]
    },
    {
     "name": "stdout",
     "output_type": "stream",
     "text": [
      "   "
     ]
    },
    {
     "name": "stdout",
     "output_type": "stream",
     "text": [
      " }\n"
     ]
    },
    {
     "name": "stdout",
     "output_type": "stream",
     "text": [
      "}\n"
     ]
    },
    {
     "name": "stdout",
     "output_type": "stream",
     "text": [
      "```"
     ]
    },
    {
     "name": "stdout",
     "output_type": "stream",
     "text": [
      "Setting default ewaldErrorTolerance: 0.0005 \n",
      "error found: The forcefield file is not present\n",
      " Correct this and try again. \n",
      " Everthing else is fine\n"
     ]
    },
    {
     "name": "stdout",
     "output_type": "stream",
     "text": [
      "To"
     ]
    },
    {
     "name": "stdout",
     "output_type": "stream",
     "text": [
      " successfully"
     ]
    },
    {
     "name": "stdout",
     "output_type": "stream",
     "text": [
      " simulate"
     ]
    },
    {
     "name": "stdout",
     "output_type": "stream",
     "text": [
      " de"
     ]
    },
    {
     "name": "stdout",
     "output_type": "stream",
     "text": [
      "o"
     ]
    },
    {
     "name": "stdout",
     "output_type": "stream",
     "text": [
      "xygen"
     ]
    },
    {
     "name": "stdout",
     "output_type": "stream",
     "text": [
      "ated"
     ]
    },
    {
     "name": "stdout",
     "output_type": "stream",
     "text": [
      " hem"
     ]
    },
    {
     "name": "stdout",
     "output_type": "stream",
     "text": [
      "oglobin"
     ]
    },
    {
     "name": "stdout",
     "output_type": "stream",
     "text": [
      " ("
     ]
    },
    {
     "name": "stdout",
     "output_type": "stream",
     "text": [
      "P"
     ]
    },
    {
     "name": "stdout",
     "output_type": "stream",
     "text": [
      "DB"
     ]
    },
    {
     "name": "stdout",
     "output_type": "stream",
     "text": [
      " ID"
     ]
    },
    {
     "name": "stdout",
     "output_type": "stream",
     "text": [
      ":"
     ]
    },
    {
     "name": "stdout",
     "output_type": "stream",
     "text": [
      " "
     ]
    },
    {
     "name": "stdout",
     "output_type": "stream",
     "text": [
      "1"
     ]
    },
    {
     "name": "stdout",
     "output_type": "stream",
     "text": [
      "A"
     ]
    },
    {
     "name": "stdout",
     "output_type": "stream",
     "text": [
      "3"
     ]
    },
    {
     "name": "stdout",
     "output_type": "stream",
     "text": [
      "N"
     ]
    },
    {
     "name": "stdout",
     "output_type": "stream",
     "text": [
      ")"
     ]
    },
    {
     "name": "stdout",
     "output_type": "stream",
     "text": [
      " and"
     ]
    },
    {
     "name": "stdout",
     "output_type": "stream",
     "text": [
      " oxygen"
     ]
    },
    {
     "name": "stdout",
     "output_type": "stream",
     "text": [
      "ated"
     ]
    },
    {
     "name": "stdout",
     "output_type": "stream",
     "text": [
      " hem"
     ]
    },
    {
     "name": "stdout",
     "output_type": "stream",
     "text": [
      "oglobin"
     ]
    },
    {
     "name": "stdout",
     "output_type": "stream",
     "text": [
      " ("
     ]
    },
    {
     "name": "stdout",
     "output_type": "stream",
     "text": [
      "P"
     ]
    },
    {
     "name": "stdout",
     "output_type": "stream",
     "text": [
      "DB"
     ]
    },
    {
     "name": "stdout",
     "output_type": "stream",
     "text": [
      " ID"
     ]
    },
    {
     "name": "stdout",
     "output_type": "stream",
     "text": [
      ":"
     ]
    },
    {
     "name": "stdout",
     "output_type": "stream",
     "text": [
      " "
     ]
    },
    {
     "name": "stdout",
     "output_type": "stream",
     "text": [
      "6"
     ]
    },
    {
     "name": "stdout",
     "output_type": "stream",
     "text": [
      "BB"
     ]
    },
    {
     "name": "stdout",
     "output_type": "stream",
     "text": [
      "5"
     ]
    },
    {
     "name": "stdout",
     "output_type": "stream",
     "text": [
      "),"
     ]
    },
    {
     "name": "stdout",
     "output_type": "stream",
     "text": [
      " I"
     ]
    },
    {
     "name": "stdout",
     "output_type": "stream",
     "text": [
      " need"
     ]
    },
    {
     "name": "stdout",
     "output_type": "stream",
     "text": [
      " to"
     ]
    },
    {
     "name": "stdout",
     "output_type": "stream",
     "text": [
      " correct"
     ]
    },
    {
     "name": "stdout",
     "output_type": "stream",
     "text": [
      " the"
     ]
    },
    {
     "name": "stdout",
     "output_type": "stream",
     "text": [
      " previous"
     ]
    },
    {
     "name": "stdout",
     "output_type": "stream",
     "text": [
      " simulation"
     ]
    },
    {
     "name": "stdout",
     "output_type": "stream",
     "text": [
      " setup"
     ]
    },
    {
     "name": "stdout",
     "output_type": "stream",
     "text": [
      " by"
     ]
    },
    {
     "name": "stdout",
     "output_type": "stream",
     "text": [
      " specifying"
     ]
    },
    {
     "name": "stdout",
     "output_type": "stream",
     "text": [
      " a"
     ]
    },
    {
     "name": "stdout",
     "output_type": "stream",
     "text": [
      " valid"
     ]
    },
    {
     "name": "stdout",
     "output_type": "stream",
     "text": [
      " force"
     ]
    },
    {
     "name": "stdout",
     "output_type": "stream",
     "text": [
      "field"
     ]
    },
    {
     "name": "stdout",
     "output_type": "stream",
     "text": [
      " file"
     ]
    },
    {
     "name": "stdout",
     "output_type": "stream",
     "text": [
      "."
     ]
    },
    {
     "name": "stdout",
     "output_type": "stream",
     "text": [
      " I"
     ]
    },
    {
     "name": "stdout",
     "output_type": "stream",
     "text": [
      " will"
     ]
    },
    {
     "name": "stdout",
     "output_type": "stream",
     "text": [
      " adjust"
     ]
    },
    {
     "name": "stdout",
     "output_type": "stream",
     "text": [
      " the"
     ]
    },
    {
     "name": "stdout",
     "output_type": "stream",
     "text": [
      " force"
     ]
    },
    {
     "name": "stdout",
     "output_type": "stream",
     "text": [
      "field"
     ]
    },
    {
     "name": "stdout",
     "output_type": "stream",
     "text": [
      " to"
     ]
    },
    {
     "name": "stdout",
     "output_type": "stream",
     "text": [
      " a"
     ]
    },
    {
     "name": "stdout",
     "output_type": "stream",
     "text": [
      " commonly"
     ]
    },
    {
     "name": "stdout",
     "output_type": "stream",
     "text": [
      " available"
     ]
    },
    {
     "name": "stdout",
     "output_type": "stream",
     "text": [
      " one"
     ]
    },
    {
     "name": "stdout",
     "output_type": "stream",
     "text": [
      " and"
     ]
    },
    {
     "name": "stdout",
     "output_type": "stream",
     "text": [
      " proceed"
     ]
    },
    {
     "name": "stdout",
     "output_type": "stream",
     "text": [
      " with"
     ]
    },
    {
     "name": "stdout",
     "output_type": "stream",
     "text": [
      " the"
     ]
    },
    {
     "name": "stdout",
     "output_type": "stream",
     "text": [
      " simulation"
     ]
    },
    {
     "name": "stdout",
     "output_type": "stream",
     "text": [
      " setup"
     ]
    },
    {
     "name": "stdout",
     "output_type": "stream",
     "text": [
      " for"
     ]
    },
    {
     "name": "stdout",
     "output_type": "stream",
     "text": [
      " both"
     ]
    },
    {
     "name": "stdout",
     "output_type": "stream",
     "text": [
      " P"
     ]
    },
    {
     "name": "stdout",
     "output_type": "stream",
     "text": [
      "DB"
     ]
    },
    {
     "name": "stdout",
     "output_type": "stream",
     "text": [
      " IDs"
     ]
    },
    {
     "name": "stdout",
     "output_type": "stream",
     "text": [
      ".\n",
      "\n"
     ]
    },
    {
     "name": "stdout",
     "output_type": "stream",
     "text": [
      "Action"
     ]
    },
    {
     "name": "stdout",
     "output_type": "stream",
     "text": [
      ":\n"
     ]
    },
    {
     "name": "stdout",
     "output_type": "stream",
     "text": [
      "```"
     ]
    },
    {
     "name": "stdout",
     "output_type": "stream",
     "text": [
      "json"
     ]
    },
    {
     "name": "stdout",
     "output_type": "stream",
     "text": [
      "\n"
     ]
    },
    {
     "name": "stdout",
     "output_type": "stream",
     "text": [
      "{\n"
     ]
    },
    {
     "name": "stdout",
     "output_type": "stream",
     "text": [
      "   "
     ]
    },
    {
     "name": "stdout",
     "output_type": "stream",
     "text": [
      " \""
     ]
    },
    {
     "name": "stdout",
     "output_type": "stream",
     "text": [
      "action"
     ]
    },
    {
     "name": "stdout",
     "output_type": "stream",
     "text": [
      "\":"
     ]
    },
    {
     "name": "stdout",
     "output_type": "stream",
     "text": [
      " \""
     ]
    },
    {
     "name": "stdout",
     "output_type": "stream",
     "text": [
      "SetUp"
     ]
    },
    {
     "name": "stdout",
     "output_type": "stream",
     "text": [
      "and"
     ]
    },
    {
     "name": "stdout",
     "output_type": "stream",
     "text": [
      "Run"
     ]
    },
    {
     "name": "stdout",
     "output_type": "stream",
     "text": [
      "Function"
     ]
    },
    {
     "name": "stdout",
     "output_type": "stream",
     "text": [
      "\",\n"
     ]
    },
    {
     "name": "stdout",
     "output_type": "stream",
     "text": [
      "   "
     ]
    },
    {
     "name": "stdout",
     "output_type": "stream",
     "text": [
      " \""
     ]
    },
    {
     "name": "stdout",
     "output_type": "stream",
     "text": [
      "action"
     ]
    },
    {
     "name": "stdout",
     "output_type": "stream",
     "text": [
      "_input"
     ]
    },
    {
     "name": "stdout",
     "output_type": "stream",
     "text": [
      "\":"
     ]
    },
    {
     "name": "stdout",
     "output_type": "stream",
     "text": [
      " {\n"
     ]
    },
    {
     "name": "stdout",
     "output_type": "stream",
     "text": [
      "       "
     ]
    },
    {
     "name": "stdout",
     "output_type": "stream",
     "text": [
      " \""
     ]
    },
    {
     "name": "stdout",
     "output_type": "stream",
     "text": [
      "pdb"
     ]
    },
    {
     "name": "stdout",
     "output_type": "stream",
     "text": [
      "_id"
     ]
    },
    {
     "name": "stdout",
     "output_type": "stream",
     "text": [
      "\":"
     ]
    },
    {
     "name": "stdout",
     "output_type": "stream",
     "text": [
      " \""
     ]
    },
    {
     "name": "stdout",
     "output_type": "stream",
     "text": [
      "1"
     ]
    },
    {
     "name": "stdout",
     "output_type": "stream",
     "text": [
      "A"
     ]
    },
    {
     "name": "stdout",
     "output_type": "stream",
     "text": [
      "3"
     ]
    },
    {
     "name": "stdout",
     "output_type": "stream",
     "text": [
      "N"
     ]
    },
    {
     "name": "stdout",
     "output_type": "stream",
     "text": [
      "_"
     ]
    },
    {
     "name": "stdout",
     "output_type": "stream",
     "text": [
      "210"
     ]
    },
    {
     "name": "stdout",
     "output_type": "stream",
     "text": [
      "823"
     ]
    },
    {
     "name": "stdout",
     "output_type": "stream",
     "text": [
      "\",\n"
     ]
    },
    {
     "name": "stdout",
     "output_type": "stream",
     "text": [
      "       "
     ]
    },
    {
     "name": "stdout",
     "output_type": "stream",
     "text": [
      " \""
     ]
    },
    {
     "name": "stdout",
     "output_type": "stream",
     "text": [
      "force"
     ]
    },
    {
     "name": "stdout",
     "output_type": "stream",
     "text": [
      "field"
     ]
    },
    {
     "name": "stdout",
     "output_type": "stream",
     "text": [
      "_files"
     ]
    },
    {
     "name": "stdout",
     "output_type": "stream",
     "text": [
      "\":"
     ]
    },
    {
     "name": "stdout",
     "output_type": "stream",
     "text": [
      " [\""
     ]
    },
    {
     "name": "stdout",
     "output_type": "stream",
     "text": [
      "amber"
     ]
    },
    {
     "name": "stdout",
     "output_type": "stream",
     "text": [
      "14"
     ]
    },
    {
     "name": "stdout",
     "output_type": "stream",
     "text": [
      "sb"
     ]
    },
    {
     "name": "stdout",
     "output_type": "stream",
     "text": [
      "\"],\n"
     ]
    },
    {
     "name": "stdout",
     "output_type": "stream",
     "text": [
      "       "
     ]
    },
    {
     "name": "stdout",
     "output_type": "stream",
     "text": [
      " \""
     ]
    },
    {
     "name": "stdout",
     "output_type": "stream",
     "text": [
      "system"
     ]
    },
    {
     "name": "stdout",
     "output_type": "stream",
     "text": [
      "_params"
     ]
    },
    {
     "name": "stdout",
     "output_type": "stream",
     "text": [
      "\":"
     ]
    },
    {
     "name": "stdout",
     "output_type": "stream",
     "text": [
      " {\n"
     ]
    },
    {
     "name": "stdout",
     "output_type": "stream",
     "text": [
      "           "
     ]
    },
    {
     "name": "stdout",
     "output_type": "stream",
     "text": [
      " \""
     ]
    },
    {
     "name": "stdout",
     "output_type": "stream",
     "text": [
      "non"
     ]
    },
    {
     "name": "stdout",
     "output_type": "stream",
     "text": [
      "bond"
     ]
    },
    {
     "name": "stdout",
     "output_type": "stream",
     "text": [
      "ed"
     ]
    },
    {
     "name": "stdout",
     "output_type": "stream",
     "text": [
      "Method"
     ]
    },
    {
     "name": "stdout",
     "output_type": "stream",
     "text": [
      "\":"
     ]
    },
    {
     "name": "stdout",
     "output_type": "stream",
     "text": [
      " \""
     ]
    },
    {
     "name": "stdout",
     "output_type": "stream",
     "text": [
      "P"
     ]
    },
    {
     "name": "stdout",
     "output_type": "stream",
     "text": [
      "ME"
     ]
    },
    {
     "name": "stdout",
     "output_type": "stream",
     "text": [
      "\",\n"
     ]
    },
    {
     "name": "stdout",
     "output_type": "stream",
     "text": [
      "           "
     ]
    },
    {
     "name": "stdout",
     "output_type": "stream",
     "text": [
      " \""
     ]
    },
    {
     "name": "stdout",
     "output_type": "stream",
     "text": [
      "non"
     ]
    },
    {
     "name": "stdout",
     "output_type": "stream",
     "text": [
      "bond"
     ]
    },
    {
     "name": "stdout",
     "output_type": "stream",
     "text": [
      "ed"
     ]
    },
    {
     "name": "stdout",
     "output_type": "stream",
     "text": [
      "C"
     ]
    },
    {
     "name": "stdout",
     "output_type": "stream",
     "text": [
      "utoff"
     ]
    },
    {
     "name": "stdout",
     "output_type": "stream",
     "text": [
      "\":"
     ]
    },
    {
     "name": "stdout",
     "output_type": "stream",
     "text": [
      " \""
     ]
    },
    {
     "name": "stdout",
     "output_type": "stream",
     "text": [
      "1"
     ]
    },
    {
     "name": "stdout",
     "output_type": "stream",
     "text": [
      "."
     ]
    },
    {
     "name": "stdout",
     "output_type": "stream",
     "text": [
      "0"
     ]
    },
    {
     "name": "stdout",
     "output_type": "stream",
     "text": [
      " *"
     ]
    },
    {
     "name": "stdout",
     "output_type": "stream",
     "text": [
      " nan"
     ]
    },
    {
     "name": "stdout",
     "output_type": "stream",
     "text": [
      "ometers"
     ]
    },
    {
     "name": "stdout",
     "output_type": "stream",
     "text": [
      "\",\n"
     ]
    },
    {
     "name": "stdout",
     "output_type": "stream",
     "text": [
      "           "
     ]
    },
    {
     "name": "stdout",
     "output_type": "stream",
     "text": [
      " \""
     ]
    },
    {
     "name": "stdout",
     "output_type": "stream",
     "text": [
      "constraints"
     ]
    },
    {
     "name": "stdout",
     "output_type": "stream",
     "text": [
      "\":"
     ]
    },
    {
     "name": "stdout",
     "output_type": "stream",
     "text": [
      " \""
     ]
    },
    {
     "name": "stdout",
     "output_type": "stream",
     "text": [
      "HB"
     ]
    },
    {
     "name": "stdout",
     "output_type": "stream",
     "text": [
      "onds"
     ]
    },
    {
     "name": "stdout",
     "output_type": "stream",
     "text": [
      "\",\n"
     ]
    },
    {
     "name": "stdout",
     "output_type": "stream",
     "text": [
      "           "
     ]
    },
    {
     "name": "stdout",
     "output_type": "stream",
     "text": [
      " \""
     ]
    },
    {
     "name": "stdout",
     "output_type": "stream",
     "text": [
      "rig"
     ]
    },
    {
     "name": "stdout",
     "output_type": "stream",
     "text": [
      "id"
     ]
    },
    {
     "name": "stdout",
     "output_type": "stream",
     "text": [
      "Water"
     ]
    },
    {
     "name": "stdout",
     "output_type": "stream",
     "text": [
      "\":"
     ]
    },
    {
     "name": "stdout",
     "output_type": "stream",
     "text": [
      " true"
     ]
    },
    {
     "name": "stdout",
     "output_type": "stream",
     "text": [
      ",\n"
     ]
    },
    {
     "name": "stdout",
     "output_type": "stream",
     "text": [
      "           "
     ]
    },
    {
     "name": "stdout",
     "output_type": "stream",
     "text": [
      " \""
     ]
    },
    {
     "name": "stdout",
     "output_type": "stream",
     "text": [
      "s"
     ]
    },
    {
     "name": "stdout",
     "output_type": "stream",
     "text": [
      "olv"
     ]
    },
    {
     "name": "stdout",
     "output_type": "stream",
     "text": [
      "ate"
     ]
    },
    {
     "name": "stdout",
     "output_type": "stream",
     "text": [
      "\":"
     ]
    },
    {
     "name": "stdout",
     "output_type": "stream",
     "text": [
      " true"
     ]
    },
    {
     "name": "stdout",
     "output_type": "stream",
     "text": [
      ",\n"
     ]
    },
    {
     "name": "stdout",
     "output_type": "stream",
     "text": [
      "           "
     ]
    },
    {
     "name": "stdout",
     "output_type": "stream",
     "text": [
      " \""
     ]
    },
    {
     "name": "stdout",
     "output_type": "stream",
     "text": [
      "constraint"
     ]
    },
    {
     "name": "stdout",
     "output_type": "stream",
     "text": [
      "T"
     ]
    },
    {
     "name": "stdout",
     "output_type": "stream",
     "text": [
      "olerance"
     ]
    },
    {
     "name": "stdout",
     "output_type": "stream",
     "text": [
      "\":"
     ]
    },
    {
     "name": "stdout",
     "output_type": "stream",
     "text": [
      " \""
     ]
    },
    {
     "name": "stdout",
     "output_type": "stream",
     "text": [
      "0"
     ]
    },
    {
     "name": "stdout",
     "output_type": "stream",
     "text": [
      "."
     ]
    },
    {
     "name": "stdout",
     "output_type": "stream",
     "text": [
      "000"
     ]
    },
    {
     "name": "stdout",
     "output_type": "stream",
     "text": [
      "01"
     ]
    },
    {
     "name": "stdout",
     "output_type": "stream",
     "text": [
      "\"\n"
     ]
    },
    {
     "name": "stdout",
     "output_type": "stream",
     "text": [
      "       "
     ]
    },
    {
     "name": "stdout",
     "output_type": "stream",
     "text": [
      " },\n"
     ]
    },
    {
     "name": "stdout",
     "output_type": "stream",
     "text": [
      "       "
     ]
    },
    {
     "name": "stdout",
     "output_type": "stream",
     "text": [
      " \""
     ]
    },
    {
     "name": "stdout",
     "output_type": "stream",
     "text": [
      "integr"
     ]
    },
    {
     "name": "stdout",
     "output_type": "stream",
     "text": [
      "ator"
     ]
    },
    {
     "name": "stdout",
     "output_type": "stream",
     "text": [
      "_params"
     ]
    },
    {
     "name": "stdout",
     "output_type": "stream",
     "text": [
      "\":"
     ]
    },
    {
     "name": "stdout",
     "output_type": "stream",
     "text": [
      " {\n"
     ]
    },
    {
     "name": "stdout",
     "output_type": "stream",
     "text": [
      "           "
     ]
    },
    {
     "name": "stdout",
     "output_type": "stream",
     "text": [
      " \""
     ]
    },
    {
     "name": "stdout",
     "output_type": "stream",
     "text": [
      "integr"
     ]
    },
    {
     "name": "stdout",
     "output_type": "stream",
     "text": [
      "ator"
     ]
    },
    {
     "name": "stdout",
     "output_type": "stream",
     "text": [
      "_type"
     ]
    },
    {
     "name": "stdout",
     "output_type": "stream",
     "text": [
      "\":"
     ]
    },
    {
     "name": "stdout",
     "output_type": "stream",
     "text": [
      " \""
     ]
    },
    {
     "name": "stdout",
     "output_type": "stream",
     "text": [
      "L"
     ]
    },
    {
     "name": "stdout",
     "output_type": "stream",
     "text": [
      "ange"
     ]
    },
    {
     "name": "stdout",
     "output_type": "stream",
     "text": [
      "vin"
     ]
    },
    {
     "name": "stdout",
     "output_type": "stream",
     "text": [
      "Middle"
     ]
    },
    {
     "name": "stdout",
     "output_type": "stream",
     "text": [
      "\",\n"
     ]
    },
    {
     "name": "stdout",
     "output_type": "stream",
     "text": [
      "           "
     ]
    },
    {
     "name": "stdout",
     "output_type": "stream",
     "text": [
      " \""
     ]
    },
    {
     "name": "stdout",
     "output_type": "stream",
     "text": [
      "Temperature"
     ]
    },
    {
     "name": "stdout",
     "output_type": "stream",
     "text": [
      "\":"
     ]
    },
    {
     "name": "stdout",
     "output_type": "stream",
     "text": [
      " \""
     ]
    },
    {
     "name": "stdout",
     "output_type": "stream",
     "text": [
      "300"
     ]
    },
    {
     "name": "stdout",
     "output_type": "stream",
     "text": [
      " *"
     ]
    },
    {
     "name": "stdout",
     "output_type": "stream",
     "text": [
      " kel"
     ]
    },
    {
     "name": "stdout",
     "output_type": "stream",
     "text": [
      "vin"
     ]
    },
    {
     "name": "stdout",
     "output_type": "stream",
     "text": [
      "\",\n"
     ]
    },
    {
     "name": "stdout",
     "output_type": "stream",
     "text": [
      "           "
     ]
    },
    {
     "name": "stdout",
     "output_type": "stream",
     "text": [
      " \""
     ]
    },
    {
     "name": "stdout",
     "output_type": "stream",
     "text": [
      "Fr"
     ]
    },
    {
     "name": "stdout",
     "output_type": "stream",
     "text": [
      "iction"
     ]
    },
    {
     "name": "stdout",
     "output_type": "stream",
     "text": [
      "\":"
     ]
    },
    {
     "name": "stdout",
     "output_type": "stream",
     "text": [
      " \""
     ]
    },
    {
     "name": "stdout",
     "output_type": "stream",
     "text": [
      "1"
     ]
    },
    {
     "name": "stdout",
     "output_type": "stream",
     "text": [
      "."
     ]
    },
    {
     "name": "stdout",
     "output_type": "stream",
     "text": [
      "0"
     ]
    },
    {
     "name": "stdout",
     "output_type": "stream",
     "text": [
      " /"
     ]
    },
    {
     "name": "stdout",
     "output_type": "stream",
     "text": [
      " pic"
     ]
    },
    {
     "name": "stdout",
     "output_type": "stream",
     "text": [
      "oseconds"
     ]
    },
    {
     "name": "stdout",
     "output_type": "stream",
     "text": [
      "\",\n"
     ]
    },
    {
     "name": "stdout",
     "output_type": "stream",
     "text": [
      "           "
     ]
    },
    {
     "name": "stdout",
     "output_type": "stream",
     "text": [
      " \""
     ]
    },
    {
     "name": "stdout",
     "output_type": "stream",
     "text": [
      "T"
     ]
    },
    {
     "name": "stdout",
     "output_type": "stream",
     "text": [
      "imestep"
     ]
    },
    {
     "name": "stdout",
     "output_type": "stream",
     "text": [
      "\":"
     ]
    },
    {
     "name": "stdout",
     "output_type": "stream",
     "text": [
      " \""
     ]
    },
    {
     "name": "stdout",
     "output_type": "stream",
     "text": [
      "0"
     ]
    },
    {
     "name": "stdout",
     "output_type": "stream",
     "text": [
      "."
     ]
    },
    {
     "name": "stdout",
     "output_type": "stream",
     "text": [
      "002"
     ]
    },
    {
     "name": "stdout",
     "output_type": "stream",
     "text": [
      " *"
     ]
    },
    {
     "name": "stdout",
     "output_type": "stream",
     "text": [
      " pic"
     ]
    },
    {
     "name": "stdout",
     "output_type": "stream",
     "text": [
      "oseconds"
     ]
    },
    {
     "name": "stdout",
     "output_type": "stream",
     "text": [
      "\"\n"
     ]
    },
    {
     "name": "stdout",
     "output_type": "stream",
     "text": [
      "       "
     ]
    },
    {
     "name": "stdout",
     "output_type": "stream",
     "text": [
      " },\n"
     ]
    },
    {
     "name": "stdout",
     "output_type": "stream",
     "text": [
      "       "
     ]
    },
    {
     "name": "stdout",
     "output_type": "stream",
     "text": [
      " \""
     ]
    },
    {
     "name": "stdout",
     "output_type": "stream",
     "text": [
      "simulation"
     ]
    },
    {
     "name": "stdout",
     "output_type": "stream",
     "text": [
      "_params"
     ]
    },
    {
     "name": "stdout",
     "output_type": "stream",
     "text": [
      "\":"
     ]
    },
    {
     "name": "stdout",
     "output_type": "stream",
     "text": [
      " {\n"
     ]
    },
    {
     "name": "stdout",
     "output_type": "stream",
     "text": [
      "           "
     ]
    },
    {
     "name": "stdout",
     "output_type": "stream",
     "text": [
      " \""
     ]
    },
    {
     "name": "stdout",
     "output_type": "stream",
     "text": [
      "En"
     ]
    },
    {
     "name": "stdout",
     "output_type": "stream",
     "text": [
      "semble"
     ]
    },
    {
     "name": "stdout",
     "output_type": "stream",
     "text": [
      "\":"
     ]
    },
    {
     "name": "stdout",
     "output_type": "stream",
     "text": [
      " \""
     ]
    },
    {
     "name": "stdout",
     "output_type": "stream",
     "text": [
      "N"
     ]
    },
    {
     "name": "stdout",
     "output_type": "stream",
     "text": [
      "VT"
     ]
    },
    {
     "name": "stdout",
     "output_type": "stream",
     "text": [
      "\",\n"
     ]
    },
    {
     "name": "stdout",
     "output_type": "stream",
     "text": [
      "           "
     ]
    },
    {
     "name": "stdout",
     "output_type": "stream",
     "text": [
      " \""
     ]
    },
    {
     "name": "stdout",
     "output_type": "stream",
     "text": [
      "Number"
     ]
    },
    {
     "name": "stdout",
     "output_type": "stream",
     "text": [
      " of"
     ]
    },
    {
     "name": "stdout",
     "output_type": "stream",
     "text": [
      " Steps"
     ]
    },
    {
     "name": "stdout",
     "output_type": "stream",
     "text": [
      "\":"
     ]
    },
    {
     "name": "stdout",
     "output_type": "stream",
     "text": [
      " "
     ]
    },
    {
     "name": "stdout",
     "output_type": "stream",
     "text": [
      "500"
     ]
    },
    {
     "name": "stdout",
     "output_type": "stream",
     "text": [
      "00"
     ]
    },
    {
     "name": "stdout",
     "output_type": "stream",
     "text": [
      ",\n"
     ]
    },
    {
     "name": "stdout",
     "output_type": "stream",
     "text": [
      "           "
     ]
    },
    {
     "name": "stdout",
     "output_type": "stream",
     "text": [
      " \""
     ]
    },
    {
     "name": "stdout",
     "output_type": "stream",
     "text": [
      "record"
     ]
    },
    {
     "name": "stdout",
     "output_type": "stream",
     "text": [
      "_interval"
     ]
    },
    {
     "name": "stdout",
     "output_type": "stream",
     "text": [
      "_steps"
     ]
    },
    {
     "name": "stdout",
     "output_type": "stream",
     "text": [
      "\":"
     ]
    },
    {
     "name": "stdout",
     "output_type": "stream",
     "text": [
      " "
     ]
    },
    {
     "name": "stdout",
     "output_type": "stream",
     "text": [
      "500"
     ]
    },
    {
     "name": "stdout",
     "output_type": "stream",
     "text": [
      ",\n"
     ]
    },
    {
     "name": "stdout",
     "output_type": "stream",
     "text": [
      "           "
     ]
    },
    {
     "name": "stdout",
     "output_type": "stream",
     "text": [
      " \""
     ]
    },
    {
     "name": "stdout",
     "output_type": "stream",
     "text": [
      "record"
     ]
    },
    {
     "name": "stdout",
     "output_type": "stream",
     "text": [
      "_params"
     ]
    },
    {
     "name": "stdout",
     "output_type": "stream",
     "text": [
      "\":"
     ]
    },
    {
     "name": "stdout",
     "output_type": "stream",
     "text": [
      " [\""
     ]
    },
    {
     "name": "stdout",
     "output_type": "stream",
     "text": [
      "step"
     ]
    },
    {
     "name": "stdout",
     "output_type": "stream",
     "text": [
      "\","
     ]
    },
    {
     "name": "stdout",
     "output_type": "stream",
     "text": [
      " \""
     ]
    },
    {
     "name": "stdout",
     "output_type": "stream",
     "text": [
      "potential"
     ]
    },
    {
     "name": "stdout",
     "output_type": "stream",
     "text": [
      "Energy"
     ]
    },
    {
     "name": "stdout",
     "output_type": "stream",
     "text": [
      "\","
     ]
    },
    {
     "name": "stdout",
     "output_type": "stream",
     "text": [
      " \""
     ]
    },
    {
     "name": "stdout",
     "output_type": "stream",
     "text": [
      "temperature"
     ]
    },
    {
     "name": "stdout",
     "output_type": "stream",
     "text": [
      "\"]\n"
     ]
    },
    {
     "name": "stdout",
     "output_type": "stream",
     "text": [
      "       "
     ]
    },
    {
     "name": "stdout",
     "output_type": "stream",
     "text": [
      " }\n"
     ]
    },
    {
     "name": "stdout",
     "output_type": "stream",
     "text": [
      "   "
     ]
    },
    {
     "name": "stdout",
     "output_type": "stream",
     "text": [
      " }\n"
     ]
    },
    {
     "name": "stdout",
     "output_type": "stream",
     "text": [
      "}\n"
     ]
    },
    {
     "name": "stdout",
     "output_type": "stream",
     "text": [
      "```"
     ]
    },
    {
     "name": "stdout",
     "output_type": "stream",
     "text": [
      "Setting default ewaldErrorTolerance: 0.0005 \n",
      "error found: The forcefield file is not present\n",
      " Correct this and try again. \n",
      " Everthing else is fine\n"
     ]
    },
    {
     "name": "stdout",
     "output_type": "stream",
     "text": [
      "To"
     ]
    },
    {
     "name": "stdout",
     "output_type": "stream",
     "text": [
      " successfully"
     ]
    },
    {
     "name": "stdout",
     "output_type": "stream",
     "text": [
      " simulate"
     ]
    },
    {
     "name": "stdout",
     "output_type": "stream",
     "text": [
      " de"
     ]
    },
    {
     "name": "stdout",
     "output_type": "stream",
     "text": [
      "o"
     ]
    },
    {
     "name": "stdout",
     "output_type": "stream",
     "text": [
      "xygen"
     ]
    },
    {
     "name": "stdout",
     "output_type": "stream",
     "text": [
      "ated"
     ]
    },
    {
     "name": "stdout",
     "output_type": "stream",
     "text": [
      " hem"
     ]
    },
    {
     "name": "stdout",
     "output_type": "stream",
     "text": [
      "oglobin"
     ]
    },
    {
     "name": "stdout",
     "output_type": "stream",
     "text": [
      " ("
     ]
    },
    {
     "name": "stdout",
     "output_type": "stream",
     "text": [
      "P"
     ]
    },
    {
     "name": "stdout",
     "output_type": "stream",
     "text": [
      "DB"
     ]
    },
    {
     "name": "stdout",
     "output_type": "stream",
     "text": [
      " ID"
     ]
    },
    {
     "name": "stdout",
     "output_type": "stream",
     "text": [
      ":"
     ]
    },
    {
     "name": "stdout",
     "output_type": "stream",
     "text": [
      " "
     ]
    },
    {
     "name": "stdout",
     "output_type": "stream",
     "text": [
      "1"
     ]
    },
    {
     "name": "stdout",
     "output_type": "stream",
     "text": [
      "A"
     ]
    },
    {
     "name": "stdout",
     "output_type": "stream",
     "text": [
      "3"
     ]
    },
    {
     "name": "stdout",
     "output_type": "stream",
     "text": [
      "N"
     ]
    },
    {
     "name": "stdout",
     "output_type": "stream",
     "text": [
      ")"
     ]
    },
    {
     "name": "stdout",
     "output_type": "stream",
     "text": [
      " and"
     ]
    },
    {
     "name": "stdout",
     "output_type": "stream",
     "text": [
      " oxygen"
     ]
    },
    {
     "name": "stdout",
     "output_type": "stream",
     "text": [
      "ated"
     ]
    },
    {
     "name": "stdout",
     "output_type": "stream",
     "text": [
      " hem"
     ]
    },
    {
     "name": "stdout",
     "output_type": "stream",
     "text": [
      "oglobin"
     ]
    },
    {
     "name": "stdout",
     "output_type": "stream",
     "text": [
      " ("
     ]
    },
    {
     "name": "stdout",
     "output_type": "stream",
     "text": [
      "P"
     ]
    },
    {
     "name": "stdout",
     "output_type": "stream",
     "text": [
      "DB"
     ]
    },
    {
     "name": "stdout",
     "output_type": "stream",
     "text": [
      " ID"
     ]
    },
    {
     "name": "stdout",
     "output_type": "stream",
     "text": [
      ":"
     ]
    },
    {
     "name": "stdout",
     "output_type": "stream",
     "text": [
      " "
     ]
    },
    {
     "name": "stdout",
     "output_type": "stream",
     "text": [
      "6"
     ]
    },
    {
     "name": "stdout",
     "output_type": "stream",
     "text": [
      "BB"
     ]
    },
    {
     "name": "stdout",
     "output_type": "stream",
     "text": [
      "5"
     ]
    },
    {
     "name": "stdout",
     "output_type": "stream",
     "text": [
      "),"
     ]
    },
    {
     "name": "stdout",
     "output_type": "stream",
     "text": [
      " I"
     ]
    },
    {
     "name": "stdout",
     "output_type": "stream",
     "text": [
      " need"
     ]
    },
    {
     "name": "stdout",
     "output_type": "stream",
     "text": [
      " to"
     ]
    },
    {
     "name": "stdout",
     "output_type": "stream",
     "text": [
      " correct"
     ]
    },
    {
     "name": "stdout",
     "output_type": "stream",
     "text": [
      " the"
     ]
    },
    {
     "name": "stdout",
     "output_type": "stream",
     "text": [
      " previous"
     ]
    },
    {
     "name": "stdout",
     "output_type": "stream",
     "text": [
      " simulation"
     ]
    },
    {
     "name": "stdout",
     "output_type": "stream",
     "text": [
      " setup"
     ]
    },
    {
     "name": "stdout",
     "output_type": "stream",
     "text": [
      " by"
     ]
    },
    {
     "name": "stdout",
     "output_type": "stream",
     "text": [
      " specifying"
     ]
    },
    {
     "name": "stdout",
     "output_type": "stream",
     "text": [
      " a"
     ]
    },
    {
     "name": "stdout",
     "output_type": "stream",
     "text": [
      " valid"
     ]
    },
    {
     "name": "stdout",
     "output_type": "stream",
     "text": [
      " force"
     ]
    },
    {
     "name": "stdout",
     "output_type": "stream",
     "text": [
      "field"
     ]
    },
    {
     "name": "stdout",
     "output_type": "stream",
     "text": [
      " file"
     ]
    },
    {
     "name": "stdout",
     "output_type": "stream",
     "text": [
      "."
     ]
    },
    {
     "name": "stdout",
     "output_type": "stream",
     "text": [
      " I"
     ]
    },
    {
     "name": "stdout",
     "output_type": "stream",
     "text": [
      " will"
     ]
    },
    {
     "name": "stdout",
     "output_type": "stream",
     "text": [
      " adjust"
     ]
    },
    {
     "name": "stdout",
     "output_type": "stream",
     "text": [
      " the"
     ]
    },
    {
     "name": "stdout",
     "output_type": "stream",
     "text": [
      " force"
     ]
    },
    {
     "name": "stdout",
     "output_type": "stream",
     "text": [
      "field"
     ]
    },
    {
     "name": "stdout",
     "output_type": "stream",
     "text": [
      " to"
     ]
    },
    {
     "name": "stdout",
     "output_type": "stream",
     "text": [
      " a"
     ]
    },
    {
     "name": "stdout",
     "output_type": "stream",
     "text": [
      " commonly"
     ]
    },
    {
     "name": "stdout",
     "output_type": "stream",
     "text": [
      " available"
     ]
    },
    {
     "name": "stdout",
     "output_type": "stream",
     "text": [
      " one"
     ]
    },
    {
     "name": "stdout",
     "output_type": "stream",
     "text": [
      " and"
     ]
    },
    {
     "name": "stdout",
     "output_type": "stream",
     "text": [
      " proceed"
     ]
    },
    {
     "name": "stdout",
     "output_type": "stream",
     "text": [
      " with"
     ]
    },
    {
     "name": "stdout",
     "output_type": "stream",
     "text": [
      " the"
     ]
    },
    {
     "name": "stdout",
     "output_type": "stream",
     "text": [
      " simulation"
     ]
    },
    {
     "name": "stdout",
     "output_type": "stream",
     "text": [
      " setup"
     ]
    },
    {
     "name": "stdout",
     "output_type": "stream",
     "text": [
      " for"
     ]
    },
    {
     "name": "stdout",
     "output_type": "stream",
     "text": [
      " both"
     ]
    },
    {
     "name": "stdout",
     "output_type": "stream",
     "text": [
      " P"
     ]
    },
    {
     "name": "stdout",
     "output_type": "stream",
     "text": [
      "DB"
     ]
    },
    {
     "name": "stdout",
     "output_type": "stream",
     "text": [
      " IDs"
     ]
    },
    {
     "name": "stdout",
     "output_type": "stream",
     "text": [
      ".\n",
      "\n"
     ]
    },
    {
     "name": "stdout",
     "output_type": "stream",
     "text": [
      "Action"
     ]
    },
    {
     "name": "stdout",
     "output_type": "stream",
     "text": [
      ":\n"
     ]
    },
    {
     "name": "stdout",
     "output_type": "stream",
     "text": [
      "```"
     ]
    },
    {
     "name": "stdout",
     "output_type": "stream",
     "text": [
      "json"
     ]
    },
    {
     "name": "stdout",
     "output_type": "stream",
     "text": [
      "\n"
     ]
    },
    {
     "name": "stdout",
     "output_type": "stream",
     "text": [
      "{\n"
     ]
    },
    {
     "name": "stdout",
     "output_type": "stream",
     "text": [
      "   "
     ]
    },
    {
     "name": "stdout",
     "output_type": "stream",
     "text": [
      " \""
     ]
    },
    {
     "name": "stdout",
     "output_type": "stream",
     "text": [
      "action"
     ]
    },
    {
     "name": "stdout",
     "output_type": "stream",
     "text": [
      "\":"
     ]
    },
    {
     "name": "stdout",
     "output_type": "stream",
     "text": [
      " \""
     ]
    },
    {
     "name": "stdout",
     "output_type": "stream",
     "text": [
      "SetUp"
     ]
    },
    {
     "name": "stdout",
     "output_type": "stream",
     "text": [
      "and"
     ]
    },
    {
     "name": "stdout",
     "output_type": "stream",
     "text": [
      "Run"
     ]
    },
    {
     "name": "stdout",
     "output_type": "stream",
     "text": [
      "Function"
     ]
    },
    {
     "name": "stdout",
     "output_type": "stream",
     "text": [
      "\",\n"
     ]
    },
    {
     "name": "stdout",
     "output_type": "stream",
     "text": [
      "   "
     ]
    },
    {
     "name": "stdout",
     "output_type": "stream",
     "text": [
      " \""
     ]
    },
    {
     "name": "stdout",
     "output_type": "stream",
     "text": [
      "action"
     ]
    },
    {
     "name": "stdout",
     "output_type": "stream",
     "text": [
      "_input"
     ]
    },
    {
     "name": "stdout",
     "output_type": "stream",
     "text": [
      "\":"
     ]
    },
    {
     "name": "stdout",
     "output_type": "stream",
     "text": [
      " {\n"
     ]
    },
    {
     "name": "stdout",
     "output_type": "stream",
     "text": [
      "       "
     ]
    },
    {
     "name": "stdout",
     "output_type": "stream",
     "text": [
      " \""
     ]
    },
    {
     "name": "stdout",
     "output_type": "stream",
     "text": [
      "pdb"
     ]
    },
    {
     "name": "stdout",
     "output_type": "stream",
     "text": [
      "_id"
     ]
    },
    {
     "name": "stdout",
     "output_type": "stream",
     "text": [
      "\":"
     ]
    },
    {
     "name": "stdout",
     "output_type": "stream",
     "text": [
      " \""
     ]
    },
    {
     "name": "stdout",
     "output_type": "stream",
     "text": [
      "1"
     ]
    },
    {
     "name": "stdout",
     "output_type": "stream",
     "text": [
      "A"
     ]
    },
    {
     "name": "stdout",
     "output_type": "stream",
     "text": [
      "3"
     ]
    },
    {
     "name": "stdout",
     "output_type": "stream",
     "text": [
      "N"
     ]
    },
    {
     "name": "stdout",
     "output_type": "stream",
     "text": [
      "_"
     ]
    },
    {
     "name": "stdout",
     "output_type": "stream",
     "text": [
      "210"
     ]
    },
    {
     "name": "stdout",
     "output_type": "stream",
     "text": [
      "823"
     ]
    },
    {
     "name": "stdout",
     "output_type": "stream",
     "text": [
      "\",\n"
     ]
    },
    {
     "name": "stdout",
     "output_type": "stream",
     "text": [
      "       "
     ]
    },
    {
     "name": "stdout",
     "output_type": "stream",
     "text": [
      " \""
     ]
    },
    {
     "name": "stdout",
     "output_type": "stream",
     "text": [
      "force"
     ]
    },
    {
     "name": "stdout",
     "output_type": "stream",
     "text": [
      "field"
     ]
    },
    {
     "name": "stdout",
     "output_type": "stream",
     "text": [
      "_files"
     ]
    },
    {
     "name": "stdout",
     "output_type": "stream",
     "text": [
      "\":"
     ]
    },
    {
     "name": "stdout",
     "output_type": "stream",
     "text": [
      " [\""
     ]
    },
    {
     "name": "stdout",
     "output_type": "stream",
     "text": [
      "amber"
     ]
    },
    {
     "name": "stdout",
     "output_type": "stream",
     "text": [
      "14"
     ]
    },
    {
     "name": "stdout",
     "output_type": "stream",
     "text": [
      "sb"
     ]
    },
    {
     "name": "stdout",
     "output_type": "stream",
     "text": [
      "\"],\n"
     ]
    },
    {
     "name": "stdout",
     "output_type": "stream",
     "text": [
      "       "
     ]
    },
    {
     "name": "stdout",
     "output_type": "stream",
     "text": [
      " \""
     ]
    },
    {
     "name": "stdout",
     "output_type": "stream",
     "text": [
      "system"
     ]
    },
    {
     "name": "stdout",
     "output_type": "stream",
     "text": [
      "_params"
     ]
    },
    {
     "name": "stdout",
     "output_type": "stream",
     "text": [
      "\":"
     ]
    },
    {
     "name": "stdout",
     "output_type": "stream",
     "text": [
      " {\n"
     ]
    },
    {
     "name": "stdout",
     "output_type": "stream",
     "text": [
      "           "
     ]
    },
    {
     "name": "stdout",
     "output_type": "stream",
     "text": [
      " \""
     ]
    },
    {
     "name": "stdout",
     "output_type": "stream",
     "text": [
      "non"
     ]
    },
    {
     "name": "stdout",
     "output_type": "stream",
     "text": [
      "bond"
     ]
    },
    {
     "name": "stdout",
     "output_type": "stream",
     "text": [
      "ed"
     ]
    },
    {
     "name": "stdout",
     "output_type": "stream",
     "text": [
      "Method"
     ]
    },
    {
     "name": "stdout",
     "output_type": "stream",
     "text": [
      "\":"
     ]
    },
    {
     "name": "stdout",
     "output_type": "stream",
     "text": [
      " \""
     ]
    },
    {
     "name": "stdout",
     "output_type": "stream",
     "text": [
      "P"
     ]
    },
    {
     "name": "stdout",
     "output_type": "stream",
     "text": [
      "ME"
     ]
    },
    {
     "name": "stdout",
     "output_type": "stream",
     "text": [
      "\",\n"
     ]
    },
    {
     "name": "stdout",
     "output_type": "stream",
     "text": [
      "           "
     ]
    },
    {
     "name": "stdout",
     "output_type": "stream",
     "text": [
      " \""
     ]
    },
    {
     "name": "stdout",
     "output_type": "stream",
     "text": [
      "non"
     ]
    },
    {
     "name": "stdout",
     "output_type": "stream",
     "text": [
      "bond"
     ]
    },
    {
     "name": "stdout",
     "output_type": "stream",
     "text": [
      "ed"
     ]
    },
    {
     "name": "stdout",
     "output_type": "stream",
     "text": [
      "C"
     ]
    },
    {
     "name": "stdout",
     "output_type": "stream",
     "text": [
      "utoff"
     ]
    },
    {
     "name": "stdout",
     "output_type": "stream",
     "text": [
      "\":"
     ]
    },
    {
     "name": "stdout",
     "output_type": "stream",
     "text": [
      " \""
     ]
    },
    {
     "name": "stdout",
     "output_type": "stream",
     "text": [
      "1"
     ]
    },
    {
     "name": "stdout",
     "output_type": "stream",
     "text": [
      "."
     ]
    },
    {
     "name": "stdout",
     "output_type": "stream",
     "text": [
      "0"
     ]
    },
    {
     "name": "stdout",
     "output_type": "stream",
     "text": [
      " *"
     ]
    },
    {
     "name": "stdout",
     "output_type": "stream",
     "text": [
      " nan"
     ]
    },
    {
     "name": "stdout",
     "output_type": "stream",
     "text": [
      "ometers"
     ]
    },
    {
     "name": "stdout",
     "output_type": "stream",
     "text": [
      "\",\n"
     ]
    },
    {
     "name": "stdout",
     "output_type": "stream",
     "text": [
      "           "
     ]
    },
    {
     "name": "stdout",
     "output_type": "stream",
     "text": [
      " \""
     ]
    },
    {
     "name": "stdout",
     "output_type": "stream",
     "text": [
      "constraints"
     ]
    },
    {
     "name": "stdout",
     "output_type": "stream",
     "text": [
      "\":"
     ]
    },
    {
     "name": "stdout",
     "output_type": "stream",
     "text": [
      " \""
     ]
    },
    {
     "name": "stdout",
     "output_type": "stream",
     "text": [
      "HB"
     ]
    },
    {
     "name": "stdout",
     "output_type": "stream",
     "text": [
      "onds"
     ]
    },
    {
     "name": "stdout",
     "output_type": "stream",
     "text": [
      "\",\n"
     ]
    },
    {
     "name": "stdout",
     "output_type": "stream",
     "text": [
      "           "
     ]
    },
    {
     "name": "stdout",
     "output_type": "stream",
     "text": [
      " \""
     ]
    },
    {
     "name": "stdout",
     "output_type": "stream",
     "text": [
      "rig"
     ]
    },
    {
     "name": "stdout",
     "output_type": "stream",
     "text": [
      "id"
     ]
    },
    {
     "name": "stdout",
     "output_type": "stream",
     "text": [
      "Water"
     ]
    },
    {
     "name": "stdout",
     "output_type": "stream",
     "text": [
      "\":"
     ]
    },
    {
     "name": "stdout",
     "output_type": "stream",
     "text": [
      " true"
     ]
    },
    {
     "name": "stdout",
     "output_type": "stream",
     "text": [
      ",\n"
     ]
    },
    {
     "name": "stdout",
     "output_type": "stream",
     "text": [
      "           "
     ]
    },
    {
     "name": "stdout",
     "output_type": "stream",
     "text": [
      " \""
     ]
    },
    {
     "name": "stdout",
     "output_type": "stream",
     "text": [
      "s"
     ]
    },
    {
     "name": "stdout",
     "output_type": "stream",
     "text": [
      "olv"
     ]
    },
    {
     "name": "stdout",
     "output_type": "stream",
     "text": [
      "ate"
     ]
    },
    {
     "name": "stdout",
     "output_type": "stream",
     "text": [
      "\":"
     ]
    },
    {
     "name": "stdout",
     "output_type": "stream",
     "text": [
      " true"
     ]
    },
    {
     "name": "stdout",
     "output_type": "stream",
     "text": [
      ",\n"
     ]
    },
    {
     "name": "stdout",
     "output_type": "stream",
     "text": [
      "           "
     ]
    },
    {
     "name": "stdout",
     "output_type": "stream",
     "text": [
      " \""
     ]
    },
    {
     "name": "stdout",
     "output_type": "stream",
     "text": [
      "constraint"
     ]
    },
    {
     "name": "stdout",
     "output_type": "stream",
     "text": [
      "T"
     ]
    },
    {
     "name": "stdout",
     "output_type": "stream",
     "text": [
      "olerance"
     ]
    },
    {
     "name": "stdout",
     "output_type": "stream",
     "text": [
      "\":"
     ]
    },
    {
     "name": "stdout",
     "output_type": "stream",
     "text": [
      " \""
     ]
    },
    {
     "name": "stdout",
     "output_type": "stream",
     "text": [
      "0"
     ]
    },
    {
     "name": "stdout",
     "output_type": "stream",
     "text": [
      "."
     ]
    },
    {
     "name": "stdout",
     "output_type": "stream",
     "text": [
      "000"
     ]
    },
    {
     "name": "stdout",
     "output_type": "stream",
     "text": [
      "01"
     ]
    },
    {
     "name": "stdout",
     "output_type": "stream",
     "text": [
      "\"\n"
     ]
    },
    {
     "name": "stdout",
     "output_type": "stream",
     "text": [
      "       "
     ]
    },
    {
     "name": "stdout",
     "output_type": "stream",
     "text": [
      " },\n"
     ]
    },
    {
     "name": "stdout",
     "output_type": "stream",
     "text": [
      "       "
     ]
    },
    {
     "name": "stdout",
     "output_type": "stream",
     "text": [
      " \""
     ]
    },
    {
     "name": "stdout",
     "output_type": "stream",
     "text": [
      "integr"
     ]
    },
    {
     "name": "stdout",
     "output_type": "stream",
     "text": [
      "ator"
     ]
    },
    {
     "name": "stdout",
     "output_type": "stream",
     "text": [
      "_params"
     ]
    },
    {
     "name": "stdout",
     "output_type": "stream",
     "text": [
      "\":"
     ]
    },
    {
     "name": "stdout",
     "output_type": "stream",
     "text": [
      " {\n"
     ]
    },
    {
     "name": "stdout",
     "output_type": "stream",
     "text": [
      "           "
     ]
    },
    {
     "name": "stdout",
     "output_type": "stream",
     "text": [
      " \""
     ]
    },
    {
     "name": "stdout",
     "output_type": "stream",
     "text": [
      "integr"
     ]
    },
    {
     "name": "stdout",
     "output_type": "stream",
     "text": [
      "ator"
     ]
    },
    {
     "name": "stdout",
     "output_type": "stream",
     "text": [
      "_type"
     ]
    },
    {
     "name": "stdout",
     "output_type": "stream",
     "text": [
      "\":"
     ]
    },
    {
     "name": "stdout",
     "output_type": "stream",
     "text": [
      " \""
     ]
    },
    {
     "name": "stdout",
     "output_type": "stream",
     "text": [
      "L"
     ]
    },
    {
     "name": "stdout",
     "output_type": "stream",
     "text": [
      "ange"
     ]
    },
    {
     "name": "stdout",
     "output_type": "stream",
     "text": [
      "vin"
     ]
    },
    {
     "name": "stdout",
     "output_type": "stream",
     "text": [
      "Middle"
     ]
    },
    {
     "name": "stdout",
     "output_type": "stream",
     "text": [
      "\",\n"
     ]
    },
    {
     "name": "stdout",
     "output_type": "stream",
     "text": [
      "           "
     ]
    },
    {
     "name": "stdout",
     "output_type": "stream",
     "text": [
      " \""
     ]
    },
    {
     "name": "stdout",
     "output_type": "stream",
     "text": [
      "Temperature"
     ]
    },
    {
     "name": "stdout",
     "output_type": "stream",
     "text": [
      "\":"
     ]
    },
    {
     "name": "stdout",
     "output_type": "stream",
     "text": [
      " \""
     ]
    },
    {
     "name": "stdout",
     "output_type": "stream",
     "text": [
      "300"
     ]
    },
    {
     "name": "stdout",
     "output_type": "stream",
     "text": [
      " *"
     ]
    },
    {
     "name": "stdout",
     "output_type": "stream",
     "text": [
      " kel"
     ]
    },
    {
     "name": "stdout",
     "output_type": "stream",
     "text": [
      "vin"
     ]
    },
    {
     "name": "stdout",
     "output_type": "stream",
     "text": [
      "\",\n"
     ]
    },
    {
     "name": "stdout",
     "output_type": "stream",
     "text": [
      "           "
     ]
    },
    {
     "name": "stdout",
     "output_type": "stream",
     "text": [
      " \""
     ]
    },
    {
     "name": "stdout",
     "output_type": "stream",
     "text": [
      "Fr"
     ]
    },
    {
     "name": "stdout",
     "output_type": "stream",
     "text": [
      "iction"
     ]
    },
    {
     "name": "stdout",
     "output_type": "stream",
     "text": [
      "\":"
     ]
    },
    {
     "name": "stdout",
     "output_type": "stream",
     "text": [
      " \""
     ]
    },
    {
     "name": "stdout",
     "output_type": "stream",
     "text": [
      "1"
     ]
    },
    {
     "name": "stdout",
     "output_type": "stream",
     "text": [
      "."
     ]
    },
    {
     "name": "stdout",
     "output_type": "stream",
     "text": [
      "0"
     ]
    },
    {
     "name": "stdout",
     "output_type": "stream",
     "text": [
      " /"
     ]
    },
    {
     "name": "stdout",
     "output_type": "stream",
     "text": [
      " pic"
     ]
    },
    {
     "name": "stdout",
     "output_type": "stream",
     "text": [
      "oseconds"
     ]
    },
    {
     "name": "stdout",
     "output_type": "stream",
     "text": [
      "\",\n"
     ]
    },
    {
     "name": "stdout",
     "output_type": "stream",
     "text": [
      "           "
     ]
    },
    {
     "name": "stdout",
     "output_type": "stream",
     "text": [
      " \""
     ]
    },
    {
     "name": "stdout",
     "output_type": "stream",
     "text": [
      "T"
     ]
    },
    {
     "name": "stdout",
     "output_type": "stream",
     "text": [
      "imestep"
     ]
    },
    {
     "name": "stdout",
     "output_type": "stream",
     "text": [
      "\":"
     ]
    },
    {
     "name": "stdout",
     "output_type": "stream",
     "text": [
      " \""
     ]
    },
    {
     "name": "stdout",
     "output_type": "stream",
     "text": [
      "0"
     ]
    },
    {
     "name": "stdout",
     "output_type": "stream",
     "text": [
      "."
     ]
    },
    {
     "name": "stdout",
     "output_type": "stream",
     "text": [
      "002"
     ]
    },
    {
     "name": "stdout",
     "output_type": "stream",
     "text": [
      " *"
     ]
    },
    {
     "name": "stdout",
     "output_type": "stream",
     "text": [
      " pic"
     ]
    },
    {
     "name": "stdout",
     "output_type": "stream",
     "text": [
      "oseconds"
     ]
    },
    {
     "name": "stdout",
     "output_type": "stream",
     "text": [
      "\"\n"
     ]
    },
    {
     "name": "stdout",
     "output_type": "stream",
     "text": [
      "       "
     ]
    },
    {
     "name": "stdout",
     "output_type": "stream",
     "text": [
      " },\n"
     ]
    },
    {
     "name": "stdout",
     "output_type": "stream",
     "text": [
      "       "
     ]
    },
    {
     "name": "stdout",
     "output_type": "stream",
     "text": [
      " \""
     ]
    },
    {
     "name": "stdout",
     "output_type": "stream",
     "text": [
      "simulation"
     ]
    },
    {
     "name": "stdout",
     "output_type": "stream",
     "text": [
      "_params"
     ]
    },
    {
     "name": "stdout",
     "output_type": "stream",
     "text": [
      "\":"
     ]
    },
    {
     "name": "stdout",
     "output_type": "stream",
     "text": [
      " {\n"
     ]
    },
    {
     "name": "stdout",
     "output_type": "stream",
     "text": [
      "           "
     ]
    },
    {
     "name": "stdout",
     "output_type": "stream",
     "text": [
      " \""
     ]
    },
    {
     "name": "stdout",
     "output_type": "stream",
     "text": [
      "En"
     ]
    },
    {
     "name": "stdout",
     "output_type": "stream",
     "text": [
      "semble"
     ]
    },
    {
     "name": "stdout",
     "output_type": "stream",
     "text": [
      "\":"
     ]
    },
    {
     "name": "stdout",
     "output_type": "stream",
     "text": [
      " \""
     ]
    },
    {
     "name": "stdout",
     "output_type": "stream",
     "text": [
      "N"
     ]
    },
    {
     "name": "stdout",
     "output_type": "stream",
     "text": [
      "VT"
     ]
    },
    {
     "name": "stdout",
     "output_type": "stream",
     "text": [
      "\",\n"
     ]
    },
    {
     "name": "stdout",
     "output_type": "stream",
     "text": [
      "           "
     ]
    },
    {
     "name": "stdout",
     "output_type": "stream",
     "text": [
      " \""
     ]
    },
    {
     "name": "stdout",
     "output_type": "stream",
     "text": [
      "Number"
     ]
    },
    {
     "name": "stdout",
     "output_type": "stream",
     "text": [
      " of"
     ]
    },
    {
     "name": "stdout",
     "output_type": "stream",
     "text": [
      " Steps"
     ]
    },
    {
     "name": "stdout",
     "output_type": "stream",
     "text": [
      "\":"
     ]
    },
    {
     "name": "stdout",
     "output_type": "stream",
     "text": [
      " "
     ]
    },
    {
     "name": "stdout",
     "output_type": "stream",
     "text": [
      "500"
     ]
    },
    {
     "name": "stdout",
     "output_type": "stream",
     "text": [
      "00"
     ]
    },
    {
     "name": "stdout",
     "output_type": "stream",
     "text": [
      ",\n"
     ]
    },
    {
     "name": "stdout",
     "output_type": "stream",
     "text": [
      "           "
     ]
    },
    {
     "name": "stdout",
     "output_type": "stream",
     "text": [
      " \""
     ]
    },
    {
     "name": "stdout",
     "output_type": "stream",
     "text": [
      "record"
     ]
    },
    {
     "name": "stdout",
     "output_type": "stream",
     "text": [
      "_interval"
     ]
    },
    {
     "name": "stdout",
     "output_type": "stream",
     "text": [
      "_steps"
     ]
    },
    {
     "name": "stdout",
     "output_type": "stream",
     "text": [
      "\":"
     ]
    },
    {
     "name": "stdout",
     "output_type": "stream",
     "text": [
      " "
     ]
    },
    {
     "name": "stdout",
     "output_type": "stream",
     "text": [
      "500"
     ]
    },
    {
     "name": "stdout",
     "output_type": "stream",
     "text": [
      ",\n"
     ]
    },
    {
     "name": "stdout",
     "output_type": "stream",
     "text": [
      "           "
     ]
    },
    {
     "name": "stdout",
     "output_type": "stream",
     "text": [
      " \""
     ]
    },
    {
     "name": "stdout",
     "output_type": "stream",
     "text": [
      "record"
     ]
    },
    {
     "name": "stdout",
     "output_type": "stream",
     "text": [
      "_params"
     ]
    },
    {
     "name": "stdout",
     "output_type": "stream",
     "text": [
      "\":"
     ]
    },
    {
     "name": "stdout",
     "output_type": "stream",
     "text": [
      " [\""
     ]
    },
    {
     "name": "stdout",
     "output_type": "stream",
     "text": [
      "step"
     ]
    },
    {
     "name": "stdout",
     "output_type": "stream",
     "text": [
      "\","
     ]
    },
    {
     "name": "stdout",
     "output_type": "stream",
     "text": [
      " \""
     ]
    },
    {
     "name": "stdout",
     "output_type": "stream",
     "text": [
      "potential"
     ]
    },
    {
     "name": "stdout",
     "output_type": "stream",
     "text": [
      "Energy"
     ]
    },
    {
     "name": "stdout",
     "output_type": "stream",
     "text": [
      "\","
     ]
    },
    {
     "name": "stdout",
     "output_type": "stream",
     "text": [
      " \""
     ]
    },
    {
     "name": "stdout",
     "output_type": "stream",
     "text": [
      "temperature"
     ]
    },
    {
     "name": "stdout",
     "output_type": "stream",
     "text": [
      "\"]\n"
     ]
    },
    {
     "name": "stdout",
     "output_type": "stream",
     "text": [
      "       "
     ]
    },
    {
     "name": "stdout",
     "output_type": "stream",
     "text": [
      " }\n"
     ]
    },
    {
     "name": "stdout",
     "output_type": "stream",
     "text": [
      "   "
     ]
    },
    {
     "name": "stdout",
     "output_type": "stream",
     "text": [
      " }\n"
     ]
    },
    {
     "name": "stdout",
     "output_type": "stream",
     "text": [
      "}\n"
     ]
    },
    {
     "name": "stdout",
     "output_type": "stream",
     "text": [
      "```"
     ]
    },
    {
     "name": "stdout",
     "output_type": "stream",
     "text": [
      "Setting default ewaldErrorTolerance: 0.0005 \n",
      "error found: The forcefield file is not present\n",
      " Correct this and try again. \n",
      " Everthing else is fine\n"
     ]
    },
    {
     "name": "stdout",
     "output_type": "stream",
     "text": [
      "To"
     ]
    },
    {
     "name": "stdout",
     "output_type": "stream",
     "text": [
      " successfully"
     ]
    },
    {
     "name": "stdout",
     "output_type": "stream",
     "text": [
      " simulate"
     ]
    },
    {
     "name": "stdout",
     "output_type": "stream",
     "text": [
      " de"
     ]
    },
    {
     "name": "stdout",
     "output_type": "stream",
     "text": [
      "o"
     ]
    },
    {
     "name": "stdout",
     "output_type": "stream",
     "text": [
      "xygen"
     ]
    },
    {
     "name": "stdout",
     "output_type": "stream",
     "text": [
      "ated"
     ]
    },
    {
     "name": "stdout",
     "output_type": "stream",
     "text": [
      " hem"
     ]
    },
    {
     "name": "stdout",
     "output_type": "stream",
     "text": [
      "oglobin"
     ]
    },
    {
     "name": "stdout",
     "output_type": "stream",
     "text": [
      " ("
     ]
    },
    {
     "name": "stdout",
     "output_type": "stream",
     "text": [
      "P"
     ]
    },
    {
     "name": "stdout",
     "output_type": "stream",
     "text": [
      "DB"
     ]
    },
    {
     "name": "stdout",
     "output_type": "stream",
     "text": [
      " ID"
     ]
    },
    {
     "name": "stdout",
     "output_type": "stream",
     "text": [
      ":"
     ]
    },
    {
     "name": "stdout",
     "output_type": "stream",
     "text": [
      " "
     ]
    },
    {
     "name": "stdout",
     "output_type": "stream",
     "text": [
      "1"
     ]
    },
    {
     "name": "stdout",
     "output_type": "stream",
     "text": [
      "A"
     ]
    },
    {
     "name": "stdout",
     "output_type": "stream",
     "text": [
      "3"
     ]
    },
    {
     "name": "stdout",
     "output_type": "stream",
     "text": [
      "N"
     ]
    },
    {
     "name": "stdout",
     "output_type": "stream",
     "text": [
      ")"
     ]
    },
    {
     "name": "stdout",
     "output_type": "stream",
     "text": [
      " and"
     ]
    },
    {
     "name": "stdout",
     "output_type": "stream",
     "text": [
      " oxygen"
     ]
    },
    {
     "name": "stdout",
     "output_type": "stream",
     "text": [
      "ated"
     ]
    },
    {
     "name": "stdout",
     "output_type": "stream",
     "text": [
      " hem"
     ]
    },
    {
     "name": "stdout",
     "output_type": "stream",
     "text": [
      "oglobin"
     ]
    },
    {
     "name": "stdout",
     "output_type": "stream",
     "text": [
      " ("
     ]
    },
    {
     "name": "stdout",
     "output_type": "stream",
     "text": [
      "P"
     ]
    },
    {
     "name": "stdout",
     "output_type": "stream",
     "text": [
      "DB"
     ]
    },
    {
     "name": "stdout",
     "output_type": "stream",
     "text": [
      " ID"
     ]
    },
    {
     "name": "stdout",
     "output_type": "stream",
     "text": [
      ":"
     ]
    },
    {
     "name": "stdout",
     "output_type": "stream",
     "text": [
      " "
     ]
    },
    {
     "name": "stdout",
     "output_type": "stream",
     "text": [
      "6"
     ]
    },
    {
     "name": "stdout",
     "output_type": "stream",
     "text": [
      "BB"
     ]
    },
    {
     "name": "stdout",
     "output_type": "stream",
     "text": [
      "5"
     ]
    },
    {
     "name": "stdout",
     "output_type": "stream",
     "text": [
      "),"
     ]
    },
    {
     "name": "stdout",
     "output_type": "stream",
     "text": [
      " I"
     ]
    },
    {
     "name": "stdout",
     "output_type": "stream",
     "text": [
      " need"
     ]
    },
    {
     "name": "stdout",
     "output_type": "stream",
     "text": [
      " to"
     ]
    },
    {
     "name": "stdout",
     "output_type": "stream",
     "text": [
      " correct"
     ]
    },
    {
     "name": "stdout",
     "output_type": "stream",
     "text": [
      " the"
     ]
    },
    {
     "name": "stdout",
     "output_type": "stream",
     "text": [
      " previous"
     ]
    },
    {
     "name": "stdout",
     "output_type": "stream",
     "text": [
      " simulation"
     ]
    },
    {
     "name": "stdout",
     "output_type": "stream",
     "text": [
      " setup"
     ]
    },
    {
     "name": "stdout",
     "output_type": "stream",
     "text": [
      " by"
     ]
    },
    {
     "name": "stdout",
     "output_type": "stream",
     "text": [
      " specifying"
     ]
    },
    {
     "name": "stdout",
     "output_type": "stream",
     "text": [
      " a"
     ]
    },
    {
     "name": "stdout",
     "output_type": "stream",
     "text": [
      " valid"
     ]
    },
    {
     "name": "stdout",
     "output_type": "stream",
     "text": [
      " force"
     ]
    },
    {
     "name": "stdout",
     "output_type": "stream",
     "text": [
      "field"
     ]
    },
    {
     "name": "stdout",
     "output_type": "stream",
     "text": [
      " file"
     ]
    },
    {
     "name": "stdout",
     "output_type": "stream",
     "text": [
      "."
     ]
    },
    {
     "name": "stdout",
     "output_type": "stream",
     "text": [
      " I"
     ]
    },
    {
     "name": "stdout",
     "output_type": "stream",
     "text": [
      " will"
     ]
    },
    {
     "name": "stdout",
     "output_type": "stream",
     "text": [
      " adjust"
     ]
    },
    {
     "name": "stdout",
     "output_type": "stream",
     "text": [
      " the"
     ]
    },
    {
     "name": "stdout",
     "output_type": "stream",
     "text": [
      " force"
     ]
    },
    {
     "name": "stdout",
     "output_type": "stream",
     "text": [
      "field"
     ]
    },
    {
     "name": "stdout",
     "output_type": "stream",
     "text": [
      " to"
     ]
    },
    {
     "name": "stdout",
     "output_type": "stream",
     "text": [
      " a"
     ]
    },
    {
     "name": "stdout",
     "output_type": "stream",
     "text": [
      " commonly"
     ]
    },
    {
     "name": "stdout",
     "output_type": "stream",
     "text": [
      " available"
     ]
    },
    {
     "name": "stdout",
     "output_type": "stream",
     "text": [
      " one"
     ]
    },
    {
     "name": "stdout",
     "output_type": "stream",
     "text": [
      " and"
     ]
    },
    {
     "name": "stdout",
     "output_type": "stream",
     "text": [
      " proceed"
     ]
    },
    {
     "name": "stdout",
     "output_type": "stream",
     "text": [
      " with"
     ]
    },
    {
     "name": "stdout",
     "output_type": "stream",
     "text": [
      " the"
     ]
    },
    {
     "name": "stdout",
     "output_type": "stream",
     "text": [
      " simulation"
     ]
    },
    {
     "name": "stdout",
     "output_type": "stream",
     "text": [
      " setup"
     ]
    },
    {
     "name": "stdout",
     "output_type": "stream",
     "text": [
      " for"
     ]
    },
    {
     "name": "stdout",
     "output_type": "stream",
     "text": [
      " both"
     ]
    },
    {
     "name": "stdout",
     "output_type": "stream",
     "text": [
      " P"
     ]
    },
    {
     "name": "stdout",
     "output_type": "stream",
     "text": [
      "DB"
     ]
    },
    {
     "name": "stdout",
     "output_type": "stream",
     "text": [
      " IDs"
     ]
    },
    {
     "name": "stdout",
     "output_type": "stream",
     "text": [
      ".\n",
      "\n"
     ]
    },
    {
     "name": "stdout",
     "output_type": "stream",
     "text": [
      "Action"
     ]
    },
    {
     "name": "stdout",
     "output_type": "stream",
     "text": [
      ":\n"
     ]
    },
    {
     "name": "stdout",
     "output_type": "stream",
     "text": [
      "```"
     ]
    },
    {
     "name": "stdout",
     "output_type": "stream",
     "text": [
      "json"
     ]
    },
    {
     "name": "stdout",
     "output_type": "stream",
     "text": [
      "\n"
     ]
    },
    {
     "name": "stdout",
     "output_type": "stream",
     "text": [
      "{\n"
     ]
    },
    {
     "name": "stdout",
     "output_type": "stream",
     "text": [
      "   "
     ]
    },
    {
     "name": "stdout",
     "output_type": "stream",
     "text": [
      " \""
     ]
    },
    {
     "name": "stdout",
     "output_type": "stream",
     "text": [
      "action"
     ]
    },
    {
     "name": "stdout",
     "output_type": "stream",
     "text": [
      "\":"
     ]
    },
    {
     "name": "stdout",
     "output_type": "stream",
     "text": [
      " \""
     ]
    },
    {
     "name": "stdout",
     "output_type": "stream",
     "text": [
      "SetUp"
     ]
    },
    {
     "name": "stdout",
     "output_type": "stream",
     "text": [
      "and"
     ]
    },
    {
     "name": "stdout",
     "output_type": "stream",
     "text": [
      "Run"
     ]
    },
    {
     "name": "stdout",
     "output_type": "stream",
     "text": [
      "Function"
     ]
    },
    {
     "name": "stdout",
     "output_type": "stream",
     "text": [
      "\",\n"
     ]
    },
    {
     "name": "stdout",
     "output_type": "stream",
     "text": [
      "   "
     ]
    },
    {
     "name": "stdout",
     "output_type": "stream",
     "text": [
      " \""
     ]
    },
    {
     "name": "stdout",
     "output_type": "stream",
     "text": [
      "action"
     ]
    },
    {
     "name": "stdout",
     "output_type": "stream",
     "text": [
      "_input"
     ]
    },
    {
     "name": "stdout",
     "output_type": "stream",
     "text": [
      "\":"
     ]
    },
    {
     "name": "stdout",
     "output_type": "stream",
     "text": [
      " {\n"
     ]
    },
    {
     "name": "stdout",
     "output_type": "stream",
     "text": [
      "       "
     ]
    },
    {
     "name": "stdout",
     "output_type": "stream",
     "text": [
      " \""
     ]
    },
    {
     "name": "stdout",
     "output_type": "stream",
     "text": [
      "pdb"
     ]
    },
    {
     "name": "stdout",
     "output_type": "stream",
     "text": [
      "_id"
     ]
    },
    {
     "name": "stdout",
     "output_type": "stream",
     "text": [
      "\":"
     ]
    },
    {
     "name": "stdout",
     "output_type": "stream",
     "text": [
      " \""
     ]
    },
    {
     "name": "stdout",
     "output_type": "stream",
     "text": [
      "1"
     ]
    },
    {
     "name": "stdout",
     "output_type": "stream",
     "text": [
      "A"
     ]
    },
    {
     "name": "stdout",
     "output_type": "stream",
     "text": [
      "3"
     ]
    },
    {
     "name": "stdout",
     "output_type": "stream",
     "text": [
      "N"
     ]
    },
    {
     "name": "stdout",
     "output_type": "stream",
     "text": [
      "_"
     ]
    },
    {
     "name": "stdout",
     "output_type": "stream",
     "text": [
      "210"
     ]
    },
    {
     "name": "stdout",
     "output_type": "stream",
     "text": [
      "823"
     ]
    },
    {
     "name": "stdout",
     "output_type": "stream",
     "text": [
      "\",\n"
     ]
    },
    {
     "name": "stdout",
     "output_type": "stream",
     "text": [
      "       "
     ]
    },
    {
     "name": "stdout",
     "output_type": "stream",
     "text": [
      " \""
     ]
    },
    {
     "name": "stdout",
     "output_type": "stream",
     "text": [
      "force"
     ]
    },
    {
     "name": "stdout",
     "output_type": "stream",
     "text": [
      "field"
     ]
    },
    {
     "name": "stdout",
     "output_type": "stream",
     "text": [
      "_files"
     ]
    },
    {
     "name": "stdout",
     "output_type": "stream",
     "text": [
      "\":"
     ]
    },
    {
     "name": "stdout",
     "output_type": "stream",
     "text": [
      " [\""
     ]
    },
    {
     "name": "stdout",
     "output_type": "stream",
     "text": [
      "amber"
     ]
    },
    {
     "name": "stdout",
     "output_type": "stream",
     "text": [
      "14"
     ]
    },
    {
     "name": "stdout",
     "output_type": "stream",
     "text": [
      "sb"
     ]
    },
    {
     "name": "stdout",
     "output_type": "stream",
     "text": [
      "\"],\n"
     ]
    },
    {
     "name": "stdout",
     "output_type": "stream",
     "text": [
      "       "
     ]
    },
    {
     "name": "stdout",
     "output_type": "stream",
     "text": [
      " \""
     ]
    },
    {
     "name": "stdout",
     "output_type": "stream",
     "text": [
      "system"
     ]
    },
    {
     "name": "stdout",
     "output_type": "stream",
     "text": [
      "_params"
     ]
    },
    {
     "name": "stdout",
     "output_type": "stream",
     "text": [
      "\":"
     ]
    },
    {
     "name": "stdout",
     "output_type": "stream",
     "text": [
      " {\n"
     ]
    },
    {
     "name": "stdout",
     "output_type": "stream",
     "text": [
      "           "
     ]
    },
    {
     "name": "stdout",
     "output_type": "stream",
     "text": [
      " \""
     ]
    },
    {
     "name": "stdout",
     "output_type": "stream",
     "text": [
      "non"
     ]
    },
    {
     "name": "stdout",
     "output_type": "stream",
     "text": [
      "bond"
     ]
    },
    {
     "name": "stdout",
     "output_type": "stream",
     "text": [
      "ed"
     ]
    },
    {
     "name": "stdout",
     "output_type": "stream",
     "text": [
      "Method"
     ]
    },
    {
     "name": "stdout",
     "output_type": "stream",
     "text": [
      "\":"
     ]
    },
    {
     "name": "stdout",
     "output_type": "stream",
     "text": [
      " \""
     ]
    },
    {
     "name": "stdout",
     "output_type": "stream",
     "text": [
      "P"
     ]
    },
    {
     "name": "stdout",
     "output_type": "stream",
     "text": [
      "ME"
     ]
    },
    {
     "name": "stdout",
     "output_type": "stream",
     "text": [
      "\",\n"
     ]
    },
    {
     "name": "stdout",
     "output_type": "stream",
     "text": [
      "           "
     ]
    },
    {
     "name": "stdout",
     "output_type": "stream",
     "text": [
      " \""
     ]
    },
    {
     "name": "stdout",
     "output_type": "stream",
     "text": [
      "non"
     ]
    },
    {
     "name": "stdout",
     "output_type": "stream",
     "text": [
      "bond"
     ]
    },
    {
     "name": "stdout",
     "output_type": "stream",
     "text": [
      "ed"
     ]
    },
    {
     "name": "stdout",
     "output_type": "stream",
     "text": [
      "C"
     ]
    },
    {
     "name": "stdout",
     "output_type": "stream",
     "text": [
      "utoff"
     ]
    },
    {
     "name": "stdout",
     "output_type": "stream",
     "text": [
      "\":"
     ]
    },
    {
     "name": "stdout",
     "output_type": "stream",
     "text": [
      " \""
     ]
    },
    {
     "name": "stdout",
     "output_type": "stream",
     "text": [
      "1"
     ]
    },
    {
     "name": "stdout",
     "output_type": "stream",
     "text": [
      "."
     ]
    },
    {
     "name": "stdout",
     "output_type": "stream",
     "text": [
      "0"
     ]
    },
    {
     "name": "stdout",
     "output_type": "stream",
     "text": [
      " *"
     ]
    },
    {
     "name": "stdout",
     "output_type": "stream",
     "text": [
      " nan"
     ]
    },
    {
     "name": "stdout",
     "output_type": "stream",
     "text": [
      "ometers"
     ]
    },
    {
     "name": "stdout",
     "output_type": "stream",
     "text": [
      "\",\n"
     ]
    },
    {
     "name": "stdout",
     "output_type": "stream",
     "text": [
      "           "
     ]
    },
    {
     "name": "stdout",
     "output_type": "stream",
     "text": [
      " \""
     ]
    },
    {
     "name": "stdout",
     "output_type": "stream",
     "text": [
      "constraints"
     ]
    },
    {
     "name": "stdout",
     "output_type": "stream",
     "text": [
      "\":"
     ]
    },
    {
     "name": "stdout",
     "output_type": "stream",
     "text": [
      " \""
     ]
    },
    {
     "name": "stdout",
     "output_type": "stream",
     "text": [
      "HB"
     ]
    },
    {
     "name": "stdout",
     "output_type": "stream",
     "text": [
      "onds"
     ]
    },
    {
     "name": "stdout",
     "output_type": "stream",
     "text": [
      "\",\n"
     ]
    },
    {
     "name": "stdout",
     "output_type": "stream",
     "text": [
      "           "
     ]
    },
    {
     "name": "stdout",
     "output_type": "stream",
     "text": [
      " \""
     ]
    },
    {
     "name": "stdout",
     "output_type": "stream",
     "text": [
      "rig"
     ]
    },
    {
     "name": "stdout",
     "output_type": "stream",
     "text": [
      "id"
     ]
    },
    {
     "name": "stdout",
     "output_type": "stream",
     "text": [
      "Water"
     ]
    },
    {
     "name": "stdout",
     "output_type": "stream",
     "text": [
      "\":"
     ]
    },
    {
     "name": "stdout",
     "output_type": "stream",
     "text": [
      " true"
     ]
    },
    {
     "name": "stdout",
     "output_type": "stream",
     "text": [
      ",\n"
     ]
    },
    {
     "name": "stdout",
     "output_type": "stream",
     "text": [
      "           "
     ]
    },
    {
     "name": "stdout",
     "output_type": "stream",
     "text": [
      " \""
     ]
    },
    {
     "name": "stdout",
     "output_type": "stream",
     "text": [
      "s"
     ]
    },
    {
     "name": "stdout",
     "output_type": "stream",
     "text": [
      "olv"
     ]
    },
    {
     "name": "stdout",
     "output_type": "stream",
     "text": [
      "ate"
     ]
    },
    {
     "name": "stdout",
     "output_type": "stream",
     "text": [
      "\":"
     ]
    },
    {
     "name": "stdout",
     "output_type": "stream",
     "text": [
      " true"
     ]
    },
    {
     "name": "stdout",
     "output_type": "stream",
     "text": [
      ",\n"
     ]
    },
    {
     "name": "stdout",
     "output_type": "stream",
     "text": [
      "           "
     ]
    },
    {
     "name": "stdout",
     "output_type": "stream",
     "text": [
      " \""
     ]
    },
    {
     "name": "stdout",
     "output_type": "stream",
     "text": [
      "constraint"
     ]
    },
    {
     "name": "stdout",
     "output_type": "stream",
     "text": [
      "T"
     ]
    },
    {
     "name": "stdout",
     "output_type": "stream",
     "text": [
      "olerance"
     ]
    },
    {
     "name": "stdout",
     "output_type": "stream",
     "text": [
      "\":"
     ]
    },
    {
     "name": "stdout",
     "output_type": "stream",
     "text": [
      " \""
     ]
    },
    {
     "name": "stdout",
     "output_type": "stream",
     "text": [
      "0"
     ]
    },
    {
     "name": "stdout",
     "output_type": "stream",
     "text": [
      "."
     ]
    },
    {
     "name": "stdout",
     "output_type": "stream",
     "text": [
      "000"
     ]
    },
    {
     "name": "stdout",
     "output_type": "stream",
     "text": [
      "01"
     ]
    },
    {
     "name": "stdout",
     "output_type": "stream",
     "text": [
      "\"\n"
     ]
    },
    {
     "name": "stdout",
     "output_type": "stream",
     "text": [
      "       "
     ]
    },
    {
     "name": "stdout",
     "output_type": "stream",
     "text": [
      " },\n"
     ]
    },
    {
     "name": "stdout",
     "output_type": "stream",
     "text": [
      "       "
     ]
    },
    {
     "name": "stdout",
     "output_type": "stream",
     "text": [
      " \""
     ]
    },
    {
     "name": "stdout",
     "output_type": "stream",
     "text": [
      "integr"
     ]
    },
    {
     "name": "stdout",
     "output_type": "stream",
     "text": [
      "ator"
     ]
    },
    {
     "name": "stdout",
     "output_type": "stream",
     "text": [
      "_params"
     ]
    },
    {
     "name": "stdout",
     "output_type": "stream",
     "text": [
      "\":"
     ]
    },
    {
     "name": "stdout",
     "output_type": "stream",
     "text": [
      " {\n"
     ]
    },
    {
     "name": "stdout",
     "output_type": "stream",
     "text": [
      "           "
     ]
    },
    {
     "name": "stdout",
     "output_type": "stream",
     "text": [
      " \""
     ]
    },
    {
     "name": "stdout",
     "output_type": "stream",
     "text": [
      "integr"
     ]
    },
    {
     "name": "stdout",
     "output_type": "stream",
     "text": [
      "ator"
     ]
    },
    {
     "name": "stdout",
     "output_type": "stream",
     "text": [
      "_type"
     ]
    },
    {
     "name": "stdout",
     "output_type": "stream",
     "text": [
      "\":"
     ]
    },
    {
     "name": "stdout",
     "output_type": "stream",
     "text": [
      " \""
     ]
    },
    {
     "name": "stdout",
     "output_type": "stream",
     "text": [
      "L"
     ]
    },
    {
     "name": "stdout",
     "output_type": "stream",
     "text": [
      "ange"
     ]
    },
    {
     "name": "stdout",
     "output_type": "stream",
     "text": [
      "vin"
     ]
    },
    {
     "name": "stdout",
     "output_type": "stream",
     "text": [
      "Middle"
     ]
    },
    {
     "name": "stdout",
     "output_type": "stream",
     "text": [
      "\",\n"
     ]
    },
    {
     "name": "stdout",
     "output_type": "stream",
     "text": [
      "           "
     ]
    },
    {
     "name": "stdout",
     "output_type": "stream",
     "text": [
      " \""
     ]
    },
    {
     "name": "stdout",
     "output_type": "stream",
     "text": [
      "Temperature"
     ]
    },
    {
     "name": "stdout",
     "output_type": "stream",
     "text": [
      "\":"
     ]
    },
    {
     "name": "stdout",
     "output_type": "stream",
     "text": [
      " \""
     ]
    },
    {
     "name": "stdout",
     "output_type": "stream",
     "text": [
      "300"
     ]
    },
    {
     "name": "stdout",
     "output_type": "stream",
     "text": [
      " *"
     ]
    },
    {
     "name": "stdout",
     "output_type": "stream",
     "text": [
      " kel"
     ]
    },
    {
     "name": "stdout",
     "output_type": "stream",
     "text": [
      "vin"
     ]
    },
    {
     "name": "stdout",
     "output_type": "stream",
     "text": [
      "\",\n"
     ]
    },
    {
     "name": "stdout",
     "output_type": "stream",
     "text": [
      "           "
     ]
    },
    {
     "name": "stdout",
     "output_type": "stream",
     "text": [
      " \""
     ]
    },
    {
     "name": "stdout",
     "output_type": "stream",
     "text": [
      "Fr"
     ]
    },
    {
     "name": "stdout",
     "output_type": "stream",
     "text": [
      "iction"
     ]
    },
    {
     "name": "stdout",
     "output_type": "stream",
     "text": [
      "\":"
     ]
    },
    {
     "name": "stdout",
     "output_type": "stream",
     "text": [
      " \""
     ]
    },
    {
     "name": "stdout",
     "output_type": "stream",
     "text": [
      "1"
     ]
    },
    {
     "name": "stdout",
     "output_type": "stream",
     "text": [
      "."
     ]
    },
    {
     "name": "stdout",
     "output_type": "stream",
     "text": [
      "0"
     ]
    },
    {
     "name": "stdout",
     "output_type": "stream",
     "text": [
      " /"
     ]
    },
    {
     "name": "stdout",
     "output_type": "stream",
     "text": [
      " pic"
     ]
    },
    {
     "name": "stdout",
     "output_type": "stream",
     "text": [
      "oseconds"
     ]
    },
    {
     "name": "stdout",
     "output_type": "stream",
     "text": [
      "\",\n"
     ]
    },
    {
     "name": "stdout",
     "output_type": "stream",
     "text": [
      "           "
     ]
    },
    {
     "name": "stdout",
     "output_type": "stream",
     "text": [
      " \""
     ]
    },
    {
     "name": "stdout",
     "output_type": "stream",
     "text": [
      "T"
     ]
    },
    {
     "name": "stdout",
     "output_type": "stream",
     "text": [
      "imestep"
     ]
    },
    {
     "name": "stdout",
     "output_type": "stream",
     "text": [
      "\":"
     ]
    },
    {
     "name": "stdout",
     "output_type": "stream",
     "text": [
      " \""
     ]
    },
    {
     "name": "stdout",
     "output_type": "stream",
     "text": [
      "0"
     ]
    },
    {
     "name": "stdout",
     "output_type": "stream",
     "text": [
      "."
     ]
    },
    {
     "name": "stdout",
     "output_type": "stream",
     "text": [
      "002"
     ]
    },
    {
     "name": "stdout",
     "output_type": "stream",
     "text": [
      " *"
     ]
    },
    {
     "name": "stdout",
     "output_type": "stream",
     "text": [
      " pic"
     ]
    },
    {
     "name": "stdout",
     "output_type": "stream",
     "text": [
      "oseconds"
     ]
    },
    {
     "name": "stdout",
     "output_type": "stream",
     "text": [
      "\"\n"
     ]
    },
    {
     "name": "stdout",
     "output_type": "stream",
     "text": [
      "       "
     ]
    },
    {
     "name": "stdout",
     "output_type": "stream",
     "text": [
      " },\n"
     ]
    },
    {
     "name": "stdout",
     "output_type": "stream",
     "text": [
      "       "
     ]
    },
    {
     "name": "stdout",
     "output_type": "stream",
     "text": [
      " \""
     ]
    },
    {
     "name": "stdout",
     "output_type": "stream",
     "text": [
      "simulation"
     ]
    },
    {
     "name": "stdout",
     "output_type": "stream",
     "text": [
      "_params"
     ]
    },
    {
     "name": "stdout",
     "output_type": "stream",
     "text": [
      "\":"
     ]
    },
    {
     "name": "stdout",
     "output_type": "stream",
     "text": [
      " {\n"
     ]
    },
    {
     "name": "stdout",
     "output_type": "stream",
     "text": [
      "           "
     ]
    },
    {
     "name": "stdout",
     "output_type": "stream",
     "text": [
      " \""
     ]
    },
    {
     "name": "stdout",
     "output_type": "stream",
     "text": [
      "En"
     ]
    },
    {
     "name": "stdout",
     "output_type": "stream",
     "text": [
      "semble"
     ]
    },
    {
     "name": "stdout",
     "output_type": "stream",
     "text": [
      "\":"
     ]
    },
    {
     "name": "stdout",
     "output_type": "stream",
     "text": [
      " \""
     ]
    },
    {
     "name": "stdout",
     "output_type": "stream",
     "text": [
      "N"
     ]
    },
    {
     "name": "stdout",
     "output_type": "stream",
     "text": [
      "VT"
     ]
    },
    {
     "name": "stdout",
     "output_type": "stream",
     "text": [
      "\",\n"
     ]
    },
    {
     "name": "stdout",
     "output_type": "stream",
     "text": [
      "           "
     ]
    },
    {
     "name": "stdout",
     "output_type": "stream",
     "text": [
      " \""
     ]
    },
    {
     "name": "stdout",
     "output_type": "stream",
     "text": [
      "Number"
     ]
    },
    {
     "name": "stdout",
     "output_type": "stream",
     "text": [
      " of"
     ]
    },
    {
     "name": "stdout",
     "output_type": "stream",
     "text": [
      " Steps"
     ]
    },
    {
     "name": "stdout",
     "output_type": "stream",
     "text": [
      "\":"
     ]
    },
    {
     "name": "stdout",
     "output_type": "stream",
     "text": [
      " "
     ]
    },
    {
     "name": "stdout",
     "output_type": "stream",
     "text": [
      "500"
     ]
    },
    {
     "name": "stdout",
     "output_type": "stream",
     "text": [
      "00"
     ]
    },
    {
     "name": "stdout",
     "output_type": "stream",
     "text": [
      ",\n"
     ]
    },
    {
     "name": "stdout",
     "output_type": "stream",
     "text": [
      "           "
     ]
    },
    {
     "name": "stdout",
     "output_type": "stream",
     "text": [
      " \""
     ]
    },
    {
     "name": "stdout",
     "output_type": "stream",
     "text": [
      "record"
     ]
    },
    {
     "name": "stdout",
     "output_type": "stream",
     "text": [
      "_interval"
     ]
    },
    {
     "name": "stdout",
     "output_type": "stream",
     "text": [
      "_steps"
     ]
    },
    {
     "name": "stdout",
     "output_type": "stream",
     "text": [
      "\":"
     ]
    },
    {
     "name": "stdout",
     "output_type": "stream",
     "text": [
      " "
     ]
    },
    {
     "name": "stdout",
     "output_type": "stream",
     "text": [
      "500"
     ]
    },
    {
     "name": "stdout",
     "output_type": "stream",
     "text": [
      ",\n"
     ]
    },
    {
     "name": "stdout",
     "output_type": "stream",
     "text": [
      "           "
     ]
    },
    {
     "name": "stdout",
     "output_type": "stream",
     "text": [
      " \""
     ]
    },
    {
     "name": "stdout",
     "output_type": "stream",
     "text": [
      "record"
     ]
    },
    {
     "name": "stdout",
     "output_type": "stream",
     "text": [
      "_params"
     ]
    },
    {
     "name": "stdout",
     "output_type": "stream",
     "text": [
      "\":"
     ]
    },
    {
     "name": "stdout",
     "output_type": "stream",
     "text": [
      " [\""
     ]
    },
    {
     "name": "stdout",
     "output_type": "stream",
     "text": [
      "step"
     ]
    },
    {
     "name": "stdout",
     "output_type": "stream",
     "text": [
      "\","
     ]
    },
    {
     "name": "stdout",
     "output_type": "stream",
     "text": [
      " \""
     ]
    },
    {
     "name": "stdout",
     "output_type": "stream",
     "text": [
      "potential"
     ]
    },
    {
     "name": "stdout",
     "output_type": "stream",
     "text": [
      "Energy"
     ]
    },
    {
     "name": "stdout",
     "output_type": "stream",
     "text": [
      "\","
     ]
    },
    {
     "name": "stdout",
     "output_type": "stream",
     "text": [
      " \""
     ]
    },
    {
     "name": "stdout",
     "output_type": "stream",
     "text": [
      "temperature"
     ]
    },
    {
     "name": "stdout",
     "output_type": "stream",
     "text": [
      "\"]\n"
     ]
    },
    {
     "name": "stdout",
     "output_type": "stream",
     "text": [
      "       "
     ]
    },
    {
     "name": "stdout",
     "output_type": "stream",
     "text": [
      " }\n"
     ]
    },
    {
     "name": "stdout",
     "output_type": "stream",
     "text": [
      "   "
     ]
    },
    {
     "name": "stdout",
     "output_type": "stream",
     "text": [
      " }\n"
     ]
    },
    {
     "name": "stdout",
     "output_type": "stream",
     "text": [
      "}\n"
     ]
    },
    {
     "name": "stdout",
     "output_type": "stream",
     "text": [
      "```"
     ]
    },
    {
     "name": "stdout",
     "output_type": "stream",
     "text": [
      "Setting default ewaldErrorTolerance: 0.0005 \n",
      "error found: The forcefield file is not present\n",
      " Correct this and try again. \n",
      " Everthing else is fine\n"
     ]
    },
    {
     "name": "stdout",
     "output_type": "stream",
     "text": [
      "To"
     ]
    },
    {
     "name": "stdout",
     "output_type": "stream",
     "text": [
      " successfully"
     ]
    },
    {
     "name": "stdout",
     "output_type": "stream",
     "text": [
      " simulate"
     ]
    },
    {
     "name": "stdout",
     "output_type": "stream",
     "text": [
      " de"
     ]
    },
    {
     "name": "stdout",
     "output_type": "stream",
     "text": [
      "o"
     ]
    },
    {
     "name": "stdout",
     "output_type": "stream",
     "text": [
      "xygen"
     ]
    },
    {
     "name": "stdout",
     "output_type": "stream",
     "text": [
      "ated"
     ]
    },
    {
     "name": "stdout",
     "output_type": "stream",
     "text": [
      " hem"
     ]
    },
    {
     "name": "stdout",
     "output_type": "stream",
     "text": [
      "oglobin"
     ]
    },
    {
     "name": "stdout",
     "output_type": "stream",
     "text": [
      " ("
     ]
    },
    {
     "name": "stdout",
     "output_type": "stream",
     "text": [
      "P"
     ]
    },
    {
     "name": "stdout",
     "output_type": "stream",
     "text": [
      "DB"
     ]
    },
    {
     "name": "stdout",
     "output_type": "stream",
     "text": [
      " ID"
     ]
    },
    {
     "name": "stdout",
     "output_type": "stream",
     "text": [
      ":"
     ]
    },
    {
     "name": "stdout",
     "output_type": "stream",
     "text": [
      " "
     ]
    },
    {
     "name": "stdout",
     "output_type": "stream",
     "text": [
      "1"
     ]
    },
    {
     "name": "stdout",
     "output_type": "stream",
     "text": [
      "A"
     ]
    },
    {
     "name": "stdout",
     "output_type": "stream",
     "text": [
      "3"
     ]
    },
    {
     "name": "stdout",
     "output_type": "stream",
     "text": [
      "N"
     ]
    },
    {
     "name": "stdout",
     "output_type": "stream",
     "text": [
      ")"
     ]
    },
    {
     "name": "stdout",
     "output_type": "stream",
     "text": [
      " and"
     ]
    },
    {
     "name": "stdout",
     "output_type": "stream",
     "text": [
      " oxygen"
     ]
    },
    {
     "name": "stdout",
     "output_type": "stream",
     "text": [
      "ated"
     ]
    },
    {
     "name": "stdout",
     "output_type": "stream",
     "text": [
      " hem"
     ]
    },
    {
     "name": "stdout",
     "output_type": "stream",
     "text": [
      "oglobin"
     ]
    },
    {
     "name": "stdout",
     "output_type": "stream",
     "text": [
      " ("
     ]
    },
    {
     "name": "stdout",
     "output_type": "stream",
     "text": [
      "P"
     ]
    },
    {
     "name": "stdout",
     "output_type": "stream",
     "text": [
      "DB"
     ]
    },
    {
     "name": "stdout",
     "output_type": "stream",
     "text": [
      " ID"
     ]
    },
    {
     "name": "stdout",
     "output_type": "stream",
     "text": [
      ":"
     ]
    },
    {
     "name": "stdout",
     "output_type": "stream",
     "text": [
      " "
     ]
    },
    {
     "name": "stdout",
     "output_type": "stream",
     "text": [
      "6"
     ]
    },
    {
     "name": "stdout",
     "output_type": "stream",
     "text": [
      "BB"
     ]
    },
    {
     "name": "stdout",
     "output_type": "stream",
     "text": [
      "5"
     ]
    },
    {
     "name": "stdout",
     "output_type": "stream",
     "text": [
      "),"
     ]
    },
    {
     "name": "stdout",
     "output_type": "stream",
     "text": [
      " I"
     ]
    },
    {
     "name": "stdout",
     "output_type": "stream",
     "text": [
      " need"
     ]
    },
    {
     "name": "stdout",
     "output_type": "stream",
     "text": [
      " to"
     ]
    },
    {
     "name": "stdout",
     "output_type": "stream",
     "text": [
      " correct"
     ]
    },
    {
     "name": "stdout",
     "output_type": "stream",
     "text": [
      " the"
     ]
    },
    {
     "name": "stdout",
     "output_type": "stream",
     "text": [
      " previous"
     ]
    },
    {
     "name": "stdout",
     "output_type": "stream",
     "text": [
      " simulation"
     ]
    },
    {
     "name": "stdout",
     "output_type": "stream",
     "text": [
      " setup"
     ]
    },
    {
     "name": "stdout",
     "output_type": "stream",
     "text": [
      " by"
     ]
    },
    {
     "name": "stdout",
     "output_type": "stream",
     "text": [
      " specifying"
     ]
    },
    {
     "name": "stdout",
     "output_type": "stream",
     "text": [
      " a"
     ]
    },
    {
     "name": "stdout",
     "output_type": "stream",
     "text": [
      " valid"
     ]
    },
    {
     "name": "stdout",
     "output_type": "stream",
     "text": [
      " force"
     ]
    },
    {
     "name": "stdout",
     "output_type": "stream",
     "text": [
      "field"
     ]
    },
    {
     "name": "stdout",
     "output_type": "stream",
     "text": [
      " file"
     ]
    },
    {
     "name": "stdout",
     "output_type": "stream",
     "text": [
      "."
     ]
    },
    {
     "name": "stdout",
     "output_type": "stream",
     "text": [
      " I"
     ]
    },
    {
     "name": "stdout",
     "output_type": "stream",
     "text": [
      " will"
     ]
    },
    {
     "name": "stdout",
     "output_type": "stream",
     "text": [
      " adjust"
     ]
    },
    {
     "name": "stdout",
     "output_type": "stream",
     "text": [
      " the"
     ]
    },
    {
     "name": "stdout",
     "output_type": "stream",
     "text": [
      " force"
     ]
    },
    {
     "name": "stdout",
     "output_type": "stream",
     "text": [
      "field"
     ]
    },
    {
     "name": "stdout",
     "output_type": "stream",
     "text": [
      " to"
     ]
    },
    {
     "name": "stdout",
     "output_type": "stream",
     "text": [
      " a"
     ]
    },
    {
     "name": "stdout",
     "output_type": "stream",
     "text": [
      " commonly"
     ]
    },
    {
     "name": "stdout",
     "output_type": "stream",
     "text": [
      " available"
     ]
    },
    {
     "name": "stdout",
     "output_type": "stream",
     "text": [
      " one"
     ]
    },
    {
     "name": "stdout",
     "output_type": "stream",
     "text": [
      " and"
     ]
    },
    {
     "name": "stdout",
     "output_type": "stream",
     "text": [
      " proceed"
     ]
    },
    {
     "name": "stdout",
     "output_type": "stream",
     "text": [
      " with"
     ]
    },
    {
     "name": "stdout",
     "output_type": "stream",
     "text": [
      " the"
     ]
    },
    {
     "name": "stdout",
     "output_type": "stream",
     "text": [
      " simulation"
     ]
    },
    {
     "name": "stdout",
     "output_type": "stream",
     "text": [
      " setup"
     ]
    },
    {
     "name": "stdout",
     "output_type": "stream",
     "text": [
      " for"
     ]
    },
    {
     "name": "stdout",
     "output_type": "stream",
     "text": [
      " both"
     ]
    },
    {
     "name": "stdout",
     "output_type": "stream",
     "text": [
      " P"
     ]
    },
    {
     "name": "stdout",
     "output_type": "stream",
     "text": [
      "DB"
     ]
    },
    {
     "name": "stdout",
     "output_type": "stream",
     "text": [
      " IDs"
     ]
    },
    {
     "name": "stdout",
     "output_type": "stream",
     "text": [
      ".\n",
      "\n"
     ]
    },
    {
     "name": "stdout",
     "output_type": "stream",
     "text": [
      "Action"
     ]
    },
    {
     "name": "stdout",
     "output_type": "stream",
     "text": [
      ":\n"
     ]
    },
    {
     "name": "stdout",
     "output_type": "stream",
     "text": [
      "```"
     ]
    },
    {
     "name": "stdout",
     "output_type": "stream",
     "text": [
      "json"
     ]
    },
    {
     "name": "stdout",
     "output_type": "stream",
     "text": [
      "\n"
     ]
    },
    {
     "name": "stdout",
     "output_type": "stream",
     "text": [
      "{\n"
     ]
    },
    {
     "name": "stdout",
     "output_type": "stream",
     "text": [
      "   "
     ]
    },
    {
     "name": "stdout",
     "output_type": "stream",
     "text": [
      " \""
     ]
    },
    {
     "name": "stdout",
     "output_type": "stream",
     "text": [
      "action"
     ]
    },
    {
     "name": "stdout",
     "output_type": "stream",
     "text": [
      "\":"
     ]
    },
    {
     "name": "stdout",
     "output_type": "stream",
     "text": [
      " \""
     ]
    },
    {
     "name": "stdout",
     "output_type": "stream",
     "text": [
      "SetUp"
     ]
    },
    {
     "name": "stdout",
     "output_type": "stream",
     "text": [
      "and"
     ]
    },
    {
     "name": "stdout",
     "output_type": "stream",
     "text": [
      "Run"
     ]
    },
    {
     "name": "stdout",
     "output_type": "stream",
     "text": [
      "Function"
     ]
    },
    {
     "name": "stdout",
     "output_type": "stream",
     "text": [
      "\",\n"
     ]
    },
    {
     "name": "stdout",
     "output_type": "stream",
     "text": [
      "   "
     ]
    },
    {
     "name": "stdout",
     "output_type": "stream",
     "text": [
      " \""
     ]
    },
    {
     "name": "stdout",
     "output_type": "stream",
     "text": [
      "action"
     ]
    },
    {
     "name": "stdout",
     "output_type": "stream",
     "text": [
      "_input"
     ]
    },
    {
     "name": "stdout",
     "output_type": "stream",
     "text": [
      "\":"
     ]
    },
    {
     "name": "stdout",
     "output_type": "stream",
     "text": [
      " {\n"
     ]
    },
    {
     "name": "stdout",
     "output_type": "stream",
     "text": [
      "       "
     ]
    },
    {
     "name": "stdout",
     "output_type": "stream",
     "text": [
      " \""
     ]
    },
    {
     "name": "stdout",
     "output_type": "stream",
     "text": [
      "pdb"
     ]
    },
    {
     "name": "stdout",
     "output_type": "stream",
     "text": [
      "_id"
     ]
    },
    {
     "name": "stdout",
     "output_type": "stream",
     "text": [
      "\":"
     ]
    },
    {
     "name": "stdout",
     "output_type": "stream",
     "text": [
      " \""
     ]
    },
    {
     "name": "stdout",
     "output_type": "stream",
     "text": [
      "1"
     ]
    },
    {
     "name": "stdout",
     "output_type": "stream",
     "text": [
      "A"
     ]
    },
    {
     "name": "stdout",
     "output_type": "stream",
     "text": [
      "3"
     ]
    },
    {
     "name": "stdout",
     "output_type": "stream",
     "text": [
      "N"
     ]
    },
    {
     "name": "stdout",
     "output_type": "stream",
     "text": [
      "_"
     ]
    },
    {
     "name": "stdout",
     "output_type": "stream",
     "text": [
      "210"
     ]
    },
    {
     "name": "stdout",
     "output_type": "stream",
     "text": [
      "823"
     ]
    },
    {
     "name": "stdout",
     "output_type": "stream",
     "text": [
      "\",\n"
     ]
    },
    {
     "name": "stdout",
     "output_type": "stream",
     "text": [
      "       "
     ]
    },
    {
     "name": "stdout",
     "output_type": "stream",
     "text": [
      " \""
     ]
    },
    {
     "name": "stdout",
     "output_type": "stream",
     "text": [
      "force"
     ]
    },
    {
     "name": "stdout",
     "output_type": "stream",
     "text": [
      "field"
     ]
    },
    {
     "name": "stdout",
     "output_type": "stream",
     "text": [
      "_files"
     ]
    },
    {
     "name": "stdout",
     "output_type": "stream",
     "text": [
      "\":"
     ]
    },
    {
     "name": "stdout",
     "output_type": "stream",
     "text": [
      " [\""
     ]
    },
    {
     "name": "stdout",
     "output_type": "stream",
     "text": [
      "amber"
     ]
    },
    {
     "name": "stdout",
     "output_type": "stream",
     "text": [
      "14"
     ]
    },
    {
     "name": "stdout",
     "output_type": "stream",
     "text": [
      "sb"
     ]
    },
    {
     "name": "stdout",
     "output_type": "stream",
     "text": [
      "\"],\n"
     ]
    },
    {
     "name": "stdout",
     "output_type": "stream",
     "text": [
      "       "
     ]
    },
    {
     "name": "stdout",
     "output_type": "stream",
     "text": [
      " \""
     ]
    },
    {
     "name": "stdout",
     "output_type": "stream",
     "text": [
      "system"
     ]
    },
    {
     "name": "stdout",
     "output_type": "stream",
     "text": [
      "_params"
     ]
    },
    {
     "name": "stdout",
     "output_type": "stream",
     "text": [
      "\":"
     ]
    },
    {
     "name": "stdout",
     "output_type": "stream",
     "text": [
      " {\n"
     ]
    },
    {
     "name": "stdout",
     "output_type": "stream",
     "text": [
      "           "
     ]
    },
    {
     "name": "stdout",
     "output_type": "stream",
     "text": [
      " \""
     ]
    },
    {
     "name": "stdout",
     "output_type": "stream",
     "text": [
      "non"
     ]
    },
    {
     "name": "stdout",
     "output_type": "stream",
     "text": [
      "bond"
     ]
    },
    {
     "name": "stdout",
     "output_type": "stream",
     "text": [
      "ed"
     ]
    },
    {
     "name": "stdout",
     "output_type": "stream",
     "text": [
      "Method"
     ]
    },
    {
     "name": "stdout",
     "output_type": "stream",
     "text": [
      "\":"
     ]
    },
    {
     "name": "stdout",
     "output_type": "stream",
     "text": [
      " \""
     ]
    },
    {
     "name": "stdout",
     "output_type": "stream",
     "text": [
      "P"
     ]
    },
    {
     "name": "stdout",
     "output_type": "stream",
     "text": [
      "ME"
     ]
    },
    {
     "name": "stdout",
     "output_type": "stream",
     "text": [
      "\",\n"
     ]
    },
    {
     "name": "stdout",
     "output_type": "stream",
     "text": [
      "           "
     ]
    },
    {
     "name": "stdout",
     "output_type": "stream",
     "text": [
      " \""
     ]
    },
    {
     "name": "stdout",
     "output_type": "stream",
     "text": [
      "non"
     ]
    },
    {
     "name": "stdout",
     "output_type": "stream",
     "text": [
      "bond"
     ]
    },
    {
     "name": "stdout",
     "output_type": "stream",
     "text": [
      "ed"
     ]
    },
    {
     "name": "stdout",
     "output_type": "stream",
     "text": [
      "C"
     ]
    },
    {
     "name": "stdout",
     "output_type": "stream",
     "text": [
      "utoff"
     ]
    },
    {
     "name": "stdout",
     "output_type": "stream",
     "text": [
      "\":"
     ]
    },
    {
     "name": "stdout",
     "output_type": "stream",
     "text": [
      " \""
     ]
    },
    {
     "name": "stdout",
     "output_type": "stream",
     "text": [
      "1"
     ]
    },
    {
     "name": "stdout",
     "output_type": "stream",
     "text": [
      "."
     ]
    },
    {
     "name": "stdout",
     "output_type": "stream",
     "text": [
      "0"
     ]
    },
    {
     "name": "stdout",
     "output_type": "stream",
     "text": [
      " *"
     ]
    },
    {
     "name": "stdout",
     "output_type": "stream",
     "text": [
      " nan"
     ]
    },
    {
     "name": "stdout",
     "output_type": "stream",
     "text": [
      "ometers"
     ]
    },
    {
     "name": "stdout",
     "output_type": "stream",
     "text": [
      "\",\n"
     ]
    },
    {
     "name": "stdout",
     "output_type": "stream",
     "text": [
      "           "
     ]
    },
    {
     "name": "stdout",
     "output_type": "stream",
     "text": [
      " \""
     ]
    },
    {
     "name": "stdout",
     "output_type": "stream",
     "text": [
      "constraints"
     ]
    },
    {
     "name": "stdout",
     "output_type": "stream",
     "text": [
      "\":"
     ]
    },
    {
     "name": "stdout",
     "output_type": "stream",
     "text": [
      " \""
     ]
    },
    {
     "name": "stdout",
     "output_type": "stream",
     "text": [
      "HB"
     ]
    },
    {
     "name": "stdout",
     "output_type": "stream",
     "text": [
      "onds"
     ]
    },
    {
     "name": "stdout",
     "output_type": "stream",
     "text": [
      "\",\n"
     ]
    },
    {
     "name": "stdout",
     "output_type": "stream",
     "text": [
      "           "
     ]
    },
    {
     "name": "stdout",
     "output_type": "stream",
     "text": [
      " \""
     ]
    },
    {
     "name": "stdout",
     "output_type": "stream",
     "text": [
      "rig"
     ]
    },
    {
     "name": "stdout",
     "output_type": "stream",
     "text": [
      "id"
     ]
    },
    {
     "name": "stdout",
     "output_type": "stream",
     "text": [
      "Water"
     ]
    },
    {
     "name": "stdout",
     "output_type": "stream",
     "text": [
      "\":"
     ]
    },
    {
     "name": "stdout",
     "output_type": "stream",
     "text": [
      " true"
     ]
    },
    {
     "name": "stdout",
     "output_type": "stream",
     "text": [
      ",\n"
     ]
    },
    {
     "name": "stdout",
     "output_type": "stream",
     "text": [
      "           "
     ]
    },
    {
     "name": "stdout",
     "output_type": "stream",
     "text": [
      " \""
     ]
    },
    {
     "name": "stdout",
     "output_type": "stream",
     "text": [
      "s"
     ]
    },
    {
     "name": "stdout",
     "output_type": "stream",
     "text": [
      "olv"
     ]
    },
    {
     "name": "stdout",
     "output_type": "stream",
     "text": [
      "ate"
     ]
    },
    {
     "name": "stdout",
     "output_type": "stream",
     "text": [
      "\":"
     ]
    },
    {
     "name": "stdout",
     "output_type": "stream",
     "text": [
      " true"
     ]
    },
    {
     "name": "stdout",
     "output_type": "stream",
     "text": [
      ",\n"
     ]
    },
    {
     "name": "stdout",
     "output_type": "stream",
     "text": [
      "           "
     ]
    },
    {
     "name": "stdout",
     "output_type": "stream",
     "text": [
      " \""
     ]
    },
    {
     "name": "stdout",
     "output_type": "stream",
     "text": [
      "constraint"
     ]
    },
    {
     "name": "stdout",
     "output_type": "stream",
     "text": [
      "T"
     ]
    },
    {
     "name": "stdout",
     "output_type": "stream",
     "text": [
      "olerance"
     ]
    },
    {
     "name": "stdout",
     "output_type": "stream",
     "text": [
      "\":"
     ]
    },
    {
     "name": "stdout",
     "output_type": "stream",
     "text": [
      " \""
     ]
    },
    {
     "name": "stdout",
     "output_type": "stream",
     "text": [
      "0"
     ]
    },
    {
     "name": "stdout",
     "output_type": "stream",
     "text": [
      "."
     ]
    },
    {
     "name": "stdout",
     "output_type": "stream",
     "text": [
      "000"
     ]
    },
    {
     "name": "stdout",
     "output_type": "stream",
     "text": [
      "01"
     ]
    },
    {
     "name": "stdout",
     "output_type": "stream",
     "text": [
      "\"\n"
     ]
    },
    {
     "name": "stdout",
     "output_type": "stream",
     "text": [
      "       "
     ]
    },
    {
     "name": "stdout",
     "output_type": "stream",
     "text": [
      " },\n"
     ]
    },
    {
     "name": "stdout",
     "output_type": "stream",
     "text": [
      "       "
     ]
    },
    {
     "name": "stdout",
     "output_type": "stream",
     "text": [
      " \""
     ]
    },
    {
     "name": "stdout",
     "output_type": "stream",
     "text": [
      "integr"
     ]
    },
    {
     "name": "stdout",
     "output_type": "stream",
     "text": [
      "ator"
     ]
    },
    {
     "name": "stdout",
     "output_type": "stream",
     "text": [
      "_params"
     ]
    },
    {
     "name": "stdout",
     "output_type": "stream",
     "text": [
      "\":"
     ]
    },
    {
     "name": "stdout",
     "output_type": "stream",
     "text": [
      " {\n"
     ]
    },
    {
     "name": "stdout",
     "output_type": "stream",
     "text": [
      "           "
     ]
    },
    {
     "name": "stdout",
     "output_type": "stream",
     "text": [
      " \""
     ]
    },
    {
     "name": "stdout",
     "output_type": "stream",
     "text": [
      "integr"
     ]
    },
    {
     "name": "stdout",
     "output_type": "stream",
     "text": [
      "ator"
     ]
    },
    {
     "name": "stdout",
     "output_type": "stream",
     "text": [
      "_type"
     ]
    },
    {
     "name": "stdout",
     "output_type": "stream",
     "text": [
      "\":"
     ]
    },
    {
     "name": "stdout",
     "output_type": "stream",
     "text": [
      " \""
     ]
    },
    {
     "name": "stdout",
     "output_type": "stream",
     "text": [
      "L"
     ]
    },
    {
     "name": "stdout",
     "output_type": "stream",
     "text": [
      "ange"
     ]
    },
    {
     "name": "stdout",
     "output_type": "stream",
     "text": [
      "vin"
     ]
    },
    {
     "name": "stdout",
     "output_type": "stream",
     "text": [
      "Middle"
     ]
    },
    {
     "name": "stdout",
     "output_type": "stream",
     "text": [
      "\",\n"
     ]
    },
    {
     "name": "stdout",
     "output_type": "stream",
     "text": [
      "           "
     ]
    },
    {
     "name": "stdout",
     "output_type": "stream",
     "text": [
      " \""
     ]
    },
    {
     "name": "stdout",
     "output_type": "stream",
     "text": [
      "Temperature"
     ]
    },
    {
     "name": "stdout",
     "output_type": "stream",
     "text": [
      "\":"
     ]
    },
    {
     "name": "stdout",
     "output_type": "stream",
     "text": [
      " \""
     ]
    },
    {
     "name": "stdout",
     "output_type": "stream",
     "text": [
      "300"
     ]
    },
    {
     "name": "stdout",
     "output_type": "stream",
     "text": [
      " *"
     ]
    },
    {
     "name": "stdout",
     "output_type": "stream",
     "text": [
      " kel"
     ]
    },
    {
     "name": "stdout",
     "output_type": "stream",
     "text": [
      "vin"
     ]
    },
    {
     "name": "stdout",
     "output_type": "stream",
     "text": [
      "\",\n"
     ]
    },
    {
     "name": "stdout",
     "output_type": "stream",
     "text": [
      "           "
     ]
    },
    {
     "name": "stdout",
     "output_type": "stream",
     "text": [
      " \""
     ]
    },
    {
     "name": "stdout",
     "output_type": "stream",
     "text": [
      "Fr"
     ]
    },
    {
     "name": "stdout",
     "output_type": "stream",
     "text": [
      "iction"
     ]
    },
    {
     "name": "stdout",
     "output_type": "stream",
     "text": [
      "\":"
     ]
    },
    {
     "name": "stdout",
     "output_type": "stream",
     "text": [
      " \""
     ]
    },
    {
     "name": "stdout",
     "output_type": "stream",
     "text": [
      "1"
     ]
    },
    {
     "name": "stdout",
     "output_type": "stream",
     "text": [
      "."
     ]
    },
    {
     "name": "stdout",
     "output_type": "stream",
     "text": [
      "0"
     ]
    },
    {
     "name": "stdout",
     "output_type": "stream",
     "text": [
      " /"
     ]
    },
    {
     "name": "stdout",
     "output_type": "stream",
     "text": [
      " pic"
     ]
    },
    {
     "name": "stdout",
     "output_type": "stream",
     "text": [
      "oseconds"
     ]
    },
    {
     "name": "stdout",
     "output_type": "stream",
     "text": [
      "\",\n"
     ]
    },
    {
     "name": "stdout",
     "output_type": "stream",
     "text": [
      "           "
     ]
    },
    {
     "name": "stdout",
     "output_type": "stream",
     "text": [
      " \""
     ]
    },
    {
     "name": "stdout",
     "output_type": "stream",
     "text": [
      "T"
     ]
    },
    {
     "name": "stdout",
     "output_type": "stream",
     "text": [
      "imestep"
     ]
    },
    {
     "name": "stdout",
     "output_type": "stream",
     "text": [
      "\":"
     ]
    },
    {
     "name": "stdout",
     "output_type": "stream",
     "text": [
      " \""
     ]
    },
    {
     "name": "stdout",
     "output_type": "stream",
     "text": [
      "0"
     ]
    },
    {
     "name": "stdout",
     "output_type": "stream",
     "text": [
      "."
     ]
    },
    {
     "name": "stdout",
     "output_type": "stream",
     "text": [
      "002"
     ]
    },
    {
     "name": "stdout",
     "output_type": "stream",
     "text": [
      " *"
     ]
    },
    {
     "name": "stdout",
     "output_type": "stream",
     "text": [
      " pic"
     ]
    },
    {
     "name": "stdout",
     "output_type": "stream",
     "text": [
      "oseconds"
     ]
    },
    {
     "name": "stdout",
     "output_type": "stream",
     "text": [
      "\"\n"
     ]
    },
    {
     "name": "stdout",
     "output_type": "stream",
     "text": [
      "       "
     ]
    },
    {
     "name": "stdout",
     "output_type": "stream",
     "text": [
      " },\n"
     ]
    },
    {
     "name": "stdout",
     "output_type": "stream",
     "text": [
      "       "
     ]
    },
    {
     "name": "stdout",
     "output_type": "stream",
     "text": [
      " \""
     ]
    },
    {
     "name": "stdout",
     "output_type": "stream",
     "text": [
      "simulation"
     ]
    },
    {
     "name": "stdout",
     "output_type": "stream",
     "text": [
      "_params"
     ]
    },
    {
     "name": "stdout",
     "output_type": "stream",
     "text": [
      "\":"
     ]
    },
    {
     "name": "stdout",
     "output_type": "stream",
     "text": [
      " {\n"
     ]
    },
    {
     "name": "stdout",
     "output_type": "stream",
     "text": [
      "           "
     ]
    },
    {
     "name": "stdout",
     "output_type": "stream",
     "text": [
      " \""
     ]
    },
    {
     "name": "stdout",
     "output_type": "stream",
     "text": [
      "En"
     ]
    },
    {
     "name": "stdout",
     "output_type": "stream",
     "text": [
      "semble"
     ]
    },
    {
     "name": "stdout",
     "output_type": "stream",
     "text": [
      "\":"
     ]
    },
    {
     "name": "stdout",
     "output_type": "stream",
     "text": [
      " \""
     ]
    },
    {
     "name": "stdout",
     "output_type": "stream",
     "text": [
      "N"
     ]
    },
    {
     "name": "stdout",
     "output_type": "stream",
     "text": [
      "VT"
     ]
    },
    {
     "name": "stdout",
     "output_type": "stream",
     "text": [
      "\",\n"
     ]
    },
    {
     "name": "stdout",
     "output_type": "stream",
     "text": [
      "           "
     ]
    },
    {
     "name": "stdout",
     "output_type": "stream",
     "text": [
      " \""
     ]
    },
    {
     "name": "stdout",
     "output_type": "stream",
     "text": [
      "Number"
     ]
    },
    {
     "name": "stdout",
     "output_type": "stream",
     "text": [
      " of"
     ]
    },
    {
     "name": "stdout",
     "output_type": "stream",
     "text": [
      " Steps"
     ]
    },
    {
     "name": "stdout",
     "output_type": "stream",
     "text": [
      "\":"
     ]
    },
    {
     "name": "stdout",
     "output_type": "stream",
     "text": [
      " "
     ]
    },
    {
     "name": "stdout",
     "output_type": "stream",
     "text": [
      "500"
     ]
    },
    {
     "name": "stdout",
     "output_type": "stream",
     "text": [
      "00"
     ]
    },
    {
     "name": "stdout",
     "output_type": "stream",
     "text": [
      ",\n"
     ]
    },
    {
     "name": "stdout",
     "output_type": "stream",
     "text": [
      "           "
     ]
    },
    {
     "name": "stdout",
     "output_type": "stream",
     "text": [
      " \""
     ]
    },
    {
     "name": "stdout",
     "output_type": "stream",
     "text": [
      "record"
     ]
    },
    {
     "name": "stdout",
     "output_type": "stream",
     "text": [
      "_interval"
     ]
    },
    {
     "name": "stdout",
     "output_type": "stream",
     "text": [
      "_steps"
     ]
    },
    {
     "name": "stdout",
     "output_type": "stream",
     "text": [
      "\":"
     ]
    },
    {
     "name": "stdout",
     "output_type": "stream",
     "text": [
      " "
     ]
    },
    {
     "name": "stdout",
     "output_type": "stream",
     "text": [
      "500"
     ]
    },
    {
     "name": "stdout",
     "output_type": "stream",
     "text": [
      ",\n"
     ]
    },
    {
     "name": "stdout",
     "output_type": "stream",
     "text": [
      "           "
     ]
    },
    {
     "name": "stdout",
     "output_type": "stream",
     "text": [
      " \""
     ]
    },
    {
     "name": "stdout",
     "output_type": "stream",
     "text": [
      "record"
     ]
    },
    {
     "name": "stdout",
     "output_type": "stream",
     "text": [
      "_params"
     ]
    },
    {
     "name": "stdout",
     "output_type": "stream",
     "text": [
      "\":"
     ]
    },
    {
     "name": "stdout",
     "output_type": "stream",
     "text": [
      " [\""
     ]
    },
    {
     "name": "stdout",
     "output_type": "stream",
     "text": [
      "step"
     ]
    },
    {
     "name": "stdout",
     "output_type": "stream",
     "text": [
      "\","
     ]
    },
    {
     "name": "stdout",
     "output_type": "stream",
     "text": [
      " \""
     ]
    },
    {
     "name": "stdout",
     "output_type": "stream",
     "text": [
      "potential"
     ]
    },
    {
     "name": "stdout",
     "output_type": "stream",
     "text": [
      "Energy"
     ]
    },
    {
     "name": "stdout",
     "output_type": "stream",
     "text": [
      "\","
     ]
    },
    {
     "name": "stdout",
     "output_type": "stream",
     "text": [
      " \""
     ]
    },
    {
     "name": "stdout",
     "output_type": "stream",
     "text": [
      "temperature"
     ]
    },
    {
     "name": "stdout",
     "output_type": "stream",
     "text": [
      "\"]\n"
     ]
    },
    {
     "name": "stdout",
     "output_type": "stream",
     "text": [
      "       "
     ]
    },
    {
     "name": "stdout",
     "output_type": "stream",
     "text": [
      " }\n"
     ]
    },
    {
     "name": "stdout",
     "output_type": "stream",
     "text": [
      "   "
     ]
    },
    {
     "name": "stdout",
     "output_type": "stream",
     "text": [
      " }\n"
     ]
    },
    {
     "name": "stdout",
     "output_type": "stream",
     "text": [
      "}\n"
     ]
    },
    {
     "name": "stdout",
     "output_type": "stream",
     "text": [
      "```"
     ]
    },
    {
     "name": "stdout",
     "output_type": "stream",
     "text": [
      "Setting default ewaldErrorTolerance: 0.0005 \n",
      "error found: The forcefield file is not present\n",
      " Correct this and try again. \n",
      " Everthing else is fine\n"
     ]
    },
    {
     "name": "stdout",
     "output_type": "stream",
     "text": [
      "To"
     ]
    },
    {
     "name": "stdout",
     "output_type": "stream",
     "text": [
      " successfully"
     ]
    },
    {
     "name": "stdout",
     "output_type": "stream",
     "text": [
      " simulate"
     ]
    },
    {
     "name": "stdout",
     "output_type": "stream",
     "text": [
      " de"
     ]
    },
    {
     "name": "stdout",
     "output_type": "stream",
     "text": [
      "o"
     ]
    },
    {
     "name": "stdout",
     "output_type": "stream",
     "text": [
      "xygen"
     ]
    },
    {
     "name": "stdout",
     "output_type": "stream",
     "text": [
      "ated"
     ]
    },
    {
     "name": "stdout",
     "output_type": "stream",
     "text": [
      " hem"
     ]
    },
    {
     "name": "stdout",
     "output_type": "stream",
     "text": [
      "oglobin"
     ]
    },
    {
     "name": "stdout",
     "output_type": "stream",
     "text": [
      " ("
     ]
    },
    {
     "name": "stdout",
     "output_type": "stream",
     "text": [
      "P"
     ]
    },
    {
     "name": "stdout",
     "output_type": "stream",
     "text": [
      "DB"
     ]
    },
    {
     "name": "stdout",
     "output_type": "stream",
     "text": [
      " ID"
     ]
    },
    {
     "name": "stdout",
     "output_type": "stream",
     "text": [
      ":"
     ]
    },
    {
     "name": "stdout",
     "output_type": "stream",
     "text": [
      " "
     ]
    },
    {
     "name": "stdout",
     "output_type": "stream",
     "text": [
      "1"
     ]
    },
    {
     "name": "stdout",
     "output_type": "stream",
     "text": [
      "A"
     ]
    },
    {
     "name": "stdout",
     "output_type": "stream",
     "text": [
      "3"
     ]
    },
    {
     "name": "stdout",
     "output_type": "stream",
     "text": [
      "N"
     ]
    },
    {
     "name": "stdout",
     "output_type": "stream",
     "text": [
      ")"
     ]
    },
    {
     "name": "stdout",
     "output_type": "stream",
     "text": [
      " and"
     ]
    },
    {
     "name": "stdout",
     "output_type": "stream",
     "text": [
      " oxygen"
     ]
    },
    {
     "name": "stdout",
     "output_type": "stream",
     "text": [
      "ated"
     ]
    },
    {
     "name": "stdout",
     "output_type": "stream",
     "text": [
      " hem"
     ]
    },
    {
     "name": "stdout",
     "output_type": "stream",
     "text": [
      "oglobin"
     ]
    },
    {
     "name": "stdout",
     "output_type": "stream",
     "text": [
      " ("
     ]
    },
    {
     "name": "stdout",
     "output_type": "stream",
     "text": [
      "P"
     ]
    },
    {
     "name": "stdout",
     "output_type": "stream",
     "text": [
      "DB"
     ]
    },
    {
     "name": "stdout",
     "output_type": "stream",
     "text": [
      " ID"
     ]
    },
    {
     "name": "stdout",
     "output_type": "stream",
     "text": [
      ":"
     ]
    },
    {
     "name": "stdout",
     "output_type": "stream",
     "text": [
      " "
     ]
    },
    {
     "name": "stdout",
     "output_type": "stream",
     "text": [
      "6"
     ]
    },
    {
     "name": "stdout",
     "output_type": "stream",
     "text": [
      "BB"
     ]
    },
    {
     "name": "stdout",
     "output_type": "stream",
     "text": [
      "5"
     ]
    },
    {
     "name": "stdout",
     "output_type": "stream",
     "text": [
      "),"
     ]
    },
    {
     "name": "stdout",
     "output_type": "stream",
     "text": [
      " I"
     ]
    },
    {
     "name": "stdout",
     "output_type": "stream",
     "text": [
      " need"
     ]
    },
    {
     "name": "stdout",
     "output_type": "stream",
     "text": [
      " to"
     ]
    },
    {
     "name": "stdout",
     "output_type": "stream",
     "text": [
      " correct"
     ]
    },
    {
     "name": "stdout",
     "output_type": "stream",
     "text": [
      " the"
     ]
    },
    {
     "name": "stdout",
     "output_type": "stream",
     "text": [
      " previous"
     ]
    },
    {
     "name": "stdout",
     "output_type": "stream",
     "text": [
      " simulation"
     ]
    },
    {
     "name": "stdout",
     "output_type": "stream",
     "text": [
      " setup"
     ]
    },
    {
     "name": "stdout",
     "output_type": "stream",
     "text": [
      " by"
     ]
    },
    {
     "name": "stdout",
     "output_type": "stream",
     "text": [
      " specifying"
     ]
    },
    {
     "name": "stdout",
     "output_type": "stream",
     "text": [
      " a"
     ]
    },
    {
     "name": "stdout",
     "output_type": "stream",
     "text": [
      " valid"
     ]
    },
    {
     "name": "stdout",
     "output_type": "stream",
     "text": [
      " force"
     ]
    },
    {
     "name": "stdout",
     "output_type": "stream",
     "text": [
      "field"
     ]
    },
    {
     "name": "stdout",
     "output_type": "stream",
     "text": [
      " file"
     ]
    },
    {
     "name": "stdout",
     "output_type": "stream",
     "text": [
      "."
     ]
    },
    {
     "name": "stdout",
     "output_type": "stream",
     "text": [
      " I"
     ]
    },
    {
     "name": "stdout",
     "output_type": "stream",
     "text": [
      " will"
     ]
    },
    {
     "name": "stdout",
     "output_type": "stream",
     "text": [
      " adjust"
     ]
    },
    {
     "name": "stdout",
     "output_type": "stream",
     "text": [
      " the"
     ]
    },
    {
     "name": "stdout",
     "output_type": "stream",
     "text": [
      " force"
     ]
    },
    {
     "name": "stdout",
     "output_type": "stream",
     "text": [
      "field"
     ]
    },
    {
     "name": "stdout",
     "output_type": "stream",
     "text": [
      " to"
     ]
    },
    {
     "name": "stdout",
     "output_type": "stream",
     "text": [
      " a"
     ]
    },
    {
     "name": "stdout",
     "output_type": "stream",
     "text": [
      " commonly"
     ]
    },
    {
     "name": "stdout",
     "output_type": "stream",
     "text": [
      " available"
     ]
    },
    {
     "name": "stdout",
     "output_type": "stream",
     "text": [
      " one"
     ]
    },
    {
     "name": "stdout",
     "output_type": "stream",
     "text": [
      " and"
     ]
    },
    {
     "name": "stdout",
     "output_type": "stream",
     "text": [
      " proceed"
     ]
    },
    {
     "name": "stdout",
     "output_type": "stream",
     "text": [
      " with"
     ]
    },
    {
     "name": "stdout",
     "output_type": "stream",
     "text": [
      " the"
     ]
    },
    {
     "name": "stdout",
     "output_type": "stream",
     "text": [
      " simulation"
     ]
    },
    {
     "name": "stdout",
     "output_type": "stream",
     "text": [
      " setup"
     ]
    },
    {
     "name": "stdout",
     "output_type": "stream",
     "text": [
      " for"
     ]
    },
    {
     "name": "stdout",
     "output_type": "stream",
     "text": [
      " both"
     ]
    },
    {
     "name": "stdout",
     "output_type": "stream",
     "text": [
      " P"
     ]
    },
    {
     "name": "stdout",
     "output_type": "stream",
     "text": [
      "DB"
     ]
    },
    {
     "name": "stdout",
     "output_type": "stream",
     "text": [
      " IDs"
     ]
    },
    {
     "name": "stdout",
     "output_type": "stream",
     "text": [
      ".\n",
      "\n"
     ]
    },
    {
     "name": "stdout",
     "output_type": "stream",
     "text": [
      "Action"
     ]
    },
    {
     "name": "stdout",
     "output_type": "stream",
     "text": [
      ":\n"
     ]
    },
    {
     "name": "stdout",
     "output_type": "stream",
     "text": [
      "```"
     ]
    },
    {
     "name": "stdout",
     "output_type": "stream",
     "text": [
      "json"
     ]
    },
    {
     "name": "stdout",
     "output_type": "stream",
     "text": [
      "\n"
     ]
    },
    {
     "name": "stdout",
     "output_type": "stream",
     "text": [
      "{\n"
     ]
    },
    {
     "name": "stdout",
     "output_type": "stream",
     "text": [
      "   "
     ]
    },
    {
     "name": "stdout",
     "output_type": "stream",
     "text": [
      " \""
     ]
    },
    {
     "name": "stdout",
     "output_type": "stream",
     "text": [
      "action"
     ]
    },
    {
     "name": "stdout",
     "output_type": "stream",
     "text": [
      "\":"
     ]
    },
    {
     "name": "stdout",
     "output_type": "stream",
     "text": [
      " \""
     ]
    },
    {
     "name": "stdout",
     "output_type": "stream",
     "text": [
      "SetUp"
     ]
    },
    {
     "name": "stdout",
     "output_type": "stream",
     "text": [
      "and"
     ]
    },
    {
     "name": "stdout",
     "output_type": "stream",
     "text": [
      "Run"
     ]
    },
    {
     "name": "stdout",
     "output_type": "stream",
     "text": [
      "Function"
     ]
    },
    {
     "name": "stdout",
     "output_type": "stream",
     "text": [
      "\",\n"
     ]
    },
    {
     "name": "stdout",
     "output_type": "stream",
     "text": [
      "   "
     ]
    },
    {
     "name": "stdout",
     "output_type": "stream",
     "text": [
      " \""
     ]
    },
    {
     "name": "stdout",
     "output_type": "stream",
     "text": [
      "action"
     ]
    },
    {
     "name": "stdout",
     "output_type": "stream",
     "text": [
      "_input"
     ]
    },
    {
     "name": "stdout",
     "output_type": "stream",
     "text": [
      "\":"
     ]
    },
    {
     "name": "stdout",
     "output_type": "stream",
     "text": [
      " {\n"
     ]
    },
    {
     "name": "stdout",
     "output_type": "stream",
     "text": [
      "       "
     ]
    },
    {
     "name": "stdout",
     "output_type": "stream",
     "text": [
      " \""
     ]
    },
    {
     "name": "stdout",
     "output_type": "stream",
     "text": [
      "pdb"
     ]
    },
    {
     "name": "stdout",
     "output_type": "stream",
     "text": [
      "_id"
     ]
    },
    {
     "name": "stdout",
     "output_type": "stream",
     "text": [
      "\":"
     ]
    },
    {
     "name": "stdout",
     "output_type": "stream",
     "text": [
      " \""
     ]
    },
    {
     "name": "stdout",
     "output_type": "stream",
     "text": [
      "1"
     ]
    },
    {
     "name": "stdout",
     "output_type": "stream",
     "text": [
      "A"
     ]
    },
    {
     "name": "stdout",
     "output_type": "stream",
     "text": [
      "3"
     ]
    },
    {
     "name": "stdout",
     "output_type": "stream",
     "text": [
      "N"
     ]
    },
    {
     "name": "stdout",
     "output_type": "stream",
     "text": [
      "_"
     ]
    },
    {
     "name": "stdout",
     "output_type": "stream",
     "text": [
      "210"
     ]
    },
    {
     "name": "stdout",
     "output_type": "stream",
     "text": [
      "823"
     ]
    },
    {
     "name": "stdout",
     "output_type": "stream",
     "text": [
      "\",\n"
     ]
    },
    {
     "name": "stdout",
     "output_type": "stream",
     "text": [
      "       "
     ]
    },
    {
     "name": "stdout",
     "output_type": "stream",
     "text": [
      " \""
     ]
    },
    {
     "name": "stdout",
     "output_type": "stream",
     "text": [
      "force"
     ]
    },
    {
     "name": "stdout",
     "output_type": "stream",
     "text": [
      "field"
     ]
    },
    {
     "name": "stdout",
     "output_type": "stream",
     "text": [
      "_files"
     ]
    },
    {
     "name": "stdout",
     "output_type": "stream",
     "text": [
      "\":"
     ]
    },
    {
     "name": "stdout",
     "output_type": "stream",
     "text": [
      " [\""
     ]
    },
    {
     "name": "stdout",
     "output_type": "stream",
     "text": [
      "amber"
     ]
    },
    {
     "name": "stdout",
     "output_type": "stream",
     "text": [
      "14"
     ]
    },
    {
     "name": "stdout",
     "output_type": "stream",
     "text": [
      "sb"
     ]
    },
    {
     "name": "stdout",
     "output_type": "stream",
     "text": [
      "\"],\n"
     ]
    },
    {
     "name": "stdout",
     "output_type": "stream",
     "text": [
      "       "
     ]
    },
    {
     "name": "stdout",
     "output_type": "stream",
     "text": [
      " \""
     ]
    },
    {
     "name": "stdout",
     "output_type": "stream",
     "text": [
      "system"
     ]
    },
    {
     "name": "stdout",
     "output_type": "stream",
     "text": [
      "_params"
     ]
    },
    {
     "name": "stdout",
     "output_type": "stream",
     "text": [
      "\":"
     ]
    },
    {
     "name": "stdout",
     "output_type": "stream",
     "text": [
      " {\n"
     ]
    },
    {
     "name": "stdout",
     "output_type": "stream",
     "text": [
      "           "
     ]
    },
    {
     "name": "stdout",
     "output_type": "stream",
     "text": [
      " \""
     ]
    },
    {
     "name": "stdout",
     "output_type": "stream",
     "text": [
      "non"
     ]
    },
    {
     "name": "stdout",
     "output_type": "stream",
     "text": [
      "bond"
     ]
    },
    {
     "name": "stdout",
     "output_type": "stream",
     "text": [
      "ed"
     ]
    },
    {
     "name": "stdout",
     "output_type": "stream",
     "text": [
      "Method"
     ]
    },
    {
     "name": "stdout",
     "output_type": "stream",
     "text": [
      "\":"
     ]
    },
    {
     "name": "stdout",
     "output_type": "stream",
     "text": [
      " \""
     ]
    },
    {
     "name": "stdout",
     "output_type": "stream",
     "text": [
      "P"
     ]
    },
    {
     "name": "stdout",
     "output_type": "stream",
     "text": [
      "ME"
     ]
    },
    {
     "name": "stdout",
     "output_type": "stream",
     "text": [
      "\",\n"
     ]
    },
    {
     "name": "stdout",
     "output_type": "stream",
     "text": [
      "           "
     ]
    },
    {
     "name": "stdout",
     "output_type": "stream",
     "text": [
      " \""
     ]
    },
    {
     "name": "stdout",
     "output_type": "stream",
     "text": [
      "non"
     ]
    },
    {
     "name": "stdout",
     "output_type": "stream",
     "text": [
      "bond"
     ]
    },
    {
     "name": "stdout",
     "output_type": "stream",
     "text": [
      "ed"
     ]
    },
    {
     "name": "stdout",
     "output_type": "stream",
     "text": [
      "C"
     ]
    },
    {
     "name": "stdout",
     "output_type": "stream",
     "text": [
      "utoff"
     ]
    },
    {
     "name": "stdout",
     "output_type": "stream",
     "text": [
      "\":"
     ]
    },
    {
     "name": "stdout",
     "output_type": "stream",
     "text": [
      " \""
     ]
    },
    {
     "name": "stdout",
     "output_type": "stream",
     "text": [
      "1"
     ]
    },
    {
     "name": "stdout",
     "output_type": "stream",
     "text": [
      "."
     ]
    },
    {
     "name": "stdout",
     "output_type": "stream",
     "text": [
      "0"
     ]
    },
    {
     "name": "stdout",
     "output_type": "stream",
     "text": [
      " *"
     ]
    },
    {
     "name": "stdout",
     "output_type": "stream",
     "text": [
      " nan"
     ]
    },
    {
     "name": "stdout",
     "output_type": "stream",
     "text": [
      "ometers"
     ]
    },
    {
     "name": "stdout",
     "output_type": "stream",
     "text": [
      "\",\n"
     ]
    },
    {
     "name": "stdout",
     "output_type": "stream",
     "text": [
      "           "
     ]
    },
    {
     "name": "stdout",
     "output_type": "stream",
     "text": [
      " \""
     ]
    },
    {
     "name": "stdout",
     "output_type": "stream",
     "text": [
      "constraints"
     ]
    },
    {
     "name": "stdout",
     "output_type": "stream",
     "text": [
      "\":"
     ]
    },
    {
     "name": "stdout",
     "output_type": "stream",
     "text": [
      " \""
     ]
    },
    {
     "name": "stdout",
     "output_type": "stream",
     "text": [
      "HB"
     ]
    },
    {
     "name": "stdout",
     "output_type": "stream",
     "text": [
      "onds"
     ]
    },
    {
     "name": "stdout",
     "output_type": "stream",
     "text": [
      "\",\n"
     ]
    },
    {
     "name": "stdout",
     "output_type": "stream",
     "text": [
      "           "
     ]
    },
    {
     "name": "stdout",
     "output_type": "stream",
     "text": [
      " \""
     ]
    },
    {
     "name": "stdout",
     "output_type": "stream",
     "text": [
      "rig"
     ]
    },
    {
     "name": "stdout",
     "output_type": "stream",
     "text": [
      "id"
     ]
    },
    {
     "name": "stdout",
     "output_type": "stream",
     "text": [
      "Water"
     ]
    },
    {
     "name": "stdout",
     "output_type": "stream",
     "text": [
      "\":"
     ]
    },
    {
     "name": "stdout",
     "output_type": "stream",
     "text": [
      " true"
     ]
    },
    {
     "name": "stdout",
     "output_type": "stream",
     "text": [
      ",\n"
     ]
    },
    {
     "name": "stdout",
     "output_type": "stream",
     "text": [
      "           "
     ]
    },
    {
     "name": "stdout",
     "output_type": "stream",
     "text": [
      " \""
     ]
    },
    {
     "name": "stdout",
     "output_type": "stream",
     "text": [
      "s"
     ]
    },
    {
     "name": "stdout",
     "output_type": "stream",
     "text": [
      "olv"
     ]
    },
    {
     "name": "stdout",
     "output_type": "stream",
     "text": [
      "ate"
     ]
    },
    {
     "name": "stdout",
     "output_type": "stream",
     "text": [
      "\":"
     ]
    },
    {
     "name": "stdout",
     "output_type": "stream",
     "text": [
      " true"
     ]
    },
    {
     "name": "stdout",
     "output_type": "stream",
     "text": [
      ",\n"
     ]
    },
    {
     "name": "stdout",
     "output_type": "stream",
     "text": [
      "           "
     ]
    },
    {
     "name": "stdout",
     "output_type": "stream",
     "text": [
      " \""
     ]
    },
    {
     "name": "stdout",
     "output_type": "stream",
     "text": [
      "constraint"
     ]
    },
    {
     "name": "stdout",
     "output_type": "stream",
     "text": [
      "T"
     ]
    },
    {
     "name": "stdout",
     "output_type": "stream",
     "text": [
      "olerance"
     ]
    },
    {
     "name": "stdout",
     "output_type": "stream",
     "text": [
      "\":"
     ]
    },
    {
     "name": "stdout",
     "output_type": "stream",
     "text": [
      " \""
     ]
    },
    {
     "name": "stdout",
     "output_type": "stream",
     "text": [
      "0"
     ]
    },
    {
     "name": "stdout",
     "output_type": "stream",
     "text": [
      "."
     ]
    },
    {
     "name": "stdout",
     "output_type": "stream",
     "text": [
      "000"
     ]
    },
    {
     "name": "stdout",
     "output_type": "stream",
     "text": [
      "01"
     ]
    },
    {
     "name": "stdout",
     "output_type": "stream",
     "text": [
      "\"\n"
     ]
    },
    {
     "name": "stdout",
     "output_type": "stream",
     "text": [
      "       "
     ]
    },
    {
     "name": "stdout",
     "output_type": "stream",
     "text": [
      " },\n"
     ]
    },
    {
     "name": "stdout",
     "output_type": "stream",
     "text": [
      "       "
     ]
    },
    {
     "name": "stdout",
     "output_type": "stream",
     "text": [
      " \""
     ]
    },
    {
     "name": "stdout",
     "output_type": "stream",
     "text": [
      "integr"
     ]
    },
    {
     "name": "stdout",
     "output_type": "stream",
     "text": [
      "ator"
     ]
    },
    {
     "name": "stdout",
     "output_type": "stream",
     "text": [
      "_params"
     ]
    },
    {
     "name": "stdout",
     "output_type": "stream",
     "text": [
      "\":"
     ]
    },
    {
     "name": "stdout",
     "output_type": "stream",
     "text": [
      " {\n"
     ]
    },
    {
     "name": "stdout",
     "output_type": "stream",
     "text": [
      "           "
     ]
    },
    {
     "name": "stdout",
     "output_type": "stream",
     "text": [
      " \""
     ]
    },
    {
     "name": "stdout",
     "output_type": "stream",
     "text": [
      "integr"
     ]
    },
    {
     "name": "stdout",
     "output_type": "stream",
     "text": [
      "ator"
     ]
    },
    {
     "name": "stdout",
     "output_type": "stream",
     "text": [
      "_type"
     ]
    },
    {
     "name": "stdout",
     "output_type": "stream",
     "text": [
      "\":"
     ]
    },
    {
     "name": "stdout",
     "output_type": "stream",
     "text": [
      " \""
     ]
    },
    {
     "name": "stdout",
     "output_type": "stream",
     "text": [
      "L"
     ]
    },
    {
     "name": "stdout",
     "output_type": "stream",
     "text": [
      "ange"
     ]
    },
    {
     "name": "stdout",
     "output_type": "stream",
     "text": [
      "vin"
     ]
    },
    {
     "name": "stdout",
     "output_type": "stream",
     "text": [
      "Middle"
     ]
    },
    {
     "name": "stdout",
     "output_type": "stream",
     "text": [
      "\",\n"
     ]
    },
    {
     "name": "stdout",
     "output_type": "stream",
     "text": [
      "           "
     ]
    },
    {
     "name": "stdout",
     "output_type": "stream",
     "text": [
      " \""
     ]
    },
    {
     "name": "stdout",
     "output_type": "stream",
     "text": [
      "Temperature"
     ]
    },
    {
     "name": "stdout",
     "output_type": "stream",
     "text": [
      "\":"
     ]
    },
    {
     "name": "stdout",
     "output_type": "stream",
     "text": [
      " \""
     ]
    },
    {
     "name": "stdout",
     "output_type": "stream",
     "text": [
      "300"
     ]
    },
    {
     "name": "stdout",
     "output_type": "stream",
     "text": [
      " *"
     ]
    },
    {
     "name": "stdout",
     "output_type": "stream",
     "text": [
      " kel"
     ]
    },
    {
     "name": "stdout",
     "output_type": "stream",
     "text": [
      "vin"
     ]
    },
    {
     "name": "stdout",
     "output_type": "stream",
     "text": [
      "\",\n"
     ]
    },
    {
     "name": "stdout",
     "output_type": "stream",
     "text": [
      "           "
     ]
    },
    {
     "name": "stdout",
     "output_type": "stream",
     "text": [
      " \""
     ]
    },
    {
     "name": "stdout",
     "output_type": "stream",
     "text": [
      "Fr"
     ]
    },
    {
     "name": "stdout",
     "output_type": "stream",
     "text": [
      "iction"
     ]
    },
    {
     "name": "stdout",
     "output_type": "stream",
     "text": [
      "\":"
     ]
    },
    {
     "name": "stdout",
     "output_type": "stream",
     "text": [
      " \""
     ]
    },
    {
     "name": "stdout",
     "output_type": "stream",
     "text": [
      "1"
     ]
    },
    {
     "name": "stdout",
     "output_type": "stream",
     "text": [
      "."
     ]
    },
    {
     "name": "stdout",
     "output_type": "stream",
     "text": [
      "0"
     ]
    },
    {
     "name": "stdout",
     "output_type": "stream",
     "text": [
      " /"
     ]
    },
    {
     "name": "stdout",
     "output_type": "stream",
     "text": [
      " pic"
     ]
    },
    {
     "name": "stdout",
     "output_type": "stream",
     "text": [
      "oseconds"
     ]
    },
    {
     "name": "stdout",
     "output_type": "stream",
     "text": [
      "\",\n"
     ]
    },
    {
     "name": "stdout",
     "output_type": "stream",
     "text": [
      "           "
     ]
    },
    {
     "name": "stdout",
     "output_type": "stream",
     "text": [
      " \""
     ]
    },
    {
     "name": "stdout",
     "output_type": "stream",
     "text": [
      "T"
     ]
    },
    {
     "name": "stdout",
     "output_type": "stream",
     "text": [
      "imestep"
     ]
    },
    {
     "name": "stdout",
     "output_type": "stream",
     "text": [
      "\":"
     ]
    },
    {
     "name": "stdout",
     "output_type": "stream",
     "text": [
      " \""
     ]
    },
    {
     "name": "stdout",
     "output_type": "stream",
     "text": [
      "0"
     ]
    },
    {
     "name": "stdout",
     "output_type": "stream",
     "text": [
      "."
     ]
    },
    {
     "name": "stdout",
     "output_type": "stream",
     "text": [
      "002"
     ]
    },
    {
     "name": "stdout",
     "output_type": "stream",
     "text": [
      " *"
     ]
    },
    {
     "name": "stdout",
     "output_type": "stream",
     "text": [
      " pic"
     ]
    },
    {
     "name": "stdout",
     "output_type": "stream",
     "text": [
      "oseconds"
     ]
    },
    {
     "name": "stdout",
     "output_type": "stream",
     "text": [
      "\"\n"
     ]
    },
    {
     "name": "stdout",
     "output_type": "stream",
     "text": [
      "       "
     ]
    },
    {
     "name": "stdout",
     "output_type": "stream",
     "text": [
      " },\n"
     ]
    },
    {
     "name": "stdout",
     "output_type": "stream",
     "text": [
      "       "
     ]
    },
    {
     "name": "stdout",
     "output_type": "stream",
     "text": [
      " \""
     ]
    },
    {
     "name": "stdout",
     "output_type": "stream",
     "text": [
      "simulation"
     ]
    },
    {
     "name": "stdout",
     "output_type": "stream",
     "text": [
      "_params"
     ]
    },
    {
     "name": "stdout",
     "output_type": "stream",
     "text": [
      "\":"
     ]
    },
    {
     "name": "stdout",
     "output_type": "stream",
     "text": [
      " {\n"
     ]
    },
    {
     "name": "stdout",
     "output_type": "stream",
     "text": [
      "           "
     ]
    },
    {
     "name": "stdout",
     "output_type": "stream",
     "text": [
      " \""
     ]
    },
    {
     "name": "stdout",
     "output_type": "stream",
     "text": [
      "En"
     ]
    },
    {
     "name": "stdout",
     "output_type": "stream",
     "text": [
      "semble"
     ]
    },
    {
     "name": "stdout",
     "output_type": "stream",
     "text": [
      "\":"
     ]
    },
    {
     "name": "stdout",
     "output_type": "stream",
     "text": [
      " \""
     ]
    },
    {
     "name": "stdout",
     "output_type": "stream",
     "text": [
      "N"
     ]
    },
    {
     "name": "stdout",
     "output_type": "stream",
     "text": [
      "VT"
     ]
    },
    {
     "name": "stdout",
     "output_type": "stream",
     "text": [
      "\",\n"
     ]
    },
    {
     "name": "stdout",
     "output_type": "stream",
     "text": [
      "           "
     ]
    },
    {
     "name": "stdout",
     "output_type": "stream",
     "text": [
      " \""
     ]
    },
    {
     "name": "stdout",
     "output_type": "stream",
     "text": [
      "Number"
     ]
    },
    {
     "name": "stdout",
     "output_type": "stream",
     "text": [
      " of"
     ]
    },
    {
     "name": "stdout",
     "output_type": "stream",
     "text": [
      " Steps"
     ]
    },
    {
     "name": "stdout",
     "output_type": "stream",
     "text": [
      "\":"
     ]
    },
    {
     "name": "stdout",
     "output_type": "stream",
     "text": [
      " "
     ]
    },
    {
     "name": "stdout",
     "output_type": "stream",
     "text": [
      "500"
     ]
    },
    {
     "name": "stdout",
     "output_type": "stream",
     "text": [
      "00"
     ]
    },
    {
     "name": "stdout",
     "output_type": "stream",
     "text": [
      ",\n"
     ]
    },
    {
     "name": "stdout",
     "output_type": "stream",
     "text": [
      "           "
     ]
    },
    {
     "name": "stdout",
     "output_type": "stream",
     "text": [
      " \""
     ]
    },
    {
     "name": "stdout",
     "output_type": "stream",
     "text": [
      "record"
     ]
    },
    {
     "name": "stdout",
     "output_type": "stream",
     "text": [
      "_interval"
     ]
    },
    {
     "name": "stdout",
     "output_type": "stream",
     "text": [
      "_steps"
     ]
    },
    {
     "name": "stdout",
     "output_type": "stream",
     "text": [
      "\":"
     ]
    },
    {
     "name": "stdout",
     "output_type": "stream",
     "text": [
      " "
     ]
    },
    {
     "name": "stdout",
     "output_type": "stream",
     "text": [
      "500"
     ]
    },
    {
     "name": "stdout",
     "output_type": "stream",
     "text": [
      ",\n"
     ]
    },
    {
     "name": "stdout",
     "output_type": "stream",
     "text": [
      "           "
     ]
    },
    {
     "name": "stdout",
     "output_type": "stream",
     "text": [
      " \""
     ]
    },
    {
     "name": "stdout",
     "output_type": "stream",
     "text": [
      "record"
     ]
    },
    {
     "name": "stdout",
     "output_type": "stream",
     "text": [
      "_params"
     ]
    },
    {
     "name": "stdout",
     "output_type": "stream",
     "text": [
      "\":"
     ]
    },
    {
     "name": "stdout",
     "output_type": "stream",
     "text": [
      " [\""
     ]
    },
    {
     "name": "stdout",
     "output_type": "stream",
     "text": [
      "step"
     ]
    },
    {
     "name": "stdout",
     "output_type": "stream",
     "text": [
      "\","
     ]
    },
    {
     "name": "stdout",
     "output_type": "stream",
     "text": [
      " \""
     ]
    },
    {
     "name": "stdout",
     "output_type": "stream",
     "text": [
      "potential"
     ]
    },
    {
     "name": "stdout",
     "output_type": "stream",
     "text": [
      "Energy"
     ]
    },
    {
     "name": "stdout",
     "output_type": "stream",
     "text": [
      "\","
     ]
    },
    {
     "name": "stdout",
     "output_type": "stream",
     "text": [
      " \""
     ]
    },
    {
     "name": "stdout",
     "output_type": "stream",
     "text": [
      "temperature"
     ]
    },
    {
     "name": "stdout",
     "output_type": "stream",
     "text": [
      "\"]\n"
     ]
    },
    {
     "name": "stdout",
     "output_type": "stream",
     "text": [
      "       "
     ]
    },
    {
     "name": "stdout",
     "output_type": "stream",
     "text": [
      " }\n"
     ]
    },
    {
     "name": "stdout",
     "output_type": "stream",
     "text": [
      "   "
     ]
    },
    {
     "name": "stdout",
     "output_type": "stream",
     "text": [
      " }\n"
     ]
    },
    {
     "name": "stdout",
     "output_type": "stream",
     "text": [
      "}\n"
     ]
    },
    {
     "name": "stdout",
     "output_type": "stream",
     "text": [
      "```"
     ]
    },
    {
     "name": "stdout",
     "output_type": "stream",
     "text": [
      "Setting default ewaldErrorTolerance: 0.0005 \n",
      "error found: The forcefield file is not present\n",
      " Correct this and try again. \n",
      " Everthing else is fine\n"
     ]
    },
    {
     "data": {
      "text/plain": [
       "({'input': '\\n    You are an expert molecular dynamics scientist, and\\n    your task is to respond to the question or\\n    solve the problem to the best of your ability using\\n    the provided tools.\\n\\n    You can only respond with a single complete\\n    \\'Thought, Action, Action Input\\' format\\n    OR a single \\'Final Answer\\' format.\\n\\n    Complete format:\\n    Thought: (reflect on your progress and decide what to do next)\\n    Action:\\n    ```\\n    {\\n        \"action\": (the action name, it should be the name of a tool),\\n        \"action_input\": (the input string for the action)\\n    }\\n    \\'\\'\\'\\n\\n    OR\\n\\n    Final Answer: (the final response to the original input\\n    question, once all steps are complete)\\n\\n    You are required to use the tools provided,\\n    using the most specific tool\\n    available for each action.\\n    Your final answer should contain all information\\n    necessary to answer the question and its subquestions.\\n    Before you finish, reflect on your progress and make\\n    sure you have addressed the question in its entirety.\\n\\n    If you are asked to continue\\n    or reference previous runs,\\n    the context will be provided to you.\\n    If context is provided, you should assume\\n    you are continuing a chat.\\n\\n    Here is the input:\\n    Previous Context: None\\n    Question: Simulate deoxygenated hemoglobin (1A3N) and oxygenated hemoglobin (6BB5). Plot the PCA of both trajectories. ',\n",
       "  'output': 'Agent stopped due to iteration limit or time limit.'},\n",
       " 'Z53O0699')"
      ]
     },
     "execution_count": 5,
     "metadata": {},
     "output_type": "execute_result"
    }
   ],
   "source": [
    "agent.run(prompt14)"
   ]
  },
  {
   "cell_type": "code",
   "execution_count": 6,
   "id": "863c1ca9",
   "metadata": {
    "execution": {
     "iopub.execute_input": "2024-10-09T01:10:04.003923Z",
     "iopub.status.busy": "2024-10-09T01:10:04.003558Z",
     "iopub.status.idle": "2024-10-09T01:10:04.013315Z",
     "shell.execute_reply": "2024-10-09T01:10:04.012378Z"
    },
    "papermill": {
     "duration": 0.346168,
     "end_time": "2024-10-09T01:10:04.015955",
     "exception": false,
     "start_time": "2024-10-09T01:10:03.669787",
     "status": "completed"
    },
    "scrolled": true,
    "tags": []
   },
   "outputs": [
    {
     "name": "stdout",
     "output_type": "stream",
     "text": [
      "date and time: 2024-10-08\n",
      "time: 21:10:04\n",
      "ckpt_dir: ckpt_29\n",
      "Files found in registry: 1A3N_210823: PDB file downloaded from RSCB\n",
      " PDBFile ID: 1A3N_210823\n",
      " 6BB5_210830: PDB file downloaded from RSCB\n",
      " PDBFile ID: 6BB5_210830\n"
     ]
    }
   ],
   "source": [
    "now = datetime.datetime.now()\n",
    "date = now.strftime(\"%Y-%m-%d\")\n",
    "print(\"date and time:\",date)\n",
    "time = now.strftime(\"%H:%M:%S\")\n",
    "print(\"time:\",time)\n",
    "\n",
    "registry = agent.path_registry\n",
    "print('ckpt_dir:',os.path.basename(registry.ckpt_dir))\n",
    "paths_and_descriptions = registry.list_path_names_and_descriptions()\n",
    "print(\"\\n\".join(paths_and_descriptions.split(\",\")))"
   ]
  },
  {
   "cell_type": "code",
   "execution_count": 7,
   "id": "8d056f0c",
   "metadata": {
    "execution": {
     "iopub.execute_input": "2024-10-09T01:10:04.671386Z",
     "iopub.status.busy": "2024-10-09T01:10:04.671060Z",
     "iopub.status.idle": "2024-10-09T01:10:04.866078Z",
     "shell.execute_reply": "2024-10-09T01:10:04.864198Z"
    },
    "papermill": {
     "duration": 0.52192,
     "end_time": "2024-10-09T01:10:04.867639",
     "exception": true,
     "start_time": "2024-10-09T01:10:04.345719",
     "status": "failed"
    },
    "tags": []
   },
   "outputs": [
    {
     "ename": "IndexError",
     "evalue": "list index out of range",
     "output_type": "error",
     "traceback": [
      "\u001b[0;31m---------------------------------------------------------------------------\u001b[0m",
      "\u001b[0;31mIndexError\u001b[0m                                Traceback (most recent call last)",
      "Cell \u001b[0;32mIn[7], line 5\u001b[0m\n\u001b[1;32m      2\u001b[0m \u001b[38;5;28;01mimport\u001b[39;00m \u001b[38;5;21;01mos\u001b[39;00m\n\u001b[1;32m      4\u001b[0m matches \u001b[38;5;241m=\u001b[39m re\u001b[38;5;241m.\u001b[39mfindall(\u001b[38;5;124mr\u001b[39m\u001b[38;5;124m\"\u001b[39m\u001b[38;5;124mrec0_\u001b[39m\u001b[38;5;124m\\\u001b[39m\u001b[38;5;124md+\u001b[39m\u001b[38;5;124m\"\u001b[39m, paths_and_descriptions)\n\u001b[0;32m----> 5\u001b[0m file_id1 \u001b[38;5;241m=\u001b[39m \u001b[43mmatches\u001b[49m\u001b[43m[\u001b[49m\u001b[38;5;241;43m0\u001b[39;49m\u001b[43m]\u001b[49m\n\u001b[1;32m      6\u001b[0m file_id2 \u001b[38;5;241m=\u001b[39m matches[\u001b[38;5;241m1\u001b[39m]\n\u001b[1;32m      7\u001b[0m traj_path1 \u001b[38;5;241m=\u001b[39m registry\u001b[38;5;241m.\u001b[39mget_mapped_path(file_id1)\n",
      "\u001b[0;31mIndexError\u001b[0m: list index out of range"
     ]
    }
   ],
   "source": [
    "import re\n",
    "import os\n",
    "\n",
    "matches = re.findall(r\"rec0_\\d+\", paths_and_descriptions)\n",
    "file_id1 = matches[0]\n",
    "file_id2 = matches[1]\n",
    "traj_path1 = registry.get_mapped_path(file_id1)\n",
    "traj_path2 = registry.get_mapped_path(file_id2)\n",
    "assert os.path.exists(traj_path1), \"Path does not exist\"\n",
    "assert os.path.exists(traj_path2), \"Path does not exist\"\n",
    "print(f\"It's asserted that file paths for {file_id1} and {file_id2} exist\")"
   ]
  },
  {
   "cell_type": "code",
   "execution_count": null,
   "id": "08d2958e",
   "metadata": {
    "papermill": {
     "duration": null,
     "end_time": null,
     "exception": null,
     "start_time": null,
     "status": "pending"
    },
    "tags": []
   },
   "outputs": [],
   "source": [
    "# matches = re.findall(r\"top_sim0_\\d+\", paths_and_descriptions)\n",
    "# file_id1 = matches[0]\n",
    "# file_id2 = matches[1]\n",
    "# top_path1 = registry.get_mapped_path(file_id1)\n",
    "# top_path2 = registry.get_mapped_path(file_id2)\n",
    "# assert os.path.exists(top_path1), \"Path does not exist\"\n",
    "# assert os.path.exists(top_path2), \"Path does not exist\"\n",
    "# print(f\"It's asserted that file paths for {file_id1} and {file_id2} exist\")"
   ]
  },
  {
   "cell_type": "code",
   "execution_count": null,
   "id": "1ec95e97",
   "metadata": {
    "papermill": {
     "duration": null,
     "end_time": null,
     "exception": null,
     "start_time": null,
     "status": "pending"
    },
    "tags": []
   },
   "outputs": [],
   "source": [
    "# import mdtraj as md\n",
    "# import numpy as np\n",
    "\n",
    "# traj1 = md.load(traj_path1, top=top_path1)\n",
    "# traj2 = md.load(traj_path2, top=top_path2)\n",
    "\n",
    "# #number of framees, adn total residues simulated\n",
    "# print(\"Number of frames in traj1: \", traj1.n_frames)\n",
    "# print(\"Number of frames in traj2: \", traj2.n_frames)\n",
    "# print(\"Number of residues in traj1: \", traj1.n_residues)\n",
    "# print(\"Number of residues in traj2: \", traj2.n_residues)\n"
   ]
  }
 ],
 "metadata": {
  "kernelspec": {
   "display_name": "mdcrow",
   "language": "python",
   "name": "mdcrow"
  },
  "language_info": {
   "codemirror_mode": {
    "name": "ipython",
    "version": 3
   },
   "file_extension": ".py",
   "mimetype": "text/x-python",
   "name": "python",
   "nbconvert_exporter": "python",
   "pygments_lexer": "ipython3",
   "version": "3.12.4"
  },
  "papermill": {
   "default_parameters": {},
   "duration": 159.38362,
   "end_time": "2024-10-09T01:10:06.759949",
   "environment_variables": {},
   "exception": true,
   "input_path": "templates/exp_14.ipynb",
   "output_path": "results_gpt4t/exp_14.ipynb",
   "parameters": {
    "llm_var": "gpt-4-turbo-2024-04-09"
   },
   "start_time": "2024-10-09T01:07:27.376329",
   "version": "2.6.0"
  }
 },
 "nbformat": 4,
 "nbformat_minor": 5
}
