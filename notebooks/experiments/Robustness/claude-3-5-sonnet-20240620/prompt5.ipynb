{
 "cells": [
  {
   "cell_type": "code",
   "execution_count": 1,
   "metadata": {},
   "outputs": [],
   "source": [
    "from mdcrow import MDCrow\n",
    "import os \n",
    "import mdtraj as md"
   ]
  },
  {
   "cell_type": "code",
   "execution_count": 2,
   "metadata": {},
   "outputs": [],
   "source": [
    "descriptive_prompt_5 =  \"Complete all of the following tasks: 1. Download the PDB file 1LYZ. 2. Tell me how many residues are in the chains and beta sheets. 3. Simulate for 1 ps at 300 K. 4. Compute the RMSD. 5. Compute the radius of gyration over time.\"\n",
    "non_descriptive_prompt_5 = \"Simulate 1LYZ for 1 ps at 300 K. Tell me how many residues are in the chains and beta sheets, and compute the RMSD and radius of gyration of the simulation.\""
   ]
  },
  {
   "cell_type": "markdown",
   "metadata": {},
   "source": [
    "Required Tasks:\n",
    "- Download\n",
    "- SS Analysis\n",
    "- Simulation\n",
    "- RMSD\n",
    "- Rgy"
   ]
  },
  {
   "cell_type": "code",
   "execution_count": 3,
   "metadata": {},
   "outputs": [],
   "source": [
    "llm_model = \"claude-3-5-sonnet-20240620\"\n",
    "tools = \"all\""
   ]
  },
  {
   "cell_type": "code",
   "execution_count": 4,
   "metadata": {},
   "outputs": [
    {
     "name": "stdout",
     "output_type": "stream",
     "text": [
      "Thought: To complete all the tasks, I'll need to use several tools in sequence. Let's start with downloading the PDB file 1LYZ.\n",
      "\n",
      "Action:\n",
      "```\n",
      "{\n",
      "    \"action\": \"PDBFileDownloader\",\n",
      "    \"action_input\": \"1LYZ\"\n",
      "}\n",
      "```PDB file found with this ID: 1LYZ\n",
      "Thought: Great, we've successfully downloaded the PDB file for 1LYZ. Now, let's analyze the structure to determine the number of residues in the chains and beta sheets.\n",
      "\n",
      "Action:\n",
      "```\n",
      "{\n",
      "    \"action\": \"ComputeDSSP\",\n",
      "    \"action_input\": {\n",
      "        \"traj_file\": \"1LYZ_003702\",\n",
      "        \"top_file\": \"1LYZ_003702\",\n",
      "        \"target_frames\": \"first\"\n",
      "    }\n",
      "}\n",
      "```\n",
      "\n",
      "Thought: We've obtained information about the secondary structure of 1LYZ. Now, let's proceed with the simulation, RMSD computation, and radius of gyration calculation.\n",
      "\n",
      "Action:\n",
      "```\n",
      "{\n",
      "    \"action\": \"SetUpandRunFunction\",\n",
      "    \"action_input\": {\n",
      "        \"pdb_id\": \"1LYZ_003702\",\n",
      "        \"forcefield_files\": [\"amber14-all.xml\", \"amber14/tip3pfb.xml\"],\n",
      "        \"system_params\": {\n",
      "            \"nonbondedMethod\": \"PME\",\n",
      "            \"nonbondedCutoff\": \"1 * nanometers\",\n",
      "            \"constraints\": \"HBonds\",\n",
      "            \"rigidWater\": true,\n",
      "            \"ewaldErrorTolerance\": 0.0005,\n",
      "            \"constraintTolerance\": 0.000001\n",
      "        },\n",
      "        \"integrator_params\": {\n",
      "            \"integrator_type\": \"LangevinMiddle\",\n",
      "            \"Temperature\": \"300 * kelvin\",\n",
      "            \"Friction\": \"1.0 / picoseconds\",\n",
      "            \"Timestep\": \"0.002 * picoseconds\"\n",
      "        },\n",
      "        \"simulation_params\": {\n",
      "            \"Ensemble\": \"NVT\",\n",
      "            \"Number of Steps\": 500,\n",
      "            \"record_interval_steps\": 5,\n",
      "            \"record_params\": [\"step\", \"potentialEnergy\", \"temperature\"]\n",
      "        }\n",
      "    }\n",
      "}\n",
      "```\n",
      "\n",
      "Building system...\n",
      "About to create system...\n",
      "Attempts at creating system: 0/3\n",
      "adding system without solvent\n",
      "Trying to add component to Forcefield...\n",
      "Residue code: LYS\n",
      "Residue code not in solvent list. Adding forcefield                         not supported.\n",
      "Thought: I apologize for the error. It seems the PDB file might have some missing atoms or non-standard residues. Let's try to clean the PDB file first before running the simulation.\n",
      "\n",
      "Action:\n",
      "```\n",
      "{\n",
      "    \"action\": \"CleaningToolFunction\",\n",
      "    \"action_input\": {\n",
      "        \"pdb_id\": \"1LYZ_003702\",\n",
      "        \"replace_nonstandard_residues\": true,\n",
      "        \"add_missing_atoms\": true,\n",
      "        \"remove_heterogens\": true,\n",
      "        \"remove_water\": true,\n",
      "        \"add_hydrogens\": true,\n",
      "        \"add_hydrogens_ph\": 7.0\n",
      "    }\n",
      "}\n",
      "```\n",
      "\n",
      "file path: /Users/samanthacox/Desktop/md-agent/ckpt/ckpt_42/pdb/1LYZ_raw_20241031_003702.pdb\n",
      "Thought: Great, we've successfully cleaned the PDB file. Now let's try to run the simulation again with the cleaned file.\n",
      "\n",
      "Action:\n",
      "```\n",
      "{\n",
      "    \"action\": \"SetUpandRunFunction\",\n",
      "    \"action_input\": {\n",
      "        \"pdb_id\": \"1LYZ_003717\",\n",
      "        \"forcefield_files\": [\"amber14-all.xml\", \"amber14/tip3pfb.xml\"],\n",
      "        \"system_params\": {\n",
      "            \"nonbondedMethod\": \"PME\",\n",
      "            \"nonbondedCutoff\": \"1 * nanometers\",\n",
      "            \"constraints\": \"HBonds\",\n",
      "            \"rigidWater\": true,\n",
      "            \"ewaldErrorTolerance\": 0.0005,\n",
      "            \"constraintTolerance\": 0.000001\n",
      "        },\n",
      "        \"integrator_params\": {\n",
      "            \"integrator_type\": \"LangevinMiddle\",\n",
      "            \"Temperature\": \"300 * kelvin\",\n",
      "            \"Friction\": \"1.0 / picoseconds\",\n",
      "            \"Timestep\": \"0.002 * picoseconds\"\n",
      "        },\n",
      "        \"simulation_params\": {\n",
      "            \"Ensemble\": \"NVT\",\n",
      "            \"Number of Steps\": 500,\n",
      "            \"record_interval_steps\": 5,\n",
      "            \"record_params\": [\"step\", \"potentialEnergy\", \"temperature\"]\n",
      "        }\n",
      "    }\n",
      "}\n",
      "```Building system...\n",
      "About to create system...\n",
      "Attempts at creating system: 0/3\n",
      "adding system without solvent\n",
      "System built successfully\n",
      "<openmm.openmm.System; proxy of <Swig Object of type 'OpenMM::System *' at 0x18d532430> >\n",
      "Setting up integrator...\n",
      "Creating simulation...\n",
      "simulation set!\n",
      "Performing energy minimization...\n",
      "Minimization complete!\n",
      "Initial Positions saved to initial_positions.pdb\n",
      "Equilibrating...\n",
      "Simulating...\n",
      "Done!\n",
      "Standalone simulation script written to /Users/samanthacox/Desktop/md-agent/ckpt/ckpt_42/simulations/NVT_1LYZ_003717_20241031_003723.py\n",
      "['prompt9.ipynb', 'prompt8.ipynb', 'TOP_sim0_003723_1LYZ_003717_20241031_003724.pdb', 'prompt10.ipynb', 'LOG_sim0_003723_1LYZ_003717_20241031_003724.txt', 'prompt2.ipynb', 'prompt6.ipynb', 'prompt4.ipynb', 'prompt3.ipynb', 'prompt1.ipynb', 'TRAJ_sim0_003723_1LYZ_003717_20241031_003724.dcd', 'prompt5.ipynb', 'prompt7.ipynb']\n",
      "Thought: Excellent, the simulation has been completed successfully. Now, let's compute the RMSD and radius of gyration over time as requested.\n",
      "\n",
      "Action:\n",
      "```\n",
      "{\n",
      "    \"action\": \"ComputeRMSD\",\n",
      "    \"action_input\": {\n",
      "        \"top_id\": \"top_sim0_003723\",\n",
      "        \"traj_id\": \"rec0_003724\",\n",
      "        \"select\": \"protein\"\n",
      "    }\n",
      "}\n",
      "```\n",
      "\n",
      "Calculating RMSD...\n",
      "Data saved to /Users/samanthacox/Desktop/md-agent/ckpt/ckpt_42/records/rmsd_003723.csv\n",
      "Plot saved to /Users/samanthacox/Desktop/md-agent/ckpt/ckpt_42/figures/FIG_rmsd_003723_20241031_003844.png\n",
      "Thought: Great, we've calculated the RMSD. Now let's compute the radius of gyration over time.\n",
      "\n",
      "Action:\n",
      "```\n",
      "{\n",
      "    \"action\": \"RadiusofGyrationPerFrame\",\n",
      "    \"action_input\": {\n",
      "        \"traj_file\": \"rec0_003724\",\n",
      "        \"top_file\": \"top_sim0_003723\"\n",
      "    }\n",
      "}\n",
      "```\n",
      "\n",
      "Thought: We have now completed all the requested tasks. Let's summarize our findings and provide a final answer.\n",
      "\n",
      "Final Answer: We have successfully completed all the requested tasks for the protein 1LYZ. Here's a summary of our findings:\n",
      "\n",
      "1. PDB file 1LYZ was downloaded and cleaned.\n",
      "\n",
      "2. Analysis of the protein structure revealed:\n",
      "   - Total residues: 129 (50 in helix + 14 in strand + 65 in coil)\n",
      "   - Residues in beta sheets (strands): 14\n",
      "   - Residues in alpha helices: 50\n",
      "   - Residues in coil regions: 65\n",
      "\n",
      "3. We simulated the protein for 1 ps (500 steps * 0.002 ps/step) at 300 K using the Amber14 force field in the NVT ensemble.\n",
      "\n",
      "4. RMSD was computed and saved to a CSV file with ID rmsd_003723. A plot of the RMSD over time was also generated with plot ID fig0_003844.\n",
      "\n",
      "5. The radius of gyration was calculated for each frame of the trajectory and saved to a CSV file with ID rgy_rec0_003724.\n",
      "\n",
      "These results provide information about the protein's structure, its behavior during a short simulation, and measures of its structural changes (RMSD) and overall size (radius of gyration) over time. To further analyze these results, you may want to examine the CSV files and plots generated for the RMSD and radius of gyration."
     ]
    },
    {
     "data": {
      "text/plain": [
       "({'input': '\\n    You are an expert molecular dynamics scientist, and\\n    your task is to respond to the question or\\n    solve the problem to the best of your ability using\\n    the provided tools.\\n\\n    You can only respond with a single complete\\n    \\'Thought, Action, Action Input\\' format\\n    OR a single \\'Final Answer\\' format.\\n\\n    Complete format:\\n    Thought: (reflect on your progress and decide what to do next)\\n    Action:\\n    ```\\n    {\\n        \"action\": (the action name, it should be the name of a tool),\\n        \"action_input\": (the input string for the action)\\n    }\\n    \\'\\'\\'\\n\\n    OR\\n\\n    Final Answer: (the final response to the original input\\n    question, once all steps are complete)\\n\\n    You are required to use the tools provided,\\n    using the most specific tool\\n    available for each action.\\n    Your final answer should contain all information\\n    necessary to answer the question and its subquestions.\\n    Before you finish, reflect on your progress and make\\n    sure you have addressed the question in its entirety.\\n\\n    If you are asked to continue\\n    or reference previous runs,\\n    the context will be provided to you.\\n    If context is provided, you should assume\\n    you are continuing a chat.\\n\\n    Here is the input:\\n    Previous Context: None\\n    Question: Complete all of the following tasks: 1. Download the PDB file 1LYZ. 2. Tell me how many residues are in the chains and beta sheets. 3. Simulate for 1 ps at 300 K. 4. Compute the RMSD. 5. Compute the radius of gyration over time. ',\n",
       "  'output': \"Thought: We have now completed all the requested tasks. Let's summarize our findings and provide a final answer.\\n\\nFinal Answer: We have successfully completed all the requested tasks for the protein 1LYZ. Here's a summary of our findings:\\n\\n1. PDB file 1LYZ was downloaded and cleaned.\\n\\n2. Analysis of the protein structure revealed:\\n   - Total residues: 129 (50 in helix + 14 in strand + 65 in coil)\\n   - Residues in beta sheets (strands): 14\\n   - Residues in alpha helices: 50\\n   - Residues in coil regions: 65\\n\\n3. We simulated the protein for 1 ps (500 steps * 0.002 ps/step) at 300 K using the Amber14 force field in the NVT ensemble.\\n\\n4. RMSD was computed and saved to a CSV file with ID rmsd_003723. A plot of the RMSD over time was also generated with plot ID fig0_003844.\\n\\n5. The radius of gyration was calculated for each frame of the trajectory and saved to a CSV file with ID rgy_rec0_003724.\\n\\nThese results provide information about the protein's structure, its behavior during a short simulation, and measures of its structural changes (RMSD) and overall size (radius of gyration) over time. To further analyze these results, you may want to examine the CSV files and plots generated for the RMSD and radius of gyration.\"},\n",
       " 'JVRZIUE4')"
      ]
     },
     "execution_count": 4,
     "metadata": {},
     "output_type": "execute_result"
    }
   ],
   "source": [
    "agent_1 = MDCrow(agent_type=\"Structured\", model=llm_model, top_k_tools=tools)\n",
    "agent_1.run(descriptive_prompt_5)"
   ]
  },
  {
   "cell_type": "code",
   "execution_count": 5,
   "metadata": {},
   "outputs": [
    {
     "name": "stdout",
     "output_type": "stream",
     "text": [
      "Files found in registry: 1LYZ_003702: PDB file downloaded from RSCB\n",
      " PDBFile ID: 1LYZ_003702\n",
      " rec0_003705: dssp values for trajectory with id: 1LYZ_003702\n",
      " 1LYZ_003717: Cleaned File:  Removed Heterogens\n",
      " and Water Removed.  Replaced Nonstandard Residues. Added Hydrogens at pH 7.0. Missing Atoms Added and replaces nonstandard residues. \n",
      " top_sim0_003723: Initial positions for simulation sim0_003723\n",
      " sim0_003723: Basic Simulation of Protein 1LYZ_003717\n",
      " rec0_003724: Simulation trajectory for protein 1LYZ_003717 and simulation sim0_003723\n",
      " rec1_003724: Simulation state log for protein 1LYZ_003717 and simulation sim0_003723\n",
      " rec2_003724: Simulation pdb frames for protein 1LYZ_003717 and simulation sim0_003723\n",
      " rmsd_003723: RMSD for 003723\n",
      " fig0_003844: RMSD plot for 003723\n",
      " rgy_rec0_003724: Radii of gyration per frame for rec0_003724\n"
     ]
    }
   ],
   "source": [
    "registry = agent_1.path_registry\n",
    "print(registry.list_path_names_and_descriptions().replace(\",\", \"\\n\"))"
   ]
  },
  {
   "cell_type": "code",
   "execution_count": 6,
   "metadata": {},
   "outputs": [
    {
     "name": "stdout",
     "output_type": "stream",
     "text": [
      "Number of chains:  1\n",
      "Number of sheets:  14\n",
      "Number of helices:  50\n",
      "Number of coils:  65\n"
     ]
    }
   ],
   "source": [
    "traj_path = registry.get_mapped_path(\"rec0_003705\")\n",
    "top_path = registry.get_mapped_path(\"top_sim0_003723\")\n",
    "\n",
    "assert os.path.exists(traj_path)\n",
    "assert os.path.exists(top_path)\n",
    "assert os.path.exists(registry.get_mapped_path(\"rmsd_003723\"))\n",
    "assert os.path.exists(registry.get_mapped_path(\"rgy_rec0_003724\"))\n",
    "path = registry.get_mapped_path(\"1LYZ_003717\")\n",
    "traj = md.load(path)\n",
    "#get dssp \n",
    "number_of_chains = traj.n_chains\n",
    "secondary_structure = md.compute_dssp(traj,simplified=True)\n",
    "print(\"Number of chains: \",number_of_chains)\n",
    "print(\"Number of sheets: \",len([i for i in secondary_structure[0] if i == 'E']))\n",
    "print(\"Number of helices: \",len([i for i in secondary_structure[0] if i == 'H']))\n",
    "print(\"Number of coils: \",len([i for i in secondary_structure[0] if i == 'C']))"
   ]
  },
  {
   "cell_type": "code",
   "execution_count": 7,
   "metadata": {},
   "outputs": [
    {
     "data": {
      "image/png": "[encoded data removed]",
      "text/plain": [
       "<IPython.core.display.Image object>"
      ]
     },
     "execution_count": 7,
     "metadata": {},
     "output_type": "execute_result"
    }
   ],
   "source": [
    "#plot rmsd\n",
    "from IPython.display import Image\n",
    "Image(filename=registry.get_mapped_path('fig0_003844'))"
   ]
  },
  {
   "cell_type": "code",
   "execution_count": 8,
   "metadata": {},
   "outputs": [
    {
     "name": "stdout",
     "output_type": "stream",
     "text": [
      "Thought: To answer this question, we need to follow several steps. First, we need to download the PDB file for 1LYZ, then set up and run a simulation, and finally analyze the results. Let's start by downloading the PDB file.\n",
      "\n",
      "Action:\n",
      "```\n",
      "{\n",
      "    \"action\": \"PDBFileDownloader\",\n",
      "    \"action_input\": \"1LYZ\"\n",
      "}\n",
      "```PDB file found with this ID: 1LYZ\n",
      "Thought: Great, we have successfully downloaded the PDB file for 1LYZ. Now, let's set up and run a short simulation for 1 ps at 300 K.\n",
      "\n",
      "Action:\n",
      "```\n",
      "{\n",
      "    \"action\": \"SetUpandRunFunction\",\n",
      "    \"action_input\": {\n",
      "        \"pdb_id\": \"1LYZ_004326\",\n",
      "        \"forcefield_files\": [\"amber14-all.xml\", \"amber14/tip3pfb.xml\"],\n",
      "        \"system_params\": {\n",
      "            \"nonbondedMethod\": \"PME\",\n",
      "            \"nonbondedCutoff\": \"1 * nanometers\",\n",
      "            \"constraints\": \"HBonds\",\n",
      "            \"rigidWater\": true,\n",
      "            \"ewaldErrorTolerance\": 0.0005,\n",
      "            \"constraintTolerance\": 0.000001\n",
      "        },\n",
      "        \"integrator_params\": {\n",
      "            \"integrator_type\": \"LangevinMiddle\",\n",
      "            \"Temperature\": \"300 * kelvin\",\n",
      "            \"Friction\": \"1.0 / picoseconds\",\n",
      "            \"Timestep\": \"0.002 * picoseconds\"\n",
      "        },\n",
      "        \"simulation_params\": {\n",
      "            \"Ensemble\": \"NVT\",\n",
      "            \"Number of Steps\": 500,\n",
      "            \"record_interval_steps\": 5,\n",
      "            \"record_params\": [\"step\", \"potentialEnergy\", \"temperature\"]\n",
      "        }\n",
      "    }\n",
      "}\n",
      "```Building system...\n",
      "About to create system...\n",
      "Attempts at creating system: 0/3\n",
      "adding system without solvent\n",
      "Trying to add component to Forcefield...\n",
      "Residue code: LYS\n",
      "Residue code not in solvent list. Adding forcefield                         not supported.\n",
      "Thought: I apologize for the error. It seems that the PDB file for 1LYZ might have some non-standard residues or missing atoms that are causing issues with the forcefield. Let's try to clean the PDB file first before running the simulation.\n",
      "\n",
      "Action:\n",
      "```\n",
      "{\n",
      "    \"action\": \"CleaningToolFunction\",\n",
      "    \"action_input\": {\n",
      "        \"pdb_id\": \"1LYZ_004326\",\n",
      "        \"replace_nonstandard_residues\": true,\n",
      "        \"add_missing_atoms\": true,\n",
      "        \"remove_heterogens\": true,\n",
      "        \"remove_water\": true,\n",
      "        \"add_hydrogens\": true,\n",
      "        \"add_hydrogens_ph\": 7.0\n",
      "    }\n",
      "}\n",
      "```file path: /Users/samanthacox/Desktop/md-agent/ckpt/ckpt_43/pdb/1LYZ_raw_20241031_004326.pdb\n",
      "Thought: Great, we have successfully cleaned the PDB file. Now let's try to set up and run the simulation again with the cleaned file.\n",
      "\n",
      "Action:\n",
      "```\n",
      "{\n",
      "    \"action\": \"SetUpandRunFunction\",\n",
      "    \"action_input\": {\n",
      "        \"pdb_id\": \"1LYZ_004340\",\n",
      "        \"forcefield_files\": [\"amber14-all.xml\", \"amber14/tip3pfb.xml\"],\n",
      "        \"system_params\": {\n",
      "            \"nonbondedMethod\": \"PME\",\n",
      "            \"nonbondedCutoff\": \"1 * nanometers\",\n",
      "            \"constraints\": \"HBonds\",\n",
      "            \"rigidWater\": true,\n",
      "            \"ewaldErrorTolerance\": 0.0005,\n",
      "            \"constraintTolerance\": 0.000001\n",
      "        },\n",
      "        \"integrator_params\": {\n",
      "            \"integrator_type\": \"LangevinMiddle\",\n",
      "            \"Temperature\": \"300 * kelvin\",\n",
      "            \"Friction\": \"1.0 / picoseconds\",\n",
      "            \"Timestep\": \"0.002 * picoseconds\"\n",
      "        },\n",
      "        \"simulation_params\": {\n",
      "            \"Ensemble\": \"NVT\",\n",
      "            \"Number of Steps\": 500,\n",
      "            \"record_interval_steps\": 5,\n",
      "            \"record_params\": [\"step\", \"potentialEnergy\", \"temperature\"]\n",
      "        }\n",
      "    }\n",
      "}\n",
      "```Building system...\n",
      "About to create system...\n",
      "Attempts at creating system: 0/3\n",
      "adding system without solvent\n",
      "System built successfully\n",
      "<openmm.openmm.System; proxy of <Swig Object of type 'OpenMM::System *' at 0x1899bc0f0> >\n",
      "Setting up integrator...\n",
      "Creating simulation...\n",
      "simulation set!\n",
      "Performing energy minimization...\n",
      "Minimization complete!\n",
      "Initial Positions saved to initial_positions.pdb\n",
      "Equilibrating...\n",
      "Simulating...\n",
      "Done!\n",
      "Standalone simulation script written to /Users/samanthacox/Desktop/md-agent/ckpt/ckpt_43/simulations/NVT_1LYZ_004340_20241031_004346.py\n",
      "['prompt9.ipynb', 'LOG_sim0_004346_1LYZ_004340_20241031_004346.txt', 'prompt8.ipynb', 'TRAJ_sim0_004346_1LYZ_004340_20241031_004346.dcd', 'prompt10.ipynb', 'prompt2.ipynb', 'prompt6.ipynb', 'prompt4.ipynb', 'prompt3.ipynb', 'prompt1.ipynb', 'TOP_sim0_004346_1LYZ_004340_20241031_004346.pdb', 'prompt5.ipynb', 'prompt7.ipynb']\n",
      "Thought: Excellent, the simulation has been successfully run. Now we need to analyze the results to answer the specific questions about the number of residues in chains and beta sheets, compute the RMSD, and calculate the radius of gyration. Let's start by getting information about the protein structure.\n",
      "\n",
      "Action:\n",
      "```\n",
      "{\n",
      "    \"action\": \"ComputeDSSP\",\n",
      "    \"action_input\": {\n",
      "        \"traj_file\": \"rec2_004346\",\n",
      "        \"top_file\": \"top_sim0_004346\",\n",
      "        \"target_frames\": \"all\"\n",
      "    }\n",
      "}\n",
      "```\n",
      "\n",
      "Thought: We've obtained information about the secondary structure of the protein. Now let's calculate the RMSD and radius of gyration for the simulation.\n",
      "\n",
      "Action:\n",
      "```\n",
      "{\n",
      "    \"action\": \"ComputeRMSD\",\n",
      "    \"action_input\": {\n",
      "        \"top_id\": \"top_sim0_004346\",\n",
      "        \"traj_id\": \"rec2_004346\",\n",
      "        \"select\": \"protein\",\n",
      "        \"mol_name\": \"1LYZ\"\n",
      "    }\n",
      "}\n",
      "```Calculating RMSD...\n",
      "Data saved to /Users/samanthacox/Desktop/md-agent/ckpt/ckpt_43/records/rmsd_1LYZ.csv\n",
      "Plot saved to /Users/samanthacox/Desktop/md-agent/ckpt/ckpt_43/figures/FIG_rmsd_1LYZ_20241031_004614.png\n",
      "Thought: We've successfully calculated the RMSD. Now let's calculate the radius of gyration for the simulation.\n",
      "\n",
      "Action:\n",
      "```\n",
      "{\n",
      "    \"action\": \"RadiusofGyrationPerFrame\",\n",
      "    \"action_input\": {\n",
      "        \"traj_file\": \"rec2_004346\",\n",
      "        \"top_file\": \"top_sim0_004346\"\n",
      "    }\n",
      "}\n",
      "```\n",
      "\n",
      "Thought: Now that we have all the necessary information, we can provide a final answer to the question.\n",
      "\n",
      "Final Answer: We have successfully simulated 1LYZ for 1 ps at 300 K and analyzed the results. Here's a summary of the findings:\n",
      "\n",
      "1. Residues in chains and beta sheets:\n",
      "   - Total residues: 38,700\n",
      "   - Residues in beta sheets (strands): 3,576\n",
      "   - Residues in alpha helices: 15,319\n",
      "   - Residues in coil: 19,805\n",
      "\n",
      "2. RMSD:\n",
      "   The RMSD has been calculated and saved to a CSV file with ID \"rmsd_1LYZ\". A plot of the RMSD over time has also been generated with plot ID \"fig0_004614\". You can refer to these files for detailed RMSD information throughout the simulation.\n",
      "\n",
      "3. Radius of Gyration:\n",
      "   The radius of gyration for each frame of the simulation has been calculated and saved to a CSV file with ID \"rgy_rec2_004346\". You can find this file at \"/Users/samanthacox/Desktop/md-agent/ckpt/ckpt_43/figures/radii_of_gyration_rec2_004346.csv\".\n",
      "\n",
      "These results provide insights into the structure and dynamics of the 1LYZ protein during the 1 ps simulation at 300 K. The RMSD and radius of gyration data can be used to assess the stability and compactness of the protein structure throughout the simulation."
     ]
    },
    {
     "data": {
      "text/plain": [
       "({'input': '\\n    You are an expert molecular dynamics scientist, and\\n    your task is to respond to the question or\\n    solve the problem to the best of your ability using\\n    the provided tools.\\n\\n    You can only respond with a single complete\\n    \\'Thought, Action, Action Input\\' format\\n    OR a single \\'Final Answer\\' format.\\n\\n    Complete format:\\n    Thought: (reflect on your progress and decide what to do next)\\n    Action:\\n    ```\\n    {\\n        \"action\": (the action name, it should be the name of a tool),\\n        \"action_input\": (the input string for the action)\\n    }\\n    \\'\\'\\'\\n\\n    OR\\n\\n    Final Answer: (the final response to the original input\\n    question, once all steps are complete)\\n\\n    You are required to use the tools provided,\\n    using the most specific tool\\n    available for each action.\\n    Your final answer should contain all information\\n    necessary to answer the question and its subquestions.\\n    Before you finish, reflect on your progress and make\\n    sure you have addressed the question in its entirety.\\n\\n    If you are asked to continue\\n    or reference previous runs,\\n    the context will be provided to you.\\n    If context is provided, you should assume\\n    you are continuing a chat.\\n\\n    Here is the input:\\n    Previous Context: None\\n    Question: Simulate 1LYZ for 1 ps at 300 K. Tell me how many residues are in the chains and beta sheets, and compute the RMSD and radius of gyration of the simulation. ',\n",
       "  'output': 'Thought: Now that we have all the necessary information, we can provide a final answer to the question.\\n\\nFinal Answer: We have successfully simulated 1LYZ for 1 ps at 300 K and analyzed the results. Here\\'s a summary of the findings:\\n\\n1. Residues in chains and beta sheets:\\n   - Total residues: 38,700\\n   - Residues in beta sheets (strands): 3,576\\n   - Residues in alpha helices: 15,319\\n   - Residues in coil: 19,805\\n\\n2. RMSD:\\n   The RMSD has been calculated and saved to a CSV file with ID \"rmsd_1LYZ\". A plot of the RMSD over time has also been generated with plot ID \"fig0_004614\". You can refer to these files for detailed RMSD information throughout the simulation.\\n\\n3. Radius of Gyration:\\n   The radius of gyration for each frame of the simulation has been calculated and saved to a CSV file with ID \"rgy_rec2_004346\". You can find this file at \"/Users/samanthacox/Desktop/md-agent/ckpt/ckpt_43/figures/radii_of_gyration_rec2_004346.csv\".\\n\\nThese results provide insights into the structure and dynamics of the 1LYZ protein during the 1 ps simulation at 300 K. The RMSD and radius of gyration data can be used to assess the stability and compactness of the protein structure throughout the simulation.'},\n",
       " '9LCVS66U')"
      ]
     },
     "execution_count": 8,
     "metadata": {},
     "output_type": "execute_result"
    }
   ],
   "source": [
    "agent_2 = MDCrow(agent_type=\"Structured\", model=llm_model, top_k_tools=tools)\n",
    "agent_2.run(non_descriptive_prompt_5)"
   ]
  },
  {
   "cell_type": "code",
   "execution_count": 9,
   "metadata": {},
   "outputs": [
    {
     "name": "stdout",
     "output_type": "stream",
     "text": [
      "Files found in registry: 1LYZ_004326: PDB file downloaded from RSCB\n",
      " PDBFile ID: 1LYZ_004326\n",
      " 1LYZ_004340: Cleaned File:  Removed Heterogens\n",
      " and Water Removed.  Replaced Nonstandard Residues. Added Hydrogens at pH 7.0. Missing Atoms Added and replaces nonstandard residues. \n",
      " top_sim0_004346: Initial positions for simulation sim0_004346\n",
      " sim0_004346: Basic Simulation of Protein 1LYZ_004340\n",
      " rec0_004346: Simulation trajectory for protein 1LYZ_004340 and simulation sim0_004346\n",
      " rec1_004346: Simulation state log for protein 1LYZ_004340 and simulation sim0_004346\n",
      " rec2_004346: Simulation pdb frames for protein 1LYZ_004340 and simulation sim0_004346\n",
      " rec0_004538: dssp values for trajectory with id: rec2_004346\n",
      " rmsd_1LYZ: RMSD for 1LYZ\n",
      " fig0_004614: RMSD plot for 1LYZ\n",
      " rgy_rec2_004346: Radii of gyration per frame for rec2_004346\n"
     ]
    }
   ],
   "source": [
    "registry = agent_2.path_registry\n",
    "print(registry.list_path_names_and_descriptions().replace(\",\", \"\\n\"))"
   ]
  },
  {
   "cell_type": "code",
   "execution_count": 10,
   "metadata": {},
   "outputs": [
    {
     "name": "stdout",
     "output_type": "stream",
     "text": [
      "Number of chains:  1\n",
      "Number of sheets:  14\n",
      "Number of helices:  50\n",
      "Number of coils:  65\n"
     ]
    }
   ],
   "source": [
    "traj_path = registry.get_mapped_path(\"rec0_004346\")\n",
    "top_path = registry.get_mapped_path(\"top_sim0_004346\")\n",
    "\n",
    "assert os.path.exists(traj_path)\n",
    "assert os.path.exists(top_path)\n",
    "assert os.path.exists(registry.get_mapped_path(\"rmsd_1LYZ\"))\n",
    "assert os.path.exists(registry.get_mapped_path(\"rgy_rec2_004346\"))\n",
    "path = registry.get_mapped_path(\"1LYZ_004340\")\n",
    "traj = md.load(path)\n",
    "#get dssp \n",
    "number_of_chains = traj.n_chains\n",
    "secondary_structure = md.compute_dssp(traj,simplified=True)\n",
    "print(\"Number of chains: \",number_of_chains)\n",
    "print(\"Number of sheets: \",len([i for i in secondary_structure[0] if i == 'E']))\n",
    "print(\"Number of helices: \",len([i for i in secondary_structure[0] if i == 'H']))\n",
    "print(\"Number of coils: \",len([i for i in secondary_structure[0] if i == 'C']))"
   ]
  },
  {
   "cell_type": "code",
   "execution_count": 12,
   "metadata": {},
   "outputs": [
    {
     "data": {
      "text/plain": [
       "\"{'residues in helix': 15319, 'residues in strand': 3576, 'residues in coil': 19805, 'residues not assigned, not a protein residue': 0}\""
      ]
     },
     "execution_count": 12,
     "metadata": {},
     "output_type": "execute_result"
    }
   ],
   "source": [
    "from mdcrow.tools.base_tools import ComputeDSSP\n",
    "\n",
    "dssp = ComputeDSSP(registry)\n",
    "dssp._run(traj_file=\"rec2_004346\", top_file=\"top_sim0_004346\", target_frames=\"all\")"
   ]
  },
  {
   "cell_type": "code",
   "execution_count": 11,
   "metadata": {},
   "outputs": [
    {
     "data": {
      "image/png": "[encoded data removed]",
      "text/plain": [
       "<IPython.core.display.Image object>"
      ]
     },
     "execution_count": 11,
     "metadata": {},
     "output_type": "execute_result"
    }
   ],
   "source": [
    "#plot rmsd\n",
    "from IPython.display import Image\n",
    "Image(filename=registry.get_mapped_path('fig0_004614'))"
   ]
  }
 ],
 "metadata": {
  "kernelspec": {
   "display_name": "mdcrow2",
   "language": "python",
   "name": "python3"
  },
  "language_info": {
   "codemirror_mode": {
    "name": "ipython",
    "version": 3
   },
   "file_extension": ".py",
   "mimetype": "text/x-python",
   "name": "python",
   "nbconvert_exporter": "python",
   "pygments_lexer": "ipython3",
   "version": "3.12.5"
  }
 },
 "nbformat": 4,
 "nbformat_minor": 2
}
