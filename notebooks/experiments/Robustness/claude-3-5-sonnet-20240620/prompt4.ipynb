{
 "cells": [
  {
   "cell_type": "code",
   "execution_count": 1,
   "metadata": {},
   "outputs": [],
   "source": [
    "from mdcrow import MDCrow\n",
    "import os\n",
    "import mdtraj as md"
   ]
  },
  {
   "cell_type": "code",
   "execution_count": 2,
   "metadata": {},
   "outputs": [],
   "source": [
    "descriptive_prompt_4 = \"Complete all of the following tasks: 1. Download the PDB file 1LYZ. 2. Tell me how many residues are in the chains and beta sheets. 3. Simulate for 1 ps at 300 K. 4. Compute the RMSD.\"\n",
    "non_descriptive_prompt_4 = \"Simulate 1LYZ for 1 ps at 300 K. Tell me how many residues are in the chains and beta sheets and compute the RMSD of the simulation.\""
   ]
  },
  {
   "cell_type": "markdown",
   "metadata": {},
   "source": [
    "Required Tasks:\n",
    "- Download\n",
    "- SS Analysis\n",
    "- Simulation\n",
    "- RMSD"
   ]
  },
  {
   "cell_type": "code",
   "execution_count": 3,
   "metadata": {},
   "outputs": [],
   "source": [
    "llm_model = \"claude-3-5-sonnet-20240620\"\n",
    "tools = \"all\""
   ]
  },
  {
   "cell_type": "code",
   "execution_count": 4,
   "metadata": {},
   "outputs": [
    {
     "name": "stdout",
     "output_type": "stream",
     "text": [
      "Thought: To complete all the tasks, I'll need to use several tools in sequence. Let's start with downloading the PDB file 1LYZ.\n",
      "\n",
      "Action:\n",
      "```\n",
      "{\n",
      "  \"action\": \"PDBFileDownloader\",\n",
      "  \"action_input\": \"1LYZ\"\n",
      "}\n",
      "```PDB file found with this ID: 1LYZ\n",
      "Thought: Great, we've successfully downloaded the PDB file for 1LYZ. Now, let's analyze the structure to determine the number of residues in the chains and beta sheets.\n",
      "\n",
      "Action:\n",
      "```\n",
      "{\n",
      "  \"action\": \"ComputeDSSP\",\n",
      "  \"action_input\": {\"traj_file\": \"1LYZ_002630\", \"top_file\": \"1LYZ_002630\", \"target_frames\": \"first\"}\n",
      "}\n",
      "```\n",
      "\n",
      "Thought: We've obtained information about the secondary structure of 1LYZ. Now, let's proceed with the simulation and RMSD computation.\n",
      "\n",
      "Action:\n",
      "```\n",
      "{\n",
      "  \"action\": \"SetUpandRunFunction\",\n",
      "  \"action_input\": {\n",
      "    \"pdb_id\": \"1LYZ_002630\",\n",
      "    \"forcefield_files\": [\"amber14-all.xml\", \"amber14/tip3pfb.xml\"],\n",
      "    \"system_params\": {\n",
      "      \"nonbondedMethod\": \"PME\",\n",
      "      \"nonbondedCutoff\": \"1 * nanometers\",\n",
      "      \"constraints\": \"HBonds\",\n",
      "      \"rigidWater\": true,\n",
      "      \"ewaldErrorTolerance\": 0.0005,\n",
      "      \"constraintTolerance\": 0.000001\n",
      "    },\n",
      "    \"integrator_params\": {\n",
      "      \"integrator_type\": \"LangevinMiddle\",\n",
      "      \"Temperature\": \"300 * kelvin\",\n",
      "      \"Friction\": \"1.0 / picoseconds\",\n",
      "      \"Timestep\": \"0.002 * picoseconds\"\n",
      "    },\n",
      "    \"simulation_params\": {\n",
      "      \"Ensemble\": \"NVT\",\n",
      "      \"Number of Steps\": 500,\n",
      "      \"record_interval_steps\": 5,\n",
      "      \"record_params\": [\"step\", \"potentialEnergy\", \"temperature\"]\n",
      "    }\n",
      "  }\n",
      "}\n",
      "```\n",
      "\n",
      "Building system...\n",
      "About to create system...\n",
      "Attempts at creating system: 0/3\n",
      "adding system without solvent\n",
      "Trying to add component to Forcefield...\n",
      "Residue code: LYS\n",
      "Residue code not in solvent list. Adding forcefield                         not supported.\n",
      "Thought: I apologize for the error. It seems the PDB file might have some non-standard residues or missing atoms that are causing issues with the forcefield. Let's try to clean the PDB file first and then attempt the simulation again.\n",
      "\n",
      "Action:\n",
      "```\n",
      "{\n",
      "  \"action\": \"CleaningToolFunction\",\n",
      "  \"action_input\": {\n",
      "    \"pdb_id\": \"1LYZ_002630\",\n",
      "    \"replace_nonstandard_residues\": true,\n",
      "    \"add_missing_atoms\": true,\n",
      "    \"remove_heterogens\": true,\n",
      "    \"remove_water\": true,\n",
      "    \"add_hydrogens\": true,\n",
      "    \"add_hydrogens_ph\": 7.0\n",
      "  }\n",
      "}\n",
      "```\n",
      "\n",
      "file path: /Users/samanthacox/Desktop/md-agent/ckpt/ckpt_40/pdb/1LYZ_raw_20241031_002630.pdb\n",
      "Thought: Great, we've successfully cleaned the PDB file. Now let's try to run the simulation again with the cleaned file.\n",
      "\n",
      "Action:\n",
      "```\n",
      "{\n",
      "  \"action\": \"SetUpandRunFunction\",\n",
      "  \"action_input\": {\n",
      "    \"pdb_id\": \"1LYZ_002646\",\n",
      "    \"forcefield_files\": [\"amber14-all.xml\", \"amber14/tip3pfb.xml\"],\n",
      "    \"system_params\": {\n",
      "      \"nonbondedMethod\": \"PME\",\n",
      "      \"nonbondedCutoff\": \"1 * nanometers\",\n",
      "      \"constraints\": \"HBonds\",\n",
      "      \"rigidWater\": true,\n",
      "      \"ewaldErrorTolerance\": 0.0005,\n",
      "      \"constraintTolerance\": 0.000001\n",
      "    },\n",
      "    \"integrator_params\": {\n",
      "      \"integrator_type\": \"LangevinMiddle\",\n",
      "      \"Temperature\": \"300 * kelvin\",\n",
      "      \"Friction\": \"1.0 / picoseconds\",\n",
      "      \"Timestep\": \"0.002 * picoseconds\"\n",
      "    },\n",
      "    \"simulation_params\": {\n",
      "      \"Ensemble\": \"NVT\",\n",
      "      \"Number of Steps\": 500,\n",
      "      \"record_interval_steps\": 5,\n",
      "      \"record_params\": [\"step\", \"potentialEnergy\", \"temperature\"]\n",
      "    }\n",
      "  }\n",
      "}\n",
      "```Building system...\n",
      "About to create system...\n",
      "Attempts at creating system: 0/3\n",
      "adding system without solvent\n",
      "System built successfully\n",
      "<openmm.openmm.System; proxy of <Swig Object of type 'OpenMM::System *' at 0x18cf516b0> >\n",
      "Setting up integrator...\n",
      "Creating simulation...\n",
      "simulation set!\n",
      "Performing energy minimization...\n",
      "Minimization complete!\n",
      "Initial Positions saved to initial_positions.pdb\n",
      "Equilibrating...\n",
      "Simulating...\n",
      "Done!\n",
      "Standalone simulation script written to /Users/samanthacox/Desktop/md-agent/ckpt/ckpt_40/simulations/NVT_1LYZ_002646_20241031_002653.py\n",
      "['prompt9.ipynb', 'prompt8.ipynb', 'TOP_sim0_002653_1LYZ_002646_20241031_002653.pdb', 'prompt10.ipynb', 'LOG_sim0_002653_1LYZ_002646_20241031_002653.txt', 'prompt2.ipynb', 'prompt6.ipynb', 'prompt4.ipynb', 'prompt3.ipynb', 'prompt1.ipynb', 'prompt5.ipynb', 'prompt7.ipynb', 'TRAJ_sim0_002653_1LYZ_002646_20241031_002653.dcd']\n",
      "Thought: Excellent, the simulation has been completed successfully. Now, let's compute the RMSD for the simulation trajectory.\n",
      "\n",
      "Action:\n",
      "```\n",
      "{\n",
      "  \"action\": \"ComputeRMSD\",\n",
      "  \"action_input\": {\n",
      "    \"top_id\": \"top_sim0_002653\",\n",
      "    \"traj_id\": \"rec0_002653\",\n",
      "    \"select\": \"protein\",\n",
      "    \"mol_name\": \"1LYZ\"\n",
      "  }\n",
      "}\n",
      "```\n",
      "\n",
      "Calculating RMSD...\n",
      "Data saved to /Users/samanthacox/Desktop/md-agent/ckpt/ckpt_40/records/rmsd_1LYZ.csv\n",
      "Plot saved to /Users/samanthacox/Desktop/md-agent/ckpt/ckpt_40/figures/FIG_rmsd_1LYZ_20241031_002802.png\n",
      "Thought: Great, we have completed all the required tasks. Now, let's summarize our findings and provide a final answer to the original question.\n",
      "\n",
      "Final Answer: We have successfully completed all the requested tasks for the protein 1LYZ (lysozyme). Here's a summary of our findings:\n",
      "\n",
      "1. PDB file download: We successfully downloaded the PDB file for 1LYZ.\n",
      "\n",
      "2. Residue analysis:\n",
      "   - Total residues: 129 (50 in helix + 14 in strand + 65 in coil)\n",
      "   - Residues in beta sheets (strands): 14\n",
      "   - Residues in alpha helices: 50\n",
      "   - Residues in coil regions: 65\n",
      "   - Non-protein residues: 101 (these could be water molecules, ions, or ligands)\n",
      "\n",
      "3. Simulation:\n",
      "   We successfully ran a 1 ps simulation at 300 K using the following parameters:\n",
      "   - Ensemble: NVT\n",
      "   - Number of steps: 500 (with a timestep of 0.002 ps, this equals 1 ps)\n",
      "   - Temperature: 300 K\n",
      "   - Nonbonded method: PME\n",
      "   - Constraints: HBonds\n",
      "\n",
      "4. RMSD computation:\n",
      "   We computed the RMSD for the protein throughout the simulation. The results have been saved to a CSV file with the ID \"rmsd_1LYZ\", and a plot has been generated with the ID \"fig0_002802\". These files contain the detailed RMSD values over the course of the simulation.\n",
      "\n",
      "In conclusion, we have successfully analyzed the structure of lysozyme (1LYZ), performed a short molecular dynamics simulation, and computed the RMSD to track structural changes during the simulation. The protein contains 129 amino acid residues, with a mix of alpha helices, beta sheets, and coil regions, indicating a complex tertiary structure typical of globular proteins like lysozyme."
     ]
    },
    {
     "data": {
      "text/plain": [
       "({'input': '\\n    You are an expert molecular dynamics scientist, and\\n    your task is to respond to the question or\\n    solve the problem to the best of your ability using\\n    the provided tools.\\n\\n    You can only respond with a single complete\\n    \\'Thought, Action, Action Input\\' format\\n    OR a single \\'Final Answer\\' format.\\n\\n    Complete format:\\n    Thought: (reflect on your progress and decide what to do next)\\n    Action:\\n    ```\\n    {\\n        \"action\": (the action name, it should be the name of a tool),\\n        \"action_input\": (the input string for the action)\\n    }\\n    \\'\\'\\'\\n\\n    OR\\n\\n    Final Answer: (the final response to the original input\\n    question, once all steps are complete)\\n\\n    You are required to use the tools provided,\\n    using the most specific tool\\n    available for each action.\\n    Your final answer should contain all information\\n    necessary to answer the question and its subquestions.\\n    Before you finish, reflect on your progress and make\\n    sure you have addressed the question in its entirety.\\n\\n    If you are asked to continue\\n    or reference previous runs,\\n    the context will be provided to you.\\n    If context is provided, you should assume\\n    you are continuing a chat.\\n\\n    Here is the input:\\n    Previous Context: None\\n    Question: Complete all of the following tasks: 1. Download the PDB file 1LYZ. 2. Tell me how many residues are in the chains and beta sheets. 3. Simulate for 1 ps at 300 K. 4. Compute the RMSD. ',\n",
       "  'output': 'Thought: Great, we have completed all the required tasks. Now, let\\'s summarize our findings and provide a final answer to the original question.\\n\\nFinal Answer: We have successfully completed all the requested tasks for the protein 1LYZ (lysozyme). Here\\'s a summary of our findings:\\n\\n1. PDB file download: We successfully downloaded the PDB file for 1LYZ.\\n\\n2. Residue analysis:\\n   - Total residues: 129 (50 in helix + 14 in strand + 65 in coil)\\n   - Residues in beta sheets (strands): 14\\n   - Residues in alpha helices: 50\\n   - Residues in coil regions: 65\\n   - Non-protein residues: 101 (these could be water molecules, ions, or ligands)\\n\\n3. Simulation:\\n   We successfully ran a 1 ps simulation at 300 K using the following parameters:\\n   - Ensemble: NVT\\n   - Number of steps: 500 (with a timestep of 0.002 ps, this equals 1 ps)\\n   - Temperature: 300 K\\n   - Nonbonded method: PME\\n   - Constraints: HBonds\\n\\n4. RMSD computation:\\n   We computed the RMSD for the protein throughout the simulation. The results have been saved to a CSV file with the ID \"rmsd_1LYZ\", and a plot has been generated with the ID \"fig0_002802\". These files contain the detailed RMSD values over the course of the simulation.\\n\\nIn conclusion, we have successfully analyzed the structure of lysozyme (1LYZ), performed a short molecular dynamics simulation, and computed the RMSD to track structural changes during the simulation. The protein contains 129 amino acid residues, with a mix of alpha helices, beta sheets, and coil regions, indicating a complex tertiary structure typical of globular proteins like lysozyme.'},\n",
       " 'ZNASGFQV')"
      ]
     },
     "execution_count": 4,
     "metadata": {},
     "output_type": "execute_result"
    }
   ],
   "source": [
    "agent_1 = MDCrow(agent_type=\"Structured\", model=llm_model, top_k_tools=tools)\n",
    "agent_1.run(descriptive_prompt_4)"
   ]
  },
  {
   "cell_type": "code",
   "execution_count": 5,
   "metadata": {},
   "outputs": [
    {
     "name": "stdout",
     "output_type": "stream",
     "text": [
      "Files found in registry: 1LYZ_002630: PDB file downloaded from RSCB\n",
      " PDBFile ID: 1LYZ_002630\n",
      " rec0_002633: dssp values for trajectory with id: 1LYZ_002630\n",
      " 1LYZ_002646: Cleaned File:  Removed Heterogens\n",
      " and Water Removed.  Replaced Nonstandard Residues. Added Hydrogens at pH 7.0. Missing Atoms Added and replaces nonstandard residues. \n",
      " top_sim0_002653: Initial positions for simulation sim0_002653\n",
      " sim0_002653: Basic Simulation of Protein 1LYZ_002646\n",
      " rec0_002653: Simulation trajectory for protein 1LYZ_002646 and simulation sim0_002653\n",
      " rec1_002653: Simulation state log for protein 1LYZ_002646 and simulation sim0_002653\n",
      " rec2_002653: Simulation pdb frames for protein 1LYZ_002646 and simulation sim0_002653\n",
      " rmsd_1LYZ: RMSD for 1LYZ\n",
      " fig0_002802: RMSD plot for 1LYZ\n"
     ]
    }
   ],
   "source": [
    "registry = agent_1.path_registry\n",
    "print(registry.list_path_names_and_descriptions().replace(\",\", \"\\n\"))"
   ]
  },
  {
   "cell_type": "code",
   "execution_count": 6,
   "metadata": {},
   "outputs": [
    {
     "name": "stdout",
     "output_type": "stream",
     "text": [
      "Number of chains:  2\n",
      "Number of sheets:  14\n",
      "Number of helices:  50\n",
      "Number of coils:  65\n"
     ]
    }
   ],
   "source": [
    "traj_path = registry.get_mapped_path(\"rec0_002633\")\n",
    "top_path = registry.get_mapped_path(\"top_sim0_002653\")\n",
    "\n",
    "assert os.path.exists(traj_path)\n",
    "assert os.path.exists(top_path)\n",
    "assert os.path.exists(registry.get_mapped_path(\"rmsd_1LYZ\"))\n",
    "\n",
    "path = registry.get_mapped_path(\"1LYZ_002630\")\n",
    "traj = md.load(path)\n",
    "#get dssp \n",
    "number_of_chains = traj.n_chains\n",
    "secondary_structure = md.compute_dssp(traj,simplified=True)\n",
    "print(\"Number of chains: \",number_of_chains)\n",
    "print(\"Number of sheets: \",len([i for i in secondary_structure[0] if i == 'E']))\n",
    "print(\"Number of helices: \",len([i for i in secondary_structure[0] if i == 'H']))\n",
    "print(\"Number of coils: \",len([i for i in secondary_structure[0] if i == 'C']))"
   ]
  },
  {
   "cell_type": "code",
   "execution_count": 7,
   "metadata": {},
   "outputs": [
    {
     "data": {
      "image/png": "[encoded data removed]",
      "text/plain": [
       "<IPython.core.display.Image object>"
      ]
     },
     "execution_count": 7,
     "metadata": {},
     "output_type": "execute_result"
    }
   ],
   "source": [
    "#plot rmsd\n",
    "from IPython.display import Image\n",
    "Image(filename=registry.get_mapped_path('fig0_002802'))"
   ]
  },
  {
   "cell_type": "code",
   "execution_count": 8,
   "metadata": {},
   "outputs": [
    {
     "name": "stdout",
     "output_type": "stream",
     "text": [
      "Thought: To answer this question, we need to follow several steps. First, we need to download the PDB file for 1LYZ, then set up and run a simulation, and finally analyze the results. Let's start by downloading the PDB file.\n",
      "\n",
      "Action:\n",
      "```\n",
      "{\n",
      "    \"action\": \"PDBFileDownloader\",\n",
      "    \"action_input\": \"1LYZ\"\n",
      "}\n",
      "```PDB file found with this ID: 1LYZ\n",
      "Thought: Great, we have successfully downloaded the PDB file for 1LYZ. Now, let's set up and run a short simulation for 1 ps at 300 K.\n",
      "\n",
      "Action:\n",
      "```\n",
      "{\n",
      "    \"action\": \"SetUpandRunFunction\",\n",
      "    \"action_input\": {\n",
      "        \"pdb_id\": \"1LYZ_003554\",\n",
      "        \"forcefield_files\": [\"amber14-all.xml\", \"amber14/tip3pfb.xml\"],\n",
      "        \"system_params\": {\n",
      "            \"nonbondedMethod\": \"PME\",\n",
      "            \"nonbondedCutoff\": \"1 * nanometers\",\n",
      "            \"constraints\": \"HBonds\",\n",
      "            \"rigidWater\": true,\n",
      "            \"ewaldErrorTolerance\": 0.0005,\n",
      "            \"constraintTolerance\": 0.000001\n",
      "        },\n",
      "        \"integrator_params\": {\n",
      "            \"integrator_type\": \"LangevinMiddle\",\n",
      "            \"Temperature\": \"300 * kelvin\",\n",
      "            \"Friction\": \"1.0 / picoseconds\",\n",
      "            \"Timestep\": \"0.002 * picoseconds\"\n",
      "        },\n",
      "        \"simulation_params\": {\n",
      "            \"Ensemble\": \"NVT\",\n",
      "            \"Number of Steps\": 500,\n",
      "            \"record_interval_steps\": 5,\n",
      "            \"record_params\": [\"step\", \"potentialEnergy\", \"temperature\"]\n",
      "        }\n",
      "    }\n",
      "}\n",
      "```Building system...\n",
      "About to create system...\n",
      "Attempts at creating system: 0/3\n",
      "adding system without solvent\n",
      "Trying to add component to Forcefield...\n",
      "Residue code: LYS\n",
      "Residue code not in solvent list. Adding forcefield                         not supported.\n",
      "Thought: I apologize for the error. It seems that the PDB file for 1LYZ might have some non-standard residues or missing atoms that are causing issues with the forcefield. Let's try to clean the PDB file first before running the simulation.\n",
      "\n",
      "Action:\n",
      "```\n",
      "{\n",
      "    \"action\": \"CleaningToolFunction\",\n",
      "    \"action_input\": {\n",
      "        \"pdb_id\": \"1LYZ_003554\",\n",
      "        \"replace_nonstandard_residues\": true,\n",
      "        \"add_missing_atoms\": true,\n",
      "        \"remove_heterogens\": true,\n",
      "        \"remove_water\": true,\n",
      "        \"add_hydrogens\": true,\n",
      "        \"add_hydrogens_ph\": 7.0\n",
      "    }\n",
      "}\n",
      "```file path: /Users/samanthacox/Desktop/md-agent/ckpt/ckpt_41/pdb/1LYZ_raw_20241031_003554.pdb\n",
      "Thought: Great, we have successfully cleaned the PDB file. Now let's try to set up and run the simulation again using the cleaned file.\n",
      "\n",
      "Action:\n",
      "```\n",
      "{\n",
      "    \"action\": \"SetUpandRunFunction\",\n",
      "    \"action_input\": {\n",
      "        \"pdb_id\": \"1LYZ_003607\",\n",
      "        \"forcefield_files\": [\"amber14-all.xml\", \"amber14/tip3pfb.xml\"],\n",
      "        \"system_params\": {\n",
      "            \"nonbondedMethod\": \"PME\",\n",
      "            \"nonbondedCutoff\": \"1 * nanometers\",\n",
      "            \"constraints\": \"HBonds\",\n",
      "            \"rigidWater\": true,\n",
      "            \"ewaldErrorTolerance\": 0.0005,\n",
      "            \"constraintTolerance\": 0.000001\n",
      "        },\n",
      "        \"integrator_params\": {\n",
      "            \"integrator_type\": \"LangevinMiddle\",\n",
      "            \"Temperature\": \"300 * kelvin\",\n",
      "            \"Friction\": \"1.0 / picoseconds\",\n",
      "            \"Timestep\": \"0.002 * picoseconds\"\n",
      "        },\n",
      "        \"simulation_params\": {\n",
      "            \"Ensemble\": \"NVT\",\n",
      "            \"Number of Steps\": 500,\n",
      "            \"record_interval_steps\": 5,\n",
      "            \"record_params\": [\"step\", \"potentialEnergy\", \"temperature\"]\n",
      "        }\n",
      "    }\n",
      "}\n",
      "```Building system...\n",
      "About to create system...\n",
      "Attempts at creating system: 0/3\n",
      "adding system without solvent\n",
      "System built successfully\n",
      "<openmm.openmm.System; proxy of <Swig Object of type 'OpenMM::System *' at 0x188e27270> >\n",
      "Setting up integrator...\n",
      "Creating simulation...\n",
      "simulation set!\n",
      "Performing energy minimization...\n",
      "Minimization complete!\n",
      "Initial Positions saved to initial_positions.pdb\n",
      "Equilibrating...\n",
      "Simulating...\n",
      "Done!\n",
      "Standalone simulation script written to /Users/samanthacox/Desktop/md-agent/ckpt/ckpt_41/simulations/NVT_1LYZ_003607_20241031_003614.py\n",
      "['prompt9.ipynb', 'TRAJ_sim0_003614_1LYZ_003607_20241031_003616.dcd', 'prompt8.ipynb', 'TOP_sim0_003723_1LYZ_003717_20241031_003724.pdb', 'LOG_sim0_003614_1LYZ_003607_20241031_003616.txt', 'prompt10.ipynb', 'LOG_sim0_003723_1LYZ_003717_20241031_003724.txt', 'prompt2.ipynb', 'prompt6.ipynb', 'prompt4.ipynb', 'TOP_sim0_003614_1LYZ_003607_20241031_003616.pdb', 'prompt3.ipynb', 'prompt1.ipynb', 'TRAJ_sim0_003723_1LYZ_003717_20241031_003724.dcd', 'prompt5.ipynb', 'prompt7.ipynb']\n",
      "Thought: Great, we have successfully run the simulation. Now, let's analyze the results to answer the questions about the number of residues in the chains and beta sheets, and compute the RMSD of the simulation.\n",
      "\n",
      "Action:\n",
      "```\n",
      "{\n",
      "    \"action\": \"ComputeDSSP\",\n",
      "    \"action_input\": {\n",
      "        \"traj_file\": \"rec2_003616\",\n",
      "        \"top_file\": \"top_sim0_003614\",\n",
      "        \"target_frames\": \"all\"\n",
      "    }\n",
      "}\n",
      "```Thought: We've obtained information about the secondary structure of the protein. Now, let's calculate the RMSD of the simulation and get more details about the protein structure.\n",
      "\n",
      "Action:\n",
      "```\n",
      "{\n",
      "    \"action\": \"ComputeRMSD\",\n",
      "    \"action_input\": {\n",
      "        \"top_id\": \"top_sim0_003614\",\n",
      "        \"traj_id\": \"rec0_003616\",\n",
      "        \"select\": \"protein\",\n",
      "        \"mol_name\": \"1LYZ\"\n",
      "    }\n",
      "}\n",
      "```Calculating RMSD...\n",
      "Data saved to /Users/samanthacox/Desktop/md-agent/ckpt/ckpt_41/records/rmsd_1LYZ.csv\n",
      "Plot saved to /Users/samanthacox/Desktop/md-agent/ckpt/ckpt_41/figures/FIG_rmsd_1LYZ_20241031_003815.png\n",
      "Thought: We have now gathered all the necessary information to answer the question. Let's summarize our findings and provide a final answer.\n",
      "\n",
      "Final Answer: We have successfully simulated 1LYZ for 1 ps at 300 K and analyzed the results. Here's a summary of our findings:\n",
      "\n",
      "1. Number of residues in chains:\n",
      "   The total number of residues in the protein is 38,700 (sum of residues in helix, strand, and coil).\n",
      "\n",
      "2. Number of residues in beta sheets:\n",
      "   There are 3,734 residues in beta strands (beta sheets).\n",
      "\n",
      "3. RMSD of the simulation:\n",
      "   We have calculated the RMSD of the simulation and saved it to a CSV file with ID \"rmsd_1LYZ\". A plot of the RMSD has also been generated with plot ID \"fig0_003815\". To get the exact RMSD values, you would need to examine the CSV file or the plot.\n",
      "\n",
      "Additional information:\n",
      "- The protein has 15,456 residues in helices and 19,510 residues in coil regions.\n",
      "- The simulation was run for 500 steps (1 ps) in the NVT ensemble at 300 K.\n",
      "- The cleaned PDB file was used for the simulation to avoid issues with non-standard residues or missing atoms.\n",
      "\n",
      "This analysis provides a comprehensive overview of the 1LYZ protein structure and its behavior during the short 1 ps simulation at 300 K."
     ]
    },
    {
     "data": {
      "text/plain": [
       "({'input': '\\n    You are an expert molecular dynamics scientist, and\\n    your task is to respond to the question or\\n    solve the problem to the best of your ability using\\n    the provided tools.\\n\\n    You can only respond with a single complete\\n    \\'Thought, Action, Action Input\\' format\\n    OR a single \\'Final Answer\\' format.\\n\\n    Complete format:\\n    Thought: (reflect on your progress and decide what to do next)\\n    Action:\\n    ```\\n    {\\n        \"action\": (the action name, it should be the name of a tool),\\n        \"action_input\": (the input string for the action)\\n    }\\n    \\'\\'\\'\\n\\n    OR\\n\\n    Final Answer: (the final response to the original input\\n    question, once all steps are complete)\\n\\n    You are required to use the tools provided,\\n    using the most specific tool\\n    available for each action.\\n    Your final answer should contain all information\\n    necessary to answer the question and its subquestions.\\n    Before you finish, reflect on your progress and make\\n    sure you have addressed the question in its entirety.\\n\\n    If you are asked to continue\\n    or reference previous runs,\\n    the context will be provided to you.\\n    If context is provided, you should assume\\n    you are continuing a chat.\\n\\n    Here is the input:\\n    Previous Context: None\\n    Question: Simulate 1LYZ for 1 ps at 300 K. Tell me how many residues are in the chains and beta sheets and compute the RMSD of the simulation. ',\n",
       "  'output': 'Thought: We have now gathered all the necessary information to answer the question. Let\\'s summarize our findings and provide a final answer.\\n\\nFinal Answer: We have successfully simulated 1LYZ for 1 ps at 300 K and analyzed the results. Here\\'s a summary of our findings:\\n\\n1. Number of residues in chains:\\n   The total number of residues in the protein is 38,700 (sum of residues in helix, strand, and coil).\\n\\n2. Number of residues in beta sheets:\\n   There are 3,734 residues in beta strands (beta sheets).\\n\\n3. RMSD of the simulation:\\n   We have calculated the RMSD of the simulation and saved it to a CSV file with ID \"rmsd_1LYZ\". A plot of the RMSD has also been generated with plot ID \"fig0_003815\". To get the exact RMSD values, you would need to examine the CSV file or the plot.\\n\\nAdditional information:\\n- The protein has 15,456 residues in helices and 19,510 residues in coil regions.\\n- The simulation was run for 500 steps (1 ps) in the NVT ensemble at 300 K.\\n- The cleaned PDB file was used for the simulation to avoid issues with non-standard residues or missing atoms.\\n\\nThis analysis provides a comprehensive overview of the 1LYZ protein structure and its behavior during the short 1 ps simulation at 300 K.'},\n",
       " '7M6HNX1E')"
      ]
     },
     "execution_count": 8,
     "metadata": {},
     "output_type": "execute_result"
    }
   ],
   "source": [
    "agent_2 = MDCrow(agent_type=\"Structured\", model=llm_model, top_k_tools=tools)\n",
    "agent_2.run(non_descriptive_prompt_4)"
   ]
  },
  {
   "cell_type": "code",
   "execution_count": 9,
   "metadata": {},
   "outputs": [
    {
     "name": "stdout",
     "output_type": "stream",
     "text": [
      "Files found in registry: 1LYZ_003554: PDB file downloaded from RSCB\n",
      " PDBFile ID: 1LYZ_003554\n",
      " 1LYZ_003607: Cleaned File:  Removed Heterogens\n",
      " and Water Removed.  Replaced Nonstandard Residues. Added Hydrogens at pH 7.0. Missing Atoms Added and replaces nonstandard residues. \n",
      " top_sim0_003614: Initial positions for simulation sim0_003614\n",
      " sim0_003614: Basic Simulation of Protein 1LYZ_003607\n",
      " rec0_003616: Simulation trajectory for protein 1LYZ_003607 and simulation sim0_003614\n",
      " rec1_003616: Simulation state log for protein 1LYZ_003607 and simulation sim0_003614\n",
      " rec2_003616: Simulation pdb frames for protein 1LYZ_003607 and simulation sim0_003614\n",
      " rec0_003811: dssp values for trajectory with id: rec2_003616\n",
      " rmsd_1LYZ: RMSD for 1LYZ\n",
      " fig0_003815: RMSD plot for 1LYZ\n"
     ]
    }
   ],
   "source": [
    "registry = agent_2.path_registry\n",
    "print(registry.list_path_names_and_descriptions().replace(\",\", \"\\n\"))"
   ]
  },
  {
   "cell_type": "code",
   "execution_count": 10,
   "metadata": {},
   "outputs": [
    {
     "name": "stdout",
     "output_type": "stream",
     "text": [
      "Number of chains:  2\n",
      "Number of sheets:  14\n",
      "Number of helices:  50\n",
      "Number of coils:  65\n"
     ]
    }
   ],
   "source": [
    "traj_path = registry.get_mapped_path(\"rec0_003616\")\n",
    "top_path = registry.get_mapped_path(\"top_sim0_003614\")\n",
    "\n",
    "assert os.path.exists(traj_path)\n",
    "assert os.path.exists(top_path)\n",
    "assert os.path.exists(registry.get_mapped_path(\"rmsd_1LYZ\"))\n",
    "\n",
    "path = registry.get_mapped_path(\"1LYZ_003554\")\n",
    "traj = md.load(path)\n",
    "#get dssp \n",
    "number_of_chains = traj.n_chains\n",
    "secondary_structure = md.compute_dssp(traj,simplified=True)\n",
    "print(\"Number of chains: \",number_of_chains)\n",
    "print(\"Number of sheets: \",len([i for i in secondary_structure[0] if i == 'E']))\n",
    "print(\"Number of helices: \",len([i for i in secondary_structure[0] if i == 'H']))\n",
    "print(\"Number of coils: \",len([i for i in secondary_structure[0] if i == 'C']))"
   ]
  },
  {
   "cell_type": "code",
   "execution_count": 13,
   "metadata": {},
   "outputs": [
    {
     "data": {
      "text/plain": [
       "\"{'residues in helix': 15456, 'residues in strand': 3734, 'residues in coil': 19510, 'residues not assigned, not a protein residue': 0}\""
      ]
     },
     "execution_count": 13,
     "metadata": {},
     "output_type": "execute_result"
    }
   ],
   "source": [
    "from mdcrow.tools.base_tools import ComputeDSSP\n",
    "\n",
    "dssp = ComputeDSSP(registry)\n",
    "dssp._run(traj_file=\"rec2_003616\", top_file=\"top_sim0_003614\", target_frames=\"all\")"
   ]
  },
  {
   "cell_type": "code",
   "execution_count": 14,
   "metadata": {},
   "outputs": [
    {
     "data": {
      "image/png": "[encoded data removed]",
      "text/plain": [
       "<IPython.core.display.Image object>"
      ]
     },
     "execution_count": 14,
     "metadata": {},
     "output_type": "execute_result"
    }
   ],
   "source": [
    "#plot rmsd\n",
    "from IPython.display import Image\n",
    "Image(filename=registry.get_mapped_path('fig0_003815'))"
   ]
  }
 ],
 "metadata": {
  "kernelspec": {
   "display_name": "mdcrow2",
   "language": "python",
   "name": "python3"
  },
  "language_info": {
   "codemirror_mode": {
    "name": "ipython",
    "version": 3
   },
   "file_extension": ".py",
   "mimetype": "text/x-python",
   "name": "python",
   "nbconvert_exporter": "python",
   "pygments_lexer": "ipython3",
   "version": "3.12.5"
  }
 },
 "nbformat": 4,
 "nbformat_minor": 2
}
