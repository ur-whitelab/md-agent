{
 "cells": [
  {
   "cell_type": "code",
   "execution_count": 1,
   "metadata": {},
   "outputs": [],
   "source": [
    "from mdcrow import MDCrow"
   ]
  },
  {
   "cell_type": "code",
   "execution_count": 2,
   "metadata": {},
   "outputs": [],
   "source": [
    "descriptive_prompt_2 = \"Complete all of the following tasks: 1. Download the PDB file 1LYZ. 2. Tell me how many residues are in the chains and beta sheets.\"\n",
    "non_descriptive_prompt_2 = \"Download the PDB file 1LYZ. Tell me how many residues are in the chains and beta sheets.\""
   ]
  },
  {
   "cell_type": "markdown",
   "metadata": {},
   "source": [
    "Required Tasks:\n",
    "- Download\n",
    "- SS Analysis"
   ]
  },
  {
   "cell_type": "code",
   "execution_count": 3,
   "metadata": {},
   "outputs": [],
   "source": [
    "llm_model = \"claude-3-5-sonnet-20240620\"\n",
    "tools = \"all\""
   ]
  },
  {
   "cell_type": "code",
   "execution_count": 4,
   "metadata": {},
   "outputs": [
    {
     "name": "stdout",
     "output_type": "stream",
     "text": [
      "Certainly! I'll complete the tasks step by step using the provided tools.\n",
      "\n",
      "Thought: First, I need to download the PDB file 1LYZ using the PDBFileDownloader tool.\n",
      "\n",
      "Action:\n",
      "```\n",
      "{\n",
      "    \"action\": \"PDBFileDownloader\",\n",
      "    \"action_input\": \"1LYZ\"\n",
      "}\n",
      "```PDB file found with this ID: 1LYZ\n",
      "Thought: Great, we have successfully downloaded the PDB file for 1LYZ. Now, let's analyze the structure to determine the number of residues in the chains and beta sheets. We can use the GetTurnsBetaSheetsHelices tool for this information, but first, we need to get the UniProt ID and primary accession number for the protein.\n",
      "\n",
      "Action:\n",
      "```\n",
      "{\n",
      "    \"action\": \"MapProteinRepresentation\",\n",
      "    \"action_input\": \"1LYZ\"\n",
      "}\n",
      "```Job is running. Retrying in 3s.\n",
      "Thought: I apologize for the confusion. It seems that the MapProteinRepresentation tool didn't return any results for the PDB ID 1LYZ. Let's try a different approach by using the SummarizeProteinStructure tool to get information about the protein structure directly from the PDB file we downloaded.\n",
      "\n",
      "Action:\n",
      "```\n",
      "{\n",
      "    \"action\": \"SummarizeProteinStructure\",\n",
      "    \"action_input\": {\n",
      "        \"traj_file\": \"1LYZ_001617\",\n",
      "        \"top_file\": \"1LYZ_001617\"\n",
      "    }\n",
      "}\n",
      "```Thought: We've obtained some basic information about the protein structure, but we still need to get the specific details about the beta sheets. Let's use the ComputeDSSP tool to get more detailed secondary structure information, including beta sheets.\n",
      "\n",
      "Action:\n",
      "```\n",
      "{\n",
      "    \"action\": \"ComputeDSSP\",\n",
      "    \"action_input\": {\n",
      "        \"traj_file\": \"1LYZ_001617\",\n",
      "        \"top_file\": \"1LYZ_001617\",\n",
      "        \"target_frames\": \"all\"\n",
      "    }\n",
      "}\n",
      "```Thought: Now that we have gathered all the necessary information, I can provide a final answer to the question.\n",
      "\n",
      "Final Answer: I have completed the tasks as requested:\n",
      "\n",
      "1. The PDB file 1LYZ has been successfully downloaded.\n",
      "\n",
      "2. Regarding the number of residues in the chains and beta sheets:\n",
      "\n",
      "   - Total number of residues: 230\n",
      "   - Number of chains: 2\n",
      "   - Number of residues in beta sheets (strands): 14\n",
      "\n",
      "To break it down further:\n",
      "- The protein structure contains 230 residues distributed across 2 chains.\n",
      "- Out of these 230 residues:\n",
      "  - 14 residues are part of beta sheets (strands)\n",
      "  - 50 residues are in helices\n",
      "  - 65 residues are in coil structures\n",
      "  - 101 residues were not assigned or are not protein residues (this could include water molecules, ligands, or other non-protein components)\n",
      "\n",
      "It's worth noting that the sum of assigned residues (14 + 50 + 65 = 129) plus the unassigned residues (101) equals the total number of residues (230), which confirms the consistency of our analysis."
     ]
    },
    {
     "data": {
      "text/plain": [
       "({'input': '\\n    You are an expert molecular dynamics scientist, and\\n    your task is to respond to the question or\\n    solve the problem to the best of your ability using\\n    the provided tools.\\n\\n    You can only respond with a single complete\\n    \\'Thought, Action, Action Input\\' format\\n    OR a single \\'Final Answer\\' format.\\n\\n    Complete format:\\n    Thought: (reflect on your progress and decide what to do next)\\n    Action:\\n    ```\\n    {\\n        \"action\": (the action name, it should be the name of a tool),\\n        \"action_input\": (the input string for the action)\\n    }\\n    \\'\\'\\'\\n\\n    OR\\n\\n    Final Answer: (the final response to the original input\\n    question, once all steps are complete)\\n\\n    You are required to use the tools provided,\\n    using the most specific tool\\n    available for each action.\\n    Your final answer should contain all information\\n    necessary to answer the question and its subquestions.\\n    Before you finish, reflect on your progress and make\\n    sure you have addressed the question in its entirety.\\n\\n    If you are asked to continue\\n    or reference previous runs,\\n    the context will be provided to you.\\n    If context is provided, you should assume\\n    you are continuing a chat.\\n\\n    Here is the input:\\n    Previous Context: None\\n    Question: Complete all of the following tasks: 1. Download the PDB file 1LYZ. 2. Tell me how many residues are in the chains and beta sheets. ',\n",
       "  'output': \"Thought: Now that we have gathered all the necessary information, I can provide a final answer to the question.\\n\\nFinal Answer: I have completed the tasks as requested:\\n\\n1. The PDB file 1LYZ has been successfully downloaded.\\n\\n2. Regarding the number of residues in the chains and beta sheets:\\n\\n   - Total number of residues: 230\\n   - Number of chains: 2\\n   - Number of residues in beta sheets (strands): 14\\n\\nTo break it down further:\\n- The protein structure contains 230 residues distributed across 2 chains.\\n- Out of these 230 residues:\\n  - 14 residues are part of beta sheets (strands)\\n  - 50 residues are in helices\\n  - 65 residues are in coil structures\\n  - 101 residues were not assigned or are not protein residues (this could include water molecules, ligands, or other non-protein components)\\n\\nIt's worth noting that the sum of assigned residues (14 + 50 + 65 = 129) plus the unassigned residues (101) equals the total number of residues (230), which confirms the consistency of our analysis.\"},\n",
       " 'J819G1B6')"
      ]
     },
     "execution_count": 4,
     "metadata": {},
     "output_type": "execute_result"
    }
   ],
   "source": [
    "agent_1 = MDCrow(agent_type=\"Structured\", model=llm_model, top_k_tools=tools)\n",
    "agent_1.run(descriptive_prompt_2)"
   ]
  },
  {
   "cell_type": "code",
   "execution_count": 5,
   "metadata": {},
   "outputs": [
    {
     "name": "stdout",
     "output_type": "stream",
     "text": [
      "Files found in registry: 1LYZ_001617: PDB file downloaded from RSCB, PDBFile ID: 1LYZ_001617, rec0_001632: dssp values for trajectory with id: 1LYZ_001617\n"
     ]
    }
   ],
   "source": [
    "registry = agent_1.path_registry\n",
    "print(registry.list_path_names_and_descriptions())"
   ]
  },
  {
   "cell_type": "code",
   "execution_count": 6,
   "metadata": {},
   "outputs": [
    {
     "data": {
      "text/plain": [
       "\"{'residues in helix': 50, 'residues in strand': 14, 'residues in coil': 65, 'residues not assigned, not a protein residue': 101}\""
      ]
     },
     "execution_count": 6,
     "metadata": {},
     "output_type": "execute_result"
    }
   ],
   "source": [
    "from mdcrow.tools.base_tools import ComputeDSSP\n",
    "\n",
    "dssp = ComputeDSSP(registry)\n",
    "dssp._run(traj_file= \"1LYZ_001617\", target_frames=\"all\")"
   ]
  },
  {
   "cell_type": "code",
   "execution_count": 8,
   "metadata": {},
   "outputs": [
    {
     "name": "stdout",
     "output_type": "stream",
     "text": [
      "Thought: To answer this question, I need to first download the PDB file 1LYZ, then analyze its structure to determine the number of residues in the chains and beta sheets. Let's start by downloading the file.\n",
      "\n",
      "Action:\n",
      "```\n",
      "{\n",
      "    \"action\": \"PDBFileDownloader\",\n",
      "    \"action_input\": \"1LYZ\"\n",
      "}\n",
      "```PDB file found with this ID: 1LYZ\n",
      "Thought: Now that we have downloaded the PDB file for 1LYZ, we need to analyze its structure to determine the number of residues in the chains and beta sheets. We can use the SummarizeProteinStructure tool to get information about the protein structure, including the number of residues. Then, we'll need to use the ComputeDSSP tool to get information about the secondary structure, including beta sheets.\n",
      "\n",
      "Action:\n",
      "```\n",
      "{\n",
      "    \"action\": \"SummarizeProteinStructure\",\n",
      "    \"action_input\": {\n",
      "        \"traj_file\": \"1LYZ_001826\",\n",
      "        \"top_file\": \"1LYZ_001826\"\n",
      "    }\n",
      "}\n",
      "```Thought: We now have information about the number of residues and chains in the protein. The protein has 230 residues and 2 chains. However, we still need to determine the number of residues in beta sheets. For this, we'll use the ComputeDSSP tool to analyze the secondary structure.\n",
      "\n",
      "Action:\n",
      "```\n",
      "{\n",
      "    \"action\": \"ComputeDSSP\",\n",
      "    \"action_input\": {\n",
      "        \"traj_file\": \"1LYZ_001826\",\n",
      "        \"top_file\": \"1LYZ_001826\",\n",
      "        \"target_frames\": \"all\"\n",
      "    }\n",
      "}\n",
      "```Thought: Now that we have all the necessary information, we can provide a final answer to the question.\n",
      "\n",
      "Final Answer: The PDB file 1LYZ contains a protein structure with the following characteristics:\n",
      "\n",
      "1. Number of residues in chains:\n",
      "   - Total number of residues: 230\n",
      "   - Number of chains: 2\n",
      "   \n",
      "   It's important to note that the 230 residues are distributed across the 2 chains, but we don't have information about the exact number of residues in each individual chain.\n",
      "\n",
      "2. Number of residues in beta sheets:\n",
      "   - Residues in beta strands (sheets): 14\n",
      "\n",
      "Additional information:\n",
      "- The protein structure also contains 50 residues in helices and 65 residues in coil regions.\n",
      "- There are 101 residues that were not assigned or are not protein residues, which could include ligands, water molecules, or other non-protein components in the structure.\n",
      "\n",
      "This analysis provides a comprehensive overview of the residue distribution in the chains and secondary structure elements, specifically answering the question about the number of residues in chains and beta sheets for the 1LYZ protein structure."
     ]
    },
    {
     "data": {
      "text/plain": [
       "({'input': '\\n    You are an expert molecular dynamics scientist, and\\n    your task is to respond to the question or\\n    solve the problem to the best of your ability using\\n    the provided tools.\\n\\n    You can only respond with a single complete\\n    \\'Thought, Action, Action Input\\' format\\n    OR a single \\'Final Answer\\' format.\\n\\n    Complete format:\\n    Thought: (reflect on your progress and decide what to do next)\\n    Action:\\n    ```\\n    {\\n        \"action\": (the action name, it should be the name of a tool),\\n        \"action_input\": (the input string for the action)\\n    }\\n    \\'\\'\\'\\n\\n    OR\\n\\n    Final Answer: (the final response to the original input\\n    question, once all steps are complete)\\n\\n    You are required to use the tools provided,\\n    using the most specific tool\\n    available for each action.\\n    Your final answer should contain all information\\n    necessary to answer the question and its subquestions.\\n    Before you finish, reflect on your progress and make\\n    sure you have addressed the question in its entirety.\\n\\n    If you are asked to continue\\n    or reference previous runs,\\n    the context will be provided to you.\\n    If context is provided, you should assume\\n    you are continuing a chat.\\n\\n    Here is the input:\\n    Previous Context: None\\n    Question: Download the PDB file 1LYZ. Tell me how many residues are in the chains and beta sheets. ',\n",
       "  'output': \"Thought: Now that we have all the necessary information, we can provide a final answer to the question.\\n\\nFinal Answer: The PDB file 1LYZ contains a protein structure with the following characteristics:\\n\\n1. Number of residues in chains:\\n   - Total number of residues: 230\\n   - Number of chains: 2\\n   \\n   It's important to note that the 230 residues are distributed across the 2 chains, but we don't have information about the exact number of residues in each individual chain.\\n\\n2. Number of residues in beta sheets:\\n   - Residues in beta strands (sheets): 14\\n\\nAdditional information:\\n- The protein structure also contains 50 residues in helices and 65 residues in coil regions.\\n- There are 101 residues that were not assigned or are not protein residues, which could include ligands, water molecules, or other non-protein components in the structure.\\n\\nThis analysis provides a comprehensive overview of the residue distribution in the chains and secondary structure elements, specifically answering the question about the number of residues in chains and beta sheets for the 1LYZ protein structure.\"},\n",
       " 'MXA5FW5D')"
      ]
     },
     "execution_count": 8,
     "metadata": {},
     "output_type": "execute_result"
    }
   ],
   "source": [
    "agent_2 = MDCrow(agent_type=\"Structured\", model=llm_model, top_k_tools=tools)\n",
    "agent_2.run(non_descriptive_prompt_2)"
   ]
  },
  {
   "cell_type": "code",
   "execution_count": 9,
   "metadata": {},
   "outputs": [
    {
     "name": "stdout",
     "output_type": "stream",
     "text": [
      "Files found in registry: 1LYZ_001826: PDB file downloaded from RSCB, PDBFile ID: 1LYZ_001826, rec0_001833: dssp values for trajectory with id: 1LYZ_001826\n"
     ]
    }
   ],
   "source": [
    "registry = agent_2.path_registry\n",
    "print(registry.list_path_names_and_descriptions())"
   ]
  },
  {
   "cell_type": "code",
   "execution_count": 10,
   "metadata": {},
   "outputs": [
    {
     "data": {
      "text/plain": [
       "\"{'residues in helix': 50, 'residues in strand': 14, 'residues in coil': 65, 'residues not assigned, not a protein residue': 101}\""
      ]
     },
     "execution_count": 10,
     "metadata": {},
     "output_type": "execute_result"
    }
   ],
   "source": [
    "from mdcrow.tools.base_tools import ComputeDSSP\n",
    "\n",
    "dssp = ComputeDSSP(registry)\n",
    "dssp._run(traj_file= \"1LYZ_001826\", target_frames=\"all\")"
   ]
  }
 ],
 "metadata": {
  "kernelspec": {
   "display_name": "mdcrow2",
   "language": "python",
   "name": "python3"
  },
  "language_info": {
   "codemirror_mode": {
    "name": "ipython",
    "version": 3
   },
   "file_extension": ".py",
   "mimetype": "text/x-python",
   "name": "python",
   "nbconvert_exporter": "python",
   "pygments_lexer": "ipython3",
   "version": "3.12.5"
  }
 },
 "nbformat": 4,
 "nbformat_minor": 2
}
