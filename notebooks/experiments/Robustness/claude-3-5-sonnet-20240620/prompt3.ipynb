{
 "cells": [
  {
   "cell_type": "code",
   "execution_count": 1,
   "metadata": {},
   "outputs": [],
   "source": [
    "from mdagent import MDAgent\n",
    "import os \n",
    "import mdtraj as md"
   ]
  },
  {
   "cell_type": "code",
   "execution_count": 2,
   "metadata": {},
   "outputs": [
    {
     "data": {
      "text/plain": [
       "('Complete all of the following tasks: 1. Download the PDB file 1LYZ. 2. Report the secondary structure assignments of the downloaded PDB structure. 3. Simulate for 1ps at 300 K.',\n",
       " 'Simulate 1LYZ for 1ps at 300 K. Report the secondary structure assignments of the downloaded PDB structure.')"
      ]
     },
     "execution_count": 2,
     "metadata": {},
     "output_type": "execute_result"
    }
   ],
   "source": [
    "import sys\n",
    "import os\n",
    "parent_dir = os.path.abspath(os.path.join(os.getcwd(), '..'))\n",
    "sys.path.append(parent_dir)\n",
    "from robustness_prompts import get_prompt\n",
    "\n",
    "prompt_3_descriptive = get_prompt(\"descriptive\", 3)\n",
    "prompt_3_natural = get_prompt(\"natural\", 3)\n",
    "\n",
    "prompt_3_descriptive, prompt_3_natural"
   ]
  },
  {
   "cell_type": "code",
   "execution_count": 3,
   "metadata": {},
   "outputs": [],
   "source": [
    "llm_model = \"claude-3-5-sonnet-20240620\"\n",
    "tools = \"all\""
   ]
  },
  {
   "cell_type": "code",
   "execution_count": 4,
   "metadata": {},
   "outputs": [
    {
     "name": "stdout",
     "output_type": "stream",
     "text": [
      "Thought: To complete these tasks, I'll need to use several tools in sequence. Let's start with downloading the PDB file 1LYZ.\n",
      "\n",
      "Action:\n",
      "```\n",
      "{\n",
      "    \"action\": \"PDBFileDownloader\",\n",
      "    \"action_input\": \"1LYZ\"\n",
      "}\n",
      "```PDB file found with this ID: 1LYZ\n",
      "Thought: Great, we've successfully downloaded the PDB file for 1LYZ. Now, let's move on to reporting the secondary structure assignments of this downloaded structure.\n",
      "\n",
      "Action:\n",
      "```\n",
      "{\n",
      "    \"action\": \"ComputeDSSP\",\n",
      "    \"action_input\": {\n",
      "        \"traj_file\": \"1LYZ_222620\",\n",
      "        \"top_file\": \"1LYZ_222620\",\n",
      "        \"target_frames\": \"first\"\n",
      "    }\n",
      "}\n",
      "```Thought: We've successfully obtained the secondary structure assignments for 1LYZ. Now, let's proceed with the final task of simulating the protein for 1ps at 300 K.\n",
      "\n",
      "Action:\n",
      "```\n",
      "{\n",
      "    \"action\": \"SetUpandRunFunction\",\n",
      "    \"action_input\": {\n",
      "        \"pdb_id\": \"1LYZ_222620\",\n",
      "        \"forcefield_files\": [\"amber14-all.xml\", \"amber14/tip3pfb.xml\"],\n",
      "        \"system_params\": {\n",
      "            \"nonbondedMethod\": \"PME\",\n",
      "            \"nonbondedCutoff\": \"1 * nanometers\",\n",
      "            \"constraints\": \"HBonds\",\n",
      "            \"rigidWater\": true,\n",
      "            \"ewaldErrorTolerance\": 0.0005,\n",
      "            \"constraintTolerance\": 0.000001\n",
      "        },\n",
      "        \"integrator_params\": {\n",
      "            \"integrator_type\": \"LangevinMiddle\",\n",
      "            \"Temperature\": \"300 * kelvin\",\n",
      "            \"Friction\": \"1.0 / picoseconds\",\n",
      "            \"Timestep\": \"0.002 * picoseconds\"\n",
      "        },\n",
      "        \"simulation_params\": {\n",
      "            \"Ensemble\": \"NVT\",\n",
      "            \"Number of Steps\": 500,\n",
      "            \"record_interval_steps\": 5,\n",
      "            \"record_params\": [\"step\", \"potentialEnergy\", \"temperature\"]\n",
      "        }\n",
      "    }\n",
      "}\n",
      "```\n",
      "\n",
      "Building system...\n",
      "About to create system...\n",
      "Attempts at creating system: 0/3\n",
      "adding system without solvent\n",
      "Trying to add component to Forcefield...\n",
      "Residue code: LYS\n",
      "Residue code not in solvent list. Adding forcefield                         not supported.\n",
      "Thought: I apologize for the error. It seems the PDB file we downloaded might have some missing atoms or non-standard residues that are causing issues with the simulation setup. To resolve this, we should first clean the PDB file using the CleaningToolFunction, which can add missing atoms and replace non-standard residues. After cleaning, we'll attempt the simulation again.\n",
      "\n",
      "Action:\n",
      "```\n",
      "{\n",
      "    \"action\": \"CleaningToolFunction\",\n",
      "    \"action_input\": {\n",
      "        \"pdb_id\": \"1LYZ_222620\",\n",
      "        \"replace_nonstandard_residues\": true,\n",
      "        \"add_missing_atoms\": true,\n",
      "        \"remove_heterogens\": true,\n",
      "        \"remove_water\": true,\n",
      "        \"add_hydrogens\": true,\n",
      "        \"add_hydrogens_ph\": 7.0\n",
      "    }\n",
      "}\n",
      "```file path: /Users/samanthacox/Desktop/md-agent/ckpt/ckpt_8/pdb/1LYZ_raw_20250123_222620.pdb\n",
      "Thought: Great, we've successfully cleaned the PDB file. Now let's try to set up and run the simulation again using the cleaned file.\n",
      "\n",
      "Action:\n",
      "```\n",
      "{\n",
      "    \"action\": \"SetUpandRunFunction\",\n",
      "    \"action_input\": {\n",
      "        \"pdb_id\": \"1LYZ_222636\",\n",
      "        \"forcefield_files\": [\"amber14-all.xml\", \"amber14/tip3pfb.xml\"],\n",
      "        \"system_params\": {\n",
      "            \"nonbondedMethod\": \"PME\",\n",
      "            \"nonbondedCutoff\": \"1 * nanometers\",\n",
      "            \"constraints\": \"HBonds\",\n",
      "            \"rigidWater\": true,\n",
      "            \"ewaldErrorTolerance\": 0.0005,\n",
      "            \"constraintTolerance\": 0.000001\n",
      "        },\n",
      "        \"integrator_params\": {\n",
      "            \"integrator_type\": \"LangevinMiddle\",\n",
      "            \"Temperature\": \"300 * kelvin\",\n",
      "            \"Friction\": \"1.0 / picoseconds\",\n",
      "            \"Timestep\": \"0.002 * picoseconds\"\n",
      "        },\n",
      "        \"simulation_params\": {\n",
      "            \"Ensemble\": \"NVT\",\n",
      "            \"Number of Steps\": 500,\n",
      "            \"record_interval_steps\": 5,\n",
      "            \"record_params\": [\"step\", \"potentialEnergy\", \"temperature\"]\n",
      "        }\n",
      "    }\n",
      "}\n",
      "```Building system...\n",
      "About to create system...\n",
      "Attempts at creating system: 0/3\n",
      "adding system without solvent\n",
      "System built successfully\n",
      "<openmm.openmm.System; proxy of <Swig Object of type 'OpenMM::System *' at 0x1892d62b0> >\n",
      "Setting up integrator...\n",
      "Creating simulation...\n",
      "simulation set!\n",
      "Performing energy minimization...\n",
      "Minimization complete!\n",
      "Initial Positions saved to initial_positions.pdb\n",
      "Equilibrating...\n",
      "Simulating...\n",
      "Done!\n",
      "Constraints must be set to 'None' for LangevinMiddle integrator.\n",
      "LangevinMiddle constraints:  HBonds\n",
      "Standalone simulation script written to /Users/samanthacox/Desktop/md-agent/ckpt/ckpt_8/simulations/NVT_1LYZ_222636_20250123_222641.py\n",
      "['prompt9.ipynb', 'prompt8.ipynb', 'TOP_sim0_222641_1LYZ_222636_20250123_222641.pdb', 'LOG_sim0_222641_1LYZ_222636_20250123_222641.txt', 'prompt10.ipynb', 'prompt2.ipynb', 'prompt6.ipynb', 'prompt4.ipynb', 'prompt3.ipynb', 'prompt1.ipynb', 'prompt5.ipynb', 'TRAJ_sim0_222641_1LYZ_222636_20250123_222641.dcd', 'prompt7.ipynb']\n",
      "Thought: Excellent! We have successfully completed all the tasks. Now, let's summarize our findings and provide a final answer to the original question.\n",
      "\n",
      "Action:\n",
      "```\n",
      "{\n",
      "  \"action\": \"Final Answer\",\n",
      "  \"action_input\": \"We have successfully completed all the requested tasks:\n",
      "\n",
      "1. Download the PDB file 1LYZ:\n",
      "   We downloaded the PDB file for 1LYZ, which was initially saved with the ID '1LYZ_222620'.\n",
      "\n",
      "2. Report the secondary structure assignments of the downloaded PDB structure:\n",
      "   Using the ComputeDSSP tool, we analyzed the secondary structure of 1LYZ. The results are:\n",
      "   - Residues in helix: 50\n",
      "   - Residues in strand: 14\n",
      "   - Residues in coil: 65\n",
      "   - Residues not assigned or not a protein residue: 101\n",
      "\n",
      "3. Simulate for 1ps at 300 K:\n",
      "   We encountered an initial error due to missing atoms or non-standard residues in the original PDB file. To resolve this, we cleaned the PDB file using the CleaningToolFunction, which resulted in a new file with ID '1LYZ_222636'.\n",
      "\n",
      "   Using this cleaned file, we successfully set up and ran a simulation with the following parameters:\n",
      "   - Force field: amber14-all.xml and amber14/tip3pfb.xml\n",
      "   - Nonbonded method: PME\n",
      "   - Temperature: 300 K\n",
      "   - Ensemble: NVT\n",
      "   - Number of steps: 500 (equivalent to 1 ps, given the timestep of 0.002 ps)\n",
      "\n",
      "   The simulation completed successfully, generating the following outputs:\n",
      "   - Simulation trajectory (ID: rec0_222641)\n",
      "   - Simulation state log (ID: rec1_222641)\n",
      "   - Simulation PDB frames (ID: rec2_222641)\n",
      "\n",
      "   A standalone script for reproducing the simulation was also generated with ID 'sim0_222641'.\n",
      "\n",
      "All tasks have been completed as requested.\"\n",
      "}\n",
      "```"
     ]
    },
    {
     "data": {
      "text/plain": [
       "({'input': '\\n    You are an expert molecular dynamics scientist, and\\n    your task is to respond to the question or\\n    solve the problem to the best of your ability using\\n    the provided tools.\\n\\n    You can only respond with a single complete\\n    \\'Thought, Action, Action Input\\' format\\n    OR a single \\'Final Answer\\' format.\\n\\n    Complete format:\\n    Thought: (reflect on your progress and decide what to do next)\\n    Action:\\n    ```\\n    {\\n        \"action\": (the action name, it should be the name of a tool),\\n        \"action_input\": (the input string for the action)\\n    }\\n    \\'\\'\\'\\n\\n    OR\\n\\n    Final Answer: (the final response to the original input\\n    question, once all steps are complete)\\n\\n    You are required to use the tools provided,\\n    using the most specific tool\\n    available for each action.\\n    Your final answer should contain all information\\n    necessary to answer the question and its subquestions.\\n    Before you finish, reflect on your progress and make\\n    sure you have addressed the question in its entirety.\\n\\n    If you are asked to continue\\n    or reference previous runs,\\n    the context will be provided to you.\\n    If context is provided, you should assume\\n    you are continuing a chat.\\n\\n    Here is the input:\\n    Previous Context: None\\n    Question: Complete all of the following tasks: 1. Download the PDB file 1LYZ. 2. Report the secondary structure assignments of the downloaded PDB structure. 3. Simulate for 1ps at 300 K. ',\n",
       "  'output': \"We have successfully completed all the requested tasks:\\n\\n1. Download the PDB file 1LYZ:\\n   We downloaded the PDB file for 1LYZ, which was initially saved with the ID '1LYZ_222620'.\\n\\n2. Report the secondary structure assignments of the downloaded PDB structure:\\n   Using the ComputeDSSP tool, we analyzed the secondary structure of 1LYZ. The results are:\\n   - Residues in helix: 50\\n   - Residues in strand: 14\\n   - Residues in coil: 65\\n   - Residues not assigned or not a protein residue: 101\\n\\n3. Simulate for 1ps at 300 K:\\n   We encountered an initial error due to missing atoms or non-standard residues in the original PDB file. To resolve this, we cleaned the PDB file using the CleaningToolFunction, which resulted in a new file with ID '1LYZ_222636'.\\n\\n   Using this cleaned file, we successfully set up and ran a simulation with the following parameters:\\n   - Force field: amber14-all.xml and amber14/tip3pfb.xml\\n   - Nonbonded method: PME\\n   - Temperature: 300 K\\n   - Ensemble: NVT\\n   - Number of steps: 500 (equivalent to 1 ps, given the timestep of 0.002 ps)\\n\\n   The simulation completed successfully, generating the following outputs:\\n   - Simulation trajectory (ID: rec0_222641)\\n   - Simulation state log (ID: rec1_222641)\\n   - Simulation PDB frames (ID: rec2_222641)\\n\\n   A standalone script for reproducing the simulation was also generated with ID 'sim0_222641'.\\n\\nAll tasks have been completed as requested.\"},\n",
       " 'KYO4EISS')"
      ]
     },
     "execution_count": 4,
     "metadata": {},
     "output_type": "execute_result"
    }
   ],
   "source": [
    "agent_1 = MDAgent(agent_type=\"Structured\", model=llm_model, top_k_tools=tools, use_memory=False)\n",
    "agent_1.run(prompt_3_descriptive)"
   ]
  },
  {
   "cell_type": "code",
   "execution_count": 5,
   "metadata": {},
   "outputs": [
    {
     "name": "stdout",
     "output_type": "stream",
     "text": [
      "Files found in registry: 1LYZ_222620: PDB file downloaded from RSCB\n",
      " PDBFile ID: 1LYZ_222620\n",
      " rec0_222623: dssp values for trajectory with id: 1LYZ_222620\n",
      " 1LYZ_222636: Cleaned File:  Removed Heterogens\n",
      " and Water Removed.  Replaced Nonstandard Residues. Added Hydrogens at pH 7.0. Missing Atoms Added and replaces nonstandard residues. \n",
      " top_sim0_222641: Initial positions for simulation sim0_222641\n",
      " sim0_222641: Basic Simulation of Protein 1LYZ_222636\n",
      " rec0_222641: Simulation trajectory for protein 1LYZ_222636 and simulation sim0_222641\n",
      " rec1_222641: Simulation state log for protein 1LYZ_222636 and simulation sim0_222641\n",
      " rec2_222641: Simulation pdb frames for protein 1LYZ_222636 and simulation sim0_222641\n"
     ]
    }
   ],
   "source": [
    "registry_1 = agent_1.path_registry\n",
    "print(registry_1.list_path_names_and_descriptions().replace(\",\", \"\\n\"))"
   ]
  },
  {
   "cell_type": "code",
   "execution_count": 6,
   "metadata": {},
   "outputs": [],
   "source": [
    "# make sure pdb was downloaded\n",
    "assert os.path.exists(registry_1.get_mapped_path(\"1LYZ_222620\"))"
   ]
  },
  {
   "cell_type": "code",
   "execution_count": 7,
   "metadata": {},
   "outputs": [
    {
     "data": {
      "text/plain": [
       "\"{'residues in helix': 50, 'residues in strand': 14, 'residues in coil': 65, 'residues not assigned, not a protein residue': 101}\""
      ]
     },
     "execution_count": 7,
     "metadata": {},
     "output_type": "execute_result"
    }
   ],
   "source": [
    "# make sure dssp was computed correctly\n",
    "from mdagent.tools.base_tools import ComputeDSSP\n",
    "\n",
    "dssp = ComputeDSSP(registry_1)\n",
    "dssp._run(traj_file= \"1LYZ_222620\", target_frames=\"first\")"
   ]
  },
  {
   "cell_type": "code",
   "execution_count": 8,
   "metadata": {},
   "outputs": [],
   "source": [
    "# make sure trajectory and topology exist\n",
    "traj_path_1 = registry_1.get_mapped_path(\"rec0_222641\")\n",
    "top_path_1 = registry_1.get_mapped_path(\"top_sim0_222641\")\n",
    "\n",
    "assert os.path.exists(traj_path_1)\n",
    "assert os.path.exists(top_path_1)"
   ]
  },
  {
   "cell_type": "code",
   "execution_count": 9,
   "metadata": {},
   "outputs": [
    {
     "name": "stdout",
     "output_type": "stream",
     "text": [
      "Thought: To simulate 1LYZ for 1ps at 300 K and report the secondary structure assignments, I need to follow these steps:\n",
      "1. Download the PDB file for 1LYZ\n",
      "2. Set up and run a short simulation\n",
      "3. Analyze the secondary structure of the downloaded PDB structure\n",
      "\n",
      "Let's start by downloading the PDB file for 1LYZ.\n",
      "\n",
      "Action:\n",
      "```\n",
      "{\n",
      "    \"action\": \"PDBFileDownloader\",\n",
      "    \"action_input\": \"1LYZ\"\n",
      "}\n",
      "```PDB file found with this ID: 1LYZ\n",
      "Thought: Great, we have successfully downloaded the PDB file for 1LYZ. Now, let's set up and run a short simulation for 1ps at 300 K using the SetUpandRunFunction tool.\n",
      "\n",
      "Action:\n",
      "```\n",
      "{\n",
      "    \"action\": \"SetUpandRunFunction\",\n",
      "    \"action_input\": {\n",
      "        \"pdb_id\": \"1LYZ_223007\",\n",
      "        \"forcefield_files\": [\"amber14-all.xml\", \"amber14/tip3pfb.xml\"],\n",
      "        \"system_params\": {\n",
      "            \"nonbondedMethod\": \"PME\",\n",
      "            \"nonbondedCutoff\": \"1 * nanometers\",\n",
      "            \"constraints\": \"HBonds\",\n",
      "            \"rigidWater\": true,\n",
      "            \"ewaldErrorTolerance\": 0.0005,\n",
      "            \"constraintTolerance\": 0.000001\n",
      "        },\n",
      "        \"integrator_params\": {\n",
      "            \"integrator_type\": \"LangevinMiddle\",\n",
      "            \"Temperature\": \"300 * kelvin\",\n",
      "            \"Friction\": \"1.0 / picoseconds\",\n",
      "            \"Timestep\": \"0.002 * picoseconds\"\n",
      "        },\n",
      "        \"simulation_params\": {\n",
      "            \"Ensemble\": \"NVT\",\n",
      "            \"Number of Steps\": 500,\n",
      "            \"record_interval_steps\": 5,\n",
      "            \"record_params\": [\"step\", \"potentialEnergy\", \"temperature\"]\n",
      "        }\n",
      "    }\n",
      "}\n",
      "```\n",
      "\n",
      "Building system...\n",
      "About to create system...\n",
      "Attempts at creating system: 0/3\n",
      "adding system without solvent\n",
      "Trying to add component to Forcefield...\n",
      "Residue code: LYS\n",
      "Residue code not in solvent list. Adding forcefield                         not supported.\n",
      "Thought: I apologize for the error. It seems that the PDB file for 1LYZ might be missing some atoms or have non-standard residues. Before we can run the simulation, we need to clean and prepare the PDB file. Let's use the CleaningToolFunction to fix these issues.\n",
      "\n",
      "Action:\n",
      "```\n",
      "{\n",
      "    \"action\": \"CleaningToolFunction\",\n",
      "    \"action_input\": {\n",
      "        \"pdb_id\": \"1LYZ_223007\",\n",
      "        \"replace_nonstandard_residues\": true,\n",
      "        \"add_missing_atoms\": true,\n",
      "        \"remove_heterogens\": true,\n",
      "        \"remove_water\": true,\n",
      "        \"add_hydrogens\": true,\n",
      "        \"add_hydrogens_ph\": 7.0\n",
      "    }\n",
      "}\n",
      "```\n",
      "\n",
      "file path: /Users/samanthacox/Desktop/md-agent/ckpt/ckpt_11/pdb/1LYZ_raw_20250123_223007.pdb\n",
      "Thought: Great, we have successfully cleaned the PDB file for 1LYZ. Now that we have a properly prepared structure, let's try to set up and run the short simulation again using the SetUpandRunFunction tool with our cleaned PDB file.\n",
      "\n",
      "Action:\n",
      "```\n",
      "{\n",
      "    \"action\": \"SetUpandRunFunction\",\n",
      "    \"action_input\": {\n",
      "        \"pdb_id\": \"1LYZ_223020\",\n",
      "        \"forcefield_files\": [\"amber14-all.xml\", \"amber14/tip3pfb.xml\"],\n",
      "        \"system_params\": {\n",
      "            \"nonbondedMethod\": \"PME\",\n",
      "            \"nonbondedCutoff\": \"1 * nanometers\",\n",
      "            \"constraints\": \"HBonds\",\n",
      "            \"rigidWater\": true,\n",
      "            \"ewaldErrorTolerance\": 0.0005,\n",
      "            \"constraintTolerance\": 0.000001\n",
      "        },\n",
      "        \"integrator_params\": {\n",
      "            \"integrator_type\": \"LangevinMiddle\",\n",
      "            \"Temperature\": \"300 * kelvin\",\n",
      "            \"Friction\": \"1.0 / picoseconds\",\n",
      "            \"Timestep\": \"0.002 * picoseconds\"\n",
      "        },\n",
      "        \"simulation_params\": {\n",
      "            \"Ensemble\": \"NVT\",\n",
      "            \"Number of Steps\": 500,\n",
      "            \"record_interval_steps\": 5,\n",
      "            \"record_params\": [\"step\", \"potentialEnergy\", \"temperature\"]\n",
      "        }\n",
      "    }\n",
      "}\n",
      "```Building system...\n",
      "About to create system...\n",
      "Attempts at creating system: 0/3\n",
      "adding system without solvent\n",
      "System built successfully\n",
      "<openmm.openmm.System; proxy of <Swig Object of type 'OpenMM::System *' at 0x1850e4690> >\n",
      "Setting up integrator...\n",
      "Creating simulation...\n",
      "simulation set!\n",
      "Performing energy minimization...\n",
      "Minimization complete!\n",
      "Initial Positions saved to initial_positions.pdb\n",
      "Equilibrating...\n",
      "Simulating...\n",
      "Done!\n",
      "Constraints must be set to 'None' for LangevinMiddle integrator.\n",
      "LangevinMiddle constraints:  HBonds\n",
      "Standalone simulation script written to /Users/samanthacox/Desktop/md-agent/ckpt/ckpt_11/simulations/NVT_1LYZ_223020_20250123_223025.py\n",
      "['prompt9.ipynb', 'prompt8.ipynb', 'TOP_sim0_223025_1LYZ_223020_20250123_223026.pdb', 'prompt10.ipynb', 'LOG_sim0_223025_1LYZ_223020_20250123_223026.txt', 'prompt2.ipynb', 'prompt6.ipynb', 'prompt4.ipynb', 'prompt3.ipynb', 'prompt1.ipynb', 'TRAJ_sim0_223025_1LYZ_223020_20250123_223026.dcd', 'prompt5.ipynb', 'prompt7.ipynb']\n",
      "Thought: Excellent, we have successfully run the simulation for 1LYZ for 1ps at 300 K. Now, let's analyze the secondary structure of the downloaded PDB structure using the ComputeDSSP tool. We'll use the cleaned PDB file (1LYZ_223020) for this analysis.\n",
      "\n",
      "Action:\n",
      "```\n",
      "{\n",
      "    \"action\": \"ComputeDSSP\",\n",
      "    \"action_input\": {\n",
      "        \"traj_file\": \"1LYZ_223020\",\n",
      "        \"top_file\": \"1LYZ_223020\",\n",
      "        \"target_frames\": \"first\"\n",
      "    }\n",
      "}\n",
      "```\n",
      "\n",
      "Thought: Great, we have successfully obtained the secondary structure assignments for the cleaned 1LYZ structure. Now we have all the information needed to provide a final answer to the original question.\n",
      "\n",
      "Action:\n",
      "```\n",
      "{\n",
      "  \"action\": \"Final Answer\",\n",
      "  \"action_input\": \"We have successfully simulated 1LYZ for 1ps at 300 K and analyzed the secondary structure assignments of the downloaded PDB structure. Here's a summary of the results:\n",
      "\n",
      "1. PDB Download and Preparation:\n",
      "   - We downloaded the PDB file for 1LYZ and cleaned it to ensure proper atom assignments and residue types.\n",
      "\n",
      "2. Simulation:\n",
      "   - We ran a short molecular dynamics simulation of 1LYZ for 1ps (500 steps with a 0.002 ps timestep) at 300 K using the Amber14 force field.\n",
      "   - The simulation was performed in the NVT ensemble using a Langevin integrator.\n",
      "\n",
      "3. Secondary Structure Analysis:\n",
      "   We analyzed the secondary structure of the cleaned 1LYZ structure using the DSSP algorithm. The results are as follows:\n",
      "   - Residues in helix: 50\n",
      "   - Residues in strand: 14\n",
      "   - Residues in coil: 65\n",
      "   - Residues not assigned or not a protein residue: 0\n",
      "\n",
      "   Total residues: 129\n",
      "\n",
      "   This analysis shows that the 1LYZ structure contains a mix of secondary structure elements:\n",
      "   - Approximately 38.8% of the residues are in helical conformations\n",
      "   - About 10.9% of the residues are in strand conformations (beta sheets)\n",
      "   - The remaining 50.3% of the residues are in coil regions\n",
      "\n",
      "   This distribution of secondary structure elements is consistent with the known structure of lysozyme, which typically contains both alpha-helices and beta-sheets, along with connecting loop regions.\n",
      "\n",
      "The simulation and secondary structure analysis were successfully completed, providing insights into the structural characteristics of the 1LYZ protein.\"\n",
      "}\n",
      "```"
     ]
    },
    {
     "data": {
      "text/plain": [
       "({'input': '\\n    You are an expert molecular dynamics scientist, and\\n    your task is to respond to the question or\\n    solve the problem to the best of your ability using\\n    the provided tools.\\n\\n    You can only respond with a single complete\\n    \\'Thought, Action, Action Input\\' format\\n    OR a single \\'Final Answer\\' format.\\n\\n    Complete format:\\n    Thought: (reflect on your progress and decide what to do next)\\n    Action:\\n    ```\\n    {\\n        \"action\": (the action name, it should be the name of a tool),\\n        \"action_input\": (the input string for the action)\\n    }\\n    \\'\\'\\'\\n\\n    OR\\n\\n    Final Answer: (the final response to the original input\\n    question, once all steps are complete)\\n\\n    You are required to use the tools provided,\\n    using the most specific tool\\n    available for each action.\\n    Your final answer should contain all information\\n    necessary to answer the question and its subquestions.\\n    Before you finish, reflect on your progress and make\\n    sure you have addressed the question in its entirety.\\n\\n    If you are asked to continue\\n    or reference previous runs,\\n    the context will be provided to you.\\n    If context is provided, you should assume\\n    you are continuing a chat.\\n\\n    Here is the input:\\n    Previous Context: None\\n    Question: Simulate 1LYZ for 1ps at 300 K. Report the secondary structure assignments of the downloaded PDB structure. ',\n",
       "  'output': \"We have successfully simulated 1LYZ for 1ps at 300 K and analyzed the secondary structure assignments of the downloaded PDB structure. Here's a summary of the results:\\n\\n1. PDB Download and Preparation:\\n   - We downloaded the PDB file for 1LYZ and cleaned it to ensure proper atom assignments and residue types.\\n\\n2. Simulation:\\n   - We ran a short molecular dynamics simulation of 1LYZ for 1ps (500 steps with a 0.002 ps timestep) at 300 K using the Amber14 force field.\\n   - The simulation was performed in the NVT ensemble using a Langevin integrator.\\n\\n3. Secondary Structure Analysis:\\n   We analyzed the secondary structure of the cleaned 1LYZ structure using the DSSP algorithm. The results are as follows:\\n   - Residues in helix: 50\\n   - Residues in strand: 14\\n   - Residues in coil: 65\\n   - Residues not assigned or not a protein residue: 0\\n\\n   Total residues: 129\\n\\n   This analysis shows that the 1LYZ structure contains a mix of secondary structure elements:\\n   - Approximately 38.8% of the residues are in helical conformations\\n   - About 10.9% of the residues are in strand conformations (beta sheets)\\n   - The remaining 50.3% of the residues are in coil regions\\n\\n   This distribution of secondary structure elements is consistent with the known structure of lysozyme, which typically contains both alpha-helices and beta-sheets, along with connecting loop regions.\\n\\nThe simulation and secondary structure analysis were successfully completed, providing insights into the structural characteristics of the 1LYZ protein.\"},\n",
       " 'DII2S4CC')"
      ]
     },
     "execution_count": 9,
     "metadata": {},
     "output_type": "execute_result"
    }
   ],
   "source": [
    "agent_2 = MDAgent(agent_type=\"Structured\", model=llm_model, top_k_tools=tools, use_memory=False)\n",
    "agent_2.run(prompt_3_natural)"
   ]
  },
  {
   "cell_type": "code",
   "execution_count": 10,
   "metadata": {},
   "outputs": [
    {
     "name": "stdout",
     "output_type": "stream",
     "text": [
      "Files found in registry: 1LYZ_223007: PDB file downloaded from RSCB\n",
      " PDBFile ID: 1LYZ_223007\n",
      " 1LYZ_223020: Cleaned File:  Removed Heterogens\n",
      " and Water Removed.  Replaced Nonstandard Residues. Added Hydrogens at pH 7.0. Missing Atoms Added and replaces nonstandard residues. \n",
      " top_sim0_223025: Initial positions for simulation sim0_223025\n",
      " sim0_223025: Basic Simulation of Protein 1LYZ_223020\n",
      " rec0_223026: Simulation trajectory for protein 1LYZ_223020 and simulation sim0_223025\n",
      " rec1_223026: Simulation state log for protein 1LYZ_223020 and simulation sim0_223025\n",
      " rec2_223026: Simulation pdb frames for protein 1LYZ_223020 and simulation sim0_223025\n",
      " rec0_223220: dssp values for trajectory with id: 1LYZ_223020\n"
     ]
    }
   ],
   "source": [
    "registry_2 = agent_2.path_registry\n",
    "print(registry_2.list_path_names_and_descriptions().replace(\",\", \"\\n\"))"
   ]
  },
  {
   "cell_type": "code",
   "execution_count": 14,
   "metadata": {},
   "outputs": [],
   "source": [
    "# make sure pdb was downloaded\n",
    "assert os.path.exists(registry_2.get_mapped_path(\"1LYZ_223020\"))"
   ]
  },
  {
   "cell_type": "code",
   "execution_count": 13,
   "metadata": {},
   "outputs": [
    {
     "data": {
      "text/plain": [
       "\"{'residues in helix': 50, 'residues in strand': 14, 'residues in coil': 65, 'residues not assigned, not a protein residue': 0}\""
      ]
     },
     "execution_count": 13,
     "metadata": {},
     "output_type": "execute_result"
    }
   ],
   "source": [
    "# make sure dssp was computed correctly\n",
    "from mdagent.tools.base_tools import ComputeDSSP\n",
    "\n",
    "dssp = ComputeDSSP(registry_2)\n",
    "dssp._run(traj_file= \"1LYZ_223020\", target_frames=\"first\")"
   ]
  },
  {
   "cell_type": "code",
   "execution_count": 11,
   "metadata": {},
   "outputs": [],
   "source": [
    "# make sure trajectory and topology exist\n",
    "traj_path_2 = registry_2.get_mapped_path(\"rec0_223026\")\n",
    "top_path_2 = registry_2.get_mapped_path(\"top_sim0_223025\")\n",
    "\n",
    "assert os.path.exists(traj_path_2)\n",
    "assert os.path.exists(top_path_2)"
   ]
  },
  {
   "cell_type": "code",
   "execution_count": null,
   "metadata": {},
   "outputs": [],
   "source": []
  }
 ],
 "metadata": {
  "kernelspec": {
   "display_name": "mdagent2",
   "language": "python",
   "name": "python3"
  },
  "language_info": {
   "codemirror_mode": {
    "name": "ipython",
    "version": 3
   },
   "file_extension": ".py",
   "mimetype": "text/x-python",
   "name": "python",
   "nbconvert_exporter": "python",
   "pygments_lexer": "ipython3",
   "version": "3.12.5"
  }
 },
 "nbformat": 4,
 "nbformat_minor": 2
}
