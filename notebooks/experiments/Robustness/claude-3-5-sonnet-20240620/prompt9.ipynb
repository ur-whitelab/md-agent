{
 "cells": [
  {
   "cell_type": "code",
   "execution_count": null,
   "metadata": {},
   "outputs": [],
   "source": [
    "from mdagent import MDAgent\n",
    "import os \n",
    "import mdtraj as md"
   ]
  },
  {
   "cell_type": "code",
   "execution_count": null,
   "metadata": {},
   "outputs": [],
   "source": [
    "from robustness_prompts import get_prompt\n",
    "prompt_9_descriptive = get_prompt(\"descriptive\", 9)\n",
    "prompt_9_natural = get_prompt(\"natural\", 9)\n",
    "\n",
    "prompt_9_descriptive, prompt_9_natural"
   ]
  },
  {
   "cell_type": "markdown",
   "metadata": {},
   "source": [
    "Required Tasks:\n",
    "- Download\n",
    "- SS Analysis\n",
    "- Simulation_1\n",
    "- RMSD_1\n",
    "- Rgy_1\n",
    "- Simulation_2\n",
    "- RMSD_2\n",
    "- Rgy_2\n",
    "- Binding/Active Sites"
   ]
  },
  {
   "cell_type": "code",
   "execution_count": null,
   "metadata": {},
   "outputs": [],
   "source": [
    "llm_model = \"claude-3-5-sonnet-20240620\"\n",
    "tools = \"all\""
   ]
  },
  {
   "cell_type": "code",
   "execution_count": null,
   "metadata": {},
   "outputs": [],
   "source": [
    "agent_1 = MDAgent(agent_type=\"Structured\", model=llm_model, top_k_tools=tools)\n",
    "agent_1.run(prompt_9_descriptive)"
   ]
  },
  {
   "cell_type": "code",
   "execution_count": null,
   "metadata": {},
   "outputs": [],
   "source": [
    "registry_1 = agent_1.path_registry\n",
    "print(registry_1.list_path_names_and_descriptions().replace(\",\", \"\\n\"))"
   ]
  },
  {
   "cell_type": "code",
   "execution_count": null,
   "metadata": {},
   "outputs": [],
   "source": [
    "## make sure pdb was downloaded\n",
    "# assert os.path.exists(registry_1.get_mapped_path(\"<PDB>\"))"
   ]
  },
  {
   "cell_type": "code",
   "execution_count": null,
   "metadata": {},
   "outputs": [],
   "source": [
    "## make sure dssp was computed correctly\n",
    "# from mdagent.tools.base_tools import ComputeDSSP\n",
    "\n",
    "# dssp = ComputeDSSP(registry_1)\n",
    "# dssp._run(traj_file= \"<PDB>\", target_frames=\"first\")"
   ]
  },
  {
   "cell_type": "code",
   "execution_count": null,
   "metadata": {},
   "outputs": [],
   "source": [
    "# # make sure the sites were found\n",
    "# from mdagent.tools.base_tools import GetAllKnownSites\n",
    "\n",
    "# get_all_known_sites = GetAllKnownSites()\n",
    "# get_all_known_sites._run(query=\"1LYZ\", primary_accession=\"<P00698_or_other>\")"
   ]
  },
  {
   "cell_type": "code",
   "execution_count": null,
   "metadata": {},
   "outputs": [],
   "source": [
    "## make sure trajectory and topology exist (sim1)\n",
    "# traj_path_1_1 = registry_1.get_mapped_path(\"<traj_path>\")\n",
    "# top_path_1_1 = registry_1.get_mapped_path(\"<top_path>\")\n",
    "\n",
    "# assert os.path.exists(traj_path_1_1)\n",
    "# assert os.path.exists(top_path_1_1)"
   ]
  },
  {
   "cell_type": "code",
   "execution_count": null,
   "metadata": {},
   "outputs": [],
   "source": [
    "# # make sure rmsd plot was generated (sim1)\n",
    "# from IPython.display import Image\n",
    "# Image(filename=registry_1.get_mapped_path('<rmsd_plot>'))"
   ]
  },
  {
   "cell_type": "code",
   "execution_count": null,
   "metadata": {},
   "outputs": [],
   "source": [
    "# # make sure rgy plot was generated (sim1)\n",
    "# from IPython.display import Image\n",
    "# Image(filename=registry_1.get_mapped_path('<rgy_plot>'))"
   ]
  },
  {
   "cell_type": "code",
   "execution_count": null,
   "metadata": {},
   "outputs": [],
   "source": [
    "## make sure trajectory and topology exist (sim2)\n",
    "# traj_path_1_2 = registry_1.get_mapped_path(\"<traj_path2>\")\n",
    "# top_path_1_2 = registry_1.get_mapped_path(\"<top_path2>\")\n",
    "\n",
    "# assert os.path.exists(traj_path_1_2)\n",
    "# assert os.path.exists(top_path_1_2)"
   ]
  },
  {
   "cell_type": "code",
   "execution_count": null,
   "metadata": {},
   "outputs": [],
   "source": [
    "# # make sure rmsd plot was generated (sim2)\n",
    "# from IPython.display import Image\n",
    "# Image(filename=registry_1.get_mapped_path('<rmsd_plot>'))"
   ]
  },
  {
   "cell_type": "code",
   "execution_count": null,
   "metadata": {},
   "outputs": [],
   "source": [
    "# # make sure rgy plot was generated (sim2)\n",
    "# from IPython.display import Image\n",
    "# Image(filename=registry_1.get_mapped_path('<rgy_plot>'))"
   ]
  },
  {
   "cell_type": "code",
   "execution_count": null,
   "metadata": {},
   "outputs": [],
   "source": [
    "agent_2 = MDAgent(agent_type=\"Structured\", model=llm_model, top_k_tools=tools)\n",
    "agent_2.run(prompt_9_natural)"
   ]
  },
  {
   "cell_type": "code",
   "execution_count": null,
   "metadata": {},
   "outputs": [],
   "source": [
    "registry_2 = agent_2.path_registry\n",
    "print(registry_2.list_path_names_and_descriptions().replace(\",\", \"\\n\"))"
   ]
  },
  {
   "cell_type": "code",
   "execution_count": null,
   "metadata": {},
   "outputs": [],
   "source": [
    "## make sure pdb was downloaded\n",
    "# assert os.path.exists(registry_2.get_mapped_path(\"<PDB>\"))"
   ]
  },
  {
   "cell_type": "code",
   "execution_count": null,
   "metadata": {},
   "outputs": [],
   "source": [
    "## make sure dssp was computed correctly\n",
    "# from mdagent.tools.base_tools import ComputeDSSP\n",
    "\n",
    "# dssp = ComputeDSSP(registry_2)\n",
    "# dssp._run(traj_file= \"<PDB>\", target_frames=\"first\")"
   ]
  },
  {
   "cell_type": "code",
   "execution_count": null,
   "metadata": {},
   "outputs": [],
   "source": [
    "# # make sure the sites were found\n",
    "# from mdagent.tools.base_tools import GetAllKnownSites\n",
    "\n",
    "# get_all_known_sites = GetAllKnownSites()\n",
    "# get_all_known_sites._run(query=\"1LYZ\", primary_accession=\"<P00698_or_other>\")"
   ]
  },
  {
   "cell_type": "code",
   "execution_count": null,
   "metadata": {},
   "outputs": [],
   "source": [
    "## make sure trajectory and topology exist (sim1)\n",
    "# traj_path_2_1 = registry_2.get_mapped_path(\"<traj_path>\")\n",
    "# top_path_2_1 = registry_2.get_mapped_path(\"<top_path>\")\n",
    "\n",
    "# assert os.path.exists(traj_path_2_1)\n",
    "# assert os.path.exists(top_path_2_1)"
   ]
  },
  {
   "cell_type": "code",
   "execution_count": null,
   "metadata": {},
   "outputs": [],
   "source": [
    "# # make sure rmsd plot was generated (sim1)\n",
    "# from IPython.display import Image\n",
    "# Image(filename=registry_2.get_mapped_path('<rmsd_plot>'))"
   ]
  },
  {
   "cell_type": "code",
   "execution_count": null,
   "metadata": {},
   "outputs": [],
   "source": [
    "# # make sure rgy plot was generated (sim1)\n",
    "# from IPython.display import Image\n",
    "# Image(filename=registry_2.get_mapped_path('<rgy_plot>'))"
   ]
  },
  {
   "cell_type": "code",
   "execution_count": null,
   "metadata": {},
   "outputs": [],
   "source": [
    "## make sure trajectory and topology exist (sim1)\n",
    "# traj_path_2_2 = registry_2.get_mapped_path(\"<traj_path>\")\n",
    "# top_path_2_2 = registry_2.get_mapped_path(\"<top_path>\")\n",
    "\n",
    "# assert os.path.exists(traj_path_2_2)\n",
    "# assert os.path.exists(top_path_2_2)"
   ]
  },
  {
   "cell_type": "code",
   "execution_count": null,
   "metadata": {},
   "outputs": [],
   "source": [
    "# # make sure rmsd plot was generated (sim2)\n",
    "# from IPython.display import Image\n",
    "# Image(filename=registry_2.get_mapped_path('<rmsd_plot>'))"
   ]
  },
  {
   "cell_type": "code",
   "execution_count": null,
   "metadata": {},
   "outputs": [],
   "source": [
    "# # make sure rgy plot was generated (sim2)\n",
    "# from IPython.display import Image\n",
    "# Image(filename=registry_2.get_mapped_path('<rgy_plot>'))"
   ]
  }
 ],
 "metadata": {
  "kernelspec": {
   "display_name": "mdagent2",
   "language": "python",
   "name": "python3"
  },
  "language_info": {
   "codemirror_mode": {
    "name": "ipython",
    "version": 3
   },
   "file_extension": ".py",
   "mimetype": "text/x-python",
   "name": "python",
   "nbconvert_exporter": "python",
   "pygments_lexer": "ipython3",
   "version": "3.12.5"
  }
 },
 "nbformat": 4,
 "nbformat_minor": 2
}
