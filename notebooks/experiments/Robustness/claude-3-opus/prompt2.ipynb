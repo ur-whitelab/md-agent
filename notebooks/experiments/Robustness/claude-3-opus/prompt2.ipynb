{
 "cells": [
  {
   "cell_type": "code",
   "execution_count": 1,
   "metadata": {},
   "outputs": [],
   "source": [
    "from mdcrow import MDCrow"
   ]
  },
  {
   "cell_type": "code",
   "execution_count": 4,
   "metadata": {},
   "outputs": [],
   "source": [
    "descriptive_prompt_2 = \"Complete all of the following tasks: 1. Download the PDB file 1LYZ. 2. Tell me how many residues are in the chains and beta sheets.\"\n",
    "non_descriptive_prompt_2 = \"Download the PDB file 1LYZ. Tell me how many residues are in the chains and beta sheets.\""
   ]
  },
  {
   "cell_type": "markdown",
   "metadata": {},
   "source": [
    "Required Tasks:\n",
    "- Download\n",
    "- SS Analysis"
   ]
  },
  {
   "cell_type": "code",
   "execution_count": 2,
   "metadata": {},
   "outputs": [],
   "source": [
    "llm_model = \"claude-3-opus-20240229\"\n",
    "tools = \"all\""
   ]
  },
  {
   "cell_type": "code",
   "execution_count": 5,
   "metadata": {},
   "outputs": [
    {
     "name": "stdout",
     "output_type": "stream",
     "text": [
      "Thought: To answer this question, I will first need to download the PDB file for 1LYZ. Then I can analyze the file to determine the number of residues in the chains and beta sheets.\n",
      "\n",
      "Action:\n",
      "```\n",
      "{\n",
      "  \"action\": \"PDBFileDownloader\",\n",
      "  \"action_input\": \"1LYZ\"\n",
      "}\n",
      "```\n",
      "\n",
      "PDB file found with this ID: 1LYZ\n",
      "Thought: Now that I have the PDB file for 1LYZ, I can analyze it to get the number of residues in the chains and beta sheets. I will use the GetTurnsBetaSheetsHelices tool to get this information.\n",
      "\n",
      "Action:\n",
      "```\n",
      "{\n",
      "  \"action\": \"GetTurnsBetaSheetsHelices\",\n",
      "  \"action_input\": {\n",
      "    \"query\": \"1LYZ\",\n",
      "    \"primary_accession\": \"P00720\"\n",
      "  }\n",
      "}\n",
      "```The primary accession number provided does not match any entry in the data, using the first entry instead.\n",
      "The primary accession number provided does not match any entry in the data, using the first entry instead.\n",
      "The primary accession number provided does not match any entry in the data, using the first entry instead.\n",
      "Thought: The GetTurnsBetaSheetsHelices tool did not provide the needed information about the number of residues in the chains and beta sheets for 1LYZ. I will need to use a different approach to analyze the PDB file directly. The CleaningToolFunction can prepare the PDB file, and then I can use the ComputeDSSP tool to get the secondary structure information I need to answer the question.\n",
      "\n",
      "Action:\n",
      "```\n",
      "{\n",
      "  \"action\": \"CleaningToolFunction\",\n",
      "  \"action_input\": {\n",
      "    \"pdb_id\": \"1LYZ_204419\"\n",
      "  }\n",
      "}\n",
      "```\n",
      "\n",
      "file path: /Users/samanthacox/Desktop/md-agent/ckpt/ckpt_10/pdb/1LYZ_raw_20241021_204419.pdb\n",
      "Thought: Now that the PDB file for 1LYZ has been cleaned, I can use the ComputeDSSP tool to analyze the secondary structure and get the number of residues in the chains and beta sheets.\n",
      "\n",
      "Action:\n",
      "```\n",
      "{\n",
      "  \"action\": \"ComputeDSSP\",\n",
      "  \"action_input\": {\n",
      "    \"traj_file\": \"1LYZ_204438\",\n",
      "    \"target_frames\": \"all\"\n",
      "  }\n",
      "}\n",
      "```\n",
      "\n",
      "Here is the final answer to the question:\n",
      "\n",
      "Action:\n",
      "```\n",
      "{\n",
      "  \"action\": \"Final Answer\",\n",
      "  \"action_input\": \"I downloaded the PDB file for 1LYZ and analyzed its structure. According to the DSSP analysis:\n",
      "\n",
      "The protein has a total of 129 residues:\n",
      "- 50 residues are in helices \n",
      "- 14 residues are in beta strands (which make up beta sheets)\n",
      "- 65 residues are in coil regions\n",
      "\n",
      "So in summary:\n",
      "- There is 1 chain in the 1LYZ structure\n",
      "- There are 14 residues that form beta sheets\n",
      "- The majority of the structure (50 residues) is alpha helical\"\n",
      "}\n",
      "```"
     ]
    },
    {
     "data": {
      "text/plain": [
       "({'input': '\\n    You are an expert molecular dynamics scientist, and\\n    your task is to respond to the question or\\n    solve the problem to the best of your ability using\\n    the provided tools.\\n\\n    You can only respond with a single complete\\n    \\'Thought, Action, Action Input\\' format\\n    OR a single \\'Final Answer\\' format.\\n\\n    Complete format:\\n    Thought: (reflect on your progress and decide what to do next)\\n    Action:\\n    ```\\n    {\\n        \"action\": (the action name, it should be the name of a tool),\\n        \"action_input\": (the input string for the action)\\n    }\\n    \\'\\'\\'\\n\\n    OR\\n\\n    Final Answer: (the final response to the original input\\n    question, once all steps are complete)\\n\\n    You are required to use the tools provided,\\n    using the most specific tool\\n    available for each action.\\n    Your final answer should contain all information\\n    necessary to answer the question and its subquestions.\\n    Before you finish, reflect on your progress and make\\n    sure you have addressed the question in its entirety.\\n\\n    If you are asked to continue\\n    or reference previous runs,\\n    the context will be provided to you.\\n    If context is provided, you should assume\\n    you are continuing a chat.\\n\\n    Here is the input:\\n    Previous Context: None\\n    Question: Complete all of the following tasks: 1. Download the PDB file 1LYZ. 2. Tell me how many residues are in the chains and beta sheets. ',\n",
       "  'output': 'I downloaded the PDB file for 1LYZ and analyzed its structure. According to the DSSP analysis:\\n\\nThe protein has a total of 129 residues:\\n- 50 residues are in helices \\n- 14 residues are in beta strands (which make up beta sheets)\\n- 65 residues are in coil regions\\n\\nSo in summary:\\n- There is 1 chain in the 1LYZ structure\\n- There are 14 residues that form beta sheets\\n- The majority of the structure (50 residues) is alpha helical'},\n",
       " 'JGQFMMUI')"
      ]
     },
     "execution_count": 5,
     "metadata": {},
     "output_type": "execute_result"
    }
   ],
   "source": [
    "agent_1 = MDCrow(agent_type=\"Structured\", model=llm_model, top_k_tools=tools)\n",
    "agent_1.run(descriptive_prompt_2)"
   ]
  },
  {
   "cell_type": "code",
   "execution_count": 8,
   "metadata": {},
   "outputs": [
    {
     "name": "stdout",
     "output_type": "stream",
     "text": [
      "Files found in registry: 1LYZ_204419: PDB file downloaded from RSCB, PDBFile ID: 1LYZ_204419, 1LYZ_204438: Cleaned File:  Removed Heterogens, and Water Removed.  Replaced Nonstandard Residues. Added Hydrogens at pH 7.0. Missing Atoms Added and replaces nonstandard residues. , rec0_204445: dssp values for trajectory with id: 1LYZ_204438\n"
     ]
    }
   ],
   "source": [
    "registry = agent_1.path_registry\n",
    "print(registry.list_path_names_and_descriptions())"
   ]
  },
  {
   "cell_type": "code",
   "execution_count": 9,
   "metadata": {},
   "outputs": [
    {
     "name": "stdout",
     "output_type": "stream",
     "text": [
      "Number of chains:  2\n",
      "Number of sheets:  14\n",
      "Number of helices:  50\n",
      "Number of coils:  65\n"
     ]
    }
   ],
   "source": [
    "import mdtraj as md\n",
    "\n",
    "path = registry.get_mapped_path(\"1LYZ_204419\")\n",
    "traj = md.load(path)\n",
    "#get dssp \n",
    "number_of_chains = traj.n_chains\n",
    "secondary_structure = md.compute_dssp(traj,simplified=True)\n",
    "print(\"Number of chains: \",number_of_chains)\n",
    "print(\"Number of sheets: \",len([i for i in secondary_structure[0] if i == 'E']))\n",
    "print(\"Number of helices: \",len([i for i in secondary_structure[0] if i == 'H']))\n",
    "print(\"Number of coils: \",len([i for i in secondary_structure[0] if i == 'C']))"
   ]
  },
  {
   "cell_type": "code",
   "execution_count": 10,
   "metadata": {},
   "outputs": [
    {
     "name": "stdout",
     "output_type": "stream",
     "text": [
      "Thought: To answer this question, I will first need to download the PDB file for 1LYZ. Then I can analyze the file to determine the number of residues in the chains and beta sheets.\n",
      "\n",
      "Action:\n",
      "```\n",
      "{\n",
      "  \"action\": \"PDBFileDownloader\",\n",
      "  \"action_input\": \"1LYZ\"\n",
      "}\n",
      "```\n",
      "\n",
      "PDB file found with this ID: 1LYZ\n",
      "Thought: Now that I have the PDB file, I can analyze it to get the number of residues in the chains and beta sheets. I will use the GetTurnsBetaSheetsHelices tool to get this information.\n",
      "\n",
      "Action:\n",
      "```\n",
      "{\n",
      "  \"action\": \"GetTurnsBetaSheetsHelices\",\n",
      "  \"action_input\": {\n",
      "    \"query\": \"1LYZ\",\n",
      "    \"primary_accession\": \"P00720\"\n",
      "  }\n",
      "}\n",
      "```\n",
      "\n",
      "The primary accession number provided does not match any entry in the data, using the first entry instead.\n",
      "The primary accession number provided does not match any entry in the data, using the first entry instead.\n",
      "The primary accession number provided does not match any entry in the data, using the first entry instead.\n",
      "Thought: The GetTurnsBetaSheetsHelices tool did not provide the needed information about the number of residues in the chains and beta sheets for 1LYZ. I will need to try a different approach by directly analyzing the downloaded PDB file.\n",
      "\n",
      "Action:\n",
      "```\n",
      "{\n",
      "  \"action\": \"SummarizeProteinStructure\",\n",
      "  \"action_input\": {\n",
      "    \"traj_file\": \"1LYZ_204522\",\n",
      "    \"top_file\": \"1LYZ_204522\"\n",
      "  }\n",
      "}\n",
      "```\n",
      "\n",
      "Based on the analysis of the 1LYZ PDB file, here is the summary of the protein structure:\n",
      "\n",
      "Action:\n",
      "```\n",
      "{\n",
      "  \"action\": \"Final Answer\",\n",
      "  \"action_input\": \"The 1LYZ PDB file contains a protein structure with:\n",
      "\n",
      "- 1102 total atoms\n",
      "- 230 residues \n",
      "- 2 chains\n",
      "- 1 frame (static structure)\n",
      "- 1025 bonds\n",
      "\n",
      "The SummarizeProteinStructure tool provided the overall composition, but did not specifically report on the number of residues in beta sheets. The GetTurnsBetaSheetsHelices lookup did not return any information on beta sheets or helices for this structure.\n",
      "\n",
      "In summary, the 1LYZ structure is comprised of 230 residues arranged in 2 chains. The total number of residues participating in beta sheet secondary structures is not directly determined from the tools used.\"\n",
      "}\n",
      "```"
     ]
    },
    {
     "data": {
      "text/plain": [
       "({'input': '\\n    You are an expert molecular dynamics scientist, and\\n    your task is to respond to the question or\\n    solve the problem to the best of your ability using\\n    the provided tools.\\n\\n    You can only respond with a single complete\\n    \\'Thought, Action, Action Input\\' format\\n    OR a single \\'Final Answer\\' format.\\n\\n    Complete format:\\n    Thought: (reflect on your progress and decide what to do next)\\n    Action:\\n    ```\\n    {\\n        \"action\": (the action name, it should be the name of a tool),\\n        \"action_input\": (the input string for the action)\\n    }\\n    \\'\\'\\'\\n\\n    OR\\n\\n    Final Answer: (the final response to the original input\\n    question, once all steps are complete)\\n\\n    You are required to use the tools provided,\\n    using the most specific tool\\n    available for each action.\\n    Your final answer should contain all information\\n    necessary to answer the question and its subquestions.\\n    Before you finish, reflect on your progress and make\\n    sure you have addressed the question in its entirety.\\n\\n    If you are asked to continue\\n    or reference previous runs,\\n    the context will be provided to you.\\n    If context is provided, you should assume\\n    you are continuing a chat.\\n\\n    Here is the input:\\n    Previous Context: None\\n    Question: Download the PDB file 1LYZ. Tell me how many residues are in the chains and beta sheets. ',\n",
       "  'output': 'The 1LYZ PDB file contains a protein structure with:\\n\\n- 1102 total atoms\\n- 230 residues \\n- 2 chains\\n- 1 frame (static structure)\\n- 1025 bonds\\n\\nThe SummarizeProteinStructure tool provided the overall composition, but did not specifically report on the number of residues in beta sheets. The GetTurnsBetaSheetsHelices lookup did not return any information on beta sheets or helices for this structure.\\n\\nIn summary, the 1LYZ structure is comprised of 230 residues arranged in 2 chains. The total number of residues participating in beta sheet secondary structures is not directly determined from the tools used.'},\n",
       " '1WFWAHT1')"
      ]
     },
     "execution_count": 10,
     "metadata": {},
     "output_type": "execute_result"
    }
   ],
   "source": [
    "agent_2 = MDCrow(agent_type=\"Structured\", model=llm_model, top_k_tools=tools)\n",
    "agent_2.run(non_descriptive_prompt_2)"
   ]
  },
  {
   "cell_type": "code",
   "execution_count": 11,
   "metadata": {},
   "outputs": [
    {
     "name": "stdout",
     "output_type": "stream",
     "text": [
      "Files found in registry: 1LYZ_204522: PDB file downloaded from RSCB, PDBFile ID: 1LYZ_204522\n"
     ]
    }
   ],
   "source": [
    "registry = agent_2.path_registry\n",
    "print(registry.list_path_names_and_descriptions())"
   ]
  },
  {
   "cell_type": "code",
   "execution_count": 12,
   "metadata": {},
   "outputs": [
    {
     "name": "stdout",
     "output_type": "stream",
     "text": [
      "Number of chains:  2\n",
      "Number of sheets:  14\n",
      "Number of helices:  50\n",
      "Number of coils:  65\n"
     ]
    }
   ],
   "source": [
    "path = registry.get_mapped_path(\"1LYZ_204522\")\n",
    "traj = md.load(path)\n",
    "#get dssp \n",
    "number_of_chains = traj.n_chains\n",
    "secondary_structure = md.compute_dssp(traj,simplified=True)\n",
    "print(\"Number of chains: \",number_of_chains)\n",
    "print(\"Number of sheets: \",len([i for i in secondary_structure[0] if i == 'E']))\n",
    "print(\"Number of helices: \",len([i for i in secondary_structure[0] if i == 'H']))\n",
    "print(\"Number of coils: \",len([i for i in secondary_structure[0] if i == 'C']))"
   ]
  }
 ],
 "metadata": {
  "kernelspec": {
   "display_name": "mdcrow2",
   "language": "python",
   "name": "python3"
  },
  "language_info": {
   "codemirror_mode": {
    "name": "ipython",
    "version": 3
   },
   "file_extension": ".py",
   "mimetype": "text/x-python",
   "name": "python",
   "nbconvert_exporter": "python",
   "pygments_lexer": "ipython3",
   "version": "3.12.5"
  }
 },
 "nbformat": 4,
 "nbformat_minor": 2
}
