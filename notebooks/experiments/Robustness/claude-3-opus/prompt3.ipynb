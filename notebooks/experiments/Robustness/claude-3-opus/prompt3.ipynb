{
 "cells": [
  {
   "cell_type": "code",
   "execution_count": 7,
   "metadata": {},
   "outputs": [],
   "source": [
    "from mdcrow import MDCrow\n",
    "import os \n",
    "import mdtraj as md"
   ]
  },
  {
   "cell_type": "code",
   "execution_count": 2,
   "metadata": {},
   "outputs": [],
   "source": [
    "descriptive_prompt_3 = \"Complete all of the following tasks: 1. Download the PDB file 1LYZ. 2. Tell me how many residues are in the chains and beta sheets. 3. Simulate for 1 ps at 300 K\"\n",
    "non_descriptive_prompt_3 = \"Simulate 1LYZ for 1 ps at 300 K. Tell me how many residues are in the chains and beta sheets.\""
   ]
  },
  {
   "cell_type": "markdown",
   "metadata": {},
   "source": [
    "Required Tasks:\n",
    "- Download\n",
    "- SS Analysis\n",
    "- Simulation"
   ]
  },
  {
   "cell_type": "code",
   "execution_count": 3,
   "metadata": {},
   "outputs": [],
   "source": [
    "llm_model = \"claude-3-opus-20240229\"\n",
    "tools = \"all\""
   ]
  },
  {
   "cell_type": "code",
   "execution_count": 4,
   "metadata": {},
   "outputs": [
    {
     "name": "stdout",
     "output_type": "stream",
     "text": [
      "Thought: To answer this question, I will need to download the PDB file for 1LYZ, analyze its structure, and run a short simulation. I will use the PDBFileDownloader tool to get the PDB file, the GetTurnsBetaSheetsHelices tool to get information about the residues and beta sheets, and the SetUpandRunFunction tool to run the simulation.\n",
      "\n",
      "Action:\n",
      "```\n",
      "{\n",
      "  \"action\": \"PDBFileDownloader\",\n",
      "  \"action_input\": \"1LYZ\"\n",
      "}\n",
      "```\n",
      "\n",
      "PDB file found with this ID: 1LYZ\n",
      "Thought: Now that I have the PDB file, I can use the GetTurnsBetaSheetsHelices tool to get information about the number of residues and beta sheets in the protein.\n",
      "\n",
      "Action:\n",
      "```\n",
      "{\n",
      "  \"action\": \"GetTurnsBetaSheetsHelices\",\n",
      "  \"action_input\": {\n",
      "    \"query\": \"1LYZ\",\n",
      "    \"primary_accession\": \"P00720\"\n",
      "  }\n",
      "}\n",
      "```\n",
      "\n",
      "The primary accession number provided does not match any entry in the data, using the first entry instead.\n",
      "The primary accession number provided does not match any entry in the data, using the first entry instead.\n",
      "The primary accession number provided does not match any entry in the data, using the first entry instead.\n",
      "Thought: The GetTurnsBetaSheetsHelices tool did not provide the needed information about residues and beta sheets. I will try using the SummarizeProteinStructure tool on the downloaded PDB file to get that information instead.\n",
      "\n",
      "Action:\n",
      "```\n",
      "{\n",
      "  \"action\": \"SummarizeProteinStructure\",\n",
      "  \"action_input\": {\n",
      "    \"traj_file\": \"1LYZ_204757\"\n",
      "  }\n",
      "}\n",
      "```\n",
      "\n",
      "Thought: The SummarizeProteinStructure tool provided the number of residues and chains, but not specific information about beta sheets. To complete the remaining tasks, I will run a short 1 ps simulation at 300 K using the SetUpandRunFunction tool with the downloaded PDB file.\n",
      "\n",
      "Action:\n",
      "```\n",
      "{\n",
      "  \"action\": \"SetUpandRunFunction\",\n",
      "  \"action_input\": {\n",
      "    \"pdb_id\": \"1LYZ_204757\",\n",
      "    \"forcefield_files\": [\"amber14/protein.ff14SB.xml\", \"amber14/tip3p.xml\"],\n",
      "    \"simulation_params\": {\n",
      "      \"Ensemble\": \"NVT\",\n",
      "      \"Number of Steps\": 500,\n",
      "      \"record_interval_steps\": 5,\n",
      "      \"record_params\": [\"step\", \"potentialEnergy\", \"temperature\"]\n",
      "    }\n",
      "  }\n",
      "}\n",
      "```\n",
      "\n",
      "Building system...\n",
      "About to create system...\n",
      "Attempts at creating system: 0/3\n",
      "adding system without solvent\n",
      "Trying to add component to Forcefield...\n",
      "Residue code: LYS\n",
      "Residue code not in solvent list. Adding forcefield                         not supported.\n",
      "Thought: The simulation failed because the PDB file is missing some atoms needed for the force field. To fix this, I will first use the CleaningToolFunction to add missing atoms and hydrogens to the PDB file. Then I will retry the simulation with the cleaned up PDB file.\n",
      "\n",
      "Action:\n",
      "```\n",
      "{\n",
      "  \"action\": \"CleaningToolFunction\",\n",
      "  \"action_input\": {\n",
      "    \"pdb_id\": \"1LYZ_204757\"\n",
      "  }\n",
      "}\n",
      "```\n",
      "\n",
      "file path: /Users/samanthacox/Desktop/md-agent/ckpt/ckpt_13/pdb/1LYZ_raw_20241021_204757.pdb\n",
      "Thought: Now that I have cleaned up the PDB file by adding missing atoms and hydrogens, I will retry running the 1 ps simulation at 300 K using the SetUpandRunFunction tool with the cleaned PDB file.\n",
      "\n",
      "Action:\n",
      "```\n",
      "{\n",
      "  \"action\": \"SetUpandRunFunction\",\n",
      "  \"action_input\": {\n",
      "    \"pdb_id\": \"1LYZ_204830\",\n",
      "    \"forcefield_files\": [\"amber14/protein.ff14SB.xml\", \"amber14/tip3p.xml\"],\n",
      "    \"simulation_params\": {\n",
      "      \"Ensemble\": \"NVT\", \n",
      "      \"Number of Steps\": 500,\n",
      "      \"record_interval_steps\": 5,\n",
      "      \"record_params\": [\"step\", \"potentialEnergy\", \"temperature\"]\n",
      "    }\n",
      "  }\n",
      "}\n",
      "```\n",
      "\n",
      "Building system...\n",
      "About to create system...\n",
      "Attempts at creating system: 0/3\n",
      "adding system without solvent\n",
      "System built successfully\n",
      "<openmm.openmm.System; proxy of <Swig Object of type 'OpenMM::System *' at 0x188a2b810> >\n",
      "Setting up integrator...\n",
      "Creating simulation...\n",
      "simulation set!\n",
      "Performing energy minimization...\n",
      "Minimization complete!\n",
      "Initial Positions saved to initial_positions.pdb\n",
      "Equilibrating...\n",
      "Simulating...\n",
      "Done!\n",
      "Standalone simulation script written to /Users/samanthacox/Desktop/md-agent/ckpt/ckpt_13/simulations/NVT_1LYZ_204830_20241021_204841.py\n",
      "['TOP_sim0_204841_1LYZ_204830_20241021_204841.pdb', 'prompt8.ipynb', 'TRAJ_sim0_204841_1LYZ_204830_20241021_204841.dcd', 'prompt2.ipynb', 'prompt6.ipynb', 'prompt4.ipynb', 'prompt3.ipynb', 'prompt1.ipynb', 'LOG_sim0_204841_1LYZ_204830_20241021_204841.txt', 'prompt5.ipynb', 'prompt7.ipynb']\n",
      "Here is a summary of the steps I took to answer your question:\n",
      "\n",
      "1. I downloaded the PDB file for 1LYZ using the PDBFileDownloader tool. \n",
      "\n",
      "2. I used the SummarizeProteinStructure tool to analyze the PDB file. This showed that 1LYZ contains:\n",
      "- 1102 atoms \n",
      "- 230 residues\n",
      "- 2 chains\n",
      "- 1 frame\n",
      "\n",
      "3. I attempted to run a 1 ps simulation at 300 K using the SetUpandRunFunction tool, but it failed due to missing atoms in the PDB file.\n",
      "\n",
      "4. To fix this, I used the CleaningToolFunction to add missing atoms and hydrogens to the PDB file. \n",
      "\n",
      "5. I then re-ran the 1 ps, 300 K simulation using the cleaned PDB file and the SetUpandRunFunction tool. This simulation completed successfully.\n",
      "\n",
      "In summary:\n",
      "- The 1LYZ PDB file contains 230 residues and 2 chains based on structural analysis\n",
      "- I was unable to determine the number of beta sheets from the tools used\n",
      "- I successfully ran a 1 ps simulation of 1LYZ at 300 K after cleaning up the PDB file to add missing atoms\n",
      "\n",
      "Let me know if you need any other information!"
     ]
    },
    {
     "data": {
      "text/plain": [
       "({'input': '\\n    You are an expert molecular dynamics scientist, and\\n    your task is to respond to the question or\\n    solve the problem to the best of your ability using\\n    the provided tools.\\n\\n    You can only respond with a single complete\\n    \\'Thought, Action, Action Input\\' format\\n    OR a single \\'Final Answer\\' format.\\n\\n    Complete format:\\n    Thought: (reflect on your progress and decide what to do next)\\n    Action:\\n    ```\\n    {\\n        \"action\": (the action name, it should be the name of a tool),\\n        \"action_input\": (the input string for the action)\\n    }\\n    \\'\\'\\'\\n\\n    OR\\n\\n    Final Answer: (the final response to the original input\\n    question, once all steps are complete)\\n\\n    You are required to use the tools provided,\\n    using the most specific tool\\n    available for each action.\\n    Your final answer should contain all information\\n    necessary to answer the question and its subquestions.\\n    Before you finish, reflect on your progress and make\\n    sure you have addressed the question in its entirety.\\n\\n    If you are asked to continue\\n    or reference previous runs,\\n    the context will be provided to you.\\n    If context is provided, you should assume\\n    you are continuing a chat.\\n\\n    Here is the input:\\n    Previous Context: None\\n    Question: Complete all of the following tasks: 1. Download the PDB file 1LYZ. 2. Tell me how many residues are in the chains and beta sheets. 3. Simulate for 1 ps at 300 K ',\n",
       "  'output': 'Here is a summary of the steps I took to answer your question:\\n\\n1. I downloaded the PDB file for 1LYZ using the PDBFileDownloader tool. \\n\\n2. I used the SummarizeProteinStructure tool to analyze the PDB file. This showed that 1LYZ contains:\\n- 1102 atoms \\n- 230 residues\\n- 2 chains\\n- 1 frame\\n\\n3. I attempted to run a 1 ps simulation at 300 K using the SetUpandRunFunction tool, but it failed due to missing atoms in the PDB file.\\n\\n4. To fix this, I used the CleaningToolFunction to add missing atoms and hydrogens to the PDB file. \\n\\n5. I then re-ran the 1 ps, 300 K simulation using the cleaned PDB file and the SetUpandRunFunction tool. This simulation completed successfully.\\n\\nIn summary:\\n- The 1LYZ PDB file contains 230 residues and 2 chains based on structural analysis\\n- I was unable to determine the number of beta sheets from the tools used\\n- I successfully ran a 1 ps simulation of 1LYZ at 300 K after cleaning up the PDB file to add missing atoms\\n\\nLet me know if you need any other information!'},\n",
       " 'RJ89FH0T')"
      ]
     },
     "execution_count": 4,
     "metadata": {},
     "output_type": "execute_result"
    }
   ],
   "source": [
    "agent_1 = MDCrow(agent_type=\"Structured\", model=llm_model, top_k_tools=tools)\n",
    "agent_1.run(descriptive_prompt_3)"
   ]
  },
  {
   "cell_type": "code",
   "execution_count": 5,
   "metadata": {},
   "outputs": [
    {
     "name": "stdout",
     "output_type": "stream",
     "text": [
      "Files found in registry: 1LYZ_204757: PDB file downloaded from RSCB\n",
      " PDBFile ID: 1LYZ_204757\n",
      " 1LYZ_204830: Cleaned File:  Removed Heterogens\n",
      " and Water Removed.  Replaced Nonstandard Residues. Added Hydrogens at pH 7.0. Missing Atoms Added and replaces nonstandard residues. \n",
      " top_sim0_204841: Initial positions for simulation sim0_204841\n",
      " sim0_204841: Basic Simulation of Protein 1LYZ_204830\n",
      " rec0_204841: Simulation trajectory for protein 1LYZ_204830 and simulation sim0_204841\n",
      " rec1_204841: Simulation state log for protein 1LYZ_204830 and simulation sim0_204841\n",
      " rec2_204841: Simulation pdb frames for protein 1LYZ_204830 and simulation sim0_204841\n"
     ]
    }
   ],
   "source": [
    "registry = agent_1.path_registry\n",
    "print(registry.list_path_names_and_descriptions().replace(\",\", \"\\n\"))"
   ]
  },
  {
   "cell_type": "code",
   "execution_count": 8,
   "metadata": {},
   "outputs": [],
   "source": [
    "traj_path_1 = registry.get_mapped_path(\"rec0_204841\")\n",
    "top_path_1 = registry.get_mapped_path(\"top_sim0_204841\")\n",
    "\n",
    "assert os.path.exists(traj_path_1)\n",
    "assert os.path.exists(top_path_1)"
   ]
  },
  {
   "cell_type": "code",
   "execution_count": 9,
   "metadata": {},
   "outputs": [
    {
     "name": "stdout",
     "output_type": "stream",
     "text": [
      "Number of chains:  2\n",
      "Number of sheets:  14\n",
      "Number of helices:  50\n",
      "Number of coils:  65\n"
     ]
    }
   ],
   "source": [
    "path = registry.get_mapped_path(\"1LYZ_204757\")\n",
    "traj = md.load(path)\n",
    "#get dssp \n",
    "number_of_chains = traj.n_chains\n",
    "secondary_structure = md.compute_dssp(traj,simplified=True)\n",
    "print(\"Number of chains: \",number_of_chains)\n",
    "print(\"Number of sheets: \",len([i for i in secondary_structure[0] if i == 'E']))\n",
    "print(\"Number of helices: \",len([i for i in secondary_structure[0] if i == 'H']))\n",
    "print(\"Number of coils: \",len([i for i in secondary_structure[0] if i == 'C']))"
   ]
  },
  {
   "cell_type": "code",
   "execution_count": 10,
   "metadata": {},
   "outputs": [
    {
     "name": "stdout",
     "output_type": "stream",
     "text": [
      "Thought: To simulate 1LYZ and analyze its structure, I will first download the PDB file, then set up and run a short simulation. After that, I can use analysis tools to determine the number of residues in the chains and beta sheets.\n",
      "\n",
      "Action:\n",
      "```\n",
      "{\n",
      "  \"action\": \"PDBFileDownloader\",\n",
      "  \"action_input\": \"1LYZ\"\n",
      "}\n",
      "```\n",
      "\n",
      "PDB file found with this ID: 1LYZ\n",
      "Thought: Now that I have the PDB file, I can set up and run a short 1 ps simulation at 300 K. I will use the SetUpandRunFunction tool to do this.\n",
      "\n",
      "Action:\n",
      "```\n",
      "{\n",
      "  \"action\": \"SetUpandRunFunction\",\n",
      "  \"action_input\": {\n",
      "    \"pdb_id\": \"1LYZ_205117\",\n",
      "    \"forcefield_files\": [\"amber14/protein.ff14SB.xml\", \"amber14/tip3p.xml\"],\n",
      "    \"save\": true,\n",
      "    \"system_params\": {\n",
      "      \"nonbondedMethod\": \"PME\", \n",
      "      \"nonbondedCutoff\": 1.0,\n",
      "      \"constraints\": \"HBonds\",\n",
      "      \"rigidWater\": true,\n",
      "      \"constraintTolerance\": 0.000001,\n",
      "      \"ewaldErrorTolerance\": 0.0005,\n",
      "      \"solvate\": true\n",
      "    },\n",
      "    \"integrator_params\": {\n",
      "      \"integrator_type\": \"LangevinMiddle\", \n",
      "      \"Temperature\": \"300 * kelvin\",\n",
      "      \"Friction\": \"1.0 / picoseconds\", \n",
      "      \"Timestep\": \"0.002 * picoseconds\",\n",
      "      \"Pressure\": \"1.0 * bar\"\n",
      "    },\n",
      "    \"simulation_params\": {\n",
      "      \"Ensemble\": \"NVT\",\n",
      "      \"Number of Steps\": 500,\n",
      "      \"record_interval_steps\": 5,\n",
      "      \"record_params\": [\"step\", \"potentialEnergy\", \"temperature\"]\n",
      "    }\n",
      "  }\n",
      "}\n",
      "```\n",
      "\n",
      "Building system...\n",
      "About to create system...\n",
      "Attempts at creating system: 0/3\n",
      "Error adding solvent ValueError – No template found for residue 1 (LYS).  The set of atoms is similar to HID, but it is missing 8 atoms.  For more information, see https://github.com/openmm/openmm/wiki/Frequently-Asked-Questions#template\n",
      "Residue code: LYS\n",
      "Residue code not in solvent list. Adding forcefield                         not supported.\n",
      "Thought: The simulation failed because the PDB file is missing atoms needed for the force field. I will first clean up the PDB file to add missing atoms and hydrogens, then retry the simulation setup and run.\n",
      "\n",
      "Action:\n",
      "```\n",
      "{\n",
      "  \"action\": \"CleaningToolFunction\",\n",
      "  \"action_input\": {\n",
      "    \"pdb_id\": \"1LYZ_205117\",\n",
      "    \"replace_nonstandard_residues\": true,\n",
      "    \"add_missing_atoms\": true,\n",
      "    \"remove_heterogens\": true,\n",
      "    \"remove_water\": true,\n",
      "    \"add_hydrogens\": true,\n",
      "    \"add_hydrogens_ph\": 7.0\n",
      "  }\n",
      "}\n",
      "```\n",
      "\n",
      "file path: /Users/samanthacox/Desktop/md-agent/ckpt/ckpt_14/pdb/1LYZ_raw_20241021_205117.pdb\n",
      "Thought: Now that the PDB file has been cleaned, I will retry setting up and running the 1 ps simulation at 300 K using the cleaned PDB file.\n",
      "\n",
      "Action:\n",
      "```\n",
      "{\n",
      "  \"action\": \"SetUpandRunFunction\",\n",
      "  \"action_input\": {\n",
      "    \"pdb_id\": \"1LYZ_205142\",\n",
      "    \"forcefield_files\": [\"amber14/protein.ff14SB.xml\", \"amber14/tip3p.xml\"],\n",
      "    \"save\": true,\n",
      "    \"system_params\": {\n",
      "      \"nonbondedMethod\": \"PME\", \n",
      "      \"nonbondedCutoff\": 1.0,\n",
      "      \"constraints\": \"HBonds\",\n",
      "      \"rigidWater\": true,\n",
      "      \"constraintTolerance\": 0.000001,\n",
      "      \"ewaldErrorTolerance\": 0.0005,\n",
      "      \"solvate\": true\n",
      "    },\n",
      "    \"integrator_params\": {\n",
      "      \"integrator_type\": \"LangevinMiddle\", \n",
      "      \"Temperature\": \"300 * kelvin\",\n",
      "      \"Friction\": \"1.0 / picoseconds\", \n",
      "      \"Timestep\": \"0.002 * picoseconds\",\n",
      "      \"Pressure\": \"1.0 * bar\"\n",
      "    },\n",
      "    \"simulation_params\": {\n",
      "      \"Ensemble\": \"NVT\",\n",
      "      \"Number of Steps\": 500,\n",
      "      \"record_interval_steps\": 5,\n",
      "      \"record_params\": [\"step\", \"potentialEnergy\", \"temperature\"]\n",
      "    }\n",
      "  }\n",
      "}\n",
      "```Building system...\n",
      "About to create system...\n",
      "Attempts at creating system: 0/3\n",
      "System built successfully\n",
      "<openmm.openmm.System; proxy of <Swig Object of type 'OpenMM::System *' at 0x18d1de400> >\n",
      "Setting up integrator...\n",
      "Creating simulation...\n",
      "simulation set!\n",
      "Performing energy minimization...\n",
      "Minimization complete!\n",
      "Initial Positions saved to initial_positions.pdb\n",
      "Equilibrating...\n",
      "Simulating...\n",
      "Done!\n",
      "Standalone simulation script written to /Users/samanthacox/Desktop/md-agent/ckpt/ckpt_14/simulations/NVT_1LYZ_205142_20241021_205159.py\n",
      "['TRAJ_sim0_205159_1LYZ_205142_20241021_205202.dcd', 'prompt8.ipynb', 'LOG_sim0_205159_1LYZ_205142_20241021_205202.txt', 'prompt2.ipynb', 'prompt6.ipynb', 'TOP_sim0_205159_1LYZ_205142_20241021_205202.pdb', 'prompt4.ipynb', 'prompt3.ipynb', 'prompt1.ipynb', 'prompt5.ipynb', 'prompt7.ipynb']\n",
      "Thought: The simulation ran successfully. Now I can analyze the structure to determine the number of residues in the chains and beta sheets using the ComputeDSSP tool.\n",
      "\n",
      "Action:\n",
      "```\n",
      "{\n",
      "  \"action\": \"ComputeDSSP\",\n",
      "  \"action_input\": {\n",
      "    \"traj_file\": \"rec0_205202\",\n",
      "    \"top_file\": \"top_sim0_205159\",\n",
      "    \"target_frames\": \"last\"\n",
      "  }\n",
      "}\n",
      "```\n",
      "\n",
      "Based on the analysis, here is the summary to answer the original question:\n",
      "\n",
      "Action:\n",
      "```\n",
      "{\n",
      "  \"action\": \"Final Answer\",\n",
      "  \"action_input\": \"I downloaded the PDB file for 1LYZ and cleaned it up by adding missing atoms and hydrogens. Then I set up and ran a 1 ps molecular dynamics simulation of the protein at 300 K. \n",
      "\n",
      "After the simulation finished, I analyzed the secondary structure of the protein in the last frame using the DSSP algorithm. The results show:\n",
      "\n",
      "The protein has 129 total residues (52 in helices, 16 in beta strands, 61 in coil/loop regions). There are also 6795 non-protein residues, likely from the solvent.\n",
      "\n",
      "So in summary:\n",
      "- Total protein residues: 129 \n",
      "- Residues in beta sheets: 16\n",
      "- Number of chains: 1 (lysozyme is a single chain protein)\n",
      "\n",
      "Let me know if you need any other details about the 1LYZ structure or simulation!\"\n",
      "}\n",
      "```"
     ]
    },
    {
     "data": {
      "text/plain": [
       "({'input': '\\n    You are an expert molecular dynamics scientist, and\\n    your task is to respond to the question or\\n    solve the problem to the best of your ability using\\n    the provided tools.\\n\\n    You can only respond with a single complete\\n    \\'Thought, Action, Action Input\\' format\\n    OR a single \\'Final Answer\\' format.\\n\\n    Complete format:\\n    Thought: (reflect on your progress and decide what to do next)\\n    Action:\\n    ```\\n    {\\n        \"action\": (the action name, it should be the name of a tool),\\n        \"action_input\": (the input string for the action)\\n    }\\n    \\'\\'\\'\\n\\n    OR\\n\\n    Final Answer: (the final response to the original input\\n    question, once all steps are complete)\\n\\n    You are required to use the tools provided,\\n    using the most specific tool\\n    available for each action.\\n    Your final answer should contain all information\\n    necessary to answer the question and its subquestions.\\n    Before you finish, reflect on your progress and make\\n    sure you have addressed the question in its entirety.\\n\\n    If you are asked to continue\\n    or reference previous runs,\\n    the context will be provided to you.\\n    If context is provided, you should assume\\n    you are continuing a chat.\\n\\n    Here is the input:\\n    Previous Context: None\\n    Question: Simulate 1LYZ for 1 ps at 300 K. Tell me how many residues are in the chains and beta sheets. ',\n",
       "  'output': 'I downloaded the PDB file for 1LYZ and cleaned it up by adding missing atoms and hydrogens. Then I set up and ran a 1 ps molecular dynamics simulation of the protein at 300 K. \\n\\nAfter the simulation finished, I analyzed the secondary structure of the protein in the last frame using the DSSP algorithm. The results show:\\n\\nThe protein has 129 total residues (52 in helices, 16 in beta strands, 61 in coil/loop regions). There are also 6795 non-protein residues, likely from the solvent.\\n\\nSo in summary:\\n- Total protein residues: 129 \\n- Residues in beta sheets: 16\\n- Number of chains: 1 (lysozyme is a single chain protein)\\n\\nLet me know if you need any other details about the 1LYZ structure or simulation!'},\n",
       " 'DGTFKH9J')"
      ]
     },
     "execution_count": 10,
     "metadata": {},
     "output_type": "execute_result"
    }
   ],
   "source": [
    "agent_2 = MDCrow(agent_type=\"Structured\", model=llm_model, top_k_tools=tools)\n",
    "agent_2.run(non_descriptive_prompt_3)"
   ]
  },
  {
   "cell_type": "code",
   "execution_count": 11,
   "metadata": {},
   "outputs": [
    {
     "name": "stdout",
     "output_type": "stream",
     "text": [
      "Files found in registry: 1LYZ_205117: PDB file downloaded from RSCB\n",
      " PDBFile ID: 1LYZ_205117\n",
      " 1LYZ_205142: Cleaned File:  Removed Heterogens\n",
      " and Water Removed.  Replaced Nonstandard Residues. Added Hydrogens at pH 7.0. Missing Atoms Added and replaces nonstandard residues. \n",
      " top_sim0_205159: Initial positions for simulation sim0_205159\n",
      " sim0_205159: Basic Simulation of Protein 1LYZ_205142\n",
      " rec0_205202: Simulation trajectory for protein 1LYZ_205142 and simulation sim0_205159\n",
      " rec1_205202: Simulation state log for protein 1LYZ_205142 and simulation sim0_205159\n",
      " rec2_205202: Simulation pdb frames for protein 1LYZ_205142 and simulation sim0_205159\n",
      " rec0_205645: dssp values for trajectory with id: rec0_205202\n"
     ]
    }
   ],
   "source": [
    "registry = agent_2.path_registry\n",
    "print(registry.list_path_names_and_descriptions().replace(\",\", \"\\n\"))"
   ]
  },
  {
   "cell_type": "code",
   "execution_count": 12,
   "metadata": {},
   "outputs": [],
   "source": [
    "traj_path_2 = registry.get_mapped_path(\"rec0_205202\")\n",
    "top_path_2 = registry.get_mapped_path(\"top_sim0_205159\")\n",
    "\n",
    "assert os.path.exists(traj_path_2)\n",
    "assert os.path.exists(top_path_2)"
   ]
  },
  {
   "cell_type": "code",
   "execution_count": 15,
   "metadata": {},
   "outputs": [
    {
     "name": "stdout",
     "output_type": "stream",
     "text": [
      "Number of chains:  3\n",
      "Number of sheets:  16\n",
      "Number of helices:  52\n",
      "Number of coils:  61\n"
     ]
    }
   ],
   "source": [
    "traj = md.load(traj_path_2, top=top_path_2)\n",
    "traj = traj[-1]\n",
    "#get dssp \n",
    "number_of_chains = traj.n_chains\n",
    "secondary_structure = md.compute_dssp(traj,simplified=True)\n",
    "print(\"Number of chains: \",number_of_chains)\n",
    "print(\"Number of sheets: \",len([i for i in secondary_structure[0] if i == 'E']))\n",
    "print(\"Number of helices: \",len([i for i in secondary_structure[0] if i == 'H']))\n",
    "print(\"Number of coils: \",len([i for i in secondary_structure[0] if i == 'C']))"
   ]
  },
  {
   "cell_type": "code",
   "execution_count": null,
   "metadata": {},
   "outputs": [],
   "source": []
  }
 ],
 "metadata": {
  "kernelspec": {
   "display_name": "mdcrow2",
   "language": "python",
   "name": "python3"
  },
  "language_info": {
   "codemirror_mode": {
    "name": "ipython",
    "version": 3
   },
   "file_extension": ".py",
   "mimetype": "text/x-python",
   "name": "python",
   "nbconvert_exporter": "python",
   "pygments_lexer": "ipython3",
   "version": "3.12.5"
  }
 },
 "nbformat": 4,
 "nbformat_minor": 2
}
