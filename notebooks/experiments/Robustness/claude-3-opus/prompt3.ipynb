{
 "cells": [
  {
   "cell_type": "code",
   "execution_count": 1,
   "metadata": {},
   "outputs": [],
   "source": [
    "from mdagent import MDAgent\n",
    "import os \n",
    "import mdtraj as md"
   ]
  },
  {
   "cell_type": "code",
   "execution_count": 2,
   "metadata": {},
   "outputs": [
    {
     "data": {
      "text/plain": [
       "('Complete all of the following tasks: 1. Download the PDB file 1LYZ. 2. Report the secondary structure assignments of the downloaded PDB structure. 3. Simulate for 1ps at 300 K.',\n",
       " 'Simulate 1LYZ for 1ps at 300 K. Report the secondary structure assignments of the downloaded PDB structure.')"
      ]
     },
     "execution_count": 2,
     "metadata": {},
     "output_type": "execute_result"
    }
   ],
   "source": [
    "import sys\n",
    "import os\n",
    "parent_dir = os.path.abspath(os.path.join(os.getcwd(), '..'))\n",
    "sys.path.append(parent_dir)\n",
    "from robustness_prompts import get_prompt\n",
    "\n",
    "prompt_3_descriptive = get_prompt(\"descriptive\", 3)\n",
    "prompt_3_natural = get_prompt(\"natural\", 3)\n",
    "\n",
    "prompt_3_descriptive, prompt_3_natural"
   ]
  },
  {
   "cell_type": "code",
   "execution_count": 3,
   "metadata": {},
   "outputs": [],
   "source": [
    "llm_model = \"claude-3-opus-20240229\"\n",
    "tools = \"all\""
   ]
  },
  {
   "cell_type": "code",
   "execution_count": 4,
   "metadata": {},
   "outputs": [
    {
     "name": "stdout",
     "output_type": "stream",
     "text": [
      "Thought: To complete the given tasks, I will first download the PDB file 1LYZ using the PDBFileDownloader tool. Then, I will use the ComputeDSSP tool to report the secondary structure assignments of the downloaded PDB structure. Finally, I will set up and run a short 1ps simulation at 300K using the SetUpandRunFunction tool.\n",
      "\n",
      "Action:\n",
      "```\n",
      "{\n",
      "  \"action\": \"PDBFileDownloader\",\n",
      "  \"action_input\": \"1LYZ\"\n",
      "}\n",
      "```\n",
      "\n",
      "PDB file found with this ID: 1LYZ\n",
      "Thought: Now that I have downloaded the PDB file for 1LYZ, I will use the ComputeDSSP tool to report the secondary structure assignments for this structure.\n",
      "\n",
      "Action:\n",
      "```\n",
      "{\n",
      "  \"action\": \"ComputeDSSP\",\n",
      "  \"action_input\": {\n",
      "    \"traj_file\": \"1LYZ_000536\",\n",
      "    \"target_frames\": \"first\"\n",
      "  }\n",
      "}\n",
      "```\n",
      "\n",
      "Thought: Now that I have downloaded the PDB file for 1LYZ and reported the secondary structure assignments, the final step is to set up and run a short 1ps simulation at 300K using the SetUpandRunFunction tool.\n",
      "\n",
      "Action:\n",
      "```\n",
      "{\n",
      "  \"action\": \"SetUpandRunFunction\",\n",
      "  \"action_input\": {\n",
      "    \"pdb_id\": \"1LYZ_000536\",\n",
      "    \"forcefield_files\": [\"amber14-all.xml\", \"amber14/tip3pfb.xml\"],\n",
      "    \"save\": false,\n",
      "    \"system_params\": {\n",
      "      \"nonbondedMethod\": \"NoCutoff\",\n",
      "      \"constraints\": \"None\",\n",
      "      \"rigidWater\": false,\n",
      "      \"solvate\": true\n",
      "    },\n",
      "    \"integrator_params\": {\n",
      "      \"integrator_type\": \"LangevinMiddle\",\n",
      "      \"Temperature\": \"300 * kelvin\",\n",
      "      \"Friction\": \"1.0 / picoseconds\",\n",
      "      \"Timestep\": \"0.002 * picoseconds\"\n",
      "    },\n",
      "    \"simulation_params\": {\n",
      "      \"Ensemble\": \"NVT\",\n",
      "      \"Number of Steps\": 500,\n",
      "      \"record_interval_steps\": 5,\n",
      "      \"record_params\": [\"step\", \"potentialEnergy\", \"temperature\"]\n",
      "    }\n",
      "  }\n",
      "}\n",
      "```\n",
      "\n",
      "Building system...\n",
      "About to create system...\n",
      "Attempts at creating system: 0/3\n",
      "Error adding solvent ValueError – No template found for residue 1 (LYS).  The set of atoms is similar to HID, but it is missing 8 atoms.  For more information, see https://github.com/openmm/openmm/wiki/Frequently-Asked-Questions#template\n",
      "Residue code: LYS\n",
      "Residue code not in solvent list. Adding forcefield                         not supported.\n",
      "Thought: The simulation failed because the PDB file was missing atoms needed to parameterize the system with the selected force field. To fix this, I will first clean up the PDB file by adding missing atoms and replacing nonstandard residues. Then I will retry setting up and running the short simulation.\n",
      "\n",
      "Action:\n",
      "```\n",
      "{\n",
      "  \"action\": \"CleaningToolFunction\",\n",
      "  \"action_input\": {\n",
      "    \"pdb_id\": \"1LYZ_000536\",\n",
      "    \"replace_nonstandard_residues\": true,\n",
      "    \"add_missing_atoms\": true,\n",
      "    \"remove_heterogens\": true,\n",
      "    \"remove_water\": true,\n",
      "    \"add_hydrogens\": true\n",
      "  }\n",
      "}\n",
      "```\n",
      "\n",
      "file path: /Users/samanthacox/Desktop/md-agent/ckpt/ckpt_46/pdb/1LYZ_raw_20250124_000536.pdb\n",
      "Thought: Now that I have cleaned up the PDB file by adding missing atoms and replacing nonstandard residues, I will retry setting up and running the short 1ps simulation at 300K.\n",
      "\n",
      "Action:\n",
      "```\n",
      "{\n",
      "  \"action\": \"SetUpandRunFunction\",\n",
      "  \"action_input\": {\n",
      "    \"pdb_id\": \"1LYZ_000606\",\n",
      "    \"forcefield_files\": [\"amber14-all.xml\", \"amber14/tip3pfb.xml\"],\n",
      "    \"save\": false,\n",
      "    \"system_params\": {\n",
      "      \"nonbondedMethod\": \"NoCutoff\",\n",
      "      \"constraints\": \"None\",\n",
      "      \"rigidWater\": false,\n",
      "      \"solvate\": true\n",
      "    },\n",
      "    \"integrator_params\": {\n",
      "      \"integrator_type\": \"LangevinMiddle\",\n",
      "      \"Temperature\": \"300 * kelvin\",\n",
      "      \"Friction\": \"1.0 / picoseconds\",\n",
      "      \"Timestep\": \"0.002 * picoseconds\"\n",
      "    },\n",
      "    \"simulation_params\": {\n",
      "      \"Ensemble\": \"NVT\",\n",
      "      \"Number of Steps\": 500,\n",
      "      \"record_interval_steps\": 5,\n",
      "      \"record_params\": [\"step\", \"potentialEnergy\", \"temperature\"]\n",
      "    }\n",
      "  }\n",
      "}\n",
      "```\n",
      "\n",
      "Building system...\n",
      "About to create system...\n",
      "Attempts at creating system: 0/3\n",
      "System built successfully\n",
      "<openmm.openmm.System; proxy of <Swig Object of type 'OpenMM::System *' at 0x184f3adf0> >\n",
      "Setting up integrator...\n",
      "Creating simulation...\n",
      "simulation set!\n",
      "Performing energy minimization...\n",
      "Minimization complete!\n",
      "Initial Positions saved to initial_positions.pdb\n",
      "Equilibrating...\n",
      "Simulating...\n",
      "Done!\n",
      "Standalone simulation script written to /Users/samanthacox/Desktop/md-agent/ckpt/ckpt_46/simulations/NVT_1LYZ_000606_20250124_000622.py\n",
      "An exception was found: cannot access local variable 'records' where it is not associated with a value.\n",
      "Here is my final answer to the original question:\n",
      "\n",
      "To complete the requested tasks:\n",
      "\n",
      "1. I downloaded the PDB file for 1LYZ using the PDBFileDownloader tool. The file ID is 1LYZ_000536.\n",
      "\n",
      "2. I used the ComputeDSSP tool to report the secondary structure assignments for the downloaded 1LYZ structure. The results showed:\n",
      "- 50 residues in helix \n",
      "- 14 residues in strand\n",
      "- 65 residues in coil\n",
      "- 101 residues not assigned (not protein residues)\n",
      "\n",
      "3. I attempted to set up and run a 1ps simulation of 1LYZ at 300K using the SetUpandRunFunction tool. However, the initial attempt failed due to missing atoms in the PDB file that were needed to parameterize the system with the selected AMBER force field. \n",
      "\n",
      "To address this, I used the CleaningToolFunction to add missing atoms, replace nonstandard residues, remove heterogens and water, and add hydrogens to the PDB file. This generated a new cleaned PDB file with ID 1LYZ_000606.\n",
      "\n",
      "I then retried setting up and running the 1ps simulation using the cleaned PDB file 1LYZ_000606. However, this simulation attempt also failed due to what appears to be an issue accessing a local variable in the simulation setup code.\n",
      "\n",
      "In summary, I was able to complete tasks 1 and 2 to download the 1LYZ PDB file and report its secondary structure composition. However, I encountered errors trying to set up and run the requested 1ps simulation at 300K, even after cleaning up the PDB file to add missing information. Additional troubleshooting of the simulation setup code would be needed to resolve the errors and successfully run the simulation.\n",
      "\n",
      "Action:\n",
      "```\n",
      "{\n",
      "  \"action\": \"Final Answer\",\n",
      "  \"action_input\": \"To complete the requested tasks:\\n\\n1. I downloaded the PDB file for 1LYZ using the PDBFileDownloader tool. The file ID is 1LYZ_000536.\\n\\n2. I used the ComputeDSSP tool to report the secondary structure assignments for the downloaded 1LYZ structure. The results showed:\\n- 50 residues in helix \\n- 14 residues in strand\\n- 65 residues in coil\\n- 101 residues not assigned (not protein residues)\\n\\n3. I attempted to set up and run a 1ps simulation of 1LYZ at 300K using the SetUpandRunFunction tool. However, the initial attempt failed due to missing atoms in the PDB file that were needed to parameterize the system with the selected AMBER force field. \\n\\nTo address this, I used the CleaningToolFunction to add missing atoms, replace nonstandard residues, remove heterogens and water, and add hydrogens to the PDB file. This generated a new cleaned PDB file with ID 1LYZ_000606.\\n\\nI then retried setting up and running the 1ps simulation using the cleaned PDB file 1LYZ_000606. However, this simulation attempt also failed due to what appears to be an issue accessing a local variable in the simulation setup code.\\n\\nIn summary, I was able to complete tasks 1 and 2 to download the 1LYZ PDB file and report its secondary structure composition. However, I encountered errors trying to set up and run the requested 1ps simulation at 300K, even after cleaning up the PDB file to add missing information. Additional troubleshooting of the simulation setup code would be needed to resolve the errors and successfully run the simulation.\"\n",
      "}\n",
      "```"
     ]
    },
    {
     "data": {
      "text/plain": [
       "({'input': '\\n    You are an expert molecular dynamics scientist, and\\n    your task is to respond to the question or\\n    solve the problem to the best of your ability using\\n    the provided tools.\\n\\n    You can only respond with a single complete\\n    \\'Thought, Action, Action Input\\' format\\n    OR a single \\'Final Answer\\' format.\\n\\n    Complete format:\\n    Thought: (reflect on your progress and decide what to do next)\\n    Action:\\n    ```\\n    {\\n        \"action\": (the action name, it should be the name of a tool),\\n        \"action_input\": (the input string for the action)\\n    }\\n    \\'\\'\\'\\n\\n    OR\\n\\n    Final Answer: (the final response to the original input\\n    question, once all steps are complete)\\n\\n    You are required to use the tools provided,\\n    using the most specific tool\\n    available for each action.\\n    Your final answer should contain all information\\n    necessary to answer the question and its subquestions.\\n    Before you finish, reflect on your progress and make\\n    sure you have addressed the question in its entirety.\\n\\n    If you are asked to continue\\n    or reference previous runs,\\n    the context will be provided to you.\\n    If context is provided, you should assume\\n    you are continuing a chat.\\n\\n    Here is the input:\\n    Previous Context: None\\n    Question: Complete all of the following tasks: 1. Download the PDB file 1LYZ. 2. Report the secondary structure assignments of the downloaded PDB structure. 3. Simulate for 1ps at 300 K. ',\n",
       "  'output': 'To complete the requested tasks:\\n\\n1. I downloaded the PDB file for 1LYZ using the PDBFileDownloader tool. The file ID is 1LYZ_000536.\\n\\n2. I used the ComputeDSSP tool to report the secondary structure assignments for the downloaded 1LYZ structure. The results showed:\\n- 50 residues in helix \\n- 14 residues in strand\\n- 65 residues in coil\\n- 101 residues not assigned (not protein residues)\\n\\n3. I attempted to set up and run a 1ps simulation of 1LYZ at 300K using the SetUpandRunFunction tool. However, the initial attempt failed due to missing atoms in the PDB file that were needed to parameterize the system with the selected AMBER force field. \\n\\nTo address this, I used the CleaningToolFunction to add missing atoms, replace nonstandard residues, remove heterogens and water, and add hydrogens to the PDB file. This generated a new cleaned PDB file with ID 1LYZ_000606.\\n\\nI then retried setting up and running the 1ps simulation using the cleaned PDB file 1LYZ_000606. However, this simulation attempt also failed due to what appears to be an issue accessing a local variable in the simulation setup code.\\n\\nIn summary, I was able to complete tasks 1 and 2 to download the 1LYZ PDB file and report its secondary structure composition. However, I encountered errors trying to set up and run the requested 1ps simulation at 300K, even after cleaning up the PDB file to add missing information. Additional troubleshooting of the simulation setup code would be needed to resolve the errors and successfully run the simulation.'},\n",
       " 'GTGRRWLS')"
      ]
     },
     "execution_count": 4,
     "metadata": {},
     "output_type": "execute_result"
    }
   ],
   "source": [
    "agent_1 = MDAgent(agent_type=\"Structured\", model=llm_model, top_k_tools=tools, use_memory=False)\n",
    "agent_1.run(prompt_3_descriptive)"
   ]
  },
  {
   "cell_type": "code",
   "execution_count": 10,
   "metadata": {},
   "outputs": [
    {
     "name": "stdout",
     "output_type": "stream",
     "text": [
      "Files found in registry: 1LYZ_000536: PDB file downloaded from RSCB\n",
      " PDBFile ID: 1LYZ_000536\n",
      " rec0_000541: dssp values for trajectory with id: 1LYZ_000536\n",
      " 1LYZ_000606: Cleaned File:  Removed Heterogens\n",
      " and Water Removed.  Replaced Nonstandard Residues. Added Hydrogens at pH 7.0. Missing Atoms Added and replaces nonstandard residues. \n",
      " top_sim0_000622: Initial positions for simulation sim0_000622\n",
      " sim0_000622: Basic Simulation of Protein 1LYZ_000606\n",
      " rec0_002120: dssp values for trajectory with id: 1LYZ_000536\n",
      " rec0_003705: dssp values for trajectory with id: 1LYZ_000536\n"
     ]
    }
   ],
   "source": [
    "registry_1 = agent_1.path_registry\n",
    "print(registry_1.list_path_names_and_descriptions().replace(\",\", \"\\n\"))"
   ]
  },
  {
   "cell_type": "code",
   "execution_count": 11,
   "metadata": {},
   "outputs": [],
   "source": [
    "# make sure pdb was downloaded\n",
    "assert os.path.exists(registry_1.get_mapped_path(\"1LYZ_000536\"))"
   ]
  },
  {
   "cell_type": "code",
   "execution_count": 9,
   "metadata": {},
   "outputs": [
    {
     "data": {
      "text/plain": [
       "\"{'residues in helix': 50, 'residues in strand': 14, 'residues in coil': 65, 'residues not assigned, not a protein residue': 101}\""
      ]
     },
     "execution_count": 9,
     "metadata": {},
     "output_type": "execute_result"
    }
   ],
   "source": [
    "# make sure dssp was computed correctly\n",
    "from mdagent.tools.base_tools import ComputeDSSP\n",
    "\n",
    "dssp = ComputeDSSP(registry_1)\n",
    "dssp._run(traj_file= \"1LYZ_000536\", target_frames=\"first\")"
   ]
  },
  {
   "cell_type": "code",
   "execution_count": 12,
   "metadata": {},
   "outputs": [
    {
     "name": "stdout",
     "output_type": "stream",
     "text": [
      "Thought: To simulate 1LYZ for 1ps at 300K, I first need to download the PDB file for 1LYZ. Then I can set up and run a short 1ps simulation at 300K using the SetUpandRunFunction tool. Finally, I can compute the secondary structure assignments of the downloaded PDB structure using the ComputeDSSP tool.\n",
      "\n",
      "Action:\n",
      "```\n",
      "{\n",
      "  \"action\": \"PDBFileDownloader\",\n",
      "  \"action_input\": \"1LYZ\"\n",
      "}\n",
      "```\n",
      "\n",
      "PDB file found with this ID: 1LYZ\n",
      "Thought: Now that I have the PDB file for 1LYZ, I can set up and run a short 1ps simulation at 300K using the SetUpandRunFunction tool.\n",
      "\n",
      "Action:\n",
      "```\n",
      "{\n",
      "  \"action\": \"SetUpandRunFunction\",\n",
      "  \"action_input\": {\n",
      "    \"pdb_id\": \"1LYZ_004202\",\n",
      "    \"forcefield_files\": [\"amber14/protein.ff14SB.xml\", \"amber14/tip3p.xml\"],\n",
      "    \"save\": true,\n",
      "    \"system_params\": {\n",
      "      \"nonbondedMethod\": \"NoCutoff\",\n",
      "      \"constraints\": \"None\",\n",
      "      \"rigidWater\": false\n",
      "    },\n",
      "    \"integrator_params\": {\n",
      "      \"integrator_type\": \"LangevinMiddle\",\n",
      "      \"Temperature\": \"300 * kelvin\",\n",
      "      \"Friction\": \"1.0 / picoseconds\",\n",
      "      \"Timestep\": \"0.002 * picoseconds\"\n",
      "    },\n",
      "    \"simulation_params\": {\n",
      "      \"Ensemble\": \"NVT\",\n",
      "      \"Number of Steps\": 500,\n",
      "      \"record_interval_steps\": 5,\n",
      "      \"record_params\": [\"step\", \"potentialEnergy\", \"temperature\"]\n",
      "    }\n",
      "  }\n",
      "}\n",
      "```\n",
      "\n",
      "Building system...\n",
      "About to create system...\n",
      "Attempts at creating system: 0/3\n",
      "adding system without solvent\n",
      "Trying to add component to Forcefield...\n",
      "Residue code: LYS\n",
      "Residue code not in solvent list. Adding forcefield                         not supported.\n",
      "Thought: The simulation failed because the PDB file is missing atoms needed for the force field. I should first clean up the PDB file using the CleaningToolFunction to add missing atoms and hydrogens. Then I can retry setting up and running the simulation.\n",
      "\n",
      "Action:\n",
      "```\n",
      "{\n",
      "  \"action\": \"CleaningToolFunction\",\n",
      "  \"action_input\": {\n",
      "    \"pdb_id\": \"1LYZ_004202\",\n",
      "    \"replace_nonstandard_residues\": true,\n",
      "    \"add_missing_atoms\": true,\n",
      "    \"remove_heterogens\": true,\n",
      "    \"remove_water\": true,\n",
      "    \"add_hydrogens\": true,\n",
      "    \"add_hydrogens_ph\": 7.0\n",
      "  }\n",
      "}\n",
      "```\n",
      "\n",
      "file path: /Users/samanthacox/Desktop/md-agent/ckpt/ckpt_50/pdb/1LYZ_raw_20250124_004202.pdb\n",
      "Thought: Now that the PDB file has been cleaned, I can retry setting up and running the 1ps simulation at 300K.\n",
      "\n",
      "Action:\n",
      "```\n",
      "{\n",
      "  \"action\": \"SetUpandRunFunction\",\n",
      "  \"action_input\": {\n",
      "    \"pdb_id\": \"1LYZ_004223\",\n",
      "    \"forcefield_files\": [\"amber14/protein.ff14SB.xml\", \"amber14/tip3p.xml\"],\n",
      "    \"save\": true,\n",
      "    \"system_params\": {\n",
      "      \"nonbondedMethod\": \"NoCutoff\",\n",
      "      \"constraints\": \"None\",\n",
      "      \"rigidWater\": false\n",
      "    },\n",
      "    \"integrator_params\": {\n",
      "      \"integrator_type\": \"LangevinMiddle\",\n",
      "      \"Temperature\": \"300 * kelvin\",\n",
      "      \"Friction\": \"1.0 / picoseconds\",\n",
      "      \"Timestep\": \"0.002 * picoseconds\"\n",
      "    },\n",
      "    \"simulation_params\": {\n",
      "      \"Ensemble\": \"NVT\",\n",
      "      \"Number of Steps\": 500,\n",
      "      \"record_interval_steps\": 5,\n",
      "      \"record_params\": [\"step\", \"potentialEnergy\", \"temperature\"]\n",
      "    }\n",
      "  }\n",
      "}\n",
      "```\n",
      "\n",
      "Building system...\n",
      "About to create system...\n",
      "Attempts at creating system: 0/3\n",
      "adding system without solvent\n",
      "System built successfully\n",
      "<openmm.openmm.System; proxy of <Swig Object of type 'OpenMM::System *' at 0x185106f10> >\n",
      "Setting up integrator...\n",
      "Creating simulation...\n",
      "simulation set!\n",
      "Performing energy minimization...\n",
      "Minimization complete!\n",
      "Initial Positions saved to initial_positions.pdb\n",
      "Equilibrating...\n",
      "Simulating...\n",
      "Done!\n",
      "Standalone simulation script written to /Users/samanthacox/Desktop/md-agent/ckpt/ckpt_50/simulations/NVT_1LYZ_004223_20250124_004234.py\n",
      "['prompt9.ipynb', 'prompt8.ipynb', 'TOP_sim0_004234_1LYZ_004223_20250124_004235.pdb', 'temp_topology.pdb', 'prompt10.ipynb', 'LOG_sim0_004234_1LYZ_004223_20250124_004235.txt', 'prompt2.ipynb', 'prompt6.ipynb', 'prompt4.ipynb', 'prompt3.ipynb', 'prompt1.ipynb', 'TRAJ_sim0_004234_1LYZ_004223_20250124_004235.dcd', 'prompt5.ipynb', 'prompt7.ipynb']\n",
      "Thought: The 1ps simulation of 1LYZ at 300K completed successfully. The final step is to compute the secondary structure assignments of the downloaded PDB structure using the ComputeDSSP tool.\n",
      "\n",
      "Action:\n",
      "```\n",
      "{\n",
      "  \"action\": \"ComputeDSSP\",\n",
      "  \"action_input\": {\n",
      "    \"traj_file\": \"rec0_004235\",\n",
      "    \"top_file\": \"top_sim0_004234\",\n",
      "    \"target_frames\": \"first\"\n",
      "  }\n",
      "}\n",
      "```\n",
      "\n",
      "Here is the final answer to the question:\n",
      "\n",
      "To simulate the protein 1LYZ for 1ps at 300K:\n",
      "\n",
      "1. I downloaded the PDB file for 1LYZ using the PDBFileDownloader tool. \n",
      "\n",
      "2. I cleaned up the downloaded PDB file using the CleaningToolFunction tool to add missing atoms and hydrogens that are required for the force field. This generated a cleaned PDB file.\n",
      "\n",
      "3. I set up and ran a 1ps NVT simulation at 300K using the cleaned PDB file and the SetUpandRunFunction tool with the following key parameters:\n",
      "- Force field: amber14/protein.ff14SB.xml \n",
      "- Integrator: LangevinMiddle\n",
      "- Temperature: 300K\n",
      "- Time step: 0.002 ps\n",
      "- Number of steps: 500 (1ps total)\n",
      "\n",
      "The simulation completed successfully and generated a trajectory file, state data file, and PDB frames file.\n",
      "\n",
      "4. To report on the secondary structure of the downloaded PDB structure, I used the ComputeDSSP tool on just the first frame of the trajectory (the initial PDB structure). \n",
      "\n",
      "The DSSP analysis of the initial 1LYZ structure shows:\n",
      "- 52 residues in helices \n",
      "- 14 residues in beta strands\n",
      "- 63 residues in coil/loop regions\n",
      "- 0 residues unassigned (all residues are protein)\n",
      "\n",
      "In summary, a 1ps simulation of lysozyme (1LYZ) was successfully set up and run at 300K after cleaning the PDB structure. DSSP analysis reveals the protein is approximately 40% helix, 11% beta sheet, and 49% coil in the initial crystal structure used to start the simulation."
     ]
    },
    {
     "data": {
      "text/plain": [
       "({'input': '\\n    You are an expert molecular dynamics scientist, and\\n    your task is to respond to the question or\\n    solve the problem to the best of your ability using\\n    the provided tools.\\n\\n    You can only respond with a single complete\\n    \\'Thought, Action, Action Input\\' format\\n    OR a single \\'Final Answer\\' format.\\n\\n    Complete format:\\n    Thought: (reflect on your progress and decide what to do next)\\n    Action:\\n    ```\\n    {\\n        \"action\": (the action name, it should be the name of a tool),\\n        \"action_input\": (the input string for the action)\\n    }\\n    \\'\\'\\'\\n\\n    OR\\n\\n    Final Answer: (the final response to the original input\\n    question, once all steps are complete)\\n\\n    You are required to use the tools provided,\\n    using the most specific tool\\n    available for each action.\\n    Your final answer should contain all information\\n    necessary to answer the question and its subquestions.\\n    Before you finish, reflect on your progress and make\\n    sure you have addressed the question in its entirety.\\n\\n    If you are asked to continue\\n    or reference previous runs,\\n    the context will be provided to you.\\n    If context is provided, you should assume\\n    you are continuing a chat.\\n\\n    Here is the input:\\n    Previous Context: None\\n    Question: Simulate 1LYZ for 1ps at 300 K. Report the secondary structure assignments of the downloaded PDB structure. ',\n",
       "  'output': 'Here is the final answer to the question:\\n\\nTo simulate the protein 1LYZ for 1ps at 300K:\\n\\n1. I downloaded the PDB file for 1LYZ using the PDBFileDownloader tool. \\n\\n2. I cleaned up the downloaded PDB file using the CleaningToolFunction tool to add missing atoms and hydrogens that are required for the force field. This generated a cleaned PDB file.\\n\\n3. I set up and ran a 1ps NVT simulation at 300K using the cleaned PDB file and the SetUpandRunFunction tool with the following key parameters:\\n- Force field: amber14/protein.ff14SB.xml \\n- Integrator: LangevinMiddle\\n- Temperature: 300K\\n- Time step: 0.002 ps\\n- Number of steps: 500 (1ps total)\\n\\nThe simulation completed successfully and generated a trajectory file, state data file, and PDB frames file.\\n\\n4. To report on the secondary structure of the downloaded PDB structure, I used the ComputeDSSP tool on just the first frame of the trajectory (the initial PDB structure). \\n\\nThe DSSP analysis of the initial 1LYZ structure shows:\\n- 52 residues in helices \\n- 14 residues in beta strands\\n- 63 residues in coil/loop regions\\n- 0 residues unassigned (all residues are protein)\\n\\nIn summary, a 1ps simulation of lysozyme (1LYZ) was successfully set up and run at 300K after cleaning the PDB structure. DSSP analysis reveals the protein is approximately 40% helix, 11% beta sheet, and 49% coil in the initial crystal structure used to start the simulation.'},\n",
       " '0L6T7PK1')"
      ]
     },
     "execution_count": 12,
     "metadata": {},
     "output_type": "execute_result"
    }
   ],
   "source": [
    "agent_2 = MDAgent(agent_type=\"Structured\", model=llm_model, top_k_tools=tools, use_memory=False)\n",
    "agent_2.run(prompt_3_natural)"
   ]
  },
  {
   "cell_type": "code",
   "execution_count": 13,
   "metadata": {},
   "outputs": [
    {
     "name": "stdout",
     "output_type": "stream",
     "text": [
      "Files found in registry: 1LYZ_004202: PDB file downloaded from RSCB\n",
      " PDBFile ID: 1LYZ_004202\n",
      " 1LYZ_004223: Cleaned File:  Removed Heterogens\n",
      " and Water Removed.  Replaced Nonstandard Residues. Added Hydrogens at pH 7.0. Missing Atoms Added and replaces nonstandard residues. \n",
      " top_sim0_004234: Initial positions for simulation sim0_004234\n",
      " sim0_004234: Basic Simulation of Protein 1LYZ_004223\n",
      " rec0_004235: Simulation trajectory for protein 1LYZ_004223 and simulation sim0_004234\n",
      " rec1_004235: Simulation state log for protein 1LYZ_004223 and simulation sim0_004234\n",
      " rec2_004235: Simulation pdb frames for protein 1LYZ_004223 and simulation sim0_004234\n",
      " rec0_004256: dssp values for trajectory with id: rec0_004235\n"
     ]
    }
   ],
   "source": [
    "registry_2 = agent_2.path_registry\n",
    "print(registry_2.list_path_names_and_descriptions().replace(\",\", \"\\n\"))"
   ]
  },
  {
   "cell_type": "code",
   "execution_count": 14,
   "metadata": {},
   "outputs": [],
   "source": [
    "# make sure pdb was downloaded\n",
    "assert os.path.exists(registry_2.get_mapped_path(\"1LYZ_004202\"))"
   ]
  },
  {
   "cell_type": "code",
   "execution_count": 15,
   "metadata": {},
   "outputs": [
    {
     "data": {
      "text/plain": [
       "\"{'residues in helix': 50, 'residues in strand': 14, 'residues in coil': 65, 'residues not assigned, not a protein residue': 101}\""
      ]
     },
     "execution_count": 15,
     "metadata": {},
     "output_type": "execute_result"
    }
   ],
   "source": [
    "# make sure dssp was computed correctly\n",
    "from mdagent.tools.base_tools import ComputeDSSP\n",
    "\n",
    "dssp = ComputeDSSP(registry_2)\n",
    "dssp._run(traj_file= \"1LYZ_004202\", target_frames=\"first\")"
   ]
  },
  {
   "cell_type": "code",
   "execution_count": 16,
   "metadata": {},
   "outputs": [],
   "source": [
    "# make sure trajectory and topology exist\n",
    "traj_path_2 = registry_2.get_mapped_path(\"rec0_004235\")\n",
    "top_path_2 = registry_2.get_mapped_path(\"top_sim0_004234\")\n",
    "\n",
    "assert os.path.exists(traj_path_2)\n",
    "assert os.path.exists(top_path_2)"
   ]
  }
 ],
 "metadata": {
  "kernelspec": {
   "display_name": "mdagent2",
   "language": "python",
   "name": "python3"
  },
  "language_info": {
   "codemirror_mode": {
    "name": "ipython",
    "version": 3
   },
   "file_extension": ".py",
   "mimetype": "text/x-python",
   "name": "python",
   "nbconvert_exporter": "python",
   "pygments_lexer": "ipython3",
   "version": "3.12.5"
  }
 },
 "nbformat": 4,
 "nbformat_minor": 2
}
