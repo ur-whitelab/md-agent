{
 "cells": [
  {
   "cell_type": "code",
   "execution_count": 1,
   "metadata": {},
   "outputs": [],
   "source": [
    "from mdcrow import MDCrow\n",
    "import os"
   ]
  },
  {
   "cell_type": "code",
   "execution_count": 2,
   "metadata": {},
   "outputs": [],
   "source": [
    "descriptive_prompt_1 = \"Complete all of the following tasks: 1. Download the PDB file 1LYZ.\"\n",
    "non_descriptive_prompt_1 = \"Download the PDB file 1LYZ.\""
   ]
  },
  {
   "cell_type": "code",
   "execution_count": 3,
   "metadata": {},
   "outputs": [],
   "source": [
    "llm_model = \"claude-3-5-sonnet-20241022\"\n",
    "tools = \"all\""
   ]
  },
  {
   "cell_type": "code",
   "execution_count": 4,
   "metadata": {},
   "outputs": [
    {
     "name": "stdout",
     "output_type": "stream",
     "text": [
      "date: 2025-01-16\n",
      "time: 11:22:30\n"
     ]
    }
   ],
   "source": [
    "#todays date and time\n",
    "import datetime\n",
    "now = datetime.datetime.now()\n",
    "date = now.strftime(\"%Y-%m-%d\")\n",
    "print(\"date:\",date)\n",
    "time = now.strftime(\"%H:%M:%S\")\n",
    "print(\"time:\",time)"
   ]
  },
  {
   "cell_type": "markdown",
   "metadata": {},
   "source": [
    "# descriptive prompt"
   ]
  },
  {
   "cell_type": "code",
   "execution_count": 6,
   "metadata": {},
   "outputs": [],
   "source": [
    "agent_1 = MDCrow(agent_type=\"Structured\", model=llm_model, top_k_tools=tools)"
   ]
  },
  {
   "cell_type": "code",
   "execution_count": 7,
   "metadata": {},
   "outputs": [
    {
     "name": "stdout",
     "output_type": "stream",
     "text": [
      "Thought: I need to download the PDB file for 1LYZ using the PDBFileDownloader tool. Since no specific file format is mentioned, I'll request the PDB format.\n",
      "\n",
      "Action:\n",
      "```\n",
      "{\n",
      "    \"action\": \"PDBFileDownloader\",\n",
      "    \"action_input\": \"1LYZ PDB\"\n",
      "}\n",
      "```\n",
      "\n",
      "PDB file found with this ID: 1LYZ\n",
      "Since I've already downloaded the PDB file 1LYZ successfully and it's been saved with the ID \"1LYZ_112257\", I can provide a final answer confirming the completion of the requested task.\n",
      "\n",
      "Action:\n",
      "```\n",
      "{\n",
      "    \"action\": \"Final Answer\",\n",
      "    \"action_input\": \"Task completed successfully: The PDB file for 1LYZ has been downloaded and saved with the ID '1LYZ_112257'. This file can now be used for further analysis if needed.\"\n",
      "}\n",
      "```"
     ]
    },
    {
     "data": {
      "text/plain": [
       "({'input': '\\n    You are an expert molecular dynamics scientist, and\\n    your task is to respond to the question or\\n    solve the problem to the best of your ability using\\n    the provided tools.\\n\\n    You can only respond with a single complete\\n    \\'Thought, Action, Action Input\\' format\\n    OR a single \\'Final Answer\\' format.\\n\\n    Complete format:\\n    Thought: (reflect on your progress and decide what to do next)\\n    Action:\\n    ```\\n    {\\n        \"action\": (the action name, it should be the name of a tool),\\n        \"action_input\": (the input string for the action)\\n    }\\n    \\'\\'\\'\\n\\n    OR\\n\\n    Final Answer: (the final response to the original input\\n    question, once all steps are complete)\\n\\n    You are required to use the tools provided,\\n    using the most specific tool\\n    available for each action.\\n    Your final answer should contain all information\\n    necessary to answer the question and its subquestions.\\n    Before you finish, reflect on your progress and make\\n    sure you have addressed the question in its entirety.\\n\\n    If you are asked to continue\\n    or reference previous runs,\\n    the context will be provided to you.\\n    If context is provided, you should assume\\n    you are continuing a chat.\\n\\n    Here is the input:\\n    Previous Context: None\\n    Question: Complete all of the following tasks: 1. Download the PDB file 1LYZ. ',\n",
       "  'output': \"Task completed successfully: The PDB file for 1LYZ has been downloaded and saved with the ID '1LYZ_112257'. This file can now be used for further analysis if needed.\"},\n",
       " '2KST2CBD')"
      ]
     },
     "execution_count": 7,
     "metadata": {},
     "output_type": "execute_result"
    },
    {
     "name": "stdout",
     "output_type": "stream",
     "text": [
      "\"action\": \"PDBFileDownloader\","
     ]
    },
    {
     "name": "stdout",
     "output_type": "stream",
     "text": [
      "\n",
      "    \"action_input\": \"1L"
     ]
    },
    {
     "name": "stdout",
     "output_type": "stream",
     "text": [
      "YZ\"\n",
      "}\n",
      "```\n",
      "\n"
     ]
    },
    {
     "name": "stdout",
     "output_type": "stream",
     "text": [
      "PDB file found with this ID: 1LYZ\n"
     ]
    },
    {
     "name": "stdout",
     "output_type": "stream",
     "text": [
      "Thought"
     ]
    },
    {
     "name": "stdout",
     "output_type": "stream",
     "text": [
      ": Since I have successfully downloaded the PDB"
     ]
    },
    {
     "name": "stdout",
     "output_type": "stream",
     "text": [
      " file 1LYZ an"
     ]
    },
    {
     "name": "stdout",
     "output_type": "stream",
     "text": [
      "d it has been saved with the ID"
     ]
    },
    {
     "name": "stdout",
     "output_type": "stream",
     "text": [
      " \"1LYZ_160850\", I can"
     ]
    },
    {
     "name": "stdout",
     "output_type": "stream",
     "text": [
      " provide a final answer confirming the"
     ]
    },
    {
     "name": "stdout",
     "output_type": "stream",
     "text": [
      " completion of the task.\n",
      "\n",
      "Action:"
     ]
    },
    {
     "name": "stdout",
     "output_type": "stream",
     "text": [
      "\n",
      "```\n",
      "{\n",
      "    \"action\": \""
     ]
    },
    {
     "name": "stdout",
     "output_type": "stream",
     "text": [
      "Final Answer\",\n",
      "    \"action_input\":"
     ]
    },
    {
     "name": "stdout",
     "output_type": "stream",
     "text": [
      " \"Task completed successfully:"
     ]
    },
    {
     "name": "stdout",
     "output_type": "stream",
     "text": [
      " The PDB file 1"
     ]
    },
    {
     "name": "stdout",
     "output_type": "stream",
     "text": [
      "LYZ has been downloaded and saved with the"
     ]
    },
    {
     "name": "stdout",
     "output_type": "stream",
     "text": [
      " ID '1LYZ_"
     ]
    },
    {
     "name": "stdout",
     "output_type": "stream",
     "text": [
      "160850'. This file is now available in"
     ]
    },
    {
     "name": "stdout",
     "output_type": "stream",
     "text": [
      " the system for further analysis or processing"
     ]
    },
    {
     "name": "stdout",
     "output_type": "stream",
     "text": [
      " if needed.\"\n",
      "}"
     ]
    },
    {
     "name": "stdout",
     "output_type": "stream",
     "text": [
      "\n",
      "```"
     ]
    },
    {
     "data": {
      "text/plain": [
       "({'input': '\\n    You are an expert molecular dynamics scientist, and\\n    your task is to respond to the question or\\n    solve the problem to the best of your ability using\\n    the provided tools.\\n\\n    You can only respond with a single complete\\n    \\'Thought, Action, Action Input\\' format\\n    OR a single \\'Final Answer\\' format.\\n\\n    Complete format:\\n    Thought: (reflect on your progress and decide what to do next)\\n    Action:\\n    ```\\n    {\\n        \"action\": (the action name, it should be the name of a tool),\\n        \"action_input\": (the input string for the action)\\n    }\\n    \\'\\'\\'\\n\\n    OR\\n\\n    Final Answer: (the final response to the original input\\n    question, once all steps are complete)\\n\\n    You are required to use the tools provided,\\n    using the most specific tool\\n    available for each action.\\n    Your final answer should contain all information\\n    necessary to answer the question and its subquestions.\\n    Before you finish, reflect on your progress and make\\n    sure you have addressed the question in its entirety.\\n\\n    If you are asked to continue\\n    or reference previous runs,\\n    the context will be provided to you.\\n    If context is provided, you should assume\\n    you are continuing a chat.\\n\\n    Here is the input:\\n    Previous Context: None\\n    Question: Complete all of the following tasks: 1. Download the PDB file 1LYZ. ',\n",
       "  'output': \"Task completed successfully: The PDB file 1LYZ has been downloaded and saved with the ID '1LYZ_160850'. This file is now available in the system for further analysis or processing if needed.\"},\n",
       " '3NUOJV6R')"
      ]
     },
     "execution_count": 6,
     "metadata": {},
     "output_type": "execute_result"
    }
   ],
   "source": [
    "agent_1.run(descriptive_prompt_1)"
   ]
  },
  {
   "cell_type": "code",
   "execution_count": 8,
   "metadata": {},
   "outputs": [
    {
     "name": "stdout",
     "output_type": "stream",
     "text": [
      "ckpt_dir: ckpt_100\n",
      "Files found in registry: 1LYZ_112257: PDB file downloaded from RSCB\n",
      " PDBFile ID: 1LYZ_112257\n"
     ]
    }
   ],
   "source": [
    "registry = agent_1.path_registry\n",
    "print(\"ckpt_dir:\",os.path.basename(registry.ckpt_dir))\n",
    "paths_and_descriptions = registry.list_path_names_and_descriptions()\n",
    "print(\"\\n\".join(paths_and_descriptions.split(\",\")))"
   ]
  },
  {
   "cell_type": "code",
   "execution_count": 9,
   "metadata": {},
   "outputs": [
    {
     "name": "stdout",
     "output_type": "stream",
     "text": [
      "It is asserted that file path for 1LYZ_112257 exists\n"
     ]
    }
   ],
   "source": [
    "import re\n",
    "import os\n",
    "match = re.search(r\"1LYZ_\\d+\", paths_and_descriptions)\n",
    "file_id = match.group(0)\n",
    "pdb_path = registry.get_mapped_path(file_id)\n",
    "assert os.path.exists(pdb_path)\n",
    "print(f'It is asserted that file path for {file_id} exists')"
   ]
  },
  {
   "cell_type": "markdown",
   "metadata": {},
   "source": [
    "# non-descriptive prompt"
   ]
  },
  {
   "cell_type": "code",
   "execution_count": 10,
   "metadata": {},
   "outputs": [],
   "source": [
    "agent_2 = MDCrow(agent_type=\"Structured\", model=llm_model, top_k_tools=tools)"
   ]
  },
  {
   "cell_type": "code",
   "execution_count": 11,
   "metadata": {},
   "outputs": [
    {
     "name": "stdout",
     "output_type": "stream",
     "text": [
      "Thought: I need to download the PDB file for 1LYZ using the PDB file downloader tool. Since no specific file format is mentioned, I'll use the default PDB format.\n",
      "\n",
      "Action:\n",
      "```\n",
      "{\n",
      "    \"action\": \"PDBFileDownloader\",\n",
      "    \"action_input\": \"1LYZ\"\n",
      "}\n",
      "```\n",
      "\n",
      "PDB file found with this ID: 1LYZ\n",
      "Thought: Since I have successfully downloaded the PDB file 1LYZ and it has been saved with the ID \"1LYZ_112304\", I can now provide a final answer confirming the completion of this task.\n",
      "\n",
      "Action:\n",
      "```\n",
      "{\n",
      "    \"action\": \"Final Answer\",\n",
      "    \"action_input\": \"I have successfully downloaded the PDB file for 1LYZ. The file has been saved with the ID '1LYZ_112304' and is now available for further analysis or processing. This PDB file corresponds to lysozyme, which is a well-studied protein that serves as a model system in structural biology.\"\n",
      "}\n",
      "```"
     ]
    },
    {
     "data": {
      "text/plain": [
       "({'input': '\\n    You are an expert molecular dynamics scientist, and\\n    your task is to respond to the question or\\n    solve the problem to the best of your ability using\\n    the provided tools.\\n\\n    You can only respond with a single complete\\n    \\'Thought, Action, Action Input\\' format\\n    OR a single \\'Final Answer\\' format.\\n\\n    Complete format:\\n    Thought: (reflect on your progress and decide what to do next)\\n    Action:\\n    ```\\n    {\\n        \"action\": (the action name, it should be the name of a tool),\\n        \"action_input\": (the input string for the action)\\n    }\\n    \\'\\'\\'\\n\\n    OR\\n\\n    Final Answer: (the final response to the original input\\n    question, once all steps are complete)\\n\\n    You are required to use the tools provided,\\n    using the most specific tool\\n    available for each action.\\n    Your final answer should contain all information\\n    necessary to answer the question and its subquestions.\\n    Before you finish, reflect on your progress and make\\n    sure you have addressed the question in its entirety.\\n\\n    If you are asked to continue\\n    or reference previous runs,\\n    the context will be provided to you.\\n    If context is provided, you should assume\\n    you are continuing a chat.\\n\\n    Here is the input:\\n    Previous Context: None\\n    Question: Download the PDB file 1LYZ. ',\n",
       "  'output': \"I have successfully downloaded the PDB file for 1LYZ. The file has been saved with the ID '1LYZ_112304' and is now available for further analysis or processing. This PDB file corresponds to lysozyme, which is a well-studied protein that serves as a model system in structural biology.\"},\n",
       " 'JNZMUPF9')"
      ]
     },
     "execution_count": 11,
     "metadata": {},
     "output_type": "execute_result"
    },
    {
     "name": "stdout",
     "output_type": "stream",
     "text": [
      "PDB\" in the"
     ]
    },
    {
     "name": "stdout",
     "output_type": "stream",
     "text": [
      " query.\n",
      "\n",
      "Action:"
     ]
    },
    {
     "name": "stdout",
     "output_type": "stream",
     "text": [
      "\n",
      "```\n",
      "{\n",
      "    "
     ]
    },
    {
     "name": "stdout",
     "output_type": "stream",
     "text": [
      "\"action\": \"PDBFileDownloader\","
     ]
    },
    {
     "name": "stdout",
     "output_type": "stream",
     "text": [
      "\n",
      "    \"action_"
     ]
    },
    {
     "name": "stdout",
     "output_type": "stream",
     "text": [
      "input\": \"1LYZ P"
     ]
    },
    {
     "name": "stdout",
     "output_type": "stream",
     "text": [
      "DB\"\n",
      "}\n",
      "```\n",
      "\n"
     ]
    },
    {
     "name": "stdout",
     "output_type": "stream",
     "text": [
      "PDB file found with this ID: 1LYZ\n"
     ]
    },
    {
     "name": "stdout",
     "output_type": "stream",
     "text": [
      "Since"
     ]
    },
    {
     "name": "stdout",
     "output_type": "stream",
     "text": [
      " I have successfully downloaded the PDB"
     ]
    },
    {
     "name": "stdout",
     "output_type": "stream",
     "text": [
      " file 1LYZ an"
     ]
    },
    {
     "name": "stdout",
     "output_type": "stream",
     "text": [
      "d it has been saved with the ID"
     ]
    },
    {
     "name": "stdout",
     "output_type": "stream",
     "text": [
      " \"1LYZ_"
     ]
    },
    {
     "name": "stdout",
     "output_type": "stream",
     "text": [
      "160856\", I can now provide a final answer"
     ]
    },
    {
     "name": "stdout",
     "output_type": "stream",
     "text": [
      " to confirm the completion of this task."
     ]
    },
    {
     "name": "stdout",
     "output_type": "stream",
     "text": [
      "\n",
      "\n",
      "Action:\n",
      "```\n",
      "{"
     ]
    },
    {
     "name": "stdout",
     "output_type": "stream",
     "text": [
      "\n",
      "    \"action\": \"Final Answer\","
     ]
    },
    {
     "name": "stdout",
     "output_type": "stream",
     "text": [
      "\n",
      "    \"action_input\": \"I"
     ]
    },
    {
     "name": "stdout",
     "output_type": "stream",
     "text": [
      " have successfully downloaded the PDB file for"
     ]
    },
    {
     "name": "stdout",
     "output_type": "stream",
     "text": [
      " 1LYZ. The file has"
     ]
    },
    {
     "name": "stdout",
     "output_type": "stream",
     "text": [
      " been saved with the ID '"
     ]
    },
    {
     "name": "stdout",
     "output_type": "stream",
     "text": [
      "1LYZ_"
     ]
    },
    {
     "name": "stdout",
     "output_type": "stream",
     "text": [
      "160856' and is now"
     ]
    },
    {
     "name": "stdout",
     "output_type": "stream",
     "text": [
      " available for further analysis or processing."
     ]
    },
    {
     "name": "stdout",
     "output_type": "stream",
     "text": [
      " This PDB file represents"
     ]
    },
    {
     "name": "stdout",
     "output_type": "stream",
     "text": [
      " lysozyme, which is a"
     ]
    },
    {
     "name": "stdout",
     "output_type": "stream",
     "text": [
      " well-studied protein often used as"
     ]
    },
    {
     "name": "stdout",
     "output_type": "stream",
     "text": [
      " a model system in structural"
     ]
    },
    {
     "name": "stdout",
     "output_type": "stream",
     "text": [
      " biology.\"\n",
      "}\n",
      "```"
     ]
    },
    {
     "data": {
      "text/plain": [
       "({'input': '\\n    You are an expert molecular dynamics scientist, and\\n    your task is to respond to the question or\\n    solve the problem to the best of your ability using\\n    the provided tools.\\n\\n    You can only respond with a single complete\\n    \\'Thought, Action, Action Input\\' format\\n    OR a single \\'Final Answer\\' format.\\n\\n    Complete format:\\n    Thought: (reflect on your progress and decide what to do next)\\n    Action:\\n    ```\\n    {\\n        \"action\": (the action name, it should be the name of a tool),\\n        \"action_input\": (the input string for the action)\\n    }\\n    \\'\\'\\'\\n\\n    OR\\n\\n    Final Answer: (the final response to the original input\\n    question, once all steps are complete)\\n\\n    You are required to use the tools provided,\\n    using the most specific tool\\n    available for each action.\\n    Your final answer should contain all information\\n    necessary to answer the question and its subquestions.\\n    Before you finish, reflect on your progress and make\\n    sure you have addressed the question in its entirety.\\n\\n    If you are asked to continue\\n    or reference previous runs,\\n    the context will be provided to you.\\n    If context is provided, you should assume\\n    you are continuing a chat.\\n\\n    Here is the input:\\n    Previous Context: None\\n    Question: Download the PDB file 1LYZ. ',\n",
       "  'output': \"I have successfully downloaded the PDB file for 1LYZ. The file has been saved with the ID '1LYZ_160856' and is now available for further analysis or processing. This PDB file represents lysozyme, which is a well-studied protein often used as a model system in structural biology.\"},\n",
       " 'YXMI5ZLS')"
      ]
     },
     "execution_count": 10,
     "metadata": {},
     "output_type": "execute_result"
    }
   ],
   "source": [
    "agent_2.run(non_descriptive_prompt_1)"
   ]
  },
  {
   "cell_type": "code",
   "execution_count": 12,
   "metadata": {},
   "outputs": [
    {
     "name": "stdout",
     "output_type": "stream",
     "text": [
      "ckpt_dir: ckpt_102\n",
      "Files found in registry: 1LYZ_112304: PDB file downloaded from RSCB\n",
      " PDBFile ID: 1LYZ_112304\n"
     ]
    }
   ],
   "source": [
    "registry = agent_2.path_registry\n",
    "print(\"ckpt_dir:\",os.path.basename(registry.ckpt_dir))\n",
    "paths_and_descriptions = registry.list_path_names_and_descriptions()\n",
    "print(\"\\n\".join(paths_and_descriptions.split(\",\")))"
   ]
  },
  {
   "cell_type": "code",
   "execution_count": 13,
   "metadata": {},
   "outputs": [
    {
     "name": "stdout",
     "output_type": "stream",
     "text": [
      "It is asserted that file path for 1LYZ_112304 exists\n"
     ]
    }
   ],
   "source": [
    "import re\n",
    "import os\n",
    "match = re.search(r\"1LYZ_\\d+\", paths_and_descriptions)\n",
    "file_id = match.group(0)\n",
    "pdb_path = registry.get_mapped_path(file_id)\n",
    "assert os.path.exists(pdb_path)\n",
    "print(f'It is asserted that file path for {file_id} exists')"
   ]
  }
 ],
 "metadata": {
  "kernelspec": {
   "display_name": "mdcrow",
   "language": "python",
   "name": "mdcrow"
  },
  "language_info": {
   "codemirror_mode": {
    "name": "ipython",
    "version": 3
   },
   "file_extension": ".py",
   "mimetype": "text/x-python",
   "name": "python",
   "nbconvert_exporter": "python",
   "pygments_lexer": "ipython3",
   "version": "3.12.4"
  }
 },
 "nbformat": 4,
 "nbformat_minor": 4
}
