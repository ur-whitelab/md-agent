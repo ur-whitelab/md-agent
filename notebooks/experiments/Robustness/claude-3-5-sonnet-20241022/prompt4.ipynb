{
 "cells": [
  {
   "cell_type": "code",
   "execution_count": null,
   "metadata": {},
   "outputs": [],
   "source": [
    "from mdagent import MDAgent\n",
    "import os\n",
    "import mdtraj as md"
   ]
  },
  {
   "cell_type": "code",
   "execution_count": null,
   "metadata": {},
   "outputs": [],
   "source": [
    "import sys\n",
    "import os\n",
    "parent_dir = os.path.abspath(os.path.join(os.getcwd(), '..'))\n",
    "sys.path.append(parent_dir)\n",
    "from robustness_prompts import get_prompt\n",
    "\n",
    "prompt_4_descriptive = get_prompt(\"descriptive\", 4)\n",
    "prompt_4_natural = get_prompt(\"natural\", 4)\n",
    "\n",
    "prompt_4_descriptive, prompt_4_natural"
   ]
  },
  {
   "cell_type": "markdown",
   "metadata": {},
   "source": [
    "Required Tasks:\n",
    "- Download\n",
    "- SS Analysis\n",
    "- Simulation\n",
    "- RMSD"
   ]
  },
  {
   "cell_type": "code",
   "execution_count": null,
   "metadata": {},
   "outputs": [],
   "source": [
    "llm_model = \"claude-3-5-sonnet-20241022\"\n",
    "tools = \"all\""
   ]
  },
  {
   "cell_type": "code",
   "execution_count": null,
   "metadata": {},
   "outputs": [],
   "source": [
    "agent_1 = MDAgent(agent_type=\"Structured\", model=llm_model, top_k_tools=tools)\n",
    "agent_1.run(prompt_4_descriptive)"
   ]
  },
  {
   "cell_type": "code",
   "execution_count": null,
   "metadata": {},
   "outputs": [],
   "source": [
    "registry_1 = agent_1.path_registry\n",
    "print(registry_1.list_path_names_and_descriptions().replace(\",\", \"\\n\"))"
   ]
  },
  {
   "cell_type": "code",
   "execution_count": null,
   "metadata": {},
   "outputs": [],
   "source": [
    "## make sure pdb was downloaded\n",
    "# assert os.path.exists(registry_1.get_mapped_path(\"<PDB>\"))"
   ]
  },
  {
   "cell_type": "code",
   "execution_count": null,
   "metadata": {},
   "outputs": [],
   "source": [
    "## make sure dssp was computed correctly\n",
    "# from mdagent.tools.base_tools import ComputeDSSP\n",
    "\n",
    "# dssp = ComputeDSSP(registry_1)\n",
    "# dssp._run(traj_file= \"<PDB>\", target_frames=\"first\")"
   ]
  },
  {
   "cell_type": "code",
   "execution_count": null,
   "metadata": {},
   "outputs": [],
   "source": [
    "## make sure trajectory and topology exist\n",
    "# traj_path_1 = registry_1.get_mapped_path(\"<traj_path>\")\n",
    "# top_path_1 = registry_1.get_mapped_path(\"<top_path>\")\n",
    "\n",
    "# assert os.path.exists(traj_path_1)\n",
    "# assert os.path.exists(top_path_1)"
   ]
  },
  {
   "cell_type": "code",
   "execution_count": null,
   "metadata": {},
   "outputs": [],
   "source": [
    "# # make sure rmsd plot was generated\n",
    "# from IPython.display import Image\n",
    "# Image(filename=registry_1.get_mapped_path('<rmsd_plot>'))"
   ]
  },
  {
   "cell_type": "code",
   "execution_count": null,
   "metadata": {},
   "outputs": [],
   "source": [
    "agent_2 = MDAgent(agent_type=\"Structured\", model=llm_model, top_k_tools=tools)\n",
    "agent_2.run(prompt_4_natural)"
   ]
  },
  {
   "cell_type": "code",
   "execution_count": null,
   "metadata": {},
   "outputs": [],
   "source": [
    "registry_2 = agent_2.path_registry\n",
    "print(registry_2.list_path_names_and_descriptions().replace(\",\", \"\\n\"))"
   ]
  },
  {
   "cell_type": "code",
   "execution_count": null,
   "metadata": {},
   "outputs": [],
   "source": [
    "## make sure pdb was downloaded\n",
    "# assert os.path.exists(registry_2.get_mapped_path(\"<PDB>\"))"
   ]
  },
  {
   "cell_type": "code",
   "execution_count": null,
   "metadata": {},
   "outputs": [],
   "source": [
    "## make sure dssp was computed correctly\n",
    "# from mdagent.tools.base_tools import ComputeDSSP\n",
    "\n",
    "# dssp = ComputeDSSP(registry_2)\n",
    "# dssp._run(traj_file= \"<PDB>\", target_frames=\"first\")"
   ]
  },
  {
   "cell_type": "code",
   "execution_count": null,
   "metadata": {},
   "outputs": [],
   "source": [
    "## make sure trajectory and topology exist\n",
    "# traj_path_2 = registry_2.get_mapped_path(\"<traj_path>\")\n",
    "# top_path_2 = registry_2.get_mapped_path(\"<top_path>\")\n",
    "\n",
    "# assert os.path.exists(traj_path_2)\n",
    "# assert os.path.exists(top_path_2)"
   ]
  },
  {
   "cell_type": "code",
   "execution_count": null,
   "metadata": {},
   "outputs": [],
   "source": [
    "# # make sure rmsd plot was generated\n",
    "# from IPython.display import Image\n",
    "# Image(filename=registry_2.get_mapped_path('<rmsd_plot>'))"
   ]
  }
 ],
 "metadata": {
  "kernelspec": {
   "display_name": "mdagent2",
   "language": "python",
   "name": "python3"
  },
  "language_info": {
   "codemirror_mode": {
    "name": "ipython",
    "version": 3
   },
   "file_extension": ".py",
   "mimetype": "text/x-python",
   "name": "python",
   "nbconvert_exporter": "python",
   "pygments_lexer": "ipython3",
   "version": "3.12.5"
  }
 },
 "nbformat": 4,
 "nbformat_minor": 2
}
