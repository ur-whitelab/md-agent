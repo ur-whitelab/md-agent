{
 "cells": [
  {
   "cell_type": "code",
   "execution_count": 1,
   "metadata": {},
   "outputs": [],
   "source": [
    "from mdcrow import MDCrow\n",
    "import os"
   ]
  },
  {
   "cell_type": "code",
   "execution_count": 2,
   "metadata": {},
   "outputs": [],
   "source": [
    "descriptive_prompt_2 = \"Complete all of the following tasks: 1. Download the PDB file 1LYZ. 2. Tell me how many residues are in the chains and beta sheets.\"\n",
    "non_descriptive_prompt_2 = \"Download the PDB file 1LYZ. Tell me how many residues are in the chains and beta sheets.\""
   ]
  },
  {
   "cell_type": "code",
   "execution_count": 3,
   "metadata": {},
   "outputs": [],
   "source": [
    "llm_model = \"claude-3-5-sonnet-20241022\"\n",
    "tools = \"all\""
   ]
  },
  {
   "cell_type": "code",
   "execution_count": 4,
   "metadata": {},
   "outputs": [
    {
     "name": "stdout",
     "output_type": "stream",
     "text": [
      "date: 2025-01-16\n",
      "time: 11:22:30\n"
     ]
    }
   ],
   "source": [
    "#todays date and time\n",
    "import datetime\n",
    "now = datetime.datetime.now()\n",
    "date = now.strftime(\"%Y-%m-%d\")\n",
    "print(\"date:\",date)\n",
    "time = now.strftime(\"%H:%M:%S\")\n",
    "print(\"time:\",time)"
   ]
  },
  {
   "cell_type": "markdown",
   "metadata": {},
   "source": [
    "# descriptive prompt"
   ]
  },
  {
   "cell_type": "code",
   "execution_count": 5,
   "metadata": {},
   "outputs": [],
   "source": [
    "agent_1 = MDCrow(agent_type=\"Structured\", model=llm_model, top_k_tools=tools)"
   ]
  },
  {
   "cell_type": "code",
   "execution_count": 6,
   "metadata": {},
   "outputs": [
    {
     "name": "stdout",
     "output_type": "stream",
     "text": [
      "Thought: Let me break this down into steps. First, I'll download the PDB file for 1LYZ using the PDBFileDownloader tool. Then, I'll analyze its structure to get information about residues, chains, and beta sheets.\n",
      "\n",
      "Action:\n",
      "```\n",
      "{\n",
      "    \"action\": \"PDBFileDownloader\",\n",
      "    \"action_input\": \"1LYZ\"\n",
      "}\n",
      "```\n",
      "\n",
      "PDB file found with this ID: 1LYZ\n",
      "Thought: Now that I have downloaded the PDB file, I need to get information about the residues, chains, and beta sheets. I'll use GetTurnsBetaSheetsHelices to get this information, but first I need to get the UniProt ID and primary accession number.\n",
      "\n",
      "Action:\n",
      "```\n",
      "{\n",
      "    \"action\": \"GetUniprotID\",\n",
      "    \"action_input\": \"1LYZ\"\n",
      "}\n",
      "```\n",
      "\n",
      "Thought: Now that I have the UniProt ID, I can get detailed information about the beta sheets and structure. I'll use GetTurnsBetaSheetsHelices to get this information.\n",
      "\n",
      "Action:\n",
      "```\n",
      "{\n",
      "    \"action\": \"GetTurnsBetaSheetsHelices\",\n",
      "    \"action_input\": {\n",
      "        \"query\": \"P17897\",\n",
      "        \"primary_accession\": \"P17897\"\n",
      "    }\n",
      "}\n",
      "```\n",
      "\n",
      "Thought: Since the UniProt database didn't provide the structural information we need, let's analyze the PDB file directly using the SummarizeProteinStructure tool to get information about the chains and residues, and then use ComputeDSSP to get information about the secondary structure including beta sheets.\n",
      "\n",
      "Action:\n",
      "```\n",
      "{\n",
      "    \"action\": \"SummarizeProteinStructure\",\n",
      "    \"action_input\": {\n",
      "        \"traj_file\": \"1LYZ_112235\",\n",
      "        \"top_file\": \"1LYZ_112235\"\n",
      "    }\n",
      "}\n",
      "```\n",
      "\n",
      "Thought: Now that I have the basic structure information, I need to get specific information about the beta sheets using ComputeDSSP.\n",
      "\n",
      "Action:\n",
      "```\n",
      "{\n",
      "    \"action\": \"ComputeDSSP\",\n",
      "    \"action_input\": {\n",
      "        \"traj_file\": \"1LYZ_112235\",\n",
      "        \"top_file\": \"1LYZ_112235\",\n",
      "        \"target_frames\": \"all\"\n",
      "    }\n",
      "}\n",
      "```\n",
      "\n",
      "Thought: I now have all the necessary information to provide a complete answer about the structure of 1LYZ.\n",
      "\n",
      "Action:\n",
      "```\n",
      "{\n",
      "    \"action\": \"Final Answer\",\n",
      "    \"action_input\": \"Based on the analysis of PDB file 1LYZ:\n",
      "\n",
      "1. Chain Information:\n",
      "- The protein has 2 chains\n",
      "- Total number of residues: 230 residues across all chains\n",
      "\n",
      "2. Beta Sheet Information:\n",
      "- There are 14 residues involved in beta strands/sheets\n",
      "- The secondary structure breakdown also shows:\n",
      "  * 50 residues in helices\n",
      "  * 65 residues in coil regions\n",
      "  * 101 residues that are either not assigned or not protein residues\n",
      "\n",
      "This provides a complete picture of both the chain composition and beta sheet content of the 1LYZ structure.\"\n",
      "}\n",
      "```"
     ]
    },
    {
     "data": {
      "text/plain": [
       "({'input': '\\n    You are an expert molecular dynamics scientist, and\\n    your task is to respond to the question or\\n    solve the problem to the best of your ability using\\n    the provided tools.\\n\\n    You can only respond with a single complete\\n    \\'Thought, Action, Action Input\\' format\\n    OR a single \\'Final Answer\\' format.\\n\\n    Complete format:\\n    Thought: (reflect on your progress and decide what to do next)\\n    Action:\\n    ```\\n    {\\n        \"action\": (the action name, it should be the name of a tool),\\n        \"action_input\": (the input string for the action)\\n    }\\n    \\'\\'\\'\\n\\n    OR\\n\\n    Final Answer: (the final response to the original input\\n    question, once all steps are complete)\\n\\n    You are required to use the tools provided,\\n    using the most specific tool\\n    available for each action.\\n    Your final answer should contain all information\\n    necessary to answer the question and its subquestions.\\n    Before you finish, reflect on your progress and make\\n    sure you have addressed the question in its entirety.\\n\\n    If you are asked to continue\\n    or reference previous runs,\\n    the context will be provided to you.\\n    If context is provided, you should assume\\n    you are continuing a chat.\\n\\n    Here is the input:\\n    Previous Context: None\\n    Question: Complete all of the following tasks: 1. Download the PDB file 1LYZ. 2. Tell me how many residues are in the chains and beta sheets. ',\n",
       "  'output': 'Based on the analysis of PDB file 1LYZ:\\n\\n1. Chain Information:\\n- The protein has 2 chains\\n- Total number of residues: 230 residues across all chains\\n\\n2. Beta Sheet Information:\\n- There are 14 residues involved in beta strands/sheets\\n- The secondary structure breakdown also shows:\\n  * 50 residues in helices\\n  * 65 residues in coil regions\\n  * 101 residues that are either not assigned or not protein residues\\n\\nThis provides a complete picture of both the chain composition and beta sheet content of the 1LYZ structure.'},\n",
       " 'Z6UK2YWE')"
      ]
     },
     "execution_count": 6,
     "metadata": {},
     "output_type": "execute_result"
    },
    {
     "name": "stdout",
     "output_type": "stream",
     "text": [
      "\"action\": \"PDBFileDownloader\","
     ]
    },
    {
     "name": "stdout",
     "output_type": "stream",
     "text": [
      "\n",
      "    \"action_input\": \"1L"
     ]
    },
    {
     "name": "stdout",
     "output_type": "stream",
     "text": [
      "YZ\"\n",
      "}\n",
      "```\n",
      "\n"
     ]
    },
    {
     "name": "stdout",
     "output_type": "stream",
     "text": [
      "PDB file found with this ID: 1LYZ\n"
     ]
    },
    {
     "name": "stdout",
     "output_type": "stream",
     "text": [
      "Thought: Now"
     ]
    },
    {
     "name": "stdout",
     "output_type": "stream",
     "text": [
      " that I have downloaded the PDB file,"
     ]
    },
    {
     "name": "stdout",
     "output_type": "stream",
     "text": [
      " I need to analyze its structure to"
     ]
    },
    {
     "name": "stdout",
     "output_type": "stream",
     "text": [
      " get information about residues"
     ]
    },
    {
     "name": "stdout",
     "output_type": "stream",
     "text": [
      ", chains, and beta sheets."
     ]
    },
    {
     "name": "stdout",
     "output_type": "stream",
     "text": [
      " I can use GetTurnsBetaShe"
     ]
    },
    {
     "name": "stdout",
     "output_type": "stream",
     "text": [
      "etsHelices to get this information,"
     ]
    },
    {
     "name": "stdout",
     "output_type": "stream",
     "text": [
      " but first I need to get the Uni"
     ]
    },
    {
     "name": "stdout",
     "output_type": "stream",
     "text": [
      "Prot ID and primary acc"
     ]
    },
    {
     "name": "stdout",
     "output_type": "stream",
     "text": [
      "ession number.\n",
      "\n",
      "Action:\n",
      "```"
     ]
    },
    {
     "name": "stdout",
     "output_type": "stream",
     "text": [
      "\n",
      "{\n",
      "    \"action\": \"GetU"
     ]
    },
    {
     "name": "stdout",
     "output_type": "stream",
     "text": [
      "niprotID\",\n",
      "    \"action_input"
     ]
    },
    {
     "name": "stdout",
     "output_type": "stream",
     "text": [
      "\": \"1LYZ\"\n",
      "}"
     ]
    },
    {
     "name": "stdout",
     "output_type": "stream",
     "text": [
      "\n",
      "```\n",
      "\n"
     ]
    },
    {
     "name": "stdout",
     "output_type": "stream",
     "text": [
      "Thought: Now that"
     ]
    },
    {
     "name": "stdout",
     "output_type": "stream",
     "text": [
      " I have the UniProt ID, I can"
     ]
    },
    {
     "name": "stdout",
     "output_type": "stream",
     "text": [
      " get the information about beta sheets and other structural elements"
     ]
    },
    {
     "name": "stdout",
     "output_type": "stream",
     "text": [
      ". I'll use GetTurnsBetaS"
     ]
    },
    {
     "name": "stdout",
     "output_type": "stream",
     "text": [
      "heetsHelices with the UniProt ID"
     ]
    },
    {
     "name": "stdout",
     "output_type": "stream",
     "text": [
      " and primary accession number."
     ]
    },
    {
     "name": "stdout",
     "output_type": "stream",
     "text": [
      "\n",
      "\n",
      "Action:\n",
      "```\n",
      "{\n",
      "    \"action"
     ]
    },
    {
     "name": "stdout",
     "output_type": "stream",
     "text": [
      "\": \"GetTurnsBetaSheets"
     ]
    },
    {
     "name": "stdout",
     "output_type": "stream",
     "text": [
      "Helices\",\n",
      "    \"action_input\":"
     ]
    },
    {
     "name": "stdout",
     "output_type": "stream",
     "text": [
      " {\n",
      "        \"query\": \"P17897"
     ]
    },
    {
     "name": "stdout",
     "output_type": "stream",
     "text": [
      "\",\n",
      "        \"primary"
     ]
    },
    {
     "name": "stdout",
     "output_type": "stream",
     "text": [
      "_accession\": \"P"
     ]
    },
    {
     "name": "stdout",
     "output_type": "stream",
     "text": [
      "17897\"\n",
      "    }\n",
      "}\n",
      "```"
     ]
    },
    {
     "name": "stdout",
     "output_type": "stream",
     "text": [
      "\n",
      "\n"
     ]
    },
    {
     "name": "stdout",
     "output_type": "stream",
     "text": [
      "Thought: Since the UniProt database"
     ]
    },
    {
     "name": "stdout",
     "output_type": "stream",
     "text": [
      " didn't provide the structural information directly"
     ]
    },
    {
     "name": "stdout",
     "output_type": "stream",
     "text": [
      ", I should analyze the downloade"
     ]
    },
    {
     "name": "stdout",
     "output_type": "stream",
     "text": [
      "d PDB file using Sum"
     ]
    },
    {
     "name": "stdout",
     "output_type": "stream",
     "text": [
      "marizeProteinStructure to get"
     ]
    },
    {
     "name": "stdout",
     "output_type": "stream",
     "text": [
      " the basic structural information, and then use Com"
     ]
    },
    {
     "name": "stdout",
     "output_type": "stream",
     "text": [
      "puteDSSP to get detaile"
     ]
    },
    {
     "name": "stdout",
     "output_type": "stream",
     "text": [
      "d secondary structure information.\n",
      "\n",
      "Action:\n",
      "```"
     ]
    },
    {
     "name": "stdout",
     "output_type": "stream",
     "text": [
      "\n",
      "{\n",
      "    \"action\": \"Summar"
     ]
    },
    {
     "name": "stdout",
     "output_type": "stream",
     "text": [
      "izeProteinStructure"
     ]
    },
    {
     "name": "stdout",
     "output_type": "stream",
     "text": [
      "\",\n",
      "    \"action_input\": {"
     ]
    },
    {
     "name": "stdout",
     "output_type": "stream",
     "text": [
      "\n",
      "        \"traj_file\": \"1"
     ]
    },
    {
     "name": "stdout",
     "output_type": "stream",
     "text": [
      "LYZ_160923\","
     ]
    },
    {
     "name": "stdout",
     "output_type": "stream",
     "text": [
      "\n",
      "        \"top_file\": \"1"
     ]
    },
    {
     "name": "stdout",
     "output_type": "stream",
     "text": [
      "LYZ_160923\""
     ]
    },
    {
     "name": "stdout",
     "output_type": "stream",
     "text": [
      "\n",
      "    }\n",
      "}"
     ]
    },
    {
     "name": "stdout",
     "output_type": "stream",
     "text": [
      "\n",
      "```\n",
      "\n"
     ]
    },
    {
     "name": "stdout",
     "output_type": "stream",
     "text": [
      "Thought: Now"
     ]
    },
    {
     "name": "stdout",
     "output_type": "stream",
     "text": [
      " that I have the basic"
     ]
    },
    {
     "name": "stdout",
     "output_type": "stream",
     "text": [
      " structural information, I shoul"
     ]
    },
    {
     "name": "stdout",
     "output_type": "stream",
     "text": [
      "d use ComputeDSS"
     ]
    },
    {
     "name": "stdout",
     "output_type": "stream",
     "text": [
      "P to get detailed information about the secondary structure elements"
     ]
    },
    {
     "name": "stdout",
     "output_type": "stream",
     "text": [
      ", particularly the beta sheets."
     ]
    },
    {
     "name": "stdout",
     "output_type": "stream",
     "text": [
      "\n",
      "\n",
      "Action:\n",
      "```\n",
      "{\n",
      "    \""
     ]
    },
    {
     "name": "stdout",
     "output_type": "stream",
     "text": [
      "action\": \"ComputeDSSP\","
     ]
    },
    {
     "name": "stdout",
     "output_type": "stream",
     "text": [
      "\n",
      "    \"action_input\": {\n",
      "        \""
     ]
    },
    {
     "name": "stdout",
     "output_type": "stream",
     "text": [
      "traj_file\":"
     ]
    },
    {
     "name": "stdout",
     "output_type": "stream",
     "text": [
      " \"1LYZ_160923\","
     ]
    },
    {
     "name": "stdout",
     "output_type": "stream",
     "text": [
      "\n",
      "        \"top_file\": \"1LY"
     ]
    },
    {
     "name": "stdout",
     "output_type": "stream",
     "text": [
      "Z_160923\","
     ]
    },
    {
     "name": "stdout",
     "output_type": "stream",
     "text": [
      "\n",
      "        \"target_frames"
     ]
    },
    {
     "name": "stdout",
     "output_type": "stream",
     "text": [
      "\": \"all\"\n",
      "    }"
     ]
    },
    {
     "name": "stdout",
     "output_type": "stream",
     "text": [
      "\n",
      "}\n",
      "```\n",
      "\n"
     ]
    },
    {
     "name": "stdout",
     "output_type": "stream",
     "text": [
      "Thought: I now have all"
     ]
    },
    {
     "name": "stdout",
     "output_type": "stream",
     "text": [
      " the necessary information to provide a complete answer about"
     ]
    },
    {
     "name": "stdout",
     "output_type": "stream",
     "text": [
      " the structure of 1LYZ."
     ]
    },
    {
     "name": "stdout",
     "output_type": "stream",
     "text": [
      "\n",
      "\n",
      "Action:\n",
      "```\n",
      "{\n",
      "    \""
     ]
    },
    {
     "name": "stdout",
     "output_type": "stream",
     "text": [
      "action\": \"Final Answer\",\n",
      "    \""
     ]
    },
    {
     "name": "stdout",
     "output_type": "stream",
     "text": [
      "action_input\": \"I have analyzed the P"
     ]
    },
    {
     "name": "stdout",
     "output_type": "stream",
     "text": [
      "DB structure 1LYZ an"
     ]
    },
    {
     "name": "stdout",
     "output_type": "stream",
     "text": [
      "d can provide the following information:\n",
      "\n",
      "1. Chain"
     ]
    },
    {
     "name": "stdout",
     "output_type": "stream",
     "text": [
      " Information:\n",
      "- The structure contains 2 chains"
     ]
    },
    {
     "name": "stdout",
     "output_type": "stream",
     "text": [
      "\n",
      "- Total number of residues:"
     ]
    },
    {
     "name": "stdout",
     "output_type": "stream",
     "text": [
      " 230 residues across all chains\n",
      "\n",
      "2. Secondary"
     ]
    },
    {
     "name": "stdout",
     "output_type": "stream",
     "text": [
      " Structure Information:\n",
      "- Beta"
     ]
    },
    {
     "name": "stdout",
     "output_type": "stream",
     "text": [
      " sheets (strands): The structure contains 14 "
     ]
    },
    {
     "name": "stdout",
     "output_type": "stream",
     "text": [
      "residues in beta strands\n",
      "- Additionally"
     ]
    },
    {
     "name": "stdout",
     "output_type": "stream",
     "text": [
      ", the structure contains:\n",
      "  *"
     ]
    },
    {
     "name": "stdout",
     "output_type": "stream",
     "text": [
      " 50 residues in helical"
     ]
    },
    {
     "name": "stdout",
     "output_type": "stream",
     "text": [
      " conformations\n",
      "  * 65 residues in"
     ]
    },
    {
     "name": "stdout",
     "output_type": "stream",
     "text": [
      " coil regions\n",
      "  * 101"
     ]
    },
    {
     "name": "stdout",
     "output_type": "stream",
     "text": [
      " residues that are either not assigned or are"
     ]
    },
    {
     "name": "stdout",
     "output_type": "stream",
     "text": [
      " non-protein residues\n",
      "\n",
      "The structure"
     ]
    },
    {
     "name": "stdout",
     "output_type": "stream",
     "text": [
      " has been fully characterized, showing it"
     ]
    },
    {
     "name": "stdout",
     "output_type": "stream",
     "text": [
      " is a relatively complex protein with a mix of"
     ]
    },
    {
     "name": "stdout",
     "output_type": "stream",
     "text": [
      " secondary structure elements, including beta sheets,"
     ]
    },
    {
     "name": "stdout",
     "output_type": "stream",
     "text": [
      " helices, and coil regions.\""
     ]
    },
    {
     "name": "stdout",
     "output_type": "stream",
     "text": [
      "\n",
      "}\n",
      "```"
     ]
    },
    {
     "data": {
      "text/plain": [
       "({'input': '\\n    You are an expert molecular dynamics scientist, and\\n    your task is to respond to the question or\\n    solve the problem to the best of your ability using\\n    the provided tools.\\n\\n    You can only respond with a single complete\\n    \\'Thought, Action, Action Input\\' format\\n    OR a single \\'Final Answer\\' format.\\n\\n    Complete format:\\n    Thought: (reflect on your progress and decide what to do next)\\n    Action:\\n    ```\\n    {\\n        \"action\": (the action name, it should be the name of a tool),\\n        \"action_input\": (the input string for the action)\\n    }\\n    \\'\\'\\'\\n\\n    OR\\n\\n    Final Answer: (the final response to the original input\\n    question, once all steps are complete)\\n\\n    You are required to use the tools provided,\\n    using the most specific tool\\n    available for each action.\\n    Your final answer should contain all information\\n    necessary to answer the question and its subquestions.\\n    Before you finish, reflect on your progress and make\\n    sure you have addressed the question in its entirety.\\n\\n    If you are asked to continue\\n    or reference previous runs,\\n    the context will be provided to you.\\n    If context is provided, you should assume\\n    you are continuing a chat.\\n\\n    Here is the input:\\n    Previous Context: None\\n    Question: Complete all of the following tasks: 1. Download the PDB file 1LYZ. 2. Tell me how many residues are in the chains and beta sheets. ',\n",
       "  'output': 'I have analyzed the PDB structure 1LYZ and can provide the following information:\\n\\n1. Chain Information:\\n- The structure contains 2 chains\\n- Total number of residues: 230 residues across all chains\\n\\n2. Secondary Structure Information:\\n- Beta sheets (strands): The structure contains 14 residues in beta strands\\n- Additionally, the structure contains:\\n  * 50 residues in helical conformations\\n  * 65 residues in coil regions\\n  * 101 residues that are either not assigned or are non-protein residues\\n\\nThe structure has been fully characterized, showing it is a relatively complex protein with a mix of secondary structure elements, including beta sheets, helices, and coil regions.'},\n",
       " 'JXW938XB')"
      ]
     },
     "execution_count": 6,
     "metadata": {},
     "output_type": "execute_result"
    }
   ],
   "source": [
    "agent_1.run(descriptive_prompt_2)"
   ]
  },
  {
   "cell_type": "code",
   "execution_count": 7,
   "metadata": {},
   "outputs": [
    {
     "name": "stdout",
     "output_type": "stream",
     "text": [
      "ckpt_dir: ckpt_99\n",
      "Files found in registry: 1LYZ_112235: PDB file downloaded from RSCB\n",
      " PDBFile ID: 1LYZ_112235\n",
      " rec0_112250: dssp values for trajectory with id: 1LYZ_112235\n"
     ]
    }
   ],
   "source": [
    "registry = agent_1.path_registry\n",
    "print(\"ckpt_dir:\",os.path.basename(registry.ckpt_dir))\n",
    "paths_and_descriptions = registry.list_path_names_and_descriptions()\n",
    "print(\"\\n\".join(paths_and_descriptions.split(\",\")))"
   ]
  },
  {
   "cell_type": "code",
   "execution_count": 8,
   "metadata": {},
   "outputs": [
    {
     "name": "stdout",
     "output_type": "stream",
     "text": [
      "It is asserted that file path for 1LYZ_112235 exists\n",
      "Number of residues in total:  230\n",
      "Number of chains:  2\n",
      "Number of sheets:  14\n",
      "Number of helices:  50\n",
      "Number of coils:  65\n"
     ]
    }
   ],
   "source": [
    "import mdtraj as md\n",
    "import os\n",
    "import re\n",
    "\n",
    "match = re.search(r\"1LYZ_\\d+\", paths_and_descriptions)\n",
    "file_id = match.group(0)\n",
    "pdb_path = registry.get_mapped_path(file_id)\n",
    "assert os.path.exists(pdb_path)\n",
    "print(f'It is asserted that file path for {file_id} exists')\n",
    "\n",
    "traj = md.load(pdb_path)\n",
    "#get dssp \n",
    "number_of_chains = traj.n_chains\n",
    "total_res = traj.n_residues\n",
    "secondary_structure = md.compute_dssp(traj,simplified=True)\n",
    "print(\"Number of residues in total: \",total_res)\n",
    "print(\"Number of chains: \",number_of_chains)\n",
    "print(\"Number of sheets: \",len([i for i in secondary_structure[0] if i == 'E']))\n",
    "print(\"Number of helices: \",len([i for i in secondary_structure[0] if i == 'H']))\n",
    "print(\"Number of coils: \",len([i for i in secondary_structure[0] if i == 'C']))"
   ]
  },
  {
   "cell_type": "markdown",
   "metadata": {},
   "source": [
    "# non-descriptive prompt"
   ]
  },
  {
   "cell_type": "code",
   "execution_count": 9,
   "metadata": {},
   "outputs": [],
   "source": [
    "agent_2 = MDCrow(agent_type=\"Structured\", model=llm_model, top_k_tools=tools)"
   ]
  },
  {
   "cell_type": "code",
   "execution_count": 10,
   "metadata": {},
   "outputs": [
    {
     "name": "stdout",
     "output_type": "stream",
     "text": [
      "Thought: I'll break this down into steps. First, I need to download the PDB file for 1LYZ, then I can analyze its structure.\n",
      "\n",
      "Action:\n",
      "```\n",
      "{\n",
      "    \"action\": \"PDBFileDownloader\",\n",
      "    \"action_input\": \"1LYZ\"\n",
      "}\n",
      "```\n",
      "\n",
      "PDB file found with this ID: 1LYZ\n",
      "Thought: Now that I have downloaded the PDB file, I need to analyze its structure. I can use GetTurnsBetaSheetsHelices to get information about the beta sheets, but first I need to get the UniProt ID for this protein.\n",
      "\n",
      "Action:\n",
      "```\n",
      "{\n",
      "    \"action\": \"GetUniprotID\",\n",
      "    \"action_input\": \"1LYZ\"\n",
      "}\n",
      "```\n",
      "\n",
      "Thought: Now that I have the UniProt ID, I can get information about the turns, beta sheets, and helices. I'll use GetTurnsBetaSheetsHelices with the UniProt ID and its primary accession number.\n",
      "\n",
      "Action:\n",
      "```\n",
      "{\n",
      "    \"action\": \"GetTurnsBetaSheetsHelices\",\n",
      "    \"action_input\": {\n",
      "        \"query\": \"P17897\",\n",
      "        \"primary_accession\": \"P17897\"\n",
      "    }\n",
      "}\n",
      "```\n",
      "\n",
      "Thought: Since the UniProt database didn't provide the structural information we need, let's analyze the downloaded PDB file directly using the SummarizeProteinStructure tool to get information about the chains, and then use ComputeDSSP to get information about secondary structure elements including beta sheets.\n",
      "\n",
      "Action:\n",
      "```\n",
      "{\n",
      "    \"action\": \"SummarizeProteinStructure\",\n",
      "    \"action_input\": {\n",
      "        \"traj_file\": \"1LYZ_112257\",\n",
      "        \"top_file\": \"1LYZ_112257\"\n",
      "    }\n",
      "}\n",
      "```\n",
      "\n",
      "Thought: Now that I have the basic structure information, let's use ComputeDSSP to get detailed information about the secondary structure elements, including beta sheets.\n",
      "\n",
      "Action:\n",
      "```\n",
      "{\n",
      "    \"action\": \"ComputeDSSP\",\n",
      "    \"action_input\": {\n",
      "        \"traj_file\": \"1LYZ_112257\",\n",
      "        \"top_file\": \"1LYZ_112257\",\n",
      "        \"target_frames\": \"all\"\n",
      "    }\n",
      "}\n",
      "```\n",
      "\n",
      "Thought: I now have all the information needed to provide a complete answer about the structure of 1LYZ.\n",
      "\n",
      "Action:\n",
      "```\n",
      "{\n",
      "    \"action\": \"Final Answer\",\n",
      "    \"action_input\": \"The analysis of PDB structure 1LYZ shows:\n",
      "\n",
      "Chains:\n",
      "- The structure contains 2 chains\n",
      "- Total number of residues: 230 residues across all chains\n",
      "\n",
      "Secondary Structure:\n",
      "- There are 14 residues involved in beta strands/sheets\n",
      "- Additionally, the structure contains:\n",
      "  * 50 residues in helical conformations\n",
      "  * 65 residues in coil regions\n",
      "  * 101 residues that are either not assigned or are non-protein residues\n",
      "\n",
      "This provides a complete picture of both the chain composition and beta sheet content of the 1LYZ structure.\"\n",
      "}\n",
      "```"
     ]
    },
    {
     "data": {
      "text/plain": [
       "({'input': '\\n    You are an expert molecular dynamics scientist, and\\n    your task is to respond to the question or\\n    solve the problem to the best of your ability using\\n    the provided tools.\\n\\n    You can only respond with a single complete\\n    \\'Thought, Action, Action Input\\' format\\n    OR a single \\'Final Answer\\' format.\\n\\n    Complete format:\\n    Thought: (reflect on your progress and decide what to do next)\\n    Action:\\n    ```\\n    {\\n        \"action\": (the action name, it should be the name of a tool),\\n        \"action_input\": (the input string for the action)\\n    }\\n    \\'\\'\\'\\n\\n    OR\\n\\n    Final Answer: (the final response to the original input\\n    question, once all steps are complete)\\n\\n    You are required to use the tools provided,\\n    using the most specific tool\\n    available for each action.\\n    Your final answer should contain all information\\n    necessary to answer the question and its subquestions.\\n    Before you finish, reflect on your progress and make\\n    sure you have addressed the question in its entirety.\\n\\n    If you are asked to continue\\n    or reference previous runs,\\n    the context will be provided to you.\\n    If context is provided, you should assume\\n    you are continuing a chat.\\n\\n    Here is the input:\\n    Previous Context: None\\n    Question: Download the PDB file 1LYZ. Tell me how many residues are in the chains and beta sheets. ',\n",
       "  'output': 'The analysis of PDB structure 1LYZ shows:\\n\\nChains:\\n- The structure contains 2 chains\\n- Total number of residues: 230 residues across all chains\\n\\nSecondary Structure:\\n- There are 14 residues involved in beta strands/sheets\\n- Additionally, the structure contains:\\n  * 50 residues in helical conformations\\n  * 65 residues in coil regions\\n  * 101 residues that are either not assigned or are non-protein residues\\n\\nThis provides a complete picture of both the chain composition and beta sheet content of the 1LYZ structure.'},\n",
       " 'PG3LK6RL')"
      ]
     },
     "execution_count": 10,
     "metadata": {},
     "output_type": "execute_result"
    },
    {
     "name": "stdout",
     "output_type": "stream",
     "text": [
      ":\n",
      "```\n",
      "{"
     ]
    },
    {
     "name": "stdout",
     "output_type": "stream",
     "text": [
      "\n",
      "    \"action\": \"P"
     ]
    },
    {
     "name": "stdout",
     "output_type": "stream",
     "text": [
      "DBFileDownloader\","
     ]
    },
    {
     "name": "stdout",
     "output_type": "stream",
     "text": [
      "\n",
      "    \"action_"
     ]
    },
    {
     "name": "stdout",
     "output_type": "stream",
     "text": [
      "input\": \"1L"
     ]
    },
    {
     "name": "stdout",
     "output_type": "stream",
     "text": [
      "YZ\"\n",
      "}\n",
      "```"
     ]
    },
    {
     "name": "stdout",
     "output_type": "stream",
     "text": [
      "\n",
      "\n"
     ]
    },
    {
     "name": "stdout",
     "output_type": "stream",
     "text": [
      "PDB file found with this ID: 1LYZ\n"
     ]
    },
    {
     "name": "stdout",
     "output_type": "stream",
     "text": [
      "Thought: Now"
     ]
    },
    {
     "name": "stdout",
     "output_type": "stream",
     "text": [
      " that I have the PDB file downloaded, I can analyze its"
     ]
    },
    {
     "name": "stdout",
     "output_type": "stream",
     "text": [
      " structure. I'll use GetT"
     ]
    },
    {
     "name": "stdout",
     "output_type": "stream",
     "text": [
      "urnsBetaSheetsHelices to get"
     ]
    },
    {
     "name": "stdout",
     "output_type": "stream",
     "text": [
      " information about the secondary structure elements."
     ]
    },
    {
     "name": "stdout",
     "output_type": "stream",
     "text": [
      " First, I need to get the Uni"
     ]
    },
    {
     "name": "stdout",
     "output_type": "stream",
     "text": [
      "Prot ID for this protein.\n",
      "\n",
      "Action:"
     ]
    },
    {
     "name": "stdout",
     "output_type": "stream",
     "text": [
      "\n",
      "```\n",
      "{\n",
      "    \"action\": \""
     ]
    },
    {
     "name": "stdout",
     "output_type": "stream",
     "text": [
      "GetUniprotID\",\n",
      "    \"action"
     ]
    },
    {
     "name": "stdout",
     "output_type": "stream",
     "text": [
      "_input\": \"1LYZ\""
     ]
    },
    {
     "name": "stdout",
     "output_type": "stream",
     "text": [
      "\n",
      "}\n",
      "```\n",
      "\n"
     ]
    },
    {
     "name": "stdout",
     "output_type": "stream",
     "text": [
      "Thought: Now that"
     ]
    },
    {
     "name": "stdout",
     "output_type": "stream",
     "text": [
      " I have the UniProt ID, I can"
     ]
    },
    {
     "name": "stdout",
     "output_type": "stream",
     "text": [
      " get detailed information about the beta sheets and other"
     ]
    },
    {
     "name": "stdout",
     "output_type": "stream",
     "text": [
      " structural elements. I'll use GetTurnsBetaS"
     ]
    },
    {
     "name": "stdout",
     "output_type": "stream",
     "text": [
      "heetsHelices with the UniProt ID"
     ]
    },
    {
     "name": "stdout",
     "output_type": "stream",
     "text": [
      " and its primary accession number.\n",
      "\n",
      "Action"
     ]
    },
    {
     "name": "stdout",
     "output_type": "stream",
     "text": [
      ":\n",
      "```\n",
      "{\n",
      "    \"action\":"
     ]
    },
    {
     "name": "stdout",
     "output_type": "stream",
     "text": [
      " \"GetTurnsBetaSheetsHel"
     ]
    },
    {
     "name": "stdout",
     "output_type": "stream",
     "text": [
      "ices\",\n",
      "    \"action_input\": {"
     ]
    },
    {
     "name": "stdout",
     "output_type": "stream",
     "text": [
      "\n",
      "        \"query\": \"P17897"
     ]
    },
    {
     "name": "stdout",
     "output_type": "stream",
     "text": [
      "\",\n",
      "        \"primary_accession\": \""
     ]
    },
    {
     "name": "stdout",
     "output_type": "stream",
     "text": [
      "P17897\"\n",
      "    }\n",
      "}\n",
      "```"
     ]
    },
    {
     "name": "stdout",
     "output_type": "stream",
     "text": [
      "\n",
      "\n"
     ]
    },
    {
     "name": "stdout",
     "output_type": "stream",
     "text": [
      "Thought: Since the Uni"
     ]
    },
    {
     "name": "stdout",
     "output_type": "stream",
     "text": [
      "Prot database didn't provide the structural"
     ]
    },
    {
     "name": "stdout",
     "output_type": "stream",
     "text": [
      " information directly, let me analyze the downloaded PDB file using"
     ]
    },
    {
     "name": "stdout",
     "output_type": "stream",
     "text": [
      " the structure summarization tool to get this"
     ]
    },
    {
     "name": "stdout",
     "output_type": "stream",
     "text": [
      " information.\n",
      "\n",
      "Action:\n",
      "```\n",
      "{"
     ]
    },
    {
     "name": "stdout",
     "output_type": "stream",
     "text": [
      "\n",
      "    \"action\": \"S"
     ]
    },
    {
     "name": "stdout",
     "output_type": "stream",
     "text": [
      "ummarizeProteinStructure\","
     ]
    },
    {
     "name": "stdout",
     "output_type": "stream",
     "text": [
      "\n",
      "    \"action_input\": {"
     ]
    },
    {
     "name": "stdout",
     "output_type": "stream",
     "text": [
      "\n",
      "        \"traj_file\": \"1"
     ]
    },
    {
     "name": "stdout",
     "output_type": "stream",
     "text": [
      "LYZ_160944\","
     ]
    },
    {
     "name": "stdout",
     "output_type": "stream",
     "text": [
      "\n",
      "        \"top_file\": \"1LY"
     ]
    },
    {
     "name": "stdout",
     "output_type": "stream",
     "text": [
      "Z_160944\"\n",
      "    }\n",
      "}"
     ]
    },
    {
     "name": "stdout",
     "output_type": "stream",
     "text": [
      "\n",
      "```\n",
      "\n"
     ]
    },
    {
     "name": "stdout",
     "output_type": "stream",
     "text": [
      "Thought: Let me get the secondary"
     ]
    },
    {
     "name": "stdout",
     "output_type": "stream",
     "text": [
      " structure information using DSSP analysis to"
     ]
    },
    {
     "name": "stdout",
     "output_type": "stream",
     "text": [
      " specifically identify the beta sheets.\n",
      "\n",
      "Action:\n",
      "```"
     ]
    },
    {
     "name": "stdout",
     "output_type": "stream",
     "text": [
      "\n",
      "{\n",
      "    \"action\": \"Com"
     ]
    },
    {
     "name": "stdout",
     "output_type": "stream",
     "text": [
      "puteDSSP\",\n",
      "    \"action_"
     ]
    },
    {
     "name": "stdout",
     "output_type": "stream",
     "text": [
      "input\": {\n",
      "        \"traj_file"
     ]
    },
    {
     "name": "stdout",
     "output_type": "stream",
     "text": [
      "\": \"1LYZ_160944\","
     ]
    },
    {
     "name": "stdout",
     "output_type": "stream",
     "text": [
      "\n",
      "        \"top_file\": \"1L"
     ]
    },
    {
     "name": "stdout",
     "output_type": "stream",
     "text": [
      "YZ_160944\",\n",
      "        \"target"
     ]
    },
    {
     "name": "stdout",
     "output_type": "stream",
     "text": [
      "_frames\": \"all\""
     ]
    },
    {
     "name": "stdout",
     "output_type": "stream",
     "text": [
      "\n",
      "    }\n",
      "}\n",
      "```"
     ]
    },
    {
     "name": "stdout",
     "output_type": "stream",
     "text": [
      "\n",
      "\n"
     ]
    },
    {
     "name": "stdout",
     "output_type": "stream",
     "text": [
      "Thought: I now"
     ]
    },
    {
     "name": "stdout",
     "output_type": "stream",
     "text": [
      " have all the necessary information to provide"
     ]
    },
    {
     "name": "stdout",
     "output_type": "stream",
     "text": [
      " a complete answer about the structure"
     ]
    },
    {
     "name": "stdout",
     "output_type": "stream",
     "text": [
      " of 1LYZ."
     ]
    },
    {
     "name": "stdout",
     "output_type": "stream",
     "text": [
      "\n",
      "\n",
      "Action:\n",
      "```\n",
      "{\n",
      "    \""
     ]
    },
    {
     "name": "stdout",
     "output_type": "stream",
     "text": [
      "action\": \"Final Answer\",\n",
      "    \""
     ]
    },
    {
     "name": "stdout",
     "output_type": "stream",
     "text": [
      "action_input\": \"The analysis"
     ]
    },
    {
     "name": "stdout",
     "output_type": "stream",
     "text": [
      " of PDB structure 1LYZ"
     ]
    },
    {
     "name": "stdout",
     "output_type": "stream",
     "text": [
      " reveals:\n",
      "\n",
      "1. Chain"
     ]
    },
    {
     "name": "stdout",
     "output_type": "stream",
     "text": [
      " Information:\n",
      "- The structure contains 2 "
     ]
    },
    {
     "name": "stdout",
     "output_type": "stream",
     "text": [
      "chains\n",
      "- Total number of residues:"
     ]
    },
    {
     "name": "stdout",
     "output_type": "stream",
     "text": [
      " 230 residues\n",
      "\n",
      "2. Secondary"
     ]
    },
    {
     "name": "stdout",
     "output_type": "stream",
     "text": [
      " Structure Information:\n",
      "- There are 14 resi"
     ]
    },
    {
     "name": "stdout",
     "output_type": "stream",
     "text": [
      "dues involved in beta strands/"
     ]
    },
    {
     "name": "stdout",
     "output_type": "stream",
     "text": [
      "sheets\n",
      "- Additionally, the"
     ]
    },
    {
     "name": "stdout",
     "output_type": "stream",
     "text": [
      " structure contains:\n",
      "  *"
     ]
    },
    {
     "name": "stdout",
     "output_type": "stream",
     "text": [
      " 50 residues in hel"
     ]
    },
    {
     "name": "stdout",
     "output_type": "stream",
     "text": [
      "ical conformations\n",
      "  * "
     ]
    },
    {
     "name": "stdout",
     "output_type": "stream",
     "text": [
      "65 residues in coil regions"
     ]
    },
    {
     "name": "stdout",
     "output_type": "stream",
     "text": [
      "\n",
      "  * 101 residues that are"
     ]
    },
    {
     "name": "stdout",
     "output_type": "stream",
     "text": [
      " either not assigned or are non-protein residues"
     ]
    },
    {
     "name": "stdout",
     "output_type": "stream",
     "text": [
      "\n",
      "\n",
      "This provides a complete picture of both"
     ]
    },
    {
     "name": "stdout",
     "output_type": "stream",
     "text": [
      " the chain composition and beta sheet content"
     ]
    },
    {
     "name": "stdout",
     "output_type": "stream",
     "text": [
      " of the 1LYZ structure.\"\n",
      "}"
     ]
    },
    {
     "name": "stdout",
     "output_type": "stream",
     "text": [
      "\n",
      "```"
     ]
    },
    {
     "data": {
      "text/plain": [
       "({'input': '\\n    You are an expert molecular dynamics scientist, and\\n    your task is to respond to the question or\\n    solve the problem to the best of your ability using\\n    the provided tools.\\n\\n    You can only respond with a single complete\\n    \\'Thought, Action, Action Input\\' format\\n    OR a single \\'Final Answer\\' format.\\n\\n    Complete format:\\n    Thought: (reflect on your progress and decide what to do next)\\n    Action:\\n    ```\\n    {\\n        \"action\": (the action name, it should be the name of a tool),\\n        \"action_input\": (the input string for the action)\\n    }\\n    \\'\\'\\'\\n\\n    OR\\n\\n    Final Answer: (the final response to the original input\\n    question, once all steps are complete)\\n\\n    You are required to use the tools provided,\\n    using the most specific tool\\n    available for each action.\\n    Your final answer should contain all information\\n    necessary to answer the question and its subquestions.\\n    Before you finish, reflect on your progress and make\\n    sure you have addressed the question in its entirety.\\n\\n    If you are asked to continue\\n    or reference previous runs,\\n    the context will be provided to you.\\n    If context is provided, you should assume\\n    you are continuing a chat.\\n\\n    Here is the input:\\n    Previous Context: None\\n    Question: Download the PDB file 1LYZ. Tell me how many residues are in the chains and beta sheets. ',\n",
       "  'output': 'The analysis of PDB structure 1LYZ reveals:\\n\\n1. Chain Information:\\n- The structure contains 2 chains\\n- Total number of residues: 230 residues\\n\\n2. Secondary Structure Information:\\n- There are 14 residues involved in beta strands/sheets\\n- Additionally, the structure contains:\\n  * 50 residues in helical conformations\\n  * 65 residues in coil regions\\n  * 101 residues that are either not assigned or are non-protein residues\\n\\nThis provides a complete picture of both the chain composition and beta sheet content of the 1LYZ structure.'},\n",
       " 'CZPRLGAQ')"
      ]
     },
     "execution_count": 10,
     "metadata": {},
     "output_type": "execute_result"
    }
   ],
   "source": [
    "agent_2.run(non_descriptive_prompt_2)"
   ]
  },
  {
   "cell_type": "code",
   "execution_count": 11,
   "metadata": {},
   "outputs": [
    {
     "name": "stdout",
     "output_type": "stream",
     "text": [
      "ckpt_dir: ckpt_101\n",
      "Files found in registry: 1LYZ_112257: PDB file downloaded from RSCB\n",
      " PDBFile ID: 1LYZ_112257\n",
      " rec0_112311: dssp values for trajectory with id: 1LYZ_112257\n"
     ]
    }
   ],
   "source": [
    "registry = agent_2.path_registry\n",
    "print(\"ckpt_dir:\",os.path.basename(registry.ckpt_dir))\n",
    "paths_and_descriptions = registry.list_path_names_and_descriptions()\n",
    "print(\"\\n\".join(paths_and_descriptions.split(\",\")))"
   ]
  },
  {
   "cell_type": "code",
   "execution_count": 12,
   "metadata": {},
   "outputs": [
    {
     "name": "stdout",
     "output_type": "stream",
     "text": [
      "It is asserted that file path for 1LYZ_112257 exists\n",
      "Number of residues in total:  230\n",
      "Number of chains:  2\n",
      "Number of sheets:  14\n",
      "Number of helices:  50\n",
      "Number of coils:  65\n"
     ]
    }
   ],
   "source": [
    "import mdtraj as md\n",
    "import os\n",
    "import re\n",
    "\n",
    "match = re.search(r\"1LYZ_\\d+\", paths_and_descriptions)\n",
    "file_id = match.group(0)\n",
    "pdb_path = registry.get_mapped_path(file_id)\n",
    "assert os.path.exists(pdb_path)\n",
    "print(f'It is asserted that file path for {file_id} exists')\n",
    "\n",
    "traj = md.load(pdb_path)\n",
    "#get dssp \n",
    "number_of_chains = traj.n_chains\n",
    "total_res = traj.n_residues\n",
    "secondary_structure = md.compute_dssp(traj,simplified=True)\n",
    "print(\"Number of residues in total: \",total_res)\n",
    "print(\"Number of chains: \",number_of_chains)\n",
    "print(\"Number of sheets: \",len([i for i in secondary_structure[0] if i == 'E']))\n",
    "print(\"Number of helices: \",len([i for i in secondary_structure[0] if i == 'H']))\n",
    "print(\"Number of coils: \",len([i for i in secondary_structure[0] if i == 'C']))"
   ]
  }
 ],
 "metadata": {
  "kernelspec": {
   "display_name": "mdcrow",
   "language": "python",
   "name": "mdcrow"
  },
  "language_info": {
   "codemirror_mode": {
    "name": "ipython",
    "version": 3
   },
   "file_extension": ".py",
   "mimetype": "text/x-python",
   "name": "python",
   "nbconvert_exporter": "python",
   "pygments_lexer": "ipython3",
   "version": "3.12.4"
  }
 },
 "nbformat": 4,
 "nbformat_minor": 4
}
