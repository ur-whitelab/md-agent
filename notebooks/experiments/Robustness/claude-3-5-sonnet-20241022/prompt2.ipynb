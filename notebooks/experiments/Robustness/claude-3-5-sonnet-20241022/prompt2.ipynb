{
 "cells": [
  {
   "cell_type": "code",
   "execution_count": 1,
   "metadata": {},
   "outputs": [],
   "source": [
    "from mdagent import MDAgent"
   ]
  },
  {
   "cell_type": "code",
   "execution_count": 2,
   "metadata": {},
   "outputs": [
    {
     "data": {
      "text/plain": [
       "('Complete all of the following tasks: 1. Download the PDB file 1LYZ. 2. Report the secondary structure assignments of the structure.',\n",
       " 'Download the PDB file 1LYZ. Report the secondary structure assignments of the structure.')"
      ]
     },
     "execution_count": 2,
     "metadata": {},
     "output_type": "execute_result"
    }
   ],
   "source": [
    "import sys\n",
    "import os\n",
    "parent_dir = os.path.abspath(os.path.join(os.getcwd(), '..'))\n",
    "sys.path.append(parent_dir)\n",
    "from robustness_prompts import get_prompt\n",
    "\n",
    "prompt_2_descriptive = get_prompt(\"descriptive\", 2)\n",
    "prompt_2_natural = get_prompt(\"natural\", 2)\n",
    "\n",
    "prompt_2_descriptive, prompt_2_natural"
   ]
  },
  {
   "cell_type": "code",
   "execution_count": 3,
   "metadata": {},
   "outputs": [],
   "source": [
    "llm_model = \"claude-3-5-sonnet-20241022\"\n",
    "tools = \"all\""
   ]
  },
  {
   "cell_type": "code",
   "execution_count": 4,
   "metadata": {},
   "outputs": [
    {
     "name": "stdout",
     "output_type": "stream",
     "text": [
      "Thought: Let me break this down into steps. First, I need to download the PDB file 1LYZ using the PDBFileDownloader tool. Then, I can analyze its secondary structure using ComputeDSSP.\n",
      "\n",
      "Action:\n",
      "```\n",
      "{\n",
      "    \"action\": \"PDBFileDownloader\",\n",
      "    \"action_input\": \"1LYZ\"\n",
      "}\n",
      "```\n",
      "\n",
      "PDB file found with this ID: 1LYZ\n",
      "Thought: Now that I have downloaded the PDB file, I can analyze its secondary structure using ComputeDSSP. Since we want to analyze the structure itself (not a trajectory), I'll use \"first\" as the target frame.\n",
      "\n",
      "Action:\n",
      "```\n",
      "{\n",
      "    \"action\": \"ComputeDSSP\",\n",
      "    \"action_input\": {\n",
      "        \"traj_file\": \"1LYZ_222403\",\n",
      "        \"target_frames\": \"first\"\n",
      "    }\n",
      "}\n",
      "```\n",
      "\n",
      "Now that I have gathered all the necessary information, I can provide a comprehensive final answer that addresses both tasks.\n",
      "\n",
      "Action:\n",
      "```\n",
      "{\n",
      "    \"action\": \"Final Answer\",\n",
      "    \"action_input\": \"I have completed both requested tasks:\n",
      "\n",
      "1. The PDB file 1LYZ was successfully downloaded and saved as '1LYZ_222403'.\n",
      "\n",
      "2. The secondary structure analysis of 1LYZ reveals the following composition:\n",
      "   - 50 residues are in helical conformations\n",
      "   - 14 residues are in β-strand conformations\n",
      "   - 65 residues are in coil regions\n",
      "   - 101 residues were not assigned (these are typically non-protein residues like water molecules, ligands, etc.)\n",
      "\n",
      "The protein shows a mixed α/β structure with a predominance of helical structure among the assigned secondary structure elements. The total number of residues with assigned secondary structure is 129 (50 + 14 + 65).\"\n",
      "}\n",
      "```"
     ]
    },
    {
     "data": {
      "text/plain": [
       "({'input': '\\n    You are an expert molecular dynamics scientist, and\\n    your task is to respond to the question or\\n    solve the problem to the best of your ability using\\n    the provided tools.\\n\\n    You can only respond with a single complete\\n    \\'Thought, Action, Action Input\\' format\\n    OR a single \\'Final Answer\\' format.\\n\\n    Complete format:\\n    Thought: (reflect on your progress and decide what to do next)\\n    Action:\\n    ```\\n    {\\n        \"action\": (the action name, it should be the name of a tool),\\n        \"action_input\": (the input string for the action)\\n    }\\n    \\'\\'\\'\\n\\n    OR\\n\\n    Final Answer: (the final response to the original input\\n    question, once all steps are complete)\\n\\n    You are required to use the tools provided,\\n    using the most specific tool\\n    available for each action.\\n    Your final answer should contain all information\\n    necessary to answer the question and its subquestions.\\n    Before you finish, reflect on your progress and make\\n    sure you have addressed the question in its entirety.\\n\\n    If you are asked to continue\\n    or reference previous runs,\\n    the context will be provided to you.\\n    If context is provided, you should assume\\n    you are continuing a chat.\\n\\n    Here is the input:\\n    Previous Context: None\\n    Question: Complete all of the following tasks: 1. Download the PDB file 1LYZ. 2. Report the secondary structure assignments of the structure. ',\n",
       "  'output': \"I have completed both requested tasks:\\n\\n1. The PDB file 1LYZ was successfully downloaded and saved as '1LYZ_222403'.\\n\\n2. The secondary structure analysis of 1LYZ reveals the following composition:\\n   - 50 residues are in helical conformations\\n   - 14 residues are in β-strand conformations\\n   - 65 residues are in coil regions\\n   - 101 residues were not assigned (these are typically non-protein residues like water molecules, ligands, etc.)\\n\\nThe protein shows a mixed α/β structure with a predominance of helical structure among the assigned secondary structure elements. The total number of residues with assigned secondary structure is 129 (50 + 14 + 65).\"},\n",
       " 'Z7CNSHVD')"
      ]
     },
     "execution_count": 4,
     "metadata": {},
     "output_type": "execute_result"
    }
   ],
   "source": [
    "agent_1 = MDAgent(agent_type=\"Structured\", model=llm_model, top_k_tools=tools, use_memory=False)\n",
    "agent_1.run(prompt_2_descriptive)"
   ]
  },
  {
   "cell_type": "code",
   "execution_count": 5,
   "metadata": {},
   "outputs": [
    {
     "name": "stdout",
     "output_type": "stream",
     "text": [
      "Files found in registry: 1LYZ_222403: PDB file downloaded from RSCB, PDBFile ID: 1LYZ_222403, rec0_222407: dssp values for trajectory with id: 1LYZ_222403\n"
     ]
    }
   ],
   "source": [
    "registry_1 = agent_1.path_registry\n",
    "print(registry_1.list_path_names_and_descriptions())"
   ]
  },
  {
   "cell_type": "code",
   "execution_count": 7,
   "metadata": {},
   "outputs": [],
   "source": [
    "# make sure pdb was downloaded\n",
    "assert os.path.exists(registry_1.get_mapped_path(\"1LYZ_222403\"))"
   ]
  },
  {
   "cell_type": "code",
   "execution_count": 6,
   "metadata": {},
   "outputs": [
    {
     "data": {
      "text/plain": [
       "\"{'residues in helix': 50, 'residues in strand': 14, 'residues in coil': 65, 'residues not assigned, not a protein residue': 101}\""
      ]
     },
     "execution_count": 6,
     "metadata": {},
     "output_type": "execute_result"
    }
   ],
   "source": [
    "# make sure dssp was computed correctly\n",
    "from mdagent.tools.base_tools import ComputeDSSP\n",
    "\n",
    "dssp = ComputeDSSP(registry_1)\n",
    "dssp._run(traj_file= \"1LYZ_222403\", target_frames=\"first\")"
   ]
  },
  {
   "cell_type": "code",
   "execution_count": 8,
   "metadata": {},
   "outputs": [
    {
     "name": "stdout",
     "output_type": "stream",
     "text": [
      "Thought: I'll break this down into steps. First, I need to download the PDB file 1LYZ, and then I can analyze its secondary structure using the DSSP tool. Let's start by downloading the file.\n",
      "\n",
      "Action:\n",
      "```\n",
      "{\n",
      "    \"action\": \"PDBFileDownloader\",\n",
      "    \"action_input\": \"1LYZ\"\n",
      "}\n",
      "```\n",
      "\n",
      "PDB file found with this ID: 1LYZ\n",
      "Thought: Now that I have downloaded the PDB file, I can analyze its secondary structure using the DSSP tool. I'll use ComputeDSSP to get the secondary structure assignments.\n",
      "\n",
      "Action:\n",
      "```\n",
      "{\n",
      "    \"action\": \"ComputeDSSP\",\n",
      "    \"action_input\": {\n",
      "        \"traj_file\": \"1LYZ_222457\",\n",
      "        \"target_frames\": \"all\"\n",
      "    }\n",
      "}\n",
      "```\n",
      "\n",
      "Thought: I now have all the information needed to provide a comprehensive answer about the secondary structure of lysozyme (PDB ID: 1LYZ).\n",
      "\n",
      "Action:\n",
      "```\n",
      "{\n",
      "    \"action\": \"Final Answer\",\n",
      "    \"action_input\": \"I have analyzed the secondary structure of lysozyme (PDB ID: 1LYZ) using the DSSP (Define Secondary Structure of Proteins) algorithm. Here is the breakdown of the secondary structure assignments:\n",
      "\n",
      "1. Alpha Helices: 50 residues (38.8% of protein residues)\n",
      "2. Beta Strands: 14 residues (10.9% of protein residues)\n",
      "3. Coil regions: 65 residues (50.3% of protein residues)\n",
      "\n",
      "The structure also contains 101 non-protein residues (like water molecules, ions, or ligands) which are not assigned secondary structure.\n",
      "\n",
      "In total, there are 129 protein residues (sum of helix, strand, and coil), with the predominant secondary structure being coil regions, followed by alpha helices, and a smaller proportion of beta strands. This distribution is typical for lysozyme, which is known to be a mainly alpha-helical protein with some beta structure.\"\n",
      "}\n",
      "```"
     ]
    },
    {
     "data": {
      "text/plain": [
       "({'input': '\\n    You are an expert molecular dynamics scientist, and\\n    your task is to respond to the question or\\n    solve the problem to the best of your ability using\\n    the provided tools.\\n\\n    You can only respond with a single complete\\n    \\'Thought, Action, Action Input\\' format\\n    OR a single \\'Final Answer\\' format.\\n\\n    Complete format:\\n    Thought: (reflect on your progress and decide what to do next)\\n    Action:\\n    ```\\n    {\\n        \"action\": (the action name, it should be the name of a tool),\\n        \"action_input\": (the input string for the action)\\n    }\\n    \\'\\'\\'\\n\\n    OR\\n\\n    Final Answer: (the final response to the original input\\n    question, once all steps are complete)\\n\\n    You are required to use the tools provided,\\n    using the most specific tool\\n    available for each action.\\n    Your final answer should contain all information\\n    necessary to answer the question and its subquestions.\\n    Before you finish, reflect on your progress and make\\n    sure you have addressed the question in its entirety.\\n\\n    If you are asked to continue\\n    or reference previous runs,\\n    the context will be provided to you.\\n    If context is provided, you should assume\\n    you are continuing a chat.\\n\\n    Here is the input:\\n    Previous Context: None\\n    Question: Download the PDB file 1LYZ. Report the secondary structure assignments of the structure. ',\n",
       "  'output': 'I have analyzed the secondary structure of lysozyme (PDB ID: 1LYZ) using the DSSP (Define Secondary Structure of Proteins) algorithm. Here is the breakdown of the secondary structure assignments:\\n\\n1. Alpha Helices: 50 residues (38.8% of protein residues)\\n2. Beta Strands: 14 residues (10.9% of protein residues)\\n3. Coil regions: 65 residues (50.3% of protein residues)\\n\\nThe structure also contains 101 non-protein residues (like water molecules, ions, or ligands) which are not assigned secondary structure.\\n\\nIn total, there are 129 protein residues (sum of helix, strand, and coil), with the predominant secondary structure being coil regions, followed by alpha helices, and a smaller proportion of beta strands. This distribution is typical for lysozyme, which is known to be a mainly alpha-helical protein with some beta structure.'},\n",
       " 'R6BMJ4GA')"
      ]
     },
     "execution_count": 8,
     "metadata": {},
     "output_type": "execute_result"
    }
   ],
   "source": [
    "agent_2 = MDAgent(agent_type=\"Structured\", model=llm_model, top_k_tools=tools, use_memory=False)\n",
    "agent_2.run(prompt_2_natural)"
   ]
  },
  {
   "cell_type": "code",
   "execution_count": 9,
   "metadata": {},
   "outputs": [
    {
     "name": "stdout",
     "output_type": "stream",
     "text": [
      "Files found in registry: 1LYZ_222457: PDB file downloaded from RSCB, PDBFile ID: 1LYZ_222457, rec0_222500: dssp values for trajectory with id: 1LYZ_222457\n"
     ]
    }
   ],
   "source": [
    "registry_2 = agent_2.path_registry\n",
    "print(registry_2.list_path_names_and_descriptions())"
   ]
  },
  {
   "cell_type": "code",
   "execution_count": 10,
   "metadata": {},
   "outputs": [],
   "source": [
    "# make sure pdb was downloaded\n",
    "assert os.path.exists(registry_2.get_mapped_path(\"1LYZ_222457\"))"
   ]
  },
  {
   "cell_type": "code",
   "execution_count": 11,
   "metadata": {},
   "outputs": [
    {
     "data": {
      "text/plain": [
       "\"{'residues in helix': 50, 'residues in strand': 14, 'residues in coil': 65, 'residues not assigned, not a protein residue': 101}\""
      ]
     },
     "execution_count": 11,
     "metadata": {},
     "output_type": "execute_result"
    }
   ],
   "source": [
    "# make sure dssp was computed correctly\n",
    "from mdagent.tools.base_tools import ComputeDSSP\n",
    "\n",
    "dssp = ComputeDSSP(registry_2)\n",
    "dssp._run(traj_file= \"1LYZ_222457\", target_frames=\"first\")"
   ]
  },
  {
   "cell_type": "code",
   "execution_count": null,
   "metadata": {},
   "outputs": [],
   "source": []
  }
 ],
 "metadata": {
  "kernelspec": {
   "display_name": "mdagent2",
   "language": "python",
   "name": "python3"
  },
  "language_info": {
   "codemirror_mode": {
    "name": "ipython",
    "version": 3
   },
   "file_extension": ".py",
   "mimetype": "text/x-python",
   "name": "python",
   "nbconvert_exporter": "python",
   "pygments_lexer": "ipython3",
   "version": "3.12.5"
  }
 },
 "nbformat": 4,
 "nbformat_minor": 2
}
