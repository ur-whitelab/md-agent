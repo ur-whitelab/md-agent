{
 "cells": [
  {
   "cell_type": "code",
   "execution_count": 1,
   "metadata": {},
   "outputs": [],
   "source": [
    "from mdcrow import MDCrow\n",
    "import os"
   ]
  },
  {
   "cell_type": "code",
   "execution_count": 2,
   "metadata": {},
   "outputs": [],
   "source": [
    "descriptive_prompt_8 = \"Complete all of the following tasks: 1. Download the PDB file 1LYZ. 2. Tell me how many residues are in the chains and beta sheets. 3. Simulate for 1 ps at 300 K. 4. Compute the RMSD of the simulation at 300 K. 5. Compute the radius of gyration over time for the simulation at 300 K. 6. Simulate for 1 ps at 400 K. 7. Compute the RMSD of the simulation at 400 K. 8. Compute the radius of gyration over time for the simulation at 400 K.\"\n",
    "non_descriptive_prompt_8 = \"Simulate 1LYZ for 1 ps at 300K and 400K. Tell me how many residues are in the chains and beta sheets, and compute the RMSD and radius of gyration of both simulations.\""
   ]
  },
  {
   "cell_type": "code",
   "execution_count": 3,
   "metadata": {},
   "outputs": [],
   "source": [
    "llm_model = \"claude-3-5-sonnet-20241022\"\n",
    "tools = \"all\""
   ]
  },
  {
   "cell_type": "code",
   "execution_count": 4,
   "metadata": {},
   "outputs": [
    {
     "name": "stdout",
     "output_type": "stream",
     "text": [
      "date: 2025-01-14\n",
      "time: 14:24:31\n"
     ]
    }
   ],
   "source": [
    "#todays date and time\n",
    "import datetime\n",
    "now = datetime.datetime.now()\n",
    "date = now.strftime(\"%Y-%m-%d\")\n",
    "print(\"date:\",date)\n",
    "time = now.strftime(\"%H:%M:%S\")\n",
    "print(\"time:\",time)"
   ]
  },
  {
   "cell_type": "markdown",
   "metadata": {},
   "source": [
    "# descriptive prompt"
   ]
  },
  {
   "cell_type": "code",
   "execution_count": 5,
   "metadata": {},
   "outputs": [],
   "source": [
    "agent_1 = MDCrow(agent_type=\"Structured\", model=llm_model, top_k_tools=tools)"
   ]
  },
  {
   "cell_type": "code",
   "execution_count": 6,
   "metadata": {},
   "outputs": [
    {
     "name": "stdout",
     "output_type": "stream",
     "text": [
      "Thought: Let's solve this step by step. First, let's download the PDB file 1LYZ.\n",
      "\n",
      "Action:\n",
      "```\n",
      "{\n",
      "    \"action\": \"PDBFileDownloader\",\n",
      "    \"action_input\": \"1LYZ\"\n",
      "}\n",
      "```\n",
      "\n",
      "PDB file found with this ID: 1LYZ\n",
      "Thought: Now that we have downloaded the PDB file, let's analyze its structure to get information about residues, chains, and beta sheets.\n",
      "\n",
      "Action:\n",
      "```\n",
      "{\n",
      "    \"action\": \"GetTurnsBetaSheetsHelices\",\n",
      "    \"action_input\": {\n",
      "        \"query\": \"1LYZ\",\n",
      "        \"primary_accession\": \"P00698\"\n",
      "    }\n",
      "}\n",
      "```\n",
      "\n",
      "Thought: Let me continue with the next steps. Now that we have the PDB file and structural information, let's set up and run the first simulation at 300K.\n",
      "\n",
      "Action:\n",
      "```\n",
      "{\n",
      "    \"action\": \"SetUpandRunFunction\",\n",
      "    \"action_input\": {\n",
      "        \"pdb_id\": \"1LYZ_142434\",\n",
      "        \"forcefield_files\": [\"amber14-all.xml\", \"amber14/tip3pfb.xml\"],\n",
      "        \"save\": true,\n",
      "        \"system_params\": {\n",
      "            \"nonbondedMethod\": \"PME\",\n",
      "            \"nonbondedCutoff\": \"1.0 * nanometers\",\n",
      "            \"constraints\": \"HBonds\",\n",
      "            \"rigidWater\": true,\n",
      "            \"constraintTolerance\": 0.000001,\n",
      "            \"ewaldErrorTolerance\": 0.0005,\n",
      "            \"solvate\": true\n",
      "        },\n",
      "        \"integrator_params\": {\n",
      "            \"integrator_type\": \"LangevinMiddle\",\n",
      "            \"Temperature\": \"300 * kelvin\",\n",
      "            \"Friction\": \"1.0 / picoseconds\",\n",
      "            \"Timestep\": \"0.002 * picoseconds\",\n",
      "            \"Pressure\": \"1.0 * bar\"\n",
      "        },\n",
      "        \"simulation_params\": {\n",
      "            \"Ensemble\": \"NPT\",\n",
      "            \"Number of Steps\": 500,\n",
      "            \"record_interval_steps\": 5,\n",
      "            \"record_params\": [\"step\", \"potentialEnergy\", \"temperature\", \"density\"]\n",
      "        }\n",
      "    }\n",
      "}\n",
      "```\n",
      "\n",
      "Building system...\n",
      "About to create system...\n",
      "Attempts at creating system: 0/3\n",
      "Error adding solvent ValueError – No template found for residue 1 (LYS).  The set of atoms is similar to HID, but it is missing 8 atoms.  For more information, see https://github.com/openmm/openmm/wiki/Frequently-Asked-Questions#template\n",
      "Residue code: LYS\n",
      "Residue code not in solvent list. Adding forcefield                         not supported.\n",
      "Thought: I see the issue. We need to clean and prepare the PDB file first before running the simulation to ensure all atoms and residues are properly defined. Let's use the cleaning tool first.\n",
      "\n",
      "Action:\n",
      "```\n",
      "{\n",
      "    \"action\": \"CleaningToolFunction\",\n",
      "    \"action_input\": {\n",
      "        \"pdb_id\": \"1LYZ_142434\",\n",
      "        \"replace_nonstandard_residues\": true,\n",
      "        \"add_missing_atoms\": true,\n",
      "        \"remove_heterogens\": true,\n",
      "        \"remove_water\": true,\n",
      "        \"add_hydrogens\": true,\n",
      "        \"add_hydrogens_ph\": 7.0\n",
      "    }\n",
      "}\n",
      "```\n",
      "\n",
      "file path: /gpfs/fs2/scratch/qcampbe2/repos/md-agent/ckpt/ckpt_89/pdb/1LYZ_raw_20250114_142434.pdb\n",
      "Thought: Now that we have a cleaned PDB file, let's try running the simulation at 300K again.\n",
      "\n",
      "Action:\n",
      "```\n",
      "{\n",
      "    \"action\": \"SetUpandRunFunction\",\n",
      "    \"action_input\": {\n",
      "        \"pdb_id\": \"1LYZ_142450\",\n",
      "        \"forcefield_files\": [\"amber14-all.xml\", \"amber14/tip3pfb.xml\"],\n",
      "        \"save\": true,\n",
      "        \"system_params\": {\n",
      "            \"nonbondedMethod\": \"PME\",\n",
      "            \"nonbondedCutoff\": \"1.0 * nanometers\",\n",
      "            \"constraints\": \"HBonds\",\n",
      "            \"rigidWater\": true,\n",
      "            \"constraintTolerance\": 0.000001,\n",
      "            \"ewaldErrorTolerance\": 0.0005,\n",
      "            \"solvate\": true\n",
      "        },\n",
      "        \"integrator_params\": {\n",
      "            \"integrator_type\": \"LangevinMiddle\",\n",
      "            \"Temperature\": \"300 * kelvin\",\n",
      "            \"Friction\": \"1.0 / picoseconds\",\n",
      "            \"Timestep\": \"0.002 * picoseconds\",\n",
      "            \"Pressure\": \"1.0 * bar\"\n",
      "        },\n",
      "        \"simulation_params\": {\n",
      "            \"Ensemble\": \"NPT\",\n",
      "            \"Number of Steps\": 500,\n",
      "            \"record_interval_steps\": 5,\n",
      "            \"record_params\": [\"step\", \"potentialEnergy\", \"temperature\", \"density\"]\n",
      "        }\n",
      "    }\n",
      "}\n",
      "```\n",
      "\n",
      "Building system...\n",
      "About to create system...\n",
      "Attempts at creating system: 0/3\n",
      "System built successfully\n",
      "<openmm.openmm.System; proxy of <Swig Object of type 'OpenMM::System *' at 0x7fb2c78ece40> >\n",
      "Setting up integrator...\n",
      "Creating simulation...\n",
      "simulation set!\n",
      "Performing energy minimization...\n",
      "Minimization complete!\n",
      "Initial Positions saved to initial_positions.pdb\n",
      "Equilibrating...\n",
      "Simulating...\n",
      "Done!\n",
      "Constraints must be set to 'None' for LangevinMiddle integrator.\n",
      "LangevinMiddle constraints:  HBonds\n",
      "Standalone simulation script written to /gpfs/fs2/scratch/qcampbe2/repos/md-agent/ckpt/ckpt_89/simulations/NPT_1LYZ_142450_20250114_142454.py\n",
      "['prompt7-Copy1.ipynb', 'run_robustness.sh', 'TOP_sim0_142454_1LYZ_142450_20250114_142458.pdb', 'LOG_sim0_142454_1LYZ_142450_20250114_142458.txt', 'slurm-27720900.out', 'prompt7.ipynb', 'prompt1.ipynb', 'prompt3.ipynb', 'prompt8-Copy1.ipynb', '.ipynb_checkpoints', 'prompt5-Copy1.ipynb', 'submit_robustness.sh', 'prompt4-Copy1.ipynb', 'prompt10.ipynb', 'prompt9.ipynb', 'LOG_sim0_154855_1LYZ_154850_20250110_154855.txt', 'TRAJ_sim0_142454_1LYZ_142450_20250114_142458.dcd', 'TRAJ_sim0_142608_1LYZ_142603_20250114_142612.dcd', 'submit_2.sh', 'prompt2.ipynb', 'TOP_sim0_154855_1LYZ_154850_20250110_154855.pdb', 'out', 'TOP_sim0_142744_1LYZ_142739_20250114_142748.pdb', 'prompt8.ipynb', 'TOP_sim0_142608_1LYZ_142603_20250114_142612.pdb', 'prompt6.ipynb', 'prompt4.ipynb', 'TRAJ_sim0_154855_1LYZ_154850_20250110_154855.dcd', 'LOG_sim0_142744_1LYZ_142739_20250114_142748.txt', 'TRAJ_sim0_142744_1LYZ_142739_20250114_142748.dcd', 'prompt5.ipynb', 'prompt6-Copy1.ipynb', 'LOG_sim0_142608_1LYZ_142603_20250114_142612.txt', 'prompt3-Copy1.ipynb']\n",
      "Thought: Let's continue with analyzing the 300K simulation by computing the RMSD and radius of gyration. Then we'll run the 400K simulation and analyze it as well.\n",
      "\n",
      "Action:\n",
      "```\n",
      "{\n",
      "    \"action\": \"ComputeRMSD\",\n",
      "    \"action_input\": {\n",
      "        \"top_id\": \"top_sim0_142454\",\n",
      "        \"traj_id\": \"rec0_142458\",\n",
      "        \"select\": \"protein\"\n",
      "    }\n",
      "}\n",
      "```\n",
      "\n",
      "Calculating RMSD...\n",
      "Data saved to /gpfs/fs2/scratch/qcampbe2/repos/md-agent/ckpt/ckpt_89/records/rmsd_142454.csv\n",
      "Plot saved to /gpfs/fs2/scratch/qcampbe2/repos/md-agent/ckpt/ckpt_89/figures/FIG_rmsd_142454_20250114_143614.png\n",
      "Thought: Let's continue by computing the radius of gyration for the 300K simulation.\n",
      "\n",
      "Action:\n",
      "```\n",
      "{\n",
      "    \"action\": \"RadiusofGyrationPlot\",\n",
      "    \"action_input\": {\n",
      "        \"traj_file\": \"rec0_142458\",\n",
      "        \"top_file\": \"top_sim0_142454\"\n",
      "    }\n",
      "}\n",
      "```\n",
      "\n",
      "plot_name:  FIG_rgy_rec0_142458_20250114_143618.png\n",
      "plot_path /gpfs/fs2/scratch/qcampbe2/repos/md-agent/ckpt/ckpt_89/figures/FIG_rgy_rec0_142458_20250114_143618\n",
      "Thought: Now let's run the simulation at 400K and then analyze it.\n",
      "\n",
      "Action:\n",
      "```\n",
      "{\n",
      "    \"action\": \"SetUpandRunFunction\",\n",
      "    \"action_input\": {\n",
      "        \"pdb_id\": \"1LYZ_142450\",\n",
      "        \"forcefield_files\": [\"amber14-all.xml\", \"amber14/tip3pfb.xml\"],\n",
      "        \"save\": true,\n",
      "        \"system_params\": {\n",
      "            \"nonbondedMethod\": \"PME\",\n",
      "            \"nonbondedCutoff\": \"1.0 * nanometers\",\n",
      "            \"constraints\": \"HBonds\",\n",
      "            \"rigidWater\": true,\n",
      "            \"constraintTolerance\": 0.000001,\n",
      "            \"ewaldErrorTolerance\": 0.0005,\n",
      "            \"solvate\": true\n",
      "        },\n",
      "        \"integrator_params\": {\n",
      "            \"integrator_type\": \"LangevinMiddle\",\n",
      "            \"Temperature\": \"400 * kelvin\",\n",
      "            \"Friction\": \"1.0 / picoseconds\",\n",
      "            \"Timestep\": \"0.002 * picoseconds\",\n",
      "            \"Pressure\": \"1.0 * bar\"\n",
      "        },\n",
      "        \"simulation_params\": {\n",
      "            \"Ensemble\": \"NPT\",\n",
      "            \"Number of Steps\": 500,\n",
      "            \"record_interval_steps\": 5,\n",
      "            \"record_params\": [\"step\", \"potentialEnergy\", \"temperature\", \"density\"]\n",
      "        }\n",
      "    }\n",
      "}\n",
      "```\n",
      "\n",
      "Building system...\n",
      "About to create system...\n",
      "Attempts at creating system: 0/3\n",
      "System built successfully\n",
      "<openmm.openmm.System; proxy of <Swig Object of type 'OpenMM::System *' at 0x7fb2c5e20570> >\n",
      "Setting up integrator...\n",
      "Creating simulation...\n",
      "simulation set!\n",
      "Performing energy minimization...\n",
      "Minimization complete!\n",
      "Initial Positions saved to initial_positions.pdb\n",
      "Equilibrating...\n",
      "Simulating...\n",
      "Done!\n",
      "Constraints must be set to 'None' for LangevinMiddle integrator.\n",
      "LangevinMiddle constraints:  HBonds\n",
      "Standalone simulation script written to /gpfs/fs2/scratch/qcampbe2/repos/md-agent/ckpt/ckpt_89/simulations/NPT_1LYZ_142450_20250114_143623.py\n",
      "['prompt7-Copy1.ipynb', 'run_robustness.sh', 'TRAJ_sim0_143935_1LYZ_143930_20250114_143938.dcd', 'slurm-27720900.out', 'prompt7.ipynb', 'prompt1.ipynb', 'prompt3.ipynb', 'prompt8-Copy1.ipynb', '.ipynb_checkpoints', 'prompt5-Copy1.ipynb', 'LOG_sim0_143844_1LYZ_143840_20250114_143848.txt', 'submit_robustness.sh', 'prompt4-Copy1.ipynb', 'prompt10.ipynb', 'prompt9.ipynb', 'LOG_sim0_154855_1LYZ_154850_20250110_154855.txt', 'TOP_sim0_143844_1LYZ_143840_20250114_143848.pdb', 'submit_2.sh', 'prompt2.ipynb', 'TOP_sim0_154855_1LYZ_154850_20250110_154855.pdb', 'out', 'TOP_sim0_143623_1LYZ_142450_20250114_143627.pdb', 'TRAJ_sim0_143844_1LYZ_143840_20250114_143848.dcd', 'prompt8.ipynb', 'LOG_sim0_143935_1LYZ_143930_20250114_143938.txt', 'prompt6.ipynb', 'prompt4.ipynb', 'TRAJ_sim0_154855_1LYZ_154850_20250110_154855.dcd', 'LOG_sim0_143623_1LYZ_142450_20250114_143627.txt', 'TRAJ_sim0_143623_1LYZ_142450_20250114_143627.dcd', 'prompt5.ipynb', 'prompt6-Copy1.ipynb', 'TOP_sim0_143935_1LYZ_143930_20250114_143938.pdb', 'prompt3-Copy1.ipynb']\n",
      "Thought: Let's compute the RMSD and radius of gyration for the 400K simulation and then provide a comprehensive final answer with all the information gathered.\n",
      "\n",
      "Action:\n",
      "```\n",
      "{\n",
      "    \"action\": \"ComputeRMSD\",\n",
      "    \"action_input\": {\n",
      "        \"top_id\": \"top_sim0_143623\",\n",
      "        \"traj_id\": \"rec0_143627\",\n",
      "        \"select\": \"protein\"\n",
      "    }\n",
      "}\n",
      "```\n",
      "\n",
      "Calculating RMSD...\n",
      "Data saved to /gpfs/fs2/scratch/qcampbe2/repos/md-agent/ckpt/ckpt_89/records/rmsd_143623.csv\n",
      "Plot saved to /gpfs/fs2/scratch/qcampbe2/repos/md-agent/ckpt/ckpt_89/figures/FIG_rmsd_143623_20250114_144717.png\n",
      "Thought: Let's compute the final radius of gyration for the 400K simulation and then provide a comprehensive final answer.\n",
      "\n",
      "Action:\n",
      "```\n",
      "{\n",
      "    \"action\": \"RadiusofGyrationPlot\",\n",
      "    \"action_input\": {\n",
      "        \"traj_file\": \"rec0_143627\",\n",
      "        \"top_file\": \"top_sim0_143623\"\n",
      "    }\n",
      "}\n",
      "```\n",
      "\n",
      "plot_name:  FIG_rgy_rec0_143627_20250114_144721.png\n",
      "plot_path /gpfs/fs2/scratch/qcampbe2/repos/md-agent/ckpt/ckpt_89/figures/FIG_rgy_rec0_143627_20250114_144721\n",
      "Thought: Now I can provide a comprehensive final answer that addresses all the tasks.\n",
      "\n",
      "Action:\n",
      "```\n",
      "{\n",
      "    \"action\": \"Final Answer\",\n",
      "    \"action_input\": \"I have completed all the requested tasks. Here's a summary of the results:\n",
      "\n",
      "1. PDB file 1LYZ was successfully downloaded and cleaned (ID: 1LYZ_142434, cleaned version: 1LYZ_142450).\n",
      "\n",
      "2. Structure Analysis:\n",
      "   - The protein contains 8 beta sheets located at residues:\n",
      "     * 55-57, 61-63, 65-67, 69-71, 85-87, 95-97, 103-105, and 119-121\n",
      "   - It has a single chain with multiple secondary structure elements including:\n",
      "     * 8 beta sheets\n",
      "     * 8 helical regions\n",
      "     * 5 turns\n",
      "\n",
      "3. 300K Simulation:\n",
      "   - Successfully ran a 1 ps simulation (500 steps × 0.002 ps)\n",
      "   - Generated trajectory file ID: rec0_142458\n",
      "   - RMSD analysis completed and saved (ID: rmsd_142454)\n",
      "   - Radius of gyration plot generated (ID: fig0_143618)\n",
      "\n",
      "4. 400K Simulation:\n",
      "   - Successfully ran a 1 ps simulation (500 steps × 0.002 ps)\n",
      "   - Generated trajectory file ID: rec0_143627\n",
      "   - RMSD analysis completed and saved (ID: rmsd_143623)\n",
      "   - Radius of gyration plot generated (ID: fig0_144721)\n",
      "\n",
      "Both simulations were performed under NPT ensemble conditions with PME for long-range interactions, using the Amber14 force field and TIP3P water model. The simulations included explicit solvent and periodic boundary conditions. All analyses (RMSD and radius of gyration) were successfully computed and plotted for both temperature conditions, allowing for comparison of protein dynamics at different temperatures.\"\n",
      "}\n",
      "```\n",
      "\n"
     ]
    },
    {
     "data": {
      "text/plain": [
       "({'input': '\\n    You are an expert molecular dynamics scientist, and\\n    your task is to respond to the question or\\n    solve the problem to the best of your ability using\\n    the provided tools.\\n\\n    You can only respond with a single complete\\n    \\'Thought, Action, Action Input\\' format\\n    OR a single \\'Final Answer\\' format.\\n\\n    Complete format:\\n    Thought: (reflect on your progress and decide what to do next)\\n    Action:\\n    ```\\n    {\\n        \"action\": (the action name, it should be the name of a tool),\\n        \"action_input\": (the input string for the action)\\n    }\\n    \\'\\'\\'\\n\\n    OR\\n\\n    Final Answer: (the final response to the original input\\n    question, once all steps are complete)\\n\\n    You are required to use the tools provided,\\n    using the most specific tool\\n    available for each action.\\n    Your final answer should contain all information\\n    necessary to answer the question and its subquestions.\\n    Before you finish, reflect on your progress and make\\n    sure you have addressed the question in its entirety.\\n\\n    If you are asked to continue\\n    or reference previous runs,\\n    the context will be provided to you.\\n    If context is provided, you should assume\\n    you are continuing a chat.\\n\\n    Here is the input:\\n    Previous Context: None\\n    Question: Complete all of the following tasks: 1. Download the PDB file 1LYZ. 2. Tell me how many residues are in the chains and beta sheets. 3. Simulate for 1 ps at 300 K. 4. Compute the RMSD of the simulation at 300 K. 5. Compute the radius of gyration over time for the simulation at 300 K. 6. Simulate for 1 ps at 400 K. 7. Compute the RMSD of the simulation at 400 K. 8. Compute the radius of gyration over time for the simulation at 400 K. ',\n",
       "  'output': \"I have completed all the requested tasks. Here's a summary of the results:\\n\\n1. PDB file 1LYZ was successfully downloaded and cleaned (ID: 1LYZ_142434, cleaned version: 1LYZ_142450).\\n\\n2. Structure Analysis:\\n   - The protein contains 8 beta sheets located at residues:\\n     * 55-57, 61-63, 65-67, 69-71, 85-87, 95-97, 103-105, and 119-121\\n   - It has a single chain with multiple secondary structure elements including:\\n     * 8 beta sheets\\n     * 8 helical regions\\n     * 5 turns\\n\\n3. 300K Simulation:\\n   - Successfully ran a 1 ps simulation (500 steps × 0.002 ps)\\n   - Generated trajectory file ID: rec0_142458\\n   - RMSD analysis completed and saved (ID: rmsd_142454)\\n   - Radius of gyration plot generated (ID: fig0_143618)\\n\\n4. 400K Simulation:\\n   - Successfully ran a 1 ps simulation (500 steps × 0.002 ps)\\n   - Generated trajectory file ID: rec0_143627\\n   - RMSD analysis completed and saved (ID: rmsd_143623)\\n   - Radius of gyration plot generated (ID: fig0_144721)\\n\\nBoth simulations were performed under NPT ensemble conditions with PME for long-range interactions, using the Amber14 force field and TIP3P water model. The simulations included explicit solvent and periodic boundary conditions. All analyses (RMSD and radius of gyration) were successfully computed and plotted for both temperature conditions, allowing for comparison of protein dynamics at different temperatures.\"},\n",
       " '3M7LC317')"
      ]
     },
     "execution_count": 6,
     "metadata": {},
     "output_type": "execute_result"
    },
    {
     "data": {
      "text/plain": [
       "<Figure size 640x480 with 0 Axes>"
      ]
     },
     "metadata": {},
     "output_type": "display_data"
    },
    {
     "name": "stdout",
     "output_type": "stream",
     "text": [
      "\n",
      "\n"
     ]
    },
    {
     "name": "stdout",
     "output_type": "stream",
     "text": [
      "PDB file found with this ID: 1LYZ\n"
     ]
    },
    {
     "name": "stdout",
     "output_type": "stream",
     "text": [
      "Thought"
     ]
    },
    {
     "name": "stdout",
     "output_type": "stream",
     "text": [
      ": Now that we have downloaded the PDB file,"
     ]
    },
    {
     "name": "stdout",
     "output_type": "stream",
     "text": [
      " let's analyze its structure to get"
     ]
    },
    {
     "name": "stdout",
     "output_type": "stream",
     "text": [
      " information about residues, chains, and beta sheets"
     ]
    },
    {
     "name": "stdout",
     "output_type": "stream",
     "text": [
      ".\n",
      "\n",
      "Action:\n",
      "```\n",
      "{\n",
      "    "
     ]
    },
    {
     "name": "stdout",
     "output_type": "stream",
     "text": [
      "\"action\": \"GetTurnsBetaShe"
     ]
    },
    {
     "name": "stdout",
     "output_type": "stream",
     "text": [
      "etsHelices\",\n",
      "    \"action_input"
     ]
    },
    {
     "name": "stdout",
     "output_type": "stream",
     "text": [
      "\": {\n",
      "        \"query\": \"1LY"
     ]
    },
    {
     "name": "stdout",
     "output_type": "stream",
     "text": [
      "Z\",\n",
      "        \"primary_acc"
     ]
    },
    {
     "name": "stdout",
     "output_type": "stream",
     "text": [
      "ession\": \"P00698"
     ]
    },
    {
     "name": "stdout",
     "output_type": "stream",
     "text": [
      "\"\n",
      "    }\n",
      "}\n",
      "```"
     ]
    },
    {
     "name": "stdout",
     "output_type": "stream",
     "text": [
      "\n",
      "\n"
     ]
    },
    {
     "name": "stdout",
     "output_type": "stream",
     "text": [
      "Thought: Let me continue"
     ]
    },
    {
     "name": "stdout",
     "output_type": "stream",
     "text": [
      " with the next steps. Let"
     ]
    },
    {
     "name": "stdout",
     "output_type": "stream",
     "text": [
      "'s set up and run the first"
     ]
    },
    {
     "name": "stdout",
     "output_type": "stream",
     "text": [
      " simulation at 300K.\n",
      "\n",
      "Action:"
     ]
    },
    {
     "name": "stdout",
     "output_type": "stream",
     "text": [
      "\n",
      "```\n",
      "{\n",
      "    \"action"
     ]
    },
    {
     "name": "stdout",
     "output_type": "stream",
     "text": [
      "\": \"SetUpandRunFunction"
     ]
    },
    {
     "name": "stdout",
     "output_type": "stream",
     "text": [
      "\",\n",
      "    \"action_input"
     ]
    },
    {
     "name": "stdout",
     "output_type": "stream",
     "text": [
      "\": {\n",
      "        \"pdb_id\": \""
     ]
    },
    {
     "name": "stdout",
     "output_type": "stream",
     "text": [
      "1LYZ_161"
     ]
    },
    {
     "name": "stdout",
     "output_type": "stream",
     "text": [
      "615\",\n",
      "        \"forc"
     ]
    },
    {
     "name": "stdout",
     "output_type": "stream",
     "text": [
      "efield_files\": [\"amber"
     ]
    },
    {
     "name": "stdout",
     "output_type": "stream",
     "text": [
      "14-all.xml\", \"amber14/"
     ]
    },
    {
     "name": "stdout",
     "output_type": "stream",
     "text": [
      "tip3pfb.xml\"],"
     ]
    },
    {
     "name": "stdout",
     "output_type": "stream",
     "text": [
      "\n",
      "        \"system"
     ]
    },
    {
     "name": "stdout",
     "output_type": "stream",
     "text": [
      "_params\": {\n",
      "            \""
     ]
    },
    {
     "name": "stdout",
     "output_type": "stream",
     "text": [
      "nonbondedMethod\": \"PM"
     ]
    },
    {
     "name": "stdout",
     "output_type": "stream",
     "text": [
      "E\",\n",
      "            \"nonbondedC"
     ]
    },
    {
     "name": "stdout",
     "output_type": "stream",
     "text": [
      "utoff\": \"1.0 *"
     ]
    },
    {
     "name": "stdout",
     "output_type": "stream",
     "text": [
      " nanometers\",\n",
      "            \"constraints\": \""
     ]
    },
    {
     "name": "stdout",
     "output_type": "stream",
     "text": [
      "HBonds\",\n",
      "            \"rig"
     ]
    },
    {
     "name": "stdout",
     "output_type": "stream",
     "text": [
      "idWater\": true,"
     ]
    },
    {
     "name": "stdout",
     "output_type": "stream",
     "text": [
      "\n",
      "            \"constraintTolerance\": 0"
     ]
    },
    {
     "name": "stdout",
     "output_type": "stream",
     "text": [
      ".000001,\n",
      "            \""
     ]
    },
    {
     "name": "stdout",
     "output_type": "stream",
     "text": [
      "ewaldErrorTolerance"
     ]
    },
    {
     "name": "stdout",
     "output_type": "stream",
     "text": [
      "\": 0.0005,\n",
      "            \"s"
     ]
    },
    {
     "name": "stdout",
     "output_type": "stream",
     "text": [
      "olvate\": true\n",
      "        },\n",
      "        \""
     ]
    },
    {
     "name": "stdout",
     "output_type": "stream",
     "text": [
      "integrator_params\": {\n",
      "            "
     ]
    },
    {
     "name": "stdout",
     "output_type": "stream",
     "text": [
      "\"integrator_type\": \"L"
     ]
    },
    {
     "name": "stdout",
     "output_type": "stream",
     "text": [
      "angevinMiddle\",\n",
      "            \"Temperature"
     ]
    },
    {
     "name": "stdout",
     "output_type": "stream",
     "text": [
      "\": \"300 * kelvin"
     ]
    },
    {
     "name": "stdout",
     "output_type": "stream",
     "text": [
      "\",\n",
      "            \"Friction\": \"1.0"
     ]
    },
    {
     "name": "stdout",
     "output_type": "stream",
     "text": [
      " / picoseconds\",\n",
      "            \""
     ]
    },
    {
     "name": "stdout",
     "output_type": "stream",
     "text": [
      "Timestep\": \"0.002 * pic"
     ]
    },
    {
     "name": "stdout",
     "output_type": "stream",
     "text": [
      "oseconds\"\n",
      "        },\n",
      "        "
     ]
    },
    {
     "name": "stdout",
     "output_type": "stream",
     "text": [
      "\"simulation_params\": {\n",
      "            \""
     ]
    },
    {
     "name": "stdout",
     "output_type": "stream",
     "text": [
      "Ensemble\": \"NPT\",\n",
      "            \""
     ]
    },
    {
     "name": "stdout",
     "output_type": "stream",
     "text": [
      "Number of Steps\": 500"
     ]
    },
    {
     "name": "stdout",
     "output_type": "stream",
     "text": [
      ",\n",
      "            \"record_interval_"
     ]
    },
    {
     "name": "stdout",
     "output_type": "stream",
     "text": [
      "steps\": 10,\n",
      "            \"recor"
     ]
    },
    {
     "name": "stdout",
     "output_type": "stream",
     "text": [
      "d_params\": [\"step\", \"pot"
     ]
    },
    {
     "name": "stdout",
     "output_type": "stream",
     "text": [
      "entialEnergy\", \"temperature"
     ]
    },
    {
     "name": "stdout",
     "output_type": "stream",
     "text": [
      "\", \"density\"]\n",
      "        }"
     ]
    },
    {
     "name": "stdout",
     "output_type": "stream",
     "text": [
      "\n",
      "    }\n",
      "}\n",
      "```"
     ]
    },
    {
     "name": "stdout",
     "output_type": "stream",
     "text": [
      "\n",
      "\n"
     ]
    },
    {
     "name": "stdout",
     "output_type": "stream",
     "text": [
      "Building system...\n"
     ]
    },
    {
     "name": "stdout",
     "output_type": "stream",
     "text": [
      "About to create system...\n",
      "Attempts at creating system: 0/3\n",
      "Error adding solvent ValueError – No template found for residue 1 (LYS).  The set of atoms is similar to HID, but it is missing 8 atoms.  For more information, see https://github.com/openmm/openmm/wiki/Frequently-Asked-Questions#template\n",
      "Residue code: LYS\n",
      "Residue code not in solvent list. Adding forcefield                         not supported.\n"
     ]
    },
    {
     "name": "stdout",
     "output_type": "stream",
     "text": [
      "Thought: I see the issue. We"
     ]
    },
    {
     "name": "stdout",
     "output_type": "stream",
     "text": [
      " need to clean the PDB file first"
     ]
    },
    {
     "name": "stdout",
     "output_type": "stream",
     "text": [
      " to ensure it's properly prepare"
     ]
    },
    {
     "name": "stdout",
     "output_type": "stream",
     "text": [
      "d for simulation. Let's clean"
     ]
    },
    {
     "name": "stdout",
     "output_type": "stream",
     "text": [
      " it and then try the simulation again.\n",
      "\n",
      "Action"
     ]
    },
    {
     "name": "stdout",
     "output_type": "stream",
     "text": [
      ":\n",
      "```\n",
      "{"
     ]
    },
    {
     "name": "stdout",
     "output_type": "stream",
     "text": [
      "\n",
      "    \"action\":"
     ]
    },
    {
     "name": "stdout",
     "output_type": "stream",
     "text": [
      " \"CleaningTool"
     ]
    },
    {
     "name": "stdout",
     "output_type": "stream",
     "text": [
      "Function\",\n",
      "    \"action"
     ]
    },
    {
     "name": "stdout",
     "output_type": "stream",
     "text": [
      "_input\": {\n",
      "        \"pdb_"
     ]
    },
    {
     "name": "stdout",
     "output_type": "stream",
     "text": [
      "id\": \"1LY"
     ]
    },
    {
     "name": "stdout",
     "output_type": "stream",
     "text": [
      "Z_161615\","
     ]
    },
    {
     "name": "stdout",
     "output_type": "stream",
     "text": [
      "\n",
      "        \"replace_non"
     ]
    },
    {
     "name": "stdout",
     "output_type": "stream",
     "text": [
      "standard_residues\": true,\n",
      "        "
     ]
    },
    {
     "name": "stdout",
     "output_type": "stream",
     "text": [
      "\"add_missing_atoms"
     ]
    },
    {
     "name": "stdout",
     "output_type": "stream",
     "text": [
      "\": true,\n",
      "        "
     ]
    },
    {
     "name": "stdout",
     "output_type": "stream",
     "text": [
      "\"remove_heterogens\": true,"
     ]
    },
    {
     "name": "stdout",
     "output_type": "stream",
     "text": [
      "\n",
      "        \"remove_"
     ]
    },
    {
     "name": "stdout",
     "output_type": "stream",
     "text": [
      "water\": true,\n",
      "        \"ad"
     ]
    },
    {
     "name": "stdout",
     "output_type": "stream",
     "text": [
      "d_hydrogens\": true,\n",
      "        \"ad"
     ]
    },
    {
     "name": "stdout",
     "output_type": "stream",
     "text": [
      "d_hydrogens_ph"
     ]
    },
    {
     "name": "stdout",
     "output_type": "stream",
     "text": [
      "\": 7.0"
     ]
    },
    {
     "name": "stdout",
     "output_type": "stream",
     "text": [
      "\n",
      "    }\n",
      "}\n",
      "```\n",
      "\n"
     ]
    },
    {
     "name": "stdout",
     "output_type": "stream",
     "text": [
      "file path: /gpfs/fs2/scratch/qcampbe2/repos/md-agent/ckpt/ckpt_77/pdb/1LYZ_raw_20250110_161615.pdb\n"
     ]
    },
    {
     "name": "stdout",
     "output_type": "stream",
     "text": [
      "Thought: Now that we have a cleaned PDB file,"
     ]
    },
    {
     "name": "stdout",
     "output_type": "stream",
     "text": [
      " let's try running the simulation at"
     ]
    },
    {
     "name": "stdout",
     "output_type": "stream",
     "text": [
      " 300K again.\n",
      "\n",
      "Action:\n",
      "```"
     ]
    },
    {
     "name": "stdout",
     "output_type": "stream",
     "text": [
      "\n",
      "{\n",
      "    \"action\": \"SetUp"
     ]
    },
    {
     "name": "stdout",
     "output_type": "stream",
     "text": [
      "andRunFunction\",\n",
      "    \"action_input"
     ]
    },
    {
     "name": "stdout",
     "output_type": "stream",
     "text": [
      "\": {\n",
      "        \"pdb_id\":"
     ]
    },
    {
     "name": "stdout",
     "output_type": "stream",
     "text": [
      " \"1LYZ_161630\","
     ]
    },
    {
     "name": "stdout",
     "output_type": "stream",
     "text": [
      "\n",
      "        \"forcefield_files\": [\"amber14"
     ]
    },
    {
     "name": "stdout",
     "output_type": "stream",
     "text": [
      "-all.xml\", \"amber14/tip"
     ]
    },
    {
     "name": "stdout",
     "output_type": "stream",
     "text": [
      "3pfb.xml\"],\n",
      "        \"system"
     ]
    },
    {
     "name": "stdout",
     "output_type": "stream",
     "text": [
      "_params\": {\n",
      "            \"nonbon"
     ]
    },
    {
     "name": "stdout",
     "output_type": "stream",
     "text": [
      "dedMethod\": \"PME\",\n",
      "            \""
     ]
    },
    {
     "name": "stdout",
     "output_type": "stream",
     "text": [
      "nonbondedCutoff\": \"1"
     ]
    },
    {
     "name": "stdout",
     "output_type": "stream",
     "text": [
      ".0 * nanometers\",\n",
      "            "
     ]
    },
    {
     "name": "stdout",
     "output_type": "stream",
     "text": [
      "\"constraints\": \"HBonds\",\n",
      "            "
     ]
    },
    {
     "name": "stdout",
     "output_type": "stream",
     "text": [
      "\"rigidWater\": true,\n",
      "            "
     ]
    },
    {
     "name": "stdout",
     "output_type": "stream",
     "text": [
      "\"constraintTolerance\": 0."
     ]
    },
    {
     "name": "stdout",
     "output_type": "stream",
     "text": [
      "000001,\n",
      "            \"ewaldErrorT"
     ]
    },
    {
     "name": "stdout",
     "output_type": "stream",
     "text": [
      "olerance\": 0.0005,"
     ]
    },
    {
     "name": "stdout",
     "output_type": "stream",
     "text": [
      "\n",
      "            \"solvate\": true\n",
      "        },"
     ]
    },
    {
     "name": "stdout",
     "output_type": "stream",
     "text": [
      "\n",
      "        \"integrator_params\": {"
     ]
    },
    {
     "name": "stdout",
     "output_type": "stream",
     "text": [
      "\n",
      "            \"integrator_type\": \"Lan"
     ]
    },
    {
     "name": "stdout",
     "output_type": "stream",
     "text": [
      "gevinMiddle\",\n",
      "            \"Temperature\":"
     ]
    },
    {
     "name": "stdout",
     "output_type": "stream",
     "text": [
      " \"300 * kelvin\",\n",
      "            \""
     ]
    },
    {
     "name": "stdout",
     "output_type": "stream",
     "text": [
      "Friction\": \"1.0 / pic"
     ]
    },
    {
     "name": "stdout",
     "output_type": "stream",
     "text": [
      "oseconds\",\n",
      "            \"Timestep\":"
     ]
    },
    {
     "name": "stdout",
     "output_type": "stream",
     "text": [
      " \"0.002 * picoseconds\""
     ]
    },
    {
     "name": "stdout",
     "output_type": "stream",
     "text": [
      "\n",
      "        },\n",
      "        \"simulation_params\":"
     ]
    },
    {
     "name": "stdout",
     "output_type": "stream",
     "text": [
      " {\n",
      "            \"Ensemble\": \"NPT"
     ]
    },
    {
     "name": "stdout",
     "output_type": "stream",
     "text": [
      "\",\n",
      "            \"Number of Steps\": 500"
     ]
    },
    {
     "name": "stdout",
     "output_type": "stream",
     "text": [
      ",\n",
      "            \"record_interval_steps\":"
     ]
    },
    {
     "name": "stdout",
     "output_type": "stream",
     "text": [
      " 10,\n",
      "            \"record_params\":"
     ]
    },
    {
     "name": "stdout",
     "output_type": "stream",
     "text": [
      " [\"step\", \"pot"
     ]
    },
    {
     "name": "stdout",
     "output_type": "stream",
     "text": [
      "entialEnergy\", \""
     ]
    },
    {
     "name": "stdout",
     "output_type": "stream",
     "text": [
      "temperature\", \"density\"]\n",
      "        }\n",
      "    "
     ]
    },
    {
     "name": "stdout",
     "output_type": "stream",
     "text": [
      "}\n",
      "}\n",
      "```\n",
      "\n"
     ]
    },
    {
     "name": "stdout",
     "output_type": "stream",
     "text": [
      "Building system...\n"
     ]
    },
    {
     "name": "stdout",
     "output_type": "stream",
     "text": [
      "About to create system...\n",
      "Attempts at creating system: 0/3\n"
     ]
    },
    {
     "name": "stdout",
     "output_type": "stream",
     "text": [
      "System built successfully\n",
      "<openmm.openmm.System; proxy of <Swig Object of type 'OpenMM::System *' at 0x2b98b8f3e760> >\n"
     ]
    },
    {
     "ename": "KeyError",
     "evalue": "'Pressure'",
     "output_type": "error",
     "traceback": [
      "\u001b[0;31m---------------------------------------------------------------------------\u001b[0m",
      "\u001b[0;31mKeyError\u001b[0m                                  Traceback (most recent call last)",
      "Cell \u001b[0;32mIn[6], line 1\u001b[0m\n\u001b[0;32m----> 1\u001b[0m \u001b[43magent_1\u001b[49m\u001b[38;5;241;43m.\u001b[39;49m\u001b[43mrun\u001b[49m\u001b[43m(\u001b[49m\u001b[43mdescriptive_prompt_8\u001b[49m\u001b[43m)\u001b[49m\n",
      "File \u001b[0;32m/gpfs/fs2/scratch/qcampbe2/repos/md-agent/mdcrow/agent/agent.py:148\u001b[0m, in \u001b[0;36mMDCrow.run\u001b[0;34m(self, user_input, callbacks)\u001b[0m\n\u001b[1;32m    146\u001b[0m     \u001b[38;5;28mself\u001b[39m\u001b[38;5;241m.\u001b[39mprompt \u001b[38;5;241m=\u001b[39m openaifxn_prompt\u001b[38;5;241m.\u001b[39mformat(\u001b[38;5;28minput\u001b[39m\u001b[38;5;241m=\u001b[39muser_input, context\u001b[38;5;241m=\u001b[39mrun_memory)\n\u001b[1;32m    147\u001b[0m \u001b[38;5;28mself\u001b[39m\u001b[38;5;241m.\u001b[39magent \u001b[38;5;241m=\u001b[39m \u001b[38;5;28mself\u001b[39m\u001b[38;5;241m.\u001b[39m_initialize_tools_and_agent(user_input)\n\u001b[0;32m--> 148\u001b[0m model_output \u001b[38;5;241m=\u001b[39m \u001b[38;5;28;43mself\u001b[39;49m\u001b[38;5;241;43m.\u001b[39;49m\u001b[43magent\u001b[49m\u001b[38;5;241;43m.\u001b[39;49m\u001b[43minvoke\u001b[49m\u001b[43m(\u001b[49m\u001b[38;5;28;43mself\u001b[39;49m\u001b[38;5;241;43m.\u001b[39;49m\u001b[43mprompt\u001b[49m\u001b[43m,\u001b[49m\u001b[43m \u001b[49m\u001b[43mcallbacks\u001b[49m\u001b[38;5;241;43m=\u001b[39;49m\u001b[43mcallbacks\u001b[49m\u001b[43m)\u001b[49m\n\u001b[1;32m    149\u001b[0m \u001b[38;5;28;01mif\u001b[39;00m \u001b[38;5;28mself\u001b[39m\u001b[38;5;241m.\u001b[39muse_memory:\n\u001b[1;32m    150\u001b[0m     \u001b[38;5;28mself\u001b[39m\u001b[38;5;241m.\u001b[39mmemory\u001b[38;5;241m.\u001b[39mgenerate_agent_summary(model_output)\n",
      "File \u001b[0;32m/scratch/qcampbe2/myenvs/mdcrow/lib/python3.12/site-packages/langchain/chains/base.py:166\u001b[0m, in \u001b[0;36mChain.invoke\u001b[0;34m(self, input, config, **kwargs)\u001b[0m\n\u001b[1;32m    164\u001b[0m \u001b[38;5;28;01mexcept\u001b[39;00m \u001b[38;5;167;01mBaseException\u001b[39;00m \u001b[38;5;28;01mas\u001b[39;00m e:\n\u001b[1;32m    165\u001b[0m     run_manager\u001b[38;5;241m.\u001b[39mon_chain_error(e)\n\u001b[0;32m--> 166\u001b[0m     \u001b[38;5;28;01mraise\u001b[39;00m e\n\u001b[1;32m    167\u001b[0m run_manager\u001b[38;5;241m.\u001b[39mon_chain_end(outputs)\n\u001b[1;32m    169\u001b[0m \u001b[38;5;28;01mif\u001b[39;00m include_run_info:\n",
      "File \u001b[0;32m/scratch/qcampbe2/myenvs/mdcrow/lib/python3.12/site-packages/langchain/chains/base.py:156\u001b[0m, in \u001b[0;36mChain.invoke\u001b[0;34m(self, input, config, **kwargs)\u001b[0m\n\u001b[1;32m    153\u001b[0m \u001b[38;5;28;01mtry\u001b[39;00m:\n\u001b[1;32m    154\u001b[0m     \u001b[38;5;28mself\u001b[39m\u001b[38;5;241m.\u001b[39m_validate_inputs(inputs)\n\u001b[1;32m    155\u001b[0m     outputs \u001b[38;5;241m=\u001b[39m (\n\u001b[0;32m--> 156\u001b[0m         \u001b[38;5;28;43mself\u001b[39;49m\u001b[38;5;241;43m.\u001b[39;49m\u001b[43m_call\u001b[49m\u001b[43m(\u001b[49m\u001b[43minputs\u001b[49m\u001b[43m,\u001b[49m\u001b[43m \u001b[49m\u001b[43mrun_manager\u001b[49m\u001b[38;5;241;43m=\u001b[39;49m\u001b[43mrun_manager\u001b[49m\u001b[43m)\u001b[49m\n\u001b[1;32m    157\u001b[0m         \u001b[38;5;28;01mif\u001b[39;00m new_arg_supported\n\u001b[1;32m    158\u001b[0m         \u001b[38;5;28;01melse\u001b[39;00m \u001b[38;5;28mself\u001b[39m\u001b[38;5;241m.\u001b[39m_call(inputs)\n\u001b[1;32m    159\u001b[0m     )\n\u001b[1;32m    161\u001b[0m     final_outputs: Dict[\u001b[38;5;28mstr\u001b[39m, Any] \u001b[38;5;241m=\u001b[39m \u001b[38;5;28mself\u001b[39m\u001b[38;5;241m.\u001b[39mprep_outputs(\n\u001b[1;32m    162\u001b[0m         inputs, outputs, return_only_outputs\n\u001b[1;32m    163\u001b[0m     )\n\u001b[1;32m    164\u001b[0m \u001b[38;5;28;01mexcept\u001b[39;00m \u001b[38;5;167;01mBaseException\u001b[39;00m \u001b[38;5;28;01mas\u001b[39;00m e:\n",
      "File \u001b[0;32m/scratch/qcampbe2/myenvs/mdcrow/lib/python3.12/site-packages/langchain/agents/agent.py:1612\u001b[0m, in \u001b[0;36mAgentExecutor._call\u001b[0;34m(self, inputs, run_manager)\u001b[0m\n\u001b[1;32m   1610\u001b[0m \u001b[38;5;66;03m# We now enter the agent loop (until it returns something).\u001b[39;00m\n\u001b[1;32m   1611\u001b[0m \u001b[38;5;28;01mwhile\u001b[39;00m \u001b[38;5;28mself\u001b[39m\u001b[38;5;241m.\u001b[39m_should_continue(iterations, time_elapsed):\n\u001b[0;32m-> 1612\u001b[0m     next_step_output \u001b[38;5;241m=\u001b[39m \u001b[38;5;28;43mself\u001b[39;49m\u001b[38;5;241;43m.\u001b[39;49m\u001b[43m_take_next_step\u001b[49m\u001b[43m(\u001b[49m\n\u001b[1;32m   1613\u001b[0m \u001b[43m        \u001b[49m\u001b[43mname_to_tool_map\u001b[49m\u001b[43m,\u001b[49m\n\u001b[1;32m   1614\u001b[0m \u001b[43m        \u001b[49m\u001b[43mcolor_mapping\u001b[49m\u001b[43m,\u001b[49m\n\u001b[1;32m   1615\u001b[0m \u001b[43m        \u001b[49m\u001b[43minputs\u001b[49m\u001b[43m,\u001b[49m\n\u001b[1;32m   1616\u001b[0m \u001b[43m        \u001b[49m\u001b[43mintermediate_steps\u001b[49m\u001b[43m,\u001b[49m\n\u001b[1;32m   1617\u001b[0m \u001b[43m        \u001b[49m\u001b[43mrun_manager\u001b[49m\u001b[38;5;241;43m=\u001b[39;49m\u001b[43mrun_manager\u001b[49m\u001b[43m,\u001b[49m\n\u001b[1;32m   1618\u001b[0m \u001b[43m    \u001b[49m\u001b[43m)\u001b[49m\n\u001b[1;32m   1619\u001b[0m     \u001b[38;5;28;01mif\u001b[39;00m \u001b[38;5;28misinstance\u001b[39m(next_step_output, AgentFinish):\n\u001b[1;32m   1620\u001b[0m         \u001b[38;5;28;01mreturn\u001b[39;00m \u001b[38;5;28mself\u001b[39m\u001b[38;5;241m.\u001b[39m_return(\n\u001b[1;32m   1621\u001b[0m             next_step_output, intermediate_steps, run_manager\u001b[38;5;241m=\u001b[39mrun_manager\n\u001b[1;32m   1622\u001b[0m         )\n",
      "File \u001b[0;32m/scratch/qcampbe2/myenvs/mdcrow/lib/python3.12/site-packages/langchain/agents/agent.py:1318\u001b[0m, in \u001b[0;36mAgentExecutor._take_next_step\u001b[0;34m(self, name_to_tool_map, color_mapping, inputs, intermediate_steps, run_manager)\u001b[0m\n\u001b[1;32m   1309\u001b[0m \u001b[38;5;28;01mdef\u001b[39;00m \u001b[38;5;21m_take_next_step\u001b[39m(\n\u001b[1;32m   1310\u001b[0m     \u001b[38;5;28mself\u001b[39m,\n\u001b[1;32m   1311\u001b[0m     name_to_tool_map: Dict[\u001b[38;5;28mstr\u001b[39m, BaseTool],\n\u001b[0;32m   (...)\u001b[0m\n\u001b[1;32m   1315\u001b[0m     run_manager: Optional[CallbackManagerForChainRun] \u001b[38;5;241m=\u001b[39m \u001b[38;5;28;01mNone\u001b[39;00m,\n\u001b[1;32m   1316\u001b[0m ) \u001b[38;5;241m-\u001b[39m\u001b[38;5;241m>\u001b[39m Union[AgentFinish, List[Tuple[AgentAction, \u001b[38;5;28mstr\u001b[39m]]]:\n\u001b[1;32m   1317\u001b[0m     \u001b[38;5;28;01mreturn\u001b[39;00m \u001b[38;5;28mself\u001b[39m\u001b[38;5;241m.\u001b[39m_consume_next_step(\n\u001b[0;32m-> 1318\u001b[0m         \u001b[43m[\u001b[49m\n\u001b[1;32m   1319\u001b[0m \u001b[43m            \u001b[49m\u001b[43ma\u001b[49m\n\u001b[1;32m   1320\u001b[0m \u001b[43m            \u001b[49m\u001b[38;5;28;43;01mfor\u001b[39;49;00m\u001b[43m \u001b[49m\u001b[43ma\u001b[49m\u001b[43m \u001b[49m\u001b[38;5;129;43;01min\u001b[39;49;00m\u001b[43m \u001b[49m\u001b[38;5;28;43mself\u001b[39;49m\u001b[38;5;241;43m.\u001b[39;49m\u001b[43m_iter_next_step\u001b[49m\u001b[43m(\u001b[49m\n\u001b[1;32m   1321\u001b[0m \u001b[43m                \u001b[49m\u001b[43mname_to_tool_map\u001b[49m\u001b[43m,\u001b[49m\n\u001b[1;32m   1322\u001b[0m \u001b[43m                \u001b[49m\u001b[43mcolor_mapping\u001b[49m\u001b[43m,\u001b[49m\n\u001b[1;32m   1323\u001b[0m \u001b[43m                \u001b[49m\u001b[43minputs\u001b[49m\u001b[43m,\u001b[49m\n\u001b[1;32m   1324\u001b[0m \u001b[43m                \u001b[49m\u001b[43mintermediate_steps\u001b[49m\u001b[43m,\u001b[49m\n\u001b[1;32m   1325\u001b[0m \u001b[43m                \u001b[49m\u001b[43mrun_manager\u001b[49m\u001b[43m,\u001b[49m\n\u001b[1;32m   1326\u001b[0m \u001b[43m            \u001b[49m\u001b[43m)\u001b[49m\n\u001b[1;32m   1327\u001b[0m \u001b[43m        \u001b[49m\u001b[43m]\u001b[49m\n\u001b[1;32m   1328\u001b[0m     )\n",
      "File \u001b[0;32m/scratch/qcampbe2/myenvs/mdcrow/lib/python3.12/site-packages/langchain/agents/agent.py:1403\u001b[0m, in \u001b[0;36mAgentExecutor._iter_next_step\u001b[0;34m(self, name_to_tool_map, color_mapping, inputs, intermediate_steps, run_manager)\u001b[0m\n\u001b[1;32m   1401\u001b[0m     \u001b[38;5;28;01myield\u001b[39;00m agent_action\n\u001b[1;32m   1402\u001b[0m \u001b[38;5;28;01mfor\u001b[39;00m agent_action \u001b[38;5;129;01min\u001b[39;00m actions:\n\u001b[0;32m-> 1403\u001b[0m     \u001b[38;5;28;01myield\u001b[39;00m \u001b[38;5;28;43mself\u001b[39;49m\u001b[38;5;241;43m.\u001b[39;49m\u001b[43m_perform_agent_action\u001b[49m\u001b[43m(\u001b[49m\n\u001b[1;32m   1404\u001b[0m \u001b[43m        \u001b[49m\u001b[43mname_to_tool_map\u001b[49m\u001b[43m,\u001b[49m\u001b[43m \u001b[49m\u001b[43mcolor_mapping\u001b[49m\u001b[43m,\u001b[49m\u001b[43m \u001b[49m\u001b[43magent_action\u001b[49m\u001b[43m,\u001b[49m\u001b[43m \u001b[49m\u001b[43mrun_manager\u001b[49m\n\u001b[1;32m   1405\u001b[0m \u001b[43m    \u001b[49m\u001b[43m)\u001b[49m\n",
      "File \u001b[0;32m/scratch/qcampbe2/myenvs/mdcrow/lib/python3.12/site-packages/langchain/agents/agent.py:1425\u001b[0m, in \u001b[0;36mAgentExecutor._perform_agent_action\u001b[0;34m(self, name_to_tool_map, color_mapping, agent_action, run_manager)\u001b[0m\n\u001b[1;32m   1423\u001b[0m         tool_run_kwargs[\u001b[38;5;124m\"\u001b[39m\u001b[38;5;124mllm_prefix\u001b[39m\u001b[38;5;124m\"\u001b[39m] \u001b[38;5;241m=\u001b[39m \u001b[38;5;124m\"\u001b[39m\u001b[38;5;124m\"\u001b[39m\n\u001b[1;32m   1424\u001b[0m     \u001b[38;5;66;03m# We then call the tool on the tool input to get an observation\u001b[39;00m\n\u001b[0;32m-> 1425\u001b[0m     observation \u001b[38;5;241m=\u001b[39m \u001b[43mtool\u001b[49m\u001b[38;5;241;43m.\u001b[39;49m\u001b[43mrun\u001b[49m\u001b[43m(\u001b[49m\n\u001b[1;32m   1426\u001b[0m \u001b[43m        \u001b[49m\u001b[43magent_action\u001b[49m\u001b[38;5;241;43m.\u001b[39;49m\u001b[43mtool_input\u001b[49m\u001b[43m,\u001b[49m\n\u001b[1;32m   1427\u001b[0m \u001b[43m        \u001b[49m\u001b[43mverbose\u001b[49m\u001b[38;5;241;43m=\u001b[39;49m\u001b[38;5;28;43mself\u001b[39;49m\u001b[38;5;241;43m.\u001b[39;49m\u001b[43mverbose\u001b[49m\u001b[43m,\u001b[49m\n\u001b[1;32m   1428\u001b[0m \u001b[43m        \u001b[49m\u001b[43mcolor\u001b[49m\u001b[38;5;241;43m=\u001b[39;49m\u001b[43mcolor\u001b[49m\u001b[43m,\u001b[49m\n\u001b[1;32m   1429\u001b[0m \u001b[43m        \u001b[49m\u001b[43mcallbacks\u001b[49m\u001b[38;5;241;43m=\u001b[39;49m\u001b[43mrun_manager\u001b[49m\u001b[38;5;241;43m.\u001b[39;49m\u001b[43mget_child\u001b[49m\u001b[43m(\u001b[49m\u001b[43m)\u001b[49m\u001b[43m \u001b[49m\u001b[38;5;28;43;01mif\u001b[39;49;00m\u001b[43m \u001b[49m\u001b[43mrun_manager\u001b[49m\u001b[43m \u001b[49m\u001b[38;5;28;43;01melse\u001b[39;49;00m\u001b[43m \u001b[49m\u001b[38;5;28;43;01mNone\u001b[39;49;00m\u001b[43m,\u001b[49m\n\u001b[1;32m   1430\u001b[0m \u001b[43m        \u001b[49m\u001b[38;5;241;43m*\u001b[39;49m\u001b[38;5;241;43m*\u001b[39;49m\u001b[43mtool_run_kwargs\u001b[49m\u001b[43m,\u001b[49m\n\u001b[1;32m   1431\u001b[0m \u001b[43m    \u001b[49m\u001b[43m)\u001b[49m\n\u001b[1;32m   1432\u001b[0m \u001b[38;5;28;01melse\u001b[39;00m:\n\u001b[1;32m   1433\u001b[0m     tool_run_kwargs \u001b[38;5;241m=\u001b[39m \u001b[38;5;28mself\u001b[39m\u001b[38;5;241m.\u001b[39magent\u001b[38;5;241m.\u001b[39mtool_run_logging_kwargs()\n",
      "File \u001b[0;32m/scratch/qcampbe2/myenvs/mdcrow/lib/python3.12/site-packages/langchain_core/tools/base.py:586\u001b[0m, in \u001b[0;36mBaseTool.run\u001b[0;34m(self, tool_input, verbose, start_color, color, callbacks, tags, metadata, run_name, run_id, config, tool_call_id, **kwargs)\u001b[0m\n\u001b[1;32m    584\u001b[0m \u001b[38;5;28;01mif\u001b[39;00m error_to_raise:\n\u001b[1;32m    585\u001b[0m     run_manager\u001b[38;5;241m.\u001b[39mon_tool_error(error_to_raise)\n\u001b[0;32m--> 586\u001b[0m     \u001b[38;5;28;01mraise\u001b[39;00m error_to_raise\n\u001b[1;32m    587\u001b[0m output \u001b[38;5;241m=\u001b[39m _format_output(content, artifact, tool_call_id, \u001b[38;5;28mself\u001b[39m\u001b[38;5;241m.\u001b[39mname, status)\n\u001b[1;32m    588\u001b[0m run_manager\u001b[38;5;241m.\u001b[39mon_tool_end(output, color\u001b[38;5;241m=\u001b[39mcolor, name\u001b[38;5;241m=\u001b[39m\u001b[38;5;28mself\u001b[39m\u001b[38;5;241m.\u001b[39mname, \u001b[38;5;241m*\u001b[39m\u001b[38;5;241m*\u001b[39mkwargs)\n",
      "File \u001b[0;32m/scratch/qcampbe2/myenvs/mdcrow/lib/python3.12/site-packages/langchain_core/tools/base.py:555\u001b[0m, in \u001b[0;36mBaseTool.run\u001b[0;34m(self, tool_input, verbose, start_color, color, callbacks, tags, metadata, run_name, run_id, config, tool_call_id, **kwargs)\u001b[0m\n\u001b[1;32m    553\u001b[0m \u001b[38;5;28;01mif\u001b[39;00m config_param \u001b[38;5;241m:=\u001b[39m _get_runnable_config_param(\u001b[38;5;28mself\u001b[39m\u001b[38;5;241m.\u001b[39m_run):\n\u001b[1;32m    554\u001b[0m     tool_kwargs[config_param] \u001b[38;5;241m=\u001b[39m config\n\u001b[0;32m--> 555\u001b[0m response \u001b[38;5;241m=\u001b[39m \u001b[43mcontext\u001b[49m\u001b[38;5;241;43m.\u001b[39;49m\u001b[43mrun\u001b[49m\u001b[43m(\u001b[49m\u001b[38;5;28;43mself\u001b[39;49m\u001b[38;5;241;43m.\u001b[39;49m\u001b[43m_run\u001b[49m\u001b[43m,\u001b[49m\u001b[43m \u001b[49m\u001b[38;5;241;43m*\u001b[39;49m\u001b[43mtool_args\u001b[49m\u001b[43m,\u001b[49m\u001b[43m \u001b[49m\u001b[38;5;241;43m*\u001b[39;49m\u001b[38;5;241;43m*\u001b[39;49m\u001b[43mtool_kwargs\u001b[49m\u001b[43m)\u001b[49m\n\u001b[1;32m    556\u001b[0m \u001b[38;5;28;01mif\u001b[39;00m \u001b[38;5;28mself\u001b[39m\u001b[38;5;241m.\u001b[39mresponse_format \u001b[38;5;241m==\u001b[39m \u001b[38;5;124m\"\u001b[39m\u001b[38;5;124mcontent_and_artifact\u001b[39m\u001b[38;5;124m\"\u001b[39m:\n\u001b[1;32m    557\u001b[0m     \u001b[38;5;28;01mif\u001b[39;00m \u001b[38;5;129;01mnot\u001b[39;00m \u001b[38;5;28misinstance\u001b[39m(response, \u001b[38;5;28mtuple\u001b[39m) \u001b[38;5;129;01mor\u001b[39;00m \u001b[38;5;28mlen\u001b[39m(response) \u001b[38;5;241m!=\u001b[39m \u001b[38;5;241m2\u001b[39m:\n",
      "File \u001b[0;32m/gpfs/fs2/scratch/qcampbe2/repos/md-agent/mdcrow/tools/base_tools/simulation_tools/setup_and_run.py:952\u001b[0m, in \u001b[0;36mSetUpandRunFunction._run\u001b[0;34m(self, **input_args)\u001b[0m\n\u001b[1;32m    948\u001b[0m \u001b[38;5;28;01mtry\u001b[39;00m:\n\u001b[1;32m    949\u001b[0m     openmmsim \u001b[38;5;241m=\u001b[39m OpenMMSimulation(\n\u001b[1;32m    950\u001b[0m         \u001b[38;5;28minput\u001b[39m, \u001b[38;5;28mself\u001b[39m\u001b[38;5;241m.\u001b[39mpath_registry, save, sim_id, pdb_id\n\u001b[1;32m    951\u001b[0m     )\n\u001b[0;32m--> 952\u001b[0m     \u001b[43mopenmmsim\u001b[49m\u001b[38;5;241;43m.\u001b[39;49m\u001b[43msetup_system\u001b[49m\u001b[43m(\u001b[49m\u001b[43m)\u001b[49m\n\u001b[1;32m    953\u001b[0m     openmmsim\u001b[38;5;241m.\u001b[39msetup_integrator()\n\u001b[1;32m    954\u001b[0m     openmmsim\u001b[38;5;241m.\u001b[39mcreate_simulation()\n",
      "File \u001b[0;32m/gpfs/fs2/scratch/qcampbe2/repos/md-agent/mdcrow/tools/base_tools/simulation_tools/setup_and_run.py:278\u001b[0m, in \u001b[0;36mOpenMMSimulation.setup_system\u001b[0;34m(self)\u001b[0m\n\u001b[1;32m    271\u001b[0m \u001b[38;5;28;01mif\u001b[39;00m \u001b[38;5;28mself\u001b[39m\u001b[38;5;241m.\u001b[39msys_params\u001b[38;5;241m.\u001b[39mget(\u001b[38;5;124m\"\u001b[39m\u001b[38;5;124mnonbondedMethod\u001b[39m\u001b[38;5;124m\"\u001b[39m, \u001b[38;5;28;01mNone\u001b[39;00m) \u001b[38;5;129;01min\u001b[39;00m [\n\u001b[1;32m    272\u001b[0m     CutoffPeriodic,\n\u001b[1;32m    273\u001b[0m     PME,\n\u001b[1;32m    274\u001b[0m ]:\n\u001b[1;32m    275\u001b[0m     \u001b[38;5;28;01mif\u001b[39;00m \u001b[38;5;28mself\u001b[39m\u001b[38;5;241m.\u001b[39msim_params[\u001b[38;5;124m\"\u001b[39m\u001b[38;5;124mEnsemble\u001b[39m\u001b[38;5;124m\"\u001b[39m] \u001b[38;5;241m==\u001b[39m \u001b[38;5;124m\"\u001b[39m\u001b[38;5;124mNPT\u001b[39m\u001b[38;5;124m\"\u001b[39m:\n\u001b[1;32m    276\u001b[0m         \u001b[38;5;28mself\u001b[39m\u001b[38;5;241m.\u001b[39msystem\u001b[38;5;241m.\u001b[39maddForce(\n\u001b[1;32m    277\u001b[0m             MonteCarloBarostat(\n\u001b[0;32m--> 278\u001b[0m                 \u001b[38;5;28;43mself\u001b[39;49m\u001b[38;5;241;43m.\u001b[39;49m\u001b[43mint_params\u001b[49m\u001b[43m[\u001b[49m\u001b[38;5;124;43m\"\u001b[39;49m\u001b[38;5;124;43mPressure\u001b[39;49m\u001b[38;5;124;43m\"\u001b[39;49m\u001b[43m]\u001b[49m,\n\u001b[1;32m    279\u001b[0m                 \u001b[38;5;28mself\u001b[39m\u001b[38;5;241m.\u001b[39mint_params[\u001b[38;5;124m\"\u001b[39m\u001b[38;5;124mTemperature\u001b[39m\u001b[38;5;124m\"\u001b[39m],\n\u001b[1;32m    280\u001b[0m                 \u001b[38;5;28mself\u001b[39m\u001b[38;5;241m.\u001b[39msim_params\u001b[38;5;241m.\u001b[39mget(\u001b[38;5;124m\"\u001b[39m\u001b[38;5;124mbarostatInterval\u001b[39m\u001b[38;5;124m\"\u001b[39m, \u001b[38;5;241m25\u001b[39m),\n\u001b[1;32m    281\u001b[0m             )\n\u001b[1;32m    282\u001b[0m         )\n",
      "\u001b[0;31mKeyError\u001b[0m: 'Pressure'"
     ]
    }
   ],
   "source": [
    "agent_1.run(descriptive_prompt_8)"
   ]
  },
  {
   "cell_type": "code",
   "execution_count": 4,
   "metadata": {},
   "outputs": [
    {
     "name": "stdout",
     "output_type": "stream",
     "text": [
      "ckpt_dir: ckpt_89\n",
      "Files found in registry: 1LYZ_142434: PDB file downloaded from RSCB\n",
      " PDBFile ID: 1LYZ_142434\n",
      " 1LYZ_142450: Cleaned File:  Removed Heterogens\n",
      " and Water Removed.  Replaced Nonstandard Residues. Added Hydrogens at pH 7.0. Missing Atoms Added and replaces nonstandard residues. \n",
      " top_sim0_142454: Initial positions for simulation sim0_142454\n",
      " sim0_142454: Basic Simulation of Protein 1LYZ_142450\n",
      " rec0_142458: Simulation trajectory for protein 1LYZ_142450 and simulation sim0_142454\n",
      " rec1_142458: Simulation state log for protein 1LYZ_142450 and simulation sim0_142454\n",
      " rec2_142458: Simulation pdb frames for protein 1LYZ_142450 and simulation sim0_142454\n",
      " rmsd_142454: RMSD for 142454\n",
      " fig0_143614: RMSD plot for 142454\n",
      " rgy_rec0_142458: Radii of gyration per frame for rec0_142458\n",
      " fig0_143618: Plot of radii of gyration over time for rec0_142458\n",
      " top_sim0_143623: Initial positions for simulation sim0_143623\n",
      " sim0_143623: Basic Simulation of Protein 1LYZ_142450\n",
      " rec0_143627: Simulation trajectory for protein 1LYZ_142450 and simulation sim0_143623\n",
      " rec1_143627: Simulation state log for protein 1LYZ_142450 and simulation sim0_143623\n",
      " rec2_143627: Simulation pdb frames for protein 1LYZ_142450 and simulation sim0_143623\n",
      " rmsd_143623: RMSD for 143623\n",
      " fig0_144717: RMSD plot for 143623\n",
      " rgy_rec0_143627: Radii of gyration per frame for rec0_143627\n",
      " fig0_144721: Plot of radii of gyration over time for rec0_143627\n"
     ]
    }
   ],
   "source": [
    "registry = agent_1.path_registry\n",
    "print(\"ckpt_dir:\",os.path.basename(registry.ckpt_dir))\n",
    "paths_and_descriptions = registry.list_path_names_and_descriptions()\n",
    "print(\"\\n\".join(paths_and_descriptions.split(\",\")))"
   ]
  },
  {
   "cell_type": "code",
   "execution_count": 5,
   "metadata": {},
   "outputs": [
    {
     "name": "stdout",
     "output_type": "stream",
     "text": [
      "It's asserted that file paths for rec0_142458, top_sim0_142454, rec0_142458 and top_sim0_143623 exist\n"
     ]
    }
   ],
   "source": [
    "import re\n",
    "import os\n",
    "matches = re.findall(r\"rec0_\\d+\", paths_and_descriptions)\n",
    "traj_id1 = matches[0]\n",
    "traj_id2 = matches[1]\n",
    "traj_path1 = registry.get_mapped_path(traj_id1)\n",
    "traj_path2 = registry.get_mapped_path(traj_id2)\n",
    "assert os.path.exists(traj_path1)\n",
    "assert os.path.exists(traj_path2)\n",
    "\n",
    "matches = re.findall(r\"top_sim0_\\d+\", paths_and_descriptions)\n",
    "top_id1 = matches[0]\n",
    "top_id2 = matches[1]\n",
    "top_path1 = registry.get_mapped_path(top_id1)\n",
    "top_path2 = registry.get_mapped_path(top_id2)\n",
    "assert os.path.exists(top_path1)\n",
    "assert os.path.exists(top_path2)\n",
    "print(f\"It's asserted that file paths for {traj_id1}, {top_id1}, {traj_id2} and {top_id2} exist\")"
   ]
  },
  {
   "cell_type": "code",
   "execution_count": 6,
   "metadata": {},
   "outputs": [
    {
     "name": "stdout",
     "output_type": "stream",
     "text": [
      "From first simulation:\n",
      "Number of residues in total:  6927\n",
      "Number of chains:  3\n",
      "Number of residues in sheets:  16\n",
      "Number of residues in helices:  51\n",
      "Number of residues in coils:  62\n"
     ]
    }
   ],
   "source": [
    "# this checks DSSP for the first frame, change to the last frame if needed\n",
    "import mdtraj as md\n",
    "\n",
    "print(\"From first simulation:\")\n",
    "traj_path1 = registry.get_mapped_path(traj_id1)\n",
    "top_path1 = registry.get_mapped_path(top_id1)\n",
    "traj = md.load(traj_path1, top=top_path1)[0] # first frame\n",
    "secondary_structure = md.compute_dssp(traj,simplified=True)[0]\n",
    "print(\"Number of residues in total: \",traj.n_residues)\n",
    "print(\"Number of chains: \",traj.n_chains)\n",
    "print(\"Number of residues in sheets: \",len([i for i in secondary_structure if i == 'E']))\n",
    "print(\"Number of residues in helices: \",len([i for i in secondary_structure if i == 'H']))\n",
    "print(\"Number of residues in coils: \",len([i for i in secondary_structure if i == 'C']))"
   ]
  },
  {
   "cell_type": "code",
   "execution_count": 7,
   "metadata": {},
   "outputs": [
    {
     "data": {
      "image/png": "[encoded data removed]",
      "text/plain": [
       "<IPython.core.display.Image object>"
      ]
     },
     "execution_count": 7,
     "metadata": {},
     "output_type": "execute_result"
    }
   ],
   "source": [
    "from IPython.display import Image\n",
    "matches = re.findall(r\"fig0_\\d+\", paths_and_descriptions)\n",
    "fig_id1 = matches[0]\n",
    "fig_path1 = registry.get_mapped_path(fig_id1)\n",
    "assert os.path.exists(fig_path1), f\"This figure {fig_id1} does not exist.\"\n",
    "Image(filename=fig_path1)"
   ]
  },
  {
   "cell_type": "code",
   "execution_count": 8,
   "metadata": {},
   "outputs": [
    {
     "data": {
      "image/png": "[encoded data removed]",
      "text/plain": [
       "<IPython.core.display.Image object>"
      ]
     },
     "execution_count": 8,
     "metadata": {},
     "output_type": "execute_result"
    }
   ],
   "source": [
    "fig_id2 = matches[1]\n",
    "fig_path2 = registry.get_mapped_path(fig_id2)\n",
    "assert os.path.exists(fig_path1), f\"This figure {fig_id2} does not exist.\"\n",
    "Image(filename=fig_path2)"
   ]
  },
  {
   "cell_type": "code",
   "execution_count": 9,
   "metadata": {},
   "outputs": [
    {
     "data": {
      "image/png": "[encoded data removed]",
      "text/plain": [
       "<IPython.core.display.Image object>"
      ]
     },
     "execution_count": 9,
     "metadata": {},
     "output_type": "execute_result"
    }
   ],
   "source": [
    "fig_id3 = matches[2]\n",
    "fig_path3 = registry.get_mapped_path(fig_id3)\n",
    "assert os.path.exists(fig_path3), f\"This figure {fig_id3} does not exist.\"\n",
    "Image(filename=fig_path3)"
   ]
  },
  {
   "cell_type": "code",
   "execution_count": 10,
   "metadata": {
    "scrolled": true
   },
   "outputs": [
    {
     "data": {
      "image/png": "[encoded data removed]",
      "text/plain": [
       "<IPython.core.display.Image object>"
      ]
     },
     "execution_count": 10,
     "metadata": {},
     "output_type": "execute_result"
    }
   ],
   "source": [
    "fig_id4 = matches[3]\n",
    "fig_path4 = registry.get_mapped_path(fig_id4)\n",
    "assert os.path.exists(fig_path4), f\"This figure {fig_id4} does not exist.\"\n",
    "Image(filename=fig_path4)"
   ]
  },
  {
   "cell_type": "markdown",
   "metadata": {},
   "source": [
    "# non-descriptive prompt"
   ]
  },
  {
   "cell_type": "code",
   "execution_count": 14,
   "metadata": {},
   "outputs": [],
   "source": [
    "agent_2 = MDCrow(agent_type=\"Structured\", model=llm_model, top_k_tools=tools)"
   ]
  },
  {
   "cell_type": "code",
   "execution_count": 15,
   "metadata": {},
   "outputs": [
    {
     "name": "stdout",
     "output_type": "stream",
     "text": [
      "Thought: I'll break this down into steps:\n",
      "1. First, download the 1LYZ structure\n",
      "2. Set up and run simulations at both temperatures\n",
      "3. Analyze the structure and results\n",
      "\n",
      "Let's start by downloading 1LYZ.\n",
      "\n",
      "Action:\n",
      "```\n",
      "{\n",
      "    \"action\": \"PDBFileDownloader\",\n",
      "    \"action_input\": \"1LYZ\"\n",
      "}\n",
      "```\n",
      "\n",
      "PDB file found with this ID: 1LYZ\n",
      "Thought: Now that I have the PDB file, I'll set up and run the first simulation at 300K. I'll modify the integrator parameters for this temperature.\n",
      "\n",
      "Action:\n",
      "```\n",
      "{\n",
      "    \"action\": \"SetUpandRunFunction\",\n",
      "    \"action_input\": {\n",
      "        \"pdb_id\": \"1LYZ_144732\",\n",
      "        \"forcefield_files\": [\"amber14-all.xml\", \"amber14/tip3pfb.xml\"],\n",
      "        \"save\": true,\n",
      "        \"system_params\": {\n",
      "            \"nonbondedMethod\": \"PME\",\n",
      "            \"nonbondedCutoff\": \"1.0 * nanometers\",\n",
      "            \"constraints\": \"HBonds\",\n",
      "            \"rigidWater\": true,\n",
      "            \"constraintTolerance\": 0.000001,\n",
      "            \"ewaldErrorTolerance\": 0.0005,\n",
      "            \"solvate\": true\n",
      "        },\n",
      "        \"integrator_params\": {\n",
      "            \"integrator_type\": \"LangevinMiddle\",\n",
      "            \"Temperature\": \"300 * kelvin\",\n",
      "            \"Friction\": \"1.0 / picoseconds\",\n",
      "            \"Timestep\": \"0.002 * picoseconds\",\n",
      "            \"Pressure\": \"1.0 * bar\"\n",
      "        },\n",
      "        \"simulation_params\": {\n",
      "            \"Ensemble\": \"NPT\",\n",
      "            \"Number of Steps\": 500,\n",
      "            \"record_interval_steps\": 5,\n",
      "            \"record_params\": [\"step\", \"potentialEnergy\", \"temperature\", \"density\"]\n",
      "        }\n",
      "    }\n",
      "}\n",
      "```\n",
      "\n",
      "Building system...\n",
      "About to create system...\n",
      "Attempts at creating system: 0/3\n",
      "Error adding solvent ValueError – No template found for residue 1 (LYS).  The set of atoms is similar to HID, but it is missing 8 atoms.  For more information, see https://github.com/openmm/openmm/wiki/Frequently-Asked-Questions#template\n",
      "Residue code: LYS\n",
      "Residue code not in solvent list. Adding forcefield                         not supported.\n",
      "Thought: I see the issue. We need to clean and prepare the PDB file first to ensure it has all the necessary atoms and proper residue templates before running the simulation. Let's use the cleaning tool first.\n",
      "\n",
      "Action:\n",
      "```\n",
      "{\n",
      "    \"action\": \"CleaningToolFunction\",\n",
      "    \"action_input\": {\n",
      "        \"pdb_id\": \"1LYZ_144732\",\n",
      "        \"replace_nonstandard_residues\": true,\n",
      "        \"add_missing_atoms\": true,\n",
      "        \"remove_heterogens\": true,\n",
      "        \"remove_water\": true,\n",
      "        \"add_hydrogens\": true,\n",
      "        \"add_hydrogens_ph\": 7.0\n",
      "    }\n",
      "}\n",
      "```\n",
      "\n",
      "file path: /gpfs/fs2/scratch/qcampbe2/repos/md-agent/ckpt/ckpt_95/pdb/1LYZ_raw_20250114_144732.pdb\n",
      "Thought: Now that we have a clean structure, let's try running the simulation at 300K again.\n",
      "\n",
      "Action:\n",
      "```\n",
      "{\n",
      "    \"action\": \"SetUpandRunFunction\",\n",
      "    \"action_input\": {\n",
      "        \"pdb_id\": \"1LYZ_144743\",\n",
      "        \"forcefield_files\": [\"amber14-all.xml\", \"amber14/tip3pfb.xml\"],\n",
      "        \"save\": true,\n",
      "        \"system_params\": {\n",
      "            \"nonbondedMethod\": \"PME\",\n",
      "            \"nonbondedCutoff\": \"1.0 * nanometers\",\n",
      "            \"constraints\": \"HBonds\",\n",
      "            \"rigidWater\": true,\n",
      "            \"constraintTolerance\": 0.000001,\n",
      "            \"ewaldErrorTolerance\": 0.0005,\n",
      "            \"solvate\": true\n",
      "        },\n",
      "        \"integrator_params\": {\n",
      "            \"integrator_type\": \"LangevinMiddle\",\n",
      "            \"Temperature\": \"300 * kelvin\",\n",
      "            \"Friction\": \"1.0 / picoseconds\",\n",
      "            \"Timestep\": \"0.002 * picoseconds\",\n",
      "            \"Pressure\": \"1.0 * bar\"\n",
      "        },\n",
      "        \"simulation_params\": {\n",
      "            \"Ensemble\": \"NPT\",\n",
      "            \"Number of Steps\": 500,\n",
      "            \"record_interval_steps\": 5,\n",
      "            \"record_params\": [\"step\", \"potentialEnergy\", \"temperature\", \"density\"]\n",
      "        }\n",
      "    }\n",
      "}\n",
      "```Building system...\n",
      "About to create system...\n",
      "Attempts at creating system: 0/3\n",
      "System built successfully\n",
      "<openmm.openmm.System; proxy of <Swig Object of type 'OpenMM::System *' at 0x7fb2c6a20930> >\n",
      "Setting up integrator...\n",
      "Creating simulation...\n",
      "simulation set!\n",
      "Performing energy minimization...\n",
      "Minimization complete!\n",
      "Initial Positions saved to initial_positions.pdb\n",
      "Equilibrating...\n",
      "Simulating...\n",
      "Done!\n",
      "Constraints must be set to 'None' for LangevinMiddle integrator.\n",
      "LangevinMiddle constraints:  HBonds\n",
      "Standalone simulation script written to /gpfs/fs2/scratch/qcampbe2/repos/md-agent/ckpt/ckpt_95/simulations/NPT_1LYZ_144743_20250114_144748.py\n",
      "['prompt7-Copy1.ipynb', 'run_robustness.sh', 'slurm-27720900.out', 'prompt7.ipynb', 'prompt1.ipynb', 'TRAJ_sim0_144748_1LYZ_144743_20250114_144752.dcd', 'prompt3.ipynb', 'prompt8-Copy1.ipynb', '.ipynb_checkpoints', 'prompt5-Copy1.ipynb', 'submit_robustness.sh', 'prompt4-Copy1.ipynb', 'prompt10.ipynb', 'prompt9.ipynb', 'LOG_sim0_154855_1LYZ_154850_20250110_154855.txt', 'LOG_sim0_144748_1LYZ_144743_20250114_144752.txt', 'submit_2.sh', 'prompt2.ipynb', 'TOP_sim0_154855_1LYZ_154850_20250110_154855.pdb', 'out', 'TOP_sim0_144748_1LYZ_144743_20250114_144752.pdb', 'prompt8.ipynb', 'prompt6.ipynb', 'prompt4.ipynb', 'TRAJ_sim0_154855_1LYZ_154850_20250110_154855.dcd', 'prompt5.ipynb', 'prompt6-Copy1.ipynb', 'prompt3-Copy1.ipynb']\n",
      "Thought: Let's continue with the 400K simulation and then analyze both simulations. I'll run the second simulation with the same cleaned structure but at 400K.\n",
      "\n",
      "Action:\n",
      "```\n",
      "{\n",
      "    \"action\": \"SetUpandRunFunction\",\n",
      "    \"action_input\": {\n",
      "        \"pdb_id\": \"1LYZ_144743\",\n",
      "        \"forcefield_files\": [\"amber14-all.xml\", \"amber14/tip3pfb.xml\"],\n",
      "        \"save\": true,\n",
      "        \"system_params\": {\n",
      "            \"nonbondedMethod\": \"PME\",\n",
      "            \"nonbondedCutoff\": \"1.0 * nanometers\",\n",
      "            \"constraints\": \"HBonds\",\n",
      "            \"rigidWater\": true,\n",
      "            \"constraintTolerance\": 0.000001,\n",
      "            \"ewaldErrorTolerance\": 0.0005,\n",
      "            \"solvate\": true\n",
      "        },\n",
      "        \"integrator_params\": {\n",
      "            \"integrator_type\": \"LangevinMiddle\",\n",
      "            \"Temperature\": \"400 * kelvin\",\n",
      "            \"Friction\": \"1.0 / picoseconds\",\n",
      "            \"Timestep\": \"0.002 * picoseconds\",\n",
      "            \"Pressure\": \"1.0 * bar\"\n",
      "        },\n",
      "        \"simulation_params\": {\n",
      "            \"Ensemble\": \"NPT\",\n",
      "            \"Number of Steps\": 500,\n",
      "            \"record_interval_steps\": 5,\n",
      "            \"record_params\": [\"step\", \"potentialEnergy\", \"temperature\", \"density\"]\n",
      "        }\n",
      "    }\n",
      "}\n",
      "```Building system...\n",
      "About to create system...\n",
      "Attempts at creating system: 0/3\n",
      "System built successfully\n",
      "<openmm.openmm.System; proxy of <Swig Object of type 'OpenMM::System *' at 0x7fb26436b4e0> >\n",
      "Setting up integrator...\n",
      "Creating simulation...\n",
      "simulation set!\n",
      "Performing energy minimization...\n",
      "Minimization complete!\n",
      "Initial Positions saved to initial_positions.pdb\n",
      "Equilibrating...\n",
      "Simulating...\n",
      "Done!\n",
      "Constraints must be set to 'None' for LangevinMiddle integrator.\n",
      "LangevinMiddle constraints:  HBonds\n",
      "Standalone simulation script written to /gpfs/fs2/scratch/qcampbe2/repos/md-agent/ckpt/ckpt_95/simulations/NPT_1LYZ_144743_20250114_145647.py\n",
      "['prompt7-Copy1.ipynb', 'run_robustness.sh', 'slurm-27720900.out', 'prompt7.ipynb', 'prompt1.ipynb', 'prompt3.ipynb', 'prompt8-Copy1.ipynb', '.ipynb_checkpoints', 'prompt5-Copy1.ipynb', 'submit_robustness.sh', 'prompt4-Copy1.ipynb', 'prompt10.ipynb', 'prompt9.ipynb', 'LOG_sim0_154855_1LYZ_154850_20250110_154855.txt', 'submit_2.sh', 'prompt2.ipynb', 'TOP_sim0_154855_1LYZ_154850_20250110_154855.pdb', 'out', 'prompt8.ipynb', 'TOP_sim0_145647_1LYZ_144743_20250114_145651.pdb', 'prompt6.ipynb', 'prompt4.ipynb', 'TRAJ_sim0_154855_1LYZ_154850_20250110_154855.dcd', 'LOG_sim0_145647_1LYZ_144743_20250114_145651.txt', 'prompt5.ipynb', 'prompt6-Copy1.ipynb', 'TRAJ_sim0_145647_1LYZ_144743_20250114_145651.dcd', 'prompt3-Copy1.ipynb']\n",
      "Thought: Now that we have both simulations completed, let's analyze the structure and dynamics. First, let's get information about the residues and secondary structure using DSSP, then calculate RMSD and radius of gyration for both simulations.\n",
      "\n",
      "Action:\n",
      "```\n",
      "{\n",
      "    \"action\": \"ComputeDSSP\",\n",
      "    \"action_input\": {\n",
      "        \"traj_file\": \"rec0_144752\",\n",
      "        \"top_file\": \"top_sim0_144748\",\n",
      "        \"target_frames\": \"all\"\n",
      "    }\n",
      "}\n",
      "```\n",
      "\n",
      "Thought: Let's calculate the RMSD for both simulations (300K and 400K) to compare their structural stability.\n",
      "\n",
      "Action:\n",
      "```\n",
      "{\n",
      "    \"action\": \"ComputeRMSD\",\n",
      "    \"action_input\": {\n",
      "        \"top_id\": \"top_sim0_144748\",\n",
      "        \"traj_id\": \"rec0_144752\",\n",
      "        \"select\": \"protein\",\n",
      "        \"mol_name\": \"1LYZ_300K\"\n",
      "    }\n",
      "}\n",
      "```\n",
      "\n",
      "Calculating RMSD...\n",
      "Data saved to /gpfs/fs2/scratch/qcampbe2/repos/md-agent/ckpt/ckpt_95/records/rmsd_1LYZ_300K.csv\n",
      "Plot saved to /gpfs/fs2/scratch/qcampbe2/repos/md-agent/ckpt/ckpt_95/figures/FIG_rmsd_1LYZ_300K_20250114_150401.png\n",
      "Thought: Let's calculate the RMSD for the 400K simulation to compare with the 300K results.\n",
      "\n",
      "Action:\n",
      "```\n",
      "{\n",
      "    \"action\": \"ComputeRMSD\",\n",
      "    \"action_input\": {\n",
      "        \"top_id\": \"top_sim0_145647\",\n",
      "        \"traj_id\": \"rec0_145651\",\n",
      "        \"select\": \"protein\",\n",
      "        \"mol_name\": \"1LYZ_400K\"\n",
      "    }\n",
      "}\n",
      "```\n",
      "\n",
      "Calculating RMSD...\n",
      "Data saved to /gpfs/fs2/scratch/qcampbe2/repos/md-agent/ckpt/ckpt_95/records/rmsd_1LYZ_400K.csv\n",
      "Plot saved to /gpfs/fs2/scratch/qcampbe2/repos/md-agent/ckpt/ckpt_95/figures/FIG_rmsd_1LYZ_400K_20250114_150405.png\n",
      "Thought: Let's calculate the radius of gyration for both simulations to complete our analysis and then provide a comprehensive final answer.\n",
      "\n",
      "Action:\n",
      "```\n",
      "{\n",
      "    \"action\": \"RadiusofGyrationPerFrame\",\n",
      "    \"action_input\": {\n",
      "        \"traj_file\": \"rec0_144752\",\n",
      "        \"top_file\": \"top_sim0_144748\"\n",
      "    }\n",
      "}\n",
      "```\n",
      "\n",
      "Thought: Let's calculate the radius of gyration for the 400K simulation and then provide a comprehensive final answer.\n",
      "\n",
      "Action:\n",
      "```\n",
      "{\n",
      "    \"action\": \"RadiusofGyrationPerFrame\",\n",
      "    \"action_input\": {\n",
      "        \"traj_file\": \"rec0_145651\",\n",
      "        \"top_file\": \"top_sim0_145647\"\n",
      "    }\n",
      "}\n",
      "```\n",
      "\n",
      "Thought: Now I have all the necessary information to provide a comprehensive answer about the simulations and analyses.\n",
      "\n",
      "Action:\n",
      "```\n",
      "{\n",
      "    \"action\": \"Final Answer\",\n",
      "    \"action_input\": \"I have completed the simulations and analyses of 1LYZ at both 300K and 400K for 1 ps. Here are the detailed results:\n",
      "\n",
      "Structure Analysis:\n",
      "- The protein contains a mix of secondary structure elements:\n",
      "  * Helical residues: 15,703 counts across all frames\n",
      "  * Beta strand residues: 3,778 counts across all frames\n",
      "  * Coil residues: 19,219 counts across all frames\n",
      "\n",
      "Simulation Results:\n",
      "1. 300K Simulation:\n",
      "- RMSD values were calculated and saved (plot ID: fig0_150401)\n",
      "- Radius of gyration was computed for each frame (saved as rgy_rec0_144752)\n",
      "\n",
      "2. 400K Simulation:\n",
      "- RMSD values were calculated and saved (plot ID: fig0_150405)\n",
      "- Radius of gyration was computed for each frame (saved as rgy_rec0_145651)\n",
      "\n",
      "Both simulations were successfully completed under NPT conditions with PME electrostatics, using the AMBER14 force field and TIP3P water model. The simulations included explicit solvent and periodic boundary conditions, with hydrogen bond constraints and rigid water molecules.\n",
      "\n",
      "The RMSD and radius of gyration calculations provide information about the structural stability and compactness of the protein at both temperatures. The plots and data files have been saved and can be accessed using the provided IDs for more detailed analysis.\"\n",
      "}\n",
      "```\n",
      "\n"
     ]
    },
    {
     "data": {
      "text/plain": [
       "({'input': '\\n    You are an expert molecular dynamics scientist, and\\n    your task is to respond to the question or\\n    solve the problem to the best of your ability using\\n    the provided tools.\\n\\n    You can only respond with a single complete\\n    \\'Thought, Action, Action Input\\' format\\n    OR a single \\'Final Answer\\' format.\\n\\n    Complete format:\\n    Thought: (reflect on your progress and decide what to do next)\\n    Action:\\n    ```\\n    {\\n        \"action\": (the action name, it should be the name of a tool),\\n        \"action_input\": (the input string for the action)\\n    }\\n    \\'\\'\\'\\n\\n    OR\\n\\n    Final Answer: (the final response to the original input\\n    question, once all steps are complete)\\n\\n    You are required to use the tools provided,\\n    using the most specific tool\\n    available for each action.\\n    Your final answer should contain all information\\n    necessary to answer the question and its subquestions.\\n    Before you finish, reflect on your progress and make\\n    sure you have addressed the question in its entirety.\\n\\n    If you are asked to continue\\n    or reference previous runs,\\n    the context will be provided to you.\\n    If context is provided, you should assume\\n    you are continuing a chat.\\n\\n    Here is the input:\\n    Previous Context: None\\n    Question: Simulate 1LYZ for 1 ps at 300K and 400K. Tell me how many residues are in the chains and beta sheets, and compute the RMSD and radius of gyration of both simulations. ',\n",
       "  'output': 'I have completed the simulations and analyses of 1LYZ at both 300K and 400K for 1 ps. Here are the detailed results:\\n\\nStructure Analysis:\\n- The protein contains a mix of secondary structure elements:\\n  * Helical residues: 15,703 counts across all frames\\n  * Beta strand residues: 3,778 counts across all frames\\n  * Coil residues: 19,219 counts across all frames\\n\\nSimulation Results:\\n1. 300K Simulation:\\n- RMSD values were calculated and saved (plot ID: fig0_150401)\\n- Radius of gyration was computed for each frame (saved as rgy_rec0_144752)\\n\\n2. 400K Simulation:\\n- RMSD values were calculated and saved (plot ID: fig0_150405)\\n- Radius of gyration was computed for each frame (saved as rgy_rec0_145651)\\n\\nBoth simulations were successfully completed under NPT conditions with PME electrostatics, using the AMBER14 force field and TIP3P water model. The simulations included explicit solvent and periodic boundary conditions, with hydrogen bond constraints and rigid water molecules.\\n\\nThe RMSD and radius of gyration calculations provide information about the structural stability and compactness of the protein at both temperatures. The plots and data files have been saved and can be accessed using the provided IDs for more detailed analysis.'},\n",
       " 'L4NO37VX')"
      ]
     },
     "execution_count": 15,
     "metadata": {},
     "output_type": "execute_result"
    },
    {
     "name": "stdout",
     "output_type": "stream",
     "text": [
      "\n",
      "{\n",
      "    \"action\": \"P"
     ]
    },
    {
     "name": "stdout",
     "output_type": "stream",
     "text": [
      "DBFileDownloader\",\n",
      "    \"action_"
     ]
    },
    {
     "name": "stdout",
     "output_type": "stream",
     "text": [
      "input\": \"1LYZ\""
     ]
    },
    {
     "name": "stdout",
     "output_type": "stream",
     "text": [
      "\n",
      "}\n",
      "```\n",
      "\n"
     ]
    },
    {
     "name": "stdout",
     "output_type": "stream",
     "text": [
      "PDB file found with this ID: 1LYZ\n"
     ]
    },
    {
     "name": "stdout",
     "output_type": "stream",
     "text": [
      "Thought"
     ]
    },
    {
     "name": "stdout",
     "output_type": "stream",
     "text": [
      ": Now that I have the"
     ]
    },
    {
     "name": "stdout",
     "output_type": "stream",
     "text": [
      " PDB file, I'll run"
     ]
    },
    {
     "name": "stdout",
     "output_type": "stream",
     "text": [
      " simulations at both temperatures. I'll nee"
     ]
    },
    {
     "name": "stdout",
     "output_type": "stream",
     "text": [
      "d to set up and run two simulations with"
     ]
    },
    {
     "name": "stdout",
     "output_type": "stream",
     "text": [
      " different temperatures. Let me start with 300K.\n",
      "\n",
      "Action"
     ]
    },
    {
     "name": "stdout",
     "output_type": "stream",
     "text": [
      ":\n",
      "```\n",
      "{\n",
      "    \"action\":"
     ]
    },
    {
     "name": "stdout",
     "output_type": "stream",
     "text": [
      " \"SetUpandRunFunction\",\n",
      "    \""
     ]
    },
    {
     "name": "stdout",
     "output_type": "stream",
     "text": [
      "action_input\": {\n",
      "        \"pdb"
     ]
    },
    {
     "name": "stdout",
     "output_type": "stream",
     "text": [
      "_id\": \"1LYZ_"
     ]
    },
    {
     "name": "stdout",
     "output_type": "stream",
     "text": [
      "161644\",\n",
      "        \"forc"
     ]
    },
    {
     "name": "stdout",
     "output_type": "stream",
     "text": [
      "efield_files\": [\"amber14"
     ]
    },
    {
     "name": "stdout",
     "output_type": "stream",
     "text": [
      "-all.xml\","
     ]
    },
    {
     "name": "stdout",
     "output_type": "stream",
     "text": [
      " \"amber14/tip3pf"
     ]
    },
    {
     "name": "stdout",
     "output_type": "stream",
     "text": [
      "b.xml\"],\n",
      "        \"save"
     ]
    },
    {
     "name": "stdout",
     "output_type": "stream",
     "text": [
      "\": true,\n",
      "        \""
     ]
    },
    {
     "name": "stdout",
     "output_type": "stream",
     "text": [
      "system_params\": {\n",
      "            \""
     ]
    },
    {
     "name": "stdout",
     "output_type": "stream",
     "text": [
      "nonbondedMethod\": \"PM"
     ]
    },
    {
     "name": "stdout",
     "output_type": "stream",
     "text": [
      "E\",\n",
      "            \"nonbondedC"
     ]
    },
    {
     "name": "stdout",
     "output_type": "stream",
     "text": [
      "utoff\": \"1.0 *"
     ]
    },
    {
     "name": "stdout",
     "output_type": "stream",
     "text": [
      " nanometers\",\n",
      "            \"constraints\": \""
     ]
    },
    {
     "name": "stdout",
     "output_type": "stream",
     "text": [
      "HBonds\",\n",
      "            "
     ]
    },
    {
     "name": "stdout",
     "output_type": "stream",
     "text": [
      "\"rigidWater\": true,"
     ]
    },
    {
     "name": "stdout",
     "output_type": "stream",
     "text": [
      "\n",
      "            \"constraintT"
     ]
    },
    {
     "name": "stdout",
     "output_type": "stream",
     "text": [
      "olerance\": 0"
     ]
    },
    {
     "name": "stdout",
     "output_type": "stream",
     "text": [
      ".000001,\n",
      "            \"ew"
     ]
    },
    {
     "name": "stdout",
     "output_type": "stream",
     "text": [
      "aldErrorTolerance\": 0.0"
     ]
    },
    {
     "name": "stdout",
     "output_type": "stream",
     "text": [
      "005,\n",
      "            \"s"
     ]
    },
    {
     "name": "stdout",
     "output_type": "stream",
     "text": [
      "olvate\": true\n",
      "        },\n",
      "        \""
     ]
    },
    {
     "name": "stdout",
     "output_type": "stream",
     "text": [
      "integrator_params\": {\n",
      "            "
     ]
    },
    {
     "name": "stdout",
     "output_type": "stream",
     "text": [
      "\"integrator_type\": \"L"
     ]
    },
    {
     "name": "stdout",
     "output_type": "stream",
     "text": [
      "angevinMiddle\",\n",
      "            \"Temperature"
     ]
    },
    {
     "name": "stdout",
     "output_type": "stream",
     "text": [
      "\": \"300 * kelvin\",\n",
      "            "
     ]
    },
    {
     "name": "stdout",
     "output_type": "stream",
     "text": [
      "\"Friction\": \"1."
     ]
    },
    {
     "name": "stdout",
     "output_type": "stream",
     "text": [
      "0 / picoseconds\",\n",
      "            \""
     ]
    },
    {
     "name": "stdout",
     "output_type": "stream",
     "text": [
      "Timestep\": \"0.002 * pic"
     ]
    },
    {
     "name": "stdout",
     "output_type": "stream",
     "text": [
      "oseconds\"\n",
      "        },\n",
      "        \"simulation"
     ]
    },
    {
     "name": "stdout",
     "output_type": "stream",
     "text": [
      "_params\": {\n",
      "            \"Ensemble"
     ]
    },
    {
     "name": "stdout",
     "output_type": "stream",
     "text": [
      "\": \"NPT\",\n",
      "            \""
     ]
    },
    {
     "name": "stdout",
     "output_type": "stream",
     "text": [
      "Number of Steps\": 500,\n",
      "            \"recor"
     ]
    },
    {
     "name": "stdout",
     "output_type": "stream",
     "text": [
      "d_interval_steps\": 10,\n",
      "            \"recor"
     ]
    },
    {
     "name": "stdout",
     "output_type": "stream",
     "text": [
      "d_params\": [\"step\", \"pot"
     ]
    },
    {
     "name": "stdout",
     "output_type": "stream",
     "text": [
      "entialEnergy\", \"temperature\", \"density"
     ]
    },
    {
     "name": "stdout",
     "output_type": "stream",
     "text": [
      "\"]\n",
      "        }\n",
      "    }\n",
      "}\n",
      "```"
     ]
    },
    {
     "name": "stdout",
     "output_type": "stream",
     "text": [
      "\n",
      "\n"
     ]
    },
    {
     "name": "stdout",
     "output_type": "stream",
     "text": [
      "Building system...\n"
     ]
    },
    {
     "name": "stdout",
     "output_type": "stream",
     "text": [
      "About to create system...\n",
      "Attempts at creating system: 0/3\n"
     ]
    },
    {
     "name": "stdout",
     "output_type": "stream",
     "text": [
      "Error adding solvent ValueError – No template found for residue 1 (LYS).  The set of atoms is similar to HID, but it is missing 8 atoms.  For more information, see https://github.com/openmm/openmm/wiki/Frequently-Asked-Questions#template\n",
      "Residue code: LYS\n",
      "Residue code not in solvent list. Adding forcefield                         not supported.\n"
     ]
    },
    {
     "name": "stdout",
     "output_type": "stream",
     "text": [
      "Thought: I see the issue. We"
     ]
    },
    {
     "name": "stdout",
     "output_type": "stream",
     "text": [
      " need to clean and prepare the PDB file"
     ]
    },
    {
     "name": "stdout",
     "output_type": "stream",
     "text": [
      " first to ensure all residues are compatible"
     ]
    },
    {
     "name": "stdout",
     "output_type": "stream",
     "text": [
      " with the forcefield. Let's use"
     ]
    },
    {
     "name": "stdout",
     "output_type": "stream",
     "text": [
      " the cleaning tool before running the simulation."
     ]
    },
    {
     "name": "stdout",
     "output_type": "stream",
     "text": [
      "\n",
      "\n",
      "Action:\n",
      "```\n",
      "{\n",
      "    \"action"
     ]
    },
    {
     "name": "stdout",
     "output_type": "stream",
     "text": [
      "\": \"CleaningTool"
     ]
    },
    {
     "name": "stdout",
     "output_type": "stream",
     "text": [
      "Function\",\n",
      "    \"action_input\": {"
     ]
    },
    {
     "name": "stdout",
     "output_type": "stream",
     "text": [
      "\n",
      "        \"pdb_id\": \"1L"
     ]
    },
    {
     "name": "stdout",
     "output_type": "stream",
     "text": [
      "YZ_161644\",\n",
      "        \"replace"
     ]
    },
    {
     "name": "stdout",
     "output_type": "stream",
     "text": [
      "_nonstandard_residues\": true,\n",
      "        "
     ]
    },
    {
     "name": "stdout",
     "output_type": "stream",
     "text": [
      "\"add_missing_atoms\": true,\n",
      "        "
     ]
    },
    {
     "name": "stdout",
     "output_type": "stream",
     "text": [
      "\"remove_heterogens\": true,"
     ]
    },
    {
     "name": "stdout",
     "output_type": "stream",
     "text": [
      "\n",
      "        \"remove_water\": true,"
     ]
    },
    {
     "name": "stdout",
     "output_type": "stream",
     "text": [
      "\n",
      "        \"add_hydrogens\": true"
     ]
    },
    {
     "name": "stdout",
     "output_type": "stream",
     "text": [
      ",\n",
      "        \"add_hydro"
     ]
    },
    {
     "name": "stdout",
     "output_type": "stream",
     "text": [
      "gens_ph\": 7.0"
     ]
    },
    {
     "name": "stdout",
     "output_type": "stream",
     "text": [
      "\n",
      "    }\n",
      "}"
     ]
    },
    {
     "name": "stdout",
     "output_type": "stream",
     "text": [
      "\n",
      "```\n",
      "\n"
     ]
    },
    {
     "name": "stdout",
     "output_type": "stream",
     "text": [
      "file path: /gpfs/fs2/scratch/qcampbe2/repos/md-agent/ckpt/ckpt_78/pdb/1LYZ_raw_20250110_161644.pdb\n"
     ]
    },
    {
     "name": "stdout",
     "output_type": "stream",
     "text": [
      "Thought: Now that we have a clean"
     ]
    },
    {
     "name": "stdout",
     "output_type": "stream",
     "text": [
      " structure, let's try running the simulation at"
     ]
    },
    {
     "name": "stdout",
     "output_type": "stream",
     "text": [
      " 300K again.\n",
      "\n",
      "Action:"
     ]
    },
    {
     "name": "stdout",
     "output_type": "stream",
     "text": [
      "\n",
      "```\n",
      "{\n",
      "    \"action\": \"Set"
     ]
    },
    {
     "name": "stdout",
     "output_type": "stream",
     "text": [
      "UpandRunFunction\",\n",
      "    \"action_"
     ]
    },
    {
     "name": "stdout",
     "output_type": "stream",
     "text": [
      "input\": {\n",
      "        \"pdb_i"
     ]
    },
    {
     "name": "stdout",
     "output_type": "stream",
     "text": [
      "d\": \"1LYZ_161654\","
     ]
    },
    {
     "name": "stdout",
     "output_type": "stream",
     "text": [
      "\n",
      "        \"forcefield_files\": [\"amber"
     ]
    },
    {
     "name": "stdout",
     "output_type": "stream",
     "text": [
      "14-all.xml\", \"amber14/"
     ]
    },
    {
     "name": "stdout",
     "output_type": "stream",
     "text": [
      "tip3pfb.xml\"],\n",
      "        \""
     ]
    },
    {
     "name": "stdout",
     "output_type": "stream",
     "text": [
      "save\": true,\n",
      "        \"system_params"
     ]
    },
    {
     "name": "stdout",
     "output_type": "stream",
     "text": [
      "\": {\n",
      "            \"nonbondedMetho"
     ]
    },
    {
     "name": "stdout",
     "output_type": "stream",
     "text": [
      "d\": \"PME\",\n",
      "            \"nonb"
     ]
    },
    {
     "name": "stdout",
     "output_type": "stream",
     "text": [
      "ondedCutoff\": \"1.0"
     ]
    },
    {
     "name": "stdout",
     "output_type": "stream",
     "text": [
      " * nanometers\",\n",
      "            \"constraints"
     ]
    },
    {
     "name": "stdout",
     "output_type": "stream",
     "text": [
      "\": \"HBonds\",\n",
      "            \"rig"
     ]
    },
    {
     "name": "stdout",
     "output_type": "stream",
     "text": [
      "idWater\": true,\n",
      "            \"constra"
     ]
    },
    {
     "name": "stdout",
     "output_type": "stream",
     "text": [
      "intTolerance\": 0.000001"
     ]
    },
    {
     "name": "stdout",
     "output_type": "stream",
     "text": [
      ",\n",
      "            \"ewaldErrorTolerance"
     ]
    },
    {
     "name": "stdout",
     "output_type": "stream",
     "text": [
      "\": 0.0005,\n",
      "            \""
     ]
    },
    {
     "name": "stdout",
     "output_type": "stream",
     "text": [
      "solvate\": true\n",
      "        },\n",
      "        "
     ]
    },
    {
     "name": "stdout",
     "output_type": "stream",
     "text": [
      "\"integrator_params\": {\n",
      "            \""
     ]
    },
    {
     "name": "stdout",
     "output_type": "stream",
     "text": [
      "integrator_type\": \"Langevin"
     ]
    },
    {
     "name": "stdout",
     "output_type": "stream",
     "text": [
      "Middle\",\n",
      "            \"Temperature\": \"300"
     ]
    },
    {
     "name": "stdout",
     "output_type": "stream",
     "text": [
      " * kelvin\",\n",
      "            \"Friction"
     ]
    },
    {
     "name": "stdout",
     "output_type": "stream",
     "text": [
      "\": \"1.0 / picoseconds"
     ]
    },
    {
     "name": "stdout",
     "output_type": "stream",
     "text": [
      "\",\n",
      "            \"Timestep\": \"0"
     ]
    },
    {
     "name": "stdout",
     "output_type": "stream",
     "text": [
      ".002 * picoseconds\"\n",
      "        "
     ]
    },
    {
     "name": "stdout",
     "output_type": "stream",
     "text": [
      "},\n",
      "        \"simulation_params\": {"
     ]
    },
    {
     "name": "stdout",
     "output_type": "stream",
     "text": [
      "\n",
      "            \"Ensemble\": \"NPT\","
     ]
    },
    {
     "name": "stdout",
     "output_type": "stream",
     "text": [
      "\n",
      "            \"Number of Steps\": 500,"
     ]
    },
    {
     "name": "stdout",
     "output_type": "stream",
     "text": [
      "\n",
      "            \"record_interval_steps\": 10"
     ]
    },
    {
     "name": "stdout",
     "output_type": "stream",
     "text": [
      ",\n",
      "            \"record_params\": [\"step"
     ]
    },
    {
     "name": "stdout",
     "output_type": "stream",
     "text": [
      "\", \"potentialEnergy\", \"temperature\","
     ]
    },
    {
     "name": "stdout",
     "output_type": "stream",
     "text": [
      " \"density\"]\n",
      "        }\n",
      "    }"
     ]
    },
    {
     "name": "stdout",
     "output_type": "stream",
     "text": [
      "\n",
      "}\n",
      "```"
     ]
    },
    {
     "name": "stdout",
     "output_type": "stream",
     "text": [
      "Building system...\n"
     ]
    },
    {
     "name": "stdout",
     "output_type": "stream",
     "text": [
      "About to create system...\n",
      "Attempts at creating system: 0/3\n"
     ]
    },
    {
     "name": "stdout",
     "output_type": "stream",
     "text": [
      "System built successfully\n",
      "<openmm.openmm.System; proxy of <Swig Object of type 'OpenMM::System *' at 0x2b98baa1a490> >\n"
     ]
    },
    {
     "ename": "KeyError",
     "evalue": "'Pressure'",
     "output_type": "error",
     "traceback": [
      "\u001b[0;31m---------------------------------------------------------------------------\u001b[0m",
      "\u001b[0;31mKeyError\u001b[0m                                  Traceback (most recent call last)",
      "Cell \u001b[0;32mIn[15], line 1\u001b[0m\n\u001b[0;32m----> 1\u001b[0m \u001b[43magent_2\u001b[49m\u001b[38;5;241;43m.\u001b[39;49m\u001b[43mrun\u001b[49m\u001b[43m(\u001b[49m\u001b[43mnon_descriptive_prompt_8\u001b[49m\u001b[43m)\u001b[49m\n",
      "File \u001b[0;32m/gpfs/fs2/scratch/qcampbe2/repos/md-agent/mdcrow/agent/agent.py:148\u001b[0m, in \u001b[0;36mMDCrow.run\u001b[0;34m(self, user_input, callbacks)\u001b[0m\n\u001b[1;32m    146\u001b[0m     \u001b[38;5;28mself\u001b[39m\u001b[38;5;241m.\u001b[39mprompt \u001b[38;5;241m=\u001b[39m openaifxn_prompt\u001b[38;5;241m.\u001b[39mformat(\u001b[38;5;28minput\u001b[39m\u001b[38;5;241m=\u001b[39muser_input, context\u001b[38;5;241m=\u001b[39mrun_memory)\n\u001b[1;32m    147\u001b[0m \u001b[38;5;28mself\u001b[39m\u001b[38;5;241m.\u001b[39magent \u001b[38;5;241m=\u001b[39m \u001b[38;5;28mself\u001b[39m\u001b[38;5;241m.\u001b[39m_initialize_tools_and_agent(user_input)\n\u001b[0;32m--> 148\u001b[0m model_output \u001b[38;5;241m=\u001b[39m \u001b[38;5;28;43mself\u001b[39;49m\u001b[38;5;241;43m.\u001b[39;49m\u001b[43magent\u001b[49m\u001b[38;5;241;43m.\u001b[39;49m\u001b[43minvoke\u001b[49m\u001b[43m(\u001b[49m\u001b[38;5;28;43mself\u001b[39;49m\u001b[38;5;241;43m.\u001b[39;49m\u001b[43mprompt\u001b[49m\u001b[43m,\u001b[49m\u001b[43m \u001b[49m\u001b[43mcallbacks\u001b[49m\u001b[38;5;241;43m=\u001b[39;49m\u001b[43mcallbacks\u001b[49m\u001b[43m)\u001b[49m\n\u001b[1;32m    149\u001b[0m \u001b[38;5;28;01mif\u001b[39;00m \u001b[38;5;28mself\u001b[39m\u001b[38;5;241m.\u001b[39muse_memory:\n\u001b[1;32m    150\u001b[0m     \u001b[38;5;28mself\u001b[39m\u001b[38;5;241m.\u001b[39mmemory\u001b[38;5;241m.\u001b[39mgenerate_agent_summary(model_output)\n",
      "File \u001b[0;32m/scratch/qcampbe2/myenvs/mdcrow/lib/python3.12/site-packages/langchain/chains/base.py:166\u001b[0m, in \u001b[0;36mChain.invoke\u001b[0;34m(self, input, config, **kwargs)\u001b[0m\n\u001b[1;32m    164\u001b[0m \u001b[38;5;28;01mexcept\u001b[39;00m \u001b[38;5;167;01mBaseException\u001b[39;00m \u001b[38;5;28;01mas\u001b[39;00m e:\n\u001b[1;32m    165\u001b[0m     run_manager\u001b[38;5;241m.\u001b[39mon_chain_error(e)\n\u001b[0;32m--> 166\u001b[0m     \u001b[38;5;28;01mraise\u001b[39;00m e\n\u001b[1;32m    167\u001b[0m run_manager\u001b[38;5;241m.\u001b[39mon_chain_end(outputs)\n\u001b[1;32m    169\u001b[0m \u001b[38;5;28;01mif\u001b[39;00m include_run_info:\n",
      "File \u001b[0;32m/scratch/qcampbe2/myenvs/mdcrow/lib/python3.12/site-packages/langchain/chains/base.py:156\u001b[0m, in \u001b[0;36mChain.invoke\u001b[0;34m(self, input, config, **kwargs)\u001b[0m\n\u001b[1;32m    153\u001b[0m \u001b[38;5;28;01mtry\u001b[39;00m:\n\u001b[1;32m    154\u001b[0m     \u001b[38;5;28mself\u001b[39m\u001b[38;5;241m.\u001b[39m_validate_inputs(inputs)\n\u001b[1;32m    155\u001b[0m     outputs \u001b[38;5;241m=\u001b[39m (\n\u001b[0;32m--> 156\u001b[0m         \u001b[38;5;28;43mself\u001b[39;49m\u001b[38;5;241;43m.\u001b[39;49m\u001b[43m_call\u001b[49m\u001b[43m(\u001b[49m\u001b[43minputs\u001b[49m\u001b[43m,\u001b[49m\u001b[43m \u001b[49m\u001b[43mrun_manager\u001b[49m\u001b[38;5;241;43m=\u001b[39;49m\u001b[43mrun_manager\u001b[49m\u001b[43m)\u001b[49m\n\u001b[1;32m    157\u001b[0m         \u001b[38;5;28;01mif\u001b[39;00m new_arg_supported\n\u001b[1;32m    158\u001b[0m         \u001b[38;5;28;01melse\u001b[39;00m \u001b[38;5;28mself\u001b[39m\u001b[38;5;241m.\u001b[39m_call(inputs)\n\u001b[1;32m    159\u001b[0m     )\n\u001b[1;32m    161\u001b[0m     final_outputs: Dict[\u001b[38;5;28mstr\u001b[39m, Any] \u001b[38;5;241m=\u001b[39m \u001b[38;5;28mself\u001b[39m\u001b[38;5;241m.\u001b[39mprep_outputs(\n\u001b[1;32m    162\u001b[0m         inputs, outputs, return_only_outputs\n\u001b[1;32m    163\u001b[0m     )\n\u001b[1;32m    164\u001b[0m \u001b[38;5;28;01mexcept\u001b[39;00m \u001b[38;5;167;01mBaseException\u001b[39;00m \u001b[38;5;28;01mas\u001b[39;00m e:\n",
      "File \u001b[0;32m/scratch/qcampbe2/myenvs/mdcrow/lib/python3.12/site-packages/langchain/agents/agent.py:1612\u001b[0m, in \u001b[0;36mAgentExecutor._call\u001b[0;34m(self, inputs, run_manager)\u001b[0m\n\u001b[1;32m   1610\u001b[0m \u001b[38;5;66;03m# We now enter the agent loop (until it returns something).\u001b[39;00m\n\u001b[1;32m   1611\u001b[0m \u001b[38;5;28;01mwhile\u001b[39;00m \u001b[38;5;28mself\u001b[39m\u001b[38;5;241m.\u001b[39m_should_continue(iterations, time_elapsed):\n\u001b[0;32m-> 1612\u001b[0m     next_step_output \u001b[38;5;241m=\u001b[39m \u001b[38;5;28;43mself\u001b[39;49m\u001b[38;5;241;43m.\u001b[39;49m\u001b[43m_take_next_step\u001b[49m\u001b[43m(\u001b[49m\n\u001b[1;32m   1613\u001b[0m \u001b[43m        \u001b[49m\u001b[43mname_to_tool_map\u001b[49m\u001b[43m,\u001b[49m\n\u001b[1;32m   1614\u001b[0m \u001b[43m        \u001b[49m\u001b[43mcolor_mapping\u001b[49m\u001b[43m,\u001b[49m\n\u001b[1;32m   1615\u001b[0m \u001b[43m        \u001b[49m\u001b[43minputs\u001b[49m\u001b[43m,\u001b[49m\n\u001b[1;32m   1616\u001b[0m \u001b[43m        \u001b[49m\u001b[43mintermediate_steps\u001b[49m\u001b[43m,\u001b[49m\n\u001b[1;32m   1617\u001b[0m \u001b[43m        \u001b[49m\u001b[43mrun_manager\u001b[49m\u001b[38;5;241;43m=\u001b[39;49m\u001b[43mrun_manager\u001b[49m\u001b[43m,\u001b[49m\n\u001b[1;32m   1618\u001b[0m \u001b[43m    \u001b[49m\u001b[43m)\u001b[49m\n\u001b[1;32m   1619\u001b[0m     \u001b[38;5;28;01mif\u001b[39;00m \u001b[38;5;28misinstance\u001b[39m(next_step_output, AgentFinish):\n\u001b[1;32m   1620\u001b[0m         \u001b[38;5;28;01mreturn\u001b[39;00m \u001b[38;5;28mself\u001b[39m\u001b[38;5;241m.\u001b[39m_return(\n\u001b[1;32m   1621\u001b[0m             next_step_output, intermediate_steps, run_manager\u001b[38;5;241m=\u001b[39mrun_manager\n\u001b[1;32m   1622\u001b[0m         )\n",
      "File \u001b[0;32m/scratch/qcampbe2/myenvs/mdcrow/lib/python3.12/site-packages/langchain/agents/agent.py:1318\u001b[0m, in \u001b[0;36mAgentExecutor._take_next_step\u001b[0;34m(self, name_to_tool_map, color_mapping, inputs, intermediate_steps, run_manager)\u001b[0m\n\u001b[1;32m   1309\u001b[0m \u001b[38;5;28;01mdef\u001b[39;00m \u001b[38;5;21m_take_next_step\u001b[39m(\n\u001b[1;32m   1310\u001b[0m     \u001b[38;5;28mself\u001b[39m,\n\u001b[1;32m   1311\u001b[0m     name_to_tool_map: Dict[\u001b[38;5;28mstr\u001b[39m, BaseTool],\n\u001b[0;32m   (...)\u001b[0m\n\u001b[1;32m   1315\u001b[0m     run_manager: Optional[CallbackManagerForChainRun] \u001b[38;5;241m=\u001b[39m \u001b[38;5;28;01mNone\u001b[39;00m,\n\u001b[1;32m   1316\u001b[0m ) \u001b[38;5;241m-\u001b[39m\u001b[38;5;241m>\u001b[39m Union[AgentFinish, List[Tuple[AgentAction, \u001b[38;5;28mstr\u001b[39m]]]:\n\u001b[1;32m   1317\u001b[0m     \u001b[38;5;28;01mreturn\u001b[39;00m \u001b[38;5;28mself\u001b[39m\u001b[38;5;241m.\u001b[39m_consume_next_step(\n\u001b[0;32m-> 1318\u001b[0m         \u001b[43m[\u001b[49m\n\u001b[1;32m   1319\u001b[0m \u001b[43m            \u001b[49m\u001b[43ma\u001b[49m\n\u001b[1;32m   1320\u001b[0m \u001b[43m            \u001b[49m\u001b[38;5;28;43;01mfor\u001b[39;49;00m\u001b[43m \u001b[49m\u001b[43ma\u001b[49m\u001b[43m \u001b[49m\u001b[38;5;129;43;01min\u001b[39;49;00m\u001b[43m \u001b[49m\u001b[38;5;28;43mself\u001b[39;49m\u001b[38;5;241;43m.\u001b[39;49m\u001b[43m_iter_next_step\u001b[49m\u001b[43m(\u001b[49m\n\u001b[1;32m   1321\u001b[0m \u001b[43m                \u001b[49m\u001b[43mname_to_tool_map\u001b[49m\u001b[43m,\u001b[49m\n\u001b[1;32m   1322\u001b[0m \u001b[43m                \u001b[49m\u001b[43mcolor_mapping\u001b[49m\u001b[43m,\u001b[49m\n\u001b[1;32m   1323\u001b[0m \u001b[43m                \u001b[49m\u001b[43minputs\u001b[49m\u001b[43m,\u001b[49m\n\u001b[1;32m   1324\u001b[0m \u001b[43m                \u001b[49m\u001b[43mintermediate_steps\u001b[49m\u001b[43m,\u001b[49m\n\u001b[1;32m   1325\u001b[0m \u001b[43m                \u001b[49m\u001b[43mrun_manager\u001b[49m\u001b[43m,\u001b[49m\n\u001b[1;32m   1326\u001b[0m \u001b[43m            \u001b[49m\u001b[43m)\u001b[49m\n\u001b[1;32m   1327\u001b[0m \u001b[43m        \u001b[49m\u001b[43m]\u001b[49m\n\u001b[1;32m   1328\u001b[0m     )\n",
      "File \u001b[0;32m/scratch/qcampbe2/myenvs/mdcrow/lib/python3.12/site-packages/langchain/agents/agent.py:1403\u001b[0m, in \u001b[0;36mAgentExecutor._iter_next_step\u001b[0;34m(self, name_to_tool_map, color_mapping, inputs, intermediate_steps, run_manager)\u001b[0m\n\u001b[1;32m   1401\u001b[0m     \u001b[38;5;28;01myield\u001b[39;00m agent_action\n\u001b[1;32m   1402\u001b[0m \u001b[38;5;28;01mfor\u001b[39;00m agent_action \u001b[38;5;129;01min\u001b[39;00m actions:\n\u001b[0;32m-> 1403\u001b[0m     \u001b[38;5;28;01myield\u001b[39;00m \u001b[38;5;28;43mself\u001b[39;49m\u001b[38;5;241;43m.\u001b[39;49m\u001b[43m_perform_agent_action\u001b[49m\u001b[43m(\u001b[49m\n\u001b[1;32m   1404\u001b[0m \u001b[43m        \u001b[49m\u001b[43mname_to_tool_map\u001b[49m\u001b[43m,\u001b[49m\u001b[43m \u001b[49m\u001b[43mcolor_mapping\u001b[49m\u001b[43m,\u001b[49m\u001b[43m \u001b[49m\u001b[43magent_action\u001b[49m\u001b[43m,\u001b[49m\u001b[43m \u001b[49m\u001b[43mrun_manager\u001b[49m\n\u001b[1;32m   1405\u001b[0m \u001b[43m    \u001b[49m\u001b[43m)\u001b[49m\n",
      "File \u001b[0;32m/scratch/qcampbe2/myenvs/mdcrow/lib/python3.12/site-packages/langchain/agents/agent.py:1425\u001b[0m, in \u001b[0;36mAgentExecutor._perform_agent_action\u001b[0;34m(self, name_to_tool_map, color_mapping, agent_action, run_manager)\u001b[0m\n\u001b[1;32m   1423\u001b[0m         tool_run_kwargs[\u001b[38;5;124m\"\u001b[39m\u001b[38;5;124mllm_prefix\u001b[39m\u001b[38;5;124m\"\u001b[39m] \u001b[38;5;241m=\u001b[39m \u001b[38;5;124m\"\u001b[39m\u001b[38;5;124m\"\u001b[39m\n\u001b[1;32m   1424\u001b[0m     \u001b[38;5;66;03m# We then call the tool on the tool input to get an observation\u001b[39;00m\n\u001b[0;32m-> 1425\u001b[0m     observation \u001b[38;5;241m=\u001b[39m \u001b[43mtool\u001b[49m\u001b[38;5;241;43m.\u001b[39;49m\u001b[43mrun\u001b[49m\u001b[43m(\u001b[49m\n\u001b[1;32m   1426\u001b[0m \u001b[43m        \u001b[49m\u001b[43magent_action\u001b[49m\u001b[38;5;241;43m.\u001b[39;49m\u001b[43mtool_input\u001b[49m\u001b[43m,\u001b[49m\n\u001b[1;32m   1427\u001b[0m \u001b[43m        \u001b[49m\u001b[43mverbose\u001b[49m\u001b[38;5;241;43m=\u001b[39;49m\u001b[38;5;28;43mself\u001b[39;49m\u001b[38;5;241;43m.\u001b[39;49m\u001b[43mverbose\u001b[49m\u001b[43m,\u001b[49m\n\u001b[1;32m   1428\u001b[0m \u001b[43m        \u001b[49m\u001b[43mcolor\u001b[49m\u001b[38;5;241;43m=\u001b[39;49m\u001b[43mcolor\u001b[49m\u001b[43m,\u001b[49m\n\u001b[1;32m   1429\u001b[0m \u001b[43m        \u001b[49m\u001b[43mcallbacks\u001b[49m\u001b[38;5;241;43m=\u001b[39;49m\u001b[43mrun_manager\u001b[49m\u001b[38;5;241;43m.\u001b[39;49m\u001b[43mget_child\u001b[49m\u001b[43m(\u001b[49m\u001b[43m)\u001b[49m\u001b[43m \u001b[49m\u001b[38;5;28;43;01mif\u001b[39;49;00m\u001b[43m \u001b[49m\u001b[43mrun_manager\u001b[49m\u001b[43m \u001b[49m\u001b[38;5;28;43;01melse\u001b[39;49;00m\u001b[43m \u001b[49m\u001b[38;5;28;43;01mNone\u001b[39;49;00m\u001b[43m,\u001b[49m\n\u001b[1;32m   1430\u001b[0m \u001b[43m        \u001b[49m\u001b[38;5;241;43m*\u001b[39;49m\u001b[38;5;241;43m*\u001b[39;49m\u001b[43mtool_run_kwargs\u001b[49m\u001b[43m,\u001b[49m\n\u001b[1;32m   1431\u001b[0m \u001b[43m    \u001b[49m\u001b[43m)\u001b[49m\n\u001b[1;32m   1432\u001b[0m \u001b[38;5;28;01melse\u001b[39;00m:\n\u001b[1;32m   1433\u001b[0m     tool_run_kwargs \u001b[38;5;241m=\u001b[39m \u001b[38;5;28mself\u001b[39m\u001b[38;5;241m.\u001b[39magent\u001b[38;5;241m.\u001b[39mtool_run_logging_kwargs()\n",
      "File \u001b[0;32m/scratch/qcampbe2/myenvs/mdcrow/lib/python3.12/site-packages/langchain_core/tools/base.py:586\u001b[0m, in \u001b[0;36mBaseTool.run\u001b[0;34m(self, tool_input, verbose, start_color, color, callbacks, tags, metadata, run_name, run_id, config, tool_call_id, **kwargs)\u001b[0m\n\u001b[1;32m    584\u001b[0m \u001b[38;5;28;01mif\u001b[39;00m error_to_raise:\n\u001b[1;32m    585\u001b[0m     run_manager\u001b[38;5;241m.\u001b[39mon_tool_error(error_to_raise)\n\u001b[0;32m--> 586\u001b[0m     \u001b[38;5;28;01mraise\u001b[39;00m error_to_raise\n\u001b[1;32m    587\u001b[0m output \u001b[38;5;241m=\u001b[39m _format_output(content, artifact, tool_call_id, \u001b[38;5;28mself\u001b[39m\u001b[38;5;241m.\u001b[39mname, status)\n\u001b[1;32m    588\u001b[0m run_manager\u001b[38;5;241m.\u001b[39mon_tool_end(output, color\u001b[38;5;241m=\u001b[39mcolor, name\u001b[38;5;241m=\u001b[39m\u001b[38;5;28mself\u001b[39m\u001b[38;5;241m.\u001b[39mname, \u001b[38;5;241m*\u001b[39m\u001b[38;5;241m*\u001b[39mkwargs)\n",
      "File \u001b[0;32m/scratch/qcampbe2/myenvs/mdcrow/lib/python3.12/site-packages/langchain_core/tools/base.py:555\u001b[0m, in \u001b[0;36mBaseTool.run\u001b[0;34m(self, tool_input, verbose, start_color, color, callbacks, tags, metadata, run_name, run_id, config, tool_call_id, **kwargs)\u001b[0m\n\u001b[1;32m    553\u001b[0m \u001b[38;5;28;01mif\u001b[39;00m config_param \u001b[38;5;241m:=\u001b[39m _get_runnable_config_param(\u001b[38;5;28mself\u001b[39m\u001b[38;5;241m.\u001b[39m_run):\n\u001b[1;32m    554\u001b[0m     tool_kwargs[config_param] \u001b[38;5;241m=\u001b[39m config\n\u001b[0;32m--> 555\u001b[0m response \u001b[38;5;241m=\u001b[39m \u001b[43mcontext\u001b[49m\u001b[38;5;241;43m.\u001b[39;49m\u001b[43mrun\u001b[49m\u001b[43m(\u001b[49m\u001b[38;5;28;43mself\u001b[39;49m\u001b[38;5;241;43m.\u001b[39;49m\u001b[43m_run\u001b[49m\u001b[43m,\u001b[49m\u001b[43m \u001b[49m\u001b[38;5;241;43m*\u001b[39;49m\u001b[43mtool_args\u001b[49m\u001b[43m,\u001b[49m\u001b[43m \u001b[49m\u001b[38;5;241;43m*\u001b[39;49m\u001b[38;5;241;43m*\u001b[39;49m\u001b[43mtool_kwargs\u001b[49m\u001b[43m)\u001b[49m\n\u001b[1;32m    556\u001b[0m \u001b[38;5;28;01mif\u001b[39;00m \u001b[38;5;28mself\u001b[39m\u001b[38;5;241m.\u001b[39mresponse_format \u001b[38;5;241m==\u001b[39m \u001b[38;5;124m\"\u001b[39m\u001b[38;5;124mcontent_and_artifact\u001b[39m\u001b[38;5;124m\"\u001b[39m:\n\u001b[1;32m    557\u001b[0m     \u001b[38;5;28;01mif\u001b[39;00m \u001b[38;5;129;01mnot\u001b[39;00m \u001b[38;5;28misinstance\u001b[39m(response, \u001b[38;5;28mtuple\u001b[39m) \u001b[38;5;129;01mor\u001b[39;00m \u001b[38;5;28mlen\u001b[39m(response) \u001b[38;5;241m!=\u001b[39m \u001b[38;5;241m2\u001b[39m:\n",
      "File \u001b[0;32m/gpfs/fs2/scratch/qcampbe2/repos/md-agent/mdcrow/tools/base_tools/simulation_tools/setup_and_run.py:952\u001b[0m, in \u001b[0;36mSetUpandRunFunction._run\u001b[0;34m(self, **input_args)\u001b[0m\n\u001b[1;32m    948\u001b[0m \u001b[38;5;28;01mtry\u001b[39;00m:\n\u001b[1;32m    949\u001b[0m     openmmsim \u001b[38;5;241m=\u001b[39m OpenMMSimulation(\n\u001b[1;32m    950\u001b[0m         \u001b[38;5;28minput\u001b[39m, \u001b[38;5;28mself\u001b[39m\u001b[38;5;241m.\u001b[39mpath_registry, save, sim_id, pdb_id\n\u001b[1;32m    951\u001b[0m     )\n\u001b[0;32m--> 952\u001b[0m     \u001b[43mopenmmsim\u001b[49m\u001b[38;5;241;43m.\u001b[39;49m\u001b[43msetup_system\u001b[49m\u001b[43m(\u001b[49m\u001b[43m)\u001b[49m\n\u001b[1;32m    953\u001b[0m     openmmsim\u001b[38;5;241m.\u001b[39msetup_integrator()\n\u001b[1;32m    954\u001b[0m     openmmsim\u001b[38;5;241m.\u001b[39mcreate_simulation()\n",
      "File \u001b[0;32m/gpfs/fs2/scratch/qcampbe2/repos/md-agent/mdcrow/tools/base_tools/simulation_tools/setup_and_run.py:278\u001b[0m, in \u001b[0;36mOpenMMSimulation.setup_system\u001b[0;34m(self)\u001b[0m\n\u001b[1;32m    271\u001b[0m \u001b[38;5;28;01mif\u001b[39;00m \u001b[38;5;28mself\u001b[39m\u001b[38;5;241m.\u001b[39msys_params\u001b[38;5;241m.\u001b[39mget(\u001b[38;5;124m\"\u001b[39m\u001b[38;5;124mnonbondedMethod\u001b[39m\u001b[38;5;124m\"\u001b[39m, \u001b[38;5;28;01mNone\u001b[39;00m) \u001b[38;5;129;01min\u001b[39;00m [\n\u001b[1;32m    272\u001b[0m     CutoffPeriodic,\n\u001b[1;32m    273\u001b[0m     PME,\n\u001b[1;32m    274\u001b[0m ]:\n\u001b[1;32m    275\u001b[0m     \u001b[38;5;28;01mif\u001b[39;00m \u001b[38;5;28mself\u001b[39m\u001b[38;5;241m.\u001b[39msim_params[\u001b[38;5;124m\"\u001b[39m\u001b[38;5;124mEnsemble\u001b[39m\u001b[38;5;124m\"\u001b[39m] \u001b[38;5;241m==\u001b[39m \u001b[38;5;124m\"\u001b[39m\u001b[38;5;124mNPT\u001b[39m\u001b[38;5;124m\"\u001b[39m:\n\u001b[1;32m    276\u001b[0m         \u001b[38;5;28mself\u001b[39m\u001b[38;5;241m.\u001b[39msystem\u001b[38;5;241m.\u001b[39maddForce(\n\u001b[1;32m    277\u001b[0m             MonteCarloBarostat(\n\u001b[0;32m--> 278\u001b[0m                 \u001b[38;5;28;43mself\u001b[39;49m\u001b[38;5;241;43m.\u001b[39;49m\u001b[43mint_params\u001b[49m\u001b[43m[\u001b[49m\u001b[38;5;124;43m\"\u001b[39;49m\u001b[38;5;124;43mPressure\u001b[39;49m\u001b[38;5;124;43m\"\u001b[39;49m\u001b[43m]\u001b[49m,\n\u001b[1;32m    279\u001b[0m                 \u001b[38;5;28mself\u001b[39m\u001b[38;5;241m.\u001b[39mint_params[\u001b[38;5;124m\"\u001b[39m\u001b[38;5;124mTemperature\u001b[39m\u001b[38;5;124m\"\u001b[39m],\n\u001b[1;32m    280\u001b[0m                 \u001b[38;5;28mself\u001b[39m\u001b[38;5;241m.\u001b[39msim_params\u001b[38;5;241m.\u001b[39mget(\u001b[38;5;124m\"\u001b[39m\u001b[38;5;124mbarostatInterval\u001b[39m\u001b[38;5;124m\"\u001b[39m, \u001b[38;5;241m25\u001b[39m),\n\u001b[1;32m    281\u001b[0m             )\n\u001b[1;32m    282\u001b[0m         )\n",
      "\u001b[0;31mKeyError\u001b[0m: 'Pressure'"
     ]
    }
   ],
   "source": [
    "agent_2.run(non_descriptive_prompt_8)"
   ]
  },
  {
   "cell_type": "code",
   "execution_count": 16,
   "metadata": {},
   "outputs": [
    {
     "name": "stdout",
     "output_type": "stream",
     "text": [
      "ckpt_dir: ckpt_95\n",
      "Files found in registry: 1LYZ_144732: PDB file downloaded from RSCB\n",
      " PDBFile ID: 1LYZ_144732\n",
      " 1LYZ_144743: Cleaned File:  Removed Heterogens\n",
      " and Water Removed.  Replaced Nonstandard Residues. Added Hydrogens at pH 7.0. Missing Atoms Added and replaces nonstandard residues. \n",
      " top_sim0_144748: Initial positions for simulation sim0_144748\n",
      " sim0_144748: Basic Simulation of Protein 1LYZ_144743\n",
      " rec0_144752: Simulation trajectory for protein 1LYZ_144743 and simulation sim0_144748\n",
      " rec1_144752: Simulation state log for protein 1LYZ_144743 and simulation sim0_144748\n",
      " rec2_144752: Simulation pdb frames for protein 1LYZ_144743 and simulation sim0_144748\n",
      " top_sim0_145647: Initial positions for simulation sim0_145647\n",
      " sim0_145647: Basic Simulation of Protein 1LYZ_144743\n",
      " rec0_145651: Simulation trajectory for protein 1LYZ_144743 and simulation sim0_145647\n",
      " rec1_145651: Simulation state log for protein 1LYZ_144743 and simulation sim0_145647\n",
      " rec2_145651: Simulation pdb frames for protein 1LYZ_144743 and simulation sim0_145647\n",
      " rec0_150357: dssp values for trajectory with id: rec0_144752\n",
      " rmsd_1LYZ_300K: RMSD for 1LYZ_300K\n",
      " fig0_150401: RMSD plot for 1LYZ_300K\n",
      " rmsd_1LYZ_400K: RMSD for 1LYZ_400K\n",
      " fig0_150405: RMSD plot for 1LYZ_400K\n",
      " rgy_rec0_144752: Radii of gyration per frame for rec0_144752\n",
      " rgy_rec0_145651: Radii of gyration per frame for rec0_145651\n"
     ]
    }
   ],
   "source": [
    "registry = agent_2.path_registry\n",
    "print(\"ckpt_dir:\",os.path.basename(registry.ckpt_dir))\n",
    "paths_and_descriptions = registry.list_path_names_and_descriptions()\n",
    "print(\"\\n\".join(paths_and_descriptions.split(\",\")))"
   ]
  },
  {
   "cell_type": "code",
   "execution_count": 11,
   "metadata": {},
   "outputs": [
    {
     "name": "stdout",
     "output_type": "stream",
     "text": [
      "It's asserted that file paths for rec0_142458, top_sim0_142454, rec0_142458 and top_sim0_143623 exist\n"
     ]
    }
   ],
   "source": [
    "import re\n",
    "import os\n",
    "matches = re.findall(r\"rec0_\\d+\", paths_and_descriptions)\n",
    "traj_id1 = matches[0]\n",
    "traj_id2 = matches[1]\n",
    "traj_path1 = registry.get_mapped_path(traj_id1)\n",
    "traj_path2 = registry.get_mapped_path(traj_id2)\n",
    "assert os.path.exists(traj_path1)\n",
    "assert os.path.exists(traj_path2)\n",
    "\n",
    "matches = re.findall(r\"top_sim0_\\d+\", paths_and_descriptions)\n",
    "top_id1 = matches[0]\n",
    "top_id2 = matches[1]\n",
    "top_path1 = registry.get_mapped_path(top_id1)\n",
    "top_path2 = registry.get_mapped_path(top_id2)\n",
    "assert os.path.exists(top_path1)\n",
    "assert os.path.exists(top_path2)\n",
    "print(f\"It's asserted that file paths for {traj_id1}, {top_id1}, {traj_id2} and {top_id2} exist\")"
   ]
  },
  {
   "cell_type": "code",
   "execution_count": 12,
   "metadata": {},
   "outputs": [
    {
     "name": "stdout",
     "output_type": "stream",
     "text": [
      "From first simulation:\n",
      "Number of residues in total:  6927\n",
      "Number of chains:  3\n",
      "Number of residues in sheets:  16\n",
      "Number of residues in helices:  51\n",
      "Number of residues in coils:  62\n"
     ]
    }
   ],
   "source": [
    "# this checks DSSP for the first frame, change to the last frame if needed\n",
    "import mdtraj as md\n",
    "\n",
    "print(\"From first simulation:\")\n",
    "traj_path1 = registry.get_mapped_path(traj_id1)\n",
    "top_path1 = registry.get_mapped_path(top_id1)\n",
    "traj = md.load(traj_path1, top=top_path1)[0] # first frame\n",
    "secondary_structure = md.compute_dssp(traj,simplified=True)[0]\n",
    "print(\"Number of residues in total: \",traj.n_residues)\n",
    "print(\"Number of chains: \",traj.n_chains)\n",
    "print(\"Number of residues in sheets: \",len([i for i in secondary_structure if i == 'E']))\n",
    "print(\"Number of residues in helices: \",len([i for i in secondary_structure if i == 'H']))\n",
    "print(\"Number of residues in coils: \",len([i for i in secondary_structure if i == 'C']))"
   ]
  },
  {
   "cell_type": "code",
   "execution_count": 13,
   "metadata": {},
   "outputs": [
    {
     "data": {
      "image/png": "[encoded data removed]",
      "text/plain": [
       "<IPython.core.display.Image object>"
      ]
     },
     "execution_count": 13,
     "metadata": {},
     "output_type": "execute_result"
    }
   ],
   "source": [
    "from IPython.display import Image\n",
    "matches = re.findall(r\"fig0_\\d+\", paths_and_descriptions)\n",
    "fig_id1 = matches[0]\n",
    "fig_path1 = registry.get_mapped_path(fig_id1)\n",
    "assert os.path.exists(fig_path1), f\"This figure {fig_id1} does not exist.\"\n",
    "Image(filename=fig_path1)"
   ]
  },
  {
   "cell_type": "code",
   "execution_count": 14,
   "metadata": {},
   "outputs": [
    {
     "data": {
      "image/png": "[encoded data removed]",
      "text/plain": [
       "<IPython.core.display.Image object>"
      ]
     },
     "execution_count": 14,
     "metadata": {},
     "output_type": "execute_result"
    }
   ],
   "source": [
    "fig_id2 = matches[1]\n",
    "fig_path2 = registry.get_mapped_path(fig_id2)\n",
    "assert os.path.exists(fig_path1), f\"This figure {fig_id2} does not exist.\"\n",
    "Image(filename=fig_path2)"
   ]
  },
  {
   "cell_type": "code",
   "execution_count": 15,
   "metadata": {},
   "outputs": [
    {
     "data": {
      "image/png": "[encoded data removed]",
      "text/plain": [
       "<IPython.core.display.Image object>"
      ]
     },
     "execution_count": 15,
     "metadata": {},
     "output_type": "execute_result"
    }
   ],
   "source": [
    "fig_id3 = matches[2]\n",
    "fig_path3 = registry.get_mapped_path(fig_id3)\n",
    "assert os.path.exists(fig_path3), f\"This figure {fig_id3} does not exist.\"\n",
    "Image(filename=fig_path3)"
   ]
  },
  {
   "cell_type": "code",
   "execution_count": 16,
   "metadata": {
    "scrolled": true
   },
   "outputs": [
    {
     "data": {
      "image/png": "[encoded data removed]",
      "text/plain": [
       "<IPython.core.display.Image object>"
      ]
     },
     "execution_count": 16,
     "metadata": {},
     "output_type": "execute_result"
    }
   ],
   "source": [
    "fig_id4 = matches[3]\n",
    "fig_path4 = registry.get_mapped_path(fig_id4)\n",
    "assert os.path.exists(fig_path4), f\"This figure {fig_id4} does not exist.\"\n",
    "Image(filename=fig_path4)"
   ]
  }
 ],
 "metadata": {
  "kernelspec": {
   "display_name": "mdcrow",
   "language": "python",
   "name": "mdcrow"
  },
  "language_info": {
   "codemirror_mode": {
    "name": "ipython",
    "version": 3
   },
   "file_extension": ".py",
   "mimetype": "text/x-python",
   "name": "python",
   "nbconvert_exporter": "python",
   "pygments_lexer": "ipython3",
   "version": "3.12.4"
  }
 },
 "nbformat": 4,
 "nbformat_minor": 4
}
