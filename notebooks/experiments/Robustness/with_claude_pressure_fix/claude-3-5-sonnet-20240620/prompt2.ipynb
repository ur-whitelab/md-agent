{
 "cells": [
  {
   "cell_type": "code",
   "execution_count": 1,
   "metadata": {},
   "outputs": [],
   "source": [
    "from mdagent import MDAgent"
   ]
  },
  {
   "cell_type": "code",
   "execution_count": 2,
   "metadata": {},
   "outputs": [
    {
     "data": {
      "text/plain": [
       "('Complete all of the following tasks: 1. Download the PDB file 1LYZ. 2. Report the secondary structure assignments of the structure.',\n",
       " 'Download the PDB file 1LYZ. Report the secondary structure assignments of the structure.')"
      ]
     },
     "execution_count": 2,
     "metadata": {},
     "output_type": "execute_result"
    }
   ],
   "source": [
    "import sys\n",
    "import os\n",
    "parent_dir = os.path.abspath(os.path.join(os.getcwd(), '..'))\n",
    "sys.path.append(parent_dir)\n",
    "from robustness_prompts import get_prompt\n",
    "\n",
    "prompt_2_descriptive = get_prompt(\"descriptive\", 2)\n",
    "prompt_2_natural = get_prompt(\"natural\", 2)\n",
    "\n",
    "prompt_2_descriptive, prompt_2_natural"
   ]
  },
  {
   "cell_type": "markdown",
   "metadata": {},
   "source": [
    "Required Tasks:\n",
    "- Download\n",
    "- SS Analysis"
   ]
  },
  {
   "cell_type": "code",
   "execution_count": 3,
   "metadata": {},
   "outputs": [],
   "source": [
    "llm_model = \"claude-3-5-sonnet-20240620\"\n",
    "tools = \"all\""
   ]
  },
  {
   "cell_type": "code",
   "execution_count": 4,
   "metadata": {},
   "outputs": [
    {
     "name": "stdout",
     "output_type": "stream",
     "text": [
      "Certainly! I'll complete the tasks step by step using the provided tools.\n",
      "\n",
      "Thought: To accomplish these tasks, I first need to download the PDB file 1LYZ, and then analyze its secondary structure. Let's start by downloading the file.\n",
      "\n",
      "Action:\n",
      "```\n",
      "{\n",
      "    \"action\": \"PDBFileDownloader\",\n",
      "    \"action_input\": \"1LYZ\"\n",
      "}\n",
      "```PDB file found with this ID: 1LYZ\n",
      "Thought: Great, we have successfully downloaded the PDB file for 1LYZ. Now, let's analyze its secondary structure using the ComputeDSSP tool. This tool computes the DSSP (Define Secondary Structure of Proteins) assignment for a protein structure.\n",
      "\n",
      "Action:\n",
      "```\n",
      "{\n",
      "    \"action\": \"ComputeDSSP\",\n",
      "    \"action_input\": {\n",
      "        \"traj_file\": \"1LYZ_172317\",\n",
      "        \"top_file\": \"1LYZ_172317\",\n",
      "        \"target_frames\": \"all\"\n",
      "    }\n",
      "}\n",
      "```Thought: We have successfully downloaded the PDB file for 1LYZ and analyzed its secondary structure using the ComputeDSSP tool. Now, let's summarize the results and provide a final answer to the question.\n",
      "\n",
      "Final Answer: I have completed both tasks as requested:\n",
      "\n",
      "1. The PDB file 1LYZ has been successfully downloaded.\n",
      "\n",
      "2. The secondary structure assignments for 1LYZ are as follows:\n",
      "   - Helices: 50 residues\n",
      "   - Strands (beta sheets): 14 residues\n",
      "   - Coils: 65 residues\n",
      "   - Not assigned or not protein residues: 101\n",
      "\n",
      "In total, the structure contains 129 assigned protein residues (50 + 14 + 65). The majority of the assigned secondary structure is coil (65 residues), followed by helices (50 residues), and then beta strands (14 residues). This suggests that 1LYZ (lysozyme) has a mixed alpha/beta structure, with a significant portion of the protein in a coiled conformation.\n",
      "\n",
      "The large number of unassigned residues (101) likely includes water molecules, ions, and possibly ligands present in the crystal structure, which are not part of the protein chain itself.\n",
      "\n",
      "This analysis provides a comprehensive overview of the secondary structure elements present in the 1LYZ protein structure."
     ]
    },
    {
     "data": {
      "text/plain": [
       "({'input': '\\n    You are an expert molecular dynamics scientist, and\\n    your task is to respond to the question or\\n    solve the problem to the best of your ability using\\n    the provided tools.\\n\\n    You can only respond with a single complete\\n    \\'Thought, Action, Action Input\\' format\\n    OR a single \\'Final Answer\\' format.\\n\\n    Complete format:\\n    Thought: (reflect on your progress and decide what to do next)\\n    Action:\\n    ```\\n    {\\n        \"action\": (the action name, it should be the name of a tool),\\n        \"action_input\": (the input string for the action)\\n    }\\n    \\'\\'\\'\\n\\n    OR\\n\\n    Final Answer: (the final response to the original input\\n    question, once all steps are complete)\\n\\n    You are required to use the tools provided,\\n    using the most specific tool\\n    available for each action.\\n    Your final answer should contain all information\\n    necessary to answer the question and its subquestions.\\n    Before you finish, reflect on your progress and make\\n    sure you have addressed the question in its entirety.\\n\\n    If you are asked to continue\\n    or reference previous runs,\\n    the context will be provided to you.\\n    If context is provided, you should assume\\n    you are continuing a chat.\\n\\n    Here is the input:\\n    Previous Context: None\\n    Question: Complete all of the following tasks: 1. Download the PDB file 1LYZ. 2. Report the secondary structure assignments of the structure. ',\n",
       "  'output': \"Thought: We have successfully downloaded the PDB file for 1LYZ and analyzed its secondary structure using the ComputeDSSP tool. Now, let's summarize the results and provide a final answer to the question.\\n\\nFinal Answer: I have completed both tasks as requested:\\n\\n1. The PDB file 1LYZ has been successfully downloaded.\\n\\n2. The secondary structure assignments for 1LYZ are as follows:\\n   - Helices: 50 residues\\n   - Strands (beta sheets): 14 residues\\n   - Coils: 65 residues\\n   - Not assigned or not protein residues: 101\\n\\nIn total, the structure contains 129 assigned protein residues (50 + 14 + 65). The majority of the assigned secondary structure is coil (65 residues), followed by helices (50 residues), and then beta strands (14 residues). This suggests that 1LYZ (lysozyme) has a mixed alpha/beta structure, with a significant portion of the protein in a coiled conformation.\\n\\nThe large number of unassigned residues (101) likely includes water molecules, ions, and possibly ligands present in the crystal structure, which are not part of the protein chain itself.\\n\\nThis analysis provides a comprehensive overview of the secondary structure elements present in the 1LYZ protein structure.\"},\n",
       " 'W2HR5VBM')"
      ]
     },
     "execution_count": 4,
     "metadata": {},
     "output_type": "execute_result"
    }
   ],
   "source": [
    "agent_1 = MDAgent(agent_type=\"Structured\", model=llm_model, top_k_tools=tools)\n",
    "agent_1.run(prompt_2_descriptive)"
   ]
  },
  {
   "cell_type": "code",
   "execution_count": 5,
   "metadata": {},
   "outputs": [
    {
     "name": "stdout",
     "output_type": "stream",
     "text": [
      "Files found in registry: 1LYZ_172317: PDB file downloaded from RSCB, PDBFile ID: 1LYZ_172317, rec0_172320: dssp values for trajectory with id: 1LYZ_172317\n"
     ]
    }
   ],
   "source": [
    "registry_1 = agent_1.path_registry\n",
    "print(registry_1.list_path_names_and_descriptions())"
   ]
  },
  {
   "cell_type": "code",
   "execution_count": 6,
   "metadata": {},
   "outputs": [],
   "source": [
    "# make sure pdb was downloaded\n",
    "assert os.path.exists(registry_1.get_mapped_path(\"1LYZ_172317\"))"
   ]
  },
  {
   "cell_type": "code",
   "execution_count": 7,
   "metadata": {},
   "outputs": [
    {
     "data": {
      "text/plain": [
       "\"{'residues in helix': 50, 'residues in strand': 14, 'residues in coil': 65, 'residues not assigned, not a protein residue': 101}\""
      ]
     },
     "execution_count": 7,
     "metadata": {},
     "output_type": "execute_result"
    }
   ],
   "source": [
    "# make sure dssp was computed correctly\n",
    "from mdagent.tools.base_tools import ComputeDSSP\n",
    "\n",
    "dssp = ComputeDSSP(registry_1)\n",
    "dssp._run(traj_file= \"1LYZ_172317\", target_frames=\"first\")"
   ]
  },
  {
   "cell_type": "code",
   "execution_count": 8,
   "metadata": {},
   "outputs": [
    {
     "name": "stdout",
     "output_type": "stream",
     "text": [
      "Thought: To answer this question, I need to first download the PDB file 1LYZ, and then analyze its secondary structure. I'll start by downloading the file using the PDBFileDownloader tool.\n",
      "\n",
      "Action:\n",
      "```\n",
      "{\n",
      "    \"action\": \"PDBFileDownloader\",\n",
      "    \"action_input\": \"1LYZ\"\n",
      "}\n",
      "```PDB file found with this ID: 1LYZ\n",
      "Thought: Now that I have successfully downloaded the PDB file for 1LYZ, I need to analyze its secondary structure. The best tool for this purpose is the ComputeDSSP tool, which can compute the secondary structure assignments for the protein.\n",
      "\n",
      "Action:\n",
      "```\n",
      "{\n",
      "    \"action\": \"ComputeDSSP\",\n",
      "    \"action_input\": {\n",
      "        \"traj_file\": \"1LYZ_172405\",\n",
      "        \"top_file\": \"1LYZ_172405\",\n",
      "        \"target_frames\": \"all\"\n",
      "    }\n",
      "}\n",
      "```Thought: Now that I have the secondary structure assignments for 1LYZ, I can provide a final answer summarizing the results.\n",
      "\n",
      "Action:\n",
      "```\n",
      "{\n",
      "  \"action\": \"Final Answer\",\n",
      "  \"action_input\": \"I have downloaded the PDB file 1LYZ and analyzed its secondary structure using the DSSP (Define Secondary Structure of Proteins) algorithm. Here are the secondary structure assignments for 1LYZ:\n",
      "\n",
      "1. Helices: 50 residues\n",
      "2. Beta-strands: 14 residues\n",
      "3. Coil regions: 65 residues\n",
      "4. Not assigned or not protein residues: 101\n",
      "\n",
      "The protein 1LYZ (lysozyme) has a total of 129 amino acid residues (50 + 14 + 65). The secondary structure is predominantly composed of alpha-helices and coil regions, with a smaller proportion of beta-strands. This is consistent with the known structure of lysozyme, which is mainly alpha-helical with some beta-sheet content.\n",
      "\n",
      "The 101 residues not assigned or not protein residues likely include water molecules, ions, and any other non-protein components in the crystal structure, which are common in PDB files.\"\n",
      "}\n",
      "```"
     ]
    },
    {
     "data": {
      "text/plain": [
       "({'input': '\\n    You are an expert molecular dynamics scientist, and\\n    your task is to respond to the question or\\n    solve the problem to the best of your ability using\\n    the provided tools.\\n\\n    You can only respond with a single complete\\n    \\'Thought, Action, Action Input\\' format\\n    OR a single \\'Final Answer\\' format.\\n\\n    Complete format:\\n    Thought: (reflect on your progress and decide what to do next)\\n    Action:\\n    ```\\n    {\\n        \"action\": (the action name, it should be the name of a tool),\\n        \"action_input\": (the input string for the action)\\n    }\\n    \\'\\'\\'\\n\\n    OR\\n\\n    Final Answer: (the final response to the original input\\n    question, once all steps are complete)\\n\\n    You are required to use the tools provided,\\n    using the most specific tool\\n    available for each action.\\n    Your final answer should contain all information\\n    necessary to answer the question and its subquestions.\\n    Before you finish, reflect on your progress and make\\n    sure you have addressed the question in its entirety.\\n\\n    If you are asked to continue\\n    or reference previous runs,\\n    the context will be provided to you.\\n    If context is provided, you should assume\\n    you are continuing a chat.\\n\\n    Here is the input:\\n    Previous Context: None\\n    Question: Download the PDB file 1LYZ. Report the secondary structure assignments of the structure. ',\n",
       "  'output': 'I have downloaded the PDB file 1LYZ and analyzed its secondary structure using the DSSP (Define Secondary Structure of Proteins) algorithm. Here are the secondary structure assignments for 1LYZ:\\n\\n1. Helices: 50 residues\\n2. Beta-strands: 14 residues\\n3. Coil regions: 65 residues\\n4. Not assigned or not protein residues: 101\\n\\nThe protein 1LYZ (lysozyme) has a total of 129 amino acid residues (50 + 14 + 65). The secondary structure is predominantly composed of alpha-helices and coil regions, with a smaller proportion of beta-strands. This is consistent with the known structure of lysozyme, which is mainly alpha-helical with some beta-sheet content.\\n\\nThe 101 residues not assigned or not protein residues likely include water molecules, ions, and any other non-protein components in the crystal structure, which are common in PDB files.'},\n",
       " 'EQMNDZUQ')"
      ]
     },
     "execution_count": 8,
     "metadata": {},
     "output_type": "execute_result"
    }
   ],
   "source": [
    "agent_2 = MDAgent(agent_type=\"Structured\", model=llm_model, top_k_tools=tools)\n",
    "agent_2.run(prompt_2_natural)"
   ]
  },
  {
   "cell_type": "code",
   "execution_count": 9,
   "metadata": {},
   "outputs": [
    {
     "name": "stdout",
     "output_type": "stream",
     "text": [
      "Files found in registry: 1LYZ_172405: PDB file downloaded from RSCB, PDBFile ID: 1LYZ_172405, rec0_172408: dssp values for trajectory with id: 1LYZ_172405\n"
     ]
    }
   ],
   "source": [
    "registry_2 = agent_2.path_registry\n",
    "print(registry_2.list_path_names_and_descriptions())"
   ]
  },
  {
   "cell_type": "code",
   "execution_count": 10,
   "metadata": {},
   "outputs": [],
   "source": [
    "# make sure pdb was downloaded\n",
    "assert os.path.exists(registry_2.get_mapped_path(\"1LYZ_172405\"))"
   ]
  },
  {
   "cell_type": "code",
   "execution_count": 11,
   "metadata": {},
   "outputs": [
    {
     "data": {
      "text/plain": [
       "\"{'residues in helix': 50, 'residues in strand': 14, 'residues in coil': 65, 'residues not assigned, not a protein residue': 101}\""
      ]
     },
     "execution_count": 11,
     "metadata": {},
     "output_type": "execute_result"
    }
   ],
   "source": [
    "# make sure dssp was computed correctly\n",
    "from mdagent.tools.base_tools import ComputeDSSP\n",
    "\n",
    "dssp = ComputeDSSP(registry_2)\n",
    "dssp._run(traj_file= \"1LYZ_172405\", target_frames=\"first\")"
   ]
  },
  {
   "cell_type": "code",
   "execution_count": null,
   "metadata": {},
   "outputs": [],
   "source": []
  }
 ],
 "metadata": {
  "kernelspec": {
   "display_name": "mdagent2",
   "language": "python",
   "name": "python3"
  },
  "language_info": {
   "codemirror_mode": {
    "name": "ipython",
    "version": 3
   },
   "file_extension": ".py",
   "mimetype": "text/x-python",
   "name": "python",
   "nbconvert_exporter": "python",
   "pygments_lexer": "ipython3",
   "version": "3.12.5"
  }
 },
 "nbformat": 4,
 "nbformat_minor": 2
}
