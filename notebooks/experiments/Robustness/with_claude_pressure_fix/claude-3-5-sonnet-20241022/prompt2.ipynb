{
 "cells": [
  {
   "cell_type": "code",
   "execution_count": 1,
   "metadata": {},
   "outputs": [],
   "source": [
    "from mdagent import MDAgent"
   ]
  },
  {
   "cell_type": "code",
   "execution_count": 2,
   "metadata": {},
   "outputs": [
    {
     "data": {
      "text/plain": [
       "('Complete all of the following tasks: 1. Download the PDB file 1LYZ. 2. Report the secondary structure assignments of the structure.',\n",
       " 'Download the PDB file 1LYZ. Report the secondary structure assignments of the structure.')"
      ]
     },
     "execution_count": 2,
     "metadata": {},
     "output_type": "execute_result"
    }
   ],
   "source": [
    "import sys\n",
    "import os\n",
    "parent_dir = os.path.abspath(os.path.join(os.getcwd(), '../..'))\n",
    "sys.path.append(parent_dir)\n",
    "from robustness_prompts import get_prompt\n",
    "\n",
    "prompt_2_descriptive = get_prompt(\"descriptive\", 2)\n",
    "prompt_2_natural = get_prompt(\"natural\", 2)\n",
    "\n",
    "prompt_2_descriptive, prompt_2_natural"
   ]
  },
  {
   "cell_type": "code",
   "execution_count": 3,
   "metadata": {},
   "outputs": [],
   "source": [
    "llm_model = \"claude-3-5-sonnet-20241022\"\n",
    "tools = \"all\""
   ]
  },
  {
   "cell_type": "code",
   "execution_count": 4,
   "metadata": {},
   "outputs": [
    {
     "name": "stdout",
     "output_type": "stream",
     "text": [
      "Thought: Let me break this down into steps. First, I need to download the PDB file 1LYZ using the PDBFileDownloader tool. Then, I can analyze its secondary structure using ComputeDSSP.\n",
      "\n",
      "Action:\n",
      "```\n",
      "{\n",
      "    \"action\": \"PDBFileDownloader\",\n",
      "    \"action_input\": \"1LYZ\"\n",
      "}\n",
      "```\n",
      "\n",
      "PDB file found with this ID: 1LYZ\n",
      "Thought: Now that I have downloaded the PDB file, I can analyze its secondary structure using ComputeDSSP. Since we only have a single structure (not a trajectory), I'll use \"first\" as the target frame.\n",
      "\n",
      "Action:\n",
      "```\n",
      "{\n",
      "    \"action\": \"ComputeDSSP\",\n",
      "    \"action_input\": {\n",
      "        \"traj_file\": \"1LYZ_224054\",\n",
      "        \"target_frames\": \"first\"\n",
      "    }\n",
      "}\n",
      "```\n",
      "\n",
      "Thought: I now have all the information needed to provide a complete answer about the downloaded structure and its secondary structure assignments.\n",
      "\n",
      "Action:\n",
      "```\n",
      "{\n",
      "    \"action\": \"Final Answer\",\n",
      "    \"action_input\": \"I have completed both requested tasks:\n",
      "\n",
      "1. The PDB file 1LYZ was successfully downloaded and saved with ID '1LYZ_224054'.\n",
      "\n",
      "2. The secondary structure analysis of 1LYZ reveals:\n",
      "   - 50 residues are in helical conformations\n",
      "   - 14 residues are in beta strands\n",
      "   - 65 residues are in coil regions\n",
      "   - 101 residues were not assigned (these are typically non-protein residues like water molecules, ligands, etc.)\n",
      "\n",
      "The protein shows a mixed α/β structure with a predominance of helical structure among the assigned protein residues. The secondary structure elements account for all protein residues in the structure, with helices being the most common regular secondary structure element.\"\n",
      "}\n",
      "```"
     ]
    },
    {
     "data": {
      "text/plain": [
       "({'input': '\\n    You are an expert molecular dynamics scientist, and\\n    your task is to respond to the question or\\n    solve the problem to the best of your ability using\\n    the provided tools.\\n\\n    You can only respond with a single complete\\n    \\'Thought, Action, Action Input\\' format\\n    OR a single \\'Final Answer\\' format.\\n\\n    Complete format:\\n    Thought: (reflect on your progress and decide what to do next)\\n    Action:\\n    ```\\n    {\\n        \"action\": (the action name, it should be the name of a tool),\\n        \"action_input\": (the input string for the action)\\n    }\\n    \\'\\'\\'\\n\\n    OR\\n\\n    Final Answer: (the final response to the original input\\n    question, once all steps are complete)\\n\\n    You are required to use the tools provided,\\n    using the most specific tool\\n    available for each action.\\n    Your final answer should contain all information\\n    necessary to answer the question and its subquestions.\\n    Before you finish, reflect on your progress and make\\n    sure you have addressed the question in its entirety.\\n\\n    If you are asked to continue\\n    or reference previous runs,\\n    the context will be provided to you.\\n    If context is provided, you should assume\\n    you are continuing a chat.\\n\\n    Here is the input:\\n    Previous Context: None\\n    Question: Complete all of the following tasks: 1. Download the PDB file 1LYZ. 2. Report the secondary structure assignments of the structure. ',\n",
       "  'output': \"I have completed both requested tasks:\\n\\n1. The PDB file 1LYZ was successfully downloaded and saved with ID '1LYZ_224054'.\\n\\n2. The secondary structure analysis of 1LYZ reveals:\\n   - 50 residues are in helical conformations\\n   - 14 residues are in beta strands\\n   - 65 residues are in coil regions\\n   - 101 residues were not assigned (these are typically non-protein residues like water molecules, ligands, etc.)\\n\\nThe protein shows a mixed α/β structure with a predominance of helical structure among the assigned protein residues. The secondary structure elements account for all protein residues in the structure, with helices being the most common regular secondary structure element.\"},\n",
       " '3UQ5EHQY')"
      ]
     },
     "execution_count": 4,
     "metadata": {},
     "output_type": "execute_result"
    }
   ],
   "source": [
    "agent_1 = MDAgent(agent_type=\"Structured\", model=llm_model, top_k_tools=tools, use_memory=False)\n",
    "agent_1.run(prompt_2_descriptive)"
   ]
  },
  {
   "cell_type": "code",
   "execution_count": 5,
   "metadata": {},
   "outputs": [
    {
     "name": "stdout",
     "output_type": "stream",
     "text": [
      "Files found in registry: 1LYZ_224054: PDB file downloaded from RSCB, PDBFile ID: 1LYZ_224054, rec0_224057: dssp values for trajectory with id: 1LYZ_224054\n"
     ]
    }
   ],
   "source": [
    "registry_1 = agent_1.path_registry\n",
    "print(registry_1.list_path_names_and_descriptions())"
   ]
  },
  {
   "cell_type": "code",
   "execution_count": 7,
   "metadata": {},
   "outputs": [],
   "source": [
    "# make sure pdb was downloaded\n",
    "assert os.path.exists(registry_1.get_mapped_path(\"1LYZ_224054\"))"
   ]
  },
  {
   "cell_type": "code",
   "execution_count": 8,
   "metadata": {},
   "outputs": [
    {
     "data": {
      "text/plain": [
       "\"{'residues in helix': 50, 'residues in strand': 14, 'residues in coil': 65, 'residues not assigned, not a protein residue': 101}\""
      ]
     },
     "execution_count": 8,
     "metadata": {},
     "output_type": "execute_result"
    }
   ],
   "source": [
    "# make sure dssp was computed correctly\n",
    "from mdagent.tools.base_tools import ComputeDSSP\n",
    "\n",
    "dssp = ComputeDSSP(registry_1)\n",
    "dssp._run(traj_file= \"1LYZ_224054\", target_frames=\"first\")"
   ]
  },
  {
   "cell_type": "code",
   "execution_count": 9,
   "metadata": {},
   "outputs": [
    {
     "name": "stdout",
     "output_type": "stream",
     "text": [
      "Thought: I'll help analyze the secondary structure of lysozyme (1LYZ). This will require multiple steps:\n",
      "1. First, download the PDB file\n",
      "2. Then analyze its secondary structure using DSSP\n",
      "\n",
      "Let's start by downloading the PDB file.\n",
      "\n",
      "Action:\n",
      "```\n",
      "{\n",
      "    \"action\": \"PDBFileDownloader\",\n",
      "    \"action_input\": \"1LYZ\"\n",
      "}\n",
      "```\n",
      "\n",
      "PDB file found with this ID: 1LYZ\n",
      "Thought: Now that we have downloaded the PDB file, let's analyze its secondary structure using the ComputeDSSP tool. We'll analyze the last frame since this is a static structure.\n",
      "\n",
      "Action:\n",
      "```\n",
      "{\n",
      "    \"action\": \"ComputeDSSP\",\n",
      "    \"action_input\": {\n",
      "        \"traj_file\": \"1LYZ_224123\",\n",
      "        \"target_frames\": \"last\"\n",
      "    }\n",
      "}\n",
      "```\n",
      "\n",
      "Thought: I can now provide a comprehensive answer about the secondary structure assignments of lysozyme (PDB ID: 1LYZ).\n",
      "\n",
      "Action:\n",
      "```\n",
      "{\n",
      "    \"action\": \"Final Answer\",\n",
      "    \"action_input\": \"The secondary structure analysis of lysozyme (PDB ID: 1LYZ) using DSSP reveals the following composition:\n",
      "\n",
      "1. Alpha Helices: 50 residues (38.8% of protein residues)\n",
      "2. Beta Strands: 14 residues (10.9% of protein residues)\n",
      "3. Coil regions: 65 residues (50.3% of protein residues)\n",
      "\n",
      "The structure also contains 101 non-protein residues (such as water molecules, ions, or ligands) which were not assigned secondary structure.\n",
      "\n",
      "This distribution shows that lysozyme is predominantly composed of alpha helices and coil regions, with a smaller proportion of beta strands, which is consistent with its known structural classification as an alpha+beta protein.\"\n",
      "}\n",
      "```"
     ]
    },
    {
     "data": {
      "text/plain": [
       "({'input': '\\n    You are an expert molecular dynamics scientist, and\\n    your task is to respond to the question or\\n    solve the problem to the best of your ability using\\n    the provided tools.\\n\\n    You can only respond with a single complete\\n    \\'Thought, Action, Action Input\\' format\\n    OR a single \\'Final Answer\\' format.\\n\\n    Complete format:\\n    Thought: (reflect on your progress and decide what to do next)\\n    Action:\\n    ```\\n    {\\n        \"action\": (the action name, it should be the name of a tool),\\n        \"action_input\": (the input string for the action)\\n    }\\n    \\'\\'\\'\\n\\n    OR\\n\\n    Final Answer: (the final response to the original input\\n    question, once all steps are complete)\\n\\n    You are required to use the tools provided,\\n    using the most specific tool\\n    available for each action.\\n    Your final answer should contain all information\\n    necessary to answer the question and its subquestions.\\n    Before you finish, reflect on your progress and make\\n    sure you have addressed the question in its entirety.\\n\\n    If you are asked to continue\\n    or reference previous runs,\\n    the context will be provided to you.\\n    If context is provided, you should assume\\n    you are continuing a chat.\\n\\n    Here is the input:\\n    Previous Context: None\\n    Question: Download the PDB file 1LYZ. Report the secondary structure assignments of the structure. ',\n",
       "  'output': 'The secondary structure analysis of lysozyme (PDB ID: 1LYZ) using DSSP reveals the following composition:\\n\\n1. Alpha Helices: 50 residues (38.8% of protein residues)\\n2. Beta Strands: 14 residues (10.9% of protein residues)\\n3. Coil regions: 65 residues (50.3% of protein residues)\\n\\nThe structure also contains 101 non-protein residues (such as water molecules, ions, or ligands) which were not assigned secondary structure.\\n\\nThis distribution shows that lysozyme is predominantly composed of alpha helices and coil regions, with a smaller proportion of beta strands, which is consistent with its known structural classification as an alpha+beta protein.'},\n",
       " '3DEZAFEQ')"
      ]
     },
     "execution_count": 9,
     "metadata": {},
     "output_type": "execute_result"
    }
   ],
   "source": [
    "agent_2 = MDAgent(agent_type=\"Structured\", model=llm_model, top_k_tools=tools, use_memory=False)\n",
    "agent_2.run(prompt_2_natural)"
   ]
  },
  {
   "cell_type": "code",
   "execution_count": 10,
   "metadata": {},
   "outputs": [
    {
     "name": "stdout",
     "output_type": "stream",
     "text": [
      "Files found in registry: 1LYZ_224123: PDB file downloaded from RSCB, PDBFile ID: 1LYZ_224123, rec0_224126: dssp values for trajectory with id: 1LYZ_224123\n"
     ]
    }
   ],
   "source": [
    "registry_2 = agent_2.path_registry\n",
    "print(registry_2.list_path_names_and_descriptions())"
   ]
  },
  {
   "cell_type": "code",
   "execution_count": 11,
   "metadata": {},
   "outputs": [],
   "source": [
    "# make sure pdb was downloaded\n",
    "assert os.path.exists(registry_2.get_mapped_path(\"1LYZ_224123\"))"
   ]
  },
  {
   "cell_type": "code",
   "execution_count": 12,
   "metadata": {},
   "outputs": [
    {
     "data": {
      "text/plain": [
       "\"{'residues in helix': 50, 'residues in strand': 14, 'residues in coil': 65, 'residues not assigned, not a protein residue': 101}\""
      ]
     },
     "execution_count": 12,
     "metadata": {},
     "output_type": "execute_result"
    }
   ],
   "source": [
    "# make sure dssp was computed correctly\n",
    "from mdagent.tools.base_tools import ComputeDSSP\n",
    "\n",
    "dssp = ComputeDSSP(registry_2)\n",
    "dssp._run(traj_file= \"1LYZ_224123\", target_frames=\"first\")"
   ]
  },
  {
   "cell_type": "code",
   "execution_count": null,
   "metadata": {},
   "outputs": [],
   "source": []
  }
 ],
 "metadata": {
  "kernelspec": {
   "display_name": "mdagent2",
   "language": "python",
   "name": "python3"
  },
  "language_info": {
   "codemirror_mode": {
    "name": "ipython",
    "version": 3
   },
   "file_extension": ".py",
   "mimetype": "text/x-python",
   "name": "python",
   "nbconvert_exporter": "python",
   "pygments_lexer": "ipython3",
   "version": "3.12.5"
  }
 },
 "nbformat": 4,
 "nbformat_minor": 2
}
