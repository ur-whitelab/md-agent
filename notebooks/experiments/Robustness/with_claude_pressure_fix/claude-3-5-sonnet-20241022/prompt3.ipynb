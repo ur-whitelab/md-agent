{
 "cells": [
  {
   "cell_type": "code",
   "execution_count": 8,
   "metadata": {},
   "outputs": [],
   "source": [
    "from mdagent import MDAgent\n",
    "import os \n",
    "import mdtraj as md"
   ]
  },
  {
   "cell_type": "code",
   "execution_count": 9,
   "metadata": {},
   "outputs": [
    {
     "data": {
      "text/plain": [
       "('Complete all of the following tasks: 1. Download the PDB file 1LYZ. 2. Report the secondary structure assignments of the downloaded PDB structure. 3. Simulate for 1 ps at 300 K.',\n",
       " 'Simulate 1LYZ for 1 ps at 300 K. Report the secondary structure assignments of the downloaded PDB structure.')"
      ]
     },
     "execution_count": 9,
     "metadata": {},
     "output_type": "execute_result"
    }
   ],
   "source": [
    "import sys\n",
    "import os\n",
    "parent_dir = os.path.abspath(os.path.join(os.getcwd(), '../..'))\n",
    "sys.path.append(parent_dir)\n",
    "from robustness_prompts import get_prompt\n",
    "\n",
    "prompt_3_descriptive = get_prompt(\"descriptive\", 3)\n",
    "prompt_3_natural = get_prompt(\"natural\", 3)\n",
    "\n",
    "prompt_3_descriptive, prompt_3_natural"
   ]
  },
  {
   "cell_type": "code",
   "execution_count": 10,
   "metadata": {},
   "outputs": [],
   "source": [
    "llm_model = \"claude-3-5-sonnet-20241022\"\n",
    "tools = \"all\""
   ]
  },
  {
   "cell_type": "code",
   "execution_count": 4,
   "metadata": {},
   "outputs": [
    {
     "name": "stdout",
     "output_type": "stream",
     "text": [
      "Thought: Let's break this down into steps. First, we need to download the PDB file 1LYZ using the PDB downloader tool.\n",
      "\n",
      "Action:\n",
      "```\n",
      "{\n",
      "    \"action\": \"PDBFileDownloader\",\n",
      "    \"action_input\": \"1LYZ\"\n",
      "}\n",
      "```\n",
      "\n",
      "PDB file found with this ID: 1LYZ\n",
      "Thought: Now that we have downloaded the PDB file, let's analyze its secondary structure using ComputeDSSP. Then we'll set up and run a simulation.\n",
      "\n",
      "Action:\n",
      "```\n",
      "{\n",
      "    \"action\": \"ComputeDSSP\",\n",
      "    \"action_input\": {\n",
      "        \"traj_file\": \"1LYZ_213440\",\n",
      "        \"target_frames\": \"first\"\n",
      "    }\n",
      "}\n",
      "```\n",
      "\n",
      "Thought: Now that we have the secondary structure information, let's set up and run a short simulation at 300 K for 1 ps. We'll use the SetUpandRunFunction tool with appropriate parameters.\n",
      "\n",
      "Action:\n",
      "```\n",
      "{\n",
      "    \"action\": \"SetUpandRunFunction\",\n",
      "    \"action_input\": {\n",
      "        \"pdb_id\": \"1LYZ_213440\",\n",
      "        \"forcefield_files\": [\"amber14-all.xml\", \"amber14/tip3pfb.xml\"],\n",
      "        \"save\": true,\n",
      "        \"system_params\": {\n",
      "            \"nonbondedMethod\": \"PME\",\n",
      "            \"nonbondedCutoff\": \"1.0 * nanometers\",\n",
      "            \"constraints\": \"HBonds\",\n",
      "            \"rigidWater\": true,\n",
      "            \"ewaldErrorTolerance\": 0.0005,\n",
      "            \"constraintTolerance\": 0.000001,\n",
      "            \"solvate\": true\n",
      "        },\n",
      "        \"integrator_params\": {\n",
      "            \"integrator_type\": \"LangevinMiddle\",\n",
      "            \"Temperature\": \"300 * kelvin\",\n",
      "            \"Friction\": \"1.0 / picoseconds\",\n",
      "            \"Timestep\": \"0.002 * picoseconds\"\n",
      "        },\n",
      "        \"simulation_params\": {\n",
      "            \"Ensemble\": \"NVT\",\n",
      "            \"Number of Steps\": 500,\n",
      "            \"record_interval_steps\": 5,\n",
      "            \"record_params\": [\"step\", \"potentialEnergy\", \"temperature\"]\n",
      "        }\n",
      "    }\n",
      "}\n",
      "```\n",
      "\n",
      "Building system...\n",
      "About to create system...\n",
      "Attempts at creating system: 0/3\n",
      "Error adding solvent ValueError – No template found for residue 1 (LYS).  The set of atoms is similar to HID, but it is missing 8 atoms.  For more information, see https://github.com/openmm/openmm/wiki/Frequently-Asked-Questions#template\n",
      "Residue code: LYS\n",
      "Residue code not in solvent list. Adding forcefield                         not supported.\n",
      "Thought: I see the issue. We need to clean the PDB file first to ensure it has all the necessary atoms and is properly formatted before running the simulation. Let's use the CleaningToolFunction to prepare the structure.\n",
      "\n",
      "Action:\n",
      "```\n",
      "{\n",
      "    \"action\": \"CleaningToolFunction\",\n",
      "    \"action_input\": {\n",
      "        \"pdb_id\": \"1LYZ_213440\",\n",
      "        \"replace_nonstandard_residues\": true,\n",
      "        \"add_missing_atoms\": true,\n",
      "        \"remove_heterogens\": true,\n",
      "        \"remove_water\": true,\n",
      "        \"add_hydrogens\": true,\n",
      "        \"add_hydrogens_ph\": 7.0\n",
      "    }\n",
      "}\n",
      "```\n",
      "\n",
      "file path: /Users/samanthacox/Desktop/md-agent/ckpt/ckpt_32/pdb/1LYZ_raw_20250122_213440.pdb\n",
      "Thought: Now that we have a clean structure, let's try running the simulation again with the cleaned PDB file.\n",
      "\n",
      "Action:\n",
      "```\n",
      "{\n",
      "    \"action\": \"SetUpandRunFunction\",\n",
      "    \"action_input\": {\n",
      "        \"pdb_id\": \"1LYZ_213457\",\n",
      "        \"forcefield_files\": [\"amber14-all.xml\", \"amber14/tip3pfb.xml\"],\n",
      "        \"save\": true,\n",
      "        \"system_params\": {\n",
      "            \"nonbondedMethod\": \"PME\",\n",
      "            \"nonbondedCutoff\": \"1.0 * nanometers\",\n",
      "            \"constraints\": \"HBonds\",\n",
      "            \"rigidWater\": true,\n",
      "            \"ewaldErrorTolerance\": 0.0005,\n",
      "            \"constraintTolerance\": 0.000001,\n",
      "            \"solvate\": true\n",
      "        },\n",
      "        \"integrator_params\": {\n",
      "            \"integrator_type\": \"LangevinMiddle\",\n",
      "            \"Temperature\": \"300 * kelvin\",\n",
      "            \"Friction\": \"1.0 / picoseconds\",\n",
      "            \"Timestep\": \"0.002 * picoseconds\"\n",
      "        },\n",
      "        \"simulation_params\": {\n",
      "            \"Ensemble\": \"NVT\",\n",
      "            \"Number of Steps\": 500,\n",
      "            \"record_interval_steps\": 5,\n",
      "            \"record_params\": [\"step\", \"potentialEnergy\", \"temperature\"]\n",
      "        }\n",
      "    }\n",
      "}\n",
      "```Building system...\n",
      "About to create system...\n",
      "Attempts at creating system: 0/3\n",
      "System built successfully\n",
      "<openmm.openmm.System; proxy of <Swig Object of type 'OpenMM::System *' at 0x189bfc7b0> >\n",
      "Setting up integrator...\n",
      "Creating simulation...\n",
      "simulation set!\n",
      "Performing energy minimization...\n",
      "Minimization complete!\n",
      "Initial Positions saved to initial_positions.pdb\n",
      "Equilibrating...\n",
      "Simulating...\n",
      "Done!\n",
      "Standalone simulation script written to /Users/samanthacox/Desktop/md-agent/ckpt/ckpt_32/simulations/NVT_1LYZ_213457_20250122_213502.py\n",
      "['TRAJ_sim0_213502_1LYZ_213457_20250122_213519.dcd', 'prompt9.ipynb', 'prompt8.ipynb', 'LOG_sim0_213502_1LYZ_213457_20250122_213519.txt', 'prompt10.ipynb', 'prompt2.ipynb', 'prompt6.ipynb', 'TOP_sim0_213502_1LYZ_213457_20250122_213519.pdb', 'prompt4.ipynb', 'prompt3.ipynb', 'prompt1.ipynb', 'prompt5.ipynb', 'prompt7.ipynb']\n",
      "Thought: I can now provide a complete answer summarizing all the tasks we completed.\n",
      "\n",
      "Action:\n",
      "```\n",
      "{\n",
      "    \"action\": \"Final Answer\",\n",
      "    \"action_input\": \"I have completed all three requested tasks. Here are the results:\n",
      "\n",
      "1. PDB file download: Successfully downloaded PDB file 1LYZ (ID: 1LYZ_213440)\n",
      "\n",
      "2. Secondary Structure Analysis:\n",
      "- 50 residues in helix (α-helix)\n",
      "- 14 residues in strand (β-sheet)\n",
      "- 65 residues in coil\n",
      "- 101 residues not assigned or non-protein residues\n",
      "\n",
      "3. Simulation:\n",
      "- Successfully ran a 1 ps simulation at 300 K after cleaning the structure\n",
      "- Used Langevin middle integrator with 0.002 ps timestep\n",
      "- Simulation was performed in NVT ensemble\n",
      "- System was solvated and used PME for long-range electrostatics\n",
      "- The simulation generated three output files:\n",
      "  * Trajectory file (rec0_213519)\n",
      "  * State log file (rec1_213519)\n",
      "  * PDB frames file (rec2_213519)\n",
      "- A standalone script was generated (ID: sim0_213502) that can be used to reproduce the simulation\n",
      "\n",
      "Note: The initial structure required cleaning (adding hydrogens, missing atoms, etc.) before the simulation could be run successfully, which was performed using the cleaning tool.\"\n",
      "}\n",
      "```"
     ]
    },
    {
     "data": {
      "text/plain": [
       "({'input': '\\n    You are an expert molecular dynamics scientist, and\\n    your task is to respond to the question or\\n    solve the problem to the best of your ability using\\n    the provided tools.\\n\\n    You can only respond with a single complete\\n    \\'Thought, Action, Action Input\\' format\\n    OR a single \\'Final Answer\\' format.\\n\\n    Complete format:\\n    Thought: (reflect on your progress and decide what to do next)\\n    Action:\\n    ```\\n    {\\n        \"action\": (the action name, it should be the name of a tool),\\n        \"action_input\": (the input string for the action)\\n    }\\n    \\'\\'\\'\\n\\n    OR\\n\\n    Final Answer: (the final response to the original input\\n    question, once all steps are complete)\\n\\n    You are required to use the tools provided,\\n    using the most specific tool\\n    available for each action.\\n    Your final answer should contain all information\\n    necessary to answer the question and its subquestions.\\n    Before you finish, reflect on your progress and make\\n    sure you have addressed the question in its entirety.\\n\\n    If you are asked to continue\\n    or reference previous runs,\\n    the context will be provided to you.\\n    If context is provided, you should assume\\n    you are continuing a chat.\\n\\n    Here is the input:\\n    Previous Context: None\\n    Question: Complete all of the following tasks: 1. Download the PDB file 1LYZ. 2. Report the secondary structure assignments of the downloaded PDB structure. 3. Simulate for 1 ps at 300 K. ',\n",
       "  'output': 'I have completed all three requested tasks. Here are the results:\\n\\n1. PDB file download: Successfully downloaded PDB file 1LYZ (ID: 1LYZ_213440)\\n\\n2. Secondary Structure Analysis:\\n- 50 residues in helix (α-helix)\\n- 14 residues in strand (β-sheet)\\n- 65 residues in coil\\n- 101 residues not assigned or non-protein residues\\n\\n3. Simulation:\\n- Successfully ran a 1 ps simulation at 300 K after cleaning the structure\\n- Used Langevin middle integrator with 0.002 ps timestep\\n- Simulation was performed in NVT ensemble\\n- System was solvated and used PME for long-range electrostatics\\n- The simulation generated three output files:\\n  * Trajectory file (rec0_213519)\\n  * State log file (rec1_213519)\\n  * PDB frames file (rec2_213519)\\n- A standalone script was generated (ID: sim0_213502) that can be used to reproduce the simulation\\n\\nNote: The initial structure required cleaning (adding hydrogens, missing atoms, etc.) before the simulation could be run successfully, which was performed using the cleaning tool.'},\n",
       " 'UTNDWN59')"
      ]
     },
     "execution_count": 4,
     "metadata": {},
     "output_type": "execute_result"
    }
   ],
   "source": [
    "agent_1 = MDAgent(agent_type=\"Structured\", model=llm_model, top_k_tools=tools, use_memory=False)\n",
    "agent_1.run(prompt_3_descriptive)"
   ]
  },
  {
   "cell_type": "code",
   "execution_count": 5,
   "metadata": {},
   "outputs": [
    {
     "name": "stdout",
     "output_type": "stream",
     "text": [
      "Files found in registry: 1LYZ_213440: PDB file downloaded from RSCB\n",
      " PDBFile ID: 1LYZ_213440\n",
      " rec0_213443: dssp values for trajectory with id: 1LYZ_213440\n",
      " 1LYZ_213457: Cleaned File:  Removed Heterogens\n",
      " and Water Removed.  Replaced Nonstandard Residues. Added Hydrogens at pH 7.0. Missing Atoms Added and replaces nonstandard residues. \n",
      " top_sim0_213502: Initial positions for simulation sim0_213502\n",
      " sim0_213502: Basic Simulation of Protein 1LYZ_213457\n",
      " rec0_213519: Simulation trajectory for protein 1LYZ_213457 and simulation sim0_213502\n",
      " rec1_213519: Simulation state log for protein 1LYZ_213457 and simulation sim0_213502\n",
      " rec2_213519: Simulation pdb frames for protein 1LYZ_213457 and simulation sim0_213502\n"
     ]
    }
   ],
   "source": [
    "registry_1 = agent_1.path_registry\n",
    "print(registry_1.list_path_names_and_descriptions().replace(\",\", \"\\n\"))"
   ]
  },
  {
   "cell_type": "code",
   "execution_count": 5,
   "metadata": {},
   "outputs": [],
   "source": [
    "# make sure pdb was downloaded\n",
    "assert os.path.exists(registry_1.get_mapped_path(\"1LYZ_213440\"))"
   ]
  },
  {
   "cell_type": "code",
   "execution_count": 6,
   "metadata": {},
   "outputs": [
    {
     "data": {
      "text/plain": [
       "\"{'residues in helix': 50, 'residues in strand': 14, 'residues in coil': 65, 'residues not assigned, not a protein residue': 101}\""
      ]
     },
     "execution_count": 6,
     "metadata": {},
     "output_type": "execute_result"
    }
   ],
   "source": [
    "# make sure dssp was computed correctly\n",
    "from mdagent.tools.base_tools import ComputeDSSP\n",
    "\n",
    "dssp = ComputeDSSP(registry_1)\n",
    "dssp._run(traj_file= \"1LYZ_213440\", target_frames=\"first\")"
   ]
  },
  {
   "cell_type": "code",
   "execution_count": 7,
   "metadata": {},
   "outputs": [],
   "source": [
    "# make sure trajectory and topology exist\n",
    "traj_path_1 = registry_1.get_mapped_path(\"rec0_213519\")\n",
    "top_path_1 = registry_1.get_mapped_path(\"top_sim0_213502\")\n",
    "\n",
    "assert os.path.exists(traj_path_1)\n",
    "assert os.path.exists(top_path_1)"
   ]
  },
  {
   "cell_type": "code",
   "execution_count": 11,
   "metadata": {},
   "outputs": [
    {
     "name": "stdout",
     "output_type": "stream",
     "text": [
      "Thought: Let me break this down into steps:\n",
      "1. First, I need to download the PDB file for 1LYZ\n",
      "2. Then I need to clean the structure\n",
      "3. Run a simulation\n",
      "4. Finally analyze the secondary structure\n",
      "\n",
      "Let's start by downloading the PDB file.\n",
      "\n",
      "Action:\n",
      "```\n",
      "{\n",
      "    \"action\": \"PDBFileDownloader\",\n",
      "    \"action_input\": \"1LYZ\"\n",
      "}\n",
      "```\n",
      "\n",
      "PDB file found with this ID: 1LYZ\n",
      "Thought: Now that I have the PDB file, I should clean it and then run a simulation. After that, I can analyze the secondary structure. Let's clean the structure first.\n",
      "\n",
      "Action:\n",
      "```\n",
      "{\n",
      "    \"action\": \"CleaningToolFunction\",\n",
      "    \"action_input\": {\n",
      "        \"pdb_id\": \"1LYZ_221539\",\n",
      "        \"replace_nonstandard_residues\": true,\n",
      "        \"add_missing_atoms\": true,\n",
      "        \"remove_heterogens\": true,\n",
      "        \"remove_water\": true,\n",
      "        \"add_hydrogens\": true,\n",
      "        \"add_hydrogens_ph\": 7.0\n",
      "    }\n",
      "}\n",
      "```\n",
      "\n",
      "file path: /Users/samanthacox/Desktop/md-agent/ckpt/ckpt_41/pdb/1LYZ_raw_20250122_221539.pdb\n",
      "Thought: Now that I have the cleaned structure, I can set up and run a short simulation for 1 ps at 300 K. I'll use the SetUpandRunFunction tool with appropriate parameters.\n",
      "\n",
      "Action:\n",
      "```\n",
      "{\n",
      "    \"action\": \"SetUpandRunFunction\",\n",
      "    \"action_input\": {\n",
      "        \"pdb_id\": \"1LYZ_221544\",\n",
      "        \"forcefield_files\": [\"amber14-all.xml\", \"amber14/tip3pfb.xml\"],\n",
      "        \"save\": true,\n",
      "        \"system_params\": {\n",
      "            \"nonbondedMethod\": \"PME\",\n",
      "            \"nonbondedCutoff\": \"1.0 * nanometers\",\n",
      "            \"constraints\": \"HBonds\",\n",
      "            \"rigidWater\": true,\n",
      "            \"ewaldErrorTolerance\": 0.0005,\n",
      "            \"constraintTolerance\": 0.000001,\n",
      "            \"solvate\": true\n",
      "        },\n",
      "        \"integrator_params\": {\n",
      "            \"integrator_type\": \"LangevinMiddle\",\n",
      "            \"Temperature\": \"300 * kelvin\",\n",
      "            \"Friction\": \"1.0 / picoseconds\",\n",
      "            \"Timestep\": \"0.002 * picoseconds\"\n",
      "        },\n",
      "        \"simulation_params\": {\n",
      "            \"Ensemble\": \"NPT\",\n",
      "            \"Number of Steps\": 500,\n",
      "            \"record_interval_steps\": 5,\n",
      "            \"record_params\": [\"step\", \"potentialEnergy\", \"temperature\"]\n",
      "        }\n",
      "    }\n",
      "}\n",
      "```\n",
      "\n",
      "Building system...\n",
      "About to create system...\n",
      "Attempts at creating system: 0/3\n",
      "System built successfully\n",
      "<openmm.openmm.System; proxy of <Swig Object of type 'OpenMM::System *' at 0x189959350> >\n",
      "Warning: 'Pressure' not provided.  Using default pressure of 1.0 atm.\n",
      "Setting up integrator...\n",
      "Creating simulation...\n",
      "simulation set!\n",
      "Performing energy minimization...\n",
      "Minimization complete!\n",
      "Initial Positions saved to initial_positions.pdb\n",
      "Equilibrating...\n",
      "Simulating...\n",
      "Done!\n",
      "Standalone simulation script written to /Users/samanthacox/Desktop/md-agent/ckpt/ckpt_41/simulations/NPT_1LYZ_221544_20250122_221550.py\n",
      "['prompt9.ipynb', 'LOG_sim0_221550_1LYZ_221544_20250122_221554.txt', 'prompt8.ipynb', 'TRAJ_sim0_221550_1LYZ_221544_20250122_221554.dcd', 'prompt10.ipynb', 'prompt2.ipynb', 'prompt6.ipynb', 'prompt4.ipynb', 'prompt3.ipynb', 'prompt1.ipynb', 'prompt5.ipynb', 'prompt7.ipynb', 'TOP_sim0_221550_1LYZ_221544_20250122_221554.pdb']\n",
      "Thought: Now that the simulation is complete, I can analyze the secondary structure of the protein using the ComputeDSSP tool. Since we want to know the secondary structure assignments of the downloaded PDB structure, I'll analyze the first frame.\n",
      "\n",
      "Action:\n",
      "```\n",
      "{\n",
      "    \"action\": \"ComputeDSSP\",\n",
      "    \"action_input\": {\n",
      "        \"traj_file\": \"rec2_221554\",\n",
      "        \"top_file\": \"top_sim0_221550\",\n",
      "        \"target_frames\": \"first\"\n",
      "    }\n",
      "}\n",
      "```\n",
      "\n",
      "Thought: I now have all the necessary information to provide a complete answer about the simulation and secondary structure analysis of 1LYZ.\n",
      "\n",
      "Action:\n",
      "```\n",
      "{\n",
      "    \"action\": \"Final Answer\",\n",
      "    \"action_input\": \"I have successfully simulated lysozyme (PDB ID: 1LYZ) for 1 ps at 300 K and analyzed its secondary structure. Here are the details:\n",
      "\n",
      "1. The structure was first cleaned and prepared for simulation, including adding hydrogens at pH 7.0 and removing heterogens and water molecules.\n",
      "\n",
      "2. The simulation was performed with the following specifications:\n",
      "   - Temperature: 300 K\n",
      "   - Time: 1 ps (500 steps with 2 fs timestep)\n",
      "   - Force field: AMBER14\n",
      "   - Integrator: Langevin Middle\n",
      "   - Ensemble: NPT\n",
      "   - Periodic boundary conditions with PME\n",
      "\n",
      "3. Secondary Structure Analysis of the initial structure:\n",
      "   - 53 residues are in helical conformations (41.1%)\n",
      "   - 16 residues are in β-strand conformations (12.4%)\n",
      "   - 60 residues are in coil regions (46.5%)\n",
      "\n",
      "This secondary structure distribution is typical for lysozyme, which is known to be a predominantly α-helical protein with some β-sheet content. The structure contains a mix of α-helices, β-strands, and connecting loops/coils, which is consistent with its known fold.\"\n",
      "}\n",
      "```"
     ]
    },
    {
     "data": {
      "text/plain": [
       "({'input': '\\n    You are an expert molecular dynamics scientist, and\\n    your task is to respond to the question or\\n    solve the problem to the best of your ability using\\n    the provided tools.\\n\\n    You can only respond with a single complete\\n    \\'Thought, Action, Action Input\\' format\\n    OR a single \\'Final Answer\\' format.\\n\\n    Complete format:\\n    Thought: (reflect on your progress and decide what to do next)\\n    Action:\\n    ```\\n    {\\n        \"action\": (the action name, it should be the name of a tool),\\n        \"action_input\": (the input string for the action)\\n    }\\n    \\'\\'\\'\\n\\n    OR\\n\\n    Final Answer: (the final response to the original input\\n    question, once all steps are complete)\\n\\n    You are required to use the tools provided,\\n    using the most specific tool\\n    available for each action.\\n    Your final answer should contain all information\\n    necessary to answer the question and its subquestions.\\n    Before you finish, reflect on your progress and make\\n    sure you have addressed the question in its entirety.\\n\\n    If you are asked to continue\\n    or reference previous runs,\\n    the context will be provided to you.\\n    If context is provided, you should assume\\n    you are continuing a chat.\\n\\n    Here is the input:\\n    Previous Context: None\\n    Question: Simulate 1LYZ for 1 ps at 300 K. Report the secondary structure assignments of the downloaded PDB structure. ',\n",
       "  'output': 'I have successfully simulated lysozyme (PDB ID: 1LYZ) for 1 ps at 300 K and analyzed its secondary structure. Here are the details:\\n\\n1. The structure was first cleaned and prepared for simulation, including adding hydrogens at pH 7.0 and removing heterogens and water molecules.\\n\\n2. The simulation was performed with the following specifications:\\n   - Temperature: 300 K\\n   - Time: 1 ps (500 steps with 2 fs timestep)\\n   - Force field: AMBER14\\n   - Integrator: Langevin Middle\\n   - Ensemble: NPT\\n   - Periodic boundary conditions with PME\\n\\n3. Secondary Structure Analysis of the initial structure:\\n   - 53 residues are in helical conformations (41.1%)\\n   - 16 residues are in β-strand conformations (12.4%)\\n   - 60 residues are in coil regions (46.5%)\\n\\nThis secondary structure distribution is typical for lysozyme, which is known to be a predominantly α-helical protein with some β-sheet content. The structure contains a mix of α-helices, β-strands, and connecting loops/coils, which is consistent with its known fold.'},\n",
       " 'FNMQAI42')"
      ]
     },
     "execution_count": 11,
     "metadata": {},
     "output_type": "execute_result"
    }
   ],
   "source": [
    "agent_2 = MDAgent(agent_type=\"Structured\", model=llm_model, top_k_tools=tools, use_memory=False)\n",
    "agent_2.run(prompt_3_natural)"
   ]
  },
  {
   "cell_type": "code",
   "execution_count": 12,
   "metadata": {},
   "outputs": [
    {
     "name": "stdout",
     "output_type": "stream",
     "text": [
      "Files found in registry: 1LYZ_221539: PDB file downloaded from RSCB\n",
      " PDBFile ID: 1LYZ_221539\n",
      " 1LYZ_221544: Cleaned File:  Removed Heterogens\n",
      " and Water Removed.  Replaced Nonstandard Residues. Added Hydrogens at pH 7.0. Missing Atoms Added and replaces nonstandard residues. \n",
      " top_sim0_221550: Initial positions for simulation sim0_221550\n",
      " sim0_221550: Basic Simulation of Protein 1LYZ_221544\n",
      " rec0_221554: Simulation trajectory for protein 1LYZ_221544 and simulation sim0_221550\n",
      " rec1_221554: Simulation state log for protein 1LYZ_221544 and simulation sim0_221550\n",
      " rec2_221554: Simulation pdb frames for protein 1LYZ_221544 and simulation sim0_221550\n",
      " rec0_222323: dssp values for trajectory with id: rec2_221554\n"
     ]
    }
   ],
   "source": [
    "registry_2 = agent_2.path_registry\n",
    "print(registry_2.list_path_names_and_descriptions().replace(\",\", \"\\n\"))"
   ]
  },
  {
   "cell_type": "code",
   "execution_count": 13,
   "metadata": {},
   "outputs": [],
   "source": [
    "# make sure pdb was downloaded\n",
    "assert os.path.exists(registry_2.get_mapped_path(\"1LYZ_221539\"))"
   ]
  },
  {
   "cell_type": "code",
   "execution_count": 14,
   "metadata": {},
   "outputs": [
    {
     "data": {
      "text/plain": [
       "\"{'residues in helix': 50, 'residues in strand': 14, 'residues in coil': 65, 'residues not assigned, not a protein residue': 101}\""
      ]
     },
     "execution_count": 14,
     "metadata": {},
     "output_type": "execute_result"
    }
   ],
   "source": [
    "# make sure dssp was computed correctly\n",
    "from mdagent.tools.base_tools import ComputeDSSP\n",
    "\n",
    "dssp = ComputeDSSP(registry_2)\n",
    "dssp._run(traj_file= \"1LYZ_221539\", target_frames=\"first\")"
   ]
  },
  {
   "cell_type": "code",
   "execution_count": 15,
   "metadata": {},
   "outputs": [],
   "source": [
    "# make sure trajectory and topology exist\n",
    "traj_path_2 = registry_2.get_mapped_path(\"sim0_221550\")\n",
    "top_path_2 = registry_2.get_mapped_path(\"top_sim0_221550\")\n",
    "\n",
    "assert os.path.exists(traj_path_2)\n",
    "assert os.path.exists(top_path_2)"
   ]
  },
  {
   "cell_type": "code",
   "execution_count": null,
   "metadata": {},
   "outputs": [],
   "source": []
  }
 ],
 "metadata": {
  "kernelspec": {
   "display_name": "mdagent2",
   "language": "python",
   "name": "python3"
  },
  "language_info": {
   "codemirror_mode": {
    "name": "ipython",
    "version": 3
   },
   "file_extension": ".py",
   "mimetype": "text/x-python",
   "name": "python",
   "nbconvert_exporter": "python",
   "pygments_lexer": "ipython3",
   "version": "3.12.5"
  }
 },
 "nbformat": 4,
 "nbformat_minor": 2
}
