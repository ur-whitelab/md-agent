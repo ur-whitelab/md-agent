{
 "cells": [
  {
   "cell_type": "code",
   "execution_count": 1,
   "metadata": {},
   "outputs": [],
   "source": [
    "from mdagent import MDAgent\n",
    "import os\n",
    "import mdtraj as md"
   ]
  },
  {
   "cell_type": "code",
   "execution_count": 2,
   "metadata": {},
   "outputs": [
    {
     "data": {
      "text/plain": [
       "('Complete all of the following tasks: 1. Download the PDB file 1LYZ. 2. Report the secondary structure assignments of the downloaded PDB structure. 3. Simulate for 1 ps at 300 K. 4. Compute the RMSD.',\n",
       " 'Simulate 1LYZ for 1 ps at 300 K. Report the secondary structure assignments of the downloaded PDB structure, and compute the RMSD of the simulation.')"
      ]
     },
     "execution_count": 2,
     "metadata": {},
     "output_type": "execute_result"
    }
   ],
   "source": [
    "import sys\n",
    "import os\n",
    "parent_dir = os.path.abspath(os.path.join(os.getcwd(), '../..'))\n",
    "sys.path.append(parent_dir)\n",
    "from robustness_prompts import get_prompt\n",
    "\n",
    "prompt_4_descriptive = get_prompt(\"descriptive\", 4)\n",
    "prompt_4_natural = get_prompt(\"natural\", 4)\n",
    "\n",
    "prompt_4_descriptive, prompt_4_natural"
   ]
  },
  {
   "cell_type": "code",
   "execution_count": 3,
   "metadata": {},
   "outputs": [],
   "source": [
    "llm_model = \"claude-3-5-sonnet-20241022\"\n",
    "tools = \"all\""
   ]
  },
  {
   "cell_type": "code",
   "execution_count": 4,
   "metadata": {},
   "outputs": [
    {
     "name": "stdout",
     "output_type": "stream",
     "text": [
      "Thought: I'll help complete these tasks step by step. Let's start with downloading the PDB file 1LYZ.\n",
      "\n",
      "Action:\n",
      "```\n",
      "{\n",
      "    \"action\": \"PDBFileDownloader\",\n",
      "    \"action_input\": \"1LYZ\"\n",
      "}\n",
      "```\n",
      "\n",
      "PDB file found with this ID: 1LYZ\n",
      "Thought: Now that we have the PDB file, let's analyze its secondary structure using ComputeDSSP. Then we'll set up and run a simulation, and finally compute the RMSD.\n",
      "\n",
      "Action:\n",
      "```\n",
      "{\n",
      "    \"action\": \"ComputeDSSP\",\n",
      "    \"action_input\": {\n",
      "        \"traj_file\": \"1LYZ_222634\",\n",
      "        \"target_frames\": \"first\"\n",
      "    }\n",
      "}\n",
      "```\n",
      "\n",
      "Thought: Now that we have the secondary structure information, let's set up and run a short simulation. We'll use the SetUpandRunFunction with appropriate parameters for a 1 ps simulation at 300 K.\n",
      "\n",
      "Action:\n",
      "```\n",
      "{\n",
      "    \"action\": \"SetUpandRunFunction\",\n",
      "    \"action_input\": {\n",
      "        \"pdb_id\": \"1LYZ_222634\",\n",
      "        \"forcefield_files\": [\"amber14-all.xml\", \"amber14/tip3p.xml\"],\n",
      "        \"save\": true,\n",
      "        \"system_params\": {\n",
      "            \"nonbondedMethod\": \"PME\",\n",
      "            \"nonbondedCutoff\": \"1.0 * nanometers\",\n",
      "            \"constraints\": \"HBonds\",\n",
      "            \"rigidWater\": true,\n",
      "            \"ewaldErrorTolerance\": 0.0005,\n",
      "            \"constraintTolerance\": 0.000001,\n",
      "            \"solvate\": true\n",
      "        },\n",
      "        \"integrator_params\": {\n",
      "            \"integrator_type\": \"LangevinMiddle\",\n",
      "            \"Temperature\": \"300 * kelvin\",\n",
      "            \"Friction\": \"1.0 / picoseconds\",\n",
      "            \"Timestep\": \"0.002 * picoseconds\"\n",
      "        },\n",
      "        \"simulation_params\": {\n",
      "            \"Ensemble\": \"NPT\",\n",
      "            \"Number of Steps\": 500,\n",
      "            \"record_interval_steps\": 5,\n",
      "            \"record_params\": [\"step\", \"potentialEnergy\", \"temperature\", \"density\"]\n",
      "        }\n",
      "    }\n",
      "}\n",
      "```\n",
      "\n",
      "Building system...\n",
      "About to create system...\n",
      "Attempts at creating system: 0/3\n",
      "Error adding solvent ValueError – No template found for residue 1 (LYS).  The set of atoms is similar to HID, but it is missing 8 atoms.  For more information, see https://github.com/openmm/openmm/wiki/Frequently-Asked-Questions#template\n",
      "Residue code: LYS\n",
      "Residue code not in solvent list. Adding forcefield                         not supported.\n",
      "Thought: I see the issue. We need to clean the PDB file first to ensure it has all the necessary atoms and is properly formatted before running the simulation. Let's use the CleaningToolFunction to prepare the structure.\n",
      "\n",
      "Action:\n",
      "```\n",
      "{\n",
      "    \"action\": \"CleaningToolFunction\",\n",
      "    \"action_input\": {\n",
      "        \"pdb_id\": \"1LYZ_222634\",\n",
      "        \"replace_nonstandard_residues\": true,\n",
      "        \"add_missing_atoms\": true,\n",
      "        \"remove_heterogens\": true,\n",
      "        \"remove_water\": true,\n",
      "        \"add_hydrogens\": true,\n",
      "        \"add_hydrogens_ph\": 7.0\n",
      "    }\n",
      "}\n",
      "```\n",
      "\n",
      "file path: /Users/samanthacox/Desktop/md-agent/ckpt/ckpt_44/pdb/1LYZ_raw_20250122_222634.pdb\n",
      "Thought: Now that we have a clean structure, let's try running the simulation again with the cleaned PDB file.\n",
      "\n",
      "Action:\n",
      "```\n",
      "{\n",
      "    \"action\": \"SetUpandRunFunction\",\n",
      "    \"action_input\": {\n",
      "        \"pdb_id\": \"1LYZ_222647\",\n",
      "        \"forcefield_files\": [\"amber14-all.xml\", \"amber14/tip3p.xml\"],\n",
      "        \"save\": true,\n",
      "        \"system_params\": {\n",
      "            \"nonbondedMethod\": \"PME\",\n",
      "            \"nonbondedCutoff\": \"1.0 * nanometers\",\n",
      "            \"constraints\": \"HBonds\",\n",
      "            \"rigidWater\": true,\n",
      "            \"ewaldErrorTolerance\": 0.0005,\n",
      "            \"constraintTolerance\": 0.000001,\n",
      "            \"solvate\": true\n",
      "        },\n",
      "        \"integrator_params\": {\n",
      "            \"integrator_type\": \"LangevinMiddle\",\n",
      "            \"Temperature\": \"300 * kelvin\",\n",
      "            \"Friction\": \"1.0 / picoseconds\",\n",
      "            \"Timestep\": \"0.002 * picoseconds\"\n",
      "        },\n",
      "        \"simulation_params\": {\n",
      "            \"Ensemble\": \"NPT\",\n",
      "            \"Number of Steps\": 500,\n",
      "            \"record_interval_steps\": 5,\n",
      "            \"record_params\": [\"step\", \"potentialEnergy\", \"temperature\", \"density\"]\n",
      "        }\n",
      "    }\n",
      "}\n",
      "```Building system...\n",
      "About to create system...\n",
      "Attempts at creating system: 0/3\n",
      "System built successfully\n",
      "<openmm.openmm.System; proxy of <Swig Object of type 'OpenMM::System *' at 0x187690c30> >\n",
      "Warning: 'Pressure' not provided.  Using default pressure of 1.0 atm.\n",
      "Setting up integrator...\n",
      "Creating simulation...\n",
      "simulation set!\n",
      "Performing energy minimization...\n",
      "Minimization complete!\n",
      "Initial Positions saved to initial_positions.pdb\n",
      "Equilibrating...\n",
      "Simulating...\n",
      "Done!\n",
      "Standalone simulation script written to /Users/samanthacox/Desktop/md-agent/ckpt/ckpt_44/simulations/NPT_1LYZ_222647_20250122_222652.py\n",
      "['prompt9.ipynb', 'TRAJ_sim0_222652_1LYZ_222647_20250122_222656.dcd', 'prompt8.ipynb', 'LOG_sim0_222652_1LYZ_222647_20250122_222656.txt', 'prompt10.ipynb', 'TOP_sim0_222652_1LYZ_222647_20250122_222656.pdb', 'prompt2.ipynb', 'prompt6.ipynb', 'prompt4.ipynb', 'prompt3.ipynb', 'prompt1.ipynb', 'prompt5.ipynb', 'prompt7.ipynb']\n",
      "Thought: Now that we have successfully run the simulation, let's compute the RMSD to complete all requested tasks. We'll use the ComputeRMSD tool with the trajectory and topology files from our simulation.\n",
      "\n",
      "Action:\n",
      "```\n",
      "{\n",
      "    \"action\": \"ComputeRMSD\",\n",
      "    \"action_input\": {\n",
      "        \"top_id\": \"top_sim0_222652\",\n",
      "        \"traj_id\": \"rec0_222656\",\n",
      "        \"select\": \"protein\",\n",
      "        \"mol_name\": \"1LYZ\"\n",
      "    }\n",
      "}\n",
      "```\n",
      "\n",
      "Calculating RMSD...\n",
      "Data saved to /Users/samanthacox/Desktop/md-agent/ckpt/ckpt_44/records/rmsd_1LYZ.csv\n",
      "Plot saved to /Users/samanthacox/Desktop/md-agent/ckpt/ckpt_44/figures/FIG_rmsd_1LYZ_20250122_223139.png\n",
      "Thought: Now I have completed all tasks and can provide a comprehensive final answer summarizing all the results.\n",
      "\n",
      "Action:\n",
      "```\n",
      "{\n",
      "    \"action\": \"Final Answer\",\n",
      "    \"action_input\": \"I have completed all requested tasks. Here are the results:\n",
      "\n",
      "1. PDB file 1LYZ was successfully downloaded (ID: 1LYZ_222634).\n",
      "\n",
      "2. Secondary Structure Analysis:\n",
      "   - 50 residues in helix\n",
      "   - 14 residues in strand\n",
      "   - 65 residues in coil\n",
      "   - 101 residues not assigned or non-protein residues\n",
      "\n",
      "3. Simulation:\n",
      "   - Successfully ran a 1 ps simulation at 300 K after cleaning the structure\n",
      "   - Used NPT ensemble with Langevin dynamics\n",
      "   - Simulation trajectory and state logs were saved\n",
      "   - Simulation parameters:\n",
      "     * Temperature: 300 K\n",
      "     * Timestep: 0.002 ps\n",
      "     * PME for long-range interactions\n",
      "     * HBonds constraints\n",
      "     * Solvated system\n",
      "\n",
      "4. RMSD Analysis:\n",
      "   - RMSD was successfully calculated for the protein\n",
      "   - Results saved to file 'rmsd_1LYZ'\n",
      "   - Visualization plot saved as 'fig0_223139'\n",
      "\n",
      "All tasks have been completed successfully, with proper structure preparation, simulation setup, and analysis.\"\n",
      "}\n",
      "```"
     ]
    },
    {
     "data": {
      "text/plain": [
       "({'input': '\\n    You are an expert molecular dynamics scientist, and\\n    your task is to respond to the question or\\n    solve the problem to the best of your ability using\\n    the provided tools.\\n\\n    You can only respond with a single complete\\n    \\'Thought, Action, Action Input\\' format\\n    OR a single \\'Final Answer\\' format.\\n\\n    Complete format:\\n    Thought: (reflect on your progress and decide what to do next)\\n    Action:\\n    ```\\n    {\\n        \"action\": (the action name, it should be the name of a tool),\\n        \"action_input\": (the input string for the action)\\n    }\\n    \\'\\'\\'\\n\\n    OR\\n\\n    Final Answer: (the final response to the original input\\n    question, once all steps are complete)\\n\\n    You are required to use the tools provided,\\n    using the most specific tool\\n    available for each action.\\n    Your final answer should contain all information\\n    necessary to answer the question and its subquestions.\\n    Before you finish, reflect on your progress and make\\n    sure you have addressed the question in its entirety.\\n\\n    If you are asked to continue\\n    or reference previous runs,\\n    the context will be provided to you.\\n    If context is provided, you should assume\\n    you are continuing a chat.\\n\\n    Here is the input:\\n    Previous Context: None\\n    Question: Complete all of the following tasks: 1. Download the PDB file 1LYZ. 2. Report the secondary structure assignments of the downloaded PDB structure. 3. Simulate for 1 ps at 300 K. 4. Compute the RMSD. ',\n",
       "  'output': \"I have completed all requested tasks. Here are the results:\\n\\n1. PDB file 1LYZ was successfully downloaded (ID: 1LYZ_222634).\\n\\n2. Secondary Structure Analysis:\\n   - 50 residues in helix\\n   - 14 residues in strand\\n   - 65 residues in coil\\n   - 101 residues not assigned or non-protein residues\\n\\n3. Simulation:\\n   - Successfully ran a 1 ps simulation at 300 K after cleaning the structure\\n   - Used NPT ensemble with Langevin dynamics\\n   - Simulation trajectory and state logs were saved\\n   - Simulation parameters:\\n     * Temperature: 300 K\\n     * Timestep: 0.002 ps\\n     * PME for long-range interactions\\n     * HBonds constraints\\n     * Solvated system\\n\\n4. RMSD Analysis:\\n   - RMSD was successfully calculated for the protein\\n   - Results saved to file 'rmsd_1LYZ'\\n   - Visualization plot saved as 'fig0_223139'\\n\\nAll tasks have been completed successfully, with proper structure preparation, simulation setup, and analysis.\"},\n",
       " 'SWDUJ366')"
      ]
     },
     "execution_count": 4,
     "metadata": {},
     "output_type": "execute_result"
    }
   ],
   "source": [
    "agent_1 = MDAgent(agent_type=\"Structured\", model=llm_model, top_k_tools=tools, use_memory=False)\n",
    "agent_1.run(prompt_4_descriptive)"
   ]
  },
  {
   "cell_type": "code",
   "execution_count": 5,
   "metadata": {},
   "outputs": [
    {
     "name": "stdout",
     "output_type": "stream",
     "text": [
      "Files found in registry: 1LYZ_222634: PDB file downloaded from RSCB\n",
      " PDBFile ID: 1LYZ_222634\n",
      " rec0_222637: dssp values for trajectory with id: 1LYZ_222634\n",
      " 1LYZ_222647: Cleaned File:  Removed Heterogens\n",
      " and Water Removed.  Replaced Nonstandard Residues. Added Hydrogens at pH 7.0. Missing Atoms Added and replaces nonstandard residues. \n",
      " top_sim0_222652: Initial positions for simulation sim0_222652\n",
      " sim0_222652: Basic Simulation of Protein 1LYZ_222647\n",
      " rec0_222656: Simulation trajectory for protein 1LYZ_222647 and simulation sim0_222652\n",
      " rec1_222656: Simulation state log for protein 1LYZ_222647 and simulation sim0_222652\n",
      " rec2_222656: Simulation pdb frames for protein 1LYZ_222647 and simulation sim0_222652\n",
      " rmsd_1LYZ: RMSD for 1LYZ\n",
      " fig0_223139: RMSD plot for 1LYZ\n"
     ]
    }
   ],
   "source": [
    "registry_1 = agent_1.path_registry\n",
    "print(registry_1.list_path_names_and_descriptions().replace(\",\", \"\\n\"))"
   ]
  },
  {
   "cell_type": "code",
   "execution_count": 6,
   "metadata": {},
   "outputs": [],
   "source": [
    "# make sure pdb was downloaded\n",
    "assert os.path.exists(registry_1.get_mapped_path(\"1LYZ_222634\"))"
   ]
  },
  {
   "cell_type": "code",
   "execution_count": 7,
   "metadata": {},
   "outputs": [
    {
     "data": {
      "text/plain": [
       "\"{'residues in helix': 50, 'residues in strand': 14, 'residues in coil': 65, 'residues not assigned, not a protein residue': 101}\""
      ]
     },
     "execution_count": 7,
     "metadata": {},
     "output_type": "execute_result"
    }
   ],
   "source": [
    "# make sure dssp was computed correctly\n",
    "from mdagent.tools.base_tools import ComputeDSSP\n",
    "\n",
    "dssp = ComputeDSSP(registry_1)\n",
    "dssp._run(traj_file= \"1LYZ_222634\", target_frames=\"first\")"
   ]
  },
  {
   "cell_type": "code",
   "execution_count": 8,
   "metadata": {},
   "outputs": [],
   "source": [
    "# make sure trajectory and topology exist\n",
    "traj_path_1 = registry_1.get_mapped_path(\"rec0_222656\")\n",
    "top_path_1 = registry_1.get_mapped_path(\"top_sim0_222652\")\n",
    "\n",
    "assert os.path.exists(traj_path_1)\n",
    "assert os.path.exists(top_path_1)"
   ]
  },
  {
   "cell_type": "code",
   "execution_count": 9,
   "metadata": {},
   "outputs": [
    {
     "data": {
      "image/png": "[encoded data removed]",
      "text/plain": [
       "<IPython.core.display.Image object>"
      ]
     },
     "execution_count": 9,
     "metadata": {},
     "output_type": "execute_result"
    }
   ],
   "source": [
    "# make sure rmsd plot was generated\n",
    "from IPython.display import Image\n",
    "Image(filename=registry_1.get_mapped_path('fig0_223139'))"
   ]
  },
  {
   "cell_type": "code",
   "execution_count": 10,
   "metadata": {},
   "outputs": [
    {
     "name": "stdout",
     "output_type": "stream",
     "text": [
      "Thought: Let me break this down into steps:\n",
      "1. First, I need to download the PDB file for 1LYZ\n",
      "2. Then I'll need to clean it and prepare it for simulation\n",
      "3. Run a simulation\n",
      "4. Analyze the secondary structure\n",
      "5. Calculate RMSD\n",
      "\n",
      "Let's start by downloading the PDB file.\n",
      "\n",
      "Action:\n",
      "```\n",
      "{\n",
      "    \"action\": \"PDBFileDownloader\",\n",
      "    \"action_input\": \"1LYZ\"\n",
      "}\n",
      "```\n",
      "\n",
      "PDB file found with this ID: 1LYZ\n",
      "Thought: Now that I have the PDB file, I'll clean it and prepare it for simulation. Then I'll run a short simulation with the specified parameters (1 ps at 300 K).\n",
      "\n",
      "Action:\n",
      "```\n",
      "{\n",
      "    \"action\": \"SetUpandRunFunction\",\n",
      "    \"action_input\": {\n",
      "        \"pdb_id\": \"1LYZ_223309\",\n",
      "        \"forcefield_files\": [\"amber14-all.xml\", \"amber14/tip3pfb.xml\"],\n",
      "        \"save\": true,\n",
      "        \"system_params\": {\n",
      "            \"nonbondedMethod\": \"PME\",\n",
      "            \"nonbondedCutoff\": \"1.0 * nanometers\",\n",
      "            \"constraints\": \"HBonds\",\n",
      "            \"rigidWater\": true,\n",
      "            \"ewaldErrorTolerance\": 0.0005,\n",
      "            \"constraintTolerance\": 0.000001,\n",
      "            \"solvate\": true\n",
      "        },\n",
      "        \"integrator_params\": {\n",
      "            \"integrator_type\": \"LangevinMiddle\",\n",
      "            \"Temperature\": \"300 * kelvin\",\n",
      "            \"Friction\": \"1.0 / picoseconds\",\n",
      "            \"Timestep\": \"0.002 * picoseconds\"\n",
      "        },\n",
      "        \"simulation_params\": {\n",
      "            \"Ensemble\": \"NPT\",\n",
      "            \"Number of Steps\": 500,\n",
      "            \"record_interval_steps\": 5,\n",
      "            \"record_params\": [\"step\", \"potentialEnergy\", \"temperature\"]\n",
      "        }\n",
      "    }\n",
      "}\n",
      "```\n",
      "\n",
      "Building system...\n",
      "About to create system...\n",
      "Attempts at creating system: 0/3\n",
      "Error adding solvent ValueError – No template found for residue 1 (LYS).  The set of atoms is similar to HID, but it is missing 8 atoms.  For more information, see https://github.com/openmm/openmm/wiki/Frequently-Asked-Questions#template\n",
      "Residue code: LYS\n",
      "Residue code not in solvent list. Adding forcefield                         not supported.\n",
      "Thought: I see the issue. We need to clean and prepare the PDB file first before running the simulation to ensure all residues are properly formatted and recognized by OpenMM. Let's clean the structure first.\n",
      "\n",
      "Action:\n",
      "```\n",
      "{\n",
      "    \"action\": \"CleaningToolFunction\",\n",
      "    \"action_input\": {\n",
      "        \"pdb_id\": \"1LYZ_223309\",\n",
      "        \"replace_nonstandard_residues\": true,\n",
      "        \"add_missing_atoms\": true,\n",
      "        \"remove_heterogens\": true,\n",
      "        \"remove_water\": true,\n",
      "        \"add_hydrogens\": true,\n",
      "        \"add_hydrogens_ph\": 7.0\n",
      "    }\n",
      "}\n",
      "```\n",
      "\n",
      "file path: /Users/samanthacox/Desktop/md-agent/ckpt/ckpt_47/pdb/1LYZ_raw_20250122_223309.pdb\n",
      "Thought: Now that we have a clean structure, let's try running the simulation again with the cleaned PDB file.\n",
      "\n",
      "Action:\n",
      "```\n",
      "{\n",
      "    \"action\": \"SetUpandRunFunction\",\n",
      "    \"action_input\": {\n",
      "        \"pdb_id\": \"1LYZ_223319\",\n",
      "        \"forcefield_files\": [\"amber14-all.xml\", \"amber14/tip3pfb.xml\"],\n",
      "        \"save\": true,\n",
      "        \"system_params\": {\n",
      "            \"nonbondedMethod\": \"PME\",\n",
      "            \"nonbondedCutoff\": \"1.0 * nanometers\",\n",
      "            \"constraints\": \"HBonds\",\n",
      "            \"rigidWater\": true,\n",
      "            \"ewaldErrorTolerance\": 0.0005,\n",
      "            \"constraintTolerance\": 0.000001,\n",
      "            \"solvate\": true\n",
      "        },\n",
      "        \"integrator_params\": {\n",
      "            \"integrator_type\": \"LangevinMiddle\",\n",
      "            \"Temperature\": \"300 * kelvin\",\n",
      "            \"Friction\": \"1.0 / picoseconds\",\n",
      "            \"Timestep\": \"0.002 * picoseconds\"\n",
      "        },\n",
      "        \"simulation_params\": {\n",
      "            \"Ensemble\": \"NPT\",\n",
      "            \"Number of Steps\": 500,\n",
      "            \"record_interval_steps\": 5,\n",
      "            \"record_params\": [\"step\", \"potentialEnergy\", \"temperature\"]\n",
      "        }\n",
      "    }\n",
      "}\n",
      "```Building system...\n",
      "About to create system...\n",
      "Attempts at creating system: 0/3\n",
      "System built successfully\n",
      "<openmm.openmm.System; proxy of <Swig Object of type 'OpenMM::System *' at 0x18ba54420> >\n",
      "Warning: 'Pressure' not provided.  Using default pressure of 1.0 atm.\n",
      "Setting up integrator...\n",
      "Creating simulation...\n",
      "simulation set!\n",
      "Performing energy minimization...\n",
      "Minimization complete!\n",
      "Initial Positions saved to initial_positions.pdb\n",
      "Equilibrating...\n",
      "Simulating...\n",
      "Done!\n",
      "Standalone simulation script written to /Users/samanthacox/Desktop/md-agent/ckpt/ckpt_47/simulations/NPT_1LYZ_223319_20250122_223324.py\n",
      "['prompt9.ipynb', 'LOG_sim0_223324_1LYZ_223319_20250122_223328.txt', 'prompt8.ipynb', 'TRAJ_sim0_223324_1LYZ_223319_20250122_223328.dcd', 'prompt10.ipynb', 'prompt2.ipynb', 'prompt6.ipynb', 'prompt4.ipynb', 'prompt3.ipynb', 'prompt1.ipynb', 'prompt5.ipynb', 'TOP_sim0_223324_1LYZ_223319_20250122_223328.pdb', 'prompt7.ipynb']\n",
      "Thought: Now that we have successfully run the simulation, let's analyze both the secondary structure of the initial PDB and calculate the RMSD of the simulation trajectory. Let's start with the secondary structure analysis.\n",
      "\n",
      "Action:\n",
      "```\n",
      "{\n",
      "    \"action\": \"ComputeDSSP\",\n",
      "    \"action_input\": {\n",
      "        \"traj_file\": \"rec2_223328\",\n",
      "        \"top_file\": \"top_sim0_223324\",\n",
      "        \"target_frames\": \"first\"\n",
      "    }\n",
      "}\n",
      "```\n",
      "\n",
      "Thought: Now that we have the secondary structure information, let's calculate the RMSD of the simulation trajectory to complete our analysis.\n",
      "\n",
      "Action:\n",
      "```\n",
      "{\n",
      "    \"action\": \"ComputeRMSD\",\n",
      "    \"action_input\": {\n",
      "        \"top_id\": \"top_sim0_223324\",\n",
      "        \"traj_id\": \"rec0_223328\",\n",
      "        \"select\": \"protein\"\n",
      "    }\n",
      "}\n",
      "```\n",
      "\n",
      "Calculating RMSD...\n",
      "Data saved to /Users/samanthacox/Desktop/md-agent/ckpt/ckpt_47/records/rmsd_223324.csv\n",
      "Plot saved to /Users/samanthacox/Desktop/md-agent/ckpt/ckpt_47/figures/FIG_rmsd_223324_20250122_224027.png\n",
      "Thought: I now have all the necessary information to provide a complete answer about the simulation and analysis of 1LYZ.\n",
      "\n",
      "Action:\n",
      "```\n",
      "{\n",
      "    \"action\": \"Final Answer\",\n",
      "    \"action_input\": \"I have successfully simulated lysozyme (1LYZ) for 1 ps at 300 K and performed the requested analyses. Here are the results:\n",
      "\n",
      "1. Secondary Structure Analysis of the initial structure:\n",
      "- 58 residues are in helical conformations\n",
      "- 14 residues are in β-strand conformations\n",
      "- 57 residues are in coil regions\n",
      "This distribution is consistent with lysozyme's known structure, which is predominantly α-helical with some β-sheet content.\n",
      "\n",
      "2. RMSD Analysis:\n",
      "The RMSD calculation was performed on the protein atoms throughout the simulation trajectory, using the initial structure as reference. The results have been saved as both a CSV file (rmsd_223324) and a plot (fig0_224027) for visualization.\n",
      "\n",
      "The simulation was performed using:\n",
      "- NPT ensemble\n",
      "- Temperature: 300 K\n",
      "- Langevin middle integrator\n",
      "- 2 fs timestep\n",
      "- PME for long-range electrostatics\n",
      "- Explicit solvent\n",
      "- Hydrogen bond constraints\n",
      "\n",
      "The structure was properly prepared by cleaning the initial PDB file, adding missing atoms, and adding hydrogens at pH 7.0 before running the simulation.\"\n",
      "}\n",
      "```"
     ]
    },
    {
     "data": {
      "text/plain": [
       "({'input': '\\n    You are an expert molecular dynamics scientist, and\\n    your task is to respond to the question or\\n    solve the problem to the best of your ability using\\n    the provided tools.\\n\\n    You can only respond with a single complete\\n    \\'Thought, Action, Action Input\\' format\\n    OR a single \\'Final Answer\\' format.\\n\\n    Complete format:\\n    Thought: (reflect on your progress and decide what to do next)\\n    Action:\\n    ```\\n    {\\n        \"action\": (the action name, it should be the name of a tool),\\n        \"action_input\": (the input string for the action)\\n    }\\n    \\'\\'\\'\\n\\n    OR\\n\\n    Final Answer: (the final response to the original input\\n    question, once all steps are complete)\\n\\n    You are required to use the tools provided,\\n    using the most specific tool\\n    available for each action.\\n    Your final answer should contain all information\\n    necessary to answer the question and its subquestions.\\n    Before you finish, reflect on your progress and make\\n    sure you have addressed the question in its entirety.\\n\\n    If you are asked to continue\\n    or reference previous runs,\\n    the context will be provided to you.\\n    If context is provided, you should assume\\n    you are continuing a chat.\\n\\n    Here is the input:\\n    Previous Context: None\\n    Question: Simulate 1LYZ for 1 ps at 300 K. Report the secondary structure assignments of the downloaded PDB structure, and compute the RMSD of the simulation. ',\n",
       "  'output': \"I have successfully simulated lysozyme (1LYZ) for 1 ps at 300 K and performed the requested analyses. Here are the results:\\n\\n1. Secondary Structure Analysis of the initial structure:\\n- 58 residues are in helical conformations\\n- 14 residues are in β-strand conformations\\n- 57 residues are in coil regions\\nThis distribution is consistent with lysozyme's known structure, which is predominantly α-helical with some β-sheet content.\\n\\n2. RMSD Analysis:\\nThe RMSD calculation was performed on the protein atoms throughout the simulation trajectory, using the initial structure as reference. The results have been saved as both a CSV file (rmsd_223324) and a plot (fig0_224027) for visualization.\\n\\nThe simulation was performed using:\\n- NPT ensemble\\n- Temperature: 300 K\\n- Langevin middle integrator\\n- 2 fs timestep\\n- PME for long-range electrostatics\\n- Explicit solvent\\n- Hydrogen bond constraints\\n\\nThe structure was properly prepared by cleaning the initial PDB file, adding missing atoms, and adding hydrogens at pH 7.0 before running the simulation.\"},\n",
       " '78UH6IBS')"
      ]
     },
     "execution_count": 10,
     "metadata": {},
     "output_type": "execute_result"
    }
   ],
   "source": [
    "agent_2 = MDAgent(agent_type=\"Structured\", model=llm_model, top_k_tools=tools, use_memory=False)\n",
    "agent_2.run(prompt_4_natural)"
   ]
  },
  {
   "cell_type": "code",
   "execution_count": 11,
   "metadata": {},
   "outputs": [
    {
     "name": "stdout",
     "output_type": "stream",
     "text": [
      "Files found in registry: 1LYZ_223309: PDB file downloaded from RSCB\n",
      " PDBFile ID: 1LYZ_223309\n",
      " 1LYZ_223319: Cleaned File:  Removed Heterogens\n",
      " and Water Removed.  Replaced Nonstandard Residues. Added Hydrogens at pH 7.0. Missing Atoms Added and replaces nonstandard residues. \n",
      " top_sim0_223324: Initial positions for simulation sim0_223324\n",
      " sim0_223324: Basic Simulation of Protein 1LYZ_223319\n",
      " rec0_223328: Simulation trajectory for protein 1LYZ_223319 and simulation sim0_223324\n",
      " rec1_223328: Simulation state log for protein 1LYZ_223319 and simulation sim0_223324\n",
      " rec2_223328: Simulation pdb frames for protein 1LYZ_223319 and simulation sim0_223324\n",
      " rec0_224022: dssp values for trajectory with id: rec2_223328\n",
      " rmsd_223324: RMSD for 223324\n",
      " fig0_224027: RMSD plot for 223324\n"
     ]
    }
   ],
   "source": [
    "registry_2 = agent_2.path_registry\n",
    "print(registry_2.list_path_names_and_descriptions().replace(\",\", \"\\n\"))"
   ]
  },
  {
   "cell_type": "code",
   "execution_count": 12,
   "metadata": {},
   "outputs": [],
   "source": [
    "# make sure pdb was downloaded\n",
    "assert os.path.exists(registry_2.get_mapped_path(\"1LYZ_223309\"))"
   ]
  },
  {
   "cell_type": "code",
   "execution_count": 13,
   "metadata": {},
   "outputs": [
    {
     "data": {
      "text/plain": [
       "\"{'residues in helix': 50, 'residues in strand': 14, 'residues in coil': 65, 'residues not assigned, not a protein residue': 101}\""
      ]
     },
     "execution_count": 13,
     "metadata": {},
     "output_type": "execute_result"
    }
   ],
   "source": [
    "# make sure dssp was computed correctly\n",
    "from mdagent.tools.base_tools import ComputeDSSP\n",
    "\n",
    "dssp = ComputeDSSP(registry_2)\n",
    "dssp._run(traj_file= \"1LYZ_223309\", target_frames=\"first\")"
   ]
  },
  {
   "cell_type": "code",
   "execution_count": 14,
   "metadata": {},
   "outputs": [],
   "source": [
    "# make sure trajectory and topology exist\n",
    "traj_path_2 = registry_2.get_mapped_path(\"rec0_223328\")\n",
    "top_path_2 = registry_2.get_mapped_path(\"top_sim0_223324\")\n",
    "\n",
    "assert os.path.exists(traj_path_2)\n",
    "assert os.path.exists(top_path_2)"
   ]
  },
  {
   "cell_type": "code",
   "execution_count": 15,
   "metadata": {},
   "outputs": [
    {
     "data": {
      "image/png": "[encoded data removed]",
      "text/plain": [
       "<IPython.core.display.Image object>"
      ]
     },
     "execution_count": 15,
     "metadata": {},
     "output_type": "execute_result"
    }
   ],
   "source": [
    "# make sure rmsd plot was generated\n",
    "from IPython.display import Image\n",
    "Image(filename=registry_2.get_mapped_path('fig0_224027'))"
   ]
  },
  {
   "cell_type": "code",
   "execution_count": null,
   "metadata": {},
   "outputs": [],
   "source": []
  }
 ],
 "metadata": {
  "kernelspec": {
   "display_name": "mdagent2",
   "language": "python",
   "name": "python3"
  },
  "language_info": {
   "codemirror_mode": {
    "name": "ipython",
    "version": 3
   },
   "file_extension": ".py",
   "mimetype": "text/x-python",
   "name": "python",
   "nbconvert_exporter": "python",
   "pygments_lexer": "ipython3",
   "version": "3.12.5"
  }
 },
 "nbformat": 4,
 "nbformat_minor": 2
}
