{
 "cells": [
  {
   "cell_type": "code",
   "execution_count": null,
   "metadata": {},
   "outputs": [],
   "source": [
    "from mdagent import MDAgent\n",
    "import os \n",
    "import mdtraj as md"
   ]
  },
  {
   "cell_type": "code",
   "execution_count": null,
   "metadata": {},
   "outputs": [],
   "source": [
    "import sys\n",
    "import os\n",
    "parent_dir = os.path.abspath(os.path.join(os.getcwd(), '..'))\n",
    "sys.path.append(parent_dir)\n",
    "from robustness_prompts import get_prompt\n",
    "\n",
    "prompt_7_descriptive = get_prompt(\"descriptive\", 7)\n",
    "prompt_7_natural = get_prompt(\"natural\", 7)\n",
    "\n",
    "prompt_7_descriptive, prompt_7_natural"
   ]
  },
  {
   "cell_type": "code",
   "execution_count": null,
   "metadata": {},
   "outputs": [],
   "source": [
    "llm_model = \"gpt-4o-2024-08-06\"\n",
    "tools = \"all\""
   ]
  },
  {
   "cell_type": "code",
   "execution_count": null,
   "metadata": {},
   "outputs": [],
   "source": [
    "agent_1 = MDAgent(agent_type=\"Structured\", model=llm_model, top_k_tools=tools, use_memory=False)\n",
    "agent_1.run(prompt_7_descriptive)"
   ]
  },
  {
   "cell_type": "code",
   "execution_count": null,
   "metadata": {},
   "outputs": [],
   "source": [
    "registry_1 = agent_1.path_registry\n",
    "print(registry_1.list_path_names_and_descriptions().replace(\",\", \"\\n\"))"
   ]
  },
  {
   "cell_type": "code",
   "execution_count": null,
   "metadata": {},
   "outputs": [],
   "source": [
    "## make sure pdb was downloaded\n",
    "# assert os.path.exists(registry_1.get_mapped_path(\"<PDB>\"))"
   ]
  },
  {
   "cell_type": "code",
   "execution_count": null,
   "metadata": {},
   "outputs": [],
   "source": [
    "## make sure dssp was computed correctly\n",
    "# from mdagent.tools.base_tools import ComputeDSSP\n",
    "\n",
    "# dssp = ComputeDSSP(registry_1)\n",
    "# dssp._run(traj_file= \"<PDB>\", target_frames=\"first\")"
   ]
  },
  {
   "cell_type": "code",
   "execution_count": null,
   "metadata": {},
   "outputs": [],
   "source": [
    "# # make sure the sites were found\n",
    "# from mdagent.tools.base_tools import GetAllKnownSites\n",
    "\n",
    "# get_all_known_sites = GetAllKnownSites()\n",
    "# get_all_known_sites._run(query=\"1LYZ\", primary_accession=\"<P00698_or_other>\")"
   ]
  },
  {
   "cell_type": "code",
   "execution_count": null,
   "metadata": {},
   "outputs": [],
   "source": [
    "## make sure trajectory and topology exist\n",
    "# traj_path_1 = registry_1.get_mapped_path(\"<traj_path>\")\n",
    "# top_path_1 = registry_1.get_mapped_path(\"<top_path>\")\n",
    "\n",
    "# assert os.path.exists(traj_path_1)\n",
    "# assert os.path.exists(top_path_1)"
   ]
  },
  {
   "cell_type": "code",
   "execution_count": null,
   "metadata": {},
   "outputs": [],
   "source": [
    "# # make sure rmsd plot was generated\n",
    "# from IPython.display import Image\n",
    "# Image(filename=registry_1.get_mapped_path('<rmsd_plot>'))"
   ]
  },
  {
   "cell_type": "code",
   "execution_count": null,
   "metadata": {},
   "outputs": [],
   "source": [
    "# # make sure rgy plot was generated\n",
    "# from IPython.display import Image\n",
    "# Image(filename=registry_1.get_mapped_path('<rgy_plot>'))"
   ]
  },
  {
   "cell_type": "code",
   "execution_count": null,
   "metadata": {},
   "outputs": [],
   "source": [
    "# # make sure sasa plot was generated\n",
    "# from IPython.display import Image\n",
    "# Image(filename=registry_1.get_mapped_path('<sasa_plot>'))"
   ]
  },
  {
   "cell_type": "code",
   "execution_count": null,
   "metadata": {},
   "outputs": [],
   "source": [
    "agent_2 = MDAgent(agent_type=\"Structured\", model=llm_model, top_k_tools=tools, use_memory=False)\n",
    "agent_2.run(prompt_7_natural)"
   ]
  },
  {
   "cell_type": "code",
   "execution_count": null,
   "metadata": {},
   "outputs": [],
   "source": [
    "registry_2 = agent_2.path_registry\n",
    "print(registry_2.list_path_names_and_descriptions().replace(\",\", \"\\n\"))"
   ]
  },
  {
   "cell_type": "code",
   "execution_count": null,
   "metadata": {},
   "outputs": [],
   "source": [
    "## make sure pdb was downloaded\n",
    "# assert os.path.exists(registry_2.get_mapped_path(\"<PDB>\"))"
   ]
  },
  {
   "cell_type": "code",
   "execution_count": null,
   "metadata": {},
   "outputs": [],
   "source": [
    "# # make sure the sites were found\n",
    "# from mdagent.tools.base_tools import GetAllKnownSites\n",
    "\n",
    "# get_all_known_sites = GetAllKnownSites()\n",
    "# get_all_known_sites._run(query=\"1LYZ\", primary_accession=\"<P00698_or_other>\")"
   ]
  },
  {
   "cell_type": "code",
   "execution_count": null,
   "metadata": {},
   "outputs": [],
   "source": [
    "## make sure trajectory and topology exist\n",
    "# traj_path_2 = registry_2.get_mapped_path(\"<traj_path>\")\n",
    "# top_path_2 = registry_2.get_mapped_path(\"<top_path>\")\n",
    "\n",
    "# assert os.path.exists(traj_path_2)\n",
    "# assert os.path.exists(top_path_2)"
   ]
  },
  {
   "cell_type": "code",
   "execution_count": null,
   "metadata": {},
   "outputs": [],
   "source": [
    "# # make sure rmsd plot was generated\n",
    "# from IPython.display import Image\n",
    "# Image(filename=registry_2.get_mapped_path('<rmsd_plot>'))"
   ]
  },
  {
   "cell_type": "code",
   "execution_count": null,
   "metadata": {},
   "outputs": [],
   "source": [
    "# # make sure rgy plot was generated\n",
    "# from IPython.display import Image\n",
    "# Image(filename=registry_2.get_mapped_path('<rgy_plot>'))"
   ]
  },
  {
   "cell_type": "code",
   "execution_count": null,
   "metadata": {},
   "outputs": [],
   "source": [
    "# # make sure sasa plot was generated\n",
    "# from IPython.display import Image\n",
    "# Image(filename=registry_2.get_mapped_path('<sasa_plot>'))"
   ]
  }
 ],
 "metadata": {
  "kernelspec": {
   "display_name": "mdagent2",
   "language": "python",
   "name": "python3"
  },
  "language_info": {
   "codemirror_mode": {
    "name": "ipython",
    "version": 3
   },
   "file_extension": ".py",
   "mimetype": "text/x-python",
   "name": "python",
   "nbconvert_exporter": "python",
   "pygments_lexer": "ipython3",
   "version": "3.12.5"
  }
 },
 "nbformat": 4,
 "nbformat_minor": 2
}
