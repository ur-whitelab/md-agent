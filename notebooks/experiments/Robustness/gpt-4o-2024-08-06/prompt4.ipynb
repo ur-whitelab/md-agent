{
 "cells": [
  {
   "cell_type": "code",
   "execution_count": 1,
   "metadata": {},
   "outputs": [],
   "source": [
    "from mdagent import MDAgent\n",
    "import os\n",
    "import mdtraj as md"
   ]
  },
  {
   "cell_type": "code",
   "execution_count": 2,
   "metadata": {},
   "outputs": [
    {
     "data": {
      "text/plain": [
       "('Complete all of the following tasks: 1. Download the PDB file 1LYZ. 2. Report the secondary structure assignments of the downloaded PDB structure. 3. Simulate for 1ps at 300 K. 4. Compute the RMSD.',\n",
       " 'Simulate 1LYZ for 1ps at 300 K. Report the secondary structure assignments of the downloaded PDB structure, and compute the RMSD of the simulation.')"
      ]
     },
     "execution_count": 2,
     "metadata": {},
     "output_type": "execute_result"
    }
   ],
   "source": [
    "import sys\n",
    "import os\n",
    "parent_dir = os.path.abspath(os.path.join(os.getcwd(), '..'))\n",
    "sys.path.append(parent_dir)\n",
    "from robustness_prompts import get_prompt\n",
    "\n",
    "prompt_4_descriptive = get_prompt(\"descriptive\", 4)\n",
    "prompt_4_natural = get_prompt(\"natural\", 4)\n",
    "\n",
    "prompt_4_descriptive, prompt_4_natural"
   ]
  },
  {
   "cell_type": "code",
   "execution_count": 3,
   "metadata": {},
   "outputs": [],
   "source": [
    "llm_model = \"gpt-4o-2024-08-06\"\n",
    "tools = \"all\""
   ]
  },
  {
   "cell_type": "code",
   "execution_count": 4,
   "metadata": {},
   "outputs": [
    {
     "name": "stdout",
     "output_type": "stream",
     "text": [
      "Thought: To complete the tasks, I will follow these steps:\n",
      "1. Download the PDB file 1LYZ.\n",
      "2. Compute the secondary structure assignments for the downloaded PDB structure.\n",
      "3. Set up and run a short simulation for 1 picosecond at 300 K.\n",
      "4. Compute the RMSD of the simulation.\n",
      "\n",
      "I will start by downloading the PDB file 1LYZ.\n",
      "\n",
      "Action:\n",
      "```json\n",
      "{\n",
      "  \"action\": \"PDBFileDownloader\",\n",
      "  \"action_input\": {\n",
      "    \"query\": \"1LYZ\"\n",
      "  }\n",
      "}\n",
      "```PDB file found with this ID: 1LYZ\n",
      "To proceed with the tasks, I will now compute the secondary structure assignments for the downloaded PDB structure 1LYZ.\n",
      "\n",
      "Action:\n",
      "```json\n",
      "{\n",
      "  \"action\": \"ComputeDSSP\",\n",
      "  \"action_input\": {\n",
      "    \"traj_file\": \"1LYZ_022846\",\n",
      "    \"target_frames\": \"first\"\n",
      "  }\n",
      "}\n",
      "```To continue with the tasks, I will now set up and run a short simulation for 1 picosecond at 300 K using the downloaded PDB file 1LYZ.\n",
      "\n",
      "Action:\n",
      "```json\n",
      "{\n",
      "  \"action\": \"SetUpandRunFunction\",\n",
      "  \"action_input\": {\n",
      "    \"pdb_id\": \"1LYZ_022846\",\n",
      "    \"forcefield_files\": [\"amber99sb.xml\", \"tip3p.xml\"],\n",
      "    \"system_params\": {\n",
      "      \"nonbondedMethod\": \"NoCutoff\",\n",
      "      \"constraints\": \"None\",\n",
      "      \"rigidWater\": False\n",
      "    },\n",
      "    \"integrator_params\": {\n",
      "      \"integrator_type\": \"LangevinMiddle\",\n",
      "      \"Temperature\": \"300 * kelvin\",\n",
      "      \"Friction\": \"1.0 / picoseconds\",\n",
      "      \"Timestep\": \"0.002 * picoseconds\"\n",
      "    },\n",
      "    \"simulation_params\": {\n",
      "      \"Ensemble\": \"NVT\",\n",
      "      \"Number of Steps\": 500,\n",
      "      \"record_interval_steps\": 100,\n",
      "      \"record_params\": [\"step\", \"potentialEnergy\", \"temperature\"]\n",
      "    }\n",
      "  }\n",
      "}\n",
      "```\n",
      "Question: How can I set up and run a short simulation for 1 picosecond at 300 K using the downloaded PDB file 1LYZ?\n",
      "Thought: I need to provide the correct JSON format with the specified action and action_input.\n",
      "Action:\n",
      "```json\n",
      "{\n",
      "  \"action\": \"SetUpandRunFunction\",\n",
      "  \"action_input\": {\n",
      "    \"pdb_id\": \"1LYZ\",\n",
      "    \"forcefield_files\": [\"amber99sb.xml\", \"tip3p.xml\"],\n",
      "    \"system_params\": {\n",
      "      \"nonbondedMethod\": \"NoCutoff\",\n",
      "      \"constraints\": \"None\",\n",
      "      \"rigidWater\": false\n",
      "    },\n",
      "    \"integrator_params\": {\n",
      "      \"integrator_type\": \"LangevinMiddle\",\n",
      "      \"Temperature\": \"300 * kelvin\",\n",
      "      \"Friction\": \"1.0 / picoseconds\",\n",
      "      \"Timestep\": \"0.002 * picoseconds\"\n",
      "    },\n",
      "    \"simulation_params\": {\n",
      "      \"Ensemble\": \"NVT\",\n",
      "      \"Number of Steps\": 500,\n",
      "      \"record_interval_steps\": 100,\n",
      "      \"record_params\": [\"step\", \"potentialEnergy\", \"temperature\"]\n",
      "    }\n",
      "  }\n",
      "}\n",
      "```Building system...\n",
      "To proceed with the simulation, I need to ensure that the correct file ID is used. The downloaded PDB file ID is \"1LYZ_022846\". I will use this ID to set up and run the simulation for 1 picosecond at 300 K.\n",
      "\n",
      "Action:\n",
      "```json\n",
      "{\n",
      "  \"action\": \"SetUpandRunFunction\",\n",
      "  \"action_input\": {\n",
      "    \"pdb_id\": \"1LYZ_022846\",\n",
      "    \"forcefield_files\": [\"amber99sb.xml\", \"tip3p.xml\"],\n",
      "    \"system_params\": {\n",
      "      \"nonbondedMethod\": \"NoCutoff\",\n",
      "      \"constraints\": \"None\",\n",
      "      \"rigidWater\": false\n",
      "    },\n",
      "    \"integrator_params\": {\n",
      "      \"integrator_type\": \"LangevinMiddle\",\n",
      "      \"Temperature\": \"300 * kelvin\",\n",
      "      \"Friction\": \"1.0 / picoseconds\",\n",
      "      \"Timestep\": \"0.002 * picoseconds\"\n",
      "    },\n",
      "    \"simulation_params\": {\n",
      "      \"Ensemble\": \"NVT\",\n",
      "      \"Number of Steps\": 500,\n",
      "      \"record_interval_steps\": 100,\n",
      "      \"record_params\": [\"step\", \"potentialEnergy\", \"temperature\"]\n",
      "    }\n",
      "  }\n",
      "}\n",
      "```Building system...\n",
      "About to create system...\n",
      "Attempts at creating system: 0/3\n",
      "adding system without solvent\n",
      "Trying to add component to Forcefield...\n",
      "Residue code: LYS\n",
      "Residue code not in solvent list. Adding forcefield                         not supported.\n",
      "Thought: The error indicates that there is a missing template for a residue, likely due to missing atoms in the PDB file. To resolve this, I will use the CleaningToolFunction to add missing atoms and hydrogens to the PDB file. After cleaning, I will attempt to set up and run the simulation again.\n",
      "\n",
      "Action:\n",
      "```json\n",
      "{\n",
      "  \"action\": \"CleaningToolFunction\",\n",
      "  \"action_input\": {\n",
      "    \"pdb_id\": \"1LYZ_022846\",\n",
      "    \"replace_nonstandard_residues\": true,\n",
      "    \"add_missing_atoms\": true,\n",
      "    \"remove_heterogens\": true,\n",
      "    \"remove_water\": true,\n",
      "    \"add_hydrogens\": true,\n",
      "    \"add_hydrogens_ph\": 7.0\n",
      "  }\n",
      "}\n",
      "```file path: /Users/samcox/Desktop/md-agent/ckpt/ckpt_6/pdb/1LYZ_raw_20250124_022846.pdb\n",
      "To proceed with the simulation, I will use the cleaned PDB file with ID \"1LYZ_022903\" to set up and run the simulation for 1 picosecond at 300 K.\n",
      "\n",
      "Action:\n",
      "```json\n",
      "{\n",
      "  \"action\": \"SetUpandRunFunction\",\n",
      "  \"action_input\": {\n",
      "    \"pdb_id\": \"1LYZ_022903\",\n",
      "    \"forcefield_files\": [\"amber99sb.xml\", \"tip3p.xml\"],\n",
      "    \"system_params\": {\n",
      "      \"nonbondedMethod\": \"NoCutoff\",\n",
      "      \"constraints\": \"None\",\n",
      "      \"rigidWater\": false\n",
      "    },\n",
      "    \"integrator_params\": {\n",
      "      \"integrator_type\": \"LangevinMiddle\",\n",
      "      \"Temperature\": \"300 * kelvin\",\n",
      "      \"Friction\": \"1.0 / picoseconds\",\n",
      "      \"Timestep\": \"0.002 * picoseconds\"\n",
      "    },\n",
      "    \"simulation_params\": {\n",
      "      \"Ensemble\": \"NVT\",\n",
      "      \"Number of Steps\": 500,\n",
      "      \"record_interval_steps\": 100,\n",
      "      \"record_params\": [\"step\", \"potentialEnergy\", \"temperature\"]\n",
      "    }\n",
      "  }\n",
      "}\n",
      "```Building system...\n",
      "About to create system...\n",
      "Attempts at creating system: 0/3\n",
      "adding system without solvent\n",
      "System built successfully\n",
      "<openmm.openmm.System; proxy of <Swig Object of type 'OpenMM::System *' at 0x17ae981b0> >\n",
      "Setting up integrator...\n",
      "Creating simulation...\n",
      "simulation set!\n",
      "Performing energy minimization...\n",
      "Minimization complete!\n",
      "Initial Positions saved to initial_positions.pdb\n",
      "Equilibrating...\n",
      "Simulating...\n",
      "Done!\n",
      "Standalone simulation script written to /Users/samcox/Desktop/md-agent/ckpt/ckpt_6/simulations/NVT_1LYZ_022903_20250124_022907.py\n",
      "['LOG_sim0_022907_1LYZ_022903_20250124_022907.txt', 'prompt9.ipynb', 'prompt8.ipynb', 'TRAJ_sim0_022907_1LYZ_022903_20250124_022907.dcd', 'prompt10.ipynb', 'prompt2.ipynb', 'prompt6.ipynb', 'prompt4.ipynb', 'TOP_sim0_022907_1LYZ_022903_20250124_022907.pdb', 'prompt3.ipynb', 'prompt1.ipynb', 'prompt5.ipynb', 'prompt7.ipynb']\n",
      "To complete the final task, I need to compute the RMSD of the simulation using the trajectory and topology files generated from the simulation. The trajectory file ID is \"rec0_022907\" and the topology file ID is \"top_sim0_022907\". I will proceed with computing the RMSD.\n",
      "\n",
      "Action:\n",
      "```json\n",
      "{\n",
      "  \"action\": \"ComputeRMSD\",\n",
      "  \"action_input\": {\n",
      "    \"top_id\": \"top_sim0_022907\",\n",
      "    \"traj_id\": \"rec0_022907\",\n",
      "    \"select\": \"protein\"\n",
      "  }\n",
      "}\n",
      "```Calculating RMSD...\n",
      "Data saved to /Users/samcox/Desktop/md-agent/ckpt/ckpt_6/records/rmsd_022907.csv\n",
      "Plot saved to /Users/samcox/Desktop/md-agent/ckpt/ckpt_6/figures/FIG_rmsd_022907_20250124_022913.png\n",
      "The tasks have been successfully completed. Here is the summary of each step:\n",
      "\n",
      "1. **Downloaded the PDB file 1LYZ**: The file was successfully downloaded with the ID `1LYZ_022846`.\n",
      "\n",
      "2. **Secondary Structure Assignments**: The secondary structure assignments for the downloaded PDB structure were computed. The results are:\n",
      "   - Residues in helix: 50\n",
      "   - Residues in strand: 14\n",
      "   - Residues in coil: 65\n",
      "   - Residues not assigned, not a protein residue: 101\n",
      "\n",
      "3. **Simulation for 1ps at 300 K**: A short simulation was set up and run for 1 picosecond at 300 K using the cleaned PDB file. The simulation was successful, and the trajectory and state log files were generated.\n",
      "\n",
      "4. **RMSD Computation**: The RMSD of the simulation was computed and saved to a CSV file with the ID `rmsd_022907`. A plot of the RMSD was also saved with the plot ID `fig0_022913`.\n",
      "\n",
      "Final Answer: All tasks have been completed successfully, including downloading the PDB file, computing secondary structure assignments, running a simulation, and calculating the RMSD."
     ]
    },
    {
     "data": {
      "text/plain": [
       "({'input': '\\n    You are an expert molecular dynamics scientist, and\\n    your task is to respond to the question or\\n    solve the problem to the best of your ability using\\n    the provided tools.\\n\\n    You can only respond with a single complete\\n    \\'Thought, Action, Action Input\\' format\\n    OR a single \\'Final Answer\\' format.\\n\\n    Complete format:\\n    Thought: (reflect on your progress and decide what to do next)\\n    Action:\\n    ```\\n    {\\n        \"action\": (the action name, it should be the name of a tool),\\n        \"action_input\": (the input string for the action)\\n    }\\n    \\'\\'\\'\\n\\n    OR\\n\\n    Final Answer: (the final response to the original input\\n    question, once all steps are complete)\\n\\n    You are required to use the tools provided,\\n    using the most specific tool\\n    available for each action.\\n    Your final answer should contain all information\\n    necessary to answer the question and its subquestions.\\n    Before you finish, reflect on your progress and make\\n    sure you have addressed the question in its entirety.\\n\\n    If you are asked to continue\\n    or reference previous runs,\\n    the context will be provided to you.\\n    If context is provided, you should assume\\n    you are continuing a chat.\\n\\n    Here is the input:\\n    Previous Context: None\\n    Question: Complete all of the following tasks: 1. Download the PDB file 1LYZ. 2. Report the secondary structure assignments of the downloaded PDB structure. 3. Simulate for 1ps at 300 K. 4. Compute the RMSD. ',\n",
       "  'output': 'The tasks have been successfully completed. Here is the summary of each step:\\n\\n1. **Downloaded the PDB file 1LYZ**: The file was successfully downloaded with the ID `1LYZ_022846`.\\n\\n2. **Secondary Structure Assignments**: The secondary structure assignments for the downloaded PDB structure were computed. The results are:\\n   - Residues in helix: 50\\n   - Residues in strand: 14\\n   - Residues in coil: 65\\n   - Residues not assigned, not a protein residue: 101\\n\\n3. **Simulation for 1ps at 300 K**: A short simulation was set up and run for 1 picosecond at 300 K using the cleaned PDB file. The simulation was successful, and the trajectory and state log files were generated.\\n\\n4. **RMSD Computation**: The RMSD of the simulation was computed and saved to a CSV file with the ID `rmsd_022907`. A plot of the RMSD was also saved with the plot ID `fig0_022913`.\\n\\nFinal Answer: All tasks have been completed successfully, including downloading the PDB file, computing secondary structure assignments, running a simulation, and calculating the RMSD.'},\n",
       " 'FFY0TBRS')"
      ]
     },
     "execution_count": 4,
     "metadata": {},
     "output_type": "execute_result"
    }
   ],
   "source": [
    "agent_1 = MDAgent(agent_type=\"Structured\", model=llm_model, top_k_tools=tools, use_memory=False)\n",
    "agent_1.run(prompt_4_descriptive)"
   ]
  },
  {
   "cell_type": "code",
   "execution_count": 5,
   "metadata": {},
   "outputs": [
    {
     "name": "stdout",
     "output_type": "stream",
     "text": [
      "Files found in registry: 1LYZ_022846: PDB file downloaded from RSCB\n",
      " PDBFile ID: 1LYZ_022846\n",
      " rec0_022847: dssp values for trajectory with id: 1LYZ_022846\n",
      " 1LYZ_022903: Cleaned File:  Removed Heterogens\n",
      " and Water Removed.  Replaced Nonstandard Residues. Added Hydrogens at pH 7.0. Missing Atoms Added and replaces nonstandard residues. \n",
      " top_sim0_022907: Initial positions for simulation sim0_022907\n",
      " sim0_022907: Basic Simulation of Protein 1LYZ_022903\n",
      " rec0_022907: Simulation trajectory for protein 1LYZ_022903 and simulation sim0_022907\n",
      " rec1_022907: Simulation state log for protein 1LYZ_022903 and simulation sim0_022907\n",
      " rec2_022907: Simulation pdb frames for protein 1LYZ_022903 and simulation sim0_022907\n",
      " rmsd_022907: RMSD for 022907\n",
      " fig0_022913: RMSD plot for 022907\n"
     ]
    }
   ],
   "source": [
    "registry_1 = agent_1.path_registry\n",
    "print(registry_1.list_path_names_and_descriptions().replace(\",\", \"\\n\"))"
   ]
  },
  {
   "cell_type": "code",
   "execution_count": 6,
   "metadata": {},
   "outputs": [],
   "source": [
    "# make sure pdb was downloaded\n",
    "assert os.path.exists(registry_1.get_mapped_path(\"1LYZ_022846\"))"
   ]
  },
  {
   "cell_type": "code",
   "execution_count": 8,
   "metadata": {},
   "outputs": [
    {
     "data": {
      "text/plain": [
       "\"{'residues in helix': 50, 'residues in strand': 14, 'residues in coil': 65, 'residues not assigned, not a protein residue': 101}\""
      ]
     },
     "execution_count": 8,
     "metadata": {},
     "output_type": "execute_result"
    }
   ],
   "source": [
    "# make sure dssp was computed correctly\n",
    "from mdagent.tools.base_tools import ComputeDSSP\n",
    "\n",
    "dssp = ComputeDSSP(registry_1)\n",
    "dssp._run(traj_file= \"1LYZ_022846\", target_frames=\"first\")"
   ]
  },
  {
   "cell_type": "code",
   "execution_count": 9,
   "metadata": {},
   "outputs": [],
   "source": [
    "# make sure trajectory and topology exist\n",
    "traj_path_1 = registry_1.get_mapped_path(\"top_sim0_022907\")\n",
    "top_path_1 = registry_1.get_mapped_path(\"rec0_022907\")\n",
    "\n",
    "assert os.path.exists(traj_path_1)\n",
    "assert os.path.exists(top_path_1)"
   ]
  },
  {
   "cell_type": "code",
   "execution_count": 10,
   "metadata": {},
   "outputs": [
    {
     "data": {
      "image/png": "[encoded data removed]",
      "text/plain": [
       "<IPython.core.display.Image object>"
      ]
     },
     "execution_count": 10,
     "metadata": {},
     "output_type": "execute_result"
    }
   ],
   "source": [
    "# make sure rmsd plot was generated\n",
    "from IPython.display import Image\n",
    "Image(filename=registry_1.get_mapped_path('fig0_022913'))"
   ]
  },
  {
   "cell_type": "code",
   "execution_count": 11,
   "metadata": {},
   "outputs": [
    {
     "name": "stdout",
     "output_type": "stream",
     "text": [
      "Thought: To address the question, I need to perform the following steps:\n",
      "\n",
      "1. Download the PDB file for 1LYZ.\n",
      "2. Set up and run a molecular dynamics simulation for 1 picosecond at 300 K.\n",
      "3. Report the secondary structure assignments of the downloaded PDB structure.\n",
      "4. Compute the RMSD of the simulation.\n",
      "\n",
      "I will start by downloading the PDB file for 1LYZ.\n",
      "\n",
      "Action:\n",
      "```json\n",
      "{\n",
      "  \"action\": \"PDBFileDownloader\",\n",
      "  \"action_input\": {\n",
      "    \"query\": \"1LYZ\"\n",
      "  }\n",
      "}\n",
      "```PDB file found with this ID: 1LYZ\n",
      "To continue with the task, I need to set up and run a molecular dynamics simulation for 1 picosecond at 300 K using the downloaded PDB file (1LYZ_023032). After the simulation, I will report the secondary structure assignments and compute the RMSD.\n",
      "\n",
      "Action:\n",
      "```json\n",
      "{\n",
      "  \"action\": \"SetUpandRunFunction\",\n",
      "  \"action_input\": {\n",
      "    \"pdb_id\": \"1LYZ_023032\",\n",
      "    \"forcefield_files\": [\"amber99sb.xml\", \"tip3p.xml\"],\n",
      "    \"save\": true,\n",
      "    \"system_params\": {\n",
      "      \"nonbondedMethod\": \"NoCutoff\",\n",
      "      \"constraints\": \"None\",\n",
      "      \"rigidWater\": false\n",
      "    },\n",
      "    \"integrator_params\": {\n",
      "      \"integrator_type\": \"LangevinMiddle\",\n",
      "      \"Temperature\": \"300 * kelvin\",\n",
      "      \"Friction\": \"1.0 / picoseconds\",\n",
      "      \"Timestep\": \"0.002 * picoseconds\"\n",
      "    },\n",
      "    \"simulation_params\": {\n",
      "      \"Ensemble\": \"NVT\",\n",
      "      \"Number of Steps\": 500,\n",
      "      \"record_interval_steps\": 100,\n",
      "      \"record_params\": [\"step\", \"potentialEnergy\", \"temperature\"]\n",
      "    }\n",
      "  }\n",
      "}\n",
      "```Building system...\n",
      "About to create system...\n",
      "Attempts at creating system: 0/3\n",
      "adding system without solvent\n",
      "Trying to add component to Forcefield...\n",
      "Residue code: LYS\n",
      "Residue code not in solvent list. Adding forcefield                         not supported.\n",
      "To resolve the issue with missing atoms in the residue, I need to clean the PDB file by adding missing atoms and hydrogens, replacing nonstandard residues, and removing heterogens and water. This should ensure compatibility with the forcefield.\n",
      "\n",
      "Action:\n",
      "```json\n",
      "{\n",
      "  \"action\": \"CleaningToolFunction\",\n",
      "  \"action_input\": {\n",
      "    \"pdb_id\": \"1LYZ_023032\",\n",
      "    \"replace_nonstandard_residues\": true,\n",
      "    \"add_missing_atoms\": true,\n",
      "    \"remove_heterogens\": true,\n",
      "    \"remove_water\": true,\n",
      "    \"add_hydrogens\": true\n",
      "  }\n",
      "}\n",
      "```file path: /Users/samcox/Desktop/md-agent/ckpt/ckpt_8/pdb/1LYZ_raw_20250124_023032.pdb\n",
      "To proceed, I will set up and run the molecular dynamics simulation using the cleaned PDB file (1LYZ_023039) for 1 picosecond at 300 K. After the simulation, I will report the secondary structure assignments and compute the RMSD.\n",
      "\n",
      "Action:\n",
      "```json\n",
      "{\n",
      "  \"action\": \"SetUpandRunFunction\",\n",
      "  \"action_input\": {\n",
      "    \"pdb_id\": \"1LYZ_023039\",\n",
      "    \"forcefield_files\": [\"amber99sb.xml\", \"tip3p.xml\"],\n",
      "    \"save\": true,\n",
      "    \"system_params\": {\n",
      "      \"nonbondedMethod\": \"NoCutoff\",\n",
      "      \"constraints\": \"None\",\n",
      "      \"rigidWater\": false\n",
      "    },\n",
      "    \"integrator_params\": {\n",
      "      \"integrator_type\": \"LangevinMiddle\",\n",
      "      \"Temperature\": \"300 * kelvin\",\n",
      "      \"Friction\": \"1.0 / picoseconds\",\n",
      "      \"Timestep\": \"0.002 * picoseconds\"\n",
      "    },\n",
      "    \"simulation_params\": {\n",
      "      \"Ensemble\": \"NVT\",\n",
      "      \"Number of Steps\": 500,\n",
      "      \"record_interval_steps\": 100,\n",
      "      \"record_params\": [\"step\", \"potentialEnergy\", \"temperature\"]\n",
      "    }\n",
      "  }\n",
      "}\n",
      "```Building system...\n",
      "About to create system...\n",
      "Attempts at creating system: 0/3\n",
      "adding system without solvent\n",
      "System built successfully\n",
      "<openmm.openmm.System; proxy of <Swig Object of type 'OpenMM::System *' at 0x17d44a280> >\n",
      "Setting up integrator...\n",
      "Creating simulation...\n",
      "simulation set!\n",
      "Performing energy minimization...\n",
      "Minimization complete!\n",
      "Initial Positions saved to initial_positions.pdb\n",
      "Equilibrating...\n",
      "Simulating...\n",
      "Done!\n",
      "Standalone simulation script written to /Users/samcox/Desktop/md-agent/ckpt/ckpt_8/simulations/NVT_1LYZ_023039_20250124_023044.py\n",
      "['prompt9.ipynb', 'LOG_sim0_023044_1LYZ_023039_20250124_023044.txt', 'prompt8.ipynb', 'TRAJ_sim0_023044_1LYZ_023039_20250124_023044.dcd', 'prompt10.ipynb', 'prompt2.ipynb', 'prompt6.ipynb', 'prompt4.ipynb', 'prompt3.ipynb', 'prompt1.ipynb', 'TOP_sim0_023044_1LYZ_023039_20250124_023044.pdb', 'prompt5.ipynb', 'prompt7.ipynb']\n",
      "To complete the task, I need to perform the following steps:\n",
      "\n",
      "1. Report the secondary structure assignments of the downloaded PDB structure using the cleaned PDB file (1LYZ_023039).\n",
      "2. Compute the RMSD of the simulation using the simulation trajectory file (rec0_023044).\n",
      "\n",
      "I will start by reporting the secondary structure assignments of the cleaned PDB structure.\n",
      "\n",
      "Action:\n",
      "```json\n",
      "{\n",
      "  \"action\": \"ComputeDSSP\",\n",
      "  \"action_input\": {\n",
      "    \"traj_file\": \"rec2_023044\",\n",
      "    \"top_file\": \"1LYZ_023039\",\n",
      "    \"target_frames\": \"first\"\n",
      "  }\n",
      "}\n",
      "```To complete the task, I need to compute the RMSD of the simulation using the simulation trajectory file (rec0_023044) and the initial topology file (top_sim0_023044).\n",
      "\n",
      "Action:\n",
      "```json\n",
      "{\n",
      "  \"action\": \"ComputeRMSD\",\n",
      "  \"action_input\": {\n",
      "    \"top_id\": \"top_sim0_023044\",\n",
      "    \"traj_id\": \"rec0_023044\",\n",
      "    \"select\": \"protein\"\n",
      "  }\n",
      "}\n",
      "```Calculating RMSD...\n",
      "Data saved to /Users/samcox/Desktop/md-agent/ckpt/ckpt_8/records/rmsd_023044.csv\n",
      "Plot saved to /Users/samcox/Desktop/md-agent/ckpt/ckpt_8/figures/FIG_rmsd_023044_20250124_023053.png\n",
      "To finalize the task, I have successfully completed the following steps:\n",
      "\n",
      "1. **Downloaded and cleaned the PDB file for 1LYZ**: The PDB file was cleaned to ensure compatibility with the forcefield by adding missing atoms and hydrogens, replacing nonstandard residues, and removing heterogens and water.\n",
      "\n",
      "2. **Ran a molecular dynamics simulation**: The simulation was conducted for 1 picosecond at 300 K using the cleaned PDB file. The simulation trajectory and state log were successfully generated.\n",
      "\n",
      "3. **Reported the secondary structure assignments**: Using the cleaned PDB structure, the secondary structure assignments were determined as follows:\n",
      "   - Residues in helix: 49\n",
      "   - Residues in strand: 14\n",
      "   - Residues in coil: 66\n",
      "\n",
      "4. **Computed the RMSD of the simulation**: The RMSD was calculated and saved to a CSV file, with a plot also generated.\n",
      "\n",
      "Final Answer: The secondary structure assignments for the cleaned PDB structure of 1LYZ are 49 residues in helix, 14 in strand, and 66 in coil. The RMSD of the simulation was successfully computed and saved."
     ]
    },
    {
     "data": {
      "text/plain": [
       "({'input': '\\n    You are an expert molecular dynamics scientist, and\\n    your task is to respond to the question or\\n    solve the problem to the best of your ability using\\n    the provided tools.\\n\\n    You can only respond with a single complete\\n    \\'Thought, Action, Action Input\\' format\\n    OR a single \\'Final Answer\\' format.\\n\\n    Complete format:\\n    Thought: (reflect on your progress and decide what to do next)\\n    Action:\\n    ```\\n    {\\n        \"action\": (the action name, it should be the name of a tool),\\n        \"action_input\": (the input string for the action)\\n    }\\n    \\'\\'\\'\\n\\n    OR\\n\\n    Final Answer: (the final response to the original input\\n    question, once all steps are complete)\\n\\n    You are required to use the tools provided,\\n    using the most specific tool\\n    available for each action.\\n    Your final answer should contain all information\\n    necessary to answer the question and its subquestions.\\n    Before you finish, reflect on your progress and make\\n    sure you have addressed the question in its entirety.\\n\\n    If you are asked to continue\\n    or reference previous runs,\\n    the context will be provided to you.\\n    If context is provided, you should assume\\n    you are continuing a chat.\\n\\n    Here is the input:\\n    Previous Context: None\\n    Question: Simulate 1LYZ for 1ps at 300 K. Report the secondary structure assignments of the downloaded PDB structure, and compute the RMSD of the simulation. ',\n",
       "  'output': 'To finalize the task, I have successfully completed the following steps:\\n\\n1. **Downloaded and cleaned the PDB file for 1LYZ**: The PDB file was cleaned to ensure compatibility with the forcefield by adding missing atoms and hydrogens, replacing nonstandard residues, and removing heterogens and water.\\n\\n2. **Ran a molecular dynamics simulation**: The simulation was conducted for 1 picosecond at 300 K using the cleaned PDB file. The simulation trajectory and state log were successfully generated.\\n\\n3. **Reported the secondary structure assignments**: Using the cleaned PDB structure, the secondary structure assignments were determined as follows:\\n   - Residues in helix: 49\\n   - Residues in strand: 14\\n   - Residues in coil: 66\\n\\n4. **Computed the RMSD of the simulation**: The RMSD was calculated and saved to a CSV file, with a plot also generated.\\n\\nFinal Answer: The secondary structure assignments for the cleaned PDB structure of 1LYZ are 49 residues in helix, 14 in strand, and 66 in coil. The RMSD of the simulation was successfully computed and saved.'},\n",
       " 'DHI2FBVM')"
      ]
     },
     "execution_count": 11,
     "metadata": {},
     "output_type": "execute_result"
    }
   ],
   "source": [
    "agent_2 = MDAgent(agent_type=\"Structured\", model=llm_model, top_k_tools=tools, use_memory=False)\n",
    "agent_2.run(prompt_4_natural)"
   ]
  },
  {
   "cell_type": "code",
   "execution_count": 12,
   "metadata": {},
   "outputs": [
    {
     "name": "stdout",
     "output_type": "stream",
     "text": [
      "Files found in registry: 1LYZ_023032: PDB file downloaded from RSCB\n",
      " PDBFile ID: 1LYZ_023032\n",
      " 1LYZ_023039: Cleaned File:  Removed Heterogens\n",
      " and Water Removed.  Replaced Nonstandard Residues. Added Hydrogens at pH 7.0. Missing Atoms Added and replaces nonstandard residues. \n",
      " top_sim0_023044: Initial positions for simulation sim0_023044\n",
      " sim0_023044: Basic Simulation of Protein 1LYZ_023039\n",
      " rec0_023044: Simulation trajectory for protein 1LYZ_023039 and simulation sim0_023044\n",
      " rec1_023044: Simulation state log for protein 1LYZ_023039 and simulation sim0_023044\n",
      " rec2_023044: Simulation pdb frames for protein 1LYZ_023039 and simulation sim0_023044\n",
      " rec0_023050: dssp values for trajectory with id: rec2_023044\n",
      " rmsd_023044: RMSD for 023044\n",
      " fig0_023053: RMSD plot for 023044\n"
     ]
    }
   ],
   "source": [
    "registry_2 = agent_2.path_registry\n",
    "print(registry_2.list_path_names_and_descriptions().replace(\",\", \"\\n\"))"
   ]
  },
  {
   "cell_type": "code",
   "execution_count": 15,
   "metadata": {},
   "outputs": [],
   "source": [
    "# make sure pdb was downloaded\n",
    "assert os.path.exists(registry_2.get_mapped_path(\"1LYZ_023032\"))"
   ]
  },
  {
   "cell_type": "code",
   "execution_count": 16,
   "metadata": {},
   "outputs": [
    {
     "data": {
      "text/plain": [
       "\"{'residues in helix': 50, 'residues in strand': 14, 'residues in coil': 65, 'residues not assigned, not a protein residue': 101}\""
      ]
     },
     "execution_count": 16,
     "metadata": {},
     "output_type": "execute_result"
    }
   ],
   "source": [
    "# make sure dssp was computed correctly\n",
    "from mdagent.tools.base_tools import ComputeDSSP\n",
    "\n",
    "dssp = ComputeDSSP(registry_2)\n",
    "dssp._run(traj_file= \"1LYZ_023032\", target_frames=\"first\")"
   ]
  },
  {
   "cell_type": "code",
   "execution_count": 17,
   "metadata": {},
   "outputs": [],
   "source": [
    "# make sure trajectory and topology exist\n",
    "traj_path_2 = registry_2.get_mapped_path(\"rec0_023044\")\n",
    "top_path_2 = registry_2.get_mapped_path(\"top_sim0_023044\")\n",
    "\n",
    "assert os.path.exists(traj_path_2)\n",
    "assert os.path.exists(top_path_2)"
   ]
  },
  {
   "cell_type": "code",
   "execution_count": 18,
   "metadata": {},
   "outputs": [
    {
     "data": {
      "image/png": "[encoded data removed]",
      "text/plain": [
       "<IPython.core.display.Image object>"
      ]
     },
     "execution_count": 18,
     "metadata": {},
     "output_type": "execute_result"
    }
   ],
   "source": [
    "# make sure rmsd plot was generated\n",
    "from IPython.display import Image\n",
    "Image(filename=registry_2.get_mapped_path('fig0_023053'))"
   ]
  },
  {
   "cell_type": "code",
   "execution_count": null,
   "metadata": {},
   "outputs": [],
   "source": []
  }
 ],
 "metadata": {
  "kernelspec": {
   "display_name": "mdagent",
   "language": "python",
   "name": "python3"
  },
  "language_info": {
   "codemirror_mode": {
    "name": "ipython",
    "version": 3
   },
   "file_extension": ".py",
   "mimetype": "text/x-python",
   "name": "python",
   "nbconvert_exporter": "python",
   "pygments_lexer": "ipython3",
   "version": "3.12.8"
  }
 },
 "nbformat": 4,
 "nbformat_minor": 2
}
