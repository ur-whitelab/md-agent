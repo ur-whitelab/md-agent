{
 "cells": [
  {
   "cell_type": "code",
   "execution_count": null,
   "metadata": {},
   "outputs": [],
   "source": [
    "from mdagent import MDAgent"
   ]
  },
  {
   "cell_type": "code",
   "execution_count": null,
   "metadata": {},
   "outputs": [],
   "source": [
    "import sys\n",
    "import os\n",
    "parent_dir = os.path.abspath(os.path.join(os.getcwd(), '..'))\n",
    "sys.path.append(parent_dir)\n",
    "from robustness_prompts import get_prompt\n",
    "\n",
    "prompt_2_descriptive = get_prompt(\"descriptive\", 2)\n",
    "prompt_2_natural = get_prompt(\"natural\", 2)\n",
    "\n",
    "prompt_2_descriptive, prompt_2_natural"
   ]
  },
  {
   "cell_type": "markdown",
   "metadata": {},
   "source": [
    "Required Tasks:\n",
    "- Download\n",
    "- SS Analysis"
   ]
  },
  {
   "cell_type": "code",
   "execution_count": null,
   "metadata": {},
   "outputs": [],
   "source": [
    "llm_model = \"gpt-4o-2024-08-06\"\n",
    "tools = \"all\""
   ]
  },
  {
   "cell_type": "code",
   "execution_count": null,
   "metadata": {},
   "outputs": [],
   "source": [
    "agent_1 = MDAgent(agent_type=\"Structured\", model=llm_model, top_k_tools=tools)\n",
    "agent_1.run(prompt_2_descriptive)"
   ]
  },
  {
   "cell_type": "code",
   "execution_count": null,
   "metadata": {},
   "outputs": [],
   "source": [
    "registry_1 = agent_1.path_registry\n",
    "print(registry_1.list_path_names_and_descriptions())"
   ]
  },
  {
   "cell_type": "code",
   "execution_count": null,
   "metadata": {},
   "outputs": [],
   "source": [
    "## make sure pdb was downloaded\n",
    "# assert os.path.exists(registry_1.get_mapped_path(\"<PDB>\"))"
   ]
  },
  {
   "cell_type": "code",
   "execution_count": null,
   "metadata": {},
   "outputs": [],
   "source": [
    "## make sure dssp was computed correctly\n",
    "# from mdagent.tools.base_tools import ComputeDSSP\n",
    "\n",
    "# dssp = ComputeDSSP(registry_1)\n",
    "# dssp._run(traj_file= \"<PDB>\", target_frames=\"first\")"
   ]
  },
  {
   "cell_type": "code",
   "execution_count": null,
   "metadata": {},
   "outputs": [],
   "source": [
    "agent_2 = MDAgent(agent_type=\"Structured\", model=llm_model, top_k_tools=tools)\n",
    "agent_2.run(prompt_2_natural)"
   ]
  },
  {
   "cell_type": "code",
   "execution_count": null,
   "metadata": {},
   "outputs": [],
   "source": [
    "registry_2 = agent_2.path_registry\n",
    "print(registry_2.list_path_names_and_descriptions())"
   ]
  },
  {
   "cell_type": "code",
   "execution_count": null,
   "metadata": {},
   "outputs": [],
   "source": [
    "## make sure pdb was downloaded\n",
    "# assert os.path.exists(registry_2.get_mapped_path(\"<PDB>\"))"
   ]
  },
  {
   "cell_type": "code",
   "execution_count": null,
   "metadata": {},
   "outputs": [],
   "source": [
    "## make sure dssp was computed correctly\n",
    "# from mdagent.tools.base_tools import ComputeDSSP\n",
    "\n",
    "# dssp = ComputeDSSP(registry_2)\n",
    "# dssp._run(traj_file= \"<PDB>\", target_frames=\"first\")"
   ]
  }
 ],
 "metadata": {
  "kernelspec": {
   "display_name": "mdagent2",
   "language": "python",
   "name": "python3"
  },
  "language_info": {
   "codemirror_mode": {
    "name": "ipython",
    "version": 3
   },
   "file_extension": ".py",
   "mimetype": "text/x-python",
   "name": "python",
   "nbconvert_exporter": "python",
   "pygments_lexer": "ipython3",
   "version": "3.12.5"
  }
 },
 "nbformat": 4,
 "nbformat_minor": 2
}
