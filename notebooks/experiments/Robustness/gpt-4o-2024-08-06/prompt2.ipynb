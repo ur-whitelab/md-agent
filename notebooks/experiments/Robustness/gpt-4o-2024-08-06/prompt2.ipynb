{
 "cells": [
  {
   "cell_type": "code",
   "execution_count": 1,
   "metadata": {},
   "outputs": [],
   "source": [
    "from mdagent import MDAgent"
   ]
  },
  {
   "cell_type": "code",
   "execution_count": 2,
   "metadata": {},
   "outputs": [
    {
     "data": {
      "text/plain": [
       "('Complete all of the following tasks: 1. Download the PDB file 1LYZ. 2. Report the secondary structure assignments of the structure.',\n",
       " 'Download the PDB file 1LYZ. Report the secondary structure assignments of the structure.')"
      ]
     },
     "execution_count": 2,
     "metadata": {},
     "output_type": "execute_result"
    }
   ],
   "source": [
    "import sys\n",
    "import os\n",
    "parent_dir = os.path.abspath(os.path.join(os.getcwd(), '..'))\n",
    "sys.path.append(parent_dir)\n",
    "from robustness_prompts import get_prompt\n",
    "\n",
    "prompt_2_descriptive = get_prompt(\"descriptive\", 2)\n",
    "prompt_2_natural = get_prompt(\"natural\", 2)\n",
    "\n",
    "prompt_2_descriptive, prompt_2_natural"
   ]
  },
  {
   "cell_type": "code",
   "execution_count": 3,
   "metadata": {},
   "outputs": [],
   "source": [
    "llm_model = \"gpt-4o-2024-08-06\"\n",
    "tools = \"all\""
   ]
  },
  {
   "cell_type": "code",
   "execution_count": 4,
   "metadata": {},
   "outputs": [
    {
     "name": "stdout",
     "output_type": "stream",
     "text": [
      "Thought: To complete the tasks, I need to first download the PDB file for 1LYZ and then compute the secondary structure assignments for the structure. I will start by downloading the PDB file.\n",
      "\n",
      "Action:\n",
      "```json\n",
      "{\n",
      "  \"action\": \"PDBFileDownloader\",\n",
      "  \"action_input\": \"1LYZ\"\n",
      "}\n",
      "```PDB file found with this ID: 1LYZ\n",
      "To proceed with the next task, I need to compute the secondary structure assignments for the downloaded PDB file 1LYZ. I will use the ComputeDSSP tool to achieve this.\n",
      "\n",
      "Action:\n",
      "```json\n",
      "{\n",
      "  \"action\": \"ComputeDSSP\",\n",
      "  \"action_input\": {\n",
      "    \"traj_file\": \"1LYZ_022542\",\n",
      "    \"target_frames\": \"first\"\n",
      "  }\n",
      "}\n",
      "```To complete the tasks, I have successfully downloaded the PDB file for 1LYZ and computed the secondary structure assignments. Here are the results:\n",
      "\n",
      "- Residues in helix: 50\n",
      "- Residues in strand: 14\n",
      "- Residues in coil: 65\n",
      "- Residues not assigned, not a protein residue: 101\n",
      "\n",
      "Final Answer: The PDB file for 1LYZ has been downloaded, and the secondary structure assignments are as follows: 50 residues in helix, 14 residues in strand, 65 residues in coil, and 101 residues not assigned as they are not protein residues."
     ]
    },
    {
     "data": {
      "text/plain": [
       "({'input': '\\n    You are an expert molecular dynamics scientist, and\\n    your task is to respond to the question or\\n    solve the problem to the best of your ability using\\n    the provided tools.\\n\\n    You can only respond with a single complete\\n    \\'Thought, Action, Action Input\\' format\\n    OR a single \\'Final Answer\\' format.\\n\\n    Complete format:\\n    Thought: (reflect on your progress and decide what to do next)\\n    Action:\\n    ```\\n    {\\n        \"action\": (the action name, it should be the name of a tool),\\n        \"action_input\": (the input string for the action)\\n    }\\n    \\'\\'\\'\\n\\n    OR\\n\\n    Final Answer: (the final response to the original input\\n    question, once all steps are complete)\\n\\n    You are required to use the tools provided,\\n    using the most specific tool\\n    available for each action.\\n    Your final answer should contain all information\\n    necessary to answer the question and its subquestions.\\n    Before you finish, reflect on your progress and make\\n    sure you have addressed the question in its entirety.\\n\\n    If you are asked to continue\\n    or reference previous runs,\\n    the context will be provided to you.\\n    If context is provided, you should assume\\n    you are continuing a chat.\\n\\n    Here is the input:\\n    Previous Context: None\\n    Question: Complete all of the following tasks: 1. Download the PDB file 1LYZ. 2. Report the secondary structure assignments of the structure. ',\n",
       "  'output': 'To complete the tasks, I have successfully downloaded the PDB file for 1LYZ and computed the secondary structure assignments. Here are the results:\\n\\n- Residues in helix: 50\\n- Residues in strand: 14\\n- Residues in coil: 65\\n- Residues not assigned, not a protein residue: 101\\n\\nFinal Answer: The PDB file for 1LYZ has been downloaded, and the secondary structure assignments are as follows: 50 residues in helix, 14 residues in strand, 65 residues in coil, and 101 residues not assigned as they are not protein residues.'},\n",
       " 'SUVKGTM7')"
      ]
     },
     "execution_count": 4,
     "metadata": {},
     "output_type": "execute_result"
    }
   ],
   "source": [
    "agent_1 = MDAgent(agent_type=\"Structured\", model=llm_model, top_k_tools=tools, use_memory=False)\n",
    "agent_1.run(prompt_2_descriptive)"
   ]
  },
  {
   "cell_type": "code",
   "execution_count": 5,
   "metadata": {},
   "outputs": [
    {
     "name": "stdout",
     "output_type": "stream",
     "text": [
      "Files found in registry: 1LYZ_022542: PDB file downloaded from RSCB, PDBFile ID: 1LYZ_022542, rec0_022544: dssp values for trajectory with id: 1LYZ_022542\n"
     ]
    }
   ],
   "source": [
    "registry_1 = agent_1.path_registry\n",
    "print(registry_1.list_path_names_and_descriptions())"
   ]
  },
  {
   "cell_type": "code",
   "execution_count": 6,
   "metadata": {},
   "outputs": [],
   "source": [
    "# make sure pdb was downloaded\n",
    "assert os.path.exists(registry_1.get_mapped_path(\"1LYZ_022542\"))"
   ]
  },
  {
   "cell_type": "code",
   "execution_count": 7,
   "metadata": {},
   "outputs": [
    {
     "data": {
      "text/plain": [
       "\"{'residues in helix': 50, 'residues in strand': 14, 'residues in coil': 65, 'residues not assigned, not a protein residue': 101}\""
      ]
     },
     "execution_count": 7,
     "metadata": {},
     "output_type": "execute_result"
    }
   ],
   "source": [
    "# make sure dssp was computed correctly\n",
    "from mdagent.tools.base_tools import ComputeDSSP\n",
    "\n",
    "dssp = ComputeDSSP(registry_1)\n",
    "dssp._run(traj_file= \"1LYZ_022542\", target_frames=\"first\")"
   ]
  },
  {
   "cell_type": "code",
   "execution_count": 8,
   "metadata": {},
   "outputs": [
    {
     "name": "stdout",
     "output_type": "stream",
     "text": [
      "Thought: To address the question, I need to first download the PDB file for 1LYZ and then compute the secondary structure assignments using the DSSP tool. I will start by downloading the PDB file.\n",
      "\n",
      "Action:\n",
      "```json\n",
      "{\n",
      "  \"action\": \"PDBFileDownloader\",\n",
      "  \"action_input\": \"1LYZ\"\n",
      "}\n",
      "```PDB file found with this ID: 1LYZ\n",
      "To proceed, I will compute the secondary structure assignments for the downloaded PDB file 1LYZ using the DSSP tool.\n",
      "\n",
      "Action:\n",
      "```json\n",
      "{\n",
      "  \"action\": \"ComputeDSSP\",\n",
      "  \"action_input\": {\n",
      "    \"traj_file\": \"1LYZ_022601\",\n",
      "    \"target_frames\": \"all\"\n",
      "  }\n",
      "}\n",
      "```The secondary structure assignments for the PDB file 1LYZ have been computed. Here is the breakdown:\n",
      "\n",
      "- Residues in helix: 50\n",
      "- Residues in strand: 14\n",
      "- Residues in coil: 65\n",
      "- Residues not assigned (not a protein residue): 101\n",
      "\n",
      "Final Answer: The secondary structure of the PDB file 1LYZ consists of 50 residues in helices, 14 residues in strands, and 65 residues in coils. Additionally, there are 101 residues that are not assigned as they are not protein residues."
     ]
    },
    {
     "data": {
      "text/plain": [
       "({'input': '\\n    You are an expert molecular dynamics scientist, and\\n    your task is to respond to the question or\\n    solve the problem to the best of your ability using\\n    the provided tools.\\n\\n    You can only respond with a single complete\\n    \\'Thought, Action, Action Input\\' format\\n    OR a single \\'Final Answer\\' format.\\n\\n    Complete format:\\n    Thought: (reflect on your progress and decide what to do next)\\n    Action:\\n    ```\\n    {\\n        \"action\": (the action name, it should be the name of a tool),\\n        \"action_input\": (the input string for the action)\\n    }\\n    \\'\\'\\'\\n\\n    OR\\n\\n    Final Answer: (the final response to the original input\\n    question, once all steps are complete)\\n\\n    You are required to use the tools provided,\\n    using the most specific tool\\n    available for each action.\\n    Your final answer should contain all information\\n    necessary to answer the question and its subquestions.\\n    Before you finish, reflect on your progress and make\\n    sure you have addressed the question in its entirety.\\n\\n    If you are asked to continue\\n    or reference previous runs,\\n    the context will be provided to you.\\n    If context is provided, you should assume\\n    you are continuing a chat.\\n\\n    Here is the input:\\n    Previous Context: None\\n    Question: Download the PDB file 1LYZ. Report the secondary structure assignments of the structure. ',\n",
       "  'output': 'The secondary structure assignments for the PDB file 1LYZ have been computed. Here is the breakdown:\\n\\n- Residues in helix: 50\\n- Residues in strand: 14\\n- Residues in coil: 65\\n- Residues not assigned (not a protein residue): 101\\n\\nFinal Answer: The secondary structure of the PDB file 1LYZ consists of 50 residues in helices, 14 residues in strands, and 65 residues in coils. Additionally, there are 101 residues that are not assigned as they are not protein residues.'},\n",
       " '4TCLY2OO')"
      ]
     },
     "execution_count": 8,
     "metadata": {},
     "output_type": "execute_result"
    }
   ],
   "source": [
    "agent_2 = MDAgent(agent_type=\"Structured\", model=llm_model, top_k_tools=tools, use_memory=False)\n",
    "agent_2.run(prompt_2_natural)"
   ]
  },
  {
   "cell_type": "code",
   "execution_count": 10,
   "metadata": {},
   "outputs": [
    {
     "name": "stdout",
     "output_type": "stream",
     "text": [
      "Files found in registry: 1LYZ_022601: PDB file downloaded from RSCB, PDBFile ID: 1LYZ_022601, rec0_022603: dssp values for trajectory with id: 1LYZ_022601\n"
     ]
    }
   ],
   "source": [
    "registry_2 = agent_2.path_registry\n",
    "print(registry_2.list_path_names_and_descriptions())"
   ]
  },
  {
   "cell_type": "code",
   "execution_count": 11,
   "metadata": {},
   "outputs": [],
   "source": [
    "# make sure pdb was downloaded\n",
    "assert os.path.exists(registry_2.get_mapped_path(\"1LYZ_022601\"))"
   ]
  },
  {
   "cell_type": "code",
   "execution_count": 12,
   "metadata": {},
   "outputs": [
    {
     "data": {
      "text/plain": [
       "\"{'residues in helix': 50, 'residues in strand': 14, 'residues in coil': 65, 'residues not assigned, not a protein residue': 101}\""
      ]
     },
     "execution_count": 12,
     "metadata": {},
     "output_type": "execute_result"
    }
   ],
   "source": [
    "# make sure dssp was computed correctly\n",
    "from mdagent.tools.base_tools import ComputeDSSP\n",
    "\n",
    "dssp = ComputeDSSP(registry_2)\n",
    "dssp._run(traj_file= \"1LYZ_022601\", target_frames=\"first\")"
   ]
  },
  {
   "cell_type": "code",
   "execution_count": null,
   "metadata": {},
   "outputs": [],
   "source": []
  }
 ],
 "metadata": {
  "kernelspec": {
   "display_name": "mdagent",
   "language": "python",
   "name": "python3"
  },
  "language_info": {
   "codemirror_mode": {
    "name": "ipython",
    "version": 3
   },
   "file_extension": ".py",
   "mimetype": "text/x-python",
   "name": "python",
   "nbconvert_exporter": "python",
   "pygments_lexer": "ipython3",
   "version": "3.12.8"
  }
 },
 "nbformat": 4,
 "nbformat_minor": 2
}
