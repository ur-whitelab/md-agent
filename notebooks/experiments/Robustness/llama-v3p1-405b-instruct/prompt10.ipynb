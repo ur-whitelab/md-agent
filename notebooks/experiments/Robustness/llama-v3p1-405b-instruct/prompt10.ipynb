{
 "cells": [
  {
   "cell_type": "code",
   "execution_count": 2,
   "metadata": {},
   "outputs": [],
   "source": [
    "from mdcrow import MDCrow\n",
    "import os"
   ]
  },
  {
   "cell_type": "code",
   "execution_count": 2,
   "metadata": {
    "execution": {
     "iopub.execute_input": "2024-10-26T01:24:36.535846Z",
     "iopub.status.busy": "2024-10-26T01:24:36.534745Z",
     "iopub.status.idle": "2024-10-26T01:24:36.541986Z",
     "shell.execute_reply": "2024-10-26T01:24:36.541101Z"
    }
   },
   "outputs": [],
   "source": [
    "descriptive_prompt_10 = \"Complete all of the following tasks: 1. Download the PDB file 1LYZ. 2. Tell me how many residues are in the chains and beta sheets. 3. Simulate for 1 ps at 300 K. 4. Compute the RMSD of the simulation at 300 K. 5. Compute the radius of gyration over time for the simulation at 300 K. 6. Compute the SASA (solvent accessible surface area) for the simulation at 300 K. 7. Simulate for 1 ps at 400 K. 8. Compute the RMSD of the simulation at 400 K. 9. Compute the radius of gyration over time for the simulation at 400 K. 10. Compute the SASA (solvent accessible surface area) for the simulation at 400 K.\"\n",
    "non_descriptive_prompt_10 = \"Simulate 1LYZ for 1 ps at 300K and 400K. Tell me how many residues are in the chains and beta sheets, and compute the RMSD, SASA, and radius of gyration of both simulations.\""
   ]
  },
  {
   "cell_type": "code",
   "execution_count": 3,
   "metadata": {
    "execution": {
     "iopub.execute_input": "2024-10-26T01:24:36.545999Z",
     "iopub.status.busy": "2024-10-26T01:24:36.545669Z",
     "iopub.status.idle": "2024-10-26T01:24:36.552589Z",
     "shell.execute_reply": "2024-10-26T01:24:36.551699Z"
    }
   },
   "outputs": [],
   "source": [
    "llm_model = \"accounts/fireworks/models/llama-v3p1-405b-instruct\"\n",
    "tools = \"all\""
   ]
  },
  {
   "cell_type": "code",
   "execution_count": 4,
   "metadata": {
    "execution": {
     "iopub.execute_input": "2024-10-26T01:24:36.556384Z",
     "iopub.status.busy": "2024-10-26T01:24:36.556093Z",
     "iopub.status.idle": "2024-10-26T01:24:36.593403Z",
     "shell.execute_reply": "2024-10-26T01:24:36.592154Z"
    }
   },
   "outputs": [
    {
     "name": "stdout",
     "output_type": "stream",
     "text": [
      "date: 2024-10-25\n",
      "time: 21:24:36\n"
     ]
    }
   ],
   "source": [
    "#todays date and time\n",
    "import datetime\n",
    "now = datetime.datetime.now()\n",
    "date = now.strftime(\"%Y-%m-%d\")\n",
    "print(\"date:\",date)\n",
    "time = now.strftime(\"%H:%M:%S\")\n",
    "print(\"time:\",time)"
   ]
  },
  {
   "cell_type": "markdown",
   "metadata": {},
   "source": [
    "# descriptive prompt"
   ]
  },
  {
   "cell_type": "code",
   "execution_count": 5,
   "metadata": {
    "execution": {
     "iopub.execute_input": "2024-10-26T01:24:36.627787Z",
     "iopub.status.busy": "2024-10-26T01:24:36.627416Z",
     "iopub.status.idle": "2024-10-26T01:24:37.045800Z",
     "shell.execute_reply": "2024-10-26T01:24:37.044982Z"
    }
   },
   "outputs": [],
   "source": [
    "agent_1 = MDCrow(agent_type=\"Structured\", model=llm_model, top_k_tools=tools)"
   ]
  },
  {
   "cell_type": "code",
   "execution_count": 6,
   "metadata": {
    "execution": {
     "iopub.execute_input": "2024-10-26T01:24:37.050992Z",
     "iopub.status.busy": "2024-10-26T01:24:37.050644Z",
     "iopub.status.idle": "2024-10-26T01:27:42.843525Z",
     "shell.execute_reply": "2024-10-26T01:27:42.842535Z"
    }
   },
   "outputs": [
    {
     "name": "stdout",
     "output_type": "stream",
     "text": [
      "Thought:"
     ]
    },
    {
     "name": "stdout",
     "output_type": "stream",
     "text": [
      " First, I need to download"
     ]
    },
    {
     "name": "stdout",
     "output_type": "stream",
     "text": [
      " the PDB file 1LYZ"
     ]
    },
    {
     "name": "stdout",
     "output_type": "stream",
     "text": [
      ".\n",
      "Action:\n",
      "```\n",
      "{\n"
     ]
    },
    {
     "name": "stdout",
     "output_type": "stream",
     "text": [
      "  \"action\": \"P"
     ]
    },
    {
     "name": "stdout",
     "output_type": "stream",
     "text": [
      "DBFileDownloader\",\n",
      "  \"action_input"
     ]
    },
    {
     "name": "stdout",
     "output_type": "stream",
     "text": [
      "\": \"1LYZ\"\n",
      "}\n",
      "``"
     ]
    },
    {
     "name": "stdout",
     "output_type": "stream",
     "text": [
      "`\n"
     ]
    },
    {
     "name": "stdout",
     "output_type": "stream",
     "text": [
      "PDB file found with this ID: 1LYZ\n"
     ]
    },
    {
     "name": "stdout",
     "output_type": "stream",
     "text": [
      "Next,"
     ]
    },
    {
     "name": "stdout",
     "output_type": "stream",
     "text": [
      " I need to determine how"
     ]
    },
    {
     "name": "stdout",
     "output_type": "stream",
     "text": [
      " many residues are in the"
     ]
    },
    {
     "name": "stdout",
     "output_type": "stream",
     "text": [
      " chains and beta sheets of the protein "
     ]
    },
    {
     "name": "stdout",
     "output_type": "stream",
     "text": [
      "1LYZ.\n",
      "\n",
      "Action"
     ]
    },
    {
     "name": "stdout",
     "output_type": "stream",
     "text": [
      ":\n",
      "```\n",
      "{\n",
      "  \"action\":"
     ]
    },
    {
     "name": "stdout",
     "output_type": "stream",
     "text": [
      " \"GetTurns"
     ]
    },
    {
     "name": "stdout",
     "output_type": "stream",
     "text": [
      "BetaSheetsHelices\",\n",
      "  \""
     ]
    },
    {
     "name": "stdout",
     "output_type": "stream",
     "text": [
      "action_input\": {\n",
      "   "
     ]
    },
    {
     "name": "stdout",
     "output_type": "stream",
     "text": [
      " \"query\": \"1LYZ\",\n"
     ]
    },
    {
     "name": "stdout",
     "output_type": "stream",
     "text": [
      "    \"primary_accession\": \"\"\n",
      " "
     ]
    },
    {
     "name": "stdout",
     "output_type": "stream",
     "text": [
      " }\n",
      "}\n",
      "```"
     ]
    },
    {
     "name": "stdout",
     "output_type": "stream",
     "text": [
      "Next,"
     ]
    },
    {
     "name": "stdout",
     "output_type": "stream",
     "text": [
      " I need to simulate the protein 1"
     ]
    },
    {
     "name": "stdout",
     "output_type": "stream",
     "text": [
      "LYZ for 1 ps at "
     ]
    },
    {
     "name": "stdout",
     "output_type": "stream",
     "text": [
      "300 K.\n",
      "\n",
      "Action:\n",
      "```\n",
      "{\n"
     ]
    },
    {
     "name": "stdout",
     "output_type": "stream",
     "text": [
      "  \"action\": \"SetUpandRun"
     ]
    },
    {
     "name": "stdout",
     "output_type": "stream",
     "text": [
      "Function\",\n",
      "  \"action_input\": {\n"
     ]
    },
    {
     "name": "stdout",
     "output_type": "stream",
     "text": [
      "    \"pdb_id"
     ]
    },
    {
     "name": "stdout",
     "output_type": "stream",
     "text": [
      "\": \"1LYZ_212440"
     ]
    },
    {
     "name": "stdout",
     "output_type": "stream",
     "text": [
      "\",\n",
      "    \"forcefield_files\": [\""
     ]
    },
    {
     "name": "stdout",
     "output_type": "stream",
     "text": [
      "amber99sbildn"
     ]
    },
    {
     "name": "stdout",
     "output_type": "stream",
     "text": [
      ".xml\"],\n",
      "    \""
     ]
    },
    {
     "name": "stdout",
     "output_type": "stream",
     "text": [
      "save\": true,\n",
      "    \"system_params"
     ]
    },
    {
     "name": "stdout",
     "output_type": "stream",
     "text": [
      "\": {\n",
      "      \"nonbondedMethod"
     ]
    },
    {
     "name": "stdout",
     "output_type": "stream",
     "text": [
      "\": \"NoCutoff\",\n",
      "      \""
     ]
    },
    {
     "name": "stdout",
     "output_type": "stream",
     "text": [
      "constraints\": \"None\",\n",
      "     "
     ]
    },
    {
     "name": "stdout",
     "output_type": "stream",
     "text": [
      " \"rigidWater\": false\n"
     ]
    },
    {
     "name": "stdout",
     "output_type": "stream",
     "text": [
      "    },\n",
      "    \"integr"
     ]
    },
    {
     "name": "stdout",
     "output_type": "stream",
     "text": [
      "ator_params\": {\n",
      "      \"integrator"
     ]
    },
    {
     "name": "stdout",
     "output_type": "stream",
     "text": [
      "_type\": \"LangevinMiddle\",\n"
     ]
    },
    {
     "name": "stdout",
     "output_type": "stream",
     "text": [
      "      \"Temperature\": \"300 * kel"
     ]
    },
    {
     "name": "stdout",
     "output_type": "stream",
     "text": [
      "vin\",\n",
      "      \"Friction\": \""
     ]
    },
    {
     "name": "stdout",
     "output_type": "stream",
     "text": [
      "1.0 / picoseconds\",\n",
      "     "
     ]
    },
    {
     "name": "stdout",
     "output_type": "stream",
     "text": [
      " \"Timestep\": \"0.002"
     ]
    },
    {
     "name": "stdout",
     "output_type": "stream",
     "text": [
      " * picoseconds\",\n",
      "      \"Pressure\":"
     ]
    },
    {
     "name": "stdout",
     "output_type": "stream",
     "text": [
      " \"1.0 * bar\"\n",
      "   "
     ]
    },
    {
     "name": "stdout",
     "output_type": "stream",
     "text": [
      " },\n",
      "    \"simulation_params\": {\n",
      "     "
     ]
    },
    {
     "name": "stdout",
     "output_type": "stream",
     "text": [
      " \"Ensemble\": \"NVT\",\n"
     ]
    },
    {
     "name": "stdout",
     "output_type": "stream",
     "text": [
      "      \"Number of Steps\": 500"
     ]
    },
    {
     "name": "stdout",
     "output_type": "stream",
     "text": [
      ",\n",
      "     "
     ]
    },
    {
     "name": "stdout",
     "output_type": "stream",
     "text": [
      " \"record_interval_steps\": 10,\n"
     ]
    },
    {
     "name": "stdout",
     "output_type": "stream",
     "text": [
      "      \"record_params\": [\"step\","
     ]
    },
    {
     "name": "stdout",
     "output_type": "stream",
     "text": [
      " \"potentialEnergy\", \"temperature\"]\n",
      "   "
     ]
    },
    {
     "name": "stdout",
     "output_type": "stream",
     "text": [
      " }\n",
      "  }\n",
      "}\n",
      "```"
     ]
    },
    {
     "name": "stdout",
     "output_type": "stream",
     "text": [
      "Building system...\n"
     ]
    },
    {
     "name": "stdout",
     "output_type": "stream",
     "text": [
      "About to create system...\n",
      "Attempts at creating system: 0/3\n",
      "adding system without solvent\n",
      "Trying to add component to Forcefield...\n",
      "Residue code: LYS\n",
      "Residue code not in solvent list. Adding forcefield                         not supported.\n"
     ]
    },
    {
     "name": "stdout",
     "output_type": "stream",
     "text": [
      "Thought:"
     ]
    },
    {
     "name": "stdout",
     "output_type": "stream",
     "text": [
      " The simulation failed due to a missing template"
     ]
    },
    {
     "name": "stdout",
     "output_type": "stream",
     "text": [
      " for residue 1 ("
     ]
    },
    {
     "name": "stdout",
     "output_type": "stream",
     "text": [
      "LYS). I need to clean the"
     ]
    },
    {
     "name": "stdout",
     "output_type": "stream",
     "text": [
      " PDB file to add the"
     ]
    },
    {
     "name": "stdout",
     "output_type": "stream",
     "text": [
      " missing atoms.\n",
      "\n",
      "Action:\n",
      "```\n",
      "{\n"
     ]
    },
    {
     "name": "stdout",
     "output_type": "stream",
     "text": [
      "  \"action\": \"CleaningToolFunction"
     ]
    },
    {
     "name": "stdout",
     "output_type": "stream",
     "text": [
      "\",\n",
      "  \"action_input\": {\n",
      "   "
     ]
    },
    {
     "name": "stdout",
     "output_type": "stream",
     "text": [
      " \"pdb_id\": \"1LYZ"
     ]
    },
    {
     "name": "stdout",
     "output_type": "stream",
     "text": [
      "_212440\",\n",
      "    \"replace_non"
     ]
    },
    {
     "name": "stdout",
     "output_type": "stream",
     "text": [
      "standard_residues\": true,\n",
      "   "
     ]
    },
    {
     "name": "stdout",
     "output_type": "stream",
     "text": [
      " \"add_missing_atoms\": true,\n",
      "   "
     ]
    },
    {
     "name": "stdout",
     "output_type": "stream",
     "text": [
      " \"remove_heterogens\": true,\n"
     ]
    },
    {
     "name": "stdout",
     "output_type": "stream",
     "text": [
      "    \"remove_water\": true,\n",
      "   "
     ]
    },
    {
     "name": "stdout",
     "output_type": "stream",
     "text": [
      " \"add_hydrogens\": true,\n"
     ]
    },
    {
     "name": "stdout",
     "output_type": "stream",
     "text": [
      "    \"add_hydrogens_ph\":"
     ]
    },
    {
     "name": "stdout",
     "output_type": "stream",
     "text": [
      " 7.0\n",
      "  }\n",
      "}\n"
     ]
    },
    {
     "name": "stdout",
     "output_type": "stream",
     "text": [
      "```"
     ]
    },
    {
     "name": "stdout",
     "output_type": "stream",
     "text": [
      "file path: /gpfs/fs2/scratch/qcampbe2/repos/md-agent/ckpt/ckpt_59/pdb/1LYZ_raw_20241025_212440.pdb\n"
     ]
    },
    {
     "name": "stdout",
     "output_type": "stream",
     "text": [
      "Thought:"
     ]
    },
    {
     "name": "stdout",
     "output_type": "stream",
     "text": [
      " Now that the PDB file is cleaned"
     ]
    },
    {
     "name": "stdout",
     "output_type": "stream",
     "text": [
      ", I can simulate the protein 1"
     ]
    },
    {
     "name": "stdout",
     "output_type": "stream",
     "text": [
      "LYZ for 1 ps at "
     ]
    },
    {
     "name": "stdout",
     "output_type": "stream",
     "text": [
      "300 K.\n",
      "\n",
      "Action:\n",
      "```\n",
      "{\n"
     ]
    },
    {
     "name": "stdout",
     "output_type": "stream",
     "text": [
      "  \"action\": \"SetUpandRun"
     ]
    },
    {
     "name": "stdout",
     "output_type": "stream",
     "text": [
      "Function\",\n",
      "  \"action_input\": {\n"
     ]
    },
    {
     "name": "stdout",
     "output_type": "stream",
     "text": [
      "    \"pdb_id\": \"1LY"
     ]
    },
    {
     "name": "stdout",
     "output_type": "stream",
     "text": [
      "Z_212449\",\n",
      "    \"force"
     ]
    },
    {
     "name": "stdout",
     "output_type": "stream",
     "text": [
      "field_files\": [\"amber99sbild"
     ]
    },
    {
     "name": "stdout",
     "output_type": "stream",
     "text": [
      "n.xml\"],\n",
      "    \"save\": true"
     ]
    },
    {
     "name": "stdout",
     "output_type": "stream",
     "text": [
      ",\n",
      "    \"system_params\": {\n",
      "     "
     ]
    },
    {
     "name": "stdout",
     "output_type": "stream",
     "text": [
      " \"nonbondedMethod\": \"No"
     ]
    },
    {
     "name": "stdout",
     "output_type": "stream",
     "text": [
      "Cutoff\",\n",
      "      \"constraints\": \""
     ]
    },
    {
     "name": "stdout",
     "output_type": "stream",
     "text": [
      "None\",\n",
      "      \"rigidWater\":"
     ]
    },
    {
     "name": "stdout",
     "output_type": "stream",
     "text": [
      " false\n",
      "    },\n",
      "    \"integrator"
     ]
    },
    {
     "name": "stdout",
     "output_type": "stream",
     "text": [
      "_params\": {\n",
      "      \"integrator_type"
     ]
    },
    {
     "name": "stdout",
     "output_type": "stream",
     "text": [
      "\": \"LangevinMiddle\",\n",
      "     "
     ]
    },
    {
     "name": "stdout",
     "output_type": "stream",
     "text": [
      " \"Temperature\": \"300 * kelvin"
     ]
    },
    {
     "name": "stdout",
     "output_type": "stream",
     "text": [
      "\",\n",
      "      \"Friction\": \"1"
     ]
    },
    {
     "name": "stdout",
     "output_type": "stream",
     "text": [
      ".0 / picoseconds\",\n",
      "      \""
     ]
    },
    {
     "name": "stdout",
     "output_type": "stream",
     "text": [
      "Timestep\": \""
     ]
    },
    {
     "name": "stdout",
     "output_type": "stream",
     "text": [
      "0.002 * picoseconds\",\n",
      "     "
     ]
    },
    {
     "name": "stdout",
     "output_type": "stream",
     "text": [
      " \"Pressure\": \"1.0 *"
     ]
    },
    {
     "name": "stdout",
     "output_type": "stream",
     "text": [
      " bar\"\n",
      "    },\n",
      "    \"simulation_params"
     ]
    },
    {
     "name": "stdout",
     "output_type": "stream",
     "text": [
      "\": {\n",
      "      \"Ensemble\": \""
     ]
    },
    {
     "name": "stdout",
     "output_type": "stream",
     "text": [
      "NVT\",\n",
      "      \"Number of Steps"
     ]
    },
    {
     "name": "stdout",
     "output_type": "stream",
     "text": [
      "\": 500,\n",
      "      \"record_interval"
     ]
    },
    {
     "name": "stdout",
     "output_type": "stream",
     "text": [
      "_steps\": 10,\n",
      "      \"record"
     ]
    },
    {
     "name": "stdout",
     "output_type": "stream",
     "text": [
      "_params\": [\"step\", \"potentialEnergy"
     ]
    },
    {
     "name": "stdout",
     "output_type": "stream",
     "text": [
      "\", \"temperature\"]\n",
      "    }\n",
      "  }\n"
     ]
    },
    {
     "name": "stdout",
     "output_type": "stream",
     "text": [
      "}\n",
      "```"
     ]
    },
    {
     "name": "stdout",
     "output_type": "stream",
     "text": [
      "Building system...\n"
     ]
    },
    {
     "name": "stdout",
     "output_type": "stream",
     "text": [
      "About to create system...\n",
      "Attempts at creating system: 0/3\n",
      "adding system without solvent\n"
     ]
    },
    {
     "name": "stdout",
     "output_type": "stream",
     "text": [
      "System built successfully\n",
      "<openmm.openmm.System; proxy of <Swig Object of type 'OpenMM::System *' at 0x2b67ef39f030> >\n",
      "Setting up integrator...\n",
      "Creating simulation...\n",
      "simulation set!\n",
      "Performing energy minimization...\n"
     ]
    },
    {
     "name": "stdout",
     "output_type": "stream",
     "text": [
      "Minimization complete!\n",
      "Initial Positions saved to initial_positions.pdb\n",
      "Equilibrating...\n"
     ]
    },
    {
     "name": "stdout",
     "output_type": "stream",
     "text": [
      "Simulating...\n"
     ]
    },
    {
     "name": "stdout",
     "output_type": "stream",
     "text": [
      "Done!\n",
      "Standalone simulation script written to /gpfs/fs2/scratch/qcampbe2/repos/md-agent/ckpt/ckpt_59/simulations/NVT_1LYZ_212449_20241025_212453.py\n",
      "['TRAJ_sim0_212453_1LYZ_212449_20241025_212453.dcd', 'run_robustness.sh', 'prompt7.ipynb', 'prompt1.ipynb', 'prompt3.ipynb', '.ipynb_checkpoints', 'submit_robustness.sh', 'prompt10.ipynb', 'prompt9.ipynb', 'prompt2.ipynb', 'out', 'prompt8.ipynb', 'prompt6.ipynb', 'TOP_sim0_212453_1LYZ_212449_20241025_212453.pdb', 'prompt4.ipynb', 'LOG_sim0_212453_1LYZ_212449_20241025_212453.txt', 'prompt5.ipynb']\n"
     ]
    },
    {
     "name": "stdout",
     "output_type": "stream",
     "text": [
      "Thought:"
     ]
    },
    {
     "name": "stdout",
     "output_type": "stream",
     "text": [
      " Now that the simulation is done"
     ]
    },
    {
     "name": "stdout",
     "output_type": "stream",
     "text": [
      ", I need to compute the RMSD"
     ]
    },
    {
     "name": "stdout",
     "output_type": "stream",
     "text": [
      " of the simulation at 300 K.\n",
      "\n"
     ]
    },
    {
     "name": "stdout",
     "output_type": "stream",
     "text": [
      "Action:\n",
      "```\n",
      "{\n",
      "  \"action"
     ]
    },
    {
     "name": "stdout",
     "output_type": "stream",
     "text": [
      "\": \"ComputeRMSD\",\n",
      " "
     ]
    },
    {
     "name": "stdout",
     "output_type": "stream",
     "text": [
      " \"action_input\": {\n",
      "    \"top"
     ]
    },
    {
     "name": "stdout",
     "output_type": "stream",
     "text": [
      "_id\": \"top_sim0_212"
     ]
    },
    {
     "name": "stdout",
     "output_type": "stream",
     "text": [
      "453\",\n",
      "    \"traj_id\":"
     ]
    },
    {
     "name": "stdout",
     "output_type": "stream",
     "text": [
      " \"rec0_212453\",\n",
      "   "
     ]
    },
    {
     "name": "stdout",
     "output_type": "stream",
     "text": [
      " \"ref_top_id\": \"top_sim"
     ]
    },
    {
     "name": "stdout",
     "output_type": "stream",
     "text": [
      "0_212453\",\n",
      "    \"ref"
     ]
    },
    {
     "name": "stdout",
     "output_type": "stream",
     "text": [
      "_traj_id\": \"rec0_212"
     ]
    },
    {
     "name": "stdout",
     "output_type": "stream",
     "text": [
      "453\",\n",
      "    \"select\": \"protein"
     ]
    },
    {
     "name": "stdout",
     "output_type": "stream",
     "text": [
      "\",\n",
      "    \"mol_name\": \"1"
     ]
    },
    {
     "name": "stdout",
     "output_type": "stream",
     "text": [
      "LYZ\"\n",
      "  }\n",
      "}\n",
      "```"
     ]
    },
    {
     "name": "stdout",
     "output_type": "stream",
     "text": [
      "Calculating RMSD...\n",
      "Data saved to /gpfs/fs2/scratch/qcampbe2/repos/md-agent/ckpt/ckpt_59/records/rmsd_1LYZ.csv\n"
     ]
    },
    {
     "name": "stdout",
     "output_type": "stream",
     "text": [
      "Plot saved to /gpfs/fs2/scratch/qcampbe2/repos/md-agent/ckpt/ckpt_59/figures/FIG_rmsd_1LYZ_20241025_212525.png\n"
     ]
    },
    {
     "name": "stdout",
     "output_type": "stream",
     "text": [
      "Thought:"
     ]
    },
    {
     "name": "stdout",
     "output_type": "stream",
     "text": [
      " Now that the RMSD is"
     ]
    },
    {
     "name": "stdout",
     "output_type": "stream",
     "text": [
      " calculated, I need to compute the radius"
     ]
    },
    {
     "name": "stdout",
     "output_type": "stream",
     "text": [
      " of gyration over time for the simulation"
     ]
    },
    {
     "name": "stdout",
     "output_type": "stream",
     "text": [
      " at 300 K.\n",
      "\n",
      "Action:\n",
      "``"
     ]
    },
    {
     "name": "stdout",
     "output_type": "stream",
     "text": [
      "`\n",
      "{\n",
      "  \"action\": \"Radius"
     ]
    },
    {
     "name": "stdout",
     "output_type": "stream",
     "text": [
      "ofGyrationPerFrame\",\n",
      " "
     ]
    },
    {
     "name": "stdout",
     "output_type": "stream",
     "text": [
      " \"action_input\": {\n",
      "    \"tr"
     ]
    },
    {
     "name": "stdout",
     "output_type": "stream",
     "text": [
      "aj_file\": \"rec0_212"
     ]
    },
    {
     "name": "stdout",
     "output_type": "stream",
     "text": [
      "453\",\n",
      "    \"top_file\": \""
     ]
    },
    {
     "name": "stdout",
     "output_type": "stream",
     "text": [
      "top_sim0_212453\"\n",
      " "
     ]
    },
    {
     "name": "stdout",
     "output_type": "stream",
     "text": [
      " }\n",
      "}\n",
      "```"
     ]
    },
    {
     "name": "stdout",
     "output_type": "stream",
     "text": [
      "Thought:"
     ]
    },
    {
     "name": "stdout",
     "output_type": "stream",
     "text": [
      " Now that the radius of gy"
     ]
    },
    {
     "name": "stdout",
     "output_type": "stream",
     "text": [
      "ration is calculated, I need to compute"
     ]
    },
    {
     "name": "stdout",
     "output_type": "stream",
     "text": [
      " the SASA (solvent accessible surface"
     ]
    },
    {
     "name": "stdout",
     "output_type": "stream",
     "text": [
      " area) for the simulation at 300"
     ]
    },
    {
     "name": "stdout",
     "output_type": "stream",
     "text": [
      " K.\n",
      "\n",
      "Action:\n",
      "```\n",
      "{\n",
      " "
     ]
    },
    {
     "name": "stdout",
     "output_type": "stream",
     "text": [
      " \"action\": \"SolventAccessibleSurface"
     ]
    },
    {
     "name": "stdout",
     "output_type": "stream",
     "text": [
      "Area\",\n",
      "  \"action_input\": {\n"
     ]
    },
    {
     "name": "stdout",
     "output_type": "stream",
     "text": [
      "    \"top_fileid\": \"top"
     ]
    },
    {
     "name": "stdout",
     "output_type": "stream",
     "text": [
      "_sim0_212453\",\n",
      "    \""
     ]
    },
    {
     "name": "stdout",
     "output_type": "stream",
     "text": [
      "traj_fileid\": \"rec0"
     ]
    },
    {
     "name": "stdout",
     "output_type": "stream",
     "text": [
      "_212453\",\n",
      "    \"molecule"
     ]
    },
    {
     "name": "stdout",
     "output_type": "stream",
     "text": [
      "_name\": \"1LYZ\"\n",
      " "
     ]
    },
    {
     "name": "stdout",
     "output_type": "stream",
     "text": [
      " }\n",
      "}\n",
      "```"
     ]
    },
    {
     "name": "stdout",
     "output_type": "stream",
     "text": [
      "Loading trajectory ...\n",
      "Calcuating SASA ...\n"
     ]
    },
    {
     "name": "stdout",
     "output_type": "stream",
     "text": [
      "Data saved to /gpfs/fs2/scratch/qcampbe2/repos/md-agent/ckpt/ckpt_59/records/sasa_1LYZ.csv\n",
      "SASA plot saved to FIG_sasa_1LYZ_20241025_212613.png\n"
     ]
    },
    {
     "name": "stdout",
     "output_type": "stream",
     "text": [
      "Thought:"
     ]
    },
    {
     "name": "stdout",
     "output_type": "stream",
     "text": [
      " Now that the SASA is"
     ]
    },
    {
     "name": "stdout",
     "output_type": "stream",
     "text": [
      " calculated for the simulation at 300"
     ]
    },
    {
     "name": "stdout",
     "output_type": "stream",
     "text": [
      " K, I need to simulate the protein"
     ]
    },
    {
     "name": "stdout",
     "output_type": "stream",
     "text": [
      " 1LYZ for 1 ps"
     ]
    },
    {
     "name": "stdout",
     "output_type": "stream",
     "text": [
      " at 400 K.\n",
      "\n",
      "Action:\n",
      "``"
     ]
    },
    {
     "name": "stdout",
     "output_type": "stream",
     "text": [
      "`\n",
      "{\n",
      "  \"action\": \"SetUp"
     ]
    },
    {
     "name": "stdout",
     "output_type": "stream",
     "text": [
      "andRunFunction\",\n",
      "  \"action_input"
     ]
    },
    {
     "name": "stdout",
     "output_type": "stream",
     "text": [
      "\": {\n",
      "    \"pdb_id\": \""
     ]
    },
    {
     "name": "stdout",
     "output_type": "stream",
     "text": [
      "1LYZ_212449\",\n",
      "   "
     ]
    },
    {
     "name": "stdout",
     "output_type": "stream",
     "text": [
      " \"forcefield_files\": [\"amber99"
     ]
    },
    {
     "name": "stdout",
     "output_type": "stream",
     "text": [
      "sbildn.xml\"],\n",
      "    \"save"
     ]
    },
    {
     "name": "stdout",
     "output_type": "stream",
     "text": [
      "\": true,\n",
      "    \"system_params\":"
     ]
    },
    {
     "name": "stdout",
     "output_type": "stream",
     "text": [
      " {\n",
      "      \"nonbondedMethod\":"
     ]
    },
    {
     "name": "stdout",
     "output_type": "stream",
     "text": [
      " \"NoCutoff\",\n",
      "      \"constraints"
     ]
    },
    {
     "name": "stdout",
     "output_type": "stream",
     "text": [
      "\": \"None\",\n",
      "      \"rigid"
     ]
    },
    {
     "name": "stdout",
     "output_type": "stream",
     "text": [
      "Water\": false\n",
      "    },\n",
      "    \""
     ]
    },
    {
     "name": "stdout",
     "output_type": "stream",
     "text": [
      "integrator_params\": {\n",
      "      \"integr"
     ]
    },
    {
     "name": "stdout",
     "output_type": "stream",
     "text": [
      "ator_type\": \"LangevinMiddle"
     ]
    },
    {
     "name": "stdout",
     "output_type": "stream",
     "text": [
      "\",\n",
      "      \"Temperature\": \"400 *"
     ]
    },
    {
     "name": "stdout",
     "output_type": "stream",
     "text": [
      " kelvin\",\n",
      "      \"Friction\":"
     ]
    },
    {
     "name": "stdout",
     "output_type": "stream",
     "text": [
      " \"1.0 / picoseconds\",\n"
     ]
    },
    {
     "name": "stdout",
     "output_type": "stream",
     "text": [
      "      \"Timestep\": \"0."
     ]
    },
    {
     "name": "stdout",
     "output_type": "stream",
     "text": [
      "002 * picoseconds\",\n",
      "      \"Pressure"
     ]
    },
    {
     "name": "stdout",
     "output_type": "stream",
     "text": [
      "\": \"1.0 * bar\"\n"
     ]
    },
    {
     "name": "stdout",
     "output_type": "stream",
     "text": [
      "    },\n",
      "    \"simulation_params\": {\n"
     ]
    },
    {
     "name": "stdout",
     "output_type": "stream",
     "text": [
      "      \"Ensemble\": \"NVT"
     ]
    },
    {
     "name": "stdout",
     "output_type": "stream",
     "text": [
      "\",\n",
      "      \"Number of Steps\": "
     ]
    },
    {
     "name": "stdout",
     "output_type": "stream",
     "text": [
      "500,\n",
      "      \"record_interval_steps\":"
     ]
    },
    {
     "name": "stdout",
     "output_type": "stream",
     "text": [
      " 10,\n",
      "      \"record_params\":"
     ]
    },
    {
     "name": "stdout",
     "output_type": "stream",
     "text": [
      " [\"step\", \"potentialEnergy\", \""
     ]
    },
    {
     "name": "stdout",
     "output_type": "stream",
     "text": [
      "temperature\"]\n",
      "    }\n",
      "  }\n",
      "}\n",
      "```"
     ]
    },
    {
     "name": "stdout",
     "output_type": "stream",
     "text": [
      "Building system...\n"
     ]
    },
    {
     "name": "stdout",
     "output_type": "stream",
     "text": [
      "About to create system...\n",
      "Attempts at creating system: 0/3\n",
      "adding system without solvent\n"
     ]
    },
    {
     "name": "stdout",
     "output_type": "stream",
     "text": [
      "System built successfully\n",
      "<openmm.openmm.System; proxy of <Swig Object of type 'OpenMM::System *' at 0x2b67ec4171b0> >\n",
      "Setting up integrator...\n",
      "Creating simulation...\n",
      "simulation set!\n",
      "Performing energy minimization...\n"
     ]
    },
    {
     "name": "stdout",
     "output_type": "stream",
     "text": [
      "Minimization complete!\n",
      "Initial Positions saved to initial_positions.pdb\n",
      "Equilibrating...\n"
     ]
    },
    {
     "name": "stdout",
     "output_type": "stream",
     "text": [
      "Simulating...\n"
     ]
    },
    {
     "name": "stdout",
     "output_type": "stream",
     "text": [
      "Done!\n",
      "Standalone simulation script written to /gpfs/fs2/scratch/qcampbe2/repos/md-agent/ckpt/ckpt_59/simulations/NVT_1LYZ_212449_20241025_212617.py\n",
      "['run_robustness.sh', 'prompt7.ipynb', 'prompt1.ipynb', 'prompt3.ipynb', '.ipynb_checkpoints', 'submit_robustness.sh', 'prompt10.ipynb', 'prompt9.ipynb', 'prompt2.ipynb', 'out', 'TOP_sim0_212617_1LYZ_212449_20241025_212617.pdb', 'prompt8.ipynb', 'LOG_sim0_212617_1LYZ_212449_20241025_212617.txt', 'prompt6.ipynb', 'prompt4.ipynb', 'TRAJ_sim0_212617_1LYZ_212449_20241025_212617.dcd', 'prompt5.ipynb']\n"
     ]
    },
    {
     "name": "stdout",
     "output_type": "stream",
     "text": [
      "Thought:"
     ]
    },
    {
     "name": "stdout",
     "output_type": "stream",
     "text": [
      " Now that the simulation is done,"
     ]
    },
    {
     "name": "stdout",
     "output_type": "stream",
     "text": [
      " I need to compute the"
     ]
    },
    {
     "name": "stdout",
     "output_type": "stream",
     "text": [
      " RMSD of the simulation at 400"
     ]
    },
    {
     "name": "stdout",
     "output_type": "stream",
     "text": [
      " K.\n",
      "\n",
      "Action:\n",
      "```\n",
      "{\n",
      " "
     ]
    },
    {
     "name": "stdout",
     "output_type": "stream",
     "text": [
      " \"action\": \"ComputeRMSD"
     ]
    },
    {
     "name": "stdout",
     "output_type": "stream",
     "text": [
      "\",\n",
      "  \"action_input\": {\n",
      "   "
     ]
    },
    {
     "name": "stdout",
     "output_type": "stream",
     "text": [
      " \"top_id\": \"top_sim0"
     ]
    },
    {
     "name": "stdout",
     "output_type": "stream",
     "text": [
      "_212617\",\n",
      "    \"traj"
     ]
    },
    {
     "name": "stdout",
     "output_type": "stream",
     "text": [
      "_id\": \"rec0_212617"
     ]
    },
    {
     "name": "stdout",
     "output_type": "stream",
     "text": [
      "\",\n",
      "    \"ref_top_id\": \""
     ]
    },
    {
     "name": "stdout",
     "output_type": "stream",
     "text": [
      "top_sim0_212617\",\n",
      "   "
     ]
    },
    {
     "name": "stdout",
     "output_type": "stream",
     "text": [
      " \"ref_traj_id\": \"rec0"
     ]
    },
    {
     "name": "stdout",
     "output_type": "stream",
     "text": [
      "_212617\",\n",
      "    \"select\":"
     ]
    },
    {
     "name": "stdout",
     "output_type": "stream",
     "text": [
      " \"protein\",\n",
      "    \"mol_name\":"
     ]
    },
    {
     "name": "stdout",
     "output_type": "stream",
     "text": [
      " \"1LYZ\"\n",
      "  }\n",
      "}\n"
     ]
    },
    {
     "name": "stdout",
     "output_type": "stream",
     "text": [
      "```"
     ]
    },
    {
     "name": "stdout",
     "output_type": "stream",
     "text": [
      "Calculating RMSD...\n"
     ]
    },
    {
     "name": "stdout",
     "output_type": "stream",
     "text": [
      "Data saved to /gpfs/fs2/scratch/qcampbe2/repos/md-agent/ckpt/ckpt_59/records/rmsd_1LYZ_1.csv\n"
     ]
    },
    {
     "name": "stdout",
     "output_type": "stream",
     "text": [
      "Plot saved to /gpfs/fs2/scratch/qcampbe2/repos/md-agent/ckpt/ckpt_59/figures/FIG_rmsd_1LYZ_20241025_212648.png\n"
     ]
    },
    {
     "name": "stdout",
     "output_type": "stream",
     "text": [
      "Thought:"
     ]
    },
    {
     "name": "stdout",
     "output_type": "stream",
     "text": [
      " Now that the RMSD is calculated"
     ]
    },
    {
     "name": "stdout",
     "output_type": "stream",
     "text": [
      ", I need to compute the"
     ]
    },
    {
     "name": "stdout",
     "output_type": "stream",
     "text": [
      " radius of gyration over time for the"
     ]
    },
    {
     "name": "stdout",
     "output_type": "stream",
     "text": [
      " simulation at 400 K.\n",
      "\n",
      "Action:\n"
     ]
    },
    {
     "name": "stdout",
     "output_type": "stream",
     "text": [
      "```\n",
      "{\n",
      "  \"action\": \""
     ]
    },
    {
     "name": "stdout",
     "output_type": "stream",
     "text": [
      "RadiusofGyrationPerFrame\",\n"
     ]
    },
    {
     "name": "stdout",
     "output_type": "stream",
     "text": [
      "  \"action_input\": {\n",
      "    \""
     ]
    },
    {
     "name": "stdout",
     "output_type": "stream",
     "text": [
      "traj_file\": \"rec0_"
     ]
    },
    {
     "name": "stdout",
     "output_type": "stream",
     "text": [
      "212617\",\n",
      "    \"top_file\":"
     ]
    },
    {
     "name": "stdout",
     "output_type": "stream",
     "text": [
      " \"top_sim0_212617\"\n"
     ]
    },
    {
     "name": "stdout",
     "output_type": "stream",
     "text": [
      "  }\n",
      "}\n",
      "```"
     ]
    },
    {
     "name": "stdout",
     "output_type": "stream",
     "text": [
      "Thought:"
     ]
    },
    {
     "name": "stdout",
     "output_type": "stream",
     "text": [
      " Now that the"
     ]
    },
    {
     "name": "stdout",
     "output_type": "stream",
     "text": [
      " radius of gyration"
     ]
    },
    {
     "name": "stdout",
     "output_type": "stream",
     "text": [
      " is calculated, I"
     ]
    },
    {
     "name": "stdout",
     "output_type": "stream",
     "text": [
      " need to compute the SASA (sol"
     ]
    },
    {
     "name": "stdout",
     "output_type": "stream",
     "text": [
      "vent accessible surface area) for the simulation"
     ]
    },
    {
     "name": "stdout",
     "output_type": "stream",
     "text": [
      " at 400 K.\n",
      "\n",
      "Action:\n",
      "``"
     ]
    },
    {
     "name": "stdout",
     "output_type": "stream",
     "text": [
      "`\n",
      "{\n",
      "  \"action\": \"Sol"
     ]
    },
    {
     "name": "stdout",
     "output_type": "stream",
     "text": [
      "ventAccessibleSurfaceArea\",\n",
      "  \"action"
     ]
    },
    {
     "name": "stdout",
     "output_type": "stream",
     "text": [
      "_input\": {\n",
      "    \"top_fileid"
     ]
    },
    {
     "name": "stdout",
     "output_type": "stream",
     "text": [
      "\": \"top_sim0_212617"
     ]
    },
    {
     "name": "stdout",
     "output_type": "stream",
     "text": [
      "\",\n",
      "    \"traj_fileid\":"
     ]
    },
    {
     "name": "stdout",
     "output_type": "stream",
     "text": [
      " \"rec0_212617\",\n",
      "   "
     ]
    },
    {
     "name": "stdout",
     "output_type": "stream",
     "text": [
      " \"molecule_name\": \"1LY"
     ]
    },
    {
     "name": "stdout",
     "output_type": "stream",
     "text": [
      "Z\"\n",
      "  }\n",
      "}\n",
      "```\n"
     ]
    },
    {
     "name": "stdout",
     "output_type": "stream",
     "text": [
      "Loading trajectory ...\n",
      "Calcuating SASA ...\n"
     ]
    },
    {
     "name": "stdout",
     "output_type": "stream",
     "text": [
      "Data saved to /gpfs/fs2/scratch/qcampbe2/repos/md-agent/ckpt/ckpt_59/records/sasa_1LYZ_1.csv\n"
     ]
    },
    {
     "name": "stdout",
     "output_type": "stream",
     "text": [
      "SASA plot saved to FIG_sasa_1LYZ_20241025_212738.png\n"
     ]
    },
    {
     "name": "stdout",
     "output_type": "stream",
     "text": [
      "Thought:"
     ]
    },
    {
     "name": "stdout",
     "output_type": "stream",
     "text": [
      " All tasks have been"
     ]
    },
    {
     "name": "stdout",
     "output_type": "stream",
     "text": [
      " completed. I need"
     ]
    },
    {
     "name": "stdout",
     "output_type": "stream",
     "text": [
      " to compile the results into a"
     ]
    },
    {
     "name": "stdout",
     "output_type": "stream",
     "text": [
      " single response.\n",
      "\n",
      "Action:\n",
      "```\n",
      "{\n"
     ]
    },
    {
     "name": "stdout",
     "output_type": "stream",
     "text": [
      "  \"action\": \"Final Answer\",\n"
     ]
    },
    {
     "name": "stdout",
     "output_type": "stream",
     "text": [
      "  \"action_input\": \"The P"
     ]
    },
    {
     "name": "stdout",
     "output_type": "stream",
     "text": [
      "DB file 1LYZ was downloaded"
     ]
    },
    {
     "name": "stdout",
     "output_type": "stream",
     "text": [
      " and cleaned"
     ]
    },
    {
     "name": "stdout",
     "output_type": "stream",
     "text": [
      ". The protein 1"
     ]
    },
    {
     "name": "stdout",
     "output_type": "stream",
     "text": [
      "LYZ was simulated for 1 ps"
     ]
    },
    {
     "name": "stdout",
     "output_type": "stream",
     "text": [
      " at 300 K and 400 K"
     ]
    },
    {
     "name": "stdout",
     "output_type": "stream",
     "text": [
      ". The RMSD, radius"
     ]
    },
    {
     "name": "stdout",
     "output_type": "stream",
     "text": [
      " of gyration, and SASA were"
     ]
    },
    {
     "name": "stdout",
     "output_type": "stream",
     "text": [
      " calculated for both simulations. The"
     ]
    },
    {
     "name": "stdout",
     "output_type": "stream",
     "text": [
      " results are as follows: \n"
     ]
    },
    {
     "name": "stdout",
     "output_type": "stream",
     "text": [
      "- RMS"
     ]
    },
    {
     "name": "stdout",
     "output_type": "stream",
     "text": [
      "D at 300 K: rmsd"
     ]
    },
    {
     "name": "stdout",
     "output_type": "stream",
     "text": [
      "_1LYZ\n",
      "- Radius of"
     ]
    },
    {
     "name": "stdout",
     "output_type": "stream",
     "text": [
      " gyration at 300 K: r"
     ]
    },
    {
     "name": "stdout",
     "output_type": "stream",
     "text": [
      "gy_rec0_212"
     ]
    },
    {
     "name": "stdout",
     "output_type": "stream",
     "text": [
      "453\n",
      "- SASA at 300"
     ]
    },
    {
     "name": "stdout",
     "output_type": "stream",
     "text": [
      " K: sasa_1LYZ"
     ]
    },
    {
     "name": "stdout",
     "output_type": "stream",
     "text": [
      "\n",
      "- RMSD at 400 K"
     ]
    },
    {
     "name": "stdout",
     "output_type": "stream",
     "text": [
      ": rmsd_1LYZ_"
     ]
    },
    {
     "name": "stdout",
     "output_type": "stream",
     "text": [
      "1\n",
      "- Radius of gyration at"
     ]
    },
    {
     "name": "stdout",
     "output_type": "stream",
     "text": [
      " 400 K: rgy_rec0"
     ]
    },
    {
     "name": "stdout",
     "output_type": "stream",
     "text": [
      "_212617\n",
      "- SASA at"
     ]
    },
    {
     "name": "stdout",
     "output_type": "stream",
     "text": [
      " 400 K: sasa_1"
     ]
    },
    {
     "name": "stdout",
     "output_type": "stream",
     "text": [
      "LYZ_1\n",
      "The"
     ]
    },
    {
     "name": "stdout",
     "output_type": "stream",
     "text": [
      " protein "
     ]
    },
    {
     "name": "stdout",
     "output_type": "stream",
     "text": [
      "1LYZ has 0 residues in"
     ]
    },
    {
     "name": "stdout",
     "output_type": "stream",
     "text": [
      " the chains and beta sheets.\"\n",
      "}\n"
     ]
    },
    {
     "name": "stdout",
     "output_type": "stream",
     "text": [
      "```"
     ]
    },
    {
     "data": {
      "text/plain": [
       "({'input': '\\n    You are an expert molecular dynamics scientist, and\\n    your task is to respond to the question or\\n    solve the problem to the best of your ability using\\n    the provided tools.\\n\\n    You can only respond with a single complete\\n    \\'Thought, Action, Action Input\\' format\\n    OR a single \\'Final Answer\\' format.\\n\\n    Complete format:\\n    Thought: (reflect on your progress and decide what to do next)\\n    Action:\\n    ```\\n    {\\n        \"action\": (the action name, it should be the name of a tool),\\n        \"action_input\": (the input string for the action)\\n    }\\n    \\'\\'\\'\\n\\n    OR\\n\\n    Final Answer: (the final response to the original input\\n    question, once all steps are complete)\\n\\n    You are required to use the tools provided,\\n    using the most specific tool\\n    available for each action.\\n    Your final answer should contain all information\\n    necessary to answer the question and its subquestions.\\n    Before you finish, reflect on your progress and make\\n    sure you have addressed the question in its entirety.\\n\\n    If you are asked to continue\\n    or reference previous runs,\\n    the context will be provided to you.\\n    If context is provided, you should assume\\n    you are continuing a chat.\\n\\n    Here is the input:\\n    Previous Context: None\\n    Question: Complete all of the following tasks: 1. Download the PDB file 1LYZ. 2. Tell me how many residues are in the chains and beta sheets. 3. Simulate for 1 ps at 300 K. 4. Compute the RMSD of the simulation at 300 K. 5. Compute the radius of gyration over time for the simulation at 300 K. 6. Compute the SASA (solvent accessible surface area) for the simulation at 300 K. 7. Simulate for 1 ps at 400 K. 8. Compute the RMSD of the simulation at 400 K. 9. Compute the radius of gyration over time for the simulation at 400 K. 10. Compute the SASA (solvent accessible surface area) for the simulation at 400 K. ',\n",
       "  'output': 'The PDB file 1LYZ was downloaded and cleaned. The protein 1LYZ was simulated for 1 ps at 300 K and 400 K. The RMSD, radius of gyration, and SASA were calculated for both simulations. The results are as follows: \\n- RMSD at 300 K: rmsd_1LYZ\\n- Radius of gyration at 300 K: rgy_rec0_212453\\n- SASA at 300 K: sasa_1LYZ\\n- RMSD at 400 K: rmsd_1LYZ_1\\n- Radius of gyration at 400 K: rgy_rec0_212617\\n- SASA at 400 K: sasa_1LYZ_1\\nThe protein 1LYZ has 0 residues in the chains and beta sheets.'},\n",
       " 'YM6G4D5Y')"
      ]
     },
     "execution_count": 6,
     "metadata": {},
     "output_type": "execute_result"
    }
   ],
   "source": [
    "agent_1.run(descriptive_prompt_10)"
   ]
  },
  {
   "cell_type": "code",
   "execution_count": 7,
   "metadata": {
    "execution": {
     "iopub.execute_input": "2024-10-26T01:27:42.847872Z",
     "iopub.status.busy": "2024-10-26T01:27:42.847559Z",
     "iopub.status.idle": "2024-10-26T01:27:42.856637Z",
     "shell.execute_reply": "2024-10-26T01:27:42.855869Z"
    }
   },
   "outputs": [
    {
     "name": "stdout",
     "output_type": "stream",
     "text": [
      "ckpt_dir: ckpt_59\n",
      "Files found in registry: 1LYZ_212440: PDB file downloaded from RSCB\n",
      " PDBFile ID: 1LYZ_212440\n",
      " 1LYZ_212449: Cleaned File:  Removed Heterogens\n",
      " and Water Removed.  Replaced Nonstandard Residues. Added Hydrogens at pH 7.0. Missing Atoms Added and replaces nonstandard residues. \n",
      " top_sim0_212453: Initial positions for simulation sim0_212453\n",
      " sim0_212453: Basic Simulation of Protein 1LYZ_212449\n",
      " rec0_212453: Simulation trajectory for protein 1LYZ_212449 and simulation sim0_212453\n",
      " rec1_212453: Simulation state log for protein 1LYZ_212449 and simulation sim0_212453\n",
      " rec2_212453: Simulation pdb frames for protein 1LYZ_212449 and simulation sim0_212453\n",
      " rmsd_1LYZ: RMSD for 1LYZ\n",
      " fig0_212525: RMSD plot for 1LYZ\n",
      " rgy_rec0_212453: Radii of gyration per frame for rec0_212453\n",
      " sasa_1LYZ: Total SASA values for 1LYZ\n",
      " fig0_212613: Plot of SASA over time for 1LYZ\n",
      " top_sim0_212617: Initial positions for simulation sim0_212617\n",
      " sim0_212617: Basic Simulation of Protein 1LYZ_212449\n",
      " rec0_212617: Simulation trajectory for protein 1LYZ_212449 and simulation sim0_212617\n",
      " rec1_212617: Simulation state log for protein 1LYZ_212449 and simulation sim0_212617\n",
      " rec2_212617: Simulation pdb frames for protein 1LYZ_212449 and simulation sim0_212617\n",
      " rmsd_1LYZ_1: RMSD for 1LYZ\n",
      " fig0_212648: RMSD plot for 1LYZ\n",
      " rgy_rec0_212617: Radii of gyration per frame for rec0_212617\n",
      " sasa_1LYZ_1: Total SASA values for 1LYZ\n",
      " fig0_212738: Plot of SASA over time for 1LYZ\n"
     ]
    }
   ],
   "source": [
    "registry = agent_1.path_registry\n",
    "print(\"ckpt_dir:\",os.path.basename(registry.ckpt_dir))\n",
    "paths_and_descriptions = registry.list_path_names_and_descriptions()\n",
    "print(\"\\n\".join(paths_and_descriptions.split(\",\")))"
   ]
  },
  {
   "cell_type": "code",
   "execution_count": 8,
   "metadata": {
    "execution": {
     "iopub.execute_input": "2024-10-26T01:27:42.860755Z",
     "iopub.status.busy": "2024-10-26T01:27:42.860442Z",
     "iopub.status.idle": "2024-10-26T01:27:42.875525Z",
     "shell.execute_reply": "2024-10-26T01:27:42.874716Z"
    }
   },
   "outputs": [
    {
     "name": "stdout",
     "output_type": "stream",
     "text": [
      "It's asserted that file paths for rec0_212453, top_sim0_212453, rec0_212453 and top_sim0_212617 exist\n"
     ]
    }
   ],
   "source": [
    "import re\n",
    "import os\n",
    "matches = re.findall(r\"rec0_\\d+\", paths_and_descriptions)\n",
    "traj_id1 = matches[0]\n",
    "traj_id2 = matches[1]\n",
    "traj_path1 = registry.get_mapped_path(traj_id1)\n",
    "traj_path2 = registry.get_mapped_path(traj_id2)\n",
    "assert os.path.exists(traj_path1)\n",
    "assert os.path.exists(traj_path2)\n",
    "\n",
    "matches = re.findall(r\"top_sim0_\\d+\", paths_and_descriptions)\n",
    "top_id1 = matches[0]\n",
    "top_id2 = matches[1]\n",
    "top_path1 = registry.get_mapped_path(top_id1)\n",
    "top_path2 = registry.get_mapped_path(top_id2)\n",
    "assert os.path.exists(top_path1)\n",
    "assert os.path.exists(top_path2)\n",
    "print(f\"It's asserted that file paths for {traj_id1}, {top_id1}, {traj_id2} and {top_id2} exist\")"
   ]
  },
  {
   "cell_type": "code",
   "execution_count": 9,
   "metadata": {
    "execution": {
     "iopub.execute_input": "2024-10-26T01:27:42.879568Z",
     "iopub.status.busy": "2024-10-26T01:27:42.879246Z",
     "iopub.status.idle": "2024-10-26T01:27:42.969251Z",
     "shell.execute_reply": "2024-10-26T01:27:42.968461Z"
    }
   },
   "outputs": [
    {
     "name": "stdout",
     "output_type": "stream",
     "text": [
      "From first simulation:\n"
     ]
    },
    {
     "name": "stdout",
     "output_type": "stream",
     "text": [
      "Number of residues in total:  129\n",
      "Number of chains:  1\n",
      "Number of residues in sheets:  16\n",
      "Number of residues in helices:  57\n",
      "Number of residues in coils:  56\n"
     ]
    }
   ],
   "source": [
    "# this checks DSSP for the first frame, change to the last frame if needed\n",
    "import mdtraj as md\n",
    "\n",
    "print(\"From first simulation:\")\n",
    "traj_path1 = registry.get_mapped_path(traj_id1)\n",
    "top_path1 = registry.get_mapped_path(top_id1)\n",
    "traj = md.load(traj_path1, top=top_path1)[0] # first frame\n",
    "secondary_structure = md.compute_dssp(traj,simplified=True)[0]\n",
    "print(\"Number of residues in total: \",traj.n_residues)\n",
    "print(\"Number of chains: \",traj.n_chains)\n",
    "print(\"Number of residues in sheets: \",len([i for i in secondary_structure if i == 'E']))\n",
    "print(\"Number of residues in helices: \",len([i for i in secondary_structure if i == 'H']))\n",
    "print(\"Number of residues in coils: \",len([i for i in secondary_structure if i == 'C']))"
   ]
  },
  {
   "cell_type": "code",
   "execution_count": 10,
   "metadata": {
    "execution": {
     "iopub.execute_input": "2024-10-26T01:27:42.973408Z",
     "iopub.status.busy": "2024-10-26T01:27:42.973061Z",
     "iopub.status.idle": "2024-10-26T01:27:42.985597Z",
     "shell.execute_reply": "2024-10-26T01:27:42.984674Z"
    }
   },
   "outputs": [
    {
     "data": {
      "image/png": "[encoded data removed]",
      "text/plain": [
       "<IPython.core.display.Image object>"
      ]
     },
     "execution_count": 10,
     "metadata": {},
     "output_type": "execute_result"
    }
   ],
   "source": [
    "from IPython.display import Image\n",
    "matches = re.findall(r\"fig0_\\d+\", paths_and_descriptions)\n",
    "fig_id1 = matches[0]\n",
    "fig_path1 = registry.get_mapped_path(fig_id1)\n",
    "assert os.path.exists(fig_path1), f\"This figure {fig_id1} does not exist.\"\n",
    "Image(filename=fig_path1)"
   ]
  },
  {
   "cell_type": "code",
   "execution_count": 11,
   "metadata": {
    "execution": {
     "iopub.execute_input": "2024-10-26T01:27:42.989455Z",
     "iopub.status.busy": "2024-10-26T01:27:42.989158Z",
     "iopub.status.idle": "2024-10-26T01:27:43.010743Z",
     "shell.execute_reply": "2024-10-26T01:27:43.009896Z"
    }
   },
   "outputs": [
    {
     "data": {
      "image/png": "[encoded data removed]",
      "text/plain": [
       "<IPython.core.display.Image object>"
      ]
     },
     "execution_count": 11,
     "metadata": {},
     "output_type": "execute_result"
    }
   ],
   "source": [
    "fig_id2 = matches[1]\n",
    "fig_path2 = registry.get_mapped_path(fig_id2)\n",
    "assert os.path.exists(fig_path1), f\"This figure {fig_id2} does not exist.\"\n",
    "Image(filename=fig_path2)"
   ]
  },
  {
   "cell_type": "code",
   "execution_count": 12,
   "metadata": {
    "execution": {
     "iopub.execute_input": "2024-10-26T01:27:43.014729Z",
     "iopub.status.busy": "2024-10-26T01:27:43.014442Z",
     "iopub.status.idle": "2024-10-26T01:27:43.025424Z",
     "shell.execute_reply": "2024-10-26T01:27:43.024513Z"
    }
   },
   "outputs": [
    {
     "data": {
      "image/png": "[encoded data removed]",
      "text/plain": [
       "<IPython.core.display.Image object>"
      ]
     },
     "execution_count": 12,
     "metadata": {},
     "output_type": "execute_result"
    }
   ],
   "source": [
    "fig_id3 = matches[2]\n",
    "fig_path3 = registry.get_mapped_path(fig_id3)\n",
    "assert os.path.exists(fig_path3), f\"This figure {fig_id3} does not exist.\"\n",
    "Image(filename=fig_path3)"
   ]
  },
  {
   "cell_type": "code",
   "execution_count": 13,
   "metadata": {
    "execution": {
     "iopub.execute_input": "2024-10-26T01:27:43.029349Z",
     "iopub.status.busy": "2024-10-26T01:27:43.029051Z",
     "iopub.status.idle": "2024-10-26T01:27:43.041647Z",
     "shell.execute_reply": "2024-10-26T01:27:43.040775Z"
    }
   },
   "outputs": [
    {
     "data": {
      "image/png": "[encoded data removed]",
      "text/plain": [
       "<IPython.core.display.Image object>"
      ]
     },
     "execution_count": 13,
     "metadata": {},
     "output_type": "execute_result"
    }
   ],
   "source": [
    "fig_id4 = matches[3]\n",
    "fig_path4 = registry.get_mapped_path(fig_id4)\n",
    "assert os.path.exists(fig_path4), f\"This figure {fig_id4} does not exist.\"\n",
    "Image(filename=fig_path4)"
   ]
  },
  {
   "cell_type": "code",
   "execution_count": 3,
   "metadata": {},
   "outputs": [
    {
     "name": "stdout",
     "output_type": "stream",
     "text": [
      "# Radius of Gyration (nm)\n",
      "1.402196624229802069e+00\n",
      "1.401963819052463034e+00\n",
      "1.402061996215229867e+00\n",
      "1.402218087401880808e+00\n"
     ]
    }
   ],
   "source": [
    "# Check RGy files\n",
    "import re\n",
    "registry = MDCrow(ckpt_dir=\"ckpt_59\").path_registry\n",
    "paths_and_descriptions = registry.list_path_names_and_descriptions()\n",
    "\n",
    "matches = re.findall(r\"rgy_rec0_\\d+\", paths_and_descriptions)\n",
    "rgy_id = matches[0]\n",
    "rgy_path = registry.get_mapped_path(rgy_id)\n",
    "assert os.path.exists(rgy_path), \"RGy file doesn't exist\"\n",
    "with open(rgy_path, \"r\") as f:\n",
    "    lines = f.read().split(\"\\n\")\n",
    "    for i in range(5):\n",
    "        print(lines[i])"
   ]
  },
  {
   "cell_type": "code",
   "execution_count": 4,
   "metadata": {},
   "outputs": [
    {
     "name": "stdout",
     "output_type": "stream",
     "text": [
      "# Radius of Gyration (nm)\n",
      "1.402143520160015644e+00\n",
      "1.402016416393135012e+00\n",
      "1.402074012139503001e+00\n",
      "1.402072036664489429e+00\n"
     ]
    }
   ],
   "source": [
    "rgy_id = matches[1]\n",
    "rgy_path = registry.get_mapped_path(rgy_id)\n",
    "assert os.path.exists(rgy_path), \"RGy file doesn't exist\"\n",
    "with open(rgy_path, \"r\") as f:\n",
    "    lines = f.read().split(\"\\n\")\n",
    "    for i in range(5):\n",
    "        print(lines[i])"
   ]
  },
  {
   "cell_type": "markdown",
   "metadata": {},
   "source": [
    "# non-descriptive prompt"
   ]
  },
  {
   "cell_type": "code",
   "execution_count": 16,
   "metadata": {
    "execution": {
     "iopub.execute_input": "2024-10-26T01:27:43.620372Z",
     "iopub.status.busy": "2024-10-26T01:27:43.620082Z",
     "iopub.status.idle": "2024-10-26T01:27:43.881017Z",
     "shell.execute_reply": "2024-10-26T01:27:43.880196Z"
    }
   },
   "outputs": [],
   "source": [
    "agent_2 = MDCrow(agent_type=\"Structured\", model=llm_model, top_k_tools=tools)"
   ]
  },
  {
   "cell_type": "code",
   "execution_count": 17,
   "metadata": {
    "execution": {
     "iopub.execute_input": "2024-10-26T01:27:43.885456Z",
     "iopub.status.busy": "2024-10-26T01:27:43.885163Z",
     "iopub.status.idle": "2024-10-26T04:40:56.980178Z",
     "shell.execute_reply": "2024-10-26T04:40:56.979170Z"
    }
   },
   "outputs": [
    {
     "name": "stdout",
     "output_type": "stream",
     "text": [
      "Thought:"
     ]
    },
    {
     "name": "stdout",
     "output_type": "stream",
     "text": [
      " First, I need to download"
     ]
    },
    {
     "name": "stdout",
     "output_type": "stream",
     "text": [
      " the PDB file for"
     ]
    },
    {
     "name": "stdout",
     "output_type": "stream",
     "text": [
      " 1LYZ and then set up"
     ]
    },
    {
     "name": "stdout",
     "output_type": "stream",
     "text": [
      " and run two simulations at different temperatures."
     ]
    },
    {
     "name": "stdout",
     "output_type": "stream",
     "text": [
      " After the simulations"
     ]
    },
    {
     "name": "stdout",
     "output_type": "stream",
     "text": [
      ", I will analyze"
     ]
    },
    {
     "name": "stdout",
     "output_type": "stream",
     "text": [
      " the results to find the"
     ]
    },
    {
     "name": "stdout",
     "output_type": "stream",
     "text": [
      " number of residues in the chains and beta"
     ]
    },
    {
     "name": "stdout",
     "output_type": "stream",
     "text": [
      " sheets, and compute the RMSD,"
     ]
    },
    {
     "name": "stdout",
     "output_type": "stream",
     "text": [
      " SASA, and radius of gyration"
     ]
    },
    {
     "name": "stdout",
     "output_type": "stream",
     "text": [
      ".\n",
      "\n",
      "Action:\n",
      "```\n",
      "{\n"
     ]
    },
    {
     "name": "stdout",
     "output_type": "stream",
     "text": [
      "  \"action\": \"P"
     ]
    },
    {
     "name": "stdout",
     "output_type": "stream",
     "text": [
      "DBFileDownloader\",\n",
      "  \"action_input"
     ]
    },
    {
     "name": "stdout",
     "output_type": "stream",
     "text": [
      "\": \"1LYZ\"\n",
      "}\n",
      "``"
     ]
    },
    {
     "name": "stdout",
     "output_type": "stream",
     "text": [
      "`\n"
     ]
    },
    {
     "name": "stdout",
     "output_type": "stream",
     "text": [
      "PDB file found with this ID: 1LYZ\n"
     ]
    },
    {
     "name": "stdout",
     "output_type": "stream",
     "text": [
      "Thought:"
     ]
    },
    {
     "name": "stdout",
     "output_type": "stream",
     "text": [
      " Now that I have the PDB file"
     ]
    },
    {
     "name": "stdout",
     "output_type": "stream",
     "text": [
      ", I can set up and run the"
     ]
    },
    {
     "name": "stdout",
     "output_type": "stream",
     "text": [
      " simulations at 300K"
     ]
    },
    {
     "name": "stdout",
     "output_type": "stream",
     "text": [
      " and 400K.\n",
      "\n",
      "Action"
     ]
    },
    {
     "name": "stdout",
     "output_type": "stream",
     "text": [
      ":\n",
      "```\n",
      "{\n",
      "  \"action\":"
     ]
    },
    {
     "name": "stdout",
     "output_type": "stream",
     "text": [
      " \"SetUpandRunFunction\",\n",
      "  \""
     ]
    },
    {
     "name": "stdout",
     "output_type": "stream",
     "text": [
      "action_input\": {\n",
      "    \"pdb_id"
     ]
    },
    {
     "name": "stdout",
     "output_type": "stream",
     "text": [
      "\": \"1LYZ_212745"
     ]
    },
    {
     "name": "stdout",
     "output_type": "stream",
     "text": [
      "\",\n",
      "    \"forcefield_files\": [\""
     ]
    },
    {
     "name": "stdout",
     "output_type": "stream",
     "text": [
      "amber99sbildn.xml\"],\n",
      "   "
     ]
    },
    {
     "name": "stdout",
     "output_type": "stream",
     "text": [
      " \"save\": true,\n"
     ]
    },
    {
     "name": "stdout",
     "output_type": "stream",
     "text": [
      "    \"system_params\": {\n",
      "      \""
     ]
    },
    {
     "name": "stdout",
     "output_type": "stream",
     "text": [
      "nonbondedMethod\": \"NoC"
     ]
    },
    {
     "name": "stdout",
     "output_type": "stream",
     "text": [
      "utoff\",\n",
      "      \"constraints\":"
     ]
    },
    {
     "name": "stdout",
     "output_type": "stream",
     "text": [
      " \"None\",\n",
      "      \"rigidWater"
     ]
    },
    {
     "name": "stdout",
     "output_type": "stream",
     "text": [
      "\": false\n",
      "   "
     ]
    },
    {
     "name": "stdout",
     "output_type": "stream",
     "text": [
      " },\n",
      "    \"integrator_params\": {\n"
     ]
    },
    {
     "name": "stdout",
     "output_type": "stream",
     "text": [
      "      \"integrator_type\": \"L"
     ]
    },
    {
     "name": "stdout",
     "output_type": "stream",
     "text": [
      "angevinMiddle\",\n",
      "      \"Temperature\":"
     ]
    },
    {
     "name": "stdout",
     "output_type": "stream",
     "text": [
      " \"300 * kelvin\",\n",
      "      \""
     ]
    },
    {
     "name": "stdout",
     "output_type": "stream",
     "text": [
      "Friction\": \"1.0 /"
     ]
    },
    {
     "name": "stdout",
     "output_type": "stream",
     "text": [
      " picoseconds\",\n",
      "      \"Timestep\":"
     ]
    },
    {
     "name": "stdout",
     "output_type": "stream",
     "text": [
      " \"0.002 * picoseconds\",\n"
     ]
    },
    {
     "name": "stdout",
     "output_type": "stream",
     "text": [
      "      \"Pressure\": \"1.0"
     ]
    },
    {
     "name": "stdout",
     "output_type": "stream",
     "text": [
      " * bar\"\n",
      "    },\n",
      "    \"simulation"
     ]
    },
    {
     "name": "stdout",
     "output_type": "stream",
     "text": [
      "_params\": {\n",
      "      \"Ensemble\":"
     ]
    },
    {
     "name": "stdout",
     "output_type": "stream",
     "text": [
      " \"NVT\",\n",
      "      \"Number of"
     ]
    },
    {
     "name": "stdout",
     "output_type": "stream",
     "text": [
      " Steps\": 500000"
     ]
    },
    {
     "name": "stdout",
     "output_type": "stream",
     "text": [
      ",\n",
      "      \"record_interval"
     ]
    },
    {
     "name": "stdout",
     "output_type": "stream",
     "text": [
      "_steps\": 1000,\n",
      "      \""
     ]
    },
    {
     "name": "stdout",
     "output_type": "stream",
     "text": [
      "record_params\": [\"step\", \"potential"
     ]
    },
    {
     "name": "stdout",
     "output_type": "stream",
     "text": [
      "Energy\", \"temperature\"]\n",
      "    }\n",
      " "
     ]
    },
    {
     "name": "stdout",
     "output_type": "stream",
     "text": [
      " }\n",
      "}\n",
      "```\n",
      "\n",
      "Note:"
     ]
    },
    {
     "name": "stdout",
     "output_type": "stream",
     "text": [
      " I will run the simulation at "
     ]
    },
    {
     "name": "stdout",
     "output_type": "stream",
     "text": [
      "300K first, and then I will"
     ]
    },
    {
     "name": "stdout",
     "output_type": "stream",
     "text": [
      " repeat the process for 400"
     ]
    },
    {
     "name": "stdout",
     "output_type": "stream",
     "text": [
      "K. After both"
     ]
    },
    {
     "name": "stdout",
     "output_type": "stream",
     "text": [
      " simulations are complete, I"
     ]
    },
    {
     "name": "stdout",
     "output_type": "stream",
     "text": [
      " will analyze the results to find"
     ]
    },
    {
     "name": "stdout",
     "output_type": "stream",
     "text": [
      " the number of residues in the chains and"
     ]
    },
    {
     "name": "stdout",
     "output_type": "stream",
     "text": [
      " beta sheets, and compute the RMSD"
     ]
    },
    {
     "name": "stdout",
     "output_type": "stream",
     "text": [
      ", SASA, and radius of gy"
     ]
    },
    {
     "name": "stdout",
     "output_type": "stream",
     "text": [
      "ration."
     ]
    },
    {
     "name": "stdout",
     "output_type": "stream",
     "text": [
      "Building system...\n"
     ]
    },
    {
     "name": "stdout",
     "output_type": "stream",
     "text": [
      "About to create system...\n",
      "Attempts at creating system: 0/3\n",
      "adding system without solvent\n",
      "Trying to add component to Forcefield...\n",
      "Residue code: LYS\n",
      "Residue code not in solvent list. Adding forcefield                         not supported.\n"
     ]
    },
    {
     "name": "stdout",
     "output_type": "stream",
     "text": [
      "Thought:"
     ]
    },
    {
     "name": "stdout",
     "output_type": "stream",
     "text": [
      " The simulation failed due to a missing template"
     ]
    },
    {
     "name": "stdout",
     "output_type": "stream",
     "text": [
      " for residue 1 (LYS)."
     ]
    },
    {
     "name": "stdout",
     "output_type": "stream",
     "text": [
      " I need to clean the"
     ]
    },
    {
     "name": "stdout",
     "output_type": "stream",
     "text": [
      " PDB file to add the"
     ]
    },
    {
     "name": "stdout",
     "output_type": "stream",
     "text": [
      " missing atoms before running the simulation.\n",
      "\n",
      "Action"
     ]
    },
    {
     "name": "stdout",
     "output_type": "stream",
     "text": [
      ":\n",
      "```\n",
      "{\n",
      "  \"action\":"
     ]
    },
    {
     "name": "stdout",
     "output_type": "stream",
     "text": [
      " \"CleaningToolFunction\",\n",
      "  \"action"
     ]
    },
    {
     "name": "stdout",
     "output_type": "stream",
     "text": [
      "_input\": {\n",
      "    \"pdb_id\":"
     ]
    },
    {
     "name": "stdout",
     "output_type": "stream",
     "text": [
      " \"1LYZ_212745\",\n"
     ]
    },
    {
     "name": "stdout",
     "output_type": "stream",
     "text": [
      "    \"replace_nonstandard_residues"
     ]
    },
    {
     "name": "stdout",
     "output_type": "stream",
     "text": [
      "\": true,\n",
      "    \"add_missing_atoms"
     ]
    },
    {
     "name": "stdout",
     "output_type": "stream",
     "text": [
      "\": true,\n",
      "    \"remove_heter"
     ]
    },
    {
     "name": "stdout",
     "output_type": "stream",
     "text": [
      "ogens\": true,\n",
      "    \"remove_water"
     ]
    },
    {
     "name": "stdout",
     "output_type": "stream",
     "text": [
      "\": true,\n",
      "    \"add_hydro"
     ]
    },
    {
     "name": "stdout",
     "output_type": "stream",
     "text": [
      "gens\": true,\n"
     ]
    },
    {
     "name": "stdout",
     "output_type": "stream",
     "text": [
      "    \"add_h"
     ]
    },
    {
     "name": "stdout",
     "output_type": "stream",
     "text": [
      "ydrogens_ph\": 7.0\n",
      "  }\n",
      "}\n"
     ]
    },
    {
     "name": "stdout",
     "output_type": "stream",
     "text": [
      "```"
     ]
    },
    {
     "name": "stdout",
     "output_type": "stream",
     "text": [
      "file path: /gpfs/fs2/scratch/qcampbe2/repos/md-agent/ckpt/ckpt_60/pdb/1LYZ_raw_20241025_212745.pdb\n"
     ]
    },
    {
     "name": "stdout",
     "output_type": "stream",
     "text": [
      "Thought:"
     ]
    },
    {
     "name": "stdout",
     "output_type": "stream",
     "text": [
      " Now that the PDB file is cleaned"
     ]
    },
    {
     "name": "stdout",
     "output_type": "stream",
     "text": [
      ", I can set up and run the"
     ]
    },
    {
     "name": "stdout",
     "output_type": "stream",
     "text": [
      " simulations at 300K and 400"
     ]
    },
    {
     "name": "stdout",
     "output_type": "stream",
     "text": [
      "K.\n",
      "\n",
      "Action:\n",
      "```\n",
      "{\n",
      " "
     ]
    },
    {
     "name": "stdout",
     "output_type": "stream",
     "text": [
      " \"action\": \""
     ]
    },
    {
     "name": "stdout",
     "output_type": "stream",
     "text": [
      "SetUpandRunFunction\",\n",
      "  \"action"
     ]
    },
    {
     "name": "stdout",
     "output_type": "stream",
     "text": [
      "_input\": {\n",
      "    \"pdb_id\":"
     ]
    },
    {
     "name": "stdout",
     "output_type": "stream",
     "text": [
      " \"1LYZ_212753\",\n"
     ]
    },
    {
     "name": "stdout",
     "output_type": "stream",
     "text": [
      "    \"forcefield_files\": [\"amber"
     ]
    },
    {
     "name": "stdout",
     "output_type": "stream",
     "text": [
      "99sbildn.xml\"],\n",
      "    \""
     ]
    },
    {
     "name": "stdout",
     "output_type": "stream",
     "text": [
      "save\": true,\n",
      "    \"system_params"
     ]
    },
    {
     "name": "stdout",
     "output_type": "stream",
     "text": [
      "\": {\n",
      "      \"nonbondedMethod"
     ]
    },
    {
     "name": "stdout",
     "output_type": "stream",
     "text": [
      "\": \"NoCutoff\",\n",
      "      \""
     ]
    },
    {
     "name": "stdout",
     "output_type": "stream",
     "text": [
      "constraints\": \"None\",\n",
      "      \"rig"
     ]
    },
    {
     "name": "stdout",
     "output_type": "stream",
     "text": [
      "idWater\": false\n",
      "    },\n",
      "   "
     ]
    },
    {
     "name": "stdout",
     "output_type": "stream",
     "text": [
      " \"integrator_params\": {\n",
      "      \""
     ]
    },
    {
     "name": "stdout",
     "output_type": "stream",
     "text": [
      "integrator_type\": \"Langevin"
     ]
    },
    {
     "name": "stdout",
     "output_type": "stream",
     "text": [
      "Middle\",\n",
      "      \"Temperature\": \"300"
     ]
    },
    {
     "name": "stdout",
     "output_type": "stream",
     "text": [
      " * kelvin\",\n",
      "      \"Friction"
     ]
    },
    {
     "name": "stdout",
     "output_type": "stream",
     "text": [
      "\": \"1.0 / picoseconds"
     ]
    },
    {
     "name": "stdout",
     "output_type": "stream",
     "text": [
      "\",\n",
      "      \"Timestep\": \"0"
     ]
    },
    {
     "name": "stdout",
     "output_type": "stream",
     "text": [
      ".002 * picoseconds\",\n",
      "      \""
     ]
    },
    {
     "name": "stdout",
     "output_type": "stream",
     "text": [
      "Pressure\": \"1.0 * bar"
     ]
    },
    {
     "name": "stdout",
     "output_type": "stream",
     "text": [
      "\"\n",
      "    },\n",
      "    \"simulation_params\":"
     ]
    },
    {
     "name": "stdout",
     "output_type": "stream",
     "text": [
      " {\n",
      "      \"Ensemble\": \"N"
     ]
    },
    {
     "name": "stdout",
     "output_type": "stream",
     "text": [
      "VT\",\n",
      "      \"Number of Steps\":"
     ]
    },
    {
     "name": "stdout",
     "output_type": "stream",
     "text": [
      " 500000,\n",
      "      \"record_interval"
     ]
    },
    {
     "name": "stdout",
     "output_type": "stream",
     "text": [
      "_steps\": 1000,\n",
      "      \""
     ]
    },
    {
     "name": "stdout",
     "output_type": "stream",
     "text": [
      "record_params\": [\"step\", \"potential"
     ]
    },
    {
     "name": "stdout",
     "output_type": "stream",
     "text": [
      "Energy\", \"temperature\"]\n",
      "    }\n",
      " "
     ]
    },
    {
     "name": "stdout",
     "output_type": "stream",
     "text": [
      " }\n",
      "}\n",
      "```"
     ]
    },
    {
     "name": "stdout",
     "output_type": "stream",
     "text": [
      "Building system...\n"
     ]
    },
    {
     "name": "stdout",
     "output_type": "stream",
     "text": [
      "About to create system...\n",
      "Attempts at creating system: 0/3\n",
      "adding system without solvent\n"
     ]
    },
    {
     "name": "stdout",
     "output_type": "stream",
     "text": [
      "System built successfully\n",
      "<openmm.openmm.System; proxy of <Swig Object of type 'OpenMM::System *' at 0x2b67ecc587e0> >\n",
      "Setting up integrator...\n",
      "Creating simulation...\n",
      "simulation set!\n",
      "Performing energy minimization...\n"
     ]
    },
    {
     "name": "stdout",
     "output_type": "stream",
     "text": [
      "Minimization complete!\n",
      "Initial Positions saved to initial_positions.pdb\n",
      "Equilibrating...\n"
     ]
    },
    {
     "name": "stdout",
     "output_type": "stream",
     "text": [
      "Simulating...\n"
     ]
    },
    {
     "name": "stdout",
     "output_type": "stream",
     "text": [
      "Done!\n",
      "Standalone simulation script written to /gpfs/fs2/scratch/qcampbe2/repos/md-agent/ckpt/ckpt_60/simulations/NVT_1LYZ_212753_20241025_212757.py\n",
      "['run_robustness.sh', 'prompt7.ipynb', 'prompt1.ipynb', 'prompt3.ipynb', '.ipynb_checkpoints', 'submit_robustness.sh', 'prompt10.ipynb', 'prompt9.ipynb', 'prompt2.ipynb', 'out', 'prompt8.ipynb', 'TRAJ_sim0_212757_1LYZ_212753_20241025_212758.dcd', 'prompt6.ipynb', 'prompt4.ipynb', 'TOP_sim0_212757_1LYZ_212753_20241025_212758.pdb', 'LOG_sim0_212757_1LYZ_212753_20241025_212758.txt', 'prompt5.ipynb']\n"
     ]
    },
    {
     "name": "stdout",
     "output_type": "stream",
     "text": [
      "Thought:"
     ]
    },
    {
     "name": "stdout",
     "output_type": "stream",
     "text": [
      " Now that the simulation at"
     ]
    },
    {
     "name": "stdout",
     "output_type": "stream",
     "text": [
      " 300K is complete, I need"
     ]
    },
    {
     "name": "stdout",
     "output_type": "stream",
     "text": [
      " to repeat the process for 400K"
     ]
    },
    {
     "name": "stdout",
     "output_type": "stream",
     "text": [
      ".\n",
      "\n",
      "Action:\n",
      "```\n",
      "{\n"
     ]
    },
    {
     "name": "stdout",
     "output_type": "stream",
     "text": [
      "  \"action\": \"SetUpandRun"
     ]
    },
    {
     "name": "stdout",
     "output_type": "stream",
     "text": [
      "Function\",\n",
      "  \"action_input\": {\n"
     ]
    },
    {
     "name": "stdout",
     "output_type": "stream",
     "text": [
      "    \"pdb_id\": \"1LY"
     ]
    },
    {
     "name": "stdout",
     "output_type": "stream",
     "text": [
      "Z_212753\",\n",
      "    \"force"
     ]
    },
    {
     "name": "stdout",
     "output_type": "stream",
     "text": [
      "field_files\": [\"amber99sbild"
     ]
    },
    {
     "name": "stdout",
     "output_type": "stream",
     "text": [
      "n.xml\"],\n",
      "    \"save\": true"
     ]
    },
    {
     "name": "stdout",
     "output_type": "stream",
     "text": [
      ",\n",
      "    \"system_params\": {\n",
      "     "
     ]
    },
    {
     "name": "stdout",
     "output_type": "stream",
     "text": [
      " \"nonbondedMethod\": \"No"
     ]
    },
    {
     "name": "stdout",
     "output_type": "stream",
     "text": [
      "Cutoff\",\n",
      "      \"constraints\": \""
     ]
    },
    {
     "name": "stdout",
     "output_type": "stream",
     "text": [
      "None\",\n",
      "      \"rigidWater\":"
     ]
    },
    {
     "name": "stdout",
     "output_type": "stream",
     "text": [
      " false\n",
      "    },\n",
      "    \"integrator"
     ]
    },
    {
     "name": "stdout",
     "output_type": "stream",
     "text": [
      "_params\": {\n",
      "      \"integrator_type"
     ]
    },
    {
     "name": "stdout",
     "output_type": "stream",
     "text": [
      "\": \"LangevinMiddle\",\n",
      "     "
     ]
    },
    {
     "name": "stdout",
     "output_type": "stream",
     "text": [
      " \"Temperature\": \"400 * kelvin"
     ]
    },
    {
     "name": "stdout",
     "output_type": "stream",
     "text": [
      "\",\n",
      "      \"Friction\": \"1"
     ]
    },
    {
     "name": "stdout",
     "output_type": "stream",
     "text": [
      ".0 / picoseconds\",\n",
      "      \""
     ]
    },
    {
     "name": "stdout",
     "output_type": "stream",
     "text": [
      "Timestep\": \"0.002 *"
     ]
    },
    {
     "name": "stdout",
     "output_type": "stream",
     "text": [
      " picoseconds\",\n",
      "      \"Pressure\": \""
     ]
    },
    {
     "name": "stdout",
     "output_type": "stream",
     "text": [
      "1.0 * bar\"\n",
      "    },\n"
     ]
    },
    {
     "name": "stdout",
     "output_type": "stream",
     "text": [
      "    \"simulation_params\": {\n",
      "      \""
     ]
    },
    {
     "name": "stdout",
     "output_type": "stream",
     "text": [
      "Ensemble\": \"NVT\",\n",
      "     "
     ]
    },
    {
     "name": "stdout",
     "output_type": "stream",
     "text": [
      " \"Number of Steps\": 500000"
     ]
    },
    {
     "name": "stdout",
     "output_type": "stream",
     "text": [
      ",\n",
      "      \"record_interval_steps\": "
     ]
    },
    {
     "name": "stdout",
     "output_type": "stream",
     "text": [
      "1000,\n",
      "      \"record_params\":"
     ]
    },
    {
     "name": "stdout",
     "output_type": "stream",
     "text": [
      " [\"step\", \""
     ]
    },
    {
     "name": "stdout",
     "output_type": "stream",
     "text": [
      "potentialEnergy\", \"temperature\"]\n",
      "    }\n"
     ]
    },
    {
     "name": "stdout",
     "output_type": "stream",
     "text": [
      "  }\n",
      "}\n",
      "```"
     ]
    },
    {
     "name": "stdout",
     "output_type": "stream",
     "text": [
      "Building system...\n"
     ]
    },
    {
     "name": "stdout",
     "output_type": "stream",
     "text": [
      "About to create system...\n",
      "Attempts at creating system: 0/3\n",
      "adding system without solvent\n"
     ]
    },
    {
     "name": "stdout",
     "output_type": "stream",
     "text": [
      "System built successfully\n",
      "<openmm.openmm.System; proxy of <Swig Object of type 'OpenMM::System *' at 0x2b67ecc5b9f0> >\n",
      "Setting up integrator...\n",
      "Creating simulation...\n",
      "simulation set!\n",
      "Performing energy minimization...\n"
     ]
    },
    {
     "name": "stdout",
     "output_type": "stream",
     "text": [
      "Minimization complete!\n",
      "Initial Positions saved to initial_positions.pdb\n",
      "Equilibrating...\n"
     ]
    },
    {
     "name": "stdout",
     "output_type": "stream",
     "text": [
      "Simulating...\n"
     ]
    },
    {
     "name": "stdout",
     "output_type": "stream",
     "text": [
      "Done!\n",
      "Standalone simulation script written to /gpfs/fs2/scratch/qcampbe2/repos/md-agent/ckpt/ckpt_60/simulations/NVT_1LYZ_212753_20241025_230148.py\n",
      "['TRAJ_sim0_230148_1LYZ_212753_20241025_230149.dcd', 'run_robustness.sh', 'prompt7.ipynb', 'prompt1.ipynb', 'prompt3.ipynb', '.ipynb_checkpoints', 'submit_robustness.sh', 'LOG_sim0_230148_1LYZ_212753_20241025_230149.txt', 'prompt10.ipynb', 'prompt9.ipynb', 'TOP_sim0_230148_1LYZ_212753_20241025_230149.pdb', 'prompt2.ipynb', 'out', 'prompt8.ipynb', 'prompt6.ipynb', 'prompt4.ipynb', 'prompt5.ipynb']\n"
     ]
    },
    {
     "name": "stdout",
     "output_type": "stream",
     "text": [
      "Thought:"
     ]
    },
    {
     "name": "stdout",
     "output_type": "stream",
     "text": [
      " Now that both simulations are complete,"
     ]
    },
    {
     "name": "stdout",
     "output_type": "stream",
     "text": [
      " I can analyze the results to find"
     ]
    },
    {
     "name": "stdout",
     "output_type": "stream",
     "text": [
      " the number of residues in the chains and"
     ]
    },
    {
     "name": "stdout",
     "output_type": "stream",
     "text": [
      " beta sheets, and compute the RMSD"
     ]
    },
    {
     "name": "stdout",
     "output_type": "stream",
     "text": [
      ", SASA, and radius of gy"
     ]
    },
    {
     "name": "stdout",
     "output_type": "stream",
     "text": [
      "ration.\n",
      "\n",
      "Action:\n",
      "```\n",
      "{\n",
      " "
     ]
    },
    {
     "name": "stdout",
     "output_type": "stream",
     "text": [
      " \"action\": \"SummarizePro"
     ]
    },
    {
     "name": "stdout",
     "output_type": "stream",
     "text": [
      "teinStructure\",\n",
      "  \"action_input\":"
     ]
    },
    {
     "name": "stdout",
     "output_type": "stream",
     "text": [
      " {\n",
      "    \"traj_file\": \""
     ]
    },
    {
     "name": "stdout",
     "output_type": "stream",
     "text": [
      "rec0_212758\",\n",
      "    \""
     ]
    },
    {
     "name": "stdout",
     "output_type": "stream",
     "text": [
      "top_file\": \"top_sim0_"
     ]
    },
    {
     "name": "stdout",
     "output_type": "stream",
     "text": [
      "212757\"\n",
      "  }\n",
      "}\n",
      "```\n"
     ]
    },
    {
     "name": "stdout",
     "output_type": "stream",
     "text": [
      "Note: I will analyze the"
     ]
    },
    {
     "name": "stdout",
     "output_type": "stream",
     "text": [
      " results for the simulation at 300"
     ]
    },
    {
     "name": "stdout",
     "output_type": "stream",
     "text": [
      "K first, and then I will"
     ]
    },
    {
     "name": "stdout",
     "output_type": "stream",
     "text": [
      " repeat the process for"
     ]
    },
    {
     "name": "stdout",
     "output_type": "stream",
     "text": [
      " 400K."
     ]
    },
    {
     "name": "stdout",
     "output_type": "stream",
     "text": [
      "Thought:"
     ]
    },
    {
     "name": "stdout",
     "output_type": "stream",
     "text": [
      " Now that I have the summary of"
     ]
    },
    {
     "name": "stdout",
     "output_type": "stream",
     "text": [
      " the protein structure for the simulation at"
     ]
    },
    {
     "name": "stdout",
     "output_type": "stream",
     "text": [
      " 300K, I can analyze the"
     ]
    },
    {
     "name": "stdout",
     "output_type": "stream",
     "text": [
      " results to find the number of residues"
     ]
    },
    {
     "name": "stdout",
     "output_type": "stream",
     "text": [
      " in the chains and beta sheets, and"
     ]
    },
    {
     "name": "stdout",
     "output_type": "stream",
     "text": [
      " compute the RMSD, SASA,"
     ]
    },
    {
     "name": "stdout",
     "output_type": "stream",
     "text": [
      " and radius of gyration.\n",
      "\n",
      "Action"
     ]
    },
    {
     "name": "stdout",
     "output_type": "stream",
     "text": [
      ":\n",
      "```\n",
      "{\n",
      "  \"action\":"
     ]
    },
    {
     "name": "stdout",
     "output_type": "stream",
     "text": [
      " \"ComputeDSS"
     ]
    },
    {
     "name": "stdout",
     "output_type": "stream",
     "text": [
      "P\",\n",
      "  \"action_input\": {\n"
     ]
    },
    {
     "name": "stdout",
     "output_type": "stream",
     "text": [
      "    \"traj_file\": \"rec"
     ]
    },
    {
     "name": "stdout",
     "output_type": "stream",
     "text": [
      "0_212758\",\n",
      "    \"top"
     ]
    },
    {
     "name": "stdout",
     "output_type": "stream",
     "text": [
      "_file\": \"top_sim0_212"
     ]
    },
    {
     "name": "stdout",
     "output_type": "stream",
     "text": [
      "757\",\n",
      "    \"target_frames\": \""
     ]
    },
    {
     "name": "stdout",
     "output_type": "stream",
     "text": [
      "all\"\n",
      "  }\n",
      "}\n",
      "```\n",
      "Note"
     ]
    },
    {
     "name": "stdout",
     "output_type": "stream",
     "text": [
      ": I will analyze the"
     ]
    },
    {
     "name": "stdout",
     "output_type": "stream",
     "text": [
      " results for the simulation at 300K"
     ]
    },
    {
     "name": "stdout",
     "output_type": "stream",
     "text": [
      " first, and then I will repeat the"
     ]
    },
    {
     "name": "stdout",
     "output_type": "stream",
     "text": [
      " process for 400K."
     ]
    },
    {
     "name": "stdout",
     "output_type": "stream",
     "text": [
      "Thought:"
     ]
    },
    {
     "name": "stdout",
     "output_type": "stream",
     "text": [
      " Now that I have the D"
     ]
    },
    {
     "name": "stdout",
     "output_type": "stream",
     "text": [
      "SSP analysis for the simulation at "
     ]
    },
    {
     "name": "stdout",
     "output_type": "stream",
     "text": [
      "300K, I can analyze the"
     ]
    },
    {
     "name": "stdout",
     "output_type": "stream",
     "text": [
      " results to find the number of residues in"
     ]
    },
    {
     "name": "stdout",
     "output_type": "stream",
     "text": [
      " the chains and beta sheets, and compute"
     ]
    },
    {
     "name": "stdout",
     "output_type": "stream",
     "text": [
      " the RMSD, SASA, and"
     ]
    },
    {
     "name": "stdout",
     "output_type": "stream",
     "text": [
      " radius of gyration.\n",
      "\n",
      "Action"
     ]
    },
    {
     "name": "stdout",
     "output_type": "stream",
     "text": [
      ":\n",
      "```\n",
      "{\n",
      "  \"action\":"
     ]
    },
    {
     "name": "stdout",
     "output_type": "stream",
     "text": [
      " \"ComputeRMSD\",\n",
      "  \""
     ]
    },
    {
     "name": "stdout",
     "output_type": "stream",
     "text": [
      "action_input\": {\n",
      "    \"traj"
     ]
    },
    {
     "name": "stdout",
     "output_type": "stream",
     "text": [
      "_id\": \"rec0_212758"
     ]
    },
    {
     "name": "stdout",
     "output_type": "stream",
     "text": [
      "\",\n",
      "    \"top_id"
     ]
    },
    {
     "name": "stdout",
     "output_type": "stream",
     "text": [
      "\": \"top_sim0_212757"
     ]
    },
    {
     "name": "stdout",
     "output_type": "stream",
     "text": [
      "\",\n",
      "    \"ref_traj_id\": \""
     ]
    },
    {
     "name": "stdout",
     "output_type": "stream",
     "text": [
      "rec0_212758"
     ]
    },
    {
     "name": "stdout",
     "output_type": "stream",
     "text": [
      "\",\n",
      "    \"ref_top_id\": \""
     ]
    },
    {
     "name": "stdout",
     "output_type": "stream",
     "text": [
      "top_sim0_212757\",\n",
      "   "
     ]
    },
    {
     "name": "stdout",
     "output_type": "stream",
     "text": [
      " \"select\": \"protein\",\n",
      "    \""
     ]
    },
    {
     "name": "stdout",
     "output_type": "stream",
     "text": [
      "mol_name\": \"1LYZ\"\n"
     ]
    },
    {
     "name": "stdout",
     "output_type": "stream",
     "text": [
      "  }\n",
      "}\n",
      "```\n",
      "Note: I"
     ]
    },
    {
     "name": "stdout",
     "output_type": "stream",
     "text": [
      " will analyze the results for the simulation at"
     ]
    },
    {
     "name": "stdout",
     "output_type": "stream",
     "text": [
      " 300K first, and then I"
     ]
    },
    {
     "name": "stdout",
     "output_type": "stream",
     "text": [
      " will repeat the process for 400K"
     ]
    },
    {
     "name": "stdout",
     "output_type": "stream",
     "text": [
      "."
     ]
    },
    {
     "name": "stdout",
     "output_type": "stream",
     "text": [
      "Calculating RMSD...\n"
     ]
    },
    {
     "name": "stdout",
     "output_type": "stream",
     "text": [
      "Data saved to /gpfs/fs2/scratch/qcampbe2/repos/md-agent/ckpt/ckpt_60/records/rmsd_1LYZ.csv\n"
     ]
    },
    {
     "name": "stdout",
     "output_type": "stream",
     "text": [
      "Plot saved to /gpfs/fs2/scratch/qcampbe2/repos/md-agent/ckpt/ckpt_60/figures/FIG_rmsd_1LYZ_20241026_003537.png\n"
     ]
    },
    {
     "name": "stdout",
     "output_type": "stream",
     "text": [
      "Thought:"
     ]
    },
    {
     "name": "stdout",
     "output_type": "stream",
     "text": [
      " Now that I have the RMS"
     ]
    },
    {
     "name": "stdout",
     "output_type": "stream",
     "text": [
      "D analysis for the simulation at "
     ]
    },
    {
     "name": "stdout",
     "output_type": "stream",
     "text": [
      "300K, I can analyze the"
     ]
    },
    {
     "name": "stdout",
     "output_type": "stream",
     "text": [
      " results to find the number of residues in"
     ]
    },
    {
     "name": "stdout",
     "output_type": "stream",
     "text": [
      " the chains and beta sheets, and compute"
     ]
    },
    {
     "name": "stdout",
     "output_type": "stream",
     "text": [
      " the SASA and radius of gyration"
     ]
    },
    {
     "name": "stdout",
     "output_type": "stream",
     "text": [
      ".\n",
      "\n",
      "Action:\n",
      "```\n",
      "{\n",
      "  \""
     ]
    },
    {
     "name": "stdout",
     "output_type": "stream",
     "text": [
      "action\": \"SolventAccessibleSurfaceArea"
     ]
    },
    {
     "name": "stdout",
     "output_type": "stream",
     "text": [
      "\",\n",
      "  \"action_input\": {\n",
      "   "
     ]
    },
    {
     "name": "stdout",
     "output_type": "stream",
     "text": [
      " \"top_fileid\": \"top_sim"
     ]
    },
    {
     "name": "stdout",
     "output_type": "stream",
     "text": [
      "0_212757\",\n",
      "    \"tr"
     ]
    },
    {
     "name": "stdout",
     "output_type": "stream",
     "text": [
      "aj_fileid\": \"rec0_"
     ]
    },
    {
     "name": "stdout",
     "output_type": "stream",
     "text": [
      "212758\",\n",
      "    \"molecule_name"
     ]
    },
    {
     "name": "stdout",
     "output_type": "stream",
     "text": [
      "\": \"1LYZ\"\n",
      "  }\n"
     ]
    },
    {
     "name": "stdout",
     "output_type": "stream",
     "text": [
      "}\n",
      "```\n",
      "Note: I will analyze"
     ]
    },
    {
     "name": "stdout",
     "output_type": "stream",
     "text": [
      " the results for the simulation at 300"
     ]
    },
    {
     "name": "stdout",
     "output_type": "stream",
     "text": [
      "K first, and then I will repeat"
     ]
    },
    {
     "name": "stdout",
     "output_type": "stream",
     "text": [
      " the process for 400K."
     ]
    },
    {
     "name": "stdout",
     "output_type": "stream",
     "text": [
      "Loading trajectory ...\n"
     ]
    },
    {
     "name": "stdout",
     "output_type": "stream",
     "text": [
      "Calcuating SASA ...\n"
     ]
    },
    {
     "name": "stdout",
     "output_type": "stream",
     "text": [
      "Data saved to /gpfs/fs2/scratch/qcampbe2/repos/md-agent/ckpt/ckpt_60/records/sasa_1LYZ.csv\n"
     ]
    },
    {
     "name": "stdout",
     "output_type": "stream",
     "text": [
      "SASA plot saved to FIG_sasa_1LYZ_20241026_003809.png\n"
     ]
    },
    {
     "name": "stdout",
     "output_type": "stream",
     "text": [
      "Thought:"
     ]
    },
    {
     "name": "stdout",
     "output_type": "stream",
     "text": [
      " Now that I have the SASA"
     ]
    },
    {
     "name": "stdout",
     "output_type": "stream",
     "text": [
      " analysis for the simulation at 300K"
     ]
    },
    {
     "name": "stdout",
     "output_type": "stream",
     "text": [
      ", I can analyze the results to find"
     ]
    },
    {
     "name": "stdout",
     "output_type": "stream",
     "text": [
      " the number of residues in the chains and"
     ]
    },
    {
     "name": "stdout",
     "output_type": "stream",
     "text": [
      " beta sheets, and compute the radius of"
     ]
    },
    {
     "name": "stdout",
     "output_type": "stream",
     "text": [
      " gyration.\n",
      "\n",
      "Action:\n",
      "```\n",
      "{\n"
     ]
    },
    {
     "name": "stdout",
     "output_type": "stream",
     "text": [
      "  \"action\": \"RadiusofG"
     ]
    },
    {
     "name": "stdout",
     "output_type": "stream",
     "text": [
      "yrationPerFrame\",\n",
      "  \"action"
     ]
    },
    {
     "name": "stdout",
     "output_type": "stream",
     "text": [
      "_input\": {\n",
      "    \"traj_file"
     ]
    },
    {
     "name": "stdout",
     "output_type": "stream",
     "text": [
      "\": \"rec0_212758\",\n"
     ]
    },
    {
     "name": "stdout",
     "output_type": "stream",
     "text": [
      "    \"top_file\": \"top_sim"
     ]
    },
    {
     "name": "stdout",
     "output_type": "stream",
     "text": [
      "0_212757\"\n",
      "  }\n",
      "}\n"
     ]
    },
    {
     "name": "stdout",
     "output_type": "stream",
     "text": [
      "```\n",
      "Note: I will analyze the"
     ]
    },
    {
     "name": "stdout",
     "output_type": "stream",
     "text": [
      " results for the simulation at 300K"
     ]
    },
    {
     "name": "stdout",
     "output_type": "stream",
     "text": [
      " first, and then I will repeat the"
     ]
    },
    {
     "name": "stdout",
     "output_type": "stream",
     "text": [
      " process for 400K."
     ]
    },
    {
     "name": "stdout",
     "output_type": "stream",
     "text": [
      "Thought:"
     ]
    },
    {
     "name": "stdout",
     "output_type": "stream",
     "text": [
      " Now that I have the radius of"
     ]
    },
    {
     "name": "stdout",
     "output_type": "stream",
     "text": [
      " gyration analysis for the simulation at "
     ]
    },
    {
     "name": "stdout",
     "output_type": "stream",
     "text": [
      "300K, I can repeat the process"
     ]
    },
    {
     "name": "stdout",
     "output_type": "stream",
     "text": [
      " for 400K.\n",
      "\n",
      "Action"
     ]
    },
    {
     "name": "stdout",
     "output_type": "stream",
     "text": [
      ":\n",
      "```\n",
      "{\n",
      "  \"action\":"
     ]
    },
    {
     "name": "stdout",
     "output_type": "stream",
     "text": [
      " \"SummarizeProteinStructure"
     ]
    },
    {
     "name": "stdout",
     "output_type": "stream",
     "text": [
      "\",\n",
      "  \"action_input\": {\n",
      "   "
     ]
    },
    {
     "name": "stdout",
     "output_type": "stream",
     "text": [
      " \"traj_file\": \"rec0"
     ]
    },
    {
     "name": "stdout",
     "output_type": "stream",
     "text": [
      "_230149\",\n",
      "    \"top_file"
     ]
    },
    {
     "name": "stdout",
     "output_type": "stream",
     "text": [
      "\": \"top_sim0_230148"
     ]
    },
    {
     "name": "stdout",
     "output_type": "stream",
     "text": [
      "\"\n",
      "  }\n",
      "}\n",
      "```\n",
      "Note:"
     ]
    },
    {
     "name": "stdout",
     "output_type": "stream",
     "text": [
      " I will analyze the results for the simulation"
     ]
    },
    {
     "name": "stdout",
     "output_type": "stream",
     "text": [
      " at 400K."
     ]
    },
    {
     "name": "stdout",
     "output_type": "stream",
     "text": [
      "Thought:"
     ]
    },
    {
     "name": "stdout",
     "output_type": "stream",
     "text": [
      " Now that I have the summary of"
     ]
    },
    {
     "name": "stdout",
     "output_type": "stream",
     "text": [
      " the protein structure for the simulation at "
     ]
    },
    {
     "name": "stdout",
     "output_type": "stream",
     "text": [
      "400K, I can analyze the results"
     ]
    },
    {
     "name": "stdout",
     "output_type": "stream",
     "text": [
      " to find the number of residues in the"
     ]
    },
    {
     "name": "stdout",
     "output_type": "stream",
     "text": [
      " chains and beta sheets, and compute the"
     ]
    },
    {
     "name": "stdout",
     "output_type": "stream",
     "text": [
      " RMSD, SASA, and radius"
     ]
    },
    {
     "name": "stdout",
     "output_type": "stream",
     "text": [
      " of gyration.\n",
      "\n",
      "Action:\n",
      "```\n"
     ]
    },
    {
     "name": "stdout",
     "output_type": "stream",
     "text": [
      "{\n",
      "  \"action\": \"ComputeD"
     ]
    },
    {
     "name": "stdout",
     "output_type": "stream",
     "text": [
      "SSP\",\n",
      "  \"action_input\":"
     ]
    },
    {
     "name": "stdout",
     "output_type": "stream",
     "text": [
      " {\n",
      "    \"traj_file\": \""
     ]
    },
    {
     "name": "stdout",
     "output_type": "stream",
     "text": [
      "rec0_230149\",\n",
      "    \""
     ]
    },
    {
     "name": "stdout",
     "output_type": "stream",
     "text": [
      "top_file\": \"top_sim0_"
     ]
    },
    {
     "name": "stdout",
     "output_type": "stream",
     "text": [
      "230148\",\n",
      "    \"target_frames\":"
     ]
    },
    {
     "name": "stdout",
     "output_type": "stream",
     "text": [
      " \"all\"\n",
      "  }\n",
      "}\n",
      "```\n"
     ]
    },
    {
     "name": "stdout",
     "output_type": "stream",
     "text": [
      "Note: I will analyze the results for"
     ]
    },
    {
     "name": "stdout",
     "output_type": "stream",
     "text": [
      " the simulation at 400K."
     ]
    },
    {
     "name": "stdout",
     "output_type": "stream",
     "text": [
      "Thought:"
     ]
    },
    {
     "name": "stdout",
     "output_type": "stream",
     "text": [
      " Now that I"
     ]
    },
    {
     "name": "stdout",
     "output_type": "stream",
     "text": [
      " have the DSS"
     ]
    },
    {
     "name": "stdout",
     "output_type": "stream",
     "text": [
      "P analysis for the"
     ]
    },
    {
     "name": "stdout",
     "output_type": "stream",
     "text": [
      " simulation at 400"
     ]
    },
    {
     "name": "stdout",
     "output_type": "stream",
     "text": [
      "K, I can"
     ]
    },
    {
     "name": "stdout",
     "output_type": "stream",
     "text": [
      " analyze the results to"
     ]
    },
    {
     "name": "stdout",
     "output_type": "stream",
     "text": [
      " find the number of"
     ]
    },
    {
     "name": "stdout",
     "output_type": "stream",
     "text": [
      " residues in the chains"
     ]
    },
    {
     "name": "stdout",
     "output_type": "stream",
     "text": [
      " and beta sheets,"
     ]
    },
    {
     "name": "stdout",
     "output_type": "stream",
     "text": [
      " and compute the RMS"
     ]
    },
    {
     "name": "stdout",
     "output_type": "stream",
     "text": [
      "D, SASA"
     ]
    },
    {
     "name": "stdout",
     "output_type": "stream",
     "text": [
      ", and radius of"
     ]
    },
    {
     "name": "stdout",
     "output_type": "stream",
     "text": [
      " gyration.\n",
      "\n",
      "Action"
     ]
    },
    {
     "name": "stdout",
     "output_type": "stream",
     "text": [
      ":\n",
      "```\n",
      "{\n"
     ]
    },
    {
     "name": "stdout",
     "output_type": "stream",
     "text": [
      "  \"action\":"
     ]
    },
    {
     "name": "stdout",
     "output_type": "stream",
     "text": [
      " \"ComputeRMS"
     ]
    },
    {
     "name": "stdout",
     "output_type": "stream",
     "text": [
      "D\",\n",
      "  \""
     ]
    },
    {
     "name": "stdout",
     "output_type": "stream",
     "text": [
      "action_input\": {\n"
     ]
    },
    {
     "name": "stdout",
     "output_type": "stream",
     "text": [
      "    \"traj"
     ]
    },
    {
     "name": "stdout",
     "output_type": "stream",
     "text": [
      "_id\": \"rec"
     ]
    },
    {
     "name": "stdout",
     "output_type": "stream",
     "text": [
      "0_230149"
     ]
    },
    {
     "name": "stdout",
     "output_type": "stream",
     "text": [
      "\",\n",
      "    \"top"
     ]
    },
    {
     "name": "stdout",
     "output_type": "stream",
     "text": [
      "_id\": \"top"
     ]
    },
    {
     "name": "stdout",
     "output_type": "stream",
     "text": [
      "_sim0_230"
     ]
    },
    {
     "name": "stdout",
     "output_type": "stream",
     "text": [
      "148\",\n",
      "    \""
     ]
    },
    {
     "name": "stdout",
     "output_type": "stream",
     "text": [
      "ref_traj_id\":"
     ]
    },
    {
     "name": "stdout",
     "output_type": "stream",
     "text": [
      " \"rec0_"
     ]
    },
    {
     "name": "stdout",
     "output_type": "stream",
     "text": [
      "230149\",\n",
      "   "
     ]
    },
    {
     "name": "stdout",
     "output_type": "stream",
     "text": [
      " \"ref_top_id"
     ]
    },
    {
     "name": "stdout",
     "output_type": "stream",
     "text": [
      "\": \"top_sim"
     ]
    },
    {
     "name": "stdout",
     "output_type": "stream",
     "text": [
      "0_230148"
     ]
    },
    {
     "name": "stdout",
     "output_type": "stream",
     "text": [
      "\",\n",
      "    \"select"
     ]
    },
    {
     "name": "stdout",
     "output_type": "stream",
     "text": [
      "\": \"protein\",\n"
     ]
    },
    {
     "name": "stdout",
     "output_type": "stream",
     "text": [
      "    \"mol_name"
     ]
    },
    {
     "name": "stdout",
     "output_type": "stream",
     "text": [
      "\": \"1LY"
     ]
    },
    {
     "name": "stdout",
     "output_type": "stream",
     "text": [
      "Z\"\n",
      "  }\n"
     ]
    },
    {
     "name": "stdout",
     "output_type": "stream",
     "text": [
      "}\n",
      "```\n",
      "Note"
     ]
    },
    {
     "name": "stdout",
     "output_type": "stream",
     "text": [
      ": I will analyze"
     ]
    },
    {
     "name": "stdout",
     "output_type": "stream",
     "text": [
      " the results for the"
     ]
    },
    {
     "name": "stdout",
     "output_type": "stream",
     "text": [
      " simulation at 400"
     ]
    },
    {
     "name": "stdout",
     "output_type": "stream",
     "text": [
      "K."
     ]
    },
    {
     "name": "stdout",
     "output_type": "stream",
     "text": [
      "Calculating RMSD...\n"
     ]
    },
    {
     "name": "stdout",
     "output_type": "stream",
     "text": [
      "Data saved to /gpfs/fs2/scratch/qcampbe2/repos/md-agent/ckpt/ckpt_60/records/rmsd_1LYZ_1.csv\n"
     ]
    },
    {
     "name": "stdout",
     "output_type": "stream",
     "text": [
      "Plot saved to /gpfs/fs2/scratch/qcampbe2/repos/md-agent/ckpt/ckpt_60/figures/FIG_rmsd_1LYZ_20241026_003822.png\n"
     ]
    },
    {
     "name": "stdout",
     "output_type": "stream",
     "text": [
      "Thought:"
     ]
    },
    {
     "name": "stdout",
     "output_type": "stream",
     "text": [
      " Now that I"
     ]
    },
    {
     "name": "stdout",
     "output_type": "stream",
     "text": [
      " have the RMSD"
     ]
    },
    {
     "name": "stdout",
     "output_type": "stream",
     "text": [
      " analysis for the simulation"
     ]
    },
    {
     "name": "stdout",
     "output_type": "stream",
     "text": [
      " at 400K"
     ]
    },
    {
     "name": "stdout",
     "output_type": "stream",
     "text": [
      ", I can analyze"
     ]
    },
    {
     "name": "stdout",
     "output_type": "stream",
     "text": [
      " the results to find"
     ]
    },
    {
     "name": "stdout",
     "output_type": "stream",
     "text": [
      " the number of residues"
     ]
    },
    {
     "name": "stdout",
     "output_type": "stream",
     "text": [
      " in the chains and"
     ]
    },
    {
     "name": "stdout",
     "output_type": "stream",
     "text": [
      " beta sheets, and"
     ]
    },
    {
     "name": "stdout",
     "output_type": "stream",
     "text": [
      " compute the SASA"
     ]
    },
    {
     "name": "stdout",
     "output_type": "stream",
     "text": [
      " and radius of gy"
     ]
    },
    {
     "name": "stdout",
     "output_type": "stream",
     "text": [
      "ration.\n",
      "\n",
      "Action:\n"
     ]
    },
    {
     "name": "stdout",
     "output_type": "stream",
     "text": [
      "```\n",
      "{\n",
      " "
     ]
    },
    {
     "name": "stdout",
     "output_type": "stream",
     "text": [
      " \"action\": \""
     ]
    },
    {
     "name": "stdout",
     "output_type": "stream",
     "text": [
      "SolventAccessibleSurface"
     ]
    },
    {
     "name": "stdout",
     "output_type": "stream",
     "text": [
      "Area\",\n",
      "  \""
     ]
    },
    {
     "name": "stdout",
     "output_type": "stream",
     "text": [
      "action_input\": {\n"
     ]
    },
    {
     "name": "stdout",
     "output_type": "stream",
     "text": [
      "    \"top_file"
     ]
    },
    {
     "name": "stdout",
     "output_type": "stream",
     "text": [
      "id\": \"top"
     ]
    },
    {
     "name": "stdout",
     "output_type": "stream",
     "text": [
      "_sim0_230"
     ]
    },
    {
     "name": "stdout",
     "output_type": "stream",
     "text": [
      "148\",\n",
      "    \""
     ]
    },
    {
     "name": "stdout",
     "output_type": "stream",
     "text": [
      "traj_fileid"
     ]
    },
    {
     "name": "stdout",
     "output_type": "stream",
     "text": [
      "\": \"rec0"
     ]
    },
    {
     "name": "stdout",
     "output_type": "stream",
     "text": [
      "_230149\",\n"
     ]
    },
    {
     "name": "stdout",
     "output_type": "stream",
     "text": [
      "    \"molecule"
     ]
    },
    {
     "name": "stdout",
     "output_type": "stream",
     "text": [
      "_name\": \"1"
     ]
    },
    {
     "name": "stdout",
     "output_type": "stream",
     "text": [
      "LYZ\"\n",
      " "
     ]
    },
    {
     "name": "stdout",
     "output_type": "stream",
     "text": [
      " }\n",
      "}\n",
      "```\n"
     ]
    },
    {
     "name": "stdout",
     "output_type": "stream",
     "text": [
      "Note: I will"
     ]
    },
    {
     "name": "stdout",
     "output_type": "stream",
     "text": [
      " analyze the results for"
     ]
    },
    {
     "name": "stdout",
     "output_type": "stream",
     "text": [
      " the simulation at "
     ]
    },
    {
     "name": "stdout",
     "output_type": "stream",
     "text": [
      "400K."
     ]
    },
    {
     "name": "stdout",
     "output_type": "stream",
     "text": [
      "Loading trajectory ...\n",
      "Calcuating SASA ...\n"
     ]
    },
    {
     "name": "stdout",
     "output_type": "stream",
     "text": [
      "Data saved to /gpfs/fs2/scratch/qcampbe2/repos/md-agent/ckpt/ckpt_60/records/sasa_1LYZ_1.csv\n"
     ]
    },
    {
     "name": "stdout",
     "output_type": "stream",
     "text": [
      "SASA plot saved to FIG_sasa_1LYZ_20241026_004053.png\n"
     ]
    },
    {
     "name": "stdout",
     "output_type": "stream",
     "text": [
      "Thought:"
     ]
    },
    {
     "name": "stdout",
     "output_type": "stream",
     "text": [
      " Now that I"
     ]
    },
    {
     "name": "stdout",
     "output_type": "stream",
     "text": [
      " have the SASA"
     ]
    },
    {
     "name": "stdout",
     "output_type": "stream",
     "text": [
      " analysis for the simulation"
     ]
    },
    {
     "name": "stdout",
     "output_type": "stream",
     "text": [
      " at 400K"
     ]
    },
    {
     "name": "stdout",
     "output_type": "stream",
     "text": [
      ", I can analyze"
     ]
    },
    {
     "name": "stdout",
     "output_type": "stream",
     "text": [
      " the results to find"
     ]
    },
    {
     "name": "stdout",
     "output_type": "stream",
     "text": [
      " the number of residues"
     ]
    },
    {
     "name": "stdout",
     "output_type": "stream",
     "text": [
      " in the chains and"
     ]
    },
    {
     "name": "stdout",
     "output_type": "stream",
     "text": [
      " beta sheets, and"
     ]
    },
    {
     "name": "stdout",
     "output_type": "stream",
     "text": [
      " compute the radius of"
     ]
    },
    {
     "name": "stdout",
     "output_type": "stream",
     "text": [
      " gyration.\n",
      "\n",
      "Action"
     ]
    },
    {
     "name": "stdout",
     "output_type": "stream",
     "text": [
      ":\n",
      "```\n",
      "{\n"
     ]
    },
    {
     "name": "stdout",
     "output_type": "stream",
     "text": [
      "  \"action\":"
     ]
    },
    {
     "name": "stdout",
     "output_type": "stream",
     "text": [
      " \"RadiusofG"
     ]
    },
    {
     "name": "stdout",
     "output_type": "stream",
     "text": [
      "yrationPerFrame"
     ]
    },
    {
     "name": "stdout",
     "output_type": "stream",
     "text": [
      "\",\n",
      "  \"action"
     ]
    },
    {
     "name": "stdout",
     "output_type": "stream",
     "text": [
      "_input\": {\n",
      "   "
     ]
    },
    {
     "name": "stdout",
     "output_type": "stream",
     "text": [
      " \"traj_file"
     ]
    },
    {
     "name": "stdout",
     "output_type": "stream",
     "text": [
      "\": \"rec0"
     ]
    },
    {
     "name": "stdout",
     "output_type": "stream",
     "text": [
      "_230149\",\n"
     ]
    },
    {
     "name": "stdout",
     "output_type": "stream",
     "text": [
      "    \"top_file"
     ]
    },
    {
     "name": "stdout",
     "output_type": "stream",
     "text": [
      "\": \"top_sim"
     ]
    },
    {
     "name": "stdout",
     "output_type": "stream",
     "text": [
      "0_230148"
     ]
    },
    {
     "name": "stdout",
     "output_type": "stream",
     "text": [
      "\"\n",
      "  }\n",
      "}\n"
     ]
    },
    {
     "name": "stdout",
     "output_type": "stream",
     "text": [
      "```\n",
      "Note:"
     ]
    },
    {
     "name": "stdout",
     "output_type": "stream",
     "text": [
      " I will analyze the"
     ]
    },
    {
     "name": "stdout",
     "output_type": "stream",
     "text": [
      " results for the simulation"
     ]
    },
    {
     "name": "stdout",
     "output_type": "stream",
     "text": [
      " at 400K"
     ]
    },
    {
     "name": "stdout",
     "output_type": "stream",
     "text": [
      ". After"
     ]
    },
    {
     "name": "stdout",
     "output_type": "stream",
     "text": [
      " this"
     ]
    },
    {
     "name": "stdout",
     "output_type": "stream",
     "text": [
      ", I will have"
     ]
    },
    {
     "name": "stdout",
     "output_type": "stream",
     "text": [
      " all the necessary information"
     ]
    },
    {
     "name": "stdout",
     "output_type": "stream",
     "text": [
      " to provide a"
     ]
    },
    {
     "name": "stdout",
     "output_type": "stream",
     "text": [
      " final"
     ]
    },
    {
     "name": "stdout",
     "output_type": "stream",
     "text": [
      " answer."
     ]
    },
    {
     "data": {
      "text/plain": [
       "({'input': '\\n    You are an expert molecular dynamics scientist, and\\n    your task is to respond to the question or\\n    solve the problem to the best of your ability using\\n    the provided tools.\\n\\n    You can only respond with a single complete\\n    \\'Thought, Action, Action Input\\' format\\n    OR a single \\'Final Answer\\' format.\\n\\n    Complete format:\\n    Thought: (reflect on your progress and decide what to do next)\\n    Action:\\n    ```\\n    {\\n        \"action\": (the action name, it should be the name of a tool),\\n        \"action_input\": (the input string for the action)\\n    }\\n    \\'\\'\\'\\n\\n    OR\\n\\n    Final Answer: (the final response to the original input\\n    question, once all steps are complete)\\n\\n    You are required to use the tools provided,\\n    using the most specific tool\\n    available for each action.\\n    Your final answer should contain all information\\n    necessary to answer the question and its subquestions.\\n    Before you finish, reflect on your progress and make\\n    sure you have addressed the question in its entirety.\\n\\n    If you are asked to continue\\n    or reference previous runs,\\n    the context will be provided to you.\\n    If context is provided, you should assume\\n    you are continuing a chat.\\n\\n    Here is the input:\\n    Previous Context: None\\n    Question: Simulate 1LYZ for 1 ps at 300K and 400K. Tell me how many residues are in the chains and beta sheets, and compute the RMSD, SASA, and radius of gyration of both simulations. ',\n",
       "  'output': 'Agent stopped due to iteration limit or time limit.'},\n",
       " 'WRJR2CKL')"
      ]
     },
     "execution_count": 17,
     "metadata": {},
     "output_type": "execute_result"
    }
   ],
   "source": [
    "agent_2.run(non_descriptive_prompt_10)"
   ]
  },
  {
   "cell_type": "code",
   "execution_count": 18,
   "metadata": {
    "execution": {
     "iopub.execute_input": "2024-10-26T04:40:56.985418Z",
     "iopub.status.busy": "2024-10-26T04:40:56.985020Z",
     "iopub.status.idle": "2024-10-26T04:40:56.994246Z",
     "shell.execute_reply": "2024-10-26T04:40:56.993447Z"
    }
   },
   "outputs": [
    {
     "name": "stdout",
     "output_type": "stream",
     "text": [
      "ckpt_dir: ckpt_60\n",
      "Files found in registry: 1LYZ_212745: PDB file downloaded from RSCB\n",
      " PDBFile ID: 1LYZ_212745\n",
      " 1LYZ_212753: Cleaned File:  Removed Heterogens\n",
      " and Water Removed.  Replaced Nonstandard Residues. Added Hydrogens at pH 7.0. Missing Atoms Added and replaces nonstandard residues. \n",
      " top_sim0_212757: Initial positions for simulation sim0_212757\n",
      " sim0_212757: Basic Simulation of Protein 1LYZ_212753\n",
      " rec0_212758: Simulation trajectory for protein 1LYZ_212753 and simulation sim0_212757\n",
      " rec1_212758: Simulation state log for protein 1LYZ_212753 and simulation sim0_212757\n",
      " rec2_212758: Simulation pdb frames for protein 1LYZ_212753 and simulation sim0_212757\n",
      " top_sim0_230148: Initial positions for simulation sim0_230148\n",
      " sim0_230148: Basic Simulation of Protein 1LYZ_212753\n",
      " rec0_230149: Simulation trajectory for protein 1LYZ_212753 and simulation sim0_230148\n",
      " rec1_230149: Simulation state log for protein 1LYZ_212753 and simulation sim0_230148\n",
      " rec2_230149: Simulation pdb frames for protein 1LYZ_212753 and simulation sim0_230148\n",
      " rec0_003534: dssp values for trajectory with id: rec0_212758\n",
      " rmsd_1LYZ: RMSD for 1LYZ\n",
      " fig0_003537: RMSD plot for 1LYZ\n",
      " sasa_1LYZ: Total SASA values for 1LYZ\n",
      " fig0_003809: Plot of SASA over time for 1LYZ\n",
      " rgy_rec0_212758: Radii of gyration per frame for rec0_212758\n",
      " rec0_003817: dssp values for trajectory with id: rec0_230149\n",
      " rmsd_1LYZ_1: RMSD for 1LYZ\n",
      " fig0_003822: RMSD plot for 1LYZ\n",
      " sasa_1LYZ_1: Total SASA values for 1LYZ\n",
      " fig0_004053: Plot of SASA over time for 1LYZ\n",
      " rgy_rec0_230149: Radii of gyration per frame for rec0_230149\n"
     ]
    }
   ],
   "source": [
    "registry = agent_2.path_registry\n",
    "print(\"ckpt_dir:\",os.path.basename(registry.ckpt_dir))\n",
    "paths_and_descriptions = registry.list_path_names_and_descriptions()\n",
    "print(\"\\n\".join(paths_and_descriptions.split(\",\")))"
   ]
  },
  {
   "cell_type": "code",
   "execution_count": 19,
   "metadata": {
    "execution": {
     "iopub.execute_input": "2024-10-26T04:40:56.998010Z",
     "iopub.status.busy": "2024-10-26T04:40:56.997696Z",
     "iopub.status.idle": "2024-10-26T04:40:57.021340Z",
     "shell.execute_reply": "2024-10-26T04:40:57.020344Z"
    }
   },
   "outputs": [
    {
     "name": "stdout",
     "output_type": "stream",
     "text": [
      "It's asserted that file paths for rec0_212758, top_sim0_212757, rec0_230149 and top_sim0_230148 exist\n"
     ]
    }
   ],
   "source": [
    "import re\n",
    "import os\n",
    "matches = re.findall(r\"rec0_\\d+\", paths_and_descriptions)\n",
    "traj_id1 = matches[0]\n",
    "traj_id2 = matches[1]\n",
    "traj_path1 = registry.get_mapped_path(traj_id1)\n",
    "traj_path2 = registry.get_mapped_path(traj_id2)\n",
    "assert os.path.exists(traj_path1)\n",
    "assert os.path.exists(traj_path2)\n",
    "\n",
    "matches = re.findall(r\"top_sim0_\\d+\", paths_and_descriptions)\n",
    "top_id1 = matches[0]\n",
    "top_id2 = matches[1]\n",
    "top_path1 = registry.get_mapped_path(top_id1)\n",
    "top_path2 = registry.get_mapped_path(top_id2)\n",
    "assert os.path.exists(top_path1)\n",
    "assert os.path.exists(top_path2)\n",
    "print(f\"It's asserted that file paths for {traj_id1}, {top_id1}, {traj_id2} and {top_id2} exist\")"
   ]
  },
  {
   "cell_type": "code",
   "execution_count": 20,
   "metadata": {
    "execution": {
     "iopub.execute_input": "2024-10-26T04:40:57.025475Z",
     "iopub.status.busy": "2024-10-26T04:40:57.025157Z",
     "iopub.status.idle": "2024-10-26T04:40:57.126466Z",
     "shell.execute_reply": "2024-10-26T04:40:57.125593Z"
    }
   },
   "outputs": [
    {
     "name": "stdout",
     "output_type": "stream",
     "text": [
      "From first simulation:\n",
      "Number of residues in total:  129\n",
      "Number of chains:  1\n",
      "Number of residues in sheets:  12\n",
      "Number of residues in helices:  50\n",
      "Number of residues in coils:  67\n"
     ]
    }
   ],
   "source": [
    "# this checks DSSP for the first frame, change to the last frame if needed\n",
    "import mdtraj as md\n",
    "\n",
    "print(\"From first simulation:\")\n",
    "traj_path1 = registry.get_mapped_path(traj_id1)\n",
    "top_path1 = registry.get_mapped_path(top_id1)\n",
    "traj = md.load(traj_path1, top=top_path1)[0] # first frame\n",
    "secondary_structure = md.compute_dssp(traj,simplified=True)[0]\n",
    "print(\"Number of residues in total: \",traj.n_residues)\n",
    "print(\"Number of chains: \",traj.n_chains)\n",
    "print(\"Number of residues in sheets: \",len([i for i in secondary_structure if i == 'E']))\n",
    "print(\"Number of residues in helices: \",len([i for i in secondary_structure if i == 'H']))\n",
    "print(\"Number of residues in coils: \",len([i for i in secondary_structure if i == 'C']))"
   ]
  },
  {
   "cell_type": "code",
   "execution_count": 21,
   "metadata": {
    "execution": {
     "iopub.execute_input": "2024-10-26T04:40:57.130594Z",
     "iopub.status.busy": "2024-10-26T04:40:57.130290Z",
     "iopub.status.idle": "2024-10-26T04:40:57.142119Z",
     "shell.execute_reply": "2024-10-26T04:40:57.141273Z"
    }
   },
   "outputs": [
    {
     "data": {
      "image/png": "[encoded data removed]",
      "text/plain": [
       "<IPython.core.display.Image object>"
      ]
     },
     "execution_count": 21,
     "metadata": {},
     "output_type": "execute_result"
    }
   ],
   "source": [
    "from IPython.display import Image\n",
    "matches = re.findall(r\"fig0_\\d+\", paths_and_descriptions)\n",
    "fig_id1 = matches[0]\n",
    "fig_path1 = registry.get_mapped_path(fig_id1)\n",
    "assert os.path.exists(fig_path1), f\"This figure {fig_id1} does not exist.\"\n",
    "Image(filename=fig_path1)"
   ]
  },
  {
   "cell_type": "code",
   "execution_count": 22,
   "metadata": {
    "execution": {
     "iopub.execute_input": "2024-10-26T04:40:57.146629Z",
     "iopub.status.busy": "2024-10-26T04:40:57.146270Z",
     "iopub.status.idle": "2024-10-26T04:40:57.160740Z",
     "shell.execute_reply": "2024-10-26T04:40:57.159801Z"
    }
   },
   "outputs": [
    {
     "data": {
      "image/png": "[encoded data removed]",
      "text/plain": [
       "<IPython.core.display.Image object>"
      ]
     },
     "execution_count": 22,
     "metadata": {},
     "output_type": "execute_result"
    }
   ],
   "source": [
    "fig_id2 = matches[1]\n",
    "fig_path2 = registry.get_mapped_path(fig_id2)\n",
    "assert os.path.exists(fig_path1), f\"This figure {fig_id2} does not exist.\"\n",
    "Image(filename=fig_path2)"
   ]
  },
  {
   "cell_type": "code",
   "execution_count": 23,
   "metadata": {
    "execution": {
     "iopub.execute_input": "2024-10-26T04:40:57.165032Z",
     "iopub.status.busy": "2024-10-26T04:40:57.164659Z",
     "iopub.status.idle": "2024-10-26T04:40:57.176521Z",
     "shell.execute_reply": "2024-10-26T04:40:57.175685Z"
    }
   },
   "outputs": [
    {
     "data": {
      "image/png": "[encoded data removed]",
      "text/plain": [
       "<IPython.core.display.Image object>"
      ]
     },
     "execution_count": 23,
     "metadata": {},
     "output_type": "execute_result"
    }
   ],
   "source": [
    "fig_id3 = matches[2]\n",
    "fig_path3 = registry.get_mapped_path(fig_id3)\n",
    "assert os.path.exists(fig_path3), f\"This figure {fig_id3} does not exist.\"\n",
    "Image(filename=fig_path3)"
   ]
  },
  {
   "cell_type": "code",
   "execution_count": 24,
   "metadata": {
    "execution": {
     "iopub.execute_input": "2024-10-26T04:40:57.180480Z",
     "iopub.status.busy": "2024-10-26T04:40:57.180178Z",
     "iopub.status.idle": "2024-10-26T04:40:57.193942Z",
     "shell.execute_reply": "2024-10-26T04:40:57.193093Z"
    }
   },
   "outputs": [
    {
     "data": {
      "image/png": "[encoded data removed]",
      "text/plain": [
       "<IPython.core.display.Image object>"
      ]
     },
     "execution_count": 24,
     "metadata": {},
     "output_type": "execute_result"
    }
   ],
   "source": [
    "fig_id4 = matches[3]\n",
    "fig_path4 = registry.get_mapped_path(fig_id4)\n",
    "assert os.path.exists(fig_path4), f\"This figure {fig_id4} does not exist.\"\n",
    "Image(filename=fig_path4)"
   ]
  },
  {
   "cell_type": "code",
   "execution_count": 5,
   "metadata": {},
   "outputs": [
    {
     "name": "stdout",
     "output_type": "stream",
     "text": [
      "# Radius of Gyration (nm)\n",
      "1.413587245942312443e+00\n",
      "1.410707859539359843e+00\n",
      "1.412525919804704877e+00\n",
      "1.414513610096814311e+00\n"
     ]
    }
   ],
   "source": [
    "# Check RGy files\n",
    "import re\n",
    "registry = MDCrow(ckpt_dir=\"ckpt_60\").path_registry\n",
    "paths_and_descriptions = registry.list_path_names_and_descriptions()\n",
    "\n",
    "matches = re.findall(r\"rgy_rec0_\\d+\", paths_and_descriptions)\n",
    "rgy_id = matches[0]\n",
    "rgy_path = registry.get_mapped_path(rgy_id)\n",
    "assert os.path.exists(rgy_path), \"RGy file doesn't exist\"\n",
    "with open(rgy_path, \"r\") as f:\n",
    "    lines = f.read().split(\"\\n\")\n",
    "    for i in range(5):\n",
    "        print(lines[i])"
   ]
  },
  {
   "cell_type": "code",
   "execution_count": 6,
   "metadata": {},
   "outputs": [
    {
     "name": "stdout",
     "output_type": "stream",
     "text": [
      "# Radius of Gyration (nm)\n",
      "1.417251966802428598e+00\n",
      "1.422167179852466656e+00\n",
      "1.419499592763379114e+00\n",
      "1.421420745900668470e+00\n"
     ]
    }
   ],
   "source": [
    "rgy_id = matches[1]\n",
    "rgy_path = registry.get_mapped_path(rgy_id)\n",
    "assert os.path.exists(rgy_path), \"RGy file doesn't exist\"\n",
    "with open(rgy_path, \"r\") as f:\n",
    "    lines = f.read().split(\"\\n\")\n",
    "    for i in range(5):\n",
    "        print(lines[i])"
   ]
  }
 ],
 "metadata": {
  "kernelspec": {
   "display_name": "mdcrow",
   "language": "python",
   "name": "mdcrow"
  },
  "language_info": {
   "codemirror_mode": {
    "name": "ipython",
    "version": 3
   },
   "file_extension": ".py",
   "mimetype": "text/x-python",
   "name": "python",
   "nbconvert_exporter": "python",
   "pygments_lexer": "ipython3",
   "version": "3.12.4"
  }
 },
 "nbformat": 4,
 "nbformat_minor": 4
}
