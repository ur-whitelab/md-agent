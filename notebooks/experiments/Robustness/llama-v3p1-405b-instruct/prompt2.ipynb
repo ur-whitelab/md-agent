{
 "cells": [
  {
   "cell_type": "code",
   "execution_count": 1,
   "metadata": {},
   "outputs": [],
   "source": [
    "from mdcrow import MDCrow\n",
    "import os"
   ]
  },
  {
   "cell_type": "code",
   "execution_count": 2,
   "metadata": {},
   "outputs": [],
   "source": [
    "descriptive_prompt_2 = \"Complete all of the following tasks: 1. Download the PDB file 1LYZ. 2. Tell me how many residues are in the chains and beta sheets.\"\n",
    "non_descriptive_prompt_2 = \"Download the PDB file 1LYZ. Tell me how many residues are in the chains and beta sheets.\""
   ]
  },
  {
   "cell_type": "code",
   "execution_count": 3,
   "metadata": {},
   "outputs": [],
   "source": [
    "llm_model = \"accounts/fireworks/models/llama-v3p1-405b-instruct\"\n",
    "tools = \"all\""
   ]
  },
  {
   "cell_type": "code",
   "execution_count": 4,
   "metadata": {},
   "outputs": [
    {
     "name": "stdout",
     "output_type": "stream",
     "text": [
      "date: 2024-10-23\n",
      "time: 11:14:53\n"
     ]
    }
   ],
   "source": [
    "#todays date and time\n",
    "import datetime\n",
    "now = datetime.datetime.now()\n",
    "date = now.strftime(\"%Y-%m-%d\")\n",
    "print(\"date:\",date)\n",
    "time = now.strftime(\"%H:%M:%S\")\n",
    "print(\"time:\",time)"
   ]
  },
  {
   "cell_type": "markdown",
   "metadata": {},
   "source": [
    "# descriptive prompt"
   ]
  },
  {
   "cell_type": "code",
   "execution_count": 5,
   "metadata": {},
   "outputs": [],
   "source": [
    "agent_1 = MDCrow(agent_type=\"Structured\", model=llm_model, top_k_tools=tools)"
   ]
  },
  {
   "cell_type": "code",
   "execution_count": 6,
   "metadata": {},
   "outputs": [
    {
     "name": "stdout",
     "output_type": "stream",
     "text": [
      "Thought: First, I need to download the PDB file 1LYZ. Then, I can analyze the structure to determine the number of residues in the chains and beta sheets.\n",
      "\n",
      "Action:\n",
      "```\n",
      "{\n",
      "  \"action\": \"PDBFileDownloader\",\n",
      "  \"action_input\": \"1LYZ\"\n",
      "}\n",
      "```\n",
      "PDB file found with this ID: 1LYZ\n",
      "Now that I have the PDB file, I can analyze the structure to determine the number of residues in the chains and beta sheets.\n",
      "\n",
      "Action:\n",
      "```\n",
      "{\n",
      "  \"action\": \"GetTurnsBetaSheetsHelices\",\n",
      "  \"action_input\": {\n",
      "    \"query\": \"1LYZ\",\n",
      "    \"primary_accession\": \"P00720\"\n",
      "  }\n",
      "}\n",
      "```The primary accession number provided does not match any entry in the data, using the first entry instead.\n",
      "The primary accession number provided does not match any entry in the data, using the first entry instead.\n",
      "The primary accession number provided does not match any entry in the data, using the first entry instead.\n",
      "Thought: I have the PDB file and the information about the turns, beta sheets, and helices. Now, I need to analyze the structure to determine the number of residues in the chains.\n",
      "\n",
      "Action:\n",
      "```\n",
      "{\n",
      "  \"action\": \"SummarizeProteinStructure\",\n",
      "  \"action_input\": {\n",
      "    \"traj_file\": \"1LYZ_111456\",\n",
      "    \"top_file\": \"1LYZ_111456\"\n",
      "  }\n",
      "}\n",
      "```\n",
      "Thought: I have the PDB file and the information about the turns, beta sheets, and helices, as well as the number of residues in the chains. Now, I can provide the final answer.\n",
      "\n",
      "Action:\n",
      "```\n",
      "{\n",
      "  \"action\": \"Final Answer\",\n",
      "  \"action_input\": \"The PDB file 1LYZ has 230 residues in 2 chains. There are no beta sheets in the structure.\"\n",
      "}\n",
      "```"
     ]
    },
    {
     "data": {
      "text/plain": [
       "({'input': '\\n    You are an expert molecular dynamics scientist, and\\n    your task is to respond to the question or\\n    solve the problem to the best of your ability using\\n    the provided tools.\\n\\n    You can only respond with a single complete\\n    \\'Thought, Action, Action Input\\' format\\n    OR a single \\'Final Answer\\' format.\\n\\n    Complete format:\\n    Thought: (reflect on your progress and decide what to do next)\\n    Action:\\n    ```\\n    {\\n        \"action\": (the action name, it should be the name of a tool),\\n        \"action_input\": (the input string for the action)\\n    }\\n    \\'\\'\\'\\n\\n    OR\\n\\n    Final Answer: (the final response to the original input\\n    question, once all steps are complete)\\n\\n    You are required to use the tools provided,\\n    using the most specific tool\\n    available for each action.\\n    Your final answer should contain all information\\n    necessary to answer the question and its subquestions.\\n    Before you finish, reflect on your progress and make\\n    sure you have addressed the question in its entirety.\\n\\n    If you are asked to continue\\n    or reference previous runs,\\n    the context will be provided to you.\\n    If context is provided, you should assume\\n    you are continuing a chat.\\n\\n    Here is the input:\\n    Previous Context: None\\n    Question: Complete all of the following tasks: 1. Download the PDB file 1LYZ. 2. Tell me how many residues are in the chains and beta sheets. ',\n",
       "  'output': 'The PDB file 1LYZ has 230 residues in 2 chains. There are no beta sheets in the structure.'},\n",
       " '4K3V2XP9')"
      ]
     },
     "execution_count": 6,
     "metadata": {},
     "output_type": "execute_result"
    }
   ],
   "source": [
    "agent_1.run(descriptive_prompt_2)"
   ]
  },
  {
   "cell_type": "code",
   "execution_count": 7,
   "metadata": {},
   "outputs": [
    {
     "name": "stdout",
     "output_type": "stream",
     "text": [
      "ckpt_dir: ckpt_41\n",
      "Files found in registry: 1LYZ_111456: PDB file downloaded from RSCB\n",
      " PDBFile ID: 1LYZ_111456\n"
     ]
    }
   ],
   "source": [
    "registry = agent_1.path_registry\n",
    "print(\"ckpt_dir:\",os.path.basename(registry.ckpt_dir))\n",
    "paths_and_descriptions = registry.list_path_names_and_descriptions()\n",
    "print(\"\\n\".join(paths_and_descriptions.split(\",\")))"
   ]
  },
  {
   "cell_type": "code",
   "execution_count": 8,
   "metadata": {},
   "outputs": [
    {
     "name": "stdout",
     "output_type": "stream",
     "text": [
      "It is asserted that file path for 1LYZ_111456 exists\n",
      "Number of residues in total:  230\n",
      "Number of chains:  2\n",
      "Number of sheets:  14\n",
      "Number of helices:  50\n",
      "Number of coils:  65\n"
     ]
    }
   ],
   "source": [
    "import mdtraj as md\n",
    "import os\n",
    "import re\n",
    "\n",
    "match = re.search(rf\"1LYZ_\\d+\", paths_and_descriptions)\n",
    "file_id = match.group(0)\n",
    "pdb_path = registry.get_mapped_path(file_id)\n",
    "assert os.path.exists(pdb_path)\n",
    "print(f'It is asserted that file path for {file_id} exists')\n",
    "\n",
    "traj = md.load(pdb_path)\n",
    "#get dssp \n",
    "number_of_chains = traj.n_chains\n",
    "total_res = traj.n_residues\n",
    "secondary_structure = md.compute_dssp(traj,simplified=True)\n",
    "print(\"Number of residues in total: \",total_res)\n",
    "print(\"Number of chains: \",number_of_chains)\n",
    "print(\"Number of sheets: \",len([i for i in secondary_structure[0] if i == 'E']))\n",
    "print(\"Number of helices: \",len([i for i in secondary_structure[0] if i == 'H']))\n",
    "print(\"Number of coils: \",len([i for i in secondary_structure[0] if i == 'C']))"
   ]
  },
  {
   "cell_type": "markdown",
   "metadata": {},
   "source": [
    "# non-descriptive prompt"
   ]
  },
  {
   "cell_type": "code",
   "execution_count": 9,
   "metadata": {},
   "outputs": [],
   "source": [
    "agent_2 = MDCrow(agent_type=\"Structured\", model=llm_model, top_k_tools=tools)"
   ]
  },
  {
   "cell_type": "code",
   "execution_count": 10,
   "metadata": {},
   "outputs": [
    {
     "name": "stdout",
     "output_type": "stream",
     "text": [
      "Thought: First, I need to download the PDB file 1LYZ. Then, I can use the SummarizeProteinStructure tool to get the number of residues in the chains and beta sheets.\n",
      "\n",
      "Action:\n",
      "```\n",
      "{\n",
      "  \"action\": \"PDBFileDownloader\",\n",
      "  \"action_input\": \"1LYZ\"\n",
      "}\n",
      "```\n",
      "PDB file found with this ID: 1LYZ\n",
      "Thought: Now that I have the PDB file, I can use the SummarizeProteinStructure tool to get the number of residues in the chains and beta sheets.\n",
      "\n",
      "Action:\n",
      "```\n",
      "{\n",
      "  \"action\": \"SummarizeProteinStructure\",\n",
      "  \"action_input\": {\n",
      "    \"traj_file\": \"1LYZ_111506\",\n",
      "    \"top_file\": \"1LYZ_111506\"\n",
      "  }\n",
      "}\n",
      "```Thought: I have the number of residues in the chains, which is 230. Now, I need to find the number of residues in the beta sheets. I can use the ComputeDSSP tool to get the secondary structure assignment for the protein.\n",
      "\n",
      "Action:\n",
      "```\n",
      "{\n",
      "  \"action\": \"ComputeDSSP\",\n",
      "  \"action_input\": {\n",
      "    \"traj_file\": \"1LYZ_111506\",\n",
      "    \"top_file\": \"1LYZ_111506\",\n",
      "    \"target_frames\": \"all\"\n",
      "  }\n",
      "}\n",
      "```Thought: I have the number of residues in the chains (230) and the number of residues in the beta sheets (14). Now, I can provide the final answer.\n",
      "\n",
      "Action:\n",
      "```\n",
      "{\n",
      "  \"action\": \"Final Answer\",\n",
      "  \"action_input\": \"The PDB file 1LYZ has 230 residues in its chains and 14 residues in its beta sheets.\"\n",
      "}\n",
      "```"
     ]
    },
    {
     "data": {
      "text/plain": [
       "({'input': '\\n    You are an expert molecular dynamics scientist, and\\n    your task is to respond to the question or\\n    solve the problem to the best of your ability using\\n    the provided tools.\\n\\n    You can only respond with a single complete\\n    \\'Thought, Action, Action Input\\' format\\n    OR a single \\'Final Answer\\' format.\\n\\n    Complete format:\\n    Thought: (reflect on your progress and decide what to do next)\\n    Action:\\n    ```\\n    {\\n        \"action\": (the action name, it should be the name of a tool),\\n        \"action_input\": (the input string for the action)\\n    }\\n    \\'\\'\\'\\n\\n    OR\\n\\n    Final Answer: (the final response to the original input\\n    question, once all steps are complete)\\n\\n    You are required to use the tools provided,\\n    using the most specific tool\\n    available for each action.\\n    Your final answer should contain all information\\n    necessary to answer the question and its subquestions.\\n    Before you finish, reflect on your progress and make\\n    sure you have addressed the question in its entirety.\\n\\n    If you are asked to continue\\n    or reference previous runs,\\n    the context will be provided to you.\\n    If context is provided, you should assume\\n    you are continuing a chat.\\n\\n    Here is the input:\\n    Previous Context: None\\n    Question: Download the PDB file 1LYZ. Tell me how many residues are in the chains and beta sheets. ',\n",
       "  'output': 'The PDB file 1LYZ has 230 residues in its chains and 14 residues in its beta sheets.'},\n",
       " 'U6B9M2RC')"
      ]
     },
     "execution_count": 10,
     "metadata": {},
     "output_type": "execute_result"
    }
   ],
   "source": [
    "agent_2.run(non_descriptive_prompt_2)"
   ]
  },
  {
   "cell_type": "code",
   "execution_count": 11,
   "metadata": {},
   "outputs": [
    {
     "name": "stdout",
     "output_type": "stream",
     "text": [
      "ckpt_dir: ckpt_42\n",
      "Files found in registry: 1LYZ_111506: PDB file downloaded from RSCB\n",
      " PDBFile ID: 1LYZ_111506\n",
      " rec0_111510: dssp values for trajectory with id: 1LYZ_111506\n"
     ]
    }
   ],
   "source": [
    "registry = agent_2.path_registry\n",
    "print(\"ckpt_dir:\",os.path.basename(registry.ckpt_dir))\n",
    "paths_and_descriptions = registry.list_path_names_and_descriptions()\n",
    "print(\"\\n\".join(paths_and_descriptions.split(\",\")))"
   ]
  },
  {
   "cell_type": "code",
   "execution_count": 12,
   "metadata": {},
   "outputs": [
    {
     "name": "stdout",
     "output_type": "stream",
     "text": [
      "It is asserted that file path for 1LYZ_111506 exists\n",
      "Number of residues in total:  230\n",
      "Number of chains:  2\n",
      "Number of sheets:  14\n",
      "Number of helices:  50\n",
      "Number of coils:  65\n"
     ]
    }
   ],
   "source": [
    "import mdtraj as md\n",
    "import os\n",
    "import re\n",
    "\n",
    "match = re.search(rf\"1LYZ_\\d+\", paths_and_descriptions)\n",
    "file_id = match.group(0)\n",
    "pdb_path = registry.get_mapped_path(file_id)\n",
    "assert os.path.exists(pdb_path)\n",
    "print(f'It is asserted that file path for {file_id} exists')\n",
    "\n",
    "traj = md.load(pdb_path)\n",
    "#get dssp \n",
    "number_of_chains = traj.n_chains\n",
    "total_res = traj.n_residues\n",
    "secondary_structure = md.compute_dssp(traj,simplified=True)\n",
    "print(\"Number of residues in total: \",total_res)\n",
    "print(\"Number of chains: \",number_of_chains)\n",
    "print(\"Number of sheets: \",len([i for i in secondary_structure[0] if i == 'E']))\n",
    "print(\"Number of helices: \",len([i for i in secondary_structure[0] if i == 'H']))\n",
    "print(\"Number of coils: \",len([i for i in secondary_structure[0] if i == 'C']))"
   ]
  }
 ],
 "metadata": {
  "kernelspec": {
   "display_name": "mdcrow",
   "language": "python",
   "name": "mdcrow"
  },
  "language_info": {
   "codemirror_mode": {
    "name": "ipython",
    "version": 3
   },
   "file_extension": ".py",
   "mimetype": "text/x-python",
   "name": "python",
   "nbconvert_exporter": "python",
   "pygments_lexer": "ipython3",
   "version": "3.12.4"
  }
 },
 "nbformat": 4,
 "nbformat_minor": 4
}
