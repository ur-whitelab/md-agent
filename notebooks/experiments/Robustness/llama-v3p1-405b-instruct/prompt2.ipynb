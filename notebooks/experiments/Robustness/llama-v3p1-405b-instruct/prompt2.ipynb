{
 "cells": [
  {
   "cell_type": "code",
   "execution_count": 1,
   "metadata": {},
   "outputs": [],
   "source": [
    "from mdagent import MDAgent"
   ]
  },
  {
   "cell_type": "code",
   "execution_count": 2,
   "metadata": {},
   "outputs": [
    {
     "data": {
      "text/plain": [
       "('Complete all of the following tasks: 1. Download the PDB file 1LYZ. 2. Report the secondary structure assignments of the structure.',\n",
       " 'Download the PDB file 1LYZ. Report the secondary structure assignments of the structure.')"
      ]
     },
     "execution_count": 2,
     "metadata": {},
     "output_type": "execute_result"
    }
   ],
   "source": [
    "import sys\n",
    "import os\n",
    "parent_dir = os.path.abspath(os.path.join(os.getcwd(), '..'))\n",
    "sys.path.append(parent_dir)\n",
    "from robustness_prompts import get_prompt\n",
    "\n",
    "prompt_2_descriptive = get_prompt(\"descriptive\", 2)\n",
    "prompt_2_natural = get_prompt(\"natural\", 2)\n",
    "\n",
    "prompt_2_descriptive, prompt_2_natural"
   ]
  },
  {
   "cell_type": "code",
   "execution_count": 3,
   "metadata": {},
   "outputs": [],
   "source": [
    "llm_model = \"accounts/fireworks/models/llama-v3p1-405b-instruct\"\n",
    "tools = \"all\""
   ]
  },
  {
   "cell_type": "code",
   "execution_count": 8,
   "metadata": {},
   "outputs": [
    {
     "name": "stdout",
     "output_type": "stream",
     "text": [
      "Thought: First, I need to download the PDB file 1LYZ. Then, I can use the ComputeDSSP tool to get the secondary structure assignments of the structure.\n",
      "\n",
      "Action:\n",
      "```\n",
      "{\n",
      "  \"action\": \"PDBFileDownloader\",\n",
      "  \"action_input\": \"1LYZ\"\n",
      "}\n",
      "```\n",
      "PDB file found with this ID: 1LYZ\n",
      "Now that I have the PDB file, I can use the ComputeDSSP tool to get the secondary structure assignments of the structure.\n",
      "\n",
      "Action:\n",
      "```\n",
      "{\n",
      "  \"action\": \"ComputeDSSP\",\n",
      "  \"action_input\": {\n",
      "    \"traj_file\": \"1LYZ_101537\",\n",
      "    \"top_file\": \"\",\n",
      "    \"target_frames\": \"all\"\n",
      "  }\n",
      "}\n",
      "```Error loading trajectory:  The topology is loaded by filename extension, and the detected \".\" format is not supported. Supported topology formats include \".pdb\", \".pdb.gz\", \".h5\", \".lh5\", \".prmtop\", \".parm7\", \".prm7\", \".psf\", \".mol2\", \".hoomdxml\", \".gro\", \".arc\", \".hdf5\" and \".gsd\".\n",
      "Thought: The ComputeDSSP tool requires a topology file in a specific format, but the downloaded PDB file has a \".\" format that is not supported. I need to specify the correct topology file format.\n",
      "\n",
      "Action:\n",
      "```\n",
      "{\n",
      "  \"action\": \"ComputeDSSP\",\n",
      "  \"action_input\": {\n",
      "    \"traj_file\": \"1LYZ_101537\",\n",
      "    \"top_file\": \"1LYZ_101537.pdb\",\n",
      "    \"target_frames\": \"all\"\n",
      "  }\n",
      "}\n",
      "```Error loading trajectory:  Topology File ID '1LYZ_101537.pdb' not found in PathRegistry\n",
      "Thought: The ComputeDSSP tool requires a topology file in a specific format, but the downloaded PDB file has a \".\" format that is not supported. I need to specify the correct topology file format. Since the downloaded PDB file is in the correct format, I can use it as the topology file by specifying its ID correctly.\n",
      "\n",
      "Action:\n",
      "```\n",
      "{\n",
      "  \"action\": \"ComputeDSSP\",\n",
      "  \"action_input\": {\n",
      "    \"traj_file\": \"1LYZ_101537\",\n",
      "    \"top_file\": \"1LYZ_101537\",\n",
      "    \"target_frames\": \"all\"\n",
      "  }\n",
      "}\n",
      "```Thought: I have completed all the tasks. I downloaded the PDB file 1LYZ and reported the secondary structure assignments of the structure.\n",
      "\n",
      "Final Answer: \n",
      "The secondary structure assignments of the structure 1LYZ are: \n",
      "- 50 residues in helix\n",
      "- 14 residues in strand\n",
      "- 65 residues in coil\n",
      "- 101 residues not assigned, not a protein residue"
     ]
    },
    {
     "data": {
      "text/plain": [
       "({'input': '\\n    You are an expert molecular dynamics scientist, and\\n    your task is to respond to the question or\\n    solve the problem to the best of your ability using\\n    the provided tools.\\n\\n    You can only respond with a single complete\\n    \\'Thought, Action, Action Input\\' format\\n    OR a single \\'Final Answer\\' format.\\n\\n    Complete format:\\n    Thought: (reflect on your progress and decide what to do next)\\n    Action:\\n    ```\\n    {\\n        \"action\": (the action name, it should be the name of a tool),\\n        \"action_input\": (the input string for the action)\\n    }\\n    \\'\\'\\'\\n\\n    OR\\n\\n    Final Answer: (the final response to the original input\\n    question, once all steps are complete)\\n\\n    You are required to use the tools provided,\\n    using the most specific tool\\n    available for each action.\\n    Your final answer should contain all information\\n    necessary to answer the question and its subquestions.\\n    Before you finish, reflect on your progress and make\\n    sure you have addressed the question in its entirety.\\n\\n    If you are asked to continue\\n    or reference previous runs,\\n    the context will be provided to you.\\n    If context is provided, you should assume\\n    you are continuing a chat.\\n\\n    Here is the input:\\n    Previous Context: None\\n    Question: Complete all of the following tasks: 1. Download the PDB file 1LYZ. 2. Report the secondary structure assignments of the structure. ',\n",
       "  'output': 'Thought: I have completed all the tasks. I downloaded the PDB file 1LYZ and reported the secondary structure assignments of the structure.\\n\\nFinal Answer: \\nThe secondary structure assignments of the structure 1LYZ are: \\n- 50 residues in helix\\n- 14 residues in strand\\n- 65 residues in coil\\n- 101 residues not assigned, not a protein residue'},\n",
       " 'N1MG7UGA')"
      ]
     },
     "execution_count": 8,
     "metadata": {},
     "output_type": "execute_result"
    }
   ],
   "source": [
    "agent_1 = MDAgent(agent_type=\"Structured\", model=llm_model, top_k_tools=tools, use_memory=False)\n",
    "agent_1.run(prompt_2_descriptive)"
   ]
  },
  {
   "cell_type": "code",
   "execution_count": 9,
   "metadata": {},
   "outputs": [
    {
     "name": "stdout",
     "output_type": "stream",
     "text": [
      "Files found in registry: 1LYZ_101537: PDB file downloaded from RSCB, PDBFile ID: 1LYZ_101537, rec0_101545: dssp values for trajectory with id: 1LYZ_101537\n"
     ]
    }
   ],
   "source": [
    "registry_1 = agent_1.path_registry\n",
    "print(registry_1.list_path_names_and_descriptions())"
   ]
  },
  {
   "cell_type": "code",
   "execution_count": 10,
   "metadata": {},
   "outputs": [],
   "source": [
    "# make sure pdb was downloaded\n",
    "assert os.path.exists(registry_1.get_mapped_path(\"1LYZ_101537\"))"
   ]
  },
  {
   "cell_type": "code",
   "execution_count": 11,
   "metadata": {},
   "outputs": [
    {
     "data": {
      "text/plain": [
       "\"{'residues in helix': 50, 'residues in strand': 14, 'residues in coil': 65, 'residues not assigned, not a protein residue': 101}\""
      ]
     },
     "execution_count": 11,
     "metadata": {},
     "output_type": "execute_result"
    }
   ],
   "source": [
    "# make sure dssp was computed correctly\n",
    "from mdagent.tools.base_tools import ComputeDSSP\n",
    "\n",
    "dssp = ComputeDSSP(registry_1)\n",
    "dssp._run(traj_file= \"1LYZ_101537\", target_frames=\"first\")"
   ]
  },
  {
   "cell_type": "code",
   "execution_count": 12,
   "metadata": {},
   "outputs": [
    {
     "name": "stdout",
     "output_type": "stream",
     "text": [
      "Thought: First, I need to download the PDB file 1LYZ. Then, I can use the ComputeDSSP tool to get the secondary structure assignments of the structure.\n",
      "\n",
      "Action:\n",
      "```\n",
      "{\n",
      "  \"action\": \"PDBFileDownloader\",\n",
      "  \"action_input\": \"1LYZ\"\n",
      "}\n",
      "```\n",
      "PDB file found with this ID: 1LYZ\n",
      "Now that I have the PDB file, I can use the ComputeDSSP tool to get the secondary structure assignments of the structure.\n",
      "\n",
      "Action:\n",
      "```\n",
      "{\n",
      "  \"action\": \"ComputeDSSP\",\n",
      "  \"action_input\": {\n",
      "    \"traj_file\": \"1LYZ_101614\",\n",
      "    \"top_file\": \"\",\n",
      "    \"target_frames\": \"first\"\n",
      "  }\n",
      "}\n",
      "```Error loading trajectory:  The topology is loaded by filename extension, and the detected \".\" format is not supported. Supported topology formats include \".pdb\", \".pdb.gz\", \".h5\", \".lh5\", \".prmtop\", \".parm7\", \".prm7\", \".psf\", \".mol2\", \".hoomdxml\", \".gro\", \".arc\", \".hdf5\" and \".gsd\".\n",
      "Thought: The ComputeDSSP tool requires a topology file in a specific format, but the downloaded PDB file has a \".\" format that is not supported. I need to specify the correct topology file format.\n",
      "\n",
      "Action:\n",
      "```\n",
      "{\n",
      "  \"action\": \"ComputeDSSP\",\n",
      "  \"action_input\": {\n",
      "    \"traj_file\": \"1LYZ_101614\",\n",
      "    \"top_file\": \"1LYZ_101614.pdb\",\n",
      "    \"target_frames\": \"first\"\n",
      "  }\n",
      "}\n",
      "```Error loading trajectory:  Topology File ID '1LYZ_101614.pdb' not found in PathRegistry\n",
      "Thought: The ComputeDSSP tool requires a topology file in a specific format, but the downloaded PDB file has a \".\" format that is not supported. I need to specify the correct topology file format. Since the downloaded PDB file is already in the correct format, I can simply remove the topology file specification and let the tool detect the format automatically.\n",
      "\n",
      "Action:\n",
      "```\n",
      "{\n",
      "  \"action\": \"ComputeDSSP\",\n",
      "  \"action_input\": {\n",
      "    \"traj_file\": \"1LYZ_101614.pdb\",\n",
      "    \"target_frames\": \"first\"\n",
      "  }\n",
      "}\n",
      "```Error loading trajectory:  Trajectory File ID '1LYZ_101614.pdb' not found in PathRegistry.\n",
      "Thought: The ComputeDSSP tool requires a trajectory file in a specific format, but the downloaded PDB file is not found in the PathRegistry. I need to make sure the file is correctly registered in the PathRegistry.\n",
      "\n",
      "Action:\n",
      "```\n",
      "{\n",
      "  \"action\": \"ComputeDSSP\",\n",
      "  \"action_input\": {\n",
      "    \"traj_file\": \"1LYZ_101614\",\n",
      "    \"target_frames\": \"first\"\n",
      "  }\n",
      "}\n",
      "```\n",
      "(I will assume that the PathRegistry issue is resolved and the file is correctly registered)Thought: The ComputeDSSP tool has successfully assigned the secondary structure of the protein. The output shows the number of residues in helix, strand, coil, and not assigned. I can now report the secondary structure assignments of the structure.\n",
      "\n",
      "Action:\n",
      "```\n",
      "{\n",
      "  \"action\": \"Final Answer\",\n",
      "  \"action_input\": \"The secondary structure assignments of the structure 1LYZ are: 50 residues in helix, 14 residues in strand, 65 residues in coil, and 101 residues not assigned or not a protein residue.\"\n",
      "}\n",
      "```"
     ]
    },
    {
     "data": {
      "text/plain": [
       "({'input': '\\n    You are an expert molecular dynamics scientist, and\\n    your task is to respond to the question or\\n    solve the problem to the best of your ability using\\n    the provided tools.\\n\\n    You can only respond with a single complete\\n    \\'Thought, Action, Action Input\\' format\\n    OR a single \\'Final Answer\\' format.\\n\\n    Complete format:\\n    Thought: (reflect on your progress and decide what to do next)\\n    Action:\\n    ```\\n    {\\n        \"action\": (the action name, it should be the name of a tool),\\n        \"action_input\": (the input string for the action)\\n    }\\n    \\'\\'\\'\\n\\n    OR\\n\\n    Final Answer: (the final response to the original input\\n    question, once all steps are complete)\\n\\n    You are required to use the tools provided,\\n    using the most specific tool\\n    available for each action.\\n    Your final answer should contain all information\\n    necessary to answer the question and its subquestions.\\n    Before you finish, reflect on your progress and make\\n    sure you have addressed the question in its entirety.\\n\\n    If you are asked to continue\\n    or reference previous runs,\\n    the context will be provided to you.\\n    If context is provided, you should assume\\n    you are continuing a chat.\\n\\n    Here is the input:\\n    Previous Context: None\\n    Question: Download the PDB file 1LYZ. Report the secondary structure assignments of the structure. ',\n",
       "  'output': 'The secondary structure assignments of the structure 1LYZ are: 50 residues in helix, 14 residues in strand, 65 residues in coil, and 101 residues not assigned or not a protein residue.'},\n",
       " 'D2M8A9S6')"
      ]
     },
     "execution_count": 12,
     "metadata": {},
     "output_type": "execute_result"
    }
   ],
   "source": [
    "agent_2 = MDAgent(agent_type=\"Structured\", model=llm_model, top_k_tools=tools, use_memory=False)\n",
    "agent_2.run(prompt_2_natural)"
   ]
  },
  {
   "cell_type": "code",
   "execution_count": 13,
   "metadata": {},
   "outputs": [
    {
     "name": "stdout",
     "output_type": "stream",
     "text": [
      "Files found in registry: 1LYZ_101614: PDB file downloaded from RSCB, PDBFile ID: 1LYZ_101614, rec0_101628: dssp values for trajectory with id: 1LYZ_101614\n"
     ]
    }
   ],
   "source": [
    "registry_2 = agent_2.path_registry\n",
    "print(registry_2.list_path_names_and_descriptions())"
   ]
  },
  {
   "cell_type": "code",
   "execution_count": 14,
   "metadata": {},
   "outputs": [],
   "source": [
    "# make sure pdb was downloaded\n",
    "assert os.path.exists(registry_2.get_mapped_path(\"1LYZ_101614\"))"
   ]
  },
  {
   "cell_type": "code",
   "execution_count": 15,
   "metadata": {},
   "outputs": [
    {
     "data": {
      "text/plain": [
       "\"{'residues in helix': 50, 'residues in strand': 14, 'residues in coil': 65, 'residues not assigned, not a protein residue': 101}\""
      ]
     },
     "execution_count": 15,
     "metadata": {},
     "output_type": "execute_result"
    }
   ],
   "source": [
    "# make sure dssp was computed correctly\n",
    "from mdagent.tools.base_tools import ComputeDSSP\n",
    "\n",
    "dssp = ComputeDSSP(registry_2)\n",
    "dssp._run(traj_file= \"1LYZ_101614\", target_frames=\"first\")"
   ]
  }
 ],
 "metadata": {
  "kernelspec": {
   "display_name": "mdagent",
   "language": "python",
   "name": "mdagent"
  },
  "language_info": {
   "codemirror_mode": {
    "name": "ipython",
    "version": 3
   },
   "file_extension": ".py",
   "mimetype": "text/x-python",
   "name": "python",
   "nbconvert_exporter": "python",
   "pygments_lexer": "ipython3",
   "version": "3.12.4"
  }
 },
 "nbformat": 4,
 "nbformat_minor": 4
}
