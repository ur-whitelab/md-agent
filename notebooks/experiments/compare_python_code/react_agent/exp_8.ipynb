{
 "cells": [
  {
   "cell_type": "code",
   "execution_count": 1,
   "id": "728398b3-6a40-4157-a0ef-1b8f7a96fd58",
   "metadata": {
    "execution": {
     "iopub.execute_input": "2024-10-18T03:44:45.891722Z",
     "iopub.status.busy": "2024-10-18T03:44:45.891431Z",
     "iopub.status.idle": "2024-10-18T03:45:25.273355Z",
     "shell.execute_reply": "2024-10-18T03:45:25.272630Z"
    },
    "papermill": {
     "duration": 39.386989,
     "end_time": "2024-10-18T03:45:25.275714",
     "exception": false,
     "start_time": "2024-10-18T03:44:45.888725",
     "status": "completed"
    },
    "tags": []
   },
   "outputs": [],
   "source": [
    "import datetime\n",
    "from langchain.agents import AgentExecutor\n",
    "from langchain.agents.structured_chat.base import StructuredChatAgent\n",
    "from langchain.prompts import PromptTemplate\n",
    "from langchain_core.tools import Tool\n",
    "from langchain_experimental.utilities import PythonREPL\n",
    "from mdcrow.utils import _make_llm"
   ]
  },
  {
   "cell_type": "code",
   "execution_count": 2,
   "id": "1a8988df-6cb9-4903-86a6-edfcaa6461d1",
   "metadata": {
    "editable": true,
    "execution": {
     "iopub.execute_input": "2024-10-18T03:45:25.277753Z",
     "iopub.status.busy": "2024-10-18T03:45:25.277211Z",
     "iopub.status.idle": "2024-10-18T03:45:25.282735Z",
     "shell.execute_reply": "2024-10-18T03:45:25.281992Z"
    },
    "papermill": {
     "duration": 0.008679,
     "end_time": "2024-10-18T03:45:25.284643",
     "exception": false,
     "start_time": "2024-10-18T03:45:25.275964",
     "status": "completed"
    },
    "slideshow": {
     "slide_type": ""
    },
    "tags": [
     "parameters"
    ]
   },
   "outputs": [],
   "source": [
    "prompt = \"Write me a code to run simulation of fibronectin.\"\n",
    "model = \"gpt-4o-2024-08-06\""
   ]
  },
  {
   "cell_type": "code",
   "execution_count": 3,
   "id": "d85bec2d",
   "metadata": {
    "execution": {
     "iopub.execute_input": "2024-10-18T03:45:25.286145Z",
     "iopub.status.busy": "2024-10-18T03:45:25.285882Z",
     "iopub.status.idle": "2024-10-18T03:45:25.632558Z",
     "shell.execute_reply": "2024-10-18T03:45:25.631680Z"
    },
    "papermill": {
     "duration": 0.349973,
     "end_time": "2024-10-18T03:45:25.634777",
     "exception": false,
     "start_time": "2024-10-18T03:45:25.284804",
     "status": "completed"
    },
    "tags": [
     "injected-parameters"
    ]
   },
   "outputs": [],
   "source": [
    "# Parameters\n",
    "prompt = \"Simulate 4RMB at 100K, 200K, and 300K. Then, for each simulation, plot the radius of gyration over time and compare the secondary structure before and after the simulation.\"\n"
   ]
  },
  {
   "cell_type": "code",
   "execution_count": 4,
   "id": "d1a8a7f8-b5d9-492f-9f23-70bd0177c7a1",
   "metadata": {
    "editable": true,
    "execution": {
     "iopub.execute_input": "2024-10-18T03:45:25.636499Z",
     "iopub.status.busy": "2024-10-18T03:45:25.636228Z",
     "iopub.status.idle": "2024-10-18T03:45:26.304345Z",
     "shell.execute_reply": "2024-10-18T03:45:26.303640Z"
    },
    "papermill": {
     "duration": 0.671668,
     "end_time": "2024-10-18T03:45:26.306609",
     "exception": false,
     "start_time": "2024-10-18T03:45:25.634941",
     "status": "completed"
    },
    "slideshow": {
     "slide_type": ""
    },
    "tags": []
   },
   "outputs": [],
   "source": [
    "llm = _make_llm(model, temp=0.1, streaming=True)\n",
    "\n",
    "python_repl = PythonREPL()\n",
    "repl_tool = Tool(\n",
    "    name=\"python_repl\",\n",
    "    description=\"A Python shell. Use this to execute python commands. Input should be a valid python command. If you want to see the output of a value, you should print it out with `print(...)`.\",\n",
    "    func=python_repl.run,\n",
    ")\n",
    "tools = [repl_tool]\n",
    "\n",
    "structured_prompt = PromptTemplate(\n",
    "    input_variables=[\"input\"],\n",
    "    template=\"\"\"\n",
    "    You are an expert molecular dynamics scientist, and your \n",
    "    task is to respond to the question or \n",
    "    solve the problem in its entirety to the best of your ability. \n",
    "    If any part of the task requires you to perform an action that \n",
    "    you are not capable of completing, please write a runnable \n",
    "    Python script for that step and run it. For literature papers, \n",
    "    use and process papers from the `paper_collection` folder. \n",
    "    For .pdb files, download them from the RSCB website using `requests`. \n",
    "    To preprocess PDB files, you will use PDBFixer. \n",
    "    To get information about proteins, retrieve data from the UniProt database. \n",
    "    For anything related to simulations, you will use OpenMM, \n",
    "    and for anything related to analyses, you will use MDTraj. \n",
    "\n",
    "    You can only respond with a single complete\n",
    "    'Thought, Action, Action Input' format\n",
    "    OR a single 'Final Answer' format.\n",
    "\n",
    "    Complete format:\n",
    "    Thought: (reflect on your progress and decide what to do next)\n",
    "    Action:\n",
    "    ```\n",
    "    {{\n",
    "        \"action\": (the action name, it should be the name of a tool),\n",
    "        \"action_input\": (the input string for the action)\n",
    "    }}\n",
    "    '''\n",
    "\n",
    "    OR\n",
    "\n",
    "    Final Answer: (the final response to the original input\n",
    "    question, once all steps are complete)\n",
    "\n",
    "    You are required to use the tools provided,\n",
    "    using the most specific tool\n",
    "    available for each action.\n",
    "    Your final answer should contain all information\n",
    "    necessary to answer the question and its subquestions.\n",
    "    Before you finish, reflect on your progress and make\n",
    "    sure you have addressed the question in its entirety.\n",
    "\n",
    "    Here is the input:\n",
    "    Question: {input} \"\"\",\n",
    ")\n",
    "\n",
    "agent = StructuredChatAgent.from_llm_and_tools(\n",
    "    llm=llm, tools=tools\n",
    ")\n",
    "agent_executor = AgentExecutor(agent=agent, tools=tools, verbose=True)\n"
   ]
  },
  {
   "cell_type": "code",
   "execution_count": 5,
   "id": "b6666c8e-ceba-483b-ac2a-4c1ca104870b",
   "metadata": {
    "execution": {
     "iopub.execute_input": "2024-10-18T03:45:26.308235Z",
     "iopub.status.busy": "2024-10-18T03:45:26.307972Z",
     "iopub.status.idle": "2024-10-18T03:45:26.315123Z",
     "shell.execute_reply": "2024-10-18T03:45:26.314437Z"
    },
    "papermill": {
     "duration": 0.010262,
     "end_time": "2024-10-18T03:45:26.317034",
     "exception": false,
     "start_time": "2024-10-18T03:45:26.306772",
     "status": "completed"
    },
    "tags": []
   },
   "outputs": [
    {
     "name": "stdout",
     "output_type": "stream",
     "text": [
      "date: 2024-10-17\n",
      "time: 23:45:26\n",
      "LLM:  gpt-4o-2024-08-06 \n",
      "Temperature:  0.1\n"
     ]
    }
   ],
   "source": [
    "now = datetime.datetime.now()\n",
    "date = now.strftime(\"%Y-%m-%d\")\n",
    "print(\"date:\",date)\n",
    "time = now.strftime(\"%H:%M:%S\")\n",
    "print(\"time:\",time)\n",
    "print(\"LLM: \",llm.model_name,\"\\nTemperature: \",llm.temperature)"
   ]
  },
  {
   "cell_type": "code",
   "execution_count": 6,
   "id": "43cd734b-be61-4d05-bedb-b798621db3ae",
   "metadata": {
    "execution": {
     "iopub.execute_input": "2024-10-18T03:45:26.318554Z",
     "iopub.status.busy": "2024-10-18T03:45:26.318285Z",
     "iopub.status.idle": "2024-10-18T04:14:03.173630Z",
     "shell.execute_reply": "2024-10-18T04:14:03.172812Z"
    },
    "papermill": {
     "duration": 1716.858641,
     "end_time": "2024-10-18T04:14:03.175832",
     "exception": false,
     "start_time": "2024-10-18T03:45:26.317191",
     "status": "completed"
    },
    "scrolled": true,
    "tags": []
   },
   "outputs": [
    {
     "name": "stdout",
     "output_type": "stream",
     "text": [
      "\n",
      "\n",
      "\u001b[1m> Entering new AgentExecutor chain...\u001b[0m\n"
     ]
    },
    {
     "name": "stdout",
     "output_type": "stream",
     "text": [
      "Thought"
     ]
    },
    {
     "name": "stdout",
     "output_type": "stream",
     "text": [
      ":"
     ]
    },
    {
     "name": "stdout",
     "output_type": "stream",
     "text": [
      " To"
     ]
    },
    {
     "name": "stdout",
     "output_type": "stream",
     "text": [
      " address"
     ]
    },
    {
     "name": "stdout",
     "output_type": "stream",
     "text": [
      " this"
     ]
    },
    {
     "name": "stdout",
     "output_type": "stream",
     "text": [
      " task"
     ]
    },
    {
     "name": "stdout",
     "output_type": "stream",
     "text": [
      ","
     ]
    },
    {
     "name": "stdout",
     "output_type": "stream",
     "text": [
      " I"
     ]
    },
    {
     "name": "stdout",
     "output_type": "stream",
     "text": [
      " need"
     ]
    },
    {
     "name": "stdout",
     "output_type": "stream",
     "text": [
      " to"
     ]
    },
    {
     "name": "stdout",
     "output_type": "stream",
     "text": [
      " perform"
     ]
    },
    {
     "name": "stdout",
     "output_type": "stream",
     "text": [
      " the"
     ]
    },
    {
     "name": "stdout",
     "output_type": "stream",
     "text": [
      " following"
     ]
    },
    {
     "name": "stdout",
     "output_type": "stream",
     "text": [
      " steps"
     ]
    },
    {
     "name": "stdout",
     "output_type": "stream",
     "text": [
      ":\n",
      "\n"
     ]
    },
    {
     "name": "stdout",
     "output_type": "stream",
     "text": [
      "1"
     ]
    },
    {
     "name": "stdout",
     "output_type": "stream",
     "text": [
      "."
     ]
    },
    {
     "name": "stdout",
     "output_type": "stream",
     "text": [
      " Download"
     ]
    },
    {
     "name": "stdout",
     "output_type": "stream",
     "text": [
      " the"
     ]
    },
    {
     "name": "stdout",
     "output_type": "stream",
     "text": [
      " "
     ]
    },
    {
     "name": "stdout",
     "output_type": "stream",
     "text": [
      "4"
     ]
    },
    {
     "name": "stdout",
     "output_type": "stream",
     "text": [
      "R"
     ]
    },
    {
     "name": "stdout",
     "output_type": "stream",
     "text": [
      "MB"
     ]
    },
    {
     "name": "stdout",
     "output_type": "stream",
     "text": [
      " P"
     ]
    },
    {
     "name": "stdout",
     "output_type": "stream",
     "text": [
      "DB"
     ]
    },
    {
     "name": "stdout",
     "output_type": "stream",
     "text": [
      " file"
     ]
    },
    {
     "name": "stdout",
     "output_type": "stream",
     "text": [
      " from"
     ]
    },
    {
     "name": "stdout",
     "output_type": "stream",
     "text": [
      " the"
     ]
    },
    {
     "name": "stdout",
     "output_type": "stream",
     "text": [
      " R"
     ]
    },
    {
     "name": "stdout",
     "output_type": "stream",
     "text": [
      "CS"
     ]
    },
    {
     "name": "stdout",
     "output_type": "stream",
     "text": [
      "B"
     ]
    },
    {
     "name": "stdout",
     "output_type": "stream",
     "text": [
      " website"
     ]
    },
    {
     "name": "stdout",
     "output_type": "stream",
     "text": [
      ".\n"
     ]
    },
    {
     "name": "stdout",
     "output_type": "stream",
     "text": [
      "2"
     ]
    },
    {
     "name": "stdout",
     "output_type": "stream",
     "text": [
      "."
     ]
    },
    {
     "name": "stdout",
     "output_type": "stream",
     "text": [
      " Pre"
     ]
    },
    {
     "name": "stdout",
     "output_type": "stream",
     "text": [
      "process"
     ]
    },
    {
     "name": "stdout",
     "output_type": "stream",
     "text": [
      " the"
     ]
    },
    {
     "name": "stdout",
     "output_type": "stream",
     "text": [
      " P"
     ]
    },
    {
     "name": "stdout",
     "output_type": "stream",
     "text": [
      "DB"
     ]
    },
    {
     "name": "stdout",
     "output_type": "stream",
     "text": [
      " file"
     ]
    },
    {
     "name": "stdout",
     "output_type": "stream",
     "text": [
      " using"
     ]
    },
    {
     "name": "stdout",
     "output_type": "stream",
     "text": [
      " P"
     ]
    },
    {
     "name": "stdout",
     "output_type": "stream",
     "text": [
      "DB"
     ]
    },
    {
     "name": "stdout",
     "output_type": "stream",
     "text": [
      "Fix"
     ]
    },
    {
     "name": "stdout",
     "output_type": "stream",
     "text": [
      "er"
     ]
    },
    {
     "name": "stdout",
     "output_type": "stream",
     "text": [
      ".\n"
     ]
    },
    {
     "name": "stdout",
     "output_type": "stream",
     "text": [
      "3"
     ]
    },
    {
     "name": "stdout",
     "output_type": "stream",
     "text": [
      "."
     ]
    },
    {
     "name": "stdout",
     "output_type": "stream",
     "text": [
      " Set"
     ]
    },
    {
     "name": "stdout",
     "output_type": "stream",
     "text": [
      " up"
     ]
    },
    {
     "name": "stdout",
     "output_type": "stream",
     "text": [
      " and"
     ]
    },
    {
     "name": "stdout",
     "output_type": "stream",
     "text": [
      " run"
     ]
    },
    {
     "name": "stdout",
     "output_type": "stream",
     "text": [
      " molecular"
     ]
    },
    {
     "name": "stdout",
     "output_type": "stream",
     "text": [
      " dynamics"
     ]
    },
    {
     "name": "stdout",
     "output_type": "stream",
     "text": [
      " simulations"
     ]
    },
    {
     "name": "stdout",
     "output_type": "stream",
     "text": [
      " at"
     ]
    },
    {
     "name": "stdout",
     "output_type": "stream",
     "text": [
      " "
     ]
    },
    {
     "name": "stdout",
     "output_type": "stream",
     "text": [
      "100"
     ]
    },
    {
     "name": "stdout",
     "output_type": "stream",
     "text": [
      "K"
     ]
    },
    {
     "name": "stdout",
     "output_type": "stream",
     "text": [
      ","
     ]
    },
    {
     "name": "stdout",
     "output_type": "stream",
     "text": [
      " "
     ]
    },
    {
     "name": "stdout",
     "output_type": "stream",
     "text": [
      "200"
     ]
    },
    {
     "name": "stdout",
     "output_type": "stream",
     "text": [
      "K"
     ]
    },
    {
     "name": "stdout",
     "output_type": "stream",
     "text": [
      ","
     ]
    },
    {
     "name": "stdout",
     "output_type": "stream",
     "text": [
      " and"
     ]
    },
    {
     "name": "stdout",
     "output_type": "stream",
     "text": [
      " "
     ]
    },
    {
     "name": "stdout",
     "output_type": "stream",
     "text": [
      "300"
     ]
    },
    {
     "name": "stdout",
     "output_type": "stream",
     "text": [
      "K"
     ]
    },
    {
     "name": "stdout",
     "output_type": "stream",
     "text": [
      " using"
     ]
    },
    {
     "name": "stdout",
     "output_type": "stream",
     "text": [
      " Open"
     ]
    },
    {
     "name": "stdout",
     "output_type": "stream",
     "text": [
      "MM"
     ]
    },
    {
     "name": "stdout",
     "output_type": "stream",
     "text": [
      ".\n"
     ]
    },
    {
     "name": "stdout",
     "output_type": "stream",
     "text": [
      "4"
     ]
    },
    {
     "name": "stdout",
     "output_type": "stream",
     "text": [
      "."
     ]
    },
    {
     "name": "stdout",
     "output_type": "stream",
     "text": [
      " Analyze"
     ]
    },
    {
     "name": "stdout",
     "output_type": "stream",
     "text": [
      " the"
     ]
    },
    {
     "name": "stdout",
     "output_type": "stream",
     "text": [
      " trajectory"
     ]
    },
    {
     "name": "stdout",
     "output_type": "stream",
     "text": [
      " to"
     ]
    },
    {
     "name": "stdout",
     "output_type": "stream",
     "text": [
      " calculate"
     ]
    },
    {
     "name": "stdout",
     "output_type": "stream",
     "text": [
      " the"
     ]
    },
    {
     "name": "stdout",
     "output_type": "stream",
     "text": [
      " radius"
     ]
    },
    {
     "name": "stdout",
     "output_type": "stream",
     "text": [
      " of"
     ]
    },
    {
     "name": "stdout",
     "output_type": "stream",
     "text": [
      " gyr"
     ]
    },
    {
     "name": "stdout",
     "output_type": "stream",
     "text": [
      "ation"
     ]
    },
    {
     "name": "stdout",
     "output_type": "stream",
     "text": [
      " over"
     ]
    },
    {
     "name": "stdout",
     "output_type": "stream",
     "text": [
      " time"
     ]
    },
    {
     "name": "stdout",
     "output_type": "stream",
     "text": [
      " using"
     ]
    },
    {
     "name": "stdout",
     "output_type": "stream",
     "text": [
      " MDT"
     ]
    },
    {
     "name": "stdout",
     "output_type": "stream",
     "text": [
      "raj"
     ]
    },
    {
     "name": "stdout",
     "output_type": "stream",
     "text": [
      ".\n"
     ]
    },
    {
     "name": "stdout",
     "output_type": "stream",
     "text": [
      "5"
     ]
    },
    {
     "name": "stdout",
     "output_type": "stream",
     "text": [
      "."
     ]
    },
    {
     "name": "stdout",
     "output_type": "stream",
     "text": [
      " Compare"
     ]
    },
    {
     "name": "stdout",
     "output_type": "stream",
     "text": [
      " the"
     ]
    },
    {
     "name": "stdout",
     "output_type": "stream",
     "text": [
      " secondary"
     ]
    },
    {
     "name": "stdout",
     "output_type": "stream",
     "text": [
      " structure"
     ]
    },
    {
     "name": "stdout",
     "output_type": "stream",
     "text": [
      " before"
     ]
    },
    {
     "name": "stdout",
     "output_type": "stream",
     "text": [
      " and"
     ]
    },
    {
     "name": "stdout",
     "output_type": "stream",
     "text": [
      " after"
     ]
    },
    {
     "name": "stdout",
     "output_type": "stream",
     "text": [
      " the"
     ]
    },
    {
     "name": "stdout",
     "output_type": "stream",
     "text": [
      " simulation"
     ]
    },
    {
     "name": "stdout",
     "output_type": "stream",
     "text": [
      " using"
     ]
    },
    {
     "name": "stdout",
     "output_type": "stream",
     "text": [
      " MDT"
     ]
    },
    {
     "name": "stdout",
     "output_type": "stream",
     "text": [
      "raj"
     ]
    },
    {
     "name": "stdout",
     "output_type": "stream",
     "text": [
      ".\n"
     ]
    },
    {
     "name": "stdout",
     "output_type": "stream",
     "text": [
      "6"
     ]
    },
    {
     "name": "stdout",
     "output_type": "stream",
     "text": [
      "."
     ]
    },
    {
     "name": "stdout",
     "output_type": "stream",
     "text": [
      " Plot"
     ]
    },
    {
     "name": "stdout",
     "output_type": "stream",
     "text": [
      " the"
     ]
    },
    {
     "name": "stdout",
     "output_type": "stream",
     "text": [
      " radius"
     ]
    },
    {
     "name": "stdout",
     "output_type": "stream",
     "text": [
      " of"
     ]
    },
    {
     "name": "stdout",
     "output_type": "stream",
     "text": [
      " gyr"
     ]
    },
    {
     "name": "stdout",
     "output_type": "stream",
     "text": [
      "ation"
     ]
    },
    {
     "name": "stdout",
     "output_type": "stream",
     "text": [
      " for"
     ]
    },
    {
     "name": "stdout",
     "output_type": "stream",
     "text": [
      " each"
     ]
    },
    {
     "name": "stdout",
     "output_type": "stream",
     "text": [
      " temperature"
     ]
    },
    {
     "name": "stdout",
     "output_type": "stream",
     "text": [
      " and"
     ]
    },
    {
     "name": "stdout",
     "output_type": "stream",
     "text": [
      " compare"
     ]
    },
    {
     "name": "stdout",
     "output_type": "stream",
     "text": [
      " the"
     ]
    },
    {
     "name": "stdout",
     "output_type": "stream",
     "text": [
      " secondary"
     ]
    },
    {
     "name": "stdout",
     "output_type": "stream",
     "text": [
      " structures"
     ]
    },
    {
     "name": "stdout",
     "output_type": "stream",
     "text": [
      ".\n",
      "\n"
     ]
    },
    {
     "name": "stdout",
     "output_type": "stream",
     "text": [
      "I"
     ]
    },
    {
     "name": "stdout",
     "output_type": "stream",
     "text": [
      " will"
     ]
    },
    {
     "name": "stdout",
     "output_type": "stream",
     "text": [
      " start"
     ]
    },
    {
     "name": "stdout",
     "output_type": "stream",
     "text": [
      " by"
     ]
    },
    {
     "name": "stdout",
     "output_type": "stream",
     "text": [
      " downloading"
     ]
    },
    {
     "name": "stdout",
     "output_type": "stream",
     "text": [
      " the"
     ]
    },
    {
     "name": "stdout",
     "output_type": "stream",
     "text": [
      " "
     ]
    },
    {
     "name": "stdout",
     "output_type": "stream",
     "text": [
      "4"
     ]
    },
    {
     "name": "stdout",
     "output_type": "stream",
     "text": [
      "R"
     ]
    },
    {
     "name": "stdout",
     "output_type": "stream",
     "text": [
      "MB"
     ]
    },
    {
     "name": "stdout",
     "output_type": "stream",
     "text": [
      " P"
     ]
    },
    {
     "name": "stdout",
     "output_type": "stream",
     "text": [
      "DB"
     ]
    },
    {
     "name": "stdout",
     "output_type": "stream",
     "text": [
      " file"
     ]
    },
    {
     "name": "stdout",
     "output_type": "stream",
     "text": [
      ".\n",
      "\n"
     ]
    },
    {
     "name": "stdout",
     "output_type": "stream",
     "text": [
      "Action"
     ]
    },
    {
     "name": "stdout",
     "output_type": "stream",
     "text": [
      ":\n"
     ]
    },
    {
     "name": "stdout",
     "output_type": "stream",
     "text": [
      "``"
     ]
    },
    {
     "name": "stdout",
     "output_type": "stream",
     "text": [
      "`\n"
     ]
    },
    {
     "name": "stdout",
     "output_type": "stream",
     "text": [
      "{\n"
     ]
    },
    {
     "name": "stdout",
     "output_type": "stream",
     "text": [
      " "
     ]
    },
    {
     "name": "stdout",
     "output_type": "stream",
     "text": [
      " \""
     ]
    },
    {
     "name": "stdout",
     "output_type": "stream",
     "text": [
      "action"
     ]
    },
    {
     "name": "stdout",
     "output_type": "stream",
     "text": [
      "\":"
     ]
    },
    {
     "name": "stdout",
     "output_type": "stream",
     "text": [
      " \""
     ]
    },
    {
     "name": "stdout",
     "output_type": "stream",
     "text": [
      "python"
     ]
    },
    {
     "name": "stdout",
     "output_type": "stream",
     "text": [
      "_re"
     ]
    },
    {
     "name": "stdout",
     "output_type": "stream",
     "text": [
      "pl"
     ]
    },
    {
     "name": "stdout",
     "output_type": "stream",
     "text": [
      "\",\n"
     ]
    },
    {
     "name": "stdout",
     "output_type": "stream",
     "text": [
      " "
     ]
    },
    {
     "name": "stdout",
     "output_type": "stream",
     "text": [
      " \""
     ]
    },
    {
     "name": "stdout",
     "output_type": "stream",
     "text": [
      "action"
     ]
    },
    {
     "name": "stdout",
     "output_type": "stream",
     "text": [
      "_input"
     ]
    },
    {
     "name": "stdout",
     "output_type": "stream",
     "text": [
      "\":"
     ]
    },
    {
     "name": "stdout",
     "output_type": "stream",
     "text": [
      " \""
     ]
    },
    {
     "name": "stdout",
     "output_type": "stream",
     "text": [
      "import"
     ]
    },
    {
     "name": "stdout",
     "output_type": "stream",
     "text": [
      " requests"
     ]
    },
    {
     "name": "stdout",
     "output_type": "stream",
     "text": [
      "\\n"
     ]
    },
    {
     "name": "stdout",
     "output_type": "stream",
     "text": [
      "\\n"
     ]
    },
    {
     "name": "stdout",
     "output_type": "stream",
     "text": [
      "#"
     ]
    },
    {
     "name": "stdout",
     "output_type": "stream",
     "text": [
      " Download"
     ]
    },
    {
     "name": "stdout",
     "output_type": "stream",
     "text": [
      " the"
     ]
    },
    {
     "name": "stdout",
     "output_type": "stream",
     "text": [
      " "
     ]
    },
    {
     "name": "stdout",
     "output_type": "stream",
     "text": [
      "4"
     ]
    },
    {
     "name": "stdout",
     "output_type": "stream",
     "text": [
      "R"
     ]
    },
    {
     "name": "stdout",
     "output_type": "stream",
     "text": [
      "MB"
     ]
    },
    {
     "name": "stdout",
     "output_type": "stream",
     "text": [
      " P"
     ]
    },
    {
     "name": "stdout",
     "output_type": "stream",
     "text": [
      "DB"
     ]
    },
    {
     "name": "stdout",
     "output_type": "stream",
     "text": [
      " file"
     ]
    },
    {
     "name": "stdout",
     "output_type": "stream",
     "text": [
      " from"
     ]
    },
    {
     "name": "stdout",
     "output_type": "stream",
     "text": [
      " the"
     ]
    },
    {
     "name": "stdout",
     "output_type": "stream",
     "text": [
      " R"
     ]
    },
    {
     "name": "stdout",
     "output_type": "stream",
     "text": [
      "CS"
     ]
    },
    {
     "name": "stdout",
     "output_type": "stream",
     "text": [
      "B"
     ]
    },
    {
     "name": "stdout",
     "output_type": "stream",
     "text": [
      " website"
     ]
    },
    {
     "name": "stdout",
     "output_type": "stream",
     "text": [
      "\\n"
     ]
    },
    {
     "name": "stdout",
     "output_type": "stream",
     "text": [
      "url"
     ]
    },
    {
     "name": "stdout",
     "output_type": "stream",
     "text": [
      " ="
     ]
    },
    {
     "name": "stdout",
     "output_type": "stream",
     "text": [
      " '"
     ]
    },
    {
     "name": "stdout",
     "output_type": "stream",
     "text": [
      "https"
     ]
    },
    {
     "name": "stdout",
     "output_type": "stream",
     "text": [
      "://"
     ]
    },
    {
     "name": "stdout",
     "output_type": "stream",
     "text": [
      "files"
     ]
    },
    {
     "name": "stdout",
     "output_type": "stream",
     "text": [
      ".rc"
     ]
    },
    {
     "name": "stdout",
     "output_type": "stream",
     "text": [
      "sb"
     ]
    },
    {
     "name": "stdout",
     "output_type": "stream",
     "text": [
      ".org"
     ]
    },
    {
     "name": "stdout",
     "output_type": "stream",
     "text": [
      "/download"
     ]
    },
    {
     "name": "stdout",
     "output_type": "stream",
     "text": [
      "/"
     ]
    },
    {
     "name": "stdout",
     "output_type": "stream",
     "text": [
      "4"
     ]
    },
    {
     "name": "stdout",
     "output_type": "stream",
     "text": [
      "R"
     ]
    },
    {
     "name": "stdout",
     "output_type": "stream",
     "text": [
      "MB"
     ]
    },
    {
     "name": "stdout",
     "output_type": "stream",
     "text": [
      ".p"
     ]
    },
    {
     "name": "stdout",
     "output_type": "stream",
     "text": [
      "db"
     ]
    },
    {
     "name": "stdout",
     "output_type": "stream",
     "text": [
      "'\\"
     ]
    },
    {
     "name": "stdout",
     "output_type": "stream",
     "text": [
      "n"
     ]
    },
    {
     "name": "stdout",
     "output_type": "stream",
     "text": [
      "response"
     ]
    },
    {
     "name": "stdout",
     "output_type": "stream",
     "text": [
      " ="
     ]
    },
    {
     "name": "stdout",
     "output_type": "stream",
     "text": [
      " requests"
     ]
    },
    {
     "name": "stdout",
     "output_type": "stream",
     "text": [
      ".get"
     ]
    },
    {
     "name": "stdout",
     "output_type": "stream",
     "text": [
      "(url"
     ]
    },
    {
     "name": "stdout",
     "output_type": "stream",
     "text": [
      ")\\"
     ]
    },
    {
     "name": "stdout",
     "output_type": "stream",
     "text": [
      "n"
     ]
    },
    {
     "name": "stdout",
     "output_type": "stream",
     "text": [
      "\\n"
     ]
    },
    {
     "name": "stdout",
     "output_type": "stream",
     "text": [
      "#"
     ]
    },
    {
     "name": "stdout",
     "output_type": "stream",
     "text": [
      " Save"
     ]
    },
    {
     "name": "stdout",
     "output_type": "stream",
     "text": [
      " the"
     ]
    },
    {
     "name": "stdout",
     "output_type": "stream",
     "text": [
      " P"
     ]
    },
    {
     "name": "stdout",
     "output_type": "stream",
     "text": [
      "DB"
     ]
    },
    {
     "name": "stdout",
     "output_type": "stream",
     "text": [
      " file"
     ]
    },
    {
     "name": "stdout",
     "output_type": "stream",
     "text": [
      "\\n"
     ]
    },
    {
     "name": "stdout",
     "output_type": "stream",
     "text": [
      "with"
     ]
    },
    {
     "name": "stdout",
     "output_type": "stream",
     "text": [
      " open"
     ]
    },
    {
     "name": "stdout",
     "output_type": "stream",
     "text": [
      "('"
     ]
    },
    {
     "name": "stdout",
     "output_type": "stream",
     "text": [
      "4"
     ]
    },
    {
     "name": "stdout",
     "output_type": "stream",
     "text": [
      "R"
     ]
    },
    {
     "name": "stdout",
     "output_type": "stream",
     "text": [
      "MB"
     ]
    },
    {
     "name": "stdout",
     "output_type": "stream",
     "text": [
      ".p"
     ]
    },
    {
     "name": "stdout",
     "output_type": "stream",
     "text": [
      "db"
     ]
    },
    {
     "name": "stdout",
     "output_type": "stream",
     "text": [
      "',"
     ]
    },
    {
     "name": "stdout",
     "output_type": "stream",
     "text": [
      " '"
     ]
    },
    {
     "name": "stdout",
     "output_type": "stream",
     "text": [
      "wb"
     ]
    },
    {
     "name": "stdout",
     "output_type": "stream",
     "text": [
      "')"
     ]
    },
    {
     "name": "stdout",
     "output_type": "stream",
     "text": [
      " as"
     ]
    },
    {
     "name": "stdout",
     "output_type": "stream",
     "text": [
      " file"
     ]
    },
    {
     "name": "stdout",
     "output_type": "stream",
     "text": [
      ":\\"
     ]
    },
    {
     "name": "stdout",
     "output_type": "stream",
     "text": [
      "n"
     ]
    },
    {
     "name": "stdout",
     "output_type": "stream",
     "text": [
      "   "
     ]
    },
    {
     "name": "stdout",
     "output_type": "stream",
     "text": [
      " file"
     ]
    },
    {
     "name": "stdout",
     "output_type": "stream",
     "text": [
      ".write"
     ]
    },
    {
     "name": "stdout",
     "output_type": "stream",
     "text": [
      "(response"
     ]
    },
    {
     "name": "stdout",
     "output_type": "stream",
     "text": [
      ".content"
     ]
    },
    {
     "name": "stdout",
     "output_type": "stream",
     "text": [
      ")\\"
     ]
    },
    {
     "name": "stdout",
     "output_type": "stream",
     "text": [
      "n"
     ]
    },
    {
     "name": "stdout",
     "output_type": "stream",
     "text": [
      "\\n"
     ]
    },
    {
     "name": "stdout",
     "output_type": "stream",
     "text": [
      "'"
     ]
    },
    {
     "name": "stdout",
     "output_type": "stream",
     "text": [
      "4"
     ]
    },
    {
     "name": "stdout",
     "output_type": "stream",
     "text": [
      "R"
     ]
    },
    {
     "name": "stdout",
     "output_type": "stream",
     "text": [
      "MB"
     ]
    },
    {
     "name": "stdout",
     "output_type": "stream",
     "text": [
      ".p"
     ]
    },
    {
     "name": "stdout",
     "output_type": "stream",
     "text": [
      "db"
     ]
    },
    {
     "name": "stdout",
     "output_type": "stream",
     "text": [
      " downloaded"
     ]
    },
    {
     "name": "stdout",
     "output_type": "stream",
     "text": [
      " successfully"
     ]
    },
    {
     "name": "stdout",
     "output_type": "stream",
     "text": [
      "'\"\n"
     ]
    },
    {
     "name": "stdout",
     "output_type": "stream",
     "text": [
      "}\n"
     ]
    },
    {
     "name": "stdout",
     "output_type": "stream",
     "text": [
      "```"
     ]
    },
    {
     "name": "stderr",
     "output_type": "stream",
     "text": [
      "Python REPL can execute arbitrary code. Use with caution.\n"
     ]
    },
    {
     "name": "stdout",
     "output_type": "stream",
     "text": [
      "\u001b[32;1m\u001b[1;3mThought: To address this task, I need to perform the following steps:\n",
      "\n",
      "1. Download the 4RMB PDB file from the RCSB website.\n",
      "2. Preprocess the PDB file using PDBFixer.\n",
      "3. Set up and run molecular dynamics simulations at 100K, 200K, and 300K using OpenMM.\n",
      "4. Analyze the trajectory to calculate the radius of gyration over time using MDTraj.\n",
      "5. Compare the secondary structure before and after the simulation using MDTraj.\n",
      "6. Plot the radius of gyration for each temperature and compare the secondary structures.\n",
      "\n",
      "I will start by downloading the 4RMB PDB file.\n",
      "\n",
      "Action:\n",
      "```\n",
      "{\n",
      "  \"action\": \"python_repl\",\n",
      "  \"action_input\": \"import requests\\n\\n# Download the 4RMB PDB file from the RCSB website\\nurl = 'https://files.rcsb.org/download/4RMB.pdb'\\nresponse = requests.get(url)\\n\\n# Save the PDB file\\nwith open('4RMB.pdb', 'wb') as file:\\n    file.write(response.content)\\n\\n'4RMB.pdb downloaded successfully'\"\n",
      "}\n",
      "```\u001b[0m"
     ]
    },
    {
     "name": "stdout",
     "output_type": "stream",
     "text": [
      "\n",
      "Observation: \u001b[36;1m\u001b[1;3m\u001b[0m\n",
      "Thought:"
     ]
    },
    {
     "name": "stdout",
     "output_type": "stream",
     "text": [
      "To"
     ]
    },
    {
     "name": "stdout",
     "output_type": "stream",
     "text": [
      " proceed"
     ]
    },
    {
     "name": "stdout",
     "output_type": "stream",
     "text": [
      ","
     ]
    },
    {
     "name": "stdout",
     "output_type": "stream",
     "text": [
      " I"
     ]
    },
    {
     "name": "stdout",
     "output_type": "stream",
     "text": [
      " need"
     ]
    },
    {
     "name": "stdout",
     "output_type": "stream",
     "text": [
      " to"
     ]
    },
    {
     "name": "stdout",
     "output_type": "stream",
     "text": [
      " preprocess"
     ]
    },
    {
     "name": "stdout",
     "output_type": "stream",
     "text": [
      " the"
     ]
    },
    {
     "name": "stdout",
     "output_type": "stream",
     "text": [
      " downloaded"
     ]
    },
    {
     "name": "stdout",
     "output_type": "stream",
     "text": [
      " "
     ]
    },
    {
     "name": "stdout",
     "output_type": "stream",
     "text": [
      "4"
     ]
    },
    {
     "name": "stdout",
     "output_type": "stream",
     "text": [
      "R"
     ]
    },
    {
     "name": "stdout",
     "output_type": "stream",
     "text": [
      "MB"
     ]
    },
    {
     "name": "stdout",
     "output_type": "stream",
     "text": [
      " P"
     ]
    },
    {
     "name": "stdout",
     "output_type": "stream",
     "text": [
      "DB"
     ]
    },
    {
     "name": "stdout",
     "output_type": "stream",
     "text": [
      " file"
     ]
    },
    {
     "name": "stdout",
     "output_type": "stream",
     "text": [
      " using"
     ]
    },
    {
     "name": "stdout",
     "output_type": "stream",
     "text": [
      " P"
     ]
    },
    {
     "name": "stdout",
     "output_type": "stream",
     "text": [
      "DB"
     ]
    },
    {
     "name": "stdout",
     "output_type": "stream",
     "text": [
      "Fix"
     ]
    },
    {
     "name": "stdout",
     "output_type": "stream",
     "text": [
      "er"
     ]
    },
    {
     "name": "stdout",
     "output_type": "stream",
     "text": [
      " to"
     ]
    },
    {
     "name": "stdout",
     "output_type": "stream",
     "text": [
      " ensure"
     ]
    },
    {
     "name": "stdout",
     "output_type": "stream",
     "text": [
      " it"
     ]
    },
    {
     "name": "stdout",
     "output_type": "stream",
     "text": [
      " is"
     ]
    },
    {
     "name": "stdout",
     "output_type": "stream",
     "text": [
      " ready"
     ]
    },
    {
     "name": "stdout",
     "output_type": "stream",
     "text": [
      " for"
     ]
    },
    {
     "name": "stdout",
     "output_type": "stream",
     "text": [
      " simulation"
     ]
    },
    {
     "name": "stdout",
     "output_type": "stream",
     "text": [
      "."
     ]
    },
    {
     "name": "stdout",
     "output_type": "stream",
     "text": [
      " This"
     ]
    },
    {
     "name": "stdout",
     "output_type": "stream",
     "text": [
      " involves"
     ]
    },
    {
     "name": "stdout",
     "output_type": "stream",
     "text": [
      " fixing"
     ]
    },
    {
     "name": "stdout",
     "output_type": "stream",
     "text": [
      " any"
     ]
    },
    {
     "name": "stdout",
     "output_type": "stream",
     "text": [
      " missing"
     ]
    },
    {
     "name": "stdout",
     "output_type": "stream",
     "text": [
      " atoms"
     ]
    },
    {
     "name": "stdout",
     "output_type": "stream",
     "text": [
      ","
     ]
    },
    {
     "name": "stdout",
     "output_type": "stream",
     "text": [
      " residues"
     ]
    },
    {
     "name": "stdout",
     "output_type": "stream",
     "text": [
      ","
     ]
    },
    {
     "name": "stdout",
     "output_type": "stream",
     "text": [
      " or"
     ]
    },
    {
     "name": "stdout",
     "output_type": "stream",
     "text": [
      " other"
     ]
    },
    {
     "name": "stdout",
     "output_type": "stream",
     "text": [
      " structural"
     ]
    },
    {
     "name": "stdout",
     "output_type": "stream",
     "text": [
      " issues"
     ]
    },
    {
     "name": "stdout",
     "output_type": "stream",
     "text": [
      ".\n",
      "\n"
     ]
    },
    {
     "name": "stdout",
     "output_type": "stream",
     "text": [
      "Action"
     ]
    },
    {
     "name": "stdout",
     "output_type": "stream",
     "text": [
      ":\n"
     ]
    },
    {
     "name": "stdout",
     "output_type": "stream",
     "text": [
      "``"
     ]
    },
    {
     "name": "stdout",
     "output_type": "stream",
     "text": [
      "`\n"
     ]
    },
    {
     "name": "stdout",
     "output_type": "stream",
     "text": [
      "{\n"
     ]
    },
    {
     "name": "stdout",
     "output_type": "stream",
     "text": [
      " "
     ]
    },
    {
     "name": "stdout",
     "output_type": "stream",
     "text": [
      " \""
     ]
    },
    {
     "name": "stdout",
     "output_type": "stream",
     "text": [
      "action"
     ]
    },
    {
     "name": "stdout",
     "output_type": "stream",
     "text": [
      "\":"
     ]
    },
    {
     "name": "stdout",
     "output_type": "stream",
     "text": [
      " \""
     ]
    },
    {
     "name": "stdout",
     "output_type": "stream",
     "text": [
      "python"
     ]
    },
    {
     "name": "stdout",
     "output_type": "stream",
     "text": [
      "_re"
     ]
    },
    {
     "name": "stdout",
     "output_type": "stream",
     "text": [
      "pl"
     ]
    },
    {
     "name": "stdout",
     "output_type": "stream",
     "text": [
      "\",\n"
     ]
    },
    {
     "name": "stdout",
     "output_type": "stream",
     "text": [
      " "
     ]
    },
    {
     "name": "stdout",
     "output_type": "stream",
     "text": [
      " \""
     ]
    },
    {
     "name": "stdout",
     "output_type": "stream",
     "text": [
      "action"
     ]
    },
    {
     "name": "stdout",
     "output_type": "stream",
     "text": [
      "_input"
     ]
    },
    {
     "name": "stdout",
     "output_type": "stream",
     "text": [
      "\":"
     ]
    },
    {
     "name": "stdout",
     "output_type": "stream",
     "text": [
      " \""
     ]
    },
    {
     "name": "stdout",
     "output_type": "stream",
     "text": [
      "from"
     ]
    },
    {
     "name": "stdout",
     "output_type": "stream",
     "text": [
      " pdb"
     ]
    },
    {
     "name": "stdout",
     "output_type": "stream",
     "text": [
      "fix"
     ]
    },
    {
     "name": "stdout",
     "output_type": "stream",
     "text": [
      "er"
     ]
    },
    {
     "name": "stdout",
     "output_type": "stream",
     "text": [
      " import"
     ]
    },
    {
     "name": "stdout",
     "output_type": "stream",
     "text": [
      " P"
     ]
    },
    {
     "name": "stdout",
     "output_type": "stream",
     "text": [
      "DB"
     ]
    },
    {
     "name": "stdout",
     "output_type": "stream",
     "text": [
      "Fix"
     ]
    },
    {
     "name": "stdout",
     "output_type": "stream",
     "text": [
      "er"
     ]
    },
    {
     "name": "stdout",
     "output_type": "stream",
     "text": [
      "\\n"
     ]
    },
    {
     "name": "stdout",
     "output_type": "stream",
     "text": [
      "from"
     ]
    },
    {
     "name": "stdout",
     "output_type": "stream",
     "text": [
      " open"
     ]
    },
    {
     "name": "stdout",
     "output_type": "stream",
     "text": [
      "mm"
     ]
    },
    {
     "name": "stdout",
     "output_type": "stream",
     "text": [
      ".app"
     ]
    },
    {
     "name": "stdout",
     "output_type": "stream",
     "text": [
      " import"
     ]
    },
    {
     "name": "stdout",
     "output_type": "stream",
     "text": [
      " P"
     ]
    },
    {
     "name": "stdout",
     "output_type": "stream",
     "text": [
      "DB"
     ]
    },
    {
     "name": "stdout",
     "output_type": "stream",
     "text": [
      "File"
     ]
    },
    {
     "name": "stdout",
     "output_type": "stream",
     "text": [
      "\\n"
     ]
    },
    {
     "name": "stdout",
     "output_type": "stream",
     "text": [
      "\\n"
     ]
    },
    {
     "name": "stdout",
     "output_type": "stream",
     "text": [
      "#"
     ]
    },
    {
     "name": "stdout",
     "output_type": "stream",
     "text": [
      " Load"
     ]
    },
    {
     "name": "stdout",
     "output_type": "stream",
     "text": [
      " the"
     ]
    },
    {
     "name": "stdout",
     "output_type": "stream",
     "text": [
      " P"
     ]
    },
    {
     "name": "stdout",
     "output_type": "stream",
     "text": [
      "DB"
     ]
    },
    {
     "name": "stdout",
     "output_type": "stream",
     "text": [
      " file"
     ]
    },
    {
     "name": "stdout",
     "output_type": "stream",
     "text": [
      "\\n"
     ]
    },
    {
     "name": "stdout",
     "output_type": "stream",
     "text": [
      "fix"
     ]
    },
    {
     "name": "stdout",
     "output_type": "stream",
     "text": [
      "er"
     ]
    },
    {
     "name": "stdout",
     "output_type": "stream",
     "text": [
      " ="
     ]
    },
    {
     "name": "stdout",
     "output_type": "stream",
     "text": [
      " P"
     ]
    },
    {
     "name": "stdout",
     "output_type": "stream",
     "text": [
      "DB"
     ]
    },
    {
     "name": "stdout",
     "output_type": "stream",
     "text": [
      "Fix"
     ]
    },
    {
     "name": "stdout",
     "output_type": "stream",
     "text": [
      "er"
     ]
    },
    {
     "name": "stdout",
     "output_type": "stream",
     "text": [
      "(filename"
     ]
    },
    {
     "name": "stdout",
     "output_type": "stream",
     "text": [
      "='"
     ]
    },
    {
     "name": "stdout",
     "output_type": "stream",
     "text": [
      "4"
     ]
    },
    {
     "name": "stdout",
     "output_type": "stream",
     "text": [
      "R"
     ]
    },
    {
     "name": "stdout",
     "output_type": "stream",
     "text": [
      "MB"
     ]
    },
    {
     "name": "stdout",
     "output_type": "stream",
     "text": [
      ".p"
     ]
    },
    {
     "name": "stdout",
     "output_type": "stream",
     "text": [
      "db"
     ]
    },
    {
     "name": "stdout",
     "output_type": "stream",
     "text": [
      "')"
     ]
    },
    {
     "name": "stdout",
     "output_type": "stream",
     "text": [
      "\\"
     ]
    },
    {
     "name": "stdout",
     "output_type": "stream",
     "text": [
      "n"
     ]
    },
    {
     "name": "stdout",
     "output_type": "stream",
     "text": [
      "\\n"
     ]
    },
    {
     "name": "stdout",
     "output_type": "stream",
     "text": [
      "#"
     ]
    },
    {
     "name": "stdout",
     "output_type": "stream",
     "text": [
      " Find"
     ]
    },
    {
     "name": "stdout",
     "output_type": "stream",
     "text": [
      " missing"
     ]
    },
    {
     "name": "stdout",
     "output_type": "stream",
     "text": [
      " residues"
     ]
    },
    {
     "name": "stdout",
     "output_type": "stream",
     "text": [
      " and"
     ]
    },
    {
     "name": "stdout",
     "output_type": "stream",
     "text": [
      " add"
     ]
    },
    {
     "name": "stdout",
     "output_type": "stream",
     "text": [
      " them"
     ]
    },
    {
     "name": "stdout",
     "output_type": "stream",
     "text": [
      "\\n"
     ]
    },
    {
     "name": "stdout",
     "output_type": "stream",
     "text": [
      "fix"
     ]
    },
    {
     "name": "stdout",
     "output_type": "stream",
     "text": [
      "er"
     ]
    },
    {
     "name": "stdout",
     "output_type": "stream",
     "text": [
      ".find"
     ]
    },
    {
     "name": "stdout",
     "output_type": "stream",
     "text": [
      "Missing"
     ]
    },
    {
     "name": "stdout",
     "output_type": "stream",
     "text": [
      "Resid"
     ]
    },
    {
     "name": "stdout",
     "output_type": "stream",
     "text": [
      "ues"
     ]
    },
    {
     "name": "stdout",
     "output_type": "stream",
     "text": [
      "()\\"
     ]
    },
    {
     "name": "stdout",
     "output_type": "stream",
     "text": [
      "n"
     ]
    },
    {
     "name": "stdout",
     "output_type": "stream",
     "text": [
      "fix"
     ]
    },
    {
     "name": "stdout",
     "output_type": "stream",
     "text": [
      "er"
     ]
    },
    {
     "name": "stdout",
     "output_type": "stream",
     "text": [
      ".find"
     ]
    },
    {
     "name": "stdout",
     "output_type": "stream",
     "text": [
      "Missing"
     ]
    },
    {
     "name": "stdout",
     "output_type": "stream",
     "text": [
      "Atoms"
     ]
    },
    {
     "name": "stdout",
     "output_type": "stream",
     "text": [
      "()\\"
     ]
    },
    {
     "name": "stdout",
     "output_type": "stream",
     "text": [
      "n"
     ]
    },
    {
     "name": "stdout",
     "output_type": "stream",
     "text": [
      "fix"
     ]
    },
    {
     "name": "stdout",
     "output_type": "stream",
     "text": [
      "er"
     ]
    },
    {
     "name": "stdout",
     "output_type": "stream",
     "text": [
      ".add"
     ]
    },
    {
     "name": "stdout",
     "output_type": "stream",
     "text": [
      "Missing"
     ]
    },
    {
     "name": "stdout",
     "output_type": "stream",
     "text": [
      "Atoms"
     ]
    },
    {
     "name": "stdout",
     "output_type": "stream",
     "text": [
      "()\\"
     ]
    },
    {
     "name": "stdout",
     "output_type": "stream",
     "text": [
      "n"
     ]
    },
    {
     "name": "stdout",
     "output_type": "stream",
     "text": [
      "fix"
     ]
    },
    {
     "name": "stdout",
     "output_type": "stream",
     "text": [
      "er"
     ]
    },
    {
     "name": "stdout",
     "output_type": "stream",
     "text": [
      ".add"
     ]
    },
    {
     "name": "stdout",
     "output_type": "stream",
     "text": [
      "Missing"
     ]
    },
    {
     "name": "stdout",
     "output_type": "stream",
     "text": [
      "Hyd"
     ]
    },
    {
     "name": "stdout",
     "output_type": "stream",
     "text": [
      "rog"
     ]
    },
    {
     "name": "stdout",
     "output_type": "stream",
     "text": [
      "ens"
     ]
    },
    {
     "name": "stdout",
     "output_type": "stream",
     "text": [
      "()\\"
     ]
    },
    {
     "name": "stdout",
     "output_type": "stream",
     "text": [
      "n"
     ]
    },
    {
     "name": "stdout",
     "output_type": "stream",
     "text": [
      "\\n"
     ]
    },
    {
     "name": "stdout",
     "output_type": "stream",
     "text": [
      "#"
     ]
    },
    {
     "name": "stdout",
     "output_type": "stream",
     "text": [
      " Save"
     ]
    },
    {
     "name": "stdout",
     "output_type": "stream",
     "text": [
      " the"
     ]
    },
    {
     "name": "stdout",
     "output_type": "stream",
     "text": [
      " fixed"
     ]
    },
    {
     "name": "stdout",
     "output_type": "stream",
     "text": [
      " P"
     ]
    },
    {
     "name": "stdout",
     "output_type": "stream",
     "text": [
      "DB"
     ]
    },
    {
     "name": "stdout",
     "output_type": "stream",
     "text": [
      " file"
     ]
    },
    {
     "name": "stdout",
     "output_type": "stream",
     "text": [
      "\\n"
     ]
    },
    {
     "name": "stdout",
     "output_type": "stream",
     "text": [
      "with"
     ]
    },
    {
     "name": "stdout",
     "output_type": "stream",
     "text": [
      " open"
     ]
    },
    {
     "name": "stdout",
     "output_type": "stream",
     "text": [
      "('"
     ]
    },
    {
     "name": "stdout",
     "output_type": "stream",
     "text": [
      "4"
     ]
    },
    {
     "name": "stdout",
     "output_type": "stream",
     "text": [
      "R"
     ]
    },
    {
     "name": "stdout",
     "output_type": "stream",
     "text": [
      "MB"
     ]
    },
    {
     "name": "stdout",
     "output_type": "stream",
     "text": [
      "_fixed"
     ]
    },
    {
     "name": "stdout",
     "output_type": "stream",
     "text": [
      ".p"
     ]
    },
    {
     "name": "stdout",
     "output_type": "stream",
     "text": [
      "db"
     ]
    },
    {
     "name": "stdout",
     "output_type": "stream",
     "text": [
      "',"
     ]
    },
    {
     "name": "stdout",
     "output_type": "stream",
     "text": [
      " '"
     ]
    },
    {
     "name": "stdout",
     "output_type": "stream",
     "text": [
      "w"
     ]
    },
    {
     "name": "stdout",
     "output_type": "stream",
     "text": [
      "')"
     ]
    },
    {
     "name": "stdout",
     "output_type": "stream",
     "text": [
      " as"
     ]
    },
    {
     "name": "stdout",
     "output_type": "stream",
     "text": [
      " file"
     ]
    },
    {
     "name": "stdout",
     "output_type": "stream",
     "text": [
      ":\\"
     ]
    },
    {
     "name": "stdout",
     "output_type": "stream",
     "text": [
      "n"
     ]
    },
    {
     "name": "stdout",
     "output_type": "stream",
     "text": [
      "   "
     ]
    },
    {
     "name": "stdout",
     "output_type": "stream",
     "text": [
      " P"
     ]
    },
    {
     "name": "stdout",
     "output_type": "stream",
     "text": [
      "DB"
     ]
    },
    {
     "name": "stdout",
     "output_type": "stream",
     "text": [
      "File"
     ]
    },
    {
     "name": "stdout",
     "output_type": "stream",
     "text": [
      ".write"
     ]
    },
    {
     "name": "stdout",
     "output_type": "stream",
     "text": [
      "File"
     ]
    },
    {
     "name": "stdout",
     "output_type": "stream",
     "text": [
      "(f"
     ]
    },
    {
     "name": "stdout",
     "output_type": "stream",
     "text": [
      "ixer"
     ]
    },
    {
     "name": "stdout",
     "output_type": "stream",
     "text": [
      ".top"
     ]
    },
    {
     "name": "stdout",
     "output_type": "stream",
     "text": [
      "ology"
     ]
    },
    {
     "name": "stdout",
     "output_type": "stream",
     "text": [
      ","
     ]
    },
    {
     "name": "stdout",
     "output_type": "stream",
     "text": [
      " fixer"
     ]
    },
    {
     "name": "stdout",
     "output_type": "stream",
     "text": [
      ".positions"
     ]
    },
    {
     "name": "stdout",
     "output_type": "stream",
     "text": [
      ","
     ]
    },
    {
     "name": "stdout",
     "output_type": "stream",
     "text": [
      " file"
     ]
    },
    {
     "name": "stdout",
     "output_type": "stream",
     "text": [
      ")\\"
     ]
    },
    {
     "name": "stdout",
     "output_type": "stream",
     "text": [
      "n"
     ]
    },
    {
     "name": "stdout",
     "output_type": "stream",
     "text": [
      "\\n"
     ]
    },
    {
     "name": "stdout",
     "output_type": "stream",
     "text": [
      "'"
     ]
    },
    {
     "name": "stdout",
     "output_type": "stream",
     "text": [
      "4"
     ]
    },
    {
     "name": "stdout",
     "output_type": "stream",
     "text": [
      "R"
     ]
    },
    {
     "name": "stdout",
     "output_type": "stream",
     "text": [
      "MB"
     ]
    },
    {
     "name": "stdout",
     "output_type": "stream",
     "text": [
      "_fixed"
     ]
    },
    {
     "name": "stdout",
     "output_type": "stream",
     "text": [
      ".p"
     ]
    },
    {
     "name": "stdout",
     "output_type": "stream",
     "text": [
      "db"
     ]
    },
    {
     "name": "stdout",
     "output_type": "stream",
     "text": [
      " created"
     ]
    },
    {
     "name": "stdout",
     "output_type": "stream",
     "text": [
      " successfully"
     ]
    },
    {
     "name": "stdout",
     "output_type": "stream",
     "text": [
      "'\"\n"
     ]
    },
    {
     "name": "stdout",
     "output_type": "stream",
     "text": [
      "}\n"
     ]
    },
    {
     "name": "stdout",
     "output_type": "stream",
     "text": [
      "```"
     ]
    },
    {
     "name": "stdout",
     "output_type": "stream",
     "text": [
      "\u001b[32;1m\u001b[1;3mTo proceed, I need to preprocess the downloaded 4RMB PDB file using PDBFixer to ensure it is ready for simulation. This involves fixing any missing atoms, residues, or other structural issues.\n",
      "\n",
      "Action:\n",
      "```\n",
      "{\n",
      "  \"action\": \"python_repl\",\n",
      "  \"action_input\": \"from pdbfixer import PDBFixer\\nfrom openmm.app import PDBFile\\n\\n# Load the PDB file\\nfixer = PDBFixer(filename='4RMB.pdb')\\n\\n# Find missing residues and add them\\nfixer.findMissingResidues()\\nfixer.findMissingAtoms()\\nfixer.addMissingAtoms()\\nfixer.addMissingHydrogens()\\n\\n# Save the fixed PDB file\\nwith open('4RMB_fixed.pdb', 'w') as file:\\n    PDBFile.writeFile(fixer.topology, fixer.positions, file)\\n\\n'4RMB_fixed.pdb created successfully'\"\n",
      "}\n",
      "```\u001b[0m"
     ]
    },
    {
     "name": "stdout",
     "output_type": "stream",
     "text": [
      "\n",
      "Observation: \u001b[36;1m\u001b[1;3m\u001b[0m\n",
      "Thought:"
     ]
    },
    {
     "name": "stdout",
     "output_type": "stream",
     "text": [
      "To"
     ]
    },
    {
     "name": "stdout",
     "output_type": "stream",
     "text": [
      " continue"
     ]
    },
    {
     "name": "stdout",
     "output_type": "stream",
     "text": [
      " with"
     ]
    },
    {
     "name": "stdout",
     "output_type": "stream",
     "text": [
      " the"
     ]
    },
    {
     "name": "stdout",
     "output_type": "stream",
     "text": [
      " task"
     ]
    },
    {
     "name": "stdout",
     "output_type": "stream",
     "text": [
      ","
     ]
    },
    {
     "name": "stdout",
     "output_type": "stream",
     "text": [
      " I"
     ]
    },
    {
     "name": "stdout",
     "output_type": "stream",
     "text": [
      " need"
     ]
    },
    {
     "name": "stdout",
     "output_type": "stream",
     "text": [
      " to"
     ]
    },
    {
     "name": "stdout",
     "output_type": "stream",
     "text": [
      " set"
     ]
    },
    {
     "name": "stdout",
     "output_type": "stream",
     "text": [
      " up"
     ]
    },
    {
     "name": "stdout",
     "output_type": "stream",
     "text": [
      " and"
     ]
    },
    {
     "name": "stdout",
     "output_type": "stream",
     "text": [
      " run"
     ]
    },
    {
     "name": "stdout",
     "output_type": "stream",
     "text": [
      " molecular"
     ]
    },
    {
     "name": "stdout",
     "output_type": "stream",
     "text": [
      " dynamics"
     ]
    },
    {
     "name": "stdout",
     "output_type": "stream",
     "text": [
      " simulations"
     ]
    },
    {
     "name": "stdout",
     "output_type": "stream",
     "text": [
      " at"
     ]
    },
    {
     "name": "stdout",
     "output_type": "stream",
     "text": [
      " "
     ]
    },
    {
     "name": "stdout",
     "output_type": "stream",
     "text": [
      "100"
     ]
    },
    {
     "name": "stdout",
     "output_type": "stream",
     "text": [
      "K"
     ]
    },
    {
     "name": "stdout",
     "output_type": "stream",
     "text": [
      ","
     ]
    },
    {
     "name": "stdout",
     "output_type": "stream",
     "text": [
      " "
     ]
    },
    {
     "name": "stdout",
     "output_type": "stream",
     "text": [
      "200"
     ]
    },
    {
     "name": "stdout",
     "output_type": "stream",
     "text": [
      "K"
     ]
    },
    {
     "name": "stdout",
     "output_type": "stream",
     "text": [
      ","
     ]
    },
    {
     "name": "stdout",
     "output_type": "stream",
     "text": [
      " and"
     ]
    },
    {
     "name": "stdout",
     "output_type": "stream",
     "text": [
      " "
     ]
    },
    {
     "name": "stdout",
     "output_type": "stream",
     "text": [
      "300"
     ]
    },
    {
     "name": "stdout",
     "output_type": "stream",
     "text": [
      "K"
     ]
    },
    {
     "name": "stdout",
     "output_type": "stream",
     "text": [
      " using"
     ]
    },
    {
     "name": "stdout",
     "output_type": "stream",
     "text": [
      " Open"
     ]
    },
    {
     "name": "stdout",
     "output_type": "stream",
     "text": [
      "MM"
     ]
    },
    {
     "name": "stdout",
     "output_type": "stream",
     "text": [
      "."
     ]
    },
    {
     "name": "stdout",
     "output_type": "stream",
     "text": [
      " This"
     ]
    },
    {
     "name": "stdout",
     "output_type": "stream",
     "text": [
      " involves"
     ]
    },
    {
     "name": "stdout",
     "output_type": "stream",
     "text": [
      " creating"
     ]
    },
    {
     "name": "stdout",
     "output_type": "stream",
     "text": [
      " a"
     ]
    },
    {
     "name": "stdout",
     "output_type": "stream",
     "text": [
      " simulation"
     ]
    },
    {
     "name": "stdout",
     "output_type": "stream",
     "text": [
      " system"
     ]
    },
    {
     "name": "stdout",
     "output_type": "stream",
     "text": [
      ","
     ]
    },
    {
     "name": "stdout",
     "output_type": "stream",
     "text": [
      " defining"
     ]
    },
    {
     "name": "stdout",
     "output_type": "stream",
     "text": [
      " the"
     ]
    },
    {
     "name": "stdout",
     "output_type": "stream",
     "text": [
      " integr"
     ]
    },
    {
     "name": "stdout",
     "output_type": "stream",
     "text": [
      "ator"
     ]
    },
    {
     "name": "stdout",
     "output_type": "stream",
     "text": [
      " and"
     ]
    },
    {
     "name": "stdout",
     "output_type": "stream",
     "text": [
      " simulation"
     ]
    },
    {
     "name": "stdout",
     "output_type": "stream",
     "text": [
      " parameters"
     ]
    },
    {
     "name": "stdout",
     "output_type": "stream",
     "text": [
      ","
     ]
    },
    {
     "name": "stdout",
     "output_type": "stream",
     "text": [
      " and"
     ]
    },
    {
     "name": "stdout",
     "output_type": "stream",
     "text": [
      " running"
     ]
    },
    {
     "name": "stdout",
     "output_type": "stream",
     "text": [
      " the"
     ]
    },
    {
     "name": "stdout",
     "output_type": "stream",
     "text": [
      " simulations"
     ]
    },
    {
     "name": "stdout",
     "output_type": "stream",
     "text": [
      " for"
     ]
    },
    {
     "name": "stdout",
     "output_type": "stream",
     "text": [
      " each"
     ]
    },
    {
     "name": "stdout",
     "output_type": "stream",
     "text": [
      " temperature"
     ]
    },
    {
     "name": "stdout",
     "output_type": "stream",
     "text": [
      ".\n",
      "\n"
     ]
    },
    {
     "name": "stdout",
     "output_type": "stream",
     "text": [
      "Action"
     ]
    },
    {
     "name": "stdout",
     "output_type": "stream",
     "text": [
      ":\n"
     ]
    },
    {
     "name": "stdout",
     "output_type": "stream",
     "text": [
      "```"
     ]
    },
    {
     "name": "stdout",
     "output_type": "stream",
     "text": [
      "json"
     ]
    },
    {
     "name": "stdout",
     "output_type": "stream",
     "text": [
      "\n"
     ]
    },
    {
     "name": "stdout",
     "output_type": "stream",
     "text": [
      "{\n"
     ]
    },
    {
     "name": "stdout",
     "output_type": "stream",
     "text": [
      " "
     ]
    },
    {
     "name": "stdout",
     "output_type": "stream",
     "text": [
      " \""
     ]
    },
    {
     "name": "stdout",
     "output_type": "stream",
     "text": [
      "action"
     ]
    },
    {
     "name": "stdout",
     "output_type": "stream",
     "text": [
      "\":"
     ]
    },
    {
     "name": "stdout",
     "output_type": "stream",
     "text": [
      " \""
     ]
    },
    {
     "name": "stdout",
     "output_type": "stream",
     "text": [
      "python"
     ]
    },
    {
     "name": "stdout",
     "output_type": "stream",
     "text": [
      "_re"
     ]
    },
    {
     "name": "stdout",
     "output_type": "stream",
     "text": [
      "pl"
     ]
    },
    {
     "name": "stdout",
     "output_type": "stream",
     "text": [
      "\",\n"
     ]
    },
    {
     "name": "stdout",
     "output_type": "stream",
     "text": [
      " "
     ]
    },
    {
     "name": "stdout",
     "output_type": "stream",
     "text": [
      " \""
     ]
    },
    {
     "name": "stdout",
     "output_type": "stream",
     "text": [
      "action"
     ]
    },
    {
     "name": "stdout",
     "output_type": "stream",
     "text": [
      "_input"
     ]
    },
    {
     "name": "stdout",
     "output_type": "stream",
     "text": [
      "\":"
     ]
    },
    {
     "name": "stdout",
     "output_type": "stream",
     "text": [
      " \""
     ]
    },
    {
     "name": "stdout",
     "output_type": "stream",
     "text": [
      "from"
     ]
    },
    {
     "name": "stdout",
     "output_type": "stream",
     "text": [
      " open"
     ]
    },
    {
     "name": "stdout",
     "output_type": "stream",
     "text": [
      "mm"
     ]
    },
    {
     "name": "stdout",
     "output_type": "stream",
     "text": [
      " import"
     ]
    },
    {
     "name": "stdout",
     "output_type": "stream",
     "text": [
      " app"
     ]
    },
    {
     "name": "stdout",
     "output_type": "stream",
     "text": [
      ","
     ]
    },
    {
     "name": "stdout",
     "output_type": "stream",
     "text": [
      " Lange"
     ]
    },
    {
     "name": "stdout",
     "output_type": "stream",
     "text": [
      "vin"
     ]
    },
    {
     "name": "stdout",
     "output_type": "stream",
     "text": [
      "Integrator"
     ]
    },
    {
     "name": "stdout",
     "output_type": "stream",
     "text": [
      ","
     ]
    },
    {
     "name": "stdout",
     "output_type": "stream",
     "text": [
      " Platform"
     ]
    },
    {
     "name": "stdout",
     "output_type": "stream",
     "text": [
      "\\n"
     ]
    },
    {
     "name": "stdout",
     "output_type": "stream",
     "text": [
      "from"
     ]
    },
    {
     "name": "stdout",
     "output_type": "stream",
     "text": [
      " open"
     ]
    },
    {
     "name": "stdout",
     "output_type": "stream",
     "text": [
      "mm"
     ]
    },
    {
     "name": "stdout",
     "output_type": "stream",
     "text": [
      " import"
     ]
    },
    {
     "name": "stdout",
     "output_type": "stream",
     "text": [
      " unit"
     ]
    },
    {
     "name": "stdout",
     "output_type": "stream",
     "text": [
      ","
     ]
    },
    {
     "name": "stdout",
     "output_type": "stream",
     "text": [
      " Context"
     ]
    },
    {
     "name": "stdout",
     "output_type": "stream",
     "text": [
      ","
     ]
    },
    {
     "name": "stdout",
     "output_type": "stream",
     "text": [
      " Xml"
     ]
    },
    {
     "name": "stdout",
     "output_type": "stream",
     "text": [
      "Serializer"
     ]
    },
    {
     "name": "stdout",
     "output_type": "stream",
     "text": [
      "\\n"
     ]
    },
    {
     "name": "stdout",
     "output_type": "stream",
     "text": [
      "from"
     ]
    },
    {
     "name": "stdout",
     "output_type": "stream",
     "text": [
      " open"
     ]
    },
    {
     "name": "stdout",
     "output_type": "stream",
     "text": [
      "mm"
     ]
    },
    {
     "name": "stdout",
     "output_type": "stream",
     "text": [
      ".app"
     ]
    },
    {
     "name": "stdout",
     "output_type": "stream",
     "text": [
      " import"
     ]
    },
    {
     "name": "stdout",
     "output_type": "stream",
     "text": [
      " Simulation"
     ]
    },
    {
     "name": "stdout",
     "output_type": "stream",
     "text": [
      ","
     ]
    },
    {
     "name": "stdout",
     "output_type": "stream",
     "text": [
      " P"
     ]
    },
    {
     "name": "stdout",
     "output_type": "stream",
     "text": [
      "DB"
     ]
    },
    {
     "name": "stdout",
     "output_type": "stream",
     "text": [
      "File"
     ]
    },
    {
     "name": "stdout",
     "output_type": "stream",
     "text": [
      ","
     ]
    },
    {
     "name": "stdout",
     "output_type": "stream",
     "text": [
      " Force"
     ]
    },
    {
     "name": "stdout",
     "output_type": "stream",
     "text": [
      "Field"
     ]
    },
    {
     "name": "stdout",
     "output_type": "stream",
     "text": [
      "\\n"
     ]
    },
    {
     "name": "stdout",
     "output_type": "stream",
     "text": [
      "import"
     ]
    },
    {
     "name": "stdout",
     "output_type": "stream",
     "text": [
      " os"
     ]
    },
    {
     "name": "stdout",
     "output_type": "stream",
     "text": [
      "\\n"
     ]
    },
    {
     "name": "stdout",
     "output_type": "stream",
     "text": [
      "\\n"
     ]
    },
    {
     "name": "stdout",
     "output_type": "stream",
     "text": [
      "#"
     ]
    },
    {
     "name": "stdout",
     "output_type": "stream",
     "text": [
      " Load"
     ]
    },
    {
     "name": "stdout",
     "output_type": "stream",
     "text": [
      " the"
     ]
    },
    {
     "name": "stdout",
     "output_type": "stream",
     "text": [
      " fixed"
     ]
    },
    {
     "name": "stdout",
     "output_type": "stream",
     "text": [
      " P"
     ]
    },
    {
     "name": "stdout",
     "output_type": "stream",
     "text": [
      "DB"
     ]
    },
    {
     "name": "stdout",
     "output_type": "stream",
     "text": [
      " file"
     ]
    },
    {
     "name": "stdout",
     "output_type": "stream",
     "text": [
      "\\n"
     ]
    },
    {
     "name": "stdout",
     "output_type": "stream",
     "text": [
      "p"
     ]
    },
    {
     "name": "stdout",
     "output_type": "stream",
     "text": [
      "db"
     ]
    },
    {
     "name": "stdout",
     "output_type": "stream",
     "text": [
      " ="
     ]
    },
    {
     "name": "stdout",
     "output_type": "stream",
     "text": [
      " P"
     ]
    },
    {
     "name": "stdout",
     "output_type": "stream",
     "text": [
      "DB"
     ]
    },
    {
     "name": "stdout",
     "output_type": "stream",
     "text": [
      "File"
     ]
    },
    {
     "name": "stdout",
     "output_type": "stream",
     "text": [
      "('"
     ]
    },
    {
     "name": "stdout",
     "output_type": "stream",
     "text": [
      "4"
     ]
    },
    {
     "name": "stdout",
     "output_type": "stream",
     "text": [
      "R"
     ]
    },
    {
     "name": "stdout",
     "output_type": "stream",
     "text": [
      "MB"
     ]
    },
    {
     "name": "stdout",
     "output_type": "stream",
     "text": [
      "_fixed"
     ]
    },
    {
     "name": "stdout",
     "output_type": "stream",
     "text": [
      ".p"
     ]
    },
    {
     "name": "stdout",
     "output_type": "stream",
     "text": [
      "db"
     ]
    },
    {
     "name": "stdout",
     "output_type": "stream",
     "text": [
      "')"
     ]
    },
    {
     "name": "stdout",
     "output_type": "stream",
     "text": [
      "\\"
     ]
    },
    {
     "name": "stdout",
     "output_type": "stream",
     "text": [
      "n"
     ]
    },
    {
     "name": "stdout",
     "output_type": "stream",
     "text": [
      "\\n"
     ]
    },
    {
     "name": "stdout",
     "output_type": "stream",
     "text": [
      "#"
     ]
    },
    {
     "name": "stdout",
     "output_type": "stream",
     "text": [
      " Load"
     ]
    },
    {
     "name": "stdout",
     "output_type": "stream",
     "text": [
      " the"
     ]
    },
    {
     "name": "stdout",
     "output_type": "stream",
     "text": [
      " force"
     ]
    },
    {
     "name": "stdout",
     "output_type": "stream",
     "text": [
      " field"
     ]
    },
    {
     "name": "stdout",
     "output_type": "stream",
     "text": [
      "\\n"
     ]
    },
    {
     "name": "stdout",
     "output_type": "stream",
     "text": [
      "force"
     ]
    },
    {
     "name": "stdout",
     "output_type": "stream",
     "text": [
      "field"
     ]
    },
    {
     "name": "stdout",
     "output_type": "stream",
     "text": [
      " ="
     ]
    },
    {
     "name": "stdout",
     "output_type": "stream",
     "text": [
      " Force"
     ]
    },
    {
     "name": "stdout",
     "output_type": "stream",
     "text": [
      "Field"
     ]
    },
    {
     "name": "stdout",
     "output_type": "stream",
     "text": [
      "('"
     ]
    },
    {
     "name": "stdout",
     "output_type": "stream",
     "text": [
      "amber"
     ]
    },
    {
     "name": "stdout",
     "output_type": "stream",
     "text": [
      "99"
     ]
    },
    {
     "name": "stdout",
     "output_type": "stream",
     "text": [
      "sb"
     ]
    },
    {
     "name": "stdout",
     "output_type": "stream",
     "text": [
      ".xml"
     ]
    },
    {
     "name": "stdout",
     "output_type": "stream",
     "text": [
      "',"
     ]
    },
    {
     "name": "stdout",
     "output_type": "stream",
     "text": [
      " '"
     ]
    },
    {
     "name": "stdout",
     "output_type": "stream",
     "text": [
      "tip"
     ]
    },
    {
     "name": "stdout",
     "output_type": "stream",
     "text": [
      "3"
     ]
    },
    {
     "name": "stdout",
     "output_type": "stream",
     "text": [
      "p"
     ]
    },
    {
     "name": "stdout",
     "output_type": "stream",
     "text": [
      ".xml"
     ]
    },
    {
     "name": "stdout",
     "output_type": "stream",
     "text": [
      "')"
     ]
    },
    {
     "name": "stdout",
     "output_type": "stream",
     "text": [
      "\\"
     ]
    },
    {
     "name": "stdout",
     "output_type": "stream",
     "text": [
      "n"
     ]
    },
    {
     "name": "stdout",
     "output_type": "stream",
     "text": [
      "\\n"
     ]
    },
    {
     "name": "stdout",
     "output_type": "stream",
     "text": [
      "#"
     ]
    },
    {
     "name": "stdout",
     "output_type": "stream",
     "text": [
      " Create"
     ]
    },
    {
     "name": "stdout",
     "output_type": "stream",
     "text": [
      " the"
     ]
    },
    {
     "name": "stdout",
     "output_type": "stream",
     "text": [
      " system"
     ]
    },
    {
     "name": "stdout",
     "output_type": "stream",
     "text": [
      "\\n"
     ]
    },
    {
     "name": "stdout",
     "output_type": "stream",
     "text": [
      "system"
     ]
    },
    {
     "name": "stdout",
     "output_type": "stream",
     "text": [
      " ="
     ]
    },
    {
     "name": "stdout",
     "output_type": "stream",
     "text": [
      " force"
     ]
    },
    {
     "name": "stdout",
     "output_type": "stream",
     "text": [
      "field"
     ]
    },
    {
     "name": "stdout",
     "output_type": "stream",
     "text": [
      ".create"
     ]
    },
    {
     "name": "stdout",
     "output_type": "stream",
     "text": [
      "System"
     ]
    },
    {
     "name": "stdout",
     "output_type": "stream",
     "text": [
      "(p"
     ]
    },
    {
     "name": "stdout",
     "output_type": "stream",
     "text": [
      "db"
     ]
    },
    {
     "name": "stdout",
     "output_type": "stream",
     "text": [
      ".top"
     ]
    },
    {
     "name": "stdout",
     "output_type": "stream",
     "text": [
      "ology"
     ]
    },
    {
     "name": "stdout",
     "output_type": "stream",
     "text": [
      ","
     ]
    },
    {
     "name": "stdout",
     "output_type": "stream",
     "text": [
      " non"
     ]
    },
    {
     "name": "stdout",
     "output_type": "stream",
     "text": [
      "bond"
     ]
    },
    {
     "name": "stdout",
     "output_type": "stream",
     "text": [
      "ed"
     ]
    },
    {
     "name": "stdout",
     "output_type": "stream",
     "text": [
      "Method"
     ]
    },
    {
     "name": "stdout",
     "output_type": "stream",
     "text": [
      "="
     ]
    },
    {
     "name": "stdout",
     "output_type": "stream",
     "text": [
      "app"
     ]
    },
    {
     "name": "stdout",
     "output_type": "stream",
     "text": [
      ".P"
     ]
    },
    {
     "name": "stdout",
     "output_type": "stream",
     "text": [
      "ME"
     ]
    },
    {
     "name": "stdout",
     "output_type": "stream",
     "text": [
      ","
     ]
    },
    {
     "name": "stdout",
     "output_type": "stream",
     "text": [
      " non"
     ]
    },
    {
     "name": "stdout",
     "output_type": "stream",
     "text": [
      "bond"
     ]
    },
    {
     "name": "stdout",
     "output_type": "stream",
     "text": [
      "ed"
     ]
    },
    {
     "name": "stdout",
     "output_type": "stream",
     "text": [
      "Cut"
     ]
    },
    {
     "name": "stdout",
     "output_type": "stream",
     "text": [
      "off"
     ]
    },
    {
     "name": "stdout",
     "output_type": "stream",
     "text": [
      "="
     ]
    },
    {
     "name": "stdout",
     "output_type": "stream",
     "text": [
      "1"
     ]
    },
    {
     "name": "stdout",
     "output_type": "stream",
     "text": [
      "."
     ]
    },
    {
     "name": "stdout",
     "output_type": "stream",
     "text": [
      "0"
     ]
    },
    {
     "name": "stdout",
     "output_type": "stream",
     "text": [
      "*"
     ]
    },
    {
     "name": "stdout",
     "output_type": "stream",
     "text": [
      "unit"
     ]
    },
    {
     "name": "stdout",
     "output_type": "stream",
     "text": [
      ".nan"
     ]
    },
    {
     "name": "stdout",
     "output_type": "stream",
     "text": [
      "ometers"
     ]
    },
    {
     "name": "stdout",
     "output_type": "stream",
     "text": [
      ","
     ]
    },
    {
     "name": "stdout",
     "output_type": "stream",
     "text": [
      " constraints"
     ]
    },
    {
     "name": "stdout",
     "output_type": "stream",
     "text": [
      "="
     ]
    },
    {
     "name": "stdout",
     "output_type": "stream",
     "text": [
      "app"
     ]
    },
    {
     "name": "stdout",
     "output_type": "stream",
     "text": [
      ".H"
     ]
    },
    {
     "name": "stdout",
     "output_type": "stream",
     "text": [
      "B"
     ]
    },
    {
     "name": "stdout",
     "output_type": "stream",
     "text": [
      "onds"
     ]
    },
    {
     "name": "stdout",
     "output_type": "stream",
     "text": [
      ")\\"
     ]
    },
    {
     "name": "stdout",
     "output_type": "stream",
     "text": [
      "n"
     ]
    },
    {
     "name": "stdout",
     "output_type": "stream",
     "text": [
      "\\n"
     ]
    },
    {
     "name": "stdout",
     "output_type": "stream",
     "text": [
      "#"
     ]
    },
    {
     "name": "stdout",
     "output_type": "stream",
     "text": [
      " Define"
     ]
    },
    {
     "name": "stdout",
     "output_type": "stream",
     "text": [
      " simulation"
     ]
    },
    {
     "name": "stdout",
     "output_type": "stream",
     "text": [
      " parameters"
     ]
    },
    {
     "name": "stdout",
     "output_type": "stream",
     "text": [
      "\\n"
     ]
    },
    {
     "name": "stdout",
     "output_type": "stream",
     "text": [
      "temper"
     ]
    },
    {
     "name": "stdout",
     "output_type": "stream",
     "text": [
      "atures"
     ]
    },
    {
     "name": "stdout",
     "output_type": "stream",
     "text": [
      " ="
     ]
    },
    {
     "name": "stdout",
     "output_type": "stream",
     "text": [
      " ["
     ]
    },
    {
     "name": "stdout",
     "output_type": "stream",
     "text": [
      "100"
     ]
    },
    {
     "name": "stdout",
     "output_type": "stream",
     "text": [
      ","
     ]
    },
    {
     "name": "stdout",
     "output_type": "stream",
     "text": [
      " "
     ]
    },
    {
     "name": "stdout",
     "output_type": "stream",
     "text": [
      "200"
     ]
    },
    {
     "name": "stdout",
     "output_type": "stream",
     "text": [
      ","
     ]
    },
    {
     "name": "stdout",
     "output_type": "stream",
     "text": [
      " "
     ]
    },
    {
     "name": "stdout",
     "output_type": "stream",
     "text": [
      "300"
     ]
    },
    {
     "name": "stdout",
     "output_type": "stream",
     "text": [
      "]"
     ]
    },
    {
     "name": "stdout",
     "output_type": "stream",
     "text": [
      " "
     ]
    },
    {
     "name": "stdout",
     "output_type": "stream",
     "text": [
      " #"
     ]
    },
    {
     "name": "stdout",
     "output_type": "stream",
     "text": [
      " in"
     ]
    },
    {
     "name": "stdout",
     "output_type": "stream",
     "text": [
      " Kelvin"
     ]
    },
    {
     "name": "stdout",
     "output_type": "stream",
     "text": [
      "\\n"
     ]
    },
    {
     "name": "stdout",
     "output_type": "stream",
     "text": [
      "simulation"
     ]
    },
    {
     "name": "stdout",
     "output_type": "stream",
     "text": [
      "_time"
     ]
    },
    {
     "name": "stdout",
     "output_type": "stream",
     "text": [
      " ="
     ]
    },
    {
     "name": "stdout",
     "output_type": "stream",
     "text": [
      " "
     ]
    },
    {
     "name": "stdout",
     "output_type": "stream",
     "text": [
      "10"
     ]
    },
    {
     "name": "stdout",
     "output_type": "stream",
     "text": [
      " "
     ]
    },
    {
     "name": "stdout",
     "output_type": "stream",
     "text": [
      " #"
     ]
    },
    {
     "name": "stdout",
     "output_type": "stream",
     "text": [
      " in"
     ]
    },
    {
     "name": "stdout",
     "output_type": "stream",
     "text": [
      " pic"
     ]
    },
    {
     "name": "stdout",
     "output_type": "stream",
     "text": [
      "oseconds"
     ]
    },
    {
     "name": "stdout",
     "output_type": "stream",
     "text": [
      "\\n"
     ]
    },
    {
     "name": "stdout",
     "output_type": "stream",
     "text": [
      "steps"
     ]
    },
    {
     "name": "stdout",
     "output_type": "stream",
     "text": [
      "_per"
     ]
    },
    {
     "name": "stdout",
     "output_type": "stream",
     "text": [
      "_ps"
     ]
    },
    {
     "name": "stdout",
     "output_type": "stream",
     "text": [
      " ="
     ]
    },
    {
     "name": "stdout",
     "output_type": "stream",
     "text": [
      " "
     ]
    },
    {
     "name": "stdout",
     "output_type": "stream",
     "text": [
      "100"
     ]
    },
    {
     "name": "stdout",
     "output_type": "stream",
     "text": [
      "0"
     ]
    },
    {
     "name": "stdout",
     "output_type": "stream",
     "text": [
      " "
     ]
    },
    {
     "name": "stdout",
     "output_type": "stream",
     "text": [
      " #"
     ]
    },
    {
     "name": "stdout",
     "output_type": "stream",
     "text": [
      " number"
     ]
    },
    {
     "name": "stdout",
     "output_type": "stream",
     "text": [
      " of"
     ]
    },
    {
     "name": "stdout",
     "output_type": "stream",
     "text": [
      " steps"
     ]
    },
    {
     "name": "stdout",
     "output_type": "stream",
     "text": [
      " per"
     ]
    },
    {
     "name": "stdout",
     "output_type": "stream",
     "text": [
      " pic"
     ]
    },
    {
     "name": "stdout",
     "output_type": "stream",
     "text": [
      "ose"
     ]
    },
    {
     "name": "stdout",
     "output_type": "stream",
     "text": [
      "cond"
     ]
    },
    {
     "name": "stdout",
     "output_type": "stream",
     "text": [
      "\\n"
     ]
    },
    {
     "name": "stdout",
     "output_type": "stream",
     "text": [
      "\\n"
     ]
    },
    {
     "name": "stdout",
     "output_type": "stream",
     "text": [
      "#"
     ]
    },
    {
     "name": "stdout",
     "output_type": "stream",
     "text": [
      " Run"
     ]
    },
    {
     "name": "stdout",
     "output_type": "stream",
     "text": [
      " simulations"
     ]
    },
    {
     "name": "stdout",
     "output_type": "stream",
     "text": [
      " for"
     ]
    },
    {
     "name": "stdout",
     "output_type": "stream",
     "text": [
      " each"
     ]
    },
    {
     "name": "stdout",
     "output_type": "stream",
     "text": [
      " temperature"
     ]
    },
    {
     "name": "stdout",
     "output_type": "stream",
     "text": [
      "\\n"
     ]
    },
    {
     "name": "stdout",
     "output_type": "stream",
     "text": [
      "for"
     ]
    },
    {
     "name": "stdout",
     "output_type": "stream",
     "text": [
      " temp"
     ]
    },
    {
     "name": "stdout",
     "output_type": "stream",
     "text": [
      " in"
     ]
    },
    {
     "name": "stdout",
     "output_type": "stream",
     "text": [
      " temperatures"
     ]
    },
    {
     "name": "stdout",
     "output_type": "stream",
     "text": [
      ":\\"
     ]
    },
    {
     "name": "stdout",
     "output_type": "stream",
     "text": [
      "n"
     ]
    },
    {
     "name": "stdout",
     "output_type": "stream",
     "text": [
      "   "
     ]
    },
    {
     "name": "stdout",
     "output_type": "stream",
     "text": [
      " #"
     ]
    },
    {
     "name": "stdout",
     "output_type": "stream",
     "text": [
      " Create"
     ]
    },
    {
     "name": "stdout",
     "output_type": "stream",
     "text": [
      " an"
     ]
    },
    {
     "name": "stdout",
     "output_type": "stream",
     "text": [
      " integr"
     ]
    },
    {
     "name": "stdout",
     "output_type": "stream",
     "text": [
      "ator"
     ]
    },
    {
     "name": "stdout",
     "output_type": "stream",
     "text": [
      "\\n"
     ]
    },
    {
     "name": "stdout",
     "output_type": "stream",
     "text": [
      "   "
     ]
    },
    {
     "name": "stdout",
     "output_type": "stream",
     "text": [
      " integr"
     ]
    },
    {
     "name": "stdout",
     "output_type": "stream",
     "text": [
      "ator"
     ]
    },
    {
     "name": "stdout",
     "output_type": "stream",
     "text": [
      " ="
     ]
    },
    {
     "name": "stdout",
     "output_type": "stream",
     "text": [
      " Lange"
     ]
    },
    {
     "name": "stdout",
     "output_type": "stream",
     "text": [
      "vin"
     ]
    },
    {
     "name": "stdout",
     "output_type": "stream",
     "text": [
      "Integrator"
     ]
    },
    {
     "name": "stdout",
     "output_type": "stream",
     "text": [
      "(temp"
     ]
    },
    {
     "name": "stdout",
     "output_type": "stream",
     "text": [
      "*"
     ]
    },
    {
     "name": "stdout",
     "output_type": "stream",
     "text": [
      "unit"
     ]
    },
    {
     "name": "stdout",
     "output_type": "stream",
     "text": [
      ".k"
     ]
    },
    {
     "name": "stdout",
     "output_type": "stream",
     "text": [
      "el"
     ]
    },
    {
     "name": "stdout",
     "output_type": "stream",
     "text": [
      "vin"
     ]
    },
    {
     "name": "stdout",
     "output_type": "stream",
     "text": [
      ","
     ]
    },
    {
     "name": "stdout",
     "output_type": "stream",
     "text": [
      " "
     ]
    },
    {
     "name": "stdout",
     "output_type": "stream",
     "text": [
      "1"
     ]
    },
    {
     "name": "stdout",
     "output_type": "stream",
     "text": [
      "."
     ]
    },
    {
     "name": "stdout",
     "output_type": "stream",
     "text": [
      "0"
     ]
    },
    {
     "name": "stdout",
     "output_type": "stream",
     "text": [
      "/unit"
     ]
    },
    {
     "name": "stdout",
     "output_type": "stream",
     "text": [
      ".pic"
     ]
    },
    {
     "name": "stdout",
     "output_type": "stream",
     "text": [
      "oseconds"
     ]
    },
    {
     "name": "stdout",
     "output_type": "stream",
     "text": [
      ","
     ]
    },
    {
     "name": "stdout",
     "output_type": "stream",
     "text": [
      " "
     ]
    },
    {
     "name": "stdout",
     "output_type": "stream",
     "text": [
      "0"
     ]
    },
    {
     "name": "stdout",
     "output_type": "stream",
     "text": [
      "."
     ]
    },
    {
     "name": "stdout",
     "output_type": "stream",
     "text": [
      "002"
     ]
    },
    {
     "name": "stdout",
     "output_type": "stream",
     "text": [
      "*"
     ]
    },
    {
     "name": "stdout",
     "output_type": "stream",
     "text": [
      "unit"
     ]
    },
    {
     "name": "stdout",
     "output_type": "stream",
     "text": [
      ".pic"
     ]
    },
    {
     "name": "stdout",
     "output_type": "stream",
     "text": [
      "oseconds"
     ]
    },
    {
     "name": "stdout",
     "output_type": "stream",
     "text": [
      ")\\"
     ]
    },
    {
     "name": "stdout",
     "output_type": "stream",
     "text": [
      "n"
     ]
    },
    {
     "name": "stdout",
     "output_type": "stream",
     "text": [
      "   "
     ]
    },
    {
     "name": "stdout",
     "output_type": "stream",
     "text": [
      " \\"
     ]
    },
    {
     "name": "stdout",
     "output_type": "stream",
     "text": [
      "n"
     ]
    },
    {
     "name": "stdout",
     "output_type": "stream",
     "text": [
      "   "
     ]
    },
    {
     "name": "stdout",
     "output_type": "stream",
     "text": [
      " #"
     ]
    },
    {
     "name": "stdout",
     "output_type": "stream",
     "text": [
      " Create"
     ]
    },
    {
     "name": "stdout",
     "output_type": "stream",
     "text": [
      " a"
     ]
    },
    {
     "name": "stdout",
     "output_type": "stream",
     "text": [
      " simulation"
     ]
    },
    {
     "name": "stdout",
     "output_type": "stream",
     "text": [
      "\\n"
     ]
    },
    {
     "name": "stdout",
     "output_type": "stream",
     "text": [
      "   "
     ]
    },
    {
     "name": "stdout",
     "output_type": "stream",
     "text": [
      " simulation"
     ]
    },
    {
     "name": "stdout",
     "output_type": "stream",
     "text": [
      " ="
     ]
    },
    {
     "name": "stdout",
     "output_type": "stream",
     "text": [
      " Simulation"
     ]
    },
    {
     "name": "stdout",
     "output_type": "stream",
     "text": [
      "(p"
     ]
    },
    {
     "name": "stdout",
     "output_type": "stream",
     "text": [
      "db"
     ]
    },
    {
     "name": "stdout",
     "output_type": "stream",
     "text": [
      ".top"
     ]
    },
    {
     "name": "stdout",
     "output_type": "stream",
     "text": [
      "ology"
     ]
    },
    {
     "name": "stdout",
     "output_type": "stream",
     "text": [
      ","
     ]
    },
    {
     "name": "stdout",
     "output_type": "stream",
     "text": [
      " system"
     ]
    },
    {
     "name": "stdout",
     "output_type": "stream",
     "text": [
      ","
     ]
    },
    {
     "name": "stdout",
     "output_type": "stream",
     "text": [
      " integr"
     ]
    },
    {
     "name": "stdout",
     "output_type": "stream",
     "text": [
      "ator"
     ]
    },
    {
     "name": "stdout",
     "output_type": "stream",
     "text": [
      ")\\"
     ]
    },
    {
     "name": "stdout",
     "output_type": "stream",
     "text": [
      "n"
     ]
    },
    {
     "name": "stdout",
     "output_type": "stream",
     "text": [
      "   "
     ]
    },
    {
     "name": "stdout",
     "output_type": "stream",
     "text": [
      " simulation"
     ]
    },
    {
     "name": "stdout",
     "output_type": "stream",
     "text": [
      ".context"
     ]
    },
    {
     "name": "stdout",
     "output_type": "stream",
     "text": [
      ".set"
     ]
    },
    {
     "name": "stdout",
     "output_type": "stream",
     "text": [
      "Positions"
     ]
    },
    {
     "name": "stdout",
     "output_type": "stream",
     "text": [
      "(p"
     ]
    },
    {
     "name": "stdout",
     "output_type": "stream",
     "text": [
      "db"
     ]
    },
    {
     "name": "stdout",
     "output_type": "stream",
     "text": [
      ".positions"
     ]
    },
    {
     "name": "stdout",
     "output_type": "stream",
     "text": [
      ")\\"
     ]
    },
    {
     "name": "stdout",
     "output_type": "stream",
     "text": [
      "n"
     ]
    },
    {
     "name": "stdout",
     "output_type": "stream",
     "text": [
      "   "
     ]
    },
    {
     "name": "stdout",
     "output_type": "stream",
     "text": [
      " \\"
     ]
    },
    {
     "name": "stdout",
     "output_type": "stream",
     "text": [
      "n"
     ]
    },
    {
     "name": "stdout",
     "output_type": "stream",
     "text": [
      "   "
     ]
    },
    {
     "name": "stdout",
     "output_type": "stream",
     "text": [
      " #"
     ]
    },
    {
     "name": "stdout",
     "output_type": "stream",
     "text": [
      " Min"
     ]
    },
    {
     "name": "stdout",
     "output_type": "stream",
     "text": [
      "imize"
     ]
    },
    {
     "name": "stdout",
     "output_type": "stream",
     "text": [
      " energy"
     ]
    },
    {
     "name": "stdout",
     "output_type": "stream",
     "text": [
      "\\n"
     ]
    },
    {
     "name": "stdout",
     "output_type": "stream",
     "text": [
      "   "
     ]
    },
    {
     "name": "stdout",
     "output_type": "stream",
     "text": [
      " simulation"
     ]
    },
    {
     "name": "stdout",
     "output_type": "stream",
     "text": [
      ".min"
     ]
    },
    {
     "name": "stdout",
     "output_type": "stream",
     "text": [
      "imize"
     ]
    },
    {
     "name": "stdout",
     "output_type": "stream",
     "text": [
      "Energy"
     ]
    },
    {
     "name": "stdout",
     "output_type": "stream",
     "text": [
      "()\\"
     ]
    },
    {
     "name": "stdout",
     "output_type": "stream",
     "text": [
      "n"
     ]
    },
    {
     "name": "stdout",
     "output_type": "stream",
     "text": [
      "   "
     ]
    },
    {
     "name": "stdout",
     "output_type": "stream",
     "text": [
      " \\"
     ]
    },
    {
     "name": "stdout",
     "output_type": "stream",
     "text": [
      "n"
     ]
    },
    {
     "name": "stdout",
     "output_type": "stream",
     "text": [
      "   "
     ]
    },
    {
     "name": "stdout",
     "output_type": "stream",
     "text": [
      " #"
     ]
    },
    {
     "name": "stdout",
     "output_type": "stream",
     "text": [
      " Equ"
     ]
    },
    {
     "name": "stdout",
     "output_type": "stream",
     "text": [
      "ilibr"
     ]
    },
    {
     "name": "stdout",
     "output_type": "stream",
     "text": [
      "ate"
     ]
    },
    {
     "name": "stdout",
     "output_type": "stream",
     "text": [
      "\\n"
     ]
    },
    {
     "name": "stdout",
     "output_type": "stream",
     "text": [
      "   "
     ]
    },
    {
     "name": "stdout",
     "output_type": "stream",
     "text": [
      " simulation"
     ]
    },
    {
     "name": "stdout",
     "output_type": "stream",
     "text": [
      ".context"
     ]
    },
    {
     "name": "stdout",
     "output_type": "stream",
     "text": [
      ".set"
     ]
    },
    {
     "name": "stdout",
     "output_type": "stream",
     "text": [
      "Vel"
     ]
    },
    {
     "name": "stdout",
     "output_type": "stream",
     "text": [
      "ocities"
     ]
    },
    {
     "name": "stdout",
     "output_type": "stream",
     "text": [
      "To"
     ]
    },
    {
     "name": "stdout",
     "output_type": "stream",
     "text": [
      "Temperature"
     ]
    },
    {
     "name": "stdout",
     "output_type": "stream",
     "text": [
      "(temp"
     ]
    },
    {
     "name": "stdout",
     "output_type": "stream",
     "text": [
      "*"
     ]
    },
    {
     "name": "stdout",
     "output_type": "stream",
     "text": [
      "unit"
     ]
    },
    {
     "name": "stdout",
     "output_type": "stream",
     "text": [
      ".k"
     ]
    },
    {
     "name": "stdout",
     "output_type": "stream",
     "text": [
      "el"
     ]
    },
    {
     "name": "stdout",
     "output_type": "stream",
     "text": [
      "vin"
     ]
    },
    {
     "name": "stdout",
     "output_type": "stream",
     "text": [
      ")\\"
     ]
    },
    {
     "name": "stdout",
     "output_type": "stream",
     "text": [
      "n"
     ]
    },
    {
     "name": "stdout",
     "output_type": "stream",
     "text": [
      "   "
     ]
    },
    {
     "name": "stdout",
     "output_type": "stream",
     "text": [
      " simulation"
     ]
    },
    {
     "name": "stdout",
     "output_type": "stream",
     "text": [
      ".step"
     ]
    },
    {
     "name": "stdout",
     "output_type": "stream",
     "text": [
      "("
     ]
    },
    {
     "name": "stdout",
     "output_type": "stream",
     "text": [
      "100"
     ]
    },
    {
     "name": "stdout",
     "output_type": "stream",
     "text": [
      "0"
     ]
    },
    {
     "name": "stdout",
     "output_type": "stream",
     "text": [
      ")"
     ]
    },
    {
     "name": "stdout",
     "output_type": "stream",
     "text": [
      " "
     ]
    },
    {
     "name": "stdout",
     "output_type": "stream",
     "text": [
      " #"
     ]
    },
    {
     "name": "stdout",
     "output_type": "stream",
     "text": [
      " "
     ]
    },
    {
     "name": "stdout",
     "output_type": "stream",
     "text": [
      "1"
     ]
    },
    {
     "name": "stdout",
     "output_type": "stream",
     "text": [
      " ps"
     ]
    },
    {
     "name": "stdout",
     "output_type": "stream",
     "text": [
      " of"
     ]
    },
    {
     "name": "stdout",
     "output_type": "stream",
     "text": [
      " equil"
     ]
    },
    {
     "name": "stdout",
     "output_type": "stream",
     "text": [
      "ibration"
     ]
    },
    {
     "name": "stdout",
     "output_type": "stream",
     "text": [
      "\\n"
     ]
    },
    {
     "name": "stdout",
     "output_type": "stream",
     "text": [
      "   "
     ]
    },
    {
     "name": "stdout",
     "output_type": "stream",
     "text": [
      " \\"
     ]
    },
    {
     "name": "stdout",
     "output_type": "stream",
     "text": [
      "n"
     ]
    },
    {
     "name": "stdout",
     "output_type": "stream",
     "text": [
      "   "
     ]
    },
    {
     "name": "stdout",
     "output_type": "stream",
     "text": [
      " #"
     ]
    },
    {
     "name": "stdout",
     "output_type": "stream",
     "text": [
      " Run"
     ]
    },
    {
     "name": "stdout",
     "output_type": "stream",
     "text": [
      " the"
     ]
    },
    {
     "name": "stdout",
     "output_type": "stream",
     "text": [
      " simulation"
     ]
    },
    {
     "name": "stdout",
     "output_type": "stream",
     "text": [
      "\\n"
     ]
    },
    {
     "name": "stdout",
     "output_type": "stream",
     "text": [
      "   "
     ]
    },
    {
     "name": "stdout",
     "output_type": "stream",
     "text": [
      " simulation"
     ]
    },
    {
     "name": "stdout",
     "output_type": "stream",
     "text": [
      ".report"
     ]
    },
    {
     "name": "stdout",
     "output_type": "stream",
     "text": [
      "ers"
     ]
    },
    {
     "name": "stdout",
     "output_type": "stream",
     "text": [
      ".append"
     ]
    },
    {
     "name": "stdout",
     "output_type": "stream",
     "text": [
      "(app"
     ]
    },
    {
     "name": "stdout",
     "output_type": "stream",
     "text": [
      ".D"
     ]
    },
    {
     "name": "stdout",
     "output_type": "stream",
     "text": [
      "CD"
     ]
    },
    {
     "name": "stdout",
     "output_type": "stream",
     "text": [
      "Reporter"
     ]
    },
    {
     "name": "stdout",
     "output_type": "stream",
     "text": [
      "(f"
     ]
    },
    {
     "name": "stdout",
     "output_type": "stream",
     "text": [
      "'"
     ]
    },
    {
     "name": "stdout",
     "output_type": "stream",
     "text": [
      "4"
     ]
    },
    {
     "name": "stdout",
     "output_type": "stream",
     "text": [
      "R"
     ]
    },
    {
     "name": "stdout",
     "output_type": "stream",
     "text": [
      "MB"
     ]
    },
    {
     "name": "stdout",
     "output_type": "stream",
     "text": [
      "_{"
     ]
    },
    {
     "name": "stdout",
     "output_type": "stream",
     "text": [
      "temp"
     ]
    },
    {
     "name": "stdout",
     "output_type": "stream",
     "text": [
      "}"
     ]
    },
    {
     "name": "stdout",
     "output_type": "stream",
     "text": [
      "K"
     ]
    },
    {
     "name": "stdout",
     "output_type": "stream",
     "text": [
      ".d"
     ]
    },
    {
     "name": "stdout",
     "output_type": "stream",
     "text": [
      "cd"
     ]
    },
    {
     "name": "stdout",
     "output_type": "stream",
     "text": [
      "',"
     ]
    },
    {
     "name": "stdout",
     "output_type": "stream",
     "text": [
      " steps"
     ]
    },
    {
     "name": "stdout",
     "output_type": "stream",
     "text": [
      "_per"
     ]
    },
    {
     "name": "stdout",
     "output_type": "stream",
     "text": [
      "_ps"
     ]
    },
    {
     "name": "stdout",
     "output_type": "stream",
     "text": [
      "))"
     ]
    },
    {
     "name": "stdout",
     "output_type": "stream",
     "text": [
      "\\"
     ]
    },
    {
     "name": "stdout",
     "output_type": "stream",
     "text": [
      "n"
     ]
    },
    {
     "name": "stdout",
     "output_type": "stream",
     "text": [
      "   "
     ]
    },
    {
     "name": "stdout",
     "output_type": "stream",
     "text": [
      " simulation"
     ]
    },
    {
     "name": "stdout",
     "output_type": "stream",
     "text": [
      ".report"
     ]
    },
    {
     "name": "stdout",
     "output_type": "stream",
     "text": [
      "ers"
     ]
    },
    {
     "name": "stdout",
     "output_type": "stream",
     "text": [
      ".append"
     ]
    },
    {
     "name": "stdout",
     "output_type": "stream",
     "text": [
      "(app"
     ]
    },
    {
     "name": "stdout",
     "output_type": "stream",
     "text": [
      ".State"
     ]
    },
    {
     "name": "stdout",
     "output_type": "stream",
     "text": [
      "Data"
     ]
    },
    {
     "name": "stdout",
     "output_type": "stream",
     "text": [
      "Reporter"
     ]
    },
    {
     "name": "stdout",
     "output_type": "stream",
     "text": [
      "(f"
     ]
    },
    {
     "name": "stdout",
     "output_type": "stream",
     "text": [
      "'"
     ]
    },
    {
     "name": "stdout",
     "output_type": "stream",
     "text": [
      "4"
     ]
    },
    {
     "name": "stdout",
     "output_type": "stream",
     "text": [
      "R"
     ]
    },
    {
     "name": "stdout",
     "output_type": "stream",
     "text": [
      "MB"
     ]
    },
    {
     "name": "stdout",
     "output_type": "stream",
     "text": [
      "_{"
     ]
    },
    {
     "name": "stdout",
     "output_type": "stream",
     "text": [
      "temp"
     ]
    },
    {
     "name": "stdout",
     "output_type": "stream",
     "text": [
      "}"
     ]
    },
    {
     "name": "stdout",
     "output_type": "stream",
     "text": [
      "K"
     ]
    },
    {
     "name": "stdout",
     "output_type": "stream",
     "text": [
      ".log"
     ]
    },
    {
     "name": "stdout",
     "output_type": "stream",
     "text": [
      "',"
     ]
    },
    {
     "name": "stdout",
     "output_type": "stream",
     "text": [
      " steps"
     ]
    },
    {
     "name": "stdout",
     "output_type": "stream",
     "text": [
      "_per"
     ]
    },
    {
     "name": "stdout",
     "output_type": "stream",
     "text": [
      "_ps"
     ]
    },
    {
     "name": "stdout",
     "output_type": "stream",
     "text": [
      ","
     ]
    },
    {
     "name": "stdout",
     "output_type": "stream",
     "text": [
      " step"
     ]
    },
    {
     "name": "stdout",
     "output_type": "stream",
     "text": [
      "=True"
     ]
    },
    {
     "name": "stdout",
     "output_type": "stream",
     "text": [
      ","
     ]
    },
    {
     "name": "stdout",
     "output_type": "stream",
     "text": [
      " potential"
     ]
    },
    {
     "name": "stdout",
     "output_type": "stream",
     "text": [
      "Energy"
     ]
    },
    {
     "name": "stdout",
     "output_type": "stream",
     "text": [
      "=True"
     ]
    },
    {
     "name": "stdout",
     "output_type": "stream",
     "text": [
      ","
     ]
    },
    {
     "name": "stdout",
     "output_type": "stream",
     "text": [
      " temperature"
     ]
    },
    {
     "name": "stdout",
     "output_type": "stream",
     "text": [
      "=True"
     ]
    },
    {
     "name": "stdout",
     "output_type": "stream",
     "text": [
      "))"
     ]
    },
    {
     "name": "stdout",
     "output_type": "stream",
     "text": [
      "\\"
     ]
    },
    {
     "name": "stdout",
     "output_type": "stream",
     "text": [
      "n"
     ]
    },
    {
     "name": "stdout",
     "output_type": "stream",
     "text": [
      "   "
     ]
    },
    {
     "name": "stdout",
     "output_type": "stream",
     "text": [
      " simulation"
     ]
    },
    {
     "name": "stdout",
     "output_type": "stream",
     "text": [
      ".step"
     ]
    },
    {
     "name": "stdout",
     "output_type": "stream",
     "text": [
      "(sim"
     ]
    },
    {
     "name": "stdout",
     "output_type": "stream",
     "text": [
      "ulation"
     ]
    },
    {
     "name": "stdout",
     "output_type": "stream",
     "text": [
      "_time"
     ]
    },
    {
     "name": "stdout",
     "output_type": "stream",
     "text": [
      " *"
     ]
    },
    {
     "name": "stdout",
     "output_type": "stream",
     "text": [
      " steps"
     ]
    },
    {
     "name": "stdout",
     "output_type": "stream",
     "text": [
      "_per"
     ]
    },
    {
     "name": "stdout",
     "output_type": "stream",
     "text": [
      "_ps"
     ]
    },
    {
     "name": "stdout",
     "output_type": "stream",
     "text": [
      ")\\"
     ]
    },
    {
     "name": "stdout",
     "output_type": "stream",
     "text": [
      "n"
     ]
    },
    {
     "name": "stdout",
     "output_type": "stream",
     "text": [
      "\\n"
     ]
    },
    {
     "name": "stdout",
     "output_type": "stream",
     "text": [
      "   "
     ]
    },
    {
     "name": "stdout",
     "output_type": "stream",
     "text": [
      " #"
     ]
    },
    {
     "name": "stdout",
     "output_type": "stream",
     "text": [
      " Save"
     ]
    },
    {
     "name": "stdout",
     "output_type": "stream",
     "text": [
      " the"
     ]
    },
    {
     "name": "stdout",
     "output_type": "stream",
     "text": [
      " state"
     ]
    },
    {
     "name": "stdout",
     "output_type": "stream",
     "text": [
      "\\n"
     ]
    },
    {
     "name": "stdout",
     "output_type": "stream",
     "text": [
      "   "
     ]
    },
    {
     "name": "stdout",
     "output_type": "stream",
     "text": [
      " state"
     ]
    },
    {
     "name": "stdout",
     "output_type": "stream",
     "text": [
      " ="
     ]
    },
    {
     "name": "stdout",
     "output_type": "stream",
     "text": [
      " simulation"
     ]
    },
    {
     "name": "stdout",
     "output_type": "stream",
     "text": [
      ".context"
     ]
    },
    {
     "name": "stdout",
     "output_type": "stream",
     "text": [
      ".get"
     ]
    },
    {
     "name": "stdout",
     "output_type": "stream",
     "text": [
      "State"
     ]
    },
    {
     "name": "stdout",
     "output_type": "stream",
     "text": [
      "(get"
     ]
    },
    {
     "name": "stdout",
     "output_type": "stream",
     "text": [
      "Positions"
     ]
    },
    {
     "name": "stdout",
     "output_type": "stream",
     "text": [
      "=True"
     ]
    },
    {
     "name": "stdout",
     "output_type": "stream",
     "text": [
      ","
     ]
    },
    {
     "name": "stdout",
     "output_type": "stream",
     "text": [
      " get"
     ]
    },
    {
     "name": "stdout",
     "output_type": "stream",
     "text": [
      "Vel"
     ]
    },
    {
     "name": "stdout",
     "output_type": "stream",
     "text": [
      "ocities"
     ]
    },
    {
     "name": "stdout",
     "output_type": "stream",
     "text": [
      "=True"
     ]
    },
    {
     "name": "stdout",
     "output_type": "stream",
     "text": [
      ")\\"
     ]
    },
    {
     "name": "stdout",
     "output_type": "stream",
     "text": [
      "n"
     ]
    },
    {
     "name": "stdout",
     "output_type": "stream",
     "text": [
      "   "
     ]
    },
    {
     "name": "stdout",
     "output_type": "stream",
     "text": [
      " with"
     ]
    },
    {
     "name": "stdout",
     "output_type": "stream",
     "text": [
      " open"
     ]
    },
    {
     "name": "stdout",
     "output_type": "stream",
     "text": [
      "(f"
     ]
    },
    {
     "name": "stdout",
     "output_type": "stream",
     "text": [
      "'"
     ]
    },
    {
     "name": "stdout",
     "output_type": "stream",
     "text": [
      "4"
     ]
    },
    {
     "name": "stdout",
     "output_type": "stream",
     "text": [
      "R"
     ]
    },
    {
     "name": "stdout",
     "output_type": "stream",
     "text": [
      "MB"
     ]
    },
    {
     "name": "stdout",
     "output_type": "stream",
     "text": [
      "_{"
     ]
    },
    {
     "name": "stdout",
     "output_type": "stream",
     "text": [
      "temp"
     ]
    },
    {
     "name": "stdout",
     "output_type": "stream",
     "text": [
      "}"
     ]
    },
    {
     "name": "stdout",
     "output_type": "stream",
     "text": [
      "K"
     ]
    },
    {
     "name": "stdout",
     "output_type": "stream",
     "text": [
      ".xml"
     ]
    },
    {
     "name": "stdout",
     "output_type": "stream",
     "text": [
      "',"
     ]
    },
    {
     "name": "stdout",
     "output_type": "stream",
     "text": [
      " '"
     ]
    },
    {
     "name": "stdout",
     "output_type": "stream",
     "text": [
      "w"
     ]
    },
    {
     "name": "stdout",
     "output_type": "stream",
     "text": [
      "')"
     ]
    },
    {
     "name": "stdout",
     "output_type": "stream",
     "text": [
      " as"
     ]
    },
    {
     "name": "stdout",
     "output_type": "stream",
     "text": [
      " f"
     ]
    },
    {
     "name": "stdout",
     "output_type": "stream",
     "text": [
      ":\\"
     ]
    },
    {
     "name": "stdout",
     "output_type": "stream",
     "text": [
      "n"
     ]
    },
    {
     "name": "stdout",
     "output_type": "stream",
     "text": [
      "       "
     ]
    },
    {
     "name": "stdout",
     "output_type": "stream",
     "text": [
      " f"
     ]
    },
    {
     "name": "stdout",
     "output_type": "stream",
     "text": [
      ".write"
     ]
    },
    {
     "name": "stdout",
     "output_type": "stream",
     "text": [
      "(Xml"
     ]
    },
    {
     "name": "stdout",
     "output_type": "stream",
     "text": [
      "Serializer"
     ]
    },
    {
     "name": "stdout",
     "output_type": "stream",
     "text": [
      ".serialize"
     ]
    },
    {
     "name": "stdout",
     "output_type": "stream",
     "text": [
      "(state"
     ]
    },
    {
     "name": "stdout",
     "output_type": "stream",
     "text": [
      "))"
     ]
    },
    {
     "name": "stdout",
     "output_type": "stream",
     "text": [
      "\\"
     ]
    },
    {
     "name": "stdout",
     "output_type": "stream",
     "text": [
      "n"
     ]
    },
    {
     "name": "stdout",
     "output_type": "stream",
     "text": [
      "\\n"
     ]
    },
    {
     "name": "stdout",
     "output_type": "stream",
     "text": [
      "'S"
     ]
    },
    {
     "name": "stdout",
     "output_type": "stream",
     "text": [
      "im"
     ]
    },
    {
     "name": "stdout",
     "output_type": "stream",
     "text": [
      "ulations"
     ]
    },
    {
     "name": "stdout",
     "output_type": "stream",
     "text": [
      " completed"
     ]
    },
    {
     "name": "stdout",
     "output_type": "stream",
     "text": [
      " for"
     ]
    },
    {
     "name": "stdout",
     "output_type": "stream",
     "text": [
      " "
     ]
    },
    {
     "name": "stdout",
     "output_type": "stream",
     "text": [
      "100"
     ]
    },
    {
     "name": "stdout",
     "output_type": "stream",
     "text": [
      "K"
     ]
    },
    {
     "name": "stdout",
     "output_type": "stream",
     "text": [
      ","
     ]
    },
    {
     "name": "stdout",
     "output_type": "stream",
     "text": [
      " "
     ]
    },
    {
     "name": "stdout",
     "output_type": "stream",
     "text": [
      "200"
     ]
    },
    {
     "name": "stdout",
     "output_type": "stream",
     "text": [
      "K"
     ]
    },
    {
     "name": "stdout",
     "output_type": "stream",
     "text": [
      ","
     ]
    },
    {
     "name": "stdout",
     "output_type": "stream",
     "text": [
      " and"
     ]
    },
    {
     "name": "stdout",
     "output_type": "stream",
     "text": [
      " "
     ]
    },
    {
     "name": "stdout",
     "output_type": "stream",
     "text": [
      "300"
     ]
    },
    {
     "name": "stdout",
     "output_type": "stream",
     "text": [
      "K"
     ]
    },
    {
     "name": "stdout",
     "output_type": "stream",
     "text": [
      "'\"\n"
     ]
    },
    {
     "name": "stdout",
     "output_type": "stream",
     "text": [
      "}\n"
     ]
    },
    {
     "name": "stdout",
     "output_type": "stream",
     "text": [
      "``"
     ]
    },
    {
     "name": "stdout",
     "output_type": "stream",
     "text": [
      "`\n"
     ]
    },
    {
     "name": "stdout",
     "output_type": "stream",
     "text": [
      "\u001b[32;1m\u001b[1;3mTo continue with the task, I need to set up and run molecular dynamics simulations at 100K, 200K, and 300K using OpenMM. This involves creating a simulation system, defining the integrator and simulation parameters, and running the simulations for each temperature.\n",
      "\n",
      "Action:\n",
      "```json\n",
      "{\n",
      "  \"action\": \"python_repl\",\n",
      "  \"action_input\": \"from openmm import app, LangevinIntegrator, Platform\\nfrom openmm import unit, Context, XmlSerializer\\nfrom openmm.app import Simulation, PDBFile, ForceField\\nimport os\\n\\n# Load the fixed PDB file\\npdb = PDBFile('4RMB_fixed.pdb')\\n\\n# Load the force field\\nforcefield = ForceField('amber99sb.xml', 'tip3p.xml')\\n\\n# Create the system\\nsystem = forcefield.createSystem(pdb.topology, nonbondedMethod=app.PME, nonbondedCutoff=1.0*unit.nanometers, constraints=app.HBonds)\\n\\n# Define simulation parameters\\ntemperatures = [100, 200, 300]  # in Kelvin\\nsimulation_time = 10  # in picoseconds\\nsteps_per_ps = 1000  # number of steps per picosecond\\n\\n# Run simulations for each temperature\\nfor temp in temperatures:\\n    # Create an integrator\\n    integrator = LangevinIntegrator(temp*unit.kelvin, 1.0/unit.picoseconds, 0.002*unit.picoseconds)\\n    \\n    # Create a simulation\\n    simulation = Simulation(pdb.topology, system, integrator)\\n    simulation.context.setPositions(pdb.positions)\\n    \\n    # Minimize energy\\n    simulation.minimizeEnergy()\\n    \\n    # Equilibrate\\n    simulation.context.setVelocitiesToTemperature(temp*unit.kelvin)\\n    simulation.step(1000)  # 1 ps of equilibration\\n    \\n    # Run the simulation\\n    simulation.reporters.append(app.DCDReporter(f'4RMB_{temp}K.dcd', steps_per_ps))\\n    simulation.reporters.append(app.StateDataReporter(f'4RMB_{temp}K.log', steps_per_ps, step=True, potentialEnergy=True, temperature=True))\\n    simulation.step(simulation_time * steps_per_ps)\\n\\n    # Save the state\\n    state = simulation.context.getState(getPositions=True, getVelocities=True)\\n    with open(f'4RMB_{temp}K.xml', 'w') as f:\\n        f.write(XmlSerializer.serialize(state))\\n\\n'Simulations completed for 100K, 200K, and 300K'\"\n",
      "}\n",
      "```\n",
      "\u001b[0m"
     ]
    },
    {
     "name": "stdout",
     "output_type": "stream",
     "text": [
      "\n",
      "Observation: \u001b[36;1m\u001b[1;3m\u001b[0m\n",
      "Thought:"
     ]
    },
    {
     "name": "stdout",
     "output_type": "stream",
     "text": [
      "To"
     ]
    },
    {
     "name": "stdout",
     "output_type": "stream",
     "text": [
      " proceed"
     ]
    },
    {
     "name": "stdout",
     "output_type": "stream",
     "text": [
      ","
     ]
    },
    {
     "name": "stdout",
     "output_type": "stream",
     "text": [
      " I"
     ]
    },
    {
     "name": "stdout",
     "output_type": "stream",
     "text": [
      " need"
     ]
    },
    {
     "name": "stdout",
     "output_type": "stream",
     "text": [
      " to"
     ]
    },
    {
     "name": "stdout",
     "output_type": "stream",
     "text": [
      " analyze"
     ]
    },
    {
     "name": "stdout",
     "output_type": "stream",
     "text": [
      " the"
     ]
    },
    {
     "name": "stdout",
     "output_type": "stream",
     "text": [
      " trajectory"
     ]
    },
    {
     "name": "stdout",
     "output_type": "stream",
     "text": [
      " files"
     ]
    },
    {
     "name": "stdout",
     "output_type": "stream",
     "text": [
      " generated"
     ]
    },
    {
     "name": "stdout",
     "output_type": "stream",
     "text": [
      " from"
     ]
    },
    {
     "name": "stdout",
     "output_type": "stream",
     "text": [
      " the"
     ]
    },
    {
     "name": "stdout",
     "output_type": "stream",
     "text": [
      " simulations"
     ]
    },
    {
     "name": "stdout",
     "output_type": "stream",
     "text": [
      " to"
     ]
    },
    {
     "name": "stdout",
     "output_type": "stream",
     "text": [
      " calculate"
     ]
    },
    {
     "name": "stdout",
     "output_type": "stream",
     "text": [
      " the"
     ]
    },
    {
     "name": "stdout",
     "output_type": "stream",
     "text": [
      " radius"
     ]
    },
    {
     "name": "stdout",
     "output_type": "stream",
     "text": [
      " of"
     ]
    },
    {
     "name": "stdout",
     "output_type": "stream",
     "text": [
      " gyr"
     ]
    },
    {
     "name": "stdout",
     "output_type": "stream",
     "text": [
      "ation"
     ]
    },
    {
     "name": "stdout",
     "output_type": "stream",
     "text": [
      " over"
     ]
    },
    {
     "name": "stdout",
     "output_type": "stream",
     "text": [
      " time"
     ]
    },
    {
     "name": "stdout",
     "output_type": "stream",
     "text": [
      " using"
     ]
    },
    {
     "name": "stdout",
     "output_type": "stream",
     "text": [
      " MDT"
     ]
    },
    {
     "name": "stdout",
     "output_type": "stream",
     "text": [
      "raj"
     ]
    },
    {
     "name": "stdout",
     "output_type": "stream",
     "text": [
      "."
     ]
    },
    {
     "name": "stdout",
     "output_type": "stream",
     "text": [
      " After"
     ]
    },
    {
     "name": "stdout",
     "output_type": "stream",
     "text": [
      " that"
     ]
    },
    {
     "name": "stdout",
     "output_type": "stream",
     "text": [
      ","
     ]
    },
    {
     "name": "stdout",
     "output_type": "stream",
     "text": [
      " I"
     ]
    },
    {
     "name": "stdout",
     "output_type": "stream",
     "text": [
      " will"
     ]
    },
    {
     "name": "stdout",
     "output_type": "stream",
     "text": [
      " compare"
     ]
    },
    {
     "name": "stdout",
     "output_type": "stream",
     "text": [
      " the"
     ]
    },
    {
     "name": "stdout",
     "output_type": "stream",
     "text": [
      " secondary"
     ]
    },
    {
     "name": "stdout",
     "output_type": "stream",
     "text": [
      " structure"
     ]
    },
    {
     "name": "stdout",
     "output_type": "stream",
     "text": [
      " before"
     ]
    },
    {
     "name": "stdout",
     "output_type": "stream",
     "text": [
      " and"
     ]
    },
    {
     "name": "stdout",
     "output_type": "stream",
     "text": [
      " after"
     ]
    },
    {
     "name": "stdout",
     "output_type": "stream",
     "text": [
      " the"
     ]
    },
    {
     "name": "stdout",
     "output_type": "stream",
     "text": [
      " simulation"
     ]
    },
    {
     "name": "stdout",
     "output_type": "stream",
     "text": [
      " for"
     ]
    },
    {
     "name": "stdout",
     "output_type": "stream",
     "text": [
      " each"
     ]
    },
    {
     "name": "stdout",
     "output_type": "stream",
     "text": [
      " temperature"
     ]
    },
    {
     "name": "stdout",
     "output_type": "stream",
     "text": [
      ".\n",
      "\n"
     ]
    },
    {
     "name": "stdout",
     "output_type": "stream",
     "text": [
      "Action"
     ]
    },
    {
     "name": "stdout",
     "output_type": "stream",
     "text": [
      ":\n"
     ]
    },
    {
     "name": "stdout",
     "output_type": "stream",
     "text": [
      "```"
     ]
    },
    {
     "name": "stdout",
     "output_type": "stream",
     "text": [
      "json"
     ]
    },
    {
     "name": "stdout",
     "output_type": "stream",
     "text": [
      "\n"
     ]
    },
    {
     "name": "stdout",
     "output_type": "stream",
     "text": [
      "{\n"
     ]
    },
    {
     "name": "stdout",
     "output_type": "stream",
     "text": [
      " "
     ]
    },
    {
     "name": "stdout",
     "output_type": "stream",
     "text": [
      " \""
     ]
    },
    {
     "name": "stdout",
     "output_type": "stream",
     "text": [
      "action"
     ]
    },
    {
     "name": "stdout",
     "output_type": "stream",
     "text": [
      "\":"
     ]
    },
    {
     "name": "stdout",
     "output_type": "stream",
     "text": [
      " \""
     ]
    },
    {
     "name": "stdout",
     "output_type": "stream",
     "text": [
      "python"
     ]
    },
    {
     "name": "stdout",
     "output_type": "stream",
     "text": [
      "_re"
     ]
    },
    {
     "name": "stdout",
     "output_type": "stream",
     "text": [
      "pl"
     ]
    },
    {
     "name": "stdout",
     "output_type": "stream",
     "text": [
      "\",\n"
     ]
    },
    {
     "name": "stdout",
     "output_type": "stream",
     "text": [
      " "
     ]
    },
    {
     "name": "stdout",
     "output_type": "stream",
     "text": [
      " \""
     ]
    },
    {
     "name": "stdout",
     "output_type": "stream",
     "text": [
      "action"
     ]
    },
    {
     "name": "stdout",
     "output_type": "stream",
     "text": [
      "_input"
     ]
    },
    {
     "name": "stdout",
     "output_type": "stream",
     "text": [
      "\":"
     ]
    },
    {
     "name": "stdout",
     "output_type": "stream",
     "text": [
      " \""
     ]
    },
    {
     "name": "stdout",
     "output_type": "stream",
     "text": [
      "import"
     ]
    },
    {
     "name": "stdout",
     "output_type": "stream",
     "text": [
      " md"
     ]
    },
    {
     "name": "stdout",
     "output_type": "stream",
     "text": [
      "traj"
     ]
    },
    {
     "name": "stdout",
     "output_type": "stream",
     "text": [
      " as"
     ]
    },
    {
     "name": "stdout",
     "output_type": "stream",
     "text": [
      " md"
     ]
    },
    {
     "name": "stdout",
     "output_type": "stream",
     "text": [
      "\\n"
     ]
    },
    {
     "name": "stdout",
     "output_type": "stream",
     "text": [
      "import"
     ]
    },
    {
     "name": "stdout",
     "output_type": "stream",
     "text": [
      " matplotlib"
     ]
    },
    {
     "name": "stdout",
     "output_type": "stream",
     "text": [
      ".pyplot"
     ]
    },
    {
     "name": "stdout",
     "output_type": "stream",
     "text": [
      " as"
     ]
    },
    {
     "name": "stdout",
     "output_type": "stream",
     "text": [
      " plt"
     ]
    },
    {
     "name": "stdout",
     "output_type": "stream",
     "text": [
      "\\n"
     ]
    },
    {
     "name": "stdout",
     "output_type": "stream",
     "text": [
      "\\n"
     ]
    },
    {
     "name": "stdout",
     "output_type": "stream",
     "text": [
      "#"
     ]
    },
    {
     "name": "stdout",
     "output_type": "stream",
     "text": [
      " Function"
     ]
    },
    {
     "name": "stdout",
     "output_type": "stream",
     "text": [
      " to"
     ]
    },
    {
     "name": "stdout",
     "output_type": "stream",
     "text": [
      " calculate"
     ]
    },
    {
     "name": "stdout",
     "output_type": "stream",
     "text": [
      " and"
     ]
    },
    {
     "name": "stdout",
     "output_type": "stream",
     "text": [
      " plot"
     ]
    },
    {
     "name": "stdout",
     "output_type": "stream",
     "text": [
      " radius"
     ]
    },
    {
     "name": "stdout",
     "output_type": "stream",
     "text": [
      " of"
     ]
    },
    {
     "name": "stdout",
     "output_type": "stream",
     "text": [
      " gyr"
     ]
    },
    {
     "name": "stdout",
     "output_type": "stream",
     "text": [
      "ation"
     ]
    },
    {
     "name": "stdout",
     "output_type": "stream",
     "text": [
      "\\"
     ]
    },
    {
     "name": "stdout",
     "output_type": "stream",
     "text": [
      "ndef"
     ]
    },
    {
     "name": "stdout",
     "output_type": "stream",
     "text": [
      " plot"
     ]
    },
    {
     "name": "stdout",
     "output_type": "stream",
     "text": [
      "_radius"
     ]
    },
    {
     "name": "stdout",
     "output_type": "stream",
     "text": [
      "_of"
     ]
    },
    {
     "name": "stdout",
     "output_type": "stream",
     "text": [
      "_g"
     ]
    },
    {
     "name": "stdout",
     "output_type": "stream",
     "text": [
      "yr"
     ]
    },
    {
     "name": "stdout",
     "output_type": "stream",
     "text": [
      "ation"
     ]
    },
    {
     "name": "stdout",
     "output_type": "stream",
     "text": [
      "("
     ]
    },
    {
     "name": "stdout",
     "output_type": "stream",
     "text": [
      "temperature"
     ]
    },
    {
     "name": "stdout",
     "output_type": "stream",
     "text": [
      "):"
     ]
    },
    {
     "name": "stdout",
     "output_type": "stream",
     "text": [
      "\\"
     ]
    },
    {
     "name": "stdout",
     "output_type": "stream",
     "text": [
      "n"
     ]
    },
    {
     "name": "stdout",
     "output_type": "stream",
     "text": [
      "   "
     ]
    },
    {
     "name": "stdout",
     "output_type": "stream",
     "text": [
      " #"
     ]
    },
    {
     "name": "stdout",
     "output_type": "stream",
     "text": [
      " Load"
     ]
    },
    {
     "name": "stdout",
     "output_type": "stream",
     "text": [
      " the"
     ]
    },
    {
     "name": "stdout",
     "output_type": "stream",
     "text": [
      " trajectory"
     ]
    },
    {
     "name": "stdout",
     "output_type": "stream",
     "text": [
      "\\n"
     ]
    },
    {
     "name": "stdout",
     "output_type": "stream",
     "text": [
      "   "
     ]
    },
    {
     "name": "stdout",
     "output_type": "stream",
     "text": [
      " traj"
     ]
    },
    {
     "name": "stdout",
     "output_type": "stream",
     "text": [
      " ="
     ]
    },
    {
     "name": "stdout",
     "output_type": "stream",
     "text": [
      " md"
     ]
    },
    {
     "name": "stdout",
     "output_type": "stream",
     "text": [
      ".load"
     ]
    },
    {
     "name": "stdout",
     "output_type": "stream",
     "text": [
      "_d"
     ]
    },
    {
     "name": "stdout",
     "output_type": "stream",
     "text": [
      "cd"
     ]
    },
    {
     "name": "stdout",
     "output_type": "stream",
     "text": [
      "(f"
     ]
    },
    {
     "name": "stdout",
     "output_type": "stream",
     "text": [
      "'"
     ]
    },
    {
     "name": "stdout",
     "output_type": "stream",
     "text": [
      "4"
     ]
    },
    {
     "name": "stdout",
     "output_type": "stream",
     "text": [
      "R"
     ]
    },
    {
     "name": "stdout",
     "output_type": "stream",
     "text": [
      "MB"
     ]
    },
    {
     "name": "stdout",
     "output_type": "stream",
     "text": [
      "_{"
     ]
    },
    {
     "name": "stdout",
     "output_type": "stream",
     "text": [
      "temperature"
     ]
    },
    {
     "name": "stdout",
     "output_type": "stream",
     "text": [
      "}"
     ]
    },
    {
     "name": "stdout",
     "output_type": "stream",
     "text": [
      "K"
     ]
    },
    {
     "name": "stdout",
     "output_type": "stream",
     "text": [
      ".d"
     ]
    },
    {
     "name": "stdout",
     "output_type": "stream",
     "text": [
      "cd"
     ]
    },
    {
     "name": "stdout",
     "output_type": "stream",
     "text": [
      "',"
     ]
    },
    {
     "name": "stdout",
     "output_type": "stream",
     "text": [
      " top"
     ]
    },
    {
     "name": "stdout",
     "output_type": "stream",
     "text": [
      "='"
     ]
    },
    {
     "name": "stdout",
     "output_type": "stream",
     "text": [
      "4"
     ]
    },
    {
     "name": "stdout",
     "output_type": "stream",
     "text": [
      "R"
     ]
    },
    {
     "name": "stdout",
     "output_type": "stream",
     "text": [
      "MB"
     ]
    },
    {
     "name": "stdout",
     "output_type": "stream",
     "text": [
      "_fixed"
     ]
    },
    {
     "name": "stdout",
     "output_type": "stream",
     "text": [
      ".p"
     ]
    },
    {
     "name": "stdout",
     "output_type": "stream",
     "text": [
      "db"
     ]
    },
    {
     "name": "stdout",
     "output_type": "stream",
     "text": [
      "')"
     ]
    },
    {
     "name": "stdout",
     "output_type": "stream",
     "text": [
      "\\"
     ]
    },
    {
     "name": "stdout",
     "output_type": "stream",
     "text": [
      "n"
     ]
    },
    {
     "name": "stdout",
     "output_type": "stream",
     "text": [
      "   "
     ]
    },
    {
     "name": "stdout",
     "output_type": "stream",
     "text": [
      " \\"
     ]
    },
    {
     "name": "stdout",
     "output_type": "stream",
     "text": [
      "n"
     ]
    },
    {
     "name": "stdout",
     "output_type": "stream",
     "text": [
      "   "
     ]
    },
    {
     "name": "stdout",
     "output_type": "stream",
     "text": [
      " #"
     ]
    },
    {
     "name": "stdout",
     "output_type": "stream",
     "text": [
      " Calculate"
     ]
    },
    {
     "name": "stdout",
     "output_type": "stream",
     "text": [
      " radius"
     ]
    },
    {
     "name": "stdout",
     "output_type": "stream",
     "text": [
      " of"
     ]
    },
    {
     "name": "stdout",
     "output_type": "stream",
     "text": [
      " gyr"
     ]
    },
    {
     "name": "stdout",
     "output_type": "stream",
     "text": [
      "ation"
     ]
    },
    {
     "name": "stdout",
     "output_type": "stream",
     "text": [
      "\\n"
     ]
    },
    {
     "name": "stdout",
     "output_type": "stream",
     "text": [
      "   "
     ]
    },
    {
     "name": "stdout",
     "output_type": "stream",
     "text": [
      " rg"
     ]
    },
    {
     "name": "stdout",
     "output_type": "stream",
     "text": [
      " ="
     ]
    },
    {
     "name": "stdout",
     "output_type": "stream",
     "text": [
      " md"
     ]
    },
    {
     "name": "stdout",
     "output_type": "stream",
     "text": [
      ".compute"
     ]
    },
    {
     "name": "stdout",
     "output_type": "stream",
     "text": [
      "_rg"
     ]
    },
    {
     "name": "stdout",
     "output_type": "stream",
     "text": [
      "(tr"
     ]
    },
    {
     "name": "stdout",
     "output_type": "stream",
     "text": [
      "aj"
     ]
    },
    {
     "name": "stdout",
     "output_type": "stream",
     "text": [
      ")\\"
     ]
    },
    {
     "name": "stdout",
     "output_type": "stream",
     "text": [
      "n"
     ]
    },
    {
     "name": "stdout",
     "output_type": "stream",
     "text": [
      "   "
     ]
    },
    {
     "name": "stdout",
     "output_type": "stream",
     "text": [
      " \\"
     ]
    },
    {
     "name": "stdout",
     "output_type": "stream",
     "text": [
      "n"
     ]
    },
    {
     "name": "stdout",
     "output_type": "stream",
     "text": [
      "   "
     ]
    },
    {
     "name": "stdout",
     "output_type": "stream",
     "text": [
      " #"
     ]
    },
    {
     "name": "stdout",
     "output_type": "stream",
     "text": [
      " Plot"
     ]
    },
    {
     "name": "stdout",
     "output_type": "stream",
     "text": [
      "\\n"
     ]
    },
    {
     "name": "stdout",
     "output_type": "stream",
     "text": [
      "   "
     ]
    },
    {
     "name": "stdout",
     "output_type": "stream",
     "text": [
      " plt"
     ]
    },
    {
     "name": "stdout",
     "output_type": "stream",
     "text": [
      ".figure"
     ]
    },
    {
     "name": "stdout",
     "output_type": "stream",
     "text": [
      "()\\"
     ]
    },
    {
     "name": "stdout",
     "output_type": "stream",
     "text": [
      "n"
     ]
    },
    {
     "name": "stdout",
     "output_type": "stream",
     "text": [
      "   "
     ]
    },
    {
     "name": "stdout",
     "output_type": "stream",
     "text": [
      " plt"
     ]
    },
    {
     "name": "stdout",
     "output_type": "stream",
     "text": [
      ".plot"
     ]
    },
    {
     "name": "stdout",
     "output_type": "stream",
     "text": [
      "(tr"
     ]
    },
    {
     "name": "stdout",
     "output_type": "stream",
     "text": [
      "aj"
     ]
    },
    {
     "name": "stdout",
     "output_type": "stream",
     "text": [
      ".time"
     ]
    },
    {
     "name": "stdout",
     "output_type": "stream",
     "text": [
      ","
     ]
    },
    {
     "name": "stdout",
     "output_type": "stream",
     "text": [
      " rg"
     ]
    },
    {
     "name": "stdout",
     "output_type": "stream",
     "text": [
      ")\\"
     ]
    },
    {
     "name": "stdout",
     "output_type": "stream",
     "text": [
      "n"
     ]
    },
    {
     "name": "stdout",
     "output_type": "stream",
     "text": [
      "   "
     ]
    },
    {
     "name": "stdout",
     "output_type": "stream",
     "text": [
      " plt"
     ]
    },
    {
     "name": "stdout",
     "output_type": "stream",
     "text": [
      ".xlabel"
     ]
    },
    {
     "name": "stdout",
     "output_type": "stream",
     "text": [
      "('"
     ]
    },
    {
     "name": "stdout",
     "output_type": "stream",
     "text": [
      "Time"
     ]
    },
    {
     "name": "stdout",
     "output_type": "stream",
     "text": [
      " ("
     ]
    },
    {
     "name": "stdout",
     "output_type": "stream",
     "text": [
      "ps"
     ]
    },
    {
     "name": "stdout",
     "output_type": "stream",
     "text": [
      ")"
     ]
    },
    {
     "name": "stdout",
     "output_type": "stream",
     "text": [
      "')"
     ]
    },
    {
     "name": "stdout",
     "output_type": "stream",
     "text": [
      "\\"
     ]
    },
    {
     "name": "stdout",
     "output_type": "stream",
     "text": [
      "n"
     ]
    },
    {
     "name": "stdout",
     "output_type": "stream",
     "text": [
      "   "
     ]
    },
    {
     "name": "stdout",
     "output_type": "stream",
     "text": [
      " plt"
     ]
    },
    {
     "name": "stdout",
     "output_type": "stream",
     "text": [
      ".ylabel"
     ]
    },
    {
     "name": "stdout",
     "output_type": "stream",
     "text": [
      "('"
     ]
    },
    {
     "name": "stdout",
     "output_type": "stream",
     "text": [
      "Radius"
     ]
    },
    {
     "name": "stdout",
     "output_type": "stream",
     "text": [
      " of"
     ]
    },
    {
     "name": "stdout",
     "output_type": "stream",
     "text": [
      " G"
     ]
    },
    {
     "name": "stdout",
     "output_type": "stream",
     "text": [
      "yr"
     ]
    },
    {
     "name": "stdout",
     "output_type": "stream",
     "text": [
      "ation"
     ]
    },
    {
     "name": "stdout",
     "output_type": "stream",
     "text": [
      " ("
     ]
    },
    {
     "name": "stdout",
     "output_type": "stream",
     "text": [
      "nm"
     ]
    },
    {
     "name": "stdout",
     "output_type": "stream",
     "text": [
      ")"
     ]
    },
    {
     "name": "stdout",
     "output_type": "stream",
     "text": [
      "')"
     ]
    },
    {
     "name": "stdout",
     "output_type": "stream",
     "text": [
      "\\"
     ]
    },
    {
     "name": "stdout",
     "output_type": "stream",
     "text": [
      "n"
     ]
    },
    {
     "name": "stdout",
     "output_type": "stream",
     "text": [
      "   "
     ]
    },
    {
     "name": "stdout",
     "output_type": "stream",
     "text": [
      " plt"
     ]
    },
    {
     "name": "stdout",
     "output_type": "stream",
     "text": [
      ".title"
     ]
    },
    {
     "name": "stdout",
     "output_type": "stream",
     "text": [
      "(f"
     ]
    },
    {
     "name": "stdout",
     "output_type": "stream",
     "text": [
      "'"
     ]
    },
    {
     "name": "stdout",
     "output_type": "stream",
     "text": [
      "Radius"
     ]
    },
    {
     "name": "stdout",
     "output_type": "stream",
     "text": [
      " of"
     ]
    },
    {
     "name": "stdout",
     "output_type": "stream",
     "text": [
      " G"
     ]
    },
    {
     "name": "stdout",
     "output_type": "stream",
     "text": [
      "yr"
     ]
    },
    {
     "name": "stdout",
     "output_type": "stream",
     "text": [
      "ation"
     ]
    },
    {
     "name": "stdout",
     "output_type": "stream",
     "text": [
      " at"
     ]
    },
    {
     "name": "stdout",
     "output_type": "stream",
     "text": [
      " {"
     ]
    },
    {
     "name": "stdout",
     "output_type": "stream",
     "text": [
      "temperature"
     ]
    },
    {
     "name": "stdout",
     "output_type": "stream",
     "text": [
      "}"
     ]
    },
    {
     "name": "stdout",
     "output_type": "stream",
     "text": [
      "K"
     ]
    },
    {
     "name": "stdout",
     "output_type": "stream",
     "text": [
      "')"
     ]
    },
    {
     "name": "stdout",
     "output_type": "stream",
     "text": [
      "\\"
     ]
    },
    {
     "name": "stdout",
     "output_type": "stream",
     "text": [
      "n"
     ]
    },
    {
     "name": "stdout",
     "output_type": "stream",
     "text": [
      "   "
     ]
    },
    {
     "name": "stdout",
     "output_type": "stream",
     "text": [
      " plt"
     ]
    },
    {
     "name": "stdout",
     "output_type": "stream",
     "text": [
      ".savefig"
     ]
    },
    {
     "name": "stdout",
     "output_type": "stream",
     "text": [
      "(f"
     ]
    },
    {
     "name": "stdout",
     "output_type": "stream",
     "text": [
      "'"
     ]
    },
    {
     "name": "stdout",
     "output_type": "stream",
     "text": [
      "Rg"
     ]
    },
    {
     "name": "stdout",
     "output_type": "stream",
     "text": [
      "_{"
     ]
    },
    {
     "name": "stdout",
     "output_type": "stream",
     "text": [
      "temperature"
     ]
    },
    {
     "name": "stdout",
     "output_type": "stream",
     "text": [
      "}"
     ]
    },
    {
     "name": "stdout",
     "output_type": "stream",
     "text": [
      "K"
     ]
    },
    {
     "name": "stdout",
     "output_type": "stream",
     "text": [
      ".png"
     ]
    },
    {
     "name": "stdout",
     "output_type": "stream",
     "text": [
      "')"
     ]
    },
    {
     "name": "stdout",
     "output_type": "stream",
     "text": [
      "\\"
     ]
    },
    {
     "name": "stdout",
     "output_type": "stream",
     "text": [
      "n"
     ]
    },
    {
     "name": "stdout",
     "output_type": "stream",
     "text": [
      "   "
     ]
    },
    {
     "name": "stdout",
     "output_type": "stream",
     "text": [
      " plt"
     ]
    },
    {
     "name": "stdout",
     "output_type": "stream",
     "text": [
      ".close"
     ]
    },
    {
     "name": "stdout",
     "output_type": "stream",
     "text": [
      "()\\"
     ]
    },
    {
     "name": "stdout",
     "output_type": "stream",
     "text": [
      "n"
     ]
    },
    {
     "name": "stdout",
     "output_type": "stream",
     "text": [
      "\\n"
     ]
    },
    {
     "name": "stdout",
     "output_type": "stream",
     "text": [
      "#"
     ]
    },
    {
     "name": "stdout",
     "output_type": "stream",
     "text": [
      " Calculate"
     ]
    },
    {
     "name": "stdout",
     "output_type": "stream",
     "text": [
      " and"
     ]
    },
    {
     "name": "stdout",
     "output_type": "stream",
     "text": [
      " plot"
     ]
    },
    {
     "name": "stdout",
     "output_type": "stream",
     "text": [
      " for"
     ]
    },
    {
     "name": "stdout",
     "output_type": "stream",
     "text": [
      " each"
     ]
    },
    {
     "name": "stdout",
     "output_type": "stream",
     "text": [
      " temperature"
     ]
    },
    {
     "name": "stdout",
     "output_type": "stream",
     "text": [
      "\\"
     ]
    },
    {
     "name": "stdout",
     "output_type": "stream",
     "text": [
      "nt"
     ]
    },
    {
     "name": "stdout",
     "output_type": "stream",
     "text": [
      "emper"
     ]
    },
    {
     "name": "stdout",
     "output_type": "stream",
     "text": [
      "atures"
     ]
    },
    {
     "name": "stdout",
     "output_type": "stream",
     "text": [
      " ="
     ]
    },
    {
     "name": "stdout",
     "output_type": "stream",
     "text": [
      " ["
     ]
    },
    {
     "name": "stdout",
     "output_type": "stream",
     "text": [
      "100"
     ]
    },
    {
     "name": "stdout",
     "output_type": "stream",
     "text": [
      ","
     ]
    },
    {
     "name": "stdout",
     "output_type": "stream",
     "text": [
      " "
     ]
    },
    {
     "name": "stdout",
     "output_type": "stream",
     "text": [
      "200"
     ]
    },
    {
     "name": "stdout",
     "output_type": "stream",
     "text": [
      ","
     ]
    },
    {
     "name": "stdout",
     "output_type": "stream",
     "text": [
      " "
     ]
    },
    {
     "name": "stdout",
     "output_type": "stream",
     "text": [
      "300"
     ]
    },
    {
     "name": "stdout",
     "output_type": "stream",
     "text": [
      "]\\"
     ]
    },
    {
     "name": "stdout",
     "output_type": "stream",
     "text": [
      "n"
     ]
    },
    {
     "name": "stdout",
     "output_type": "stream",
     "text": [
      "for"
     ]
    },
    {
     "name": "stdout",
     "output_type": "stream",
     "text": [
      " temp"
     ]
    },
    {
     "name": "stdout",
     "output_type": "stream",
     "text": [
      " in"
     ]
    },
    {
     "name": "stdout",
     "output_type": "stream",
     "text": [
      " temperatures"
     ]
    },
    {
     "name": "stdout",
     "output_type": "stream",
     "text": [
      ":\\"
     ]
    },
    {
     "name": "stdout",
     "output_type": "stream",
     "text": [
      "n"
     ]
    },
    {
     "name": "stdout",
     "output_type": "stream",
     "text": [
      "   "
     ]
    },
    {
     "name": "stdout",
     "output_type": "stream",
     "text": [
      " plot"
     ]
    },
    {
     "name": "stdout",
     "output_type": "stream",
     "text": [
      "_radius"
     ]
    },
    {
     "name": "stdout",
     "output_type": "stream",
     "text": [
      "_of"
     ]
    },
    {
     "name": "stdout",
     "output_type": "stream",
     "text": [
      "_g"
     ]
    },
    {
     "name": "stdout",
     "output_type": "stream",
     "text": [
      "yr"
     ]
    },
    {
     "name": "stdout",
     "output_type": "stream",
     "text": [
      "ation"
     ]
    },
    {
     "name": "stdout",
     "output_type": "stream",
     "text": [
      "(temp"
     ]
    },
    {
     "name": "stdout",
     "output_type": "stream",
     "text": [
      ")\\"
     ]
    },
    {
     "name": "stdout",
     "output_type": "stream",
     "text": [
      "n"
     ]
    },
    {
     "name": "stdout",
     "output_type": "stream",
     "text": [
      "\\n"
     ]
    },
    {
     "name": "stdout",
     "output_type": "stream",
     "text": [
      "'"
     ]
    },
    {
     "name": "stdout",
     "output_type": "stream",
     "text": [
      "Radius"
     ]
    },
    {
     "name": "stdout",
     "output_type": "stream",
     "text": [
      " of"
     ]
    },
    {
     "name": "stdout",
     "output_type": "stream",
     "text": [
      " gyr"
     ]
    },
    {
     "name": "stdout",
     "output_type": "stream",
     "text": [
      "ation"
     ]
    },
    {
     "name": "stdout",
     "output_type": "stream",
     "text": [
      " plots"
     ]
    },
    {
     "name": "stdout",
     "output_type": "stream",
     "text": [
      " created"
     ]
    },
    {
     "name": "stdout",
     "output_type": "stream",
     "text": [
      " for"
     ]
    },
    {
     "name": "stdout",
     "output_type": "stream",
     "text": [
      " "
     ]
    },
    {
     "name": "stdout",
     "output_type": "stream",
     "text": [
      "100"
     ]
    },
    {
     "name": "stdout",
     "output_type": "stream",
     "text": [
      "K"
     ]
    },
    {
     "name": "stdout",
     "output_type": "stream",
     "text": [
      ","
     ]
    },
    {
     "name": "stdout",
     "output_type": "stream",
     "text": [
      " "
     ]
    },
    {
     "name": "stdout",
     "output_type": "stream",
     "text": [
      "200"
     ]
    },
    {
     "name": "stdout",
     "output_type": "stream",
     "text": [
      "K"
     ]
    },
    {
     "name": "stdout",
     "output_type": "stream",
     "text": [
      ","
     ]
    },
    {
     "name": "stdout",
     "output_type": "stream",
     "text": [
      " and"
     ]
    },
    {
     "name": "stdout",
     "output_type": "stream",
     "text": [
      " "
     ]
    },
    {
     "name": "stdout",
     "output_type": "stream",
     "text": [
      "300"
     ]
    },
    {
     "name": "stdout",
     "output_type": "stream",
     "text": [
      "K"
     ]
    },
    {
     "name": "stdout",
     "output_type": "stream",
     "text": [
      "'\"\n"
     ]
    },
    {
     "name": "stdout",
     "output_type": "stream",
     "text": [
      "}\n"
     ]
    },
    {
     "name": "stdout",
     "output_type": "stream",
     "text": [
      "``"
     ]
    },
    {
     "name": "stdout",
     "output_type": "stream",
     "text": [
      "`\n"
     ]
    },
    {
     "name": "stdout",
     "output_type": "stream",
     "text": [
      "\u001b[32;1m\u001b[1;3mTo proceed, I need to analyze the trajectory files generated from the simulations to calculate the radius of gyration over time using MDTraj. After that, I will compare the secondary structure before and after the simulation for each temperature.\n",
      "\n",
      "Action:\n",
      "```json\n",
      "{\n",
      "  \"action\": \"python_repl\",\n",
      "  \"action_input\": \"import mdtraj as md\\nimport matplotlib.pyplot as plt\\n\\n# Function to calculate and plot radius of gyration\\ndef plot_radius_of_gyration(temperature):\\n    # Load the trajectory\\n    traj = md.load_dcd(f'4RMB_{temperature}K.dcd', top='4RMB_fixed.pdb')\\n    \\n    # Calculate radius of gyration\\n    rg = md.compute_rg(traj)\\n    \\n    # Plot\\n    plt.figure()\\n    plt.plot(traj.time, rg)\\n    plt.xlabel('Time (ps)')\\n    plt.ylabel('Radius of Gyration (nm)')\\n    plt.title(f'Radius of Gyration at {temperature}K')\\n    plt.savefig(f'Rg_{temperature}K.png')\\n    plt.close()\\n\\n# Calculate and plot for each temperature\\ntemperatures = [100, 200, 300]\\nfor temp in temperatures:\\n    plot_radius_of_gyration(temp)\\n\\n'Radius of gyration plots created for 100K, 200K, and 300K'\"\n",
      "}\n",
      "```\n",
      "\u001b[0m\n",
      "Observation: \u001b[36;1m\u001b[1;3mNameError(\"name 'md' is not defined\")\u001b[0m\n",
      "Thought:"
     ]
    },
    {
     "name": "stdout",
     "output_type": "stream",
     "text": [
      "Thought"
     ]
    },
    {
     "name": "stdout",
     "output_type": "stream",
     "text": [
      ":"
     ]
    },
    {
     "name": "stdout",
     "output_type": "stream",
     "text": [
      " It"
     ]
    },
    {
     "name": "stdout",
     "output_type": "stream",
     "text": [
      " seems"
     ]
    },
    {
     "name": "stdout",
     "output_type": "stream",
     "text": [
      " there"
     ]
    },
    {
     "name": "stdout",
     "output_type": "stream",
     "text": [
      " was"
     ]
    },
    {
     "name": "stdout",
     "output_type": "stream",
     "text": [
      " an"
     ]
    },
    {
     "name": "stdout",
     "output_type": "stream",
     "text": [
      " error"
     ]
    },
    {
     "name": "stdout",
     "output_type": "stream",
     "text": [
      " because"
     ]
    },
    {
     "name": "stdout",
     "output_type": "stream",
     "text": [
      " the"
     ]
    },
    {
     "name": "stdout",
     "output_type": "stream",
     "text": [
      " MDT"
     ]
    },
    {
     "name": "stdout",
     "output_type": "stream",
     "text": [
      "raj"
     ]
    },
    {
     "name": "stdout",
     "output_type": "stream",
     "text": [
      " library"
     ]
    },
    {
     "name": "stdout",
     "output_type": "stream",
     "text": [
      " was"
     ]
    },
    {
     "name": "stdout",
     "output_type": "stream",
     "text": [
      " not"
     ]
    },
    {
     "name": "stdout",
     "output_type": "stream",
     "text": [
      " imported"
     ]
    },
    {
     "name": "stdout",
     "output_type": "stream",
     "text": [
      " correctly"
     ]
    },
    {
     "name": "stdout",
     "output_type": "stream",
     "text": [
      "."
     ]
    },
    {
     "name": "stdout",
     "output_type": "stream",
     "text": [
      " I"
     ]
    },
    {
     "name": "stdout",
     "output_type": "stream",
     "text": [
      " will"
     ]
    },
    {
     "name": "stdout",
     "output_type": "stream",
     "text": [
      " correct"
     ]
    },
    {
     "name": "stdout",
     "output_type": "stream",
     "text": [
      " the"
     ]
    },
    {
     "name": "stdout",
     "output_type": "stream",
     "text": [
      " import"
     ]
    },
    {
     "name": "stdout",
     "output_type": "stream",
     "text": [
      " statement"
     ]
    },
    {
     "name": "stdout",
     "output_type": "stream",
     "text": [
      " and"
     ]
    },
    {
     "name": "stdout",
     "output_type": "stream",
     "text": [
      " re"
     ]
    },
    {
     "name": "stdout",
     "output_type": "stream",
     "text": [
      "-run"
     ]
    },
    {
     "name": "stdout",
     "output_type": "stream",
     "text": [
      " the"
     ]
    },
    {
     "name": "stdout",
     "output_type": "stream",
     "text": [
      " analysis"
     ]
    },
    {
     "name": "stdout",
     "output_type": "stream",
     "text": [
      " to"
     ]
    },
    {
     "name": "stdout",
     "output_type": "stream",
     "text": [
      " calculate"
     ]
    },
    {
     "name": "stdout",
     "output_type": "stream",
     "text": [
      " the"
     ]
    },
    {
     "name": "stdout",
     "output_type": "stream",
     "text": [
      " radius"
     ]
    },
    {
     "name": "stdout",
     "output_type": "stream",
     "text": [
      " of"
     ]
    },
    {
     "name": "stdout",
     "output_type": "stream",
     "text": [
      " gyr"
     ]
    },
    {
     "name": "stdout",
     "output_type": "stream",
     "text": [
      "ation"
     ]
    },
    {
     "name": "stdout",
     "output_type": "stream",
     "text": [
      " over"
     ]
    },
    {
     "name": "stdout",
     "output_type": "stream",
     "text": [
      " time"
     ]
    },
    {
     "name": "stdout",
     "output_type": "stream",
     "text": [
      " for"
     ]
    },
    {
     "name": "stdout",
     "output_type": "stream",
     "text": [
      " each"
     ]
    },
    {
     "name": "stdout",
     "output_type": "stream",
     "text": [
      " temperature"
     ]
    },
    {
     "name": "stdout",
     "output_type": "stream",
     "text": [
      ".\n",
      "\n"
     ]
    },
    {
     "name": "stdout",
     "output_type": "stream",
     "text": [
      "Action"
     ]
    },
    {
     "name": "stdout",
     "output_type": "stream",
     "text": [
      ":\n"
     ]
    },
    {
     "name": "stdout",
     "output_type": "stream",
     "text": [
      "```"
     ]
    },
    {
     "name": "stdout",
     "output_type": "stream",
     "text": [
      "json"
     ]
    },
    {
     "name": "stdout",
     "output_type": "stream",
     "text": [
      "\n"
     ]
    },
    {
     "name": "stdout",
     "output_type": "stream",
     "text": [
      "{\n"
     ]
    },
    {
     "name": "stdout",
     "output_type": "stream",
     "text": [
      " "
     ]
    },
    {
     "name": "stdout",
     "output_type": "stream",
     "text": [
      " \""
     ]
    },
    {
     "name": "stdout",
     "output_type": "stream",
     "text": [
      "action"
     ]
    },
    {
     "name": "stdout",
     "output_type": "stream",
     "text": [
      "\":"
     ]
    },
    {
     "name": "stdout",
     "output_type": "stream",
     "text": [
      " \""
     ]
    },
    {
     "name": "stdout",
     "output_type": "stream",
     "text": [
      "python"
     ]
    },
    {
     "name": "stdout",
     "output_type": "stream",
     "text": [
      "_re"
     ]
    },
    {
     "name": "stdout",
     "output_type": "stream",
     "text": [
      "pl"
     ]
    },
    {
     "name": "stdout",
     "output_type": "stream",
     "text": [
      "\",\n"
     ]
    },
    {
     "name": "stdout",
     "output_type": "stream",
     "text": [
      " "
     ]
    },
    {
     "name": "stdout",
     "output_type": "stream",
     "text": [
      " \""
     ]
    },
    {
     "name": "stdout",
     "output_type": "stream",
     "text": [
      "action"
     ]
    },
    {
     "name": "stdout",
     "output_type": "stream",
     "text": [
      "_input"
     ]
    },
    {
     "name": "stdout",
     "output_type": "stream",
     "text": [
      "\":"
     ]
    },
    {
     "name": "stdout",
     "output_type": "stream",
     "text": [
      " \""
     ]
    },
    {
     "name": "stdout",
     "output_type": "stream",
     "text": [
      "import"
     ]
    },
    {
     "name": "stdout",
     "output_type": "stream",
     "text": [
      " md"
     ]
    },
    {
     "name": "stdout",
     "output_type": "stream",
     "text": [
      "traj"
     ]
    },
    {
     "name": "stdout",
     "output_type": "stream",
     "text": [
      " as"
     ]
    },
    {
     "name": "stdout",
     "output_type": "stream",
     "text": [
      " md"
     ]
    },
    {
     "name": "stdout",
     "output_type": "stream",
     "text": [
      "\\n"
     ]
    },
    {
     "name": "stdout",
     "output_type": "stream",
     "text": [
      "import"
     ]
    },
    {
     "name": "stdout",
     "output_type": "stream",
     "text": [
      " matplotlib"
     ]
    },
    {
     "name": "stdout",
     "output_type": "stream",
     "text": [
      ".pyplot"
     ]
    },
    {
     "name": "stdout",
     "output_type": "stream",
     "text": [
      " as"
     ]
    },
    {
     "name": "stdout",
     "output_type": "stream",
     "text": [
      " plt"
     ]
    },
    {
     "name": "stdout",
     "output_type": "stream",
     "text": [
      "\\n"
     ]
    },
    {
     "name": "stdout",
     "output_type": "stream",
     "text": [
      "\\n"
     ]
    },
    {
     "name": "stdout",
     "output_type": "stream",
     "text": [
      "#"
     ]
    },
    {
     "name": "stdout",
     "output_type": "stream",
     "text": [
      " Function"
     ]
    },
    {
     "name": "stdout",
     "output_type": "stream",
     "text": [
      " to"
     ]
    },
    {
     "name": "stdout",
     "output_type": "stream",
     "text": [
      " calculate"
     ]
    },
    {
     "name": "stdout",
     "output_type": "stream",
     "text": [
      " and"
     ]
    },
    {
     "name": "stdout",
     "output_type": "stream",
     "text": [
      " plot"
     ]
    },
    {
     "name": "stdout",
     "output_type": "stream",
     "text": [
      " radius"
     ]
    },
    {
     "name": "stdout",
     "output_type": "stream",
     "text": [
      " of"
     ]
    },
    {
     "name": "stdout",
     "output_type": "stream",
     "text": [
      " gyr"
     ]
    },
    {
     "name": "stdout",
     "output_type": "stream",
     "text": [
      "ation"
     ]
    },
    {
     "name": "stdout",
     "output_type": "stream",
     "text": [
      "\\"
     ]
    },
    {
     "name": "stdout",
     "output_type": "stream",
     "text": [
      "ndef"
     ]
    },
    {
     "name": "stdout",
     "output_type": "stream",
     "text": [
      " plot"
     ]
    },
    {
     "name": "stdout",
     "output_type": "stream",
     "text": [
      "_radius"
     ]
    },
    {
     "name": "stdout",
     "output_type": "stream",
     "text": [
      "_of"
     ]
    },
    {
     "name": "stdout",
     "output_type": "stream",
     "text": [
      "_g"
     ]
    },
    {
     "name": "stdout",
     "output_type": "stream",
     "text": [
      "yr"
     ]
    },
    {
     "name": "stdout",
     "output_type": "stream",
     "text": [
      "ation"
     ]
    },
    {
     "name": "stdout",
     "output_type": "stream",
     "text": [
      "("
     ]
    },
    {
     "name": "stdout",
     "output_type": "stream",
     "text": [
      "temperature"
     ]
    },
    {
     "name": "stdout",
     "output_type": "stream",
     "text": [
      "):"
     ]
    },
    {
     "name": "stdout",
     "output_type": "stream",
     "text": [
      "\\"
     ]
    },
    {
     "name": "stdout",
     "output_type": "stream",
     "text": [
      "n"
     ]
    },
    {
     "name": "stdout",
     "output_type": "stream",
     "text": [
      "   "
     ]
    },
    {
     "name": "stdout",
     "output_type": "stream",
     "text": [
      " #"
     ]
    },
    {
     "name": "stdout",
     "output_type": "stream",
     "text": [
      " Load"
     ]
    },
    {
     "name": "stdout",
     "output_type": "stream",
     "text": [
      " the"
     ]
    },
    {
     "name": "stdout",
     "output_type": "stream",
     "text": [
      " trajectory"
     ]
    },
    {
     "name": "stdout",
     "output_type": "stream",
     "text": [
      "\\n"
     ]
    },
    {
     "name": "stdout",
     "output_type": "stream",
     "text": [
      "   "
     ]
    },
    {
     "name": "stdout",
     "output_type": "stream",
     "text": [
      " traj"
     ]
    },
    {
     "name": "stdout",
     "output_type": "stream",
     "text": [
      " ="
     ]
    },
    {
     "name": "stdout",
     "output_type": "stream",
     "text": [
      " md"
     ]
    },
    {
     "name": "stdout",
     "output_type": "stream",
     "text": [
      ".load"
     ]
    },
    {
     "name": "stdout",
     "output_type": "stream",
     "text": [
      "_d"
     ]
    },
    {
     "name": "stdout",
     "output_type": "stream",
     "text": [
      "cd"
     ]
    },
    {
     "name": "stdout",
     "output_type": "stream",
     "text": [
      "(f"
     ]
    },
    {
     "name": "stdout",
     "output_type": "stream",
     "text": [
      "'"
     ]
    },
    {
     "name": "stdout",
     "output_type": "stream",
     "text": [
      "4"
     ]
    },
    {
     "name": "stdout",
     "output_type": "stream",
     "text": [
      "R"
     ]
    },
    {
     "name": "stdout",
     "output_type": "stream",
     "text": [
      "MB"
     ]
    },
    {
     "name": "stdout",
     "output_type": "stream",
     "text": [
      "_{"
     ]
    },
    {
     "name": "stdout",
     "output_type": "stream",
     "text": [
      "temperature"
     ]
    },
    {
     "name": "stdout",
     "output_type": "stream",
     "text": [
      "}"
     ]
    },
    {
     "name": "stdout",
     "output_type": "stream",
     "text": [
      "K"
     ]
    },
    {
     "name": "stdout",
     "output_type": "stream",
     "text": [
      ".d"
     ]
    },
    {
     "name": "stdout",
     "output_type": "stream",
     "text": [
      "cd"
     ]
    },
    {
     "name": "stdout",
     "output_type": "stream",
     "text": [
      "',"
     ]
    },
    {
     "name": "stdout",
     "output_type": "stream",
     "text": [
      " top"
     ]
    },
    {
     "name": "stdout",
     "output_type": "stream",
     "text": [
      "='"
     ]
    },
    {
     "name": "stdout",
     "output_type": "stream",
     "text": [
      "4"
     ]
    },
    {
     "name": "stdout",
     "output_type": "stream",
     "text": [
      "R"
     ]
    },
    {
     "name": "stdout",
     "output_type": "stream",
     "text": [
      "MB"
     ]
    },
    {
     "name": "stdout",
     "output_type": "stream",
     "text": [
      "_fixed"
     ]
    },
    {
     "name": "stdout",
     "output_type": "stream",
     "text": [
      ".p"
     ]
    },
    {
     "name": "stdout",
     "output_type": "stream",
     "text": [
      "db"
     ]
    },
    {
     "name": "stdout",
     "output_type": "stream",
     "text": [
      "')"
     ]
    },
    {
     "name": "stdout",
     "output_type": "stream",
     "text": [
      "\\"
     ]
    },
    {
     "name": "stdout",
     "output_type": "stream",
     "text": [
      "n"
     ]
    },
    {
     "name": "stdout",
     "output_type": "stream",
     "text": [
      "   "
     ]
    },
    {
     "name": "stdout",
     "output_type": "stream",
     "text": [
      " \\"
     ]
    },
    {
     "name": "stdout",
     "output_type": "stream",
     "text": [
      "n"
     ]
    },
    {
     "name": "stdout",
     "output_type": "stream",
     "text": [
      "   "
     ]
    },
    {
     "name": "stdout",
     "output_type": "stream",
     "text": [
      " #"
     ]
    },
    {
     "name": "stdout",
     "output_type": "stream",
     "text": [
      " Calculate"
     ]
    },
    {
     "name": "stdout",
     "output_type": "stream",
     "text": [
      " radius"
     ]
    },
    {
     "name": "stdout",
     "output_type": "stream",
     "text": [
      " of"
     ]
    },
    {
     "name": "stdout",
     "output_type": "stream",
     "text": [
      " gyr"
     ]
    },
    {
     "name": "stdout",
     "output_type": "stream",
     "text": [
      "ation"
     ]
    },
    {
     "name": "stdout",
     "output_type": "stream",
     "text": [
      "\\n"
     ]
    },
    {
     "name": "stdout",
     "output_type": "stream",
     "text": [
      "   "
     ]
    },
    {
     "name": "stdout",
     "output_type": "stream",
     "text": [
      " rg"
     ]
    },
    {
     "name": "stdout",
     "output_type": "stream",
     "text": [
      " ="
     ]
    },
    {
     "name": "stdout",
     "output_type": "stream",
     "text": [
      " md"
     ]
    },
    {
     "name": "stdout",
     "output_type": "stream",
     "text": [
      ".compute"
     ]
    },
    {
     "name": "stdout",
     "output_type": "stream",
     "text": [
      "_rg"
     ]
    },
    {
     "name": "stdout",
     "output_type": "stream",
     "text": [
      "(tr"
     ]
    },
    {
     "name": "stdout",
     "output_type": "stream",
     "text": [
      "aj"
     ]
    },
    {
     "name": "stdout",
     "output_type": "stream",
     "text": [
      ")\\"
     ]
    },
    {
     "name": "stdout",
     "output_type": "stream",
     "text": [
      "n"
     ]
    },
    {
     "name": "stdout",
     "output_type": "stream",
     "text": [
      "   "
     ]
    },
    {
     "name": "stdout",
     "output_type": "stream",
     "text": [
      " \\"
     ]
    },
    {
     "name": "stdout",
     "output_type": "stream",
     "text": [
      "n"
     ]
    },
    {
     "name": "stdout",
     "output_type": "stream",
     "text": [
      "   "
     ]
    },
    {
     "name": "stdout",
     "output_type": "stream",
     "text": [
      " #"
     ]
    },
    {
     "name": "stdout",
     "output_type": "stream",
     "text": [
      " Plot"
     ]
    },
    {
     "name": "stdout",
     "output_type": "stream",
     "text": [
      "\\n"
     ]
    },
    {
     "name": "stdout",
     "output_type": "stream",
     "text": [
      "   "
     ]
    },
    {
     "name": "stdout",
     "output_type": "stream",
     "text": [
      " plt"
     ]
    },
    {
     "name": "stdout",
     "output_type": "stream",
     "text": [
      ".figure"
     ]
    },
    {
     "name": "stdout",
     "output_type": "stream",
     "text": [
      "()\\"
     ]
    },
    {
     "name": "stdout",
     "output_type": "stream",
     "text": [
      "n"
     ]
    },
    {
     "name": "stdout",
     "output_type": "stream",
     "text": [
      "   "
     ]
    },
    {
     "name": "stdout",
     "output_type": "stream",
     "text": [
      " plt"
     ]
    },
    {
     "name": "stdout",
     "output_type": "stream",
     "text": [
      ".plot"
     ]
    },
    {
     "name": "stdout",
     "output_type": "stream",
     "text": [
      "(tr"
     ]
    },
    {
     "name": "stdout",
     "output_type": "stream",
     "text": [
      "aj"
     ]
    },
    {
     "name": "stdout",
     "output_type": "stream",
     "text": [
      ".time"
     ]
    },
    {
     "name": "stdout",
     "output_type": "stream",
     "text": [
      ","
     ]
    },
    {
     "name": "stdout",
     "output_type": "stream",
     "text": [
      " rg"
     ]
    },
    {
     "name": "stdout",
     "output_type": "stream",
     "text": [
      ")\\"
     ]
    },
    {
     "name": "stdout",
     "output_type": "stream",
     "text": [
      "n"
     ]
    },
    {
     "name": "stdout",
     "output_type": "stream",
     "text": [
      "   "
     ]
    },
    {
     "name": "stdout",
     "output_type": "stream",
     "text": [
      " plt"
     ]
    },
    {
     "name": "stdout",
     "output_type": "stream",
     "text": [
      ".xlabel"
     ]
    },
    {
     "name": "stdout",
     "output_type": "stream",
     "text": [
      "('"
     ]
    },
    {
     "name": "stdout",
     "output_type": "stream",
     "text": [
      "Time"
     ]
    },
    {
     "name": "stdout",
     "output_type": "stream",
     "text": [
      " ("
     ]
    },
    {
     "name": "stdout",
     "output_type": "stream",
     "text": [
      "ps"
     ]
    },
    {
     "name": "stdout",
     "output_type": "stream",
     "text": [
      ")"
     ]
    },
    {
     "name": "stdout",
     "output_type": "stream",
     "text": [
      "')"
     ]
    },
    {
     "name": "stdout",
     "output_type": "stream",
     "text": [
      "\\"
     ]
    },
    {
     "name": "stdout",
     "output_type": "stream",
     "text": [
      "n"
     ]
    },
    {
     "name": "stdout",
     "output_type": "stream",
     "text": [
      "   "
     ]
    },
    {
     "name": "stdout",
     "output_type": "stream",
     "text": [
      " plt"
     ]
    },
    {
     "name": "stdout",
     "output_type": "stream",
     "text": [
      ".ylabel"
     ]
    },
    {
     "name": "stdout",
     "output_type": "stream",
     "text": [
      "('"
     ]
    },
    {
     "name": "stdout",
     "output_type": "stream",
     "text": [
      "Radius"
     ]
    },
    {
     "name": "stdout",
     "output_type": "stream",
     "text": [
      " of"
     ]
    },
    {
     "name": "stdout",
     "output_type": "stream",
     "text": [
      " G"
     ]
    },
    {
     "name": "stdout",
     "output_type": "stream",
     "text": [
      "yr"
     ]
    },
    {
     "name": "stdout",
     "output_type": "stream",
     "text": [
      "ation"
     ]
    },
    {
     "name": "stdout",
     "output_type": "stream",
     "text": [
      " ("
     ]
    },
    {
     "name": "stdout",
     "output_type": "stream",
     "text": [
      "nm"
     ]
    },
    {
     "name": "stdout",
     "output_type": "stream",
     "text": [
      ")"
     ]
    },
    {
     "name": "stdout",
     "output_type": "stream",
     "text": [
      "')"
     ]
    },
    {
     "name": "stdout",
     "output_type": "stream",
     "text": [
      "\\"
     ]
    },
    {
     "name": "stdout",
     "output_type": "stream",
     "text": [
      "n"
     ]
    },
    {
     "name": "stdout",
     "output_type": "stream",
     "text": [
      "   "
     ]
    },
    {
     "name": "stdout",
     "output_type": "stream",
     "text": [
      " plt"
     ]
    },
    {
     "name": "stdout",
     "output_type": "stream",
     "text": [
      ".title"
     ]
    },
    {
     "name": "stdout",
     "output_type": "stream",
     "text": [
      "(f"
     ]
    },
    {
     "name": "stdout",
     "output_type": "stream",
     "text": [
      "'"
     ]
    },
    {
     "name": "stdout",
     "output_type": "stream",
     "text": [
      "Radius"
     ]
    },
    {
     "name": "stdout",
     "output_type": "stream",
     "text": [
      " of"
     ]
    },
    {
     "name": "stdout",
     "output_type": "stream",
     "text": [
      " G"
     ]
    },
    {
     "name": "stdout",
     "output_type": "stream",
     "text": [
      "yr"
     ]
    },
    {
     "name": "stdout",
     "output_type": "stream",
     "text": [
      "ation"
     ]
    },
    {
     "name": "stdout",
     "output_type": "stream",
     "text": [
      " at"
     ]
    },
    {
     "name": "stdout",
     "output_type": "stream",
     "text": [
      " {"
     ]
    },
    {
     "name": "stdout",
     "output_type": "stream",
     "text": [
      "temperature"
     ]
    },
    {
     "name": "stdout",
     "output_type": "stream",
     "text": [
      "}"
     ]
    },
    {
     "name": "stdout",
     "output_type": "stream",
     "text": [
      "K"
     ]
    },
    {
     "name": "stdout",
     "output_type": "stream",
     "text": [
      "')"
     ]
    },
    {
     "name": "stdout",
     "output_type": "stream",
     "text": [
      "\\"
     ]
    },
    {
     "name": "stdout",
     "output_type": "stream",
     "text": [
      "n"
     ]
    },
    {
     "name": "stdout",
     "output_type": "stream",
     "text": [
      "   "
     ]
    },
    {
     "name": "stdout",
     "output_type": "stream",
     "text": [
      " plt"
     ]
    },
    {
     "name": "stdout",
     "output_type": "stream",
     "text": [
      ".savefig"
     ]
    },
    {
     "name": "stdout",
     "output_type": "stream",
     "text": [
      "(f"
     ]
    },
    {
     "name": "stdout",
     "output_type": "stream",
     "text": [
      "'"
     ]
    },
    {
     "name": "stdout",
     "output_type": "stream",
     "text": [
      "Rg"
     ]
    },
    {
     "name": "stdout",
     "output_type": "stream",
     "text": [
      "_{"
     ]
    },
    {
     "name": "stdout",
     "output_type": "stream",
     "text": [
      "temperature"
     ]
    },
    {
     "name": "stdout",
     "output_type": "stream",
     "text": [
      "}"
     ]
    },
    {
     "name": "stdout",
     "output_type": "stream",
     "text": [
      "K"
     ]
    },
    {
     "name": "stdout",
     "output_type": "stream",
     "text": [
      ".png"
     ]
    },
    {
     "name": "stdout",
     "output_type": "stream",
     "text": [
      "')"
     ]
    },
    {
     "name": "stdout",
     "output_type": "stream",
     "text": [
      "\\"
     ]
    },
    {
     "name": "stdout",
     "output_type": "stream",
     "text": [
      "n"
     ]
    },
    {
     "name": "stdout",
     "output_type": "stream",
     "text": [
      "   "
     ]
    },
    {
     "name": "stdout",
     "output_type": "stream",
     "text": [
      " plt"
     ]
    },
    {
     "name": "stdout",
     "output_type": "stream",
     "text": [
      ".close"
     ]
    },
    {
     "name": "stdout",
     "output_type": "stream",
     "text": [
      "()\\"
     ]
    },
    {
     "name": "stdout",
     "output_type": "stream",
     "text": [
      "n"
     ]
    },
    {
     "name": "stdout",
     "output_type": "stream",
     "text": [
      "\\n"
     ]
    },
    {
     "name": "stdout",
     "output_type": "stream",
     "text": [
      "#"
     ]
    },
    {
     "name": "stdout",
     "output_type": "stream",
     "text": [
      " Calculate"
     ]
    },
    {
     "name": "stdout",
     "output_type": "stream",
     "text": [
      " and"
     ]
    },
    {
     "name": "stdout",
     "output_type": "stream",
     "text": [
      " plot"
     ]
    },
    {
     "name": "stdout",
     "output_type": "stream",
     "text": [
      " for"
     ]
    },
    {
     "name": "stdout",
     "output_type": "stream",
     "text": [
      " each"
     ]
    },
    {
     "name": "stdout",
     "output_type": "stream",
     "text": [
      " temperature"
     ]
    },
    {
     "name": "stdout",
     "output_type": "stream",
     "text": [
      "\\"
     ]
    },
    {
     "name": "stdout",
     "output_type": "stream",
     "text": [
      "nt"
     ]
    },
    {
     "name": "stdout",
     "output_type": "stream",
     "text": [
      "emper"
     ]
    },
    {
     "name": "stdout",
     "output_type": "stream",
     "text": [
      "atures"
     ]
    },
    {
     "name": "stdout",
     "output_type": "stream",
     "text": [
      " ="
     ]
    },
    {
     "name": "stdout",
     "output_type": "stream",
     "text": [
      " ["
     ]
    },
    {
     "name": "stdout",
     "output_type": "stream",
     "text": [
      "100"
     ]
    },
    {
     "name": "stdout",
     "output_type": "stream",
     "text": [
      ","
     ]
    },
    {
     "name": "stdout",
     "output_type": "stream",
     "text": [
      " "
     ]
    },
    {
     "name": "stdout",
     "output_type": "stream",
     "text": [
      "200"
     ]
    },
    {
     "name": "stdout",
     "output_type": "stream",
     "text": [
      ","
     ]
    },
    {
     "name": "stdout",
     "output_type": "stream",
     "text": [
      " "
     ]
    },
    {
     "name": "stdout",
     "output_type": "stream",
     "text": [
      "300"
     ]
    },
    {
     "name": "stdout",
     "output_type": "stream",
     "text": [
      "]\\"
     ]
    },
    {
     "name": "stdout",
     "output_type": "stream",
     "text": [
      "n"
     ]
    },
    {
     "name": "stdout",
     "output_type": "stream",
     "text": [
      "for"
     ]
    },
    {
     "name": "stdout",
     "output_type": "stream",
     "text": [
      " temp"
     ]
    },
    {
     "name": "stdout",
     "output_type": "stream",
     "text": [
      " in"
     ]
    },
    {
     "name": "stdout",
     "output_type": "stream",
     "text": [
      " temperatures"
     ]
    },
    {
     "name": "stdout",
     "output_type": "stream",
     "text": [
      ":\\"
     ]
    },
    {
     "name": "stdout",
     "output_type": "stream",
     "text": [
      "n"
     ]
    },
    {
     "name": "stdout",
     "output_type": "stream",
     "text": [
      "   "
     ]
    },
    {
     "name": "stdout",
     "output_type": "stream",
     "text": [
      " plot"
     ]
    },
    {
     "name": "stdout",
     "output_type": "stream",
     "text": [
      "_radius"
     ]
    },
    {
     "name": "stdout",
     "output_type": "stream",
     "text": [
      "_of"
     ]
    },
    {
     "name": "stdout",
     "output_type": "stream",
     "text": [
      "_g"
     ]
    },
    {
     "name": "stdout",
     "output_type": "stream",
     "text": [
      "yr"
     ]
    },
    {
     "name": "stdout",
     "output_type": "stream",
     "text": [
      "ation"
     ]
    },
    {
     "name": "stdout",
     "output_type": "stream",
     "text": [
      "(temp"
     ]
    },
    {
     "name": "stdout",
     "output_type": "stream",
     "text": [
      ")\\"
     ]
    },
    {
     "name": "stdout",
     "output_type": "stream",
     "text": [
      "n"
     ]
    },
    {
     "name": "stdout",
     "output_type": "stream",
     "text": [
      "\\n"
     ]
    },
    {
     "name": "stdout",
     "output_type": "stream",
     "text": [
      "'"
     ]
    },
    {
     "name": "stdout",
     "output_type": "stream",
     "text": [
      "Radius"
     ]
    },
    {
     "name": "stdout",
     "output_type": "stream",
     "text": [
      " of"
     ]
    },
    {
     "name": "stdout",
     "output_type": "stream",
     "text": [
      " gyr"
     ]
    },
    {
     "name": "stdout",
     "output_type": "stream",
     "text": [
      "ation"
     ]
    },
    {
     "name": "stdout",
     "output_type": "stream",
     "text": [
      " plots"
     ]
    },
    {
     "name": "stdout",
     "output_type": "stream",
     "text": [
      " created"
     ]
    },
    {
     "name": "stdout",
     "output_type": "stream",
     "text": [
      " for"
     ]
    },
    {
     "name": "stdout",
     "output_type": "stream",
     "text": [
      " "
     ]
    },
    {
     "name": "stdout",
     "output_type": "stream",
     "text": [
      "100"
     ]
    },
    {
     "name": "stdout",
     "output_type": "stream",
     "text": [
      "K"
     ]
    },
    {
     "name": "stdout",
     "output_type": "stream",
     "text": [
      ","
     ]
    },
    {
     "name": "stdout",
     "output_type": "stream",
     "text": [
      " "
     ]
    },
    {
     "name": "stdout",
     "output_type": "stream",
     "text": [
      "200"
     ]
    },
    {
     "name": "stdout",
     "output_type": "stream",
     "text": [
      "K"
     ]
    },
    {
     "name": "stdout",
     "output_type": "stream",
     "text": [
      ","
     ]
    },
    {
     "name": "stdout",
     "output_type": "stream",
     "text": [
      " and"
     ]
    },
    {
     "name": "stdout",
     "output_type": "stream",
     "text": [
      " "
     ]
    },
    {
     "name": "stdout",
     "output_type": "stream",
     "text": [
      "300"
     ]
    },
    {
     "name": "stdout",
     "output_type": "stream",
     "text": [
      "K"
     ]
    },
    {
     "name": "stdout",
     "output_type": "stream",
     "text": [
      "'\"\n"
     ]
    },
    {
     "name": "stdout",
     "output_type": "stream",
     "text": [
      "}\n"
     ]
    },
    {
     "name": "stdout",
     "output_type": "stream",
     "text": [
      "```"
     ]
    },
    {
     "name": "stdout",
     "output_type": "stream",
     "text": [
      "\u001b[32;1m\u001b[1;3mThought: It seems there was an error because the MDTraj library was not imported correctly. I will correct the import statement and re-run the analysis to calculate the radius of gyration over time for each temperature.\n",
      "\n",
      "Action:\n",
      "```json\n",
      "{\n",
      "  \"action\": \"python_repl\",\n",
      "  \"action_input\": \"import mdtraj as md\\nimport matplotlib.pyplot as plt\\n\\n# Function to calculate and plot radius of gyration\\ndef plot_radius_of_gyration(temperature):\\n    # Load the trajectory\\n    traj = md.load_dcd(f'4RMB_{temperature}K.dcd', top='4RMB_fixed.pdb')\\n    \\n    # Calculate radius of gyration\\n    rg = md.compute_rg(traj)\\n    \\n    # Plot\\n    plt.figure()\\n    plt.plot(traj.time, rg)\\n    plt.xlabel('Time (ps)')\\n    plt.ylabel('Radius of Gyration (nm)')\\n    plt.title(f'Radius of Gyration at {temperature}K')\\n    plt.savefig(f'Rg_{temperature}K.png')\\n    plt.close()\\n\\n# Calculate and plot for each temperature\\ntemperatures = [100, 200, 300]\\nfor temp in temperatures:\\n    plot_radius_of_gyration(temp)\\n\\n'Radius of gyration plots created for 100K, 200K, and 300K'\"\n",
      "}\n",
      "```\u001b[0m"
     ]
    },
    {
     "name": "stdout",
     "output_type": "stream",
     "text": [
      "\n",
      "Observation: \u001b[36;1m\u001b[1;3mNameError(\"name 'md' is not defined\")\u001b[0m\n",
      "Thought:"
     ]
    },
    {
     "name": "stdout",
     "output_type": "stream",
     "text": [
      "It"
     ]
    },
    {
     "name": "stdout",
     "output_type": "stream",
     "text": [
      " seems"
     ]
    },
    {
     "name": "stdout",
     "output_type": "stream",
     "text": [
      " there"
     ]
    },
    {
     "name": "stdout",
     "output_type": "stream",
     "text": [
      " is"
     ]
    },
    {
     "name": "stdout",
     "output_type": "stream",
     "text": [
      " a"
     ]
    },
    {
     "name": "stdout",
     "output_type": "stream",
     "text": [
      " persistent"
     ]
    },
    {
     "name": "stdout",
     "output_type": "stream",
     "text": [
      " issue"
     ]
    },
    {
     "name": "stdout",
     "output_type": "stream",
     "text": [
      " with"
     ]
    },
    {
     "name": "stdout",
     "output_type": "stream",
     "text": [
      " the"
     ]
    },
    {
     "name": "stdout",
     "output_type": "stream",
     "text": [
      " MDT"
     ]
    },
    {
     "name": "stdout",
     "output_type": "stream",
     "text": [
      "raj"
     ]
    },
    {
     "name": "stdout",
     "output_type": "stream",
     "text": [
      " library"
     ]
    },
    {
     "name": "stdout",
     "output_type": "stream",
     "text": [
      " not"
     ]
    },
    {
     "name": "stdout",
     "output_type": "stream",
     "text": [
      " being"
     ]
    },
    {
     "name": "stdout",
     "output_type": "stream",
     "text": [
      " recognized"
     ]
    },
    {
     "name": "stdout",
     "output_type": "stream",
     "text": [
      "."
     ]
    },
    {
     "name": "stdout",
     "output_type": "stream",
     "text": [
      " This"
     ]
    },
    {
     "name": "stdout",
     "output_type": "stream",
     "text": [
      " could"
     ]
    },
    {
     "name": "stdout",
     "output_type": "stream",
     "text": [
      " be"
     ]
    },
    {
     "name": "stdout",
     "output_type": "stream",
     "text": [
      " due"
     ]
    },
    {
     "name": "stdout",
     "output_type": "stream",
     "text": [
      " to"
     ]
    },
    {
     "name": "stdout",
     "output_type": "stream",
     "text": [
      " an"
     ]
    },
    {
     "name": "stdout",
     "output_type": "stream",
     "text": [
      " environment"
     ]
    },
    {
     "name": "stdout",
     "output_type": "stream",
     "text": [
      " issue"
     ]
    },
    {
     "name": "stdout",
     "output_type": "stream",
     "text": [
      " or"
     ]
    },
    {
     "name": "stdout",
     "output_type": "stream",
     "text": [
      " a"
     ]
    },
    {
     "name": "stdout",
     "output_type": "stream",
     "text": [
      " missing"
     ]
    },
    {
     "name": "stdout",
     "output_type": "stream",
     "text": [
      " installation"
     ]
    },
    {
     "name": "stdout",
     "output_type": "stream",
     "text": [
      "."
     ]
    },
    {
     "name": "stdout",
     "output_type": "stream",
     "text": [
      " I"
     ]
    },
    {
     "name": "stdout",
     "output_type": "stream",
     "text": [
      " will"
     ]
    },
    {
     "name": "stdout",
     "output_type": "stream",
     "text": [
      " attempt"
     ]
    },
    {
     "name": "stdout",
     "output_type": "stream",
     "text": [
      " to"
     ]
    },
    {
     "name": "stdout",
     "output_type": "stream",
     "text": [
      " resolve"
     ]
    },
    {
     "name": "stdout",
     "output_type": "stream",
     "text": [
      " this"
     ]
    },
    {
     "name": "stdout",
     "output_type": "stream",
     "text": [
      " by"
     ]
    },
    {
     "name": "stdout",
     "output_type": "stream",
     "text": [
      " ensuring"
     ]
    },
    {
     "name": "stdout",
     "output_type": "stream",
     "text": [
      " MDT"
     ]
    },
    {
     "name": "stdout",
     "output_type": "stream",
     "text": [
      "raj"
     ]
    },
    {
     "name": "stdout",
     "output_type": "stream",
     "text": [
      " is"
     ]
    },
    {
     "name": "stdout",
     "output_type": "stream",
     "text": [
      " installed"
     ]
    },
    {
     "name": "stdout",
     "output_type": "stream",
     "text": [
      " and"
     ]
    },
    {
     "name": "stdout",
     "output_type": "stream",
     "text": [
      " then"
     ]
    },
    {
     "name": "stdout",
     "output_type": "stream",
     "text": [
      " proceed"
     ]
    },
    {
     "name": "stdout",
     "output_type": "stream",
     "text": [
      " with"
     ]
    },
    {
     "name": "stdout",
     "output_type": "stream",
     "text": [
      " the"
     ]
    },
    {
     "name": "stdout",
     "output_type": "stream",
     "text": [
      " analysis"
     ]
    },
    {
     "name": "stdout",
     "output_type": "stream",
     "text": [
      ".\n",
      "\n"
     ]
    },
    {
     "name": "stdout",
     "output_type": "stream",
     "text": [
      "Action"
     ]
    },
    {
     "name": "stdout",
     "output_type": "stream",
     "text": [
      ":\n"
     ]
    },
    {
     "name": "stdout",
     "output_type": "stream",
     "text": [
      "```"
     ]
    },
    {
     "name": "stdout",
     "output_type": "stream",
     "text": [
      "json"
     ]
    },
    {
     "name": "stdout",
     "output_type": "stream",
     "text": [
      "\n"
     ]
    },
    {
     "name": "stdout",
     "output_type": "stream",
     "text": [
      "{\n"
     ]
    },
    {
     "name": "stdout",
     "output_type": "stream",
     "text": [
      " "
     ]
    },
    {
     "name": "stdout",
     "output_type": "stream",
     "text": [
      " \""
     ]
    },
    {
     "name": "stdout",
     "output_type": "stream",
     "text": [
      "action"
     ]
    },
    {
     "name": "stdout",
     "output_type": "stream",
     "text": [
      "\":"
     ]
    },
    {
     "name": "stdout",
     "output_type": "stream",
     "text": [
      " \""
     ]
    },
    {
     "name": "stdout",
     "output_type": "stream",
     "text": [
      "python"
     ]
    },
    {
     "name": "stdout",
     "output_type": "stream",
     "text": [
      "_re"
     ]
    },
    {
     "name": "stdout",
     "output_type": "stream",
     "text": [
      "pl"
     ]
    },
    {
     "name": "stdout",
     "output_type": "stream",
     "text": [
      "\",\n"
     ]
    },
    {
     "name": "stdout",
     "output_type": "stream",
     "text": [
      " "
     ]
    },
    {
     "name": "stdout",
     "output_type": "stream",
     "text": [
      " \""
     ]
    },
    {
     "name": "stdout",
     "output_type": "stream",
     "text": [
      "action"
     ]
    },
    {
     "name": "stdout",
     "output_type": "stream",
     "text": [
      "_input"
     ]
    },
    {
     "name": "stdout",
     "output_type": "stream",
     "text": [
      "\":"
     ]
    },
    {
     "name": "stdout",
     "output_type": "stream",
     "text": [
      " \"!"
     ]
    },
    {
     "name": "stdout",
     "output_type": "stream",
     "text": [
      "pip"
     ]
    },
    {
     "name": "stdout",
     "output_type": "stream",
     "text": [
      " install"
     ]
    },
    {
     "name": "stdout",
     "output_type": "stream",
     "text": [
      " md"
     ]
    },
    {
     "name": "stdout",
     "output_type": "stream",
     "text": [
      "traj"
     ]
    },
    {
     "name": "stdout",
     "output_type": "stream",
     "text": [
      "\"\n"
     ]
    },
    {
     "name": "stdout",
     "output_type": "stream",
     "text": [
      "}\n"
     ]
    },
    {
     "name": "stdout",
     "output_type": "stream",
     "text": [
      "```"
     ]
    },
    {
     "name": "stdout",
     "output_type": "stream",
     "text": [
      "\u001b[32;1m\u001b[1;3mIt seems there is a persistent issue with the MDTraj library not being recognized. This could be due to an environment issue or a missing installation. I will attempt to resolve this by ensuring MDTraj is installed and then proceed with the analysis.\n",
      "\n",
      "Action:\n",
      "```json\n",
      "{\n",
      "  \"action\": \"python_repl\",\n",
      "  \"action_input\": \"!pip install mdtraj\"\n",
      "}\n",
      "```\u001b[0m"
     ]
    },
    {
     "name": "stdout",
     "output_type": "stream",
     "text": [
      "\n",
      "Observation: \u001b[36;1m\u001b[1;3mSyntaxError('invalid syntax', ('<string>', 1, 1, '!pip install mdtraj\\n', 1, 2))\u001b[0m\n",
      "Thought:"
     ]
    },
    {
     "name": "stdout",
     "output_type": "stream",
     "text": [
      "Thought"
     ]
    },
    {
     "name": "stdout",
     "output_type": "stream",
     "text": [
      ":"
     ]
    },
    {
     "name": "stdout",
     "output_type": "stream",
     "text": [
      " The"
     ]
    },
    {
     "name": "stdout",
     "output_type": "stream",
     "text": [
      " error"
     ]
    },
    {
     "name": "stdout",
     "output_type": "stream",
     "text": [
      " occurred"
     ]
    },
    {
     "name": "stdout",
     "output_type": "stream",
     "text": [
      " because"
     ]
    },
    {
     "name": "stdout",
     "output_type": "stream",
     "text": [
      " the"
     ]
    },
    {
     "name": "stdout",
     "output_type": "stream",
     "text": [
      " command"
     ]
    },
    {
     "name": "stdout",
     "output_type": "stream",
     "text": [
      " to"
     ]
    },
    {
     "name": "stdout",
     "output_type": "stream",
     "text": [
      " install"
     ]
    },
    {
     "name": "stdout",
     "output_type": "stream",
     "text": [
      " packages"
     ]
    },
    {
     "name": "stdout",
     "output_type": "stream",
     "text": [
      " using"
     ]
    },
    {
     "name": "stdout",
     "output_type": "stream",
     "text": [
      " pip"
     ]
    },
    {
     "name": "stdout",
     "output_type": "stream",
     "text": [
      " is"
     ]
    },
    {
     "name": "stdout",
     "output_type": "stream",
     "text": [
      " not"
     ]
    },
    {
     "name": "stdout",
     "output_type": "stream",
     "text": [
      " valid"
     ]
    },
    {
     "name": "stdout",
     "output_type": "stream",
     "text": [
      " in"
     ]
    },
    {
     "name": "stdout",
     "output_type": "stream",
     "text": [
      " the"
     ]
    },
    {
     "name": "stdout",
     "output_type": "stream",
     "text": [
      " current"
     ]
    },
    {
     "name": "stdout",
     "output_type": "stream",
     "text": [
      " environment"
     ]
    },
    {
     "name": "stdout",
     "output_type": "stream",
     "text": [
      "."
     ]
    },
    {
     "name": "stdout",
     "output_type": "stream",
     "text": [
      " I"
     ]
    },
    {
     "name": "stdout",
     "output_type": "stream",
     "text": [
      " will"
     ]
    },
    {
     "name": "stdout",
     "output_type": "stream",
     "text": [
      " adjust"
     ]
    },
    {
     "name": "stdout",
     "output_type": "stream",
     "text": [
      " the"
     ]
    },
    {
     "name": "stdout",
     "output_type": "stream",
     "text": [
      " approach"
     ]
    },
    {
     "name": "stdout",
     "output_type": "stream",
     "text": [
      " to"
     ]
    },
    {
     "name": "stdout",
     "output_type": "stream",
     "text": [
      " ensure"
     ]
    },
    {
     "name": "stdout",
     "output_type": "stream",
     "text": [
      " MDT"
     ]
    },
    {
     "name": "stdout",
     "output_type": "stream",
     "text": [
      "raj"
     ]
    },
    {
     "name": "stdout",
     "output_type": "stream",
     "text": [
      " is"
     ]
    },
    {
     "name": "stdout",
     "output_type": "stream",
     "text": [
      " correctly"
     ]
    },
    {
     "name": "stdout",
     "output_type": "stream",
     "text": [
      " imported"
     ]
    },
    {
     "name": "stdout",
     "output_type": "stream",
     "text": [
      " and"
     ]
    },
    {
     "name": "stdout",
     "output_type": "stream",
     "text": [
      " proceed"
     ]
    },
    {
     "name": "stdout",
     "output_type": "stream",
     "text": [
      " with"
     ]
    },
    {
     "name": "stdout",
     "output_type": "stream",
     "text": [
      " the"
     ]
    },
    {
     "name": "stdout",
     "output_type": "stream",
     "text": [
      " analysis"
     ]
    },
    {
     "name": "stdout",
     "output_type": "stream",
     "text": [
      " of"
     ]
    },
    {
     "name": "stdout",
     "output_type": "stream",
     "text": [
      " the"
     ]
    },
    {
     "name": "stdout",
     "output_type": "stream",
     "text": [
      " trajectory"
     ]
    },
    {
     "name": "stdout",
     "output_type": "stream",
     "text": [
      " files"
     ]
    },
    {
     "name": "stdout",
     "output_type": "stream",
     "text": [
      ".\n",
      "\n"
     ]
    },
    {
     "name": "stdout",
     "output_type": "stream",
     "text": [
      "Action"
     ]
    },
    {
     "name": "stdout",
     "output_type": "stream",
     "text": [
      ":\n"
     ]
    },
    {
     "name": "stdout",
     "output_type": "stream",
     "text": [
      "```"
     ]
    },
    {
     "name": "stdout",
     "output_type": "stream",
     "text": [
      "json"
     ]
    },
    {
     "name": "stdout",
     "output_type": "stream",
     "text": [
      "\n"
     ]
    },
    {
     "name": "stdout",
     "output_type": "stream",
     "text": [
      "{\n"
     ]
    },
    {
     "name": "stdout",
     "output_type": "stream",
     "text": [
      " "
     ]
    },
    {
     "name": "stdout",
     "output_type": "stream",
     "text": [
      " \""
     ]
    },
    {
     "name": "stdout",
     "output_type": "stream",
     "text": [
      "action"
     ]
    },
    {
     "name": "stdout",
     "output_type": "stream",
     "text": [
      "\":"
     ]
    },
    {
     "name": "stdout",
     "output_type": "stream",
     "text": [
      " \""
     ]
    },
    {
     "name": "stdout",
     "output_type": "stream",
     "text": [
      "python"
     ]
    },
    {
     "name": "stdout",
     "output_type": "stream",
     "text": [
      "_re"
     ]
    },
    {
     "name": "stdout",
     "output_type": "stream",
     "text": [
      "pl"
     ]
    },
    {
     "name": "stdout",
     "output_type": "stream",
     "text": [
      "\",\n"
     ]
    },
    {
     "name": "stdout",
     "output_type": "stream",
     "text": [
      " "
     ]
    },
    {
     "name": "stdout",
     "output_type": "stream",
     "text": [
      " \""
     ]
    },
    {
     "name": "stdout",
     "output_type": "stream",
     "text": [
      "action"
     ]
    },
    {
     "name": "stdout",
     "output_type": "stream",
     "text": [
      "_input"
     ]
    },
    {
     "name": "stdout",
     "output_type": "stream",
     "text": [
      "\":"
     ]
    },
    {
     "name": "stdout",
     "output_type": "stream",
     "text": [
      " \""
     ]
    },
    {
     "name": "stdout",
     "output_type": "stream",
     "text": [
      "import"
     ]
    },
    {
     "name": "stdout",
     "output_type": "stream",
     "text": [
      " md"
     ]
    },
    {
     "name": "stdout",
     "output_type": "stream",
     "text": [
      "traj"
     ]
    },
    {
     "name": "stdout",
     "output_type": "stream",
     "text": [
      " as"
     ]
    },
    {
     "name": "stdout",
     "output_type": "stream",
     "text": [
      " md"
     ]
    },
    {
     "name": "stdout",
     "output_type": "stream",
     "text": [
      "\\n"
     ]
    },
    {
     "name": "stdout",
     "output_type": "stream",
     "text": [
      "import"
     ]
    },
    {
     "name": "stdout",
     "output_type": "stream",
     "text": [
      " matplotlib"
     ]
    },
    {
     "name": "stdout",
     "output_type": "stream",
     "text": [
      ".pyplot"
     ]
    },
    {
     "name": "stdout",
     "output_type": "stream",
     "text": [
      " as"
     ]
    },
    {
     "name": "stdout",
     "output_type": "stream",
     "text": [
      " plt"
     ]
    },
    {
     "name": "stdout",
     "output_type": "stream",
     "text": [
      "\\n"
     ]
    },
    {
     "name": "stdout",
     "output_type": "stream",
     "text": [
      "\\n"
     ]
    },
    {
     "name": "stdout",
     "output_type": "stream",
     "text": [
      "#"
     ]
    },
    {
     "name": "stdout",
     "output_type": "stream",
     "text": [
      " Function"
     ]
    },
    {
     "name": "stdout",
     "output_type": "stream",
     "text": [
      " to"
     ]
    },
    {
     "name": "stdout",
     "output_type": "stream",
     "text": [
      " calculate"
     ]
    },
    {
     "name": "stdout",
     "output_type": "stream",
     "text": [
      " and"
     ]
    },
    {
     "name": "stdout",
     "output_type": "stream",
     "text": [
      " plot"
     ]
    },
    {
     "name": "stdout",
     "output_type": "stream",
     "text": [
      " radius"
     ]
    },
    {
     "name": "stdout",
     "output_type": "stream",
     "text": [
      " of"
     ]
    },
    {
     "name": "stdout",
     "output_type": "stream",
     "text": [
      " gyr"
     ]
    },
    {
     "name": "stdout",
     "output_type": "stream",
     "text": [
      "ation"
     ]
    },
    {
     "name": "stdout",
     "output_type": "stream",
     "text": [
      "\\"
     ]
    },
    {
     "name": "stdout",
     "output_type": "stream",
     "text": [
      "ndef"
     ]
    },
    {
     "name": "stdout",
     "output_type": "stream",
     "text": [
      " plot"
     ]
    },
    {
     "name": "stdout",
     "output_type": "stream",
     "text": [
      "_radius"
     ]
    },
    {
     "name": "stdout",
     "output_type": "stream",
     "text": [
      "_of"
     ]
    },
    {
     "name": "stdout",
     "output_type": "stream",
     "text": [
      "_g"
     ]
    },
    {
     "name": "stdout",
     "output_type": "stream",
     "text": [
      "yr"
     ]
    },
    {
     "name": "stdout",
     "output_type": "stream",
     "text": [
      "ation"
     ]
    },
    {
     "name": "stdout",
     "output_type": "stream",
     "text": [
      "("
     ]
    },
    {
     "name": "stdout",
     "output_type": "stream",
     "text": [
      "temperature"
     ]
    },
    {
     "name": "stdout",
     "output_type": "stream",
     "text": [
      "):"
     ]
    },
    {
     "name": "stdout",
     "output_type": "stream",
     "text": [
      "\\"
     ]
    },
    {
     "name": "stdout",
     "output_type": "stream",
     "text": [
      "n"
     ]
    },
    {
     "name": "stdout",
     "output_type": "stream",
     "text": [
      "   "
     ]
    },
    {
     "name": "stdout",
     "output_type": "stream",
     "text": [
      " #"
     ]
    },
    {
     "name": "stdout",
     "output_type": "stream",
     "text": [
      " Load"
     ]
    },
    {
     "name": "stdout",
     "output_type": "stream",
     "text": [
      " the"
     ]
    },
    {
     "name": "stdout",
     "output_type": "stream",
     "text": [
      " trajectory"
     ]
    },
    {
     "name": "stdout",
     "output_type": "stream",
     "text": [
      "\\n"
     ]
    },
    {
     "name": "stdout",
     "output_type": "stream",
     "text": [
      "   "
     ]
    },
    {
     "name": "stdout",
     "output_type": "stream",
     "text": [
      " traj"
     ]
    },
    {
     "name": "stdout",
     "output_type": "stream",
     "text": [
      " ="
     ]
    },
    {
     "name": "stdout",
     "output_type": "stream",
     "text": [
      " md"
     ]
    },
    {
     "name": "stdout",
     "output_type": "stream",
     "text": [
      ".load"
     ]
    },
    {
     "name": "stdout",
     "output_type": "stream",
     "text": [
      "_d"
     ]
    },
    {
     "name": "stdout",
     "output_type": "stream",
     "text": [
      "cd"
     ]
    },
    {
     "name": "stdout",
     "output_type": "stream",
     "text": [
      "(f"
     ]
    },
    {
     "name": "stdout",
     "output_type": "stream",
     "text": [
      "'"
     ]
    },
    {
     "name": "stdout",
     "output_type": "stream",
     "text": [
      "4"
     ]
    },
    {
     "name": "stdout",
     "output_type": "stream",
     "text": [
      "R"
     ]
    },
    {
     "name": "stdout",
     "output_type": "stream",
     "text": [
      "MB"
     ]
    },
    {
     "name": "stdout",
     "output_type": "stream",
     "text": [
      "_{"
     ]
    },
    {
     "name": "stdout",
     "output_type": "stream",
     "text": [
      "temperature"
     ]
    },
    {
     "name": "stdout",
     "output_type": "stream",
     "text": [
      "}"
     ]
    },
    {
     "name": "stdout",
     "output_type": "stream",
     "text": [
      "K"
     ]
    },
    {
     "name": "stdout",
     "output_type": "stream",
     "text": [
      ".d"
     ]
    },
    {
     "name": "stdout",
     "output_type": "stream",
     "text": [
      "cd"
     ]
    },
    {
     "name": "stdout",
     "output_type": "stream",
     "text": [
      "',"
     ]
    },
    {
     "name": "stdout",
     "output_type": "stream",
     "text": [
      " top"
     ]
    },
    {
     "name": "stdout",
     "output_type": "stream",
     "text": [
      "='"
     ]
    },
    {
     "name": "stdout",
     "output_type": "stream",
     "text": [
      "4"
     ]
    },
    {
     "name": "stdout",
     "output_type": "stream",
     "text": [
      "R"
     ]
    },
    {
     "name": "stdout",
     "output_type": "stream",
     "text": [
      "MB"
     ]
    },
    {
     "name": "stdout",
     "output_type": "stream",
     "text": [
      "_fixed"
     ]
    },
    {
     "name": "stdout",
     "output_type": "stream",
     "text": [
      ".p"
     ]
    },
    {
     "name": "stdout",
     "output_type": "stream",
     "text": [
      "db"
     ]
    },
    {
     "name": "stdout",
     "output_type": "stream",
     "text": [
      "')"
     ]
    },
    {
     "name": "stdout",
     "output_type": "stream",
     "text": [
      "\\"
     ]
    },
    {
     "name": "stdout",
     "output_type": "stream",
     "text": [
      "n"
     ]
    },
    {
     "name": "stdout",
     "output_type": "stream",
     "text": [
      "   "
     ]
    },
    {
     "name": "stdout",
     "output_type": "stream",
     "text": [
      " \\"
     ]
    },
    {
     "name": "stdout",
     "output_type": "stream",
     "text": [
      "n"
     ]
    },
    {
     "name": "stdout",
     "output_type": "stream",
     "text": [
      "   "
     ]
    },
    {
     "name": "stdout",
     "output_type": "stream",
     "text": [
      " #"
     ]
    },
    {
     "name": "stdout",
     "output_type": "stream",
     "text": [
      " Calculate"
     ]
    },
    {
     "name": "stdout",
     "output_type": "stream",
     "text": [
      " radius"
     ]
    },
    {
     "name": "stdout",
     "output_type": "stream",
     "text": [
      " of"
     ]
    },
    {
     "name": "stdout",
     "output_type": "stream",
     "text": [
      " gyr"
     ]
    },
    {
     "name": "stdout",
     "output_type": "stream",
     "text": [
      "ation"
     ]
    },
    {
     "name": "stdout",
     "output_type": "stream",
     "text": [
      "\\n"
     ]
    },
    {
     "name": "stdout",
     "output_type": "stream",
     "text": [
      "   "
     ]
    },
    {
     "name": "stdout",
     "output_type": "stream",
     "text": [
      " rg"
     ]
    },
    {
     "name": "stdout",
     "output_type": "stream",
     "text": [
      " ="
     ]
    },
    {
     "name": "stdout",
     "output_type": "stream",
     "text": [
      " md"
     ]
    },
    {
     "name": "stdout",
     "output_type": "stream",
     "text": [
      ".compute"
     ]
    },
    {
     "name": "stdout",
     "output_type": "stream",
     "text": [
      "_rg"
     ]
    },
    {
     "name": "stdout",
     "output_type": "stream",
     "text": [
      "(tr"
     ]
    },
    {
     "name": "stdout",
     "output_type": "stream",
     "text": [
      "aj"
     ]
    },
    {
     "name": "stdout",
     "output_type": "stream",
     "text": [
      ")\\"
     ]
    },
    {
     "name": "stdout",
     "output_type": "stream",
     "text": [
      "n"
     ]
    },
    {
     "name": "stdout",
     "output_type": "stream",
     "text": [
      "   "
     ]
    },
    {
     "name": "stdout",
     "output_type": "stream",
     "text": [
      " \\"
     ]
    },
    {
     "name": "stdout",
     "output_type": "stream",
     "text": [
      "n"
     ]
    },
    {
     "name": "stdout",
     "output_type": "stream",
     "text": [
      "   "
     ]
    },
    {
     "name": "stdout",
     "output_type": "stream",
     "text": [
      " #"
     ]
    },
    {
     "name": "stdout",
     "output_type": "stream",
     "text": [
      " Plot"
     ]
    },
    {
     "name": "stdout",
     "output_type": "stream",
     "text": [
      "\\n"
     ]
    },
    {
     "name": "stdout",
     "output_type": "stream",
     "text": [
      "   "
     ]
    },
    {
     "name": "stdout",
     "output_type": "stream",
     "text": [
      " plt"
     ]
    },
    {
     "name": "stdout",
     "output_type": "stream",
     "text": [
      ".figure"
     ]
    },
    {
     "name": "stdout",
     "output_type": "stream",
     "text": [
      "()\\"
     ]
    },
    {
     "name": "stdout",
     "output_type": "stream",
     "text": [
      "n"
     ]
    },
    {
     "name": "stdout",
     "output_type": "stream",
     "text": [
      "   "
     ]
    },
    {
     "name": "stdout",
     "output_type": "stream",
     "text": [
      " plt"
     ]
    },
    {
     "name": "stdout",
     "output_type": "stream",
     "text": [
      ".plot"
     ]
    },
    {
     "name": "stdout",
     "output_type": "stream",
     "text": [
      "(tr"
     ]
    },
    {
     "name": "stdout",
     "output_type": "stream",
     "text": [
      "aj"
     ]
    },
    {
     "name": "stdout",
     "output_type": "stream",
     "text": [
      ".time"
     ]
    },
    {
     "name": "stdout",
     "output_type": "stream",
     "text": [
      ","
     ]
    },
    {
     "name": "stdout",
     "output_type": "stream",
     "text": [
      " rg"
     ]
    },
    {
     "name": "stdout",
     "output_type": "stream",
     "text": [
      ")\\"
     ]
    },
    {
     "name": "stdout",
     "output_type": "stream",
     "text": [
      "n"
     ]
    },
    {
     "name": "stdout",
     "output_type": "stream",
     "text": [
      "   "
     ]
    },
    {
     "name": "stdout",
     "output_type": "stream",
     "text": [
      " plt"
     ]
    },
    {
     "name": "stdout",
     "output_type": "stream",
     "text": [
      ".xlabel"
     ]
    },
    {
     "name": "stdout",
     "output_type": "stream",
     "text": [
      "('"
     ]
    },
    {
     "name": "stdout",
     "output_type": "stream",
     "text": [
      "Time"
     ]
    },
    {
     "name": "stdout",
     "output_type": "stream",
     "text": [
      " ("
     ]
    },
    {
     "name": "stdout",
     "output_type": "stream",
     "text": [
      "ps"
     ]
    },
    {
     "name": "stdout",
     "output_type": "stream",
     "text": [
      ")"
     ]
    },
    {
     "name": "stdout",
     "output_type": "stream",
     "text": [
      "')"
     ]
    },
    {
     "name": "stdout",
     "output_type": "stream",
     "text": [
      "\\"
     ]
    },
    {
     "name": "stdout",
     "output_type": "stream",
     "text": [
      "n"
     ]
    },
    {
     "name": "stdout",
     "output_type": "stream",
     "text": [
      "   "
     ]
    },
    {
     "name": "stdout",
     "output_type": "stream",
     "text": [
      " plt"
     ]
    },
    {
     "name": "stdout",
     "output_type": "stream",
     "text": [
      ".ylabel"
     ]
    },
    {
     "name": "stdout",
     "output_type": "stream",
     "text": [
      "('"
     ]
    },
    {
     "name": "stdout",
     "output_type": "stream",
     "text": [
      "Radius"
     ]
    },
    {
     "name": "stdout",
     "output_type": "stream",
     "text": [
      " of"
     ]
    },
    {
     "name": "stdout",
     "output_type": "stream",
     "text": [
      " G"
     ]
    },
    {
     "name": "stdout",
     "output_type": "stream",
     "text": [
      "yr"
     ]
    },
    {
     "name": "stdout",
     "output_type": "stream",
     "text": [
      "ation"
     ]
    },
    {
     "name": "stdout",
     "output_type": "stream",
     "text": [
      " ("
     ]
    },
    {
     "name": "stdout",
     "output_type": "stream",
     "text": [
      "nm"
     ]
    },
    {
     "name": "stdout",
     "output_type": "stream",
     "text": [
      ")"
     ]
    },
    {
     "name": "stdout",
     "output_type": "stream",
     "text": [
      "')"
     ]
    },
    {
     "name": "stdout",
     "output_type": "stream",
     "text": [
      "\\"
     ]
    },
    {
     "name": "stdout",
     "output_type": "stream",
     "text": [
      "n"
     ]
    },
    {
     "name": "stdout",
     "output_type": "stream",
     "text": [
      "   "
     ]
    },
    {
     "name": "stdout",
     "output_type": "stream",
     "text": [
      " plt"
     ]
    },
    {
     "name": "stdout",
     "output_type": "stream",
     "text": [
      ".title"
     ]
    },
    {
     "name": "stdout",
     "output_type": "stream",
     "text": [
      "(f"
     ]
    },
    {
     "name": "stdout",
     "output_type": "stream",
     "text": [
      "'"
     ]
    },
    {
     "name": "stdout",
     "output_type": "stream",
     "text": [
      "Radius"
     ]
    },
    {
     "name": "stdout",
     "output_type": "stream",
     "text": [
      " of"
     ]
    },
    {
     "name": "stdout",
     "output_type": "stream",
     "text": [
      " G"
     ]
    },
    {
     "name": "stdout",
     "output_type": "stream",
     "text": [
      "yr"
     ]
    },
    {
     "name": "stdout",
     "output_type": "stream",
     "text": [
      "ation"
     ]
    },
    {
     "name": "stdout",
     "output_type": "stream",
     "text": [
      " at"
     ]
    },
    {
     "name": "stdout",
     "output_type": "stream",
     "text": [
      " {"
     ]
    },
    {
     "name": "stdout",
     "output_type": "stream",
     "text": [
      "temperature"
     ]
    },
    {
     "name": "stdout",
     "output_type": "stream",
     "text": [
      "}"
     ]
    },
    {
     "name": "stdout",
     "output_type": "stream",
     "text": [
      "K"
     ]
    },
    {
     "name": "stdout",
     "output_type": "stream",
     "text": [
      "')"
     ]
    },
    {
     "name": "stdout",
     "output_type": "stream",
     "text": [
      "\\"
     ]
    },
    {
     "name": "stdout",
     "output_type": "stream",
     "text": [
      "n"
     ]
    },
    {
     "name": "stdout",
     "output_type": "stream",
     "text": [
      "   "
     ]
    },
    {
     "name": "stdout",
     "output_type": "stream",
     "text": [
      " plt"
     ]
    },
    {
     "name": "stdout",
     "output_type": "stream",
     "text": [
      ".savefig"
     ]
    },
    {
     "name": "stdout",
     "output_type": "stream",
     "text": [
      "(f"
     ]
    },
    {
     "name": "stdout",
     "output_type": "stream",
     "text": [
      "'"
     ]
    },
    {
     "name": "stdout",
     "output_type": "stream",
     "text": [
      "Rg"
     ]
    },
    {
     "name": "stdout",
     "output_type": "stream",
     "text": [
      "_{"
     ]
    },
    {
     "name": "stdout",
     "output_type": "stream",
     "text": [
      "temperature"
     ]
    },
    {
     "name": "stdout",
     "output_type": "stream",
     "text": [
      "}"
     ]
    },
    {
     "name": "stdout",
     "output_type": "stream",
     "text": [
      "K"
     ]
    },
    {
     "name": "stdout",
     "output_type": "stream",
     "text": [
      ".png"
     ]
    },
    {
     "name": "stdout",
     "output_type": "stream",
     "text": [
      "')"
     ]
    },
    {
     "name": "stdout",
     "output_type": "stream",
     "text": [
      "\\"
     ]
    },
    {
     "name": "stdout",
     "output_type": "stream",
     "text": [
      "n"
     ]
    },
    {
     "name": "stdout",
     "output_type": "stream",
     "text": [
      "   "
     ]
    },
    {
     "name": "stdout",
     "output_type": "stream",
     "text": [
      " plt"
     ]
    },
    {
     "name": "stdout",
     "output_type": "stream",
     "text": [
      ".close"
     ]
    },
    {
     "name": "stdout",
     "output_type": "stream",
     "text": [
      "()\\"
     ]
    },
    {
     "name": "stdout",
     "output_type": "stream",
     "text": [
      "n"
     ]
    },
    {
     "name": "stdout",
     "output_type": "stream",
     "text": [
      "\\n"
     ]
    },
    {
     "name": "stdout",
     "output_type": "stream",
     "text": [
      "#"
     ]
    },
    {
     "name": "stdout",
     "output_type": "stream",
     "text": [
      " Calculate"
     ]
    },
    {
     "name": "stdout",
     "output_type": "stream",
     "text": [
      " and"
     ]
    },
    {
     "name": "stdout",
     "output_type": "stream",
     "text": [
      " plot"
     ]
    },
    {
     "name": "stdout",
     "output_type": "stream",
     "text": [
      " for"
     ]
    },
    {
     "name": "stdout",
     "output_type": "stream",
     "text": [
      " each"
     ]
    },
    {
     "name": "stdout",
     "output_type": "stream",
     "text": [
      " temperature"
     ]
    },
    {
     "name": "stdout",
     "output_type": "stream",
     "text": [
      "\\"
     ]
    },
    {
     "name": "stdout",
     "output_type": "stream",
     "text": [
      "nt"
     ]
    },
    {
     "name": "stdout",
     "output_type": "stream",
     "text": [
      "emper"
     ]
    },
    {
     "name": "stdout",
     "output_type": "stream",
     "text": [
      "atures"
     ]
    },
    {
     "name": "stdout",
     "output_type": "stream",
     "text": [
      " ="
     ]
    },
    {
     "name": "stdout",
     "output_type": "stream",
     "text": [
      " ["
     ]
    },
    {
     "name": "stdout",
     "output_type": "stream",
     "text": [
      "100"
     ]
    },
    {
     "name": "stdout",
     "output_type": "stream",
     "text": [
      ","
     ]
    },
    {
     "name": "stdout",
     "output_type": "stream",
     "text": [
      " "
     ]
    },
    {
     "name": "stdout",
     "output_type": "stream",
     "text": [
      "200"
     ]
    },
    {
     "name": "stdout",
     "output_type": "stream",
     "text": [
      ","
     ]
    },
    {
     "name": "stdout",
     "output_type": "stream",
     "text": [
      " "
     ]
    },
    {
     "name": "stdout",
     "output_type": "stream",
     "text": [
      "300"
     ]
    },
    {
     "name": "stdout",
     "output_type": "stream",
     "text": [
      "]\\"
     ]
    },
    {
     "name": "stdout",
     "output_type": "stream",
     "text": [
      "n"
     ]
    },
    {
     "name": "stdout",
     "output_type": "stream",
     "text": [
      "for"
     ]
    },
    {
     "name": "stdout",
     "output_type": "stream",
     "text": [
      " temp"
     ]
    },
    {
     "name": "stdout",
     "output_type": "stream",
     "text": [
      " in"
     ]
    },
    {
     "name": "stdout",
     "output_type": "stream",
     "text": [
      " temperatures"
     ]
    },
    {
     "name": "stdout",
     "output_type": "stream",
     "text": [
      ":\\"
     ]
    },
    {
     "name": "stdout",
     "output_type": "stream",
     "text": [
      "n"
     ]
    },
    {
     "name": "stdout",
     "output_type": "stream",
     "text": [
      "   "
     ]
    },
    {
     "name": "stdout",
     "output_type": "stream",
     "text": [
      " plot"
     ]
    },
    {
     "name": "stdout",
     "output_type": "stream",
     "text": [
      "_radius"
     ]
    },
    {
     "name": "stdout",
     "output_type": "stream",
     "text": [
      "_of"
     ]
    },
    {
     "name": "stdout",
     "output_type": "stream",
     "text": [
      "_g"
     ]
    },
    {
     "name": "stdout",
     "output_type": "stream",
     "text": [
      "yr"
     ]
    },
    {
     "name": "stdout",
     "output_type": "stream",
     "text": [
      "ation"
     ]
    },
    {
     "name": "stdout",
     "output_type": "stream",
     "text": [
      "(temp"
     ]
    },
    {
     "name": "stdout",
     "output_type": "stream",
     "text": [
      ")\\"
     ]
    },
    {
     "name": "stdout",
     "output_type": "stream",
     "text": [
      "n"
     ]
    },
    {
     "name": "stdout",
     "output_type": "stream",
     "text": [
      "\\n"
     ]
    },
    {
     "name": "stdout",
     "output_type": "stream",
     "text": [
      "'"
     ]
    },
    {
     "name": "stdout",
     "output_type": "stream",
     "text": [
      "Radius"
     ]
    },
    {
     "name": "stdout",
     "output_type": "stream",
     "text": [
      " of"
     ]
    },
    {
     "name": "stdout",
     "output_type": "stream",
     "text": [
      " gyr"
     ]
    },
    {
     "name": "stdout",
     "output_type": "stream",
     "text": [
      "ation"
     ]
    },
    {
     "name": "stdout",
     "output_type": "stream",
     "text": [
      " plots"
     ]
    },
    {
     "name": "stdout",
     "output_type": "stream",
     "text": [
      " created"
     ]
    },
    {
     "name": "stdout",
     "output_type": "stream",
     "text": [
      " for"
     ]
    },
    {
     "name": "stdout",
     "output_type": "stream",
     "text": [
      " "
     ]
    },
    {
     "name": "stdout",
     "output_type": "stream",
     "text": [
      "100"
     ]
    },
    {
     "name": "stdout",
     "output_type": "stream",
     "text": [
      "K"
     ]
    },
    {
     "name": "stdout",
     "output_type": "stream",
     "text": [
      ","
     ]
    },
    {
     "name": "stdout",
     "output_type": "stream",
     "text": [
      " "
     ]
    },
    {
     "name": "stdout",
     "output_type": "stream",
     "text": [
      "200"
     ]
    },
    {
     "name": "stdout",
     "output_type": "stream",
     "text": [
      "K"
     ]
    },
    {
     "name": "stdout",
     "output_type": "stream",
     "text": [
      ","
     ]
    },
    {
     "name": "stdout",
     "output_type": "stream",
     "text": [
      " and"
     ]
    },
    {
     "name": "stdout",
     "output_type": "stream",
     "text": [
      " "
     ]
    },
    {
     "name": "stdout",
     "output_type": "stream",
     "text": [
      "300"
     ]
    },
    {
     "name": "stdout",
     "output_type": "stream",
     "text": [
      "K"
     ]
    },
    {
     "name": "stdout",
     "output_type": "stream",
     "text": [
      "'\"\n"
     ]
    },
    {
     "name": "stdout",
     "output_type": "stream",
     "text": [
      "}\n"
     ]
    },
    {
     "name": "stdout",
     "output_type": "stream",
     "text": [
      "``"
     ]
    },
    {
     "name": "stdout",
     "output_type": "stream",
     "text": [
      "`\n"
     ]
    },
    {
     "name": "stdout",
     "output_type": "stream",
     "text": [
      "\u001b[32;1m\u001b[1;3mThought: The error occurred because the command to install packages using pip is not valid in the current environment. I will adjust the approach to ensure MDTraj is correctly imported and proceed with the analysis of the trajectory files.\n",
      "\n",
      "Action:\n",
      "```json\n",
      "{\n",
      "  \"action\": \"python_repl\",\n",
      "  \"action_input\": \"import mdtraj as md\\nimport matplotlib.pyplot as plt\\n\\n# Function to calculate and plot radius of gyration\\ndef plot_radius_of_gyration(temperature):\\n    # Load the trajectory\\n    traj = md.load_dcd(f'4RMB_{temperature}K.dcd', top='4RMB_fixed.pdb')\\n    \\n    # Calculate radius of gyration\\n    rg = md.compute_rg(traj)\\n    \\n    # Plot\\n    plt.figure()\\n    plt.plot(traj.time, rg)\\n    plt.xlabel('Time (ps)')\\n    plt.ylabel('Radius of Gyration (nm)')\\n    plt.title(f'Radius of Gyration at {temperature}K')\\n    plt.savefig(f'Rg_{temperature}K.png')\\n    plt.close()\\n\\n# Calculate and plot for each temperature\\ntemperatures = [100, 200, 300]\\nfor temp in temperatures:\\n    plot_radius_of_gyration(temp)\\n\\n'Radius of gyration plots created for 100K, 200K, and 300K'\"\n",
      "}\n",
      "```\n",
      "\u001b[0m"
     ]
    },
    {
     "name": "stdout",
     "output_type": "stream",
     "text": [
      "\n",
      "Observation: \u001b[36;1m\u001b[1;3mNameError(\"name 'md' is not defined\")\u001b[0m\n",
      "Thought:"
     ]
    },
    {
     "name": "stdout",
     "output_type": "stream",
     "text": [
      "The"
     ]
    },
    {
     "name": "stdout",
     "output_type": "stream",
     "text": [
      " persistent"
     ]
    },
    {
     "name": "stdout",
     "output_type": "stream",
     "text": [
      " error"
     ]
    },
    {
     "name": "stdout",
     "output_type": "stream",
     "text": [
      " indicates"
     ]
    },
    {
     "name": "stdout",
     "output_type": "stream",
     "text": [
      " that"
     ]
    },
    {
     "name": "stdout",
     "output_type": "stream",
     "text": [
      " the"
     ]
    },
    {
     "name": "stdout",
     "output_type": "stream",
     "text": [
      " MDT"
     ]
    },
    {
     "name": "stdout",
     "output_type": "stream",
     "text": [
      "raj"
     ]
    },
    {
     "name": "stdout",
     "output_type": "stream",
     "text": [
      " library"
     ]
    },
    {
     "name": "stdout",
     "output_type": "stream",
     "text": [
      " is"
     ]
    },
    {
     "name": "stdout",
     "output_type": "stream",
     "text": [
      " not"
     ]
    },
    {
     "name": "stdout",
     "output_type": "stream",
     "text": [
      " available"
     ]
    },
    {
     "name": "stdout",
     "output_type": "stream",
     "text": [
      " in"
     ]
    },
    {
     "name": "stdout",
     "output_type": "stream",
     "text": [
      " the"
     ]
    },
    {
     "name": "stdout",
     "output_type": "stream",
     "text": [
      " current"
     ]
    },
    {
     "name": "stdout",
     "output_type": "stream",
     "text": [
      " environment"
     ]
    },
    {
     "name": "stdout",
     "output_type": "stream",
     "text": [
      "."
     ]
    },
    {
     "name": "stdout",
     "output_type": "stream",
     "text": [
      " To"
     ]
    },
    {
     "name": "stdout",
     "output_type": "stream",
     "text": [
      " proceed"
     ]
    },
    {
     "name": "stdout",
     "output_type": "stream",
     "text": [
      ","
     ]
    },
    {
     "name": "stdout",
     "output_type": "stream",
     "text": [
      " I"
     ]
    },
    {
     "name": "stdout",
     "output_type": "stream",
     "text": [
      " will"
     ]
    },
    {
     "name": "stdout",
     "output_type": "stream",
     "text": [
      " provide"
     ]
    },
    {
     "name": "stdout",
     "output_type": "stream",
     "text": [
      " a"
     ]
    },
    {
     "name": "stdout",
     "output_type": "stream",
     "text": [
      " Python"
     ]
    },
    {
     "name": "stdout",
     "output_type": "stream",
     "text": [
      " script"
     ]
    },
    {
     "name": "stdout",
     "output_type": "stream",
     "text": [
      " that"
     ]
    },
    {
     "name": "stdout",
     "output_type": "stream",
     "text": [
      " can"
     ]
    },
    {
     "name": "stdout",
     "output_type": "stream",
     "text": [
      " be"
     ]
    },
    {
     "name": "stdout",
     "output_type": "stream",
     "text": [
      " run"
     ]
    },
    {
     "name": "stdout",
     "output_type": "stream",
     "text": [
      " in"
     ]
    },
    {
     "name": "stdout",
     "output_type": "stream",
     "text": [
      " an"
     ]
    },
    {
     "name": "stdout",
     "output_type": "stream",
     "text": [
      " appropriate"
     ]
    },
    {
     "name": "stdout",
     "output_type": "stream",
     "text": [
      " environment"
     ]
    },
    {
     "name": "stdout",
     "output_type": "stream",
     "text": [
      " where"
     ]
    },
    {
     "name": "stdout",
     "output_type": "stream",
     "text": [
      " MDT"
     ]
    },
    {
     "name": "stdout",
     "output_type": "stream",
     "text": [
      "raj"
     ]
    },
    {
     "name": "stdout",
     "output_type": "stream",
     "text": [
      " is"
     ]
    },
    {
     "name": "stdout",
     "output_type": "stream",
     "text": [
      " installed"
     ]
    },
    {
     "name": "stdout",
     "output_type": "stream",
     "text": [
      "."
     ]
    },
    {
     "name": "stdout",
     "output_type": "stream",
     "text": [
      " This"
     ]
    },
    {
     "name": "stdout",
     "output_type": "stream",
     "text": [
      " script"
     ]
    },
    {
     "name": "stdout",
     "output_type": "stream",
     "text": [
      " will"
     ]
    },
    {
     "name": "stdout",
     "output_type": "stream",
     "text": [
      " calculate"
     ]
    },
    {
     "name": "stdout",
     "output_type": "stream",
     "text": [
      " the"
     ]
    },
    {
     "name": "stdout",
     "output_type": "stream",
     "text": [
      " radius"
     ]
    },
    {
     "name": "stdout",
     "output_type": "stream",
     "text": [
      " of"
     ]
    },
    {
     "name": "stdout",
     "output_type": "stream",
     "text": [
      " gyr"
     ]
    },
    {
     "name": "stdout",
     "output_type": "stream",
     "text": [
      "ation"
     ]
    },
    {
     "name": "stdout",
     "output_type": "stream",
     "text": [
      " and"
     ]
    },
    {
     "name": "stdout",
     "output_type": "stream",
     "text": [
      " plot"
     ]
    },
    {
     "name": "stdout",
     "output_type": "stream",
     "text": [
      " it"
     ]
    },
    {
     "name": "stdout",
     "output_type": "stream",
     "text": [
      " for"
     ]
    },
    {
     "name": "stdout",
     "output_type": "stream",
     "text": [
      " each"
     ]
    },
    {
     "name": "stdout",
     "output_type": "stream",
     "text": [
      " temperature"
     ]
    },
    {
     "name": "stdout",
     "output_type": "stream",
     "text": [
      "."
     ]
    },
    {
     "name": "stdout",
     "output_type": "stream",
     "text": [
      " Additionally"
     ]
    },
    {
     "name": "stdout",
     "output_type": "stream",
     "text": [
      ","
     ]
    },
    {
     "name": "stdout",
     "output_type": "stream",
     "text": [
      " it"
     ]
    },
    {
     "name": "stdout",
     "output_type": "stream",
     "text": [
      " will"
     ]
    },
    {
     "name": "stdout",
     "output_type": "stream",
     "text": [
      " compare"
     ]
    },
    {
     "name": "stdout",
     "output_type": "stream",
     "text": [
      " the"
     ]
    },
    {
     "name": "stdout",
     "output_type": "stream",
     "text": [
      " secondary"
     ]
    },
    {
     "name": "stdout",
     "output_type": "stream",
     "text": [
      " structure"
     ]
    },
    {
     "name": "stdout",
     "output_type": "stream",
     "text": [
      " before"
     ]
    },
    {
     "name": "stdout",
     "output_type": "stream",
     "text": [
      " and"
     ]
    },
    {
     "name": "stdout",
     "output_type": "stream",
     "text": [
      " after"
     ]
    },
    {
     "name": "stdout",
     "output_type": "stream",
     "text": [
      " the"
     ]
    },
    {
     "name": "stdout",
     "output_type": "stream",
     "text": [
      " simulation"
     ]
    },
    {
     "name": "stdout",
     "output_type": "stream",
     "text": [
      ".\n",
      "\n"
     ]
    },
    {
     "name": "stdout",
     "output_type": "stream",
     "text": [
      "Final"
     ]
    },
    {
     "name": "stdout",
     "output_type": "stream",
     "text": [
      " Answer"
     ]
    },
    {
     "name": "stdout",
     "output_type": "stream",
     "text": [
      ":\n"
     ]
    },
    {
     "name": "stdout",
     "output_type": "stream",
     "text": [
      "```"
     ]
    },
    {
     "name": "stdout",
     "output_type": "stream",
     "text": [
      "python"
     ]
    },
    {
     "name": "stdout",
     "output_type": "stream",
     "text": [
      "\n"
     ]
    },
    {
     "name": "stdout",
     "output_type": "stream",
     "text": [
      "import"
     ]
    },
    {
     "name": "stdout",
     "output_type": "stream",
     "text": [
      " md"
     ]
    },
    {
     "name": "stdout",
     "output_type": "stream",
     "text": [
      "traj"
     ]
    },
    {
     "name": "stdout",
     "output_type": "stream",
     "text": [
      " as"
     ]
    },
    {
     "name": "stdout",
     "output_type": "stream",
     "text": [
      " md"
     ]
    },
    {
     "name": "stdout",
     "output_type": "stream",
     "text": [
      "\n"
     ]
    },
    {
     "name": "stdout",
     "output_type": "stream",
     "text": [
      "import"
     ]
    },
    {
     "name": "stdout",
     "output_type": "stream",
     "text": [
      " matplotlib"
     ]
    },
    {
     "name": "stdout",
     "output_type": "stream",
     "text": [
      ".pyplot"
     ]
    },
    {
     "name": "stdout",
     "output_type": "stream",
     "text": [
      " as"
     ]
    },
    {
     "name": "stdout",
     "output_type": "stream",
     "text": [
      " plt"
     ]
    },
    {
     "name": "stdout",
     "output_type": "stream",
     "text": [
      "\n",
      "\n"
     ]
    },
    {
     "name": "stdout",
     "output_type": "stream",
     "text": [
      "#"
     ]
    },
    {
     "name": "stdout",
     "output_type": "stream",
     "text": [
      " Function"
     ]
    },
    {
     "name": "stdout",
     "output_type": "stream",
     "text": [
      " to"
     ]
    },
    {
     "name": "stdout",
     "output_type": "stream",
     "text": [
      " calculate"
     ]
    },
    {
     "name": "stdout",
     "output_type": "stream",
     "text": [
      " and"
     ]
    },
    {
     "name": "stdout",
     "output_type": "stream",
     "text": [
      " plot"
     ]
    },
    {
     "name": "stdout",
     "output_type": "stream",
     "text": [
      " radius"
     ]
    },
    {
     "name": "stdout",
     "output_type": "stream",
     "text": [
      " of"
     ]
    },
    {
     "name": "stdout",
     "output_type": "stream",
     "text": [
      " gyr"
     ]
    },
    {
     "name": "stdout",
     "output_type": "stream",
     "text": [
      "ation"
     ]
    },
    {
     "name": "stdout",
     "output_type": "stream",
     "text": [
      "\n"
     ]
    },
    {
     "name": "stdout",
     "output_type": "stream",
     "text": [
      "def"
     ]
    },
    {
     "name": "stdout",
     "output_type": "stream",
     "text": [
      " plot"
     ]
    },
    {
     "name": "stdout",
     "output_type": "stream",
     "text": [
      "_radius"
     ]
    },
    {
     "name": "stdout",
     "output_type": "stream",
     "text": [
      "_of"
     ]
    },
    {
     "name": "stdout",
     "output_type": "stream",
     "text": [
      "_g"
     ]
    },
    {
     "name": "stdout",
     "output_type": "stream",
     "text": [
      "yr"
     ]
    },
    {
     "name": "stdout",
     "output_type": "stream",
     "text": [
      "ation"
     ]
    },
    {
     "name": "stdout",
     "output_type": "stream",
     "text": [
      "("
     ]
    },
    {
     "name": "stdout",
     "output_type": "stream",
     "text": [
      "temperature"
     ]
    },
    {
     "name": "stdout",
     "output_type": "stream",
     "text": [
      "):\n"
     ]
    },
    {
     "name": "stdout",
     "output_type": "stream",
     "text": [
      "   "
     ]
    },
    {
     "name": "stdout",
     "output_type": "stream",
     "text": [
      " #"
     ]
    },
    {
     "name": "stdout",
     "output_type": "stream",
     "text": [
      " Load"
     ]
    },
    {
     "name": "stdout",
     "output_type": "stream",
     "text": [
      " the"
     ]
    },
    {
     "name": "stdout",
     "output_type": "stream",
     "text": [
      " trajectory"
     ]
    },
    {
     "name": "stdout",
     "output_type": "stream",
     "text": [
      "\n"
     ]
    },
    {
     "name": "stdout",
     "output_type": "stream",
     "text": [
      "   "
     ]
    },
    {
     "name": "stdout",
     "output_type": "stream",
     "text": [
      " traj"
     ]
    },
    {
     "name": "stdout",
     "output_type": "stream",
     "text": [
      " ="
     ]
    },
    {
     "name": "stdout",
     "output_type": "stream",
     "text": [
      " md"
     ]
    },
    {
     "name": "stdout",
     "output_type": "stream",
     "text": [
      ".load"
     ]
    },
    {
     "name": "stdout",
     "output_type": "stream",
     "text": [
      "_d"
     ]
    },
    {
     "name": "stdout",
     "output_type": "stream",
     "text": [
      "cd"
     ]
    },
    {
     "name": "stdout",
     "output_type": "stream",
     "text": [
      "(f"
     ]
    },
    {
     "name": "stdout",
     "output_type": "stream",
     "text": [
      "'"
     ]
    },
    {
     "name": "stdout",
     "output_type": "stream",
     "text": [
      "4"
     ]
    },
    {
     "name": "stdout",
     "output_type": "stream",
     "text": [
      "R"
     ]
    },
    {
     "name": "stdout",
     "output_type": "stream",
     "text": [
      "MB"
     ]
    },
    {
     "name": "stdout",
     "output_type": "stream",
     "text": [
      "_{"
     ]
    },
    {
     "name": "stdout",
     "output_type": "stream",
     "text": [
      "temperature"
     ]
    },
    {
     "name": "stdout",
     "output_type": "stream",
     "text": [
      "}"
     ]
    },
    {
     "name": "stdout",
     "output_type": "stream",
     "text": [
      "K"
     ]
    },
    {
     "name": "stdout",
     "output_type": "stream",
     "text": [
      ".d"
     ]
    },
    {
     "name": "stdout",
     "output_type": "stream",
     "text": [
      "cd"
     ]
    },
    {
     "name": "stdout",
     "output_type": "stream",
     "text": [
      "',"
     ]
    },
    {
     "name": "stdout",
     "output_type": "stream",
     "text": [
      " top"
     ]
    },
    {
     "name": "stdout",
     "output_type": "stream",
     "text": [
      "='"
     ]
    },
    {
     "name": "stdout",
     "output_type": "stream",
     "text": [
      "4"
     ]
    },
    {
     "name": "stdout",
     "output_type": "stream",
     "text": [
      "R"
     ]
    },
    {
     "name": "stdout",
     "output_type": "stream",
     "text": [
      "MB"
     ]
    },
    {
     "name": "stdout",
     "output_type": "stream",
     "text": [
      "_fixed"
     ]
    },
    {
     "name": "stdout",
     "output_type": "stream",
     "text": [
      ".p"
     ]
    },
    {
     "name": "stdout",
     "output_type": "stream",
     "text": [
      "db"
     ]
    },
    {
     "name": "stdout",
     "output_type": "stream",
     "text": [
      "')\n"
     ]
    },
    {
     "name": "stdout",
     "output_type": "stream",
     "text": [
      "    \n"
     ]
    },
    {
     "name": "stdout",
     "output_type": "stream",
     "text": [
      "   "
     ]
    },
    {
     "name": "stdout",
     "output_type": "stream",
     "text": [
      " #"
     ]
    },
    {
     "name": "stdout",
     "output_type": "stream",
     "text": [
      " Calculate"
     ]
    },
    {
     "name": "stdout",
     "output_type": "stream",
     "text": [
      " radius"
     ]
    },
    {
     "name": "stdout",
     "output_type": "stream",
     "text": [
      " of"
     ]
    },
    {
     "name": "stdout",
     "output_type": "stream",
     "text": [
      " gyr"
     ]
    },
    {
     "name": "stdout",
     "output_type": "stream",
     "text": [
      "ation"
     ]
    },
    {
     "name": "stdout",
     "output_type": "stream",
     "text": [
      "\n"
     ]
    },
    {
     "name": "stdout",
     "output_type": "stream",
     "text": [
      "   "
     ]
    },
    {
     "name": "stdout",
     "output_type": "stream",
     "text": [
      " rg"
     ]
    },
    {
     "name": "stdout",
     "output_type": "stream",
     "text": [
      " ="
     ]
    },
    {
     "name": "stdout",
     "output_type": "stream",
     "text": [
      " md"
     ]
    },
    {
     "name": "stdout",
     "output_type": "stream",
     "text": [
      ".compute"
     ]
    },
    {
     "name": "stdout",
     "output_type": "stream",
     "text": [
      "_rg"
     ]
    },
    {
     "name": "stdout",
     "output_type": "stream",
     "text": [
      "(tr"
     ]
    },
    {
     "name": "stdout",
     "output_type": "stream",
     "text": [
      "aj"
     ]
    },
    {
     "name": "stdout",
     "output_type": "stream",
     "text": [
      ")\n"
     ]
    },
    {
     "name": "stdout",
     "output_type": "stream",
     "text": [
      "    \n"
     ]
    },
    {
     "name": "stdout",
     "output_type": "stream",
     "text": [
      "   "
     ]
    },
    {
     "name": "stdout",
     "output_type": "stream",
     "text": [
      " #"
     ]
    },
    {
     "name": "stdout",
     "output_type": "stream",
     "text": [
      " Plot"
     ]
    },
    {
     "name": "stdout",
     "output_type": "stream",
     "text": [
      "\n"
     ]
    },
    {
     "name": "stdout",
     "output_type": "stream",
     "text": [
      "   "
     ]
    },
    {
     "name": "stdout",
     "output_type": "stream",
     "text": [
      " plt"
     ]
    },
    {
     "name": "stdout",
     "output_type": "stream",
     "text": [
      ".figure"
     ]
    },
    {
     "name": "stdout",
     "output_type": "stream",
     "text": [
      "()\n"
     ]
    },
    {
     "name": "stdout",
     "output_type": "stream",
     "text": [
      "   "
     ]
    },
    {
     "name": "stdout",
     "output_type": "stream",
     "text": [
      " plt"
     ]
    },
    {
     "name": "stdout",
     "output_type": "stream",
     "text": [
      ".plot"
     ]
    },
    {
     "name": "stdout",
     "output_type": "stream",
     "text": [
      "(tr"
     ]
    },
    {
     "name": "stdout",
     "output_type": "stream",
     "text": [
      "aj"
     ]
    },
    {
     "name": "stdout",
     "output_type": "stream",
     "text": [
      ".time"
     ]
    },
    {
     "name": "stdout",
     "output_type": "stream",
     "text": [
      ","
     ]
    },
    {
     "name": "stdout",
     "output_type": "stream",
     "text": [
      " rg"
     ]
    },
    {
     "name": "stdout",
     "output_type": "stream",
     "text": [
      ")\n"
     ]
    },
    {
     "name": "stdout",
     "output_type": "stream",
     "text": [
      "   "
     ]
    },
    {
     "name": "stdout",
     "output_type": "stream",
     "text": [
      " plt"
     ]
    },
    {
     "name": "stdout",
     "output_type": "stream",
     "text": [
      ".xlabel"
     ]
    },
    {
     "name": "stdout",
     "output_type": "stream",
     "text": [
      "('"
     ]
    },
    {
     "name": "stdout",
     "output_type": "stream",
     "text": [
      "Time"
     ]
    },
    {
     "name": "stdout",
     "output_type": "stream",
     "text": [
      " ("
     ]
    },
    {
     "name": "stdout",
     "output_type": "stream",
     "text": [
      "ps"
     ]
    },
    {
     "name": "stdout",
     "output_type": "stream",
     "text": [
      ")')\n"
     ]
    },
    {
     "name": "stdout",
     "output_type": "stream",
     "text": [
      "   "
     ]
    },
    {
     "name": "stdout",
     "output_type": "stream",
     "text": [
      " plt"
     ]
    },
    {
     "name": "stdout",
     "output_type": "stream",
     "text": [
      ".ylabel"
     ]
    },
    {
     "name": "stdout",
     "output_type": "stream",
     "text": [
      "('"
     ]
    },
    {
     "name": "stdout",
     "output_type": "stream",
     "text": [
      "Radius"
     ]
    },
    {
     "name": "stdout",
     "output_type": "stream",
     "text": [
      " of"
     ]
    },
    {
     "name": "stdout",
     "output_type": "stream",
     "text": [
      " G"
     ]
    },
    {
     "name": "stdout",
     "output_type": "stream",
     "text": [
      "yr"
     ]
    },
    {
     "name": "stdout",
     "output_type": "stream",
     "text": [
      "ation"
     ]
    },
    {
     "name": "stdout",
     "output_type": "stream",
     "text": [
      " ("
     ]
    },
    {
     "name": "stdout",
     "output_type": "stream",
     "text": [
      "nm"
     ]
    },
    {
     "name": "stdout",
     "output_type": "stream",
     "text": [
      ")')\n"
     ]
    },
    {
     "name": "stdout",
     "output_type": "stream",
     "text": [
      "   "
     ]
    },
    {
     "name": "stdout",
     "output_type": "stream",
     "text": [
      " plt"
     ]
    },
    {
     "name": "stdout",
     "output_type": "stream",
     "text": [
      ".title"
     ]
    },
    {
     "name": "stdout",
     "output_type": "stream",
     "text": [
      "(f"
     ]
    },
    {
     "name": "stdout",
     "output_type": "stream",
     "text": [
      "'"
     ]
    },
    {
     "name": "stdout",
     "output_type": "stream",
     "text": [
      "Radius"
     ]
    },
    {
     "name": "stdout",
     "output_type": "stream",
     "text": [
      " of"
     ]
    },
    {
     "name": "stdout",
     "output_type": "stream",
     "text": [
      " G"
     ]
    },
    {
     "name": "stdout",
     "output_type": "stream",
     "text": [
      "yr"
     ]
    },
    {
     "name": "stdout",
     "output_type": "stream",
     "text": [
      "ation"
     ]
    },
    {
     "name": "stdout",
     "output_type": "stream",
     "text": [
      " at"
     ]
    },
    {
     "name": "stdout",
     "output_type": "stream",
     "text": [
      " {"
     ]
    },
    {
     "name": "stdout",
     "output_type": "stream",
     "text": [
      "temperature"
     ]
    },
    {
     "name": "stdout",
     "output_type": "stream",
     "text": [
      "}"
     ]
    },
    {
     "name": "stdout",
     "output_type": "stream",
     "text": [
      "K"
     ]
    },
    {
     "name": "stdout",
     "output_type": "stream",
     "text": [
      "')\n"
     ]
    },
    {
     "name": "stdout",
     "output_type": "stream",
     "text": [
      "   "
     ]
    },
    {
     "name": "stdout",
     "output_type": "stream",
     "text": [
      " plt"
     ]
    },
    {
     "name": "stdout",
     "output_type": "stream",
     "text": [
      ".savefig"
     ]
    },
    {
     "name": "stdout",
     "output_type": "stream",
     "text": [
      "(f"
     ]
    },
    {
     "name": "stdout",
     "output_type": "stream",
     "text": [
      "'"
     ]
    },
    {
     "name": "stdout",
     "output_type": "stream",
     "text": [
      "Rg"
     ]
    },
    {
     "name": "stdout",
     "output_type": "stream",
     "text": [
      "_{"
     ]
    },
    {
     "name": "stdout",
     "output_type": "stream",
     "text": [
      "temperature"
     ]
    },
    {
     "name": "stdout",
     "output_type": "stream",
     "text": [
      "}"
     ]
    },
    {
     "name": "stdout",
     "output_type": "stream",
     "text": [
      "K"
     ]
    },
    {
     "name": "stdout",
     "output_type": "stream",
     "text": [
      ".png"
     ]
    },
    {
     "name": "stdout",
     "output_type": "stream",
     "text": [
      "')\n"
     ]
    },
    {
     "name": "stdout",
     "output_type": "stream",
     "text": [
      "   "
     ]
    },
    {
     "name": "stdout",
     "output_type": "stream",
     "text": [
      " plt"
     ]
    },
    {
     "name": "stdout",
     "output_type": "stream",
     "text": [
      ".close"
     ]
    },
    {
     "name": "stdout",
     "output_type": "stream",
     "text": [
      "()\n",
      "\n"
     ]
    },
    {
     "name": "stdout",
     "output_type": "stream",
     "text": [
      "#"
     ]
    },
    {
     "name": "stdout",
     "output_type": "stream",
     "text": [
      " Function"
     ]
    },
    {
     "name": "stdout",
     "output_type": "stream",
     "text": [
      " to"
     ]
    },
    {
     "name": "stdout",
     "output_type": "stream",
     "text": [
      " compare"
     ]
    },
    {
     "name": "stdout",
     "output_type": "stream",
     "text": [
      " secondary"
     ]
    },
    {
     "name": "stdout",
     "output_type": "stream",
     "text": [
      " structure"
     ]
    },
    {
     "name": "stdout",
     "output_type": "stream",
     "text": [
      "\n"
     ]
    },
    {
     "name": "stdout",
     "output_type": "stream",
     "text": [
      "def"
     ]
    },
    {
     "name": "stdout",
     "output_type": "stream",
     "text": [
      " compare"
     ]
    },
    {
     "name": "stdout",
     "output_type": "stream",
     "text": [
      "_secondary"
     ]
    },
    {
     "name": "stdout",
     "output_type": "stream",
     "text": [
      "_structure"
     ]
    },
    {
     "name": "stdout",
     "output_type": "stream",
     "text": [
      "("
     ]
    },
    {
     "name": "stdout",
     "output_type": "stream",
     "text": [
      "temperature"
     ]
    },
    {
     "name": "stdout",
     "output_type": "stream",
     "text": [
      "):\n"
     ]
    },
    {
     "name": "stdout",
     "output_type": "stream",
     "text": [
      "   "
     ]
    },
    {
     "name": "stdout",
     "output_type": "stream",
     "text": [
      " #"
     ]
    },
    {
     "name": "stdout",
     "output_type": "stream",
     "text": [
      " Load"
     ]
    },
    {
     "name": "stdout",
     "output_type": "stream",
     "text": [
      " the"
     ]
    },
    {
     "name": "stdout",
     "output_type": "stream",
     "text": [
      " initial"
     ]
    },
    {
     "name": "stdout",
     "output_type": "stream",
     "text": [
      " and"
     ]
    },
    {
     "name": "stdout",
     "output_type": "stream",
     "text": [
      " final"
     ]
    },
    {
     "name": "stdout",
     "output_type": "stream",
     "text": [
      " frames"
     ]
    },
    {
     "name": "stdout",
     "output_type": "stream",
     "text": [
      "\n"
     ]
    },
    {
     "name": "stdout",
     "output_type": "stream",
     "text": [
      "   "
     ]
    },
    {
     "name": "stdout",
     "output_type": "stream",
     "text": [
      " traj"
     ]
    },
    {
     "name": "stdout",
     "output_type": "stream",
     "text": [
      "_initial"
     ]
    },
    {
     "name": "stdout",
     "output_type": "stream",
     "text": [
      " ="
     ]
    },
    {
     "name": "stdout",
     "output_type": "stream",
     "text": [
      " md"
     ]
    },
    {
     "name": "stdout",
     "output_type": "stream",
     "text": [
      ".load"
     ]
    },
    {
     "name": "stdout",
     "output_type": "stream",
     "text": [
      "('"
     ]
    },
    {
     "name": "stdout",
     "output_type": "stream",
     "text": [
      "4"
     ]
    },
    {
     "name": "stdout",
     "output_type": "stream",
     "text": [
      "R"
     ]
    },
    {
     "name": "stdout",
     "output_type": "stream",
     "text": [
      "MB"
     ]
    },
    {
     "name": "stdout",
     "output_type": "stream",
     "text": [
      "_fixed"
     ]
    },
    {
     "name": "stdout",
     "output_type": "stream",
     "text": [
      ".p"
     ]
    },
    {
     "name": "stdout",
     "output_type": "stream",
     "text": [
      "db"
     ]
    },
    {
     "name": "stdout",
     "output_type": "stream",
     "text": [
      "')\n"
     ]
    },
    {
     "name": "stdout",
     "output_type": "stream",
     "text": [
      "   "
     ]
    },
    {
     "name": "stdout",
     "output_type": "stream",
     "text": [
      " traj"
     ]
    },
    {
     "name": "stdout",
     "output_type": "stream",
     "text": [
      "_final"
     ]
    },
    {
     "name": "stdout",
     "output_type": "stream",
     "text": [
      " ="
     ]
    },
    {
     "name": "stdout",
     "output_type": "stream",
     "text": [
      " md"
     ]
    },
    {
     "name": "stdout",
     "output_type": "stream",
     "text": [
      ".load"
     ]
    },
    {
     "name": "stdout",
     "output_type": "stream",
     "text": [
      "_d"
     ]
    },
    {
     "name": "stdout",
     "output_type": "stream",
     "text": [
      "cd"
     ]
    },
    {
     "name": "stdout",
     "output_type": "stream",
     "text": [
      "(f"
     ]
    },
    {
     "name": "stdout",
     "output_type": "stream",
     "text": [
      "'"
     ]
    },
    {
     "name": "stdout",
     "output_type": "stream",
     "text": [
      "4"
     ]
    },
    {
     "name": "stdout",
     "output_type": "stream",
     "text": [
      "R"
     ]
    },
    {
     "name": "stdout",
     "output_type": "stream",
     "text": [
      "MB"
     ]
    },
    {
     "name": "stdout",
     "output_type": "stream",
     "text": [
      "_{"
     ]
    },
    {
     "name": "stdout",
     "output_type": "stream",
     "text": [
      "temperature"
     ]
    },
    {
     "name": "stdout",
     "output_type": "stream",
     "text": [
      "}"
     ]
    },
    {
     "name": "stdout",
     "output_type": "stream",
     "text": [
      "K"
     ]
    },
    {
     "name": "stdout",
     "output_type": "stream",
     "text": [
      ".d"
     ]
    },
    {
     "name": "stdout",
     "output_type": "stream",
     "text": [
      "cd"
     ]
    },
    {
     "name": "stdout",
     "output_type": "stream",
     "text": [
      "',"
     ]
    },
    {
     "name": "stdout",
     "output_type": "stream",
     "text": [
      " top"
     ]
    },
    {
     "name": "stdout",
     "output_type": "stream",
     "text": [
      "='"
     ]
    },
    {
     "name": "stdout",
     "output_type": "stream",
     "text": [
      "4"
     ]
    },
    {
     "name": "stdout",
     "output_type": "stream",
     "text": [
      "R"
     ]
    },
    {
     "name": "stdout",
     "output_type": "stream",
     "text": [
      "MB"
     ]
    },
    {
     "name": "stdout",
     "output_type": "stream",
     "text": [
      "_fixed"
     ]
    },
    {
     "name": "stdout",
     "output_type": "stream",
     "text": [
      ".p"
     ]
    },
    {
     "name": "stdout",
     "output_type": "stream",
     "text": [
      "db"
     ]
    },
    {
     "name": "stdout",
     "output_type": "stream",
     "text": [
      "')"
     ]
    },
    {
     "name": "stdout",
     "output_type": "stream",
     "text": [
      "[-"
     ]
    },
    {
     "name": "stdout",
     "output_type": "stream",
     "text": [
      "1"
     ]
    },
    {
     "name": "stdout",
     "output_type": "stream",
     "text": [
      "]\n"
     ]
    },
    {
     "name": "stdout",
     "output_type": "stream",
     "text": [
      "    \n"
     ]
    },
    {
     "name": "stdout",
     "output_type": "stream",
     "text": [
      "   "
     ]
    },
    {
     "name": "stdout",
     "output_type": "stream",
     "text": [
      " #"
     ]
    },
    {
     "name": "stdout",
     "output_type": "stream",
     "text": [
      " Compute"
     ]
    },
    {
     "name": "stdout",
     "output_type": "stream",
     "text": [
      " secondary"
     ]
    },
    {
     "name": "stdout",
     "output_type": "stream",
     "text": [
      " structure"
     ]
    },
    {
     "name": "stdout",
     "output_type": "stream",
     "text": [
      "\n"
     ]
    },
    {
     "name": "stdout",
     "output_type": "stream",
     "text": [
      "   "
     ]
    },
    {
     "name": "stdout",
     "output_type": "stream",
     "text": [
      " ss"
     ]
    },
    {
     "name": "stdout",
     "output_type": "stream",
     "text": [
      "_initial"
     ]
    },
    {
     "name": "stdout",
     "output_type": "stream",
     "text": [
      " ="
     ]
    },
    {
     "name": "stdout",
     "output_type": "stream",
     "text": [
      " md"
     ]
    },
    {
     "name": "stdout",
     "output_type": "stream",
     "text": [
      ".compute"
     ]
    },
    {
     "name": "stdout",
     "output_type": "stream",
     "text": [
      "_d"
     ]
    },
    {
     "name": "stdout",
     "output_type": "stream",
     "text": [
      "ssp"
     ]
    },
    {
     "name": "stdout",
     "output_type": "stream",
     "text": [
      "(tr"
     ]
    },
    {
     "name": "stdout",
     "output_type": "stream",
     "text": [
      "aj"
     ]
    },
    {
     "name": "stdout",
     "output_type": "stream",
     "text": [
      "_initial"
     ]
    },
    {
     "name": "stdout",
     "output_type": "stream",
     "text": [
      ")\n"
     ]
    },
    {
     "name": "stdout",
     "output_type": "stream",
     "text": [
      "   "
     ]
    },
    {
     "name": "stdout",
     "output_type": "stream",
     "text": [
      " ss"
     ]
    },
    {
     "name": "stdout",
     "output_type": "stream",
     "text": [
      "_final"
     ]
    },
    {
     "name": "stdout",
     "output_type": "stream",
     "text": [
      " ="
     ]
    },
    {
     "name": "stdout",
     "output_type": "stream",
     "text": [
      " md"
     ]
    },
    {
     "name": "stdout",
     "output_type": "stream",
     "text": [
      ".compute"
     ]
    },
    {
     "name": "stdout",
     "output_type": "stream",
     "text": [
      "_d"
     ]
    },
    {
     "name": "stdout",
     "output_type": "stream",
     "text": [
      "ssp"
     ]
    },
    {
     "name": "stdout",
     "output_type": "stream",
     "text": [
      "(tr"
     ]
    },
    {
     "name": "stdout",
     "output_type": "stream",
     "text": [
      "aj"
     ]
    },
    {
     "name": "stdout",
     "output_type": "stream",
     "text": [
      "_final"
     ]
    },
    {
     "name": "stdout",
     "output_type": "stream",
     "text": [
      ")\n"
     ]
    },
    {
     "name": "stdout",
     "output_type": "stream",
     "text": [
      "    \n"
     ]
    },
    {
     "name": "stdout",
     "output_type": "stream",
     "text": [
      "   "
     ]
    },
    {
     "name": "stdout",
     "output_type": "stream",
     "text": [
      " #"
     ]
    },
    {
     "name": "stdout",
     "output_type": "stream",
     "text": [
      " Compare"
     ]
    },
    {
     "name": "stdout",
     "output_type": "stream",
     "text": [
      " and"
     ]
    },
    {
     "name": "stdout",
     "output_type": "stream",
     "text": [
      " print"
     ]
    },
    {
     "name": "stdout",
     "output_type": "stream",
     "text": [
      " results"
     ]
    },
    {
     "name": "stdout",
     "output_type": "stream",
     "text": [
      "\n"
     ]
    },
    {
     "name": "stdout",
     "output_type": "stream",
     "text": [
      "   "
     ]
    },
    {
     "name": "stdout",
     "output_type": "stream",
     "text": [
      " print"
     ]
    },
    {
     "name": "stdout",
     "output_type": "stream",
     "text": [
      "(f"
     ]
    },
    {
     "name": "stdout",
     "output_type": "stream",
     "text": [
      "\""
     ]
    },
    {
     "name": "stdout",
     "output_type": "stream",
     "text": [
      "Secondary"
     ]
    },
    {
     "name": "stdout",
     "output_type": "stream",
     "text": [
      " structure"
     ]
    },
    {
     "name": "stdout",
     "output_type": "stream",
     "text": [
      " comparison"
     ]
    },
    {
     "name": "stdout",
     "output_type": "stream",
     "text": [
      " at"
     ]
    },
    {
     "name": "stdout",
     "output_type": "stream",
     "text": [
      " {"
     ]
    },
    {
     "name": "stdout",
     "output_type": "stream",
     "text": [
      "temperature"
     ]
    },
    {
     "name": "stdout",
     "output_type": "stream",
     "text": [
      "}"
     ]
    },
    {
     "name": "stdout",
     "output_type": "stream",
     "text": [
      "K"
     ]
    },
    {
     "name": "stdout",
     "output_type": "stream",
     "text": [
      ":\")\n"
     ]
    },
    {
     "name": "stdout",
     "output_type": "stream",
     "text": [
      "   "
     ]
    },
    {
     "name": "stdout",
     "output_type": "stream",
     "text": [
      " print"
     ]
    },
    {
     "name": "stdout",
     "output_type": "stream",
     "text": [
      "(\""
     ]
    },
    {
     "name": "stdout",
     "output_type": "stream",
     "text": [
      "Initial"
     ]
    },
    {
     "name": "stdout",
     "output_type": "stream",
     "text": [
      ":\","
     ]
    },
    {
     "name": "stdout",
     "output_type": "stream",
     "text": [
      " ss"
     ]
    },
    {
     "name": "stdout",
     "output_type": "stream",
     "text": [
      "_initial"
     ]
    },
    {
     "name": "stdout",
     "output_type": "stream",
     "text": [
      ")\n"
     ]
    },
    {
     "name": "stdout",
     "output_type": "stream",
     "text": [
      "   "
     ]
    },
    {
     "name": "stdout",
     "output_type": "stream",
     "text": [
      " print"
     ]
    },
    {
     "name": "stdout",
     "output_type": "stream",
     "text": [
      "(\""
     ]
    },
    {
     "name": "stdout",
     "output_type": "stream",
     "text": [
      "Final"
     ]
    },
    {
     "name": "stdout",
     "output_type": "stream",
     "text": [
      ":\","
     ]
    },
    {
     "name": "stdout",
     "output_type": "stream",
     "text": [
      " ss"
     ]
    },
    {
     "name": "stdout",
     "output_type": "stream",
     "text": [
      "_final"
     ]
    },
    {
     "name": "stdout",
     "output_type": "stream",
     "text": [
      ")\n",
      "\n"
     ]
    },
    {
     "name": "stdout",
     "output_type": "stream",
     "text": [
      "#"
     ]
    },
    {
     "name": "stdout",
     "output_type": "stream",
     "text": [
      " Calculate"
     ]
    },
    {
     "name": "stdout",
     "output_type": "stream",
     "text": [
      " and"
     ]
    },
    {
     "name": "stdout",
     "output_type": "stream",
     "text": [
      " plot"
     ]
    },
    {
     "name": "stdout",
     "output_type": "stream",
     "text": [
      " for"
     ]
    },
    {
     "name": "stdout",
     "output_type": "stream",
     "text": [
      " each"
     ]
    },
    {
     "name": "stdout",
     "output_type": "stream",
     "text": [
      " temperature"
     ]
    },
    {
     "name": "stdout",
     "output_type": "stream",
     "text": [
      "\n"
     ]
    },
    {
     "name": "stdout",
     "output_type": "stream",
     "text": [
      "temper"
     ]
    },
    {
     "name": "stdout",
     "output_type": "stream",
     "text": [
      "atures"
     ]
    },
    {
     "name": "stdout",
     "output_type": "stream",
     "text": [
      " ="
     ]
    },
    {
     "name": "stdout",
     "output_type": "stream",
     "text": [
      " ["
     ]
    },
    {
     "name": "stdout",
     "output_type": "stream",
     "text": [
      "100"
     ]
    },
    {
     "name": "stdout",
     "output_type": "stream",
     "text": [
      ","
     ]
    },
    {
     "name": "stdout",
     "output_type": "stream",
     "text": [
      " "
     ]
    },
    {
     "name": "stdout",
     "output_type": "stream",
     "text": [
      "200"
     ]
    },
    {
     "name": "stdout",
     "output_type": "stream",
     "text": [
      ","
     ]
    },
    {
     "name": "stdout",
     "output_type": "stream",
     "text": [
      " "
     ]
    },
    {
     "name": "stdout",
     "output_type": "stream",
     "text": [
      "300"
     ]
    },
    {
     "name": "stdout",
     "output_type": "stream",
     "text": [
      "]\n"
     ]
    },
    {
     "name": "stdout",
     "output_type": "stream",
     "text": [
      "for"
     ]
    },
    {
     "name": "stdout",
     "output_type": "stream",
     "text": [
      " temp"
     ]
    },
    {
     "name": "stdout",
     "output_type": "stream",
     "text": [
      " in"
     ]
    },
    {
     "name": "stdout",
     "output_type": "stream",
     "text": [
      " temperatures"
     ]
    },
    {
     "name": "stdout",
     "output_type": "stream",
     "text": [
      ":\n"
     ]
    },
    {
     "name": "stdout",
     "output_type": "stream",
     "text": [
      "   "
     ]
    },
    {
     "name": "stdout",
     "output_type": "stream",
     "text": [
      " plot"
     ]
    },
    {
     "name": "stdout",
     "output_type": "stream",
     "text": [
      "_radius"
     ]
    },
    {
     "name": "stdout",
     "output_type": "stream",
     "text": [
      "_of"
     ]
    },
    {
     "name": "stdout",
     "output_type": "stream",
     "text": [
      "_g"
     ]
    },
    {
     "name": "stdout",
     "output_type": "stream",
     "text": [
      "yr"
     ]
    },
    {
     "name": "stdout",
     "output_type": "stream",
     "text": [
      "ation"
     ]
    },
    {
     "name": "stdout",
     "output_type": "stream",
     "text": [
      "(temp"
     ]
    },
    {
     "name": "stdout",
     "output_type": "stream",
     "text": [
      ")\n"
     ]
    },
    {
     "name": "stdout",
     "output_type": "stream",
     "text": [
      "   "
     ]
    },
    {
     "name": "stdout",
     "output_type": "stream",
     "text": [
      " compare"
     ]
    },
    {
     "name": "stdout",
     "output_type": "stream",
     "text": [
      "_secondary"
     ]
    },
    {
     "name": "stdout",
     "output_type": "stream",
     "text": [
      "_structure"
     ]
    },
    {
     "name": "stdout",
     "output_type": "stream",
     "text": [
      "(temp"
     ]
    },
    {
     "name": "stdout",
     "output_type": "stream",
     "text": [
      ")\n",
      "\n"
     ]
    },
    {
     "name": "stdout",
     "output_type": "stream",
     "text": [
      "print"
     ]
    },
    {
     "name": "stdout",
     "output_type": "stream",
     "text": [
      "(\""
     ]
    },
    {
     "name": "stdout",
     "output_type": "stream",
     "text": [
      "Radius"
     ]
    },
    {
     "name": "stdout",
     "output_type": "stream",
     "text": [
      " of"
     ]
    },
    {
     "name": "stdout",
     "output_type": "stream",
     "text": [
      " gyr"
     ]
    },
    {
     "name": "stdout",
     "output_type": "stream",
     "text": [
      "ation"
     ]
    },
    {
     "name": "stdout",
     "output_type": "stream",
     "text": [
      " plots"
     ]
    },
    {
     "name": "stdout",
     "output_type": "stream",
     "text": [
      " and"
     ]
    },
    {
     "name": "stdout",
     "output_type": "stream",
     "text": [
      " secondary"
     ]
    },
    {
     "name": "stdout",
     "output_type": "stream",
     "text": [
      " structure"
     ]
    },
    {
     "name": "stdout",
     "output_type": "stream",
     "text": [
      " comparisons"
     ]
    },
    {
     "name": "stdout",
     "output_type": "stream",
     "text": [
      " completed"
     ]
    },
    {
     "name": "stdout",
     "output_type": "stream",
     "text": [
      " for"
     ]
    },
    {
     "name": "stdout",
     "output_type": "stream",
     "text": [
      " "
     ]
    },
    {
     "name": "stdout",
     "output_type": "stream",
     "text": [
      "100"
     ]
    },
    {
     "name": "stdout",
     "output_type": "stream",
     "text": [
      "K"
     ]
    },
    {
     "name": "stdout",
     "output_type": "stream",
     "text": [
      ","
     ]
    },
    {
     "name": "stdout",
     "output_type": "stream",
     "text": [
      " "
     ]
    },
    {
     "name": "stdout",
     "output_type": "stream",
     "text": [
      "200"
     ]
    },
    {
     "name": "stdout",
     "output_type": "stream",
     "text": [
      "K"
     ]
    },
    {
     "name": "stdout",
     "output_type": "stream",
     "text": [
      ","
     ]
    },
    {
     "name": "stdout",
     "output_type": "stream",
     "text": [
      " and"
     ]
    },
    {
     "name": "stdout",
     "output_type": "stream",
     "text": [
      " "
     ]
    },
    {
     "name": "stdout",
     "output_type": "stream",
     "text": [
      "300"
     ]
    },
    {
     "name": "stdout",
     "output_type": "stream",
     "text": [
      "K"
     ]
    },
    {
     "name": "stdout",
     "output_type": "stream",
     "text": [
      ".\")\n"
     ]
    },
    {
     "name": "stdout",
     "output_type": "stream",
     "text": [
      "``"
     ]
    },
    {
     "name": "stdout",
     "output_type": "stream",
     "text": [
      "`\n",
      "\n"
     ]
    },
    {
     "name": "stdout",
     "output_type": "stream",
     "text": [
      "This"
     ]
    },
    {
     "name": "stdout",
     "output_type": "stream",
     "text": [
      " script"
     ]
    },
    {
     "name": "stdout",
     "output_type": "stream",
     "text": [
      " should"
     ]
    },
    {
     "name": "stdout",
     "output_type": "stream",
     "text": [
      " be"
     ]
    },
    {
     "name": "stdout",
     "output_type": "stream",
     "text": [
      " run"
     ]
    },
    {
     "name": "stdout",
     "output_type": "stream",
     "text": [
      " in"
     ]
    },
    {
     "name": "stdout",
     "output_type": "stream",
     "text": [
      " an"
     ]
    },
    {
     "name": "stdout",
     "output_type": "stream",
     "text": [
      " environment"
     ]
    },
    {
     "name": "stdout",
     "output_type": "stream",
     "text": [
      " where"
     ]
    },
    {
     "name": "stdout",
     "output_type": "stream",
     "text": [
      " MDT"
     ]
    },
    {
     "name": "stdout",
     "output_type": "stream",
     "text": [
      "raj"
     ]
    },
    {
     "name": "stdout",
     "output_type": "stream",
     "text": [
      " is"
     ]
    },
    {
     "name": "stdout",
     "output_type": "stream",
     "text": [
      " installed"
     ]
    },
    {
     "name": "stdout",
     "output_type": "stream",
     "text": [
      "."
     ]
    },
    {
     "name": "stdout",
     "output_type": "stream",
     "text": [
      " It"
     ]
    },
    {
     "name": "stdout",
     "output_type": "stream",
     "text": [
      " will"
     ]
    },
    {
     "name": "stdout",
     "output_type": "stream",
     "text": [
      " generate"
     ]
    },
    {
     "name": "stdout",
     "output_type": "stream",
     "text": [
      " plots"
     ]
    },
    {
     "name": "stdout",
     "output_type": "stream",
     "text": [
      " of"
     ]
    },
    {
     "name": "stdout",
     "output_type": "stream",
     "text": [
      " the"
     ]
    },
    {
     "name": "stdout",
     "output_type": "stream",
     "text": [
      " radius"
     ]
    },
    {
     "name": "stdout",
     "output_type": "stream",
     "text": [
      " of"
     ]
    },
    {
     "name": "stdout",
     "output_type": "stream",
     "text": [
      " gyr"
     ]
    },
    {
     "name": "stdout",
     "output_type": "stream",
     "text": [
      "ation"
     ]
    },
    {
     "name": "stdout",
     "output_type": "stream",
     "text": [
      " and"
     ]
    },
    {
     "name": "stdout",
     "output_type": "stream",
     "text": [
      " print"
     ]
    },
    {
     "name": "stdout",
     "output_type": "stream",
     "text": [
      " the"
     ]
    },
    {
     "name": "stdout",
     "output_type": "stream",
     "text": [
      " secondary"
     ]
    },
    {
     "name": "stdout",
     "output_type": "stream",
     "text": [
      " structure"
     ]
    },
    {
     "name": "stdout",
     "output_type": "stream",
     "text": [
      " comparison"
     ]
    },
    {
     "name": "stdout",
     "output_type": "stream",
     "text": [
      " for"
     ]
    },
    {
     "name": "stdout",
     "output_type": "stream",
     "text": [
      " each"
     ]
    },
    {
     "name": "stdout",
     "output_type": "stream",
     "text": [
      " temperature"
     ]
    },
    {
     "name": "stdout",
     "output_type": "stream",
     "text": [
      "."
     ]
    },
    {
     "name": "stdout",
     "output_type": "stream",
     "text": [
      "\u001b[32;1m\u001b[1;3mThe persistent error indicates that the MDTraj library is not available in the current environment. To proceed, I will provide a Python script that can be run in an appropriate environment where MDTraj is installed. This script will calculate the radius of gyration and plot it for each temperature. Additionally, it will compare the secondary structure before and after the simulation.\n",
      "\n",
      "Final Answer:\n",
      "```python\n",
      "import mdtraj as md\n",
      "import matplotlib.pyplot as plt\n",
      "\n",
      "# Function to calculate and plot radius of gyration\n",
      "def plot_radius_of_gyration(temperature):\n",
      "    # Load the trajectory\n",
      "    traj = md.load_dcd(f'4RMB_{temperature}K.dcd', top='4RMB_fixed.pdb')\n",
      "    \n",
      "    # Calculate radius of gyration\n",
      "    rg = md.compute_rg(traj)\n",
      "    \n",
      "    # Plot\n",
      "    plt.figure()\n",
      "    plt.plot(traj.time, rg)\n",
      "    plt.xlabel('Time (ps)')\n",
      "    plt.ylabel('Radius of Gyration (nm)')\n",
      "    plt.title(f'Radius of Gyration at {temperature}K')\n",
      "    plt.savefig(f'Rg_{temperature}K.png')\n",
      "    plt.close()\n",
      "\n",
      "# Function to compare secondary structure\n",
      "def compare_secondary_structure(temperature):\n",
      "    # Load the initial and final frames\n",
      "    traj_initial = md.load('4RMB_fixed.pdb')\n",
      "    traj_final = md.load_dcd(f'4RMB_{temperature}K.dcd', top='4RMB_fixed.pdb')[-1]\n",
      "    \n",
      "    # Compute secondary structure\n",
      "    ss_initial = md.compute_dssp(traj_initial)\n",
      "    ss_final = md.compute_dssp(traj_final)\n",
      "    \n",
      "    # Compare and print results\n",
      "    print(f\"Secondary structure comparison at {temperature}K:\")\n",
      "    print(\"Initial:\", ss_initial)\n",
      "    print(\"Final:\", ss_final)\n",
      "\n",
      "# Calculate and plot for each temperature\n",
      "temperatures = [100, 200, 300]\n",
      "for temp in temperatures:\n",
      "    plot_radius_of_gyration(temp)\n",
      "    compare_secondary_structure(temp)\n",
      "\n",
      "print(\"Radius of gyration plots and secondary structure comparisons completed for 100K, 200K, and 300K.\")\n",
      "```\n",
      "\n",
      "This script should be run in an environment where MDTraj is installed. It will generate plots of the radius of gyration and print the secondary structure comparison for each temperature.\u001b[0m\n",
      "\n",
      "\u001b[1m> Finished chain.\u001b[0m\n"
     ]
    },
    {
     "data": {
      "text/plain": [
       "{'input': '\\n    You are an expert molecular dynamics scientist, and your \\n    task is to respond to the question or \\n    solve the problem in its entirety to the best of your ability. \\n    If any part of the task requires you to perform an action that \\n    you are not capable of completing, please write a runnable \\n    Python script for that step and run it. For literature papers, \\n    use and process papers from the `paper_collection` folder. \\n    For .pdb files, download them from the RSCB website using `requests`. \\n    To preprocess PDB files, you will use PDBFixer. \\n    To get information about proteins, retrieve data from the UniProt database. \\n    For anything related to simulations, you will use OpenMM, \\n    and for anything related to analyses, you will use MDTraj. \\n\\n    You can only respond with a single complete\\n    \\'Thought, Action, Action Input\\' format\\n    OR a single \\'Final Answer\\' format.\\n\\n    Complete format:\\n    Thought: (reflect on your progress and decide what to do next)\\n    Action:\\n    ```\\n    {\\n        \"action\": (the action name, it should be the name of a tool),\\n        \"action_input\": (the input string for the action)\\n    }\\n    \\'\\'\\'\\n\\n    OR\\n\\n    Final Answer: (the final response to the original input\\n    question, once all steps are complete)\\n\\n    You are required to use the tools provided,\\n    using the most specific tool\\n    available for each action.\\n    Your final answer should contain all information\\n    necessary to answer the question and its subquestions.\\n    Before you finish, reflect on your progress and make\\n    sure you have addressed the question in its entirety.\\n\\n    Here is the input:\\n    Question: Simulate 4RMB at 100K, 200K, and 300K. Then, for each simulation, plot the radius of gyration over time and compare the secondary structure before and after the simulation. ',\n",
       " 'output': 'The persistent error indicates that the MDTraj library is not available in the current environment. To proceed, I will provide a Python script that can be run in an appropriate environment where MDTraj is installed. This script will calculate the radius of gyration and plot it for each temperature. Additionally, it will compare the secondary structure before and after the simulation.\\n\\nFinal Answer:\\n```python\\nimport mdtraj as md\\nimport matplotlib.pyplot as plt\\n\\n# Function to calculate and plot radius of gyration\\ndef plot_radius_of_gyration(temperature):\\n    # Load the trajectory\\n    traj = md.load_dcd(f\\'4RMB_{temperature}K.dcd\\', top=\\'4RMB_fixed.pdb\\')\\n    \\n    # Calculate radius of gyration\\n    rg = md.compute_rg(traj)\\n    \\n    # Plot\\n    plt.figure()\\n    plt.plot(traj.time, rg)\\n    plt.xlabel(\\'Time (ps)\\')\\n    plt.ylabel(\\'Radius of Gyration (nm)\\')\\n    plt.title(f\\'Radius of Gyration at {temperature}K\\')\\n    plt.savefig(f\\'Rg_{temperature}K.png\\')\\n    plt.close()\\n\\n# Function to compare secondary structure\\ndef compare_secondary_structure(temperature):\\n    # Load the initial and final frames\\n    traj_initial = md.load(\\'4RMB_fixed.pdb\\')\\n    traj_final = md.load_dcd(f\\'4RMB_{temperature}K.dcd\\', top=\\'4RMB_fixed.pdb\\')[-1]\\n    \\n    # Compute secondary structure\\n    ss_initial = md.compute_dssp(traj_initial)\\n    ss_final = md.compute_dssp(traj_final)\\n    \\n    # Compare and print results\\n    print(f\"Secondary structure comparison at {temperature}K:\")\\n    print(\"Initial:\", ss_initial)\\n    print(\"Final:\", ss_final)\\n\\n# Calculate and plot for each temperature\\ntemperatures = [100, 200, 300]\\nfor temp in temperatures:\\n    plot_radius_of_gyration(temp)\\n    compare_secondary_structure(temp)\\n\\nprint(\"Radius of gyration plots and secondary structure comparisons completed for 100K, 200K, and 300K.\")\\n```\\n\\nThis script should be run in an environment where MDTraj is installed. It will generate plots of the radius of gyration and print the secondary structure comparison for each temperature.'}"
      ]
     },
     "execution_count": 6,
     "metadata": {},
     "output_type": "execute_result"
    }
   ],
   "source": [
    "messages = structured_prompt.format(input=prompt)\n",
    "agent_executor.invoke({\"input\": messages})"
   ]
  },
  {
   "cell_type": "code",
   "execution_count": 7,
   "id": "ff0fb577-e1f4-4c3d-bd06-89badfca9f64",
   "metadata": {
    "execution": {
     "iopub.execute_input": "2024-10-18T04:14:03.177878Z",
     "iopub.status.busy": "2024-10-18T04:14:03.177568Z",
     "iopub.status.idle": "2024-10-18T04:14:03.184800Z",
     "shell.execute_reply": "2024-10-18T04:14:03.184057Z"
    },
    "papermill": {
     "duration": 0.010678,
     "end_time": "2024-10-18T04:14:03.186722",
     "exception": false,
     "start_time": "2024-10-18T04:14:03.176044",
     "status": "completed"
    },
    "tags": []
   },
   "outputs": [
    {
     "name": "stdout",
     "output_type": "stream",
     "text": [
      "date: 2024-10-18\n",
      "time: 00:14:03\n"
     ]
    }
   ],
   "source": [
    "now = datetime.datetime.now()\n",
    "date = now.strftime(\"%Y-%m-%d\")\n",
    "print(\"date:\",date)\n",
    "time = now.strftime(\"%H:%M:%S\")\n",
    "print(\"time:\",time)"
   ]
  },
  {
   "cell_type": "code",
   "execution_count": 2,
   "id": "26a8132c-e775-489a-b3fb-74af88a37367",
   "metadata": {
    "scrolled": true
   },
   "outputs": [
    {
     "name": "stdout",
     "output_type": "stream",
     "text": [
      "4RMB_100K.dcd  4RMB_200K.dcd  4RMB_300K.dcd  4RMB_fixed.pdb\n",
      "4RMB_100K.log  4RMB_200K.log  4RMB_300K.log  4RMB.pdb\n",
      "4RMB_100K.xml  4RMB_200K.xml  4RMB_300K.xml  exp_8.ipynb\n"
     ]
    }
   ],
   "source": [
    "!ls"
   ]
  },
  {
   "cell_type": "code",
   "execution_count": 8,
   "id": "f8279c9b-eb22-48e3-bb42-76f51cc30317",
   "metadata": {},
   "outputs": [
    {
     "name": "stdout",
     "output_type": "stream",
     "text": [
      "\n",
      " 4RMB_100K.log\n",
      "#\"Step\",\"Potential Energy (kJ/mole)\",\"Temperature (K)\"\n",
      "2000,-40568.85024275003,101.05295525190371\n",
      "3000,-40862.25588850197,101.93990511127912\n",
      "\n",
      " 4RMB_200K.log\n",
      "#\"Step\",\"Potential Energy (kJ/mole)\",\"Temperature (K)\"\n",
      "2000,-34768.93372840005,203.68853958800952\n",
      "3000,-35287.98835553633,195.93866305317016\n",
      "\n",
      " 4RMB_300K.log\n",
      "#\"Step\",\"Potential Energy (kJ/mole)\",\"Temperature (K)\"\n",
      "2000,-29303.77746862685,301.7379176978238\n",
      "3000,-29475.366155476382,300.33164780679994\n"
     ]
    }
   ],
   "source": [
    "# read few lines from each simulation log\n",
    "logs = ['4RMB_100K.log', '4RMB_200K.log', '4RMB_300K.log']\n",
    "for log in logs:\n",
    "    with open(log, 'r') as f:\n",
    "        lines = f.read().split('\\n')\n",
    "        print('\\n',log)\n",
    "        for i in range(3):\n",
    "            print(lines[i])"
   ]
  },
  {
   "cell_type": "code",
   "execution_count": 4,
   "id": "6e61ed43-e455-4fab-8391-1708911049a4",
   "metadata": {},
   "outputs": [
    {
     "name": "stdout",
     "output_type": "stream",
     "text": [
      "Secondary structure comparison at 100K:\n",
      "Initial: [['C' 'C' 'C' 'C' 'C' 'C' 'C' 'C' 'C' 'C' 'E' 'E' 'E' 'E' 'E' 'E' 'E' 'E'\n",
      "  'C' 'C' 'C' 'C' 'C' 'C' 'E' 'E' 'C' 'C' 'C' 'C' 'C' 'C' 'C' 'C' 'E' 'E'\n",
      "  'E' 'E' 'E' 'C' 'C' 'C' 'C' 'C' 'C' 'C' 'C' 'C' 'C' 'C' 'C' 'C' 'C' 'E'\n",
      "  'E' 'E' 'E' 'E' 'E' 'E' 'E' 'H' 'H' 'H' 'C' 'C' 'C' 'C' 'C' 'C' 'C' 'C'\n",
      "  'C' 'C' 'C' 'C' 'C' 'C' 'E' 'E' 'C' 'H' 'H' 'H' 'H' 'C' 'C' 'E' 'E' 'C'\n",
      "  'C' 'C' 'E' 'E' 'E' 'E' 'E' 'C' 'C' 'C' 'C' 'E' 'E' 'C' 'C' 'C' 'E' 'E'\n",
      "  'E' 'E' 'E' 'E' 'E' 'E' 'E' 'E' 'C' 'C' 'C' 'E' 'E' 'E' 'E' 'E' 'E' 'E'\n",
      "  'E' 'C' 'C' 'C' 'C' 'C' 'C' 'E' 'E' 'E' 'E' 'E' 'E' 'E' 'E' 'E' 'E' 'E'\n",
      "  'E' 'C' 'C' 'C' 'C' 'C' 'C' 'E' 'E' 'E' 'E' 'E' 'E' 'C' 'C' 'C' 'C' 'C'\n",
      "  'C' 'C' 'C' 'C' 'C' 'C' 'C' 'C' 'C' 'C' 'C' 'C' 'C' 'C' 'E' 'E' 'E' 'E'\n",
      "  'E' 'E' 'E' 'E' 'C' 'C' 'C' 'C' 'C' 'C' 'E' 'E' 'C' 'C' 'C' 'C' 'C' 'C'\n",
      "  'C' 'C' 'E' 'E' 'E' 'E' 'E' 'E' 'C' 'C' 'C' 'C' 'C' 'C' 'C' 'C' 'C' 'C'\n",
      "  'C' 'C' 'C' 'E' 'E' 'E' 'E' 'E' 'E' 'E' 'C' 'H' 'H' 'H' 'C' 'C' 'C' 'C'\n",
      "  'C' 'C' 'C' 'C' 'C' 'C' 'C' 'C' 'C' 'C' 'E' 'E' 'C' 'H' 'H' 'H' 'H' 'C'\n",
      "  'C' 'E' 'E' 'C' 'C' 'C' 'E' 'E' 'E' 'E' 'E' 'C' 'C' 'C' 'C' 'E' 'E' 'C'\n",
      "  'C' 'C' 'C' 'E' 'E' 'E' 'E' 'E' 'E' 'E' 'E' 'E' 'C' 'C' 'C' 'E' 'E' 'E'\n",
      "  'E' 'E' 'E' 'E' 'E' 'C' 'C' 'C' 'C' 'C' 'C' 'E' 'E' 'E' 'E' 'E' 'E' 'E'\n",
      "  'E' 'E' 'E' 'C' 'C' 'C' 'C' 'C' 'C' 'H' 'H' 'H' 'H' 'C' 'C' 'C' 'E' 'E'\n",
      "  'E' 'E' 'E' 'C' 'C' 'C' 'C' 'C' 'NA' 'NA' 'NA' 'NA' 'NA' 'NA' 'NA' 'NA'\n",
      "  'NA' 'NA' 'NA' 'NA' 'NA' 'NA' 'NA' 'NA' 'NA' 'NA' 'NA' 'NA' 'NA' 'NA'\n",
      "  'NA' 'NA' 'NA' 'NA' 'NA' 'NA' 'NA' 'NA' 'NA' 'NA' 'NA' 'NA' 'NA' 'NA'\n",
      "  'NA' 'NA' 'NA' 'NA' 'NA' 'NA' 'NA' 'NA' 'NA' 'NA' 'NA' 'NA' 'NA' 'NA'\n",
      "  'NA' 'NA' 'NA' 'NA' 'NA' 'NA' 'NA' 'NA' 'NA' 'NA' 'NA' 'NA' 'NA' 'NA'\n",
      "  'NA' 'NA' 'NA' 'NA' 'NA' 'NA' 'NA' 'NA' 'NA' 'NA' 'NA' 'NA' 'NA' 'NA'\n",
      "  'NA' 'NA' 'NA' 'NA' 'NA' 'NA' 'NA' 'NA' 'NA' 'NA' 'NA' 'NA' 'NA' 'NA'\n",
      "  'NA' 'NA' 'NA' 'NA' 'NA' 'NA' 'NA' 'NA' 'NA' 'NA' 'NA' 'NA' 'NA' 'NA'\n",
      "  'NA']]\n",
      "Final: [['C' 'C' 'C' 'C' 'C' 'C' 'C' 'C' 'C' 'C' 'E' 'E' 'E' 'E' 'E' 'E' 'E' 'E'\n",
      "  'C' 'C' 'C' 'C' 'C' 'C' 'E' 'E' 'C' 'C' 'C' 'C' 'C' 'C' 'C' 'C' 'E' 'E'\n",
      "  'E' 'E' 'E' 'C' 'C' 'C' 'C' 'C' 'C' 'C' 'C' 'C' 'C' 'H' 'H' 'H' 'C' 'E'\n",
      "  'E' 'E' 'E' 'E' 'E' 'E' 'E' 'H' 'H' 'H' 'C' 'C' 'C' 'C' 'C' 'C' 'C' 'C'\n",
      "  'C' 'C' 'C' 'C' 'C' 'C' 'E' 'E' 'C' 'C' 'C' 'C' 'C' 'C' 'E' 'E' 'E' 'C'\n",
      "  'C' 'C' 'C' 'E' 'E' 'E' 'E' 'C' 'C' 'C' 'C' 'E' 'E' 'C' 'C' 'C' 'E' 'E'\n",
      "  'E' 'E' 'E' 'E' 'E' 'E' 'E' 'E' 'C' 'C' 'C' 'E' 'E' 'E' 'E' 'E' 'E' 'E'\n",
      "  'E' 'C' 'C' 'C' 'C' 'C' 'C' 'E' 'E' 'E' 'E' 'E' 'E' 'E' 'E' 'C' 'C' 'C'\n",
      "  'C' 'C' 'C' 'C' 'C' 'C' 'C' 'C' 'C' 'C' 'C' 'C' 'C' 'C' 'C' 'C' 'C' 'C'\n",
      "  'C' 'C' 'C' 'C' 'C' 'C' 'C' 'C' 'C' 'C' 'C' 'C' 'C' 'C' 'C' 'E' 'E' 'E'\n",
      "  'E' 'E' 'E' 'E' 'C' 'C' 'C' 'C' 'C' 'C' 'C' 'C' 'C' 'C' 'C' 'C' 'C' 'C'\n",
      "  'C' 'C' 'E' 'E' 'E' 'E' 'E' 'E' 'E' 'C' 'C' 'C' 'C' 'C' 'C' 'C' 'C' 'C'\n",
      "  'C' 'C' 'C' 'E' 'E' 'E' 'E' 'E' 'E' 'E' 'E' 'H' 'H' 'H' 'C' 'C' 'C' 'C'\n",
      "  'C' 'C' 'C' 'C' 'C' 'C' 'C' 'C' 'C' 'C' 'E' 'E' 'C' 'H' 'H' 'H' 'H' 'C'\n",
      "  'E' 'E' 'E' 'C' 'C' 'C' 'C' 'E' 'E' 'E' 'E' 'C' 'C' 'C' 'C' 'C' 'C' 'C'\n",
      "  'C' 'C' 'E' 'E' 'E' 'E' 'E' 'E' 'E' 'E' 'E' 'C' 'C' 'C' 'C' 'E' 'E' 'E'\n",
      "  'E' 'E' 'E' 'E' 'E' 'C' 'C' 'C' 'C' 'C' 'C' 'E' 'E' 'E' 'E' 'E' 'E' 'E'\n",
      "  'E' 'C' 'C' 'C' 'C' 'C' 'C' 'C' 'C' 'C' 'C' 'C' 'C' 'C' 'C' 'C' 'C' 'C'\n",
      "  'C' 'C' 'C' 'C' 'C' 'C' 'C' 'C' 'NA' 'NA' 'NA' 'NA' 'NA' 'NA' 'NA' 'NA'\n",
      "  'NA' 'NA' 'NA' 'NA' 'NA' 'NA' 'NA' 'NA' 'NA' 'NA' 'NA' 'NA' 'NA' 'NA'\n",
      "  'NA' 'NA' 'NA' 'NA' 'NA' 'NA' 'NA' 'NA' 'NA' 'NA' 'NA' 'NA' 'NA' 'NA'\n",
      "  'NA' 'NA' 'NA' 'NA' 'NA' 'NA' 'NA' 'NA' 'NA' 'NA' 'NA' 'NA' 'NA' 'NA'\n",
      "  'NA' 'NA' 'NA' 'NA' 'NA' 'NA' 'NA' 'NA' 'NA' 'NA' 'NA' 'NA' 'NA' 'NA'\n",
      "  'NA' 'NA' 'NA' 'NA' 'NA' 'NA' 'NA' 'NA' 'NA' 'NA' 'NA' 'NA' 'NA' 'NA'\n",
      "  'NA' 'NA' 'NA' 'NA' 'NA' 'NA' 'NA' 'NA' 'NA' 'NA' 'NA' 'NA' 'NA' 'NA'\n",
      "  'NA' 'NA' 'NA' 'NA' 'NA' 'NA' 'NA' 'NA' 'NA' 'NA' 'NA' 'NA' 'NA' 'NA'\n",
      "  'NA']]\n",
      "Secondary structure comparison at 200K:\n",
      "Initial: [['C' 'C' 'C' 'C' 'C' 'C' 'C' 'C' 'C' 'C' 'E' 'E' 'E' 'E' 'E' 'E' 'E' 'E'\n",
      "  'C' 'C' 'C' 'C' 'C' 'C' 'E' 'E' 'C' 'C' 'C' 'C' 'C' 'C' 'C' 'C' 'E' 'E'\n",
      "  'E' 'E' 'E' 'C' 'C' 'C' 'C' 'C' 'C' 'C' 'C' 'C' 'C' 'C' 'C' 'C' 'C' 'E'\n",
      "  'E' 'E' 'E' 'E' 'E' 'E' 'E' 'H' 'H' 'H' 'C' 'C' 'C' 'C' 'C' 'C' 'C' 'C'\n",
      "  'C' 'C' 'C' 'C' 'C' 'C' 'E' 'E' 'C' 'H' 'H' 'H' 'H' 'C' 'C' 'E' 'E' 'C'\n",
      "  'C' 'C' 'E' 'E' 'E' 'E' 'E' 'C' 'C' 'C' 'C' 'E' 'E' 'C' 'C' 'C' 'E' 'E'\n",
      "  'E' 'E' 'E' 'E' 'E' 'E' 'E' 'E' 'C' 'C' 'C' 'E' 'E' 'E' 'E' 'E' 'E' 'E'\n",
      "  'E' 'C' 'C' 'C' 'C' 'C' 'C' 'E' 'E' 'E' 'E' 'E' 'E' 'E' 'E' 'E' 'E' 'E'\n",
      "  'E' 'C' 'C' 'C' 'C' 'C' 'C' 'E' 'E' 'E' 'E' 'E' 'E' 'C' 'C' 'C' 'C' 'C'\n",
      "  'C' 'C' 'C' 'C' 'C' 'C' 'C' 'C' 'C' 'C' 'C' 'C' 'C' 'C' 'E' 'E' 'E' 'E'\n",
      "  'E' 'E' 'E' 'E' 'C' 'C' 'C' 'C' 'C' 'C' 'E' 'E' 'C' 'C' 'C' 'C' 'C' 'C'\n",
      "  'C' 'C' 'E' 'E' 'E' 'E' 'E' 'E' 'C' 'C' 'C' 'C' 'C' 'C' 'C' 'C' 'C' 'C'\n",
      "  'C' 'C' 'C' 'E' 'E' 'E' 'E' 'E' 'E' 'E' 'C' 'H' 'H' 'H' 'C' 'C' 'C' 'C'\n",
      "  'C' 'C' 'C' 'C' 'C' 'C' 'C' 'C' 'C' 'C' 'E' 'E' 'C' 'H' 'H' 'H' 'H' 'C'\n",
      "  'C' 'E' 'E' 'C' 'C' 'C' 'E' 'E' 'E' 'E' 'E' 'C' 'C' 'C' 'C' 'E' 'E' 'C'\n",
      "  'C' 'C' 'C' 'E' 'E' 'E' 'E' 'E' 'E' 'E' 'E' 'E' 'C' 'C' 'C' 'E' 'E' 'E'\n",
      "  'E' 'E' 'E' 'E' 'E' 'C' 'C' 'C' 'C' 'C' 'C' 'E' 'E' 'E' 'E' 'E' 'E' 'E'\n",
      "  'E' 'E' 'E' 'C' 'C' 'C' 'C' 'C' 'C' 'H' 'H' 'H' 'H' 'C' 'C' 'C' 'E' 'E'\n",
      "  'E' 'E' 'E' 'C' 'C' 'C' 'C' 'C' 'NA' 'NA' 'NA' 'NA' 'NA' 'NA' 'NA' 'NA'\n",
      "  'NA' 'NA' 'NA' 'NA' 'NA' 'NA' 'NA' 'NA' 'NA' 'NA' 'NA' 'NA' 'NA' 'NA'\n",
      "  'NA' 'NA' 'NA' 'NA' 'NA' 'NA' 'NA' 'NA' 'NA' 'NA' 'NA' 'NA' 'NA' 'NA'\n",
      "  'NA' 'NA' 'NA' 'NA' 'NA' 'NA' 'NA' 'NA' 'NA' 'NA' 'NA' 'NA' 'NA' 'NA'\n",
      "  'NA' 'NA' 'NA' 'NA' 'NA' 'NA' 'NA' 'NA' 'NA' 'NA' 'NA' 'NA' 'NA' 'NA'\n",
      "  'NA' 'NA' 'NA' 'NA' 'NA' 'NA' 'NA' 'NA' 'NA' 'NA' 'NA' 'NA' 'NA' 'NA'\n",
      "  'NA' 'NA' 'NA' 'NA' 'NA' 'NA' 'NA' 'NA' 'NA' 'NA' 'NA' 'NA' 'NA' 'NA'\n",
      "  'NA' 'NA' 'NA' 'NA' 'NA' 'NA' 'NA' 'NA' 'NA' 'NA' 'NA' 'NA' 'NA' 'NA'\n",
      "  'NA']]\n",
      "Final: [['C' 'C' 'C' 'C' 'C' 'C' 'C' 'C' 'C' 'C' 'C' 'E' 'E' 'E' 'E' 'E' 'E' 'E'\n",
      "  'C' 'C' 'C' 'C' 'C' 'C' 'C' 'C' 'C' 'C' 'C' 'C' 'C' 'C' 'C' 'C' 'E' 'E'\n",
      "  'E' 'E' 'E' 'C' 'C' 'C' 'C' 'C' 'C' 'C' 'E' 'C' 'C' 'C' 'C' 'C' 'C' 'E'\n",
      "  'E' 'E' 'E' 'E' 'E' 'E' 'C' 'C' 'C' 'C' 'C' 'C' 'C' 'C' 'C' 'C' 'C' 'C'\n",
      "  'C' 'C' 'C' 'C' 'C' 'E' 'E' 'E' 'C' 'C' 'C' 'C' 'C' 'C' 'C' 'E' 'E' 'C'\n",
      "  'C' 'C' 'C' 'E' 'E' 'E' 'E' 'C' 'C' 'C' 'C' 'C' 'C' 'C' 'C' 'C' 'C' 'E'\n",
      "  'E' 'E' 'E' 'E' 'E' 'E' 'E' 'C' 'C' 'C' 'C' 'E' 'E' 'E' 'E' 'E' 'E' 'E'\n",
      "  'E' 'C' 'C' 'C' 'C' 'C' 'C' 'E' 'E' 'E' 'E' 'E' 'E' 'E' 'E' 'C' 'C' 'C'\n",
      "  'C' 'C' 'C' 'C' 'C' 'C' 'C' 'C' 'C' 'C' 'C' 'C' 'C' 'C' 'C' 'C' 'C' 'C'\n",
      "  'C' 'C' 'C' 'C' 'C' 'C' 'C' 'C' 'C' 'C' 'C' 'C' 'C' 'C' 'E' 'E' 'E' 'E'\n",
      "  'E' 'E' 'E' 'E' 'C' 'C' 'C' 'C' 'C' 'C' 'E' 'E' 'C' 'C' 'C' 'C' 'C' 'C'\n",
      "  'C' 'C' 'E' 'E' 'E' 'E' 'E' 'E' 'E' 'C' 'C' 'C' 'C' 'C' 'C' 'C' 'C' 'C'\n",
      "  'C' 'C' 'C' 'E' 'E' 'E' 'E' 'E' 'E' 'E' 'E' 'H' 'H' 'H' 'C' 'C' 'C' 'C'\n",
      "  'C' 'C' 'C' 'C' 'C' 'C' 'C' 'C' 'C' 'C' 'E' 'E' 'C' 'H' 'H' 'H' 'C' 'C'\n",
      "  'C' 'E' 'E' 'C' 'C' 'C' 'C' 'E' 'E' 'E' 'E' 'C' 'C' 'C' 'C' 'E' 'E' 'C'\n",
      "  'C' 'C' 'E' 'E' 'E' 'E' 'E' 'E' 'E' 'E' 'E' 'E' 'C' 'C' 'C' 'E' 'E' 'E'\n",
      "  'E' 'E' 'E' 'E' 'E' 'C' 'C' 'C' 'C' 'C' 'C' 'E' 'E' 'E' 'E' 'E' 'E' 'E'\n",
      "  'E' 'C' 'C' 'C' 'C' 'C' 'C' 'C' 'C' 'C' 'C' 'C' 'C' 'C' 'C' 'C' 'C' 'C'\n",
      "  'C' 'C' 'C' 'C' 'C' 'C' 'C' 'C' 'NA' 'NA' 'NA' 'NA' 'NA' 'NA' 'NA' 'NA'\n",
      "  'NA' 'NA' 'NA' 'NA' 'NA' 'NA' 'NA' 'NA' 'NA' 'NA' 'NA' 'NA' 'NA' 'NA'\n",
      "  'NA' 'NA' 'NA' 'NA' 'NA' 'NA' 'NA' 'NA' 'NA' 'NA' 'NA' 'NA' 'NA' 'NA'\n",
      "  'NA' 'NA' 'NA' 'NA' 'NA' 'NA' 'NA' 'NA' 'NA' 'NA' 'NA' 'NA' 'NA' 'NA'\n",
      "  'NA' 'NA' 'NA' 'NA' 'NA' 'NA' 'NA' 'NA' 'NA' 'NA' 'NA' 'NA' 'NA' 'NA'\n",
      "  'NA' 'NA' 'NA' 'NA' 'NA' 'NA' 'NA' 'NA' 'NA' 'NA' 'NA' 'NA' 'NA' 'NA'\n",
      "  'NA' 'NA' 'NA' 'NA' 'NA' 'NA' 'NA' 'NA' 'NA' 'NA' 'NA' 'NA' 'NA' 'NA'\n",
      "  'NA' 'NA' 'NA' 'NA' 'NA' 'NA' 'NA' 'NA' 'NA' 'NA' 'NA' 'NA' 'NA' 'NA'\n",
      "  'NA']]\n",
      "Secondary structure comparison at 300K:\n",
      "Initial: [['C' 'C' 'C' 'C' 'C' 'C' 'C' 'C' 'C' 'C' 'E' 'E' 'E' 'E' 'E' 'E' 'E' 'E'\n",
      "  'C' 'C' 'C' 'C' 'C' 'C' 'E' 'E' 'C' 'C' 'C' 'C' 'C' 'C' 'C' 'C' 'E' 'E'\n",
      "  'E' 'E' 'E' 'C' 'C' 'C' 'C' 'C' 'C' 'C' 'C' 'C' 'C' 'C' 'C' 'C' 'C' 'E'\n",
      "  'E' 'E' 'E' 'E' 'E' 'E' 'E' 'H' 'H' 'H' 'C' 'C' 'C' 'C' 'C' 'C' 'C' 'C'\n",
      "  'C' 'C' 'C' 'C' 'C' 'C' 'E' 'E' 'C' 'H' 'H' 'H' 'H' 'C' 'C' 'E' 'E' 'C'\n",
      "  'C' 'C' 'E' 'E' 'E' 'E' 'E' 'C' 'C' 'C' 'C' 'E' 'E' 'C' 'C' 'C' 'E' 'E'\n",
      "  'E' 'E' 'E' 'E' 'E' 'E' 'E' 'E' 'C' 'C' 'C' 'E' 'E' 'E' 'E' 'E' 'E' 'E'\n",
      "  'E' 'C' 'C' 'C' 'C' 'C' 'C' 'E' 'E' 'E' 'E' 'E' 'E' 'E' 'E' 'E' 'E' 'E'\n",
      "  'E' 'C' 'C' 'C' 'C' 'C' 'C' 'E' 'E' 'E' 'E' 'E' 'E' 'C' 'C' 'C' 'C' 'C'\n",
      "  'C' 'C' 'C' 'C' 'C' 'C' 'C' 'C' 'C' 'C' 'C' 'C' 'C' 'C' 'E' 'E' 'E' 'E'\n",
      "  'E' 'E' 'E' 'E' 'C' 'C' 'C' 'C' 'C' 'C' 'E' 'E' 'C' 'C' 'C' 'C' 'C' 'C'\n",
      "  'C' 'C' 'E' 'E' 'E' 'E' 'E' 'E' 'C' 'C' 'C' 'C' 'C' 'C' 'C' 'C' 'C' 'C'\n",
      "  'C' 'C' 'C' 'E' 'E' 'E' 'E' 'E' 'E' 'E' 'C' 'H' 'H' 'H' 'C' 'C' 'C' 'C'\n",
      "  'C' 'C' 'C' 'C' 'C' 'C' 'C' 'C' 'C' 'C' 'E' 'E' 'C' 'H' 'H' 'H' 'H' 'C'\n",
      "  'C' 'E' 'E' 'C' 'C' 'C' 'E' 'E' 'E' 'E' 'E' 'C' 'C' 'C' 'C' 'E' 'E' 'C'\n",
      "  'C' 'C' 'C' 'E' 'E' 'E' 'E' 'E' 'E' 'E' 'E' 'E' 'C' 'C' 'C' 'E' 'E' 'E'\n",
      "  'E' 'E' 'E' 'E' 'E' 'C' 'C' 'C' 'C' 'C' 'C' 'E' 'E' 'E' 'E' 'E' 'E' 'E'\n",
      "  'E' 'E' 'E' 'C' 'C' 'C' 'C' 'C' 'C' 'H' 'H' 'H' 'H' 'C' 'C' 'C' 'E' 'E'\n",
      "  'E' 'E' 'E' 'C' 'C' 'C' 'C' 'C' 'NA' 'NA' 'NA' 'NA' 'NA' 'NA' 'NA' 'NA'\n",
      "  'NA' 'NA' 'NA' 'NA' 'NA' 'NA' 'NA' 'NA' 'NA' 'NA' 'NA' 'NA' 'NA' 'NA'\n",
      "  'NA' 'NA' 'NA' 'NA' 'NA' 'NA' 'NA' 'NA' 'NA' 'NA' 'NA' 'NA' 'NA' 'NA'\n",
      "  'NA' 'NA' 'NA' 'NA' 'NA' 'NA' 'NA' 'NA' 'NA' 'NA' 'NA' 'NA' 'NA' 'NA'\n",
      "  'NA' 'NA' 'NA' 'NA' 'NA' 'NA' 'NA' 'NA' 'NA' 'NA' 'NA' 'NA' 'NA' 'NA'\n",
      "  'NA' 'NA' 'NA' 'NA' 'NA' 'NA' 'NA' 'NA' 'NA' 'NA' 'NA' 'NA' 'NA' 'NA'\n",
      "  'NA' 'NA' 'NA' 'NA' 'NA' 'NA' 'NA' 'NA' 'NA' 'NA' 'NA' 'NA' 'NA' 'NA'\n",
      "  'NA' 'NA' 'NA' 'NA' 'NA' 'NA' 'NA' 'NA' 'NA' 'NA' 'NA' 'NA' 'NA' 'NA'\n",
      "  'NA']]\n",
      "Final: [['C' 'C' 'C' 'C' 'C' 'C' 'C' 'C' 'C' 'C' 'C' 'E' 'E' 'E' 'E' 'E' 'E' 'E'\n",
      "  'C' 'C' 'C' 'C' 'C' 'C' 'E' 'E' 'C' 'C' 'C' 'C' 'C' 'C' 'C' 'C' 'E' 'E'\n",
      "  'E' 'E' 'E' 'C' 'C' 'C' 'C' 'C' 'C' 'C' 'C' 'C' 'C' 'C' 'C' 'C' 'C' 'E'\n",
      "  'E' 'E' 'E' 'E' 'E' 'E' 'E' 'H' 'H' 'H' 'C' 'C' 'C' 'C' 'C' 'C' 'C' 'C'\n",
      "  'C' 'C' 'C' 'C' 'C' 'C' 'E' 'E' 'C' 'C' 'C' 'C' 'C' 'C' 'C' 'E' 'E' 'C'\n",
      "  'C' 'C' 'C' 'E' 'E' 'E' 'E' 'C' 'C' 'C' 'C' 'E' 'E' 'C' 'C' 'C' 'E' 'E'\n",
      "  'E' 'E' 'E' 'E' 'E' 'E' 'E' 'C' 'C' 'C' 'C' 'E' 'E' 'E' 'E' 'E' 'E' 'E'\n",
      "  'E' 'C' 'C' 'C' 'C' 'C' 'C' 'E' 'E' 'E' 'E' 'E' 'E' 'E' 'E' 'C' 'C' 'C'\n",
      "  'C' 'C' 'C' 'C' 'C' 'C' 'C' 'C' 'C' 'C' 'C' 'C' 'C' 'C' 'C' 'C' 'C' 'C'\n",
      "  'C' 'C' 'C' 'C' 'C' 'C' 'C' 'C' 'C' 'C' 'C' 'C' 'C' 'C' 'C' 'E' 'E' 'E'\n",
      "  'E' 'E' 'E' 'E' 'C' 'C' 'C' 'C' 'C' 'C' 'C' 'C' 'C' 'C' 'C' 'C' 'C' 'C'\n",
      "  'C' 'C' 'E' 'E' 'E' 'E' 'E' 'E' 'E' 'C' 'C' 'C' 'C' 'C' 'C' 'C' 'C' 'C'\n",
      "  'C' 'C' 'C' 'E' 'E' 'E' 'E' 'E' 'E' 'E' 'C' 'H' 'H' 'H' 'C' 'C' 'C' 'C'\n",
      "  'C' 'C' 'C' 'C' 'C' 'C' 'C' 'C' 'C' 'C' 'E' 'E' 'C' 'C' 'C' 'C' 'C' 'C'\n",
      "  'C' 'E' 'E' 'C' 'C' 'C' 'E' 'E' 'E' 'E' 'E' 'C' 'C' 'C' 'C' 'C' 'C' 'C'\n",
      "  'C' 'C' 'C' 'E' 'E' 'E' 'E' 'E' 'E' 'E' 'E' 'C' 'C' 'C' 'C' 'C' 'E' 'E'\n",
      "  'E' 'E' 'E' 'E' 'E' 'C' 'C' 'C' 'C' 'C' 'C' 'E' 'E' 'E' 'E' 'E' 'E' 'E'\n",
      "  'C' 'C' 'C' 'C' 'C' 'C' 'C' 'C' 'C' 'H' 'H' 'H' 'C' 'C' 'C' 'C' 'C' 'C'\n",
      "  'C' 'C' 'C' 'C' 'C' 'C' 'C' 'C' 'NA' 'NA' 'NA' 'NA' 'NA' 'NA' 'NA' 'NA'\n",
      "  'NA' 'NA' 'NA' 'NA' 'NA' 'NA' 'NA' 'NA' 'NA' 'NA' 'NA' 'NA' 'NA' 'NA'\n",
      "  'NA' 'NA' 'NA' 'NA' 'NA' 'NA' 'NA' 'NA' 'NA' 'NA' 'NA' 'NA' 'NA' 'NA'\n",
      "  'NA' 'NA' 'NA' 'NA' 'NA' 'NA' 'NA' 'NA' 'NA' 'NA' 'NA' 'NA' 'NA' 'NA'\n",
      "  'NA' 'NA' 'NA' 'NA' 'NA' 'NA' 'NA' 'NA' 'NA' 'NA' 'NA' 'NA' 'NA' 'NA'\n",
      "  'NA' 'NA' 'NA' 'NA' 'NA' 'NA' 'NA' 'NA' 'NA' 'NA' 'NA' 'NA' 'NA' 'NA'\n",
      "  'NA' 'NA' 'NA' 'NA' 'NA' 'NA' 'NA' 'NA' 'NA' 'NA' 'NA' 'NA' 'NA' 'NA'\n",
      "  'NA' 'NA' 'NA' 'NA' 'NA' 'NA' 'NA' 'NA' 'NA' 'NA' 'NA' 'NA' 'NA' 'NA'\n",
      "  'NA']]\n",
      "Radius of gyration plots and secondary structure comparisons completed for 100K, 200K, and 300K.\n"
     ]
    }
   ],
   "source": [
    "# run the last code that the agent failed to run\n",
    "import mdtraj as md\n",
    "import matplotlib.pyplot as plt\n",
    "\n",
    "# Function to calculate and plot radius of gyration\n",
    "def plot_radius_of_gyration(temperature):\n",
    "    # Load the trajectory\n",
    "    traj = md.load_dcd(f'4RMB_{temperature}K.dcd', top='4RMB_fixed.pdb')\n",
    "    \n",
    "    # Calculate radius of gyration\n",
    "    rg = md.compute_rg(traj)\n",
    "    \n",
    "    # Plot\n",
    "    plt.figure()\n",
    "    plt.plot(traj.time, rg)\n",
    "    plt.xlabel('Time (ps)')\n",
    "    plt.ylabel('Radius of Gyration (nm)')\n",
    "    plt.title(f'Radius of Gyration at {temperature}K')\n",
    "    plt.savefig(f'Rg_{temperature}K.png')\n",
    "    plt.close()\n",
    "\n",
    "# Function to compare secondary structure\n",
    "def compare_secondary_structure(temperature):\n",
    "    # Load the initial and final frames\n",
    "    traj_initial = md.load('4RMB_fixed.pdb')\n",
    "    traj_final = md.load_dcd(f'4RMB_{temperature}K.dcd', top='4RMB_fixed.pdb')[-1]\n",
    "    \n",
    "    # Compute secondary structure\n",
    "    ss_initial = md.compute_dssp(traj_initial)\n",
    "    ss_final = md.compute_dssp(traj_final)\n",
    "    \n",
    "    # Compare and print results\n",
    "    print(f\"Secondary structure comparison at {temperature}K:\")\n",
    "    print(\"Initial:\", ss_initial)\n",
    "    print(\"Final:\", ss_final)\n",
    "\n",
    "# Calculate and plot for each temperature\n",
    "temperatures = [100, 200, 300]\n",
    "for temp in temperatures:\n",
    "    plot_radius_of_gyration(temp)\n",
    "    compare_secondary_structure(temp)\n",
    "\n",
    "print(\"Radius of gyration plots and secondary structure comparisons completed for 100K, 200K, and 300K.\")"
   ]
  },
  {
   "cell_type": "code",
   "execution_count": 10,
   "id": "eeef6cfe-2a93-4400-b436-0c16dde4d71c",
   "metadata": {
    "scrolled": true
   },
   "outputs": [
    {
     "data": {
      "image/png": "[encoded data removed]",
      "text/plain": [
       "<IPython.core.display.Image object>"
      ]
     },
     "execution_count": 10,
     "metadata": {},
     "output_type": "execute_result"
    }
   ],
   "source": [
    "from IPython.display import Image\n",
    "Image('Rg_100K.png')"
   ]
  },
  {
   "cell_type": "code",
   "execution_count": 11,
   "id": "afcbe6e9-fe0f-4456-9e49-000d9deaf89d",
   "metadata": {
    "scrolled": true
   },
   "outputs": [
    {
     "data": {
      "image/png": "[encoded data removed]",
      "text/plain": [
       "<IPython.core.display.Image object>"
      ]
     },
     "execution_count": 11,
     "metadata": {},
     "output_type": "execute_result"
    }
   ],
   "source": [
    "Image('Rg_200K.png')"
   ]
  },
  {
   "cell_type": "code",
   "execution_count": 12,
   "id": "2f131573-b0be-42a5-b3c3-512331747bbf",
   "metadata": {},
   "outputs": [
    {
     "data": {
      "image/png": "[encoded data removed]",
      "text/plain": [
       "<IPython.core.display.Image object>"
      ]
     },
     "execution_count": 12,
     "metadata": {},
     "output_type": "execute_result"
    }
   ],
   "source": [
    "Image('Rg_300K.png')"
   ]
  }
 ],
 "metadata": {
  "kernelspec": {
   "display_name": "mdcrow",
   "language": "python",
   "name": "mdcrow"
  },
  "language_info": {
   "codemirror_mode": {
    "name": "ipython",
    "version": 3
   },
   "file_extension": ".py",
   "mimetype": "text/x-python",
   "name": "python",
   "nbconvert_exporter": "python",
   "pygments_lexer": "ipython3",
   "version": "3.12.4"
  },
  "papermill": {
   "default_parameters": {},
   "duration": 1765.443027,
   "end_time": "2024-10-18T04:14:04.318247",
   "environment_variables": {},
   "exception": null,
   "input_path": "../agent_exp_template.ipynb",
   "output_path": "-",
   "parameters": {
    "prompt": "Simulate 4RMB at 100K, 200K, and 300K. Then, for each simulation, plot the radius of gyration over time and compare the secondary structure before and after the simulation."
   },
   "start_time": "2024-10-18T03:44:38.875220",
   "version": "2.6.0"
  }
 },
 "nbformat": 4,
 "nbformat_minor": 5
}
