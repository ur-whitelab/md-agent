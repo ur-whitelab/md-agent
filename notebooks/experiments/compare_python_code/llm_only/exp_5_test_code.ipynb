{
 "cells": [
  {
   "cell_type": "code",
   "execution_count": 1,
   "id": "609cddef-4b8e-4238-95ff-58febb86a941",
   "metadata": {
    "execution": {
     "iopub.execute_input": "2024-10-21T19:15:24.048798Z",
     "iopub.status.busy": "2024-10-21T19:15:24.048467Z",
     "iopub.status.idle": "2024-10-22T01:27:38.716064Z",
     "shell.execute_reply": "2024-10-22T01:27:38.715321Z"
    }
   },
   "outputs": [
    {
     "name": "stdout",
     "output_type": "stream",
     "text": [
      "Initial Secondary Structure Counts: {'NA': 2666, 'H': 17, 'C': 19}\n",
      "Final Secondary Structure Counts: {'NA': 2666, 'H': 19, 'C': 17}\n",
      "Changes in Secondary Structure: {'NA': 0, 'H': 2, 'C': -2}\n"
     ]
    }
   ],
   "source": [
    "# TESTING THE CODE\n",
    "\n",
    "import requests\n",
    "from pdbfixer import PDBFixer\n",
    "from openmm.app import *\n",
    "from openmm import *\n",
    "from openmm.unit import *\n",
    "import mdtraj as md\n",
    "\n",
    "# Step 1: Download the PDB file for 1VII\n",
    "pdb_id = \"1VII\"\n",
    "pdb_url = f\"https://files.rcsb.org/download/{pdb_id}.pdb\"\n",
    "pdb_filename = f\"{pdb_id}.pdb\"\n",
    "\n",
    "response = requests.get(pdb_url)\n",
    "with open(pdb_filename, 'wb') as file:\n",
    "    file.write(response.content)\n",
    "\n",
    "# Step 2: Preprocess the PDB file using PDBFixer\n",
    "fixer = PDBFixer(filename=pdb_filename)\n",
    "fixer.findMissingResidues()\n",
    "fixer.findMissingAtoms()\n",
    "fixer.addMissingAtoms()\n",
    "fixer.addMissingHydrogens()\n",
    "\n",
    "# Use the AMBER force field\n",
    "forcefield = ForceField('amber14-all.xml', 'amber14/tip3p.xml')\n",
    "\n",
    "# Step 3: Set up the simulation\n",
    "modeller = Modeller(fixer.topology, fixer.positions)\n",
    "modeller.addSolvent(forcefield, model='tip3p', padding=1.0*nanometer)\n",
    "\n",
    "system = forcefield.createSystem(modeller.topology, nonbondedMethod=PME, \n",
    "                                 nonbondedCutoff=1.0*nanometer, constraints=HBonds)\n",
    "\n",
    "integrator = LangevinIntegrator(300*kelvin, 1/picosecond, 0.002*picoseconds)\n",
    "simulation = Simulation(modeller.topology, system, integrator)\n",
    "simulation.context.setPositions(modeller.positions)\n",
    "\n",
    "# Minimize energy\n",
    "simulation.minimizeEnergy()\n",
    "\n",
    "# Equilibrate\n",
    "simulation.context.setVelocitiesToTemperature(300*kelvin)\n",
    "simulation.step(10000)  # 20 ps equilibration\n",
    "\n",
    "# Step 4: Run the simulation for 1 ns\n",
    "simulation.reporters.append(DCDReporter('trajectory.dcd', 1000))\n",
    "simulation.reporters.append(StateDataReporter('output.log', 1000, step=True, \n",
    "                                              potentialEnergy=True, temperature=True))\n",
    "\n",
    "simulation.step(500000)  # 1 ns simulation\n",
    "\n",
    "# Step 5: Analyze the secondary structure\n",
    "traj = md.load('trajectory.dcd', top=md.Topology.from_openmm(modeller.topology))\n",
    "\n",
    "# Get secondary structure at the beginning and end\n",
    "initial_structure = md.compute_dssp(traj[0])\n",
    "final_structure = md.compute_dssp(traj[-1])\n",
    "\n",
    "# Compare secondary structures\n",
    "initial_counts = {ss: list(initial_structure[0]).count(ss) for ss in set(initial_structure[0])}\n",
    "final_counts = {ss: list(final_structure[0]).count(ss) for ss in set(final_structure[0])}\n",
    "\n",
    "print(\"Initial Secondary Structure Counts:\", initial_counts)\n",
    "print(\"Final Secondary Structure Counts:\", final_counts)\n",
    "\n",
    "# Check for changes\n",
    "changes = {ss: final_counts.get(ss, 0) - initial_counts.get(ss, 0) for ss in set(initial_counts) | set(final_counts)}\n",
    "print(\"Changes in Secondary Structure:\", changes)"
   ]
  },
  {
   "cell_type": "code",
   "execution_count": 1,
   "id": "862e11cf-517c-4655-9d42-258dde691d2e",
   "metadata": {},
   "outputs": [
    {
     "name": "stdout",
     "output_type": "stream",
     "text": [
      "1VII.pdb  exp_5.ipynb  exp_5_test_code.ipynb  output.log  trajectory.dcd\n"
     ]
    }
   ],
   "source": [
    "!ls"
   ]
  },
  {
   "cell_type": "code",
   "execution_count": 5,
   "id": "d1088f61-beb9-472c-965d-aa6c7ae6f52b",
   "metadata": {},
   "outputs": [
    {
     "name": "stdout",
     "output_type": "stream",
     "text": [
      "Number of residues in total:  36\n",
      "Number of chains:  1\n",
      "Number of residues in sheets:  0\n",
      "Number of residues in helices:  19\n",
      "Number of residues in coils:  17\n"
     ]
    }
   ],
   "source": [
    "import mdtraj as md\n",
    "\n",
    "traj = md.load('1VII.pdb')\n",
    "print(\"Number of residues in total: \",traj.n_residues)\n",
    "print(\"Number of chains: \",traj.n_chains)\n",
    "\n",
    "secondary_structure = md.compute_dssp(traj,simplified=True)[0]\n",
    "print(\"Number of residues in sheets: \",len([i for i in secondary_structure if i == 'E']))\n",
    "print(\"Number of residues in helices: \",len([i for i in secondary_structure if i == 'H']))\n",
    "print(\"Number of residues in coils: \",len([i for i in secondary_structure if i == 'C']))"
   ]
  }
 ],
 "metadata": {
  "kernelspec": {
   "display_name": "mdcrow",
   "language": "python",
   "name": "mdcrow"
  },
  "language_info": {
   "codemirror_mode": {
    "name": "ipython",
    "version": 3
   },
   "file_extension": ".py",
   "mimetype": "text/x-python",
   "name": "python",
   "nbconvert_exporter": "python",
   "pygments_lexer": "ipython3",
   "version": "3.12.4"
  }
 },
 "nbformat": 4,
 "nbformat_minor": 5
}
