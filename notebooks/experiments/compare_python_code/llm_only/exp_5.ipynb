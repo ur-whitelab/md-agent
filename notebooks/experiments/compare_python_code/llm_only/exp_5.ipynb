{
 "cells": [
  {
   "cell_type": "code",
   "execution_count": 1,
   "id": "728398b3-6a40-4157-a0ef-1b8f7a96fd58",
   "metadata": {
    "papermill": {
     "duration": 7.266258,
     "end_time": "2024-10-17T00:42:11.954913",
     "exception": false,
     "start_time": "2024-10-17T00:42:04.688655",
     "status": "completed"
    },
    "tags": []
   },
   "outputs": [],
   "source": [
    "import datetime\n",
    "from mdcrow.utils import _make_llm"
   ]
  },
  {
   "cell_type": "code",
   "execution_count": 2,
   "id": "1a8988df-6cb9-4903-86a6-edfcaa6461d1",
   "metadata": {
    "editable": true,
    "papermill": {
     "duration": 0.011202,
     "end_time": "2024-10-17T00:42:11.970642",
     "exception": false,
     "start_time": "2024-10-17T00:42:11.959440",
     "status": "completed"
    },
    "slideshow": {
     "slide_type": ""
    },
    "tags": [
     "parameters"
    ]
   },
   "outputs": [],
   "source": [
    "prompt = \"Write me a code to run simulation of fibronectin.\"\n",
    "model = \"gpt-4o-2024-08-06\""
   ]
  },
  {
   "cell_type": "code",
   "execution_count": 3,
   "id": "ec1ece91",
   "metadata": {
    "papermill": {
     "duration": 0.010867,
     "end_time": "2024-10-17T00:42:11.983682",
     "exception": false,
     "start_time": "2024-10-17T00:42:11.972815",
     "status": "completed"
    },
    "tags": [
     "injected-parameters"
    ]
   },
   "outputs": [],
   "source": [
    "# Parameters\n",
    "prompt = \"Simulate 1VII for 1 ns at a temperature of 300 K. Then, tell me if the secondary structure changed from the beginning of the simulation to the end of the simulation.\"\n"
   ]
  },
  {
   "cell_type": "code",
   "execution_count": 4,
   "id": "d1a8a7f8-b5d9-492f-9f23-70bd0177c7a1",
   "metadata": {
    "editable": true,
    "papermill": {
     "duration": 0.048097,
     "end_time": "2024-10-17T00:42:12.034014",
     "exception": false,
     "start_time": "2024-10-17T00:42:11.985917",
     "status": "completed"
    },
    "slideshow": {
     "slide_type": ""
    },
    "tags": []
   },
   "outputs": [
    {
     "name": "stdout",
     "output_type": "stream",
     "text": [
      "date: 2024-10-21\n",
      "time: 13:33:29\n",
      "LLM:  gpt-4o-2024-08-06 \n",
      "Temperature:  0.1\n"
     ]
    }
   ],
   "source": [
    "llm = _make_llm(model, temp=0.1, streaming=True)\n",
    "\n",
    "system_prompt = (\n",
    "    \"You are an expert molecular dynamics scientist, and your \"\n",
    "    \"task is to respond to the question or \"\n",
    "    \"solve the problem in its entirety to the best of your ability. \"\n",
    "    \"If any part of the task requires you to perform an action that \"\n",
    "    \"you are not capable of completing, please write a runnable \"\n",
    "    \"Python script for that step and move on. For literature papers, \"\n",
    "    \"use and process papers from the `paper_collection` folder. \"\n",
    "    \"For .pdb files, download them from the RSCB website using `requests`. \"\n",
    "    \"To preprocess PDB files, you will use PDBFixer. \"\n",
    "    \"To get information about proteins, retrieve data from the UniProt database. \"\n",
    "    \"For anything related to simulations, you will use OpenMM, \"\n",
    "    \"and for anything related to analyses, you will use MDTraj. \"\n",
    "    \"At the end, combine any scripts into one script. \"\n",
    ")\n",
    "messages = [\n",
    "    (\"system\", system_prompt),\n",
    "    (\"human\", prompt),\n",
    "]\n",
    "\n",
    "now = datetime.datetime.now()\n",
    "date = now.strftime(\"%Y-%m-%d\")\n",
    "print(\"date:\",date)\n",
    "time = now.strftime(\"%H:%M:%S\")\n",
    "print(\"time:\",time)\n",
    "print(\"LLM: \",llm.model_name,\"\\nTemperature: \",llm.temperature)"
   ]
  },
  {
   "cell_type": "code",
   "execution_count": 5,
   "id": "43cd734b-be61-4d05-bedb-b798621db3ae",
   "metadata": {
    "papermill": {
     "duration": 10.685288,
     "end_time": "2024-10-17T00:42:22.721937",
     "exception": false,
     "start_time": "2024-10-17T00:42:12.036649",
     "status": "completed"
    },
    "scrolled": true,
    "tags": []
   },
   "outputs": [
    {
     "name": "stdout",
     "output_type": "stream",
     "text": [
      "To simulate the protein with PDB ID 1VII for 1 ns at a temperature of 300 K and analyze the secondary structure changes, we will follow these steps:\n",
      "\n",
      "1. Download the PDB file for 1VII.\n",
      "2. Preprocess the PDB file using PDBFixer to ensure it is ready for simulation.\n",
      "3. Set up and run a molecular dynamics simulation using OpenMM.\n",
      "4. Analyze the secondary structure at the beginning and end of the simulation using MDTraj.\n",
      "\n",
      "Let's start by writing the Python script to perform these tasks:\n",
      "\n",
      "```python\n",
      "import requests\n",
      "from pdbfixer import PDBFixer\n",
      "from openmm.app import *\n",
      "from openmm import *\n",
      "from openmm.unit import *\n",
      "import mdtraj as md\n",
      "import os\n",
      "\n",
      "# Step 1: Download the PDB file for 1VII\n",
      "pdb_id = \"1VII\"\n",
      "pdb_url = f\"https://files.rcsb.org/download/{pdb_id}.pdb\"\n",
      "pdb_filename = f\"{pdb_id}.pdb\"\n",
      "\n",
      "response = requests.get(pdb_url)\n",
      "with open(pdb_filename, 'wb') as file:\n",
      "    file.write(response.content)\n",
      "\n",
      "# Step 2: Preprocess the PDB file using PDBFixer\n",
      "fixer = PDBFixer(filename=pdb_filename)\n",
      "fixer.findMissingResidues()\n",
      "fixer.findMissingAtoms()\n",
      "fixer.addMissingAtoms()\n",
      "fixer.addMissingHydrogens()\n",
      "\n",
      "# Use the AMBER force field\n",
      "forcefield = ForceField('amber14-all.xml', 'amber14/tip3p.xml')\n",
      "\n",
      "# Step 3: Set up the simulation\n",
      "modeller = Modeller(fixer.topology, fixer.positions)\n",
      "modeller.addSolvent(forcefield, model='tip3p', padding=1.0*nanometer)\n",
      "\n",
      "system = forcefield.createSystem(modeller.topology, nonbondedMethod=PME, \n",
      "                                 nonbondedCutoff=1.0*nanometer, constraints=HBonds)\n",
      "\n",
      "integrator = LangevinIntegrator(300*kelvin, 1/picosecond, 0.002*picoseconds)\n",
      "simulation = Simulation(modeller.topology, system, integrator)\n",
      "simulation.context.setPositions(modeller.positions)\n",
      "\n",
      "# Minimize energy\n",
      "simulation.minimizeEnergy()\n",
      "\n",
      "# Equilibrate\n",
      "simulation.context.setVelocitiesToTemperature(300*kelvin)\n",
      "simulation.step(10000)  # 20 ps equilibration\n",
      "\n",
      "# Step 4: Run the simulation for 1 ns\n",
      "simulation.reporters.append(DCDReporter('trajectory.dcd', 1000))\n",
      "simulation.reporters.append(StateDataReporter('output.log', 1000, step=True, \n",
      "                                              potentialEnergy=True, temperature=True))\n",
      "\n",
      "simulation.step(500000)  # 1 ns simulation\n",
      "\n",
      "# Step 5: Analyze the secondary structure\n",
      "traj = md.load('trajectory.dcd', top=md.Topology.from_openmm(modeller.topology))\n",
      "\n",
      "# Get secondary structure at the beginning and end\n",
      "initial_structure = md.compute_dssp(traj[0])\n",
      "final_structure = md.compute_dssp(traj[-1])\n",
      "\n",
      "# Compare secondary structures\n",
      "initial_counts = {ss: list(initial_structure[0]).count(ss) for ss in set(initial_structure[0])}\n",
      "final_counts = {ss: list(final_structure[0]).count(ss) for ss in set(final_structure[0])}\n",
      "\n",
      "print(\"Initial Secondary Structure Counts:\", initial_counts)\n",
      "print(\"Final Secondary Structure Counts:\", final_counts)\n",
      "\n",
      "# Check for changes\n",
      "changes = {ss: final_counts.get(ss, 0) - initial_counts.get(ss, 0) for ss in set(initial_counts) | set(final_counts)}\n",
      "print(\"Changes in Secondary Structure:\", changes)\n",
      "```\n",
      "\n",
      "This script will download the PDB file for 1VII, preprocess it, run a 1 ns simulation at 300 K, and analyze the secondary structure at the beginning and end of the simulation. The results will show any changes in the secondary structure.To simulate the protein with PDB ID 1VII for 1 ns at a temperature of 300 K and analyze the secondary structure changes, we will follow these steps:\n",
      "\n",
      "1. Download the PDB file for 1VII.\n",
      "2. Preprocess the PDB file using PDBFixer to ensure it is ready for simulation.\n",
      "3. Set up and run a molecular dynamics simulation using OpenMM.\n",
      "4. Analyze the secondary structure at the beginning and end of the simulation using MDTraj.\n",
      "\n",
      "Let's start by writing the Python script to perform these tasks:\n",
      "\n",
      "```python\n",
      "import requests\n",
      "from pdbfixer import PDBFixer\n",
      "from openmm.app import *\n",
      "from openmm import *\n",
      "from openmm.unit import *\n",
      "import mdtraj as md\n",
      "import os\n",
      "\n",
      "# Step 1: Download the PDB file for 1VII\n",
      "pdb_id = \"1VII\"\n",
      "pdb_url = f\"https://files.rcsb.org/download/{pdb_id}.pdb\"\n",
      "pdb_filename = f\"{pdb_id}.pdb\"\n",
      "\n",
      "response = requests.get(pdb_url)\n",
      "with open(pdb_filename, 'wb') as file:\n",
      "    file.write(response.content)\n",
      "\n",
      "# Step 2: Preprocess the PDB file using PDBFixer\n",
      "fixer = PDBFixer(filename=pdb_filename)\n",
      "fixer.findMissingResidues()\n",
      "fixer.findMissingAtoms()\n",
      "fixer.addMissingAtoms()\n",
      "fixer.addMissingHydrogens()\n",
      "\n",
      "# Use the AMBER force field\n",
      "forcefield = ForceField('amber14-all.xml', 'amber14/tip3p.xml')\n",
      "\n",
      "# Step 3: Set up the simulation\n",
      "modeller = Modeller(fixer.topology, fixer.positions)\n",
      "modeller.addSolvent(forcefield, model='tip3p', padding=1.0*nanometer)\n",
      "\n",
      "system = forcefield.createSystem(modeller.topology, nonbondedMethod=PME, \n",
      "                                 nonbondedCutoff=1.0*nanometer, constraints=HBonds)\n",
      "\n",
      "integrator = LangevinIntegrator(300*kelvin, 1/picosecond, 0.002*picoseconds)\n",
      "simulation = Simulation(modeller.topology, system, integrator)\n",
      "simulation.context.setPositions(modeller.positions)\n",
      "\n",
      "# Minimize energy\n",
      "simulation.minimizeEnergy()\n",
      "\n",
      "# Equilibrate\n",
      "simulation.context.setVelocitiesToTemperature(300*kelvin)\n",
      "simulation.step(10000)  # 20 ps equilibration\n",
      "\n",
      "# Step 4: Run the simulation for 1 ns\n",
      "simulation.reporters.append(DCDReporter('trajectory.dcd', 1000))\n",
      "simulation.reporters.append(StateDataReporter('output.log', 1000, step=True, \n",
      "                                              potentialEnergy=True, temperature=True))\n",
      "\n",
      "simulation.step(500000)  # 1 ns simulation\n",
      "\n",
      "# Step 5: Analyze the secondary structure\n",
      "traj = md.load('trajectory.dcd', top=md.Topology.from_openmm(modeller.topology))\n",
      "\n",
      "# Get secondary structure at the beginning and end\n",
      "initial_structure = md.compute_dssp(traj[0])\n",
      "final_structure = md.compute_dssp(traj[-1])\n",
      "\n",
      "# Compare secondary structures\n",
      "initial_counts = {ss: list(initial_structure[0]).count(ss) for ss in set(initial_structure[0])}\n",
      "final_counts = {ss: list(final_structure[0]).count(ss) for ss in set(final_structure[0])}\n",
      "\n",
      "print(\"Initial Secondary Structure Counts:\", initial_counts)\n",
      "print(\"Final Secondary Structure Counts:\", final_counts)\n",
      "\n",
      "# Check for changes\n",
      "changes = {ss: final_counts.get(ss, 0) - initial_counts.get(ss, 0) for ss in set(initial_counts) | set(final_counts)}\n",
      "print(\"Changes in Secondary Structure:\", changes)\n",
      "```\n",
      "\n",
      "This script will download the PDB file for 1VII, preprocess it, run a 1 ns simulation at 300 K, and analyze the secondary structure at the beginning and end of the simulation. The results will show any changes in the secondary structure.\n"
     ]
    },
    {
     "name": "stdout",
     "output_type": "stream",
     "text": [
      " protein"
     ]
    },
    {
     "name": "stdout",
     "output_type": "stream",
     "text": [
      " structure"
     ]
    },
    {
     "name": "stdout",
     "output_type": "stream",
     "text": [
      " "
     ]
    },
    {
     "name": "stdout",
     "output_type": "stream",
     "text": [
      "1"
     ]
    },
    {
     "name": "stdout",
     "output_type": "stream",
     "text": [
      "X"
     ]
    },
    {
     "name": "stdout",
     "output_type": "stream",
     "text": [
      "Q"
     ]
    },
    {
     "name": "stdout",
     "output_type": "stream",
     "text": [
      "8"
     ]
    },
    {
     "name": "stdout",
     "output_type": "stream",
     "text": [
      " for"
     ]
    },
    {
     "name": "stdout",
     "output_type": "stream",
     "text": [
      " "
     ]
    },
    {
     "name": "stdout",
     "output_type": "stream",
     "text": [
      "1"
     ]
    },
    {
     "name": "stdout",
     "output_type": "stream",
     "text": [
      " ns"
     ]
    },
    {
     "name": "stdout",
     "output_type": "stream",
     "text": [
      " at"
     ]
    },
    {
     "name": "stdout",
     "output_type": "stream",
     "text": [
      " "
     ]
    },
    {
     "name": "stdout",
     "output_type": "stream",
     "text": [
      "300"
     ]
    },
    {
     "name": "stdout",
     "output_type": "stream",
     "text": [
      " K"
     ]
    },
    {
     "name": "stdout",
     "output_type": "stream",
     "text": [
      " and"
     ]
    },
    {
     "name": "stdout",
     "output_type": "stream",
     "text": [
      " analyze"
     ]
    },
    {
     "name": "stdout",
     "output_type": "stream",
     "text": [
      " the"
     ]
    },
    {
     "name": "stdout",
     "output_type": "stream",
     "text": [
      " secondary"
     ]
    },
    {
     "name": "stdout",
     "output_type": "stream",
     "text": [
      " structure"
     ]
    },
    {
     "name": "stdout",
     "output_type": "stream",
     "text": [
      " changes"
     ]
    },
    {
     "name": "stdout",
     "output_type": "stream",
     "text": [
      ","
     ]
    },
    {
     "name": "stdout",
     "output_type": "stream",
     "text": [
      " we"
     ]
    },
    {
     "name": "stdout",
     "output_type": "stream",
     "text": [
      " will"
     ]
    },
    {
     "name": "stdout",
     "output_type": "stream",
     "text": [
      " follow"
     ]
    },
    {
     "name": "stdout",
     "output_type": "stream",
     "text": [
      " these"
     ]
    },
    {
     "name": "stdout",
     "output_type": "stream",
     "text": [
      " steps"
     ]
    },
    {
     "name": "stdout",
     "output_type": "stream",
     "text": [
      ":\n",
      "\n"
     ]
    },
    {
     "name": "stdout",
     "output_type": "stream",
     "text": [
      "1"
     ]
    },
    {
     "name": "stdout",
     "output_type": "stream",
     "text": [
      "."
     ]
    },
    {
     "name": "stdout",
     "output_type": "stream",
     "text": [
      " Download"
     ]
    },
    {
     "name": "stdout",
     "output_type": "stream",
     "text": [
      " the"
     ]
    },
    {
     "name": "stdout",
     "output_type": "stream",
     "text": [
      " P"
     ]
    },
    {
     "name": "stdout",
     "output_type": "stream",
     "text": [
      "DB"
     ]
    },
    {
     "name": "stdout",
     "output_type": "stream",
     "text": [
      " file"
     ]
    },
    {
     "name": "stdout",
     "output_type": "stream",
     "text": [
      " for"
     ]
    },
    {
     "name": "stdout",
     "output_type": "stream",
     "text": [
      " "
     ]
    },
    {
     "name": "stdout",
     "output_type": "stream",
     "text": [
      "1"
     ]
    },
    {
     "name": "stdout",
     "output_type": "stream",
     "text": [
      "X"
     ]
    },
    {
     "name": "stdout",
     "output_type": "stream",
     "text": [
      "Q"
     ]
    },
    {
     "name": "stdout",
     "output_type": "stream",
     "text": [
      "8"
     ]
    },
    {
     "name": "stdout",
     "output_type": "stream",
     "text": [
      ".\n"
     ]
    },
    {
     "name": "stdout",
     "output_type": "stream",
     "text": [
      "2"
     ]
    },
    {
     "name": "stdout",
     "output_type": "stream",
     "text": [
      "."
     ]
    },
    {
     "name": "stdout",
     "output_type": "stream",
     "text": [
      " Pre"
     ]
    },
    {
     "name": "stdout",
     "output_type": "stream",
     "text": [
      "process"
     ]
    },
    {
     "name": "stdout",
     "output_type": "stream",
     "text": [
      " the"
     ]
    },
    {
     "name": "stdout",
     "output_type": "stream",
     "text": [
      " P"
     ]
    },
    {
     "name": "stdout",
     "output_type": "stream",
     "text": [
      "DB"
     ]
    },
    {
     "name": "stdout",
     "output_type": "stream",
     "text": [
      " file"
     ]
    },
    {
     "name": "stdout",
     "output_type": "stream",
     "text": [
      " using"
     ]
    },
    {
     "name": "stdout",
     "output_type": "stream",
     "text": [
      " P"
     ]
    },
    {
     "name": "stdout",
     "output_type": "stream",
     "text": [
      "DB"
     ]
    },
    {
     "name": "stdout",
     "output_type": "stream",
     "text": [
      "Fix"
     ]
    },
    {
     "name": "stdout",
     "output_type": "stream",
     "text": [
      "er"
     ]
    },
    {
     "name": "stdout",
     "output_type": "stream",
     "text": [
      " to"
     ]
    },
    {
     "name": "stdout",
     "output_type": "stream",
     "text": [
      " ensure"
     ]
    },
    {
     "name": "stdout",
     "output_type": "stream",
     "text": [
      " it"
     ]
    },
    {
     "name": "stdout",
     "output_type": "stream",
     "text": [
      " is"
     ]
    },
    {
     "name": "stdout",
     "output_type": "stream",
     "text": [
      " ready"
     ]
    },
    {
     "name": "stdout",
     "output_type": "stream",
     "text": [
      " for"
     ]
    },
    {
     "name": "stdout",
     "output_type": "stream",
     "text": [
      " simulation"
     ]
    },
    {
     "name": "stdout",
     "output_type": "stream",
     "text": [
      ".\n"
     ]
    },
    {
     "name": "stdout",
     "output_type": "stream",
     "text": [
      "3"
     ]
    },
    {
     "name": "stdout",
     "output_type": "stream",
     "text": [
      "."
     ]
    },
    {
     "name": "stdout",
     "output_type": "stream",
     "text": [
      " Set"
     ]
    },
    {
     "name": "stdout",
     "output_type": "stream",
     "text": [
      " up"
     ]
    },
    {
     "name": "stdout",
     "output_type": "stream",
     "text": [
      " and"
     ]
    },
    {
     "name": "stdout",
     "output_type": "stream",
     "text": [
      " run"
     ]
    },
    {
     "name": "stdout",
     "output_type": "stream",
     "text": [
      " a"
     ]
    },
    {
     "name": "stdout",
     "output_type": "stream",
     "text": [
      " molecular"
     ]
    },
    {
     "name": "stdout",
     "output_type": "stream",
     "text": [
      " dynamics"
     ]
    },
    {
     "name": "stdout",
     "output_type": "stream",
     "text": [
      " simulation"
     ]
    },
    {
     "name": "stdout",
     "output_type": "stream",
     "text": [
      " using"
     ]
    },
    {
     "name": "stdout",
     "output_type": "stream",
     "text": [
      " Open"
     ]
    },
    {
     "name": "stdout",
     "output_type": "stream",
     "text": [
      "MM"
     ]
    },
    {
     "name": "stdout",
     "output_type": "stream",
     "text": [
      ".\n"
     ]
    },
    {
     "name": "stdout",
     "output_type": "stream",
     "text": [
      "4"
     ]
    },
    {
     "name": "stdout",
     "output_type": "stream",
     "text": [
      "."
     ]
    },
    {
     "name": "stdout",
     "output_type": "stream",
     "text": [
      " Analyze"
     ]
    },
    {
     "name": "stdout",
     "output_type": "stream",
     "text": [
      " the"
     ]
    },
    {
     "name": "stdout",
     "output_type": "stream",
     "text": [
      " secondary"
     ]
    },
    {
     "name": "stdout",
     "output_type": "stream",
     "text": [
      " structure"
     ]
    },
    {
     "name": "stdout",
     "output_type": "stream",
     "text": [
      " at"
     ]
    },
    {
     "name": "stdout",
     "output_type": "stream",
     "text": [
      " the"
     ]
    },
    {
     "name": "stdout",
     "output_type": "stream",
     "text": [
      " beginning"
     ]
    },
    {
     "name": "stdout",
     "output_type": "stream",
     "text": [
      " and"
     ]
    },
    {
     "name": "stdout",
     "output_type": "stream",
     "text": [
      " end"
     ]
    },
    {
     "name": "stdout",
     "output_type": "stream",
     "text": [
      " of"
     ]
    },
    {
     "name": "stdout",
     "output_type": "stream",
     "text": [
      " the"
     ]
    },
    {
     "name": "stdout",
     "output_type": "stream",
     "text": [
      " simulation"
     ]
    },
    {
     "name": "stdout",
     "output_type": "stream",
     "text": [
      " using"
     ]
    },
    {
     "name": "stdout",
     "output_type": "stream",
     "text": [
      " MDT"
     ]
    },
    {
     "name": "stdout",
     "output_type": "stream",
     "text": [
      "raj"
     ]
    },
    {
     "name": "stdout",
     "output_type": "stream",
     "text": [
      ".\n",
      "\n"
     ]
    },
    {
     "name": "stdout",
     "output_type": "stream",
     "text": [
      "Let's"
     ]
    },
    {
     "name": "stdout",
     "output_type": "stream",
     "text": [
      " start"
     ]
    },
    {
     "name": "stdout",
     "output_type": "stream",
     "text": [
      " by"
     ]
    },
    {
     "name": "stdout",
     "output_type": "stream",
     "text": [
      " writing"
     ]
    },
    {
     "name": "stdout",
     "output_type": "stream",
     "text": [
      " the"
     ]
    },
    {
     "name": "stdout",
     "output_type": "stream",
     "text": [
      " Python"
     ]
    },
    {
     "name": "stdout",
     "output_type": "stream",
     "text": [
      " script"
     ]
    },
    {
     "name": "stdout",
     "output_type": "stream",
     "text": [
      " to"
     ]
    },
    {
     "name": "stdout",
     "output_type": "stream",
     "text": [
      " perform"
     ]
    },
    {
     "name": "stdout",
     "output_type": "stream",
     "text": [
      " these"
     ]
    },
    {
     "name": "stdout",
     "output_type": "stream",
     "text": [
      " tasks"
     ]
    },
    {
     "name": "stdout",
     "output_type": "stream",
     "text": [
      ":\n",
      "\n"
     ]
    },
    {
     "name": "stdout",
     "output_type": "stream",
     "text": [
      "```"
     ]
    },
    {
     "name": "stdout",
     "output_type": "stream",
     "text": [
      "python"
     ]
    },
    {
     "name": "stdout",
     "output_type": "stream",
     "text": [
      "\n"
     ]
    },
    {
     "name": "stdout",
     "output_type": "stream",
     "text": [
      "import"
     ]
    },
    {
     "name": "stdout",
     "output_type": "stream",
     "text": [
      " requests"
     ]
    },
    {
     "name": "stdout",
     "output_type": "stream",
     "text": [
      "\n"
     ]
    },
    {
     "name": "stdout",
     "output_type": "stream",
     "text": [
      "from"
     ]
    },
    {
     "name": "stdout",
     "output_type": "stream",
     "text": [
      " pdb"
     ]
    },
    {
     "name": "stdout",
     "output_type": "stream",
     "text": [
      "fix"
     ]
    },
    {
     "name": "stdout",
     "output_type": "stream",
     "text": [
      "er"
     ]
    },
    {
     "name": "stdout",
     "output_type": "stream",
     "text": [
      " import"
     ]
    },
    {
     "name": "stdout",
     "output_type": "stream",
     "text": [
      " P"
     ]
    },
    {
     "name": "stdout",
     "output_type": "stream",
     "text": [
      "DB"
     ]
    },
    {
     "name": "stdout",
     "output_type": "stream",
     "text": [
      "Fix"
     ]
    },
    {
     "name": "stdout",
     "output_type": "stream",
     "text": [
      "er"
     ]
    },
    {
     "name": "stdout",
     "output_type": "stream",
     "text": [
      "\n"
     ]
    },
    {
     "name": "stdout",
     "output_type": "stream",
     "text": [
      "from"
     ]
    },
    {
     "name": "stdout",
     "output_type": "stream",
     "text": [
      " open"
     ]
    },
    {
     "name": "stdout",
     "output_type": "stream",
     "text": [
      "mm"
     ]
    },
    {
     "name": "stdout",
     "output_type": "stream",
     "text": [
      ".app"
     ]
    },
    {
     "name": "stdout",
     "output_type": "stream",
     "text": [
      " import"
     ]
    },
    {
     "name": "stdout",
     "output_type": "stream",
     "text": [
      " *\n"
     ]
    },
    {
     "name": "stdout",
     "output_type": "stream",
     "text": [
      "from"
     ]
    },
    {
     "name": "stdout",
     "output_type": "stream",
     "text": [
      " open"
     ]
    },
    {
     "name": "stdout",
     "output_type": "stream",
     "text": [
      "mm"
     ]
    },
    {
     "name": "stdout",
     "output_type": "stream",
     "text": [
      " import"
     ]
    },
    {
     "name": "stdout",
     "output_type": "stream",
     "text": [
      " *\n"
     ]
    },
    {
     "name": "stdout",
     "output_type": "stream",
     "text": [
      "from"
     ]
    },
    {
     "name": "stdout",
     "output_type": "stream",
     "text": [
      " open"
     ]
    },
    {
     "name": "stdout",
     "output_type": "stream",
     "text": [
      "mm"
     ]
    },
    {
     "name": "stdout",
     "output_type": "stream",
     "text": [
      ".unit"
     ]
    },
    {
     "name": "stdout",
     "output_type": "stream",
     "text": [
      " import"
     ]
    },
    {
     "name": "stdout",
     "output_type": "stream",
     "text": [
      " *\n"
     ]
    },
    {
     "name": "stdout",
     "output_type": "stream",
     "text": [
      "import"
     ]
    },
    {
     "name": "stdout",
     "output_type": "stream",
     "text": [
      " md"
     ]
    },
    {
     "name": "stdout",
     "output_type": "stream",
     "text": [
      "traj"
     ]
    },
    {
     "name": "stdout",
     "output_type": "stream",
     "text": [
      " as"
     ]
    },
    {
     "name": "stdout",
     "output_type": "stream",
     "text": [
      " md"
     ]
    },
    {
     "name": "stdout",
     "output_type": "stream",
     "text": [
      "\n",
      "\n"
     ]
    },
    {
     "name": "stdout",
     "output_type": "stream",
     "text": [
      "#"
     ]
    },
    {
     "name": "stdout",
     "output_type": "stream",
     "text": [
      " Step"
     ]
    },
    {
     "name": "stdout",
     "output_type": "stream",
     "text": [
      " "
     ]
    },
    {
     "name": "stdout",
     "output_type": "stream",
     "text": [
      "1"
     ]
    },
    {
     "name": "stdout",
     "output_type": "stream",
     "text": [
      ":"
     ]
    },
    {
     "name": "stdout",
     "output_type": "stream",
     "text": [
      " Download"
     ]
    },
    {
     "name": "stdout",
     "output_type": "stream",
     "text": [
      " the"
     ]
    },
    {
     "name": "stdout",
     "output_type": "stream",
     "text": [
      " P"
     ]
    },
    {
     "name": "stdout",
     "output_type": "stream",
     "text": [
      "DB"
     ]
    },
    {
     "name": "stdout",
     "output_type": "stream",
     "text": [
      " file"
     ]
    },
    {
     "name": "stdout",
     "output_type": "stream",
     "text": [
      " for"
     ]
    },
    {
     "name": "stdout",
     "output_type": "stream",
     "text": [
      " "
     ]
    },
    {
     "name": "stdout",
     "output_type": "stream",
     "text": [
      "1"
     ]
    },
    {
     "name": "stdout",
     "output_type": "stream",
     "text": [
      "X"
     ]
    },
    {
     "name": "stdout",
     "output_type": "stream",
     "text": [
      "Q"
     ]
    },
    {
     "name": "stdout",
     "output_type": "stream",
     "text": [
      "8"
     ]
    },
    {
     "name": "stdout",
     "output_type": "stream",
     "text": [
      "\n"
     ]
    },
    {
     "name": "stdout",
     "output_type": "stream",
     "text": [
      "p"
     ]
    },
    {
     "name": "stdout",
     "output_type": "stream",
     "text": [
      "db"
     ]
    },
    {
     "name": "stdout",
     "output_type": "stream",
     "text": [
      "_id"
     ]
    },
    {
     "name": "stdout",
     "output_type": "stream",
     "text": [
      " ="
     ]
    },
    {
     "name": "stdout",
     "output_type": "stream",
     "text": [
      " \""
     ]
    },
    {
     "name": "stdout",
     "output_type": "stream",
     "text": [
      "1"
     ]
    },
    {
     "name": "stdout",
     "output_type": "stream",
     "text": [
      "X"
     ]
    },
    {
     "name": "stdout",
     "output_type": "stream",
     "text": [
      "Q"
     ]
    },
    {
     "name": "stdout",
     "output_type": "stream",
     "text": [
      "8"
     ]
    },
    {
     "name": "stdout",
     "output_type": "stream",
     "text": [
      "\"\n"
     ]
    },
    {
     "name": "stdout",
     "output_type": "stream",
     "text": [
      "url"
     ]
    },
    {
     "name": "stdout",
     "output_type": "stream",
     "text": [
      " ="
     ]
    },
    {
     "name": "stdout",
     "output_type": "stream",
     "text": [
      " f"
     ]
    },
    {
     "name": "stdout",
     "output_type": "stream",
     "text": [
      "\"https"
     ]
    },
    {
     "name": "stdout",
     "output_type": "stream",
     "text": [
      "://"
     ]
    },
    {
     "name": "stdout",
     "output_type": "stream",
     "text": [
      "files"
     ]
    },
    {
     "name": "stdout",
     "output_type": "stream",
     "text": [
      ".rc"
     ]
    },
    {
     "name": "stdout",
     "output_type": "stream",
     "text": [
      "sb"
     ]
    },
    {
     "name": "stdout",
     "output_type": "stream",
     "text": [
      ".org"
     ]
    },
    {
     "name": "stdout",
     "output_type": "stream",
     "text": [
      "/download"
     ]
    },
    {
     "name": "stdout",
     "output_type": "stream",
     "text": [
      "/{"
     ]
    },
    {
     "name": "stdout",
     "output_type": "stream",
     "text": [
      "p"
     ]
    },
    {
     "name": "stdout",
     "output_type": "stream",
     "text": [
      "db"
     ]
    },
    {
     "name": "stdout",
     "output_type": "stream",
     "text": [
      "_id"
     ]
    },
    {
     "name": "stdout",
     "output_type": "stream",
     "text": [
      "}."
     ]
    },
    {
     "name": "stdout",
     "output_type": "stream",
     "text": [
      "p"
     ]
    },
    {
     "name": "stdout",
     "output_type": "stream",
     "text": [
      "db"
     ]
    },
    {
     "name": "stdout",
     "output_type": "stream",
     "text": [
      "\"\n"
     ]
    },
    {
     "name": "stdout",
     "output_type": "stream",
     "text": [
      "response"
     ]
    },
    {
     "name": "stdout",
     "output_type": "stream",
     "text": [
      " ="
     ]
    },
    {
     "name": "stdout",
     "output_type": "stream",
     "text": [
      " requests"
     ]
    },
    {
     "name": "stdout",
     "output_type": "stream",
     "text": [
      ".get"
     ]
    },
    {
     "name": "stdout",
     "output_type": "stream",
     "text": [
      "(url"
     ]
    },
    {
     "name": "stdout",
     "output_type": "stream",
     "text": [
      ")\n"
     ]
    },
    {
     "name": "stdout",
     "output_type": "stream",
     "text": [
      "with"
     ]
    },
    {
     "name": "stdout",
     "output_type": "stream",
     "text": [
      " open"
     ]
    },
    {
     "name": "stdout",
     "output_type": "stream",
     "text": [
      "(f"
     ]
    },
    {
     "name": "stdout",
     "output_type": "stream",
     "text": [
      "\"{"
     ]
    },
    {
     "name": "stdout",
     "output_type": "stream",
     "text": [
      "p"
     ]
    },
    {
     "name": "stdout",
     "output_type": "stream",
     "text": [
      "db"
     ]
    },
    {
     "name": "stdout",
     "output_type": "stream",
     "text": [
      "_id"
     ]
    },
    {
     "name": "stdout",
     "output_type": "stream",
     "text": [
      "}."
     ]
    },
    {
     "name": "stdout",
     "output_type": "stream",
     "text": [
      "p"
     ]
    },
    {
     "name": "stdout",
     "output_type": "stream",
     "text": [
      "db"
     ]
    },
    {
     "name": "stdout",
     "output_type": "stream",
     "text": [
      "\","
     ]
    },
    {
     "name": "stdout",
     "output_type": "stream",
     "text": [
      " \""
     ]
    },
    {
     "name": "stdout",
     "output_type": "stream",
     "text": [
      "wb"
     ]
    },
    {
     "name": "stdout",
     "output_type": "stream",
     "text": [
      "\")"
     ]
    },
    {
     "name": "stdout",
     "output_type": "stream",
     "text": [
      " as"
     ]
    },
    {
     "name": "stdout",
     "output_type": "stream",
     "text": [
      " file"
     ]
    },
    {
     "name": "stdout",
     "output_type": "stream",
     "text": [
      ":\n"
     ]
    },
    {
     "name": "stdout",
     "output_type": "stream",
     "text": [
      "   "
     ]
    },
    {
     "name": "stdout",
     "output_type": "stream",
     "text": [
      " file"
     ]
    },
    {
     "name": "stdout",
     "output_type": "stream",
     "text": [
      ".write"
     ]
    },
    {
     "name": "stdout",
     "output_type": "stream",
     "text": [
      "(response"
     ]
    },
    {
     "name": "stdout",
     "output_type": "stream",
     "text": [
      ".content"
     ]
    },
    {
     "name": "stdout",
     "output_type": "stream",
     "text": [
      ")\n",
      "\n"
     ]
    },
    {
     "name": "stdout",
     "output_type": "stream",
     "text": [
      "#"
     ]
    },
    {
     "name": "stdout",
     "output_type": "stream",
     "text": [
      " Step"
     ]
    },
    {
     "name": "stdout",
     "output_type": "stream",
     "text": [
      " "
     ]
    },
    {
     "name": "stdout",
     "output_type": "stream",
     "text": [
      "2"
     ]
    },
    {
     "name": "stdout",
     "output_type": "stream",
     "text": [
      ":"
     ]
    },
    {
     "name": "stdout",
     "output_type": "stream",
     "text": [
      " Pre"
     ]
    },
    {
     "name": "stdout",
     "output_type": "stream",
     "text": [
      "process"
     ]
    },
    {
     "name": "stdout",
     "output_type": "stream",
     "text": [
      " the"
     ]
    },
    {
     "name": "stdout",
     "output_type": "stream",
     "text": [
      " P"
     ]
    },
    {
     "name": "stdout",
     "output_type": "stream",
     "text": [
      "DB"
     ]
    },
    {
     "name": "stdout",
     "output_type": "stream",
     "text": [
      " file"
     ]
    },
    {
     "name": "stdout",
     "output_type": "stream",
     "text": [
      " using"
     ]
    },
    {
     "name": "stdout",
     "output_type": "stream",
     "text": [
      " P"
     ]
    },
    {
     "name": "stdout",
     "output_type": "stream",
     "text": [
      "DB"
     ]
    },
    {
     "name": "stdout",
     "output_type": "stream",
     "text": [
      "Fix"
     ]
    },
    {
     "name": "stdout",
     "output_type": "stream",
     "text": [
      "er"
     ]
    },
    {
     "name": "stdout",
     "output_type": "stream",
     "text": [
      "\n"
     ]
    },
    {
     "name": "stdout",
     "output_type": "stream",
     "text": [
      "fix"
     ]
    },
    {
     "name": "stdout",
     "output_type": "stream",
     "text": [
      "er"
     ]
    },
    {
     "name": "stdout",
     "output_type": "stream",
     "text": [
      " ="
     ]
    },
    {
     "name": "stdout",
     "output_type": "stream",
     "text": [
      " P"
     ]
    },
    {
     "name": "stdout",
     "output_type": "stream",
     "text": [
      "DB"
     ]
    },
    {
     "name": "stdout",
     "output_type": "stream",
     "text": [
      "Fix"
     ]
    },
    {
     "name": "stdout",
     "output_type": "stream",
     "text": [
      "er"
     ]
    },
    {
     "name": "stdout",
     "output_type": "stream",
     "text": [
      "(filename"
     ]
    },
    {
     "name": "stdout",
     "output_type": "stream",
     "text": [
      "=f"
     ]
    },
    {
     "name": "stdout",
     "output_type": "stream",
     "text": [
      "\"{"
     ]
    },
    {
     "name": "stdout",
     "output_type": "stream",
     "text": [
      "p"
     ]
    },
    {
     "name": "stdout",
     "output_type": "stream",
     "text": [
      "db"
     ]
    },
    {
     "name": "stdout",
     "output_type": "stream",
     "text": [
      "_id"
     ]
    },
    {
     "name": "stdout",
     "output_type": "stream",
     "text": [
      "}."
     ]
    },
    {
     "name": "stdout",
     "output_type": "stream",
     "text": [
      "p"
     ]
    },
    {
     "name": "stdout",
     "output_type": "stream",
     "text": [
      "db"
     ]
    },
    {
     "name": "stdout",
     "output_type": "stream",
     "text": [
      "\")\n"
     ]
    },
    {
     "name": "stdout",
     "output_type": "stream",
     "text": [
      "fix"
     ]
    },
    {
     "name": "stdout",
     "output_type": "stream",
     "text": [
      "er"
     ]
    },
    {
     "name": "stdout",
     "output_type": "stream",
     "text": [
      ".find"
     ]
    },
    {
     "name": "stdout",
     "output_type": "stream",
     "text": [
      "Missing"
     ]
    },
    {
     "name": "stdout",
     "output_type": "stream",
     "text": [
      "Resid"
     ]
    },
    {
     "name": "stdout",
     "output_type": "stream",
     "text": [
      "ues"
     ]
    },
    {
     "name": "stdout",
     "output_type": "stream",
     "text": [
      "()\n"
     ]
    },
    {
     "name": "stdout",
     "output_type": "stream",
     "text": [
      "fix"
     ]
    },
    {
     "name": "stdout",
     "output_type": "stream",
     "text": [
      "er"
     ]
    },
    {
     "name": "stdout",
     "output_type": "stream",
     "text": [
      ".find"
     ]
    },
    {
     "name": "stdout",
     "output_type": "stream",
     "text": [
      "Missing"
     ]
    },
    {
     "name": "stdout",
     "output_type": "stream",
     "text": [
      "Atoms"
     ]
    },
    {
     "name": "stdout",
     "output_type": "stream",
     "text": [
      "()\n"
     ]
    },
    {
     "name": "stdout",
     "output_type": "stream",
     "text": [
      "fix"
     ]
    },
    {
     "name": "stdout",
     "output_type": "stream",
     "text": [
      "er"
     ]
    },
    {
     "name": "stdout",
     "output_type": "stream",
     "text": [
      ".add"
     ]
    },
    {
     "name": "stdout",
     "output_type": "stream",
     "text": [
      "Missing"
     ]
    },
    {
     "name": "stdout",
     "output_type": "stream",
     "text": [
      "Atoms"
     ]
    },
    {
     "name": "stdout",
     "output_type": "stream",
     "text": [
      "()\n"
     ]
    },
    {
     "name": "stdout",
     "output_type": "stream",
     "text": [
      "fix"
     ]
    },
    {
     "name": "stdout",
     "output_type": "stream",
     "text": [
      "er"
     ]
    },
    {
     "name": "stdout",
     "output_type": "stream",
     "text": [
      ".add"
     ]
    },
    {
     "name": "stdout",
     "output_type": "stream",
     "text": [
      "Missing"
     ]
    },
    {
     "name": "stdout",
     "output_type": "stream",
     "text": [
      "Hyd"
     ]
    },
    {
     "name": "stdout",
     "output_type": "stream",
     "text": [
      "rog"
     ]
    },
    {
     "name": "stdout",
     "output_type": "stream",
     "text": [
      "ens"
     ]
    },
    {
     "name": "stdout",
     "output_type": "stream",
     "text": [
      "()\n",
      "\n"
     ]
    },
    {
     "name": "stdout",
     "output_type": "stream",
     "text": [
      "#"
     ]
    },
    {
     "name": "stdout",
     "output_type": "stream",
     "text": [
      " Use"
     ]
    },
    {
     "name": "stdout",
     "output_type": "stream",
     "text": [
      " the"
     ]
    },
    {
     "name": "stdout",
     "output_type": "stream",
     "text": [
      " AM"
     ]
    },
    {
     "name": "stdout",
     "output_type": "stream",
     "text": [
      "BER"
     ]
    },
    {
     "name": "stdout",
     "output_type": "stream",
     "text": [
      " force"
     ]
    },
    {
     "name": "stdout",
     "output_type": "stream",
     "text": [
      " field"
     ]
    },
    {
     "name": "stdout",
     "output_type": "stream",
     "text": [
      "\n"
     ]
    },
    {
     "name": "stdout",
     "output_type": "stream",
     "text": [
      "force"
     ]
    },
    {
     "name": "stdout",
     "output_type": "stream",
     "text": [
      "field"
     ]
    },
    {
     "name": "stdout",
     "output_type": "stream",
     "text": [
      " ="
     ]
    },
    {
     "name": "stdout",
     "output_type": "stream",
     "text": [
      " Force"
     ]
    },
    {
     "name": "stdout",
     "output_type": "stream",
     "text": [
      "Field"
     ]
    },
    {
     "name": "stdout",
     "output_type": "stream",
     "text": [
      "('"
     ]
    },
    {
     "name": "stdout",
     "output_type": "stream",
     "text": [
      "amber"
     ]
    },
    {
     "name": "stdout",
     "output_type": "stream",
     "text": [
      "14"
     ]
    },
    {
     "name": "stdout",
     "output_type": "stream",
     "text": [
      "-all"
     ]
    },
    {
     "name": "stdout",
     "output_type": "stream",
     "text": [
      ".xml"
     ]
    },
    {
     "name": "stdout",
     "output_type": "stream",
     "text": [
      "',"
     ]
    },
    {
     "name": "stdout",
     "output_type": "stream",
     "text": [
      " '"
     ]
    },
    {
     "name": "stdout",
     "output_type": "stream",
     "text": [
      "amber"
     ]
    },
    {
     "name": "stdout",
     "output_type": "stream",
     "text": [
      "14"
     ]
    },
    {
     "name": "stdout",
     "output_type": "stream",
     "text": [
      "/t"
     ]
    },
    {
     "name": "stdout",
     "output_type": "stream",
     "text": [
      "ip"
     ]
    },
    {
     "name": "stdout",
     "output_type": "stream",
     "text": [
      "3"
     ]
    },
    {
     "name": "stdout",
     "output_type": "stream",
     "text": [
      "p"
     ]
    },
    {
     "name": "stdout",
     "output_type": "stream",
     "text": [
      ".xml"
     ]
    },
    {
     "name": "stdout",
     "output_type": "stream",
     "text": [
      "')\n",
      "\n"
     ]
    },
    {
     "name": "stdout",
     "output_type": "stream",
     "text": [
      "#"
     ]
    },
    {
     "name": "stdout",
     "output_type": "stream",
     "text": [
      " Create"
     ]
    },
    {
     "name": "stdout",
     "output_type": "stream",
     "text": [
      " the"
     ]
    },
    {
     "name": "stdout",
     "output_type": "stream",
     "text": [
      " system"
     ]
    },
    {
     "name": "stdout",
     "output_type": "stream",
     "text": [
      "\n"
     ]
    },
    {
     "name": "stdout",
     "output_type": "stream",
     "text": [
      "system"
     ]
    },
    {
     "name": "stdout",
     "output_type": "stream",
     "text": [
      " ="
     ]
    },
    {
     "name": "stdout",
     "output_type": "stream",
     "text": [
      " force"
     ]
    },
    {
     "name": "stdout",
     "output_type": "stream",
     "text": [
      "field"
     ]
    },
    {
     "name": "stdout",
     "output_type": "stream",
     "text": [
      ".create"
     ]
    },
    {
     "name": "stdout",
     "output_type": "stream",
     "text": [
      "System"
     ]
    },
    {
     "name": "stdout",
     "output_type": "stream",
     "text": [
      "(f"
     ]
    },
    {
     "name": "stdout",
     "output_type": "stream",
     "text": [
      "ixer"
     ]
    },
    {
     "name": "stdout",
     "output_type": "stream",
     "text": [
      ".top"
     ]
    },
    {
     "name": "stdout",
     "output_type": "stream",
     "text": [
      "ology"
     ]
    },
    {
     "name": "stdout",
     "output_type": "stream",
     "text": [
      ","
     ]
    },
    {
     "name": "stdout",
     "output_type": "stream",
     "text": [
      " non"
     ]
    },
    {
     "name": "stdout",
     "output_type": "stream",
     "text": [
      "bond"
     ]
    },
    {
     "name": "stdout",
     "output_type": "stream",
     "text": [
      "ed"
     ]
    },
    {
     "name": "stdout",
     "output_type": "stream",
     "text": [
      "Method"
     ]
    },
    {
     "name": "stdout",
     "output_type": "stream",
     "text": [
      "="
     ]
    },
    {
     "name": "stdout",
     "output_type": "stream",
     "text": [
      "PM"
     ]
    },
    {
     "name": "stdout",
     "output_type": "stream",
     "text": [
      "E"
     ]
    },
    {
     "name": "stdout",
     "output_type": "stream",
     "text": [
      ","
     ]
    },
    {
     "name": "stdout",
     "output_type": "stream",
     "text": [
      " non"
     ]
    },
    {
     "name": "stdout",
     "output_type": "stream",
     "text": [
      "bond"
     ]
    },
    {
     "name": "stdout",
     "output_type": "stream",
     "text": [
      "ed"
     ]
    },
    {
     "name": "stdout",
     "output_type": "stream",
     "text": [
      "Cut"
     ]
    },
    {
     "name": "stdout",
     "output_type": "stream",
     "text": [
      "off"
     ]
    },
    {
     "name": "stdout",
     "output_type": "stream",
     "text": [
      "="
     ]
    },
    {
     "name": "stdout",
     "output_type": "stream",
     "text": [
      "1"
     ]
    },
    {
     "name": "stdout",
     "output_type": "stream",
     "text": [
      "*"
     ]
    },
    {
     "name": "stdout",
     "output_type": "stream",
     "text": [
      "nan"
     ]
    },
    {
     "name": "stdout",
     "output_type": "stream",
     "text": [
      "ometer"
     ]
    },
    {
     "name": "stdout",
     "output_type": "stream",
     "text": [
      ","
     ]
    },
    {
     "name": "stdout",
     "output_type": "stream",
     "text": [
      " constraints"
     ]
    },
    {
     "name": "stdout",
     "output_type": "stream",
     "text": [
      "="
     ]
    },
    {
     "name": "stdout",
     "output_type": "stream",
     "text": [
      "HB"
     ]
    },
    {
     "name": "stdout",
     "output_type": "stream",
     "text": [
      "onds"
     ]
    },
    {
     "name": "stdout",
     "output_type": "stream",
     "text": [
      ")\n",
      "\n"
     ]
    },
    {
     "name": "stdout",
     "output_type": "stream",
     "text": [
      "#"
     ]
    },
    {
     "name": "stdout",
     "output_type": "stream",
     "text": [
      " Step"
     ]
    },
    {
     "name": "stdout",
     "output_type": "stream",
     "text": [
      " "
     ]
    },
    {
     "name": "stdout",
     "output_type": "stream",
     "text": [
      "3"
     ]
    },
    {
     "name": "stdout",
     "output_type": "stream",
     "text": [
      ":"
     ]
    },
    {
     "name": "stdout",
     "output_type": "stream",
     "text": [
      " Set"
     ]
    },
    {
     "name": "stdout",
     "output_type": "stream",
     "text": [
      " up"
     ]
    },
    {
     "name": "stdout",
     "output_type": "stream",
     "text": [
      " and"
     ]
    },
    {
     "name": "stdout",
     "output_type": "stream",
     "text": [
      " run"
     ]
    },
    {
     "name": "stdout",
     "output_type": "stream",
     "text": [
      " a"
     ]
    },
    {
     "name": "stdout",
     "output_type": "stream",
     "text": [
      " molecular"
     ]
    },
    {
     "name": "stdout",
     "output_type": "stream",
     "text": [
      " dynamics"
     ]
    },
    {
     "name": "stdout",
     "output_type": "stream",
     "text": [
      " simulation"
     ]
    },
    {
     "name": "stdout",
     "output_type": "stream",
     "text": [
      " using"
     ]
    },
    {
     "name": "stdout",
     "output_type": "stream",
     "text": [
      " Open"
     ]
    },
    {
     "name": "stdout",
     "output_type": "stream",
     "text": [
      "MM"
     ]
    },
    {
     "name": "stdout",
     "output_type": "stream",
     "text": [
      "\n"
     ]
    },
    {
     "name": "stdout",
     "output_type": "stream",
     "text": [
      "integr"
     ]
    },
    {
     "name": "stdout",
     "output_type": "stream",
     "text": [
      "ator"
     ]
    },
    {
     "name": "stdout",
     "output_type": "stream",
     "text": [
      " ="
     ]
    },
    {
     "name": "stdout",
     "output_type": "stream",
     "text": [
      " Lange"
     ]
    },
    {
     "name": "stdout",
     "output_type": "stream",
     "text": [
      "vin"
     ]
    },
    {
     "name": "stdout",
     "output_type": "stream",
     "text": [
      "Integrator"
     ]
    },
    {
     "name": "stdout",
     "output_type": "stream",
     "text": [
      "("
     ]
    },
    {
     "name": "stdout",
     "output_type": "stream",
     "text": [
      "300"
     ]
    },
    {
     "name": "stdout",
     "output_type": "stream",
     "text": [
      "*"
     ]
    },
    {
     "name": "stdout",
     "output_type": "stream",
     "text": [
      "kel"
     ]
    },
    {
     "name": "stdout",
     "output_type": "stream",
     "text": [
      "vin"
     ]
    },
    {
     "name": "stdout",
     "output_type": "stream",
     "text": [
      ","
     ]
    },
    {
     "name": "stdout",
     "output_type": "stream",
     "text": [
      " "
     ]
    },
    {
     "name": "stdout",
     "output_type": "stream",
     "text": [
      "1"
     ]
    },
    {
     "name": "stdout",
     "output_type": "stream",
     "text": [
      "/p"
     ]
    },
    {
     "name": "stdout",
     "output_type": "stream",
     "text": [
      "ic"
     ]
    },
    {
     "name": "stdout",
     "output_type": "stream",
     "text": [
      "ose"
     ]
    },
    {
     "name": "stdout",
     "output_type": "stream",
     "text": [
      "cond"
     ]
    },
    {
     "name": "stdout",
     "output_type": "stream",
     "text": [
      ","
     ]
    },
    {
     "name": "stdout",
     "output_type": "stream",
     "text": [
      " "
     ]
    },
    {
     "name": "stdout",
     "output_type": "stream",
     "text": [
      "0"
     ]
    },
    {
     "name": "stdout",
     "output_type": "stream",
     "text": [
      "."
     ]
    },
    {
     "name": "stdout",
     "output_type": "stream",
     "text": [
      "002"
     ]
    },
    {
     "name": "stdout",
     "output_type": "stream",
     "text": [
      "*"
     ]
    },
    {
     "name": "stdout",
     "output_type": "stream",
     "text": [
      "pic"
     ]
    },
    {
     "name": "stdout",
     "output_type": "stream",
     "text": [
      "oseconds"
     ]
    },
    {
     "name": "stdout",
     "output_type": "stream",
     "text": [
      ")\n"
     ]
    },
    {
     "name": "stdout",
     "output_type": "stream",
     "text": [
      "simulation"
     ]
    },
    {
     "name": "stdout",
     "output_type": "stream",
     "text": [
      " ="
     ]
    },
    {
     "name": "stdout",
     "output_type": "stream",
     "text": [
      " Simulation"
     ]
    },
    {
     "name": "stdout",
     "output_type": "stream",
     "text": [
      "(f"
     ]
    },
    {
     "name": "stdout",
     "output_type": "stream",
     "text": [
      "ixer"
     ]
    },
    {
     "name": "stdout",
     "output_type": "stream",
     "text": [
      ".top"
     ]
    },
    {
     "name": "stdout",
     "output_type": "stream",
     "text": [
      "ology"
     ]
    },
    {
     "name": "stdout",
     "output_type": "stream",
     "text": [
      ","
     ]
    },
    {
     "name": "stdout",
     "output_type": "stream",
     "text": [
      " system"
     ]
    },
    {
     "name": "stdout",
     "output_type": "stream",
     "text": [
      ","
     ]
    },
    {
     "name": "stdout",
     "output_type": "stream",
     "text": [
      " integr"
     ]
    },
    {
     "name": "stdout",
     "output_type": "stream",
     "text": [
      "ator"
     ]
    },
    {
     "name": "stdout",
     "output_type": "stream",
     "text": [
      ")\n"
     ]
    },
    {
     "name": "stdout",
     "output_type": "stream",
     "text": [
      "simulation"
     ]
    },
    {
     "name": "stdout",
     "output_type": "stream",
     "text": [
      ".context"
     ]
    },
    {
     "name": "stdout",
     "output_type": "stream",
     "text": [
      ".set"
     ]
    },
    {
     "name": "stdout",
     "output_type": "stream",
     "text": [
      "Positions"
     ]
    },
    {
     "name": "stdout",
     "output_type": "stream",
     "text": [
      "(f"
     ]
    },
    {
     "name": "stdout",
     "output_type": "stream",
     "text": [
      "ixer"
     ]
    },
    {
     "name": "stdout",
     "output_type": "stream",
     "text": [
      ".positions"
     ]
    },
    {
     "name": "stdout",
     "output_type": "stream",
     "text": [
      ")\n",
      "\n"
     ]
    },
    {
     "name": "stdout",
     "output_type": "stream",
     "text": [
      "#"
     ]
    },
    {
     "name": "stdout",
     "output_type": "stream",
     "text": [
      " Min"
     ]
    },
    {
     "name": "stdout",
     "output_type": "stream",
     "text": [
      "imize"
     ]
    },
    {
     "name": "stdout",
     "output_type": "stream",
     "text": [
      " energy"
     ]
    },
    {
     "name": "stdout",
     "output_type": "stream",
     "text": [
      "\n"
     ]
    },
    {
     "name": "stdout",
     "output_type": "stream",
     "text": [
      "simulation"
     ]
    },
    {
     "name": "stdout",
     "output_type": "stream",
     "text": [
      ".min"
     ]
    },
    {
     "name": "stdout",
     "output_type": "stream",
     "text": [
      "imize"
     ]
    },
    {
     "name": "stdout",
     "output_type": "stream",
     "text": [
      "Energy"
     ]
    },
    {
     "name": "stdout",
     "output_type": "stream",
     "text": [
      "()\n",
      "\n"
     ]
    },
    {
     "name": "stdout",
     "output_type": "stream",
     "text": [
      "#"
     ]
    },
    {
     "name": "stdout",
     "output_type": "stream",
     "text": [
      " Equ"
     ]
    },
    {
     "name": "stdout",
     "output_type": "stream",
     "text": [
      "ilibr"
     ]
    },
    {
     "name": "stdout",
     "output_type": "stream",
     "text": [
      "ate"
     ]
    },
    {
     "name": "stdout",
     "output_type": "stream",
     "text": [
      "\n"
     ]
    },
    {
     "name": "stdout",
     "output_type": "stream",
     "text": [
      "simulation"
     ]
    },
    {
     "name": "stdout",
     "output_type": "stream",
     "text": [
      ".context"
     ]
    },
    {
     "name": "stdout",
     "output_type": "stream",
     "text": [
      ".set"
     ]
    },
    {
     "name": "stdout",
     "output_type": "stream",
     "text": [
      "Vel"
     ]
    },
    {
     "name": "stdout",
     "output_type": "stream",
     "text": [
      "ocities"
     ]
    },
    {
     "name": "stdout",
     "output_type": "stream",
     "text": [
      "To"
     ]
    },
    {
     "name": "stdout",
     "output_type": "stream",
     "text": [
      "Temperature"
     ]
    },
    {
     "name": "stdout",
     "output_type": "stream",
     "text": [
      "("
     ]
    },
    {
     "name": "stdout",
     "output_type": "stream",
     "text": [
      "300"
     ]
    },
    {
     "name": "stdout",
     "output_type": "stream",
     "text": [
      "*"
     ]
    },
    {
     "name": "stdout",
     "output_type": "stream",
     "text": [
      "kel"
     ]
    },
    {
     "name": "stdout",
     "output_type": "stream",
     "text": [
      "vin"
     ]
    },
    {
     "name": "stdout",
     "output_type": "stream",
     "text": [
      ")\n"
     ]
    },
    {
     "name": "stdout",
     "output_type": "stream",
     "text": [
      "simulation"
     ]
    },
    {
     "name": "stdout",
     "output_type": "stream",
     "text": [
      ".step"
     ]
    },
    {
     "name": "stdout",
     "output_type": "stream",
     "text": [
      "("
     ]
    },
    {
     "name": "stdout",
     "output_type": "stream",
     "text": [
      "100"
     ]
    },
    {
     "name": "stdout",
     "output_type": "stream",
     "text": [
      "00"
     ]
    },
    {
     "name": "stdout",
     "output_type": "stream",
     "text": [
      ")"
     ]
    },
    {
     "name": "stdout",
     "output_type": "stream",
     "text": [
      " "
     ]
    },
    {
     "name": "stdout",
     "output_type": "stream",
     "text": [
      " #"
     ]
    },
    {
     "name": "stdout",
     "output_type": "stream",
     "text": [
      " "
     ]
    },
    {
     "name": "stdout",
     "output_type": "stream",
     "text": [
      "20"
     ]
    },
    {
     "name": "stdout",
     "output_type": "stream",
     "text": [
      " ps"
     ]
    },
    {
     "name": "stdout",
     "output_type": "stream",
     "text": [
      " equil"
     ]
    },
    {
     "name": "stdout",
     "output_type": "stream",
     "text": [
      "ibration"
     ]
    },
    {
     "name": "stdout",
     "output_type": "stream",
     "text": [
      "\n",
      "\n"
     ]
    },
    {
     "name": "stdout",
     "output_type": "stream",
     "text": [
      "#"
     ]
    },
    {
     "name": "stdout",
     "output_type": "stream",
     "text": [
      " Run"
     ]
    },
    {
     "name": "stdout",
     "output_type": "stream",
     "text": [
      " the"
     ]
    },
    {
     "name": "stdout",
     "output_type": "stream",
     "text": [
      " simulation"
     ]
    },
    {
     "name": "stdout",
     "output_type": "stream",
     "text": [
      " for"
     ]
    },
    {
     "name": "stdout",
     "output_type": "stream",
     "text": [
      " "
     ]
    },
    {
     "name": "stdout",
     "output_type": "stream",
     "text": [
      "1"
     ]
    },
    {
     "name": "stdout",
     "output_type": "stream",
     "text": [
      " ns"
     ]
    },
    {
     "name": "stdout",
     "output_type": "stream",
     "text": [
      "\n"
     ]
    },
    {
     "name": "stdout",
     "output_type": "stream",
     "text": [
      "simulation"
     ]
    },
    {
     "name": "stdout",
     "output_type": "stream",
     "text": [
      ".report"
     ]
    },
    {
     "name": "stdout",
     "output_type": "stream",
     "text": [
      "ers"
     ]
    },
    {
     "name": "stdout",
     "output_type": "stream",
     "text": [
      ".append"
     ]
    },
    {
     "name": "stdout",
     "output_type": "stream",
     "text": [
      "(D"
     ]
    },
    {
     "name": "stdout",
     "output_type": "stream",
     "text": [
      "CD"
     ]
    },
    {
     "name": "stdout",
     "output_type": "stream",
     "text": [
      "Reporter"
     ]
    },
    {
     "name": "stdout",
     "output_type": "stream",
     "text": [
      "(f"
     ]
    },
    {
     "name": "stdout",
     "output_type": "stream",
     "text": [
      "'{"
     ]
    },
    {
     "name": "stdout",
     "output_type": "stream",
     "text": [
      "p"
     ]
    },
    {
     "name": "stdout",
     "output_type": "stream",
     "text": [
      "db"
     ]
    },
    {
     "name": "stdout",
     "output_type": "stream",
     "text": [
      "_id"
     ]
    },
    {
     "name": "stdout",
     "output_type": "stream",
     "text": [
      "}_"
     ]
    },
    {
     "name": "stdout",
     "output_type": "stream",
     "text": [
      "trajectory"
     ]
    },
    {
     "name": "stdout",
     "output_type": "stream",
     "text": [
      ".d"
     ]
    },
    {
     "name": "stdout",
     "output_type": "stream",
     "text": [
      "cd"
     ]
    },
    {
     "name": "stdout",
     "output_type": "stream",
     "text": [
      "',"
     ]
    },
    {
     "name": "stdout",
     "output_type": "stream",
     "text": [
      " "
     ]
    },
    {
     "name": "stdout",
     "output_type": "stream",
     "text": [
      "100"
     ]
    },
    {
     "name": "stdout",
     "output_type": "stream",
     "text": [
      "0"
     ]
    },
    {
     "name": "stdout",
     "output_type": "stream",
     "text": [
      "))\n"
     ]
    },
    {
     "name": "stdout",
     "output_type": "stream",
     "text": [
      "simulation"
     ]
    },
    {
     "name": "stdout",
     "output_type": "stream",
     "text": [
      ".report"
     ]
    },
    {
     "name": "stdout",
     "output_type": "stream",
     "text": [
      "ers"
     ]
    },
    {
     "name": "stdout",
     "output_type": "stream",
     "text": [
      ".append"
     ]
    },
    {
     "name": "stdout",
     "output_type": "stream",
     "text": [
      "(State"
     ]
    },
    {
     "name": "stdout",
     "output_type": "stream",
     "text": [
      "Data"
     ]
    },
    {
     "name": "stdout",
     "output_type": "stream",
     "text": [
      "Reporter"
     ]
    },
    {
     "name": "stdout",
     "output_type": "stream",
     "text": [
      "(stdout"
     ]
    },
    {
     "name": "stdout",
     "output_type": "stream",
     "text": [
      ","
     ]
    },
    {
     "name": "stdout",
     "output_type": "stream",
     "text": [
      " "
     ]
    },
    {
     "name": "stdout",
     "output_type": "stream",
     "text": [
      "100"
     ]
    },
    {
     "name": "stdout",
     "output_type": "stream",
     "text": [
      "0"
     ]
    },
    {
     "name": "stdout",
     "output_type": "stream",
     "text": [
      ","
     ]
    },
    {
     "name": "stdout",
     "output_type": "stream",
     "text": [
      " step"
     ]
    },
    {
     "name": "stdout",
     "output_type": "stream",
     "text": [
      "=True"
     ]
    },
    {
     "name": "stdout",
     "output_type": "stream",
     "text": [
      ","
     ]
    },
    {
     "name": "stdout",
     "output_type": "stream",
     "text": [
      " potential"
     ]
    },
    {
     "name": "stdout",
     "output_type": "stream",
     "text": [
      "Energy"
     ]
    },
    {
     "name": "stdout",
     "output_type": "stream",
     "text": [
      "=True"
     ]
    },
    {
     "name": "stdout",
     "output_type": "stream",
     "text": [
      ","
     ]
    },
    {
     "name": "stdout",
     "output_type": "stream",
     "text": [
      " temperature"
     ]
    },
    {
     "name": "stdout",
     "output_type": "stream",
     "text": [
      "=True"
     ]
    },
    {
     "name": "stdout",
     "output_type": "stream",
     "text": [
      "))\n"
     ]
    },
    {
     "name": "stdout",
     "output_type": "stream",
     "text": [
      "simulation"
     ]
    },
    {
     "name": "stdout",
     "output_type": "stream",
     "text": [
      ".step"
     ]
    },
    {
     "name": "stdout",
     "output_type": "stream",
     "text": [
      "("
     ]
    },
    {
     "name": "stdout",
     "output_type": "stream",
     "text": [
      "500"
     ]
    },
    {
     "name": "stdout",
     "output_type": "stream",
     "text": [
      "000"
     ]
    },
    {
     "name": "stdout",
     "output_type": "stream",
     "text": [
      ")"
     ]
    },
    {
     "name": "stdout",
     "output_type": "stream",
     "text": [
      " "
     ]
    },
    {
     "name": "stdout",
     "output_type": "stream",
     "text": [
      " #"
     ]
    },
    {
     "name": "stdout",
     "output_type": "stream",
     "text": [
      " "
     ]
    },
    {
     "name": "stdout",
     "output_type": "stream",
     "text": [
      "1"
     ]
    },
    {
     "name": "stdout",
     "output_type": "stream",
     "text": [
      " ns"
     ]
    },
    {
     "name": "stdout",
     "output_type": "stream",
     "text": [
      " simulation"
     ]
    },
    {
     "name": "stdout",
     "output_type": "stream",
     "text": [
      "\n",
      "\n"
     ]
    },
    {
     "name": "stdout",
     "output_type": "stream",
     "text": [
      "#"
     ]
    },
    {
     "name": "stdout",
     "output_type": "stream",
     "text": [
      " Step"
     ]
    },
    {
     "name": "stdout",
     "output_type": "stream",
     "text": [
      " "
     ]
    },
    {
     "name": "stdout",
     "output_type": "stream",
     "text": [
      "4"
     ]
    },
    {
     "name": "stdout",
     "output_type": "stream",
     "text": [
      ":"
     ]
    },
    {
     "name": "stdout",
     "output_type": "stream",
     "text": [
      " Analyze"
     ]
    },
    {
     "name": "stdout",
     "output_type": "stream",
     "text": [
      " the"
     ]
    },
    {
     "name": "stdout",
     "output_type": "stream",
     "text": [
      " secondary"
     ]
    },
    {
     "name": "stdout",
     "output_type": "stream",
     "text": [
      " structure"
     ]
    },
    {
     "name": "stdout",
     "output_type": "stream",
     "text": [
      " using"
     ]
    },
    {
     "name": "stdout",
     "output_type": "stream",
     "text": [
      " MDT"
     ]
    },
    {
     "name": "stdout",
     "output_type": "stream",
     "text": [
      "raj"
     ]
    },
    {
     "name": "stdout",
     "output_type": "stream",
     "text": [
      "\n"
     ]
    },
    {
     "name": "stdout",
     "output_type": "stream",
     "text": [
      "#"
     ]
    },
    {
     "name": "stdout",
     "output_type": "stream",
     "text": [
      " Load"
     ]
    },
    {
     "name": "stdout",
     "output_type": "stream",
     "text": [
      " the"
     ]
    },
    {
     "name": "stdout",
     "output_type": "stream",
     "text": [
      " trajectory"
     ]
    },
    {
     "name": "stdout",
     "output_type": "stream",
     "text": [
      "\n"
     ]
    },
    {
     "name": "stdout",
     "output_type": "stream",
     "text": [
      "traj"
     ]
    },
    {
     "name": "stdout",
     "output_type": "stream",
     "text": [
      " ="
     ]
    },
    {
     "name": "stdout",
     "output_type": "stream",
     "text": [
      " md"
     ]
    },
    {
     "name": "stdout",
     "output_type": "stream",
     "text": [
      ".load"
     ]
    },
    {
     "name": "stdout",
     "output_type": "stream",
     "text": [
      "_d"
     ]
    },
    {
     "name": "stdout",
     "output_type": "stream",
     "text": [
      "cd"
     ]
    },
    {
     "name": "stdout",
     "output_type": "stream",
     "text": [
      "(f"
     ]
    },
    {
     "name": "stdout",
     "output_type": "stream",
     "text": [
      "'{"
     ]
    },
    {
     "name": "stdout",
     "output_type": "stream",
     "text": [
      "p"
     ]
    },
    {
     "name": "stdout",
     "output_type": "stream",
     "text": [
      "db"
     ]
    },
    {
     "name": "stdout",
     "output_type": "stream",
     "text": [
      "_id"
     ]
    },
    {
     "name": "stdout",
     "output_type": "stream",
     "text": [
      "}_"
     ]
    },
    {
     "name": "stdout",
     "output_type": "stream",
     "text": [
      "trajectory"
     ]
    },
    {
     "name": "stdout",
     "output_type": "stream",
     "text": [
      ".d"
     ]
    },
    {
     "name": "stdout",
     "output_type": "stream",
     "text": [
      "cd"
     ]
    },
    {
     "name": "stdout",
     "output_type": "stream",
     "text": [
      "',"
     ]
    },
    {
     "name": "stdout",
     "output_type": "stream",
     "text": [
      " top"
     ]
    },
    {
     "name": "stdout",
     "output_type": "stream",
     "text": [
      "="
     ]
    },
    {
     "name": "stdout",
     "output_type": "stream",
     "text": [
      "md"
     ]
    },
    {
     "name": "stdout",
     "output_type": "stream",
     "text": [
      ".Top"
     ]
    },
    {
     "name": "stdout",
     "output_type": "stream",
     "text": [
      "ology"
     ]
    },
    {
     "name": "stdout",
     "output_type": "stream",
     "text": [
      ".from"
     ]
    },
    {
     "name": "stdout",
     "output_type": "stream",
     "text": [
      "_open"
     ]
    },
    {
     "name": "stdout",
     "output_type": "stream",
     "text": [
      "mm"
     ]
    },
    {
     "name": "stdout",
     "output_type": "stream",
     "text": [
      "(f"
     ]
    },
    {
     "name": "stdout",
     "output_type": "stream",
     "text": [
      "ixer"
     ]
    },
    {
     "name": "stdout",
     "output_type": "stream",
     "text": [
      ".top"
     ]
    },
    {
     "name": "stdout",
     "output_type": "stream",
     "text": [
      "ology"
     ]
    },
    {
     "name": "stdout",
     "output_type": "stream",
     "text": [
      "))\n",
      "\n"
     ]
    },
    {
     "name": "stdout",
     "output_type": "stream",
     "text": [
      "#"
     ]
    },
    {
     "name": "stdout",
     "output_type": "stream",
     "text": [
      " Analyze"
     ]
    },
    {
     "name": "stdout",
     "output_type": "stream",
     "text": [
      " secondary"
     ]
    },
    {
     "name": "stdout",
     "output_type": "stream",
     "text": [
      " structure"
     ]
    },
    {
     "name": "stdout",
     "output_type": "stream",
     "text": [
      "\n"
     ]
    },
    {
     "name": "stdout",
     "output_type": "stream",
     "text": [
      "initial"
     ]
    },
    {
     "name": "stdout",
     "output_type": "stream",
     "text": [
      "_structure"
     ]
    },
    {
     "name": "stdout",
     "output_type": "stream",
     "text": [
      " ="
     ]
    },
    {
     "name": "stdout",
     "output_type": "stream",
     "text": [
      " md"
     ]
    },
    {
     "name": "stdout",
     "output_type": "stream",
     "text": [
      ".compute"
     ]
    },
    {
     "name": "stdout",
     "output_type": "stream",
     "text": [
      "_d"
     ]
    },
    {
     "name": "stdout",
     "output_type": "stream",
     "text": [
      "ssp"
     ]
    },
    {
     "name": "stdout",
     "output_type": "stream",
     "text": [
      "(tr"
     ]
    },
    {
     "name": "stdout",
     "output_type": "stream",
     "text": [
      "aj"
     ]
    },
    {
     "name": "stdout",
     "output_type": "stream",
     "text": [
      "["
     ]
    },
    {
     "name": "stdout",
     "output_type": "stream",
     "text": [
      "0"
     ]
    },
    {
     "name": "stdout",
     "output_type": "stream",
     "text": [
      "])\n"
     ]
    },
    {
     "name": "stdout",
     "output_type": "stream",
     "text": [
      "final"
     ]
    },
    {
     "name": "stdout",
     "output_type": "stream",
     "text": [
      "_structure"
     ]
    },
    {
     "name": "stdout",
     "output_type": "stream",
     "text": [
      " ="
     ]
    },
    {
     "name": "stdout",
     "output_type": "stream",
     "text": [
      " md"
     ]
    },
    {
     "name": "stdout",
     "output_type": "stream",
     "text": [
      ".compute"
     ]
    },
    {
     "name": "stdout",
     "output_type": "stream",
     "text": [
      "_d"
     ]
    },
    {
     "name": "stdout",
     "output_type": "stream",
     "text": [
      "ssp"
     ]
    },
    {
     "name": "stdout",
     "output_type": "stream",
     "text": [
      "(tr"
     ]
    },
    {
     "name": "stdout",
     "output_type": "stream",
     "text": [
      "aj"
     ]
    },
    {
     "name": "stdout",
     "output_type": "stream",
     "text": [
      "[-"
     ]
    },
    {
     "name": "stdout",
     "output_type": "stream",
     "text": [
      "1"
     ]
    },
    {
     "name": "stdout",
     "output_type": "stream",
     "text": [
      "])\n",
      "\n"
     ]
    },
    {
     "name": "stdout",
     "output_type": "stream",
     "text": [
      "#"
     ]
    },
    {
     "name": "stdout",
     "output_type": "stream",
     "text": [
      " Compare"
     ]
    },
    {
     "name": "stdout",
     "output_type": "stream",
     "text": [
      " initial"
     ]
    },
    {
     "name": "stdout",
     "output_type": "stream",
     "text": [
      " and"
     ]
    },
    {
     "name": "stdout",
     "output_type": "stream",
     "text": [
      " final"
     ]
    },
    {
     "name": "stdout",
     "output_type": "stream",
     "text": [
      " secondary"
     ]
    },
    {
     "name": "stdout",
     "output_type": "stream",
     "text": [
      " structures"
     ]
    },
    {
     "name": "stdout",
     "output_type": "stream",
     "text": [
      "\n"
     ]
    },
    {
     "name": "stdout",
     "output_type": "stream",
     "text": [
      "initial"
     ]
    },
    {
     "name": "stdout",
     "output_type": "stream",
     "text": [
      "_counts"
     ]
    },
    {
     "name": "stdout",
     "output_type": "stream",
     "text": [
      " ="
     ]
    },
    {
     "name": "stdout",
     "output_type": "stream",
     "text": [
      " {"
     ]
    },
    {
     "name": "stdout",
     "output_type": "stream",
     "text": [
      "k"
     ]
    },
    {
     "name": "stdout",
     "output_type": "stream",
     "text": [
      ":"
     ]
    },
    {
     "name": "stdout",
     "output_type": "stream",
     "text": [
      " initial"
     ]
    },
    {
     "name": "stdout",
     "output_type": "stream",
     "text": [
      "_structure"
     ]
    },
    {
     "name": "stdout",
     "output_type": "stream",
     "text": [
      ".count"
     ]
    },
    {
     "name": "stdout",
     "output_type": "stream",
     "text": [
      "(k"
     ]
    },
    {
     "name": "stdout",
     "output_type": "stream",
     "text": [
      ")"
     ]
    },
    {
     "name": "stdout",
     "output_type": "stream",
     "text": [
      " for"
     ]
    },
    {
     "name": "stdout",
     "output_type": "stream",
     "text": [
      " k"
     ]
    },
    {
     "name": "stdout",
     "output_type": "stream",
     "text": [
      " in"
     ]
    },
    {
     "name": "stdout",
     "output_type": "stream",
     "text": [
      " set"
     ]
    },
    {
     "name": "stdout",
     "output_type": "stream",
     "text": [
      "(initial"
     ]
    },
    {
     "name": "stdout",
     "output_type": "stream",
     "text": [
      "_structure"
     ]
    },
    {
     "name": "stdout",
     "output_type": "stream",
     "text": [
      ")}\n"
     ]
    },
    {
     "name": "stdout",
     "output_type": "stream",
     "text": [
      "final"
     ]
    },
    {
     "name": "stdout",
     "output_type": "stream",
     "text": [
      "_counts"
     ]
    },
    {
     "name": "stdout",
     "output_type": "stream",
     "text": [
      " ="
     ]
    },
    {
     "name": "stdout",
     "output_type": "stream",
     "text": [
      " {"
     ]
    },
    {
     "name": "stdout",
     "output_type": "stream",
     "text": [
      "k"
     ]
    },
    {
     "name": "stdout",
     "output_type": "stream",
     "text": [
      ":"
     ]
    },
    {
     "name": "stdout",
     "output_type": "stream",
     "text": [
      " final"
     ]
    },
    {
     "name": "stdout",
     "output_type": "stream",
     "text": [
      "_structure"
     ]
    },
    {
     "name": "stdout",
     "output_type": "stream",
     "text": [
      ".count"
     ]
    },
    {
     "name": "stdout",
     "output_type": "stream",
     "text": [
      "(k"
     ]
    },
    {
     "name": "stdout",
     "output_type": "stream",
     "text": [
      ")"
     ]
    },
    {
     "name": "stdout",
     "output_type": "stream",
     "text": [
      " for"
     ]
    },
    {
     "name": "stdout",
     "output_type": "stream",
     "text": [
      " k"
     ]
    },
    {
     "name": "stdout",
     "output_type": "stream",
     "text": [
      " in"
     ]
    },
    {
     "name": "stdout",
     "output_type": "stream",
     "text": [
      " set"
     ]
    },
    {
     "name": "stdout",
     "output_type": "stream",
     "text": [
      "(final"
     ]
    },
    {
     "name": "stdout",
     "output_type": "stream",
     "text": [
      "_structure"
     ]
    },
    {
     "name": "stdout",
     "output_type": "stream",
     "text": [
      ")}\n",
      "\n"
     ]
    },
    {
     "name": "stdout",
     "output_type": "stream",
     "text": [
      "print"
     ]
    },
    {
     "name": "stdout",
     "output_type": "stream",
     "text": [
      "(\""
     ]
    },
    {
     "name": "stdout",
     "output_type": "stream",
     "text": [
      "Initial"
     ]
    },
    {
     "name": "stdout",
     "output_type": "stream",
     "text": [
      " Secondary"
     ]
    },
    {
     "name": "stdout",
     "output_type": "stream",
     "text": [
      " Structure"
     ]
    },
    {
     "name": "stdout",
     "output_type": "stream",
     "text": [
      " Counts"
     ]
    },
    {
     "name": "stdout",
     "output_type": "stream",
     "text": [
      ":\","
     ]
    },
    {
     "name": "stdout",
     "output_type": "stream",
     "text": [
      " initial"
     ]
    },
    {
     "name": "stdout",
     "output_type": "stream",
     "text": [
      "_counts"
     ]
    },
    {
     "name": "stdout",
     "output_type": "stream",
     "text": [
      ")\n"
     ]
    },
    {
     "name": "stdout",
     "output_type": "stream",
     "text": [
      "print"
     ]
    },
    {
     "name": "stdout",
     "output_type": "stream",
     "text": [
      "(\""
     ]
    },
    {
     "name": "stdout",
     "output_type": "stream",
     "text": [
      "Final"
     ]
    },
    {
     "name": "stdout",
     "output_type": "stream",
     "text": [
      " Secondary"
     ]
    },
    {
     "name": "stdout",
     "output_type": "stream",
     "text": [
      " Structure"
     ]
    },
    {
     "name": "stdout",
     "output_type": "stream",
     "text": [
      " Counts"
     ]
    },
    {
     "name": "stdout",
     "output_type": "stream",
     "text": [
      ":\","
     ]
    },
    {
     "name": "stdout",
     "output_type": "stream",
     "text": [
      " final"
     ]
    },
    {
     "name": "stdout",
     "output_type": "stream",
     "text": [
      "_counts"
     ]
    },
    {
     "name": "stdout",
     "output_type": "stream",
     "text": [
      ")\n",
      "\n"
     ]
    },
    {
     "name": "stdout",
     "output_type": "stream",
     "text": [
      "#"
     ]
    },
    {
     "name": "stdout",
     "output_type": "stream",
     "text": [
      " Determine"
     ]
    },
    {
     "name": "stdout",
     "output_type": "stream",
     "text": [
      " if"
     ]
    },
    {
     "name": "stdout",
     "output_type": "stream",
     "text": [
      " there"
     ]
    },
    {
     "name": "stdout",
     "output_type": "stream",
     "text": [
      " was"
     ]
    },
    {
     "name": "stdout",
     "output_type": "stream",
     "text": [
      " a"
     ]
    },
    {
     "name": "stdout",
     "output_type": "stream",
     "text": [
      " change"
     ]
    },
    {
     "name": "stdout",
     "output_type": "stream",
     "text": [
      "\n"
     ]
    },
    {
     "name": "stdout",
     "output_type": "stream",
     "text": [
      "if"
     ]
    },
    {
     "name": "stdout",
     "output_type": "stream",
     "text": [
      " initial"
     ]
    },
    {
     "name": "stdout",
     "output_type": "stream",
     "text": [
      "_counts"
     ]
    },
    {
     "name": "stdout",
     "output_type": "stream",
     "text": [
      " !="
     ]
    },
    {
     "name": "stdout",
     "output_type": "stream",
     "text": [
      " final"
     ]
    },
    {
     "name": "stdout",
     "output_type": "stream",
     "text": [
      "_counts"
     ]
    },
    {
     "name": "stdout",
     "output_type": "stream",
     "text": [
      ":\n"
     ]
    },
    {
     "name": "stdout",
     "output_type": "stream",
     "text": [
      "   "
     ]
    },
    {
     "name": "stdout",
     "output_type": "stream",
     "text": [
      " print"
     ]
    },
    {
     "name": "stdout",
     "output_type": "stream",
     "text": [
      "(\""
     ]
    },
    {
     "name": "stdout",
     "output_type": "stream",
     "text": [
      "The"
     ]
    },
    {
     "name": "stdout",
     "output_type": "stream",
     "text": [
      " secondary"
     ]
    },
    {
     "name": "stdout",
     "output_type": "stream",
     "text": [
      " structure"
     ]
    },
    {
     "name": "stdout",
     "output_type": "stream",
     "text": [
      " changed"
     ]
    },
    {
     "name": "stdout",
     "output_type": "stream",
     "text": [
      " during"
     ]
    },
    {
     "name": "stdout",
     "output_type": "stream",
     "text": [
      " the"
     ]
    },
    {
     "name": "stdout",
     "output_type": "stream",
     "text": [
      " simulation"
     ]
    },
    {
     "name": "stdout",
     "output_type": "stream",
     "text": [
      ".\")\n"
     ]
    },
    {
     "name": "stdout",
     "output_type": "stream",
     "text": [
      "else"
     ]
    },
    {
     "name": "stdout",
     "output_type": "stream",
     "text": [
      ":\n"
     ]
    },
    {
     "name": "stdout",
     "output_type": "stream",
     "text": [
      "   "
     ]
    },
    {
     "name": "stdout",
     "output_type": "stream",
     "text": [
      " print"
     ]
    },
    {
     "name": "stdout",
     "output_type": "stream",
     "text": [
      "(\""
     ]
    },
    {
     "name": "stdout",
     "output_type": "stream",
     "text": [
      "The"
     ]
    },
    {
     "name": "stdout",
     "output_type": "stream",
     "text": [
      " secondary"
     ]
    },
    {
     "name": "stdout",
     "output_type": "stream",
     "text": [
      " structure"
     ]
    },
    {
     "name": "stdout",
     "output_type": "stream",
     "text": [
      " did"
     ]
    },
    {
     "name": "stdout",
     "output_type": "stream",
     "text": [
      " not"
     ]
    },
    {
     "name": "stdout",
     "output_type": "stream",
     "text": [
      " change"
     ]
    },
    {
     "name": "stdout",
     "output_type": "stream",
     "text": [
      " during"
     ]
    },
    {
     "name": "stdout",
     "output_type": "stream",
     "text": [
      " the"
     ]
    },
    {
     "name": "stdout",
     "output_type": "stream",
     "text": [
      " simulation"
     ]
    },
    {
     "name": "stdout",
     "output_type": "stream",
     "text": [
      ".\")\n"
     ]
    },
    {
     "name": "stdout",
     "output_type": "stream",
     "text": [
      "``"
     ]
    },
    {
     "name": "stdout",
     "output_type": "stream",
     "text": [
      "`\n",
      "\n"
     ]
    },
    {
     "name": "stdout",
     "output_type": "stream",
     "text": [
      "This"
     ]
    },
    {
     "name": "stdout",
     "output_type": "stream",
     "text": [
      " script"
     ]
    },
    {
     "name": "stdout",
     "output_type": "stream",
     "text": [
      " will"
     ]
    },
    {
     "name": "stdout",
     "output_type": "stream",
     "text": [
      " download"
     ]
    },
    {
     "name": "stdout",
     "output_type": "stream",
     "text": [
      " the"
     ]
    },
    {
     "name": "stdout",
     "output_type": "stream",
     "text": [
      " P"
     ]
    },
    {
     "name": "stdout",
     "output_type": "stream",
     "text": [
      "DB"
     ]
    },
    {
     "name": "stdout",
     "output_type": "stream",
     "text": [
      " file"
     ]
    },
    {
     "name": "stdout",
     "output_type": "stream",
     "text": [
      " for"
     ]
    },
    {
     "name": "stdout",
     "output_type": "stream",
     "text": [
      " "
     ]
    },
    {
     "name": "stdout",
     "output_type": "stream",
     "text": [
      "1"
     ]
    },
    {
     "name": "stdout",
     "output_type": "stream",
     "text": [
      "X"
     ]
    },
    {
     "name": "stdout",
     "output_type": "stream",
     "text": [
      "Q"
     ]
    },
    {
     "name": "stdout",
     "output_type": "stream",
     "text": [
      "8"
     ]
    },
    {
     "name": "stdout",
     "output_type": "stream",
     "text": [
      ","
     ]
    },
    {
     "name": "stdout",
     "output_type": "stream",
     "text": [
      " preprocess"
     ]
    },
    {
     "name": "stdout",
     "output_type": "stream",
     "text": [
      " it"
     ]
    },
    {
     "name": "stdout",
     "output_type": "stream",
     "text": [
      ","
     ]
    },
    {
     "name": "stdout",
     "output_type": "stream",
     "text": [
      " run"
     ]
    },
    {
     "name": "stdout",
     "output_type": "stream",
     "text": [
      " a"
     ]
    },
    {
     "name": "stdout",
     "output_type": "stream",
     "text": [
      " "
     ]
    },
    {
     "name": "stdout",
     "output_type": "stream",
     "text": [
      "1"
     ]
    },
    {
     "name": "stdout",
     "output_type": "stream",
     "text": [
      " ns"
     ]
    },
    {
     "name": "stdout",
     "output_type": "stream",
     "text": [
      " simulation"
     ]
    },
    {
     "name": "stdout",
     "output_type": "stream",
     "text": [
      " at"
     ]
    },
    {
     "name": "stdout",
     "output_type": "stream",
     "text": [
      " "
     ]
    },
    {
     "name": "stdout",
     "output_type": "stream",
     "text": [
      "300"
     ]
    },
    {
     "name": "stdout",
     "output_type": "stream",
     "text": [
      " K"
     ]
    },
    {
     "name": "stdout",
     "output_type": "stream",
     "text": [
      ","
     ]
    },
    {
     "name": "stdout",
     "output_type": "stream",
     "text": [
      " and"
     ]
    },
    {
     "name": "stdout",
     "output_type": "stream",
     "text": [
      " analyze"
     ]
    },
    {
     "name": "stdout",
     "output_type": "stream",
     "text": [
      " the"
     ]
    },
    {
     "name": "stdout",
     "output_type": "stream",
     "text": [
      " secondary"
     ]
    },
    {
     "name": "stdout",
     "output_type": "stream",
     "text": [
      " structure"
     ]
    },
    {
     "name": "stdout",
     "output_type": "stream",
     "text": [
      " at"
     ]
    },
    {
     "name": "stdout",
     "output_type": "stream",
     "text": [
      " the"
     ]
    },
    {
     "name": "stdout",
     "output_type": "stream",
     "text": [
      " beginning"
     ]
    },
    {
     "name": "stdout",
     "output_type": "stream",
     "text": [
      " and"
     ]
    },
    {
     "name": "stdout",
     "output_type": "stream",
     "text": [
      " end"
     ]
    },
    {
     "name": "stdout",
     "output_type": "stream",
     "text": [
      " of"
     ]
    },
    {
     "name": "stdout",
     "output_type": "stream",
     "text": [
      " the"
     ]
    },
    {
     "name": "stdout",
     "output_type": "stream",
     "text": [
      " simulation"
     ]
    },
    {
     "name": "stdout",
     "output_type": "stream",
     "text": [
      "."
     ]
    },
    {
     "name": "stdout",
     "output_type": "stream",
     "text": [
      " The"
     ]
    },
    {
     "name": "stdout",
     "output_type": "stream",
     "text": [
      " results"
     ]
    },
    {
     "name": "stdout",
     "output_type": "stream",
     "text": [
      " will"
     ]
    },
    {
     "name": "stdout",
     "output_type": "stream",
     "text": [
      " indicate"
     ]
    },
    {
     "name": "stdout",
     "output_type": "stream",
     "text": [
      " whether"
     ]
    },
    {
     "name": "stdout",
     "output_type": "stream",
     "text": [
      " the"
     ]
    },
    {
     "name": "stdout",
     "output_type": "stream",
     "text": [
      " secondary"
     ]
    },
    {
     "name": "stdout",
     "output_type": "stream",
     "text": [
      " structure"
     ]
    },
    {
     "name": "stdout",
     "output_type": "stream",
     "text": [
      " changed"
     ]
    },
    {
     "name": "stdout",
     "output_type": "stream",
     "text": [
      " during"
     ]
    },
    {
     "name": "stdout",
     "output_type": "stream",
     "text": [
      " the"
     ]
    },
    {
     "name": "stdout",
     "output_type": "stream",
     "text": [
      " simulation"
     ]
    },
    {
     "name": "stdout",
     "output_type": "stream",
     "text": [
      "."
     ]
    },
    {
     "name": "stdout",
     "output_type": "stream",
     "text": [
      "To simulate the protein structure 1XQ8 for 1 ns at 300 K and analyze the secondary structure changes, we will follow these steps:\n",
      "\n",
      "1. Download the PDB file for 1XQ8.\n",
      "2. Preprocess the PDB file using PDBFixer to ensure it is ready for simulation.\n",
      "3. Set up and run a molecular dynamics simulation using OpenMM.\n",
      "4. Analyze the secondary structure at the beginning and end of the simulation using MDTraj.\n",
      "\n",
      "Let's start by writing the Python script to perform these tasks:\n",
      "\n",
      "```python\n",
      "import requests\n",
      "from pdbfixer import PDBFixer\n",
      "from openmm.app import *\n",
      "from openmm import *\n",
      "from openmm.unit import *\n",
      "import mdtraj as md\n",
      "\n",
      "# Step 1: Download the PDB file for 1XQ8\n",
      "pdb_id = \"1XQ8\"\n",
      "url = f\"https://files.rcsb.org/download/{pdb_id}.pdb\"\n",
      "response = requests.get(url)\n",
      "with open(f\"{pdb_id}.pdb\", \"wb\") as file:\n",
      "    file.write(response.content)\n",
      "\n",
      "# Step 2: Preprocess the PDB file using PDBFixer\n",
      "fixer = PDBFixer(filename=f\"{pdb_id}.pdb\")\n",
      "fixer.findMissingResidues()\n",
      "fixer.findMissingAtoms()\n",
      "fixer.addMissingAtoms()\n",
      "fixer.addMissingHydrogens()\n",
      "\n",
      "# Use the AMBER force field\n",
      "forcefield = ForceField('amber14-all.xml', 'amber14/tip3p.xml')\n",
      "\n",
      "# Create the system\n",
      "system = forcefield.createSystem(fixer.topology, nonbondedMethod=PME, nonbondedCutoff=1*nanometer, constraints=HBonds)\n",
      "\n",
      "# Step 3: Set up and run a molecular dynamics simulation using OpenMM\n",
      "integrator = LangevinIntegrator(300*kelvin, 1/picosecond, 0.002*picoseconds)\n",
      "simulation = Simulation(fixer.topology, system, integrator)\n",
      "simulation.context.setPositions(fixer.positions)\n",
      "\n",
      "# Minimize energy\n",
      "simulation.minimizeEnergy()\n",
      "\n",
      "# Equilibrate\n",
      "simulation.context.setVelocitiesToTemperature(300*kelvin)\n",
      "simulation.step(10000)  # 20 ps equilibration\n",
      "\n",
      "# Run the simulation for 1 ns\n",
      "simulation.reporters.append(DCDReporter(f'{pdb_id}_trajectory.dcd', 1000))\n",
      "simulation.reporters.append(StateDataReporter(stdout, 1000, step=True, potentialEnergy=True, temperature=True))\n",
      "simulation.step(500000)  # 1 ns simulation\n",
      "\n",
      "# Step 4: Analyze the secondary structure using MDTraj\n",
      "# Load the trajectory\n",
      "traj = md.load_dcd(f'{pdb_id}_trajectory.dcd', top=md.Topology.from_openmm(fixer.topology))\n",
      "\n",
      "# Analyze secondary structure\n",
      "initial_structure = md.compute_dssp(traj[0])\n",
      "final_structure = md.compute_dssp(traj[-1])\n",
      "\n",
      "# Compare initial and final secondary structures\n",
      "initial_counts = {k: initial_structure.count(k) for k in set(initial_structure)}\n",
      "final_counts = {k: final_structure.count(k) for k in set(final_structure)}\n",
      "\n",
      "print(\"Initial Secondary Structure Counts:\", initial_counts)\n",
      "print(\"Final Secondary Structure Counts:\", final_counts)\n",
      "\n",
      "# Determine if there was a change\n",
      "if initial_counts != final_counts:\n",
      "    print(\"The secondary structure changed during the simulation.\")\n",
      "else:\n",
      "    print(\"The secondary structure did not change during the simulation.\")\n",
      "```\n",
      "\n",
      "This script will download the PDB file for 1XQ8, preprocess it, run a 1 ns simulation at 300 K, and analyze the secondary structure at the beginning and end of the simulation. The results will indicate whether the secondary structure changed during the simulation.\n"
     ]
    }
   ],
   "source": [
    "ai_msg = llm.invoke(messages)\n",
    "print(ai_msg.content)"
   ]
  },
  {
   "cell_type": "code",
   "execution_count": 6,
   "id": "ff0fb577-e1f4-4c3d-bd06-89badfca9f64",
   "metadata": {
    "papermill": {
     "duration": 0.070618,
     "end_time": "2024-10-17T00:42:22.855155",
     "exception": false,
     "start_time": "2024-10-17T00:42:22.784537",
     "status": "completed"
    },
    "tags": []
   },
   "outputs": [
    {
     "name": "stdout",
     "output_type": "stream",
     "text": [
      "date: 2024-10-21\n",
      "time: 13:33:47\n"
     ]
    }
   ],
   "source": [
    "now = datetime.datetime.now()\n",
    "date = now.strftime(\"%Y-%m-%d\")\n",
    "print(\"date:\",date)\n",
    "time = now.strftime(\"%H:%M:%S\")\n",
    "print(\"time:\",time)"
   ]
  },
  {
   "cell_type": "code",
   "execution_count": null,
   "id": "f2853a94-bf47-490c-b540-b9236f97da74",
   "metadata": {},
   "outputs": [],
   "source": [
    "# TESTING THE CODE\n",
    "\n",
    "import requests\n",
    "from pdbfixer import PDBFixer\n",
    "from openmm.app import *\n",
    "from openmm import *\n",
    "from openmm.unit import *\n",
    "import mdtraj as md\n",
    "\n",
    "# Step 1: Download the PDB file for 1VII\n",
    "pdb_id = \"1VII\"\n",
    "pdb_url = f\"https://files.rcsb.org/download/{pdb_id}.pdb\"\n",
    "pdb_filename = f\"{pdb_id}.pdb\"\n",
    "\n",
    "response = requests.get(pdb_url)\n",
    "with open(pdb_filename, 'wb') as file:\n",
    "    file.write(response.content)\n",
    "\n",
    "# Step 2: Preprocess the PDB file using PDBFixer\n",
    "fixer = PDBFixer(filename=pdb_filename)\n",
    "fixer.findMissingResidues()\n",
    "fixer.findMissingAtoms()\n",
    "fixer.addMissingAtoms()\n",
    "fixer.addMissingHydrogens()\n",
    "\n",
    "# Use the AMBER force field\n",
    "forcefield = ForceField('amber14-all.xml', 'amber14/tip3p.xml')\n",
    "\n",
    "# Step 3: Set up the simulation\n",
    "modeller = Modeller(fixer.topology, fixer.positions)\n",
    "modeller.addSolvent(forcefield, model='tip3p', padding=1.0*nanometer)\n",
    "\n",
    "system = forcefield.createSystem(modeller.topology, nonbondedMethod=PME, \n",
    "                                 nonbondedCutoff=1.0*nanometer, constraints=HBonds)\n",
    "\n",
    "integrator = LangevinIntegrator(300*kelvin, 1/picosecond, 0.002*picoseconds)\n",
    "simulation = Simulation(modeller.topology, system, integrator)\n",
    "simulation.context.setPositions(modeller.positions)\n",
    "\n",
    "# Minimize energy\n",
    "simulation.minimizeEnergy()\n",
    "\n",
    "# Equilibrate\n",
    "simulation.context.setVelocitiesToTemperature(300*kelvin)\n",
    "simulation.step(10000)  # 20 ps equilibration\n",
    "\n",
    "# Step 4: Run the simulation for 1 ns\n",
    "simulation.reporters.append(DCDReporter('trajectory.dcd', 1000))\n",
    "simulation.reporters.append(StateDataReporter('output.log', 1000, step=True, \n",
    "                                              potentialEnergy=True, temperature=True))\n",
    "\n",
    "simulation.step(500000)  # 1 ns simulation\n",
    "\n",
    "# Step 5: Analyze the secondary structure\n",
    "traj = md.load('trajectory.dcd', top=md.Topology.from_openmm(modeller.topology))\n",
    "\n",
    "# Get secondary structure at the beginning and end\n",
    "initial_structure = md.compute_dssp(traj[0])\n",
    "final_structure = md.compute_dssp(traj[-1])\n",
    "\n",
    "# Compare secondary structures\n",
    "initial_counts = {ss: list(initial_structure[0]).count(ss) for ss in set(initial_structure[0])}\n",
    "final_counts = {ss: list(final_structure[0]).count(ss) for ss in set(final_structure[0])}\n",
    "\n",
    "print(\"Initial Secondary Structure Counts:\", initial_counts)\n",
    "print(\"Final Secondary Structure Counts:\", final_counts)\n",
    "\n",
    "# Check for changes\n",
    "changes = {ss: final_counts.get(ss, 0) - initial_counts.get(ss, 0) for ss in set(initial_counts) | set(final_counts)}\n",
    "print(\"Changes in Secondary Structure:\", changes)"
   ]
  }
 ],
 "metadata": {
  "kernelspec": {
   "display_name": "mdcrow",
   "language": "python",
   "name": "mdcrow"
  },
  "language_info": {
   "codemirror_mode": {
    "name": "ipython",
    "version": 3
   },
   "file_extension": ".py",
   "mimetype": "text/x-python",
   "name": "python",
   "nbconvert_exporter": "python",
   "pygments_lexer": "ipython3",
   "version": "3.12.4"
  },
  "papermill": {
   "default_parameters": {},
   "duration": 20.809572,
   "end_time": "2024-10-17T00:42:24.068506",
   "environment_variables": {},
   "exception": null,
   "input_path": "exp_template.ipynb",
   "output_path": "exp_5/exp_5.ipynb",
   "parameters": {
    "prompt": "Simulate 1XQ8 for 1 ns at a temperature of 300 K. Then, tell me if the secondary structure changed from the beginning of the simulation to the end of the simulation."
   },
   "start_time": "2024-10-17T00:42:03.258934",
   "version": "2.6.0"
  }
 },
 "nbformat": 4,
 "nbformat_minor": 5
}
