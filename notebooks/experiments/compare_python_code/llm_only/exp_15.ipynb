{
 "cells": [
  {
   "cell_type": "code",
   "execution_count": 1,
   "id": "728398b3-6a40-4157-a0ef-1b8f7a96fd58",
   "metadata": {
    "execution": {
     "iopub.execute_input": "2024-10-17T00:46:10.646021Z",
     "iopub.status.busy": "2024-10-17T00:46:10.645719Z",
     "iopub.status.idle": "2024-10-17T00:46:17.901452Z",
     "shell.execute_reply": "2024-10-17T00:46:17.900684Z"
    },
    "papermill": {
     "duration": 7.262402,
     "end_time": "2024-10-17T00:46:17.903780",
     "exception": false,
     "start_time": "2024-10-17T00:46:10.641378",
     "status": "completed"
    },
    "tags": []
   },
   "outputs": [],
   "source": [
    "import datetime\n",
    "from mdcrow.utils import _make_llm"
   ]
  },
  {
   "cell_type": "code",
   "execution_count": 2,
   "id": "1a8988df-6cb9-4903-86a6-edfcaa6461d1",
   "metadata": {
    "editable": true,
    "execution": {
     "iopub.execute_input": "2024-10-17T00:46:17.912084Z",
     "iopub.status.busy": "2024-10-17T00:46:17.911292Z",
     "iopub.status.idle": "2024-10-17T00:46:17.917183Z",
     "shell.execute_reply": "2024-10-17T00:46:17.916360Z"
    },
    "papermill": {
     "duration": 0.011107,
     "end_time": "2024-10-17T00:46:17.919201",
     "exception": false,
     "start_time": "2024-10-17T00:46:17.908094",
     "status": "completed"
    },
    "slideshow": {
     "slide_type": ""
    },
    "tags": [
     "parameters"
    ]
   },
   "outputs": [],
   "source": [
    "prompt = \"Write me a code to run simulation of fibronectin.\"\n",
    "model = \"gpt-4o-2024-08-06\""
   ]
  },
  {
   "cell_type": "code",
   "execution_count": 3,
   "id": "0ff7d495",
   "metadata": {
    "execution": {
     "iopub.execute_input": "2024-10-17T00:46:17.925096Z",
     "iopub.status.busy": "2024-10-17T00:46:17.924804Z",
     "iopub.status.idle": "2024-10-17T00:46:17.930351Z",
     "shell.execute_reply": "2024-10-17T00:46:17.929529Z"
    },
    "papermill": {
     "duration": 0.01096,
     "end_time": "2024-10-17T00:46:17.932376",
     "exception": false,
     "start_time": "2024-10-17T00:46:17.921416",
     "status": "completed"
    },
    "tags": [
     "injected-parameters"
    ]
   },
   "outputs": [],
   "source": [
    "# Parameters\n",
    "prompt = \"Simulate trypsin (1TRN) for 1 ns at 300 K and plot energy over time. Compute SASA, RMSF, and radius of gyration. Get the subunit structure, sequence, active and binding sites.\"\n"
   ]
  },
  {
   "cell_type": "code",
   "execution_count": 4,
   "id": "d1a8a7f8-b5d9-492f-9f23-70bd0177c7a1",
   "metadata": {
    "editable": true,
    "execution": {
     "iopub.execute_input": "2024-10-17T00:46:17.938354Z",
     "iopub.status.busy": "2024-10-17T00:46:17.938076Z",
     "iopub.status.idle": "2024-10-17T00:46:17.981374Z",
     "shell.execute_reply": "2024-10-17T00:46:17.980602Z"
    },
    "papermill": {
     "duration": 0.048787,
     "end_time": "2024-10-17T00:46:17.983424",
     "exception": false,
     "start_time": "2024-10-17T00:46:17.934637",
     "status": "completed"
    },
    "slideshow": {
     "slide_type": ""
    },
    "tags": []
   },
   "outputs": [
    {
     "name": "stdout",
     "output_type": "stream",
     "text": [
      "date: 2024-10-16\n",
      "time: 20:46:17\n",
      "LLM:  gpt-4o-2024-08-06 \n",
      "Temperature:  0.1\n"
     ]
    }
   ],
   "source": [
    "llm = _make_llm(model, temp=0.1, streaming=True)\n",
    "\n",
    "system_prompt = (\n",
    "    \"You are an expert molecular dynamics scientist, and your \"\n",
    "    \"task is to respond to the question or \"\n",
    "    \"solve the problem in its entirety to the best of your ability. \"\n",
    "    \"If any part of the task requires you to perform an action that \"\n",
    "    \"you are not capable of completing, please write a runnable \"\n",
    "    \"Python script for that step and move on. For literature papers, \"\n",
    "    \"use and process papers from the `paper_collection` folder. \"\n",
    "    \"For .pdb files, download them from the RSCB website using `requests`. \"\n",
    "    \"To preprocess PDB files, you will use PDBFixer. \"\n",
    "    \"To get information about proteins, retrieve data from the UniProt database. \"\n",
    "    \"For anything related to simulations, you will use OpenMM, \"\n",
    "    \"and for anything related to analyses, you will use MDTraj. \"\n",
    "    \"At the end, combine any scripts into one script. \"\n",
    ")\n",
    "messages = [\n",
    "    (\"system\", system_prompt),\n",
    "    (\"human\", prompt),\n",
    "]\n",
    "\n",
    "now = datetime.datetime.now()\n",
    "date = now.strftime(\"%Y-%m-%d\")\n",
    "print(\"date:\",date)\n",
    "time = now.strftime(\"%H:%M:%S\")\n",
    "print(\"time:\",time)\n",
    "print(\"LLM: \",llm.model_name,\"\\nTemperature: \",llm.temperature)"
   ]
  },
  {
   "cell_type": "code",
   "execution_count": 5,
   "id": "43cd734b-be61-4d05-bedb-b798621db3ae",
   "metadata": {
    "execution": {
     "iopub.execute_input": "2024-10-17T00:46:17.989704Z",
     "iopub.status.busy": "2024-10-17T00:46:17.989439Z",
     "iopub.status.idle": "2024-10-17T00:46:31.179437Z",
     "shell.execute_reply": "2024-10-17T00:46:31.178661Z"
    },
    "papermill": {
     "duration": 13.19549,
     "end_time": "2024-10-17T00:46:31.181649",
     "exception": false,
     "start_time": "2024-10-17T00:46:17.986159",
     "status": "completed"
    },
    "scrolled": true,
    "tags": []
   },
   "outputs": [
    {
     "name": "stdout",
     "output_type": "stream",
     "text": [
      "To"
     ]
    },
    {
     "name": "stdout",
     "output_type": "stream",
     "text": [
      " accomplish"
     ]
    },
    {
     "name": "stdout",
     "output_type": "stream",
     "text": [
      " this"
     ]
    },
    {
     "name": "stdout",
     "output_type": "stream",
     "text": [
      " task"
     ]
    },
    {
     "name": "stdout",
     "output_type": "stream",
     "text": [
      ","
     ]
    },
    {
     "name": "stdout",
     "output_type": "stream",
     "text": [
      " we"
     ]
    },
    {
     "name": "stdout",
     "output_type": "stream",
     "text": [
      " will"
     ]
    },
    {
     "name": "stdout",
     "output_type": "stream",
     "text": [
      " follow"
     ]
    },
    {
     "name": "stdout",
     "output_type": "stream",
     "text": [
      " these"
     ]
    },
    {
     "name": "stdout",
     "output_type": "stream",
     "text": [
      " steps"
     ]
    },
    {
     "name": "stdout",
     "output_type": "stream",
     "text": [
      ":\n",
      "\n"
     ]
    },
    {
     "name": "stdout",
     "output_type": "stream",
     "text": [
      "1"
     ]
    },
    {
     "name": "stdout",
     "output_type": "stream",
     "text": [
      "."
     ]
    },
    {
     "name": "stdout",
     "output_type": "stream",
     "text": [
      " Download"
     ]
    },
    {
     "name": "stdout",
     "output_type": "stream",
     "text": [
      " the"
     ]
    },
    {
     "name": "stdout",
     "output_type": "stream",
     "text": [
      " P"
     ]
    },
    {
     "name": "stdout",
     "output_type": "stream",
     "text": [
      "DB"
     ]
    },
    {
     "name": "stdout",
     "output_type": "stream",
     "text": [
      " file"
     ]
    },
    {
     "name": "stdout",
     "output_type": "stream",
     "text": [
      " for"
     ]
    },
    {
     "name": "stdout",
     "output_type": "stream",
     "text": [
      " try"
     ]
    },
    {
     "name": "stdout",
     "output_type": "stream",
     "text": [
      "ps"
     ]
    },
    {
     "name": "stdout",
     "output_type": "stream",
     "text": [
      "in"
     ]
    },
    {
     "name": "stdout",
     "output_type": "stream",
     "text": [
      " ("
     ]
    },
    {
     "name": "stdout",
     "output_type": "stream",
     "text": [
      "P"
     ]
    },
    {
     "name": "stdout",
     "output_type": "stream",
     "text": [
      "DB"
     ]
    },
    {
     "name": "stdout",
     "output_type": "stream",
     "text": [
      " ID"
     ]
    },
    {
     "name": "stdout",
     "output_type": "stream",
     "text": [
      ":"
     ]
    },
    {
     "name": "stdout",
     "output_type": "stream",
     "text": [
      " "
     ]
    },
    {
     "name": "stdout",
     "output_type": "stream",
     "text": [
      "1"
     ]
    },
    {
     "name": "stdout",
     "output_type": "stream",
     "text": [
      "TR"
     ]
    },
    {
     "name": "stdout",
     "output_type": "stream",
     "text": [
      "N"
     ]
    },
    {
     "name": "stdout",
     "output_type": "stream",
     "text": [
      ").\n"
     ]
    },
    {
     "name": "stdout",
     "output_type": "stream",
     "text": [
      "2"
     ]
    },
    {
     "name": "stdout",
     "output_type": "stream",
     "text": [
      "."
     ]
    },
    {
     "name": "stdout",
     "output_type": "stream",
     "text": [
      " Pre"
     ]
    },
    {
     "name": "stdout",
     "output_type": "stream",
     "text": [
      "process"
     ]
    },
    {
     "name": "stdout",
     "output_type": "stream",
     "text": [
      " the"
     ]
    },
    {
     "name": "stdout",
     "output_type": "stream",
     "text": [
      " P"
     ]
    },
    {
     "name": "stdout",
     "output_type": "stream",
     "text": [
      "DB"
     ]
    },
    {
     "name": "stdout",
     "output_type": "stream",
     "text": [
      " file"
     ]
    },
    {
     "name": "stdout",
     "output_type": "stream",
     "text": [
      " using"
     ]
    },
    {
     "name": "stdout",
     "output_type": "stream",
     "text": [
      " P"
     ]
    },
    {
     "name": "stdout",
     "output_type": "stream",
     "text": [
      "DB"
     ]
    },
    {
     "name": "stdout",
     "output_type": "stream",
     "text": [
      "Fix"
     ]
    },
    {
     "name": "stdout",
     "output_type": "stream",
     "text": [
      "er"
     ]
    },
    {
     "name": "stdout",
     "output_type": "stream",
     "text": [
      " to"
     ]
    },
    {
     "name": "stdout",
     "output_type": "stream",
     "text": [
      " add"
     ]
    },
    {
     "name": "stdout",
     "output_type": "stream",
     "text": [
      " missing"
     ]
    },
    {
     "name": "stdout",
     "output_type": "stream",
     "text": [
      " atoms"
     ]
    },
    {
     "name": "stdout",
     "output_type": "stream",
     "text": [
      " and"
     ]
    },
    {
     "name": "stdout",
     "output_type": "stream",
     "text": [
      " residues"
     ]
    },
    {
     "name": "stdout",
     "output_type": "stream",
     "text": [
      ".\n"
     ]
    },
    {
     "name": "stdout",
     "output_type": "stream",
     "text": [
      "3"
     ]
    },
    {
     "name": "stdout",
     "output_type": "stream",
     "text": [
      "."
     ]
    },
    {
     "name": "stdout",
     "output_type": "stream",
     "text": [
      " Set"
     ]
    },
    {
     "name": "stdout",
     "output_type": "stream",
     "text": [
      " up"
     ]
    },
    {
     "name": "stdout",
     "output_type": "stream",
     "text": [
      " and"
     ]
    },
    {
     "name": "stdout",
     "output_type": "stream",
     "text": [
      " run"
     ]
    },
    {
     "name": "stdout",
     "output_type": "stream",
     "text": [
      " a"
     ]
    },
    {
     "name": "stdout",
     "output_type": "stream",
     "text": [
      " molecular"
     ]
    },
    {
     "name": "stdout",
     "output_type": "stream",
     "text": [
      " dynamics"
     ]
    },
    {
     "name": "stdout",
     "output_type": "stream",
     "text": [
      " simulation"
     ]
    },
    {
     "name": "stdout",
     "output_type": "stream",
     "text": [
      " using"
     ]
    },
    {
     "name": "stdout",
     "output_type": "stream",
     "text": [
      " Open"
     ]
    },
    {
     "name": "stdout",
     "output_type": "stream",
     "text": [
      "MM"
     ]
    },
    {
     "name": "stdout",
     "output_type": "stream",
     "text": [
      " for"
     ]
    },
    {
     "name": "stdout",
     "output_type": "stream",
     "text": [
      " "
     ]
    },
    {
     "name": "stdout",
     "output_type": "stream",
     "text": [
      "1"
     ]
    },
    {
     "name": "stdout",
     "output_type": "stream",
     "text": [
      " ns"
     ]
    },
    {
     "name": "stdout",
     "output_type": "stream",
     "text": [
      " at"
     ]
    },
    {
     "name": "stdout",
     "output_type": "stream",
     "text": [
      " "
     ]
    },
    {
     "name": "stdout",
     "output_type": "stream",
     "text": [
      "300"
     ]
    },
    {
     "name": "stdout",
     "output_type": "stream",
     "text": [
      " K"
     ]
    },
    {
     "name": "stdout",
     "output_type": "stream",
     "text": [
      ".\n"
     ]
    },
    {
     "name": "stdout",
     "output_type": "stream",
     "text": [
      "4"
     ]
    },
    {
     "name": "stdout",
     "output_type": "stream",
     "text": [
      "."
     ]
    },
    {
     "name": "stdout",
     "output_type": "stream",
     "text": [
      " Analyze"
     ]
    },
    {
     "name": "stdout",
     "output_type": "stream",
     "text": [
      " the"
     ]
    },
    {
     "name": "stdout",
     "output_type": "stream",
     "text": [
      " trajectory"
     ]
    },
    {
     "name": "stdout",
     "output_type": "stream",
     "text": [
      " to"
     ]
    },
    {
     "name": "stdout",
     "output_type": "stream",
     "text": [
      " compute"
     ]
    },
    {
     "name": "stdout",
     "output_type": "stream",
     "text": [
      " Sol"
     ]
    },
    {
     "name": "stdout",
     "output_type": "stream",
     "text": [
      "vent"
     ]
    },
    {
     "name": "stdout",
     "output_type": "stream",
     "text": [
      " Accessible"
     ]
    },
    {
     "name": "stdout",
     "output_type": "stream",
     "text": [
      " Surface"
     ]
    },
    {
     "name": "stdout",
     "output_type": "stream",
     "text": [
      " Area"
     ]
    },
    {
     "name": "stdout",
     "output_type": "stream",
     "text": [
      " ("
     ]
    },
    {
     "name": "stdout",
     "output_type": "stream",
     "text": [
      "S"
     ]
    },
    {
     "name": "stdout",
     "output_type": "stream",
     "text": [
      "ASA"
     ]
    },
    {
     "name": "stdout",
     "output_type": "stream",
     "text": [
      "),"
     ]
    },
    {
     "name": "stdout",
     "output_type": "stream",
     "text": [
      " Root"
     ]
    },
    {
     "name": "stdout",
     "output_type": "stream",
     "text": [
      " Mean"
     ]
    },
    {
     "name": "stdout",
     "output_type": "stream",
     "text": [
      " Square"
     ]
    },
    {
     "name": "stdout",
     "output_type": "stream",
     "text": [
      " Fl"
     ]
    },
    {
     "name": "stdout",
     "output_type": "stream",
     "text": [
      "uct"
     ]
    },
    {
     "name": "stdout",
     "output_type": "stream",
     "text": [
      "uation"
     ]
    },
    {
     "name": "stdout",
     "output_type": "stream",
     "text": [
      " ("
     ]
    },
    {
     "name": "stdout",
     "output_type": "stream",
     "text": [
      "R"
     ]
    },
    {
     "name": "stdout",
     "output_type": "stream",
     "text": [
      "MS"
     ]
    },
    {
     "name": "stdout",
     "output_type": "stream",
     "text": [
      "F"
     ]
    },
    {
     "name": "stdout",
     "output_type": "stream",
     "text": [
      "),"
     ]
    },
    {
     "name": "stdout",
     "output_type": "stream",
     "text": [
      " and"
     ]
    },
    {
     "name": "stdout",
     "output_type": "stream",
     "text": [
      " radius"
     ]
    },
    {
     "name": "stdout",
     "output_type": "stream",
     "text": [
      " of"
     ]
    },
    {
     "name": "stdout",
     "output_type": "stream",
     "text": [
      " gyr"
     ]
    },
    {
     "name": "stdout",
     "output_type": "stream",
     "text": [
      "ation"
     ]
    },
    {
     "name": "stdout",
     "output_type": "stream",
     "text": [
      " using"
     ]
    },
    {
     "name": "stdout",
     "output_type": "stream",
     "text": [
      " MDT"
     ]
    },
    {
     "name": "stdout",
     "output_type": "stream",
     "text": [
      "raj"
     ]
    },
    {
     "name": "stdout",
     "output_type": "stream",
     "text": [
      ".\n"
     ]
    },
    {
     "name": "stdout",
     "output_type": "stream",
     "text": [
      "5"
     ]
    },
    {
     "name": "stdout",
     "output_type": "stream",
     "text": [
      "."
     ]
    },
    {
     "name": "stdout",
     "output_type": "stream",
     "text": [
      " Retrieve"
     ]
    },
    {
     "name": "stdout",
     "output_type": "stream",
     "text": [
      " the"
     ]
    },
    {
     "name": "stdout",
     "output_type": "stream",
     "text": [
      " sub"
     ]
    },
    {
     "name": "stdout",
     "output_type": "stream",
     "text": [
      "unit"
     ]
    },
    {
     "name": "stdout",
     "output_type": "stream",
     "text": [
      " structure"
     ]
    },
    {
     "name": "stdout",
     "output_type": "stream",
     "text": [
      ","
     ]
    },
    {
     "name": "stdout",
     "output_type": "stream",
     "text": [
      " sequence"
     ]
    },
    {
     "name": "stdout",
     "output_type": "stream",
     "text": [
      ","
     ]
    },
    {
     "name": "stdout",
     "output_type": "stream",
     "text": [
      " active"
     ]
    },
    {
     "name": "stdout",
     "output_type": "stream",
     "text": [
      " and"
     ]
    },
    {
     "name": "stdout",
     "output_type": "stream",
     "text": [
      " binding"
     ]
    },
    {
     "name": "stdout",
     "output_type": "stream",
     "text": [
      " sites"
     ]
    },
    {
     "name": "stdout",
     "output_type": "stream",
     "text": [
      " from"
     ]
    },
    {
     "name": "stdout",
     "output_type": "stream",
     "text": [
      " the"
     ]
    },
    {
     "name": "stdout",
     "output_type": "stream",
     "text": [
      " Uni"
     ]
    },
    {
     "name": "stdout",
     "output_type": "stream",
     "text": [
      "Prot"
     ]
    },
    {
     "name": "stdout",
     "output_type": "stream",
     "text": [
      " database"
     ]
    },
    {
     "name": "stdout",
     "output_type": "stream",
     "text": [
      ".\n"
     ]
    },
    {
     "name": "stdout",
     "output_type": "stream",
     "text": [
      "6"
     ]
    },
    {
     "name": "stdout",
     "output_type": "stream",
     "text": [
      "."
     ]
    },
    {
     "name": "stdout",
     "output_type": "stream",
     "text": [
      " Plot"
     ]
    },
    {
     "name": "stdout",
     "output_type": "stream",
     "text": [
      " the"
     ]
    },
    {
     "name": "stdout",
     "output_type": "stream",
     "text": [
      " energy"
     ]
    },
    {
     "name": "stdout",
     "output_type": "stream",
     "text": [
      " over"
     ]
    },
    {
     "name": "stdout",
     "output_type": "stream",
     "text": [
      " time"
     ]
    },
    {
     "name": "stdout",
     "output_type": "stream",
     "text": [
      ".\n",
      "\n"
     ]
    },
    {
     "name": "stdout",
     "output_type": "stream",
     "text": [
      "Here's"
     ]
    },
    {
     "name": "stdout",
     "output_type": "stream",
     "text": [
      " the"
     ]
    },
    {
     "name": "stdout",
     "output_type": "stream",
     "text": [
      " complete"
     ]
    },
    {
     "name": "stdout",
     "output_type": "stream",
     "text": [
      " Python"
     ]
    },
    {
     "name": "stdout",
     "output_type": "stream",
     "text": [
      " script"
     ]
    },
    {
     "name": "stdout",
     "output_type": "stream",
     "text": [
      " to"
     ]
    },
    {
     "name": "stdout",
     "output_type": "stream",
     "text": [
      " perform"
     ]
    },
    {
     "name": "stdout",
     "output_type": "stream",
     "text": [
      " these"
     ]
    },
    {
     "name": "stdout",
     "output_type": "stream",
     "text": [
      " tasks"
     ]
    },
    {
     "name": "stdout",
     "output_type": "stream",
     "text": [
      ":\n",
      "\n"
     ]
    },
    {
     "name": "stdout",
     "output_type": "stream",
     "text": [
      "```"
     ]
    },
    {
     "name": "stdout",
     "output_type": "stream",
     "text": [
      "python"
     ]
    },
    {
     "name": "stdout",
     "output_type": "stream",
     "text": [
      "\n"
     ]
    },
    {
     "name": "stdout",
     "output_type": "stream",
     "text": [
      "import"
     ]
    },
    {
     "name": "stdout",
     "output_type": "stream",
     "text": [
      " requests"
     ]
    },
    {
     "name": "stdout",
     "output_type": "stream",
     "text": [
      "\n"
     ]
    },
    {
     "name": "stdout",
     "output_type": "stream",
     "text": [
      "from"
     ]
    },
    {
     "name": "stdout",
     "output_type": "stream",
     "text": [
      " pdb"
     ]
    },
    {
     "name": "stdout",
     "output_type": "stream",
     "text": [
      "fix"
     ]
    },
    {
     "name": "stdout",
     "output_type": "stream",
     "text": [
      "er"
     ]
    },
    {
     "name": "stdout",
     "output_type": "stream",
     "text": [
      " import"
     ]
    },
    {
     "name": "stdout",
     "output_type": "stream",
     "text": [
      " P"
     ]
    },
    {
     "name": "stdout",
     "output_type": "stream",
     "text": [
      "DB"
     ]
    },
    {
     "name": "stdout",
     "output_type": "stream",
     "text": [
      "Fix"
     ]
    },
    {
     "name": "stdout",
     "output_type": "stream",
     "text": [
      "er"
     ]
    },
    {
     "name": "stdout",
     "output_type": "stream",
     "text": [
      "\n"
     ]
    },
    {
     "name": "stdout",
     "output_type": "stream",
     "text": [
      "from"
     ]
    },
    {
     "name": "stdout",
     "output_type": "stream",
     "text": [
      " open"
     ]
    },
    {
     "name": "stdout",
     "output_type": "stream",
     "text": [
      "mm"
     ]
    },
    {
     "name": "stdout",
     "output_type": "stream",
     "text": [
      ".app"
     ]
    },
    {
     "name": "stdout",
     "output_type": "stream",
     "text": [
      " import"
     ]
    },
    {
     "name": "stdout",
     "output_type": "stream",
     "text": [
      " *\n"
     ]
    },
    {
     "name": "stdout",
     "output_type": "stream",
     "text": [
      "from"
     ]
    },
    {
     "name": "stdout",
     "output_type": "stream",
     "text": [
      " open"
     ]
    },
    {
     "name": "stdout",
     "output_type": "stream",
     "text": [
      "mm"
     ]
    },
    {
     "name": "stdout",
     "output_type": "stream",
     "text": [
      " import"
     ]
    },
    {
     "name": "stdout",
     "output_type": "stream",
     "text": [
      " *\n"
     ]
    },
    {
     "name": "stdout",
     "output_type": "stream",
     "text": [
      "from"
     ]
    },
    {
     "name": "stdout",
     "output_type": "stream",
     "text": [
      " open"
     ]
    },
    {
     "name": "stdout",
     "output_type": "stream",
     "text": [
      "mm"
     ]
    },
    {
     "name": "stdout",
     "output_type": "stream",
     "text": [
      ".unit"
     ]
    },
    {
     "name": "stdout",
     "output_type": "stream",
     "text": [
      " import"
     ]
    },
    {
     "name": "stdout",
     "output_type": "stream",
     "text": [
      " *\n"
     ]
    },
    {
     "name": "stdout",
     "output_type": "stream",
     "text": [
      "import"
     ]
    },
    {
     "name": "stdout",
     "output_type": "stream",
     "text": [
      " md"
     ]
    },
    {
     "name": "stdout",
     "output_type": "stream",
     "text": [
      "traj"
     ]
    },
    {
     "name": "stdout",
     "output_type": "stream",
     "text": [
      " as"
     ]
    },
    {
     "name": "stdout",
     "output_type": "stream",
     "text": [
      " md"
     ]
    },
    {
     "name": "stdout",
     "output_type": "stream",
     "text": [
      "\n"
     ]
    },
    {
     "name": "stdout",
     "output_type": "stream",
     "text": [
      "import"
     ]
    },
    {
     "name": "stdout",
     "output_type": "stream",
     "text": [
      " matplotlib"
     ]
    },
    {
     "name": "stdout",
     "output_type": "stream",
     "text": [
      ".pyplot"
     ]
    },
    {
     "name": "stdout",
     "output_type": "stream",
     "text": [
      " as"
     ]
    },
    {
     "name": "stdout",
     "output_type": "stream",
     "text": [
      " plt"
     ]
    },
    {
     "name": "stdout",
     "output_type": "stream",
     "text": [
      "\n"
     ]
    },
    {
     "name": "stdout",
     "output_type": "stream",
     "text": [
      "from"
     ]
    },
    {
     "name": "stdout",
     "output_type": "stream",
     "text": [
      " io"
     ]
    },
    {
     "name": "stdout",
     "output_type": "stream",
     "text": [
      " import"
     ]
    },
    {
     "name": "stdout",
     "output_type": "stream",
     "text": [
      " String"
     ]
    },
    {
     "name": "stdout",
     "output_type": "stream",
     "text": [
      "IO"
     ]
    },
    {
     "name": "stdout",
     "output_type": "stream",
     "text": [
      "\n",
      "\n"
     ]
    },
    {
     "name": "stdout",
     "output_type": "stream",
     "text": [
      "#"
     ]
    },
    {
     "name": "stdout",
     "output_type": "stream",
     "text": [
      " Step"
     ]
    },
    {
     "name": "stdout",
     "output_type": "stream",
     "text": [
      " "
     ]
    },
    {
     "name": "stdout",
     "output_type": "stream",
     "text": [
      "1"
     ]
    },
    {
     "name": "stdout",
     "output_type": "stream",
     "text": [
      ":"
     ]
    },
    {
     "name": "stdout",
     "output_type": "stream",
     "text": [
      " Download"
     ]
    },
    {
     "name": "stdout",
     "output_type": "stream",
     "text": [
      " the"
     ]
    },
    {
     "name": "stdout",
     "output_type": "stream",
     "text": [
      " P"
     ]
    },
    {
     "name": "stdout",
     "output_type": "stream",
     "text": [
      "DB"
     ]
    },
    {
     "name": "stdout",
     "output_type": "stream",
     "text": [
      " file"
     ]
    },
    {
     "name": "stdout",
     "output_type": "stream",
     "text": [
      " for"
     ]
    },
    {
     "name": "stdout",
     "output_type": "stream",
     "text": [
      " try"
     ]
    },
    {
     "name": "stdout",
     "output_type": "stream",
     "text": [
      "ps"
     ]
    },
    {
     "name": "stdout",
     "output_type": "stream",
     "text": [
      "in"
     ]
    },
    {
     "name": "stdout",
     "output_type": "stream",
     "text": [
      " ("
     ]
    },
    {
     "name": "stdout",
     "output_type": "stream",
     "text": [
      "1"
     ]
    },
    {
     "name": "stdout",
     "output_type": "stream",
     "text": [
      "TR"
     ]
    },
    {
     "name": "stdout",
     "output_type": "stream",
     "text": [
      "N"
     ]
    },
    {
     "name": "stdout",
     "output_type": "stream",
     "text": [
      ")\n"
     ]
    },
    {
     "name": "stdout",
     "output_type": "stream",
     "text": [
      "p"
     ]
    },
    {
     "name": "stdout",
     "output_type": "stream",
     "text": [
      "db"
     ]
    },
    {
     "name": "stdout",
     "output_type": "stream",
     "text": [
      "_id"
     ]
    },
    {
     "name": "stdout",
     "output_type": "stream",
     "text": [
      " ="
     ]
    },
    {
     "name": "stdout",
     "output_type": "stream",
     "text": [
      " \""
     ]
    },
    {
     "name": "stdout",
     "output_type": "stream",
     "text": [
      "1"
     ]
    },
    {
     "name": "stdout",
     "output_type": "stream",
     "text": [
      "TR"
     ]
    },
    {
     "name": "stdout",
     "output_type": "stream",
     "text": [
      "N"
     ]
    },
    {
     "name": "stdout",
     "output_type": "stream",
     "text": [
      "\"\n"
     ]
    },
    {
     "name": "stdout",
     "output_type": "stream",
     "text": [
      "url"
     ]
    },
    {
     "name": "stdout",
     "output_type": "stream",
     "text": [
      " ="
     ]
    },
    {
     "name": "stdout",
     "output_type": "stream",
     "text": [
      " f"
     ]
    },
    {
     "name": "stdout",
     "output_type": "stream",
     "text": [
      "\"https"
     ]
    },
    {
     "name": "stdout",
     "output_type": "stream",
     "text": [
      "://"
     ]
    },
    {
     "name": "stdout",
     "output_type": "stream",
     "text": [
      "files"
     ]
    },
    {
     "name": "stdout",
     "output_type": "stream",
     "text": [
      ".rc"
     ]
    },
    {
     "name": "stdout",
     "output_type": "stream",
     "text": [
      "sb"
     ]
    },
    {
     "name": "stdout",
     "output_type": "stream",
     "text": [
      ".org"
     ]
    },
    {
     "name": "stdout",
     "output_type": "stream",
     "text": [
      "/download"
     ]
    },
    {
     "name": "stdout",
     "output_type": "stream",
     "text": [
      "/{"
     ]
    },
    {
     "name": "stdout",
     "output_type": "stream",
     "text": [
      "p"
     ]
    },
    {
     "name": "stdout",
     "output_type": "stream",
     "text": [
      "db"
     ]
    },
    {
     "name": "stdout",
     "output_type": "stream",
     "text": [
      "_id"
     ]
    },
    {
     "name": "stdout",
     "output_type": "stream",
     "text": [
      "}."
     ]
    },
    {
     "name": "stdout",
     "output_type": "stream",
     "text": [
      "p"
     ]
    },
    {
     "name": "stdout",
     "output_type": "stream",
     "text": [
      "db"
     ]
    },
    {
     "name": "stdout",
     "output_type": "stream",
     "text": [
      "\"\n"
     ]
    },
    {
     "name": "stdout",
     "output_type": "stream",
     "text": [
      "response"
     ]
    },
    {
     "name": "stdout",
     "output_type": "stream",
     "text": [
      " ="
     ]
    },
    {
     "name": "stdout",
     "output_type": "stream",
     "text": [
      " requests"
     ]
    },
    {
     "name": "stdout",
     "output_type": "stream",
     "text": [
      ".get"
     ]
    },
    {
     "name": "stdout",
     "output_type": "stream",
     "text": [
      "(url"
     ]
    },
    {
     "name": "stdout",
     "output_type": "stream",
     "text": [
      ")\n"
     ]
    },
    {
     "name": "stdout",
     "output_type": "stream",
     "text": [
      "p"
     ]
    },
    {
     "name": "stdout",
     "output_type": "stream",
     "text": [
      "db"
     ]
    },
    {
     "name": "stdout",
     "output_type": "stream",
     "text": [
      "_data"
     ]
    },
    {
     "name": "stdout",
     "output_type": "stream",
     "text": [
      " ="
     ]
    },
    {
     "name": "stdout",
     "output_type": "stream",
     "text": [
      " response"
     ]
    },
    {
     "name": "stdout",
     "output_type": "stream",
     "text": [
      ".text"
     ]
    },
    {
     "name": "stdout",
     "output_type": "stream",
     "text": [
      "\n",
      "\n"
     ]
    },
    {
     "name": "stdout",
     "output_type": "stream",
     "text": [
      "#"
     ]
    },
    {
     "name": "stdout",
     "output_type": "stream",
     "text": [
      " Step"
     ]
    },
    {
     "name": "stdout",
     "output_type": "stream",
     "text": [
      " "
     ]
    },
    {
     "name": "stdout",
     "output_type": "stream",
     "text": [
      "2"
     ]
    },
    {
     "name": "stdout",
     "output_type": "stream",
     "text": [
      ":"
     ]
    },
    {
     "name": "stdout",
     "output_type": "stream",
     "text": [
      " Pre"
     ]
    },
    {
     "name": "stdout",
     "output_type": "stream",
     "text": [
      "process"
     ]
    },
    {
     "name": "stdout",
     "output_type": "stream",
     "text": [
      " the"
     ]
    },
    {
     "name": "stdout",
     "output_type": "stream",
     "text": [
      " P"
     ]
    },
    {
     "name": "stdout",
     "output_type": "stream",
     "text": [
      "DB"
     ]
    },
    {
     "name": "stdout",
     "output_type": "stream",
     "text": [
      " file"
     ]
    },
    {
     "name": "stdout",
     "output_type": "stream",
     "text": [
      " using"
     ]
    },
    {
     "name": "stdout",
     "output_type": "stream",
     "text": [
      " P"
     ]
    },
    {
     "name": "stdout",
     "output_type": "stream",
     "text": [
      "DB"
     ]
    },
    {
     "name": "stdout",
     "output_type": "stream",
     "text": [
      "Fix"
     ]
    },
    {
     "name": "stdout",
     "output_type": "stream",
     "text": [
      "er"
     ]
    },
    {
     "name": "stdout",
     "output_type": "stream",
     "text": [
      "\n"
     ]
    },
    {
     "name": "stdout",
     "output_type": "stream",
     "text": [
      "fix"
     ]
    },
    {
     "name": "stdout",
     "output_type": "stream",
     "text": [
      "er"
     ]
    },
    {
     "name": "stdout",
     "output_type": "stream",
     "text": [
      " ="
     ]
    },
    {
     "name": "stdout",
     "output_type": "stream",
     "text": [
      " P"
     ]
    },
    {
     "name": "stdout",
     "output_type": "stream",
     "text": [
      "DB"
     ]
    },
    {
     "name": "stdout",
     "output_type": "stream",
     "text": [
      "Fix"
     ]
    },
    {
     "name": "stdout",
     "output_type": "stream",
     "text": [
      "er"
     ]
    },
    {
     "name": "stdout",
     "output_type": "stream",
     "text": [
      "(p"
     ]
    },
    {
     "name": "stdout",
     "output_type": "stream",
     "text": [
      "db"
     ]
    },
    {
     "name": "stdout",
     "output_type": "stream",
     "text": [
      "file"
     ]
    },
    {
     "name": "stdout",
     "output_type": "stream",
     "text": [
      "="
     ]
    },
    {
     "name": "stdout",
     "output_type": "stream",
     "text": [
      "String"
     ]
    },
    {
     "name": "stdout",
     "output_type": "stream",
     "text": [
      "IO"
     ]
    },
    {
     "name": "stdout",
     "output_type": "stream",
     "text": [
      "(p"
     ]
    },
    {
     "name": "stdout",
     "output_type": "stream",
     "text": [
      "db"
     ]
    },
    {
     "name": "stdout",
     "output_type": "stream",
     "text": [
      "_data"
     ]
    },
    {
     "name": "stdout",
     "output_type": "stream",
     "text": [
      "))\n"
     ]
    },
    {
     "name": "stdout",
     "output_type": "stream",
     "text": [
      "fix"
     ]
    },
    {
     "name": "stdout",
     "output_type": "stream",
     "text": [
      "er"
     ]
    },
    {
     "name": "stdout",
     "output_type": "stream",
     "text": [
      ".find"
     ]
    },
    {
     "name": "stdout",
     "output_type": "stream",
     "text": [
      "Missing"
     ]
    },
    {
     "name": "stdout",
     "output_type": "stream",
     "text": [
      "Resid"
     ]
    },
    {
     "name": "stdout",
     "output_type": "stream",
     "text": [
      "ues"
     ]
    },
    {
     "name": "stdout",
     "output_type": "stream",
     "text": [
      "()\n"
     ]
    },
    {
     "name": "stdout",
     "output_type": "stream",
     "text": [
      "fix"
     ]
    },
    {
     "name": "stdout",
     "output_type": "stream",
     "text": [
      "er"
     ]
    },
    {
     "name": "stdout",
     "output_type": "stream",
     "text": [
      ".find"
     ]
    },
    {
     "name": "stdout",
     "output_type": "stream",
     "text": [
      "Missing"
     ]
    },
    {
     "name": "stdout",
     "output_type": "stream",
     "text": [
      "Atoms"
     ]
    },
    {
     "name": "stdout",
     "output_type": "stream",
     "text": [
      "()\n"
     ]
    },
    {
     "name": "stdout",
     "output_type": "stream",
     "text": [
      "fix"
     ]
    },
    {
     "name": "stdout",
     "output_type": "stream",
     "text": [
      "er"
     ]
    },
    {
     "name": "stdout",
     "output_type": "stream",
     "text": [
      ".add"
     ]
    },
    {
     "name": "stdout",
     "output_type": "stream",
     "text": [
      "Missing"
     ]
    },
    {
     "name": "stdout",
     "output_type": "stream",
     "text": [
      "Atoms"
     ]
    },
    {
     "name": "stdout",
     "output_type": "stream",
     "text": [
      "()\n"
     ]
    },
    {
     "name": "stdout",
     "output_type": "stream",
     "text": [
      "fix"
     ]
    },
    {
     "name": "stdout",
     "output_type": "stream",
     "text": [
      "er"
     ]
    },
    {
     "name": "stdout",
     "output_type": "stream",
     "text": [
      ".add"
     ]
    },
    {
     "name": "stdout",
     "output_type": "stream",
     "text": [
      "Missing"
     ]
    },
    {
     "name": "stdout",
     "output_type": "stream",
     "text": [
      "Hyd"
     ]
    },
    {
     "name": "stdout",
     "output_type": "stream",
     "text": [
      "rog"
     ]
    },
    {
     "name": "stdout",
     "output_type": "stream",
     "text": [
      "ens"
     ]
    },
    {
     "name": "stdout",
     "output_type": "stream",
     "text": [
      "()\n",
      "\n"
     ]
    },
    {
     "name": "stdout",
     "output_type": "stream",
     "text": [
      "#"
     ]
    },
    {
     "name": "stdout",
     "output_type": "stream",
     "text": [
      " Step"
     ]
    },
    {
     "name": "stdout",
     "output_type": "stream",
     "text": [
      " "
     ]
    },
    {
     "name": "stdout",
     "output_type": "stream",
     "text": [
      "3"
     ]
    },
    {
     "name": "stdout",
     "output_type": "stream",
     "text": [
      ":"
     ]
    },
    {
     "name": "stdout",
     "output_type": "stream",
     "text": [
      " Set"
     ]
    },
    {
     "name": "stdout",
     "output_type": "stream",
     "text": [
      " up"
     ]
    },
    {
     "name": "stdout",
     "output_type": "stream",
     "text": [
      " and"
     ]
    },
    {
     "name": "stdout",
     "output_type": "stream",
     "text": [
      " run"
     ]
    },
    {
     "name": "stdout",
     "output_type": "stream",
     "text": [
      " a"
     ]
    },
    {
     "name": "stdout",
     "output_type": "stream",
     "text": [
      " molecular"
     ]
    },
    {
     "name": "stdout",
     "output_type": "stream",
     "text": [
      " dynamics"
     ]
    },
    {
     "name": "stdout",
     "output_type": "stream",
     "text": [
      " simulation"
     ]
    },
    {
     "name": "stdout",
     "output_type": "stream",
     "text": [
      " using"
     ]
    },
    {
     "name": "stdout",
     "output_type": "stream",
     "text": [
      " Open"
     ]
    },
    {
     "name": "stdout",
     "output_type": "stream",
     "text": [
      "MM"
     ]
    },
    {
     "name": "stdout",
     "output_type": "stream",
     "text": [
      "\n"
     ]
    },
    {
     "name": "stdout",
     "output_type": "stream",
     "text": [
      "force"
     ]
    },
    {
     "name": "stdout",
     "output_type": "stream",
     "text": [
      "field"
     ]
    },
    {
     "name": "stdout",
     "output_type": "stream",
     "text": [
      " ="
     ]
    },
    {
     "name": "stdout",
     "output_type": "stream",
     "text": [
      " Force"
     ]
    },
    {
     "name": "stdout",
     "output_type": "stream",
     "text": [
      "Field"
     ]
    },
    {
     "name": "stdout",
     "output_type": "stream",
     "text": [
      "('"
     ]
    },
    {
     "name": "stdout",
     "output_type": "stream",
     "text": [
      "amber"
     ]
    },
    {
     "name": "stdout",
     "output_type": "stream",
     "text": [
      "14"
     ]
    },
    {
     "name": "stdout",
     "output_type": "stream",
     "text": [
      "-all"
     ]
    },
    {
     "name": "stdout",
     "output_type": "stream",
     "text": [
      ".xml"
     ]
    },
    {
     "name": "stdout",
     "output_type": "stream",
     "text": [
      "',"
     ]
    },
    {
     "name": "stdout",
     "output_type": "stream",
     "text": [
      " '"
     ]
    },
    {
     "name": "stdout",
     "output_type": "stream",
     "text": [
      "amber"
     ]
    },
    {
     "name": "stdout",
     "output_type": "stream",
     "text": [
      "14"
     ]
    },
    {
     "name": "stdout",
     "output_type": "stream",
     "text": [
      "/t"
     ]
    },
    {
     "name": "stdout",
     "output_type": "stream",
     "text": [
      "ip"
     ]
    },
    {
     "name": "stdout",
     "output_type": "stream",
     "text": [
      "3"
     ]
    },
    {
     "name": "stdout",
     "output_type": "stream",
     "text": [
      "p"
     ]
    },
    {
     "name": "stdout",
     "output_type": "stream",
     "text": [
      ".xml"
     ]
    },
    {
     "name": "stdout",
     "output_type": "stream",
     "text": [
      "')\n"
     ]
    },
    {
     "name": "stdout",
     "output_type": "stream",
     "text": [
      "system"
     ]
    },
    {
     "name": "stdout",
     "output_type": "stream",
     "text": [
      " ="
     ]
    },
    {
     "name": "stdout",
     "output_type": "stream",
     "text": [
      " force"
     ]
    },
    {
     "name": "stdout",
     "output_type": "stream",
     "text": [
      "field"
     ]
    },
    {
     "name": "stdout",
     "output_type": "stream",
     "text": [
      ".create"
     ]
    },
    {
     "name": "stdout",
     "output_type": "stream",
     "text": [
      "System"
     ]
    },
    {
     "name": "stdout",
     "output_type": "stream",
     "text": [
      "(f"
     ]
    },
    {
     "name": "stdout",
     "output_type": "stream",
     "text": [
      "ixer"
     ]
    },
    {
     "name": "stdout",
     "output_type": "stream",
     "text": [
      ".top"
     ]
    },
    {
     "name": "stdout",
     "output_type": "stream",
     "text": [
      "ology"
     ]
    },
    {
     "name": "stdout",
     "output_type": "stream",
     "text": [
      ","
     ]
    },
    {
     "name": "stdout",
     "output_type": "stream",
     "text": [
      " non"
     ]
    },
    {
     "name": "stdout",
     "output_type": "stream",
     "text": [
      "bond"
     ]
    },
    {
     "name": "stdout",
     "output_type": "stream",
     "text": [
      "ed"
     ]
    },
    {
     "name": "stdout",
     "output_type": "stream",
     "text": [
      "Method"
     ]
    },
    {
     "name": "stdout",
     "output_type": "stream",
     "text": [
      "="
     ]
    },
    {
     "name": "stdout",
     "output_type": "stream",
     "text": [
      "PM"
     ]
    },
    {
     "name": "stdout",
     "output_type": "stream",
     "text": [
      "E"
     ]
    },
    {
     "name": "stdout",
     "output_type": "stream",
     "text": [
      ","
     ]
    },
    {
     "name": "stdout",
     "output_type": "stream",
     "text": [
      " non"
     ]
    },
    {
     "name": "stdout",
     "output_type": "stream",
     "text": [
      "bond"
     ]
    },
    {
     "name": "stdout",
     "output_type": "stream",
     "text": [
      "ed"
     ]
    },
    {
     "name": "stdout",
     "output_type": "stream",
     "text": [
      "Cut"
     ]
    },
    {
     "name": "stdout",
     "output_type": "stream",
     "text": [
      "off"
     ]
    },
    {
     "name": "stdout",
     "output_type": "stream",
     "text": [
      "="
     ]
    },
    {
     "name": "stdout",
     "output_type": "stream",
     "text": [
      "1"
     ]
    },
    {
     "name": "stdout",
     "output_type": "stream",
     "text": [
      "*"
     ]
    },
    {
     "name": "stdout",
     "output_type": "stream",
     "text": [
      "nan"
     ]
    },
    {
     "name": "stdout",
     "output_type": "stream",
     "text": [
      "ometer"
     ]
    },
    {
     "name": "stdout",
     "output_type": "stream",
     "text": [
      ","
     ]
    },
    {
     "name": "stdout",
     "output_type": "stream",
     "text": [
      " constraints"
     ]
    },
    {
     "name": "stdout",
     "output_type": "stream",
     "text": [
      "="
     ]
    },
    {
     "name": "stdout",
     "output_type": "stream",
     "text": [
      "HB"
     ]
    },
    {
     "name": "stdout",
     "output_type": "stream",
     "text": [
      "onds"
     ]
    },
    {
     "name": "stdout",
     "output_type": "stream",
     "text": [
      ")\n"
     ]
    },
    {
     "name": "stdout",
     "output_type": "stream",
     "text": [
      "integr"
     ]
    },
    {
     "name": "stdout",
     "output_type": "stream",
     "text": [
      "ator"
     ]
    },
    {
     "name": "stdout",
     "output_type": "stream",
     "text": [
      " ="
     ]
    },
    {
     "name": "stdout",
     "output_type": "stream",
     "text": [
      " Lange"
     ]
    },
    {
     "name": "stdout",
     "output_type": "stream",
     "text": [
      "vin"
     ]
    },
    {
     "name": "stdout",
     "output_type": "stream",
     "text": [
      "Integrator"
     ]
    },
    {
     "name": "stdout",
     "output_type": "stream",
     "text": [
      "("
     ]
    },
    {
     "name": "stdout",
     "output_type": "stream",
     "text": [
      "300"
     ]
    },
    {
     "name": "stdout",
     "output_type": "stream",
     "text": [
      "*"
     ]
    },
    {
     "name": "stdout",
     "output_type": "stream",
     "text": [
      "kel"
     ]
    },
    {
     "name": "stdout",
     "output_type": "stream",
     "text": [
      "vin"
     ]
    },
    {
     "name": "stdout",
     "output_type": "stream",
     "text": [
      ","
     ]
    },
    {
     "name": "stdout",
     "output_type": "stream",
     "text": [
      " "
     ]
    },
    {
     "name": "stdout",
     "output_type": "stream",
     "text": [
      "1"
     ]
    },
    {
     "name": "stdout",
     "output_type": "stream",
     "text": [
      "/p"
     ]
    },
    {
     "name": "stdout",
     "output_type": "stream",
     "text": [
      "ic"
     ]
    },
    {
     "name": "stdout",
     "output_type": "stream",
     "text": [
      "ose"
     ]
    },
    {
     "name": "stdout",
     "output_type": "stream",
     "text": [
      "cond"
     ]
    },
    {
     "name": "stdout",
     "output_type": "stream",
     "text": [
      ","
     ]
    },
    {
     "name": "stdout",
     "output_type": "stream",
     "text": [
      " "
     ]
    },
    {
     "name": "stdout",
     "output_type": "stream",
     "text": [
      "0"
     ]
    },
    {
     "name": "stdout",
     "output_type": "stream",
     "text": [
      "."
     ]
    },
    {
     "name": "stdout",
     "output_type": "stream",
     "text": [
      "002"
     ]
    },
    {
     "name": "stdout",
     "output_type": "stream",
     "text": [
      "*"
     ]
    },
    {
     "name": "stdout",
     "output_type": "stream",
     "text": [
      "pic"
     ]
    },
    {
     "name": "stdout",
     "output_type": "stream",
     "text": [
      "oseconds"
     ]
    },
    {
     "name": "stdout",
     "output_type": "stream",
     "text": [
      ")\n"
     ]
    },
    {
     "name": "stdout",
     "output_type": "stream",
     "text": [
      "simulation"
     ]
    },
    {
     "name": "stdout",
     "output_type": "stream",
     "text": [
      " ="
     ]
    },
    {
     "name": "stdout",
     "output_type": "stream",
     "text": [
      " Simulation"
     ]
    },
    {
     "name": "stdout",
     "output_type": "stream",
     "text": [
      "(f"
     ]
    },
    {
     "name": "stdout",
     "output_type": "stream",
     "text": [
      "ixer"
     ]
    },
    {
     "name": "stdout",
     "output_type": "stream",
     "text": [
      ".top"
     ]
    },
    {
     "name": "stdout",
     "output_type": "stream",
     "text": [
      "ology"
     ]
    },
    {
     "name": "stdout",
     "output_type": "stream",
     "text": [
      ","
     ]
    },
    {
     "name": "stdout",
     "output_type": "stream",
     "text": [
      " system"
     ]
    },
    {
     "name": "stdout",
     "output_type": "stream",
     "text": [
      ","
     ]
    },
    {
     "name": "stdout",
     "output_type": "stream",
     "text": [
      " integr"
     ]
    },
    {
     "name": "stdout",
     "output_type": "stream",
     "text": [
      "ator"
     ]
    },
    {
     "name": "stdout",
     "output_type": "stream",
     "text": [
      ")\n"
     ]
    },
    {
     "name": "stdout",
     "output_type": "stream",
     "text": [
      "simulation"
     ]
    },
    {
     "name": "stdout",
     "output_type": "stream",
     "text": [
      ".context"
     ]
    },
    {
     "name": "stdout",
     "output_type": "stream",
     "text": [
      ".set"
     ]
    },
    {
     "name": "stdout",
     "output_type": "stream",
     "text": [
      "Positions"
     ]
    },
    {
     "name": "stdout",
     "output_type": "stream",
     "text": [
      "(f"
     ]
    },
    {
     "name": "stdout",
     "output_type": "stream",
     "text": [
      "ixer"
     ]
    },
    {
     "name": "stdout",
     "output_type": "stream",
     "text": [
      ".positions"
     ]
    },
    {
     "name": "stdout",
     "output_type": "stream",
     "text": [
      ")\n",
      "\n"
     ]
    },
    {
     "name": "stdout",
     "output_type": "stream",
     "text": [
      "#"
     ]
    },
    {
     "name": "stdout",
     "output_type": "stream",
     "text": [
      " Min"
     ]
    },
    {
     "name": "stdout",
     "output_type": "stream",
     "text": [
      "imize"
     ]
    },
    {
     "name": "stdout",
     "output_type": "stream",
     "text": [
      " energy"
     ]
    },
    {
     "name": "stdout",
     "output_type": "stream",
     "text": [
      "\n"
     ]
    },
    {
     "name": "stdout",
     "output_type": "stream",
     "text": [
      "simulation"
     ]
    },
    {
     "name": "stdout",
     "output_type": "stream",
     "text": [
      ".min"
     ]
    },
    {
     "name": "stdout",
     "output_type": "stream",
     "text": [
      "imize"
     ]
    },
    {
     "name": "stdout",
     "output_type": "stream",
     "text": [
      "Energy"
     ]
    },
    {
     "name": "stdout",
     "output_type": "stream",
     "text": [
      "()\n",
      "\n"
     ]
    },
    {
     "name": "stdout",
     "output_type": "stream",
     "text": [
      "#"
     ]
    },
    {
     "name": "stdout",
     "output_type": "stream",
     "text": [
      " Equ"
     ]
    },
    {
     "name": "stdout",
     "output_type": "stream",
     "text": [
      "ilibr"
     ]
    },
    {
     "name": "stdout",
     "output_type": "stream",
     "text": [
      "ate"
     ]
    },
    {
     "name": "stdout",
     "output_type": "stream",
     "text": [
      "\n"
     ]
    },
    {
     "name": "stdout",
     "output_type": "stream",
     "text": [
      "simulation"
     ]
    },
    {
     "name": "stdout",
     "output_type": "stream",
     "text": [
      ".context"
     ]
    },
    {
     "name": "stdout",
     "output_type": "stream",
     "text": [
      ".set"
     ]
    },
    {
     "name": "stdout",
     "output_type": "stream",
     "text": [
      "Vel"
     ]
    },
    {
     "name": "stdout",
     "output_type": "stream",
     "text": [
      "ocities"
     ]
    },
    {
     "name": "stdout",
     "output_type": "stream",
     "text": [
      "To"
     ]
    },
    {
     "name": "stdout",
     "output_type": "stream",
     "text": [
      "Temperature"
     ]
    },
    {
     "name": "stdout",
     "output_type": "stream",
     "text": [
      "("
     ]
    },
    {
     "name": "stdout",
     "output_type": "stream",
     "text": [
      "300"
     ]
    },
    {
     "name": "stdout",
     "output_type": "stream",
     "text": [
      "*"
     ]
    },
    {
     "name": "stdout",
     "output_type": "stream",
     "text": [
      "kel"
     ]
    },
    {
     "name": "stdout",
     "output_type": "stream",
     "text": [
      "vin"
     ]
    },
    {
     "name": "stdout",
     "output_type": "stream",
     "text": [
      ")\n"
     ]
    },
    {
     "name": "stdout",
     "output_type": "stream",
     "text": [
      "simulation"
     ]
    },
    {
     "name": "stdout",
     "output_type": "stream",
     "text": [
      ".step"
     ]
    },
    {
     "name": "stdout",
     "output_type": "stream",
     "text": [
      "("
     ]
    },
    {
     "name": "stdout",
     "output_type": "stream",
     "text": [
      "100"
     ]
    },
    {
     "name": "stdout",
     "output_type": "stream",
     "text": [
      "00"
     ]
    },
    {
     "name": "stdout",
     "output_type": "stream",
     "text": [
      ")"
     ]
    },
    {
     "name": "stdout",
     "output_type": "stream",
     "text": [
      " "
     ]
    },
    {
     "name": "stdout",
     "output_type": "stream",
     "text": [
      " #"
     ]
    },
    {
     "name": "stdout",
     "output_type": "stream",
     "text": [
      " "
     ]
    },
    {
     "name": "stdout",
     "output_type": "stream",
     "text": [
      "20"
     ]
    },
    {
     "name": "stdout",
     "output_type": "stream",
     "text": [
      " ps"
     ]
    },
    {
     "name": "stdout",
     "output_type": "stream",
     "text": [
      " equil"
     ]
    },
    {
     "name": "stdout",
     "output_type": "stream",
     "text": [
      "ibration"
     ]
    },
    {
     "name": "stdout",
     "output_type": "stream",
     "text": [
      "\n",
      "\n"
     ]
    },
    {
     "name": "stdout",
     "output_type": "stream",
     "text": [
      "#"
     ]
    },
    {
     "name": "stdout",
     "output_type": "stream",
     "text": [
      " Run"
     ]
    },
    {
     "name": "stdout",
     "output_type": "stream",
     "text": [
      " the"
     ]
    },
    {
     "name": "stdout",
     "output_type": "stream",
     "text": [
      " simulation"
     ]
    },
    {
     "name": "stdout",
     "output_type": "stream",
     "text": [
      " for"
     ]
    },
    {
     "name": "stdout",
     "output_type": "stream",
     "text": [
      " "
     ]
    },
    {
     "name": "stdout",
     "output_type": "stream",
     "text": [
      "1"
     ]
    },
    {
     "name": "stdout",
     "output_type": "stream",
     "text": [
      " ns"
     ]
    },
    {
     "name": "stdout",
     "output_type": "stream",
     "text": [
      "\n"
     ]
    },
    {
     "name": "stdout",
     "output_type": "stream",
     "text": [
      "simulation"
     ]
    },
    {
     "name": "stdout",
     "output_type": "stream",
     "text": [
      ".report"
     ]
    },
    {
     "name": "stdout",
     "output_type": "stream",
     "text": [
      "ers"
     ]
    },
    {
     "name": "stdout",
     "output_type": "stream",
     "text": [
      ".append"
     ]
    },
    {
     "name": "stdout",
     "output_type": "stream",
     "text": [
      "(State"
     ]
    },
    {
     "name": "stdout",
     "output_type": "stream",
     "text": [
      "Data"
     ]
    },
    {
     "name": "stdout",
     "output_type": "stream",
     "text": [
      "Reporter"
     ]
    },
    {
     "name": "stdout",
     "output_type": "stream",
     "text": [
      "('"
     ]
    },
    {
     "name": "stdout",
     "output_type": "stream",
     "text": [
      "output"
     ]
    },
    {
     "name": "stdout",
     "output_type": "stream",
     "text": [
      ".log"
     ]
    },
    {
     "name": "stdout",
     "output_type": "stream",
     "text": [
      "',"
     ]
    },
    {
     "name": "stdout",
     "output_type": "stream",
     "text": [
      " "
     ]
    },
    {
     "name": "stdout",
     "output_type": "stream",
     "text": [
      "100"
     ]
    },
    {
     "name": "stdout",
     "output_type": "stream",
     "text": [
      "0"
     ]
    },
    {
     "name": "stdout",
     "output_type": "stream",
     "text": [
      ","
     ]
    },
    {
     "name": "stdout",
     "output_type": "stream",
     "text": [
      " step"
     ]
    },
    {
     "name": "stdout",
     "output_type": "stream",
     "text": [
      "=True"
     ]
    },
    {
     "name": "stdout",
     "output_type": "stream",
     "text": [
      ","
     ]
    },
    {
     "name": "stdout",
     "output_type": "stream",
     "text": [
      " potential"
     ]
    },
    {
     "name": "stdout",
     "output_type": "stream",
     "text": [
      "Energy"
     ]
    },
    {
     "name": "stdout",
     "output_type": "stream",
     "text": [
      "=True"
     ]
    },
    {
     "name": "stdout",
     "output_type": "stream",
     "text": [
      ","
     ]
    },
    {
     "name": "stdout",
     "output_type": "stream",
     "text": [
      " temperature"
     ]
    },
    {
     "name": "stdout",
     "output_type": "stream",
     "text": [
      "=True"
     ]
    },
    {
     "name": "stdout",
     "output_type": "stream",
     "text": [
      "))\n"
     ]
    },
    {
     "name": "stdout",
     "output_type": "stream",
     "text": [
      "simulation"
     ]
    },
    {
     "name": "stdout",
     "output_type": "stream",
     "text": [
      ".report"
     ]
    },
    {
     "name": "stdout",
     "output_type": "stream",
     "text": [
      "ers"
     ]
    },
    {
     "name": "stdout",
     "output_type": "stream",
     "text": [
      ".append"
     ]
    },
    {
     "name": "stdout",
     "output_type": "stream",
     "text": [
      "(D"
     ]
    },
    {
     "name": "stdout",
     "output_type": "stream",
     "text": [
      "CD"
     ]
    },
    {
     "name": "stdout",
     "output_type": "stream",
     "text": [
      "Reporter"
     ]
    },
    {
     "name": "stdout",
     "output_type": "stream",
     "text": [
      "('"
     ]
    },
    {
     "name": "stdout",
     "output_type": "stream",
     "text": [
      "trajectory"
     ]
    },
    {
     "name": "stdout",
     "output_type": "stream",
     "text": [
      ".d"
     ]
    },
    {
     "name": "stdout",
     "output_type": "stream",
     "text": [
      "cd"
     ]
    },
    {
     "name": "stdout",
     "output_type": "stream",
     "text": [
      "',"
     ]
    },
    {
     "name": "stdout",
     "output_type": "stream",
     "text": [
      " "
     ]
    },
    {
     "name": "stdout",
     "output_type": "stream",
     "text": [
      "100"
     ]
    },
    {
     "name": "stdout",
     "output_type": "stream",
     "text": [
      "0"
     ]
    },
    {
     "name": "stdout",
     "output_type": "stream",
     "text": [
      "))\n"
     ]
    },
    {
     "name": "stdout",
     "output_type": "stream",
     "text": [
      "simulation"
     ]
    },
    {
     "name": "stdout",
     "output_type": "stream",
     "text": [
      ".step"
     ]
    },
    {
     "name": "stdout",
     "output_type": "stream",
     "text": [
      "("
     ]
    },
    {
     "name": "stdout",
     "output_type": "stream",
     "text": [
      "500"
     ]
    },
    {
     "name": "stdout",
     "output_type": "stream",
     "text": [
      "000"
     ]
    },
    {
     "name": "stdout",
     "output_type": "stream",
     "text": [
      ")"
     ]
    },
    {
     "name": "stdout",
     "output_type": "stream",
     "text": [
      " "
     ]
    },
    {
     "name": "stdout",
     "output_type": "stream",
     "text": [
      " #"
     ]
    },
    {
     "name": "stdout",
     "output_type": "stream",
     "text": [
      " "
     ]
    },
    {
     "name": "stdout",
     "output_type": "stream",
     "text": [
      "1"
     ]
    },
    {
     "name": "stdout",
     "output_type": "stream",
     "text": [
      " ns"
     ]
    },
    {
     "name": "stdout",
     "output_type": "stream",
     "text": [
      "\n",
      "\n"
     ]
    },
    {
     "name": "stdout",
     "output_type": "stream",
     "text": [
      "#"
     ]
    },
    {
     "name": "stdout",
     "output_type": "stream",
     "text": [
      " Step"
     ]
    },
    {
     "name": "stdout",
     "output_type": "stream",
     "text": [
      " "
     ]
    },
    {
     "name": "stdout",
     "output_type": "stream",
     "text": [
      "4"
     ]
    },
    {
     "name": "stdout",
     "output_type": "stream",
     "text": [
      ":"
     ]
    },
    {
     "name": "stdout",
     "output_type": "stream",
     "text": [
      " Analyze"
     ]
    },
    {
     "name": "stdout",
     "output_type": "stream",
     "text": [
      " the"
     ]
    },
    {
     "name": "stdout",
     "output_type": "stream",
     "text": [
      " trajectory"
     ]
    },
    {
     "name": "stdout",
     "output_type": "stream",
     "text": [
      " using"
     ]
    },
    {
     "name": "stdout",
     "output_type": "stream",
     "text": [
      " MDT"
     ]
    },
    {
     "name": "stdout",
     "output_type": "stream",
     "text": [
      "raj"
     ]
    },
    {
     "name": "stdout",
     "output_type": "stream",
     "text": [
      "\n"
     ]
    },
    {
     "name": "stdout",
     "output_type": "stream",
     "text": [
      "traj"
     ]
    },
    {
     "name": "stdout",
     "output_type": "stream",
     "text": [
      " ="
     ]
    },
    {
     "name": "stdout",
     "output_type": "stream",
     "text": [
      " md"
     ]
    },
    {
     "name": "stdout",
     "output_type": "stream",
     "text": [
      ".load"
     ]
    },
    {
     "name": "stdout",
     "output_type": "stream",
     "text": [
      "('"
     ]
    },
    {
     "name": "stdout",
     "output_type": "stream",
     "text": [
      "trajectory"
     ]
    },
    {
     "name": "stdout",
     "output_type": "stream",
     "text": [
      ".d"
     ]
    },
    {
     "name": "stdout",
     "output_type": "stream",
     "text": [
      "cd"
     ]
    },
    {
     "name": "stdout",
     "output_type": "stream",
     "text": [
      "',"
     ]
    },
    {
     "name": "stdout",
     "output_type": "stream",
     "text": [
      " top"
     ]
    },
    {
     "name": "stdout",
     "output_type": "stream",
     "text": [
      "="
     ]
    },
    {
     "name": "stdout",
     "output_type": "stream",
     "text": [
      "md"
     ]
    },
    {
     "name": "stdout",
     "output_type": "stream",
     "text": [
      ".Top"
     ]
    },
    {
     "name": "stdout",
     "output_type": "stream",
     "text": [
      "ology"
     ]
    },
    {
     "name": "stdout",
     "output_type": "stream",
     "text": [
      ".from"
     ]
    },
    {
     "name": "stdout",
     "output_type": "stream",
     "text": [
      "_open"
     ]
    },
    {
     "name": "stdout",
     "output_type": "stream",
     "text": [
      "mm"
     ]
    },
    {
     "name": "stdout",
     "output_type": "stream",
     "text": [
      "(f"
     ]
    },
    {
     "name": "stdout",
     "output_type": "stream",
     "text": [
      "ixer"
     ]
    },
    {
     "name": "stdout",
     "output_type": "stream",
     "text": [
      ".top"
     ]
    },
    {
     "name": "stdout",
     "output_type": "stream",
     "text": [
      "ology"
     ]
    },
    {
     "name": "stdout",
     "output_type": "stream",
     "text": [
      "))\n",
      "\n"
     ]
    },
    {
     "name": "stdout",
     "output_type": "stream",
     "text": [
      "#"
     ]
    },
    {
     "name": "stdout",
     "output_type": "stream",
     "text": [
      " Compute"
     ]
    },
    {
     "name": "stdout",
     "output_type": "stream",
     "text": [
      " SAS"
     ]
    },
    {
     "name": "stdout",
     "output_type": "stream",
     "text": [
      "A"
     ]
    },
    {
     "name": "stdout",
     "output_type": "stream",
     "text": [
      "\n"
     ]
    },
    {
     "name": "stdout",
     "output_type": "stream",
     "text": [
      "s"
     ]
    },
    {
     "name": "stdout",
     "output_type": "stream",
     "text": [
      "asa"
     ]
    },
    {
     "name": "stdout",
     "output_type": "stream",
     "text": [
      " ="
     ]
    },
    {
     "name": "stdout",
     "output_type": "stream",
     "text": [
      " md"
     ]
    },
    {
     "name": "stdout",
     "output_type": "stream",
     "text": [
      ".s"
     ]
    },
    {
     "name": "stdout",
     "output_type": "stream",
     "text": [
      "hr"
     ]
    },
    {
     "name": "stdout",
     "output_type": "stream",
     "text": [
      "ake"
     ]
    },
    {
     "name": "stdout",
     "output_type": "stream",
     "text": [
      "_ru"
     ]
    },
    {
     "name": "stdout",
     "output_type": "stream",
     "text": [
      "ple"
     ]
    },
    {
     "name": "stdout",
     "output_type": "stream",
     "text": [
      "y"
     ]
    },
    {
     "name": "stdout",
     "output_type": "stream",
     "text": [
      "(tr"
     ]
    },
    {
     "name": "stdout",
     "output_type": "stream",
     "text": [
      "aj"
     ]
    },
    {
     "name": "stdout",
     "output_type": "stream",
     "text": [
      ")\n",
      "\n"
     ]
    },
    {
     "name": "stdout",
     "output_type": "stream",
     "text": [
      "#"
     ]
    },
    {
     "name": "stdout",
     "output_type": "stream",
     "text": [
      " Compute"
     ]
    },
    {
     "name": "stdout",
     "output_type": "stream",
     "text": [
      " RMS"
     ]
    },
    {
     "name": "stdout",
     "output_type": "stream",
     "text": [
      "F"
     ]
    },
    {
     "name": "stdout",
     "output_type": "stream",
     "text": [
      "\n"
     ]
    },
    {
     "name": "stdout",
     "output_type": "stream",
     "text": [
      "r"
     ]
    },
    {
     "name": "stdout",
     "output_type": "stream",
     "text": [
      "ms"
     ]
    },
    {
     "name": "stdout",
     "output_type": "stream",
     "text": [
      "f"
     ]
    },
    {
     "name": "stdout",
     "output_type": "stream",
     "text": [
      " ="
     ]
    },
    {
     "name": "stdout",
     "output_type": "stream",
     "text": [
      " md"
     ]
    },
    {
     "name": "stdout",
     "output_type": "stream",
     "text": [
      ".r"
     ]
    },
    {
     "name": "stdout",
     "output_type": "stream",
     "text": [
      "ms"
     ]
    },
    {
     "name": "stdout",
     "output_type": "stream",
     "text": [
      "f"
     ]
    },
    {
     "name": "stdout",
     "output_type": "stream",
     "text": [
      "(tr"
     ]
    },
    {
     "name": "stdout",
     "output_type": "stream",
     "text": [
      "aj"
     ]
    },
    {
     "name": "stdout",
     "output_type": "stream",
     "text": [
      ","
     ]
    },
    {
     "name": "stdout",
     "output_type": "stream",
     "text": [
      " traj"
     ]
    },
    {
     "name": "stdout",
     "output_type": "stream",
     "text": [
      "["
     ]
    },
    {
     "name": "stdout",
     "output_type": "stream",
     "text": [
      "0"
     ]
    },
    {
     "name": "stdout",
     "output_type": "stream",
     "text": [
      "])\n",
      "\n"
     ]
    },
    {
     "name": "stdout",
     "output_type": "stream",
     "text": [
      "#"
     ]
    },
    {
     "name": "stdout",
     "output_type": "stream",
     "text": [
      " Compute"
     ]
    },
    {
     "name": "stdout",
     "output_type": "stream",
     "text": [
      " radius"
     ]
    },
    {
     "name": "stdout",
     "output_type": "stream",
     "text": [
      " of"
     ]
    },
    {
     "name": "stdout",
     "output_type": "stream",
     "text": [
      " gyr"
     ]
    },
    {
     "name": "stdout",
     "output_type": "stream",
     "text": [
      "ation"
     ]
    },
    {
     "name": "stdout",
     "output_type": "stream",
     "text": [
      "\n"
     ]
    },
    {
     "name": "stdout",
     "output_type": "stream",
     "text": [
      "radius"
     ]
    },
    {
     "name": "stdout",
     "output_type": "stream",
     "text": [
      "_of"
     ]
    },
    {
     "name": "stdout",
     "output_type": "stream",
     "text": [
      "_g"
     ]
    },
    {
     "name": "stdout",
     "output_type": "stream",
     "text": [
      "yr"
     ]
    },
    {
     "name": "stdout",
     "output_type": "stream",
     "text": [
      "ation"
     ]
    },
    {
     "name": "stdout",
     "output_type": "stream",
     "text": [
      " ="
     ]
    },
    {
     "name": "stdout",
     "output_type": "stream",
     "text": [
      " md"
     ]
    },
    {
     "name": "stdout",
     "output_type": "stream",
     "text": [
      ".compute"
     ]
    },
    {
     "name": "stdout",
     "output_type": "stream",
     "text": [
      "_rg"
     ]
    },
    {
     "name": "stdout",
     "output_type": "stream",
     "text": [
      "(tr"
     ]
    },
    {
     "name": "stdout",
     "output_type": "stream",
     "text": [
      "aj"
     ]
    },
    {
     "name": "stdout",
     "output_type": "stream",
     "text": [
      ")\n",
      "\n"
     ]
    },
    {
     "name": "stdout",
     "output_type": "stream",
     "text": [
      "#"
     ]
    },
    {
     "name": "stdout",
     "output_type": "stream",
     "text": [
      " Step"
     ]
    },
    {
     "name": "stdout",
     "output_type": "stream",
     "text": [
      " "
     ]
    },
    {
     "name": "stdout",
     "output_type": "stream",
     "text": [
      "5"
     ]
    },
    {
     "name": "stdout",
     "output_type": "stream",
     "text": [
      ":"
     ]
    },
    {
     "name": "stdout",
     "output_type": "stream",
     "text": [
      " Retrieve"
     ]
    },
    {
     "name": "stdout",
     "output_type": "stream",
     "text": [
      " the"
     ]
    },
    {
     "name": "stdout",
     "output_type": "stream",
     "text": [
      " sub"
     ]
    },
    {
     "name": "stdout",
     "output_type": "stream",
     "text": [
      "unit"
     ]
    },
    {
     "name": "stdout",
     "output_type": "stream",
     "text": [
      " structure"
     ]
    },
    {
     "name": "stdout",
     "output_type": "stream",
     "text": [
      ","
     ]
    },
    {
     "name": "stdout",
     "output_type": "stream",
     "text": [
      " sequence"
     ]
    },
    {
     "name": "stdout",
     "output_type": "stream",
     "text": [
      ","
     ]
    },
    {
     "name": "stdout",
     "output_type": "stream",
     "text": [
      " active"
     ]
    },
    {
     "name": "stdout",
     "output_type": "stream",
     "text": [
      " and"
     ]
    },
    {
     "name": "stdout",
     "output_type": "stream",
     "text": [
      " binding"
     ]
    },
    {
     "name": "stdout",
     "output_type": "stream",
     "text": [
      " sites"
     ]
    },
    {
     "name": "stdout",
     "output_type": "stream",
     "text": [
      " from"
     ]
    },
    {
     "name": "stdout",
     "output_type": "stream",
     "text": [
      " Uni"
     ]
    },
    {
     "name": "stdout",
     "output_type": "stream",
     "text": [
      "Prot"
     ]
    },
    {
     "name": "stdout",
     "output_type": "stream",
     "text": [
      "\n"
     ]
    },
    {
     "name": "stdout",
     "output_type": "stream",
     "text": [
      "un"
     ]
    },
    {
     "name": "stdout",
     "output_type": "stream",
     "text": [
      "ip"
     ]
    },
    {
     "name": "stdout",
     "output_type": "stream",
     "text": [
      "rot"
     ]
    },
    {
     "name": "stdout",
     "output_type": "stream",
     "text": [
      "_id"
     ]
    },
    {
     "name": "stdout",
     "output_type": "stream",
     "text": [
      " ="
     ]
    },
    {
     "name": "stdout",
     "output_type": "stream",
     "text": [
      " \""
     ]
    },
    {
     "name": "stdout",
     "output_type": "stream",
     "text": [
      "P"
     ]
    },
    {
     "name": "stdout",
     "output_type": "stream",
     "text": [
      "007"
     ]
    },
    {
     "name": "stdout",
     "output_type": "stream",
     "text": [
      "60"
     ]
    },
    {
     "name": "stdout",
     "output_type": "stream",
     "text": [
      "\""
     ]
    },
    {
     "name": "stdout",
     "output_type": "stream",
     "text": [
      " "
     ]
    },
    {
     "name": "stdout",
     "output_type": "stream",
     "text": [
      " #"
     ]
    },
    {
     "name": "stdout",
     "output_type": "stream",
     "text": [
      " Uni"
     ]
    },
    {
     "name": "stdout",
     "output_type": "stream",
     "text": [
      "Prot"
     ]
    },
    {
     "name": "stdout",
     "output_type": "stream",
     "text": [
      " ID"
     ]
    },
    {
     "name": "stdout",
     "output_type": "stream",
     "text": [
      " for"
     ]
    },
    {
     "name": "stdout",
     "output_type": "stream",
     "text": [
      " try"
     ]
    },
    {
     "name": "stdout",
     "output_type": "stream",
     "text": [
      "ps"
     ]
    },
    {
     "name": "stdout",
     "output_type": "stream",
     "text": [
      "in"
     ]
    },
    {
     "name": "stdout",
     "output_type": "stream",
     "text": [
      "\n"
     ]
    },
    {
     "name": "stdout",
     "output_type": "stream",
     "text": [
      "un"
     ]
    },
    {
     "name": "stdout",
     "output_type": "stream",
     "text": [
      "ip"
     ]
    },
    {
     "name": "stdout",
     "output_type": "stream",
     "text": [
      "rot"
     ]
    },
    {
     "name": "stdout",
     "output_type": "stream",
     "text": [
      "_url"
     ]
    },
    {
     "name": "stdout",
     "output_type": "stream",
     "text": [
      " ="
     ]
    },
    {
     "name": "stdout",
     "output_type": "stream",
     "text": [
      " f"
     ]
    },
    {
     "name": "stdout",
     "output_type": "stream",
     "text": [
      "\"https"
     ]
    },
    {
     "name": "stdout",
     "output_type": "stream",
     "text": [
      "://"
     ]
    },
    {
     "name": "stdout",
     "output_type": "stream",
     "text": [
      "www"
     ]
    },
    {
     "name": "stdout",
     "output_type": "stream",
     "text": [
      ".un"
     ]
    },
    {
     "name": "stdout",
     "output_type": "stream",
     "text": [
      "ip"
     ]
    },
    {
     "name": "stdout",
     "output_type": "stream",
     "text": [
      "rot"
     ]
    },
    {
     "name": "stdout",
     "output_type": "stream",
     "text": [
      ".org"
     ]
    },
    {
     "name": "stdout",
     "output_type": "stream",
     "text": [
      "/un"
     ]
    },
    {
     "name": "stdout",
     "output_type": "stream",
     "text": [
      "ip"
     ]
    },
    {
     "name": "stdout",
     "output_type": "stream",
     "text": [
      "rot"
     ]
    },
    {
     "name": "stdout",
     "output_type": "stream",
     "text": [
      "/{"
     ]
    },
    {
     "name": "stdout",
     "output_type": "stream",
     "text": [
      "un"
     ]
    },
    {
     "name": "stdout",
     "output_type": "stream",
     "text": [
      "ip"
     ]
    },
    {
     "name": "stdout",
     "output_type": "stream",
     "text": [
      "rot"
     ]
    },
    {
     "name": "stdout",
     "output_type": "stream",
     "text": [
      "_id"
     ]
    },
    {
     "name": "stdout",
     "output_type": "stream",
     "text": [
      "}."
     ]
    },
    {
     "name": "stdout",
     "output_type": "stream",
     "text": [
      "txt"
     ]
    },
    {
     "name": "stdout",
     "output_type": "stream",
     "text": [
      "\"\n"
     ]
    },
    {
     "name": "stdout",
     "output_type": "stream",
     "text": [
      "un"
     ]
    },
    {
     "name": "stdout",
     "output_type": "stream",
     "text": [
      "ip"
     ]
    },
    {
     "name": "stdout",
     "output_type": "stream",
     "text": [
      "rot"
     ]
    },
    {
     "name": "stdout",
     "output_type": "stream",
     "text": [
      "_response"
     ]
    },
    {
     "name": "stdout",
     "output_type": "stream",
     "text": [
      " ="
     ]
    },
    {
     "name": "stdout",
     "output_type": "stream",
     "text": [
      " requests"
     ]
    },
    {
     "name": "stdout",
     "output_type": "stream",
     "text": [
      ".get"
     ]
    },
    {
     "name": "stdout",
     "output_type": "stream",
     "text": [
      "(un"
     ]
    },
    {
     "name": "stdout",
     "output_type": "stream",
     "text": [
      "ip"
     ]
    },
    {
     "name": "stdout",
     "output_type": "stream",
     "text": [
      "rot"
     ]
    },
    {
     "name": "stdout",
     "output_type": "stream",
     "text": [
      "_url"
     ]
    },
    {
     "name": "stdout",
     "output_type": "stream",
     "text": [
      ")\n"
     ]
    },
    {
     "name": "stdout",
     "output_type": "stream",
     "text": [
      "un"
     ]
    },
    {
     "name": "stdout",
     "output_type": "stream",
     "text": [
      "ip"
     ]
    },
    {
     "name": "stdout",
     "output_type": "stream",
     "text": [
      "rot"
     ]
    },
    {
     "name": "stdout",
     "output_type": "stream",
     "text": [
      "_data"
     ]
    },
    {
     "name": "stdout",
     "output_type": "stream",
     "text": [
      " ="
     ]
    },
    {
     "name": "stdout",
     "output_type": "stream",
     "text": [
      " un"
     ]
    },
    {
     "name": "stdout",
     "output_type": "stream",
     "text": [
      "ip"
     ]
    },
    {
     "name": "stdout",
     "output_type": "stream",
     "text": [
      "rot"
     ]
    },
    {
     "name": "stdout",
     "output_type": "stream",
     "text": [
      "_response"
     ]
    },
    {
     "name": "stdout",
     "output_type": "stream",
     "text": [
      ".text"
     ]
    },
    {
     "name": "stdout",
     "output_type": "stream",
     "text": [
      "\n",
      "\n"
     ]
    },
    {
     "name": "stdout",
     "output_type": "stream",
     "text": [
      "#"
     ]
    },
    {
     "name": "stdout",
     "output_type": "stream",
     "text": [
      " Parse"
     ]
    },
    {
     "name": "stdout",
     "output_type": "stream",
     "text": [
      " Uni"
     ]
    },
    {
     "name": "stdout",
     "output_type": "stream",
     "text": [
      "Prot"
     ]
    },
    {
     "name": "stdout",
     "output_type": "stream",
     "text": [
      " data"
     ]
    },
    {
     "name": "stdout",
     "output_type": "stream",
     "text": [
      "\n"
     ]
    },
    {
     "name": "stdout",
     "output_type": "stream",
     "text": [
      "sub"
     ]
    },
    {
     "name": "stdout",
     "output_type": "stream",
     "text": [
      "unit"
     ]
    },
    {
     "name": "stdout",
     "output_type": "stream",
     "text": [
      "_structure"
     ]
    },
    {
     "name": "stdout",
     "output_type": "stream",
     "text": [
      " ="
     ]
    },
    {
     "name": "stdout",
     "output_type": "stream",
     "text": [
      " []\n"
     ]
    },
    {
     "name": "stdout",
     "output_type": "stream",
     "text": [
      "sequence"
     ]
    },
    {
     "name": "stdout",
     "output_type": "stream",
     "text": [
      " ="
     ]
    },
    {
     "name": "stdout",
     "output_type": "stream",
     "text": [
      " \"\"\n"
     ]
    },
    {
     "name": "stdout",
     "output_type": "stream",
     "text": [
      "active"
     ]
    },
    {
     "name": "stdout",
     "output_type": "stream",
     "text": [
      "_sites"
     ]
    },
    {
     "name": "stdout",
     "output_type": "stream",
     "text": [
      " ="
     ]
    },
    {
     "name": "stdout",
     "output_type": "stream",
     "text": [
      " []\n"
     ]
    },
    {
     "name": "stdout",
     "output_type": "stream",
     "text": [
      "binding"
     ]
    },
    {
     "name": "stdout",
     "output_type": "stream",
     "text": [
      "_sites"
     ]
    },
    {
     "name": "stdout",
     "output_type": "stream",
     "text": [
      " ="
     ]
    },
    {
     "name": "stdout",
     "output_type": "stream",
     "text": [
      " []\n",
      "\n"
     ]
    },
    {
     "name": "stdout",
     "output_type": "stream",
     "text": [
      "for"
     ]
    },
    {
     "name": "stdout",
     "output_type": "stream",
     "text": [
      " line"
     ]
    },
    {
     "name": "stdout",
     "output_type": "stream",
     "text": [
      " in"
     ]
    },
    {
     "name": "stdout",
     "output_type": "stream",
     "text": [
      " un"
     ]
    },
    {
     "name": "stdout",
     "output_type": "stream",
     "text": [
      "ip"
     ]
    },
    {
     "name": "stdout",
     "output_type": "stream",
     "text": [
      "rot"
     ]
    },
    {
     "name": "stdout",
     "output_type": "stream",
     "text": [
      "_data"
     ]
    },
    {
     "name": "stdout",
     "output_type": "stream",
     "text": [
      ".split"
     ]
    },
    {
     "name": "stdout",
     "output_type": "stream",
     "text": [
      "lines"
     ]
    },
    {
     "name": "stdout",
     "output_type": "stream",
     "text": [
      "():\n"
     ]
    },
    {
     "name": "stdout",
     "output_type": "stream",
     "text": [
      "   "
     ]
    },
    {
     "name": "stdout",
     "output_type": "stream",
     "text": [
      " if"
     ]
    },
    {
     "name": "stdout",
     "output_type": "stream",
     "text": [
      " line"
     ]
    },
    {
     "name": "stdout",
     "output_type": "stream",
     "text": [
      ".startswith"
     ]
    },
    {
     "name": "stdout",
     "output_type": "stream",
     "text": [
      "(\""
     ]
    },
    {
     "name": "stdout",
     "output_type": "stream",
     "text": [
      "SQ"
     ]
    },
    {
     "name": "stdout",
     "output_type": "stream",
     "text": [
      "\"):\n"
     ]
    },
    {
     "name": "stdout",
     "output_type": "stream",
     "text": [
      "       "
     ]
    },
    {
     "name": "stdout",
     "output_type": "stream",
     "text": [
      " sequence"
     ]
    },
    {
     "name": "stdout",
     "output_type": "stream",
     "text": [
      " ="
     ]
    },
    {
     "name": "stdout",
     "output_type": "stream",
     "text": [
      " line"
     ]
    },
    {
     "name": "stdout",
     "output_type": "stream",
     "text": [
      ".split"
     ]
    },
    {
     "name": "stdout",
     "output_type": "stream",
     "text": [
      "()["
     ]
    },
    {
     "name": "stdout",
     "output_type": "stream",
     "text": [
      "1"
     ]
    },
    {
     "name": "stdout",
     "output_type": "stream",
     "text": [
      "]\n"
     ]
    },
    {
     "name": "stdout",
     "output_type": "stream",
     "text": [
      "   "
     ]
    },
    {
     "name": "stdout",
     "output_type": "stream",
     "text": [
      " elif"
     ]
    },
    {
     "name": "stdout",
     "output_type": "stream",
     "text": [
      " line"
     ]
    },
    {
     "name": "stdout",
     "output_type": "stream",
     "text": [
      ".startswith"
     ]
    },
    {
     "name": "stdout",
     "output_type": "stream",
     "text": [
      "(\""
     ]
    },
    {
     "name": "stdout",
     "output_type": "stream",
     "text": [
      "FT"
     ]
    },
    {
     "name": "stdout",
     "output_type": "stream",
     "text": [
      "  "
     ]
    },
    {
     "name": "stdout",
     "output_type": "stream",
     "text": [
      " ACT"
     ]
    },
    {
     "name": "stdout",
     "output_type": "stream",
     "text": [
      "_SITE"
     ]
    },
    {
     "name": "stdout",
     "output_type": "stream",
     "text": [
      "\"):\n"
     ]
    },
    {
     "name": "stdout",
     "output_type": "stream",
     "text": [
      "       "
     ]
    },
    {
     "name": "stdout",
     "output_type": "stream",
     "text": [
      " active"
     ]
    },
    {
     "name": "stdout",
     "output_type": "stream",
     "text": [
      "_sites"
     ]
    },
    {
     "name": "stdout",
     "output_type": "stream",
     "text": [
      ".append"
     ]
    },
    {
     "name": "stdout",
     "output_type": "stream",
     "text": [
      "(line"
     ]
    },
    {
     "name": "stdout",
     "output_type": "stream",
     "text": [
      ".split"
     ]
    },
    {
     "name": "stdout",
     "output_type": "stream",
     "text": [
      "()["
     ]
    },
    {
     "name": "stdout",
     "output_type": "stream",
     "text": [
      "2"
     ]
    },
    {
     "name": "stdout",
     "output_type": "stream",
     "text": [
      ":])\n"
     ]
    },
    {
     "name": "stdout",
     "output_type": "stream",
     "text": [
      "   "
     ]
    },
    {
     "name": "stdout",
     "output_type": "stream",
     "text": [
      " elif"
     ]
    },
    {
     "name": "stdout",
     "output_type": "stream",
     "text": [
      " line"
     ]
    },
    {
     "name": "stdout",
     "output_type": "stream",
     "text": [
      ".startswith"
     ]
    },
    {
     "name": "stdout",
     "output_type": "stream",
     "text": [
      "(\""
     ]
    },
    {
     "name": "stdout",
     "output_type": "stream",
     "text": [
      "FT"
     ]
    },
    {
     "name": "stdout",
     "output_type": "stream",
     "text": [
      "  "
     ]
    },
    {
     "name": "stdout",
     "output_type": "stream",
     "text": [
      " B"
     ]
    },
    {
     "name": "stdout",
     "output_type": "stream",
     "text": [
      "IND"
     ]
    },
    {
     "name": "stdout",
     "output_type": "stream",
     "text": [
      "ING"
     ]
    },
    {
     "name": "stdout",
     "output_type": "stream",
     "text": [
      "\"):\n"
     ]
    },
    {
     "name": "stdout",
     "output_type": "stream",
     "text": [
      "       "
     ]
    },
    {
     "name": "stdout",
     "output_type": "stream",
     "text": [
      " binding"
     ]
    },
    {
     "name": "stdout",
     "output_type": "stream",
     "text": [
      "_sites"
     ]
    },
    {
     "name": "stdout",
     "output_type": "stream",
     "text": [
      ".append"
     ]
    },
    {
     "name": "stdout",
     "output_type": "stream",
     "text": [
      "(line"
     ]
    },
    {
     "name": "stdout",
     "output_type": "stream",
     "text": [
      ".split"
     ]
    },
    {
     "name": "stdout",
     "output_type": "stream",
     "text": [
      "()["
     ]
    },
    {
     "name": "stdout",
     "output_type": "stream",
     "text": [
      "2"
     ]
    },
    {
     "name": "stdout",
     "output_type": "stream",
     "text": [
      ":])\n"
     ]
    },
    {
     "name": "stdout",
     "output_type": "stream",
     "text": [
      "   "
     ]
    },
    {
     "name": "stdout",
     "output_type": "stream",
     "text": [
      " elif"
     ]
    },
    {
     "name": "stdout",
     "output_type": "stream",
     "text": [
      " line"
     ]
    },
    {
     "name": "stdout",
     "output_type": "stream",
     "text": [
      ".startswith"
     ]
    },
    {
     "name": "stdout",
     "output_type": "stream",
     "text": [
      "(\""
     ]
    },
    {
     "name": "stdout",
     "output_type": "stream",
     "text": [
      "CC"
     ]
    },
    {
     "name": "stdout",
     "output_type": "stream",
     "text": [
      "  "
     ]
    },
    {
     "name": "stdout",
     "output_type": "stream",
     "text": [
      " -"
     ]
    },
    {
     "name": "stdout",
     "output_type": "stream",
     "text": [
      "!-"
     ]
    },
    {
     "name": "stdout",
     "output_type": "stream",
     "text": [
      " SUB"
     ]
    },
    {
     "name": "stdout",
     "output_type": "stream",
     "text": [
      "UNIT"
     ]
    },
    {
     "name": "stdout",
     "output_type": "stream",
     "text": [
      ":"
     ]
    },
    {
     "name": "stdout",
     "output_type": "stream",
     "text": [
      "\"):\n"
     ]
    },
    {
     "name": "stdout",
     "output_type": "stream",
     "text": [
      "       "
     ]
    },
    {
     "name": "stdout",
     "output_type": "stream",
     "text": [
      " sub"
     ]
    },
    {
     "name": "stdout",
     "output_type": "stream",
     "text": [
      "unit"
     ]
    },
    {
     "name": "stdout",
     "output_type": "stream",
     "text": [
      "_structure"
     ]
    },
    {
     "name": "stdout",
     "output_type": "stream",
     "text": [
      ".append"
     ]
    },
    {
     "name": "stdout",
     "output_type": "stream",
     "text": [
      "(line"
     ]
    },
    {
     "name": "stdout",
     "output_type": "stream",
     "text": [
      "["
     ]
    },
    {
     "name": "stdout",
     "output_type": "stream",
     "text": [
      "13"
     ]
    },
    {
     "name": "stdout",
     "output_type": "stream",
     "text": [
      ":"
     ]
    },
    {
     "name": "stdout",
     "output_type": "stream",
     "text": [
      "])\n",
      "\n"
     ]
    },
    {
     "name": "stdout",
     "output_type": "stream",
     "text": [
      "#"
     ]
    },
    {
     "name": "stdout",
     "output_type": "stream",
     "text": [
      " Step"
     ]
    },
    {
     "name": "stdout",
     "output_type": "stream",
     "text": [
      " "
     ]
    },
    {
     "name": "stdout",
     "output_type": "stream",
     "text": [
      "6"
     ]
    },
    {
     "name": "stdout",
     "output_type": "stream",
     "text": [
      ":"
     ]
    },
    {
     "name": "stdout",
     "output_type": "stream",
     "text": [
      " Plot"
     ]
    },
    {
     "name": "stdout",
     "output_type": "stream",
     "text": [
      " the"
     ]
    },
    {
     "name": "stdout",
     "output_type": "stream",
     "text": [
      " energy"
     ]
    },
    {
     "name": "stdout",
     "output_type": "stream",
     "text": [
      " over"
     ]
    },
    {
     "name": "stdout",
     "output_type": "stream",
     "text": [
      " time"
     ]
    },
    {
     "name": "stdout",
     "output_type": "stream",
     "text": [
      "\n"
     ]
    },
    {
     "name": "stdout",
     "output_type": "stream",
     "text": [
      "import"
     ]
    },
    {
     "name": "stdout",
     "output_type": "stream",
     "text": [
      " pandas"
     ]
    },
    {
     "name": "stdout",
     "output_type": "stream",
     "text": [
      " as"
     ]
    },
    {
     "name": "stdout",
     "output_type": "stream",
     "text": [
      " pd"
     ]
    },
    {
     "name": "stdout",
     "output_type": "stream",
     "text": [
      "\n",
      "\n"
     ]
    },
    {
     "name": "stdout",
     "output_type": "stream",
     "text": [
      "log"
     ]
    },
    {
     "name": "stdout",
     "output_type": "stream",
     "text": [
      "_data"
     ]
    },
    {
     "name": "stdout",
     "output_type": "stream",
     "text": [
      " ="
     ]
    },
    {
     "name": "stdout",
     "output_type": "stream",
     "text": [
      " pd"
     ]
    },
    {
     "name": "stdout",
     "output_type": "stream",
     "text": [
      ".read"
     ]
    },
    {
     "name": "stdout",
     "output_type": "stream",
     "text": [
      "_csv"
     ]
    },
    {
     "name": "stdout",
     "output_type": "stream",
     "text": [
      "('"
     ]
    },
    {
     "name": "stdout",
     "output_type": "stream",
     "text": [
      "output"
     ]
    },
    {
     "name": "stdout",
     "output_type": "stream",
     "text": [
      ".log"
     ]
    },
    {
     "name": "stdout",
     "output_type": "stream",
     "text": [
      "',"
     ]
    },
    {
     "name": "stdout",
     "output_type": "stream",
     "text": [
      " delim"
     ]
    },
    {
     "name": "stdout",
     "output_type": "stream",
     "text": [
      "_wh"
     ]
    },
    {
     "name": "stdout",
     "output_type": "stream",
     "text": [
      "itespace"
     ]
    },
    {
     "name": "stdout",
     "output_type": "stream",
     "text": [
      "=True"
     ]
    },
    {
     "name": "stdout",
     "output_type": "stream",
     "text": [
      ","
     ]
    },
    {
     "name": "stdout",
     "output_type": "stream",
     "text": [
      " comment"
     ]
    },
    {
     "name": "stdout",
     "output_type": "stream",
     "text": [
      "='#"
     ]
    },
    {
     "name": "stdout",
     "output_type": "stream",
     "text": [
      "')\n"
     ]
    },
    {
     "name": "stdout",
     "output_type": "stream",
     "text": [
      "plt"
     ]
    },
    {
     "name": "stdout",
     "output_type": "stream",
     "text": [
      ".figure"
     ]
    },
    {
     "name": "stdout",
     "output_type": "stream",
     "text": [
      "(figsize"
     ]
    },
    {
     "name": "stdout",
     "output_type": "stream",
     "text": [
      "=("
     ]
    },
    {
     "name": "stdout",
     "output_type": "stream",
     "text": [
      "10"
     ]
    },
    {
     "name": "stdout",
     "output_type": "stream",
     "text": [
      ","
     ]
    },
    {
     "name": "stdout",
     "output_type": "stream",
     "text": [
      " "
     ]
    },
    {
     "name": "stdout",
     "output_type": "stream",
     "text": [
      "6"
     ]
    },
    {
     "name": "stdout",
     "output_type": "stream",
     "text": [
      "))\n"
     ]
    },
    {
     "name": "stdout",
     "output_type": "stream",
     "text": [
      "plt"
     ]
    },
    {
     "name": "stdout",
     "output_type": "stream",
     "text": [
      ".plot"
     ]
    },
    {
     "name": "stdout",
     "output_type": "stream",
     "text": [
      "(log"
     ]
    },
    {
     "name": "stdout",
     "output_type": "stream",
     "text": [
      "_data"
     ]
    },
    {
     "name": "stdout",
     "output_type": "stream",
     "text": [
      "['"
     ]
    },
    {
     "name": "stdout",
     "output_type": "stream",
     "text": [
      "#\""
     ]
    },
    {
     "name": "stdout",
     "output_type": "stream",
     "text": [
      "Step"
     ]
    },
    {
     "name": "stdout",
     "output_type": "stream",
     "text": [
      "'],"
     ]
    },
    {
     "name": "stdout",
     "output_type": "stream",
     "text": [
      " log"
     ]
    },
    {
     "name": "stdout",
     "output_type": "stream",
     "text": [
      "_data"
     ]
    },
    {
     "name": "stdout",
     "output_type": "stream",
     "text": [
      "['"
     ]
    },
    {
     "name": "stdout",
     "output_type": "stream",
     "text": [
      "Potential"
     ]
    },
    {
     "name": "stdout",
     "output_type": "stream",
     "text": [
      "Energy"
     ]
    },
    {
     "name": "stdout",
     "output_type": "stream",
     "text": [
      "'],"
     ]
    },
    {
     "name": "stdout",
     "output_type": "stream",
     "text": [
      " label"
     ]
    },
    {
     "name": "stdout",
     "output_type": "stream",
     "text": [
      "='"
     ]
    },
    {
     "name": "stdout",
     "output_type": "stream",
     "text": [
      "Potential"
     ]
    },
    {
     "name": "stdout",
     "output_type": "stream",
     "text": [
      " Energy"
     ]
    },
    {
     "name": "stdout",
     "output_type": "stream",
     "text": [
      "')\n"
     ]
    },
    {
     "name": "stdout",
     "output_type": "stream",
     "text": [
      "plt"
     ]
    },
    {
     "name": "stdout",
     "output_type": "stream",
     "text": [
      ".xlabel"
     ]
    },
    {
     "name": "stdout",
     "output_type": "stream",
     "text": [
      "('"
     ]
    },
    {
     "name": "stdout",
     "output_type": "stream",
     "text": [
      "Step"
     ]
    },
    {
     "name": "stdout",
     "output_type": "stream",
     "text": [
      "')\n"
     ]
    },
    {
     "name": "stdout",
     "output_type": "stream",
     "text": [
      "plt"
     ]
    },
    {
     "name": "stdout",
     "output_type": "stream",
     "text": [
      ".ylabel"
     ]
    },
    {
     "name": "stdout",
     "output_type": "stream",
     "text": [
      "('"
     ]
    },
    {
     "name": "stdout",
     "output_type": "stream",
     "text": [
      "Energy"
     ]
    },
    {
     "name": "stdout",
     "output_type": "stream",
     "text": [
      " ("
     ]
    },
    {
     "name": "stdout",
     "output_type": "stream",
     "text": [
      "k"
     ]
    },
    {
     "name": "stdout",
     "output_type": "stream",
     "text": [
      "J"
     ]
    },
    {
     "name": "stdout",
     "output_type": "stream",
     "text": [
      "/mol"
     ]
    },
    {
     "name": "stdout",
     "output_type": "stream",
     "text": [
      ")')\n"
     ]
    },
    {
     "name": "stdout",
     "output_type": "stream",
     "text": [
      "plt"
     ]
    },
    {
     "name": "stdout",
     "output_type": "stream",
     "text": [
      ".title"
     ]
    },
    {
     "name": "stdout",
     "output_type": "stream",
     "text": [
      "('"
     ]
    },
    {
     "name": "stdout",
     "output_type": "stream",
     "text": [
      "Energy"
     ]
    },
    {
     "name": "stdout",
     "output_type": "stream",
     "text": [
      " over"
     ]
    },
    {
     "name": "stdout",
     "output_type": "stream",
     "text": [
      " Time"
     ]
    },
    {
     "name": "stdout",
     "output_type": "stream",
     "text": [
      "')\n"
     ]
    },
    {
     "name": "stdout",
     "output_type": "stream",
     "text": [
      "plt"
     ]
    },
    {
     "name": "stdout",
     "output_type": "stream",
     "text": [
      ".legend"
     ]
    },
    {
     "name": "stdout",
     "output_type": "stream",
     "text": [
      "()\n"
     ]
    },
    {
     "name": "stdout",
     "output_type": "stream",
     "text": [
      "plt"
     ]
    },
    {
     "name": "stdout",
     "output_type": "stream",
     "text": [
      ".show"
     ]
    },
    {
     "name": "stdout",
     "output_type": "stream",
     "text": [
      "()\n",
      "\n"
     ]
    },
    {
     "name": "stdout",
     "output_type": "stream",
     "text": [
      "#"
     ]
    },
    {
     "name": "stdout",
     "output_type": "stream",
     "text": [
      " Print"
     ]
    },
    {
     "name": "stdout",
     "output_type": "stream",
     "text": [
      " results"
     ]
    },
    {
     "name": "stdout",
     "output_type": "stream",
     "text": [
      "\n"
     ]
    },
    {
     "name": "stdout",
     "output_type": "stream",
     "text": [
      "print"
     ]
    },
    {
     "name": "stdout",
     "output_type": "stream",
     "text": [
      "(\""
     ]
    },
    {
     "name": "stdout",
     "output_type": "stream",
     "text": [
      "Sub"
     ]
    },
    {
     "name": "stdout",
     "output_type": "stream",
     "text": [
      "unit"
     ]
    },
    {
     "name": "stdout",
     "output_type": "stream",
     "text": [
      " Structure"
     ]
    },
    {
     "name": "stdout",
     "output_type": "stream",
     "text": [
      ":\","
     ]
    },
    {
     "name": "stdout",
     "output_type": "stream",
     "text": [
      " sub"
     ]
    },
    {
     "name": "stdout",
     "output_type": "stream",
     "text": [
      "unit"
     ]
    },
    {
     "name": "stdout",
     "output_type": "stream",
     "text": [
      "_structure"
     ]
    },
    {
     "name": "stdout",
     "output_type": "stream",
     "text": [
      ")\n"
     ]
    },
    {
     "name": "stdout",
     "output_type": "stream",
     "text": [
      "print"
     ]
    },
    {
     "name": "stdout",
     "output_type": "stream",
     "text": [
      "(\""
     ]
    },
    {
     "name": "stdout",
     "output_type": "stream",
     "text": [
      "Sequence"
     ]
    },
    {
     "name": "stdout",
     "output_type": "stream",
     "text": [
      ":\","
     ]
    },
    {
     "name": "stdout",
     "output_type": "stream",
     "text": [
      " sequence"
     ]
    },
    {
     "name": "stdout",
     "output_type": "stream",
     "text": [
      ")\n"
     ]
    },
    {
     "name": "stdout",
     "output_type": "stream",
     "text": [
      "print"
     ]
    },
    {
     "name": "stdout",
     "output_type": "stream",
     "text": [
      "(\""
     ]
    },
    {
     "name": "stdout",
     "output_type": "stream",
     "text": [
      "Active"
     ]
    },
    {
     "name": "stdout",
     "output_type": "stream",
     "text": [
      " Sites"
     ]
    },
    {
     "name": "stdout",
     "output_type": "stream",
     "text": [
      ":\","
     ]
    },
    {
     "name": "stdout",
     "output_type": "stream",
     "text": [
      " active"
     ]
    },
    {
     "name": "stdout",
     "output_type": "stream",
     "text": [
      "_sites"
     ]
    },
    {
     "name": "stdout",
     "output_type": "stream",
     "text": [
      ")\n"
     ]
    },
    {
     "name": "stdout",
     "output_type": "stream",
     "text": [
      "print"
     ]
    },
    {
     "name": "stdout",
     "output_type": "stream",
     "text": [
      "(\""
     ]
    },
    {
     "name": "stdout",
     "output_type": "stream",
     "text": [
      "Binding"
     ]
    },
    {
     "name": "stdout",
     "output_type": "stream",
     "text": [
      " Sites"
     ]
    },
    {
     "name": "stdout",
     "output_type": "stream",
     "text": [
      ":\","
     ]
    },
    {
     "name": "stdout",
     "output_type": "stream",
     "text": [
      " binding"
     ]
    },
    {
     "name": "stdout",
     "output_type": "stream",
     "text": [
      "_sites"
     ]
    },
    {
     "name": "stdout",
     "output_type": "stream",
     "text": [
      ")\n"
     ]
    },
    {
     "name": "stdout",
     "output_type": "stream",
     "text": [
      "print"
     ]
    },
    {
     "name": "stdout",
     "output_type": "stream",
     "text": [
      "(\""
     ]
    },
    {
     "name": "stdout",
     "output_type": "stream",
     "text": [
      "S"
     ]
    },
    {
     "name": "stdout",
     "output_type": "stream",
     "text": [
      "ASA"
     ]
    },
    {
     "name": "stdout",
     "output_type": "stream",
     "text": [
      ":\","
     ]
    },
    {
     "name": "stdout",
     "output_type": "stream",
     "text": [
      " sasa"
     ]
    },
    {
     "name": "stdout",
     "output_type": "stream",
     "text": [
      ")\n"
     ]
    },
    {
     "name": "stdout",
     "output_type": "stream",
     "text": [
      "print"
     ]
    },
    {
     "name": "stdout",
     "output_type": "stream",
     "text": [
      "(\""
     ]
    },
    {
     "name": "stdout",
     "output_type": "stream",
     "text": [
      "R"
     ]
    },
    {
     "name": "stdout",
     "output_type": "stream",
     "text": [
      "MS"
     ]
    },
    {
     "name": "stdout",
     "output_type": "stream",
     "text": [
      "F"
     ]
    },
    {
     "name": "stdout",
     "output_type": "stream",
     "text": [
      ":\","
     ]
    },
    {
     "name": "stdout",
     "output_type": "stream",
     "text": [
      " rms"
     ]
    },
    {
     "name": "stdout",
     "output_type": "stream",
     "text": [
      "f"
     ]
    },
    {
     "name": "stdout",
     "output_type": "stream",
     "text": [
      ")\n"
     ]
    },
    {
     "name": "stdout",
     "output_type": "stream",
     "text": [
      "print"
     ]
    },
    {
     "name": "stdout",
     "output_type": "stream",
     "text": [
      "(\""
     ]
    },
    {
     "name": "stdout",
     "output_type": "stream",
     "text": [
      "Radius"
     ]
    },
    {
     "name": "stdout",
     "output_type": "stream",
     "text": [
      " of"
     ]
    },
    {
     "name": "stdout",
     "output_type": "stream",
     "text": [
      " G"
     ]
    },
    {
     "name": "stdout",
     "output_type": "stream",
     "text": [
      "yr"
     ]
    },
    {
     "name": "stdout",
     "output_type": "stream",
     "text": [
      "ation"
     ]
    },
    {
     "name": "stdout",
     "output_type": "stream",
     "text": [
      ":\","
     ]
    },
    {
     "name": "stdout",
     "output_type": "stream",
     "text": [
      " radius"
     ]
    },
    {
     "name": "stdout",
     "output_type": "stream",
     "text": [
      "_of"
     ]
    },
    {
     "name": "stdout",
     "output_type": "stream",
     "text": [
      "_g"
     ]
    },
    {
     "name": "stdout",
     "output_type": "stream",
     "text": [
      "yr"
     ]
    },
    {
     "name": "stdout",
     "output_type": "stream",
     "text": [
      "ation"
     ]
    },
    {
     "name": "stdout",
     "output_type": "stream",
     "text": [
      ")\n"
     ]
    },
    {
     "name": "stdout",
     "output_type": "stream",
     "text": [
      "``"
     ]
    },
    {
     "name": "stdout",
     "output_type": "stream",
     "text": [
      "`\n",
      "\n"
     ]
    },
    {
     "name": "stdout",
     "output_type": "stream",
     "text": [
      "This"
     ]
    },
    {
     "name": "stdout",
     "output_type": "stream",
     "text": [
      " script"
     ]
    },
    {
     "name": "stdout",
     "output_type": "stream",
     "text": [
      " will"
     ]
    },
    {
     "name": "stdout",
     "output_type": "stream",
     "text": [
      " perform"
     ]
    },
    {
     "name": "stdout",
     "output_type": "stream",
     "text": [
      " the"
     ]
    },
    {
     "name": "stdout",
     "output_type": "stream",
     "text": [
      " simulation"
     ]
    },
    {
     "name": "stdout",
     "output_type": "stream",
     "text": [
      " and"
     ]
    },
    {
     "name": "stdout",
     "output_type": "stream",
     "text": [
      " analysis"
     ]
    },
    {
     "name": "stdout",
     "output_type": "stream",
     "text": [
      " as"
     ]
    },
    {
     "name": "stdout",
     "output_type": "stream",
     "text": [
      " requested"
     ]
    },
    {
     "name": "stdout",
     "output_type": "stream",
     "text": [
      "."
     ]
    },
    {
     "name": "stdout",
     "output_type": "stream",
     "text": [
      " Make"
     ]
    },
    {
     "name": "stdout",
     "output_type": "stream",
     "text": [
      " sure"
     ]
    },
    {
     "name": "stdout",
     "output_type": "stream",
     "text": [
      " you"
     ]
    },
    {
     "name": "stdout",
     "output_type": "stream",
     "text": [
      " have"
     ]
    },
    {
     "name": "stdout",
     "output_type": "stream",
     "text": [
      " the"
     ]
    },
    {
     "name": "stdout",
     "output_type": "stream",
     "text": [
      " necessary"
     ]
    },
    {
     "name": "stdout",
     "output_type": "stream",
     "text": [
      " Python"
     ]
    },
    {
     "name": "stdout",
     "output_type": "stream",
     "text": [
      " packages"
     ]
    },
    {
     "name": "stdout",
     "output_type": "stream",
     "text": [
      " installed"
     ]
    },
    {
     "name": "stdout",
     "output_type": "stream",
     "text": [
      " (`"
     ]
    },
    {
     "name": "stdout",
     "output_type": "stream",
     "text": [
      "requests"
     ]
    },
    {
     "name": "stdout",
     "output_type": "stream",
     "text": [
      "`,"
     ]
    },
    {
     "name": "stdout",
     "output_type": "stream",
     "text": [
      " `"
     ]
    },
    {
     "name": "stdout",
     "output_type": "stream",
     "text": [
      "p"
     ]
    },
    {
     "name": "stdout",
     "output_type": "stream",
     "text": [
      "db"
     ]
    },
    {
     "name": "stdout",
     "output_type": "stream",
     "text": [
      "fix"
     ]
    },
    {
     "name": "stdout",
     "output_type": "stream",
     "text": [
      "er"
     ]
    },
    {
     "name": "stdout",
     "output_type": "stream",
     "text": [
      "`,"
     ]
    },
    {
     "name": "stdout",
     "output_type": "stream",
     "text": [
      " `"
     ]
    },
    {
     "name": "stdout",
     "output_type": "stream",
     "text": [
      "open"
     ]
    },
    {
     "name": "stdout",
     "output_type": "stream",
     "text": [
      "mm"
     ]
    },
    {
     "name": "stdout",
     "output_type": "stream",
     "text": [
      "`,"
     ]
    },
    {
     "name": "stdout",
     "output_type": "stream",
     "text": [
      " `"
     ]
    },
    {
     "name": "stdout",
     "output_type": "stream",
     "text": [
      "md"
     ]
    },
    {
     "name": "stdout",
     "output_type": "stream",
     "text": [
      "traj"
     ]
    },
    {
     "name": "stdout",
     "output_type": "stream",
     "text": [
      "`,"
     ]
    },
    {
     "name": "stdout",
     "output_type": "stream",
     "text": [
      " `"
     ]
    },
    {
     "name": "stdout",
     "output_type": "stream",
     "text": [
      "mat"
     ]
    },
    {
     "name": "stdout",
     "output_type": "stream",
     "text": [
      "plotlib"
     ]
    },
    {
     "name": "stdout",
     "output_type": "stream",
     "text": [
      "`,"
     ]
    },
    {
     "name": "stdout",
     "output_type": "stream",
     "text": [
      " and"
     ]
    },
    {
     "name": "stdout",
     "output_type": "stream",
     "text": [
      " `"
     ]
    },
    {
     "name": "stdout",
     "output_type": "stream",
     "text": [
      "p"
     ]
    },
    {
     "name": "stdout",
     "output_type": "stream",
     "text": [
      "andas"
     ]
    },
    {
     "name": "stdout",
     "output_type": "stream",
     "text": [
      "`)"
     ]
    },
    {
     "name": "stdout",
     "output_type": "stream",
     "text": [
      " to"
     ]
    },
    {
     "name": "stdout",
     "output_type": "stream",
     "text": [
      " run"
     ]
    },
    {
     "name": "stdout",
     "output_type": "stream",
     "text": [
      " this"
     ]
    },
    {
     "name": "stdout",
     "output_type": "stream",
     "text": [
      " script"
     ]
    },
    {
     "name": "stdout",
     "output_type": "stream",
     "text": [
      "."
     ]
    },
    {
     "name": "stdout",
     "output_type": "stream",
     "text": [
      "To accomplish this task, we will follow these steps:\n",
      "\n",
      "1. Download the PDB file for trypsin (PDB ID: 1TRN).\n",
      "2. Preprocess the PDB file using PDBFixer to add missing atoms and residues.\n",
      "3. Set up and run a molecular dynamics simulation using OpenMM for 1 ns at 300 K.\n",
      "4. Analyze the trajectory to compute Solvent Accessible Surface Area (SASA), Root Mean Square Fluctuation (RMSF), and radius of gyration using MDTraj.\n",
      "5. Retrieve the subunit structure, sequence, active and binding sites from the UniProt database.\n",
      "6. Plot the energy over time.\n",
      "\n",
      "Here's the complete Python script to perform these tasks:\n",
      "\n",
      "```python\n",
      "import requests\n",
      "from pdbfixer import PDBFixer\n",
      "from openmm.app import *\n",
      "from openmm import *\n",
      "from openmm.unit import *\n",
      "import mdtraj as md\n",
      "import matplotlib.pyplot as plt\n",
      "from io import StringIO\n",
      "\n",
      "# Step 1: Download the PDB file for trypsin (1TRN)\n",
      "pdb_id = \"1TRN\"\n",
      "url = f\"https://files.rcsb.org/download/{pdb_id}.pdb\"\n",
      "response = requests.get(url)\n",
      "pdb_data = response.text\n",
      "\n",
      "# Step 2: Preprocess the PDB file using PDBFixer\n",
      "fixer = PDBFixer(pdbfile=StringIO(pdb_data))\n",
      "fixer.findMissingResidues()\n",
      "fixer.findMissingAtoms()\n",
      "fixer.addMissingAtoms()\n",
      "fixer.addMissingHydrogens()\n",
      "\n",
      "# Step 3: Set up and run a molecular dynamics simulation using OpenMM\n",
      "forcefield = ForceField('amber14-all.xml', 'amber14/tip3p.xml')\n",
      "system = forcefield.createSystem(fixer.topology, nonbondedMethod=PME, nonbondedCutoff=1*nanometer, constraints=HBonds)\n",
      "integrator = LangevinIntegrator(300*kelvin, 1/picosecond, 0.002*picoseconds)\n",
      "simulation = Simulation(fixer.topology, system, integrator)\n",
      "simulation.context.setPositions(fixer.positions)\n",
      "\n",
      "# Minimize energy\n",
      "simulation.minimizeEnergy()\n",
      "\n",
      "# Equilibrate\n",
      "simulation.context.setVelocitiesToTemperature(300*kelvin)\n",
      "simulation.step(10000)  # 20 ps equilibration\n",
      "\n",
      "# Run the simulation for 1 ns\n",
      "simulation.reporters.append(StateDataReporter('output.log', 1000, step=True, potentialEnergy=True, temperature=True))\n",
      "simulation.reporters.append(DCDReporter('trajectory.dcd', 1000))\n",
      "simulation.step(500000)  # 1 ns\n",
      "\n",
      "# Step 4: Analyze the trajectory using MDTraj\n",
      "traj = md.load('trajectory.dcd', top=md.Topology.from_openmm(fixer.topology))\n",
      "\n",
      "# Compute SASA\n",
      "sasa = md.shrake_rupley(traj)\n",
      "\n",
      "# Compute RMSF\n",
      "rmsf = md.rmsf(traj, traj[0])\n",
      "\n",
      "# Compute radius of gyration\n",
      "radius_of_gyration = md.compute_rg(traj)\n",
      "\n",
      "# Step 5: Retrieve the subunit structure, sequence, active and binding sites from UniProt\n",
      "uniprot_id = \"P00760\"  # UniProt ID for trypsin\n",
      "uniprot_url = f\"https://www.uniprot.org/uniprot/{uniprot_id}.txt\"\n",
      "uniprot_response = requests.get(uniprot_url)\n",
      "uniprot_data = uniprot_response.text\n",
      "\n",
      "# Parse UniProt data\n",
      "subunit_structure = []\n",
      "sequence = \"\"\n",
      "active_sites = []\n",
      "binding_sites = []\n",
      "\n",
      "for line in uniprot_data.splitlines():\n",
      "    if line.startswith(\"SQ\"):\n",
      "        sequence = line.split()[1]\n",
      "    elif line.startswith(\"FT   ACT_SITE\"):\n",
      "        active_sites.append(line.split()[2:])\n",
      "    elif line.startswith(\"FT   BINDING\"):\n",
      "        binding_sites.append(line.split()[2:])\n",
      "    elif line.startswith(\"CC   -!- SUBUNIT:\"):\n",
      "        subunit_structure.append(line[13:])\n",
      "\n",
      "# Step 6: Plot the energy over time\n",
      "import pandas as pd\n",
      "\n",
      "log_data = pd.read_csv('output.log', delim_whitespace=True, comment='#')\n",
      "plt.figure(figsize=(10, 6))\n",
      "plt.plot(log_data['#\"Step'], log_data['PotentialEnergy'], label='Potential Energy')\n",
      "plt.xlabel('Step')\n",
      "plt.ylabel('Energy (kJ/mol)')\n",
      "plt.title('Energy over Time')\n",
      "plt.legend()\n",
      "plt.show()\n",
      "\n",
      "# Print results\n",
      "print(\"Subunit Structure:\", subunit_structure)\n",
      "print(\"Sequence:\", sequence)\n",
      "print(\"Active Sites:\", active_sites)\n",
      "print(\"Binding Sites:\", binding_sites)\n",
      "print(\"SASA:\", sasa)\n",
      "print(\"RMSF:\", rmsf)\n",
      "print(\"Radius of Gyration:\", radius_of_gyration)\n",
      "```\n",
      "\n",
      "This script will perform the simulation and analysis as requested. Make sure you have the necessary Python packages installed (`requests`, `pdbfixer`, `openmm`, `mdtraj`, `matplotlib`, and `pandas`) to run this script.\n"
     ]
    }
   ],
   "source": [
    "ai_msg = llm.invoke(messages)\n",
    "print(ai_msg.content)"
   ]
  },
  {
   "cell_type": "code",
   "execution_count": 6,
   "id": "ff0fb577-e1f4-4c3d-bd06-89badfca9f64",
   "metadata": {
    "execution": {
     "iopub.execute_input": "2024-10-17T00:46:31.347891Z",
     "iopub.status.busy": "2024-10-17T00:46:31.347564Z",
     "iopub.status.idle": "2024-10-17T00:46:31.354533Z",
     "shell.execute_reply": "2024-10-17T00:46:31.353807Z"
    },
    "papermill": {
     "duration": 0.090354,
     "end_time": "2024-10-17T00:46:31.356732",
     "exception": false,
     "start_time": "2024-10-17T00:46:31.266378",
     "status": "completed"
    },
    "tags": []
   },
   "outputs": [
    {
     "name": "stdout",
     "output_type": "stream",
     "text": [
      "date: 2024-10-16\n",
      "time: 20:46:31\n"
     ]
    }
   ],
   "source": [
    "now = datetime.datetime.now()\n",
    "date = now.strftime(\"%Y-%m-%d\")\n",
    "print(\"date:\",date)\n",
    "time = now.strftime(\"%H:%M:%S\")\n",
    "print(\"time:\",time)"
   ]
  },
  {
   "cell_type": "code",
   "execution_count": 1,
   "id": "afe3fd42-cc3f-4510-a59c-5e16f10513ce",
   "metadata": {
    "scrolled": true
   },
   "outputs": [
    {
     "ename": "ValueError",
     "evalue": "No template found for residue 131 (PTR).  The set of atoms is similar to DC, but it is missing 14 atoms.  For more information, see https://github.com/openmm/openmm/wiki/Frequently-Asked-Questions#template",
     "output_type": "error",
     "traceback": [
      "\u001b[0;31m---------------------------------------------------------------------------\u001b[0m",
      "\u001b[0;31mValueError\u001b[0m                                Traceback (most recent call last)",
      "Cell \u001b[0;32mIn[1], line 27\u001b[0m\n\u001b[1;32m     25\u001b[0m \u001b[38;5;66;03m# Step 3: Set up and run a molecular dynamics simulation using OpenMM\u001b[39;00m\n\u001b[1;32m     26\u001b[0m forcefield \u001b[38;5;241m=\u001b[39m ForceField(\u001b[38;5;124m'\u001b[39m\u001b[38;5;124mamber14-all.xml\u001b[39m\u001b[38;5;124m'\u001b[39m, \u001b[38;5;124m'\u001b[39m\u001b[38;5;124mamber14/tip3p.xml\u001b[39m\u001b[38;5;124m'\u001b[39m)\n\u001b[0;32m---> 27\u001b[0m system \u001b[38;5;241m=\u001b[39m \u001b[43mforcefield\u001b[49m\u001b[38;5;241;43m.\u001b[39;49m\u001b[43mcreateSystem\u001b[49m\u001b[43m(\u001b[49m\u001b[43mfixer\u001b[49m\u001b[38;5;241;43m.\u001b[39;49m\u001b[43mtopology\u001b[49m\u001b[43m,\u001b[49m\u001b[43m \u001b[49m\u001b[43mnonbondedMethod\u001b[49m\u001b[38;5;241;43m=\u001b[39;49m\u001b[43mPME\u001b[49m\u001b[43m,\u001b[49m\u001b[43m \u001b[49m\u001b[43mnonbondedCutoff\u001b[49m\u001b[38;5;241;43m=\u001b[39;49m\u001b[38;5;241;43m1\u001b[39;49m\u001b[38;5;241;43m*\u001b[39;49m\u001b[43mnanometer\u001b[49m\u001b[43m,\u001b[49m\u001b[43m \u001b[49m\u001b[43mconstraints\u001b[49m\u001b[38;5;241;43m=\u001b[39;49m\u001b[43mHBonds\u001b[49m\u001b[43m)\u001b[49m\n\u001b[1;32m     28\u001b[0m integrator \u001b[38;5;241m=\u001b[39m LangevinIntegrator(\u001b[38;5;241m300\u001b[39m\u001b[38;5;241m*\u001b[39mkelvin, \u001b[38;5;241m1\u001b[39m\u001b[38;5;241m/\u001b[39mpicosecond, \u001b[38;5;241m0.002\u001b[39m\u001b[38;5;241m*\u001b[39mpicoseconds)\n\u001b[1;32m     29\u001b[0m simulation \u001b[38;5;241m=\u001b[39m Simulation(fixer\u001b[38;5;241m.\u001b[39mtopology, system, integrator)\n",
      "File \u001b[0;32m/scratch/qcampbe2/myenvs/mdcrow/lib/python3.12/site-packages/openmm/app/forcefield.py:1247\u001b[0m, in \u001b[0;36mForceField.createSystem\u001b[0;34m(self, topology, nonbondedMethod, nonbondedCutoff, constraints, rigidWater, removeCMMotion, hydrogenMass, residueTemplates, ignoreExternalBonds, switchDistance, flexibleConstraints, drudeMass, **args)\u001b[0m\n\u001b[1;32m   1243\u001b[0m rigidResidue \u001b[38;5;241m=\u001b[39m [\u001b[38;5;28;01mFalse\u001b[39;00m]\u001b[38;5;241m*\u001b[39mtopology\u001b[38;5;241m.\u001b[39mgetNumResidues()\n\u001b[1;32m   1245\u001b[0m \u001b[38;5;66;03m# Find the template matching each residue and assign atom types.\u001b[39;00m\n\u001b[0;32m-> 1247\u001b[0m templateForResidue \u001b[38;5;241m=\u001b[39m \u001b[38;5;28;43mself\u001b[39;49m\u001b[38;5;241;43m.\u001b[39;49m\u001b[43m_matchAllResiduesToTemplates\u001b[49m\u001b[43m(\u001b[49m\u001b[43mdata\u001b[49m\u001b[43m,\u001b[49m\u001b[43m \u001b[49m\u001b[43mtopology\u001b[49m\u001b[43m,\u001b[49m\u001b[43m \u001b[49m\u001b[43mresidueTemplates\u001b[49m\u001b[43m,\u001b[49m\u001b[43m \u001b[49m\u001b[43mignoreExternalBonds\u001b[49m\u001b[43m)\u001b[49m\n\u001b[1;32m   1248\u001b[0m \u001b[38;5;28;01mfor\u001b[39;00m res \u001b[38;5;129;01min\u001b[39;00m topology\u001b[38;5;241m.\u001b[39mresidues():\n\u001b[1;32m   1249\u001b[0m     \u001b[38;5;28;01mif\u001b[39;00m res\u001b[38;5;241m.\u001b[39mname \u001b[38;5;241m==\u001b[39m \u001b[38;5;124m'\u001b[39m\u001b[38;5;124mHOH\u001b[39m\u001b[38;5;124m'\u001b[39m:\n\u001b[1;32m   1250\u001b[0m         \u001b[38;5;66;03m# Determine whether this should be a rigid water.\u001b[39;00m\n",
      "File \u001b[0;32m/scratch/qcampbe2/myenvs/mdcrow/lib/python3.12/site-packages/openmm/app/forcefield.py:1462\u001b[0m, in \u001b[0;36mForceField._matchAllResiduesToTemplates\u001b[0;34m(self, data, topology, residueTemplates, ignoreExternalBonds, ignoreExtraParticles, recordParameters)\u001b[0m\n\u001b[1;32m   1460\u001b[0m                 \u001b[38;5;28;01mbreak\u001b[39;00m\n\u001b[1;32m   1461\u001b[0m \u001b[38;5;28;01mif\u001b[39;00m matches \u001b[38;5;129;01mis\u001b[39;00m \u001b[38;5;28;01mNone\u001b[39;00m:\n\u001b[0;32m-> 1462\u001b[0m     \u001b[38;5;28;01mraise\u001b[39;00m \u001b[38;5;167;01mValueError\u001b[39;00m(\u001b[38;5;124m'\u001b[39m\u001b[38;5;124mNo template found for residue \u001b[39m\u001b[38;5;132;01m%d\u001b[39;00m\u001b[38;5;124m (\u001b[39m\u001b[38;5;132;01m%s\u001b[39;00m\u001b[38;5;124m).  \u001b[39m\u001b[38;5;132;01m%s\u001b[39;00m\u001b[38;5;124m  For more information, see https://github.com/openmm/openmm/wiki/Frequently-Asked-Questions#template\u001b[39m\u001b[38;5;124m'\u001b[39m \u001b[38;5;241m%\u001b[39m (res\u001b[38;5;241m.\u001b[39mindex\u001b[38;5;241m+\u001b[39m\u001b[38;5;241m1\u001b[39m, res\u001b[38;5;241m.\u001b[39mname, _findMatchErrors(\u001b[38;5;28mself\u001b[39m, res)))\n\u001b[1;32m   1463\u001b[0m \u001b[38;5;28;01melse\u001b[39;00m:\n\u001b[1;32m   1464\u001b[0m     \u001b[38;5;28;01mif\u001b[39;00m recordParameters:\n",
      "\u001b[0;31mValueError\u001b[0m: No template found for residue 131 (PTR).  The set of atoms is similar to DC, but it is missing 14 atoms.  For more information, see https://github.com/openmm/openmm/wiki/Frequently-Asked-Questions#template"
     ]
    }
   ],
   "source": [
    "# TEST THE CODE \n",
    "\n",
    "import requests\n",
    "from pdbfixer import PDBFixer\n",
    "from openmm.app import *\n",
    "from openmm import *\n",
    "from openmm.unit import *\n",
    "import mdtraj as md\n",
    "import matplotlib.pyplot as plt\n",
    "from io import StringIO\n",
    "\n",
    "# Step 1: Download the PDB file for trypsin (1TRN)\n",
    "pdb_id = \"1TRN\"\n",
    "url = f\"https://files.rcsb.org/download/{pdb_id}.pdb\"\n",
    "response = requests.get(url)\n",
    "pdb_data = response.text\n",
    "\n",
    "# Step 2: Preprocess the PDB file using PDBFixer\n",
    "fixer = PDBFixer(pdbfile=StringIO(pdb_data))\n",
    "fixer.findMissingResidues()\n",
    "fixer.findMissingAtoms()\n",
    "fixer.addMissingAtoms()\n",
    "fixer.addMissingHydrogens()\n",
    "\n",
    "# Step 3: Set up and run a molecular dynamics simulation using OpenMM\n",
    "forcefield = ForceField('amber14-all.xml', 'amber14/tip3p.xml')\n",
    "system = forcefield.createSystem(fixer.topology, nonbondedMethod=PME, nonbondedCutoff=1*nanometer, constraints=HBonds)\n",
    "integrator = LangevinIntegrator(300*kelvin, 1/picosecond, 0.002*picoseconds)\n",
    "simulation = Simulation(fixer.topology, system, integrator)\n",
    "simulation.context.setPositions(fixer.positions)\n",
    "\n",
    "# Minimize energy\n",
    "simulation.minimizeEnergy()\n",
    "\n",
    "# Equilibrate\n",
    "simulation.context.setVelocitiesToTemperature(300*kelvin)\n",
    "simulation.step(10000)  # 20 ps equilibration\n",
    "\n",
    "# Run the simulation for 1 ns\n",
    "simulation.reporters.append(StateDataReporter('output.log', 1000, step=True, potentialEnergy=True, temperature=True))\n",
    "simulation.reporters.append(DCDReporter('trajectory.dcd', 1000))\n",
    "simulation.step(500000)  # 1 ns\n",
    "\n",
    "# Step 4: Analyze the trajectory using MDTraj\n",
    "traj = md.load('trajectory.dcd', top=md.Topology.from_openmm(fixer.topology))\n",
    "\n",
    "# Compute SASA\n",
    "sasa = md.shrake_rupley(traj)\n",
    "\n",
    "# Compute RMSF\n",
    "rmsf = md.rmsf(traj, traj[0])\n",
    "\n",
    "# Compute radius of gyration\n",
    "radius_of_gyration = md.compute_rg(traj)\n",
    "\n",
    "# Step 5: Retrieve the subunit structure, sequence, active and binding sites from UniProt\n",
    "uniprot_id = \"P00760\"  # UniProt ID for trypsin\n",
    "uniprot_url = f\"https://www.uniprot.org/uniprot/{uniprot_id}.txt\"\n",
    "uniprot_response = requests.get(uniprot_url)\n",
    "uniprot_data = uniprot_response.text\n",
    "\n",
    "# Parse UniProt data\n",
    "subunit_structure = []\n",
    "sequence = \"\"\n",
    "active_sites = []\n",
    "binding_sites = []\n",
    "\n",
    "for line in uniprot_data.splitlines():\n",
    "    if line.startswith(\"SQ\"):\n",
    "        sequence = line.split()[1]\n",
    "    elif line.startswith(\"FT   ACT_SITE\"):\n",
    "        active_sites.append(line.split()[2:])\n",
    "    elif line.startswith(\"FT   BINDING\"):\n",
    "        binding_sites.append(line.split()[2:])\n",
    "    elif line.startswith(\"CC   -!- SUBUNIT:\"):\n",
    "        subunit_structure.append(line[13:])\n",
    "\n",
    "# Step 6: Plot the energy over time\n",
    "import pandas as pd\n",
    "\n",
    "log_data = pd.read_csv('output.log', delim_whitespace=True, comment='#')\n",
    "plt.figure(figsize=(10, 6))\n",
    "plt.plot(log_data['#\"Step'], log_data['PotentialEnergy'], label='Potential Energy')\n",
    "plt.xlabel('Step')\n",
    "plt.ylabel('Energy (kJ/mol)')\n",
    "plt.title('Energy over Time')\n",
    "plt.legend()\n",
    "plt.show()\n",
    "\n",
    "# Print results\n",
    "print(\"Subunit Structure:\", subunit_structure)\n",
    "print(\"Sequence:\", sequence)\n",
    "print(\"Active Sites:\", active_sites)\n",
    "print(\"Binding Sites:\", binding_sites)\n",
    "print(\"SASA:\", sasa)\n",
    "print(\"RMSF:\", rmsf)\n",
    "print(\"Radius of Gyration:\", radius_of_gyration)\n"
   ]
  },
  {
   "cell_type": "code",
   "execution_count": 1,
   "id": "e13f6490-9958-4e47-a7bd-ff868ededca6",
   "metadata": {},
   "outputs": [
    {
     "name": "stdout",
     "output_type": "stream",
     "text": [
      "exp_15.ipynb\n"
     ]
    }
   ],
   "source": [
    "!ls"
   ]
  }
 ],
 "metadata": {
  "kernelspec": {
   "display_name": "mdcrow",
   "language": "python",
   "name": "mdcrow"
  },
  "language_info": {
   "codemirror_mode": {
    "name": "ipython",
    "version": 3
   },
   "file_extension": ".py",
   "mimetype": "text/x-python",
   "name": "python",
   "nbconvert_exporter": "python",
   "pygments_lexer": "ipython3",
   "version": "3.12.4"
  },
  "papermill": {
   "default_parameters": {},
   "duration": 23.272988,
   "end_time": "2024-10-17T00:46:32.479897",
   "environment_variables": {},
   "exception": null,
   "input_path": "exp_template.ipynb",
   "output_path": "exp_15/exp_15.ipynb",
   "parameters": {
    "prompt": "Simulate trypsin (1TRN) for 1 ns at 300 K and plot energy over time. Compute SASA, RMSF, and radius of gyration. Get the subunit structure, sequence, active and binding sites."
   },
   "start_time": "2024-10-17T00:46:09.206909",
   "version": "2.6.0"
  }
 },
 "nbformat": 4,
 "nbformat_minor": 5
}
