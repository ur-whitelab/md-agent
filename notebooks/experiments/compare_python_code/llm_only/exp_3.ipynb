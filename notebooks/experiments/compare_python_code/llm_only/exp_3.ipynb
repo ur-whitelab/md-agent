{
 "cells": [
  {
   "cell_type": "code",
   "execution_count": 1,
   "id": "728398b3-6a40-4157-a0ef-1b8f7a96fd58",
   "metadata": {
    "execution": {
     "iopub.execute_input": "2024-10-17T00:41:22.114373Z",
     "iopub.status.busy": "2024-10-17T00:41:22.114034Z",
     "iopub.status.idle": "2024-10-17T00:41:29.458489Z",
     "shell.execute_reply": "2024-10-17T00:41:29.457735Z"
    },
    "papermill": {
     "duration": 7.351127,
     "end_time": "2024-10-17T00:41:29.460841",
     "exception": false,
     "start_time": "2024-10-17T00:41:22.109714",
     "status": "completed"
    },
    "tags": []
   },
   "outputs": [],
   "source": [
    "import datetime\n",
    "from mdcrow.utils import _make_llm"
   ]
  },
  {
   "cell_type": "code",
   "execution_count": 2,
   "id": "1a8988df-6cb9-4903-86a6-edfcaa6461d1",
   "metadata": {
    "editable": true,
    "execution": {
     "iopub.execute_input": "2024-10-17T00:41:29.469501Z",
     "iopub.status.busy": "2024-10-17T00:41:29.468634Z",
     "iopub.status.idle": "2024-10-17T00:41:29.474859Z",
     "shell.execute_reply": "2024-10-17T00:41:29.473980Z"
    },
    "papermill": {
     "duration": 0.011538,
     "end_time": "2024-10-17T00:41:29.476867",
     "exception": false,
     "start_time": "2024-10-17T00:41:29.465329",
     "status": "completed"
    },
    "slideshow": {
     "slide_type": ""
    },
    "tags": [
     "parameters"
    ]
   },
   "outputs": [],
   "source": [
    "prompt = \"Write me a code to run simulation of fibronectin.\"\n",
    "model = \"gpt-4o-2024-08-06\""
   ]
  },
  {
   "cell_type": "code",
   "execution_count": 3,
   "id": "3c6118b3",
   "metadata": {
    "execution": {
     "iopub.execute_input": "2024-10-17T00:41:29.482778Z",
     "iopub.status.busy": "2024-10-17T00:41:29.482489Z",
     "iopub.status.idle": "2024-10-17T00:41:29.490840Z",
     "shell.execute_reply": "2024-10-17T00:41:29.489963Z"
    },
    "papermill": {
     "duration": 0.01377,
     "end_time": "2024-10-17T00:41:29.492902",
     "exception": false,
     "start_time": "2024-10-17T00:41:29.479132",
     "status": "completed"
    },
    "tags": [
     "injected-parameters"
    ]
   },
   "outputs": [],
   "source": [
    "# Parameters\n",
    "prompt = \"Download the PDB file for protein 1GZX. Then, analyze the secondary structure of the protein and provide information on how many helices, sheets, and other components are present. Get the gene names for this protein.\"\n"
   ]
  },
  {
   "cell_type": "code",
   "execution_count": 4,
   "id": "d1a8a7f8-b5d9-492f-9f23-70bd0177c7a1",
   "metadata": {
    "editable": true,
    "execution": {
     "iopub.execute_input": "2024-10-17T00:41:29.498839Z",
     "iopub.status.busy": "2024-10-17T00:41:29.498553Z",
     "iopub.status.idle": "2024-10-17T00:41:29.544519Z",
     "shell.execute_reply": "2024-10-17T00:41:29.543775Z"
    },
    "papermill": {
     "duration": 0.051432,
     "end_time": "2024-10-17T00:41:29.546675",
     "exception": false,
     "start_time": "2024-10-17T00:41:29.495243",
     "status": "completed"
    },
    "slideshow": {
     "slide_type": ""
    },
    "tags": []
   },
   "outputs": [
    {
     "name": "stdout",
     "output_type": "stream",
     "text": [
      "date: 2024-10-16\n",
      "time: 20:41:29\n",
      "LLM:  gpt-4o-2024-08-06 \n",
      "Temperature:  0.1\n"
     ]
    }
   ],
   "source": [
    "llm = _make_llm(model, temp=0.1, streaming=True)\n",
    "\n",
    "system_prompt = (\n",
    "    \"You are an expert molecular dynamics scientist, and your \"\n",
    "    \"task is to respond to the question or \"\n",
    "    \"solve the problem in its entirety to the best of your ability. \"\n",
    "    \"If any part of the task requires you to perform an action that \"\n",
    "    \"you are not capable of completing, please write a runnable \"\n",
    "    \"Python script for that step and move on. For literature papers, \"\n",
    "    \"use and process papers from the `paper_collection` folder. \"\n",
    "    \"For .pdb files, download them from the RSCB website using `requests`. \"\n",
    "    \"To preprocess PDB files, you will use PDBFixer. \"\n",
    "    \"To get information about proteins, retrieve data from the UniProt database. \"\n",
    "    \"For anything related to simulations, you will use OpenMM, \"\n",
    "    \"and for anything related to analyses, you will use MDTraj. \"\n",
    "    \"At the end, combine any scripts into one script. \"\n",
    ")\n",
    "messages = [\n",
    "    (\"system\", system_prompt),\n",
    "    (\"human\", prompt),\n",
    "]\n",
    "\n",
    "now = datetime.datetime.now()\n",
    "date = now.strftime(\"%Y-%m-%d\")\n",
    "print(\"date:\",date)\n",
    "time = now.strftime(\"%H:%M:%S\")\n",
    "print(\"time:\",time)\n",
    "print(\"LLM: \",llm.model_name,\"\\nTemperature: \",llm.temperature)"
   ]
  },
  {
   "cell_type": "code",
   "execution_count": 5,
   "id": "43cd734b-be61-4d05-bedb-b798621db3ae",
   "metadata": {
    "execution": {
     "iopub.execute_input": "2024-10-17T00:41:29.553027Z",
     "iopub.status.busy": "2024-10-17T00:41:29.552750Z",
     "iopub.status.idle": "2024-10-17T00:41:36.851267Z",
     "shell.execute_reply": "2024-10-17T00:41:36.850526Z"
    },
    "papermill": {
     "duration": 7.303934,
     "end_time": "2024-10-17T00:41:36.853271",
     "exception": false,
     "start_time": "2024-10-17T00:41:29.549337",
     "status": "completed"
    },
    "scrolled": true,
    "tags": []
   },
   "outputs": [
    {
     "name": "stdout",
     "output_type": "stream",
     "text": [
      "To"
     ]
    },
    {
     "name": "stdout",
     "output_type": "stream",
     "text": [
      " complete"
     ]
    },
    {
     "name": "stdout",
     "output_type": "stream",
     "text": [
      " this"
     ]
    },
    {
     "name": "stdout",
     "output_type": "stream",
     "text": [
      " task"
     ]
    },
    {
     "name": "stdout",
     "output_type": "stream",
     "text": [
      ","
     ]
    },
    {
     "name": "stdout",
     "output_type": "stream",
     "text": [
      " we"
     ]
    },
    {
     "name": "stdout",
     "output_type": "stream",
     "text": [
      " will"
     ]
    },
    {
     "name": "stdout",
     "output_type": "stream",
     "text": [
      " follow"
     ]
    },
    {
     "name": "stdout",
     "output_type": "stream",
     "text": [
      " these"
     ]
    },
    {
     "name": "stdout",
     "output_type": "stream",
     "text": [
      " steps"
     ]
    },
    {
     "name": "stdout",
     "output_type": "stream",
     "text": [
      ":\n",
      "\n"
     ]
    },
    {
     "name": "stdout",
     "output_type": "stream",
     "text": [
      "1"
     ]
    },
    {
     "name": "stdout",
     "output_type": "stream",
     "text": [
      "."
     ]
    },
    {
     "name": "stdout",
     "output_type": "stream",
     "text": [
      " Download"
     ]
    },
    {
     "name": "stdout",
     "output_type": "stream",
     "text": [
      " the"
     ]
    },
    {
     "name": "stdout",
     "output_type": "stream",
     "text": [
      " P"
     ]
    },
    {
     "name": "stdout",
     "output_type": "stream",
     "text": [
      "DB"
     ]
    },
    {
     "name": "stdout",
     "output_type": "stream",
     "text": [
      " file"
     ]
    },
    {
     "name": "stdout",
     "output_type": "stream",
     "text": [
      " for"
     ]
    },
    {
     "name": "stdout",
     "output_type": "stream",
     "text": [
      " protein"
     ]
    },
    {
     "name": "stdout",
     "output_type": "stream",
     "text": [
      " "
     ]
    },
    {
     "name": "stdout",
     "output_type": "stream",
     "text": [
      "1"
     ]
    },
    {
     "name": "stdout",
     "output_type": "stream",
     "text": [
      "G"
     ]
    },
    {
     "name": "stdout",
     "output_type": "stream",
     "text": [
      "ZX"
     ]
    },
    {
     "name": "stdout",
     "output_type": "stream",
     "text": [
      ".\n"
     ]
    },
    {
     "name": "stdout",
     "output_type": "stream",
     "text": [
      "2"
     ]
    },
    {
     "name": "stdout",
     "output_type": "stream",
     "text": [
      "."
     ]
    },
    {
     "name": "stdout",
     "output_type": "stream",
     "text": [
      " Analyze"
     ]
    },
    {
     "name": "stdout",
     "output_type": "stream",
     "text": [
      " the"
     ]
    },
    {
     "name": "stdout",
     "output_type": "stream",
     "text": [
      " secondary"
     ]
    },
    {
     "name": "stdout",
     "output_type": "stream",
     "text": [
      " structure"
     ]
    },
    {
     "name": "stdout",
     "output_type": "stream",
     "text": [
      " of"
     ]
    },
    {
     "name": "stdout",
     "output_type": "stream",
     "text": [
      " the"
     ]
    },
    {
     "name": "stdout",
     "output_type": "stream",
     "text": [
      " protein"
     ]
    },
    {
     "name": "stdout",
     "output_type": "stream",
     "text": [
      " using"
     ]
    },
    {
     "name": "stdout",
     "output_type": "stream",
     "text": [
      " MDT"
     ]
    },
    {
     "name": "stdout",
     "output_type": "stream",
     "text": [
      "raj"
     ]
    },
    {
     "name": "stdout",
     "output_type": "stream",
     "text": [
      ".\n"
     ]
    },
    {
     "name": "stdout",
     "output_type": "stream",
     "text": [
      "3"
     ]
    },
    {
     "name": "stdout",
     "output_type": "stream",
     "text": [
      "."
     ]
    },
    {
     "name": "stdout",
     "output_type": "stream",
     "text": [
      " Retrieve"
     ]
    },
    {
     "name": "stdout",
     "output_type": "stream",
     "text": [
      " gene"
     ]
    },
    {
     "name": "stdout",
     "output_type": "stream",
     "text": [
      " names"
     ]
    },
    {
     "name": "stdout",
     "output_type": "stream",
     "text": [
      " for"
     ]
    },
    {
     "name": "stdout",
     "output_type": "stream",
     "text": [
      " this"
     ]
    },
    {
     "name": "stdout",
     "output_type": "stream",
     "text": [
      " protein"
     ]
    },
    {
     "name": "stdout",
     "output_type": "stream",
     "text": [
      " from"
     ]
    },
    {
     "name": "stdout",
     "output_type": "stream",
     "text": [
      " the"
     ]
    },
    {
     "name": "stdout",
     "output_type": "stream",
     "text": [
      " Uni"
     ]
    },
    {
     "name": "stdout",
     "output_type": "stream",
     "text": [
      "Prot"
     ]
    },
    {
     "name": "stdout",
     "output_type": "stream",
     "text": [
      " database"
     ]
    },
    {
     "name": "stdout",
     "output_type": "stream",
     "text": [
      ".\n",
      "\n"
     ]
    },
    {
     "name": "stdout",
     "output_type": "stream",
     "text": [
      "Let's"
     ]
    },
    {
     "name": "stdout",
     "output_type": "stream",
     "text": [
      " start"
     ]
    },
    {
     "name": "stdout",
     "output_type": "stream",
     "text": [
      " by"
     ]
    },
    {
     "name": "stdout",
     "output_type": "stream",
     "text": [
      " writing"
     ]
    },
    {
     "name": "stdout",
     "output_type": "stream",
     "text": [
      " a"
     ]
    },
    {
     "name": "stdout",
     "output_type": "stream",
     "text": [
      " Python"
     ]
    },
    {
     "name": "stdout",
     "output_type": "stream",
     "text": [
      " script"
     ]
    },
    {
     "name": "stdout",
     "output_type": "stream",
     "text": [
      " to"
     ]
    },
    {
     "name": "stdout",
     "output_type": "stream",
     "text": [
      " perform"
     ]
    },
    {
     "name": "stdout",
     "output_type": "stream",
     "text": [
      " these"
     ]
    },
    {
     "name": "stdout",
     "output_type": "stream",
     "text": [
      " tasks"
     ]
    },
    {
     "name": "stdout",
     "output_type": "stream",
     "text": [
      ".\n",
      "\n"
     ]
    },
    {
     "name": "stdout",
     "output_type": "stream",
     "text": [
      "```"
     ]
    },
    {
     "name": "stdout",
     "output_type": "stream",
     "text": [
      "python"
     ]
    },
    {
     "name": "stdout",
     "output_type": "stream",
     "text": [
      "\n"
     ]
    },
    {
     "name": "stdout",
     "output_type": "stream",
     "text": [
      "import"
     ]
    },
    {
     "name": "stdout",
     "output_type": "stream",
     "text": [
      " requests"
     ]
    },
    {
     "name": "stdout",
     "output_type": "stream",
     "text": [
      "\n"
     ]
    },
    {
     "name": "stdout",
     "output_type": "stream",
     "text": [
      "from"
     ]
    },
    {
     "name": "stdout",
     "output_type": "stream",
     "text": [
      " md"
     ]
    },
    {
     "name": "stdout",
     "output_type": "stream",
     "text": [
      "traj"
     ]
    },
    {
     "name": "stdout",
     "output_type": "stream",
     "text": [
      " import"
     ]
    },
    {
     "name": "stdout",
     "output_type": "stream",
     "text": [
      " load"
     ]
    },
    {
     "name": "stdout",
     "output_type": "stream",
     "text": [
      "_p"
     ]
    },
    {
     "name": "stdout",
     "output_type": "stream",
     "text": [
      "db"
     ]
    },
    {
     "name": "stdout",
     "output_type": "stream",
     "text": [
      ","
     ]
    },
    {
     "name": "stdout",
     "output_type": "stream",
     "text": [
      " compute"
     ]
    },
    {
     "name": "stdout",
     "output_type": "stream",
     "text": [
      "_d"
     ]
    },
    {
     "name": "stdout",
     "output_type": "stream",
     "text": [
      "ssp"
     ]
    },
    {
     "name": "stdout",
     "output_type": "stream",
     "text": [
      "\n"
     ]
    },
    {
     "name": "stdout",
     "output_type": "stream",
     "text": [
      "from"
     ]
    },
    {
     "name": "stdout",
     "output_type": "stream",
     "text": [
      " Bio"
     ]
    },
    {
     "name": "stdout",
     "output_type": "stream",
     "text": [
      " import"
     ]
    },
    {
     "name": "stdout",
     "output_type": "stream",
     "text": [
      " Seq"
     ]
    },
    {
     "name": "stdout",
     "output_type": "stream",
     "text": [
      "IO"
     ]
    },
    {
     "name": "stdout",
     "output_type": "stream",
     "text": [
      "\n"
     ]
    },
    {
     "name": "stdout",
     "output_type": "stream",
     "text": [
      "from"
     ]
    },
    {
     "name": "stdout",
     "output_type": "stream",
     "text": [
      " Bio"
     ]
    },
    {
     "name": "stdout",
     "output_type": "stream",
     "text": [
      " import"
     ]
    },
    {
     "name": "stdout",
     "output_type": "stream",
     "text": [
      " Ex"
     ]
    },
    {
     "name": "stdout",
     "output_type": "stream",
     "text": [
      "PAS"
     ]
    },
    {
     "name": "stdout",
     "output_type": "stream",
     "text": [
      "y"
     ]
    },
    {
     "name": "stdout",
     "output_type": "stream",
     "text": [
      "\n"
     ]
    },
    {
     "name": "stdout",
     "output_type": "stream",
     "text": [
      "from"
     ]
    },
    {
     "name": "stdout",
     "output_type": "stream",
     "text": [
      " Bio"
     ]
    },
    {
     "name": "stdout",
     "output_type": "stream",
     "text": [
      " import"
     ]
    },
    {
     "name": "stdout",
     "output_type": "stream",
     "text": [
      " Swiss"
     ]
    },
    {
     "name": "stdout",
     "output_type": "stream",
     "text": [
      "Prot"
     ]
    },
    {
     "name": "stdout",
     "output_type": "stream",
     "text": [
      "\n",
      "\n"
     ]
    },
    {
     "name": "stdout",
     "output_type": "stream",
     "text": [
      "#"
     ]
    },
    {
     "name": "stdout",
     "output_type": "stream",
     "text": [
      " Step"
     ]
    },
    {
     "name": "stdout",
     "output_type": "stream",
     "text": [
      " "
     ]
    },
    {
     "name": "stdout",
     "output_type": "stream",
     "text": [
      "1"
     ]
    },
    {
     "name": "stdout",
     "output_type": "stream",
     "text": [
      ":"
     ]
    },
    {
     "name": "stdout",
     "output_type": "stream",
     "text": [
      " Download"
     ]
    },
    {
     "name": "stdout",
     "output_type": "stream",
     "text": [
      " the"
     ]
    },
    {
     "name": "stdout",
     "output_type": "stream",
     "text": [
      " P"
     ]
    },
    {
     "name": "stdout",
     "output_type": "stream",
     "text": [
      "DB"
     ]
    },
    {
     "name": "stdout",
     "output_type": "stream",
     "text": [
      " file"
     ]
    },
    {
     "name": "stdout",
     "output_type": "stream",
     "text": [
      " for"
     ]
    },
    {
     "name": "stdout",
     "output_type": "stream",
     "text": [
      " protein"
     ]
    },
    {
     "name": "stdout",
     "output_type": "stream",
     "text": [
      " "
     ]
    },
    {
     "name": "stdout",
     "output_type": "stream",
     "text": [
      "1"
     ]
    },
    {
     "name": "stdout",
     "output_type": "stream",
     "text": [
      "G"
     ]
    },
    {
     "name": "stdout",
     "output_type": "stream",
     "text": [
      "ZX"
     ]
    },
    {
     "name": "stdout",
     "output_type": "stream",
     "text": [
      "\n"
     ]
    },
    {
     "name": "stdout",
     "output_type": "stream",
     "text": [
      "p"
     ]
    },
    {
     "name": "stdout",
     "output_type": "stream",
     "text": [
      "db"
     ]
    },
    {
     "name": "stdout",
     "output_type": "stream",
     "text": [
      "_id"
     ]
    },
    {
     "name": "stdout",
     "output_type": "stream",
     "text": [
      " ="
     ]
    },
    {
     "name": "stdout",
     "output_type": "stream",
     "text": [
      " \""
     ]
    },
    {
     "name": "stdout",
     "output_type": "stream",
     "text": [
      "1"
     ]
    },
    {
     "name": "stdout",
     "output_type": "stream",
     "text": [
      "G"
     ]
    },
    {
     "name": "stdout",
     "output_type": "stream",
     "text": [
      "ZX"
     ]
    },
    {
     "name": "stdout",
     "output_type": "stream",
     "text": [
      "\"\n"
     ]
    },
    {
     "name": "stdout",
     "output_type": "stream",
     "text": [
      "p"
     ]
    },
    {
     "name": "stdout",
     "output_type": "stream",
     "text": [
      "db"
     ]
    },
    {
     "name": "stdout",
     "output_type": "stream",
     "text": [
      "_url"
     ]
    },
    {
     "name": "stdout",
     "output_type": "stream",
     "text": [
      " ="
     ]
    },
    {
     "name": "stdout",
     "output_type": "stream",
     "text": [
      " f"
     ]
    },
    {
     "name": "stdout",
     "output_type": "stream",
     "text": [
      "\"https"
     ]
    },
    {
     "name": "stdout",
     "output_type": "stream",
     "text": [
      "://"
     ]
    },
    {
     "name": "stdout",
     "output_type": "stream",
     "text": [
      "files"
     ]
    },
    {
     "name": "stdout",
     "output_type": "stream",
     "text": [
      ".rc"
     ]
    },
    {
     "name": "stdout",
     "output_type": "stream",
     "text": [
      "sb"
     ]
    },
    {
     "name": "stdout",
     "output_type": "stream",
     "text": [
      ".org"
     ]
    },
    {
     "name": "stdout",
     "output_type": "stream",
     "text": [
      "/download"
     ]
    },
    {
     "name": "stdout",
     "output_type": "stream",
     "text": [
      "/{"
     ]
    },
    {
     "name": "stdout",
     "output_type": "stream",
     "text": [
      "p"
     ]
    },
    {
     "name": "stdout",
     "output_type": "stream",
     "text": [
      "db"
     ]
    },
    {
     "name": "stdout",
     "output_type": "stream",
     "text": [
      "_id"
     ]
    },
    {
     "name": "stdout",
     "output_type": "stream",
     "text": [
      "}."
     ]
    },
    {
     "name": "stdout",
     "output_type": "stream",
     "text": [
      "p"
     ]
    },
    {
     "name": "stdout",
     "output_type": "stream",
     "text": [
      "db"
     ]
    },
    {
     "name": "stdout",
     "output_type": "stream",
     "text": [
      "\"\n"
     ]
    },
    {
     "name": "stdout",
     "output_type": "stream",
     "text": [
      "p"
     ]
    },
    {
     "name": "stdout",
     "output_type": "stream",
     "text": [
      "db"
     ]
    },
    {
     "name": "stdout",
     "output_type": "stream",
     "text": [
      "_file"
     ]
    },
    {
     "name": "stdout",
     "output_type": "stream",
     "text": [
      " ="
     ]
    },
    {
     "name": "stdout",
     "output_type": "stream",
     "text": [
      " f"
     ]
    },
    {
     "name": "stdout",
     "output_type": "stream",
     "text": [
      "\"{"
     ]
    },
    {
     "name": "stdout",
     "output_type": "stream",
     "text": [
      "p"
     ]
    },
    {
     "name": "stdout",
     "output_type": "stream",
     "text": [
      "db"
     ]
    },
    {
     "name": "stdout",
     "output_type": "stream",
     "text": [
      "_id"
     ]
    },
    {
     "name": "stdout",
     "output_type": "stream",
     "text": [
      "}."
     ]
    },
    {
     "name": "stdout",
     "output_type": "stream",
     "text": [
      "p"
     ]
    },
    {
     "name": "stdout",
     "output_type": "stream",
     "text": [
      "db"
     ]
    },
    {
     "name": "stdout",
     "output_type": "stream",
     "text": [
      "\"\n",
      "\n"
     ]
    },
    {
     "name": "stdout",
     "output_type": "stream",
     "text": [
      "response"
     ]
    },
    {
     "name": "stdout",
     "output_type": "stream",
     "text": [
      " ="
     ]
    },
    {
     "name": "stdout",
     "output_type": "stream",
     "text": [
      " requests"
     ]
    },
    {
     "name": "stdout",
     "output_type": "stream",
     "text": [
      ".get"
     ]
    },
    {
     "name": "stdout",
     "output_type": "stream",
     "text": [
      "(p"
     ]
    },
    {
     "name": "stdout",
     "output_type": "stream",
     "text": [
      "db"
     ]
    },
    {
     "name": "stdout",
     "output_type": "stream",
     "text": [
      "_url"
     ]
    },
    {
     "name": "stdout",
     "output_type": "stream",
     "text": [
      ")\n"
     ]
    },
    {
     "name": "stdout",
     "output_type": "stream",
     "text": [
      "with"
     ]
    },
    {
     "name": "stdout",
     "output_type": "stream",
     "text": [
      " open"
     ]
    },
    {
     "name": "stdout",
     "output_type": "stream",
     "text": [
      "(p"
     ]
    },
    {
     "name": "stdout",
     "output_type": "stream",
     "text": [
      "db"
     ]
    },
    {
     "name": "stdout",
     "output_type": "stream",
     "text": [
      "_file"
     ]
    },
    {
     "name": "stdout",
     "output_type": "stream",
     "text": [
      ","
     ]
    },
    {
     "name": "stdout",
     "output_type": "stream",
     "text": [
      " '"
     ]
    },
    {
     "name": "stdout",
     "output_type": "stream",
     "text": [
      "wb"
     ]
    },
    {
     "name": "stdout",
     "output_type": "stream",
     "text": [
      "')"
     ]
    },
    {
     "name": "stdout",
     "output_type": "stream",
     "text": [
      " as"
     ]
    },
    {
     "name": "stdout",
     "output_type": "stream",
     "text": [
      " file"
     ]
    },
    {
     "name": "stdout",
     "output_type": "stream",
     "text": [
      ":\n"
     ]
    },
    {
     "name": "stdout",
     "output_type": "stream",
     "text": [
      "   "
     ]
    },
    {
     "name": "stdout",
     "output_type": "stream",
     "text": [
      " file"
     ]
    },
    {
     "name": "stdout",
     "output_type": "stream",
     "text": [
      ".write"
     ]
    },
    {
     "name": "stdout",
     "output_type": "stream",
     "text": [
      "(response"
     ]
    },
    {
     "name": "stdout",
     "output_type": "stream",
     "text": [
      ".content"
     ]
    },
    {
     "name": "stdout",
     "output_type": "stream",
     "text": [
      ")\n",
      "\n"
     ]
    },
    {
     "name": "stdout",
     "output_type": "stream",
     "text": [
      "#"
     ]
    },
    {
     "name": "stdout",
     "output_type": "stream",
     "text": [
      " Step"
     ]
    },
    {
     "name": "stdout",
     "output_type": "stream",
     "text": [
      " "
     ]
    },
    {
     "name": "stdout",
     "output_type": "stream",
     "text": [
      "2"
     ]
    },
    {
     "name": "stdout",
     "output_type": "stream",
     "text": [
      ":"
     ]
    },
    {
     "name": "stdout",
     "output_type": "stream",
     "text": [
      " Analyze"
     ]
    },
    {
     "name": "stdout",
     "output_type": "stream",
     "text": [
      " the"
     ]
    },
    {
     "name": "stdout",
     "output_type": "stream",
     "text": [
      " secondary"
     ]
    },
    {
     "name": "stdout",
     "output_type": "stream",
     "text": [
      " structure"
     ]
    },
    {
     "name": "stdout",
     "output_type": "stream",
     "text": [
      " of"
     ]
    },
    {
     "name": "stdout",
     "output_type": "stream",
     "text": [
      " the"
     ]
    },
    {
     "name": "stdout",
     "output_type": "stream",
     "text": [
      " protein"
     ]
    },
    {
     "name": "stdout",
     "output_type": "stream",
     "text": [
      " using"
     ]
    },
    {
     "name": "stdout",
     "output_type": "stream",
     "text": [
      " MDT"
     ]
    },
    {
     "name": "stdout",
     "output_type": "stream",
     "text": [
      "raj"
     ]
    },
    {
     "name": "stdout",
     "output_type": "stream",
     "text": [
      "\n"
     ]
    },
    {
     "name": "stdout",
     "output_type": "stream",
     "text": [
      "traj"
     ]
    },
    {
     "name": "stdout",
     "output_type": "stream",
     "text": [
      " ="
     ]
    },
    {
     "name": "stdout",
     "output_type": "stream",
     "text": [
      " load"
     ]
    },
    {
     "name": "stdout",
     "output_type": "stream",
     "text": [
      "_p"
     ]
    },
    {
     "name": "stdout",
     "output_type": "stream",
     "text": [
      "db"
     ]
    },
    {
     "name": "stdout",
     "output_type": "stream",
     "text": [
      "(p"
     ]
    },
    {
     "name": "stdout",
     "output_type": "stream",
     "text": [
      "db"
     ]
    },
    {
     "name": "stdout",
     "output_type": "stream",
     "text": [
      "_file"
     ]
    },
    {
     "name": "stdout",
     "output_type": "stream",
     "text": [
      ")\n"
     ]
    },
    {
     "name": "stdout",
     "output_type": "stream",
     "text": [
      "d"
     ]
    },
    {
     "name": "stdout",
     "output_type": "stream",
     "text": [
      "ssp"
     ]
    },
    {
     "name": "stdout",
     "output_type": "stream",
     "text": [
      " ="
     ]
    },
    {
     "name": "stdout",
     "output_type": "stream",
     "text": [
      " compute"
     ]
    },
    {
     "name": "stdout",
     "output_type": "stream",
     "text": [
      "_d"
     ]
    },
    {
     "name": "stdout",
     "output_type": "stream",
     "text": [
      "ssp"
     ]
    },
    {
     "name": "stdout",
     "output_type": "stream",
     "text": [
      "(tr"
     ]
    },
    {
     "name": "stdout",
     "output_type": "stream",
     "text": [
      "aj"
     ]
    },
    {
     "name": "stdout",
     "output_type": "stream",
     "text": [
      ")\n",
      "\n"
     ]
    },
    {
     "name": "stdout",
     "output_type": "stream",
     "text": [
      "#"
     ]
    },
    {
     "name": "stdout",
     "output_type": "stream",
     "text": [
      " Count"
     ]
    },
    {
     "name": "stdout",
     "output_type": "stream",
     "text": [
      " the"
     ]
    },
    {
     "name": "stdout",
     "output_type": "stream",
     "text": [
      " number"
     ]
    },
    {
     "name": "stdout",
     "output_type": "stream",
     "text": [
      " of"
     ]
    },
    {
     "name": "stdout",
     "output_type": "stream",
     "text": [
      " helic"
     ]
    },
    {
     "name": "stdout",
     "output_type": "stream",
     "text": [
      "es"
     ]
    },
    {
     "name": "stdout",
     "output_type": "stream",
     "text": [
      ","
     ]
    },
    {
     "name": "stdout",
     "output_type": "stream",
     "text": [
      " sheets"
     ]
    },
    {
     "name": "stdout",
     "output_type": "stream",
     "text": [
      ","
     ]
    },
    {
     "name": "stdout",
     "output_type": "stream",
     "text": [
      " and"
     ]
    },
    {
     "name": "stdout",
     "output_type": "stream",
     "text": [
      " other"
     ]
    },
    {
     "name": "stdout",
     "output_type": "stream",
     "text": [
      " components"
     ]
    },
    {
     "name": "stdout",
     "output_type": "stream",
     "text": [
      "\n"
     ]
    },
    {
     "name": "stdout",
     "output_type": "stream",
     "text": [
      "hel"
     ]
    },
    {
     "name": "stdout",
     "output_type": "stream",
     "text": [
      "ix"
     ]
    },
    {
     "name": "stdout",
     "output_type": "stream",
     "text": [
      "_count"
     ]
    },
    {
     "name": "stdout",
     "output_type": "stream",
     "text": [
      " ="
     ]
    },
    {
     "name": "stdout",
     "output_type": "stream",
     "text": [
      " sum"
     ]
    },
    {
     "name": "stdout",
     "output_type": "stream",
     "text": [
      "(res"
     ]
    },
    {
     "name": "stdout",
     "output_type": "stream",
     "text": [
      " =="
     ]
    },
    {
     "name": "stdout",
     "output_type": "stream",
     "text": [
      " '"
     ]
    },
    {
     "name": "stdout",
     "output_type": "stream",
     "text": [
      "H"
     ]
    },
    {
     "name": "stdout",
     "output_type": "stream",
     "text": [
      "'"
     ]
    },
    {
     "name": "stdout",
     "output_type": "stream",
     "text": [
      " for"
     ]
    },
    {
     "name": "stdout",
     "output_type": "stream",
     "text": [
      " res"
     ]
    },
    {
     "name": "stdout",
     "output_type": "stream",
     "text": [
      " in"
     ]
    },
    {
     "name": "stdout",
     "output_type": "stream",
     "text": [
      " d"
     ]
    },
    {
     "name": "stdout",
     "output_type": "stream",
     "text": [
      "ssp"
     ]
    },
    {
     "name": "stdout",
     "output_type": "stream",
     "text": [
      "["
     ]
    },
    {
     "name": "stdout",
     "output_type": "stream",
     "text": [
      "0"
     ]
    },
    {
     "name": "stdout",
     "output_type": "stream",
     "text": [
      "])\n"
     ]
    },
    {
     "name": "stdout",
     "output_type": "stream",
     "text": [
      "sheet"
     ]
    },
    {
     "name": "stdout",
     "output_type": "stream",
     "text": [
      "_count"
     ]
    },
    {
     "name": "stdout",
     "output_type": "stream",
     "text": [
      " ="
     ]
    },
    {
     "name": "stdout",
     "output_type": "stream",
     "text": [
      " sum"
     ]
    },
    {
     "name": "stdout",
     "output_type": "stream",
     "text": [
      "(res"
     ]
    },
    {
     "name": "stdout",
     "output_type": "stream",
     "text": [
      " =="
     ]
    },
    {
     "name": "stdout",
     "output_type": "stream",
     "text": [
      " '"
     ]
    },
    {
     "name": "stdout",
     "output_type": "stream",
     "text": [
      "E"
     ]
    },
    {
     "name": "stdout",
     "output_type": "stream",
     "text": [
      "'"
     ]
    },
    {
     "name": "stdout",
     "output_type": "stream",
     "text": [
      " for"
     ]
    },
    {
     "name": "stdout",
     "output_type": "stream",
     "text": [
      " res"
     ]
    },
    {
     "name": "stdout",
     "output_type": "stream",
     "text": [
      " in"
     ]
    },
    {
     "name": "stdout",
     "output_type": "stream",
     "text": [
      " d"
     ]
    },
    {
     "name": "stdout",
     "output_type": "stream",
     "text": [
      "ssp"
     ]
    },
    {
     "name": "stdout",
     "output_type": "stream",
     "text": [
      "["
     ]
    },
    {
     "name": "stdout",
     "output_type": "stream",
     "text": [
      "0"
     ]
    },
    {
     "name": "stdout",
     "output_type": "stream",
     "text": [
      "])\n"
     ]
    },
    {
     "name": "stdout",
     "output_type": "stream",
     "text": [
      "other"
     ]
    },
    {
     "name": "stdout",
     "output_type": "stream",
     "text": [
      "_count"
     ]
    },
    {
     "name": "stdout",
     "output_type": "stream",
     "text": [
      " ="
     ]
    },
    {
     "name": "stdout",
     "output_type": "stream",
     "text": [
      " len"
     ]
    },
    {
     "name": "stdout",
     "output_type": "stream",
     "text": [
      "(d"
     ]
    },
    {
     "name": "stdout",
     "output_type": "stream",
     "text": [
      "ssp"
     ]
    },
    {
     "name": "stdout",
     "output_type": "stream",
     "text": [
      "["
     ]
    },
    {
     "name": "stdout",
     "output_type": "stream",
     "text": [
      "0"
     ]
    },
    {
     "name": "stdout",
     "output_type": "stream",
     "text": [
      "])"
     ]
    },
    {
     "name": "stdout",
     "output_type": "stream",
     "text": [
      " -"
     ]
    },
    {
     "name": "stdout",
     "output_type": "stream",
     "text": [
      " hel"
     ]
    },
    {
     "name": "stdout",
     "output_type": "stream",
     "text": [
      "ix"
     ]
    },
    {
     "name": "stdout",
     "output_type": "stream",
     "text": [
      "_count"
     ]
    },
    {
     "name": "stdout",
     "output_type": "stream",
     "text": [
      " -"
     ]
    },
    {
     "name": "stdout",
     "output_type": "stream",
     "text": [
      " sheet"
     ]
    },
    {
     "name": "stdout",
     "output_type": "stream",
     "text": [
      "_count"
     ]
    },
    {
     "name": "stdout",
     "output_type": "stream",
     "text": [
      "\n",
      "\n"
     ]
    },
    {
     "name": "stdout",
     "output_type": "stream",
     "text": [
      "print"
     ]
    },
    {
     "name": "stdout",
     "output_type": "stream",
     "text": [
      "(f"
     ]
    },
    {
     "name": "stdout",
     "output_type": "stream",
     "text": [
      "\""
     ]
    },
    {
     "name": "stdout",
     "output_type": "stream",
     "text": [
      "Number"
     ]
    },
    {
     "name": "stdout",
     "output_type": "stream",
     "text": [
      " of"
     ]
    },
    {
     "name": "stdout",
     "output_type": "stream",
     "text": [
      " helic"
     ]
    },
    {
     "name": "stdout",
     "output_type": "stream",
     "text": [
      "es"
     ]
    },
    {
     "name": "stdout",
     "output_type": "stream",
     "text": [
      ":"
     ]
    },
    {
     "name": "stdout",
     "output_type": "stream",
     "text": [
      " {"
     ]
    },
    {
     "name": "stdout",
     "output_type": "stream",
     "text": [
      "hel"
     ]
    },
    {
     "name": "stdout",
     "output_type": "stream",
     "text": [
      "ix"
     ]
    },
    {
     "name": "stdout",
     "output_type": "stream",
     "text": [
      "_count"
     ]
    },
    {
     "name": "stdout",
     "output_type": "stream",
     "text": [
      "}\")\n"
     ]
    },
    {
     "name": "stdout",
     "output_type": "stream",
     "text": [
      "print"
     ]
    },
    {
     "name": "stdout",
     "output_type": "stream",
     "text": [
      "(f"
     ]
    },
    {
     "name": "stdout",
     "output_type": "stream",
     "text": [
      "\""
     ]
    },
    {
     "name": "stdout",
     "output_type": "stream",
     "text": [
      "Number"
     ]
    },
    {
     "name": "stdout",
     "output_type": "stream",
     "text": [
      " of"
     ]
    },
    {
     "name": "stdout",
     "output_type": "stream",
     "text": [
      " sheets"
     ]
    },
    {
     "name": "stdout",
     "output_type": "stream",
     "text": [
      ":"
     ]
    },
    {
     "name": "stdout",
     "output_type": "stream",
     "text": [
      " {"
     ]
    },
    {
     "name": "stdout",
     "output_type": "stream",
     "text": [
      "sheet"
     ]
    },
    {
     "name": "stdout",
     "output_type": "stream",
     "text": [
      "_count"
     ]
    },
    {
     "name": "stdout",
     "output_type": "stream",
     "text": [
      "}\")\n"
     ]
    },
    {
     "name": "stdout",
     "output_type": "stream",
     "text": [
      "print"
     ]
    },
    {
     "name": "stdout",
     "output_type": "stream",
     "text": [
      "(f"
     ]
    },
    {
     "name": "stdout",
     "output_type": "stream",
     "text": [
      "\""
     ]
    },
    {
     "name": "stdout",
     "output_type": "stream",
     "text": [
      "Number"
     ]
    },
    {
     "name": "stdout",
     "output_type": "stream",
     "text": [
      " of"
     ]
    },
    {
     "name": "stdout",
     "output_type": "stream",
     "text": [
      " other"
     ]
    },
    {
     "name": "stdout",
     "output_type": "stream",
     "text": [
      " components"
     ]
    },
    {
     "name": "stdout",
     "output_type": "stream",
     "text": [
      ":"
     ]
    },
    {
     "name": "stdout",
     "output_type": "stream",
     "text": [
      " {"
     ]
    },
    {
     "name": "stdout",
     "output_type": "stream",
     "text": [
      "other"
     ]
    },
    {
     "name": "stdout",
     "output_type": "stream",
     "text": [
      "_count"
     ]
    },
    {
     "name": "stdout",
     "output_type": "stream",
     "text": [
      "}\")\n",
      "\n"
     ]
    },
    {
     "name": "stdout",
     "output_type": "stream",
     "text": [
      "#"
     ]
    },
    {
     "name": "stdout",
     "output_type": "stream",
     "text": [
      " Step"
     ]
    },
    {
     "name": "stdout",
     "output_type": "stream",
     "text": [
      " "
     ]
    },
    {
     "name": "stdout",
     "output_type": "stream",
     "text": [
      "3"
     ]
    },
    {
     "name": "stdout",
     "output_type": "stream",
     "text": [
      ":"
     ]
    },
    {
     "name": "stdout",
     "output_type": "stream",
     "text": [
      " Retrieve"
     ]
    },
    {
     "name": "stdout",
     "output_type": "stream",
     "text": [
      " gene"
     ]
    },
    {
     "name": "stdout",
     "output_type": "stream",
     "text": [
      " names"
     ]
    },
    {
     "name": "stdout",
     "output_type": "stream",
     "text": [
      " for"
     ]
    },
    {
     "name": "stdout",
     "output_type": "stream",
     "text": [
      " this"
     ]
    },
    {
     "name": "stdout",
     "output_type": "stream",
     "text": [
      " protein"
     ]
    },
    {
     "name": "stdout",
     "output_type": "stream",
     "text": [
      " from"
     ]
    },
    {
     "name": "stdout",
     "output_type": "stream",
     "text": [
      " the"
     ]
    },
    {
     "name": "stdout",
     "output_type": "stream",
     "text": [
      " Uni"
     ]
    },
    {
     "name": "stdout",
     "output_type": "stream",
     "text": [
      "Prot"
     ]
    },
    {
     "name": "stdout",
     "output_type": "stream",
     "text": [
      " database"
     ]
    },
    {
     "name": "stdout",
     "output_type": "stream",
     "text": [
      "\n"
     ]
    },
    {
     "name": "stdout",
     "output_type": "stream",
     "text": [
      "#"
     ]
    },
    {
     "name": "stdout",
     "output_type": "stream",
     "text": [
      " First"
     ]
    },
    {
     "name": "stdout",
     "output_type": "stream",
     "text": [
      ","
     ]
    },
    {
     "name": "stdout",
     "output_type": "stream",
     "text": [
      " we"
     ]
    },
    {
     "name": "stdout",
     "output_type": "stream",
     "text": [
      " need"
     ]
    },
    {
     "name": "stdout",
     "output_type": "stream",
     "text": [
      " to"
     ]
    },
    {
     "name": "stdout",
     "output_type": "stream",
     "text": [
      " find"
     ]
    },
    {
     "name": "stdout",
     "output_type": "stream",
     "text": [
      " the"
     ]
    },
    {
     "name": "stdout",
     "output_type": "stream",
     "text": [
      " Uni"
     ]
    },
    {
     "name": "stdout",
     "output_type": "stream",
     "text": [
      "Prot"
     ]
    },
    {
     "name": "stdout",
     "output_type": "stream",
     "text": [
      " ID"
     ]
    },
    {
     "name": "stdout",
     "output_type": "stream",
     "text": [
      " for"
     ]
    },
    {
     "name": "stdout",
     "output_type": "stream",
     "text": [
      " the"
     ]
    },
    {
     "name": "stdout",
     "output_type": "stream",
     "text": [
      " P"
     ]
    },
    {
     "name": "stdout",
     "output_type": "stream",
     "text": [
      "DB"
     ]
    },
    {
     "name": "stdout",
     "output_type": "stream",
     "text": [
      " entry"
     ]
    },
    {
     "name": "stdout",
     "output_type": "stream",
     "text": [
      "\n"
     ]
    },
    {
     "name": "stdout",
     "output_type": "stream",
     "text": [
      "#"
     ]
    },
    {
     "name": "stdout",
     "output_type": "stream",
     "text": [
      " This"
     ]
    },
    {
     "name": "stdout",
     "output_type": "stream",
     "text": [
      " information"
     ]
    },
    {
     "name": "stdout",
     "output_type": "stream",
     "text": [
      " is"
     ]
    },
    {
     "name": "stdout",
     "output_type": "stream",
     "text": [
      " usually"
     ]
    },
    {
     "name": "stdout",
     "output_type": "stream",
     "text": [
      " available"
     ]
    },
    {
     "name": "stdout",
     "output_type": "stream",
     "text": [
      " in"
     ]
    },
    {
     "name": "stdout",
     "output_type": "stream",
     "text": [
      " the"
     ]
    },
    {
     "name": "stdout",
     "output_type": "stream",
     "text": [
      " P"
     ]
    },
    {
     "name": "stdout",
     "output_type": "stream",
     "text": [
      "DB"
     ]
    },
    {
     "name": "stdout",
     "output_type": "stream",
     "text": [
      " file"
     ]
    },
    {
     "name": "stdout",
     "output_type": "stream",
     "text": [
      " header"
     ]
    },
    {
     "name": "stdout",
     "output_type": "stream",
     "text": [
      " or"
     ]
    },
    {
     "name": "stdout",
     "output_type": "stream",
     "text": [
      " can"
     ]
    },
    {
     "name": "stdout",
     "output_type": "stream",
     "text": [
      " be"
     ]
    },
    {
     "name": "stdout",
     "output_type": "stream",
     "text": [
      " found"
     ]
    },
    {
     "name": "stdout",
     "output_type": "stream",
     "text": [
      " online"
     ]
    },
    {
     "name": "stdout",
     "output_type": "stream",
     "text": [
      "\n",
      "\n"
     ]
    },
    {
     "name": "stdout",
     "output_type": "stream",
     "text": [
      "#"
     ]
    },
    {
     "name": "stdout",
     "output_type": "stream",
     "text": [
      " For"
     ]
    },
    {
     "name": "stdout",
     "output_type": "stream",
     "text": [
      " demonstration"
     ]
    },
    {
     "name": "stdout",
     "output_type": "stream",
     "text": [
      ","
     ]
    },
    {
     "name": "stdout",
     "output_type": "stream",
     "text": [
      " let's"
     ]
    },
    {
     "name": "stdout",
     "output_type": "stream",
     "text": [
      " assume"
     ]
    },
    {
     "name": "stdout",
     "output_type": "stream",
     "text": [
      " we"
     ]
    },
    {
     "name": "stdout",
     "output_type": "stream",
     "text": [
      " have"
     ]
    },
    {
     "name": "stdout",
     "output_type": "stream",
     "text": [
      " the"
     ]
    },
    {
     "name": "stdout",
     "output_type": "stream",
     "text": [
      " Uni"
     ]
    },
    {
     "name": "stdout",
     "output_type": "stream",
     "text": [
      "Prot"
     ]
    },
    {
     "name": "stdout",
     "output_type": "stream",
     "text": [
      " ID"
     ]
    },
    {
     "name": "stdout",
     "output_type": "stream",
     "text": [
      " ("
     ]
    },
    {
     "name": "stdout",
     "output_type": "stream",
     "text": [
      "e"
     ]
    },
    {
     "name": "stdout",
     "output_type": "stream",
     "text": [
      ".g"
     ]
    },
    {
     "name": "stdout",
     "output_type": "stream",
     "text": [
      ".,"
     ]
    },
    {
     "name": "stdout",
     "output_type": "stream",
     "text": [
      " P"
     ]
    },
    {
     "name": "stdout",
     "output_type": "stream",
     "text": [
      "123"
     ]
    },
    {
     "name": "stdout",
     "output_type": "stream",
     "text": [
      "45"
     ]
    },
    {
     "name": "stdout",
     "output_type": "stream",
     "text": [
      ")\n"
     ]
    },
    {
     "name": "stdout",
     "output_type": "stream",
     "text": [
      "#"
     ]
    },
    {
     "name": "stdout",
     "output_type": "stream",
     "text": [
      " In"
     ]
    },
    {
     "name": "stdout",
     "output_type": "stream",
     "text": [
      " practice"
     ]
    },
    {
     "name": "stdout",
     "output_type": "stream",
     "text": [
      ","
     ]
    },
    {
     "name": "stdout",
     "output_type": "stream",
     "text": [
      " you"
     ]
    },
    {
     "name": "stdout",
     "output_type": "stream",
     "text": [
      " would"
     ]
    },
    {
     "name": "stdout",
     "output_type": "stream",
     "text": [
      " extract"
     ]
    },
    {
     "name": "stdout",
     "output_type": "stream",
     "text": [
      " this"
     ]
    },
    {
     "name": "stdout",
     "output_type": "stream",
     "text": [
      " from"
     ]
    },
    {
     "name": "stdout",
     "output_type": "stream",
     "text": [
      " the"
     ]
    },
    {
     "name": "stdout",
     "output_type": "stream",
     "text": [
      " P"
     ]
    },
    {
     "name": "stdout",
     "output_type": "stream",
     "text": [
      "DB"
     ]
    },
    {
     "name": "stdout",
     "output_type": "stream",
     "text": [
      " file"
     ]
    },
    {
     "name": "stdout",
     "output_type": "stream",
     "text": [
      " or"
     ]
    },
    {
     "name": "stdout",
     "output_type": "stream",
     "text": [
      " a"
     ]
    },
    {
     "name": "stdout",
     "output_type": "stream",
     "text": [
      " database"
     ]
    },
    {
     "name": "stdout",
     "output_type": "stream",
     "text": [
      "\n"
     ]
    },
    {
     "name": "stdout",
     "output_type": "stream",
     "text": [
      "un"
     ]
    },
    {
     "name": "stdout",
     "output_type": "stream",
     "text": [
      "ip"
     ]
    },
    {
     "name": "stdout",
     "output_type": "stream",
     "text": [
      "rot"
     ]
    },
    {
     "name": "stdout",
     "output_type": "stream",
     "text": [
      "_id"
     ]
    },
    {
     "name": "stdout",
     "output_type": "stream",
     "text": [
      " ="
     ]
    },
    {
     "name": "stdout",
     "output_type": "stream",
     "text": [
      " \""
     ]
    },
    {
     "name": "stdout",
     "output_type": "stream",
     "text": [
      "P"
     ]
    },
    {
     "name": "stdout",
     "output_type": "stream",
     "text": [
      "123"
     ]
    },
    {
     "name": "stdout",
     "output_type": "stream",
     "text": [
      "45"
     ]
    },
    {
     "name": "stdout",
     "output_type": "stream",
     "text": [
      "\""
     ]
    },
    {
     "name": "stdout",
     "output_type": "stream",
     "text": [
      " "
     ]
    },
    {
     "name": "stdout",
     "output_type": "stream",
     "text": [
      " #"
     ]
    },
    {
     "name": "stdout",
     "output_type": "stream",
     "text": [
      " Replace"
     ]
    },
    {
     "name": "stdout",
     "output_type": "stream",
     "text": [
      " with"
     ]
    },
    {
     "name": "stdout",
     "output_type": "stream",
     "text": [
      " actual"
     ]
    },
    {
     "name": "stdout",
     "output_type": "stream",
     "text": [
      " Uni"
     ]
    },
    {
     "name": "stdout",
     "output_type": "stream",
     "text": [
      "Prot"
     ]
    },
    {
     "name": "stdout",
     "output_type": "stream",
     "text": [
      " ID"
     ]
    },
    {
     "name": "stdout",
     "output_type": "stream",
     "text": [
      "\n",
      "\n"
     ]
    },
    {
     "name": "stdout",
     "output_type": "stream",
     "text": [
      "#"
     ]
    },
    {
     "name": "stdout",
     "output_type": "stream",
     "text": [
      " Fetch"
     ]
    },
    {
     "name": "stdout",
     "output_type": "stream",
     "text": [
      " the"
     ]
    },
    {
     "name": "stdout",
     "output_type": "stream",
     "text": [
      " Uni"
     ]
    },
    {
     "name": "stdout",
     "output_type": "stream",
     "text": [
      "Prot"
     ]
    },
    {
     "name": "stdout",
     "output_type": "stream",
     "text": [
      " entry"
     ]
    },
    {
     "name": "stdout",
     "output_type": "stream",
     "text": [
      "\n"
     ]
    },
    {
     "name": "stdout",
     "output_type": "stream",
     "text": [
      "handle"
     ]
    },
    {
     "name": "stdout",
     "output_type": "stream",
     "text": [
      " ="
     ]
    },
    {
     "name": "stdout",
     "output_type": "stream",
     "text": [
      " Ex"
     ]
    },
    {
     "name": "stdout",
     "output_type": "stream",
     "text": [
      "PAS"
     ]
    },
    {
     "name": "stdout",
     "output_type": "stream",
     "text": [
      "y"
     ]
    },
    {
     "name": "stdout",
     "output_type": "stream",
     "text": [
      ".get"
     ]
    },
    {
     "name": "stdout",
     "output_type": "stream",
     "text": [
      "_s"
     ]
    },
    {
     "name": "stdout",
     "output_type": "stream",
     "text": [
      "prot"
     ]
    },
    {
     "name": "stdout",
     "output_type": "stream",
     "text": [
      "_raw"
     ]
    },
    {
     "name": "stdout",
     "output_type": "stream",
     "text": [
      "(un"
     ]
    },
    {
     "name": "stdout",
     "output_type": "stream",
     "text": [
      "ip"
     ]
    },
    {
     "name": "stdout",
     "output_type": "stream",
     "text": [
      "rot"
     ]
    },
    {
     "name": "stdout",
     "output_type": "stream",
     "text": [
      "_id"
     ]
    },
    {
     "name": "stdout",
     "output_type": "stream",
     "text": [
      ")\n"
     ]
    },
    {
     "name": "stdout",
     "output_type": "stream",
     "text": [
      "record"
     ]
    },
    {
     "name": "stdout",
     "output_type": "stream",
     "text": [
      " ="
     ]
    },
    {
     "name": "stdout",
     "output_type": "stream",
     "text": [
      " Swiss"
     ]
    },
    {
     "name": "stdout",
     "output_type": "stream",
     "text": [
      "Prot"
     ]
    },
    {
     "name": "stdout",
     "output_type": "stream",
     "text": [
      ".read"
     ]
    },
    {
     "name": "stdout",
     "output_type": "stream",
     "text": [
      "(handle"
     ]
    },
    {
     "name": "stdout",
     "output_type": "stream",
     "text": [
      ")\n",
      "\n"
     ]
    },
    {
     "name": "stdout",
     "output_type": "stream",
     "text": [
      "#"
     ]
    },
    {
     "name": "stdout",
     "output_type": "stream",
     "text": [
      " Extract"
     ]
    },
    {
     "name": "stdout",
     "output_type": "stream",
     "text": [
      " gene"
     ]
    },
    {
     "name": "stdout",
     "output_type": "stream",
     "text": [
      " names"
     ]
    },
    {
     "name": "stdout",
     "output_type": "stream",
     "text": [
      "\n"
     ]
    },
    {
     "name": "stdout",
     "output_type": "stream",
     "text": [
      "gene"
     ]
    },
    {
     "name": "stdout",
     "output_type": "stream",
     "text": [
      "_names"
     ]
    },
    {
     "name": "stdout",
     "output_type": "stream",
     "text": [
      " ="
     ]
    },
    {
     "name": "stdout",
     "output_type": "stream",
     "text": [
      " record"
     ]
    },
    {
     "name": "stdout",
     "output_type": "stream",
     "text": [
      ".g"
     ]
    },
    {
     "name": "stdout",
     "output_type": "stream",
     "text": [
      "ene"
     ]
    },
    {
     "name": "stdout",
     "output_type": "stream",
     "text": [
      "_name"
     ]
    },
    {
     "name": "stdout",
     "output_type": "stream",
     "text": [
      ".split"
     ]
    },
    {
     "name": "stdout",
     "output_type": "stream",
     "text": [
      "()\n"
     ]
    },
    {
     "name": "stdout",
     "output_type": "stream",
     "text": [
      "print"
     ]
    },
    {
     "name": "stdout",
     "output_type": "stream",
     "text": [
      "(f"
     ]
    },
    {
     "name": "stdout",
     "output_type": "stream",
     "text": [
      "\""
     ]
    },
    {
     "name": "stdout",
     "output_type": "stream",
     "text": [
      "Gene"
     ]
    },
    {
     "name": "stdout",
     "output_type": "stream",
     "text": [
      " names"
     ]
    },
    {
     "name": "stdout",
     "output_type": "stream",
     "text": [
      ":"
     ]
    },
    {
     "name": "stdout",
     "output_type": "stream",
     "text": [
      " {"
     ]
    },
    {
     "name": "stdout",
     "output_type": "stream",
     "text": [
      "gene"
     ]
    },
    {
     "name": "stdout",
     "output_type": "stream",
     "text": [
      "_names"
     ]
    },
    {
     "name": "stdout",
     "output_type": "stream",
     "text": [
      "}\")\n"
     ]
    },
    {
     "name": "stdout",
     "output_type": "stream",
     "text": [
      "``"
     ]
    },
    {
     "name": "stdout",
     "output_type": "stream",
     "text": [
      "`\n",
      "\n"
     ]
    },
    {
     "name": "stdout",
     "output_type": "stream",
     "text": [
      "Please"
     ]
    },
    {
     "name": "stdout",
     "output_type": "stream",
     "text": [
      " note"
     ]
    },
    {
     "name": "stdout",
     "output_type": "stream",
     "text": [
      " that"
     ]
    },
    {
     "name": "stdout",
     "output_type": "stream",
     "text": [
      " the"
     ]
    },
    {
     "name": "stdout",
     "output_type": "stream",
     "text": [
      " script"
     ]
    },
    {
     "name": "stdout",
     "output_type": "stream",
     "text": [
      " assumes"
     ]
    },
    {
     "name": "stdout",
     "output_type": "stream",
     "text": [
      " you"
     ]
    },
    {
     "name": "stdout",
     "output_type": "stream",
     "text": [
      " have"
     ]
    },
    {
     "name": "stdout",
     "output_type": "stream",
     "text": [
      " the"
     ]
    },
    {
     "name": "stdout",
     "output_type": "stream",
     "text": [
      " Uni"
     ]
    },
    {
     "name": "stdout",
     "output_type": "stream",
     "text": [
      "Prot"
     ]
    },
    {
     "name": "stdout",
     "output_type": "stream",
     "text": [
      " ID"
     ]
    },
    {
     "name": "stdout",
     "output_type": "stream",
     "text": [
      " for"
     ]
    },
    {
     "name": "stdout",
     "output_type": "stream",
     "text": [
      " the"
     ]
    },
    {
     "name": "stdout",
     "output_type": "stream",
     "text": [
      " protein"
     ]
    },
    {
     "name": "stdout",
     "output_type": "stream",
     "text": [
      "."
     ]
    },
    {
     "name": "stdout",
     "output_type": "stream",
     "text": [
      " In"
     ]
    },
    {
     "name": "stdout",
     "output_type": "stream",
     "text": [
      " practice"
     ]
    },
    {
     "name": "stdout",
     "output_type": "stream",
     "text": [
      ","
     ]
    },
    {
     "name": "stdout",
     "output_type": "stream",
     "text": [
      " you"
     ]
    },
    {
     "name": "stdout",
     "output_type": "stream",
     "text": [
      " would"
     ]
    },
    {
     "name": "stdout",
     "output_type": "stream",
     "text": [
      " extract"
     ]
    },
    {
     "name": "stdout",
     "output_type": "stream",
     "text": [
      " this"
     ]
    },
    {
     "name": "stdout",
     "output_type": "stream",
     "text": [
      " information"
     ]
    },
    {
     "name": "stdout",
     "output_type": "stream",
     "text": [
      " from"
     ]
    },
    {
     "name": "stdout",
     "output_type": "stream",
     "text": [
      " the"
     ]
    },
    {
     "name": "stdout",
     "output_type": "stream",
     "text": [
      " P"
     ]
    },
    {
     "name": "stdout",
     "output_type": "stream",
     "text": [
      "DB"
     ]
    },
    {
     "name": "stdout",
     "output_type": "stream",
     "text": [
      " file"
     ]
    },
    {
     "name": "stdout",
     "output_type": "stream",
     "text": [
      " header"
     ]
    },
    {
     "name": "stdout",
     "output_type": "stream",
     "text": [
      " or"
     ]
    },
    {
     "name": "stdout",
     "output_type": "stream",
     "text": [
      " a"
     ]
    },
    {
     "name": "stdout",
     "output_type": "stream",
     "text": [
      " database"
     ]
    },
    {
     "name": "stdout",
     "output_type": "stream",
     "text": [
      "."
     ]
    },
    {
     "name": "stdout",
     "output_type": "stream",
     "text": [
      " You"
     ]
    },
    {
     "name": "stdout",
     "output_type": "stream",
     "text": [
      " can"
     ]
    },
    {
     "name": "stdout",
     "output_type": "stream",
     "text": [
      " replace"
     ]
    },
    {
     "name": "stdout",
     "output_type": "stream",
     "text": [
      " the"
     ]
    },
    {
     "name": "stdout",
     "output_type": "stream",
     "text": [
      " placeholder"
     ]
    },
    {
     "name": "stdout",
     "output_type": "stream",
     "text": [
      " `"
     ]
    },
    {
     "name": "stdout",
     "output_type": "stream",
     "text": [
      "un"
     ]
    },
    {
     "name": "stdout",
     "output_type": "stream",
     "text": [
      "ip"
     ]
    },
    {
     "name": "stdout",
     "output_type": "stream",
     "text": [
      "rot"
     ]
    },
    {
     "name": "stdout",
     "output_type": "stream",
     "text": [
      "_id"
     ]
    },
    {
     "name": "stdout",
     "output_type": "stream",
     "text": [
      " ="
     ]
    },
    {
     "name": "stdout",
     "output_type": "stream",
     "text": [
      " \""
     ]
    },
    {
     "name": "stdout",
     "output_type": "stream",
     "text": [
      "P"
     ]
    },
    {
     "name": "stdout",
     "output_type": "stream",
     "text": [
      "123"
     ]
    },
    {
     "name": "stdout",
     "output_type": "stream",
     "text": [
      "45"
     ]
    },
    {
     "name": "stdout",
     "output_type": "stream",
     "text": [
      "\"`"
     ]
    },
    {
     "name": "stdout",
     "output_type": "stream",
     "text": [
      " with"
     ]
    },
    {
     "name": "stdout",
     "output_type": "stream",
     "text": [
      " the"
     ]
    },
    {
     "name": "stdout",
     "output_type": "stream",
     "text": [
      " actual"
     ]
    },
    {
     "name": "stdout",
     "output_type": "stream",
     "text": [
      " Uni"
     ]
    },
    {
     "name": "stdout",
     "output_type": "stream",
     "text": [
      "Prot"
     ]
    },
    {
     "name": "stdout",
     "output_type": "stream",
     "text": [
      " ID"
     ]
    },
    {
     "name": "stdout",
     "output_type": "stream",
     "text": [
      " once"
     ]
    },
    {
     "name": "stdout",
     "output_type": "stream",
     "text": [
      " you"
     ]
    },
    {
     "name": "stdout",
     "output_type": "stream",
     "text": [
      " have"
     ]
    },
    {
     "name": "stdout",
     "output_type": "stream",
     "text": [
      " it"
     ]
    },
    {
     "name": "stdout",
     "output_type": "stream",
     "text": [
      ".\n",
      "\n"
     ]
    },
    {
     "name": "stdout",
     "output_type": "stream",
     "text": [
      "This"
     ]
    },
    {
     "name": "stdout",
     "output_type": "stream",
     "text": [
      " script"
     ]
    },
    {
     "name": "stdout",
     "output_type": "stream",
     "text": [
      " will"
     ]
    },
    {
     "name": "stdout",
     "output_type": "stream",
     "text": [
      " download"
     ]
    },
    {
     "name": "stdout",
     "output_type": "stream",
     "text": [
      " the"
     ]
    },
    {
     "name": "stdout",
     "output_type": "stream",
     "text": [
      " P"
     ]
    },
    {
     "name": "stdout",
     "output_type": "stream",
     "text": [
      "DB"
     ]
    },
    {
     "name": "stdout",
     "output_type": "stream",
     "text": [
      " file"
     ]
    },
    {
     "name": "stdout",
     "output_type": "stream",
     "text": [
      ","
     ]
    },
    {
     "name": "stdout",
     "output_type": "stream",
     "text": [
      " analyze"
     ]
    },
    {
     "name": "stdout",
     "output_type": "stream",
     "text": [
      " the"
     ]
    },
    {
     "name": "stdout",
     "output_type": "stream",
     "text": [
      " secondary"
     ]
    },
    {
     "name": "stdout",
     "output_type": "stream",
     "text": [
      " structure"
     ]
    },
    {
     "name": "stdout",
     "output_type": "stream",
     "text": [
      ","
     ]
    },
    {
     "name": "stdout",
     "output_type": "stream",
     "text": [
      " and"
     ]
    },
    {
     "name": "stdout",
     "output_type": "stream",
     "text": [
      " attempt"
     ]
    },
    {
     "name": "stdout",
     "output_type": "stream",
     "text": [
      " to"
     ]
    },
    {
     "name": "stdout",
     "output_type": "stream",
     "text": [
      " retrieve"
     ]
    },
    {
     "name": "stdout",
     "output_type": "stream",
     "text": [
      " gene"
     ]
    },
    {
     "name": "stdout",
     "output_type": "stream",
     "text": [
      " names"
     ]
    },
    {
     "name": "stdout",
     "output_type": "stream",
     "text": [
      " from"
     ]
    },
    {
     "name": "stdout",
     "output_type": "stream",
     "text": [
      " the"
     ]
    },
    {
     "name": "stdout",
     "output_type": "stream",
     "text": [
      " Uni"
     ]
    },
    {
     "name": "stdout",
     "output_type": "stream",
     "text": [
      "Prot"
     ]
    },
    {
     "name": "stdout",
     "output_type": "stream",
     "text": [
      " database"
     ]
    },
    {
     "name": "stdout",
     "output_type": "stream",
     "text": [
      "."
     ]
    },
    {
     "name": "stdout",
     "output_type": "stream",
     "text": [
      "To complete this task, we will follow these steps:\n",
      "\n",
      "1. Download the PDB file for protein 1GZX.\n",
      "2. Analyze the secondary structure of the protein using MDTraj.\n",
      "3. Retrieve gene names for this protein from the UniProt database.\n",
      "\n",
      "Let's start by writing a Python script to perform these tasks.\n",
      "\n",
      "```python\n",
      "import requests\n",
      "from mdtraj import load_pdb, compute_dssp\n",
      "from Bio import SeqIO\n",
      "from Bio import ExPASy\n",
      "from Bio import SwissProt\n",
      "\n",
      "# Step 1: Download the PDB file for protein 1GZX\n",
      "pdb_id = \"1GZX\"\n",
      "pdb_url = f\"https://files.rcsb.org/download/{pdb_id}.pdb\"\n",
      "pdb_file = f\"{pdb_id}.pdb\"\n",
      "\n",
      "response = requests.get(pdb_url)\n",
      "with open(pdb_file, 'wb') as file:\n",
      "    file.write(response.content)\n",
      "\n",
      "# Step 2: Analyze the secondary structure of the protein using MDTraj\n",
      "traj = load_pdb(pdb_file)\n",
      "dssp = compute_dssp(traj)\n",
      "\n",
      "# Count the number of helices, sheets, and other components\n",
      "helix_count = sum(res == 'H' for res in dssp[0])\n",
      "sheet_count = sum(res == 'E' for res in dssp[0])\n",
      "other_count = len(dssp[0]) - helix_count - sheet_count\n",
      "\n",
      "print(f\"Number of helices: {helix_count}\")\n",
      "print(f\"Number of sheets: {sheet_count}\")\n",
      "print(f\"Number of other components: {other_count}\")\n",
      "\n",
      "# Step 3: Retrieve gene names for this protein from the UniProt database\n",
      "# First, we need to find the UniProt ID for the PDB entry\n",
      "# This information is usually available in the PDB file header or can be found online\n",
      "\n",
      "# For demonstration, let's assume we have the UniProt ID (e.g., P12345)\n",
      "# In practice, you would extract this from the PDB file or a database\n",
      "uniprot_id = \"P12345\"  # Replace with actual UniProt ID\n",
      "\n",
      "# Fetch the UniProt entry\n",
      "handle = ExPASy.get_sprot_raw(uniprot_id)\n",
      "record = SwissProt.read(handle)\n",
      "\n",
      "# Extract gene names\n",
      "gene_names = record.gene_name.split()\n",
      "print(f\"Gene names: {gene_names}\")\n",
      "```\n",
      "\n",
      "Please note that the script assumes you have the UniProt ID for the protein. In practice, you would extract this information from the PDB file header or a database. You can replace the placeholder `uniprot_id = \"P12345\"` with the actual UniProt ID once you have it.\n",
      "\n",
      "This script will download the PDB file, analyze the secondary structure, and attempt to retrieve gene names from the UniProt database.\n"
     ]
    }
   ],
   "source": [
    "ai_msg = llm.invoke(messages)\n",
    "print(ai_msg.content)"
   ]
  },
  {
   "cell_type": "code",
   "execution_count": 6,
   "id": "ff0fb577-e1f4-4c3d-bd06-89badfca9f64",
   "metadata": {
    "execution": {
     "iopub.execute_input": "2024-10-17T00:41:36.950219Z",
     "iopub.status.busy": "2024-10-17T00:41:36.949885Z",
     "iopub.status.idle": "2024-10-17T00:41:36.956720Z",
     "shell.execute_reply": "2024-10-17T00:41:36.955988Z"
    },
    "papermill": {
     "duration": 0.054944,
     "end_time": "2024-10-17T00:41:36.958815",
     "exception": false,
     "start_time": "2024-10-17T00:41:36.903871",
     "status": "completed"
    },
    "tags": []
   },
   "outputs": [
    {
     "name": "stdout",
     "output_type": "stream",
     "text": [
      "date: 2024-10-16\n",
      "time: 20:41:36\n"
     ]
    }
   ],
   "source": [
    "now = datetime.datetime.now()\n",
    "date = now.strftime(\"%Y-%m-%d\")\n",
    "print(\"date:\",date)\n",
    "time = now.strftime(\"%H:%M:%S\")\n",
    "print(\"time:\",time)"
   ]
  },
  {
   "cell_type": "code",
   "execution_count": 1,
   "id": "29d5a9e0-fa88-4aeb-b60c-bdf7a28c4991",
   "metadata": {},
   "outputs": [
    {
     "name": "stdout",
     "output_type": "stream",
     "text": [
      "Number of helices: 444\n",
      "Number of sheets: 0\n",
      "Number of other components: 343\n"
     ]
    },
    {
     "ename": "AttributeError",
     "evalue": "'list' object has no attribute 'split'",
     "output_type": "error",
     "traceback": [
      "\u001b[0;31m---------------------------------------------------------------------------\u001b[0m",
      "\u001b[0;31mAttributeError\u001b[0m                            Traceback (most recent call last)",
      "Cell \u001b[0;32mIn[1], line 43\u001b[0m\n\u001b[1;32m     40\u001b[0m record \u001b[38;5;241m=\u001b[39m SwissProt\u001b[38;5;241m.\u001b[39mread(handle)\n\u001b[1;32m     42\u001b[0m \u001b[38;5;66;03m# Extract gene names\u001b[39;00m\n\u001b[0;32m---> 43\u001b[0m gene_names \u001b[38;5;241m=\u001b[39m \u001b[43mrecord\u001b[49m\u001b[38;5;241;43m.\u001b[39;49m\u001b[43mgene_name\u001b[49m\u001b[38;5;241;43m.\u001b[39;49m\u001b[43msplit\u001b[49m()\n\u001b[1;32m     44\u001b[0m \u001b[38;5;28mprint\u001b[39m(\u001b[38;5;124mf\u001b[39m\u001b[38;5;124m\"\u001b[39m\u001b[38;5;124mGene names: \u001b[39m\u001b[38;5;132;01m{\u001b[39;00mgene_names\u001b[38;5;132;01m}\u001b[39;00m\u001b[38;5;124m\"\u001b[39m)\n",
      "\u001b[0;31mAttributeError\u001b[0m: 'list' object has no attribute 'split'"
     ]
    }
   ],
   "source": [
    "# TEST THE CODE\n",
    "import requests\n",
    "from mdtraj import load_pdb, compute_dssp\n",
    "from Bio import ExPASy\n",
    "from Bio import SwissProt\n",
    "\n",
    "# Step 1: Download the PDB file for protein 1GZX\n",
    "pdb_id = \"1GZX\"\n",
    "pdb_url = f\"https://files.rcsb.org/download/{pdb_id}.pdb\"\n",
    "pdb_file = f\"{pdb_id}.pdb\"\n",
    "\n",
    "response = requests.get(pdb_url)\n",
    "with open(pdb_file, 'wb') as file:\n",
    "    file.write(response.content)\n",
    "\n",
    "# Step 2: Analyze the secondary structure of the protein using MDTraj\n",
    "traj = load_pdb(pdb_file)\n",
    "dssp = compute_dssp(traj)\n",
    "\n",
    "# Count the number of helices, sheets, and other components\n",
    "helix_count = sum(res == 'H' for res in dssp[0])\n",
    "sheet_count = sum(res == 'E' for res in dssp[0])\n",
    "other_count = len(dssp[0]) - helix_count - sheet_count\n",
    "\n",
    "print(f\"Number of helices: {helix_count}\")\n",
    "print(f\"Number of sheets: {sheet_count}\")\n",
    "print(f\"Number of other components: {other_count}\")\n",
    "\n",
    "# Step 3: Retrieve gene names for this protein from the UniProt database\n",
    "# First, we need to find the UniProt ID for the PDB entry\n",
    "# This information is usually available in the PDB file header or can be found online\n",
    "\n",
    "# For demonstration, let's assume we have the UniProt ID (e.g., P12345)\n",
    "# In practice, you would extract this from the PDB file or a database\n",
    "uniprot_id = \"P12345\"  # Replace with actual UniProt ID\n",
    "\n",
    "# Fetch the UniProt entry\n",
    "handle = ExPASy.get_sprot_raw(uniprot_id)\n",
    "record = SwissProt.read(handle)\n",
    "\n",
    "# Extract gene names\n",
    "gene_names = record.gene_name.split()\n",
    "print(f\"Gene names: {gene_names}\")"
   ]
  },
  {
   "cell_type": "code",
   "execution_count": 4,
   "id": "ce837ea1-e9ff-43fe-95d8-6755f2c945e3",
   "metadata": {
    "scrolled": true
   },
   "outputs": [
    {
     "name": "stdout",
     "output_type": "stream",
     "text": [
      "Uniprot ID used: P12345\n",
      "Gene Names found: [{'Name': 'GOT2'}]\n"
     ]
    }
   ],
   "source": [
    "print('Uniprot ID used:',uniprot_id)\n",
    "print('Gene Names found:',record.gene_name)"
   ]
  },
  {
   "cell_type": "code",
   "execution_count": 5,
   "id": "5267b35b-15f8-47a5-9309-9c41350b15d5",
   "metadata": {},
   "outputs": [
    {
     "name": "stdout",
     "output_type": "stream",
     "text": [
      "PDB file for 1GZX exists: True\n"
     ]
    }
   ],
   "source": [
    "import os\n",
    "pdb_id = \"1GZX\"\n",
    "print(f'PDB file for {pdb_id} exists:',os.path.exists(f'{pdb_id}.pdb'))"
   ]
  }
 ],
 "metadata": {
  "kernelspec": {
   "display_name": "mdcrow",
   "language": "python",
   "name": "mdcrow"
  },
  "language_info": {
   "codemirror_mode": {
    "name": "ipython",
    "version": 3
   },
   "file_extension": ".py",
   "mimetype": "text/x-python",
   "name": "python",
   "nbconvert_exporter": "python",
   "pygments_lexer": "ipython3",
   "version": "3.12.4"
  },
  "papermill": {
   "default_parameters": {},
   "duration": 17.440832,
   "end_time": "2024-10-17T00:41:38.141360",
   "environment_variables": {},
   "exception": null,
   "input_path": "exp_template.ipynb",
   "output_path": "exp_3/exp_3.ipynb",
   "parameters": {
    "prompt": "Download the PDB file for protein 1GZX. Then, analyze the secondary structure of the protein and provide information on how many helices, sheets, and other components are present. Get the gene names for this protein."
   },
   "start_time": "2024-10-17T00:41:20.700528",
   "version": "2.6.0"
  }
 },
 "nbformat": 4,
 "nbformat_minor": 5
}
