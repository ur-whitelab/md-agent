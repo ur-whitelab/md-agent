{
 "cells": [
  {
   "cell_type": "code",
   "execution_count": 1,
   "id": "728398b3-6a40-4157-a0ef-1b8f7a96fd58",
   "metadata": {
    "papermill": {
     "duration": 7.308915,
     "end_time": "2024-10-16T20:53:04.266056",
     "exception": false,
     "start_time": "2024-10-16T20:52:56.957141",
     "status": "completed"
    },
    "tags": []
   },
   "outputs": [],
   "source": [
    "import datetime\n",
    "from mdcrow.utils import _make_llm"
   ]
  },
  {
   "cell_type": "code",
   "execution_count": 2,
   "id": "1a8988df-6cb9-4903-86a6-edfcaa6461d1",
   "metadata": {
    "editable": true,
    "papermill": {
     "duration": 0.011377,
     "end_time": "2024-10-16T20:53:04.281708",
     "exception": false,
     "start_time": "2024-10-16T20:53:04.270331",
     "status": "completed"
    },
    "slideshow": {
     "slide_type": ""
    },
    "tags": [
     "parameters"
    ]
   },
   "outputs": [],
   "source": [
    "prompt = \"Write me a code to run simulation of fibronectin.\"\n",
    "model = \"gpt-4o-2024-08-06\""
   ]
  },
  {
   "cell_type": "code",
   "execution_count": 3,
   "id": "fe0908e6",
   "metadata": {
    "papermill": {
     "duration": 0.010971,
     "end_time": "2024-10-16T20:53:04.294985",
     "exception": false,
     "start_time": "2024-10-16T20:53:04.284014",
     "status": "completed"
    },
    "tags": [
     "injected-parameters"
    ]
   },
   "outputs": [],
   "source": [
    "# Parameters\n",
    "prompt = \"Analyze the RDF of the simulation of 1A3N solvated in water.\"\n"
   ]
  },
  {
   "cell_type": "code",
   "execution_count": 4,
   "id": "d1a8a7f8-b5d9-492f-9f23-70bd0177c7a1",
   "metadata": {
    "editable": true,
    "papermill": {
     "duration": 0.04746,
     "end_time": "2024-10-16T20:53:04.344840",
     "exception": false,
     "start_time": "2024-10-16T20:53:04.297380",
     "status": "completed"
    },
    "slideshow": {
     "slide_type": ""
    },
    "tags": []
   },
   "outputs": [
    {
     "name": "stdout",
     "output_type": "stream",
     "text": [
      "date: 2024-10-16\n",
      "time: 20:08:07\n",
      "LLM:  gpt-4o-2024-08-06 \n",
      "Temperature:  0.1\n"
     ]
    }
   ],
   "source": [
    "llm = _make_llm(model, temp=0.1, streaming=True)\n",
    "\n",
    "system_prompt = (\n",
    "    \"You are an expert molecular dynamics scientist, and your \"\n",
    "    \"task is to respond to the question or \"\n",
    "    \"solve the problem in its entirety to the best of your ability. \"\n",
    "    \"If any part of the task requires you to perform an action that \"\n",
    "    \"you are not capable of completing, please write a runnable \"\n",
    "    \"Python script for that step and move on. For literature papers, \"\n",
    "    \"use and process papers from the `paper_collection` folder. \"\n",
    "    \"For .pdb files, download them from the RSCB website using `requests`. \"\n",
    "    \"To preprocess PDB files, you will use PDBFixer. \"\n",
    "    \"To get information about proteins, retrieve data from the UniProt database. \"\n",
    "    \"For anything related to simulations, you will use OpenMM, \"\n",
    "    \"and for anything related to analyses, you will use MDTraj. \"\n",
    "    \"At the end, combine any scripts into one script. \"\n",
    ")\n",
    "messages = [\n",
    "    (\"system\", system_prompt),\n",
    "    (\"human\", prompt),\n",
    "]\n",
    "\n",
    "now = datetime.datetime.now()\n",
    "date = now.strftime(\"%Y-%m-%d\")\n",
    "print(\"date:\",date)\n",
    "time = now.strftime(\"%H:%M:%S\")\n",
    "print(\"time:\",time)\n",
    "print(\"LLM: \",llm.model_name,\"\\nTemperature: \",llm.temperature)"
   ]
  },
  {
   "cell_type": "code",
   "execution_count": 5,
   "id": "43cd734b-be61-4d05-bedb-b798621db3ae",
   "metadata": {
    "papermill": {
     "duration": 14.368929,
     "end_time": "2024-10-16T20:53:18.716422",
     "exception": false,
     "start_time": "2024-10-16T20:53:04.347493",
     "status": "completed"
    },
    "scrolled": true,
    "tags": []
   },
   "outputs": [
    {
     "name": "stdout",
     "output_type": "stream",
     "text": [
      "To analyze the radial distribution function (RDF) of a simulation of the protein 1A3N solvated in water, we need to perform the following steps:\n",
      "\n",
      "1. **Download the PDB file for 1A3N.**\n",
      "2. **Prepare the system for simulation:**\n",
      "   - Solvate the protein in a water box.\n",
      "   - Add ions if necessary to neutralize the system.\n",
      "3. **Run a molecular dynamics simulation using OpenMM.**\n",
      "4. **Analyze the trajectory to compute the RDF using MDTraj.**\n",
      "\n",
      "Let's go through these steps with the necessary Python scripts.\n",
      "\n",
      "### Step 1: Download the PDB file for 1A3N\n",
      "\n",
      "```python\n",
      "import requests\n",
      "\n",
      "def download_pdb(pdb_id):\n",
      "    url = f\"https://files.rcsb.org/download/{pdb_id}.pdb\"\n",
      "    response = requests.get(url)\n",
      "    if response.status_code == 200:\n",
      "        with open(f\"{pdb_id}.pdb\", \"w\") as file:\n",
      "            file.write(response.text)\n",
      "    else:\n",
      "        raise Exception(f\"Failed to download PDB file for {pdb_id}\")\n",
      "\n",
      "download_pdb(\"1A3N\")\n",
      "```\n",
      "\n",
      "### Step 2: Prepare the system for simulation\n",
      "\n",
      "```python\n",
      "from pdbfixer import PDBFixer\n",
      "from openmm.app import *\n",
      "from openmm import *\n",
      "from openmm.unit import *\n",
      "import simtk.openmm.app as app\n",
      "\n",
      "def prepare_system(pdb_file):\n",
      "    fixer = PDBFixer(filename=pdb_file)\n",
      "    fixer.findMissingResidues()\n",
      "    fixer.findMissingAtoms()\n",
      "    fixer.addMissingAtoms()\n",
      "    fixer.addMissingHydrogens()\n",
      "\n",
      "    forcefield = ForceField('amber14-all.xml', 'amber14/tip3pfb.xml')\n",
      "    modeller = Modeller(fixer.topology, fixer.positions)\n",
      "    modeller.addSolvent(forcefield, model='tip3p', padding=1.0*nanometers)\n",
      "\n",
      "    system = forcefield.createSystem(modeller.topology, nonbondedMethod=PME,\n",
      "                                     nonbondedCutoff=1.0*nanometers, constraints=HBonds)\n",
      "    integrator = LangevinIntegrator(300*kelvin, 1/picosecond, 0.002*picoseconds)\n",
      "    simulation = Simulation(modeller.topology, system, integrator)\n",
      "    simulation.context.setPositions(modeller.positions)\n",
      "\n",
      "    return simulation\n",
      "\n",
      "simulation = prepare_system(\"1A3N.pdb\")\n",
      "```\n",
      "\n",
      "### Step 3: Run a molecular dynamics simulation\n",
      "\n",
      "```python\n",
      "def run_simulation(simulation, steps=10000):\n",
      "    simulation.minimizeEnergy()\n",
      "    simulation.context.setVelocitiesToTemperature(300*kelvin)\n",
      "    simulation.reporters.append(StateDataReporter(stdout, 1000, step=True,\n",
      "                                                  potentialEnergy=True, temperature=True))\n",
      "    simulation.reporters.append(DCDReporter('trajectory.dcd', 1000))\n",
      "    simulation.step(steps)\n",
      "\n",
      "run_simulation(simulation)\n",
      "```\n",
      "\n",
      "### Step 4: Analyze the trajectory to compute the RDF\n",
      "\n",
      "```python\n",
      "import mdtraj as md\n",
      "\n",
      "def compute_rdf(trajectory_file, topology_file, atom_pairs, r_range=(0.0, 1.0), bin_width=0.01):\n",
      "    traj = md.load(trajectory_file, top=topology_file)\n",
      "    rdf, r = md.compute_rdf(traj, pairs=atom_pairs, r_range=r_range, bin_width=bin_width)\n",
      "    return rdf, r\n",
      "\n",
      "# Define atom pairs for RDF calculation (e.g., between oxygen atoms of water molecules)\n",
      "# This is a placeholder; you need to specify the actual atom indices or selection criteria.\n",
      "atom_pairs = [(i, j) for i in range(100) for j in range(100, 200)]  # Example pairs\n",
      "\n",
      "rdf, r = compute_rdf('trajectory.dcd', '1A3N.pdb', atom_pairs)\n",
      "\n",
      "# Plot the RDF\n",
      "import matplotlib.pyplot as plt\n",
      "\n",
      "plt.plot(r, rdf)\n",
      "plt.xlabel('Distance (nm)')\n",
      "plt.ylabel('g(r)')\n",
      "plt.title('Radial Distribution Function')\n",
      "plt.show()\n",
      "```\n",
      "\n",
      "### Final Combined Script\n",
      "\n",
      "```python\n",
      "import requests\n",
      "from pdbfixer import PDBFixer\n",
      "from openmm.app import *\n",
      "from openmm import *\n",
      "from openmm.unit import *\n",
      "import simtk.openmm.app as app\n",
      "import mdtraj as md\n",
      "import matplotlib.pyplot as plt\n",
      "\n",
      "def download_pdb(pdb_id):\n",
      "    url = f\"https://files.rcsb.org/download/{pdb_id}.pdb\"\n",
      "    response = requests.get(url)\n",
      "    if response.status_code == 200:\n",
      "        with open(f\"{pdb_id}.pdb\", \"w\") as file:\n",
      "            file.write(response.text)\n",
      "    else:\n",
      "        raise Exception(f\"Failed to download PDB file for {pdb_id}\")\n",
      "\n",
      "def prepare_system(pdb_file):\n",
      "    fixer = PDBFixer(filename=pdb_file)\n",
      "    fixer.findMissingResidues()\n",
      "    fixer.findMissingAtoms()\n",
      "    fixer.addMissingAtoms()\n",
      "    fixer.addMissingHydrogens()\n",
      "\n",
      "    forcefield = ForceField('amber14-all.xml', 'amber14/tip3pfb.xml')\n",
      "    modeller = Modeller(fixer.topology, fixer.positions)\n",
      "    modeller.addSolvent(forcefield, model='tip3p', padding=1.0*nanometers)\n",
      "\n",
      "    system = forcefield.createSystem(modeller.topology, nonbondedMethod=PME,\n",
      "                                     nonbondedCutoff=1.0*nanometers, constraints=HBonds)\n",
      "    integrator = LangevinIntegrator(300*kelvin, 1/picosecond, 0.002*picoseconds)\n",
      "    simulation = Simulation(modeller.topology, system, integrator)\n",
      "    simulation.context.setPositions(modeller.positions)\n",
      "\n",
      "    return simulation\n",
      "\n",
      "def run_simulation(simulation, steps=10000):\n",
      "    simulation.minimizeEnergy()\n",
      "    simulation.context.setVelocitiesToTemperature(300*kelvin)\n",
      "    simulation.reporters.append(StateDataReporter(stdout, 1000, step=True,\n",
      "                                                  potentialEnergy=True, temperature=True))\n",
      "    simulation.reporters.append(DCDReporter('trajectory.dcd', 1000))\n",
      "    simulation.step(steps)\n",
      "\n",
      "def compute_rdf(trajectory_file, topology_file, atom_pairs, r_range=(0.0, 1.0), bin_width=0.01):\n",
      "    traj = md.load(trajectory_file, top=topology_file)\n",
      "    rdf, r = md.compute_rdf(traj, pairs=atom_pairs, r_range=r_range, bin_width=bin_width)\n",
      "    return rdf, r\n",
      "\n",
      "def main():\n",
      "    pdb_id = \"1A3N\"\n",
      "    download_pdb(pdb_id)\n",
      "    simulation = prepare_system(f\"{pdb_id}.pdb\")\n",
      "    run_simulation(simulation)\n",
      "\n",
      "    # Define atom pairs for RDF calculation (e.g., between oxygen atoms of water molecules)\n",
      "    # This is a placeholder; you need to specify the actual atom indices or selection criteria.\n",
      "    atom_pairs = [(i, j) for i in range(100) for j in range(100, 200)]  # Example pairs\n",
      "\n",
      "    rdf, r = compute_rdf('trajectory.dcd', f\"{pdb_id}.pdb\", atom_pairs)\n",
      "\n",
      "    plt.plot(r, rdf)\n",
      "    plt.xlabel('Distance (nm)')\n",
      "    plt.ylabel('g(r)')\n",
      "    plt.title('Radial Distribution Function')\n",
      "    plt.show()\n",
      "\n",
      "if __name__ == \"__main__\":\n",
      "    main()\n",
      "```\n",
      "\n",
      "This script will download the PDB file for 1A3N, prepare the system, run a short molecular dynamics simulation, and then compute and plot the RDF. Note that the atom pairs for RDF calculation are placeholders and should be defined based on the specific analysis you want to perform.To analyze the radial distribution function (RDF) of a simulation of the protein 1A3N solvated in water, we need to perform the following steps:\n",
      "\n",
      "1. **Download the PDB file for 1A3N.**\n",
      "2. **Prepare the system for simulation:**\n",
      "   - Solvate the protein in a water box.\n",
      "   - Add ions if necessary to neutralize the system.\n",
      "3. **Run a molecular dynamics simulation using OpenMM.**\n",
      "4. **Analyze the trajectory to compute the RDF using MDTraj.**\n",
      "\n",
      "Let's go through these steps with the necessary Python scripts.\n",
      "\n",
      "### Step 1: Download the PDB file for 1A3N\n",
      "\n",
      "```python\n",
      "import requests\n",
      "\n",
      "def download_pdb(pdb_id):\n",
      "    url = f\"https://files.rcsb.org/download/{pdb_id}.pdb\"\n",
      "    response = requests.get(url)\n",
      "    if response.status_code == 200:\n",
      "        with open(f\"{pdb_id}.pdb\", \"w\") as file:\n",
      "            file.write(response.text)\n",
      "    else:\n",
      "        raise Exception(f\"Failed to download PDB file for {pdb_id}\")\n",
      "\n",
      "download_pdb(\"1A3N\")\n",
      "```\n",
      "\n",
      "### Step 2: Prepare the system for simulation\n",
      "\n",
      "```python\n",
      "from pdbfixer import PDBFixer\n",
      "from openmm.app import *\n",
      "from openmm import *\n",
      "from openmm.unit import *\n",
      "import simtk.openmm.app as app\n",
      "\n",
      "def prepare_system(pdb_file):\n",
      "    fixer = PDBFixer(filename=pdb_file)\n",
      "    fixer.findMissingResidues()\n",
      "    fixer.findMissingAtoms()\n",
      "    fixer.addMissingAtoms()\n",
      "    fixer.addMissingHydrogens()\n",
      "\n",
      "    forcefield = ForceField('amber14-all.xml', 'amber14/tip3pfb.xml')\n",
      "    modeller = Modeller(fixer.topology, fixer.positions)\n",
      "    modeller.addSolvent(forcefield, model='tip3p', padding=1.0*nanometers)\n",
      "\n",
      "    system = forcefield.createSystem(modeller.topology, nonbondedMethod=PME,\n",
      "                                     nonbondedCutoff=1.0*nanometers, constraints=HBonds)\n",
      "    integrator = LangevinIntegrator(300*kelvin, 1/picosecond, 0.002*picoseconds)\n",
      "    simulation = Simulation(modeller.topology, system, integrator)\n",
      "    simulation.context.setPositions(modeller.positions)\n",
      "\n",
      "    return simulation\n",
      "\n",
      "simulation = prepare_system(\"1A3N.pdb\")\n",
      "```\n",
      "\n",
      "### Step 3: Run a molecular dynamics simulation\n",
      "\n",
      "```python\n",
      "def run_simulation(simulation, steps=10000):\n",
      "    simulation.minimizeEnergy()\n",
      "    simulation.context.setVelocitiesToTemperature(300*kelvin)\n",
      "    simulation.reporters.append(StateDataReporter(stdout, 1000, step=True,\n",
      "                                                  potentialEnergy=True, temperature=True))\n",
      "    simulation.reporters.append(DCDReporter('trajectory.dcd', 1000))\n",
      "    simulation.step(steps)\n",
      "\n",
      "run_simulation(simulation)\n",
      "```\n",
      "\n",
      "### Step 4: Analyze the trajectory to compute the RDF\n",
      "\n",
      "```python\n",
      "import mdtraj as md\n",
      "\n",
      "def compute_rdf(trajectory_file, topology_file, atom_pairs, r_range=(0.0, 1.0), bin_width=0.01):\n",
      "    traj = md.load(trajectory_file, top=topology_file)\n",
      "    rdf, r = md.compute_rdf(traj, pairs=atom_pairs, r_range=r_range, bin_width=bin_width)\n",
      "    return rdf, r\n",
      "\n",
      "# Define atom pairs for RDF calculation (e.g., between oxygen atoms of water molecules)\n",
      "# This is a placeholder; you need to specify the actual atom indices or selection criteria.\n",
      "atom_pairs = [(i, j) for i in range(100) for j in range(100, 200)]  # Example pairs\n",
      "\n",
      "rdf, r = compute_rdf('trajectory.dcd', '1A3N.pdb', atom_pairs)\n",
      "\n",
      "# Plot the RDF\n",
      "import matplotlib.pyplot as plt\n",
      "\n",
      "plt.plot(r, rdf)\n",
      "plt.xlabel('Distance (nm)')\n",
      "plt.ylabel('g(r)')\n",
      "plt.title('Radial Distribution Function')\n",
      "plt.show()\n",
      "```\n",
      "\n",
      "### Final Combined Script\n",
      "\n",
      "```python\n",
      "import requests\n",
      "from pdbfixer import PDBFixer\n",
      "from openmm.app import *\n",
      "from openmm import *\n",
      "from openmm.unit import *\n",
      "import simtk.openmm.app as app\n",
      "import mdtraj as md\n",
      "import matplotlib.pyplot as plt\n",
      "\n",
      "def download_pdb(pdb_id):\n",
      "    url = f\"https://files.rcsb.org/download/{pdb_id}.pdb\"\n",
      "    response = requests.get(url)\n",
      "    if response.status_code == 200:\n",
      "        with open(f\"{pdb_id}.pdb\", \"w\") as file:\n",
      "            file.write(response.text)\n",
      "    else:\n",
      "        raise Exception(f\"Failed to download PDB file for {pdb_id}\")\n",
      "\n",
      "def prepare_system(pdb_file):\n",
      "    fixer = PDBFixer(filename=pdb_file)\n",
      "    fixer.findMissingResidues()\n",
      "    fixer.findMissingAtoms()\n",
      "    fixer.addMissingAtoms()\n",
      "    fixer.addMissingHydrogens()\n",
      "\n",
      "    forcefield = ForceField('amber14-all.xml', 'amber14/tip3pfb.xml')\n",
      "    modeller = Modeller(fixer.topology, fixer.positions)\n",
      "    modeller.addSolvent(forcefield, model='tip3p', padding=1.0*nanometers)\n",
      "\n",
      "    system = forcefield.createSystem(modeller.topology, nonbondedMethod=PME,\n",
      "                                     nonbondedCutoff=1.0*nanometers, constraints=HBonds)\n",
      "    integrator = LangevinIntegrator(300*kelvin, 1/picosecond, 0.002*picoseconds)\n",
      "    simulation = Simulation(modeller.topology, system, integrator)\n",
      "    simulation.context.setPositions(modeller.positions)\n",
      "\n",
      "    return simulation\n",
      "\n",
      "def run_simulation(simulation, steps=10000):\n",
      "    simulation.minimizeEnergy()\n",
      "    simulation.context.setVelocitiesToTemperature(300*kelvin)\n",
      "    simulation.reporters.append(StateDataReporter(stdout, 1000, step=True,\n",
      "                                                  potentialEnergy=True, temperature=True))\n",
      "    simulation.reporters.append(DCDReporter('trajectory.dcd', 1000))\n",
      "    simulation.step(steps)\n",
      "\n",
      "def compute_rdf(trajectory_file, topology_file, atom_pairs, r_range=(0.0, 1.0), bin_width=0.01):\n",
      "    traj = md.load(trajectory_file, top=topology_file)\n",
      "    rdf, r = md.compute_rdf(traj, pairs=atom_pairs, r_range=r_range, bin_width=bin_width)\n",
      "    return rdf, r\n",
      "\n",
      "def main():\n",
      "    pdb_id = \"1A3N\"\n",
      "    download_pdb(pdb_id)\n",
      "    simulation = prepare_system(f\"{pdb_id}.pdb\")\n",
      "    run_simulation(simulation)\n",
      "\n",
      "    # Define atom pairs for RDF calculation (e.g., between oxygen atoms of water molecules)\n",
      "    # This is a placeholder; you need to specify the actual atom indices or selection criteria.\n",
      "    atom_pairs = [(i, j) for i in range(100) for j in range(100, 200)]  # Example pairs\n",
      "\n",
      "    rdf, r = compute_rdf('trajectory.dcd', f\"{pdb_id}.pdb\", atom_pairs)\n",
      "\n",
      "    plt.plot(r, rdf)\n",
      "    plt.xlabel('Distance (nm)')\n",
      "    plt.ylabel('g(r)')\n",
      "    plt.title('Radial Distribution Function')\n",
      "    plt.show()\n",
      "\n",
      "if __name__ == \"__main__\":\n",
      "    main()\n",
      "```\n",
      "\n",
      "This script will download the PDB file for 1A3N, prepare the system, run a short molecular dynamics simulation, and then compute and plot the RDF. Note that the atom pairs for RDF calculation are placeholders and should be defined based on the specific analysis you want to perform.\n"
     ]
    },
    {
     "name": "stdout",
     "output_type": "stream",
     "text": [
      " radial"
     ]
    },
    {
     "name": "stdout",
     "output_type": "stream",
     "text": [
      " distribution"
     ]
    },
    {
     "name": "stdout",
     "output_type": "stream",
     "text": [
      " function"
     ]
    },
    {
     "name": "stdout",
     "output_type": "stream",
     "text": [
      " ("
     ]
    },
    {
     "name": "stdout",
     "output_type": "stream",
     "text": [
      "R"
     ]
    },
    {
     "name": "stdout",
     "output_type": "stream",
     "text": [
      "DF"
     ]
    },
    {
     "name": "stdout",
     "output_type": "stream",
     "text": [
      ")"
     ]
    },
    {
     "name": "stdout",
     "output_type": "stream",
     "text": [
      " of"
     ]
    },
    {
     "name": "stdout",
     "output_type": "stream",
     "text": [
      " a"
     ]
    },
    {
     "name": "stdout",
     "output_type": "stream",
     "text": [
      " simulation"
     ]
    },
    {
     "name": "stdout",
     "output_type": "stream",
     "text": [
      " of"
     ]
    },
    {
     "name": "stdout",
     "output_type": "stream",
     "text": [
      " the"
     ]
    },
    {
     "name": "stdout",
     "output_type": "stream",
     "text": [
      " protein"
     ]
    },
    {
     "name": "stdout",
     "output_type": "stream",
     "text": [
      " "
     ]
    },
    {
     "name": "stdout",
     "output_type": "stream",
     "text": [
      "1"
     ]
    },
    {
     "name": "stdout",
     "output_type": "stream",
     "text": [
      "A"
     ]
    },
    {
     "name": "stdout",
     "output_type": "stream",
     "text": [
      "3"
     ]
    },
    {
     "name": "stdout",
     "output_type": "stream",
     "text": [
      "N"
     ]
    },
    {
     "name": "stdout",
     "output_type": "stream",
     "text": [
      " solv"
     ]
    },
    {
     "name": "stdout",
     "output_type": "stream",
     "text": [
      "ated"
     ]
    },
    {
     "name": "stdout",
     "output_type": "stream",
     "text": [
      " in"
     ]
    },
    {
     "name": "stdout",
     "output_type": "stream",
     "text": [
      " water"
     ]
    },
    {
     "name": "stdout",
     "output_type": "stream",
     "text": [
      ","
     ]
    },
    {
     "name": "stdout",
     "output_type": "stream",
     "text": [
      " we"
     ]
    },
    {
     "name": "stdout",
     "output_type": "stream",
     "text": [
      " need"
     ]
    },
    {
     "name": "stdout",
     "output_type": "stream",
     "text": [
      " to"
     ]
    },
    {
     "name": "stdout",
     "output_type": "stream",
     "text": [
      " follow"
     ]
    },
    {
     "name": "stdout",
     "output_type": "stream",
     "text": [
      " these"
     ]
    },
    {
     "name": "stdout",
     "output_type": "stream",
     "text": [
      " steps"
     ]
    },
    {
     "name": "stdout",
     "output_type": "stream",
     "text": [
      ":\n",
      "\n"
     ]
    },
    {
     "name": "stdout",
     "output_type": "stream",
     "text": [
      "1"
     ]
    },
    {
     "name": "stdout",
     "output_type": "stream",
     "text": [
      "."
     ]
    },
    {
     "name": "stdout",
     "output_type": "stream",
     "text": [
      " **"
     ]
    },
    {
     "name": "stdout",
     "output_type": "stream",
     "text": [
      "Download"
     ]
    },
    {
     "name": "stdout",
     "output_type": "stream",
     "text": [
      " the"
     ]
    },
    {
     "name": "stdout",
     "output_type": "stream",
     "text": [
      " P"
     ]
    },
    {
     "name": "stdout",
     "output_type": "stream",
     "text": [
      "DB"
     ]
    },
    {
     "name": "stdout",
     "output_type": "stream",
     "text": [
      " file"
     ]
    },
    {
     "name": "stdout",
     "output_type": "stream",
     "text": [
      " for"
     ]
    },
    {
     "name": "stdout",
     "output_type": "stream",
     "text": [
      " "
     ]
    },
    {
     "name": "stdout",
     "output_type": "stream",
     "text": [
      "1"
     ]
    },
    {
     "name": "stdout",
     "output_type": "stream",
     "text": [
      "A"
     ]
    },
    {
     "name": "stdout",
     "output_type": "stream",
     "text": [
      "3"
     ]
    },
    {
     "name": "stdout",
     "output_type": "stream",
     "text": [
      "N"
     ]
    },
    {
     "name": "stdout",
     "output_type": "stream",
     "text": [
      "**"
     ]
    },
    {
     "name": "stdout",
     "output_type": "stream",
     "text": [
      ":"
     ]
    },
    {
     "name": "stdout",
     "output_type": "stream",
     "text": [
      " We'll"
     ]
    },
    {
     "name": "stdout",
     "output_type": "stream",
     "text": [
      " retrieve"
     ]
    },
    {
     "name": "stdout",
     "output_type": "stream",
     "text": [
      " the"
     ]
    },
    {
     "name": "stdout",
     "output_type": "stream",
     "text": [
      " P"
     ]
    },
    {
     "name": "stdout",
     "output_type": "stream",
     "text": [
      "DB"
     ]
    },
    {
     "name": "stdout",
     "output_type": "stream",
     "text": [
      " file"
     ]
    },
    {
     "name": "stdout",
     "output_type": "stream",
     "text": [
      " from"
     ]
    },
    {
     "name": "stdout",
     "output_type": "stream",
     "text": [
      " the"
     ]
    },
    {
     "name": "stdout",
     "output_type": "stream",
     "text": [
      " R"
     ]
    },
    {
     "name": "stdout",
     "output_type": "stream",
     "text": [
      "CS"
     ]
    },
    {
     "name": "stdout",
     "output_type": "stream",
     "text": [
      "B"
     ]
    },
    {
     "name": "stdout",
     "output_type": "stream",
     "text": [
      " P"
     ]
    },
    {
     "name": "stdout",
     "output_type": "stream",
     "text": [
      "DB"
     ]
    },
    {
     "name": "stdout",
     "output_type": "stream",
     "text": [
      " database"
     ]
    },
    {
     "name": "stdout",
     "output_type": "stream",
     "text": [
      ".\n"
     ]
    },
    {
     "name": "stdout",
     "output_type": "stream",
     "text": [
      "2"
     ]
    },
    {
     "name": "stdout",
     "output_type": "stream",
     "text": [
      "."
     ]
    },
    {
     "name": "stdout",
     "output_type": "stream",
     "text": [
      " **"
     ]
    },
    {
     "name": "stdout",
     "output_type": "stream",
     "text": [
      "Prepare"
     ]
    },
    {
     "name": "stdout",
     "output_type": "stream",
     "text": [
      " the"
     ]
    },
    {
     "name": "stdout",
     "output_type": "stream",
     "text": [
      " system"
     ]
    },
    {
     "name": "stdout",
     "output_type": "stream",
     "text": [
      " for"
     ]
    },
    {
     "name": "stdout",
     "output_type": "stream",
     "text": [
      " simulation"
     ]
    },
    {
     "name": "stdout",
     "output_type": "stream",
     "text": [
      "**"
     ]
    },
    {
     "name": "stdout",
     "output_type": "stream",
     "text": [
      ":"
     ]
    },
    {
     "name": "stdout",
     "output_type": "stream",
     "text": [
      " This"
     ]
    },
    {
     "name": "stdout",
     "output_type": "stream",
     "text": [
      " involves"
     ]
    },
    {
     "name": "stdout",
     "output_type": "stream",
     "text": [
      " setting"
     ]
    },
    {
     "name": "stdout",
     "output_type": "stream",
     "text": [
      " up"
     ]
    },
    {
     "name": "stdout",
     "output_type": "stream",
     "text": [
      " the"
     ]
    },
    {
     "name": "stdout",
     "output_type": "stream",
     "text": [
      " protein"
     ]
    },
    {
     "name": "stdout",
     "output_type": "stream",
     "text": [
      " in"
     ]
    },
    {
     "name": "stdout",
     "output_type": "stream",
     "text": [
      " a"
     ]
    },
    {
     "name": "stdout",
     "output_type": "stream",
     "text": [
      " water"
     ]
    },
    {
     "name": "stdout",
     "output_type": "stream",
     "text": [
      " box"
     ]
    },
    {
     "name": "stdout",
     "output_type": "stream",
     "text": [
      ","
     ]
    },
    {
     "name": "stdout",
     "output_type": "stream",
     "text": [
      " adding"
     ]
    },
    {
     "name": "stdout",
     "output_type": "stream",
     "text": [
      " ions"
     ]
    },
    {
     "name": "stdout",
     "output_type": "stream",
     "text": [
      " if"
     ]
    },
    {
     "name": "stdout",
     "output_type": "stream",
     "text": [
      " necessary"
     ]
    },
    {
     "name": "stdout",
     "output_type": "stream",
     "text": [
      ","
     ]
    },
    {
     "name": "stdout",
     "output_type": "stream",
     "text": [
      " and"
     ]
    },
    {
     "name": "stdout",
     "output_type": "stream",
     "text": [
      " defining"
     ]
    },
    {
     "name": "stdout",
     "output_type": "stream",
     "text": [
      " the"
     ]
    },
    {
     "name": "stdout",
     "output_type": "stream",
     "text": [
      " force"
     ]
    },
    {
     "name": "stdout",
     "output_type": "stream",
     "text": [
      " field"
     ]
    },
    {
     "name": "stdout",
     "output_type": "stream",
     "text": [
      " parameters"
     ]
    },
    {
     "name": "stdout",
     "output_type": "stream",
     "text": [
      ".\n"
     ]
    },
    {
     "name": "stdout",
     "output_type": "stream",
     "text": [
      "3"
     ]
    },
    {
     "name": "stdout",
     "output_type": "stream",
     "text": [
      "."
     ]
    },
    {
     "name": "stdout",
     "output_type": "stream",
     "text": [
      " **"
     ]
    },
    {
     "name": "stdout",
     "output_type": "stream",
     "text": [
      "Run"
     ]
    },
    {
     "name": "stdout",
     "output_type": "stream",
     "text": [
      " the"
     ]
    },
    {
     "name": "stdout",
     "output_type": "stream",
     "text": [
      " molecular"
     ]
    },
    {
     "name": "stdout",
     "output_type": "stream",
     "text": [
      " dynamics"
     ]
    },
    {
     "name": "stdout",
     "output_type": "stream",
     "text": [
      " simulation"
     ]
    },
    {
     "name": "stdout",
     "output_type": "stream",
     "text": [
      "**"
     ]
    },
    {
     "name": "stdout",
     "output_type": "stream",
     "text": [
      ":"
     ]
    },
    {
     "name": "stdout",
     "output_type": "stream",
     "text": [
      " We'll"
     ]
    },
    {
     "name": "stdout",
     "output_type": "stream",
     "text": [
      " use"
     ]
    },
    {
     "name": "stdout",
     "output_type": "stream",
     "text": [
      " Open"
     ]
    },
    {
     "name": "stdout",
     "output_type": "stream",
     "text": [
      "MM"
     ]
    },
    {
     "name": "stdout",
     "output_type": "stream",
     "text": [
      " to"
     ]
    },
    {
     "name": "stdout",
     "output_type": "stream",
     "text": [
      " perform"
     ]
    },
    {
     "name": "stdout",
     "output_type": "stream",
     "text": [
      " the"
     ]
    },
    {
     "name": "stdout",
     "output_type": "stream",
     "text": [
      " simulation"
     ]
    },
    {
     "name": "stdout",
     "output_type": "stream",
     "text": [
      ".\n"
     ]
    },
    {
     "name": "stdout",
     "output_type": "stream",
     "text": [
      "4"
     ]
    },
    {
     "name": "stdout",
     "output_type": "stream",
     "text": [
      "."
     ]
    },
    {
     "name": "stdout",
     "output_type": "stream",
     "text": [
      " **"
     ]
    },
    {
     "name": "stdout",
     "output_type": "stream",
     "text": [
      "Analyze"
     ]
    },
    {
     "name": "stdout",
     "output_type": "stream",
     "text": [
      " the"
     ]
    },
    {
     "name": "stdout",
     "output_type": "stream",
     "text": [
      " RDF"
     ]
    },
    {
     "name": "stdout",
     "output_type": "stream",
     "text": [
      "**"
     ]
    },
    {
     "name": "stdout",
     "output_type": "stream",
     "text": [
      ":"
     ]
    },
    {
     "name": "stdout",
     "output_type": "stream",
     "text": [
      " Use"
     ]
    },
    {
     "name": "stdout",
     "output_type": "stream",
     "text": [
      " MDT"
     ]
    },
    {
     "name": "stdout",
     "output_type": "stream",
     "text": [
      "raj"
     ]
    },
    {
     "name": "stdout",
     "output_type": "stream",
     "text": [
      " to"
     ]
    },
    {
     "name": "stdout",
     "output_type": "stream",
     "text": [
      " calculate"
     ]
    },
    {
     "name": "stdout",
     "output_type": "stream",
     "text": [
      " and"
     ]
    },
    {
     "name": "stdout",
     "output_type": "stream",
     "text": [
      " plot"
     ]
    },
    {
     "name": "stdout",
     "output_type": "stream",
     "text": [
      " the"
     ]
    },
    {
     "name": "stdout",
     "output_type": "stream",
     "text": [
      " RDF"
     ]
    },
    {
     "name": "stdout",
     "output_type": "stream",
     "text": [
      " of"
     ]
    },
    {
     "name": "stdout",
     "output_type": "stream",
     "text": [
      " the"
     ]
    },
    {
     "name": "stdout",
     "output_type": "stream",
     "text": [
      " system"
     ]
    },
    {
     "name": "stdout",
     "output_type": "stream",
     "text": [
      ".\n",
      "\n"
     ]
    },
    {
     "name": "stdout",
     "output_type": "stream",
     "text": [
      "Let's"
     ]
    },
    {
     "name": "stdout",
     "output_type": "stream",
     "text": [
      " start"
     ]
    },
    {
     "name": "stdout",
     "output_type": "stream",
     "text": [
      " by"
     ]
    },
    {
     "name": "stdout",
     "output_type": "stream",
     "text": [
      " writing"
     ]
    },
    {
     "name": "stdout",
     "output_type": "stream",
     "text": [
      " a"
     ]
    },
    {
     "name": "stdout",
     "output_type": "stream",
     "text": [
      " Python"
     ]
    },
    {
     "name": "stdout",
     "output_type": "stream",
     "text": [
      " script"
     ]
    },
    {
     "name": "stdout",
     "output_type": "stream",
     "text": [
      " to"
     ]
    },
    {
     "name": "stdout",
     "output_type": "stream",
     "text": [
      " download"
     ]
    },
    {
     "name": "stdout",
     "output_type": "stream",
     "text": [
      " the"
     ]
    },
    {
     "name": "stdout",
     "output_type": "stream",
     "text": [
      " P"
     ]
    },
    {
     "name": "stdout",
     "output_type": "stream",
     "text": [
      "DB"
     ]
    },
    {
     "name": "stdout",
     "output_type": "stream",
     "text": [
      " file"
     ]
    },
    {
     "name": "stdout",
     "output_type": "stream",
     "text": [
      " and"
     ]
    },
    {
     "name": "stdout",
     "output_type": "stream",
     "text": [
      " set"
     ]
    },
    {
     "name": "stdout",
     "output_type": "stream",
     "text": [
      " up"
     ]
    },
    {
     "name": "stdout",
     "output_type": "stream",
     "text": [
      " the"
     ]
    },
    {
     "name": "stdout",
     "output_type": "stream",
     "text": [
      " simulation"
     ]
    },
    {
     "name": "stdout",
     "output_type": "stream",
     "text": [
      ".\n",
      "\n"
     ]
    },
    {
     "name": "stdout",
     "output_type": "stream",
     "text": [
      "###"
     ]
    },
    {
     "name": "stdout",
     "output_type": "stream",
     "text": [
      " Step"
     ]
    },
    {
     "name": "stdout",
     "output_type": "stream",
     "text": [
      " "
     ]
    },
    {
     "name": "stdout",
     "output_type": "stream",
     "text": [
      "1"
     ]
    },
    {
     "name": "stdout",
     "output_type": "stream",
     "text": [
      ":"
     ]
    },
    {
     "name": "stdout",
     "output_type": "stream",
     "text": [
      " Download"
     ]
    },
    {
     "name": "stdout",
     "output_type": "stream",
     "text": [
      " the"
     ]
    },
    {
     "name": "stdout",
     "output_type": "stream",
     "text": [
      " P"
     ]
    },
    {
     "name": "stdout",
     "output_type": "stream",
     "text": [
      "DB"
     ]
    },
    {
     "name": "stdout",
     "output_type": "stream",
     "text": [
      " file"
     ]
    },
    {
     "name": "stdout",
     "output_type": "stream",
     "text": [
      " for"
     ]
    },
    {
     "name": "stdout",
     "output_type": "stream",
     "text": [
      " "
     ]
    },
    {
     "name": "stdout",
     "output_type": "stream",
     "text": [
      "1"
     ]
    },
    {
     "name": "stdout",
     "output_type": "stream",
     "text": [
      "A"
     ]
    },
    {
     "name": "stdout",
     "output_type": "stream",
     "text": [
      "3"
     ]
    },
    {
     "name": "stdout",
     "output_type": "stream",
     "text": [
      "N"
     ]
    },
    {
     "name": "stdout",
     "output_type": "stream",
     "text": [
      "\n",
      "\n"
     ]
    },
    {
     "name": "stdout",
     "output_type": "stream",
     "text": [
      "```"
     ]
    },
    {
     "name": "stdout",
     "output_type": "stream",
     "text": [
      "python"
     ]
    },
    {
     "name": "stdout",
     "output_type": "stream",
     "text": [
      "\n"
     ]
    },
    {
     "name": "stdout",
     "output_type": "stream",
     "text": [
      "import"
     ]
    },
    {
     "name": "stdout",
     "output_type": "stream",
     "text": [
      " requests"
     ]
    },
    {
     "name": "stdout",
     "output_type": "stream",
     "text": [
      "\n",
      "\n"
     ]
    },
    {
     "name": "stdout",
     "output_type": "stream",
     "text": [
      "def"
     ]
    },
    {
     "name": "stdout",
     "output_type": "stream",
     "text": [
      " download"
     ]
    },
    {
     "name": "stdout",
     "output_type": "stream",
     "text": [
      "_p"
     ]
    },
    {
     "name": "stdout",
     "output_type": "stream",
     "text": [
      "db"
     ]
    },
    {
     "name": "stdout",
     "output_type": "stream",
     "text": [
      "(p"
     ]
    },
    {
     "name": "stdout",
     "output_type": "stream",
     "text": [
      "db"
     ]
    },
    {
     "name": "stdout",
     "output_type": "stream",
     "text": [
      "_id"
     ]
    },
    {
     "name": "stdout",
     "output_type": "stream",
     "text": [
      "):\n"
     ]
    },
    {
     "name": "stdout",
     "output_type": "stream",
     "text": [
      "   "
     ]
    },
    {
     "name": "stdout",
     "output_type": "stream",
     "text": [
      " url"
     ]
    },
    {
     "name": "stdout",
     "output_type": "stream",
     "text": [
      " ="
     ]
    },
    {
     "name": "stdout",
     "output_type": "stream",
     "text": [
      " f"
     ]
    },
    {
     "name": "stdout",
     "output_type": "stream",
     "text": [
      "\"https"
     ]
    },
    {
     "name": "stdout",
     "output_type": "stream",
     "text": [
      "://"
     ]
    },
    {
     "name": "stdout",
     "output_type": "stream",
     "text": [
      "files"
     ]
    },
    {
     "name": "stdout",
     "output_type": "stream",
     "text": [
      ".rc"
     ]
    },
    {
     "name": "stdout",
     "output_type": "stream",
     "text": [
      "sb"
     ]
    },
    {
     "name": "stdout",
     "output_type": "stream",
     "text": [
      ".org"
     ]
    },
    {
     "name": "stdout",
     "output_type": "stream",
     "text": [
      "/download"
     ]
    },
    {
     "name": "stdout",
     "output_type": "stream",
     "text": [
      "/{"
     ]
    },
    {
     "name": "stdout",
     "output_type": "stream",
     "text": [
      "p"
     ]
    },
    {
     "name": "stdout",
     "output_type": "stream",
     "text": [
      "db"
     ]
    },
    {
     "name": "stdout",
     "output_type": "stream",
     "text": [
      "_id"
     ]
    },
    {
     "name": "stdout",
     "output_type": "stream",
     "text": [
      "}."
     ]
    },
    {
     "name": "stdout",
     "output_type": "stream",
     "text": [
      "p"
     ]
    },
    {
     "name": "stdout",
     "output_type": "stream",
     "text": [
      "db"
     ]
    },
    {
     "name": "stdout",
     "output_type": "stream",
     "text": [
      "\"\n"
     ]
    },
    {
     "name": "stdout",
     "output_type": "stream",
     "text": [
      "   "
     ]
    },
    {
     "name": "stdout",
     "output_type": "stream",
     "text": [
      " response"
     ]
    },
    {
     "name": "stdout",
     "output_type": "stream",
     "text": [
      " ="
     ]
    },
    {
     "name": "stdout",
     "output_type": "stream",
     "text": [
      " requests"
     ]
    },
    {
     "name": "stdout",
     "output_type": "stream",
     "text": [
      ".get"
     ]
    },
    {
     "name": "stdout",
     "output_type": "stream",
     "text": [
      "(url"
     ]
    },
    {
     "name": "stdout",
     "output_type": "stream",
     "text": [
      ")\n"
     ]
    },
    {
     "name": "stdout",
     "output_type": "stream",
     "text": [
      "   "
     ]
    },
    {
     "name": "stdout",
     "output_type": "stream",
     "text": [
      " if"
     ]
    },
    {
     "name": "stdout",
     "output_type": "stream",
     "text": [
      " response"
     ]
    },
    {
     "name": "stdout",
     "output_type": "stream",
     "text": [
      ".status"
     ]
    },
    {
     "name": "stdout",
     "output_type": "stream",
     "text": [
      "_code"
     ]
    },
    {
     "name": "stdout",
     "output_type": "stream",
     "text": [
      " =="
     ]
    },
    {
     "name": "stdout",
     "output_type": "stream",
     "text": [
      " "
     ]
    },
    {
     "name": "stdout",
     "output_type": "stream",
     "text": [
      "200"
     ]
    },
    {
     "name": "stdout",
     "output_type": "stream",
     "text": [
      ":\n"
     ]
    },
    {
     "name": "stdout",
     "output_type": "stream",
     "text": [
      "       "
     ]
    },
    {
     "name": "stdout",
     "output_type": "stream",
     "text": [
      " with"
     ]
    },
    {
     "name": "stdout",
     "output_type": "stream",
     "text": [
      " open"
     ]
    },
    {
     "name": "stdout",
     "output_type": "stream",
     "text": [
      "(f"
     ]
    },
    {
     "name": "stdout",
     "output_type": "stream",
     "text": [
      "\"{"
     ]
    },
    {
     "name": "stdout",
     "output_type": "stream",
     "text": [
      "p"
     ]
    },
    {
     "name": "stdout",
     "output_type": "stream",
     "text": [
      "db"
     ]
    },
    {
     "name": "stdout",
     "output_type": "stream",
     "text": [
      "_id"
     ]
    },
    {
     "name": "stdout",
     "output_type": "stream",
     "text": [
      "}."
     ]
    },
    {
     "name": "stdout",
     "output_type": "stream",
     "text": [
      "p"
     ]
    },
    {
     "name": "stdout",
     "output_type": "stream",
     "text": [
      "db"
     ]
    },
    {
     "name": "stdout",
     "output_type": "stream",
     "text": [
      "\","
     ]
    },
    {
     "name": "stdout",
     "output_type": "stream",
     "text": [
      " \""
     ]
    },
    {
     "name": "stdout",
     "output_type": "stream",
     "text": [
      "w"
     ]
    },
    {
     "name": "stdout",
     "output_type": "stream",
     "text": [
      "\")"
     ]
    },
    {
     "name": "stdout",
     "output_type": "stream",
     "text": [
      " as"
     ]
    },
    {
     "name": "stdout",
     "output_type": "stream",
     "text": [
      " file"
     ]
    },
    {
     "name": "stdout",
     "output_type": "stream",
     "text": [
      ":\n"
     ]
    },
    {
     "name": "stdout",
     "output_type": "stream",
     "text": [
      "           "
     ]
    },
    {
     "name": "stdout",
     "output_type": "stream",
     "text": [
      " file"
     ]
    },
    {
     "name": "stdout",
     "output_type": "stream",
     "text": [
      ".write"
     ]
    },
    {
     "name": "stdout",
     "output_type": "stream",
     "text": [
      "(response"
     ]
    },
    {
     "name": "stdout",
     "output_type": "stream",
     "text": [
      ".text"
     ]
    },
    {
     "name": "stdout",
     "output_type": "stream",
     "text": [
      ")\n"
     ]
    },
    {
     "name": "stdout",
     "output_type": "stream",
     "text": [
      "       "
     ]
    },
    {
     "name": "stdout",
     "output_type": "stream",
     "text": [
      " print"
     ]
    },
    {
     "name": "stdout",
     "output_type": "stream",
     "text": [
      "(f"
     ]
    },
    {
     "name": "stdout",
     "output_type": "stream",
     "text": [
      "\"{"
     ]
    },
    {
     "name": "stdout",
     "output_type": "stream",
     "text": [
      "p"
     ]
    },
    {
     "name": "stdout",
     "output_type": "stream",
     "text": [
      "db"
     ]
    },
    {
     "name": "stdout",
     "output_type": "stream",
     "text": [
      "_id"
     ]
    },
    {
     "name": "stdout",
     "output_type": "stream",
     "text": [
      "}."
     ]
    },
    {
     "name": "stdout",
     "output_type": "stream",
     "text": [
      "p"
     ]
    },
    {
     "name": "stdout",
     "output_type": "stream",
     "text": [
      "db"
     ]
    },
    {
     "name": "stdout",
     "output_type": "stream",
     "text": [
      " downloaded"
     ]
    },
    {
     "name": "stdout",
     "output_type": "stream",
     "text": [
      " successfully"
     ]
    },
    {
     "name": "stdout",
     "output_type": "stream",
     "text": [
      ".\")\n"
     ]
    },
    {
     "name": "stdout",
     "output_type": "stream",
     "text": [
      "   "
     ]
    },
    {
     "name": "stdout",
     "output_type": "stream",
     "text": [
      " else"
     ]
    },
    {
     "name": "stdout",
     "output_type": "stream",
     "text": [
      ":\n"
     ]
    },
    {
     "name": "stdout",
     "output_type": "stream",
     "text": [
      "       "
     ]
    },
    {
     "name": "stdout",
     "output_type": "stream",
     "text": [
      " print"
     ]
    },
    {
     "name": "stdout",
     "output_type": "stream",
     "text": [
      "(f"
     ]
    },
    {
     "name": "stdout",
     "output_type": "stream",
     "text": [
      "\""
     ]
    },
    {
     "name": "stdout",
     "output_type": "stream",
     "text": [
      "Failed"
     ]
    },
    {
     "name": "stdout",
     "output_type": "stream",
     "text": [
      " to"
     ]
    },
    {
     "name": "stdout",
     "output_type": "stream",
     "text": [
      " download"
     ]
    },
    {
     "name": "stdout",
     "output_type": "stream",
     "text": [
      " {"
     ]
    },
    {
     "name": "stdout",
     "output_type": "stream",
     "text": [
      "p"
     ]
    },
    {
     "name": "stdout",
     "output_type": "stream",
     "text": [
      "db"
     ]
    },
    {
     "name": "stdout",
     "output_type": "stream",
     "text": [
      "_id"
     ]
    },
    {
     "name": "stdout",
     "output_type": "stream",
     "text": [
      "}."
     ]
    },
    {
     "name": "stdout",
     "output_type": "stream",
     "text": [
      "p"
     ]
    },
    {
     "name": "stdout",
     "output_type": "stream",
     "text": [
      "db"
     ]
    },
    {
     "name": "stdout",
     "output_type": "stream",
     "text": [
      ".\")\n",
      "\n"
     ]
    },
    {
     "name": "stdout",
     "output_type": "stream",
     "text": [
      "download"
     ]
    },
    {
     "name": "stdout",
     "output_type": "stream",
     "text": [
      "_p"
     ]
    },
    {
     "name": "stdout",
     "output_type": "stream",
     "text": [
      "db"
     ]
    },
    {
     "name": "stdout",
     "output_type": "stream",
     "text": [
      "(\""
     ]
    },
    {
     "name": "stdout",
     "output_type": "stream",
     "text": [
      "1"
     ]
    },
    {
     "name": "stdout",
     "output_type": "stream",
     "text": [
      "A"
     ]
    },
    {
     "name": "stdout",
     "output_type": "stream",
     "text": [
      "3"
     ]
    },
    {
     "name": "stdout",
     "output_type": "stream",
     "text": [
      "N"
     ]
    },
    {
     "name": "stdout",
     "output_type": "stream",
     "text": [
      "\")\n"
     ]
    },
    {
     "name": "stdout",
     "output_type": "stream",
     "text": [
      "``"
     ]
    },
    {
     "name": "stdout",
     "output_type": "stream",
     "text": [
      "`\n",
      "\n"
     ]
    },
    {
     "name": "stdout",
     "output_type": "stream",
     "text": [
      "###"
     ]
    },
    {
     "name": "stdout",
     "output_type": "stream",
     "text": [
      " Step"
     ]
    },
    {
     "name": "stdout",
     "output_type": "stream",
     "text": [
      " "
     ]
    },
    {
     "name": "stdout",
     "output_type": "stream",
     "text": [
      "2"
     ]
    },
    {
     "name": "stdout",
     "output_type": "stream",
     "text": [
      ":"
     ]
    },
    {
     "name": "stdout",
     "output_type": "stream",
     "text": [
      " Prepare"
     ]
    },
    {
     "name": "stdout",
     "output_type": "stream",
     "text": [
      " the"
     ]
    },
    {
     "name": "stdout",
     "output_type": "stream",
     "text": [
      " system"
     ]
    },
    {
     "name": "stdout",
     "output_type": "stream",
     "text": [
      " for"
     ]
    },
    {
     "name": "stdout",
     "output_type": "stream",
     "text": [
      " simulation"
     ]
    },
    {
     "name": "stdout",
     "output_type": "stream",
     "text": [
      "\n",
      "\n"
     ]
    },
    {
     "name": "stdout",
     "output_type": "stream",
     "text": [
      "```"
     ]
    },
    {
     "name": "stdout",
     "output_type": "stream",
     "text": [
      "python"
     ]
    },
    {
     "name": "stdout",
     "output_type": "stream",
     "text": [
      "\n"
     ]
    },
    {
     "name": "stdout",
     "output_type": "stream",
     "text": [
      "from"
     ]
    },
    {
     "name": "stdout",
     "output_type": "stream",
     "text": [
      " open"
     ]
    },
    {
     "name": "stdout",
     "output_type": "stream",
     "text": [
      "mm"
     ]
    },
    {
     "name": "stdout",
     "output_type": "stream",
     "text": [
      ".app"
     ]
    },
    {
     "name": "stdout",
     "output_type": "stream",
     "text": [
      " import"
     ]
    },
    {
     "name": "stdout",
     "output_type": "stream",
     "text": [
      " *\n"
     ]
    },
    {
     "name": "stdout",
     "output_type": "stream",
     "text": [
      "from"
     ]
    },
    {
     "name": "stdout",
     "output_type": "stream",
     "text": [
      " open"
     ]
    },
    {
     "name": "stdout",
     "output_type": "stream",
     "text": [
      "mm"
     ]
    },
    {
     "name": "stdout",
     "output_type": "stream",
     "text": [
      " import"
     ]
    },
    {
     "name": "stdout",
     "output_type": "stream",
     "text": [
      " *\n"
     ]
    },
    {
     "name": "stdout",
     "output_type": "stream",
     "text": [
      "from"
     ]
    },
    {
     "name": "stdout",
     "output_type": "stream",
     "text": [
      " open"
     ]
    },
    {
     "name": "stdout",
     "output_type": "stream",
     "text": [
      "mm"
     ]
    },
    {
     "name": "stdout",
     "output_type": "stream",
     "text": [
      ".unit"
     ]
    },
    {
     "name": "stdout",
     "output_type": "stream",
     "text": [
      " import"
     ]
    },
    {
     "name": "stdout",
     "output_type": "stream",
     "text": [
      " *\n"
     ]
    },
    {
     "name": "stdout",
     "output_type": "stream",
     "text": [
      "import"
     ]
    },
    {
     "name": "stdout",
     "output_type": "stream",
     "text": [
      " os"
     ]
    },
    {
     "name": "stdout",
     "output_type": "stream",
     "text": [
      "\n",
      "\n"
     ]
    },
    {
     "name": "stdout",
     "output_type": "stream",
     "text": [
      "def"
     ]
    },
    {
     "name": "stdout",
     "output_type": "stream",
     "text": [
      " prepare"
     ]
    },
    {
     "name": "stdout",
     "output_type": "stream",
     "text": [
      "_sim"
     ]
    },
    {
     "name": "stdout",
     "output_type": "stream",
     "text": [
      "ulation"
     ]
    },
    {
     "name": "stdout",
     "output_type": "stream",
     "text": [
      "(p"
     ]
    },
    {
     "name": "stdout",
     "output_type": "stream",
     "text": [
      "db"
     ]
    },
    {
     "name": "stdout",
     "output_type": "stream",
     "text": [
      "_file"
     ]
    },
    {
     "name": "stdout",
     "output_type": "stream",
     "text": [
      "):\n"
     ]
    },
    {
     "name": "stdout",
     "output_type": "stream",
     "text": [
      "   "
     ]
    },
    {
     "name": "stdout",
     "output_type": "stream",
     "text": [
      " #"
     ]
    },
    {
     "name": "stdout",
     "output_type": "stream",
     "text": [
      " Load"
     ]
    },
    {
     "name": "stdout",
     "output_type": "stream",
     "text": [
      " the"
     ]
    },
    {
     "name": "stdout",
     "output_type": "stream",
     "text": [
      " P"
     ]
    },
    {
     "name": "stdout",
     "output_type": "stream",
     "text": [
      "DB"
     ]
    },
    {
     "name": "stdout",
     "output_type": "stream",
     "text": [
      " file"
     ]
    },
    {
     "name": "stdout",
     "output_type": "stream",
     "text": [
      "\n"
     ]
    },
    {
     "name": "stdout",
     "output_type": "stream",
     "text": [
      "   "
     ]
    },
    {
     "name": "stdout",
     "output_type": "stream",
     "text": [
      " pdb"
     ]
    },
    {
     "name": "stdout",
     "output_type": "stream",
     "text": [
      " ="
     ]
    },
    {
     "name": "stdout",
     "output_type": "stream",
     "text": [
      " P"
     ]
    },
    {
     "name": "stdout",
     "output_type": "stream",
     "text": [
      "DB"
     ]
    },
    {
     "name": "stdout",
     "output_type": "stream",
     "text": [
      "File"
     ]
    },
    {
     "name": "stdout",
     "output_type": "stream",
     "text": [
      "(p"
     ]
    },
    {
     "name": "stdout",
     "output_type": "stream",
     "text": [
      "db"
     ]
    },
    {
     "name": "stdout",
     "output_type": "stream",
     "text": [
      "_file"
     ]
    },
    {
     "name": "stdout",
     "output_type": "stream",
     "text": [
      ")\n"
     ]
    },
    {
     "name": "stdout",
     "output_type": "stream",
     "text": [
      "    \n"
     ]
    },
    {
     "name": "stdout",
     "output_type": "stream",
     "text": [
      "   "
     ]
    },
    {
     "name": "stdout",
     "output_type": "stream",
     "text": [
      " #"
     ]
    },
    {
     "name": "stdout",
     "output_type": "stream",
     "text": [
      " Define"
     ]
    },
    {
     "name": "stdout",
     "output_type": "stream",
     "text": [
      " the"
     ]
    },
    {
     "name": "stdout",
     "output_type": "stream",
     "text": [
      " force"
     ]
    },
    {
     "name": "stdout",
     "output_type": "stream",
     "text": [
      " field"
     ]
    },
    {
     "name": "stdout",
     "output_type": "stream",
     "text": [
      "\n"
     ]
    },
    {
     "name": "stdout",
     "output_type": "stream",
     "text": [
      "   "
     ]
    },
    {
     "name": "stdout",
     "output_type": "stream",
     "text": [
      " force"
     ]
    },
    {
     "name": "stdout",
     "output_type": "stream",
     "text": [
      "field"
     ]
    },
    {
     "name": "stdout",
     "output_type": "stream",
     "text": [
      " ="
     ]
    },
    {
     "name": "stdout",
     "output_type": "stream",
     "text": [
      " Force"
     ]
    },
    {
     "name": "stdout",
     "output_type": "stream",
     "text": [
      "Field"
     ]
    },
    {
     "name": "stdout",
     "output_type": "stream",
     "text": [
      "('"
     ]
    },
    {
     "name": "stdout",
     "output_type": "stream",
     "text": [
      "amber"
     ]
    },
    {
     "name": "stdout",
     "output_type": "stream",
     "text": [
      "14"
     ]
    },
    {
     "name": "stdout",
     "output_type": "stream",
     "text": [
      "-all"
     ]
    },
    {
     "name": "stdout",
     "output_type": "stream",
     "text": [
      ".xml"
     ]
    },
    {
     "name": "stdout",
     "output_type": "stream",
     "text": [
      "',"
     ]
    },
    {
     "name": "stdout",
     "output_type": "stream",
     "text": [
      " '"
     ]
    },
    {
     "name": "stdout",
     "output_type": "stream",
     "text": [
      "amber"
     ]
    },
    {
     "name": "stdout",
     "output_type": "stream",
     "text": [
      "14"
     ]
    },
    {
     "name": "stdout",
     "output_type": "stream",
     "text": [
      "/t"
     ]
    },
    {
     "name": "stdout",
     "output_type": "stream",
     "text": [
      "ip"
     ]
    },
    {
     "name": "stdout",
     "output_type": "stream",
     "text": [
      "3"
     ]
    },
    {
     "name": "stdout",
     "output_type": "stream",
     "text": [
      "pf"
     ]
    },
    {
     "name": "stdout",
     "output_type": "stream",
     "text": [
      "b"
     ]
    },
    {
     "name": "stdout",
     "output_type": "stream",
     "text": [
      ".xml"
     ]
    },
    {
     "name": "stdout",
     "output_type": "stream",
     "text": [
      "')\n"
     ]
    },
    {
     "name": "stdout",
     "output_type": "stream",
     "text": [
      "    \n"
     ]
    },
    {
     "name": "stdout",
     "output_type": "stream",
     "text": [
      "   "
     ]
    },
    {
     "name": "stdout",
     "output_type": "stream",
     "text": [
      " #"
     ]
    },
    {
     "name": "stdout",
     "output_type": "stream",
     "text": [
      " Create"
     ]
    },
    {
     "name": "stdout",
     "output_type": "stream",
     "text": [
      " a"
     ]
    },
    {
     "name": "stdout",
     "output_type": "stream",
     "text": [
      " modeller"
     ]
    },
    {
     "name": "stdout",
     "output_type": "stream",
     "text": [
      " object"
     ]
    },
    {
     "name": "stdout",
     "output_type": "stream",
     "text": [
      "\n"
     ]
    },
    {
     "name": "stdout",
     "output_type": "stream",
     "text": [
      "   "
     ]
    },
    {
     "name": "stdout",
     "output_type": "stream",
     "text": [
      " modeller"
     ]
    },
    {
     "name": "stdout",
     "output_type": "stream",
     "text": [
      " ="
     ]
    },
    {
     "name": "stdout",
     "output_type": "stream",
     "text": [
      " Mod"
     ]
    },
    {
     "name": "stdout",
     "output_type": "stream",
     "text": [
      "eller"
     ]
    },
    {
     "name": "stdout",
     "output_type": "stream",
     "text": [
      "(p"
     ]
    },
    {
     "name": "stdout",
     "output_type": "stream",
     "text": [
      "db"
     ]
    },
    {
     "name": "stdout",
     "output_type": "stream",
     "text": [
      ".top"
     ]
    },
    {
     "name": "stdout",
     "output_type": "stream",
     "text": [
      "ology"
     ]
    },
    {
     "name": "stdout",
     "output_type": "stream",
     "text": [
      ","
     ]
    },
    {
     "name": "stdout",
     "output_type": "stream",
     "text": [
      " pdb"
     ]
    },
    {
     "name": "stdout",
     "output_type": "stream",
     "text": [
      ".positions"
     ]
    },
    {
     "name": "stdout",
     "output_type": "stream",
     "text": [
      ")\n"
     ]
    },
    {
     "name": "stdout",
     "output_type": "stream",
     "text": [
      "    \n"
     ]
    },
    {
     "name": "stdout",
     "output_type": "stream",
     "text": [
      "   "
     ]
    },
    {
     "name": "stdout",
     "output_type": "stream",
     "text": [
      " #"
     ]
    },
    {
     "name": "stdout",
     "output_type": "stream",
     "text": [
      " Add"
     ]
    },
    {
     "name": "stdout",
     "output_type": "stream",
     "text": [
      " solvent"
     ]
    },
    {
     "name": "stdout",
     "output_type": "stream",
     "text": [
      " ("
     ]
    },
    {
     "name": "stdout",
     "output_type": "stream",
     "text": [
      "water"
     ]
    },
    {
     "name": "stdout",
     "output_type": "stream",
     "text": [
      ")\n"
     ]
    },
    {
     "name": "stdout",
     "output_type": "stream",
     "text": [
      "   "
     ]
    },
    {
     "name": "stdout",
     "output_type": "stream",
     "text": [
      " modeller"
     ]
    },
    {
     "name": "stdout",
     "output_type": "stream",
     "text": [
      ".add"
     ]
    },
    {
     "name": "stdout",
     "output_type": "stream",
     "text": [
      "Sol"
     ]
    },
    {
     "name": "stdout",
     "output_type": "stream",
     "text": [
      "vent"
     ]
    },
    {
     "name": "stdout",
     "output_type": "stream",
     "text": [
      "(force"
     ]
    },
    {
     "name": "stdout",
     "output_type": "stream",
     "text": [
      "field"
     ]
    },
    {
     "name": "stdout",
     "output_type": "stream",
     "text": [
      ","
     ]
    },
    {
     "name": "stdout",
     "output_type": "stream",
     "text": [
      " model"
     ]
    },
    {
     "name": "stdout",
     "output_type": "stream",
     "text": [
      "='"
     ]
    },
    {
     "name": "stdout",
     "output_type": "stream",
     "text": [
      "tip"
     ]
    },
    {
     "name": "stdout",
     "output_type": "stream",
     "text": [
      "3"
     ]
    },
    {
     "name": "stdout",
     "output_type": "stream",
     "text": [
      "p"
     ]
    },
    {
     "name": "stdout",
     "output_type": "stream",
     "text": [
      "',"
     ]
    },
    {
     "name": "stdout",
     "output_type": "stream",
     "text": [
      " padding"
     ]
    },
    {
     "name": "stdout",
     "output_type": "stream",
     "text": [
      "="
     ]
    },
    {
     "name": "stdout",
     "output_type": "stream",
     "text": [
      "1"
     ]
    },
    {
     "name": "stdout",
     "output_type": "stream",
     "text": [
      "."
     ]
    },
    {
     "name": "stdout",
     "output_type": "stream",
     "text": [
      "0"
     ]
    },
    {
     "name": "stdout",
     "output_type": "stream",
     "text": [
      "*"
     ]
    },
    {
     "name": "stdout",
     "output_type": "stream",
     "text": [
      "nan"
     ]
    },
    {
     "name": "stdout",
     "output_type": "stream",
     "text": [
      "ometer"
     ]
    },
    {
     "name": "stdout",
     "output_type": "stream",
     "text": [
      ")\n"
     ]
    },
    {
     "name": "stdout",
     "output_type": "stream",
     "text": [
      "    \n"
     ]
    },
    {
     "name": "stdout",
     "output_type": "stream",
     "text": [
      "   "
     ]
    },
    {
     "name": "stdout",
     "output_type": "stream",
     "text": [
      " #"
     ]
    },
    {
     "name": "stdout",
     "output_type": "stream",
     "text": [
      " Create"
     ]
    },
    {
     "name": "stdout",
     "output_type": "stream",
     "text": [
      " the"
     ]
    },
    {
     "name": "stdout",
     "output_type": "stream",
     "text": [
      " system"
     ]
    },
    {
     "name": "stdout",
     "output_type": "stream",
     "text": [
      "\n"
     ]
    },
    {
     "name": "stdout",
     "output_type": "stream",
     "text": [
      "   "
     ]
    },
    {
     "name": "stdout",
     "output_type": "stream",
     "text": [
      " system"
     ]
    },
    {
     "name": "stdout",
     "output_type": "stream",
     "text": [
      " ="
     ]
    },
    {
     "name": "stdout",
     "output_type": "stream",
     "text": [
      " force"
     ]
    },
    {
     "name": "stdout",
     "output_type": "stream",
     "text": [
      "field"
     ]
    },
    {
     "name": "stdout",
     "output_type": "stream",
     "text": [
      ".create"
     ]
    },
    {
     "name": "stdout",
     "output_type": "stream",
     "text": [
      "System"
     ]
    },
    {
     "name": "stdout",
     "output_type": "stream",
     "text": [
      "(mod"
     ]
    },
    {
     "name": "stdout",
     "output_type": "stream",
     "text": [
      "eller"
     ]
    },
    {
     "name": "stdout",
     "output_type": "stream",
     "text": [
      ".top"
     ]
    },
    {
     "name": "stdout",
     "output_type": "stream",
     "text": [
      "ology"
     ]
    },
    {
     "name": "stdout",
     "output_type": "stream",
     "text": [
      ","
     ]
    },
    {
     "name": "stdout",
     "output_type": "stream",
     "text": [
      " non"
     ]
    },
    {
     "name": "stdout",
     "output_type": "stream",
     "text": [
      "bond"
     ]
    },
    {
     "name": "stdout",
     "output_type": "stream",
     "text": [
      "ed"
     ]
    },
    {
     "name": "stdout",
     "output_type": "stream",
     "text": [
      "Method"
     ]
    },
    {
     "name": "stdout",
     "output_type": "stream",
     "text": [
      "="
     ]
    },
    {
     "name": "stdout",
     "output_type": "stream",
     "text": [
      "PM"
     ]
    },
    {
     "name": "stdout",
     "output_type": "stream",
     "text": [
      "E"
     ]
    },
    {
     "name": "stdout",
     "output_type": "stream",
     "text": [
      ","
     ]
    },
    {
     "name": "stdout",
     "output_type": "stream",
     "text": [
      " \n"
     ]
    },
    {
     "name": "stdout",
     "output_type": "stream",
     "text": [
      "                                    "
     ]
    },
    {
     "name": "stdout",
     "output_type": "stream",
     "text": [
      " non"
     ]
    },
    {
     "name": "stdout",
     "output_type": "stream",
     "text": [
      "bond"
     ]
    },
    {
     "name": "stdout",
     "output_type": "stream",
     "text": [
      "ed"
     ]
    },
    {
     "name": "stdout",
     "output_type": "stream",
     "text": [
      "Cut"
     ]
    },
    {
     "name": "stdout",
     "output_type": "stream",
     "text": [
      "off"
     ]
    },
    {
     "name": "stdout",
     "output_type": "stream",
     "text": [
      "="
     ]
    },
    {
     "name": "stdout",
     "output_type": "stream",
     "text": [
      "1"
     ]
    },
    {
     "name": "stdout",
     "output_type": "stream",
     "text": [
      "."
     ]
    },
    {
     "name": "stdout",
     "output_type": "stream",
     "text": [
      "0"
     ]
    },
    {
     "name": "stdout",
     "output_type": "stream",
     "text": [
      "*"
     ]
    },
    {
     "name": "stdout",
     "output_type": "stream",
     "text": [
      "nan"
     ]
    },
    {
     "name": "stdout",
     "output_type": "stream",
     "text": [
      "ometer"
     ]
    },
    {
     "name": "stdout",
     "output_type": "stream",
     "text": [
      ","
     ]
    },
    {
     "name": "stdout",
     "output_type": "stream",
     "text": [
      " constraints"
     ]
    },
    {
     "name": "stdout",
     "output_type": "stream",
     "text": [
      "="
     ]
    },
    {
     "name": "stdout",
     "output_type": "stream",
     "text": [
      "HB"
     ]
    },
    {
     "name": "stdout",
     "output_type": "stream",
     "text": [
      "onds"
     ]
    },
    {
     "name": "stdout",
     "output_type": "stream",
     "text": [
      ")\n"
     ]
    },
    {
     "name": "stdout",
     "output_type": "stream",
     "text": [
      "    \n"
     ]
    },
    {
     "name": "stdout",
     "output_type": "stream",
     "text": [
      "   "
     ]
    },
    {
     "name": "stdout",
     "output_type": "stream",
     "text": [
      " #"
     ]
    },
    {
     "name": "stdout",
     "output_type": "stream",
     "text": [
      " Set"
     ]
    },
    {
     "name": "stdout",
     "output_type": "stream",
     "text": [
      " up"
     ]
    },
    {
     "name": "stdout",
     "output_type": "stream",
     "text": [
      " the"
     ]
    },
    {
     "name": "stdout",
     "output_type": "stream",
     "text": [
      " integr"
     ]
    },
    {
     "name": "stdout",
     "output_type": "stream",
     "text": [
      "ator"
     ]
    },
    {
     "name": "stdout",
     "output_type": "stream",
     "text": [
      "\n"
     ]
    },
    {
     "name": "stdout",
     "output_type": "stream",
     "text": [
      "   "
     ]
    },
    {
     "name": "stdout",
     "output_type": "stream",
     "text": [
      " integr"
     ]
    },
    {
     "name": "stdout",
     "output_type": "stream",
     "text": [
      "ator"
     ]
    },
    {
     "name": "stdout",
     "output_type": "stream",
     "text": [
      " ="
     ]
    },
    {
     "name": "stdout",
     "output_type": "stream",
     "text": [
      " Lange"
     ]
    },
    {
     "name": "stdout",
     "output_type": "stream",
     "text": [
      "vin"
     ]
    },
    {
     "name": "stdout",
     "output_type": "stream",
     "text": [
      "Integrator"
     ]
    },
    {
     "name": "stdout",
     "output_type": "stream",
     "text": [
      "("
     ]
    },
    {
     "name": "stdout",
     "output_type": "stream",
     "text": [
      "300"
     ]
    },
    {
     "name": "stdout",
     "output_type": "stream",
     "text": [
      "*"
     ]
    },
    {
     "name": "stdout",
     "output_type": "stream",
     "text": [
      "kel"
     ]
    },
    {
     "name": "stdout",
     "output_type": "stream",
     "text": [
      "vin"
     ]
    },
    {
     "name": "stdout",
     "output_type": "stream",
     "text": [
      ","
     ]
    },
    {
     "name": "stdout",
     "output_type": "stream",
     "text": [
      " "
     ]
    },
    {
     "name": "stdout",
     "output_type": "stream",
     "text": [
      "1"
     ]
    },
    {
     "name": "stdout",
     "output_type": "stream",
     "text": [
      "/p"
     ]
    },
    {
     "name": "stdout",
     "output_type": "stream",
     "text": [
      "ic"
     ]
    },
    {
     "name": "stdout",
     "output_type": "stream",
     "text": [
      "ose"
     ]
    },
    {
     "name": "stdout",
     "output_type": "stream",
     "text": [
      "cond"
     ]
    },
    {
     "name": "stdout",
     "output_type": "stream",
     "text": [
      ","
     ]
    },
    {
     "name": "stdout",
     "output_type": "stream",
     "text": [
      " "
     ]
    },
    {
     "name": "stdout",
     "output_type": "stream",
     "text": [
      "0"
     ]
    },
    {
     "name": "stdout",
     "output_type": "stream",
     "text": [
      "."
     ]
    },
    {
     "name": "stdout",
     "output_type": "stream",
     "text": [
      "002"
     ]
    },
    {
     "name": "stdout",
     "output_type": "stream",
     "text": [
      "*"
     ]
    },
    {
     "name": "stdout",
     "output_type": "stream",
     "text": [
      "pic"
     ]
    },
    {
     "name": "stdout",
     "output_type": "stream",
     "text": [
      "oseconds"
     ]
    },
    {
     "name": "stdout",
     "output_type": "stream",
     "text": [
      ")\n"
     ]
    },
    {
     "name": "stdout",
     "output_type": "stream",
     "text": [
      "    \n"
     ]
    },
    {
     "name": "stdout",
     "output_type": "stream",
     "text": [
      "   "
     ]
    },
    {
     "name": "stdout",
     "output_type": "stream",
     "text": [
      " #"
     ]
    },
    {
     "name": "stdout",
     "output_type": "stream",
     "text": [
      " Create"
     ]
    },
    {
     "name": "stdout",
     "output_type": "stream",
     "text": [
      " the"
     ]
    },
    {
     "name": "stdout",
     "output_type": "stream",
     "text": [
      " simulation"
     ]
    },
    {
     "name": "stdout",
     "output_type": "stream",
     "text": [
      " object"
     ]
    },
    {
     "name": "stdout",
     "output_type": "stream",
     "text": [
      "\n"
     ]
    },
    {
     "name": "stdout",
     "output_type": "stream",
     "text": [
      "   "
     ]
    },
    {
     "name": "stdout",
     "output_type": "stream",
     "text": [
      " simulation"
     ]
    },
    {
     "name": "stdout",
     "output_type": "stream",
     "text": [
      " ="
     ]
    },
    {
     "name": "stdout",
     "output_type": "stream",
     "text": [
      " Simulation"
     ]
    },
    {
     "name": "stdout",
     "output_type": "stream",
     "text": [
      "(mod"
     ]
    },
    {
     "name": "stdout",
     "output_type": "stream",
     "text": [
      "eller"
     ]
    },
    {
     "name": "stdout",
     "output_type": "stream",
     "text": [
      ".top"
     ]
    },
    {
     "name": "stdout",
     "output_type": "stream",
     "text": [
      "ology"
     ]
    },
    {
     "name": "stdout",
     "output_type": "stream",
     "text": [
      ","
     ]
    },
    {
     "name": "stdout",
     "output_type": "stream",
     "text": [
      " system"
     ]
    },
    {
     "name": "stdout",
     "output_type": "stream",
     "text": [
      ","
     ]
    },
    {
     "name": "stdout",
     "output_type": "stream",
     "text": [
      " integr"
     ]
    },
    {
     "name": "stdout",
     "output_type": "stream",
     "text": [
      "ator"
     ]
    },
    {
     "name": "stdout",
     "output_type": "stream",
     "text": [
      ")\n"
     ]
    },
    {
     "name": "stdout",
     "output_type": "stream",
     "text": [
      "   "
     ]
    },
    {
     "name": "stdout",
     "output_type": "stream",
     "text": [
      " simulation"
     ]
    },
    {
     "name": "stdout",
     "output_type": "stream",
     "text": [
      ".context"
     ]
    },
    {
     "name": "stdout",
     "output_type": "stream",
     "text": [
      ".set"
     ]
    },
    {
     "name": "stdout",
     "output_type": "stream",
     "text": [
      "Positions"
     ]
    },
    {
     "name": "stdout",
     "output_type": "stream",
     "text": [
      "(mod"
     ]
    },
    {
     "name": "stdout",
     "output_type": "stream",
     "text": [
      "eller"
     ]
    },
    {
     "name": "stdout",
     "output_type": "stream",
     "text": [
      ".positions"
     ]
    },
    {
     "name": "stdout",
     "output_type": "stream",
     "text": [
      ")\n"
     ]
    },
    {
     "name": "stdout",
     "output_type": "stream",
     "text": [
      "    \n"
     ]
    },
    {
     "name": "stdout",
     "output_type": "stream",
     "text": [
      "   "
     ]
    },
    {
     "name": "stdout",
     "output_type": "stream",
     "text": [
      " #"
     ]
    },
    {
     "name": "stdout",
     "output_type": "stream",
     "text": [
      " Min"
     ]
    },
    {
     "name": "stdout",
     "output_type": "stream",
     "text": [
      "imize"
     ]
    },
    {
     "name": "stdout",
     "output_type": "stream",
     "text": [
      " energy"
     ]
    },
    {
     "name": "stdout",
     "output_type": "stream",
     "text": [
      "\n"
     ]
    },
    {
     "name": "stdout",
     "output_type": "stream",
     "text": [
      "   "
     ]
    },
    {
     "name": "stdout",
     "output_type": "stream",
     "text": [
      " simulation"
     ]
    },
    {
     "name": "stdout",
     "output_type": "stream",
     "text": [
      ".min"
     ]
    },
    {
     "name": "stdout",
     "output_type": "stream",
     "text": [
      "imize"
     ]
    },
    {
     "name": "stdout",
     "output_type": "stream",
     "text": [
      "Energy"
     ]
    },
    {
     "name": "stdout",
     "output_type": "stream",
     "text": [
      "()\n"
     ]
    },
    {
     "name": "stdout",
     "output_type": "stream",
     "text": [
      "    \n"
     ]
    },
    {
     "name": "stdout",
     "output_type": "stream",
     "text": [
      "   "
     ]
    },
    {
     "name": "stdout",
     "output_type": "stream",
     "text": [
      " #"
     ]
    },
    {
     "name": "stdout",
     "output_type": "stream",
     "text": [
      " Equ"
     ]
    },
    {
     "name": "stdout",
     "output_type": "stream",
     "text": [
      "ilibr"
     ]
    },
    {
     "name": "stdout",
     "output_type": "stream",
     "text": [
      "ate"
     ]
    },
    {
     "name": "stdout",
     "output_type": "stream",
     "text": [
      "\n"
     ]
    },
    {
     "name": "stdout",
     "output_type": "stream",
     "text": [
      "   "
     ]
    },
    {
     "name": "stdout",
     "output_type": "stream",
     "text": [
      " simulation"
     ]
    },
    {
     "name": "stdout",
     "output_type": "stream",
     "text": [
      ".context"
     ]
    },
    {
     "name": "stdout",
     "output_type": "stream",
     "text": [
      ".set"
     ]
    },
    {
     "name": "stdout",
     "output_type": "stream",
     "text": [
      "Vel"
     ]
    },
    {
     "name": "stdout",
     "output_type": "stream",
     "text": [
      "ocities"
     ]
    },
    {
     "name": "stdout",
     "output_type": "stream",
     "text": [
      "To"
     ]
    },
    {
     "name": "stdout",
     "output_type": "stream",
     "text": [
      "Temperature"
     ]
    },
    {
     "name": "stdout",
     "output_type": "stream",
     "text": [
      "("
     ]
    },
    {
     "name": "stdout",
     "output_type": "stream",
     "text": [
      "300"
     ]
    },
    {
     "name": "stdout",
     "output_type": "stream",
     "text": [
      "*"
     ]
    },
    {
     "name": "stdout",
     "output_type": "stream",
     "text": [
      "kel"
     ]
    },
    {
     "name": "stdout",
     "output_type": "stream",
     "text": [
      "vin"
     ]
    },
    {
     "name": "stdout",
     "output_type": "stream",
     "text": [
      ")\n"
     ]
    },
    {
     "name": "stdout",
     "output_type": "stream",
     "text": [
      "   "
     ]
    },
    {
     "name": "stdout",
     "output_type": "stream",
     "text": [
      " simulation"
     ]
    },
    {
     "name": "stdout",
     "output_type": "stream",
     "text": [
      ".step"
     ]
    },
    {
     "name": "stdout",
     "output_type": "stream",
     "text": [
      "("
     ]
    },
    {
     "name": "stdout",
     "output_type": "stream",
     "text": [
      "100"
     ]
    },
    {
     "name": "stdout",
     "output_type": "stream",
     "text": [
      "00"
     ]
    },
    {
     "name": "stdout",
     "output_type": "stream",
     "text": [
      ")"
     ]
    },
    {
     "name": "stdout",
     "output_type": "stream",
     "text": [
      " "
     ]
    },
    {
     "name": "stdout",
     "output_type": "stream",
     "text": [
      " #"
     ]
    },
    {
     "name": "stdout",
     "output_type": "stream",
     "text": [
      " Run"
     ]
    },
    {
     "name": "stdout",
     "output_type": "stream",
     "text": [
      " "
     ]
    },
    {
     "name": "stdout",
     "output_type": "stream",
     "text": [
      "10"
     ]
    },
    {
     "name": "stdout",
     "output_type": "stream",
     "text": [
      ","
     ]
    },
    {
     "name": "stdout",
     "output_type": "stream",
     "text": [
      "000"
     ]
    },
    {
     "name": "stdout",
     "output_type": "stream",
     "text": [
      " steps"
     ]
    },
    {
     "name": "stdout",
     "output_type": "stream",
     "text": [
      " of"
     ]
    },
    {
     "name": "stdout",
     "output_type": "stream",
     "text": [
      " equil"
     ]
    },
    {
     "name": "stdout",
     "output_type": "stream",
     "text": [
      "ibration"
     ]
    },
    {
     "name": "stdout",
     "output_type": "stream",
     "text": [
      "\n",
      "    \n"
     ]
    },
    {
     "name": "stdout",
     "output_type": "stream",
     "text": [
      "   "
     ]
    },
    {
     "name": "stdout",
     "output_type": "stream",
     "text": [
      " #"
     ]
    },
    {
     "name": "stdout",
     "output_type": "stream",
     "text": [
      " Save"
     ]
    },
    {
     "name": "stdout",
     "output_type": "stream",
     "text": [
      " the"
     ]
    },
    {
     "name": "stdout",
     "output_type": "stream",
     "text": [
      " state"
     ]
    },
    {
     "name": "stdout",
     "output_type": "stream",
     "text": [
      "\n"
     ]
    },
    {
     "name": "stdout",
     "output_type": "stream",
     "text": [
      "   "
     ]
    },
    {
     "name": "stdout",
     "output_type": "stream",
     "text": [
      " state"
     ]
    },
    {
     "name": "stdout",
     "output_type": "stream",
     "text": [
      " ="
     ]
    },
    {
     "name": "stdout",
     "output_type": "stream",
     "text": [
      " simulation"
     ]
    },
    {
     "name": "stdout",
     "output_type": "stream",
     "text": [
      ".context"
     ]
    },
    {
     "name": "stdout",
     "output_type": "stream",
     "text": [
      ".get"
     ]
    },
    {
     "name": "stdout",
     "output_type": "stream",
     "text": [
      "State"
     ]
    },
    {
     "name": "stdout",
     "output_type": "stream",
     "text": [
      "(get"
     ]
    },
    {
     "name": "stdout",
     "output_type": "stream",
     "text": [
      "Positions"
     ]
    },
    {
     "name": "stdout",
     "output_type": "stream",
     "text": [
      "=True"
     ]
    },
    {
     "name": "stdout",
     "output_type": "stream",
     "text": [
      ","
     ]
    },
    {
     "name": "stdout",
     "output_type": "stream",
     "text": [
      " get"
     ]
    },
    {
     "name": "stdout",
     "output_type": "stream",
     "text": [
      "Vel"
     ]
    },
    {
     "name": "stdout",
     "output_type": "stream",
     "text": [
      "ocities"
     ]
    },
    {
     "name": "stdout",
     "output_type": "stream",
     "text": [
      "=True"
     ]
    },
    {
     "name": "stdout",
     "output_type": "stream",
     "text": [
      ")\n"
     ]
    },
    {
     "name": "stdout",
     "output_type": "stream",
     "text": [
      "   "
     ]
    },
    {
     "name": "stdout",
     "output_type": "stream",
     "text": [
      " with"
     ]
    },
    {
     "name": "stdout",
     "output_type": "stream",
     "text": [
      " open"
     ]
    },
    {
     "name": "stdout",
     "output_type": "stream",
     "text": [
      "('"
     ]
    },
    {
     "name": "stdout",
     "output_type": "stream",
     "text": [
      "equ"
     ]
    },
    {
     "name": "stdout",
     "output_type": "stream",
     "text": [
      "ilibr"
     ]
    },
    {
     "name": "stdout",
     "output_type": "stream",
     "text": [
      "ated"
     ]
    },
    {
     "name": "stdout",
     "output_type": "stream",
     "text": [
      "_state"
     ]
    },
    {
     "name": "stdout",
     "output_type": "stream",
     "text": [
      ".xml"
     ]
    },
    {
     "name": "stdout",
     "output_type": "stream",
     "text": [
      "',"
     ]
    },
    {
     "name": "stdout",
     "output_type": "stream",
     "text": [
      " '"
     ]
    },
    {
     "name": "stdout",
     "output_type": "stream",
     "text": [
      "w"
     ]
    },
    {
     "name": "stdout",
     "output_type": "stream",
     "text": [
      "')"
     ]
    },
    {
     "name": "stdout",
     "output_type": "stream",
     "text": [
      " as"
     ]
    },
    {
     "name": "stdout",
     "output_type": "stream",
     "text": [
      " f"
     ]
    },
    {
     "name": "stdout",
     "output_type": "stream",
     "text": [
      ":\n"
     ]
    },
    {
     "name": "stdout",
     "output_type": "stream",
     "text": [
      "       "
     ]
    },
    {
     "name": "stdout",
     "output_type": "stream",
     "text": [
      " f"
     ]
    },
    {
     "name": "stdout",
     "output_type": "stream",
     "text": [
      ".write"
     ]
    },
    {
     "name": "stdout",
     "output_type": "stream",
     "text": [
      "(Xml"
     ]
    },
    {
     "name": "stdout",
     "output_type": "stream",
     "text": [
      "Serializer"
     ]
    },
    {
     "name": "stdout",
     "output_type": "stream",
     "text": [
      ".serialize"
     ]
    },
    {
     "name": "stdout",
     "output_type": "stream",
     "text": [
      "(state"
     ]
    },
    {
     "name": "stdout",
     "output_type": "stream",
     "text": [
      "))\n"
     ]
    },
    {
     "name": "stdout",
     "output_type": "stream",
     "text": [
      "    \n"
     ]
    },
    {
     "name": "stdout",
     "output_type": "stream",
     "text": [
      "   "
     ]
    },
    {
     "name": "stdout",
     "output_type": "stream",
     "text": [
      " print"
     ]
    },
    {
     "name": "stdout",
     "output_type": "stream",
     "text": [
      "(\""
     ]
    },
    {
     "name": "stdout",
     "output_type": "stream",
     "text": [
      "System"
     ]
    },
    {
     "name": "stdout",
     "output_type": "stream",
     "text": [
      " prepared"
     ]
    },
    {
     "name": "stdout",
     "output_type": "stream",
     "text": [
      " and"
     ]
    },
    {
     "name": "stdout",
     "output_type": "stream",
     "text": [
      " equilibr"
     ]
    },
    {
     "name": "stdout",
     "output_type": "stream",
     "text": [
      "ated"
     ]
    },
    {
     "name": "stdout",
     "output_type": "stream",
     "text": [
      ".\")\n",
      "\n"
     ]
    },
    {
     "name": "stdout",
     "output_type": "stream",
     "text": [
      "prepare"
     ]
    },
    {
     "name": "stdout",
     "output_type": "stream",
     "text": [
      "_sim"
     ]
    },
    {
     "name": "stdout",
     "output_type": "stream",
     "text": [
      "ulation"
     ]
    },
    {
     "name": "stdout",
     "output_type": "stream",
     "text": [
      "(\""
     ]
    },
    {
     "name": "stdout",
     "output_type": "stream",
     "text": [
      "1"
     ]
    },
    {
     "name": "stdout",
     "output_type": "stream",
     "text": [
      "A"
     ]
    },
    {
     "name": "stdout",
     "output_type": "stream",
     "text": [
      "3"
     ]
    },
    {
     "name": "stdout",
     "output_type": "stream",
     "text": [
      "N"
     ]
    },
    {
     "name": "stdout",
     "output_type": "stream",
     "text": [
      ".p"
     ]
    },
    {
     "name": "stdout",
     "output_type": "stream",
     "text": [
      "db"
     ]
    },
    {
     "name": "stdout",
     "output_type": "stream",
     "text": [
      "\")\n"
     ]
    },
    {
     "name": "stdout",
     "output_type": "stream",
     "text": [
      "``"
     ]
    },
    {
     "name": "stdout",
     "output_type": "stream",
     "text": [
      "`\n",
      "\n"
     ]
    },
    {
     "name": "stdout",
     "output_type": "stream",
     "text": [
      "###"
     ]
    },
    {
     "name": "stdout",
     "output_type": "stream",
     "text": [
      " Step"
     ]
    },
    {
     "name": "stdout",
     "output_type": "stream",
     "text": [
      " "
     ]
    },
    {
     "name": "stdout",
     "output_type": "stream",
     "text": [
      "3"
     ]
    },
    {
     "name": "stdout",
     "output_type": "stream",
     "text": [
      ":"
     ]
    },
    {
     "name": "stdout",
     "output_type": "stream",
     "text": [
      " Run"
     ]
    },
    {
     "name": "stdout",
     "output_type": "stream",
     "text": [
      " the"
     ]
    },
    {
     "name": "stdout",
     "output_type": "stream",
     "text": [
      " molecular"
     ]
    },
    {
     "name": "stdout",
     "output_type": "stream",
     "text": [
      " dynamics"
     ]
    },
    {
     "name": "stdout",
     "output_type": "stream",
     "text": [
      " simulation"
     ]
    },
    {
     "name": "stdout",
     "output_type": "stream",
     "text": [
      "\n",
      "\n"
     ]
    },
    {
     "name": "stdout",
     "output_type": "stream",
     "text": [
      "```"
     ]
    },
    {
     "name": "stdout",
     "output_type": "stream",
     "text": [
      "python"
     ]
    },
    {
     "name": "stdout",
     "output_type": "stream",
     "text": [
      "\n"
     ]
    },
    {
     "name": "stdout",
     "output_type": "stream",
     "text": [
      "def"
     ]
    },
    {
     "name": "stdout",
     "output_type": "stream",
     "text": [
      " run"
     ]
    },
    {
     "name": "stdout",
     "output_type": "stream",
     "text": [
      "_sim"
     ]
    },
    {
     "name": "stdout",
     "output_type": "stream",
     "text": [
      "ulation"
     ]
    },
    {
     "name": "stdout",
     "output_type": "stream",
     "text": [
      "():\n"
     ]
    },
    {
     "name": "stdout",
     "output_type": "stream",
     "text": [
      "   "
     ]
    },
    {
     "name": "stdout",
     "output_type": "stream",
     "text": [
      " #"
     ]
    },
    {
     "name": "stdout",
     "output_type": "stream",
     "text": [
      " Load"
     ]
    },
    {
     "name": "stdout",
     "output_type": "stream",
     "text": [
      " the"
     ]
    },
    {
     "name": "stdout",
     "output_type": "stream",
     "text": [
      " equilibr"
     ]
    },
    {
     "name": "stdout",
     "output_type": "stream",
     "text": [
      "ated"
     ]
    },
    {
     "name": "stdout",
     "output_type": "stream",
     "text": [
      " state"
     ]
    },
    {
     "name": "stdout",
     "output_type": "stream",
     "text": [
      "\n"
     ]
    },
    {
     "name": "stdout",
     "output_type": "stream",
     "text": [
      "   "
     ]
    },
    {
     "name": "stdout",
     "output_type": "stream",
     "text": [
      " with"
     ]
    },
    {
     "name": "stdout",
     "output_type": "stream",
     "text": [
      " open"
     ]
    },
    {
     "name": "stdout",
     "output_type": "stream",
     "text": [
      "('"
     ]
    },
    {
     "name": "stdout",
     "output_type": "stream",
     "text": [
      "equ"
     ]
    },
    {
     "name": "stdout",
     "output_type": "stream",
     "text": [
      "ilibr"
     ]
    },
    {
     "name": "stdout",
     "output_type": "stream",
     "text": [
      "ated"
     ]
    },
    {
     "name": "stdout",
     "output_type": "stream",
     "text": [
      "_state"
     ]
    },
    {
     "name": "stdout",
     "output_type": "stream",
     "text": [
      ".xml"
     ]
    },
    {
     "name": "stdout",
     "output_type": "stream",
     "text": [
      "',"
     ]
    },
    {
     "name": "stdout",
     "output_type": "stream",
     "text": [
      " '"
     ]
    },
    {
     "name": "stdout",
     "output_type": "stream",
     "text": [
      "r"
     ]
    },
    {
     "name": "stdout",
     "output_type": "stream",
     "text": [
      "')"
     ]
    },
    {
     "name": "stdout",
     "output_type": "stream",
     "text": [
      " as"
     ]
    },
    {
     "name": "stdout",
     "output_type": "stream",
     "text": [
      " f"
     ]
    },
    {
     "name": "stdout",
     "output_type": "stream",
     "text": [
      ":\n"
     ]
    },
    {
     "name": "stdout",
     "output_type": "stream",
     "text": [
      "       "
     ]
    },
    {
     "name": "stdout",
     "output_type": "stream",
     "text": [
      " state"
     ]
    },
    {
     "name": "stdout",
     "output_type": "stream",
     "text": [
      " ="
     ]
    },
    {
     "name": "stdout",
     "output_type": "stream",
     "text": [
      " Xml"
     ]
    },
    {
     "name": "stdout",
     "output_type": "stream",
     "text": [
      "Serializer"
     ]
    },
    {
     "name": "stdout",
     "output_type": "stream",
     "text": [
      ".deserialize"
     ]
    },
    {
     "name": "stdout",
     "output_type": "stream",
     "text": [
      "(f"
     ]
    },
    {
     "name": "stdout",
     "output_type": "stream",
     "text": [
      ".read"
     ]
    },
    {
     "name": "stdout",
     "output_type": "stream",
     "text": [
      "())\n"
     ]
    },
    {
     "name": "stdout",
     "output_type": "stream",
     "text": [
      "    \n"
     ]
    },
    {
     "name": "stdout",
     "output_type": "stream",
     "text": [
      "   "
     ]
    },
    {
     "name": "stdout",
     "output_type": "stream",
     "text": [
      " #"
     ]
    },
    {
     "name": "stdout",
     "output_type": "stream",
     "text": [
      " Create"
     ]
    },
    {
     "name": "stdout",
     "output_type": "stream",
     "text": [
      " the"
     ]
    },
    {
     "name": "stdout",
     "output_type": "stream",
     "text": [
      " simulation"
     ]
    },
    {
     "name": "stdout",
     "output_type": "stream",
     "text": [
      " object"
     ]
    },
    {
     "name": "stdout",
     "output_type": "stream",
     "text": [
      " again"
     ]
    },
    {
     "name": "stdout",
     "output_type": "stream",
     "text": [
      "\n"
     ]
    },
    {
     "name": "stdout",
     "output_type": "stream",
     "text": [
      "   "
     ]
    },
    {
     "name": "stdout",
     "output_type": "stream",
     "text": [
      " pdb"
     ]
    },
    {
     "name": "stdout",
     "output_type": "stream",
     "text": [
      " ="
     ]
    },
    {
     "name": "stdout",
     "output_type": "stream",
     "text": [
      " P"
     ]
    },
    {
     "name": "stdout",
     "output_type": "stream",
     "text": [
      "DB"
     ]
    },
    {
     "name": "stdout",
     "output_type": "stream",
     "text": [
      "File"
     ]
    },
    {
     "name": "stdout",
     "output_type": "stream",
     "text": [
      "(\""
     ]
    },
    {
     "name": "stdout",
     "output_type": "stream",
     "text": [
      "1"
     ]
    },
    {
     "name": "stdout",
     "output_type": "stream",
     "text": [
      "A"
     ]
    },
    {
     "name": "stdout",
     "output_type": "stream",
     "text": [
      "3"
     ]
    },
    {
     "name": "stdout",
     "output_type": "stream",
     "text": [
      "N"
     ]
    },
    {
     "name": "stdout",
     "output_type": "stream",
     "text": [
      ".p"
     ]
    },
    {
     "name": "stdout",
     "output_type": "stream",
     "text": [
      "db"
     ]
    },
    {
     "name": "stdout",
     "output_type": "stream",
     "text": [
      "\")\n"
     ]
    },
    {
     "name": "stdout",
     "output_type": "stream",
     "text": [
      "   "
     ]
    },
    {
     "name": "stdout",
     "output_type": "stream",
     "text": [
      " force"
     ]
    },
    {
     "name": "stdout",
     "output_type": "stream",
     "text": [
      "field"
     ]
    },
    {
     "name": "stdout",
     "output_type": "stream",
     "text": [
      " ="
     ]
    },
    {
     "name": "stdout",
     "output_type": "stream",
     "text": [
      " Force"
     ]
    },
    {
     "name": "stdout",
     "output_type": "stream",
     "text": [
      "Field"
     ]
    },
    {
     "name": "stdout",
     "output_type": "stream",
     "text": [
      "('"
     ]
    },
    {
     "name": "stdout",
     "output_type": "stream",
     "text": [
      "amber"
     ]
    },
    {
     "name": "stdout",
     "output_type": "stream",
     "text": [
      "14"
     ]
    },
    {
     "name": "stdout",
     "output_type": "stream",
     "text": [
      "-all"
     ]
    },
    {
     "name": "stdout",
     "output_type": "stream",
     "text": [
      ".xml"
     ]
    },
    {
     "name": "stdout",
     "output_type": "stream",
     "text": [
      "',"
     ]
    },
    {
     "name": "stdout",
     "output_type": "stream",
     "text": [
      " '"
     ]
    },
    {
     "name": "stdout",
     "output_type": "stream",
     "text": [
      "amber"
     ]
    },
    {
     "name": "stdout",
     "output_type": "stream",
     "text": [
      "14"
     ]
    },
    {
     "name": "stdout",
     "output_type": "stream",
     "text": [
      "/t"
     ]
    },
    {
     "name": "stdout",
     "output_type": "stream",
     "text": [
      "ip"
     ]
    },
    {
     "name": "stdout",
     "output_type": "stream",
     "text": [
      "3"
     ]
    },
    {
     "name": "stdout",
     "output_type": "stream",
     "text": [
      "pf"
     ]
    },
    {
     "name": "stdout",
     "output_type": "stream",
     "text": [
      "b"
     ]
    },
    {
     "name": "stdout",
     "output_type": "stream",
     "text": [
      ".xml"
     ]
    },
    {
     "name": "stdout",
     "output_type": "stream",
     "text": [
      "')\n"
     ]
    },
    {
     "name": "stdout",
     "output_type": "stream",
     "text": [
      "   "
     ]
    },
    {
     "name": "stdout",
     "output_type": "stream",
     "text": [
      " modeller"
     ]
    },
    {
     "name": "stdout",
     "output_type": "stream",
     "text": [
      " ="
     ]
    },
    {
     "name": "stdout",
     "output_type": "stream",
     "text": [
      " Mod"
     ]
    },
    {
     "name": "stdout",
     "output_type": "stream",
     "text": [
      "eller"
     ]
    },
    {
     "name": "stdout",
     "output_type": "stream",
     "text": [
      "(p"
     ]
    },
    {
     "name": "stdout",
     "output_type": "stream",
     "text": [
      "db"
     ]
    },
    {
     "name": "stdout",
     "output_type": "stream",
     "text": [
      ".top"
     ]
    },
    {
     "name": "stdout",
     "output_type": "stream",
     "text": [
      "ology"
     ]
    },
    {
     "name": "stdout",
     "output_type": "stream",
     "text": [
      ","
     ]
    },
    {
     "name": "stdout",
     "output_type": "stream",
     "text": [
      " pdb"
     ]
    },
    {
     "name": "stdout",
     "output_type": "stream",
     "text": [
      ".positions"
     ]
    },
    {
     "name": "stdout",
     "output_type": "stream",
     "text": [
      ")\n"
     ]
    },
    {
     "name": "stdout",
     "output_type": "stream",
     "text": [
      "   "
     ]
    },
    {
     "name": "stdout",
     "output_type": "stream",
     "text": [
      " modeller"
     ]
    },
    {
     "name": "stdout",
     "output_type": "stream",
     "text": [
      ".add"
     ]
    },
    {
     "name": "stdout",
     "output_type": "stream",
     "text": [
      "Sol"
     ]
    },
    {
     "name": "stdout",
     "output_type": "stream",
     "text": [
      "vent"
     ]
    },
    {
     "name": "stdout",
     "output_type": "stream",
     "text": [
      "(force"
     ]
    },
    {
     "name": "stdout",
     "output_type": "stream",
     "text": [
      "field"
     ]
    },
    {
     "name": "stdout",
     "output_type": "stream",
     "text": [
      ","
     ]
    },
    {
     "name": "stdout",
     "output_type": "stream",
     "text": [
      " model"
     ]
    },
    {
     "name": "stdout",
     "output_type": "stream",
     "text": [
      "='"
     ]
    },
    {
     "name": "stdout",
     "output_type": "stream",
     "text": [
      "tip"
     ]
    },
    {
     "name": "stdout",
     "output_type": "stream",
     "text": [
      "3"
     ]
    },
    {
     "name": "stdout",
     "output_type": "stream",
     "text": [
      "p"
     ]
    },
    {
     "name": "stdout",
     "output_type": "stream",
     "text": [
      "',"
     ]
    },
    {
     "name": "stdout",
     "output_type": "stream",
     "text": [
      " padding"
     ]
    },
    {
     "name": "stdout",
     "output_type": "stream",
     "text": [
      "="
     ]
    },
    {
     "name": "stdout",
     "output_type": "stream",
     "text": [
      "1"
     ]
    },
    {
     "name": "stdout",
     "output_type": "stream",
     "text": [
      "."
     ]
    },
    {
     "name": "stdout",
     "output_type": "stream",
     "text": [
      "0"
     ]
    },
    {
     "name": "stdout",
     "output_type": "stream",
     "text": [
      "*"
     ]
    },
    {
     "name": "stdout",
     "output_type": "stream",
     "text": [
      "nan"
     ]
    },
    {
     "name": "stdout",
     "output_type": "stream",
     "text": [
      "ometer"
     ]
    },
    {
     "name": "stdout",
     "output_type": "stream",
     "text": [
      ")\n"
     ]
    },
    {
     "name": "stdout",
     "output_type": "stream",
     "text": [
      "   "
     ]
    },
    {
     "name": "stdout",
     "output_type": "stream",
     "text": [
      " system"
     ]
    },
    {
     "name": "stdout",
     "output_type": "stream",
     "text": [
      " ="
     ]
    },
    {
     "name": "stdout",
     "output_type": "stream",
     "text": [
      " force"
     ]
    },
    {
     "name": "stdout",
     "output_type": "stream",
     "text": [
      "field"
     ]
    },
    {
     "name": "stdout",
     "output_type": "stream",
     "text": [
      ".create"
     ]
    },
    {
     "name": "stdout",
     "output_type": "stream",
     "text": [
      "System"
     ]
    },
    {
     "name": "stdout",
     "output_type": "stream",
     "text": [
      "(mod"
     ]
    },
    {
     "name": "stdout",
     "output_type": "stream",
     "text": [
      "eller"
     ]
    },
    {
     "name": "stdout",
     "output_type": "stream",
     "text": [
      ".top"
     ]
    },
    {
     "name": "stdout",
     "output_type": "stream",
     "text": [
      "ology"
     ]
    },
    {
     "name": "stdout",
     "output_type": "stream",
     "text": [
      ","
     ]
    },
    {
     "name": "stdout",
     "output_type": "stream",
     "text": [
      " non"
     ]
    },
    {
     "name": "stdout",
     "output_type": "stream",
     "text": [
      "bond"
     ]
    },
    {
     "name": "stdout",
     "output_type": "stream",
     "text": [
      "ed"
     ]
    },
    {
     "name": "stdout",
     "output_type": "stream",
     "text": [
      "Method"
     ]
    },
    {
     "name": "stdout",
     "output_type": "stream",
     "text": [
      "="
     ]
    },
    {
     "name": "stdout",
     "output_type": "stream",
     "text": [
      "PM"
     ]
    },
    {
     "name": "stdout",
     "output_type": "stream",
     "text": [
      "E"
     ]
    },
    {
     "name": "stdout",
     "output_type": "stream",
     "text": [
      ","
     ]
    },
    {
     "name": "stdout",
     "output_type": "stream",
     "text": [
      " \n"
     ]
    },
    {
     "name": "stdout",
     "output_type": "stream",
     "text": [
      "                                    "
     ]
    },
    {
     "name": "stdout",
     "output_type": "stream",
     "text": [
      " non"
     ]
    },
    {
     "name": "stdout",
     "output_type": "stream",
     "text": [
      "bond"
     ]
    },
    {
     "name": "stdout",
     "output_type": "stream",
     "text": [
      "ed"
     ]
    },
    {
     "name": "stdout",
     "output_type": "stream",
     "text": [
      "Cut"
     ]
    },
    {
     "name": "stdout",
     "output_type": "stream",
     "text": [
      "off"
     ]
    },
    {
     "name": "stdout",
     "output_type": "stream",
     "text": [
      "="
     ]
    },
    {
     "name": "stdout",
     "output_type": "stream",
     "text": [
      "1"
     ]
    },
    {
     "name": "stdout",
     "output_type": "stream",
     "text": [
      "."
     ]
    },
    {
     "name": "stdout",
     "output_type": "stream",
     "text": [
      "0"
     ]
    },
    {
     "name": "stdout",
     "output_type": "stream",
     "text": [
      "*"
     ]
    },
    {
     "name": "stdout",
     "output_type": "stream",
     "text": [
      "nan"
     ]
    },
    {
     "name": "stdout",
     "output_type": "stream",
     "text": [
      "ometer"
     ]
    },
    {
     "name": "stdout",
     "output_type": "stream",
     "text": [
      ","
     ]
    },
    {
     "name": "stdout",
     "output_type": "stream",
     "text": [
      " constraints"
     ]
    },
    {
     "name": "stdout",
     "output_type": "stream",
     "text": [
      "="
     ]
    },
    {
     "name": "stdout",
     "output_type": "stream",
     "text": [
      "HB"
     ]
    },
    {
     "name": "stdout",
     "output_type": "stream",
     "text": [
      "onds"
     ]
    },
    {
     "name": "stdout",
     "output_type": "stream",
     "text": [
      ")\n"
     ]
    },
    {
     "name": "stdout",
     "output_type": "stream",
     "text": [
      "   "
     ]
    },
    {
     "name": "stdout",
     "output_type": "stream",
     "text": [
      " integr"
     ]
    },
    {
     "name": "stdout",
     "output_type": "stream",
     "text": [
      "ator"
     ]
    },
    {
     "name": "stdout",
     "output_type": "stream",
     "text": [
      " ="
     ]
    },
    {
     "name": "stdout",
     "output_type": "stream",
     "text": [
      " Lange"
     ]
    },
    {
     "name": "stdout",
     "output_type": "stream",
     "text": [
      "vin"
     ]
    },
    {
     "name": "stdout",
     "output_type": "stream",
     "text": [
      "Integrator"
     ]
    },
    {
     "name": "stdout",
     "output_type": "stream",
     "text": [
      "("
     ]
    },
    {
     "name": "stdout",
     "output_type": "stream",
     "text": [
      "300"
     ]
    },
    {
     "name": "stdout",
     "output_type": "stream",
     "text": [
      "*"
     ]
    },
    {
     "name": "stdout",
     "output_type": "stream",
     "text": [
      "kel"
     ]
    },
    {
     "name": "stdout",
     "output_type": "stream",
     "text": [
      "vin"
     ]
    },
    {
     "name": "stdout",
     "output_type": "stream",
     "text": [
      ","
     ]
    },
    {
     "name": "stdout",
     "output_type": "stream",
     "text": [
      " "
     ]
    },
    {
     "name": "stdout",
     "output_type": "stream",
     "text": [
      "1"
     ]
    },
    {
     "name": "stdout",
     "output_type": "stream",
     "text": [
      "/p"
     ]
    },
    {
     "name": "stdout",
     "output_type": "stream",
     "text": [
      "ic"
     ]
    },
    {
     "name": "stdout",
     "output_type": "stream",
     "text": [
      "ose"
     ]
    },
    {
     "name": "stdout",
     "output_type": "stream",
     "text": [
      "cond"
     ]
    },
    {
     "name": "stdout",
     "output_type": "stream",
     "text": [
      ","
     ]
    },
    {
     "name": "stdout",
     "output_type": "stream",
     "text": [
      " "
     ]
    },
    {
     "name": "stdout",
     "output_type": "stream",
     "text": [
      "0"
     ]
    },
    {
     "name": "stdout",
     "output_type": "stream",
     "text": [
      "."
     ]
    },
    {
     "name": "stdout",
     "output_type": "stream",
     "text": [
      "002"
     ]
    },
    {
     "name": "stdout",
     "output_type": "stream",
     "text": [
      "*"
     ]
    },
    {
     "name": "stdout",
     "output_type": "stream",
     "text": [
      "pic"
     ]
    },
    {
     "name": "stdout",
     "output_type": "stream",
     "text": [
      "oseconds"
     ]
    },
    {
     "name": "stdout",
     "output_type": "stream",
     "text": [
      ")\n"
     ]
    },
    {
     "name": "stdout",
     "output_type": "stream",
     "text": [
      "   "
     ]
    },
    {
     "name": "stdout",
     "output_type": "stream",
     "text": [
      " simulation"
     ]
    },
    {
     "name": "stdout",
     "output_type": "stream",
     "text": [
      " ="
     ]
    },
    {
     "name": "stdout",
     "output_type": "stream",
     "text": [
      " Simulation"
     ]
    },
    {
     "name": "stdout",
     "output_type": "stream",
     "text": [
      "(mod"
     ]
    },
    {
     "name": "stdout",
     "output_type": "stream",
     "text": [
      "eller"
     ]
    },
    {
     "name": "stdout",
     "output_type": "stream",
     "text": [
      ".top"
     ]
    },
    {
     "name": "stdout",
     "output_type": "stream",
     "text": [
      "ology"
     ]
    },
    {
     "name": "stdout",
     "output_type": "stream",
     "text": [
      ","
     ]
    },
    {
     "name": "stdout",
     "output_type": "stream",
     "text": [
      " system"
     ]
    },
    {
     "name": "stdout",
     "output_type": "stream",
     "text": [
      ","
     ]
    },
    {
     "name": "stdout",
     "output_type": "stream",
     "text": [
      " integr"
     ]
    },
    {
     "name": "stdout",
     "output_type": "stream",
     "text": [
      "ator"
     ]
    },
    {
     "name": "stdout",
     "output_type": "stream",
     "text": [
      ")\n"
     ]
    },
    {
     "name": "stdout",
     "output_type": "stream",
     "text": [
      "   "
     ]
    },
    {
     "name": "stdout",
     "output_type": "stream",
     "text": [
      " simulation"
     ]
    },
    {
     "name": "stdout",
     "output_type": "stream",
     "text": [
      ".context"
     ]
    },
    {
     "name": "stdout",
     "output_type": "stream",
     "text": [
      ".set"
     ]
    },
    {
     "name": "stdout",
     "output_type": "stream",
     "text": [
      "State"
     ]
    },
    {
     "name": "stdout",
     "output_type": "stream",
     "text": [
      "(state"
     ]
    },
    {
     "name": "stdout",
     "output_type": "stream",
     "text": [
      ")\n"
     ]
    },
    {
     "name": "stdout",
     "output_type": "stream",
     "text": [
      "    \n"
     ]
    },
    {
     "name": "stdout",
     "output_type": "stream",
     "text": [
      "   "
     ]
    },
    {
     "name": "stdout",
     "output_type": "stream",
     "text": [
      " #"
     ]
    },
    {
     "name": "stdout",
     "output_type": "stream",
     "text": [
      " Run"
     ]
    },
    {
     "name": "stdout",
     "output_type": "stream",
     "text": [
      " the"
     ]
    },
    {
     "name": "stdout",
     "output_type": "stream",
     "text": [
      " simulation"
     ]
    },
    {
     "name": "stdout",
     "output_type": "stream",
     "text": [
      "\n"
     ]
    },
    {
     "name": "stdout",
     "output_type": "stream",
     "text": [
      "   "
     ]
    },
    {
     "name": "stdout",
     "output_type": "stream",
     "text": [
      " simulation"
     ]
    },
    {
     "name": "stdout",
     "output_type": "stream",
     "text": [
      ".report"
     ]
    },
    {
     "name": "stdout",
     "output_type": "stream",
     "text": [
      "ers"
     ]
    },
    {
     "name": "stdout",
     "output_type": "stream",
     "text": [
      ".append"
     ]
    },
    {
     "name": "stdout",
     "output_type": "stream",
     "text": [
      "(D"
     ]
    },
    {
     "name": "stdout",
     "output_type": "stream",
     "text": [
      "CD"
     ]
    },
    {
     "name": "stdout",
     "output_type": "stream",
     "text": [
      "Reporter"
     ]
    },
    {
     "name": "stdout",
     "output_type": "stream",
     "text": [
      "('"
     ]
    },
    {
     "name": "stdout",
     "output_type": "stream",
     "text": [
      "trajectory"
     ]
    },
    {
     "name": "stdout",
     "output_type": "stream",
     "text": [
      ".d"
     ]
    },
    {
     "name": "stdout",
     "output_type": "stream",
     "text": [
      "cd"
     ]
    },
    {
     "name": "stdout",
     "output_type": "stream",
     "text": [
      "',"
     ]
    },
    {
     "name": "stdout",
     "output_type": "stream",
     "text": [
      " "
     ]
    },
    {
     "name": "stdout",
     "output_type": "stream",
     "text": [
      "100"
     ]
    },
    {
     "name": "stdout",
     "output_type": "stream",
     "text": [
      "0"
     ]
    },
    {
     "name": "stdout",
     "output_type": "stream",
     "text": [
      "))\n"
     ]
    },
    {
     "name": "stdout",
     "output_type": "stream",
     "text": [
      "   "
     ]
    },
    {
     "name": "stdout",
     "output_type": "stream",
     "text": [
      " simulation"
     ]
    },
    {
     "name": "stdout",
     "output_type": "stream",
     "text": [
      ".report"
     ]
    },
    {
     "name": "stdout",
     "output_type": "stream",
     "text": [
      "ers"
     ]
    },
    {
     "name": "stdout",
     "output_type": "stream",
     "text": [
      ".append"
     ]
    },
    {
     "name": "stdout",
     "output_type": "stream",
     "text": [
      "(State"
     ]
    },
    {
     "name": "stdout",
     "output_type": "stream",
     "text": [
      "Data"
     ]
    },
    {
     "name": "stdout",
     "output_type": "stream",
     "text": [
      "Reporter"
     ]
    },
    {
     "name": "stdout",
     "output_type": "stream",
     "text": [
      "('"
     ]
    },
    {
     "name": "stdout",
     "output_type": "stream",
     "text": [
      "data"
     ]
    },
    {
     "name": "stdout",
     "output_type": "stream",
     "text": [
      ".log"
     ]
    },
    {
     "name": "stdout",
     "output_type": "stream",
     "text": [
      "',"
     ]
    },
    {
     "name": "stdout",
     "output_type": "stream",
     "text": [
      " "
     ]
    },
    {
     "name": "stdout",
     "output_type": "stream",
     "text": [
      "100"
     ]
    },
    {
     "name": "stdout",
     "output_type": "stream",
     "text": [
      "0"
     ]
    },
    {
     "name": "stdout",
     "output_type": "stream",
     "text": [
      ","
     ]
    },
    {
     "name": "stdout",
     "output_type": "stream",
     "text": [
      " step"
     ]
    },
    {
     "name": "stdout",
     "output_type": "stream",
     "text": [
      "=True"
     ]
    },
    {
     "name": "stdout",
     "output_type": "stream",
     "text": [
      ",\n"
     ]
    },
    {
     "name": "stdout",
     "output_type": "stream",
     "text": [
      "                                                 "
     ]
    },
    {
     "name": "stdout",
     "output_type": "stream",
     "text": [
      " potential"
     ]
    },
    {
     "name": "stdout",
     "output_type": "stream",
     "text": [
      "Energy"
     ]
    },
    {
     "name": "stdout",
     "output_type": "stream",
     "text": [
      "=True"
     ]
    },
    {
     "name": "stdout",
     "output_type": "stream",
     "text": [
      ","
     ]
    },
    {
     "name": "stdout",
     "output_type": "stream",
     "text": [
      " temperature"
     ]
    },
    {
     "name": "stdout",
     "output_type": "stream",
     "text": [
      "=True"
     ]
    },
    {
     "name": "stdout",
     "output_type": "stream",
     "text": [
      "))\n"
     ]
    },
    {
     "name": "stdout",
     "output_type": "stream",
     "text": [
      "   "
     ]
    },
    {
     "name": "stdout",
     "output_type": "stream",
     "text": [
      " simulation"
     ]
    },
    {
     "name": "stdout",
     "output_type": "stream",
     "text": [
      ".step"
     ]
    },
    {
     "name": "stdout",
     "output_type": "stream",
     "text": [
      "("
     ]
    },
    {
     "name": "stdout",
     "output_type": "stream",
     "text": [
      "500"
     ]
    },
    {
     "name": "stdout",
     "output_type": "stream",
     "text": [
      "00"
     ]
    },
    {
     "name": "stdout",
     "output_type": "stream",
     "text": [
      ")"
     ]
    },
    {
     "name": "stdout",
     "output_type": "stream",
     "text": [
      " "
     ]
    },
    {
     "name": "stdout",
     "output_type": "stream",
     "text": [
      " #"
     ]
    },
    {
     "name": "stdout",
     "output_type": "stream",
     "text": [
      " Run"
     ]
    },
    {
     "name": "stdout",
     "output_type": "stream",
     "text": [
      " "
     ]
    },
    {
     "name": "stdout",
     "output_type": "stream",
     "text": [
      "50"
     ]
    },
    {
     "name": "stdout",
     "output_type": "stream",
     "text": [
      ","
     ]
    },
    {
     "name": "stdout",
     "output_type": "stream",
     "text": [
      "000"
     ]
    },
    {
     "name": "stdout",
     "output_type": "stream",
     "text": [
      " steps"
     ]
    },
    {
     "name": "stdout",
     "output_type": "stream",
     "text": [
      " of"
     ]
    },
    {
     "name": "stdout",
     "output_type": "stream",
     "text": [
      " production"
     ]
    },
    {
     "name": "stdout",
     "output_type": "stream",
     "text": [
      "\n",
      "    \n"
     ]
    },
    {
     "name": "stdout",
     "output_type": "stream",
     "text": [
      "   "
     ]
    },
    {
     "name": "stdout",
     "output_type": "stream",
     "text": [
      " print"
     ]
    },
    {
     "name": "stdout",
     "output_type": "stream",
     "text": [
      "(\""
     ]
    },
    {
     "name": "stdout",
     "output_type": "stream",
     "text": [
      "Simulation"
     ]
    },
    {
     "name": "stdout",
     "output_type": "stream",
     "text": [
      " completed"
     ]
    },
    {
     "name": "stdout",
     "output_type": "stream",
     "text": [
      ".\")\n",
      "\n"
     ]
    },
    {
     "name": "stdout",
     "output_type": "stream",
     "text": [
      "run"
     ]
    },
    {
     "name": "stdout",
     "output_type": "stream",
     "text": [
      "_sim"
     ]
    },
    {
     "name": "stdout",
     "output_type": "stream",
     "text": [
      "ulation"
     ]
    },
    {
     "name": "stdout",
     "output_type": "stream",
     "text": [
      "()\n"
     ]
    },
    {
     "name": "stdout",
     "output_type": "stream",
     "text": [
      "``"
     ]
    },
    {
     "name": "stdout",
     "output_type": "stream",
     "text": [
      "`\n",
      "\n"
     ]
    },
    {
     "name": "stdout",
     "output_type": "stream",
     "text": [
      "###"
     ]
    },
    {
     "name": "stdout",
     "output_type": "stream",
     "text": [
      " Step"
     ]
    },
    {
     "name": "stdout",
     "output_type": "stream",
     "text": [
      " "
     ]
    },
    {
     "name": "stdout",
     "output_type": "stream",
     "text": [
      "4"
     ]
    },
    {
     "name": "stdout",
     "output_type": "stream",
     "text": [
      ":"
     ]
    },
    {
     "name": "stdout",
     "output_type": "stream",
     "text": [
      " Analyze"
     ]
    },
    {
     "name": "stdout",
     "output_type": "stream",
     "text": [
      " the"
     ]
    },
    {
     "name": "stdout",
     "output_type": "stream",
     "text": [
      " RDF"
     ]
    },
    {
     "name": "stdout",
     "output_type": "stream",
     "text": [
      "\n",
      "\n"
     ]
    },
    {
     "name": "stdout",
     "output_type": "stream",
     "text": [
      "```"
     ]
    },
    {
     "name": "stdout",
     "output_type": "stream",
     "text": [
      "python"
     ]
    },
    {
     "name": "stdout",
     "output_type": "stream",
     "text": [
      "\n"
     ]
    },
    {
     "name": "stdout",
     "output_type": "stream",
     "text": [
      "import"
     ]
    },
    {
     "name": "stdout",
     "output_type": "stream",
     "text": [
      " md"
     ]
    },
    {
     "name": "stdout",
     "output_type": "stream",
     "text": [
      "traj"
     ]
    },
    {
     "name": "stdout",
     "output_type": "stream",
     "text": [
      " as"
     ]
    },
    {
     "name": "stdout",
     "output_type": "stream",
     "text": [
      " md"
     ]
    },
    {
     "name": "stdout",
     "output_type": "stream",
     "text": [
      "\n"
     ]
    },
    {
     "name": "stdout",
     "output_type": "stream",
     "text": [
      "import"
     ]
    },
    {
     "name": "stdout",
     "output_type": "stream",
     "text": [
      " matplotlib"
     ]
    },
    {
     "name": "stdout",
     "output_type": "stream",
     "text": [
      ".pyplot"
     ]
    },
    {
     "name": "stdout",
     "output_type": "stream",
     "text": [
      " as"
     ]
    },
    {
     "name": "stdout",
     "output_type": "stream",
     "text": [
      " plt"
     ]
    },
    {
     "name": "stdout",
     "output_type": "stream",
     "text": [
      "\n",
      "\n"
     ]
    },
    {
     "name": "stdout",
     "output_type": "stream",
     "text": [
      "def"
     ]
    },
    {
     "name": "stdout",
     "output_type": "stream",
     "text": [
      " analyze"
     ]
    },
    {
     "name": "stdout",
     "output_type": "stream",
     "text": [
      "_r"
     ]
    },
    {
     "name": "stdout",
     "output_type": "stream",
     "text": [
      "df"
     ]
    },
    {
     "name": "stdout",
     "output_type": "stream",
     "text": [
      "():\n"
     ]
    },
    {
     "name": "stdout",
     "output_type": "stream",
     "text": [
      "   "
     ]
    },
    {
     "name": "stdout",
     "output_type": "stream",
     "text": [
      " #"
     ]
    },
    {
     "name": "stdout",
     "output_type": "stream",
     "text": [
      " Load"
     ]
    },
    {
     "name": "stdout",
     "output_type": "stream",
     "text": [
      " the"
     ]
    },
    {
     "name": "stdout",
     "output_type": "stream",
     "text": [
      " trajectory"
     ]
    },
    {
     "name": "stdout",
     "output_type": "stream",
     "text": [
      "\n"
     ]
    },
    {
     "name": "stdout",
     "output_type": "stream",
     "text": [
      "   "
     ]
    },
    {
     "name": "stdout",
     "output_type": "stream",
     "text": [
      " traj"
     ]
    },
    {
     "name": "stdout",
     "output_type": "stream",
     "text": [
      " ="
     ]
    },
    {
     "name": "stdout",
     "output_type": "stream",
     "text": [
      " md"
     ]
    },
    {
     "name": "stdout",
     "output_type": "stream",
     "text": [
      ".load"
     ]
    },
    {
     "name": "stdout",
     "output_type": "stream",
     "text": [
      "('"
     ]
    },
    {
     "name": "stdout",
     "output_type": "stream",
     "text": [
      "trajectory"
     ]
    },
    {
     "name": "stdout",
     "output_type": "stream",
     "text": [
      ".d"
     ]
    },
    {
     "name": "stdout",
     "output_type": "stream",
     "text": [
      "cd"
     ]
    },
    {
     "name": "stdout",
     "output_type": "stream",
     "text": [
      "',"
     ]
    },
    {
     "name": "stdout",
     "output_type": "stream",
     "text": [
      " top"
     ]
    },
    {
     "name": "stdout",
     "output_type": "stream",
     "text": [
      "='"
     ]
    },
    {
     "name": "stdout",
     "output_type": "stream",
     "text": [
      "1"
     ]
    },
    {
     "name": "stdout",
     "output_type": "stream",
     "text": [
      "A"
     ]
    },
    {
     "name": "stdout",
     "output_type": "stream",
     "text": [
      "3"
     ]
    },
    {
     "name": "stdout",
     "output_type": "stream",
     "text": [
      "N"
     ]
    },
    {
     "name": "stdout",
     "output_type": "stream",
     "text": [
      ".p"
     ]
    },
    {
     "name": "stdout",
     "output_type": "stream",
     "text": [
      "db"
     ]
    },
    {
     "name": "stdout",
     "output_type": "stream",
     "text": [
      "')\n"
     ]
    },
    {
     "name": "stdout",
     "output_type": "stream",
     "text": [
      "    \n"
     ]
    },
    {
     "name": "stdout",
     "output_type": "stream",
     "text": [
      "   "
     ]
    },
    {
     "name": "stdout",
     "output_type": "stream",
     "text": [
      " #"
     ]
    },
    {
     "name": "stdout",
     "output_type": "stream",
     "text": [
      " Select"
     ]
    },
    {
     "name": "stdout",
     "output_type": "stream",
     "text": [
      " atoms"
     ]
    },
    {
     "name": "stdout",
     "output_type": "stream",
     "text": [
      " for"
     ]
    },
    {
     "name": "stdout",
     "output_type": "stream",
     "text": [
      " RDF"
     ]
    },
    {
     "name": "stdout",
     "output_type": "stream",
     "text": [
      " calculation"
     ]
    },
    {
     "name": "stdout",
     "output_type": "stream",
     "text": [
      " ("
     ]
    },
    {
     "name": "stdout",
     "output_type": "stream",
     "text": [
      "e"
     ]
    },
    {
     "name": "stdout",
     "output_type": "stream",
     "text": [
      ".g"
     ]
    },
    {
     "name": "stdout",
     "output_type": "stream",
     "text": [
      ".,"
     ]
    },
    {
     "name": "stdout",
     "output_type": "stream",
     "text": [
      " protein"
     ]
    },
    {
     "name": "stdout",
     "output_type": "stream",
     "text": [
      " heavy"
     ]
    },
    {
     "name": "stdout",
     "output_type": "stream",
     "text": [
      " atoms"
     ]
    },
    {
     "name": "stdout",
     "output_type": "stream",
     "text": [
      " and"
     ]
    },
    {
     "name": "stdout",
     "output_type": "stream",
     "text": [
      " water"
     ]
    },
    {
     "name": "stdout",
     "output_type": "stream",
     "text": [
      " oxygen"
     ]
    },
    {
     "name": "stdout",
     "output_type": "stream",
     "text": [
      ")\n"
     ]
    },
    {
     "name": "stdout",
     "output_type": "stream",
     "text": [
      "   "
     ]
    },
    {
     "name": "stdout",
     "output_type": "stream",
     "text": [
      " protein"
     ]
    },
    {
     "name": "stdout",
     "output_type": "stream",
     "text": [
      "_atoms"
     ]
    },
    {
     "name": "stdout",
     "output_type": "stream",
     "text": [
      " ="
     ]
    },
    {
     "name": "stdout",
     "output_type": "stream",
     "text": [
      " traj"
     ]
    },
    {
     "name": "stdout",
     "output_type": "stream",
     "text": [
      ".top"
     ]
    },
    {
     "name": "stdout",
     "output_type": "stream",
     "text": [
      "ology"
     ]
    },
    {
     "name": "stdout",
     "output_type": "stream",
     "text": [
      ".select"
     ]
    },
    {
     "name": "stdout",
     "output_type": "stream",
     "text": [
      "('"
     ]
    },
    {
     "name": "stdout",
     "output_type": "stream",
     "text": [
      "protein"
     ]
    },
    {
     "name": "stdout",
     "output_type": "stream",
     "text": [
      " and"
     ]
    },
    {
     "name": "stdout",
     "output_type": "stream",
     "text": [
      " name"
     ]
    },
    {
     "name": "stdout",
     "output_type": "stream",
     "text": [
      " CA"
     ]
    },
    {
     "name": "stdout",
     "output_type": "stream",
     "text": [
      "')\n"
     ]
    },
    {
     "name": "stdout",
     "output_type": "stream",
     "text": [
      "   "
     ]
    },
    {
     "name": "stdout",
     "output_type": "stream",
     "text": [
      " water"
     ]
    },
    {
     "name": "stdout",
     "output_type": "stream",
     "text": [
      "_"
     ]
    },
    {
     "name": "stdout",
     "output_type": "stream",
     "text": [
      "oxygen"
     ]
    },
    {
     "name": "stdout",
     "output_type": "stream",
     "text": [
      " ="
     ]
    },
    {
     "name": "stdout",
     "output_type": "stream",
     "text": [
      " traj"
     ]
    },
    {
     "name": "stdout",
     "output_type": "stream",
     "text": [
      ".top"
     ]
    },
    {
     "name": "stdout",
     "output_type": "stream",
     "text": [
      "ology"
     ]
    },
    {
     "name": "stdout",
     "output_type": "stream",
     "text": [
      ".select"
     ]
    },
    {
     "name": "stdout",
     "output_type": "stream",
     "text": [
      "('"
     ]
    },
    {
     "name": "stdout",
     "output_type": "stream",
     "text": [
      "water"
     ]
    },
    {
     "name": "stdout",
     "output_type": "stream",
     "text": [
      " and"
     ]
    },
    {
     "name": "stdout",
     "output_type": "stream",
     "text": [
      " name"
     ]
    },
    {
     "name": "stdout",
     "output_type": "stream",
     "text": [
      " O"
     ]
    },
    {
     "name": "stdout",
     "output_type": "stream",
     "text": [
      "')\n"
     ]
    },
    {
     "name": "stdout",
     "output_type": "stream",
     "text": [
      "    \n"
     ]
    },
    {
     "name": "stdout",
     "output_type": "stream",
     "text": [
      "   "
     ]
    },
    {
     "name": "stdout",
     "output_type": "stream",
     "text": [
      " #"
     ]
    },
    {
     "name": "stdout",
     "output_type": "stream",
     "text": [
      " Calculate"
     ]
    },
    {
     "name": "stdout",
     "output_type": "stream",
     "text": [
      " RDF"
     ]
    },
    {
     "name": "stdout",
     "output_type": "stream",
     "text": [
      "\n"
     ]
    },
    {
     "name": "stdout",
     "output_type": "stream",
     "text": [
      "   "
     ]
    },
    {
     "name": "stdout",
     "output_type": "stream",
     "text": [
      " rdf"
     ]
    },
    {
     "name": "stdout",
     "output_type": "stream",
     "text": [
      ","
     ]
    },
    {
     "name": "stdout",
     "output_type": "stream",
     "text": [
      " r"
     ]
    },
    {
     "name": "stdout",
     "output_type": "stream",
     "text": [
      " ="
     ]
    },
    {
     "name": "stdout",
     "output_type": "stream",
     "text": [
      " md"
     ]
    },
    {
     "name": "stdout",
     "output_type": "stream",
     "text": [
      ".compute"
     ]
    },
    {
     "name": "stdout",
     "output_type": "stream",
     "text": [
      "_r"
     ]
    },
    {
     "name": "stdout",
     "output_type": "stream",
     "text": [
      "df"
     ]
    },
    {
     "name": "stdout",
     "output_type": "stream",
     "text": [
      "(tr"
     ]
    },
    {
     "name": "stdout",
     "output_type": "stream",
     "text": [
      "aj"
     ]
    },
    {
     "name": "stdout",
     "output_type": "stream",
     "text": [
      ","
     ]
    },
    {
     "name": "stdout",
     "output_type": "stream",
     "text": [
      " pairs"
     ]
    },
    {
     "name": "stdout",
     "output_type": "stream",
     "text": [
      "="
     ]
    },
    {
     "name": "stdout",
     "output_type": "stream",
     "text": [
      "md"
     ]
    },
    {
     "name": "stdout",
     "output_type": "stream",
     "text": [
      ".compute"
     ]
    },
    {
     "name": "stdout",
     "output_type": "stream",
     "text": [
      "_pairs"
     ]
    },
    {
     "name": "stdout",
     "output_type": "stream",
     "text": [
      "(tr"
     ]
    },
    {
     "name": "stdout",
     "output_type": "stream",
     "text": [
      "aj"
     ]
    },
    {
     "name": "stdout",
     "output_type": "stream",
     "text": [
      ","
     ]
    },
    {
     "name": "stdout",
     "output_type": "stream",
     "text": [
      " protein"
     ]
    },
    {
     "name": "stdout",
     "output_type": "stream",
     "text": [
      "_atoms"
     ]
    },
    {
     "name": "stdout",
     "output_type": "stream",
     "text": [
      ","
     ]
    },
    {
     "name": "stdout",
     "output_type": "stream",
     "text": [
      " water"
     ]
    },
    {
     "name": "stdout",
     "output_type": "stream",
     "text": [
      "_"
     ]
    },
    {
     "name": "stdout",
     "output_type": "stream",
     "text": [
      "oxygen"
     ]
    },
    {
     "name": "stdout",
     "output_type": "stream",
     "text": [
      "),"
     ]
    },
    {
     "name": "stdout",
     "output_type": "stream",
     "text": [
      " r"
     ]
    },
    {
     "name": "stdout",
     "output_type": "stream",
     "text": [
      "_range"
     ]
    },
    {
     "name": "stdout",
     "output_type": "stream",
     "text": [
      "=("
     ]
    },
    {
     "name": "stdout",
     "output_type": "stream",
     "text": [
      "0"
     ]
    },
    {
     "name": "stdout",
     "output_type": "stream",
     "text": [
      "."
     ]
    },
    {
     "name": "stdout",
     "output_type": "stream",
     "text": [
      "0"
     ]
    },
    {
     "name": "stdout",
     "output_type": "stream",
     "text": [
      ","
     ]
    },
    {
     "name": "stdout",
     "output_type": "stream",
     "text": [
      " "
     ]
    },
    {
     "name": "stdout",
     "output_type": "stream",
     "text": [
      "1"
     ]
    },
    {
     "name": "stdout",
     "output_type": "stream",
     "text": [
      "."
     ]
    },
    {
     "name": "stdout",
     "output_type": "stream",
     "text": [
      "5"
     ]
    },
    {
     "name": "stdout",
     "output_type": "stream",
     "text": [
      "))\n"
     ]
    },
    {
     "name": "stdout",
     "output_type": "stream",
     "text": [
      "    \n"
     ]
    },
    {
     "name": "stdout",
     "output_type": "stream",
     "text": [
      "   "
     ]
    },
    {
     "name": "stdout",
     "output_type": "stream",
     "text": [
      " #"
     ]
    },
    {
     "name": "stdout",
     "output_type": "stream",
     "text": [
      " Plot"
     ]
    },
    {
     "name": "stdout",
     "output_type": "stream",
     "text": [
      " RDF"
     ]
    },
    {
     "name": "stdout",
     "output_type": "stream",
     "text": [
      "\n"
     ]
    },
    {
     "name": "stdout",
     "output_type": "stream",
     "text": [
      "   "
     ]
    },
    {
     "name": "stdout",
     "output_type": "stream",
     "text": [
      " plt"
     ]
    },
    {
     "name": "stdout",
     "output_type": "stream",
     "text": [
      ".plot"
     ]
    },
    {
     "name": "stdout",
     "output_type": "stream",
     "text": [
      "(r"
     ]
    },
    {
     "name": "stdout",
     "output_type": "stream",
     "text": [
      ","
     ]
    },
    {
     "name": "stdout",
     "output_type": "stream",
     "text": [
      " rdf"
     ]
    },
    {
     "name": "stdout",
     "output_type": "stream",
     "text": [
      ")\n"
     ]
    },
    {
     "name": "stdout",
     "output_type": "stream",
     "text": [
      "   "
     ]
    },
    {
     "name": "stdout",
     "output_type": "stream",
     "text": [
      " plt"
     ]
    },
    {
     "name": "stdout",
     "output_type": "stream",
     "text": [
      ".xlabel"
     ]
    },
    {
     "name": "stdout",
     "output_type": "stream",
     "text": [
      "('"
     ]
    },
    {
     "name": "stdout",
     "output_type": "stream",
     "text": [
      "Distance"
     ]
    },
    {
     "name": "stdout",
     "output_type": "stream",
     "text": [
      " ("
     ]
    },
    {
     "name": "stdout",
     "output_type": "stream",
     "text": [
      "nm"
     ]
    },
    {
     "name": "stdout",
     "output_type": "stream",
     "text": [
      ")')\n"
     ]
    },
    {
     "name": "stdout",
     "output_type": "stream",
     "text": [
      "   "
     ]
    },
    {
     "name": "stdout",
     "output_type": "stream",
     "text": [
      " plt"
     ]
    },
    {
     "name": "stdout",
     "output_type": "stream",
     "text": [
      ".ylabel"
     ]
    },
    {
     "name": "stdout",
     "output_type": "stream",
     "text": [
      "('"
     ]
    },
    {
     "name": "stdout",
     "output_type": "stream",
     "text": [
      "g"
     ]
    },
    {
     "name": "stdout",
     "output_type": "stream",
     "text": [
      "(r"
     ]
    },
    {
     "name": "stdout",
     "output_type": "stream",
     "text": [
      ")')\n"
     ]
    },
    {
     "name": "stdout",
     "output_type": "stream",
     "text": [
      "   "
     ]
    },
    {
     "name": "stdout",
     "output_type": "stream",
     "text": [
      " plt"
     ]
    },
    {
     "name": "stdout",
     "output_type": "stream",
     "text": [
      ".title"
     ]
    },
    {
     "name": "stdout",
     "output_type": "stream",
     "text": [
      "('"
     ]
    },
    {
     "name": "stdout",
     "output_type": "stream",
     "text": [
      "Rad"
     ]
    },
    {
     "name": "stdout",
     "output_type": "stream",
     "text": [
      "ial"
     ]
    },
    {
     "name": "stdout",
     "output_type": "stream",
     "text": [
      " Distribution"
     ]
    },
    {
     "name": "stdout",
     "output_type": "stream",
     "text": [
      " Function"
     ]
    },
    {
     "name": "stdout",
     "output_type": "stream",
     "text": [
      "')\n"
     ]
    },
    {
     "name": "stdout",
     "output_type": "stream",
     "text": [
      "   "
     ]
    },
    {
     "name": "stdout",
     "output_type": "stream",
     "text": [
      " plt"
     ]
    },
    {
     "name": "stdout",
     "output_type": "stream",
     "text": [
      ".show"
     ]
    },
    {
     "name": "stdout",
     "output_type": "stream",
     "text": [
      "()\n",
      "\n"
     ]
    },
    {
     "name": "stdout",
     "output_type": "stream",
     "text": [
      "an"
     ]
    },
    {
     "name": "stdout",
     "output_type": "stream",
     "text": [
      "alyze"
     ]
    },
    {
     "name": "stdout",
     "output_type": "stream",
     "text": [
      "_r"
     ]
    },
    {
     "name": "stdout",
     "output_type": "stream",
     "text": [
      "df"
     ]
    },
    {
     "name": "stdout",
     "output_type": "stream",
     "text": [
      "()\n"
     ]
    },
    {
     "name": "stdout",
     "output_type": "stream",
     "text": [
      "``"
     ]
    },
    {
     "name": "stdout",
     "output_type": "stream",
     "text": [
      "`\n",
      "\n"
     ]
    },
    {
     "name": "stdout",
     "output_type": "stream",
     "text": [
      "This"
     ]
    },
    {
     "name": "stdout",
     "output_type": "stream",
     "text": [
      " script"
     ]
    },
    {
     "name": "stdout",
     "output_type": "stream",
     "text": [
      " will"
     ]
    },
    {
     "name": "stdout",
     "output_type": "stream",
     "text": [
      " download"
     ]
    },
    {
     "name": "stdout",
     "output_type": "stream",
     "text": [
      " the"
     ]
    },
    {
     "name": "stdout",
     "output_type": "stream",
     "text": [
      " P"
     ]
    },
    {
     "name": "stdout",
     "output_type": "stream",
     "text": [
      "DB"
     ]
    },
    {
     "name": "stdout",
     "output_type": "stream",
     "text": [
      " file"
     ]
    },
    {
     "name": "stdout",
     "output_type": "stream",
     "text": [
      ","
     ]
    },
    {
     "name": "stdout",
     "output_type": "stream",
     "text": [
      " prepare"
     ]
    },
    {
     "name": "stdout",
     "output_type": "stream",
     "text": [
      " the"
     ]
    },
    {
     "name": "stdout",
     "output_type": "stream",
     "text": [
      " system"
     ]
    },
    {
     "name": "stdout",
     "output_type": "stream",
     "text": [
      ","
     ]
    },
    {
     "name": "stdout",
     "output_type": "stream",
     "text": [
      " run"
     ]
    },
    {
     "name": "stdout",
     "output_type": "stream",
     "text": [
      " the"
     ]
    },
    {
     "name": "stdout",
     "output_type": "stream",
     "text": [
      " simulation"
     ]
    },
    {
     "name": "stdout",
     "output_type": "stream",
     "text": [
      ","
     ]
    },
    {
     "name": "stdout",
     "output_type": "stream",
     "text": [
      " and"
     ]
    },
    {
     "name": "stdout",
     "output_type": "stream",
     "text": [
      " analyze"
     ]
    },
    {
     "name": "stdout",
     "output_type": "stream",
     "text": [
      " the"
     ]
    },
    {
     "name": "stdout",
     "output_type": "stream",
     "text": [
      " RDF"
     ]
    },
    {
     "name": "stdout",
     "output_type": "stream",
     "text": [
      "."
     ]
    },
    {
     "name": "stdout",
     "output_type": "stream",
     "text": [
      " Make"
     ]
    },
    {
     "name": "stdout",
     "output_type": "stream",
     "text": [
      " sure"
     ]
    },
    {
     "name": "stdout",
     "output_type": "stream",
     "text": [
      " you"
     ]
    },
    {
     "name": "stdout",
     "output_type": "stream",
     "text": [
      " have"
     ]
    },
    {
     "name": "stdout",
     "output_type": "stream",
     "text": [
      " the"
     ]
    },
    {
     "name": "stdout",
     "output_type": "stream",
     "text": [
      " necessary"
     ]
    },
    {
     "name": "stdout",
     "output_type": "stream",
     "text": [
      " dependencies"
     ]
    },
    {
     "name": "stdout",
     "output_type": "stream",
     "text": [
      " installed"
     ]
    },
    {
     "name": "stdout",
     "output_type": "stream",
     "text": [
      " (`"
     ]
    },
    {
     "name": "stdout",
     "output_type": "stream",
     "text": [
      "Open"
     ]
    },
    {
     "name": "stdout",
     "output_type": "stream",
     "text": [
      "MM"
     ]
    },
    {
     "name": "stdout",
     "output_type": "stream",
     "text": [
      "`,"
     ]
    },
    {
     "name": "stdout",
     "output_type": "stream",
     "text": [
      " `"
     ]
    },
    {
     "name": "stdout",
     "output_type": "stream",
     "text": [
      "MD"
     ]
    },
    {
     "name": "stdout",
     "output_type": "stream",
     "text": [
      "Tra"
     ]
    },
    {
     "name": "stdout",
     "output_type": "stream",
     "text": [
      "j"
     ]
    },
    {
     "name": "stdout",
     "output_type": "stream",
     "text": [
      "`,"
     ]
    },
    {
     "name": "stdout",
     "output_type": "stream",
     "text": [
      " `"
     ]
    },
    {
     "name": "stdout",
     "output_type": "stream",
     "text": [
      "mat"
     ]
    },
    {
     "name": "stdout",
     "output_type": "stream",
     "text": [
      "plotlib"
     ]
    },
    {
     "name": "stdout",
     "output_type": "stream",
     "text": [
      "`,"
     ]
    },
    {
     "name": "stdout",
     "output_type": "stream",
     "text": [
      " etc"
     ]
    },
    {
     "name": "stdout",
     "output_type": "stream",
     "text": [
      ".)"
     ]
    },
    {
     "name": "stdout",
     "output_type": "stream",
     "text": [
      " before"
     ]
    },
    {
     "name": "stdout",
     "output_type": "stream",
     "text": [
      " running"
     ]
    },
    {
     "name": "stdout",
     "output_type": "stream",
     "text": [
      " the"
     ]
    },
    {
     "name": "stdout",
     "output_type": "stream",
     "text": [
      " script"
     ]
    },
    {
     "name": "stdout",
     "output_type": "stream",
     "text": [
      "."
     ]
    },
    {
     "name": "stdout",
     "output_type": "stream",
     "text": [
      "To analyze the radial distribution function (RDF) of a simulation of the protein 1A3N solvated in water, we need to follow these steps:\n",
      "\n",
      "1. **Download the PDB file for 1A3N**: We'll retrieve the PDB file from the RCSB PDB database.\n",
      "2. **Prepare the system for simulation**: This involves setting up the protein in a water box, adding ions if necessary, and defining the force field parameters.\n",
      "3. **Run the molecular dynamics simulation**: We'll use OpenMM to perform the simulation.\n",
      "4. **Analyze the RDF**: Use MDTraj to calculate and plot the RDF of the system.\n",
      "\n",
      "Let's start by writing a Python script to download the PDB file and set up the simulation.\n",
      "\n",
      "### Step 1: Download the PDB file for 1A3N\n",
      "\n",
      "```python\n",
      "import requests\n",
      "\n",
      "def download_pdb(pdb_id):\n",
      "    url = f\"https://files.rcsb.org/download/{pdb_id}.pdb\"\n",
      "    response = requests.get(url)\n",
      "    if response.status_code == 200:\n",
      "        with open(f\"{pdb_id}.pdb\", \"w\") as file:\n",
      "            file.write(response.text)\n",
      "        print(f\"{pdb_id}.pdb downloaded successfully.\")\n",
      "    else:\n",
      "        print(f\"Failed to download {pdb_id}.pdb.\")\n",
      "\n",
      "download_pdb(\"1A3N\")\n",
      "```\n",
      "\n",
      "### Step 2: Prepare the system for simulation\n",
      "\n",
      "```python\n",
      "from openmm.app import *\n",
      "from openmm import *\n",
      "from openmm.unit import *\n",
      "import os\n",
      "\n",
      "def prepare_simulation(pdb_file):\n",
      "    # Load the PDB file\n",
      "    pdb = PDBFile(pdb_file)\n",
      "    \n",
      "    # Define the force field\n",
      "    forcefield = ForceField('amber14-all.xml', 'amber14/tip3pfb.xml')\n",
      "    \n",
      "    # Create a modeller object\n",
      "    modeller = Modeller(pdb.topology, pdb.positions)\n",
      "    \n",
      "    # Add solvent (water)\n",
      "    modeller.addSolvent(forcefield, model='tip3p', padding=1.0*nanometer)\n",
      "    \n",
      "    # Create the system\n",
      "    system = forcefield.createSystem(modeller.topology, nonbondedMethod=PME, \n",
      "                                     nonbondedCutoff=1.0*nanometer, constraints=HBonds)\n",
      "    \n",
      "    # Set up the integrator\n",
      "    integrator = LangevinIntegrator(300*kelvin, 1/picosecond, 0.002*picoseconds)\n",
      "    \n",
      "    # Create the simulation object\n",
      "    simulation = Simulation(modeller.topology, system, integrator)\n",
      "    simulation.context.setPositions(modeller.positions)\n",
      "    \n",
      "    # Minimize energy\n",
      "    simulation.minimizeEnergy()\n",
      "    \n",
      "    # Equilibrate\n",
      "    simulation.context.setVelocitiesToTemperature(300*kelvin)\n",
      "    simulation.step(10000)  # Run 10,000 steps of equilibration\n",
      "    \n",
      "    # Save the state\n",
      "    state = simulation.context.getState(getPositions=True, getVelocities=True)\n",
      "    with open('equilibrated_state.xml', 'w') as f:\n",
      "        f.write(XmlSerializer.serialize(state))\n",
      "    \n",
      "    print(\"System prepared and equilibrated.\")\n",
      "\n",
      "prepare_simulation(\"1A3N.pdb\")\n",
      "```\n",
      "\n",
      "### Step 3: Run the molecular dynamics simulation\n",
      "\n",
      "```python\n",
      "def run_simulation():\n",
      "    # Load the equilibrated state\n",
      "    with open('equilibrated_state.xml', 'r') as f:\n",
      "        state = XmlSerializer.deserialize(f.read())\n",
      "    \n",
      "    # Create the simulation object again\n",
      "    pdb = PDBFile(\"1A3N.pdb\")\n",
      "    forcefield = ForceField('amber14-all.xml', 'amber14/tip3pfb.xml')\n",
      "    modeller = Modeller(pdb.topology, pdb.positions)\n",
      "    modeller.addSolvent(forcefield, model='tip3p', padding=1.0*nanometer)\n",
      "    system = forcefield.createSystem(modeller.topology, nonbondedMethod=PME, \n",
      "                                     nonbondedCutoff=1.0*nanometer, constraints=HBonds)\n",
      "    integrator = LangevinIntegrator(300*kelvin, 1/picosecond, 0.002*picoseconds)\n",
      "    simulation = Simulation(modeller.topology, system, integrator)\n",
      "    simulation.context.setState(state)\n",
      "    \n",
      "    # Run the simulation\n",
      "    simulation.reporters.append(DCDReporter('trajectory.dcd', 1000))\n",
      "    simulation.reporters.append(StateDataReporter('data.log', 1000, step=True,\n",
      "                                                  potentialEnergy=True, temperature=True))\n",
      "    simulation.step(50000)  # Run 50,000 steps of production\n",
      "    \n",
      "    print(\"Simulation completed.\")\n",
      "\n",
      "run_simulation()\n",
      "```\n",
      "\n",
      "### Step 4: Analyze the RDF\n",
      "\n",
      "```python\n",
      "import mdtraj as md\n",
      "import matplotlib.pyplot as plt\n",
      "\n",
      "def analyze_rdf():\n",
      "    # Load the trajectory\n",
      "    traj = md.load('trajectory.dcd', top='1A3N.pdb')\n",
      "    \n",
      "    # Select atoms for RDF calculation (e.g., protein heavy atoms and water oxygen)\n",
      "    protein_atoms = traj.topology.select('protein and name CA')\n",
      "    water_oxygen = traj.topology.select('water and name O')\n",
      "    \n",
      "    # Calculate RDF\n",
      "    rdf, r = md.compute_rdf(traj, pairs=md.compute_pairs(traj, protein_atoms, water_oxygen), r_range=(0.0, 1.5))\n",
      "    \n",
      "    # Plot RDF\n",
      "    plt.plot(r, rdf)\n",
      "    plt.xlabel('Distance (nm)')\n",
      "    plt.ylabel('g(r)')\n",
      "    plt.title('Radial Distribution Function')\n",
      "    plt.show()\n",
      "\n",
      "analyze_rdf()\n",
      "```\n",
      "\n",
      "This script will download the PDB file, prepare the system, run the simulation, and analyze the RDF. Make sure you have the necessary dependencies installed (`OpenMM`, `MDTraj`, `matplotlib`, etc.) before running the script.\n"
     ]
    }
   ],
   "source": [
    "ai_msg = llm.invoke(messages)\n",
    "print(ai_msg.content)"
   ]
  },
  {
   "cell_type": "code",
   "execution_count": 6,
   "id": "ff0fb577-e1f4-4c3d-bd06-89badfca9f64",
   "metadata": {
    "papermill": {
     "duration": 0.103219,
     "end_time": "2024-10-16T20:53:18.917240",
     "exception": false,
     "start_time": "2024-10-16T20:53:18.814021",
     "status": "completed"
    },
    "tags": []
   },
   "outputs": [
    {
     "name": "stdout",
     "output_type": "stream",
     "text": [
      "date: 2024-10-16\n",
      "time: 20:08:35\n"
     ]
    }
   ],
   "source": [
    "now = datetime.datetime.now()\n",
    "date = now.strftime(\"%Y-%m-%d\")\n",
    "print(\"date:\",date)\n",
    "time = now.strftime(\"%H:%M:%S\")\n",
    "print(\"time:\",time)"
   ]
  },
  {
   "cell_type": "code",
   "execution_count": 7,
   "id": "62f8b672-5c1b-4eae-a537-13a87df37c77",
   "metadata": {},
   "outputs": [
    {
     "name": "stderr",
     "output_type": "stream",
     "text": [
      "Warning: importing 'simtk.openmm' is deprecated.  Import 'openmm' instead.\n"
     ]
    },
    {
     "name": "stdout",
     "output_type": "stream",
     "text": [
      "Step 1\n",
      "Step 2\n"
     ]
    },
    {
     "ename": "ValueError",
     "evalue": "No template found for residue 575 (HEM).  This might mean your input topology is missing some atoms or bonds, or possibly that you are using the wrong force field.  For more information, see https://github.com/openmm/openmm/wiki/Frequently-Asked-Questions#template",
     "output_type": "error",
     "traceback": [
      "\u001b[0;31m---------------------------------------------------------------------------\u001b[0m",
      "\u001b[0;31mValueError\u001b[0m                                Traceback (most recent call last)",
      "Cell \u001b[0;32mIn[7], line 75\u001b[0m\n\u001b[1;32m     72\u001b[0m     plt\u001b[38;5;241m.\u001b[39mshow()\n\u001b[1;32m     74\u001b[0m \u001b[38;5;28;01mif\u001b[39;00m \u001b[38;5;18m__name__\u001b[39m \u001b[38;5;241m==\u001b[39m \u001b[38;5;124m\"\u001b[39m\u001b[38;5;124m__main__\u001b[39m\u001b[38;5;124m\"\u001b[39m:\n\u001b[0;32m---> 75\u001b[0m     \u001b[43mmain\u001b[49m\u001b[43m(\u001b[49m\u001b[43m)\u001b[49m\n",
      "Cell \u001b[0;32mIn[7], line 57\u001b[0m, in \u001b[0;36mmain\u001b[0;34m()\u001b[0m\n\u001b[1;32m     55\u001b[0m download_pdb(pdb_id)\n\u001b[1;32m     56\u001b[0m \u001b[38;5;28mprint\u001b[39m(\u001b[38;5;124m\"\u001b[39m\u001b[38;5;124mStep 2\u001b[39m\u001b[38;5;124m\"\u001b[39m)\n\u001b[0;32m---> 57\u001b[0m simulation \u001b[38;5;241m=\u001b[39m \u001b[43mprepare_system\u001b[49m\u001b[43m(\u001b[49m\u001b[38;5;124;43mf\u001b[39;49m\u001b[38;5;124;43m\"\u001b[39;49m\u001b[38;5;132;43;01m{\u001b[39;49;00m\u001b[43mpdb_id\u001b[49m\u001b[38;5;132;43;01m}\u001b[39;49;00m\u001b[38;5;124;43m.pdb\u001b[39;49m\u001b[38;5;124;43m\"\u001b[39;49m\u001b[43m)\u001b[49m\n\u001b[1;32m     58\u001b[0m \u001b[38;5;28mprint\u001b[39m(\u001b[38;5;124m\"\u001b[39m\u001b[38;5;124mStep 3\u001b[39m\u001b[38;5;124m\"\u001b[39m)\n\u001b[1;32m     59\u001b[0m run_simulation(simulation)\n",
      "Cell \u001b[0;32mIn[7], line 29\u001b[0m, in \u001b[0;36mprepare_system\u001b[0;34m(pdb_file)\u001b[0m\n\u001b[1;32m     27\u001b[0m forcefield \u001b[38;5;241m=\u001b[39m ForceField(\u001b[38;5;124m'\u001b[39m\u001b[38;5;124mamber14-all.xml\u001b[39m\u001b[38;5;124m'\u001b[39m, \u001b[38;5;124m'\u001b[39m\u001b[38;5;124mamber14/tip3pfb.xml\u001b[39m\u001b[38;5;124m'\u001b[39m)\n\u001b[1;32m     28\u001b[0m modeller \u001b[38;5;241m=\u001b[39m Modeller(fixer\u001b[38;5;241m.\u001b[39mtopology, fixer\u001b[38;5;241m.\u001b[39mpositions)\n\u001b[0;32m---> 29\u001b[0m \u001b[43mmodeller\u001b[49m\u001b[38;5;241;43m.\u001b[39;49m\u001b[43maddSolvent\u001b[49m\u001b[43m(\u001b[49m\u001b[43mforcefield\u001b[49m\u001b[43m,\u001b[49m\u001b[43m \u001b[49m\u001b[43mmodel\u001b[49m\u001b[38;5;241;43m=\u001b[39;49m\u001b[38;5;124;43m'\u001b[39;49m\u001b[38;5;124;43mtip3p\u001b[39;49m\u001b[38;5;124;43m'\u001b[39;49m\u001b[43m,\u001b[49m\u001b[43m \u001b[49m\u001b[43mpadding\u001b[49m\u001b[38;5;241;43m=\u001b[39;49m\u001b[38;5;241;43m1.0\u001b[39;49m\u001b[38;5;241;43m*\u001b[39;49m\u001b[43mnanometers\u001b[49m\u001b[43m)\u001b[49m\n\u001b[1;32m     31\u001b[0m system \u001b[38;5;241m=\u001b[39m forcefield\u001b[38;5;241m.\u001b[39mcreateSystem(modeller\u001b[38;5;241m.\u001b[39mtopology, nonbondedMethod\u001b[38;5;241m=\u001b[39mPME,\n\u001b[1;32m     32\u001b[0m                                  nonbondedCutoff\u001b[38;5;241m=\u001b[39m\u001b[38;5;241m1.0\u001b[39m\u001b[38;5;241m*\u001b[39mnanometers, constraints\u001b[38;5;241m=\u001b[39mHBonds)\n\u001b[1;32m     33\u001b[0m integrator \u001b[38;5;241m=\u001b[39m LangevinIntegrator(\u001b[38;5;241m300\u001b[39m\u001b[38;5;241m*\u001b[39mkelvin, \u001b[38;5;241m1\u001b[39m\u001b[38;5;241m/\u001b[39mpicosecond, \u001b[38;5;241m0.002\u001b[39m\u001b[38;5;241m*\u001b[39mpicoseconds)\n",
      "File \u001b[0;32m/scratch/qcampbe2/myenvs/mdcrow/lib/python3.12/site-packages/openmm/app/modeller.py:519\u001b[0m, in \u001b[0;36mModeller.addSolvent\u001b[0;34m(self, forcefield, model, boxSize, boxVectors, padding, numAdded, boxShape, positiveIon, negativeIon, ionicStrength, neutralize, residueTemplates)\u001b[0m\n\u001b[1;32m    515\u001b[0m         \u001b[38;5;28;01mraise\u001b[39;00m \u001b[38;5;167;01mValueError\u001b[39;00m(\u001b[38;5;124m'\u001b[39m\u001b[38;5;124mNeither the box size, box vectors, nor padding was specified, and the Topology does not define unit cell dimensions\u001b[39m\u001b[38;5;124m'\u001b[39m)\n\u001b[1;32m    517\u001b[0m \u001b[38;5;66;03m# Have the ForceField build a System for the solute from which we can determine van der Waals radii.\u001b[39;00m\n\u001b[0;32m--> 519\u001b[0m system \u001b[38;5;241m=\u001b[39m \u001b[43mforcefield\u001b[49m\u001b[38;5;241;43m.\u001b[39;49m\u001b[43mcreateSystem\u001b[49m\u001b[43m(\u001b[49m\u001b[38;5;28;43mself\u001b[39;49m\u001b[38;5;241;43m.\u001b[39;49m\u001b[43mtopology\u001b[49m\u001b[43m,\u001b[49m\u001b[43m \u001b[49m\u001b[43mresidueTemplates\u001b[49m\u001b[38;5;241;43m=\u001b[39;49m\u001b[43mresidueTemplates\u001b[49m\u001b[43m)\u001b[49m\n\u001b[1;32m    520\u001b[0m nonbonded \u001b[38;5;241m=\u001b[39m \u001b[38;5;28;01mNone\u001b[39;00m\n\u001b[1;32m    521\u001b[0m \u001b[38;5;28;01mfor\u001b[39;00m i \u001b[38;5;129;01min\u001b[39;00m \u001b[38;5;28mrange\u001b[39m(system\u001b[38;5;241m.\u001b[39mgetNumForces()):\n",
      "File \u001b[0;32m/scratch/qcampbe2/myenvs/mdcrow/lib/python3.12/site-packages/openmm/app/forcefield.py:1247\u001b[0m, in \u001b[0;36mForceField.createSystem\u001b[0;34m(self, topology, nonbondedMethod, nonbondedCutoff, constraints, rigidWater, removeCMMotion, hydrogenMass, residueTemplates, ignoreExternalBonds, switchDistance, flexibleConstraints, drudeMass, **args)\u001b[0m\n\u001b[1;32m   1243\u001b[0m rigidResidue \u001b[38;5;241m=\u001b[39m [\u001b[38;5;28;01mFalse\u001b[39;00m]\u001b[38;5;241m*\u001b[39mtopology\u001b[38;5;241m.\u001b[39mgetNumResidues()\n\u001b[1;32m   1245\u001b[0m \u001b[38;5;66;03m# Find the template matching each residue and assign atom types.\u001b[39;00m\n\u001b[0;32m-> 1247\u001b[0m templateForResidue \u001b[38;5;241m=\u001b[39m \u001b[38;5;28;43mself\u001b[39;49m\u001b[38;5;241;43m.\u001b[39;49m\u001b[43m_matchAllResiduesToTemplates\u001b[49m\u001b[43m(\u001b[49m\u001b[43mdata\u001b[49m\u001b[43m,\u001b[49m\u001b[43m \u001b[49m\u001b[43mtopology\u001b[49m\u001b[43m,\u001b[49m\u001b[43m \u001b[49m\u001b[43mresidueTemplates\u001b[49m\u001b[43m,\u001b[49m\u001b[43m \u001b[49m\u001b[43mignoreExternalBonds\u001b[49m\u001b[43m)\u001b[49m\n\u001b[1;32m   1248\u001b[0m \u001b[38;5;28;01mfor\u001b[39;00m res \u001b[38;5;129;01min\u001b[39;00m topology\u001b[38;5;241m.\u001b[39mresidues():\n\u001b[1;32m   1249\u001b[0m     \u001b[38;5;28;01mif\u001b[39;00m res\u001b[38;5;241m.\u001b[39mname \u001b[38;5;241m==\u001b[39m \u001b[38;5;124m'\u001b[39m\u001b[38;5;124mHOH\u001b[39m\u001b[38;5;124m'\u001b[39m:\n\u001b[1;32m   1250\u001b[0m         \u001b[38;5;66;03m# Determine whether this should be a rigid water.\u001b[39;00m\n",
      "File \u001b[0;32m/scratch/qcampbe2/myenvs/mdcrow/lib/python3.12/site-packages/openmm/app/forcefield.py:1462\u001b[0m, in \u001b[0;36mForceField._matchAllResiduesToTemplates\u001b[0;34m(self, data, topology, residueTemplates, ignoreExternalBonds, ignoreExtraParticles, recordParameters)\u001b[0m\n\u001b[1;32m   1460\u001b[0m                 \u001b[38;5;28;01mbreak\u001b[39;00m\n\u001b[1;32m   1461\u001b[0m \u001b[38;5;28;01mif\u001b[39;00m matches \u001b[38;5;129;01mis\u001b[39;00m \u001b[38;5;28;01mNone\u001b[39;00m:\n\u001b[0;32m-> 1462\u001b[0m     \u001b[38;5;28;01mraise\u001b[39;00m \u001b[38;5;167;01mValueError\u001b[39;00m(\u001b[38;5;124m'\u001b[39m\u001b[38;5;124mNo template found for residue \u001b[39m\u001b[38;5;132;01m%d\u001b[39;00m\u001b[38;5;124m (\u001b[39m\u001b[38;5;132;01m%s\u001b[39;00m\u001b[38;5;124m).  \u001b[39m\u001b[38;5;132;01m%s\u001b[39;00m\u001b[38;5;124m  For more information, see https://github.com/openmm/openmm/wiki/Frequently-Asked-Questions#template\u001b[39m\u001b[38;5;124m'\u001b[39m \u001b[38;5;241m%\u001b[39m (res\u001b[38;5;241m.\u001b[39mindex\u001b[38;5;241m+\u001b[39m\u001b[38;5;241m1\u001b[39m, res\u001b[38;5;241m.\u001b[39mname, _findMatchErrors(\u001b[38;5;28mself\u001b[39m, res)))\n\u001b[1;32m   1463\u001b[0m \u001b[38;5;28;01melse\u001b[39;00m:\n\u001b[1;32m   1464\u001b[0m     \u001b[38;5;28;01mif\u001b[39;00m recordParameters:\n",
      "\u001b[0;31mValueError\u001b[0m: No template found for residue 575 (HEM).  This might mean your input topology is missing some atoms or bonds, or possibly that you are using the wrong force field.  For more information, see https://github.com/openmm/openmm/wiki/Frequently-Asked-Questions#template"
     ]
    }
   ],
   "source": [
    "# TEST THE CODE \n",
    "import requests\n",
    "from pdbfixer import PDBFixer\n",
    "from openmm.app import *\n",
    "from openmm import *\n",
    "from openmm.unit import *\n",
    "import mdtraj as md\n",
    "import matplotlib.pyplot as plt\n",
    "\n",
    "def download_pdb(pdb_id):\n",
    "    url = f\"https://files.rcsb.org/download/{pdb_id}.pdb\"\n",
    "    response = requests.get(url)\n",
    "    if response.status_code == 200:\n",
    "        with open(f\"{pdb_id}.pdb\", \"w\") as file:\n",
    "            file.write(response.text)\n",
    "    else:\n",
    "        raise Exception(f\"Failed to download PDB file for {pdb_id}\")\n",
    "\n",
    "def prepare_system(pdb_file):\n",
    "    fixer = PDBFixer(filename=pdb_file)\n",
    "    fixer.findMissingResidues()\n",
    "    fixer.findMissingAtoms()\n",
    "    fixer.addMissingAtoms()\n",
    "    fixer.addMissingHydrogens()\n",
    "\n",
    "    forcefield = ForceField('amber14-all.xml', 'amber14/tip3pfb.xml')\n",
    "    modeller = Modeller(fixer.topology, fixer.positions)\n",
    "    modeller.addSolvent(forcefield, model='tip3p', padding=1.0*nanometers)\n",
    "\n",
    "    system = forcefield.createSystem(modeller.topology, nonbondedMethod=PME,\n",
    "                                     nonbondedCutoff=1.0*nanometers, constraints=HBonds)\n",
    "    integrator = LangevinIntegrator(300*kelvin, 1/picosecond, 0.002*picoseconds)\n",
    "    simulation = Simulation(modeller.topology, system, integrator)\n",
    "    simulation.context.setPositions(modeller.positions)\n",
    "\n",
    "    return simulation\n",
    "\n",
    "def run_simulation(simulation, steps=10000):\n",
    "    simulation.minimizeEnergy()\n",
    "    simulation.context.setVelocitiesToTemperature(300*kelvin)\n",
    "    simulation.reporters.append(StateDataReporter(stdout, 1000, step=True,\n",
    "                                                  potentialEnergy=True, temperature=True))\n",
    "    simulation.reporters.append(DCDReporter('trajectory.dcd', 1000))\n",
    "    simulation.step(steps)\n",
    "\n",
    "def compute_rdf(trajectory_file, topology_file, atom_pairs, r_range=(0.0, 1.0), bin_width=0.01):\n",
    "    traj = md.load(trajectory_file, top=topology_file)\n",
    "    rdf, r = md.compute_rdf(traj, pairs=atom_pairs, r_range=r_range, bin_width=bin_width)\n",
    "    return rdf, r\n",
    "\n",
    "def main():\n",
    "    print(\"Step 1\")\n",
    "    pdb_id = \"1A3N\"\n",
    "    download_pdb(pdb_id)\n",
    "    print(\"Step 2\")\n",
    "    simulation = prepare_system(f\"{pdb_id}.pdb\")\n",
    "    print(\"Step 3\")\n",
    "    run_simulation(simulation)\n",
    "\n",
    "    print(\"Step 4\")\n",
    "    # Define atom pairs for RDF calculation (e.g., between oxygen atoms of water molecules)\n",
    "    # This is a placeholder; you need to specify the actual atom indices or selection criteria.\n",
    "    atom_pairs = [(i, j) for i in range(100) for j in range(100, 200)]  # Example pairs\n",
    "\n",
    "    rdf, r = compute_rdf('trajectory.dcd', f\"{pdb_id}.pdb\", atom_pairs)\n",
    "\n",
    "    plt.plot(r, rdf)\n",
    "    plt.xlabel('Distance (nm)')\n",
    "    plt.ylabel('g(r)')\n",
    "    plt.title('Radial Distribution Function')\n",
    "    plt.show()\n",
    "\n",
    "if __name__ == \"__main__\":\n",
    "    main()"
   ]
  },
  {
   "cell_type": "code",
   "execution_count": 1,
   "id": "fa74d1b2-64d8-4d30-ae16-27ed398fb814",
   "metadata": {},
   "outputs": [
    {
     "name": "stdout",
     "output_type": "stream",
     "text": [
      "1A3N.pdb  exp_23.ipynb\n"
     ]
    }
   ],
   "source": [
    "!ls"
   ]
  }
 ],
 "metadata": {
  "kernelspec": {
   "display_name": "mdcrow",
   "language": "python",
   "name": "mdcrow"
  },
  "language_info": {
   "codemirror_mode": {
    "name": "ipython",
    "version": 3
   },
   "file_extension": ".py",
   "mimetype": "text/x-python",
   "name": "python",
   "nbconvert_exporter": "python",
   "pygments_lexer": "ipython3",
   "version": "3.12.4"
  },
  "papermill": {
   "default_parameters": {},
   "duration": 24.481075,
   "end_time": "2024-10-16T20:53:20.054920",
   "environment_variables": {},
   "exception": null,
   "input_path": "exp_template.ipynb",
   "output_path": "exp_23/exp_23.ipynb",
   "parameters": {
    "prompt": "Analyze the RDF of the simulation of 1A3N solvated in water."
   },
   "start_time": "2024-10-16T20:52:55.573845",
   "version": "2.6.0"
  }
 },
 "nbformat": 4,
 "nbformat_minor": 5
}
